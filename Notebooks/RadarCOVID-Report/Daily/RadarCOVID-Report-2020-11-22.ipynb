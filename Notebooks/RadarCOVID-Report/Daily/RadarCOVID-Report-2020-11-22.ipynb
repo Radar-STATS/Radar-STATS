{
 "cells": [
  {
   "cell_type": "markdown",
   "metadata": {
    "papermill": {
     "duration": 0.042072,
     "end_time": "2020-11-22T23:18:24.229250",
     "exception": false,
     "start_time": "2020-11-22T23:18:24.187178",
     "status": "completed"
    },
    "pycharm": {
     "name": "#%% md\n"
    },
    "tags": []
   },
   "source": [
    "# RadarCOVID-Report"
   ]
  },
  {
   "cell_type": "markdown",
   "metadata": {
    "collapsed": true,
    "papermill": {
     "duration": 0.034743,
     "end_time": "2020-11-22T23:18:24.299754",
     "exception": false,
     "start_time": "2020-11-22T23:18:24.265011",
     "status": "completed"
    },
    "pycharm": {
     "name": "#%% md\n"
    },
    "tags": []
   },
   "source": [
    "## Data Extraction"
   ]
  },
  {
   "cell_type": "code",
   "execution_count": 1,
   "metadata": {
    "execution": {
     "iopub.execute_input": "2020-11-22T23:18:24.388076Z",
     "iopub.status.busy": "2020-11-22T23:18:24.387455Z",
     "iopub.status.idle": "2020-11-22T23:18:26.511334Z",
     "shell.execute_reply": "2020-11-22T23:18:26.510697Z"
    },
    "papermill": {
     "duration": 2.172027,
     "end_time": "2020-11-22T23:18:26.511521",
     "exception": false,
     "start_time": "2020-11-22T23:18:24.339494",
     "status": "completed"
    },
    "pycharm": {
     "name": "#%%\n"
    },
    "tags": []
   },
   "outputs": [],
   "source": [
    "import datetime\n",
    "import json\n",
    "import logging\n",
    "import os\n",
    "import shutil\n",
    "import tempfile\n",
    "import textwrap\n",
    "import uuid\n",
    "\n",
    "import matplotlib.pyplot as plt\n",
    "import matplotlib.ticker\n",
    "import numpy as np\n",
    "import pandas as pd\n",
    "import retry\n",
    "import seaborn as sns\n",
    "\n",
    "%matplotlib inline"
   ]
  },
  {
   "cell_type": "code",
   "execution_count": 2,
   "metadata": {
    "collapsed": false,
    "execution": {
     "iopub.execute_input": "2020-11-22T23:18:26.596136Z",
     "iopub.status.busy": "2020-11-22T23:18:26.595577Z",
     "iopub.status.idle": "2020-11-22T23:18:26.597314Z",
     "shell.execute_reply": "2020-11-22T23:18:26.597797Z"
    },
    "papermill": {
     "duration": 0.047722,
     "end_time": "2020-11-22T23:18:26.597917",
     "exception": false,
     "start_time": "2020-11-22T23:18:26.550195",
     "status": "completed"
    },
    "pycharm": {
     "name": "#%%\n"
    },
    "tags": []
   },
   "outputs": [],
   "source": [
    "current_working_directory = os.environ.get(\"PWD\")\n",
    "if current_working_directory:\n",
    "    os.chdir(current_working_directory)\n",
    "\n",
    "sns.set()\n",
    "matplotlib.rcParams[\"figure.figsize\"] = (15, 6)\n",
    "\n",
    "extraction_datetime = datetime.datetime.utcnow()\n",
    "extraction_date = extraction_datetime.strftime(\"%Y-%m-%d\")\n",
    "extraction_previous_datetime = extraction_datetime - datetime.timedelta(days=1)\n",
    "extraction_previous_date = extraction_previous_datetime.strftime(\"%Y-%m-%d\")\n",
    "extraction_date_with_hour = datetime.datetime.utcnow().strftime(\"%Y-%m-%d@%H\")\n",
    "current_hour = datetime.datetime.utcnow().hour\n",
    "are_today_results_partial = current_hour != 23"
   ]
  },
  {
   "cell_type": "markdown",
   "metadata": {
    "collapsed": false,
    "papermill": {
     "duration": 0.03475,
     "end_time": "2020-11-22T23:18:26.672294",
     "exception": false,
     "start_time": "2020-11-22T23:18:26.637544",
     "status": "completed"
    },
    "tags": []
   },
   "source": [
    "### Constants"
   ]
  },
  {
   "cell_type": "code",
   "execution_count": 3,
   "metadata": {
    "execution": {
     "iopub.execute_input": "2020-11-22T23:18:26.755695Z",
     "iopub.status.busy": "2020-11-22T23:18:26.755108Z",
     "iopub.status.idle": "2020-11-22T23:18:26.883728Z",
     "shell.execute_reply": "2020-11-22T23:18:26.883200Z"
    },
    "papermill": {
     "duration": 0.172543,
     "end_time": "2020-11-22T23:18:26.883855",
     "exception": false,
     "start_time": "2020-11-22T23:18:26.711312",
     "status": "completed"
    },
    "pycharm": {
     "name": "#%%\n"
    },
    "tags": []
   },
   "outputs": [],
   "source": [
    "from Modules.ExposureNotification import exposure_notification_io\n",
    "\n",
    "spain_region_country_code = \"ES\"\n",
    "germany_region_country_code = \"DE\"\n",
    "\n",
    "default_backend_identifier = spain_region_country_code\n",
    "\n",
    "backend_generation_days = 7 * 2\n",
    "daily_summary_days = 7 * 4 * 3\n",
    "daily_plot_days = 7 * 4\n",
    "tek_dumps_load_limit = daily_summary_days + 1"
   ]
  },
  {
   "cell_type": "markdown",
   "metadata": {
    "collapsed": false,
    "papermill": {
     "duration": 0.045361,
     "end_time": "2020-11-22T23:18:26.964661",
     "exception": false,
     "start_time": "2020-11-22T23:18:26.919300",
     "status": "completed"
    },
    "tags": []
   },
   "source": [
    "### Parameters"
   ]
  },
  {
   "cell_type": "code",
   "execution_count": 4,
   "metadata": {
    "collapsed": false,
    "execution": {
     "iopub.execute_input": "2020-11-22T23:18:27.060512Z",
     "iopub.status.busy": "2020-11-22T23:18:27.059852Z",
     "iopub.status.idle": "2020-11-22T23:18:27.062959Z",
     "shell.execute_reply": "2020-11-22T23:18:27.063468Z"
    },
    "papermill": {
     "duration": 0.053064,
     "end_time": "2020-11-22T23:18:27.063627",
     "exception": false,
     "start_time": "2020-11-22T23:18:27.010563",
     "status": "completed"
    },
    "pycharm": {
     "name": "#%%\n"
    },
    "tags": []
   },
   "outputs": [
    {
     "data": {
      "text/plain": [
       "'ES'"
      ]
     },
     "execution_count": 4,
     "metadata": {},
     "output_type": "execute_result"
    }
   ],
   "source": [
    "environment_backend_identifier = os.environ.get(\"RADARCOVID_REPORT__BACKEND_IDENTIFIER\")\n",
    "if environment_backend_identifier:\n",
    "    report_backend_identifier = environment_backend_identifier\n",
    "else:\n",
    "    report_backend_identifier = default_backend_identifier\n",
    "report_backend_identifier"
   ]
  },
  {
   "cell_type": "code",
   "execution_count": 5,
   "metadata": {
    "collapsed": false,
    "execution": {
     "iopub.execute_input": "2020-11-22T23:18:27.149883Z",
     "iopub.status.busy": "2020-11-22T23:18:27.149206Z",
     "iopub.status.idle": "2020-11-22T23:18:27.152138Z",
     "shell.execute_reply": "2020-11-22T23:18:27.152834Z"
    },
    "papermill": {
     "duration": 0.049127,
     "end_time": "2020-11-22T23:18:27.153099",
     "exception": false,
     "start_time": "2020-11-22T23:18:27.103972",
     "status": "completed"
    },
    "pycharm": {
     "name": "#%%\n"
    },
    "tags": []
   },
   "outputs": [],
   "source": [
    "environment_enable_multi_backend_download = \\\n",
    "    os.environ.get(\"RADARCOVID_REPORT__ENABLE_MULTI_BACKEND_DOWNLOAD\")\n",
    "if environment_enable_multi_backend_download:\n",
    "    report_backend_identifiers = None\n",
    "else:\n",
    "    report_backend_identifiers = [report_backend_identifier]\n",
    "\n",
    "report_backend_identifiers"
   ]
  },
  {
   "cell_type": "code",
   "execution_count": 6,
   "metadata": {
    "collapsed": false,
    "execution": {
     "iopub.execute_input": "2020-11-22T23:18:27.237220Z",
     "iopub.status.busy": "2020-11-22T23:18:27.236678Z",
     "iopub.status.idle": "2020-11-22T23:18:27.248046Z",
     "shell.execute_reply": "2020-11-22T23:18:27.247593Z"
    },
    "papermill": {
     "duration": 0.058034,
     "end_time": "2020-11-22T23:18:27.248163",
     "exception": false,
     "start_time": "2020-11-22T23:18:27.190129",
     "status": "completed"
    },
    "pycharm": {
     "name": "#%%\n"
    },
    "tags": []
   },
   "outputs": [
    {
     "data": {
      "text/plain": [
       "['2020-10-30']"
      ]
     },
     "execution_count": 6,
     "metadata": {},
     "output_type": "execute_result"
    }
   ],
   "source": [
    "environment_invalid_shared_diagnoses_dates = \\\n",
    "    os.environ.get(\"RADARCOVID_REPORT__INVALID_SHARED_DIAGNOSES_DATES\")\n",
    "if environment_invalid_shared_diagnoses_dates:\n",
    "    invalid_shared_diagnoses_dates = environment_invalid_shared_diagnoses_dates.split(\",\")\n",
    "else:\n",
    "    invalid_shared_diagnoses_dates = []\n",
    "\n",
    "invalid_shared_diagnoses_dates"
   ]
  },
  {
   "cell_type": "markdown",
   "metadata": {
    "collapsed": false,
    "papermill": {
     "duration": 0.035321,
     "end_time": "2020-11-22T23:18:27.324740",
     "exception": false,
     "start_time": "2020-11-22T23:18:27.289419",
     "status": "completed"
    },
    "pycharm": {
     "name": "#%% md\n"
    },
    "tags": []
   },
   "source": [
    "### COVID-19 Cases"
   ]
  },
  {
   "cell_type": "code",
   "execution_count": 7,
   "metadata": {
    "collapsed": false,
    "execution": {
     "iopub.execute_input": "2020-11-22T23:18:27.407979Z",
     "iopub.status.busy": "2020-11-22T23:18:27.407444Z",
     "iopub.status.idle": "2020-11-22T23:18:27.409428Z",
     "shell.execute_reply": "2020-11-22T23:18:27.409891Z"
    },
    "papermill": {
     "duration": 0.0477,
     "end_time": "2020-11-22T23:18:27.410026",
     "exception": false,
     "start_time": "2020-11-22T23:18:27.362326",
     "status": "completed"
    },
    "pycharm": {
     "name": "#%%\n"
    },
    "tags": []
   },
   "outputs": [],
   "source": [
    "report_backend_client = \\\n",
    "    exposure_notification_io.get_backend_client_with_identifier(\n",
    "        backend_identifier=report_backend_identifier)"
   ]
  },
  {
   "cell_type": "code",
   "execution_count": 8,
   "metadata": {
    "collapsed": false,
    "execution": {
     "iopub.execute_input": "2020-11-22T23:18:27.498792Z",
     "iopub.status.busy": "2020-11-22T23:18:27.498168Z",
     "iopub.status.idle": "2020-11-22T23:18:40.390721Z",
     "shell.execute_reply": "2020-11-22T23:18:40.390265Z"
    },
    "papermill": {
     "duration": 12.94207,
     "end_time": "2020-11-22T23:18:40.390863",
     "exception": false,
     "start_time": "2020-11-22T23:18:27.448793",
     "status": "completed"
    },
    "pycharm": {
     "name": "#%%\n"
    },
    "tags": []
   },
   "outputs": [],
   "source": [
    "@retry.retry(tries=10, delay=10, backoff=1.1, jitter=(0, 10))\n",
    "def download_cases_dataframe_from_ecdc():\n",
    "    return pd.read_csv(\n",
    "        \"https://opendata.ecdc.europa.eu/covid19/casedistribution/csv/data.csv\")\n",
    "\n",
    "confirmed_df_ = download_cases_dataframe_from_ecdc()"
   ]
  },
  {
   "cell_type": "code",
   "execution_count": 9,
   "metadata": {
    "collapsed": false,
    "execution": {
     "iopub.execute_input": "2020-11-22T23:18:40.468651Z",
     "iopub.status.busy": "2020-11-22T23:18:40.468172Z",
     "iopub.status.idle": "2020-11-22T23:18:40.818668Z",
     "shell.execute_reply": "2020-11-22T23:18:40.819070Z"
    },
    "papermill": {
     "duration": 0.390167,
     "end_time": "2020-11-22T23:18:40.819219",
     "exception": false,
     "start_time": "2020-11-22T23:18:40.429052",
     "status": "completed"
    },
    "pycharm": {
     "name": "#%%\n"
    },
    "tags": []
   },
   "outputs": [
    {
     "data": {
      "text/html": [
       "<div>\n",
       "<style scoped>\n",
       "    .dataframe tbody tr th:only-of-type {\n",
       "        vertical-align: middle;\n",
       "    }\n",
       "\n",
       "    .dataframe tbody tr th {\n",
       "        vertical-align: top;\n",
       "    }\n",
       "\n",
       "    .dataframe thead th {\n",
       "        text-align: right;\n",
       "    }\n",
       "</style>\n",
       "<table border=\"1\" class=\"dataframe\">\n",
       "  <thead>\n",
       "    <tr style=\"text-align: right;\">\n",
       "      <th></th>\n",
       "      <th>sample_date</th>\n",
       "      <th>new_cases</th>\n",
       "      <th>country_code</th>\n",
       "    </tr>\n",
       "  </thead>\n",
       "  <tbody>\n",
       "    <tr>\n",
       "      <th>56491</th>\n",
       "      <td>2020-11-22</td>\n",
       "      <td>3</td>\n",
       "      <td>YE</td>\n",
       "    </tr>\n",
       "    <tr>\n",
       "      <th>44741</th>\n",
       "      <td>2020-11-22</td>\n",
       "      <td>0</td>\n",
       "      <td>SM</td>\n",
       "    </tr>\n",
       "    <tr>\n",
       "      <th>18522</th>\n",
       "      <td>2020-11-22</td>\n",
       "      <td>469</td>\n",
       "      <td>FI</td>\n",
       "    </tr>\n",
       "    <tr>\n",
       "      <th>18012</th>\n",
       "      <td>2020-11-22</td>\n",
       "      <td>1</td>\n",
       "      <td>FO</td>\n",
       "    </tr>\n",
       "    <tr>\n",
       "      <th>0</th>\n",
       "      <td>2020-11-22</td>\n",
       "      <td>154</td>\n",
       "      <td>AF</td>\n",
       "    </tr>\n",
       "  </tbody>\n",
       "</table>\n",
       "</div>"
      ],
      "text/plain": [
       "      sample_date  new_cases country_code\n",
       "56491  2020-11-22          3           YE\n",
       "44741  2020-11-22          0           SM\n",
       "18522  2020-11-22        469           FI\n",
       "18012  2020-11-22          1           FO\n",
       "0      2020-11-22        154           AF"
      ]
     },
     "execution_count": 9,
     "metadata": {},
     "output_type": "execute_result"
    }
   ],
   "source": [
    "confirmed_df = confirmed_df_.copy()\n",
    "confirmed_df = confirmed_df[[\"dateRep\", \"cases\", \"geoId\"]]\n",
    "confirmed_df.rename(\n",
    "    columns={\n",
    "        \"dateRep\":\"sample_date\",\n",
    "        \"cases\": \"new_cases\",\n",
    "        \"geoId\": \"country_code\",\n",
    "    },\n",
    "    inplace=True)\n",
    "confirmed_df[\"sample_date\"] = pd.to_datetime(confirmed_df.sample_date, dayfirst=True)\n",
    "confirmed_df[\"sample_date\"] = confirmed_df.sample_date.dt.strftime(\"%Y-%m-%d\")\n",
    "confirmed_df.sort_values(\"sample_date\", inplace=True)\n",
    "confirmed_df.tail()"
   ]
  },
  {
   "cell_type": "code",
   "execution_count": 10,
   "metadata": {
    "collapsed": false,
    "execution": {
     "iopub.execute_input": "2020-11-22T23:18:40.896833Z",
     "iopub.status.busy": "2020-11-22T23:18:40.896215Z",
     "iopub.status.idle": "2020-11-22T23:18:40.899862Z",
     "shell.execute_reply": "2020-11-22T23:18:40.899439Z"
    },
    "papermill": {
     "duration": 0.044791,
     "end_time": "2020-11-22T23:18:40.899994",
     "exception": false,
     "start_time": "2020-11-22T23:18:40.855203",
     "status": "completed"
    },
    "pycharm": {
     "name": "#%%\n"
    },
    "tags": []
   },
   "outputs": [],
   "source": [
    "def sort_source_regions_for_display(source_regions: list) -> list:\n",
    "    if report_backend_identifier in source_regions:\n",
    "        source_regions = [report_backend_identifier] + \\\n",
    "            list(sorted(set(source_regions).difference([report_backend_identifier])))\n",
    "    else:\n",
    "        source_regions = list(sorted(source_regions))\n",
    "    return source_regions"
   ]
  },
  {
   "cell_type": "code",
   "execution_count": 11,
   "metadata": {
    "collapsed": false,
    "execution": {
     "iopub.execute_input": "2020-11-22T23:18:40.978812Z",
     "iopub.status.busy": "2020-11-22T23:18:40.978277Z",
     "iopub.status.idle": "2020-11-22T23:18:40.980833Z",
     "shell.execute_reply": "2020-11-22T23:18:40.981389Z"
    },
    "papermill": {
     "duration": 0.043891,
     "end_time": "2020-11-22T23:18:40.981528",
     "exception": false,
     "start_time": "2020-11-22T23:18:40.937637",
     "status": "completed"
    },
    "pycharm": {
     "name": "#%%\n"
    },
    "tags": []
   },
   "outputs": [
    {
     "data": {
      "text/plain": [
       "['ES', 'DE', 'DK', 'HR', 'IE', 'IT', 'LV']"
      ]
     },
     "execution_count": 11,
     "metadata": {},
     "output_type": "execute_result"
    }
   ],
   "source": [
    "report_source_regions = report_backend_client.source_regions_for_date(\n",
    "    date=extraction_datetime.date())\n",
    "report_source_regions = sort_source_regions_for_display(\n",
    "    source_regions=report_source_regions)\n",
    "report_source_regions"
   ]
  },
  {
   "cell_type": "code",
   "execution_count": 12,
   "metadata": {
    "collapsed": false,
    "execution": {
     "iopub.execute_input": "2020-11-22T23:18:41.070752Z",
     "iopub.status.busy": "2020-11-22T23:18:41.070180Z",
     "iopub.status.idle": "2020-11-22T23:18:41.073470Z",
     "shell.execute_reply": "2020-11-22T23:18:41.072980Z"
    },
    "papermill": {
     "duration": 0.055732,
     "end_time": "2020-11-22T23:18:41.073606",
     "exception": false,
     "start_time": "2020-11-22T23:18:41.017874",
     "status": "completed"
    },
    "pycharm": {
     "name": "#%%\n"
    },
    "tags": []
   },
   "outputs": [
    {
     "data": {
      "text/html": [
       "<div>\n",
       "<style scoped>\n",
       "    .dataframe tbody tr th:only-of-type {\n",
       "        vertical-align: middle;\n",
       "    }\n",
       "\n",
       "    .dataframe tbody tr th {\n",
       "        vertical-align: top;\n",
       "    }\n",
       "\n",
       "    .dataframe thead th {\n",
       "        text-align: right;\n",
       "    }\n",
       "</style>\n",
       "<table border=\"1\" class=\"dataframe\">\n",
       "  <thead>\n",
       "    <tr style=\"text-align: right;\">\n",
       "      <th></th>\n",
       "      <th>sample_date</th>\n",
       "      <th>sample_date_string</th>\n",
       "    </tr>\n",
       "  </thead>\n",
       "  <tbody>\n",
       "    <tr>\n",
       "      <th>323</th>\n",
       "      <td>2020-11-18</td>\n",
       "      <td>2020-11-18</td>\n",
       "    </tr>\n",
       "    <tr>\n",
       "      <th>324</th>\n",
       "      <td>2020-11-19</td>\n",
       "      <td>2020-11-19</td>\n",
       "    </tr>\n",
       "    <tr>\n",
       "      <th>325</th>\n",
       "      <td>2020-11-20</td>\n",
       "      <td>2020-11-20</td>\n",
       "    </tr>\n",
       "    <tr>\n",
       "      <th>326</th>\n",
       "      <td>2020-11-21</td>\n",
       "      <td>2020-11-21</td>\n",
       "    </tr>\n",
       "    <tr>\n",
       "      <th>327</th>\n",
       "      <td>2020-11-22</td>\n",
       "      <td>2020-11-22</td>\n",
       "    </tr>\n",
       "  </tbody>\n",
       "</table>\n",
       "</div>"
      ],
      "text/plain": [
       "    sample_date sample_date_string\n",
       "323  2020-11-18         2020-11-18\n",
       "324  2020-11-19         2020-11-19\n",
       "325  2020-11-20         2020-11-20\n",
       "326  2020-11-21         2020-11-21\n",
       "327  2020-11-22         2020-11-22"
      ]
     },
     "execution_count": 12,
     "metadata": {},
     "output_type": "execute_result"
    }
   ],
   "source": [
    "confirmed_days = pd.date_range(\n",
    "    start=confirmed_df.iloc[0].sample_date,\n",
    "    end=extraction_datetime)\n",
    "confirmed_days_df = pd.DataFrame(data=confirmed_days, columns=[\"sample_date\"])\n",
    "confirmed_days_df[\"sample_date_string\"] = \\\n",
    "    confirmed_days_df.sample_date.dt.strftime(\"%Y-%m-%d\")\n",
    "confirmed_days_df.tail()"
   ]
  },
  {
   "cell_type": "code",
   "execution_count": 13,
   "metadata": {
    "collapsed": false,
    "execution": {
     "iopub.execute_input": "2020-11-22T23:18:41.170444Z",
     "iopub.status.busy": "2020-11-22T23:18:41.169845Z",
     "iopub.status.idle": "2020-11-22T23:18:41.180700Z",
     "shell.execute_reply": "2020-11-22T23:18:41.180085Z"
    },
    "papermill": {
     "duration": 0.060886,
     "end_time": "2020-11-22T23:18:41.180935",
     "exception": false,
     "start_time": "2020-11-22T23:18:41.120049",
     "status": "completed"
    },
    "pycharm": {
     "name": "#%%\n"
    },
    "tags": []
   },
   "outputs": [
    {
     "data": {
      "text/html": [
       "<div>\n",
       "<style scoped>\n",
       "    .dataframe tbody tr th:only-of-type {\n",
       "        vertical-align: middle;\n",
       "    }\n",
       "\n",
       "    .dataframe tbody tr th {\n",
       "        vertical-align: top;\n",
       "    }\n",
       "\n",
       "    .dataframe thead th {\n",
       "        text-align: right;\n",
       "    }\n",
       "</style>\n",
       "<table border=\"1\" class=\"dataframe\">\n",
       "  <thead>\n",
       "    <tr style=\"text-align: right;\">\n",
       "      <th></th>\n",
       "      <th>sample_date</th>\n",
       "      <th>sample_date_string</th>\n",
       "      <th>source_regions_at_date</th>\n",
       "      <th>_source_regions_group</th>\n",
       "    </tr>\n",
       "  </thead>\n",
       "  <tbody>\n",
       "    <tr>\n",
       "      <th>323</th>\n",
       "      <td>2020-11-18</td>\n",
       "      <td>2020-11-18</td>\n",
       "      <td>{IE, DK, ES, LV, DE, IT}</td>\n",
       "      <td>ES,DE,DK,IE,IT,LV</td>\n",
       "    </tr>\n",
       "    <tr>\n",
       "      <th>324</th>\n",
       "      <td>2020-11-19</td>\n",
       "      <td>2020-11-19</td>\n",
       "      <td>{IE, DK, ES, LV, DE, IT}</td>\n",
       "      <td>ES,DE,DK,IE,IT,LV</td>\n",
       "    </tr>\n",
       "    <tr>\n",
       "      <th>325</th>\n",
       "      <td>2020-11-20</td>\n",
       "      <td>2020-11-20</td>\n",
       "      <td>{IE, DK, ES, LV, DE, IT}</td>\n",
       "      <td>ES,DE,DK,IE,IT,LV</td>\n",
       "    </tr>\n",
       "    <tr>\n",
       "      <th>326</th>\n",
       "      <td>2020-11-21</td>\n",
       "      <td>2020-11-21</td>\n",
       "      <td>{IE, DK, ES, LV, DE, HR, IT}</td>\n",
       "      <td>ES,DE,DK,HR,IE,IT,LV</td>\n",
       "    </tr>\n",
       "    <tr>\n",
       "      <th>327</th>\n",
       "      <td>2020-11-22</td>\n",
       "      <td>2020-11-22</td>\n",
       "      <td>{IE, DK, ES, LV, DE, HR, IT}</td>\n",
       "      <td>ES,DE,DK,HR,IE,IT,LV</td>\n",
       "    </tr>\n",
       "  </tbody>\n",
       "</table>\n",
       "</div>"
      ],
      "text/plain": [
       "    sample_date sample_date_string        source_regions_at_date  \\\n",
       "323  2020-11-18         2020-11-18      {IE, DK, ES, LV, DE, IT}   \n",
       "324  2020-11-19         2020-11-19      {IE, DK, ES, LV, DE, IT}   \n",
       "325  2020-11-20         2020-11-20      {IE, DK, ES, LV, DE, IT}   \n",
       "326  2020-11-21         2020-11-21  {IE, DK, ES, LV, DE, HR, IT}   \n",
       "327  2020-11-22         2020-11-22  {IE, DK, ES, LV, DE, HR, IT}   \n",
       "\n",
       "    _source_regions_group  \n",
       "323     ES,DE,DK,IE,IT,LV  \n",
       "324     ES,DE,DK,IE,IT,LV  \n",
       "325     ES,DE,DK,IE,IT,LV  \n",
       "326  ES,DE,DK,HR,IE,IT,LV  \n",
       "327  ES,DE,DK,HR,IE,IT,LV  "
      ]
     },
     "execution_count": 13,
     "metadata": {},
     "output_type": "execute_result"
    }
   ],
   "source": [
    "source_regions_at_date_df = confirmed_days_df.copy()\n",
    "source_regions_at_date_df[\"source_regions_at_date\"] = \\\n",
    "    source_regions_at_date_df.sample_date.apply(\n",
    "        lambda x: report_backend_client.source_regions_for_date(date=x))\n",
    "source_regions_at_date_df.sort_values(\"sample_date\", inplace=True)\n",
    "source_regions_at_date_df[\"_source_regions_group\"] = source_regions_at_date_df. \\\n",
    "    source_regions_at_date.apply(lambda x: \",\".join(sort_source_regions_for_display(x)))\n",
    "source_regions_at_date_df.tail()"
   ]
  },
  {
   "cell_type": "code",
   "execution_count": 14,
   "metadata": {
    "collapsed": false,
    "execution": {
     "iopub.execute_input": "2020-11-22T23:18:41.271535Z",
     "iopub.status.busy": "2020-11-22T23:18:41.270856Z",
     "iopub.status.idle": "2020-11-22T23:18:41.274640Z",
     "shell.execute_reply": "2020-11-22T23:18:41.273993Z"
    },
    "papermill": {
     "duration": 0.054532,
     "end_time": "2020-11-22T23:18:41.274763",
     "exception": false,
     "start_time": "2020-11-22T23:18:41.220231",
     "status": "completed"
    },
    "pycharm": {
     "name": "#%%\n"
    },
    "tags": []
   },
   "outputs": [
    {
     "data": {
      "text/html": [
       "<div>\n",
       "<style scoped>\n",
       "    .dataframe tbody tr th:only-of-type {\n",
       "        vertical-align: middle;\n",
       "    }\n",
       "\n",
       "    .dataframe tbody tr th {\n",
       "        vertical-align: top;\n",
       "    }\n",
       "\n",
       "    .dataframe thead th {\n",
       "        text-align: right;\n",
       "    }\n",
       "</style>\n",
       "<table border=\"1\" class=\"dataframe\">\n",
       "  <thead>\n",
       "    <tr style=\"text-align: right;\">\n",
       "      <th></th>\n",
       "      <th>sample_date</th>\n",
       "      <th>source_regions</th>\n",
       "    </tr>\n",
       "  </thead>\n",
       "  <tbody>\n",
       "    <tr>\n",
       "      <th>323</th>\n",
       "      <td>2020-11-18</td>\n",
       "      <td>ES,DE,DK,IE,IT,LV</td>\n",
       "    </tr>\n",
       "    <tr>\n",
       "      <th>324</th>\n",
       "      <td>2020-11-19</td>\n",
       "      <td>ES,DE,DK,IE,IT,LV</td>\n",
       "    </tr>\n",
       "    <tr>\n",
       "      <th>325</th>\n",
       "      <td>2020-11-20</td>\n",
       "      <td>ES,DE,DK,IE,IT,LV</td>\n",
       "    </tr>\n",
       "    <tr>\n",
       "      <th>326</th>\n",
       "      <td>2020-11-21</td>\n",
       "      <td>ES,DE,DK,HR,IE,IT,LV</td>\n",
       "    </tr>\n",
       "    <tr>\n",
       "      <th>327</th>\n",
       "      <td>2020-11-22</td>\n",
       "      <td>ES,DE,DK,HR,IE,IT,LV</td>\n",
       "    </tr>\n",
       "  </tbody>\n",
       "</table>\n",
       "</div>"
      ],
      "text/plain": [
       "    sample_date        source_regions\n",
       "323  2020-11-18     ES,DE,DK,IE,IT,LV\n",
       "324  2020-11-19     ES,DE,DK,IE,IT,LV\n",
       "325  2020-11-20     ES,DE,DK,IE,IT,LV\n",
       "326  2020-11-21  ES,DE,DK,HR,IE,IT,LV\n",
       "327  2020-11-22  ES,DE,DK,HR,IE,IT,LV"
      ]
     },
     "execution_count": 14,
     "metadata": {},
     "output_type": "execute_result"
    }
   ],
   "source": [
    "source_regions_for_summary_df = \\\n",
    "    source_regions_at_date_df[[\"sample_date\", \"_source_regions_group\"]].copy()\n",
    "source_regions_for_summary_df.rename(columns={\"_source_regions_group\": \"source_regions\"}, inplace=True)\n",
    "source_regions_for_summary_df.tail()"
   ]
  },
  {
   "cell_type": "code",
   "execution_count": 15,
   "metadata": {
    "collapsed": false,
    "execution": {
     "iopub.execute_input": "2020-11-22T23:18:41.374488Z",
     "iopub.status.busy": "2020-11-22T23:18:41.373914Z",
     "iopub.status.idle": "2020-11-22T23:18:41.424640Z",
     "shell.execute_reply": "2020-11-22T23:18:41.424201Z"
    },
    "papermill": {
     "duration": 0.107929,
     "end_time": "2020-11-22T23:18:41.424756",
     "exception": false,
     "start_time": "2020-11-22T23:18:41.316827",
     "status": "completed"
    },
    "pycharm": {
     "name": "#%%\n"
    },
    "tags": []
   },
   "outputs": [
    {
     "data": {
      "text/html": [
       "<div>\n",
       "<style scoped>\n",
       "    .dataframe tbody tr th:only-of-type {\n",
       "        vertical-align: middle;\n",
       "    }\n",
       "\n",
       "    .dataframe tbody tr th {\n",
       "        vertical-align: top;\n",
       "    }\n",
       "\n",
       "    .dataframe thead th {\n",
       "        text-align: right;\n",
       "    }\n",
       "</style>\n",
       "<table border=\"1\" class=\"dataframe\">\n",
       "  <thead>\n",
       "    <tr style=\"text-align: right;\">\n",
       "      <th></th>\n",
       "      <th>sample_date</th>\n",
       "      <th>new_cases</th>\n",
       "      <th>covid_cases</th>\n",
       "    </tr>\n",
       "  </thead>\n",
       "  <tbody>\n",
       "    <tr>\n",
       "      <th>309</th>\n",
       "      <td>2020-11-04</td>\n",
       "      <td>70966</td>\n",
       "      <td>66020.0</td>\n",
       "    </tr>\n",
       "    <tr>\n",
       "      <th>310</th>\n",
       "      <td>2020-11-05</td>\n",
       "      <td>73194</td>\n",
       "      <td>67010.0</td>\n",
       "    </tr>\n",
       "    <tr>\n",
       "      <th>311</th>\n",
       "      <td>2020-11-06</td>\n",
       "      <td>79454</td>\n",
       "      <td>68044.0</td>\n",
       "    </tr>\n",
       "    <tr>\n",
       "      <th>312</th>\n",
       "      <td>2020-11-07</td>\n",
       "      <td>62050</td>\n",
       "      <td>69596.0</td>\n",
       "    </tr>\n",
       "    <tr>\n",
       "      <th>313</th>\n",
       "      <td>2020-11-08</td>\n",
       "      <td>56547</td>\n",
       "      <td>71025.0</td>\n",
       "    </tr>\n",
       "  </tbody>\n",
       "</table>\n",
       "</div>"
      ],
      "text/plain": [
       "    sample_date new_cases  covid_cases\n",
       "309  2020-11-04     70966      66020.0\n",
       "310  2020-11-05     73194      67010.0\n",
       "311  2020-11-06     79454      68044.0\n",
       "312  2020-11-07     62050      69596.0\n",
       "313  2020-11-08     56547      71025.0"
      ]
     },
     "execution_count": 15,
     "metadata": {},
     "output_type": "execute_result"
    }
   ],
   "source": [
    "confirmed_output_columns = [\"sample_date\", \"new_cases\", \"covid_cases\"]\n",
    "confirmed_output_df = pd.DataFrame(columns=confirmed_output_columns)\n",
    "\n",
    "for source_regions_group, source_regions_group_series in \\\n",
    "        source_regions_at_date_df.groupby(\"_source_regions_group\"):\n",
    "    source_regions_set = set(source_regions_group.split(\",\"))\n",
    "    confirmed_source_regions_set_df = \\\n",
    "        confirmed_df[confirmed_df.country_code.isin(source_regions_set)].copy()\n",
    "    confirmed_source_regions_group_df = \\\n",
    "        confirmed_source_regions_set_df.groupby(\"sample_date\").new_cases.sum() \\\n",
    "            .reset_index().sort_values(\"sample_date\")\n",
    "    confirmed_source_regions_group_df[\"covid_cases\"] = \\\n",
    "        confirmed_source_regions_group_df.new_cases.rolling(7, min_periods=0).mean().round()\n",
    "    confirmed_source_regions_group_df = \\\n",
    "        confirmed_source_regions_group_df[confirmed_output_columns]\n",
    "    confirmed_source_regions_group_df.fillna(method=\"ffill\", inplace=True)\n",
    "    confirmed_source_regions_group_df = \\\n",
    "        confirmed_source_regions_group_df[\n",
    "            confirmed_source_regions_group_df.sample_date.isin(\n",
    "                source_regions_group_series.sample_date_string)]\n",
    "    confirmed_output_df = confirmed_output_df.append(confirmed_source_regions_group_df)\n",
    "\n",
    "confirmed_df = confirmed_output_df.copy()\n",
    "confirmed_df.tail()"
   ]
  },
  {
   "cell_type": "code",
   "execution_count": 16,
   "metadata": {
    "collapsed": false,
    "execution": {
     "iopub.execute_input": "2020-11-22T23:18:41.503434Z",
     "iopub.status.busy": "2020-11-22T23:18:41.502913Z",
     "iopub.status.idle": "2020-11-22T23:18:41.516525Z",
     "shell.execute_reply": "2020-11-22T23:18:41.516113Z"
    },
    "papermill": {
     "duration": 0.054094,
     "end_time": "2020-11-22T23:18:41.516627",
     "exception": false,
     "start_time": "2020-11-22T23:18:41.462533",
     "status": "completed"
    },
    "pycharm": {
     "name": "#%%\n"
    },
    "tags": []
   },
   "outputs": [
    {
     "data": {
      "text/html": [
       "<div>\n",
       "<style scoped>\n",
       "    .dataframe tbody tr th:only-of-type {\n",
       "        vertical-align: middle;\n",
       "    }\n",
       "\n",
       "    .dataframe tbody tr th {\n",
       "        vertical-align: top;\n",
       "    }\n",
       "\n",
       "    .dataframe thead th {\n",
       "        text-align: right;\n",
       "    }\n",
       "</style>\n",
       "<table border=\"1\" class=\"dataframe\">\n",
       "  <thead>\n",
       "    <tr style=\"text-align: right;\">\n",
       "      <th></th>\n",
       "      <th>sample_date_string</th>\n",
       "      <th>new_cases</th>\n",
       "      <th>covid_cases</th>\n",
       "    </tr>\n",
       "  </thead>\n",
       "  <tbody>\n",
       "    <tr>\n",
       "      <th>323</th>\n",
       "      <td>2020-11-18</td>\n",
       "      <td>66898</td>\n",
       "      <td>70110.0</td>\n",
       "    </tr>\n",
       "    <tr>\n",
       "      <th>324</th>\n",
       "      <td>2020-11-19</td>\n",
       "      <td>75193</td>\n",
       "      <td>69974.0</td>\n",
       "    </tr>\n",
       "    <tr>\n",
       "      <th>325</th>\n",
       "      <td>2020-11-20</td>\n",
       "      <td>77058</td>\n",
       "      <td>68866.0</td>\n",
       "    </tr>\n",
       "    <tr>\n",
       "      <th>326</th>\n",
       "      <td>2020-11-21</td>\n",
       "      <td>65127</td>\n",
       "      <td>70966.0</td>\n",
       "    </tr>\n",
       "    <tr>\n",
       "      <th>327</th>\n",
       "      <td>2020-11-22</td>\n",
       "      <td>56334</td>\n",
       "      <td>70591.0</td>\n",
       "    </tr>\n",
       "  </tbody>\n",
       "</table>\n",
       "</div>"
      ],
      "text/plain": [
       "    sample_date_string  new_cases  covid_cases\n",
       "323         2020-11-18      66898      70110.0\n",
       "324         2020-11-19      75193      69974.0\n",
       "325         2020-11-20      77058      68866.0\n",
       "326         2020-11-21      65127      70966.0\n",
       "327         2020-11-22      56334      70591.0"
      ]
     },
     "execution_count": 16,
     "metadata": {},
     "output_type": "execute_result"
    }
   ],
   "source": [
    "confirmed_df.rename(columns={\"sample_date\": \"sample_date_string\"}, inplace=True)\n",
    "confirmed_df = confirmed_days_df[[\"sample_date_string\"]].merge(confirmed_df, how=\"left\")\n",
    "confirmed_df.sort_values(\"sample_date_string\", inplace=True)\n",
    "confirmed_df.fillna(method=\"ffill\", inplace=True)\n",
    "confirmed_df.tail()"
   ]
  },
  {
   "cell_type": "code",
   "execution_count": 17,
   "metadata": {
    "collapsed": false,
    "execution": {
     "iopub.execute_input": "2020-11-22T23:18:41.631872Z",
     "iopub.status.busy": "2020-11-22T23:18:41.631217Z",
     "iopub.status.idle": "2020-11-22T23:18:41.819484Z",
     "shell.execute_reply": "2020-11-22T23:18:41.820505Z"
    },
    "papermill": {
     "duration": 0.266309,
     "end_time": "2020-11-22T23:18:41.820667",
     "exception": false,
     "start_time": "2020-11-22T23:18:41.554358",
     "status": "completed"
    },
    "pycharm": {
     "name": "#%%\n"
    },
    "tags": []
   },
   "outputs": [
    {
     "data": {
      "text/plain": [
       "<matplotlib.axes._subplots.AxesSubplot at 0x7fe9e831c730>"
      ]
     },
     "execution_count": 17,
     "metadata": {},
     "output_type": "execute_result"
    },
    {
     "data": {
      "image/png": "[encoded data removed]",
      "text/plain": [
       "<Figure size 1080x432 with 1 Axes>"
      ]
     },
     "metadata": {},
     "output_type": "display_data"
    }
   ],
   "source": [
    "confirmed_df[[\"new_cases\", \"covid_cases\"]].plot()"
   ]
  },
  {
   "cell_type": "markdown",
   "metadata": {
    "execution": {
     "iopub.execute_input": "2020-08-30T22:30:16.351238Z",
     "iopub.status.busy": "2020-08-30T22:30:16.344579Z",
     "iopub.status.idle": "2020-08-30T22:30:16.354285Z",
     "shell.execute_reply": "2020-08-30T22:30:16.353641Z"
    },
    "papermill": {
     "duration": 0.043919,
     "end_time": "2020-11-22T23:18:41.909359",
     "exception": false,
     "start_time": "2020-11-22T23:18:41.865440",
     "status": "completed"
    },
    "pycharm": {
     "name": "#%% md\n"
    },
    "tags": []
   },
   "source": [
    "### Extract API TEKs"
   ]
  },
  {
   "cell_type": "code",
   "execution_count": 18,
   "metadata": {
    "execution": {
     "iopub.execute_input": "2020-11-22T23:18:42.011520Z",
     "iopub.status.busy": "2020-11-22T23:18:42.010976Z",
     "iopub.status.idle": "2020-11-22T23:23:59.388992Z",
     "shell.execute_reply": "2020-11-22T23:23:59.389440Z"
    },
    "papermill": {
     "duration": 317.435612,
     "end_time": "2020-11-22T23:23:59.389588",
     "exception": false,
     "start_time": "2020-11-22T23:18:41.953976",
     "status": "completed"
    },
    "pycharm": {
     "name": "#%%\n"
    },
    "tags": []
   },
   "outputs": [
    {
     "name": "stderr",
     "output_type": "stream",
     "text": [
      "WARNING:root:NoKeysFoundException(\"No exposure keys found on endpoint 'https://radarcovidpre.covid19.gob.es/dp3t/v1/gaen/exposed/1606003200000' (parameters: {'generation_date': '2020-11-22', 'endpoint_identifier_components': ['2020-11-22'], 'backend_identifier': 'ES@PRE', 'server_endpoint_url': 'https://radarcovidpre.covid19.gob.es/dp3t'}).\")\n"
     ]
    },
    {
     "name": "stderr",
     "output_type": "stream",
     "text": [
      "WARNING:root:NoKeysFoundException(\"No exposure keys found on endpoint 'https://stayaway.incm.pt/v1/gaen/exposed/1606003200000' (parameters: {'generation_date': '2020-11-22', 'endpoint_identifier_components': ['2020-11-22'], 'backend_identifier': 'PT', 'server_endpoint_url': 'https://stayaway.incm.pt'}).\")\n"
     ]
    },
    {
     "name": "stderr",
     "output_type": "stream",
     "text": [
      "WARNING:root:NoKeysFoundException(\"No exposure keys found on endpoint 'https://enapi.sm.ee/authorization/v1/gaen/exposed/1606003200000' (parameters: {'generation_date': '2020-11-22', 'endpoint_identifier_components': ['2020-11-22'], 'backend_identifier': 'EE', 'server_endpoint_url': 'https://enapi.sm.ee/authorization'}).\")\n"
     ]
    },
    {
     "name": "stderr",
     "output_type": "stream",
     "text": [
      "WARNING:root:NoKeysFoundException(\"No exposure keys found on endpoint 'https://mt-dpppt-ws.azurewebsites.net/v1/gaen/exposed/1606003200000' (parameters: {'generation_date': '2020-11-22', 'endpoint_identifier_components': ['2020-11-22'], 'backend_identifier': 'MT', 'server_endpoint_url': 'https://mt-dpppt-ws.azurewebsites.net'}).\")\n"
     ]
    },
    {
     "data": {
      "text/html": [
       "<div>\n",
       "<style scoped>\n",
       "    .dataframe tbody tr th:only-of-type {\n",
       "        vertical-align: middle;\n",
       "    }\n",
       "\n",
       "    .dataframe tbody tr th {\n",
       "        vertical-align: top;\n",
       "    }\n",
       "\n",
       "    .dataframe thead th {\n",
       "        text-align: right;\n",
       "    }\n",
       "</style>\n",
       "<table border=\"1\" class=\"dataframe\">\n",
       "  <thead>\n",
       "    <tr style=\"text-align: right;\">\n",
       "      <th></th>\n",
       "      <th>sample_datetime</th>\n",
       "      <th>sample_date_string</th>\n",
       "      <th>region</th>\n",
       "      <th>verification_key_version</th>\n",
       "      <th>verification_key_id</th>\n",
       "      <th>signature_algorithm</th>\n",
       "      <th>key_data</th>\n",
       "      <th>rolling_start_interval_number</th>\n",
       "      <th>rolling_period</th>\n",
       "      <th>transmission_risk_level</th>\n",
       "      <th>backend_identifier</th>\n",
       "    </tr>\n",
       "  </thead>\n",
       "  <tbody>\n",
       "    <tr>\n",
       "      <th>0</th>\n",
       "      <td>2020-11-22</td>\n",
       "      <td>2020-11-22</td>\n",
       "      <td>ES</td>\n",
       "      <td>V1</td>\n",
       "      <td>214</td>\n",
       "      <td>1.2.840.10045.4.3.2</td>\n",
       "      <td>b2f0f639-6727-9021-b90c-b0320fe4d1a2</td>\n",
       "      <td>2676672</td>\n",
       "      <td>132</td>\n",
       "      <td>0</td>\n",
       "      <td>ES</td>\n",
       "    </tr>\n",
       "    <tr>\n",
       "      <th>1</th>\n",
       "      <td>2020-11-22</td>\n",
       "      <td>2020-11-22</td>\n",
       "      <td>ES</td>\n",
       "      <td>V1</td>\n",
       "      <td>214</td>\n",
       "      <td>1.2.840.10045.4.3.2</td>\n",
       "      <td>cb2d8599-dbde-430c-ace1-0296fd7796c0</td>\n",
       "      <td>2676672</td>\n",
       "      <td>132</td>\n",
       "      <td>0</td>\n",
       "      <td>ES</td>\n",
       "    </tr>\n",
       "    <tr>\n",
       "      <th>2</th>\n",
       "      <td>2020-11-22</td>\n",
       "      <td>2020-11-22</td>\n",
       "      <td>ES</td>\n",
       "      <td>V1</td>\n",
       "      <td>214</td>\n",
       "      <td>1.2.840.10045.4.3.2</td>\n",
       "      <td>c7e924e3-18e5-a6d9-4c64-d5f3ada545f3</td>\n",
       "      <td>2676672</td>\n",
       "      <td>130</td>\n",
       "      <td>0</td>\n",
       "      <td>ES</td>\n",
       "    </tr>\n",
       "    <tr>\n",
       "      <th>3</th>\n",
       "      <td>2020-11-22</td>\n",
       "      <td>2020-11-22</td>\n",
       "      <td>ES</td>\n",
       "      <td>V1</td>\n",
       "      <td>214</td>\n",
       "      <td>1.2.840.10045.4.3.2</td>\n",
       "      <td>699a04c5-2d03-1e76-bb2d-e1f188843438</td>\n",
       "      <td>2676672</td>\n",
       "      <td>129</td>\n",
       "      <td>0</td>\n",
       "      <td>ES</td>\n",
       "    </tr>\n",
       "    <tr>\n",
       "      <th>4</th>\n",
       "      <td>2020-11-22</td>\n",
       "      <td>2020-11-22</td>\n",
       "      <td>ES</td>\n",
       "      <td>V1</td>\n",
       "      <td>214</td>\n",
       "      <td>1.2.840.10045.4.3.2</td>\n",
       "      <td>4358ed5b-18ad-1c93-2993-235131c0e707</td>\n",
       "      <td>2676672</td>\n",
       "      <td>128</td>\n",
       "      <td>0</td>\n",
       "      <td>ES</td>\n",
       "    </tr>\n",
       "  </tbody>\n",
       "</table>\n",
       "</div>"
      ],
      "text/plain": [
       "  sample_datetime sample_date_string region verification_key_version  \\\n",
       "0      2020-11-22         2020-11-22     ES                       V1   \n",
       "1      2020-11-22         2020-11-22     ES                       V1   \n",
       "2      2020-11-22         2020-11-22     ES                       V1   \n",
       "3      2020-11-22         2020-11-22     ES                       V1   \n",
       "4      2020-11-22         2020-11-22     ES                       V1   \n",
       "\n",
       "  verification_key_id  signature_algorithm  \\\n",
       "0                 214  1.2.840.10045.4.3.2   \n",
       "1                 214  1.2.840.10045.4.3.2   \n",
       "2                 214  1.2.840.10045.4.3.2   \n",
       "3                 214  1.2.840.10045.4.3.2   \n",
       "4                 214  1.2.840.10045.4.3.2   \n",
       "\n",
       "                               key_data  rolling_start_interval_number  \\\n",
       "0  b2f0f639-6727-9021-b90c-b0320fe4d1a2                        2676672   \n",
       "1  cb2d8599-dbde-430c-ace1-0296fd7796c0                        2676672   \n",
       "2  c7e924e3-18e5-a6d9-4c64-d5f3ada545f3                        2676672   \n",
       "3  699a04c5-2d03-1e76-bb2d-e1f188843438                        2676672   \n",
       "4  4358ed5b-18ad-1c93-2993-235131c0e707                        2676672   \n",
       "\n",
       "   rolling_period  transmission_risk_level backend_identifier  \n",
       "0             132                        0                 ES  \n",
       "1             132                        0                 ES  \n",
       "2             130                        0                 ES  \n",
       "3             129                        0                 ES  \n",
       "4             128                        0                 ES  "
      ]
     },
     "execution_count": 18,
     "metadata": {},
     "output_type": "execute_result"
    }
   ],
   "source": [
    "raw_zip_path_prefix = \"Data/TEKs/Raw/\"\n",
    "fail_on_error_backend_identifiers = [report_backend_identifier]\n",
    "multi_backend_exposure_keys_df = \\\n",
    "    exposure_notification_io.download_exposure_keys_from_backends(\n",
    "        backend_identifiers=report_backend_identifiers,\n",
    "        generation_days=backend_generation_days,\n",
    "        fail_on_error_backend_identifiers=fail_on_error_backend_identifiers,\n",
    "        save_raw_zip_path_prefix=raw_zip_path_prefix)\n",
    "multi_backend_exposure_keys_df[\"region\"] = multi_backend_exposure_keys_df[\"backend_identifier\"]\n",
    "multi_backend_exposure_keys_df.rename(\n",
    "    columns={\n",
    "        \"generation_datetime\": \"sample_datetime\",\n",
    "        \"generation_date_string\": \"sample_date_string\",\n",
    "    },\n",
    "    inplace=True)\n",
    "multi_backend_exposure_keys_df.head()"
   ]
  },
  {
   "cell_type": "code",
   "execution_count": 19,
   "metadata": {
    "collapsed": false,
    "execution": {
     "iopub.execute_input": "2020-11-22T23:23:59.483164Z",
     "iopub.status.busy": "2020-11-22T23:23:59.482509Z",
     "iopub.status.idle": "2020-11-22T23:23:59.717403Z",
     "shell.execute_reply": "2020-11-22T23:23:59.717827Z"
    },
    "papermill": {
     "duration": 0.285568,
     "end_time": "2020-11-22T23:23:59.717974",
     "exception": false,
     "start_time": "2020-11-22T23:23:59.432406",
     "status": "completed"
    },
    "pycharm": {
     "name": "#%%\n"
    },
    "tags": []
   },
   "outputs": [
    {
     "data": {
      "text/plain": [
       "<matplotlib.axes._subplots.AxesSubplot at 0x7fe9d658e970>"
      ]
     },
     "execution_count": 19,
     "metadata": {},
     "output_type": "execute_result"
    },
    {
     "data": {
      "image/png": "[encoded data removed]",
      "text/plain": [
       "<Figure size 1080x432 with 1 Axes>"
      ]
     },
     "metadata": {},
     "output_type": "display_data"
    }
   ],
   "source": [
    "early_teks_df = multi_backend_exposure_keys_df[\n",
    "    multi_backend_exposure_keys_df.rolling_period < 144].copy()\n",
    "early_teks_df[\"rolling_period_in_hours\"] = early_teks_df.rolling_period / 6\n",
    "early_teks_df[early_teks_df.sample_date_string != extraction_date] \\\n",
    "    .rolling_period_in_hours.hist(bins=list(range(24)))"
   ]
  },
  {
   "cell_type": "code",
   "execution_count": 20,
   "metadata": {
    "collapsed": false,
    "execution": {
     "iopub.execute_input": "2020-11-22T23:23:59.840114Z",
     "iopub.status.busy": "2020-11-22T23:23:59.824673Z",
     "iopub.status.idle": "2020-11-22T23:24:00.040056Z",
     "shell.execute_reply": "2020-11-22T23:24:00.040730Z"
    },
    "papermill": {
     "duration": 0.271937,
     "end_time": "2020-11-22T23:24:00.040931",
     "exception": false,
     "start_time": "2020-11-22T23:23:59.768994",
     "status": "completed"
    },
    "pycharm": {
     "name": "#%%\n"
    },
    "tags": []
   },
   "outputs": [
    {
     "data": {
      "text/plain": [
       "<matplotlib.axes._subplots.AxesSubplot at 0x7fe9d6320460>"
      ]
     },
     "execution_count": 20,
     "metadata": {},
     "output_type": "execute_result"
    },
    {
     "data": {
      "image/png": "[encoded data removed]",
      "text/plain": [
       "<Figure size 1080x432 with 1 Axes>"
      ]
     },
     "metadata": {},
     "output_type": "display_data"
    }
   ],
   "source": [
    "early_teks_df[early_teks_df.sample_date_string == extraction_date] \\\n",
    "    .rolling_period_in_hours.hist(bins=list(range(24)))"
   ]
  },
  {
   "cell_type": "code",
   "execution_count": 21,
   "metadata": {
    "collapsed": false,
    "execution": {
     "iopub.execute_input": "2020-11-22T23:24:00.153098Z",
     "iopub.status.busy": "2020-11-22T23:24:00.152396Z",
     "iopub.status.idle": "2020-11-22T23:24:00.190565Z",
     "shell.execute_reply": "2020-11-22T23:24:00.191012Z"
    },
    "papermill": {
     "duration": 0.096312,
     "end_time": "2020-11-22T23:24:00.191167",
     "exception": false,
     "start_time": "2020-11-22T23:24:00.094855",
     "status": "completed"
    },
    "pycharm": {
     "name": "#%%\n"
    },
    "tags": []
   },
   "outputs": [
    {
     "data": {
      "text/html": [
       "<div>\n",
       "<style scoped>\n",
       "    .dataframe tbody tr th:only-of-type {\n",
       "        vertical-align: middle;\n",
       "    }\n",
       "\n",
       "    .dataframe tbody tr th {\n",
       "        vertical-align: top;\n",
       "    }\n",
       "\n",
       "    .dataframe thead th {\n",
       "        text-align: right;\n",
       "    }\n",
       "</style>\n",
       "<table border=\"1\" class=\"dataframe\">\n",
       "  <thead>\n",
       "    <tr style=\"text-align: right;\">\n",
       "      <th></th>\n",
       "      <th>sample_date_string</th>\n",
       "      <th>region</th>\n",
       "      <th>key_data</th>\n",
       "    </tr>\n",
       "  </thead>\n",
       "  <tbody>\n",
       "    <tr>\n",
       "      <th>0</th>\n",
       "      <td>2020-11-22</td>\n",
       "      <td>ES</td>\n",
       "      <td>b2f0f639-6727-9021-b90c-b0320fe4d1a2</td>\n",
       "    </tr>\n",
       "    <tr>\n",
       "      <th>1</th>\n",
       "      <td>2020-11-22</td>\n",
       "      <td>ES</td>\n",
       "      <td>cb2d8599-dbde-430c-ace1-0296fd7796c0</td>\n",
       "    </tr>\n",
       "    <tr>\n",
       "      <th>2</th>\n",
       "      <td>2020-11-22</td>\n",
       "      <td>ES</td>\n",
       "      <td>c7e924e3-18e5-a6d9-4c64-d5f3ada545f3</td>\n",
       "    </tr>\n",
       "    <tr>\n",
       "      <th>3</th>\n",
       "      <td>2020-11-22</td>\n",
       "      <td>ES</td>\n",
       "      <td>699a04c5-2d03-1e76-bb2d-e1f188843438</td>\n",
       "    </tr>\n",
       "    <tr>\n",
       "      <th>4</th>\n",
       "      <td>2020-11-22</td>\n",
       "      <td>ES</td>\n",
       "      <td>4358ed5b-18ad-1c93-2993-235131c0e707</td>\n",
       "    </tr>\n",
       "  </tbody>\n",
       "</table>\n",
       "</div>"
      ],
      "text/plain": [
       "  sample_date_string region                              key_data\n",
       "0         2020-11-22     ES  b2f0f639-6727-9021-b90c-b0320fe4d1a2\n",
       "1         2020-11-22     ES  cb2d8599-dbde-430c-ace1-0296fd7796c0\n",
       "2         2020-11-22     ES  c7e924e3-18e5-a6d9-4c64-d5f3ada545f3\n",
       "3         2020-11-22     ES  699a04c5-2d03-1e76-bb2d-e1f188843438\n",
       "4         2020-11-22     ES  4358ed5b-18ad-1c93-2993-235131c0e707"
      ]
     },
     "execution_count": 21,
     "metadata": {},
     "output_type": "execute_result"
    }
   ],
   "source": [
    "multi_backend_exposure_keys_df = multi_backend_exposure_keys_df[[\n",
    "    \"sample_date_string\", \"region\", \"key_data\"]]\n",
    "multi_backend_exposure_keys_df.head()"
   ]
  },
  {
   "cell_type": "code",
   "execution_count": 22,
   "metadata": {
    "collapsed": false,
    "execution": {
     "iopub.execute_input": "2020-11-22T23:24:00.296835Z",
     "iopub.status.busy": "2020-11-22T23:24:00.296090Z",
     "iopub.status.idle": "2020-11-22T23:24:03.681972Z",
     "shell.execute_reply": "2020-11-22T23:24:03.681426Z"
    },
    "papermill": {
     "duration": 3.439503,
     "end_time": "2020-11-22T23:24:03.682098",
     "exception": false,
     "start_time": "2020-11-22T23:24:00.242595",
     "status": "completed"
    },
    "pycharm": {
     "name": "#%%\n"
    },
    "tags": []
   },
   "outputs": [
    {
     "data": {
      "text/plain": [
       "['BE@TST', 'MT', 'EE', 'PT', 'BE', 'DK', 'CH', 'ES@PRE', 'DE', 'IT', 'ES']"
      ]
     },
     "execution_count": 22,
     "metadata": {},
     "output_type": "execute_result"
    }
   ],
   "source": [
    "active_regions = \\\n",
    "    multi_backend_exposure_keys_df.groupby(\"region\").key_data.nunique().sort_values().index.unique().tolist()\n",
    "active_regions"
   ]
  },
  {
   "cell_type": "code",
   "execution_count": 23,
   "metadata": {
    "collapsed": false,
    "execution": {
     "iopub.execute_input": "2020-11-22T23:24:03.816720Z",
     "iopub.status.busy": "2020-11-22T23:24:03.816089Z",
     "iopub.status.idle": "2020-11-22T23:24:07.360238Z",
     "shell.execute_reply": "2020-11-22T23:24:07.360688Z"
    },
    "papermill": {
     "duration": 3.631069,
     "end_time": "2020-11-22T23:24:07.360831",
     "exception": false,
     "start_time": "2020-11-22T23:24:03.729762",
     "status": "completed"
    },
    "pycharm": {
     "name": "#%%\n"
    },
    "tags": []
   },
   "outputs": [
    {
     "data": {
      "text/html": [
       "<div>\n",
       "<style scoped>\n",
       "    .dataframe tbody tr th:only-of-type {\n",
       "        vertical-align: middle;\n",
       "    }\n",
       "\n",
       "    .dataframe tbody tr th {\n",
       "        vertical-align: top;\n",
       "    }\n",
       "\n",
       "    .dataframe thead tr th {\n",
       "        text-align: left;\n",
       "    }\n",
       "\n",
       "    .dataframe thead tr:last-of-type th {\n",
       "        text-align: right;\n",
       "    }\n",
       "</style>\n",
       "<table border=\"1\" class=\"dataframe\">\n",
       "  <thead>\n",
       "    <tr>\n",
       "      <th></th>\n",
       "      <th colspan=\"11\" halign=\"left\">shared_teks_by_generation_date</th>\n",
       "    </tr>\n",
       "    <tr>\n",
       "      <th>region</th>\n",
       "      <th>BE</th>\n",
       "      <th>BE@TST</th>\n",
       "      <th>CH</th>\n",
       "      <th>DE</th>\n",
       "      <th>DK</th>\n",
       "      <th>EE</th>\n",
       "      <th>ES</th>\n",
       "      <th>ES@PRE</th>\n",
       "      <th>IT</th>\n",
       "      <th>MT</th>\n",
       "      <th>PT</th>\n",
       "    </tr>\n",
       "    <tr>\n",
       "      <th>sample_date</th>\n",
       "      <th></th>\n",
       "      <th></th>\n",
       "      <th></th>\n",
       "      <th></th>\n",
       "      <th></th>\n",
       "      <th></th>\n",
       "      <th></th>\n",
       "      <th></th>\n",
       "      <th></th>\n",
       "      <th></th>\n",
       "      <th></th>\n",
       "    </tr>\n",
       "  </thead>\n",
       "  <tbody>\n",
       "    <tr>\n",
       "      <th>2020-11-22</th>\n",
       "      <td>0</td>\n",
       "      <td>0</td>\n",
       "      <td>316</td>\n",
       "      <td>0</td>\n",
       "      <td>1</td>\n",
       "      <td>0</td>\n",
       "      <td>132</td>\n",
       "      <td>0</td>\n",
       "      <td>11</td>\n",
       "      <td>0</td>\n",
       "      <td>0</td>\n",
       "    </tr>\n",
       "    <tr>\n",
       "      <th>2020-11-21</th>\n",
       "      <td>0</td>\n",
       "      <td>0</td>\n",
       "      <td>844</td>\n",
       "      <td>0</td>\n",
       "      <td>222</td>\n",
       "      <td>44</td>\n",
       "      <td>1050</td>\n",
       "      <td>215</td>\n",
       "      <td>930</td>\n",
       "      <td>108</td>\n",
       "      <td>65</td>\n",
       "    </tr>\n",
       "    <tr>\n",
       "      <th>2020-11-20</th>\n",
       "      <td>165</td>\n",
       "      <td>50</td>\n",
       "      <td>1401</td>\n",
       "      <td>1768</td>\n",
       "      <td>343</td>\n",
       "      <td>72</td>\n",
       "      <td>3159</td>\n",
       "      <td>577</td>\n",
       "      <td>2780</td>\n",
       "      <td>112</td>\n",
       "      <td>94</td>\n",
       "    </tr>\n",
       "    <tr>\n",
       "      <th>2020-11-19</th>\n",
       "      <td>214</td>\n",
       "      <td>45</td>\n",
       "      <td>1911</td>\n",
       "      <td>3844</td>\n",
       "      <td>549</td>\n",
       "      <td>98</td>\n",
       "      <td>5556</td>\n",
       "      <td>946</td>\n",
       "      <td>4848</td>\n",
       "      <td>115</td>\n",
       "      <td>136</td>\n",
       "    </tr>\n",
       "    <tr>\n",
       "      <th>2020-11-18</th>\n",
       "      <td>259</td>\n",
       "      <td>45</td>\n",
       "      <td>2525</td>\n",
       "      <td>5849</td>\n",
       "      <td>715</td>\n",
       "      <td>126</td>\n",
       "      <td>7934</td>\n",
       "      <td>1393</td>\n",
       "      <td>6856</td>\n",
       "      <td>120</td>\n",
       "      <td>184</td>\n",
       "    </tr>\n",
       "  </tbody>\n",
       "</table>\n",
       "</div>"
      ],
      "text/plain": [
       "            shared_teks_by_generation_date                                     \\\n",
       "region                                  BE BE@TST    CH    DE   DK   EE    ES   \n",
       "sample_date                                                                     \n",
       "2020-11-22                               0      0   316     0    1    0   132   \n",
       "2020-11-21                               0      0   844     0  222   44  1050   \n",
       "2020-11-20                             165     50  1401  1768  343   72  3159   \n",
       "2020-11-19                             214     45  1911  3844  549   98  5556   \n",
       "2020-11-18                             259     45  2525  5849  715  126  7934   \n",
       "\n",
       "                                    \n",
       "region      ES@PRE    IT   MT   PT  \n",
       "sample_date                         \n",
       "2020-11-22       0    11    0    0  \n",
       "2020-11-21     215   930  108   65  \n",
       "2020-11-20     577  2780  112   94  \n",
       "2020-11-19     946  4848  115  136  \n",
       "2020-11-18    1393  6856  120  184  "
      ]
     },
     "execution_count": 23,
     "metadata": {},
     "output_type": "execute_result"
    }
   ],
   "source": [
    "multi_backend_summary_df = multi_backend_exposure_keys_df.groupby(\n",
    "    [\"sample_date_string\", \"region\"]).key_data.nunique().reset_index() \\\n",
    "    .pivot(index=\"sample_date_string\", columns=\"region\") \\\n",
    "    .sort_index(ascending=False)\n",
    "multi_backend_summary_df.rename(\n",
    "    columns={\"key_data\": \"shared_teks_by_generation_date\"},\n",
    "    inplace=True)\n",
    "multi_backend_summary_df.rename_axis(\"sample_date\", inplace=True)\n",
    "multi_backend_summary_df = multi_backend_summary_df.fillna(0).astype(int)\n",
    "multi_backend_summary_df = multi_backend_summary_df.head(backend_generation_days)\n",
    "multi_backend_summary_df.head()"
   ]
  },
  {
   "cell_type": "code",
   "execution_count": 24,
   "metadata": {
    "collapsed": false,
    "execution": {
     "iopub.execute_input": "2020-11-22T23:24:07.482839Z",
     "iopub.status.busy": "2020-11-22T23:24:07.482147Z",
     "iopub.status.idle": "2020-11-22T23:24:12.622051Z",
     "shell.execute_reply": "2020-11-22T23:24:12.621534Z"
    },
    "papermill": {
     "duration": 5.199107,
     "end_time": "2020-11-22T23:24:12.622209",
     "exception": false,
     "start_time": "2020-11-22T23:24:07.423102",
     "status": "completed"
    },
    "pycharm": {
     "name": "#%%\n"
    },
    "tags": []
   },
   "outputs": [
    {
     "name": "stderr",
     "output_type": "stream",
     "text": [
      "<ipython-input-24-4e21708c19d8>:2: FutureWarning: `item` has been deprecated and will be removed in a future version\n",
      "  teks_x = x.key_data_x.item()\n",
      "<ipython-input-24-4e21708c19d8>:3: FutureWarning: `item` has been deprecated and will be removed in a future version\n",
      "  common_teks = set(teks_x).intersection(x.key_data_y.item())\n"
     ]
    },
    {
     "name": "stderr",
     "output_type": "stream",
     "text": [
      "<ipython-input-24-4e21708c19d8>:33: FutureWarning: `item` has been deprecated and will be removed in a future version\n",
      "  aggfunc=lambda x: x.item())\n"
     ]
    },
    {
     "data": {
      "text/html": [
       "<div>\n",
       "<style scoped>\n",
       "    .dataframe tbody tr th:only-of-type {\n",
       "        vertical-align: middle;\n",
       "    }\n",
       "\n",
       "    .dataframe tbody tr th {\n",
       "        vertical-align: top;\n",
       "    }\n",
       "\n",
       "    .dataframe thead tr th {\n",
       "        text-align: left;\n",
       "    }\n",
       "\n",
       "    .dataframe thead tr:last-of-type th {\n",
       "        text-align: right;\n",
       "    }\n",
       "</style>\n",
       "<table border=\"1\" class=\"dataframe\">\n",
       "  <thead>\n",
       "    <tr>\n",
       "      <th></th>\n",
       "      <th colspan=\"11\" halign=\"left\">common_teks_fraction</th>\n",
       "    </tr>\n",
       "    <tr>\n",
       "      <th>region_x</th>\n",
       "      <th>BE</th>\n",
       "      <th>BE@TST</th>\n",
       "      <th>CH</th>\n",
       "      <th>DE</th>\n",
       "      <th>DK</th>\n",
       "      <th>EE</th>\n",
       "      <th>ES</th>\n",
       "      <th>ES@PRE</th>\n",
       "      <th>IT</th>\n",
       "      <th>MT</th>\n",
       "      <th>PT</th>\n",
       "    </tr>\n",
       "    <tr>\n",
       "      <th>region_y</th>\n",
       "      <th></th>\n",
       "      <th></th>\n",
       "      <th></th>\n",
       "      <th></th>\n",
       "      <th></th>\n",
       "      <th></th>\n",
       "      <th></th>\n",
       "      <th></th>\n",
       "      <th></th>\n",
       "      <th></th>\n",
       "      <th></th>\n",
       "    </tr>\n",
       "  </thead>\n",
       "  <tbody>\n",
       "    <tr>\n",
       "      <th>BE</th>\n",
       "      <td>NaN</td>\n",
       "      <td>0.0</td>\n",
       "      <td>0.0</td>\n",
       "      <td>0.000000</td>\n",
       "      <td>0.000000</td>\n",
       "      <td>0.0</td>\n",
       "      <td>0.000000</td>\n",
       "      <td>0.000000</td>\n",
       "      <td>0.000000</td>\n",
       "      <td>0.0</td>\n",
       "      <td>0.0</td>\n",
       "    </tr>\n",
       "    <tr>\n",
       "      <th>BE@TST</th>\n",
       "      <td>0.0</td>\n",
       "      <td>NaN</td>\n",
       "      <td>0.0</td>\n",
       "      <td>0.000000</td>\n",
       "      <td>0.000000</td>\n",
       "      <td>0.0</td>\n",
       "      <td>0.000000</td>\n",
       "      <td>0.000000</td>\n",
       "      <td>0.000000</td>\n",
       "      <td>0.0</td>\n",
       "      <td>0.0</td>\n",
       "    </tr>\n",
       "    <tr>\n",
       "      <th>CH</th>\n",
       "      <td>0.0</td>\n",
       "      <td>0.0</td>\n",
       "      <td>NaN</td>\n",
       "      <td>0.000000</td>\n",
       "      <td>0.000000</td>\n",
       "      <td>0.0</td>\n",
       "      <td>0.000000</td>\n",
       "      <td>0.000000</td>\n",
       "      <td>0.000000</td>\n",
       "      <td>0.0</td>\n",
       "      <td>0.0</td>\n",
       "    </tr>\n",
       "    <tr>\n",
       "      <th>DE</th>\n",
       "      <td>0.0</td>\n",
       "      <td>0.0</td>\n",
       "      <td>0.0</td>\n",
       "      <td>NaN</td>\n",
       "      <td>0.000000</td>\n",
       "      <td>0.0</td>\n",
       "      <td>0.764379</td>\n",
       "      <td>0.000277</td>\n",
       "      <td>0.879761</td>\n",
       "      <td>0.0</td>\n",
       "      <td>0.0</td>\n",
       "    </tr>\n",
       "    <tr>\n",
       "      <th>DK</th>\n",
       "      <td>0.0</td>\n",
       "      <td>0.0</td>\n",
       "      <td>0.0</td>\n",
       "      <td>0.000000</td>\n",
       "      <td>NaN</td>\n",
       "      <td>0.0</td>\n",
       "      <td>0.075033</td>\n",
       "      <td>0.000000</td>\n",
       "      <td>0.000000</td>\n",
       "      <td>0.0</td>\n",
       "      <td>0.0</td>\n",
       "    </tr>\n",
       "    <tr>\n",
       "      <th>EE</th>\n",
       "      <td>0.0</td>\n",
       "      <td>0.0</td>\n",
       "      <td>0.0</td>\n",
       "      <td>0.000000</td>\n",
       "      <td>0.000000</td>\n",
       "      <td>NaN</td>\n",
       "      <td>0.000000</td>\n",
       "      <td>0.000000</td>\n",
       "      <td>0.000000</td>\n",
       "      <td>0.0</td>\n",
       "      <td>0.0</td>\n",
       "    </tr>\n",
       "    <tr>\n",
       "      <th>ES</th>\n",
       "      <td>0.0</td>\n",
       "      <td>0.0</td>\n",
       "      <td>0.0</td>\n",
       "      <td>0.960556</td>\n",
       "      <td>0.804979</td>\n",
       "      <td>0.0</td>\n",
       "      <td>NaN</td>\n",
       "      <td>0.000277</td>\n",
       "      <td>0.984984</td>\n",
       "      <td>0.0</td>\n",
       "      <td>0.0</td>\n",
       "    </tr>\n",
       "    <tr>\n",
       "      <th>ES@PRE</th>\n",
       "      <td>0.0</td>\n",
       "      <td>0.0</td>\n",
       "      <td>0.0</td>\n",
       "      <td>0.000066</td>\n",
       "      <td>0.000000</td>\n",
       "      <td>0.0</td>\n",
       "      <td>0.000053</td>\n",
       "      <td>NaN</td>\n",
       "      <td>0.000061</td>\n",
       "      <td>0.0</td>\n",
       "      <td>0.0</td>\n",
       "    </tr>\n",
       "    <tr>\n",
       "      <th>IT</th>\n",
       "      <td>0.0</td>\n",
       "      <td>0.0</td>\n",
       "      <td>0.0</td>\n",
       "      <td>0.960556</td>\n",
       "      <td>0.000000</td>\n",
       "      <td>0.0</td>\n",
       "      <td>0.855802</td>\n",
       "      <td>0.000277</td>\n",
       "      <td>NaN</td>\n",
       "      <td>0.0</td>\n",
       "      <td>0.0</td>\n",
       "    </tr>\n",
       "    <tr>\n",
       "      <th>MT</th>\n",
       "      <td>0.0</td>\n",
       "      <td>0.0</td>\n",
       "      <td>0.0</td>\n",
       "      <td>0.000000</td>\n",
       "      <td>0.000000</td>\n",
       "      <td>0.0</td>\n",
       "      <td>0.000000</td>\n",
       "      <td>0.000000</td>\n",
       "      <td>0.000000</td>\n",
       "      <td>NaN</td>\n",
       "      <td>0.0</td>\n",
       "    </tr>\n",
       "    <tr>\n",
       "      <th>PT</th>\n",
       "      <td>0.0</td>\n",
       "      <td>0.0</td>\n",
       "      <td>0.0</td>\n",
       "      <td>0.000000</td>\n",
       "      <td>0.000000</td>\n",
       "      <td>0.0</td>\n",
       "      <td>0.000000</td>\n",
       "      <td>0.000000</td>\n",
       "      <td>0.000000</td>\n",
       "      <td>0.0</td>\n",
       "      <td>NaN</td>\n",
       "    </tr>\n",
       "  </tbody>\n",
       "</table>\n",
       "</div>"
      ],
      "text/plain": [
       "         common_teks_fraction                                                 \\\n",
       "region_x                   BE BE@TST   CH        DE        DK   EE        ES   \n",
       "region_y                                                                       \n",
       "BE                        NaN    0.0  0.0  0.000000  0.000000  0.0  0.000000   \n",
       "BE@TST                    0.0    NaN  0.0  0.000000  0.000000  0.0  0.000000   \n",
       "CH                        0.0    0.0  NaN  0.000000  0.000000  0.0  0.000000   \n",
       "DE                        0.0    0.0  0.0       NaN  0.000000  0.0  0.764379   \n",
       "DK                        0.0    0.0  0.0  0.000000       NaN  0.0  0.075033   \n",
       "EE                        0.0    0.0  0.0  0.000000  0.000000  NaN  0.000000   \n",
       "ES                        0.0    0.0  0.0  0.960556  0.804979  0.0       NaN   \n",
       "ES@PRE                    0.0    0.0  0.0  0.000066  0.000000  0.0  0.000053   \n",
       "IT                        0.0    0.0  0.0  0.960556  0.000000  0.0  0.855802   \n",
       "MT                        0.0    0.0  0.0  0.000000  0.000000  0.0  0.000000   \n",
       "PT                        0.0    0.0  0.0  0.000000  0.000000  0.0  0.000000   \n",
       "\n",
       "                                        \n",
       "region_x    ES@PRE        IT   MT   PT  \n",
       "region_y                                \n",
       "BE        0.000000  0.000000  0.0  0.0  \n",
       "BE@TST    0.000000  0.000000  0.0  0.0  \n",
       "CH        0.000000  0.000000  0.0  0.0  \n",
       "DE        0.000277  0.879761  0.0  0.0  \n",
       "DK        0.000000  0.000000  0.0  0.0  \n",
       "EE        0.000000  0.000000  0.0  0.0  \n",
       "ES        0.000277  0.984984  0.0  0.0  \n",
       "ES@PRE         NaN  0.000061  0.0  0.0  \n",
       "IT        0.000277       NaN  0.0  0.0  \n",
       "MT        0.000000  0.000000  NaN  0.0  \n",
       "PT        0.000000  0.000000  0.0  NaN  "
      ]
     },
     "execution_count": 24,
     "metadata": {},
     "output_type": "execute_result"
    }
   ],
   "source": [
    "def compute_keys_cross_sharing(x):\n",
    "    teks_x = x.key_data_x.item()\n",
    "    common_teks = set(teks_x).intersection(x.key_data_y.item())\n",
    "    common_teks_fraction = len(common_teks) / len(teks_x)\n",
    "    return pd.Series(dict(\n",
    "        common_teks=common_teks,\n",
    "        common_teks_fraction=common_teks_fraction,\n",
    "    ))\n",
    "\n",
    "multi_backend_exposure_keys_by_region_df = \\\n",
    "    multi_backend_exposure_keys_df.groupby(\"region\").key_data.unique().reset_index()\n",
    "multi_backend_exposure_keys_by_region_df[\"_merge\"] = True\n",
    "multi_backend_exposure_keys_by_region_combination_df = \\\n",
    "    multi_backend_exposure_keys_by_region_df.merge(\n",
    "        multi_backend_exposure_keys_by_region_df, on=\"_merge\")\n",
    "multi_backend_exposure_keys_by_region_combination_df.drop(\n",
    "    columns=[\"_merge\"], inplace=True)\n",
    "if multi_backend_exposure_keys_by_region_combination_df.region_x.nunique() > 1:\n",
    "    multi_backend_exposure_keys_by_region_combination_df = \\\n",
    "        multi_backend_exposure_keys_by_region_combination_df[\n",
    "            multi_backend_exposure_keys_by_region_combination_df.region_x !=\n",
    "            multi_backend_exposure_keys_by_region_combination_df.region_y]\n",
    "multi_backend_exposure_keys_cross_sharing_df = \\\n",
    "    multi_backend_exposure_keys_by_region_combination_df \\\n",
    "        .groupby([\"region_x\", \"region_y\"]) \\\n",
    "        .apply(compute_keys_cross_sharing) \\\n",
    "        .reset_index()\n",
    "multi_backend_cross_sharing_summary_df = \\\n",
    "    multi_backend_exposure_keys_cross_sharing_df.pivot_table(\n",
    "        values=[\"common_teks_fraction\"],\n",
    "        columns=\"region_x\",\n",
    "        index=\"region_y\",\n",
    "        aggfunc=lambda x: x.item())\n",
    "multi_backend_cross_sharing_summary_df"
   ]
  },
  {
   "cell_type": "code",
   "execution_count": 25,
   "metadata": {
    "collapsed": false,
    "execution": {
     "iopub.execute_input": "2020-11-22T23:24:12.769339Z",
     "iopub.status.busy": "2020-11-22T23:24:12.768583Z",
     "iopub.status.idle": "2020-11-22T23:24:14.902037Z",
     "shell.execute_reply": "2020-11-22T23:24:14.901526Z"
    },
    "papermill": {
     "duration": 2.225032,
     "end_time": "2020-11-22T23:24:14.902264",
     "exception": false,
     "start_time": "2020-11-22T23:24:12.677232",
     "status": "completed"
    },
    "pycharm": {
     "name": "#%%\n"
    },
    "tags": []
   },
   "outputs": [
    {
     "data": {
      "text/plain": [
       "['BE@TST', 'MT', 'EE', 'PT', 'BE', 'DK', 'CH', 'ES@PRE', 'DE', 'IT']"
      ]
     },
     "execution_count": 25,
     "metadata": {},
     "output_type": "execute_result"
    }
   ],
   "source": [
    "multi_backend_without_active_region_exposure_keys_df = \\\n",
    "    multi_backend_exposure_keys_df[multi_backend_exposure_keys_df.region != report_backend_identifier]\n",
    "multi_backend_without_active_region = \\\n",
    "    multi_backend_without_active_region_exposure_keys_df.groupby(\"region\").key_data.nunique().sort_values().index.unique().tolist()\n",
    "multi_backend_without_active_region"
   ]
  },
  {
   "cell_type": "code",
   "execution_count": 26,
   "metadata": {
    "execution": {
     "iopub.execute_input": "2020-11-22T23:24:15.045355Z",
     "iopub.status.busy": "2020-11-22T23:24:15.044607Z",
     "iopub.status.idle": "2020-11-22T23:24:16.422902Z",
     "shell.execute_reply": "2020-11-22T23:24:16.423462Z"
    },
    "papermill": {
     "duration": 1.466791,
     "end_time": "2020-11-22T23:24:16.423619",
     "exception": false,
     "start_time": "2020-11-22T23:24:14.956828",
     "status": "completed"
    },
    "scrolled": false,
    "tags": []
   },
   "outputs": [
    {
     "name": "stderr",
     "output_type": "stream",
     "text": [
      "/opt/hostedtoolcache/Python/3.8.6/x64/lib/python3.8/site-packages/pandas/core/frame.py:4110: SettingWithCopyWarning: \n",
      "A value is trying to be set on a copy of a slice from a DataFrame\n",
      "\n",
      "See the caveats in the documentation: http://pandas.pydata.org/pandas-docs/stable/user_guide/indexing.html#returning-a-view-versus-a-copy\n",
      "  return super().drop(\n"
     ]
    },
    {
     "data": {
      "text/html": [
       "<div>\n",
       "<style scoped>\n",
       "    .dataframe tbody tr th:only-of-type {\n",
       "        vertical-align: middle;\n",
       "    }\n",
       "\n",
       "    .dataframe tbody tr th {\n",
       "        vertical-align: top;\n",
       "    }\n",
       "\n",
       "    .dataframe thead th {\n",
       "        text-align: right;\n",
       "    }\n",
       "</style>\n",
       "<table border=\"1\" class=\"dataframe\">\n",
       "  <thead>\n",
       "    <tr style=\"text-align: right;\">\n",
       "      <th></th>\n",
       "      <th>shared_teks_by_generation_date</th>\n",
       "    </tr>\n",
       "    <tr>\n",
       "      <th>sample_date_string</th>\n",
       "      <th></th>\n",
       "    </tr>\n",
       "  </thead>\n",
       "  <tbody>\n",
       "    <tr>\n",
       "      <th>2020-11-22</th>\n",
       "      <td>132</td>\n",
       "    </tr>\n",
       "    <tr>\n",
       "      <th>2020-11-21</th>\n",
       "      <td>1050</td>\n",
       "    </tr>\n",
       "    <tr>\n",
       "      <th>2020-11-20</th>\n",
       "      <td>3159</td>\n",
       "    </tr>\n",
       "    <tr>\n",
       "      <th>2020-11-19</th>\n",
       "      <td>5556</td>\n",
       "    </tr>\n",
       "    <tr>\n",
       "      <th>2020-11-18</th>\n",
       "      <td>7934</td>\n",
       "    </tr>\n",
       "  </tbody>\n",
       "</table>\n",
       "</div>"
      ],
      "text/plain": [
       "                    shared_teks_by_generation_date\n",
       "sample_date_string                                \n",
       "2020-11-22                                     132\n",
       "2020-11-21                                    1050\n",
       "2020-11-20                                    3159\n",
       "2020-11-19                                    5556\n",
       "2020-11-18                                    7934"
      ]
     },
     "execution_count": 26,
     "metadata": {},
     "output_type": "execute_result"
    }
   ],
   "source": [
    "exposure_keys_summary_df = multi_backend_exposure_keys_df[\n",
    "    multi_backend_exposure_keys_df.region == report_backend_identifier]\n",
    "exposure_keys_summary_df.drop(columns=[\"region\"], inplace=True)\n",
    "exposure_keys_summary_df = \\\n",
    "    exposure_keys_summary_df.groupby([\"sample_date_string\"]).key_data.nunique().to_frame()\n",
    "exposure_keys_summary_df = \\\n",
    "    exposure_keys_summary_df.reset_index().set_index(\"sample_date_string\")\n",
    "exposure_keys_summary_df.sort_index(ascending=False, inplace=True)\n",
    "exposure_keys_summary_df.rename(columns={\"key_data\": \"shared_teks_by_generation_date\"}, inplace=True)\n",
    "exposure_keys_summary_df.head()"
   ]
  },
  {
   "cell_type": "markdown",
   "metadata": {
    "papermill": {
     "duration": 0.052746,
     "end_time": "2020-11-22T23:24:16.530265",
     "exception": false,
     "start_time": "2020-11-22T23:24:16.477519",
     "status": "completed"
    },
    "tags": []
   },
   "source": [
    "### Dump API TEKs"
   ]
  },
  {
   "cell_type": "code",
   "execution_count": 27,
   "metadata": {
    "execution": {
     "iopub.execute_input": "2020-11-22T23:24:16.648260Z",
     "iopub.status.busy": "2020-11-22T23:24:16.647579Z",
     "iopub.status.idle": "2020-11-22T23:24:18.892732Z",
     "shell.execute_reply": "2020-11-22T23:24:18.893343Z"
    },
    "papermill": {
     "duration": 2.305465,
     "end_time": "2020-11-22T23:24:18.893510",
     "exception": false,
     "start_time": "2020-11-22T23:24:16.588045",
     "status": "completed"
    },
    "tags": []
   },
   "outputs": [
    {
     "data": {
      "text/html": [
       "<div>\n",
       "<style scoped>\n",
       "    .dataframe tbody tr th:only-of-type {\n",
       "        vertical-align: middle;\n",
       "    }\n",
       "\n",
       "    .dataframe tbody tr th {\n",
       "        vertical-align: top;\n",
       "    }\n",
       "\n",
       "    .dataframe thead th {\n",
       "        text-align: right;\n",
       "    }\n",
       "</style>\n",
       "<table border=\"1\" class=\"dataframe\">\n",
       "  <thead>\n",
       "    <tr style=\"text-align: right;\">\n",
       "      <th></th>\n",
       "      <th>sample_date</th>\n",
       "      <th>region</th>\n",
       "      <th>tek_list</th>\n",
       "      <th>extraction_date</th>\n",
       "      <th>extraction_date_with_hour</th>\n",
       "    </tr>\n",
       "  </thead>\n",
       "  <tbody>\n",
       "    <tr>\n",
       "      <th>0</th>\n",
       "      <td>2020-11-09</td>\n",
       "      <td>BE</td>\n",
       "      <td>[00063e71-04c4-954a-17da-29014ae539a8, 01f8861...</td>\n",
       "      <td>2020-11-22</td>\n",
       "      <td>2020-11-22@23</td>\n",
       "    </tr>\n",
       "    <tr>\n",
       "      <th>1</th>\n",
       "      <td>2020-11-09</td>\n",
       "      <td>BE@TST</td>\n",
       "      <td>[00176d7d-e4c8-89f7-f068-3446567b62b1, 0525e07...</td>\n",
       "      <td>2020-11-22</td>\n",
       "      <td>2020-11-22@23</td>\n",
       "    </tr>\n",
       "    <tr>\n",
       "      <th>2</th>\n",
       "      <td>2020-11-09</td>\n",
       "      <td>CH</td>\n",
       "      <td>[175c986c-1243-0a46-388d-68b39761c4cd, b6e6830...</td>\n",
       "      <td>2020-11-22</td>\n",
       "      <td>2020-11-22@23</td>\n",
       "    </tr>\n",
       "    <tr>\n",
       "      <th>3</th>\n",
       "      <td>2020-11-09</td>\n",
       "      <td>DE</td>\n",
       "      <td>[000fc78d-3974-1a1e-7cfd-73fdc2d09a89, 003d595...</td>\n",
       "      <td>2020-11-22</td>\n",
       "      <td>2020-11-22@23</td>\n",
       "    </tr>\n",
       "    <tr>\n",
       "      <th>4</th>\n",
       "      <td>2020-11-09</td>\n",
       "      <td>DK</td>\n",
       "      <td>[6ef263e3-ad44-9b61-8f65-2fd7489f659f, a311748...</td>\n",
       "      <td>2020-11-22</td>\n",
       "      <td>2020-11-22@23</td>\n",
       "    </tr>\n",
       "  </tbody>\n",
       "</table>\n",
       "</div>"
      ],
      "text/plain": [
       "  sample_date  region                                           tek_list  \\\n",
       "0  2020-11-09      BE  [00063e71-04c4-954a-17da-29014ae539a8, 01f8861...   \n",
       "1  2020-11-09  BE@TST  [00176d7d-e4c8-89f7-f068-3446567b62b1, 0525e07...   \n",
       "2  2020-11-09      CH  [175c986c-1243-0a46-388d-68b39761c4cd, b6e6830...   \n",
       "3  2020-11-09      DE  [000fc78d-3974-1a1e-7cfd-73fdc2d09a89, 003d595...   \n",
       "4  2020-11-09      DK  [6ef263e3-ad44-9b61-8f65-2fd7489f659f, a311748...   \n",
       "\n",
       "  extraction_date extraction_date_with_hour  \n",
       "0      2020-11-22             2020-11-22@23  \n",
       "1      2020-11-22             2020-11-22@23  \n",
       "2      2020-11-22             2020-11-22@23  \n",
       "3      2020-11-22             2020-11-22@23  \n",
       "4      2020-11-22             2020-11-22@23  "
      ]
     },
     "execution_count": 27,
     "metadata": {},
     "output_type": "execute_result"
    }
   ],
   "source": [
    "tek_list_df = multi_backend_exposure_keys_df[\n",
    "    [\"sample_date_string\", \"region\", \"key_data\"]].copy()\n",
    "tek_list_df[\"key_data\"] = tek_list_df[\"key_data\"].apply(str)\n",
    "tek_list_df.rename(columns={\n",
    "    \"sample_date_string\": \"sample_date\",\n",
    "    \"key_data\": \"tek_list\"}, inplace=True)\n",
    "tek_list_df = tek_list_df.groupby(\n",
    "    [\"sample_date\", \"region\"]).tek_list.unique().reset_index()\n",
    "tek_list_df[\"extraction_date\"] = extraction_date\n",
    "tek_list_df[\"extraction_date_with_hour\"] = extraction_date_with_hour\n",
    "\n",
    "tek_list_path_prefix = \"Data/TEKs/\"\n",
    "tek_list_current_path = tek_list_path_prefix + f\"/Current/RadarCOVID-TEKs.json\"\n",
    "tek_list_daily_path = tek_list_path_prefix + f\"Daily/RadarCOVID-TEKs-{extraction_date}.json\"\n",
    "tek_list_hourly_path = tek_list_path_prefix + f\"Hourly/RadarCOVID-TEKs-{extraction_date_with_hour}.json\"\n",
    "\n",
    "for path in [tek_list_current_path, tek_list_daily_path, tek_list_hourly_path]:\n",
    "    os.makedirs(os.path.dirname(path), exist_ok=True)\n",
    "\n",
    "tek_list_df.drop(columns=[\"extraction_date\", \"extraction_date_with_hour\"]).to_json(\n",
    "    tek_list_current_path,\n",
    "    lines=True, orient=\"records\")\n",
    "tek_list_df.drop(columns=[\"extraction_date_with_hour\"]).to_json(\n",
    "    tek_list_daily_path,\n",
    "    lines=True, orient=\"records\")\n",
    "tek_list_df.to_json(\n",
    "    tek_list_hourly_path,\n",
    "    lines=True, orient=\"records\")\n",
    "tek_list_df.head()"
   ]
  },
  {
   "cell_type": "markdown",
   "metadata": {
    "papermill": {
     "duration": 0.061204,
     "end_time": "2020-11-22T23:24:19.012181",
     "exception": false,
     "start_time": "2020-11-22T23:24:18.950977",
     "status": "completed"
    },
    "tags": []
   },
   "source": [
    "### Load TEK Dumps"
   ]
  },
  {
   "cell_type": "code",
   "execution_count": 28,
   "metadata": {
    "execution": {
     "iopub.execute_input": "2020-11-22T23:24:19.126429Z",
     "iopub.status.busy": "2020-11-22T23:24:19.125824Z",
     "iopub.status.idle": "2020-11-22T23:24:19.128994Z",
     "shell.execute_reply": "2020-11-22T23:24:19.128250Z"
    },
    "papermill": {
     "duration": 0.063129,
     "end_time": "2020-11-22T23:24:19.129108",
     "exception": false,
     "start_time": "2020-11-22T23:24:19.065979",
     "status": "completed"
    },
    "tags": []
   },
   "outputs": [],
   "source": [
    "import glob\n",
    "\n",
    "def load_extracted_teks(mode, region=None, limit=None) -> pd.DataFrame:\n",
    "    extracted_teks_df = pd.DataFrame(columns=[\"region\"])\n",
    "    file_paths = list(reversed(sorted(glob.glob(tek_list_path_prefix + mode + \"/RadarCOVID-TEKs-*.json\"))))\n",
    "    if limit:\n",
    "        file_paths = file_paths[:limit]\n",
    "    for file_path in file_paths:\n",
    "        logging.info(f\"Loading TEKs from '{file_path}'...\")\n",
    "        iteration_extracted_teks_df = pd.read_json(file_path, lines=True)\n",
    "        extracted_teks_df = extracted_teks_df.append(\n",
    "            iteration_extracted_teks_df, sort=False)\n",
    "    extracted_teks_df[\"region\"] = \\\n",
    "        extracted_teks_df.region.fillna(spain_region_country_code).copy()\n",
    "    if region:\n",
    "        extracted_teks_df = \\\n",
    "            extracted_teks_df[extracted_teks_df.region == region]\n",
    "    return extracted_teks_df"
   ]
  },
  {
   "cell_type": "code",
   "execution_count": 29,
   "metadata": {
    "collapsed": false,
    "execution": {
     "iopub.execute_input": "2020-11-22T23:24:19.253600Z",
     "iopub.status.busy": "2020-11-22T23:24:19.253046Z",
     "iopub.status.idle": "2020-11-22T23:24:25.650030Z",
     "shell.execute_reply": "2020-11-22T23:24:25.649439Z"
    },
    "papermill": {
     "duration": 6.45543,
     "end_time": "2020-11-22T23:24:25.650167",
     "exception": false,
     "start_time": "2020-11-22T23:24:19.194737",
     "status": "completed"
    },
    "pycharm": {
     "name": "#%%\n"
    },
    "tags": []
   },
   "outputs": [
    {
     "data": {
      "text/html": [
       "<div>\n",
       "<style scoped>\n",
       "    .dataframe tbody tr th:only-of-type {\n",
       "        vertical-align: middle;\n",
       "    }\n",
       "\n",
       "    .dataframe tbody tr th {\n",
       "        vertical-align: top;\n",
       "    }\n",
       "\n",
       "    .dataframe thead th {\n",
       "        text-align: right;\n",
       "    }\n",
       "</style>\n",
       "<table border=\"1\" class=\"dataframe\">\n",
       "  <thead>\n",
       "    <tr style=\"text-align: right;\">\n",
       "      <th></th>\n",
       "      <th>region</th>\n",
       "      <th>sample_date</th>\n",
       "      <th>tek_list</th>\n",
       "      <th>extraction_date</th>\n",
       "      <th>extraction_date_with_hour</th>\n",
       "    </tr>\n",
       "  </thead>\n",
       "  <tbody>\n",
       "    <tr>\n",
       "      <th>6</th>\n",
       "      <td>ES</td>\n",
       "      <td>2020-11-09</td>\n",
       "      <td>[e56c4b55-474c-3ac0-5a3a-16768a0b2918, 22d9586...</td>\n",
       "      <td>2020-11-22</td>\n",
       "      <td>NaN</td>\n",
       "    </tr>\n",
       "    <tr>\n",
       "      <th>17</th>\n",
       "      <td>ES</td>\n",
       "      <td>2020-11-10</td>\n",
       "      <td>[8c4d7e7c-787e-38fa-e23d-40e4474ae9e1, 2cadb87...</td>\n",
       "      <td>2020-11-22</td>\n",
       "      <td>NaN</td>\n",
       "    </tr>\n",
       "    <tr>\n",
       "      <th>28</th>\n",
       "      <td>ES</td>\n",
       "      <td>2020-11-11</td>\n",
       "      <td>[8653a337-98bb-7e35-a345-fcc402d61034, ee8acf9...</td>\n",
       "      <td>2020-11-22</td>\n",
       "      <td>NaN</td>\n",
       "    </tr>\n",
       "    <tr>\n",
       "      <th>39</th>\n",
       "      <td>ES</td>\n",
       "      <td>2020-11-12</td>\n",
       "      <td>[2eb6a3e4-e75e-1453-55f4-dff2665e0126, b5cb7f9...</td>\n",
       "      <td>2020-11-22</td>\n",
       "      <td>NaN</td>\n",
       "    </tr>\n",
       "    <tr>\n",
       "      <th>50</th>\n",
       "      <td>ES</td>\n",
       "      <td>2020-11-13</td>\n",
       "      <td>[2dffedd3-cb1f-0621-e49c-a2dfb3e9fb03, 258616c...</td>\n",
       "      <td>2020-11-22</td>\n",
       "      <td>NaN</td>\n",
       "    </tr>\n",
       "  </tbody>\n",
       "</table>\n",
       "</div>"
      ],
      "text/plain": [
       "   region sample_date                                           tek_list  \\\n",
       "6      ES  2020-11-09  [e56c4b55-474c-3ac0-5a3a-16768a0b2918, 22d9586...   \n",
       "17     ES  2020-11-10  [8c4d7e7c-787e-38fa-e23d-40e4474ae9e1, 2cadb87...   \n",
       "28     ES  2020-11-11  [8653a337-98bb-7e35-a345-fcc402d61034, ee8acf9...   \n",
       "39     ES  2020-11-12  [2eb6a3e4-e75e-1453-55f4-dff2665e0126, b5cb7f9...   \n",
       "50     ES  2020-11-13  [2dffedd3-cb1f-0621-e49c-a2dfb3e9fb03, 258616c...   \n",
       "\n",
       "   extraction_date extraction_date_with_hour  \n",
       "6       2020-11-22                       NaN  \n",
       "17      2020-11-22                       NaN  \n",
       "28      2020-11-22                       NaN  \n",
       "39      2020-11-22                       NaN  \n",
       "50      2020-11-22                       NaN  "
      ]
     },
     "execution_count": 29,
     "metadata": {},
     "output_type": "execute_result"
    }
   ],
   "source": [
    "daily_extracted_teks_df = load_extracted_teks(\n",
    "    mode=\"Daily\",\n",
    "    region=report_backend_identifier,\n",
    "    limit=tek_dumps_load_limit)\n",
    "daily_extracted_teks_df.head()"
   ]
  },
  {
   "cell_type": "code",
   "execution_count": 30,
   "metadata": {
    "collapsed": false,
    "execution": {
     "iopub.execute_input": "2020-11-22T23:24:25.756322Z",
     "iopub.status.busy": "2020-11-22T23:24:25.755661Z",
     "iopub.status.idle": "2020-11-22T23:24:25.771135Z",
     "shell.execute_reply": "2020-11-22T23:24:25.771832Z"
    },
    "papermill": {
     "duration": 0.069396,
     "end_time": "2020-11-22T23:24:25.771969",
     "exception": false,
     "start_time": "2020-11-22T23:24:25.702573",
     "status": "completed"
    },
    "pycharm": {
     "name": "#%%\n"
    },
    "tags": []
   },
   "outputs": [
    {
     "data": {
      "text/html": [
       "<div>\n",
       "<style scoped>\n",
       "    .dataframe tbody tr th:only-of-type {\n",
       "        vertical-align: middle;\n",
       "    }\n",
       "\n",
       "    .dataframe tbody tr th {\n",
       "        vertical-align: top;\n",
       "    }\n",
       "\n",
       "    .dataframe thead th {\n",
       "        text-align: right;\n",
       "    }\n",
       "</style>\n",
       "<table border=\"1\" class=\"dataframe\">\n",
       "  <thead>\n",
       "    <tr style=\"text-align: right;\">\n",
       "      <th></th>\n",
       "      <th>shared_teks_by_generation_date</th>\n",
       "    </tr>\n",
       "    <tr>\n",
       "      <th>sample_date_string</th>\n",
       "      <th></th>\n",
       "    </tr>\n",
       "  </thead>\n",
       "  <tbody>\n",
       "    <tr>\n",
       "      <th>2020-11-22</th>\n",
       "      <td>132</td>\n",
       "    </tr>\n",
       "    <tr>\n",
       "      <th>2020-11-21</th>\n",
       "      <td>1050</td>\n",
       "    </tr>\n",
       "    <tr>\n",
       "      <th>2020-11-20</th>\n",
       "      <td>3159</td>\n",
       "    </tr>\n",
       "    <tr>\n",
       "      <th>2020-11-19</th>\n",
       "      <td>5556</td>\n",
       "    </tr>\n",
       "    <tr>\n",
       "      <th>2020-11-18</th>\n",
       "      <td>7934</td>\n",
       "    </tr>\n",
       "  </tbody>\n",
       "</table>\n",
       "</div>"
      ],
      "text/plain": [
       "                    shared_teks_by_generation_date\n",
       "sample_date_string                                \n",
       "2020-11-22                                     132\n",
       "2020-11-21                                    1050\n",
       "2020-11-20                                    3159\n",
       "2020-11-19                                    5556\n",
       "2020-11-18                                    7934"
      ]
     },
     "execution_count": 30,
     "metadata": {},
     "output_type": "execute_result"
    }
   ],
   "source": [
    "exposure_keys_summary_df_ = daily_extracted_teks_df \\\n",
    "    .sort_values(\"extraction_date\", ascending=False) \\\n",
    "    .groupby(\"sample_date\").tek_list.first() \\\n",
    "    .to_frame()\n",
    "exposure_keys_summary_df_.index.name = \"sample_date_string\"\n",
    "exposure_keys_summary_df_[\"tek_list\"] = \\\n",
    "    exposure_keys_summary_df_.tek_list.apply(len)\n",
    "exposure_keys_summary_df_ = exposure_keys_summary_df_ \\\n",
    "    .rename(columns={\"tek_list\": \"shared_teks_by_generation_date\"}) \\\n",
    "    .sort_index(ascending=False)\n",
    "exposure_keys_summary_df = exposure_keys_summary_df_\n",
    "exposure_keys_summary_df.head()"
   ]
  },
  {
   "cell_type": "markdown",
   "metadata": {
    "execution": {
     "iopub.execute_input": "2020-08-30T22:30:16.632967Z",
     "iopub.status.busy": "2020-08-30T22:30:16.632308Z",
     "iopub.status.idle": "2020-08-30T22:30:16.634945Z",
     "shell.execute_reply": "2020-08-30T22:30:16.635575Z"
    },
    "papermill": {
     "duration": 0.052951,
     "end_time": "2020-11-22T23:24:25.876799",
     "exception": false,
     "start_time": "2020-11-22T23:24:25.823848",
     "status": "completed"
    },
    "pycharm": {
     "name": "#%% md\n"
    },
    "tags": []
   },
   "source": [
    "### Daily New TEKs"
   ]
  },
  {
   "cell_type": "code",
   "execution_count": 31,
   "metadata": {
    "execution": {
     "iopub.execute_input": "2020-11-22T23:24:25.974787Z",
     "iopub.status.busy": "2020-11-22T23:24:25.974211Z",
     "iopub.status.idle": "2020-11-22T23:24:26.872548Z",
     "shell.execute_reply": "2020-11-22T23:24:26.873179Z"
    },
    "papermill": {
     "duration": 0.949904,
     "end_time": "2020-11-22T23:24:26.873444",
     "exception": false,
     "start_time": "2020-11-22T23:24:25.923540",
     "status": "completed"
    },
    "tags": []
   },
   "outputs": [
    {
     "data": {
      "text/html": [
       "<div>\n",
       "<style scoped>\n",
       "    .dataframe tbody tr th:only-of-type {\n",
       "        vertical-align: middle;\n",
       "    }\n",
       "\n",
       "    .dataframe tbody tr th {\n",
       "        vertical-align: top;\n",
       "    }\n",
       "\n",
       "    .dataframe thead th {\n",
       "        text-align: right;\n",
       "    }\n",
       "</style>\n",
       "<table border=\"1\" class=\"dataframe\">\n",
       "  <thead>\n",
       "    <tr style=\"text-align: right;\">\n",
       "      <th></th>\n",
       "      <th>tek_list</th>\n",
       "    </tr>\n",
       "    <tr>\n",
       "      <th>extraction_date</th>\n",
       "      <th></th>\n",
       "    </tr>\n",
       "  </thead>\n",
       "  <tbody>\n",
       "    <tr>\n",
       "      <th>2020-08-30</th>\n",
       "      <td>{15e9008e-258c-ae9b-0e06-44e3b9310b37, 9136370...</td>\n",
       "    </tr>\n",
       "    <tr>\n",
       "      <th>2020-08-31</th>\n",
       "      <td>{81f2aabc-f2f6-28ad-075c-e6c0bef62722, 15e9008...</td>\n",
       "    </tr>\n",
       "    <tr>\n",
       "      <th>2020-09-01</th>\n",
       "      <td>{81f2aabc-f2f6-28ad-075c-e6c0bef62722, 15e9008...</td>\n",
       "    </tr>\n",
       "    <tr>\n",
       "      <th>2020-09-02</th>\n",
       "      <td>{81f2aabc-f2f6-28ad-075c-e6c0bef62722, 810cb2f...</td>\n",
       "    </tr>\n",
       "    <tr>\n",
       "      <th>2020-09-03</th>\n",
       "      <td>{81f2aabc-f2f6-28ad-075c-e6c0bef62722, 810cb2f...</td>\n",
       "    </tr>\n",
       "  </tbody>\n",
       "</table>\n",
       "</div>"
      ],
      "text/plain": [
       "                                                          tek_list\n",
       "extraction_date                                                   \n",
       "2020-08-30       {15e9008e-258c-ae9b-0e06-44e3b9310b37, 9136370...\n",
       "2020-08-31       {81f2aabc-f2f6-28ad-075c-e6c0bef62722, 15e9008...\n",
       "2020-09-01       {81f2aabc-f2f6-28ad-075c-e6c0bef62722, 15e9008...\n",
       "2020-09-02       {81f2aabc-f2f6-28ad-075c-e6c0bef62722, 810cb2f...\n",
       "2020-09-03       {81f2aabc-f2f6-28ad-075c-e6c0bef62722, 810cb2f..."
      ]
     },
     "execution_count": 31,
     "metadata": {},
     "output_type": "execute_result"
    }
   ],
   "source": [
    "tek_list_df = daily_extracted_teks_df.groupby(\"extraction_date\").tek_list.apply(\n",
    "    lambda x: set(sum(x, []))).reset_index()\n",
    "tek_list_df = tek_list_df.set_index(\"extraction_date\").sort_index(ascending=True)\n",
    "tek_list_df.head()"
   ]
  },
  {
   "cell_type": "code",
   "execution_count": 32,
   "metadata": {
    "collapsed": false,
    "execution": {
     "iopub.execute_input": "2020-11-22T23:24:26.991396Z",
     "iopub.status.busy": "2020-11-22T23:24:26.990871Z",
     "iopub.status.idle": "2020-11-22T23:25:10.154901Z",
     "shell.execute_reply": "2020-11-22T23:25:10.155483Z"
    },
    "papermill": {
     "duration": 43.227726,
     "end_time": "2020-11-22T23:25:10.155687",
     "exception": false,
     "start_time": "2020-11-22T23:24:26.927961",
     "status": "completed"
    },
    "pycharm": {
     "name": "#%%\n"
    },
    "tags": []
   },
   "outputs": [
    {
     "name": "stderr",
     "output_type": "stream",
     "text": [
      "<ipython-input-32-827222b35590>:4: FutureWarning: `item` has been deprecated and will be removed in a future version\n",
      "  day_new_teks_set = day_new_teks_set_df[\n"
     ]
    },
    {
     "data": {
      "text/html": [
       "<div>\n",
       "<style scoped>\n",
       "    .dataframe tbody tr th:only-of-type {\n",
       "        vertical-align: middle;\n",
       "    }\n",
       "\n",
       "    .dataframe tbody tr th {\n",
       "        vertical-align: top;\n",
       "    }\n",
       "\n",
       "    .dataframe thead th {\n",
       "        text-align: right;\n",
       "    }\n",
       "</style>\n",
       "<table border=\"1\" class=\"dataframe\">\n",
       "  <thead>\n",
       "    <tr style=\"text-align: right;\">\n",
       "      <th></th>\n",
       "      <th>upload_date</th>\n",
       "      <th>generation_date</th>\n",
       "      <th>shared_teks</th>\n",
       "      <th>generation_to_upload_days</th>\n",
       "    </tr>\n",
       "  </thead>\n",
       "  <tbody>\n",
       "    <tr>\n",
       "      <th>11</th>\n",
       "      <td>2020-08-31</td>\n",
       "      <td>2020-08-30</td>\n",
       "      <td>25</td>\n",
       "      <td>1</td>\n",
       "    </tr>\n",
       "    <tr>\n",
       "      <th>10</th>\n",
       "      <td>2020-08-31</td>\n",
       "      <td>2020-08-29</td>\n",
       "      <td>12</td>\n",
       "      <td>2</td>\n",
       "    </tr>\n",
       "    <tr>\n",
       "      <th>9</th>\n",
       "      <td>2020-08-31</td>\n",
       "      <td>2020-08-28</td>\n",
       "      <td>11</td>\n",
       "      <td>3</td>\n",
       "    </tr>\n",
       "    <tr>\n",
       "      <th>8</th>\n",
       "      <td>2020-08-31</td>\n",
       "      <td>2020-08-27</td>\n",
       "      <td>9</td>\n",
       "      <td>4</td>\n",
       "    </tr>\n",
       "    <tr>\n",
       "      <th>7</th>\n",
       "      <td>2020-08-31</td>\n",
       "      <td>2020-08-26</td>\n",
       "      <td>6</td>\n",
       "      <td>5</td>\n",
       "    </tr>\n",
       "  </tbody>\n",
       "</table>\n",
       "</div>"
      ],
      "text/plain": [
       "   upload_date generation_date  shared_teks  generation_to_upload_days\n",
       "11  2020-08-31      2020-08-30           25                          1\n",
       "10  2020-08-31      2020-08-29           12                          2\n",
       "9   2020-08-31      2020-08-28           11                          3\n",
       "8   2020-08-31      2020-08-27            9                          4\n",
       "7   2020-08-31      2020-08-26            6                          5"
      ]
     },
     "execution_count": 32,
     "metadata": {},
     "output_type": "execute_result"
    }
   ],
   "source": [
    "def compute_teks_by_generation_and_upload_date(date):\n",
    "    day_new_teks_set_df = tek_list_df.copy().diff()\n",
    "    try:\n",
    "        day_new_teks_set = day_new_teks_set_df[\n",
    "            day_new_teks_set_df.index == date].tek_list.item()\n",
    "    except ValueError:\n",
    "        day_new_teks_set = None\n",
    "    if pd.isna(day_new_teks_set):\n",
    "        day_new_teks_set = set()\n",
    "    day_new_teks_df = daily_extracted_teks_df[\n",
    "        daily_extracted_teks_df.extraction_date == date].copy()\n",
    "    day_new_teks_df[\"shared_teks\"] = \\\n",
    "        day_new_teks_df.tek_list.apply(lambda x: set(x).intersection(day_new_teks_set))\n",
    "    day_new_teks_df[\"shared_teks\"] = \\\n",
    "        day_new_teks_df.shared_teks.apply(len)\n",
    "    day_new_teks_df[\"upload_date\"] = date\n",
    "    day_new_teks_df.rename(columns={\"sample_date\": \"generation_date\"}, inplace=True)\n",
    "    day_new_teks_df = day_new_teks_df[\n",
    "        [\"upload_date\", \"generation_date\", \"shared_teks\"]]\n",
    "    day_new_teks_df[\"generation_to_upload_days\"] = \\\n",
    "        (pd.to_datetime(day_new_teks_df.upload_date) -\n",
    "         pd.to_datetime(day_new_teks_df.generation_date)).dt.days\n",
    "    day_new_teks_df = day_new_teks_df[day_new_teks_df.shared_teks > 0]\n",
    "    return day_new_teks_df\n",
    "\n",
    "shared_teks_generation_to_upload_df = pd.DataFrame()\n",
    "for upload_date in daily_extracted_teks_df.extraction_date.unique():\n",
    "    shared_teks_generation_to_upload_df = \\\n",
    "        shared_teks_generation_to_upload_df.append(\n",
    "            compute_teks_by_generation_and_upload_date(date=upload_date))\n",
    "shared_teks_generation_to_upload_df \\\n",
    "    .sort_values([\"upload_date\", \"generation_date\"], ascending=False, inplace=True)\n",
    "shared_teks_generation_to_upload_df.tail()"
   ]
  },
  {
   "cell_type": "code",
   "execution_count": 33,
   "metadata": {
    "collapsed": false,
    "execution": {
     "iopub.execute_input": "2020-11-22T23:25:10.266608Z",
     "iopub.status.busy": "2020-11-22T23:25:10.265982Z",
     "iopub.status.idle": "2020-11-22T23:25:10.268779Z",
     "shell.execute_reply": "2020-11-22T23:25:10.269313Z"
    },
    "papermill": {
     "duration": 0.065388,
     "end_time": "2020-11-22T23:25:10.269436",
     "exception": false,
     "start_time": "2020-11-22T23:25:10.204048",
     "status": "completed"
    },
    "pycharm": {
     "name": "#%%\n"
    },
    "tags": []
   },
   "outputs": [
    {
     "data": {
      "text/html": [
       "<div>\n",
       "<style scoped>\n",
       "    .dataframe tbody tr th:only-of-type {\n",
       "        vertical-align: middle;\n",
       "    }\n",
       "\n",
       "    .dataframe tbody tr th {\n",
       "        vertical-align: top;\n",
       "    }\n",
       "\n",
       "    .dataframe thead th {\n",
       "        text-align: right;\n",
       "    }\n",
       "</style>\n",
       "<table border=\"1\" class=\"dataframe\">\n",
       "  <thead>\n",
       "    <tr style=\"text-align: right;\">\n",
       "      <th></th>\n",
       "      <th>upload_date</th>\n",
       "      <th>generation_date</th>\n",
       "      <th>shared_teks</th>\n",
       "      <th>generation_to_upload_days</th>\n",
       "    </tr>\n",
       "  </thead>\n",
       "  <tbody>\n",
       "    <tr>\n",
       "      <th>50</th>\n",
       "      <td>2020-11-22</td>\n",
       "      <td>2020-11-13</td>\n",
       "      <td>1038</td>\n",
       "      <td>9</td>\n",
       "    </tr>\n",
       "    <tr>\n",
       "      <th>39</th>\n",
       "      <td>2020-11-22</td>\n",
       "      <td>2020-11-12</td>\n",
       "      <td>1008</td>\n",
       "      <td>10</td>\n",
       "    </tr>\n",
       "    <tr>\n",
       "      <th>28</th>\n",
       "      <td>2020-11-22</td>\n",
       "      <td>2020-11-11</td>\n",
       "      <td>982</td>\n",
       "      <td>11</td>\n",
       "    </tr>\n",
       "    <tr>\n",
       "      <th>17</th>\n",
       "      <td>2020-11-22</td>\n",
       "      <td>2020-11-10</td>\n",
       "      <td>962</td>\n",
       "      <td>12</td>\n",
       "    </tr>\n",
       "    <tr>\n",
       "      <th>6</th>\n",
       "      <td>2020-11-22</td>\n",
       "      <td>2020-11-09</td>\n",
       "      <td>942</td>\n",
       "      <td>13</td>\n",
       "    </tr>\n",
       "  </tbody>\n",
       "</table>\n",
       "</div>"
      ],
      "text/plain": [
       "   upload_date generation_date  shared_teks  generation_to_upload_days\n",
       "50  2020-11-22      2020-11-13         1038                          9\n",
       "39  2020-11-22      2020-11-12         1008                         10\n",
       "28  2020-11-22      2020-11-11          982                         11\n",
       "17  2020-11-22      2020-11-10          962                         12\n",
       "6   2020-11-22      2020-11-09          942                         13"
      ]
     },
     "execution_count": 33,
     "metadata": {},
     "output_type": "execute_result"
    }
   ],
   "source": [
    "today_new_teks_df = \\\n",
    "    shared_teks_generation_to_upload_df[\n",
    "        shared_teks_generation_to_upload_df.upload_date == extraction_date].copy()\n",
    "today_new_teks_df.tail()"
   ]
  },
  {
   "cell_type": "code",
   "execution_count": 34,
   "metadata": {
    "collapsed": false,
    "execution": {
     "iopub.execute_input": "2020-11-22T23:25:10.406530Z",
     "iopub.status.busy": "2020-11-22T23:25:10.405430Z",
     "iopub.status.idle": "2020-11-22T23:25:10.920599Z",
     "shell.execute_reply": "2020-11-22T23:25:10.921385Z"
    },
    "papermill": {
     "duration": 0.600363,
     "end_time": "2020-11-22T23:25:10.921542",
     "exception": false,
     "start_time": "2020-11-22T23:25:10.321179",
     "status": "completed"
    },
    "pycharm": {
     "name": "#%%\n"
    },
    "tags": []
   },
   "outputs": [
    {
     "data": {
      "image/png": "[encoded data removed]",
      "text/plain": [
       "<Figure size 1080x432 with 1 Axes>"
      ]
     },
     "metadata": {},
     "output_type": "display_data"
    }
   ],
   "source": [
    "if not today_new_teks_df.empty:\n",
    "    today_new_teks_df.set_index(\"generation_to_upload_days\") \\\n",
    "        .sort_index().shared_teks.plot.bar()"
   ]
  },
  {
   "cell_type": "code",
   "execution_count": 35,
   "metadata": {
    "collapsed": false,
    "execution": {
     "iopub.execute_input": "2020-11-22T23:25:11.047275Z",
     "iopub.status.busy": "2020-11-22T23:25:11.046754Z",
     "iopub.status.idle": "2020-11-22T23:25:11.063226Z",
     "shell.execute_reply": "2020-11-22T23:25:11.062560Z"
    },
    "papermill": {
     "duration": 0.08089,
     "end_time": "2020-11-22T23:25:11.063389",
     "exception": false,
     "start_time": "2020-11-22T23:25:10.982499",
     "status": "completed"
    },
    "pycharm": {
     "name": "#%%\n"
    },
    "tags": []
   },
   "outputs": [
    {
     "data": {
      "text/html": [
       "<div>\n",
       "<style scoped>\n",
       "    .dataframe tbody tr th:only-of-type {\n",
       "        vertical-align: middle;\n",
       "    }\n",
       "\n",
       "    .dataframe tbody tr th {\n",
       "        vertical-align: top;\n",
       "    }\n",
       "\n",
       "    .dataframe thead th {\n",
       "        text-align: right;\n",
       "    }\n",
       "</style>\n",
       "<table border=\"1\" class=\"dataframe\">\n",
       "  <thead>\n",
       "    <tr style=\"text-align: right;\">\n",
       "      <th>generation_to_upload_days</th>\n",
       "      <th>0</th>\n",
       "      <th>1</th>\n",
       "      <th>2</th>\n",
       "      <th>3</th>\n",
       "      <th>4</th>\n",
       "      <th>5</th>\n",
       "      <th>6</th>\n",
       "      <th>7</th>\n",
       "      <th>8</th>\n",
       "      <th>9</th>\n",
       "      <th>10</th>\n",
       "      <th>11</th>\n",
       "      <th>12</th>\n",
       "      <th>13</th>\n",
       "    </tr>\n",
       "    <tr>\n",
       "      <th>upload_date</th>\n",
       "      <th></th>\n",
       "      <th></th>\n",
       "      <th></th>\n",
       "      <th></th>\n",
       "      <th></th>\n",
       "      <th></th>\n",
       "      <th></th>\n",
       "      <th></th>\n",
       "      <th></th>\n",
       "      <th></th>\n",
       "      <th></th>\n",
       "      <th></th>\n",
       "      <th></th>\n",
       "      <th></th>\n",
       "    </tr>\n",
       "  </thead>\n",
       "  <tbody>\n",
       "    <tr>\n",
       "      <th>2020-11-22</th>\n",
       "      <td>132</td>\n",
       "      <td>897</td>\n",
       "      <td>1524</td>\n",
       "      <td>1359</td>\n",
       "      <td>1256</td>\n",
       "      <td>1189</td>\n",
       "      <td>1133</td>\n",
       "      <td>1091</td>\n",
       "      <td>1055</td>\n",
       "      <td>1038</td>\n",
       "      <td>1008</td>\n",
       "      <td>982</td>\n",
       "      <td>962</td>\n",
       "      <td>942</td>\n",
       "    </tr>\n",
       "    <tr>\n",
       "      <th>2020-11-21</th>\n",
       "      <td>153</td>\n",
       "      <td>1423</td>\n",
       "      <td>2275</td>\n",
       "      <td>2012</td>\n",
       "      <td>1903</td>\n",
       "      <td>1834</td>\n",
       "      <td>1749</td>\n",
       "      <td>1707</td>\n",
       "      <td>1676</td>\n",
       "      <td>1655</td>\n",
       "      <td>1607</td>\n",
       "      <td>1562</td>\n",
       "      <td>1539</td>\n",
       "      <td>1510</td>\n",
       "    </tr>\n",
       "    <tr>\n",
       "      <th>2020-11-20</th>\n",
       "      <td>212</td>\n",
       "      <td>1711</td>\n",
       "      <td>2617</td>\n",
       "      <td>2383</td>\n",
       "      <td>2249</td>\n",
       "      <td>2174</td>\n",
       "      <td>2111</td>\n",
       "      <td>2045</td>\n",
       "      <td>1979</td>\n",
       "      <td>1930</td>\n",
       "      <td>1878</td>\n",
       "      <td>1844</td>\n",
       "      <td>1799</td>\n",
       "      <td>1780</td>\n",
       "    </tr>\n",
       "    <tr>\n",
       "      <th>2020-11-19</th>\n",
       "      <td>211</td>\n",
       "      <td>1759</td>\n",
       "      <td>2492</td>\n",
       "      <td>2260</td>\n",
       "      <td>2112</td>\n",
       "      <td>2064</td>\n",
       "      <td>2010</td>\n",
       "      <td>1954</td>\n",
       "      <td>1893</td>\n",
       "      <td>1850</td>\n",
       "      <td>1818</td>\n",
       "      <td>1778</td>\n",
       "      <td>1756</td>\n",
       "      <td>1721</td>\n",
       "    </tr>\n",
       "    <tr>\n",
       "      <th>2020-11-18</th>\n",
       "      <td>290</td>\n",
       "      <td>2190</td>\n",
       "      <td>2915</td>\n",
       "      <td>2586</td>\n",
       "      <td>2490</td>\n",
       "      <td>2415</td>\n",
       "      <td>2323</td>\n",
       "      <td>2250</td>\n",
       "      <td>2177</td>\n",
       "      <td>2117</td>\n",
       "      <td>2071</td>\n",
       "      <td>2033</td>\n",
       "      <td>2006</td>\n",
       "      <td>1969</td>\n",
       "    </tr>\n",
       "  </tbody>\n",
       "</table>\n",
       "</div>"
      ],
      "text/plain": [
       "generation_to_upload_days   0     1     2     3     4     5     6     7   \\\n",
       "upload_date                                                                \n",
       "2020-11-22                 132   897  1524  1359  1256  1189  1133  1091   \n",
       "2020-11-21                 153  1423  2275  2012  1903  1834  1749  1707   \n",
       "2020-11-20                 212  1711  2617  2383  2249  2174  2111  2045   \n",
       "2020-11-19                 211  1759  2492  2260  2112  2064  2010  1954   \n",
       "2020-11-18                 290  2190  2915  2586  2490  2415  2323  2250   \n",
       "\n",
       "generation_to_upload_days    8     9     10    11    12    13  \n",
       "upload_date                                                    \n",
       "2020-11-22                 1055  1038  1008   982   962   942  \n",
       "2020-11-21                 1676  1655  1607  1562  1539  1510  \n",
       "2020-11-20                 1979  1930  1878  1844  1799  1780  \n",
       "2020-11-19                 1893  1850  1818  1778  1756  1721  \n",
       "2020-11-18                 2177  2117  2071  2033  2006  1969  "
      ]
     },
     "execution_count": 35,
     "metadata": {},
     "output_type": "execute_result"
    }
   ],
   "source": [
    "generation_to_upload_period_pivot_df = \\\n",
    "    shared_teks_generation_to_upload_df[\n",
    "        [\"upload_date\", \"generation_to_upload_days\", \"shared_teks\"]] \\\n",
    "        .pivot(index=\"upload_date\", columns=\"generation_to_upload_days\") \\\n",
    "        .sort_index(ascending=False).fillna(0).astype(int) \\\n",
    "        .droplevel(level=0, axis=1)\n",
    "generation_to_upload_period_pivot_df.head()"
   ]
  },
  {
   "cell_type": "code",
   "execution_count": 36,
   "metadata": {
    "collapsed": false,
    "execution": {
     "iopub.execute_input": "2020-11-22T23:25:11.668164Z",
     "iopub.status.busy": "2020-11-22T23:25:11.667380Z",
     "iopub.status.idle": "2020-11-22T23:25:11.670487Z",
     "shell.execute_reply": "2020-11-22T23:25:11.670967Z"
    },
    "papermill": {
     "duration": 0.5519,
     "end_time": "2020-11-22T23:25:11.671149",
     "exception": false,
     "start_time": "2020-11-22T23:25:11.119249",
     "status": "completed"
    },
    "pycharm": {
     "name": "#%%\n"
    },
    "tags": []
   },
   "outputs": [
    {
     "data": {
      "text/html": [
       "<div>\n",
       "<style scoped>\n",
       "    .dataframe tbody tr th:only-of-type {\n",
       "        vertical-align: middle;\n",
       "    }\n",
       "\n",
       "    .dataframe tbody tr th {\n",
       "        vertical-align: top;\n",
       "    }\n",
       "\n",
       "    .dataframe thead th {\n",
       "        text-align: right;\n",
       "    }\n",
       "</style>\n",
       "<table border=\"1\" class=\"dataframe\">\n",
       "  <thead>\n",
       "    <tr style=\"text-align: right;\">\n",
       "      <th></th>\n",
       "      <th>sample_date_string</th>\n",
       "      <th>shared_teks_by_upload_date</th>\n",
       "    </tr>\n",
       "  </thead>\n",
       "  <tbody>\n",
       "    <tr>\n",
       "      <th>80</th>\n",
       "      <td>2020-11-18</td>\n",
       "      <td>29832.0</td>\n",
       "    </tr>\n",
       "    <tr>\n",
       "      <th>81</th>\n",
       "      <td>2020-11-19</td>\n",
       "      <td>25678.0</td>\n",
       "    </tr>\n",
       "    <tr>\n",
       "      <th>82</th>\n",
       "      <td>2020-11-20</td>\n",
       "      <td>26712.0</td>\n",
       "    </tr>\n",
       "    <tr>\n",
       "      <th>83</th>\n",
       "      <td>2020-11-21</td>\n",
       "      <td>22605.0</td>\n",
       "    </tr>\n",
       "    <tr>\n",
       "      <th>84</th>\n",
       "      <td>2020-11-22</td>\n",
       "      <td>14568.0</td>\n",
       "    </tr>\n",
       "  </tbody>\n",
       "</table>\n",
       "</div>"
      ],
      "text/plain": [
       "   sample_date_string  shared_teks_by_upload_date\n",
       "80         2020-11-18                     29832.0\n",
       "81         2020-11-19                     25678.0\n",
       "82         2020-11-20                     26712.0\n",
       "83         2020-11-21                     22605.0\n",
       "84         2020-11-22                     14568.0"
      ]
     },
     "execution_count": 36,
     "metadata": {},
     "output_type": "execute_result"
    }
   ],
   "source": [
    "new_tek_df = tek_list_df.diff().tek_list.apply(\n",
    "    lambda x: len(x) if not pd.isna(x) else None).to_frame().reset_index()\n",
    "new_tek_df.rename(columns={\n",
    "    \"tek_list\": \"shared_teks_by_upload_date\",\n",
    "    \"extraction_date\": \"sample_date_string\",}, inplace=True)\n",
    "new_tek_df.tail()"
   ]
  },
  {
   "cell_type": "code",
   "execution_count": 37,
   "metadata": {
    "collapsed": false,
    "execution": {
     "iopub.execute_input": "2020-11-22T23:25:11.787681Z",
     "iopub.status.busy": "2020-11-22T23:25:11.787157Z",
     "iopub.status.idle": "2020-11-22T23:25:11.791310Z",
     "shell.execute_reply": "2020-11-22T23:25:11.791775Z"
    },
    "papermill": {
     "duration": 0.065862,
     "end_time": "2020-11-22T23:25:11.791910",
     "exception": false,
     "start_time": "2020-11-22T23:25:11.726048",
     "status": "completed"
    },
    "pycharm": {
     "name": "#%%\n"
    },
    "tags": []
   },
   "outputs": [
    {
     "data": {
      "text/html": [
       "<div>\n",
       "<style scoped>\n",
       "    .dataframe tbody tr th:only-of-type {\n",
       "        vertical-align: middle;\n",
       "    }\n",
       "\n",
       "    .dataframe tbody tr th {\n",
       "        vertical-align: top;\n",
       "    }\n",
       "\n",
       "    .dataframe thead th {\n",
       "        text-align: right;\n",
       "    }\n",
       "</style>\n",
       "<table border=\"1\" class=\"dataframe\">\n",
       "  <thead>\n",
       "    <tr style=\"text-align: right;\">\n",
       "      <th></th>\n",
       "      <th>sample_date_string</th>\n",
       "      <th>shared_teks_uploaded_on_generation_date</th>\n",
       "    </tr>\n",
       "  </thead>\n",
       "  <tbody>\n",
       "    <tr>\n",
       "      <th>142</th>\n",
       "      <td>2020-11-22</td>\n",
       "      <td>132</td>\n",
       "    </tr>\n",
       "    <tr>\n",
       "      <th>129</th>\n",
       "      <td>2020-11-21</td>\n",
       "      <td>153</td>\n",
       "    </tr>\n",
       "    <tr>\n",
       "      <th>142</th>\n",
       "      <td>2020-11-20</td>\n",
       "      <td>212</td>\n",
       "    </tr>\n",
       "    <tr>\n",
       "      <th>141</th>\n",
       "      <td>2020-11-19</td>\n",
       "      <td>211</td>\n",
       "    </tr>\n",
       "    <tr>\n",
       "      <th>141</th>\n",
       "      <td>2020-11-18</td>\n",
       "      <td>290</td>\n",
       "    </tr>\n",
       "  </tbody>\n",
       "</table>\n",
       "</div>"
      ],
      "text/plain": [
       "    sample_date_string  shared_teks_uploaded_on_generation_date\n",
       "142         2020-11-22                                      132\n",
       "129         2020-11-21                                      153\n",
       "142         2020-11-20                                      212\n",
       "141         2020-11-19                                      211\n",
       "141         2020-11-18                                      290"
      ]
     },
     "execution_count": 37,
     "metadata": {},
     "output_type": "execute_result"
    }
   ],
   "source": [
    "shared_teks_uploaded_on_generation_date_df = shared_teks_generation_to_upload_df[\n",
    "    shared_teks_generation_to_upload_df.generation_to_upload_days == 0] \\\n",
    "    [[\"upload_date\", \"shared_teks\"]].rename(\n",
    "    columns={\n",
    "        \"upload_date\": \"sample_date_string\",\n",
    "        \"shared_teks\": \"shared_teks_uploaded_on_generation_date\",\n",
    "    })\n",
    "shared_teks_uploaded_on_generation_date_df.head()"
   ]
  },
  {
   "cell_type": "code",
   "execution_count": 38,
   "metadata": {
    "collapsed": false,
    "execution": {
     "iopub.execute_input": "2020-11-22T23:25:11.906014Z",
     "iopub.status.busy": "2020-11-22T23:25:11.905314Z",
     "iopub.status.idle": "2020-11-22T23:25:11.914215Z",
     "shell.execute_reply": "2020-11-22T23:25:11.914948Z"
    },
    "papermill": {
     "duration": 0.07006,
     "end_time": "2020-11-22T23:25:11.915099",
     "exception": false,
     "start_time": "2020-11-22T23:25:11.845039",
     "status": "completed"
    },
    "pycharm": {
     "name": "#%%\n"
    },
    "tags": []
   },
   "outputs": [
    {
     "data": {
      "text/html": [
       "<div>\n",
       "<style scoped>\n",
       "    .dataframe tbody tr th:only-of-type {\n",
       "        vertical-align: middle;\n",
       "    }\n",
       "\n",
       "    .dataframe tbody tr th {\n",
       "        vertical-align: top;\n",
       "    }\n",
       "\n",
       "    .dataframe thead th {\n",
       "        text-align: right;\n",
       "    }\n",
       "</style>\n",
       "<table border=\"1\" class=\"dataframe\">\n",
       "  <thead>\n",
       "    <tr style=\"text-align: right;\">\n",
       "      <th></th>\n",
       "      <th>sample_date_string</th>\n",
       "      <th>shared_diagnoses</th>\n",
       "    </tr>\n",
       "  </thead>\n",
       "  <tbody>\n",
       "    <tr>\n",
       "      <th>83</th>\n",
       "      <td>2020-11-22</td>\n",
       "      <td>1524</td>\n",
       "    </tr>\n",
       "    <tr>\n",
       "      <th>82</th>\n",
       "      <td>2020-11-21</td>\n",
       "      <td>2275</td>\n",
       "    </tr>\n",
       "    <tr>\n",
       "      <th>81</th>\n",
       "      <td>2020-11-20</td>\n",
       "      <td>2617</td>\n",
       "    </tr>\n",
       "    <tr>\n",
       "      <th>80</th>\n",
       "      <td>2020-11-19</td>\n",
       "      <td>2492</td>\n",
       "    </tr>\n",
       "    <tr>\n",
       "      <th>79</th>\n",
       "      <td>2020-11-18</td>\n",
       "      <td>2915</td>\n",
       "    </tr>\n",
       "  </tbody>\n",
       "</table>\n",
       "</div>"
      ],
      "text/plain": [
       "   sample_date_string  shared_diagnoses\n",
       "83         2020-11-22              1524\n",
       "82         2020-11-21              2275\n",
       "81         2020-11-20              2617\n",
       "80         2020-11-19              2492\n",
       "79         2020-11-18              2915"
      ]
     },
     "execution_count": 38,
     "metadata": {},
     "output_type": "execute_result"
    }
   ],
   "source": [
    "estimated_shared_diagnoses_df = shared_teks_generation_to_upload_df \\\n",
    "    .groupby([\"upload_date\"]).shared_teks.max().reset_index() \\\n",
    "    .sort_values([\"upload_date\"], ascending=False) \\\n",
    "    .rename(columns={\n",
    "        \"upload_date\": \"sample_date_string\",\n",
    "        \"shared_teks\": \"shared_diagnoses\",\n",
    "    })\n",
    "invalid_shared_diagnoses_dates_mask = \\\n",
    "    estimated_shared_diagnoses_df.sample_date_string.isin(invalid_shared_diagnoses_dates)\n",
    "estimated_shared_diagnoses_df[invalid_shared_diagnoses_dates_mask] = 0\n",
    "estimated_shared_diagnoses_df.head()"
   ]
  },
  {
   "cell_type": "markdown",
   "metadata": {
    "papermill": {
     "duration": 0.060942,
     "end_time": "2020-11-22T23:25:12.033448",
     "exception": false,
     "start_time": "2020-11-22T23:25:11.972506",
     "status": "completed"
    },
    "pycharm": {
     "name": "#%% md\n"
    },
    "tags": []
   },
   "source": [
    "### Hourly New TEKs"
   ]
  },
  {
   "cell_type": "code",
   "execution_count": 39,
   "metadata": {
    "execution": {
     "iopub.execute_input": "2020-11-22T23:25:12.159305Z",
     "iopub.status.busy": "2020-11-22T23:25:12.158761Z",
     "iopub.status.idle": "2020-11-22T23:25:16.839461Z",
     "shell.execute_reply": "2020-11-22T23:25:16.839027Z"
    },
    "papermill": {
     "duration": 4.747317,
     "end_time": "2020-11-22T23:25:16.839624",
     "exception": false,
     "start_time": "2020-11-22T23:25:12.092307",
     "status": "completed"
    },
    "pycharm": {
     "name": "#%%\n"
    },
    "tags": []
   },
   "outputs": [
    {
     "data": {
      "text/html": [
       "<div>\n",
       "<style scoped>\n",
       "    .dataframe tbody tr th:only-of-type {\n",
       "        vertical-align: middle;\n",
       "    }\n",
       "\n",
       "    .dataframe tbody tr th {\n",
       "        vertical-align: top;\n",
       "    }\n",
       "\n",
       "    .dataframe thead th {\n",
       "        text-align: right;\n",
       "    }\n",
       "</style>\n",
       "<table border=\"1\" class=\"dataframe\">\n",
       "  <thead>\n",
       "    <tr style=\"text-align: right;\">\n",
       "      <th></th>\n",
       "      <th>region</th>\n",
       "      <th>sample_date</th>\n",
       "      <th>tek_list</th>\n",
       "      <th>extraction_date</th>\n",
       "      <th>extraction_date_with_hour</th>\n",
       "    </tr>\n",
       "  </thead>\n",
       "  <tbody>\n",
       "    <tr>\n",
       "      <th>6</th>\n",
       "      <td>ES</td>\n",
       "      <td>2020-11-09</td>\n",
       "      <td>[e56c4b55-474c-3ac0-5a3a-16768a0b2918, 22d9586...</td>\n",
       "      <td>2020-11-22</td>\n",
       "      <td>2020-11-22@23</td>\n",
       "    </tr>\n",
       "    <tr>\n",
       "      <th>17</th>\n",
       "      <td>ES</td>\n",
       "      <td>2020-11-10</td>\n",
       "      <td>[8c4d7e7c-787e-38fa-e23d-40e4474ae9e1, 2cadb87...</td>\n",
       "      <td>2020-11-22</td>\n",
       "      <td>2020-11-22@23</td>\n",
       "    </tr>\n",
       "    <tr>\n",
       "      <th>28</th>\n",
       "      <td>ES</td>\n",
       "      <td>2020-11-11</td>\n",
       "      <td>[8653a337-98bb-7e35-a345-fcc402d61034, ee8acf9...</td>\n",
       "      <td>2020-11-22</td>\n",
       "      <td>2020-11-22@23</td>\n",
       "    </tr>\n",
       "    <tr>\n",
       "      <th>39</th>\n",
       "      <td>ES</td>\n",
       "      <td>2020-11-12</td>\n",
       "      <td>[2eb6a3e4-e75e-1453-55f4-dff2665e0126, b5cb7f9...</td>\n",
       "      <td>2020-11-22</td>\n",
       "      <td>2020-11-22@23</td>\n",
       "    </tr>\n",
       "    <tr>\n",
       "      <th>50</th>\n",
       "      <td>ES</td>\n",
       "      <td>2020-11-13</td>\n",
       "      <td>[2dffedd3-cb1f-0621-e49c-a2dfb3e9fb03, 258616c...</td>\n",
       "      <td>2020-11-22</td>\n",
       "      <td>2020-11-22@23</td>\n",
       "    </tr>\n",
       "  </tbody>\n",
       "</table>\n",
       "</div>"
      ],
      "text/plain": [
       "   region sample_date                                           tek_list  \\\n",
       "6      ES  2020-11-09  [e56c4b55-474c-3ac0-5a3a-16768a0b2918, 22d9586...   \n",
       "17     ES  2020-11-10  [8c4d7e7c-787e-38fa-e23d-40e4474ae9e1, 2cadb87...   \n",
       "28     ES  2020-11-11  [8653a337-98bb-7e35-a345-fcc402d61034, ee8acf9...   \n",
       "39     ES  2020-11-12  [2eb6a3e4-e75e-1453-55f4-dff2665e0126, b5cb7f9...   \n",
       "50     ES  2020-11-13  [2dffedd3-cb1f-0621-e49c-a2dfb3e9fb03, 258616c...   \n",
       "\n",
       "   extraction_date extraction_date_with_hour  \n",
       "6       2020-11-22             2020-11-22@23  \n",
       "17      2020-11-22             2020-11-22@23  \n",
       "28      2020-11-22             2020-11-22@23  \n",
       "39      2020-11-22             2020-11-22@23  \n",
       "50      2020-11-22             2020-11-22@23  "
      ]
     },
     "execution_count": 39,
     "metadata": {},
     "output_type": "execute_result"
    }
   ],
   "source": [
    "hourly_extracted_teks_df = load_extracted_teks(\n",
    "    mode=\"Hourly\", region=report_backend_identifier, limit=25)\n",
    "hourly_extracted_teks_df.head()"
   ]
  },
  {
   "cell_type": "code",
   "execution_count": 40,
   "metadata": {
    "collapsed": false,
    "execution": {
     "iopub.execute_input": "2020-11-22T23:25:17.123261Z",
     "iopub.status.busy": "2020-11-22T23:25:17.037436Z",
     "iopub.status.idle": "2020-11-22T23:25:18.478742Z",
     "shell.execute_reply": "2020-11-22T23:25:18.478296Z"
    },
    "papermill": {
     "duration": 1.57775,
     "end_time": "2020-11-22T23:25:18.478857",
     "exception": false,
     "start_time": "2020-11-22T23:25:16.901107",
     "status": "completed"
    },
    "pycharm": {
     "name": "#%%\n"
    },
    "tags": []
   },
   "outputs": [
    {
     "data": {
      "text/html": [
       "<div>\n",
       "<style scoped>\n",
       "    .dataframe tbody tr th:only-of-type {\n",
       "        vertical-align: middle;\n",
       "    }\n",
       "\n",
       "    .dataframe tbody tr th {\n",
       "        vertical-align: top;\n",
       "    }\n",
       "\n",
       "    .dataframe thead th {\n",
       "        text-align: right;\n",
       "    }\n",
       "</style>\n",
       "<table border=\"1\" class=\"dataframe\">\n",
       "  <thead>\n",
       "    <tr style=\"text-align: right;\">\n",
       "      <th></th>\n",
       "      <th>extraction_date_with_hour</th>\n",
       "      <th>shared_teks_by_upload_date</th>\n",
       "    </tr>\n",
       "  </thead>\n",
       "  <tbody>\n",
       "    <tr>\n",
       "      <th>0</th>\n",
       "      <td>2020-11-21@23</td>\n",
       "      <td>0</td>\n",
       "    </tr>\n",
       "    <tr>\n",
       "      <th>1</th>\n",
       "      <td>2020-11-22@00</td>\n",
       "      <td>14</td>\n",
       "    </tr>\n",
       "    <tr>\n",
       "      <th>2</th>\n",
       "      <td>2020-11-22@01</td>\n",
       "      <td>0</td>\n",
       "    </tr>\n",
       "    <tr>\n",
       "      <th>3</th>\n",
       "      <td>2020-11-22@02</td>\n",
       "      <td>20</td>\n",
       "    </tr>\n",
       "    <tr>\n",
       "      <th>4</th>\n",
       "      <td>2020-11-22@03</td>\n",
       "      <td>0</td>\n",
       "    </tr>\n",
       "  </tbody>\n",
       "</table>\n",
       "</div>"
      ],
      "text/plain": [
       "  extraction_date_with_hour  shared_teks_by_upload_date\n",
       "0             2020-11-21@23                           0\n",
       "1             2020-11-22@00                          14\n",
       "2             2020-11-22@01                           0\n",
       "3             2020-11-22@02                          20\n",
       "4             2020-11-22@03                           0"
      ]
     },
     "execution_count": 40,
     "metadata": {},
     "output_type": "execute_result"
    }
   ],
   "source": [
    "hourly_new_tek_count_df = hourly_extracted_teks_df \\\n",
    "    .groupby(\"extraction_date_with_hour\").tek_list. \\\n",
    "    apply(lambda x: set(sum(x, []))).reset_index().copy()\n",
    "hourly_new_tek_count_df = hourly_new_tek_count_df.set_index(\"extraction_date_with_hour\") \\\n",
    "    .sort_index(ascending=True)\n",
    "\n",
    "hourly_new_tek_count_df[\"new_tek_list\"] = hourly_new_tek_count_df.tek_list.diff()\n",
    "hourly_new_tek_count_df[\"new_tek_count\"] = hourly_new_tek_count_df.new_tek_list.apply(\n",
    "    lambda x: len(x) if not pd.isna(x) else 0)\n",
    "hourly_new_tek_count_df.rename(columns={\n",
    "    \"new_tek_count\": \"shared_teks_by_upload_date\"}, inplace=True)\n",
    "hourly_new_tek_count_df = hourly_new_tek_count_df.reset_index()[[\n",
    "    \"extraction_date_with_hour\", \"shared_teks_by_upload_date\"]]\n",
    "hourly_new_tek_count_df.head()"
   ]
  },
  {
   "cell_type": "code",
   "execution_count": 41,
   "metadata": {
    "collapsed": false,
    "execution": {
     "iopub.execute_input": "2020-11-22T23:25:18.616247Z",
     "iopub.status.busy": "2020-11-22T23:25:18.615674Z",
     "iopub.status.idle": "2020-11-22T23:25:18.618322Z",
     "shell.execute_reply": "2020-11-22T23:25:18.618687Z"
    },
    "papermill": {
     "duration": 0.079352,
     "end_time": "2020-11-22T23:25:18.618813",
     "exception": false,
     "start_time": "2020-11-22T23:25:18.539461",
     "status": "completed"
    },
    "pycharm": {
     "name": "#%%\n"
    },
    "tags": []
   },
   "outputs": [
    {
     "data": {
      "text/html": [
       "<div>\n",
       "<style scoped>\n",
       "    .dataframe tbody tr th:only-of-type {\n",
       "        vertical-align: middle;\n",
       "    }\n",
       "\n",
       "    .dataframe tbody tr th {\n",
       "        vertical-align: top;\n",
       "    }\n",
       "\n",
       "    .dataframe thead th {\n",
       "        text-align: right;\n",
       "    }\n",
       "</style>\n",
       "<table border=\"1\" class=\"dataframe\">\n",
       "  <thead>\n",
       "    <tr style=\"text-align: right;\">\n",
       "      <th></th>\n",
       "      <th>extraction_date_with_hour</th>\n",
       "      <th>shared_teks_by_upload_date</th>\n",
       "    </tr>\n",
       "    <tr>\n",
       "      <th>datetime_utc</th>\n",
       "      <th></th>\n",
       "      <th></th>\n",
       "    </tr>\n",
       "  </thead>\n",
       "  <tbody>\n",
       "    <tr>\n",
       "      <th>2020-11-22 00:00:00</th>\n",
       "      <td>2020-11-22@00</td>\n",
       "      <td>14</td>\n",
       "    </tr>\n",
       "    <tr>\n",
       "      <th>2020-11-22 01:00:00</th>\n",
       "      <td>2020-11-22@01</td>\n",
       "      <td>0</td>\n",
       "    </tr>\n",
       "    <tr>\n",
       "      <th>2020-11-22 02:00:00</th>\n",
       "      <td>2020-11-22@02</td>\n",
       "      <td>20</td>\n",
       "    </tr>\n",
       "    <tr>\n",
       "      <th>2020-11-22 03:00:00</th>\n",
       "      <td>2020-11-22@03</td>\n",
       "      <td>0</td>\n",
       "    </tr>\n",
       "    <tr>\n",
       "      <th>2020-11-22 04:00:00</th>\n",
       "      <td>2020-11-22@04</td>\n",
       "      <td>21</td>\n",
       "    </tr>\n",
       "  </tbody>\n",
       "</table>\n",
       "</div>"
      ],
      "text/plain": [
       "                    extraction_date_with_hour  shared_teks_by_upload_date\n",
       "datetime_utc                                                             \n",
       "2020-11-22 00:00:00             2020-11-22@00                          14\n",
       "2020-11-22 01:00:00             2020-11-22@01                           0\n",
       "2020-11-22 02:00:00             2020-11-22@02                          20\n",
       "2020-11-22 03:00:00             2020-11-22@03                           0\n",
       "2020-11-22 04:00:00             2020-11-22@04                          21"
      ]
     },
     "execution_count": 41,
     "metadata": {},
     "output_type": "execute_result"
    }
   ],
   "source": [
    "hourly_summary_df = hourly_new_tek_count_df.copy()\n",
    "hourly_summary_df.set_index(\"extraction_date_with_hour\", inplace=True)\n",
    "hourly_summary_df = hourly_summary_df.fillna(0).astype(int).reset_index()\n",
    "hourly_summary_df[\"datetime_utc\"] = pd.to_datetime(\n",
    "    hourly_summary_df.extraction_date_with_hour, format=\"%Y-%m-%d@%H\")\n",
    "hourly_summary_df.set_index(\"datetime_utc\", inplace=True)\n",
    "hourly_summary_df = hourly_summary_df.tail(-1)\n",
    "hourly_summary_df.head()"
   ]
  },
  {
   "cell_type": "markdown",
   "metadata": {
    "collapsed": false,
    "papermill": {
     "duration": 0.053123,
     "end_time": "2020-11-22T23:25:18.728439",
     "exception": false,
     "start_time": "2020-11-22T23:25:18.675316",
     "status": "completed"
    },
    "tags": []
   },
   "source": [
    "### Data Merge"
   ]
  },
  {
   "cell_type": "code",
   "execution_count": 42,
   "metadata": {
    "collapsed": false,
    "execution": {
     "iopub.execute_input": "2020-11-22T23:25:18.860132Z",
     "iopub.status.busy": "2020-11-22T23:25:18.859572Z",
     "iopub.status.idle": "2020-11-22T23:25:18.862898Z",
     "shell.execute_reply": "2020-11-22T23:25:18.862458Z"
    },
    "papermill": {
     "duration": 0.077121,
     "end_time": "2020-11-22T23:25:18.863020",
     "exception": false,
     "start_time": "2020-11-22T23:25:18.785899",
     "status": "completed"
    },
    "pycharm": {
     "name": "#%%\n"
    },
    "tags": []
   },
   "outputs": [
    {
     "data": {
      "text/html": [
       "<div>\n",
       "<style scoped>\n",
       "    .dataframe tbody tr th:only-of-type {\n",
       "        vertical-align: middle;\n",
       "    }\n",
       "\n",
       "    .dataframe tbody tr th {\n",
       "        vertical-align: top;\n",
       "    }\n",
       "\n",
       "    .dataframe thead th {\n",
       "        text-align: right;\n",
       "    }\n",
       "</style>\n",
       "<table border=\"1\" class=\"dataframe\">\n",
       "  <thead>\n",
       "    <tr style=\"text-align: right;\">\n",
       "      <th></th>\n",
       "      <th>sample_date_string</th>\n",
       "      <th>shared_teks_by_generation_date</th>\n",
       "      <th>shared_teks_by_upload_date</th>\n",
       "    </tr>\n",
       "  </thead>\n",
       "  <tbody>\n",
       "    <tr>\n",
       "      <th>0</th>\n",
       "      <td>2020-11-22</td>\n",
       "      <td>132</td>\n",
       "      <td>14568.0</td>\n",
       "    </tr>\n",
       "    <tr>\n",
       "      <th>1</th>\n",
       "      <td>2020-11-21</td>\n",
       "      <td>1050</td>\n",
       "      <td>22605.0</td>\n",
       "    </tr>\n",
       "    <tr>\n",
       "      <th>2</th>\n",
       "      <td>2020-11-20</td>\n",
       "      <td>3159</td>\n",
       "      <td>26712.0</td>\n",
       "    </tr>\n",
       "    <tr>\n",
       "      <th>3</th>\n",
       "      <td>2020-11-19</td>\n",
       "      <td>5556</td>\n",
       "      <td>25678.0</td>\n",
       "    </tr>\n",
       "    <tr>\n",
       "      <th>4</th>\n",
       "      <td>2020-11-18</td>\n",
       "      <td>7934</td>\n",
       "      <td>29832.0</td>\n",
       "    </tr>\n",
       "  </tbody>\n",
       "</table>\n",
       "</div>"
      ],
      "text/plain": [
       "  sample_date_string  shared_teks_by_generation_date  \\\n",
       "0         2020-11-22                             132   \n",
       "1         2020-11-21                            1050   \n",
       "2         2020-11-20                            3159   \n",
       "3         2020-11-19                            5556   \n",
       "4         2020-11-18                            7934   \n",
       "\n",
       "   shared_teks_by_upload_date  \n",
       "0                     14568.0  \n",
       "1                     22605.0  \n",
       "2                     26712.0  \n",
       "3                     25678.0  \n",
       "4                     29832.0  "
      ]
     },
     "execution_count": 42,
     "metadata": {},
     "output_type": "execute_result"
    }
   ],
   "source": [
    "result_summary_df = exposure_keys_summary_df.merge(\n",
    "    new_tek_df, on=[\"sample_date_string\"], how=\"outer\")\n",
    "result_summary_df.head()"
   ]
  },
  {
   "cell_type": "code",
   "execution_count": 43,
   "metadata": {
    "collapsed": false,
    "execution": {
     "iopub.execute_input": "2020-11-22T23:25:18.993905Z",
     "iopub.status.busy": "2020-11-22T23:25:18.993234Z",
     "iopub.status.idle": "2020-11-22T23:25:19.002921Z",
     "shell.execute_reply": "2020-11-22T23:25:19.003482Z"
    },
    "papermill": {
     "duration": 0.080247,
     "end_time": "2020-11-22T23:25:19.003634",
     "exception": false,
     "start_time": "2020-11-22T23:25:18.923387",
     "status": "completed"
    },
    "pycharm": {
     "name": "#%%\n"
    },
    "tags": []
   },
   "outputs": [
    {
     "data": {
      "text/html": [
       "<div>\n",
       "<style scoped>\n",
       "    .dataframe tbody tr th:only-of-type {\n",
       "        vertical-align: middle;\n",
       "    }\n",
       "\n",
       "    .dataframe tbody tr th {\n",
       "        vertical-align: top;\n",
       "    }\n",
       "\n",
       "    .dataframe thead th {\n",
       "        text-align: right;\n",
       "    }\n",
       "</style>\n",
       "<table border=\"1\" class=\"dataframe\">\n",
       "  <thead>\n",
       "    <tr style=\"text-align: right;\">\n",
       "      <th></th>\n",
       "      <th>sample_date_string</th>\n",
       "      <th>shared_teks_by_generation_date</th>\n",
       "      <th>shared_teks_by_upload_date</th>\n",
       "      <th>shared_teks_uploaded_on_generation_date</th>\n",
       "    </tr>\n",
       "  </thead>\n",
       "  <tbody>\n",
       "    <tr>\n",
       "      <th>0</th>\n",
       "      <td>2020-11-22</td>\n",
       "      <td>132</td>\n",
       "      <td>14568.0</td>\n",
       "      <td>132.0</td>\n",
       "    </tr>\n",
       "    <tr>\n",
       "      <th>1</th>\n",
       "      <td>2020-11-21</td>\n",
       "      <td>1050</td>\n",
       "      <td>22605.0</td>\n",
       "      <td>153.0</td>\n",
       "    </tr>\n",
       "    <tr>\n",
       "      <th>2</th>\n",
       "      <td>2020-11-20</td>\n",
       "      <td>3159</td>\n",
       "      <td>26712.0</td>\n",
       "      <td>212.0</td>\n",
       "    </tr>\n",
       "    <tr>\n",
       "      <th>3</th>\n",
       "      <td>2020-11-19</td>\n",
       "      <td>5556</td>\n",
       "      <td>25678.0</td>\n",
       "      <td>211.0</td>\n",
       "    </tr>\n",
       "    <tr>\n",
       "      <th>4</th>\n",
       "      <td>2020-11-18</td>\n",
       "      <td>7934</td>\n",
       "      <td>29832.0</td>\n",
       "      <td>290.0</td>\n",
       "    </tr>\n",
       "  </tbody>\n",
       "</table>\n",
       "</div>"
      ],
      "text/plain": [
       "  sample_date_string  shared_teks_by_generation_date  \\\n",
       "0         2020-11-22                             132   \n",
       "1         2020-11-21                            1050   \n",
       "2         2020-11-20                            3159   \n",
       "3         2020-11-19                            5556   \n",
       "4         2020-11-18                            7934   \n",
       "\n",
       "   shared_teks_by_upload_date  shared_teks_uploaded_on_generation_date  \n",
       "0                     14568.0                                    132.0  \n",
       "1                     22605.0                                    153.0  \n",
       "2                     26712.0                                    212.0  \n",
       "3                     25678.0                                    211.0  \n",
       "4                     29832.0                                    290.0  "
      ]
     },
     "execution_count": 43,
     "metadata": {},
     "output_type": "execute_result"
    }
   ],
   "source": [
    "result_summary_df = result_summary_df.merge(\n",
    "    shared_teks_uploaded_on_generation_date_df, on=[\"sample_date_string\"], how=\"outer\")\n",
    "result_summary_df.head()"
   ]
  },
  {
   "cell_type": "code",
   "execution_count": 44,
   "metadata": {
    "collapsed": false,
    "execution": {
     "iopub.execute_input": "2020-11-22T23:25:19.137376Z",
     "iopub.status.busy": "2020-11-22T23:25:19.136810Z",
     "iopub.status.idle": "2020-11-22T23:25:19.150206Z",
     "shell.execute_reply": "2020-11-22T23:25:19.150693Z"
    },
    "papermill": {
     "duration": 0.086057,
     "end_time": "2020-11-22T23:25:19.150839",
     "exception": false,
     "start_time": "2020-11-22T23:25:19.064782",
     "status": "completed"
    },
    "pycharm": {
     "name": "#%%\n"
    },
    "tags": []
   },
   "outputs": [
    {
     "data": {
      "text/html": [
       "<div>\n",
       "<style scoped>\n",
       "    .dataframe tbody tr th:only-of-type {\n",
       "        vertical-align: middle;\n",
       "    }\n",
       "\n",
       "    .dataframe tbody tr th {\n",
       "        vertical-align: top;\n",
       "    }\n",
       "\n",
       "    .dataframe thead th {\n",
       "        text-align: right;\n",
       "    }\n",
       "</style>\n",
       "<table border=\"1\" class=\"dataframe\">\n",
       "  <thead>\n",
       "    <tr style=\"text-align: right;\">\n",
       "      <th></th>\n",
       "      <th>sample_date_string</th>\n",
       "      <th>shared_teks_by_generation_date</th>\n",
       "      <th>shared_teks_by_upload_date</th>\n",
       "      <th>shared_teks_uploaded_on_generation_date</th>\n",
       "      <th>shared_diagnoses</th>\n",
       "    </tr>\n",
       "  </thead>\n",
       "  <tbody>\n",
       "    <tr>\n",
       "      <th>0</th>\n",
       "      <td>2020-11-22</td>\n",
       "      <td>132.0</td>\n",
       "      <td>14568.0</td>\n",
       "      <td>132.0</td>\n",
       "      <td>1524.0</td>\n",
       "    </tr>\n",
       "    <tr>\n",
       "      <th>1</th>\n",
       "      <td>2020-11-21</td>\n",
       "      <td>1050.0</td>\n",
       "      <td>22605.0</td>\n",
       "      <td>153.0</td>\n",
       "      <td>2275.0</td>\n",
       "    </tr>\n",
       "    <tr>\n",
       "      <th>2</th>\n",
       "      <td>2020-11-20</td>\n",
       "      <td>3159.0</td>\n",
       "      <td>26712.0</td>\n",
       "      <td>212.0</td>\n",
       "      <td>2617.0</td>\n",
       "    </tr>\n",
       "    <tr>\n",
       "      <th>3</th>\n",
       "      <td>2020-11-19</td>\n",
       "      <td>5556.0</td>\n",
       "      <td>25678.0</td>\n",
       "      <td>211.0</td>\n",
       "      <td>2492.0</td>\n",
       "    </tr>\n",
       "    <tr>\n",
       "      <th>4</th>\n",
       "      <td>2020-11-18</td>\n",
       "      <td>7934.0</td>\n",
       "      <td>29832.0</td>\n",
       "      <td>290.0</td>\n",
       "      <td>2915.0</td>\n",
       "    </tr>\n",
       "  </tbody>\n",
       "</table>\n",
       "</div>"
      ],
      "text/plain": [
       "  sample_date_string  shared_teks_by_generation_date  \\\n",
       "0         2020-11-22                           132.0   \n",
       "1         2020-11-21                          1050.0   \n",
       "2         2020-11-20                          3159.0   \n",
       "3         2020-11-19                          5556.0   \n",
       "4         2020-11-18                          7934.0   \n",
       "\n",
       "   shared_teks_by_upload_date  shared_teks_uploaded_on_generation_date  \\\n",
       "0                     14568.0                                    132.0   \n",
       "1                     22605.0                                    153.0   \n",
       "2                     26712.0                                    212.0   \n",
       "3                     25678.0                                    211.0   \n",
       "4                     29832.0                                    290.0   \n",
       "\n",
       "   shared_diagnoses  \n",
       "0            1524.0  \n",
       "1            2275.0  \n",
       "2            2617.0  \n",
       "3            2492.0  \n",
       "4            2915.0  "
      ]
     },
     "execution_count": 44,
     "metadata": {},
     "output_type": "execute_result"
    }
   ],
   "source": [
    "result_summary_df = result_summary_df.merge(\n",
    "    estimated_shared_diagnoses_df, on=[\"sample_date_string\"], how=\"outer\")\n",
    "result_summary_df.head()"
   ]
  },
  {
   "cell_type": "code",
   "execution_count": 45,
   "metadata": {
    "collapsed": false,
    "execution": {
     "iopub.execute_input": "2020-11-22T23:25:19.292340Z",
     "iopub.status.busy": "2020-11-22T23:25:19.291635Z",
     "iopub.status.idle": "2020-11-22T23:25:19.294396Z",
     "shell.execute_reply": "2020-11-22T23:25:19.294849Z"
    },
    "papermill": {
     "duration": 0.080513,
     "end_time": "2020-11-22T23:25:19.295008",
     "exception": false,
     "start_time": "2020-11-22T23:25:19.214495",
     "status": "completed"
    },
    "pycharm": {
     "name": "#%%\n"
    },
    "tags": []
   },
   "outputs": [
    {
     "data": {
      "text/html": [
       "<div>\n",
       "<style scoped>\n",
       "    .dataframe tbody tr th:only-of-type {\n",
       "        vertical-align: middle;\n",
       "    }\n",
       "\n",
       "    .dataframe tbody tr th {\n",
       "        vertical-align: top;\n",
       "    }\n",
       "\n",
       "    .dataframe thead th {\n",
       "        text-align: right;\n",
       "    }\n",
       "</style>\n",
       "<table border=\"1\" class=\"dataframe\">\n",
       "  <thead>\n",
       "    <tr style=\"text-align: right;\">\n",
       "      <th></th>\n",
       "      <th>sample_date_string</th>\n",
       "      <th>new_cases</th>\n",
       "      <th>covid_cases</th>\n",
       "      <th>shared_teks_by_generation_date</th>\n",
       "      <th>shared_teks_by_upload_date</th>\n",
       "      <th>shared_teks_uploaded_on_generation_date</th>\n",
       "      <th>shared_diagnoses</th>\n",
       "    </tr>\n",
       "  </thead>\n",
       "  <tbody>\n",
       "    <tr>\n",
       "      <th>0</th>\n",
       "      <td>2020-08-31</td>\n",
       "      <td>23572</td>\n",
       "      <td>8203.0</td>\n",
       "      <td>47.0</td>\n",
       "      <td>63.0</td>\n",
       "      <td>NaN</td>\n",
       "      <td>25.0</td>\n",
       "    </tr>\n",
       "    <tr>\n",
       "      <th>1</th>\n",
       "      <td>2020-09-01</td>\n",
       "      <td>8115</td>\n",
       "      <td>8346.0</td>\n",
       "      <td>46.0</td>\n",
       "      <td>39.0</td>\n",
       "      <td>NaN</td>\n",
       "      <td>14.0</td>\n",
       "    </tr>\n",
       "    <tr>\n",
       "      <th>2</th>\n",
       "      <td>2020-09-02</td>\n",
       "      <td>8581</td>\n",
       "      <td>8529.0</td>\n",
       "      <td>52.0</td>\n",
       "      <td>57.0</td>\n",
       "      <td>NaN</td>\n",
       "      <td>14.0</td>\n",
       "    </tr>\n",
       "    <tr>\n",
       "      <th>3</th>\n",
       "      <td>2020-09-03</td>\n",
       "      <td>8959</td>\n",
       "      <td>8429.0</td>\n",
       "      <td>51.0</td>\n",
       "      <td>49.0</td>\n",
       "      <td>NaN</td>\n",
       "      <td>19.0</td>\n",
       "    </tr>\n",
       "    <tr>\n",
       "      <th>4</th>\n",
       "      <td>2020-09-04</td>\n",
       "      <td>10476</td>\n",
       "      <td>8529.0</td>\n",
       "      <td>52.0</td>\n",
       "      <td>58.0</td>\n",
       "      <td>NaN</td>\n",
       "      <td>20.0</td>\n",
       "    </tr>\n",
       "  </tbody>\n",
       "</table>\n",
       "</div>"
      ],
      "text/plain": [
       "  sample_date_string  new_cases  covid_cases  shared_teks_by_generation_date  \\\n",
       "0         2020-08-31      23572       8203.0                            47.0   \n",
       "1         2020-09-01       8115       8346.0                            46.0   \n",
       "2         2020-09-02       8581       8529.0                            52.0   \n",
       "3         2020-09-03       8959       8429.0                            51.0   \n",
       "4         2020-09-04      10476       8529.0                            52.0   \n",
       "\n",
       "   shared_teks_by_upload_date  shared_teks_uploaded_on_generation_date  \\\n",
       "0                        63.0                                      NaN   \n",
       "1                        39.0                                      NaN   \n",
       "2                        57.0                                      NaN   \n",
       "3                        49.0                                      NaN   \n",
       "4                        58.0                                      NaN   \n",
       "\n",
       "   shared_diagnoses  \n",
       "0              25.0  \n",
       "1              14.0  \n",
       "2              14.0  \n",
       "3              19.0  \n",
       "4              20.0  "
      ]
     },
     "execution_count": 45,
     "metadata": {},
     "output_type": "execute_result"
    }
   ],
   "source": [
    "result_summary_df = confirmed_df.tail(daily_summary_days).merge(\n",
    "    result_summary_df, on=[\"sample_date_string\"], how=\"left\")\n",
    "result_summary_df.head()"
   ]
  },
  {
   "cell_type": "code",
   "execution_count": 46,
   "metadata": {
    "collapsed": false,
    "execution": {
     "iopub.execute_input": "2020-11-22T23:25:19.421639Z",
     "iopub.status.busy": "2020-11-22T23:25:19.421004Z",
     "iopub.status.idle": "2020-11-22T23:25:19.442090Z",
     "shell.execute_reply": "2020-11-22T23:25:19.441629Z"
    },
    "papermill": {
     "duration": 0.088874,
     "end_time": "2020-11-22T23:25:19.442214",
     "exception": false,
     "start_time": "2020-11-22T23:25:19.353340",
     "status": "completed"
    },
    "pycharm": {
     "name": "#%%\n"
    },
    "tags": []
   },
   "outputs": [
    {
     "data": {
      "text/html": [
       "<div>\n",
       "<style scoped>\n",
       "    .dataframe tbody tr th:only-of-type {\n",
       "        vertical-align: middle;\n",
       "    }\n",
       "\n",
       "    .dataframe tbody tr th {\n",
       "        vertical-align: top;\n",
       "    }\n",
       "\n",
       "    .dataframe thead th {\n",
       "        text-align: right;\n",
       "    }\n",
       "</style>\n",
       "<table border=\"1\" class=\"dataframe\">\n",
       "  <thead>\n",
       "    <tr style=\"text-align: right;\">\n",
       "      <th></th>\n",
       "      <th></th>\n",
       "      <th>new_cases</th>\n",
       "      <th>covid_cases</th>\n",
       "      <th>shared_teks_by_generation_date</th>\n",
       "      <th>shared_teks_by_upload_date</th>\n",
       "      <th>shared_teks_uploaded_on_generation_date</th>\n",
       "      <th>shared_diagnoses</th>\n",
       "    </tr>\n",
       "    <tr>\n",
       "      <th>sample_date</th>\n",
       "      <th>source_regions</th>\n",
       "      <th></th>\n",
       "      <th></th>\n",
       "      <th></th>\n",
       "      <th></th>\n",
       "      <th></th>\n",
       "      <th></th>\n",
       "    </tr>\n",
       "  </thead>\n",
       "  <tbody>\n",
       "    <tr>\n",
       "      <th>2020-11-22</th>\n",
       "      <th>ES,DE,DK,HR,IE,IT,LV</th>\n",
       "      <td>56334</td>\n",
       "      <td>70591.0</td>\n",
       "      <td>132.0</td>\n",
       "      <td>14568.0</td>\n",
       "      <td>132.0</td>\n",
       "      <td>1524.0</td>\n",
       "    </tr>\n",
       "    <tr>\n",
       "      <th>2020-11-21</th>\n",
       "      <th>ES,DE,DK,HR,IE,IT,LV</th>\n",
       "      <td>65127</td>\n",
       "      <td>70966.0</td>\n",
       "      <td>1050.0</td>\n",
       "      <td>22605.0</td>\n",
       "      <td>153.0</td>\n",
       "      <td>2275.0</td>\n",
       "    </tr>\n",
       "    <tr>\n",
       "      <th>2020-11-20</th>\n",
       "      <th>ES,DE,DK,IE,IT,LV</th>\n",
       "      <td>77058</td>\n",
       "      <td>68866.0</td>\n",
       "      <td>3159.0</td>\n",
       "      <td>26712.0</td>\n",
       "      <td>212.0</td>\n",
       "      <td>2617.0</td>\n",
       "    </tr>\n",
       "    <tr>\n",
       "      <th>2020-11-19</th>\n",
       "      <th>ES,DE,DK,IE,IT,LV</th>\n",
       "      <td>75193</td>\n",
       "      <td>69974.0</td>\n",
       "      <td>5556.0</td>\n",
       "      <td>25678.0</td>\n",
       "      <td>211.0</td>\n",
       "      <td>2492.0</td>\n",
       "    </tr>\n",
       "    <tr>\n",
       "      <th>2020-11-18</th>\n",
       "      <th>ES,DE,DK,IE,IT,LV</th>\n",
       "      <td>66898</td>\n",
       "      <td>70110.0</td>\n",
       "      <td>7934.0</td>\n",
       "      <td>29832.0</td>\n",
       "      <td>290.0</td>\n",
       "      <td>2915.0</td>\n",
       "    </tr>\n",
       "  </tbody>\n",
       "</table>\n",
       "</div>"
      ],
      "text/plain": [
       "                                  new_cases  covid_cases  \\\n",
       "sample_date source_regions                                 \n",
       "2020-11-22  ES,DE,DK,HR,IE,IT,LV      56334      70591.0   \n",
       "2020-11-21  ES,DE,DK,HR,IE,IT,LV      65127      70966.0   \n",
       "2020-11-20  ES,DE,DK,IE,IT,LV         77058      68866.0   \n",
       "2020-11-19  ES,DE,DK,IE,IT,LV         75193      69974.0   \n",
       "2020-11-18  ES,DE,DK,IE,IT,LV         66898      70110.0   \n",
       "\n",
       "                                  shared_teks_by_generation_date  \\\n",
       "sample_date source_regions                                         \n",
       "2020-11-22  ES,DE,DK,HR,IE,IT,LV                           132.0   \n",
       "2020-11-21  ES,DE,DK,HR,IE,IT,LV                          1050.0   \n",
       "2020-11-20  ES,DE,DK,IE,IT,LV                             3159.0   \n",
       "2020-11-19  ES,DE,DK,IE,IT,LV                             5556.0   \n",
       "2020-11-18  ES,DE,DK,IE,IT,LV                             7934.0   \n",
       "\n",
       "                                  shared_teks_by_upload_date  \\\n",
       "sample_date source_regions                                     \n",
       "2020-11-22  ES,DE,DK,HR,IE,IT,LV                     14568.0   \n",
       "2020-11-21  ES,DE,DK,HR,IE,IT,LV                     22605.0   \n",
       "2020-11-20  ES,DE,DK,IE,IT,LV                        26712.0   \n",
       "2020-11-19  ES,DE,DK,IE,IT,LV                        25678.0   \n",
       "2020-11-18  ES,DE,DK,IE,IT,LV                        29832.0   \n",
       "\n",
       "                                  shared_teks_uploaded_on_generation_date  \\\n",
       "sample_date source_regions                                                  \n",
       "2020-11-22  ES,DE,DK,HR,IE,IT,LV                                    132.0   \n",
       "2020-11-21  ES,DE,DK,HR,IE,IT,LV                                    153.0   \n",
       "2020-11-20  ES,DE,DK,IE,IT,LV                                       212.0   \n",
       "2020-11-19  ES,DE,DK,IE,IT,LV                                       211.0   \n",
       "2020-11-18  ES,DE,DK,IE,IT,LV                                       290.0   \n",
       "\n",
       "                                  shared_diagnoses  \n",
       "sample_date source_regions                          \n",
       "2020-11-22  ES,DE,DK,HR,IE,IT,LV            1524.0  \n",
       "2020-11-21  ES,DE,DK,HR,IE,IT,LV            2275.0  \n",
       "2020-11-20  ES,DE,DK,IE,IT,LV               2617.0  \n",
       "2020-11-19  ES,DE,DK,IE,IT,LV               2492.0  \n",
       "2020-11-18  ES,DE,DK,IE,IT,LV               2915.0  "
      ]
     },
     "execution_count": 46,
     "metadata": {},
     "output_type": "execute_result"
    }
   ],
   "source": [
    "result_summary_df[\"sample_date\"] = pd.to_datetime(result_summary_df.sample_date_string)\n",
    "result_summary_df = result_summary_df.merge(source_regions_for_summary_df, how=\"left\")\n",
    "result_summary_df.set_index([\"sample_date\", \"source_regions\"], inplace=True)\n",
    "result_summary_df.drop(columns=[\"sample_date_string\"], inplace=True)\n",
    "result_summary_df.sort_index(ascending=False, inplace=True)\n",
    "result_summary_df.head()"
   ]
  },
  {
   "cell_type": "code",
   "execution_count": 47,
   "metadata": {
    "execution": {
     "iopub.execute_input": "2020-11-22T23:25:19.597431Z",
     "iopub.status.busy": "2020-11-22T23:25:19.596641Z",
     "iopub.status.idle": "2020-11-22T23:25:19.611930Z",
     "shell.execute_reply": "2020-11-22T23:25:19.612375Z"
    },
    "papermill": {
     "duration": 0.100313,
     "end_time": "2020-11-22T23:25:19.612552",
     "exception": false,
     "start_time": "2020-11-22T23:25:19.512239",
     "status": "completed"
    },
    "tags": []
   },
   "outputs": [
    {
     "data": {
      "text/html": [
       "<div>\n",
       "<style scoped>\n",
       "    .dataframe tbody tr th:only-of-type {\n",
       "        vertical-align: middle;\n",
       "    }\n",
       "\n",
       "    .dataframe tbody tr th {\n",
       "        vertical-align: top;\n",
       "    }\n",
       "\n",
       "    .dataframe thead th {\n",
       "        text-align: right;\n",
       "    }\n",
       "</style>\n",
       "<table border=\"1\" class=\"dataframe\">\n",
       "  <thead>\n",
       "    <tr style=\"text-align: right;\">\n",
       "      <th></th>\n",
       "      <th></th>\n",
       "      <th>new_cases</th>\n",
       "      <th>covid_cases</th>\n",
       "      <th>shared_teks_by_generation_date</th>\n",
       "      <th>shared_teks_by_upload_date</th>\n",
       "      <th>shared_teks_uploaded_on_generation_date</th>\n",
       "      <th>shared_diagnoses</th>\n",
       "      <th>teks_per_shared_diagnosis</th>\n",
       "      <th>shared_diagnoses_per_covid_case</th>\n",
       "    </tr>\n",
       "    <tr>\n",
       "      <th>sample_date</th>\n",
       "      <th>source_regions</th>\n",
       "      <th></th>\n",
       "      <th></th>\n",
       "      <th></th>\n",
       "      <th></th>\n",
       "      <th></th>\n",
       "      <th></th>\n",
       "      <th></th>\n",
       "      <th></th>\n",
       "    </tr>\n",
       "  </thead>\n",
       "  <tbody>\n",
       "    <tr>\n",
       "      <th>2020-11-22</th>\n",
       "      <th>ES,DE,DK,HR,IE,IT,LV</th>\n",
       "      <td>56334</td>\n",
       "      <td>70591</td>\n",
       "      <td>132</td>\n",
       "      <td>14568</td>\n",
       "      <td>132</td>\n",
       "      <td>1524</td>\n",
       "      <td>9.559055</td>\n",
       "      <td>0.021589</td>\n",
       "    </tr>\n",
       "    <tr>\n",
       "      <th>2020-11-21</th>\n",
       "      <th>ES,DE,DK,HR,IE,IT,LV</th>\n",
       "      <td>65127</td>\n",
       "      <td>70966</td>\n",
       "      <td>1050</td>\n",
       "      <td>22605</td>\n",
       "      <td>153</td>\n",
       "      <td>2275</td>\n",
       "      <td>9.936264</td>\n",
       "      <td>0.032058</td>\n",
       "    </tr>\n",
       "    <tr>\n",
       "      <th>2020-11-20</th>\n",
       "      <th>ES,DE,DK,IE,IT,LV</th>\n",
       "      <td>77058</td>\n",
       "      <td>68866</td>\n",
       "      <td>3159</td>\n",
       "      <td>26712</td>\n",
       "      <td>212</td>\n",
       "      <td>2617</td>\n",
       "      <td>10.207107</td>\n",
       "      <td>0.038001</td>\n",
       "    </tr>\n",
       "    <tr>\n",
       "      <th>2020-11-19</th>\n",
       "      <th>ES,DE,DK,IE,IT,LV</th>\n",
       "      <td>75193</td>\n",
       "      <td>69974</td>\n",
       "      <td>5556</td>\n",
       "      <td>25678</td>\n",
       "      <td>211</td>\n",
       "      <td>2492</td>\n",
       "      <td>10.304173</td>\n",
       "      <td>0.035613</td>\n",
       "    </tr>\n",
       "    <tr>\n",
       "      <th>2020-11-18</th>\n",
       "      <th>ES,DE,DK,IE,IT,LV</th>\n",
       "      <td>66898</td>\n",
       "      <td>70110</td>\n",
       "      <td>7934</td>\n",
       "      <td>29832</td>\n",
       "      <td>290</td>\n",
       "      <td>2915</td>\n",
       "      <td>10.233962</td>\n",
       "      <td>0.041578</td>\n",
       "    </tr>\n",
       "    <tr>\n",
       "      <th>2020-11-17</th>\n",
       "      <th>ES,DE,DK,IE,IT,LV</th>\n",
       "      <td>56667</td>\n",
       "      <td>71150</td>\n",
       "      <td>10379</td>\n",
       "      <td>22734</td>\n",
       "      <td>222</td>\n",
       "      <td>2099</td>\n",
       "      <td>10.830872</td>\n",
       "      <td>0.029501</td>\n",
       "    </tr>\n",
       "    <tr>\n",
       "      <th>2020-11-16</th>\n",
       "      <th>ES,DE,DK,IE,IT,LV</th>\n",
       "      <td>84825</td>\n",
       "      <td>71501</td>\n",
       "      <td>12312</td>\n",
       "      <td>17579</td>\n",
       "      <td>194</td>\n",
       "      <td>1741</td>\n",
       "      <td>10.097071</td>\n",
       "      <td>0.024349</td>\n",
       "    </tr>\n",
       "    <tr>\n",
       "      <th>2020-11-15</th>\n",
       "      <th>ES,DE,DK,IE,IT,LV</th>\n",
       "      <td>56096</td>\n",
       "      <td>73670</td>\n",
       "      <td>13410</td>\n",
       "      <td>15287</td>\n",
       "      <td>224</td>\n",
       "      <td>1611</td>\n",
       "      <td>9.489137</td>\n",
       "      <td>0.021868</td>\n",
       "    </tr>\n",
       "    <tr>\n",
       "      <th>2020-11-14</th>\n",
       "      <th>ES,DE,DK,IE,IT,LV</th>\n",
       "      <td>65322</td>\n",
       "      <td>73884</td>\n",
       "      <td>14511</td>\n",
       "      <td>22798</td>\n",
       "      <td>211</td>\n",
       "      <td>2281</td>\n",
       "      <td>9.994739</td>\n",
       "      <td>0.030873</td>\n",
       "    </tr>\n",
       "    <tr>\n",
       "      <th>2020-11-13</th>\n",
       "      <th>ES,DE,DK,IE,IT,LV</th>\n",
       "      <td>84819</td>\n",
       "      <td>73621</td>\n",
       "      <td>16338</td>\n",
       "      <td>29729</td>\n",
       "      <td>306</td>\n",
       "      <td>2890</td>\n",
       "      <td>10.286851</td>\n",
       "      <td>0.039255</td>\n",
       "    </tr>\n",
       "    <tr>\n",
       "      <th>2020-11-12</th>\n",
       "      <th>ES,DE,DK,IE,IT,LV</th>\n",
       "      <td>76143</td>\n",
       "      <td>73029</td>\n",
       "      <td>18553</td>\n",
       "      <td>31792</td>\n",
       "      <td>317</td>\n",
       "      <td>3205</td>\n",
       "      <td>9.919501</td>\n",
       "      <td>0.043887</td>\n",
       "    </tr>\n",
       "    <tr>\n",
       "      <th>2020-11-11</th>\n",
       "      <th>ES,DE,DK,IE,IT,LV</th>\n",
       "      <td>74177</td>\n",
       "      <td>72741</td>\n",
       "      <td>20659</td>\n",
       "      <td>30445</td>\n",
       "      <td>300</td>\n",
       "      <td>3029</td>\n",
       "      <td>10.051172</td>\n",
       "      <td>0.041641</td>\n",
       "    </tr>\n",
       "    <tr>\n",
       "      <th>2020-11-10</th>\n",
       "      <th>ES,DE,DK,IE,IT,LV</th>\n",
       "      <td>59124</td>\n",
       "      <td>72476</td>\n",
       "      <td>22712</td>\n",
       "      <td>21163</td>\n",
       "      <td>292</td>\n",
       "      <td>2086</td>\n",
       "      <td>10.145254</td>\n",
       "      <td>0.028782</td>\n",
       "    </tr>\n",
       "    <tr>\n",
       "      <th>2020-11-09</th>\n",
       "      <th>ES,DE,DK,IE,IT,LV</th>\n",
       "      <td>100008</td>\n",
       "      <td>72329</td>\n",
       "      <td>24379</td>\n",
       "      <td>16517</td>\n",
       "      <td>236</td>\n",
       "      <td>1683</td>\n",
       "      <td>9.814023</td>\n",
       "      <td>0.023269</td>\n",
       "    </tr>\n",
       "    <tr>\n",
       "      <th>2020-11-08</th>\n",
       "      <th>ES,DE,IE,IT,LV</th>\n",
       "      <td>56547</td>\n",
       "      <td>71025</td>\n",
       "      <td>24098</td>\n",
       "      <td>16816</td>\n",
       "      <td>209</td>\n",
       "      <td>1809</td>\n",
       "      <td>9.295744</td>\n",
       "      <td>0.025470</td>\n",
       "    </tr>\n",
       "    <tr>\n",
       "      <th>2020-11-07</th>\n",
       "      <th>ES,DE,IE,IT,LV</th>\n",
       "      <td>62050</td>\n",
       "      <td>69596</td>\n",
       "      <td>23590</td>\n",
       "      <td>23688</td>\n",
       "      <td>313</td>\n",
       "      <td>2490</td>\n",
       "      <td>9.513253</td>\n",
       "      <td>0.035778</td>\n",
       "    </tr>\n",
       "    <tr>\n",
       "      <th>2020-11-06</th>\n",
       "      <th>ES,DE,IE,IT,LV</th>\n",
       "      <td>79454</td>\n",
       "      <td>68044</td>\n",
       "      <td>23325</td>\n",
       "      <td>28583</td>\n",
       "      <td>263</td>\n",
       "      <td>2909</td>\n",
       "      <td>9.825713</td>\n",
       "      <td>0.042752</td>\n",
       "    </tr>\n",
       "    <tr>\n",
       "      <th>2020-11-05</th>\n",
       "      <th>ES,DE,IE,IT,LV</th>\n",
       "      <td>73194</td>\n",
       "      <td>67010</td>\n",
       "      <td>23626</td>\n",
       "      <td>26573</td>\n",
       "      <td>267</td>\n",
       "      <td>2696</td>\n",
       "      <td>9.856454</td>\n",
       "      <td>0.040233</td>\n",
       "    </tr>\n",
       "    <tr>\n",
       "      <th>2020-11-04</th>\n",
       "      <th>ES,DE,IE,IT,LV</th>\n",
       "      <td>70966</td>\n",
       "      <td>66020</td>\n",
       "      <td>23610</td>\n",
       "      <td>28247</td>\n",
       "      <td>344</td>\n",
       "      <td>2851</td>\n",
       "      <td>9.907752</td>\n",
       "      <td>0.043184</td>\n",
       "    </tr>\n",
       "    <tr>\n",
       "      <th>2020-11-03</th>\n",
       "      <th>ES,DE,IE,IT,LV</th>\n",
       "      <td>57154</td>\n",
       "      <td>64104</td>\n",
       "      <td>23958</td>\n",
       "      <td>20613</td>\n",
       "      <td>280</td>\n",
       "      <td>1961</td>\n",
       "      <td>10.511474</td>\n",
       "      <td>0.030591</td>\n",
       "    </tr>\n",
       "    <tr>\n",
       "      <th>2020-11-02</th>\n",
       "      <th>ES,DE,IE,IT,LV</th>\n",
       "      <td>97809</td>\n",
       "      <td>62775</td>\n",
       "      <td>24206</td>\n",
       "      <td>16927</td>\n",
       "      <td>264</td>\n",
       "      <td>1711</td>\n",
       "      <td>9.893045</td>\n",
       "      <td>0.027256</td>\n",
       "    </tr>\n",
       "    <tr>\n",
       "      <th>2020-11-01</th>\n",
       "      <th>ES,DE,IE,IT,LV</th>\n",
       "      <td>46545</td>\n",
       "      <td>60713</td>\n",
       "      <td>23893</td>\n",
       "      <td>16848</td>\n",
       "      <td>277</td>\n",
       "      <td>1842</td>\n",
       "      <td>9.146580</td>\n",
       "      <td>0.030339</td>\n",
       "    </tr>\n",
       "    <tr>\n",
       "      <th>2020-10-31</th>\n",
       "      <th>ES,DE,IE,IT,LV</th>\n",
       "      <td>51184</td>\n",
       "      <td>58624</td>\n",
       "      <td>23407</td>\n",
       "      <td>20328</td>\n",
       "      <td>305</td>\n",
       "      <td>2163</td>\n",
       "      <td>9.398058</td>\n",
       "      <td>0.036896</td>\n",
       "    </tr>\n",
       "    <tr>\n",
       "      <th>2020-10-30</th>\n",
       "      <th>ES,DE,IE,IT,LV</th>\n",
       "      <td>72219</td>\n",
       "      <td>56297</td>\n",
       "      <td>22997</td>\n",
       "      <td>100215</td>\n",
       "      <td>382</td>\n",
       "      <td>0</td>\n",
       "      <td>0.000000</td>\n",
       "      <td>0.000000</td>\n",
       "    </tr>\n",
       "    <tr>\n",
       "      <th>2020-10-29</th>\n",
       "      <th>ES</th>\n",
       "      <td>23580</td>\n",
       "      <td>19115</td>\n",
       "      <td>22747</td>\n",
       "      <td>1847</td>\n",
       "      <td>397</td>\n",
       "      <td>397</td>\n",
       "      <td>4.652393</td>\n",
       "      <td>0.020769</td>\n",
       "    </tr>\n",
       "    <tr>\n",
       "      <th>2020-10-28</th>\n",
       "      <th>ES</th>\n",
       "      <td>19765</td>\n",
       "      <td>18744</td>\n",
       "      <td>22541</td>\n",
       "      <td>1933</td>\n",
       "      <td>406</td>\n",
       "      <td>406</td>\n",
       "      <td>4.761084</td>\n",
       "      <td>0.021660</td>\n",
       "    </tr>\n",
       "    <tr>\n",
       "      <th>2020-10-27</th>\n",
       "      <th>ES</th>\n",
       "      <td>18418</td>\n",
       "      <td>18345</td>\n",
       "      <td>22580</td>\n",
       "      <td>988</td>\n",
       "      <td>231</td>\n",
       "      <td>231</td>\n",
       "      <td>4.277056</td>\n",
       "      <td>0.012592</td>\n",
       "    </tr>\n",
       "    <tr>\n",
       "      <th>2020-10-26</th>\n",
       "      <th>ES</th>\n",
       "      <td>52188</td>\n",
       "      <td>17696</td>\n",
       "      <td>22617</td>\n",
       "      <td>994</td>\n",
       "      <td>215</td>\n",
       "      <td>215</td>\n",
       "      <td>4.623256</td>\n",
       "      <td>0.012150</td>\n",
       "    </tr>\n",
       "  </tbody>\n",
       "</table>\n",
       "</div>"
      ],
      "text/plain": [
       "                                  new_cases  covid_cases  \\\n",
       "sample_date source_regions                                 \n",
       "2020-11-22  ES,DE,DK,HR,IE,IT,LV      56334        70591   \n",
       "2020-11-21  ES,DE,DK,HR,IE,IT,LV      65127        70966   \n",
       "2020-11-20  ES,DE,DK,IE,IT,LV         77058        68866   \n",
       "2020-11-19  ES,DE,DK,IE,IT,LV         75193        69974   \n",
       "2020-11-18  ES,DE,DK,IE,IT,LV         66898        70110   \n",
       "2020-11-17  ES,DE,DK,IE,IT,LV         56667        71150   \n",
       "2020-11-16  ES,DE,DK,IE,IT,LV         84825        71501   \n",
       "2020-11-15  ES,DE,DK,IE,IT,LV         56096        73670   \n",
       "2020-11-14  ES,DE,DK,IE,IT,LV         65322        73884   \n",
       "2020-11-13  ES,DE,DK,IE,IT,LV         84819        73621   \n",
       "2020-11-12  ES,DE,DK,IE,IT,LV         76143        73029   \n",
       "2020-11-11  ES,DE,DK,IE,IT,LV         74177        72741   \n",
       "2020-11-10  ES,DE,DK,IE,IT,LV         59124        72476   \n",
       "2020-11-09  ES,DE,DK,IE,IT,LV        100008        72329   \n",
       "2020-11-08  ES,DE,IE,IT,LV            56547        71025   \n",
       "2020-11-07  ES,DE,IE,IT,LV            62050        69596   \n",
       "2020-11-06  ES,DE,IE,IT,LV            79454        68044   \n",
       "2020-11-05  ES,DE,IE,IT,LV            73194        67010   \n",
       "2020-11-04  ES,DE,IE,IT,LV            70966        66020   \n",
       "2020-11-03  ES,DE,IE,IT,LV            57154        64104   \n",
       "2020-11-02  ES,DE,IE,IT,LV            97809        62775   \n",
       "2020-11-01  ES,DE,IE,IT,LV            46545        60713   \n",
       "2020-10-31  ES,DE,IE,IT,LV            51184        58624   \n",
       "2020-10-30  ES,DE,IE,IT,LV            72219        56297   \n",
       "2020-10-29  ES                        23580        19115   \n",
       "2020-10-28  ES                        19765        18744   \n",
       "2020-10-27  ES                        18418        18345   \n",
       "2020-10-26  ES                        52188        17696   \n",
       "\n",
       "                                  shared_teks_by_generation_date  \\\n",
       "sample_date source_regions                                         \n",
       "2020-11-22  ES,DE,DK,HR,IE,IT,LV                             132   \n",
       "2020-11-21  ES,DE,DK,HR,IE,IT,LV                            1050   \n",
       "2020-11-20  ES,DE,DK,IE,IT,LV                               3159   \n",
       "2020-11-19  ES,DE,DK,IE,IT,LV                               5556   \n",
       "2020-11-18  ES,DE,DK,IE,IT,LV                               7934   \n",
       "2020-11-17  ES,DE,DK,IE,IT,LV                              10379   \n",
       "2020-11-16  ES,DE,DK,IE,IT,LV                              12312   \n",
       "2020-11-15  ES,DE,DK,IE,IT,LV                              13410   \n",
       "2020-11-14  ES,DE,DK,IE,IT,LV                              14511   \n",
       "2020-11-13  ES,DE,DK,IE,IT,LV                              16338   \n",
       "2020-11-12  ES,DE,DK,IE,IT,LV                              18553   \n",
       "2020-11-11  ES,DE,DK,IE,IT,LV                              20659   \n",
       "2020-11-10  ES,DE,DK,IE,IT,LV                              22712   \n",
       "2020-11-09  ES,DE,DK,IE,IT,LV                              24379   \n",
       "2020-11-08  ES,DE,IE,IT,LV                                 24098   \n",
       "2020-11-07  ES,DE,IE,IT,LV                                 23590   \n",
       "2020-11-06  ES,DE,IE,IT,LV                                 23325   \n",
       "2020-11-05  ES,DE,IE,IT,LV                                 23626   \n",
       "2020-11-04  ES,DE,IE,IT,LV                                 23610   \n",
       "2020-11-03  ES,DE,IE,IT,LV                                 23958   \n",
       "2020-11-02  ES,DE,IE,IT,LV                                 24206   \n",
       "2020-11-01  ES,DE,IE,IT,LV                                 23893   \n",
       "2020-10-31  ES,DE,IE,IT,LV                                 23407   \n",
       "2020-10-30  ES,DE,IE,IT,LV                                 22997   \n",
       "2020-10-29  ES                                             22747   \n",
       "2020-10-28  ES                                             22541   \n",
       "2020-10-27  ES                                             22580   \n",
       "2020-10-26  ES                                             22617   \n",
       "\n",
       "                                  shared_teks_by_upload_date  \\\n",
       "sample_date source_regions                                     \n",
       "2020-11-22  ES,DE,DK,HR,IE,IT,LV                       14568   \n",
       "2020-11-21  ES,DE,DK,HR,IE,IT,LV                       22605   \n",
       "2020-11-20  ES,DE,DK,IE,IT,LV                          26712   \n",
       "2020-11-19  ES,DE,DK,IE,IT,LV                          25678   \n",
       "2020-11-18  ES,DE,DK,IE,IT,LV                          29832   \n",
       "2020-11-17  ES,DE,DK,IE,IT,LV                          22734   \n",
       "2020-11-16  ES,DE,DK,IE,IT,LV                          17579   \n",
       "2020-11-15  ES,DE,DK,IE,IT,LV                          15287   \n",
       "2020-11-14  ES,DE,DK,IE,IT,LV                          22798   \n",
       "2020-11-13  ES,DE,DK,IE,IT,LV                          29729   \n",
       "2020-11-12  ES,DE,DK,IE,IT,LV                          31792   \n",
       "2020-11-11  ES,DE,DK,IE,IT,LV                          30445   \n",
       "2020-11-10  ES,DE,DK,IE,IT,LV                          21163   \n",
       "2020-11-09  ES,DE,DK,IE,IT,LV                          16517   \n",
       "2020-11-08  ES,DE,IE,IT,LV                             16816   \n",
       "2020-11-07  ES,DE,IE,IT,LV                             23688   \n",
       "2020-11-06  ES,DE,IE,IT,LV                             28583   \n",
       "2020-11-05  ES,DE,IE,IT,LV                             26573   \n",
       "2020-11-04  ES,DE,IE,IT,LV                             28247   \n",
       "2020-11-03  ES,DE,IE,IT,LV                             20613   \n",
       "2020-11-02  ES,DE,IE,IT,LV                             16927   \n",
       "2020-11-01  ES,DE,IE,IT,LV                             16848   \n",
       "2020-10-31  ES,DE,IE,IT,LV                             20328   \n",
       "2020-10-30  ES,DE,IE,IT,LV                            100215   \n",
       "2020-10-29  ES                                          1847   \n",
       "2020-10-28  ES                                          1933   \n",
       "2020-10-27  ES                                           988   \n",
       "2020-10-26  ES                                           994   \n",
       "\n",
       "                                  shared_teks_uploaded_on_generation_date  \\\n",
       "sample_date source_regions                                                  \n",
       "2020-11-22  ES,DE,DK,HR,IE,IT,LV                                      132   \n",
       "2020-11-21  ES,DE,DK,HR,IE,IT,LV                                      153   \n",
       "2020-11-20  ES,DE,DK,IE,IT,LV                                         212   \n",
       "2020-11-19  ES,DE,DK,IE,IT,LV                                         211   \n",
       "2020-11-18  ES,DE,DK,IE,IT,LV                                         290   \n",
       "2020-11-17  ES,DE,DK,IE,IT,LV                                         222   \n",
       "2020-11-16  ES,DE,DK,IE,IT,LV                                         194   \n",
       "2020-11-15  ES,DE,DK,IE,IT,LV                                         224   \n",
       "2020-11-14  ES,DE,DK,IE,IT,LV                                         211   \n",
       "2020-11-13  ES,DE,DK,IE,IT,LV                                         306   \n",
       "2020-11-12  ES,DE,DK,IE,IT,LV                                         317   \n",
       "2020-11-11  ES,DE,DK,IE,IT,LV                                         300   \n",
       "2020-11-10  ES,DE,DK,IE,IT,LV                                         292   \n",
       "2020-11-09  ES,DE,DK,IE,IT,LV                                         236   \n",
       "2020-11-08  ES,DE,IE,IT,LV                                            209   \n",
       "2020-11-07  ES,DE,IE,IT,LV                                            313   \n",
       "2020-11-06  ES,DE,IE,IT,LV                                            263   \n",
       "2020-11-05  ES,DE,IE,IT,LV                                            267   \n",
       "2020-11-04  ES,DE,IE,IT,LV                                            344   \n",
       "2020-11-03  ES,DE,IE,IT,LV                                            280   \n",
       "2020-11-02  ES,DE,IE,IT,LV                                            264   \n",
       "2020-11-01  ES,DE,IE,IT,LV                                            277   \n",
       "2020-10-31  ES,DE,IE,IT,LV                                            305   \n",
       "2020-10-30  ES,DE,IE,IT,LV                                            382   \n",
       "2020-10-29  ES                                                        397   \n",
       "2020-10-28  ES                                                        406   \n",
       "2020-10-27  ES                                                        231   \n",
       "2020-10-26  ES                                                        215   \n",
       "\n",
       "                                  shared_diagnoses  teks_per_shared_diagnosis  \\\n",
       "sample_date source_regions                                                      \n",
       "2020-11-22  ES,DE,DK,HR,IE,IT,LV              1524                   9.559055   \n",
       "2020-11-21  ES,DE,DK,HR,IE,IT,LV              2275                   9.936264   \n",
       "2020-11-20  ES,DE,DK,IE,IT,LV                 2617                  10.207107   \n",
       "2020-11-19  ES,DE,DK,IE,IT,LV                 2492                  10.304173   \n",
       "2020-11-18  ES,DE,DK,IE,IT,LV                 2915                  10.233962   \n",
       "2020-11-17  ES,DE,DK,IE,IT,LV                 2099                  10.830872   \n",
       "2020-11-16  ES,DE,DK,IE,IT,LV                 1741                  10.097071   \n",
       "2020-11-15  ES,DE,DK,IE,IT,LV                 1611                   9.489137   \n",
       "2020-11-14  ES,DE,DK,IE,IT,LV                 2281                   9.994739   \n",
       "2020-11-13  ES,DE,DK,IE,IT,LV                 2890                  10.286851   \n",
       "2020-11-12  ES,DE,DK,IE,IT,LV                 3205                   9.919501   \n",
       "2020-11-11  ES,DE,DK,IE,IT,LV                 3029                  10.051172   \n",
       "2020-11-10  ES,DE,DK,IE,IT,LV                 2086                  10.145254   \n",
       "2020-11-09  ES,DE,DK,IE,IT,LV                 1683                   9.814023   \n",
       "2020-11-08  ES,DE,IE,IT,LV                    1809                   9.295744   \n",
       "2020-11-07  ES,DE,IE,IT,LV                    2490                   9.513253   \n",
       "2020-11-06  ES,DE,IE,IT,LV                    2909                   9.825713   \n",
       "2020-11-05  ES,DE,IE,IT,LV                    2696                   9.856454   \n",
       "2020-11-04  ES,DE,IE,IT,LV                    2851                   9.907752   \n",
       "2020-11-03  ES,DE,IE,IT,LV                    1961                  10.511474   \n",
       "2020-11-02  ES,DE,IE,IT,LV                    1711                   9.893045   \n",
       "2020-11-01  ES,DE,IE,IT,LV                    1842                   9.146580   \n",
       "2020-10-31  ES,DE,IE,IT,LV                    2163                   9.398058   \n",
       "2020-10-30  ES,DE,IE,IT,LV                       0                   0.000000   \n",
       "2020-10-29  ES                                 397                   4.652393   \n",
       "2020-10-28  ES                                 406                   4.761084   \n",
       "2020-10-27  ES                                 231                   4.277056   \n",
       "2020-10-26  ES                                 215                   4.623256   \n",
       "\n",
       "                                  shared_diagnoses_per_covid_case  \n",
       "sample_date source_regions                                         \n",
       "2020-11-22  ES,DE,DK,HR,IE,IT,LV                         0.021589  \n",
       "2020-11-21  ES,DE,DK,HR,IE,IT,LV                         0.032058  \n",
       "2020-11-20  ES,DE,DK,IE,IT,LV                            0.038001  \n",
       "2020-11-19  ES,DE,DK,IE,IT,LV                            0.035613  \n",
       "2020-11-18  ES,DE,DK,IE,IT,LV                            0.041578  \n",
       "2020-11-17  ES,DE,DK,IE,IT,LV                            0.029501  \n",
       "2020-11-16  ES,DE,DK,IE,IT,LV                            0.024349  \n",
       "2020-11-15  ES,DE,DK,IE,IT,LV                            0.021868  \n",
       "2020-11-14  ES,DE,DK,IE,IT,LV                            0.030873  \n",
       "2020-11-13  ES,DE,DK,IE,IT,LV                            0.039255  \n",
       "2020-11-12  ES,DE,DK,IE,IT,LV                            0.043887  \n",
       "2020-11-11  ES,DE,DK,IE,IT,LV                            0.041641  \n",
       "2020-11-10  ES,DE,DK,IE,IT,LV                            0.028782  \n",
       "2020-11-09  ES,DE,DK,IE,IT,LV                            0.023269  \n",
       "2020-11-08  ES,DE,IE,IT,LV                               0.025470  \n",
       "2020-11-07  ES,DE,IE,IT,LV                               0.035778  \n",
       "2020-11-06  ES,DE,IE,IT,LV                               0.042752  \n",
       "2020-11-05  ES,DE,IE,IT,LV                               0.040233  \n",
       "2020-11-04  ES,DE,IE,IT,LV                               0.043184  \n",
       "2020-11-03  ES,DE,IE,IT,LV                               0.030591  \n",
       "2020-11-02  ES,DE,IE,IT,LV                               0.027256  \n",
       "2020-11-01  ES,DE,IE,IT,LV                               0.030339  \n",
       "2020-10-31  ES,DE,IE,IT,LV                               0.036896  \n",
       "2020-10-30  ES,DE,IE,IT,LV                               0.000000  \n",
       "2020-10-29  ES                                           0.020769  \n",
       "2020-10-28  ES                                           0.021660  \n",
       "2020-10-27  ES                                           0.012592  \n",
       "2020-10-26  ES                                           0.012150  "
      ]
     },
     "execution_count": 47,
     "metadata": {},
     "output_type": "execute_result"
    }
   ],
   "source": [
    "with pd.option_context(\"mode.use_inf_as_na\", True):\n",
    "    result_summary_df = result_summary_df.fillna(0).astype(int)\n",
    "    result_summary_df[\"teks_per_shared_diagnosis\"] = \\\n",
    "        (result_summary_df.shared_teks_by_upload_date / result_summary_df.shared_diagnoses).fillna(0)\n",
    "    result_summary_df[\"shared_diagnoses_per_covid_case\"] = \\\n",
    "        (result_summary_df.shared_diagnoses / result_summary_df.covid_cases).fillna(0)\n",
    "\n",
    "result_summary_df.head(daily_plot_days)"
   ]
  },
  {
   "cell_type": "code",
   "execution_count": 48,
   "metadata": {
    "collapsed": false,
    "execution": {
     "iopub.execute_input": "2020-11-22T23:25:19.743884Z",
     "iopub.status.busy": "2020-11-22T23:25:19.743354Z",
     "iopub.status.idle": "2020-11-22T23:25:19.767898Z",
     "shell.execute_reply": "2020-11-22T23:25:19.768364Z"
    },
    "papermill": {
     "duration": 0.095165,
     "end_time": "2020-11-22T23:25:19.768527",
     "exception": false,
     "start_time": "2020-11-22T23:25:19.673362",
     "status": "completed"
    },
    "pycharm": {
     "name": "#%%\n"
    },
    "tags": []
   },
   "outputs": [
    {
     "data": {
      "text/html": [
       "<div>\n",
       "<style scoped>\n",
       "    .dataframe tbody tr th:only-of-type {\n",
       "        vertical-align: middle;\n",
       "    }\n",
       "\n",
       "    .dataframe tbody tr th {\n",
       "        vertical-align: top;\n",
       "    }\n",
       "\n",
       "    .dataframe thead th {\n",
       "        text-align: right;\n",
       "    }\n",
       "</style>\n",
       "<table border=\"1\" class=\"dataframe\">\n",
       "  <thead>\n",
       "    <tr style=\"text-align: right;\">\n",
       "      <th></th>\n",
       "      <th></th>\n",
       "      <th>covid_cases</th>\n",
       "      <th>shared_teks_by_generation_date</th>\n",
       "      <th>shared_teks_by_upload_date</th>\n",
       "      <th>shared_diagnoses</th>\n",
       "      <th>teks_per_shared_diagnosis</th>\n",
       "      <th>shared_diagnoses_per_covid_case</th>\n",
       "    </tr>\n",
       "    <tr>\n",
       "      <th>sample_date</th>\n",
       "      <th>source_regions</th>\n",
       "      <th></th>\n",
       "      <th></th>\n",
       "      <th></th>\n",
       "      <th></th>\n",
       "      <th></th>\n",
       "      <th></th>\n",
       "    </tr>\n",
       "  </thead>\n",
       "  <tbody>\n",
       "    <tr>\n",
       "      <th>2020-11-22</th>\n",
       "      <th>ES,DE,DK,HR,IE,IT,LV</th>\n",
       "      <td>493158</td>\n",
       "      <td>40522</td>\n",
       "      <td>159708</td>\n",
       "      <td>15663</td>\n",
       "      <td>10.196514</td>\n",
       "      <td>0.031761</td>\n",
       "    </tr>\n",
       "    <tr>\n",
       "      <th>2020-11-21</th>\n",
       "      <th>ES,DE,DK,HR,IE,IT,LV</th>\n",
       "      <td>496237</td>\n",
       "      <td>53800</td>\n",
       "      <td>160427</td>\n",
       "      <td>15750</td>\n",
       "      <td>10.185841</td>\n",
       "      <td>0.031739</td>\n",
       "    </tr>\n",
       "    <tr>\n",
       "      <th>2020-11-20</th>\n",
       "      <th>ES,DE,DK,IE,IT,LV</th>\n",
       "      <td>499155</td>\n",
       "      <td>67261</td>\n",
       "      <td>160620</td>\n",
       "      <td>15756</td>\n",
       "      <td>10.194212</td>\n",
       "      <td>0.031565</td>\n",
       "    </tr>\n",
       "    <tr>\n",
       "      <th>2020-11-19</th>\n",
       "      <th>ES,DE,DK,IE,IT,LV</th>\n",
       "      <td>503910</td>\n",
       "      <td>80440</td>\n",
       "      <td>163637</td>\n",
       "      <td>16029</td>\n",
       "      <td>10.208809</td>\n",
       "      <td>0.031809</td>\n",
       "    </tr>\n",
       "    <tr>\n",
       "      <th>2020-11-18</th>\n",
       "      <th>ES,DE,DK,IE,IT,LV</th>\n",
       "      <td>506965</td>\n",
       "      <td>93437</td>\n",
       "      <td>169751</td>\n",
       "      <td>16742</td>\n",
       "      <td>10.139231</td>\n",
       "      <td>0.033024</td>\n",
       "    </tr>\n",
       "  </tbody>\n",
       "</table>\n",
       "</div>"
      ],
      "text/plain": [
       "                                  covid_cases  shared_teks_by_generation_date  \\\n",
       "sample_date source_regions                                                      \n",
       "2020-11-22  ES,DE,DK,HR,IE,IT,LV       493158                           40522   \n",
       "2020-11-21  ES,DE,DK,HR,IE,IT,LV       496237                           53800   \n",
       "2020-11-20  ES,DE,DK,IE,IT,LV          499155                           67261   \n",
       "2020-11-19  ES,DE,DK,IE,IT,LV          503910                           80440   \n",
       "2020-11-18  ES,DE,DK,IE,IT,LV          506965                           93437   \n",
       "\n",
       "                                  shared_teks_by_upload_date  \\\n",
       "sample_date source_regions                                     \n",
       "2020-11-22  ES,DE,DK,HR,IE,IT,LV                      159708   \n",
       "2020-11-21  ES,DE,DK,HR,IE,IT,LV                      160427   \n",
       "2020-11-20  ES,DE,DK,IE,IT,LV                         160620   \n",
       "2020-11-19  ES,DE,DK,IE,IT,LV                         163637   \n",
       "2020-11-18  ES,DE,DK,IE,IT,LV                         169751   \n",
       "\n",
       "                                  shared_diagnoses  teks_per_shared_diagnosis  \\\n",
       "sample_date source_regions                                                      \n",
       "2020-11-22  ES,DE,DK,HR,IE,IT,LV             15663                  10.196514   \n",
       "2020-11-21  ES,DE,DK,HR,IE,IT,LV             15750                  10.185841   \n",
       "2020-11-20  ES,DE,DK,IE,IT,LV                15756                  10.194212   \n",
       "2020-11-19  ES,DE,DK,IE,IT,LV                16029                  10.208809   \n",
       "2020-11-18  ES,DE,DK,IE,IT,LV                16742                  10.139231   \n",
       "\n",
       "                                  shared_diagnoses_per_covid_case  \n",
       "sample_date source_regions                                         \n",
       "2020-11-22  ES,DE,DK,HR,IE,IT,LV                         0.031761  \n",
       "2020-11-21  ES,DE,DK,HR,IE,IT,LV                         0.031739  \n",
       "2020-11-20  ES,DE,DK,IE,IT,LV                            0.031565  \n",
       "2020-11-19  ES,DE,DK,IE,IT,LV                            0.031809  \n",
       "2020-11-18  ES,DE,DK,IE,IT,LV                            0.033024  "
      ]
     },
     "execution_count": 48,
     "metadata": {},
     "output_type": "execute_result"
    }
   ],
   "source": [
    "weekly_result_summary_df = result_summary_df \\\n",
    "    .sort_index(ascending=True).fillna(0).rolling(7).agg({\n",
    "    \"covid_cases\": \"sum\",\n",
    "    \"shared_teks_by_generation_date\": \"sum\",\n",
    "    \"shared_teks_by_upload_date\": \"sum\",\n",
    "    \"shared_diagnoses\": \"sum\"\n",
    "}).sort_index(ascending=False)\n",
    "\n",
    "with pd.option_context(\"mode.use_inf_as_na\", True):\n",
    "    weekly_result_summary_df = weekly_result_summary_df.fillna(0).astype(int)\n",
    "    weekly_result_summary_df[\"teks_per_shared_diagnosis\"] = \\\n",
    "        (weekly_result_summary_df.shared_teks_by_upload_date / weekly_result_summary_df.shared_diagnoses).fillna(0)\n",
    "    weekly_result_summary_df[\"shared_diagnoses_per_covid_case\"] = \\\n",
    "        (weekly_result_summary_df.shared_diagnoses / weekly_result_summary_df.covid_cases).fillna(0)\n",
    "\n",
    "weekly_result_summary_df.head()"
   ]
  },
  {
   "cell_type": "code",
   "execution_count": 49,
   "metadata": {
    "collapsed": false,
    "execution": {
     "iopub.execute_input": "2020-11-22T23:25:19.903506Z",
     "iopub.status.busy": "2020-11-22T23:25:19.902951Z",
     "iopub.status.idle": "2020-11-22T23:25:19.906337Z",
     "shell.execute_reply": "2020-11-22T23:25:19.905909Z"
    },
    "papermill": {
     "duration": 0.073469,
     "end_time": "2020-11-22T23:25:19.906452",
     "exception": false,
     "start_time": "2020-11-22T23:25:19.832983",
     "status": "completed"
    },
    "pycharm": {
     "name": "#%%\n"
    },
    "tags": []
   },
   "outputs": [
    {
     "data": {
      "text/plain": [
       "{'covid_cases': 496237,\n",
       " 'shared_teks_by_generation_date': 53800,\n",
       " 'shared_teks_by_upload_date': 160427,\n",
       " 'shared_diagnoses': 15750,\n",
       " 'teks_per_shared_diagnosis': 10.18584126984127,\n",
       " 'shared_diagnoses_per_covid_case': 0.031738866710865975}"
      ]
     },
     "execution_count": 49,
     "metadata": {},
     "output_type": "execute_result"
    }
   ],
   "source": [
    "last_7_days_summary = weekly_result_summary_df.to_dict(orient=\"records\")[1]\n",
    "last_7_days_summary"
   ]
  },
  {
   "cell_type": "markdown",
   "metadata": {
    "collapsed": false,
    "papermill": {
     "duration": 0.06218,
     "end_time": "2020-11-22T23:25:20.032088",
     "exception": false,
     "start_time": "2020-11-22T23:25:19.969908",
     "status": "completed"
    },
    "tags": []
   },
   "source": [
    "## Report Results"
   ]
  },
  {
   "cell_type": "code",
   "execution_count": 50,
   "metadata": {
    "collapsed": false,
    "execution": {
     "iopub.execute_input": "2020-11-22T23:25:20.174830Z",
     "iopub.status.busy": "2020-11-22T23:25:20.174177Z",
     "iopub.status.idle": "2020-11-22T23:25:20.176854Z",
     "shell.execute_reply": "2020-11-22T23:25:20.176227Z"
    },
    "papermill": {
     "duration": 0.076785,
     "end_time": "2020-11-22T23:25:20.177023",
     "exception": false,
     "start_time": "2020-11-22T23:25:20.100238",
     "status": "completed"
    },
    "pycharm": {
     "name": "#%%\n"
    },
    "tags": []
   },
   "outputs": [],
   "source": [
    "display_column_name_mapping = {\n",
    "    \"sample_date\": \"Sample\\u00A0Date\\u00A0(UTC)\",\n",
    "    \"source_regions\": \"Source Countries\",\n",
    "    \"datetime_utc\": \"Timestamp (UTC)\",\n",
    "    \"upload_date\": \"Upload Date (UTC)\",\n",
    "    \"generation_to_upload_days\": \"Generation to Upload Period in Days\",\n",
    "    \"region\": \"Backend\",\n",
    "    \"region_x\": \"Backend\\u00A0(A)\",\n",
    "    \"region_y\": \"Backend\\u00A0(B)\",\n",
    "    \"common_teks\": \"Common TEKs Shared Between Backends\",\n",
    "    \"common_teks_fraction\": \"Fraction of TEKs in Backend (A) Available in Backend (B)\",\n",
    "    \"covid_cases\": \"COVID-19 Cases in Source Countries (7-day Rolling Average)\",\n",
    "    \"shared_teks_by_generation_date\": \"Shared TEKs by Generation Date\",\n",
    "    \"shared_teks_by_upload_date\": \"Shared TEKs by Upload Date\",\n",
    "    \"shared_diagnoses\": \"Shared Diagnoses (Estimation)\",\n",
    "    \"teks_per_shared_diagnosis\": \"TEKs Uploaded per Shared Diagnosis\",\n",
    "    \"shared_diagnoses_per_covid_case\": \"Usage Ratio (Fraction of Cases in Source Countries Which Shared Diagnosis)\",\n",
    "    \"shared_teks_uploaded_on_generation_date\": \"Shared TEKs Uploaded on Generation Date\",\n",
    "}"
   ]
  },
  {
   "cell_type": "code",
   "execution_count": 51,
   "metadata": {
    "collapsed": false,
    "execution": {
     "iopub.execute_input": "2020-11-22T23:25:20.314111Z",
     "iopub.status.busy": "2020-11-22T23:25:20.313502Z",
     "iopub.status.idle": "2020-11-22T23:25:20.316047Z",
     "shell.execute_reply": "2020-11-22T23:25:20.315470Z"
    },
    "papermill": {
     "duration": 0.071219,
     "end_time": "2020-11-22T23:25:20.316198",
     "exception": false,
     "start_time": "2020-11-22T23:25:20.244979",
     "status": "completed"
    },
    "pycharm": {
     "name": "#%%\n"
    },
    "tags": []
   },
   "outputs": [],
   "source": [
    "summary_columns = [\n",
    "    \"covid_cases\",\n",
    "    \"shared_teks_by_generation_date\",\n",
    "    \"shared_teks_by_upload_date\",\n",
    "    \"shared_teks_uploaded_on_generation_date\",\n",
    "    \"shared_diagnoses\",\n",
    "    \"teks_per_shared_diagnosis\",\n",
    "    \"shared_diagnoses_per_covid_case\",\n",
    "]"
   ]
  },
  {
   "cell_type": "markdown",
   "metadata": {
    "collapsed": false,
    "papermill": {
     "duration": 0.061872,
     "end_time": "2020-11-22T23:25:20.445604",
     "exception": false,
     "start_time": "2020-11-22T23:25:20.383732",
     "status": "completed"
    },
    "tags": []
   },
   "source": [
    "### Daily Summary Table"
   ]
  },
  {
   "cell_type": "code",
   "execution_count": 52,
   "metadata": {
    "collapsed": false,
    "execution": {
     "iopub.execute_input": "2020-11-22T23:25:20.588456Z",
     "iopub.status.busy": "2020-11-22T23:25:20.587851Z",
     "iopub.status.idle": "2020-11-22T23:25:20.611976Z",
     "shell.execute_reply": "2020-11-22T23:25:20.611479Z"
    },
    "papermill": {
     "duration": 0.097007,
     "end_time": "2020-11-22T23:25:20.612097",
     "exception": false,
     "start_time": "2020-11-22T23:25:20.515090",
     "status": "completed"
    },
    "pycharm": {
     "name": "#%%\n"
    },
    "tags": []
   },
   "outputs": [
    {
     "data": {
      "text/html": [
       "<div>\n",
       "<style scoped>\n",
       "    .dataframe tbody tr th:only-of-type {\n",
       "        vertical-align: middle;\n",
       "    }\n",
       "\n",
       "    .dataframe tbody tr th {\n",
       "        vertical-align: top;\n",
       "    }\n",
       "\n",
       "    .dataframe thead th {\n",
       "        text-align: right;\n",
       "    }\n",
       "</style>\n",
       "<table border=\"1\" class=\"dataframe\">\n",
       "  <thead>\n",
       "    <tr style=\"text-align: right;\">\n",
       "      <th></th>\n",
       "      <th></th>\n",
       "      <th>COVID-19 Cases in Source Countries (7-day Rolling Average)</th>\n",
       "      <th>Shared TEKs by Generation Date</th>\n",
       "      <th>Shared TEKs by Upload Date</th>\n",
       "      <th>Shared TEKs Uploaded on Generation Date</th>\n",
       "      <th>Shared Diagnoses (Estimation)</th>\n",
       "      <th>TEKs Uploaded per Shared Diagnosis</th>\n",
       "      <th>Usage Ratio (Fraction of Cases in Source Countries Which Shared Diagnosis)</th>\n",
       "    </tr>\n",
       "    <tr>\n",
       "      <th>Sample Date (UTC)</th>\n",
       "      <th>Source Countries</th>\n",
       "      <th></th>\n",
       "      <th></th>\n",
       "      <th></th>\n",
       "      <th></th>\n",
       "      <th></th>\n",
       "      <th></th>\n",
       "      <th></th>\n",
       "    </tr>\n",
       "  </thead>\n",
       "  <tbody>\n",
       "    <tr>\n",
       "      <th>2020-11-22</th>\n",
       "      <th>ES,DE,DK,HR,IE,IT,LV</th>\n",
       "      <td>70591</td>\n",
       "      <td>132</td>\n",
       "      <td>14568</td>\n",
       "      <td>132</td>\n",
       "      <td>1524</td>\n",
       "      <td>9.559055</td>\n",
       "      <td>0.021589</td>\n",
       "    </tr>\n",
       "    <tr>\n",
       "      <th>2020-11-21</th>\n",
       "      <th>ES,DE,DK,HR,IE,IT,LV</th>\n",
       "      <td>70966</td>\n",
       "      <td>1050</td>\n",
       "      <td>22605</td>\n",
       "      <td>153</td>\n",
       "      <td>2275</td>\n",
       "      <td>9.936264</td>\n",
       "      <td>0.032058</td>\n",
       "    </tr>\n",
       "    <tr>\n",
       "      <th>2020-11-20</th>\n",
       "      <th>ES,DE,DK,IE,IT,LV</th>\n",
       "      <td>68866</td>\n",
       "      <td>3159</td>\n",
       "      <td>26712</td>\n",
       "      <td>212</td>\n",
       "      <td>2617</td>\n",
       "      <td>10.207107</td>\n",
       "      <td>0.038001</td>\n",
       "    </tr>\n",
       "    <tr>\n",
       "      <th>2020-11-19</th>\n",
       "      <th>ES,DE,DK,IE,IT,LV</th>\n",
       "      <td>69974</td>\n",
       "      <td>5556</td>\n",
       "      <td>25678</td>\n",
       "      <td>211</td>\n",
       "      <td>2492</td>\n",
       "      <td>10.304173</td>\n",
       "      <td>0.035613</td>\n",
       "    </tr>\n",
       "    <tr>\n",
       "      <th>2020-11-18</th>\n",
       "      <th>ES,DE,DK,IE,IT,LV</th>\n",
       "      <td>70110</td>\n",
       "      <td>7934</td>\n",
       "      <td>29832</td>\n",
       "      <td>290</td>\n",
       "      <td>2915</td>\n",
       "      <td>10.233962</td>\n",
       "      <td>0.041578</td>\n",
       "    </tr>\n",
       "    <tr>\n",
       "      <th>...</th>\n",
       "      <th>...</th>\n",
       "      <td>...</td>\n",
       "      <td>...</td>\n",
       "      <td>...</td>\n",
       "      <td>...</td>\n",
       "      <td>...</td>\n",
       "      <td>...</td>\n",
       "      <td>...</td>\n",
       "    </tr>\n",
       "    <tr>\n",
       "      <th>2020-09-04</th>\n",
       "      <th>ES</th>\n",
       "      <td>8529</td>\n",
       "      <td>52</td>\n",
       "      <td>58</td>\n",
       "      <td>0</td>\n",
       "      <td>20</td>\n",
       "      <td>2.900000</td>\n",
       "      <td>0.002345</td>\n",
       "    </tr>\n",
       "    <tr>\n",
       "      <th>2020-09-03</th>\n",
       "      <th>ES</th>\n",
       "      <td>8429</td>\n",
       "      <td>51</td>\n",
       "      <td>49</td>\n",
       "      <td>0</td>\n",
       "      <td>19</td>\n",
       "      <td>2.578947</td>\n",
       "      <td>0.002254</td>\n",
       "    </tr>\n",
       "    <tr>\n",
       "      <th>2020-09-02</th>\n",
       "      <th>ES</th>\n",
       "      <td>8529</td>\n",
       "      <td>52</td>\n",
       "      <td>57</td>\n",
       "      <td>0</td>\n",
       "      <td>14</td>\n",
       "      <td>4.071429</td>\n",
       "      <td>0.001641</td>\n",
       "    </tr>\n",
       "    <tr>\n",
       "      <th>2020-09-01</th>\n",
       "      <th>ES</th>\n",
       "      <td>8346</td>\n",
       "      <td>46</td>\n",
       "      <td>39</td>\n",
       "      <td>0</td>\n",
       "      <td>14</td>\n",
       "      <td>2.785714</td>\n",
       "      <td>0.001677</td>\n",
       "    </tr>\n",
       "    <tr>\n",
       "      <th>2020-08-31</th>\n",
       "      <th>ES</th>\n",
       "      <td>8203</td>\n",
       "      <td>47</td>\n",
       "      <td>63</td>\n",
       "      <td>0</td>\n",
       "      <td>25</td>\n",
       "      <td>2.520000</td>\n",
       "      <td>0.003048</td>\n",
       "    </tr>\n",
       "  </tbody>\n",
       "</table>\n",
       "<p>84 rows × 7 columns</p>\n",
       "</div>"
      ],
      "text/plain": [
       "                                        COVID-19 Cases in Source Countries (7-day Rolling Average)  \\\n",
       "Sample Date (UTC) Source Countries                                                                   \n",
       "2020-11-22        ES,DE,DK,HR,IE,IT,LV                                              70591            \n",
       "2020-11-21        ES,DE,DK,HR,IE,IT,LV                                              70966            \n",
       "2020-11-20        ES,DE,DK,IE,IT,LV                                                 68866            \n",
       "2020-11-19        ES,DE,DK,IE,IT,LV                                                 69974            \n",
       "2020-11-18        ES,DE,DK,IE,IT,LV                                                 70110            \n",
       "...                                                                                   ...            \n",
       "2020-09-04        ES                                                                 8529            \n",
       "2020-09-03        ES                                                                 8429            \n",
       "2020-09-02        ES                                                                 8529            \n",
       "2020-09-01        ES                                                                 8346            \n",
       "2020-08-31        ES                                                                 8203            \n",
       "\n",
       "                                        Shared TEKs by Generation Date  \\\n",
       "Sample Date (UTC) Source Countries                                       \n",
       "2020-11-22        ES,DE,DK,HR,IE,IT,LV                             132   \n",
       "2020-11-21        ES,DE,DK,HR,IE,IT,LV                            1050   \n",
       "2020-11-20        ES,DE,DK,IE,IT,LV                               3159   \n",
       "2020-11-19        ES,DE,DK,IE,IT,LV                               5556   \n",
       "2020-11-18        ES,DE,DK,IE,IT,LV                               7934   \n",
       "...                                                                ...   \n",
       "2020-09-04        ES                                                52   \n",
       "2020-09-03        ES                                                51   \n",
       "2020-09-02        ES                                                52   \n",
       "2020-09-01        ES                                                46   \n",
       "2020-08-31        ES                                                47   \n",
       "\n",
       "                                        Shared TEKs by Upload Date  \\\n",
       "Sample Date (UTC) Source Countries                                   \n",
       "2020-11-22        ES,DE,DK,HR,IE,IT,LV                       14568   \n",
       "2020-11-21        ES,DE,DK,HR,IE,IT,LV                       22605   \n",
       "2020-11-20        ES,DE,DK,IE,IT,LV                          26712   \n",
       "2020-11-19        ES,DE,DK,IE,IT,LV                          25678   \n",
       "2020-11-18        ES,DE,DK,IE,IT,LV                          29832   \n",
       "...                                                            ...   \n",
       "2020-09-04        ES                                            58   \n",
       "2020-09-03        ES                                            49   \n",
       "2020-09-02        ES                                            57   \n",
       "2020-09-01        ES                                            39   \n",
       "2020-08-31        ES                                            63   \n",
       "\n",
       "                                        Shared TEKs Uploaded on Generation Date  \\\n",
       "Sample Date (UTC) Source Countries                                                \n",
       "2020-11-22        ES,DE,DK,HR,IE,IT,LV                                      132   \n",
       "2020-11-21        ES,DE,DK,HR,IE,IT,LV                                      153   \n",
       "2020-11-20        ES,DE,DK,IE,IT,LV                                         212   \n",
       "2020-11-19        ES,DE,DK,IE,IT,LV                                         211   \n",
       "2020-11-18        ES,DE,DK,IE,IT,LV                                         290   \n",
       "...                                                                         ...   \n",
       "2020-09-04        ES                                                          0   \n",
       "2020-09-03        ES                                                          0   \n",
       "2020-09-02        ES                                                          0   \n",
       "2020-09-01        ES                                                          0   \n",
       "2020-08-31        ES                                                          0   \n",
       "\n",
       "                                        Shared Diagnoses (Estimation)  \\\n",
       "Sample Date (UTC) Source Countries                                      \n",
       "2020-11-22        ES,DE,DK,HR,IE,IT,LV                           1524   \n",
       "2020-11-21        ES,DE,DK,HR,IE,IT,LV                           2275   \n",
       "2020-11-20        ES,DE,DK,IE,IT,LV                              2617   \n",
       "2020-11-19        ES,DE,DK,IE,IT,LV                              2492   \n",
       "2020-11-18        ES,DE,DK,IE,IT,LV                              2915   \n",
       "...                                                               ...   \n",
       "2020-09-04        ES                                               20   \n",
       "2020-09-03        ES                                               19   \n",
       "2020-09-02        ES                                               14   \n",
       "2020-09-01        ES                                               14   \n",
       "2020-08-31        ES                                               25   \n",
       "\n",
       "                                        TEKs Uploaded per Shared Diagnosis  \\\n",
       "Sample Date (UTC) Source Countries                                           \n",
       "2020-11-22        ES,DE,DK,HR,IE,IT,LV                            9.559055   \n",
       "2020-11-21        ES,DE,DK,HR,IE,IT,LV                            9.936264   \n",
       "2020-11-20        ES,DE,DK,IE,IT,LV                              10.207107   \n",
       "2020-11-19        ES,DE,DK,IE,IT,LV                              10.304173   \n",
       "2020-11-18        ES,DE,DK,IE,IT,LV                              10.233962   \n",
       "...                                                                    ...   \n",
       "2020-09-04        ES                                              2.900000   \n",
       "2020-09-03        ES                                              2.578947   \n",
       "2020-09-02        ES                                              4.071429   \n",
       "2020-09-01        ES                                              2.785714   \n",
       "2020-08-31        ES                                              2.520000   \n",
       "\n",
       "                                        Usage Ratio (Fraction of Cases in Source Countries Which Shared Diagnosis)  \n",
       "Sample Date (UTC) Source Countries                                                                                  \n",
       "2020-11-22        ES,DE,DK,HR,IE,IT,LV                                           0.021589                           \n",
       "2020-11-21        ES,DE,DK,HR,IE,IT,LV                                           0.032058                           \n",
       "2020-11-20        ES,DE,DK,IE,IT,LV                                              0.038001                           \n",
       "2020-11-19        ES,DE,DK,IE,IT,LV                                              0.035613                           \n",
       "2020-11-18        ES,DE,DK,IE,IT,LV                                              0.041578                           \n",
       "...                                                                                   ...                           \n",
       "2020-09-04        ES                                                             0.002345                           \n",
       "2020-09-03        ES                                                             0.002254                           \n",
       "2020-09-02        ES                                                             0.001641                           \n",
       "2020-09-01        ES                                                             0.001677                           \n",
       "2020-08-31        ES                                                             0.003048                           \n",
       "\n",
       "[84 rows x 7 columns]"
      ]
     },
     "execution_count": 52,
     "metadata": {},
     "output_type": "execute_result"
    }
   ],
   "source": [
    "result_summary_df_ = result_summary_df.copy()\n",
    "result_summary_df = result_summary_df[summary_columns]\n",
    "result_summary_with_display_names_df = result_summary_df \\\n",
    "    .rename_axis(index=display_column_name_mapping) \\\n",
    "    .rename(columns=display_column_name_mapping)\n",
    "result_summary_with_display_names_df"
   ]
  },
  {
   "cell_type": "markdown",
   "metadata": {
    "collapsed": false,
    "papermill": {
     "duration": 0.068526,
     "end_time": "2020-11-22T23:25:20.744372",
     "exception": false,
     "start_time": "2020-11-22T23:25:20.675846",
     "status": "completed"
    },
    "tags": []
   },
   "source": [
    "### Daily Summary Plots"
   ]
  },
  {
   "cell_type": "code",
   "execution_count": 53,
   "metadata": {
    "collapsed": false,
    "execution": {
     "iopub.execute_input": "2020-11-22T23:25:20.904377Z",
     "iopub.status.busy": "2020-11-22T23:25:20.903673Z",
     "iopub.status.idle": "2020-11-22T23:25:23.151124Z",
     "shell.execute_reply": "2020-11-22T23:25:23.151554Z"
    },
    "papermill": {
     "duration": 2.342713,
     "end_time": "2020-11-22T23:25:23.151689",
     "exception": false,
     "start_time": "2020-11-22T23:25:20.808976",
     "status": "completed"
    },
    "pycharm": {
     "name": "#%%\n"
    },
    "tags": []
   },
   "outputs": [
    {
     "data": {
      "image/png": "[encoded data removed]",
      "text/plain": [
       "<Figure size 1080x1584 with 7 Axes>"
      ]
     },
     "metadata": {},
     "output_type": "display_data"
    }
   ],
   "source": [
    "result_plot_summary_df = result_summary_df.head(daily_plot_days)[summary_columns] \\\n",
    "    .droplevel(level=[\"source_regions\"]) \\\n",
    "    .rename_axis(index=display_column_name_mapping) \\\n",
    "    .rename(columns=display_column_name_mapping)\n",
    "summary_ax_list = result_plot_summary_df.sort_index(ascending=True).plot.bar(\n",
    "    title=f\"Daily Summary\",\n",
    "    rot=45, subplots=True, figsize=(15, 22), legend=False)\n",
    "ax_ = summary_ax_list[-1]\n",
    "ax_.get_figure().tight_layout()\n",
    "ax_.get_figure().subplots_adjust(top=0.95)\n",
    "ax_.yaxis.set_major_formatter(matplotlib.ticker.PercentFormatter(1.0))\n",
    "_ = ax_.set_xticklabels(sorted(result_plot_summary_df.index.strftime(\"%Y-%m-%d\").tolist()))"
   ]
  },
  {
   "cell_type": "markdown",
   "metadata": {
    "execution": {
     "iopub.execute_input": "2020-09-02T08:20:14.568088Z",
     "iopub.status.busy": "2020-09-02T08:20:14.567425Z",
     "iopub.status.idle": "2020-09-02T08:20:14.571422Z",
     "shell.execute_reply": "2020-09-02T08:20:14.571952Z"
    },
    "papermill": {
     "duration": 0.0728,
     "end_time": "2020-11-22T23:25:23.292395",
     "exception": false,
     "start_time": "2020-11-22T23:25:23.219595",
     "status": "completed"
    },
    "pycharm": {
     "name": "#%% md\n"
    },
    "tags": []
   },
   "source": [
    "### Daily Generation to Upload Period Table"
   ]
  },
  {
   "cell_type": "code",
   "execution_count": 54,
   "metadata": {
    "execution": {
     "iopub.execute_input": "2020-11-22T23:25:23.448279Z",
     "iopub.status.busy": "2020-11-22T23:25:23.447593Z",
     "iopub.status.idle": "2020-11-22T23:25:23.450610Z",
     "shell.execute_reply": "2020-11-22T23:25:23.451065Z"
    },
    "papermill": {
     "duration": 0.091109,
     "end_time": "2020-11-22T23:25:23.451223",
     "exception": false,
     "start_time": "2020-11-22T23:25:23.360114",
     "status": "completed"
    },
    "pycharm": {
     "name": "#%%\n"
    },
    "tags": []
   },
   "outputs": [
    {
     "data": {
      "text/html": [
       "<div>\n",
       "<style scoped>\n",
       "    .dataframe tbody tr th:only-of-type {\n",
       "        vertical-align: middle;\n",
       "    }\n",
       "\n",
       "    .dataframe tbody tr th {\n",
       "        vertical-align: top;\n",
       "    }\n",
       "\n",
       "    .dataframe thead th {\n",
       "        text-align: right;\n",
       "    }\n",
       "</style>\n",
       "<table border=\"1\" class=\"dataframe\">\n",
       "  <thead>\n",
       "    <tr style=\"text-align: right;\">\n",
       "      <th>Generation to Upload Period in Days</th>\n",
       "      <th>0</th>\n",
       "      <th>1</th>\n",
       "      <th>2</th>\n",
       "      <th>3</th>\n",
       "      <th>4</th>\n",
       "      <th>5</th>\n",
       "      <th>6</th>\n",
       "      <th>7</th>\n",
       "      <th>8</th>\n",
       "      <th>9</th>\n",
       "      <th>10</th>\n",
       "      <th>11</th>\n",
       "      <th>12</th>\n",
       "      <th>13</th>\n",
       "    </tr>\n",
       "    <tr>\n",
       "      <th>Upload Date (UTC)</th>\n",
       "      <th></th>\n",
       "      <th></th>\n",
       "      <th></th>\n",
       "      <th></th>\n",
       "      <th></th>\n",
       "      <th></th>\n",
       "      <th></th>\n",
       "      <th></th>\n",
       "      <th></th>\n",
       "      <th></th>\n",
       "      <th></th>\n",
       "      <th></th>\n",
       "      <th></th>\n",
       "      <th></th>\n",
       "    </tr>\n",
       "  </thead>\n",
       "  <tbody>\n",
       "    <tr>\n",
       "      <th>2020-11-22</th>\n",
       "      <td>132</td>\n",
       "      <td>897</td>\n",
       "      <td>1524</td>\n",
       "      <td>1359</td>\n",
       "      <td>1256</td>\n",
       "      <td>1189</td>\n",
       "      <td>1133</td>\n",
       "      <td>1091</td>\n",
       "      <td>1055</td>\n",
       "      <td>1038</td>\n",
       "      <td>1008</td>\n",
       "      <td>982</td>\n",
       "      <td>962</td>\n",
       "      <td>942</td>\n",
       "    </tr>\n",
       "    <tr>\n",
       "      <th>2020-11-21</th>\n",
       "      <td>153</td>\n",
       "      <td>1423</td>\n",
       "      <td>2275</td>\n",
       "      <td>2012</td>\n",
       "      <td>1903</td>\n",
       "      <td>1834</td>\n",
       "      <td>1749</td>\n",
       "      <td>1707</td>\n",
       "      <td>1676</td>\n",
       "      <td>1655</td>\n",
       "      <td>1607</td>\n",
       "      <td>1562</td>\n",
       "      <td>1539</td>\n",
       "      <td>1510</td>\n",
       "    </tr>\n",
       "    <tr>\n",
       "      <th>2020-11-20</th>\n",
       "      <td>212</td>\n",
       "      <td>1711</td>\n",
       "      <td>2617</td>\n",
       "      <td>2383</td>\n",
       "      <td>2249</td>\n",
       "      <td>2174</td>\n",
       "      <td>2111</td>\n",
       "      <td>2045</td>\n",
       "      <td>1979</td>\n",
       "      <td>1930</td>\n",
       "      <td>1878</td>\n",
       "      <td>1844</td>\n",
       "      <td>1799</td>\n",
       "      <td>1780</td>\n",
       "    </tr>\n",
       "    <tr>\n",
       "      <th>2020-11-19</th>\n",
       "      <td>211</td>\n",
       "      <td>1759</td>\n",
       "      <td>2492</td>\n",
       "      <td>2260</td>\n",
       "      <td>2112</td>\n",
       "      <td>2064</td>\n",
       "      <td>2010</td>\n",
       "      <td>1954</td>\n",
       "      <td>1893</td>\n",
       "      <td>1850</td>\n",
       "      <td>1818</td>\n",
       "      <td>1778</td>\n",
       "      <td>1756</td>\n",
       "      <td>1721</td>\n",
       "    </tr>\n",
       "    <tr>\n",
       "      <th>2020-11-18</th>\n",
       "      <td>290</td>\n",
       "      <td>2190</td>\n",
       "      <td>2915</td>\n",
       "      <td>2586</td>\n",
       "      <td>2490</td>\n",
       "      <td>2415</td>\n",
       "      <td>2323</td>\n",
       "      <td>2250</td>\n",
       "      <td>2177</td>\n",
       "      <td>2117</td>\n",
       "      <td>2071</td>\n",
       "      <td>2033</td>\n",
       "      <td>2006</td>\n",
       "      <td>1969</td>\n",
       "    </tr>\n",
       "    <tr>\n",
       "      <th>2020-11-17</th>\n",
       "      <td>222</td>\n",
       "      <td>1727</td>\n",
       "      <td>2099</td>\n",
       "      <td>2040</td>\n",
       "      <td>1955</td>\n",
       "      <td>1845</td>\n",
       "      <td>1759</td>\n",
       "      <td>1694</td>\n",
       "      <td>1645</td>\n",
       "      <td>1599</td>\n",
       "      <td>1578</td>\n",
       "      <td>1549</td>\n",
       "      <td>1529</td>\n",
       "      <td>1493</td>\n",
       "    </tr>\n",
       "    <tr>\n",
       "      <th>2020-11-16</th>\n",
       "      <td>194</td>\n",
       "      <td>1375</td>\n",
       "      <td>1741</td>\n",
       "      <td>1666</td>\n",
       "      <td>1545</td>\n",
       "      <td>1422</td>\n",
       "      <td>1336</td>\n",
       "      <td>1284</td>\n",
       "      <td>1236</td>\n",
       "      <td>1210</td>\n",
       "      <td>1189</td>\n",
       "      <td>1156</td>\n",
       "      <td>1129</td>\n",
       "      <td>1096</td>\n",
       "    </tr>\n",
       "    <tr>\n",
       "      <th>2020-11-15</th>\n",
       "      <td>224</td>\n",
       "      <td>1092</td>\n",
       "      <td>1611</td>\n",
       "      <td>1468</td>\n",
       "      <td>1368</td>\n",
       "      <td>1256</td>\n",
       "      <td>1181</td>\n",
       "      <td>1114</td>\n",
       "      <td>1080</td>\n",
       "      <td>1038</td>\n",
       "      <td>1001</td>\n",
       "      <td>974</td>\n",
       "      <td>950</td>\n",
       "      <td>930</td>\n",
       "    </tr>\n",
       "    <tr>\n",
       "      <th>2020-11-14</th>\n",
       "      <td>211</td>\n",
       "      <td>1616</td>\n",
       "      <td>2281</td>\n",
       "      <td>2074</td>\n",
       "      <td>1947</td>\n",
       "      <td>1842</td>\n",
       "      <td>1765</td>\n",
       "      <td>1710</td>\n",
       "      <td>1655</td>\n",
       "      <td>1613</td>\n",
       "      <td>1573</td>\n",
       "      <td>1534</td>\n",
       "      <td>1502</td>\n",
       "      <td>1475</td>\n",
       "    </tr>\n",
       "    <tr>\n",
       "      <th>2020-11-13</th>\n",
       "      <td>306</td>\n",
       "      <td>2178</td>\n",
       "      <td>2890</td>\n",
       "      <td>2669</td>\n",
       "      <td>2521</td>\n",
       "      <td>2378</td>\n",
       "      <td>2281</td>\n",
       "      <td>2224</td>\n",
       "      <td>2163</td>\n",
       "      <td>2110</td>\n",
       "      <td>2066</td>\n",
       "      <td>2025</td>\n",
       "      <td>1970</td>\n",
       "      <td>1948</td>\n",
       "    </tr>\n",
       "    <tr>\n",
       "      <th>2020-11-12</th>\n",
       "      <td>317</td>\n",
       "      <td>2184</td>\n",
       "      <td>3205</td>\n",
       "      <td>2915</td>\n",
       "      <td>2701</td>\n",
       "      <td>2606</td>\n",
       "      <td>2490</td>\n",
       "      <td>2410</td>\n",
       "      <td>2319</td>\n",
       "      <td>2236</td>\n",
       "      <td>2183</td>\n",
       "      <td>2113</td>\n",
       "      <td>2074</td>\n",
       "      <td>2039</td>\n",
       "    </tr>\n",
       "    <tr>\n",
       "      <th>2020-11-11</th>\n",
       "      <td>300</td>\n",
       "      <td>1884</td>\n",
       "      <td>3029</td>\n",
       "      <td>2726</td>\n",
       "      <td>2628</td>\n",
       "      <td>2523</td>\n",
       "      <td>2420</td>\n",
       "      <td>2318</td>\n",
       "      <td>2240</td>\n",
       "      <td>2172</td>\n",
       "      <td>2116</td>\n",
       "      <td>2072</td>\n",
       "      <td>2027</td>\n",
       "      <td>1990</td>\n",
       "    </tr>\n",
       "    <tr>\n",
       "      <th>2020-11-10</th>\n",
       "      <td>292</td>\n",
       "      <td>1466</td>\n",
       "      <td>2086</td>\n",
       "      <td>2003</td>\n",
       "      <td>1908</td>\n",
       "      <td>1781</td>\n",
       "      <td>1667</td>\n",
       "      <td>1569</td>\n",
       "      <td>1505</td>\n",
       "      <td>1455</td>\n",
       "      <td>1409</td>\n",
       "      <td>1374</td>\n",
       "      <td>1350</td>\n",
       "      <td>1298</td>\n",
       "    </tr>\n",
       "    <tr>\n",
       "      <th>2020-11-09</th>\n",
       "      <td>236</td>\n",
       "      <td>1126</td>\n",
       "      <td>1683</td>\n",
       "      <td>1602</td>\n",
       "      <td>1480</td>\n",
       "      <td>1384</td>\n",
       "      <td>1285</td>\n",
       "      <td>1215</td>\n",
       "      <td>1168</td>\n",
       "      <td>1127</td>\n",
       "      <td>1108</td>\n",
       "      <td>1059</td>\n",
       "      <td>1034</td>\n",
       "      <td>1010</td>\n",
       "    </tr>\n",
       "  </tbody>\n",
       "</table>\n",
       "</div>"
      ],
      "text/plain": [
       "Generation to Upload Period in Days   0     1     2     3     4     5     6   \\\n",
       "Upload Date (UTC)                                                              \n",
       "2020-11-22                           132   897  1524  1359  1256  1189  1133   \n",
       "2020-11-21                           153  1423  2275  2012  1903  1834  1749   \n",
       "2020-11-20                           212  1711  2617  2383  2249  2174  2111   \n",
       "2020-11-19                           211  1759  2492  2260  2112  2064  2010   \n",
       "2020-11-18                           290  2190  2915  2586  2490  2415  2323   \n",
       "2020-11-17                           222  1727  2099  2040  1955  1845  1759   \n",
       "2020-11-16                           194  1375  1741  1666  1545  1422  1336   \n",
       "2020-11-15                           224  1092  1611  1468  1368  1256  1181   \n",
       "2020-11-14                           211  1616  2281  2074  1947  1842  1765   \n",
       "2020-11-13                           306  2178  2890  2669  2521  2378  2281   \n",
       "2020-11-12                           317  2184  3205  2915  2701  2606  2490   \n",
       "2020-11-11                           300  1884  3029  2726  2628  2523  2420   \n",
       "2020-11-10                           292  1466  2086  2003  1908  1781  1667   \n",
       "2020-11-09                           236  1126  1683  1602  1480  1384  1285   \n",
       "\n",
       "Generation to Upload Period in Days    7     8     9     10    11    12    13  \n",
       "Upload Date (UTC)                                                              \n",
       "2020-11-22                           1091  1055  1038  1008   982   962   942  \n",
       "2020-11-21                           1707  1676  1655  1607  1562  1539  1510  \n",
       "2020-11-20                           2045  1979  1930  1878  1844  1799  1780  \n",
       "2020-11-19                           1954  1893  1850  1818  1778  1756  1721  \n",
       "2020-11-18                           2250  2177  2117  2071  2033  2006  1969  \n",
       "2020-11-17                           1694  1645  1599  1578  1549  1529  1493  \n",
       "2020-11-16                           1284  1236  1210  1189  1156  1129  1096  \n",
       "2020-11-15                           1114  1080  1038  1001   974   950   930  \n",
       "2020-11-14                           1710  1655  1613  1573  1534  1502  1475  \n",
       "2020-11-13                           2224  2163  2110  2066  2025  1970  1948  \n",
       "2020-11-12                           2410  2319  2236  2183  2113  2074  2039  \n",
       "2020-11-11                           2318  2240  2172  2116  2072  2027  1990  \n",
       "2020-11-10                           1569  1505  1455  1409  1374  1350  1298  \n",
       "2020-11-09                           1215  1168  1127  1108  1059  1034  1010  "
      ]
     },
     "execution_count": 54,
     "metadata": {},
     "output_type": "execute_result"
    }
   ],
   "source": [
    "display_generation_to_upload_period_pivot_df = \\\n",
    "    generation_to_upload_period_pivot_df \\\n",
    "        .head(backend_generation_days)\n",
    "display_generation_to_upload_period_pivot_df \\\n",
    "    .head(backend_generation_days) \\\n",
    "    .rename_axis(columns=display_column_name_mapping) \\\n",
    "    .rename_axis(index=display_column_name_mapping)"
   ]
  },
  {
   "cell_type": "code",
   "execution_count": 55,
   "metadata": {
    "collapsed": false,
    "execution": {
     "iopub.execute_input": "2020-11-22T23:25:23.597683Z",
     "iopub.status.busy": "2020-11-22T23:25:23.597100Z",
     "iopub.status.idle": "2020-11-22T23:25:24.770958Z",
     "shell.execute_reply": "2020-11-22T23:25:24.771608Z"
    },
    "papermill": {
     "duration": 1.255098,
     "end_time": "2020-11-22T23:25:24.771777",
     "exception": false,
     "start_time": "2020-11-22T23:25:23.516679",
     "status": "completed"
    },
    "pycharm": {
     "name": "#%%\n"
    },
    "tags": []
   },
   "outputs": [
    {
     "data": {
      "image/png": "[encoded data removed]",
      "text/plain": [
       "<Figure size 864x676.8 with 2 Axes>"
      ]
     },
     "metadata": {},
     "output_type": "display_data"
    }
   ],
   "source": [
    "fig, generation_to_upload_period_pivot_table_ax = plt.subplots(\n",
    "    figsize=(12, 1 + 0.6 * len(display_generation_to_upload_period_pivot_df)))\n",
    "generation_to_upload_period_pivot_table_ax.set_title(\n",
    "    \"Shared TEKs Generation to Upload Period Table\")\n",
    "sns.heatmap(\n",
    "    data=display_generation_to_upload_period_pivot_df\n",
    "        .rename_axis(columns=display_column_name_mapping)\n",
    "        .rename_axis(index=display_column_name_mapping),\n",
    "    fmt=\".0f\",\n",
    "    annot=True,\n",
    "    ax=generation_to_upload_period_pivot_table_ax)\n",
    "generation_to_upload_period_pivot_table_ax.get_figure().tight_layout()"
   ]
  },
  {
   "cell_type": "markdown",
   "metadata": {
    "collapsed": false,
    "papermill": {
     "duration": 0.070962,
     "end_time": "2020-11-22T23:25:24.905790",
     "exception": false,
     "start_time": "2020-11-22T23:25:24.834828",
     "status": "completed"
    },
    "tags": []
   },
   "source": [
    "### Hourly Summary Plots "
   ]
  },
  {
   "cell_type": "code",
   "execution_count": 56,
   "metadata": {
    "collapsed": false,
    "execution": {
     "iopub.execute_input": "2020-11-22T23:25:25.040116Z",
     "iopub.status.busy": "2020-11-22T23:25:25.039633Z",
     "iopub.status.idle": "2020-11-22T23:25:25.423775Z",
     "shell.execute_reply": "2020-11-22T23:25:25.424372Z"
    },
    "papermill": {
     "duration": 0.453564,
     "end_time": "2020-11-22T23:25:25.424519",
     "exception": false,
     "start_time": "2020-11-22T23:25:24.970955",
     "status": "completed"
    },
    "pycharm": {
     "name": "#%%\n"
    },
    "tags": []
   },
   "outputs": [
    {
     "data": {
      "image/png": "[encoded data removed]",
      "text/plain": [
       "<Figure size 1080x432 with 1 Axes>"
      ]
     },
     "metadata": {},
     "output_type": "display_data"
    }
   ],
   "source": [
    "hourly_summary_ax_list = hourly_summary_df \\\n",
    "    .rename_axis(index=display_column_name_mapping) \\\n",
    "    .rename(columns=display_column_name_mapping) \\\n",
    "    .plot.bar(\n",
    "        title=f\"Last 24h Summary\",\n",
    "        rot=45, subplots=True, legend=False)\n",
    "ax_ = hourly_summary_ax_list[-1]\n",
    "ax_.get_figure().tight_layout()\n",
    "ax_.get_figure().subplots_adjust(top=0.9)\n",
    "_ = ax_.set_xticklabels(sorted(hourly_summary_df.index.strftime(\"%Y-%m-%d@%H\").tolist()))"
   ]
  },
  {
   "cell_type": "markdown",
   "metadata": {
    "collapsed": false,
    "papermill": {
     "duration": 0.065209,
     "end_time": "2020-11-22T23:25:25.563544",
     "exception": false,
     "start_time": "2020-11-22T23:25:25.498335",
     "status": "completed"
    },
    "tags": []
   },
   "source": [
    "### Publish Results"
   ]
  },
  {
   "cell_type": "code",
   "execution_count": 57,
   "metadata": {
    "collapsed": false,
    "execution": {
     "iopub.execute_input": "2020-11-22T23:25:25.696670Z",
     "iopub.status.busy": "2020-11-22T23:25:25.696008Z",
     "iopub.status.idle": "2020-11-22T23:25:25.698248Z",
     "shell.execute_reply": "2020-11-22T23:25:25.698776Z"
    },
    "papermill": {
     "duration": 0.072576,
     "end_time": "2020-11-22T23:25:25.699066",
     "exception": false,
     "start_time": "2020-11-22T23:25:25.626490",
     "status": "completed"
    },
    "pycharm": {
     "name": "#%%\n"
    },
    "tags": []
   },
   "outputs": [],
   "source": [
    "def get_temporary_image_path() -> str:\n",
    "    return os.path.join(tempfile.gettempdir(), str(uuid.uuid4()) + \".png\")\n",
    "\n",
    "def save_temporary_plot_image(ax):\n",
    "    if isinstance(ax, np.ndarray):\n",
    "        ax = ax[0]\n",
    "    media_path = get_temporary_image_path()\n",
    "    ax.get_figure().savefig(media_path)\n",
    "    return media_path\n",
    "\n",
    "def save_temporary_dataframe_image(df):\n",
    "    import dataframe_image as dfi\n",
    "    media_path = get_temporary_image_path()\n",
    "    dfi.export(df, media_path)\n",
    "    return media_path"
   ]
  },
  {
   "cell_type": "code",
   "execution_count": 58,
   "metadata": {
    "collapsed": false,
    "execution": {
     "iopub.execute_input": "2020-11-22T23:25:25.872671Z",
     "iopub.status.busy": "2020-11-22T23:25:25.870356Z",
     "iopub.status.idle": "2020-11-22T23:25:25.874426Z",
     "shell.execute_reply": "2020-11-22T23:25:25.874914Z"
    },
    "papermill": {
     "duration": 0.107477,
     "end_time": "2020-11-22T23:25:25.875068",
     "exception": false,
     "start_time": "2020-11-22T23:25:25.767591",
     "status": "completed"
    },
    "pycharm": {
     "name": "#%%\n"
    },
    "tags": []
   },
   "outputs": [
    {
     "name": "stderr",
     "output_type": "stream",
     "text": [
      "<ipython-input-58-bd16b454de40>:49: FutureWarning: `item` has been deprecated and will be removed in a future version\n",
      "  extraction_date_result_summary_df.covid_cases.item()\n",
      "<ipython-input-58-bd16b454de40>:51: FutureWarning: `item` has been deprecated and will be removed in a future version\n",
      "  extraction_date_result_summary_df.shared_teks_by_generation_date.item()\n",
      "<ipython-input-58-bd16b454de40>:53: FutureWarning: `item` has been deprecated and will be removed in a future version\n",
      "  extraction_date_result_summary_df.shared_teks_by_upload_date.item()\n",
      "<ipython-input-58-bd16b454de40>:55: FutureWarning: `item` has been deprecated and will be removed in a future version\n",
      "  extraction_date_result_summary_df.shared_diagnoses.item()\n",
      "<ipython-input-58-bd16b454de40>:57: FutureWarning: `item` has been deprecated and will be removed in a future version\n",
      "  extraction_date_result_summary_df.teks_per_shared_diagnosis.item()\n",
      "<ipython-input-58-bd16b454de40>:59: FutureWarning: `item` has been deprecated and will be removed in a future version\n",
      "  extraction_date_result_summary_df.shared_diagnoses_per_covid_case.item()\n"
     ]
    }
   ],
   "source": [
    "github_repository = os.environ.get(\"GITHUB_REPOSITORY\")\n",
    "if github_repository is None:\n",
    "    github_repository = \"pvieito/Radar-STATS\"\n",
    "\n",
    "github_project_base_url = \"https://github.com/\" + github_repository\n",
    "\n",
    "display_formatters = {\n",
    "    display_column_name_mapping[\"teks_per_shared_diagnosis\"]: lambda x: f\"{x:.2f}\",\n",
    "    display_column_name_mapping[\"shared_diagnoses_per_covid_case\"]: lambda x: f\"{x:.2%}\",\n",
    "}\n",
    "daily_summary_table_html = result_summary_with_display_names_df \\\n",
    "    .head(daily_plot_days) \\\n",
    "    .rename_axis(index=display_column_name_mapping) \\\n",
    "    .rename(columns=display_column_name_mapping) \\\n",
    "    .to_html(formatters=display_formatters)\n",
    "multi_backend_summary_table_html = multi_backend_summary_df \\\n",
    "    .head(daily_plot_days) \\\n",
    "    .rename_axis(columns=display_column_name_mapping) \\\n",
    "    .rename(columns=display_column_name_mapping) \\\n",
    "    .rename_axis(index=display_column_name_mapping) \\\n",
    "    .to_html(formatters=display_formatters)\n",
    "\n",
    "def format_multi_backend_cross_sharing_fraction(x):\n",
    "    if pd.isna(x):\n",
    "        return \"-\"\n",
    "    elif round(x * 100, 1) == 0:\n",
    "        return \"\"\n",
    "    else:\n",
    "        return f\"{x:.1%}\"\n",
    "\n",
    "multi_backend_cross_sharing_summary_table_html = multi_backend_cross_sharing_summary_df \\\n",
    "    .rename_axis(columns=display_column_name_mapping) \\\n",
    "    .rename(columns=display_column_name_mapping) \\\n",
    "    .rename_axis(index=display_column_name_mapping) \\\n",
    "    .to_html(\n",
    "        classes=\"table-center\",\n",
    "        formatters=display_formatters,\n",
    "        float_format=format_multi_backend_cross_sharing_fraction)\n",
    "multi_backend_cross_sharing_summary_table_html = \\\n",
    "    multi_backend_cross_sharing_summary_table_html \\\n",
    "        .replace(\"<tr>\",\"<tr style=\\\"text-align: center;\\\">\")\n",
    "\n",
    "extraction_date_result_summary_df = \\\n",
    "    result_summary_df[result_summary_df.index.get_level_values(\"sample_date\") == extraction_date]\n",
    "extraction_date_result_hourly_summary_df = \\\n",
    "    hourly_summary_df[hourly_summary_df.extraction_date_with_hour == extraction_date_with_hour]\n",
    "\n",
    "covid_cases = \\\n",
    "    extraction_date_result_summary_df.covid_cases.item()\n",
    "shared_teks_by_generation_date = \\\n",
    "    extraction_date_result_summary_df.shared_teks_by_generation_date.item()\n",
    "shared_teks_by_upload_date = \\\n",
    "    extraction_date_result_summary_df.shared_teks_by_upload_date.item()\n",
    "shared_diagnoses = \\\n",
    "    extraction_date_result_summary_df.shared_diagnoses.item()\n",
    "teks_per_shared_diagnosis = \\\n",
    "    extraction_date_result_summary_df.teks_per_shared_diagnosis.item()\n",
    "shared_diagnoses_per_covid_case = \\\n",
    "    extraction_date_result_summary_df.shared_diagnoses_per_covid_case.item()\n",
    "\n",
    "shared_teks_by_upload_date_last_hour = \\\n",
    "    extraction_date_result_hourly_summary_df.shared_teks_by_upload_date.sum().astype(int)\n",
    "\n",
    "display_source_regions = \", \".join(report_source_regions)\n",
    "if len(report_source_regions) == 1:\n",
    "    display_brief_source_regions = report_source_regions[0]\n",
    "else:\n",
    "    display_brief_source_regions = f\"{len(report_source_regions)} 🇪🇺\""
   ]
  },
  {
   "cell_type": "code",
   "execution_count": 59,
   "metadata": {
    "execution": {
     "iopub.execute_input": "2020-11-22T23:25:26.005696Z",
     "iopub.status.busy": "2020-11-22T23:25:26.005124Z",
     "iopub.status.idle": "2020-11-22T23:25:33.410302Z",
     "shell.execute_reply": "2020-11-22T23:25:33.411172Z"
    },
    "papermill": {
     "duration": 7.473912,
     "end_time": "2020-11-22T23:25:33.411332",
     "exception": false,
     "start_time": "2020-11-22T23:25:25.937420",
     "status": "completed"
    },
    "pycharm": {
     "name": "#%%\n"
    },
    "tags": []
   },
   "outputs": [],
   "source": [
    "summary_plots_image_path = save_temporary_plot_image(\n",
    "    ax=summary_ax_list)\n",
    "summary_table_image_path = save_temporary_dataframe_image(\n",
    "    df=result_summary_with_display_names_df)\n",
    "hourly_summary_plots_image_path = save_temporary_plot_image(\n",
    "    ax=hourly_summary_ax_list)\n",
    "multi_backend_summary_table_image_path = save_temporary_dataframe_image(\n",
    "    df=multi_backend_summary_df)\n",
    "generation_to_upload_period_pivot_table_image_path = save_temporary_plot_image(\n",
    "    ax=generation_to_upload_period_pivot_table_ax)"
   ]
  },
  {
   "cell_type": "markdown",
   "metadata": {
    "execution": {
     "iopub.execute_input": "2020-09-02T08:20:16.981187Z",
     "iopub.status.busy": "2020-09-02T08:20:16.980584Z",
     "iopub.status.idle": "2020-09-02T08:20:20.068070Z",
     "shell.execute_reply": "2020-09-02T08:20:20.068598Z"
    },
    "papermill": {
     "duration": 0.069976,
     "end_time": "2020-11-22T23:25:33.559853",
     "exception": false,
     "start_time": "2020-11-22T23:25:33.489877",
     "status": "completed"
    },
    "pycharm": {
     "name": "#%% md\n"
    },
    "tags": []
   },
   "source": [
    "### Save Results"
   ]
  },
  {
   "cell_type": "code",
   "execution_count": 60,
   "metadata": {
    "collapsed": false,
    "execution": {
     "iopub.execute_input": "2020-11-22T23:25:33.709848Z",
     "iopub.status.busy": "2020-11-22T23:25:33.709311Z",
     "iopub.status.idle": "2020-11-22T23:25:33.742847Z",
     "shell.execute_reply": "2020-11-22T23:25:33.742055Z"
    },
    "papermill": {
     "duration": 0.108634,
     "end_time": "2020-11-22T23:25:33.743049",
     "exception": false,
     "start_time": "2020-11-22T23:25:33.634415",
     "status": "completed"
    },
    "pycharm": {
     "name": "#%%\n"
    },
    "tags": []
   },
   "outputs": [],
   "source": [
    "report_resources_path_prefix = \"Data/Resources/Current/RadarCOVID-Report-\"\n",
    "result_summary_df.to_csv(\n",
    "    report_resources_path_prefix + \"Summary-Table.csv\")\n",
    "result_summary_df.to_html(\n",
    "    report_resources_path_prefix + \"Summary-Table.html\")\n",
    "hourly_summary_df.to_csv(\n",
    "    report_resources_path_prefix + \"Hourly-Summary-Table.csv\")\n",
    "multi_backend_summary_df.to_csv(\n",
    "    report_resources_path_prefix + \"Multi-Backend-Summary-Table.csv\")\n",
    "multi_backend_cross_sharing_summary_df.to_csv(\n",
    "    report_resources_path_prefix + \"Multi-Backend-Cross-Sharing-Summary-Table.csv\")\n",
    "generation_to_upload_period_pivot_df.to_csv(\n",
    "    report_resources_path_prefix + \"Generation-Upload-Period-Table.csv\")\n",
    "_ = shutil.copyfile(\n",
    "    summary_plots_image_path,\n",
    "    report_resources_path_prefix + \"Summary-Plots.png\")\n",
    "_ = shutil.copyfile(\n",
    "    summary_table_image_path,\n",
    "    report_resources_path_prefix + \"Summary-Table.png\")\n",
    "_ = shutil.copyfile(\n",
    "    hourly_summary_plots_image_path,\n",
    "    report_resources_path_prefix + \"Hourly-Summary-Plots.png\")\n",
    "_ = shutil.copyfile(\n",
    "    multi_backend_summary_table_image_path,\n",
    "    report_resources_path_prefix + \"Multi-Backend-Summary-Table.png\")\n",
    "_ = shutil.copyfile(\n",
    "    generation_to_upload_period_pivot_table_image_path,\n",
    "    report_resources_path_prefix + \"Generation-Upload-Period-Table.png\")"
   ]
  },
  {
   "cell_type": "markdown",
   "metadata": {
    "collapsed": false,
    "papermill": {
     "duration": 0.076309,
     "end_time": "2020-11-22T23:25:33.896100",
     "exception": false,
     "start_time": "2020-11-22T23:25:33.819791",
     "status": "completed"
    },
    "pycharm": {
     "name": "#%% md\n"
    },
    "tags": []
   },
   "source": [
    "### Publish Results as JSON"
   ]
  },
  {
   "cell_type": "code",
   "execution_count": 61,
   "metadata": {
    "execution": {
     "iopub.execute_input": "2020-11-22T23:25:34.059399Z",
     "iopub.status.busy": "2020-11-22T23:25:34.047243Z",
     "iopub.status.idle": "2020-11-22T23:25:34.064191Z",
     "shell.execute_reply": "2020-11-22T23:25:34.064774Z"
    },
    "papermill": {
     "duration": 0.093675,
     "end_time": "2020-11-22T23:25:34.064992",
     "exception": false,
     "start_time": "2020-11-22T23:25:33.971317",
     "status": "completed"
    },
    "pycharm": {
     "name": "#%%\n"
    },
    "tags": []
   },
   "outputs": [],
   "source": [
    "def generate_summary_api_results(df: pd.DataFrame) -> list:\n",
    "    api_df = df.reset_index().copy()\n",
    "    api_df[\"sample_date_string\"] = \\\n",
    "        api_df[\"sample_date\"].dt.strftime(\"%Y-%m-%d\")\n",
    "    api_df[\"source_regions\"] = \\\n",
    "        api_df[\"source_regions\"].apply(lambda x: x.split(\",\"))\n",
    "    return api_df.to_dict(orient=\"records\")\n",
    "\n",
    "summary_api_results = \\\n",
    "    generate_summary_api_results(df=result_summary_df)\n",
    "today_summary_api_results = \\\n",
    "    generate_summary_api_results(df=extraction_date_result_summary_df)[0]\n",
    "\n",
    "summary_results = dict(\n",
    "    backend_identifier=report_backend_identifier,\n",
    "    source_regions=report_source_regions,\n",
    "    extraction_datetime=extraction_datetime,\n",
    "    extraction_date=extraction_date,\n",
    "    extraction_date_with_hour=extraction_date_with_hour,\n",
    "    last_hour=dict(\n",
    "        shared_teks_by_upload_date=shared_teks_by_upload_date_last_hour,\n",
    "        shared_diagnoses=0,\n",
    "    ),\n",
    "    today=today_summary_api_results,\n",
    "    last_7_days=last_7_days_summary,\n",
    "    daily_results=summary_api_results)\n",
    "\n",
    "summary_results = \\\n",
    "    json.loads(pd.Series([summary_results]).to_json(orient=\"records\"))[0]\n",
    "\n",
    "with open(report_resources_path_prefix + \"Summary-Results.json\", \"w\") as f:\n",
    "    json.dump(summary_results, f, indent=4)"
   ]
  },
  {
   "cell_type": "markdown",
   "metadata": {
    "execution": {
     "iopub.execute_input": "2020-09-02T08:20:20.895901Z",
     "iopub.status.busy": "2020-09-02T08:20:20.895301Z",
     "iopub.status.idle": "2020-09-02T08:20:20.942286Z",
     "shell.execute_reply": "2020-09-02T08:20:20.942834Z"
    },
    "papermill": {
     "duration": 0.075196,
     "end_time": "2020-11-22T23:25:34.216034",
     "exception": false,
     "start_time": "2020-11-22T23:25:34.140838",
     "status": "completed"
    },
    "pycharm": {
     "name": "#%% md\n"
    },
    "tags": []
   },
   "source": [
    "### Publish on README"
   ]
  },
  {
   "cell_type": "code",
   "execution_count": 62,
   "metadata": {
    "collapsed": false,
    "execution": {
     "iopub.execute_input": "2020-11-22T23:25:34.377058Z",
     "iopub.status.busy": "2020-11-22T23:25:34.376252Z",
     "iopub.status.idle": "2020-11-22T23:25:34.378695Z",
     "shell.execute_reply": "2020-11-22T23:25:34.379386Z"
    },
    "papermill": {
     "duration": 0.086437,
     "end_time": "2020-11-22T23:25:34.379553",
     "exception": false,
     "start_time": "2020-11-22T23:25:34.293116",
     "status": "completed"
    },
    "pycharm": {
     "name": "#%%\n"
    },
    "tags": []
   },
   "outputs": [],
   "source": [
    "with open(\"Data/Templates/README.md\", \"r\") as f:\n",
    "    readme_contents = f.read()\n",
    "\n",
    "readme_contents = readme_contents.format(\n",
    "    extraction_date_with_hour=extraction_date_with_hour,\n",
    "    github_project_base_url=github_project_base_url,\n",
    "    daily_summary_table_html=daily_summary_table_html,\n",
    "    multi_backend_summary_table_html=multi_backend_summary_table_html,\n",
    "    multi_backend_cross_sharing_summary_table_html=multi_backend_cross_sharing_summary_table_html,\n",
    "    display_source_regions=display_source_regions)\n",
    "\n",
    "with open(\"README.md\", \"w\") as f:\n",
    "    f.write(readme_contents)"
   ]
  },
  {
   "cell_type": "markdown",
   "metadata": {
    "collapsed": false,
    "papermill": {
     "duration": 0.072204,
     "end_time": "2020-11-22T23:25:34.522311",
     "exception": false,
     "start_time": "2020-11-22T23:25:34.450107",
     "status": "completed"
    },
    "pycharm": {
     "name": "#%% md\n"
    },
    "tags": []
   },
   "source": [
    "### Publish on Twitter"
   ]
  },
  {
   "cell_type": "code",
   "execution_count": 63,
   "metadata": {
    "collapsed": false,
    "execution": {
     "iopub.execute_input": "2020-11-22T23:25:34.682293Z",
     "iopub.status.busy": "2020-11-22T23:25:34.681646Z",
     "iopub.status.idle": "2020-11-22T23:25:43.973155Z",
     "shell.execute_reply": "2020-11-22T23:25:43.973601Z"
    },
    "papermill": {
     "duration": 9.379082,
     "end_time": "2020-11-22T23:25:43.973759",
     "exception": false,
     "start_time": "2020-11-22T23:25:34.594677",
     "status": "completed"
    },
    "pycharm": {
     "name": "#%%\n"
    },
    "tags": []
   },
   "outputs": [],
   "source": [
    "enable_share_to_twitter = os.environ.get(\"RADARCOVID_REPORT__ENABLE_PUBLISH_ON_TWITTER\")\n",
    "github_event_name = os.environ.get(\"GITHUB_EVENT_NAME\")\n",
    "\n",
    "if enable_share_to_twitter and github_event_name == \"schedule\" and \\\n",
    "        (shared_teks_by_upload_date_last_hour or not are_today_results_partial):\n",
    "    import tweepy\n",
    "\n",
    "    twitter_api_auth_keys = os.environ[\"RADARCOVID_REPORT__TWITTER_API_AUTH_KEYS\"]\n",
    "    twitter_api_auth_keys = twitter_api_auth_keys.split(\":\")\n",
    "    auth = tweepy.OAuthHandler(twitter_api_auth_keys[0], twitter_api_auth_keys[1])\n",
    "    auth.set_access_token(twitter_api_auth_keys[2], twitter_api_auth_keys[3])\n",
    "\n",
    "    api = tweepy.API(auth)\n",
    "\n",
    "    summary_plots_media = api.media_upload(summary_plots_image_path)\n",
    "    summary_table_media = api.media_upload(summary_table_image_path)\n",
    "    generation_to_upload_period_pivot_table_image_media = api.media_upload(generation_to_upload_period_pivot_table_image_path)\n",
    "    media_ids = [\n",
    "        summary_plots_media.media_id,\n",
    "        summary_table_media.media_id,\n",
    "        generation_to_upload_period_pivot_table_image_media.media_id,\n",
    "    ]\n",
    "\n",
    "    if are_today_results_partial:\n",
    "        today_addendum = \" (Partial)\"\n",
    "    else:\n",
    "        today_addendum = \"\"\n",
    "\n",
    "    status = textwrap.dedent(f\"\"\"\n",
    "        #RadarCOVID – {extraction_date_with_hour}\n",
    "\n",
    "        Source Countries: {display_brief_source_regions}\n",
    "\n",
    "        Today{today_addendum}:\n",
    "        - Uploaded TEKs: {shared_teks_by_upload_date:.0f} ({shared_teks_by_upload_date_last_hour:+d} last hour)\n",
    "        - Shared Diagnoses: ≤{shared_diagnoses:.0f}\n",
    "        - Usage Ratio: ≤{shared_diagnoses_per_covid_case:.2%}\n",
    "\n",
    "        Last 7 Days:\n",
    "        - Shared Diagnoses: ≤{last_7_days_summary[\"shared_diagnoses\"]:.0f}\n",
    "        - Usage Ratio: ≤{last_7_days_summary[\"shared_diagnoses_per_covid_case\"]:.2%}\n",
    "\n",
    "        Info: {github_project_base_url}#documentation\n",
    "        \"\"\")\n",
    "    status = status.encode(encoding=\"utf-8\")\n",
    "    api.update_status(status=status, media_ids=media_ids)"
   ]
  }
 ],
 "metadata": {
  "kernelspec": {
   "display_name": "Python 3",
   "language": "python",
   "name": "python3"
  },
  "language_info": {
   "codemirror_mode": {
    "name": "ipython",
    "version": 3
   },
   "file_extension": ".py",
   "mimetype": "text/x-python",
   "name": "python",
   "nbconvert_exporter": "python",
   "pygments_lexer": "ipython3",
   "version": "3.8.6"
  },
  "papermill": {
   "duration": 443.244573,
   "end_time": "2020-11-22T23:25:46.365352",
   "environment_variables": {},
   "exception": null,
   "input_path": "Notebooks/RadarCOVID-Report/Source/RadarCOVID-Report.ipynb",
   "output_path": "RadarCOVID-Report.ipynb",
   "parameters": {},
   "start_time": "2020-11-22T23:18:23.120779",
   "version": "2.1.3"
  }
 },
 "nbformat": 4,
 "nbformat_minor": 1
}