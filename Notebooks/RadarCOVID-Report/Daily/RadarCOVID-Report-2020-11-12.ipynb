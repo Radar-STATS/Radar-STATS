{
 "cells": [
  {
   "cell_type": "markdown",
   "metadata": {
    "papermill": {
     "duration": 0.041981,
     "end_time": "2020-11-12T23:17:09.666926",
     "exception": false,
     "start_time": "2020-11-12T23:17:09.624945",
     "status": "completed"
    },
    "pycharm": {
     "name": "#%% md\n"
    },
    "tags": []
   },
   "source": [
    "# RadarCOVID-Report"
   ]
  },
  {
   "cell_type": "markdown",
   "metadata": {
    "collapsed": true,
    "papermill": {
     "duration": 0.03821,
     "end_time": "2020-11-12T23:17:09.744320",
     "exception": false,
     "start_time": "2020-11-12T23:17:09.706110",
     "status": "completed"
    },
    "pycharm": {
     "name": "#%% md\n"
    },
    "tags": []
   },
   "source": [
    "## Data Extraction"
   ]
  },
  {
   "cell_type": "code",
   "execution_count": 1,
   "metadata": {
    "execution": {
     "iopub.execute_input": "2020-11-12T23:17:09.832982Z",
     "iopub.status.busy": "2020-11-12T23:17:09.832420Z",
     "iopub.status.idle": "2020-11-12T23:17:11.109594Z",
     "shell.execute_reply": "2020-11-12T23:17:11.108960Z"
    },
    "papermill": {
     "duration": 1.322869,
     "end_time": "2020-11-12T23:17:11.109798",
     "exception": false,
     "start_time": "2020-11-12T23:17:09.786929",
     "status": "completed"
    },
    "pycharm": {
     "name": "#%%\n"
    },
    "tags": []
   },
   "outputs": [],
   "source": [
    "import datetime\n",
    "import json\n",
    "import logging\n",
    "import os\n",
    "import shutil\n",
    "import tempfile\n",
    "import textwrap\n",
    "import uuid\n",
    "\n",
    "import matplotlib.pyplot as plt\n",
    "import matplotlib.ticker\n",
    "import numpy as np\n",
    "import pandas as pd\n",
    "import retry\n",
    "import seaborn as sns\n",
    "\n",
    "%matplotlib inline"
   ]
  },
  {
   "cell_type": "code",
   "execution_count": 2,
   "metadata": {
    "collapsed": false,
    "execution": {
     "iopub.execute_input": "2020-11-12T23:17:11.198795Z",
     "iopub.status.busy": "2020-11-12T23:17:11.197308Z",
     "iopub.status.idle": "2020-11-12T23:17:11.199491Z",
     "shell.execute_reply": "2020-11-12T23:17:11.199974Z"
    },
    "papermill": {
     "duration": 0.049166,
     "end_time": "2020-11-12T23:17:11.200111",
     "exception": false,
     "start_time": "2020-11-12T23:17:11.150945",
     "status": "completed"
    },
    "pycharm": {
     "name": "#%%\n"
    },
    "tags": []
   },
   "outputs": [],
   "source": [
    "current_working_directory = os.environ.get(\"PWD\")\n",
    "if current_working_directory:\n",
    "    os.chdir(current_working_directory)\n",
    "\n",
    "sns.set()\n",
    "matplotlib.rcParams[\"figure.figsize\"] = (15, 6)\n",
    "\n",
    "extraction_datetime = datetime.datetime.utcnow()\n",
    "extraction_date = extraction_datetime.strftime(\"%Y-%m-%d\")\n",
    "extraction_previous_datetime = extraction_datetime - datetime.timedelta(days=1)\n",
    "extraction_previous_date = extraction_previous_datetime.strftime(\"%Y-%m-%d\")\n",
    "extraction_date_with_hour = datetime.datetime.utcnow().strftime(\"%Y-%m-%d@%H\")\n",
    "current_hour = datetime.datetime.utcnow().hour\n",
    "are_today_results_partial = current_hour != 23"
   ]
  },
  {
   "cell_type": "markdown",
   "metadata": {
    "collapsed": false,
    "papermill": {
     "duration": 0.039532,
     "end_time": "2020-11-12T23:17:11.279279",
     "exception": false,
     "start_time": "2020-11-12T23:17:11.239747",
     "status": "completed"
    },
    "tags": []
   },
   "source": [
    "### Constants"
   ]
  },
  {
   "cell_type": "code",
   "execution_count": 3,
   "metadata": {
    "execution": {
     "iopub.execute_input": "2020-11-12T23:17:11.360237Z",
     "iopub.status.busy": "2020-11-12T23:17:11.359626Z",
     "iopub.status.idle": "2020-11-12T23:17:11.509724Z",
     "shell.execute_reply": "2020-11-12T23:17:11.510262Z"
    },
    "papermill": {
     "duration": 0.192328,
     "end_time": "2020-11-12T23:17:11.510463",
     "exception": false,
     "start_time": "2020-11-12T23:17:11.318135",
     "status": "completed"
    },
    "pycharm": {
     "name": "#%%\n"
    },
    "tags": []
   },
   "outputs": [],
   "source": [
    "from Modules.ExposureNotification import exposure_notification_io\n",
    "\n",
    "spain_region_country_code = \"ES\"\n",
    "germany_region_country_code = \"DE\"\n",
    "\n",
    "default_backend_identifier = spain_region_country_code\n",
    "\n",
    "backend_generation_days = 7 * 2\n",
    "daily_summary_days = 7 * 4 * 3\n",
    "daily_plot_days = 7 * 4\n",
    "tek_dumps_load_limit = daily_summary_days + 1"
   ]
  },
  {
   "cell_type": "markdown",
   "metadata": {
    "collapsed": false,
    "papermill": {
     "duration": 0.042449,
     "end_time": "2020-11-12T23:17:11.592188",
     "exception": false,
     "start_time": "2020-11-12T23:17:11.549739",
     "status": "completed"
    },
    "tags": []
   },
   "source": [
    "### Parameters"
   ]
  },
  {
   "cell_type": "code",
   "execution_count": 4,
   "metadata": {
    "collapsed": false,
    "execution": {
     "iopub.execute_input": "2020-11-12T23:17:11.681873Z",
     "iopub.status.busy": "2020-11-12T23:17:11.681243Z",
     "iopub.status.idle": "2020-11-12T23:17:11.687905Z",
     "shell.execute_reply": "2020-11-12T23:17:11.688387Z"
    },
    "papermill": {
     "duration": 0.054653,
     "end_time": "2020-11-12T23:17:11.688553",
     "exception": false,
     "start_time": "2020-11-12T23:17:11.633900",
     "status": "completed"
    },
    "pycharm": {
     "name": "#%%\n"
    },
    "tags": []
   },
   "outputs": [
    {
     "data": {
      "text/plain": [
       "'ES'"
      ]
     },
     "execution_count": 4,
     "metadata": {},
     "output_type": "execute_result"
    }
   ],
   "source": [
    "environment_backend_identifier = os.environ.get(\"RADARCOVID_REPORT__BACKEND_IDENTIFIER\")\n",
    "if environment_backend_identifier:\n",
    "    report_backend_identifier = environment_backend_identifier\n",
    "else:\n",
    "    report_backend_identifier = default_backend_identifier\n",
    "report_backend_identifier"
   ]
  },
  {
   "cell_type": "code",
   "execution_count": 5,
   "metadata": {
    "collapsed": false,
    "execution": {
     "iopub.execute_input": "2020-11-12T23:17:11.776882Z",
     "iopub.status.busy": "2020-11-12T23:17:11.776270Z",
     "iopub.status.idle": "2020-11-12T23:17:11.778789Z",
     "shell.execute_reply": "2020-11-12T23:17:11.778280Z"
    },
    "papermill": {
     "duration": 0.047406,
     "end_time": "2020-11-12T23:17:11.778920",
     "exception": false,
     "start_time": "2020-11-12T23:17:11.731514",
     "status": "completed"
    },
    "pycharm": {
     "name": "#%%\n"
    },
    "tags": []
   },
   "outputs": [],
   "source": [
    "environment_enable_multi_backend_download = \\\n",
    "    os.environ.get(\"RADARCOVID_REPORT__ENABLE_MULTI_BACKEND_DOWNLOAD\")\n",
    "if environment_enable_multi_backend_download:\n",
    "    report_backend_identifiers = None\n",
    "else:\n",
    "    report_backend_identifiers = [report_backend_identifier]\n",
    "\n",
    "report_backend_identifiers"
   ]
  },
  {
   "cell_type": "code",
   "execution_count": 6,
   "metadata": {
    "collapsed": false,
    "execution": {
     "iopub.execute_input": "2020-11-12T23:17:11.865479Z",
     "iopub.status.busy": "2020-11-12T23:17:11.864751Z",
     "iopub.status.idle": "2020-11-12T23:17:11.869352Z",
     "shell.execute_reply": "2020-11-12T23:17:11.868798Z"
    },
    "papermill": {
     "duration": 0.050007,
     "end_time": "2020-11-12T23:17:11.869511",
     "exception": false,
     "start_time": "2020-11-12T23:17:11.819504",
     "status": "completed"
    },
    "pycharm": {
     "name": "#%%\n"
    },
    "tags": []
   },
   "outputs": [
    {
     "data": {
      "text/plain": [
       "['2020-10-30']"
      ]
     },
     "execution_count": 6,
     "metadata": {},
     "output_type": "execute_result"
    }
   ],
   "source": [
    "environment_invalid_shared_diagnoses_dates = \\\n",
    "    os.environ.get(\"RADARCOVID_REPORT__INVALID_SHARED_DIAGNOSES_DATES\")\n",
    "if environment_invalid_shared_diagnoses_dates:\n",
    "    invalid_shared_diagnoses_dates = environment_invalid_shared_diagnoses_dates.split(\",\")\n",
    "else:\n",
    "    invalid_shared_diagnoses_dates = []\n",
    "\n",
    "invalid_shared_diagnoses_dates"
   ]
  },
  {
   "cell_type": "markdown",
   "metadata": {
    "collapsed": false,
    "papermill": {
     "duration": 0.039985,
     "end_time": "2020-11-12T23:17:11.948297",
     "exception": false,
     "start_time": "2020-11-12T23:17:11.908312",
     "status": "completed"
    },
    "pycharm": {
     "name": "#%% md\n"
    },
    "tags": []
   },
   "source": [
    "### COVID-19 Cases"
   ]
  },
  {
   "cell_type": "code",
   "execution_count": 7,
   "metadata": {
    "collapsed": false,
    "execution": {
     "iopub.execute_input": "2020-11-12T23:17:12.034131Z",
     "iopub.status.busy": "2020-11-12T23:17:12.033452Z",
     "iopub.status.idle": "2020-11-12T23:17:12.035563Z",
     "shell.execute_reply": "2020-11-12T23:17:12.036109Z"
    },
    "papermill": {
     "duration": 0.047748,
     "end_time": "2020-11-12T23:17:12.036277",
     "exception": false,
     "start_time": "2020-11-12T23:17:11.988529",
     "status": "completed"
    },
    "pycharm": {
     "name": "#%%\n"
    },
    "tags": []
   },
   "outputs": [],
   "source": [
    "report_backend_client = \\\n",
    "    exposure_notification_io.get_backend_client_with_identifier(\n",
    "        backend_identifier=report_backend_identifier)"
   ]
  },
  {
   "cell_type": "code",
   "execution_count": 8,
   "metadata": {
    "collapsed": false,
    "execution": {
     "iopub.execute_input": "2020-11-12T23:17:12.122260Z",
     "iopub.status.busy": "2020-11-12T23:17:12.121615Z",
     "iopub.status.idle": "2020-11-12T23:17:25.186363Z",
     "shell.execute_reply": "2020-11-12T23:17:25.185374Z"
    },
    "papermill": {
     "duration": 13.108998,
     "end_time": "2020-11-12T23:17:25.186503",
     "exception": false,
     "start_time": "2020-11-12T23:17:12.077505",
     "status": "completed"
    },
    "pycharm": {
     "name": "#%%\n"
    },
    "tags": []
   },
   "outputs": [],
   "source": [
    "@retry.retry(tries=10, delay=10, backoff=1.1, jitter=(0, 10))\n",
    "def download_cases_dataframe_from_ecdc():\n",
    "    return pd.read_csv(\n",
    "        \"https://opendata.ecdc.europa.eu/covid19/casedistribution/csv/data.csv\")\n",
    "\n",
    "confirmed_df_ = download_cases_dataframe_from_ecdc()"
   ]
  },
  {
   "cell_type": "code",
   "execution_count": 9,
   "metadata": {
    "collapsed": false,
    "execution": {
     "iopub.execute_input": "2020-11-12T23:17:25.273488Z",
     "iopub.status.busy": "2020-11-12T23:17:25.272924Z",
     "iopub.status.idle": "2020-11-12T23:17:25.645843Z",
     "shell.execute_reply": "2020-11-12T23:17:25.646367Z"
    },
    "papermill": {
     "duration": 0.419018,
     "end_time": "2020-11-12T23:17:25.646544",
     "exception": false,
     "start_time": "2020-11-12T23:17:25.227526",
     "status": "completed"
    },
    "pycharm": {
     "name": "#%%\n"
    },
    "tags": []
   },
   "outputs": [
    {
     "data": {
      "text/html": [
       "<div>\n",
       "<style scoped>\n",
       "    .dataframe tbody tr th:only-of-type {\n",
       "        vertical-align: middle;\n",
       "    }\n",
       "\n",
       "    .dataframe tbody tr th {\n",
       "        vertical-align: top;\n",
       "    }\n",
       "\n",
       "    .dataframe thead th {\n",
       "        text-align: right;\n",
       "    }\n",
       "</style>\n",
       "<table border=\"1\" class=\"dataframe\">\n",
       "  <thead>\n",
       "    <tr style=\"text-align: right;\">\n",
       "      <th></th>\n",
       "      <th>sample_date</th>\n",
       "      <th>new_cases</th>\n",
       "      <th>country_code</th>\n",
       "    </tr>\n",
       "  </thead>\n",
       "  <tbody>\n",
       "    <tr>\n",
       "      <th>45402</th>\n",
       "      <td>2020-11-12</td>\n",
       "      <td>2058</td>\n",
       "      <td>SK</td>\n",
       "    </tr>\n",
       "    <tr>\n",
       "      <th>40463</th>\n",
       "      <td>2020-11-12</td>\n",
       "      <td>25221</td>\n",
       "      <td>PL</td>\n",
       "    </tr>\n",
       "    <tr>\n",
       "      <th>49766</th>\n",
       "      <td>2020-11-12</td>\n",
       "      <td>0</td>\n",
       "      <td>TL</td>\n",
       "    </tr>\n",
       "    <tr>\n",
       "      <th>13638</th>\n",
       "      <td>2020-11-12</td>\n",
       "      <td>14</td>\n",
       "      <td>CD</td>\n",
       "    </tr>\n",
       "    <tr>\n",
       "      <th>0</th>\n",
       "      <td>2020-11-12</td>\n",
       "      <td>146</td>\n",
       "      <td>AF</td>\n",
       "    </tr>\n",
       "  </tbody>\n",
       "</table>\n",
       "</div>"
      ],
      "text/plain": [
       "      sample_date  new_cases country_code\n",
       "45402  2020-11-12       2058           SK\n",
       "40463  2020-11-12      25221           PL\n",
       "49766  2020-11-12          0           TL\n",
       "13638  2020-11-12         14           CD\n",
       "0      2020-11-12        146           AF"
      ]
     },
     "execution_count": 9,
     "metadata": {},
     "output_type": "execute_result"
    }
   ],
   "source": [
    "confirmed_df = confirmed_df_.copy()\n",
    "confirmed_df = confirmed_df[[\"dateRep\", \"cases\", \"geoId\"]]\n",
    "confirmed_df.rename(\n",
    "    columns={\n",
    "        \"dateRep\":\"sample_date\",\n",
    "        \"cases\": \"new_cases\",\n",
    "        \"geoId\": \"country_code\",\n",
    "    },\n",
    "    inplace=True)\n",
    "confirmed_df[\"sample_date\"] = pd.to_datetime(confirmed_df.sample_date, dayfirst=True)\n",
    "confirmed_df[\"sample_date\"] = confirmed_df.sample_date.dt.strftime(\"%Y-%m-%d\")\n",
    "confirmed_df.sort_values(\"sample_date\", inplace=True)\n",
    "confirmed_df.tail()"
   ]
  },
  {
   "cell_type": "code",
   "execution_count": 10,
   "metadata": {
    "collapsed": false,
    "execution": {
     "iopub.execute_input": "2020-11-12T23:17:25.730681Z",
     "iopub.status.busy": "2020-11-12T23:17:25.730058Z",
     "iopub.status.idle": "2020-11-12T23:17:25.733349Z",
     "shell.execute_reply": "2020-11-12T23:17:25.732835Z"
    },
    "papermill": {
     "duration": 0.046127,
     "end_time": "2020-11-12T23:17:25.733466",
     "exception": false,
     "start_time": "2020-11-12T23:17:25.687339",
     "status": "completed"
    },
    "pycharm": {
     "name": "#%%\n"
    },
    "tags": []
   },
   "outputs": [],
   "source": [
    "def sort_source_regions_for_display(source_regions: list) -> list:\n",
    "    if report_backend_identifier in source_regions:\n",
    "        source_regions = [report_backend_identifier] + \\\n",
    "            list(sorted(set(source_regions).difference([report_backend_identifier])))\n",
    "    else:\n",
    "        source_regions = list(sorted(source_regions))\n",
    "    return source_regions"
   ]
  },
  {
   "cell_type": "code",
   "execution_count": 11,
   "metadata": {
    "collapsed": false,
    "execution": {
     "iopub.execute_input": "2020-11-12T23:17:25.824450Z",
     "iopub.status.busy": "2020-11-12T23:17:25.823818Z",
     "iopub.status.idle": "2020-11-12T23:17:25.827392Z",
     "shell.execute_reply": "2020-11-12T23:17:25.826891Z"
    },
    "papermill": {
     "duration": 0.051276,
     "end_time": "2020-11-12T23:17:25.827543",
     "exception": false,
     "start_time": "2020-11-12T23:17:25.776267",
     "status": "completed"
    },
    "pycharm": {
     "name": "#%%\n"
    },
    "tags": []
   },
   "outputs": [
    {
     "data": {
      "text/plain": [
       "['ES', 'DE', 'DK', 'IE', 'IT', 'LV']"
      ]
     },
     "execution_count": 11,
     "metadata": {},
     "output_type": "execute_result"
    }
   ],
   "source": [
    "report_source_regions = report_backend_client.source_regions_for_date(\n",
    "    date=extraction_datetime.date())\n",
    "report_source_regions = sort_source_regions_for_display(\n",
    "    source_regions=report_source_regions)\n",
    "report_source_regions"
   ]
  },
  {
   "cell_type": "code",
   "execution_count": 12,
   "metadata": {
    "collapsed": false,
    "execution": {
     "iopub.execute_input": "2020-11-12T23:17:25.932132Z",
     "iopub.status.busy": "2020-11-12T23:17:25.931472Z",
     "iopub.status.idle": "2020-11-12T23:17:25.935111Z",
     "shell.execute_reply": "2020-11-12T23:17:25.934603Z"
    },
    "papermill": {
     "duration": 0.062694,
     "end_time": "2020-11-12T23:17:25.935343",
     "exception": false,
     "start_time": "2020-11-12T23:17:25.872649",
     "status": "completed"
    },
    "pycharm": {
     "name": "#%%\n"
    },
    "tags": []
   },
   "outputs": [
    {
     "data": {
      "text/html": [
       "<div>\n",
       "<style scoped>\n",
       "    .dataframe tbody tr th:only-of-type {\n",
       "        vertical-align: middle;\n",
       "    }\n",
       "\n",
       "    .dataframe tbody tr th {\n",
       "        vertical-align: top;\n",
       "    }\n",
       "\n",
       "    .dataframe thead th {\n",
       "        text-align: right;\n",
       "    }\n",
       "</style>\n",
       "<table border=\"1\" class=\"dataframe\">\n",
       "  <thead>\n",
       "    <tr style=\"text-align: right;\">\n",
       "      <th></th>\n",
       "      <th>sample_date</th>\n",
       "      <th>sample_date_string</th>\n",
       "    </tr>\n",
       "  </thead>\n",
       "  <tbody>\n",
       "    <tr>\n",
       "      <th>313</th>\n",
       "      <td>2020-11-08</td>\n",
       "      <td>2020-11-08</td>\n",
       "    </tr>\n",
       "    <tr>\n",
       "      <th>314</th>\n",
       "      <td>2020-11-09</td>\n",
       "      <td>2020-11-09</td>\n",
       "    </tr>\n",
       "    <tr>\n",
       "      <th>315</th>\n",
       "      <td>2020-11-10</td>\n",
       "      <td>2020-11-10</td>\n",
       "    </tr>\n",
       "    <tr>\n",
       "      <th>316</th>\n",
       "      <td>2020-11-11</td>\n",
       "      <td>2020-11-11</td>\n",
       "    </tr>\n",
       "    <tr>\n",
       "      <th>317</th>\n",
       "      <td>2020-11-12</td>\n",
       "      <td>2020-11-12</td>\n",
       "    </tr>\n",
       "  </tbody>\n",
       "</table>\n",
       "</div>"
      ],
      "text/plain": [
       "    sample_date sample_date_string\n",
       "313  2020-11-08         2020-11-08\n",
       "314  2020-11-09         2020-11-09\n",
       "315  2020-11-10         2020-11-10\n",
       "316  2020-11-11         2020-11-11\n",
       "317  2020-11-12         2020-11-12"
      ]
     },
     "execution_count": 12,
     "metadata": {},
     "output_type": "execute_result"
    }
   ],
   "source": [
    "confirmed_days = pd.date_range(\n",
    "    start=confirmed_df.iloc[0].sample_date,\n",
    "    end=extraction_datetime)\n",
    "confirmed_days_df = pd.DataFrame(data=confirmed_days, columns=[\"sample_date\"])\n",
    "confirmed_days_df[\"sample_date_string\"] = \\\n",
    "    confirmed_days_df.sample_date.dt.strftime(\"%Y-%m-%d\")\n",
    "confirmed_days_df.tail()"
   ]
  },
  {
   "cell_type": "code",
   "execution_count": 13,
   "metadata": {
    "collapsed": false,
    "execution": {
     "iopub.execute_input": "2020-11-12T23:17:26.042878Z",
     "iopub.status.busy": "2020-11-12T23:17:26.042276Z",
     "iopub.status.idle": "2020-11-12T23:17:26.045670Z",
     "shell.execute_reply": "2020-11-12T23:17:26.046188Z"
    },
    "papermill": {
     "duration": 0.066232,
     "end_time": "2020-11-12T23:17:26.046473",
     "exception": false,
     "start_time": "2020-11-12T23:17:25.980241",
     "status": "completed"
    },
    "pycharm": {
     "name": "#%%\n"
    },
    "tags": []
   },
   "outputs": [
    {
     "data": {
      "text/html": [
       "<div>\n",
       "<style scoped>\n",
       "    .dataframe tbody tr th:only-of-type {\n",
       "        vertical-align: middle;\n",
       "    }\n",
       "\n",
       "    .dataframe tbody tr th {\n",
       "        vertical-align: top;\n",
       "    }\n",
       "\n",
       "    .dataframe thead th {\n",
       "        text-align: right;\n",
       "    }\n",
       "</style>\n",
       "<table border=\"1\" class=\"dataframe\">\n",
       "  <thead>\n",
       "    <tr style=\"text-align: right;\">\n",
       "      <th></th>\n",
       "      <th>sample_date</th>\n",
       "      <th>sample_date_string</th>\n",
       "      <th>source_regions_at_date</th>\n",
       "      <th>_source_regions_group</th>\n",
       "    </tr>\n",
       "  </thead>\n",
       "  <tbody>\n",
       "    <tr>\n",
       "      <th>313</th>\n",
       "      <td>2020-11-08</td>\n",
       "      <td>2020-11-08</td>\n",
       "      <td>{LV, DE, IT, ES, IE}</td>\n",
       "      <td>ES,DE,IE,IT,LV</td>\n",
       "    </tr>\n",
       "    <tr>\n",
       "      <th>314</th>\n",
       "      <td>2020-11-09</td>\n",
       "      <td>2020-11-09</td>\n",
       "      <td>{LV, DE, IT, ES, IE, DK}</td>\n",
       "      <td>ES,DE,DK,IE,IT,LV</td>\n",
       "    </tr>\n",
       "    <tr>\n",
       "      <th>315</th>\n",
       "      <td>2020-11-10</td>\n",
       "      <td>2020-11-10</td>\n",
       "      <td>{LV, DE, IT, ES, IE, DK}</td>\n",
       "      <td>ES,DE,DK,IE,IT,LV</td>\n",
       "    </tr>\n",
       "    <tr>\n",
       "      <th>316</th>\n",
       "      <td>2020-11-11</td>\n",
       "      <td>2020-11-11</td>\n",
       "      <td>{LV, DE, IT, ES, IE, DK}</td>\n",
       "      <td>ES,DE,DK,IE,IT,LV</td>\n",
       "    </tr>\n",
       "    <tr>\n",
       "      <th>317</th>\n",
       "      <td>2020-11-12</td>\n",
       "      <td>2020-11-12</td>\n",
       "      <td>{LV, DE, IT, ES, IE, DK}</td>\n",
       "      <td>ES,DE,DK,IE,IT,LV</td>\n",
       "    </tr>\n",
       "  </tbody>\n",
       "</table>\n",
       "</div>"
      ],
      "text/plain": [
       "    sample_date sample_date_string    source_regions_at_date  \\\n",
       "313  2020-11-08         2020-11-08      {LV, DE, IT, ES, IE}   \n",
       "314  2020-11-09         2020-11-09  {LV, DE, IT, ES, IE, DK}   \n",
       "315  2020-11-10         2020-11-10  {LV, DE, IT, ES, IE, DK}   \n",
       "316  2020-11-11         2020-11-11  {LV, DE, IT, ES, IE, DK}   \n",
       "317  2020-11-12         2020-11-12  {LV, DE, IT, ES, IE, DK}   \n",
       "\n",
       "    _source_regions_group  \n",
       "313        ES,DE,IE,IT,LV  \n",
       "314     ES,DE,DK,IE,IT,LV  \n",
       "315     ES,DE,DK,IE,IT,LV  \n",
       "316     ES,DE,DK,IE,IT,LV  \n",
       "317     ES,DE,DK,IE,IT,LV  "
      ]
     },
     "execution_count": 13,
     "metadata": {},
     "output_type": "execute_result"
    }
   ],
   "source": [
    "source_regions_at_date_df = confirmed_days_df.copy()\n",
    "source_regions_at_date_df[\"source_regions_at_date\"] = \\\n",
    "    source_regions_at_date_df.sample_date.apply(\n",
    "        lambda x: report_backend_client.source_regions_for_date(date=x))\n",
    "source_regions_at_date_df.sort_values(\"sample_date\", inplace=True)\n",
    "source_regions_at_date_df[\"_source_regions_group\"] = source_regions_at_date_df. \\\n",
    "    source_regions_at_date.apply(lambda x: \",\".join(sort_source_regions_for_display(x)))\n",
    "source_regions_at_date_df.tail()"
   ]
  },
  {
   "cell_type": "code",
   "execution_count": 14,
   "metadata": {
    "collapsed": false,
    "execution": {
     "iopub.execute_input": "2020-11-12T23:17:26.147306Z",
     "iopub.status.busy": "2020-11-12T23:17:26.146190Z",
     "iopub.status.idle": "2020-11-12T23:17:26.156173Z",
     "shell.execute_reply": "2020-11-12T23:17:26.156653Z"
    },
    "papermill": {
     "duration": 0.06202,
     "end_time": "2020-11-12T23:17:26.156834",
     "exception": false,
     "start_time": "2020-11-12T23:17:26.094814",
     "status": "completed"
    },
    "pycharm": {
     "name": "#%%\n"
    },
    "tags": []
   },
   "outputs": [
    {
     "data": {
      "text/html": [
       "<div>\n",
       "<style scoped>\n",
       "    .dataframe tbody tr th:only-of-type {\n",
       "        vertical-align: middle;\n",
       "    }\n",
       "\n",
       "    .dataframe tbody tr th {\n",
       "        vertical-align: top;\n",
       "    }\n",
       "\n",
       "    .dataframe thead th {\n",
       "        text-align: right;\n",
       "    }\n",
       "</style>\n",
       "<table border=\"1\" class=\"dataframe\">\n",
       "  <thead>\n",
       "    <tr style=\"text-align: right;\">\n",
       "      <th></th>\n",
       "      <th>sample_date</th>\n",
       "      <th>source_regions</th>\n",
       "    </tr>\n",
       "  </thead>\n",
       "  <tbody>\n",
       "    <tr>\n",
       "      <th>313</th>\n",
       "      <td>2020-11-08</td>\n",
       "      <td>ES,DE,IE,IT,LV</td>\n",
       "    </tr>\n",
       "    <tr>\n",
       "      <th>314</th>\n",
       "      <td>2020-11-09</td>\n",
       "      <td>ES,DE,DK,IE,IT,LV</td>\n",
       "    </tr>\n",
       "    <tr>\n",
       "      <th>315</th>\n",
       "      <td>2020-11-10</td>\n",
       "      <td>ES,DE,DK,IE,IT,LV</td>\n",
       "    </tr>\n",
       "    <tr>\n",
       "      <th>316</th>\n",
       "      <td>2020-11-11</td>\n",
       "      <td>ES,DE,DK,IE,IT,LV</td>\n",
       "    </tr>\n",
       "    <tr>\n",
       "      <th>317</th>\n",
       "      <td>2020-11-12</td>\n",
       "      <td>ES,DE,DK,IE,IT,LV</td>\n",
       "    </tr>\n",
       "  </tbody>\n",
       "</table>\n",
       "</div>"
      ],
      "text/plain": [
       "    sample_date     source_regions\n",
       "313  2020-11-08     ES,DE,IE,IT,LV\n",
       "314  2020-11-09  ES,DE,DK,IE,IT,LV\n",
       "315  2020-11-10  ES,DE,DK,IE,IT,LV\n",
       "316  2020-11-11  ES,DE,DK,IE,IT,LV\n",
       "317  2020-11-12  ES,DE,DK,IE,IT,LV"
      ]
     },
     "execution_count": 14,
     "metadata": {},
     "output_type": "execute_result"
    }
   ],
   "source": [
    "source_regions_for_summary_df = \\\n",
    "    source_regions_at_date_df[[\"sample_date\", \"_source_regions_group\"]].copy()\n",
    "source_regions_for_summary_df.rename(columns={\"_source_regions_group\": \"source_regions\"}, inplace=True)\n",
    "source_regions_for_summary_df.tail()"
   ]
  },
  {
   "cell_type": "code",
   "execution_count": 15,
   "metadata": {
    "collapsed": false,
    "execution": {
     "iopub.execute_input": "2020-11-12T23:17:26.262906Z",
     "iopub.status.busy": "2020-11-12T23:17:26.262263Z",
     "iopub.status.idle": "2020-11-12T23:17:26.307093Z",
     "shell.execute_reply": "2020-11-12T23:17:26.307577Z"
    },
    "papermill": {
     "duration": 0.106462,
     "end_time": "2020-11-12T23:17:26.307746",
     "exception": false,
     "start_time": "2020-11-12T23:17:26.201284",
     "status": "completed"
    },
    "pycharm": {
     "name": "#%%\n"
    },
    "tags": []
   },
   "outputs": [
    {
     "data": {
      "text/html": [
       "<div>\n",
       "<style scoped>\n",
       "    .dataframe tbody tr th:only-of-type {\n",
       "        vertical-align: middle;\n",
       "    }\n",
       "\n",
       "    .dataframe tbody tr th {\n",
       "        vertical-align: top;\n",
       "    }\n",
       "\n",
       "    .dataframe thead th {\n",
       "        text-align: right;\n",
       "    }\n",
       "</style>\n",
       "<table border=\"1\" class=\"dataframe\">\n",
       "  <thead>\n",
       "    <tr style=\"text-align: right;\">\n",
       "      <th></th>\n",
       "      <th>sample_date</th>\n",
       "      <th>new_cases</th>\n",
       "      <th>covid_cases</th>\n",
       "    </tr>\n",
       "  </thead>\n",
       "  <tbody>\n",
       "    <tr>\n",
       "      <th>309</th>\n",
       "      <td>2020-11-04</td>\n",
       "      <td>70966</td>\n",
       "      <td>66020.0</td>\n",
       "    </tr>\n",
       "    <tr>\n",
       "      <th>310</th>\n",
       "      <td>2020-11-05</td>\n",
       "      <td>73194</td>\n",
       "      <td>67010.0</td>\n",
       "    </tr>\n",
       "    <tr>\n",
       "      <th>311</th>\n",
       "      <td>2020-11-06</td>\n",
       "      <td>79454</td>\n",
       "      <td>68044.0</td>\n",
       "    </tr>\n",
       "    <tr>\n",
       "      <th>312</th>\n",
       "      <td>2020-11-07</td>\n",
       "      <td>62050</td>\n",
       "      <td>69596.0</td>\n",
       "    </tr>\n",
       "    <tr>\n",
       "      <th>313</th>\n",
       "      <td>2020-11-08</td>\n",
       "      <td>56547</td>\n",
       "      <td>71025.0</td>\n",
       "    </tr>\n",
       "  </tbody>\n",
       "</table>\n",
       "</div>"
      ],
      "text/plain": [
       "    sample_date new_cases  covid_cases\n",
       "309  2020-11-04     70966      66020.0\n",
       "310  2020-11-05     73194      67010.0\n",
       "311  2020-11-06     79454      68044.0\n",
       "312  2020-11-07     62050      69596.0\n",
       "313  2020-11-08     56547      71025.0"
      ]
     },
     "execution_count": 15,
     "metadata": {},
     "output_type": "execute_result"
    }
   ],
   "source": [
    "confirmed_output_columns = [\"sample_date\", \"new_cases\", \"covid_cases\"]\n",
    "confirmed_output_df = pd.DataFrame(columns=confirmed_output_columns)\n",
    "\n",
    "for source_regions_group, source_regions_group_series in \\\n",
    "        source_regions_at_date_df.groupby(\"_source_regions_group\"):\n",
    "    source_regions_set = set(source_regions_group.split(\",\"))\n",
    "    confirmed_source_regions_set_df = \\\n",
    "        confirmed_df[confirmed_df.country_code.isin(source_regions_set)].copy()\n",
    "    confirmed_source_regions_group_df = \\\n",
    "        confirmed_source_regions_set_df.groupby(\"sample_date\").new_cases.sum() \\\n",
    "            .reset_index().sort_values(\"sample_date\")\n",
    "    confirmed_source_regions_group_df[\"covid_cases\"] = \\\n",
    "        confirmed_source_regions_group_df.new_cases.rolling(7, min_periods=0).mean().round()\n",
    "    confirmed_source_regions_group_df = \\\n",
    "        confirmed_source_regions_group_df[confirmed_output_columns]\n",
    "    confirmed_source_regions_group_df.fillna(method=\"ffill\", inplace=True)\n",
    "    confirmed_source_regions_group_df = \\\n",
    "        confirmed_source_regions_group_df[\n",
    "            confirmed_source_regions_group_df.sample_date.isin(\n",
    "                source_regions_group_series.sample_date_string)]\n",
    "    confirmed_output_df = confirmed_output_df.append(confirmed_source_regions_group_df)\n",
    "\n",
    "confirmed_df = confirmed_output_df.copy()\n",
    "confirmed_df.tail()"
   ]
  },
  {
   "cell_type": "code",
   "execution_count": 16,
   "metadata": {
    "collapsed": false,
    "execution": {
     "iopub.execute_input": "2020-11-12T23:17:26.404531Z",
     "iopub.status.busy": "2020-11-12T23:17:26.403902Z",
     "iopub.status.idle": "2020-11-12T23:17:26.419117Z",
     "shell.execute_reply": "2020-11-12T23:17:26.419612Z"
    },
    "papermill": {
     "duration": 0.068224,
     "end_time": "2020-11-12T23:17:26.419765",
     "exception": false,
     "start_time": "2020-11-12T23:17:26.351541",
     "status": "completed"
    },
    "pycharm": {
     "name": "#%%\n"
    },
    "tags": []
   },
   "outputs": [
    {
     "data": {
      "text/html": [
       "<div>\n",
       "<style scoped>\n",
       "    .dataframe tbody tr th:only-of-type {\n",
       "        vertical-align: middle;\n",
       "    }\n",
       "\n",
       "    .dataframe tbody tr th {\n",
       "        vertical-align: top;\n",
       "    }\n",
       "\n",
       "    .dataframe thead th {\n",
       "        text-align: right;\n",
       "    }\n",
       "</style>\n",
       "<table border=\"1\" class=\"dataframe\">\n",
       "  <thead>\n",
       "    <tr style=\"text-align: right;\">\n",
       "      <th></th>\n",
       "      <th>sample_date_string</th>\n",
       "      <th>new_cases</th>\n",
       "      <th>covid_cases</th>\n",
       "    </tr>\n",
       "  </thead>\n",
       "  <tbody>\n",
       "    <tr>\n",
       "      <th>313</th>\n",
       "      <td>2020-11-08</td>\n",
       "      <td>56547</td>\n",
       "      <td>71025.0</td>\n",
       "    </tr>\n",
       "    <tr>\n",
       "      <th>314</th>\n",
       "      <td>2020-11-09</td>\n",
       "      <td>100008</td>\n",
       "      <td>72329.0</td>\n",
       "    </tr>\n",
       "    <tr>\n",
       "      <th>315</th>\n",
       "      <td>2020-11-10</td>\n",
       "      <td>59124</td>\n",
       "      <td>72476.0</td>\n",
       "    </tr>\n",
       "    <tr>\n",
       "      <th>316</th>\n",
       "      <td>2020-11-11</td>\n",
       "      <td>74177</td>\n",
       "      <td>72741.0</td>\n",
       "    </tr>\n",
       "    <tr>\n",
       "      <th>317</th>\n",
       "      <td>2020-11-12</td>\n",
       "      <td>56632</td>\n",
       "      <td>70242.0</td>\n",
       "    </tr>\n",
       "  </tbody>\n",
       "</table>\n",
       "</div>"
      ],
      "text/plain": [
       "    sample_date_string  new_cases  covid_cases\n",
       "313         2020-11-08      56547      71025.0\n",
       "314         2020-11-09     100008      72329.0\n",
       "315         2020-11-10      59124      72476.0\n",
       "316         2020-11-11      74177      72741.0\n",
       "317         2020-11-12      56632      70242.0"
      ]
     },
     "execution_count": 16,
     "metadata": {},
     "output_type": "execute_result"
    }
   ],
   "source": [
    "confirmed_df.rename(columns={\"sample_date\": \"sample_date_string\"}, inplace=True)\n",
    "confirmed_df = confirmed_days_df[[\"sample_date_string\"]].merge(confirmed_df, how=\"left\")\n",
    "confirmed_df.sort_values(\"sample_date_string\", inplace=True)\n",
    "confirmed_df.fillna(method=\"ffill\", inplace=True)\n",
    "confirmed_df.tail()"
   ]
  },
  {
   "cell_type": "code",
   "execution_count": 17,
   "metadata": {
    "collapsed": false,
    "execution": {
     "iopub.execute_input": "2020-11-12T23:17:26.516700Z",
     "iopub.status.busy": "2020-11-12T23:17:26.515744Z",
     "iopub.status.idle": "2020-11-12T23:17:26.724174Z",
     "shell.execute_reply": "2020-11-12T23:17:26.724803Z"
    },
    "papermill": {
     "duration": 0.260664,
     "end_time": "2020-11-12T23:17:26.725100",
     "exception": false,
     "start_time": "2020-11-12T23:17:26.464436",
     "status": "completed"
    },
    "pycharm": {
     "name": "#%%\n"
    },
    "tags": []
   },
   "outputs": [
    {
     "data": {
      "text/plain": [
       "<matplotlib.axes._subplots.AxesSubplot at 0x7f8bfe9bdcd0>"
      ]
     },
     "execution_count": 17,
     "metadata": {},
     "output_type": "execute_result"
    },
    {
     "data": {
      "image/png": "[encoded data removed]",
      "text/plain": [
       "<Figure size 1080x432 with 1 Axes>"
      ]
     },
     "metadata": {},
     "output_type": "display_data"
    }
   ],
   "source": [
    "confirmed_df[[\"new_cases\", \"covid_cases\"]].plot()"
   ]
  },
  {
   "cell_type": "markdown",
   "metadata": {
    "execution": {
     "iopub.execute_input": "2020-08-30T22:30:16.351238Z",
     "iopub.status.busy": "2020-08-30T22:30:16.344579Z",
     "iopub.status.idle": "2020-08-30T22:30:16.354285Z",
     "shell.execute_reply": "2020-08-30T22:30:16.353641Z"
    },
    "papermill": {
     "duration": 0.045375,
     "end_time": "2020-11-12T23:17:26.818628",
     "exception": false,
     "start_time": "2020-11-12T23:17:26.773253",
     "status": "completed"
    },
    "pycharm": {
     "name": "#%% md\n"
    },
    "tags": []
   },
   "source": [
    "### Extract API TEKs"
   ]
  },
  {
   "cell_type": "code",
   "execution_count": 18,
   "metadata": {
    "execution": {
     "iopub.execute_input": "2020-11-12T23:17:26.921226Z",
     "iopub.status.busy": "2020-11-12T23:17:26.920617Z",
     "iopub.status.idle": "2020-11-12T23:22:45.152696Z",
     "shell.execute_reply": "2020-11-12T23:22:45.153183Z"
    },
    "papermill": {
     "duration": 318.286828,
     "end_time": "2020-11-12T23:22:45.153341",
     "exception": false,
     "start_time": "2020-11-12T23:17:26.866513",
     "status": "completed"
    },
    "pycharm": {
     "name": "#%%\n"
    },
    "tags": []
   },
   "outputs": [
    {
     "name": "stderr",
     "output_type": "stream",
     "text": [
      "WARNING:root:NoKeysFoundException(\"No exposure keys found on endpoint 'https://stayaway.incm.pt/v1/gaen/exposed/1605139200000' (parameters: {'generation_date': '2020-11-12', 'endpoint_identifier_components': ['2020-11-12'], 'backend_identifier': 'PT', 'server_endpoint_url': 'https://stayaway.incm.pt'}).\")\n"
     ]
    },
    {
     "name": "stderr",
     "output_type": "stream",
     "text": [
      "WARNING:root:NoKeysFoundException(\"No exposure keys found on endpoint 'https://enapi.sm.ee/authorization/v1/gaen/exposed/1605139200000' (parameters: {'generation_date': '2020-11-12', 'endpoint_identifier_components': ['2020-11-12'], 'backend_identifier': 'EE', 'server_endpoint_url': 'https://enapi.sm.ee/authorization'}).\")\n"
     ]
    },
    {
     "name": "stderr",
     "output_type": "stream",
     "text": [
      "WARNING:root:NoKeysFoundException(\"No exposure keys found on endpoint 'https://mt-dpppt-ws.azurewebsites.net/v1/gaen/exposed/1605139200000' (parameters: {'generation_date': '2020-11-12', 'endpoint_identifier_components': ['2020-11-12'], 'backend_identifier': 'MT', 'server_endpoint_url': 'https://mt-dpppt-ws.azurewebsites.net'}).\")\n"
     ]
    },
    {
     "data": {
      "text/html": [
       "<div>\n",
       "<style scoped>\n",
       "    .dataframe tbody tr th:only-of-type {\n",
       "        vertical-align: middle;\n",
       "    }\n",
       "\n",
       "    .dataframe tbody tr th {\n",
       "        vertical-align: top;\n",
       "    }\n",
       "\n",
       "    .dataframe thead th {\n",
       "        text-align: right;\n",
       "    }\n",
       "</style>\n",
       "<table border=\"1\" class=\"dataframe\">\n",
       "  <thead>\n",
       "    <tr style=\"text-align: right;\">\n",
       "      <th></th>\n",
       "      <th>sample_datetime</th>\n",
       "      <th>sample_date_string</th>\n",
       "      <th>region</th>\n",
       "      <th>verification_key_version</th>\n",
       "      <th>verification_key_id</th>\n",
       "      <th>signature_algorithm</th>\n",
       "      <th>key_data</th>\n",
       "      <th>rolling_start_interval_number</th>\n",
       "      <th>rolling_period</th>\n",
       "      <th>transmission_risk_level</th>\n",
       "      <th>backend_identifier</th>\n",
       "    </tr>\n",
       "  </thead>\n",
       "  <tbody>\n",
       "    <tr>\n",
       "      <th>0</th>\n",
       "      <td>2020-11-12</td>\n",
       "      <td>2020-11-12</td>\n",
       "      <td>ES</td>\n",
       "      <td>V1</td>\n",
       "      <td>214</td>\n",
       "      <td>1.2.840.10045.4.3.2</td>\n",
       "      <td>26b35861-783f-0f76-f8ab-b59198eadf34</td>\n",
       "      <td>2675232</td>\n",
       "      <td>132</td>\n",
       "      <td>0</td>\n",
       "      <td>ES</td>\n",
       "    </tr>\n",
       "    <tr>\n",
       "      <th>1</th>\n",
       "      <td>2020-11-12</td>\n",
       "      <td>2020-11-12</td>\n",
       "      <td>ES</td>\n",
       "      <td>V1</td>\n",
       "      <td>214</td>\n",
       "      <td>1.2.840.10045.4.3.2</td>\n",
       "      <td>9bc9bb5b-454e-3203-9b6e-6ed6f99c17e7</td>\n",
       "      <td>2675232</td>\n",
       "      <td>131</td>\n",
       "      <td>0</td>\n",
       "      <td>ES</td>\n",
       "    </tr>\n",
       "    <tr>\n",
       "      <th>2</th>\n",
       "      <td>2020-11-12</td>\n",
       "      <td>2020-11-12</td>\n",
       "      <td>ES</td>\n",
       "      <td>V1</td>\n",
       "      <td>214</td>\n",
       "      <td>1.2.840.10045.4.3.2</td>\n",
       "      <td>47ec1b74-3b12-0bbd-f0da-1e6de3d9d0d5</td>\n",
       "      <td>2675232</td>\n",
       "      <td>131</td>\n",
       "      <td>0</td>\n",
       "      <td>ES</td>\n",
       "    </tr>\n",
       "    <tr>\n",
       "      <th>3</th>\n",
       "      <td>2020-11-12</td>\n",
       "      <td>2020-11-12</td>\n",
       "      <td>ES</td>\n",
       "      <td>V1</td>\n",
       "      <td>214</td>\n",
       "      <td>1.2.840.10045.4.3.2</td>\n",
       "      <td>6871f967-3fe1-48f7-0a3f-391feb9962f2</td>\n",
       "      <td>2675232</td>\n",
       "      <td>130</td>\n",
       "      <td>0</td>\n",
       "      <td>ES</td>\n",
       "    </tr>\n",
       "    <tr>\n",
       "      <th>4</th>\n",
       "      <td>2020-11-12</td>\n",
       "      <td>2020-11-12</td>\n",
       "      <td>ES</td>\n",
       "      <td>V1</td>\n",
       "      <td>214</td>\n",
       "      <td>1.2.840.10045.4.3.2</td>\n",
       "      <td>782afba9-2fd5-b38b-f2e0-038b3f4cc8c2</td>\n",
       "      <td>2675232</td>\n",
       "      <td>128</td>\n",
       "      <td>0</td>\n",
       "      <td>ES</td>\n",
       "    </tr>\n",
       "  </tbody>\n",
       "</table>\n",
       "</div>"
      ],
      "text/plain": [
       "  sample_datetime sample_date_string region verification_key_version  \\\n",
       "0      2020-11-12         2020-11-12     ES                       V1   \n",
       "1      2020-11-12         2020-11-12     ES                       V1   \n",
       "2      2020-11-12         2020-11-12     ES                       V1   \n",
       "3      2020-11-12         2020-11-12     ES                       V1   \n",
       "4      2020-11-12         2020-11-12     ES                       V1   \n",
       "\n",
       "  verification_key_id  signature_algorithm  \\\n",
       "0                 214  1.2.840.10045.4.3.2   \n",
       "1                 214  1.2.840.10045.4.3.2   \n",
       "2                 214  1.2.840.10045.4.3.2   \n",
       "3                 214  1.2.840.10045.4.3.2   \n",
       "4                 214  1.2.840.10045.4.3.2   \n",
       "\n",
       "                               key_data  rolling_start_interval_number  \\\n",
       "0  26b35861-783f-0f76-f8ab-b59198eadf34                        2675232   \n",
       "1  9bc9bb5b-454e-3203-9b6e-6ed6f99c17e7                        2675232   \n",
       "2  47ec1b74-3b12-0bbd-f0da-1e6de3d9d0d5                        2675232   \n",
       "3  6871f967-3fe1-48f7-0a3f-391feb9962f2                        2675232   \n",
       "4  782afba9-2fd5-b38b-f2e0-038b3f4cc8c2                        2675232   \n",
       "\n",
       "   rolling_period  transmission_risk_level backend_identifier  \n",
       "0             132                        0                 ES  \n",
       "1             131                        0                 ES  \n",
       "2             131                        0                 ES  \n",
       "3             130                        0                 ES  \n",
       "4             128                        0                 ES  "
      ]
     },
     "execution_count": 18,
     "metadata": {},
     "output_type": "execute_result"
    }
   ],
   "source": [
    "raw_zip_path_prefix = \"Data/TEKs/Raw/\"\n",
    "fail_on_error_backend_identifiers = [report_backend_identifier]\n",
    "multi_backend_exposure_keys_df = \\\n",
    "    exposure_notification_io.download_exposure_keys_from_backends(\n",
    "        backend_identifiers=report_backend_identifiers,\n",
    "        generation_days=backend_generation_days,\n",
    "        fail_on_error_backend_identifiers=fail_on_error_backend_identifiers,\n",
    "        save_raw_zip_path_prefix=raw_zip_path_prefix)\n",
    "multi_backend_exposure_keys_df[\"region\"] = multi_backend_exposure_keys_df[\"backend_identifier\"]\n",
    "multi_backend_exposure_keys_df.rename(\n",
    "    columns={\n",
    "        \"generation_datetime\": \"sample_datetime\",\n",
    "        \"generation_date_string\": \"sample_date_string\",\n",
    "    },\n",
    "    inplace=True)\n",
    "multi_backend_exposure_keys_df.head()"
   ]
  },
  {
   "cell_type": "code",
   "execution_count": 19,
   "metadata": {
    "collapsed": false,
    "execution": {
     "iopub.execute_input": "2020-11-12T23:22:45.245192Z",
     "iopub.status.busy": "2020-11-12T23:22:45.244567Z",
     "iopub.status.idle": "2020-11-12T23:22:45.486699Z",
     "shell.execute_reply": "2020-11-12T23:22:45.487199Z"
    },
    "papermill": {
     "duration": 0.290434,
     "end_time": "2020-11-12T23:22:45.487363",
     "exception": false,
     "start_time": "2020-11-12T23:22:45.196929",
     "status": "completed"
    },
    "pycharm": {
     "name": "#%%\n"
    },
    "tags": []
   },
   "outputs": [
    {
     "data": {
      "text/plain": [
       "<matplotlib.axes._subplots.AxesSubplot at 0x7f8beb0f1940>"
      ]
     },
     "execution_count": 19,
     "metadata": {},
     "output_type": "execute_result"
    },
    {
     "data": {
      "image/png": "[encoded data removed]",
      "text/plain": [
       "<Figure size 1080x432 with 1 Axes>"
      ]
     },
     "metadata": {},
     "output_type": "display_data"
    }
   ],
   "source": [
    "early_teks_df = multi_backend_exposure_keys_df[\n",
    "    multi_backend_exposure_keys_df.rolling_period < 144].copy()\n",
    "early_teks_df[\"rolling_period_in_hours\"] = early_teks_df.rolling_period / 6\n",
    "early_teks_df[early_teks_df.sample_date_string != extraction_date] \\\n",
    "    .rolling_period_in_hours.hist(bins=list(range(24)))"
   ]
  },
  {
   "cell_type": "code",
   "execution_count": 20,
   "metadata": {
    "collapsed": false,
    "execution": {
     "iopub.execute_input": "2020-11-12T23:22:45.587520Z",
     "iopub.status.busy": "2020-11-12T23:22:45.586916Z",
     "iopub.status.idle": "2020-11-12T23:22:45.805004Z",
     "shell.execute_reply": "2020-11-12T23:22:45.804476Z"
    },
    "papermill": {
     "duration": 0.269134,
     "end_time": "2020-11-12T23:22:45.805171",
     "exception": false,
     "start_time": "2020-11-12T23:22:45.536037",
     "status": "completed"
    },
    "pycharm": {
     "name": "#%%\n"
    },
    "tags": []
   },
   "outputs": [
    {
     "data": {
      "text/plain": [
       "<matplotlib.axes._subplots.AxesSubplot at 0x7f8beb263100>"
      ]
     },
     "execution_count": 20,
     "metadata": {},
     "output_type": "execute_result"
    },
    {
     "data": {
      "image/png": "[encoded data removed]",
      "text/plain": [
       "<Figure size 1080x432 with 1 Axes>"
      ]
     },
     "metadata": {},
     "output_type": "display_data"
    }
   ],
   "source": [
    "early_teks_df[early_teks_df.sample_date_string == extraction_date] \\\n",
    "    .rolling_period_in_hours.hist(bins=list(range(24)))"
   ]
  },
  {
   "cell_type": "code",
   "execution_count": 21,
   "metadata": {
    "collapsed": false,
    "execution": {
     "iopub.execute_input": "2020-11-12T23:22:45.907782Z",
     "iopub.status.busy": "2020-11-12T23:22:45.907224Z",
     "iopub.status.idle": "2020-11-12T23:22:45.949950Z",
     "shell.execute_reply": "2020-11-12T23:22:45.950422Z"
    },
    "papermill": {
     "duration": 0.096243,
     "end_time": "2020-11-12T23:22:45.950586",
     "exception": false,
     "start_time": "2020-11-12T23:22:45.854343",
     "status": "completed"
    },
    "pycharm": {
     "name": "#%%\n"
    },
    "tags": []
   },
   "outputs": [
    {
     "data": {
      "text/html": [
       "<div>\n",
       "<style scoped>\n",
       "    .dataframe tbody tr th:only-of-type {\n",
       "        vertical-align: middle;\n",
       "    }\n",
       "\n",
       "    .dataframe tbody tr th {\n",
       "        vertical-align: top;\n",
       "    }\n",
       "\n",
       "    .dataframe thead th {\n",
       "        text-align: right;\n",
       "    }\n",
       "</style>\n",
       "<table border=\"1\" class=\"dataframe\">\n",
       "  <thead>\n",
       "    <tr style=\"text-align: right;\">\n",
       "      <th></th>\n",
       "      <th>sample_date_string</th>\n",
       "      <th>region</th>\n",
       "      <th>key_data</th>\n",
       "    </tr>\n",
       "  </thead>\n",
       "  <tbody>\n",
       "    <tr>\n",
       "      <th>0</th>\n",
       "      <td>2020-11-12</td>\n",
       "      <td>ES</td>\n",
       "      <td>26b35861-783f-0f76-f8ab-b59198eadf34</td>\n",
       "    </tr>\n",
       "    <tr>\n",
       "      <th>1</th>\n",
       "      <td>2020-11-12</td>\n",
       "      <td>ES</td>\n",
       "      <td>9bc9bb5b-454e-3203-9b6e-6ed6f99c17e7</td>\n",
       "    </tr>\n",
       "    <tr>\n",
       "      <th>2</th>\n",
       "      <td>2020-11-12</td>\n",
       "      <td>ES</td>\n",
       "      <td>47ec1b74-3b12-0bbd-f0da-1e6de3d9d0d5</td>\n",
       "    </tr>\n",
       "    <tr>\n",
       "      <th>3</th>\n",
       "      <td>2020-11-12</td>\n",
       "      <td>ES</td>\n",
       "      <td>6871f967-3fe1-48f7-0a3f-391feb9962f2</td>\n",
       "    </tr>\n",
       "    <tr>\n",
       "      <th>4</th>\n",
       "      <td>2020-11-12</td>\n",
       "      <td>ES</td>\n",
       "      <td>782afba9-2fd5-b38b-f2e0-038b3f4cc8c2</td>\n",
       "    </tr>\n",
       "  </tbody>\n",
       "</table>\n",
       "</div>"
      ],
      "text/plain": [
       "  sample_date_string region                              key_data\n",
       "0         2020-11-12     ES  26b35861-783f-0f76-f8ab-b59198eadf34\n",
       "1         2020-11-12     ES  9bc9bb5b-454e-3203-9b6e-6ed6f99c17e7\n",
       "2         2020-11-12     ES  47ec1b74-3b12-0bbd-f0da-1e6de3d9d0d5\n",
       "3         2020-11-12     ES  6871f967-3fe1-48f7-0a3f-391feb9962f2\n",
       "4         2020-11-12     ES  782afba9-2fd5-b38b-f2e0-038b3f4cc8c2"
      ]
     },
     "execution_count": 21,
     "metadata": {},
     "output_type": "execute_result"
    }
   ],
   "source": [
    "multi_backend_exposure_keys_df = multi_backend_exposure_keys_df[[\n",
    "    \"sample_date_string\", \"region\", \"key_data\"]]\n",
    "multi_backend_exposure_keys_df.head()"
   ]
  },
  {
   "cell_type": "code",
   "execution_count": 22,
   "metadata": {
    "collapsed": false,
    "execution": {
     "iopub.execute_input": "2020-11-12T23:22:46.062348Z",
     "iopub.status.busy": "2020-11-12T23:22:46.061669Z",
     "iopub.status.idle": "2020-11-12T23:22:49.794709Z",
     "shell.execute_reply": "2020-11-12T23:22:49.795189Z"
    },
    "papermill": {
     "duration": 3.796615,
     "end_time": "2020-11-12T23:22:49.795389",
     "exception": false,
     "start_time": "2020-11-12T23:22:45.998774",
     "status": "completed"
    },
    "pycharm": {
     "name": "#%%\n"
    },
    "tags": []
   },
   "outputs": [
    {
     "data": {
      "text/plain": [
       "['BE@TST', 'EE', 'MT', 'PT', 'BE', 'DK', 'ES@PRE', 'CH', 'DE', 'IT', 'ES']"
      ]
     },
     "execution_count": 22,
     "metadata": {},
     "output_type": "execute_result"
    }
   ],
   "source": [
    "active_regions = \\\n",
    "    multi_backend_exposure_keys_df.groupby(\"region\").key_data.nunique().sort_values().index.unique().tolist()\n",
    "active_regions"
   ]
  },
  {
   "cell_type": "code",
   "execution_count": 23,
   "metadata": {
    "collapsed": false,
    "execution": {
     "iopub.execute_input": "2020-11-12T23:22:49.933595Z",
     "iopub.status.busy": "2020-11-12T23:22:49.932951Z",
     "iopub.status.idle": "2020-11-12T23:22:53.842257Z",
     "shell.execute_reply": "2020-11-12T23:22:53.843007Z"
    },
    "papermill": {
     "duration": 3.99972,
     "end_time": "2020-11-12T23:22:53.843186",
     "exception": false,
     "start_time": "2020-11-12T23:22:49.843466",
     "status": "completed"
    },
    "pycharm": {
     "name": "#%%\n"
    },
    "tags": []
   },
   "outputs": [
    {
     "data": {
      "text/html": [
       "<div>\n",
       "<style scoped>\n",
       "    .dataframe tbody tr th:only-of-type {\n",
       "        vertical-align: middle;\n",
       "    }\n",
       "\n",
       "    .dataframe tbody tr th {\n",
       "        vertical-align: top;\n",
       "    }\n",
       "\n",
       "    .dataframe thead tr th {\n",
       "        text-align: left;\n",
       "    }\n",
       "\n",
       "    .dataframe thead tr:last-of-type th {\n",
       "        text-align: right;\n",
       "    }\n",
       "</style>\n",
       "<table border=\"1\" class=\"dataframe\">\n",
       "  <thead>\n",
       "    <tr>\n",
       "      <th></th>\n",
       "      <th colspan=\"11\" halign=\"left\">shared_teks_by_generation_date</th>\n",
       "    </tr>\n",
       "    <tr>\n",
       "      <th>region</th>\n",
       "      <th>BE</th>\n",
       "      <th>BE@TST</th>\n",
       "      <th>CH</th>\n",
       "      <th>DE</th>\n",
       "      <th>DK</th>\n",
       "      <th>EE</th>\n",
       "      <th>ES</th>\n",
       "      <th>ES@PRE</th>\n",
       "      <th>IT</th>\n",
       "      <th>MT</th>\n",
       "      <th>PT</th>\n",
       "    </tr>\n",
       "    <tr>\n",
       "      <th>sample_date</th>\n",
       "      <th></th>\n",
       "      <th></th>\n",
       "      <th></th>\n",
       "      <th></th>\n",
       "      <th></th>\n",
       "      <th></th>\n",
       "      <th></th>\n",
       "      <th></th>\n",
       "      <th></th>\n",
       "      <th></th>\n",
       "      <th></th>\n",
       "    </tr>\n",
       "  </thead>\n",
       "  <tbody>\n",
       "    <tr>\n",
       "      <th>2020-11-12</th>\n",
       "      <td>0</td>\n",
       "      <td>0</td>\n",
       "      <td>695</td>\n",
       "      <td>0</td>\n",
       "      <td>0</td>\n",
       "      <td>0</td>\n",
       "      <td>317</td>\n",
       "      <td>3</td>\n",
       "      <td>31</td>\n",
       "      <td>0</td>\n",
       "      <td>0</td>\n",
       "    </tr>\n",
       "    <tr>\n",
       "      <th>2020-11-11</th>\n",
       "      <td>0</td>\n",
       "      <td>0</td>\n",
       "      <td>1712</td>\n",
       "      <td>1</td>\n",
       "      <td>197</td>\n",
       "      <td>30</td>\n",
       "      <td>2484</td>\n",
       "      <td>63</td>\n",
       "      <td>2233</td>\n",
       "      <td>106</td>\n",
       "      <td>66</td>\n",
       "    </tr>\n",
       "    <tr>\n",
       "      <th>2020-11-10</th>\n",
       "      <td>149</td>\n",
       "      <td>50</td>\n",
       "      <td>2523</td>\n",
       "      <td>2571</td>\n",
       "      <td>389</td>\n",
       "      <td>45</td>\n",
       "      <td>5381</td>\n",
       "      <td>246</td>\n",
       "      <td>4763</td>\n",
       "      <td>111</td>\n",
       "      <td>115</td>\n",
       "    </tr>\n",
       "    <tr>\n",
       "      <th>2020-11-09</th>\n",
       "      <td>271</td>\n",
       "      <td>51</td>\n",
       "      <td>3420</td>\n",
       "      <td>4699</td>\n",
       "      <td>562</td>\n",
       "      <td>59</td>\n",
       "      <td>7646</td>\n",
       "      <td>528</td>\n",
       "      <td>6789</td>\n",
       "      <td>113</td>\n",
       "      <td>158</td>\n",
       "    </tr>\n",
       "    <tr>\n",
       "      <th>2020-11-08</th>\n",
       "      <td>299</td>\n",
       "      <td>46</td>\n",
       "      <td>3775</td>\n",
       "      <td>5836</td>\n",
       "      <td>682</td>\n",
       "      <td>63</td>\n",
       "      <td>8848</td>\n",
       "      <td>879</td>\n",
       "      <td>7869</td>\n",
       "      <td>115</td>\n",
       "      <td>179</td>\n",
       "    </tr>\n",
       "  </tbody>\n",
       "</table>\n",
       "</div>"
      ],
      "text/plain": [
       "            shared_teks_by_generation_date                                    \\\n",
       "region                                  BE BE@TST    CH    DE   DK  EE    ES   \n",
       "sample_date                                                                    \n",
       "2020-11-12                               0      0   695     0    0   0   317   \n",
       "2020-11-11                               0      0  1712     1  197  30  2484   \n",
       "2020-11-10                             149     50  2523  2571  389  45  5381   \n",
       "2020-11-09                             271     51  3420  4699  562  59  7646   \n",
       "2020-11-08                             299     46  3775  5836  682  63  8848   \n",
       "\n",
       "                                    \n",
       "region      ES@PRE    IT   MT   PT  \n",
       "sample_date                         \n",
       "2020-11-12       3    31    0    0  \n",
       "2020-11-11      63  2233  106   66  \n",
       "2020-11-10     246  4763  111  115  \n",
       "2020-11-09     528  6789  113  158  \n",
       "2020-11-08     879  7869  115  179  "
      ]
     },
     "execution_count": 23,
     "metadata": {},
     "output_type": "execute_result"
    }
   ],
   "source": [
    "multi_backend_summary_df = multi_backend_exposure_keys_df.groupby(\n",
    "    [\"sample_date_string\", \"region\"]).key_data.nunique().reset_index() \\\n",
    "    .pivot(index=\"sample_date_string\", columns=\"region\") \\\n",
    "    .sort_index(ascending=False)\n",
    "multi_backend_summary_df.rename(\n",
    "    columns={\"key_data\": \"shared_teks_by_generation_date\"},\n",
    "    inplace=True)\n",
    "multi_backend_summary_df.rename_axis(\"sample_date\", inplace=True)\n",
    "multi_backend_summary_df = multi_backend_summary_df.fillna(0).astype(int)\n",
    "multi_backend_summary_df = multi_backend_summary_df.head(backend_generation_days)\n",
    "multi_backend_summary_df.head()"
   ]
  },
  {
   "cell_type": "code",
   "execution_count": 24,
   "metadata": {
    "collapsed": false,
    "execution": {
     "iopub.execute_input": "2020-11-12T23:22:53.949476Z",
     "iopub.status.busy": "2020-11-12T23:22:53.948881Z",
     "iopub.status.idle": "2020-11-12T23:22:59.564491Z",
     "shell.execute_reply": "2020-11-12T23:22:59.564913Z"
    },
    "papermill": {
     "duration": 5.673439,
     "end_time": "2020-11-12T23:22:59.565082",
     "exception": false,
     "start_time": "2020-11-12T23:22:53.891643",
     "status": "completed"
    },
    "pycharm": {
     "name": "#%%\n"
    },
    "tags": []
   },
   "outputs": [
    {
     "name": "stderr",
     "output_type": "stream",
     "text": [
      "<ipython-input-24-4e21708c19d8>:2: FutureWarning: `item` has been deprecated and will be removed in a future version\n",
      "  teks_x = x.key_data_x.item()\n",
      "<ipython-input-24-4e21708c19d8>:3: FutureWarning: `item` has been deprecated and will be removed in a future version\n",
      "  common_teks = set(teks_x).intersection(x.key_data_y.item())\n"
     ]
    },
    {
     "name": "stderr",
     "output_type": "stream",
     "text": [
      "<ipython-input-24-4e21708c19d8>:33: FutureWarning: `item` has been deprecated and will be removed in a future version\n",
      "  aggfunc=lambda x: x.item())\n"
     ]
    },
    {
     "data": {
      "text/html": [
       "<div>\n",
       "<style scoped>\n",
       "    .dataframe tbody tr th:only-of-type {\n",
       "        vertical-align: middle;\n",
       "    }\n",
       "\n",
       "    .dataframe tbody tr th {\n",
       "        vertical-align: top;\n",
       "    }\n",
       "\n",
       "    .dataframe thead tr th {\n",
       "        text-align: left;\n",
       "    }\n",
       "\n",
       "    .dataframe thead tr:last-of-type th {\n",
       "        text-align: right;\n",
       "    }\n",
       "</style>\n",
       "<table border=\"1\" class=\"dataframe\">\n",
       "  <thead>\n",
       "    <tr>\n",
       "      <th></th>\n",
       "      <th colspan=\"11\" halign=\"left\">common_teks_fraction</th>\n",
       "    </tr>\n",
       "    <tr>\n",
       "      <th>region_x</th>\n",
       "      <th>BE</th>\n",
       "      <th>BE@TST</th>\n",
       "      <th>CH</th>\n",
       "      <th>DE</th>\n",
       "      <th>DK</th>\n",
       "      <th>EE</th>\n",
       "      <th>ES</th>\n",
       "      <th>ES@PRE</th>\n",
       "      <th>IT</th>\n",
       "      <th>MT</th>\n",
       "      <th>PT</th>\n",
       "    </tr>\n",
       "    <tr>\n",
       "      <th>region_y</th>\n",
       "      <th></th>\n",
       "      <th></th>\n",
       "      <th></th>\n",
       "      <th></th>\n",
       "      <th></th>\n",
       "      <th></th>\n",
       "      <th></th>\n",
       "      <th></th>\n",
       "      <th></th>\n",
       "      <th></th>\n",
       "      <th></th>\n",
       "    </tr>\n",
       "  </thead>\n",
       "  <tbody>\n",
       "    <tr>\n",
       "      <th>BE</th>\n",
       "      <td>NaN</td>\n",
       "      <td>0.0</td>\n",
       "      <td>0.000000</td>\n",
       "      <td>0.000000</td>\n",
       "      <td>0.000000</td>\n",
       "      <td>0.0</td>\n",
       "      <td>0.000000</td>\n",
       "      <td>0.0</td>\n",
       "      <td>0.000000</td>\n",
       "      <td>0.0</td>\n",
       "      <td>0.0</td>\n",
       "    </tr>\n",
       "    <tr>\n",
       "      <th>BE@TST</th>\n",
       "      <td>0.0</td>\n",
       "      <td>NaN</td>\n",
       "      <td>0.000000</td>\n",
       "      <td>0.000000</td>\n",
       "      <td>0.000000</td>\n",
       "      <td>0.0</td>\n",
       "      <td>0.000000</td>\n",
       "      <td>0.0</td>\n",
       "      <td>0.000000</td>\n",
       "      <td>0.0</td>\n",
       "      <td>0.0</td>\n",
       "    </tr>\n",
       "    <tr>\n",
       "      <th>CH</th>\n",
       "      <td>0.0</td>\n",
       "      <td>0.0</td>\n",
       "      <td>NaN</td>\n",
       "      <td>0.000077</td>\n",
       "      <td>0.000000</td>\n",
       "      <td>0.0</td>\n",
       "      <td>0.000061</td>\n",
       "      <td>0.0</td>\n",
       "      <td>0.000066</td>\n",
       "      <td>0.0</td>\n",
       "      <td>0.0</td>\n",
       "    </tr>\n",
       "    <tr>\n",
       "      <th>DE</th>\n",
       "      <td>0.0</td>\n",
       "      <td>0.0</td>\n",
       "      <td>0.000186</td>\n",
       "      <td>NaN</td>\n",
       "      <td>0.000000</td>\n",
       "      <td>0.0</td>\n",
       "      <td>0.747332</td>\n",
       "      <td>0.0</td>\n",
       "      <td>0.811751</td>\n",
       "      <td>0.0</td>\n",
       "      <td>0.0</td>\n",
       "    </tr>\n",
       "    <tr>\n",
       "      <th>DK</th>\n",
       "      <td>0.0</td>\n",
       "      <td>0.0</td>\n",
       "      <td>0.000000</td>\n",
       "      <td>0.000000</td>\n",
       "      <td>NaN</td>\n",
       "      <td>0.0</td>\n",
       "      <td>0.016686</td>\n",
       "      <td>0.0</td>\n",
       "      <td>0.000000</td>\n",
       "      <td>0.0</td>\n",
       "      <td>0.0</td>\n",
       "    </tr>\n",
       "    <tr>\n",
       "      <th>EE</th>\n",
       "      <td>0.0</td>\n",
       "      <td>0.0</td>\n",
       "      <td>0.000000</td>\n",
       "      <td>0.000000</td>\n",
       "      <td>0.000000</td>\n",
       "      <td>NaN</td>\n",
       "      <td>0.000000</td>\n",
       "      <td>0.0</td>\n",
       "      <td>0.000000</td>\n",
       "      <td>0.0</td>\n",
       "      <td>0.0</td>\n",
       "    </tr>\n",
       "    <tr>\n",
       "      <th>ES</th>\n",
       "      <td>0.0</td>\n",
       "      <td>0.0</td>\n",
       "      <td>0.000186</td>\n",
       "      <td>0.946374</td>\n",
       "      <td>0.206636</td>\n",
       "      <td>0.0</td>\n",
       "      <td>NaN</td>\n",
       "      <td>0.0</td>\n",
       "      <td>0.978098</td>\n",
       "      <td>0.0</td>\n",
       "      <td>0.0</td>\n",
       "    </tr>\n",
       "    <tr>\n",
       "      <th>ES@PRE</th>\n",
       "      <td>0.0</td>\n",
       "      <td>0.0</td>\n",
       "      <td>0.000000</td>\n",
       "      <td>0.000000</td>\n",
       "      <td>0.000000</td>\n",
       "      <td>0.0</td>\n",
       "      <td>0.000000</td>\n",
       "      <td>NaN</td>\n",
       "      <td>0.000000</td>\n",
       "      <td>0.0</td>\n",
       "      <td>0.0</td>\n",
       "    </tr>\n",
       "    <tr>\n",
       "      <th>IT</th>\n",
       "      <td>0.0</td>\n",
       "      <td>0.0</td>\n",
       "      <td>0.000186</td>\n",
       "      <td>0.946374</td>\n",
       "      <td>0.000000</td>\n",
       "      <td>0.0</td>\n",
       "      <td>0.900478</td>\n",
       "      <td>0.0</td>\n",
       "      <td>NaN</td>\n",
       "      <td>0.0</td>\n",
       "      <td>0.0</td>\n",
       "    </tr>\n",
       "    <tr>\n",
       "      <th>MT</th>\n",
       "      <td>0.0</td>\n",
       "      <td>0.0</td>\n",
       "      <td>0.000000</td>\n",
       "      <td>0.000000</td>\n",
       "      <td>0.000000</td>\n",
       "      <td>0.0</td>\n",
       "      <td>0.000000</td>\n",
       "      <td>0.0</td>\n",
       "      <td>0.000000</td>\n",
       "      <td>NaN</td>\n",
       "      <td>0.0</td>\n",
       "    </tr>\n",
       "    <tr>\n",
       "      <th>PT</th>\n",
       "      <td>0.0</td>\n",
       "      <td>0.0</td>\n",
       "      <td>0.000000</td>\n",
       "      <td>0.000000</td>\n",
       "      <td>0.000000</td>\n",
       "      <td>0.0</td>\n",
       "      <td>0.000000</td>\n",
       "      <td>0.0</td>\n",
       "      <td>0.000000</td>\n",
       "      <td>0.0</td>\n",
       "      <td>NaN</td>\n",
       "    </tr>\n",
       "  </tbody>\n",
       "</table>\n",
       "</div>"
      ],
      "text/plain": [
       "         common_teks_fraction                                            \\\n",
       "region_x                   BE BE@TST        CH        DE        DK   EE   \n",
       "region_y                                                                  \n",
       "BE                        NaN    0.0  0.000000  0.000000  0.000000  0.0   \n",
       "BE@TST                    0.0    NaN  0.000000  0.000000  0.000000  0.0   \n",
       "CH                        0.0    0.0       NaN  0.000077  0.000000  0.0   \n",
       "DE                        0.0    0.0  0.000186       NaN  0.000000  0.0   \n",
       "DK                        0.0    0.0  0.000000  0.000000       NaN  0.0   \n",
       "EE                        0.0    0.0  0.000000  0.000000  0.000000  NaN   \n",
       "ES                        0.0    0.0  0.000186  0.946374  0.206636  0.0   \n",
       "ES@PRE                    0.0    0.0  0.000000  0.000000  0.000000  0.0   \n",
       "IT                        0.0    0.0  0.000186  0.946374  0.000000  0.0   \n",
       "MT                        0.0    0.0  0.000000  0.000000  0.000000  0.0   \n",
       "PT                        0.0    0.0  0.000000  0.000000  0.000000  0.0   \n",
       "\n",
       "                                               \n",
       "region_x        ES ES@PRE        IT   MT   PT  \n",
       "region_y                                       \n",
       "BE        0.000000    0.0  0.000000  0.0  0.0  \n",
       "BE@TST    0.000000    0.0  0.000000  0.0  0.0  \n",
       "CH        0.000061    0.0  0.000066  0.0  0.0  \n",
       "DE        0.747332    0.0  0.811751  0.0  0.0  \n",
       "DK        0.016686    0.0  0.000000  0.0  0.0  \n",
       "EE        0.000000    0.0  0.000000  0.0  0.0  \n",
       "ES             NaN    0.0  0.978098  0.0  0.0  \n",
       "ES@PRE    0.000000    NaN  0.000000  0.0  0.0  \n",
       "IT        0.900478    0.0       NaN  0.0  0.0  \n",
       "MT        0.000000    0.0  0.000000  NaN  0.0  \n",
       "PT        0.000000    0.0  0.000000  0.0  NaN  "
      ]
     },
     "execution_count": 24,
     "metadata": {},
     "output_type": "execute_result"
    }
   ],
   "source": [
    "def compute_keys_cross_sharing(x):\n",
    "    teks_x = x.key_data_x.item()\n",
    "    common_teks = set(teks_x).intersection(x.key_data_y.item())\n",
    "    common_teks_fraction = len(common_teks) / len(teks_x)\n",
    "    return pd.Series(dict(\n",
    "        common_teks=common_teks,\n",
    "        common_teks_fraction=common_teks_fraction,\n",
    "    ))\n",
    "\n",
    "multi_backend_exposure_keys_by_region_df = \\\n",
    "    multi_backend_exposure_keys_df.groupby(\"region\").key_data.unique().reset_index()\n",
    "multi_backend_exposure_keys_by_region_df[\"_merge\"] = True\n",
    "multi_backend_exposure_keys_by_region_combination_df = \\\n",
    "    multi_backend_exposure_keys_by_region_df.merge(\n",
    "        multi_backend_exposure_keys_by_region_df, on=\"_merge\")\n",
    "multi_backend_exposure_keys_by_region_combination_df.drop(\n",
    "    columns=[\"_merge\"], inplace=True)\n",
    "if multi_backend_exposure_keys_by_region_combination_df.region_x.nunique() > 1:\n",
    "    multi_backend_exposure_keys_by_region_combination_df = \\\n",
    "        multi_backend_exposure_keys_by_region_combination_df[\n",
    "            multi_backend_exposure_keys_by_region_combination_df.region_x !=\n",
    "            multi_backend_exposure_keys_by_region_combination_df.region_y]\n",
    "multi_backend_exposure_keys_cross_sharing_df = \\\n",
    "    multi_backend_exposure_keys_by_region_combination_df \\\n",
    "        .groupby([\"region_x\", \"region_y\"]) \\\n",
    "        .apply(compute_keys_cross_sharing) \\\n",
    "        .reset_index()\n",
    "multi_backend_cross_sharing_summary_df = \\\n",
    "    multi_backend_exposure_keys_cross_sharing_df.pivot_table(\n",
    "        values=[\"common_teks_fraction\"],\n",
    "        columns=\"region_x\",\n",
    "        index=\"region_y\",\n",
    "        aggfunc=lambda x: x.item())\n",
    "multi_backend_cross_sharing_summary_df"
   ]
  },
  {
   "cell_type": "code",
   "execution_count": 25,
   "metadata": {
    "collapsed": false,
    "execution": {
     "iopub.execute_input": "2020-11-12T23:22:59.701103Z",
     "iopub.status.busy": "2020-11-12T23:22:59.700007Z",
     "iopub.status.idle": "2020-11-12T23:23:02.040644Z",
     "shell.execute_reply": "2020-11-12T23:23:02.041242Z"
    },
    "papermill": {
     "duration": 2.426565,
     "end_time": "2020-11-12T23:23:02.041440",
     "exception": false,
     "start_time": "2020-11-12T23:22:59.614875",
     "status": "completed"
    },
    "pycharm": {
     "name": "#%%\n"
    },
    "tags": []
   },
   "outputs": [
    {
     "data": {
      "text/plain": [
       "['BE@TST', 'EE', 'MT', 'PT', 'BE', 'DK', 'ES@PRE', 'CH', 'DE', 'IT']"
      ]
     },
     "execution_count": 25,
     "metadata": {},
     "output_type": "execute_result"
    }
   ],
   "source": [
    "multi_backend_without_active_region_exposure_keys_df = \\\n",
    "    multi_backend_exposure_keys_df[multi_backend_exposure_keys_df.region != report_backend_identifier]\n",
    "multi_backend_without_active_region = \\\n",
    "    multi_backend_without_active_region_exposure_keys_df.groupby(\"region\").key_data.nunique().sort_values().index.unique().tolist()\n",
    "multi_backend_without_active_region"
   ]
  },
  {
   "cell_type": "code",
   "execution_count": 26,
   "metadata": {
    "execution": {
     "iopub.execute_input": "2020-11-12T23:23:02.181008Z",
     "iopub.status.busy": "2020-11-12T23:23:02.180446Z",
     "iopub.status.idle": "2020-11-12T23:23:03.601730Z",
     "shell.execute_reply": "2020-11-12T23:23:03.602416Z"
    },
    "papermill": {
     "duration": 1.511475,
     "end_time": "2020-11-12T23:23:03.602599",
     "exception": false,
     "start_time": "2020-11-12T23:23:02.091124",
     "status": "completed"
    },
    "scrolled": false,
    "tags": []
   },
   "outputs": [
    {
     "name": "stderr",
     "output_type": "stream",
     "text": [
      "/opt/hostedtoolcache/Python/3.8.6/x64/lib/python3.8/site-packages/pandas/core/frame.py:4110: SettingWithCopyWarning: \n",
      "A value is trying to be set on a copy of a slice from a DataFrame\n",
      "\n",
      "See the caveats in the documentation: http://pandas.pydata.org/pandas-docs/stable/user_guide/indexing.html#returning-a-view-versus-a-copy\n",
      "  return super().drop(\n"
     ]
    },
    {
     "data": {
      "text/html": [
       "<div>\n",
       "<style scoped>\n",
       "    .dataframe tbody tr th:only-of-type {\n",
       "        vertical-align: middle;\n",
       "    }\n",
       "\n",
       "    .dataframe tbody tr th {\n",
       "        vertical-align: top;\n",
       "    }\n",
       "\n",
       "    .dataframe thead th {\n",
       "        text-align: right;\n",
       "    }\n",
       "</style>\n",
       "<table border=\"1\" class=\"dataframe\">\n",
       "  <thead>\n",
       "    <tr style=\"text-align: right;\">\n",
       "      <th></th>\n",
       "      <th>shared_teks_by_generation_date</th>\n",
       "    </tr>\n",
       "    <tr>\n",
       "      <th>sample_date_string</th>\n",
       "      <th></th>\n",
       "    </tr>\n",
       "  </thead>\n",
       "  <tbody>\n",
       "    <tr>\n",
       "      <th>2020-11-12</th>\n",
       "      <td>317</td>\n",
       "    </tr>\n",
       "    <tr>\n",
       "      <th>2020-11-11</th>\n",
       "      <td>2484</td>\n",
       "    </tr>\n",
       "    <tr>\n",
       "      <th>2020-11-10</th>\n",
       "      <td>5381</td>\n",
       "    </tr>\n",
       "    <tr>\n",
       "      <th>2020-11-09</th>\n",
       "      <td>7646</td>\n",
       "    </tr>\n",
       "    <tr>\n",
       "      <th>2020-11-08</th>\n",
       "      <td>8848</td>\n",
       "    </tr>\n",
       "  </tbody>\n",
       "</table>\n",
       "</div>"
      ],
      "text/plain": [
       "                    shared_teks_by_generation_date\n",
       "sample_date_string                                \n",
       "2020-11-12                                     317\n",
       "2020-11-11                                    2484\n",
       "2020-11-10                                    5381\n",
       "2020-11-09                                    7646\n",
       "2020-11-08                                    8848"
      ]
     },
     "execution_count": 26,
     "metadata": {},
     "output_type": "execute_result"
    }
   ],
   "source": [
    "exposure_keys_summary_df = multi_backend_exposure_keys_df[\n",
    "    multi_backend_exposure_keys_df.region == report_backend_identifier]\n",
    "exposure_keys_summary_df.drop(columns=[\"region\"], inplace=True)\n",
    "exposure_keys_summary_df = \\\n",
    "    exposure_keys_summary_df.groupby([\"sample_date_string\"]).key_data.nunique().to_frame()\n",
    "exposure_keys_summary_df = \\\n",
    "    exposure_keys_summary_df.reset_index().set_index(\"sample_date_string\")\n",
    "exposure_keys_summary_df.sort_index(ascending=False, inplace=True)\n",
    "exposure_keys_summary_df.rename(columns={\"key_data\": \"shared_teks_by_generation_date\"}, inplace=True)\n",
    "exposure_keys_summary_df.head()"
   ]
  },
  {
   "cell_type": "markdown",
   "metadata": {
    "papermill": {
     "duration": 0.054646,
     "end_time": "2020-11-12T23:23:03.713441",
     "exception": false,
     "start_time": "2020-11-12T23:23:03.658795",
     "status": "completed"
    },
    "tags": []
   },
   "source": [
    "### Dump API TEKs"
   ]
  },
  {
   "cell_type": "code",
   "execution_count": 27,
   "metadata": {
    "execution": {
     "iopub.execute_input": "2020-11-12T23:23:03.827358Z",
     "iopub.status.busy": "2020-11-12T23:23:03.826705Z",
     "iopub.status.idle": "2020-11-12T23:23:06.525711Z",
     "shell.execute_reply": "2020-11-12T23:23:06.526261Z"
    },
    "papermill": {
     "duration": 2.760637,
     "end_time": "2020-11-12T23:23:06.526565",
     "exception": false,
     "start_time": "2020-11-12T23:23:03.765928",
     "status": "completed"
    },
    "tags": []
   },
   "outputs": [
    {
     "data": {
      "text/html": [
       "<div>\n",
       "<style scoped>\n",
       "    .dataframe tbody tr th:only-of-type {\n",
       "        vertical-align: middle;\n",
       "    }\n",
       "\n",
       "    .dataframe tbody tr th {\n",
       "        vertical-align: top;\n",
       "    }\n",
       "\n",
       "    .dataframe thead th {\n",
       "        text-align: right;\n",
       "    }\n",
       "</style>\n",
       "<table border=\"1\" class=\"dataframe\">\n",
       "  <thead>\n",
       "    <tr style=\"text-align: right;\">\n",
       "      <th></th>\n",
       "      <th>sample_date</th>\n",
       "      <th>region</th>\n",
       "      <th>tek_list</th>\n",
       "      <th>extraction_date</th>\n",
       "      <th>extraction_date_with_hour</th>\n",
       "    </tr>\n",
       "  </thead>\n",
       "  <tbody>\n",
       "    <tr>\n",
       "      <th>0</th>\n",
       "      <td>2020-10-30</td>\n",
       "      <td>BE</td>\n",
       "      <td>[008a4624-a2d9-5395-cc88-5efa72c2029e, 0159325...</td>\n",
       "      <td>2020-11-12</td>\n",
       "      <td>2020-11-12@23</td>\n",
       "    </tr>\n",
       "    <tr>\n",
       "      <th>1</th>\n",
       "      <td>2020-10-30</td>\n",
       "      <td>BE@TST</td>\n",
       "      <td>[05586baa-93df-80a7-c596-feb8ecd4d111, 05cadca...</td>\n",
       "      <td>2020-11-12</td>\n",
       "      <td>2020-11-12@23</td>\n",
       "    </tr>\n",
       "    <tr>\n",
       "      <th>2</th>\n",
       "      <td>2020-10-30</td>\n",
       "      <td>CH</td>\n",
       "      <td>[cf3168cf-a25f-a875-811b-a77809d61c62, fb1651b...</td>\n",
       "      <td>2020-11-12</td>\n",
       "      <td>2020-11-12@23</td>\n",
       "    </tr>\n",
       "    <tr>\n",
       "      <th>3</th>\n",
       "      <td>2020-10-30</td>\n",
       "      <td>DE</td>\n",
       "      <td>[002fde4e-85bb-6985-fcb4-b7ae8a3c73fb, 00448eb...</td>\n",
       "      <td>2020-11-12</td>\n",
       "      <td>2020-11-12@23</td>\n",
       "    </tr>\n",
       "    <tr>\n",
       "      <th>4</th>\n",
       "      <td>2020-10-30</td>\n",
       "      <td>DK</td>\n",
       "      <td>[19482592-38e5-90f7-7d67-481d639a18d3, 78949c3...</td>\n",
       "      <td>2020-11-12</td>\n",
       "      <td>2020-11-12@23</td>\n",
       "    </tr>\n",
       "  </tbody>\n",
       "</table>\n",
       "</div>"
      ],
      "text/plain": [
       "  sample_date  region                                           tek_list  \\\n",
       "0  2020-10-30      BE  [008a4624-a2d9-5395-cc88-5efa72c2029e, 0159325...   \n",
       "1  2020-10-30  BE@TST  [05586baa-93df-80a7-c596-feb8ecd4d111, 05cadca...   \n",
       "2  2020-10-30      CH  [cf3168cf-a25f-a875-811b-a77809d61c62, fb1651b...   \n",
       "3  2020-10-30      DE  [002fde4e-85bb-6985-fcb4-b7ae8a3c73fb, 00448eb...   \n",
       "4  2020-10-30      DK  [19482592-38e5-90f7-7d67-481d639a18d3, 78949c3...   \n",
       "\n",
       "  extraction_date extraction_date_with_hour  \n",
       "0      2020-11-12             2020-11-12@23  \n",
       "1      2020-11-12             2020-11-12@23  \n",
       "2      2020-11-12             2020-11-12@23  \n",
       "3      2020-11-12             2020-11-12@23  \n",
       "4      2020-11-12             2020-11-12@23  "
      ]
     },
     "execution_count": 27,
     "metadata": {},
     "output_type": "execute_result"
    }
   ],
   "source": [
    "tek_list_df = multi_backend_exposure_keys_df[\n",
    "    [\"sample_date_string\", \"region\", \"key_data\"]].copy()\n",
    "tek_list_df[\"key_data\"] = tek_list_df[\"key_data\"].apply(str)\n",
    "tek_list_df.rename(columns={\n",
    "    \"sample_date_string\": \"sample_date\",\n",
    "    \"key_data\": \"tek_list\"}, inplace=True)\n",
    "tek_list_df = tek_list_df.groupby(\n",
    "    [\"sample_date\", \"region\"]).tek_list.unique().reset_index()\n",
    "tek_list_df[\"extraction_date\"] = extraction_date\n",
    "tek_list_df[\"extraction_date_with_hour\"] = extraction_date_with_hour\n",
    "\n",
    "tek_list_path_prefix = \"Data/TEKs/\"\n",
    "tek_list_current_path = tek_list_path_prefix + f\"/Current/RadarCOVID-TEKs.json\"\n",
    "tek_list_daily_path = tek_list_path_prefix + f\"Daily/RadarCOVID-TEKs-{extraction_date}.json\"\n",
    "tek_list_hourly_path = tek_list_path_prefix + f\"Hourly/RadarCOVID-TEKs-{extraction_date_with_hour}.json\"\n",
    "\n",
    "for path in [tek_list_current_path, tek_list_daily_path, tek_list_hourly_path]:\n",
    "    os.makedirs(os.path.dirname(path), exist_ok=True)\n",
    "\n",
    "tek_list_df.drop(columns=[\"extraction_date\", \"extraction_date_with_hour\"]).to_json(\n",
    "    tek_list_current_path,\n",
    "    lines=True, orient=\"records\")\n",
    "tek_list_df.drop(columns=[\"extraction_date_with_hour\"]).to_json(\n",
    "    tek_list_daily_path,\n",
    "    lines=True, orient=\"records\")\n",
    "tek_list_df.to_json(\n",
    "    tek_list_hourly_path,\n",
    "    lines=True, orient=\"records\")\n",
    "tek_list_df.head()"
   ]
  },
  {
   "cell_type": "markdown",
   "metadata": {
    "papermill": {
     "duration": 0.052333,
     "end_time": "2020-11-12T23:23:06.633100",
     "exception": false,
     "start_time": "2020-11-12T23:23:06.580767",
     "status": "completed"
    },
    "tags": []
   },
   "source": [
    "### Load TEK Dumps"
   ]
  },
  {
   "cell_type": "code",
   "execution_count": 28,
   "metadata": {
    "execution": {
     "iopub.execute_input": "2020-11-12T23:23:06.746269Z",
     "iopub.status.busy": "2020-11-12T23:23:06.745565Z",
     "iopub.status.idle": "2020-11-12T23:23:06.749033Z",
     "shell.execute_reply": "2020-11-12T23:23:06.749505Z"
    },
    "papermill": {
     "duration": 0.064516,
     "end_time": "2020-11-12T23:23:06.749663",
     "exception": false,
     "start_time": "2020-11-12T23:23:06.685147",
     "status": "completed"
    },
    "tags": []
   },
   "outputs": [],
   "source": [
    "import glob\n",
    "\n",
    "def load_extracted_teks(mode, region=None, limit=None) -> pd.DataFrame:\n",
    "    extracted_teks_df = pd.DataFrame(columns=[\"region\"])\n",
    "    file_paths = list(reversed(sorted(glob.glob(tek_list_path_prefix + mode + \"/RadarCOVID-TEKs-*.json\"))))\n",
    "    if limit:\n",
    "        file_paths = file_paths[:limit]\n",
    "    for file_path in file_paths:\n",
    "        logging.info(f\"Loading TEKs from '{file_path}'...\")\n",
    "        iteration_extracted_teks_df = pd.read_json(file_path, lines=True)\n",
    "        extracted_teks_df = extracted_teks_df.append(\n",
    "            iteration_extracted_teks_df, sort=False)\n",
    "    extracted_teks_df[\"region\"] = \\\n",
    "        extracted_teks_df.region.fillna(spain_region_country_code).copy()\n",
    "    if region:\n",
    "        extracted_teks_df = \\\n",
    "            extracted_teks_df[extracted_teks_df.region == region]\n",
    "    return extracted_teks_df"
   ]
  },
  {
   "cell_type": "code",
   "execution_count": 29,
   "metadata": {
    "collapsed": false,
    "execution": {
     "iopub.execute_input": "2020-11-12T23:23:06.880560Z",
     "iopub.status.busy": "2020-11-12T23:23:06.879970Z",
     "iopub.status.idle": "2020-11-12T23:23:10.801464Z",
     "shell.execute_reply": "2020-11-12T23:23:10.802282Z"
    },
    "papermill": {
     "duration": 3.980116,
     "end_time": "2020-11-12T23:23:10.802459",
     "exception": false,
     "start_time": "2020-11-12T23:23:06.822343",
     "status": "completed"
    },
    "pycharm": {
     "name": "#%%\n"
    },
    "tags": []
   },
   "outputs": [
    {
     "data": {
      "text/html": [
       "<div>\n",
       "<style scoped>\n",
       "    .dataframe tbody tr th:only-of-type {\n",
       "        vertical-align: middle;\n",
       "    }\n",
       "\n",
       "    .dataframe tbody tr th {\n",
       "        vertical-align: top;\n",
       "    }\n",
       "\n",
       "    .dataframe thead th {\n",
       "        text-align: right;\n",
       "    }\n",
       "</style>\n",
       "<table border=\"1\" class=\"dataframe\">\n",
       "  <thead>\n",
       "    <tr style=\"text-align: right;\">\n",
       "      <th></th>\n",
       "      <th>region</th>\n",
       "      <th>sample_date</th>\n",
       "      <th>tek_list</th>\n",
       "      <th>extraction_date</th>\n",
       "      <th>extraction_date_with_hour</th>\n",
       "    </tr>\n",
       "  </thead>\n",
       "  <tbody>\n",
       "    <tr>\n",
       "      <th>6</th>\n",
       "      <td>ES</td>\n",
       "      <td>2020-10-30</td>\n",
       "      <td>[6550824f-f8b1-0ab4-1892-370a26d891a1, a76125f...</td>\n",
       "      <td>2020-11-12</td>\n",
       "      <td>NaN</td>\n",
       "    </tr>\n",
       "    <tr>\n",
       "      <th>17</th>\n",
       "      <td>ES</td>\n",
       "      <td>2020-10-31</td>\n",
       "      <td>[a87f5649-482c-851c-1e11-48a84b767374, 89968a1...</td>\n",
       "      <td>2020-11-12</td>\n",
       "      <td>NaN</td>\n",
       "    </tr>\n",
       "    <tr>\n",
       "      <th>28</th>\n",
       "      <td>ES</td>\n",
       "      <td>2020-11-01</td>\n",
       "      <td>[7237eec7-6f1f-a71e-60a1-a55286967f1d, 34fff93...</td>\n",
       "      <td>2020-11-12</td>\n",
       "      <td>NaN</td>\n",
       "    </tr>\n",
       "    <tr>\n",
       "      <th>39</th>\n",
       "      <td>ES</td>\n",
       "      <td>2020-11-02</td>\n",
       "      <td>[1462036c-4915-7f4c-3f54-ccfe876e132f, d652c0a...</td>\n",
       "      <td>2020-11-12</td>\n",
       "      <td>NaN</td>\n",
       "    </tr>\n",
       "    <tr>\n",
       "      <th>50</th>\n",
       "      <td>ES</td>\n",
       "      <td>2020-11-03</td>\n",
       "      <td>[90b97bac-b73b-0312-3a96-201bac65c3e2, 55e6868...</td>\n",
       "      <td>2020-11-12</td>\n",
       "      <td>NaN</td>\n",
       "    </tr>\n",
       "  </tbody>\n",
       "</table>\n",
       "</div>"
      ],
      "text/plain": [
       "   region sample_date                                           tek_list  \\\n",
       "6      ES  2020-10-30  [6550824f-f8b1-0ab4-1892-370a26d891a1, a76125f...   \n",
       "17     ES  2020-10-31  [a87f5649-482c-851c-1e11-48a84b767374, 89968a1...   \n",
       "28     ES  2020-11-01  [7237eec7-6f1f-a71e-60a1-a55286967f1d, 34fff93...   \n",
       "39     ES  2020-11-02  [1462036c-4915-7f4c-3f54-ccfe876e132f, d652c0a...   \n",
       "50     ES  2020-11-03  [90b97bac-b73b-0312-3a96-201bac65c3e2, 55e6868...   \n",
       "\n",
       "   extraction_date extraction_date_with_hour  \n",
       "6       2020-11-12                       NaN  \n",
       "17      2020-11-12                       NaN  \n",
       "28      2020-11-12                       NaN  \n",
       "39      2020-11-12                       NaN  \n",
       "50      2020-11-12                       NaN  "
      ]
     },
     "execution_count": 29,
     "metadata": {},
     "output_type": "execute_result"
    }
   ],
   "source": [
    "daily_extracted_teks_df = load_extracted_teks(\n",
    "    mode=\"Daily\",\n",
    "    region=report_backend_identifier,\n",
    "    limit=tek_dumps_load_limit)\n",
    "daily_extracted_teks_df.head()"
   ]
  },
  {
   "cell_type": "code",
   "execution_count": 30,
   "metadata": {
    "collapsed": false,
    "execution": {
     "iopub.execute_input": "2020-11-12T23:23:10.923640Z",
     "iopub.status.busy": "2020-11-12T23:23:10.912251Z",
     "iopub.status.idle": "2020-11-12T23:23:10.926921Z",
     "shell.execute_reply": "2020-11-12T23:23:10.927454Z"
    },
    "papermill": {
     "duration": 0.070407,
     "end_time": "2020-11-12T23:23:10.927610",
     "exception": false,
     "start_time": "2020-11-12T23:23:10.857203",
     "status": "completed"
    },
    "pycharm": {
     "name": "#%%\n"
    },
    "tags": []
   },
   "outputs": [
    {
     "data": {
      "text/html": [
       "<div>\n",
       "<style scoped>\n",
       "    .dataframe tbody tr th:only-of-type {\n",
       "        vertical-align: middle;\n",
       "    }\n",
       "\n",
       "    .dataframe tbody tr th {\n",
       "        vertical-align: top;\n",
       "    }\n",
       "\n",
       "    .dataframe thead th {\n",
       "        text-align: right;\n",
       "    }\n",
       "</style>\n",
       "<table border=\"1\" class=\"dataframe\">\n",
       "  <thead>\n",
       "    <tr style=\"text-align: right;\">\n",
       "      <th></th>\n",
       "      <th>shared_teks_by_generation_date</th>\n",
       "    </tr>\n",
       "    <tr>\n",
       "      <th>sample_date_string</th>\n",
       "      <th></th>\n",
       "    </tr>\n",
       "  </thead>\n",
       "  <tbody>\n",
       "    <tr>\n",
       "      <th>2020-11-12</th>\n",
       "      <td>317</td>\n",
       "    </tr>\n",
       "    <tr>\n",
       "      <th>2020-11-11</th>\n",
       "      <td>2484</td>\n",
       "    </tr>\n",
       "    <tr>\n",
       "      <th>2020-11-10</th>\n",
       "      <td>5381</td>\n",
       "    </tr>\n",
       "    <tr>\n",
       "      <th>2020-11-09</th>\n",
       "      <td>7646</td>\n",
       "    </tr>\n",
       "    <tr>\n",
       "      <th>2020-11-08</th>\n",
       "      <td>8848</td>\n",
       "    </tr>\n",
       "  </tbody>\n",
       "</table>\n",
       "</div>"
      ],
      "text/plain": [
       "                    shared_teks_by_generation_date\n",
       "sample_date_string                                \n",
       "2020-11-12                                     317\n",
       "2020-11-11                                    2484\n",
       "2020-11-10                                    5381\n",
       "2020-11-09                                    7646\n",
       "2020-11-08                                    8848"
      ]
     },
     "execution_count": 30,
     "metadata": {},
     "output_type": "execute_result"
    }
   ],
   "source": [
    "exposure_keys_summary_df_ = daily_extracted_teks_df \\\n",
    "    .sort_values(\"extraction_date\", ascending=False) \\\n",
    "    .groupby(\"sample_date\").tek_list.first() \\\n",
    "    .to_frame()\n",
    "exposure_keys_summary_df_.index.name = \"sample_date_string\"\n",
    "exposure_keys_summary_df_[\"tek_list\"] = \\\n",
    "    exposure_keys_summary_df_.tek_list.apply(len)\n",
    "exposure_keys_summary_df_ = exposure_keys_summary_df_ \\\n",
    "    .rename(columns={\"tek_list\": \"shared_teks_by_generation_date\"}) \\\n",
    "    .sort_index(ascending=False)\n",
    "exposure_keys_summary_df = exposure_keys_summary_df_\n",
    "exposure_keys_summary_df.head()"
   ]
  },
  {
   "cell_type": "markdown",
   "metadata": {
    "execution": {
     "iopub.execute_input": "2020-08-30T22:30:16.632967Z",
     "iopub.status.busy": "2020-08-30T22:30:16.632308Z",
     "iopub.status.idle": "2020-08-30T22:30:16.634945Z",
     "shell.execute_reply": "2020-08-30T22:30:16.635575Z"
    },
    "papermill": {
     "duration": 0.062432,
     "end_time": "2020-11-12T23:23:11.042046",
     "exception": false,
     "start_time": "2020-11-12T23:23:10.979614",
     "status": "completed"
    },
    "pycharm": {
     "name": "#%% md\n"
    },
    "tags": []
   },
   "source": [
    "### Daily New TEKs"
   ]
  },
  {
   "cell_type": "code",
   "execution_count": 31,
   "metadata": {
    "execution": {
     "iopub.execute_input": "2020-11-12T23:23:11.163501Z",
     "iopub.status.busy": "2020-11-12T23:23:11.162870Z",
     "iopub.status.idle": "2020-11-12T23:23:11.647315Z",
     "shell.execute_reply": "2020-11-12T23:23:11.647800Z"
    },
    "papermill": {
     "duration": 0.54861,
     "end_time": "2020-11-12T23:23:11.647978",
     "exception": false,
     "start_time": "2020-11-12T23:23:11.099368",
     "status": "completed"
    },
    "tags": []
   },
   "outputs": [
    {
     "data": {
      "text/html": [
       "<div>\n",
       "<style scoped>\n",
       "    .dataframe tbody tr th:only-of-type {\n",
       "        vertical-align: middle;\n",
       "    }\n",
       "\n",
       "    .dataframe tbody tr th {\n",
       "        vertical-align: top;\n",
       "    }\n",
       "\n",
       "    .dataframe thead th {\n",
       "        text-align: right;\n",
       "    }\n",
       "</style>\n",
       "<table border=\"1\" class=\"dataframe\">\n",
       "  <thead>\n",
       "    <tr style=\"text-align: right;\">\n",
       "      <th></th>\n",
       "      <th>tek_list</th>\n",
       "    </tr>\n",
       "    <tr>\n",
       "      <th>extraction_date</th>\n",
       "      <th></th>\n",
       "    </tr>\n",
       "  </thead>\n",
       "  <tbody>\n",
       "    <tr>\n",
       "      <th>2020-08-29</th>\n",
       "      <td>{30ddd8ea-3f39-5de5-d223-49a1590a4683, 1b54bb4...</td>\n",
       "    </tr>\n",
       "    <tr>\n",
       "      <th>2020-08-30</th>\n",
       "      <td>{30ddd8ea-3f39-5de5-d223-49a1590a4683, 1b54bb4...</td>\n",
       "    </tr>\n",
       "    <tr>\n",
       "      <th>2020-08-31</th>\n",
       "      <td>{30ddd8ea-3f39-5de5-d223-49a1590a4683, 1b54bb4...</td>\n",
       "    </tr>\n",
       "    <tr>\n",
       "      <th>2020-09-01</th>\n",
       "      <td>{30ddd8ea-3f39-5de5-d223-49a1590a4683, 1b54bb4...</td>\n",
       "    </tr>\n",
       "    <tr>\n",
       "      <th>2020-09-02</th>\n",
       "      <td>{30ddd8ea-3f39-5de5-d223-49a1590a4683, 1b54bb4...</td>\n",
       "    </tr>\n",
       "  </tbody>\n",
       "</table>\n",
       "</div>"
      ],
      "text/plain": [
       "                                                          tek_list\n",
       "extraction_date                                                   \n",
       "2020-08-29       {30ddd8ea-3f39-5de5-d223-49a1590a4683, 1b54bb4...\n",
       "2020-08-30       {30ddd8ea-3f39-5de5-d223-49a1590a4683, 1b54bb4...\n",
       "2020-08-31       {30ddd8ea-3f39-5de5-d223-49a1590a4683, 1b54bb4...\n",
       "2020-09-01       {30ddd8ea-3f39-5de5-d223-49a1590a4683, 1b54bb4...\n",
       "2020-09-02       {30ddd8ea-3f39-5de5-d223-49a1590a4683, 1b54bb4..."
      ]
     },
     "execution_count": 31,
     "metadata": {},
     "output_type": "execute_result"
    }
   ],
   "source": [
    "tek_list_df = daily_extracted_teks_df.groupby(\"extraction_date\").tek_list.apply(\n",
    "    lambda x: set(sum(x, []))).reset_index()\n",
    "tek_list_df = tek_list_df.set_index(\"extraction_date\").sort_index(ascending=True)\n",
    "tek_list_df.head()"
   ]
  },
  {
   "cell_type": "code",
   "execution_count": 32,
   "metadata": {
    "collapsed": false,
    "execution": {
     "iopub.execute_input": "2020-11-12T23:23:11.761921Z",
     "iopub.status.busy": "2020-11-12T23:23:11.761335Z",
     "iopub.status.idle": "2020-11-12T23:23:33.169649Z",
     "shell.execute_reply": "2020-11-12T23:23:33.170374Z"
    },
    "papermill": {
     "duration": 21.468067,
     "end_time": "2020-11-12T23:23:33.170619",
     "exception": false,
     "start_time": "2020-11-12T23:23:11.702552",
     "status": "completed"
    },
    "pycharm": {
     "name": "#%%\n"
    },
    "tags": []
   },
   "outputs": [
    {
     "name": "stderr",
     "output_type": "stream",
     "text": [
      "<ipython-input-32-827222b35590>:4: FutureWarning: `item` has been deprecated and will be removed in a future version\n",
      "  day_new_teks_set = day_new_teks_set_df[\n"
     ]
    },
    {
     "data": {
      "text/html": [
       "<div>\n",
       "<style scoped>\n",
       "    .dataframe tbody tr th:only-of-type {\n",
       "        vertical-align: middle;\n",
       "    }\n",
       "\n",
       "    .dataframe tbody tr th {\n",
       "        vertical-align: top;\n",
       "    }\n",
       "\n",
       "    .dataframe thead th {\n",
       "        text-align: right;\n",
       "    }\n",
       "</style>\n",
       "<table border=\"1\" class=\"dataframe\">\n",
       "  <thead>\n",
       "    <tr style=\"text-align: right;\">\n",
       "      <th></th>\n",
       "      <th>upload_date</th>\n",
       "      <th>generation_date</th>\n",
       "      <th>shared_teks</th>\n",
       "      <th>generation_to_upload_days</th>\n",
       "    </tr>\n",
       "  </thead>\n",
       "  <tbody>\n",
       "    <tr>\n",
       "      <th>10</th>\n",
       "      <td>2020-08-30</td>\n",
       "      <td>2020-08-29</td>\n",
       "      <td>16</td>\n",
       "      <td>1</td>\n",
       "    </tr>\n",
       "    <tr>\n",
       "      <th>9</th>\n",
       "      <td>2020-08-30</td>\n",
       "      <td>2020-08-28</td>\n",
       "      <td>5</td>\n",
       "      <td>2</td>\n",
       "    </tr>\n",
       "    <tr>\n",
       "      <th>8</th>\n",
       "      <td>2020-08-30</td>\n",
       "      <td>2020-08-27</td>\n",
       "      <td>3</td>\n",
       "      <td>3</td>\n",
       "    </tr>\n",
       "    <tr>\n",
       "      <th>7</th>\n",
       "      <td>2020-08-30</td>\n",
       "      <td>2020-08-26</td>\n",
       "      <td>3</td>\n",
       "      <td>4</td>\n",
       "    </tr>\n",
       "    <tr>\n",
       "      <th>6</th>\n",
       "      <td>2020-08-30</td>\n",
       "      <td>2020-08-25</td>\n",
       "      <td>2</td>\n",
       "      <td>5</td>\n",
       "    </tr>\n",
       "  </tbody>\n",
       "</table>\n",
       "</div>"
      ],
      "text/plain": [
       "   upload_date generation_date  shared_teks  generation_to_upload_days\n",
       "10  2020-08-30      2020-08-29           16                          1\n",
       "9   2020-08-30      2020-08-28            5                          2\n",
       "8   2020-08-30      2020-08-27            3                          3\n",
       "7   2020-08-30      2020-08-26            3                          4\n",
       "6   2020-08-30      2020-08-25            2                          5"
      ]
     },
     "execution_count": 32,
     "metadata": {},
     "output_type": "execute_result"
    }
   ],
   "source": [
    "def compute_teks_by_generation_and_upload_date(date):\n",
    "    day_new_teks_set_df = tek_list_df.copy().diff()\n",
    "    try:\n",
    "        day_new_teks_set = day_new_teks_set_df[\n",
    "            day_new_teks_set_df.index == date].tek_list.item()\n",
    "    except ValueError:\n",
    "        day_new_teks_set = None\n",
    "    if pd.isna(day_new_teks_set):\n",
    "        day_new_teks_set = set()\n",
    "    day_new_teks_df = daily_extracted_teks_df[\n",
    "        daily_extracted_teks_df.extraction_date == date].copy()\n",
    "    day_new_teks_df[\"shared_teks\"] = \\\n",
    "        day_new_teks_df.tek_list.apply(lambda x: set(x).intersection(day_new_teks_set))\n",
    "    day_new_teks_df[\"shared_teks\"] = \\\n",
    "        day_new_teks_df.shared_teks.apply(len)\n",
    "    day_new_teks_df[\"upload_date\"] = date\n",
    "    day_new_teks_df.rename(columns={\"sample_date\": \"generation_date\"}, inplace=True)\n",
    "    day_new_teks_df = day_new_teks_df[\n",
    "        [\"upload_date\", \"generation_date\", \"shared_teks\"]]\n",
    "    day_new_teks_df[\"generation_to_upload_days\"] = \\\n",
    "        (pd.to_datetime(day_new_teks_df.upload_date) -\n",
    "         pd.to_datetime(day_new_teks_df.generation_date)).dt.days\n",
    "    day_new_teks_df = day_new_teks_df[day_new_teks_df.shared_teks > 0]\n",
    "    return day_new_teks_df\n",
    "\n",
    "shared_teks_generation_to_upload_df = pd.DataFrame()\n",
    "for upload_date in daily_extracted_teks_df.extraction_date.unique():\n",
    "    shared_teks_generation_to_upload_df = \\\n",
    "        shared_teks_generation_to_upload_df.append(\n",
    "            compute_teks_by_generation_and_upload_date(date=upload_date))\n",
    "shared_teks_generation_to_upload_df \\\n",
    "    .sort_values([\"upload_date\", \"generation_date\"], ascending=False, inplace=True)\n",
    "shared_teks_generation_to_upload_df.tail()"
   ]
  },
  {
   "cell_type": "code",
   "execution_count": 33,
   "metadata": {
    "collapsed": false,
    "execution": {
     "iopub.execute_input": "2020-11-12T23:23:33.317631Z",
     "iopub.status.busy": "2020-11-12T23:23:33.312374Z",
     "iopub.status.idle": "2020-11-12T23:23:33.320841Z",
     "shell.execute_reply": "2020-11-12T23:23:33.321299Z"
    },
    "papermill": {
     "duration": 0.080925,
     "end_time": "2020-11-12T23:23:33.321451",
     "exception": false,
     "start_time": "2020-11-12T23:23:33.240526",
     "status": "completed"
    },
    "pycharm": {
     "name": "#%%\n"
    },
    "tags": []
   },
   "outputs": [
    {
     "data": {
      "text/html": [
       "<div>\n",
       "<style scoped>\n",
       "    .dataframe tbody tr th:only-of-type {\n",
       "        vertical-align: middle;\n",
       "    }\n",
       "\n",
       "    .dataframe tbody tr th {\n",
       "        vertical-align: top;\n",
       "    }\n",
       "\n",
       "    .dataframe thead th {\n",
       "        text-align: right;\n",
       "    }\n",
       "</style>\n",
       "<table border=\"1\" class=\"dataframe\">\n",
       "  <thead>\n",
       "    <tr style=\"text-align: right;\">\n",
       "      <th></th>\n",
       "      <th>upload_date</th>\n",
       "      <th>generation_date</th>\n",
       "      <th>shared_teks</th>\n",
       "      <th>generation_to_upload_days</th>\n",
       "    </tr>\n",
       "  </thead>\n",
       "  <tbody>\n",
       "    <tr>\n",
       "      <th>50</th>\n",
       "      <td>2020-11-12</td>\n",
       "      <td>2020-11-03</td>\n",
       "      <td>2236</td>\n",
       "      <td>9</td>\n",
       "    </tr>\n",
       "    <tr>\n",
       "      <th>39</th>\n",
       "      <td>2020-11-12</td>\n",
       "      <td>2020-11-02</td>\n",
       "      <td>2183</td>\n",
       "      <td>10</td>\n",
       "    </tr>\n",
       "    <tr>\n",
       "      <th>28</th>\n",
       "      <td>2020-11-12</td>\n",
       "      <td>2020-11-01</td>\n",
       "      <td>2113</td>\n",
       "      <td>11</td>\n",
       "    </tr>\n",
       "    <tr>\n",
       "      <th>17</th>\n",
       "      <td>2020-11-12</td>\n",
       "      <td>2020-10-31</td>\n",
       "      <td>2074</td>\n",
       "      <td>12</td>\n",
       "    </tr>\n",
       "    <tr>\n",
       "      <th>6</th>\n",
       "      <td>2020-11-12</td>\n",
       "      <td>2020-10-30</td>\n",
       "      <td>2039</td>\n",
       "      <td>13</td>\n",
       "    </tr>\n",
       "  </tbody>\n",
       "</table>\n",
       "</div>"
      ],
      "text/plain": [
       "   upload_date generation_date  shared_teks  generation_to_upload_days\n",
       "50  2020-11-12      2020-11-03         2236                          9\n",
       "39  2020-11-12      2020-11-02         2183                         10\n",
       "28  2020-11-12      2020-11-01         2113                         11\n",
       "17  2020-11-12      2020-10-31         2074                         12\n",
       "6   2020-11-12      2020-10-30         2039                         13"
      ]
     },
     "execution_count": 33,
     "metadata": {},
     "output_type": "execute_result"
    }
   ],
   "source": [
    "today_new_teks_df = \\\n",
    "    shared_teks_generation_to_upload_df[\n",
    "        shared_teks_generation_to_upload_df.upload_date == extraction_date].copy()\n",
    "today_new_teks_df.tail()"
   ]
  },
  {
   "cell_type": "code",
   "execution_count": 34,
   "metadata": {
    "collapsed": false,
    "execution": {
     "iopub.execute_input": "2020-11-12T23:23:33.441145Z",
     "iopub.status.busy": "2020-11-12T23:23:33.440539Z",
     "iopub.status.idle": "2020-11-12T23:23:33.825336Z",
     "shell.execute_reply": "2020-11-12T23:23:33.824776Z"
    },
    "papermill": {
     "duration": 0.446681,
     "end_time": "2020-11-12T23:23:33.825482",
     "exception": false,
     "start_time": "2020-11-12T23:23:33.378801",
     "status": "completed"
    },
    "pycharm": {
     "name": "#%%\n"
    },
    "tags": []
   },
   "outputs": [
    {
     "data": {
      "image/png": "[encoded data removed]",
      "text/plain": [
       "<Figure size 1080x432 with 1 Axes>"
      ]
     },
     "metadata": {},
     "output_type": "display_data"
    }
   ],
   "source": [
    "if not today_new_teks_df.empty:\n",
    "    today_new_teks_df.set_index(\"generation_to_upload_days\") \\\n",
    "        .sort_index().shared_teks.plot.bar()"
   ]
  },
  {
   "cell_type": "code",
   "execution_count": 35,
   "metadata": {
    "collapsed": false,
    "execution": {
     "iopub.execute_input": "2020-11-12T23:23:33.944286Z",
     "iopub.status.busy": "2020-11-12T23:23:33.943670Z",
     "iopub.status.idle": "2020-11-12T23:23:33.960473Z",
     "shell.execute_reply": "2020-11-12T23:23:33.961036Z"
    },
    "papermill": {
     "duration": 0.079136,
     "end_time": "2020-11-12T23:23:33.961183",
     "exception": false,
     "start_time": "2020-11-12T23:23:33.882047",
     "status": "completed"
    },
    "pycharm": {
     "name": "#%%\n"
    },
    "tags": []
   },
   "outputs": [
    {
     "data": {
      "text/html": [
       "<div>\n",
       "<style scoped>\n",
       "    .dataframe tbody tr th:only-of-type {\n",
       "        vertical-align: middle;\n",
       "    }\n",
       "\n",
       "    .dataframe tbody tr th {\n",
       "        vertical-align: top;\n",
       "    }\n",
       "\n",
       "    .dataframe thead th {\n",
       "        text-align: right;\n",
       "    }\n",
       "</style>\n",
       "<table border=\"1\" class=\"dataframe\">\n",
       "  <thead>\n",
       "    <tr style=\"text-align: right;\">\n",
       "      <th>generation_to_upload_days</th>\n",
       "      <th>0</th>\n",
       "      <th>1</th>\n",
       "      <th>2</th>\n",
       "      <th>3</th>\n",
       "      <th>4</th>\n",
       "      <th>5</th>\n",
       "      <th>6</th>\n",
       "      <th>7</th>\n",
       "      <th>8</th>\n",
       "      <th>9</th>\n",
       "      <th>10</th>\n",
       "      <th>11</th>\n",
       "      <th>12</th>\n",
       "      <th>13</th>\n",
       "    </tr>\n",
       "    <tr>\n",
       "      <th>upload_date</th>\n",
       "      <th></th>\n",
       "      <th></th>\n",
       "      <th></th>\n",
       "      <th></th>\n",
       "      <th></th>\n",
       "      <th></th>\n",
       "      <th></th>\n",
       "      <th></th>\n",
       "      <th></th>\n",
       "      <th></th>\n",
       "      <th></th>\n",
       "      <th></th>\n",
       "      <th></th>\n",
       "      <th></th>\n",
       "    </tr>\n",
       "  </thead>\n",
       "  <tbody>\n",
       "    <tr>\n",
       "      <th>2020-11-12</th>\n",
       "      <td>317</td>\n",
       "      <td>2184</td>\n",
       "      <td>3205</td>\n",
       "      <td>2915</td>\n",
       "      <td>2701</td>\n",
       "      <td>2606</td>\n",
       "      <td>2490</td>\n",
       "      <td>2410</td>\n",
       "      <td>2319</td>\n",
       "      <td>2236</td>\n",
       "      <td>2183</td>\n",
       "      <td>2113</td>\n",
       "      <td>2074</td>\n",
       "      <td>2039</td>\n",
       "    </tr>\n",
       "    <tr>\n",
       "      <th>2020-11-11</th>\n",
       "      <td>300</td>\n",
       "      <td>1884</td>\n",
       "      <td>3029</td>\n",
       "      <td>2726</td>\n",
       "      <td>2628</td>\n",
       "      <td>2523</td>\n",
       "      <td>2420</td>\n",
       "      <td>2318</td>\n",
       "      <td>2240</td>\n",
       "      <td>2172</td>\n",
       "      <td>2116</td>\n",
       "      <td>2072</td>\n",
       "      <td>2027</td>\n",
       "      <td>1990</td>\n",
       "    </tr>\n",
       "    <tr>\n",
       "      <th>2020-11-10</th>\n",
       "      <td>292</td>\n",
       "      <td>1466</td>\n",
       "      <td>2086</td>\n",
       "      <td>2003</td>\n",
       "      <td>1908</td>\n",
       "      <td>1781</td>\n",
       "      <td>1667</td>\n",
       "      <td>1569</td>\n",
       "      <td>1505</td>\n",
       "      <td>1455</td>\n",
       "      <td>1409</td>\n",
       "      <td>1374</td>\n",
       "      <td>1350</td>\n",
       "      <td>1298</td>\n",
       "    </tr>\n",
       "    <tr>\n",
       "      <th>2020-11-09</th>\n",
       "      <td>236</td>\n",
       "      <td>1126</td>\n",
       "      <td>1683</td>\n",
       "      <td>1602</td>\n",
       "      <td>1480</td>\n",
       "      <td>1384</td>\n",
       "      <td>1285</td>\n",
       "      <td>1215</td>\n",
       "      <td>1168</td>\n",
       "      <td>1127</td>\n",
       "      <td>1108</td>\n",
       "      <td>1059</td>\n",
       "      <td>1034</td>\n",
       "      <td>1010</td>\n",
       "    </tr>\n",
       "    <tr>\n",
       "      <th>2020-11-08</th>\n",
       "      <td>209</td>\n",
       "      <td>929</td>\n",
       "      <td>1809</td>\n",
       "      <td>1640</td>\n",
       "      <td>1502</td>\n",
       "      <td>1394</td>\n",
       "      <td>1315</td>\n",
       "      <td>1247</td>\n",
       "      <td>1202</td>\n",
       "      <td>1167</td>\n",
       "      <td>1141</td>\n",
       "      <td>1119</td>\n",
       "      <td>1081</td>\n",
       "      <td>1061</td>\n",
       "    </tr>\n",
       "  </tbody>\n",
       "</table>\n",
       "</div>"
      ],
      "text/plain": [
       "generation_to_upload_days   0     1     2     3     4     5     6     7   \\\n",
       "upload_date                                                                \n",
       "2020-11-12                 317  2184  3205  2915  2701  2606  2490  2410   \n",
       "2020-11-11                 300  1884  3029  2726  2628  2523  2420  2318   \n",
       "2020-11-10                 292  1466  2086  2003  1908  1781  1667  1569   \n",
       "2020-11-09                 236  1126  1683  1602  1480  1384  1285  1215   \n",
       "2020-11-08                 209   929  1809  1640  1502  1394  1315  1247   \n",
       "\n",
       "generation_to_upload_days    8     9     10    11    12    13  \n",
       "upload_date                                                    \n",
       "2020-11-12                 2319  2236  2183  2113  2074  2039  \n",
       "2020-11-11                 2240  2172  2116  2072  2027  1990  \n",
       "2020-11-10                 1505  1455  1409  1374  1350  1298  \n",
       "2020-11-09                 1168  1127  1108  1059  1034  1010  \n",
       "2020-11-08                 1202  1167  1141  1119  1081  1061  "
      ]
     },
     "execution_count": 35,
     "metadata": {},
     "output_type": "execute_result"
    }
   ],
   "source": [
    "generation_to_upload_period_pivot_df = \\\n",
    "    shared_teks_generation_to_upload_df[\n",
    "        [\"upload_date\", \"generation_to_upload_days\", \"shared_teks\"]] \\\n",
    "        .pivot(index=\"upload_date\", columns=\"generation_to_upload_days\") \\\n",
    "        .sort_index(ascending=False).fillna(0).astype(int) \\\n",
    "        .droplevel(level=0, axis=1)\n",
    "generation_to_upload_period_pivot_df.head()"
   ]
  },
  {
   "cell_type": "code",
   "execution_count": 36,
   "metadata": {
    "collapsed": false,
    "execution": {
     "iopub.execute_input": "2020-11-12T23:23:34.358794Z",
     "iopub.status.busy": "2020-11-12T23:23:34.358139Z",
     "iopub.status.idle": "2020-11-12T23:23:34.364410Z",
     "shell.execute_reply": "2020-11-12T23:23:34.363948Z"
    },
    "papermill": {
     "duration": 0.347235,
     "end_time": "2020-11-12T23:23:34.364546",
     "exception": false,
     "start_time": "2020-11-12T23:23:34.017311",
     "status": "completed"
    },
    "pycharm": {
     "name": "#%%\n"
    },
    "tags": []
   },
   "outputs": [
    {
     "data": {
      "text/html": [
       "<div>\n",
       "<style scoped>\n",
       "    .dataframe tbody tr th:only-of-type {\n",
       "        vertical-align: middle;\n",
       "    }\n",
       "\n",
       "    .dataframe tbody tr th {\n",
       "        vertical-align: top;\n",
       "    }\n",
       "\n",
       "    .dataframe thead th {\n",
       "        text-align: right;\n",
       "    }\n",
       "</style>\n",
       "<table border=\"1\" class=\"dataframe\">\n",
       "  <thead>\n",
       "    <tr style=\"text-align: right;\">\n",
       "      <th></th>\n",
       "      <th>sample_date_string</th>\n",
       "      <th>shared_teks_by_upload_date</th>\n",
       "    </tr>\n",
       "  </thead>\n",
       "  <tbody>\n",
       "    <tr>\n",
       "      <th>71</th>\n",
       "      <td>2020-11-08</td>\n",
       "      <td>16816.0</td>\n",
       "    </tr>\n",
       "    <tr>\n",
       "      <th>72</th>\n",
       "      <td>2020-11-09</td>\n",
       "      <td>16517.0</td>\n",
       "    </tr>\n",
       "    <tr>\n",
       "      <th>73</th>\n",
       "      <td>2020-11-10</td>\n",
       "      <td>21163.0</td>\n",
       "    </tr>\n",
       "    <tr>\n",
       "      <th>74</th>\n",
       "      <td>2020-11-11</td>\n",
       "      <td>30445.0</td>\n",
       "    </tr>\n",
       "    <tr>\n",
       "      <th>75</th>\n",
       "      <td>2020-11-12</td>\n",
       "      <td>31792.0</td>\n",
       "    </tr>\n",
       "  </tbody>\n",
       "</table>\n",
       "</div>"
      ],
      "text/plain": [
       "   sample_date_string  shared_teks_by_upload_date\n",
       "71         2020-11-08                     16816.0\n",
       "72         2020-11-09                     16517.0\n",
       "73         2020-11-10                     21163.0\n",
       "74         2020-11-11                     30445.0\n",
       "75         2020-11-12                     31792.0"
      ]
     },
     "execution_count": 36,
     "metadata": {},
     "output_type": "execute_result"
    }
   ],
   "source": [
    "new_tek_df = tek_list_df.diff().tek_list.apply(\n",
    "    lambda x: len(x) if not pd.isna(x) else None).to_frame().reset_index()\n",
    "new_tek_df.rename(columns={\n",
    "    \"tek_list\": \"shared_teks_by_upload_date\",\n",
    "    \"extraction_date\": \"sample_date_string\",}, inplace=True)\n",
    "new_tek_df.tail()"
   ]
  },
  {
   "cell_type": "code",
   "execution_count": 37,
   "metadata": {
    "collapsed": false,
    "execution": {
     "iopub.execute_input": "2020-11-12T23:23:34.486938Z",
     "iopub.status.busy": "2020-11-12T23:23:34.486329Z",
     "iopub.status.idle": "2020-11-12T23:23:34.489704Z",
     "shell.execute_reply": "2020-11-12T23:23:34.490254Z"
    },
    "papermill": {
     "duration": 0.069529,
     "end_time": "2020-11-12T23:23:34.490433",
     "exception": false,
     "start_time": "2020-11-12T23:23:34.420904",
     "status": "completed"
    },
    "pycharm": {
     "name": "#%%\n"
    },
    "tags": []
   },
   "outputs": [
    {
     "data": {
      "text/html": [
       "<div>\n",
       "<style scoped>\n",
       "    .dataframe tbody tr th:only-of-type {\n",
       "        vertical-align: middle;\n",
       "    }\n",
       "\n",
       "    .dataframe tbody tr th {\n",
       "        vertical-align: top;\n",
       "    }\n",
       "\n",
       "    .dataframe thead th {\n",
       "        text-align: right;\n",
       "    }\n",
       "</style>\n",
       "<table border=\"1\" class=\"dataframe\">\n",
       "  <thead>\n",
       "    <tr style=\"text-align: right;\">\n",
       "      <th></th>\n",
       "      <th>sample_date_string</th>\n",
       "      <th>shared_teks_uploaded_on_generation_date</th>\n",
       "    </tr>\n",
       "  </thead>\n",
       "  <tbody>\n",
       "    <tr>\n",
       "      <th>142</th>\n",
       "      <td>2020-11-12</td>\n",
       "      <td>317</td>\n",
       "    </tr>\n",
       "    <tr>\n",
       "      <th>142</th>\n",
       "      <td>2020-11-11</td>\n",
       "      <td>300</td>\n",
       "    </tr>\n",
       "    <tr>\n",
       "      <th>141</th>\n",
       "      <td>2020-11-10</td>\n",
       "      <td>292</td>\n",
       "    </tr>\n",
       "    <tr>\n",
       "      <th>141</th>\n",
       "      <td>2020-11-09</td>\n",
       "      <td>236</td>\n",
       "    </tr>\n",
       "    <tr>\n",
       "      <th>141</th>\n",
       "      <td>2020-11-08</td>\n",
       "      <td>209</td>\n",
       "    </tr>\n",
       "  </tbody>\n",
       "</table>\n",
       "</div>"
      ],
      "text/plain": [
       "    sample_date_string  shared_teks_uploaded_on_generation_date\n",
       "142         2020-11-12                                      317\n",
       "142         2020-11-11                                      300\n",
       "141         2020-11-10                                      292\n",
       "141         2020-11-09                                      236\n",
       "141         2020-11-08                                      209"
      ]
     },
     "execution_count": 37,
     "metadata": {},
     "output_type": "execute_result"
    }
   ],
   "source": [
    "shared_teks_uploaded_on_generation_date_df = shared_teks_generation_to_upload_df[\n",
    "    shared_teks_generation_to_upload_df.generation_to_upload_days == 0] \\\n",
    "    [[\"upload_date\", \"shared_teks\"]].rename(\n",
    "    columns={\n",
    "        \"upload_date\": \"sample_date_string\",\n",
    "        \"shared_teks\": \"shared_teks_uploaded_on_generation_date\",\n",
    "    })\n",
    "shared_teks_uploaded_on_generation_date_df.head()"
   ]
  },
  {
   "cell_type": "code",
   "execution_count": 38,
   "metadata": {
    "collapsed": false,
    "execution": {
     "iopub.execute_input": "2020-11-12T23:23:34.612054Z",
     "iopub.status.busy": "2020-11-12T23:23:34.611440Z",
     "iopub.status.idle": "2020-11-12T23:23:34.623583Z",
     "shell.execute_reply": "2020-11-12T23:23:34.624076Z"
    },
    "papermill": {
     "duration": 0.0757,
     "end_time": "2020-11-12T23:23:34.624226",
     "exception": false,
     "start_time": "2020-11-12T23:23:34.548526",
     "status": "completed"
    },
    "pycharm": {
     "name": "#%%\n"
    },
    "tags": []
   },
   "outputs": [
    {
     "data": {
      "text/html": [
       "<div>\n",
       "<style scoped>\n",
       "    .dataframe tbody tr th:only-of-type {\n",
       "        vertical-align: middle;\n",
       "    }\n",
       "\n",
       "    .dataframe tbody tr th {\n",
       "        vertical-align: top;\n",
       "    }\n",
       "\n",
       "    .dataframe thead th {\n",
       "        text-align: right;\n",
       "    }\n",
       "</style>\n",
       "<table border=\"1\" class=\"dataframe\">\n",
       "  <thead>\n",
       "    <tr style=\"text-align: right;\">\n",
       "      <th></th>\n",
       "      <th>sample_date_string</th>\n",
       "      <th>shared_diagnoses</th>\n",
       "    </tr>\n",
       "  </thead>\n",
       "  <tbody>\n",
       "    <tr>\n",
       "      <th>74</th>\n",
       "      <td>2020-11-12</td>\n",
       "      <td>3205</td>\n",
       "    </tr>\n",
       "    <tr>\n",
       "      <th>73</th>\n",
       "      <td>2020-11-11</td>\n",
       "      <td>3029</td>\n",
       "    </tr>\n",
       "    <tr>\n",
       "      <th>72</th>\n",
       "      <td>2020-11-10</td>\n",
       "      <td>2086</td>\n",
       "    </tr>\n",
       "    <tr>\n",
       "      <th>71</th>\n",
       "      <td>2020-11-09</td>\n",
       "      <td>1683</td>\n",
       "    </tr>\n",
       "    <tr>\n",
       "      <th>70</th>\n",
       "      <td>2020-11-08</td>\n",
       "      <td>1809</td>\n",
       "    </tr>\n",
       "  </tbody>\n",
       "</table>\n",
       "</div>"
      ],
      "text/plain": [
       "   sample_date_string  shared_diagnoses\n",
       "74         2020-11-12              3205\n",
       "73         2020-11-11              3029\n",
       "72         2020-11-10              2086\n",
       "71         2020-11-09              1683\n",
       "70         2020-11-08              1809"
      ]
     },
     "execution_count": 38,
     "metadata": {},
     "output_type": "execute_result"
    }
   ],
   "source": [
    "estimated_shared_diagnoses_df = shared_teks_generation_to_upload_df \\\n",
    "    .groupby([\"upload_date\"]).shared_teks.max().reset_index() \\\n",
    "    .sort_values([\"upload_date\"], ascending=False) \\\n",
    "    .rename(columns={\n",
    "        \"upload_date\": \"sample_date_string\",\n",
    "        \"shared_teks\": \"shared_diagnoses\",\n",
    "    })\n",
    "invalid_shared_diagnoses_dates_mask = \\\n",
    "    estimated_shared_diagnoses_df.sample_date_string.isin(invalid_shared_diagnoses_dates)\n",
    "estimated_shared_diagnoses_df[invalid_shared_diagnoses_dates_mask] = 0\n",
    "estimated_shared_diagnoses_df.head()"
   ]
  },
  {
   "cell_type": "markdown",
   "metadata": {
    "papermill": {
     "duration": 0.054658,
     "end_time": "2020-11-12T23:23:34.736562",
     "exception": false,
     "start_time": "2020-11-12T23:23:34.681904",
     "status": "completed"
    },
    "pycharm": {
     "name": "#%% md\n"
    },
    "tags": []
   },
   "source": [
    "### Hourly New TEKs"
   ]
  },
  {
   "cell_type": "code",
   "execution_count": 39,
   "metadata": {
    "execution": {
     "iopub.execute_input": "2020-11-12T23:23:34.854947Z",
     "iopub.status.busy": "2020-11-12T23:23:34.853859Z",
     "iopub.status.idle": "2020-11-12T23:23:40.001520Z",
     "shell.execute_reply": "2020-11-12T23:23:40.002319Z"
    },
    "papermill": {
     "duration": 5.211415,
     "end_time": "2020-11-12T23:23:40.002493",
     "exception": false,
     "start_time": "2020-11-12T23:23:34.791078",
     "status": "completed"
    },
    "pycharm": {
     "name": "#%%\n"
    },
    "tags": []
   },
   "outputs": [
    {
     "data": {
      "text/html": [
       "<div>\n",
       "<style scoped>\n",
       "    .dataframe tbody tr th:only-of-type {\n",
       "        vertical-align: middle;\n",
       "    }\n",
       "\n",
       "    .dataframe tbody tr th {\n",
       "        vertical-align: top;\n",
       "    }\n",
       "\n",
       "    .dataframe thead th {\n",
       "        text-align: right;\n",
       "    }\n",
       "</style>\n",
       "<table border=\"1\" class=\"dataframe\">\n",
       "  <thead>\n",
       "    <tr style=\"text-align: right;\">\n",
       "      <th></th>\n",
       "      <th>region</th>\n",
       "      <th>sample_date</th>\n",
       "      <th>tek_list</th>\n",
       "      <th>extraction_date</th>\n",
       "      <th>extraction_date_with_hour</th>\n",
       "    </tr>\n",
       "  </thead>\n",
       "  <tbody>\n",
       "    <tr>\n",
       "      <th>6</th>\n",
       "      <td>ES</td>\n",
       "      <td>2020-10-30</td>\n",
       "      <td>[6550824f-f8b1-0ab4-1892-370a26d891a1, a76125f...</td>\n",
       "      <td>2020-11-12</td>\n",
       "      <td>2020-11-12@23</td>\n",
       "    </tr>\n",
       "    <tr>\n",
       "      <th>17</th>\n",
       "      <td>ES</td>\n",
       "      <td>2020-10-31</td>\n",
       "      <td>[a87f5649-482c-851c-1e11-48a84b767374, 89968a1...</td>\n",
       "      <td>2020-11-12</td>\n",
       "      <td>2020-11-12@23</td>\n",
       "    </tr>\n",
       "    <tr>\n",
       "      <th>28</th>\n",
       "      <td>ES</td>\n",
       "      <td>2020-11-01</td>\n",
       "      <td>[7237eec7-6f1f-a71e-60a1-a55286967f1d, 34fff93...</td>\n",
       "      <td>2020-11-12</td>\n",
       "      <td>2020-11-12@23</td>\n",
       "    </tr>\n",
       "    <tr>\n",
       "      <th>39</th>\n",
       "      <td>ES</td>\n",
       "      <td>2020-11-02</td>\n",
       "      <td>[1462036c-4915-7f4c-3f54-ccfe876e132f, d652c0a...</td>\n",
       "      <td>2020-11-12</td>\n",
       "      <td>2020-11-12@23</td>\n",
       "    </tr>\n",
       "    <tr>\n",
       "      <th>50</th>\n",
       "      <td>ES</td>\n",
       "      <td>2020-11-03</td>\n",
       "      <td>[90b97bac-b73b-0312-3a96-201bac65c3e2, 55e6868...</td>\n",
       "      <td>2020-11-12</td>\n",
       "      <td>2020-11-12@23</td>\n",
       "    </tr>\n",
       "  </tbody>\n",
       "</table>\n",
       "</div>"
      ],
      "text/plain": [
       "   region sample_date                                           tek_list  \\\n",
       "6      ES  2020-10-30  [6550824f-f8b1-0ab4-1892-370a26d891a1, a76125f...   \n",
       "17     ES  2020-10-31  [a87f5649-482c-851c-1e11-48a84b767374, 89968a1...   \n",
       "28     ES  2020-11-01  [7237eec7-6f1f-a71e-60a1-a55286967f1d, 34fff93...   \n",
       "39     ES  2020-11-02  [1462036c-4915-7f4c-3f54-ccfe876e132f, d652c0a...   \n",
       "50     ES  2020-11-03  [90b97bac-b73b-0312-3a96-201bac65c3e2, 55e6868...   \n",
       "\n",
       "   extraction_date extraction_date_with_hour  \n",
       "6       2020-11-12             2020-11-12@23  \n",
       "17      2020-11-12             2020-11-12@23  \n",
       "28      2020-11-12             2020-11-12@23  \n",
       "39      2020-11-12             2020-11-12@23  \n",
       "50      2020-11-12             2020-11-12@23  "
      ]
     },
     "execution_count": 39,
     "metadata": {},
     "output_type": "execute_result"
    }
   ],
   "source": [
    "hourly_extracted_teks_df = load_extracted_teks(\n",
    "    mode=\"Hourly\", region=report_backend_identifier, limit=25)\n",
    "hourly_extracted_teks_df.head()"
   ]
  },
  {
   "cell_type": "code",
   "execution_count": 40,
   "metadata": {
    "collapsed": false,
    "execution": {
     "iopub.execute_input": "2020-11-12T23:23:40.319151Z",
     "iopub.status.busy": "2020-11-12T23:23:40.210055Z",
     "iopub.status.idle": "2020-11-12T23:23:41.625415Z",
     "shell.execute_reply": "2020-11-12T23:23:41.625864Z"
    },
    "papermill": {
     "duration": 1.56769,
     "end_time": "2020-11-12T23:23:41.626052",
     "exception": false,
     "start_time": "2020-11-12T23:23:40.058362",
     "status": "completed"
    },
    "pycharm": {
     "name": "#%%\n"
    },
    "tags": []
   },
   "outputs": [
    {
     "data": {
      "text/html": [
       "<div>\n",
       "<style scoped>\n",
       "    .dataframe tbody tr th:only-of-type {\n",
       "        vertical-align: middle;\n",
       "    }\n",
       "\n",
       "    .dataframe tbody tr th {\n",
       "        vertical-align: top;\n",
       "    }\n",
       "\n",
       "    .dataframe thead th {\n",
       "        text-align: right;\n",
       "    }\n",
       "</style>\n",
       "<table border=\"1\" class=\"dataframe\">\n",
       "  <thead>\n",
       "    <tr style=\"text-align: right;\">\n",
       "      <th></th>\n",
       "      <th>extraction_date_with_hour</th>\n",
       "      <th>shared_teks_by_upload_date</th>\n",
       "    </tr>\n",
       "  </thead>\n",
       "  <tbody>\n",
       "    <tr>\n",
       "      <th>0</th>\n",
       "      <td>2020-11-11@23</td>\n",
       "      <td>0</td>\n",
       "    </tr>\n",
       "    <tr>\n",
       "      <th>1</th>\n",
       "      <td>2020-11-12@00</td>\n",
       "      <td>65</td>\n",
       "    </tr>\n",
       "    <tr>\n",
       "      <th>2</th>\n",
       "      <td>2020-11-12@01</td>\n",
       "      <td>0</td>\n",
       "    </tr>\n",
       "    <tr>\n",
       "      <th>3</th>\n",
       "      <td>2020-11-12@02</td>\n",
       "      <td>21</td>\n",
       "    </tr>\n",
       "    <tr>\n",
       "      <th>4</th>\n",
       "      <td>2020-11-12@03</td>\n",
       "      <td>0</td>\n",
       "    </tr>\n",
       "  </tbody>\n",
       "</table>\n",
       "</div>"
      ],
      "text/plain": [
       "  extraction_date_with_hour  shared_teks_by_upload_date\n",
       "0             2020-11-11@23                           0\n",
       "1             2020-11-12@00                          65\n",
       "2             2020-11-12@01                           0\n",
       "3             2020-11-12@02                          21\n",
       "4             2020-11-12@03                           0"
      ]
     },
     "execution_count": 40,
     "metadata": {},
     "output_type": "execute_result"
    }
   ],
   "source": [
    "hourly_new_tek_count_df = hourly_extracted_teks_df \\\n",
    "    .groupby(\"extraction_date_with_hour\").tek_list. \\\n",
    "    apply(lambda x: set(sum(x, []))).reset_index().copy()\n",
    "hourly_new_tek_count_df = hourly_new_tek_count_df.set_index(\"extraction_date_with_hour\") \\\n",
    "    .sort_index(ascending=True)\n",
    "\n",
    "hourly_new_tek_count_df[\"new_tek_list\"] = hourly_new_tek_count_df.tek_list.diff()\n",
    "hourly_new_tek_count_df[\"new_tek_count\"] = hourly_new_tek_count_df.new_tek_list.apply(\n",
    "    lambda x: len(x) if not pd.isna(x) else 0)\n",
    "hourly_new_tek_count_df.rename(columns={\n",
    "    \"new_tek_count\": \"shared_teks_by_upload_date\"}, inplace=True)\n",
    "hourly_new_tek_count_df = hourly_new_tek_count_df.reset_index()[[\n",
    "    \"extraction_date_with_hour\", \"shared_teks_by_upload_date\"]]\n",
    "hourly_new_tek_count_df.head()"
   ]
  },
  {
   "cell_type": "code",
   "execution_count": 41,
   "metadata": {
    "collapsed": false,
    "execution": {
     "iopub.execute_input": "2020-11-12T23:23:41.752287Z",
     "iopub.status.busy": "2020-11-12T23:23:41.751645Z",
     "iopub.status.idle": "2020-11-12T23:23:41.755044Z",
     "shell.execute_reply": "2020-11-12T23:23:41.754485Z"
    },
    "papermill": {
     "duration": 0.071943,
     "end_time": "2020-11-12T23:23:41.755188",
     "exception": false,
     "start_time": "2020-11-12T23:23:41.683245",
     "status": "completed"
    },
    "pycharm": {
     "name": "#%%\n"
    },
    "tags": []
   },
   "outputs": [
    {
     "data": {
      "text/html": [
       "<div>\n",
       "<style scoped>\n",
       "    .dataframe tbody tr th:only-of-type {\n",
       "        vertical-align: middle;\n",
       "    }\n",
       "\n",
       "    .dataframe tbody tr th {\n",
       "        vertical-align: top;\n",
       "    }\n",
       "\n",
       "    .dataframe thead th {\n",
       "        text-align: right;\n",
       "    }\n",
       "</style>\n",
       "<table border=\"1\" class=\"dataframe\">\n",
       "  <thead>\n",
       "    <tr style=\"text-align: right;\">\n",
       "      <th></th>\n",
       "      <th>extraction_date_with_hour</th>\n",
       "      <th>shared_teks_by_upload_date</th>\n",
       "    </tr>\n",
       "    <tr>\n",
       "      <th>datetime_utc</th>\n",
       "      <th></th>\n",
       "      <th></th>\n",
       "    </tr>\n",
       "  </thead>\n",
       "  <tbody>\n",
       "    <tr>\n",
       "      <th>2020-11-12 00:00:00</th>\n",
       "      <td>2020-11-12@00</td>\n",
       "      <td>65</td>\n",
       "    </tr>\n",
       "    <tr>\n",
       "      <th>2020-11-12 01:00:00</th>\n",
       "      <td>2020-11-12@01</td>\n",
       "      <td>0</td>\n",
       "    </tr>\n",
       "    <tr>\n",
       "      <th>2020-11-12 02:00:00</th>\n",
       "      <td>2020-11-12@02</td>\n",
       "      <td>21</td>\n",
       "    </tr>\n",
       "    <tr>\n",
       "      <th>2020-11-12 03:00:00</th>\n",
       "      <td>2020-11-12@03</td>\n",
       "      <td>0</td>\n",
       "    </tr>\n",
       "    <tr>\n",
       "      <th>2020-11-12 04:00:00</th>\n",
       "      <td>2020-11-12@04</td>\n",
       "      <td>11157</td>\n",
       "    </tr>\n",
       "  </tbody>\n",
       "</table>\n",
       "</div>"
      ],
      "text/plain": [
       "                    extraction_date_with_hour  shared_teks_by_upload_date\n",
       "datetime_utc                                                             \n",
       "2020-11-12 00:00:00             2020-11-12@00                          65\n",
       "2020-11-12 01:00:00             2020-11-12@01                           0\n",
       "2020-11-12 02:00:00             2020-11-12@02                          21\n",
       "2020-11-12 03:00:00             2020-11-12@03                           0\n",
       "2020-11-12 04:00:00             2020-11-12@04                       11157"
      ]
     },
     "execution_count": 41,
     "metadata": {},
     "output_type": "execute_result"
    }
   ],
   "source": [
    "hourly_summary_df = hourly_new_tek_count_df.copy()\n",
    "hourly_summary_df.set_index(\"extraction_date_with_hour\", inplace=True)\n",
    "hourly_summary_df = hourly_summary_df.fillna(0).astype(int).reset_index()\n",
    "hourly_summary_df[\"datetime_utc\"] = pd.to_datetime(\n",
    "    hourly_summary_df.extraction_date_with_hour, format=\"%Y-%m-%d@%H\")\n",
    "hourly_summary_df.set_index(\"datetime_utc\", inplace=True)\n",
    "hourly_summary_df = hourly_summary_df.tail(-1)\n",
    "hourly_summary_df.head()"
   ]
  },
  {
   "cell_type": "markdown",
   "metadata": {
    "collapsed": false,
    "papermill": {
     "duration": 0.056652,
     "end_time": "2020-11-12T23:23:41.873175",
     "exception": false,
     "start_time": "2020-11-12T23:23:41.816523",
     "status": "completed"
    },
    "tags": []
   },
   "source": [
    "### Data Merge"
   ]
  },
  {
   "cell_type": "code",
   "execution_count": 42,
   "metadata": {
    "collapsed": false,
    "execution": {
     "iopub.execute_input": "2020-11-12T23:23:41.996928Z",
     "iopub.status.busy": "2020-11-12T23:23:41.996331Z",
     "iopub.status.idle": "2020-11-12T23:23:42.000240Z",
     "shell.execute_reply": "2020-11-12T23:23:41.999370Z"
    },
    "papermill": {
     "duration": 0.071883,
     "end_time": "2020-11-12T23:23:42.000363",
     "exception": false,
     "start_time": "2020-11-12T23:23:41.928480",
     "status": "completed"
    },
    "pycharm": {
     "name": "#%%\n"
    },
    "tags": []
   },
   "outputs": [
    {
     "data": {
      "text/html": [
       "<div>\n",
       "<style scoped>\n",
       "    .dataframe tbody tr th:only-of-type {\n",
       "        vertical-align: middle;\n",
       "    }\n",
       "\n",
       "    .dataframe tbody tr th {\n",
       "        vertical-align: top;\n",
       "    }\n",
       "\n",
       "    .dataframe thead th {\n",
       "        text-align: right;\n",
       "    }\n",
       "</style>\n",
       "<table border=\"1\" class=\"dataframe\">\n",
       "  <thead>\n",
       "    <tr style=\"text-align: right;\">\n",
       "      <th></th>\n",
       "      <th>sample_date_string</th>\n",
       "      <th>shared_teks_by_generation_date</th>\n",
       "      <th>shared_teks_by_upload_date</th>\n",
       "    </tr>\n",
       "  </thead>\n",
       "  <tbody>\n",
       "    <tr>\n",
       "      <th>0</th>\n",
       "      <td>2020-11-12</td>\n",
       "      <td>317</td>\n",
       "      <td>31792.0</td>\n",
       "    </tr>\n",
       "    <tr>\n",
       "      <th>1</th>\n",
       "      <td>2020-11-11</td>\n",
       "      <td>2484</td>\n",
       "      <td>30445.0</td>\n",
       "    </tr>\n",
       "    <tr>\n",
       "      <th>2</th>\n",
       "      <td>2020-11-10</td>\n",
       "      <td>5381</td>\n",
       "      <td>21163.0</td>\n",
       "    </tr>\n",
       "    <tr>\n",
       "      <th>3</th>\n",
       "      <td>2020-11-09</td>\n",
       "      <td>7646</td>\n",
       "      <td>16517.0</td>\n",
       "    </tr>\n",
       "    <tr>\n",
       "      <th>4</th>\n",
       "      <td>2020-11-08</td>\n",
       "      <td>8848</td>\n",
       "      <td>16816.0</td>\n",
       "    </tr>\n",
       "  </tbody>\n",
       "</table>\n",
       "</div>"
      ],
      "text/plain": [
       "  sample_date_string  shared_teks_by_generation_date  \\\n",
       "0         2020-11-12                             317   \n",
       "1         2020-11-11                            2484   \n",
       "2         2020-11-10                            5381   \n",
       "3         2020-11-09                            7646   \n",
       "4         2020-11-08                            8848   \n",
       "\n",
       "   shared_teks_by_upload_date  \n",
       "0                     31792.0  \n",
       "1                     30445.0  \n",
       "2                     21163.0  \n",
       "3                     16517.0  \n",
       "4                     16816.0  "
      ]
     },
     "execution_count": 42,
     "metadata": {},
     "output_type": "execute_result"
    }
   ],
   "source": [
    "result_summary_df = exposure_keys_summary_df.merge(\n",
    "    new_tek_df, on=[\"sample_date_string\"], how=\"outer\")\n",
    "result_summary_df.head()"
   ]
  },
  {
   "cell_type": "code",
   "execution_count": 43,
   "metadata": {
    "collapsed": false,
    "execution": {
     "iopub.execute_input": "2020-11-12T23:23:42.134292Z",
     "iopub.status.busy": "2020-11-12T23:23:42.133664Z",
     "iopub.status.idle": "2020-11-12T23:23:42.136895Z",
     "shell.execute_reply": "2020-11-12T23:23:42.137331Z"
    },
    "papermill": {
     "duration": 0.077208,
     "end_time": "2020-11-12T23:23:42.137473",
     "exception": false,
     "start_time": "2020-11-12T23:23:42.060265",
     "status": "completed"
    },
    "pycharm": {
     "name": "#%%\n"
    },
    "tags": []
   },
   "outputs": [
    {
     "data": {
      "text/html": [
       "<div>\n",
       "<style scoped>\n",
       "    .dataframe tbody tr th:only-of-type {\n",
       "        vertical-align: middle;\n",
       "    }\n",
       "\n",
       "    .dataframe tbody tr th {\n",
       "        vertical-align: top;\n",
       "    }\n",
       "\n",
       "    .dataframe thead th {\n",
       "        text-align: right;\n",
       "    }\n",
       "</style>\n",
       "<table border=\"1\" class=\"dataframe\">\n",
       "  <thead>\n",
       "    <tr style=\"text-align: right;\">\n",
       "      <th></th>\n",
       "      <th>sample_date_string</th>\n",
       "      <th>shared_teks_by_generation_date</th>\n",
       "      <th>shared_teks_by_upload_date</th>\n",
       "      <th>shared_teks_uploaded_on_generation_date</th>\n",
       "    </tr>\n",
       "  </thead>\n",
       "  <tbody>\n",
       "    <tr>\n",
       "      <th>0</th>\n",
       "      <td>2020-11-12</td>\n",
       "      <td>317</td>\n",
       "      <td>31792.0</td>\n",
       "      <td>317.0</td>\n",
       "    </tr>\n",
       "    <tr>\n",
       "      <th>1</th>\n",
       "      <td>2020-11-11</td>\n",
       "      <td>2484</td>\n",
       "      <td>30445.0</td>\n",
       "      <td>300.0</td>\n",
       "    </tr>\n",
       "    <tr>\n",
       "      <th>2</th>\n",
       "      <td>2020-11-10</td>\n",
       "      <td>5381</td>\n",
       "      <td>21163.0</td>\n",
       "      <td>292.0</td>\n",
       "    </tr>\n",
       "    <tr>\n",
       "      <th>3</th>\n",
       "      <td>2020-11-09</td>\n",
       "      <td>7646</td>\n",
       "      <td>16517.0</td>\n",
       "      <td>236.0</td>\n",
       "    </tr>\n",
       "    <tr>\n",
       "      <th>4</th>\n",
       "      <td>2020-11-08</td>\n",
       "      <td>8848</td>\n",
       "      <td>16816.0</td>\n",
       "      <td>209.0</td>\n",
       "    </tr>\n",
       "  </tbody>\n",
       "</table>\n",
       "</div>"
      ],
      "text/plain": [
       "  sample_date_string  shared_teks_by_generation_date  \\\n",
       "0         2020-11-12                             317   \n",
       "1         2020-11-11                            2484   \n",
       "2         2020-11-10                            5381   \n",
       "3         2020-11-09                            7646   \n",
       "4         2020-11-08                            8848   \n",
       "\n",
       "   shared_teks_by_upload_date  shared_teks_uploaded_on_generation_date  \n",
       "0                     31792.0                                    317.0  \n",
       "1                     30445.0                                    300.0  \n",
       "2                     21163.0                                    292.0  \n",
       "3                     16517.0                                    236.0  \n",
       "4                     16816.0                                    209.0  "
      ]
     },
     "execution_count": 43,
     "metadata": {},
     "output_type": "execute_result"
    }
   ],
   "source": [
    "result_summary_df = result_summary_df.merge(\n",
    "    shared_teks_uploaded_on_generation_date_df, on=[\"sample_date_string\"], how=\"outer\")\n",
    "result_summary_df.head()"
   ]
  },
  {
   "cell_type": "code",
   "execution_count": 44,
   "metadata": {
    "collapsed": false,
    "execution": {
     "iopub.execute_input": "2020-11-12T23:23:42.264445Z",
     "iopub.status.busy": "2020-11-12T23:23:42.263682Z",
     "iopub.status.idle": "2020-11-12T23:23:42.275646Z",
     "shell.execute_reply": "2020-11-12T23:23:42.276373Z"
    },
    "papermill": {
     "duration": 0.080454,
     "end_time": "2020-11-12T23:23:42.276538",
     "exception": false,
     "start_time": "2020-11-12T23:23:42.196084",
     "status": "completed"
    },
    "pycharm": {
     "name": "#%%\n"
    },
    "tags": []
   },
   "outputs": [
    {
     "data": {
      "text/html": [
       "<div>\n",
       "<style scoped>\n",
       "    .dataframe tbody tr th:only-of-type {\n",
       "        vertical-align: middle;\n",
       "    }\n",
       "\n",
       "    .dataframe tbody tr th {\n",
       "        vertical-align: top;\n",
       "    }\n",
       "\n",
       "    .dataframe thead th {\n",
       "        text-align: right;\n",
       "    }\n",
       "</style>\n",
       "<table border=\"1\" class=\"dataframe\">\n",
       "  <thead>\n",
       "    <tr style=\"text-align: right;\">\n",
       "      <th></th>\n",
       "      <th>sample_date_string</th>\n",
       "      <th>shared_teks_by_generation_date</th>\n",
       "      <th>shared_teks_by_upload_date</th>\n",
       "      <th>shared_teks_uploaded_on_generation_date</th>\n",
       "      <th>shared_diagnoses</th>\n",
       "    </tr>\n",
       "  </thead>\n",
       "  <tbody>\n",
       "    <tr>\n",
       "      <th>0</th>\n",
       "      <td>2020-11-12</td>\n",
       "      <td>317.0</td>\n",
       "      <td>31792.0</td>\n",
       "      <td>317.0</td>\n",
       "      <td>3205.0</td>\n",
       "    </tr>\n",
       "    <tr>\n",
       "      <th>1</th>\n",
       "      <td>2020-11-11</td>\n",
       "      <td>2484.0</td>\n",
       "      <td>30445.0</td>\n",
       "      <td>300.0</td>\n",
       "      <td>3029.0</td>\n",
       "    </tr>\n",
       "    <tr>\n",
       "      <th>2</th>\n",
       "      <td>2020-11-10</td>\n",
       "      <td>5381.0</td>\n",
       "      <td>21163.0</td>\n",
       "      <td>292.0</td>\n",
       "      <td>2086.0</td>\n",
       "    </tr>\n",
       "    <tr>\n",
       "      <th>3</th>\n",
       "      <td>2020-11-09</td>\n",
       "      <td>7646.0</td>\n",
       "      <td>16517.0</td>\n",
       "      <td>236.0</td>\n",
       "      <td>1683.0</td>\n",
       "    </tr>\n",
       "    <tr>\n",
       "      <th>4</th>\n",
       "      <td>2020-11-08</td>\n",
       "      <td>8848.0</td>\n",
       "      <td>16816.0</td>\n",
       "      <td>209.0</td>\n",
       "      <td>1809.0</td>\n",
       "    </tr>\n",
       "  </tbody>\n",
       "</table>\n",
       "</div>"
      ],
      "text/plain": [
       "  sample_date_string  shared_teks_by_generation_date  \\\n",
       "0         2020-11-12                           317.0   \n",
       "1         2020-11-11                          2484.0   \n",
       "2         2020-11-10                          5381.0   \n",
       "3         2020-11-09                          7646.0   \n",
       "4         2020-11-08                          8848.0   \n",
       "\n",
       "   shared_teks_by_upload_date  shared_teks_uploaded_on_generation_date  \\\n",
       "0                     31792.0                                    317.0   \n",
       "1                     30445.0                                    300.0   \n",
       "2                     21163.0                                    292.0   \n",
       "3                     16517.0                                    236.0   \n",
       "4                     16816.0                                    209.0   \n",
       "\n",
       "   shared_diagnoses  \n",
       "0            3205.0  \n",
       "1            3029.0  \n",
       "2            2086.0  \n",
       "3            1683.0  \n",
       "4            1809.0  "
      ]
     },
     "execution_count": 44,
     "metadata": {},
     "output_type": "execute_result"
    }
   ],
   "source": [
    "result_summary_df = result_summary_df.merge(\n",
    "    estimated_shared_diagnoses_df, on=[\"sample_date_string\"], how=\"outer\")\n",
    "result_summary_df.head()"
   ]
  },
  {
   "cell_type": "code",
   "execution_count": 45,
   "metadata": {
    "collapsed": false,
    "execution": {
     "iopub.execute_input": "2020-11-12T23:23:42.415266Z",
     "iopub.status.busy": "2020-11-12T23:23:42.414632Z",
     "iopub.status.idle": "2020-11-12T23:23:42.418177Z",
     "shell.execute_reply": "2020-11-12T23:23:42.417597Z"
    },
    "papermill": {
     "duration": 0.081776,
     "end_time": "2020-11-12T23:23:42.418324",
     "exception": false,
     "start_time": "2020-11-12T23:23:42.336548",
     "status": "completed"
    },
    "pycharm": {
     "name": "#%%\n"
    },
    "tags": []
   },
   "outputs": [
    {
     "data": {
      "text/html": [
       "<div>\n",
       "<style scoped>\n",
       "    .dataframe tbody tr th:only-of-type {\n",
       "        vertical-align: middle;\n",
       "    }\n",
       "\n",
       "    .dataframe tbody tr th {\n",
       "        vertical-align: top;\n",
       "    }\n",
       "\n",
       "    .dataframe thead th {\n",
       "        text-align: right;\n",
       "    }\n",
       "</style>\n",
       "<table border=\"1\" class=\"dataframe\">\n",
       "  <thead>\n",
       "    <tr style=\"text-align: right;\">\n",
       "      <th></th>\n",
       "      <th>sample_date_string</th>\n",
       "      <th>new_cases</th>\n",
       "      <th>covid_cases</th>\n",
       "      <th>shared_teks_by_generation_date</th>\n",
       "      <th>shared_teks_by_upload_date</th>\n",
       "      <th>shared_teks_uploaded_on_generation_date</th>\n",
       "      <th>shared_diagnoses</th>\n",
       "    </tr>\n",
       "  </thead>\n",
       "  <tbody>\n",
       "    <tr>\n",
       "      <th>0</th>\n",
       "      <td>2020-08-21</td>\n",
       "      <td>8148</td>\n",
       "      <td>6177.0</td>\n",
       "      <td>11.0</td>\n",
       "      <td>NaN</td>\n",
       "      <td>NaN</td>\n",
       "      <td>NaN</td>\n",
       "    </tr>\n",
       "    <tr>\n",
       "      <th>1</th>\n",
       "      <td>2020-08-22</td>\n",
       "      <td>0</td>\n",
       "      <td>6177.0</td>\n",
       "      <td>18.0</td>\n",
       "      <td>NaN</td>\n",
       "      <td>NaN</td>\n",
       "      <td>NaN</td>\n",
       "    </tr>\n",
       "    <tr>\n",
       "      <th>2</th>\n",
       "      <td>2020-08-23</td>\n",
       "      <td>0</td>\n",
       "      <td>6177.0</td>\n",
       "      <td>28.0</td>\n",
       "      <td>NaN</td>\n",
       "      <td>NaN</td>\n",
       "      <td>NaN</td>\n",
       "    </tr>\n",
       "    <tr>\n",
       "      <th>3</th>\n",
       "      <td>2020-08-24</td>\n",
       "      <td>19382</td>\n",
       "      <td>6622.0</td>\n",
       "      <td>48.0</td>\n",
       "      <td>NaN</td>\n",
       "      <td>NaN</td>\n",
       "      <td>NaN</td>\n",
       "    </tr>\n",
       "    <tr>\n",
       "      <th>4</th>\n",
       "      <td>2020-08-25</td>\n",
       "      <td>7117</td>\n",
       "      <td>6908.0</td>\n",
       "      <td>58.0</td>\n",
       "      <td>NaN</td>\n",
       "      <td>NaN</td>\n",
       "      <td>NaN</td>\n",
       "    </tr>\n",
       "  </tbody>\n",
       "</table>\n",
       "</div>"
      ],
      "text/plain": [
       "  sample_date_string  new_cases  covid_cases  shared_teks_by_generation_date  \\\n",
       "0         2020-08-21       8148       6177.0                            11.0   \n",
       "1         2020-08-22          0       6177.0                            18.0   \n",
       "2         2020-08-23          0       6177.0                            28.0   \n",
       "3         2020-08-24      19382       6622.0                            48.0   \n",
       "4         2020-08-25       7117       6908.0                            58.0   \n",
       "\n",
       "   shared_teks_by_upload_date  shared_teks_uploaded_on_generation_date  \\\n",
       "0                         NaN                                      NaN   \n",
       "1                         NaN                                      NaN   \n",
       "2                         NaN                                      NaN   \n",
       "3                         NaN                                      NaN   \n",
       "4                         NaN                                      NaN   \n",
       "\n",
       "   shared_diagnoses  \n",
       "0               NaN  \n",
       "1               NaN  \n",
       "2               NaN  \n",
       "3               NaN  \n",
       "4               NaN  "
      ]
     },
     "execution_count": 45,
     "metadata": {},
     "output_type": "execute_result"
    }
   ],
   "source": [
    "result_summary_df = confirmed_df.tail(daily_summary_days).merge(\n",
    "    result_summary_df, on=[\"sample_date_string\"], how=\"left\")\n",
    "result_summary_df.head()"
   ]
  },
  {
   "cell_type": "code",
   "execution_count": 46,
   "metadata": {
    "collapsed": false,
    "execution": {
     "iopub.execute_input": "2020-11-12T23:23:42.562058Z",
     "iopub.status.busy": "2020-11-12T23:23:42.561408Z",
     "iopub.status.idle": "2020-11-12T23:23:42.583881Z",
     "shell.execute_reply": "2020-11-12T23:23:42.583351Z"
    },
    "papermill": {
     "duration": 0.094686,
     "end_time": "2020-11-12T23:23:42.584009",
     "exception": false,
     "start_time": "2020-11-12T23:23:42.489323",
     "status": "completed"
    },
    "pycharm": {
     "name": "#%%\n"
    },
    "tags": []
   },
   "outputs": [
    {
     "data": {
      "text/html": [
       "<div>\n",
       "<style scoped>\n",
       "    .dataframe tbody tr th:only-of-type {\n",
       "        vertical-align: middle;\n",
       "    }\n",
       "\n",
       "    .dataframe tbody tr th {\n",
       "        vertical-align: top;\n",
       "    }\n",
       "\n",
       "    .dataframe thead th {\n",
       "        text-align: right;\n",
       "    }\n",
       "</style>\n",
       "<table border=\"1\" class=\"dataframe\">\n",
       "  <thead>\n",
       "    <tr style=\"text-align: right;\">\n",
       "      <th></th>\n",
       "      <th></th>\n",
       "      <th>new_cases</th>\n",
       "      <th>covid_cases</th>\n",
       "      <th>shared_teks_by_generation_date</th>\n",
       "      <th>shared_teks_by_upload_date</th>\n",
       "      <th>shared_teks_uploaded_on_generation_date</th>\n",
       "      <th>shared_diagnoses</th>\n",
       "    </tr>\n",
       "    <tr>\n",
       "      <th>sample_date</th>\n",
       "      <th>source_regions</th>\n",
       "      <th></th>\n",
       "      <th></th>\n",
       "      <th></th>\n",
       "      <th></th>\n",
       "      <th></th>\n",
       "      <th></th>\n",
       "    </tr>\n",
       "  </thead>\n",
       "  <tbody>\n",
       "    <tr>\n",
       "      <th>2020-11-12</th>\n",
       "      <th>ES,DE,DK,IE,IT,LV</th>\n",
       "      <td>56632</td>\n",
       "      <td>70242.0</td>\n",
       "      <td>317.0</td>\n",
       "      <td>31792.0</td>\n",
       "      <td>317.0</td>\n",
       "      <td>3205.0</td>\n",
       "    </tr>\n",
       "    <tr>\n",
       "      <th>2020-11-11</th>\n",
       "      <th>ES,DE,DK,IE,IT,LV</th>\n",
       "      <td>74177</td>\n",
       "      <td>72741.0</td>\n",
       "      <td>2484.0</td>\n",
       "      <td>30445.0</td>\n",
       "      <td>300.0</td>\n",
       "      <td>3029.0</td>\n",
       "    </tr>\n",
       "    <tr>\n",
       "      <th>2020-11-10</th>\n",
       "      <th>ES,DE,DK,IE,IT,LV</th>\n",
       "      <td>59124</td>\n",
       "      <td>72476.0</td>\n",
       "      <td>5381.0</td>\n",
       "      <td>21163.0</td>\n",
       "      <td>292.0</td>\n",
       "      <td>2086.0</td>\n",
       "    </tr>\n",
       "    <tr>\n",
       "      <th>2020-11-09</th>\n",
       "      <th>ES,DE,DK,IE,IT,LV</th>\n",
       "      <td>100008</td>\n",
       "      <td>72329.0</td>\n",
       "      <td>7646.0</td>\n",
       "      <td>16517.0</td>\n",
       "      <td>236.0</td>\n",
       "      <td>1683.0</td>\n",
       "    </tr>\n",
       "    <tr>\n",
       "      <th>2020-11-08</th>\n",
       "      <th>ES,DE,IE,IT,LV</th>\n",
       "      <td>56547</td>\n",
       "      <td>71025.0</td>\n",
       "      <td>8848.0</td>\n",
       "      <td>16816.0</td>\n",
       "      <td>209.0</td>\n",
       "      <td>1809.0</td>\n",
       "    </tr>\n",
       "  </tbody>\n",
       "</table>\n",
       "</div>"
      ],
      "text/plain": [
       "                               new_cases  covid_cases  \\\n",
       "sample_date source_regions                              \n",
       "2020-11-12  ES,DE,DK,IE,IT,LV      56632      70242.0   \n",
       "2020-11-11  ES,DE,DK,IE,IT,LV      74177      72741.0   \n",
       "2020-11-10  ES,DE,DK,IE,IT,LV      59124      72476.0   \n",
       "2020-11-09  ES,DE,DK,IE,IT,LV     100008      72329.0   \n",
       "2020-11-08  ES,DE,IE,IT,LV         56547      71025.0   \n",
       "\n",
       "                               shared_teks_by_generation_date  \\\n",
       "sample_date source_regions                                      \n",
       "2020-11-12  ES,DE,DK,IE,IT,LV                           317.0   \n",
       "2020-11-11  ES,DE,DK,IE,IT,LV                          2484.0   \n",
       "2020-11-10  ES,DE,DK,IE,IT,LV                          5381.0   \n",
       "2020-11-09  ES,DE,DK,IE,IT,LV                          7646.0   \n",
       "2020-11-08  ES,DE,IE,IT,LV                             8848.0   \n",
       "\n",
       "                               shared_teks_by_upload_date  \\\n",
       "sample_date source_regions                                  \n",
       "2020-11-12  ES,DE,DK,IE,IT,LV                     31792.0   \n",
       "2020-11-11  ES,DE,DK,IE,IT,LV                     30445.0   \n",
       "2020-11-10  ES,DE,DK,IE,IT,LV                     21163.0   \n",
       "2020-11-09  ES,DE,DK,IE,IT,LV                     16517.0   \n",
       "2020-11-08  ES,DE,IE,IT,LV                        16816.0   \n",
       "\n",
       "                               shared_teks_uploaded_on_generation_date  \\\n",
       "sample_date source_regions                                               \n",
       "2020-11-12  ES,DE,DK,IE,IT,LV                                    317.0   \n",
       "2020-11-11  ES,DE,DK,IE,IT,LV                                    300.0   \n",
       "2020-11-10  ES,DE,DK,IE,IT,LV                                    292.0   \n",
       "2020-11-09  ES,DE,DK,IE,IT,LV                                    236.0   \n",
       "2020-11-08  ES,DE,IE,IT,LV                                       209.0   \n",
       "\n",
       "                               shared_diagnoses  \n",
       "sample_date source_regions                       \n",
       "2020-11-12  ES,DE,DK,IE,IT,LV            3205.0  \n",
       "2020-11-11  ES,DE,DK,IE,IT,LV            3029.0  \n",
       "2020-11-10  ES,DE,DK,IE,IT,LV            2086.0  \n",
       "2020-11-09  ES,DE,DK,IE,IT,LV            1683.0  \n",
       "2020-11-08  ES,DE,IE,IT,LV               1809.0  "
      ]
     },
     "execution_count": 46,
     "metadata": {},
     "output_type": "execute_result"
    }
   ],
   "source": [
    "result_summary_df[\"sample_date\"] = pd.to_datetime(result_summary_df.sample_date_string)\n",
    "result_summary_df = result_summary_df.merge(source_regions_for_summary_df, how=\"left\")\n",
    "result_summary_df.set_index([\"sample_date\", \"source_regions\"], inplace=True)\n",
    "result_summary_df.drop(columns=[\"sample_date_string\"], inplace=True)\n",
    "result_summary_df.sort_index(ascending=False, inplace=True)\n",
    "result_summary_df.head()"
   ]
  },
  {
   "cell_type": "code",
   "execution_count": 47,
   "metadata": {
    "execution": {
     "iopub.execute_input": "2020-11-12T23:23:42.728584Z",
     "iopub.status.busy": "2020-11-12T23:23:42.710031Z",
     "iopub.status.idle": "2020-11-12T23:23:42.732024Z",
     "shell.execute_reply": "2020-11-12T23:23:42.732528Z"
    },
    "papermill": {
     "duration": 0.088497,
     "end_time": "2020-11-12T23:23:42.732686",
     "exception": false,
     "start_time": "2020-11-12T23:23:42.644189",
     "status": "completed"
    },
    "tags": []
   },
   "outputs": [
    {
     "data": {
      "text/html": [
       "<div>\n",
       "<style scoped>\n",
       "    .dataframe tbody tr th:only-of-type {\n",
       "        vertical-align: middle;\n",
       "    }\n",
       "\n",
       "    .dataframe tbody tr th {\n",
       "        vertical-align: top;\n",
       "    }\n",
       "\n",
       "    .dataframe thead th {\n",
       "        text-align: right;\n",
       "    }\n",
       "</style>\n",
       "<table border=\"1\" class=\"dataframe\">\n",
       "  <thead>\n",
       "    <tr style=\"text-align: right;\">\n",
       "      <th></th>\n",
       "      <th></th>\n",
       "      <th>new_cases</th>\n",
       "      <th>covid_cases</th>\n",
       "      <th>shared_teks_by_generation_date</th>\n",
       "      <th>shared_teks_by_upload_date</th>\n",
       "      <th>shared_teks_uploaded_on_generation_date</th>\n",
       "      <th>shared_diagnoses</th>\n",
       "      <th>teks_per_shared_diagnosis</th>\n",
       "      <th>shared_diagnoses_per_covid_case</th>\n",
       "    </tr>\n",
       "    <tr>\n",
       "      <th>sample_date</th>\n",
       "      <th>source_regions</th>\n",
       "      <th></th>\n",
       "      <th></th>\n",
       "      <th></th>\n",
       "      <th></th>\n",
       "      <th></th>\n",
       "      <th></th>\n",
       "      <th></th>\n",
       "      <th></th>\n",
       "    </tr>\n",
       "  </thead>\n",
       "  <tbody>\n",
       "    <tr>\n",
       "      <th>2020-11-12</th>\n",
       "      <th>ES,DE,DK,IE,IT,LV</th>\n",
       "      <td>56632</td>\n",
       "      <td>70242</td>\n",
       "      <td>317</td>\n",
       "      <td>31792</td>\n",
       "      <td>317</td>\n",
       "      <td>3205</td>\n",
       "      <td>9.919501</td>\n",
       "      <td>0.045628</td>\n",
       "    </tr>\n",
       "    <tr>\n",
       "      <th>2020-11-11</th>\n",
       "      <th>ES,DE,DK,IE,IT,LV</th>\n",
       "      <td>74177</td>\n",
       "      <td>72741</td>\n",
       "      <td>2484</td>\n",
       "      <td>30445</td>\n",
       "      <td>300</td>\n",
       "      <td>3029</td>\n",
       "      <td>10.051172</td>\n",
       "      <td>0.041641</td>\n",
       "    </tr>\n",
       "    <tr>\n",
       "      <th>2020-11-10</th>\n",
       "      <th>ES,DE,DK,IE,IT,LV</th>\n",
       "      <td>59124</td>\n",
       "      <td>72476</td>\n",
       "      <td>5381</td>\n",
       "      <td>21163</td>\n",
       "      <td>292</td>\n",
       "      <td>2086</td>\n",
       "      <td>10.145254</td>\n",
       "      <td>0.028782</td>\n",
       "    </tr>\n",
       "    <tr>\n",
       "      <th>2020-11-09</th>\n",
       "      <th>ES,DE,DK,IE,IT,LV</th>\n",
       "      <td>100008</td>\n",
       "      <td>72329</td>\n",
       "      <td>7646</td>\n",
       "      <td>16517</td>\n",
       "      <td>236</td>\n",
       "      <td>1683</td>\n",
       "      <td>9.814023</td>\n",
       "      <td>0.023269</td>\n",
       "    </tr>\n",
       "    <tr>\n",
       "      <th>2020-11-08</th>\n",
       "      <th>ES,DE,IE,IT,LV</th>\n",
       "      <td>56547</td>\n",
       "      <td>71025</td>\n",
       "      <td>8848</td>\n",
       "      <td>16816</td>\n",
       "      <td>209</td>\n",
       "      <td>1809</td>\n",
       "      <td>9.295744</td>\n",
       "      <td>0.025470</td>\n",
       "    </tr>\n",
       "    <tr>\n",
       "      <th>2020-11-07</th>\n",
       "      <th>ES,DE,IE,IT,LV</th>\n",
       "      <td>62050</td>\n",
       "      <td>69596</td>\n",
       "      <td>10162</td>\n",
       "      <td>23688</td>\n",
       "      <td>313</td>\n",
       "      <td>2490</td>\n",
       "      <td>9.513253</td>\n",
       "      <td>0.035778</td>\n",
       "    </tr>\n",
       "    <tr>\n",
       "      <th>2020-11-06</th>\n",
       "      <th>ES,DE,IE,IT,LV</th>\n",
       "      <td>79454</td>\n",
       "      <td>68044</td>\n",
       "      <td>11943</td>\n",
       "      <td>28583</td>\n",
       "      <td>263</td>\n",
       "      <td>2909</td>\n",
       "      <td>9.825713</td>\n",
       "      <td>0.042752</td>\n",
       "    </tr>\n",
       "    <tr>\n",
       "      <th>2020-11-05</th>\n",
       "      <th>ES,DE,IE,IT,LV</th>\n",
       "      <td>73194</td>\n",
       "      <td>67010</td>\n",
       "      <td>14195</td>\n",
       "      <td>26573</td>\n",
       "      <td>267</td>\n",
       "      <td>2696</td>\n",
       "      <td>9.856454</td>\n",
       "      <td>0.040233</td>\n",
       "    </tr>\n",
       "    <tr>\n",
       "      <th>2020-11-04</th>\n",
       "      <th>ES,DE,IE,IT,LV</th>\n",
       "      <td>70966</td>\n",
       "      <td>66020</td>\n",
       "      <td>16331</td>\n",
       "      <td>28247</td>\n",
       "      <td>344</td>\n",
       "      <td>2851</td>\n",
       "      <td>9.907752</td>\n",
       "      <td>0.043184</td>\n",
       "    </tr>\n",
       "    <tr>\n",
       "      <th>2020-11-03</th>\n",
       "      <th>ES,DE,IE,IT,LV</th>\n",
       "      <td>57154</td>\n",
       "      <td>64104</td>\n",
       "      <td>18312</td>\n",
       "      <td>20613</td>\n",
       "      <td>280</td>\n",
       "      <td>1961</td>\n",
       "      <td>10.511474</td>\n",
       "      <td>0.030591</td>\n",
       "    </tr>\n",
       "    <tr>\n",
       "      <th>2020-11-02</th>\n",
       "      <th>ES,DE,IE,IT,LV</th>\n",
       "      <td>97809</td>\n",
       "      <td>62775</td>\n",
       "      <td>19749</td>\n",
       "      <td>16927</td>\n",
       "      <td>264</td>\n",
       "      <td>1711</td>\n",
       "      <td>9.893045</td>\n",
       "      <td>0.027256</td>\n",
       "    </tr>\n",
       "    <tr>\n",
       "      <th>2020-11-01</th>\n",
       "      <th>ES,DE,IE,IT,LV</th>\n",
       "      <td>46545</td>\n",
       "      <td>60713</td>\n",
       "      <td>20448</td>\n",
       "      <td>16848</td>\n",
       "      <td>277</td>\n",
       "      <td>1842</td>\n",
       "      <td>9.146580</td>\n",
       "      <td>0.030339</td>\n",
       "    </tr>\n",
       "    <tr>\n",
       "      <th>2020-10-31</th>\n",
       "      <th>ES,DE,IE,IT,LV</th>\n",
       "      <td>51184</td>\n",
       "      <td>58624</td>\n",
       "      <td>21459</td>\n",
       "      <td>20328</td>\n",
       "      <td>305</td>\n",
       "      <td>2163</td>\n",
       "      <td>9.398058</td>\n",
       "      <td>0.036896</td>\n",
       "    </tr>\n",
       "    <tr>\n",
       "      <th>2020-10-30</th>\n",
       "      <th>ES,DE,IE,IT,LV</th>\n",
       "      <td>72219</td>\n",
       "      <td>56297</td>\n",
       "      <td>22997</td>\n",
       "      <td>100215</td>\n",
       "      <td>382</td>\n",
       "      <td>0</td>\n",
       "      <td>0.000000</td>\n",
       "      <td>0.000000</td>\n",
       "    </tr>\n",
       "    <tr>\n",
       "      <th>2020-10-29</th>\n",
       "      <th>ES</th>\n",
       "      <td>23580</td>\n",
       "      <td>19115</td>\n",
       "      <td>22747</td>\n",
       "      <td>1847</td>\n",
       "      <td>397</td>\n",
       "      <td>397</td>\n",
       "      <td>4.652393</td>\n",
       "      <td>0.020769</td>\n",
       "    </tr>\n",
       "    <tr>\n",
       "      <th>2020-10-28</th>\n",
       "      <th>ES</th>\n",
       "      <td>19765</td>\n",
       "      <td>18744</td>\n",
       "      <td>22541</td>\n",
       "      <td>1933</td>\n",
       "      <td>406</td>\n",
       "      <td>406</td>\n",
       "      <td>4.761084</td>\n",
       "      <td>0.021660</td>\n",
       "    </tr>\n",
       "    <tr>\n",
       "      <th>2020-10-27</th>\n",
       "      <th>ES</th>\n",
       "      <td>18418</td>\n",
       "      <td>18345</td>\n",
       "      <td>22580</td>\n",
       "      <td>988</td>\n",
       "      <td>231</td>\n",
       "      <td>231</td>\n",
       "      <td>4.277056</td>\n",
       "      <td>0.012592</td>\n",
       "    </tr>\n",
       "    <tr>\n",
       "      <th>2020-10-26</th>\n",
       "      <th>ES</th>\n",
       "      <td>52188</td>\n",
       "      <td>17696</td>\n",
       "      <td>22617</td>\n",
       "      <td>994</td>\n",
       "      <td>215</td>\n",
       "      <td>215</td>\n",
       "      <td>4.623256</td>\n",
       "      <td>0.012150</td>\n",
       "    </tr>\n",
       "    <tr>\n",
       "      <th>2020-10-25</th>\n",
       "      <th>ES</th>\n",
       "      <td>0</td>\n",
       "      <td>15653</td>\n",
       "      <td>21944</td>\n",
       "      <td>679</td>\n",
       "      <td>179</td>\n",
       "      <td>179</td>\n",
       "      <td>3.793296</td>\n",
       "      <td>0.011436</td>\n",
       "    </tr>\n",
       "    <tr>\n",
       "      <th>2020-10-24</th>\n",
       "      <th>ES</th>\n",
       "      <td>0</td>\n",
       "      <td>15653</td>\n",
       "      <td>20758</td>\n",
       "      <td>703</td>\n",
       "      <td>177</td>\n",
       "      <td>177</td>\n",
       "      <td>3.971751</td>\n",
       "      <td>0.011308</td>\n",
       "    </tr>\n",
       "    <tr>\n",
       "      <th>2020-10-23</th>\n",
       "      <th>ES</th>\n",
       "      <td>19851</td>\n",
       "      <td>15653</td>\n",
       "      <td>19712</td>\n",
       "      <td>769</td>\n",
       "      <td>167</td>\n",
       "      <td>167</td>\n",
       "      <td>4.604790</td>\n",
       "      <td>0.010669</td>\n",
       "    </tr>\n",
       "    <tr>\n",
       "      <th>2020-10-22</th>\n",
       "      <th>ES</th>\n",
       "      <td>20986</td>\n",
       "      <td>14987</td>\n",
       "      <td>17299</td>\n",
       "      <td>726</td>\n",
       "      <td>180</td>\n",
       "      <td>180</td>\n",
       "      <td>4.033333</td>\n",
       "      <td>0.012010</td>\n",
       "    </tr>\n",
       "    <tr>\n",
       "      <th>2020-10-21</th>\n",
       "      <th>ES</th>\n",
       "      <td>16973</td>\n",
       "      <td>13891</td>\n",
       "      <td>14775</td>\n",
       "      <td>841</td>\n",
       "      <td>157</td>\n",
       "      <td>157</td>\n",
       "      <td>5.356688</td>\n",
       "      <td>0.011302</td>\n",
       "    </tr>\n",
       "    <tr>\n",
       "      <th>2020-10-20</th>\n",
       "      <th>ES</th>\n",
       "      <td>13873</td>\n",
       "      <td>13177</td>\n",
       "      <td>13006</td>\n",
       "      <td>772</td>\n",
       "      <td>149</td>\n",
       "      <td>149</td>\n",
       "      <td>5.181208</td>\n",
       "      <td>0.011308</td>\n",
       "    </tr>\n",
       "    <tr>\n",
       "      <th>2020-10-19</th>\n",
       "      <th>ES</th>\n",
       "      <td>37889</td>\n",
       "      <td>12212</td>\n",
       "      <td>11649</td>\n",
       "      <td>791</td>\n",
       "      <td>142</td>\n",
       "      <td>142</td>\n",
       "      <td>5.570423</td>\n",
       "      <td>0.011628</td>\n",
       "    </tr>\n",
       "    <tr>\n",
       "      <th>2020-10-18</th>\n",
       "      <th>ES</th>\n",
       "      <td>0</td>\n",
       "      <td>10778</td>\n",
       "      <td>10346</td>\n",
       "      <td>726</td>\n",
       "      <td>146</td>\n",
       "      <td>146</td>\n",
       "      <td>4.972603</td>\n",
       "      <td>0.013546</td>\n",
       "    </tr>\n",
       "    <tr>\n",
       "      <th>2020-10-17</th>\n",
       "      <th>ES</th>\n",
       "      <td>0</td>\n",
       "      <td>10778</td>\n",
       "      <td>8932</td>\n",
       "      <td>767</td>\n",
       "      <td>174</td>\n",
       "      <td>174</td>\n",
       "      <td>4.408046</td>\n",
       "      <td>0.016144</td>\n",
       "    </tr>\n",
       "    <tr>\n",
       "      <th>2020-10-16</th>\n",
       "      <th>ES</th>\n",
       "      <td>15186</td>\n",
       "      <td>10778</td>\n",
       "      <td>737</td>\n",
       "      <td>769</td>\n",
       "      <td>149</td>\n",
       "      <td>149</td>\n",
       "      <td>5.161074</td>\n",
       "      <td>0.013824</td>\n",
       "    </tr>\n",
       "  </tbody>\n",
       "</table>\n",
       "</div>"
      ],
      "text/plain": [
       "                               new_cases  covid_cases  \\\n",
       "sample_date source_regions                              \n",
       "2020-11-12  ES,DE,DK,IE,IT,LV      56632        70242   \n",
       "2020-11-11  ES,DE,DK,IE,IT,LV      74177        72741   \n",
       "2020-11-10  ES,DE,DK,IE,IT,LV      59124        72476   \n",
       "2020-11-09  ES,DE,DK,IE,IT,LV     100008        72329   \n",
       "2020-11-08  ES,DE,IE,IT,LV         56547        71025   \n",
       "2020-11-07  ES,DE,IE,IT,LV         62050        69596   \n",
       "2020-11-06  ES,DE,IE,IT,LV         79454        68044   \n",
       "2020-11-05  ES,DE,IE,IT,LV         73194        67010   \n",
       "2020-11-04  ES,DE,IE,IT,LV         70966        66020   \n",
       "2020-11-03  ES,DE,IE,IT,LV         57154        64104   \n",
       "2020-11-02  ES,DE,IE,IT,LV         97809        62775   \n",
       "2020-11-01  ES,DE,IE,IT,LV         46545        60713   \n",
       "2020-10-31  ES,DE,IE,IT,LV         51184        58624   \n",
       "2020-10-30  ES,DE,IE,IT,LV         72219        56297   \n",
       "2020-10-29  ES                     23580        19115   \n",
       "2020-10-28  ES                     19765        18744   \n",
       "2020-10-27  ES                     18418        18345   \n",
       "2020-10-26  ES                     52188        17696   \n",
       "2020-10-25  ES                         0        15653   \n",
       "2020-10-24  ES                         0        15653   \n",
       "2020-10-23  ES                     19851        15653   \n",
       "2020-10-22  ES                     20986        14987   \n",
       "2020-10-21  ES                     16973        13891   \n",
       "2020-10-20  ES                     13873        13177   \n",
       "2020-10-19  ES                     37889        12212   \n",
       "2020-10-18  ES                         0        10778   \n",
       "2020-10-17  ES                         0        10778   \n",
       "2020-10-16  ES                     15186        10778   \n",
       "\n",
       "                               shared_teks_by_generation_date  \\\n",
       "sample_date source_regions                                      \n",
       "2020-11-12  ES,DE,DK,IE,IT,LV                             317   \n",
       "2020-11-11  ES,DE,DK,IE,IT,LV                            2484   \n",
       "2020-11-10  ES,DE,DK,IE,IT,LV                            5381   \n",
       "2020-11-09  ES,DE,DK,IE,IT,LV                            7646   \n",
       "2020-11-08  ES,DE,IE,IT,LV                               8848   \n",
       "2020-11-07  ES,DE,IE,IT,LV                              10162   \n",
       "2020-11-06  ES,DE,IE,IT,LV                              11943   \n",
       "2020-11-05  ES,DE,IE,IT,LV                              14195   \n",
       "2020-11-04  ES,DE,IE,IT,LV                              16331   \n",
       "2020-11-03  ES,DE,IE,IT,LV                              18312   \n",
       "2020-11-02  ES,DE,IE,IT,LV                              19749   \n",
       "2020-11-01  ES,DE,IE,IT,LV                              20448   \n",
       "2020-10-31  ES,DE,IE,IT,LV                              21459   \n",
       "2020-10-30  ES,DE,IE,IT,LV                              22997   \n",
       "2020-10-29  ES                                          22747   \n",
       "2020-10-28  ES                                          22541   \n",
       "2020-10-27  ES                                          22580   \n",
       "2020-10-26  ES                                          22617   \n",
       "2020-10-25  ES                                          21944   \n",
       "2020-10-24  ES                                          20758   \n",
       "2020-10-23  ES                                          19712   \n",
       "2020-10-22  ES                                          17299   \n",
       "2020-10-21  ES                                          14775   \n",
       "2020-10-20  ES                                          13006   \n",
       "2020-10-19  ES                                          11649   \n",
       "2020-10-18  ES                                          10346   \n",
       "2020-10-17  ES                                           8932   \n",
       "2020-10-16  ES                                            737   \n",
       "\n",
       "                               shared_teks_by_upload_date  \\\n",
       "sample_date source_regions                                  \n",
       "2020-11-12  ES,DE,DK,IE,IT,LV                       31792   \n",
       "2020-11-11  ES,DE,DK,IE,IT,LV                       30445   \n",
       "2020-11-10  ES,DE,DK,IE,IT,LV                       21163   \n",
       "2020-11-09  ES,DE,DK,IE,IT,LV                       16517   \n",
       "2020-11-08  ES,DE,IE,IT,LV                          16816   \n",
       "2020-11-07  ES,DE,IE,IT,LV                          23688   \n",
       "2020-11-06  ES,DE,IE,IT,LV                          28583   \n",
       "2020-11-05  ES,DE,IE,IT,LV                          26573   \n",
       "2020-11-04  ES,DE,IE,IT,LV                          28247   \n",
       "2020-11-03  ES,DE,IE,IT,LV                          20613   \n",
       "2020-11-02  ES,DE,IE,IT,LV                          16927   \n",
       "2020-11-01  ES,DE,IE,IT,LV                          16848   \n",
       "2020-10-31  ES,DE,IE,IT,LV                          20328   \n",
       "2020-10-30  ES,DE,IE,IT,LV                         100215   \n",
       "2020-10-29  ES                                       1847   \n",
       "2020-10-28  ES                                       1933   \n",
       "2020-10-27  ES                                        988   \n",
       "2020-10-26  ES                                        994   \n",
       "2020-10-25  ES                                        679   \n",
       "2020-10-24  ES                                        703   \n",
       "2020-10-23  ES                                        769   \n",
       "2020-10-22  ES                                        726   \n",
       "2020-10-21  ES                                        841   \n",
       "2020-10-20  ES                                        772   \n",
       "2020-10-19  ES                                        791   \n",
       "2020-10-18  ES                                        726   \n",
       "2020-10-17  ES                                        767   \n",
       "2020-10-16  ES                                        769   \n",
       "\n",
       "                               shared_teks_uploaded_on_generation_date  \\\n",
       "sample_date source_regions                                               \n",
       "2020-11-12  ES,DE,DK,IE,IT,LV                                      317   \n",
       "2020-11-11  ES,DE,DK,IE,IT,LV                                      300   \n",
       "2020-11-10  ES,DE,DK,IE,IT,LV                                      292   \n",
       "2020-11-09  ES,DE,DK,IE,IT,LV                                      236   \n",
       "2020-11-08  ES,DE,IE,IT,LV                                         209   \n",
       "2020-11-07  ES,DE,IE,IT,LV                                         313   \n",
       "2020-11-06  ES,DE,IE,IT,LV                                         263   \n",
       "2020-11-05  ES,DE,IE,IT,LV                                         267   \n",
       "2020-11-04  ES,DE,IE,IT,LV                                         344   \n",
       "2020-11-03  ES,DE,IE,IT,LV                                         280   \n",
       "2020-11-02  ES,DE,IE,IT,LV                                         264   \n",
       "2020-11-01  ES,DE,IE,IT,LV                                         277   \n",
       "2020-10-31  ES,DE,IE,IT,LV                                         305   \n",
       "2020-10-30  ES,DE,IE,IT,LV                                         382   \n",
       "2020-10-29  ES                                                     397   \n",
       "2020-10-28  ES                                                     406   \n",
       "2020-10-27  ES                                                     231   \n",
       "2020-10-26  ES                                                     215   \n",
       "2020-10-25  ES                                                     179   \n",
       "2020-10-24  ES                                                     177   \n",
       "2020-10-23  ES                                                     167   \n",
       "2020-10-22  ES                                                     180   \n",
       "2020-10-21  ES                                                     157   \n",
       "2020-10-20  ES                                                     149   \n",
       "2020-10-19  ES                                                     142   \n",
       "2020-10-18  ES                                                     146   \n",
       "2020-10-17  ES                                                     174   \n",
       "2020-10-16  ES                                                     149   \n",
       "\n",
       "                               shared_diagnoses  teks_per_shared_diagnosis  \\\n",
       "sample_date source_regions                                                   \n",
       "2020-11-12  ES,DE,DK,IE,IT,LV              3205                   9.919501   \n",
       "2020-11-11  ES,DE,DK,IE,IT,LV              3029                  10.051172   \n",
       "2020-11-10  ES,DE,DK,IE,IT,LV              2086                  10.145254   \n",
       "2020-11-09  ES,DE,DK,IE,IT,LV              1683                   9.814023   \n",
       "2020-11-08  ES,DE,IE,IT,LV                 1809                   9.295744   \n",
       "2020-11-07  ES,DE,IE,IT,LV                 2490                   9.513253   \n",
       "2020-11-06  ES,DE,IE,IT,LV                 2909                   9.825713   \n",
       "2020-11-05  ES,DE,IE,IT,LV                 2696                   9.856454   \n",
       "2020-11-04  ES,DE,IE,IT,LV                 2851                   9.907752   \n",
       "2020-11-03  ES,DE,IE,IT,LV                 1961                  10.511474   \n",
       "2020-11-02  ES,DE,IE,IT,LV                 1711                   9.893045   \n",
       "2020-11-01  ES,DE,IE,IT,LV                 1842                   9.146580   \n",
       "2020-10-31  ES,DE,IE,IT,LV                 2163                   9.398058   \n",
       "2020-10-30  ES,DE,IE,IT,LV                    0                   0.000000   \n",
       "2020-10-29  ES                              397                   4.652393   \n",
       "2020-10-28  ES                              406                   4.761084   \n",
       "2020-10-27  ES                              231                   4.277056   \n",
       "2020-10-26  ES                              215                   4.623256   \n",
       "2020-10-25  ES                              179                   3.793296   \n",
       "2020-10-24  ES                              177                   3.971751   \n",
       "2020-10-23  ES                              167                   4.604790   \n",
       "2020-10-22  ES                              180                   4.033333   \n",
       "2020-10-21  ES                              157                   5.356688   \n",
       "2020-10-20  ES                              149                   5.181208   \n",
       "2020-10-19  ES                              142                   5.570423   \n",
       "2020-10-18  ES                              146                   4.972603   \n",
       "2020-10-17  ES                              174                   4.408046   \n",
       "2020-10-16  ES                              149                   5.161074   \n",
       "\n",
       "                               shared_diagnoses_per_covid_case  \n",
       "sample_date source_regions                                      \n",
       "2020-11-12  ES,DE,DK,IE,IT,LV                         0.045628  \n",
       "2020-11-11  ES,DE,DK,IE,IT,LV                         0.041641  \n",
       "2020-11-10  ES,DE,DK,IE,IT,LV                         0.028782  \n",
       "2020-11-09  ES,DE,DK,IE,IT,LV                         0.023269  \n",
       "2020-11-08  ES,DE,IE,IT,LV                            0.025470  \n",
       "2020-11-07  ES,DE,IE,IT,LV                            0.035778  \n",
       "2020-11-06  ES,DE,IE,IT,LV                            0.042752  \n",
       "2020-11-05  ES,DE,IE,IT,LV                            0.040233  \n",
       "2020-11-04  ES,DE,IE,IT,LV                            0.043184  \n",
       "2020-11-03  ES,DE,IE,IT,LV                            0.030591  \n",
       "2020-11-02  ES,DE,IE,IT,LV                            0.027256  \n",
       "2020-11-01  ES,DE,IE,IT,LV                            0.030339  \n",
       "2020-10-31  ES,DE,IE,IT,LV                            0.036896  \n",
       "2020-10-30  ES,DE,IE,IT,LV                            0.000000  \n",
       "2020-10-29  ES                                        0.020769  \n",
       "2020-10-28  ES                                        0.021660  \n",
       "2020-10-27  ES                                        0.012592  \n",
       "2020-10-26  ES                                        0.012150  \n",
       "2020-10-25  ES                                        0.011436  \n",
       "2020-10-24  ES                                        0.011308  \n",
       "2020-10-23  ES                                        0.010669  \n",
       "2020-10-22  ES                                        0.012010  \n",
       "2020-10-21  ES                                        0.011302  \n",
       "2020-10-20  ES                                        0.011308  \n",
       "2020-10-19  ES                                        0.011628  \n",
       "2020-10-18  ES                                        0.013546  \n",
       "2020-10-17  ES                                        0.016144  \n",
       "2020-10-16  ES                                        0.013824  "
      ]
     },
     "execution_count": 47,
     "metadata": {},
     "output_type": "execute_result"
    }
   ],
   "source": [
    "with pd.option_context(\"mode.use_inf_as_na\", True):\n",
    "    result_summary_df = result_summary_df.fillna(0).astype(int)\n",
    "    result_summary_df[\"teks_per_shared_diagnosis\"] = \\\n",
    "        (result_summary_df.shared_teks_by_upload_date / result_summary_df.shared_diagnoses).fillna(0)\n",
    "    result_summary_df[\"shared_diagnoses_per_covid_case\"] = \\\n",
    "        (result_summary_df.shared_diagnoses / result_summary_df.covid_cases).fillna(0)\n",
    "\n",
    "result_summary_df.head(daily_plot_days)"
   ]
  },
  {
   "cell_type": "code",
   "execution_count": 48,
   "metadata": {
    "collapsed": false,
    "execution": {
     "iopub.execute_input": "2020-11-12T23:23:42.864458Z",
     "iopub.status.busy": "2020-11-12T23:23:42.863806Z",
     "iopub.status.idle": "2020-11-12T23:23:42.886268Z",
     "shell.execute_reply": "2020-11-12T23:23:42.885775Z"
    },
    "papermill": {
     "duration": 0.094014,
     "end_time": "2020-11-12T23:23:42.886391",
     "exception": false,
     "start_time": "2020-11-12T23:23:42.792377",
     "status": "completed"
    },
    "pycharm": {
     "name": "#%%\n"
    },
    "tags": []
   },
   "outputs": [
    {
     "data": {
      "text/html": [
       "<div>\n",
       "<style scoped>\n",
       "    .dataframe tbody tr th:only-of-type {\n",
       "        vertical-align: middle;\n",
       "    }\n",
       "\n",
       "    .dataframe tbody tr th {\n",
       "        vertical-align: top;\n",
       "    }\n",
       "\n",
       "    .dataframe thead th {\n",
       "        text-align: right;\n",
       "    }\n",
       "</style>\n",
       "<table border=\"1\" class=\"dataframe\">\n",
       "  <thead>\n",
       "    <tr style=\"text-align: right;\">\n",
       "      <th></th>\n",
       "      <th></th>\n",
       "      <th>covid_cases</th>\n",
       "      <th>shared_teks_by_generation_date</th>\n",
       "      <th>shared_teks_by_upload_date</th>\n",
       "      <th>shared_diagnoses</th>\n",
       "      <th>teks_per_shared_diagnosis</th>\n",
       "      <th>shared_diagnoses_per_covid_case</th>\n",
       "    </tr>\n",
       "    <tr>\n",
       "      <th>sample_date</th>\n",
       "      <th>source_regions</th>\n",
       "      <th></th>\n",
       "      <th></th>\n",
       "      <th></th>\n",
       "      <th></th>\n",
       "      <th></th>\n",
       "      <th></th>\n",
       "    </tr>\n",
       "  </thead>\n",
       "  <tbody>\n",
       "    <tr>\n",
       "      <th>2020-11-12</th>\n",
       "      <th>ES,DE,DK,IE,IT,LV</th>\n",
       "      <td>496453</td>\n",
       "      <td>46781</td>\n",
       "      <td>169004</td>\n",
       "      <td>17211</td>\n",
       "      <td>9.819534</td>\n",
       "      <td>0.034668</td>\n",
       "    </tr>\n",
       "    <tr>\n",
       "      <th>2020-11-11</th>\n",
       "      <th>ES,DE,DK,IE,IT,LV</th>\n",
       "      <td>493221</td>\n",
       "      <td>60659</td>\n",
       "      <td>163785</td>\n",
       "      <td>16702</td>\n",
       "      <td>9.806311</td>\n",
       "      <td>0.033863</td>\n",
       "    </tr>\n",
       "    <tr>\n",
       "      <th>2020-11-10</th>\n",
       "      <th>ES,DE,DK,IE,IT,LV</th>\n",
       "      <td>486500</td>\n",
       "      <td>74506</td>\n",
       "      <td>161587</td>\n",
       "      <td>16524</td>\n",
       "      <td>9.778928</td>\n",
       "      <td>0.033965</td>\n",
       "    </tr>\n",
       "    <tr>\n",
       "      <th>2020-11-09</th>\n",
       "      <th>ES,DE,DK,IE,IT,LV</th>\n",
       "      <td>478128</td>\n",
       "      <td>87437</td>\n",
       "      <td>161037</td>\n",
       "      <td>16399</td>\n",
       "      <td>9.819928</td>\n",
       "      <td>0.034298</td>\n",
       "    </tr>\n",
       "    <tr>\n",
       "      <th>2020-11-08</th>\n",
       "      <th>ES,DE,IE,IT,LV</th>\n",
       "      <td>468574</td>\n",
       "      <td>99540</td>\n",
       "      <td>161447</td>\n",
       "      <td>16427</td>\n",
       "      <td>9.828149</td>\n",
       "      <td>0.035057</td>\n",
       "    </tr>\n",
       "  </tbody>\n",
       "</table>\n",
       "</div>"
      ],
      "text/plain": [
       "                               covid_cases  shared_teks_by_generation_date  \\\n",
       "sample_date source_regions                                                   \n",
       "2020-11-12  ES,DE,DK,IE,IT,LV       496453                           46781   \n",
       "2020-11-11  ES,DE,DK,IE,IT,LV       493221                           60659   \n",
       "2020-11-10  ES,DE,DK,IE,IT,LV       486500                           74506   \n",
       "2020-11-09  ES,DE,DK,IE,IT,LV       478128                           87437   \n",
       "2020-11-08  ES,DE,IE,IT,LV          468574                           99540   \n",
       "\n",
       "                               shared_teks_by_upload_date  shared_diagnoses  \\\n",
       "sample_date source_regions                                                    \n",
       "2020-11-12  ES,DE,DK,IE,IT,LV                      169004             17211   \n",
       "2020-11-11  ES,DE,DK,IE,IT,LV                      163785             16702   \n",
       "2020-11-10  ES,DE,DK,IE,IT,LV                      161587             16524   \n",
       "2020-11-09  ES,DE,DK,IE,IT,LV                      161037             16399   \n",
       "2020-11-08  ES,DE,IE,IT,LV                         161447             16427   \n",
       "\n",
       "                               teks_per_shared_diagnosis  \\\n",
       "sample_date source_regions                                 \n",
       "2020-11-12  ES,DE,DK,IE,IT,LV                   9.819534   \n",
       "2020-11-11  ES,DE,DK,IE,IT,LV                   9.806311   \n",
       "2020-11-10  ES,DE,DK,IE,IT,LV                   9.778928   \n",
       "2020-11-09  ES,DE,DK,IE,IT,LV                   9.819928   \n",
       "2020-11-08  ES,DE,IE,IT,LV                      9.828149   \n",
       "\n",
       "                               shared_diagnoses_per_covid_case  \n",
       "sample_date source_regions                                      \n",
       "2020-11-12  ES,DE,DK,IE,IT,LV                         0.034668  \n",
       "2020-11-11  ES,DE,DK,IE,IT,LV                         0.033863  \n",
       "2020-11-10  ES,DE,DK,IE,IT,LV                         0.033965  \n",
       "2020-11-09  ES,DE,DK,IE,IT,LV                         0.034298  \n",
       "2020-11-08  ES,DE,IE,IT,LV                            0.035057  "
      ]
     },
     "execution_count": 48,
     "metadata": {},
     "output_type": "execute_result"
    }
   ],
   "source": [
    "weekly_result_summary_df = result_summary_df \\\n",
    "    .sort_index(ascending=True).fillna(0).rolling(7).agg({\n",
    "    \"covid_cases\": \"sum\",\n",
    "    \"shared_teks_by_generation_date\": \"sum\",\n",
    "    \"shared_teks_by_upload_date\": \"sum\",\n",
    "    \"shared_diagnoses\": \"sum\"\n",
    "}).sort_index(ascending=False)\n",
    "\n",
    "with pd.option_context(\"mode.use_inf_as_na\", True):\n",
    "    weekly_result_summary_df = weekly_result_summary_df.fillna(0).astype(int)\n",
    "    weekly_result_summary_df[\"teks_per_shared_diagnosis\"] = \\\n",
    "        (weekly_result_summary_df.shared_teks_by_upload_date / weekly_result_summary_df.shared_diagnoses).fillna(0)\n",
    "    weekly_result_summary_df[\"shared_diagnoses_per_covid_case\"] = \\\n",
    "        (weekly_result_summary_df.shared_diagnoses / weekly_result_summary_df.covid_cases).fillna(0)\n",
    "\n",
    "weekly_result_summary_df.head()"
   ]
  },
  {
   "cell_type": "code",
   "execution_count": 49,
   "metadata": {
    "collapsed": false,
    "execution": {
     "iopub.execute_input": "2020-11-12T23:23:43.014908Z",
     "iopub.status.busy": "2020-11-12T23:23:43.014341Z",
     "iopub.status.idle": "2020-11-12T23:23:43.017635Z",
     "shell.execute_reply": "2020-11-12T23:23:43.017185Z"
    },
    "papermill": {
     "duration": 0.070202,
     "end_time": "2020-11-12T23:23:43.017755",
     "exception": false,
     "start_time": "2020-11-12T23:23:42.947553",
     "status": "completed"
    },
    "pycharm": {
     "name": "#%%\n"
    },
    "tags": []
   },
   "outputs": [
    {
     "data": {
      "text/plain": [
       "{'covid_cases': 493221,\n",
       " 'shared_teks_by_generation_date': 60659,\n",
       " 'shared_teks_by_upload_date': 163785,\n",
       " 'shared_diagnoses': 16702,\n",
       " 'teks_per_shared_diagnosis': 9.806310621482456,\n",
       " 'shared_diagnoses_per_covid_case': 0.033863116128469796}"
      ]
     },
     "execution_count": 49,
     "metadata": {},
     "output_type": "execute_result"
    }
   ],
   "source": [
    "last_7_days_summary = weekly_result_summary_df.to_dict(orient=\"records\")[1]\n",
    "last_7_days_summary"
   ]
  },
  {
   "cell_type": "markdown",
   "metadata": {
    "collapsed": false,
    "papermill": {
     "duration": 0.059931,
     "end_time": "2020-11-12T23:23:43.138436",
     "exception": false,
     "start_time": "2020-11-12T23:23:43.078505",
     "status": "completed"
    },
    "tags": []
   },
   "source": [
    "## Report Results"
   ]
  },
  {
   "cell_type": "code",
   "execution_count": 50,
   "metadata": {
    "collapsed": false,
    "execution": {
     "iopub.execute_input": "2020-11-12T23:23:43.262934Z",
     "iopub.status.busy": "2020-11-12T23:23:43.262275Z",
     "iopub.status.idle": "2020-11-12T23:23:43.266321Z",
     "shell.execute_reply": "2020-11-12T23:23:43.265380Z"
    },
    "papermill": {
     "duration": 0.069299,
     "end_time": "2020-11-12T23:23:43.266553",
     "exception": false,
     "start_time": "2020-11-12T23:23:43.197254",
     "status": "completed"
    },
    "pycharm": {
     "name": "#%%\n"
    },
    "tags": []
   },
   "outputs": [],
   "source": [
    "display_column_name_mapping = {\n",
    "    \"sample_date\": \"Sample\\u00A0Date\\u00A0(UTC)\",\n",
    "    \"source_regions\": \"Source Countries\",\n",
    "    \"datetime_utc\": \"Timestamp (UTC)\",\n",
    "    \"upload_date\": \"Upload Date (UTC)\",\n",
    "    \"generation_to_upload_days\": \"Generation to Upload Period in Days\",\n",
    "    \"region\": \"Backend\",\n",
    "    \"region_x\": \"Backend\\u00A0(A)\",\n",
    "    \"region_y\": \"Backend\\u00A0(B)\",\n",
    "    \"common_teks\": \"Common TEKs Shared Between Backends\",\n",
    "    \"common_teks_fraction\": \"Fraction of TEKs in Backend (A) Available in Backend (B)\",\n",
    "    \"covid_cases\": \"COVID-19 Cases in Source Countries (7-day Rolling Average)\",\n",
    "    \"shared_teks_by_generation_date\": \"Shared TEKs by Generation Date\",\n",
    "    \"shared_teks_by_upload_date\": \"Shared TEKs by Upload Date\",\n",
    "    \"shared_diagnoses\": \"Shared Diagnoses (Estimation)\",\n",
    "    \"teks_per_shared_diagnosis\": \"TEKs Uploaded per Shared Diagnosis\",\n",
    "    \"shared_diagnoses_per_covid_case\": \"Usage Ratio (Fraction of Cases in Source Countries Which Shared Diagnosis)\",\n",
    "    \"shared_teks_uploaded_on_generation_date\": \"Shared TEKs Uploaded on Generation Date\",\n",
    "}"
   ]
  },
  {
   "cell_type": "code",
   "execution_count": 51,
   "metadata": {
    "collapsed": false,
    "execution": {
     "iopub.execute_input": "2020-11-12T23:23:43.393422Z",
     "iopub.status.busy": "2020-11-12T23:23:43.392843Z",
     "iopub.status.idle": "2020-11-12T23:23:43.395286Z",
     "shell.execute_reply": "2020-11-12T23:23:43.394807Z"
    },
    "papermill": {
     "duration": 0.066572,
     "end_time": "2020-11-12T23:23:43.395405",
     "exception": false,
     "start_time": "2020-11-12T23:23:43.328833",
     "status": "completed"
    },
    "pycharm": {
     "name": "#%%\n"
    },
    "tags": []
   },
   "outputs": [],
   "source": [
    "summary_columns = [\n",
    "    \"covid_cases\",\n",
    "    \"shared_teks_by_generation_date\",\n",
    "    \"shared_teks_by_upload_date\",\n",
    "    \"shared_teks_uploaded_on_generation_date\",\n",
    "    \"shared_diagnoses\",\n",
    "    \"teks_per_shared_diagnosis\",\n",
    "    \"shared_diagnoses_per_covid_case\",\n",
    "]"
   ]
  },
  {
   "cell_type": "markdown",
   "metadata": {
    "collapsed": false,
    "papermill": {
     "duration": 0.06496,
     "end_time": "2020-11-12T23:23:43.523444",
     "exception": false,
     "start_time": "2020-11-12T23:23:43.458484",
     "status": "completed"
    },
    "tags": []
   },
   "source": [
    "### Daily Summary Table"
   ]
  },
  {
   "cell_type": "code",
   "execution_count": 52,
   "metadata": {
    "collapsed": false,
    "execution": {
     "iopub.execute_input": "2020-11-12T23:23:43.679135Z",
     "iopub.status.busy": "2020-11-12T23:23:43.678489Z",
     "iopub.status.idle": "2020-11-12T23:23:43.681388Z",
     "shell.execute_reply": "2020-11-12T23:23:43.681997Z"
    },
    "papermill": {
     "duration": 0.094496,
     "end_time": "2020-11-12T23:23:43.682391",
     "exception": false,
     "start_time": "2020-11-12T23:23:43.587895",
     "status": "completed"
    },
    "pycharm": {
     "name": "#%%\n"
    },
    "tags": []
   },
   "outputs": [
    {
     "data": {
      "text/html": [
       "<div>\n",
       "<style scoped>\n",
       "    .dataframe tbody tr th:only-of-type {\n",
       "        vertical-align: middle;\n",
       "    }\n",
       "\n",
       "    .dataframe tbody tr th {\n",
       "        vertical-align: top;\n",
       "    }\n",
       "\n",
       "    .dataframe thead th {\n",
       "        text-align: right;\n",
       "    }\n",
       "</style>\n",
       "<table border=\"1\" class=\"dataframe\">\n",
       "  <thead>\n",
       "    <tr style=\"text-align: right;\">\n",
       "      <th></th>\n",
       "      <th></th>\n",
       "      <th>COVID-19 Cases in Source Countries (7-day Rolling Average)</th>\n",
       "      <th>Shared TEKs by Generation Date</th>\n",
       "      <th>Shared TEKs by Upload Date</th>\n",
       "      <th>Shared TEKs Uploaded on Generation Date</th>\n",
       "      <th>Shared Diagnoses (Estimation)</th>\n",
       "      <th>TEKs Uploaded per Shared Diagnosis</th>\n",
       "      <th>Usage Ratio (Fraction of Cases in Source Countries Which Shared Diagnosis)</th>\n",
       "    </tr>\n",
       "    <tr>\n",
       "      <th>Sample Date (UTC)</th>\n",
       "      <th>Source Countries</th>\n",
       "      <th></th>\n",
       "      <th></th>\n",
       "      <th></th>\n",
       "      <th></th>\n",
       "      <th></th>\n",
       "      <th></th>\n",
       "      <th></th>\n",
       "    </tr>\n",
       "  </thead>\n",
       "  <tbody>\n",
       "    <tr>\n",
       "      <th>2020-11-12</th>\n",
       "      <th>ES,DE,DK,IE,IT,LV</th>\n",
       "      <td>70242</td>\n",
       "      <td>317</td>\n",
       "      <td>31792</td>\n",
       "      <td>317</td>\n",
       "      <td>3205</td>\n",
       "      <td>9.919501</td>\n",
       "      <td>0.045628</td>\n",
       "    </tr>\n",
       "    <tr>\n",
       "      <th>2020-11-11</th>\n",
       "      <th>ES,DE,DK,IE,IT,LV</th>\n",
       "      <td>72741</td>\n",
       "      <td>2484</td>\n",
       "      <td>30445</td>\n",
       "      <td>300</td>\n",
       "      <td>3029</td>\n",
       "      <td>10.051172</td>\n",
       "      <td>0.041641</td>\n",
       "    </tr>\n",
       "    <tr>\n",
       "      <th>2020-11-10</th>\n",
       "      <th>ES,DE,DK,IE,IT,LV</th>\n",
       "      <td>72476</td>\n",
       "      <td>5381</td>\n",
       "      <td>21163</td>\n",
       "      <td>292</td>\n",
       "      <td>2086</td>\n",
       "      <td>10.145254</td>\n",
       "      <td>0.028782</td>\n",
       "    </tr>\n",
       "    <tr>\n",
       "      <th>2020-11-09</th>\n",
       "      <th>ES,DE,DK,IE,IT,LV</th>\n",
       "      <td>72329</td>\n",
       "      <td>7646</td>\n",
       "      <td>16517</td>\n",
       "      <td>236</td>\n",
       "      <td>1683</td>\n",
       "      <td>9.814023</td>\n",
       "      <td>0.023269</td>\n",
       "    </tr>\n",
       "    <tr>\n",
       "      <th>2020-11-08</th>\n",
       "      <th>ES,DE,IE,IT,LV</th>\n",
       "      <td>71025</td>\n",
       "      <td>8848</td>\n",
       "      <td>16816</td>\n",
       "      <td>209</td>\n",
       "      <td>1809</td>\n",
       "      <td>9.295744</td>\n",
       "      <td>0.025470</td>\n",
       "    </tr>\n",
       "    <tr>\n",
       "      <th>...</th>\n",
       "      <th>...</th>\n",
       "      <td>...</td>\n",
       "      <td>...</td>\n",
       "      <td>...</td>\n",
       "      <td>...</td>\n",
       "      <td>...</td>\n",
       "      <td>...</td>\n",
       "      <td>...</td>\n",
       "    </tr>\n",
       "    <tr>\n",
       "      <th>2020-08-25</th>\n",
       "      <th>ES</th>\n",
       "      <td>6908</td>\n",
       "      <td>58</td>\n",
       "      <td>0</td>\n",
       "      <td>0</td>\n",
       "      <td>0</td>\n",
       "      <td>0.000000</td>\n",
       "      <td>0.000000</td>\n",
       "    </tr>\n",
       "    <tr>\n",
       "      <th>2020-08-24</th>\n",
       "      <th>ES</th>\n",
       "      <td>6622</td>\n",
       "      <td>48</td>\n",
       "      <td>0</td>\n",
       "      <td>0</td>\n",
       "      <td>0</td>\n",
       "      <td>0.000000</td>\n",
       "      <td>0.000000</td>\n",
       "    </tr>\n",
       "    <tr>\n",
       "      <th>2020-08-23</th>\n",
       "      <th>ES</th>\n",
       "      <td>6177</td>\n",
       "      <td>28</td>\n",
       "      <td>0</td>\n",
       "      <td>0</td>\n",
       "      <td>0</td>\n",
       "      <td>0.000000</td>\n",
       "      <td>0.000000</td>\n",
       "    </tr>\n",
       "    <tr>\n",
       "      <th>2020-08-22</th>\n",
       "      <th>ES</th>\n",
       "      <td>6177</td>\n",
       "      <td>18</td>\n",
       "      <td>0</td>\n",
       "      <td>0</td>\n",
       "      <td>0</td>\n",
       "      <td>0.000000</td>\n",
       "      <td>0.000000</td>\n",
       "    </tr>\n",
       "    <tr>\n",
       "      <th>2020-08-21</th>\n",
       "      <th>ES</th>\n",
       "      <td>6177</td>\n",
       "      <td>11</td>\n",
       "      <td>0</td>\n",
       "      <td>0</td>\n",
       "      <td>0</td>\n",
       "      <td>0.000000</td>\n",
       "      <td>0.000000</td>\n",
       "    </tr>\n",
       "  </tbody>\n",
       "</table>\n",
       "<p>84 rows × 7 columns</p>\n",
       "</div>"
      ],
      "text/plain": [
       "                                     COVID-19 Cases in Source Countries (7-day Rolling Average)  \\\n",
       "Sample Date (UTC) Source Countries                                                                \n",
       "2020-11-12        ES,DE,DK,IE,IT,LV                                              70242            \n",
       "2020-11-11        ES,DE,DK,IE,IT,LV                                              72741            \n",
       "2020-11-10        ES,DE,DK,IE,IT,LV                                              72476            \n",
       "2020-11-09        ES,DE,DK,IE,IT,LV                                              72329            \n",
       "2020-11-08        ES,DE,IE,IT,LV                                                 71025            \n",
       "...                                                                                ...            \n",
       "2020-08-25        ES                                                              6908            \n",
       "2020-08-24        ES                                                              6622            \n",
       "2020-08-23        ES                                                              6177            \n",
       "2020-08-22        ES                                                              6177            \n",
       "2020-08-21        ES                                                              6177            \n",
       "\n",
       "                                     Shared TEKs by Generation Date  \\\n",
       "Sample Date (UTC) Source Countries                                    \n",
       "2020-11-12        ES,DE,DK,IE,IT,LV                             317   \n",
       "2020-11-11        ES,DE,DK,IE,IT,LV                            2484   \n",
       "2020-11-10        ES,DE,DK,IE,IT,LV                            5381   \n",
       "2020-11-09        ES,DE,DK,IE,IT,LV                            7646   \n",
       "2020-11-08        ES,DE,IE,IT,LV                               8848   \n",
       "...                                                             ...   \n",
       "2020-08-25        ES                                             58   \n",
       "2020-08-24        ES                                             48   \n",
       "2020-08-23        ES                                             28   \n",
       "2020-08-22        ES                                             18   \n",
       "2020-08-21        ES                                             11   \n",
       "\n",
       "                                     Shared TEKs by Upload Date  \\\n",
       "Sample Date (UTC) Source Countries                                \n",
       "2020-11-12        ES,DE,DK,IE,IT,LV                       31792   \n",
       "2020-11-11        ES,DE,DK,IE,IT,LV                       30445   \n",
       "2020-11-10        ES,DE,DK,IE,IT,LV                       21163   \n",
       "2020-11-09        ES,DE,DK,IE,IT,LV                       16517   \n",
       "2020-11-08        ES,DE,IE,IT,LV                          16816   \n",
       "...                                                         ...   \n",
       "2020-08-25        ES                                          0   \n",
       "2020-08-24        ES                                          0   \n",
       "2020-08-23        ES                                          0   \n",
       "2020-08-22        ES                                          0   \n",
       "2020-08-21        ES                                          0   \n",
       "\n",
       "                                     Shared TEKs Uploaded on Generation Date  \\\n",
       "Sample Date (UTC) Source Countries                                             \n",
       "2020-11-12        ES,DE,DK,IE,IT,LV                                      317   \n",
       "2020-11-11        ES,DE,DK,IE,IT,LV                                      300   \n",
       "2020-11-10        ES,DE,DK,IE,IT,LV                                      292   \n",
       "2020-11-09        ES,DE,DK,IE,IT,LV                                      236   \n",
       "2020-11-08        ES,DE,IE,IT,LV                                         209   \n",
       "...                                                                      ...   \n",
       "2020-08-25        ES                                                       0   \n",
       "2020-08-24        ES                                                       0   \n",
       "2020-08-23        ES                                                       0   \n",
       "2020-08-22        ES                                                       0   \n",
       "2020-08-21        ES                                                       0   \n",
       "\n",
       "                                     Shared Diagnoses (Estimation)  \\\n",
       "Sample Date (UTC) Source Countries                                   \n",
       "2020-11-12        ES,DE,DK,IE,IT,LV                           3205   \n",
       "2020-11-11        ES,DE,DK,IE,IT,LV                           3029   \n",
       "2020-11-10        ES,DE,DK,IE,IT,LV                           2086   \n",
       "2020-11-09        ES,DE,DK,IE,IT,LV                           1683   \n",
       "2020-11-08        ES,DE,IE,IT,LV                              1809   \n",
       "...                                                            ...   \n",
       "2020-08-25        ES                                             0   \n",
       "2020-08-24        ES                                             0   \n",
       "2020-08-23        ES                                             0   \n",
       "2020-08-22        ES                                             0   \n",
       "2020-08-21        ES                                             0   \n",
       "\n",
       "                                     TEKs Uploaded per Shared Diagnosis  \\\n",
       "Sample Date (UTC) Source Countries                                        \n",
       "2020-11-12        ES,DE,DK,IE,IT,LV                            9.919501   \n",
       "2020-11-11        ES,DE,DK,IE,IT,LV                           10.051172   \n",
       "2020-11-10        ES,DE,DK,IE,IT,LV                           10.145254   \n",
       "2020-11-09        ES,DE,DK,IE,IT,LV                            9.814023   \n",
       "2020-11-08        ES,DE,IE,IT,LV                               9.295744   \n",
       "...                                                                 ...   \n",
       "2020-08-25        ES                                           0.000000   \n",
       "2020-08-24        ES                                           0.000000   \n",
       "2020-08-23        ES                                           0.000000   \n",
       "2020-08-22        ES                                           0.000000   \n",
       "2020-08-21        ES                                           0.000000   \n",
       "\n",
       "                                     Usage Ratio (Fraction of Cases in Source Countries Which Shared Diagnosis)  \n",
       "Sample Date (UTC) Source Countries                                                                               \n",
       "2020-11-12        ES,DE,DK,IE,IT,LV                                           0.045628                           \n",
       "2020-11-11        ES,DE,DK,IE,IT,LV                                           0.041641                           \n",
       "2020-11-10        ES,DE,DK,IE,IT,LV                                           0.028782                           \n",
       "2020-11-09        ES,DE,DK,IE,IT,LV                                           0.023269                           \n",
       "2020-11-08        ES,DE,IE,IT,LV                                              0.025470                           \n",
       "...                                                                                ...                           \n",
       "2020-08-25        ES                                                          0.000000                           \n",
       "2020-08-24        ES                                                          0.000000                           \n",
       "2020-08-23        ES                                                          0.000000                           \n",
       "2020-08-22        ES                                                          0.000000                           \n",
       "2020-08-21        ES                                                          0.000000                           \n",
       "\n",
       "[84 rows x 7 columns]"
      ]
     },
     "execution_count": 52,
     "metadata": {},
     "output_type": "execute_result"
    }
   ],
   "source": [
    "result_summary_df_ = result_summary_df.copy()\n",
    "result_summary_df = result_summary_df[summary_columns]\n",
    "result_summary_with_display_names_df = result_summary_df \\\n",
    "    .rename_axis(index=display_column_name_mapping) \\\n",
    "    .rename(columns=display_column_name_mapping)\n",
    "result_summary_with_display_names_df"
   ]
  },
  {
   "cell_type": "markdown",
   "metadata": {
    "collapsed": false,
    "papermill": {
     "duration": 0.067413,
     "end_time": "2020-11-12T23:23:43.814827",
     "exception": false,
     "start_time": "2020-11-12T23:23:43.747414",
     "status": "completed"
    },
    "tags": []
   },
   "source": [
    "### Daily Summary Plots"
   ]
  },
  {
   "cell_type": "code",
   "execution_count": 53,
   "metadata": {
    "collapsed": false,
    "execution": {
     "iopub.execute_input": "2020-11-12T23:23:43.983325Z",
     "iopub.status.busy": "2020-11-12T23:23:43.973415Z",
     "iopub.status.idle": "2020-11-12T23:23:46.797125Z",
     "shell.execute_reply": "2020-11-12T23:23:46.797638Z"
    },
    "papermill": {
     "duration": 2.917046,
     "end_time": "2020-11-12T23:23:46.797818",
     "exception": false,
     "start_time": "2020-11-12T23:23:43.880772",
     "status": "completed"
    },
    "pycharm": {
     "name": "#%%\n"
    },
    "tags": []
   },
   "outputs": [
    {
     "data": {
      "image/png": "[encoded data removed]",
      "text/plain": [
       "<Figure size 1080x1584 with 7 Axes>"
      ]
     },
     "metadata": {},
     "output_type": "display_data"
    }
   ],
   "source": [
    "result_plot_summary_df = result_summary_df.head(daily_plot_days)[summary_columns] \\\n",
    "    .droplevel(level=[\"source_regions\"]) \\\n",
    "    .rename_axis(index=display_column_name_mapping) \\\n",
    "    .rename(columns=display_column_name_mapping)\n",
    "summary_ax_list = result_plot_summary_df.sort_index(ascending=True).plot.bar(\n",
    "    title=f\"Daily Summary\",\n",
    "    rot=45, subplots=True, figsize=(15, 22), legend=False)\n",
    "ax_ = summary_ax_list[-1]\n",
    "ax_.get_figure().tight_layout()\n",
    "ax_.get_figure().subplots_adjust(top=0.95)\n",
    "ax_.yaxis.set_major_formatter(matplotlib.ticker.PercentFormatter(1.0))\n",
    "_ = ax_.set_xticklabels(sorted(result_plot_summary_df.index.strftime(\"%Y-%m-%d\").tolist()))"
   ]
  },
  {
   "cell_type": "markdown",
   "metadata": {
    "execution": {
     "iopub.execute_input": "2020-09-02T08:20:14.568088Z",
     "iopub.status.busy": "2020-09-02T08:20:14.567425Z",
     "iopub.status.idle": "2020-09-02T08:20:14.571422Z",
     "shell.execute_reply": "2020-09-02T08:20:14.571952Z"
    },
    "papermill": {
     "duration": 0.067847,
     "end_time": "2020-11-12T23:23:46.934322",
     "exception": false,
     "start_time": "2020-11-12T23:23:46.866475",
     "status": "completed"
    },
    "pycharm": {
     "name": "#%% md\n"
    },
    "tags": []
   },
   "source": [
    "### Daily Generation to Upload Period Table"
   ]
  },
  {
   "cell_type": "code",
   "execution_count": 54,
   "metadata": {
    "execution": {
     "iopub.execute_input": "2020-11-12T23:23:47.082562Z",
     "iopub.status.busy": "2020-11-12T23:23:47.081853Z",
     "iopub.status.idle": "2020-11-12T23:23:47.091729Z",
     "shell.execute_reply": "2020-11-12T23:23:47.092156Z"
    },
    "papermill": {
     "duration": 0.08823,
     "end_time": "2020-11-12T23:23:47.092301",
     "exception": false,
     "start_time": "2020-11-12T23:23:47.004071",
     "status": "completed"
    },
    "pycharm": {
     "name": "#%%\n"
    },
    "tags": []
   },
   "outputs": [
    {
     "data": {
      "text/html": [
       "<div>\n",
       "<style scoped>\n",
       "    .dataframe tbody tr th:only-of-type {\n",
       "        vertical-align: middle;\n",
       "    }\n",
       "\n",
       "    .dataframe tbody tr th {\n",
       "        vertical-align: top;\n",
       "    }\n",
       "\n",
       "    .dataframe thead th {\n",
       "        text-align: right;\n",
       "    }\n",
       "</style>\n",
       "<table border=\"1\" class=\"dataframe\">\n",
       "  <thead>\n",
       "    <tr style=\"text-align: right;\">\n",
       "      <th>Generation to Upload Period in Days</th>\n",
       "      <th>0</th>\n",
       "      <th>1</th>\n",
       "      <th>2</th>\n",
       "      <th>3</th>\n",
       "      <th>4</th>\n",
       "      <th>5</th>\n",
       "      <th>6</th>\n",
       "      <th>7</th>\n",
       "      <th>8</th>\n",
       "      <th>9</th>\n",
       "      <th>10</th>\n",
       "      <th>11</th>\n",
       "      <th>12</th>\n",
       "      <th>13</th>\n",
       "    </tr>\n",
       "    <tr>\n",
       "      <th>Upload Date (UTC)</th>\n",
       "      <th></th>\n",
       "      <th></th>\n",
       "      <th></th>\n",
       "      <th></th>\n",
       "      <th></th>\n",
       "      <th></th>\n",
       "      <th></th>\n",
       "      <th></th>\n",
       "      <th></th>\n",
       "      <th></th>\n",
       "      <th></th>\n",
       "      <th></th>\n",
       "      <th></th>\n",
       "      <th></th>\n",
       "    </tr>\n",
       "  </thead>\n",
       "  <tbody>\n",
       "    <tr>\n",
       "      <th>2020-11-12</th>\n",
       "      <td>317</td>\n",
       "      <td>2184</td>\n",
       "      <td>3205</td>\n",
       "      <td>2915</td>\n",
       "      <td>2701</td>\n",
       "      <td>2606</td>\n",
       "      <td>2490</td>\n",
       "      <td>2410</td>\n",
       "      <td>2319</td>\n",
       "      <td>2236</td>\n",
       "      <td>2183</td>\n",
       "      <td>2113</td>\n",
       "      <td>2074</td>\n",
       "      <td>2039</td>\n",
       "    </tr>\n",
       "    <tr>\n",
       "      <th>2020-11-11</th>\n",
       "      <td>300</td>\n",
       "      <td>1884</td>\n",
       "      <td>3029</td>\n",
       "      <td>2726</td>\n",
       "      <td>2628</td>\n",
       "      <td>2523</td>\n",
       "      <td>2420</td>\n",
       "      <td>2318</td>\n",
       "      <td>2240</td>\n",
       "      <td>2172</td>\n",
       "      <td>2116</td>\n",
       "      <td>2072</td>\n",
       "      <td>2027</td>\n",
       "      <td>1990</td>\n",
       "    </tr>\n",
       "    <tr>\n",
       "      <th>2020-11-10</th>\n",
       "      <td>292</td>\n",
       "      <td>1466</td>\n",
       "      <td>2086</td>\n",
       "      <td>2003</td>\n",
       "      <td>1908</td>\n",
       "      <td>1781</td>\n",
       "      <td>1667</td>\n",
       "      <td>1569</td>\n",
       "      <td>1505</td>\n",
       "      <td>1455</td>\n",
       "      <td>1409</td>\n",
       "      <td>1374</td>\n",
       "      <td>1350</td>\n",
       "      <td>1298</td>\n",
       "    </tr>\n",
       "    <tr>\n",
       "      <th>2020-11-09</th>\n",
       "      <td>236</td>\n",
       "      <td>1126</td>\n",
       "      <td>1683</td>\n",
       "      <td>1602</td>\n",
       "      <td>1480</td>\n",
       "      <td>1384</td>\n",
       "      <td>1285</td>\n",
       "      <td>1215</td>\n",
       "      <td>1168</td>\n",
       "      <td>1127</td>\n",
       "      <td>1108</td>\n",
       "      <td>1059</td>\n",
       "      <td>1034</td>\n",
       "      <td>1010</td>\n",
       "    </tr>\n",
       "    <tr>\n",
       "      <th>2020-11-08</th>\n",
       "      <td>209</td>\n",
       "      <td>929</td>\n",
       "      <td>1809</td>\n",
       "      <td>1640</td>\n",
       "      <td>1502</td>\n",
       "      <td>1394</td>\n",
       "      <td>1315</td>\n",
       "      <td>1247</td>\n",
       "      <td>1202</td>\n",
       "      <td>1167</td>\n",
       "      <td>1141</td>\n",
       "      <td>1119</td>\n",
       "      <td>1081</td>\n",
       "      <td>1061</td>\n",
       "    </tr>\n",
       "    <tr>\n",
       "      <th>2020-11-07</th>\n",
       "      <td>313</td>\n",
       "      <td>1348</td>\n",
       "      <td>2490</td>\n",
       "      <td>2247</td>\n",
       "      <td>2086</td>\n",
       "      <td>1959</td>\n",
       "      <td>1838</td>\n",
       "      <td>1775</td>\n",
       "      <td>1724</td>\n",
       "      <td>1670</td>\n",
       "      <td>1624</td>\n",
       "      <td>1581</td>\n",
       "      <td>1532</td>\n",
       "      <td>1501</td>\n",
       "    </tr>\n",
       "    <tr>\n",
       "      <th>2020-11-06</th>\n",
       "      <td>263</td>\n",
       "      <td>1707</td>\n",
       "      <td>2909</td>\n",
       "      <td>2688</td>\n",
       "      <td>2509</td>\n",
       "      <td>2343</td>\n",
       "      <td>2255</td>\n",
       "      <td>2182</td>\n",
       "      <td>2116</td>\n",
       "      <td>2049</td>\n",
       "      <td>1967</td>\n",
       "      <td>1912</td>\n",
       "      <td>1857</td>\n",
       "      <td>1826</td>\n",
       "    </tr>\n",
       "    <tr>\n",
       "      <th>2020-11-05</th>\n",
       "      <td>267</td>\n",
       "      <td>1641</td>\n",
       "      <td>2696</td>\n",
       "      <td>2451</td>\n",
       "      <td>2252</td>\n",
       "      <td>2174</td>\n",
       "      <td>2105</td>\n",
       "      <td>2027</td>\n",
       "      <td>1946</td>\n",
       "      <td>1885</td>\n",
       "      <td>1844</td>\n",
       "      <td>1793</td>\n",
       "      <td>1766</td>\n",
       "      <td>1726</td>\n",
       "    </tr>\n",
       "    <tr>\n",
       "      <th>2020-11-04</th>\n",
       "      <td>344</td>\n",
       "      <td>1838</td>\n",
       "      <td>2851</td>\n",
       "      <td>2522</td>\n",
       "      <td>2429</td>\n",
       "      <td>2336</td>\n",
       "      <td>2226</td>\n",
       "      <td>2120</td>\n",
       "      <td>2055</td>\n",
       "      <td>1992</td>\n",
       "      <td>1936</td>\n",
       "      <td>1890</td>\n",
       "      <td>1873</td>\n",
       "      <td>1835</td>\n",
       "    </tr>\n",
       "    <tr>\n",
       "      <th>2020-11-03</th>\n",
       "      <td>280</td>\n",
       "      <td>1325</td>\n",
       "      <td>1961</td>\n",
       "      <td>1888</td>\n",
       "      <td>1809</td>\n",
       "      <td>1711</td>\n",
       "      <td>1642</td>\n",
       "      <td>1564</td>\n",
       "      <td>1519</td>\n",
       "      <td>1448</td>\n",
       "      <td>1414</td>\n",
       "      <td>1388</td>\n",
       "      <td>1354</td>\n",
       "      <td>1310</td>\n",
       "    </tr>\n",
       "    <tr>\n",
       "      <th>2020-11-02</th>\n",
       "      <td>264</td>\n",
       "      <td>1156</td>\n",
       "      <td>1711</td>\n",
       "      <td>1629</td>\n",
       "      <td>1500</td>\n",
       "      <td>1415</td>\n",
       "      <td>1314</td>\n",
       "      <td>1250</td>\n",
       "      <td>1195</td>\n",
       "      <td>1163</td>\n",
       "      <td>1129</td>\n",
       "      <td>1100</td>\n",
       "      <td>1072</td>\n",
       "      <td>1029</td>\n",
       "    </tr>\n",
       "    <tr>\n",
       "      <th>2020-11-01</th>\n",
       "      <td>277</td>\n",
       "      <td>1038</td>\n",
       "      <td>1842</td>\n",
       "      <td>1654</td>\n",
       "      <td>1495</td>\n",
       "      <td>1375</td>\n",
       "      <td>1302</td>\n",
       "      <td>1241</td>\n",
       "      <td>1196</td>\n",
       "      <td>1168</td>\n",
       "      <td>1123</td>\n",
       "      <td>1075</td>\n",
       "      <td>1046</td>\n",
       "      <td>1016</td>\n",
       "    </tr>\n",
       "    <tr>\n",
       "      <th>2020-10-31</th>\n",
       "      <td>305</td>\n",
       "      <td>1273</td>\n",
       "      <td>2163</td>\n",
       "      <td>1934</td>\n",
       "      <td>1766</td>\n",
       "      <td>1671</td>\n",
       "      <td>1578</td>\n",
       "      <td>1507</td>\n",
       "      <td>1461</td>\n",
       "      <td>1416</td>\n",
       "      <td>1370</td>\n",
       "      <td>1326</td>\n",
       "      <td>1292</td>\n",
       "      <td>1266</td>\n",
       "    </tr>\n",
       "    <tr>\n",
       "      <th>2020-10-30</th>\n",
       "      <td>382</td>\n",
       "      <td>1743</td>\n",
       "      <td>4126</td>\n",
       "      <td>6104</td>\n",
       "      <td>7567</td>\n",
       "      <td>8436</td>\n",
       "      <td>9104</td>\n",
       "      <td>10138</td>\n",
       "      <td>9629</td>\n",
       "      <td>9129</td>\n",
       "      <td>8815</td>\n",
       "      <td>8563</td>\n",
       "      <td>8326</td>\n",
       "      <td>8153</td>\n",
       "    </tr>\n",
       "  </tbody>\n",
       "</table>\n",
       "</div>"
      ],
      "text/plain": [
       "Generation to Upload Period in Days   0     1     2     3     4     5     6   \\\n",
       "Upload Date (UTC)                                                              \n",
       "2020-11-12                           317  2184  3205  2915  2701  2606  2490   \n",
       "2020-11-11                           300  1884  3029  2726  2628  2523  2420   \n",
       "2020-11-10                           292  1466  2086  2003  1908  1781  1667   \n",
       "2020-11-09                           236  1126  1683  1602  1480  1384  1285   \n",
       "2020-11-08                           209   929  1809  1640  1502  1394  1315   \n",
       "2020-11-07                           313  1348  2490  2247  2086  1959  1838   \n",
       "2020-11-06                           263  1707  2909  2688  2509  2343  2255   \n",
       "2020-11-05                           267  1641  2696  2451  2252  2174  2105   \n",
       "2020-11-04                           344  1838  2851  2522  2429  2336  2226   \n",
       "2020-11-03                           280  1325  1961  1888  1809  1711  1642   \n",
       "2020-11-02                           264  1156  1711  1629  1500  1415  1314   \n",
       "2020-11-01                           277  1038  1842  1654  1495  1375  1302   \n",
       "2020-10-31                           305  1273  2163  1934  1766  1671  1578   \n",
       "2020-10-30                           382  1743  4126  6104  7567  8436  9104   \n",
       "\n",
       "Generation to Upload Period in Days     7     8     9     10    11    12    13  \n",
       "Upload Date (UTC)                                                               \n",
       "2020-11-12                            2410  2319  2236  2183  2113  2074  2039  \n",
       "2020-11-11                            2318  2240  2172  2116  2072  2027  1990  \n",
       "2020-11-10                            1569  1505  1455  1409  1374  1350  1298  \n",
       "2020-11-09                            1215  1168  1127  1108  1059  1034  1010  \n",
       "2020-11-08                            1247  1202  1167  1141  1119  1081  1061  \n",
       "2020-11-07                            1775  1724  1670  1624  1581  1532  1501  \n",
       "2020-11-06                            2182  2116  2049  1967  1912  1857  1826  \n",
       "2020-11-05                            2027  1946  1885  1844  1793  1766  1726  \n",
       "2020-11-04                            2120  2055  1992  1936  1890  1873  1835  \n",
       "2020-11-03                            1564  1519  1448  1414  1388  1354  1310  \n",
       "2020-11-02                            1250  1195  1163  1129  1100  1072  1029  \n",
       "2020-11-01                            1241  1196  1168  1123  1075  1046  1016  \n",
       "2020-10-31                            1507  1461  1416  1370  1326  1292  1266  \n",
       "2020-10-30                           10138  9629  9129  8815  8563  8326  8153  "
      ]
     },
     "execution_count": 54,
     "metadata": {},
     "output_type": "execute_result"
    }
   ],
   "source": [
    "display_generation_to_upload_period_pivot_df = \\\n",
    "    generation_to_upload_period_pivot_df \\\n",
    "        .head(backend_generation_days)\n",
    "display_generation_to_upload_period_pivot_df \\\n",
    "    .head(backend_generation_days) \\\n",
    "    .rename_axis(columns=display_column_name_mapping) \\\n",
    "    .rename_axis(index=display_column_name_mapping)"
   ]
  },
  {
   "cell_type": "code",
   "execution_count": 55,
   "metadata": {
    "collapsed": false,
    "execution": {
     "iopub.execute_input": "2020-11-12T23:23:47.244811Z",
     "iopub.status.busy": "2020-11-12T23:23:47.244091Z",
     "iopub.status.idle": "2020-11-12T23:23:48.364642Z",
     "shell.execute_reply": "2020-11-12T23:23:48.365099Z"
    },
    "papermill": {
     "duration": 1.206607,
     "end_time": "2020-11-12T23:23:48.365266",
     "exception": false,
     "start_time": "2020-11-12T23:23:47.158659",
     "status": "completed"
    },
    "pycharm": {
     "name": "#%%\n"
    },
    "tags": []
   },
   "outputs": [
    {
     "data": {
      "image/png": "[encoded data removed]",
      "text/plain": [
       "<Figure size 864x676.8 with 2 Axes>"
      ]
     },
     "metadata": {},
     "output_type": "display_data"
    }
   ],
   "source": [
    "fig, generation_to_upload_period_pivot_table_ax = plt.subplots(\n",
    "    figsize=(12, 1 + 0.6 * len(display_generation_to_upload_period_pivot_df)))\n",
    "generation_to_upload_period_pivot_table_ax.set_title(\n",
    "    \"Shared TEKs Generation to Upload Period Table\")\n",
    "sns.heatmap(\n",
    "    data=display_generation_to_upload_period_pivot_df\n",
    "        .rename_axis(columns=display_column_name_mapping)\n",
    "        .rename_axis(index=display_column_name_mapping),\n",
    "    fmt=\".0f\",\n",
    "    annot=True,\n",
    "    ax=generation_to_upload_period_pivot_table_ax)\n",
    "generation_to_upload_period_pivot_table_ax.get_figure().tight_layout()"
   ]
  },
  {
   "cell_type": "markdown",
   "metadata": {
    "collapsed": false,
    "papermill": {
     "duration": 0.06917,
     "end_time": "2020-11-12T23:23:48.507077",
     "exception": false,
     "start_time": "2020-11-12T23:23:48.437907",
     "status": "completed"
    },
    "tags": []
   },
   "source": [
    "### Hourly Summary Plots "
   ]
  },
  {
   "cell_type": "code",
   "execution_count": 56,
   "metadata": {
    "collapsed": false,
    "execution": {
     "iopub.execute_input": "2020-11-12T23:23:48.661953Z",
     "iopub.status.busy": "2020-11-12T23:23:48.658592Z",
     "iopub.status.idle": "2020-11-12T23:23:49.009736Z",
     "shell.execute_reply": "2020-11-12T23:23:49.011040Z"
    },
    "papermill": {
     "duration": 0.435804,
     "end_time": "2020-11-12T23:23:49.011233",
     "exception": false,
     "start_time": "2020-11-12T23:23:48.575429",
     "status": "completed"
    },
    "pycharm": {
     "name": "#%%\n"
    },
    "tags": []
   },
   "outputs": [
    {
     "data": {
      "image/png": "[encoded data removed]",
      "text/plain": [
       "<Figure size 1080x432 with 1 Axes>"
      ]
     },
     "metadata": {},
     "output_type": "display_data"
    }
   ],
   "source": [
    "hourly_summary_ax_list = hourly_summary_df \\\n",
    "    .rename_axis(index=display_column_name_mapping) \\\n",
    "    .rename(columns=display_column_name_mapping) \\\n",
    "    .plot.bar(\n",
    "        title=f\"Last 24h Summary\",\n",
    "        rot=45, subplots=True, legend=False)\n",
    "ax_ = hourly_summary_ax_list[-1]\n",
    "ax_.get_figure().tight_layout()\n",
    "ax_.get_figure().subplots_adjust(top=0.9)\n",
    "_ = ax_.set_xticklabels(sorted(hourly_summary_df.index.strftime(\"%Y-%m-%d@%H\").tolist()))"
   ]
  },
  {
   "cell_type": "markdown",
   "metadata": {
    "collapsed": false,
    "papermill": {
     "duration": 0.068576,
     "end_time": "2020-11-12T23:23:49.150427",
     "exception": false,
     "start_time": "2020-11-12T23:23:49.081851",
     "status": "completed"
    },
    "tags": []
   },
   "source": [
    "### Publish Results"
   ]
  },
  {
   "cell_type": "code",
   "execution_count": 57,
   "metadata": {
    "collapsed": false,
    "execution": {
     "iopub.execute_input": "2020-11-12T23:23:49.301506Z",
     "iopub.status.busy": "2020-11-12T23:23:49.300886Z",
     "iopub.status.idle": "2020-11-12T23:23:49.302808Z",
     "shell.execute_reply": "2020-11-12T23:23:49.303388Z"
    },
    "papermill": {
     "duration": 0.079436,
     "end_time": "2020-11-12T23:23:49.303527",
     "exception": false,
     "start_time": "2020-11-12T23:23:49.224091",
     "status": "completed"
    },
    "pycharm": {
     "name": "#%%\n"
    },
    "tags": []
   },
   "outputs": [],
   "source": [
    "def get_temporary_image_path() -> str:\n",
    "    return os.path.join(tempfile.gettempdir(), str(uuid.uuid4()) + \".png\")\n",
    "\n",
    "def save_temporary_plot_image(ax):\n",
    "    if isinstance(ax, np.ndarray):\n",
    "        ax = ax[0]\n",
    "    media_path = get_temporary_image_path()\n",
    "    ax.get_figure().savefig(media_path)\n",
    "    return media_path\n",
    "\n",
    "def save_temporary_dataframe_image(df):\n",
    "    import dataframe_image as dfi\n",
    "    media_path = get_temporary_image_path()\n",
    "    dfi.export(df, media_path)\n",
    "    return media_path"
   ]
  },
  {
   "cell_type": "code",
   "execution_count": 58,
   "metadata": {
    "collapsed": false,
    "execution": {
     "iopub.execute_input": "2020-11-12T23:23:49.485909Z",
     "iopub.status.busy": "2020-11-12T23:23:49.452542Z",
     "iopub.status.idle": "2020-11-12T23:23:49.488196Z",
     "shell.execute_reply": "2020-11-12T23:23:49.488636Z"
    },
    "papermill": {
     "duration": 0.116668,
     "end_time": "2020-11-12T23:23:49.488777",
     "exception": false,
     "start_time": "2020-11-12T23:23:49.372109",
     "status": "completed"
    },
    "pycharm": {
     "name": "#%%\n"
    },
    "tags": []
   },
   "outputs": [
    {
     "name": "stderr",
     "output_type": "stream",
     "text": [
      "<ipython-input-58-bd16b454de40>:49: FutureWarning: `item` has been deprecated and will be removed in a future version\n",
      "  extraction_date_result_summary_df.covid_cases.item()\n",
      "<ipython-input-58-bd16b454de40>:51: FutureWarning: `item` has been deprecated and will be removed in a future version\n",
      "  extraction_date_result_summary_df.shared_teks_by_generation_date.item()\n",
      "<ipython-input-58-bd16b454de40>:53: FutureWarning: `item` has been deprecated and will be removed in a future version\n",
      "  extraction_date_result_summary_df.shared_teks_by_upload_date.item()\n",
      "<ipython-input-58-bd16b454de40>:55: FutureWarning: `item` has been deprecated and will be removed in a future version\n",
      "  extraction_date_result_summary_df.shared_diagnoses.item()\n",
      "<ipython-input-58-bd16b454de40>:57: FutureWarning: `item` has been deprecated and will be removed in a future version\n",
      "  extraction_date_result_summary_df.teks_per_shared_diagnosis.item()\n",
      "<ipython-input-58-bd16b454de40>:59: FutureWarning: `item` has been deprecated and will be removed in a future version\n",
      "  extraction_date_result_summary_df.shared_diagnoses_per_covid_case.item()\n"
     ]
    }
   ],
   "source": [
    "github_repository = os.environ.get(\"GITHUB_REPOSITORY\")\n",
    "if github_repository is None:\n",
    "    github_repository = \"pvieito/Radar-STATS\"\n",
    "\n",
    "github_project_base_url = \"https://github.com/\" + github_repository\n",
    "\n",
    "display_formatters = {\n",
    "    display_column_name_mapping[\"teks_per_shared_diagnosis\"]: lambda x: f\"{x:.2f}\",\n",
    "    display_column_name_mapping[\"shared_diagnoses_per_covid_case\"]: lambda x: f\"{x:.2%}\",\n",
    "}\n",
    "daily_summary_table_html = result_summary_with_display_names_df \\\n",
    "    .head(daily_plot_days) \\\n",
    "    .rename_axis(index=display_column_name_mapping) \\\n",
    "    .rename(columns=display_column_name_mapping) \\\n",
    "    .to_html(formatters=display_formatters)\n",
    "multi_backend_summary_table_html = multi_backend_summary_df \\\n",
    "    .head(daily_plot_days) \\\n",
    "    .rename_axis(columns=display_column_name_mapping) \\\n",
    "    .rename(columns=display_column_name_mapping) \\\n",
    "    .rename_axis(index=display_column_name_mapping) \\\n",
    "    .to_html(formatters=display_formatters)\n",
    "\n",
    "def format_multi_backend_cross_sharing_fraction(x):\n",
    "    if pd.isna(x):\n",
    "        return \"-\"\n",
    "    elif round(x * 100, 1) == 0:\n",
    "        return \"\"\n",
    "    else:\n",
    "        return f\"{x:.1%}\"\n",
    "\n",
    "multi_backend_cross_sharing_summary_table_html = multi_backend_cross_sharing_summary_df \\\n",
    "    .rename_axis(columns=display_column_name_mapping) \\\n",
    "    .rename(columns=display_column_name_mapping) \\\n",
    "    .rename_axis(index=display_column_name_mapping) \\\n",
    "    .to_html(\n",
    "        classes=\"table-center\",\n",
    "        formatters=display_formatters,\n",
    "        float_format=format_multi_backend_cross_sharing_fraction)\n",
    "multi_backend_cross_sharing_summary_table_html = \\\n",
    "    multi_backend_cross_sharing_summary_table_html \\\n",
    "        .replace(\"<tr>\",\"<tr style=\\\"text-align: center;\\\">\")\n",
    "\n",
    "extraction_date_result_summary_df = \\\n",
    "    result_summary_df[result_summary_df.index.get_level_values(\"sample_date\") == extraction_date]\n",
    "extraction_date_result_hourly_summary_df = \\\n",
    "    hourly_summary_df[hourly_summary_df.extraction_date_with_hour == extraction_date_with_hour]\n",
    "\n",
    "covid_cases = \\\n",
    "    extraction_date_result_summary_df.covid_cases.item()\n",
    "shared_teks_by_generation_date = \\\n",
    "    extraction_date_result_summary_df.shared_teks_by_generation_date.item()\n",
    "shared_teks_by_upload_date = \\\n",
    "    extraction_date_result_summary_df.shared_teks_by_upload_date.item()\n",
    "shared_diagnoses = \\\n",
    "    extraction_date_result_summary_df.shared_diagnoses.item()\n",
    "teks_per_shared_diagnosis = \\\n",
    "    extraction_date_result_summary_df.teks_per_shared_diagnosis.item()\n",
    "shared_diagnoses_per_covid_case = \\\n",
    "    extraction_date_result_summary_df.shared_diagnoses_per_covid_case.item()\n",
    "\n",
    "shared_teks_by_upload_date_last_hour = \\\n",
    "    extraction_date_result_hourly_summary_df.shared_teks_by_upload_date.sum().astype(int)\n",
    "\n",
    "display_source_regions = \", \".join(report_source_regions)\n",
    "if len(report_source_regions) == 1:\n",
    "    display_brief_source_regions = report_source_regions[0]\n",
    "else:\n",
    "    display_brief_source_regions = f\"{len(report_source_regions)} 🇪🇺\""
   ]
  },
  {
   "cell_type": "code",
   "execution_count": 59,
   "metadata": {
    "execution": {
     "iopub.execute_input": "2020-11-12T23:23:49.643088Z",
     "iopub.status.busy": "2020-11-12T23:23:49.642505Z",
     "iopub.status.idle": "2020-11-12T23:23:57.092291Z",
     "shell.execute_reply": "2020-11-12T23:23:57.093135Z"
    },
    "papermill": {
     "duration": 7.532189,
     "end_time": "2020-11-12T23:23:57.093327",
     "exception": false,
     "start_time": "2020-11-12T23:23:49.561138",
     "status": "completed"
    },
    "pycharm": {
     "name": "#%%\n"
    },
    "tags": []
   },
   "outputs": [],
   "source": [
    "summary_plots_image_path = save_temporary_plot_image(\n",
    "    ax=summary_ax_list)\n",
    "summary_table_image_path = save_temporary_dataframe_image(\n",
    "    df=result_summary_with_display_names_df)\n",
    "hourly_summary_plots_image_path = save_temporary_plot_image(\n",
    "    ax=hourly_summary_ax_list)\n",
    "multi_backend_summary_table_image_path = save_temporary_dataframe_image(\n",
    "    df=multi_backend_summary_df)\n",
    "generation_to_upload_period_pivot_table_image_path = save_temporary_plot_image(\n",
    "    ax=generation_to_upload_period_pivot_table_ax)"
   ]
  },
  {
   "cell_type": "markdown",
   "metadata": {
    "execution": {
     "iopub.execute_input": "2020-09-02T08:20:16.981187Z",
     "iopub.status.busy": "2020-09-02T08:20:16.980584Z",
     "iopub.status.idle": "2020-09-02T08:20:20.068070Z",
     "shell.execute_reply": "2020-09-02T08:20:20.068598Z"
    },
    "papermill": {
     "duration": 0.070557,
     "end_time": "2020-11-12T23:23:57.241851",
     "exception": false,
     "start_time": "2020-11-12T23:23:57.171294",
     "status": "completed"
    },
    "pycharm": {
     "name": "#%% md\n"
    },
    "tags": []
   },
   "source": [
    "### Save Results"
   ]
  },
  {
   "cell_type": "code",
   "execution_count": 60,
   "metadata": {
    "collapsed": false,
    "execution": {
     "iopub.execute_input": "2020-11-12T23:23:57.394116Z",
     "iopub.status.busy": "2020-11-12T23:23:57.393430Z",
     "iopub.status.idle": "2020-11-12T23:23:57.423652Z",
     "shell.execute_reply": "2020-11-12T23:23:57.423129Z"
    },
    "papermill": {
     "duration": 0.110364,
     "end_time": "2020-11-12T23:23:57.423804",
     "exception": false,
     "start_time": "2020-11-12T23:23:57.313440",
     "status": "completed"
    },
    "pycharm": {
     "name": "#%%\n"
    },
    "tags": []
   },
   "outputs": [],
   "source": [
    "report_resources_path_prefix = \"Data/Resources/Current/RadarCOVID-Report-\"\n",
    "result_summary_df.to_csv(\n",
    "    report_resources_path_prefix + \"Summary-Table.csv\")\n",
    "result_summary_df.to_html(\n",
    "    report_resources_path_prefix + \"Summary-Table.html\")\n",
    "hourly_summary_df.to_csv(\n",
    "    report_resources_path_prefix + \"Hourly-Summary-Table.csv\")\n",
    "multi_backend_summary_df.to_csv(\n",
    "    report_resources_path_prefix + \"Multi-Backend-Summary-Table.csv\")\n",
    "multi_backend_cross_sharing_summary_df.to_csv(\n",
    "    report_resources_path_prefix + \"Multi-Backend-Cross-Sharing-Summary-Table.csv\")\n",
    "generation_to_upload_period_pivot_df.to_csv(\n",
    "    report_resources_path_prefix + \"Generation-Upload-Period-Table.csv\")\n",
    "_ = shutil.copyfile(\n",
    "    summary_plots_image_path,\n",
    "    report_resources_path_prefix + \"Summary-Plots.png\")\n",
    "_ = shutil.copyfile(\n",
    "    summary_table_image_path,\n",
    "    report_resources_path_prefix + \"Summary-Table.png\")\n",
    "_ = shutil.copyfile(\n",
    "    hourly_summary_plots_image_path,\n",
    "    report_resources_path_prefix + \"Hourly-Summary-Plots.png\")\n",
    "_ = shutil.copyfile(\n",
    "    multi_backend_summary_table_image_path,\n",
    "    report_resources_path_prefix + \"Multi-Backend-Summary-Table.png\")\n",
    "_ = shutil.copyfile(\n",
    "    generation_to_upload_period_pivot_table_image_path,\n",
    "    report_resources_path_prefix + \"Generation-Upload-Period-Table.png\")"
   ]
  },
  {
   "cell_type": "markdown",
   "metadata": {
    "collapsed": false,
    "papermill": {
     "duration": 0.078491,
     "end_time": "2020-11-12T23:23:57.590494",
     "exception": false,
     "start_time": "2020-11-12T23:23:57.512003",
     "status": "completed"
    },
    "pycharm": {
     "name": "#%% md\n"
    },
    "tags": []
   },
   "source": [
    "### Publish Results as JSON"
   ]
  },
  {
   "cell_type": "code",
   "execution_count": 61,
   "metadata": {
    "execution": {
     "iopub.execute_input": "2020-11-12T23:23:57.763641Z",
     "iopub.status.busy": "2020-11-12T23:23:57.753154Z",
     "iopub.status.idle": "2020-11-12T23:23:57.773657Z",
     "shell.execute_reply": "2020-11-12T23:23:57.773141Z"
    },
    "papermill": {
     "duration": 0.105292,
     "end_time": "2020-11-12T23:23:57.773804",
     "exception": false,
     "start_time": "2020-11-12T23:23:57.668512",
     "status": "completed"
    },
    "pycharm": {
     "name": "#%%\n"
    },
    "tags": []
   },
   "outputs": [],
   "source": [
    "def generate_summary_api_results(df: pd.DataFrame) -> list:\n",
    "    api_df = df.reset_index().copy()\n",
    "    api_df[\"sample_date_string\"] = \\\n",
    "        api_df[\"sample_date\"].dt.strftime(\"%Y-%m-%d\")\n",
    "    api_df[\"source_regions\"] = \\\n",
    "        api_df[\"source_regions\"].apply(lambda x: x.split(\",\"))\n",
    "    return api_df.to_dict(orient=\"records\")\n",
    "\n",
    "summary_api_results = \\\n",
    "    generate_summary_api_results(df=result_summary_df)\n",
    "today_summary_api_results = \\\n",
    "    generate_summary_api_results(df=extraction_date_result_summary_df)[0]\n",
    "\n",
    "summary_results = dict(\n",
    "    backend_identifier=report_backend_identifier,\n",
    "    source_regions=report_source_regions,\n",
    "    extraction_datetime=extraction_datetime,\n",
    "    extraction_date=extraction_date,\n",
    "    extraction_date_with_hour=extraction_date_with_hour,\n",
    "    last_hour=dict(\n",
    "        shared_teks_by_upload_date=shared_teks_by_upload_date_last_hour,\n",
    "        shared_diagnoses=0,\n",
    "    ),\n",
    "    today=today_summary_api_results,\n",
    "    last_7_days=last_7_days_summary,\n",
    "    daily_results=summary_api_results)\n",
    "\n",
    "summary_results = \\\n",
    "    json.loads(pd.Series([summary_results]).to_json(orient=\"records\"))[0]\n",
    "\n",
    "with open(report_resources_path_prefix + \"Summary-Results.json\", \"w\") as f:\n",
    "    json.dump(summary_results, f, indent=4)"
   ]
  },
  {
   "cell_type": "markdown",
   "metadata": {
    "execution": {
     "iopub.execute_input": "2020-09-02T08:20:20.895901Z",
     "iopub.status.busy": "2020-09-02T08:20:20.895301Z",
     "iopub.status.idle": "2020-09-02T08:20:20.942286Z",
     "shell.execute_reply": "2020-09-02T08:20:20.942834Z"
    },
    "papermill": {
     "duration": 0.07004,
     "end_time": "2020-11-12T23:23:57.914879",
     "exception": false,
     "start_time": "2020-11-12T23:23:57.844839",
     "status": "completed"
    },
    "pycharm": {
     "name": "#%% md\n"
    },
    "tags": []
   },
   "source": [
    "### Publish on README"
   ]
  },
  {
   "cell_type": "code",
   "execution_count": 62,
   "metadata": {
    "collapsed": false,
    "execution": {
     "iopub.execute_input": "2020-11-12T23:23:58.066487Z",
     "iopub.status.busy": "2020-11-12T23:23:58.065385Z",
     "iopub.status.idle": "2020-11-12T23:23:58.068573Z",
     "shell.execute_reply": "2020-11-12T23:23:58.068071Z"
    },
    "papermill": {
     "duration": 0.08403,
     "end_time": "2020-11-12T23:23:58.068701",
     "exception": false,
     "start_time": "2020-11-12T23:23:57.984671",
     "status": "completed"
    },
    "pycharm": {
     "name": "#%%\n"
    },
    "tags": []
   },
   "outputs": [],
   "source": [
    "with open(\"Data/Templates/README.md\", \"r\") as f:\n",
    "    readme_contents = f.read()\n",
    "\n",
    "readme_contents = readme_contents.format(\n",
    "    extraction_date_with_hour=extraction_date_with_hour,\n",
    "    github_project_base_url=github_project_base_url,\n",
    "    daily_summary_table_html=daily_summary_table_html,\n",
    "    multi_backend_summary_table_html=multi_backend_summary_table_html,\n",
    "    multi_backend_cross_sharing_summary_table_html=multi_backend_cross_sharing_summary_table_html,\n",
    "    display_source_regions=display_source_regions)\n",
    "\n",
    "with open(\"README.md\", \"w\") as f:\n",
    "    f.write(readme_contents)"
   ]
  },
  {
   "cell_type": "markdown",
   "metadata": {
    "collapsed": false,
    "papermill": {
     "duration": 0.069723,
     "end_time": "2020-11-12T23:23:58.214306",
     "exception": false,
     "start_time": "2020-11-12T23:23:58.144583",
     "status": "completed"
    },
    "pycharm": {
     "name": "#%% md\n"
    },
    "tags": []
   },
   "source": [
    "### Publish on Twitter"
   ]
  },
  {
   "cell_type": "code",
   "execution_count": 63,
   "metadata": {
    "collapsed": false,
    "execution": {
     "iopub.execute_input": "2020-11-12T23:23:58.368245Z",
     "iopub.status.busy": "2020-11-12T23:23:58.367638Z",
     "iopub.status.idle": "2020-11-12T23:24:07.356743Z",
     "shell.execute_reply": "2020-11-12T23:24:07.357194Z"
    },
    "papermill": {
     "duration": 9.07248,
     "end_time": "2020-11-12T23:24:07.357378",
     "exception": false,
     "start_time": "2020-11-12T23:23:58.284898",
     "status": "completed"
    },
    "pycharm": {
     "name": "#%%\n"
    },
    "tags": []
   },
   "outputs": [],
   "source": [
    "enable_share_to_twitter = os.environ.get(\"RADARCOVID_REPORT__ENABLE_PUBLISH_ON_TWITTER\")\n",
    "github_event_name = os.environ.get(\"GITHUB_EVENT_NAME\")\n",
    "\n",
    "if enable_share_to_twitter and github_event_name == \"schedule\" and \\\n",
    "        (shared_teks_by_upload_date_last_hour or not are_today_results_partial):\n",
    "    import tweepy\n",
    "\n",
    "    twitter_api_auth_keys = os.environ[\"RADARCOVID_REPORT__TWITTER_API_AUTH_KEYS\"]\n",
    "    twitter_api_auth_keys = twitter_api_auth_keys.split(\":\")\n",
    "    auth = tweepy.OAuthHandler(twitter_api_auth_keys[0], twitter_api_auth_keys[1])\n",
    "    auth.set_access_token(twitter_api_auth_keys[2], twitter_api_auth_keys[3])\n",
    "\n",
    "    api = tweepy.API(auth)\n",
    "\n",
    "    summary_plots_media = api.media_upload(summary_plots_image_path)\n",
    "    summary_table_media = api.media_upload(summary_table_image_path)\n",
    "    generation_to_upload_period_pivot_table_image_media = api.media_upload(generation_to_upload_period_pivot_table_image_path)\n",
    "    media_ids = [\n",
    "        summary_plots_media.media_id,\n",
    "        summary_table_media.media_id,\n",
    "        generation_to_upload_period_pivot_table_image_media.media_id,\n",
    "    ]\n",
    "\n",
    "    if are_today_results_partial:\n",
    "        today_addendum = \" (Partial)\"\n",
    "    else:\n",
    "        today_addendum = \"\"\n",
    "\n",
    "    status = textwrap.dedent(f\"\"\"\n",
    "        #RadarCOVID – {extraction_date_with_hour}\n",
    "\n",
    "        Source Countries: {display_brief_source_regions}\n",
    "\n",
    "        Today{today_addendum}:\n",
    "        - Uploaded TEKs: {shared_teks_by_upload_date:.0f} ({shared_teks_by_upload_date_last_hour:+d} last hour)\n",
    "        - Shared Diagnoses: ≤{shared_diagnoses:.0f}\n",
    "        - Usage Ratio: ≤{shared_diagnoses_per_covid_case:.2%}\n",
    "\n",
    "        Last 7 Days:\n",
    "        - Shared Diagnoses: ≤{last_7_days_summary[\"shared_diagnoses\"]:.0f}\n",
    "        - Usage Ratio: ≤{last_7_days_summary[\"shared_diagnoses_per_covid_case\"]:.2%}\n",
    "\n",
    "        Info: {github_project_base_url}#documentation\n",
    "        \"\"\")\n",
    "    status = status.encode(encoding=\"utf-8\")\n",
    "    api.update_status(status=status, media_ids=media_ids)"
   ]
  }
 ],
 "metadata": {
  "kernelspec": {
   "display_name": "Python 3",
   "language": "python",
   "name": "python3"
  },
  "language_info": {
   "codemirror_mode": {
    "name": "ipython",
    "version": 3
   },
   "file_extension": ".py",
   "mimetype": "text/x-python",
   "name": "python",
   "nbconvert_exporter": "python",
   "pygments_lexer": "ipython3",
   "version": "3.8.6"
  },
  "papermill": {
   "duration": 420.877288,
   "end_time": "2020-11-12T23:24:09.441060",
   "environment_variables": {},
   "exception": null,
   "input_path": "Notebooks/RadarCOVID-Report/Source/RadarCOVID-Report.ipynb",
   "output_path": "RadarCOVID-Report.ipynb",
   "parameters": {},
   "start_time": "2020-11-12T23:17:08.563772",
   "version": "2.1.3"
  }
 },
 "nbformat": 4,
 "nbformat_minor": 1
}