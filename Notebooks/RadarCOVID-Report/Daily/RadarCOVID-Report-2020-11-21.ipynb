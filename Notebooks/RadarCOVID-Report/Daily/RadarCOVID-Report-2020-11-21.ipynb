{
 "cells": [
  {
   "cell_type": "markdown",
   "metadata": {
    "papermill": {
     "duration": 0.041442,
     "end_time": "2020-11-21T23:18:44.548431",
     "exception": false,
     "start_time": "2020-11-21T23:18:44.506989",
     "status": "completed"
    },
    "pycharm": {
     "name": "#%% md\n"
    },
    "tags": []
   },
   "source": [
    "# RadarCOVID-Report"
   ]
  },
  {
   "cell_type": "markdown",
   "metadata": {
    "collapsed": true,
    "papermill": {
     "duration": 0.038511,
     "end_time": "2020-11-21T23:18:44.626399",
     "exception": false,
     "start_time": "2020-11-21T23:18:44.587888",
     "status": "completed"
    },
    "pycharm": {
     "name": "#%% md\n"
    },
    "tags": []
   },
   "source": [
    "## Data Extraction"
   ]
  },
  {
   "cell_type": "code",
   "execution_count": 1,
   "metadata": {
    "execution": {
     "iopub.execute_input": "2020-11-21T23:18:44.712429Z",
     "iopub.status.busy": "2020-11-21T23:18:44.711836Z",
     "iopub.status.idle": "2020-11-21T23:18:46.888005Z",
     "shell.execute_reply": "2020-11-21T23:18:46.887225Z"
    },
    "papermill": {
     "duration": 2.222656,
     "end_time": "2020-11-21T23:18:46.888250",
     "exception": false,
     "start_time": "2020-11-21T23:18:44.665594",
     "status": "completed"
    },
    "pycharm": {
     "name": "#%%\n"
    },
    "tags": []
   },
   "outputs": [],
   "source": [
    "import datetime\n",
    "import json\n",
    "import logging\n",
    "import os\n",
    "import shutil\n",
    "import tempfile\n",
    "import textwrap\n",
    "import uuid\n",
    "\n",
    "import matplotlib.pyplot as plt\n",
    "import matplotlib.ticker\n",
    "import numpy as np\n",
    "import pandas as pd\n",
    "import retry\n",
    "import seaborn as sns\n",
    "\n",
    "%matplotlib inline"
   ]
  },
  {
   "cell_type": "code",
   "execution_count": 2,
   "metadata": {
    "collapsed": false,
    "execution": {
     "iopub.execute_input": "2020-11-21T23:18:46.980323Z",
     "iopub.status.busy": "2020-11-21T23:18:46.979731Z",
     "iopub.status.idle": "2020-11-21T23:18:46.981676Z",
     "shell.execute_reply": "2020-11-21T23:18:46.982101Z"
    },
    "papermill": {
     "duration": 0.052192,
     "end_time": "2020-11-21T23:18:46.982244",
     "exception": false,
     "start_time": "2020-11-21T23:18:46.930052",
     "status": "completed"
    },
    "pycharm": {
     "name": "#%%\n"
    },
    "tags": []
   },
   "outputs": [],
   "source": [
    "current_working_directory = os.environ.get(\"PWD\")\n",
    "if current_working_directory:\n",
    "    os.chdir(current_working_directory)\n",
    "\n",
    "sns.set()\n",
    "matplotlib.rcParams[\"figure.figsize\"] = (15, 6)\n",
    "\n",
    "extraction_datetime = datetime.datetime.utcnow()\n",
    "extraction_date = extraction_datetime.strftime(\"%Y-%m-%d\")\n",
    "extraction_previous_datetime = extraction_datetime - datetime.timedelta(days=1)\n",
    "extraction_previous_date = extraction_previous_datetime.strftime(\"%Y-%m-%d\")\n",
    "extraction_date_with_hour = datetime.datetime.utcnow().strftime(\"%Y-%m-%d@%H\")\n",
    "current_hour = datetime.datetime.utcnow().hour\n",
    "are_today_results_partial = current_hour != 23"
   ]
  },
  {
   "cell_type": "markdown",
   "metadata": {
    "collapsed": false,
    "papermill": {
     "duration": 0.038377,
     "end_time": "2020-11-21T23:18:47.060080",
     "exception": false,
     "start_time": "2020-11-21T23:18:47.021703",
     "status": "completed"
    },
    "tags": []
   },
   "source": [
    "### Constants"
   ]
  },
  {
   "cell_type": "code",
   "execution_count": 3,
   "metadata": {
    "execution": {
     "iopub.execute_input": "2020-11-21T23:18:47.143407Z",
     "iopub.status.busy": "2020-11-21T23:18:47.142865Z",
     "iopub.status.idle": "2020-11-21T23:18:47.296826Z",
     "shell.execute_reply": "2020-11-21T23:18:47.297528Z"
    },
    "papermill": {
     "duration": 0.198594,
     "end_time": "2020-11-21T23:18:47.297780",
     "exception": false,
     "start_time": "2020-11-21T23:18:47.099186",
     "status": "completed"
    },
    "pycharm": {
     "name": "#%%\n"
    },
    "tags": []
   },
   "outputs": [],
   "source": [
    "from Modules.ExposureNotification import exposure_notification_io\n",
    "\n",
    "spain_region_country_code = \"ES\"\n",
    "germany_region_country_code = \"DE\"\n",
    "\n",
    "default_backend_identifier = spain_region_country_code\n",
    "\n",
    "backend_generation_days = 7 * 2\n",
    "daily_summary_days = 7 * 4 * 3\n",
    "daily_plot_days = 7 * 4\n",
    "tek_dumps_load_limit = daily_summary_days + 1"
   ]
  },
  {
   "cell_type": "markdown",
   "metadata": {
    "collapsed": false,
    "papermill": {
     "duration": 0.038196,
     "end_time": "2020-11-21T23:18:47.375368",
     "exception": false,
     "start_time": "2020-11-21T23:18:47.337172",
     "status": "completed"
    },
    "tags": []
   },
   "source": [
    "### Parameters"
   ]
  },
  {
   "cell_type": "code",
   "execution_count": 4,
   "metadata": {
    "collapsed": false,
    "execution": {
     "iopub.execute_input": "2020-11-21T23:18:47.461692Z",
     "iopub.status.busy": "2020-11-21T23:18:47.461034Z",
     "iopub.status.idle": "2020-11-21T23:18:47.464115Z",
     "shell.execute_reply": "2020-11-21T23:18:47.464548Z"
    },
    "papermill": {
     "duration": 0.051097,
     "end_time": "2020-11-21T23:18:47.464693",
     "exception": false,
     "start_time": "2020-11-21T23:18:47.413596",
     "status": "completed"
    },
    "pycharm": {
     "name": "#%%\n"
    },
    "tags": []
   },
   "outputs": [
    {
     "data": {
      "text/plain": [
       "'ES'"
      ]
     },
     "execution_count": 4,
     "metadata": {},
     "output_type": "execute_result"
    }
   ],
   "source": [
    "environment_backend_identifier = os.environ.get(\"RADARCOVID_REPORT__BACKEND_IDENTIFIER\")\n",
    "if environment_backend_identifier:\n",
    "    report_backend_identifier = environment_backend_identifier\n",
    "else:\n",
    "    report_backend_identifier = default_backend_identifier\n",
    "report_backend_identifier"
   ]
  },
  {
   "cell_type": "code",
   "execution_count": 5,
   "metadata": {
    "collapsed": false,
    "execution": {
     "iopub.execute_input": "2020-11-21T23:18:47.552631Z",
     "iopub.status.busy": "2020-11-21T23:18:47.552087Z",
     "iopub.status.idle": "2020-11-21T23:18:47.554121Z",
     "shell.execute_reply": "2020-11-21T23:18:47.554578Z"
    },
    "papermill": {
     "duration": 0.049349,
     "end_time": "2020-11-21T23:18:47.554721",
     "exception": false,
     "start_time": "2020-11-21T23:18:47.505372",
     "status": "completed"
    },
    "pycharm": {
     "name": "#%%\n"
    },
    "tags": []
   },
   "outputs": [],
   "source": [
    "environment_enable_multi_backend_download = \\\n",
    "    os.environ.get(\"RADARCOVID_REPORT__ENABLE_MULTI_BACKEND_DOWNLOAD\")\n",
    "if environment_enable_multi_backend_download:\n",
    "    report_backend_identifiers = None\n",
    "else:\n",
    "    report_backend_identifiers = [report_backend_identifier]\n",
    "\n",
    "report_backend_identifiers"
   ]
  },
  {
   "cell_type": "code",
   "execution_count": 6,
   "metadata": {
    "collapsed": false,
    "execution": {
     "iopub.execute_input": "2020-11-21T23:18:47.638359Z",
     "iopub.status.busy": "2020-11-21T23:18:47.637819Z",
     "iopub.status.idle": "2020-11-21T23:18:47.641482Z",
     "shell.execute_reply": "2020-11-21T23:18:47.641995Z"
    },
    "papermill": {
     "duration": 0.048168,
     "end_time": "2020-11-21T23:18:47.642140",
     "exception": false,
     "start_time": "2020-11-21T23:18:47.593972",
     "status": "completed"
    },
    "pycharm": {
     "name": "#%%\n"
    },
    "tags": []
   },
   "outputs": [
    {
     "data": {
      "text/plain": [
       "['2020-10-30']"
      ]
     },
     "execution_count": 6,
     "metadata": {},
     "output_type": "execute_result"
    }
   ],
   "source": [
    "environment_invalid_shared_diagnoses_dates = \\\n",
    "    os.environ.get(\"RADARCOVID_REPORT__INVALID_SHARED_DIAGNOSES_DATES\")\n",
    "if environment_invalid_shared_diagnoses_dates:\n",
    "    invalid_shared_diagnoses_dates = environment_invalid_shared_diagnoses_dates.split(\",\")\n",
    "else:\n",
    "    invalid_shared_diagnoses_dates = []\n",
    "\n",
    "invalid_shared_diagnoses_dates"
   ]
  },
  {
   "cell_type": "markdown",
   "metadata": {
    "collapsed": false,
    "papermill": {
     "duration": 0.039402,
     "end_time": "2020-11-21T23:18:47.721114",
     "exception": false,
     "start_time": "2020-11-21T23:18:47.681712",
     "status": "completed"
    },
    "pycharm": {
     "name": "#%% md\n"
    },
    "tags": []
   },
   "source": [
    "### COVID-19 Cases"
   ]
  },
  {
   "cell_type": "code",
   "execution_count": 7,
   "metadata": {
    "collapsed": false,
    "execution": {
     "iopub.execute_input": "2020-11-21T23:18:47.810721Z",
     "iopub.status.busy": "2020-11-21T23:18:47.810095Z",
     "iopub.status.idle": "2020-11-21T23:18:47.812564Z",
     "shell.execute_reply": "2020-11-21T23:18:47.813268Z"
    },
    "papermill": {
     "duration": 0.048061,
     "end_time": "2020-11-21T23:18:47.813427",
     "exception": false,
     "start_time": "2020-11-21T23:18:47.765366",
     "status": "completed"
    },
    "pycharm": {
     "name": "#%%\n"
    },
    "tags": []
   },
   "outputs": [],
   "source": [
    "report_backend_client = \\\n",
    "    exposure_notification_io.get_backend_client_with_identifier(\n",
    "        backend_identifier=report_backend_identifier)"
   ]
  },
  {
   "cell_type": "code",
   "execution_count": 8,
   "metadata": {
    "collapsed": false,
    "execution": {
     "iopub.execute_input": "2020-11-21T23:18:47.904709Z",
     "iopub.status.busy": "2020-11-21T23:18:47.904014Z",
     "iopub.status.idle": "2020-11-21T23:19:06.553318Z",
     "shell.execute_reply": "2020-11-21T23:19:06.552436Z"
    },
    "papermill": {
     "duration": 18.699948,
     "end_time": "2020-11-21T23:19:06.553528",
     "exception": false,
     "start_time": "2020-11-21T23:18:47.853580",
     "status": "completed"
    },
    "pycharm": {
     "name": "#%%\n"
    },
    "tags": []
   },
   "outputs": [],
   "source": [
    "@retry.retry(tries=10, delay=10, backoff=1.1, jitter=(0, 10))\n",
    "def download_cases_dataframe_from_ecdc():\n",
    "    return pd.read_csv(\n",
    "        \"https://opendata.ecdc.europa.eu/covid19/casedistribution/csv/data.csv\")\n",
    "\n",
    "confirmed_df_ = download_cases_dataframe_from_ecdc()"
   ]
  },
  {
   "cell_type": "code",
   "execution_count": 9,
   "metadata": {
    "collapsed": false,
    "execution": {
     "iopub.execute_input": "2020-11-21T23:19:06.640057Z",
     "iopub.status.busy": "2020-11-21T23:19:06.639512Z",
     "iopub.status.idle": "2020-11-21T23:19:07.038114Z",
     "shell.execute_reply": "2020-11-21T23:19:07.037645Z"
    },
    "papermill": {
     "duration": 0.443475,
     "end_time": "2020-11-21T23:19:07.038250",
     "exception": false,
     "start_time": "2020-11-21T23:19:06.594775",
     "status": "completed"
    },
    "pycharm": {
     "name": "#%%\n"
    },
    "tags": []
   },
   "outputs": [
    {
     "data": {
      "text/html": [
       "<div>\n",
       "<style scoped>\n",
       "    .dataframe tbody tr th:only-of-type {\n",
       "        vertical-align: middle;\n",
       "    }\n",
       "\n",
       "    .dataframe tbody tr th {\n",
       "        vertical-align: top;\n",
       "    }\n",
       "\n",
       "    .dataframe thead th {\n",
       "        text-align: right;\n",
       "    }\n",
       "</style>\n",
       "<table border=\"1\" class=\"dataframe\">\n",
       "  <thead>\n",
       "    <tr style=\"text-align: right;\">\n",
       "      <th></th>\n",
       "      <th>sample_date</th>\n",
       "      <th>new_cases</th>\n",
       "      <th>country_code</th>\n",
       "    </tr>\n",
       "  </thead>\n",
       "  <tbody>\n",
       "    <tr>\n",
       "      <th>16642</th>\n",
       "      <td>2020-11-21</td>\n",
       "      <td>0</td>\n",
       "      <td>ER</td>\n",
       "    </tr>\n",
       "    <tr>\n",
       "      <th>21330</th>\n",
       "      <td>2020-11-21</td>\n",
       "      <td>0</td>\n",
       "      <td>GL</td>\n",
       "    </tr>\n",
       "    <tr>\n",
       "      <th>34971</th>\n",
       "      <td>2020-11-21</td>\n",
       "      <td>73</td>\n",
       "      <td>MN</td>\n",
       "    </tr>\n",
       "    <tr>\n",
       "      <th>39609</th>\n",
       "      <td>2020-11-21</td>\n",
       "      <td>0</td>\n",
       "      <td>OM</td>\n",
       "    </tr>\n",
       "    <tr>\n",
       "      <th>0</th>\n",
       "      <td>2020-11-21</td>\n",
       "      <td>232</td>\n",
       "      <td>AF</td>\n",
       "    </tr>\n",
       "  </tbody>\n",
       "</table>\n",
       "</div>"
      ],
      "text/plain": [
       "      sample_date  new_cases country_code\n",
       "16642  2020-11-21          0           ER\n",
       "21330  2020-11-21          0           GL\n",
       "34971  2020-11-21         73           MN\n",
       "39609  2020-11-21          0           OM\n",
       "0      2020-11-21        232           AF"
      ]
     },
     "execution_count": 9,
     "metadata": {},
     "output_type": "execute_result"
    }
   ],
   "source": [
    "confirmed_df = confirmed_df_.copy()\n",
    "confirmed_df = confirmed_df[[\"dateRep\", \"cases\", \"geoId\"]]\n",
    "confirmed_df.rename(\n",
    "    columns={\n",
    "        \"dateRep\":\"sample_date\",\n",
    "        \"cases\": \"new_cases\",\n",
    "        \"geoId\": \"country_code\",\n",
    "    },\n",
    "    inplace=True)\n",
    "confirmed_df[\"sample_date\"] = pd.to_datetime(confirmed_df.sample_date, dayfirst=True)\n",
    "confirmed_df[\"sample_date\"] = confirmed_df.sample_date.dt.strftime(\"%Y-%m-%d\")\n",
    "confirmed_df.sort_values(\"sample_date\", inplace=True)\n",
    "confirmed_df.tail()"
   ]
  },
  {
   "cell_type": "code",
   "execution_count": 10,
   "metadata": {
    "collapsed": false,
    "execution": {
     "iopub.execute_input": "2020-11-21T23:19:07.129718Z",
     "iopub.status.busy": "2020-11-21T23:19:07.129168Z",
     "iopub.status.idle": "2020-11-21T23:19:07.131472Z",
     "shell.execute_reply": "2020-11-21T23:19:07.132016Z"
    },
    "papermill": {
     "duration": 0.053302,
     "end_time": "2020-11-21T23:19:07.132167",
     "exception": false,
     "start_time": "2020-11-21T23:19:07.078865",
     "status": "completed"
    },
    "pycharm": {
     "name": "#%%\n"
    },
    "tags": []
   },
   "outputs": [],
   "source": [
    "def sort_source_regions_for_display(source_regions: list) -> list:\n",
    "    if report_backend_identifier in source_regions:\n",
    "        source_regions = [report_backend_identifier] + \\\n",
    "            list(sorted(set(source_regions).difference([report_backend_identifier])))\n",
    "    else:\n",
    "        source_regions = list(sorted(source_regions))\n",
    "    return source_regions"
   ]
  },
  {
   "cell_type": "code",
   "execution_count": 11,
   "metadata": {
    "collapsed": false,
    "execution": {
     "iopub.execute_input": "2020-11-21T23:19:07.219307Z",
     "iopub.status.busy": "2020-11-21T23:19:07.218759Z",
     "iopub.status.idle": "2020-11-21T23:19:07.222726Z",
     "shell.execute_reply": "2020-11-21T23:19:07.223245Z"
    },
    "papermill": {
     "duration": 0.051068,
     "end_time": "2020-11-21T23:19:07.223394",
     "exception": false,
     "start_time": "2020-11-21T23:19:07.172326",
     "status": "completed"
    },
    "pycharm": {
     "name": "#%%\n"
    },
    "tags": []
   },
   "outputs": [
    {
     "data": {
      "text/plain": [
       "['ES', 'DE', 'DK', 'HR', 'IE', 'IT', 'LV']"
      ]
     },
     "execution_count": 11,
     "metadata": {},
     "output_type": "execute_result"
    }
   ],
   "source": [
    "report_source_regions = report_backend_client.source_regions_for_date(\n",
    "    date=extraction_datetime.date())\n",
    "report_source_regions = sort_source_regions_for_display(\n",
    "    source_regions=report_source_regions)\n",
    "report_source_regions"
   ]
  },
  {
   "cell_type": "code",
   "execution_count": 12,
   "metadata": {
    "collapsed": false,
    "execution": {
     "iopub.execute_input": "2020-11-21T23:19:07.327758Z",
     "iopub.status.busy": "2020-11-21T23:19:07.327191Z",
     "iopub.status.idle": "2020-11-21T23:19:07.332012Z",
     "shell.execute_reply": "2020-11-21T23:19:07.332545Z"
    },
    "papermill": {
     "duration": 0.06792,
     "end_time": "2020-11-21T23:19:07.332698",
     "exception": false,
     "start_time": "2020-11-21T23:19:07.264778",
     "status": "completed"
    },
    "pycharm": {
     "name": "#%%\n"
    },
    "tags": []
   },
   "outputs": [
    {
     "data": {
      "text/html": [
       "<div>\n",
       "<style scoped>\n",
       "    .dataframe tbody tr th:only-of-type {\n",
       "        vertical-align: middle;\n",
       "    }\n",
       "\n",
       "    .dataframe tbody tr th {\n",
       "        vertical-align: top;\n",
       "    }\n",
       "\n",
       "    .dataframe thead th {\n",
       "        text-align: right;\n",
       "    }\n",
       "</style>\n",
       "<table border=\"1\" class=\"dataframe\">\n",
       "  <thead>\n",
       "    <tr style=\"text-align: right;\">\n",
       "      <th></th>\n",
       "      <th>sample_date</th>\n",
       "      <th>sample_date_string</th>\n",
       "    </tr>\n",
       "  </thead>\n",
       "  <tbody>\n",
       "    <tr>\n",
       "      <th>322</th>\n",
       "      <td>2020-11-17</td>\n",
       "      <td>2020-11-17</td>\n",
       "    </tr>\n",
       "    <tr>\n",
       "      <th>323</th>\n",
       "      <td>2020-11-18</td>\n",
       "      <td>2020-11-18</td>\n",
       "    </tr>\n",
       "    <tr>\n",
       "      <th>324</th>\n",
       "      <td>2020-11-19</td>\n",
       "      <td>2020-11-19</td>\n",
       "    </tr>\n",
       "    <tr>\n",
       "      <th>325</th>\n",
       "      <td>2020-11-20</td>\n",
       "      <td>2020-11-20</td>\n",
       "    </tr>\n",
       "    <tr>\n",
       "      <th>326</th>\n",
       "      <td>2020-11-21</td>\n",
       "      <td>2020-11-21</td>\n",
       "    </tr>\n",
       "  </tbody>\n",
       "</table>\n",
       "</div>"
      ],
      "text/plain": [
       "    sample_date sample_date_string\n",
       "322  2020-11-17         2020-11-17\n",
       "323  2020-11-18         2020-11-18\n",
       "324  2020-11-19         2020-11-19\n",
       "325  2020-11-20         2020-11-20\n",
       "326  2020-11-21         2020-11-21"
      ]
     },
     "execution_count": 12,
     "metadata": {},
     "output_type": "execute_result"
    }
   ],
   "source": [
    "confirmed_days = pd.date_range(\n",
    "    start=confirmed_df.iloc[0].sample_date,\n",
    "    end=extraction_datetime)\n",
    "confirmed_days_df = pd.DataFrame(data=confirmed_days, columns=[\"sample_date\"])\n",
    "confirmed_days_df[\"sample_date_string\"] = \\\n",
    "    confirmed_days_df.sample_date.dt.strftime(\"%Y-%m-%d\")\n",
    "confirmed_days_df.tail()"
   ]
  },
  {
   "cell_type": "code",
   "execution_count": 13,
   "metadata": {
    "collapsed": false,
    "execution": {
     "iopub.execute_input": "2020-11-21T23:19:07.451615Z",
     "iopub.status.busy": "2020-11-21T23:19:07.451034Z",
     "iopub.status.idle": "2020-11-21T23:19:07.453423Z",
     "shell.execute_reply": "2020-11-21T23:19:07.453901Z"
    },
    "papermill": {
     "duration": 0.071953,
     "end_time": "2020-11-21T23:19:07.454057",
     "exception": false,
     "start_time": "2020-11-21T23:19:07.382104",
     "status": "completed"
    },
    "pycharm": {
     "name": "#%%\n"
    },
    "tags": []
   },
   "outputs": [
    {
     "data": {
      "text/html": [
       "<div>\n",
       "<style scoped>\n",
       "    .dataframe tbody tr th:only-of-type {\n",
       "        vertical-align: middle;\n",
       "    }\n",
       "\n",
       "    .dataframe tbody tr th {\n",
       "        vertical-align: top;\n",
       "    }\n",
       "\n",
       "    .dataframe thead th {\n",
       "        text-align: right;\n",
       "    }\n",
       "</style>\n",
       "<table border=\"1\" class=\"dataframe\">\n",
       "  <thead>\n",
       "    <tr style=\"text-align: right;\">\n",
       "      <th></th>\n",
       "      <th>sample_date</th>\n",
       "      <th>sample_date_string</th>\n",
       "      <th>source_regions_at_date</th>\n",
       "      <th>_source_regions_group</th>\n",
       "    </tr>\n",
       "  </thead>\n",
       "  <tbody>\n",
       "    <tr>\n",
       "      <th>322</th>\n",
       "      <td>2020-11-17</td>\n",
       "      <td>2020-11-17</td>\n",
       "      <td>{ES, DK, IT, IE, DE, LV}</td>\n",
       "      <td>ES,DE,DK,IE,IT,LV</td>\n",
       "    </tr>\n",
       "    <tr>\n",
       "      <th>323</th>\n",
       "      <td>2020-11-18</td>\n",
       "      <td>2020-11-18</td>\n",
       "      <td>{ES, DK, IT, IE, DE, LV}</td>\n",
       "      <td>ES,DE,DK,IE,IT,LV</td>\n",
       "    </tr>\n",
       "    <tr>\n",
       "      <th>324</th>\n",
       "      <td>2020-11-19</td>\n",
       "      <td>2020-11-19</td>\n",
       "      <td>{ES, DK, IT, IE, DE, LV}</td>\n",
       "      <td>ES,DE,DK,IE,IT,LV</td>\n",
       "    </tr>\n",
       "    <tr>\n",
       "      <th>325</th>\n",
       "      <td>2020-11-20</td>\n",
       "      <td>2020-11-20</td>\n",
       "      <td>{ES, DK, IT, IE, DE, LV}</td>\n",
       "      <td>ES,DE,DK,IE,IT,LV</td>\n",
       "    </tr>\n",
       "    <tr>\n",
       "      <th>326</th>\n",
       "      <td>2020-11-21</td>\n",
       "      <td>2020-11-21</td>\n",
       "      <td>{ES, DK, IT, IE, HR, DE, LV}</td>\n",
       "      <td>ES,DE,DK,HR,IE,IT,LV</td>\n",
       "    </tr>\n",
       "  </tbody>\n",
       "</table>\n",
       "</div>"
      ],
      "text/plain": [
       "    sample_date sample_date_string        source_regions_at_date  \\\n",
       "322  2020-11-17         2020-11-17      {ES, DK, IT, IE, DE, LV}   \n",
       "323  2020-11-18         2020-11-18      {ES, DK, IT, IE, DE, LV}   \n",
       "324  2020-11-19         2020-11-19      {ES, DK, IT, IE, DE, LV}   \n",
       "325  2020-11-20         2020-11-20      {ES, DK, IT, IE, DE, LV}   \n",
       "326  2020-11-21         2020-11-21  {ES, DK, IT, IE, HR, DE, LV}   \n",
       "\n",
       "    _source_regions_group  \n",
       "322     ES,DE,DK,IE,IT,LV  \n",
       "323     ES,DE,DK,IE,IT,LV  \n",
       "324     ES,DE,DK,IE,IT,LV  \n",
       "325     ES,DE,DK,IE,IT,LV  \n",
       "326  ES,DE,DK,HR,IE,IT,LV  "
      ]
     },
     "execution_count": 13,
     "metadata": {},
     "output_type": "execute_result"
    }
   ],
   "source": [
    "source_regions_at_date_df = confirmed_days_df.copy()\n",
    "source_regions_at_date_df[\"source_regions_at_date\"] = \\\n",
    "    source_regions_at_date_df.sample_date.apply(\n",
    "        lambda x: report_backend_client.source_regions_for_date(date=x))\n",
    "source_regions_at_date_df.sort_values(\"sample_date\", inplace=True)\n",
    "source_regions_at_date_df[\"_source_regions_group\"] = source_regions_at_date_df. \\\n",
    "    source_regions_at_date.apply(lambda x: \",\".join(sort_source_regions_for_display(x)))\n",
    "source_regions_at_date_df.tail()"
   ]
  },
  {
   "cell_type": "code",
   "execution_count": 14,
   "metadata": {
    "collapsed": false,
    "execution": {
     "iopub.execute_input": "2020-11-21T23:19:07.545753Z",
     "iopub.status.busy": "2020-11-21T23:19:07.545023Z",
     "iopub.status.idle": "2020-11-21T23:19:07.554950Z",
     "shell.execute_reply": "2020-11-21T23:19:07.555414Z"
    },
    "papermill": {
     "duration": 0.059607,
     "end_time": "2020-11-21T23:19:07.555565",
     "exception": false,
     "start_time": "2020-11-21T23:19:07.495958",
     "status": "completed"
    },
    "pycharm": {
     "name": "#%%\n"
    },
    "tags": []
   },
   "outputs": [
    {
     "data": {
      "text/html": [
       "<div>\n",
       "<style scoped>\n",
       "    .dataframe tbody tr th:only-of-type {\n",
       "        vertical-align: middle;\n",
       "    }\n",
       "\n",
       "    .dataframe tbody tr th {\n",
       "        vertical-align: top;\n",
       "    }\n",
       "\n",
       "    .dataframe thead th {\n",
       "        text-align: right;\n",
       "    }\n",
       "</style>\n",
       "<table border=\"1\" class=\"dataframe\">\n",
       "  <thead>\n",
       "    <tr style=\"text-align: right;\">\n",
       "      <th></th>\n",
       "      <th>sample_date</th>\n",
       "      <th>source_regions</th>\n",
       "    </tr>\n",
       "  </thead>\n",
       "  <tbody>\n",
       "    <tr>\n",
       "      <th>322</th>\n",
       "      <td>2020-11-17</td>\n",
       "      <td>ES,DE,DK,IE,IT,LV</td>\n",
       "    </tr>\n",
       "    <tr>\n",
       "      <th>323</th>\n",
       "      <td>2020-11-18</td>\n",
       "      <td>ES,DE,DK,IE,IT,LV</td>\n",
       "    </tr>\n",
       "    <tr>\n",
       "      <th>324</th>\n",
       "      <td>2020-11-19</td>\n",
       "      <td>ES,DE,DK,IE,IT,LV</td>\n",
       "    </tr>\n",
       "    <tr>\n",
       "      <th>325</th>\n",
       "      <td>2020-11-20</td>\n",
       "      <td>ES,DE,DK,IE,IT,LV</td>\n",
       "    </tr>\n",
       "    <tr>\n",
       "      <th>326</th>\n",
       "      <td>2020-11-21</td>\n",
       "      <td>ES,DE,DK,HR,IE,IT,LV</td>\n",
       "    </tr>\n",
       "  </tbody>\n",
       "</table>\n",
       "</div>"
      ],
      "text/plain": [
       "    sample_date        source_regions\n",
       "322  2020-11-17     ES,DE,DK,IE,IT,LV\n",
       "323  2020-11-18     ES,DE,DK,IE,IT,LV\n",
       "324  2020-11-19     ES,DE,DK,IE,IT,LV\n",
       "325  2020-11-20     ES,DE,DK,IE,IT,LV\n",
       "326  2020-11-21  ES,DE,DK,HR,IE,IT,LV"
      ]
     },
     "execution_count": 14,
     "metadata": {},
     "output_type": "execute_result"
    }
   ],
   "source": [
    "source_regions_for_summary_df = \\\n",
    "    source_regions_at_date_df[[\"sample_date\", \"_source_regions_group\"]].copy()\n",
    "source_regions_for_summary_df.rename(columns={\"_source_regions_group\": \"source_regions\"}, inplace=True)\n",
    "source_regions_for_summary_df.tail()"
   ]
  },
  {
   "cell_type": "code",
   "execution_count": 15,
   "metadata": {
    "collapsed": false,
    "execution": {
     "iopub.execute_input": "2020-11-21T23:19:07.648903Z",
     "iopub.status.busy": "2020-11-21T23:19:07.648333Z",
     "iopub.status.idle": "2020-11-21T23:19:07.706562Z",
     "shell.execute_reply": "2020-11-21T23:19:07.707325Z"
    },
    "papermill": {
     "duration": 0.11058,
     "end_time": "2020-11-21T23:19:07.707571",
     "exception": false,
     "start_time": "2020-11-21T23:19:07.596991",
     "status": "completed"
    },
    "pycharm": {
     "name": "#%%\n"
    },
    "tags": []
   },
   "outputs": [
    {
     "data": {
      "text/html": [
       "<div>\n",
       "<style scoped>\n",
       "    .dataframe tbody tr th:only-of-type {\n",
       "        vertical-align: middle;\n",
       "    }\n",
       "\n",
       "    .dataframe tbody tr th {\n",
       "        vertical-align: top;\n",
       "    }\n",
       "\n",
       "    .dataframe thead th {\n",
       "        text-align: right;\n",
       "    }\n",
       "</style>\n",
       "<table border=\"1\" class=\"dataframe\">\n",
       "  <thead>\n",
       "    <tr style=\"text-align: right;\">\n",
       "      <th></th>\n",
       "      <th>sample_date</th>\n",
       "      <th>new_cases</th>\n",
       "      <th>covid_cases</th>\n",
       "    </tr>\n",
       "  </thead>\n",
       "  <tbody>\n",
       "    <tr>\n",
       "      <th>309</th>\n",
       "      <td>2020-11-04</td>\n",
       "      <td>70966</td>\n",
       "      <td>66020.0</td>\n",
       "    </tr>\n",
       "    <tr>\n",
       "      <th>310</th>\n",
       "      <td>2020-11-05</td>\n",
       "      <td>73194</td>\n",
       "      <td>67010.0</td>\n",
       "    </tr>\n",
       "    <tr>\n",
       "      <th>311</th>\n",
       "      <td>2020-11-06</td>\n",
       "      <td>79454</td>\n",
       "      <td>68044.0</td>\n",
       "    </tr>\n",
       "    <tr>\n",
       "      <th>312</th>\n",
       "      <td>2020-11-07</td>\n",
       "      <td>62050</td>\n",
       "      <td>69596.0</td>\n",
       "    </tr>\n",
       "    <tr>\n",
       "      <th>313</th>\n",
       "      <td>2020-11-08</td>\n",
       "      <td>56547</td>\n",
       "      <td>71025.0</td>\n",
       "    </tr>\n",
       "  </tbody>\n",
       "</table>\n",
       "</div>"
      ],
      "text/plain": [
       "    sample_date new_cases  covid_cases\n",
       "309  2020-11-04     70966      66020.0\n",
       "310  2020-11-05     73194      67010.0\n",
       "311  2020-11-06     79454      68044.0\n",
       "312  2020-11-07     62050      69596.0\n",
       "313  2020-11-08     56547      71025.0"
      ]
     },
     "execution_count": 15,
     "metadata": {},
     "output_type": "execute_result"
    }
   ],
   "source": [
    "confirmed_output_columns = [\"sample_date\", \"new_cases\", \"covid_cases\"]\n",
    "confirmed_output_df = pd.DataFrame(columns=confirmed_output_columns)\n",
    "\n",
    "for source_regions_group, source_regions_group_series in \\\n",
    "        source_regions_at_date_df.groupby(\"_source_regions_group\"):\n",
    "    source_regions_set = set(source_regions_group.split(\",\"))\n",
    "    confirmed_source_regions_set_df = \\\n",
    "        confirmed_df[confirmed_df.country_code.isin(source_regions_set)].copy()\n",
    "    confirmed_source_regions_group_df = \\\n",
    "        confirmed_source_regions_set_df.groupby(\"sample_date\").new_cases.sum() \\\n",
    "            .reset_index().sort_values(\"sample_date\")\n",
    "    confirmed_source_regions_group_df[\"covid_cases\"] = \\\n",
    "        confirmed_source_regions_group_df.new_cases.rolling(7, min_periods=0).mean().round()\n",
    "    confirmed_source_regions_group_df = \\\n",
    "        confirmed_source_regions_group_df[confirmed_output_columns]\n",
    "    confirmed_source_regions_group_df.fillna(method=\"ffill\", inplace=True)\n",
    "    confirmed_source_regions_group_df = \\\n",
    "        confirmed_source_regions_group_df[\n",
    "            confirmed_source_regions_group_df.sample_date.isin(\n",
    "                source_regions_group_series.sample_date_string)]\n",
    "    confirmed_output_df = confirmed_output_df.append(confirmed_source_regions_group_df)\n",
    "\n",
    "confirmed_df = confirmed_output_df.copy()\n",
    "confirmed_df.tail()"
   ]
  },
  {
   "cell_type": "code",
   "execution_count": 16,
   "metadata": {
    "collapsed": false,
    "execution": {
     "iopub.execute_input": "2020-11-21T23:19:07.811475Z",
     "iopub.status.busy": "2020-11-21T23:19:07.803839Z",
     "iopub.status.idle": "2020-11-21T23:19:07.814591Z",
     "shell.execute_reply": "2020-11-21T23:19:07.814123Z"
    },
    "papermill": {
     "duration": 0.063039,
     "end_time": "2020-11-21T23:19:07.814712",
     "exception": false,
     "start_time": "2020-11-21T23:19:07.751673",
     "status": "completed"
    },
    "pycharm": {
     "name": "#%%\n"
    },
    "tags": []
   },
   "outputs": [
    {
     "data": {
      "text/html": [
       "<div>\n",
       "<style scoped>\n",
       "    .dataframe tbody tr th:only-of-type {\n",
       "        vertical-align: middle;\n",
       "    }\n",
       "\n",
       "    .dataframe tbody tr th {\n",
       "        vertical-align: top;\n",
       "    }\n",
       "\n",
       "    .dataframe thead th {\n",
       "        text-align: right;\n",
       "    }\n",
       "</style>\n",
       "<table border=\"1\" class=\"dataframe\">\n",
       "  <thead>\n",
       "    <tr style=\"text-align: right;\">\n",
       "      <th></th>\n",
       "      <th>sample_date_string</th>\n",
       "      <th>new_cases</th>\n",
       "      <th>covid_cases</th>\n",
       "    </tr>\n",
       "  </thead>\n",
       "  <tbody>\n",
       "    <tr>\n",
       "      <th>322</th>\n",
       "      <td>2020-11-17</td>\n",
       "      <td>56667</td>\n",
       "      <td>71150.0</td>\n",
       "    </tr>\n",
       "    <tr>\n",
       "      <th>323</th>\n",
       "      <td>2020-11-18</td>\n",
       "      <td>66898</td>\n",
       "      <td>70110.0</td>\n",
       "    </tr>\n",
       "    <tr>\n",
       "      <th>324</th>\n",
       "      <td>2020-11-19</td>\n",
       "      <td>75193</td>\n",
       "      <td>69974.0</td>\n",
       "    </tr>\n",
       "    <tr>\n",
       "      <th>325</th>\n",
       "      <td>2020-11-20</td>\n",
       "      <td>77058</td>\n",
       "      <td>68866.0</td>\n",
       "    </tr>\n",
       "    <tr>\n",
       "      <th>326</th>\n",
       "      <td>2020-11-21</td>\n",
       "      <td>65127</td>\n",
       "      <td>70966.0</td>\n",
       "    </tr>\n",
       "  </tbody>\n",
       "</table>\n",
       "</div>"
      ],
      "text/plain": [
       "    sample_date_string  new_cases  covid_cases\n",
       "322         2020-11-17      56667      71150.0\n",
       "323         2020-11-18      66898      70110.0\n",
       "324         2020-11-19      75193      69974.0\n",
       "325         2020-11-20      77058      68866.0\n",
       "326         2020-11-21      65127      70966.0"
      ]
     },
     "execution_count": 16,
     "metadata": {},
     "output_type": "execute_result"
    }
   ],
   "source": [
    "confirmed_df.rename(columns={\"sample_date\": \"sample_date_string\"}, inplace=True)\n",
    "confirmed_df = confirmed_days_df[[\"sample_date_string\"]].merge(confirmed_df, how=\"left\")\n",
    "confirmed_df.sort_values(\"sample_date_string\", inplace=True)\n",
    "confirmed_df.fillna(method=\"ffill\", inplace=True)\n",
    "confirmed_df.tail()"
   ]
  },
  {
   "cell_type": "code",
   "execution_count": 17,
   "metadata": {
    "collapsed": false,
    "execution": {
     "iopub.execute_input": "2020-11-21T23:19:07.908969Z",
     "iopub.status.busy": "2020-11-21T23:19:07.908435Z",
     "iopub.status.idle": "2020-11-21T23:19:08.100102Z",
     "shell.execute_reply": "2020-11-21T23:19:08.100853Z"
    },
    "papermill": {
     "duration": 0.243912,
     "end_time": "2020-11-21T23:19:08.101022",
     "exception": false,
     "start_time": "2020-11-21T23:19:07.857110",
     "status": "completed"
    },
    "pycharm": {
     "name": "#%%\n"
    },
    "tags": []
   },
   "outputs": [
    {
     "data": {
      "text/plain": [
       "<matplotlib.axes._subplots.AxesSubplot at 0x7f724a3fb760>"
      ]
     },
     "execution_count": 17,
     "metadata": {},
     "output_type": "execute_result"
    },
    {
     "data": {
      "image/png": "[encoded data removed]",
      "text/plain": [
       "<Figure size 1080x432 with 1 Axes>"
      ]
     },
     "metadata": {},
     "output_type": "display_data"
    }
   ],
   "source": [
    "confirmed_df[[\"new_cases\", \"covid_cases\"]].plot()"
   ]
  },
  {
   "cell_type": "markdown",
   "metadata": {
    "execution": {
     "iopub.execute_input": "2020-08-30T22:30:16.351238Z",
     "iopub.status.busy": "2020-08-30T22:30:16.344579Z",
     "iopub.status.idle": "2020-08-30T22:30:16.354285Z",
     "shell.execute_reply": "2020-08-30T22:30:16.353641Z"
    },
    "papermill": {
     "duration": 0.044114,
     "end_time": "2020-11-21T23:19:08.189906",
     "exception": false,
     "start_time": "2020-11-21T23:19:08.145792",
     "status": "completed"
    },
    "pycharm": {
     "name": "#%% md\n"
    },
    "tags": []
   },
   "source": [
    "### Extract API TEKs"
   ]
  },
  {
   "cell_type": "code",
   "execution_count": 18,
   "metadata": {
    "execution": {
     "iopub.execute_input": "2020-11-21T23:19:08.286912Z",
     "iopub.status.busy": "2020-11-21T23:19:08.286119Z",
     "iopub.status.idle": "2020-11-21T23:32:28.149929Z",
     "shell.execute_reply": "2020-11-21T23:32:28.150374Z"
    },
    "papermill": {
     "duration": 799.916743,
     "end_time": "2020-11-21T23:32:28.150528",
     "exception": false,
     "start_time": "2020-11-21T23:19:08.233785",
     "status": "completed"
    },
    "pycharm": {
     "name": "#%%\n"
    },
    "tags": []
   },
   "outputs": [
    {
     "name": "stderr",
     "output_type": "stream",
     "text": [
      "WARNING:root:NoKeysFoundException(\"No exposure keys found on endpoint 'https://radarcovidpre.covid19.gob.es/dp3t/v1/gaen/exposed/1605916800000' (parameters: {'generation_date': '2020-11-21', 'endpoint_identifier_components': ['2020-11-21'], 'backend_identifier': 'ES@PRE', 'server_endpoint_url': 'https://radarcovidpre.covid19.gob.es/dp3t'}).\")\n"
     ]
    },
    {
     "name": "stderr",
     "output_type": "stream",
     "text": [
      "WARNING:root:NoKeysFoundException(\"No exposure keys found on endpoint 'https://stayaway.incm.pt/v1/gaen/exposed/1605916800000' (parameters: {'generation_date': '2020-11-21', 'endpoint_identifier_components': ['2020-11-21'], 'backend_identifier': 'PT', 'server_endpoint_url': 'https://stayaway.incm.pt'}).\")\n"
     ]
    },
    {
     "name": "stderr",
     "output_type": "stream",
     "text": [
      "WARNING:root:NoKeysFoundException(\"No exposure keys found on endpoint 'https://enapi.sm.ee/authorization/v1/gaen/exposed/1605916800000' (parameters: {'generation_date': '2020-11-21', 'endpoint_identifier_components': ['2020-11-21'], 'backend_identifier': 'EE', 'server_endpoint_url': 'https://enapi.sm.ee/authorization'}).\")\n"
     ]
    },
    {
     "name": "stderr",
     "output_type": "stream",
     "text": [
      "WARNING:root:NoKeysFoundException(\"No exposure keys found on endpoint 'https://mt-dpppt-ws.azurewebsites.net/v1/gaen/exposed/1605916800000' (parameters: {'generation_date': '2020-11-21', 'endpoint_identifier_components': ['2020-11-21'], 'backend_identifier': 'MT', 'server_endpoint_url': 'https://mt-dpppt-ws.azurewebsites.net'}).\")\n"
     ]
    },
    {
     "name": "stderr",
     "output_type": "stream",
     "text": [
      "WARNING:root:Error downloading exposure keys from backend 'BE@TST': SSLError(MaxRetryError(\"HTTPSConnectionPool(host='c19distcdn-tst.ixor.be', port=443): Max retries exceeded with url: /version/v1/diagnosis-keys/country/BE/date/2020-11-16 (Caused by SSLError(SSLEOFError(8, 'EOF occurred in violation of protocol (_ssl.c:1124)')))\"))\n",
      "Traceback (most recent call last):\n",
      "  File \"/opt/hostedtoolcache/Python/3.8.6/x64/lib/python3.8/site-packages/urllib3/connectionpool.py\", line 670, in urlopen\n",
      "    httplib_response = self._make_request(\n",
      "  File \"/opt/hostedtoolcache/Python/3.8.6/x64/lib/python3.8/site-packages/urllib3/connectionpool.py\", line 381, in _make_request\n",
      "    self._validate_conn(conn)\n",
      "  File \"/opt/hostedtoolcache/Python/3.8.6/x64/lib/python3.8/site-packages/urllib3/connectionpool.py\", line 978, in _validate_conn\n",
      "    conn.connect()\n",
      "  File \"/opt/hostedtoolcache/Python/3.8.6/x64/lib/python3.8/site-packages/urllib3/connection.py\", line 362, in connect\n",
      "    self.sock = ssl_wrap_socket(\n",
      "  File \"/opt/hostedtoolcache/Python/3.8.6/x64/lib/python3.8/site-packages/urllib3/util/ssl_.py\", line 386, in ssl_wrap_socket\n",
      "    return context.wrap_socket(sock, server_hostname=server_hostname)\n",
      "  File \"/opt/hostedtoolcache/Python/3.8.6/x64/lib/python3.8/ssl.py\", line 500, in wrap_socket\n",
      "    return self.sslsocket_class._create(\n",
      "  File \"/opt/hostedtoolcache/Python/3.8.6/x64/lib/python3.8/ssl.py\", line 1040, in _create\n",
      "    self.do_handshake()\n",
      "  File \"/opt/hostedtoolcache/Python/3.8.6/x64/lib/python3.8/ssl.py\", line 1309, in do_handshake\n",
      "    self._sslobj.do_handshake()\n",
      "ssl.SSLEOFError: EOF occurred in violation of protocol (_ssl.c:1124)\n",
      "\n",
      "During handling of the above exception, another exception occurred:\n",
      "\n",
      "Traceback (most recent call last):\n",
      "  File \"/opt/hostedtoolcache/Python/3.8.6/x64/lib/python3.8/site-packages/requests/adapters.py\", line 439, in send\n",
      "    resp = conn.urlopen(\n",
      "  File \"/opt/hostedtoolcache/Python/3.8.6/x64/lib/python3.8/site-packages/urllib3/connectionpool.py\", line 726, in urlopen\n",
      "    retries = retries.increment(\n",
      "  File \"/opt/hostedtoolcache/Python/3.8.6/x64/lib/python3.8/site-packages/urllib3/util/retry.py\", line 446, in increment\n",
      "    raise MaxRetryError(_pool, url, error or ResponseError(cause))\n",
      "urllib3.exceptions.MaxRetryError: HTTPSConnectionPool(host='c19distcdn-tst.ixor.be', port=443): Max retries exceeded with url: /version/v1/diagnosis-keys/country/BE/date/2020-11-16 (Caused by SSLError(SSLEOFError(8, 'EOF occurred in violation of protocol (_ssl.c:1124)')))\n",
      "\n",
      "During handling of the above exception, another exception occurred:\n",
      "\n",
      "Traceback (most recent call last):\n",
      "  File \"/home/runner/work/Radar-STATS/Radar-STATS/Modules/ExposureNotification/exposure_notification_io.py\", line 82, in download_exposure_keys_from_backends\n",
      "    backend_exposure_keys_df = backend_client.download_exposure_keys_with_parameters(**kwargs)\n",
      "  File \"/home/runner/work/Radar-STATS/Radar-STATS/Modules/ExposureNotification/BackendClients/base.py\", line 45, in download_exposure_keys_with_parameters\n",
      "    endpoint_exposure_keys_df = self._download_exposure_keys_from_endpoint_with_parameters(\n",
      "  File \"/home/runner/work/Radar-STATS/Radar-STATS/Modules/ExposureNotification/BackendClients/base.py\", line 72, in _download_exposure_keys_from_endpoint_with_parameters\n",
      "    request_response = self.send_get_request(url=endpoint)\n",
      "  File \"/home/runner/work/Radar-STATS/Radar-STATS/Modules/ExposureNotification/BackendClients/base.py\", line 184, in send_get_request\n",
      "    return requests.get(url, **kwargs)\n",
      "  File \"/opt/hostedtoolcache/Python/3.8.6/x64/lib/python3.8/site-packages/requests/api.py\", line 76, in get\n",
      "    return request('get', url, params=params, **kwargs)\n",
      "  File \"/opt/hostedtoolcache/Python/3.8.6/x64/lib/python3.8/site-packages/requests/api.py\", line 61, in request\n",
      "    return session.request(method=method, url=url, **kwargs)\n",
      "  File \"/opt/hostedtoolcache/Python/3.8.6/x64/lib/python3.8/site-packages/requests/sessions.py\", line 530, in request\n",
      "    resp = self.send(prep, **send_kwargs)\n",
      "  File \"/opt/hostedtoolcache/Python/3.8.6/x64/lib/python3.8/site-packages/requests/sessions.py\", line 643, in send\n",
      "    r = adapter.send(request, **kwargs)\n",
      "  File \"/opt/hostedtoolcache/Python/3.8.6/x64/lib/python3.8/site-packages/requests/adapters.py\", line 514, in send\n",
      "    raise SSLError(e, request=request)\n",
      "requests.exceptions.SSLError: HTTPSConnectionPool(host='c19distcdn-tst.ixor.be', port=443): Max retries exceeded with url: /version/v1/diagnosis-keys/country/BE/date/2020-11-16 (Caused by SSLError(SSLEOFError(8, 'EOF occurred in violation of protocol (_ssl.c:1124)')))\n"
     ]
    },
    {
     "data": {
      "text/html": [
       "<div>\n",
       "<style scoped>\n",
       "    .dataframe tbody tr th:only-of-type {\n",
       "        vertical-align: middle;\n",
       "    }\n",
       "\n",
       "    .dataframe tbody tr th {\n",
       "        vertical-align: top;\n",
       "    }\n",
       "\n",
       "    .dataframe thead th {\n",
       "        text-align: right;\n",
       "    }\n",
       "</style>\n",
       "<table border=\"1\" class=\"dataframe\">\n",
       "  <thead>\n",
       "    <tr style=\"text-align: right;\">\n",
       "      <th></th>\n",
       "      <th>sample_datetime</th>\n",
       "      <th>sample_date_string</th>\n",
       "      <th>region</th>\n",
       "      <th>verification_key_version</th>\n",
       "      <th>verification_key_id</th>\n",
       "      <th>signature_algorithm</th>\n",
       "      <th>key_data</th>\n",
       "      <th>rolling_start_interval_number</th>\n",
       "      <th>rolling_period</th>\n",
       "      <th>transmission_risk_level</th>\n",
       "      <th>backend_identifier</th>\n",
       "    </tr>\n",
       "  </thead>\n",
       "  <tbody>\n",
       "    <tr>\n",
       "      <th>0</th>\n",
       "      <td>2020-11-21</td>\n",
       "      <td>2020-11-21</td>\n",
       "      <td>ES</td>\n",
       "      <td>V1</td>\n",
       "      <td>214</td>\n",
       "      <td>1.2.840.10045.4.3.2</td>\n",
       "      <td>cb56e460-005f-78ba-2dfe-54fc6c469d4c</td>\n",
       "      <td>2676528</td>\n",
       "      <td>130</td>\n",
       "      <td>0</td>\n",
       "      <td>ES</td>\n",
       "    </tr>\n",
       "    <tr>\n",
       "      <th>1</th>\n",
       "      <td>2020-11-21</td>\n",
       "      <td>2020-11-21</td>\n",
       "      <td>ES</td>\n",
       "      <td>V1</td>\n",
       "      <td>214</td>\n",
       "      <td>1.2.840.10045.4.3.2</td>\n",
       "      <td>ae958dd6-ad93-6958-88f0-053314a0caf0</td>\n",
       "      <td>2676528</td>\n",
       "      <td>129</td>\n",
       "      <td>0</td>\n",
       "      <td>ES</td>\n",
       "    </tr>\n",
       "    <tr>\n",
       "      <th>2</th>\n",
       "      <td>2020-11-21</td>\n",
       "      <td>2020-11-21</td>\n",
       "      <td>ES</td>\n",
       "      <td>V1</td>\n",
       "      <td>214</td>\n",
       "      <td>1.2.840.10045.4.3.2</td>\n",
       "      <td>828d6595-2d9d-dd88-fac7-120e0a69b460</td>\n",
       "      <td>2676528</td>\n",
       "      <td>126</td>\n",
       "      <td>0</td>\n",
       "      <td>ES</td>\n",
       "    </tr>\n",
       "    <tr>\n",
       "      <th>3</th>\n",
       "      <td>2020-11-21</td>\n",
       "      <td>2020-11-21</td>\n",
       "      <td>ES</td>\n",
       "      <td>V1</td>\n",
       "      <td>214</td>\n",
       "      <td>1.2.840.10045.4.3.2</td>\n",
       "      <td>d4cbad58-3971-a447-4528-39570f1ebb3b</td>\n",
       "      <td>2676528</td>\n",
       "      <td>126</td>\n",
       "      <td>0</td>\n",
       "      <td>ES</td>\n",
       "    </tr>\n",
       "    <tr>\n",
       "      <th>4</th>\n",
       "      <td>2020-11-21</td>\n",
       "      <td>2020-11-21</td>\n",
       "      <td>ES</td>\n",
       "      <td>V1</td>\n",
       "      <td>214</td>\n",
       "      <td>1.2.840.10045.4.3.2</td>\n",
       "      <td>227ef26e-afb9-2676-1ef0-9123b595832c</td>\n",
       "      <td>2676528</td>\n",
       "      <td>124</td>\n",
       "      <td>0</td>\n",
       "      <td>ES</td>\n",
       "    </tr>\n",
       "  </tbody>\n",
       "</table>\n",
       "</div>"
      ],
      "text/plain": [
       "  sample_datetime sample_date_string region verification_key_version  \\\n",
       "0      2020-11-21         2020-11-21     ES                       V1   \n",
       "1      2020-11-21         2020-11-21     ES                       V1   \n",
       "2      2020-11-21         2020-11-21     ES                       V1   \n",
       "3      2020-11-21         2020-11-21     ES                       V1   \n",
       "4      2020-11-21         2020-11-21     ES                       V1   \n",
       "\n",
       "  verification_key_id  signature_algorithm  \\\n",
       "0                 214  1.2.840.10045.4.3.2   \n",
       "1                 214  1.2.840.10045.4.3.2   \n",
       "2                 214  1.2.840.10045.4.3.2   \n",
       "3                 214  1.2.840.10045.4.3.2   \n",
       "4                 214  1.2.840.10045.4.3.2   \n",
       "\n",
       "                               key_data  rolling_start_interval_number  \\\n",
       "0  cb56e460-005f-78ba-2dfe-54fc6c469d4c                        2676528   \n",
       "1  ae958dd6-ad93-6958-88f0-053314a0caf0                        2676528   \n",
       "2  828d6595-2d9d-dd88-fac7-120e0a69b460                        2676528   \n",
       "3  d4cbad58-3971-a447-4528-39570f1ebb3b                        2676528   \n",
       "4  227ef26e-afb9-2676-1ef0-9123b595832c                        2676528   \n",
       "\n",
       "   rolling_period  transmission_risk_level backend_identifier  \n",
       "0             130                        0                 ES  \n",
       "1             129                        0                 ES  \n",
       "2             126                        0                 ES  \n",
       "3             126                        0                 ES  \n",
       "4             124                        0                 ES  "
      ]
     },
     "execution_count": 18,
     "metadata": {},
     "output_type": "execute_result"
    }
   ],
   "source": [
    "raw_zip_path_prefix = \"Data/TEKs/Raw/\"\n",
    "fail_on_error_backend_identifiers = [report_backend_identifier]\n",
    "multi_backend_exposure_keys_df = \\\n",
    "    exposure_notification_io.download_exposure_keys_from_backends(\n",
    "        backend_identifiers=report_backend_identifiers,\n",
    "        generation_days=backend_generation_days,\n",
    "        fail_on_error_backend_identifiers=fail_on_error_backend_identifiers,\n",
    "        save_raw_zip_path_prefix=raw_zip_path_prefix)\n",
    "multi_backend_exposure_keys_df[\"region\"] = multi_backend_exposure_keys_df[\"backend_identifier\"]\n",
    "multi_backend_exposure_keys_df.rename(\n",
    "    columns={\n",
    "        \"generation_datetime\": \"sample_datetime\",\n",
    "        \"generation_date_string\": \"sample_date_string\",\n",
    "    },\n",
    "    inplace=True)\n",
    "multi_backend_exposure_keys_df.head()"
   ]
  },
  {
   "cell_type": "code",
   "execution_count": 19,
   "metadata": {
    "collapsed": false,
    "execution": {
     "iopub.execute_input": "2020-11-21T23:32:28.247295Z",
     "iopub.status.busy": "2020-11-21T23:32:28.246748Z",
     "iopub.status.idle": "2020-11-21T23:32:28.456278Z",
     "shell.execute_reply": "2020-11-21T23:32:28.456743Z"
    },
    "papermill": {
     "duration": 0.260653,
     "end_time": "2020-11-21T23:32:28.456900",
     "exception": false,
     "start_time": "2020-11-21T23:32:28.196247",
     "status": "completed"
    },
    "pycharm": {
     "name": "#%%\n"
    },
    "tags": []
   },
   "outputs": [
    {
     "data": {
      "text/plain": [
       "<matplotlib.axes._subplots.AxesSubplot at 0x7f7237eb49a0>"
      ]
     },
     "execution_count": 19,
     "metadata": {},
     "output_type": "execute_result"
    },
    {
     "data": {
      "image/png": "[encoded data removed]",
      "text/plain": [
       "<Figure size 1080x432 with 1 Axes>"
      ]
     },
     "metadata": {},
     "output_type": "display_data"
    }
   ],
   "source": [
    "early_teks_df = multi_backend_exposure_keys_df[\n",
    "    multi_backend_exposure_keys_df.rolling_period < 144].copy()\n",
    "early_teks_df[\"rolling_period_in_hours\"] = early_teks_df.rolling_period / 6\n",
    "early_teks_df[early_teks_df.sample_date_string != extraction_date] \\\n",
    "    .rolling_period_in_hours.hist(bins=list(range(24)))"
   ]
  },
  {
   "cell_type": "code",
   "execution_count": 20,
   "metadata": {
    "collapsed": false,
    "execution": {
     "iopub.execute_input": "2020-11-21T23:32:28.558525Z",
     "iopub.status.busy": "2020-11-21T23:32:28.557987Z",
     "iopub.status.idle": "2020-11-21T23:32:28.759351Z",
     "shell.execute_reply": "2020-11-21T23:32:28.760043Z"
    },
    "papermill": {
     "duration": 0.255192,
     "end_time": "2020-11-21T23:32:28.760205",
     "exception": false,
     "start_time": "2020-11-21T23:32:28.505013",
     "status": "completed"
    },
    "pycharm": {
     "name": "#%%\n"
    },
    "tags": []
   },
   "outputs": [
    {
     "data": {
      "text/plain": [
       "<matplotlib.axes._subplots.AxesSubplot at 0x7f7237d0c520>"
      ]
     },
     "execution_count": 20,
     "metadata": {},
     "output_type": "execute_result"
    },
    {
     "data": {
      "image/png": "[encoded data removed]",
      "text/plain": [
       "<Figure size 1080x432 with 1 Axes>"
      ]
     },
     "metadata": {},
     "output_type": "display_data"
    }
   ],
   "source": [
    "early_teks_df[early_teks_df.sample_date_string == extraction_date] \\\n",
    "    .rolling_period_in_hours.hist(bins=list(range(24)))"
   ]
  },
  {
   "cell_type": "code",
   "execution_count": 21,
   "metadata": {
    "collapsed": false,
    "execution": {
     "iopub.execute_input": "2020-11-21T23:32:28.873062Z",
     "iopub.status.busy": "2020-11-21T23:32:28.872510Z",
     "iopub.status.idle": "2020-11-21T23:32:28.903737Z",
     "shell.execute_reply": "2020-11-21T23:32:28.903285Z"
    },
    "papermill": {
     "duration": 0.095697,
     "end_time": "2020-11-21T23:32:28.903887",
     "exception": false,
     "start_time": "2020-11-21T23:32:28.808190",
     "status": "completed"
    },
    "pycharm": {
     "name": "#%%\n"
    },
    "tags": []
   },
   "outputs": [
    {
     "data": {
      "text/html": [
       "<div>\n",
       "<style scoped>\n",
       "    .dataframe tbody tr th:only-of-type {\n",
       "        vertical-align: middle;\n",
       "    }\n",
       "\n",
       "    .dataframe tbody tr th {\n",
       "        vertical-align: top;\n",
       "    }\n",
       "\n",
       "    .dataframe thead th {\n",
       "        text-align: right;\n",
       "    }\n",
       "</style>\n",
       "<table border=\"1\" class=\"dataframe\">\n",
       "  <thead>\n",
       "    <tr style=\"text-align: right;\">\n",
       "      <th></th>\n",
       "      <th>sample_date_string</th>\n",
       "      <th>region</th>\n",
       "      <th>key_data</th>\n",
       "    </tr>\n",
       "  </thead>\n",
       "  <tbody>\n",
       "    <tr>\n",
       "      <th>0</th>\n",
       "      <td>2020-11-21</td>\n",
       "      <td>ES</td>\n",
       "      <td>cb56e460-005f-78ba-2dfe-54fc6c469d4c</td>\n",
       "    </tr>\n",
       "    <tr>\n",
       "      <th>1</th>\n",
       "      <td>2020-11-21</td>\n",
       "      <td>ES</td>\n",
       "      <td>ae958dd6-ad93-6958-88f0-053314a0caf0</td>\n",
       "    </tr>\n",
       "    <tr>\n",
       "      <th>2</th>\n",
       "      <td>2020-11-21</td>\n",
       "      <td>ES</td>\n",
       "      <td>828d6595-2d9d-dd88-fac7-120e0a69b460</td>\n",
       "    </tr>\n",
       "    <tr>\n",
       "      <th>3</th>\n",
       "      <td>2020-11-21</td>\n",
       "      <td>ES</td>\n",
       "      <td>d4cbad58-3971-a447-4528-39570f1ebb3b</td>\n",
       "    </tr>\n",
       "    <tr>\n",
       "      <th>4</th>\n",
       "      <td>2020-11-21</td>\n",
       "      <td>ES</td>\n",
       "      <td>227ef26e-afb9-2676-1ef0-9123b595832c</td>\n",
       "    </tr>\n",
       "  </tbody>\n",
       "</table>\n",
       "</div>"
      ],
      "text/plain": [
       "  sample_date_string region                              key_data\n",
       "0         2020-11-21     ES  cb56e460-005f-78ba-2dfe-54fc6c469d4c\n",
       "1         2020-11-21     ES  ae958dd6-ad93-6958-88f0-053314a0caf0\n",
       "2         2020-11-21     ES  828d6595-2d9d-dd88-fac7-120e0a69b460\n",
       "3         2020-11-21     ES  d4cbad58-3971-a447-4528-39570f1ebb3b\n",
       "4         2020-11-21     ES  227ef26e-afb9-2676-1ef0-9123b595832c"
      ]
     },
     "execution_count": 21,
     "metadata": {},
     "output_type": "execute_result"
    }
   ],
   "source": [
    "multi_backend_exposure_keys_df = multi_backend_exposure_keys_df[[\n",
    "    \"sample_date_string\", \"region\", \"key_data\"]]\n",
    "multi_backend_exposure_keys_df.head()"
   ]
  },
  {
   "cell_type": "code",
   "execution_count": 22,
   "metadata": {
    "collapsed": false,
    "execution": {
     "iopub.execute_input": "2020-11-21T23:32:29.015568Z",
     "iopub.status.busy": "2020-11-21T23:32:29.015031Z",
     "iopub.status.idle": "2020-11-21T23:32:32.824467Z",
     "shell.execute_reply": "2020-11-21T23:32:32.823856Z"
    },
    "papermill": {
     "duration": 3.87185,
     "end_time": "2020-11-21T23:32:32.824598",
     "exception": false,
     "start_time": "2020-11-21T23:32:28.952748",
     "status": "completed"
    },
    "pycharm": {
     "name": "#%%\n"
    },
    "tags": []
   },
   "outputs": [
    {
     "data": {
      "text/plain": [
       "['MT', 'EE', 'PT', 'BE', 'DK', 'ES@PRE', 'CH', 'DE', 'IT', 'ES']"
      ]
     },
     "execution_count": 22,
     "metadata": {},
     "output_type": "execute_result"
    }
   ],
   "source": [
    "active_regions = \\\n",
    "    multi_backend_exposure_keys_df.groupby(\"region\").key_data.nunique().sort_values().index.unique().tolist()\n",
    "active_regions"
   ]
  },
  {
   "cell_type": "code",
   "execution_count": 23,
   "metadata": {
    "collapsed": false,
    "execution": {
     "iopub.execute_input": "2020-11-21T23:32:32.970921Z",
     "iopub.status.busy": "2020-11-21T23:32:32.969951Z",
     "iopub.status.idle": "2020-11-21T23:32:36.838863Z",
     "shell.execute_reply": "2020-11-21T23:32:36.837967Z"
    },
    "papermill": {
     "duration": 3.961807,
     "end_time": "2020-11-21T23:32:36.839003",
     "exception": false,
     "start_time": "2020-11-21T23:32:32.877196",
     "status": "completed"
    },
    "pycharm": {
     "name": "#%%\n"
    },
    "tags": []
   },
   "outputs": [
    {
     "data": {
      "text/html": [
       "<div>\n",
       "<style scoped>\n",
       "    .dataframe tbody tr th:only-of-type {\n",
       "        vertical-align: middle;\n",
       "    }\n",
       "\n",
       "    .dataframe tbody tr th {\n",
       "        vertical-align: top;\n",
       "    }\n",
       "\n",
       "    .dataframe thead tr th {\n",
       "        text-align: left;\n",
       "    }\n",
       "\n",
       "    .dataframe thead tr:last-of-type th {\n",
       "        text-align: right;\n",
       "    }\n",
       "</style>\n",
       "<table border=\"1\" class=\"dataframe\">\n",
       "  <thead>\n",
       "    <tr>\n",
       "      <th></th>\n",
       "      <th colspan=\"10\" halign=\"left\">shared_teks_by_generation_date</th>\n",
       "    </tr>\n",
       "    <tr>\n",
       "      <th>region</th>\n",
       "      <th>BE</th>\n",
       "      <th>CH</th>\n",
       "      <th>DE</th>\n",
       "      <th>DK</th>\n",
       "      <th>EE</th>\n",
       "      <th>ES</th>\n",
       "      <th>ES@PRE</th>\n",
       "      <th>IT</th>\n",
       "      <th>MT</th>\n",
       "      <th>PT</th>\n",
       "    </tr>\n",
       "    <tr>\n",
       "      <th>sample_date</th>\n",
       "      <th></th>\n",
       "      <th></th>\n",
       "      <th></th>\n",
       "      <th></th>\n",
       "      <th></th>\n",
       "      <th></th>\n",
       "      <th></th>\n",
       "      <th></th>\n",
       "      <th></th>\n",
       "      <th></th>\n",
       "    </tr>\n",
       "  </thead>\n",
       "  <tbody>\n",
       "    <tr>\n",
       "      <th>2020-11-21</th>\n",
       "      <td>0</td>\n",
       "      <td>450</td>\n",
       "      <td>0</td>\n",
       "      <td>0</td>\n",
       "      <td>0</td>\n",
       "      <td>153</td>\n",
       "      <td>0</td>\n",
       "      <td>13</td>\n",
       "      <td>0</td>\n",
       "      <td>0</td>\n",
       "    </tr>\n",
       "    <tr>\n",
       "      <th>2020-11-20</th>\n",
       "      <td>0</td>\n",
       "      <td>1063</td>\n",
       "      <td>0</td>\n",
       "      <td>133</td>\n",
       "      <td>45</td>\n",
       "      <td>1635</td>\n",
       "      <td>228</td>\n",
       "      <td>1623</td>\n",
       "      <td>108</td>\n",
       "      <td>74</td>\n",
       "    </tr>\n",
       "    <tr>\n",
       "      <th>2020-11-19</th>\n",
       "      <td>106</td>\n",
       "      <td>1586</td>\n",
       "      <td>2279</td>\n",
       "      <td>354</td>\n",
       "      <td>73</td>\n",
       "      <td>4197</td>\n",
       "      <td>597</td>\n",
       "      <td>3810</td>\n",
       "      <td>111</td>\n",
       "      <td>116</td>\n",
       "    </tr>\n",
       "    <tr>\n",
       "      <th>2020-11-18</th>\n",
       "      <td>161</td>\n",
       "      <td>2219</td>\n",
       "      <td>4427</td>\n",
       "      <td>524</td>\n",
       "      <td>107</td>\n",
       "      <td>6678</td>\n",
       "      <td>1044</td>\n",
       "      <td>5907</td>\n",
       "      <td>115</td>\n",
       "      <td>166</td>\n",
       "    </tr>\n",
       "    <tr>\n",
       "      <th>2020-11-17</th>\n",
       "      <td>212</td>\n",
       "      <td>2794</td>\n",
       "      <td>6649</td>\n",
       "      <td>712</td>\n",
       "      <td>126</td>\n",
       "      <td>9190</td>\n",
       "      <td>1417</td>\n",
       "      <td>8152</td>\n",
       "      <td>117</td>\n",
       "      <td>212</td>\n",
       "    </tr>\n",
       "  </tbody>\n",
       "</table>\n",
       "</div>"
      ],
      "text/plain": [
       "            shared_teks_by_generation_date                                     \\\n",
       "region                                  BE    CH    DE   DK   EE    ES ES@PRE   \n",
       "sample_date                                                                     \n",
       "2020-11-21                               0   450     0    0    0   153      0   \n",
       "2020-11-20                               0  1063     0  133   45  1635    228   \n",
       "2020-11-19                             106  1586  2279  354   73  4197    597   \n",
       "2020-11-18                             161  2219  4427  524  107  6678   1044   \n",
       "2020-11-17                             212  2794  6649  712  126  9190   1417   \n",
       "\n",
       "                             \n",
       "region         IT   MT   PT  \n",
       "sample_date                  \n",
       "2020-11-21     13    0    0  \n",
       "2020-11-20   1623  108   74  \n",
       "2020-11-19   3810  111  116  \n",
       "2020-11-18   5907  115  166  \n",
       "2020-11-17   8152  117  212  "
      ]
     },
     "execution_count": 23,
     "metadata": {},
     "output_type": "execute_result"
    }
   ],
   "source": [
    "multi_backend_summary_df = multi_backend_exposure_keys_df.groupby(\n",
    "    [\"sample_date_string\", \"region\"]).key_data.nunique().reset_index() \\\n",
    "    .pivot(index=\"sample_date_string\", columns=\"region\") \\\n",
    "    .sort_index(ascending=False)\n",
    "multi_backend_summary_df.rename(\n",
    "    columns={\"key_data\": \"shared_teks_by_generation_date\"},\n",
    "    inplace=True)\n",
    "multi_backend_summary_df.rename_axis(\"sample_date\", inplace=True)\n",
    "multi_backend_summary_df = multi_backend_summary_df.fillna(0).astype(int)\n",
    "multi_backend_summary_df = multi_backend_summary_df.head(backend_generation_days)\n",
    "multi_backend_summary_df.head()"
   ]
  },
  {
   "cell_type": "code",
   "execution_count": 24,
   "metadata": {
    "collapsed": false,
    "execution": {
     "iopub.execute_input": "2020-11-21T23:32:36.945185Z",
     "iopub.status.busy": "2020-11-21T23:32:36.944626Z",
     "iopub.status.idle": "2020-11-21T23:32:41.792998Z",
     "shell.execute_reply": "2020-11-21T23:32:41.792454Z"
    },
    "papermill": {
     "duration": 4.904794,
     "end_time": "2020-11-21T23:32:41.793141",
     "exception": false,
     "start_time": "2020-11-21T23:32:36.888347",
     "status": "completed"
    },
    "pycharm": {
     "name": "#%%\n"
    },
    "tags": []
   },
   "outputs": [
    {
     "name": "stderr",
     "output_type": "stream",
     "text": [
      "<ipython-input-24-4e21708c19d8>:2: FutureWarning: `item` has been deprecated and will be removed in a future version\n",
      "  teks_x = x.key_data_x.item()\n",
      "<ipython-input-24-4e21708c19d8>:3: FutureWarning: `item` has been deprecated and will be removed in a future version\n",
      "  common_teks = set(teks_x).intersection(x.key_data_y.item())\n"
     ]
    },
    {
     "name": "stderr",
     "output_type": "stream",
     "text": [
      "<ipython-input-24-4e21708c19d8>:33: FutureWarning: `item` has been deprecated and will be removed in a future version\n",
      "  aggfunc=lambda x: x.item())\n"
     ]
    },
    {
     "data": {
      "text/html": [
       "<div>\n",
       "<style scoped>\n",
       "    .dataframe tbody tr th:only-of-type {\n",
       "        vertical-align: middle;\n",
       "    }\n",
       "\n",
       "    .dataframe tbody tr th {\n",
       "        vertical-align: top;\n",
       "    }\n",
       "\n",
       "    .dataframe thead tr th {\n",
       "        text-align: left;\n",
       "    }\n",
       "\n",
       "    .dataframe thead tr:last-of-type th {\n",
       "        text-align: right;\n",
       "    }\n",
       "</style>\n",
       "<table border=\"1\" class=\"dataframe\">\n",
       "  <thead>\n",
       "    <tr>\n",
       "      <th></th>\n",
       "      <th colspan=\"10\" halign=\"left\">common_teks_fraction</th>\n",
       "    </tr>\n",
       "    <tr>\n",
       "      <th>region_x</th>\n",
       "      <th>BE</th>\n",
       "      <th>CH</th>\n",
       "      <th>DE</th>\n",
       "      <th>DK</th>\n",
       "      <th>EE</th>\n",
       "      <th>ES</th>\n",
       "      <th>ES@PRE</th>\n",
       "      <th>IT</th>\n",
       "      <th>MT</th>\n",
       "      <th>PT</th>\n",
       "    </tr>\n",
       "    <tr>\n",
       "      <th>region_y</th>\n",
       "      <th></th>\n",
       "      <th></th>\n",
       "      <th></th>\n",
       "      <th></th>\n",
       "      <th></th>\n",
       "      <th></th>\n",
       "      <th></th>\n",
       "      <th></th>\n",
       "      <th></th>\n",
       "      <th></th>\n",
       "    </tr>\n",
       "  </thead>\n",
       "  <tbody>\n",
       "    <tr>\n",
       "      <th>BE</th>\n",
       "      <td>NaN</td>\n",
       "      <td>0.0</td>\n",
       "      <td>0.000000</td>\n",
       "      <td>0.000000</td>\n",
       "      <td>0.0</td>\n",
       "      <td>0.000000</td>\n",
       "      <td>0.000000</td>\n",
       "      <td>0.000000</td>\n",
       "      <td>0.0</td>\n",
       "      <td>0.0</td>\n",
       "    </tr>\n",
       "    <tr>\n",
       "      <th>CH</th>\n",
       "      <td>0.0</td>\n",
       "      <td>NaN</td>\n",
       "      <td>0.000000</td>\n",
       "      <td>0.000000</td>\n",
       "      <td>0.0</td>\n",
       "      <td>0.000000</td>\n",
       "      <td>0.000000</td>\n",
       "      <td>0.000000</td>\n",
       "      <td>0.0</td>\n",
       "      <td>0.0</td>\n",
       "    </tr>\n",
       "    <tr>\n",
       "      <th>DE</th>\n",
       "      <td>0.0</td>\n",
       "      <td>0.0</td>\n",
       "      <td>NaN</td>\n",
       "      <td>0.000000</td>\n",
       "      <td>0.0</td>\n",
       "      <td>0.743159</td>\n",
       "      <td>0.000307</td>\n",
       "      <td>0.846157</td>\n",
       "      <td>0.0</td>\n",
       "      <td>0.0</td>\n",
       "    </tr>\n",
       "    <tr>\n",
       "      <th>DK</th>\n",
       "      <td>0.0</td>\n",
       "      <td>0.0</td>\n",
       "      <td>0.000000</td>\n",
       "      <td>NaN</td>\n",
       "      <td>0.0</td>\n",
       "      <td>0.071246</td>\n",
       "      <td>0.000000</td>\n",
       "      <td>0.000000</td>\n",
       "      <td>0.0</td>\n",
       "      <td>0.0</td>\n",
       "    </tr>\n",
       "    <tr>\n",
       "      <th>EE</th>\n",
       "      <td>0.0</td>\n",
       "      <td>0.0</td>\n",
       "      <td>0.000000</td>\n",
       "      <td>0.000000</td>\n",
       "      <td>NaN</td>\n",
       "      <td>0.000000</td>\n",
       "      <td>0.000000</td>\n",
       "      <td>0.000000</td>\n",
       "      <td>0.0</td>\n",
       "      <td>0.0</td>\n",
       "    </tr>\n",
       "    <tr>\n",
       "      <th>ES</th>\n",
       "      <td>0.0</td>\n",
       "      <td>0.0</td>\n",
       "      <td>0.959093</td>\n",
       "      <td>0.819618</td>\n",
       "      <td>0.0</td>\n",
       "      <td>NaN</td>\n",
       "      <td>0.000307</td>\n",
       "      <td>0.978030</td>\n",
       "      <td>0.0</td>\n",
       "      <td>0.0</td>\n",
       "    </tr>\n",
       "    <tr>\n",
       "      <th>ES@PRE</th>\n",
       "      <td>0.0</td>\n",
       "      <td>0.0</td>\n",
       "      <td>0.000071</td>\n",
       "      <td>0.000000</td>\n",
       "      <td>0.0</td>\n",
       "      <td>0.000055</td>\n",
       "      <td>NaN</td>\n",
       "      <td>0.000063</td>\n",
       "      <td>0.0</td>\n",
       "      <td>0.0</td>\n",
       "    </tr>\n",
       "    <tr>\n",
       "      <th>IT</th>\n",
       "      <td>0.0</td>\n",
       "      <td>0.0</td>\n",
       "      <td>0.959093</td>\n",
       "      <td>0.000000</td>\n",
       "      <td>0.0</td>\n",
       "      <td>0.858981</td>\n",
       "      <td>0.000307</td>\n",
       "      <td>NaN</td>\n",
       "      <td>0.0</td>\n",
       "      <td>0.0</td>\n",
       "    </tr>\n",
       "    <tr>\n",
       "      <th>MT</th>\n",
       "      <td>0.0</td>\n",
       "      <td>0.0</td>\n",
       "      <td>0.000000</td>\n",
       "      <td>0.000000</td>\n",
       "      <td>0.0</td>\n",
       "      <td>0.000000</td>\n",
       "      <td>0.000000</td>\n",
       "      <td>0.000000</td>\n",
       "      <td>NaN</td>\n",
       "      <td>0.0</td>\n",
       "    </tr>\n",
       "    <tr>\n",
       "      <th>PT</th>\n",
       "      <td>0.0</td>\n",
       "      <td>0.0</td>\n",
       "      <td>0.000000</td>\n",
       "      <td>0.000000</td>\n",
       "      <td>0.0</td>\n",
       "      <td>0.000000</td>\n",
       "      <td>0.000000</td>\n",
       "      <td>0.000000</td>\n",
       "      <td>0.0</td>\n",
       "      <td>NaN</td>\n",
       "    </tr>\n",
       "  </tbody>\n",
       "</table>\n",
       "</div>"
      ],
      "text/plain": [
       "         common_teks_fraction                                          \\\n",
       "region_x                   BE   CH        DE        DK   EE        ES   \n",
       "region_y                                                                \n",
       "BE                        NaN  0.0  0.000000  0.000000  0.0  0.000000   \n",
       "CH                        0.0  NaN  0.000000  0.000000  0.0  0.000000   \n",
       "DE                        0.0  0.0       NaN  0.000000  0.0  0.743159   \n",
       "DK                        0.0  0.0  0.000000       NaN  0.0  0.071246   \n",
       "EE                        0.0  0.0  0.000000  0.000000  NaN  0.000000   \n",
       "ES                        0.0  0.0  0.959093  0.819618  0.0       NaN   \n",
       "ES@PRE                    0.0  0.0  0.000071  0.000000  0.0  0.000055   \n",
       "IT                        0.0  0.0  0.959093  0.000000  0.0  0.858981   \n",
       "MT                        0.0  0.0  0.000000  0.000000  0.0  0.000000   \n",
       "PT                        0.0  0.0  0.000000  0.000000  0.0  0.000000   \n",
       "\n",
       "                                        \n",
       "region_x    ES@PRE        IT   MT   PT  \n",
       "region_y                                \n",
       "BE        0.000000  0.000000  0.0  0.0  \n",
       "CH        0.000000  0.000000  0.0  0.0  \n",
       "DE        0.000307  0.846157  0.0  0.0  \n",
       "DK        0.000000  0.000000  0.0  0.0  \n",
       "EE        0.000000  0.000000  0.0  0.0  \n",
       "ES        0.000307  0.978030  0.0  0.0  \n",
       "ES@PRE         NaN  0.000063  0.0  0.0  \n",
       "IT        0.000307       NaN  0.0  0.0  \n",
       "MT        0.000000  0.000000  NaN  0.0  \n",
       "PT        0.000000  0.000000  0.0  NaN  "
      ]
     },
     "execution_count": 24,
     "metadata": {},
     "output_type": "execute_result"
    }
   ],
   "source": [
    "def compute_keys_cross_sharing(x):\n",
    "    teks_x = x.key_data_x.item()\n",
    "    common_teks = set(teks_x).intersection(x.key_data_y.item())\n",
    "    common_teks_fraction = len(common_teks) / len(teks_x)\n",
    "    return pd.Series(dict(\n",
    "        common_teks=common_teks,\n",
    "        common_teks_fraction=common_teks_fraction,\n",
    "    ))\n",
    "\n",
    "multi_backend_exposure_keys_by_region_df = \\\n",
    "    multi_backend_exposure_keys_df.groupby(\"region\").key_data.unique().reset_index()\n",
    "multi_backend_exposure_keys_by_region_df[\"_merge\"] = True\n",
    "multi_backend_exposure_keys_by_region_combination_df = \\\n",
    "    multi_backend_exposure_keys_by_region_df.merge(\n",
    "        multi_backend_exposure_keys_by_region_df, on=\"_merge\")\n",
    "multi_backend_exposure_keys_by_region_combination_df.drop(\n",
    "    columns=[\"_merge\"], inplace=True)\n",
    "if multi_backend_exposure_keys_by_region_combination_df.region_x.nunique() > 1:\n",
    "    multi_backend_exposure_keys_by_region_combination_df = \\\n",
    "        multi_backend_exposure_keys_by_region_combination_df[\n",
    "            multi_backend_exposure_keys_by_region_combination_df.region_x !=\n",
    "            multi_backend_exposure_keys_by_region_combination_df.region_y]\n",
    "multi_backend_exposure_keys_cross_sharing_df = \\\n",
    "    multi_backend_exposure_keys_by_region_combination_df \\\n",
    "        .groupby([\"region_x\", \"region_y\"]) \\\n",
    "        .apply(compute_keys_cross_sharing) \\\n",
    "        .reset_index()\n",
    "multi_backend_cross_sharing_summary_df = \\\n",
    "    multi_backend_exposure_keys_cross_sharing_df.pivot_table(\n",
    "        values=[\"common_teks_fraction\"],\n",
    "        columns=\"region_x\",\n",
    "        index=\"region_y\",\n",
    "        aggfunc=lambda x: x.item())\n",
    "multi_backend_cross_sharing_summary_df"
   ]
  },
  {
   "cell_type": "code",
   "execution_count": 25,
   "metadata": {
    "collapsed": false,
    "execution": {
     "iopub.execute_input": "2020-11-21T23:32:41.946777Z",
     "iopub.status.busy": "2020-11-21T23:32:41.946220Z",
     "iopub.status.idle": "2020-11-21T23:32:44.059906Z",
     "shell.execute_reply": "2020-11-21T23:32:44.059054Z"
    },
    "papermill": {
     "duration": 2.206667,
     "end_time": "2020-11-21T23:32:44.060042",
     "exception": false,
     "start_time": "2020-11-21T23:32:41.853375",
     "status": "completed"
    },
    "pycharm": {
     "name": "#%%\n"
    },
    "tags": []
   },
   "outputs": [
    {
     "data": {
      "text/plain": [
       "['MT', 'EE', 'PT', 'BE', 'DK', 'ES@PRE', 'CH', 'DE', 'IT']"
      ]
     },
     "execution_count": 25,
     "metadata": {},
     "output_type": "execute_result"
    }
   ],
   "source": [
    "multi_backend_without_active_region_exposure_keys_df = \\\n",
    "    multi_backend_exposure_keys_df[multi_backend_exposure_keys_df.region != report_backend_identifier]\n",
    "multi_backend_without_active_region = \\\n",
    "    multi_backend_without_active_region_exposure_keys_df.groupby(\"region\").key_data.nunique().sort_values().index.unique().tolist()\n",
    "multi_backend_without_active_region"
   ]
  },
  {
   "cell_type": "code",
   "execution_count": 26,
   "metadata": {
    "execution": {
     "iopub.execute_input": "2020-11-21T23:32:44.207490Z",
     "iopub.status.busy": "2020-11-21T23:32:44.206784Z",
     "iopub.status.idle": "2020-11-21T23:32:45.581102Z",
     "shell.execute_reply": "2020-11-21T23:32:45.581890Z"
    },
    "papermill": {
     "duration": 1.46874,
     "end_time": "2020-11-21T23:32:45.582054",
     "exception": false,
     "start_time": "2020-11-21T23:32:44.113314",
     "status": "completed"
    },
    "scrolled": false,
    "tags": []
   },
   "outputs": [
    {
     "name": "stderr",
     "output_type": "stream",
     "text": [
      "/opt/hostedtoolcache/Python/3.8.6/x64/lib/python3.8/site-packages/pandas/core/frame.py:4110: SettingWithCopyWarning: \n",
      "A value is trying to be set on a copy of a slice from a DataFrame\n",
      "\n",
      "See the caveats in the documentation: http://pandas.pydata.org/pandas-docs/stable/user_guide/indexing.html#returning-a-view-versus-a-copy\n",
      "  return super().drop(\n"
     ]
    },
    {
     "data": {
      "text/html": [
       "<div>\n",
       "<style scoped>\n",
       "    .dataframe tbody tr th:only-of-type {\n",
       "        vertical-align: middle;\n",
       "    }\n",
       "\n",
       "    .dataframe tbody tr th {\n",
       "        vertical-align: top;\n",
       "    }\n",
       "\n",
       "    .dataframe thead th {\n",
       "        text-align: right;\n",
       "    }\n",
       "</style>\n",
       "<table border=\"1\" class=\"dataframe\">\n",
       "  <thead>\n",
       "    <tr style=\"text-align: right;\">\n",
       "      <th></th>\n",
       "      <th>shared_teks_by_generation_date</th>\n",
       "    </tr>\n",
       "    <tr>\n",
       "      <th>sample_date_string</th>\n",
       "      <th></th>\n",
       "    </tr>\n",
       "  </thead>\n",
       "  <tbody>\n",
       "    <tr>\n",
       "      <th>2020-11-21</th>\n",
       "      <td>153</td>\n",
       "    </tr>\n",
       "    <tr>\n",
       "      <th>2020-11-20</th>\n",
       "      <td>1635</td>\n",
       "    </tr>\n",
       "    <tr>\n",
       "      <th>2020-11-19</th>\n",
       "      <td>4197</td>\n",
       "    </tr>\n",
       "    <tr>\n",
       "      <th>2020-11-18</th>\n",
       "      <td>6678</td>\n",
       "    </tr>\n",
       "    <tr>\n",
       "      <th>2020-11-17</th>\n",
       "      <td>9190</td>\n",
       "    </tr>\n",
       "  </tbody>\n",
       "</table>\n",
       "</div>"
      ],
      "text/plain": [
       "                    shared_teks_by_generation_date\n",
       "sample_date_string                                \n",
       "2020-11-21                                     153\n",
       "2020-11-20                                    1635\n",
       "2020-11-19                                    4197\n",
       "2020-11-18                                    6678\n",
       "2020-11-17                                    9190"
      ]
     },
     "execution_count": 26,
     "metadata": {},
     "output_type": "execute_result"
    }
   ],
   "source": [
    "exposure_keys_summary_df = multi_backend_exposure_keys_df[\n",
    "    multi_backend_exposure_keys_df.region == report_backend_identifier]\n",
    "exposure_keys_summary_df.drop(columns=[\"region\"], inplace=True)\n",
    "exposure_keys_summary_df = \\\n",
    "    exposure_keys_summary_df.groupby([\"sample_date_string\"]).key_data.nunique().to_frame()\n",
    "exposure_keys_summary_df = \\\n",
    "    exposure_keys_summary_df.reset_index().set_index(\"sample_date_string\")\n",
    "exposure_keys_summary_df.sort_index(ascending=False, inplace=True)\n",
    "exposure_keys_summary_df.rename(columns={\"key_data\": \"shared_teks_by_generation_date\"}, inplace=True)\n",
    "exposure_keys_summary_df.head()"
   ]
  },
  {
   "cell_type": "markdown",
   "metadata": {
    "papermill": {
     "duration": 0.050702,
     "end_time": "2020-11-21T23:32:45.706434",
     "exception": false,
     "start_time": "2020-11-21T23:32:45.655732",
     "status": "completed"
    },
    "tags": []
   },
   "source": [
    "### Dump API TEKs"
   ]
  },
  {
   "cell_type": "code",
   "execution_count": 27,
   "metadata": {
    "execution": {
     "iopub.execute_input": "2020-11-21T23:32:45.817468Z",
     "iopub.status.busy": "2020-11-21T23:32:45.816171Z",
     "iopub.status.idle": "2020-11-21T23:32:48.442628Z",
     "shell.execute_reply": "2020-11-21T23:32:48.442153Z"
    },
    "papermill": {
     "duration": 2.685363,
     "end_time": "2020-11-21T23:32:48.442755",
     "exception": false,
     "start_time": "2020-11-21T23:32:45.757392",
     "status": "completed"
    },
    "tags": []
   },
   "outputs": [
    {
     "data": {
      "text/html": [
       "<div>\n",
       "<style scoped>\n",
       "    .dataframe tbody tr th:only-of-type {\n",
       "        vertical-align: middle;\n",
       "    }\n",
       "\n",
       "    .dataframe tbody tr th {\n",
       "        vertical-align: top;\n",
       "    }\n",
       "\n",
       "    .dataframe thead th {\n",
       "        text-align: right;\n",
       "    }\n",
       "</style>\n",
       "<table border=\"1\" class=\"dataframe\">\n",
       "  <thead>\n",
       "    <tr style=\"text-align: right;\">\n",
       "      <th></th>\n",
       "      <th>sample_date</th>\n",
       "      <th>region</th>\n",
       "      <th>tek_list</th>\n",
       "      <th>extraction_date</th>\n",
       "      <th>extraction_date_with_hour</th>\n",
       "    </tr>\n",
       "  </thead>\n",
       "  <tbody>\n",
       "    <tr>\n",
       "      <th>0</th>\n",
       "      <td>2020-11-08</td>\n",
       "      <td>BE</td>\n",
       "      <td>[06f8a0fe-e4f3-30bb-5662-3bf91e715771, 070add5...</td>\n",
       "      <td>2020-11-21</td>\n",
       "      <td>2020-11-21@23</td>\n",
       "    </tr>\n",
       "    <tr>\n",
       "      <th>1</th>\n",
       "      <td>2020-11-08</td>\n",
       "      <td>CH</td>\n",
       "      <td>[9eb60990-1fa3-bbf5-5227-381db2b6a8fd, a3cc5cb...</td>\n",
       "      <td>2020-11-21</td>\n",
       "      <td>2020-11-21@23</td>\n",
       "    </tr>\n",
       "    <tr>\n",
       "      <th>2</th>\n",
       "      <td>2020-11-08</td>\n",
       "      <td>DE</td>\n",
       "      <td>[0036c4b4-6320-8aec-4362-b747b9aeab64, 006346e...</td>\n",
       "      <td>2020-11-21</td>\n",
       "      <td>2020-11-21@23</td>\n",
       "    </tr>\n",
       "    <tr>\n",
       "      <th>3</th>\n",
       "      <td>2020-11-08</td>\n",
       "      <td>DK</td>\n",
       "      <td>[1e8be0a7-7a70-dc7a-5d40-b8739107de43, d40b801...</td>\n",
       "      <td>2020-11-21</td>\n",
       "      <td>2020-11-21@23</td>\n",
       "    </tr>\n",
       "    <tr>\n",
       "      <th>4</th>\n",
       "      <td>2020-11-08</td>\n",
       "      <td>EE</td>\n",
       "      <td>[c62a775d-d664-2ed5-8cb1-38020a5425af, dc0dc5a...</td>\n",
       "      <td>2020-11-21</td>\n",
       "      <td>2020-11-21@23</td>\n",
       "    </tr>\n",
       "  </tbody>\n",
       "</table>\n",
       "</div>"
      ],
      "text/plain": [
       "  sample_date region                                           tek_list  \\\n",
       "0  2020-11-08     BE  [06f8a0fe-e4f3-30bb-5662-3bf91e715771, 070add5...   \n",
       "1  2020-11-08     CH  [9eb60990-1fa3-bbf5-5227-381db2b6a8fd, a3cc5cb...   \n",
       "2  2020-11-08     DE  [0036c4b4-6320-8aec-4362-b747b9aeab64, 006346e...   \n",
       "3  2020-11-08     DK  [1e8be0a7-7a70-dc7a-5d40-b8739107de43, d40b801...   \n",
       "4  2020-11-08     EE  [c62a775d-d664-2ed5-8cb1-38020a5425af, dc0dc5a...   \n",
       "\n",
       "  extraction_date extraction_date_with_hour  \n",
       "0      2020-11-21             2020-11-21@23  \n",
       "1      2020-11-21             2020-11-21@23  \n",
       "2      2020-11-21             2020-11-21@23  \n",
       "3      2020-11-21             2020-11-21@23  \n",
       "4      2020-11-21             2020-11-21@23  "
      ]
     },
     "execution_count": 27,
     "metadata": {},
     "output_type": "execute_result"
    }
   ],
   "source": [
    "tek_list_df = multi_backend_exposure_keys_df[\n",
    "    [\"sample_date_string\", \"region\", \"key_data\"]].copy()\n",
    "tek_list_df[\"key_data\"] = tek_list_df[\"key_data\"].apply(str)\n",
    "tek_list_df.rename(columns={\n",
    "    \"sample_date_string\": \"sample_date\",\n",
    "    \"key_data\": \"tek_list\"}, inplace=True)\n",
    "tek_list_df = tek_list_df.groupby(\n",
    "    [\"sample_date\", \"region\"]).tek_list.unique().reset_index()\n",
    "tek_list_df[\"extraction_date\"] = extraction_date\n",
    "tek_list_df[\"extraction_date_with_hour\"] = extraction_date_with_hour\n",
    "\n",
    "tek_list_path_prefix = \"Data/TEKs/\"\n",
    "tek_list_current_path = tek_list_path_prefix + f\"/Current/RadarCOVID-TEKs.json\"\n",
    "tek_list_daily_path = tek_list_path_prefix + f\"Daily/RadarCOVID-TEKs-{extraction_date}.json\"\n",
    "tek_list_hourly_path = tek_list_path_prefix + f\"Hourly/RadarCOVID-TEKs-{extraction_date_with_hour}.json\"\n",
    "\n",
    "for path in [tek_list_current_path, tek_list_daily_path, tek_list_hourly_path]:\n",
    "    os.makedirs(os.path.dirname(path), exist_ok=True)\n",
    "\n",
    "tek_list_df.drop(columns=[\"extraction_date\", \"extraction_date_with_hour\"]).to_json(\n",
    "    tek_list_current_path,\n",
    "    lines=True, orient=\"records\")\n",
    "tek_list_df.drop(columns=[\"extraction_date_with_hour\"]).to_json(\n",
    "    tek_list_daily_path,\n",
    "    lines=True, orient=\"records\")\n",
    "tek_list_df.to_json(\n",
    "    tek_list_hourly_path,\n",
    "    lines=True, orient=\"records\")\n",
    "tek_list_df.head()"
   ]
  },
  {
   "cell_type": "markdown",
   "metadata": {
    "papermill": {
     "duration": 0.05511,
     "end_time": "2020-11-21T23:32:48.552603",
     "exception": false,
     "start_time": "2020-11-21T23:32:48.497493",
     "status": "completed"
    },
    "tags": []
   },
   "source": [
    "### Load TEK Dumps"
   ]
  },
  {
   "cell_type": "code",
   "execution_count": 28,
   "metadata": {
    "execution": {
     "iopub.execute_input": "2020-11-21T23:32:48.669874Z",
     "iopub.status.busy": "2020-11-21T23:32:48.668939Z",
     "iopub.status.idle": "2020-11-21T23:32:48.671418Z",
     "shell.execute_reply": "2020-11-21T23:32:48.670956Z"
    },
    "papermill": {
     "duration": 0.065376,
     "end_time": "2020-11-21T23:32:48.671532",
     "exception": false,
     "start_time": "2020-11-21T23:32:48.606156",
     "status": "completed"
    },
    "tags": []
   },
   "outputs": [],
   "source": [
    "import glob\n",
    "\n",
    "def load_extracted_teks(mode, region=None, limit=None) -> pd.DataFrame:\n",
    "    extracted_teks_df = pd.DataFrame(columns=[\"region\"])\n",
    "    file_paths = list(reversed(sorted(glob.glob(tek_list_path_prefix + mode + \"/RadarCOVID-TEKs-*.json\"))))\n",
    "    if limit:\n",
    "        file_paths = file_paths[:limit]\n",
    "    for file_path in file_paths:\n",
    "        logging.info(f\"Loading TEKs from '{file_path}'...\")\n",
    "        iteration_extracted_teks_df = pd.read_json(file_path, lines=True)\n",
    "        extracted_teks_df = extracted_teks_df.append(\n",
    "            iteration_extracted_teks_df, sort=False)\n",
    "    extracted_teks_df[\"region\"] = \\\n",
    "        extracted_teks_df.region.fillna(spain_region_country_code).copy()\n",
    "    if region:\n",
    "        extracted_teks_df = \\\n",
    "            extracted_teks_df[extracted_teks_df.region == region]\n",
    "    return extracted_teks_df"
   ]
  },
  {
   "cell_type": "code",
   "execution_count": 29,
   "metadata": {
    "collapsed": false,
    "execution": {
     "iopub.execute_input": "2020-11-21T23:32:48.782442Z",
     "iopub.status.busy": "2020-11-21T23:32:48.781911Z",
     "iopub.status.idle": "2020-11-21T23:32:55.434607Z",
     "shell.execute_reply": "2020-11-21T23:32:55.434121Z"
    },
    "papermill": {
     "duration": 6.710659,
     "end_time": "2020-11-21T23:32:55.434734",
     "exception": false,
     "start_time": "2020-11-21T23:32:48.724075",
     "status": "completed"
    },
    "pycharm": {
     "name": "#%%\n"
    },
    "tags": []
   },
   "outputs": [
    {
     "data": {
      "text/html": [
       "<div>\n",
       "<style scoped>\n",
       "    .dataframe tbody tr th:only-of-type {\n",
       "        vertical-align: middle;\n",
       "    }\n",
       "\n",
       "    .dataframe tbody tr th {\n",
       "        vertical-align: top;\n",
       "    }\n",
       "\n",
       "    .dataframe thead th {\n",
       "        text-align: right;\n",
       "    }\n",
       "</style>\n",
       "<table border=\"1\" class=\"dataframe\">\n",
       "  <thead>\n",
       "    <tr style=\"text-align: right;\">\n",
       "      <th></th>\n",
       "      <th>region</th>\n",
       "      <th>sample_date</th>\n",
       "      <th>tek_list</th>\n",
       "      <th>extraction_date</th>\n",
       "      <th>extraction_date_with_hour</th>\n",
       "    </tr>\n",
       "  </thead>\n",
       "  <tbody>\n",
       "    <tr>\n",
       "      <th>5</th>\n",
       "      <td>ES</td>\n",
       "      <td>2020-11-08</td>\n",
       "      <td>[6606830c-b6a6-53a0-878a-6a79a25eb3f7, b488241...</td>\n",
       "      <td>2020-11-21</td>\n",
       "      <td>NaN</td>\n",
       "    </tr>\n",
       "    <tr>\n",
       "      <th>15</th>\n",
       "      <td>ES</td>\n",
       "      <td>2020-11-09</td>\n",
       "      <td>[d31c5f57-152d-69be-9e93-b4d761223b32, 674f1d8...</td>\n",
       "      <td>2020-11-21</td>\n",
       "      <td>NaN</td>\n",
       "    </tr>\n",
       "    <tr>\n",
       "      <th>25</th>\n",
       "      <td>ES</td>\n",
       "      <td>2020-11-10</td>\n",
       "      <td>[b6f4ca7b-0c6e-ea22-b08c-2ca0deff5fdc, 7a377b9...</td>\n",
       "      <td>2020-11-21</td>\n",
       "      <td>NaN</td>\n",
       "    </tr>\n",
       "    <tr>\n",
       "      <th>35</th>\n",
       "      <td>ES</td>\n",
       "      <td>2020-11-11</td>\n",
       "      <td>[a9182324-5de5-7f90-60ff-ca5c1d88838a, b2149c2...</td>\n",
       "      <td>2020-11-21</td>\n",
       "      <td>NaN</td>\n",
       "    </tr>\n",
       "    <tr>\n",
       "      <th>45</th>\n",
       "      <td>ES</td>\n",
       "      <td>2020-11-12</td>\n",
       "      <td>[19eb386a-fa2f-4d69-1b2a-85fed8af8fc9, cd91f5c...</td>\n",
       "      <td>2020-11-21</td>\n",
       "      <td>NaN</td>\n",
       "    </tr>\n",
       "  </tbody>\n",
       "</table>\n",
       "</div>"
      ],
      "text/plain": [
       "   region sample_date                                           tek_list  \\\n",
       "5      ES  2020-11-08  [6606830c-b6a6-53a0-878a-6a79a25eb3f7, b488241...   \n",
       "15     ES  2020-11-09  [d31c5f57-152d-69be-9e93-b4d761223b32, 674f1d8...   \n",
       "25     ES  2020-11-10  [b6f4ca7b-0c6e-ea22-b08c-2ca0deff5fdc, 7a377b9...   \n",
       "35     ES  2020-11-11  [a9182324-5de5-7f90-60ff-ca5c1d88838a, b2149c2...   \n",
       "45     ES  2020-11-12  [19eb386a-fa2f-4d69-1b2a-85fed8af8fc9, cd91f5c...   \n",
       "\n",
       "   extraction_date extraction_date_with_hour  \n",
       "5       2020-11-21                       NaN  \n",
       "15      2020-11-21                       NaN  \n",
       "25      2020-11-21                       NaN  \n",
       "35      2020-11-21                       NaN  \n",
       "45      2020-11-21                       NaN  "
      ]
     },
     "execution_count": 29,
     "metadata": {},
     "output_type": "execute_result"
    }
   ],
   "source": [
    "daily_extracted_teks_df = load_extracted_teks(\n",
    "    mode=\"Daily\",\n",
    "    region=report_backend_identifier,\n",
    "    limit=tek_dumps_load_limit)\n",
    "daily_extracted_teks_df.head()"
   ]
  },
  {
   "cell_type": "code",
   "execution_count": 30,
   "metadata": {
    "collapsed": false,
    "execution": {
     "iopub.execute_input": "2020-11-21T23:32:55.555622Z",
     "iopub.status.busy": "2020-11-21T23:32:55.555039Z",
     "iopub.status.idle": "2020-11-21T23:32:55.572224Z",
     "shell.execute_reply": "2020-11-21T23:32:55.571728Z"
    },
    "papermill": {
     "duration": 0.08047,
     "end_time": "2020-11-21T23:32:55.572344",
     "exception": false,
     "start_time": "2020-11-21T23:32:55.491874",
     "status": "completed"
    },
    "pycharm": {
     "name": "#%%\n"
    },
    "tags": []
   },
   "outputs": [
    {
     "data": {
      "text/html": [
       "<div>\n",
       "<style scoped>\n",
       "    .dataframe tbody tr th:only-of-type {\n",
       "        vertical-align: middle;\n",
       "    }\n",
       "\n",
       "    .dataframe tbody tr th {\n",
       "        vertical-align: top;\n",
       "    }\n",
       "\n",
       "    .dataframe thead th {\n",
       "        text-align: right;\n",
       "    }\n",
       "</style>\n",
       "<table border=\"1\" class=\"dataframe\">\n",
       "  <thead>\n",
       "    <tr style=\"text-align: right;\">\n",
       "      <th></th>\n",
       "      <th>shared_teks_by_generation_date</th>\n",
       "    </tr>\n",
       "    <tr>\n",
       "      <th>sample_date_string</th>\n",
       "      <th></th>\n",
       "    </tr>\n",
       "  </thead>\n",
       "  <tbody>\n",
       "    <tr>\n",
       "      <th>2020-11-21</th>\n",
       "      <td>153</td>\n",
       "    </tr>\n",
       "    <tr>\n",
       "      <th>2020-11-20</th>\n",
       "      <td>1635</td>\n",
       "    </tr>\n",
       "    <tr>\n",
       "      <th>2020-11-19</th>\n",
       "      <td>4197</td>\n",
       "    </tr>\n",
       "    <tr>\n",
       "      <th>2020-11-18</th>\n",
       "      <td>6678</td>\n",
       "    </tr>\n",
       "    <tr>\n",
       "      <th>2020-11-17</th>\n",
       "      <td>9190</td>\n",
       "    </tr>\n",
       "  </tbody>\n",
       "</table>\n",
       "</div>"
      ],
      "text/plain": [
       "                    shared_teks_by_generation_date\n",
       "sample_date_string                                \n",
       "2020-11-21                                     153\n",
       "2020-11-20                                    1635\n",
       "2020-11-19                                    4197\n",
       "2020-11-18                                    6678\n",
       "2020-11-17                                    9190"
      ]
     },
     "execution_count": 30,
     "metadata": {},
     "output_type": "execute_result"
    }
   ],
   "source": [
    "exposure_keys_summary_df_ = daily_extracted_teks_df \\\n",
    "    .sort_values(\"extraction_date\", ascending=False) \\\n",
    "    .groupby(\"sample_date\").tek_list.first() \\\n",
    "    .to_frame()\n",
    "exposure_keys_summary_df_.index.name = \"sample_date_string\"\n",
    "exposure_keys_summary_df_[\"tek_list\"] = \\\n",
    "    exposure_keys_summary_df_.tek_list.apply(len)\n",
    "exposure_keys_summary_df_ = exposure_keys_summary_df_ \\\n",
    "    .rename(columns={\"tek_list\": \"shared_teks_by_generation_date\"}) \\\n",
    "    .sort_index(ascending=False)\n",
    "exposure_keys_summary_df = exposure_keys_summary_df_\n",
    "exposure_keys_summary_df.head()"
   ]
  },
  {
   "cell_type": "markdown",
   "metadata": {
    "execution": {
     "iopub.execute_input": "2020-08-30T22:30:16.632967Z",
     "iopub.status.busy": "2020-08-30T22:30:16.632308Z",
     "iopub.status.idle": "2020-08-30T22:30:16.634945Z",
     "shell.execute_reply": "2020-08-30T22:30:16.635575Z"
    },
    "papermill": {
     "duration": 0.059759,
     "end_time": "2020-11-21T23:32:55.688085",
     "exception": false,
     "start_time": "2020-11-21T23:32:55.628326",
     "status": "completed"
    },
    "pycharm": {
     "name": "#%% md\n"
    },
    "tags": []
   },
   "source": [
    "### Daily New TEKs"
   ]
  },
  {
   "cell_type": "code",
   "execution_count": 31,
   "metadata": {
    "execution": {
     "iopub.execute_input": "2020-11-21T23:32:55.815496Z",
     "iopub.status.busy": "2020-11-21T23:32:55.810405Z",
     "iopub.status.idle": "2020-11-21T23:32:56.710105Z",
     "shell.execute_reply": "2020-11-21T23:32:56.710540Z"
    },
    "papermill": {
     "duration": 0.966327,
     "end_time": "2020-11-21T23:32:56.710697",
     "exception": false,
     "start_time": "2020-11-21T23:32:55.744370",
     "status": "completed"
    },
    "tags": []
   },
   "outputs": [
    {
     "data": {
      "text/html": [
       "<div>\n",
       "<style scoped>\n",
       "    .dataframe tbody tr th:only-of-type {\n",
       "        vertical-align: middle;\n",
       "    }\n",
       "\n",
       "    .dataframe tbody tr th {\n",
       "        vertical-align: top;\n",
       "    }\n",
       "\n",
       "    .dataframe thead th {\n",
       "        text-align: right;\n",
       "    }\n",
       "</style>\n",
       "<table border=\"1\" class=\"dataframe\">\n",
       "  <thead>\n",
       "    <tr style=\"text-align: right;\">\n",
       "      <th></th>\n",
       "      <th>tek_list</th>\n",
       "    </tr>\n",
       "    <tr>\n",
       "      <th>extraction_date</th>\n",
       "      <th></th>\n",
       "    </tr>\n",
       "  </thead>\n",
       "  <tbody>\n",
       "    <tr>\n",
       "      <th>2020-08-29</th>\n",
       "      <td>{beff7159-b6d2-f491-454c-78ed3d82a11b, d346fc4...</td>\n",
       "    </tr>\n",
       "    <tr>\n",
       "      <th>2020-08-30</th>\n",
       "      <td>{beff7159-b6d2-f491-454c-78ed3d82a11b, d346fc4...</td>\n",
       "    </tr>\n",
       "    <tr>\n",
       "      <th>2020-08-31</th>\n",
       "      <td>{beff7159-b6d2-f491-454c-78ed3d82a11b, d346fc4...</td>\n",
       "    </tr>\n",
       "    <tr>\n",
       "      <th>2020-09-01</th>\n",
       "      <td>{beff7159-b6d2-f491-454c-78ed3d82a11b, d346fc4...</td>\n",
       "    </tr>\n",
       "    <tr>\n",
       "      <th>2020-09-02</th>\n",
       "      <td>{beff7159-b6d2-f491-454c-78ed3d82a11b, d346fc4...</td>\n",
       "    </tr>\n",
       "  </tbody>\n",
       "</table>\n",
       "</div>"
      ],
      "text/plain": [
       "                                                          tek_list\n",
       "extraction_date                                                   \n",
       "2020-08-29       {beff7159-b6d2-f491-454c-78ed3d82a11b, d346fc4...\n",
       "2020-08-30       {beff7159-b6d2-f491-454c-78ed3d82a11b, d346fc4...\n",
       "2020-08-31       {beff7159-b6d2-f491-454c-78ed3d82a11b, d346fc4...\n",
       "2020-09-01       {beff7159-b6d2-f491-454c-78ed3d82a11b, d346fc4...\n",
       "2020-09-02       {beff7159-b6d2-f491-454c-78ed3d82a11b, d346fc4..."
      ]
     },
     "execution_count": 31,
     "metadata": {},
     "output_type": "execute_result"
    }
   ],
   "source": [
    "tek_list_df = daily_extracted_teks_df.groupby(\"extraction_date\").tek_list.apply(\n",
    "    lambda x: set(sum(x, []))).reset_index()\n",
    "tek_list_df = tek_list_df.set_index(\"extraction_date\").sort_index(ascending=True)\n",
    "tek_list_df.head()"
   ]
  },
  {
   "cell_type": "code",
   "execution_count": 32,
   "metadata": {
    "collapsed": false,
    "execution": {
     "iopub.execute_input": "2020-11-21T23:32:57.524107Z",
     "iopub.status.busy": "2020-11-21T23:32:56.834849Z",
     "iopub.status.idle": "2020-11-21T23:33:34.513231Z",
     "shell.execute_reply": "2020-11-21T23:33:34.513674Z"
    },
    "papermill": {
     "duration": 37.748509,
     "end_time": "2020-11-21T23:33:34.513826",
     "exception": false,
     "start_time": "2020-11-21T23:32:56.765317",
     "status": "completed"
    },
    "pycharm": {
     "name": "#%%\n"
    },
    "tags": []
   },
   "outputs": [
    {
     "name": "stderr",
     "output_type": "stream",
     "text": [
      "<ipython-input-32-827222b35590>:4: FutureWarning: `item` has been deprecated and will be removed in a future version\n",
      "  day_new_teks_set = day_new_teks_set_df[\n"
     ]
    },
    {
     "data": {
      "text/html": [
       "<div>\n",
       "<style scoped>\n",
       "    .dataframe tbody tr th:only-of-type {\n",
       "        vertical-align: middle;\n",
       "    }\n",
       "\n",
       "    .dataframe tbody tr th {\n",
       "        vertical-align: top;\n",
       "    }\n",
       "\n",
       "    .dataframe thead th {\n",
       "        text-align: right;\n",
       "    }\n",
       "</style>\n",
       "<table border=\"1\" class=\"dataframe\">\n",
       "  <thead>\n",
       "    <tr style=\"text-align: right;\">\n",
       "      <th></th>\n",
       "      <th>upload_date</th>\n",
       "      <th>generation_date</th>\n",
       "      <th>shared_teks</th>\n",
       "      <th>generation_to_upload_days</th>\n",
       "    </tr>\n",
       "  </thead>\n",
       "  <tbody>\n",
       "    <tr>\n",
       "      <th>10</th>\n",
       "      <td>2020-08-30</td>\n",
       "      <td>2020-08-29</td>\n",
       "      <td>16</td>\n",
       "      <td>1</td>\n",
       "    </tr>\n",
       "    <tr>\n",
       "      <th>9</th>\n",
       "      <td>2020-08-30</td>\n",
       "      <td>2020-08-28</td>\n",
       "      <td>5</td>\n",
       "      <td>2</td>\n",
       "    </tr>\n",
       "    <tr>\n",
       "      <th>8</th>\n",
       "      <td>2020-08-30</td>\n",
       "      <td>2020-08-27</td>\n",
       "      <td>3</td>\n",
       "      <td>3</td>\n",
       "    </tr>\n",
       "    <tr>\n",
       "      <th>7</th>\n",
       "      <td>2020-08-30</td>\n",
       "      <td>2020-08-26</td>\n",
       "      <td>3</td>\n",
       "      <td>4</td>\n",
       "    </tr>\n",
       "    <tr>\n",
       "      <th>6</th>\n",
       "      <td>2020-08-30</td>\n",
       "      <td>2020-08-25</td>\n",
       "      <td>2</td>\n",
       "      <td>5</td>\n",
       "    </tr>\n",
       "  </tbody>\n",
       "</table>\n",
       "</div>"
      ],
      "text/plain": [
       "   upload_date generation_date  shared_teks  generation_to_upload_days\n",
       "10  2020-08-30      2020-08-29           16                          1\n",
       "9   2020-08-30      2020-08-28            5                          2\n",
       "8   2020-08-30      2020-08-27            3                          3\n",
       "7   2020-08-30      2020-08-26            3                          4\n",
       "6   2020-08-30      2020-08-25            2                          5"
      ]
     },
     "execution_count": 32,
     "metadata": {},
     "output_type": "execute_result"
    }
   ],
   "source": [
    "def compute_teks_by_generation_and_upload_date(date):\n",
    "    day_new_teks_set_df = tek_list_df.copy().diff()\n",
    "    try:\n",
    "        day_new_teks_set = day_new_teks_set_df[\n",
    "            day_new_teks_set_df.index == date].tek_list.item()\n",
    "    except ValueError:\n",
    "        day_new_teks_set = None\n",
    "    if pd.isna(day_new_teks_set):\n",
    "        day_new_teks_set = set()\n",
    "    day_new_teks_df = daily_extracted_teks_df[\n",
    "        daily_extracted_teks_df.extraction_date == date].copy()\n",
    "    day_new_teks_df[\"shared_teks\"] = \\\n",
    "        day_new_teks_df.tek_list.apply(lambda x: set(x).intersection(day_new_teks_set))\n",
    "    day_new_teks_df[\"shared_teks\"] = \\\n",
    "        day_new_teks_df.shared_teks.apply(len)\n",
    "    day_new_teks_df[\"upload_date\"] = date\n",
    "    day_new_teks_df.rename(columns={\"sample_date\": \"generation_date\"}, inplace=True)\n",
    "    day_new_teks_df = day_new_teks_df[\n",
    "        [\"upload_date\", \"generation_date\", \"shared_teks\"]]\n",
    "    day_new_teks_df[\"generation_to_upload_days\"] = \\\n",
    "        (pd.to_datetime(day_new_teks_df.upload_date) -\n",
    "         pd.to_datetime(day_new_teks_df.generation_date)).dt.days\n",
    "    day_new_teks_df = day_new_teks_df[day_new_teks_df.shared_teks > 0]\n",
    "    return day_new_teks_df\n",
    "\n",
    "shared_teks_generation_to_upload_df = pd.DataFrame()\n",
    "for upload_date in daily_extracted_teks_df.extraction_date.unique():\n",
    "    shared_teks_generation_to_upload_df = \\\n",
    "        shared_teks_generation_to_upload_df.append(\n",
    "            compute_teks_by_generation_and_upload_date(date=upload_date))\n",
    "shared_teks_generation_to_upload_df \\\n",
    "    .sort_values([\"upload_date\", \"generation_date\"], ascending=False, inplace=True)\n",
    "shared_teks_generation_to_upload_df.tail()"
   ]
  },
  {
   "cell_type": "code",
   "execution_count": 33,
   "metadata": {
    "collapsed": false,
    "execution": {
     "iopub.execute_input": "2020-11-21T23:33:34.635112Z",
     "iopub.status.busy": "2020-11-21T23:33:34.634450Z",
     "iopub.status.idle": "2020-11-21T23:33:34.637688Z",
     "shell.execute_reply": "2020-11-21T23:33:34.637235Z"
    },
    "papermill": {
     "duration": 0.068489,
     "end_time": "2020-11-21T23:33:34.637813",
     "exception": false,
     "start_time": "2020-11-21T23:33:34.569324",
     "status": "completed"
    },
    "pycharm": {
     "name": "#%%\n"
    },
    "tags": []
   },
   "outputs": [
    {
     "data": {
      "text/html": [
       "<div>\n",
       "<style scoped>\n",
       "    .dataframe tbody tr th:only-of-type {\n",
       "        vertical-align: middle;\n",
       "    }\n",
       "\n",
       "    .dataframe tbody tr th {\n",
       "        vertical-align: top;\n",
       "    }\n",
       "\n",
       "    .dataframe thead th {\n",
       "        text-align: right;\n",
       "    }\n",
       "</style>\n",
       "<table border=\"1\" class=\"dataframe\">\n",
       "  <thead>\n",
       "    <tr style=\"text-align: right;\">\n",
       "      <th></th>\n",
       "      <th>upload_date</th>\n",
       "      <th>generation_date</th>\n",
       "      <th>shared_teks</th>\n",
       "      <th>generation_to_upload_days</th>\n",
       "    </tr>\n",
       "  </thead>\n",
       "  <tbody>\n",
       "    <tr>\n",
       "      <th>45</th>\n",
       "      <td>2020-11-21</td>\n",
       "      <td>2020-11-12</td>\n",
       "      <td>1655</td>\n",
       "      <td>9</td>\n",
       "    </tr>\n",
       "    <tr>\n",
       "      <th>35</th>\n",
       "      <td>2020-11-21</td>\n",
       "      <td>2020-11-11</td>\n",
       "      <td>1607</td>\n",
       "      <td>10</td>\n",
       "    </tr>\n",
       "    <tr>\n",
       "      <th>25</th>\n",
       "      <td>2020-11-21</td>\n",
       "      <td>2020-11-10</td>\n",
       "      <td>1562</td>\n",
       "      <td>11</td>\n",
       "    </tr>\n",
       "    <tr>\n",
       "      <th>15</th>\n",
       "      <td>2020-11-21</td>\n",
       "      <td>2020-11-09</td>\n",
       "      <td>1539</td>\n",
       "      <td>12</td>\n",
       "    </tr>\n",
       "    <tr>\n",
       "      <th>5</th>\n",
       "      <td>2020-11-21</td>\n",
       "      <td>2020-11-08</td>\n",
       "      <td>1510</td>\n",
       "      <td>13</td>\n",
       "    </tr>\n",
       "  </tbody>\n",
       "</table>\n",
       "</div>"
      ],
      "text/plain": [
       "   upload_date generation_date  shared_teks  generation_to_upload_days\n",
       "45  2020-11-21      2020-11-12         1655                          9\n",
       "35  2020-11-21      2020-11-11         1607                         10\n",
       "25  2020-11-21      2020-11-10         1562                         11\n",
       "15  2020-11-21      2020-11-09         1539                         12\n",
       "5   2020-11-21      2020-11-08         1510                         13"
      ]
     },
     "execution_count": 33,
     "metadata": {},
     "output_type": "execute_result"
    }
   ],
   "source": [
    "today_new_teks_df = \\\n",
    "    shared_teks_generation_to_upload_df[\n",
    "        shared_teks_generation_to_upload_df.upload_date == extraction_date].copy()\n",
    "today_new_teks_df.tail()"
   ]
  },
  {
   "cell_type": "code",
   "execution_count": 34,
   "metadata": {
    "collapsed": false,
    "execution": {
     "iopub.execute_input": "2020-11-21T23:33:34.771482Z",
     "iopub.status.busy": "2020-11-21T23:33:34.770960Z",
     "iopub.status.idle": "2020-11-21T23:33:35.201175Z",
     "shell.execute_reply": "2020-11-21T23:33:35.200188Z"
    },
    "papermill": {
     "duration": 0.508291,
     "end_time": "2020-11-21T23:33:35.201319",
     "exception": false,
     "start_time": "2020-11-21T23:33:34.693028",
     "status": "completed"
    },
    "pycharm": {
     "name": "#%%\n"
    },
    "tags": []
   },
   "outputs": [
    {
     "data": {
      "image/png": "[encoded data removed]",
      "text/plain": [
       "<Figure size 1080x432 with 1 Axes>"
      ]
     },
     "metadata": {},
     "output_type": "display_data"
    }
   ],
   "source": [
    "if not today_new_teks_df.empty:\n",
    "    today_new_teks_df.set_index(\"generation_to_upload_days\") \\\n",
    "        .sort_index().shared_teks.plot.bar()"
   ]
  },
  {
   "cell_type": "code",
   "execution_count": 35,
   "metadata": {
    "collapsed": false,
    "execution": {
     "iopub.execute_input": "2020-11-21T23:33:35.318022Z",
     "iopub.status.busy": "2020-11-21T23:33:35.317477Z",
     "iopub.status.idle": "2020-11-21T23:33:35.332799Z",
     "shell.execute_reply": "2020-11-21T23:33:35.332336Z"
    },
    "papermill": {
     "duration": 0.076328,
     "end_time": "2020-11-21T23:33:35.332926",
     "exception": false,
     "start_time": "2020-11-21T23:33:35.256598",
     "status": "completed"
    },
    "pycharm": {
     "name": "#%%\n"
    },
    "tags": []
   },
   "outputs": [
    {
     "data": {
      "text/html": [
       "<div>\n",
       "<style scoped>\n",
       "    .dataframe tbody tr th:only-of-type {\n",
       "        vertical-align: middle;\n",
       "    }\n",
       "\n",
       "    .dataframe tbody tr th {\n",
       "        vertical-align: top;\n",
       "    }\n",
       "\n",
       "    .dataframe thead th {\n",
       "        text-align: right;\n",
       "    }\n",
       "</style>\n",
       "<table border=\"1\" class=\"dataframe\">\n",
       "  <thead>\n",
       "    <tr style=\"text-align: right;\">\n",
       "      <th>generation_to_upload_days</th>\n",
       "      <th>0</th>\n",
       "      <th>1</th>\n",
       "      <th>2</th>\n",
       "      <th>3</th>\n",
       "      <th>4</th>\n",
       "      <th>5</th>\n",
       "      <th>6</th>\n",
       "      <th>7</th>\n",
       "      <th>8</th>\n",
       "      <th>9</th>\n",
       "      <th>10</th>\n",
       "      <th>11</th>\n",
       "      <th>12</th>\n",
       "      <th>13</th>\n",
       "    </tr>\n",
       "    <tr>\n",
       "      <th>upload_date</th>\n",
       "      <th></th>\n",
       "      <th></th>\n",
       "      <th></th>\n",
       "      <th></th>\n",
       "      <th></th>\n",
       "      <th></th>\n",
       "      <th></th>\n",
       "      <th></th>\n",
       "      <th></th>\n",
       "      <th></th>\n",
       "      <th></th>\n",
       "      <th></th>\n",
       "      <th></th>\n",
       "      <th></th>\n",
       "    </tr>\n",
       "  </thead>\n",
       "  <tbody>\n",
       "    <tr>\n",
       "      <th>2020-11-21</th>\n",
       "      <td>153</td>\n",
       "      <td>1423</td>\n",
       "      <td>2275</td>\n",
       "      <td>2012</td>\n",
       "      <td>1903</td>\n",
       "      <td>1834</td>\n",
       "      <td>1749</td>\n",
       "      <td>1707</td>\n",
       "      <td>1676</td>\n",
       "      <td>1655</td>\n",
       "      <td>1607</td>\n",
       "      <td>1562</td>\n",
       "      <td>1539</td>\n",
       "      <td>1510</td>\n",
       "    </tr>\n",
       "    <tr>\n",
       "      <th>2020-11-20</th>\n",
       "      <td>212</td>\n",
       "      <td>1711</td>\n",
       "      <td>2617</td>\n",
       "      <td>2383</td>\n",
       "      <td>2249</td>\n",
       "      <td>2174</td>\n",
       "      <td>2111</td>\n",
       "      <td>2045</td>\n",
       "      <td>1979</td>\n",
       "      <td>1930</td>\n",
       "      <td>1878</td>\n",
       "      <td>1844</td>\n",
       "      <td>1799</td>\n",
       "      <td>1780</td>\n",
       "    </tr>\n",
       "    <tr>\n",
       "      <th>2020-11-19</th>\n",
       "      <td>211</td>\n",
       "      <td>1759</td>\n",
       "      <td>2492</td>\n",
       "      <td>2260</td>\n",
       "      <td>2112</td>\n",
       "      <td>2064</td>\n",
       "      <td>2010</td>\n",
       "      <td>1954</td>\n",
       "      <td>1893</td>\n",
       "      <td>1850</td>\n",
       "      <td>1818</td>\n",
       "      <td>1778</td>\n",
       "      <td>1756</td>\n",
       "      <td>1721</td>\n",
       "    </tr>\n",
       "    <tr>\n",
       "      <th>2020-11-18</th>\n",
       "      <td>290</td>\n",
       "      <td>2190</td>\n",
       "      <td>2915</td>\n",
       "      <td>2586</td>\n",
       "      <td>2490</td>\n",
       "      <td>2415</td>\n",
       "      <td>2323</td>\n",
       "      <td>2250</td>\n",
       "      <td>2177</td>\n",
       "      <td>2117</td>\n",
       "      <td>2071</td>\n",
       "      <td>2033</td>\n",
       "      <td>2006</td>\n",
       "      <td>1969</td>\n",
       "    </tr>\n",
       "    <tr>\n",
       "      <th>2020-11-17</th>\n",
       "      <td>222</td>\n",
       "      <td>1727</td>\n",
       "      <td>2099</td>\n",
       "      <td>2040</td>\n",
       "      <td>1955</td>\n",
       "      <td>1845</td>\n",
       "      <td>1759</td>\n",
       "      <td>1694</td>\n",
       "      <td>1645</td>\n",
       "      <td>1599</td>\n",
       "      <td>1578</td>\n",
       "      <td>1549</td>\n",
       "      <td>1529</td>\n",
       "      <td>1493</td>\n",
       "    </tr>\n",
       "  </tbody>\n",
       "</table>\n",
       "</div>"
      ],
      "text/plain": [
       "generation_to_upload_days   0     1     2     3     4     5     6     7   \\\n",
       "upload_date                                                                \n",
       "2020-11-21                 153  1423  2275  2012  1903  1834  1749  1707   \n",
       "2020-11-20                 212  1711  2617  2383  2249  2174  2111  2045   \n",
       "2020-11-19                 211  1759  2492  2260  2112  2064  2010  1954   \n",
       "2020-11-18                 290  2190  2915  2586  2490  2415  2323  2250   \n",
       "2020-11-17                 222  1727  2099  2040  1955  1845  1759  1694   \n",
       "\n",
       "generation_to_upload_days    8     9     10    11    12    13  \n",
       "upload_date                                                    \n",
       "2020-11-21                 1676  1655  1607  1562  1539  1510  \n",
       "2020-11-20                 1979  1930  1878  1844  1799  1780  \n",
       "2020-11-19                 1893  1850  1818  1778  1756  1721  \n",
       "2020-11-18                 2177  2117  2071  2033  2006  1969  \n",
       "2020-11-17                 1645  1599  1578  1549  1529  1493  "
      ]
     },
     "execution_count": 35,
     "metadata": {},
     "output_type": "execute_result"
    }
   ],
   "source": [
    "generation_to_upload_period_pivot_df = \\\n",
    "    shared_teks_generation_to_upload_df[\n",
    "        [\"upload_date\", \"generation_to_upload_days\", \"shared_teks\"]] \\\n",
    "        .pivot(index=\"upload_date\", columns=\"generation_to_upload_days\") \\\n",
    "        .sort_index(ascending=False).fillna(0).astype(int) \\\n",
    "        .droplevel(level=0, axis=1)\n",
    "generation_to_upload_period_pivot_df.head()"
   ]
  },
  {
   "cell_type": "code",
   "execution_count": 36,
   "metadata": {
    "collapsed": false,
    "execution": {
     "iopub.execute_input": "2020-11-21T23:33:35.889256Z",
     "iopub.status.busy": "2020-11-21T23:33:35.887623Z",
     "iopub.status.idle": "2020-11-21T23:33:35.891754Z",
     "shell.execute_reply": "2020-11-21T23:33:35.891217Z"
    },
    "papermill": {
     "duration": 0.50386,
     "end_time": "2020-11-21T23:33:35.891964",
     "exception": false,
     "start_time": "2020-11-21T23:33:35.388104",
     "status": "completed"
    },
    "pycharm": {
     "name": "#%%\n"
    },
    "tags": []
   },
   "outputs": [
    {
     "data": {
      "text/html": [
       "<div>\n",
       "<style scoped>\n",
       "    .dataframe tbody tr th:only-of-type {\n",
       "        vertical-align: middle;\n",
       "    }\n",
       "\n",
       "    .dataframe tbody tr th {\n",
       "        vertical-align: top;\n",
       "    }\n",
       "\n",
       "    .dataframe thead th {\n",
       "        text-align: right;\n",
       "    }\n",
       "</style>\n",
       "<table border=\"1\" class=\"dataframe\">\n",
       "  <thead>\n",
       "    <tr style=\"text-align: right;\">\n",
       "      <th></th>\n",
       "      <th>sample_date_string</th>\n",
       "      <th>shared_teks_by_upload_date</th>\n",
       "    </tr>\n",
       "  </thead>\n",
       "  <tbody>\n",
       "    <tr>\n",
       "      <th>80</th>\n",
       "      <td>2020-11-17</td>\n",
       "      <td>22734.0</td>\n",
       "    </tr>\n",
       "    <tr>\n",
       "      <th>81</th>\n",
       "      <td>2020-11-18</td>\n",
       "      <td>29832.0</td>\n",
       "    </tr>\n",
       "    <tr>\n",
       "      <th>82</th>\n",
       "      <td>2020-11-19</td>\n",
       "      <td>25678.0</td>\n",
       "    </tr>\n",
       "    <tr>\n",
       "      <th>83</th>\n",
       "      <td>2020-11-20</td>\n",
       "      <td>26712.0</td>\n",
       "    </tr>\n",
       "    <tr>\n",
       "      <th>84</th>\n",
       "      <td>2020-11-21</td>\n",
       "      <td>22605.0</td>\n",
       "    </tr>\n",
       "  </tbody>\n",
       "</table>\n",
       "</div>"
      ],
      "text/plain": [
       "   sample_date_string  shared_teks_by_upload_date\n",
       "80         2020-11-17                     22734.0\n",
       "81         2020-11-18                     29832.0\n",
       "82         2020-11-19                     25678.0\n",
       "83         2020-11-20                     26712.0\n",
       "84         2020-11-21                     22605.0"
      ]
     },
     "execution_count": 36,
     "metadata": {},
     "output_type": "execute_result"
    }
   ],
   "source": [
    "new_tek_df = tek_list_df.diff().tek_list.apply(\n",
    "    lambda x: len(x) if not pd.isna(x) else None).to_frame().reset_index()\n",
    "new_tek_df.rename(columns={\n",
    "    \"tek_list\": \"shared_teks_by_upload_date\",\n",
    "    \"extraction_date\": \"sample_date_string\",}, inplace=True)\n",
    "new_tek_df.tail()"
   ]
  },
  {
   "cell_type": "code",
   "execution_count": 37,
   "metadata": {
    "collapsed": false,
    "execution": {
     "iopub.execute_input": "2020-11-21T23:33:36.025968Z",
     "iopub.status.busy": "2020-11-21T23:33:36.025428Z",
     "iopub.status.idle": "2020-11-21T23:33:36.028200Z",
     "shell.execute_reply": "2020-11-21T23:33:36.028600Z"
    },
    "papermill": {
     "duration": 0.072391,
     "end_time": "2020-11-21T23:33:36.028752",
     "exception": false,
     "start_time": "2020-11-21T23:33:35.956361",
     "status": "completed"
    },
    "pycharm": {
     "name": "#%%\n"
    },
    "tags": []
   },
   "outputs": [
    {
     "data": {
      "text/html": [
       "<div>\n",
       "<style scoped>\n",
       "    .dataframe tbody tr th:only-of-type {\n",
       "        vertical-align: middle;\n",
       "    }\n",
       "\n",
       "    .dataframe tbody tr th {\n",
       "        vertical-align: top;\n",
       "    }\n",
       "\n",
       "    .dataframe thead th {\n",
       "        text-align: right;\n",
       "    }\n",
       "</style>\n",
       "<table border=\"1\" class=\"dataframe\">\n",
       "  <thead>\n",
       "    <tr style=\"text-align: right;\">\n",
       "      <th></th>\n",
       "      <th>sample_date_string</th>\n",
       "      <th>shared_teks_uploaded_on_generation_date</th>\n",
       "    </tr>\n",
       "  </thead>\n",
       "  <tbody>\n",
       "    <tr>\n",
       "      <th>129</th>\n",
       "      <td>2020-11-21</td>\n",
       "      <td>153</td>\n",
       "    </tr>\n",
       "    <tr>\n",
       "      <th>142</th>\n",
       "      <td>2020-11-20</td>\n",
       "      <td>212</td>\n",
       "    </tr>\n",
       "    <tr>\n",
       "      <th>141</th>\n",
       "      <td>2020-11-19</td>\n",
       "      <td>211</td>\n",
       "    </tr>\n",
       "    <tr>\n",
       "      <th>141</th>\n",
       "      <td>2020-11-18</td>\n",
       "      <td>290</td>\n",
       "    </tr>\n",
       "    <tr>\n",
       "      <th>141</th>\n",
       "      <td>2020-11-17</td>\n",
       "      <td>222</td>\n",
       "    </tr>\n",
       "  </tbody>\n",
       "</table>\n",
       "</div>"
      ],
      "text/plain": [
       "    sample_date_string  shared_teks_uploaded_on_generation_date\n",
       "129         2020-11-21                                      153\n",
       "142         2020-11-20                                      212\n",
       "141         2020-11-19                                      211\n",
       "141         2020-11-18                                      290\n",
       "141         2020-11-17                                      222"
      ]
     },
     "execution_count": 37,
     "metadata": {},
     "output_type": "execute_result"
    }
   ],
   "source": [
    "shared_teks_uploaded_on_generation_date_df = shared_teks_generation_to_upload_df[\n",
    "    shared_teks_generation_to_upload_df.generation_to_upload_days == 0] \\\n",
    "    [[\"upload_date\", \"shared_teks\"]].rename(\n",
    "    columns={\n",
    "        \"upload_date\": \"sample_date_string\",\n",
    "        \"shared_teks\": \"shared_teks_uploaded_on_generation_date\",\n",
    "    })\n",
    "shared_teks_uploaded_on_generation_date_df.head()"
   ]
  },
  {
   "cell_type": "code",
   "execution_count": 38,
   "metadata": {
    "collapsed": false,
    "execution": {
     "iopub.execute_input": "2020-11-21T23:33:36.153374Z",
     "iopub.status.busy": "2020-11-21T23:33:36.152741Z",
     "iopub.status.idle": "2020-11-21T23:33:36.169195Z",
     "shell.execute_reply": "2020-11-21T23:33:36.168759Z"
    },
    "papermill": {
     "duration": 0.081369,
     "end_time": "2020-11-21T23:33:36.169317",
     "exception": false,
     "start_time": "2020-11-21T23:33:36.087948",
     "status": "completed"
    },
    "pycharm": {
     "name": "#%%\n"
    },
    "tags": []
   },
   "outputs": [
    {
     "data": {
      "text/html": [
       "<div>\n",
       "<style scoped>\n",
       "    .dataframe tbody tr th:only-of-type {\n",
       "        vertical-align: middle;\n",
       "    }\n",
       "\n",
       "    .dataframe tbody tr th {\n",
       "        vertical-align: top;\n",
       "    }\n",
       "\n",
       "    .dataframe thead th {\n",
       "        text-align: right;\n",
       "    }\n",
       "</style>\n",
       "<table border=\"1\" class=\"dataframe\">\n",
       "  <thead>\n",
       "    <tr style=\"text-align: right;\">\n",
       "      <th></th>\n",
       "      <th>sample_date_string</th>\n",
       "      <th>shared_diagnoses</th>\n",
       "    </tr>\n",
       "  </thead>\n",
       "  <tbody>\n",
       "    <tr>\n",
       "      <th>83</th>\n",
       "      <td>2020-11-21</td>\n",
       "      <td>2275</td>\n",
       "    </tr>\n",
       "    <tr>\n",
       "      <th>82</th>\n",
       "      <td>2020-11-20</td>\n",
       "      <td>2617</td>\n",
       "    </tr>\n",
       "    <tr>\n",
       "      <th>81</th>\n",
       "      <td>2020-11-19</td>\n",
       "      <td>2492</td>\n",
       "    </tr>\n",
       "    <tr>\n",
       "      <th>80</th>\n",
       "      <td>2020-11-18</td>\n",
       "      <td>2915</td>\n",
       "    </tr>\n",
       "    <tr>\n",
       "      <th>79</th>\n",
       "      <td>2020-11-17</td>\n",
       "      <td>2099</td>\n",
       "    </tr>\n",
       "  </tbody>\n",
       "</table>\n",
       "</div>"
      ],
      "text/plain": [
       "   sample_date_string  shared_diagnoses\n",
       "83         2020-11-21              2275\n",
       "82         2020-11-20              2617\n",
       "81         2020-11-19              2492\n",
       "80         2020-11-18              2915\n",
       "79         2020-11-17              2099"
      ]
     },
     "execution_count": 38,
     "metadata": {},
     "output_type": "execute_result"
    }
   ],
   "source": [
    "estimated_shared_diagnoses_df = shared_teks_generation_to_upload_df \\\n",
    "    .groupby([\"upload_date\"]).shared_teks.max().reset_index() \\\n",
    "    .sort_values([\"upload_date\"], ascending=False) \\\n",
    "    .rename(columns={\n",
    "        \"upload_date\": \"sample_date_string\",\n",
    "        \"shared_teks\": \"shared_diagnoses\",\n",
    "    })\n",
    "invalid_shared_diagnoses_dates_mask = \\\n",
    "    estimated_shared_diagnoses_df.sample_date_string.isin(invalid_shared_diagnoses_dates)\n",
    "estimated_shared_diagnoses_df[invalid_shared_diagnoses_dates_mask] = 0\n",
    "estimated_shared_diagnoses_df.head()"
   ]
  },
  {
   "cell_type": "markdown",
   "metadata": {
    "papermill": {
     "duration": 0.063831,
     "end_time": "2020-11-21T23:33:36.294569",
     "exception": false,
     "start_time": "2020-11-21T23:33:36.230738",
     "status": "completed"
    },
    "pycharm": {
     "name": "#%% md\n"
    },
    "tags": []
   },
   "source": [
    "### Hourly New TEKs"
   ]
  },
  {
   "cell_type": "code",
   "execution_count": 39,
   "metadata": {
    "execution": {
     "iopub.execute_input": "2020-11-21T23:33:36.420300Z",
     "iopub.status.busy": "2020-11-21T23:33:36.419684Z",
     "iopub.status.idle": "2020-11-21T23:33:42.100065Z",
     "shell.execute_reply": "2020-11-21T23:33:42.099241Z"
    },
    "papermill": {
     "duration": 5.747198,
     "end_time": "2020-11-21T23:33:42.100276",
     "exception": false,
     "start_time": "2020-11-21T23:33:36.353078",
     "status": "completed"
    },
    "pycharm": {
     "name": "#%%\n"
    },
    "tags": []
   },
   "outputs": [
    {
     "data": {
      "text/html": [
       "<div>\n",
       "<style scoped>\n",
       "    .dataframe tbody tr th:only-of-type {\n",
       "        vertical-align: middle;\n",
       "    }\n",
       "\n",
       "    .dataframe tbody tr th {\n",
       "        vertical-align: top;\n",
       "    }\n",
       "\n",
       "    .dataframe thead th {\n",
       "        text-align: right;\n",
       "    }\n",
       "</style>\n",
       "<table border=\"1\" class=\"dataframe\">\n",
       "  <thead>\n",
       "    <tr style=\"text-align: right;\">\n",
       "      <th></th>\n",
       "      <th>region</th>\n",
       "      <th>sample_date</th>\n",
       "      <th>tek_list</th>\n",
       "      <th>extraction_date</th>\n",
       "      <th>extraction_date_with_hour</th>\n",
       "    </tr>\n",
       "  </thead>\n",
       "  <tbody>\n",
       "    <tr>\n",
       "      <th>5</th>\n",
       "      <td>ES</td>\n",
       "      <td>2020-11-08</td>\n",
       "      <td>[6606830c-b6a6-53a0-878a-6a79a25eb3f7, b488241...</td>\n",
       "      <td>2020-11-21</td>\n",
       "      <td>2020-11-21@23</td>\n",
       "    </tr>\n",
       "    <tr>\n",
       "      <th>15</th>\n",
       "      <td>ES</td>\n",
       "      <td>2020-11-09</td>\n",
       "      <td>[d31c5f57-152d-69be-9e93-b4d761223b32, 674f1d8...</td>\n",
       "      <td>2020-11-21</td>\n",
       "      <td>2020-11-21@23</td>\n",
       "    </tr>\n",
       "    <tr>\n",
       "      <th>25</th>\n",
       "      <td>ES</td>\n",
       "      <td>2020-11-10</td>\n",
       "      <td>[b6f4ca7b-0c6e-ea22-b08c-2ca0deff5fdc, 7a377b9...</td>\n",
       "      <td>2020-11-21</td>\n",
       "      <td>2020-11-21@23</td>\n",
       "    </tr>\n",
       "    <tr>\n",
       "      <th>35</th>\n",
       "      <td>ES</td>\n",
       "      <td>2020-11-11</td>\n",
       "      <td>[a9182324-5de5-7f90-60ff-ca5c1d88838a, b2149c2...</td>\n",
       "      <td>2020-11-21</td>\n",
       "      <td>2020-11-21@23</td>\n",
       "    </tr>\n",
       "    <tr>\n",
       "      <th>45</th>\n",
       "      <td>ES</td>\n",
       "      <td>2020-11-12</td>\n",
       "      <td>[19eb386a-fa2f-4d69-1b2a-85fed8af8fc9, cd91f5c...</td>\n",
       "      <td>2020-11-21</td>\n",
       "      <td>2020-11-21@23</td>\n",
       "    </tr>\n",
       "  </tbody>\n",
       "</table>\n",
       "</div>"
      ],
      "text/plain": [
       "   region sample_date                                           tek_list  \\\n",
       "5      ES  2020-11-08  [6606830c-b6a6-53a0-878a-6a79a25eb3f7, b488241...   \n",
       "15     ES  2020-11-09  [d31c5f57-152d-69be-9e93-b4d761223b32, 674f1d8...   \n",
       "25     ES  2020-11-10  [b6f4ca7b-0c6e-ea22-b08c-2ca0deff5fdc, 7a377b9...   \n",
       "35     ES  2020-11-11  [a9182324-5de5-7f90-60ff-ca5c1d88838a, b2149c2...   \n",
       "45     ES  2020-11-12  [19eb386a-fa2f-4d69-1b2a-85fed8af8fc9, cd91f5c...   \n",
       "\n",
       "   extraction_date extraction_date_with_hour  \n",
       "5       2020-11-21             2020-11-21@23  \n",
       "15      2020-11-21             2020-11-21@23  \n",
       "25      2020-11-21             2020-11-21@23  \n",
       "35      2020-11-21             2020-11-21@23  \n",
       "45      2020-11-21             2020-11-21@23  "
      ]
     },
     "execution_count": 39,
     "metadata": {},
     "output_type": "execute_result"
    }
   ],
   "source": [
    "hourly_extracted_teks_df = load_extracted_teks(\n",
    "    mode=\"Hourly\", region=report_backend_identifier, limit=25)\n",
    "hourly_extracted_teks_df.head()"
   ]
  },
  {
   "cell_type": "code",
   "execution_count": 40,
   "metadata": {
    "collapsed": false,
    "execution": {
     "iopub.execute_input": "2020-11-21T23:33:42.226209Z",
     "iopub.status.busy": "2020-11-21T23:33:42.225663Z",
     "iopub.status.idle": "2020-11-21T23:33:43.787818Z",
     "shell.execute_reply": "2020-11-21T23:33:43.787342Z"
    },
    "papermill": {
     "duration": 1.626756,
     "end_time": "2020-11-21T23:33:43.787951",
     "exception": false,
     "start_time": "2020-11-21T23:33:42.161195",
     "status": "completed"
    },
    "pycharm": {
     "name": "#%%\n"
    },
    "tags": []
   },
   "outputs": [
    {
     "data": {
      "text/html": [
       "<div>\n",
       "<style scoped>\n",
       "    .dataframe tbody tr th:only-of-type {\n",
       "        vertical-align: middle;\n",
       "    }\n",
       "\n",
       "    .dataframe tbody tr th {\n",
       "        vertical-align: top;\n",
       "    }\n",
       "\n",
       "    .dataframe thead th {\n",
       "        text-align: right;\n",
       "    }\n",
       "</style>\n",
       "<table border=\"1\" class=\"dataframe\">\n",
       "  <thead>\n",
       "    <tr style=\"text-align: right;\">\n",
       "      <th></th>\n",
       "      <th>extraction_date_with_hour</th>\n",
       "      <th>shared_teks_by_upload_date</th>\n",
       "    </tr>\n",
       "  </thead>\n",
       "  <tbody>\n",
       "    <tr>\n",
       "      <th>0</th>\n",
       "      <td>2020-11-20@22</td>\n",
       "      <td>0</td>\n",
       "    </tr>\n",
       "    <tr>\n",
       "      <th>1</th>\n",
       "      <td>2020-11-21@00</td>\n",
       "      <td>19</td>\n",
       "    </tr>\n",
       "    <tr>\n",
       "      <th>2</th>\n",
       "      <td>2020-11-21@01</td>\n",
       "      <td>0</td>\n",
       "    </tr>\n",
       "    <tr>\n",
       "      <th>3</th>\n",
       "      <td>2020-11-21@02</td>\n",
       "      <td>15</td>\n",
       "    </tr>\n",
       "    <tr>\n",
       "      <th>4</th>\n",
       "      <td>2020-11-21@03</td>\n",
       "      <td>0</td>\n",
       "    </tr>\n",
       "  </tbody>\n",
       "</table>\n",
       "</div>"
      ],
      "text/plain": [
       "  extraction_date_with_hour  shared_teks_by_upload_date\n",
       "0             2020-11-20@22                           0\n",
       "1             2020-11-21@00                          19\n",
       "2             2020-11-21@01                           0\n",
       "3             2020-11-21@02                          15\n",
       "4             2020-11-21@03                           0"
      ]
     },
     "execution_count": 40,
     "metadata": {},
     "output_type": "execute_result"
    }
   ],
   "source": [
    "hourly_new_tek_count_df = hourly_extracted_teks_df \\\n",
    "    .groupby(\"extraction_date_with_hour\").tek_list. \\\n",
    "    apply(lambda x: set(sum(x, []))).reset_index().copy()\n",
    "hourly_new_tek_count_df = hourly_new_tek_count_df.set_index(\"extraction_date_with_hour\") \\\n",
    "    .sort_index(ascending=True)\n",
    "\n",
    "hourly_new_tek_count_df[\"new_tek_list\"] = hourly_new_tek_count_df.tek_list.diff()\n",
    "hourly_new_tek_count_df[\"new_tek_count\"] = hourly_new_tek_count_df.new_tek_list.apply(\n",
    "    lambda x: len(x) if not pd.isna(x) else 0)\n",
    "hourly_new_tek_count_df.rename(columns={\n",
    "    \"new_tek_count\": \"shared_teks_by_upload_date\"}, inplace=True)\n",
    "hourly_new_tek_count_df = hourly_new_tek_count_df.reset_index()[[\n",
    "    \"extraction_date_with_hour\", \"shared_teks_by_upload_date\"]]\n",
    "hourly_new_tek_count_df.head()"
   ]
  },
  {
   "cell_type": "code",
   "execution_count": 41,
   "metadata": {
    "collapsed": false,
    "execution": {
     "iopub.execute_input": "2020-11-21T23:33:43.924824Z",
     "iopub.status.busy": "2020-11-21T23:33:43.923568Z",
     "iopub.status.idle": "2020-11-21T23:33:43.927584Z",
     "shell.execute_reply": "2020-11-21T23:33:43.927121Z"
    },
    "papermill": {
     "duration": 0.078465,
     "end_time": "2020-11-21T23:33:43.927705",
     "exception": false,
     "start_time": "2020-11-21T23:33:43.849240",
     "status": "completed"
    },
    "pycharm": {
     "name": "#%%\n"
    },
    "tags": []
   },
   "outputs": [
    {
     "data": {
      "text/html": [
       "<div>\n",
       "<style scoped>\n",
       "    .dataframe tbody tr th:only-of-type {\n",
       "        vertical-align: middle;\n",
       "    }\n",
       "\n",
       "    .dataframe tbody tr th {\n",
       "        vertical-align: top;\n",
       "    }\n",
       "\n",
       "    .dataframe thead th {\n",
       "        text-align: right;\n",
       "    }\n",
       "</style>\n",
       "<table border=\"1\" class=\"dataframe\">\n",
       "  <thead>\n",
       "    <tr style=\"text-align: right;\">\n",
       "      <th></th>\n",
       "      <th>extraction_date_with_hour</th>\n",
       "      <th>shared_teks_by_upload_date</th>\n",
       "    </tr>\n",
       "    <tr>\n",
       "      <th>datetime_utc</th>\n",
       "      <th></th>\n",
       "      <th></th>\n",
       "    </tr>\n",
       "  </thead>\n",
       "  <tbody>\n",
       "    <tr>\n",
       "      <th>2020-11-21 00:00:00</th>\n",
       "      <td>2020-11-21@00</td>\n",
       "      <td>19</td>\n",
       "    </tr>\n",
       "    <tr>\n",
       "      <th>2020-11-21 01:00:00</th>\n",
       "      <td>2020-11-21@01</td>\n",
       "      <td>0</td>\n",
       "    </tr>\n",
       "    <tr>\n",
       "      <th>2020-11-21 02:00:00</th>\n",
       "      <td>2020-11-21@02</td>\n",
       "      <td>15</td>\n",
       "    </tr>\n",
       "    <tr>\n",
       "      <th>2020-11-21 03:00:00</th>\n",
       "      <td>2020-11-21@03</td>\n",
       "      <td>0</td>\n",
       "    </tr>\n",
       "    <tr>\n",
       "      <th>2020-11-21 04:00:00</th>\n",
       "      <td>2020-11-21@04</td>\n",
       "      <td>14</td>\n",
       "    </tr>\n",
       "  </tbody>\n",
       "</table>\n",
       "</div>"
      ],
      "text/plain": [
       "                    extraction_date_with_hour  shared_teks_by_upload_date\n",
       "datetime_utc                                                             \n",
       "2020-11-21 00:00:00             2020-11-21@00                          19\n",
       "2020-11-21 01:00:00             2020-11-21@01                           0\n",
       "2020-11-21 02:00:00             2020-11-21@02                          15\n",
       "2020-11-21 03:00:00             2020-11-21@03                           0\n",
       "2020-11-21 04:00:00             2020-11-21@04                          14"
      ]
     },
     "execution_count": 41,
     "metadata": {},
     "output_type": "execute_result"
    }
   ],
   "source": [
    "hourly_summary_df = hourly_new_tek_count_df.copy()\n",
    "hourly_summary_df.set_index(\"extraction_date_with_hour\", inplace=True)\n",
    "hourly_summary_df = hourly_summary_df.fillna(0).astype(int).reset_index()\n",
    "hourly_summary_df[\"datetime_utc\"] = pd.to_datetime(\n",
    "    hourly_summary_df.extraction_date_with_hour, format=\"%Y-%m-%d@%H\")\n",
    "hourly_summary_df.set_index(\"datetime_utc\", inplace=True)\n",
    "hourly_summary_df = hourly_summary_df.tail(-1)\n",
    "hourly_summary_df.head()"
   ]
  },
  {
   "cell_type": "markdown",
   "metadata": {
    "collapsed": false,
    "papermill": {
     "duration": 0.063694,
     "end_time": "2020-11-21T23:33:44.051856",
     "exception": false,
     "start_time": "2020-11-21T23:33:43.988162",
     "status": "completed"
    },
    "tags": []
   },
   "source": [
    "### Data Merge"
   ]
  },
  {
   "cell_type": "code",
   "execution_count": 42,
   "metadata": {
    "collapsed": false,
    "execution": {
     "iopub.execute_input": "2020-11-21T23:33:44.189934Z",
     "iopub.status.busy": "2020-11-21T23:33:44.188931Z",
     "iopub.status.idle": "2020-11-21T23:33:44.191599Z",
     "shell.execute_reply": "2020-11-21T23:33:44.192188Z"
    },
    "papermill": {
     "duration": 0.079954,
     "end_time": "2020-11-21T23:33:44.192344",
     "exception": false,
     "start_time": "2020-11-21T23:33:44.112390",
     "status": "completed"
    },
    "pycharm": {
     "name": "#%%\n"
    },
    "tags": []
   },
   "outputs": [
    {
     "data": {
      "text/html": [
       "<div>\n",
       "<style scoped>\n",
       "    .dataframe tbody tr th:only-of-type {\n",
       "        vertical-align: middle;\n",
       "    }\n",
       "\n",
       "    .dataframe tbody tr th {\n",
       "        vertical-align: top;\n",
       "    }\n",
       "\n",
       "    .dataframe thead th {\n",
       "        text-align: right;\n",
       "    }\n",
       "</style>\n",
       "<table border=\"1\" class=\"dataframe\">\n",
       "  <thead>\n",
       "    <tr style=\"text-align: right;\">\n",
       "      <th></th>\n",
       "      <th>sample_date_string</th>\n",
       "      <th>shared_teks_by_generation_date</th>\n",
       "      <th>shared_teks_by_upload_date</th>\n",
       "    </tr>\n",
       "  </thead>\n",
       "  <tbody>\n",
       "    <tr>\n",
       "      <th>0</th>\n",
       "      <td>2020-11-21</td>\n",
       "      <td>153</td>\n",
       "      <td>22605.0</td>\n",
       "    </tr>\n",
       "    <tr>\n",
       "      <th>1</th>\n",
       "      <td>2020-11-20</td>\n",
       "      <td>1635</td>\n",
       "      <td>26712.0</td>\n",
       "    </tr>\n",
       "    <tr>\n",
       "      <th>2</th>\n",
       "      <td>2020-11-19</td>\n",
       "      <td>4197</td>\n",
       "      <td>25678.0</td>\n",
       "    </tr>\n",
       "    <tr>\n",
       "      <th>3</th>\n",
       "      <td>2020-11-18</td>\n",
       "      <td>6678</td>\n",
       "      <td>29832.0</td>\n",
       "    </tr>\n",
       "    <tr>\n",
       "      <th>4</th>\n",
       "      <td>2020-11-17</td>\n",
       "      <td>9190</td>\n",
       "      <td>22734.0</td>\n",
       "    </tr>\n",
       "  </tbody>\n",
       "</table>\n",
       "</div>"
      ],
      "text/plain": [
       "  sample_date_string  shared_teks_by_generation_date  \\\n",
       "0         2020-11-21                             153   \n",
       "1         2020-11-20                            1635   \n",
       "2         2020-11-19                            4197   \n",
       "3         2020-11-18                            6678   \n",
       "4         2020-11-17                            9190   \n",
       "\n",
       "   shared_teks_by_upload_date  \n",
       "0                     22605.0  \n",
       "1                     26712.0  \n",
       "2                     25678.0  \n",
       "3                     29832.0  \n",
       "4                     22734.0  "
      ]
     },
     "execution_count": 42,
     "metadata": {},
     "output_type": "execute_result"
    }
   ],
   "source": [
    "result_summary_df = exposure_keys_summary_df.merge(\n",
    "    new_tek_df, on=[\"sample_date_string\"], how=\"outer\")\n",
    "result_summary_df.head()"
   ]
  },
  {
   "cell_type": "code",
   "execution_count": 43,
   "metadata": {
    "collapsed": false,
    "execution": {
     "iopub.execute_input": "2020-11-21T23:33:44.328043Z",
     "iopub.status.busy": "2020-11-21T23:33:44.327472Z",
     "iopub.status.idle": "2020-11-21T23:33:44.330971Z",
     "shell.execute_reply": "2020-11-21T23:33:44.330494Z"
    },
    "papermill": {
     "duration": 0.079267,
     "end_time": "2020-11-21T23:33:44.331091",
     "exception": false,
     "start_time": "2020-11-21T23:33:44.251824",
     "status": "completed"
    },
    "pycharm": {
     "name": "#%%\n"
    },
    "tags": []
   },
   "outputs": [
    {
     "data": {
      "text/html": [
       "<div>\n",
       "<style scoped>\n",
       "    .dataframe tbody tr th:only-of-type {\n",
       "        vertical-align: middle;\n",
       "    }\n",
       "\n",
       "    .dataframe tbody tr th {\n",
       "        vertical-align: top;\n",
       "    }\n",
       "\n",
       "    .dataframe thead th {\n",
       "        text-align: right;\n",
       "    }\n",
       "</style>\n",
       "<table border=\"1\" class=\"dataframe\">\n",
       "  <thead>\n",
       "    <tr style=\"text-align: right;\">\n",
       "      <th></th>\n",
       "      <th>sample_date_string</th>\n",
       "      <th>shared_teks_by_generation_date</th>\n",
       "      <th>shared_teks_by_upload_date</th>\n",
       "      <th>shared_teks_uploaded_on_generation_date</th>\n",
       "    </tr>\n",
       "  </thead>\n",
       "  <tbody>\n",
       "    <tr>\n",
       "      <th>0</th>\n",
       "      <td>2020-11-21</td>\n",
       "      <td>153</td>\n",
       "      <td>22605.0</td>\n",
       "      <td>153.0</td>\n",
       "    </tr>\n",
       "    <tr>\n",
       "      <th>1</th>\n",
       "      <td>2020-11-20</td>\n",
       "      <td>1635</td>\n",
       "      <td>26712.0</td>\n",
       "      <td>212.0</td>\n",
       "    </tr>\n",
       "    <tr>\n",
       "      <th>2</th>\n",
       "      <td>2020-11-19</td>\n",
       "      <td>4197</td>\n",
       "      <td>25678.0</td>\n",
       "      <td>211.0</td>\n",
       "    </tr>\n",
       "    <tr>\n",
       "      <th>3</th>\n",
       "      <td>2020-11-18</td>\n",
       "      <td>6678</td>\n",
       "      <td>29832.0</td>\n",
       "      <td>290.0</td>\n",
       "    </tr>\n",
       "    <tr>\n",
       "      <th>4</th>\n",
       "      <td>2020-11-17</td>\n",
       "      <td>9190</td>\n",
       "      <td>22734.0</td>\n",
       "      <td>222.0</td>\n",
       "    </tr>\n",
       "  </tbody>\n",
       "</table>\n",
       "</div>"
      ],
      "text/plain": [
       "  sample_date_string  shared_teks_by_generation_date  \\\n",
       "0         2020-11-21                             153   \n",
       "1         2020-11-20                            1635   \n",
       "2         2020-11-19                            4197   \n",
       "3         2020-11-18                            6678   \n",
       "4         2020-11-17                            9190   \n",
       "\n",
       "   shared_teks_by_upload_date  shared_teks_uploaded_on_generation_date  \n",
       "0                     22605.0                                    153.0  \n",
       "1                     26712.0                                    212.0  \n",
       "2                     25678.0                                    211.0  \n",
       "3                     29832.0                                    290.0  \n",
       "4                     22734.0                                    222.0  "
      ]
     },
     "execution_count": 43,
     "metadata": {},
     "output_type": "execute_result"
    }
   ],
   "source": [
    "result_summary_df = result_summary_df.merge(\n",
    "    shared_teks_uploaded_on_generation_date_df, on=[\"sample_date_string\"], how=\"outer\")\n",
    "result_summary_df.head()"
   ]
  },
  {
   "cell_type": "code",
   "execution_count": 44,
   "metadata": {
    "collapsed": false,
    "execution": {
     "iopub.execute_input": "2020-11-21T23:33:44.458792Z",
     "iopub.status.busy": "2020-11-21T23:33:44.458240Z",
     "iopub.status.idle": "2020-11-21T23:33:44.468027Z",
     "shell.execute_reply": "2020-11-21T23:33:44.468463Z"
    },
    "papermill": {
     "duration": 0.077252,
     "end_time": "2020-11-21T23:33:44.468607",
     "exception": false,
     "start_time": "2020-11-21T23:33:44.391355",
     "status": "completed"
    },
    "pycharm": {
     "name": "#%%\n"
    },
    "tags": []
   },
   "outputs": [
    {
     "data": {
      "text/html": [
       "<div>\n",
       "<style scoped>\n",
       "    .dataframe tbody tr th:only-of-type {\n",
       "        vertical-align: middle;\n",
       "    }\n",
       "\n",
       "    .dataframe tbody tr th {\n",
       "        vertical-align: top;\n",
       "    }\n",
       "\n",
       "    .dataframe thead th {\n",
       "        text-align: right;\n",
       "    }\n",
       "</style>\n",
       "<table border=\"1\" class=\"dataframe\">\n",
       "  <thead>\n",
       "    <tr style=\"text-align: right;\">\n",
       "      <th></th>\n",
       "      <th>sample_date_string</th>\n",
       "      <th>shared_teks_by_generation_date</th>\n",
       "      <th>shared_teks_by_upload_date</th>\n",
       "      <th>shared_teks_uploaded_on_generation_date</th>\n",
       "      <th>shared_diagnoses</th>\n",
       "    </tr>\n",
       "  </thead>\n",
       "  <tbody>\n",
       "    <tr>\n",
       "      <th>0</th>\n",
       "      <td>2020-11-21</td>\n",
       "      <td>153.0</td>\n",
       "      <td>22605.0</td>\n",
       "      <td>153.0</td>\n",
       "      <td>2275.0</td>\n",
       "    </tr>\n",
       "    <tr>\n",
       "      <th>1</th>\n",
       "      <td>2020-11-20</td>\n",
       "      <td>1635.0</td>\n",
       "      <td>26712.0</td>\n",
       "      <td>212.0</td>\n",
       "      <td>2617.0</td>\n",
       "    </tr>\n",
       "    <tr>\n",
       "      <th>2</th>\n",
       "      <td>2020-11-19</td>\n",
       "      <td>4197.0</td>\n",
       "      <td>25678.0</td>\n",
       "      <td>211.0</td>\n",
       "      <td>2492.0</td>\n",
       "    </tr>\n",
       "    <tr>\n",
       "      <th>3</th>\n",
       "      <td>2020-11-18</td>\n",
       "      <td>6678.0</td>\n",
       "      <td>29832.0</td>\n",
       "      <td>290.0</td>\n",
       "      <td>2915.0</td>\n",
       "    </tr>\n",
       "    <tr>\n",
       "      <th>4</th>\n",
       "      <td>2020-11-17</td>\n",
       "      <td>9190.0</td>\n",
       "      <td>22734.0</td>\n",
       "      <td>222.0</td>\n",
       "      <td>2099.0</td>\n",
       "    </tr>\n",
       "  </tbody>\n",
       "</table>\n",
       "</div>"
      ],
      "text/plain": [
       "  sample_date_string  shared_teks_by_generation_date  \\\n",
       "0         2020-11-21                           153.0   \n",
       "1         2020-11-20                          1635.0   \n",
       "2         2020-11-19                          4197.0   \n",
       "3         2020-11-18                          6678.0   \n",
       "4         2020-11-17                          9190.0   \n",
       "\n",
       "   shared_teks_by_upload_date  shared_teks_uploaded_on_generation_date  \\\n",
       "0                     22605.0                                    153.0   \n",
       "1                     26712.0                                    212.0   \n",
       "2                     25678.0                                    211.0   \n",
       "3                     29832.0                                    290.0   \n",
       "4                     22734.0                                    222.0   \n",
       "\n",
       "   shared_diagnoses  \n",
       "0            2275.0  \n",
       "1            2617.0  \n",
       "2            2492.0  \n",
       "3            2915.0  \n",
       "4            2099.0  "
      ]
     },
     "execution_count": 44,
     "metadata": {},
     "output_type": "execute_result"
    }
   ],
   "source": [
    "result_summary_df = result_summary_df.merge(\n",
    "    estimated_shared_diagnoses_df, on=[\"sample_date_string\"], how=\"outer\")\n",
    "result_summary_df.head()"
   ]
  },
  {
   "cell_type": "code",
   "execution_count": 45,
   "metadata": {
    "collapsed": false,
    "execution": {
     "iopub.execute_input": "2020-11-21T23:33:44.598922Z",
     "iopub.status.busy": "2020-11-21T23:33:44.598384Z",
     "iopub.status.idle": "2020-11-21T23:33:44.608888Z",
     "shell.execute_reply": "2020-11-21T23:33:44.608429Z"
    },
    "papermill": {
     "duration": 0.079879,
     "end_time": "2020-11-21T23:33:44.609005",
     "exception": false,
     "start_time": "2020-11-21T23:33:44.529126",
     "status": "completed"
    },
    "pycharm": {
     "name": "#%%\n"
    },
    "tags": []
   },
   "outputs": [
    {
     "data": {
      "text/html": [
       "<div>\n",
       "<style scoped>\n",
       "    .dataframe tbody tr th:only-of-type {\n",
       "        vertical-align: middle;\n",
       "    }\n",
       "\n",
       "    .dataframe tbody tr th {\n",
       "        vertical-align: top;\n",
       "    }\n",
       "\n",
       "    .dataframe thead th {\n",
       "        text-align: right;\n",
       "    }\n",
       "</style>\n",
       "<table border=\"1\" class=\"dataframe\">\n",
       "  <thead>\n",
       "    <tr style=\"text-align: right;\">\n",
       "      <th></th>\n",
       "      <th>sample_date_string</th>\n",
       "      <th>new_cases</th>\n",
       "      <th>covid_cases</th>\n",
       "      <th>shared_teks_by_generation_date</th>\n",
       "      <th>shared_teks_by_upload_date</th>\n",
       "      <th>shared_teks_uploaded_on_generation_date</th>\n",
       "      <th>shared_diagnoses</th>\n",
       "    </tr>\n",
       "  </thead>\n",
       "  <tbody>\n",
       "    <tr>\n",
       "      <th>0</th>\n",
       "      <td>2020-08-30</td>\n",
       "      <td>0</td>\n",
       "      <td>7605.0</td>\n",
       "      <td>59.0</td>\n",
       "      <td>29.0</td>\n",
       "      <td>NaN</td>\n",
       "      <td>16.0</td>\n",
       "    </tr>\n",
       "    <tr>\n",
       "      <th>1</th>\n",
       "      <td>2020-08-31</td>\n",
       "      <td>23572</td>\n",
       "      <td>8203.0</td>\n",
       "      <td>47.0</td>\n",
       "      <td>63.0</td>\n",
       "      <td>NaN</td>\n",
       "      <td>25.0</td>\n",
       "    </tr>\n",
       "    <tr>\n",
       "      <th>2</th>\n",
       "      <td>2020-09-01</td>\n",
       "      <td>8115</td>\n",
       "      <td>8346.0</td>\n",
       "      <td>46.0</td>\n",
       "      <td>39.0</td>\n",
       "      <td>NaN</td>\n",
       "      <td>14.0</td>\n",
       "    </tr>\n",
       "    <tr>\n",
       "      <th>3</th>\n",
       "      <td>2020-09-02</td>\n",
       "      <td>8581</td>\n",
       "      <td>8529.0</td>\n",
       "      <td>52.0</td>\n",
       "      <td>57.0</td>\n",
       "      <td>NaN</td>\n",
       "      <td>14.0</td>\n",
       "    </tr>\n",
       "    <tr>\n",
       "      <th>4</th>\n",
       "      <td>2020-09-03</td>\n",
       "      <td>8959</td>\n",
       "      <td>8429.0</td>\n",
       "      <td>51.0</td>\n",
       "      <td>49.0</td>\n",
       "      <td>NaN</td>\n",
       "      <td>19.0</td>\n",
       "    </tr>\n",
       "  </tbody>\n",
       "</table>\n",
       "</div>"
      ],
      "text/plain": [
       "  sample_date_string  new_cases  covid_cases  shared_teks_by_generation_date  \\\n",
       "0         2020-08-30          0       7605.0                            59.0   \n",
       "1         2020-08-31      23572       8203.0                            47.0   \n",
       "2         2020-09-01       8115       8346.0                            46.0   \n",
       "3         2020-09-02       8581       8529.0                            52.0   \n",
       "4         2020-09-03       8959       8429.0                            51.0   \n",
       "\n",
       "   shared_teks_by_upload_date  shared_teks_uploaded_on_generation_date  \\\n",
       "0                        29.0                                      NaN   \n",
       "1                        63.0                                      NaN   \n",
       "2                        39.0                                      NaN   \n",
       "3                        57.0                                      NaN   \n",
       "4                        49.0                                      NaN   \n",
       "\n",
       "   shared_diagnoses  \n",
       "0              16.0  \n",
       "1              25.0  \n",
       "2              14.0  \n",
       "3              14.0  \n",
       "4              19.0  "
      ]
     },
     "execution_count": 45,
     "metadata": {},
     "output_type": "execute_result"
    }
   ],
   "source": [
    "result_summary_df = confirmed_df.tail(daily_summary_days).merge(\n",
    "    result_summary_df, on=[\"sample_date_string\"], how=\"left\")\n",
    "result_summary_df.head()"
   ]
  },
  {
   "cell_type": "code",
   "execution_count": 46,
   "metadata": {
    "collapsed": false,
    "execution": {
     "iopub.execute_input": "2020-11-21T23:33:44.745015Z",
     "iopub.status.busy": "2020-11-21T23:33:44.738488Z",
     "iopub.status.idle": "2020-11-21T23:33:44.758222Z",
     "shell.execute_reply": "2020-11-21T23:33:44.758650Z"
    },
    "papermill": {
     "duration": 0.089351,
     "end_time": "2020-11-21T23:33:44.758792",
     "exception": false,
     "start_time": "2020-11-21T23:33:44.669441",
     "status": "completed"
    },
    "pycharm": {
     "name": "#%%\n"
    },
    "tags": []
   },
   "outputs": [
    {
     "data": {
      "text/html": [
       "<div>\n",
       "<style scoped>\n",
       "    .dataframe tbody tr th:only-of-type {\n",
       "        vertical-align: middle;\n",
       "    }\n",
       "\n",
       "    .dataframe tbody tr th {\n",
       "        vertical-align: top;\n",
       "    }\n",
       "\n",
       "    .dataframe thead th {\n",
       "        text-align: right;\n",
       "    }\n",
       "</style>\n",
       "<table border=\"1\" class=\"dataframe\">\n",
       "  <thead>\n",
       "    <tr style=\"text-align: right;\">\n",
       "      <th></th>\n",
       "      <th></th>\n",
       "      <th>new_cases</th>\n",
       "      <th>covid_cases</th>\n",
       "      <th>shared_teks_by_generation_date</th>\n",
       "      <th>shared_teks_by_upload_date</th>\n",
       "      <th>shared_teks_uploaded_on_generation_date</th>\n",
       "      <th>shared_diagnoses</th>\n",
       "    </tr>\n",
       "    <tr>\n",
       "      <th>sample_date</th>\n",
       "      <th>source_regions</th>\n",
       "      <th></th>\n",
       "      <th></th>\n",
       "      <th></th>\n",
       "      <th></th>\n",
       "      <th></th>\n",
       "      <th></th>\n",
       "    </tr>\n",
       "  </thead>\n",
       "  <tbody>\n",
       "    <tr>\n",
       "      <th>2020-11-21</th>\n",
       "      <th>ES,DE,DK,HR,IE,IT,LV</th>\n",
       "      <td>65127</td>\n",
       "      <td>70966.0</td>\n",
       "      <td>153.0</td>\n",
       "      <td>22605.0</td>\n",
       "      <td>153.0</td>\n",
       "      <td>2275.0</td>\n",
       "    </tr>\n",
       "    <tr>\n",
       "      <th>2020-11-20</th>\n",
       "      <th>ES,DE,DK,IE,IT,LV</th>\n",
       "      <td>77058</td>\n",
       "      <td>68866.0</td>\n",
       "      <td>1635.0</td>\n",
       "      <td>26712.0</td>\n",
       "      <td>212.0</td>\n",
       "      <td>2617.0</td>\n",
       "    </tr>\n",
       "    <tr>\n",
       "      <th>2020-11-19</th>\n",
       "      <th>ES,DE,DK,IE,IT,LV</th>\n",
       "      <td>75193</td>\n",
       "      <td>69974.0</td>\n",
       "      <td>4197.0</td>\n",
       "      <td>25678.0</td>\n",
       "      <td>211.0</td>\n",
       "      <td>2492.0</td>\n",
       "    </tr>\n",
       "    <tr>\n",
       "      <th>2020-11-18</th>\n",
       "      <th>ES,DE,DK,IE,IT,LV</th>\n",
       "      <td>66898</td>\n",
       "      <td>70110.0</td>\n",
       "      <td>6678.0</td>\n",
       "      <td>29832.0</td>\n",
       "      <td>290.0</td>\n",
       "      <td>2915.0</td>\n",
       "    </tr>\n",
       "    <tr>\n",
       "      <th>2020-11-17</th>\n",
       "      <th>ES,DE,DK,IE,IT,LV</th>\n",
       "      <td>56667</td>\n",
       "      <td>71150.0</td>\n",
       "      <td>9190.0</td>\n",
       "      <td>22734.0</td>\n",
       "      <td>222.0</td>\n",
       "      <td>2099.0</td>\n",
       "    </tr>\n",
       "  </tbody>\n",
       "</table>\n",
       "</div>"
      ],
      "text/plain": [
       "                                  new_cases  covid_cases  \\\n",
       "sample_date source_regions                                 \n",
       "2020-11-21  ES,DE,DK,HR,IE,IT,LV      65127      70966.0   \n",
       "2020-11-20  ES,DE,DK,IE,IT,LV         77058      68866.0   \n",
       "2020-11-19  ES,DE,DK,IE,IT,LV         75193      69974.0   \n",
       "2020-11-18  ES,DE,DK,IE,IT,LV         66898      70110.0   \n",
       "2020-11-17  ES,DE,DK,IE,IT,LV         56667      71150.0   \n",
       "\n",
       "                                  shared_teks_by_generation_date  \\\n",
       "sample_date source_regions                                         \n",
       "2020-11-21  ES,DE,DK,HR,IE,IT,LV                           153.0   \n",
       "2020-11-20  ES,DE,DK,IE,IT,LV                             1635.0   \n",
       "2020-11-19  ES,DE,DK,IE,IT,LV                             4197.0   \n",
       "2020-11-18  ES,DE,DK,IE,IT,LV                             6678.0   \n",
       "2020-11-17  ES,DE,DK,IE,IT,LV                             9190.0   \n",
       "\n",
       "                                  shared_teks_by_upload_date  \\\n",
       "sample_date source_regions                                     \n",
       "2020-11-21  ES,DE,DK,HR,IE,IT,LV                     22605.0   \n",
       "2020-11-20  ES,DE,DK,IE,IT,LV                        26712.0   \n",
       "2020-11-19  ES,DE,DK,IE,IT,LV                        25678.0   \n",
       "2020-11-18  ES,DE,DK,IE,IT,LV                        29832.0   \n",
       "2020-11-17  ES,DE,DK,IE,IT,LV                        22734.0   \n",
       "\n",
       "                                  shared_teks_uploaded_on_generation_date  \\\n",
       "sample_date source_regions                                                  \n",
       "2020-11-21  ES,DE,DK,HR,IE,IT,LV                                    153.0   \n",
       "2020-11-20  ES,DE,DK,IE,IT,LV                                       212.0   \n",
       "2020-11-19  ES,DE,DK,IE,IT,LV                                       211.0   \n",
       "2020-11-18  ES,DE,DK,IE,IT,LV                                       290.0   \n",
       "2020-11-17  ES,DE,DK,IE,IT,LV                                       222.0   \n",
       "\n",
       "                                  shared_diagnoses  \n",
       "sample_date source_regions                          \n",
       "2020-11-21  ES,DE,DK,HR,IE,IT,LV            2275.0  \n",
       "2020-11-20  ES,DE,DK,IE,IT,LV               2617.0  \n",
       "2020-11-19  ES,DE,DK,IE,IT,LV               2492.0  \n",
       "2020-11-18  ES,DE,DK,IE,IT,LV               2915.0  \n",
       "2020-11-17  ES,DE,DK,IE,IT,LV               2099.0  "
      ]
     },
     "execution_count": 46,
     "metadata": {},
     "output_type": "execute_result"
    }
   ],
   "source": [
    "result_summary_df[\"sample_date\"] = pd.to_datetime(result_summary_df.sample_date_string)\n",
    "result_summary_df = result_summary_df.merge(source_regions_for_summary_df, how=\"left\")\n",
    "result_summary_df.set_index([\"sample_date\", \"source_regions\"], inplace=True)\n",
    "result_summary_df.drop(columns=[\"sample_date_string\"], inplace=True)\n",
    "result_summary_df.sort_index(ascending=False, inplace=True)\n",
    "result_summary_df.head()"
   ]
  },
  {
   "cell_type": "code",
   "execution_count": 47,
   "metadata": {
    "execution": {
     "iopub.execute_input": "2020-11-21T23:33:44.892450Z",
     "iopub.status.busy": "2020-11-21T23:33:44.891905Z",
     "iopub.status.idle": "2020-11-21T23:33:44.910204Z",
     "shell.execute_reply": "2020-11-21T23:33:44.909725Z"
    },
    "papermill": {
     "duration": 0.089733,
     "end_time": "2020-11-21T23:33:44.910325",
     "exception": false,
     "start_time": "2020-11-21T23:33:44.820592",
     "status": "completed"
    },
    "tags": []
   },
   "outputs": [
    {
     "data": {
      "text/html": [
       "<div>\n",
       "<style scoped>\n",
       "    .dataframe tbody tr th:only-of-type {\n",
       "        vertical-align: middle;\n",
       "    }\n",
       "\n",
       "    .dataframe tbody tr th {\n",
       "        vertical-align: top;\n",
       "    }\n",
       "\n",
       "    .dataframe thead th {\n",
       "        text-align: right;\n",
       "    }\n",
       "</style>\n",
       "<table border=\"1\" class=\"dataframe\">\n",
       "  <thead>\n",
       "    <tr style=\"text-align: right;\">\n",
       "      <th></th>\n",
       "      <th></th>\n",
       "      <th>new_cases</th>\n",
       "      <th>covid_cases</th>\n",
       "      <th>shared_teks_by_generation_date</th>\n",
       "      <th>shared_teks_by_upload_date</th>\n",
       "      <th>shared_teks_uploaded_on_generation_date</th>\n",
       "      <th>shared_diagnoses</th>\n",
       "      <th>teks_per_shared_diagnosis</th>\n",
       "      <th>shared_diagnoses_per_covid_case</th>\n",
       "    </tr>\n",
       "    <tr>\n",
       "      <th>sample_date</th>\n",
       "      <th>source_regions</th>\n",
       "      <th></th>\n",
       "      <th></th>\n",
       "      <th></th>\n",
       "      <th></th>\n",
       "      <th></th>\n",
       "      <th></th>\n",
       "      <th></th>\n",
       "      <th></th>\n",
       "    </tr>\n",
       "  </thead>\n",
       "  <tbody>\n",
       "    <tr>\n",
       "      <th>2020-11-21</th>\n",
       "      <th>ES,DE,DK,HR,IE,IT,LV</th>\n",
       "      <td>65127</td>\n",
       "      <td>70966</td>\n",
       "      <td>153</td>\n",
       "      <td>22605</td>\n",
       "      <td>153</td>\n",
       "      <td>2275</td>\n",
       "      <td>9.936264</td>\n",
       "      <td>0.032058</td>\n",
       "    </tr>\n",
       "    <tr>\n",
       "      <th>2020-11-20</th>\n",
       "      <th>ES,DE,DK,IE,IT,LV</th>\n",
       "      <td>77058</td>\n",
       "      <td>68866</td>\n",
       "      <td>1635</td>\n",
       "      <td>26712</td>\n",
       "      <td>212</td>\n",
       "      <td>2617</td>\n",
       "      <td>10.207107</td>\n",
       "      <td>0.038001</td>\n",
       "    </tr>\n",
       "    <tr>\n",
       "      <th>2020-11-19</th>\n",
       "      <th>ES,DE,DK,IE,IT,LV</th>\n",
       "      <td>75193</td>\n",
       "      <td>69974</td>\n",
       "      <td>4197</td>\n",
       "      <td>25678</td>\n",
       "      <td>211</td>\n",
       "      <td>2492</td>\n",
       "      <td>10.304173</td>\n",
       "      <td>0.035613</td>\n",
       "    </tr>\n",
       "    <tr>\n",
       "      <th>2020-11-18</th>\n",
       "      <th>ES,DE,DK,IE,IT,LV</th>\n",
       "      <td>66898</td>\n",
       "      <td>70110</td>\n",
       "      <td>6678</td>\n",
       "      <td>29832</td>\n",
       "      <td>290</td>\n",
       "      <td>2915</td>\n",
       "      <td>10.233962</td>\n",
       "      <td>0.041578</td>\n",
       "    </tr>\n",
       "    <tr>\n",
       "      <th>2020-11-17</th>\n",
       "      <th>ES,DE,DK,IE,IT,LV</th>\n",
       "      <td>56667</td>\n",
       "      <td>71150</td>\n",
       "      <td>9190</td>\n",
       "      <td>22734</td>\n",
       "      <td>222</td>\n",
       "      <td>2099</td>\n",
       "      <td>10.830872</td>\n",
       "      <td>0.029501</td>\n",
       "    </tr>\n",
       "    <tr>\n",
       "      <th>2020-11-16</th>\n",
       "      <th>ES,DE,DK,IE,IT,LV</th>\n",
       "      <td>84825</td>\n",
       "      <td>71501</td>\n",
       "      <td>11179</td>\n",
       "      <td>17579</td>\n",
       "      <td>194</td>\n",
       "      <td>1741</td>\n",
       "      <td>10.097071</td>\n",
       "      <td>0.024349</td>\n",
       "    </tr>\n",
       "    <tr>\n",
       "      <th>2020-11-15</th>\n",
       "      <th>ES,DE,DK,IE,IT,LV</th>\n",
       "      <td>56096</td>\n",
       "      <td>73670</td>\n",
       "      <td>12319</td>\n",
       "      <td>15287</td>\n",
       "      <td>224</td>\n",
       "      <td>1611</td>\n",
       "      <td>9.489137</td>\n",
       "      <td>0.021868</td>\n",
       "    </tr>\n",
       "    <tr>\n",
       "      <th>2020-11-14</th>\n",
       "      <th>ES,DE,DK,IE,IT,LV</th>\n",
       "      <td>65322</td>\n",
       "      <td>73884</td>\n",
       "      <td>13456</td>\n",
       "      <td>22798</td>\n",
       "      <td>211</td>\n",
       "      <td>2281</td>\n",
       "      <td>9.994739</td>\n",
       "      <td>0.030873</td>\n",
       "    </tr>\n",
       "    <tr>\n",
       "      <th>2020-11-13</th>\n",
       "      <th>ES,DE,DK,IE,IT,LV</th>\n",
       "      <td>84819</td>\n",
       "      <td>73621</td>\n",
       "      <td>15300</td>\n",
       "      <td>29729</td>\n",
       "      <td>306</td>\n",
       "      <td>2890</td>\n",
       "      <td>10.286851</td>\n",
       "      <td>0.039255</td>\n",
       "    </tr>\n",
       "    <tr>\n",
       "      <th>2020-11-12</th>\n",
       "      <th>ES,DE,DK,IE,IT,LV</th>\n",
       "      <td>76143</td>\n",
       "      <td>73029</td>\n",
       "      <td>17545</td>\n",
       "      <td>31792</td>\n",
       "      <td>317</td>\n",
       "      <td>3205</td>\n",
       "      <td>9.919501</td>\n",
       "      <td>0.043887</td>\n",
       "    </tr>\n",
       "    <tr>\n",
       "      <th>2020-11-11</th>\n",
       "      <th>ES,DE,DK,IE,IT,LV</th>\n",
       "      <td>74177</td>\n",
       "      <td>72741</td>\n",
       "      <td>19677</td>\n",
       "      <td>30445</td>\n",
       "      <td>300</td>\n",
       "      <td>3029</td>\n",
       "      <td>10.051172</td>\n",
       "      <td>0.041641</td>\n",
       "    </tr>\n",
       "    <tr>\n",
       "      <th>2020-11-10</th>\n",
       "      <th>ES,DE,DK,IE,IT,LV</th>\n",
       "      <td>59124</td>\n",
       "      <td>72476</td>\n",
       "      <td>21750</td>\n",
       "      <td>21163</td>\n",
       "      <td>292</td>\n",
       "      <td>2086</td>\n",
       "      <td>10.145254</td>\n",
       "      <td>0.028782</td>\n",
       "    </tr>\n",
       "    <tr>\n",
       "      <th>2020-11-09</th>\n",
       "      <th>ES,DE,DK,IE,IT,LV</th>\n",
       "      <td>100008</td>\n",
       "      <td>72329</td>\n",
       "      <td>23437</td>\n",
       "      <td>16517</td>\n",
       "      <td>236</td>\n",
       "      <td>1683</td>\n",
       "      <td>9.814023</td>\n",
       "      <td>0.023269</td>\n",
       "    </tr>\n",
       "    <tr>\n",
       "      <th>2020-11-08</th>\n",
       "      <th>ES,DE,IE,IT,LV</th>\n",
       "      <td>56547</td>\n",
       "      <td>71025</td>\n",
       "      <td>24098</td>\n",
       "      <td>16816</td>\n",
       "      <td>209</td>\n",
       "      <td>1809</td>\n",
       "      <td>9.295744</td>\n",
       "      <td>0.025470</td>\n",
       "    </tr>\n",
       "    <tr>\n",
       "      <th>2020-11-07</th>\n",
       "      <th>ES,DE,IE,IT,LV</th>\n",
       "      <td>62050</td>\n",
       "      <td>69596</td>\n",
       "      <td>23590</td>\n",
       "      <td>23688</td>\n",
       "      <td>313</td>\n",
       "      <td>2490</td>\n",
       "      <td>9.513253</td>\n",
       "      <td>0.035778</td>\n",
       "    </tr>\n",
       "    <tr>\n",
       "      <th>2020-11-06</th>\n",
       "      <th>ES,DE,IE,IT,LV</th>\n",
       "      <td>79454</td>\n",
       "      <td>68044</td>\n",
       "      <td>23325</td>\n",
       "      <td>28583</td>\n",
       "      <td>263</td>\n",
       "      <td>2909</td>\n",
       "      <td>9.825713</td>\n",
       "      <td>0.042752</td>\n",
       "    </tr>\n",
       "    <tr>\n",
       "      <th>2020-11-05</th>\n",
       "      <th>ES,DE,IE,IT,LV</th>\n",
       "      <td>73194</td>\n",
       "      <td>67010</td>\n",
       "      <td>23626</td>\n",
       "      <td>26573</td>\n",
       "      <td>267</td>\n",
       "      <td>2696</td>\n",
       "      <td>9.856454</td>\n",
       "      <td>0.040233</td>\n",
       "    </tr>\n",
       "    <tr>\n",
       "      <th>2020-11-04</th>\n",
       "      <th>ES,DE,IE,IT,LV</th>\n",
       "      <td>70966</td>\n",
       "      <td>66020</td>\n",
       "      <td>23610</td>\n",
       "      <td>28247</td>\n",
       "      <td>344</td>\n",
       "      <td>2851</td>\n",
       "      <td>9.907752</td>\n",
       "      <td>0.043184</td>\n",
       "    </tr>\n",
       "    <tr>\n",
       "      <th>2020-11-03</th>\n",
       "      <th>ES,DE,IE,IT,LV</th>\n",
       "      <td>57154</td>\n",
       "      <td>64104</td>\n",
       "      <td>23958</td>\n",
       "      <td>20613</td>\n",
       "      <td>280</td>\n",
       "      <td>1961</td>\n",
       "      <td>10.511474</td>\n",
       "      <td>0.030591</td>\n",
       "    </tr>\n",
       "    <tr>\n",
       "      <th>2020-11-02</th>\n",
       "      <th>ES,DE,IE,IT,LV</th>\n",
       "      <td>97809</td>\n",
       "      <td>62775</td>\n",
       "      <td>24206</td>\n",
       "      <td>16927</td>\n",
       "      <td>264</td>\n",
       "      <td>1711</td>\n",
       "      <td>9.893045</td>\n",
       "      <td>0.027256</td>\n",
       "    </tr>\n",
       "    <tr>\n",
       "      <th>2020-11-01</th>\n",
       "      <th>ES,DE,IE,IT,LV</th>\n",
       "      <td>46545</td>\n",
       "      <td>60713</td>\n",
       "      <td>23893</td>\n",
       "      <td>16848</td>\n",
       "      <td>277</td>\n",
       "      <td>1842</td>\n",
       "      <td>9.146580</td>\n",
       "      <td>0.030339</td>\n",
       "    </tr>\n",
       "    <tr>\n",
       "      <th>2020-10-31</th>\n",
       "      <th>ES,DE,IE,IT,LV</th>\n",
       "      <td>51184</td>\n",
       "      <td>58624</td>\n",
       "      <td>23407</td>\n",
       "      <td>20328</td>\n",
       "      <td>305</td>\n",
       "      <td>2163</td>\n",
       "      <td>9.398058</td>\n",
       "      <td>0.036896</td>\n",
       "    </tr>\n",
       "    <tr>\n",
       "      <th>2020-10-30</th>\n",
       "      <th>ES,DE,IE,IT,LV</th>\n",
       "      <td>72219</td>\n",
       "      <td>56297</td>\n",
       "      <td>22997</td>\n",
       "      <td>100215</td>\n",
       "      <td>382</td>\n",
       "      <td>0</td>\n",
       "      <td>0.000000</td>\n",
       "      <td>0.000000</td>\n",
       "    </tr>\n",
       "    <tr>\n",
       "      <th>2020-10-29</th>\n",
       "      <th>ES</th>\n",
       "      <td>23580</td>\n",
       "      <td>19115</td>\n",
       "      <td>22747</td>\n",
       "      <td>1847</td>\n",
       "      <td>397</td>\n",
       "      <td>397</td>\n",
       "      <td>4.652393</td>\n",
       "      <td>0.020769</td>\n",
       "    </tr>\n",
       "    <tr>\n",
       "      <th>2020-10-28</th>\n",
       "      <th>ES</th>\n",
       "      <td>19765</td>\n",
       "      <td>18744</td>\n",
       "      <td>22541</td>\n",
       "      <td>1933</td>\n",
       "      <td>406</td>\n",
       "      <td>406</td>\n",
       "      <td>4.761084</td>\n",
       "      <td>0.021660</td>\n",
       "    </tr>\n",
       "    <tr>\n",
       "      <th>2020-10-27</th>\n",
       "      <th>ES</th>\n",
       "      <td>18418</td>\n",
       "      <td>18345</td>\n",
       "      <td>22580</td>\n",
       "      <td>988</td>\n",
       "      <td>231</td>\n",
       "      <td>231</td>\n",
       "      <td>4.277056</td>\n",
       "      <td>0.012592</td>\n",
       "    </tr>\n",
       "    <tr>\n",
       "      <th>2020-10-26</th>\n",
       "      <th>ES</th>\n",
       "      <td>52188</td>\n",
       "      <td>17696</td>\n",
       "      <td>22617</td>\n",
       "      <td>994</td>\n",
       "      <td>215</td>\n",
       "      <td>215</td>\n",
       "      <td>4.623256</td>\n",
       "      <td>0.012150</td>\n",
       "    </tr>\n",
       "    <tr>\n",
       "      <th>2020-10-25</th>\n",
       "      <th>ES</th>\n",
       "      <td>0</td>\n",
       "      <td>15653</td>\n",
       "      <td>21944</td>\n",
       "      <td>679</td>\n",
       "      <td>179</td>\n",
       "      <td>179</td>\n",
       "      <td>3.793296</td>\n",
       "      <td>0.011436</td>\n",
       "    </tr>\n",
       "  </tbody>\n",
       "</table>\n",
       "</div>"
      ],
      "text/plain": [
       "                                  new_cases  covid_cases  \\\n",
       "sample_date source_regions                                 \n",
       "2020-11-21  ES,DE,DK,HR,IE,IT,LV      65127        70966   \n",
       "2020-11-20  ES,DE,DK,IE,IT,LV         77058        68866   \n",
       "2020-11-19  ES,DE,DK,IE,IT,LV         75193        69974   \n",
       "2020-11-18  ES,DE,DK,IE,IT,LV         66898        70110   \n",
       "2020-11-17  ES,DE,DK,IE,IT,LV         56667        71150   \n",
       "2020-11-16  ES,DE,DK,IE,IT,LV         84825        71501   \n",
       "2020-11-15  ES,DE,DK,IE,IT,LV         56096        73670   \n",
       "2020-11-14  ES,DE,DK,IE,IT,LV         65322        73884   \n",
       "2020-11-13  ES,DE,DK,IE,IT,LV         84819        73621   \n",
       "2020-11-12  ES,DE,DK,IE,IT,LV         76143        73029   \n",
       "2020-11-11  ES,DE,DK,IE,IT,LV         74177        72741   \n",
       "2020-11-10  ES,DE,DK,IE,IT,LV         59124        72476   \n",
       "2020-11-09  ES,DE,DK,IE,IT,LV        100008        72329   \n",
       "2020-11-08  ES,DE,IE,IT,LV            56547        71025   \n",
       "2020-11-07  ES,DE,IE,IT,LV            62050        69596   \n",
       "2020-11-06  ES,DE,IE,IT,LV            79454        68044   \n",
       "2020-11-05  ES,DE,IE,IT,LV            73194        67010   \n",
       "2020-11-04  ES,DE,IE,IT,LV            70966        66020   \n",
       "2020-11-03  ES,DE,IE,IT,LV            57154        64104   \n",
       "2020-11-02  ES,DE,IE,IT,LV            97809        62775   \n",
       "2020-11-01  ES,DE,IE,IT,LV            46545        60713   \n",
       "2020-10-31  ES,DE,IE,IT,LV            51184        58624   \n",
       "2020-10-30  ES,DE,IE,IT,LV            72219        56297   \n",
       "2020-10-29  ES                        23580        19115   \n",
       "2020-10-28  ES                        19765        18744   \n",
       "2020-10-27  ES                        18418        18345   \n",
       "2020-10-26  ES                        52188        17696   \n",
       "2020-10-25  ES                            0        15653   \n",
       "\n",
       "                                  shared_teks_by_generation_date  \\\n",
       "sample_date source_regions                                         \n",
       "2020-11-21  ES,DE,DK,HR,IE,IT,LV                             153   \n",
       "2020-11-20  ES,DE,DK,IE,IT,LV                               1635   \n",
       "2020-11-19  ES,DE,DK,IE,IT,LV                               4197   \n",
       "2020-11-18  ES,DE,DK,IE,IT,LV                               6678   \n",
       "2020-11-17  ES,DE,DK,IE,IT,LV                               9190   \n",
       "2020-11-16  ES,DE,DK,IE,IT,LV                              11179   \n",
       "2020-11-15  ES,DE,DK,IE,IT,LV                              12319   \n",
       "2020-11-14  ES,DE,DK,IE,IT,LV                              13456   \n",
       "2020-11-13  ES,DE,DK,IE,IT,LV                              15300   \n",
       "2020-11-12  ES,DE,DK,IE,IT,LV                              17545   \n",
       "2020-11-11  ES,DE,DK,IE,IT,LV                              19677   \n",
       "2020-11-10  ES,DE,DK,IE,IT,LV                              21750   \n",
       "2020-11-09  ES,DE,DK,IE,IT,LV                              23437   \n",
       "2020-11-08  ES,DE,IE,IT,LV                                 24098   \n",
       "2020-11-07  ES,DE,IE,IT,LV                                 23590   \n",
       "2020-11-06  ES,DE,IE,IT,LV                                 23325   \n",
       "2020-11-05  ES,DE,IE,IT,LV                                 23626   \n",
       "2020-11-04  ES,DE,IE,IT,LV                                 23610   \n",
       "2020-11-03  ES,DE,IE,IT,LV                                 23958   \n",
       "2020-11-02  ES,DE,IE,IT,LV                                 24206   \n",
       "2020-11-01  ES,DE,IE,IT,LV                                 23893   \n",
       "2020-10-31  ES,DE,IE,IT,LV                                 23407   \n",
       "2020-10-30  ES,DE,IE,IT,LV                                 22997   \n",
       "2020-10-29  ES                                             22747   \n",
       "2020-10-28  ES                                             22541   \n",
       "2020-10-27  ES                                             22580   \n",
       "2020-10-26  ES                                             22617   \n",
       "2020-10-25  ES                                             21944   \n",
       "\n",
       "                                  shared_teks_by_upload_date  \\\n",
       "sample_date source_regions                                     \n",
       "2020-11-21  ES,DE,DK,HR,IE,IT,LV                       22605   \n",
       "2020-11-20  ES,DE,DK,IE,IT,LV                          26712   \n",
       "2020-11-19  ES,DE,DK,IE,IT,LV                          25678   \n",
       "2020-11-18  ES,DE,DK,IE,IT,LV                          29832   \n",
       "2020-11-17  ES,DE,DK,IE,IT,LV                          22734   \n",
       "2020-11-16  ES,DE,DK,IE,IT,LV                          17579   \n",
       "2020-11-15  ES,DE,DK,IE,IT,LV                          15287   \n",
       "2020-11-14  ES,DE,DK,IE,IT,LV                          22798   \n",
       "2020-11-13  ES,DE,DK,IE,IT,LV                          29729   \n",
       "2020-11-12  ES,DE,DK,IE,IT,LV                          31792   \n",
       "2020-11-11  ES,DE,DK,IE,IT,LV                          30445   \n",
       "2020-11-10  ES,DE,DK,IE,IT,LV                          21163   \n",
       "2020-11-09  ES,DE,DK,IE,IT,LV                          16517   \n",
       "2020-11-08  ES,DE,IE,IT,LV                             16816   \n",
       "2020-11-07  ES,DE,IE,IT,LV                             23688   \n",
       "2020-11-06  ES,DE,IE,IT,LV                             28583   \n",
       "2020-11-05  ES,DE,IE,IT,LV                             26573   \n",
       "2020-11-04  ES,DE,IE,IT,LV                             28247   \n",
       "2020-11-03  ES,DE,IE,IT,LV                             20613   \n",
       "2020-11-02  ES,DE,IE,IT,LV                             16927   \n",
       "2020-11-01  ES,DE,IE,IT,LV                             16848   \n",
       "2020-10-31  ES,DE,IE,IT,LV                             20328   \n",
       "2020-10-30  ES,DE,IE,IT,LV                            100215   \n",
       "2020-10-29  ES                                          1847   \n",
       "2020-10-28  ES                                          1933   \n",
       "2020-10-27  ES                                           988   \n",
       "2020-10-26  ES                                           994   \n",
       "2020-10-25  ES                                           679   \n",
       "\n",
       "                                  shared_teks_uploaded_on_generation_date  \\\n",
       "sample_date source_regions                                                  \n",
       "2020-11-21  ES,DE,DK,HR,IE,IT,LV                                      153   \n",
       "2020-11-20  ES,DE,DK,IE,IT,LV                                         212   \n",
       "2020-11-19  ES,DE,DK,IE,IT,LV                                         211   \n",
       "2020-11-18  ES,DE,DK,IE,IT,LV                                         290   \n",
       "2020-11-17  ES,DE,DK,IE,IT,LV                                         222   \n",
       "2020-11-16  ES,DE,DK,IE,IT,LV                                         194   \n",
       "2020-11-15  ES,DE,DK,IE,IT,LV                                         224   \n",
       "2020-11-14  ES,DE,DK,IE,IT,LV                                         211   \n",
       "2020-11-13  ES,DE,DK,IE,IT,LV                                         306   \n",
       "2020-11-12  ES,DE,DK,IE,IT,LV                                         317   \n",
       "2020-11-11  ES,DE,DK,IE,IT,LV                                         300   \n",
       "2020-11-10  ES,DE,DK,IE,IT,LV                                         292   \n",
       "2020-11-09  ES,DE,DK,IE,IT,LV                                         236   \n",
       "2020-11-08  ES,DE,IE,IT,LV                                            209   \n",
       "2020-11-07  ES,DE,IE,IT,LV                                            313   \n",
       "2020-11-06  ES,DE,IE,IT,LV                                            263   \n",
       "2020-11-05  ES,DE,IE,IT,LV                                            267   \n",
       "2020-11-04  ES,DE,IE,IT,LV                                            344   \n",
       "2020-11-03  ES,DE,IE,IT,LV                                            280   \n",
       "2020-11-02  ES,DE,IE,IT,LV                                            264   \n",
       "2020-11-01  ES,DE,IE,IT,LV                                            277   \n",
       "2020-10-31  ES,DE,IE,IT,LV                                            305   \n",
       "2020-10-30  ES,DE,IE,IT,LV                                            382   \n",
       "2020-10-29  ES                                                        397   \n",
       "2020-10-28  ES                                                        406   \n",
       "2020-10-27  ES                                                        231   \n",
       "2020-10-26  ES                                                        215   \n",
       "2020-10-25  ES                                                        179   \n",
       "\n",
       "                                  shared_diagnoses  teks_per_shared_diagnosis  \\\n",
       "sample_date source_regions                                                      \n",
       "2020-11-21  ES,DE,DK,HR,IE,IT,LV              2275                   9.936264   \n",
       "2020-11-20  ES,DE,DK,IE,IT,LV                 2617                  10.207107   \n",
       "2020-11-19  ES,DE,DK,IE,IT,LV                 2492                  10.304173   \n",
       "2020-11-18  ES,DE,DK,IE,IT,LV                 2915                  10.233962   \n",
       "2020-11-17  ES,DE,DK,IE,IT,LV                 2099                  10.830872   \n",
       "2020-11-16  ES,DE,DK,IE,IT,LV                 1741                  10.097071   \n",
       "2020-11-15  ES,DE,DK,IE,IT,LV                 1611                   9.489137   \n",
       "2020-11-14  ES,DE,DK,IE,IT,LV                 2281                   9.994739   \n",
       "2020-11-13  ES,DE,DK,IE,IT,LV                 2890                  10.286851   \n",
       "2020-11-12  ES,DE,DK,IE,IT,LV                 3205                   9.919501   \n",
       "2020-11-11  ES,DE,DK,IE,IT,LV                 3029                  10.051172   \n",
       "2020-11-10  ES,DE,DK,IE,IT,LV                 2086                  10.145254   \n",
       "2020-11-09  ES,DE,DK,IE,IT,LV                 1683                   9.814023   \n",
       "2020-11-08  ES,DE,IE,IT,LV                    1809                   9.295744   \n",
       "2020-11-07  ES,DE,IE,IT,LV                    2490                   9.513253   \n",
       "2020-11-06  ES,DE,IE,IT,LV                    2909                   9.825713   \n",
       "2020-11-05  ES,DE,IE,IT,LV                    2696                   9.856454   \n",
       "2020-11-04  ES,DE,IE,IT,LV                    2851                   9.907752   \n",
       "2020-11-03  ES,DE,IE,IT,LV                    1961                  10.511474   \n",
       "2020-11-02  ES,DE,IE,IT,LV                    1711                   9.893045   \n",
       "2020-11-01  ES,DE,IE,IT,LV                    1842                   9.146580   \n",
       "2020-10-31  ES,DE,IE,IT,LV                    2163                   9.398058   \n",
       "2020-10-30  ES,DE,IE,IT,LV                       0                   0.000000   \n",
       "2020-10-29  ES                                 397                   4.652393   \n",
       "2020-10-28  ES                                 406                   4.761084   \n",
       "2020-10-27  ES                                 231                   4.277056   \n",
       "2020-10-26  ES                                 215                   4.623256   \n",
       "2020-10-25  ES                                 179                   3.793296   \n",
       "\n",
       "                                  shared_diagnoses_per_covid_case  \n",
       "sample_date source_regions                                         \n",
       "2020-11-21  ES,DE,DK,HR,IE,IT,LV                         0.032058  \n",
       "2020-11-20  ES,DE,DK,IE,IT,LV                            0.038001  \n",
       "2020-11-19  ES,DE,DK,IE,IT,LV                            0.035613  \n",
       "2020-11-18  ES,DE,DK,IE,IT,LV                            0.041578  \n",
       "2020-11-17  ES,DE,DK,IE,IT,LV                            0.029501  \n",
       "2020-11-16  ES,DE,DK,IE,IT,LV                            0.024349  \n",
       "2020-11-15  ES,DE,DK,IE,IT,LV                            0.021868  \n",
       "2020-11-14  ES,DE,DK,IE,IT,LV                            0.030873  \n",
       "2020-11-13  ES,DE,DK,IE,IT,LV                            0.039255  \n",
       "2020-11-12  ES,DE,DK,IE,IT,LV                            0.043887  \n",
       "2020-11-11  ES,DE,DK,IE,IT,LV                            0.041641  \n",
       "2020-11-10  ES,DE,DK,IE,IT,LV                            0.028782  \n",
       "2020-11-09  ES,DE,DK,IE,IT,LV                            0.023269  \n",
       "2020-11-08  ES,DE,IE,IT,LV                               0.025470  \n",
       "2020-11-07  ES,DE,IE,IT,LV                               0.035778  \n",
       "2020-11-06  ES,DE,IE,IT,LV                               0.042752  \n",
       "2020-11-05  ES,DE,IE,IT,LV                               0.040233  \n",
       "2020-11-04  ES,DE,IE,IT,LV                               0.043184  \n",
       "2020-11-03  ES,DE,IE,IT,LV                               0.030591  \n",
       "2020-11-02  ES,DE,IE,IT,LV                               0.027256  \n",
       "2020-11-01  ES,DE,IE,IT,LV                               0.030339  \n",
       "2020-10-31  ES,DE,IE,IT,LV                               0.036896  \n",
       "2020-10-30  ES,DE,IE,IT,LV                               0.000000  \n",
       "2020-10-29  ES                                           0.020769  \n",
       "2020-10-28  ES                                           0.021660  \n",
       "2020-10-27  ES                                           0.012592  \n",
       "2020-10-26  ES                                           0.012150  \n",
       "2020-10-25  ES                                           0.011436  "
      ]
     },
     "execution_count": 47,
     "metadata": {},
     "output_type": "execute_result"
    }
   ],
   "source": [
    "with pd.option_context(\"mode.use_inf_as_na\", True):\n",
    "    result_summary_df = result_summary_df.fillna(0).astype(int)\n",
    "    result_summary_df[\"teks_per_shared_diagnosis\"] = \\\n",
    "        (result_summary_df.shared_teks_by_upload_date / result_summary_df.shared_diagnoses).fillna(0)\n",
    "    result_summary_df[\"shared_diagnoses_per_covid_case\"] = \\\n",
    "        (result_summary_df.shared_diagnoses / result_summary_df.covid_cases).fillna(0)\n",
    "\n",
    "result_summary_df.head(daily_plot_days)"
   ]
  },
  {
   "cell_type": "code",
   "execution_count": 48,
   "metadata": {
    "collapsed": false,
    "execution": {
     "iopub.execute_input": "2020-11-21T23:33:45.052533Z",
     "iopub.status.busy": "2020-11-21T23:33:45.051887Z",
     "iopub.status.idle": "2020-11-21T23:33:45.067315Z",
     "shell.execute_reply": "2020-11-21T23:33:45.068055Z"
    },
    "papermill": {
     "duration": 0.095982,
     "end_time": "2020-11-21T23:33:45.068302",
     "exception": false,
     "start_time": "2020-11-21T23:33:44.972320",
     "status": "completed"
    },
    "pycharm": {
     "name": "#%%\n"
    },
    "tags": []
   },
   "outputs": [
    {
     "data": {
      "text/html": [
       "<div>\n",
       "<style scoped>\n",
       "    .dataframe tbody tr th:only-of-type {\n",
       "        vertical-align: middle;\n",
       "    }\n",
       "\n",
       "    .dataframe tbody tr th {\n",
       "        vertical-align: top;\n",
       "    }\n",
       "\n",
       "    .dataframe thead th {\n",
       "        text-align: right;\n",
       "    }\n",
       "</style>\n",
       "<table border=\"1\" class=\"dataframe\">\n",
       "  <thead>\n",
       "    <tr style=\"text-align: right;\">\n",
       "      <th></th>\n",
       "      <th></th>\n",
       "      <th>covid_cases</th>\n",
       "      <th>shared_teks_by_generation_date</th>\n",
       "      <th>shared_teks_by_upload_date</th>\n",
       "      <th>shared_diagnoses</th>\n",
       "      <th>teks_per_shared_diagnosis</th>\n",
       "      <th>shared_diagnoses_per_covid_case</th>\n",
       "    </tr>\n",
       "    <tr>\n",
       "      <th>sample_date</th>\n",
       "      <th>source_regions</th>\n",
       "      <th></th>\n",
       "      <th></th>\n",
       "      <th></th>\n",
       "      <th></th>\n",
       "      <th></th>\n",
       "      <th></th>\n",
       "    </tr>\n",
       "  </thead>\n",
       "  <tbody>\n",
       "    <tr>\n",
       "      <th>2020-11-21</th>\n",
       "      <th>ES,DE,DK,HR,IE,IT,LV</th>\n",
       "      <td>496237</td>\n",
       "      <td>45351</td>\n",
       "      <td>160427</td>\n",
       "      <td>15750</td>\n",
       "      <td>10.185841</td>\n",
       "      <td>0.031739</td>\n",
       "    </tr>\n",
       "    <tr>\n",
       "      <th>2020-11-20</th>\n",
       "      <th>ES,DE,DK,IE,IT,LV</th>\n",
       "      <td>499155</td>\n",
       "      <td>58654</td>\n",
       "      <td>160620</td>\n",
       "      <td>15756</td>\n",
       "      <td>10.194212</td>\n",
       "      <td>0.031565</td>\n",
       "    </tr>\n",
       "    <tr>\n",
       "      <th>2020-11-19</th>\n",
       "      <th>ES,DE,DK,IE,IT,LV</th>\n",
       "      <td>503910</td>\n",
       "      <td>72319</td>\n",
       "      <td>163637</td>\n",
       "      <td>16029</td>\n",
       "      <td>10.208809</td>\n",
       "      <td>0.031809</td>\n",
       "    </tr>\n",
       "    <tr>\n",
       "      <th>2020-11-18</th>\n",
       "      <th>ES,DE,DK,IE,IT,LV</th>\n",
       "      <td>506965</td>\n",
       "      <td>85667</td>\n",
       "      <td>169751</td>\n",
       "      <td>16742</td>\n",
       "      <td>10.139231</td>\n",
       "      <td>0.033024</td>\n",
       "    </tr>\n",
       "    <tr>\n",
       "      <th>2020-11-17</th>\n",
       "      <th>ES,DE,DK,IE,IT,LV</th>\n",
       "      <td>509596</td>\n",
       "      <td>98666</td>\n",
       "      <td>170364</td>\n",
       "      <td>16856</td>\n",
       "      <td>10.107024</td>\n",
       "      <td>0.033077</td>\n",
       "    </tr>\n",
       "  </tbody>\n",
       "</table>\n",
       "</div>"
      ],
      "text/plain": [
       "                                  covid_cases  shared_teks_by_generation_date  \\\n",
       "sample_date source_regions                                                      \n",
       "2020-11-21  ES,DE,DK,HR,IE,IT,LV       496237                           45351   \n",
       "2020-11-20  ES,DE,DK,IE,IT,LV          499155                           58654   \n",
       "2020-11-19  ES,DE,DK,IE,IT,LV          503910                           72319   \n",
       "2020-11-18  ES,DE,DK,IE,IT,LV          506965                           85667   \n",
       "2020-11-17  ES,DE,DK,IE,IT,LV          509596                           98666   \n",
       "\n",
       "                                  shared_teks_by_upload_date  \\\n",
       "sample_date source_regions                                     \n",
       "2020-11-21  ES,DE,DK,HR,IE,IT,LV                      160427   \n",
       "2020-11-20  ES,DE,DK,IE,IT,LV                         160620   \n",
       "2020-11-19  ES,DE,DK,IE,IT,LV                         163637   \n",
       "2020-11-18  ES,DE,DK,IE,IT,LV                         169751   \n",
       "2020-11-17  ES,DE,DK,IE,IT,LV                         170364   \n",
       "\n",
       "                                  shared_diagnoses  teks_per_shared_diagnosis  \\\n",
       "sample_date source_regions                                                      \n",
       "2020-11-21  ES,DE,DK,HR,IE,IT,LV             15750                  10.185841   \n",
       "2020-11-20  ES,DE,DK,IE,IT,LV                15756                  10.194212   \n",
       "2020-11-19  ES,DE,DK,IE,IT,LV                16029                  10.208809   \n",
       "2020-11-18  ES,DE,DK,IE,IT,LV                16742                  10.139231   \n",
       "2020-11-17  ES,DE,DK,IE,IT,LV                16856                  10.107024   \n",
       "\n",
       "                                  shared_diagnoses_per_covid_case  \n",
       "sample_date source_regions                                         \n",
       "2020-11-21  ES,DE,DK,HR,IE,IT,LV                         0.031739  \n",
       "2020-11-20  ES,DE,DK,IE,IT,LV                            0.031565  \n",
       "2020-11-19  ES,DE,DK,IE,IT,LV                            0.031809  \n",
       "2020-11-18  ES,DE,DK,IE,IT,LV                            0.033024  \n",
       "2020-11-17  ES,DE,DK,IE,IT,LV                            0.033077  "
      ]
     },
     "execution_count": 48,
     "metadata": {},
     "output_type": "execute_result"
    }
   ],
   "source": [
    "weekly_result_summary_df = result_summary_df \\\n",
    "    .sort_index(ascending=True).fillna(0).rolling(7).agg({\n",
    "    \"covid_cases\": \"sum\",\n",
    "    \"shared_teks_by_generation_date\": \"sum\",\n",
    "    \"shared_teks_by_upload_date\": \"sum\",\n",
    "    \"shared_diagnoses\": \"sum\"\n",
    "}).sort_index(ascending=False)\n",
    "\n",
    "with pd.option_context(\"mode.use_inf_as_na\", True):\n",
    "    weekly_result_summary_df = weekly_result_summary_df.fillna(0).astype(int)\n",
    "    weekly_result_summary_df[\"teks_per_shared_diagnosis\"] = \\\n",
    "        (weekly_result_summary_df.shared_teks_by_upload_date / weekly_result_summary_df.shared_diagnoses).fillna(0)\n",
    "    weekly_result_summary_df[\"shared_diagnoses_per_covid_case\"] = \\\n",
    "        (weekly_result_summary_df.shared_diagnoses / weekly_result_summary_df.covid_cases).fillna(0)\n",
    "\n",
    "weekly_result_summary_df.head()"
   ]
  },
  {
   "cell_type": "code",
   "execution_count": 49,
   "metadata": {
    "collapsed": false,
    "execution": {
     "iopub.execute_input": "2020-11-21T23:33:45.202880Z",
     "iopub.status.busy": "2020-11-21T23:33:45.202349Z",
     "iopub.status.idle": "2020-11-21T23:33:45.205183Z",
     "shell.execute_reply": "2020-11-21T23:33:45.204723Z"
    },
    "papermill": {
     "duration": 0.071287,
     "end_time": "2020-11-21T23:33:45.205343",
     "exception": false,
     "start_time": "2020-11-21T23:33:45.134056",
     "status": "completed"
    },
    "pycharm": {
     "name": "#%%\n"
    },
    "tags": []
   },
   "outputs": [
    {
     "data": {
      "text/plain": [
       "{'covid_cases': 499155,\n",
       " 'shared_teks_by_generation_date': 58654,\n",
       " 'shared_teks_by_upload_date': 160620,\n",
       " 'shared_diagnoses': 15756,\n",
       " 'teks_per_shared_diagnosis': 10.194211728865195,\n",
       " 'shared_diagnoses_per_covid_case': 0.031565345433783094}"
      ]
     },
     "execution_count": 49,
     "metadata": {},
     "output_type": "execute_result"
    }
   ],
   "source": [
    "last_7_days_summary = weekly_result_summary_df.to_dict(orient=\"records\")[1]\n",
    "last_7_days_summary"
   ]
  },
  {
   "cell_type": "markdown",
   "metadata": {
    "collapsed": false,
    "papermill": {
     "duration": 0.078657,
     "end_time": "2020-11-21T23:33:45.354061",
     "exception": false,
     "start_time": "2020-11-21T23:33:45.275404",
     "status": "completed"
    },
    "tags": []
   },
   "source": [
    "## Report Results"
   ]
  },
  {
   "cell_type": "code",
   "execution_count": 50,
   "metadata": {
    "collapsed": false,
    "execution": {
     "iopub.execute_input": "2020-11-21T23:33:45.496282Z",
     "iopub.status.busy": "2020-11-21T23:33:45.495697Z",
     "iopub.status.idle": "2020-11-21T23:33:45.497856Z",
     "shell.execute_reply": "2020-11-21T23:33:45.497409Z"
    },
    "papermill": {
     "duration": 0.07655,
     "end_time": "2020-11-21T23:33:45.497971",
     "exception": false,
     "start_time": "2020-11-21T23:33:45.421421",
     "status": "completed"
    },
    "pycharm": {
     "name": "#%%\n"
    },
    "tags": []
   },
   "outputs": [],
   "source": [
    "display_column_name_mapping = {\n",
    "    \"sample_date\": \"Sample\\u00A0Date\\u00A0(UTC)\",\n",
    "    \"source_regions\": \"Source Countries\",\n",
    "    \"datetime_utc\": \"Timestamp (UTC)\",\n",
    "    \"upload_date\": \"Upload Date (UTC)\",\n",
    "    \"generation_to_upload_days\": \"Generation to Upload Period in Days\",\n",
    "    \"region\": \"Backend\",\n",
    "    \"region_x\": \"Backend\\u00A0(A)\",\n",
    "    \"region_y\": \"Backend\\u00A0(B)\",\n",
    "    \"common_teks\": \"Common TEKs Shared Between Backends\",\n",
    "    \"common_teks_fraction\": \"Fraction of TEKs in Backend (A) Available in Backend (B)\",\n",
    "    \"covid_cases\": \"COVID-19 Cases in Source Countries (7-day Rolling Average)\",\n",
    "    \"shared_teks_by_generation_date\": \"Shared TEKs by Generation Date\",\n",
    "    \"shared_teks_by_upload_date\": \"Shared TEKs by Upload Date\",\n",
    "    \"shared_diagnoses\": \"Shared Diagnoses (Estimation)\",\n",
    "    \"teks_per_shared_diagnosis\": \"TEKs Uploaded per Shared Diagnosis\",\n",
    "    \"shared_diagnoses_per_covid_case\": \"Usage Ratio (Fraction of Cases in Source Countries Which Shared Diagnosis)\",\n",
    "    \"shared_teks_uploaded_on_generation_date\": \"Shared TEKs Uploaded on Generation Date\",\n",
    "}"
   ]
  },
  {
   "cell_type": "code",
   "execution_count": 51,
   "metadata": {
    "collapsed": false,
    "execution": {
     "iopub.execute_input": "2020-11-21T23:33:45.634296Z",
     "iopub.status.busy": "2020-11-21T23:33:45.633766Z",
     "iopub.status.idle": "2020-11-21T23:33:45.636211Z",
     "shell.execute_reply": "2020-11-21T23:33:45.635758Z"
    },
    "papermill": {
     "duration": 0.075202,
     "end_time": "2020-11-21T23:33:45.636329",
     "exception": false,
     "start_time": "2020-11-21T23:33:45.561127",
     "status": "completed"
    },
    "pycharm": {
     "name": "#%%\n"
    },
    "tags": []
   },
   "outputs": [],
   "source": [
    "summary_columns = [\n",
    "    \"covid_cases\",\n",
    "    \"shared_teks_by_generation_date\",\n",
    "    \"shared_teks_by_upload_date\",\n",
    "    \"shared_teks_uploaded_on_generation_date\",\n",
    "    \"shared_diagnoses\",\n",
    "    \"teks_per_shared_diagnosis\",\n",
    "    \"shared_diagnoses_per_covid_case\",\n",
    "]"
   ]
  },
  {
   "cell_type": "markdown",
   "metadata": {
    "collapsed": false,
    "papermill": {
     "duration": 0.062351,
     "end_time": "2020-11-21T23:33:45.761304",
     "exception": false,
     "start_time": "2020-11-21T23:33:45.698953",
     "status": "completed"
    },
    "tags": []
   },
   "source": [
    "### Daily Summary Table"
   ]
  },
  {
   "cell_type": "code",
   "execution_count": 52,
   "metadata": {
    "collapsed": false,
    "execution": {
     "iopub.execute_input": "2020-11-21T23:33:45.901446Z",
     "iopub.status.busy": "2020-11-21T23:33:45.900904Z",
     "iopub.status.idle": "2020-11-21T23:33:45.912661Z",
     "shell.execute_reply": "2020-11-21T23:33:45.912223Z"
    },
    "papermill": {
     "duration": 0.087829,
     "end_time": "2020-11-21T23:33:45.912785",
     "exception": false,
     "start_time": "2020-11-21T23:33:45.824956",
     "status": "completed"
    },
    "pycharm": {
     "name": "#%%\n"
    },
    "tags": []
   },
   "outputs": [
    {
     "data": {
      "text/html": [
       "<div>\n",
       "<style scoped>\n",
       "    .dataframe tbody tr th:only-of-type {\n",
       "        vertical-align: middle;\n",
       "    }\n",
       "\n",
       "    .dataframe tbody tr th {\n",
       "        vertical-align: top;\n",
       "    }\n",
       "\n",
       "    .dataframe thead th {\n",
       "        text-align: right;\n",
       "    }\n",
       "</style>\n",
       "<table border=\"1\" class=\"dataframe\">\n",
       "  <thead>\n",
       "    <tr style=\"text-align: right;\">\n",
       "      <th></th>\n",
       "      <th></th>\n",
       "      <th>COVID-19 Cases in Source Countries (7-day Rolling Average)</th>\n",
       "      <th>Shared TEKs by Generation Date</th>\n",
       "      <th>Shared TEKs by Upload Date</th>\n",
       "      <th>Shared TEKs Uploaded on Generation Date</th>\n",
       "      <th>Shared Diagnoses (Estimation)</th>\n",
       "      <th>TEKs Uploaded per Shared Diagnosis</th>\n",
       "      <th>Usage Ratio (Fraction of Cases in Source Countries Which Shared Diagnosis)</th>\n",
       "    </tr>\n",
       "    <tr>\n",
       "      <th>Sample Date (UTC)</th>\n",
       "      <th>Source Countries</th>\n",
       "      <th></th>\n",
       "      <th></th>\n",
       "      <th></th>\n",
       "      <th></th>\n",
       "      <th></th>\n",
       "      <th></th>\n",
       "      <th></th>\n",
       "    </tr>\n",
       "  </thead>\n",
       "  <tbody>\n",
       "    <tr>\n",
       "      <th>2020-11-21</th>\n",
       "      <th>ES,DE,DK,HR,IE,IT,LV</th>\n",
       "      <td>70966</td>\n",
       "      <td>153</td>\n",
       "      <td>22605</td>\n",
       "      <td>153</td>\n",
       "      <td>2275</td>\n",
       "      <td>9.936264</td>\n",
       "      <td>0.032058</td>\n",
       "    </tr>\n",
       "    <tr>\n",
       "      <th>2020-11-20</th>\n",
       "      <th>ES,DE,DK,IE,IT,LV</th>\n",
       "      <td>68866</td>\n",
       "      <td>1635</td>\n",
       "      <td>26712</td>\n",
       "      <td>212</td>\n",
       "      <td>2617</td>\n",
       "      <td>10.207107</td>\n",
       "      <td>0.038001</td>\n",
       "    </tr>\n",
       "    <tr>\n",
       "      <th>2020-11-19</th>\n",
       "      <th>ES,DE,DK,IE,IT,LV</th>\n",
       "      <td>69974</td>\n",
       "      <td>4197</td>\n",
       "      <td>25678</td>\n",
       "      <td>211</td>\n",
       "      <td>2492</td>\n",
       "      <td>10.304173</td>\n",
       "      <td>0.035613</td>\n",
       "    </tr>\n",
       "    <tr>\n",
       "      <th>2020-11-18</th>\n",
       "      <th>ES,DE,DK,IE,IT,LV</th>\n",
       "      <td>70110</td>\n",
       "      <td>6678</td>\n",
       "      <td>29832</td>\n",
       "      <td>290</td>\n",
       "      <td>2915</td>\n",
       "      <td>10.233962</td>\n",
       "      <td>0.041578</td>\n",
       "    </tr>\n",
       "    <tr>\n",
       "      <th>2020-11-17</th>\n",
       "      <th>ES,DE,DK,IE,IT,LV</th>\n",
       "      <td>71150</td>\n",
       "      <td>9190</td>\n",
       "      <td>22734</td>\n",
       "      <td>222</td>\n",
       "      <td>2099</td>\n",
       "      <td>10.830872</td>\n",
       "      <td>0.029501</td>\n",
       "    </tr>\n",
       "    <tr>\n",
       "      <th>...</th>\n",
       "      <th>...</th>\n",
       "      <td>...</td>\n",
       "      <td>...</td>\n",
       "      <td>...</td>\n",
       "      <td>...</td>\n",
       "      <td>...</td>\n",
       "      <td>...</td>\n",
       "      <td>...</td>\n",
       "    </tr>\n",
       "    <tr>\n",
       "      <th>2020-09-03</th>\n",
       "      <th>ES</th>\n",
       "      <td>8429</td>\n",
       "      <td>51</td>\n",
       "      <td>49</td>\n",
       "      <td>0</td>\n",
       "      <td>19</td>\n",
       "      <td>2.578947</td>\n",
       "      <td>0.002254</td>\n",
       "    </tr>\n",
       "    <tr>\n",
       "      <th>2020-09-02</th>\n",
       "      <th>ES</th>\n",
       "      <td>8529</td>\n",
       "      <td>52</td>\n",
       "      <td>57</td>\n",
       "      <td>0</td>\n",
       "      <td>14</td>\n",
       "      <td>4.071429</td>\n",
       "      <td>0.001641</td>\n",
       "    </tr>\n",
       "    <tr>\n",
       "      <th>2020-09-01</th>\n",
       "      <th>ES</th>\n",
       "      <td>8346</td>\n",
       "      <td>46</td>\n",
       "      <td>39</td>\n",
       "      <td>0</td>\n",
       "      <td>14</td>\n",
       "      <td>2.785714</td>\n",
       "      <td>0.001677</td>\n",
       "    </tr>\n",
       "    <tr>\n",
       "      <th>2020-08-31</th>\n",
       "      <th>ES</th>\n",
       "      <td>8203</td>\n",
       "      <td>47</td>\n",
       "      <td>63</td>\n",
       "      <td>0</td>\n",
       "      <td>25</td>\n",
       "      <td>2.520000</td>\n",
       "      <td>0.003048</td>\n",
       "    </tr>\n",
       "    <tr>\n",
       "      <th>2020-08-30</th>\n",
       "      <th>ES</th>\n",
       "      <td>7605</td>\n",
       "      <td>59</td>\n",
       "      <td>29</td>\n",
       "      <td>0</td>\n",
       "      <td>16</td>\n",
       "      <td>1.812500</td>\n",
       "      <td>0.002104</td>\n",
       "    </tr>\n",
       "  </tbody>\n",
       "</table>\n",
       "<p>84 rows × 7 columns</p>\n",
       "</div>"
      ],
      "text/plain": [
       "                                        COVID-19 Cases in Source Countries (7-day Rolling Average)  \\\n",
       "Sample Date (UTC) Source Countries                                                                   \n",
       "2020-11-21        ES,DE,DK,HR,IE,IT,LV                                              70966            \n",
       "2020-11-20        ES,DE,DK,IE,IT,LV                                                 68866            \n",
       "2020-11-19        ES,DE,DK,IE,IT,LV                                                 69974            \n",
       "2020-11-18        ES,DE,DK,IE,IT,LV                                                 70110            \n",
       "2020-11-17        ES,DE,DK,IE,IT,LV                                                 71150            \n",
       "...                                                                                   ...            \n",
       "2020-09-03        ES                                                                 8429            \n",
       "2020-09-02        ES                                                                 8529            \n",
       "2020-09-01        ES                                                                 8346            \n",
       "2020-08-31        ES                                                                 8203            \n",
       "2020-08-30        ES                                                                 7605            \n",
       "\n",
       "                                        Shared TEKs by Generation Date  \\\n",
       "Sample Date (UTC) Source Countries                                       \n",
       "2020-11-21        ES,DE,DK,HR,IE,IT,LV                             153   \n",
       "2020-11-20        ES,DE,DK,IE,IT,LV                               1635   \n",
       "2020-11-19        ES,DE,DK,IE,IT,LV                               4197   \n",
       "2020-11-18        ES,DE,DK,IE,IT,LV                               6678   \n",
       "2020-11-17        ES,DE,DK,IE,IT,LV                               9190   \n",
       "...                                                                ...   \n",
       "2020-09-03        ES                                                51   \n",
       "2020-09-02        ES                                                52   \n",
       "2020-09-01        ES                                                46   \n",
       "2020-08-31        ES                                                47   \n",
       "2020-08-30        ES                                                59   \n",
       "\n",
       "                                        Shared TEKs by Upload Date  \\\n",
       "Sample Date (UTC) Source Countries                                   \n",
       "2020-11-21        ES,DE,DK,HR,IE,IT,LV                       22605   \n",
       "2020-11-20        ES,DE,DK,IE,IT,LV                          26712   \n",
       "2020-11-19        ES,DE,DK,IE,IT,LV                          25678   \n",
       "2020-11-18        ES,DE,DK,IE,IT,LV                          29832   \n",
       "2020-11-17        ES,DE,DK,IE,IT,LV                          22734   \n",
       "...                                                            ...   \n",
       "2020-09-03        ES                                            49   \n",
       "2020-09-02        ES                                            57   \n",
       "2020-09-01        ES                                            39   \n",
       "2020-08-31        ES                                            63   \n",
       "2020-08-30        ES                                            29   \n",
       "\n",
       "                                        Shared TEKs Uploaded on Generation Date  \\\n",
       "Sample Date (UTC) Source Countries                                                \n",
       "2020-11-21        ES,DE,DK,HR,IE,IT,LV                                      153   \n",
       "2020-11-20        ES,DE,DK,IE,IT,LV                                         212   \n",
       "2020-11-19        ES,DE,DK,IE,IT,LV                                         211   \n",
       "2020-11-18        ES,DE,DK,IE,IT,LV                                         290   \n",
       "2020-11-17        ES,DE,DK,IE,IT,LV                                         222   \n",
       "...                                                                         ...   \n",
       "2020-09-03        ES                                                          0   \n",
       "2020-09-02        ES                                                          0   \n",
       "2020-09-01        ES                                                          0   \n",
       "2020-08-31        ES                                                          0   \n",
       "2020-08-30        ES                                                          0   \n",
       "\n",
       "                                        Shared Diagnoses (Estimation)  \\\n",
       "Sample Date (UTC) Source Countries                                      \n",
       "2020-11-21        ES,DE,DK,HR,IE,IT,LV                           2275   \n",
       "2020-11-20        ES,DE,DK,IE,IT,LV                              2617   \n",
       "2020-11-19        ES,DE,DK,IE,IT,LV                              2492   \n",
       "2020-11-18        ES,DE,DK,IE,IT,LV                              2915   \n",
       "2020-11-17        ES,DE,DK,IE,IT,LV                              2099   \n",
       "...                                                               ...   \n",
       "2020-09-03        ES                                               19   \n",
       "2020-09-02        ES                                               14   \n",
       "2020-09-01        ES                                               14   \n",
       "2020-08-31        ES                                               25   \n",
       "2020-08-30        ES                                               16   \n",
       "\n",
       "                                        TEKs Uploaded per Shared Diagnosis  \\\n",
       "Sample Date (UTC) Source Countries                                           \n",
       "2020-11-21        ES,DE,DK,HR,IE,IT,LV                            9.936264   \n",
       "2020-11-20        ES,DE,DK,IE,IT,LV                              10.207107   \n",
       "2020-11-19        ES,DE,DK,IE,IT,LV                              10.304173   \n",
       "2020-11-18        ES,DE,DK,IE,IT,LV                              10.233962   \n",
       "2020-11-17        ES,DE,DK,IE,IT,LV                              10.830872   \n",
       "...                                                                    ...   \n",
       "2020-09-03        ES                                              2.578947   \n",
       "2020-09-02        ES                                              4.071429   \n",
       "2020-09-01        ES                                              2.785714   \n",
       "2020-08-31        ES                                              2.520000   \n",
       "2020-08-30        ES                                              1.812500   \n",
       "\n",
       "                                        Usage Ratio (Fraction of Cases in Source Countries Which Shared Diagnosis)  \n",
       "Sample Date (UTC) Source Countries                                                                                  \n",
       "2020-11-21        ES,DE,DK,HR,IE,IT,LV                                           0.032058                           \n",
       "2020-11-20        ES,DE,DK,IE,IT,LV                                              0.038001                           \n",
       "2020-11-19        ES,DE,DK,IE,IT,LV                                              0.035613                           \n",
       "2020-11-18        ES,DE,DK,IE,IT,LV                                              0.041578                           \n",
       "2020-11-17        ES,DE,DK,IE,IT,LV                                              0.029501                           \n",
       "...                                                                                   ...                           \n",
       "2020-09-03        ES                                                             0.002254                           \n",
       "2020-09-02        ES                                                             0.001641                           \n",
       "2020-09-01        ES                                                             0.001677                           \n",
       "2020-08-31        ES                                                             0.003048                           \n",
       "2020-08-30        ES                                                             0.002104                           \n",
       "\n",
       "[84 rows x 7 columns]"
      ]
     },
     "execution_count": 52,
     "metadata": {},
     "output_type": "execute_result"
    }
   ],
   "source": [
    "result_summary_df_ = result_summary_df.copy()\n",
    "result_summary_df = result_summary_df[summary_columns]\n",
    "result_summary_with_display_names_df = result_summary_df \\\n",
    "    .rename_axis(index=display_column_name_mapping) \\\n",
    "    .rename(columns=display_column_name_mapping)\n",
    "result_summary_with_display_names_df"
   ]
  },
  {
   "cell_type": "markdown",
   "metadata": {
    "collapsed": false,
    "papermill": {
     "duration": 0.066707,
     "end_time": "2020-11-21T23:33:46.043235",
     "exception": false,
     "start_time": "2020-11-21T23:33:45.976528",
     "status": "completed"
    },
    "tags": []
   },
   "source": [
    "### Daily Summary Plots"
   ]
  },
  {
   "cell_type": "code",
   "execution_count": 53,
   "metadata": {
    "collapsed": false,
    "execution": {
     "iopub.execute_input": "2020-11-21T23:33:46.184994Z",
     "iopub.status.busy": "2020-11-21T23:33:46.184453Z",
     "iopub.status.idle": "2020-11-21T23:33:48.084533Z",
     "shell.execute_reply": "2020-11-21T23:33:48.085078Z"
    },
    "papermill": {
     "duration": 1.977942,
     "end_time": "2020-11-21T23:33:48.085244",
     "exception": false,
     "start_time": "2020-11-21T23:33:46.107302",
     "status": "completed"
    },
    "pycharm": {
     "name": "#%%\n"
    },
    "tags": []
   },
   "outputs": [
    {
     "data": {
      "image/png": "[encoded data removed]",
      "text/plain": [
       "<Figure size 1080x1584 with 7 Axes>"
      ]
     },
     "metadata": {},
     "output_type": "display_data"
    }
   ],
   "source": [
    "result_plot_summary_df = result_summary_df.head(daily_plot_days)[summary_columns] \\\n",
    "    .droplevel(level=[\"source_regions\"]) \\\n",
    "    .rename_axis(index=display_column_name_mapping) \\\n",
    "    .rename(columns=display_column_name_mapping)\n",
    "summary_ax_list = result_plot_summary_df.sort_index(ascending=True).plot.bar(\n",
    "    title=f\"Daily Summary\",\n",
    "    rot=45, subplots=True, figsize=(15, 22), legend=False)\n",
    "ax_ = summary_ax_list[-1]\n",
    "ax_.get_figure().tight_layout()\n",
    "ax_.get_figure().subplots_adjust(top=0.95)\n",
    "ax_.yaxis.set_major_formatter(matplotlib.ticker.PercentFormatter(1.0))\n",
    "_ = ax_.set_xticklabels(sorted(result_plot_summary_df.index.strftime(\"%Y-%m-%d\").tolist()))"
   ]
  },
  {
   "cell_type": "markdown",
   "metadata": {
    "execution": {
     "iopub.execute_input": "2020-09-02T08:20:14.568088Z",
     "iopub.status.busy": "2020-09-02T08:20:14.567425Z",
     "iopub.status.idle": "2020-09-02T08:20:14.571422Z",
     "shell.execute_reply": "2020-09-02T08:20:14.571952Z"
    },
    "papermill": {
     "duration": 0.065898,
     "end_time": "2020-11-21T23:33:48.218177",
     "exception": false,
     "start_time": "2020-11-21T23:33:48.152279",
     "status": "completed"
    },
    "pycharm": {
     "name": "#%% md\n"
    },
    "tags": []
   },
   "source": [
    "### Daily Generation to Upload Period Table"
   ]
  },
  {
   "cell_type": "code",
   "execution_count": 54,
   "metadata": {
    "execution": {
     "iopub.execute_input": "2020-11-21T23:33:48.367394Z",
     "iopub.status.busy": "2020-11-21T23:33:48.366852Z",
     "iopub.status.idle": "2020-11-21T23:33:48.370424Z",
     "shell.execute_reply": "2020-11-21T23:33:48.369969Z"
    },
    "papermill": {
     "duration": 0.086425,
     "end_time": "2020-11-21T23:33:48.370542",
     "exception": false,
     "start_time": "2020-11-21T23:33:48.284117",
     "status": "completed"
    },
    "pycharm": {
     "name": "#%%\n"
    },
    "tags": []
   },
   "outputs": [
    {
     "data": {
      "text/html": [
       "<div>\n",
       "<style scoped>\n",
       "    .dataframe tbody tr th:only-of-type {\n",
       "        vertical-align: middle;\n",
       "    }\n",
       "\n",
       "    .dataframe tbody tr th {\n",
       "        vertical-align: top;\n",
       "    }\n",
       "\n",
       "    .dataframe thead th {\n",
       "        text-align: right;\n",
       "    }\n",
       "</style>\n",
       "<table border=\"1\" class=\"dataframe\">\n",
       "  <thead>\n",
       "    <tr style=\"text-align: right;\">\n",
       "      <th>Generation to Upload Period in Days</th>\n",
       "      <th>0</th>\n",
       "      <th>1</th>\n",
       "      <th>2</th>\n",
       "      <th>3</th>\n",
       "      <th>4</th>\n",
       "      <th>5</th>\n",
       "      <th>6</th>\n",
       "      <th>7</th>\n",
       "      <th>8</th>\n",
       "      <th>9</th>\n",
       "      <th>10</th>\n",
       "      <th>11</th>\n",
       "      <th>12</th>\n",
       "      <th>13</th>\n",
       "    </tr>\n",
       "    <tr>\n",
       "      <th>Upload Date (UTC)</th>\n",
       "      <th></th>\n",
       "      <th></th>\n",
       "      <th></th>\n",
       "      <th></th>\n",
       "      <th></th>\n",
       "      <th></th>\n",
       "      <th></th>\n",
       "      <th></th>\n",
       "      <th></th>\n",
       "      <th></th>\n",
       "      <th></th>\n",
       "      <th></th>\n",
       "      <th></th>\n",
       "      <th></th>\n",
       "    </tr>\n",
       "  </thead>\n",
       "  <tbody>\n",
       "    <tr>\n",
       "      <th>2020-11-21</th>\n",
       "      <td>153</td>\n",
       "      <td>1423</td>\n",
       "      <td>2275</td>\n",
       "      <td>2012</td>\n",
       "      <td>1903</td>\n",
       "      <td>1834</td>\n",
       "      <td>1749</td>\n",
       "      <td>1707</td>\n",
       "      <td>1676</td>\n",
       "      <td>1655</td>\n",
       "      <td>1607</td>\n",
       "      <td>1562</td>\n",
       "      <td>1539</td>\n",
       "      <td>1510</td>\n",
       "    </tr>\n",
       "    <tr>\n",
       "      <th>2020-11-20</th>\n",
       "      <td>212</td>\n",
       "      <td>1711</td>\n",
       "      <td>2617</td>\n",
       "      <td>2383</td>\n",
       "      <td>2249</td>\n",
       "      <td>2174</td>\n",
       "      <td>2111</td>\n",
       "      <td>2045</td>\n",
       "      <td>1979</td>\n",
       "      <td>1930</td>\n",
       "      <td>1878</td>\n",
       "      <td>1844</td>\n",
       "      <td>1799</td>\n",
       "      <td>1780</td>\n",
       "    </tr>\n",
       "    <tr>\n",
       "      <th>2020-11-19</th>\n",
       "      <td>211</td>\n",
       "      <td>1759</td>\n",
       "      <td>2492</td>\n",
       "      <td>2260</td>\n",
       "      <td>2112</td>\n",
       "      <td>2064</td>\n",
       "      <td>2010</td>\n",
       "      <td>1954</td>\n",
       "      <td>1893</td>\n",
       "      <td>1850</td>\n",
       "      <td>1818</td>\n",
       "      <td>1778</td>\n",
       "      <td>1756</td>\n",
       "      <td>1721</td>\n",
       "    </tr>\n",
       "    <tr>\n",
       "      <th>2020-11-18</th>\n",
       "      <td>290</td>\n",
       "      <td>2190</td>\n",
       "      <td>2915</td>\n",
       "      <td>2586</td>\n",
       "      <td>2490</td>\n",
       "      <td>2415</td>\n",
       "      <td>2323</td>\n",
       "      <td>2250</td>\n",
       "      <td>2177</td>\n",
       "      <td>2117</td>\n",
       "      <td>2071</td>\n",
       "      <td>2033</td>\n",
       "      <td>2006</td>\n",
       "      <td>1969</td>\n",
       "    </tr>\n",
       "    <tr>\n",
       "      <th>2020-11-17</th>\n",
       "      <td>222</td>\n",
       "      <td>1727</td>\n",
       "      <td>2099</td>\n",
       "      <td>2040</td>\n",
       "      <td>1955</td>\n",
       "      <td>1845</td>\n",
       "      <td>1759</td>\n",
       "      <td>1694</td>\n",
       "      <td>1645</td>\n",
       "      <td>1599</td>\n",
       "      <td>1578</td>\n",
       "      <td>1549</td>\n",
       "      <td>1529</td>\n",
       "      <td>1493</td>\n",
       "    </tr>\n",
       "    <tr>\n",
       "      <th>2020-11-16</th>\n",
       "      <td>194</td>\n",
       "      <td>1375</td>\n",
       "      <td>1741</td>\n",
       "      <td>1666</td>\n",
       "      <td>1545</td>\n",
       "      <td>1422</td>\n",
       "      <td>1336</td>\n",
       "      <td>1284</td>\n",
       "      <td>1236</td>\n",
       "      <td>1210</td>\n",
       "      <td>1189</td>\n",
       "      <td>1156</td>\n",
       "      <td>1129</td>\n",
       "      <td>1096</td>\n",
       "    </tr>\n",
       "    <tr>\n",
       "      <th>2020-11-15</th>\n",
       "      <td>224</td>\n",
       "      <td>1092</td>\n",
       "      <td>1611</td>\n",
       "      <td>1468</td>\n",
       "      <td>1368</td>\n",
       "      <td>1256</td>\n",
       "      <td>1181</td>\n",
       "      <td>1114</td>\n",
       "      <td>1080</td>\n",
       "      <td>1038</td>\n",
       "      <td>1001</td>\n",
       "      <td>974</td>\n",
       "      <td>950</td>\n",
       "      <td>930</td>\n",
       "    </tr>\n",
       "    <tr>\n",
       "      <th>2020-11-14</th>\n",
       "      <td>211</td>\n",
       "      <td>1616</td>\n",
       "      <td>2281</td>\n",
       "      <td>2074</td>\n",
       "      <td>1947</td>\n",
       "      <td>1842</td>\n",
       "      <td>1765</td>\n",
       "      <td>1710</td>\n",
       "      <td>1655</td>\n",
       "      <td>1613</td>\n",
       "      <td>1573</td>\n",
       "      <td>1534</td>\n",
       "      <td>1502</td>\n",
       "      <td>1475</td>\n",
       "    </tr>\n",
       "    <tr>\n",
       "      <th>2020-11-13</th>\n",
       "      <td>306</td>\n",
       "      <td>2178</td>\n",
       "      <td>2890</td>\n",
       "      <td>2669</td>\n",
       "      <td>2521</td>\n",
       "      <td>2378</td>\n",
       "      <td>2281</td>\n",
       "      <td>2224</td>\n",
       "      <td>2163</td>\n",
       "      <td>2110</td>\n",
       "      <td>2066</td>\n",
       "      <td>2025</td>\n",
       "      <td>1970</td>\n",
       "      <td>1948</td>\n",
       "    </tr>\n",
       "    <tr>\n",
       "      <th>2020-11-12</th>\n",
       "      <td>317</td>\n",
       "      <td>2184</td>\n",
       "      <td>3205</td>\n",
       "      <td>2915</td>\n",
       "      <td>2701</td>\n",
       "      <td>2606</td>\n",
       "      <td>2490</td>\n",
       "      <td>2410</td>\n",
       "      <td>2319</td>\n",
       "      <td>2236</td>\n",
       "      <td>2183</td>\n",
       "      <td>2113</td>\n",
       "      <td>2074</td>\n",
       "      <td>2039</td>\n",
       "    </tr>\n",
       "    <tr>\n",
       "      <th>2020-11-11</th>\n",
       "      <td>300</td>\n",
       "      <td>1884</td>\n",
       "      <td>3029</td>\n",
       "      <td>2726</td>\n",
       "      <td>2628</td>\n",
       "      <td>2523</td>\n",
       "      <td>2420</td>\n",
       "      <td>2318</td>\n",
       "      <td>2240</td>\n",
       "      <td>2172</td>\n",
       "      <td>2116</td>\n",
       "      <td>2072</td>\n",
       "      <td>2027</td>\n",
       "      <td>1990</td>\n",
       "    </tr>\n",
       "    <tr>\n",
       "      <th>2020-11-10</th>\n",
       "      <td>292</td>\n",
       "      <td>1466</td>\n",
       "      <td>2086</td>\n",
       "      <td>2003</td>\n",
       "      <td>1908</td>\n",
       "      <td>1781</td>\n",
       "      <td>1667</td>\n",
       "      <td>1569</td>\n",
       "      <td>1505</td>\n",
       "      <td>1455</td>\n",
       "      <td>1409</td>\n",
       "      <td>1374</td>\n",
       "      <td>1350</td>\n",
       "      <td>1298</td>\n",
       "    </tr>\n",
       "    <tr>\n",
       "      <th>2020-11-09</th>\n",
       "      <td>236</td>\n",
       "      <td>1126</td>\n",
       "      <td>1683</td>\n",
       "      <td>1602</td>\n",
       "      <td>1480</td>\n",
       "      <td>1384</td>\n",
       "      <td>1285</td>\n",
       "      <td>1215</td>\n",
       "      <td>1168</td>\n",
       "      <td>1127</td>\n",
       "      <td>1108</td>\n",
       "      <td>1059</td>\n",
       "      <td>1034</td>\n",
       "      <td>1010</td>\n",
       "    </tr>\n",
       "    <tr>\n",
       "      <th>2020-11-08</th>\n",
       "      <td>209</td>\n",
       "      <td>929</td>\n",
       "      <td>1809</td>\n",
       "      <td>1640</td>\n",
       "      <td>1502</td>\n",
       "      <td>1394</td>\n",
       "      <td>1315</td>\n",
       "      <td>1247</td>\n",
       "      <td>1202</td>\n",
       "      <td>1167</td>\n",
       "      <td>1141</td>\n",
       "      <td>1119</td>\n",
       "      <td>1081</td>\n",
       "      <td>1061</td>\n",
       "    </tr>\n",
       "  </tbody>\n",
       "</table>\n",
       "</div>"
      ],
      "text/plain": [
       "Generation to Upload Period in Days   0     1     2     3     4     5     6   \\\n",
       "Upload Date (UTC)                                                              \n",
       "2020-11-21                           153  1423  2275  2012  1903  1834  1749   \n",
       "2020-11-20                           212  1711  2617  2383  2249  2174  2111   \n",
       "2020-11-19                           211  1759  2492  2260  2112  2064  2010   \n",
       "2020-11-18                           290  2190  2915  2586  2490  2415  2323   \n",
       "2020-11-17                           222  1727  2099  2040  1955  1845  1759   \n",
       "2020-11-16                           194  1375  1741  1666  1545  1422  1336   \n",
       "2020-11-15                           224  1092  1611  1468  1368  1256  1181   \n",
       "2020-11-14                           211  1616  2281  2074  1947  1842  1765   \n",
       "2020-11-13                           306  2178  2890  2669  2521  2378  2281   \n",
       "2020-11-12                           317  2184  3205  2915  2701  2606  2490   \n",
       "2020-11-11                           300  1884  3029  2726  2628  2523  2420   \n",
       "2020-11-10                           292  1466  2086  2003  1908  1781  1667   \n",
       "2020-11-09                           236  1126  1683  1602  1480  1384  1285   \n",
       "2020-11-08                           209   929  1809  1640  1502  1394  1315   \n",
       "\n",
       "Generation to Upload Period in Days    7     8     9     10    11    12    13  \n",
       "Upload Date (UTC)                                                              \n",
       "2020-11-21                           1707  1676  1655  1607  1562  1539  1510  \n",
       "2020-11-20                           2045  1979  1930  1878  1844  1799  1780  \n",
       "2020-11-19                           1954  1893  1850  1818  1778  1756  1721  \n",
       "2020-11-18                           2250  2177  2117  2071  2033  2006  1969  \n",
       "2020-11-17                           1694  1645  1599  1578  1549  1529  1493  \n",
       "2020-11-16                           1284  1236  1210  1189  1156  1129  1096  \n",
       "2020-11-15                           1114  1080  1038  1001   974   950   930  \n",
       "2020-11-14                           1710  1655  1613  1573  1534  1502  1475  \n",
       "2020-11-13                           2224  2163  2110  2066  2025  1970  1948  \n",
       "2020-11-12                           2410  2319  2236  2183  2113  2074  2039  \n",
       "2020-11-11                           2318  2240  2172  2116  2072  2027  1990  \n",
       "2020-11-10                           1569  1505  1455  1409  1374  1350  1298  \n",
       "2020-11-09                           1215  1168  1127  1108  1059  1034  1010  \n",
       "2020-11-08                           1247  1202  1167  1141  1119  1081  1061  "
      ]
     },
     "execution_count": 54,
     "metadata": {},
     "output_type": "execute_result"
    }
   ],
   "source": [
    "display_generation_to_upload_period_pivot_df = \\\n",
    "    generation_to_upload_period_pivot_df \\\n",
    "        .head(backend_generation_days)\n",
    "display_generation_to_upload_period_pivot_df \\\n",
    "    .head(backend_generation_days) \\\n",
    "    .rename_axis(columns=display_column_name_mapping) \\\n",
    "    .rename_axis(index=display_column_name_mapping)"
   ]
  },
  {
   "cell_type": "code",
   "execution_count": 55,
   "metadata": {
    "collapsed": false,
    "execution": {
     "iopub.execute_input": "2020-11-21T23:33:48.527889Z",
     "iopub.status.busy": "2020-11-21T23:33:48.527312Z",
     "iopub.status.idle": "2020-11-21T23:33:49.449814Z",
     "shell.execute_reply": "2020-11-21T23:33:49.450243Z"
    },
    "papermill": {
     "duration": 1.012994,
     "end_time": "2020-11-21T23:33:49.450397",
     "exception": false,
     "start_time": "2020-11-21T23:33:48.437403",
     "status": "completed"
    },
    "pycharm": {
     "name": "#%%\n"
    },
    "tags": []
   },
   "outputs": [
    {
     "data": {
      "image/png": "[encoded data removed]",
      "text/plain": [
       "<Figure size 864x676.8 with 2 Axes>"
      ]
     },
     "metadata": {},
     "output_type": "display_data"
    }
   ],
   "source": [
    "fig, generation_to_upload_period_pivot_table_ax = plt.subplots(\n",
    "    figsize=(12, 1 + 0.6 * len(display_generation_to_upload_period_pivot_df)))\n",
    "generation_to_upload_period_pivot_table_ax.set_title(\n",
    "    \"Shared TEKs Generation to Upload Period Table\")\n",
    "sns.heatmap(\n",
    "    data=display_generation_to_upload_period_pivot_df\n",
    "        .rename_axis(columns=display_column_name_mapping)\n",
    "        .rename_axis(index=display_column_name_mapping),\n",
    "    fmt=\".0f\",\n",
    "    annot=True,\n",
    "    ax=generation_to_upload_period_pivot_table_ax)\n",
    "generation_to_upload_period_pivot_table_ax.get_figure().tight_layout()"
   ]
  },
  {
   "cell_type": "markdown",
   "metadata": {
    "collapsed": false,
    "papermill": {
     "duration": 0.077649,
     "end_time": "2020-11-21T23:33:49.604230",
     "exception": false,
     "start_time": "2020-11-21T23:33:49.526581",
     "status": "completed"
    },
    "tags": []
   },
   "source": [
    "### Hourly Summary Plots "
   ]
  },
  {
   "cell_type": "code",
   "execution_count": 56,
   "metadata": {
    "collapsed": false,
    "execution": {
     "iopub.execute_input": "2020-11-21T23:33:49.780106Z",
     "iopub.status.busy": "2020-11-21T23:33:49.777954Z",
     "iopub.status.idle": "2020-11-21T23:33:50.091185Z",
     "shell.execute_reply": "2020-11-21T23:33:50.091972Z"
    },
    "papermill": {
     "duration": 0.411977,
     "end_time": "2020-11-21T23:33:50.092136",
     "exception": false,
     "start_time": "2020-11-21T23:33:49.680159",
     "status": "completed"
    },
    "pycharm": {
     "name": "#%%\n"
    },
    "tags": []
   },
   "outputs": [
    {
     "data": {
      "image/png": "[encoded data removed]",
      "text/plain": [
       "<Figure size 1080x432 with 1 Axes>"
      ]
     },
     "metadata": {},
     "output_type": "display_data"
    }
   ],
   "source": [
    "hourly_summary_ax_list = hourly_summary_df \\\n",
    "    .rename_axis(index=display_column_name_mapping) \\\n",
    "    .rename(columns=display_column_name_mapping) \\\n",
    "    .plot.bar(\n",
    "        title=f\"Last 24h Summary\",\n",
    "        rot=45, subplots=True, legend=False)\n",
    "ax_ = hourly_summary_ax_list[-1]\n",
    "ax_.get_figure().tight_layout()\n",
    "ax_.get_figure().subplots_adjust(top=0.9)\n",
    "_ = ax_.set_xticklabels(sorted(hourly_summary_df.index.strftime(\"%Y-%m-%d@%H\").tolist()))"
   ]
  },
  {
   "cell_type": "markdown",
   "metadata": {
    "collapsed": false,
    "papermill": {
     "duration": 0.075399,
     "end_time": "2020-11-21T23:33:50.244244",
     "exception": false,
     "start_time": "2020-11-21T23:33:50.168845",
     "status": "completed"
    },
    "tags": []
   },
   "source": [
    "### Publish Results"
   ]
  },
  {
   "cell_type": "code",
   "execution_count": 57,
   "metadata": {
    "collapsed": false,
    "execution": {
     "iopub.execute_input": "2020-11-21T23:33:50.404037Z",
     "iopub.status.busy": "2020-11-21T23:33:50.403441Z",
     "iopub.status.idle": "2020-11-21T23:33:50.405733Z",
     "shell.execute_reply": "2020-11-21T23:33:50.405296Z"
    },
    "papermill": {
     "duration": 0.08432,
     "end_time": "2020-11-21T23:33:50.405853",
     "exception": false,
     "start_time": "2020-11-21T23:33:50.321533",
     "status": "completed"
    },
    "pycharm": {
     "name": "#%%\n"
    },
    "tags": []
   },
   "outputs": [],
   "source": [
    "def get_temporary_image_path() -> str:\n",
    "    return os.path.join(tempfile.gettempdir(), str(uuid.uuid4()) + \".png\")\n",
    "\n",
    "def save_temporary_plot_image(ax):\n",
    "    if isinstance(ax, np.ndarray):\n",
    "        ax = ax[0]\n",
    "    media_path = get_temporary_image_path()\n",
    "    ax.get_figure().savefig(media_path)\n",
    "    return media_path\n",
    "\n",
    "def save_temporary_dataframe_image(df):\n",
    "    import dataframe_image as dfi\n",
    "    media_path = get_temporary_image_path()\n",
    "    dfi.export(df, media_path)\n",
    "    return media_path"
   ]
  },
  {
   "cell_type": "code",
   "execution_count": 58,
   "metadata": {
    "collapsed": false,
    "execution": {
     "iopub.execute_input": "2020-11-21T23:33:50.566717Z",
     "iopub.status.busy": "2020-11-21T23:33:50.566103Z",
     "iopub.status.idle": "2020-11-21T23:33:50.597466Z",
     "shell.execute_reply": "2020-11-21T23:33:50.598317Z"
    },
    "papermill": {
     "duration": 0.117028,
     "end_time": "2020-11-21T23:33:50.598471",
     "exception": false,
     "start_time": "2020-11-21T23:33:50.481443",
     "status": "completed"
    },
    "pycharm": {
     "name": "#%%\n"
    },
    "tags": []
   },
   "outputs": [
    {
     "name": "stderr",
     "output_type": "stream",
     "text": [
      "<ipython-input-58-bd16b454de40>:49: FutureWarning: `item` has been deprecated and will be removed in a future version\n",
      "  extraction_date_result_summary_df.covid_cases.item()\n",
      "<ipython-input-58-bd16b454de40>:51: FutureWarning: `item` has been deprecated and will be removed in a future version\n",
      "  extraction_date_result_summary_df.shared_teks_by_generation_date.item()\n",
      "<ipython-input-58-bd16b454de40>:53: FutureWarning: `item` has been deprecated and will be removed in a future version\n",
      "  extraction_date_result_summary_df.shared_teks_by_upload_date.item()\n",
      "<ipython-input-58-bd16b454de40>:55: FutureWarning: `item` has been deprecated and will be removed in a future version\n",
      "  extraction_date_result_summary_df.shared_diagnoses.item()\n",
      "<ipython-input-58-bd16b454de40>:57: FutureWarning: `item` has been deprecated and will be removed in a future version\n",
      "  extraction_date_result_summary_df.teks_per_shared_diagnosis.item()\n",
      "<ipython-input-58-bd16b454de40>:59: FutureWarning: `item` has been deprecated and will be removed in a future version\n",
      "  extraction_date_result_summary_df.shared_diagnoses_per_covid_case.item()\n"
     ]
    }
   ],
   "source": [
    "github_repository = os.environ.get(\"GITHUB_REPOSITORY\")\n",
    "if github_repository is None:\n",
    "    github_repository = \"pvieito/Radar-STATS\"\n",
    "\n",
    "github_project_base_url = \"https://github.com/\" + github_repository\n",
    "\n",
    "display_formatters = {\n",
    "    display_column_name_mapping[\"teks_per_shared_diagnosis\"]: lambda x: f\"{x:.2f}\",\n",
    "    display_column_name_mapping[\"shared_diagnoses_per_covid_case\"]: lambda x: f\"{x:.2%}\",\n",
    "}\n",
    "daily_summary_table_html = result_summary_with_display_names_df \\\n",
    "    .head(daily_plot_days) \\\n",
    "    .rename_axis(index=display_column_name_mapping) \\\n",
    "    .rename(columns=display_column_name_mapping) \\\n",
    "    .to_html(formatters=display_formatters)\n",
    "multi_backend_summary_table_html = multi_backend_summary_df \\\n",
    "    .head(daily_plot_days) \\\n",
    "    .rename_axis(columns=display_column_name_mapping) \\\n",
    "    .rename(columns=display_column_name_mapping) \\\n",
    "    .rename_axis(index=display_column_name_mapping) \\\n",
    "    .to_html(formatters=display_formatters)\n",
    "\n",
    "def format_multi_backend_cross_sharing_fraction(x):\n",
    "    if pd.isna(x):\n",
    "        return \"-\"\n",
    "    elif round(x * 100, 1) == 0:\n",
    "        return \"\"\n",
    "    else:\n",
    "        return f\"{x:.1%}\"\n",
    "\n",
    "multi_backend_cross_sharing_summary_table_html = multi_backend_cross_sharing_summary_df \\\n",
    "    .rename_axis(columns=display_column_name_mapping) \\\n",
    "    .rename(columns=display_column_name_mapping) \\\n",
    "    .rename_axis(index=display_column_name_mapping) \\\n",
    "    .to_html(\n",
    "        classes=\"table-center\",\n",
    "        formatters=display_formatters,\n",
    "        float_format=format_multi_backend_cross_sharing_fraction)\n",
    "multi_backend_cross_sharing_summary_table_html = \\\n",
    "    multi_backend_cross_sharing_summary_table_html \\\n",
    "        .replace(\"<tr>\",\"<tr style=\\\"text-align: center;\\\">\")\n",
    "\n",
    "extraction_date_result_summary_df = \\\n",
    "    result_summary_df[result_summary_df.index.get_level_values(\"sample_date\") == extraction_date]\n",
    "extraction_date_result_hourly_summary_df = \\\n",
    "    hourly_summary_df[hourly_summary_df.extraction_date_with_hour == extraction_date_with_hour]\n",
    "\n",
    "covid_cases = \\\n",
    "    extraction_date_result_summary_df.covid_cases.item()\n",
    "shared_teks_by_generation_date = \\\n",
    "    extraction_date_result_summary_df.shared_teks_by_generation_date.item()\n",
    "shared_teks_by_upload_date = \\\n",
    "    extraction_date_result_summary_df.shared_teks_by_upload_date.item()\n",
    "shared_diagnoses = \\\n",
    "    extraction_date_result_summary_df.shared_diagnoses.item()\n",
    "teks_per_shared_diagnosis = \\\n",
    "    extraction_date_result_summary_df.teks_per_shared_diagnosis.item()\n",
    "shared_diagnoses_per_covid_case = \\\n",
    "    extraction_date_result_summary_df.shared_diagnoses_per_covid_case.item()\n",
    "\n",
    "shared_teks_by_upload_date_last_hour = \\\n",
    "    extraction_date_result_hourly_summary_df.shared_teks_by_upload_date.sum().astype(int)\n",
    "\n",
    "display_source_regions = \", \".join(report_source_regions)\n",
    "if len(report_source_regions) == 1:\n",
    "    display_brief_source_regions = report_source_regions[0]\n",
    "else:\n",
    "    display_brief_source_regions = f\"{len(report_source_regions)} 🇪🇺\""
   ]
  },
  {
   "cell_type": "code",
   "execution_count": 59,
   "metadata": {
    "execution": {
     "iopub.execute_input": "2020-11-21T23:33:50.769248Z",
     "iopub.status.busy": "2020-11-21T23:33:50.767835Z",
     "iopub.status.idle": "2020-11-21T23:33:58.451463Z",
     "shell.execute_reply": "2020-11-21T23:33:58.451952Z"
    },
    "papermill": {
     "duration": 7.775751,
     "end_time": "2020-11-21T23:33:58.452118",
     "exception": false,
     "start_time": "2020-11-21T23:33:50.676367",
     "status": "completed"
    },
    "pycharm": {
     "name": "#%%\n"
    },
    "tags": []
   },
   "outputs": [],
   "source": [
    "summary_plots_image_path = save_temporary_plot_image(\n",
    "    ax=summary_ax_list)\n",
    "summary_table_image_path = save_temporary_dataframe_image(\n",
    "    df=result_summary_with_display_names_df)\n",
    "hourly_summary_plots_image_path = save_temporary_plot_image(\n",
    "    ax=hourly_summary_ax_list)\n",
    "multi_backend_summary_table_image_path = save_temporary_dataframe_image(\n",
    "    df=multi_backend_summary_df)\n",
    "generation_to_upload_period_pivot_table_image_path = save_temporary_plot_image(\n",
    "    ax=generation_to_upload_period_pivot_table_ax)"
   ]
  },
  {
   "cell_type": "markdown",
   "metadata": {
    "execution": {
     "iopub.execute_input": "2020-09-02T08:20:16.981187Z",
     "iopub.status.busy": "2020-09-02T08:20:16.980584Z",
     "iopub.status.idle": "2020-09-02T08:20:20.068070Z",
     "shell.execute_reply": "2020-09-02T08:20:20.068598Z"
    },
    "papermill": {
     "duration": 0.07551,
     "end_time": "2020-11-21T23:33:58.607369",
     "exception": false,
     "start_time": "2020-11-21T23:33:58.531859",
     "status": "completed"
    },
    "pycharm": {
     "name": "#%% md\n"
    },
    "tags": []
   },
   "source": [
    "### Save Results"
   ]
  },
  {
   "cell_type": "code",
   "execution_count": 60,
   "metadata": {
    "collapsed": false,
    "execution": {
     "iopub.execute_input": "2020-11-21T23:33:58.768899Z",
     "iopub.status.busy": "2020-11-21T23:33:58.768224Z",
     "iopub.status.idle": "2020-11-21T23:33:58.800559Z",
     "shell.execute_reply": "2020-11-21T23:33:58.799425Z"
    },
    "papermill": {
     "duration": 0.117672,
     "end_time": "2020-11-21T23:33:58.800703",
     "exception": false,
     "start_time": "2020-11-21T23:33:58.683031",
     "status": "completed"
    },
    "pycharm": {
     "name": "#%%\n"
    },
    "tags": []
   },
   "outputs": [],
   "source": [
    "report_resources_path_prefix = \"Data/Resources/Current/RadarCOVID-Report-\"\n",
    "result_summary_df.to_csv(\n",
    "    report_resources_path_prefix + \"Summary-Table.csv\")\n",
    "result_summary_df.to_html(\n",
    "    report_resources_path_prefix + \"Summary-Table.html\")\n",
    "hourly_summary_df.to_csv(\n",
    "    report_resources_path_prefix + \"Hourly-Summary-Table.csv\")\n",
    "multi_backend_summary_df.to_csv(\n",
    "    report_resources_path_prefix + \"Multi-Backend-Summary-Table.csv\")\n",
    "multi_backend_cross_sharing_summary_df.to_csv(\n",
    "    report_resources_path_prefix + \"Multi-Backend-Cross-Sharing-Summary-Table.csv\")\n",
    "generation_to_upload_period_pivot_df.to_csv(\n",
    "    report_resources_path_prefix + \"Generation-Upload-Period-Table.csv\")\n",
    "_ = shutil.copyfile(\n",
    "    summary_plots_image_path,\n",
    "    report_resources_path_prefix + \"Summary-Plots.png\")\n",
    "_ = shutil.copyfile(\n",
    "    summary_table_image_path,\n",
    "    report_resources_path_prefix + \"Summary-Table.png\")\n",
    "_ = shutil.copyfile(\n",
    "    hourly_summary_plots_image_path,\n",
    "    report_resources_path_prefix + \"Hourly-Summary-Plots.png\")\n",
    "_ = shutil.copyfile(\n",
    "    multi_backend_summary_table_image_path,\n",
    "    report_resources_path_prefix + \"Multi-Backend-Summary-Table.png\")\n",
    "_ = shutil.copyfile(\n",
    "    generation_to_upload_period_pivot_table_image_path,\n",
    "    report_resources_path_prefix + \"Generation-Upload-Period-Table.png\")"
   ]
  },
  {
   "cell_type": "markdown",
   "metadata": {
    "collapsed": false,
    "papermill": {
     "duration": 0.078806,
     "end_time": "2020-11-21T23:33:58.954010",
     "exception": false,
     "start_time": "2020-11-21T23:33:58.875204",
     "status": "completed"
    },
    "pycharm": {
     "name": "#%% md\n"
    },
    "tags": []
   },
   "source": [
    "### Publish Results as JSON"
   ]
  },
  {
   "cell_type": "code",
   "execution_count": 61,
   "metadata": {
    "execution": {
     "iopub.execute_input": "2020-11-21T23:33:59.129014Z",
     "iopub.status.busy": "2020-11-21T23:33:59.127539Z",
     "iopub.status.idle": "2020-11-21T23:33:59.133505Z",
     "shell.execute_reply": "2020-11-21T23:33:59.133932Z"
    },
    "papermill": {
     "duration": 0.102673,
     "end_time": "2020-11-21T23:33:59.134081",
     "exception": false,
     "start_time": "2020-11-21T23:33:59.031408",
     "status": "completed"
    },
    "pycharm": {
     "name": "#%%\n"
    },
    "tags": []
   },
   "outputs": [],
   "source": [
    "def generate_summary_api_results(df: pd.DataFrame) -> list:\n",
    "    api_df = df.reset_index().copy()\n",
    "    api_df[\"sample_date_string\"] = \\\n",
    "        api_df[\"sample_date\"].dt.strftime(\"%Y-%m-%d\")\n",
    "    api_df[\"source_regions\"] = \\\n",
    "        api_df[\"source_regions\"].apply(lambda x: x.split(\",\"))\n",
    "    return api_df.to_dict(orient=\"records\")\n",
    "\n",
    "summary_api_results = \\\n",
    "    generate_summary_api_results(df=result_summary_df)\n",
    "today_summary_api_results = \\\n",
    "    generate_summary_api_results(df=extraction_date_result_summary_df)[0]\n",
    "\n",
    "summary_results = dict(\n",
    "    backend_identifier=report_backend_identifier,\n",
    "    source_regions=report_source_regions,\n",
    "    extraction_datetime=extraction_datetime,\n",
    "    extraction_date=extraction_date,\n",
    "    extraction_date_with_hour=extraction_date_with_hour,\n",
    "    last_hour=dict(\n",
    "        shared_teks_by_upload_date=shared_teks_by_upload_date_last_hour,\n",
    "        shared_diagnoses=0,\n",
    "    ),\n",
    "    today=today_summary_api_results,\n",
    "    last_7_days=last_7_days_summary,\n",
    "    daily_results=summary_api_results)\n",
    "\n",
    "summary_results = \\\n",
    "    json.loads(pd.Series([summary_results]).to_json(orient=\"records\"))[0]\n",
    "\n",
    "with open(report_resources_path_prefix + \"Summary-Results.json\", \"w\") as f:\n",
    "    json.dump(summary_results, f, indent=4)"
   ]
  },
  {
   "cell_type": "markdown",
   "metadata": {
    "execution": {
     "iopub.execute_input": "2020-09-02T08:20:20.895901Z",
     "iopub.status.busy": "2020-09-02T08:20:20.895301Z",
     "iopub.status.idle": "2020-09-02T08:20:20.942286Z",
     "shell.execute_reply": "2020-09-02T08:20:20.942834Z"
    },
    "papermill": {
     "duration": 0.075662,
     "end_time": "2020-11-21T23:33:59.286361",
     "exception": false,
     "start_time": "2020-11-21T23:33:59.210699",
     "status": "completed"
    },
    "pycharm": {
     "name": "#%% md\n"
    },
    "tags": []
   },
   "source": [
    "### Publish on README"
   ]
  },
  {
   "cell_type": "code",
   "execution_count": 62,
   "metadata": {
    "collapsed": false,
    "execution": {
     "iopub.execute_input": "2020-11-21T23:33:59.447937Z",
     "iopub.status.busy": "2020-11-21T23:33:59.447329Z",
     "iopub.status.idle": "2020-11-21T23:33:59.449726Z",
     "shell.execute_reply": "2020-11-21T23:33:59.450220Z"
    },
    "papermill": {
     "duration": 0.087922,
     "end_time": "2020-11-21T23:33:59.450364",
     "exception": false,
     "start_time": "2020-11-21T23:33:59.362442",
     "status": "completed"
    },
    "pycharm": {
     "name": "#%%\n"
    },
    "tags": []
   },
   "outputs": [],
   "source": [
    "with open(\"Data/Templates/README.md\", \"r\") as f:\n",
    "    readme_contents = f.read()\n",
    "\n",
    "readme_contents = readme_contents.format(\n",
    "    extraction_date_with_hour=extraction_date_with_hour,\n",
    "    github_project_base_url=github_project_base_url,\n",
    "    daily_summary_table_html=daily_summary_table_html,\n",
    "    multi_backend_summary_table_html=multi_backend_summary_table_html,\n",
    "    multi_backend_cross_sharing_summary_table_html=multi_backend_cross_sharing_summary_table_html,\n",
    "    display_source_regions=display_source_regions)\n",
    "\n",
    "with open(\"README.md\", \"w\") as f:\n",
    "    f.write(readme_contents)"
   ]
  },
  {
   "cell_type": "markdown",
   "metadata": {
    "collapsed": false,
    "papermill": {
     "duration": 0.075172,
     "end_time": "2020-11-21T23:33:59.608802",
     "exception": false,
     "start_time": "2020-11-21T23:33:59.533630",
     "status": "completed"
    },
    "pycharm": {
     "name": "#%% md\n"
    },
    "tags": []
   },
   "source": [
    "### Publish on Twitter"
   ]
  },
  {
   "cell_type": "code",
   "execution_count": 63,
   "metadata": {
    "collapsed": false,
    "execution": {
     "iopub.execute_input": "2020-11-21T23:33:59.777105Z",
     "iopub.status.busy": "2020-11-21T23:33:59.776512Z",
     "iopub.status.idle": "2020-11-21T23:34:10.380282Z",
     "shell.execute_reply": "2020-11-21T23:34:10.379413Z"
    },
    "papermill": {
     "duration": 10.694379,
     "end_time": "2020-11-21T23:34:10.380417",
     "exception": false,
     "start_time": "2020-11-21T23:33:59.686038",
     "status": "completed"
    },
    "pycharm": {
     "name": "#%%\n"
    },
    "tags": []
   },
   "outputs": [],
   "source": [
    "enable_share_to_twitter = os.environ.get(\"RADARCOVID_REPORT__ENABLE_PUBLISH_ON_TWITTER\")\n",
    "github_event_name = os.environ.get(\"GITHUB_EVENT_NAME\")\n",
    "\n",
    "if enable_share_to_twitter and github_event_name == \"schedule\" and \\\n",
    "        (shared_teks_by_upload_date_last_hour or not are_today_results_partial):\n",
    "    import tweepy\n",
    "\n",
    "    twitter_api_auth_keys = os.environ[\"RADARCOVID_REPORT__TWITTER_API_AUTH_KEYS\"]\n",
    "    twitter_api_auth_keys = twitter_api_auth_keys.split(\":\")\n",
    "    auth = tweepy.OAuthHandler(twitter_api_auth_keys[0], twitter_api_auth_keys[1])\n",
    "    auth.set_access_token(twitter_api_auth_keys[2], twitter_api_auth_keys[3])\n",
    "\n",
    "    api = tweepy.API(auth)\n",
    "\n",
    "    summary_plots_media = api.media_upload(summary_plots_image_path)\n",
    "    summary_table_media = api.media_upload(summary_table_image_path)\n",
    "    generation_to_upload_period_pivot_table_image_media = api.media_upload(generation_to_upload_period_pivot_table_image_path)\n",
    "    media_ids = [\n",
    "        summary_plots_media.media_id,\n",
    "        summary_table_media.media_id,\n",
    "        generation_to_upload_period_pivot_table_image_media.media_id,\n",
    "    ]\n",
    "\n",
    "    if are_today_results_partial:\n",
    "        today_addendum = \" (Partial)\"\n",
    "    else:\n",
    "        today_addendum = \"\"\n",
    "\n",
    "    status = textwrap.dedent(f\"\"\"\n",
    "        #RadarCOVID – {extraction_date_with_hour}\n",
    "\n",
    "        Source Countries: {display_brief_source_regions}\n",
    "\n",
    "        Today{today_addendum}:\n",
    "        - Uploaded TEKs: {shared_teks_by_upload_date:.0f} ({shared_teks_by_upload_date_last_hour:+d} last hour)\n",
    "        - Shared Diagnoses: ≤{shared_diagnoses:.0f}\n",
    "        - Usage Ratio: ≤{shared_diagnoses_per_covid_case:.2%}\n",
    "\n",
    "        Last 7 Days:\n",
    "        - Shared Diagnoses: ≤{last_7_days_summary[\"shared_diagnoses\"]:.0f}\n",
    "        - Usage Ratio: ≤{last_7_days_summary[\"shared_diagnoses_per_covid_case\"]:.2%}\n",
    "\n",
    "        Info: {github_project_base_url}#documentation\n",
    "        \"\"\")\n",
    "    status = status.encode(encoding=\"utf-8\")\n",
    "    api.update_status(status=status, media_ids=media_ids)"
   ]
  }
 ],
 "metadata": {
  "kernelspec": {
   "display_name": "Python 3",
   "language": "python",
   "name": "python3"
  },
  "language_info": {
   "codemirror_mode": {
    "name": "ipython",
    "version": 3
   },
   "file_extension": ".py",
   "mimetype": "text/x-python",
   "name": "python",
   "nbconvert_exporter": "python",
   "pygments_lexer": "ipython3",
   "version": "3.8.6"
  },
  "papermill": {
   "duration": 929.258623,
   "end_time": "2020-11-21T23:34:12.673001",
   "environment_variables": {},
   "exception": null,
   "input_path": "Notebooks/RadarCOVID-Report/Source/RadarCOVID-Report.ipynb",
   "output_path": "RadarCOVID-Report.ipynb",
   "parameters": {},
   "start_time": "2020-11-21T23:18:43.414378",
   "version": "2.1.3"
  }
 },
 "nbformat": 4,
 "nbformat_minor": 1
}