{
 "cells": [
  {
   "cell_type": "markdown",
   "metadata": {
    "papermill": {
     "duration": 0.037623,
     "end_time": "2020-11-30T23:21:21.131494",
     "exception": false,
     "start_time": "2020-11-30T23:21:21.093871",
     "status": "completed"
    },
    "pycharm": {
     "name": "#%% md\n"
    },
    "tags": []
   },
   "source": [
    "# RadarCOVID-Report"
   ]
  },
  {
   "cell_type": "markdown",
   "metadata": {
    "collapsed": true,
    "papermill": {
     "duration": 0.03646,
     "end_time": "2020-11-30T23:21:21.203016",
     "exception": false,
     "start_time": "2020-11-30T23:21:21.166556",
     "status": "completed"
    },
    "pycharm": {
     "name": "#%% md\n"
    },
    "tags": []
   },
   "source": [
    "## Data Extraction"
   ]
  },
  {
   "cell_type": "code",
   "execution_count": 1,
   "metadata": {
    "execution": {
     "iopub.execute_input": "2020-11-30T23:21:21.280445Z",
     "iopub.status.busy": "2020-11-30T23:21:21.279703Z",
     "iopub.status.idle": "2020-11-30T23:21:22.873354Z",
     "shell.execute_reply": "2020-11-30T23:21:22.872584Z"
    },
    "papermill": {
     "duration": 1.635538,
     "end_time": "2020-11-30T23:21:22.873597",
     "exception": false,
     "start_time": "2020-11-30T23:21:21.238059",
     "status": "completed"
    },
    "pycharm": {
     "name": "#%%\n"
    },
    "tags": []
   },
   "outputs": [],
   "source": [
    "import datetime\n",
    "import json\n",
    "import logging\n",
    "import os\n",
    "import shutil\n",
    "import tempfile\n",
    "import textwrap\n",
    "import uuid\n",
    "\n",
    "import matplotlib.pyplot as plt\n",
    "import matplotlib.ticker\n",
    "import numpy as np\n",
    "import pandas as pd\n",
    "import retry\n",
    "import seaborn as sns\n",
    "\n",
    "%matplotlib inline"
   ]
  },
  {
   "cell_type": "code",
   "execution_count": 2,
   "metadata": {
    "collapsed": false,
    "execution": {
     "iopub.execute_input": "2020-11-30T23:21:22.957385Z",
     "iopub.status.busy": "2020-11-30T23:21:22.956817Z",
     "iopub.status.idle": "2020-11-30T23:21:22.959140Z",
     "shell.execute_reply": "2020-11-30T23:21:22.959688Z"
    },
    "papermill": {
     "duration": 0.045816,
     "end_time": "2020-11-30T23:21:22.959846",
     "exception": false,
     "start_time": "2020-11-30T23:21:22.914030",
     "status": "completed"
    },
    "pycharm": {
     "name": "#%%\n"
    },
    "tags": []
   },
   "outputs": [],
   "source": [
    "current_working_directory = os.environ.get(\"PWD\")\n",
    "if current_working_directory:\n",
    "    os.chdir(current_working_directory)\n",
    "\n",
    "sns.set()\n",
    "matplotlib.rcParams[\"figure.figsize\"] = (15, 6)\n",
    "\n",
    "extraction_datetime = datetime.datetime.utcnow()\n",
    "extraction_date = extraction_datetime.strftime(\"%Y-%m-%d\")\n",
    "extraction_previous_datetime = extraction_datetime - datetime.timedelta(days=1)\n",
    "extraction_previous_date = extraction_previous_datetime.strftime(\"%Y-%m-%d\")\n",
    "extraction_date_with_hour = datetime.datetime.utcnow().strftime(\"%Y-%m-%d@%H\")\n",
    "current_hour = datetime.datetime.utcnow().hour\n",
    "are_today_results_partial = current_hour != 23"
   ]
  },
  {
   "cell_type": "markdown",
   "metadata": {
    "collapsed": false,
    "papermill": {
     "duration": 0.037845,
     "end_time": "2020-11-30T23:21:23.034096",
     "exception": false,
     "start_time": "2020-11-30T23:21:22.996251",
     "status": "completed"
    },
    "tags": []
   },
   "source": [
    "### Constants"
   ]
  },
  {
   "cell_type": "code",
   "execution_count": 3,
   "metadata": {
    "execution": {
     "iopub.execute_input": "2020-11-30T23:21:23.113523Z",
     "iopub.status.busy": "2020-11-30T23:21:23.113009Z",
     "iopub.status.idle": "2020-11-30T23:21:23.246049Z",
     "shell.execute_reply": "2020-11-30T23:21:23.245577Z"
    },
    "papermill": {
     "duration": 0.174965,
     "end_time": "2020-11-30T23:21:23.246181",
     "exception": false,
     "start_time": "2020-11-30T23:21:23.071216",
     "status": "completed"
    },
    "pycharm": {
     "name": "#%%\n"
    },
    "tags": []
   },
   "outputs": [],
   "source": [
    "from Modules.ExposureNotification import exposure_notification_io\n",
    "\n",
    "spain_region_country_code = \"ES\"\n",
    "germany_region_country_code = \"DE\"\n",
    "\n",
    "default_backend_identifier = spain_region_country_code\n",
    "\n",
    "backend_generation_days = 7 * 2\n",
    "daily_summary_days = 7 * 4 * 3\n",
    "daily_plot_days = 7 * 4\n",
    "tek_dumps_load_limit = daily_summary_days + 1"
   ]
  },
  {
   "cell_type": "markdown",
   "metadata": {
    "collapsed": false,
    "papermill": {
     "duration": 0.037266,
     "end_time": "2020-11-30T23:21:23.321536",
     "exception": false,
     "start_time": "2020-11-30T23:21:23.284270",
     "status": "completed"
    },
    "tags": []
   },
   "source": [
    "### Parameters"
   ]
  },
  {
   "cell_type": "code",
   "execution_count": 4,
   "metadata": {
    "collapsed": false,
    "execution": {
     "iopub.execute_input": "2020-11-30T23:21:23.405528Z",
     "iopub.status.busy": "2020-11-30T23:21:23.404980Z",
     "iopub.status.idle": "2020-11-30T23:21:23.408862Z",
     "shell.execute_reply": "2020-11-30T23:21:23.409248Z"
    },
    "papermill": {
     "duration": 0.050792,
     "end_time": "2020-11-30T23:21:23.409395",
     "exception": false,
     "start_time": "2020-11-30T23:21:23.358603",
     "status": "completed"
    },
    "pycharm": {
     "name": "#%%\n"
    },
    "tags": []
   },
   "outputs": [
    {
     "data": {
      "text/plain": [
       "'ES'"
      ]
     },
     "execution_count": 4,
     "metadata": {},
     "output_type": "execute_result"
    }
   ],
   "source": [
    "environment_backend_identifier = os.environ.get(\"RADARCOVID_REPORT__BACKEND_IDENTIFIER\")\n",
    "if environment_backend_identifier:\n",
    "    report_backend_identifier = environment_backend_identifier\n",
    "else:\n",
    "    report_backend_identifier = default_backend_identifier\n",
    "report_backend_identifier"
   ]
  },
  {
   "cell_type": "code",
   "execution_count": 5,
   "metadata": {
    "collapsed": false,
    "execution": {
     "iopub.execute_input": "2020-11-30T23:21:23.491368Z",
     "iopub.status.busy": "2020-11-30T23:21:23.490820Z",
     "iopub.status.idle": "2020-11-30T23:21:23.493031Z",
     "shell.execute_reply": "2020-11-30T23:21:23.492564Z"
    },
    "papermill": {
     "duration": 0.045679,
     "end_time": "2020-11-30T23:21:23.493164",
     "exception": false,
     "start_time": "2020-11-30T23:21:23.447485",
     "status": "completed"
    },
    "pycharm": {
     "name": "#%%\n"
    },
    "tags": []
   },
   "outputs": [],
   "source": [
    "environment_enable_multi_backend_download = \\\n",
    "    os.environ.get(\"RADARCOVID_REPORT__ENABLE_MULTI_BACKEND_DOWNLOAD\")\n",
    "if environment_enable_multi_backend_download:\n",
    "    report_backend_identifiers = None\n",
    "else:\n",
    "    report_backend_identifiers = [report_backend_identifier]\n",
    "\n",
    "report_backend_identifiers"
   ]
  },
  {
   "cell_type": "code",
   "execution_count": 6,
   "metadata": {
    "collapsed": false,
    "execution": {
     "iopub.execute_input": "2020-11-30T23:21:23.575134Z",
     "iopub.status.busy": "2020-11-30T23:21:23.574586Z",
     "iopub.status.idle": "2020-11-30T23:21:23.578122Z",
     "shell.execute_reply": "2020-11-30T23:21:23.578633Z"
    },
    "papermill": {
     "duration": 0.048168,
     "end_time": "2020-11-30T23:21:23.578776",
     "exception": false,
     "start_time": "2020-11-30T23:21:23.530608",
     "status": "completed"
    },
    "pycharm": {
     "name": "#%%\n"
    },
    "tags": []
   },
   "outputs": [
    {
     "data": {
      "text/plain": [
       "['2020-10-30']"
      ]
     },
     "execution_count": 6,
     "metadata": {},
     "output_type": "execute_result"
    }
   ],
   "source": [
    "environment_invalid_shared_diagnoses_dates = \\\n",
    "    os.environ.get(\"RADARCOVID_REPORT__INVALID_SHARED_DIAGNOSES_DATES\")\n",
    "if environment_invalid_shared_diagnoses_dates:\n",
    "    invalid_shared_diagnoses_dates = environment_invalid_shared_diagnoses_dates.split(\",\")\n",
    "else:\n",
    "    invalid_shared_diagnoses_dates = []\n",
    "\n",
    "invalid_shared_diagnoses_dates"
   ]
  },
  {
   "cell_type": "markdown",
   "metadata": {
    "collapsed": false,
    "papermill": {
     "duration": 0.036267,
     "end_time": "2020-11-30T23:21:23.653182",
     "exception": false,
     "start_time": "2020-11-30T23:21:23.616915",
     "status": "completed"
    },
    "pycharm": {
     "name": "#%% md\n"
    },
    "tags": []
   },
   "source": [
    "### COVID-19 Cases"
   ]
  },
  {
   "cell_type": "code",
   "execution_count": 7,
   "metadata": {
    "collapsed": false,
    "execution": {
     "iopub.execute_input": "2020-11-30T23:21:23.732464Z",
     "iopub.status.busy": "2020-11-30T23:21:23.731864Z",
     "iopub.status.idle": "2020-11-30T23:21:23.734585Z",
     "shell.execute_reply": "2020-11-30T23:21:23.734164Z"
    },
    "papermill": {
     "duration": 0.044661,
     "end_time": "2020-11-30T23:21:23.734704",
     "exception": false,
     "start_time": "2020-11-30T23:21:23.690043",
     "status": "completed"
    },
    "pycharm": {
     "name": "#%%\n"
    },
    "tags": []
   },
   "outputs": [],
   "source": [
    "report_backend_client = \\\n",
    "    exposure_notification_io.get_backend_client_with_identifier(\n",
    "        backend_identifier=report_backend_identifier)"
   ]
  },
  {
   "cell_type": "code",
   "execution_count": 8,
   "metadata": {
    "collapsed": false,
    "execution": {
     "iopub.execute_input": "2020-11-30T23:21:23.816669Z",
     "iopub.status.busy": "2020-11-30T23:21:23.816091Z",
     "iopub.status.idle": "2020-11-30T23:21:40.755941Z",
     "shell.execute_reply": "2020-11-30T23:21:40.754626Z"
    },
    "papermill": {
     "duration": 16.983307,
     "end_time": "2020-11-30T23:21:40.756205",
     "exception": false,
     "start_time": "2020-11-30T23:21:23.772898",
     "status": "completed"
    },
    "pycharm": {
     "name": "#%%\n"
    },
    "tags": []
   },
   "outputs": [],
   "source": [
    "@retry.retry(tries=10, delay=10, backoff=1.1, jitter=(0, 10))\n",
    "def download_cases_dataframe_from_ecdc():\n",
    "    return pd.read_csv(\n",
    "        \"https://opendata.ecdc.europa.eu/covid19/casedistribution/csv/data.csv\")\n",
    "\n",
    "confirmed_df_ = download_cases_dataframe_from_ecdc()"
   ]
  },
  {
   "cell_type": "code",
   "execution_count": 9,
   "metadata": {
    "collapsed": false,
    "execution": {
     "iopub.execute_input": "2020-11-30T23:21:40.842672Z",
     "iopub.status.busy": "2020-11-30T23:21:40.842115Z",
     "iopub.status.idle": "2020-11-30T23:21:41.206730Z",
     "shell.execute_reply": "2020-11-30T23:21:41.207138Z"
    },
    "papermill": {
     "duration": 0.41018,
     "end_time": "2020-11-30T23:21:41.207291",
     "exception": false,
     "start_time": "2020-11-30T23:21:40.797111",
     "status": "completed"
    },
    "pycharm": {
     "name": "#%%\n"
    },
    "tags": []
   },
   "outputs": [
    {
     "data": {
      "text/html": [
       "<div>\n",
       "<style scoped>\n",
       "    .dataframe tbody tr th:only-of-type {\n",
       "        vertical-align: middle;\n",
       "    }\n",
       "\n",
       "    .dataframe tbody tr th {\n",
       "        vertical-align: top;\n",
       "    }\n",
       "\n",
       "    .dataframe thead th {\n",
       "        text-align: right;\n",
       "    }\n",
       "</style>\n",
       "<table border=\"1\" class=\"dataframe\">\n",
       "  <thead>\n",
       "    <tr style=\"text-align: right;\">\n",
       "      <th></th>\n",
       "      <th>sample_date</th>\n",
       "      <th>new_cases</th>\n",
       "      <th>country_code</th>\n",
       "    </tr>\n",
       "  </thead>\n",
       "  <tbody>\n",
       "    <tr>\n",
       "      <th>12585</th>\n",
       "      <td>2020-11-30</td>\n",
       "      <td>0</td>\n",
       "      <td>CR</td>\n",
       "    </tr>\n",
       "    <tr>\n",
       "      <th>29165</th>\n",
       "      <td>2020-11-30</td>\n",
       "      <td>837</td>\n",
       "      <td>KZ</td>\n",
       "    </tr>\n",
       "    <tr>\n",
       "      <th>29426</th>\n",
       "      <td>2020-11-30</td>\n",
       "      <td>711</td>\n",
       "      <td>KE</td>\n",
       "    </tr>\n",
       "    <tr>\n",
       "      <th>12853</th>\n",
       "      <td>2020-11-30</td>\n",
       "      <td>49</td>\n",
       "      <td>CI</td>\n",
       "    </tr>\n",
       "    <tr>\n",
       "      <th>0</th>\n",
       "      <td>2020-11-30</td>\n",
       "      <td>0</td>\n",
       "      <td>AF</td>\n",
       "    </tr>\n",
       "  </tbody>\n",
       "</table>\n",
       "</div>"
      ],
      "text/plain": [
       "      sample_date  new_cases country_code\n",
       "12585  2020-11-30          0           CR\n",
       "29165  2020-11-30        837           KZ\n",
       "29426  2020-11-30        711           KE\n",
       "12853  2020-11-30         49           CI\n",
       "0      2020-11-30          0           AF"
      ]
     },
     "execution_count": 9,
     "metadata": {},
     "output_type": "execute_result"
    }
   ],
   "source": [
    "confirmed_df = confirmed_df_.copy()\n",
    "confirmed_df = confirmed_df[[\"dateRep\", \"cases\", \"geoId\"]]\n",
    "confirmed_df.rename(\n",
    "    columns={\n",
    "        \"dateRep\":\"sample_date\",\n",
    "        \"cases\": \"new_cases\",\n",
    "        \"geoId\": \"country_code\",\n",
    "    },\n",
    "    inplace=True)\n",
    "confirmed_df[\"sample_date\"] = pd.to_datetime(confirmed_df.sample_date, dayfirst=True)\n",
    "confirmed_df[\"sample_date\"] = confirmed_df.sample_date.dt.strftime(\"%Y-%m-%d\")\n",
    "confirmed_df.sort_values(\"sample_date\", inplace=True)\n",
    "confirmed_df.tail()"
   ]
  },
  {
   "cell_type": "code",
   "execution_count": 10,
   "metadata": {
    "collapsed": false,
    "execution": {
     "iopub.execute_input": "2020-11-30T23:21:41.287647Z",
     "iopub.status.busy": "2020-11-30T23:21:41.287130Z",
     "iopub.status.idle": "2020-11-30T23:21:41.289675Z",
     "shell.execute_reply": "2020-11-30T23:21:41.290107Z"
    },
    "papermill": {
     "duration": 0.043701,
     "end_time": "2020-11-30T23:21:41.290236",
     "exception": false,
     "start_time": "2020-11-30T23:21:41.246535",
     "status": "completed"
    },
    "pycharm": {
     "name": "#%%\n"
    },
    "tags": []
   },
   "outputs": [],
   "source": [
    "def sort_source_regions_for_display(source_regions: list) -> list:\n",
    "    if report_backend_identifier in source_regions:\n",
    "        source_regions = [report_backend_identifier] + \\\n",
    "            list(sorted(set(source_regions).difference([report_backend_identifier])))\n",
    "    else:\n",
    "        source_regions = list(sorted(source_regions))\n",
    "    return source_regions"
   ]
  },
  {
   "cell_type": "code",
   "execution_count": 11,
   "metadata": {
    "collapsed": false,
    "execution": {
     "iopub.execute_input": "2020-11-30T23:21:41.367439Z",
     "iopub.status.busy": "2020-11-30T23:21:41.366894Z",
     "iopub.status.idle": "2020-11-30T23:21:41.370343Z",
     "shell.execute_reply": "2020-11-30T23:21:41.369903Z"
    },
    "papermill": {
     "duration": 0.045858,
     "end_time": "2020-11-30T23:21:41.370489",
     "exception": false,
     "start_time": "2020-11-30T23:21:41.324631",
     "status": "completed"
    },
    "pycharm": {
     "name": "#%%\n"
    },
    "tags": []
   },
   "outputs": [
    {
     "data": {
      "text/plain": [
       "['ES', 'DE', 'DK', 'HR', 'IE', 'IT', 'LV', 'PL']"
      ]
     },
     "execution_count": 11,
     "metadata": {},
     "output_type": "execute_result"
    }
   ],
   "source": [
    "report_source_regions = report_backend_client.source_regions_for_date(\n",
    "    date=extraction_datetime.date())\n",
    "report_source_regions = sort_source_regions_for_display(\n",
    "    source_regions=report_source_regions)\n",
    "report_source_regions"
   ]
  },
  {
   "cell_type": "code",
   "execution_count": 12,
   "metadata": {
    "collapsed": false,
    "execution": {
     "iopub.execute_input": "2020-11-30T23:21:41.457632Z",
     "iopub.status.busy": "2020-11-30T23:21:41.457148Z",
     "iopub.status.idle": "2020-11-30T23:21:41.459846Z",
     "shell.execute_reply": "2020-11-30T23:21:41.459406Z"
    },
    "papermill": {
     "duration": 0.053417,
     "end_time": "2020-11-30T23:21:41.459959",
     "exception": false,
     "start_time": "2020-11-30T23:21:41.406542",
     "status": "completed"
    },
    "pycharm": {
     "name": "#%%\n"
    },
    "tags": []
   },
   "outputs": [
    {
     "data": {
      "text/html": [
       "<div>\n",
       "<style scoped>\n",
       "    .dataframe tbody tr th:only-of-type {\n",
       "        vertical-align: middle;\n",
       "    }\n",
       "\n",
       "    .dataframe tbody tr th {\n",
       "        vertical-align: top;\n",
       "    }\n",
       "\n",
       "    .dataframe thead th {\n",
       "        text-align: right;\n",
       "    }\n",
       "</style>\n",
       "<table border=\"1\" class=\"dataframe\">\n",
       "  <thead>\n",
       "    <tr style=\"text-align: right;\">\n",
       "      <th></th>\n",
       "      <th>sample_date</th>\n",
       "      <th>sample_date_string</th>\n",
       "    </tr>\n",
       "  </thead>\n",
       "  <tbody>\n",
       "    <tr>\n",
       "      <th>331</th>\n",
       "      <td>2020-11-26</td>\n",
       "      <td>2020-11-26</td>\n",
       "    </tr>\n",
       "    <tr>\n",
       "      <th>332</th>\n",
       "      <td>2020-11-27</td>\n",
       "      <td>2020-11-27</td>\n",
       "    </tr>\n",
       "    <tr>\n",
       "      <th>333</th>\n",
       "      <td>2020-11-28</td>\n",
       "      <td>2020-11-28</td>\n",
       "    </tr>\n",
       "    <tr>\n",
       "      <th>334</th>\n",
       "      <td>2020-11-29</td>\n",
       "      <td>2020-11-29</td>\n",
       "    </tr>\n",
       "    <tr>\n",
       "      <th>335</th>\n",
       "      <td>2020-11-30</td>\n",
       "      <td>2020-11-30</td>\n",
       "    </tr>\n",
       "  </tbody>\n",
       "</table>\n",
       "</div>"
      ],
      "text/plain": [
       "    sample_date sample_date_string\n",
       "331  2020-11-26         2020-11-26\n",
       "332  2020-11-27         2020-11-27\n",
       "333  2020-11-28         2020-11-28\n",
       "334  2020-11-29         2020-11-29\n",
       "335  2020-11-30         2020-11-30"
      ]
     },
     "execution_count": 12,
     "metadata": {},
     "output_type": "execute_result"
    }
   ],
   "source": [
    "confirmed_days = pd.date_range(\n",
    "    start=confirmed_df.iloc[0].sample_date,\n",
    "    end=extraction_datetime)\n",
    "confirmed_days_df = pd.DataFrame(data=confirmed_days, columns=[\"sample_date\"])\n",
    "confirmed_days_df[\"sample_date_string\"] = \\\n",
    "    confirmed_days_df.sample_date.dt.strftime(\"%Y-%m-%d\")\n",
    "confirmed_days_df.tail()"
   ]
  },
  {
   "cell_type": "code",
   "execution_count": 13,
   "metadata": {
    "collapsed": false,
    "execution": {
     "iopub.execute_input": "2020-11-30T23:21:41.546409Z",
     "iopub.status.busy": "2020-11-30T23:21:41.545846Z",
     "iopub.status.idle": "2020-11-30T23:21:41.557521Z",
     "shell.execute_reply": "2020-11-30T23:21:41.557108Z"
    },
    "papermill": {
     "duration": 0.059044,
     "end_time": "2020-11-30T23:21:41.557636",
     "exception": false,
     "start_time": "2020-11-30T23:21:41.498592",
     "status": "completed"
    },
    "pycharm": {
     "name": "#%%\n"
    },
    "tags": []
   },
   "outputs": [
    {
     "data": {
      "text/html": [
       "<div>\n",
       "<style scoped>\n",
       "    .dataframe tbody tr th:only-of-type {\n",
       "        vertical-align: middle;\n",
       "    }\n",
       "\n",
       "    .dataframe tbody tr th {\n",
       "        vertical-align: top;\n",
       "    }\n",
       "\n",
       "    .dataframe thead th {\n",
       "        text-align: right;\n",
       "    }\n",
       "</style>\n",
       "<table border=\"1\" class=\"dataframe\">\n",
       "  <thead>\n",
       "    <tr style=\"text-align: right;\">\n",
       "      <th></th>\n",
       "      <th>sample_date</th>\n",
       "      <th>sample_date_string</th>\n",
       "      <th>source_regions_at_date</th>\n",
       "      <th>_source_regions_group</th>\n",
       "    </tr>\n",
       "  </thead>\n",
       "  <tbody>\n",
       "    <tr>\n",
       "      <th>331</th>\n",
       "      <td>2020-11-26</td>\n",
       "      <td>2020-11-26</td>\n",
       "      <td>{LV, IE, DE, DK, PL, ES, IT, HR}</td>\n",
       "      <td>ES,DE,DK,HR,IE,IT,LV,PL</td>\n",
       "    </tr>\n",
       "    <tr>\n",
       "      <th>332</th>\n",
       "      <td>2020-11-27</td>\n",
       "      <td>2020-11-27</td>\n",
       "      <td>{LV, IE, DE, DK, PL, ES, IT, HR}</td>\n",
       "      <td>ES,DE,DK,HR,IE,IT,LV,PL</td>\n",
       "    </tr>\n",
       "    <tr>\n",
       "      <th>333</th>\n",
       "      <td>2020-11-28</td>\n",
       "      <td>2020-11-28</td>\n",
       "      <td>{LV, IE, DE, DK, PL, ES, IT, HR}</td>\n",
       "      <td>ES,DE,DK,HR,IE,IT,LV,PL</td>\n",
       "    </tr>\n",
       "    <tr>\n",
       "      <th>334</th>\n",
       "      <td>2020-11-29</td>\n",
       "      <td>2020-11-29</td>\n",
       "      <td>{LV, IE, DE, DK, PL, ES, IT, HR}</td>\n",
       "      <td>ES,DE,DK,HR,IE,IT,LV,PL</td>\n",
       "    </tr>\n",
       "    <tr>\n",
       "      <th>335</th>\n",
       "      <td>2020-11-30</td>\n",
       "      <td>2020-11-30</td>\n",
       "      <td>{LV, IE, DE, DK, PL, ES, IT, HR}</td>\n",
       "      <td>ES,DE,DK,HR,IE,IT,LV,PL</td>\n",
       "    </tr>\n",
       "  </tbody>\n",
       "</table>\n",
       "</div>"
      ],
      "text/plain": [
       "    sample_date sample_date_string            source_regions_at_date  \\\n",
       "331  2020-11-26         2020-11-26  {LV, IE, DE, DK, PL, ES, IT, HR}   \n",
       "332  2020-11-27         2020-11-27  {LV, IE, DE, DK, PL, ES, IT, HR}   \n",
       "333  2020-11-28         2020-11-28  {LV, IE, DE, DK, PL, ES, IT, HR}   \n",
       "334  2020-11-29         2020-11-29  {LV, IE, DE, DK, PL, ES, IT, HR}   \n",
       "335  2020-11-30         2020-11-30  {LV, IE, DE, DK, PL, ES, IT, HR}   \n",
       "\n",
       "       _source_regions_group  \n",
       "331  ES,DE,DK,HR,IE,IT,LV,PL  \n",
       "332  ES,DE,DK,HR,IE,IT,LV,PL  \n",
       "333  ES,DE,DK,HR,IE,IT,LV,PL  \n",
       "334  ES,DE,DK,HR,IE,IT,LV,PL  \n",
       "335  ES,DE,DK,HR,IE,IT,LV,PL  "
      ]
     },
     "execution_count": 13,
     "metadata": {},
     "output_type": "execute_result"
    }
   ],
   "source": [
    "source_regions_at_date_df = confirmed_days_df.copy()\n",
    "source_regions_at_date_df[\"source_regions_at_date\"] = \\\n",
    "    source_regions_at_date_df.sample_date.apply(\n",
    "        lambda x: report_backend_client.source_regions_for_date(date=x))\n",
    "source_regions_at_date_df.sort_values(\"sample_date\", inplace=True)\n",
    "source_regions_at_date_df[\"_source_regions_group\"] = source_regions_at_date_df. \\\n",
    "    source_regions_at_date.apply(lambda x: \",\".join(sort_source_regions_for_display(x)))\n",
    "source_regions_at_date_df.tail()"
   ]
  },
  {
   "cell_type": "code",
   "execution_count": 14,
   "metadata": {
    "collapsed": false,
    "execution": {
     "iopub.execute_input": "2020-11-30T23:21:41.647590Z",
     "iopub.status.busy": "2020-11-30T23:21:41.647016Z",
     "iopub.status.idle": "2020-11-30T23:21:41.650062Z",
     "shell.execute_reply": "2020-11-30T23:21:41.649615Z"
    },
    "papermill": {
     "duration": 0.053701,
     "end_time": "2020-11-30T23:21:41.650187",
     "exception": false,
     "start_time": "2020-11-30T23:21:41.596486",
     "status": "completed"
    },
    "pycharm": {
     "name": "#%%\n"
    },
    "tags": []
   },
   "outputs": [
    {
     "data": {
      "text/html": [
       "<div>\n",
       "<style scoped>\n",
       "    .dataframe tbody tr th:only-of-type {\n",
       "        vertical-align: middle;\n",
       "    }\n",
       "\n",
       "    .dataframe tbody tr th {\n",
       "        vertical-align: top;\n",
       "    }\n",
       "\n",
       "    .dataframe thead th {\n",
       "        text-align: right;\n",
       "    }\n",
       "</style>\n",
       "<table border=\"1\" class=\"dataframe\">\n",
       "  <thead>\n",
       "    <tr style=\"text-align: right;\">\n",
       "      <th></th>\n",
       "      <th>sample_date</th>\n",
       "      <th>source_regions</th>\n",
       "    </tr>\n",
       "  </thead>\n",
       "  <tbody>\n",
       "    <tr>\n",
       "      <th>331</th>\n",
       "      <td>2020-11-26</td>\n",
       "      <td>ES,DE,DK,HR,IE,IT,LV,PL</td>\n",
       "    </tr>\n",
       "    <tr>\n",
       "      <th>332</th>\n",
       "      <td>2020-11-27</td>\n",
       "      <td>ES,DE,DK,HR,IE,IT,LV,PL</td>\n",
       "    </tr>\n",
       "    <tr>\n",
       "      <th>333</th>\n",
       "      <td>2020-11-28</td>\n",
       "      <td>ES,DE,DK,HR,IE,IT,LV,PL</td>\n",
       "    </tr>\n",
       "    <tr>\n",
       "      <th>334</th>\n",
       "      <td>2020-11-29</td>\n",
       "      <td>ES,DE,DK,HR,IE,IT,LV,PL</td>\n",
       "    </tr>\n",
       "    <tr>\n",
       "      <th>335</th>\n",
       "      <td>2020-11-30</td>\n",
       "      <td>ES,DE,DK,HR,IE,IT,LV,PL</td>\n",
       "    </tr>\n",
       "  </tbody>\n",
       "</table>\n",
       "</div>"
      ],
      "text/plain": [
       "    sample_date           source_regions\n",
       "331  2020-11-26  ES,DE,DK,HR,IE,IT,LV,PL\n",
       "332  2020-11-27  ES,DE,DK,HR,IE,IT,LV,PL\n",
       "333  2020-11-28  ES,DE,DK,HR,IE,IT,LV,PL\n",
       "334  2020-11-29  ES,DE,DK,HR,IE,IT,LV,PL\n",
       "335  2020-11-30  ES,DE,DK,HR,IE,IT,LV,PL"
      ]
     },
     "execution_count": 14,
     "metadata": {},
     "output_type": "execute_result"
    }
   ],
   "source": [
    "source_regions_for_summary_df = \\\n",
    "    source_regions_at_date_df[[\"sample_date\", \"_source_regions_group\"]].copy()\n",
    "source_regions_for_summary_df.rename(columns={\"_source_regions_group\": \"source_regions\"}, inplace=True)\n",
    "source_regions_for_summary_df.tail()"
   ]
  },
  {
   "cell_type": "code",
   "execution_count": 15,
   "metadata": {
    "collapsed": false,
    "execution": {
     "iopub.execute_input": "2020-11-30T23:21:41.743550Z",
     "iopub.status.busy": "2020-11-30T23:21:41.739019Z",
     "iopub.status.idle": "2020-11-30T23:21:41.805990Z",
     "shell.execute_reply": "2020-11-30T23:21:41.806380Z"
    },
    "papermill": {
     "duration": 0.11639,
     "end_time": "2020-11-30T23:21:41.806538",
     "exception": false,
     "start_time": "2020-11-30T23:21:41.690148",
     "status": "completed"
    },
    "pycharm": {
     "name": "#%%\n"
    },
    "tags": []
   },
   "outputs": [
    {
     "data": {
      "text/html": [
       "<div>\n",
       "<style scoped>\n",
       "    .dataframe tbody tr th:only-of-type {\n",
       "        vertical-align: middle;\n",
       "    }\n",
       "\n",
       "    .dataframe tbody tr th {\n",
       "        vertical-align: top;\n",
       "    }\n",
       "\n",
       "    .dataframe thead th {\n",
       "        text-align: right;\n",
       "    }\n",
       "</style>\n",
       "<table border=\"1\" class=\"dataframe\">\n",
       "  <thead>\n",
       "    <tr style=\"text-align: right;\">\n",
       "      <th></th>\n",
       "      <th>sample_date</th>\n",
       "      <th>new_cases</th>\n",
       "      <th>covid_cases</th>\n",
       "    </tr>\n",
       "  </thead>\n",
       "  <tbody>\n",
       "    <tr>\n",
       "      <th>309</th>\n",
       "      <td>2020-11-04</td>\n",
       "      <td>70966</td>\n",
       "      <td>66020.0</td>\n",
       "    </tr>\n",
       "    <tr>\n",
       "      <th>310</th>\n",
       "      <td>2020-11-05</td>\n",
       "      <td>73194</td>\n",
       "      <td>67010.0</td>\n",
       "    </tr>\n",
       "    <tr>\n",
       "      <th>311</th>\n",
       "      <td>2020-11-06</td>\n",
       "      <td>79454</td>\n",
       "      <td>68044.0</td>\n",
       "    </tr>\n",
       "    <tr>\n",
       "      <th>312</th>\n",
       "      <td>2020-11-07</td>\n",
       "      <td>62050</td>\n",
       "      <td>69596.0</td>\n",
       "    </tr>\n",
       "    <tr>\n",
       "      <th>313</th>\n",
       "      <td>2020-11-08</td>\n",
       "      <td>56547</td>\n",
       "      <td>71025.0</td>\n",
       "    </tr>\n",
       "  </tbody>\n",
       "</table>\n",
       "</div>"
      ],
      "text/plain": [
       "    sample_date new_cases  covid_cases\n",
       "309  2020-11-04     70966      66020.0\n",
       "310  2020-11-05     73194      67010.0\n",
       "311  2020-11-06     79454      68044.0\n",
       "312  2020-11-07     62050      69596.0\n",
       "313  2020-11-08     56547      71025.0"
      ]
     },
     "execution_count": 15,
     "metadata": {},
     "output_type": "execute_result"
    }
   ],
   "source": [
    "confirmed_output_columns = [\"sample_date\", \"new_cases\", \"covid_cases\"]\n",
    "confirmed_output_df = pd.DataFrame(columns=confirmed_output_columns)\n",
    "\n",
    "for source_regions_group, source_regions_group_series in \\\n",
    "        source_regions_at_date_df.groupby(\"_source_regions_group\"):\n",
    "    source_regions_set = set(source_regions_group.split(\",\"))\n",
    "    confirmed_source_regions_set_df = \\\n",
    "        confirmed_df[confirmed_df.country_code.isin(source_regions_set)].copy()\n",
    "    confirmed_source_regions_group_df = \\\n",
    "        confirmed_source_regions_set_df.groupby(\"sample_date\").new_cases.sum() \\\n",
    "            .reset_index().sort_values(\"sample_date\")\n",
    "    confirmed_source_regions_group_df[\"covid_cases\"] = \\\n",
    "        confirmed_source_regions_group_df.new_cases.rolling(7, min_periods=0).mean().round()\n",
    "    confirmed_source_regions_group_df = \\\n",
    "        confirmed_source_regions_group_df[confirmed_output_columns]\n",
    "    confirmed_source_regions_group_df.fillna(method=\"ffill\", inplace=True)\n",
    "    confirmed_source_regions_group_df = \\\n",
    "        confirmed_source_regions_group_df[\n",
    "            confirmed_source_regions_group_df.sample_date.isin(\n",
    "                source_regions_group_series.sample_date_string)]\n",
    "    confirmed_output_df = confirmed_output_df.append(confirmed_source_regions_group_df)\n",
    "\n",
    "confirmed_df = confirmed_output_df.copy()\n",
    "confirmed_df.tail()"
   ]
  },
  {
   "cell_type": "code",
   "execution_count": 16,
   "metadata": {
    "collapsed": false,
    "execution": {
     "iopub.execute_input": "2020-11-30T23:21:41.886544Z",
     "iopub.status.busy": "2020-11-30T23:21:41.885555Z",
     "iopub.status.idle": "2020-11-30T23:21:41.953775Z",
     "shell.execute_reply": "2020-11-30T23:21:41.954116Z"
    },
    "papermill": {
     "duration": 0.109181,
     "end_time": "2020-11-30T23:21:41.954248",
     "exception": false,
     "start_time": "2020-11-30T23:21:41.845067",
     "status": "completed"
    },
    "pycharm": {
     "name": "#%%\n"
    },
    "tags": []
   },
   "outputs": [
    {
     "data": {
      "text/html": [
       "<div>\n",
       "<style scoped>\n",
       "    .dataframe tbody tr th:only-of-type {\n",
       "        vertical-align: middle;\n",
       "    }\n",
       "\n",
       "    .dataframe tbody tr th {\n",
       "        vertical-align: top;\n",
       "    }\n",
       "\n",
       "    .dataframe thead th {\n",
       "        text-align: right;\n",
       "    }\n",
       "</style>\n",
       "<table border=\"1\" class=\"dataframe\">\n",
       "  <thead>\n",
       "    <tr style=\"text-align: right;\">\n",
       "      <th></th>\n",
       "      <th>sample_date_string</th>\n",
       "      <th>new_cases</th>\n",
       "      <th>covid_cases</th>\n",
       "    </tr>\n",
       "  </thead>\n",
       "  <tbody>\n",
       "    <tr>\n",
       "      <th>331</th>\n",
       "      <td>2020-11-26</td>\n",
       "      <td>81388</td>\n",
       "      <td>85417.0</td>\n",
       "    </tr>\n",
       "    <tr>\n",
       "      <th>332</th>\n",
       "      <td>2020-11-27</td>\n",
       "      <td>85755</td>\n",
       "      <td>82782.0</td>\n",
       "    </tr>\n",
       "    <tr>\n",
       "      <th>333</th>\n",
       "      <td>2020-11-28</td>\n",
       "      <td>73586</td>\n",
       "      <td>80782.0</td>\n",
       "    </tr>\n",
       "    <tr>\n",
       "      <th>334</th>\n",
       "      <td>2020-11-29</td>\n",
       "      <td>62722</td>\n",
       "      <td>78235.0</td>\n",
       "    </tr>\n",
       "    <tr>\n",
       "      <th>335</th>\n",
       "      <td>2020-11-30</td>\n",
       "      <td>47927</td>\n",
       "      <td>72540.0</td>\n",
       "    </tr>\n",
       "  </tbody>\n",
       "</table>\n",
       "</div>"
      ],
      "text/plain": [
       "    sample_date_string  new_cases  covid_cases\n",
       "331         2020-11-26      81388      85417.0\n",
       "332         2020-11-27      85755      82782.0\n",
       "333         2020-11-28      73586      80782.0\n",
       "334         2020-11-29      62722      78235.0\n",
       "335         2020-11-30      47927      72540.0"
      ]
     },
     "execution_count": 16,
     "metadata": {},
     "output_type": "execute_result"
    }
   ],
   "source": [
    "confirmed_df.rename(columns={\"sample_date\": \"sample_date_string\"}, inplace=True)\n",
    "confirmed_df = confirmed_days_df[[\"sample_date_string\"]].merge(confirmed_df, how=\"left\")\n",
    "confirmed_df.sort_values(\"sample_date_string\", inplace=True)\n",
    "confirmed_df.fillna(method=\"ffill\", inplace=True)\n",
    "confirmed_df.tail()"
   ]
  },
  {
   "cell_type": "code",
   "execution_count": 17,
   "metadata": {
    "collapsed": false,
    "execution": {
     "iopub.execute_input": "2020-11-30T23:21:42.042485Z",
     "iopub.status.busy": "2020-11-30T23:21:42.041934Z",
     "iopub.status.idle": "2020-11-30T23:21:42.257941Z",
     "shell.execute_reply": "2020-11-30T23:21:42.258478Z"
    },
    "papermill": {
     "duration": 0.264936,
     "end_time": "2020-11-30T23:21:42.258638",
     "exception": false,
     "start_time": "2020-11-30T23:21:41.993702",
     "status": "completed"
    },
    "pycharm": {
     "name": "#%%\n"
    },
    "tags": []
   },
   "outputs": [
    {
     "data": {
      "text/plain": [
       "<matplotlib.axes._subplots.AxesSubplot at 0x7fbe8be48e50>"
      ]
     },
     "execution_count": 17,
     "metadata": {},
     "output_type": "execute_result"
    },
    {
     "data": {
      "image/png": "[encoded data removed]",
      "text/plain": [
       "<Figure size 1080x432 with 1 Axes>"
      ]
     },
     "metadata": {},
     "output_type": "display_data"
    }
   ],
   "source": [
    "confirmed_df[[\"new_cases\", \"covid_cases\"]].plot()"
   ]
  },
  {
   "cell_type": "markdown",
   "metadata": {
    "execution": {
     "iopub.execute_input": "2020-08-30T22:30:16.351238Z",
     "iopub.status.busy": "2020-08-30T22:30:16.344579Z",
     "iopub.status.idle": "2020-08-30T22:30:16.354285Z",
     "shell.execute_reply": "2020-08-30T22:30:16.353641Z"
    },
    "papermill": {
     "duration": 0.040064,
     "end_time": "2020-11-30T23:21:42.340638",
     "exception": false,
     "start_time": "2020-11-30T23:21:42.300574",
     "status": "completed"
    },
    "pycharm": {
     "name": "#%% md\n"
    },
    "tags": []
   },
   "source": [
    "### Extract API TEKs"
   ]
  },
  {
   "cell_type": "code",
   "execution_count": 18,
   "metadata": {
    "execution": {
     "iopub.execute_input": "2020-11-30T23:21:42.432160Z",
     "iopub.status.busy": "2020-11-30T23:21:42.431606Z",
     "iopub.status.idle": "2020-11-30T23:26:47.922433Z",
     "shell.execute_reply": "2020-11-30T23:26:47.922882Z"
    },
    "papermill": {
     "duration": 305.541196,
     "end_time": "2020-11-30T23:26:47.923035",
     "exception": false,
     "start_time": "2020-11-30T23:21:42.381839",
     "status": "completed"
    },
    "pycharm": {
     "name": "#%%\n"
    },
    "tags": []
   },
   "outputs": [
    {
     "name": "stderr",
     "output_type": "stream",
     "text": [
      "WARNING:root:NoKeysFoundException(\"No exposure keys found on endpoint 'https://stayaway.incm.pt/v1/gaen/exposed/1606694400000' (parameters: {'generation_date': '2020-11-30', 'endpoint_identifier_components': ['2020-11-30'], 'backend_identifier': 'PT', 'server_endpoint_url': 'https://stayaway.incm.pt'}).\")\n"
     ]
    },
    {
     "name": "stderr",
     "output_type": "stream",
     "text": [
      "WARNING:root:Error downloading exposure keys from backend 'EE': HTTPError('500 Server Error:  for url: https://enapi.sm.ee/authorization/v1/gaen/exposed/1606694400000')\n",
      "Traceback (most recent call last):\n",
      "  File \"/home/runner/work/Radar-STATS/Radar-STATS/Modules/ExposureNotification/exposure_notification_io.py\", line 82, in download_exposure_keys_from_backends\n",
      "    backend_exposure_keys_df = backend_client.download_exposure_keys_with_parameters(**kwargs)\n",
      "  File \"/home/runner/work/Radar-STATS/Radar-STATS/Modules/ExposureNotification/BackendClients/base.py\", line 45, in download_exposure_keys_with_parameters\n",
      "    endpoint_exposure_keys_df = self._download_exposure_keys_from_endpoint_with_parameters(\n",
      "  File \"/home/runner/work/Radar-STATS/Radar-STATS/Modules/ExposureNotification/BackendClients/base.py\", line 79, in _download_exposure_keys_from_endpoint_with_parameters\n",
      "    raise e\n",
      "  File \"/home/runner/work/Radar-STATS/Radar-STATS/Modules/ExposureNotification/BackendClients/base.py\", line 74, in _download_exposure_keys_from_endpoint_with_parameters\n",
      "    request_response.raise_for_status()\n",
      "  File \"/opt/hostedtoolcache/Python/3.8.6/x64/lib/python3.8/site-packages/requests/models.py\", line 941, in raise_for_status\n",
      "    raise HTTPError(http_error_msg, response=self)\n",
      "requests.exceptions.HTTPError: 500 Server Error:  for url: https://enapi.sm.ee/authorization/v1/gaen/exposed/1606694400000\n"
     ]
    },
    {
     "name": "stderr",
     "output_type": "stream",
     "text": [
      "WARNING:root:NoKeysFoundException(\"No exposure keys found on endpoint 'https://mt-dpppt-ws.azurewebsites.net/v1/gaen/exposed/1606694400000' (parameters: {'generation_date': '2020-11-30', 'endpoint_identifier_components': ['2020-11-30'], 'backend_identifier': 'MT', 'server_endpoint_url': 'https://mt-dpppt-ws.azurewebsites.net'}).\")\n"
     ]
    },
    {
     "data": {
      "text/html": [
       "<div>\n",
       "<style scoped>\n",
       "    .dataframe tbody tr th:only-of-type {\n",
       "        vertical-align: middle;\n",
       "    }\n",
       "\n",
       "    .dataframe tbody tr th {\n",
       "        vertical-align: top;\n",
       "    }\n",
       "\n",
       "    .dataframe thead th {\n",
       "        text-align: right;\n",
       "    }\n",
       "</style>\n",
       "<table border=\"1\" class=\"dataframe\">\n",
       "  <thead>\n",
       "    <tr style=\"text-align: right;\">\n",
       "      <th></th>\n",
       "      <th>sample_datetime</th>\n",
       "      <th>sample_date_string</th>\n",
       "      <th>region</th>\n",
       "      <th>verification_key_version</th>\n",
       "      <th>verification_key_id</th>\n",
       "      <th>signature_algorithm</th>\n",
       "      <th>key_data</th>\n",
       "      <th>rolling_start_interval_number</th>\n",
       "      <th>rolling_period</th>\n",
       "      <th>transmission_risk_level</th>\n",
       "      <th>backend_identifier</th>\n",
       "    </tr>\n",
       "  </thead>\n",
       "  <tbody>\n",
       "    <tr>\n",
       "      <th>0</th>\n",
       "      <td>2020-11-30</td>\n",
       "      <td>2020-11-30</td>\n",
       "      <td>ES</td>\n",
       "      <td>V1</td>\n",
       "      <td>214</td>\n",
       "      <td>1.2.840.10045.4.3.2</td>\n",
       "      <td>57769afd-61a5-4bb5-634c-f1bfc3f7fd91</td>\n",
       "      <td>2677824</td>\n",
       "      <td>132</td>\n",
       "      <td>0</td>\n",
       "      <td>ES</td>\n",
       "    </tr>\n",
       "    <tr>\n",
       "      <th>1</th>\n",
       "      <td>2020-11-30</td>\n",
       "      <td>2020-11-30</td>\n",
       "      <td>ES</td>\n",
       "      <td>V1</td>\n",
       "      <td>214</td>\n",
       "      <td>1.2.840.10045.4.3.2</td>\n",
       "      <td>55f623a0-024d-2104-5367-b710e710aeeb</td>\n",
       "      <td>2677824</td>\n",
       "      <td>124</td>\n",
       "      <td>0</td>\n",
       "      <td>ES</td>\n",
       "    </tr>\n",
       "    <tr>\n",
       "      <th>2</th>\n",
       "      <td>2020-11-30</td>\n",
       "      <td>2020-11-30</td>\n",
       "      <td>ES</td>\n",
       "      <td>V1</td>\n",
       "      <td>214</td>\n",
       "      <td>1.2.840.10045.4.3.2</td>\n",
       "      <td>508c479b-a6be-9da2-6d21-09b3280801d8</td>\n",
       "      <td>2677824</td>\n",
       "      <td>123</td>\n",
       "      <td>0</td>\n",
       "      <td>ES</td>\n",
       "    </tr>\n",
       "    <tr>\n",
       "      <th>3</th>\n",
       "      <td>2020-11-30</td>\n",
       "      <td>2020-11-30</td>\n",
       "      <td>ES</td>\n",
       "      <td>V1</td>\n",
       "      <td>214</td>\n",
       "      <td>1.2.840.10045.4.3.2</td>\n",
       "      <td>83a293d9-be8f-abc4-d0e1-0323832a35bf</td>\n",
       "      <td>2677824</td>\n",
       "      <td>123</td>\n",
       "      <td>0</td>\n",
       "      <td>ES</td>\n",
       "    </tr>\n",
       "    <tr>\n",
       "      <th>4</th>\n",
       "      <td>2020-11-30</td>\n",
       "      <td>2020-11-30</td>\n",
       "      <td>ES</td>\n",
       "      <td>V1</td>\n",
       "      <td>214</td>\n",
       "      <td>1.2.840.10045.4.3.2</td>\n",
       "      <td>99db6a44-9438-2537-ce01-88fb925019fe</td>\n",
       "      <td>2677824</td>\n",
       "      <td>123</td>\n",
       "      <td>0</td>\n",
       "      <td>ES</td>\n",
       "    </tr>\n",
       "  </tbody>\n",
       "</table>\n",
       "</div>"
      ],
      "text/plain": [
       "  sample_datetime sample_date_string region verification_key_version  \\\n",
       "0      2020-11-30         2020-11-30     ES                       V1   \n",
       "1      2020-11-30         2020-11-30     ES                       V1   \n",
       "2      2020-11-30         2020-11-30     ES                       V1   \n",
       "3      2020-11-30         2020-11-30     ES                       V1   \n",
       "4      2020-11-30         2020-11-30     ES                       V1   \n",
       "\n",
       "  verification_key_id  signature_algorithm  \\\n",
       "0                 214  1.2.840.10045.4.3.2   \n",
       "1                 214  1.2.840.10045.4.3.2   \n",
       "2                 214  1.2.840.10045.4.3.2   \n",
       "3                 214  1.2.840.10045.4.3.2   \n",
       "4                 214  1.2.840.10045.4.3.2   \n",
       "\n",
       "                               key_data  rolling_start_interval_number  \\\n",
       "0  57769afd-61a5-4bb5-634c-f1bfc3f7fd91                        2677824   \n",
       "1  55f623a0-024d-2104-5367-b710e710aeeb                        2677824   \n",
       "2  508c479b-a6be-9da2-6d21-09b3280801d8                        2677824   \n",
       "3  83a293d9-be8f-abc4-d0e1-0323832a35bf                        2677824   \n",
       "4  99db6a44-9438-2537-ce01-88fb925019fe                        2677824   \n",
       "\n",
       "   rolling_period  transmission_risk_level backend_identifier  \n",
       "0             132                        0                 ES  \n",
       "1             124                        0                 ES  \n",
       "2             123                        0                 ES  \n",
       "3             123                        0                 ES  \n",
       "4             123                        0                 ES  "
      ]
     },
     "execution_count": 18,
     "metadata": {},
     "output_type": "execute_result"
    }
   ],
   "source": [
    "raw_zip_path_prefix = \"Data/TEKs/Raw/\"\n",
    "fail_on_error_backend_identifiers = [report_backend_identifier]\n",
    "multi_backend_exposure_keys_df = \\\n",
    "    exposure_notification_io.download_exposure_keys_from_backends(\n",
    "        backend_identifiers=report_backend_identifiers,\n",
    "        generation_days=backend_generation_days,\n",
    "        fail_on_error_backend_identifiers=fail_on_error_backend_identifiers,\n",
    "        save_raw_zip_path_prefix=raw_zip_path_prefix)\n",
    "multi_backend_exposure_keys_df[\"region\"] = multi_backend_exposure_keys_df[\"backend_identifier\"]\n",
    "multi_backend_exposure_keys_df.rename(\n",
    "    columns={\n",
    "        \"generation_datetime\": \"sample_datetime\",\n",
    "        \"generation_date_string\": \"sample_date_string\",\n",
    "    },\n",
    "    inplace=True)\n",
    "multi_backend_exposure_keys_df.head()"
   ]
  },
  {
   "cell_type": "code",
   "execution_count": 19,
   "metadata": {
    "collapsed": false,
    "execution": {
     "iopub.execute_input": "2020-11-30T23:26:48.018023Z",
     "iopub.status.busy": "2020-11-30T23:26:48.017517Z",
     "iopub.status.idle": "2020-11-30T23:26:48.231468Z",
     "shell.execute_reply": "2020-11-30T23:26:48.231870Z"
    },
    "papermill": {
     "duration": 0.265096,
     "end_time": "2020-11-30T23:26:48.232038",
     "exception": false,
     "start_time": "2020-11-30T23:26:47.966942",
     "status": "completed"
    },
    "pycharm": {
     "name": "#%%\n"
    },
    "tags": []
   },
   "outputs": [
    {
     "data": {
      "text/plain": [
       "<matplotlib.axes._subplots.AxesSubplot at 0x7fbe7ab12c10>"
      ]
     },
     "execution_count": 19,
     "metadata": {},
     "output_type": "execute_result"
    },
    {
     "data": {
      "image/png": "[encoded data removed]",
      "text/plain": [
       "<Figure size 1080x432 with 1 Axes>"
      ]
     },
     "metadata": {},
     "output_type": "display_data"
    }
   ],
   "source": [
    "early_teks_df = multi_backend_exposure_keys_df[\n",
    "    multi_backend_exposure_keys_df.rolling_period < 144].copy()\n",
    "early_teks_df[\"rolling_period_in_hours\"] = early_teks_df.rolling_period / 6\n",
    "early_teks_df[early_teks_df.sample_date_string != extraction_date] \\\n",
    "    .rolling_period_in_hours.hist(bins=list(range(24)))"
   ]
  },
  {
   "cell_type": "code",
   "execution_count": 20,
   "metadata": {
    "collapsed": false,
    "execution": {
     "iopub.execute_input": "2020-11-30T23:26:48.331759Z",
     "iopub.status.busy": "2020-11-30T23:26:48.331240Z",
     "iopub.status.idle": "2020-11-30T23:26:48.509605Z",
     "shell.execute_reply": "2020-11-30T23:26:48.510223Z"
    },
    "papermill": {
     "duration": 0.23277,
     "end_time": "2020-11-30T23:26:48.510371",
     "exception": false,
     "start_time": "2020-11-30T23:26:48.277601",
     "status": "completed"
    },
    "pycharm": {
     "name": "#%%\n"
    },
    "tags": []
   },
   "outputs": [
    {
     "data": {
      "text/plain": [
       "<matplotlib.axes._subplots.AxesSubplot at 0x7fbe7a763430>"
      ]
     },
     "execution_count": 20,
     "metadata": {},
     "output_type": "execute_result"
    },
    {
     "data": {
      "image/png": "[encoded data removed]",
      "text/plain": [
       "<Figure size 1080x432 with 1 Axes>"
      ]
     },
     "metadata": {},
     "output_type": "display_data"
    }
   ],
   "source": [
    "early_teks_df[early_teks_df.sample_date_string == extraction_date] \\\n",
    "    .rolling_period_in_hours.hist(bins=list(range(24)))"
   ]
  },
  {
   "cell_type": "code",
   "execution_count": 21,
   "metadata": {
    "collapsed": false,
    "execution": {
     "iopub.execute_input": "2020-11-30T23:26:48.604683Z",
     "iopub.status.busy": "2020-11-30T23:26:48.604236Z",
     "iopub.status.idle": "2020-11-30T23:26:48.638345Z",
     "shell.execute_reply": "2020-11-30T23:26:48.638752Z"
    },
    "papermill": {
     "duration": 0.082027,
     "end_time": "2020-11-30T23:26:48.638902",
     "exception": false,
     "start_time": "2020-11-30T23:26:48.556875",
     "status": "completed"
    },
    "pycharm": {
     "name": "#%%\n"
    },
    "tags": []
   },
   "outputs": [
    {
     "data": {
      "text/html": [
       "<div>\n",
       "<style scoped>\n",
       "    .dataframe tbody tr th:only-of-type {\n",
       "        vertical-align: middle;\n",
       "    }\n",
       "\n",
       "    .dataframe tbody tr th {\n",
       "        vertical-align: top;\n",
       "    }\n",
       "\n",
       "    .dataframe thead th {\n",
       "        text-align: right;\n",
       "    }\n",
       "</style>\n",
       "<table border=\"1\" class=\"dataframe\">\n",
       "  <thead>\n",
       "    <tr style=\"text-align: right;\">\n",
       "      <th></th>\n",
       "      <th>sample_date_string</th>\n",
       "      <th>region</th>\n",
       "      <th>key_data</th>\n",
       "    </tr>\n",
       "  </thead>\n",
       "  <tbody>\n",
       "    <tr>\n",
       "      <th>0</th>\n",
       "      <td>2020-11-30</td>\n",
       "      <td>ES</td>\n",
       "      <td>57769afd-61a5-4bb5-634c-f1bfc3f7fd91</td>\n",
       "    </tr>\n",
       "    <tr>\n",
       "      <th>1</th>\n",
       "      <td>2020-11-30</td>\n",
       "      <td>ES</td>\n",
       "      <td>55f623a0-024d-2104-5367-b710e710aeeb</td>\n",
       "    </tr>\n",
       "    <tr>\n",
       "      <th>2</th>\n",
       "      <td>2020-11-30</td>\n",
       "      <td>ES</td>\n",
       "      <td>508c479b-a6be-9da2-6d21-09b3280801d8</td>\n",
       "    </tr>\n",
       "    <tr>\n",
       "      <th>3</th>\n",
       "      <td>2020-11-30</td>\n",
       "      <td>ES</td>\n",
       "      <td>83a293d9-be8f-abc4-d0e1-0323832a35bf</td>\n",
       "    </tr>\n",
       "    <tr>\n",
       "      <th>4</th>\n",
       "      <td>2020-11-30</td>\n",
       "      <td>ES</td>\n",
       "      <td>99db6a44-9438-2537-ce01-88fb925019fe</td>\n",
       "    </tr>\n",
       "  </tbody>\n",
       "</table>\n",
       "</div>"
      ],
      "text/plain": [
       "  sample_date_string region                              key_data\n",
       "0         2020-11-30     ES  57769afd-61a5-4bb5-634c-f1bfc3f7fd91\n",
       "1         2020-11-30     ES  55f623a0-024d-2104-5367-b710e710aeeb\n",
       "2         2020-11-30     ES  508c479b-a6be-9da2-6d21-09b3280801d8\n",
       "3         2020-11-30     ES  83a293d9-be8f-abc4-d0e1-0323832a35bf\n",
       "4         2020-11-30     ES  99db6a44-9438-2537-ce01-88fb925019fe"
      ]
     },
     "execution_count": 21,
     "metadata": {},
     "output_type": "execute_result"
    }
   ],
   "source": [
    "multi_backend_exposure_keys_df = multi_backend_exposure_keys_df[[\n",
    "    \"sample_date_string\", \"region\", \"key_data\"]]\n",
    "multi_backend_exposure_keys_df.head()"
   ]
  },
  {
   "cell_type": "code",
   "execution_count": 22,
   "metadata": {
    "collapsed": false,
    "execution": {
     "iopub.execute_input": "2020-11-30T23:26:48.743358Z",
     "iopub.status.busy": "2020-11-30T23:26:48.742843Z",
     "iopub.status.idle": "2020-11-30T23:26:51.964743Z",
     "shell.execute_reply": "2020-11-30T23:26:51.963739Z"
    },
    "papermill": {
     "duration": 3.279581,
     "end_time": "2020-11-30T23:26:51.964867",
     "exception": false,
     "start_time": "2020-11-30T23:26:48.685286",
     "status": "completed"
    },
    "pycharm": {
     "name": "#%%\n"
    },
    "tags": []
   },
   "outputs": [
    {
     "data": {
      "text/plain": [
       "['BE@TST', 'MT', 'PT', 'BE', 'DK', 'CH', 'ES@PRE', 'DE', 'IT', 'ES']"
      ]
     },
     "execution_count": 22,
     "metadata": {},
     "output_type": "execute_result"
    }
   ],
   "source": [
    "active_regions = \\\n",
    "    multi_backend_exposure_keys_df.groupby(\"region\").key_data.nunique().sort_values().index.unique().tolist()\n",
    "active_regions"
   ]
  },
  {
   "cell_type": "code",
   "execution_count": 23,
   "metadata": {
    "collapsed": false,
    "execution": {
     "iopub.execute_input": "2020-11-30T23:26:52.089765Z",
     "iopub.status.busy": "2020-11-30T23:26:52.089200Z",
     "iopub.status.idle": "2020-11-30T23:26:55.460308Z",
     "shell.execute_reply": "2020-11-30T23:26:55.459810Z"
    },
    "papermill": {
     "duration": 3.450231,
     "end_time": "2020-11-30T23:26:55.460433",
     "exception": false,
     "start_time": "2020-11-30T23:26:52.010202",
     "status": "completed"
    },
    "pycharm": {
     "name": "#%%\n"
    },
    "tags": []
   },
   "outputs": [
    {
     "data": {
      "text/html": [
       "<div>\n",
       "<style scoped>\n",
       "    .dataframe tbody tr th:only-of-type {\n",
       "        vertical-align: middle;\n",
       "    }\n",
       "\n",
       "    .dataframe tbody tr th {\n",
       "        vertical-align: top;\n",
       "    }\n",
       "\n",
       "    .dataframe thead tr th {\n",
       "        text-align: left;\n",
       "    }\n",
       "\n",
       "    .dataframe thead tr:last-of-type th {\n",
       "        text-align: right;\n",
       "    }\n",
       "</style>\n",
       "<table border=\"1\" class=\"dataframe\">\n",
       "  <thead>\n",
       "    <tr>\n",
       "      <th></th>\n",
       "      <th colspan=\"10\" halign=\"left\">shared_teks_by_generation_date</th>\n",
       "    </tr>\n",
       "    <tr>\n",
       "      <th>region</th>\n",
       "      <th>BE</th>\n",
       "      <th>BE@TST</th>\n",
       "      <th>CH</th>\n",
       "      <th>DE</th>\n",
       "      <th>DK</th>\n",
       "      <th>ES</th>\n",
       "      <th>ES@PRE</th>\n",
       "      <th>IT</th>\n",
       "      <th>MT</th>\n",
       "      <th>PT</th>\n",
       "    </tr>\n",
       "    <tr>\n",
       "      <th>sample_date</th>\n",
       "      <th></th>\n",
       "      <th></th>\n",
       "      <th></th>\n",
       "      <th></th>\n",
       "      <th></th>\n",
       "      <th></th>\n",
       "      <th></th>\n",
       "      <th></th>\n",
       "      <th></th>\n",
       "      <th></th>\n",
       "    </tr>\n",
       "  </thead>\n",
       "  <tbody>\n",
       "    <tr>\n",
       "      <th>2020-11-30</th>\n",
       "      <td>0</td>\n",
       "      <td>0</td>\n",
       "      <td>345</td>\n",
       "      <td>0</td>\n",
       "      <td>0</td>\n",
       "      <td>126</td>\n",
       "      <td>1</td>\n",
       "      <td>31</td>\n",
       "      <td>0</td>\n",
       "      <td>0</td>\n",
       "    </tr>\n",
       "    <tr>\n",
       "      <th>2020-11-29</th>\n",
       "      <td>0</td>\n",
       "      <td>0</td>\n",
       "      <td>674</td>\n",
       "      <td>0</td>\n",
       "      <td>193</td>\n",
       "      <td>1191</td>\n",
       "      <td>339</td>\n",
       "      <td>1029</td>\n",
       "      <td>106</td>\n",
       "      <td>45</td>\n",
       "    </tr>\n",
       "    <tr>\n",
       "      <th>2020-11-28</th>\n",
       "      <td>119</td>\n",
       "      <td>47</td>\n",
       "      <td>1051</td>\n",
       "      <td>921</td>\n",
       "      <td>412</td>\n",
       "      <td>2631</td>\n",
       "      <td>1791</td>\n",
       "      <td>1998</td>\n",
       "      <td>107</td>\n",
       "      <td>61</td>\n",
       "    </tr>\n",
       "    <tr>\n",
       "      <th>2020-11-27</th>\n",
       "      <td>229</td>\n",
       "      <td>37</td>\n",
       "      <td>1517</td>\n",
       "      <td>2764</td>\n",
       "      <td>633</td>\n",
       "      <td>5089</td>\n",
       "      <td>2406</td>\n",
       "      <td>3996</td>\n",
       "      <td>111</td>\n",
       "      <td>90</td>\n",
       "    </tr>\n",
       "    <tr>\n",
       "      <th>2020-11-26</th>\n",
       "      <td>287</td>\n",
       "      <td>45</td>\n",
       "      <td>1946</td>\n",
       "      <td>4444</td>\n",
       "      <td>831</td>\n",
       "      <td>7416</td>\n",
       "      <td>2932</td>\n",
       "      <td>5829</td>\n",
       "      <td>114</td>\n",
       "      <td>115</td>\n",
       "    </tr>\n",
       "  </tbody>\n",
       "</table>\n",
       "</div>"
      ],
      "text/plain": [
       "            shared_teks_by_generation_date                                \\\n",
       "region                                  BE BE@TST    CH    DE   DK    ES   \n",
       "sample_date                                                                \n",
       "2020-11-30                               0      0   345     0    0   126   \n",
       "2020-11-29                               0      0   674     0  193  1191   \n",
       "2020-11-28                             119     47  1051   921  412  2631   \n",
       "2020-11-27                             229     37  1517  2764  633  5089   \n",
       "2020-11-26                             287     45  1946  4444  831  7416   \n",
       "\n",
       "                                    \n",
       "region      ES@PRE    IT   MT   PT  \n",
       "sample_date                         \n",
       "2020-11-30       1    31    0    0  \n",
       "2020-11-29     339  1029  106   45  \n",
       "2020-11-28    1791  1998  107   61  \n",
       "2020-11-27    2406  3996  111   90  \n",
       "2020-11-26    2932  5829  114  115  "
      ]
     },
     "execution_count": 23,
     "metadata": {},
     "output_type": "execute_result"
    }
   ],
   "source": [
    "multi_backend_summary_df = multi_backend_exposure_keys_df.groupby(\n",
    "    [\"sample_date_string\", \"region\"]).key_data.nunique().reset_index() \\\n",
    "    .pivot(index=\"sample_date_string\", columns=\"region\") \\\n",
    "    .sort_index(ascending=False)\n",
    "multi_backend_summary_df.rename(\n",
    "    columns={\"key_data\": \"shared_teks_by_generation_date\"},\n",
    "    inplace=True)\n",
    "multi_backend_summary_df.rename_axis(\"sample_date\", inplace=True)\n",
    "multi_backend_summary_df = multi_backend_summary_df.fillna(0).astype(int)\n",
    "multi_backend_summary_df = multi_backend_summary_df.head(backend_generation_days)\n",
    "multi_backend_summary_df.head()"
   ]
  },
  {
   "cell_type": "code",
   "execution_count": 24,
   "metadata": {
    "collapsed": false,
    "execution": {
     "iopub.execute_input": "2020-11-30T23:26:55.560591Z",
     "iopub.status.busy": "2020-11-30T23:26:55.560051Z",
     "iopub.status.idle": "2020-11-30T23:26:59.736488Z",
     "shell.execute_reply": "2020-11-30T23:26:59.735974Z"
    },
    "papermill": {
     "duration": 4.230238,
     "end_time": "2020-11-30T23:26:59.736622",
     "exception": false,
     "start_time": "2020-11-30T23:26:55.506384",
     "status": "completed"
    },
    "pycharm": {
     "name": "#%%\n"
    },
    "tags": []
   },
   "outputs": [
    {
     "name": "stderr",
     "output_type": "stream",
     "text": [
      "<ipython-input-24-4e21708c19d8>:2: FutureWarning: `item` has been deprecated and will be removed in a future version\n",
      "  teks_x = x.key_data_x.item()\n",
      "<ipython-input-24-4e21708c19d8>:3: FutureWarning: `item` has been deprecated and will be removed in a future version\n",
      "  common_teks = set(teks_x).intersection(x.key_data_y.item())\n"
     ]
    },
    {
     "name": "stderr",
     "output_type": "stream",
     "text": [
      "<ipython-input-24-4e21708c19d8>:33: FutureWarning: `item` has been deprecated and will be removed in a future version\n",
      "  aggfunc=lambda x: x.item())\n"
     ]
    },
    {
     "data": {
      "text/html": [
       "<div>\n",
       "<style scoped>\n",
       "    .dataframe tbody tr th:only-of-type {\n",
       "        vertical-align: middle;\n",
       "    }\n",
       "\n",
       "    .dataframe tbody tr th {\n",
       "        vertical-align: top;\n",
       "    }\n",
       "\n",
       "    .dataframe thead tr th {\n",
       "        text-align: left;\n",
       "    }\n",
       "\n",
       "    .dataframe thead tr:last-of-type th {\n",
       "        text-align: right;\n",
       "    }\n",
       "</style>\n",
       "<table border=\"1\" class=\"dataframe\">\n",
       "  <thead>\n",
       "    <tr>\n",
       "      <th></th>\n",
       "      <th colspan=\"10\" halign=\"left\">common_teks_fraction</th>\n",
       "    </tr>\n",
       "    <tr>\n",
       "      <th>region_x</th>\n",
       "      <th>BE</th>\n",
       "      <th>BE@TST</th>\n",
       "      <th>CH</th>\n",
       "      <th>DE</th>\n",
       "      <th>DK</th>\n",
       "      <th>ES</th>\n",
       "      <th>ES@PRE</th>\n",
       "      <th>IT</th>\n",
       "      <th>MT</th>\n",
       "      <th>PT</th>\n",
       "    </tr>\n",
       "    <tr>\n",
       "      <th>region_y</th>\n",
       "      <th></th>\n",
       "      <th></th>\n",
       "      <th></th>\n",
       "      <th></th>\n",
       "      <th></th>\n",
       "      <th></th>\n",
       "      <th></th>\n",
       "      <th></th>\n",
       "      <th></th>\n",
       "      <th></th>\n",
       "    </tr>\n",
       "  </thead>\n",
       "  <tbody>\n",
       "    <tr>\n",
       "      <th>BE</th>\n",
       "      <td>NaN</td>\n",
       "      <td>0.0</td>\n",
       "      <td>0.0</td>\n",
       "      <td>0.000000</td>\n",
       "      <td>0.000000</td>\n",
       "      <td>0.000000</td>\n",
       "      <td>0.000000</td>\n",
       "      <td>0.000000</td>\n",
       "      <td>0.0</td>\n",
       "      <td>0.0</td>\n",
       "    </tr>\n",
       "    <tr>\n",
       "      <th>BE@TST</th>\n",
       "      <td>0.0</td>\n",
       "      <td>NaN</td>\n",
       "      <td>0.0</td>\n",
       "      <td>0.000000</td>\n",
       "      <td>0.000000</td>\n",
       "      <td>0.000000</td>\n",
       "      <td>0.000000</td>\n",
       "      <td>0.000000</td>\n",
       "      <td>0.0</td>\n",
       "      <td>0.0</td>\n",
       "    </tr>\n",
       "    <tr>\n",
       "      <th>CH</th>\n",
       "      <td>0.0</td>\n",
       "      <td>0.0</td>\n",
       "      <td>NaN</td>\n",
       "      <td>0.000000</td>\n",
       "      <td>0.000000</td>\n",
       "      <td>0.000000</td>\n",
       "      <td>0.000000</td>\n",
       "      <td>0.000000</td>\n",
       "      <td>0.0</td>\n",
       "      <td>0.0</td>\n",
       "    </tr>\n",
       "    <tr>\n",
       "      <th>DE</th>\n",
       "      <td>0.0</td>\n",
       "      <td>0.0</td>\n",
       "      <td>0.0</td>\n",
       "      <td>NaN</td>\n",
       "      <td>0.000000</td>\n",
       "      <td>0.677647</td>\n",
       "      <td>0.000053</td>\n",
       "      <td>0.828982</td>\n",
       "      <td>0.0</td>\n",
       "      <td>0.0</td>\n",
       "    </tr>\n",
       "    <tr>\n",
       "      <th>DK</th>\n",
       "      <td>0.0</td>\n",
       "      <td>0.0</td>\n",
       "      <td>0.0</td>\n",
       "      <td>0.000000</td>\n",
       "      <td>NaN</td>\n",
       "      <td>0.089477</td>\n",
       "      <td>0.000000</td>\n",
       "      <td>0.000000</td>\n",
       "      <td>0.0</td>\n",
       "      <td>0.0</td>\n",
       "    </tr>\n",
       "    <tr>\n",
       "      <th>ES</th>\n",
       "      <td>0.0</td>\n",
       "      <td>0.0</td>\n",
       "      <td>0.0</td>\n",
       "      <td>0.969986</td>\n",
       "      <td>0.835923</td>\n",
       "      <td>NaN</td>\n",
       "      <td>0.000053</td>\n",
       "      <td>0.985629</td>\n",
       "      <td>0.0</td>\n",
       "      <td>0.0</td>\n",
       "    </tr>\n",
       "    <tr>\n",
       "      <th>ES@PRE</th>\n",
       "      <td>0.0</td>\n",
       "      <td>0.0</td>\n",
       "      <td>0.0</td>\n",
       "      <td>0.000026</td>\n",
       "      <td>0.000000</td>\n",
       "      <td>0.000018</td>\n",
       "      <td>NaN</td>\n",
       "      <td>0.000023</td>\n",
       "      <td>0.0</td>\n",
       "      <td>0.0</td>\n",
       "    </tr>\n",
       "    <tr>\n",
       "      <th>IT</th>\n",
       "      <td>0.0</td>\n",
       "      <td>0.0</td>\n",
       "      <td>0.0</td>\n",
       "      <td>0.969810</td>\n",
       "      <td>0.000000</td>\n",
       "      <td>0.805551</td>\n",
       "      <td>0.000053</td>\n",
       "      <td>NaN</td>\n",
       "      <td>0.0</td>\n",
       "      <td>0.0</td>\n",
       "    </tr>\n",
       "    <tr>\n",
       "      <th>MT</th>\n",
       "      <td>0.0</td>\n",
       "      <td>0.0</td>\n",
       "      <td>0.0</td>\n",
       "      <td>0.000000</td>\n",
       "      <td>0.000000</td>\n",
       "      <td>0.000000</td>\n",
       "      <td>0.000000</td>\n",
       "      <td>0.000000</td>\n",
       "      <td>NaN</td>\n",
       "      <td>0.0</td>\n",
       "    </tr>\n",
       "    <tr>\n",
       "      <th>PT</th>\n",
       "      <td>0.0</td>\n",
       "      <td>0.0</td>\n",
       "      <td>0.0</td>\n",
       "      <td>0.000000</td>\n",
       "      <td>0.000000</td>\n",
       "      <td>0.000000</td>\n",
       "      <td>0.000000</td>\n",
       "      <td>0.000000</td>\n",
       "      <td>0.0</td>\n",
       "      <td>NaN</td>\n",
       "    </tr>\n",
       "  </tbody>\n",
       "</table>\n",
       "</div>"
      ],
      "text/plain": [
       "         common_teks_fraction                                            \\\n",
       "region_x                   BE BE@TST   CH        DE        DK        ES   \n",
       "region_y                                                                  \n",
       "BE                        NaN    0.0  0.0  0.000000  0.000000  0.000000   \n",
       "BE@TST                    0.0    NaN  0.0  0.000000  0.000000  0.000000   \n",
       "CH                        0.0    0.0  NaN  0.000000  0.000000  0.000000   \n",
       "DE                        0.0    0.0  0.0       NaN  0.000000  0.677647   \n",
       "DK                        0.0    0.0  0.0  0.000000       NaN  0.089477   \n",
       "ES                        0.0    0.0  0.0  0.969986  0.835923       NaN   \n",
       "ES@PRE                    0.0    0.0  0.0  0.000026  0.000000  0.000018   \n",
       "IT                        0.0    0.0  0.0  0.969810  0.000000  0.805551   \n",
       "MT                        0.0    0.0  0.0  0.000000  0.000000  0.000000   \n",
       "PT                        0.0    0.0  0.0  0.000000  0.000000  0.000000   \n",
       "\n",
       "                                        \n",
       "region_x    ES@PRE        IT   MT   PT  \n",
       "region_y                                \n",
       "BE        0.000000  0.000000  0.0  0.0  \n",
       "BE@TST    0.000000  0.000000  0.0  0.0  \n",
       "CH        0.000000  0.000000  0.0  0.0  \n",
       "DE        0.000053  0.828982  0.0  0.0  \n",
       "DK        0.000000  0.000000  0.0  0.0  \n",
       "ES        0.000053  0.985629  0.0  0.0  \n",
       "ES@PRE         NaN  0.000023  0.0  0.0  \n",
       "IT        0.000053       NaN  0.0  0.0  \n",
       "MT        0.000000  0.000000  NaN  0.0  \n",
       "PT        0.000000  0.000000  0.0  NaN  "
      ]
     },
     "execution_count": 24,
     "metadata": {},
     "output_type": "execute_result"
    }
   ],
   "source": [
    "def compute_keys_cross_sharing(x):\n",
    "    teks_x = x.key_data_x.item()\n",
    "    common_teks = set(teks_x).intersection(x.key_data_y.item())\n",
    "    common_teks_fraction = len(common_teks) / len(teks_x)\n",
    "    return pd.Series(dict(\n",
    "        common_teks=common_teks,\n",
    "        common_teks_fraction=common_teks_fraction,\n",
    "    ))\n",
    "\n",
    "multi_backend_exposure_keys_by_region_df = \\\n",
    "    multi_backend_exposure_keys_df.groupby(\"region\").key_data.unique().reset_index()\n",
    "multi_backend_exposure_keys_by_region_df[\"_merge\"] = True\n",
    "multi_backend_exposure_keys_by_region_combination_df = \\\n",
    "    multi_backend_exposure_keys_by_region_df.merge(\n",
    "        multi_backend_exposure_keys_by_region_df, on=\"_merge\")\n",
    "multi_backend_exposure_keys_by_region_combination_df.drop(\n",
    "    columns=[\"_merge\"], inplace=True)\n",
    "if multi_backend_exposure_keys_by_region_combination_df.region_x.nunique() > 1:\n",
    "    multi_backend_exposure_keys_by_region_combination_df = \\\n",
    "        multi_backend_exposure_keys_by_region_combination_df[\n",
    "            multi_backend_exposure_keys_by_region_combination_df.region_x !=\n",
    "            multi_backend_exposure_keys_by_region_combination_df.region_y]\n",
    "multi_backend_exposure_keys_cross_sharing_df = \\\n",
    "    multi_backend_exposure_keys_by_region_combination_df \\\n",
    "        .groupby([\"region_x\", \"region_y\"]) \\\n",
    "        .apply(compute_keys_cross_sharing) \\\n",
    "        .reset_index()\n",
    "multi_backend_cross_sharing_summary_df = \\\n",
    "    multi_backend_exposure_keys_cross_sharing_df.pivot_table(\n",
    "        values=[\"common_teks_fraction\"],\n",
    "        columns=\"region_x\",\n",
    "        index=\"region_y\",\n",
    "        aggfunc=lambda x: x.item())\n",
    "multi_backend_cross_sharing_summary_df"
   ]
  },
  {
   "cell_type": "code",
   "execution_count": 25,
   "metadata": {
    "collapsed": false,
    "execution": {
     "iopub.execute_input": "2020-11-30T23:26:59.863925Z",
     "iopub.status.busy": "2020-11-30T23:26:59.863404Z",
     "iopub.status.idle": "2020-11-30T23:27:01.716764Z",
     "shell.execute_reply": "2020-11-30T23:27:01.716308Z"
    },
    "papermill": {
     "duration": 1.932451,
     "end_time": "2020-11-30T23:27:01.716885",
     "exception": false,
     "start_time": "2020-11-30T23:26:59.784434",
     "status": "completed"
    },
    "pycharm": {
     "name": "#%%\n"
    },
    "tags": []
   },
   "outputs": [
    {
     "data": {
      "text/plain": [
       "['BE@TST', 'MT', 'PT', 'BE', 'DK', 'CH', 'ES@PRE', 'DE', 'IT']"
      ]
     },
     "execution_count": 25,
     "metadata": {},
     "output_type": "execute_result"
    }
   ],
   "source": [
    "multi_backend_without_active_region_exposure_keys_df = \\\n",
    "    multi_backend_exposure_keys_df[multi_backend_exposure_keys_df.region != report_backend_identifier]\n",
    "multi_backend_without_active_region = \\\n",
    "    multi_backend_without_active_region_exposure_keys_df.groupby(\"region\").key_data.nunique().sort_values().index.unique().tolist()\n",
    "multi_backend_without_active_region"
   ]
  },
  {
   "cell_type": "code",
   "execution_count": 26,
   "metadata": {
    "execution": {
     "iopub.execute_input": "2020-11-30T23:27:01.850225Z",
     "iopub.status.busy": "2020-11-30T23:27:01.849674Z",
     "iopub.status.idle": "2020-11-30T23:27:02.981334Z",
     "shell.execute_reply": "2020-11-30T23:27:02.980610Z"
    },
    "papermill": {
     "duration": 1.216895,
     "end_time": "2020-11-30T23:27:02.981464",
     "exception": false,
     "start_time": "2020-11-30T23:27:01.764569",
     "status": "completed"
    },
    "scrolled": false,
    "tags": []
   },
   "outputs": [
    {
     "name": "stderr",
     "output_type": "stream",
     "text": [
      "/opt/hostedtoolcache/Python/3.8.6/x64/lib/python3.8/site-packages/pandas/core/frame.py:4110: SettingWithCopyWarning: \n",
      "A value is trying to be set on a copy of a slice from a DataFrame\n",
      "\n",
      "See the caveats in the documentation: http://pandas.pydata.org/pandas-docs/stable/user_guide/indexing.html#returning-a-view-versus-a-copy\n",
      "  return super().drop(\n"
     ]
    },
    {
     "data": {
      "text/html": [
       "<div>\n",
       "<style scoped>\n",
       "    .dataframe tbody tr th:only-of-type {\n",
       "        vertical-align: middle;\n",
       "    }\n",
       "\n",
       "    .dataframe tbody tr th {\n",
       "        vertical-align: top;\n",
       "    }\n",
       "\n",
       "    .dataframe thead th {\n",
       "        text-align: right;\n",
       "    }\n",
       "</style>\n",
       "<table border=\"1\" class=\"dataframe\">\n",
       "  <thead>\n",
       "    <tr style=\"text-align: right;\">\n",
       "      <th></th>\n",
       "      <th>shared_teks_by_generation_date</th>\n",
       "    </tr>\n",
       "    <tr>\n",
       "      <th>sample_date_string</th>\n",
       "      <th></th>\n",
       "    </tr>\n",
       "  </thead>\n",
       "  <tbody>\n",
       "    <tr>\n",
       "      <th>2020-11-30</th>\n",
       "      <td>126</td>\n",
       "    </tr>\n",
       "    <tr>\n",
       "      <th>2020-11-29</th>\n",
       "      <td>1191</td>\n",
       "    </tr>\n",
       "    <tr>\n",
       "      <th>2020-11-28</th>\n",
       "      <td>2631</td>\n",
       "    </tr>\n",
       "    <tr>\n",
       "      <th>2020-11-27</th>\n",
       "      <td>5089</td>\n",
       "    </tr>\n",
       "    <tr>\n",
       "      <th>2020-11-26</th>\n",
       "      <td>7416</td>\n",
       "    </tr>\n",
       "  </tbody>\n",
       "</table>\n",
       "</div>"
      ],
      "text/plain": [
       "                    shared_teks_by_generation_date\n",
       "sample_date_string                                \n",
       "2020-11-30                                     126\n",
       "2020-11-29                                    1191\n",
       "2020-11-28                                    2631\n",
       "2020-11-27                                    5089\n",
       "2020-11-26                                    7416"
      ]
     },
     "execution_count": 26,
     "metadata": {},
     "output_type": "execute_result"
    }
   ],
   "source": [
    "exposure_keys_summary_df = multi_backend_exposure_keys_df[\n",
    "    multi_backend_exposure_keys_df.region == report_backend_identifier]\n",
    "exposure_keys_summary_df.drop(columns=[\"region\"], inplace=True)\n",
    "exposure_keys_summary_df = \\\n",
    "    exposure_keys_summary_df.groupby([\"sample_date_string\"]).key_data.nunique().to_frame()\n",
    "exposure_keys_summary_df = \\\n",
    "    exposure_keys_summary_df.reset_index().set_index(\"sample_date_string\")\n",
    "exposure_keys_summary_df.sort_index(ascending=False, inplace=True)\n",
    "exposure_keys_summary_df.rename(columns={\"key_data\": \"shared_teks_by_generation_date\"}, inplace=True)\n",
    "exposure_keys_summary_df.head()"
   ]
  },
  {
   "cell_type": "markdown",
   "metadata": {
    "papermill": {
     "duration": 0.048928,
     "end_time": "2020-11-30T23:27:03.079262",
     "exception": false,
     "start_time": "2020-11-30T23:27:03.030334",
     "status": "completed"
    },
    "tags": []
   },
   "source": [
    "### Dump API TEKs"
   ]
  },
  {
   "cell_type": "code",
   "execution_count": 27,
   "metadata": {
    "execution": {
     "iopub.execute_input": "2020-11-30T23:27:03.184956Z",
     "iopub.status.busy": "2020-11-30T23:27:03.183866Z",
     "iopub.status.idle": "2020-11-30T23:27:05.225552Z",
     "shell.execute_reply": "2020-11-30T23:27:05.225103Z"
    },
    "papermill": {
     "duration": 2.097609,
     "end_time": "2020-11-30T23:27:05.225675",
     "exception": false,
     "start_time": "2020-11-30T23:27:03.128066",
     "status": "completed"
    },
    "tags": []
   },
   "outputs": [
    {
     "data": {
      "text/html": [
       "<div>\n",
       "<style scoped>\n",
       "    .dataframe tbody tr th:only-of-type {\n",
       "        vertical-align: middle;\n",
       "    }\n",
       "\n",
       "    .dataframe tbody tr th {\n",
       "        vertical-align: top;\n",
       "    }\n",
       "\n",
       "    .dataframe thead th {\n",
       "        text-align: right;\n",
       "    }\n",
       "</style>\n",
       "<table border=\"1\" class=\"dataframe\">\n",
       "  <thead>\n",
       "    <tr style=\"text-align: right;\">\n",
       "      <th></th>\n",
       "      <th>sample_date</th>\n",
       "      <th>region</th>\n",
       "      <th>tek_list</th>\n",
       "      <th>extraction_date</th>\n",
       "      <th>extraction_date_with_hour</th>\n",
       "    </tr>\n",
       "  </thead>\n",
       "  <tbody>\n",
       "    <tr>\n",
       "      <th>0</th>\n",
       "      <td>2020-11-17</td>\n",
       "      <td>BE</td>\n",
       "      <td>[00714440-780d-cc2f-76e0-ee3029035eb1, 06df5e8...</td>\n",
       "      <td>2020-11-30</td>\n",
       "      <td>2020-11-30@23</td>\n",
       "    </tr>\n",
       "    <tr>\n",
       "      <th>1</th>\n",
       "      <td>2020-11-17</td>\n",
       "      <td>BE@TST</td>\n",
       "      <td>[08bb7c1d-a52f-5ef3-b7b7-7248656911ff, 1ead62a...</td>\n",
       "      <td>2020-11-30</td>\n",
       "      <td>2020-11-30@23</td>\n",
       "    </tr>\n",
       "    <tr>\n",
       "      <th>2</th>\n",
       "      <td>2020-11-17</td>\n",
       "      <td>CH</td>\n",
       "      <td>[8bed0b2e-7662-218a-af10-bbe7346dbc0f, 5493e65...</td>\n",
       "      <td>2020-11-30</td>\n",
       "      <td>2020-11-30@23</td>\n",
       "    </tr>\n",
       "    <tr>\n",
       "      <th>3</th>\n",
       "      <td>2020-11-17</td>\n",
       "      <td>DE</td>\n",
       "      <td>[0032acfd-e907-a419-143d-878dc1cb178d, 003ca28...</td>\n",
       "      <td>2020-11-30</td>\n",
       "      <td>2020-11-30@23</td>\n",
       "    </tr>\n",
       "    <tr>\n",
       "      <th>4</th>\n",
       "      <td>2020-11-17</td>\n",
       "      <td>DK</td>\n",
       "      <td>[b4c43536-17eb-d875-6016-f0c3c0f34964, e33f71c...</td>\n",
       "      <td>2020-11-30</td>\n",
       "      <td>2020-11-30@23</td>\n",
       "    </tr>\n",
       "  </tbody>\n",
       "</table>\n",
       "</div>"
      ],
      "text/plain": [
       "  sample_date  region                                           tek_list  \\\n",
       "0  2020-11-17      BE  [00714440-780d-cc2f-76e0-ee3029035eb1, 06df5e8...   \n",
       "1  2020-11-17  BE@TST  [08bb7c1d-a52f-5ef3-b7b7-7248656911ff, 1ead62a...   \n",
       "2  2020-11-17      CH  [8bed0b2e-7662-218a-af10-bbe7346dbc0f, 5493e65...   \n",
       "3  2020-11-17      DE  [0032acfd-e907-a419-143d-878dc1cb178d, 003ca28...   \n",
       "4  2020-11-17      DK  [b4c43536-17eb-d875-6016-f0c3c0f34964, e33f71c...   \n",
       "\n",
       "  extraction_date extraction_date_with_hour  \n",
       "0      2020-11-30             2020-11-30@23  \n",
       "1      2020-11-30             2020-11-30@23  \n",
       "2      2020-11-30             2020-11-30@23  \n",
       "3      2020-11-30             2020-11-30@23  \n",
       "4      2020-11-30             2020-11-30@23  "
      ]
     },
     "execution_count": 27,
     "metadata": {},
     "output_type": "execute_result"
    }
   ],
   "source": [
    "tek_list_df = multi_backend_exposure_keys_df[\n",
    "    [\"sample_date_string\", \"region\", \"key_data\"]].copy()\n",
    "tek_list_df[\"key_data\"] = tek_list_df[\"key_data\"].apply(str)\n",
    "tek_list_df.rename(columns={\n",
    "    \"sample_date_string\": \"sample_date\",\n",
    "    \"key_data\": \"tek_list\"}, inplace=True)\n",
    "tek_list_df = tek_list_df.groupby(\n",
    "    [\"sample_date\", \"region\"]).tek_list.unique().reset_index()\n",
    "tek_list_df[\"extraction_date\"] = extraction_date\n",
    "tek_list_df[\"extraction_date_with_hour\"] = extraction_date_with_hour\n",
    "\n",
    "tek_list_path_prefix = \"Data/TEKs/\"\n",
    "tek_list_current_path = tek_list_path_prefix + f\"/Current/RadarCOVID-TEKs.json\"\n",
    "tek_list_daily_path = tek_list_path_prefix + f\"Daily/RadarCOVID-TEKs-{extraction_date}.json\"\n",
    "tek_list_hourly_path = tek_list_path_prefix + f\"Hourly/RadarCOVID-TEKs-{extraction_date_with_hour}.json\"\n",
    "\n",
    "for path in [tek_list_current_path, tek_list_daily_path, tek_list_hourly_path]:\n",
    "    os.makedirs(os.path.dirname(path), exist_ok=True)\n",
    "\n",
    "tek_list_df.drop(columns=[\"extraction_date\", \"extraction_date_with_hour\"]).to_json(\n",
    "    tek_list_current_path,\n",
    "    lines=True, orient=\"records\")\n",
    "tek_list_df.drop(columns=[\"extraction_date_with_hour\"]).to_json(\n",
    "    tek_list_daily_path,\n",
    "    lines=True, orient=\"records\")\n",
    "tek_list_df.to_json(\n",
    "    tek_list_hourly_path,\n",
    "    lines=True, orient=\"records\")\n",
    "tek_list_df.head()"
   ]
  },
  {
   "cell_type": "markdown",
   "metadata": {
    "papermill": {
     "duration": 0.0467,
     "end_time": "2020-11-30T23:27:05.317193",
     "exception": false,
     "start_time": "2020-11-30T23:27:05.270493",
     "status": "completed"
    },
    "tags": []
   },
   "source": [
    "### Load TEK Dumps"
   ]
  },
  {
   "cell_type": "code",
   "execution_count": 28,
   "metadata": {
    "execution": {
     "iopub.execute_input": "2020-11-30T23:27:05.435846Z",
     "iopub.status.busy": "2020-11-30T23:27:05.435327Z",
     "iopub.status.idle": "2020-11-30T23:27:05.437999Z",
     "shell.execute_reply": "2020-11-30T23:27:05.438432Z"
    },
    "papermill": {
     "duration": 0.075547,
     "end_time": "2020-11-30T23:27:05.438584",
     "exception": false,
     "start_time": "2020-11-30T23:27:05.363037",
     "status": "completed"
    },
    "tags": []
   },
   "outputs": [],
   "source": [
    "import glob\n",
    "\n",
    "def load_extracted_teks(mode, region=None, limit=None) -> pd.DataFrame:\n",
    "    extracted_teks_df = pd.DataFrame(columns=[\"region\"])\n",
    "    file_paths = list(reversed(sorted(glob.glob(tek_list_path_prefix + mode + \"/RadarCOVID-TEKs-*.json\"))))\n",
    "    if limit:\n",
    "        file_paths = file_paths[:limit]\n",
    "    for file_path in file_paths:\n",
    "        logging.info(f\"Loading TEKs from '{file_path}'...\")\n",
    "        iteration_extracted_teks_df = pd.read_json(file_path, lines=True)\n",
    "        extracted_teks_df = extracted_teks_df.append(\n",
    "            iteration_extracted_teks_df, sort=False)\n",
    "    extracted_teks_df[\"region\"] = \\\n",
    "        extracted_teks_df.region.fillna(spain_region_country_code).copy()\n",
    "    if region:\n",
    "        extracted_teks_df = \\\n",
    "            extracted_teks_df[extracted_teks_df.region == region]\n",
    "    return extracted_teks_df"
   ]
  },
  {
   "cell_type": "code",
   "execution_count": 29,
   "metadata": {
    "collapsed": false,
    "execution": {
     "iopub.execute_input": "2020-11-30T23:27:05.540769Z",
     "iopub.status.busy": "2020-11-30T23:27:05.540259Z",
     "iopub.status.idle": "2020-11-30T23:27:13.466903Z",
     "shell.execute_reply": "2020-11-30T23:27:13.466400Z"
    },
    "papermill": {
     "duration": 7.982021,
     "end_time": "2020-11-30T23:27:13.467023",
     "exception": false,
     "start_time": "2020-11-30T23:27:05.485002",
     "status": "completed"
    },
    "pycharm": {
     "name": "#%%\n"
    },
    "tags": []
   },
   "outputs": [
    {
     "data": {
      "text/html": [
       "<div>\n",
       "<style scoped>\n",
       "    .dataframe tbody tr th:only-of-type {\n",
       "        vertical-align: middle;\n",
       "    }\n",
       "\n",
       "    .dataframe tbody tr th {\n",
       "        vertical-align: top;\n",
       "    }\n",
       "\n",
       "    .dataframe thead th {\n",
       "        text-align: right;\n",
       "    }\n",
       "</style>\n",
       "<table border=\"1\" class=\"dataframe\">\n",
       "  <thead>\n",
       "    <tr style=\"text-align: right;\">\n",
       "      <th></th>\n",
       "      <th>region</th>\n",
       "      <th>sample_date</th>\n",
       "      <th>tek_list</th>\n",
       "      <th>extraction_date</th>\n",
       "    </tr>\n",
       "  </thead>\n",
       "  <tbody>\n",
       "    <tr>\n",
       "      <th>5</th>\n",
       "      <td>ES</td>\n",
       "      <td>2020-11-17</td>\n",
       "      <td>[09127cc3-cc5d-a342-609b-15d0afaceeb1, 37c7946...</td>\n",
       "      <td>2020-11-30</td>\n",
       "    </tr>\n",
       "    <tr>\n",
       "      <th>15</th>\n",
       "      <td>ES</td>\n",
       "      <td>2020-11-18</td>\n",
       "      <td>[a856337c-a83d-fd47-1e9c-fba4f70ec6a5, a45f4de...</td>\n",
       "      <td>2020-11-30</td>\n",
       "    </tr>\n",
       "    <tr>\n",
       "      <th>25</th>\n",
       "      <td>ES</td>\n",
       "      <td>2020-11-19</td>\n",
       "      <td>[6605b346-f17f-1150-fef3-93ef483d8863, 53a5f09...</td>\n",
       "      <td>2020-11-30</td>\n",
       "    </tr>\n",
       "    <tr>\n",
       "      <th>35</th>\n",
       "      <td>ES</td>\n",
       "      <td>2020-11-20</td>\n",
       "      <td>[6d62e903-24a0-fc75-8af0-0f2e41f1ec1d, a9bcf7f...</td>\n",
       "      <td>2020-11-30</td>\n",
       "    </tr>\n",
       "    <tr>\n",
       "      <th>45</th>\n",
       "      <td>ES</td>\n",
       "      <td>2020-11-21</td>\n",
       "      <td>[61c5fa7b-c735-9c37-512a-221673372f78, 6689264...</td>\n",
       "      <td>2020-11-30</td>\n",
       "    </tr>\n",
       "  </tbody>\n",
       "</table>\n",
       "</div>"
      ],
      "text/plain": [
       "   region sample_date                                           tek_list  \\\n",
       "5      ES  2020-11-17  [09127cc3-cc5d-a342-609b-15d0afaceeb1, 37c7946...   \n",
       "15     ES  2020-11-18  [a856337c-a83d-fd47-1e9c-fba4f70ec6a5, a45f4de...   \n",
       "25     ES  2020-11-19  [6605b346-f17f-1150-fef3-93ef483d8863, 53a5f09...   \n",
       "35     ES  2020-11-20  [6d62e903-24a0-fc75-8af0-0f2e41f1ec1d, a9bcf7f...   \n",
       "45     ES  2020-11-21  [61c5fa7b-c735-9c37-512a-221673372f78, 6689264...   \n",
       "\n",
       "   extraction_date  \n",
       "5       2020-11-30  \n",
       "15      2020-11-30  \n",
       "25      2020-11-30  \n",
       "35      2020-11-30  \n",
       "45      2020-11-30  "
      ]
     },
     "execution_count": 29,
     "metadata": {},
     "output_type": "execute_result"
    }
   ],
   "source": [
    "daily_extracted_teks_df = load_extracted_teks(\n",
    "    mode=\"Daily\",\n",
    "    region=report_backend_identifier,\n",
    "    limit=tek_dumps_load_limit)\n",
    "daily_extracted_teks_df.head()"
   ]
  },
  {
   "cell_type": "code",
   "execution_count": 30,
   "metadata": {
    "collapsed": false,
    "execution": {
     "iopub.execute_input": "2020-11-30T23:27:13.571977Z",
     "iopub.status.busy": "2020-11-30T23:27:13.571025Z",
     "iopub.status.idle": "2020-11-30T23:27:13.588256Z",
     "shell.execute_reply": "2020-11-30T23:27:13.587799Z"
    },
    "papermill": {
     "duration": 0.071957,
     "end_time": "2020-11-30T23:27:13.588374",
     "exception": false,
     "start_time": "2020-11-30T23:27:13.516417",
     "status": "completed"
    },
    "pycharm": {
     "name": "#%%\n"
    },
    "tags": []
   },
   "outputs": [
    {
     "data": {
      "text/html": [
       "<div>\n",
       "<style scoped>\n",
       "    .dataframe tbody tr th:only-of-type {\n",
       "        vertical-align: middle;\n",
       "    }\n",
       "\n",
       "    .dataframe tbody tr th {\n",
       "        vertical-align: top;\n",
       "    }\n",
       "\n",
       "    .dataframe thead th {\n",
       "        text-align: right;\n",
       "    }\n",
       "</style>\n",
       "<table border=\"1\" class=\"dataframe\">\n",
       "  <thead>\n",
       "    <tr style=\"text-align: right;\">\n",
       "      <th></th>\n",
       "      <th>shared_teks_by_generation_date</th>\n",
       "    </tr>\n",
       "    <tr>\n",
       "      <th>sample_date_string</th>\n",
       "      <th></th>\n",
       "    </tr>\n",
       "  </thead>\n",
       "  <tbody>\n",
       "    <tr>\n",
       "      <th>2020-11-30</th>\n",
       "      <td>126</td>\n",
       "    </tr>\n",
       "    <tr>\n",
       "      <th>2020-11-29</th>\n",
       "      <td>1191</td>\n",
       "    </tr>\n",
       "    <tr>\n",
       "      <th>2020-11-28</th>\n",
       "      <td>2631</td>\n",
       "    </tr>\n",
       "    <tr>\n",
       "      <th>2020-11-27</th>\n",
       "      <td>5089</td>\n",
       "    </tr>\n",
       "    <tr>\n",
       "      <th>2020-11-26</th>\n",
       "      <td>7416</td>\n",
       "    </tr>\n",
       "  </tbody>\n",
       "</table>\n",
       "</div>"
      ],
      "text/plain": [
       "                    shared_teks_by_generation_date\n",
       "sample_date_string                                \n",
       "2020-11-30                                     126\n",
       "2020-11-29                                    1191\n",
       "2020-11-28                                    2631\n",
       "2020-11-27                                    5089\n",
       "2020-11-26                                    7416"
      ]
     },
     "execution_count": 30,
     "metadata": {},
     "output_type": "execute_result"
    }
   ],
   "source": [
    "exposure_keys_summary_df_ = daily_extracted_teks_df \\\n",
    "    .sort_values(\"extraction_date\", ascending=False) \\\n",
    "    .groupby(\"sample_date\").tek_list.first() \\\n",
    "    .to_frame()\n",
    "exposure_keys_summary_df_.index.name = \"sample_date_string\"\n",
    "exposure_keys_summary_df_[\"tek_list\"] = \\\n",
    "    exposure_keys_summary_df_.tek_list.apply(len)\n",
    "exposure_keys_summary_df_ = exposure_keys_summary_df_ \\\n",
    "    .rename(columns={\"tek_list\": \"shared_teks_by_generation_date\"}) \\\n",
    "    .sort_index(ascending=False)\n",
    "exposure_keys_summary_df = exposure_keys_summary_df_\n",
    "exposure_keys_summary_df.head()"
   ]
  },
  {
   "cell_type": "markdown",
   "metadata": {
    "execution": {
     "iopub.execute_input": "2020-08-30T22:30:16.632967Z",
     "iopub.status.busy": "2020-08-30T22:30:16.632308Z",
     "iopub.status.idle": "2020-08-30T22:30:16.634945Z",
     "shell.execute_reply": "2020-08-30T22:30:16.635575Z"
    },
    "papermill": {
     "duration": 0.047831,
     "end_time": "2020-11-30T23:27:13.683799",
     "exception": false,
     "start_time": "2020-11-30T23:27:13.635968",
     "status": "completed"
    },
    "pycharm": {
     "name": "#%% md\n"
    },
    "tags": []
   },
   "source": [
    "### Daily New TEKs"
   ]
  },
  {
   "cell_type": "code",
   "execution_count": 31,
   "metadata": {
    "execution": {
     "iopub.execute_input": "2020-11-30T23:27:13.841510Z",
     "iopub.status.busy": "2020-11-30T23:27:13.807060Z",
     "iopub.status.idle": "2020-11-30T23:27:14.983812Z",
     "shell.execute_reply": "2020-11-30T23:27:14.982973Z"
    },
    "papermill": {
     "duration": 1.250937,
     "end_time": "2020-11-30T23:27:14.983950",
     "exception": false,
     "start_time": "2020-11-30T23:27:13.733013",
     "status": "completed"
    },
    "tags": []
   },
   "outputs": [
    {
     "data": {
      "text/html": [
       "<div>\n",
       "<style scoped>\n",
       "    .dataframe tbody tr th:only-of-type {\n",
       "        vertical-align: middle;\n",
       "    }\n",
       "\n",
       "    .dataframe tbody tr th {\n",
       "        vertical-align: top;\n",
       "    }\n",
       "\n",
       "    .dataframe thead th {\n",
       "        text-align: right;\n",
       "    }\n",
       "</style>\n",
       "<table border=\"1\" class=\"dataframe\">\n",
       "  <thead>\n",
       "    <tr style=\"text-align: right;\">\n",
       "      <th></th>\n",
       "      <th>tek_list</th>\n",
       "    </tr>\n",
       "    <tr>\n",
       "      <th>extraction_date</th>\n",
       "      <th></th>\n",
       "    </tr>\n",
       "  </thead>\n",
       "  <tbody>\n",
       "    <tr>\n",
       "      <th>2020-09-07</th>\n",
       "      <td>{3a9808df-eeb3-c07d-11a3-dc00e2759dfc, 757936a...</td>\n",
       "    </tr>\n",
       "    <tr>\n",
       "      <th>2020-09-08</th>\n",
       "      <td>{3a9808df-eeb3-c07d-11a3-dc00e2759dfc, 757936a...</td>\n",
       "    </tr>\n",
       "    <tr>\n",
       "      <th>2020-09-09</th>\n",
       "      <td>{3a9808df-eeb3-c07d-11a3-dc00e2759dfc, 757936a...</td>\n",
       "    </tr>\n",
       "    <tr>\n",
       "      <th>2020-09-10</th>\n",
       "      <td>{3a9808df-eeb3-c07d-11a3-dc00e2759dfc, 757936a...</td>\n",
       "    </tr>\n",
       "    <tr>\n",
       "      <th>2020-09-11</th>\n",
       "      <td>{3a9808df-eeb3-c07d-11a3-dc00e2759dfc, 3a1b03f...</td>\n",
       "    </tr>\n",
       "  </tbody>\n",
       "</table>\n",
       "</div>"
      ],
      "text/plain": [
       "                                                          tek_list\n",
       "extraction_date                                                   \n",
       "2020-09-07       {3a9808df-eeb3-c07d-11a3-dc00e2759dfc, 757936a...\n",
       "2020-09-08       {3a9808df-eeb3-c07d-11a3-dc00e2759dfc, 757936a...\n",
       "2020-09-09       {3a9808df-eeb3-c07d-11a3-dc00e2759dfc, 757936a...\n",
       "2020-09-10       {3a9808df-eeb3-c07d-11a3-dc00e2759dfc, 757936a...\n",
       "2020-09-11       {3a9808df-eeb3-c07d-11a3-dc00e2759dfc, 3a1b03f..."
      ]
     },
     "execution_count": 31,
     "metadata": {},
     "output_type": "execute_result"
    }
   ],
   "source": [
    "tek_list_df = daily_extracted_teks_df.groupby(\"extraction_date\").tek_list.apply(\n",
    "    lambda x: set(sum(x, []))).reset_index()\n",
    "tek_list_df = tek_list_df.set_index(\"extraction_date\").sort_index(ascending=True)\n",
    "tek_list_df.head()"
   ]
  },
  {
   "cell_type": "code",
   "execution_count": 32,
   "metadata": {
    "collapsed": false,
    "execution": {
     "iopub.execute_input": "2020-11-30T23:27:15.991106Z",
     "iopub.status.busy": "2020-11-30T23:27:15.094763Z",
     "iopub.status.idle": "2020-11-30T23:28:05.215444Z",
     "shell.execute_reply": "2020-11-30T23:28:05.215889Z"
    },
    "papermill": {
     "duration": 50.180626,
     "end_time": "2020-11-30T23:28:05.216073",
     "exception": false,
     "start_time": "2020-11-30T23:27:15.035447",
     "status": "completed"
    },
    "pycharm": {
     "name": "#%%\n"
    },
    "tags": []
   },
   "outputs": [
    {
     "name": "stderr",
     "output_type": "stream",
     "text": [
      "<ipython-input-32-827222b35590>:4: FutureWarning: `item` has been deprecated and will be removed in a future version\n",
      "  day_new_teks_set = day_new_teks_set_df[\n"
     ]
    },
    {
     "data": {
      "text/html": [
       "<div>\n",
       "<style scoped>\n",
       "    .dataframe tbody tr th:only-of-type {\n",
       "        vertical-align: middle;\n",
       "    }\n",
       "\n",
       "    .dataframe tbody tr th {\n",
       "        vertical-align: top;\n",
       "    }\n",
       "\n",
       "    .dataframe thead th {\n",
       "        text-align: right;\n",
       "    }\n",
       "</style>\n",
       "<table border=\"1\" class=\"dataframe\">\n",
       "  <thead>\n",
       "    <tr style=\"text-align: right;\">\n",
       "      <th></th>\n",
       "      <th>upload_date</th>\n",
       "      <th>generation_date</th>\n",
       "      <th>shared_teks</th>\n",
       "      <th>generation_to_upload_days</th>\n",
       "    </tr>\n",
       "  </thead>\n",
       "  <tbody>\n",
       "    <tr>\n",
       "      <th>12</th>\n",
       "      <td>2020-09-08</td>\n",
       "      <td>2020-09-07</td>\n",
       "      <td>18</td>\n",
       "      <td>1</td>\n",
       "    </tr>\n",
       "    <tr>\n",
       "      <th>11</th>\n",
       "      <td>2020-09-08</td>\n",
       "      <td>2020-09-06</td>\n",
       "      <td>7</td>\n",
       "      <td>2</td>\n",
       "    </tr>\n",
       "    <tr>\n",
       "      <th>10</th>\n",
       "      <td>2020-09-08</td>\n",
       "      <td>2020-09-05</td>\n",
       "      <td>7</td>\n",
       "      <td>3</td>\n",
       "    </tr>\n",
       "    <tr>\n",
       "      <th>9</th>\n",
       "      <td>2020-09-08</td>\n",
       "      <td>2020-09-04</td>\n",
       "      <td>6</td>\n",
       "      <td>4</td>\n",
       "    </tr>\n",
       "    <tr>\n",
       "      <th>8</th>\n",
       "      <td>2020-09-08</td>\n",
       "      <td>2020-09-03</td>\n",
       "      <td>6</td>\n",
       "      <td>5</td>\n",
       "    </tr>\n",
       "  </tbody>\n",
       "</table>\n",
       "</div>"
      ],
      "text/plain": [
       "   upload_date generation_date  shared_teks  generation_to_upload_days\n",
       "12  2020-09-08      2020-09-07           18                          1\n",
       "11  2020-09-08      2020-09-06            7                          2\n",
       "10  2020-09-08      2020-09-05            7                          3\n",
       "9   2020-09-08      2020-09-04            6                          4\n",
       "8   2020-09-08      2020-09-03            6                          5"
      ]
     },
     "execution_count": 32,
     "metadata": {},
     "output_type": "execute_result"
    }
   ],
   "source": [
    "def compute_teks_by_generation_and_upload_date(date):\n",
    "    day_new_teks_set_df = tek_list_df.copy().diff()\n",
    "    try:\n",
    "        day_new_teks_set = day_new_teks_set_df[\n",
    "            day_new_teks_set_df.index == date].tek_list.item()\n",
    "    except ValueError:\n",
    "        day_new_teks_set = None\n",
    "    if pd.isna(day_new_teks_set):\n",
    "        day_new_teks_set = set()\n",
    "    day_new_teks_df = daily_extracted_teks_df[\n",
    "        daily_extracted_teks_df.extraction_date == date].copy()\n",
    "    day_new_teks_df[\"shared_teks\"] = \\\n",
    "        day_new_teks_df.tek_list.apply(lambda x: set(x).intersection(day_new_teks_set))\n",
    "    day_new_teks_df[\"shared_teks\"] = \\\n",
    "        day_new_teks_df.shared_teks.apply(len)\n",
    "    day_new_teks_df[\"upload_date\"] = date\n",
    "    day_new_teks_df.rename(columns={\"sample_date\": \"generation_date\"}, inplace=True)\n",
    "    day_new_teks_df = day_new_teks_df[\n",
    "        [\"upload_date\", \"generation_date\", \"shared_teks\"]]\n",
    "    day_new_teks_df[\"generation_to_upload_days\"] = \\\n",
    "        (pd.to_datetime(day_new_teks_df.upload_date) -\n",
    "         pd.to_datetime(day_new_teks_df.generation_date)).dt.days\n",
    "    day_new_teks_df = day_new_teks_df[day_new_teks_df.shared_teks > 0]\n",
    "    return day_new_teks_df\n",
    "\n",
    "shared_teks_generation_to_upload_df = pd.DataFrame()\n",
    "for upload_date in daily_extracted_teks_df.extraction_date.unique():\n",
    "    shared_teks_generation_to_upload_df = \\\n",
    "        shared_teks_generation_to_upload_df.append(\n",
    "            compute_teks_by_generation_and_upload_date(date=upload_date))\n",
    "shared_teks_generation_to_upload_df \\\n",
    "    .sort_values([\"upload_date\", \"generation_date\"], ascending=False, inplace=True)\n",
    "shared_teks_generation_to_upload_df.tail()"
   ]
  },
  {
   "cell_type": "code",
   "execution_count": 33,
   "metadata": {
    "collapsed": false,
    "execution": {
     "iopub.execute_input": "2020-11-30T23:28:05.331258Z",
     "iopub.status.busy": "2020-11-30T23:28:05.330703Z",
     "iopub.status.idle": "2020-11-30T23:28:05.335164Z",
     "shell.execute_reply": "2020-11-30T23:28:05.334691Z"
    },
    "papermill": {
     "duration": 0.066569,
     "end_time": "2020-11-30T23:28:05.335285",
     "exception": false,
     "start_time": "2020-11-30T23:28:05.268716",
     "status": "completed"
    },
    "pycharm": {
     "name": "#%%\n"
    },
    "tags": []
   },
   "outputs": [
    {
     "data": {
      "text/html": [
       "<div>\n",
       "<style scoped>\n",
       "    .dataframe tbody tr th:only-of-type {\n",
       "        vertical-align: middle;\n",
       "    }\n",
       "\n",
       "    .dataframe tbody tr th {\n",
       "        vertical-align: top;\n",
       "    }\n",
       "\n",
       "    .dataframe thead th {\n",
       "        text-align: right;\n",
       "    }\n",
       "</style>\n",
       "<table border=\"1\" class=\"dataframe\">\n",
       "  <thead>\n",
       "    <tr style=\"text-align: right;\">\n",
       "      <th></th>\n",
       "      <th>upload_date</th>\n",
       "      <th>generation_date</th>\n",
       "      <th>shared_teks</th>\n",
       "      <th>generation_to_upload_days</th>\n",
       "    </tr>\n",
       "  </thead>\n",
       "  <tbody>\n",
       "    <tr>\n",
       "      <th>45</th>\n",
       "      <td>2020-11-30</td>\n",
       "      <td>2020-11-21</td>\n",
       "      <td>1089</td>\n",
       "      <td>9</td>\n",
       "    </tr>\n",
       "    <tr>\n",
       "      <th>35</th>\n",
       "      <td>2020-11-30</td>\n",
       "      <td>2020-11-20</td>\n",
       "      <td>1056</td>\n",
       "      <td>10</td>\n",
       "    </tr>\n",
       "    <tr>\n",
       "      <th>25</th>\n",
       "      <td>2020-11-30</td>\n",
       "      <td>2020-11-19</td>\n",
       "      <td>1043</td>\n",
       "      <td>11</td>\n",
       "    </tr>\n",
       "    <tr>\n",
       "      <th>15</th>\n",
       "      <td>2020-11-30</td>\n",
       "      <td>2020-11-18</td>\n",
       "      <td>1028</td>\n",
       "      <td>12</td>\n",
       "    </tr>\n",
       "    <tr>\n",
       "      <th>5</th>\n",
       "      <td>2020-11-30</td>\n",
       "      <td>2020-11-17</td>\n",
       "      <td>993</td>\n",
       "      <td>13</td>\n",
       "    </tr>\n",
       "  </tbody>\n",
       "</table>\n",
       "</div>"
      ],
      "text/plain": [
       "   upload_date generation_date  shared_teks  generation_to_upload_days\n",
       "45  2020-11-30      2020-11-21         1089                          9\n",
       "35  2020-11-30      2020-11-20         1056                         10\n",
       "25  2020-11-30      2020-11-19         1043                         11\n",
       "15  2020-11-30      2020-11-18         1028                         12\n",
       "5   2020-11-30      2020-11-17          993                         13"
      ]
     },
     "execution_count": 33,
     "metadata": {},
     "output_type": "execute_result"
    }
   ],
   "source": [
    "today_new_teks_df = \\\n",
    "    shared_teks_generation_to_upload_df[\n",
    "        shared_teks_generation_to_upload_df.upload_date == extraction_date].copy()\n",
    "today_new_teks_df.tail()"
   ]
  },
  {
   "cell_type": "code",
   "execution_count": 34,
   "metadata": {
    "collapsed": false,
    "execution": {
     "iopub.execute_input": "2020-11-30T23:28:05.486019Z",
     "iopub.status.busy": "2020-11-30T23:28:05.470494Z",
     "iopub.status.idle": "2020-11-30T23:28:05.958150Z",
     "shell.execute_reply": "2020-11-30T23:28:05.958561Z"
    },
    "papermill": {
     "duration": 0.570167,
     "end_time": "2020-11-30T23:28:05.958721",
     "exception": false,
     "start_time": "2020-11-30T23:28:05.388554",
     "status": "completed"
    },
    "pycharm": {
     "name": "#%%\n"
    },
    "tags": []
   },
   "outputs": [
    {
     "data": {
      "image/png": "[encoded data removed]",
      "text/plain": [
       "<Figure size 1080x432 with 1 Axes>"
      ]
     },
     "metadata": {},
     "output_type": "display_data"
    }
   ],
   "source": [
    "if not today_new_teks_df.empty:\n",
    "    today_new_teks_df.set_index(\"generation_to_upload_days\") \\\n",
    "        .sort_index().shared_teks.plot.bar()"
   ]
  },
  {
   "cell_type": "code",
   "execution_count": 35,
   "metadata": {
    "collapsed": false,
    "execution": {
     "iopub.execute_input": "2020-11-30T23:28:06.073911Z",
     "iopub.status.busy": "2020-11-30T23:28:06.073404Z",
     "iopub.status.idle": "2020-11-30T23:28:06.086720Z",
     "shell.execute_reply": "2020-11-30T23:28:06.087096Z"
    },
    "papermill": {
     "duration": 0.074042,
     "end_time": "2020-11-30T23:28:06.087240",
     "exception": false,
     "start_time": "2020-11-30T23:28:06.013198",
     "status": "completed"
    },
    "pycharm": {
     "name": "#%%\n"
    },
    "tags": []
   },
   "outputs": [
    {
     "data": {
      "text/html": [
       "<div>\n",
       "<style scoped>\n",
       "    .dataframe tbody tr th:only-of-type {\n",
       "        vertical-align: middle;\n",
       "    }\n",
       "\n",
       "    .dataframe tbody tr th {\n",
       "        vertical-align: top;\n",
       "    }\n",
       "\n",
       "    .dataframe thead th {\n",
       "        text-align: right;\n",
       "    }\n",
       "</style>\n",
       "<table border=\"1\" class=\"dataframe\">\n",
       "  <thead>\n",
       "    <tr style=\"text-align: right;\">\n",
       "      <th>generation_to_upload_days</th>\n",
       "      <th>0</th>\n",
       "      <th>1</th>\n",
       "      <th>2</th>\n",
       "      <th>3</th>\n",
       "      <th>4</th>\n",
       "      <th>5</th>\n",
       "      <th>6</th>\n",
       "      <th>7</th>\n",
       "      <th>8</th>\n",
       "      <th>9</th>\n",
       "      <th>10</th>\n",
       "      <th>11</th>\n",
       "      <th>12</th>\n",
       "      <th>13</th>\n",
       "    </tr>\n",
       "    <tr>\n",
       "      <th>upload_date</th>\n",
       "      <th></th>\n",
       "      <th></th>\n",
       "      <th></th>\n",
       "      <th></th>\n",
       "      <th></th>\n",
       "      <th></th>\n",
       "      <th></th>\n",
       "      <th></th>\n",
       "      <th></th>\n",
       "      <th></th>\n",
       "      <th></th>\n",
       "      <th></th>\n",
       "      <th></th>\n",
       "      <th></th>\n",
       "    </tr>\n",
       "  </thead>\n",
       "  <tbody>\n",
       "    <tr>\n",
       "      <th>2020-11-30</th>\n",
       "      <td>126</td>\n",
       "      <td>1063</td>\n",
       "      <td>1430</td>\n",
       "      <td>1367</td>\n",
       "      <td>1274</td>\n",
       "      <td>1200</td>\n",
       "      <td>1155</td>\n",
       "      <td>1107</td>\n",
       "      <td>1100</td>\n",
       "      <td>1089</td>\n",
       "      <td>1056</td>\n",
       "      <td>1043</td>\n",
       "      <td>1028</td>\n",
       "      <td>993</td>\n",
       "    </tr>\n",
       "    <tr>\n",
       "      <th>2020-11-29</th>\n",
       "      <td>128</td>\n",
       "      <td>1042</td>\n",
       "      <td>1684</td>\n",
       "      <td>1546</td>\n",
       "      <td>1430</td>\n",
       "      <td>1404</td>\n",
       "      <td>1349</td>\n",
       "      <td>1320</td>\n",
       "      <td>1291</td>\n",
       "      <td>1262</td>\n",
       "      <td>1227</td>\n",
       "      <td>1217</td>\n",
       "      <td>1215</td>\n",
       "      <td>1190</td>\n",
       "    </tr>\n",
       "    <tr>\n",
       "      <th>2020-11-28</th>\n",
       "      <td>159</td>\n",
       "      <td>1784</td>\n",
       "      <td>2398</td>\n",
       "      <td>2183</td>\n",
       "      <td>2098</td>\n",
       "      <td>2006</td>\n",
       "      <td>1978</td>\n",
       "      <td>1883</td>\n",
       "      <td>1817</td>\n",
       "      <td>1810</td>\n",
       "      <td>1771</td>\n",
       "      <td>1736</td>\n",
       "      <td>1711</td>\n",
       "      <td>1694</td>\n",
       "    </tr>\n",
       "    <tr>\n",
       "      <th>2020-11-27</th>\n",
       "      <td>254</td>\n",
       "      <td>1982</td>\n",
       "      <td>2555</td>\n",
       "      <td>2355</td>\n",
       "      <td>2279</td>\n",
       "      <td>2169</td>\n",
       "      <td>2144</td>\n",
       "      <td>2101</td>\n",
       "      <td>2008</td>\n",
       "      <td>2004</td>\n",
       "      <td>1966</td>\n",
       "      <td>1955</td>\n",
       "      <td>1871</td>\n",
       "      <td>1879</td>\n",
       "    </tr>\n",
       "    <tr>\n",
       "      <th>2020-11-26</th>\n",
       "      <td>216</td>\n",
       "      <td>2158</td>\n",
       "      <td>3037</td>\n",
       "      <td>2811</td>\n",
       "      <td>2643</td>\n",
       "      <td>2534</td>\n",
       "      <td>2479</td>\n",
       "      <td>2416</td>\n",
       "      <td>2358</td>\n",
       "      <td>2350</td>\n",
       "      <td>2301</td>\n",
       "      <td>2214</td>\n",
       "      <td>2178</td>\n",
       "      <td>2219</td>\n",
       "    </tr>\n",
       "  </tbody>\n",
       "</table>\n",
       "</div>"
      ],
      "text/plain": [
       "generation_to_upload_days   0     1     2     3     4     5     6     7   \\\n",
       "upload_date                                                                \n",
       "2020-11-30                 126  1063  1430  1367  1274  1200  1155  1107   \n",
       "2020-11-29                 128  1042  1684  1546  1430  1404  1349  1320   \n",
       "2020-11-28                 159  1784  2398  2183  2098  2006  1978  1883   \n",
       "2020-11-27                 254  1982  2555  2355  2279  2169  2144  2101   \n",
       "2020-11-26                 216  2158  3037  2811  2643  2534  2479  2416   \n",
       "\n",
       "generation_to_upload_days    8     9     10    11    12    13  \n",
       "upload_date                                                    \n",
       "2020-11-30                 1100  1089  1056  1043  1028   993  \n",
       "2020-11-29                 1291  1262  1227  1217  1215  1190  \n",
       "2020-11-28                 1817  1810  1771  1736  1711  1694  \n",
       "2020-11-27                 2008  2004  1966  1955  1871  1879  \n",
       "2020-11-26                 2358  2350  2301  2214  2178  2219  "
      ]
     },
     "execution_count": 35,
     "metadata": {},
     "output_type": "execute_result"
    }
   ],
   "source": [
    "generation_to_upload_period_pivot_df = \\\n",
    "    shared_teks_generation_to_upload_df[\n",
    "        [\"upload_date\", \"generation_to_upload_days\", \"shared_teks\"]] \\\n",
    "        .pivot(index=\"upload_date\", columns=\"generation_to_upload_days\") \\\n",
    "        .sort_index(ascending=False).fillna(0).astype(int) \\\n",
    "        .droplevel(level=0, axis=1)\n",
    "generation_to_upload_period_pivot_df.head()"
   ]
  },
  {
   "cell_type": "code",
   "execution_count": 36,
   "metadata": {
    "collapsed": false,
    "execution": {
     "iopub.execute_input": "2020-11-30T23:28:06.780985Z",
     "iopub.status.busy": "2020-11-30T23:28:06.780433Z",
     "iopub.status.idle": "2020-11-30T23:28:06.785777Z",
     "shell.execute_reply": "2020-11-30T23:28:06.785357Z"
    },
    "papermill": {
     "duration": 0.648154,
     "end_time": "2020-11-30T23:28:06.785899",
     "exception": false,
     "start_time": "2020-11-30T23:28:06.137745",
     "status": "completed"
    },
    "pycharm": {
     "name": "#%%\n"
    },
    "tags": []
   },
   "outputs": [
    {
     "data": {
      "text/html": [
       "<div>\n",
       "<style scoped>\n",
       "    .dataframe tbody tr th:only-of-type {\n",
       "        vertical-align: middle;\n",
       "    }\n",
       "\n",
       "    .dataframe tbody tr th {\n",
       "        vertical-align: top;\n",
       "    }\n",
       "\n",
       "    .dataframe thead th {\n",
       "        text-align: right;\n",
       "    }\n",
       "</style>\n",
       "<table border=\"1\" class=\"dataframe\">\n",
       "  <thead>\n",
       "    <tr style=\"text-align: right;\">\n",
       "      <th></th>\n",
       "      <th>sample_date_string</th>\n",
       "      <th>shared_teks_by_upload_date</th>\n",
       "    </tr>\n",
       "  </thead>\n",
       "  <tbody>\n",
       "    <tr>\n",
       "      <th>80</th>\n",
       "      <td>2020-11-26</td>\n",
       "      <td>31914.0</td>\n",
       "    </tr>\n",
       "    <tr>\n",
       "      <th>81</th>\n",
       "      <td>2020-11-27</td>\n",
       "      <td>27522.0</td>\n",
       "    </tr>\n",
       "    <tr>\n",
       "      <th>82</th>\n",
       "      <td>2020-11-28</td>\n",
       "      <td>25028.0</td>\n",
       "    </tr>\n",
       "    <tr>\n",
       "      <th>83</th>\n",
       "      <td>2020-11-29</td>\n",
       "      <td>17305.0</td>\n",
       "    </tr>\n",
       "    <tr>\n",
       "      <th>84</th>\n",
       "      <td>2020-11-30</td>\n",
       "      <td>15031.0</td>\n",
       "    </tr>\n",
       "  </tbody>\n",
       "</table>\n",
       "</div>"
      ],
      "text/plain": [
       "   sample_date_string  shared_teks_by_upload_date\n",
       "80         2020-11-26                     31914.0\n",
       "81         2020-11-27                     27522.0\n",
       "82         2020-11-28                     25028.0\n",
       "83         2020-11-29                     17305.0\n",
       "84         2020-11-30                     15031.0"
      ]
     },
     "execution_count": 36,
     "metadata": {},
     "output_type": "execute_result"
    }
   ],
   "source": [
    "new_tek_df = tek_list_df.diff().tek_list.apply(\n",
    "    lambda x: len(x) if not pd.isna(x) else None).to_frame().reset_index()\n",
    "new_tek_df.rename(columns={\n",
    "    \"tek_list\": \"shared_teks_by_upload_date\",\n",
    "    \"extraction_date\": \"sample_date_string\",}, inplace=True)\n",
    "new_tek_df.tail()"
   ]
  },
  {
   "cell_type": "code",
   "execution_count": 37,
   "metadata": {
    "collapsed": false,
    "execution": {
     "iopub.execute_input": "2020-11-30T23:28:06.899902Z",
     "iopub.status.busy": "2020-11-30T23:28:06.899395Z",
     "iopub.status.idle": "2020-11-30T23:28:06.909553Z",
     "shell.execute_reply": "2020-11-30T23:28:06.909116Z"
    },
    "papermill": {
     "duration": 0.070596,
     "end_time": "2020-11-30T23:28:06.909667",
     "exception": false,
     "start_time": "2020-11-30T23:28:06.839071",
     "status": "completed"
    },
    "pycharm": {
     "name": "#%%\n"
    },
    "tags": []
   },
   "outputs": [
    {
     "data": {
      "text/html": [
       "<div>\n",
       "<style scoped>\n",
       "    .dataframe tbody tr th:only-of-type {\n",
       "        vertical-align: middle;\n",
       "    }\n",
       "\n",
       "    .dataframe tbody tr th {\n",
       "        vertical-align: top;\n",
       "    }\n",
       "\n",
       "    .dataframe thead th {\n",
       "        text-align: right;\n",
       "    }\n",
       "</style>\n",
       "<table border=\"1\" class=\"dataframe\">\n",
       "  <thead>\n",
       "    <tr style=\"text-align: right;\">\n",
       "      <th></th>\n",
       "      <th>sample_date_string</th>\n",
       "      <th>shared_teks_uploaded_on_generation_date</th>\n",
       "    </tr>\n",
       "  </thead>\n",
       "  <tbody>\n",
       "    <tr>\n",
       "      <th>128</th>\n",
       "      <td>2020-11-30</td>\n",
       "      <td>126</td>\n",
       "    </tr>\n",
       "    <tr>\n",
       "      <th>141</th>\n",
       "      <td>2020-11-29</td>\n",
       "      <td>128</td>\n",
       "    </tr>\n",
       "    <tr>\n",
       "      <th>141</th>\n",
       "      <td>2020-11-28</td>\n",
       "      <td>159</td>\n",
       "    </tr>\n",
       "    <tr>\n",
       "      <th>141</th>\n",
       "      <td>2020-11-27</td>\n",
       "      <td>254</td>\n",
       "    </tr>\n",
       "    <tr>\n",
       "      <th>141</th>\n",
       "      <td>2020-11-26</td>\n",
       "      <td>216</td>\n",
       "    </tr>\n",
       "  </tbody>\n",
       "</table>\n",
       "</div>"
      ],
      "text/plain": [
       "    sample_date_string  shared_teks_uploaded_on_generation_date\n",
       "128         2020-11-30                                      126\n",
       "141         2020-11-29                                      128\n",
       "141         2020-11-28                                      159\n",
       "141         2020-11-27                                      254\n",
       "141         2020-11-26                                      216"
      ]
     },
     "execution_count": 37,
     "metadata": {},
     "output_type": "execute_result"
    }
   ],
   "source": [
    "shared_teks_uploaded_on_generation_date_df = shared_teks_generation_to_upload_df[\n",
    "    shared_teks_generation_to_upload_df.generation_to_upload_days == 0] \\\n",
    "    [[\"upload_date\", \"shared_teks\"]].rename(\n",
    "    columns={\n",
    "        \"upload_date\": \"sample_date_string\",\n",
    "        \"shared_teks\": \"shared_teks_uploaded_on_generation_date\",\n",
    "    })\n",
    "shared_teks_uploaded_on_generation_date_df.head()"
   ]
  },
  {
   "cell_type": "code",
   "execution_count": 38,
   "metadata": {
    "collapsed": false,
    "execution": {
     "iopub.execute_input": "2020-11-30T23:28:07.030475Z",
     "iopub.status.busy": "2020-11-30T23:28:07.029950Z",
     "iopub.status.idle": "2020-11-30T23:28:07.033240Z",
     "shell.execute_reply": "2020-11-30T23:28:07.032800Z"
    },
    "papermill": {
     "duration": 0.071575,
     "end_time": "2020-11-30T23:28:07.033356",
     "exception": false,
     "start_time": "2020-11-30T23:28:06.961781",
     "status": "completed"
    },
    "pycharm": {
     "name": "#%%\n"
    },
    "tags": []
   },
   "outputs": [
    {
     "data": {
      "text/html": [
       "<div>\n",
       "<style scoped>\n",
       "    .dataframe tbody tr th:only-of-type {\n",
       "        vertical-align: middle;\n",
       "    }\n",
       "\n",
       "    .dataframe tbody tr th {\n",
       "        vertical-align: top;\n",
       "    }\n",
       "\n",
       "    .dataframe thead th {\n",
       "        text-align: right;\n",
       "    }\n",
       "</style>\n",
       "<table border=\"1\" class=\"dataframe\">\n",
       "  <thead>\n",
       "    <tr style=\"text-align: right;\">\n",
       "      <th></th>\n",
       "      <th>sample_date_string</th>\n",
       "      <th>shared_diagnoses</th>\n",
       "    </tr>\n",
       "  </thead>\n",
       "  <tbody>\n",
       "    <tr>\n",
       "      <th>83</th>\n",
       "      <td>2020-11-30</td>\n",
       "      <td>1430</td>\n",
       "    </tr>\n",
       "    <tr>\n",
       "      <th>82</th>\n",
       "      <td>2020-11-29</td>\n",
       "      <td>1684</td>\n",
       "    </tr>\n",
       "    <tr>\n",
       "      <th>81</th>\n",
       "      <td>2020-11-28</td>\n",
       "      <td>2398</td>\n",
       "    </tr>\n",
       "    <tr>\n",
       "      <th>80</th>\n",
       "      <td>2020-11-27</td>\n",
       "      <td>2555</td>\n",
       "    </tr>\n",
       "    <tr>\n",
       "      <th>79</th>\n",
       "      <td>2020-11-26</td>\n",
       "      <td>3037</td>\n",
       "    </tr>\n",
       "  </tbody>\n",
       "</table>\n",
       "</div>"
      ],
      "text/plain": [
       "   sample_date_string  shared_diagnoses\n",
       "83         2020-11-30              1430\n",
       "82         2020-11-29              1684\n",
       "81         2020-11-28              2398\n",
       "80         2020-11-27              2555\n",
       "79         2020-11-26              3037"
      ]
     },
     "execution_count": 38,
     "metadata": {},
     "output_type": "execute_result"
    }
   ],
   "source": [
    "estimated_shared_diagnoses_df = shared_teks_generation_to_upload_df \\\n",
    "    .groupby([\"upload_date\"]).shared_teks.max().reset_index() \\\n",
    "    .sort_values([\"upload_date\"], ascending=False) \\\n",
    "    .rename(columns={\n",
    "        \"upload_date\": \"sample_date_string\",\n",
    "        \"shared_teks\": \"shared_diagnoses\",\n",
    "    })\n",
    "invalid_shared_diagnoses_dates_mask = \\\n",
    "    estimated_shared_diagnoses_df.sample_date_string.isin(invalid_shared_diagnoses_dates)\n",
    "estimated_shared_diagnoses_df[invalid_shared_diagnoses_dates_mask] = 0\n",
    "estimated_shared_diagnoses_df.head()"
   ]
  },
  {
   "cell_type": "markdown",
   "metadata": {
    "papermill": {
     "duration": 0.053191,
     "end_time": "2020-11-30T23:28:07.139073",
     "exception": false,
     "start_time": "2020-11-30T23:28:07.085882",
     "status": "completed"
    },
    "pycharm": {
     "name": "#%% md\n"
    },
    "tags": []
   },
   "source": [
    "### Hourly New TEKs"
   ]
  },
  {
   "cell_type": "code",
   "execution_count": 39,
   "metadata": {
    "execution": {
     "iopub.execute_input": "2020-11-30T23:28:07.256980Z",
     "iopub.status.busy": "2020-11-30T23:28:07.256422Z",
     "iopub.status.idle": "2020-11-30T23:28:11.969447Z",
     "shell.execute_reply": "2020-11-30T23:28:11.968961Z"
    },
    "papermill": {
     "duration": 4.775881,
     "end_time": "2020-11-30T23:28:11.969578",
     "exception": false,
     "start_time": "2020-11-30T23:28:07.193697",
     "status": "completed"
    },
    "pycharm": {
     "name": "#%%\n"
    },
    "tags": []
   },
   "outputs": [
    {
     "data": {
      "text/html": [
       "<div>\n",
       "<style scoped>\n",
       "    .dataframe tbody tr th:only-of-type {\n",
       "        vertical-align: middle;\n",
       "    }\n",
       "\n",
       "    .dataframe tbody tr th {\n",
       "        vertical-align: top;\n",
       "    }\n",
       "\n",
       "    .dataframe thead th {\n",
       "        text-align: right;\n",
       "    }\n",
       "</style>\n",
       "<table border=\"1\" class=\"dataframe\">\n",
       "  <thead>\n",
       "    <tr style=\"text-align: right;\">\n",
       "      <th></th>\n",
       "      <th>region</th>\n",
       "      <th>sample_date</th>\n",
       "      <th>tek_list</th>\n",
       "      <th>extraction_date</th>\n",
       "      <th>extraction_date_with_hour</th>\n",
       "    </tr>\n",
       "  </thead>\n",
       "  <tbody>\n",
       "    <tr>\n",
       "      <th>5</th>\n",
       "      <td>ES</td>\n",
       "      <td>2020-11-17</td>\n",
       "      <td>[09127cc3-cc5d-a342-609b-15d0afaceeb1, 37c7946...</td>\n",
       "      <td>2020-11-30</td>\n",
       "      <td>2020-11-30@23</td>\n",
       "    </tr>\n",
       "    <tr>\n",
       "      <th>15</th>\n",
       "      <td>ES</td>\n",
       "      <td>2020-11-18</td>\n",
       "      <td>[a856337c-a83d-fd47-1e9c-fba4f70ec6a5, a45f4de...</td>\n",
       "      <td>2020-11-30</td>\n",
       "      <td>2020-11-30@23</td>\n",
       "    </tr>\n",
       "    <tr>\n",
       "      <th>25</th>\n",
       "      <td>ES</td>\n",
       "      <td>2020-11-19</td>\n",
       "      <td>[6605b346-f17f-1150-fef3-93ef483d8863, 53a5f09...</td>\n",
       "      <td>2020-11-30</td>\n",
       "      <td>2020-11-30@23</td>\n",
       "    </tr>\n",
       "    <tr>\n",
       "      <th>35</th>\n",
       "      <td>ES</td>\n",
       "      <td>2020-11-20</td>\n",
       "      <td>[6d62e903-24a0-fc75-8af0-0f2e41f1ec1d, a9bcf7f...</td>\n",
       "      <td>2020-11-30</td>\n",
       "      <td>2020-11-30@23</td>\n",
       "    </tr>\n",
       "    <tr>\n",
       "      <th>45</th>\n",
       "      <td>ES</td>\n",
       "      <td>2020-11-21</td>\n",
       "      <td>[61c5fa7b-c735-9c37-512a-221673372f78, 6689264...</td>\n",
       "      <td>2020-11-30</td>\n",
       "      <td>2020-11-30@23</td>\n",
       "    </tr>\n",
       "  </tbody>\n",
       "</table>\n",
       "</div>"
      ],
      "text/plain": [
       "   region sample_date                                           tek_list  \\\n",
       "5      ES  2020-11-17  [09127cc3-cc5d-a342-609b-15d0afaceeb1, 37c7946...   \n",
       "15     ES  2020-11-18  [a856337c-a83d-fd47-1e9c-fba4f70ec6a5, a45f4de...   \n",
       "25     ES  2020-11-19  [6605b346-f17f-1150-fef3-93ef483d8863, 53a5f09...   \n",
       "35     ES  2020-11-20  [6d62e903-24a0-fc75-8af0-0f2e41f1ec1d, a9bcf7f...   \n",
       "45     ES  2020-11-21  [61c5fa7b-c735-9c37-512a-221673372f78, 6689264...   \n",
       "\n",
       "   extraction_date extraction_date_with_hour  \n",
       "5       2020-11-30             2020-11-30@23  \n",
       "15      2020-11-30             2020-11-30@23  \n",
       "25      2020-11-30             2020-11-30@23  \n",
       "35      2020-11-30             2020-11-30@23  \n",
       "45      2020-11-30             2020-11-30@23  "
      ]
     },
     "execution_count": 39,
     "metadata": {},
     "output_type": "execute_result"
    }
   ],
   "source": [
    "hourly_extracted_teks_df = load_extracted_teks(\n",
    "    mode=\"Hourly\", region=report_backend_identifier, limit=25)\n",
    "hourly_extracted_teks_df.head()"
   ]
  },
  {
   "cell_type": "code",
   "execution_count": 40,
   "metadata": {
    "collapsed": false,
    "execution": {
     "iopub.execute_input": "2020-11-30T23:28:12.086177Z",
     "iopub.status.busy": "2020-11-30T23:28:12.085626Z",
     "iopub.status.idle": "2020-11-30T23:28:13.367932Z",
     "shell.execute_reply": "2020-11-30T23:28:13.367500Z"
    },
    "papermill": {
     "duration": 1.344481,
     "end_time": "2020-11-30T23:28:13.368083",
     "exception": false,
     "start_time": "2020-11-30T23:28:12.023602",
     "status": "completed"
    },
    "pycharm": {
     "name": "#%%\n"
    },
    "tags": []
   },
   "outputs": [
    {
     "data": {
      "text/html": [
       "<div>\n",
       "<style scoped>\n",
       "    .dataframe tbody tr th:only-of-type {\n",
       "        vertical-align: middle;\n",
       "    }\n",
       "\n",
       "    .dataframe tbody tr th {\n",
       "        vertical-align: top;\n",
       "    }\n",
       "\n",
       "    .dataframe thead th {\n",
       "        text-align: right;\n",
       "    }\n",
       "</style>\n",
       "<table border=\"1\" class=\"dataframe\">\n",
       "  <thead>\n",
       "    <tr style=\"text-align: right;\">\n",
       "      <th></th>\n",
       "      <th>extraction_date_with_hour</th>\n",
       "      <th>shared_teks_by_upload_date</th>\n",
       "    </tr>\n",
       "  </thead>\n",
       "  <tbody>\n",
       "    <tr>\n",
       "      <th>0</th>\n",
       "      <td>2020-11-29@22</td>\n",
       "      <td>0</td>\n",
       "    </tr>\n",
       "    <tr>\n",
       "      <th>1</th>\n",
       "      <td>2020-11-29@23</td>\n",
       "      <td>0</td>\n",
       "    </tr>\n",
       "    <tr>\n",
       "      <th>2</th>\n",
       "      <td>2020-11-30@00</td>\n",
       "      <td>0</td>\n",
       "    </tr>\n",
       "    <tr>\n",
       "      <th>3</th>\n",
       "      <td>2020-11-30@01</td>\n",
       "      <td>0</td>\n",
       "    </tr>\n",
       "    <tr>\n",
       "      <th>4</th>\n",
       "      <td>2020-11-30@02</td>\n",
       "      <td>2</td>\n",
       "    </tr>\n",
       "  </tbody>\n",
       "</table>\n",
       "</div>"
      ],
      "text/plain": [
       "  extraction_date_with_hour  shared_teks_by_upload_date\n",
       "0             2020-11-29@22                           0\n",
       "1             2020-11-29@23                           0\n",
       "2             2020-11-30@00                           0\n",
       "3             2020-11-30@01                           0\n",
       "4             2020-11-30@02                           2"
      ]
     },
     "execution_count": 40,
     "metadata": {},
     "output_type": "execute_result"
    }
   ],
   "source": [
    "hourly_new_tek_count_df = hourly_extracted_teks_df \\\n",
    "    .groupby(\"extraction_date_with_hour\").tek_list. \\\n",
    "    apply(lambda x: set(sum(x, []))).reset_index().copy()\n",
    "hourly_new_tek_count_df = hourly_new_tek_count_df.set_index(\"extraction_date_with_hour\") \\\n",
    "    .sort_index(ascending=True)\n",
    "\n",
    "hourly_new_tek_count_df[\"new_tek_list\"] = hourly_new_tek_count_df.tek_list.diff()\n",
    "hourly_new_tek_count_df[\"new_tek_count\"] = hourly_new_tek_count_df.new_tek_list.apply(\n",
    "    lambda x: len(x) if not pd.isna(x) else 0)\n",
    "hourly_new_tek_count_df.rename(columns={\n",
    "    \"new_tek_count\": \"shared_teks_by_upload_date\"}, inplace=True)\n",
    "hourly_new_tek_count_df = hourly_new_tek_count_df.reset_index()[[\n",
    "    \"extraction_date_with_hour\", \"shared_teks_by_upload_date\"]]\n",
    "hourly_new_tek_count_df.head()"
   ]
  },
  {
   "cell_type": "code",
   "execution_count": 41,
   "metadata": {
    "collapsed": false,
    "execution": {
     "iopub.execute_input": "2020-11-30T23:28:13.492261Z",
     "iopub.status.busy": "2020-11-30T23:28:13.491692Z",
     "iopub.status.idle": "2020-11-30T23:28:13.495809Z",
     "shell.execute_reply": "2020-11-30T23:28:13.495113Z"
    },
    "papermill": {
     "duration": 0.071704,
     "end_time": "2020-11-30T23:28:13.495926",
     "exception": false,
     "start_time": "2020-11-30T23:28:13.424222",
     "status": "completed"
    },
    "pycharm": {
     "name": "#%%\n"
    },
    "tags": []
   },
   "outputs": [
    {
     "data": {
      "text/html": [
       "<div>\n",
       "<style scoped>\n",
       "    .dataframe tbody tr th:only-of-type {\n",
       "        vertical-align: middle;\n",
       "    }\n",
       "\n",
       "    .dataframe tbody tr th {\n",
       "        vertical-align: top;\n",
       "    }\n",
       "\n",
       "    .dataframe thead th {\n",
       "        text-align: right;\n",
       "    }\n",
       "</style>\n",
       "<table border=\"1\" class=\"dataframe\">\n",
       "  <thead>\n",
       "    <tr style=\"text-align: right;\">\n",
       "      <th></th>\n",
       "      <th>extraction_date_with_hour</th>\n",
       "      <th>shared_teks_by_upload_date</th>\n",
       "    </tr>\n",
       "    <tr>\n",
       "      <th>datetime_utc</th>\n",
       "      <th></th>\n",
       "      <th></th>\n",
       "    </tr>\n",
       "  </thead>\n",
       "  <tbody>\n",
       "    <tr>\n",
       "      <th>2020-11-29 23:00:00</th>\n",
       "      <td>2020-11-29@23</td>\n",
       "      <td>0</td>\n",
       "    </tr>\n",
       "    <tr>\n",
       "      <th>2020-11-30 00:00:00</th>\n",
       "      <td>2020-11-30@00</td>\n",
       "      <td>0</td>\n",
       "    </tr>\n",
       "    <tr>\n",
       "      <th>2020-11-30 01:00:00</th>\n",
       "      <td>2020-11-30@01</td>\n",
       "      <td>0</td>\n",
       "    </tr>\n",
       "    <tr>\n",
       "      <th>2020-11-30 02:00:00</th>\n",
       "      <td>2020-11-30@02</td>\n",
       "      <td>2</td>\n",
       "    </tr>\n",
       "    <tr>\n",
       "      <th>2020-11-30 03:00:00</th>\n",
       "      <td>2020-11-30@03</td>\n",
       "      <td>0</td>\n",
       "    </tr>\n",
       "  </tbody>\n",
       "</table>\n",
       "</div>"
      ],
      "text/plain": [
       "                    extraction_date_with_hour  shared_teks_by_upload_date\n",
       "datetime_utc                                                             \n",
       "2020-11-29 23:00:00             2020-11-29@23                           0\n",
       "2020-11-30 00:00:00             2020-11-30@00                           0\n",
       "2020-11-30 01:00:00             2020-11-30@01                           0\n",
       "2020-11-30 02:00:00             2020-11-30@02                           2\n",
       "2020-11-30 03:00:00             2020-11-30@03                           0"
      ]
     },
     "execution_count": 41,
     "metadata": {},
     "output_type": "execute_result"
    }
   ],
   "source": [
    "hourly_summary_df = hourly_new_tek_count_df.copy()\n",
    "hourly_summary_df.set_index(\"extraction_date_with_hour\", inplace=True)\n",
    "hourly_summary_df = hourly_summary_df.fillna(0).astype(int).reset_index()\n",
    "hourly_summary_df[\"datetime_utc\"] = pd.to_datetime(\n",
    "    hourly_summary_df.extraction_date_with_hour, format=\"%Y-%m-%d@%H\")\n",
    "hourly_summary_df.set_index(\"datetime_utc\", inplace=True)\n",
    "hourly_summary_df = hourly_summary_df.tail(-1)\n",
    "hourly_summary_df.head()"
   ]
  },
  {
   "cell_type": "markdown",
   "metadata": {
    "collapsed": false,
    "papermill": {
     "duration": 0.052618,
     "end_time": "2020-11-30T23:28:13.599291",
     "exception": false,
     "start_time": "2020-11-30T23:28:13.546673",
     "status": "completed"
    },
    "tags": []
   },
   "source": [
    "### Data Merge"
   ]
  },
  {
   "cell_type": "code",
   "execution_count": 42,
   "metadata": {
    "collapsed": false,
    "execution": {
     "iopub.execute_input": "2020-11-30T23:28:13.716844Z",
     "iopub.status.busy": "2020-11-30T23:28:13.716329Z",
     "iopub.status.idle": "2020-11-30T23:28:13.719570Z",
     "shell.execute_reply": "2020-11-30T23:28:13.720266Z"
    },
    "papermill": {
     "duration": 0.068295,
     "end_time": "2020-11-30T23:28:13.720411",
     "exception": false,
     "start_time": "2020-11-30T23:28:13.652116",
     "status": "completed"
    },
    "pycharm": {
     "name": "#%%\n"
    },
    "tags": []
   },
   "outputs": [
    {
     "data": {
      "text/html": [
       "<div>\n",
       "<style scoped>\n",
       "    .dataframe tbody tr th:only-of-type {\n",
       "        vertical-align: middle;\n",
       "    }\n",
       "\n",
       "    .dataframe tbody tr th {\n",
       "        vertical-align: top;\n",
       "    }\n",
       "\n",
       "    .dataframe thead th {\n",
       "        text-align: right;\n",
       "    }\n",
       "</style>\n",
       "<table border=\"1\" class=\"dataframe\">\n",
       "  <thead>\n",
       "    <tr style=\"text-align: right;\">\n",
       "      <th></th>\n",
       "      <th>sample_date_string</th>\n",
       "      <th>shared_teks_by_generation_date</th>\n",
       "      <th>shared_teks_by_upload_date</th>\n",
       "    </tr>\n",
       "  </thead>\n",
       "  <tbody>\n",
       "    <tr>\n",
       "      <th>0</th>\n",
       "      <td>2020-11-30</td>\n",
       "      <td>126</td>\n",
       "      <td>15031.0</td>\n",
       "    </tr>\n",
       "    <tr>\n",
       "      <th>1</th>\n",
       "      <td>2020-11-29</td>\n",
       "      <td>1191</td>\n",
       "      <td>17305.0</td>\n",
       "    </tr>\n",
       "    <tr>\n",
       "      <th>2</th>\n",
       "      <td>2020-11-28</td>\n",
       "      <td>2631</td>\n",
       "      <td>25028.0</td>\n",
       "    </tr>\n",
       "    <tr>\n",
       "      <th>3</th>\n",
       "      <td>2020-11-27</td>\n",
       "      <td>5089</td>\n",
       "      <td>27522.0</td>\n",
       "    </tr>\n",
       "    <tr>\n",
       "      <th>4</th>\n",
       "      <td>2020-11-26</td>\n",
       "      <td>7416</td>\n",
       "      <td>31914.0</td>\n",
       "    </tr>\n",
       "  </tbody>\n",
       "</table>\n",
       "</div>"
      ],
      "text/plain": [
       "  sample_date_string  shared_teks_by_generation_date  \\\n",
       "0         2020-11-30                             126   \n",
       "1         2020-11-29                            1191   \n",
       "2         2020-11-28                            2631   \n",
       "3         2020-11-27                            5089   \n",
       "4         2020-11-26                            7416   \n",
       "\n",
       "   shared_teks_by_upload_date  \n",
       "0                     15031.0  \n",
       "1                     17305.0  \n",
       "2                     25028.0  \n",
       "3                     27522.0  \n",
       "4                     31914.0  "
      ]
     },
     "execution_count": 42,
     "metadata": {},
     "output_type": "execute_result"
    }
   ],
   "source": [
    "result_summary_df = exposure_keys_summary_df.merge(\n",
    "    new_tek_df, on=[\"sample_date_string\"], how=\"outer\")\n",
    "result_summary_df.head()"
   ]
  },
  {
   "cell_type": "code",
   "execution_count": 43,
   "metadata": {
    "collapsed": false,
    "execution": {
     "iopub.execute_input": "2020-11-30T23:28:13.834665Z",
     "iopub.status.busy": "2020-11-30T23:28:13.833927Z",
     "iopub.status.idle": "2020-11-30T23:28:13.841559Z",
     "shell.execute_reply": "2020-11-30T23:28:13.841166Z"
    },
    "papermill": {
     "duration": 0.068302,
     "end_time": "2020-11-30T23:28:13.841660",
     "exception": false,
     "start_time": "2020-11-30T23:28:13.773358",
     "status": "completed"
    },
    "pycharm": {
     "name": "#%%\n"
    },
    "tags": []
   },
   "outputs": [
    {
     "data": {
      "text/html": [
       "<div>\n",
       "<style scoped>\n",
       "    .dataframe tbody tr th:only-of-type {\n",
       "        vertical-align: middle;\n",
       "    }\n",
       "\n",
       "    .dataframe tbody tr th {\n",
       "        vertical-align: top;\n",
       "    }\n",
       "\n",
       "    .dataframe thead th {\n",
       "        text-align: right;\n",
       "    }\n",
       "</style>\n",
       "<table border=\"1\" class=\"dataframe\">\n",
       "  <thead>\n",
       "    <tr style=\"text-align: right;\">\n",
       "      <th></th>\n",
       "      <th>sample_date_string</th>\n",
       "      <th>shared_teks_by_generation_date</th>\n",
       "      <th>shared_teks_by_upload_date</th>\n",
       "      <th>shared_teks_uploaded_on_generation_date</th>\n",
       "    </tr>\n",
       "  </thead>\n",
       "  <tbody>\n",
       "    <tr>\n",
       "      <th>0</th>\n",
       "      <td>2020-11-30</td>\n",
       "      <td>126</td>\n",
       "      <td>15031.0</td>\n",
       "      <td>126.0</td>\n",
       "    </tr>\n",
       "    <tr>\n",
       "      <th>1</th>\n",
       "      <td>2020-11-29</td>\n",
       "      <td>1191</td>\n",
       "      <td>17305.0</td>\n",
       "      <td>128.0</td>\n",
       "    </tr>\n",
       "    <tr>\n",
       "      <th>2</th>\n",
       "      <td>2020-11-28</td>\n",
       "      <td>2631</td>\n",
       "      <td>25028.0</td>\n",
       "      <td>159.0</td>\n",
       "    </tr>\n",
       "    <tr>\n",
       "      <th>3</th>\n",
       "      <td>2020-11-27</td>\n",
       "      <td>5089</td>\n",
       "      <td>27522.0</td>\n",
       "      <td>254.0</td>\n",
       "    </tr>\n",
       "    <tr>\n",
       "      <th>4</th>\n",
       "      <td>2020-11-26</td>\n",
       "      <td>7416</td>\n",
       "      <td>31914.0</td>\n",
       "      <td>216.0</td>\n",
       "    </tr>\n",
       "  </tbody>\n",
       "</table>\n",
       "</div>"
      ],
      "text/plain": [
       "  sample_date_string  shared_teks_by_generation_date  \\\n",
       "0         2020-11-30                             126   \n",
       "1         2020-11-29                            1191   \n",
       "2         2020-11-28                            2631   \n",
       "3         2020-11-27                            5089   \n",
       "4         2020-11-26                            7416   \n",
       "\n",
       "   shared_teks_by_upload_date  shared_teks_uploaded_on_generation_date  \n",
       "0                     15031.0                                    126.0  \n",
       "1                     17305.0                                    128.0  \n",
       "2                     25028.0                                    159.0  \n",
       "3                     27522.0                                    254.0  \n",
       "4                     31914.0                                    216.0  "
      ]
     },
     "execution_count": 43,
     "metadata": {},
     "output_type": "execute_result"
    }
   ],
   "source": [
    "result_summary_df = result_summary_df.merge(\n",
    "    shared_teks_uploaded_on_generation_date_df, on=[\"sample_date_string\"], how=\"outer\")\n",
    "result_summary_df.head()"
   ]
  },
  {
   "cell_type": "code",
   "execution_count": 44,
   "metadata": {
    "collapsed": false,
    "execution": {
     "iopub.execute_input": "2020-11-30T23:28:13.963159Z",
     "iopub.status.busy": "2020-11-30T23:28:13.962649Z",
     "iopub.status.idle": "2020-11-30T23:28:13.965435Z",
     "shell.execute_reply": "2020-11-30T23:28:13.965005Z"
    },
    "papermill": {
     "duration": 0.069915,
     "end_time": "2020-11-30T23:28:13.965535",
     "exception": false,
     "start_time": "2020-11-30T23:28:13.895620",
     "status": "completed"
    },
    "pycharm": {
     "name": "#%%\n"
    },
    "tags": []
   },
   "outputs": [
    {
     "data": {
      "text/html": [
       "<div>\n",
       "<style scoped>\n",
       "    .dataframe tbody tr th:only-of-type {\n",
       "        vertical-align: middle;\n",
       "    }\n",
       "\n",
       "    .dataframe tbody tr th {\n",
       "        vertical-align: top;\n",
       "    }\n",
       "\n",
       "    .dataframe thead th {\n",
       "        text-align: right;\n",
       "    }\n",
       "</style>\n",
       "<table border=\"1\" class=\"dataframe\">\n",
       "  <thead>\n",
       "    <tr style=\"text-align: right;\">\n",
       "      <th></th>\n",
       "      <th>sample_date_string</th>\n",
       "      <th>shared_teks_by_generation_date</th>\n",
       "      <th>shared_teks_by_upload_date</th>\n",
       "      <th>shared_teks_uploaded_on_generation_date</th>\n",
       "      <th>shared_diagnoses</th>\n",
       "    </tr>\n",
       "  </thead>\n",
       "  <tbody>\n",
       "    <tr>\n",
       "      <th>0</th>\n",
       "      <td>2020-11-30</td>\n",
       "      <td>126.0</td>\n",
       "      <td>15031.0</td>\n",
       "      <td>126.0</td>\n",
       "      <td>1430.0</td>\n",
       "    </tr>\n",
       "    <tr>\n",
       "      <th>1</th>\n",
       "      <td>2020-11-29</td>\n",
       "      <td>1191.0</td>\n",
       "      <td>17305.0</td>\n",
       "      <td>128.0</td>\n",
       "      <td>1684.0</td>\n",
       "    </tr>\n",
       "    <tr>\n",
       "      <th>2</th>\n",
       "      <td>2020-11-28</td>\n",
       "      <td>2631.0</td>\n",
       "      <td>25028.0</td>\n",
       "      <td>159.0</td>\n",
       "      <td>2398.0</td>\n",
       "    </tr>\n",
       "    <tr>\n",
       "      <th>3</th>\n",
       "      <td>2020-11-27</td>\n",
       "      <td>5089.0</td>\n",
       "      <td>27522.0</td>\n",
       "      <td>254.0</td>\n",
       "      <td>2555.0</td>\n",
       "    </tr>\n",
       "    <tr>\n",
       "      <th>4</th>\n",
       "      <td>2020-11-26</td>\n",
       "      <td>7416.0</td>\n",
       "      <td>31914.0</td>\n",
       "      <td>216.0</td>\n",
       "      <td>3037.0</td>\n",
       "    </tr>\n",
       "  </tbody>\n",
       "</table>\n",
       "</div>"
      ],
      "text/plain": [
       "  sample_date_string  shared_teks_by_generation_date  \\\n",
       "0         2020-11-30                           126.0   \n",
       "1         2020-11-29                          1191.0   \n",
       "2         2020-11-28                          2631.0   \n",
       "3         2020-11-27                          5089.0   \n",
       "4         2020-11-26                          7416.0   \n",
       "\n",
       "   shared_teks_by_upload_date  shared_teks_uploaded_on_generation_date  \\\n",
       "0                     15031.0                                    126.0   \n",
       "1                     17305.0                                    128.0   \n",
       "2                     25028.0                                    159.0   \n",
       "3                     27522.0                                    254.0   \n",
       "4                     31914.0                                    216.0   \n",
       "\n",
       "   shared_diagnoses  \n",
       "0            1430.0  \n",
       "1            1684.0  \n",
       "2            2398.0  \n",
       "3            2555.0  \n",
       "4            3037.0  "
      ]
     },
     "execution_count": 44,
     "metadata": {},
     "output_type": "execute_result"
    }
   ],
   "source": [
    "result_summary_df = result_summary_df.merge(\n",
    "    estimated_shared_diagnoses_df, on=[\"sample_date_string\"], how=\"outer\")\n",
    "result_summary_df.head()"
   ]
  },
  {
   "cell_type": "code",
   "execution_count": 45,
   "metadata": {
    "collapsed": false,
    "execution": {
     "iopub.execute_input": "2020-11-30T23:28:14.080664Z",
     "iopub.status.busy": "2020-11-30T23:28:14.080158Z",
     "iopub.status.idle": "2020-11-30T23:28:14.089693Z",
     "shell.execute_reply": "2020-11-30T23:28:14.089253Z"
    },
    "papermill": {
     "duration": 0.071613,
     "end_time": "2020-11-30T23:28:14.089803",
     "exception": false,
     "start_time": "2020-11-30T23:28:14.018190",
     "status": "completed"
    },
    "pycharm": {
     "name": "#%%\n"
    },
    "tags": []
   },
   "outputs": [
    {
     "data": {
      "text/html": [
       "<div>\n",
       "<style scoped>\n",
       "    .dataframe tbody tr th:only-of-type {\n",
       "        vertical-align: middle;\n",
       "    }\n",
       "\n",
       "    .dataframe tbody tr th {\n",
       "        vertical-align: top;\n",
       "    }\n",
       "\n",
       "    .dataframe thead th {\n",
       "        text-align: right;\n",
       "    }\n",
       "</style>\n",
       "<table border=\"1\" class=\"dataframe\">\n",
       "  <thead>\n",
       "    <tr style=\"text-align: right;\">\n",
       "      <th></th>\n",
       "      <th>sample_date_string</th>\n",
       "      <th>new_cases</th>\n",
       "      <th>covid_cases</th>\n",
       "      <th>shared_teks_by_generation_date</th>\n",
       "      <th>shared_teks_by_upload_date</th>\n",
       "      <th>shared_teks_uploaded_on_generation_date</th>\n",
       "      <th>shared_diagnoses</th>\n",
       "    </tr>\n",
       "  </thead>\n",
       "  <tbody>\n",
       "    <tr>\n",
       "      <th>0</th>\n",
       "      <td>2020-09-08</td>\n",
       "      <td>8964</td>\n",
       "      <td>9077.0</td>\n",
       "      <td>61.0</td>\n",
       "      <td>44.0</td>\n",
       "      <td>NaN</td>\n",
       "      <td>18.0</td>\n",
       "    </tr>\n",
       "    <tr>\n",
       "      <th>1</th>\n",
       "      <td>2020-09-09</td>\n",
       "      <td>8866</td>\n",
       "      <td>9118.0</td>\n",
       "      <td>60.0</td>\n",
       "      <td>67.0</td>\n",
       "      <td>NaN</td>\n",
       "      <td>21.0</td>\n",
       "    </tr>\n",
       "    <tr>\n",
       "      <th>2</th>\n",
       "      <td>2020-09-10</td>\n",
       "      <td>10764</td>\n",
       "      <td>9376.0</td>\n",
       "      <td>68.0</td>\n",
       "      <td>45.0</td>\n",
       "      <td>NaN</td>\n",
       "      <td>15.0</td>\n",
       "    </tr>\n",
       "    <tr>\n",
       "      <th>3</th>\n",
       "      <td>2020-09-11</td>\n",
       "      <td>12183</td>\n",
       "      <td>9620.0</td>\n",
       "      <td>75.0</td>\n",
       "      <td>46.0</td>\n",
       "      <td>NaN</td>\n",
       "      <td>19.0</td>\n",
       "    </tr>\n",
       "    <tr>\n",
       "      <th>4</th>\n",
       "      <td>2020-09-12</td>\n",
       "      <td>0</td>\n",
       "      <td>9620.0</td>\n",
       "      <td>67.0</td>\n",
       "      <td>92.0</td>\n",
       "      <td>NaN</td>\n",
       "      <td>33.0</td>\n",
       "    </tr>\n",
       "  </tbody>\n",
       "</table>\n",
       "</div>"
      ],
      "text/plain": [
       "  sample_date_string  new_cases  covid_cases  shared_teks_by_generation_date  \\\n",
       "0         2020-09-08       8964       9077.0                            61.0   \n",
       "1         2020-09-09       8866       9118.0                            60.0   \n",
       "2         2020-09-10      10764       9376.0                            68.0   \n",
       "3         2020-09-11      12183       9620.0                            75.0   \n",
       "4         2020-09-12          0       9620.0                            67.0   \n",
       "\n",
       "   shared_teks_by_upload_date  shared_teks_uploaded_on_generation_date  \\\n",
       "0                        44.0                                      NaN   \n",
       "1                        67.0                                      NaN   \n",
       "2                        45.0                                      NaN   \n",
       "3                        46.0                                      NaN   \n",
       "4                        92.0                                      NaN   \n",
       "\n",
       "   shared_diagnoses  \n",
       "0              18.0  \n",
       "1              21.0  \n",
       "2              15.0  \n",
       "3              19.0  \n",
       "4              33.0  "
      ]
     },
     "execution_count": 45,
     "metadata": {},
     "output_type": "execute_result"
    }
   ],
   "source": [
    "result_summary_df = confirmed_df.tail(daily_summary_days).merge(\n",
    "    result_summary_df, on=[\"sample_date_string\"], how=\"left\")\n",
    "result_summary_df.head()"
   ]
  },
  {
   "cell_type": "code",
   "execution_count": 46,
   "metadata": {
    "collapsed": false,
    "execution": {
     "iopub.execute_input": "2020-11-30T23:28:14.209619Z",
     "iopub.status.busy": "2020-11-30T23:28:14.209087Z",
     "iopub.status.idle": "2020-11-30T23:28:14.225608Z",
     "shell.execute_reply": "2020-11-30T23:28:14.226039Z"
    },
    "papermill": {
     "duration": 0.08403,
     "end_time": "2020-11-30T23:28:14.226183",
     "exception": false,
     "start_time": "2020-11-30T23:28:14.142153",
     "status": "completed"
    },
    "pycharm": {
     "name": "#%%\n"
    },
    "tags": []
   },
   "outputs": [
    {
     "data": {
      "text/html": [
       "<div>\n",
       "<style scoped>\n",
       "    .dataframe tbody tr th:only-of-type {\n",
       "        vertical-align: middle;\n",
       "    }\n",
       "\n",
       "    .dataframe tbody tr th {\n",
       "        vertical-align: top;\n",
       "    }\n",
       "\n",
       "    .dataframe thead th {\n",
       "        text-align: right;\n",
       "    }\n",
       "</style>\n",
       "<table border=\"1\" class=\"dataframe\">\n",
       "  <thead>\n",
       "    <tr style=\"text-align: right;\">\n",
       "      <th></th>\n",
       "      <th></th>\n",
       "      <th>new_cases</th>\n",
       "      <th>covid_cases</th>\n",
       "      <th>shared_teks_by_generation_date</th>\n",
       "      <th>shared_teks_by_upload_date</th>\n",
       "      <th>shared_teks_uploaded_on_generation_date</th>\n",
       "      <th>shared_diagnoses</th>\n",
       "    </tr>\n",
       "    <tr>\n",
       "      <th>sample_date</th>\n",
       "      <th>source_regions</th>\n",
       "      <th></th>\n",
       "      <th></th>\n",
       "      <th></th>\n",
       "      <th></th>\n",
       "      <th></th>\n",
       "      <th></th>\n",
       "    </tr>\n",
       "  </thead>\n",
       "  <tbody>\n",
       "    <tr>\n",
       "      <th>2020-11-30</th>\n",
       "      <th>ES,DE,DK,HR,IE,IT,LV,PL</th>\n",
       "      <td>47927</td>\n",
       "      <td>72540.0</td>\n",
       "      <td>126.0</td>\n",
       "      <td>15031.0</td>\n",
       "      <td>126.0</td>\n",
       "      <td>1430.0</td>\n",
       "    </tr>\n",
       "    <tr>\n",
       "      <th>2020-11-29</th>\n",
       "      <th>ES,DE,DK,HR,IE,IT,LV,PL</th>\n",
       "      <td>62722</td>\n",
       "      <td>78235.0</td>\n",
       "      <td>1191.0</td>\n",
       "      <td>17305.0</td>\n",
       "      <td>128.0</td>\n",
       "      <td>1684.0</td>\n",
       "    </tr>\n",
       "    <tr>\n",
       "      <th>2020-11-28</th>\n",
       "      <th>ES,DE,DK,HR,IE,IT,LV,PL</th>\n",
       "      <td>73586</td>\n",
       "      <td>80782.0</td>\n",
       "      <td>2631.0</td>\n",
       "      <td>25028.0</td>\n",
       "      <td>159.0</td>\n",
       "      <td>2398.0</td>\n",
       "    </tr>\n",
       "    <tr>\n",
       "      <th>2020-11-27</th>\n",
       "      <th>ES,DE,DK,HR,IE,IT,LV,PL</th>\n",
       "      <td>85755</td>\n",
       "      <td>82782.0</td>\n",
       "      <td>5089.0</td>\n",
       "      <td>27522.0</td>\n",
       "      <td>254.0</td>\n",
       "      <td>2555.0</td>\n",
       "    </tr>\n",
       "    <tr>\n",
       "      <th>2020-11-26</th>\n",
       "      <th>ES,DE,DK,HR,IE,IT,LV,PL</th>\n",
       "      <td>81388</td>\n",
       "      <td>85417.0</td>\n",
       "      <td>7416.0</td>\n",
       "      <td>31914.0</td>\n",
       "      <td>216.0</td>\n",
       "      <td>3037.0</td>\n",
       "    </tr>\n",
       "  </tbody>\n",
       "</table>\n",
       "</div>"
      ],
      "text/plain": [
       "                                     new_cases  covid_cases  \\\n",
       "sample_date source_regions                                    \n",
       "2020-11-30  ES,DE,DK,HR,IE,IT,LV,PL      47927      72540.0   \n",
       "2020-11-29  ES,DE,DK,HR,IE,IT,LV,PL      62722      78235.0   \n",
       "2020-11-28  ES,DE,DK,HR,IE,IT,LV,PL      73586      80782.0   \n",
       "2020-11-27  ES,DE,DK,HR,IE,IT,LV,PL      85755      82782.0   \n",
       "2020-11-26  ES,DE,DK,HR,IE,IT,LV,PL      81388      85417.0   \n",
       "\n",
       "                                     shared_teks_by_generation_date  \\\n",
       "sample_date source_regions                                            \n",
       "2020-11-30  ES,DE,DK,HR,IE,IT,LV,PL                           126.0   \n",
       "2020-11-29  ES,DE,DK,HR,IE,IT,LV,PL                          1191.0   \n",
       "2020-11-28  ES,DE,DK,HR,IE,IT,LV,PL                          2631.0   \n",
       "2020-11-27  ES,DE,DK,HR,IE,IT,LV,PL                          5089.0   \n",
       "2020-11-26  ES,DE,DK,HR,IE,IT,LV,PL                          7416.0   \n",
       "\n",
       "                                     shared_teks_by_upload_date  \\\n",
       "sample_date source_regions                                        \n",
       "2020-11-30  ES,DE,DK,HR,IE,IT,LV,PL                     15031.0   \n",
       "2020-11-29  ES,DE,DK,HR,IE,IT,LV,PL                     17305.0   \n",
       "2020-11-28  ES,DE,DK,HR,IE,IT,LV,PL                     25028.0   \n",
       "2020-11-27  ES,DE,DK,HR,IE,IT,LV,PL                     27522.0   \n",
       "2020-11-26  ES,DE,DK,HR,IE,IT,LV,PL                     31914.0   \n",
       "\n",
       "                                     shared_teks_uploaded_on_generation_date  \\\n",
       "sample_date source_regions                                                     \n",
       "2020-11-30  ES,DE,DK,HR,IE,IT,LV,PL                                    126.0   \n",
       "2020-11-29  ES,DE,DK,HR,IE,IT,LV,PL                                    128.0   \n",
       "2020-11-28  ES,DE,DK,HR,IE,IT,LV,PL                                    159.0   \n",
       "2020-11-27  ES,DE,DK,HR,IE,IT,LV,PL                                    254.0   \n",
       "2020-11-26  ES,DE,DK,HR,IE,IT,LV,PL                                    216.0   \n",
       "\n",
       "                                     shared_diagnoses  \n",
       "sample_date source_regions                             \n",
       "2020-11-30  ES,DE,DK,HR,IE,IT,LV,PL            1430.0  \n",
       "2020-11-29  ES,DE,DK,HR,IE,IT,LV,PL            1684.0  \n",
       "2020-11-28  ES,DE,DK,HR,IE,IT,LV,PL            2398.0  \n",
       "2020-11-27  ES,DE,DK,HR,IE,IT,LV,PL            2555.0  \n",
       "2020-11-26  ES,DE,DK,HR,IE,IT,LV,PL            3037.0  "
      ]
     },
     "execution_count": 46,
     "metadata": {},
     "output_type": "execute_result"
    }
   ],
   "source": [
    "result_summary_df[\"sample_date\"] = pd.to_datetime(result_summary_df.sample_date_string)\n",
    "result_summary_df = result_summary_df.merge(source_regions_for_summary_df, how=\"left\")\n",
    "result_summary_df.set_index([\"sample_date\", \"source_regions\"], inplace=True)\n",
    "result_summary_df.drop(columns=[\"sample_date_string\"], inplace=True)\n",
    "result_summary_df.sort_index(ascending=False, inplace=True)\n",
    "result_summary_df.head()"
   ]
  },
  {
   "cell_type": "code",
   "execution_count": 47,
   "metadata": {
    "execution": {
     "iopub.execute_input": "2020-11-30T23:28:14.369330Z",
     "iopub.status.busy": "2020-11-30T23:28:14.368704Z",
     "iopub.status.idle": "2020-11-30T23:28:14.371333Z",
     "shell.execute_reply": "2020-11-30T23:28:14.371763Z"
    },
    "papermill": {
     "duration": 0.08783,
     "end_time": "2020-11-30T23:28:14.371914",
     "exception": false,
     "start_time": "2020-11-30T23:28:14.284084",
     "status": "completed"
    },
    "tags": []
   },
   "outputs": [
    {
     "data": {
      "text/html": [
       "<div>\n",
       "<style scoped>\n",
       "    .dataframe tbody tr th:only-of-type {\n",
       "        vertical-align: middle;\n",
       "    }\n",
       "\n",
       "    .dataframe tbody tr th {\n",
       "        vertical-align: top;\n",
       "    }\n",
       "\n",
       "    .dataframe thead th {\n",
       "        text-align: right;\n",
       "    }\n",
       "</style>\n",
       "<table border=\"1\" class=\"dataframe\">\n",
       "  <thead>\n",
       "    <tr style=\"text-align: right;\">\n",
       "      <th></th>\n",
       "      <th></th>\n",
       "      <th>new_cases</th>\n",
       "      <th>covid_cases</th>\n",
       "      <th>shared_teks_by_generation_date</th>\n",
       "      <th>shared_teks_by_upload_date</th>\n",
       "      <th>shared_teks_uploaded_on_generation_date</th>\n",
       "      <th>shared_diagnoses</th>\n",
       "      <th>teks_per_shared_diagnosis</th>\n",
       "      <th>shared_diagnoses_per_covid_case</th>\n",
       "    </tr>\n",
       "    <tr>\n",
       "      <th>sample_date</th>\n",
       "      <th>source_regions</th>\n",
       "      <th></th>\n",
       "      <th></th>\n",
       "      <th></th>\n",
       "      <th></th>\n",
       "      <th></th>\n",
       "      <th></th>\n",
       "      <th></th>\n",
       "      <th></th>\n",
       "    </tr>\n",
       "  </thead>\n",
       "  <tbody>\n",
       "    <tr>\n",
       "      <th>2020-11-30</th>\n",
       "      <th>ES,DE,DK,HR,IE,IT,LV,PL</th>\n",
       "      <td>47927</td>\n",
       "      <td>72540</td>\n",
       "      <td>126</td>\n",
       "      <td>15031</td>\n",
       "      <td>126</td>\n",
       "      <td>1430</td>\n",
       "      <td>10.511189</td>\n",
       "      <td>0.019713</td>\n",
       "    </tr>\n",
       "    <tr>\n",
       "      <th>2020-11-29</th>\n",
       "      <th>ES,DE,DK,HR,IE,IT,LV,PL</th>\n",
       "      <td>62722</td>\n",
       "      <td>78235</td>\n",
       "      <td>1191</td>\n",
       "      <td>17305</td>\n",
       "      <td>128</td>\n",
       "      <td>1684</td>\n",
       "      <td>10.276128</td>\n",
       "      <td>0.021525</td>\n",
       "    </tr>\n",
       "    <tr>\n",
       "      <th>2020-11-28</th>\n",
       "      <th>ES,DE,DK,HR,IE,IT,LV,PL</th>\n",
       "      <td>73586</td>\n",
       "      <td>80782</td>\n",
       "      <td>2631</td>\n",
       "      <td>25028</td>\n",
       "      <td>159</td>\n",
       "      <td>2398</td>\n",
       "      <td>10.437031</td>\n",
       "      <td>0.029685</td>\n",
       "    </tr>\n",
       "    <tr>\n",
       "      <th>2020-11-27</th>\n",
       "      <th>ES,DE,DK,HR,IE,IT,LV,PL</th>\n",
       "      <td>85755</td>\n",
       "      <td>82782</td>\n",
       "      <td>5089</td>\n",
       "      <td>27522</td>\n",
       "      <td>254</td>\n",
       "      <td>2555</td>\n",
       "      <td>10.771820</td>\n",
       "      <td>0.030864</td>\n",
       "    </tr>\n",
       "    <tr>\n",
       "      <th>2020-11-26</th>\n",
       "      <th>ES,DE,DK,HR,IE,IT,LV,PL</th>\n",
       "      <td>81388</td>\n",
       "      <td>85417</td>\n",
       "      <td>7416</td>\n",
       "      <td>31914</td>\n",
       "      <td>216</td>\n",
       "      <td>3037</td>\n",
       "      <td>10.508396</td>\n",
       "      <td>0.035555</td>\n",
       "    </tr>\n",
       "    <tr>\n",
       "      <th>2020-11-25</th>\n",
       "      <th>ES,DE,DK,HR,IE,IT,LV</th>\n",
       "      <td>56448</td>\n",
       "      <td>65533</td>\n",
       "      <td>9753</td>\n",
       "      <td>30693</td>\n",
       "      <td>227</td>\n",
       "      <td>2822</td>\n",
       "      <td>10.876329</td>\n",
       "      <td>0.043062</td>\n",
       "    </tr>\n",
       "    <tr>\n",
       "      <th>2020-11-24</th>\n",
       "      <th>ES,DE,DK,HR,IE,IT,LV</th>\n",
       "      <td>52217</td>\n",
       "      <td>67304</td>\n",
       "      <td>12060</td>\n",
       "      <td>17800</td>\n",
       "      <td>164</td>\n",
       "      <td>1667</td>\n",
       "      <td>10.677864</td>\n",
       "      <td>0.024768</td>\n",
       "    </tr>\n",
       "    <tr>\n",
       "      <th>2020-11-23</th>\n",
       "      <th>ES,DE,DK,HR,IE,IT,LV</th>\n",
       "      <td>69939</td>\n",
       "      <td>68127</td>\n",
       "      <td>13758</td>\n",
       "      <td>13061</td>\n",
       "      <td>147</td>\n",
       "      <td>1332</td>\n",
       "      <td>9.805556</td>\n",
       "      <td>0.019552</td>\n",
       "    </tr>\n",
       "    <tr>\n",
       "      <th>2020-11-22</th>\n",
       "      <th>ES,DE,DK,HR,IE,IT,LV</th>\n",
       "      <td>56334</td>\n",
       "      <td>70591</td>\n",
       "      <td>14623</td>\n",
       "      <td>14568</td>\n",
       "      <td>132</td>\n",
       "      <td>1524</td>\n",
       "      <td>9.559055</td>\n",
       "      <td>0.021589</td>\n",
       "    </tr>\n",
       "    <tr>\n",
       "      <th>2020-11-21</th>\n",
       "      <th>ES,DE,DK,HR,IE,IT,LV</th>\n",
       "      <td>65127</td>\n",
       "      <td>70966</td>\n",
       "      <td>15560</td>\n",
       "      <td>22605</td>\n",
       "      <td>153</td>\n",
       "      <td>2275</td>\n",
       "      <td>9.936264</td>\n",
       "      <td>0.032058</td>\n",
       "    </tr>\n",
       "    <tr>\n",
       "      <th>2020-11-20</th>\n",
       "      <th>ES,DE,DK,IE,IT,LV</th>\n",
       "      <td>77058</td>\n",
       "      <td>68866</td>\n",
       "      <td>17198</td>\n",
       "      <td>26712</td>\n",
       "      <td>212</td>\n",
       "      <td>2617</td>\n",
       "      <td>10.207107</td>\n",
       "      <td>0.038001</td>\n",
       "    </tr>\n",
       "    <tr>\n",
       "      <th>2020-11-19</th>\n",
       "      <th>ES,DE,DK,IE,IT,LV</th>\n",
       "      <td>75193</td>\n",
       "      <td>69974</td>\n",
       "      <td>19147</td>\n",
       "      <td>25678</td>\n",
       "      <td>211</td>\n",
       "      <td>2492</td>\n",
       "      <td>10.304173</td>\n",
       "      <td>0.035613</td>\n",
       "    </tr>\n",
       "    <tr>\n",
       "      <th>2020-11-18</th>\n",
       "      <th>ES,DE,DK,IE,IT,LV</th>\n",
       "      <td>66898</td>\n",
       "      <td>70110</td>\n",
       "      <td>21119</td>\n",
       "      <td>29832</td>\n",
       "      <td>290</td>\n",
       "      <td>2915</td>\n",
       "      <td>10.233962</td>\n",
       "      <td>0.041578</td>\n",
       "    </tr>\n",
       "    <tr>\n",
       "      <th>2020-11-17</th>\n",
       "      <th>ES,DE,DK,IE,IT,LV</th>\n",
       "      <td>56667</td>\n",
       "      <td>71150</td>\n",
       "      <td>23287</td>\n",
       "      <td>22734</td>\n",
       "      <td>222</td>\n",
       "      <td>2099</td>\n",
       "      <td>10.830872</td>\n",
       "      <td>0.029501</td>\n",
       "    </tr>\n",
       "    <tr>\n",
       "      <th>2020-11-16</th>\n",
       "      <th>ES,DE,DK,IE,IT,LV</th>\n",
       "      <td>84825</td>\n",
       "      <td>71501</td>\n",
       "      <td>23983</td>\n",
       "      <td>17579</td>\n",
       "      <td>194</td>\n",
       "      <td>1741</td>\n",
       "      <td>10.097071</td>\n",
       "      <td>0.024349</td>\n",
       "    </tr>\n",
       "    <tr>\n",
       "      <th>2020-11-15</th>\n",
       "      <th>ES,DE,DK,IE,IT,LV</th>\n",
       "      <td>56096</td>\n",
       "      <td>73670</td>\n",
       "      <td>23554</td>\n",
       "      <td>15287</td>\n",
       "      <td>224</td>\n",
       "      <td>1611</td>\n",
       "      <td>9.489137</td>\n",
       "      <td>0.021868</td>\n",
       "    </tr>\n",
       "    <tr>\n",
       "      <th>2020-11-14</th>\n",
       "      <th>ES,DE,DK,IE,IT,LV</th>\n",
       "      <td>65322</td>\n",
       "      <td>73884</td>\n",
       "      <td>22860</td>\n",
       "      <td>22798</td>\n",
       "      <td>211</td>\n",
       "      <td>2281</td>\n",
       "      <td>9.994739</td>\n",
       "      <td>0.030873</td>\n",
       "    </tr>\n",
       "    <tr>\n",
       "      <th>2020-11-13</th>\n",
       "      <th>ES,DE,DK,IE,IT,LV</th>\n",
       "      <td>84819</td>\n",
       "      <td>73621</td>\n",
       "      <td>22818</td>\n",
       "      <td>29729</td>\n",
       "      <td>306</td>\n",
       "      <td>2890</td>\n",
       "      <td>10.286851</td>\n",
       "      <td>0.039255</td>\n",
       "    </tr>\n",
       "    <tr>\n",
       "      <th>2020-11-12</th>\n",
       "      <th>ES,DE,DK,IE,IT,LV</th>\n",
       "      <td>76143</td>\n",
       "      <td>73029</td>\n",
       "      <td>22699</td>\n",
       "      <td>31792</td>\n",
       "      <td>317</td>\n",
       "      <td>3205</td>\n",
       "      <td>9.919501</td>\n",
       "      <td>0.043887</td>\n",
       "    </tr>\n",
       "    <tr>\n",
       "      <th>2020-11-11</th>\n",
       "      <th>ES,DE,DK,IE,IT,LV</th>\n",
       "      <td>74177</td>\n",
       "      <td>72741</td>\n",
       "      <td>22652</td>\n",
       "      <td>30445</td>\n",
       "      <td>300</td>\n",
       "      <td>3029</td>\n",
       "      <td>10.051172</td>\n",
       "      <td>0.041641</td>\n",
       "    </tr>\n",
       "    <tr>\n",
       "      <th>2020-11-10</th>\n",
       "      <th>ES,DE,DK,IE,IT,LV</th>\n",
       "      <td>59124</td>\n",
       "      <td>72476</td>\n",
       "      <td>23535</td>\n",
       "      <td>21163</td>\n",
       "      <td>292</td>\n",
       "      <td>2086</td>\n",
       "      <td>10.145254</td>\n",
       "      <td>0.028782</td>\n",
       "    </tr>\n",
       "    <tr>\n",
       "      <th>2020-11-09</th>\n",
       "      <th>ES,DE,DK,IE,IT,LV</th>\n",
       "      <td>100008</td>\n",
       "      <td>72329</td>\n",
       "      <td>24379</td>\n",
       "      <td>16517</td>\n",
       "      <td>236</td>\n",
       "      <td>1683</td>\n",
       "      <td>9.814023</td>\n",
       "      <td>0.023269</td>\n",
       "    </tr>\n",
       "    <tr>\n",
       "      <th>2020-11-08</th>\n",
       "      <th>ES,DE,IE,IT,LV</th>\n",
       "      <td>56547</td>\n",
       "      <td>71025</td>\n",
       "      <td>24098</td>\n",
       "      <td>16816</td>\n",
       "      <td>209</td>\n",
       "      <td>1809</td>\n",
       "      <td>9.295744</td>\n",
       "      <td>0.025470</td>\n",
       "    </tr>\n",
       "    <tr>\n",
       "      <th>2020-11-07</th>\n",
       "      <th>ES,DE,IE,IT,LV</th>\n",
       "      <td>62050</td>\n",
       "      <td>69596</td>\n",
       "      <td>23590</td>\n",
       "      <td>23688</td>\n",
       "      <td>313</td>\n",
       "      <td>2490</td>\n",
       "      <td>9.513253</td>\n",
       "      <td>0.035778</td>\n",
       "    </tr>\n",
       "    <tr>\n",
       "      <th>2020-11-06</th>\n",
       "      <th>ES,DE,IE,IT,LV</th>\n",
       "      <td>79454</td>\n",
       "      <td>68044</td>\n",
       "      <td>23325</td>\n",
       "      <td>28583</td>\n",
       "      <td>263</td>\n",
       "      <td>2909</td>\n",
       "      <td>9.825713</td>\n",
       "      <td>0.042752</td>\n",
       "    </tr>\n",
       "    <tr>\n",
       "      <th>2020-11-05</th>\n",
       "      <th>ES,DE,IE,IT,LV</th>\n",
       "      <td>73194</td>\n",
       "      <td>67010</td>\n",
       "      <td>23626</td>\n",
       "      <td>26573</td>\n",
       "      <td>267</td>\n",
       "      <td>2696</td>\n",
       "      <td>9.856454</td>\n",
       "      <td>0.040233</td>\n",
       "    </tr>\n",
       "    <tr>\n",
       "      <th>2020-11-04</th>\n",
       "      <th>ES,DE,IE,IT,LV</th>\n",
       "      <td>70966</td>\n",
       "      <td>66020</td>\n",
       "      <td>23610</td>\n",
       "      <td>28247</td>\n",
       "      <td>344</td>\n",
       "      <td>2851</td>\n",
       "      <td>9.907752</td>\n",
       "      <td>0.043184</td>\n",
       "    </tr>\n",
       "    <tr>\n",
       "      <th>2020-11-03</th>\n",
       "      <th>ES,DE,IE,IT,LV</th>\n",
       "      <td>57154</td>\n",
       "      <td>64104</td>\n",
       "      <td>23958</td>\n",
       "      <td>20613</td>\n",
       "      <td>280</td>\n",
       "      <td>1961</td>\n",
       "      <td>10.511474</td>\n",
       "      <td>0.030591</td>\n",
       "    </tr>\n",
       "  </tbody>\n",
       "</table>\n",
       "</div>"
      ],
      "text/plain": [
       "                                     new_cases  covid_cases  \\\n",
       "sample_date source_regions                                    \n",
       "2020-11-30  ES,DE,DK,HR,IE,IT,LV,PL      47927        72540   \n",
       "2020-11-29  ES,DE,DK,HR,IE,IT,LV,PL      62722        78235   \n",
       "2020-11-28  ES,DE,DK,HR,IE,IT,LV,PL      73586        80782   \n",
       "2020-11-27  ES,DE,DK,HR,IE,IT,LV,PL      85755        82782   \n",
       "2020-11-26  ES,DE,DK,HR,IE,IT,LV,PL      81388        85417   \n",
       "2020-11-25  ES,DE,DK,HR,IE,IT,LV         56448        65533   \n",
       "2020-11-24  ES,DE,DK,HR,IE,IT,LV         52217        67304   \n",
       "2020-11-23  ES,DE,DK,HR,IE,IT,LV         69939        68127   \n",
       "2020-11-22  ES,DE,DK,HR,IE,IT,LV         56334        70591   \n",
       "2020-11-21  ES,DE,DK,HR,IE,IT,LV         65127        70966   \n",
       "2020-11-20  ES,DE,DK,IE,IT,LV            77058        68866   \n",
       "2020-11-19  ES,DE,DK,IE,IT,LV            75193        69974   \n",
       "2020-11-18  ES,DE,DK,IE,IT,LV            66898        70110   \n",
       "2020-11-17  ES,DE,DK,IE,IT,LV            56667        71150   \n",
       "2020-11-16  ES,DE,DK,IE,IT,LV            84825        71501   \n",
       "2020-11-15  ES,DE,DK,IE,IT,LV            56096        73670   \n",
       "2020-11-14  ES,DE,DK,IE,IT,LV            65322        73884   \n",
       "2020-11-13  ES,DE,DK,IE,IT,LV            84819        73621   \n",
       "2020-11-12  ES,DE,DK,IE,IT,LV            76143        73029   \n",
       "2020-11-11  ES,DE,DK,IE,IT,LV            74177        72741   \n",
       "2020-11-10  ES,DE,DK,IE,IT,LV            59124        72476   \n",
       "2020-11-09  ES,DE,DK,IE,IT,LV           100008        72329   \n",
       "2020-11-08  ES,DE,IE,IT,LV               56547        71025   \n",
       "2020-11-07  ES,DE,IE,IT,LV               62050        69596   \n",
       "2020-11-06  ES,DE,IE,IT,LV               79454        68044   \n",
       "2020-11-05  ES,DE,IE,IT,LV               73194        67010   \n",
       "2020-11-04  ES,DE,IE,IT,LV               70966        66020   \n",
       "2020-11-03  ES,DE,IE,IT,LV               57154        64104   \n",
       "\n",
       "                                     shared_teks_by_generation_date  \\\n",
       "sample_date source_regions                                            \n",
       "2020-11-30  ES,DE,DK,HR,IE,IT,LV,PL                             126   \n",
       "2020-11-29  ES,DE,DK,HR,IE,IT,LV,PL                            1191   \n",
       "2020-11-28  ES,DE,DK,HR,IE,IT,LV,PL                            2631   \n",
       "2020-11-27  ES,DE,DK,HR,IE,IT,LV,PL                            5089   \n",
       "2020-11-26  ES,DE,DK,HR,IE,IT,LV,PL                            7416   \n",
       "2020-11-25  ES,DE,DK,HR,IE,IT,LV                               9753   \n",
       "2020-11-24  ES,DE,DK,HR,IE,IT,LV                              12060   \n",
       "2020-11-23  ES,DE,DK,HR,IE,IT,LV                              13758   \n",
       "2020-11-22  ES,DE,DK,HR,IE,IT,LV                              14623   \n",
       "2020-11-21  ES,DE,DK,HR,IE,IT,LV                              15560   \n",
       "2020-11-20  ES,DE,DK,IE,IT,LV                                 17198   \n",
       "2020-11-19  ES,DE,DK,IE,IT,LV                                 19147   \n",
       "2020-11-18  ES,DE,DK,IE,IT,LV                                 21119   \n",
       "2020-11-17  ES,DE,DK,IE,IT,LV                                 23287   \n",
       "2020-11-16  ES,DE,DK,IE,IT,LV                                 23983   \n",
       "2020-11-15  ES,DE,DK,IE,IT,LV                                 23554   \n",
       "2020-11-14  ES,DE,DK,IE,IT,LV                                 22860   \n",
       "2020-11-13  ES,DE,DK,IE,IT,LV                                 22818   \n",
       "2020-11-12  ES,DE,DK,IE,IT,LV                                 22699   \n",
       "2020-11-11  ES,DE,DK,IE,IT,LV                                 22652   \n",
       "2020-11-10  ES,DE,DK,IE,IT,LV                                 23535   \n",
       "2020-11-09  ES,DE,DK,IE,IT,LV                                 24379   \n",
       "2020-11-08  ES,DE,IE,IT,LV                                    24098   \n",
       "2020-11-07  ES,DE,IE,IT,LV                                    23590   \n",
       "2020-11-06  ES,DE,IE,IT,LV                                    23325   \n",
       "2020-11-05  ES,DE,IE,IT,LV                                    23626   \n",
       "2020-11-04  ES,DE,IE,IT,LV                                    23610   \n",
       "2020-11-03  ES,DE,IE,IT,LV                                    23958   \n",
       "\n",
       "                                     shared_teks_by_upload_date  \\\n",
       "sample_date source_regions                                        \n",
       "2020-11-30  ES,DE,DK,HR,IE,IT,LV,PL                       15031   \n",
       "2020-11-29  ES,DE,DK,HR,IE,IT,LV,PL                       17305   \n",
       "2020-11-28  ES,DE,DK,HR,IE,IT,LV,PL                       25028   \n",
       "2020-11-27  ES,DE,DK,HR,IE,IT,LV,PL                       27522   \n",
       "2020-11-26  ES,DE,DK,HR,IE,IT,LV,PL                       31914   \n",
       "2020-11-25  ES,DE,DK,HR,IE,IT,LV                          30693   \n",
       "2020-11-24  ES,DE,DK,HR,IE,IT,LV                          17800   \n",
       "2020-11-23  ES,DE,DK,HR,IE,IT,LV                          13061   \n",
       "2020-11-22  ES,DE,DK,HR,IE,IT,LV                          14568   \n",
       "2020-11-21  ES,DE,DK,HR,IE,IT,LV                          22605   \n",
       "2020-11-20  ES,DE,DK,IE,IT,LV                             26712   \n",
       "2020-11-19  ES,DE,DK,IE,IT,LV                             25678   \n",
       "2020-11-18  ES,DE,DK,IE,IT,LV                             29832   \n",
       "2020-11-17  ES,DE,DK,IE,IT,LV                             22734   \n",
       "2020-11-16  ES,DE,DK,IE,IT,LV                             17579   \n",
       "2020-11-15  ES,DE,DK,IE,IT,LV                             15287   \n",
       "2020-11-14  ES,DE,DK,IE,IT,LV                             22798   \n",
       "2020-11-13  ES,DE,DK,IE,IT,LV                             29729   \n",
       "2020-11-12  ES,DE,DK,IE,IT,LV                             31792   \n",
       "2020-11-11  ES,DE,DK,IE,IT,LV                             30445   \n",
       "2020-11-10  ES,DE,DK,IE,IT,LV                             21163   \n",
       "2020-11-09  ES,DE,DK,IE,IT,LV                             16517   \n",
       "2020-11-08  ES,DE,IE,IT,LV                                16816   \n",
       "2020-11-07  ES,DE,IE,IT,LV                                23688   \n",
       "2020-11-06  ES,DE,IE,IT,LV                                28583   \n",
       "2020-11-05  ES,DE,IE,IT,LV                                26573   \n",
       "2020-11-04  ES,DE,IE,IT,LV                                28247   \n",
       "2020-11-03  ES,DE,IE,IT,LV                                20613   \n",
       "\n",
       "                                     shared_teks_uploaded_on_generation_date  \\\n",
       "sample_date source_regions                                                     \n",
       "2020-11-30  ES,DE,DK,HR,IE,IT,LV,PL                                      126   \n",
       "2020-11-29  ES,DE,DK,HR,IE,IT,LV,PL                                      128   \n",
       "2020-11-28  ES,DE,DK,HR,IE,IT,LV,PL                                      159   \n",
       "2020-11-27  ES,DE,DK,HR,IE,IT,LV,PL                                      254   \n",
       "2020-11-26  ES,DE,DK,HR,IE,IT,LV,PL                                      216   \n",
       "2020-11-25  ES,DE,DK,HR,IE,IT,LV                                         227   \n",
       "2020-11-24  ES,DE,DK,HR,IE,IT,LV                                         164   \n",
       "2020-11-23  ES,DE,DK,HR,IE,IT,LV                                         147   \n",
       "2020-11-22  ES,DE,DK,HR,IE,IT,LV                                         132   \n",
       "2020-11-21  ES,DE,DK,HR,IE,IT,LV                                         153   \n",
       "2020-11-20  ES,DE,DK,IE,IT,LV                                            212   \n",
       "2020-11-19  ES,DE,DK,IE,IT,LV                                            211   \n",
       "2020-11-18  ES,DE,DK,IE,IT,LV                                            290   \n",
       "2020-11-17  ES,DE,DK,IE,IT,LV                                            222   \n",
       "2020-11-16  ES,DE,DK,IE,IT,LV                                            194   \n",
       "2020-11-15  ES,DE,DK,IE,IT,LV                                            224   \n",
       "2020-11-14  ES,DE,DK,IE,IT,LV                                            211   \n",
       "2020-11-13  ES,DE,DK,IE,IT,LV                                            306   \n",
       "2020-11-12  ES,DE,DK,IE,IT,LV                                            317   \n",
       "2020-11-11  ES,DE,DK,IE,IT,LV                                            300   \n",
       "2020-11-10  ES,DE,DK,IE,IT,LV                                            292   \n",
       "2020-11-09  ES,DE,DK,IE,IT,LV                                            236   \n",
       "2020-11-08  ES,DE,IE,IT,LV                                               209   \n",
       "2020-11-07  ES,DE,IE,IT,LV                                               313   \n",
       "2020-11-06  ES,DE,IE,IT,LV                                               263   \n",
       "2020-11-05  ES,DE,IE,IT,LV                                               267   \n",
       "2020-11-04  ES,DE,IE,IT,LV                                               344   \n",
       "2020-11-03  ES,DE,IE,IT,LV                                               280   \n",
       "\n",
       "                                     shared_diagnoses  \\\n",
       "sample_date source_regions                              \n",
       "2020-11-30  ES,DE,DK,HR,IE,IT,LV,PL              1430   \n",
       "2020-11-29  ES,DE,DK,HR,IE,IT,LV,PL              1684   \n",
       "2020-11-28  ES,DE,DK,HR,IE,IT,LV,PL              2398   \n",
       "2020-11-27  ES,DE,DK,HR,IE,IT,LV,PL              2555   \n",
       "2020-11-26  ES,DE,DK,HR,IE,IT,LV,PL              3037   \n",
       "2020-11-25  ES,DE,DK,HR,IE,IT,LV                 2822   \n",
       "2020-11-24  ES,DE,DK,HR,IE,IT,LV                 1667   \n",
       "2020-11-23  ES,DE,DK,HR,IE,IT,LV                 1332   \n",
       "2020-11-22  ES,DE,DK,HR,IE,IT,LV                 1524   \n",
       "2020-11-21  ES,DE,DK,HR,IE,IT,LV                 2275   \n",
       "2020-11-20  ES,DE,DK,IE,IT,LV                    2617   \n",
       "2020-11-19  ES,DE,DK,IE,IT,LV                    2492   \n",
       "2020-11-18  ES,DE,DK,IE,IT,LV                    2915   \n",
       "2020-11-17  ES,DE,DK,IE,IT,LV                    2099   \n",
       "2020-11-16  ES,DE,DK,IE,IT,LV                    1741   \n",
       "2020-11-15  ES,DE,DK,IE,IT,LV                    1611   \n",
       "2020-11-14  ES,DE,DK,IE,IT,LV                    2281   \n",
       "2020-11-13  ES,DE,DK,IE,IT,LV                    2890   \n",
       "2020-11-12  ES,DE,DK,IE,IT,LV                    3205   \n",
       "2020-11-11  ES,DE,DK,IE,IT,LV                    3029   \n",
       "2020-11-10  ES,DE,DK,IE,IT,LV                    2086   \n",
       "2020-11-09  ES,DE,DK,IE,IT,LV                    1683   \n",
       "2020-11-08  ES,DE,IE,IT,LV                       1809   \n",
       "2020-11-07  ES,DE,IE,IT,LV                       2490   \n",
       "2020-11-06  ES,DE,IE,IT,LV                       2909   \n",
       "2020-11-05  ES,DE,IE,IT,LV                       2696   \n",
       "2020-11-04  ES,DE,IE,IT,LV                       2851   \n",
       "2020-11-03  ES,DE,IE,IT,LV                       1961   \n",
       "\n",
       "                                     teks_per_shared_diagnosis  \\\n",
       "sample_date source_regions                                       \n",
       "2020-11-30  ES,DE,DK,HR,IE,IT,LV,PL                  10.511189   \n",
       "2020-11-29  ES,DE,DK,HR,IE,IT,LV,PL                  10.276128   \n",
       "2020-11-28  ES,DE,DK,HR,IE,IT,LV,PL                  10.437031   \n",
       "2020-11-27  ES,DE,DK,HR,IE,IT,LV,PL                  10.771820   \n",
       "2020-11-26  ES,DE,DK,HR,IE,IT,LV,PL                  10.508396   \n",
       "2020-11-25  ES,DE,DK,HR,IE,IT,LV                     10.876329   \n",
       "2020-11-24  ES,DE,DK,HR,IE,IT,LV                     10.677864   \n",
       "2020-11-23  ES,DE,DK,HR,IE,IT,LV                      9.805556   \n",
       "2020-11-22  ES,DE,DK,HR,IE,IT,LV                      9.559055   \n",
       "2020-11-21  ES,DE,DK,HR,IE,IT,LV                      9.936264   \n",
       "2020-11-20  ES,DE,DK,IE,IT,LV                        10.207107   \n",
       "2020-11-19  ES,DE,DK,IE,IT,LV                        10.304173   \n",
       "2020-11-18  ES,DE,DK,IE,IT,LV                        10.233962   \n",
       "2020-11-17  ES,DE,DK,IE,IT,LV                        10.830872   \n",
       "2020-11-16  ES,DE,DK,IE,IT,LV                        10.097071   \n",
       "2020-11-15  ES,DE,DK,IE,IT,LV                         9.489137   \n",
       "2020-11-14  ES,DE,DK,IE,IT,LV                         9.994739   \n",
       "2020-11-13  ES,DE,DK,IE,IT,LV                        10.286851   \n",
       "2020-11-12  ES,DE,DK,IE,IT,LV                         9.919501   \n",
       "2020-11-11  ES,DE,DK,IE,IT,LV                        10.051172   \n",
       "2020-11-10  ES,DE,DK,IE,IT,LV                        10.145254   \n",
       "2020-11-09  ES,DE,DK,IE,IT,LV                         9.814023   \n",
       "2020-11-08  ES,DE,IE,IT,LV                            9.295744   \n",
       "2020-11-07  ES,DE,IE,IT,LV                            9.513253   \n",
       "2020-11-06  ES,DE,IE,IT,LV                            9.825713   \n",
       "2020-11-05  ES,DE,IE,IT,LV                            9.856454   \n",
       "2020-11-04  ES,DE,IE,IT,LV                            9.907752   \n",
       "2020-11-03  ES,DE,IE,IT,LV                           10.511474   \n",
       "\n",
       "                                     shared_diagnoses_per_covid_case  \n",
       "sample_date source_regions                                            \n",
       "2020-11-30  ES,DE,DK,HR,IE,IT,LV,PL                         0.019713  \n",
       "2020-11-29  ES,DE,DK,HR,IE,IT,LV,PL                         0.021525  \n",
       "2020-11-28  ES,DE,DK,HR,IE,IT,LV,PL                         0.029685  \n",
       "2020-11-27  ES,DE,DK,HR,IE,IT,LV,PL                         0.030864  \n",
       "2020-11-26  ES,DE,DK,HR,IE,IT,LV,PL                         0.035555  \n",
       "2020-11-25  ES,DE,DK,HR,IE,IT,LV                            0.043062  \n",
       "2020-11-24  ES,DE,DK,HR,IE,IT,LV                            0.024768  \n",
       "2020-11-23  ES,DE,DK,HR,IE,IT,LV                            0.019552  \n",
       "2020-11-22  ES,DE,DK,HR,IE,IT,LV                            0.021589  \n",
       "2020-11-21  ES,DE,DK,HR,IE,IT,LV                            0.032058  \n",
       "2020-11-20  ES,DE,DK,IE,IT,LV                               0.038001  \n",
       "2020-11-19  ES,DE,DK,IE,IT,LV                               0.035613  \n",
       "2020-11-18  ES,DE,DK,IE,IT,LV                               0.041578  \n",
       "2020-11-17  ES,DE,DK,IE,IT,LV                               0.029501  \n",
       "2020-11-16  ES,DE,DK,IE,IT,LV                               0.024349  \n",
       "2020-11-15  ES,DE,DK,IE,IT,LV                               0.021868  \n",
       "2020-11-14  ES,DE,DK,IE,IT,LV                               0.030873  \n",
       "2020-11-13  ES,DE,DK,IE,IT,LV                               0.039255  \n",
       "2020-11-12  ES,DE,DK,IE,IT,LV                               0.043887  \n",
       "2020-11-11  ES,DE,DK,IE,IT,LV                               0.041641  \n",
       "2020-11-10  ES,DE,DK,IE,IT,LV                               0.028782  \n",
       "2020-11-09  ES,DE,DK,IE,IT,LV                               0.023269  \n",
       "2020-11-08  ES,DE,IE,IT,LV                                  0.025470  \n",
       "2020-11-07  ES,DE,IE,IT,LV                                  0.035778  \n",
       "2020-11-06  ES,DE,IE,IT,LV                                  0.042752  \n",
       "2020-11-05  ES,DE,IE,IT,LV                                  0.040233  \n",
       "2020-11-04  ES,DE,IE,IT,LV                                  0.043184  \n",
       "2020-11-03  ES,DE,IE,IT,LV                                  0.030591  "
      ]
     },
     "execution_count": 47,
     "metadata": {},
     "output_type": "execute_result"
    }
   ],
   "source": [
    "with pd.option_context(\"mode.use_inf_as_na\", True):\n",
    "    result_summary_df = result_summary_df.fillna(0).astype(int)\n",
    "    result_summary_df[\"teks_per_shared_diagnosis\"] = \\\n",
    "        (result_summary_df.shared_teks_by_upload_date / result_summary_df.shared_diagnoses).fillna(0)\n",
    "    result_summary_df[\"shared_diagnoses_per_covid_case\"] = \\\n",
    "        (result_summary_df.shared_diagnoses / result_summary_df.covid_cases).fillna(0)\n",
    "\n",
    "result_summary_df.head(daily_plot_days)"
   ]
  },
  {
   "cell_type": "code",
   "execution_count": 48,
   "metadata": {
    "collapsed": false,
    "execution": {
     "iopub.execute_input": "2020-11-30T23:28:14.506102Z",
     "iopub.status.busy": "2020-11-30T23:28:14.505580Z",
     "iopub.status.idle": "2020-11-30T23:28:14.519793Z",
     "shell.execute_reply": "2020-11-30T23:28:14.519378Z"
    },
    "papermill": {
     "duration": 0.087659,
     "end_time": "2020-11-30T23:28:14.519917",
     "exception": false,
     "start_time": "2020-11-30T23:28:14.432258",
     "status": "completed"
    },
    "pycharm": {
     "name": "#%%\n"
    },
    "tags": []
   },
   "outputs": [
    {
     "data": {
      "text/html": [
       "<div>\n",
       "<style scoped>\n",
       "    .dataframe tbody tr th:only-of-type {\n",
       "        vertical-align: middle;\n",
       "    }\n",
       "\n",
       "    .dataframe tbody tr th {\n",
       "        vertical-align: top;\n",
       "    }\n",
       "\n",
       "    .dataframe thead th {\n",
       "        text-align: right;\n",
       "    }\n",
       "</style>\n",
       "<table border=\"1\" class=\"dataframe\">\n",
       "  <thead>\n",
       "    <tr style=\"text-align: right;\">\n",
       "      <th></th>\n",
       "      <th></th>\n",
       "      <th>covid_cases</th>\n",
       "      <th>shared_teks_by_generation_date</th>\n",
       "      <th>shared_teks_by_upload_date</th>\n",
       "      <th>shared_diagnoses</th>\n",
       "      <th>teks_per_shared_diagnosis</th>\n",
       "      <th>shared_diagnoses_per_covid_case</th>\n",
       "    </tr>\n",
       "    <tr>\n",
       "      <th>sample_date</th>\n",
       "      <th>source_regions</th>\n",
       "      <th></th>\n",
       "      <th></th>\n",
       "      <th></th>\n",
       "      <th></th>\n",
       "      <th></th>\n",
       "      <th></th>\n",
       "    </tr>\n",
       "  </thead>\n",
       "  <tbody>\n",
       "    <tr>\n",
       "      <th>2020-11-30</th>\n",
       "      <th>ES,DE,DK,HR,IE,IT,LV,PL</th>\n",
       "      <td>532593</td>\n",
       "      <td>38266</td>\n",
       "      <td>165293</td>\n",
       "      <td>15593</td>\n",
       "      <td>10.600462</td>\n",
       "      <td>0.029278</td>\n",
       "    </tr>\n",
       "    <tr>\n",
       "      <th>2020-11-29</th>\n",
       "      <th>ES,DE,DK,HR,IE,IT,LV,PL</th>\n",
       "      <td>528180</td>\n",
       "      <td>51898</td>\n",
       "      <td>163323</td>\n",
       "      <td>15495</td>\n",
       "      <td>10.540368</td>\n",
       "      <td>0.029337</td>\n",
       "    </tr>\n",
       "    <tr>\n",
       "      <th>2020-11-28</th>\n",
       "      <th>ES,DE,DK,HR,IE,IT,LV,PL</th>\n",
       "      <td>520536</td>\n",
       "      <td>65330</td>\n",
       "      <td>160586</td>\n",
       "      <td>15335</td>\n",
       "      <td>10.471862</td>\n",
       "      <td>0.029460</td>\n",
       "    </tr>\n",
       "    <tr>\n",
       "      <th>2020-11-27</th>\n",
       "      <th>ES,DE,DK,HR,IE,IT,LV,PL</th>\n",
       "      <td>510720</td>\n",
       "      <td>78259</td>\n",
       "      <td>158163</td>\n",
       "      <td>15212</td>\n",
       "      <td>10.397252</td>\n",
       "      <td>0.029785</td>\n",
       "    </tr>\n",
       "    <tr>\n",
       "      <th>2020-11-26</th>\n",
       "      <th>ES,DE,DK,HR,IE,IT,LV,PL</th>\n",
       "      <td>496804</td>\n",
       "      <td>90368</td>\n",
       "      <td>157353</td>\n",
       "      <td>15274</td>\n",
       "      <td>10.302016</td>\n",
       "      <td>0.030745</td>\n",
       "    </tr>\n",
       "  </tbody>\n",
       "</table>\n",
       "</div>"
      ],
      "text/plain": [
       "                                     covid_cases  \\\n",
       "sample_date source_regions                         \n",
       "2020-11-30  ES,DE,DK,HR,IE,IT,LV,PL       532593   \n",
       "2020-11-29  ES,DE,DK,HR,IE,IT,LV,PL       528180   \n",
       "2020-11-28  ES,DE,DK,HR,IE,IT,LV,PL       520536   \n",
       "2020-11-27  ES,DE,DK,HR,IE,IT,LV,PL       510720   \n",
       "2020-11-26  ES,DE,DK,HR,IE,IT,LV,PL       496804   \n",
       "\n",
       "                                     shared_teks_by_generation_date  \\\n",
       "sample_date source_regions                                            \n",
       "2020-11-30  ES,DE,DK,HR,IE,IT,LV,PL                           38266   \n",
       "2020-11-29  ES,DE,DK,HR,IE,IT,LV,PL                           51898   \n",
       "2020-11-28  ES,DE,DK,HR,IE,IT,LV,PL                           65330   \n",
       "2020-11-27  ES,DE,DK,HR,IE,IT,LV,PL                           78259   \n",
       "2020-11-26  ES,DE,DK,HR,IE,IT,LV,PL                           90368   \n",
       "\n",
       "                                     shared_teks_by_upload_date  \\\n",
       "sample_date source_regions                                        \n",
       "2020-11-30  ES,DE,DK,HR,IE,IT,LV,PL                      165293   \n",
       "2020-11-29  ES,DE,DK,HR,IE,IT,LV,PL                      163323   \n",
       "2020-11-28  ES,DE,DK,HR,IE,IT,LV,PL                      160586   \n",
       "2020-11-27  ES,DE,DK,HR,IE,IT,LV,PL                      158163   \n",
       "2020-11-26  ES,DE,DK,HR,IE,IT,LV,PL                      157353   \n",
       "\n",
       "                                     shared_diagnoses  \\\n",
       "sample_date source_regions                              \n",
       "2020-11-30  ES,DE,DK,HR,IE,IT,LV,PL             15593   \n",
       "2020-11-29  ES,DE,DK,HR,IE,IT,LV,PL             15495   \n",
       "2020-11-28  ES,DE,DK,HR,IE,IT,LV,PL             15335   \n",
       "2020-11-27  ES,DE,DK,HR,IE,IT,LV,PL             15212   \n",
       "2020-11-26  ES,DE,DK,HR,IE,IT,LV,PL             15274   \n",
       "\n",
       "                                     teks_per_shared_diagnosis  \\\n",
       "sample_date source_regions                                       \n",
       "2020-11-30  ES,DE,DK,HR,IE,IT,LV,PL                  10.600462   \n",
       "2020-11-29  ES,DE,DK,HR,IE,IT,LV,PL                  10.540368   \n",
       "2020-11-28  ES,DE,DK,HR,IE,IT,LV,PL                  10.471862   \n",
       "2020-11-27  ES,DE,DK,HR,IE,IT,LV,PL                  10.397252   \n",
       "2020-11-26  ES,DE,DK,HR,IE,IT,LV,PL                  10.302016   \n",
       "\n",
       "                                     shared_diagnoses_per_covid_case  \n",
       "sample_date source_regions                                            \n",
       "2020-11-30  ES,DE,DK,HR,IE,IT,LV,PL                         0.029278  \n",
       "2020-11-29  ES,DE,DK,HR,IE,IT,LV,PL                         0.029337  \n",
       "2020-11-28  ES,DE,DK,HR,IE,IT,LV,PL                         0.029460  \n",
       "2020-11-27  ES,DE,DK,HR,IE,IT,LV,PL                         0.029785  \n",
       "2020-11-26  ES,DE,DK,HR,IE,IT,LV,PL                         0.030745  "
      ]
     },
     "execution_count": 48,
     "metadata": {},
     "output_type": "execute_result"
    }
   ],
   "source": [
    "weekly_result_summary_df = result_summary_df \\\n",
    "    .sort_index(ascending=True).fillna(0).rolling(7).agg({\n",
    "    \"covid_cases\": \"sum\",\n",
    "    \"shared_teks_by_generation_date\": \"sum\",\n",
    "    \"shared_teks_by_upload_date\": \"sum\",\n",
    "    \"shared_diagnoses\": \"sum\"\n",
    "}).sort_index(ascending=False)\n",
    "\n",
    "with pd.option_context(\"mode.use_inf_as_na\", True):\n",
    "    weekly_result_summary_df = weekly_result_summary_df.fillna(0).astype(int)\n",
    "    weekly_result_summary_df[\"teks_per_shared_diagnosis\"] = \\\n",
    "        (weekly_result_summary_df.shared_teks_by_upload_date / weekly_result_summary_df.shared_diagnoses).fillna(0)\n",
    "    weekly_result_summary_df[\"shared_diagnoses_per_covid_case\"] = \\\n",
    "        (weekly_result_summary_df.shared_diagnoses / weekly_result_summary_df.covid_cases).fillna(0)\n",
    "\n",
    "weekly_result_summary_df.head()"
   ]
  },
  {
   "cell_type": "code",
   "execution_count": 49,
   "metadata": {
    "collapsed": false,
    "execution": {
     "iopub.execute_input": "2020-11-30T23:28:14.647817Z",
     "iopub.status.busy": "2020-11-30T23:28:14.647282Z",
     "iopub.status.idle": "2020-11-30T23:28:14.651949Z",
     "shell.execute_reply": "2020-11-30T23:28:14.651416Z"
    },
    "papermill": {
     "duration": 0.071618,
     "end_time": "2020-11-30T23:28:14.652097",
     "exception": false,
     "start_time": "2020-11-30T23:28:14.580479",
     "status": "completed"
    },
    "pycharm": {
     "name": "#%%\n"
    },
    "tags": []
   },
   "outputs": [
    {
     "data": {
      "text/plain": [
       "{'covid_cases': 528180,\n",
       " 'shared_teks_by_generation_date': 51898,\n",
       " 'shared_teks_by_upload_date': 163323,\n",
       " 'shared_diagnoses': 15495,\n",
       " 'teks_per_shared_diagnosis': 10.540367860600194,\n",
       " 'shared_diagnoses_per_covid_case': 0.02933658979893218}"
      ]
     },
     "execution_count": 49,
     "metadata": {},
     "output_type": "execute_result"
    }
   ],
   "source": [
    "last_7_days_summary = weekly_result_summary_df.to_dict(orient=\"records\")[1]\n",
    "last_7_days_summary"
   ]
  },
  {
   "cell_type": "markdown",
   "metadata": {
    "collapsed": false,
    "papermill": {
     "duration": 0.060558,
     "end_time": "2020-11-30T23:28:14.773651",
     "exception": false,
     "start_time": "2020-11-30T23:28:14.713093",
     "status": "completed"
    },
    "tags": []
   },
   "source": [
    "## Report Results"
   ]
  },
  {
   "cell_type": "code",
   "execution_count": 50,
   "metadata": {
    "collapsed": false,
    "execution": {
     "iopub.execute_input": "2020-11-30T23:28:14.900234Z",
     "iopub.status.busy": "2020-11-30T23:28:14.899678Z",
     "iopub.status.idle": "2020-11-30T23:28:14.901754Z",
     "shell.execute_reply": "2020-11-30T23:28:14.901323Z"
    },
    "papermill": {
     "duration": 0.068291,
     "end_time": "2020-11-30T23:28:14.901864",
     "exception": false,
     "start_time": "2020-11-30T23:28:14.833573",
     "status": "completed"
    },
    "pycharm": {
     "name": "#%%\n"
    },
    "tags": []
   },
   "outputs": [],
   "source": [
    "display_column_name_mapping = {\n",
    "    \"sample_date\": \"Sample\\u00A0Date\\u00A0(UTC)\",\n",
    "    \"source_regions\": \"Source Countries\",\n",
    "    \"datetime_utc\": \"Timestamp (UTC)\",\n",
    "    \"upload_date\": \"Upload Date (UTC)\",\n",
    "    \"generation_to_upload_days\": \"Generation to Upload Period in Days\",\n",
    "    \"region\": \"Backend\",\n",
    "    \"region_x\": \"Backend\\u00A0(A)\",\n",
    "    \"region_y\": \"Backend\\u00A0(B)\",\n",
    "    \"common_teks\": \"Common TEKs Shared Between Backends\",\n",
    "    \"common_teks_fraction\": \"Fraction of TEKs in Backend (A) Available in Backend (B)\",\n",
    "    \"covid_cases\": \"COVID-19 Cases in Source Countries (7-day Rolling Average)\",\n",
    "    \"shared_teks_by_generation_date\": \"Shared TEKs by Generation Date\",\n",
    "    \"shared_teks_by_upload_date\": \"Shared TEKs by Upload Date\",\n",
    "    \"shared_diagnoses\": \"Shared Diagnoses (Estimation)\",\n",
    "    \"teks_per_shared_diagnosis\": \"TEKs Uploaded per Shared Diagnosis\",\n",
    "    \"shared_diagnoses_per_covid_case\": \"Usage Ratio (Fraction of Cases in Source Countries Which Shared Diagnosis)\",\n",
    "    \"shared_teks_uploaded_on_generation_date\": \"Shared TEKs Uploaded on Generation Date\",\n",
    "}"
   ]
  },
  {
   "cell_type": "code",
   "execution_count": 51,
   "metadata": {
    "collapsed": false,
    "execution": {
     "iopub.execute_input": "2020-11-30T23:28:15.029750Z",
     "iopub.status.busy": "2020-11-30T23:28:15.029207Z",
     "iopub.status.idle": "2020-11-30T23:28:15.031290Z",
     "shell.execute_reply": "2020-11-30T23:28:15.030754Z"
    },
    "papermill": {
     "duration": 0.06728,
     "end_time": "2020-11-30T23:28:15.031408",
     "exception": false,
     "start_time": "2020-11-30T23:28:14.964128",
     "status": "completed"
    },
    "pycharm": {
     "name": "#%%\n"
    },
    "tags": []
   },
   "outputs": [],
   "source": [
    "summary_columns = [\n",
    "    \"covid_cases\",\n",
    "    \"shared_teks_by_generation_date\",\n",
    "    \"shared_teks_by_upload_date\",\n",
    "    \"shared_teks_uploaded_on_generation_date\",\n",
    "    \"shared_diagnoses\",\n",
    "    \"teks_per_shared_diagnosis\",\n",
    "    \"shared_diagnoses_per_covid_case\",\n",
    "]"
   ]
  },
  {
   "cell_type": "markdown",
   "metadata": {
    "collapsed": false,
    "papermill": {
     "duration": 0.059594,
     "end_time": "2020-11-30T23:28:15.151282",
     "exception": false,
     "start_time": "2020-11-30T23:28:15.091688",
     "status": "completed"
    },
    "tags": []
   },
   "source": [
    "### Daily Summary Table"
   ]
  },
  {
   "cell_type": "code",
   "execution_count": 52,
   "metadata": {
    "collapsed": false,
    "execution": {
     "iopub.execute_input": "2020-11-30T23:28:15.293827Z",
     "iopub.status.busy": "2020-11-30T23:28:15.293304Z",
     "iopub.status.idle": "2020-11-30T23:28:15.296164Z",
     "shell.execute_reply": "2020-11-30T23:28:15.296640Z"
    },
    "papermill": {
     "duration": 0.083832,
     "end_time": "2020-11-30T23:28:15.296808",
     "exception": false,
     "start_time": "2020-11-30T23:28:15.212976",
     "status": "completed"
    },
    "pycharm": {
     "name": "#%%\n"
    },
    "tags": []
   },
   "outputs": [
    {
     "data": {
      "text/html": [
       "<div>\n",
       "<style scoped>\n",
       "    .dataframe tbody tr th:only-of-type {\n",
       "        vertical-align: middle;\n",
       "    }\n",
       "\n",
       "    .dataframe tbody tr th {\n",
       "        vertical-align: top;\n",
       "    }\n",
       "\n",
       "    .dataframe thead th {\n",
       "        text-align: right;\n",
       "    }\n",
       "</style>\n",
       "<table border=\"1\" class=\"dataframe\">\n",
       "  <thead>\n",
       "    <tr style=\"text-align: right;\">\n",
       "      <th></th>\n",
       "      <th></th>\n",
       "      <th>COVID-19 Cases in Source Countries (7-day Rolling Average)</th>\n",
       "      <th>Shared TEKs by Generation Date</th>\n",
       "      <th>Shared TEKs by Upload Date</th>\n",
       "      <th>Shared TEKs Uploaded on Generation Date</th>\n",
       "      <th>Shared Diagnoses (Estimation)</th>\n",
       "      <th>TEKs Uploaded per Shared Diagnosis</th>\n",
       "      <th>Usage Ratio (Fraction of Cases in Source Countries Which Shared Diagnosis)</th>\n",
       "    </tr>\n",
       "    <tr>\n",
       "      <th>Sample Date (UTC)</th>\n",
       "      <th>Source Countries</th>\n",
       "      <th></th>\n",
       "      <th></th>\n",
       "      <th></th>\n",
       "      <th></th>\n",
       "      <th></th>\n",
       "      <th></th>\n",
       "      <th></th>\n",
       "    </tr>\n",
       "  </thead>\n",
       "  <tbody>\n",
       "    <tr>\n",
       "      <th>2020-11-30</th>\n",
       "      <th>ES,DE,DK,HR,IE,IT,LV,PL</th>\n",
       "      <td>72540</td>\n",
       "      <td>126</td>\n",
       "      <td>15031</td>\n",
       "      <td>126</td>\n",
       "      <td>1430</td>\n",
       "      <td>10.511189</td>\n",
       "      <td>0.019713</td>\n",
       "    </tr>\n",
       "    <tr>\n",
       "      <th>2020-11-29</th>\n",
       "      <th>ES,DE,DK,HR,IE,IT,LV,PL</th>\n",
       "      <td>78235</td>\n",
       "      <td>1191</td>\n",
       "      <td>17305</td>\n",
       "      <td>128</td>\n",
       "      <td>1684</td>\n",
       "      <td>10.276128</td>\n",
       "      <td>0.021525</td>\n",
       "    </tr>\n",
       "    <tr>\n",
       "      <th>2020-11-28</th>\n",
       "      <th>ES,DE,DK,HR,IE,IT,LV,PL</th>\n",
       "      <td>80782</td>\n",
       "      <td>2631</td>\n",
       "      <td>25028</td>\n",
       "      <td>159</td>\n",
       "      <td>2398</td>\n",
       "      <td>10.437031</td>\n",
       "      <td>0.029685</td>\n",
       "    </tr>\n",
       "    <tr>\n",
       "      <th>2020-11-27</th>\n",
       "      <th>ES,DE,DK,HR,IE,IT,LV,PL</th>\n",
       "      <td>82782</td>\n",
       "      <td>5089</td>\n",
       "      <td>27522</td>\n",
       "      <td>254</td>\n",
       "      <td>2555</td>\n",
       "      <td>10.771820</td>\n",
       "      <td>0.030864</td>\n",
       "    </tr>\n",
       "    <tr>\n",
       "      <th>2020-11-26</th>\n",
       "      <th>ES,DE,DK,HR,IE,IT,LV,PL</th>\n",
       "      <td>85417</td>\n",
       "      <td>7416</td>\n",
       "      <td>31914</td>\n",
       "      <td>216</td>\n",
       "      <td>3037</td>\n",
       "      <td>10.508396</td>\n",
       "      <td>0.035555</td>\n",
       "    </tr>\n",
       "    <tr>\n",
       "      <th>...</th>\n",
       "      <th>...</th>\n",
       "      <td>...</td>\n",
       "      <td>...</td>\n",
       "      <td>...</td>\n",
       "      <td>...</td>\n",
       "      <td>...</td>\n",
       "      <td>...</td>\n",
       "      <td>...</td>\n",
       "    </tr>\n",
       "    <tr>\n",
       "      <th>2020-09-12</th>\n",
       "      <th>ES</th>\n",
       "      <td>9620</td>\n",
       "      <td>67</td>\n",
       "      <td>92</td>\n",
       "      <td>0</td>\n",
       "      <td>33</td>\n",
       "      <td>2.787879</td>\n",
       "      <td>0.003430</td>\n",
       "    </tr>\n",
       "    <tr>\n",
       "      <th>2020-09-11</th>\n",
       "      <th>ES</th>\n",
       "      <td>9620</td>\n",
       "      <td>75</td>\n",
       "      <td>46</td>\n",
       "      <td>0</td>\n",
       "      <td>19</td>\n",
       "      <td>2.421053</td>\n",
       "      <td>0.001975</td>\n",
       "    </tr>\n",
       "    <tr>\n",
       "      <th>2020-09-10</th>\n",
       "      <th>ES</th>\n",
       "      <td>9376</td>\n",
       "      <td>68</td>\n",
       "      <td>45</td>\n",
       "      <td>0</td>\n",
       "      <td>15</td>\n",
       "      <td>3.000000</td>\n",
       "      <td>0.001600</td>\n",
       "    </tr>\n",
       "    <tr>\n",
       "      <th>2020-09-09</th>\n",
       "      <th>ES</th>\n",
       "      <td>9118</td>\n",
       "      <td>60</td>\n",
       "      <td>67</td>\n",
       "      <td>0</td>\n",
       "      <td>21</td>\n",
       "      <td>3.190476</td>\n",
       "      <td>0.002303</td>\n",
       "    </tr>\n",
       "    <tr>\n",
       "      <th>2020-09-08</th>\n",
       "      <th>ES</th>\n",
       "      <td>9077</td>\n",
       "      <td>61</td>\n",
       "      <td>44</td>\n",
       "      <td>0</td>\n",
       "      <td>18</td>\n",
       "      <td>2.444444</td>\n",
       "      <td>0.001983</td>\n",
       "    </tr>\n",
       "  </tbody>\n",
       "</table>\n",
       "<p>84 rows × 7 columns</p>\n",
       "</div>"
      ],
      "text/plain": [
       "                                           COVID-19 Cases in Source Countries (7-day Rolling Average)  \\\n",
       "Sample Date (UTC) Source Countries                                                                      \n",
       "2020-11-30        ES,DE,DK,HR,IE,IT,LV,PL                                              72540            \n",
       "2020-11-29        ES,DE,DK,HR,IE,IT,LV,PL                                              78235            \n",
       "2020-11-28        ES,DE,DK,HR,IE,IT,LV,PL                                              80782            \n",
       "2020-11-27        ES,DE,DK,HR,IE,IT,LV,PL                                              82782            \n",
       "2020-11-26        ES,DE,DK,HR,IE,IT,LV,PL                                              85417            \n",
       "...                                                                                      ...            \n",
       "2020-09-12        ES                                                                    9620            \n",
       "2020-09-11        ES                                                                    9620            \n",
       "2020-09-10        ES                                                                    9376            \n",
       "2020-09-09        ES                                                                    9118            \n",
       "2020-09-08        ES                                                                    9077            \n",
       "\n",
       "                                           Shared TEKs by Generation Date  \\\n",
       "Sample Date (UTC) Source Countries                                          \n",
       "2020-11-30        ES,DE,DK,HR,IE,IT,LV,PL                             126   \n",
       "2020-11-29        ES,DE,DK,HR,IE,IT,LV,PL                            1191   \n",
       "2020-11-28        ES,DE,DK,HR,IE,IT,LV,PL                            2631   \n",
       "2020-11-27        ES,DE,DK,HR,IE,IT,LV,PL                            5089   \n",
       "2020-11-26        ES,DE,DK,HR,IE,IT,LV,PL                            7416   \n",
       "...                                                                   ...   \n",
       "2020-09-12        ES                                                   67   \n",
       "2020-09-11        ES                                                   75   \n",
       "2020-09-10        ES                                                   68   \n",
       "2020-09-09        ES                                                   60   \n",
       "2020-09-08        ES                                                   61   \n",
       "\n",
       "                                           Shared TEKs by Upload Date  \\\n",
       "Sample Date (UTC) Source Countries                                      \n",
       "2020-11-30        ES,DE,DK,HR,IE,IT,LV,PL                       15031   \n",
       "2020-11-29        ES,DE,DK,HR,IE,IT,LV,PL                       17305   \n",
       "2020-11-28        ES,DE,DK,HR,IE,IT,LV,PL                       25028   \n",
       "2020-11-27        ES,DE,DK,HR,IE,IT,LV,PL                       27522   \n",
       "2020-11-26        ES,DE,DK,HR,IE,IT,LV,PL                       31914   \n",
       "...                                                               ...   \n",
       "2020-09-12        ES                                               92   \n",
       "2020-09-11        ES                                               46   \n",
       "2020-09-10        ES                                               45   \n",
       "2020-09-09        ES                                               67   \n",
       "2020-09-08        ES                                               44   \n",
       "\n",
       "                                           Shared TEKs Uploaded on Generation Date  \\\n",
       "Sample Date (UTC) Source Countries                                                   \n",
       "2020-11-30        ES,DE,DK,HR,IE,IT,LV,PL                                      126   \n",
       "2020-11-29        ES,DE,DK,HR,IE,IT,LV,PL                                      128   \n",
       "2020-11-28        ES,DE,DK,HR,IE,IT,LV,PL                                      159   \n",
       "2020-11-27        ES,DE,DK,HR,IE,IT,LV,PL                                      254   \n",
       "2020-11-26        ES,DE,DK,HR,IE,IT,LV,PL                                      216   \n",
       "...                                                                            ...   \n",
       "2020-09-12        ES                                                             0   \n",
       "2020-09-11        ES                                                             0   \n",
       "2020-09-10        ES                                                             0   \n",
       "2020-09-09        ES                                                             0   \n",
       "2020-09-08        ES                                                             0   \n",
       "\n",
       "                                           Shared Diagnoses (Estimation)  \\\n",
       "Sample Date (UTC) Source Countries                                         \n",
       "2020-11-30        ES,DE,DK,HR,IE,IT,LV,PL                           1430   \n",
       "2020-11-29        ES,DE,DK,HR,IE,IT,LV,PL                           1684   \n",
       "2020-11-28        ES,DE,DK,HR,IE,IT,LV,PL                           2398   \n",
       "2020-11-27        ES,DE,DK,HR,IE,IT,LV,PL                           2555   \n",
       "2020-11-26        ES,DE,DK,HR,IE,IT,LV,PL                           3037   \n",
       "...                                                                  ...   \n",
       "2020-09-12        ES                                                  33   \n",
       "2020-09-11        ES                                                  19   \n",
       "2020-09-10        ES                                                  15   \n",
       "2020-09-09        ES                                                  21   \n",
       "2020-09-08        ES                                                  18   \n",
       "\n",
       "                                           TEKs Uploaded per Shared Diagnosis  \\\n",
       "Sample Date (UTC) Source Countries                                              \n",
       "2020-11-30        ES,DE,DK,HR,IE,IT,LV,PL                           10.511189   \n",
       "2020-11-29        ES,DE,DK,HR,IE,IT,LV,PL                           10.276128   \n",
       "2020-11-28        ES,DE,DK,HR,IE,IT,LV,PL                           10.437031   \n",
       "2020-11-27        ES,DE,DK,HR,IE,IT,LV,PL                           10.771820   \n",
       "2020-11-26        ES,DE,DK,HR,IE,IT,LV,PL                           10.508396   \n",
       "...                                                                       ...   \n",
       "2020-09-12        ES                                                 2.787879   \n",
       "2020-09-11        ES                                                 2.421053   \n",
       "2020-09-10        ES                                                 3.000000   \n",
       "2020-09-09        ES                                                 3.190476   \n",
       "2020-09-08        ES                                                 2.444444   \n",
       "\n",
       "                                           Usage Ratio (Fraction of Cases in Source Countries Which Shared Diagnosis)  \n",
       "Sample Date (UTC) Source Countries                                                                                     \n",
       "2020-11-30        ES,DE,DK,HR,IE,IT,LV,PL                                           0.019713                           \n",
       "2020-11-29        ES,DE,DK,HR,IE,IT,LV,PL                                           0.021525                           \n",
       "2020-11-28        ES,DE,DK,HR,IE,IT,LV,PL                                           0.029685                           \n",
       "2020-11-27        ES,DE,DK,HR,IE,IT,LV,PL                                           0.030864                           \n",
       "2020-11-26        ES,DE,DK,HR,IE,IT,LV,PL                                           0.035555                           \n",
       "...                                                                                      ...                           \n",
       "2020-09-12        ES                                                                0.003430                           \n",
       "2020-09-11        ES                                                                0.001975                           \n",
       "2020-09-10        ES                                                                0.001600                           \n",
       "2020-09-09        ES                                                                0.002303                           \n",
       "2020-09-08        ES                                                                0.001983                           \n",
       "\n",
       "[84 rows x 7 columns]"
      ]
     },
     "execution_count": 52,
     "metadata": {},
     "output_type": "execute_result"
    }
   ],
   "source": [
    "result_summary_df_ = result_summary_df.copy()\n",
    "result_summary_df = result_summary_df[summary_columns]\n",
    "result_summary_with_display_names_df = result_summary_df \\\n",
    "    .rename_axis(index=display_column_name_mapping) \\\n",
    "    .rename(columns=display_column_name_mapping)\n",
    "result_summary_with_display_names_df"
   ]
  },
  {
   "cell_type": "markdown",
   "metadata": {
    "collapsed": false,
    "papermill": {
     "duration": 0.056075,
     "end_time": "2020-11-30T23:28:15.407749",
     "exception": false,
     "start_time": "2020-11-30T23:28:15.351674",
     "status": "completed"
    },
    "tags": []
   },
   "source": [
    "### Daily Summary Plots"
   ]
  },
  {
   "cell_type": "code",
   "execution_count": 53,
   "metadata": {
    "collapsed": false,
    "execution": {
     "iopub.execute_input": "2020-11-30T23:28:15.531167Z",
     "iopub.status.busy": "2020-11-30T23:28:15.530637Z",
     "iopub.status.idle": "2020-11-30T23:28:17.212036Z",
     "shell.execute_reply": "2020-11-30T23:28:17.212426Z"
    },
    "papermill": {
     "duration": 1.745748,
     "end_time": "2020-11-30T23:28:17.212580",
     "exception": false,
     "start_time": "2020-11-30T23:28:15.466832",
     "status": "completed"
    },
    "pycharm": {
     "name": "#%%\n"
    },
    "tags": []
   },
   "outputs": [
    {
     "data": {
      "image/png": "[encoded data removed]",
      "text/plain": [
       "<Figure size 1080x1584 with 7 Axes>"
      ]
     },
     "metadata": {},
     "output_type": "display_data"
    }
   ],
   "source": [
    "result_plot_summary_df = result_summary_df.head(daily_plot_days)[summary_columns] \\\n",
    "    .droplevel(level=[\"source_regions\"]) \\\n",
    "    .rename_axis(index=display_column_name_mapping) \\\n",
    "    .rename(columns=display_column_name_mapping)\n",
    "summary_ax_list = result_plot_summary_df.sort_index(ascending=True).plot.bar(\n",
    "    title=f\"Daily Summary\",\n",
    "    rot=45, subplots=True, figsize=(15, 22), legend=False)\n",
    "ax_ = summary_ax_list[-1]\n",
    "ax_.get_figure().tight_layout()\n",
    "ax_.get_figure().subplots_adjust(top=0.95)\n",
    "ax_.yaxis.set_major_formatter(matplotlib.ticker.PercentFormatter(1.0))\n",
    "_ = ax_.set_xticklabels(sorted(result_plot_summary_df.index.strftime(\"%Y-%m-%d\").tolist()))"
   ]
  },
  {
   "cell_type": "markdown",
   "metadata": {
    "execution": {
     "iopub.execute_input": "2020-09-02T08:20:14.568088Z",
     "iopub.status.busy": "2020-09-02T08:20:14.567425Z",
     "iopub.status.idle": "2020-09-02T08:20:14.571422Z",
     "shell.execute_reply": "2020-09-02T08:20:14.571952Z"
    },
    "papermill": {
     "duration": 0.064172,
     "end_time": "2020-11-30T23:28:17.340657",
     "exception": false,
     "start_time": "2020-11-30T23:28:17.276485",
     "status": "completed"
    },
    "pycharm": {
     "name": "#%% md\n"
    },
    "tags": []
   },
   "source": [
    "### Daily Generation to Upload Period Table"
   ]
  },
  {
   "cell_type": "code",
   "execution_count": 54,
   "metadata": {
    "execution": {
     "iopub.execute_input": "2020-11-30T23:28:17.476439Z",
     "iopub.status.busy": "2020-11-30T23:28:17.475900Z",
     "iopub.status.idle": "2020-11-30T23:28:17.478354Z",
     "shell.execute_reply": "2020-11-30T23:28:17.478728Z"
    },
    "papermill": {
     "duration": 0.078181,
     "end_time": "2020-11-30T23:28:17.478869",
     "exception": false,
     "start_time": "2020-11-30T23:28:17.400688",
     "status": "completed"
    },
    "pycharm": {
     "name": "#%%\n"
    },
    "tags": []
   },
   "outputs": [
    {
     "data": {
      "text/html": [
       "<div>\n",
       "<style scoped>\n",
       "    .dataframe tbody tr th:only-of-type {\n",
       "        vertical-align: middle;\n",
       "    }\n",
       "\n",
       "    .dataframe tbody tr th {\n",
       "        vertical-align: top;\n",
       "    }\n",
       "\n",
       "    .dataframe thead th {\n",
       "        text-align: right;\n",
       "    }\n",
       "</style>\n",
       "<table border=\"1\" class=\"dataframe\">\n",
       "  <thead>\n",
       "    <tr style=\"text-align: right;\">\n",
       "      <th>Generation to Upload Period in Days</th>\n",
       "      <th>0</th>\n",
       "      <th>1</th>\n",
       "      <th>2</th>\n",
       "      <th>3</th>\n",
       "      <th>4</th>\n",
       "      <th>5</th>\n",
       "      <th>6</th>\n",
       "      <th>7</th>\n",
       "      <th>8</th>\n",
       "      <th>9</th>\n",
       "      <th>10</th>\n",
       "      <th>11</th>\n",
       "      <th>12</th>\n",
       "      <th>13</th>\n",
       "    </tr>\n",
       "    <tr>\n",
       "      <th>Upload Date (UTC)</th>\n",
       "      <th></th>\n",
       "      <th></th>\n",
       "      <th></th>\n",
       "      <th></th>\n",
       "      <th></th>\n",
       "      <th></th>\n",
       "      <th></th>\n",
       "      <th></th>\n",
       "      <th></th>\n",
       "      <th></th>\n",
       "      <th></th>\n",
       "      <th></th>\n",
       "      <th></th>\n",
       "      <th></th>\n",
       "    </tr>\n",
       "  </thead>\n",
       "  <tbody>\n",
       "    <tr>\n",
       "      <th>2020-11-30</th>\n",
       "      <td>126</td>\n",
       "      <td>1063</td>\n",
       "      <td>1430</td>\n",
       "      <td>1367</td>\n",
       "      <td>1274</td>\n",
       "      <td>1200</td>\n",
       "      <td>1155</td>\n",
       "      <td>1107</td>\n",
       "      <td>1100</td>\n",
       "      <td>1089</td>\n",
       "      <td>1056</td>\n",
       "      <td>1043</td>\n",
       "      <td>1028</td>\n",
       "      <td>993</td>\n",
       "    </tr>\n",
       "    <tr>\n",
       "      <th>2020-11-29</th>\n",
       "      <td>128</td>\n",
       "      <td>1042</td>\n",
       "      <td>1684</td>\n",
       "      <td>1546</td>\n",
       "      <td>1430</td>\n",
       "      <td>1404</td>\n",
       "      <td>1349</td>\n",
       "      <td>1320</td>\n",
       "      <td>1291</td>\n",
       "      <td>1262</td>\n",
       "      <td>1227</td>\n",
       "      <td>1217</td>\n",
       "      <td>1215</td>\n",
       "      <td>1190</td>\n",
       "    </tr>\n",
       "    <tr>\n",
       "      <th>2020-11-28</th>\n",
       "      <td>159</td>\n",
       "      <td>1784</td>\n",
       "      <td>2398</td>\n",
       "      <td>2183</td>\n",
       "      <td>2098</td>\n",
       "      <td>2006</td>\n",
       "      <td>1978</td>\n",
       "      <td>1883</td>\n",
       "      <td>1817</td>\n",
       "      <td>1810</td>\n",
       "      <td>1771</td>\n",
       "      <td>1736</td>\n",
       "      <td>1711</td>\n",
       "      <td>1694</td>\n",
       "    </tr>\n",
       "    <tr>\n",
       "      <th>2020-11-27</th>\n",
       "      <td>254</td>\n",
       "      <td>1982</td>\n",
       "      <td>2555</td>\n",
       "      <td>2355</td>\n",
       "      <td>2279</td>\n",
       "      <td>2169</td>\n",
       "      <td>2144</td>\n",
       "      <td>2101</td>\n",
       "      <td>2008</td>\n",
       "      <td>2004</td>\n",
       "      <td>1966</td>\n",
       "      <td>1955</td>\n",
       "      <td>1871</td>\n",
       "      <td>1879</td>\n",
       "    </tr>\n",
       "    <tr>\n",
       "      <th>2020-11-26</th>\n",
       "      <td>216</td>\n",
       "      <td>2158</td>\n",
       "      <td>3037</td>\n",
       "      <td>2811</td>\n",
       "      <td>2643</td>\n",
       "      <td>2534</td>\n",
       "      <td>2479</td>\n",
       "      <td>2416</td>\n",
       "      <td>2358</td>\n",
       "      <td>2350</td>\n",
       "      <td>2301</td>\n",
       "      <td>2214</td>\n",
       "      <td>2178</td>\n",
       "      <td>2219</td>\n",
       "    </tr>\n",
       "    <tr>\n",
       "      <th>2020-11-25</th>\n",
       "      <td>227</td>\n",
       "      <td>1847</td>\n",
       "      <td>2822</td>\n",
       "      <td>2722</td>\n",
       "      <td>2613</td>\n",
       "      <td>2523</td>\n",
       "      <td>2448</td>\n",
       "      <td>2336</td>\n",
       "      <td>2289</td>\n",
       "      <td>2242</td>\n",
       "      <td>2185</td>\n",
       "      <td>2160</td>\n",
       "      <td>2171</td>\n",
       "      <td>2108</td>\n",
       "    </tr>\n",
       "    <tr>\n",
       "      <th>2020-11-24</th>\n",
       "      <td>164</td>\n",
       "      <td>1237</td>\n",
       "      <td>1667</td>\n",
       "      <td>1624</td>\n",
       "      <td>1537</td>\n",
       "      <td>1472</td>\n",
       "      <td>1391</td>\n",
       "      <td>1348</td>\n",
       "      <td>1308</td>\n",
       "      <td>1265</td>\n",
       "      <td>1235</td>\n",
       "      <td>1210</td>\n",
       "      <td>1184</td>\n",
       "      <td>1158</td>\n",
       "    </tr>\n",
       "    <tr>\n",
       "      <th>2020-11-23</th>\n",
       "      <td>147</td>\n",
       "      <td>892</td>\n",
       "      <td>1332</td>\n",
       "      <td>1264</td>\n",
       "      <td>1167</td>\n",
       "      <td>1080</td>\n",
       "      <td>1011</td>\n",
       "      <td>964</td>\n",
       "      <td>915</td>\n",
       "      <td>897</td>\n",
       "      <td>880</td>\n",
       "      <td>854</td>\n",
       "      <td>835</td>\n",
       "      <td>823</td>\n",
       "    </tr>\n",
       "    <tr>\n",
       "      <th>2020-11-22</th>\n",
       "      <td>132</td>\n",
       "      <td>897</td>\n",
       "      <td>1524</td>\n",
       "      <td>1359</td>\n",
       "      <td>1256</td>\n",
       "      <td>1189</td>\n",
       "      <td>1133</td>\n",
       "      <td>1091</td>\n",
       "      <td>1055</td>\n",
       "      <td>1038</td>\n",
       "      <td>1008</td>\n",
       "      <td>982</td>\n",
       "      <td>962</td>\n",
       "      <td>942</td>\n",
       "    </tr>\n",
       "    <tr>\n",
       "      <th>2020-11-21</th>\n",
       "      <td>153</td>\n",
       "      <td>1423</td>\n",
       "      <td>2275</td>\n",
       "      <td>2012</td>\n",
       "      <td>1903</td>\n",
       "      <td>1834</td>\n",
       "      <td>1749</td>\n",
       "      <td>1707</td>\n",
       "      <td>1676</td>\n",
       "      <td>1655</td>\n",
       "      <td>1607</td>\n",
       "      <td>1562</td>\n",
       "      <td>1539</td>\n",
       "      <td>1510</td>\n",
       "    </tr>\n",
       "    <tr>\n",
       "      <th>2020-11-20</th>\n",
       "      <td>212</td>\n",
       "      <td>1711</td>\n",
       "      <td>2617</td>\n",
       "      <td>2383</td>\n",
       "      <td>2249</td>\n",
       "      <td>2174</td>\n",
       "      <td>2111</td>\n",
       "      <td>2045</td>\n",
       "      <td>1979</td>\n",
       "      <td>1930</td>\n",
       "      <td>1878</td>\n",
       "      <td>1844</td>\n",
       "      <td>1799</td>\n",
       "      <td>1780</td>\n",
       "    </tr>\n",
       "    <tr>\n",
       "      <th>2020-11-19</th>\n",
       "      <td>211</td>\n",
       "      <td>1759</td>\n",
       "      <td>2492</td>\n",
       "      <td>2260</td>\n",
       "      <td>2112</td>\n",
       "      <td>2064</td>\n",
       "      <td>2010</td>\n",
       "      <td>1954</td>\n",
       "      <td>1893</td>\n",
       "      <td>1850</td>\n",
       "      <td>1818</td>\n",
       "      <td>1778</td>\n",
       "      <td>1756</td>\n",
       "      <td>1721</td>\n",
       "    </tr>\n",
       "    <tr>\n",
       "      <th>2020-11-18</th>\n",
       "      <td>290</td>\n",
       "      <td>2190</td>\n",
       "      <td>2915</td>\n",
       "      <td>2586</td>\n",
       "      <td>2490</td>\n",
       "      <td>2415</td>\n",
       "      <td>2323</td>\n",
       "      <td>2250</td>\n",
       "      <td>2177</td>\n",
       "      <td>2117</td>\n",
       "      <td>2071</td>\n",
       "      <td>2033</td>\n",
       "      <td>2006</td>\n",
       "      <td>1969</td>\n",
       "    </tr>\n",
       "    <tr>\n",
       "      <th>2020-11-17</th>\n",
       "      <td>222</td>\n",
       "      <td>1727</td>\n",
       "      <td>2099</td>\n",
       "      <td>2040</td>\n",
       "      <td>1955</td>\n",
       "      <td>1845</td>\n",
       "      <td>1759</td>\n",
       "      <td>1694</td>\n",
       "      <td>1645</td>\n",
       "      <td>1599</td>\n",
       "      <td>1578</td>\n",
       "      <td>1549</td>\n",
       "      <td>1529</td>\n",
       "      <td>1493</td>\n",
       "    </tr>\n",
       "  </tbody>\n",
       "</table>\n",
       "</div>"
      ],
      "text/plain": [
       "Generation to Upload Period in Days   0     1     2     3     4     5     6   \\\n",
       "Upload Date (UTC)                                                              \n",
       "2020-11-30                           126  1063  1430  1367  1274  1200  1155   \n",
       "2020-11-29                           128  1042  1684  1546  1430  1404  1349   \n",
       "2020-11-28                           159  1784  2398  2183  2098  2006  1978   \n",
       "2020-11-27                           254  1982  2555  2355  2279  2169  2144   \n",
       "2020-11-26                           216  2158  3037  2811  2643  2534  2479   \n",
       "2020-11-25                           227  1847  2822  2722  2613  2523  2448   \n",
       "2020-11-24                           164  1237  1667  1624  1537  1472  1391   \n",
       "2020-11-23                           147   892  1332  1264  1167  1080  1011   \n",
       "2020-11-22                           132   897  1524  1359  1256  1189  1133   \n",
       "2020-11-21                           153  1423  2275  2012  1903  1834  1749   \n",
       "2020-11-20                           212  1711  2617  2383  2249  2174  2111   \n",
       "2020-11-19                           211  1759  2492  2260  2112  2064  2010   \n",
       "2020-11-18                           290  2190  2915  2586  2490  2415  2323   \n",
       "2020-11-17                           222  1727  2099  2040  1955  1845  1759   \n",
       "\n",
       "Generation to Upload Period in Days    7     8     9     10    11    12    13  \n",
       "Upload Date (UTC)                                                              \n",
       "2020-11-30                           1107  1100  1089  1056  1043  1028   993  \n",
       "2020-11-29                           1320  1291  1262  1227  1217  1215  1190  \n",
       "2020-11-28                           1883  1817  1810  1771  1736  1711  1694  \n",
       "2020-11-27                           2101  2008  2004  1966  1955  1871  1879  \n",
       "2020-11-26                           2416  2358  2350  2301  2214  2178  2219  \n",
       "2020-11-25                           2336  2289  2242  2185  2160  2171  2108  \n",
       "2020-11-24                           1348  1308  1265  1235  1210  1184  1158  \n",
       "2020-11-23                            964   915   897   880   854   835   823  \n",
       "2020-11-22                           1091  1055  1038  1008   982   962   942  \n",
       "2020-11-21                           1707  1676  1655  1607  1562  1539  1510  \n",
       "2020-11-20                           2045  1979  1930  1878  1844  1799  1780  \n",
       "2020-11-19                           1954  1893  1850  1818  1778  1756  1721  \n",
       "2020-11-18                           2250  2177  2117  2071  2033  2006  1969  \n",
       "2020-11-17                           1694  1645  1599  1578  1549  1529  1493  "
      ]
     },
     "execution_count": 54,
     "metadata": {},
     "output_type": "execute_result"
    }
   ],
   "source": [
    "display_generation_to_upload_period_pivot_df = \\\n",
    "    generation_to_upload_period_pivot_df \\\n",
    "        .head(backend_generation_days)\n",
    "display_generation_to_upload_period_pivot_df \\\n",
    "    .head(backend_generation_days) \\\n",
    "    .rename_axis(columns=display_column_name_mapping) \\\n",
    "    .rename_axis(index=display_column_name_mapping)"
   ]
  },
  {
   "cell_type": "code",
   "execution_count": 55,
   "metadata": {
    "collapsed": false,
    "execution": {
     "iopub.execute_input": "2020-11-30T23:28:17.623434Z",
     "iopub.status.busy": "2020-11-30T23:28:17.622917Z",
     "iopub.status.idle": "2020-11-30T23:28:18.483166Z",
     "shell.execute_reply": "2020-11-30T23:28:18.483569Z"
    },
    "papermill": {
     "duration": 0.94241,
     "end_time": "2020-11-30T23:28:18.483718",
     "exception": false,
     "start_time": "2020-11-30T23:28:17.541308",
     "status": "completed"
    },
    "pycharm": {
     "name": "#%%\n"
    },
    "tags": []
   },
   "outputs": [
    {
     "data": {
      "image/png": "[encoded data removed]",
      "text/plain": [
       "<Figure size 864x676.8 with 2 Axes>"
      ]
     },
     "metadata": {},
     "output_type": "display_data"
    }
   ],
   "source": [
    "fig, generation_to_upload_period_pivot_table_ax = plt.subplots(\n",
    "    figsize=(12, 1 + 0.6 * len(display_generation_to_upload_period_pivot_df)))\n",
    "generation_to_upload_period_pivot_table_ax.set_title(\n",
    "    \"Shared TEKs Generation to Upload Period Table\")\n",
    "sns.heatmap(\n",
    "    data=display_generation_to_upload_period_pivot_df\n",
    "        .rename_axis(columns=display_column_name_mapping)\n",
    "        .rename_axis(index=display_column_name_mapping),\n",
    "    fmt=\".0f\",\n",
    "    annot=True,\n",
    "    ax=generation_to_upload_period_pivot_table_ax)\n",
    "generation_to_upload_period_pivot_table_ax.get_figure().tight_layout()"
   ]
  },
  {
   "cell_type": "markdown",
   "metadata": {
    "collapsed": false,
    "papermill": {
     "duration": 0.068521,
     "end_time": "2020-11-30T23:28:18.623489",
     "exception": false,
     "start_time": "2020-11-30T23:28:18.554968",
     "status": "completed"
    },
    "tags": []
   },
   "source": [
    "### Hourly Summary Plots "
   ]
  },
  {
   "cell_type": "code",
   "execution_count": 56,
   "metadata": {
    "collapsed": false,
    "execution": {
     "iopub.execute_input": "2020-11-30T23:28:18.784619Z",
     "iopub.status.busy": "2020-11-30T23:28:18.783974Z",
     "iopub.status.idle": "2020-11-30T23:28:19.062529Z",
     "shell.execute_reply": "2020-11-30T23:28:19.063051Z"
    },
    "papermill": {
     "duration": 0.370051,
     "end_time": "2020-11-30T23:28:19.063211",
     "exception": false,
     "start_time": "2020-11-30T23:28:18.693160",
     "status": "completed"
    },
    "pycharm": {
     "name": "#%%\n"
    },
    "tags": []
   },
   "outputs": [
    {
     "data": {
      "image/png": "[encoded data removed]",
      "text/plain": [
       "<Figure size 1080x432 with 1 Axes>"
      ]
     },
     "metadata": {},
     "output_type": "display_data"
    }
   ],
   "source": [
    "hourly_summary_ax_list = hourly_summary_df \\\n",
    "    .rename_axis(index=display_column_name_mapping) \\\n",
    "    .rename(columns=display_column_name_mapping) \\\n",
    "    .plot.bar(\n",
    "        title=f\"Last 24h Summary\",\n",
    "        rot=45, subplots=True, legend=False)\n",
    "ax_ = hourly_summary_ax_list[-1]\n",
    "ax_.get_figure().tight_layout()\n",
    "ax_.get_figure().subplots_adjust(top=0.9)\n",
    "_ = ax_.set_xticklabels(sorted(hourly_summary_df.index.strftime(\"%Y-%m-%d@%H\").tolist()))"
   ]
  },
  {
   "cell_type": "markdown",
   "metadata": {
    "collapsed": false,
    "papermill": {
     "duration": 0.07174,
     "end_time": "2020-11-30T23:28:19.207970",
     "exception": false,
     "start_time": "2020-11-30T23:28:19.136230",
     "status": "completed"
    },
    "tags": []
   },
   "source": [
    "### Publish Results"
   ]
  },
  {
   "cell_type": "code",
   "execution_count": 57,
   "metadata": {
    "collapsed": false,
    "execution": {
     "iopub.execute_input": "2020-11-30T23:28:19.358487Z",
     "iopub.status.busy": "2020-11-30T23:28:19.357920Z",
     "iopub.status.idle": "2020-11-30T23:28:19.360219Z",
     "shell.execute_reply": "2020-11-30T23:28:19.360631Z"
    },
    "papermill": {
     "duration": 0.080118,
     "end_time": "2020-11-30T23:28:19.360785",
     "exception": false,
     "start_time": "2020-11-30T23:28:19.280667",
     "status": "completed"
    },
    "pycharm": {
     "name": "#%%\n"
    },
    "tags": []
   },
   "outputs": [],
   "source": [
    "def get_temporary_image_path() -> str:\n",
    "    return os.path.join(tempfile.gettempdir(), str(uuid.uuid4()) + \".png\")\n",
    "\n",
    "def save_temporary_plot_image(ax):\n",
    "    if isinstance(ax, np.ndarray):\n",
    "        ax = ax[0]\n",
    "    media_path = get_temporary_image_path()\n",
    "    ax.get_figure().savefig(media_path)\n",
    "    return media_path\n",
    "\n",
    "def save_temporary_dataframe_image(df):\n",
    "    import dataframe_image as dfi\n",
    "    media_path = get_temporary_image_path()\n",
    "    dfi.export(df, media_path)\n",
    "    return media_path"
   ]
  },
  {
   "cell_type": "code",
   "execution_count": 58,
   "metadata": {
    "collapsed": false,
    "execution": {
     "iopub.execute_input": "2020-11-30T23:28:19.540122Z",
     "iopub.status.busy": "2020-11-30T23:28:19.539503Z",
     "iopub.status.idle": "2020-11-30T23:28:19.543446Z",
     "shell.execute_reply": "2020-11-30T23:28:19.542751Z"
    },
    "papermill": {
     "duration": 0.110714,
     "end_time": "2020-11-30T23:28:19.543566",
     "exception": false,
     "start_time": "2020-11-30T23:28:19.432852",
     "status": "completed"
    },
    "pycharm": {
     "name": "#%%\n"
    },
    "tags": []
   },
   "outputs": [
    {
     "name": "stderr",
     "output_type": "stream",
     "text": [
      "<ipython-input-58-bd16b454de40>:49: FutureWarning: `item` has been deprecated and will be removed in a future version\n",
      "  extraction_date_result_summary_df.covid_cases.item()\n",
      "<ipython-input-58-bd16b454de40>:51: FutureWarning: `item` has been deprecated and will be removed in a future version\n",
      "  extraction_date_result_summary_df.shared_teks_by_generation_date.item()\n",
      "<ipython-input-58-bd16b454de40>:53: FutureWarning: `item` has been deprecated and will be removed in a future version\n",
      "  extraction_date_result_summary_df.shared_teks_by_upload_date.item()\n",
      "<ipython-input-58-bd16b454de40>:55: FutureWarning: `item` has been deprecated and will be removed in a future version\n",
      "  extraction_date_result_summary_df.shared_diagnoses.item()\n",
      "<ipython-input-58-bd16b454de40>:57: FutureWarning: `item` has been deprecated and will be removed in a future version\n",
      "  extraction_date_result_summary_df.teks_per_shared_diagnosis.item()\n",
      "<ipython-input-58-bd16b454de40>:59: FutureWarning: `item` has been deprecated and will be removed in a future version\n",
      "  extraction_date_result_summary_df.shared_diagnoses_per_covid_case.item()\n"
     ]
    }
   ],
   "source": [
    "github_repository = os.environ.get(\"GITHUB_REPOSITORY\")\n",
    "if github_repository is None:\n",
    "    github_repository = \"pvieito/Radar-STATS\"\n",
    "\n",
    "github_project_base_url = \"https://github.com/\" + github_repository\n",
    "\n",
    "display_formatters = {\n",
    "    display_column_name_mapping[\"teks_per_shared_diagnosis\"]: lambda x: f\"{x:.2f}\",\n",
    "    display_column_name_mapping[\"shared_diagnoses_per_covid_case\"]: lambda x: f\"{x:.2%}\",\n",
    "}\n",
    "daily_summary_table_html = result_summary_with_display_names_df \\\n",
    "    .head(daily_plot_days) \\\n",
    "    .rename_axis(index=display_column_name_mapping) \\\n",
    "    .rename(columns=display_column_name_mapping) \\\n",
    "    .to_html(formatters=display_formatters)\n",
    "multi_backend_summary_table_html = multi_backend_summary_df \\\n",
    "    .head(daily_plot_days) \\\n",
    "    .rename_axis(columns=display_column_name_mapping) \\\n",
    "    .rename(columns=display_column_name_mapping) \\\n",
    "    .rename_axis(index=display_column_name_mapping) \\\n",
    "    .to_html(formatters=display_formatters)\n",
    "\n",
    "def format_multi_backend_cross_sharing_fraction(x):\n",
    "    if pd.isna(x):\n",
    "        return \"-\"\n",
    "    elif round(x * 100, 1) == 0:\n",
    "        return \"\"\n",
    "    else:\n",
    "        return f\"{x:.1%}\"\n",
    "\n",
    "multi_backend_cross_sharing_summary_table_html = multi_backend_cross_sharing_summary_df \\\n",
    "    .rename_axis(columns=display_column_name_mapping) \\\n",
    "    .rename(columns=display_column_name_mapping) \\\n",
    "    .rename_axis(index=display_column_name_mapping) \\\n",
    "    .to_html(\n",
    "        classes=\"table-center\",\n",
    "        formatters=display_formatters,\n",
    "        float_format=format_multi_backend_cross_sharing_fraction)\n",
    "multi_backend_cross_sharing_summary_table_html = \\\n",
    "    multi_backend_cross_sharing_summary_table_html \\\n",
    "        .replace(\"<tr>\",\"<tr style=\\\"text-align: center;\\\">\")\n",
    "\n",
    "extraction_date_result_summary_df = \\\n",
    "    result_summary_df[result_summary_df.index.get_level_values(\"sample_date\") == extraction_date]\n",
    "extraction_date_result_hourly_summary_df = \\\n",
    "    hourly_summary_df[hourly_summary_df.extraction_date_with_hour == extraction_date_with_hour]\n",
    "\n",
    "covid_cases = \\\n",
    "    extraction_date_result_summary_df.covid_cases.item()\n",
    "shared_teks_by_generation_date = \\\n",
    "    extraction_date_result_summary_df.shared_teks_by_generation_date.item()\n",
    "shared_teks_by_upload_date = \\\n",
    "    extraction_date_result_summary_df.shared_teks_by_upload_date.item()\n",
    "shared_diagnoses = \\\n",
    "    extraction_date_result_summary_df.shared_diagnoses.item()\n",
    "teks_per_shared_diagnosis = \\\n",
    "    extraction_date_result_summary_df.teks_per_shared_diagnosis.item()\n",
    "shared_diagnoses_per_covid_case = \\\n",
    "    extraction_date_result_summary_df.shared_diagnoses_per_covid_case.item()\n",
    "\n",
    "shared_teks_by_upload_date_last_hour = \\\n",
    "    extraction_date_result_hourly_summary_df.shared_teks_by_upload_date.sum().astype(int)\n",
    "\n",
    "display_source_regions = \", \".join(report_source_regions)\n",
    "if len(report_source_regions) == 1:\n",
    "    display_brief_source_regions = report_source_regions[0]\n",
    "else:\n",
    "    display_brief_source_regions = f\"{len(report_source_regions)} 🇪🇺\""
   ]
  },
  {
   "cell_type": "code",
   "execution_count": 59,
   "metadata": {
    "execution": {
     "iopub.execute_input": "2020-11-30T23:28:19.698255Z",
     "iopub.status.busy": "2020-11-30T23:28:19.695032Z",
     "iopub.status.idle": "2020-11-30T23:28:27.078009Z",
     "shell.execute_reply": "2020-11-30T23:28:27.078739Z"
    },
    "papermill": {
     "duration": 7.462935,
     "end_time": "2020-11-30T23:28:27.078903",
     "exception": false,
     "start_time": "2020-11-30T23:28:19.615968",
     "status": "completed"
    },
    "pycharm": {
     "name": "#%%\n"
    },
    "tags": []
   },
   "outputs": [],
   "source": [
    "summary_plots_image_path = save_temporary_plot_image(\n",
    "    ax=summary_ax_list)\n",
    "summary_table_image_path = save_temporary_dataframe_image(\n",
    "    df=result_summary_with_display_names_df)\n",
    "hourly_summary_plots_image_path = save_temporary_plot_image(\n",
    "    ax=hourly_summary_ax_list)\n",
    "multi_backend_summary_table_image_path = save_temporary_dataframe_image(\n",
    "    df=multi_backend_summary_df)\n",
    "generation_to_upload_period_pivot_table_image_path = save_temporary_plot_image(\n",
    "    ax=generation_to_upload_period_pivot_table_ax)"
   ]
  },
  {
   "cell_type": "markdown",
   "metadata": {
    "execution": {
     "iopub.execute_input": "2020-09-02T08:20:16.981187Z",
     "iopub.status.busy": "2020-09-02T08:20:16.980584Z",
     "iopub.status.idle": "2020-09-02T08:20:20.068070Z",
     "shell.execute_reply": "2020-09-02T08:20:20.068598Z"
    },
    "papermill": {
     "duration": 0.06512,
     "end_time": "2020-11-30T23:28:27.208617",
     "exception": false,
     "start_time": "2020-11-30T23:28:27.143497",
     "status": "completed"
    },
    "pycharm": {
     "name": "#%% md\n"
    },
    "tags": []
   },
   "source": [
    "### Save Results"
   ]
  },
  {
   "cell_type": "code",
   "execution_count": 60,
   "metadata": {
    "collapsed": false,
    "execution": {
     "iopub.execute_input": "2020-11-30T23:28:27.345184Z",
     "iopub.status.busy": "2020-11-30T23:28:27.344638Z",
     "iopub.status.idle": "2020-11-30T23:28:27.369952Z",
     "shell.execute_reply": "2020-11-30T23:28:27.369411Z"
    },
    "papermill": {
     "duration": 0.097564,
     "end_time": "2020-11-30T23:28:27.370103",
     "exception": false,
     "start_time": "2020-11-30T23:28:27.272539",
     "status": "completed"
    },
    "pycharm": {
     "name": "#%%\n"
    },
    "tags": []
   },
   "outputs": [],
   "source": [
    "report_resources_path_prefix = \"Data/Resources/Current/RadarCOVID-Report-\"\n",
    "result_summary_df.to_csv(\n",
    "    report_resources_path_prefix + \"Summary-Table.csv\")\n",
    "result_summary_df.to_html(\n",
    "    report_resources_path_prefix + \"Summary-Table.html\")\n",
    "hourly_summary_df.to_csv(\n",
    "    report_resources_path_prefix + \"Hourly-Summary-Table.csv\")\n",
    "multi_backend_summary_df.to_csv(\n",
    "    report_resources_path_prefix + \"Multi-Backend-Summary-Table.csv\")\n",
    "multi_backend_cross_sharing_summary_df.to_csv(\n",
    "    report_resources_path_prefix + \"Multi-Backend-Cross-Sharing-Summary-Table.csv\")\n",
    "generation_to_upload_period_pivot_df.to_csv(\n",
    "    report_resources_path_prefix + \"Generation-Upload-Period-Table.csv\")\n",
    "_ = shutil.copyfile(\n",
    "    summary_plots_image_path,\n",
    "    report_resources_path_prefix + \"Summary-Plots.png\")\n",
    "_ = shutil.copyfile(\n",
    "    summary_table_image_path,\n",
    "    report_resources_path_prefix + \"Summary-Table.png\")\n",
    "_ = shutil.copyfile(\n",
    "    hourly_summary_plots_image_path,\n",
    "    report_resources_path_prefix + \"Hourly-Summary-Plots.png\")\n",
    "_ = shutil.copyfile(\n",
    "    multi_backend_summary_table_image_path,\n",
    "    report_resources_path_prefix + \"Multi-Backend-Summary-Table.png\")\n",
    "_ = shutil.copyfile(\n",
    "    generation_to_upload_period_pivot_table_image_path,\n",
    "    report_resources_path_prefix + \"Generation-Upload-Period-Table.png\")"
   ]
  },
  {
   "cell_type": "markdown",
   "metadata": {
    "collapsed": false,
    "papermill": {
     "duration": 0.062222,
     "end_time": "2020-11-30T23:28:27.495178",
     "exception": false,
     "start_time": "2020-11-30T23:28:27.432956",
     "status": "completed"
    },
    "pycharm": {
     "name": "#%% md\n"
    },
    "tags": []
   },
   "source": [
    "### Publish Results as JSON"
   ]
  },
  {
   "cell_type": "code",
   "execution_count": 61,
   "metadata": {
    "execution": {
     "iopub.execute_input": "2020-11-30T23:28:27.633762Z",
     "iopub.status.busy": "2020-11-30T23:28:27.633239Z",
     "iopub.status.idle": "2020-11-30T23:28:27.642339Z",
     "shell.execute_reply": "2020-11-30T23:28:27.641907Z"
    },
    "papermill": {
     "duration": 0.084219,
     "end_time": "2020-11-30T23:28:27.642452",
     "exception": false,
     "start_time": "2020-11-30T23:28:27.558233",
     "status": "completed"
    },
    "pycharm": {
     "name": "#%%\n"
    },
    "tags": []
   },
   "outputs": [],
   "source": [
    "def generate_summary_api_results(df: pd.DataFrame) -> list:\n",
    "    api_df = df.reset_index().copy()\n",
    "    api_df[\"sample_date_string\"] = \\\n",
    "        api_df[\"sample_date\"].dt.strftime(\"%Y-%m-%d\")\n",
    "    api_df[\"source_regions\"] = \\\n",
    "        api_df[\"source_regions\"].apply(lambda x: x.split(\",\"))\n",
    "    return api_df.to_dict(orient=\"records\")\n",
    "\n",
    "summary_api_results = \\\n",
    "    generate_summary_api_results(df=result_summary_df)\n",
    "today_summary_api_results = \\\n",
    "    generate_summary_api_results(df=extraction_date_result_summary_df)[0]\n",
    "\n",
    "summary_results = dict(\n",
    "    backend_identifier=report_backend_identifier,\n",
    "    source_regions=report_source_regions,\n",
    "    extraction_datetime=extraction_datetime,\n",
    "    extraction_date=extraction_date,\n",
    "    extraction_date_with_hour=extraction_date_with_hour,\n",
    "    last_hour=dict(\n",
    "        shared_teks_by_upload_date=shared_teks_by_upload_date_last_hour,\n",
    "        shared_diagnoses=0,\n",
    "    ),\n",
    "    today=today_summary_api_results,\n",
    "    last_7_days=last_7_days_summary,\n",
    "    daily_results=summary_api_results)\n",
    "\n",
    "summary_results = \\\n",
    "    json.loads(pd.Series([summary_results]).to_json(orient=\"records\"))[0]\n",
    "\n",
    "with open(report_resources_path_prefix + \"Summary-Results.json\", \"w\") as f:\n",
    "    json.dump(summary_results, f, indent=4)"
   ]
  },
  {
   "cell_type": "markdown",
   "metadata": {
    "execution": {
     "iopub.execute_input": "2020-09-02T08:20:20.895901Z",
     "iopub.status.busy": "2020-09-02T08:20:20.895301Z",
     "iopub.status.idle": "2020-09-02T08:20:20.942286Z",
     "shell.execute_reply": "2020-09-02T08:20:20.942834Z"
    },
    "papermill": {
     "duration": 0.067182,
     "end_time": "2020-11-30T23:28:27.775701",
     "exception": false,
     "start_time": "2020-11-30T23:28:27.708519",
     "status": "completed"
    },
    "pycharm": {
     "name": "#%% md\n"
    },
    "tags": []
   },
   "source": [
    "### Publish on README"
   ]
  },
  {
   "cell_type": "code",
   "execution_count": 62,
   "metadata": {
    "collapsed": false,
    "execution": {
     "iopub.execute_input": "2020-11-30T23:28:27.918609Z",
     "iopub.status.busy": "2020-11-30T23:28:27.918028Z",
     "iopub.status.idle": "2020-11-30T23:28:27.921238Z",
     "shell.execute_reply": "2020-11-30T23:28:27.921694Z"
    },
    "papermill": {
     "duration": 0.079079,
     "end_time": "2020-11-30T23:28:27.921842",
     "exception": false,
     "start_time": "2020-11-30T23:28:27.842763",
     "status": "completed"
    },
    "pycharm": {
     "name": "#%%\n"
    },
    "tags": []
   },
   "outputs": [],
   "source": [
    "with open(\"Data/Templates/README.md\", \"r\") as f:\n",
    "    readme_contents = f.read()\n",
    "\n",
    "readme_contents = readme_contents.format(\n",
    "    extraction_date_with_hour=extraction_date_with_hour,\n",
    "    github_project_base_url=github_project_base_url,\n",
    "    daily_summary_table_html=daily_summary_table_html,\n",
    "    multi_backend_summary_table_html=multi_backend_summary_table_html,\n",
    "    multi_backend_cross_sharing_summary_table_html=multi_backend_cross_sharing_summary_table_html,\n",
    "    display_source_regions=display_source_regions)\n",
    "\n",
    "with open(\"README.md\", \"w\") as f:\n",
    "    f.write(readme_contents)"
   ]
  },
  {
   "cell_type": "markdown",
   "metadata": {
    "collapsed": false,
    "papermill": {
     "duration": 0.066555,
     "end_time": "2020-11-30T23:28:28.054660",
     "exception": false,
     "start_time": "2020-11-30T23:28:27.988105",
     "status": "completed"
    },
    "pycharm": {
     "name": "#%% md\n"
    },
    "tags": []
   },
   "source": [
    "### Publish on Twitter"
   ]
  },
  {
   "cell_type": "code",
   "execution_count": 63,
   "metadata": {
    "collapsed": false,
    "execution": {
     "iopub.execute_input": "2020-11-30T23:28:28.201958Z",
     "iopub.status.busy": "2020-11-30T23:28:28.194284Z",
     "iopub.status.idle": "2020-11-30T23:28:37.219802Z",
     "shell.execute_reply": "2020-11-30T23:28:37.218538Z"
    },
    "papermill": {
     "duration": 9.097132,
     "end_time": "2020-11-30T23:28:37.219938",
     "exception": false,
     "start_time": "2020-11-30T23:28:28.122806",
     "status": "completed"
    },
    "pycharm": {
     "name": "#%%\n"
    },
    "tags": []
   },
   "outputs": [],
   "source": [
    "enable_share_to_twitter = os.environ.get(\"RADARCOVID_REPORT__ENABLE_PUBLISH_ON_TWITTER\")\n",
    "github_event_name = os.environ.get(\"GITHUB_EVENT_NAME\")\n",
    "\n",
    "if enable_share_to_twitter and github_event_name == \"schedule\" and \\\n",
    "        (shared_teks_by_upload_date_last_hour or not are_today_results_partial):\n",
    "    import tweepy\n",
    "\n",
    "    twitter_api_auth_keys = os.environ[\"RADARCOVID_REPORT__TWITTER_API_AUTH_KEYS\"]\n",
    "    twitter_api_auth_keys = twitter_api_auth_keys.split(\":\")\n",
    "    auth = tweepy.OAuthHandler(twitter_api_auth_keys[0], twitter_api_auth_keys[1])\n",
    "    auth.set_access_token(twitter_api_auth_keys[2], twitter_api_auth_keys[3])\n",
    "\n",
    "    api = tweepy.API(auth)\n",
    "\n",
    "    summary_plots_media = api.media_upload(summary_plots_image_path)\n",
    "    summary_table_media = api.media_upload(summary_table_image_path)\n",
    "    generation_to_upload_period_pivot_table_image_media = api.media_upload(generation_to_upload_period_pivot_table_image_path)\n",
    "    media_ids = [\n",
    "        summary_plots_media.media_id,\n",
    "        summary_table_media.media_id,\n",
    "        generation_to_upload_period_pivot_table_image_media.media_id,\n",
    "    ]\n",
    "\n",
    "    if are_today_results_partial:\n",
    "        today_addendum = \" (Partial)\"\n",
    "    else:\n",
    "        today_addendum = \"\"\n",
    "\n",
    "    status = textwrap.dedent(f\"\"\"\n",
    "        #RadarCOVID – {extraction_date_with_hour}\n",
    "\n",
    "        Source Countries: {display_brief_source_regions}\n",
    "\n",
    "        Today{today_addendum}:\n",
    "        - Uploaded TEKs: {shared_teks_by_upload_date:.0f} ({shared_teks_by_upload_date_last_hour:+d} last hour)\n",
    "        - Shared Diagnoses: ≤{shared_diagnoses:.0f}\n",
    "        - Usage Ratio: ≤{shared_diagnoses_per_covid_case:.2%}\n",
    "\n",
    "        Last 7 Days:\n",
    "        - Shared Diagnoses: ≤{last_7_days_summary[\"shared_diagnoses\"]:.0f}\n",
    "        - Usage Ratio: ≤{last_7_days_summary[\"shared_diagnoses_per_covid_case\"]:.2%}\n",
    "\n",
    "        Info: {github_project_base_url}#documentation\n",
    "        \"\"\")\n",
    "    status = status.encode(encoding=\"utf-8\")\n",
    "    api.update_status(status=status, media_ids=media_ids)"
   ]
  }
 ],
 "metadata": {
  "kernelspec": {
   "display_name": "Python 3",
   "language": "python",
   "name": "python3"
  },
  "language_info": {
   "codemirror_mode": {
    "name": "ipython",
    "version": 3
   },
   "file_extension": ".py",
   "mimetype": "text/x-python",
   "name": "python",
   "nbconvert_exporter": "python",
   "pygments_lexer": "ipython3",
   "version": "3.8.6"
  },
  "papermill": {
   "duration": 439.381975,
   "end_time": "2020-11-30T23:28:39.607799",
   "environment_variables": {},
   "exception": null,
   "input_path": "Notebooks/RadarCOVID-Report/Source/RadarCOVID-Report.ipynb",
   "output_path": "RadarCOVID-Report.ipynb",
   "parameters": {},
   "start_time": "2020-11-30T23:21:20.225824",
   "version": "2.1.3"
  }
 },
 "nbformat": 4,
 "nbformat_minor": 1
}