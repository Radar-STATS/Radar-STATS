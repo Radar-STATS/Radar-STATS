{
 "cells": [
  {
   "cell_type": "markdown",
   "metadata": {
    "papermill": {
     "duration": 0.043151,
     "end_time": "2020-12-18T23:27:43.605155",
     "exception": false,
     "start_time": "2020-12-18T23:27:43.562004",
     "status": "completed"
    },
    "pycharm": {
     "name": "#%% md\n"
    },
    "tags": []
   },
   "source": [
    "# RadarCOVID-Report"
   ]
  },
  {
   "cell_type": "markdown",
   "metadata": {
    "collapsed": true,
    "papermill": {
     "duration": 0.03747,
     "end_time": "2020-12-18T23:27:43.680177",
     "exception": false,
     "start_time": "2020-12-18T23:27:43.642707",
     "status": "completed"
    },
    "pycharm": {
     "name": "#%% md\n"
    },
    "tags": []
   },
   "source": [
    "## Data Extraction"
   ]
  },
  {
   "cell_type": "code",
   "execution_count": 1,
   "metadata": {
    "execution": {
     "iopub.execute_input": "2020-12-18T23:27:43.766386Z",
     "iopub.status.busy": "2020-12-18T23:27:43.765849Z",
     "iopub.status.idle": "2020-12-18T23:27:49.953334Z",
     "shell.execute_reply": "2020-12-18T23:27:49.952377Z"
    },
    "papermill": {
     "duration": 6.236398,
     "end_time": "2020-12-18T23:27:49.953642",
     "exception": false,
     "start_time": "2020-12-18T23:27:43.717244",
     "status": "completed"
    },
    "pycharm": {
     "name": "#%%\n"
    },
    "tags": []
   },
   "outputs": [
    {
     "name": "stderr",
     "output_type": "stream",
     "text": [
      "Matplotlib is building the font cache; this may take a moment.\n"
     ]
    }
   ],
   "source": [
    "import datetime\n",
    "import json\n",
    "import logging\n",
    "import os\n",
    "import shutil\n",
    "import tempfile\n",
    "import textwrap\n",
    "import uuid\n",
    "\n",
    "import matplotlib.pyplot as plt\n",
    "import matplotlib.ticker\n",
    "import numpy as np\n",
    "import pandas as pd\n",
    "import pycountry\n",
    "import retry\n",
    "import seaborn as sns\n",
    "\n",
    "%matplotlib inline"
   ]
  },
  {
   "cell_type": "code",
   "execution_count": 2,
   "metadata": {
    "collapsed": false,
    "execution": {
     "iopub.execute_input": "2020-12-18T23:27:50.076418Z",
     "iopub.status.busy": "2020-12-18T23:27:50.075862Z",
     "iopub.status.idle": "2020-12-18T23:27:50.078906Z",
     "shell.execute_reply": "2020-12-18T23:27:50.078458Z"
    },
    "papermill": {
     "duration": 0.049732,
     "end_time": "2020-12-18T23:27:50.079025",
     "exception": false,
     "start_time": "2020-12-18T23:27:50.029293",
     "status": "completed"
    },
    "pycharm": {
     "name": "#%%\n"
    },
    "tags": []
   },
   "outputs": [],
   "source": [
    "current_working_directory = os.environ.get(\"PWD\")\n",
    "if current_working_directory:\n",
    "    os.chdir(current_working_directory)\n",
    "\n",
    "sns.set()\n",
    "matplotlib.rcParams[\"figure.figsize\"] = (15, 6)\n",
    "\n",
    "extraction_datetime = datetime.datetime.utcnow()\n",
    "extraction_date = extraction_datetime.strftime(\"%Y-%m-%d\")\n",
    "extraction_previous_datetime = extraction_datetime - datetime.timedelta(days=1)\n",
    "extraction_previous_date = extraction_previous_datetime.strftime(\"%Y-%m-%d\")\n",
    "extraction_date_with_hour = datetime.datetime.utcnow().strftime(\"%Y-%m-%d@%H\")\n",
    "current_hour = datetime.datetime.utcnow().hour\n",
    "are_today_results_partial = current_hour != 23"
   ]
  },
  {
   "cell_type": "markdown",
   "metadata": {
    "collapsed": false,
    "papermill": {
     "duration": 0.039105,
     "end_time": "2020-12-18T23:27:50.156516",
     "exception": false,
     "start_time": "2020-12-18T23:27:50.117411",
     "status": "completed"
    },
    "tags": []
   },
   "source": [
    "### Constants"
   ]
  },
  {
   "cell_type": "code",
   "execution_count": 3,
   "metadata": {
    "execution": {
     "iopub.execute_input": "2020-12-18T23:27:50.247334Z",
     "iopub.status.busy": "2020-12-18T23:27:50.246763Z",
     "iopub.status.idle": "2020-12-18T23:27:50.327167Z",
     "shell.execute_reply": "2020-12-18T23:27:50.326362Z"
    },
    "papermill": {
     "duration": 0.123781,
     "end_time": "2020-12-18T23:27:50.327434",
     "exception": false,
     "start_time": "2020-12-18T23:27:50.203653",
     "status": "completed"
    },
    "pycharm": {
     "name": "#%%\n"
    },
    "tags": []
   },
   "outputs": [],
   "source": [
    "from Modules.ExposureNotification import exposure_notification_io\n",
    "\n",
    "spain_region_country_code = \"ES\"\n",
    "germany_region_country_code = \"DE\"\n",
    "\n",
    "default_backend_identifier = spain_region_country_code\n",
    "\n",
    "backend_generation_days = 7 * 2\n",
    "daily_summary_days = 7 * 4 * 3\n",
    "daily_plot_days = 7 * 4\n",
    "tek_dumps_load_limit = daily_summary_days + 1"
   ]
  },
  {
   "cell_type": "markdown",
   "metadata": {
    "collapsed": false,
    "papermill": {
     "duration": 0.037477,
     "end_time": "2020-12-18T23:27:50.405983",
     "exception": false,
     "start_time": "2020-12-18T23:27:50.368506",
     "status": "completed"
    },
    "tags": []
   },
   "source": [
    "### Parameters"
   ]
  },
  {
   "cell_type": "code",
   "execution_count": 4,
   "metadata": {
    "collapsed": false,
    "execution": {
     "iopub.execute_input": "2020-12-18T23:27:50.488475Z",
     "iopub.status.busy": "2020-12-18T23:27:50.487929Z",
     "iopub.status.idle": "2020-12-18T23:27:50.490493Z",
     "shell.execute_reply": "2020-12-18T23:27:50.491033Z"
    },
    "papermill": {
     "duration": 0.046944,
     "end_time": "2020-12-18T23:27:50.491182",
     "exception": false,
     "start_time": "2020-12-18T23:27:50.444238",
     "status": "completed"
    },
    "pycharm": {
     "name": "#%%\n"
    },
    "tags": []
   },
   "outputs": [
    {
     "data": {
      "text/plain": [
       "'ES'"
      ]
     },
     "execution_count": 4,
     "metadata": {},
     "output_type": "execute_result"
    }
   ],
   "source": [
    "environment_backend_identifier = os.environ.get(\"RADARCOVID_REPORT__BACKEND_IDENTIFIER\")\n",
    "if environment_backend_identifier:\n",
    "    report_backend_identifier = environment_backend_identifier\n",
    "else:\n",
    "    report_backend_identifier = default_backend_identifier\n",
    "report_backend_identifier"
   ]
  },
  {
   "cell_type": "code",
   "execution_count": 5,
   "metadata": {
    "collapsed": false,
    "execution": {
     "iopub.execute_input": "2020-12-18T23:27:50.575474Z",
     "iopub.status.busy": "2020-12-18T23:27:50.574909Z",
     "iopub.status.idle": "2020-12-18T23:27:50.577549Z",
     "shell.execute_reply": "2020-12-18T23:27:50.577060Z"
    },
    "papermill": {
     "duration": 0.048397,
     "end_time": "2020-12-18T23:27:50.577672",
     "exception": false,
     "start_time": "2020-12-18T23:27:50.529275",
     "status": "completed"
    },
    "pycharm": {
     "name": "#%%\n"
    },
    "tags": []
   },
   "outputs": [],
   "source": [
    "environment_enable_multi_backend_download = \\\n",
    "    os.environ.get(\"RADARCOVID_REPORT__ENABLE_MULTI_BACKEND_DOWNLOAD\")\n",
    "if environment_enable_multi_backend_download:\n",
    "    report_backend_identifiers = None\n",
    "else:\n",
    "    report_backend_identifiers = [report_backend_identifier]\n",
    "\n",
    "report_backend_identifiers"
   ]
  },
  {
   "cell_type": "code",
   "execution_count": 6,
   "metadata": {
    "collapsed": false,
    "execution": {
     "iopub.execute_input": "2020-12-18T23:27:50.661617Z",
     "iopub.status.busy": "2020-12-18T23:27:50.661071Z",
     "iopub.status.idle": "2020-12-18T23:27:50.664642Z",
     "shell.execute_reply": "2020-12-18T23:27:50.664202Z"
    },
    "papermill": {
     "duration": 0.047928,
     "end_time": "2020-12-18T23:27:50.664768",
     "exception": false,
     "start_time": "2020-12-18T23:27:50.616840",
     "status": "completed"
    },
    "pycharm": {
     "name": "#%%\n"
    },
    "tags": []
   },
   "outputs": [
    {
     "data": {
      "text/plain": [
       "['2020-10-30', '2020-12-02', '2020-12-05']"
      ]
     },
     "execution_count": 6,
     "metadata": {},
     "output_type": "execute_result"
    }
   ],
   "source": [
    "environment_invalid_shared_diagnoses_dates = \\\n",
    "    os.environ.get(\"RADARCOVID_REPORT__INVALID_SHARED_DIAGNOSES_DATES\")\n",
    "if environment_invalid_shared_diagnoses_dates:\n",
    "    invalid_shared_diagnoses_dates = environment_invalid_shared_diagnoses_dates.split(\",\")\n",
    "else:\n",
    "    invalid_shared_diagnoses_dates = []\n",
    "\n",
    "invalid_shared_diagnoses_dates"
   ]
  },
  {
   "cell_type": "markdown",
   "metadata": {
    "collapsed": false,
    "papermill": {
     "duration": 0.037505,
     "end_time": "2020-12-18T23:27:50.740586",
     "exception": false,
     "start_time": "2020-12-18T23:27:50.703081",
     "status": "completed"
    },
    "pycharm": {
     "name": "#%% md\n"
    },
    "tags": []
   },
   "source": [
    "### COVID-19 Cases"
   ]
  },
  {
   "cell_type": "code",
   "execution_count": 7,
   "metadata": {
    "collapsed": false,
    "execution": {
     "iopub.execute_input": "2020-12-18T23:27:50.822766Z",
     "iopub.status.busy": "2020-12-18T23:27:50.822263Z",
     "iopub.status.idle": "2020-12-18T23:27:50.824404Z",
     "shell.execute_reply": "2020-12-18T23:27:50.824938Z"
    },
    "papermill": {
     "duration": 0.047241,
     "end_time": "2020-12-18T23:27:50.825087",
     "exception": false,
     "start_time": "2020-12-18T23:27:50.777846",
     "status": "completed"
    },
    "pycharm": {
     "name": "#%%\n"
    },
    "tags": []
   },
   "outputs": [],
   "source": [
    "report_backend_client = \\\n",
    "    exposure_notification_io.get_backend_client_with_identifier(\n",
    "        backend_identifier=report_backend_identifier)"
   ]
  },
  {
   "cell_type": "code",
   "execution_count": 8,
   "metadata": {
    "collapsed": false,
    "execution": {
     "iopub.execute_input": "2020-12-18T23:27:50.911951Z",
     "iopub.status.busy": "2020-12-18T23:27:50.911346Z",
     "iopub.status.idle": "2020-12-18T23:27:52.218984Z",
     "shell.execute_reply": "2020-12-18T23:27:52.219452Z"
    },
    "papermill": {
     "duration": 1.355438,
     "end_time": "2020-12-18T23:27:52.219631",
     "exception": false,
     "start_time": "2020-12-18T23:27:50.864193",
     "status": "completed"
    },
    "pycharm": {
     "name": "#%%\n"
    },
    "tags": []
   },
   "outputs": [],
   "source": [
    "@retry.retry(tries=10, delay=10, backoff=1.1, jitter=(0, 10))\n",
    "def download_cases_dataframe():\n",
    "    return pd.read_csv(\n",
    "        \"https://raw.githubusercontent.com/owid/covid-19-data/master/public/data/owid-covid-data.csv\")\n",
    "\n",
    "confirmed_df_ = download_cases_dataframe()"
   ]
  },
  {
   "cell_type": "code",
   "execution_count": 9,
   "metadata": {
    "collapsed": false,
    "execution": {
     "iopub.execute_input": "2020-12-18T23:27:52.609926Z",
     "iopub.status.busy": "2020-12-18T23:27:52.609350Z",
     "iopub.status.idle": "2020-12-18T23:27:53.107759Z",
     "shell.execute_reply": "2020-12-18T23:27:53.108304Z"
    },
    "papermill": {
     "duration": 0.70782,
     "end_time": "2020-12-18T23:27:53.108512",
     "exception": false,
     "start_time": "2020-12-18T23:27:52.400692",
     "status": "completed"
    },
    "pycharm": {
     "name": "#%%\n"
    },
    "tags": []
   },
   "outputs": [
    {
     "data": {
      "text/html": [
       "<div>\n",
       "<style scoped>\n",
       "    .dataframe tbody tr th:only-of-type {\n",
       "        vertical-align: middle;\n",
       "    }\n",
       "\n",
       "    .dataframe tbody tr th {\n",
       "        vertical-align: top;\n",
       "    }\n",
       "\n",
       "    .dataframe thead th {\n",
       "        text-align: right;\n",
       "    }\n",
       "</style>\n",
       "<table border=\"1\" class=\"dataframe\">\n",
       "  <thead>\n",
       "    <tr style=\"text-align: right;\">\n",
       "      <th></th>\n",
       "      <th>sample_date</th>\n",
       "      <th>new_cases</th>\n",
       "      <th>country_code</th>\n",
       "    </tr>\n",
       "  </thead>\n",
       "  <tbody>\n",
       "    <tr>\n",
       "      <th>32415</th>\n",
       "      <td>2020-12-17</td>\n",
       "      <td>1590.0</td>\n",
       "      <td>MD</td>\n",
       "    </tr>\n",
       "    <tr>\n",
       "      <th>32130</th>\n",
       "      <td>2020-12-17</td>\n",
       "      <td>11799.0</td>\n",
       "      <td>MX</td>\n",
       "    </tr>\n",
       "    <tr>\n",
       "      <th>3825</th>\n",
       "      <td>2020-12-17</td>\n",
       "      <td>143.0</td>\n",
       "      <td>BH</td>\n",
       "    </tr>\n",
       "    <tr>\n",
       "      <th>35319</th>\n",
       "      <td>2020-12-17</td>\n",
       "      <td>10.0</td>\n",
       "      <td>NZ</td>\n",
       "    </tr>\n",
       "    <tr>\n",
       "      <th>54742</th>\n",
       "      <td>2020-12-17</td>\n",
       "      <td>117.0</td>\n",
       "      <td>ZW</td>\n",
       "    </tr>\n",
       "  </tbody>\n",
       "</table>\n",
       "</div>"
      ],
      "text/plain": [
       "      sample_date  new_cases country_code\n",
       "32415  2020-12-17     1590.0           MD\n",
       "32130  2020-12-17    11799.0           MX\n",
       "3825   2020-12-17      143.0           BH\n",
       "35319  2020-12-17       10.0           NZ\n",
       "54742  2020-12-17      117.0           ZW"
      ]
     },
     "execution_count": 9,
     "metadata": {},
     "output_type": "execute_result"
    }
   ],
   "source": [
    "confirmed_df = confirmed_df_.copy()\n",
    "confirmed_df = confirmed_df[[\"date\", \"new_cases\", \"iso_code\"]]\n",
    "confirmed_df.rename(\n",
    "    columns={\n",
    "        \"date\": \"sample_date\",\n",
    "        \"iso_code\": \"country_code\",\n",
    "    },\n",
    "    inplace=True)\n",
    "\n",
    "def convert_iso_alpha_3_to_alpha_2(x):\n",
    "    try:\n",
    "        return pycountry.countries.get(alpha_3=x).alpha_2\n",
    "    except Exception as e:\n",
    "        logging.info(f\"Error converting country ISO Alpha 3 code '{x}': {repr(e)}\")\n",
    "        return None\n",
    "\n",
    "confirmed_df[\"country_code\"] = confirmed_df.country_code.apply(convert_iso_alpha_3_to_alpha_2)\n",
    "confirmed_df.dropna(inplace=True)\n",
    "confirmed_df[\"sample_date\"] = pd.to_datetime(confirmed_df.sample_date, dayfirst=True)\n",
    "confirmed_df[\"sample_date\"] = confirmed_df.sample_date.dt.strftime(\"%Y-%m-%d\")\n",
    "confirmed_df.sort_values(\"sample_date\", inplace=True)\n",
    "confirmed_df.tail()"
   ]
  },
  {
   "cell_type": "code",
   "execution_count": 10,
   "metadata": {
    "collapsed": false,
    "execution": {
     "iopub.execute_input": "2020-12-18T23:27:53.199229Z",
     "iopub.status.busy": "2020-12-18T23:27:53.198022Z",
     "iopub.status.idle": "2020-12-18T23:27:53.204346Z",
     "shell.execute_reply": "2020-12-18T23:27:53.203773Z"
    },
    "papermill": {
     "duration": 0.054891,
     "end_time": "2020-12-18T23:27:53.204475",
     "exception": false,
     "start_time": "2020-12-18T23:27:53.149584",
     "status": "completed"
    },
    "pycharm": {
     "name": "#%%\n"
    },
    "tags": []
   },
   "outputs": [],
   "source": [
    "def sort_source_regions_for_display(source_regions: list) -> list:\n",
    "    if report_backend_identifier in source_regions:\n",
    "        source_regions = [report_backend_identifier] + \\\n",
    "            list(sorted(set(source_regions).difference([report_backend_identifier])))\n",
    "    else:\n",
    "        source_regions = list(sorted(source_regions))\n",
    "    return source_regions"
   ]
  },
  {
   "cell_type": "code",
   "execution_count": 11,
   "metadata": {
    "collapsed": false,
    "execution": {
     "iopub.execute_input": "2020-12-18T23:27:53.296466Z",
     "iopub.status.busy": "2020-12-18T23:27:53.294905Z",
     "iopub.status.idle": "2020-12-18T23:27:53.298572Z",
     "shell.execute_reply": "2020-12-18T23:27:53.298150Z"
    },
    "papermill": {
     "duration": 0.055375,
     "end_time": "2020-12-18T23:27:53.298692",
     "exception": false,
     "start_time": "2020-12-18T23:27:53.243317",
     "status": "completed"
    },
    "pycharm": {
     "name": "#%%\n"
    },
    "tags": []
   },
   "outputs": [
    {
     "data": {
      "text/plain": [
       "['ES', 'DE', 'DK', 'HR', 'IE', 'IT', 'LV', 'NL', 'PL']"
      ]
     },
     "execution_count": 11,
     "metadata": {},
     "output_type": "execute_result"
    }
   ],
   "source": [
    "report_source_regions = report_backend_client.source_regions_for_date(\n",
    "    date=extraction_datetime.date())\n",
    "report_source_regions = sort_source_regions_for_display(\n",
    "    source_regions=report_source_regions)\n",
    "report_source_regions"
   ]
  },
  {
   "cell_type": "code",
   "execution_count": 12,
   "metadata": {
    "collapsed": false,
    "execution": {
     "iopub.execute_input": "2020-12-18T23:27:53.508287Z",
     "iopub.status.busy": "2020-12-18T23:27:53.507756Z",
     "iopub.status.idle": "2020-12-18T23:27:53.512651Z",
     "shell.execute_reply": "2020-12-18T23:27:53.512200Z"
    },
    "papermill": {
     "duration": 0.114786,
     "end_time": "2020-12-18T23:27:53.512771",
     "exception": false,
     "start_time": "2020-12-18T23:27:53.397985",
     "status": "completed"
    },
    "pycharm": {
     "name": "#%%\n"
    },
    "tags": []
   },
   "outputs": [
    {
     "data": {
      "text/html": [
       "<div>\n",
       "<style scoped>\n",
       "    .dataframe tbody tr th:only-of-type {\n",
       "        vertical-align: middle;\n",
       "    }\n",
       "\n",
       "    .dataframe tbody tr th {\n",
       "        vertical-align: top;\n",
       "    }\n",
       "\n",
       "    .dataframe thead th {\n",
       "        text-align: right;\n",
       "    }\n",
       "</style>\n",
       "<table border=\"1\" class=\"dataframe\">\n",
       "  <thead>\n",
       "    <tr style=\"text-align: right;\">\n",
       "      <th></th>\n",
       "      <th>sample_date</th>\n",
       "      <th>sample_date_string</th>\n",
       "    </tr>\n",
       "  </thead>\n",
       "  <tbody>\n",
       "    <tr>\n",
       "      <th>326</th>\n",
       "      <td>2020-12-14</td>\n",
       "      <td>2020-12-14</td>\n",
       "    </tr>\n",
       "    <tr>\n",
       "      <th>327</th>\n",
       "      <td>2020-12-15</td>\n",
       "      <td>2020-12-15</td>\n",
       "    </tr>\n",
       "    <tr>\n",
       "      <th>328</th>\n",
       "      <td>2020-12-16</td>\n",
       "      <td>2020-12-16</td>\n",
       "    </tr>\n",
       "    <tr>\n",
       "      <th>329</th>\n",
       "      <td>2020-12-17</td>\n",
       "      <td>2020-12-17</td>\n",
       "    </tr>\n",
       "    <tr>\n",
       "      <th>330</th>\n",
       "      <td>2020-12-18</td>\n",
       "      <td>2020-12-18</td>\n",
       "    </tr>\n",
       "  </tbody>\n",
       "</table>\n",
       "</div>"
      ],
      "text/plain": [
       "    sample_date sample_date_string\n",
       "326  2020-12-14         2020-12-14\n",
       "327  2020-12-15         2020-12-15\n",
       "328  2020-12-16         2020-12-16\n",
       "329  2020-12-17         2020-12-17\n",
       "330  2020-12-18         2020-12-18"
      ]
     },
     "execution_count": 12,
     "metadata": {},
     "output_type": "execute_result"
    }
   ],
   "source": [
    "confirmed_days = pd.date_range(\n",
    "    start=confirmed_df.iloc[0].sample_date,\n",
    "    end=extraction_datetime)\n",
    "confirmed_days_df = pd.DataFrame(data=confirmed_days, columns=[\"sample_date\"])\n",
    "confirmed_days_df[\"sample_date_string\"] = \\\n",
    "    confirmed_days_df.sample_date.dt.strftime(\"%Y-%m-%d\")\n",
    "confirmed_days_df.tail()"
   ]
  },
  {
   "cell_type": "code",
   "execution_count": 13,
   "metadata": {
    "collapsed": false,
    "execution": {
     "iopub.execute_input": "2020-12-18T23:27:53.660369Z",
     "iopub.status.busy": "2020-12-18T23:27:53.659814Z",
     "iopub.status.idle": "2020-12-18T23:27:53.671990Z",
     "shell.execute_reply": "2020-12-18T23:27:53.671534Z"
    },
    "papermill": {
     "duration": 0.069884,
     "end_time": "2020-12-18T23:27:53.672126",
     "exception": false,
     "start_time": "2020-12-18T23:27:53.602242",
     "status": "completed"
    },
    "pycharm": {
     "name": "#%%\n"
    },
    "tags": []
   },
   "outputs": [
    {
     "data": {
      "text/html": [
       "<div>\n",
       "<style scoped>\n",
       "    .dataframe tbody tr th:only-of-type {\n",
       "        vertical-align: middle;\n",
       "    }\n",
       "\n",
       "    .dataframe tbody tr th {\n",
       "        vertical-align: top;\n",
       "    }\n",
       "\n",
       "    .dataframe thead th {\n",
       "        text-align: right;\n",
       "    }\n",
       "</style>\n",
       "<table border=\"1\" class=\"dataframe\">\n",
       "  <thead>\n",
       "    <tr style=\"text-align: right;\">\n",
       "      <th></th>\n",
       "      <th>sample_date</th>\n",
       "      <th>sample_date_string</th>\n",
       "      <th>source_regions_at_date</th>\n",
       "      <th>_source_regions_group</th>\n",
       "    </tr>\n",
       "  </thead>\n",
       "  <tbody>\n",
       "    <tr>\n",
       "      <th>326</th>\n",
       "      <td>2020-12-14</td>\n",
       "      <td>2020-12-14</td>\n",
       "      <td>{DK, DE, IE, LV, IT, PL, ES, NL, HR}</td>\n",
       "      <td>ES,DE,DK,HR,IE,IT,LV,NL,PL</td>\n",
       "    </tr>\n",
       "    <tr>\n",
       "      <th>327</th>\n",
       "      <td>2020-12-15</td>\n",
       "      <td>2020-12-15</td>\n",
       "      <td>{DK, DE, IE, LV, IT, PL, ES, NL, HR}</td>\n",
       "      <td>ES,DE,DK,HR,IE,IT,LV,NL,PL</td>\n",
       "    </tr>\n",
       "    <tr>\n",
       "      <th>328</th>\n",
       "      <td>2020-12-16</td>\n",
       "      <td>2020-12-16</td>\n",
       "      <td>{DK, DE, IE, LV, IT, PL, ES, NL, HR}</td>\n",
       "      <td>ES,DE,DK,HR,IE,IT,LV,NL,PL</td>\n",
       "    </tr>\n",
       "    <tr>\n",
       "      <th>329</th>\n",
       "      <td>2020-12-17</td>\n",
       "      <td>2020-12-17</td>\n",
       "      <td>{DK, DE, IE, LV, IT, PL, ES, NL, HR}</td>\n",
       "      <td>ES,DE,DK,HR,IE,IT,LV,NL,PL</td>\n",
       "    </tr>\n",
       "    <tr>\n",
       "      <th>330</th>\n",
       "      <td>2020-12-18</td>\n",
       "      <td>2020-12-18</td>\n",
       "      <td>{DK, DE, IE, LV, IT, PL, ES, NL, HR}</td>\n",
       "      <td>ES,DE,DK,HR,IE,IT,LV,NL,PL</td>\n",
       "    </tr>\n",
       "  </tbody>\n",
       "</table>\n",
       "</div>"
      ],
      "text/plain": [
       "    sample_date sample_date_string                source_regions_at_date  \\\n",
       "326  2020-12-14         2020-12-14  {DK, DE, IE, LV, IT, PL, ES, NL, HR}   \n",
       "327  2020-12-15         2020-12-15  {DK, DE, IE, LV, IT, PL, ES, NL, HR}   \n",
       "328  2020-12-16         2020-12-16  {DK, DE, IE, LV, IT, PL, ES, NL, HR}   \n",
       "329  2020-12-17         2020-12-17  {DK, DE, IE, LV, IT, PL, ES, NL, HR}   \n",
       "330  2020-12-18         2020-12-18  {DK, DE, IE, LV, IT, PL, ES, NL, HR}   \n",
       "\n",
       "          _source_regions_group  \n",
       "326  ES,DE,DK,HR,IE,IT,LV,NL,PL  \n",
       "327  ES,DE,DK,HR,IE,IT,LV,NL,PL  \n",
       "328  ES,DE,DK,HR,IE,IT,LV,NL,PL  \n",
       "329  ES,DE,DK,HR,IE,IT,LV,NL,PL  \n",
       "330  ES,DE,DK,HR,IE,IT,LV,NL,PL  "
      ]
     },
     "execution_count": 13,
     "metadata": {},
     "output_type": "execute_result"
    }
   ],
   "source": [
    "source_regions_at_date_df = confirmed_days_df.copy()\n",
    "source_regions_at_date_df[\"source_regions_at_date\"] = \\\n",
    "    source_regions_at_date_df.sample_date.apply(\n",
    "        lambda x: report_backend_client.source_regions_for_date(date=x))\n",
    "source_regions_at_date_df.sort_values(\"sample_date\", inplace=True)\n",
    "source_regions_at_date_df[\"_source_regions_group\"] = source_regions_at_date_df. \\\n",
    "    source_regions_at_date.apply(lambda x: \",\".join(sort_source_regions_for_display(x)))\n",
    "source_regions_at_date_df.tail()"
   ]
  },
  {
   "cell_type": "code",
   "execution_count": 14,
   "metadata": {
    "collapsed": false,
    "execution": {
     "iopub.execute_input": "2020-12-18T23:27:53.794781Z",
     "iopub.status.busy": "2020-12-18T23:27:53.794228Z",
     "iopub.status.idle": "2020-12-18T23:27:53.802048Z",
     "shell.execute_reply": "2020-12-18T23:27:53.802570Z"
    },
    "papermill": {
     "duration": 0.078762,
     "end_time": "2020-12-18T23:27:53.802724",
     "exception": false,
     "start_time": "2020-12-18T23:27:53.723962",
     "status": "completed"
    },
    "pycharm": {
     "name": "#%%\n"
    },
    "tags": []
   },
   "outputs": [
    {
     "data": {
      "text/html": [
       "<div>\n",
       "<style scoped>\n",
       "    .dataframe tbody tr th:only-of-type {\n",
       "        vertical-align: middle;\n",
       "    }\n",
       "\n",
       "    .dataframe tbody tr th {\n",
       "        vertical-align: top;\n",
       "    }\n",
       "\n",
       "    .dataframe thead th {\n",
       "        text-align: right;\n",
       "    }\n",
       "</style>\n",
       "<table border=\"1\" class=\"dataframe\">\n",
       "  <thead>\n",
       "    <tr style=\"text-align: right;\">\n",
       "      <th></th>\n",
       "      <th>sample_date</th>\n",
       "      <th>source_regions</th>\n",
       "    </tr>\n",
       "  </thead>\n",
       "  <tbody>\n",
       "    <tr>\n",
       "      <th>326</th>\n",
       "      <td>2020-12-14</td>\n",
       "      <td>ES,DE,DK,HR,IE,IT,LV,NL,PL</td>\n",
       "    </tr>\n",
       "    <tr>\n",
       "      <th>327</th>\n",
       "      <td>2020-12-15</td>\n",
       "      <td>ES,DE,DK,HR,IE,IT,LV,NL,PL</td>\n",
       "    </tr>\n",
       "    <tr>\n",
       "      <th>328</th>\n",
       "      <td>2020-12-16</td>\n",
       "      <td>ES,DE,DK,HR,IE,IT,LV,NL,PL</td>\n",
       "    </tr>\n",
       "    <tr>\n",
       "      <th>329</th>\n",
       "      <td>2020-12-17</td>\n",
       "      <td>ES,DE,DK,HR,IE,IT,LV,NL,PL</td>\n",
       "    </tr>\n",
       "    <tr>\n",
       "      <th>330</th>\n",
       "      <td>2020-12-18</td>\n",
       "      <td>ES,DE,DK,HR,IE,IT,LV,NL,PL</td>\n",
       "    </tr>\n",
       "  </tbody>\n",
       "</table>\n",
       "</div>"
      ],
      "text/plain": [
       "    sample_date              source_regions\n",
       "326  2020-12-14  ES,DE,DK,HR,IE,IT,LV,NL,PL\n",
       "327  2020-12-15  ES,DE,DK,HR,IE,IT,LV,NL,PL\n",
       "328  2020-12-16  ES,DE,DK,HR,IE,IT,LV,NL,PL\n",
       "329  2020-12-17  ES,DE,DK,HR,IE,IT,LV,NL,PL\n",
       "330  2020-12-18  ES,DE,DK,HR,IE,IT,LV,NL,PL"
      ]
     },
     "execution_count": 14,
     "metadata": {},
     "output_type": "execute_result"
    }
   ],
   "source": [
    "source_regions_for_summary_df = \\\n",
    "    source_regions_at_date_df[[\"sample_date\", \"_source_regions_group\"]].copy()\n",
    "source_regions_for_summary_df.rename(columns={\"_source_regions_group\": \"source_regions\"}, inplace=True)\n",
    "source_regions_for_summary_df.tail()"
   ]
  },
  {
   "cell_type": "code",
   "execution_count": 15,
   "metadata": {
    "collapsed": false,
    "execution": {
     "iopub.execute_input": "2020-12-18T23:27:53.898965Z",
     "iopub.status.busy": "2020-12-18T23:27:53.898506Z",
     "iopub.status.idle": "2020-12-18T23:27:53.962582Z",
     "shell.execute_reply": "2020-12-18T23:27:53.963361Z"
    },
    "papermill": {
     "duration": 0.112772,
     "end_time": "2020-12-18T23:27:53.963635",
     "exception": false,
     "start_time": "2020-12-18T23:27:53.850863",
     "status": "completed"
    },
    "pycharm": {
     "name": "#%%\n"
    },
    "tags": []
   },
   "outputs": [
    {
     "data": {
      "text/html": [
       "<div>\n",
       "<style scoped>\n",
       "    .dataframe tbody tr th:only-of-type {\n",
       "        vertical-align: middle;\n",
       "    }\n",
       "\n",
       "    .dataframe tbody tr th {\n",
       "        vertical-align: top;\n",
       "    }\n",
       "\n",
       "    .dataframe thead th {\n",
       "        text-align: right;\n",
       "    }\n",
       "</style>\n",
       "<table border=\"1\" class=\"dataframe\">\n",
       "  <thead>\n",
       "    <tr style=\"text-align: right;\">\n",
       "      <th></th>\n",
       "      <th>sample_date</th>\n",
       "      <th>new_cases</th>\n",
       "      <th>covid_cases</th>\n",
       "    </tr>\n",
       "  </thead>\n",
       "  <tbody>\n",
       "    <tr>\n",
       "      <th>281</th>\n",
       "      <td>2020-11-04</td>\n",
       "      <td>87818.0</td>\n",
       "      <td>69023.0</td>\n",
       "    </tr>\n",
       "    <tr>\n",
       "      <th>282</th>\n",
       "      <td>2020-11-05</td>\n",
       "      <td>79901.0</td>\n",
       "      <td>70401.0</td>\n",
       "    </tr>\n",
       "    <tr>\n",
       "      <th>283</th>\n",
       "      <td>2020-11-06</td>\n",
       "      <td>83987.0</td>\n",
       "      <td>71385.0</td>\n",
       "    </tr>\n",
       "    <tr>\n",
       "      <th>284</th>\n",
       "      <td>2020-11-07</td>\n",
       "      <td>54652.0</td>\n",
       "      <td>72560.0</td>\n",
       "    </tr>\n",
       "    <tr>\n",
       "      <th>285</th>\n",
       "      <td>2020-11-08</td>\n",
       "      <td>47878.0</td>\n",
       "      <td>73222.0</td>\n",
       "    </tr>\n",
       "  </tbody>\n",
       "</table>\n",
       "</div>"
      ],
      "text/plain": [
       "    sample_date  new_cases  covid_cases\n",
       "281  2020-11-04    87818.0      69023.0\n",
       "282  2020-11-05    79901.0      70401.0\n",
       "283  2020-11-06    83987.0      71385.0\n",
       "284  2020-11-07    54652.0      72560.0\n",
       "285  2020-11-08    47878.0      73222.0"
      ]
     },
     "execution_count": 15,
     "metadata": {},
     "output_type": "execute_result"
    }
   ],
   "source": [
    "confirmed_output_columns = [\"sample_date\", \"new_cases\", \"covid_cases\"]\n",
    "confirmed_output_df = pd.DataFrame(columns=confirmed_output_columns)\n",
    "\n",
    "for source_regions_group, source_regions_group_series in \\\n",
    "        source_regions_at_date_df.groupby(\"_source_regions_group\"):\n",
    "    source_regions_set = set(source_regions_group.split(\",\"))\n",
    "    confirmed_source_regions_set_df = \\\n",
    "        confirmed_df[confirmed_df.country_code.isin(source_regions_set)].copy()\n",
    "    confirmed_source_regions_group_df = \\\n",
    "        confirmed_source_regions_set_df.groupby(\"sample_date\").new_cases.sum() \\\n",
    "            .reset_index().sort_values(\"sample_date\")\n",
    "    confirmed_source_regions_group_df[\"covid_cases\"] = \\\n",
    "        confirmed_source_regions_group_df.new_cases.rolling(7, min_periods=0).mean().round()\n",
    "    confirmed_source_regions_group_df = \\\n",
    "        confirmed_source_regions_group_df[confirmed_output_columns]\n",
    "    confirmed_source_regions_group_df.fillna(method=\"ffill\", inplace=True)\n",
    "    confirmed_source_regions_group_df = \\\n",
    "        confirmed_source_regions_group_df[\n",
    "            confirmed_source_regions_group_df.sample_date.isin(\n",
    "                source_regions_group_series.sample_date_string)]\n",
    "    confirmed_output_df = confirmed_output_df.append(confirmed_source_regions_group_df)\n",
    "\n",
    "confirmed_df = confirmed_output_df.copy()\n",
    "confirmed_df.tail()"
   ]
  },
  {
   "cell_type": "code",
   "execution_count": 16,
   "metadata": {
    "collapsed": false,
    "execution": {
     "iopub.execute_input": "2020-12-18T23:27:54.050165Z",
     "iopub.status.busy": "2020-12-18T23:27:54.049713Z",
     "iopub.status.idle": "2020-12-18T23:27:54.058941Z",
     "shell.execute_reply": "2020-12-18T23:27:54.059418Z"
    },
    "papermill": {
     "duration": 0.055564,
     "end_time": "2020-12-18T23:27:54.059564",
     "exception": false,
     "start_time": "2020-12-18T23:27:54.004000",
     "status": "completed"
    },
    "pycharm": {
     "name": "#%%\n"
    },
    "tags": []
   },
   "outputs": [
    {
     "data": {
      "text/html": [
       "<div>\n",
       "<style scoped>\n",
       "    .dataframe tbody tr th:only-of-type {\n",
       "        vertical-align: middle;\n",
       "    }\n",
       "\n",
       "    .dataframe tbody tr th {\n",
       "        vertical-align: top;\n",
       "    }\n",
       "\n",
       "    .dataframe thead th {\n",
       "        text-align: right;\n",
       "    }\n",
       "</style>\n",
       "<table border=\"1\" class=\"dataframe\">\n",
       "  <thead>\n",
       "    <tr style=\"text-align: right;\">\n",
       "      <th></th>\n",
       "      <th>sample_date_string</th>\n",
       "      <th>new_cases</th>\n",
       "      <th>covid_cases</th>\n",
       "    </tr>\n",
       "  </thead>\n",
       "  <tbody>\n",
       "    <tr>\n",
       "      <th>326</th>\n",
       "      <td>2020-12-14</td>\n",
       "      <td>58482.0</td>\n",
       "      <td>71851.0</td>\n",
       "    </tr>\n",
       "    <tr>\n",
       "      <th>327</th>\n",
       "      <td>2020-12-15</td>\n",
       "      <td>78850.0</td>\n",
       "      <td>73941.0</td>\n",
       "    </tr>\n",
       "    <tr>\n",
       "      <th>328</th>\n",
       "      <td>2020-12-16</td>\n",
       "      <td>93581.0</td>\n",
       "      <td>76675.0</td>\n",
       "    </tr>\n",
       "    <tr>\n",
       "      <th>329</th>\n",
       "      <td>2020-12-17</td>\n",
       "      <td>94842.0</td>\n",
       "      <td>77479.0</td>\n",
       "    </tr>\n",
       "    <tr>\n",
       "      <th>330</th>\n",
       "      <td>2020-12-18</td>\n",
       "      <td>94842.0</td>\n",
       "      <td>77479.0</td>\n",
       "    </tr>\n",
       "  </tbody>\n",
       "</table>\n",
       "</div>"
      ],
      "text/plain": [
       "    sample_date_string  new_cases  covid_cases\n",
       "326         2020-12-14    58482.0      71851.0\n",
       "327         2020-12-15    78850.0      73941.0\n",
       "328         2020-12-16    93581.0      76675.0\n",
       "329         2020-12-17    94842.0      77479.0\n",
       "330         2020-12-18    94842.0      77479.0"
      ]
     },
     "execution_count": 16,
     "metadata": {},
     "output_type": "execute_result"
    }
   ],
   "source": [
    "confirmed_df.rename(columns={\"sample_date\": \"sample_date_string\"}, inplace=True)\n",
    "confirmed_df = confirmed_days_df[[\"sample_date_string\"]].merge(confirmed_df, how=\"left\")\n",
    "confirmed_df.sort_values(\"sample_date_string\", inplace=True)\n",
    "confirmed_df.fillna(method=\"ffill\", inplace=True)\n",
    "confirmed_df.tail()"
   ]
  },
  {
   "cell_type": "code",
   "execution_count": 17,
   "metadata": {
    "collapsed": false,
    "execution": {
     "iopub.execute_input": "2020-12-18T23:27:54.161622Z",
     "iopub.status.busy": "2020-12-18T23:27:54.161117Z",
     "iopub.status.idle": "2020-12-18T23:27:54.345329Z",
     "shell.execute_reply": "2020-12-18T23:27:54.344951Z"
    },
    "papermill": {
     "duration": 0.247539,
     "end_time": "2020-12-18T23:27:54.345442",
     "exception": false,
     "start_time": "2020-12-18T23:27:54.097903",
     "status": "completed"
    },
    "pycharm": {
     "name": "#%%\n"
    },
    "tags": []
   },
   "outputs": [
    {
     "data": {
      "text/plain": [
       "<AxesSubplot:>"
      ]
     },
     "execution_count": 17,
     "metadata": {},
     "output_type": "execute_result"
    },
    {
     "data": {
      "image/png": "[encoded data removed]",
      "text/plain": [
       "<Figure size 1080x432 with 1 Axes>"
      ]
     },
     "metadata": {},
     "output_type": "display_data"
    }
   ],
   "source": [
    "confirmed_df[[\"new_cases\", \"covid_cases\"]].plot()"
   ]
  },
  {
   "cell_type": "markdown",
   "metadata": {
    "execution": {
     "iopub.execute_input": "2020-08-30T22:30:16.351238Z",
     "iopub.status.busy": "2020-08-30T22:30:16.344579Z",
     "iopub.status.idle": "2020-08-30T22:30:16.354285Z",
     "shell.execute_reply": "2020-08-30T22:30:16.353641Z"
    },
    "papermill": {
     "duration": 0.03978,
     "end_time": "2020-12-18T23:27:54.424828",
     "exception": false,
     "start_time": "2020-12-18T23:27:54.385048",
     "status": "completed"
    },
    "pycharm": {
     "name": "#%% md\n"
    },
    "tags": []
   },
   "source": [
    "### Extract API TEKs"
   ]
  },
  {
   "cell_type": "code",
   "execution_count": 18,
   "metadata": {
    "execution": {
     "iopub.execute_input": "2020-12-18T23:27:54.509989Z",
     "iopub.status.busy": "2020-12-18T23:27:54.508437Z",
     "iopub.status.idle": "2020-12-18T23:28:59.650701Z",
     "shell.execute_reply": "2020-12-18T23:28:59.650066Z"
    },
    "papermill": {
     "duration": 65.187801,
     "end_time": "2020-12-18T23:28:59.650854",
     "exception": false,
     "start_time": "2020-12-18T23:27:54.463053",
     "status": "completed"
    },
    "pycharm": {
     "name": "#%%\n"
    },
    "tags": []
   },
   "outputs": [
    {
     "name": "stderr",
     "output_type": "stream",
     "text": [
      "WARNING:root:NoKeysFoundException(\"No exposure keys found on endpoint 'https://stayaway.incm.pt/v1/gaen/exposed/1608249600000' (parameters: {'generation_date': '2020-12-18', 'endpoint_identifier_components': ['2020-12-18'], 'backend_identifier': 'PT', 'server_endpoint_url': 'https://stayaway.incm.pt'}).\")\n"
     ]
    },
    {
     "name": "stderr",
     "output_type": "stream",
     "text": [
      "WARNING:root:NoKeysFoundException(\"No exposure keys found on endpoint 'https://enapi.sm.ee/authorization/v1/gaen/exposed/1608249600000' (parameters: {'generation_date': '2020-12-18', 'endpoint_identifier_components': ['2020-12-18'], 'backend_identifier': 'EE', 'server_endpoint_url': 'https://enapi.sm.ee/authorization'}).\")\n"
     ]
    },
    {
     "name": "stderr",
     "output_type": "stream",
     "text": [
      "WARNING:root:NoKeysFoundException(\"No exposure keys found on endpoint 'https://mt-dpppt-ws.azurewebsites.net/v1/gaen/exposed/1608249600000' (parameters: {'generation_date': '2020-12-18', 'endpoint_identifier_components': ['2020-12-18'], 'backend_identifier': 'MT', 'server_endpoint_url': 'https://mt-dpppt-ws.azurewebsites.net'}).\")\n"
     ]
    },
    {
     "data": {
      "text/html": [
       "<div>\n",
       "<style scoped>\n",
       "    .dataframe tbody tr th:only-of-type {\n",
       "        vertical-align: middle;\n",
       "    }\n",
       "\n",
       "    .dataframe tbody tr th {\n",
       "        vertical-align: top;\n",
       "    }\n",
       "\n",
       "    .dataframe thead th {\n",
       "        text-align: right;\n",
       "    }\n",
       "</style>\n",
       "<table border=\"1\" class=\"dataframe\">\n",
       "  <thead>\n",
       "    <tr style=\"text-align: right;\">\n",
       "      <th></th>\n",
       "      <th>sample_datetime</th>\n",
       "      <th>sample_date_string</th>\n",
       "      <th>region</th>\n",
       "      <th>verification_key_version</th>\n",
       "      <th>verification_key_id</th>\n",
       "      <th>signature_algorithm</th>\n",
       "      <th>key_data</th>\n",
       "      <th>rolling_start_interval_number</th>\n",
       "      <th>rolling_period</th>\n",
       "      <th>transmission_risk_level</th>\n",
       "      <th>backend_identifier</th>\n",
       "    </tr>\n",
       "  </thead>\n",
       "  <tbody>\n",
       "    <tr>\n",
       "      <th>0</th>\n",
       "      <td>2020-12-18 00:00:00</td>\n",
       "      <td>2020-12-18</td>\n",
       "      <td>ES</td>\n",
       "      <td>V1</td>\n",
       "      <td>214</td>\n",
       "      <td>1.2.840.10045.4.3.2</td>\n",
       "      <td>5f28a0ac-ce40-4739-2301-c4e96afebede</td>\n",
       "      <td>2680416</td>\n",
       "      <td>59</td>\n",
       "      <td>0</td>\n",
       "      <td>ES</td>\n",
       "    </tr>\n",
       "    <tr>\n",
       "      <th>1</th>\n",
       "      <td>2020-12-18 00:00:00</td>\n",
       "      <td>2020-12-18</td>\n",
       "      <td>ES</td>\n",
       "      <td>V1</td>\n",
       "      <td>214</td>\n",
       "      <td>1.2.840.10045.4.3.2</td>\n",
       "      <td>38fc0457-207c-5361-c25d-c46591451e24</td>\n",
       "      <td>2680416</td>\n",
       "      <td>65</td>\n",
       "      <td>0</td>\n",
       "      <td>ES</td>\n",
       "    </tr>\n",
       "    <tr>\n",
       "      <th>2</th>\n",
       "      <td>2020-12-18 00:00:00</td>\n",
       "      <td>2020-12-18</td>\n",
       "      <td>ES</td>\n",
       "      <td>V1</td>\n",
       "      <td>214</td>\n",
       "      <td>1.2.840.10045.4.3.2</td>\n",
       "      <td>73d663a6-b999-c7b4-833e-9529fcd5a0f7</td>\n",
       "      <td>2680416</td>\n",
       "      <td>113</td>\n",
       "      <td>0</td>\n",
       "      <td>ES</td>\n",
       "    </tr>\n",
       "    <tr>\n",
       "      <th>3</th>\n",
       "      <td>2020-12-18 03:20:00</td>\n",
       "      <td>2020-12-18</td>\n",
       "      <td>ES</td>\n",
       "      <td>V1</td>\n",
       "      <td>214</td>\n",
       "      <td>1.2.840.10045.4.3.2</td>\n",
       "      <td>6a78c1c9-ca22-7c63-2dc6-18ca3c369c06</td>\n",
       "      <td>2680436</td>\n",
       "      <td>76</td>\n",
       "      <td>5</td>\n",
       "      <td>ES</td>\n",
       "    </tr>\n",
       "    <tr>\n",
       "      <th>4</th>\n",
       "      <td>2020-12-18 00:00:00</td>\n",
       "      <td>2020-12-18</td>\n",
       "      <td>ES</td>\n",
       "      <td>V1</td>\n",
       "      <td>214</td>\n",
       "      <td>1.2.840.10045.4.3.2</td>\n",
       "      <td>282a8179-3382-8619-3b85-d81d881bc762</td>\n",
       "      <td>2680416</td>\n",
       "      <td>58</td>\n",
       "      <td>0</td>\n",
       "      <td>ES</td>\n",
       "    </tr>\n",
       "  </tbody>\n",
       "</table>\n",
       "</div>"
      ],
      "text/plain": [
       "      sample_datetime sample_date_string region verification_key_version  \\\n",
       "0 2020-12-18 00:00:00         2020-12-18     ES                       V1   \n",
       "1 2020-12-18 00:00:00         2020-12-18     ES                       V1   \n",
       "2 2020-12-18 00:00:00         2020-12-18     ES                       V1   \n",
       "3 2020-12-18 03:20:00         2020-12-18     ES                       V1   \n",
       "4 2020-12-18 00:00:00         2020-12-18     ES                       V1   \n",
       "\n",
       "  verification_key_id  signature_algorithm  \\\n",
       "0                 214  1.2.840.10045.4.3.2   \n",
       "1                 214  1.2.840.10045.4.3.2   \n",
       "2                 214  1.2.840.10045.4.3.2   \n",
       "3                 214  1.2.840.10045.4.3.2   \n",
       "4                 214  1.2.840.10045.4.3.2   \n",
       "\n",
       "                               key_data  rolling_start_interval_number  \\\n",
       "0  5f28a0ac-ce40-4739-2301-c4e96afebede                        2680416   \n",
       "1  38fc0457-207c-5361-c25d-c46591451e24                        2680416   \n",
       "2  73d663a6-b999-c7b4-833e-9529fcd5a0f7                        2680416   \n",
       "3  6a78c1c9-ca22-7c63-2dc6-18ca3c369c06                        2680436   \n",
       "4  282a8179-3382-8619-3b85-d81d881bc762                        2680416   \n",
       "\n",
       "   rolling_period  transmission_risk_level backend_identifier  \n",
       "0              59                        0                 ES  \n",
       "1              65                        0                 ES  \n",
       "2             113                        0                 ES  \n",
       "3              76                        5                 ES  \n",
       "4              58                        0                 ES  "
      ]
     },
     "execution_count": 18,
     "metadata": {},
     "output_type": "execute_result"
    }
   ],
   "source": [
    "raw_zip_path_prefix = \"Data/TEKs/Raw/\"\n",
    "fail_on_error_backend_identifiers = [report_backend_identifier]\n",
    "multi_backend_exposure_keys_df = \\\n",
    "    exposure_notification_io.download_exposure_keys_from_backends(\n",
    "        backend_identifiers=report_backend_identifiers,\n",
    "        generation_days=backend_generation_days,\n",
    "        fail_on_error_backend_identifiers=fail_on_error_backend_identifiers,\n",
    "        save_raw_zip_path_prefix=raw_zip_path_prefix)\n",
    "multi_backend_exposure_keys_df[\"region\"] = multi_backend_exposure_keys_df[\"backend_identifier\"]\n",
    "multi_backend_exposure_keys_df.rename(\n",
    "    columns={\n",
    "        \"generation_datetime\": \"sample_datetime\",\n",
    "        \"generation_date_string\": \"sample_date_string\",\n",
    "    },\n",
    "    inplace=True)\n",
    "multi_backend_exposure_keys_df.head()"
   ]
  },
  {
   "cell_type": "code",
   "execution_count": 19,
   "metadata": {
    "collapsed": false,
    "execution": {
     "iopub.execute_input": "2020-12-18T23:28:59.747669Z",
     "iopub.status.busy": "2020-12-18T23:28:59.747087Z",
     "iopub.status.idle": "2020-12-18T23:28:59.995718Z",
     "shell.execute_reply": "2020-12-18T23:28:59.996137Z"
    },
    "papermill": {
     "duration": 0.300327,
     "end_time": "2020-12-18T23:28:59.996309",
     "exception": false,
     "start_time": "2020-12-18T23:28:59.695982",
     "status": "completed"
    },
    "pycharm": {
     "name": "#%%\n"
    },
    "tags": []
   },
   "outputs": [
    {
     "data": {
      "text/plain": [
       "<AxesSubplot:>"
      ]
     },
     "execution_count": 19,
     "metadata": {},
     "output_type": "execute_result"
    },
    {
     "data": {
      "image/png": "[encoded data removed]",
      "text/plain": [
       "<Figure size 1080x432 with 1 Axes>"
      ]
     },
     "metadata": {},
     "output_type": "display_data"
    }
   ],
   "source": [
    "early_teks_df = multi_backend_exposure_keys_df[\n",
    "    multi_backend_exposure_keys_df.rolling_period < 144].copy()\n",
    "early_teks_df[\"rolling_period_in_hours\"] = early_teks_df.rolling_period / 6\n",
    "early_teks_df[early_teks_df.sample_date_string != extraction_date] \\\n",
    "    .rolling_period_in_hours.hist(bins=list(range(24)))"
   ]
  },
  {
   "cell_type": "code",
   "execution_count": 20,
   "metadata": {
    "collapsed": false,
    "execution": {
     "iopub.execute_input": "2020-12-18T23:29:00.113088Z",
     "iopub.status.busy": "2020-12-18T23:29:00.112516Z",
     "iopub.status.idle": "2020-12-18T23:29:00.334448Z",
     "shell.execute_reply": "2020-12-18T23:29:00.334000Z"
    },
    "papermill": {
     "duration": 0.290108,
     "end_time": "2020-12-18T23:29:00.334581",
     "exception": false,
     "start_time": "2020-12-18T23:29:00.044473",
     "status": "completed"
    },
    "pycharm": {
     "name": "#%%\n"
    },
    "tags": []
   },
   "outputs": [
    {
     "data": {
      "text/plain": [
       "<AxesSubplot:>"
      ]
     },
     "execution_count": 20,
     "metadata": {},
     "output_type": "execute_result"
    },
    {
     "data": {
      "image/png": "[encoded data removed]",
      "text/plain": [
       "<Figure size 1080x432 with 1 Axes>"
      ]
     },
     "metadata": {},
     "output_type": "display_data"
    }
   ],
   "source": [
    "early_teks_df[early_teks_df.sample_date_string == extraction_date] \\\n",
    "    .rolling_period_in_hours.hist(bins=list(range(24)))"
   ]
  },
  {
   "cell_type": "code",
   "execution_count": 21,
   "metadata": {
    "collapsed": false,
    "execution": {
     "iopub.execute_input": "2020-12-18T23:29:00.431007Z",
     "iopub.status.busy": "2020-12-18T23:29:00.430459Z",
     "iopub.status.idle": "2020-12-18T23:29:00.470705Z",
     "shell.execute_reply": "2020-12-18T23:29:00.471138Z"
    },
    "papermill": {
     "duration": 0.091057,
     "end_time": "2020-12-18T23:29:00.471300",
     "exception": false,
     "start_time": "2020-12-18T23:29:00.380243",
     "status": "completed"
    },
    "pycharm": {
     "name": "#%%\n"
    },
    "tags": []
   },
   "outputs": [
    {
     "data": {
      "text/html": [
       "<div>\n",
       "<style scoped>\n",
       "    .dataframe tbody tr th:only-of-type {\n",
       "        vertical-align: middle;\n",
       "    }\n",
       "\n",
       "    .dataframe tbody tr th {\n",
       "        vertical-align: top;\n",
       "    }\n",
       "\n",
       "    .dataframe thead th {\n",
       "        text-align: right;\n",
       "    }\n",
       "</style>\n",
       "<table border=\"1\" class=\"dataframe\">\n",
       "  <thead>\n",
       "    <tr style=\"text-align: right;\">\n",
       "      <th></th>\n",
       "      <th>sample_date_string</th>\n",
       "      <th>region</th>\n",
       "      <th>key_data</th>\n",
       "    </tr>\n",
       "  </thead>\n",
       "  <tbody>\n",
       "    <tr>\n",
       "      <th>0</th>\n",
       "      <td>2020-12-18</td>\n",
       "      <td>ES</td>\n",
       "      <td>5f28a0ac-ce40-4739-2301-c4e96afebede</td>\n",
       "    </tr>\n",
       "    <tr>\n",
       "      <th>1</th>\n",
       "      <td>2020-12-18</td>\n",
       "      <td>ES</td>\n",
       "      <td>38fc0457-207c-5361-c25d-c46591451e24</td>\n",
       "    </tr>\n",
       "    <tr>\n",
       "      <th>2</th>\n",
       "      <td>2020-12-18</td>\n",
       "      <td>ES</td>\n",
       "      <td>73d663a6-b999-c7b4-833e-9529fcd5a0f7</td>\n",
       "    </tr>\n",
       "    <tr>\n",
       "      <th>3</th>\n",
       "      <td>2020-12-18</td>\n",
       "      <td>ES</td>\n",
       "      <td>6a78c1c9-ca22-7c63-2dc6-18ca3c369c06</td>\n",
       "    </tr>\n",
       "    <tr>\n",
       "      <th>4</th>\n",
       "      <td>2020-12-18</td>\n",
       "      <td>ES</td>\n",
       "      <td>282a8179-3382-8619-3b85-d81d881bc762</td>\n",
       "    </tr>\n",
       "  </tbody>\n",
       "</table>\n",
       "</div>"
      ],
      "text/plain": [
       "  sample_date_string region                              key_data\n",
       "0         2020-12-18     ES  5f28a0ac-ce40-4739-2301-c4e96afebede\n",
       "1         2020-12-18     ES  38fc0457-207c-5361-c25d-c46591451e24\n",
       "2         2020-12-18     ES  73d663a6-b999-c7b4-833e-9529fcd5a0f7\n",
       "3         2020-12-18     ES  6a78c1c9-ca22-7c63-2dc6-18ca3c369c06\n",
       "4         2020-12-18     ES  282a8179-3382-8619-3b85-d81d881bc762"
      ]
     },
     "execution_count": 21,
     "metadata": {},
     "output_type": "execute_result"
    }
   ],
   "source": [
    "multi_backend_exposure_keys_df = multi_backend_exposure_keys_df[[\n",
    "    \"sample_date_string\", \"region\", \"key_data\"]]\n",
    "multi_backend_exposure_keys_df.head()"
   ]
  },
  {
   "cell_type": "code",
   "execution_count": 22,
   "metadata": {
    "collapsed": false,
    "execution": {
     "iopub.execute_input": "2020-12-18T23:29:00.581066Z",
     "iopub.status.busy": "2020-12-18T23:29:00.580559Z",
     "iopub.status.idle": "2020-12-18T23:29:04.946381Z",
     "shell.execute_reply": "2020-12-18T23:29:04.945593Z"
    },
    "papermill": {
     "duration": 4.427404,
     "end_time": "2020-12-18T23:29:04.946601",
     "exception": false,
     "start_time": "2020-12-18T23:29:00.519197",
     "status": "completed"
    },
    "pycharm": {
     "name": "#%%\n"
    },
    "tags": []
   },
   "outputs": [
    {
     "data": {
      "text/plain": [
       "['PT', 'MT', 'EE', 'CH', 'ES@PRE', 'DE', 'ES']"
      ]
     },
     "execution_count": 22,
     "metadata": {},
     "output_type": "execute_result"
    }
   ],
   "source": [
    "active_regions = \\\n",
    "    multi_backend_exposure_keys_df.groupby(\"region\").key_data.nunique().sort_values().index.unique().tolist()\n",
    "active_regions"
   ]
  },
  {
   "cell_type": "code",
   "execution_count": 23,
   "metadata": {
    "collapsed": false,
    "execution": {
     "iopub.execute_input": "2020-12-18T23:29:05.084610Z",
     "iopub.status.busy": "2020-12-18T23:29:05.083600Z",
     "iopub.status.idle": "2020-12-18T23:29:09.593314Z",
     "shell.execute_reply": "2020-12-18T23:29:09.592570Z"
    },
    "papermill": {
     "duration": 4.599643,
     "end_time": "2020-12-18T23:29:09.593523",
     "exception": false,
     "start_time": "2020-12-18T23:29:04.993880",
     "status": "completed"
    },
    "pycharm": {
     "name": "#%%\n"
    },
    "tags": []
   },
   "outputs": [
    {
     "data": {
      "text/html": [
       "<div>\n",
       "<style scoped>\n",
       "    .dataframe tbody tr th:only-of-type {\n",
       "        vertical-align: middle;\n",
       "    }\n",
       "\n",
       "    .dataframe tbody tr th {\n",
       "        vertical-align: top;\n",
       "    }\n",
       "\n",
       "    .dataframe thead tr th {\n",
       "        text-align: left;\n",
       "    }\n",
       "\n",
       "    .dataframe thead tr:last-of-type th {\n",
       "        text-align: right;\n",
       "    }\n",
       "</style>\n",
       "<table border=\"1\" class=\"dataframe\">\n",
       "  <thead>\n",
       "    <tr>\n",
       "      <th></th>\n",
       "      <th colspan=\"7\" halign=\"left\">shared_teks_by_generation_date</th>\n",
       "    </tr>\n",
       "    <tr>\n",
       "      <th>region</th>\n",
       "      <th>CH</th>\n",
       "      <th>DE</th>\n",
       "      <th>EE</th>\n",
       "      <th>ES</th>\n",
       "      <th>ES@PRE</th>\n",
       "      <th>MT</th>\n",
       "      <th>PT</th>\n",
       "    </tr>\n",
       "    <tr>\n",
       "      <th>sample_date</th>\n",
       "      <th></th>\n",
       "      <th></th>\n",
       "      <th></th>\n",
       "      <th></th>\n",
       "      <th></th>\n",
       "      <th></th>\n",
       "      <th></th>\n",
       "    </tr>\n",
       "  </thead>\n",
       "  <tbody>\n",
       "    <tr>\n",
       "      <th>2020-12-18</th>\n",
       "      <td>525</td>\n",
       "      <td>0</td>\n",
       "      <td>0</td>\n",
       "      <td>355</td>\n",
       "      <td>7</td>\n",
       "      <td>0</td>\n",
       "      <td>0</td>\n",
       "    </tr>\n",
       "    <tr>\n",
       "      <th>2020-12-17</th>\n",
       "      <td>1186</td>\n",
       "      <td>222</td>\n",
       "      <td>70</td>\n",
       "      <td>5160</td>\n",
       "      <td>672</td>\n",
       "      <td>100</td>\n",
       "      <td>24</td>\n",
       "    </tr>\n",
       "    <tr>\n",
       "      <th>2020-12-16</th>\n",
       "      <td>1916</td>\n",
       "      <td>5358</td>\n",
       "      <td>120</td>\n",
       "      <td>10917</td>\n",
       "      <td>1652</td>\n",
       "      <td>100</td>\n",
       "      <td>32</td>\n",
       "    </tr>\n",
       "    <tr>\n",
       "      <th>2020-12-15</th>\n",
       "      <td>2371</td>\n",
       "      <td>9403</td>\n",
       "      <td>146</td>\n",
       "      <td>15550</td>\n",
       "      <td>2558</td>\n",
       "      <td>101</td>\n",
       "      <td>55</td>\n",
       "    </tr>\n",
       "    <tr>\n",
       "      <th>2020-12-14</th>\n",
       "      <td>2729</td>\n",
       "      <td>12112</td>\n",
       "      <td>161</td>\n",
       "      <td>18913</td>\n",
       "      <td>3440</td>\n",
       "      <td>101</td>\n",
       "      <td>65</td>\n",
       "    </tr>\n",
       "  </tbody>\n",
       "</table>\n",
       "</div>"
      ],
      "text/plain": [
       "            shared_teks_by_generation_date                                   \n",
       "region                                  CH     DE   EE     ES ES@PRE   MT  PT\n",
       "sample_date                                                                  \n",
       "2020-12-18                             525      0    0    355      7    0   0\n",
       "2020-12-17                            1186    222   70   5160    672  100  24\n",
       "2020-12-16                            1916   5358  120  10917   1652  100  32\n",
       "2020-12-15                            2371   9403  146  15550   2558  101  55\n",
       "2020-12-14                            2729  12112  161  18913   3440  101  65"
      ]
     },
     "execution_count": 23,
     "metadata": {},
     "output_type": "execute_result"
    }
   ],
   "source": [
    "multi_backend_summary_df = multi_backend_exposure_keys_df.groupby(\n",
    "    [\"sample_date_string\", \"region\"]).key_data.nunique().reset_index() \\\n",
    "    .pivot(index=\"sample_date_string\", columns=\"region\") \\\n",
    "    .sort_index(ascending=False)\n",
    "multi_backend_summary_df.rename(\n",
    "    columns={\"key_data\": \"shared_teks_by_generation_date\"},\n",
    "    inplace=True)\n",
    "multi_backend_summary_df.rename_axis(\"sample_date\", inplace=True)\n",
    "multi_backend_summary_df = multi_backend_summary_df.fillna(0).astype(int)\n",
    "multi_backend_summary_df = multi_backend_summary_df.head(backend_generation_days)\n",
    "multi_backend_summary_df.head()"
   ]
  },
  {
   "cell_type": "code",
   "execution_count": 24,
   "metadata": {
    "collapsed": false,
    "execution": {
     "iopub.execute_input": "2020-12-18T23:29:09.698862Z",
     "iopub.status.busy": "2020-12-18T23:29:09.698176Z",
     "iopub.status.idle": "2020-12-18T23:29:13.647775Z",
     "shell.execute_reply": "2020-12-18T23:29:13.648159Z"
    },
    "papermill": {
     "duration": 4.006908,
     "end_time": "2020-12-18T23:29:13.648316",
     "exception": false,
     "start_time": "2020-12-18T23:29:09.641408",
     "status": "completed"
    },
    "pycharm": {
     "name": "#%%\n"
    },
    "tags": []
   },
   "outputs": [
    {
     "name": "stderr",
     "output_type": "stream",
     "text": [
      "<ipython-input-24-4e21708c19d8>:2: FutureWarning: `item` has been deprecated and will be removed in a future version\n",
      "  teks_x = x.key_data_x.item()\n",
      "<ipython-input-24-4e21708c19d8>:3: FutureWarning: `item` has been deprecated and will be removed in a future version\n",
      "  common_teks = set(teks_x).intersection(x.key_data_y.item())\n"
     ]
    },
    {
     "name": "stderr",
     "output_type": "stream",
     "text": [
      "<ipython-input-24-4e21708c19d8>:33: FutureWarning: `item` has been deprecated and will be removed in a future version\n",
      "  aggfunc=lambda x: x.item())\n"
     ]
    },
    {
     "data": {
      "text/html": [
       "<div>\n",
       "<style scoped>\n",
       "    .dataframe tbody tr th:only-of-type {\n",
       "        vertical-align: middle;\n",
       "    }\n",
       "\n",
       "    .dataframe tbody tr th {\n",
       "        vertical-align: top;\n",
       "    }\n",
       "\n",
       "    .dataframe thead tr th {\n",
       "        text-align: left;\n",
       "    }\n",
       "\n",
       "    .dataframe thead tr:last-of-type th {\n",
       "        text-align: right;\n",
       "    }\n",
       "</style>\n",
       "<table border=\"1\" class=\"dataframe\">\n",
       "  <thead>\n",
       "    <tr>\n",
       "      <th></th>\n",
       "      <th colspan=\"7\" halign=\"left\">common_teks_fraction</th>\n",
       "    </tr>\n",
       "    <tr>\n",
       "      <th>region_x</th>\n",
       "      <th>CH</th>\n",
       "      <th>DE</th>\n",
       "      <th>EE</th>\n",
       "      <th>ES</th>\n",
       "      <th>ES@PRE</th>\n",
       "      <th>MT</th>\n",
       "      <th>PT</th>\n",
       "    </tr>\n",
       "    <tr>\n",
       "      <th>region_y</th>\n",
       "      <th></th>\n",
       "      <th></th>\n",
       "      <th></th>\n",
       "      <th></th>\n",
       "      <th></th>\n",
       "      <th></th>\n",
       "      <th></th>\n",
       "    </tr>\n",
       "  </thead>\n",
       "  <tbody>\n",
       "    <tr>\n",
       "      <th>CH</th>\n",
       "      <td>NaN</td>\n",
       "      <td>0.000040</td>\n",
       "      <td>0.0</td>\n",
       "      <td>0.000027</td>\n",
       "      <td>0.000000</td>\n",
       "      <td>0.0</td>\n",
       "      <td>0.0</td>\n",
       "    </tr>\n",
       "    <tr>\n",
       "      <th>DE</th>\n",
       "      <td>0.000248</td>\n",
       "      <td>NaN</td>\n",
       "      <td>0.0</td>\n",
       "      <td>0.629345</td>\n",
       "      <td>0.000000</td>\n",
       "      <td>0.0</td>\n",
       "      <td>0.0</td>\n",
       "    </tr>\n",
       "    <tr>\n",
       "      <th>EE</th>\n",
       "      <td>0.000000</td>\n",
       "      <td>0.000000</td>\n",
       "      <td>NaN</td>\n",
       "      <td>0.000000</td>\n",
       "      <td>0.000000</td>\n",
       "      <td>0.0</td>\n",
       "      <td>0.0</td>\n",
       "    </tr>\n",
       "    <tr>\n",
       "      <th>ES</th>\n",
       "      <td>0.000248</td>\n",
       "      <td>0.936042</td>\n",
       "      <td>0.0</td>\n",
       "      <td>NaN</td>\n",
       "      <td>0.000209</td>\n",
       "      <td>0.0</td>\n",
       "      <td>0.0</td>\n",
       "    </tr>\n",
       "    <tr>\n",
       "      <th>ES@PRE</th>\n",
       "      <td>0.000000</td>\n",
       "      <td>0.000000</td>\n",
       "      <td>0.0</td>\n",
       "      <td>0.000068</td>\n",
       "      <td>NaN</td>\n",
       "      <td>0.0</td>\n",
       "      <td>0.0</td>\n",
       "    </tr>\n",
       "    <tr>\n",
       "      <th>MT</th>\n",
       "      <td>0.000000</td>\n",
       "      <td>0.000000</td>\n",
       "      <td>0.0</td>\n",
       "      <td>0.000000</td>\n",
       "      <td>0.000000</td>\n",
       "      <td>NaN</td>\n",
       "      <td>0.0</td>\n",
       "    </tr>\n",
       "    <tr>\n",
       "      <th>PT</th>\n",
       "      <td>0.000000</td>\n",
       "      <td>0.000000</td>\n",
       "      <td>0.0</td>\n",
       "      <td>0.000000</td>\n",
       "      <td>0.000000</td>\n",
       "      <td>0.0</td>\n",
       "      <td>NaN</td>\n",
       "    </tr>\n",
       "  </tbody>\n",
       "</table>\n",
       "</div>"
      ],
      "text/plain": [
       "         common_teks_fraction                                             \n",
       "region_x                   CH        DE   EE        ES    ES@PRE   MT   PT\n",
       "region_y                                                                  \n",
       "CH                        NaN  0.000040  0.0  0.000027  0.000000  0.0  0.0\n",
       "DE                   0.000248       NaN  0.0  0.629345  0.000000  0.0  0.0\n",
       "EE                   0.000000  0.000000  NaN  0.000000  0.000000  0.0  0.0\n",
       "ES                   0.000248  0.936042  0.0       NaN  0.000209  0.0  0.0\n",
       "ES@PRE               0.000000  0.000000  0.0  0.000068       NaN  0.0  0.0\n",
       "MT                   0.000000  0.000000  0.0  0.000000  0.000000  NaN  0.0\n",
       "PT                   0.000000  0.000000  0.0  0.000000  0.000000  0.0  NaN"
      ]
     },
     "execution_count": 24,
     "metadata": {},
     "output_type": "execute_result"
    }
   ],
   "source": [
    "def compute_keys_cross_sharing(x):\n",
    "    teks_x = x.key_data_x.item()\n",
    "    common_teks = set(teks_x).intersection(x.key_data_y.item())\n",
    "    common_teks_fraction = len(common_teks) / len(teks_x)\n",
    "    return pd.Series(dict(\n",
    "        common_teks=common_teks,\n",
    "        common_teks_fraction=common_teks_fraction,\n",
    "    ))\n",
    "\n",
    "multi_backend_exposure_keys_by_region_df = \\\n",
    "    multi_backend_exposure_keys_df.groupby(\"region\").key_data.unique().reset_index()\n",
    "multi_backend_exposure_keys_by_region_df[\"_merge\"] = True\n",
    "multi_backend_exposure_keys_by_region_combination_df = \\\n",
    "    multi_backend_exposure_keys_by_region_df.merge(\n",
    "        multi_backend_exposure_keys_by_region_df, on=\"_merge\")\n",
    "multi_backend_exposure_keys_by_region_combination_df.drop(\n",
    "    columns=[\"_merge\"], inplace=True)\n",
    "if multi_backend_exposure_keys_by_region_combination_df.region_x.nunique() > 1:\n",
    "    multi_backend_exposure_keys_by_region_combination_df = \\\n",
    "        multi_backend_exposure_keys_by_region_combination_df[\n",
    "            multi_backend_exposure_keys_by_region_combination_df.region_x !=\n",
    "            multi_backend_exposure_keys_by_region_combination_df.region_y]\n",
    "multi_backend_exposure_keys_cross_sharing_df = \\\n",
    "    multi_backend_exposure_keys_by_region_combination_df \\\n",
    "        .groupby([\"region_x\", \"region_y\"]) \\\n",
    "        .apply(compute_keys_cross_sharing) \\\n",
    "        .reset_index()\n",
    "multi_backend_cross_sharing_summary_df = \\\n",
    "    multi_backend_exposure_keys_cross_sharing_df.pivot_table(\n",
    "        values=[\"common_teks_fraction\"],\n",
    "        columns=\"region_x\",\n",
    "        index=\"region_y\",\n",
    "        aggfunc=lambda x: x.item())\n",
    "multi_backend_cross_sharing_summary_df"
   ]
  },
  {
   "cell_type": "code",
   "execution_count": 25,
   "metadata": {
    "collapsed": false,
    "execution": {
     "iopub.execute_input": "2020-12-18T23:29:13.787135Z",
     "iopub.status.busy": "2020-12-18T23:29:13.786577Z",
     "iopub.status.idle": "2020-12-18T23:29:15.364247Z",
     "shell.execute_reply": "2020-12-18T23:29:15.364839Z"
    },
    "papermill": {
     "duration": 1.668041,
     "end_time": "2020-12-18T23:29:15.365045",
     "exception": false,
     "start_time": "2020-12-18T23:29:13.697004",
     "status": "completed"
    },
    "pycharm": {
     "name": "#%%\n"
    },
    "tags": []
   },
   "outputs": [
    {
     "data": {
      "text/plain": [
       "['PT', 'MT', 'EE', 'CH', 'ES@PRE', 'DE']"
      ]
     },
     "execution_count": 25,
     "metadata": {},
     "output_type": "execute_result"
    }
   ],
   "source": [
    "multi_backend_without_active_region_exposure_keys_df = \\\n",
    "    multi_backend_exposure_keys_df[multi_backend_exposure_keys_df.region != report_backend_identifier]\n",
    "multi_backend_without_active_region = \\\n",
    "    multi_backend_without_active_region_exposure_keys_df.groupby(\"region\").key_data.nunique().sort_values().index.unique().tolist()\n",
    "multi_backend_without_active_region"
   ]
  },
  {
   "cell_type": "code",
   "execution_count": 26,
   "metadata": {
    "execution": {
     "iopub.execute_input": "2020-12-18T23:29:15.511337Z",
     "iopub.status.busy": "2020-12-18T23:29:15.510344Z",
     "iopub.status.idle": "2020-12-18T23:29:17.960725Z",
     "shell.execute_reply": "2020-12-18T23:29:17.961648Z"
    },
    "papermill": {
     "duration": 2.545938,
     "end_time": "2020-12-18T23:29:17.961938",
     "exception": false,
     "start_time": "2020-12-18T23:29:15.416000",
     "status": "completed"
    },
    "scrolled": false,
    "tags": []
   },
   "outputs": [
    {
     "name": "stderr",
     "output_type": "stream",
     "text": [
      "/opt/hostedtoolcache/Python/3.8.6/x64/lib/python3.8/site-packages/pandas/core/frame.py:4110: SettingWithCopyWarning: \n",
      "A value is trying to be set on a copy of a slice from a DataFrame\n",
      "\n",
      "See the caveats in the documentation: http://pandas.pydata.org/pandas-docs/stable/user_guide/indexing.html#returning-a-view-versus-a-copy\n",
      "  return super().drop(\n"
     ]
    },
    {
     "data": {
      "text/html": [
       "<div>\n",
       "<style scoped>\n",
       "    .dataframe tbody tr th:only-of-type {\n",
       "        vertical-align: middle;\n",
       "    }\n",
       "\n",
       "    .dataframe tbody tr th {\n",
       "        vertical-align: top;\n",
       "    }\n",
       "\n",
       "    .dataframe thead th {\n",
       "        text-align: right;\n",
       "    }\n",
       "</style>\n",
       "<table border=\"1\" class=\"dataframe\">\n",
       "  <thead>\n",
       "    <tr style=\"text-align: right;\">\n",
       "      <th></th>\n",
       "      <th>shared_teks_by_generation_date</th>\n",
       "    </tr>\n",
       "    <tr>\n",
       "      <th>sample_date_string</th>\n",
       "      <th></th>\n",
       "    </tr>\n",
       "  </thead>\n",
       "  <tbody>\n",
       "    <tr>\n",
       "      <th>2020-12-18</th>\n",
       "      <td>355</td>\n",
       "    </tr>\n",
       "    <tr>\n",
       "      <th>2020-12-17</th>\n",
       "      <td>5160</td>\n",
       "    </tr>\n",
       "    <tr>\n",
       "      <th>2020-12-16</th>\n",
       "      <td>10917</td>\n",
       "    </tr>\n",
       "    <tr>\n",
       "      <th>2020-12-15</th>\n",
       "      <td>15550</td>\n",
       "    </tr>\n",
       "    <tr>\n",
       "      <th>2020-12-14</th>\n",
       "      <td>18913</td>\n",
       "    </tr>\n",
       "  </tbody>\n",
       "</table>\n",
       "</div>"
      ],
      "text/plain": [
       "                    shared_teks_by_generation_date\n",
       "sample_date_string                                \n",
       "2020-12-18                                     355\n",
       "2020-12-17                                    5160\n",
       "2020-12-16                                   10917\n",
       "2020-12-15                                   15550\n",
       "2020-12-14                                   18913"
      ]
     },
     "execution_count": 26,
     "metadata": {},
     "output_type": "execute_result"
    }
   ],
   "source": [
    "exposure_keys_summary_df = multi_backend_exposure_keys_df[\n",
    "    multi_backend_exposure_keys_df.region == report_backend_identifier]\n",
    "exposure_keys_summary_df.drop(columns=[\"region\"], inplace=True)\n",
    "exposure_keys_summary_df = \\\n",
    "    exposure_keys_summary_df.groupby([\"sample_date_string\"]).key_data.nunique().to_frame()\n",
    "exposure_keys_summary_df = \\\n",
    "    exposure_keys_summary_df.reset_index().set_index(\"sample_date_string\")\n",
    "exposure_keys_summary_df.sort_index(ascending=False, inplace=True)\n",
    "exposure_keys_summary_df.rename(columns={\"key_data\": \"shared_teks_by_generation_date\"}, inplace=True)\n",
    "exposure_keys_summary_df.head()"
   ]
  },
  {
   "cell_type": "markdown",
   "metadata": {
    "papermill": {
     "duration": 0.050527,
     "end_time": "2020-12-18T23:29:18.070728",
     "exception": false,
     "start_time": "2020-12-18T23:29:18.020201",
     "status": "completed"
    },
    "tags": []
   },
   "source": [
    "### Dump API TEKs"
   ]
  },
  {
   "cell_type": "code",
   "execution_count": 27,
   "metadata": {
    "execution": {
     "iopub.execute_input": "2020-12-18T23:29:18.184738Z",
     "iopub.status.busy": "2020-12-18T23:29:18.184053Z",
     "iopub.status.idle": "2020-12-18T23:29:20.874000Z",
     "shell.execute_reply": "2020-12-18T23:29:20.873218Z"
    },
    "papermill": {
     "duration": 2.750407,
     "end_time": "2020-12-18T23:29:20.874132",
     "exception": false,
     "start_time": "2020-12-18T23:29:18.123725",
     "status": "completed"
    },
    "tags": []
   },
   "outputs": [
    {
     "data": {
      "text/html": [
       "<div>\n",
       "<style scoped>\n",
       "    .dataframe tbody tr th:only-of-type {\n",
       "        vertical-align: middle;\n",
       "    }\n",
       "\n",
       "    .dataframe tbody tr th {\n",
       "        vertical-align: top;\n",
       "    }\n",
       "\n",
       "    .dataframe thead th {\n",
       "        text-align: right;\n",
       "    }\n",
       "</style>\n",
       "<table border=\"1\" class=\"dataframe\">\n",
       "  <thead>\n",
       "    <tr style=\"text-align: right;\">\n",
       "      <th></th>\n",
       "      <th>sample_date</th>\n",
       "      <th>region</th>\n",
       "      <th>tek_list</th>\n",
       "      <th>extraction_date</th>\n",
       "      <th>extraction_date_with_hour</th>\n",
       "    </tr>\n",
       "  </thead>\n",
       "  <tbody>\n",
       "    <tr>\n",
       "      <th>0</th>\n",
       "      <td>2020-12-05</td>\n",
       "      <td>CH</td>\n",
       "      <td>[a922b233-6100-0990-84f2-adc7aff5d6f2, 178314a...</td>\n",
       "      <td>2020-12-18</td>\n",
       "      <td>2020-12-18@23</td>\n",
       "    </tr>\n",
       "    <tr>\n",
       "      <th>1</th>\n",
       "      <td>2020-12-05</td>\n",
       "      <td>DE</td>\n",
       "      <td>[21f09d56-9cd2-29dd-f8b3-c735f997f3bb, 2b0cb62...</td>\n",
       "      <td>2020-12-18</td>\n",
       "      <td>2020-12-18@23</td>\n",
       "    </tr>\n",
       "    <tr>\n",
       "      <th>2</th>\n",
       "      <td>2020-12-05</td>\n",
       "      <td>EE</td>\n",
       "      <td>[7b3c4f91-2f93-0246-6153-ddc6a2f2e98b, 2e81983...</td>\n",
       "      <td>2020-12-18</td>\n",
       "      <td>2020-12-18@23</td>\n",
       "    </tr>\n",
       "    <tr>\n",
       "      <th>3</th>\n",
       "      <td>2020-12-05</td>\n",
       "      <td>ES</td>\n",
       "      <td>[4cc3ee78-23d9-da63-cfcc-909dcd21b7a2, 99fd441...</td>\n",
       "      <td>2020-12-18</td>\n",
       "      <td>2020-12-18@23</td>\n",
       "    </tr>\n",
       "    <tr>\n",
       "      <th>4</th>\n",
       "      <td>2020-12-05</td>\n",
       "      <td>ES@PRE</td>\n",
       "      <td>[4f71624d-5333-6870-7970-4d5a67683136, 4961304...</td>\n",
       "      <td>2020-12-18</td>\n",
       "      <td>2020-12-18@23</td>\n",
       "    </tr>\n",
       "  </tbody>\n",
       "</table>\n",
       "</div>"
      ],
      "text/plain": [
       "  sample_date  region                                           tek_list  \\\n",
       "0  2020-12-05      CH  [a922b233-6100-0990-84f2-adc7aff5d6f2, 178314a...   \n",
       "1  2020-12-05      DE  [21f09d56-9cd2-29dd-f8b3-c735f997f3bb, 2b0cb62...   \n",
       "2  2020-12-05      EE  [7b3c4f91-2f93-0246-6153-ddc6a2f2e98b, 2e81983...   \n",
       "3  2020-12-05      ES  [4cc3ee78-23d9-da63-cfcc-909dcd21b7a2, 99fd441...   \n",
       "4  2020-12-05  ES@PRE  [4f71624d-5333-6870-7970-4d5a67683136, 4961304...   \n",
       "\n",
       "  extraction_date extraction_date_with_hour  \n",
       "0      2020-12-18             2020-12-18@23  \n",
       "1      2020-12-18             2020-12-18@23  \n",
       "2      2020-12-18             2020-12-18@23  \n",
       "3      2020-12-18             2020-12-18@23  \n",
       "4      2020-12-18             2020-12-18@23  "
      ]
     },
     "execution_count": 27,
     "metadata": {},
     "output_type": "execute_result"
    }
   ],
   "source": [
    "tek_list_df = multi_backend_exposure_keys_df[\n",
    "    [\"sample_date_string\", \"region\", \"key_data\"]].copy()\n",
    "tek_list_df[\"key_data\"] = tek_list_df[\"key_data\"].apply(str)\n",
    "tek_list_df.rename(columns={\n",
    "    \"sample_date_string\": \"sample_date\",\n",
    "    \"key_data\": \"tek_list\"}, inplace=True)\n",
    "tek_list_df = tek_list_df.groupby(\n",
    "    [\"sample_date\", \"region\"]).tek_list.unique().reset_index()\n",
    "tek_list_df[\"extraction_date\"] = extraction_date\n",
    "tek_list_df[\"extraction_date_with_hour\"] = extraction_date_with_hour\n",
    "\n",
    "tek_list_path_prefix = \"Data/TEKs/\"\n",
    "tek_list_current_path = tek_list_path_prefix + f\"/Current/RadarCOVID-TEKs.json\"\n",
    "tek_list_daily_path = tek_list_path_prefix + f\"Daily/RadarCOVID-TEKs-{extraction_date}.json\"\n",
    "tek_list_hourly_path = tek_list_path_prefix + f\"Hourly/RadarCOVID-TEKs-{extraction_date_with_hour}.json\"\n",
    "\n",
    "for path in [tek_list_current_path, tek_list_daily_path, tek_list_hourly_path]:\n",
    "    os.makedirs(os.path.dirname(path), exist_ok=True)\n",
    "\n",
    "tek_list_df.drop(columns=[\"extraction_date\", \"extraction_date_with_hour\"]).to_json(\n",
    "    tek_list_current_path,\n",
    "    lines=True, orient=\"records\")\n",
    "tek_list_df.drop(columns=[\"extraction_date_with_hour\"]).to_json(\n",
    "    tek_list_daily_path,\n",
    "    lines=True, orient=\"records\")\n",
    "tek_list_df.to_json(\n",
    "    tek_list_hourly_path,\n",
    "    lines=True, orient=\"records\")\n",
    "tek_list_df.head()"
   ]
  },
  {
   "cell_type": "markdown",
   "metadata": {
    "papermill": {
     "duration": 0.051848,
     "end_time": "2020-12-18T23:29:20.977906",
     "exception": false,
     "start_time": "2020-12-18T23:29:20.926058",
     "status": "completed"
    },
    "tags": []
   },
   "source": [
    "### Load TEK Dumps"
   ]
  },
  {
   "cell_type": "code",
   "execution_count": 28,
   "metadata": {
    "execution": {
     "iopub.execute_input": "2020-12-18T23:29:21.096319Z",
     "iopub.status.busy": "2020-12-18T23:29:21.095746Z",
     "iopub.status.idle": "2020-12-18T23:29:21.097898Z",
     "shell.execute_reply": "2020-12-18T23:29:21.097429Z"
    },
    "papermill": {
     "duration": 0.064328,
     "end_time": "2020-12-18T23:29:21.098027",
     "exception": false,
     "start_time": "2020-12-18T23:29:21.033699",
     "status": "completed"
    },
    "tags": []
   },
   "outputs": [],
   "source": [
    "import glob\n",
    "\n",
    "def load_extracted_teks(mode, region=None, limit=None) -> pd.DataFrame:\n",
    "    extracted_teks_df = pd.DataFrame(columns=[\"region\"])\n",
    "    file_paths = list(reversed(sorted(glob.glob(tek_list_path_prefix + mode + \"/RadarCOVID-TEKs-*.json\"))))\n",
    "    if limit:\n",
    "        file_paths = file_paths[:limit]\n",
    "    for file_path in file_paths:\n",
    "        logging.info(f\"Loading TEKs from '{file_path}'...\")\n",
    "        iteration_extracted_teks_df = pd.read_json(file_path, lines=True)\n",
    "        extracted_teks_df = extracted_teks_df.append(\n",
    "            iteration_extracted_teks_df, sort=False)\n",
    "    extracted_teks_df[\"region\"] = \\\n",
    "        extracted_teks_df.region.fillna(spain_region_country_code).copy()\n",
    "    if region:\n",
    "        extracted_teks_df = \\\n",
    "            extracted_teks_df[extracted_teks_df.region == region]\n",
    "    return extracted_teks_df"
   ]
  },
  {
   "cell_type": "code",
   "execution_count": 29,
   "metadata": {
    "collapsed": false,
    "execution": {
     "iopub.execute_input": "2020-12-18T23:29:21.211613Z",
     "iopub.status.busy": "2020-12-18T23:29:21.211058Z",
     "iopub.status.idle": "2020-12-18T23:29:44.742211Z",
     "shell.execute_reply": "2020-12-18T23:29:44.741421Z"
    },
    "papermill": {
     "duration": 23.591567,
     "end_time": "2020-12-18T23:29:44.742446",
     "exception": false,
     "start_time": "2020-12-18T23:29:21.150879",
     "status": "completed"
    },
    "pycharm": {
     "name": "#%%\n"
    },
    "tags": []
   },
   "outputs": [
    {
     "data": {
      "text/html": [
       "<div>\n",
       "<style scoped>\n",
       "    .dataframe tbody tr th:only-of-type {\n",
       "        vertical-align: middle;\n",
       "    }\n",
       "\n",
       "    .dataframe tbody tr th {\n",
       "        vertical-align: top;\n",
       "    }\n",
       "\n",
       "    .dataframe thead th {\n",
       "        text-align: right;\n",
       "    }\n",
       "</style>\n",
       "<table border=\"1\" class=\"dataframe\">\n",
       "  <thead>\n",
       "    <tr style=\"text-align: right;\">\n",
       "      <th></th>\n",
       "      <th>region</th>\n",
       "      <th>sample_date</th>\n",
       "      <th>tek_list</th>\n",
       "      <th>extraction_date</th>\n",
       "    </tr>\n",
       "  </thead>\n",
       "  <tbody>\n",
       "    <tr>\n",
       "      <th>3</th>\n",
       "      <td>ES</td>\n",
       "      <td>2020-12-05</td>\n",
       "      <td>[4cc3ee78-23d9-da63-cfcc-909dcd21b7a2, 99fd441...</td>\n",
       "      <td>2020-12-18</td>\n",
       "    </tr>\n",
       "    <tr>\n",
       "      <th>10</th>\n",
       "      <td>ES</td>\n",
       "      <td>2020-12-06</td>\n",
       "      <td>[7e2237e4-9d3f-b388-28af-71016b9bf16c, d44148d...</td>\n",
       "      <td>2020-12-18</td>\n",
       "    </tr>\n",
       "    <tr>\n",
       "      <th>17</th>\n",
       "      <td>ES</td>\n",
       "      <td>2020-12-07</td>\n",
       "      <td>[0db0bc77-5246-f7e8-fbe1-7b4cb001279e, 0226a9b...</td>\n",
       "      <td>2020-12-18</td>\n",
       "    </tr>\n",
       "    <tr>\n",
       "      <th>24</th>\n",
       "      <td>ES</td>\n",
       "      <td>2020-12-08</td>\n",
       "      <td>[bb2de289-0a9a-4453-a626-d4a72bba8782, ab425b6...</td>\n",
       "      <td>2020-12-18</td>\n",
       "    </tr>\n",
       "    <tr>\n",
       "      <th>31</th>\n",
       "      <td>ES</td>\n",
       "      <td>2020-12-09</td>\n",
       "      <td>[0135d33a-fecf-eb3b-af26-849d49297790, e76e2e6...</td>\n",
       "      <td>2020-12-18</td>\n",
       "    </tr>\n",
       "  </tbody>\n",
       "</table>\n",
       "</div>"
      ],
      "text/plain": [
       "   region sample_date                                           tek_list  \\\n",
       "3      ES  2020-12-05  [4cc3ee78-23d9-da63-cfcc-909dcd21b7a2, 99fd441...   \n",
       "10     ES  2020-12-06  [7e2237e4-9d3f-b388-28af-71016b9bf16c, d44148d...   \n",
       "17     ES  2020-12-07  [0db0bc77-5246-f7e8-fbe1-7b4cb001279e, 0226a9b...   \n",
       "24     ES  2020-12-08  [bb2de289-0a9a-4453-a626-d4a72bba8782, ab425b6...   \n",
       "31     ES  2020-12-09  [0135d33a-fecf-eb3b-af26-849d49297790, e76e2e6...   \n",
       "\n",
       "   extraction_date  \n",
       "3       2020-12-18  \n",
       "10      2020-12-18  \n",
       "17      2020-12-18  \n",
       "24      2020-12-18  \n",
       "31      2020-12-18  "
      ]
     },
     "execution_count": 29,
     "metadata": {},
     "output_type": "execute_result"
    }
   ],
   "source": [
    "daily_extracted_teks_df = load_extracted_teks(\n",
    "    mode=\"Daily\",\n",
    "    region=report_backend_identifier,\n",
    "    limit=tek_dumps_load_limit)\n",
    "daily_extracted_teks_df.head()"
   ]
  },
  {
   "cell_type": "code",
   "execution_count": 30,
   "metadata": {
    "collapsed": false,
    "execution": {
     "iopub.execute_input": "2020-12-18T23:29:44.878955Z",
     "iopub.status.busy": "2020-12-18T23:29:44.878308Z",
     "iopub.status.idle": "2020-12-18T23:29:44.903091Z",
     "shell.execute_reply": "2020-12-18T23:29:44.903715Z"
    },
    "papermill": {
     "duration": 0.109023,
     "end_time": "2020-12-18T23:29:44.903909",
     "exception": false,
     "start_time": "2020-12-18T23:29:44.794886",
     "status": "completed"
    },
    "pycharm": {
     "name": "#%%\n"
    },
    "tags": []
   },
   "outputs": [
    {
     "data": {
      "text/html": [
       "<div>\n",
       "<style scoped>\n",
       "    .dataframe tbody tr th:only-of-type {\n",
       "        vertical-align: middle;\n",
       "    }\n",
       "\n",
       "    .dataframe tbody tr th {\n",
       "        vertical-align: top;\n",
       "    }\n",
       "\n",
       "    .dataframe thead th {\n",
       "        text-align: right;\n",
       "    }\n",
       "</style>\n",
       "<table border=\"1\" class=\"dataframe\">\n",
       "  <thead>\n",
       "    <tr style=\"text-align: right;\">\n",
       "      <th></th>\n",
       "      <th>shared_teks_by_generation_date</th>\n",
       "    </tr>\n",
       "    <tr>\n",
       "      <th>sample_date_string</th>\n",
       "      <th></th>\n",
       "    </tr>\n",
       "  </thead>\n",
       "  <tbody>\n",
       "    <tr>\n",
       "      <th>2020-12-18</th>\n",
       "      <td>355</td>\n",
       "    </tr>\n",
       "    <tr>\n",
       "      <th>2020-12-17</th>\n",
       "      <td>5160</td>\n",
       "    </tr>\n",
       "    <tr>\n",
       "      <th>2020-12-16</th>\n",
       "      <td>10917</td>\n",
       "    </tr>\n",
       "    <tr>\n",
       "      <th>2020-12-15</th>\n",
       "      <td>15550</td>\n",
       "    </tr>\n",
       "    <tr>\n",
       "      <th>2020-12-14</th>\n",
       "      <td>18913</td>\n",
       "    </tr>\n",
       "  </tbody>\n",
       "</table>\n",
       "</div>"
      ],
      "text/plain": [
       "                    shared_teks_by_generation_date\n",
       "sample_date_string                                \n",
       "2020-12-18                                     355\n",
       "2020-12-17                                    5160\n",
       "2020-12-16                                   10917\n",
       "2020-12-15                                   15550\n",
       "2020-12-14                                   18913"
      ]
     },
     "execution_count": 30,
     "metadata": {},
     "output_type": "execute_result"
    }
   ],
   "source": [
    "exposure_keys_summary_df_ = daily_extracted_teks_df \\\n",
    "    .sort_values(\"extraction_date\", ascending=False) \\\n",
    "    .groupby(\"sample_date\").tek_list.first() \\\n",
    "    .to_frame()\n",
    "exposure_keys_summary_df_.index.name = \"sample_date_string\"\n",
    "exposure_keys_summary_df_[\"tek_list\"] = \\\n",
    "    exposure_keys_summary_df_.tek_list.apply(len)\n",
    "exposure_keys_summary_df_ = exposure_keys_summary_df_ \\\n",
    "    .rename(columns={\"tek_list\": \"shared_teks_by_generation_date\"}) \\\n",
    "    .sort_index(ascending=False)\n",
    "exposure_keys_summary_df = exposure_keys_summary_df_\n",
    "exposure_keys_summary_df.head()"
   ]
  },
  {
   "cell_type": "markdown",
   "metadata": {
    "execution": {
     "iopub.execute_input": "2020-08-30T22:30:16.632967Z",
     "iopub.status.busy": "2020-08-30T22:30:16.632308Z",
     "iopub.status.idle": "2020-08-30T22:30:16.634945Z",
     "shell.execute_reply": "2020-08-30T22:30:16.635575Z"
    },
    "papermill": {
     "duration": 0.052109,
     "end_time": "2020-12-18T23:29:45.009497",
     "exception": false,
     "start_time": "2020-12-18T23:29:44.957388",
     "status": "completed"
    },
    "pycharm": {
     "name": "#%% md\n"
    },
    "tags": []
   },
   "source": [
    "### Daily New TEKs"
   ]
  },
  {
   "cell_type": "code",
   "execution_count": 31,
   "metadata": {
    "execution": {
     "iopub.execute_input": "2020-12-18T23:29:45.120778Z",
     "iopub.status.busy": "2020-12-18T23:29:45.120286Z",
     "iopub.status.idle": "2020-12-18T23:29:47.192243Z",
     "shell.execute_reply": "2020-12-18T23:29:47.191787Z"
    },
    "papermill": {
     "duration": 2.131711,
     "end_time": "2020-12-18T23:29:47.192367",
     "exception": false,
     "start_time": "2020-12-18T23:29:45.060656",
     "status": "completed"
    },
    "tags": []
   },
   "outputs": [
    {
     "data": {
      "text/html": [
       "<div>\n",
       "<style scoped>\n",
       "    .dataframe tbody tr th:only-of-type {\n",
       "        vertical-align: middle;\n",
       "    }\n",
       "\n",
       "    .dataframe tbody tr th {\n",
       "        vertical-align: top;\n",
       "    }\n",
       "\n",
       "    .dataframe thead th {\n",
       "        text-align: right;\n",
       "    }\n",
       "</style>\n",
       "<table border=\"1\" class=\"dataframe\">\n",
       "  <thead>\n",
       "    <tr style=\"text-align: right;\">\n",
       "      <th></th>\n",
       "      <th>tek_list</th>\n",
       "    </tr>\n",
       "    <tr>\n",
       "      <th>extraction_date</th>\n",
       "      <th></th>\n",
       "    </tr>\n",
       "  </thead>\n",
       "  <tbody>\n",
       "    <tr>\n",
       "      <th>2020-09-25</th>\n",
       "      <td>{155155a8-e968-25cd-f20d-30ef167bb033, b35d871...</td>\n",
       "    </tr>\n",
       "    <tr>\n",
       "      <th>2020-09-26</th>\n",
       "      <td>{155155a8-e968-25cd-f20d-30ef167bb033, b35d871...</td>\n",
       "    </tr>\n",
       "    <tr>\n",
       "      <th>2020-09-27</th>\n",
       "      <td>{155155a8-e968-25cd-f20d-30ef167bb033, b35d871...</td>\n",
       "    </tr>\n",
       "    <tr>\n",
       "      <th>2020-09-28</th>\n",
       "      <td>{155155a8-e968-25cd-f20d-30ef167bb033, b35d871...</td>\n",
       "    </tr>\n",
       "    <tr>\n",
       "      <th>2020-09-29</th>\n",
       "      <td>{155155a8-e968-25cd-f20d-30ef167bb033, b35d871...</td>\n",
       "    </tr>\n",
       "  </tbody>\n",
       "</table>\n",
       "</div>"
      ],
      "text/plain": [
       "                                                          tek_list\n",
       "extraction_date                                                   \n",
       "2020-09-25       {155155a8-e968-25cd-f20d-30ef167bb033, b35d871...\n",
       "2020-09-26       {155155a8-e968-25cd-f20d-30ef167bb033, b35d871...\n",
       "2020-09-27       {155155a8-e968-25cd-f20d-30ef167bb033, b35d871...\n",
       "2020-09-28       {155155a8-e968-25cd-f20d-30ef167bb033, b35d871...\n",
       "2020-09-29       {155155a8-e968-25cd-f20d-30ef167bb033, b35d871..."
      ]
     },
     "execution_count": 31,
     "metadata": {},
     "output_type": "execute_result"
    }
   ],
   "source": [
    "tek_list_df = daily_extracted_teks_df.groupby(\"extraction_date\").tek_list.apply(\n",
    "    lambda x: set(sum(x, []))).reset_index()\n",
    "tek_list_df = tek_list_df.set_index(\"extraction_date\").sort_index(ascending=True)\n",
    "tek_list_df.head()"
   ]
  },
  {
   "cell_type": "code",
   "execution_count": 32,
   "metadata": {
    "collapsed": false,
    "execution": {
     "iopub.execute_input": "2020-12-18T23:29:47.304290Z",
     "iopub.status.busy": "2020-12-18T23:29:47.303729Z",
     "iopub.status.idle": "2020-12-18T23:31:13.520004Z",
     "shell.execute_reply": "2020-12-18T23:31:13.520509Z"
    },
    "papermill": {
     "duration": 86.278169,
     "end_time": "2020-12-18T23:31:13.520678",
     "exception": false,
     "start_time": "2020-12-18T23:29:47.242509",
     "status": "completed"
    },
    "pycharm": {
     "name": "#%%\n"
    },
    "tags": []
   },
   "outputs": [
    {
     "name": "stderr",
     "output_type": "stream",
     "text": [
      "<ipython-input-32-827222b35590>:4: FutureWarning: `item` has been deprecated and will be removed in a future version\n",
      "  day_new_teks_set = day_new_teks_set_df[\n"
     ]
    },
    {
     "data": {
      "text/html": [
       "<div>\n",
       "<style scoped>\n",
       "    .dataframe tbody tr th:only-of-type {\n",
       "        vertical-align: middle;\n",
       "    }\n",
       "\n",
       "    .dataframe tbody tr th {\n",
       "        vertical-align: top;\n",
       "    }\n",
       "\n",
       "    .dataframe thead th {\n",
       "        text-align: right;\n",
       "    }\n",
       "</style>\n",
       "<table border=\"1\" class=\"dataframe\">\n",
       "  <thead>\n",
       "    <tr style=\"text-align: right;\">\n",
       "      <th></th>\n",
       "      <th>upload_date</th>\n",
       "      <th>generation_date</th>\n",
       "      <th>shared_teks</th>\n",
       "      <th>generation_to_upload_days</th>\n",
       "    </tr>\n",
       "  </thead>\n",
       "  <tbody>\n",
       "    <tr>\n",
       "      <th>12</th>\n",
       "      <td>2020-09-26</td>\n",
       "      <td>2020-09-25</td>\n",
       "      <td>110</td>\n",
       "      <td>1</td>\n",
       "    </tr>\n",
       "    <tr>\n",
       "      <th>11</th>\n",
       "      <td>2020-09-26</td>\n",
       "      <td>2020-09-24</td>\n",
       "      <td>67</td>\n",
       "      <td>2</td>\n",
       "    </tr>\n",
       "    <tr>\n",
       "      <th>10</th>\n",
       "      <td>2020-09-26</td>\n",
       "      <td>2020-09-23</td>\n",
       "      <td>66</td>\n",
       "      <td>3</td>\n",
       "    </tr>\n",
       "    <tr>\n",
       "      <th>9</th>\n",
       "      <td>2020-09-26</td>\n",
       "      <td>2020-09-22</td>\n",
       "      <td>63</td>\n",
       "      <td>4</td>\n",
       "    </tr>\n",
       "    <tr>\n",
       "      <th>8</th>\n",
       "      <td>2020-09-26</td>\n",
       "      <td>2020-09-21</td>\n",
       "      <td>63</td>\n",
       "      <td>5</td>\n",
       "    </tr>\n",
       "  </tbody>\n",
       "</table>\n",
       "</div>"
      ],
      "text/plain": [
       "   upload_date generation_date  shared_teks  generation_to_upload_days\n",
       "12  2020-09-26      2020-09-25          110                          1\n",
       "11  2020-09-26      2020-09-24           67                          2\n",
       "10  2020-09-26      2020-09-23           66                          3\n",
       "9   2020-09-26      2020-09-22           63                          4\n",
       "8   2020-09-26      2020-09-21           63                          5"
      ]
     },
     "execution_count": 32,
     "metadata": {},
     "output_type": "execute_result"
    }
   ],
   "source": [
    "def compute_teks_by_generation_and_upload_date(date):\n",
    "    day_new_teks_set_df = tek_list_df.copy().diff()\n",
    "    try:\n",
    "        day_new_teks_set = day_new_teks_set_df[\n",
    "            day_new_teks_set_df.index == date].tek_list.item()\n",
    "    except ValueError:\n",
    "        day_new_teks_set = None\n",
    "    if pd.isna(day_new_teks_set):\n",
    "        day_new_teks_set = set()\n",
    "    day_new_teks_df = daily_extracted_teks_df[\n",
    "        daily_extracted_teks_df.extraction_date == date].copy()\n",
    "    day_new_teks_df[\"shared_teks\"] = \\\n",
    "        day_new_teks_df.tek_list.apply(lambda x: set(x).intersection(day_new_teks_set))\n",
    "    day_new_teks_df[\"shared_teks\"] = \\\n",
    "        day_new_teks_df.shared_teks.apply(len)\n",
    "    day_new_teks_df[\"upload_date\"] = date\n",
    "    day_new_teks_df.rename(columns={\"sample_date\": \"generation_date\"}, inplace=True)\n",
    "    day_new_teks_df = day_new_teks_df[\n",
    "        [\"upload_date\", \"generation_date\", \"shared_teks\"]]\n",
    "    day_new_teks_df[\"generation_to_upload_days\"] = \\\n",
    "        (pd.to_datetime(day_new_teks_df.upload_date) -\n",
    "         pd.to_datetime(day_new_teks_df.generation_date)).dt.days\n",
    "    day_new_teks_df = day_new_teks_df[day_new_teks_df.shared_teks > 0]\n",
    "    return day_new_teks_df\n",
    "\n",
    "shared_teks_generation_to_upload_df = pd.DataFrame()\n",
    "for upload_date in daily_extracted_teks_df.extraction_date.unique():\n",
    "    shared_teks_generation_to_upload_df = \\\n",
    "        shared_teks_generation_to_upload_df.append(\n",
    "            compute_teks_by_generation_and_upload_date(date=upload_date))\n",
    "shared_teks_generation_to_upload_df \\\n",
    "    .sort_values([\"upload_date\", \"generation_date\"], ascending=False, inplace=True)\n",
    "shared_teks_generation_to_upload_df.tail()"
   ]
  },
  {
   "cell_type": "code",
   "execution_count": 33,
   "metadata": {
    "collapsed": false,
    "execution": {
     "iopub.execute_input": "2020-12-18T23:31:13.638316Z",
     "iopub.status.busy": "2020-12-18T23:31:13.637793Z",
     "iopub.status.idle": "2020-12-18T23:31:13.641421Z",
     "shell.execute_reply": "2020-12-18T23:31:13.641844Z"
    },
    "papermill": {
     "duration": 0.067676,
     "end_time": "2020-12-18T23:31:13.641990",
     "exception": false,
     "start_time": "2020-12-18T23:31:13.574314",
     "status": "completed"
    },
    "pycharm": {
     "name": "#%%\n"
    },
    "tags": []
   },
   "outputs": [
    {
     "data": {
      "text/html": [
       "<div>\n",
       "<style scoped>\n",
       "    .dataframe tbody tr th:only-of-type {\n",
       "        vertical-align: middle;\n",
       "    }\n",
       "\n",
       "    .dataframe tbody tr th {\n",
       "        vertical-align: top;\n",
       "    }\n",
       "\n",
       "    .dataframe thead th {\n",
       "        text-align: right;\n",
       "    }\n",
       "</style>\n",
       "<table border=\"1\" class=\"dataframe\">\n",
       "  <thead>\n",
       "    <tr style=\"text-align: right;\">\n",
       "      <th></th>\n",
       "      <th>upload_date</th>\n",
       "      <th>generation_date</th>\n",
       "      <th>shared_teks</th>\n",
       "      <th>generation_to_upload_days</th>\n",
       "    </tr>\n",
       "  </thead>\n",
       "  <tbody>\n",
       "    <tr>\n",
       "      <th>31</th>\n",
       "      <td>2020-12-18</td>\n",
       "      <td>2020-12-09</td>\n",
       "      <td>4561</td>\n",
       "      <td>9</td>\n",
       "    </tr>\n",
       "    <tr>\n",
       "      <th>24</th>\n",
       "      <td>2020-12-18</td>\n",
       "      <td>2020-12-08</td>\n",
       "      <td>4162</td>\n",
       "      <td>10</td>\n",
       "    </tr>\n",
       "    <tr>\n",
       "      <th>17</th>\n",
       "      <td>2020-12-18</td>\n",
       "      <td>2020-12-07</td>\n",
       "      <td>3943</td>\n",
       "      <td>11</td>\n",
       "    </tr>\n",
       "    <tr>\n",
       "      <th>10</th>\n",
       "      <td>2020-12-18</td>\n",
       "      <td>2020-12-06</td>\n",
       "      <td>3812</td>\n",
       "      <td>12</td>\n",
       "    </tr>\n",
       "    <tr>\n",
       "      <th>3</th>\n",
       "      <td>2020-12-18</td>\n",
       "      <td>2020-12-05</td>\n",
       "      <td>3745</td>\n",
       "      <td>13</td>\n",
       "    </tr>\n",
       "  </tbody>\n",
       "</table>\n",
       "</div>"
      ],
      "text/plain": [
       "   upload_date generation_date  shared_teks  generation_to_upload_days\n",
       "31  2020-12-18      2020-12-09         4561                          9\n",
       "24  2020-12-18      2020-12-08         4162                         10\n",
       "17  2020-12-18      2020-12-07         3943                         11\n",
       "10  2020-12-18      2020-12-06         3812                         12\n",
       "3   2020-12-18      2020-12-05         3745                         13"
      ]
     },
     "execution_count": 33,
     "metadata": {},
     "output_type": "execute_result"
    }
   ],
   "source": [
    "today_new_teks_df = \\\n",
    "    shared_teks_generation_to_upload_df[\n",
    "        shared_teks_generation_to_upload_df.upload_date == extraction_date].copy()\n",
    "today_new_teks_df.tail()"
   ]
  },
  {
   "cell_type": "code",
   "execution_count": 34,
   "metadata": {
    "collapsed": false,
    "execution": {
     "iopub.execute_input": "2020-12-18T23:31:14.338565Z",
     "iopub.status.busy": "2020-12-18T23:31:13.788164Z",
     "iopub.status.idle": "2020-12-18T23:31:14.545892Z",
     "shell.execute_reply": "2020-12-18T23:31:14.546305Z"
    },
    "papermill": {
     "duration": 0.850894,
     "end_time": "2020-12-18T23:31:14.546454",
     "exception": false,
     "start_time": "2020-12-18T23:31:13.695560",
     "status": "completed"
    },
    "pycharm": {
     "name": "#%%\n"
    },
    "tags": []
   },
   "outputs": [
    {
     "data": {
      "image/png": "[encoded data removed]",
      "text/plain": [
       "<Figure size 1080x432 with 1 Axes>"
      ]
     },
     "metadata": {},
     "output_type": "display_data"
    }
   ],
   "source": [
    "if not today_new_teks_df.empty:\n",
    "    today_new_teks_df.set_index(\"generation_to_upload_days\") \\\n",
    "        .sort_index().shared_teks.plot.bar()"
   ]
  },
  {
   "cell_type": "code",
   "execution_count": 35,
   "metadata": {
    "collapsed": false,
    "execution": {
     "iopub.execute_input": "2020-12-18T23:31:14.663860Z",
     "iopub.status.busy": "2020-12-18T23:31:14.663205Z",
     "iopub.status.idle": "2020-12-18T23:31:14.681862Z",
     "shell.execute_reply": "2020-12-18T23:31:14.681346Z"
    },
    "papermill": {
     "duration": 0.081384,
     "end_time": "2020-12-18T23:31:14.682009",
     "exception": false,
     "start_time": "2020-12-18T23:31:14.600625",
     "status": "completed"
    },
    "pycharm": {
     "name": "#%%\n"
    },
    "tags": []
   },
   "outputs": [
    {
     "data": {
      "text/html": [
       "<div>\n",
       "<style scoped>\n",
       "    .dataframe tbody tr th:only-of-type {\n",
       "        vertical-align: middle;\n",
       "    }\n",
       "\n",
       "    .dataframe tbody tr th {\n",
       "        vertical-align: top;\n",
       "    }\n",
       "\n",
       "    .dataframe thead th {\n",
       "        text-align: right;\n",
       "    }\n",
       "</style>\n",
       "<table border=\"1\" class=\"dataframe\">\n",
       "  <thead>\n",
       "    <tr style=\"text-align: right;\">\n",
       "      <th>generation_to_upload_days</th>\n",
       "      <th>0</th>\n",
       "      <th>1</th>\n",
       "      <th>2</th>\n",
       "      <th>3</th>\n",
       "      <th>4</th>\n",
       "      <th>5</th>\n",
       "      <th>6</th>\n",
       "      <th>7</th>\n",
       "      <th>8</th>\n",
       "      <th>9</th>\n",
       "      <th>10</th>\n",
       "      <th>11</th>\n",
       "      <th>12</th>\n",
       "      <th>13</th>\n",
       "    </tr>\n",
       "    <tr>\n",
       "      <th>upload_date</th>\n",
       "      <th></th>\n",
       "      <th></th>\n",
       "      <th></th>\n",
       "      <th></th>\n",
       "      <th></th>\n",
       "      <th></th>\n",
       "      <th></th>\n",
       "      <th></th>\n",
       "      <th></th>\n",
       "      <th></th>\n",
       "      <th></th>\n",
       "      <th></th>\n",
       "      <th></th>\n",
       "      <th></th>\n",
       "    </tr>\n",
       "  </thead>\n",
       "  <tbody>\n",
       "    <tr>\n",
       "      <th>2020-12-18</th>\n",
       "      <td>355</td>\n",
       "      <td>4865</td>\n",
       "      <td>7467</td>\n",
       "      <td>7802</td>\n",
       "      <td>7851</td>\n",
       "      <td>7396</td>\n",
       "      <td>6649</td>\n",
       "      <td>5827</td>\n",
       "      <td>5174</td>\n",
       "      <td>4561</td>\n",
       "      <td>4162</td>\n",
       "      <td>3943</td>\n",
       "      <td>3812</td>\n",
       "      <td>3745</td>\n",
       "    </tr>\n",
       "    <tr>\n",
       "      <th>2020-12-17</th>\n",
       "      <td>295</td>\n",
       "      <td>3151</td>\n",
       "      <td>4690</td>\n",
       "      <td>4367</td>\n",
       "      <td>4188</td>\n",
       "      <td>4019</td>\n",
       "      <td>3937</td>\n",
       "      <td>3852</td>\n",
       "      <td>3771</td>\n",
       "      <td>3739</td>\n",
       "      <td>3697</td>\n",
       "      <td>3654</td>\n",
       "      <td>3626</td>\n",
       "      <td>3585</td>\n",
       "    </tr>\n",
       "    <tr>\n",
       "      <th>2020-12-16</th>\n",
       "      <td>299</td>\n",
       "      <td>2890</td>\n",
       "      <td>5725</td>\n",
       "      <td>5143</td>\n",
       "      <td>5009</td>\n",
       "      <td>4906</td>\n",
       "      <td>4708</td>\n",
       "      <td>4637</td>\n",
       "      <td>4542</td>\n",
       "      <td>4432</td>\n",
       "      <td>4349</td>\n",
       "      <td>4345</td>\n",
       "      <td>4259</td>\n",
       "      <td>4236</td>\n",
       "    </tr>\n",
       "    <tr>\n",
       "      <th>2020-12-15</th>\n",
       "      <td>168</td>\n",
       "      <td>789</td>\n",
       "      <td>1752</td>\n",
       "      <td>1701</td>\n",
       "      <td>1596</td>\n",
       "      <td>1534</td>\n",
       "      <td>1470</td>\n",
       "      <td>1401</td>\n",
       "      <td>1346</td>\n",
       "      <td>1306</td>\n",
       "      <td>1330</td>\n",
       "      <td>1283</td>\n",
       "      <td>1277</td>\n",
       "      <td>1243</td>\n",
       "    </tr>\n",
       "    <tr>\n",
       "      <th>2020-12-14</th>\n",
       "      <td>181</td>\n",
       "      <td>1485</td>\n",
       "      <td>2282</td>\n",
       "      <td>2203</td>\n",
       "      <td>2075</td>\n",
       "      <td>1972</td>\n",
       "      <td>1912</td>\n",
       "      <td>1875</td>\n",
       "      <td>1794</td>\n",
       "      <td>1742</td>\n",
       "      <td>1754</td>\n",
       "      <td>1716</td>\n",
       "      <td>1698</td>\n",
       "      <td>1689</td>\n",
       "    </tr>\n",
       "  </tbody>\n",
       "</table>\n",
       "</div>"
      ],
      "text/plain": [
       "generation_to_upload_days   0     1     2     3     4     5     6     7   \\\n",
       "upload_date                                                                \n",
       "2020-12-18                 355  4865  7467  7802  7851  7396  6649  5827   \n",
       "2020-12-17                 295  3151  4690  4367  4188  4019  3937  3852   \n",
       "2020-12-16                 299  2890  5725  5143  5009  4906  4708  4637   \n",
       "2020-12-15                 168   789  1752  1701  1596  1534  1470  1401   \n",
       "2020-12-14                 181  1485  2282  2203  2075  1972  1912  1875   \n",
       "\n",
       "generation_to_upload_days    8     9     10    11    12    13  \n",
       "upload_date                                                    \n",
       "2020-12-18                 5174  4561  4162  3943  3812  3745  \n",
       "2020-12-17                 3771  3739  3697  3654  3626  3585  \n",
       "2020-12-16                 4542  4432  4349  4345  4259  4236  \n",
       "2020-12-15                 1346  1306  1330  1283  1277  1243  \n",
       "2020-12-14                 1794  1742  1754  1716  1698  1689  "
      ]
     },
     "execution_count": 35,
     "metadata": {},
     "output_type": "execute_result"
    }
   ],
   "source": [
    "generation_to_upload_period_pivot_df = \\\n",
    "    shared_teks_generation_to_upload_df[\n",
    "        [\"upload_date\", \"generation_to_upload_days\", \"shared_teks\"]] \\\n",
    "        .pivot(index=\"upload_date\", columns=\"generation_to_upload_days\") \\\n",
    "        .sort_index(ascending=False).fillna(0).astype(int) \\\n",
    "        .droplevel(level=0, axis=1)\n",
    "generation_to_upload_period_pivot_df.head()"
   ]
  },
  {
   "cell_type": "code",
   "execution_count": 36,
   "metadata": {
    "collapsed": false,
    "execution": {
     "iopub.execute_input": "2020-12-18T23:31:15.811993Z",
     "iopub.status.busy": "2020-12-18T23:31:15.811452Z",
     "iopub.status.idle": "2020-12-18T23:31:15.815122Z",
     "shell.execute_reply": "2020-12-18T23:31:15.814495Z"
    },
    "papermill": {
     "duration": 1.078109,
     "end_time": "2020-12-18T23:31:15.815231",
     "exception": false,
     "start_time": "2020-12-18T23:31:14.737122",
     "status": "completed"
    },
    "pycharm": {
     "name": "#%%\n"
    },
    "tags": []
   },
   "outputs": [
    {
     "data": {
      "text/html": [
       "<div>\n",
       "<style scoped>\n",
       "    .dataframe tbody tr th:only-of-type {\n",
       "        vertical-align: middle;\n",
       "    }\n",
       "\n",
       "    .dataframe tbody tr th {\n",
       "        vertical-align: top;\n",
       "    }\n",
       "\n",
       "    .dataframe thead th {\n",
       "        text-align: right;\n",
       "    }\n",
       "</style>\n",
       "<table border=\"1\" class=\"dataframe\">\n",
       "  <thead>\n",
       "    <tr style=\"text-align: right;\">\n",
       "      <th></th>\n",
       "      <th>sample_date_string</th>\n",
       "      <th>shared_teks_by_upload_date</th>\n",
       "    </tr>\n",
       "  </thead>\n",
       "  <tbody>\n",
       "    <tr>\n",
       "      <th>80</th>\n",
       "      <td>2020-12-14</td>\n",
       "      <td>24378.0</td>\n",
       "    </tr>\n",
       "    <tr>\n",
       "      <th>81</th>\n",
       "      <td>2020-12-15</td>\n",
       "      <td>18196.0</td>\n",
       "    </tr>\n",
       "    <tr>\n",
       "      <th>82</th>\n",
       "      <td>2020-12-16</td>\n",
       "      <td>59480.0</td>\n",
       "    </tr>\n",
       "    <tr>\n",
       "      <th>83</th>\n",
       "      <td>2020-12-17</td>\n",
       "      <td>50571.0</td>\n",
       "    </tr>\n",
       "    <tr>\n",
       "      <th>84</th>\n",
       "      <td>2020-12-18</td>\n",
       "      <td>73609.0</td>\n",
       "    </tr>\n",
       "  </tbody>\n",
       "</table>\n",
       "</div>"
      ],
      "text/plain": [
       "   sample_date_string  shared_teks_by_upload_date\n",
       "80         2020-12-14                     24378.0\n",
       "81         2020-12-15                     18196.0\n",
       "82         2020-12-16                     59480.0\n",
       "83         2020-12-17                     50571.0\n",
       "84         2020-12-18                     73609.0"
      ]
     },
     "execution_count": 36,
     "metadata": {},
     "output_type": "execute_result"
    }
   ],
   "source": [
    "new_tek_df = tek_list_df.diff().tek_list.apply(\n",
    "    lambda x: len(x) if not pd.isna(x) else None).to_frame().reset_index()\n",
    "new_tek_df.rename(columns={\n",
    "    \"tek_list\": \"shared_teks_by_upload_date\",\n",
    "    \"extraction_date\": \"sample_date_string\",}, inplace=True)\n",
    "new_tek_df.tail()"
   ]
  },
  {
   "cell_type": "code",
   "execution_count": 37,
   "metadata": {
    "collapsed": false,
    "execution": {
     "iopub.execute_input": "2020-12-18T23:31:15.927774Z",
     "iopub.status.busy": "2020-12-18T23:31:15.921698Z",
     "iopub.status.idle": "2020-12-18T23:31:15.932577Z",
     "shell.execute_reply": "2020-12-18T23:31:15.932992Z"
    },
    "papermill": {
     "duration": 0.068022,
     "end_time": "2020-12-18T23:31:15.933124",
     "exception": false,
     "start_time": "2020-12-18T23:31:15.865102",
     "status": "completed"
    },
    "pycharm": {
     "name": "#%%\n"
    },
    "tags": []
   },
   "outputs": [
    {
     "data": {
      "text/html": [
       "<div>\n",
       "<style scoped>\n",
       "    .dataframe tbody tr th:only-of-type {\n",
       "        vertical-align: middle;\n",
       "    }\n",
       "\n",
       "    .dataframe tbody tr th {\n",
       "        vertical-align: top;\n",
       "    }\n",
       "\n",
       "    .dataframe thead th {\n",
       "        text-align: right;\n",
       "    }\n",
       "</style>\n",
       "<table border=\"1\" class=\"dataframe\">\n",
       "  <thead>\n",
       "    <tr style=\"text-align: right;\">\n",
       "      <th></th>\n",
       "      <th>sample_date_string</th>\n",
       "      <th>shared_teks_uploaded_on_generation_date</th>\n",
       "    </tr>\n",
       "  </thead>\n",
       "  <tbody>\n",
       "    <tr>\n",
       "      <th>92</th>\n",
       "      <td>2020-12-18</td>\n",
       "      <td>355</td>\n",
       "    </tr>\n",
       "    <tr>\n",
       "      <th>92</th>\n",
       "      <td>2020-12-17</td>\n",
       "      <td>295</td>\n",
       "    </tr>\n",
       "    <tr>\n",
       "      <th>92</th>\n",
       "      <td>2020-12-16</td>\n",
       "      <td>299</td>\n",
       "    </tr>\n",
       "    <tr>\n",
       "      <th>92</th>\n",
       "      <td>2020-12-15</td>\n",
       "      <td>168</td>\n",
       "    </tr>\n",
       "    <tr>\n",
       "      <th>92</th>\n",
       "      <td>2020-12-14</td>\n",
       "      <td>181</td>\n",
       "    </tr>\n",
       "  </tbody>\n",
       "</table>\n",
       "</div>"
      ],
      "text/plain": [
       "   sample_date_string  shared_teks_uploaded_on_generation_date\n",
       "92         2020-12-18                                      355\n",
       "92         2020-12-17                                      295\n",
       "92         2020-12-16                                      299\n",
       "92         2020-12-15                                      168\n",
       "92         2020-12-14                                      181"
      ]
     },
     "execution_count": 37,
     "metadata": {},
     "output_type": "execute_result"
    }
   ],
   "source": [
    "shared_teks_uploaded_on_generation_date_df = shared_teks_generation_to_upload_df[\n",
    "    shared_teks_generation_to_upload_df.generation_to_upload_days == 0] \\\n",
    "    [[\"upload_date\", \"shared_teks\"]].rename(\n",
    "    columns={\n",
    "        \"upload_date\": \"sample_date_string\",\n",
    "        \"shared_teks\": \"shared_teks_uploaded_on_generation_date\",\n",
    "    })\n",
    "shared_teks_uploaded_on_generation_date_df.head()"
   ]
  },
  {
   "cell_type": "code",
   "execution_count": 38,
   "metadata": {
    "collapsed": false,
    "execution": {
     "iopub.execute_input": "2020-12-18T23:31:16.047857Z",
     "iopub.status.busy": "2020-12-18T23:31:16.045154Z",
     "iopub.status.idle": "2020-12-18T23:31:16.057501Z",
     "shell.execute_reply": "2020-12-18T23:31:16.057034Z"
    },
    "papermill": {
     "duration": 0.074761,
     "end_time": "2020-12-18T23:31:16.057625",
     "exception": false,
     "start_time": "2020-12-18T23:31:15.982864",
     "status": "completed"
    },
    "pycharm": {
     "name": "#%%\n"
    },
    "tags": []
   },
   "outputs": [
    {
     "data": {
      "text/html": [
       "<div>\n",
       "<style scoped>\n",
       "    .dataframe tbody tr th:only-of-type {\n",
       "        vertical-align: middle;\n",
       "    }\n",
       "\n",
       "    .dataframe tbody tr th {\n",
       "        vertical-align: top;\n",
       "    }\n",
       "\n",
       "    .dataframe thead th {\n",
       "        text-align: right;\n",
       "    }\n",
       "</style>\n",
       "<table border=\"1\" class=\"dataframe\">\n",
       "  <thead>\n",
       "    <tr style=\"text-align: right;\">\n",
       "      <th></th>\n",
       "      <th>sample_date_string</th>\n",
       "      <th>shared_diagnoses</th>\n",
       "    </tr>\n",
       "  </thead>\n",
       "  <tbody>\n",
       "    <tr>\n",
       "      <th>83</th>\n",
       "      <td>2020-12-18</td>\n",
       "      <td>7851</td>\n",
       "    </tr>\n",
       "    <tr>\n",
       "      <th>82</th>\n",
       "      <td>2020-12-17</td>\n",
       "      <td>4690</td>\n",
       "    </tr>\n",
       "    <tr>\n",
       "      <th>81</th>\n",
       "      <td>2020-12-16</td>\n",
       "      <td>5725</td>\n",
       "    </tr>\n",
       "    <tr>\n",
       "      <th>80</th>\n",
       "      <td>2020-12-15</td>\n",
       "      <td>1752</td>\n",
       "    </tr>\n",
       "    <tr>\n",
       "      <th>79</th>\n",
       "      <td>2020-12-14</td>\n",
       "      <td>2282</td>\n",
       "    </tr>\n",
       "  </tbody>\n",
       "</table>\n",
       "</div>"
      ],
      "text/plain": [
       "   sample_date_string  shared_diagnoses\n",
       "83         2020-12-18              7851\n",
       "82         2020-12-17              4690\n",
       "81         2020-12-16              5725\n",
       "80         2020-12-15              1752\n",
       "79         2020-12-14              2282"
      ]
     },
     "execution_count": 38,
     "metadata": {},
     "output_type": "execute_result"
    }
   ],
   "source": [
    "estimated_shared_diagnoses_df = shared_teks_generation_to_upload_df \\\n",
    "    .groupby([\"upload_date\"]).shared_teks.max().reset_index() \\\n",
    "    .sort_values([\"upload_date\"], ascending=False) \\\n",
    "    .rename(columns={\n",
    "        \"upload_date\": \"sample_date_string\",\n",
    "        \"shared_teks\": \"shared_diagnoses\",\n",
    "    })\n",
    "invalid_shared_diagnoses_dates_mask = \\\n",
    "    estimated_shared_diagnoses_df.sample_date_string.isin(invalid_shared_diagnoses_dates)\n",
    "estimated_shared_diagnoses_df[invalid_shared_diagnoses_dates_mask] = 0\n",
    "estimated_shared_diagnoses_df.head()"
   ]
  },
  {
   "cell_type": "markdown",
   "metadata": {
    "papermill": {
     "duration": 0.0695,
     "end_time": "2020-12-18T23:31:16.188305",
     "exception": false,
     "start_time": "2020-12-18T23:31:16.118805",
     "status": "completed"
    },
    "pycharm": {
     "name": "#%% md\n"
    },
    "tags": []
   },
   "source": [
    "### Hourly New TEKs"
   ]
  },
  {
   "cell_type": "code",
   "execution_count": 39,
   "metadata": {
    "execution": {
     "iopub.execute_input": "2020-12-18T23:31:16.314552Z",
     "iopub.status.busy": "2020-12-18T23:31:16.314018Z",
     "iopub.status.idle": "2020-12-18T23:31:28.249689Z",
     "shell.execute_reply": "2020-12-18T23:31:28.248890Z"
    },
    "papermill": {
     "duration": 12.007961,
     "end_time": "2020-12-18T23:31:28.249815",
     "exception": false,
     "start_time": "2020-12-18T23:31:16.241854",
     "status": "completed"
    },
    "pycharm": {
     "name": "#%%\n"
    },
    "tags": []
   },
   "outputs": [
    {
     "data": {
      "text/html": [
       "<div>\n",
       "<style scoped>\n",
       "    .dataframe tbody tr th:only-of-type {\n",
       "        vertical-align: middle;\n",
       "    }\n",
       "\n",
       "    .dataframe tbody tr th {\n",
       "        vertical-align: top;\n",
       "    }\n",
       "\n",
       "    .dataframe thead th {\n",
       "        text-align: right;\n",
       "    }\n",
       "</style>\n",
       "<table border=\"1\" class=\"dataframe\">\n",
       "  <thead>\n",
       "    <tr style=\"text-align: right;\">\n",
       "      <th></th>\n",
       "      <th>region</th>\n",
       "      <th>sample_date</th>\n",
       "      <th>tek_list</th>\n",
       "      <th>extraction_date</th>\n",
       "      <th>extraction_date_with_hour</th>\n",
       "    </tr>\n",
       "  </thead>\n",
       "  <tbody>\n",
       "    <tr>\n",
       "      <th>3</th>\n",
       "      <td>ES</td>\n",
       "      <td>2020-12-05</td>\n",
       "      <td>[4cc3ee78-23d9-da63-cfcc-909dcd21b7a2, 99fd441...</td>\n",
       "      <td>2020-12-18</td>\n",
       "      <td>2020-12-18@23</td>\n",
       "    </tr>\n",
       "    <tr>\n",
       "      <th>10</th>\n",
       "      <td>ES</td>\n",
       "      <td>2020-12-06</td>\n",
       "      <td>[7e2237e4-9d3f-b388-28af-71016b9bf16c, d44148d...</td>\n",
       "      <td>2020-12-18</td>\n",
       "      <td>2020-12-18@23</td>\n",
       "    </tr>\n",
       "    <tr>\n",
       "      <th>17</th>\n",
       "      <td>ES</td>\n",
       "      <td>2020-12-07</td>\n",
       "      <td>[0db0bc77-5246-f7e8-fbe1-7b4cb001279e, 0226a9b...</td>\n",
       "      <td>2020-12-18</td>\n",
       "      <td>2020-12-18@23</td>\n",
       "    </tr>\n",
       "    <tr>\n",
       "      <th>24</th>\n",
       "      <td>ES</td>\n",
       "      <td>2020-12-08</td>\n",
       "      <td>[bb2de289-0a9a-4453-a626-d4a72bba8782, ab425b6...</td>\n",
       "      <td>2020-12-18</td>\n",
       "      <td>2020-12-18@23</td>\n",
       "    </tr>\n",
       "    <tr>\n",
       "      <th>31</th>\n",
       "      <td>ES</td>\n",
       "      <td>2020-12-09</td>\n",
       "      <td>[0135d33a-fecf-eb3b-af26-849d49297790, e76e2e6...</td>\n",
       "      <td>2020-12-18</td>\n",
       "      <td>2020-12-18@23</td>\n",
       "    </tr>\n",
       "  </tbody>\n",
       "</table>\n",
       "</div>"
      ],
      "text/plain": [
       "   region sample_date                                           tek_list  \\\n",
       "3      ES  2020-12-05  [4cc3ee78-23d9-da63-cfcc-909dcd21b7a2, 99fd441...   \n",
       "10     ES  2020-12-06  [7e2237e4-9d3f-b388-28af-71016b9bf16c, d44148d...   \n",
       "17     ES  2020-12-07  [0db0bc77-5246-f7e8-fbe1-7b4cb001279e, 0226a9b...   \n",
       "24     ES  2020-12-08  [bb2de289-0a9a-4453-a626-d4a72bba8782, ab425b6...   \n",
       "31     ES  2020-12-09  [0135d33a-fecf-eb3b-af26-849d49297790, e76e2e6...   \n",
       "\n",
       "   extraction_date extraction_date_with_hour  \n",
       "3       2020-12-18             2020-12-18@23  \n",
       "10      2020-12-18             2020-12-18@23  \n",
       "17      2020-12-18             2020-12-18@23  \n",
       "24      2020-12-18             2020-12-18@23  \n",
       "31      2020-12-18             2020-12-18@23  "
      ]
     },
     "execution_count": 39,
     "metadata": {},
     "output_type": "execute_result"
    }
   ],
   "source": [
    "hourly_extracted_teks_df = load_extracted_teks(\n",
    "    mode=\"Hourly\", region=report_backend_identifier, limit=25)\n",
    "hourly_extracted_teks_df.head()"
   ]
  },
  {
   "cell_type": "code",
   "execution_count": 40,
   "metadata": {
    "collapsed": false,
    "execution": {
     "iopub.execute_input": "2020-12-18T23:31:28.362394Z",
     "iopub.status.busy": "2020-12-18T23:31:28.361883Z",
     "iopub.status.idle": "2020-12-18T23:31:30.683356Z",
     "shell.execute_reply": "2020-12-18T23:31:30.684170Z"
    },
    "papermill": {
     "duration": 2.379,
     "end_time": "2020-12-18T23:31:30.684413",
     "exception": false,
     "start_time": "2020-12-18T23:31:28.305413",
     "status": "completed"
    },
    "pycharm": {
     "name": "#%%\n"
    },
    "tags": []
   },
   "outputs": [
    {
     "data": {
      "text/html": [
       "<div>\n",
       "<style scoped>\n",
       "    .dataframe tbody tr th:only-of-type {\n",
       "        vertical-align: middle;\n",
       "    }\n",
       "\n",
       "    .dataframe tbody tr th {\n",
       "        vertical-align: top;\n",
       "    }\n",
       "\n",
       "    .dataframe thead th {\n",
       "        text-align: right;\n",
       "    }\n",
       "</style>\n",
       "<table border=\"1\" class=\"dataframe\">\n",
       "  <thead>\n",
       "    <tr style=\"text-align: right;\">\n",
       "      <th></th>\n",
       "      <th>extraction_date_with_hour</th>\n",
       "      <th>shared_teks_by_upload_date</th>\n",
       "    </tr>\n",
       "  </thead>\n",
       "  <tbody>\n",
       "    <tr>\n",
       "      <th>0</th>\n",
       "      <td>2020-12-17@21</td>\n",
       "      <td>0</td>\n",
       "    </tr>\n",
       "    <tr>\n",
       "      <th>1</th>\n",
       "      <td>2020-12-17@22</td>\n",
       "      <td>100</td>\n",
       "    </tr>\n",
       "    <tr>\n",
       "      <th>2</th>\n",
       "      <td>2020-12-17@23</td>\n",
       "      <td>0</td>\n",
       "    </tr>\n",
       "    <tr>\n",
       "      <th>3</th>\n",
       "      <td>2020-12-18@01</td>\n",
       "      <td>29</td>\n",
       "    </tr>\n",
       "    <tr>\n",
       "      <th>4</th>\n",
       "      <td>2020-12-18@02</td>\n",
       "      <td>13</td>\n",
       "    </tr>\n",
       "  </tbody>\n",
       "</table>\n",
       "</div>"
      ],
      "text/plain": [
       "  extraction_date_with_hour  shared_teks_by_upload_date\n",
       "0             2020-12-17@21                           0\n",
       "1             2020-12-17@22                         100\n",
       "2             2020-12-17@23                           0\n",
       "3             2020-12-18@01                          29\n",
       "4             2020-12-18@02                          13"
      ]
     },
     "execution_count": 40,
     "metadata": {},
     "output_type": "execute_result"
    }
   ],
   "source": [
    "hourly_new_tek_count_df = hourly_extracted_teks_df \\\n",
    "    .groupby(\"extraction_date_with_hour\").tek_list. \\\n",
    "    apply(lambda x: set(sum(x, []))).reset_index().copy()\n",
    "hourly_new_tek_count_df = hourly_new_tek_count_df.set_index(\"extraction_date_with_hour\") \\\n",
    "    .sort_index(ascending=True)\n",
    "\n",
    "hourly_new_tek_count_df[\"new_tek_list\"] = hourly_new_tek_count_df.tek_list.diff()\n",
    "hourly_new_tek_count_df[\"new_tek_count\"] = hourly_new_tek_count_df.new_tek_list.apply(\n",
    "    lambda x: len(x) if not pd.isna(x) else 0)\n",
    "hourly_new_tek_count_df.rename(columns={\n",
    "    \"new_tek_count\": \"shared_teks_by_upload_date\"}, inplace=True)\n",
    "hourly_new_tek_count_df = hourly_new_tek_count_df.reset_index()[[\n",
    "    \"extraction_date_with_hour\", \"shared_teks_by_upload_date\"]]\n",
    "hourly_new_tek_count_df.head()"
   ]
  },
  {
   "cell_type": "code",
   "execution_count": 41,
   "metadata": {
    "collapsed": false,
    "execution": {
     "iopub.execute_input": "2020-12-18T23:31:30.813264Z",
     "iopub.status.busy": "2020-12-18T23:31:30.812693Z",
     "iopub.status.idle": "2020-12-18T23:31:30.815658Z",
     "shell.execute_reply": "2020-12-18T23:31:30.815219Z"
    },
    "papermill": {
     "duration": 0.072991,
     "end_time": "2020-12-18T23:31:30.815778",
     "exception": false,
     "start_time": "2020-12-18T23:31:30.742787",
     "status": "completed"
    },
    "pycharm": {
     "name": "#%%\n"
    },
    "tags": []
   },
   "outputs": [
    {
     "data": {
      "text/html": [
       "<div>\n",
       "<style scoped>\n",
       "    .dataframe tbody tr th:only-of-type {\n",
       "        vertical-align: middle;\n",
       "    }\n",
       "\n",
       "    .dataframe tbody tr th {\n",
       "        vertical-align: top;\n",
       "    }\n",
       "\n",
       "    .dataframe thead th {\n",
       "        text-align: right;\n",
       "    }\n",
       "</style>\n",
       "<table border=\"1\" class=\"dataframe\">\n",
       "  <thead>\n",
       "    <tr style=\"text-align: right;\">\n",
       "      <th></th>\n",
       "      <th>extraction_date_with_hour</th>\n",
       "      <th>shared_teks_by_upload_date</th>\n",
       "    </tr>\n",
       "    <tr>\n",
       "      <th>datetime_utc</th>\n",
       "      <th></th>\n",
       "      <th></th>\n",
       "    </tr>\n",
       "  </thead>\n",
       "  <tbody>\n",
       "    <tr>\n",
       "      <th>2020-12-17 22:00:00</th>\n",
       "      <td>2020-12-17@22</td>\n",
       "      <td>100</td>\n",
       "    </tr>\n",
       "    <tr>\n",
       "      <th>2020-12-17 23:00:00</th>\n",
       "      <td>2020-12-17@23</td>\n",
       "      <td>0</td>\n",
       "    </tr>\n",
       "    <tr>\n",
       "      <th>2020-12-18 01:00:00</th>\n",
       "      <td>2020-12-18@01</td>\n",
       "      <td>29</td>\n",
       "    </tr>\n",
       "    <tr>\n",
       "      <th>2020-12-18 02:00:00</th>\n",
       "      <td>2020-12-18@02</td>\n",
       "      <td>13</td>\n",
       "    </tr>\n",
       "    <tr>\n",
       "      <th>2020-12-18 03:00:00</th>\n",
       "      <td>2020-12-18@03</td>\n",
       "      <td>0</td>\n",
       "    </tr>\n",
       "  </tbody>\n",
       "</table>\n",
       "</div>"
      ],
      "text/plain": [
       "                    extraction_date_with_hour  shared_teks_by_upload_date\n",
       "datetime_utc                                                             \n",
       "2020-12-17 22:00:00             2020-12-17@22                         100\n",
       "2020-12-17 23:00:00             2020-12-17@23                           0\n",
       "2020-12-18 01:00:00             2020-12-18@01                          29\n",
       "2020-12-18 02:00:00             2020-12-18@02                          13\n",
       "2020-12-18 03:00:00             2020-12-18@03                           0"
      ]
     },
     "execution_count": 41,
     "metadata": {},
     "output_type": "execute_result"
    }
   ],
   "source": [
    "hourly_summary_df = hourly_new_tek_count_df.copy()\n",
    "hourly_summary_df.set_index(\"extraction_date_with_hour\", inplace=True)\n",
    "hourly_summary_df = hourly_summary_df.fillna(0).astype(int).reset_index()\n",
    "hourly_summary_df[\"datetime_utc\"] = pd.to_datetime(\n",
    "    hourly_summary_df.extraction_date_with_hour, format=\"%Y-%m-%d@%H\")\n",
    "hourly_summary_df.set_index(\"datetime_utc\", inplace=True)\n",
    "hourly_summary_df = hourly_summary_df.tail(-1)\n",
    "hourly_summary_df.head()"
   ]
  },
  {
   "cell_type": "markdown",
   "metadata": {
    "collapsed": false,
    "papermill": {
     "duration": 0.054657,
     "end_time": "2020-12-18T23:31:30.925447",
     "exception": false,
     "start_time": "2020-12-18T23:31:30.870790",
     "status": "completed"
    },
    "tags": []
   },
   "source": [
    "### Data Merge"
   ]
  },
  {
   "cell_type": "code",
   "execution_count": 42,
   "metadata": {
    "collapsed": false,
    "execution": {
     "iopub.execute_input": "2020-12-18T23:31:31.048220Z",
     "iopub.status.busy": "2020-12-18T23:31:31.047657Z",
     "iopub.status.idle": "2020-12-18T23:31:31.050992Z",
     "shell.execute_reply": "2020-12-18T23:31:31.050550Z"
    },
    "papermill": {
     "duration": 0.07373,
     "end_time": "2020-12-18T23:31:31.051119",
     "exception": false,
     "start_time": "2020-12-18T23:31:30.977389",
     "status": "completed"
    },
    "pycharm": {
     "name": "#%%\n"
    },
    "tags": []
   },
   "outputs": [
    {
     "data": {
      "text/html": [
       "<div>\n",
       "<style scoped>\n",
       "    .dataframe tbody tr th:only-of-type {\n",
       "        vertical-align: middle;\n",
       "    }\n",
       "\n",
       "    .dataframe tbody tr th {\n",
       "        vertical-align: top;\n",
       "    }\n",
       "\n",
       "    .dataframe thead th {\n",
       "        text-align: right;\n",
       "    }\n",
       "</style>\n",
       "<table border=\"1\" class=\"dataframe\">\n",
       "  <thead>\n",
       "    <tr style=\"text-align: right;\">\n",
       "      <th></th>\n",
       "      <th>sample_date_string</th>\n",
       "      <th>shared_teks_by_generation_date</th>\n",
       "      <th>shared_teks_by_upload_date</th>\n",
       "    </tr>\n",
       "  </thead>\n",
       "  <tbody>\n",
       "    <tr>\n",
       "      <th>0</th>\n",
       "      <td>2020-12-18</td>\n",
       "      <td>355</td>\n",
       "      <td>73609.0</td>\n",
       "    </tr>\n",
       "    <tr>\n",
       "      <th>1</th>\n",
       "      <td>2020-12-17</td>\n",
       "      <td>5160</td>\n",
       "      <td>50571.0</td>\n",
       "    </tr>\n",
       "    <tr>\n",
       "      <th>2</th>\n",
       "      <td>2020-12-16</td>\n",
       "      <td>10917</td>\n",
       "      <td>59480.0</td>\n",
       "    </tr>\n",
       "    <tr>\n",
       "      <th>3</th>\n",
       "      <td>2020-12-15</td>\n",
       "      <td>15550</td>\n",
       "      <td>18196.0</td>\n",
       "    </tr>\n",
       "    <tr>\n",
       "      <th>4</th>\n",
       "      <td>2020-12-14</td>\n",
       "      <td>18913</td>\n",
       "      <td>24378.0</td>\n",
       "    </tr>\n",
       "  </tbody>\n",
       "</table>\n",
       "</div>"
      ],
      "text/plain": [
       "  sample_date_string  shared_teks_by_generation_date  \\\n",
       "0         2020-12-18                             355   \n",
       "1         2020-12-17                            5160   \n",
       "2         2020-12-16                           10917   \n",
       "3         2020-12-15                           15550   \n",
       "4         2020-12-14                           18913   \n",
       "\n",
       "   shared_teks_by_upload_date  \n",
       "0                     73609.0  \n",
       "1                     50571.0  \n",
       "2                     59480.0  \n",
       "3                     18196.0  \n",
       "4                     24378.0  "
      ]
     },
     "execution_count": 42,
     "metadata": {},
     "output_type": "execute_result"
    }
   ],
   "source": [
    "result_summary_df = exposure_keys_summary_df.merge(\n",
    "    new_tek_df, on=[\"sample_date_string\"], how=\"outer\")\n",
    "result_summary_df.head()"
   ]
  },
  {
   "cell_type": "code",
   "execution_count": 43,
   "metadata": {
    "collapsed": false,
    "execution": {
     "iopub.execute_input": "2020-12-18T23:31:31.177220Z",
     "iopub.status.busy": "2020-12-18T23:31:31.176655Z",
     "iopub.status.idle": "2020-12-18T23:31:31.178729Z",
     "shell.execute_reply": "2020-12-18T23:31:31.179129Z"
    },
    "papermill": {
     "duration": 0.071034,
     "end_time": "2020-12-18T23:31:31.179289",
     "exception": false,
     "start_time": "2020-12-18T23:31:31.108255",
     "status": "completed"
    },
    "pycharm": {
     "name": "#%%\n"
    },
    "tags": []
   },
   "outputs": [
    {
     "data": {
      "text/html": [
       "<div>\n",
       "<style scoped>\n",
       "    .dataframe tbody tr th:only-of-type {\n",
       "        vertical-align: middle;\n",
       "    }\n",
       "\n",
       "    .dataframe tbody tr th {\n",
       "        vertical-align: top;\n",
       "    }\n",
       "\n",
       "    .dataframe thead th {\n",
       "        text-align: right;\n",
       "    }\n",
       "</style>\n",
       "<table border=\"1\" class=\"dataframe\">\n",
       "  <thead>\n",
       "    <tr style=\"text-align: right;\">\n",
       "      <th></th>\n",
       "      <th>sample_date_string</th>\n",
       "      <th>shared_teks_by_generation_date</th>\n",
       "      <th>shared_teks_by_upload_date</th>\n",
       "      <th>shared_teks_uploaded_on_generation_date</th>\n",
       "    </tr>\n",
       "  </thead>\n",
       "  <tbody>\n",
       "    <tr>\n",
       "      <th>0</th>\n",
       "      <td>2020-12-18</td>\n",
       "      <td>355</td>\n",
       "      <td>73609.0</td>\n",
       "      <td>355.0</td>\n",
       "    </tr>\n",
       "    <tr>\n",
       "      <th>1</th>\n",
       "      <td>2020-12-17</td>\n",
       "      <td>5160</td>\n",
       "      <td>50571.0</td>\n",
       "      <td>295.0</td>\n",
       "    </tr>\n",
       "    <tr>\n",
       "      <th>2</th>\n",
       "      <td>2020-12-16</td>\n",
       "      <td>10917</td>\n",
       "      <td>59480.0</td>\n",
       "      <td>299.0</td>\n",
       "    </tr>\n",
       "    <tr>\n",
       "      <th>3</th>\n",
       "      <td>2020-12-15</td>\n",
       "      <td>15550</td>\n",
       "      <td>18196.0</td>\n",
       "      <td>168.0</td>\n",
       "    </tr>\n",
       "    <tr>\n",
       "      <th>4</th>\n",
       "      <td>2020-12-14</td>\n",
       "      <td>18913</td>\n",
       "      <td>24378.0</td>\n",
       "      <td>181.0</td>\n",
       "    </tr>\n",
       "  </tbody>\n",
       "</table>\n",
       "</div>"
      ],
      "text/plain": [
       "  sample_date_string  shared_teks_by_generation_date  \\\n",
       "0         2020-12-18                             355   \n",
       "1         2020-12-17                            5160   \n",
       "2         2020-12-16                           10917   \n",
       "3         2020-12-15                           15550   \n",
       "4         2020-12-14                           18913   \n",
       "\n",
       "   shared_teks_by_upload_date  shared_teks_uploaded_on_generation_date  \n",
       "0                     73609.0                                    355.0  \n",
       "1                     50571.0                                    295.0  \n",
       "2                     59480.0                                    299.0  \n",
       "3                     18196.0                                    168.0  \n",
       "4                     24378.0                                    181.0  "
      ]
     },
     "execution_count": 43,
     "metadata": {},
     "output_type": "execute_result"
    }
   ],
   "source": [
    "result_summary_df = result_summary_df.merge(\n",
    "    shared_teks_uploaded_on_generation_date_df, on=[\"sample_date_string\"], how=\"outer\")\n",
    "result_summary_df.head()"
   ]
  },
  {
   "cell_type": "code",
   "execution_count": 44,
   "metadata": {
    "collapsed": false,
    "execution": {
     "iopub.execute_input": "2020-12-18T23:31:31.308365Z",
     "iopub.status.busy": "2020-12-18T23:31:31.307856Z",
     "iopub.status.idle": "2020-12-18T23:31:31.310596Z",
     "shell.execute_reply": "2020-12-18T23:31:31.311006Z"
    },
    "papermill": {
     "duration": 0.074222,
     "end_time": "2020-12-18T23:31:31.311146",
     "exception": false,
     "start_time": "2020-12-18T23:31:31.236924",
     "status": "completed"
    },
    "pycharm": {
     "name": "#%%\n"
    },
    "tags": []
   },
   "outputs": [
    {
     "data": {
      "text/html": [
       "<div>\n",
       "<style scoped>\n",
       "    .dataframe tbody tr th:only-of-type {\n",
       "        vertical-align: middle;\n",
       "    }\n",
       "\n",
       "    .dataframe tbody tr th {\n",
       "        vertical-align: top;\n",
       "    }\n",
       "\n",
       "    .dataframe thead th {\n",
       "        text-align: right;\n",
       "    }\n",
       "</style>\n",
       "<table border=\"1\" class=\"dataframe\">\n",
       "  <thead>\n",
       "    <tr style=\"text-align: right;\">\n",
       "      <th></th>\n",
       "      <th>sample_date_string</th>\n",
       "      <th>shared_teks_by_generation_date</th>\n",
       "      <th>shared_teks_by_upload_date</th>\n",
       "      <th>shared_teks_uploaded_on_generation_date</th>\n",
       "      <th>shared_diagnoses</th>\n",
       "    </tr>\n",
       "  </thead>\n",
       "  <tbody>\n",
       "    <tr>\n",
       "      <th>0</th>\n",
       "      <td>2020-12-18</td>\n",
       "      <td>355.0</td>\n",
       "      <td>73609.0</td>\n",
       "      <td>355.0</td>\n",
       "      <td>7851.0</td>\n",
       "    </tr>\n",
       "    <tr>\n",
       "      <th>1</th>\n",
       "      <td>2020-12-17</td>\n",
       "      <td>5160.0</td>\n",
       "      <td>50571.0</td>\n",
       "      <td>295.0</td>\n",
       "      <td>4690.0</td>\n",
       "    </tr>\n",
       "    <tr>\n",
       "      <th>2</th>\n",
       "      <td>2020-12-16</td>\n",
       "      <td>10917.0</td>\n",
       "      <td>59480.0</td>\n",
       "      <td>299.0</td>\n",
       "      <td>5725.0</td>\n",
       "    </tr>\n",
       "    <tr>\n",
       "      <th>3</th>\n",
       "      <td>2020-12-15</td>\n",
       "      <td>15550.0</td>\n",
       "      <td>18196.0</td>\n",
       "      <td>168.0</td>\n",
       "      <td>1752.0</td>\n",
       "    </tr>\n",
       "    <tr>\n",
       "      <th>4</th>\n",
       "      <td>2020-12-14</td>\n",
       "      <td>18913.0</td>\n",
       "      <td>24378.0</td>\n",
       "      <td>181.0</td>\n",
       "      <td>2282.0</td>\n",
       "    </tr>\n",
       "  </tbody>\n",
       "</table>\n",
       "</div>"
      ],
      "text/plain": [
       "  sample_date_string  shared_teks_by_generation_date  \\\n",
       "0         2020-12-18                           355.0   \n",
       "1         2020-12-17                          5160.0   \n",
       "2         2020-12-16                         10917.0   \n",
       "3         2020-12-15                         15550.0   \n",
       "4         2020-12-14                         18913.0   \n",
       "\n",
       "   shared_teks_by_upload_date  shared_teks_uploaded_on_generation_date  \\\n",
       "0                     73609.0                                    355.0   \n",
       "1                     50571.0                                    295.0   \n",
       "2                     59480.0                                    299.0   \n",
       "3                     18196.0                                    168.0   \n",
       "4                     24378.0                                    181.0   \n",
       "\n",
       "   shared_diagnoses  \n",
       "0            7851.0  \n",
       "1            4690.0  \n",
       "2            5725.0  \n",
       "3            1752.0  \n",
       "4            2282.0  "
      ]
     },
     "execution_count": 44,
     "metadata": {},
     "output_type": "execute_result"
    }
   ],
   "source": [
    "result_summary_df = result_summary_df.merge(\n",
    "    estimated_shared_diagnoses_df, on=[\"sample_date_string\"], how=\"outer\")\n",
    "result_summary_df.head()"
   ]
  },
  {
   "cell_type": "code",
   "execution_count": 45,
   "metadata": {
    "collapsed": false,
    "execution": {
     "iopub.execute_input": "2020-12-18T23:31:31.433312Z",
     "iopub.status.busy": "2020-12-18T23:31:31.432773Z",
     "iopub.status.idle": "2020-12-18T23:31:31.442982Z",
     "shell.execute_reply": "2020-12-18T23:31:31.442537Z"
    },
    "papermill": {
     "duration": 0.074782,
     "end_time": "2020-12-18T23:31:31.443105",
     "exception": false,
     "start_time": "2020-12-18T23:31:31.368323",
     "status": "completed"
    },
    "pycharm": {
     "name": "#%%\n"
    },
    "tags": []
   },
   "outputs": [
    {
     "data": {
      "text/html": [
       "<div>\n",
       "<style scoped>\n",
       "    .dataframe tbody tr th:only-of-type {\n",
       "        vertical-align: middle;\n",
       "    }\n",
       "\n",
       "    .dataframe tbody tr th {\n",
       "        vertical-align: top;\n",
       "    }\n",
       "\n",
       "    .dataframe thead th {\n",
       "        text-align: right;\n",
       "    }\n",
       "</style>\n",
       "<table border=\"1\" class=\"dataframe\">\n",
       "  <thead>\n",
       "    <tr style=\"text-align: right;\">\n",
       "      <th></th>\n",
       "      <th>sample_date_string</th>\n",
       "      <th>new_cases</th>\n",
       "      <th>covid_cases</th>\n",
       "      <th>shared_teks_by_generation_date</th>\n",
       "      <th>shared_teks_by_upload_date</th>\n",
       "      <th>shared_teks_uploaded_on_generation_date</th>\n",
       "      <th>shared_diagnoses</th>\n",
       "    </tr>\n",
       "  </thead>\n",
       "  <tbody>\n",
       "    <tr>\n",
       "      <th>0</th>\n",
       "      <td>2020-09-26</td>\n",
       "      <td>0.0</td>\n",
       "      <td>10920.0</td>\n",
       "      <td>339.0</td>\n",
       "      <td>448.0</td>\n",
       "      <td>79.0</td>\n",
       "      <td>110.0</td>\n",
       "    </tr>\n",
       "    <tr>\n",
       "      <th>1</th>\n",
       "      <td>2020-09-27</td>\n",
       "      <td>0.0</td>\n",
       "      <td>10920.0</td>\n",
       "      <td>315.0</td>\n",
       "      <td>449.0</td>\n",
       "      <td>98.0</td>\n",
       "      <td>108.0</td>\n",
       "    </tr>\n",
       "    <tr>\n",
       "      <th>2</th>\n",
       "      <td>2020-09-28</td>\n",
       "      <td>31785.0</td>\n",
       "      <td>10971.0</td>\n",
       "      <td>269.0</td>\n",
       "      <td>211.0</td>\n",
       "      <td>44.0</td>\n",
       "      <td>54.0</td>\n",
       "    </tr>\n",
       "    <tr>\n",
       "      <th>3</th>\n",
       "      <td>2020-09-29</td>\n",
       "      <td>0.0</td>\n",
       "      <td>9428.0</td>\n",
       "      <td>265.0</td>\n",
       "      <td>178.0</td>\n",
       "      <td>32.0</td>\n",
       "      <td>44.0</td>\n",
       "    </tr>\n",
       "    <tr>\n",
       "      <th>4</th>\n",
       "      <td>2020-09-30</td>\n",
       "      <td>20922.0</td>\n",
       "      <td>10805.0</td>\n",
       "      <td>294.0</td>\n",
       "      <td>271.0</td>\n",
       "      <td>55.0</td>\n",
       "      <td>55.0</td>\n",
       "    </tr>\n",
       "  </tbody>\n",
       "</table>\n",
       "</div>"
      ],
      "text/plain": [
       "  sample_date_string  new_cases  covid_cases  shared_teks_by_generation_date  \\\n",
       "0         2020-09-26        0.0      10920.0                           339.0   \n",
       "1         2020-09-27        0.0      10920.0                           315.0   \n",
       "2         2020-09-28    31785.0      10971.0                           269.0   \n",
       "3         2020-09-29        0.0       9428.0                           265.0   \n",
       "4         2020-09-30    20922.0      10805.0                           294.0   \n",
       "\n",
       "   shared_teks_by_upload_date  shared_teks_uploaded_on_generation_date  \\\n",
       "0                       448.0                                     79.0   \n",
       "1                       449.0                                     98.0   \n",
       "2                       211.0                                     44.0   \n",
       "3                       178.0                                     32.0   \n",
       "4                       271.0                                     55.0   \n",
       "\n",
       "   shared_diagnoses  \n",
       "0             110.0  \n",
       "1             108.0  \n",
       "2              54.0  \n",
       "3              44.0  \n",
       "4              55.0  "
      ]
     },
     "execution_count": 45,
     "metadata": {},
     "output_type": "execute_result"
    }
   ],
   "source": [
    "result_summary_df = confirmed_df.tail(daily_summary_days).merge(\n",
    "    result_summary_df, on=[\"sample_date_string\"], how=\"left\")\n",
    "result_summary_df.head()"
   ]
  },
  {
   "cell_type": "code",
   "execution_count": 46,
   "metadata": {
    "collapsed": false,
    "execution": {
     "iopub.execute_input": "2020-12-18T23:31:31.565240Z",
     "iopub.status.busy": "2020-12-18T23:31:31.564732Z",
     "iopub.status.idle": "2020-12-18T23:31:31.601032Z",
     "shell.execute_reply": "2020-12-18T23:31:31.601465Z"
    },
    "papermill": {
     "duration": 0.100521,
     "end_time": "2020-12-18T23:31:31.601631",
     "exception": false,
     "start_time": "2020-12-18T23:31:31.501110",
     "status": "completed"
    },
    "pycharm": {
     "name": "#%%\n"
    },
    "tags": []
   },
   "outputs": [
    {
     "data": {
      "text/html": [
       "<div>\n",
       "<style scoped>\n",
       "    .dataframe tbody tr th:only-of-type {\n",
       "        vertical-align: middle;\n",
       "    }\n",
       "\n",
       "    .dataframe tbody tr th {\n",
       "        vertical-align: top;\n",
       "    }\n",
       "\n",
       "    .dataframe thead th {\n",
       "        text-align: right;\n",
       "    }\n",
       "</style>\n",
       "<table border=\"1\" class=\"dataframe\">\n",
       "  <thead>\n",
       "    <tr style=\"text-align: right;\">\n",
       "      <th></th>\n",
       "      <th></th>\n",
       "      <th>new_cases</th>\n",
       "      <th>covid_cases</th>\n",
       "      <th>shared_teks_by_generation_date</th>\n",
       "      <th>shared_teks_by_upload_date</th>\n",
       "      <th>shared_teks_uploaded_on_generation_date</th>\n",
       "      <th>shared_diagnoses</th>\n",
       "    </tr>\n",
       "    <tr>\n",
       "      <th>sample_date</th>\n",
       "      <th>source_regions</th>\n",
       "      <th></th>\n",
       "      <th></th>\n",
       "      <th></th>\n",
       "      <th></th>\n",
       "      <th></th>\n",
       "      <th></th>\n",
       "    </tr>\n",
       "  </thead>\n",
       "  <tbody>\n",
       "    <tr>\n",
       "      <th>2020-12-18</th>\n",
       "      <th>ES,DE,DK,HR,IE,IT,LV,NL,PL</th>\n",
       "      <td>94842.0</td>\n",
       "      <td>77479.0</td>\n",
       "      <td>355.0</td>\n",
       "      <td>73609.0</td>\n",
       "      <td>355.0</td>\n",
       "      <td>7851.0</td>\n",
       "    </tr>\n",
       "    <tr>\n",
       "      <th>2020-12-17</th>\n",
       "      <th>ES,DE,DK,HR,IE,IT,LV,NL,PL</th>\n",
       "      <td>94842.0</td>\n",
       "      <td>77479.0</td>\n",
       "      <td>5160.0</td>\n",
       "      <td>50571.0</td>\n",
       "      <td>295.0</td>\n",
       "      <td>4690.0</td>\n",
       "    </tr>\n",
       "    <tr>\n",
       "      <th>2020-12-16</th>\n",
       "      <th>ES,DE,DK,HR,IE,IT,LV,NL,PL</th>\n",
       "      <td>93581.0</td>\n",
       "      <td>76675.0</td>\n",
       "      <td>10917.0</td>\n",
       "      <td>59480.0</td>\n",
       "      <td>299.0</td>\n",
       "      <td>5725.0</td>\n",
       "    </tr>\n",
       "    <tr>\n",
       "      <th>2020-12-15</th>\n",
       "      <th>ES,DE,DK,HR,IE,IT,LV,NL,PL</th>\n",
       "      <td>78850.0</td>\n",
       "      <td>73941.0</td>\n",
       "      <td>15550.0</td>\n",
       "      <td>18196.0</td>\n",
       "      <td>168.0</td>\n",
       "      <td>1752.0</td>\n",
       "    </tr>\n",
       "    <tr>\n",
       "      <th>2020-12-14</th>\n",
       "      <th>ES,DE,DK,HR,IE,IT,LV,NL,PL</th>\n",
       "      <td>58482.0</td>\n",
       "      <td>71851.0</td>\n",
       "      <td>18913.0</td>\n",
       "      <td>24378.0</td>\n",
       "      <td>181.0</td>\n",
       "      <td>2282.0</td>\n",
       "    </tr>\n",
       "  </tbody>\n",
       "</table>\n",
       "</div>"
      ],
      "text/plain": [
       "                                        new_cases  covid_cases  \\\n",
       "sample_date source_regions                                       \n",
       "2020-12-18  ES,DE,DK,HR,IE,IT,LV,NL,PL    94842.0      77479.0   \n",
       "2020-12-17  ES,DE,DK,HR,IE,IT,LV,NL,PL    94842.0      77479.0   \n",
       "2020-12-16  ES,DE,DK,HR,IE,IT,LV,NL,PL    93581.0      76675.0   \n",
       "2020-12-15  ES,DE,DK,HR,IE,IT,LV,NL,PL    78850.0      73941.0   \n",
       "2020-12-14  ES,DE,DK,HR,IE,IT,LV,NL,PL    58482.0      71851.0   \n",
       "\n",
       "                                        shared_teks_by_generation_date  \\\n",
       "sample_date source_regions                                               \n",
       "2020-12-18  ES,DE,DK,HR,IE,IT,LV,NL,PL                           355.0   \n",
       "2020-12-17  ES,DE,DK,HR,IE,IT,LV,NL,PL                          5160.0   \n",
       "2020-12-16  ES,DE,DK,HR,IE,IT,LV,NL,PL                         10917.0   \n",
       "2020-12-15  ES,DE,DK,HR,IE,IT,LV,NL,PL                         15550.0   \n",
       "2020-12-14  ES,DE,DK,HR,IE,IT,LV,NL,PL                         18913.0   \n",
       "\n",
       "                                        shared_teks_by_upload_date  \\\n",
       "sample_date source_regions                                           \n",
       "2020-12-18  ES,DE,DK,HR,IE,IT,LV,NL,PL                     73609.0   \n",
       "2020-12-17  ES,DE,DK,HR,IE,IT,LV,NL,PL                     50571.0   \n",
       "2020-12-16  ES,DE,DK,HR,IE,IT,LV,NL,PL                     59480.0   \n",
       "2020-12-15  ES,DE,DK,HR,IE,IT,LV,NL,PL                     18196.0   \n",
       "2020-12-14  ES,DE,DK,HR,IE,IT,LV,NL,PL                     24378.0   \n",
       "\n",
       "                                        shared_teks_uploaded_on_generation_date  \\\n",
       "sample_date source_regions                                                        \n",
       "2020-12-18  ES,DE,DK,HR,IE,IT,LV,NL,PL                                    355.0   \n",
       "2020-12-17  ES,DE,DK,HR,IE,IT,LV,NL,PL                                    295.0   \n",
       "2020-12-16  ES,DE,DK,HR,IE,IT,LV,NL,PL                                    299.0   \n",
       "2020-12-15  ES,DE,DK,HR,IE,IT,LV,NL,PL                                    168.0   \n",
       "2020-12-14  ES,DE,DK,HR,IE,IT,LV,NL,PL                                    181.0   \n",
       "\n",
       "                                        shared_diagnoses  \n",
       "sample_date source_regions                                \n",
       "2020-12-18  ES,DE,DK,HR,IE,IT,LV,NL,PL            7851.0  \n",
       "2020-12-17  ES,DE,DK,HR,IE,IT,LV,NL,PL            4690.0  \n",
       "2020-12-16  ES,DE,DK,HR,IE,IT,LV,NL,PL            5725.0  \n",
       "2020-12-15  ES,DE,DK,HR,IE,IT,LV,NL,PL            1752.0  \n",
       "2020-12-14  ES,DE,DK,HR,IE,IT,LV,NL,PL            2282.0  "
      ]
     },
     "execution_count": 46,
     "metadata": {},
     "output_type": "execute_result"
    }
   ],
   "source": [
    "result_summary_df[\"sample_date\"] = pd.to_datetime(result_summary_df.sample_date_string)\n",
    "result_summary_df = result_summary_df.merge(source_regions_for_summary_df, how=\"left\")\n",
    "result_summary_df.set_index([\"sample_date\", \"source_regions\"], inplace=True)\n",
    "result_summary_df.drop(columns=[\"sample_date_string\"], inplace=True)\n",
    "result_summary_df.sort_index(ascending=False, inplace=True)\n",
    "result_summary_df.head()"
   ]
  },
  {
   "cell_type": "code",
   "execution_count": 47,
   "metadata": {
    "execution": {
     "iopub.execute_input": "2020-12-18T23:31:31.738982Z",
     "iopub.status.busy": "2020-12-18T23:31:31.738198Z",
     "iopub.status.idle": "2020-12-18T23:31:31.745147Z",
     "shell.execute_reply": "2020-12-18T23:31:31.744715Z"
    },
    "papermill": {
     "duration": 0.086981,
     "end_time": "2020-12-18T23:31:31.745265",
     "exception": false,
     "start_time": "2020-12-18T23:31:31.658284",
     "status": "completed"
    },
    "tags": []
   },
   "outputs": [
    {
     "data": {
      "text/html": [
       "<div>\n",
       "<style scoped>\n",
       "    .dataframe tbody tr th:only-of-type {\n",
       "        vertical-align: middle;\n",
       "    }\n",
       "\n",
       "    .dataframe tbody tr th {\n",
       "        vertical-align: top;\n",
       "    }\n",
       "\n",
       "    .dataframe thead th {\n",
       "        text-align: right;\n",
       "    }\n",
       "</style>\n",
       "<table border=\"1\" class=\"dataframe\">\n",
       "  <thead>\n",
       "    <tr style=\"text-align: right;\">\n",
       "      <th></th>\n",
       "      <th></th>\n",
       "      <th>new_cases</th>\n",
       "      <th>covid_cases</th>\n",
       "      <th>shared_teks_by_generation_date</th>\n",
       "      <th>shared_teks_by_upload_date</th>\n",
       "      <th>shared_teks_uploaded_on_generation_date</th>\n",
       "      <th>shared_diagnoses</th>\n",
       "      <th>teks_per_shared_diagnosis</th>\n",
       "      <th>shared_diagnoses_per_covid_case</th>\n",
       "    </tr>\n",
       "    <tr>\n",
       "      <th>sample_date</th>\n",
       "      <th>source_regions</th>\n",
       "      <th></th>\n",
       "      <th></th>\n",
       "      <th></th>\n",
       "      <th></th>\n",
       "      <th></th>\n",
       "      <th></th>\n",
       "      <th></th>\n",
       "      <th></th>\n",
       "    </tr>\n",
       "  </thead>\n",
       "  <tbody>\n",
       "    <tr>\n",
       "      <th>2020-12-18</th>\n",
       "      <th>ES,DE,DK,HR,IE,IT,LV,NL,PL</th>\n",
       "      <td>94842</td>\n",
       "      <td>77479</td>\n",
       "      <td>355</td>\n",
       "      <td>73609</td>\n",
       "      <td>355</td>\n",
       "      <td>7851</td>\n",
       "      <td>9.375748</td>\n",
       "      <td>0.101331</td>\n",
       "    </tr>\n",
       "    <tr>\n",
       "      <th>2020-12-17</th>\n",
       "      <th>ES,DE,DK,HR,IE,IT,LV,NL,PL</th>\n",
       "      <td>94842</td>\n",
       "      <td>77479</td>\n",
       "      <td>5160</td>\n",
       "      <td>50571</td>\n",
       "      <td>295</td>\n",
       "      <td>4690</td>\n",
       "      <td>10.782729</td>\n",
       "      <td>0.060533</td>\n",
       "    </tr>\n",
       "    <tr>\n",
       "      <th>2020-12-16</th>\n",
       "      <th>ES,DE,DK,HR,IE,IT,LV,NL,PL</th>\n",
       "      <td>93581</td>\n",
       "      <td>76675</td>\n",
       "      <td>10917</td>\n",
       "      <td>59480</td>\n",
       "      <td>299</td>\n",
       "      <td>5725</td>\n",
       "      <td>10.389520</td>\n",
       "      <td>0.074666</td>\n",
       "    </tr>\n",
       "    <tr>\n",
       "      <th>2020-12-15</th>\n",
       "      <th>ES,DE,DK,HR,IE,IT,LV,NL,PL</th>\n",
       "      <td>78850</td>\n",
       "      <td>73941</td>\n",
       "      <td>15550</td>\n",
       "      <td>18196</td>\n",
       "      <td>168</td>\n",
       "      <td>1752</td>\n",
       "      <td>10.385845</td>\n",
       "      <td>0.023695</td>\n",
       "    </tr>\n",
       "    <tr>\n",
       "      <th>2020-12-14</th>\n",
       "      <th>ES,DE,DK,HR,IE,IT,LV,NL,PL</th>\n",
       "      <td>58482</td>\n",
       "      <td>71851</td>\n",
       "      <td>18913</td>\n",
       "      <td>24378</td>\n",
       "      <td>181</td>\n",
       "      <td>2282</td>\n",
       "      <td>10.682734</td>\n",
       "      <td>0.031760</td>\n",
       "    </tr>\n",
       "    <tr>\n",
       "      <th>2020-12-13</th>\n",
       "      <th>ES,DE,DK,HR,IE,IT,LV,NL,PL</th>\n",
       "      <td>58625</td>\n",
       "      <td>71028</td>\n",
       "      <td>20060</td>\n",
       "      <td>27102</td>\n",
       "      <td>96</td>\n",
       "      <td>2712</td>\n",
       "      <td>9.993363</td>\n",
       "      <td>0.038182</td>\n",
       "    </tr>\n",
       "    <tr>\n",
       "      <th>2020-12-12</th>\n",
       "      <th>ES,DE,DK,HR,IE,IT,LV,NL,PL</th>\n",
       "      <td>70972</td>\n",
       "      <td>69990</td>\n",
       "      <td>21289</td>\n",
       "      <td>38739</td>\n",
       "      <td>208</td>\n",
       "      <td>3729</td>\n",
       "      <td>10.388576</td>\n",
       "      <td>0.053279</td>\n",
       "    </tr>\n",
       "    <tr>\n",
       "      <th>2020-12-11</th>\n",
       "      <th>ES,DE,DK,HR,IE,IT,LV,NL,PL</th>\n",
       "      <td>87002</td>\n",
       "      <td>70384</td>\n",
       "      <td>23841</td>\n",
       "      <td>44911</td>\n",
       "      <td>258</td>\n",
       "      <td>4215</td>\n",
       "      <td>10.655042</td>\n",
       "      <td>0.059886</td>\n",
       "    </tr>\n",
       "    <tr>\n",
       "      <th>2020-12-10</th>\n",
       "      <th>ES,DE,DK,HR,IE,IT,LV,NL,PL</th>\n",
       "      <td>89212</td>\n",
       "      <td>68616</td>\n",
       "      <td>26595</td>\n",
       "      <td>40322</td>\n",
       "      <td>207</td>\n",
       "      <td>3754</td>\n",
       "      <td>10.741076</td>\n",
       "      <td>0.054710</td>\n",
       "    </tr>\n",
       "    <tr>\n",
       "      <th>2020-12-09</th>\n",
       "      <th>ES,DE,DK,HR,IE,IT,LV,NL,PL</th>\n",
       "      <td>74442</td>\n",
       "      <td>67982</td>\n",
       "      <td>29039</td>\n",
       "      <td>43004</td>\n",
       "      <td>117</td>\n",
       "      <td>4014</td>\n",
       "      <td>10.713503</td>\n",
       "      <td>0.059045</td>\n",
       "    </tr>\n",
       "    <tr>\n",
       "      <th>2020-12-08</th>\n",
       "      <th>ES,DE,DK,HR,IE,IT,LV,NL,PL</th>\n",
       "      <td>64223</td>\n",
       "      <td>68538</td>\n",
       "      <td>31652</td>\n",
       "      <td>30102</td>\n",
       "      <td>121</td>\n",
       "      <td>2641</td>\n",
       "      <td>11.397955</td>\n",
       "      <td>0.038533</td>\n",
       "    </tr>\n",
       "    <tr>\n",
       "      <th>2020-12-07</th>\n",
       "      <th>ES,DE,DK,HR,IE,IT,LV,NL,PL</th>\n",
       "      <td>52720</td>\n",
       "      <td>69494</td>\n",
       "      <td>31560</td>\n",
       "      <td>20104</td>\n",
       "      <td>116</td>\n",
       "      <td>1823</td>\n",
       "      <td>11.027976</td>\n",
       "      <td>0.026232</td>\n",
       "    </tr>\n",
       "    <tr>\n",
       "      <th>2020-12-06</th>\n",
       "      <th>ES,DE,DK,HR,IE,IT,LV,NL,PL</th>\n",
       "      <td>51357</td>\n",
       "      <td>71144</td>\n",
       "      <td>30384</td>\n",
       "      <td>17206</td>\n",
       "      <td>152</td>\n",
       "      <td>1707</td>\n",
       "      <td>10.079672</td>\n",
       "      <td>0.023994</td>\n",
       "    </tr>\n",
       "    <tr>\n",
       "      <th>2020-12-05</th>\n",
       "      <th>ES,DE,DK,HR,IE,IT,LV,NL,PL</th>\n",
       "      <td>73732</td>\n",
       "      <td>70329</td>\n",
       "      <td>29973</td>\n",
       "      <td>106219</td>\n",
       "      <td>167</td>\n",
       "      <td>0</td>\n",
       "      <td>0.000000</td>\n",
       "      <td>0.000000</td>\n",
       "    </tr>\n",
       "    <tr>\n",
       "      <th>2020-12-04</th>\n",
       "      <th>ES</th>\n",
       "      <td>8745</td>\n",
       "      <td>8063</td>\n",
       "      <td>34098</td>\n",
       "      <td>794</td>\n",
       "      <td>158</td>\n",
       "      <td>188</td>\n",
       "      <td>4.223404</td>\n",
       "      <td>0.023316</td>\n",
       "    </tr>\n",
       "    <tr>\n",
       "      <th>2020-12-03</th>\n",
       "      <th>ES</th>\n",
       "      <td>10127</td>\n",
       "      <td>8364</td>\n",
       "      <td>32848</td>\n",
       "      <td>828</td>\n",
       "      <td>161</td>\n",
       "      <td>189</td>\n",
       "      <td>4.380952</td>\n",
       "      <td>0.022597</td>\n",
       "    </tr>\n",
       "    <tr>\n",
       "      <th>2020-12-02</th>\n",
       "      <th>ES,DE,DK,HR,IE,IT,LV,NL,PL</th>\n",
       "      <td>78330</td>\n",
       "      <td>72301</td>\n",
       "      <td>30802</td>\n",
       "      <td>5371</td>\n",
       "      <td>197</td>\n",
       "      <td>0</td>\n",
       "      <td>0.000000</td>\n",
       "      <td>0.000000</td>\n",
       "    </tr>\n",
       "    <tr>\n",
       "      <th>2020-12-01</th>\n",
       "      <th>ES,DE,DK,HR,IE,IT,LV,PL</th>\n",
       "      <td>66717</td>\n",
       "      <td>69706</td>\n",
       "      <td>31815</td>\n",
       "      <td>24674</td>\n",
       "      <td>189</td>\n",
       "      <td>2238</td>\n",
       "      <td>11.025022</td>\n",
       "      <td>0.032106</td>\n",
       "    </tr>\n",
       "    <tr>\n",
       "      <th>2020-11-30</th>\n",
       "      <th>ES,DE,DK,HR,IE,IT,LV,PL</th>\n",
       "      <td>59675</td>\n",
       "      <td>72879</td>\n",
       "      <td>31854</td>\n",
       "      <td>15031</td>\n",
       "      <td>126</td>\n",
       "      <td>1430</td>\n",
       "      <td>10.511189</td>\n",
       "      <td>0.019622</td>\n",
       "    </tr>\n",
       "    <tr>\n",
       "      <th>2020-11-29</th>\n",
       "      <th>ES,DE,DK,HR,IE,IT,LV,PL</th>\n",
       "      <td>39955</td>\n",
       "      <td>76036</td>\n",
       "      <td>30585</td>\n",
       "      <td>17305</td>\n",
       "      <td>128</td>\n",
       "      <td>1684</td>\n",
       "      <td>10.276128</td>\n",
       "      <td>0.022147</td>\n",
       "    </tr>\n",
       "    <tr>\n",
       "      <th>2020-11-28</th>\n",
       "      <th>ES,DE,DK,HR,IE,IT,LV,PL</th>\n",
       "      <td>61958</td>\n",
       "      <td>78246</td>\n",
       "      <td>28682</td>\n",
       "      <td>25028</td>\n",
       "      <td>159</td>\n",
       "      <td>2398</td>\n",
       "      <td>10.437031</td>\n",
       "      <td>0.030647</td>\n",
       "    </tr>\n",
       "    <tr>\n",
       "      <th>2020-11-27</th>\n",
       "      <th>ES,DE,DK,HR,IE,IT,LV,PL</th>\n",
       "      <td>83563</td>\n",
       "      <td>80635</td>\n",
       "      <td>27709</td>\n",
       "      <td>27522</td>\n",
       "      <td>254</td>\n",
       "      <td>2555</td>\n",
       "      <td>10.771820</td>\n",
       "      <td>0.031686</td>\n",
       "    </tr>\n",
       "    <tr>\n",
       "      <th>2020-11-26</th>\n",
       "      <th>ES,DE,DK,HR,IE,IT,LV,PL</th>\n",
       "      <td>86336</td>\n",
       "      <td>83322</td>\n",
       "      <td>26652</td>\n",
       "      <td>31914</td>\n",
       "      <td>216</td>\n",
       "      <td>3037</td>\n",
       "      <td>10.508396</td>\n",
       "      <td>0.036449</td>\n",
       "    </tr>\n",
       "    <tr>\n",
       "      <th>2020-11-25</th>\n",
       "      <th>ES,DE,DK,HR,IE,IT,LV</th>\n",
       "      <td>74384</td>\n",
       "      <td>64427</td>\n",
       "      <td>25505</td>\n",
       "      <td>30693</td>\n",
       "      <td>227</td>\n",
       "      <td>2822</td>\n",
       "      <td>10.876329</td>\n",
       "      <td>0.043802</td>\n",
       "    </tr>\n",
       "    <tr>\n",
       "      <th>2020-11-24</th>\n",
       "      <th>ES,DE,DK,HR,IE,IT,LV</th>\n",
       "      <td>56191</td>\n",
       "      <td>65036</td>\n",
       "      <td>25565</td>\n",
       "      <td>17800</td>\n",
       "      <td>164</td>\n",
       "      <td>1667</td>\n",
       "      <td>10.677864</td>\n",
       "      <td>0.025632</td>\n",
       "    </tr>\n",
       "    <tr>\n",
       "      <th>2020-11-23</th>\n",
       "      <th>ES,DE,DK,HR,IE,IT,LV</th>\n",
       "      <td>66776</td>\n",
       "      <td>67773</td>\n",
       "      <td>25612</td>\n",
       "      <td>13061</td>\n",
       "      <td>147</td>\n",
       "      <td>1332</td>\n",
       "      <td>9.805556</td>\n",
       "      <td>0.019654</td>\n",
       "    </tr>\n",
       "    <tr>\n",
       "      <th>2020-11-22</th>\n",
       "      <th>ES,DE,DK,HR,IE,IT,LV</th>\n",
       "      <td>37567</td>\n",
       "      <td>70128</td>\n",
       "      <td>25108</td>\n",
       "      <td>14568</td>\n",
       "      <td>132</td>\n",
       "      <td>1524</td>\n",
       "      <td>9.559055</td>\n",
       "      <td>0.021732</td>\n",
       "    </tr>\n",
       "    <tr>\n",
       "      <th>2020-11-21</th>\n",
       "      <th>ES,DE,DK,HR,IE,IT,LV</th>\n",
       "      <td>54466</td>\n",
       "      <td>70661</td>\n",
       "      <td>17633</td>\n",
       "      <td>22605</td>\n",
       "      <td>153</td>\n",
       "      <td>2275</td>\n",
       "      <td>9.936264</td>\n",
       "      <td>0.032196</td>\n",
       "    </tr>\n",
       "  </tbody>\n",
       "</table>\n",
       "</div>"
      ],
      "text/plain": [
       "                                        new_cases  covid_cases  \\\n",
       "sample_date source_regions                                       \n",
       "2020-12-18  ES,DE,DK,HR,IE,IT,LV,NL,PL      94842        77479   \n",
       "2020-12-17  ES,DE,DK,HR,IE,IT,LV,NL,PL      94842        77479   \n",
       "2020-12-16  ES,DE,DK,HR,IE,IT,LV,NL,PL      93581        76675   \n",
       "2020-12-15  ES,DE,DK,HR,IE,IT,LV,NL,PL      78850        73941   \n",
       "2020-12-14  ES,DE,DK,HR,IE,IT,LV,NL,PL      58482        71851   \n",
       "2020-12-13  ES,DE,DK,HR,IE,IT,LV,NL,PL      58625        71028   \n",
       "2020-12-12  ES,DE,DK,HR,IE,IT,LV,NL,PL      70972        69990   \n",
       "2020-12-11  ES,DE,DK,HR,IE,IT,LV,NL,PL      87002        70384   \n",
       "2020-12-10  ES,DE,DK,HR,IE,IT,LV,NL,PL      89212        68616   \n",
       "2020-12-09  ES,DE,DK,HR,IE,IT,LV,NL,PL      74442        67982   \n",
       "2020-12-08  ES,DE,DK,HR,IE,IT,LV,NL,PL      64223        68538   \n",
       "2020-12-07  ES,DE,DK,HR,IE,IT,LV,NL,PL      52720        69494   \n",
       "2020-12-06  ES,DE,DK,HR,IE,IT,LV,NL,PL      51357        71144   \n",
       "2020-12-05  ES,DE,DK,HR,IE,IT,LV,NL,PL      73732        70329   \n",
       "2020-12-04  ES                               8745         8063   \n",
       "2020-12-03  ES                              10127         8364   \n",
       "2020-12-02  ES,DE,DK,HR,IE,IT,LV,NL,PL      78330        72301   \n",
       "2020-12-01  ES,DE,DK,HR,IE,IT,LV,PL         66717        69706   \n",
       "2020-11-30  ES,DE,DK,HR,IE,IT,LV,PL         59675        72879   \n",
       "2020-11-29  ES,DE,DK,HR,IE,IT,LV,PL         39955        76036   \n",
       "2020-11-28  ES,DE,DK,HR,IE,IT,LV,PL         61958        78246   \n",
       "2020-11-27  ES,DE,DK,HR,IE,IT,LV,PL         83563        80635   \n",
       "2020-11-26  ES,DE,DK,HR,IE,IT,LV,PL         86336        83322   \n",
       "2020-11-25  ES,DE,DK,HR,IE,IT,LV            74384        64427   \n",
       "2020-11-24  ES,DE,DK,HR,IE,IT,LV            56191        65036   \n",
       "2020-11-23  ES,DE,DK,HR,IE,IT,LV            66776        67773   \n",
       "2020-11-22  ES,DE,DK,HR,IE,IT,LV            37567        70128   \n",
       "2020-11-21  ES,DE,DK,HR,IE,IT,LV            54466        70661   \n",
       "\n",
       "                                        shared_teks_by_generation_date  \\\n",
       "sample_date source_regions                                               \n",
       "2020-12-18  ES,DE,DK,HR,IE,IT,LV,NL,PL                             355   \n",
       "2020-12-17  ES,DE,DK,HR,IE,IT,LV,NL,PL                            5160   \n",
       "2020-12-16  ES,DE,DK,HR,IE,IT,LV,NL,PL                           10917   \n",
       "2020-12-15  ES,DE,DK,HR,IE,IT,LV,NL,PL                           15550   \n",
       "2020-12-14  ES,DE,DK,HR,IE,IT,LV,NL,PL                           18913   \n",
       "2020-12-13  ES,DE,DK,HR,IE,IT,LV,NL,PL                           20060   \n",
       "2020-12-12  ES,DE,DK,HR,IE,IT,LV,NL,PL                           21289   \n",
       "2020-12-11  ES,DE,DK,HR,IE,IT,LV,NL,PL                           23841   \n",
       "2020-12-10  ES,DE,DK,HR,IE,IT,LV,NL,PL                           26595   \n",
       "2020-12-09  ES,DE,DK,HR,IE,IT,LV,NL,PL                           29039   \n",
       "2020-12-08  ES,DE,DK,HR,IE,IT,LV,NL,PL                           31652   \n",
       "2020-12-07  ES,DE,DK,HR,IE,IT,LV,NL,PL                           31560   \n",
       "2020-12-06  ES,DE,DK,HR,IE,IT,LV,NL,PL                           30384   \n",
       "2020-12-05  ES,DE,DK,HR,IE,IT,LV,NL,PL                           29973   \n",
       "2020-12-04  ES                                                   34098   \n",
       "2020-12-03  ES                                                   32848   \n",
       "2020-12-02  ES,DE,DK,HR,IE,IT,LV,NL,PL                           30802   \n",
       "2020-12-01  ES,DE,DK,HR,IE,IT,LV,PL                              31815   \n",
       "2020-11-30  ES,DE,DK,HR,IE,IT,LV,PL                              31854   \n",
       "2020-11-29  ES,DE,DK,HR,IE,IT,LV,PL                              30585   \n",
       "2020-11-28  ES,DE,DK,HR,IE,IT,LV,PL                              28682   \n",
       "2020-11-27  ES,DE,DK,HR,IE,IT,LV,PL                              27709   \n",
       "2020-11-26  ES,DE,DK,HR,IE,IT,LV,PL                              26652   \n",
       "2020-11-25  ES,DE,DK,HR,IE,IT,LV                                 25505   \n",
       "2020-11-24  ES,DE,DK,HR,IE,IT,LV                                 25565   \n",
       "2020-11-23  ES,DE,DK,HR,IE,IT,LV                                 25612   \n",
       "2020-11-22  ES,DE,DK,HR,IE,IT,LV                                 25108   \n",
       "2020-11-21  ES,DE,DK,HR,IE,IT,LV                                 17633   \n",
       "\n",
       "                                        shared_teks_by_upload_date  \\\n",
       "sample_date source_regions                                           \n",
       "2020-12-18  ES,DE,DK,HR,IE,IT,LV,NL,PL                       73609   \n",
       "2020-12-17  ES,DE,DK,HR,IE,IT,LV,NL,PL                       50571   \n",
       "2020-12-16  ES,DE,DK,HR,IE,IT,LV,NL,PL                       59480   \n",
       "2020-12-15  ES,DE,DK,HR,IE,IT,LV,NL,PL                       18196   \n",
       "2020-12-14  ES,DE,DK,HR,IE,IT,LV,NL,PL                       24378   \n",
       "2020-12-13  ES,DE,DK,HR,IE,IT,LV,NL,PL                       27102   \n",
       "2020-12-12  ES,DE,DK,HR,IE,IT,LV,NL,PL                       38739   \n",
       "2020-12-11  ES,DE,DK,HR,IE,IT,LV,NL,PL                       44911   \n",
       "2020-12-10  ES,DE,DK,HR,IE,IT,LV,NL,PL                       40322   \n",
       "2020-12-09  ES,DE,DK,HR,IE,IT,LV,NL,PL                       43004   \n",
       "2020-12-08  ES,DE,DK,HR,IE,IT,LV,NL,PL                       30102   \n",
       "2020-12-07  ES,DE,DK,HR,IE,IT,LV,NL,PL                       20104   \n",
       "2020-12-06  ES,DE,DK,HR,IE,IT,LV,NL,PL                       17206   \n",
       "2020-12-05  ES,DE,DK,HR,IE,IT,LV,NL,PL                      106219   \n",
       "2020-12-04  ES                                                 794   \n",
       "2020-12-03  ES                                                 828   \n",
       "2020-12-02  ES,DE,DK,HR,IE,IT,LV,NL,PL                        5371   \n",
       "2020-12-01  ES,DE,DK,HR,IE,IT,LV,PL                          24674   \n",
       "2020-11-30  ES,DE,DK,HR,IE,IT,LV,PL                          15031   \n",
       "2020-11-29  ES,DE,DK,HR,IE,IT,LV,PL                          17305   \n",
       "2020-11-28  ES,DE,DK,HR,IE,IT,LV,PL                          25028   \n",
       "2020-11-27  ES,DE,DK,HR,IE,IT,LV,PL                          27522   \n",
       "2020-11-26  ES,DE,DK,HR,IE,IT,LV,PL                          31914   \n",
       "2020-11-25  ES,DE,DK,HR,IE,IT,LV                             30693   \n",
       "2020-11-24  ES,DE,DK,HR,IE,IT,LV                             17800   \n",
       "2020-11-23  ES,DE,DK,HR,IE,IT,LV                             13061   \n",
       "2020-11-22  ES,DE,DK,HR,IE,IT,LV                             14568   \n",
       "2020-11-21  ES,DE,DK,HR,IE,IT,LV                             22605   \n",
       "\n",
       "                                        shared_teks_uploaded_on_generation_date  \\\n",
       "sample_date source_regions                                                        \n",
       "2020-12-18  ES,DE,DK,HR,IE,IT,LV,NL,PL                                      355   \n",
       "2020-12-17  ES,DE,DK,HR,IE,IT,LV,NL,PL                                      295   \n",
       "2020-12-16  ES,DE,DK,HR,IE,IT,LV,NL,PL                                      299   \n",
       "2020-12-15  ES,DE,DK,HR,IE,IT,LV,NL,PL                                      168   \n",
       "2020-12-14  ES,DE,DK,HR,IE,IT,LV,NL,PL                                      181   \n",
       "2020-12-13  ES,DE,DK,HR,IE,IT,LV,NL,PL                                       96   \n",
       "2020-12-12  ES,DE,DK,HR,IE,IT,LV,NL,PL                                      208   \n",
       "2020-12-11  ES,DE,DK,HR,IE,IT,LV,NL,PL                                      258   \n",
       "2020-12-10  ES,DE,DK,HR,IE,IT,LV,NL,PL                                      207   \n",
       "2020-12-09  ES,DE,DK,HR,IE,IT,LV,NL,PL                                      117   \n",
       "2020-12-08  ES,DE,DK,HR,IE,IT,LV,NL,PL                                      121   \n",
       "2020-12-07  ES,DE,DK,HR,IE,IT,LV,NL,PL                                      116   \n",
       "2020-12-06  ES,DE,DK,HR,IE,IT,LV,NL,PL                                      152   \n",
       "2020-12-05  ES,DE,DK,HR,IE,IT,LV,NL,PL                                      167   \n",
       "2020-12-04  ES                                                              158   \n",
       "2020-12-03  ES                                                              161   \n",
       "2020-12-02  ES,DE,DK,HR,IE,IT,LV,NL,PL                                      197   \n",
       "2020-12-01  ES,DE,DK,HR,IE,IT,LV,PL                                         189   \n",
       "2020-11-30  ES,DE,DK,HR,IE,IT,LV,PL                                         126   \n",
       "2020-11-29  ES,DE,DK,HR,IE,IT,LV,PL                                         128   \n",
       "2020-11-28  ES,DE,DK,HR,IE,IT,LV,PL                                         159   \n",
       "2020-11-27  ES,DE,DK,HR,IE,IT,LV,PL                                         254   \n",
       "2020-11-26  ES,DE,DK,HR,IE,IT,LV,PL                                         216   \n",
       "2020-11-25  ES,DE,DK,HR,IE,IT,LV                                            227   \n",
       "2020-11-24  ES,DE,DK,HR,IE,IT,LV                                            164   \n",
       "2020-11-23  ES,DE,DK,HR,IE,IT,LV                                            147   \n",
       "2020-11-22  ES,DE,DK,HR,IE,IT,LV                                            132   \n",
       "2020-11-21  ES,DE,DK,HR,IE,IT,LV                                            153   \n",
       "\n",
       "                                        shared_diagnoses  \\\n",
       "sample_date source_regions                                 \n",
       "2020-12-18  ES,DE,DK,HR,IE,IT,LV,NL,PL              7851   \n",
       "2020-12-17  ES,DE,DK,HR,IE,IT,LV,NL,PL              4690   \n",
       "2020-12-16  ES,DE,DK,HR,IE,IT,LV,NL,PL              5725   \n",
       "2020-12-15  ES,DE,DK,HR,IE,IT,LV,NL,PL              1752   \n",
       "2020-12-14  ES,DE,DK,HR,IE,IT,LV,NL,PL              2282   \n",
       "2020-12-13  ES,DE,DK,HR,IE,IT,LV,NL,PL              2712   \n",
       "2020-12-12  ES,DE,DK,HR,IE,IT,LV,NL,PL              3729   \n",
       "2020-12-11  ES,DE,DK,HR,IE,IT,LV,NL,PL              4215   \n",
       "2020-12-10  ES,DE,DK,HR,IE,IT,LV,NL,PL              3754   \n",
       "2020-12-09  ES,DE,DK,HR,IE,IT,LV,NL,PL              4014   \n",
       "2020-12-08  ES,DE,DK,HR,IE,IT,LV,NL,PL              2641   \n",
       "2020-12-07  ES,DE,DK,HR,IE,IT,LV,NL,PL              1823   \n",
       "2020-12-06  ES,DE,DK,HR,IE,IT,LV,NL,PL              1707   \n",
       "2020-12-05  ES,DE,DK,HR,IE,IT,LV,NL,PL                 0   \n",
       "2020-12-04  ES                                       188   \n",
       "2020-12-03  ES                                       189   \n",
       "2020-12-02  ES,DE,DK,HR,IE,IT,LV,NL,PL                 0   \n",
       "2020-12-01  ES,DE,DK,HR,IE,IT,LV,PL                 2238   \n",
       "2020-11-30  ES,DE,DK,HR,IE,IT,LV,PL                 1430   \n",
       "2020-11-29  ES,DE,DK,HR,IE,IT,LV,PL                 1684   \n",
       "2020-11-28  ES,DE,DK,HR,IE,IT,LV,PL                 2398   \n",
       "2020-11-27  ES,DE,DK,HR,IE,IT,LV,PL                 2555   \n",
       "2020-11-26  ES,DE,DK,HR,IE,IT,LV,PL                 3037   \n",
       "2020-11-25  ES,DE,DK,HR,IE,IT,LV                    2822   \n",
       "2020-11-24  ES,DE,DK,HR,IE,IT,LV                    1667   \n",
       "2020-11-23  ES,DE,DK,HR,IE,IT,LV                    1332   \n",
       "2020-11-22  ES,DE,DK,HR,IE,IT,LV                    1524   \n",
       "2020-11-21  ES,DE,DK,HR,IE,IT,LV                    2275   \n",
       "\n",
       "                                        teks_per_shared_diagnosis  \\\n",
       "sample_date source_regions                                          \n",
       "2020-12-18  ES,DE,DK,HR,IE,IT,LV,NL,PL                   9.375748   \n",
       "2020-12-17  ES,DE,DK,HR,IE,IT,LV,NL,PL                  10.782729   \n",
       "2020-12-16  ES,DE,DK,HR,IE,IT,LV,NL,PL                  10.389520   \n",
       "2020-12-15  ES,DE,DK,HR,IE,IT,LV,NL,PL                  10.385845   \n",
       "2020-12-14  ES,DE,DK,HR,IE,IT,LV,NL,PL                  10.682734   \n",
       "2020-12-13  ES,DE,DK,HR,IE,IT,LV,NL,PL                   9.993363   \n",
       "2020-12-12  ES,DE,DK,HR,IE,IT,LV,NL,PL                  10.388576   \n",
       "2020-12-11  ES,DE,DK,HR,IE,IT,LV,NL,PL                  10.655042   \n",
       "2020-12-10  ES,DE,DK,HR,IE,IT,LV,NL,PL                  10.741076   \n",
       "2020-12-09  ES,DE,DK,HR,IE,IT,LV,NL,PL                  10.713503   \n",
       "2020-12-08  ES,DE,DK,HR,IE,IT,LV,NL,PL                  11.397955   \n",
       "2020-12-07  ES,DE,DK,HR,IE,IT,LV,NL,PL                  11.027976   \n",
       "2020-12-06  ES,DE,DK,HR,IE,IT,LV,NL,PL                  10.079672   \n",
       "2020-12-05  ES,DE,DK,HR,IE,IT,LV,NL,PL                   0.000000   \n",
       "2020-12-04  ES                                           4.223404   \n",
       "2020-12-03  ES                                           4.380952   \n",
       "2020-12-02  ES,DE,DK,HR,IE,IT,LV,NL,PL                   0.000000   \n",
       "2020-12-01  ES,DE,DK,HR,IE,IT,LV,PL                     11.025022   \n",
       "2020-11-30  ES,DE,DK,HR,IE,IT,LV,PL                     10.511189   \n",
       "2020-11-29  ES,DE,DK,HR,IE,IT,LV,PL                     10.276128   \n",
       "2020-11-28  ES,DE,DK,HR,IE,IT,LV,PL                     10.437031   \n",
       "2020-11-27  ES,DE,DK,HR,IE,IT,LV,PL                     10.771820   \n",
       "2020-11-26  ES,DE,DK,HR,IE,IT,LV,PL                     10.508396   \n",
       "2020-11-25  ES,DE,DK,HR,IE,IT,LV                        10.876329   \n",
       "2020-11-24  ES,DE,DK,HR,IE,IT,LV                        10.677864   \n",
       "2020-11-23  ES,DE,DK,HR,IE,IT,LV                         9.805556   \n",
       "2020-11-22  ES,DE,DK,HR,IE,IT,LV                         9.559055   \n",
       "2020-11-21  ES,DE,DK,HR,IE,IT,LV                         9.936264   \n",
       "\n",
       "                                        shared_diagnoses_per_covid_case  \n",
       "sample_date source_regions                                               \n",
       "2020-12-18  ES,DE,DK,HR,IE,IT,LV,NL,PL                         0.101331  \n",
       "2020-12-17  ES,DE,DK,HR,IE,IT,LV,NL,PL                         0.060533  \n",
       "2020-12-16  ES,DE,DK,HR,IE,IT,LV,NL,PL                         0.074666  \n",
       "2020-12-15  ES,DE,DK,HR,IE,IT,LV,NL,PL                         0.023695  \n",
       "2020-12-14  ES,DE,DK,HR,IE,IT,LV,NL,PL                         0.031760  \n",
       "2020-12-13  ES,DE,DK,HR,IE,IT,LV,NL,PL                         0.038182  \n",
       "2020-12-12  ES,DE,DK,HR,IE,IT,LV,NL,PL                         0.053279  \n",
       "2020-12-11  ES,DE,DK,HR,IE,IT,LV,NL,PL                         0.059886  \n",
       "2020-12-10  ES,DE,DK,HR,IE,IT,LV,NL,PL                         0.054710  \n",
       "2020-12-09  ES,DE,DK,HR,IE,IT,LV,NL,PL                         0.059045  \n",
       "2020-12-08  ES,DE,DK,HR,IE,IT,LV,NL,PL                         0.038533  \n",
       "2020-12-07  ES,DE,DK,HR,IE,IT,LV,NL,PL                         0.026232  \n",
       "2020-12-06  ES,DE,DK,HR,IE,IT,LV,NL,PL                         0.023994  \n",
       "2020-12-05  ES,DE,DK,HR,IE,IT,LV,NL,PL                         0.000000  \n",
       "2020-12-04  ES                                                 0.023316  \n",
       "2020-12-03  ES                                                 0.022597  \n",
       "2020-12-02  ES,DE,DK,HR,IE,IT,LV,NL,PL                         0.000000  \n",
       "2020-12-01  ES,DE,DK,HR,IE,IT,LV,PL                            0.032106  \n",
       "2020-11-30  ES,DE,DK,HR,IE,IT,LV,PL                            0.019622  \n",
       "2020-11-29  ES,DE,DK,HR,IE,IT,LV,PL                            0.022147  \n",
       "2020-11-28  ES,DE,DK,HR,IE,IT,LV,PL                            0.030647  \n",
       "2020-11-27  ES,DE,DK,HR,IE,IT,LV,PL                            0.031686  \n",
       "2020-11-26  ES,DE,DK,HR,IE,IT,LV,PL                            0.036449  \n",
       "2020-11-25  ES,DE,DK,HR,IE,IT,LV                               0.043802  \n",
       "2020-11-24  ES,DE,DK,HR,IE,IT,LV                               0.025632  \n",
       "2020-11-23  ES,DE,DK,HR,IE,IT,LV                               0.019654  \n",
       "2020-11-22  ES,DE,DK,HR,IE,IT,LV                               0.021732  \n",
       "2020-11-21  ES,DE,DK,HR,IE,IT,LV                               0.032196  "
      ]
     },
     "execution_count": 47,
     "metadata": {},
     "output_type": "execute_result"
    }
   ],
   "source": [
    "with pd.option_context(\"mode.use_inf_as_na\", True):\n",
    "    result_summary_df = result_summary_df.fillna(0).astype(int)\n",
    "    result_summary_df[\"teks_per_shared_diagnosis\"] = \\\n",
    "        (result_summary_df.shared_teks_by_upload_date / result_summary_df.shared_diagnoses).fillna(0)\n",
    "    result_summary_df[\"shared_diagnoses_per_covid_case\"] = \\\n",
    "        (result_summary_df.shared_diagnoses / result_summary_df.covid_cases).fillna(0)\n",
    "\n",
    "result_summary_df.head(daily_plot_days)"
   ]
  },
  {
   "cell_type": "code",
   "execution_count": 48,
   "metadata": {
    "collapsed": false,
    "execution": {
     "iopub.execute_input": "2020-12-18T23:31:31.886851Z",
     "iopub.status.busy": "2020-12-18T23:31:31.886321Z",
     "iopub.status.idle": "2020-12-18T23:31:31.888937Z",
     "shell.execute_reply": "2020-12-18T23:31:31.889339Z"
    },
    "papermill": {
     "duration": 0.085796,
     "end_time": "2020-12-18T23:31:31.889482",
     "exception": false,
     "start_time": "2020-12-18T23:31:31.803686",
     "status": "completed"
    },
    "pycharm": {
     "name": "#%%\n"
    },
    "tags": []
   },
   "outputs": [
    {
     "data": {
      "text/html": [
       "<div>\n",
       "<style scoped>\n",
       "    .dataframe tbody tr th:only-of-type {\n",
       "        vertical-align: middle;\n",
       "    }\n",
       "\n",
       "    .dataframe tbody tr th {\n",
       "        vertical-align: top;\n",
       "    }\n",
       "\n",
       "    .dataframe thead th {\n",
       "        text-align: right;\n",
       "    }\n",
       "</style>\n",
       "<table border=\"1\" class=\"dataframe\">\n",
       "  <thead>\n",
       "    <tr style=\"text-align: right;\">\n",
       "      <th></th>\n",
       "      <th></th>\n",
       "      <th>covid_cases</th>\n",
       "      <th>shared_teks_by_generation_date</th>\n",
       "      <th>shared_teks_by_upload_date</th>\n",
       "      <th>shared_diagnoses</th>\n",
       "      <th>teks_per_shared_diagnosis</th>\n",
       "      <th>shared_diagnoses_per_covid_case</th>\n",
       "    </tr>\n",
       "    <tr>\n",
       "      <th>sample_date</th>\n",
       "      <th>source_regions</th>\n",
       "      <th></th>\n",
       "      <th></th>\n",
       "      <th></th>\n",
       "      <th></th>\n",
       "      <th></th>\n",
       "      <th></th>\n",
       "    </tr>\n",
       "  </thead>\n",
       "  <tbody>\n",
       "    <tr>\n",
       "      <th>2020-12-18</th>\n",
       "      <th>ES,DE,DK,HR,IE,IT,LV,NL,PL</th>\n",
       "      <td>518443</td>\n",
       "      <td>92244</td>\n",
       "      <td>292075</td>\n",
       "      <td>28741</td>\n",
       "      <td>10.162312</td>\n",
       "      <td>0.055437</td>\n",
       "    </tr>\n",
       "    <tr>\n",
       "      <th>2020-12-17</th>\n",
       "      <th>ES,DE,DK,HR,IE,IT,LV,NL,PL</th>\n",
       "      <td>511348</td>\n",
       "      <td>115730</td>\n",
       "      <td>263377</td>\n",
       "      <td>25105</td>\n",
       "      <td>10.491018</td>\n",
       "      <td>0.049096</td>\n",
       "    </tr>\n",
       "    <tr>\n",
       "      <th>2020-12-16</th>\n",
       "      <th>ES,DE,DK,HR,IE,IT,LV,NL,PL</th>\n",
       "      <td>502485</td>\n",
       "      <td>137165</td>\n",
       "      <td>253128</td>\n",
       "      <td>24169</td>\n",
       "      <td>10.473251</td>\n",
       "      <td>0.048099</td>\n",
       "    </tr>\n",
       "    <tr>\n",
       "      <th>2020-12-15</th>\n",
       "      <th>ES,DE,DK,HR,IE,IT,LV,NL,PL</th>\n",
       "      <td>493792</td>\n",
       "      <td>155287</td>\n",
       "      <td>236652</td>\n",
       "      <td>22458</td>\n",
       "      <td>10.537537</td>\n",
       "      <td>0.045481</td>\n",
       "    </tr>\n",
       "    <tr>\n",
       "      <th>2020-12-14</th>\n",
       "      <th>ES,DE,DK,HR,IE,IT,LV,NL,PL</th>\n",
       "      <td>488389</td>\n",
       "      <td>171389</td>\n",
       "      <td>248558</td>\n",
       "      <td>23347</td>\n",
       "      <td>10.646250</td>\n",
       "      <td>0.047804</td>\n",
       "    </tr>\n",
       "  </tbody>\n",
       "</table>\n",
       "</div>"
      ],
      "text/plain": [
       "                                        covid_cases  \\\n",
       "sample_date source_regions                            \n",
       "2020-12-18  ES,DE,DK,HR,IE,IT,LV,NL,PL       518443   \n",
       "2020-12-17  ES,DE,DK,HR,IE,IT,LV,NL,PL       511348   \n",
       "2020-12-16  ES,DE,DK,HR,IE,IT,LV,NL,PL       502485   \n",
       "2020-12-15  ES,DE,DK,HR,IE,IT,LV,NL,PL       493792   \n",
       "2020-12-14  ES,DE,DK,HR,IE,IT,LV,NL,PL       488389   \n",
       "\n",
       "                                        shared_teks_by_generation_date  \\\n",
       "sample_date source_regions                                               \n",
       "2020-12-18  ES,DE,DK,HR,IE,IT,LV,NL,PL                           92244   \n",
       "2020-12-17  ES,DE,DK,HR,IE,IT,LV,NL,PL                          115730   \n",
       "2020-12-16  ES,DE,DK,HR,IE,IT,LV,NL,PL                          137165   \n",
       "2020-12-15  ES,DE,DK,HR,IE,IT,LV,NL,PL                          155287   \n",
       "2020-12-14  ES,DE,DK,HR,IE,IT,LV,NL,PL                          171389   \n",
       "\n",
       "                                        shared_teks_by_upload_date  \\\n",
       "sample_date source_regions                                           \n",
       "2020-12-18  ES,DE,DK,HR,IE,IT,LV,NL,PL                      292075   \n",
       "2020-12-17  ES,DE,DK,HR,IE,IT,LV,NL,PL                      263377   \n",
       "2020-12-16  ES,DE,DK,HR,IE,IT,LV,NL,PL                      253128   \n",
       "2020-12-15  ES,DE,DK,HR,IE,IT,LV,NL,PL                      236652   \n",
       "2020-12-14  ES,DE,DK,HR,IE,IT,LV,NL,PL                      248558   \n",
       "\n",
       "                                        shared_diagnoses  \\\n",
       "sample_date source_regions                                 \n",
       "2020-12-18  ES,DE,DK,HR,IE,IT,LV,NL,PL             28741   \n",
       "2020-12-17  ES,DE,DK,HR,IE,IT,LV,NL,PL             25105   \n",
       "2020-12-16  ES,DE,DK,HR,IE,IT,LV,NL,PL             24169   \n",
       "2020-12-15  ES,DE,DK,HR,IE,IT,LV,NL,PL             22458   \n",
       "2020-12-14  ES,DE,DK,HR,IE,IT,LV,NL,PL             23347   \n",
       "\n",
       "                                        teks_per_shared_diagnosis  \\\n",
       "sample_date source_regions                                          \n",
       "2020-12-18  ES,DE,DK,HR,IE,IT,LV,NL,PL                  10.162312   \n",
       "2020-12-17  ES,DE,DK,HR,IE,IT,LV,NL,PL                  10.491018   \n",
       "2020-12-16  ES,DE,DK,HR,IE,IT,LV,NL,PL                  10.473251   \n",
       "2020-12-15  ES,DE,DK,HR,IE,IT,LV,NL,PL                  10.537537   \n",
       "2020-12-14  ES,DE,DK,HR,IE,IT,LV,NL,PL                  10.646250   \n",
       "\n",
       "                                        shared_diagnoses_per_covid_case  \n",
       "sample_date source_regions                                               \n",
       "2020-12-18  ES,DE,DK,HR,IE,IT,LV,NL,PL                         0.055437  \n",
       "2020-12-17  ES,DE,DK,HR,IE,IT,LV,NL,PL                         0.049096  \n",
       "2020-12-16  ES,DE,DK,HR,IE,IT,LV,NL,PL                         0.048099  \n",
       "2020-12-15  ES,DE,DK,HR,IE,IT,LV,NL,PL                         0.045481  \n",
       "2020-12-14  ES,DE,DK,HR,IE,IT,LV,NL,PL                         0.047804  "
      ]
     },
     "execution_count": 48,
     "metadata": {},
     "output_type": "execute_result"
    }
   ],
   "source": [
    "weekly_result_summary_df = result_summary_df \\\n",
    "    .sort_index(ascending=True).fillna(0).rolling(7).agg({\n",
    "    \"covid_cases\": \"sum\",\n",
    "    \"shared_teks_by_generation_date\": \"sum\",\n",
    "    \"shared_teks_by_upload_date\": \"sum\",\n",
    "    \"shared_diagnoses\": \"sum\"\n",
    "}).sort_index(ascending=False)\n",
    "\n",
    "with pd.option_context(\"mode.use_inf_as_na\", True):\n",
    "    weekly_result_summary_df = weekly_result_summary_df.fillna(0).astype(int)\n",
    "    weekly_result_summary_df[\"teks_per_shared_diagnosis\"] = \\\n",
    "        (weekly_result_summary_df.shared_teks_by_upload_date / weekly_result_summary_df.shared_diagnoses).fillna(0)\n",
    "    weekly_result_summary_df[\"shared_diagnoses_per_covid_case\"] = \\\n",
    "        (weekly_result_summary_df.shared_diagnoses / weekly_result_summary_df.covid_cases).fillna(0)\n",
    "\n",
    "weekly_result_summary_df.head()"
   ]
  },
  {
   "cell_type": "code",
   "execution_count": 49,
   "metadata": {
    "collapsed": false,
    "execution": {
     "iopub.execute_input": "2020-12-18T23:31:32.016572Z",
     "iopub.status.busy": "2020-12-18T23:31:32.016056Z",
     "iopub.status.idle": "2020-12-18T23:31:32.019345Z",
     "shell.execute_reply": "2020-12-18T23:31:32.019974Z"
    },
    "papermill": {
     "duration": 0.072322,
     "end_time": "2020-12-18T23:31:32.020129",
     "exception": false,
     "start_time": "2020-12-18T23:31:31.947807",
     "status": "completed"
    },
    "pycharm": {
     "name": "#%%\n"
    },
    "tags": []
   },
   "outputs": [
    {
     "data": {
      "text/plain": [
       "{'covid_cases': 511348,\n",
       " 'shared_teks_by_generation_date': 115730,\n",
       " 'shared_teks_by_upload_date': 263377,\n",
       " 'shared_diagnoses': 25105,\n",
       " 'teks_per_shared_diagnosis': 10.491017725552679,\n",
       " 'shared_diagnoses_per_covid_case': 0.049095723460344035}"
      ]
     },
     "execution_count": 49,
     "metadata": {},
     "output_type": "execute_result"
    }
   ],
   "source": [
    "last_7_days_summary = weekly_result_summary_df.to_dict(orient=\"records\")[1]\n",
    "last_7_days_summary"
   ]
  },
  {
   "cell_type": "markdown",
   "metadata": {
    "collapsed": false,
    "papermill": {
     "duration": 0.057822,
     "end_time": "2020-12-18T23:31:32.138383",
     "exception": false,
     "start_time": "2020-12-18T23:31:32.080561",
     "status": "completed"
    },
    "tags": []
   },
   "source": [
    "## Report Results"
   ]
  },
  {
   "cell_type": "code",
   "execution_count": 50,
   "metadata": {
    "collapsed": false,
    "execution": {
     "iopub.execute_input": "2020-12-18T23:31:32.264720Z",
     "iopub.status.busy": "2020-12-18T23:31:32.264149Z",
     "iopub.status.idle": "2020-12-18T23:31:32.266509Z",
     "shell.execute_reply": "2020-12-18T23:31:32.266913Z"
    },
    "papermill": {
     "duration": 0.069446,
     "end_time": "2020-12-18T23:31:32.267051",
     "exception": false,
     "start_time": "2020-12-18T23:31:32.197605",
     "status": "completed"
    },
    "pycharm": {
     "name": "#%%\n"
    },
    "tags": []
   },
   "outputs": [],
   "source": [
    "display_column_name_mapping = {\n",
    "    \"sample_date\": \"Sample\\u00A0Date\\u00A0(UTC)\",\n",
    "    \"source_regions\": \"Source Countries\",\n",
    "    \"datetime_utc\": \"Timestamp (UTC)\",\n",
    "    \"upload_date\": \"Upload Date (UTC)\",\n",
    "    \"generation_to_upload_days\": \"Generation to Upload Period in Days\",\n",
    "    \"region\": \"Backend\",\n",
    "    \"region_x\": \"Backend\\u00A0(A)\",\n",
    "    \"region_y\": \"Backend\\u00A0(B)\",\n",
    "    \"common_teks\": \"Common TEKs Shared Between Backends\",\n",
    "    \"common_teks_fraction\": \"Fraction of TEKs in Backend (A) Available in Backend (B)\",\n",
    "    \"covid_cases\": \"COVID-19 Cases in Source Countries (7-day Rolling Average)\",\n",
    "    \"shared_teks_by_generation_date\": \"Shared TEKs by Generation Date\",\n",
    "    \"shared_teks_by_upload_date\": \"Shared TEKs by Upload Date\",\n",
    "    \"shared_diagnoses\": \"Shared Diagnoses (Estimation)\",\n",
    "    \"teks_per_shared_diagnosis\": \"TEKs Uploaded per Shared Diagnosis\",\n",
    "    \"shared_diagnoses_per_covid_case\": \"Usage Ratio (Fraction of Cases in Source Countries Which Shared Diagnosis)\",\n",
    "    \"shared_teks_uploaded_on_generation_date\": \"Shared TEKs Uploaded on Generation Date\",\n",
    "}"
   ]
  },
  {
   "cell_type": "code",
   "execution_count": 51,
   "metadata": {
    "collapsed": false,
    "execution": {
     "iopub.execute_input": "2020-12-18T23:31:32.397207Z",
     "iopub.status.busy": "2020-12-18T23:31:32.396249Z",
     "iopub.status.idle": "2020-12-18T23:31:32.398208Z",
     "shell.execute_reply": "2020-12-18T23:31:32.398948Z"
    },
    "papermill": {
     "duration": 0.070461,
     "end_time": "2020-12-18T23:31:32.399181",
     "exception": false,
     "start_time": "2020-12-18T23:31:32.328720",
     "status": "completed"
    },
    "pycharm": {
     "name": "#%%\n"
    },
    "tags": []
   },
   "outputs": [],
   "source": [
    "summary_columns = [\n",
    "    \"covid_cases\",\n",
    "    \"shared_teks_by_generation_date\",\n",
    "    \"shared_teks_by_upload_date\",\n",
    "    \"shared_teks_uploaded_on_generation_date\",\n",
    "    \"shared_diagnoses\",\n",
    "    \"teks_per_shared_diagnosis\",\n",
    "    \"shared_diagnoses_per_covid_case\",\n",
    "]"
   ]
  },
  {
   "cell_type": "markdown",
   "metadata": {
    "collapsed": false,
    "papermill": {
     "duration": 0.055558,
     "end_time": "2020-12-18T23:31:32.514669",
     "exception": false,
     "start_time": "2020-12-18T23:31:32.459111",
     "status": "completed"
    },
    "tags": []
   },
   "source": [
    "### Daily Summary Table"
   ]
  },
  {
   "cell_type": "code",
   "execution_count": 52,
   "metadata": {
    "collapsed": false,
    "execution": {
     "iopub.execute_input": "2020-12-18T23:31:32.647962Z",
     "iopub.status.busy": "2020-12-18T23:31:32.647415Z",
     "iopub.status.idle": "2020-12-18T23:31:32.656534Z",
     "shell.execute_reply": "2020-12-18T23:31:32.656980Z"
    },
    "papermill": {
     "duration": 0.083837,
     "end_time": "2020-12-18T23:31:32.657122",
     "exception": false,
     "start_time": "2020-12-18T23:31:32.573285",
     "status": "completed"
    },
    "pycharm": {
     "name": "#%%\n"
    },
    "tags": []
   },
   "outputs": [
    {
     "data": {
      "text/html": [
       "<div>\n",
       "<style scoped>\n",
       "    .dataframe tbody tr th:only-of-type {\n",
       "        vertical-align: middle;\n",
       "    }\n",
       "\n",
       "    .dataframe tbody tr th {\n",
       "        vertical-align: top;\n",
       "    }\n",
       "\n",
       "    .dataframe thead th {\n",
       "        text-align: right;\n",
       "    }\n",
       "</style>\n",
       "<table border=\"1\" class=\"dataframe\">\n",
       "  <thead>\n",
       "    <tr style=\"text-align: right;\">\n",
       "      <th></th>\n",
       "      <th></th>\n",
       "      <th>COVID-19 Cases in Source Countries (7-day Rolling Average)</th>\n",
       "      <th>Shared TEKs by Generation Date</th>\n",
       "      <th>Shared TEKs by Upload Date</th>\n",
       "      <th>Shared TEKs Uploaded on Generation Date</th>\n",
       "      <th>Shared Diagnoses (Estimation)</th>\n",
       "      <th>TEKs Uploaded per Shared Diagnosis</th>\n",
       "      <th>Usage Ratio (Fraction of Cases in Source Countries Which Shared Diagnosis)</th>\n",
       "    </tr>\n",
       "    <tr>\n",
       "      <th>Sample Date (UTC)</th>\n",
       "      <th>Source Countries</th>\n",
       "      <th></th>\n",
       "      <th></th>\n",
       "      <th></th>\n",
       "      <th></th>\n",
       "      <th></th>\n",
       "      <th></th>\n",
       "      <th></th>\n",
       "    </tr>\n",
       "  </thead>\n",
       "  <tbody>\n",
       "    <tr>\n",
       "      <th>2020-12-18</th>\n",
       "      <th>ES,DE,DK,HR,IE,IT,LV,NL,PL</th>\n",
       "      <td>77479</td>\n",
       "      <td>355</td>\n",
       "      <td>73609</td>\n",
       "      <td>355</td>\n",
       "      <td>7851</td>\n",
       "      <td>9.375748</td>\n",
       "      <td>0.101331</td>\n",
       "    </tr>\n",
       "    <tr>\n",
       "      <th>2020-12-17</th>\n",
       "      <th>ES,DE,DK,HR,IE,IT,LV,NL,PL</th>\n",
       "      <td>77479</td>\n",
       "      <td>5160</td>\n",
       "      <td>50571</td>\n",
       "      <td>295</td>\n",
       "      <td>4690</td>\n",
       "      <td>10.782729</td>\n",
       "      <td>0.060533</td>\n",
       "    </tr>\n",
       "    <tr>\n",
       "      <th>2020-12-16</th>\n",
       "      <th>ES,DE,DK,HR,IE,IT,LV,NL,PL</th>\n",
       "      <td>76675</td>\n",
       "      <td>10917</td>\n",
       "      <td>59480</td>\n",
       "      <td>299</td>\n",
       "      <td>5725</td>\n",
       "      <td>10.389520</td>\n",
       "      <td>0.074666</td>\n",
       "    </tr>\n",
       "    <tr>\n",
       "      <th>2020-12-15</th>\n",
       "      <th>ES,DE,DK,HR,IE,IT,LV,NL,PL</th>\n",
       "      <td>73941</td>\n",
       "      <td>15550</td>\n",
       "      <td>18196</td>\n",
       "      <td>168</td>\n",
       "      <td>1752</td>\n",
       "      <td>10.385845</td>\n",
       "      <td>0.023695</td>\n",
       "    </tr>\n",
       "    <tr>\n",
       "      <th>2020-12-14</th>\n",
       "      <th>ES,DE,DK,HR,IE,IT,LV,NL,PL</th>\n",
       "      <td>71851</td>\n",
       "      <td>18913</td>\n",
       "      <td>24378</td>\n",
       "      <td>181</td>\n",
       "      <td>2282</td>\n",
       "      <td>10.682734</td>\n",
       "      <td>0.031760</td>\n",
       "    </tr>\n",
       "    <tr>\n",
       "      <th>...</th>\n",
       "      <th>...</th>\n",
       "      <td>...</td>\n",
       "      <td>...</td>\n",
       "      <td>...</td>\n",
       "      <td>...</td>\n",
       "      <td>...</td>\n",
       "      <td>...</td>\n",
       "      <td>...</td>\n",
       "    </tr>\n",
       "    <tr>\n",
       "      <th>2020-09-30</th>\n",
       "      <th>ES</th>\n",
       "      <td>10805</td>\n",
       "      <td>294</td>\n",
       "      <td>271</td>\n",
       "      <td>55</td>\n",
       "      <td>55</td>\n",
       "      <td>4.927273</td>\n",
       "      <td>0.005090</td>\n",
       "    </tr>\n",
       "    <tr>\n",
       "      <th>2020-09-29</th>\n",
       "      <th>ES</th>\n",
       "      <td>9428</td>\n",
       "      <td>265</td>\n",
       "      <td>178</td>\n",
       "      <td>32</td>\n",
       "      <td>44</td>\n",
       "      <td>4.045455</td>\n",
       "      <td>0.004667</td>\n",
       "    </tr>\n",
       "    <tr>\n",
       "      <th>2020-09-28</th>\n",
       "      <th>ES</th>\n",
       "      <td>10971</td>\n",
       "      <td>269</td>\n",
       "      <td>211</td>\n",
       "      <td>44</td>\n",
       "      <td>54</td>\n",
       "      <td>3.907407</td>\n",
       "      <td>0.004922</td>\n",
       "    </tr>\n",
       "    <tr>\n",
       "      <th>2020-09-27</th>\n",
       "      <th>ES</th>\n",
       "      <td>10920</td>\n",
       "      <td>315</td>\n",
       "      <td>449</td>\n",
       "      <td>98</td>\n",
       "      <td>108</td>\n",
       "      <td>4.157407</td>\n",
       "      <td>0.009890</td>\n",
       "    </tr>\n",
       "    <tr>\n",
       "      <th>2020-09-26</th>\n",
       "      <th>ES</th>\n",
       "      <td>10920</td>\n",
       "      <td>339</td>\n",
       "      <td>448</td>\n",
       "      <td>79</td>\n",
       "      <td>110</td>\n",
       "      <td>4.072727</td>\n",
       "      <td>0.010073</td>\n",
       "    </tr>\n",
       "  </tbody>\n",
       "</table>\n",
       "<p>84 rows × 7 columns</p>\n",
       "</div>"
      ],
      "text/plain": [
       "                                              COVID-19 Cases in Source Countries (7-day Rolling Average)  \\\n",
       "Sample Date (UTC) Source Countries                                                                         \n",
       "2020-12-18        ES,DE,DK,HR,IE,IT,LV,NL,PL                                              77479            \n",
       "2020-12-17        ES,DE,DK,HR,IE,IT,LV,NL,PL                                              77479            \n",
       "2020-12-16        ES,DE,DK,HR,IE,IT,LV,NL,PL                                              76675            \n",
       "2020-12-15        ES,DE,DK,HR,IE,IT,LV,NL,PL                                              73941            \n",
       "2020-12-14        ES,DE,DK,HR,IE,IT,LV,NL,PL                                              71851            \n",
       "...                                                                                         ...            \n",
       "2020-09-30        ES                                                                      10805            \n",
       "2020-09-29        ES                                                                       9428            \n",
       "2020-09-28        ES                                                                      10971            \n",
       "2020-09-27        ES                                                                      10920            \n",
       "2020-09-26        ES                                                                      10920            \n",
       "\n",
       "                                              Shared TEKs by Generation Date  \\\n",
       "Sample Date (UTC) Source Countries                                             \n",
       "2020-12-18        ES,DE,DK,HR,IE,IT,LV,NL,PL                             355   \n",
       "2020-12-17        ES,DE,DK,HR,IE,IT,LV,NL,PL                            5160   \n",
       "2020-12-16        ES,DE,DK,HR,IE,IT,LV,NL,PL                           10917   \n",
       "2020-12-15        ES,DE,DK,HR,IE,IT,LV,NL,PL                           15550   \n",
       "2020-12-14        ES,DE,DK,HR,IE,IT,LV,NL,PL                           18913   \n",
       "...                                                                      ...   \n",
       "2020-09-30        ES                                                     294   \n",
       "2020-09-29        ES                                                     265   \n",
       "2020-09-28        ES                                                     269   \n",
       "2020-09-27        ES                                                     315   \n",
       "2020-09-26        ES                                                     339   \n",
       "\n",
       "                                              Shared TEKs by Upload Date  \\\n",
       "Sample Date (UTC) Source Countries                                         \n",
       "2020-12-18        ES,DE,DK,HR,IE,IT,LV,NL,PL                       73609   \n",
       "2020-12-17        ES,DE,DK,HR,IE,IT,LV,NL,PL                       50571   \n",
       "2020-12-16        ES,DE,DK,HR,IE,IT,LV,NL,PL                       59480   \n",
       "2020-12-15        ES,DE,DK,HR,IE,IT,LV,NL,PL                       18196   \n",
       "2020-12-14        ES,DE,DK,HR,IE,IT,LV,NL,PL                       24378   \n",
       "...                                                                  ...   \n",
       "2020-09-30        ES                                                 271   \n",
       "2020-09-29        ES                                                 178   \n",
       "2020-09-28        ES                                                 211   \n",
       "2020-09-27        ES                                                 449   \n",
       "2020-09-26        ES                                                 448   \n",
       "\n",
       "                                              Shared TEKs Uploaded on Generation Date  \\\n",
       "Sample Date (UTC) Source Countries                                                      \n",
       "2020-12-18        ES,DE,DK,HR,IE,IT,LV,NL,PL                                      355   \n",
       "2020-12-17        ES,DE,DK,HR,IE,IT,LV,NL,PL                                      295   \n",
       "2020-12-16        ES,DE,DK,HR,IE,IT,LV,NL,PL                                      299   \n",
       "2020-12-15        ES,DE,DK,HR,IE,IT,LV,NL,PL                                      168   \n",
       "2020-12-14        ES,DE,DK,HR,IE,IT,LV,NL,PL                                      181   \n",
       "...                                                                               ...   \n",
       "2020-09-30        ES                                                               55   \n",
       "2020-09-29        ES                                                               32   \n",
       "2020-09-28        ES                                                               44   \n",
       "2020-09-27        ES                                                               98   \n",
       "2020-09-26        ES                                                               79   \n",
       "\n",
       "                                              Shared Diagnoses (Estimation)  \\\n",
       "Sample Date (UTC) Source Countries                                            \n",
       "2020-12-18        ES,DE,DK,HR,IE,IT,LV,NL,PL                           7851   \n",
       "2020-12-17        ES,DE,DK,HR,IE,IT,LV,NL,PL                           4690   \n",
       "2020-12-16        ES,DE,DK,HR,IE,IT,LV,NL,PL                           5725   \n",
       "2020-12-15        ES,DE,DK,HR,IE,IT,LV,NL,PL                           1752   \n",
       "2020-12-14        ES,DE,DK,HR,IE,IT,LV,NL,PL                           2282   \n",
       "...                                                                     ...   \n",
       "2020-09-30        ES                                                     55   \n",
       "2020-09-29        ES                                                     44   \n",
       "2020-09-28        ES                                                     54   \n",
       "2020-09-27        ES                                                    108   \n",
       "2020-09-26        ES                                                    110   \n",
       "\n",
       "                                              TEKs Uploaded per Shared Diagnosis  \\\n",
       "Sample Date (UTC) Source Countries                                                 \n",
       "2020-12-18        ES,DE,DK,HR,IE,IT,LV,NL,PL                            9.375748   \n",
       "2020-12-17        ES,DE,DK,HR,IE,IT,LV,NL,PL                           10.782729   \n",
       "2020-12-16        ES,DE,DK,HR,IE,IT,LV,NL,PL                           10.389520   \n",
       "2020-12-15        ES,DE,DK,HR,IE,IT,LV,NL,PL                           10.385845   \n",
       "2020-12-14        ES,DE,DK,HR,IE,IT,LV,NL,PL                           10.682734   \n",
       "...                                                                          ...   \n",
       "2020-09-30        ES                                                    4.927273   \n",
       "2020-09-29        ES                                                    4.045455   \n",
       "2020-09-28        ES                                                    3.907407   \n",
       "2020-09-27        ES                                                    4.157407   \n",
       "2020-09-26        ES                                                    4.072727   \n",
       "\n",
       "                                              Usage Ratio (Fraction of Cases in Source Countries Which Shared Diagnosis)  \n",
       "Sample Date (UTC) Source Countries                                                                                        \n",
       "2020-12-18        ES,DE,DK,HR,IE,IT,LV,NL,PL                                           0.101331                           \n",
       "2020-12-17        ES,DE,DK,HR,IE,IT,LV,NL,PL                                           0.060533                           \n",
       "2020-12-16        ES,DE,DK,HR,IE,IT,LV,NL,PL                                           0.074666                           \n",
       "2020-12-15        ES,DE,DK,HR,IE,IT,LV,NL,PL                                           0.023695                           \n",
       "2020-12-14        ES,DE,DK,HR,IE,IT,LV,NL,PL                                           0.031760                           \n",
       "...                                                                                         ...                           \n",
       "2020-09-30        ES                                                                   0.005090                           \n",
       "2020-09-29        ES                                                                   0.004667                           \n",
       "2020-09-28        ES                                                                   0.004922                           \n",
       "2020-09-27        ES                                                                   0.009890                           \n",
       "2020-09-26        ES                                                                   0.010073                           \n",
       "\n",
       "[84 rows x 7 columns]"
      ]
     },
     "execution_count": 52,
     "metadata": {},
     "output_type": "execute_result"
    }
   ],
   "source": [
    "result_summary_df_ = result_summary_df.copy()\n",
    "result_summary_df = result_summary_df[summary_columns]\n",
    "result_summary_with_display_names_df = result_summary_df \\\n",
    "    .rename_axis(index=display_column_name_mapping) \\\n",
    "    .rename(columns=display_column_name_mapping)\n",
    "result_summary_with_display_names_df"
   ]
  },
  {
   "cell_type": "markdown",
   "metadata": {
    "collapsed": false,
    "papermill": {
     "duration": 0.060933,
     "end_time": "2020-12-18T23:31:32.778725",
     "exception": false,
     "start_time": "2020-12-18T23:31:32.717792",
     "status": "completed"
    },
    "tags": []
   },
   "source": [
    "### Daily Summary Plots"
   ]
  },
  {
   "cell_type": "code",
   "execution_count": 53,
   "metadata": {
    "collapsed": false,
    "execution": {
     "iopub.execute_input": "2020-12-18T23:31:32.933159Z",
     "iopub.status.busy": "2020-12-18T23:31:32.916642Z",
     "iopub.status.idle": "2020-12-18T23:31:34.856477Z",
     "shell.execute_reply": "2020-12-18T23:31:34.856879Z"
    },
    "papermill": {
     "duration": 2.01625,
     "end_time": "2020-12-18T23:31:34.857028",
     "exception": false,
     "start_time": "2020-12-18T23:31:32.840778",
     "status": "completed"
    },
    "pycharm": {
     "name": "#%%\n"
    },
    "tags": []
   },
   "outputs": [
    {
     "name": "stderr",
     "output_type": "stream",
     "text": [
      "/opt/hostedtoolcache/Python/3.8.6/x64/lib/python3.8/site-packages/pandas/plotting/_matplotlib/tools.py:307: MatplotlibDeprecationWarning: \n",
      "The rowNum attribute was deprecated in Matplotlib 3.2 and will be removed two minor releases later. Use ax.get_subplotspec().rowspan.start instead.\n",
      "  layout[ax.rowNum, ax.colNum] = ax.get_visible()\n",
      "/opt/hostedtoolcache/Python/3.8.6/x64/lib/python3.8/site-packages/pandas/plotting/_matplotlib/tools.py:307: MatplotlibDeprecationWarning: \n",
      "The colNum attribute was deprecated in Matplotlib 3.2 and will be removed two minor releases later. Use ax.get_subplotspec().colspan.start instead.\n",
      "  layout[ax.rowNum, ax.colNum] = ax.get_visible()\n",
      "/opt/hostedtoolcache/Python/3.8.6/x64/lib/python3.8/site-packages/pandas/plotting/_matplotlib/tools.py:313: MatplotlibDeprecationWarning: \n",
      "The rowNum attribute was deprecated in Matplotlib 3.2 and will be removed two minor releases later. Use ax.get_subplotspec().rowspan.start instead.\n",
      "  if not layout[ax.rowNum + 1, ax.colNum]:\n",
      "/opt/hostedtoolcache/Python/3.8.6/x64/lib/python3.8/site-packages/pandas/plotting/_matplotlib/tools.py:313: MatplotlibDeprecationWarning: \n",
      "The colNum attribute was deprecated in Matplotlib 3.2 and will be removed two minor releases later. Use ax.get_subplotspec().colspan.start instead.\n",
      "  if not layout[ax.rowNum + 1, ax.colNum]:\n"
     ]
    },
    {
     "data": {
      "image/png": "[encoded data removed]",
      "text/plain": [
       "<Figure size 1080x1584 with 7 Axes>"
      ]
     },
     "metadata": {},
     "output_type": "display_data"
    }
   ],
   "source": [
    "result_plot_summary_df = result_summary_df.head(daily_plot_days)[summary_columns] \\\n",
    "    .droplevel(level=[\"source_regions\"]) \\\n",
    "    .rename_axis(index=display_column_name_mapping) \\\n",
    "    .rename(columns=display_column_name_mapping)\n",
    "summary_ax_list = result_plot_summary_df.sort_index(ascending=True).plot.bar(\n",
    "    title=f\"Daily Summary\",\n",
    "    rot=45, subplots=True, figsize=(15, 22), legend=False)\n",
    "ax_ = summary_ax_list[-1]\n",
    "ax_.get_figure().tight_layout()\n",
    "ax_.get_figure().subplots_adjust(top=0.95)\n",
    "ax_.yaxis.set_major_formatter(matplotlib.ticker.PercentFormatter(1.0))\n",
    "_ = ax_.set_xticklabels(sorted(result_plot_summary_df.index.strftime(\"%Y-%m-%d\").tolist()))"
   ]
  },
  {
   "cell_type": "markdown",
   "metadata": {
    "execution": {
     "iopub.execute_input": "2020-09-02T08:20:14.568088Z",
     "iopub.status.busy": "2020-09-02T08:20:14.567425Z",
     "iopub.status.idle": "2020-09-02T08:20:14.571422Z",
     "shell.execute_reply": "2020-09-02T08:20:14.571952Z"
    },
    "papermill": {
     "duration": 0.058577,
     "end_time": "2020-12-18T23:31:34.977341",
     "exception": false,
     "start_time": "2020-12-18T23:31:34.918764",
     "status": "completed"
    },
    "pycharm": {
     "name": "#%% md\n"
    },
    "tags": []
   },
   "source": [
    "### Daily Generation to Upload Period Table"
   ]
  },
  {
   "cell_type": "code",
   "execution_count": 54,
   "metadata": {
    "execution": {
     "iopub.execute_input": "2020-12-18T23:31:35.114696Z",
     "iopub.status.busy": "2020-12-18T23:31:35.113911Z",
     "iopub.status.idle": "2020-12-18T23:31:35.116380Z",
     "shell.execute_reply": "2020-12-18T23:31:35.116800Z"
    },
    "papermill": {
     "duration": 0.081046,
     "end_time": "2020-12-18T23:31:35.116939",
     "exception": false,
     "start_time": "2020-12-18T23:31:35.035893",
     "status": "completed"
    },
    "pycharm": {
     "name": "#%%\n"
    },
    "tags": []
   },
   "outputs": [
    {
     "data": {
      "text/html": [
       "<div>\n",
       "<style scoped>\n",
       "    .dataframe tbody tr th:only-of-type {\n",
       "        vertical-align: middle;\n",
       "    }\n",
       "\n",
       "    .dataframe tbody tr th {\n",
       "        vertical-align: top;\n",
       "    }\n",
       "\n",
       "    .dataframe thead th {\n",
       "        text-align: right;\n",
       "    }\n",
       "</style>\n",
       "<table border=\"1\" class=\"dataframe\">\n",
       "  <thead>\n",
       "    <tr style=\"text-align: right;\">\n",
       "      <th>Generation to Upload Period in Days</th>\n",
       "      <th>0</th>\n",
       "      <th>1</th>\n",
       "      <th>2</th>\n",
       "      <th>3</th>\n",
       "      <th>4</th>\n",
       "      <th>5</th>\n",
       "      <th>6</th>\n",
       "      <th>7</th>\n",
       "      <th>8</th>\n",
       "      <th>9</th>\n",
       "      <th>10</th>\n",
       "      <th>11</th>\n",
       "      <th>12</th>\n",
       "      <th>13</th>\n",
       "    </tr>\n",
       "    <tr>\n",
       "      <th>Upload Date (UTC)</th>\n",
       "      <th></th>\n",
       "      <th></th>\n",
       "      <th></th>\n",
       "      <th></th>\n",
       "      <th></th>\n",
       "      <th></th>\n",
       "      <th></th>\n",
       "      <th></th>\n",
       "      <th></th>\n",
       "      <th></th>\n",
       "      <th></th>\n",
       "      <th></th>\n",
       "      <th></th>\n",
       "      <th></th>\n",
       "    </tr>\n",
       "  </thead>\n",
       "  <tbody>\n",
       "    <tr>\n",
       "      <th>2020-12-18</th>\n",
       "      <td>355</td>\n",
       "      <td>4865</td>\n",
       "      <td>7467</td>\n",
       "      <td>7802</td>\n",
       "      <td>7851</td>\n",
       "      <td>7396</td>\n",
       "      <td>6649</td>\n",
       "      <td>5827</td>\n",
       "      <td>5174</td>\n",
       "      <td>4561</td>\n",
       "      <td>4162</td>\n",
       "      <td>3943</td>\n",
       "      <td>3812</td>\n",
       "      <td>3745</td>\n",
       "    </tr>\n",
       "    <tr>\n",
       "      <th>2020-12-17</th>\n",
       "      <td>295</td>\n",
       "      <td>3151</td>\n",
       "      <td>4690</td>\n",
       "      <td>4367</td>\n",
       "      <td>4188</td>\n",
       "      <td>4019</td>\n",
       "      <td>3937</td>\n",
       "      <td>3852</td>\n",
       "      <td>3771</td>\n",
       "      <td>3739</td>\n",
       "      <td>3697</td>\n",
       "      <td>3654</td>\n",
       "      <td>3626</td>\n",
       "      <td>3585</td>\n",
       "    </tr>\n",
       "    <tr>\n",
       "      <th>2020-12-16</th>\n",
       "      <td>299</td>\n",
       "      <td>2890</td>\n",
       "      <td>5725</td>\n",
       "      <td>5143</td>\n",
       "      <td>5009</td>\n",
       "      <td>4906</td>\n",
       "      <td>4708</td>\n",
       "      <td>4637</td>\n",
       "      <td>4542</td>\n",
       "      <td>4432</td>\n",
       "      <td>4349</td>\n",
       "      <td>4345</td>\n",
       "      <td>4259</td>\n",
       "      <td>4236</td>\n",
       "    </tr>\n",
       "    <tr>\n",
       "      <th>2020-12-15</th>\n",
       "      <td>168</td>\n",
       "      <td>789</td>\n",
       "      <td>1752</td>\n",
       "      <td>1701</td>\n",
       "      <td>1596</td>\n",
       "      <td>1534</td>\n",
       "      <td>1470</td>\n",
       "      <td>1401</td>\n",
       "      <td>1346</td>\n",
       "      <td>1306</td>\n",
       "      <td>1330</td>\n",
       "      <td>1283</td>\n",
       "      <td>1277</td>\n",
       "      <td>1243</td>\n",
       "    </tr>\n",
       "    <tr>\n",
       "      <th>2020-12-14</th>\n",
       "      <td>181</td>\n",
       "      <td>1485</td>\n",
       "      <td>2282</td>\n",
       "      <td>2203</td>\n",
       "      <td>2075</td>\n",
       "      <td>1972</td>\n",
       "      <td>1912</td>\n",
       "      <td>1875</td>\n",
       "      <td>1794</td>\n",
       "      <td>1742</td>\n",
       "      <td>1754</td>\n",
       "      <td>1716</td>\n",
       "      <td>1698</td>\n",
       "      <td>1689</td>\n",
       "    </tr>\n",
       "    <tr>\n",
       "      <th>2020-12-13</th>\n",
       "      <td>96</td>\n",
       "      <td>1421</td>\n",
       "      <td>2712</td>\n",
       "      <td>2408</td>\n",
       "      <td>2246</td>\n",
       "      <td>2177</td>\n",
       "      <td>2122</td>\n",
       "      <td>2062</td>\n",
       "      <td>2044</td>\n",
       "      <td>2014</td>\n",
       "      <td>1976</td>\n",
       "      <td>1971</td>\n",
       "      <td>1931</td>\n",
       "      <td>1922</td>\n",
       "    </tr>\n",
       "    <tr>\n",
       "      <th>2020-12-12</th>\n",
       "      <td>208</td>\n",
       "      <td>2402</td>\n",
       "      <td>3729</td>\n",
       "      <td>3385</td>\n",
       "      <td>3217</td>\n",
       "      <td>3041</td>\n",
       "      <td>2974</td>\n",
       "      <td>2924</td>\n",
       "      <td>2899</td>\n",
       "      <td>2858</td>\n",
       "      <td>2833</td>\n",
       "      <td>2791</td>\n",
       "      <td>2734</td>\n",
       "      <td>2744</td>\n",
       "    </tr>\n",
       "    <tr>\n",
       "      <th>2020-12-11</th>\n",
       "      <td>258</td>\n",
       "      <td>2908</td>\n",
       "      <td>4215</td>\n",
       "      <td>3893</td>\n",
       "      <td>3664</td>\n",
       "      <td>3580</td>\n",
       "      <td>3500</td>\n",
       "      <td>3427</td>\n",
       "      <td>3349</td>\n",
       "      <td>3309</td>\n",
       "      <td>3270</td>\n",
       "      <td>3205</td>\n",
       "      <td>3193</td>\n",
       "      <td>3140</td>\n",
       "    </tr>\n",
       "    <tr>\n",
       "      <th>2020-12-10</th>\n",
       "      <td>207</td>\n",
       "      <td>2665</td>\n",
       "      <td>3754</td>\n",
       "      <td>3416</td>\n",
       "      <td>3244</td>\n",
       "      <td>3191</td>\n",
       "      <td>3132</td>\n",
       "      <td>3069</td>\n",
       "      <td>3036</td>\n",
       "      <td>2979</td>\n",
       "      <td>2955</td>\n",
       "      <td>2914</td>\n",
       "      <td>2871</td>\n",
       "      <td>2889</td>\n",
       "    </tr>\n",
       "    <tr>\n",
       "      <th>2020-12-09</th>\n",
       "      <td>117</td>\n",
       "      <td>2841</td>\n",
       "      <td>4014</td>\n",
       "      <td>3601</td>\n",
       "      <td>3519</td>\n",
       "      <td>3436</td>\n",
       "      <td>3342</td>\n",
       "      <td>3276</td>\n",
       "      <td>3238</td>\n",
       "      <td>3192</td>\n",
       "      <td>3134</td>\n",
       "      <td>3115</td>\n",
       "      <td>3107</td>\n",
       "      <td>3072</td>\n",
       "    </tr>\n",
       "    <tr>\n",
       "      <th>2020-12-08</th>\n",
       "      <td>121</td>\n",
       "      <td>2286</td>\n",
       "      <td>2641</td>\n",
       "      <td>2575</td>\n",
       "      <td>2496</td>\n",
       "      <td>2411</td>\n",
       "      <td>2335</td>\n",
       "      <td>2266</td>\n",
       "      <td>2246</td>\n",
       "      <td>2193</td>\n",
       "      <td>2165</td>\n",
       "      <td>2138</td>\n",
       "      <td>2133</td>\n",
       "      <td>2096</td>\n",
       "    </tr>\n",
       "    <tr>\n",
       "      <th>2020-12-07</th>\n",
       "      <td>116</td>\n",
       "      <td>1339</td>\n",
       "      <td>1823</td>\n",
       "      <td>1765</td>\n",
       "      <td>1689</td>\n",
       "      <td>1604</td>\n",
       "      <td>1569</td>\n",
       "      <td>1519</td>\n",
       "      <td>1525</td>\n",
       "      <td>1462</td>\n",
       "      <td>1448</td>\n",
       "      <td>1430</td>\n",
       "      <td>1402</td>\n",
       "      <td>1413</td>\n",
       "    </tr>\n",
       "    <tr>\n",
       "      <th>2020-12-06</th>\n",
       "      <td>152</td>\n",
       "      <td>1170</td>\n",
       "      <td>1707</td>\n",
       "      <td>1523</td>\n",
       "      <td>1398</td>\n",
       "      <td>1355</td>\n",
       "      <td>1310</td>\n",
       "      <td>1280</td>\n",
       "      <td>1275</td>\n",
       "      <td>1247</td>\n",
       "      <td>1238</td>\n",
       "      <td>1188</td>\n",
       "      <td>1190</td>\n",
       "      <td>1173</td>\n",
       "    </tr>\n",
       "    <tr>\n",
       "      <th>2020-12-05</th>\n",
       "      <td>167</td>\n",
       "      <td>2183</td>\n",
       "      <td>5053</td>\n",
       "      <td>7593</td>\n",
       "      <td>10092</td>\n",
       "      <td>9910</td>\n",
       "      <td>9487</td>\n",
       "      <td>9267</td>\n",
       "      <td>9190</td>\n",
       "      <td>8930</td>\n",
       "      <td>8743</td>\n",
       "      <td>8672</td>\n",
       "      <td>8546</td>\n",
       "      <td>8386</td>\n",
       "    </tr>\n",
       "  </tbody>\n",
       "</table>\n",
       "</div>"
      ],
      "text/plain": [
       "Generation to Upload Period in Days   0     1     2     3      4     5     6   \\\n",
       "Upload Date (UTC)                                                               \n",
       "2020-12-18                           355  4865  7467  7802   7851  7396  6649   \n",
       "2020-12-17                           295  3151  4690  4367   4188  4019  3937   \n",
       "2020-12-16                           299  2890  5725  5143   5009  4906  4708   \n",
       "2020-12-15                           168   789  1752  1701   1596  1534  1470   \n",
       "2020-12-14                           181  1485  2282  2203   2075  1972  1912   \n",
       "2020-12-13                            96  1421  2712  2408   2246  2177  2122   \n",
       "2020-12-12                           208  2402  3729  3385   3217  3041  2974   \n",
       "2020-12-11                           258  2908  4215  3893   3664  3580  3500   \n",
       "2020-12-10                           207  2665  3754  3416   3244  3191  3132   \n",
       "2020-12-09                           117  2841  4014  3601   3519  3436  3342   \n",
       "2020-12-08                           121  2286  2641  2575   2496  2411  2335   \n",
       "2020-12-07                           116  1339  1823  1765   1689  1604  1569   \n",
       "2020-12-06                           152  1170  1707  1523   1398  1355  1310   \n",
       "2020-12-05                           167  2183  5053  7593  10092  9910  9487   \n",
       "\n",
       "Generation to Upload Period in Days    7     8     9     10    11    12    13  \n",
       "Upload Date (UTC)                                                              \n",
       "2020-12-18                           5827  5174  4561  4162  3943  3812  3745  \n",
       "2020-12-17                           3852  3771  3739  3697  3654  3626  3585  \n",
       "2020-12-16                           4637  4542  4432  4349  4345  4259  4236  \n",
       "2020-12-15                           1401  1346  1306  1330  1283  1277  1243  \n",
       "2020-12-14                           1875  1794  1742  1754  1716  1698  1689  \n",
       "2020-12-13                           2062  2044  2014  1976  1971  1931  1922  \n",
       "2020-12-12                           2924  2899  2858  2833  2791  2734  2744  \n",
       "2020-12-11                           3427  3349  3309  3270  3205  3193  3140  \n",
       "2020-12-10                           3069  3036  2979  2955  2914  2871  2889  \n",
       "2020-12-09                           3276  3238  3192  3134  3115  3107  3072  \n",
       "2020-12-08                           2266  2246  2193  2165  2138  2133  2096  \n",
       "2020-12-07                           1519  1525  1462  1448  1430  1402  1413  \n",
       "2020-12-06                           1280  1275  1247  1238  1188  1190  1173  \n",
       "2020-12-05                           9267  9190  8930  8743  8672  8546  8386  "
      ]
     },
     "execution_count": 54,
     "metadata": {},
     "output_type": "execute_result"
    }
   ],
   "source": [
    "display_generation_to_upload_period_pivot_df = \\\n",
    "    generation_to_upload_period_pivot_df \\\n",
    "        .head(backend_generation_days)\n",
    "display_generation_to_upload_period_pivot_df \\\n",
    "    .head(backend_generation_days) \\\n",
    "    .rename_axis(columns=display_column_name_mapping) \\\n",
    "    .rename_axis(index=display_column_name_mapping)"
   ]
  },
  {
   "cell_type": "code",
   "execution_count": 55,
   "metadata": {
    "collapsed": false,
    "execution": {
     "iopub.execute_input": "2020-12-18T23:31:36.503561Z",
     "iopub.status.busy": "2020-12-18T23:31:36.500367Z",
     "iopub.status.idle": "2020-12-18T23:31:38.106051Z",
     "shell.execute_reply": "2020-12-18T23:31:38.106476Z"
    },
    "papermill": {
     "duration": 2.924419,
     "end_time": "2020-12-18T23:31:38.106627",
     "exception": false,
     "start_time": "2020-12-18T23:31:35.182208",
     "status": "completed"
    },
    "pycharm": {
     "name": "#%%\n"
    },
    "tags": []
   },
   "outputs": [
    {
     "data": {
      "image/png": "[encoded data removed]",
      "text/plain": [
       "<Figure size 864x676.8 with 2 Axes>"
      ]
     },
     "metadata": {},
     "output_type": "display_data"
    }
   ],
   "source": [
    "fig, generation_to_upload_period_pivot_table_ax = plt.subplots(\n",
    "    figsize=(12, 1 + 0.6 * len(display_generation_to_upload_period_pivot_df)))\n",
    "generation_to_upload_period_pivot_table_ax.set_title(\n",
    "    \"Shared TEKs Generation to Upload Period Table\")\n",
    "sns.heatmap(\n",
    "    data=display_generation_to_upload_period_pivot_df\n",
    "        .rename_axis(columns=display_column_name_mapping)\n",
    "        .rename_axis(index=display_column_name_mapping),\n",
    "    fmt=\".0f\",\n",
    "    annot=True,\n",
    "    ax=generation_to_upload_period_pivot_table_ax)\n",
    "generation_to_upload_period_pivot_table_ax.get_figure().tight_layout()"
   ]
  },
  {
   "cell_type": "markdown",
   "metadata": {
    "collapsed": false,
    "papermill": {
     "duration": 0.06544,
     "end_time": "2020-12-18T23:31:38.240573",
     "exception": false,
     "start_time": "2020-12-18T23:31:38.175133",
     "status": "completed"
    },
    "tags": []
   },
   "source": [
    "### Hourly Summary Plots "
   ]
  },
  {
   "cell_type": "code",
   "execution_count": 56,
   "metadata": {
    "collapsed": false,
    "execution": {
     "iopub.execute_input": "2020-12-18T23:31:38.408000Z",
     "iopub.status.busy": "2020-12-18T23:31:38.407303Z",
     "iopub.status.idle": "2020-12-18T23:31:38.779100Z",
     "shell.execute_reply": "2020-12-18T23:31:38.778617Z"
    },
    "papermill": {
     "duration": 0.470252,
     "end_time": "2020-12-18T23:31:38.779238",
     "exception": false,
     "start_time": "2020-12-18T23:31:38.308986",
     "status": "completed"
    },
    "pycharm": {
     "name": "#%%\n"
    },
    "tags": []
   },
   "outputs": [
    {
     "data": {
      "image/png": "[encoded data removed]",
      "text/plain": [
       "<Figure size 1080x432 with 1 Axes>"
      ]
     },
     "metadata": {},
     "output_type": "display_data"
    }
   ],
   "source": [
    "hourly_summary_ax_list = hourly_summary_df \\\n",
    "    .rename_axis(index=display_column_name_mapping) \\\n",
    "    .rename(columns=display_column_name_mapping) \\\n",
    "    .plot.bar(\n",
    "        title=f\"Last 24h Summary\",\n",
    "        rot=45, subplots=True, legend=False)\n",
    "ax_ = hourly_summary_ax_list[-1]\n",
    "ax_.get_figure().tight_layout()\n",
    "ax_.get_figure().subplots_adjust(top=0.9)\n",
    "_ = ax_.set_xticklabels(sorted(hourly_summary_df.index.strftime(\"%Y-%m-%d@%H\").tolist()))"
   ]
  },
  {
   "cell_type": "markdown",
   "metadata": {
    "collapsed": false,
    "papermill": {
     "duration": 0.065966,
     "end_time": "2020-12-18T23:31:38.917756",
     "exception": false,
     "start_time": "2020-12-18T23:31:38.851790",
     "status": "completed"
    },
    "tags": []
   },
   "source": [
    "### Publish Results"
   ]
  },
  {
   "cell_type": "code",
   "execution_count": 57,
   "metadata": {
    "collapsed": false,
    "execution": {
     "iopub.execute_input": "2020-12-18T23:31:39.063656Z",
     "iopub.status.busy": "2020-12-18T23:31:39.063104Z",
     "iopub.status.idle": "2020-12-18T23:31:39.065185Z",
     "shell.execute_reply": "2020-12-18T23:31:39.064756Z"
    },
    "papermill": {
     "duration": 0.078626,
     "end_time": "2020-12-18T23:31:39.065298",
     "exception": false,
     "start_time": "2020-12-18T23:31:38.986672",
     "status": "completed"
    },
    "pycharm": {
     "name": "#%%\n"
    },
    "tags": []
   },
   "outputs": [],
   "source": [
    "def get_temporary_image_path() -> str:\n",
    "    return os.path.join(tempfile.gettempdir(), str(uuid.uuid4()) + \".png\")\n",
    "\n",
    "def save_temporary_plot_image(ax):\n",
    "    if isinstance(ax, np.ndarray):\n",
    "        ax = ax[0]\n",
    "    media_path = get_temporary_image_path()\n",
    "    ax.get_figure().savefig(media_path)\n",
    "    return media_path\n",
    "\n",
    "def save_temporary_dataframe_image(df):\n",
    "    import dataframe_image as dfi\n",
    "    media_path = get_temporary_image_path()\n",
    "    dfi.export(df, media_path)\n",
    "    return media_path"
   ]
  },
  {
   "cell_type": "code",
   "execution_count": 58,
   "metadata": {
    "collapsed": false,
    "execution": {
     "iopub.execute_input": "2020-12-18T23:31:39.232090Z",
     "iopub.status.busy": "2020-12-18T23:31:39.205442Z",
     "iopub.status.idle": "2020-12-18T23:31:39.233915Z",
     "shell.execute_reply": "2020-12-18T23:31:39.234260Z"
    },
    "papermill": {
     "duration": 0.104903,
     "end_time": "2020-12-18T23:31:39.234409",
     "exception": false,
     "start_time": "2020-12-18T23:31:39.129506",
     "status": "completed"
    },
    "pycharm": {
     "name": "#%%\n"
    },
    "tags": []
   },
   "outputs": [
    {
     "name": "stderr",
     "output_type": "stream",
     "text": [
      "<ipython-input-58-bd16b454de40>:49: FutureWarning: `item` has been deprecated and will be removed in a future version\n",
      "  extraction_date_result_summary_df.covid_cases.item()\n",
      "<ipython-input-58-bd16b454de40>:51: FutureWarning: `item` has been deprecated and will be removed in a future version\n",
      "  extraction_date_result_summary_df.shared_teks_by_generation_date.item()\n",
      "<ipython-input-58-bd16b454de40>:53: FutureWarning: `item` has been deprecated and will be removed in a future version\n",
      "  extraction_date_result_summary_df.shared_teks_by_upload_date.item()\n",
      "<ipython-input-58-bd16b454de40>:55: FutureWarning: `item` has been deprecated and will be removed in a future version\n",
      "  extraction_date_result_summary_df.shared_diagnoses.item()\n",
      "<ipython-input-58-bd16b454de40>:57: FutureWarning: `item` has been deprecated and will be removed in a future version\n",
      "  extraction_date_result_summary_df.teks_per_shared_diagnosis.item()\n",
      "<ipython-input-58-bd16b454de40>:59: FutureWarning: `item` has been deprecated and will be removed in a future version\n",
      "  extraction_date_result_summary_df.shared_diagnoses_per_covid_case.item()\n"
     ]
    }
   ],
   "source": [
    "github_repository = os.environ.get(\"GITHUB_REPOSITORY\")\n",
    "if github_repository is None:\n",
    "    github_repository = \"pvieito/Radar-STATS\"\n",
    "\n",
    "github_project_base_url = \"https://github.com/\" + github_repository\n",
    "\n",
    "display_formatters = {\n",
    "    display_column_name_mapping[\"teks_per_shared_diagnosis\"]: lambda x: f\"{x:.2f}\",\n",
    "    display_column_name_mapping[\"shared_diagnoses_per_covid_case\"]: lambda x: f\"{x:.2%}\",\n",
    "}\n",
    "daily_summary_table_html = result_summary_with_display_names_df \\\n",
    "    .head(daily_plot_days) \\\n",
    "    .rename_axis(index=display_column_name_mapping) \\\n",
    "    .rename(columns=display_column_name_mapping) \\\n",
    "    .to_html(formatters=display_formatters)\n",
    "multi_backend_summary_table_html = multi_backend_summary_df \\\n",
    "    .head(daily_plot_days) \\\n",
    "    .rename_axis(columns=display_column_name_mapping) \\\n",
    "    .rename(columns=display_column_name_mapping) \\\n",
    "    .rename_axis(index=display_column_name_mapping) \\\n",
    "    .to_html(formatters=display_formatters)\n",
    "\n",
    "def format_multi_backend_cross_sharing_fraction(x):\n",
    "    if pd.isna(x):\n",
    "        return \"-\"\n",
    "    elif round(x * 100, 1) == 0:\n",
    "        return \"\"\n",
    "    else:\n",
    "        return f\"{x:.1%}\"\n",
    "\n",
    "multi_backend_cross_sharing_summary_table_html = multi_backend_cross_sharing_summary_df \\\n",
    "    .rename_axis(columns=display_column_name_mapping) \\\n",
    "    .rename(columns=display_column_name_mapping) \\\n",
    "    .rename_axis(index=display_column_name_mapping) \\\n",
    "    .to_html(\n",
    "        classes=\"table-center\",\n",
    "        formatters=display_formatters,\n",
    "        float_format=format_multi_backend_cross_sharing_fraction)\n",
    "multi_backend_cross_sharing_summary_table_html = \\\n",
    "    multi_backend_cross_sharing_summary_table_html \\\n",
    "        .replace(\"<tr>\",\"<tr style=\\\"text-align: center;\\\">\")\n",
    "\n",
    "extraction_date_result_summary_df = \\\n",
    "    result_summary_df[result_summary_df.index.get_level_values(\"sample_date\") == extraction_date]\n",
    "extraction_date_result_hourly_summary_df = \\\n",
    "    hourly_summary_df[hourly_summary_df.extraction_date_with_hour == extraction_date_with_hour]\n",
    "\n",
    "covid_cases = \\\n",
    "    extraction_date_result_summary_df.covid_cases.item()\n",
    "shared_teks_by_generation_date = \\\n",
    "    extraction_date_result_summary_df.shared_teks_by_generation_date.item()\n",
    "shared_teks_by_upload_date = \\\n",
    "    extraction_date_result_summary_df.shared_teks_by_upload_date.item()\n",
    "shared_diagnoses = \\\n",
    "    extraction_date_result_summary_df.shared_diagnoses.item()\n",
    "teks_per_shared_diagnosis = \\\n",
    "    extraction_date_result_summary_df.teks_per_shared_diagnosis.item()\n",
    "shared_diagnoses_per_covid_case = \\\n",
    "    extraction_date_result_summary_df.shared_diagnoses_per_covid_case.item()\n",
    "\n",
    "shared_teks_by_upload_date_last_hour = \\\n",
    "    extraction_date_result_hourly_summary_df.shared_teks_by_upload_date.sum().astype(int)\n",
    "\n",
    "display_source_regions = \", \".join(report_source_regions)\n",
    "if len(report_source_regions) == 1:\n",
    "    display_brief_source_regions = report_source_regions[0]\n",
    "else:\n",
    "    display_brief_source_regions = f\"{len(report_source_regions)} 🇪🇺\""
   ]
  },
  {
   "cell_type": "code",
   "execution_count": 59,
   "metadata": {
    "execution": {
     "iopub.execute_input": "2020-12-18T23:31:39.378848Z",
     "iopub.status.busy": "2020-12-18T23:31:39.378262Z",
     "iopub.status.idle": "2020-12-18T23:32:07.389474Z",
     "shell.execute_reply": "2020-12-18T23:32:07.388993Z"
    },
    "papermill": {
     "duration": 28.08447,
     "end_time": "2020-12-18T23:32:07.389599",
     "exception": false,
     "start_time": "2020-12-18T23:31:39.305129",
     "status": "completed"
    },
    "pycharm": {
     "name": "#%%\n"
    },
    "tags": []
   },
   "outputs": [],
   "source": [
    "summary_plots_image_path = save_temporary_plot_image(\n",
    "    ax=summary_ax_list)\n",
    "summary_table_image_path = save_temporary_dataframe_image(\n",
    "    df=result_summary_with_display_names_df)\n",
    "hourly_summary_plots_image_path = save_temporary_plot_image(\n",
    "    ax=hourly_summary_ax_list)\n",
    "multi_backend_summary_table_image_path = save_temporary_dataframe_image(\n",
    "    df=multi_backend_summary_df)\n",
    "generation_to_upload_period_pivot_table_image_path = save_temporary_plot_image(\n",
    "    ax=generation_to_upload_period_pivot_table_ax)"
   ]
  },
  {
   "cell_type": "markdown",
   "metadata": {
    "execution": {
     "iopub.execute_input": "2020-09-02T08:20:16.981187Z",
     "iopub.status.busy": "2020-09-02T08:20:16.980584Z",
     "iopub.status.idle": "2020-09-02T08:20:20.068070Z",
     "shell.execute_reply": "2020-09-02T08:20:20.068598Z"
    },
    "papermill": {
     "duration": 0.071524,
     "end_time": "2020-12-18T23:32:07.536274",
     "exception": false,
     "start_time": "2020-12-18T23:32:07.464750",
     "status": "completed"
    },
    "pycharm": {
     "name": "#%% md\n"
    },
    "tags": []
   },
   "source": [
    "### Save Results"
   ]
  },
  {
   "cell_type": "code",
   "execution_count": 60,
   "metadata": {
    "collapsed": false,
    "execution": {
     "iopub.execute_input": "2020-12-18T23:32:07.706955Z",
     "iopub.status.busy": "2020-12-18T23:32:07.706388Z",
     "iopub.status.idle": "2020-12-18T23:32:07.737058Z",
     "shell.execute_reply": "2020-12-18T23:32:07.736398Z"
    },
    "papermill": {
     "duration": 0.117177,
     "end_time": "2020-12-18T23:32:07.737225",
     "exception": false,
     "start_time": "2020-12-18T23:32:07.620048",
     "status": "completed"
    },
    "pycharm": {
     "name": "#%%\n"
    },
    "tags": []
   },
   "outputs": [],
   "source": [
    "report_resources_path_prefix = \"Data/Resources/Current/RadarCOVID-Report-\"\n",
    "result_summary_df.to_csv(\n",
    "    report_resources_path_prefix + \"Summary-Table.csv\")\n",
    "result_summary_df.to_html(\n",
    "    report_resources_path_prefix + \"Summary-Table.html\")\n",
    "hourly_summary_df.to_csv(\n",
    "    report_resources_path_prefix + \"Hourly-Summary-Table.csv\")\n",
    "multi_backend_summary_df.to_csv(\n",
    "    report_resources_path_prefix + \"Multi-Backend-Summary-Table.csv\")\n",
    "multi_backend_cross_sharing_summary_df.to_csv(\n",
    "    report_resources_path_prefix + \"Multi-Backend-Cross-Sharing-Summary-Table.csv\")\n",
    "generation_to_upload_period_pivot_df.to_csv(\n",
    "    report_resources_path_prefix + \"Generation-Upload-Period-Table.csv\")\n",
    "_ = shutil.copyfile(\n",
    "    summary_plots_image_path,\n",
    "    report_resources_path_prefix + \"Summary-Plots.png\")\n",
    "_ = shutil.copyfile(\n",
    "    summary_table_image_path,\n",
    "    report_resources_path_prefix + \"Summary-Table.png\")\n",
    "_ = shutil.copyfile(\n",
    "    hourly_summary_plots_image_path,\n",
    "    report_resources_path_prefix + \"Hourly-Summary-Plots.png\")\n",
    "_ = shutil.copyfile(\n",
    "    multi_backend_summary_table_image_path,\n",
    "    report_resources_path_prefix + \"Multi-Backend-Summary-Table.png\")\n",
    "_ = shutil.copyfile(\n",
    "    generation_to_upload_period_pivot_table_image_path,\n",
    "    report_resources_path_prefix + \"Generation-Upload-Period-Table.png\")"
   ]
  },
  {
   "cell_type": "markdown",
   "metadata": {
    "collapsed": false,
    "papermill": {
     "duration": 0.071375,
     "end_time": "2020-12-18T23:32:07.881526",
     "exception": false,
     "start_time": "2020-12-18T23:32:07.810151",
     "status": "completed"
    },
    "pycharm": {
     "name": "#%% md\n"
    },
    "tags": []
   },
   "source": [
    "### Publish Results as JSON"
   ]
  },
  {
   "cell_type": "code",
   "execution_count": 61,
   "metadata": {
    "execution": {
     "iopub.execute_input": "2020-12-18T23:32:08.038788Z",
     "iopub.status.busy": "2020-12-18T23:32:08.038210Z",
     "iopub.status.idle": "2020-12-18T23:32:08.053405Z",
     "shell.execute_reply": "2020-12-18T23:32:08.053887Z"
    },
    "papermill": {
     "duration": 0.099002,
     "end_time": "2020-12-18T23:32:08.054042",
     "exception": false,
     "start_time": "2020-12-18T23:32:07.955040",
     "status": "completed"
    },
    "pycharm": {
     "name": "#%%\n"
    },
    "tags": []
   },
   "outputs": [],
   "source": [
    "def generate_summary_api_results(df: pd.DataFrame) -> list:\n",
    "    api_df = df.reset_index().copy()\n",
    "    api_df[\"sample_date_string\"] = \\\n",
    "        api_df[\"sample_date\"].dt.strftime(\"%Y-%m-%d\")\n",
    "    api_df[\"source_regions\"] = \\\n",
    "        api_df[\"source_regions\"].apply(lambda x: x.split(\",\"))\n",
    "    return api_df.to_dict(orient=\"records\")\n",
    "\n",
    "summary_api_results = \\\n",
    "    generate_summary_api_results(df=result_summary_df)\n",
    "today_summary_api_results = \\\n",
    "    generate_summary_api_results(df=extraction_date_result_summary_df)[0]\n",
    "\n",
    "summary_results = dict(\n",
    "    backend_identifier=report_backend_identifier,\n",
    "    source_regions=report_source_regions,\n",
    "    extraction_datetime=extraction_datetime,\n",
    "    extraction_date=extraction_date,\n",
    "    extraction_date_with_hour=extraction_date_with_hour,\n",
    "    last_hour=dict(\n",
    "        shared_teks_by_upload_date=shared_teks_by_upload_date_last_hour,\n",
    "        shared_diagnoses=0,\n",
    "    ),\n",
    "    today=today_summary_api_results,\n",
    "    last_7_days=last_7_days_summary,\n",
    "    daily_results=summary_api_results)\n",
    "\n",
    "summary_results = \\\n",
    "    json.loads(pd.Series([summary_results]).to_json(orient=\"records\"))[0]\n",
    "\n",
    "with open(report_resources_path_prefix + \"Summary-Results.json\", \"w\") as f:\n",
    "    json.dump(summary_results, f, indent=4)"
   ]
  },
  {
   "cell_type": "markdown",
   "metadata": {
    "execution": {
     "iopub.execute_input": "2020-09-02T08:20:20.895901Z",
     "iopub.status.busy": "2020-09-02T08:20:20.895301Z",
     "iopub.status.idle": "2020-09-02T08:20:20.942286Z",
     "shell.execute_reply": "2020-09-02T08:20:20.942834Z"
    },
    "papermill": {
     "duration": 0.071158,
     "end_time": "2020-12-18T23:32:08.196676",
     "exception": false,
     "start_time": "2020-12-18T23:32:08.125518",
     "status": "completed"
    },
    "pycharm": {
     "name": "#%% md\n"
    },
    "tags": []
   },
   "source": [
    "### Publish on README"
   ]
  },
  {
   "cell_type": "code",
   "execution_count": 62,
   "metadata": {
    "collapsed": false,
    "execution": {
     "iopub.execute_input": "2020-12-18T23:32:08.344264Z",
     "iopub.status.busy": "2020-12-18T23:32:08.343635Z",
     "iopub.status.idle": "2020-12-18T23:32:08.347282Z",
     "shell.execute_reply": "2020-12-18T23:32:08.347716Z"
    },
    "papermill": {
     "duration": 0.080644,
     "end_time": "2020-12-18T23:32:08.347858",
     "exception": false,
     "start_time": "2020-12-18T23:32:08.267214",
     "status": "completed"
    },
    "pycharm": {
     "name": "#%%\n"
    },
    "tags": []
   },
   "outputs": [],
   "source": [
    "with open(\"Data/Templates/README.md\", \"r\") as f:\n",
    "    readme_contents = f.read()\n",
    "\n",
    "readme_contents = readme_contents.format(\n",
    "    extraction_date_with_hour=extraction_date_with_hour,\n",
    "    github_project_base_url=github_project_base_url,\n",
    "    daily_summary_table_html=daily_summary_table_html,\n",
    "    multi_backend_summary_table_html=multi_backend_summary_table_html,\n",
    "    multi_backend_cross_sharing_summary_table_html=multi_backend_cross_sharing_summary_table_html,\n",
    "    display_source_regions=display_source_regions)\n",
    "\n",
    "with open(\"README.md\", \"w\") as f:\n",
    "    f.write(readme_contents)"
   ]
  },
  {
   "cell_type": "markdown",
   "metadata": {
    "collapsed": false,
    "papermill": {
     "duration": 0.07547,
     "end_time": "2020-12-18T23:32:08.498331",
     "exception": false,
     "start_time": "2020-12-18T23:32:08.422861",
     "status": "completed"
    },
    "pycharm": {
     "name": "#%% md\n"
    },
    "tags": []
   },
   "source": [
    "### Publish on Twitter"
   ]
  },
  {
   "cell_type": "code",
   "execution_count": 63,
   "metadata": {
    "collapsed": false,
    "execution": {
     "iopub.execute_input": "2020-12-18T23:32:08.653760Z",
     "iopub.status.busy": "2020-12-18T23:32:08.653091Z",
     "iopub.status.idle": "2020-12-18T23:32:13.816828Z",
     "shell.execute_reply": "2020-12-18T23:32:13.817259Z"
    },
    "papermill": {
     "duration": 5.242868,
     "end_time": "2020-12-18T23:32:13.817409",
     "exception": false,
     "start_time": "2020-12-18T23:32:08.574541",
     "status": "completed"
    },
    "pycharm": {
     "name": "#%%\n"
    },
    "tags": []
   },
   "outputs": [],
   "source": [
    "enable_share_to_twitter = os.environ.get(\"RADARCOVID_REPORT__ENABLE_PUBLISH_ON_TWITTER\")\n",
    "github_event_name = os.environ.get(\"GITHUB_EVENT_NAME\")\n",
    "\n",
    "if enable_share_to_twitter and github_event_name == \"schedule\" and \\\n",
    "        (shared_teks_by_upload_date_last_hour or not are_today_results_partial):\n",
    "    import tweepy\n",
    "\n",
    "    twitter_api_auth_keys = os.environ[\"RADARCOVID_REPORT__TWITTER_API_AUTH_KEYS\"]\n",
    "    twitter_api_auth_keys = twitter_api_auth_keys.split(\":\")\n",
    "    auth = tweepy.OAuthHandler(twitter_api_auth_keys[0], twitter_api_auth_keys[1])\n",
    "    auth.set_access_token(twitter_api_auth_keys[2], twitter_api_auth_keys[3])\n",
    "\n",
    "    api = tweepy.API(auth)\n",
    "\n",
    "    summary_plots_media = api.media_upload(summary_plots_image_path)\n",
    "    summary_table_media = api.media_upload(summary_table_image_path)\n",
    "    generation_to_upload_period_pivot_table_image_media = api.media_upload(generation_to_upload_period_pivot_table_image_path)\n",
    "    media_ids = [\n",
    "        summary_plots_media.media_id,\n",
    "        summary_table_media.media_id,\n",
    "        generation_to_upload_period_pivot_table_image_media.media_id,\n",
    "    ]\n",
    "\n",
    "    if are_today_results_partial:\n",
    "        today_addendum = \" (Partial)\"\n",
    "    else:\n",
    "        today_addendum = \"\"\n",
    "\n",
    "    status = textwrap.dedent(f\"\"\"\n",
    "        #RadarCOVID – {extraction_date_with_hour}\n",
    "\n",
    "        Source Countries: {display_brief_source_regions}\n",
    "\n",
    "        Today{today_addendum}:\n",
    "        - Uploaded TEKs: {shared_teks_by_upload_date:.0f} ({shared_teks_by_upload_date_last_hour:+d} last hour)\n",
    "        - Shared Diagnoses: ≤{shared_diagnoses:.0f}\n",
    "        - Usage Ratio: ≤{shared_diagnoses_per_covid_case:.2%}\n",
    "\n",
    "        Last 7 Days:\n",
    "        - Shared Diagnoses: ≤{last_7_days_summary[\"shared_diagnoses\"]:.0f}\n",
    "        - Usage Ratio: ≤{last_7_days_summary[\"shared_diagnoses_per_covid_case\"]:.2%}\n",
    "\n",
    "        Info: {github_project_base_url}#documentation\n",
    "        \"\"\")\n",
    "    status = status.encode(encoding=\"utf-8\")\n",
    "    api.update_status(status=status, media_ids=media_ids)"
   ]
  }
 ],
 "metadata": {
  "kernelspec": {
   "display_name": "Python 3",
   "language": "python",
   "name": "python3"
  },
  "language_info": {
   "codemirror_mode": {
    "name": "ipython",
    "version": 3
   },
   "file_extension": ".py",
   "mimetype": "text/x-python",
   "name": "python",
   "nbconvert_exporter": "python",
   "pygments_lexer": "ipython3",
   "version": "3.8.6"
  },
  "papermill": {
   "duration": 275.465613,
   "end_time": "2020-12-18T23:32:17.978362",
   "environment_variables": {},
   "exception": null,
   "input_path": "Notebooks/RadarCOVID-Report/Source/RadarCOVID-Report.ipynb",
   "output_path": "RadarCOVID-Report.ipynb",
   "parameters": {},
   "start_time": "2020-12-18T23:27:42.512749",
   "version": "2.1.3"
  }
 },
 "nbformat": 4,
 "nbformat_minor": 1
}