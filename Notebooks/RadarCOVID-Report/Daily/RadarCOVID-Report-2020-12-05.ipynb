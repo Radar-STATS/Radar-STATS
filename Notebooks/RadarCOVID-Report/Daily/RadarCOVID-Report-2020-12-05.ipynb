{
 "cells": [
  {
   "cell_type": "markdown",
   "metadata": {
    "papermill": {
     "duration": 0.038522,
     "end_time": "2020-12-05T23:25:46.879372",
     "exception": false,
     "start_time": "2020-12-05T23:25:46.840850",
     "status": "completed"
    },
    "pycharm": {
     "name": "#%% md\n"
    },
    "tags": []
   },
   "source": [
    "# RadarCOVID-Report"
   ]
  },
  {
   "cell_type": "markdown",
   "metadata": {
    "collapsed": true,
    "papermill": {
     "duration": 0.033812,
     "end_time": "2020-12-05T23:25:46.948681",
     "exception": false,
     "start_time": "2020-12-05T23:25:46.914869",
     "status": "completed"
    },
    "pycharm": {
     "name": "#%% md\n"
    },
    "tags": []
   },
   "source": [
    "## Data Extraction"
   ]
  },
  {
   "cell_type": "code",
   "execution_count": 1,
   "metadata": {
    "execution": {
     "iopub.execute_input": "2020-12-05T23:25:47.017986Z",
     "iopub.status.busy": "2020-12-05T23:25:47.017581Z",
     "iopub.status.idle": "2020-12-05T23:25:48.182844Z",
     "shell.execute_reply": "2020-12-05T23:25:48.181849Z"
    },
    "papermill": {
     "duration": 1.204538,
     "end_time": "2020-12-05T23:25:48.183152",
     "exception": false,
     "start_time": "2020-12-05T23:25:46.978614",
     "status": "completed"
    },
    "pycharm": {
     "name": "#%%\n"
    },
    "tags": []
   },
   "outputs": [],
   "source": [
    "import datetime\n",
    "import json\n",
    "import logging\n",
    "import os\n",
    "import shutil\n",
    "import tempfile\n",
    "import textwrap\n",
    "import uuid\n",
    "\n",
    "import matplotlib.pyplot as plt\n",
    "import matplotlib.ticker\n",
    "import numpy as np\n",
    "import pandas as pd\n",
    "import retry\n",
    "import seaborn as sns\n",
    "\n",
    "%matplotlib inline"
   ]
  },
  {
   "cell_type": "code",
   "execution_count": 2,
   "metadata": {
    "collapsed": false,
    "execution": {
     "iopub.execute_input": "2020-12-05T23:25:48.260212Z",
     "iopub.status.busy": "2020-12-05T23:25:48.259744Z",
     "iopub.status.idle": "2020-12-05T23:25:48.261785Z",
     "shell.execute_reply": "2020-12-05T23:25:48.262092Z"
    },
    "papermill": {
     "duration": 0.042251,
     "end_time": "2020-12-05T23:25:48.262195",
     "exception": false,
     "start_time": "2020-12-05T23:25:48.219944",
     "status": "completed"
    },
    "pycharm": {
     "name": "#%%\n"
    },
    "tags": []
   },
   "outputs": [],
   "source": [
    "current_working_directory = os.environ.get(\"PWD\")\n",
    "if current_working_directory:\n",
    "    os.chdir(current_working_directory)\n",
    "\n",
    "sns.set()\n",
    "matplotlib.rcParams[\"figure.figsize\"] = (15, 6)\n",
    "\n",
    "extraction_datetime = datetime.datetime.utcnow()\n",
    "extraction_date = extraction_datetime.strftime(\"%Y-%m-%d\")\n",
    "extraction_previous_datetime = extraction_datetime - datetime.timedelta(days=1)\n",
    "extraction_previous_date = extraction_previous_datetime.strftime(\"%Y-%m-%d\")\n",
    "extraction_date_with_hour = datetime.datetime.utcnow().strftime(\"%Y-%m-%d@%H\")\n",
    "current_hour = datetime.datetime.utcnow().hour\n",
    "are_today_results_partial = current_hour != 23"
   ]
  },
  {
   "cell_type": "markdown",
   "metadata": {
    "collapsed": false,
    "papermill": {
     "duration": 0.027991,
     "end_time": "2020-12-05T23:25:48.318307",
     "exception": false,
     "start_time": "2020-12-05T23:25:48.290316",
     "status": "completed"
    },
    "tags": []
   },
   "source": [
    "### Constants"
   ]
  },
  {
   "cell_type": "code",
   "execution_count": 3,
   "metadata": {
    "execution": {
     "iopub.execute_input": "2020-12-05T23:25:48.385658Z",
     "iopub.status.busy": "2020-12-05T23:25:48.385213Z",
     "iopub.status.idle": "2020-12-05T23:25:48.498275Z",
     "shell.execute_reply": "2020-12-05T23:25:48.497448Z"
    },
    "papermill": {
     "duration": 0.150524,
     "end_time": "2020-12-05T23:25:48.498383",
     "exception": false,
     "start_time": "2020-12-05T23:25:48.347859",
     "status": "completed"
    },
    "pycharm": {
     "name": "#%%\n"
    },
    "tags": []
   },
   "outputs": [],
   "source": [
    "from Modules.ExposureNotification import exposure_notification_io\n",
    "\n",
    "spain_region_country_code = \"ES\"\n",
    "germany_region_country_code = \"DE\"\n",
    "\n",
    "default_backend_identifier = spain_region_country_code\n",
    "\n",
    "backend_generation_days = 7 * 2\n",
    "daily_summary_days = 7 * 4 * 3\n",
    "daily_plot_days = 7 * 4\n",
    "tek_dumps_load_limit = daily_summary_days + 1"
   ]
  },
  {
   "cell_type": "markdown",
   "metadata": {
    "collapsed": false,
    "papermill": {
     "duration": 0.032864,
     "end_time": "2020-12-05T23:25:48.560949",
     "exception": false,
     "start_time": "2020-12-05T23:25:48.528085",
     "status": "completed"
    },
    "tags": []
   },
   "source": [
    "### Parameters"
   ]
  },
  {
   "cell_type": "code",
   "execution_count": 4,
   "metadata": {
    "collapsed": false,
    "execution": {
     "iopub.execute_input": "2020-12-05T23:25:48.625838Z",
     "iopub.status.busy": "2020-12-05T23:25:48.625414Z",
     "iopub.status.idle": "2020-12-05T23:25:48.628208Z",
     "shell.execute_reply": "2020-12-05T23:25:48.628515Z"
    },
    "papermill": {
     "duration": 0.037435,
     "end_time": "2020-12-05T23:25:48.628617",
     "exception": false,
     "start_time": "2020-12-05T23:25:48.591182",
     "status": "completed"
    },
    "pycharm": {
     "name": "#%%\n"
    },
    "tags": []
   },
   "outputs": [
    {
     "data": {
      "text/plain": [
       "'ES'"
      ]
     },
     "execution_count": 4,
     "metadata": {},
     "output_type": "execute_result"
    }
   ],
   "source": [
    "environment_backend_identifier = os.environ.get(\"RADARCOVID_REPORT__BACKEND_IDENTIFIER\")\n",
    "if environment_backend_identifier:\n",
    "    report_backend_identifier = environment_backend_identifier\n",
    "else:\n",
    "    report_backend_identifier = default_backend_identifier\n",
    "report_backend_identifier"
   ]
  },
  {
   "cell_type": "code",
   "execution_count": 5,
   "metadata": {
    "collapsed": false,
    "execution": {
     "iopub.execute_input": "2020-12-05T23:25:48.690853Z",
     "iopub.status.busy": "2020-12-05T23:25:48.690405Z",
     "iopub.status.idle": "2020-12-05T23:25:48.692518Z",
     "shell.execute_reply": "2020-12-05T23:25:48.692888Z"
    },
    "papermill": {
     "duration": 0.035993,
     "end_time": "2020-12-05T23:25:48.692986",
     "exception": false,
     "start_time": "2020-12-05T23:25:48.656993",
     "status": "completed"
    },
    "pycharm": {
     "name": "#%%\n"
    },
    "tags": []
   },
   "outputs": [],
   "source": [
    "environment_enable_multi_backend_download = \\\n",
    "    os.environ.get(\"RADARCOVID_REPORT__ENABLE_MULTI_BACKEND_DOWNLOAD\")\n",
    "if environment_enable_multi_backend_download:\n",
    "    report_backend_identifiers = None\n",
    "else:\n",
    "    report_backend_identifiers = [report_backend_identifier]\n",
    "\n",
    "report_backend_identifiers"
   ]
  },
  {
   "cell_type": "code",
   "execution_count": 6,
   "metadata": {
    "collapsed": false,
    "execution": {
     "iopub.execute_input": "2020-12-05T23:25:48.755099Z",
     "iopub.status.busy": "2020-12-05T23:25:48.754715Z",
     "iopub.status.idle": "2020-12-05T23:25:48.758120Z",
     "shell.execute_reply": "2020-12-05T23:25:48.758677Z"
    },
    "papermill": {
     "duration": 0.037592,
     "end_time": "2020-12-05T23:25:48.758805",
     "exception": false,
     "start_time": "2020-12-05T23:25:48.721213",
     "status": "completed"
    },
    "pycharm": {
     "name": "#%%\n"
    },
    "tags": []
   },
   "outputs": [
    {
     "data": {
      "text/plain": [
       "['2020-10-30', '2020-12-05']"
      ]
     },
     "execution_count": 6,
     "metadata": {},
     "output_type": "execute_result"
    }
   ],
   "source": [
    "environment_invalid_shared_diagnoses_dates = \\\n",
    "    os.environ.get(\"RADARCOVID_REPORT__INVALID_SHARED_DIAGNOSES_DATES\")\n",
    "if environment_invalid_shared_diagnoses_dates:\n",
    "    invalid_shared_diagnoses_dates = environment_invalid_shared_diagnoses_dates.split(\",\")\n",
    "else:\n",
    "    invalid_shared_diagnoses_dates = []\n",
    "\n",
    "invalid_shared_diagnoses_dates"
   ]
  },
  {
   "cell_type": "markdown",
   "metadata": {
    "collapsed": false,
    "papermill": {
     "duration": 0.029052,
     "end_time": "2020-12-05T23:25:48.815844",
     "exception": false,
     "start_time": "2020-12-05T23:25:48.786792",
     "status": "completed"
    },
    "pycharm": {
     "name": "#%% md\n"
    },
    "tags": []
   },
   "source": [
    "### COVID-19 Cases"
   ]
  },
  {
   "cell_type": "code",
   "execution_count": 7,
   "metadata": {
    "collapsed": false,
    "execution": {
     "iopub.execute_input": "2020-12-05T23:25:48.878418Z",
     "iopub.status.busy": "2020-12-05T23:25:48.877966Z",
     "iopub.status.idle": "2020-12-05T23:25:48.880602Z",
     "shell.execute_reply": "2020-12-05T23:25:48.880294Z"
    },
    "papermill": {
     "duration": 0.035735,
     "end_time": "2020-12-05T23:25:48.880685",
     "exception": false,
     "start_time": "2020-12-05T23:25:48.844950",
     "status": "completed"
    },
    "pycharm": {
     "name": "#%%\n"
    },
    "tags": []
   },
   "outputs": [],
   "source": [
    "report_backend_client = \\\n",
    "    exposure_notification_io.get_backend_client_with_identifier(\n",
    "        backend_identifier=report_backend_identifier)"
   ]
  },
  {
   "cell_type": "code",
   "execution_count": 8,
   "metadata": {
    "collapsed": false,
    "execution": {
     "iopub.execute_input": "2020-12-05T23:25:48.942749Z",
     "iopub.status.busy": "2020-12-05T23:25:48.942359Z",
     "iopub.status.idle": "2020-12-05T23:26:04.902781Z",
     "shell.execute_reply": "2020-12-05T23:26:04.901708Z"
    },
    "papermill": {
     "duration": 15.993506,
     "end_time": "2020-12-05T23:26:04.902904",
     "exception": false,
     "start_time": "2020-12-05T23:25:48.909398",
     "status": "completed"
    },
    "pycharm": {
     "name": "#%%\n"
    },
    "tags": []
   },
   "outputs": [],
   "source": [
    "@retry.retry(tries=10, delay=10, backoff=1.1, jitter=(0, 10))\n",
    "def download_cases_dataframe_from_ecdc():\n",
    "    return pd.read_csv(\n",
    "        \"https://opendata.ecdc.europa.eu/covid19/casedistribution/csv/data.csv\")\n",
    "\n",
    "confirmed_df_ = download_cases_dataframe_from_ecdc()"
   ]
  },
  {
   "cell_type": "code",
   "execution_count": 9,
   "metadata": {
    "collapsed": false,
    "execution": {
     "iopub.execute_input": "2020-12-05T23:26:04.967804Z",
     "iopub.status.busy": "2020-12-05T23:26:04.966837Z",
     "iopub.status.idle": "2020-12-05T23:26:05.281673Z",
     "shell.execute_reply": "2020-12-05T23:26:05.282027Z"
    },
    "papermill": {
     "duration": 0.349835,
     "end_time": "2020-12-05T23:26:05.282164",
     "exception": false,
     "start_time": "2020-12-05T23:26:04.932329",
     "status": "completed"
    },
    "pycharm": {
     "name": "#%%\n"
    },
    "tags": []
   },
   "outputs": [
    {
     "data": {
      "text/html": [
       "<div>\n",
       "<style scoped>\n",
       "    .dataframe tbody tr th:only-of-type {\n",
       "        vertical-align: middle;\n",
       "    }\n",
       "\n",
       "    .dataframe tbody tr th {\n",
       "        vertical-align: top;\n",
       "    }\n",
       "\n",
       "    .dataframe thead th {\n",
       "        text-align: right;\n",
       "    }\n",
       "</style>\n",
       "<table border=\"1\" class=\"dataframe\">\n",
       "  <thead>\n",
       "    <tr style=\"text-align: right;\">\n",
       "      <th></th>\n",
       "      <th>sample_date</th>\n",
       "      <th>new_cases</th>\n",
       "      <th>country_code</th>\n",
       "    </tr>\n",
       "  </thead>\n",
       "  <tbody>\n",
       "    <tr>\n",
       "      <th>44006</th>\n",
       "      <td>2020-12-05</td>\n",
       "      <td>13236</td>\n",
       "      <td>PL</td>\n",
       "    </tr>\n",
       "    <tr>\n",
       "      <th>2254</th>\n",
       "      <td>2020-12-05</td>\n",
       "      <td>1267</td>\n",
       "      <td>AM</td>\n",
       "    </tr>\n",
       "    <tr>\n",
       "      <th>21822</th>\n",
       "      <td>2020-12-05</td>\n",
       "      <td>4</td>\n",
       "      <td>GI</td>\n",
       "    </tr>\n",
       "    <tr>\n",
       "      <th>38617</th>\n",
       "      <td>2020-12-05</td>\n",
       "      <td>1272</td>\n",
       "      <td>NP</td>\n",
       "    </tr>\n",
       "    <tr>\n",
       "      <th>0</th>\n",
       "      <td>2020-12-05</td>\n",
       "      <td>235</td>\n",
       "      <td>AF</td>\n",
       "    </tr>\n",
       "  </tbody>\n",
       "</table>\n",
       "</div>"
      ],
      "text/plain": [
       "      sample_date  new_cases country_code\n",
       "44006  2020-12-05      13236           PL\n",
       "2254   2020-12-05       1267           AM\n",
       "21822  2020-12-05          4           GI\n",
       "38617  2020-12-05       1272           NP\n",
       "0      2020-12-05        235           AF"
      ]
     },
     "execution_count": 9,
     "metadata": {},
     "output_type": "execute_result"
    }
   ],
   "source": [
    "confirmed_df = confirmed_df_.copy()\n",
    "confirmed_df = confirmed_df[[\"dateRep\", \"cases\", \"geoId\"]]\n",
    "confirmed_df.rename(\n",
    "    columns={\n",
    "        \"dateRep\":\"sample_date\",\n",
    "        \"cases\": \"new_cases\",\n",
    "        \"geoId\": \"country_code\",\n",
    "    },\n",
    "    inplace=True)\n",
    "confirmed_df[\"sample_date\"] = pd.to_datetime(confirmed_df.sample_date, dayfirst=True)\n",
    "confirmed_df[\"sample_date\"] = confirmed_df.sample_date.dt.strftime(\"%Y-%m-%d\")\n",
    "confirmed_df.sort_values(\"sample_date\", inplace=True)\n",
    "confirmed_df.tail()"
   ]
  },
  {
   "cell_type": "code",
   "execution_count": 10,
   "metadata": {
    "collapsed": false,
    "execution": {
     "iopub.execute_input": "2020-12-05T23:26:05.352002Z",
     "iopub.status.busy": "2020-12-05T23:26:05.351541Z",
     "iopub.status.idle": "2020-12-05T23:26:05.354056Z",
     "shell.execute_reply": "2020-12-05T23:26:05.354578Z"
    },
    "papermill": {
     "duration": 0.038444,
     "end_time": "2020-12-05T23:26:05.354694",
     "exception": false,
     "start_time": "2020-12-05T23:26:05.316250",
     "status": "completed"
    },
    "pycharm": {
     "name": "#%%\n"
    },
    "tags": []
   },
   "outputs": [],
   "source": [
    "def sort_source_regions_for_display(source_regions: list) -> list:\n",
    "    if report_backend_identifier in source_regions:\n",
    "        source_regions = [report_backend_identifier] + \\\n",
    "            list(sorted(set(source_regions).difference([report_backend_identifier])))\n",
    "    else:\n",
    "        source_regions = list(sorted(source_regions))\n",
    "    return source_regions"
   ]
  },
  {
   "cell_type": "code",
   "execution_count": 11,
   "metadata": {
    "collapsed": false,
    "execution": {
     "iopub.execute_input": "2020-12-05T23:26:05.416428Z",
     "iopub.status.busy": "2020-12-05T23:26:05.415920Z",
     "iopub.status.idle": "2020-12-05T23:26:05.419114Z",
     "shell.execute_reply": "2020-12-05T23:26:05.419543Z"
    },
    "papermill": {
     "duration": 0.036203,
     "end_time": "2020-12-05T23:26:05.419651",
     "exception": false,
     "start_time": "2020-12-05T23:26:05.383448",
     "status": "completed"
    },
    "pycharm": {
     "name": "#%%\n"
    },
    "tags": []
   },
   "outputs": [
    {
     "data": {
      "text/plain": [
       "['ES', 'DE', 'DK', 'HR', 'IE', 'IT', 'LV', 'PL']"
      ]
     },
     "execution_count": 11,
     "metadata": {},
     "output_type": "execute_result"
    }
   ],
   "source": [
    "report_source_regions = report_backend_client.source_regions_for_date(\n",
    "    date=extraction_datetime.date())\n",
    "report_source_regions = sort_source_regions_for_display(\n",
    "    source_regions=report_source_regions)\n",
    "report_source_regions"
   ]
  },
  {
   "cell_type": "code",
   "execution_count": 12,
   "metadata": {
    "collapsed": false,
    "execution": {
     "iopub.execute_input": "2020-12-05T23:26:05.491444Z",
     "iopub.status.busy": "2020-12-05T23:26:05.490985Z",
     "iopub.status.idle": "2020-12-05T23:26:05.493649Z",
     "shell.execute_reply": "2020-12-05T23:26:05.494046Z"
    },
    "papermill": {
     "duration": 0.044125,
     "end_time": "2020-12-05T23:26:05.494173",
     "exception": false,
     "start_time": "2020-12-05T23:26:05.450048",
     "status": "completed"
    },
    "pycharm": {
     "name": "#%%\n"
    },
    "tags": []
   },
   "outputs": [
    {
     "data": {
      "text/html": [
       "<div>\n",
       "<style scoped>\n",
       "    .dataframe tbody tr th:only-of-type {\n",
       "        vertical-align: middle;\n",
       "    }\n",
       "\n",
       "    .dataframe tbody tr th {\n",
       "        vertical-align: top;\n",
       "    }\n",
       "\n",
       "    .dataframe thead th {\n",
       "        text-align: right;\n",
       "    }\n",
       "</style>\n",
       "<table border=\"1\" class=\"dataframe\">\n",
       "  <thead>\n",
       "    <tr style=\"text-align: right;\">\n",
       "      <th></th>\n",
       "      <th>sample_date</th>\n",
       "      <th>sample_date_string</th>\n",
       "    </tr>\n",
       "  </thead>\n",
       "  <tbody>\n",
       "    <tr>\n",
       "      <th>336</th>\n",
       "      <td>2020-12-01</td>\n",
       "      <td>2020-12-01</td>\n",
       "    </tr>\n",
       "    <tr>\n",
       "      <th>337</th>\n",
       "      <td>2020-12-02</td>\n",
       "      <td>2020-12-02</td>\n",
       "    </tr>\n",
       "    <tr>\n",
       "      <th>338</th>\n",
       "      <td>2020-12-03</td>\n",
       "      <td>2020-12-03</td>\n",
       "    </tr>\n",
       "    <tr>\n",
       "      <th>339</th>\n",
       "      <td>2020-12-04</td>\n",
       "      <td>2020-12-04</td>\n",
       "    </tr>\n",
       "    <tr>\n",
       "      <th>340</th>\n",
       "      <td>2020-12-05</td>\n",
       "      <td>2020-12-05</td>\n",
       "    </tr>\n",
       "  </tbody>\n",
       "</table>\n",
       "</div>"
      ],
      "text/plain": [
       "    sample_date sample_date_string\n",
       "336  2020-12-01         2020-12-01\n",
       "337  2020-12-02         2020-12-02\n",
       "338  2020-12-03         2020-12-03\n",
       "339  2020-12-04         2020-12-04\n",
       "340  2020-12-05         2020-12-05"
      ]
     },
     "execution_count": 12,
     "metadata": {},
     "output_type": "execute_result"
    }
   ],
   "source": [
    "confirmed_days = pd.date_range(\n",
    "    start=confirmed_df.iloc[0].sample_date,\n",
    "    end=extraction_datetime)\n",
    "confirmed_days_df = pd.DataFrame(data=confirmed_days, columns=[\"sample_date\"])\n",
    "confirmed_days_df[\"sample_date_string\"] = \\\n",
    "    confirmed_days_df.sample_date.dt.strftime(\"%Y-%m-%d\")\n",
    "confirmed_days_df.tail()"
   ]
  },
  {
   "cell_type": "code",
   "execution_count": 13,
   "metadata": {
    "collapsed": false,
    "execution": {
     "iopub.execute_input": "2020-12-05T23:26:05.572453Z",
     "iopub.status.busy": "2020-12-05T23:26:05.571913Z",
     "iopub.status.idle": "2020-12-05T23:26:05.575321Z",
     "shell.execute_reply": "2020-12-05T23:26:05.575753Z"
    },
    "papermill": {
     "duration": 0.050488,
     "end_time": "2020-12-05T23:26:05.575875",
     "exception": false,
     "start_time": "2020-12-05T23:26:05.525387",
     "status": "completed"
    },
    "pycharm": {
     "name": "#%%\n"
    },
    "tags": []
   },
   "outputs": [
    {
     "data": {
      "text/html": [
       "<div>\n",
       "<style scoped>\n",
       "    .dataframe tbody tr th:only-of-type {\n",
       "        vertical-align: middle;\n",
       "    }\n",
       "\n",
       "    .dataframe tbody tr th {\n",
       "        vertical-align: top;\n",
       "    }\n",
       "\n",
       "    .dataframe thead th {\n",
       "        text-align: right;\n",
       "    }\n",
       "</style>\n",
       "<table border=\"1\" class=\"dataframe\">\n",
       "  <thead>\n",
       "    <tr style=\"text-align: right;\">\n",
       "      <th></th>\n",
       "      <th>sample_date</th>\n",
       "      <th>sample_date_string</th>\n",
       "      <th>source_regions_at_date</th>\n",
       "      <th>_source_regions_group</th>\n",
       "    </tr>\n",
       "  </thead>\n",
       "  <tbody>\n",
       "    <tr>\n",
       "      <th>336</th>\n",
       "      <td>2020-12-01</td>\n",
       "      <td>2020-12-01</td>\n",
       "      <td>{DE, PL, HR, IE, ES, DK, LV, IT}</td>\n",
       "      <td>ES,DE,DK,HR,IE,IT,LV,PL</td>\n",
       "    </tr>\n",
       "    <tr>\n",
       "      <th>337</th>\n",
       "      <td>2020-12-02</td>\n",
       "      <td>2020-12-02</td>\n",
       "      <td>{DE, PL, HR, IE, ES, DK, LV, IT}</td>\n",
       "      <td>ES,DE,DK,HR,IE,IT,LV,PL</td>\n",
       "    </tr>\n",
       "    <tr>\n",
       "      <th>338</th>\n",
       "      <td>2020-12-03</td>\n",
       "      <td>2020-12-03</td>\n",
       "      <td>{ES}</td>\n",
       "      <td>ES</td>\n",
       "    </tr>\n",
       "    <tr>\n",
       "      <th>339</th>\n",
       "      <td>2020-12-04</td>\n",
       "      <td>2020-12-04</td>\n",
       "      <td>{ES}</td>\n",
       "      <td>ES</td>\n",
       "    </tr>\n",
       "    <tr>\n",
       "      <th>340</th>\n",
       "      <td>2020-12-05</td>\n",
       "      <td>2020-12-05</td>\n",
       "      <td>{DE, PL, HR, IE, ES, DK, LV, IT}</td>\n",
       "      <td>ES,DE,DK,HR,IE,IT,LV,PL</td>\n",
       "    </tr>\n",
       "  </tbody>\n",
       "</table>\n",
       "</div>"
      ],
      "text/plain": [
       "    sample_date sample_date_string            source_regions_at_date  \\\n",
       "336  2020-12-01         2020-12-01  {DE, PL, HR, IE, ES, DK, LV, IT}   \n",
       "337  2020-12-02         2020-12-02  {DE, PL, HR, IE, ES, DK, LV, IT}   \n",
       "338  2020-12-03         2020-12-03                              {ES}   \n",
       "339  2020-12-04         2020-12-04                              {ES}   \n",
       "340  2020-12-05         2020-12-05  {DE, PL, HR, IE, ES, DK, LV, IT}   \n",
       "\n",
       "       _source_regions_group  \n",
       "336  ES,DE,DK,HR,IE,IT,LV,PL  \n",
       "337  ES,DE,DK,HR,IE,IT,LV,PL  \n",
       "338                       ES  \n",
       "339                       ES  \n",
       "340  ES,DE,DK,HR,IE,IT,LV,PL  "
      ]
     },
     "execution_count": 13,
     "metadata": {},
     "output_type": "execute_result"
    }
   ],
   "source": [
    "source_regions_at_date_df = confirmed_days_df.copy()\n",
    "source_regions_at_date_df[\"source_regions_at_date\"] = \\\n",
    "    source_regions_at_date_df.sample_date.apply(\n",
    "        lambda x: report_backend_client.source_regions_for_date(date=x))\n",
    "source_regions_at_date_df.sort_values(\"sample_date\", inplace=True)\n",
    "source_regions_at_date_df[\"_source_regions_group\"] = source_regions_at_date_df. \\\n",
    "    source_regions_at_date.apply(lambda x: \",\".join(sort_source_regions_for_display(x)))\n",
    "source_regions_at_date_df.tail()"
   ]
  },
  {
   "cell_type": "code",
   "execution_count": 14,
   "metadata": {
    "collapsed": false,
    "execution": {
     "iopub.execute_input": "2020-12-05T23:26:05.651175Z",
     "iopub.status.busy": "2020-12-05T23:26:05.650732Z",
     "iopub.status.idle": "2020-12-05T23:26:05.653344Z",
     "shell.execute_reply": "2020-12-05T23:26:05.652957Z"
    },
    "papermill": {
     "duration": 0.043847,
     "end_time": "2020-12-05T23:26:05.653438",
     "exception": false,
     "start_time": "2020-12-05T23:26:05.609591",
     "status": "completed"
    },
    "pycharm": {
     "name": "#%%\n"
    },
    "tags": []
   },
   "outputs": [
    {
     "data": {
      "text/html": [
       "<div>\n",
       "<style scoped>\n",
       "    .dataframe tbody tr th:only-of-type {\n",
       "        vertical-align: middle;\n",
       "    }\n",
       "\n",
       "    .dataframe tbody tr th {\n",
       "        vertical-align: top;\n",
       "    }\n",
       "\n",
       "    .dataframe thead th {\n",
       "        text-align: right;\n",
       "    }\n",
       "</style>\n",
       "<table border=\"1\" class=\"dataframe\">\n",
       "  <thead>\n",
       "    <tr style=\"text-align: right;\">\n",
       "      <th></th>\n",
       "      <th>sample_date</th>\n",
       "      <th>source_regions</th>\n",
       "    </tr>\n",
       "  </thead>\n",
       "  <tbody>\n",
       "    <tr>\n",
       "      <th>336</th>\n",
       "      <td>2020-12-01</td>\n",
       "      <td>ES,DE,DK,HR,IE,IT,LV,PL</td>\n",
       "    </tr>\n",
       "    <tr>\n",
       "      <th>337</th>\n",
       "      <td>2020-12-02</td>\n",
       "      <td>ES,DE,DK,HR,IE,IT,LV,PL</td>\n",
       "    </tr>\n",
       "    <tr>\n",
       "      <th>338</th>\n",
       "      <td>2020-12-03</td>\n",
       "      <td>ES</td>\n",
       "    </tr>\n",
       "    <tr>\n",
       "      <th>339</th>\n",
       "      <td>2020-12-04</td>\n",
       "      <td>ES</td>\n",
       "    </tr>\n",
       "    <tr>\n",
       "      <th>340</th>\n",
       "      <td>2020-12-05</td>\n",
       "      <td>ES,DE,DK,HR,IE,IT,LV,PL</td>\n",
       "    </tr>\n",
       "  </tbody>\n",
       "</table>\n",
       "</div>"
      ],
      "text/plain": [
       "    sample_date           source_regions\n",
       "336  2020-12-01  ES,DE,DK,HR,IE,IT,LV,PL\n",
       "337  2020-12-02  ES,DE,DK,HR,IE,IT,LV,PL\n",
       "338  2020-12-03                       ES\n",
       "339  2020-12-04                       ES\n",
       "340  2020-12-05  ES,DE,DK,HR,IE,IT,LV,PL"
      ]
     },
     "execution_count": 14,
     "metadata": {},
     "output_type": "execute_result"
    }
   ],
   "source": [
    "source_regions_for_summary_df = \\\n",
    "    source_regions_at_date_df[[\"sample_date\", \"_source_regions_group\"]].copy()\n",
    "source_regions_for_summary_df.rename(columns={\"_source_regions_group\": \"source_regions\"}, inplace=True)\n",
    "source_regions_for_summary_df.tail()"
   ]
  },
  {
   "cell_type": "code",
   "execution_count": 15,
   "metadata": {
    "collapsed": false,
    "execution": {
     "iopub.execute_input": "2020-12-05T23:26:05.729693Z",
     "iopub.status.busy": "2020-12-05T23:26:05.729187Z",
     "iopub.status.idle": "2020-12-05T23:26:05.784745Z",
     "shell.execute_reply": "2020-12-05T23:26:05.785506Z"
    },
    "papermill": {
     "duration": 0.09819,
     "end_time": "2020-12-05T23:26:05.785726",
     "exception": false,
     "start_time": "2020-12-05T23:26:05.687536",
     "status": "completed"
    },
    "pycharm": {
     "name": "#%%\n"
    },
    "tags": []
   },
   "outputs": [
    {
     "data": {
      "text/html": [
       "<div>\n",
       "<style scoped>\n",
       "    .dataframe tbody tr th:only-of-type {\n",
       "        vertical-align: middle;\n",
       "    }\n",
       "\n",
       "    .dataframe tbody tr th {\n",
       "        vertical-align: top;\n",
       "    }\n",
       "\n",
       "    .dataframe thead th {\n",
       "        text-align: right;\n",
       "    }\n",
       "</style>\n",
       "<table border=\"1\" class=\"dataframe\">\n",
       "  <thead>\n",
       "    <tr style=\"text-align: right;\">\n",
       "      <th></th>\n",
       "      <th>sample_date</th>\n",
       "      <th>new_cases</th>\n",
       "      <th>covid_cases</th>\n",
       "    </tr>\n",
       "  </thead>\n",
       "  <tbody>\n",
       "    <tr>\n",
       "      <th>309</th>\n",
       "      <td>2020-11-04</td>\n",
       "      <td>70966</td>\n",
       "      <td>66020.0</td>\n",
       "    </tr>\n",
       "    <tr>\n",
       "      <th>310</th>\n",
       "      <td>2020-11-05</td>\n",
       "      <td>73194</td>\n",
       "      <td>67010.0</td>\n",
       "    </tr>\n",
       "    <tr>\n",
       "      <th>311</th>\n",
       "      <td>2020-11-06</td>\n",
       "      <td>79454</td>\n",
       "      <td>68044.0</td>\n",
       "    </tr>\n",
       "    <tr>\n",
       "      <th>312</th>\n",
       "      <td>2020-11-07</td>\n",
       "      <td>62050</td>\n",
       "      <td>69596.0</td>\n",
       "    </tr>\n",
       "    <tr>\n",
       "      <th>313</th>\n",
       "      <td>2020-11-08</td>\n",
       "      <td>56547</td>\n",
       "      <td>71025.0</td>\n",
       "    </tr>\n",
       "  </tbody>\n",
       "</table>\n",
       "</div>"
      ],
      "text/plain": [
       "    sample_date new_cases  covid_cases\n",
       "309  2020-11-04     70966      66020.0\n",
       "310  2020-11-05     73194      67010.0\n",
       "311  2020-11-06     79454      68044.0\n",
       "312  2020-11-07     62050      69596.0\n",
       "313  2020-11-08     56547      71025.0"
      ]
     },
     "execution_count": 15,
     "metadata": {},
     "output_type": "execute_result"
    }
   ],
   "source": [
    "confirmed_output_columns = [\"sample_date\", \"new_cases\", \"covid_cases\"]\n",
    "confirmed_output_df = pd.DataFrame(columns=confirmed_output_columns)\n",
    "\n",
    "for source_regions_group, source_regions_group_series in \\\n",
    "        source_regions_at_date_df.groupby(\"_source_regions_group\"):\n",
    "    source_regions_set = set(source_regions_group.split(\",\"))\n",
    "    confirmed_source_regions_set_df = \\\n",
    "        confirmed_df[confirmed_df.country_code.isin(source_regions_set)].copy()\n",
    "    confirmed_source_regions_group_df = \\\n",
    "        confirmed_source_regions_set_df.groupby(\"sample_date\").new_cases.sum() \\\n",
    "            .reset_index().sort_values(\"sample_date\")\n",
    "    confirmed_source_regions_group_df[\"covid_cases\"] = \\\n",
    "        confirmed_source_regions_group_df.new_cases.rolling(7, min_periods=0).mean().round()\n",
    "    confirmed_source_regions_group_df = \\\n",
    "        confirmed_source_regions_group_df[confirmed_output_columns]\n",
    "    confirmed_source_regions_group_df.fillna(method=\"ffill\", inplace=True)\n",
    "    confirmed_source_regions_group_df = \\\n",
    "        confirmed_source_regions_group_df[\n",
    "            confirmed_source_regions_group_df.sample_date.isin(\n",
    "                source_regions_group_series.sample_date_string)]\n",
    "    confirmed_output_df = confirmed_output_df.append(confirmed_source_regions_group_df)\n",
    "\n",
    "confirmed_df = confirmed_output_df.copy()\n",
    "confirmed_df.tail()"
   ]
  },
  {
   "cell_type": "code",
   "execution_count": 16,
   "metadata": {
    "collapsed": false,
    "execution": {
     "iopub.execute_input": "2020-12-05T23:26:05.867955Z",
     "iopub.status.busy": "2020-12-05T23:26:05.867403Z",
     "iopub.status.idle": "2020-12-05T23:26:05.875849Z",
     "shell.execute_reply": "2020-12-05T23:26:05.876181Z"
    },
    "papermill": {
     "duration": 0.053398,
     "end_time": "2020-12-05T23:26:05.876299",
     "exception": false,
     "start_time": "2020-12-05T23:26:05.822901",
     "status": "completed"
    },
    "pycharm": {
     "name": "#%%\n"
    },
    "tags": []
   },
   "outputs": [
    {
     "data": {
      "text/html": [
       "<div>\n",
       "<style scoped>\n",
       "    .dataframe tbody tr th:only-of-type {\n",
       "        vertical-align: middle;\n",
       "    }\n",
       "\n",
       "    .dataframe tbody tr th {\n",
       "        vertical-align: top;\n",
       "    }\n",
       "\n",
       "    .dataframe thead th {\n",
       "        text-align: right;\n",
       "    }\n",
       "</style>\n",
       "<table border=\"1\" class=\"dataframe\">\n",
       "  <thead>\n",
       "    <tr style=\"text-align: right;\">\n",
       "      <th></th>\n",
       "      <th>sample_date_string</th>\n",
       "      <th>new_cases</th>\n",
       "      <th>covid_cases</th>\n",
       "    </tr>\n",
       "  </thead>\n",
       "  <tbody>\n",
       "    <tr>\n",
       "      <th>336</th>\n",
       "      <td>2020-12-01</td>\n",
       "      <td>47335</td>\n",
       "      <td>72553.0</td>\n",
       "    </tr>\n",
       "    <tr>\n",
       "      <th>337</th>\n",
       "      <td>2020-12-02</td>\n",
       "      <td>60295</td>\n",
       "      <td>68427.0</td>\n",
       "    </tr>\n",
       "    <tr>\n",
       "      <th>338</th>\n",
       "      <td>2020-12-03</td>\n",
       "      <td>10127</td>\n",
       "      <td>8364.0</td>\n",
       "    </tr>\n",
       "    <tr>\n",
       "      <th>339</th>\n",
       "      <td>2020-12-04</td>\n",
       "      <td>8745</td>\n",
       "      <td>8063.0</td>\n",
       "    </tr>\n",
       "    <tr>\n",
       "      <th>340</th>\n",
       "      <td>2020-12-05</td>\n",
       "      <td>67171</td>\n",
       "      <td>65103.0</td>\n",
       "    </tr>\n",
       "  </tbody>\n",
       "</table>\n",
       "</div>"
      ],
      "text/plain": [
       "    sample_date_string  new_cases  covid_cases\n",
       "336         2020-12-01      47335      72553.0\n",
       "337         2020-12-02      60295      68427.0\n",
       "338         2020-12-03      10127       8364.0\n",
       "339         2020-12-04       8745       8063.0\n",
       "340         2020-12-05      67171      65103.0"
      ]
     },
     "execution_count": 16,
     "metadata": {},
     "output_type": "execute_result"
    }
   ],
   "source": [
    "confirmed_df.rename(columns={\"sample_date\": \"sample_date_string\"}, inplace=True)\n",
    "confirmed_df = confirmed_days_df[[\"sample_date_string\"]].merge(confirmed_df, how=\"left\")\n",
    "confirmed_df.sort_values(\"sample_date_string\", inplace=True)\n",
    "confirmed_df.fillna(method=\"ffill\", inplace=True)\n",
    "confirmed_df.tail()"
   ]
  },
  {
   "cell_type": "code",
   "execution_count": 17,
   "metadata": {
    "collapsed": false,
    "execution": {
     "iopub.execute_input": "2020-12-05T23:26:05.946168Z",
     "iopub.status.busy": "2020-12-05T23:26:05.945627Z",
     "iopub.status.idle": "2020-12-05T23:26:06.091191Z",
     "shell.execute_reply": "2020-12-05T23:26:06.091785Z"
    },
    "papermill": {
     "duration": 0.183449,
     "end_time": "2020-12-05T23:26:06.091909",
     "exception": false,
     "start_time": "2020-12-05T23:26:05.908460",
     "status": "completed"
    },
    "pycharm": {
     "name": "#%%\n"
    },
    "tags": []
   },
   "outputs": [
    {
     "data": {
      "text/plain": [
       "<matplotlib.axes._subplots.AxesSubplot at 0x7f9b0f3aa0d0>"
      ]
     },
     "execution_count": 17,
     "metadata": {},
     "output_type": "execute_result"
    },
    {
     "data": {
      "image/png": "[encoded data removed]",
      "text/plain": [
       "<Figure size 1080x432 with 1 Axes>"
      ]
     },
     "metadata": {},
     "output_type": "display_data"
    }
   ],
   "source": [
    "confirmed_df[[\"new_cases\", \"covid_cases\"]].plot()"
   ]
  },
  {
   "cell_type": "markdown",
   "metadata": {
    "execution": {
     "iopub.execute_input": "2020-08-30T22:30:16.351238Z",
     "iopub.status.busy": "2020-08-30T22:30:16.344579Z",
     "iopub.status.idle": "2020-08-30T22:30:16.354285Z",
     "shell.execute_reply": "2020-08-30T22:30:16.353641Z"
    },
    "papermill": {
     "duration": 0.037618,
     "end_time": "2020-12-05T23:26:06.167269",
     "exception": false,
     "start_time": "2020-12-05T23:26:06.129651",
     "status": "completed"
    },
    "pycharm": {
     "name": "#%% md\n"
    },
    "tags": []
   },
   "source": [
    "### Extract API TEKs"
   ]
  },
  {
   "cell_type": "code",
   "execution_count": 18,
   "metadata": {
    "execution": {
     "iopub.execute_input": "2020-12-05T23:26:06.249057Z",
     "iopub.status.busy": "2020-12-05T23:26:06.248455Z",
     "iopub.status.idle": "2020-12-05T23:32:35.757994Z",
     "shell.execute_reply": "2020-12-05T23:32:35.758515Z"
    },
    "papermill": {
     "duration": 389.551586,
     "end_time": "2020-12-05T23:32:35.758734",
     "exception": false,
     "start_time": "2020-12-05T23:26:06.207148",
     "status": "completed"
    },
    "pycharm": {
     "name": "#%%\n"
    },
    "tags": []
   },
   "outputs": [
    {
     "name": "stderr",
     "output_type": "stream",
     "text": [
      "WARNING:root:NoKeysFoundException(\"No exposure keys found on endpoint 'https://radarcovidpre.covid19.gob.es/dp3t/v1/gaen/exposed/1607126400000' (parameters: {'generation_date': '2020-12-05', 'endpoint_identifier_components': ['2020-12-05'], 'backend_identifier': 'ES@PRE', 'server_endpoint_url': 'https://radarcovidpre.covid19.gob.es/dp3t'}).\")\n"
     ]
    },
    {
     "name": "stderr",
     "output_type": "stream",
     "text": [
      "WARNING:root:NoKeysFoundException(\"No exposure keys found on endpoint 'https://stayaway.incm.pt/v1/gaen/exposed/1607126400000' (parameters: {'generation_date': '2020-12-05', 'endpoint_identifier_components': ['2020-12-05'], 'backend_identifier': 'PT', 'server_endpoint_url': 'https://stayaway.incm.pt'}).\")\n"
     ]
    },
    {
     "name": "stderr",
     "output_type": "stream",
     "text": [
      "WARNING:root:NoKeysFoundException(\"No exposure keys found on endpoint 'https://enapi.sm.ee/authorization/v1/gaen/exposed/1607126400000' (parameters: {'generation_date': '2020-12-05', 'endpoint_identifier_components': ['2020-12-05'], 'backend_identifier': 'EE', 'server_endpoint_url': 'https://enapi.sm.ee/authorization'}).\")\n"
     ]
    },
    {
     "name": "stderr",
     "output_type": "stream",
     "text": [
      "WARNING:root:NoKeysFoundException(\"No exposure keys found on endpoint 'https://mt-dpppt-ws.azurewebsites.net/v1/gaen/exposed/1607126400000' (parameters: {'generation_date': '2020-12-05', 'endpoint_identifier_components': ['2020-12-05'], 'backend_identifier': 'MT', 'server_endpoint_url': 'https://mt-dpppt-ws.azurewebsites.net'}).\")\n"
     ]
    },
    {
     "data": {
      "text/html": [
       "<div>\n",
       "<style scoped>\n",
       "    .dataframe tbody tr th:only-of-type {\n",
       "        vertical-align: middle;\n",
       "    }\n",
       "\n",
       "    .dataframe tbody tr th {\n",
       "        vertical-align: top;\n",
       "    }\n",
       "\n",
       "    .dataframe thead th {\n",
       "        text-align: right;\n",
       "    }\n",
       "</style>\n",
       "<table border=\"1\" class=\"dataframe\">\n",
       "  <thead>\n",
       "    <tr style=\"text-align: right;\">\n",
       "      <th></th>\n",
       "      <th>sample_datetime</th>\n",
       "      <th>sample_date_string</th>\n",
       "      <th>region</th>\n",
       "      <th>verification_key_version</th>\n",
       "      <th>verification_key_id</th>\n",
       "      <th>signature_algorithm</th>\n",
       "      <th>key_data</th>\n",
       "      <th>rolling_start_interval_number</th>\n",
       "      <th>rolling_period</th>\n",
       "      <th>transmission_risk_level</th>\n",
       "      <th>backend_identifier</th>\n",
       "    </tr>\n",
       "  </thead>\n",
       "  <tbody>\n",
       "    <tr>\n",
       "      <th>0</th>\n",
       "      <td>2020-12-05</td>\n",
       "      <td>2020-12-05</td>\n",
       "      <td>ES</td>\n",
       "      <td>V1</td>\n",
       "      <td>214</td>\n",
       "      <td>1.2.840.10045.4.3.2</td>\n",
       "      <td>d67c9b61-3a78-b91d-cc42-ea1a44e18b31</td>\n",
       "      <td>2678544</td>\n",
       "      <td>131</td>\n",
       "      <td>0</td>\n",
       "      <td>ES</td>\n",
       "    </tr>\n",
       "    <tr>\n",
       "      <th>1</th>\n",
       "      <td>2020-12-05</td>\n",
       "      <td>2020-12-05</td>\n",
       "      <td>ES</td>\n",
       "      <td>V1</td>\n",
       "      <td>214</td>\n",
       "      <td>1.2.840.10045.4.3.2</td>\n",
       "      <td>ad391b65-d71c-ba27-c2c4-496dd6276ca7</td>\n",
       "      <td>2678544</td>\n",
       "      <td>131</td>\n",
       "      <td>0</td>\n",
       "      <td>ES</td>\n",
       "    </tr>\n",
       "    <tr>\n",
       "      <th>2</th>\n",
       "      <td>2020-12-05</td>\n",
       "      <td>2020-12-05</td>\n",
       "      <td>ES</td>\n",
       "      <td>V1</td>\n",
       "      <td>214</td>\n",
       "      <td>1.2.840.10045.4.3.2</td>\n",
       "      <td>e9599b4b-5062-1117-a789-5b7ae0bd6c23</td>\n",
       "      <td>2678544</td>\n",
       "      <td>128</td>\n",
       "      <td>0</td>\n",
       "      <td>ES</td>\n",
       "    </tr>\n",
       "    <tr>\n",
       "      <th>3</th>\n",
       "      <td>2020-12-05</td>\n",
       "      <td>2020-12-05</td>\n",
       "      <td>ES</td>\n",
       "      <td>V1</td>\n",
       "      <td>214</td>\n",
       "      <td>1.2.840.10045.4.3.2</td>\n",
       "      <td>9328bed6-3da1-3f4e-85a1-b9f2e1de6eb8</td>\n",
       "      <td>2678544</td>\n",
       "      <td>126</td>\n",
       "      <td>0</td>\n",
       "      <td>ES</td>\n",
       "    </tr>\n",
       "    <tr>\n",
       "      <th>4</th>\n",
       "      <td>2020-12-05</td>\n",
       "      <td>2020-12-05</td>\n",
       "      <td>ES</td>\n",
       "      <td>V1</td>\n",
       "      <td>214</td>\n",
       "      <td>1.2.840.10045.4.3.2</td>\n",
       "      <td>2044da99-f27d-ea55-ac1e-6c640f8f5e78</td>\n",
       "      <td>2678544</td>\n",
       "      <td>126</td>\n",
       "      <td>0</td>\n",
       "      <td>ES</td>\n",
       "    </tr>\n",
       "  </tbody>\n",
       "</table>\n",
       "</div>"
      ],
      "text/plain": [
       "  sample_datetime sample_date_string region verification_key_version  \\\n",
       "0      2020-12-05         2020-12-05     ES                       V1   \n",
       "1      2020-12-05         2020-12-05     ES                       V1   \n",
       "2      2020-12-05         2020-12-05     ES                       V1   \n",
       "3      2020-12-05         2020-12-05     ES                       V1   \n",
       "4      2020-12-05         2020-12-05     ES                       V1   \n",
       "\n",
       "  verification_key_id  signature_algorithm  \\\n",
       "0                 214  1.2.840.10045.4.3.2   \n",
       "1                 214  1.2.840.10045.4.3.2   \n",
       "2                 214  1.2.840.10045.4.3.2   \n",
       "3                 214  1.2.840.10045.4.3.2   \n",
       "4                 214  1.2.840.10045.4.3.2   \n",
       "\n",
       "                               key_data  rolling_start_interval_number  \\\n",
       "0  d67c9b61-3a78-b91d-cc42-ea1a44e18b31                        2678544   \n",
       "1  ad391b65-d71c-ba27-c2c4-496dd6276ca7                        2678544   \n",
       "2  e9599b4b-5062-1117-a789-5b7ae0bd6c23                        2678544   \n",
       "3  9328bed6-3da1-3f4e-85a1-b9f2e1de6eb8                        2678544   \n",
       "4  2044da99-f27d-ea55-ac1e-6c640f8f5e78                        2678544   \n",
       "\n",
       "   rolling_period  transmission_risk_level backend_identifier  \n",
       "0             131                        0                 ES  \n",
       "1             131                        0                 ES  \n",
       "2             128                        0                 ES  \n",
       "3             126                        0                 ES  \n",
       "4             126                        0                 ES  "
      ]
     },
     "execution_count": 18,
     "metadata": {},
     "output_type": "execute_result"
    }
   ],
   "source": [
    "raw_zip_path_prefix = \"Data/TEKs/Raw/\"\n",
    "fail_on_error_backend_identifiers = [report_backend_identifier]\n",
    "multi_backend_exposure_keys_df = \\\n",
    "    exposure_notification_io.download_exposure_keys_from_backends(\n",
    "        backend_identifiers=report_backend_identifiers,\n",
    "        generation_days=backend_generation_days,\n",
    "        fail_on_error_backend_identifiers=fail_on_error_backend_identifiers,\n",
    "        save_raw_zip_path_prefix=raw_zip_path_prefix)\n",
    "multi_backend_exposure_keys_df[\"region\"] = multi_backend_exposure_keys_df[\"backend_identifier\"]\n",
    "multi_backend_exposure_keys_df.rename(\n",
    "    columns={\n",
    "        \"generation_datetime\": \"sample_datetime\",\n",
    "        \"generation_date_string\": \"sample_date_string\",\n",
    "    },\n",
    "    inplace=True)\n",
    "multi_backend_exposure_keys_df.head()"
   ]
  },
  {
   "cell_type": "code",
   "execution_count": 19,
   "metadata": {
    "collapsed": false,
    "execution": {
     "iopub.execute_input": "2020-12-05T23:32:35.833209Z",
     "iopub.status.busy": "2020-12-05T23:32:35.832678Z",
     "iopub.status.idle": "2020-12-05T23:32:36.016413Z",
     "shell.execute_reply": "2020-12-05T23:32:36.016960Z"
    },
    "papermill": {
     "duration": 0.224393,
     "end_time": "2020-12-05T23:32:36.017104",
     "exception": false,
     "start_time": "2020-12-05T23:32:35.792711",
     "status": "completed"
    },
    "pycharm": {
     "name": "#%%\n"
    },
    "tags": []
   },
   "outputs": [
    {
     "data": {
      "text/plain": [
       "<matplotlib.axes._subplots.AxesSubplot at 0x7f9ad63c2eb0>"
      ]
     },
     "execution_count": 19,
     "metadata": {},
     "output_type": "execute_result"
    },
    {
     "data": {
      "image/png": "[encoded data removed]",
      "text/plain": [
       "<Figure size 1080x432 with 1 Axes>"
      ]
     },
     "metadata": {},
     "output_type": "display_data"
    }
   ],
   "source": [
    "early_teks_df = multi_backend_exposure_keys_df[\n",
    "    multi_backend_exposure_keys_df.rolling_period < 144].copy()\n",
    "early_teks_df[\"rolling_period_in_hours\"] = early_teks_df.rolling_period / 6\n",
    "early_teks_df[early_teks_df.sample_date_string != extraction_date] \\\n",
    "    .rolling_period_in_hours.hist(bins=list(range(24)))"
   ]
  },
  {
   "cell_type": "code",
   "execution_count": 20,
   "metadata": {
    "collapsed": false,
    "execution": {
     "iopub.execute_input": "2020-12-05T23:32:36.106666Z",
     "iopub.status.busy": "2020-12-05T23:32:36.106277Z",
     "iopub.status.idle": "2020-12-05T23:32:36.259940Z",
     "shell.execute_reply": "2020-12-05T23:32:36.260678Z"
    },
    "papermill": {
     "duration": 0.202853,
     "end_time": "2020-12-05T23:32:36.260821",
     "exception": false,
     "start_time": "2020-12-05T23:32:36.057968",
     "status": "completed"
    },
    "pycharm": {
     "name": "#%%\n"
    },
    "tags": []
   },
   "outputs": [
    {
     "data": {
      "text/plain": [
       "<matplotlib.axes._subplots.AxesSubplot at 0x7f9ad60f6370>"
      ]
     },
     "execution_count": 20,
     "metadata": {},
     "output_type": "execute_result"
    },
    {
     "data": {
      "image/png": "[encoded data removed]",
      "text/plain": [
       "<Figure size 1080x432 with 1 Axes>"
      ]
     },
     "metadata": {},
     "output_type": "display_data"
    }
   ],
   "source": [
    "early_teks_df[early_teks_df.sample_date_string == extraction_date] \\\n",
    "    .rolling_period_in_hours.hist(bins=list(range(24)))"
   ]
  },
  {
   "cell_type": "code",
   "execution_count": 21,
   "metadata": {
    "collapsed": false,
    "execution": {
     "iopub.execute_input": "2020-12-05T23:32:36.450262Z",
     "iopub.status.busy": "2020-12-05T23:32:36.449802Z",
     "iopub.status.idle": "2020-12-05T23:32:36.454549Z",
     "shell.execute_reply": "2020-12-05T23:32:36.455253Z"
    },
    "papermill": {
     "duration": 0.15056,
     "end_time": "2020-12-05T23:32:36.455410",
     "exception": false,
     "start_time": "2020-12-05T23:32:36.304850",
     "status": "completed"
    },
    "pycharm": {
     "name": "#%%\n"
    },
    "tags": []
   },
   "outputs": [
    {
     "data": {
      "text/html": [
       "<div>\n",
       "<style scoped>\n",
       "    .dataframe tbody tr th:only-of-type {\n",
       "        vertical-align: middle;\n",
       "    }\n",
       "\n",
       "    .dataframe tbody tr th {\n",
       "        vertical-align: top;\n",
       "    }\n",
       "\n",
       "    .dataframe thead th {\n",
       "        text-align: right;\n",
       "    }\n",
       "</style>\n",
       "<table border=\"1\" class=\"dataframe\">\n",
       "  <thead>\n",
       "    <tr style=\"text-align: right;\">\n",
       "      <th></th>\n",
       "      <th>sample_date_string</th>\n",
       "      <th>region</th>\n",
       "      <th>key_data</th>\n",
       "    </tr>\n",
       "  </thead>\n",
       "  <tbody>\n",
       "    <tr>\n",
       "      <th>0</th>\n",
       "      <td>2020-12-05</td>\n",
       "      <td>ES</td>\n",
       "      <td>d67c9b61-3a78-b91d-cc42-ea1a44e18b31</td>\n",
       "    </tr>\n",
       "    <tr>\n",
       "      <th>1</th>\n",
       "      <td>2020-12-05</td>\n",
       "      <td>ES</td>\n",
       "      <td>ad391b65-d71c-ba27-c2c4-496dd6276ca7</td>\n",
       "    </tr>\n",
       "    <tr>\n",
       "      <th>2</th>\n",
       "      <td>2020-12-05</td>\n",
       "      <td>ES</td>\n",
       "      <td>e9599b4b-5062-1117-a789-5b7ae0bd6c23</td>\n",
       "    </tr>\n",
       "    <tr>\n",
       "      <th>3</th>\n",
       "      <td>2020-12-05</td>\n",
       "      <td>ES</td>\n",
       "      <td>9328bed6-3da1-3f4e-85a1-b9f2e1de6eb8</td>\n",
       "    </tr>\n",
       "    <tr>\n",
       "      <th>4</th>\n",
       "      <td>2020-12-05</td>\n",
       "      <td>ES</td>\n",
       "      <td>2044da99-f27d-ea55-ac1e-6c640f8f5e78</td>\n",
       "    </tr>\n",
       "  </tbody>\n",
       "</table>\n",
       "</div>"
      ],
      "text/plain": [
       "  sample_date_string region                              key_data\n",
       "0         2020-12-05     ES  d67c9b61-3a78-b91d-cc42-ea1a44e18b31\n",
       "1         2020-12-05     ES  ad391b65-d71c-ba27-c2c4-496dd6276ca7\n",
       "2         2020-12-05     ES  e9599b4b-5062-1117-a789-5b7ae0bd6c23\n",
       "3         2020-12-05     ES  9328bed6-3da1-3f4e-85a1-b9f2e1de6eb8\n",
       "4         2020-12-05     ES  2044da99-f27d-ea55-ac1e-6c640f8f5e78"
      ]
     },
     "execution_count": 21,
     "metadata": {},
     "output_type": "execute_result"
    }
   ],
   "source": [
    "multi_backend_exposure_keys_df = multi_backend_exposure_keys_df[[\n",
    "    \"sample_date_string\", \"region\", \"key_data\"]]\n",
    "multi_backend_exposure_keys_df.head()"
   ]
  },
  {
   "cell_type": "code",
   "execution_count": 22,
   "metadata": {
    "collapsed": false,
    "execution": {
     "iopub.execute_input": "2020-12-05T23:32:36.556747Z",
     "iopub.status.busy": "2020-12-05T23:32:36.556218Z",
     "iopub.status.idle": "2020-12-05T23:32:51.525007Z",
     "shell.execute_reply": "2020-12-05T23:32:51.525444Z"
    },
    "papermill": {
     "duration": 15.031655,
     "end_time": "2020-12-05T23:32:51.525609",
     "exception": false,
     "start_time": "2020-12-05T23:32:36.493954",
     "status": "completed"
    },
    "pycharm": {
     "name": "#%%\n"
    },
    "tags": []
   },
   "outputs": [
    {
     "data": {
      "text/plain": [
       "['BE@TST', 'MT', 'EE', 'PT', 'BE', 'DK', 'CH', 'DE', 'IT', 'ES', 'ES@PRE']"
      ]
     },
     "execution_count": 22,
     "metadata": {},
     "output_type": "execute_result"
    }
   ],
   "source": [
    "active_regions = \\\n",
    "    multi_backend_exposure_keys_df.groupby(\"region\").key_data.nunique().sort_values().index.unique().tolist()\n",
    "active_regions"
   ]
  },
  {
   "cell_type": "code",
   "execution_count": 23,
   "metadata": {
    "collapsed": false,
    "execution": {
     "iopub.execute_input": "2020-12-05T23:32:51.725968Z",
     "iopub.status.busy": "2020-12-05T23:32:51.725368Z",
     "iopub.status.idle": "2020-12-05T23:33:07.031693Z",
     "shell.execute_reply": "2020-12-05T23:33:07.032009Z"
    },
    "papermill": {
     "duration": 15.463149,
     "end_time": "2020-12-05T23:33:07.032134",
     "exception": false,
     "start_time": "2020-12-05T23:32:51.568985",
     "status": "completed"
    },
    "pycharm": {
     "name": "#%%\n"
    },
    "tags": []
   },
   "outputs": [
    {
     "data": {
      "text/html": [
       "<div>\n",
       "<style scoped>\n",
       "    .dataframe tbody tr th:only-of-type {\n",
       "        vertical-align: middle;\n",
       "    }\n",
       "\n",
       "    .dataframe tbody tr th {\n",
       "        vertical-align: top;\n",
       "    }\n",
       "\n",
       "    .dataframe thead tr th {\n",
       "        text-align: left;\n",
       "    }\n",
       "\n",
       "    .dataframe thead tr:last-of-type th {\n",
       "        text-align: right;\n",
       "    }\n",
       "</style>\n",
       "<table border=\"1\" class=\"dataframe\">\n",
       "  <thead>\n",
       "    <tr>\n",
       "      <th></th>\n",
       "      <th colspan=\"11\" halign=\"left\">shared_teks_by_generation_date</th>\n",
       "    </tr>\n",
       "    <tr>\n",
       "      <th>region</th>\n",
       "      <th>BE</th>\n",
       "      <th>BE@TST</th>\n",
       "      <th>CH</th>\n",
       "      <th>DE</th>\n",
       "      <th>DK</th>\n",
       "      <th>EE</th>\n",
       "      <th>ES</th>\n",
       "      <th>ES@PRE</th>\n",
       "      <th>IT</th>\n",
       "      <th>MT</th>\n",
       "      <th>PT</th>\n",
       "    </tr>\n",
       "    <tr>\n",
       "      <th>sample_date</th>\n",
       "      <th></th>\n",
       "      <th></th>\n",
       "      <th></th>\n",
       "      <th></th>\n",
       "      <th></th>\n",
       "      <th></th>\n",
       "      <th></th>\n",
       "      <th></th>\n",
       "      <th></th>\n",
       "      <th></th>\n",
       "      <th></th>\n",
       "    </tr>\n",
       "  </thead>\n",
       "  <tbody>\n",
       "    <tr>\n",
       "      <th>2020-12-05</th>\n",
       "      <td>0</td>\n",
       "      <td>0</td>\n",
       "      <td>391</td>\n",
       "      <td>0</td>\n",
       "      <td>0</td>\n",
       "      <td>0</td>\n",
       "      <td>167</td>\n",
       "      <td>0</td>\n",
       "      <td>37</td>\n",
       "      <td>0</td>\n",
       "      <td>0</td>\n",
       "    </tr>\n",
       "    <tr>\n",
       "      <th>2020-12-04</th>\n",
       "      <td>0</td>\n",
       "      <td>0</td>\n",
       "      <td>997</td>\n",
       "      <td>17</td>\n",
       "      <td>385</td>\n",
       "      <td>53</td>\n",
       "      <td>2341</td>\n",
       "      <td>992</td>\n",
       "      <td>1766</td>\n",
       "      <td>100</td>\n",
       "      <td>42</td>\n",
       "    </tr>\n",
       "    <tr>\n",
       "      <th>2020-12-03</th>\n",
       "      <td>170</td>\n",
       "      <td>46</td>\n",
       "      <td>1488</td>\n",
       "      <td>2444</td>\n",
       "      <td>761</td>\n",
       "      <td>92</td>\n",
       "      <td>5402</td>\n",
       "      <td>12128</td>\n",
       "      <td>4121</td>\n",
       "      <td>103</td>\n",
       "      <td>62</td>\n",
       "    </tr>\n",
       "    <tr>\n",
       "      <th>2020-12-02</th>\n",
       "      <td>233</td>\n",
       "      <td>49</td>\n",
       "      <td>2015</td>\n",
       "      <td>4537</td>\n",
       "      <td>1084</td>\n",
       "      <td>127</td>\n",
       "      <td>8099</td>\n",
       "      <td>58923</td>\n",
       "      <td>6174</td>\n",
       "      <td>104</td>\n",
       "      <td>84</td>\n",
       "    </tr>\n",
       "    <tr>\n",
       "      <th>2020-12-01</th>\n",
       "      <td>313</td>\n",
       "      <td>57</td>\n",
       "      <td>2389</td>\n",
       "      <td>6778</td>\n",
       "      <td>1356</td>\n",
       "      <td>138</td>\n",
       "      <td>10727</td>\n",
       "      <td>111992</td>\n",
       "      <td>8408</td>\n",
       "      <td>106</td>\n",
       "      <td>96</td>\n",
       "    </tr>\n",
       "  </tbody>\n",
       "</table>\n",
       "</div>"
      ],
      "text/plain": [
       "            shared_teks_by_generation_date                                \\\n",
       "region                                  BE BE@TST    CH    DE    DK   EE   \n",
       "sample_date                                                                \n",
       "2020-12-05                               0      0   391     0     0    0   \n",
       "2020-12-04                               0      0   997    17   385   53   \n",
       "2020-12-03                             170     46  1488  2444   761   92   \n",
       "2020-12-02                             233     49  2015  4537  1084  127   \n",
       "2020-12-01                             313     57  2389  6778  1356  138   \n",
       "\n",
       "                                           \n",
       "region          ES  ES@PRE    IT   MT  PT  \n",
       "sample_date                                \n",
       "2020-12-05     167       0    37    0   0  \n",
       "2020-12-04    2341     992  1766  100  42  \n",
       "2020-12-03    5402   12128  4121  103  62  \n",
       "2020-12-02    8099   58923  6174  104  84  \n",
       "2020-12-01   10727  111992  8408  106  96  "
      ]
     },
     "execution_count": 23,
     "metadata": {},
     "output_type": "execute_result"
    }
   ],
   "source": [
    "multi_backend_summary_df = multi_backend_exposure_keys_df.groupby(\n",
    "    [\"sample_date_string\", \"region\"]).key_data.nunique().reset_index() \\\n",
    "    .pivot(index=\"sample_date_string\", columns=\"region\") \\\n",
    "    .sort_index(ascending=False)\n",
    "multi_backend_summary_df.rename(\n",
    "    columns={\"key_data\": \"shared_teks_by_generation_date\"},\n",
    "    inplace=True)\n",
    "multi_backend_summary_df.rename_axis(\"sample_date\", inplace=True)\n",
    "multi_backend_summary_df = multi_backend_summary_df.fillna(0).astype(int)\n",
    "multi_backend_summary_df = multi_backend_summary_df.head(backend_generation_days)\n",
    "multi_backend_summary_df.head()"
   ]
  },
  {
   "cell_type": "code",
   "execution_count": 24,
   "metadata": {
    "collapsed": false,
    "execution": {
     "iopub.execute_input": "2020-12-05T23:33:07.119238Z",
     "iopub.status.busy": "2020-12-05T23:33:07.118697Z",
     "iopub.status.idle": "2020-12-05T23:33:22.093607Z",
     "shell.execute_reply": "2020-12-05T23:33:22.093184Z"
    },
    "papermill": {
     "duration": 15.023787,
     "end_time": "2020-12-05T23:33:22.093732",
     "exception": false,
     "start_time": "2020-12-05T23:33:07.069945",
     "status": "completed"
    },
    "pycharm": {
     "name": "#%%\n"
    },
    "tags": []
   },
   "outputs": [
    {
     "name": "stderr",
     "output_type": "stream",
     "text": [
      "<ipython-input-24-4e21708c19d8>:2: FutureWarning: `item` has been deprecated and will be removed in a future version\n",
      "  teks_x = x.key_data_x.item()\n",
      "<ipython-input-24-4e21708c19d8>:3: FutureWarning: `item` has been deprecated and will be removed in a future version\n",
      "  common_teks = set(teks_x).intersection(x.key_data_y.item())\n"
     ]
    },
    {
     "name": "stderr",
     "output_type": "stream",
     "text": [
      "<ipython-input-24-4e21708c19d8>:33: FutureWarning: `item` has been deprecated and will be removed in a future version\n",
      "  aggfunc=lambda x: x.item())\n"
     ]
    },
    {
     "data": {
      "text/html": [
       "<div>\n",
       "<style scoped>\n",
       "    .dataframe tbody tr th:only-of-type {\n",
       "        vertical-align: middle;\n",
       "    }\n",
       "\n",
       "    .dataframe tbody tr th {\n",
       "        vertical-align: top;\n",
       "    }\n",
       "\n",
       "    .dataframe thead tr th {\n",
       "        text-align: left;\n",
       "    }\n",
       "\n",
       "    .dataframe thead tr:last-of-type th {\n",
       "        text-align: right;\n",
       "    }\n",
       "</style>\n",
       "<table border=\"1\" class=\"dataframe\">\n",
       "  <thead>\n",
       "    <tr>\n",
       "      <th></th>\n",
       "      <th colspan=\"11\" halign=\"left\">common_teks_fraction</th>\n",
       "    </tr>\n",
       "    <tr>\n",
       "      <th>region_x</th>\n",
       "      <th>BE</th>\n",
       "      <th>BE@TST</th>\n",
       "      <th>CH</th>\n",
       "      <th>DE</th>\n",
       "      <th>DK</th>\n",
       "      <th>EE</th>\n",
       "      <th>ES</th>\n",
       "      <th>ES@PRE</th>\n",
       "      <th>IT</th>\n",
       "      <th>MT</th>\n",
       "      <th>PT</th>\n",
       "    </tr>\n",
       "    <tr>\n",
       "      <th>region_y</th>\n",
       "      <th></th>\n",
       "      <th></th>\n",
       "      <th></th>\n",
       "      <th></th>\n",
       "      <th></th>\n",
       "      <th></th>\n",
       "      <th></th>\n",
       "      <th></th>\n",
       "      <th></th>\n",
       "      <th></th>\n",
       "      <th></th>\n",
       "    </tr>\n",
       "  </thead>\n",
       "  <tbody>\n",
       "    <tr>\n",
       "      <th>BE</th>\n",
       "      <td>NaN</td>\n",
       "      <td>0.0</td>\n",
       "      <td>0.0</td>\n",
       "      <td>0.000000</td>\n",
       "      <td>0.000000</td>\n",
       "      <td>0.0</td>\n",
       "      <td>0.000000</td>\n",
       "      <td>0.0</td>\n",
       "      <td>0.000000</td>\n",
       "      <td>0.0</td>\n",
       "      <td>0.0</td>\n",
       "    </tr>\n",
       "    <tr>\n",
       "      <th>BE@TST</th>\n",
       "      <td>0.0</td>\n",
       "      <td>NaN</td>\n",
       "      <td>0.0</td>\n",
       "      <td>0.000000</td>\n",
       "      <td>0.000000</td>\n",
       "      <td>0.0</td>\n",
       "      <td>0.000000</td>\n",
       "      <td>0.0</td>\n",
       "      <td>0.000000</td>\n",
       "      <td>0.0</td>\n",
       "      <td>0.0</td>\n",
       "    </tr>\n",
       "    <tr>\n",
       "      <th>CH</th>\n",
       "      <td>0.0</td>\n",
       "      <td>0.0</td>\n",
       "      <td>NaN</td>\n",
       "      <td>0.000000</td>\n",
       "      <td>0.000000</td>\n",
       "      <td>0.0</td>\n",
       "      <td>0.000000</td>\n",
       "      <td>0.0</td>\n",
       "      <td>0.000000</td>\n",
       "      <td>0.0</td>\n",
       "      <td>0.0</td>\n",
       "    </tr>\n",
       "    <tr>\n",
       "      <th>DE</th>\n",
       "      <td>0.0</td>\n",
       "      <td>0.0</td>\n",
       "      <td>0.0</td>\n",
       "      <td>NaN</td>\n",
       "      <td>0.000000</td>\n",
       "      <td>0.0</td>\n",
       "      <td>0.646607</td>\n",
       "      <td>0.0</td>\n",
       "      <td>0.820774</td>\n",
       "      <td>0.0</td>\n",
       "      <td>0.0</td>\n",
       "    </tr>\n",
       "    <tr>\n",
       "      <th>DK</th>\n",
       "      <td>0.0</td>\n",
       "      <td>0.0</td>\n",
       "      <td>0.0</td>\n",
       "      <td>0.000000</td>\n",
       "      <td>NaN</td>\n",
       "      <td>0.0</td>\n",
       "      <td>0.107766</td>\n",
       "      <td>0.0</td>\n",
       "      <td>0.000000</td>\n",
       "      <td>0.0</td>\n",
       "      <td>0.0</td>\n",
       "    </tr>\n",
       "    <tr>\n",
       "      <th>EE</th>\n",
       "      <td>0.0</td>\n",
       "      <td>0.0</td>\n",
       "      <td>0.0</td>\n",
       "      <td>0.000000</td>\n",
       "      <td>0.000000</td>\n",
       "      <td>NaN</td>\n",
       "      <td>0.000000</td>\n",
       "      <td>0.0</td>\n",
       "      <td>0.000000</td>\n",
       "      <td>0.0</td>\n",
       "      <td>0.0</td>\n",
       "    </tr>\n",
       "    <tr>\n",
       "      <th>ES</th>\n",
       "      <td>0.0</td>\n",
       "      <td>0.0</td>\n",
       "      <td>0.0</td>\n",
       "      <td>0.972771</td>\n",
       "      <td>0.857345</td>\n",
       "      <td>0.0</td>\n",
       "      <td>NaN</td>\n",
       "      <td>0.0</td>\n",
       "      <td>0.992391</td>\n",
       "      <td>0.0</td>\n",
       "      <td>0.0</td>\n",
       "    </tr>\n",
       "    <tr>\n",
       "      <th>ES@PRE</th>\n",
       "      <td>0.0</td>\n",
       "      <td>0.0</td>\n",
       "      <td>0.0</td>\n",
       "      <td>0.000000</td>\n",
       "      <td>0.000000</td>\n",
       "      <td>0.0</td>\n",
       "      <td>0.000000</td>\n",
       "      <td>NaN</td>\n",
       "      <td>0.000000</td>\n",
       "      <td>0.0</td>\n",
       "      <td>0.0</td>\n",
       "    </tr>\n",
       "    <tr>\n",
       "      <th>IT</th>\n",
       "      <td>0.0</td>\n",
       "      <td>0.0</td>\n",
       "      <td>0.0</td>\n",
       "      <td>0.971617</td>\n",
       "      <td>0.000000</td>\n",
       "      <td>0.0</td>\n",
       "      <td>0.780879</td>\n",
       "      <td>0.0</td>\n",
       "      <td>NaN</td>\n",
       "      <td>0.0</td>\n",
       "      <td>0.0</td>\n",
       "    </tr>\n",
       "    <tr>\n",
       "      <th>MT</th>\n",
       "      <td>0.0</td>\n",
       "      <td>0.0</td>\n",
       "      <td>0.0</td>\n",
       "      <td>0.000000</td>\n",
       "      <td>0.000000</td>\n",
       "      <td>0.0</td>\n",
       "      <td>0.000000</td>\n",
       "      <td>0.0</td>\n",
       "      <td>0.000000</td>\n",
       "      <td>NaN</td>\n",
       "      <td>0.0</td>\n",
       "    </tr>\n",
       "    <tr>\n",
       "      <th>PT</th>\n",
       "      <td>0.0</td>\n",
       "      <td>0.0</td>\n",
       "      <td>0.0</td>\n",
       "      <td>0.000000</td>\n",
       "      <td>0.000000</td>\n",
       "      <td>0.0</td>\n",
       "      <td>0.000000</td>\n",
       "      <td>0.0</td>\n",
       "      <td>0.000000</td>\n",
       "      <td>0.0</td>\n",
       "      <td>NaN</td>\n",
       "    </tr>\n",
       "  </tbody>\n",
       "</table>\n",
       "</div>"
      ],
      "text/plain": [
       "         common_teks_fraction                                                 \\\n",
       "region_x                   BE BE@TST   CH        DE        DK   EE        ES   \n",
       "region_y                                                                       \n",
       "BE                        NaN    0.0  0.0  0.000000  0.000000  0.0  0.000000   \n",
       "BE@TST                    0.0    NaN  0.0  0.000000  0.000000  0.0  0.000000   \n",
       "CH                        0.0    0.0  NaN  0.000000  0.000000  0.0  0.000000   \n",
       "DE                        0.0    0.0  0.0       NaN  0.000000  0.0  0.646607   \n",
       "DK                        0.0    0.0  0.0  0.000000       NaN  0.0  0.107766   \n",
       "EE                        0.0    0.0  0.0  0.000000  0.000000  NaN  0.000000   \n",
       "ES                        0.0    0.0  0.0  0.972771  0.857345  0.0       NaN   \n",
       "ES@PRE                    0.0    0.0  0.0  0.000000  0.000000  0.0  0.000000   \n",
       "IT                        0.0    0.0  0.0  0.971617  0.000000  0.0  0.780879   \n",
       "MT                        0.0    0.0  0.0  0.000000  0.000000  0.0  0.000000   \n",
       "PT                        0.0    0.0  0.0  0.000000  0.000000  0.0  0.000000   \n",
       "\n",
       "                                     \n",
       "region_x ES@PRE        IT   MT   PT  \n",
       "region_y                             \n",
       "BE          0.0  0.000000  0.0  0.0  \n",
       "BE@TST      0.0  0.000000  0.0  0.0  \n",
       "CH          0.0  0.000000  0.0  0.0  \n",
       "DE          0.0  0.820774  0.0  0.0  \n",
       "DK          0.0  0.000000  0.0  0.0  \n",
       "EE          0.0  0.000000  0.0  0.0  \n",
       "ES          0.0  0.992391  0.0  0.0  \n",
       "ES@PRE      NaN  0.000000  0.0  0.0  \n",
       "IT          0.0       NaN  0.0  0.0  \n",
       "MT          0.0  0.000000  NaN  0.0  \n",
       "PT          0.0  0.000000  0.0  NaN  "
      ]
     },
     "execution_count": 24,
     "metadata": {},
     "output_type": "execute_result"
    }
   ],
   "source": [
    "def compute_keys_cross_sharing(x):\n",
    "    teks_x = x.key_data_x.item()\n",
    "    common_teks = set(teks_x).intersection(x.key_data_y.item())\n",
    "    common_teks_fraction = len(common_teks) / len(teks_x)\n",
    "    return pd.Series(dict(\n",
    "        common_teks=common_teks,\n",
    "        common_teks_fraction=common_teks_fraction,\n",
    "    ))\n",
    "\n",
    "multi_backend_exposure_keys_by_region_df = \\\n",
    "    multi_backend_exposure_keys_df.groupby(\"region\").key_data.unique().reset_index()\n",
    "multi_backend_exposure_keys_by_region_df[\"_merge\"] = True\n",
    "multi_backend_exposure_keys_by_region_combination_df = \\\n",
    "    multi_backend_exposure_keys_by_region_df.merge(\n",
    "        multi_backend_exposure_keys_by_region_df, on=\"_merge\")\n",
    "multi_backend_exposure_keys_by_region_combination_df.drop(\n",
    "    columns=[\"_merge\"], inplace=True)\n",
    "if multi_backend_exposure_keys_by_region_combination_df.region_x.nunique() > 1:\n",
    "    multi_backend_exposure_keys_by_region_combination_df = \\\n",
    "        multi_backend_exposure_keys_by_region_combination_df[\n",
    "            multi_backend_exposure_keys_by_region_combination_df.region_x !=\n",
    "            multi_backend_exposure_keys_by_region_combination_df.region_y]\n",
    "multi_backend_exposure_keys_cross_sharing_df = \\\n",
    "    multi_backend_exposure_keys_by_region_combination_df \\\n",
    "        .groupby([\"region_x\", \"region_y\"]) \\\n",
    "        .apply(compute_keys_cross_sharing) \\\n",
    "        .reset_index()\n",
    "multi_backend_cross_sharing_summary_df = \\\n",
    "    multi_backend_exposure_keys_cross_sharing_df.pivot_table(\n",
    "        values=[\"common_teks_fraction\"],\n",
    "        columns=\"region_x\",\n",
    "        index=\"region_y\",\n",
    "        aggfunc=lambda x: x.item())\n",
    "multi_backend_cross_sharing_summary_df"
   ]
  },
  {
   "cell_type": "code",
   "execution_count": 25,
   "metadata": {
    "collapsed": false,
    "execution": {
     "iopub.execute_input": "2020-12-05T23:33:22.269052Z",
     "iopub.status.busy": "2020-12-05T23:33:22.268129Z",
     "iopub.status.idle": "2020-12-05T23:33:35.292598Z",
     "shell.execute_reply": "2020-12-05T23:33:35.292272Z"
    },
    "papermill": {
     "duration": 13.157904,
     "end_time": "2020-12-05T23:33:35.292698",
     "exception": false,
     "start_time": "2020-12-05T23:33:22.134794",
     "status": "completed"
    },
    "pycharm": {
     "name": "#%%\n"
    },
    "tags": []
   },
   "outputs": [
    {
     "data": {
      "text/plain": [
       "['BE@TST', 'MT', 'EE', 'PT', 'BE', 'DK', 'CH', 'DE', 'IT', 'ES@PRE']"
      ]
     },
     "execution_count": 25,
     "metadata": {},
     "output_type": "execute_result"
    }
   ],
   "source": [
    "multi_backend_without_active_region_exposure_keys_df = \\\n",
    "    multi_backend_exposure_keys_df[multi_backend_exposure_keys_df.region != report_backend_identifier]\n",
    "multi_backend_without_active_region = \\\n",
    "    multi_backend_without_active_region_exposure_keys_df.groupby(\"region\").key_data.nunique().sort_values().index.unique().tolist()\n",
    "multi_backend_without_active_region"
   ]
  },
  {
   "cell_type": "code",
   "execution_count": 26,
   "metadata": {
    "execution": {
     "iopub.execute_input": "2020-12-05T23:33:35.476708Z",
     "iopub.status.busy": "2020-12-05T23:33:35.476311Z",
     "iopub.status.idle": "2020-12-05T23:33:36.634897Z",
     "shell.execute_reply": "2020-12-05T23:33:36.633901Z"
    },
    "papermill": {
     "duration": 1.299119,
     "end_time": "2020-12-05T23:33:36.635034",
     "exception": false,
     "start_time": "2020-12-05T23:33:35.335915",
     "status": "completed"
    },
    "scrolled": false,
    "tags": []
   },
   "outputs": [
    {
     "name": "stderr",
     "output_type": "stream",
     "text": [
      "/opt/hostedtoolcache/Python/3.8.6/x64/lib/python3.8/site-packages/pandas/core/frame.py:4110: SettingWithCopyWarning: \n",
      "A value is trying to be set on a copy of a slice from a DataFrame\n",
      "\n",
      "See the caveats in the documentation: http://pandas.pydata.org/pandas-docs/stable/user_guide/indexing.html#returning-a-view-versus-a-copy\n",
      "  return super().drop(\n"
     ]
    },
    {
     "data": {
      "text/html": [
       "<div>\n",
       "<style scoped>\n",
       "    .dataframe tbody tr th:only-of-type {\n",
       "        vertical-align: middle;\n",
       "    }\n",
       "\n",
       "    .dataframe tbody tr th {\n",
       "        vertical-align: top;\n",
       "    }\n",
       "\n",
       "    .dataframe thead th {\n",
       "        text-align: right;\n",
       "    }\n",
       "</style>\n",
       "<table border=\"1\" class=\"dataframe\">\n",
       "  <thead>\n",
       "    <tr style=\"text-align: right;\">\n",
       "      <th></th>\n",
       "      <th>shared_teks_by_generation_date</th>\n",
       "    </tr>\n",
       "    <tr>\n",
       "      <th>sample_date_string</th>\n",
       "      <th></th>\n",
       "    </tr>\n",
       "  </thead>\n",
       "  <tbody>\n",
       "    <tr>\n",
       "      <th>2020-12-05</th>\n",
       "      <td>167</td>\n",
       "    </tr>\n",
       "    <tr>\n",
       "      <th>2020-12-04</th>\n",
       "      <td>2341</td>\n",
       "    </tr>\n",
       "    <tr>\n",
       "      <th>2020-12-03</th>\n",
       "      <td>5402</td>\n",
       "    </tr>\n",
       "    <tr>\n",
       "      <th>2020-12-02</th>\n",
       "      <td>8099</td>\n",
       "    </tr>\n",
       "    <tr>\n",
       "      <th>2020-12-01</th>\n",
       "      <td>10727</td>\n",
       "    </tr>\n",
       "  </tbody>\n",
       "</table>\n",
       "</div>"
      ],
      "text/plain": [
       "                    shared_teks_by_generation_date\n",
       "sample_date_string                                \n",
       "2020-12-05                                     167\n",
       "2020-12-04                                    2341\n",
       "2020-12-03                                    5402\n",
       "2020-12-02                                    8099\n",
       "2020-12-01                                   10727"
      ]
     },
     "execution_count": 26,
     "metadata": {},
     "output_type": "execute_result"
    }
   ],
   "source": [
    "exposure_keys_summary_df = multi_backend_exposure_keys_df[\n",
    "    multi_backend_exposure_keys_df.region == report_backend_identifier]\n",
    "exposure_keys_summary_df.drop(columns=[\"region\"], inplace=True)\n",
    "exposure_keys_summary_df = \\\n",
    "    exposure_keys_summary_df.groupby([\"sample_date_string\"]).key_data.nunique().to_frame()\n",
    "exposure_keys_summary_df = \\\n",
    "    exposure_keys_summary_df.reset_index().set_index(\"sample_date_string\")\n",
    "exposure_keys_summary_df.sort_index(ascending=False, inplace=True)\n",
    "exposure_keys_summary_df.rename(columns={\"key_data\": \"shared_teks_by_generation_date\"}, inplace=True)\n",
    "exposure_keys_summary_df.head()"
   ]
  },
  {
   "cell_type": "markdown",
   "metadata": {
    "papermill": {
     "duration": 0.037079,
     "end_time": "2020-12-05T23:33:36.709835",
     "exception": false,
     "start_time": "2020-12-05T23:33:36.672756",
     "status": "completed"
    },
    "tags": []
   },
   "source": [
    "### Dump API TEKs"
   ]
  },
  {
   "cell_type": "code",
   "execution_count": 27,
   "metadata": {
    "execution": {
     "iopub.execute_input": "2020-12-05T23:33:36.791583Z",
     "iopub.status.busy": "2020-12-05T23:33:36.790611Z",
     "iopub.status.idle": "2020-12-05T23:33:44.114929Z",
     "shell.execute_reply": "2020-12-05T23:33:44.114343Z"
    },
    "papermill": {
     "duration": 7.367937,
     "end_time": "2020-12-05T23:33:44.115051",
     "exception": false,
     "start_time": "2020-12-05T23:33:36.747114",
     "status": "completed"
    },
    "tags": []
   },
   "outputs": [
    {
     "data": {
      "text/html": [
       "<div>\n",
       "<style scoped>\n",
       "    .dataframe tbody tr th:only-of-type {\n",
       "        vertical-align: middle;\n",
       "    }\n",
       "\n",
       "    .dataframe tbody tr th {\n",
       "        vertical-align: top;\n",
       "    }\n",
       "\n",
       "    .dataframe thead th {\n",
       "        text-align: right;\n",
       "    }\n",
       "</style>\n",
       "<table border=\"1\" class=\"dataframe\">\n",
       "  <thead>\n",
       "    <tr style=\"text-align: right;\">\n",
       "      <th></th>\n",
       "      <th>sample_date</th>\n",
       "      <th>region</th>\n",
       "      <th>tek_list</th>\n",
       "      <th>extraction_date</th>\n",
       "      <th>extraction_date_with_hour</th>\n",
       "    </tr>\n",
       "  </thead>\n",
       "  <tbody>\n",
       "    <tr>\n",
       "      <th>0</th>\n",
       "      <td>2020-11-22</td>\n",
       "      <td>BE</td>\n",
       "      <td>[01651102-c850-20aa-3dc9-39ddf91d88af, 048e68d...</td>\n",
       "      <td>2020-12-05</td>\n",
       "      <td>2020-12-05@23</td>\n",
       "    </tr>\n",
       "    <tr>\n",
       "      <th>1</th>\n",
       "      <td>2020-11-22</td>\n",
       "      <td>BE@TST</td>\n",
       "      <td>[0388a5e6-857e-50da-ea9c-16f60135ace5, 08d8dd8...</td>\n",
       "      <td>2020-12-05</td>\n",
       "      <td>2020-12-05@23</td>\n",
       "    </tr>\n",
       "    <tr>\n",
       "      <th>2</th>\n",
       "      <td>2020-11-22</td>\n",
       "      <td>CH</td>\n",
       "      <td>[e0b5869f-e5cc-9f4f-b1b0-8ea38f8b1588, eac2667...</td>\n",
       "      <td>2020-12-05</td>\n",
       "      <td>2020-12-05@23</td>\n",
       "    </tr>\n",
       "    <tr>\n",
       "      <th>3</th>\n",
       "      <td>2020-11-22</td>\n",
       "      <td>DE</td>\n",
       "      <td>[0003e269-061b-83c6-6f62-39799ddc9016, 0017f9e...</td>\n",
       "      <td>2020-12-05</td>\n",
       "      <td>2020-12-05@23</td>\n",
       "    </tr>\n",
       "    <tr>\n",
       "      <th>4</th>\n",
       "      <td>2020-11-22</td>\n",
       "      <td>DK</td>\n",
       "      <td>[5c31f80b-2954-57c2-11e2-397ae226d340, 9e7f20e...</td>\n",
       "      <td>2020-12-05</td>\n",
       "      <td>2020-12-05@23</td>\n",
       "    </tr>\n",
       "  </tbody>\n",
       "</table>\n",
       "</div>"
      ],
      "text/plain": [
       "  sample_date  region                                           tek_list  \\\n",
       "0  2020-11-22      BE  [01651102-c850-20aa-3dc9-39ddf91d88af, 048e68d...   \n",
       "1  2020-11-22  BE@TST  [0388a5e6-857e-50da-ea9c-16f60135ace5, 08d8dd8...   \n",
       "2  2020-11-22      CH  [e0b5869f-e5cc-9f4f-b1b0-8ea38f8b1588, eac2667...   \n",
       "3  2020-11-22      DE  [0003e269-061b-83c6-6f62-39799ddc9016, 0017f9e...   \n",
       "4  2020-11-22      DK  [5c31f80b-2954-57c2-11e2-397ae226d340, 9e7f20e...   \n",
       "\n",
       "  extraction_date extraction_date_with_hour  \n",
       "0      2020-12-05             2020-12-05@23  \n",
       "1      2020-12-05             2020-12-05@23  \n",
       "2      2020-12-05             2020-12-05@23  \n",
       "3      2020-12-05             2020-12-05@23  \n",
       "4      2020-12-05             2020-12-05@23  "
      ]
     },
     "execution_count": 27,
     "metadata": {},
     "output_type": "execute_result"
    }
   ],
   "source": [
    "tek_list_df = multi_backend_exposure_keys_df[\n",
    "    [\"sample_date_string\", \"region\", \"key_data\"]].copy()\n",
    "tek_list_df[\"key_data\"] = tek_list_df[\"key_data\"].apply(str)\n",
    "tek_list_df.rename(columns={\n",
    "    \"sample_date_string\": \"sample_date\",\n",
    "    \"key_data\": \"tek_list\"}, inplace=True)\n",
    "tek_list_df = tek_list_df.groupby(\n",
    "    [\"sample_date\", \"region\"]).tek_list.unique().reset_index()\n",
    "tek_list_df[\"extraction_date\"] = extraction_date\n",
    "tek_list_df[\"extraction_date_with_hour\"] = extraction_date_with_hour\n",
    "\n",
    "tek_list_path_prefix = \"Data/TEKs/\"\n",
    "tek_list_current_path = tek_list_path_prefix + f\"/Current/RadarCOVID-TEKs.json\"\n",
    "tek_list_daily_path = tek_list_path_prefix + f\"Daily/RadarCOVID-TEKs-{extraction_date}.json\"\n",
    "tek_list_hourly_path = tek_list_path_prefix + f\"Hourly/RadarCOVID-TEKs-{extraction_date_with_hour}.json\"\n",
    "\n",
    "for path in [tek_list_current_path, tek_list_daily_path, tek_list_hourly_path]:\n",
    "    os.makedirs(os.path.dirname(path), exist_ok=True)\n",
    "\n",
    "tek_list_df.drop(columns=[\"extraction_date\", \"extraction_date_with_hour\"]).to_json(\n",
    "    tek_list_current_path,\n",
    "    lines=True, orient=\"records\")\n",
    "tek_list_df.drop(columns=[\"extraction_date_with_hour\"]).to_json(\n",
    "    tek_list_daily_path,\n",
    "    lines=True, orient=\"records\")\n",
    "tek_list_df.to_json(\n",
    "    tek_list_hourly_path,\n",
    "    lines=True, orient=\"records\")\n",
    "tek_list_df.head()"
   ]
  },
  {
   "cell_type": "markdown",
   "metadata": {
    "papermill": {
     "duration": 0.217116,
     "end_time": "2020-12-05T23:33:44.391036",
     "exception": false,
     "start_time": "2020-12-05T23:33:44.173920",
     "status": "completed"
    },
    "tags": []
   },
   "source": [
    "### Load TEK Dumps"
   ]
  },
  {
   "cell_type": "code",
   "execution_count": 28,
   "metadata": {
    "execution": {
     "iopub.execute_input": "2020-12-05T23:33:44.477159Z",
     "iopub.status.busy": "2020-12-05T23:33:44.476753Z",
     "iopub.status.idle": "2020-12-05T23:33:44.479839Z",
     "shell.execute_reply": "2020-12-05T23:33:44.480144Z"
    },
    "papermill": {
     "duration": 0.049292,
     "end_time": "2020-12-05T23:33:44.480243",
     "exception": false,
     "start_time": "2020-12-05T23:33:44.430951",
     "status": "completed"
    },
    "tags": []
   },
   "outputs": [],
   "source": [
    "import glob\n",
    "\n",
    "def load_extracted_teks(mode, region=None, limit=None) -> pd.DataFrame:\n",
    "    extracted_teks_df = pd.DataFrame(columns=[\"region\"])\n",
    "    file_paths = list(reversed(sorted(glob.glob(tek_list_path_prefix + mode + \"/RadarCOVID-TEKs-*.json\"))))\n",
    "    if limit:\n",
    "        file_paths = file_paths[:limit]\n",
    "    for file_path in file_paths:\n",
    "        logging.info(f\"Loading TEKs from '{file_path}'...\")\n",
    "        iteration_extracted_teks_df = pd.read_json(file_path, lines=True)\n",
    "        extracted_teks_df = extracted_teks_df.append(\n",
    "            iteration_extracted_teks_df, sort=False)\n",
    "    extracted_teks_df[\"region\"] = \\\n",
    "        extracted_teks_df.region.fillna(spain_region_country_code).copy()\n",
    "    if region:\n",
    "        extracted_teks_df = \\\n",
    "            extracted_teks_df[extracted_teks_df.region == region]\n",
    "    return extracted_teks_df"
   ]
  },
  {
   "cell_type": "code",
   "execution_count": 29,
   "metadata": {
    "collapsed": false,
    "execution": {
     "iopub.execute_input": "2020-12-05T23:33:44.573589Z",
     "iopub.status.busy": "2020-12-05T23:33:44.573059Z",
     "iopub.status.idle": "2020-12-05T23:34:05.256659Z",
     "shell.execute_reply": "2020-12-05T23:34:05.255742Z"
    },
    "papermill": {
     "duration": 20.73606,
     "end_time": "2020-12-05T23:34:05.256777",
     "exception": false,
     "start_time": "2020-12-05T23:33:44.520717",
     "status": "completed"
    },
    "pycharm": {
     "name": "#%%\n"
    },
    "tags": []
   },
   "outputs": [
    {
     "data": {
      "text/html": [
       "<div>\n",
       "<style scoped>\n",
       "    .dataframe tbody tr th:only-of-type {\n",
       "        vertical-align: middle;\n",
       "    }\n",
       "\n",
       "    .dataframe tbody tr th {\n",
       "        vertical-align: top;\n",
       "    }\n",
       "\n",
       "    .dataframe thead th {\n",
       "        text-align: right;\n",
       "    }\n",
       "</style>\n",
       "<table border=\"1\" class=\"dataframe\">\n",
       "  <thead>\n",
       "    <tr style=\"text-align: right;\">\n",
       "      <th></th>\n",
       "      <th>region</th>\n",
       "      <th>sample_date</th>\n",
       "      <th>tek_list</th>\n",
       "      <th>extraction_date</th>\n",
       "    </tr>\n",
       "  </thead>\n",
       "  <tbody>\n",
       "    <tr>\n",
       "      <th>6</th>\n",
       "      <td>ES</td>\n",
       "      <td>2020-11-22</td>\n",
       "      <td>[bc0442d9-2017-b794-1df7-c53368344f16, cc9dae8...</td>\n",
       "      <td>2020-12-05</td>\n",
       "    </tr>\n",
       "    <tr>\n",
       "      <th>17</th>\n",
       "      <td>ES</td>\n",
       "      <td>2020-11-23</td>\n",
       "      <td>[fe57cbfd-21d8-19cc-51d4-5a401aaf91f0, bf22d4a...</td>\n",
       "      <td>2020-12-05</td>\n",
       "    </tr>\n",
       "    <tr>\n",
       "      <th>28</th>\n",
       "      <td>ES</td>\n",
       "      <td>2020-11-24</td>\n",
       "      <td>[29bee8a2-6b05-36f7-c923-90cae69f4ca2, 9cd57f2...</td>\n",
       "      <td>2020-12-05</td>\n",
       "    </tr>\n",
       "    <tr>\n",
       "      <th>39</th>\n",
       "      <td>ES</td>\n",
       "      <td>2020-11-25</td>\n",
       "      <td>[5793f0a2-33b3-a6d3-85f6-c28d1aa31368, ac7c0c9...</td>\n",
       "      <td>2020-12-05</td>\n",
       "    </tr>\n",
       "    <tr>\n",
       "      <th>50</th>\n",
       "      <td>ES</td>\n",
       "      <td>2020-11-26</td>\n",
       "      <td>[03636725-a307-7550-802b-0d23f8689aff, 8dedbde...</td>\n",
       "      <td>2020-12-05</td>\n",
       "    </tr>\n",
       "  </tbody>\n",
       "</table>\n",
       "</div>"
      ],
      "text/plain": [
       "   region sample_date                                           tek_list  \\\n",
       "6      ES  2020-11-22  [bc0442d9-2017-b794-1df7-c53368344f16, cc9dae8...   \n",
       "17     ES  2020-11-23  [fe57cbfd-21d8-19cc-51d4-5a401aaf91f0, bf22d4a...   \n",
       "28     ES  2020-11-24  [29bee8a2-6b05-36f7-c923-90cae69f4ca2, 9cd57f2...   \n",
       "39     ES  2020-11-25  [5793f0a2-33b3-a6d3-85f6-c28d1aa31368, ac7c0c9...   \n",
       "50     ES  2020-11-26  [03636725-a307-7550-802b-0d23f8689aff, 8dedbde...   \n",
       "\n",
       "   extraction_date  \n",
       "6       2020-12-05  \n",
       "17      2020-12-05  \n",
       "28      2020-12-05  \n",
       "39      2020-12-05  \n",
       "50      2020-12-05  "
      ]
     },
     "execution_count": 29,
     "metadata": {},
     "output_type": "execute_result"
    }
   ],
   "source": [
    "daily_extracted_teks_df = load_extracted_teks(\n",
    "    mode=\"Daily\",\n",
    "    region=report_backend_identifier,\n",
    "    limit=tek_dumps_load_limit)\n",
    "daily_extracted_teks_df.head()"
   ]
  },
  {
   "cell_type": "code",
   "execution_count": 30,
   "metadata": {
    "collapsed": false,
    "execution": {
     "iopub.execute_input": "2020-12-05T23:34:05.357871Z",
     "iopub.status.busy": "2020-12-05T23:34:05.342872Z",
     "iopub.status.idle": "2020-12-05T23:34:05.359979Z",
     "shell.execute_reply": "2020-12-05T23:34:05.359646Z"
    },
    "papermill": {
     "duration": 0.064181,
     "end_time": "2020-12-05T23:34:05.360061",
     "exception": false,
     "start_time": "2020-12-05T23:34:05.295880",
     "status": "completed"
    },
    "pycharm": {
     "name": "#%%\n"
    },
    "tags": []
   },
   "outputs": [
    {
     "data": {
      "text/html": [
       "<div>\n",
       "<style scoped>\n",
       "    .dataframe tbody tr th:only-of-type {\n",
       "        vertical-align: middle;\n",
       "    }\n",
       "\n",
       "    .dataframe tbody tr th {\n",
       "        vertical-align: top;\n",
       "    }\n",
       "\n",
       "    .dataframe thead th {\n",
       "        text-align: right;\n",
       "    }\n",
       "</style>\n",
       "<table border=\"1\" class=\"dataframe\">\n",
       "  <thead>\n",
       "    <tr style=\"text-align: right;\">\n",
       "      <th></th>\n",
       "      <th>shared_teks_by_generation_date</th>\n",
       "    </tr>\n",
       "    <tr>\n",
       "      <th>sample_date_string</th>\n",
       "      <th></th>\n",
       "    </tr>\n",
       "  </thead>\n",
       "  <tbody>\n",
       "    <tr>\n",
       "      <th>2020-12-05</th>\n",
       "      <td>167</td>\n",
       "    </tr>\n",
       "    <tr>\n",
       "      <th>2020-12-04</th>\n",
       "      <td>2341</td>\n",
       "    </tr>\n",
       "    <tr>\n",
       "      <th>2020-12-03</th>\n",
       "      <td>5402</td>\n",
       "    </tr>\n",
       "    <tr>\n",
       "      <th>2020-12-02</th>\n",
       "      <td>8099</td>\n",
       "    </tr>\n",
       "    <tr>\n",
       "      <th>2020-12-01</th>\n",
       "      <td>10727</td>\n",
       "    </tr>\n",
       "  </tbody>\n",
       "</table>\n",
       "</div>"
      ],
      "text/plain": [
       "                    shared_teks_by_generation_date\n",
       "sample_date_string                                \n",
       "2020-12-05                                     167\n",
       "2020-12-04                                    2341\n",
       "2020-12-03                                    5402\n",
       "2020-12-02                                    8099\n",
       "2020-12-01                                   10727"
      ]
     },
     "execution_count": 30,
     "metadata": {},
     "output_type": "execute_result"
    }
   ],
   "source": [
    "exposure_keys_summary_df_ = daily_extracted_teks_df \\\n",
    "    .sort_values(\"extraction_date\", ascending=False) \\\n",
    "    .groupby(\"sample_date\").tek_list.first() \\\n",
    "    .to_frame()\n",
    "exposure_keys_summary_df_.index.name = \"sample_date_string\"\n",
    "exposure_keys_summary_df_[\"tek_list\"] = \\\n",
    "    exposure_keys_summary_df_.tek_list.apply(len)\n",
    "exposure_keys_summary_df_ = exposure_keys_summary_df_ \\\n",
    "    .rename(columns={\"tek_list\": \"shared_teks_by_generation_date\"}) \\\n",
    "    .sort_index(ascending=False)\n",
    "exposure_keys_summary_df = exposure_keys_summary_df_\n",
    "exposure_keys_summary_df.head()"
   ]
  },
  {
   "cell_type": "markdown",
   "metadata": {
    "execution": {
     "iopub.execute_input": "2020-08-30T22:30:16.632967Z",
     "iopub.status.busy": "2020-08-30T22:30:16.632308Z",
     "iopub.status.idle": "2020-08-30T22:30:16.634945Z",
     "shell.execute_reply": "2020-08-30T22:30:16.635575Z"
    },
    "papermill": {
     "duration": 0.041113,
     "end_time": "2020-12-05T23:34:05.442376",
     "exception": false,
     "start_time": "2020-12-05T23:34:05.401263",
     "status": "completed"
    },
    "pycharm": {
     "name": "#%% md\n"
    },
    "tags": []
   },
   "source": [
    "### Daily New TEKs"
   ]
  },
  {
   "cell_type": "code",
   "execution_count": 31,
   "metadata": {
    "execution": {
     "iopub.execute_input": "2020-12-05T23:34:05.649625Z",
     "iopub.status.busy": "2020-12-05T23:34:05.570617Z",
     "iopub.status.idle": "2020-12-05T23:34:06.798179Z",
     "shell.execute_reply": "2020-12-05T23:34:06.797224Z"
    },
    "papermill": {
     "duration": 1.314765,
     "end_time": "2020-12-05T23:34:06.798300",
     "exception": false,
     "start_time": "2020-12-05T23:34:05.483535",
     "status": "completed"
    },
    "tags": []
   },
   "outputs": [
    {
     "data": {
      "text/html": [
       "<div>\n",
       "<style scoped>\n",
       "    .dataframe tbody tr th:only-of-type {\n",
       "        vertical-align: middle;\n",
       "    }\n",
       "\n",
       "    .dataframe tbody tr th {\n",
       "        vertical-align: top;\n",
       "    }\n",
       "\n",
       "    .dataframe thead th {\n",
       "        text-align: right;\n",
       "    }\n",
       "</style>\n",
       "<table border=\"1\" class=\"dataframe\">\n",
       "  <thead>\n",
       "    <tr style=\"text-align: right;\">\n",
       "      <th></th>\n",
       "      <th>tek_list</th>\n",
       "    </tr>\n",
       "    <tr>\n",
       "      <th>extraction_date</th>\n",
       "      <th></th>\n",
       "    </tr>\n",
       "  </thead>\n",
       "  <tbody>\n",
       "    <tr>\n",
       "      <th>2020-09-12</th>\n",
       "      <td>{3a380e88-0390-ee53-59d5-6e9d4e2f6a16, 0e39bb4...</td>\n",
       "    </tr>\n",
       "    <tr>\n",
       "      <th>2020-09-13</th>\n",
       "      <td>{3a380e88-0390-ee53-59d5-6e9d4e2f6a16, 0e39bb4...</td>\n",
       "    </tr>\n",
       "    <tr>\n",
       "      <th>2020-09-14</th>\n",
       "      <td>{a50282ce-eb69-dc83-ead6-8f8cf5b07a9d, be25ad4...</td>\n",
       "    </tr>\n",
       "    <tr>\n",
       "      <th>2020-09-15</th>\n",
       "      <td>{a50282ce-eb69-dc83-ead6-8f8cf5b07a9d, be25ad4...</td>\n",
       "    </tr>\n",
       "    <tr>\n",
       "      <th>2020-09-16</th>\n",
       "      <td>{a50282ce-eb69-dc83-ead6-8f8cf5b07a9d, be25ad4...</td>\n",
       "    </tr>\n",
       "  </tbody>\n",
       "</table>\n",
       "</div>"
      ],
      "text/plain": [
       "                                                          tek_list\n",
       "extraction_date                                                   \n",
       "2020-09-12       {3a380e88-0390-ee53-59d5-6e9d4e2f6a16, 0e39bb4...\n",
       "2020-09-13       {3a380e88-0390-ee53-59d5-6e9d4e2f6a16, 0e39bb4...\n",
       "2020-09-14       {a50282ce-eb69-dc83-ead6-8f8cf5b07a9d, be25ad4...\n",
       "2020-09-15       {a50282ce-eb69-dc83-ead6-8f8cf5b07a9d, be25ad4...\n",
       "2020-09-16       {a50282ce-eb69-dc83-ead6-8f8cf5b07a9d, be25ad4..."
      ]
     },
     "execution_count": 31,
     "metadata": {},
     "output_type": "execute_result"
    }
   ],
   "source": [
    "tek_list_df = daily_extracted_teks_df.groupby(\"extraction_date\").tek_list.apply(\n",
    "    lambda x: set(sum(x, []))).reset_index()\n",
    "tek_list_df = tek_list_df.set_index(\"extraction_date\").sort_index(ascending=True)\n",
    "tek_list_df.head()"
   ]
  },
  {
   "cell_type": "code",
   "execution_count": 32,
   "metadata": {
    "collapsed": false,
    "execution": {
     "iopub.execute_input": "2020-12-05T23:34:07.899604Z",
     "iopub.status.busy": "2020-12-05T23:34:07.882081Z",
     "iopub.status.idle": "2020-12-05T23:34:59.003943Z",
     "shell.execute_reply": "2020-12-05T23:34:59.004364Z"
    },
    "papermill": {
     "duration": 52.167883,
     "end_time": "2020-12-05T23:34:59.004503",
     "exception": false,
     "start_time": "2020-12-05T23:34:06.836620",
     "status": "completed"
    },
    "pycharm": {
     "name": "#%%\n"
    },
    "tags": []
   },
   "outputs": [
    {
     "name": "stderr",
     "output_type": "stream",
     "text": [
      "<ipython-input-32-827222b35590>:4: FutureWarning: `item` has been deprecated and will be removed in a future version\n",
      "  day_new_teks_set = day_new_teks_set_df[\n"
     ]
    },
    {
     "data": {
      "text/html": [
       "<div>\n",
       "<style scoped>\n",
       "    .dataframe tbody tr th:only-of-type {\n",
       "        vertical-align: middle;\n",
       "    }\n",
       "\n",
       "    .dataframe tbody tr th {\n",
       "        vertical-align: top;\n",
       "    }\n",
       "\n",
       "    .dataframe thead th {\n",
       "        text-align: right;\n",
       "    }\n",
       "</style>\n",
       "<table border=\"1\" class=\"dataframe\">\n",
       "  <thead>\n",
       "    <tr style=\"text-align: right;\">\n",
       "      <th></th>\n",
       "      <th>upload_date</th>\n",
       "      <th>generation_date</th>\n",
       "      <th>shared_teks</th>\n",
       "      <th>generation_to_upload_days</th>\n",
       "    </tr>\n",
       "  </thead>\n",
       "  <tbody>\n",
       "    <tr>\n",
       "      <th>12</th>\n",
       "      <td>2020-09-13</td>\n",
       "      <td>2020-09-12</td>\n",
       "      <td>32</td>\n",
       "      <td>1</td>\n",
       "    </tr>\n",
       "    <tr>\n",
       "      <th>11</th>\n",
       "      <td>2020-09-13</td>\n",
       "      <td>2020-09-11</td>\n",
       "      <td>17</td>\n",
       "      <td>2</td>\n",
       "    </tr>\n",
       "    <tr>\n",
       "      <th>10</th>\n",
       "      <td>2020-09-13</td>\n",
       "      <td>2020-09-10</td>\n",
       "      <td>16</td>\n",
       "      <td>3</td>\n",
       "    </tr>\n",
       "    <tr>\n",
       "      <th>9</th>\n",
       "      <td>2020-09-13</td>\n",
       "      <td>2020-09-09</td>\n",
       "      <td>15</td>\n",
       "      <td>4</td>\n",
       "    </tr>\n",
       "    <tr>\n",
       "      <th>8</th>\n",
       "      <td>2020-09-13</td>\n",
       "      <td>2020-09-08</td>\n",
       "      <td>12</td>\n",
       "      <td>5</td>\n",
       "    </tr>\n",
       "  </tbody>\n",
       "</table>\n",
       "</div>"
      ],
      "text/plain": [
       "   upload_date generation_date  shared_teks  generation_to_upload_days\n",
       "12  2020-09-13      2020-09-12           32                          1\n",
       "11  2020-09-13      2020-09-11           17                          2\n",
       "10  2020-09-13      2020-09-10           16                          3\n",
       "9   2020-09-13      2020-09-09           15                          4\n",
       "8   2020-09-13      2020-09-08           12                          5"
      ]
     },
     "execution_count": 32,
     "metadata": {},
     "output_type": "execute_result"
    }
   ],
   "source": [
    "def compute_teks_by_generation_and_upload_date(date):\n",
    "    day_new_teks_set_df = tek_list_df.copy().diff()\n",
    "    try:\n",
    "        day_new_teks_set = day_new_teks_set_df[\n",
    "            day_new_teks_set_df.index == date].tek_list.item()\n",
    "    except ValueError:\n",
    "        day_new_teks_set = None\n",
    "    if pd.isna(day_new_teks_set):\n",
    "        day_new_teks_set = set()\n",
    "    day_new_teks_df = daily_extracted_teks_df[\n",
    "        daily_extracted_teks_df.extraction_date == date].copy()\n",
    "    day_new_teks_df[\"shared_teks\"] = \\\n",
    "        day_new_teks_df.tek_list.apply(lambda x: set(x).intersection(day_new_teks_set))\n",
    "    day_new_teks_df[\"shared_teks\"] = \\\n",
    "        day_new_teks_df.shared_teks.apply(len)\n",
    "    day_new_teks_df[\"upload_date\"] = date\n",
    "    day_new_teks_df.rename(columns={\"sample_date\": \"generation_date\"}, inplace=True)\n",
    "    day_new_teks_df = day_new_teks_df[\n",
    "        [\"upload_date\", \"generation_date\", \"shared_teks\"]]\n",
    "    day_new_teks_df[\"generation_to_upload_days\"] = \\\n",
    "        (pd.to_datetime(day_new_teks_df.upload_date) -\n",
    "         pd.to_datetime(day_new_teks_df.generation_date)).dt.days\n",
    "    day_new_teks_df = day_new_teks_df[day_new_teks_df.shared_teks > 0]\n",
    "    return day_new_teks_df\n",
    "\n",
    "shared_teks_generation_to_upload_df = pd.DataFrame()\n",
    "for upload_date in daily_extracted_teks_df.extraction_date.unique():\n",
    "    shared_teks_generation_to_upload_df = \\\n",
    "        shared_teks_generation_to_upload_df.append(\n",
    "            compute_teks_by_generation_and_upload_date(date=upload_date))\n",
    "shared_teks_generation_to_upload_df \\\n",
    "    .sort_values([\"upload_date\", \"generation_date\"], ascending=False, inplace=True)\n",
    "shared_teks_generation_to_upload_df.tail()"
   ]
  },
  {
   "cell_type": "code",
   "execution_count": 33,
   "metadata": {
    "collapsed": false,
    "execution": {
     "iopub.execute_input": "2020-12-05T23:34:59.098554Z",
     "iopub.status.busy": "2020-12-05T23:34:59.098068Z",
     "iopub.status.idle": "2020-12-05T23:34:59.100447Z",
     "shell.execute_reply": "2020-12-05T23:34:59.100089Z"
    },
    "papermill": {
     "duration": 0.05491,
     "end_time": "2020-12-05T23:34:59.100536",
     "exception": false,
     "start_time": "2020-12-05T23:34:59.045626",
     "status": "completed"
    },
    "pycharm": {
     "name": "#%%\n"
    },
    "tags": []
   },
   "outputs": [
    {
     "data": {
      "text/html": [
       "<div>\n",
       "<style scoped>\n",
       "    .dataframe tbody tr th:only-of-type {\n",
       "        vertical-align: middle;\n",
       "    }\n",
       "\n",
       "    .dataframe tbody tr th {\n",
       "        vertical-align: top;\n",
       "    }\n",
       "\n",
       "    .dataframe thead th {\n",
       "        text-align: right;\n",
       "    }\n",
       "</style>\n",
       "<table border=\"1\" class=\"dataframe\">\n",
       "  <thead>\n",
       "    <tr style=\"text-align: right;\">\n",
       "      <th></th>\n",
       "      <th>upload_date</th>\n",
       "      <th>generation_date</th>\n",
       "      <th>shared_teks</th>\n",
       "      <th>generation_to_upload_days</th>\n",
       "    </tr>\n",
       "  </thead>\n",
       "  <tbody>\n",
       "    <tr>\n",
       "      <th>50</th>\n",
       "      <td>2020-12-05</td>\n",
       "      <td>2020-11-26</td>\n",
       "      <td>8930</td>\n",
       "      <td>9</td>\n",
       "    </tr>\n",
       "    <tr>\n",
       "      <th>39</th>\n",
       "      <td>2020-12-05</td>\n",
       "      <td>2020-11-25</td>\n",
       "      <td>8743</td>\n",
       "      <td>10</td>\n",
       "    </tr>\n",
       "    <tr>\n",
       "      <th>28</th>\n",
       "      <td>2020-12-05</td>\n",
       "      <td>2020-11-24</td>\n",
       "      <td>8672</td>\n",
       "      <td>11</td>\n",
       "    </tr>\n",
       "    <tr>\n",
       "      <th>17</th>\n",
       "      <td>2020-12-05</td>\n",
       "      <td>2020-11-23</td>\n",
       "      <td>8546</td>\n",
       "      <td>12</td>\n",
       "    </tr>\n",
       "    <tr>\n",
       "      <th>6</th>\n",
       "      <td>2020-12-05</td>\n",
       "      <td>2020-11-22</td>\n",
       "      <td>8386</td>\n",
       "      <td>13</td>\n",
       "    </tr>\n",
       "  </tbody>\n",
       "</table>\n",
       "</div>"
      ],
      "text/plain": [
       "   upload_date generation_date  shared_teks  generation_to_upload_days\n",
       "50  2020-12-05      2020-11-26         8930                          9\n",
       "39  2020-12-05      2020-11-25         8743                         10\n",
       "28  2020-12-05      2020-11-24         8672                         11\n",
       "17  2020-12-05      2020-11-23         8546                         12\n",
       "6   2020-12-05      2020-11-22         8386                         13"
      ]
     },
     "execution_count": 33,
     "metadata": {},
     "output_type": "execute_result"
    }
   ],
   "source": [
    "today_new_teks_df = \\\n",
    "    shared_teks_generation_to_upload_df[\n",
    "        shared_teks_generation_to_upload_df.upload_date == extraction_date].copy()\n",
    "today_new_teks_df.tail()"
   ]
  },
  {
   "cell_type": "code",
   "execution_count": 34,
   "metadata": {
    "collapsed": false,
    "execution": {
     "iopub.execute_input": "2020-12-05T23:34:59.196960Z",
     "iopub.status.busy": "2020-12-05T23:34:59.196580Z",
     "iopub.status.idle": "2020-12-05T23:34:59.680430Z",
     "shell.execute_reply": "2020-12-05T23:34:59.680747Z"
    },
    "papermill": {
     "duration": 0.539749,
     "end_time": "2020-12-05T23:34:59.680875",
     "exception": false,
     "start_time": "2020-12-05T23:34:59.141126",
     "status": "completed"
    },
    "pycharm": {
     "name": "#%%\n"
    },
    "tags": []
   },
   "outputs": [
    {
     "data": {
      "image/png": "[encoded data removed]",
      "text/plain": [
       "<Figure size 1080x432 with 1 Axes>"
      ]
     },
     "metadata": {},
     "output_type": "display_data"
    }
   ],
   "source": [
    "if not today_new_teks_df.empty:\n",
    "    today_new_teks_df.set_index(\"generation_to_upload_days\") \\\n",
    "        .sort_index().shared_teks.plot.bar()"
   ]
  },
  {
   "cell_type": "code",
   "execution_count": 35,
   "metadata": {
    "collapsed": false,
    "execution": {
     "iopub.execute_input": "2020-12-05T23:34:59.774142Z",
     "iopub.status.busy": "2020-12-05T23:34:59.773752Z",
     "iopub.status.idle": "2020-12-05T23:34:59.784778Z",
     "shell.execute_reply": "2020-12-05T23:34:59.785108Z"
    },
    "papermill": {
     "duration": 0.059128,
     "end_time": "2020-12-05T23:34:59.785220",
     "exception": false,
     "start_time": "2020-12-05T23:34:59.726092",
     "status": "completed"
    },
    "pycharm": {
     "name": "#%%\n"
    },
    "tags": []
   },
   "outputs": [
    {
     "data": {
      "text/html": [
       "<div>\n",
       "<style scoped>\n",
       "    .dataframe tbody tr th:only-of-type {\n",
       "        vertical-align: middle;\n",
       "    }\n",
       "\n",
       "    .dataframe tbody tr th {\n",
       "        vertical-align: top;\n",
       "    }\n",
       "\n",
       "    .dataframe thead th {\n",
       "        text-align: right;\n",
       "    }\n",
       "</style>\n",
       "<table border=\"1\" class=\"dataframe\">\n",
       "  <thead>\n",
       "    <tr style=\"text-align: right;\">\n",
       "      <th>generation_to_upload_days</th>\n",
       "      <th>0</th>\n",
       "      <th>1</th>\n",
       "      <th>2</th>\n",
       "      <th>3</th>\n",
       "      <th>4</th>\n",
       "      <th>5</th>\n",
       "      <th>6</th>\n",
       "      <th>7</th>\n",
       "      <th>8</th>\n",
       "      <th>9</th>\n",
       "      <th>10</th>\n",
       "      <th>11</th>\n",
       "      <th>12</th>\n",
       "      <th>13</th>\n",
       "    </tr>\n",
       "    <tr>\n",
       "      <th>upload_date</th>\n",
       "      <th></th>\n",
       "      <th></th>\n",
       "      <th></th>\n",
       "      <th></th>\n",
       "      <th></th>\n",
       "      <th></th>\n",
       "      <th></th>\n",
       "      <th></th>\n",
       "      <th></th>\n",
       "      <th></th>\n",
       "      <th></th>\n",
       "      <th></th>\n",
       "      <th></th>\n",
       "      <th></th>\n",
       "    </tr>\n",
       "  </thead>\n",
       "  <tbody>\n",
       "    <tr>\n",
       "      <th>2020-12-05</th>\n",
       "      <td>167</td>\n",
       "      <td>2183</td>\n",
       "      <td>5053</td>\n",
       "      <td>7593</td>\n",
       "      <td>10092</td>\n",
       "      <td>9910</td>\n",
       "      <td>9487</td>\n",
       "      <td>9267</td>\n",
       "      <td>9190</td>\n",
       "      <td>8930</td>\n",
       "      <td>8743</td>\n",
       "      <td>8672</td>\n",
       "      <td>8546</td>\n",
       "      <td>8386</td>\n",
       "    </tr>\n",
       "    <tr>\n",
       "      <th>2020-12-04</th>\n",
       "      <td>158</td>\n",
       "      <td>188</td>\n",
       "      <td>120</td>\n",
       "      <td>103</td>\n",
       "      <td>77</td>\n",
       "      <td>55</td>\n",
       "      <td>28</td>\n",
       "      <td>18</td>\n",
       "      <td>11</td>\n",
       "      <td>10</td>\n",
       "      <td>10</td>\n",
       "      <td>8</td>\n",
       "      <td>5</td>\n",
       "      <td>3</td>\n",
       "    </tr>\n",
       "    <tr>\n",
       "      <th>2020-12-03</th>\n",
       "      <td>161</td>\n",
       "      <td>189</td>\n",
       "      <td>129</td>\n",
       "      <td>116</td>\n",
       "      <td>91</td>\n",
       "      <td>57</td>\n",
       "      <td>36</td>\n",
       "      <td>27</td>\n",
       "      <td>12</td>\n",
       "      <td>5</td>\n",
       "      <td>3</td>\n",
       "      <td>1</td>\n",
       "      <td>1</td>\n",
       "      <td>0</td>\n",
       "    </tr>\n",
       "    <tr>\n",
       "      <th>2020-12-02</th>\n",
       "      <td>197</td>\n",
       "      <td>214</td>\n",
       "      <td>615</td>\n",
       "      <td>540</td>\n",
       "      <td>499</td>\n",
       "      <td>454</td>\n",
       "      <td>421</td>\n",
       "      <td>390</td>\n",
       "      <td>369</td>\n",
       "      <td>354</td>\n",
       "      <td>339</td>\n",
       "      <td>332</td>\n",
       "      <td>325</td>\n",
       "      <td>322</td>\n",
       "    </tr>\n",
       "    <tr>\n",
       "      <th>2020-12-01</th>\n",
       "      <td>189</td>\n",
       "      <td>1927</td>\n",
       "      <td>2238</td>\n",
       "      <td>2172</td>\n",
       "      <td>2093</td>\n",
       "      <td>1974</td>\n",
       "      <td>1911</td>\n",
       "      <td>1846</td>\n",
       "      <td>1770</td>\n",
       "      <td>1754</td>\n",
       "      <td>1737</td>\n",
       "      <td>1712</td>\n",
       "      <td>1690</td>\n",
       "      <td>1661</td>\n",
       "    </tr>\n",
       "  </tbody>\n",
       "</table>\n",
       "</div>"
      ],
      "text/plain": [
       "generation_to_upload_days   0     1     2     3      4     5     6     7   \\\n",
       "upload_date                                                                 \n",
       "2020-12-05                 167  2183  5053  7593  10092  9910  9487  9267   \n",
       "2020-12-04                 158   188   120   103     77    55    28    18   \n",
       "2020-12-03                 161   189   129   116     91    57    36    27   \n",
       "2020-12-02                 197   214   615   540    499   454   421   390   \n",
       "2020-12-01                 189  1927  2238  2172   2093  1974  1911  1846   \n",
       "\n",
       "generation_to_upload_days    8     9     10    11    12    13  \n",
       "upload_date                                                    \n",
       "2020-12-05                 9190  8930  8743  8672  8546  8386  \n",
       "2020-12-04                   11    10    10     8     5     3  \n",
       "2020-12-03                   12     5     3     1     1     0  \n",
       "2020-12-02                  369   354   339   332   325   322  \n",
       "2020-12-01                 1770  1754  1737  1712  1690  1661  "
      ]
     },
     "execution_count": 35,
     "metadata": {},
     "output_type": "execute_result"
    }
   ],
   "source": [
    "generation_to_upload_period_pivot_df = \\\n",
    "    shared_teks_generation_to_upload_df[\n",
    "        [\"upload_date\", \"generation_to_upload_days\", \"shared_teks\"]] \\\n",
    "        .pivot(index=\"upload_date\", columns=\"generation_to_upload_days\") \\\n",
    "        .sort_index(ascending=False).fillna(0).astype(int) \\\n",
    "        .droplevel(level=0, axis=1)\n",
    "generation_to_upload_period_pivot_df.head()"
   ]
  },
  {
   "cell_type": "code",
   "execution_count": 36,
   "metadata": {
    "collapsed": false,
    "execution": {
     "iopub.execute_input": "2020-12-05T23:35:00.485246Z",
     "iopub.status.busy": "2020-12-05T23:35:00.479273Z",
     "iopub.status.idle": "2020-12-05T23:35:00.490184Z",
     "shell.execute_reply": "2020-12-05T23:35:00.489710Z"
    },
    "papermill": {
     "duration": 0.65827,
     "end_time": "2020-12-05T23:35:00.490339",
     "exception": false,
     "start_time": "2020-12-05T23:34:59.832069",
     "status": "completed"
    },
    "pycharm": {
     "name": "#%%\n"
    },
    "tags": []
   },
   "outputs": [
    {
     "data": {
      "text/html": [
       "<div>\n",
       "<style scoped>\n",
       "    .dataframe tbody tr th:only-of-type {\n",
       "        vertical-align: middle;\n",
       "    }\n",
       "\n",
       "    .dataframe tbody tr th {\n",
       "        vertical-align: top;\n",
       "    }\n",
       "\n",
       "    .dataframe thead th {\n",
       "        text-align: right;\n",
       "    }\n",
       "</style>\n",
       "<table border=\"1\" class=\"dataframe\">\n",
       "  <thead>\n",
       "    <tr style=\"text-align: right;\">\n",
       "      <th></th>\n",
       "      <th>sample_date_string</th>\n",
       "      <th>shared_teks_by_upload_date</th>\n",
       "    </tr>\n",
       "  </thead>\n",
       "  <tbody>\n",
       "    <tr>\n",
       "      <th>80</th>\n",
       "      <td>2020-12-01</td>\n",
       "      <td>24674.0</td>\n",
       "    </tr>\n",
       "    <tr>\n",
       "      <th>81</th>\n",
       "      <td>2020-12-02</td>\n",
       "      <td>5371.0</td>\n",
       "    </tr>\n",
       "    <tr>\n",
       "      <th>82</th>\n",
       "      <td>2020-12-03</td>\n",
       "      <td>828.0</td>\n",
       "    </tr>\n",
       "    <tr>\n",
       "      <th>83</th>\n",
       "      <td>2020-12-04</td>\n",
       "      <td>794.0</td>\n",
       "    </tr>\n",
       "    <tr>\n",
       "      <th>84</th>\n",
       "      <td>2020-12-05</td>\n",
       "      <td>106219.0</td>\n",
       "    </tr>\n",
       "  </tbody>\n",
       "</table>\n",
       "</div>"
      ],
      "text/plain": [
       "   sample_date_string  shared_teks_by_upload_date\n",
       "80         2020-12-01                     24674.0\n",
       "81         2020-12-02                      5371.0\n",
       "82         2020-12-03                       828.0\n",
       "83         2020-12-04                       794.0\n",
       "84         2020-12-05                    106219.0"
      ]
     },
     "execution_count": 36,
     "metadata": {},
     "output_type": "execute_result"
    }
   ],
   "source": [
    "new_tek_df = tek_list_df.diff().tek_list.apply(\n",
    "    lambda x: len(x) if not pd.isna(x) else None).to_frame().reset_index()\n",
    "new_tek_df.rename(columns={\n",
    "    \"tek_list\": \"shared_teks_by_upload_date\",\n",
    "    \"extraction_date\": \"sample_date_string\",}, inplace=True)\n",
    "new_tek_df.tail()"
   ]
  },
  {
   "cell_type": "code",
   "execution_count": 37,
   "metadata": {
    "collapsed": false,
    "execution": {
     "iopub.execute_input": "2020-12-05T23:35:00.589173Z",
     "iopub.status.busy": "2020-12-05T23:35:00.588518Z",
     "iopub.status.idle": "2020-12-05T23:35:00.590981Z",
     "shell.execute_reply": "2020-12-05T23:35:00.590527Z"
    },
    "papermill": {
     "duration": 0.058109,
     "end_time": "2020-12-05T23:35:00.591077",
     "exception": false,
     "start_time": "2020-12-05T23:35:00.532968",
     "status": "completed"
    },
    "pycharm": {
     "name": "#%%\n"
    },
    "tags": []
   },
   "outputs": [
    {
     "data": {
      "text/html": [
       "<div>\n",
       "<style scoped>\n",
       "    .dataframe tbody tr th:only-of-type {\n",
       "        vertical-align: middle;\n",
       "    }\n",
       "\n",
       "    .dataframe tbody tr th {\n",
       "        vertical-align: top;\n",
       "    }\n",
       "\n",
       "    .dataframe thead th {\n",
       "        text-align: right;\n",
       "    }\n",
       "</style>\n",
       "<table border=\"1\" class=\"dataframe\">\n",
       "  <thead>\n",
       "    <tr style=\"text-align: right;\">\n",
       "      <th></th>\n",
       "      <th>sample_date_string</th>\n",
       "      <th>shared_teks_uploaded_on_generation_date</th>\n",
       "    </tr>\n",
       "  </thead>\n",
       "  <tbody>\n",
       "    <tr>\n",
       "      <th>142</th>\n",
       "      <td>2020-12-05</td>\n",
       "      <td>167</td>\n",
       "    </tr>\n",
       "    <tr>\n",
       "      <th>142</th>\n",
       "      <td>2020-12-04</td>\n",
       "      <td>158</td>\n",
       "    </tr>\n",
       "    <tr>\n",
       "      <th>142</th>\n",
       "      <td>2020-12-03</td>\n",
       "      <td>161</td>\n",
       "    </tr>\n",
       "    <tr>\n",
       "      <th>142</th>\n",
       "      <td>2020-12-02</td>\n",
       "      <td>197</td>\n",
       "    </tr>\n",
       "    <tr>\n",
       "      <th>142</th>\n",
       "      <td>2020-12-01</td>\n",
       "      <td>189</td>\n",
       "    </tr>\n",
       "  </tbody>\n",
       "</table>\n",
       "</div>"
      ],
      "text/plain": [
       "    sample_date_string  shared_teks_uploaded_on_generation_date\n",
       "142         2020-12-05                                      167\n",
       "142         2020-12-04                                      158\n",
       "142         2020-12-03                                      161\n",
       "142         2020-12-02                                      197\n",
       "142         2020-12-01                                      189"
      ]
     },
     "execution_count": 37,
     "metadata": {},
     "output_type": "execute_result"
    }
   ],
   "source": [
    "shared_teks_uploaded_on_generation_date_df = shared_teks_generation_to_upload_df[\n",
    "    shared_teks_generation_to_upload_df.generation_to_upload_days == 0] \\\n",
    "    [[\"upload_date\", \"shared_teks\"]].rename(\n",
    "    columns={\n",
    "        \"upload_date\": \"sample_date_string\",\n",
    "        \"shared_teks\": \"shared_teks_uploaded_on_generation_date\",\n",
    "    })\n",
    "shared_teks_uploaded_on_generation_date_df.head()"
   ]
  },
  {
   "cell_type": "code",
   "execution_count": 38,
   "metadata": {
    "collapsed": false,
    "execution": {
     "iopub.execute_input": "2020-12-05T23:35:00.689165Z",
     "iopub.status.busy": "2020-12-05T23:35:00.682562Z",
     "iopub.status.idle": "2020-12-05T23:35:00.691544Z",
     "shell.execute_reply": "2020-12-05T23:35:00.691212Z"
    },
    "papermill": {
     "duration": 0.058381,
     "end_time": "2020-12-05T23:35:00.691626",
     "exception": false,
     "start_time": "2020-12-05T23:35:00.633245",
     "status": "completed"
    },
    "pycharm": {
     "name": "#%%\n"
    },
    "tags": []
   },
   "outputs": [
    {
     "data": {
      "text/html": [
       "<div>\n",
       "<style scoped>\n",
       "    .dataframe tbody tr th:only-of-type {\n",
       "        vertical-align: middle;\n",
       "    }\n",
       "\n",
       "    .dataframe tbody tr th {\n",
       "        vertical-align: top;\n",
       "    }\n",
       "\n",
       "    .dataframe thead th {\n",
       "        text-align: right;\n",
       "    }\n",
       "</style>\n",
       "<table border=\"1\" class=\"dataframe\">\n",
       "  <thead>\n",
       "    <tr style=\"text-align: right;\">\n",
       "      <th></th>\n",
       "      <th>sample_date_string</th>\n",
       "      <th>shared_diagnoses</th>\n",
       "    </tr>\n",
       "  </thead>\n",
       "  <tbody>\n",
       "    <tr>\n",
       "      <th>83</th>\n",
       "      <td>0</td>\n",
       "      <td>0</td>\n",
       "    </tr>\n",
       "    <tr>\n",
       "      <th>82</th>\n",
       "      <td>2020-12-04</td>\n",
       "      <td>188</td>\n",
       "    </tr>\n",
       "    <tr>\n",
       "      <th>81</th>\n",
       "      <td>2020-12-03</td>\n",
       "      <td>189</td>\n",
       "    </tr>\n",
       "    <tr>\n",
       "      <th>80</th>\n",
       "      <td>2020-12-02</td>\n",
       "      <td>615</td>\n",
       "    </tr>\n",
       "    <tr>\n",
       "      <th>79</th>\n",
       "      <td>2020-12-01</td>\n",
       "      <td>2238</td>\n",
       "    </tr>\n",
       "  </tbody>\n",
       "</table>\n",
       "</div>"
      ],
      "text/plain": [
       "   sample_date_string  shared_diagnoses\n",
       "83                  0                 0\n",
       "82         2020-12-04               188\n",
       "81         2020-12-03               189\n",
       "80         2020-12-02               615\n",
       "79         2020-12-01              2238"
      ]
     },
     "execution_count": 38,
     "metadata": {},
     "output_type": "execute_result"
    }
   ],
   "source": [
    "estimated_shared_diagnoses_df = shared_teks_generation_to_upload_df \\\n",
    "    .groupby([\"upload_date\"]).shared_teks.max().reset_index() \\\n",
    "    .sort_values([\"upload_date\"], ascending=False) \\\n",
    "    .rename(columns={\n",
    "        \"upload_date\": \"sample_date_string\",\n",
    "        \"shared_teks\": \"shared_diagnoses\",\n",
    "    })\n",
    "invalid_shared_diagnoses_dates_mask = \\\n",
    "    estimated_shared_diagnoses_df.sample_date_string.isin(invalid_shared_diagnoses_dates)\n",
    "estimated_shared_diagnoses_df[invalid_shared_diagnoses_dates_mask] = 0\n",
    "estimated_shared_diagnoses_df.head()"
   ]
  },
  {
   "cell_type": "markdown",
   "metadata": {
    "papermill": {
     "duration": 0.04146,
     "end_time": "2020-12-05T23:35:00.778244",
     "exception": false,
     "start_time": "2020-12-05T23:35:00.736784",
     "status": "completed"
    },
    "pycharm": {
     "name": "#%% md\n"
    },
    "tags": []
   },
   "source": [
    "### Hourly New TEKs"
   ]
  },
  {
   "cell_type": "code",
   "execution_count": 39,
   "metadata": {
    "execution": {
     "iopub.execute_input": "2020-12-05T23:35:00.868704Z",
     "iopub.status.busy": "2020-12-05T23:35:00.868296Z",
     "iopub.status.idle": "2020-12-05T23:36:02.351421Z",
     "shell.execute_reply": "2020-12-05T23:36:02.351844Z"
    },
    "papermill": {
     "duration": 61.531698,
     "end_time": "2020-12-05T23:36:02.353203",
     "exception": false,
     "start_time": "2020-12-05T23:35:00.821505",
     "status": "completed"
    },
    "pycharm": {
     "name": "#%%\n"
    },
    "tags": []
   },
   "outputs": [
    {
     "data": {
      "text/html": [
       "<div>\n",
       "<style scoped>\n",
       "    .dataframe tbody tr th:only-of-type {\n",
       "        vertical-align: middle;\n",
       "    }\n",
       "\n",
       "    .dataframe tbody tr th {\n",
       "        vertical-align: top;\n",
       "    }\n",
       "\n",
       "    .dataframe thead th {\n",
       "        text-align: right;\n",
       "    }\n",
       "</style>\n",
       "<table border=\"1\" class=\"dataframe\">\n",
       "  <thead>\n",
       "    <tr style=\"text-align: right;\">\n",
       "      <th></th>\n",
       "      <th>region</th>\n",
       "      <th>sample_date</th>\n",
       "      <th>tek_list</th>\n",
       "      <th>extraction_date</th>\n",
       "      <th>extraction_date_with_hour</th>\n",
       "    </tr>\n",
       "  </thead>\n",
       "  <tbody>\n",
       "    <tr>\n",
       "      <th>6</th>\n",
       "      <td>ES</td>\n",
       "      <td>2020-11-22</td>\n",
       "      <td>[bc0442d9-2017-b794-1df7-c53368344f16, cc9dae8...</td>\n",
       "      <td>2020-12-05</td>\n",
       "      <td>2020-12-05@23</td>\n",
       "    </tr>\n",
       "    <tr>\n",
       "      <th>17</th>\n",
       "      <td>ES</td>\n",
       "      <td>2020-11-23</td>\n",
       "      <td>[fe57cbfd-21d8-19cc-51d4-5a401aaf91f0, bf22d4a...</td>\n",
       "      <td>2020-12-05</td>\n",
       "      <td>2020-12-05@23</td>\n",
       "    </tr>\n",
       "    <tr>\n",
       "      <th>28</th>\n",
       "      <td>ES</td>\n",
       "      <td>2020-11-24</td>\n",
       "      <td>[29bee8a2-6b05-36f7-c923-90cae69f4ca2, 9cd57f2...</td>\n",
       "      <td>2020-12-05</td>\n",
       "      <td>2020-12-05@23</td>\n",
       "    </tr>\n",
       "    <tr>\n",
       "      <th>39</th>\n",
       "      <td>ES</td>\n",
       "      <td>2020-11-25</td>\n",
       "      <td>[5793f0a2-33b3-a6d3-85f6-c28d1aa31368, ac7c0c9...</td>\n",
       "      <td>2020-12-05</td>\n",
       "      <td>2020-12-05@23</td>\n",
       "    </tr>\n",
       "    <tr>\n",
       "      <th>50</th>\n",
       "      <td>ES</td>\n",
       "      <td>2020-11-26</td>\n",
       "      <td>[03636725-a307-7550-802b-0d23f8689aff, 8dedbde...</td>\n",
       "      <td>2020-12-05</td>\n",
       "      <td>2020-12-05@23</td>\n",
       "    </tr>\n",
       "  </tbody>\n",
       "</table>\n",
       "</div>"
      ],
      "text/plain": [
       "   region sample_date                                           tek_list  \\\n",
       "6      ES  2020-11-22  [bc0442d9-2017-b794-1df7-c53368344f16, cc9dae8...   \n",
       "17     ES  2020-11-23  [fe57cbfd-21d8-19cc-51d4-5a401aaf91f0, bf22d4a...   \n",
       "28     ES  2020-11-24  [29bee8a2-6b05-36f7-c923-90cae69f4ca2, 9cd57f2...   \n",
       "39     ES  2020-11-25  [5793f0a2-33b3-a6d3-85f6-c28d1aa31368, ac7c0c9...   \n",
       "50     ES  2020-11-26  [03636725-a307-7550-802b-0d23f8689aff, 8dedbde...   \n",
       "\n",
       "   extraction_date extraction_date_with_hour  \n",
       "6       2020-12-05             2020-12-05@23  \n",
       "17      2020-12-05             2020-12-05@23  \n",
       "28      2020-12-05             2020-12-05@23  \n",
       "39      2020-12-05             2020-12-05@23  \n",
       "50      2020-12-05             2020-12-05@23  "
      ]
     },
     "execution_count": 39,
     "metadata": {},
     "output_type": "execute_result"
    }
   ],
   "source": [
    "hourly_extracted_teks_df = load_extracted_teks(\n",
    "    mode=\"Hourly\", region=report_backend_identifier, limit=25)\n",
    "hourly_extracted_teks_df.head()"
   ]
  },
  {
   "cell_type": "code",
   "execution_count": 40,
   "metadata": {
    "collapsed": false,
    "execution": {
     "iopub.execute_input": "2020-12-05T23:36:02.547846Z",
     "iopub.status.busy": "2020-12-05T23:36:02.475338Z",
     "iopub.status.idle": "2020-12-05T23:36:03.384776Z",
     "shell.execute_reply": "2020-12-05T23:36:03.385073Z"
    },
    "papermill": {
     "duration": 0.985989,
     "end_time": "2020-12-05T23:36:03.385204",
     "exception": false,
     "start_time": "2020-12-05T23:36:02.399215",
     "status": "completed"
    },
    "pycharm": {
     "name": "#%%\n"
    },
    "tags": []
   },
   "outputs": [
    {
     "data": {
      "text/html": [
       "<div>\n",
       "<style scoped>\n",
       "    .dataframe tbody tr th:only-of-type {\n",
       "        vertical-align: middle;\n",
       "    }\n",
       "\n",
       "    .dataframe tbody tr th {\n",
       "        vertical-align: top;\n",
       "    }\n",
       "\n",
       "    .dataframe thead th {\n",
       "        text-align: right;\n",
       "    }\n",
       "</style>\n",
       "<table border=\"1\" class=\"dataframe\">\n",
       "  <thead>\n",
       "    <tr style=\"text-align: right;\">\n",
       "      <th></th>\n",
       "      <th>extraction_date_with_hour</th>\n",
       "      <th>shared_teks_by_upload_date</th>\n",
       "    </tr>\n",
       "  </thead>\n",
       "  <tbody>\n",
       "    <tr>\n",
       "      <th>0</th>\n",
       "      <td>2020-12-04@23</td>\n",
       "      <td>0</td>\n",
       "    </tr>\n",
       "    <tr>\n",
       "      <th>1</th>\n",
       "      <td>2020-12-05@00</td>\n",
       "      <td>9</td>\n",
       "    </tr>\n",
       "    <tr>\n",
       "      <th>2</th>\n",
       "      <td>2020-12-05@01</td>\n",
       "      <td>0</td>\n",
       "    </tr>\n",
       "    <tr>\n",
       "      <th>3</th>\n",
       "      <td>2020-12-05@02</td>\n",
       "      <td>29</td>\n",
       "    </tr>\n",
       "    <tr>\n",
       "      <th>4</th>\n",
       "      <td>2020-12-05@03</td>\n",
       "      <td>0</td>\n",
       "    </tr>\n",
       "  </tbody>\n",
       "</table>\n",
       "</div>"
      ],
      "text/plain": [
       "  extraction_date_with_hour  shared_teks_by_upload_date\n",
       "0             2020-12-04@23                           0\n",
       "1             2020-12-05@00                           9\n",
       "2             2020-12-05@01                           0\n",
       "3             2020-12-05@02                          29\n",
       "4             2020-12-05@03                           0"
      ]
     },
     "execution_count": 40,
     "metadata": {},
     "output_type": "execute_result"
    }
   ],
   "source": [
    "hourly_new_tek_count_df = hourly_extracted_teks_df \\\n",
    "    .groupby(\"extraction_date_with_hour\").tek_list. \\\n",
    "    apply(lambda x: set(sum(x, []))).reset_index().copy()\n",
    "hourly_new_tek_count_df = hourly_new_tek_count_df.set_index(\"extraction_date_with_hour\") \\\n",
    "    .sort_index(ascending=True)\n",
    "\n",
    "hourly_new_tek_count_df[\"new_tek_list\"] = hourly_new_tek_count_df.tek_list.diff()\n",
    "hourly_new_tek_count_df[\"new_tek_count\"] = hourly_new_tek_count_df.new_tek_list.apply(\n",
    "    lambda x: len(x) if not pd.isna(x) else 0)\n",
    "hourly_new_tek_count_df.rename(columns={\n",
    "    \"new_tek_count\": \"shared_teks_by_upload_date\"}, inplace=True)\n",
    "hourly_new_tek_count_df = hourly_new_tek_count_df.reset_index()[[\n",
    "    \"extraction_date_with_hour\", \"shared_teks_by_upload_date\"]]\n",
    "hourly_new_tek_count_df.head()"
   ]
  },
  {
   "cell_type": "code",
   "execution_count": 41,
   "metadata": {
    "collapsed": false,
    "execution": {
     "iopub.execute_input": "2020-12-05T23:36:03.503897Z",
     "iopub.status.busy": "2020-12-05T23:36:03.486015Z",
     "iopub.status.idle": "2020-12-05T23:36:03.506082Z",
     "shell.execute_reply": "2020-12-05T23:36:03.505637Z"
    },
    "papermill": {
     "duration": 0.077078,
     "end_time": "2020-12-05T23:36:03.506180",
     "exception": false,
     "start_time": "2020-12-05T23:36:03.429102",
     "status": "completed"
    },
    "pycharm": {
     "name": "#%%\n"
    },
    "tags": []
   },
   "outputs": [
    {
     "data": {
      "text/html": [
       "<div>\n",
       "<style scoped>\n",
       "    .dataframe tbody tr th:only-of-type {\n",
       "        vertical-align: middle;\n",
       "    }\n",
       "\n",
       "    .dataframe tbody tr th {\n",
       "        vertical-align: top;\n",
       "    }\n",
       "\n",
       "    .dataframe thead th {\n",
       "        text-align: right;\n",
       "    }\n",
       "</style>\n",
       "<table border=\"1\" class=\"dataframe\">\n",
       "  <thead>\n",
       "    <tr style=\"text-align: right;\">\n",
       "      <th></th>\n",
       "      <th>extraction_date_with_hour</th>\n",
       "      <th>shared_teks_by_upload_date</th>\n",
       "    </tr>\n",
       "    <tr>\n",
       "      <th>datetime_utc</th>\n",
       "      <th></th>\n",
       "      <th></th>\n",
       "    </tr>\n",
       "  </thead>\n",
       "  <tbody>\n",
       "    <tr>\n",
       "      <th>2020-12-05 00:00:00</th>\n",
       "      <td>2020-12-05@00</td>\n",
       "      <td>9</td>\n",
       "    </tr>\n",
       "    <tr>\n",
       "      <th>2020-12-05 01:00:00</th>\n",
       "      <td>2020-12-05@01</td>\n",
       "      <td>0</td>\n",
       "    </tr>\n",
       "    <tr>\n",
       "      <th>2020-12-05 02:00:00</th>\n",
       "      <td>2020-12-05@02</td>\n",
       "      <td>29</td>\n",
       "    </tr>\n",
       "    <tr>\n",
       "      <th>2020-12-05 03:00:00</th>\n",
       "      <td>2020-12-05@03</td>\n",
       "      <td>0</td>\n",
       "    </tr>\n",
       "    <tr>\n",
       "      <th>2020-12-05 04:00:00</th>\n",
       "      <td>2020-12-05@04</td>\n",
       "      <td>31</td>\n",
       "    </tr>\n",
       "  </tbody>\n",
       "</table>\n",
       "</div>"
      ],
      "text/plain": [
       "                    extraction_date_with_hour  shared_teks_by_upload_date\n",
       "datetime_utc                                                             \n",
       "2020-12-05 00:00:00             2020-12-05@00                           9\n",
       "2020-12-05 01:00:00             2020-12-05@01                           0\n",
       "2020-12-05 02:00:00             2020-12-05@02                          29\n",
       "2020-12-05 03:00:00             2020-12-05@03                           0\n",
       "2020-12-05 04:00:00             2020-12-05@04                          31"
      ]
     },
     "execution_count": 41,
     "metadata": {},
     "output_type": "execute_result"
    }
   ],
   "source": [
    "hourly_summary_df = hourly_new_tek_count_df.copy()\n",
    "hourly_summary_df.set_index(\"extraction_date_with_hour\", inplace=True)\n",
    "hourly_summary_df = hourly_summary_df.fillna(0).astype(int).reset_index()\n",
    "hourly_summary_df[\"datetime_utc\"] = pd.to_datetime(\n",
    "    hourly_summary_df.extraction_date_with_hour, format=\"%Y-%m-%d@%H\")\n",
    "hourly_summary_df.set_index(\"datetime_utc\", inplace=True)\n",
    "hourly_summary_df = hourly_summary_df.tail(-1)\n",
    "hourly_summary_df.head()"
   ]
  },
  {
   "cell_type": "markdown",
   "metadata": {
    "collapsed": false,
    "papermill": {
     "duration": 0.045802,
     "end_time": "2020-12-05T23:36:03.595045",
     "exception": false,
     "start_time": "2020-12-05T23:36:03.549243",
     "status": "completed"
    },
    "tags": []
   },
   "source": [
    "### Data Merge"
   ]
  },
  {
   "cell_type": "code",
   "execution_count": 42,
   "metadata": {
    "collapsed": false,
    "execution": {
     "iopub.execute_input": "2020-12-05T23:36:03.710082Z",
     "iopub.status.busy": "2020-12-05T23:36:03.709415Z",
     "iopub.status.idle": "2020-12-05T23:36:03.730601Z",
     "shell.execute_reply": "2020-12-05T23:36:03.729642Z"
    },
    "papermill": {
     "duration": 0.08937,
     "end_time": "2020-12-05T23:36:03.730709",
     "exception": false,
     "start_time": "2020-12-05T23:36:03.641339",
     "status": "completed"
    },
    "pycharm": {
     "name": "#%%\n"
    },
    "tags": []
   },
   "outputs": [
    {
     "data": {
      "text/html": [
       "<div>\n",
       "<style scoped>\n",
       "    .dataframe tbody tr th:only-of-type {\n",
       "        vertical-align: middle;\n",
       "    }\n",
       "\n",
       "    .dataframe tbody tr th {\n",
       "        vertical-align: top;\n",
       "    }\n",
       "\n",
       "    .dataframe thead th {\n",
       "        text-align: right;\n",
       "    }\n",
       "</style>\n",
       "<table border=\"1\" class=\"dataframe\">\n",
       "  <thead>\n",
       "    <tr style=\"text-align: right;\">\n",
       "      <th></th>\n",
       "      <th>sample_date_string</th>\n",
       "      <th>shared_teks_by_generation_date</th>\n",
       "      <th>shared_teks_by_upload_date</th>\n",
       "    </tr>\n",
       "  </thead>\n",
       "  <tbody>\n",
       "    <tr>\n",
       "      <th>0</th>\n",
       "      <td>2020-12-05</td>\n",
       "      <td>167</td>\n",
       "      <td>106219.0</td>\n",
       "    </tr>\n",
       "    <tr>\n",
       "      <th>1</th>\n",
       "      <td>2020-12-04</td>\n",
       "      <td>2341</td>\n",
       "      <td>794.0</td>\n",
       "    </tr>\n",
       "    <tr>\n",
       "      <th>2</th>\n",
       "      <td>2020-12-03</td>\n",
       "      <td>5402</td>\n",
       "      <td>828.0</td>\n",
       "    </tr>\n",
       "    <tr>\n",
       "      <th>3</th>\n",
       "      <td>2020-12-02</td>\n",
       "      <td>8099</td>\n",
       "      <td>5371.0</td>\n",
       "    </tr>\n",
       "    <tr>\n",
       "      <th>4</th>\n",
       "      <td>2020-12-01</td>\n",
       "      <td>10727</td>\n",
       "      <td>24674.0</td>\n",
       "    </tr>\n",
       "  </tbody>\n",
       "</table>\n",
       "</div>"
      ],
      "text/plain": [
       "  sample_date_string  shared_teks_by_generation_date  \\\n",
       "0         2020-12-05                             167   \n",
       "1         2020-12-04                            2341   \n",
       "2         2020-12-03                            5402   \n",
       "3         2020-12-02                            8099   \n",
       "4         2020-12-01                           10727   \n",
       "\n",
       "   shared_teks_by_upload_date  \n",
       "0                    106219.0  \n",
       "1                       794.0  \n",
       "2                       828.0  \n",
       "3                      5371.0  \n",
       "4                     24674.0  "
      ]
     },
     "execution_count": 42,
     "metadata": {},
     "output_type": "execute_result"
    }
   ],
   "source": [
    "result_summary_df = exposure_keys_summary_df.merge(\n",
    "    new_tek_df, on=[\"sample_date_string\"], how=\"outer\")\n",
    "result_summary_df.head()"
   ]
  },
  {
   "cell_type": "code",
   "execution_count": 43,
   "metadata": {
    "collapsed": false,
    "execution": {
     "iopub.execute_input": "2020-12-05T23:36:03.832768Z",
     "iopub.status.busy": "2020-12-05T23:36:03.832275Z",
     "iopub.status.idle": "2020-12-05T23:36:03.835019Z",
     "shell.execute_reply": "2020-12-05T23:36:03.834712Z"
    },
    "papermill": {
     "duration": 0.056057,
     "end_time": "2020-12-05T23:36:03.835102",
     "exception": false,
     "start_time": "2020-12-05T23:36:03.779045",
     "status": "completed"
    },
    "pycharm": {
     "name": "#%%\n"
    },
    "tags": []
   },
   "outputs": [
    {
     "data": {
      "text/html": [
       "<div>\n",
       "<style scoped>\n",
       "    .dataframe tbody tr th:only-of-type {\n",
       "        vertical-align: middle;\n",
       "    }\n",
       "\n",
       "    .dataframe tbody tr th {\n",
       "        vertical-align: top;\n",
       "    }\n",
       "\n",
       "    .dataframe thead th {\n",
       "        text-align: right;\n",
       "    }\n",
       "</style>\n",
       "<table border=\"1\" class=\"dataframe\">\n",
       "  <thead>\n",
       "    <tr style=\"text-align: right;\">\n",
       "      <th></th>\n",
       "      <th>sample_date_string</th>\n",
       "      <th>shared_teks_by_generation_date</th>\n",
       "      <th>shared_teks_by_upload_date</th>\n",
       "      <th>shared_teks_uploaded_on_generation_date</th>\n",
       "    </tr>\n",
       "  </thead>\n",
       "  <tbody>\n",
       "    <tr>\n",
       "      <th>0</th>\n",
       "      <td>2020-12-05</td>\n",
       "      <td>167</td>\n",
       "      <td>106219.0</td>\n",
       "      <td>167.0</td>\n",
       "    </tr>\n",
       "    <tr>\n",
       "      <th>1</th>\n",
       "      <td>2020-12-04</td>\n",
       "      <td>2341</td>\n",
       "      <td>794.0</td>\n",
       "      <td>158.0</td>\n",
       "    </tr>\n",
       "    <tr>\n",
       "      <th>2</th>\n",
       "      <td>2020-12-03</td>\n",
       "      <td>5402</td>\n",
       "      <td>828.0</td>\n",
       "      <td>161.0</td>\n",
       "    </tr>\n",
       "    <tr>\n",
       "      <th>3</th>\n",
       "      <td>2020-12-02</td>\n",
       "      <td>8099</td>\n",
       "      <td>5371.0</td>\n",
       "      <td>197.0</td>\n",
       "    </tr>\n",
       "    <tr>\n",
       "      <th>4</th>\n",
       "      <td>2020-12-01</td>\n",
       "      <td>10727</td>\n",
       "      <td>24674.0</td>\n",
       "      <td>189.0</td>\n",
       "    </tr>\n",
       "  </tbody>\n",
       "</table>\n",
       "</div>"
      ],
      "text/plain": [
       "  sample_date_string  shared_teks_by_generation_date  \\\n",
       "0         2020-12-05                             167   \n",
       "1         2020-12-04                            2341   \n",
       "2         2020-12-03                            5402   \n",
       "3         2020-12-02                            8099   \n",
       "4         2020-12-01                           10727   \n",
       "\n",
       "   shared_teks_by_upload_date  shared_teks_uploaded_on_generation_date  \n",
       "0                    106219.0                                    167.0  \n",
       "1                       794.0                                    158.0  \n",
       "2                       828.0                                    161.0  \n",
       "3                      5371.0                                    197.0  \n",
       "4                     24674.0                                    189.0  "
      ]
     },
     "execution_count": 43,
     "metadata": {},
     "output_type": "execute_result"
    }
   ],
   "source": [
    "result_summary_df = result_summary_df.merge(\n",
    "    shared_teks_uploaded_on_generation_date_df, on=[\"sample_date_string\"], how=\"outer\")\n",
    "result_summary_df.head()"
   ]
  },
  {
   "cell_type": "code",
   "execution_count": 44,
   "metadata": {
    "collapsed": false,
    "execution": {
     "iopub.execute_input": "2020-12-05T23:36:03.928467Z",
     "iopub.status.busy": "2020-12-05T23:36:03.928092Z",
     "iopub.status.idle": "2020-12-05T23:36:03.938215Z",
     "shell.execute_reply": "2020-12-05T23:36:03.937893Z"
    },
    "papermill": {
     "duration": 0.060939,
     "end_time": "2020-12-05T23:36:03.938342",
     "exception": false,
     "start_time": "2020-12-05T23:36:03.877403",
     "status": "completed"
    },
    "pycharm": {
     "name": "#%%\n"
    },
    "tags": []
   },
   "outputs": [
    {
     "data": {
      "text/html": [
       "<div>\n",
       "<style scoped>\n",
       "    .dataframe tbody tr th:only-of-type {\n",
       "        vertical-align: middle;\n",
       "    }\n",
       "\n",
       "    .dataframe tbody tr th {\n",
       "        vertical-align: top;\n",
       "    }\n",
       "\n",
       "    .dataframe thead th {\n",
       "        text-align: right;\n",
       "    }\n",
       "</style>\n",
       "<table border=\"1\" class=\"dataframe\">\n",
       "  <thead>\n",
       "    <tr style=\"text-align: right;\">\n",
       "      <th></th>\n",
       "      <th>sample_date_string</th>\n",
       "      <th>shared_teks_by_generation_date</th>\n",
       "      <th>shared_teks_by_upload_date</th>\n",
       "      <th>shared_teks_uploaded_on_generation_date</th>\n",
       "      <th>shared_diagnoses</th>\n",
       "    </tr>\n",
       "  </thead>\n",
       "  <tbody>\n",
       "    <tr>\n",
       "      <th>0</th>\n",
       "      <td>2020-12-05</td>\n",
       "      <td>167.0</td>\n",
       "      <td>106219.0</td>\n",
       "      <td>167.0</td>\n",
       "      <td>NaN</td>\n",
       "    </tr>\n",
       "    <tr>\n",
       "      <th>1</th>\n",
       "      <td>2020-12-04</td>\n",
       "      <td>2341.0</td>\n",
       "      <td>794.0</td>\n",
       "      <td>158.0</td>\n",
       "      <td>188.0</td>\n",
       "    </tr>\n",
       "    <tr>\n",
       "      <th>2</th>\n",
       "      <td>2020-12-03</td>\n",
       "      <td>5402.0</td>\n",
       "      <td>828.0</td>\n",
       "      <td>161.0</td>\n",
       "      <td>189.0</td>\n",
       "    </tr>\n",
       "    <tr>\n",
       "      <th>3</th>\n",
       "      <td>2020-12-02</td>\n",
       "      <td>8099.0</td>\n",
       "      <td>5371.0</td>\n",
       "      <td>197.0</td>\n",
       "      <td>615.0</td>\n",
       "    </tr>\n",
       "    <tr>\n",
       "      <th>4</th>\n",
       "      <td>2020-12-01</td>\n",
       "      <td>10727.0</td>\n",
       "      <td>24674.0</td>\n",
       "      <td>189.0</td>\n",
       "      <td>2238.0</td>\n",
       "    </tr>\n",
       "  </tbody>\n",
       "</table>\n",
       "</div>"
      ],
      "text/plain": [
       "  sample_date_string  shared_teks_by_generation_date  \\\n",
       "0         2020-12-05                           167.0   \n",
       "1         2020-12-04                          2341.0   \n",
       "2         2020-12-03                          5402.0   \n",
       "3         2020-12-02                          8099.0   \n",
       "4         2020-12-01                         10727.0   \n",
       "\n",
       "   shared_teks_by_upload_date  shared_teks_uploaded_on_generation_date  \\\n",
       "0                    106219.0                                    167.0   \n",
       "1                       794.0                                    158.0   \n",
       "2                       828.0                                    161.0   \n",
       "3                      5371.0                                    197.0   \n",
       "4                     24674.0                                    189.0   \n",
       "\n",
       "   shared_diagnoses  \n",
       "0               NaN  \n",
       "1             188.0  \n",
       "2             189.0  \n",
       "3             615.0  \n",
       "4            2238.0  "
      ]
     },
     "execution_count": 44,
     "metadata": {},
     "output_type": "execute_result"
    }
   ],
   "source": [
    "result_summary_df = result_summary_df.merge(\n",
    "    estimated_shared_diagnoses_df, on=[\"sample_date_string\"], how=\"outer\")\n",
    "result_summary_df.head()"
   ]
  },
  {
   "cell_type": "code",
   "execution_count": 45,
   "metadata": {
    "collapsed": false,
    "execution": {
     "iopub.execute_input": "2020-12-05T23:36:04.034438Z",
     "iopub.status.busy": "2020-12-05T23:36:04.033906Z",
     "iopub.status.idle": "2020-12-05T23:36:04.042283Z",
     "shell.execute_reply": "2020-12-05T23:36:04.041828Z"
    },
    "papermill": {
     "duration": 0.061308,
     "end_time": "2020-12-05T23:36:04.042399",
     "exception": false,
     "start_time": "2020-12-05T23:36:03.981091",
     "status": "completed"
    },
    "pycharm": {
     "name": "#%%\n"
    },
    "tags": []
   },
   "outputs": [
    {
     "data": {
      "text/html": [
       "<div>\n",
       "<style scoped>\n",
       "    .dataframe tbody tr th:only-of-type {\n",
       "        vertical-align: middle;\n",
       "    }\n",
       "\n",
       "    .dataframe tbody tr th {\n",
       "        vertical-align: top;\n",
       "    }\n",
       "\n",
       "    .dataframe thead th {\n",
       "        text-align: right;\n",
       "    }\n",
       "</style>\n",
       "<table border=\"1\" class=\"dataframe\">\n",
       "  <thead>\n",
       "    <tr style=\"text-align: right;\">\n",
       "      <th></th>\n",
       "      <th>sample_date_string</th>\n",
       "      <th>new_cases</th>\n",
       "      <th>covid_cases</th>\n",
       "      <th>shared_teks_by_generation_date</th>\n",
       "      <th>shared_teks_by_upload_date</th>\n",
       "      <th>shared_teks_uploaded_on_generation_date</th>\n",
       "      <th>shared_diagnoses</th>\n",
       "    </tr>\n",
       "  </thead>\n",
       "  <tbody>\n",
       "    <tr>\n",
       "      <th>0</th>\n",
       "      <td>2020-09-13</td>\n",
       "      <td>0</td>\n",
       "      <td>9620.0</td>\n",
       "      <td>75.0</td>\n",
       "      <td>92.0</td>\n",
       "      <td>NaN</td>\n",
       "      <td>32.0</td>\n",
       "    </tr>\n",
       "    <tr>\n",
       "      <th>1</th>\n",
       "      <td>2020-09-14</td>\n",
       "      <td>27404</td>\n",
       "      <td>9740.0</td>\n",
       "      <td>73.0</td>\n",
       "      <td>61.0</td>\n",
       "      <td>NaN</td>\n",
       "      <td>28.0</td>\n",
       "    </tr>\n",
       "    <tr>\n",
       "      <th>2</th>\n",
       "      <td>2020-09-15</td>\n",
       "      <td>9437</td>\n",
       "      <td>9808.0</td>\n",
       "      <td>82.0</td>\n",
       "      <td>58.0</td>\n",
       "      <td>NaN</td>\n",
       "      <td>23.0</td>\n",
       "    </tr>\n",
       "    <tr>\n",
       "      <th>3</th>\n",
       "      <td>2020-09-16</td>\n",
       "      <td>11193</td>\n",
       "      <td>10140.0</td>\n",
       "      <td>119.0</td>\n",
       "      <td>62.0</td>\n",
       "      <td>NaN</td>\n",
       "      <td>23.0</td>\n",
       "    </tr>\n",
       "    <tr>\n",
       "      <th>4</th>\n",
       "      <td>2020-09-17</td>\n",
       "      <td>11291</td>\n",
       "      <td>10215.0</td>\n",
       "      <td>139.0</td>\n",
       "      <td>63.0</td>\n",
       "      <td>NaN</td>\n",
       "      <td>29.0</td>\n",
       "    </tr>\n",
       "  </tbody>\n",
       "</table>\n",
       "</div>"
      ],
      "text/plain": [
       "  sample_date_string  new_cases  covid_cases  shared_teks_by_generation_date  \\\n",
       "0         2020-09-13          0       9620.0                            75.0   \n",
       "1         2020-09-14      27404       9740.0                            73.0   \n",
       "2         2020-09-15       9437       9808.0                            82.0   \n",
       "3         2020-09-16      11193      10140.0                           119.0   \n",
       "4         2020-09-17      11291      10215.0                           139.0   \n",
       "\n",
       "   shared_teks_by_upload_date  shared_teks_uploaded_on_generation_date  \\\n",
       "0                        92.0                                      NaN   \n",
       "1                        61.0                                      NaN   \n",
       "2                        58.0                                      NaN   \n",
       "3                        62.0                                      NaN   \n",
       "4                        63.0                                      NaN   \n",
       "\n",
       "   shared_diagnoses  \n",
       "0              32.0  \n",
       "1              28.0  \n",
       "2              23.0  \n",
       "3              23.0  \n",
       "4              29.0  "
      ]
     },
     "execution_count": 45,
     "metadata": {},
     "output_type": "execute_result"
    }
   ],
   "source": [
    "result_summary_df = confirmed_df.tail(daily_summary_days).merge(\n",
    "    result_summary_df, on=[\"sample_date_string\"], how=\"left\")\n",
    "result_summary_df.head()"
   ]
  },
  {
   "cell_type": "code",
   "execution_count": 46,
   "metadata": {
    "collapsed": false,
    "execution": {
     "iopub.execute_input": "2020-12-05T23:36:04.149607Z",
     "iopub.status.busy": "2020-12-05T23:36:04.149226Z",
     "iopub.status.idle": "2020-12-05T23:36:04.188014Z",
     "shell.execute_reply": "2020-12-05T23:36:04.188588Z"
    },
    "papermill": {
     "duration": 0.094643,
     "end_time": "2020-12-05T23:36:04.188704",
     "exception": false,
     "start_time": "2020-12-05T23:36:04.094061",
     "status": "completed"
    },
    "pycharm": {
     "name": "#%%\n"
    },
    "tags": []
   },
   "outputs": [
    {
     "data": {
      "text/html": [
       "<div>\n",
       "<style scoped>\n",
       "    .dataframe tbody tr th:only-of-type {\n",
       "        vertical-align: middle;\n",
       "    }\n",
       "\n",
       "    .dataframe tbody tr th {\n",
       "        vertical-align: top;\n",
       "    }\n",
       "\n",
       "    .dataframe thead th {\n",
       "        text-align: right;\n",
       "    }\n",
       "</style>\n",
       "<table border=\"1\" class=\"dataframe\">\n",
       "  <thead>\n",
       "    <tr style=\"text-align: right;\">\n",
       "      <th></th>\n",
       "      <th></th>\n",
       "      <th>new_cases</th>\n",
       "      <th>covid_cases</th>\n",
       "      <th>shared_teks_by_generation_date</th>\n",
       "      <th>shared_teks_by_upload_date</th>\n",
       "      <th>shared_teks_uploaded_on_generation_date</th>\n",
       "      <th>shared_diagnoses</th>\n",
       "    </tr>\n",
       "    <tr>\n",
       "      <th>sample_date</th>\n",
       "      <th>source_regions</th>\n",
       "      <th></th>\n",
       "      <th></th>\n",
       "      <th></th>\n",
       "      <th></th>\n",
       "      <th></th>\n",
       "      <th></th>\n",
       "    </tr>\n",
       "  </thead>\n",
       "  <tbody>\n",
       "    <tr>\n",
       "      <th>2020-12-05</th>\n",
       "      <th>ES,DE,DK,HR,IE,IT,LV,PL</th>\n",
       "      <td>67171</td>\n",
       "      <td>65103.0</td>\n",
       "      <td>167.0</td>\n",
       "      <td>106219.0</td>\n",
       "      <td>167.0</td>\n",
       "      <td>NaN</td>\n",
       "    </tr>\n",
       "    <tr>\n",
       "      <th>2020-12-04</th>\n",
       "      <th>ES</th>\n",
       "      <td>8745</td>\n",
       "      <td>8063.0</td>\n",
       "      <td>2341.0</td>\n",
       "      <td>794.0</td>\n",
       "      <td>158.0</td>\n",
       "      <td>188.0</td>\n",
       "    </tr>\n",
       "    <tr>\n",
       "      <th>2020-12-03</th>\n",
       "      <th>ES</th>\n",
       "      <td>10127</td>\n",
       "      <td>8364.0</td>\n",
       "      <td>5402.0</td>\n",
       "      <td>828.0</td>\n",
       "      <td>161.0</td>\n",
       "      <td>189.0</td>\n",
       "    </tr>\n",
       "    <tr>\n",
       "      <th>2020-12-02</th>\n",
       "      <th>ES,DE,DK,HR,IE,IT,LV,PL</th>\n",
       "      <td>60295</td>\n",
       "      <td>68427.0</td>\n",
       "      <td>8099.0</td>\n",
       "      <td>5371.0</td>\n",
       "      <td>197.0</td>\n",
       "      <td>615.0</td>\n",
       "    </tr>\n",
       "    <tr>\n",
       "      <th>2020-12-01</th>\n",
       "      <th>ES,DE,DK,HR,IE,IT,LV,PL</th>\n",
       "      <td>47335</td>\n",
       "      <td>72553.0</td>\n",
       "      <td>10727.0</td>\n",
       "      <td>24674.0</td>\n",
       "      <td>189.0</td>\n",
       "      <td>2238.0</td>\n",
       "    </tr>\n",
       "  </tbody>\n",
       "</table>\n",
       "</div>"
      ],
      "text/plain": [
       "                                     new_cases  covid_cases  \\\n",
       "sample_date source_regions                                    \n",
       "2020-12-05  ES,DE,DK,HR,IE,IT,LV,PL      67171      65103.0   \n",
       "2020-12-04  ES                            8745       8063.0   \n",
       "2020-12-03  ES                           10127       8364.0   \n",
       "2020-12-02  ES,DE,DK,HR,IE,IT,LV,PL      60295      68427.0   \n",
       "2020-12-01  ES,DE,DK,HR,IE,IT,LV,PL      47335      72553.0   \n",
       "\n",
       "                                     shared_teks_by_generation_date  \\\n",
       "sample_date source_regions                                            \n",
       "2020-12-05  ES,DE,DK,HR,IE,IT,LV,PL                           167.0   \n",
       "2020-12-04  ES                                               2341.0   \n",
       "2020-12-03  ES                                               5402.0   \n",
       "2020-12-02  ES,DE,DK,HR,IE,IT,LV,PL                          8099.0   \n",
       "2020-12-01  ES,DE,DK,HR,IE,IT,LV,PL                         10727.0   \n",
       "\n",
       "                                     shared_teks_by_upload_date  \\\n",
       "sample_date source_regions                                        \n",
       "2020-12-05  ES,DE,DK,HR,IE,IT,LV,PL                    106219.0   \n",
       "2020-12-04  ES                                            794.0   \n",
       "2020-12-03  ES                                            828.0   \n",
       "2020-12-02  ES,DE,DK,HR,IE,IT,LV,PL                      5371.0   \n",
       "2020-12-01  ES,DE,DK,HR,IE,IT,LV,PL                     24674.0   \n",
       "\n",
       "                                     shared_teks_uploaded_on_generation_date  \\\n",
       "sample_date source_regions                                                     \n",
       "2020-12-05  ES,DE,DK,HR,IE,IT,LV,PL                                    167.0   \n",
       "2020-12-04  ES                                                         158.0   \n",
       "2020-12-03  ES                                                         161.0   \n",
       "2020-12-02  ES,DE,DK,HR,IE,IT,LV,PL                                    197.0   \n",
       "2020-12-01  ES,DE,DK,HR,IE,IT,LV,PL                                    189.0   \n",
       "\n",
       "                                     shared_diagnoses  \n",
       "sample_date source_regions                             \n",
       "2020-12-05  ES,DE,DK,HR,IE,IT,LV,PL               NaN  \n",
       "2020-12-04  ES                                  188.0  \n",
       "2020-12-03  ES                                  189.0  \n",
       "2020-12-02  ES,DE,DK,HR,IE,IT,LV,PL             615.0  \n",
       "2020-12-01  ES,DE,DK,HR,IE,IT,LV,PL            2238.0  "
      ]
     },
     "execution_count": 46,
     "metadata": {},
     "output_type": "execute_result"
    }
   ],
   "source": [
    "result_summary_df[\"sample_date\"] = pd.to_datetime(result_summary_df.sample_date_string)\n",
    "result_summary_df = result_summary_df.merge(source_regions_for_summary_df, how=\"left\")\n",
    "result_summary_df.set_index([\"sample_date\", \"source_regions\"], inplace=True)\n",
    "result_summary_df.drop(columns=[\"sample_date_string\"], inplace=True)\n",
    "result_summary_df.sort_index(ascending=False, inplace=True)\n",
    "result_summary_df.head()"
   ]
  },
  {
   "cell_type": "code",
   "execution_count": 47,
   "metadata": {
    "execution": {
     "iopub.execute_input": "2020-12-05T23:36:04.288268Z",
     "iopub.status.busy": "2020-12-05T23:36:04.284810Z",
     "iopub.status.idle": "2020-12-05T23:36:04.310351Z",
     "shell.execute_reply": "2020-12-05T23:36:04.310713Z"
    },
    "papermill": {
     "duration": 0.078855,
     "end_time": "2020-12-05T23:36:04.310832",
     "exception": false,
     "start_time": "2020-12-05T23:36:04.231977",
     "status": "completed"
    },
    "tags": []
   },
   "outputs": [
    {
     "data": {
      "text/html": [
       "<div>\n",
       "<style scoped>\n",
       "    .dataframe tbody tr th:only-of-type {\n",
       "        vertical-align: middle;\n",
       "    }\n",
       "\n",
       "    .dataframe tbody tr th {\n",
       "        vertical-align: top;\n",
       "    }\n",
       "\n",
       "    .dataframe thead th {\n",
       "        text-align: right;\n",
       "    }\n",
       "</style>\n",
       "<table border=\"1\" class=\"dataframe\">\n",
       "  <thead>\n",
       "    <tr style=\"text-align: right;\">\n",
       "      <th></th>\n",
       "      <th></th>\n",
       "      <th>new_cases</th>\n",
       "      <th>covid_cases</th>\n",
       "      <th>shared_teks_by_generation_date</th>\n",
       "      <th>shared_teks_by_upload_date</th>\n",
       "      <th>shared_teks_uploaded_on_generation_date</th>\n",
       "      <th>shared_diagnoses</th>\n",
       "      <th>teks_per_shared_diagnosis</th>\n",
       "      <th>shared_diagnoses_per_covid_case</th>\n",
       "    </tr>\n",
       "    <tr>\n",
       "      <th>sample_date</th>\n",
       "      <th>source_regions</th>\n",
       "      <th></th>\n",
       "      <th></th>\n",
       "      <th></th>\n",
       "      <th></th>\n",
       "      <th></th>\n",
       "      <th></th>\n",
       "      <th></th>\n",
       "      <th></th>\n",
       "    </tr>\n",
       "  </thead>\n",
       "  <tbody>\n",
       "    <tr>\n",
       "      <th>2020-12-05</th>\n",
       "      <th>ES,DE,DK,HR,IE,IT,LV,PL</th>\n",
       "      <td>67171</td>\n",
       "      <td>65103</td>\n",
       "      <td>167</td>\n",
       "      <td>106219</td>\n",
       "      <td>167</td>\n",
       "      <td>0</td>\n",
       "      <td>0.000000</td>\n",
       "      <td>0.000000</td>\n",
       "    </tr>\n",
       "    <tr>\n",
       "      <th>2020-12-04</th>\n",
       "      <th>ES</th>\n",
       "      <td>8745</td>\n",
       "      <td>8063</td>\n",
       "      <td>2341</td>\n",
       "      <td>794</td>\n",
       "      <td>158</td>\n",
       "      <td>188</td>\n",
       "      <td>4.223404</td>\n",
       "      <td>0.023316</td>\n",
       "    </tr>\n",
       "    <tr>\n",
       "      <th>2020-12-03</th>\n",
       "      <th>ES</th>\n",
       "      <td>10127</td>\n",
       "      <td>8364</td>\n",
       "      <td>5402</td>\n",
       "      <td>828</td>\n",
       "      <td>161</td>\n",
       "      <td>189</td>\n",
       "      <td>4.380952</td>\n",
       "      <td>0.022597</td>\n",
       "    </tr>\n",
       "    <tr>\n",
       "      <th>2020-12-02</th>\n",
       "      <th>ES,DE,DK,HR,IE,IT,LV,PL</th>\n",
       "      <td>60295</td>\n",
       "      <td>68427</td>\n",
       "      <td>8099</td>\n",
       "      <td>5371</td>\n",
       "      <td>197</td>\n",
       "      <td>615</td>\n",
       "      <td>8.733333</td>\n",
       "      <td>0.008988</td>\n",
       "    </tr>\n",
       "    <tr>\n",
       "      <th>2020-12-01</th>\n",
       "      <th>ES,DE,DK,HR,IE,IT,LV,PL</th>\n",
       "      <td>47335</td>\n",
       "      <td>72553</td>\n",
       "      <td>10727</td>\n",
       "      <td>24674</td>\n",
       "      <td>189</td>\n",
       "      <td>2238</td>\n",
       "      <td>11.025022</td>\n",
       "      <td>0.030846</td>\n",
       "    </tr>\n",
       "    <tr>\n",
       "      <th>2020-11-30</th>\n",
       "      <th>ES,DE,DK,HR,IE,IT,LV,PL</th>\n",
       "      <td>67906</td>\n",
       "      <td>75394</td>\n",
       "      <td>12771</td>\n",
       "      <td>15031</td>\n",
       "      <td>126</td>\n",
       "      <td>1430</td>\n",
       "      <td>10.511189</td>\n",
       "      <td>0.018967</td>\n",
       "    </tr>\n",
       "    <tr>\n",
       "      <th>2020-11-29</th>\n",
       "      <th>ES,DE,DK,HR,IE,IT,LV,PL</th>\n",
       "      <td>62722</td>\n",
       "      <td>78235</td>\n",
       "      <td>13602</td>\n",
       "      <td>17305</td>\n",
       "      <td>128</td>\n",
       "      <td>1684</td>\n",
       "      <td>10.276128</td>\n",
       "      <td>0.021525</td>\n",
       "    </tr>\n",
       "    <tr>\n",
       "      <th>2020-11-28</th>\n",
       "      <th>ES,DE,DK,HR,IE,IT,LV,PL</th>\n",
       "      <td>73586</td>\n",
       "      <td>80782</td>\n",
       "      <td>14654</td>\n",
       "      <td>25028</td>\n",
       "      <td>159</td>\n",
       "      <td>2398</td>\n",
       "      <td>10.437031</td>\n",
       "      <td>0.029685</td>\n",
       "    </tr>\n",
       "    <tr>\n",
       "      <th>2020-11-27</th>\n",
       "      <th>ES,DE,DK,HR,IE,IT,LV,PL</th>\n",
       "      <td>85755</td>\n",
       "      <td>82782</td>\n",
       "      <td>16880</td>\n",
       "      <td>27522</td>\n",
       "      <td>254</td>\n",
       "      <td>2555</td>\n",
       "      <td>10.771820</td>\n",
       "      <td>0.030864</td>\n",
       "    </tr>\n",
       "    <tr>\n",
       "      <th>2020-11-26</th>\n",
       "      <th>ES,DE,DK,HR,IE,IT,LV,PL</th>\n",
       "      <td>81388</td>\n",
       "      <td>85417</td>\n",
       "      <td>18779</td>\n",
       "      <td>31914</td>\n",
       "      <td>216</td>\n",
       "      <td>3037</td>\n",
       "      <td>10.508396</td>\n",
       "      <td>0.035555</td>\n",
       "    </tr>\n",
       "    <tr>\n",
       "      <th>2020-11-25</th>\n",
       "      <th>ES,DE,DK,HR,IE,IT,LV</th>\n",
       "      <td>56448</td>\n",
       "      <td>65533</td>\n",
       "      <td>20819</td>\n",
       "      <td>30693</td>\n",
       "      <td>227</td>\n",
       "      <td>2822</td>\n",
       "      <td>10.876329</td>\n",
       "      <td>0.043062</td>\n",
       "    </tr>\n",
       "    <tr>\n",
       "      <th>2020-11-24</th>\n",
       "      <th>ES,DE,DK,HR,IE,IT,LV</th>\n",
       "      <td>52217</td>\n",
       "      <td>67304</td>\n",
       "      <td>22962</td>\n",
       "      <td>17800</td>\n",
       "      <td>164</td>\n",
       "      <td>1667</td>\n",
       "      <td>10.677864</td>\n",
       "      <td>0.024768</td>\n",
       "    </tr>\n",
       "    <tr>\n",
       "      <th>2020-11-23</th>\n",
       "      <th>ES,DE,DK,HR,IE,IT,LV</th>\n",
       "      <td>69939</td>\n",
       "      <td>68127</td>\n",
       "      <td>24439</td>\n",
       "      <td>13061</td>\n",
       "      <td>147</td>\n",
       "      <td>1332</td>\n",
       "      <td>9.805556</td>\n",
       "      <td>0.019552</td>\n",
       "    </tr>\n",
       "    <tr>\n",
       "      <th>2020-11-22</th>\n",
       "      <th>ES,DE,DK,HR,IE,IT,LV</th>\n",
       "      <td>56334</td>\n",
       "      <td>70591</td>\n",
       "      <td>25108</td>\n",
       "      <td>14568</td>\n",
       "      <td>132</td>\n",
       "      <td>1524</td>\n",
       "      <td>9.559055</td>\n",
       "      <td>0.021589</td>\n",
       "    </tr>\n",
       "    <tr>\n",
       "      <th>2020-11-21</th>\n",
       "      <th>ES,DE,DK,HR,IE,IT,LV</th>\n",
       "      <td>65127</td>\n",
       "      <td>70966</td>\n",
       "      <td>17633</td>\n",
       "      <td>22605</td>\n",
       "      <td>153</td>\n",
       "      <td>2275</td>\n",
       "      <td>9.936264</td>\n",
       "      <td>0.032058</td>\n",
       "    </tr>\n",
       "    <tr>\n",
       "      <th>2020-11-20</th>\n",
       "      <th>ES,DE,DK,IE,IT,LV</th>\n",
       "      <td>77058</td>\n",
       "      <td>68866</td>\n",
       "      <td>19235</td>\n",
       "      <td>26712</td>\n",
       "      <td>212</td>\n",
       "      <td>2617</td>\n",
       "      <td>10.207107</td>\n",
       "      <td>0.038001</td>\n",
       "    </tr>\n",
       "    <tr>\n",
       "      <th>2020-11-19</th>\n",
       "      <th>ES,DE,DK,IE,IT,LV</th>\n",
       "      <td>75193</td>\n",
       "      <td>69974</td>\n",
       "      <td>21159</td>\n",
       "      <td>25678</td>\n",
       "      <td>211</td>\n",
       "      <td>2492</td>\n",
       "      <td>10.304173</td>\n",
       "      <td>0.035613</td>\n",
       "    </tr>\n",
       "    <tr>\n",
       "      <th>2020-11-18</th>\n",
       "      <th>ES,DE,DK,IE,IT,LV</th>\n",
       "      <td>66898</td>\n",
       "      <td>70110</td>\n",
       "      <td>22780</td>\n",
       "      <td>29832</td>\n",
       "      <td>290</td>\n",
       "      <td>2915</td>\n",
       "      <td>10.233962</td>\n",
       "      <td>0.041578</td>\n",
       "    </tr>\n",
       "    <tr>\n",
       "      <th>2020-11-17</th>\n",
       "      <th>ES,DE,DK,IE,IT,LV</th>\n",
       "      <td>56667</td>\n",
       "      <td>71150</td>\n",
       "      <td>23287</td>\n",
       "      <td>22734</td>\n",
       "      <td>222</td>\n",
       "      <td>2099</td>\n",
       "      <td>10.830872</td>\n",
       "      <td>0.029501</td>\n",
       "    </tr>\n",
       "    <tr>\n",
       "      <th>2020-11-16</th>\n",
       "      <th>ES,DE,DK,IE,IT,LV</th>\n",
       "      <td>84825</td>\n",
       "      <td>71501</td>\n",
       "      <td>23983</td>\n",
       "      <td>17579</td>\n",
       "      <td>194</td>\n",
       "      <td>1741</td>\n",
       "      <td>10.097071</td>\n",
       "      <td>0.024349</td>\n",
       "    </tr>\n",
       "    <tr>\n",
       "      <th>2020-11-15</th>\n",
       "      <th>ES,DE,DK,IE,IT,LV</th>\n",
       "      <td>56096</td>\n",
       "      <td>73670</td>\n",
       "      <td>23554</td>\n",
       "      <td>15287</td>\n",
       "      <td>224</td>\n",
       "      <td>1611</td>\n",
       "      <td>9.489137</td>\n",
       "      <td>0.021868</td>\n",
       "    </tr>\n",
       "    <tr>\n",
       "      <th>2020-11-14</th>\n",
       "      <th>ES,DE,DK,IE,IT,LV</th>\n",
       "      <td>65322</td>\n",
       "      <td>73884</td>\n",
       "      <td>22860</td>\n",
       "      <td>22798</td>\n",
       "      <td>211</td>\n",
       "      <td>2281</td>\n",
       "      <td>9.994739</td>\n",
       "      <td>0.030873</td>\n",
       "    </tr>\n",
       "    <tr>\n",
       "      <th>2020-11-13</th>\n",
       "      <th>ES,DE,DK,IE,IT,LV</th>\n",
       "      <td>84819</td>\n",
       "      <td>73621</td>\n",
       "      <td>22818</td>\n",
       "      <td>29729</td>\n",
       "      <td>306</td>\n",
       "      <td>2890</td>\n",
       "      <td>10.286851</td>\n",
       "      <td>0.039255</td>\n",
       "    </tr>\n",
       "    <tr>\n",
       "      <th>2020-11-12</th>\n",
       "      <th>ES,DE,DK,IE,IT,LV</th>\n",
       "      <td>76143</td>\n",
       "      <td>73029</td>\n",
       "      <td>22699</td>\n",
       "      <td>31792</td>\n",
       "      <td>317</td>\n",
       "      <td>3205</td>\n",
       "      <td>9.919501</td>\n",
       "      <td>0.043887</td>\n",
       "    </tr>\n",
       "    <tr>\n",
       "      <th>2020-11-11</th>\n",
       "      <th>ES,DE,DK,IE,IT,LV</th>\n",
       "      <td>74177</td>\n",
       "      <td>72741</td>\n",
       "      <td>22652</td>\n",
       "      <td>30445</td>\n",
       "      <td>300</td>\n",
       "      <td>3029</td>\n",
       "      <td>10.051172</td>\n",
       "      <td>0.041641</td>\n",
       "    </tr>\n",
       "    <tr>\n",
       "      <th>2020-11-10</th>\n",
       "      <th>ES,DE,DK,IE,IT,LV</th>\n",
       "      <td>59124</td>\n",
       "      <td>72476</td>\n",
       "      <td>23535</td>\n",
       "      <td>21163</td>\n",
       "      <td>292</td>\n",
       "      <td>2086</td>\n",
       "      <td>10.145254</td>\n",
       "      <td>0.028782</td>\n",
       "    </tr>\n",
       "    <tr>\n",
       "      <th>2020-11-09</th>\n",
       "      <th>ES,DE,DK,IE,IT,LV</th>\n",
       "      <td>100008</td>\n",
       "      <td>72329</td>\n",
       "      <td>24379</td>\n",
       "      <td>16517</td>\n",
       "      <td>236</td>\n",
       "      <td>1683</td>\n",
       "      <td>9.814023</td>\n",
       "      <td>0.023269</td>\n",
       "    </tr>\n",
       "    <tr>\n",
       "      <th>2020-11-08</th>\n",
       "      <th>ES,DE,IE,IT,LV</th>\n",
       "      <td>56547</td>\n",
       "      <td>71025</td>\n",
       "      <td>24098</td>\n",
       "      <td>16816</td>\n",
       "      <td>209</td>\n",
       "      <td>1809</td>\n",
       "      <td>9.295744</td>\n",
       "      <td>0.025470</td>\n",
       "    </tr>\n",
       "  </tbody>\n",
       "</table>\n",
       "</div>"
      ],
      "text/plain": [
       "                                     new_cases  covid_cases  \\\n",
       "sample_date source_regions                                    \n",
       "2020-12-05  ES,DE,DK,HR,IE,IT,LV,PL      67171        65103   \n",
       "2020-12-04  ES                            8745         8063   \n",
       "2020-12-03  ES                           10127         8364   \n",
       "2020-12-02  ES,DE,DK,HR,IE,IT,LV,PL      60295        68427   \n",
       "2020-12-01  ES,DE,DK,HR,IE,IT,LV,PL      47335        72553   \n",
       "2020-11-30  ES,DE,DK,HR,IE,IT,LV,PL      67906        75394   \n",
       "2020-11-29  ES,DE,DK,HR,IE,IT,LV,PL      62722        78235   \n",
       "2020-11-28  ES,DE,DK,HR,IE,IT,LV,PL      73586        80782   \n",
       "2020-11-27  ES,DE,DK,HR,IE,IT,LV,PL      85755        82782   \n",
       "2020-11-26  ES,DE,DK,HR,IE,IT,LV,PL      81388        85417   \n",
       "2020-11-25  ES,DE,DK,HR,IE,IT,LV         56448        65533   \n",
       "2020-11-24  ES,DE,DK,HR,IE,IT,LV         52217        67304   \n",
       "2020-11-23  ES,DE,DK,HR,IE,IT,LV         69939        68127   \n",
       "2020-11-22  ES,DE,DK,HR,IE,IT,LV         56334        70591   \n",
       "2020-11-21  ES,DE,DK,HR,IE,IT,LV         65127        70966   \n",
       "2020-11-20  ES,DE,DK,IE,IT,LV            77058        68866   \n",
       "2020-11-19  ES,DE,DK,IE,IT,LV            75193        69974   \n",
       "2020-11-18  ES,DE,DK,IE,IT,LV            66898        70110   \n",
       "2020-11-17  ES,DE,DK,IE,IT,LV            56667        71150   \n",
       "2020-11-16  ES,DE,DK,IE,IT,LV            84825        71501   \n",
       "2020-11-15  ES,DE,DK,IE,IT,LV            56096        73670   \n",
       "2020-11-14  ES,DE,DK,IE,IT,LV            65322        73884   \n",
       "2020-11-13  ES,DE,DK,IE,IT,LV            84819        73621   \n",
       "2020-11-12  ES,DE,DK,IE,IT,LV            76143        73029   \n",
       "2020-11-11  ES,DE,DK,IE,IT,LV            74177        72741   \n",
       "2020-11-10  ES,DE,DK,IE,IT,LV            59124        72476   \n",
       "2020-11-09  ES,DE,DK,IE,IT,LV           100008        72329   \n",
       "2020-11-08  ES,DE,IE,IT,LV               56547        71025   \n",
       "\n",
       "                                     shared_teks_by_generation_date  \\\n",
       "sample_date source_regions                                            \n",
       "2020-12-05  ES,DE,DK,HR,IE,IT,LV,PL                             167   \n",
       "2020-12-04  ES                                                 2341   \n",
       "2020-12-03  ES                                                 5402   \n",
       "2020-12-02  ES,DE,DK,HR,IE,IT,LV,PL                            8099   \n",
       "2020-12-01  ES,DE,DK,HR,IE,IT,LV,PL                           10727   \n",
       "2020-11-30  ES,DE,DK,HR,IE,IT,LV,PL                           12771   \n",
       "2020-11-29  ES,DE,DK,HR,IE,IT,LV,PL                           13602   \n",
       "2020-11-28  ES,DE,DK,HR,IE,IT,LV,PL                           14654   \n",
       "2020-11-27  ES,DE,DK,HR,IE,IT,LV,PL                           16880   \n",
       "2020-11-26  ES,DE,DK,HR,IE,IT,LV,PL                           18779   \n",
       "2020-11-25  ES,DE,DK,HR,IE,IT,LV                              20819   \n",
       "2020-11-24  ES,DE,DK,HR,IE,IT,LV                              22962   \n",
       "2020-11-23  ES,DE,DK,HR,IE,IT,LV                              24439   \n",
       "2020-11-22  ES,DE,DK,HR,IE,IT,LV                              25108   \n",
       "2020-11-21  ES,DE,DK,HR,IE,IT,LV                              17633   \n",
       "2020-11-20  ES,DE,DK,IE,IT,LV                                 19235   \n",
       "2020-11-19  ES,DE,DK,IE,IT,LV                                 21159   \n",
       "2020-11-18  ES,DE,DK,IE,IT,LV                                 22780   \n",
       "2020-11-17  ES,DE,DK,IE,IT,LV                                 23287   \n",
       "2020-11-16  ES,DE,DK,IE,IT,LV                                 23983   \n",
       "2020-11-15  ES,DE,DK,IE,IT,LV                                 23554   \n",
       "2020-11-14  ES,DE,DK,IE,IT,LV                                 22860   \n",
       "2020-11-13  ES,DE,DK,IE,IT,LV                                 22818   \n",
       "2020-11-12  ES,DE,DK,IE,IT,LV                                 22699   \n",
       "2020-11-11  ES,DE,DK,IE,IT,LV                                 22652   \n",
       "2020-11-10  ES,DE,DK,IE,IT,LV                                 23535   \n",
       "2020-11-09  ES,DE,DK,IE,IT,LV                                 24379   \n",
       "2020-11-08  ES,DE,IE,IT,LV                                    24098   \n",
       "\n",
       "                                     shared_teks_by_upload_date  \\\n",
       "sample_date source_regions                                        \n",
       "2020-12-05  ES,DE,DK,HR,IE,IT,LV,PL                      106219   \n",
       "2020-12-04  ES                                              794   \n",
       "2020-12-03  ES                                              828   \n",
       "2020-12-02  ES,DE,DK,HR,IE,IT,LV,PL                        5371   \n",
       "2020-12-01  ES,DE,DK,HR,IE,IT,LV,PL                       24674   \n",
       "2020-11-30  ES,DE,DK,HR,IE,IT,LV,PL                       15031   \n",
       "2020-11-29  ES,DE,DK,HR,IE,IT,LV,PL                       17305   \n",
       "2020-11-28  ES,DE,DK,HR,IE,IT,LV,PL                       25028   \n",
       "2020-11-27  ES,DE,DK,HR,IE,IT,LV,PL                       27522   \n",
       "2020-11-26  ES,DE,DK,HR,IE,IT,LV,PL                       31914   \n",
       "2020-11-25  ES,DE,DK,HR,IE,IT,LV                          30693   \n",
       "2020-11-24  ES,DE,DK,HR,IE,IT,LV                          17800   \n",
       "2020-11-23  ES,DE,DK,HR,IE,IT,LV                          13061   \n",
       "2020-11-22  ES,DE,DK,HR,IE,IT,LV                          14568   \n",
       "2020-11-21  ES,DE,DK,HR,IE,IT,LV                          22605   \n",
       "2020-11-20  ES,DE,DK,IE,IT,LV                             26712   \n",
       "2020-11-19  ES,DE,DK,IE,IT,LV                             25678   \n",
       "2020-11-18  ES,DE,DK,IE,IT,LV                             29832   \n",
       "2020-11-17  ES,DE,DK,IE,IT,LV                             22734   \n",
       "2020-11-16  ES,DE,DK,IE,IT,LV                             17579   \n",
       "2020-11-15  ES,DE,DK,IE,IT,LV                             15287   \n",
       "2020-11-14  ES,DE,DK,IE,IT,LV                             22798   \n",
       "2020-11-13  ES,DE,DK,IE,IT,LV                             29729   \n",
       "2020-11-12  ES,DE,DK,IE,IT,LV                             31792   \n",
       "2020-11-11  ES,DE,DK,IE,IT,LV                             30445   \n",
       "2020-11-10  ES,DE,DK,IE,IT,LV                             21163   \n",
       "2020-11-09  ES,DE,DK,IE,IT,LV                             16517   \n",
       "2020-11-08  ES,DE,IE,IT,LV                                16816   \n",
       "\n",
       "                                     shared_teks_uploaded_on_generation_date  \\\n",
       "sample_date source_regions                                                     \n",
       "2020-12-05  ES,DE,DK,HR,IE,IT,LV,PL                                      167   \n",
       "2020-12-04  ES                                                           158   \n",
       "2020-12-03  ES                                                           161   \n",
       "2020-12-02  ES,DE,DK,HR,IE,IT,LV,PL                                      197   \n",
       "2020-12-01  ES,DE,DK,HR,IE,IT,LV,PL                                      189   \n",
       "2020-11-30  ES,DE,DK,HR,IE,IT,LV,PL                                      126   \n",
       "2020-11-29  ES,DE,DK,HR,IE,IT,LV,PL                                      128   \n",
       "2020-11-28  ES,DE,DK,HR,IE,IT,LV,PL                                      159   \n",
       "2020-11-27  ES,DE,DK,HR,IE,IT,LV,PL                                      254   \n",
       "2020-11-26  ES,DE,DK,HR,IE,IT,LV,PL                                      216   \n",
       "2020-11-25  ES,DE,DK,HR,IE,IT,LV                                         227   \n",
       "2020-11-24  ES,DE,DK,HR,IE,IT,LV                                         164   \n",
       "2020-11-23  ES,DE,DK,HR,IE,IT,LV                                         147   \n",
       "2020-11-22  ES,DE,DK,HR,IE,IT,LV                                         132   \n",
       "2020-11-21  ES,DE,DK,HR,IE,IT,LV                                         153   \n",
       "2020-11-20  ES,DE,DK,IE,IT,LV                                            212   \n",
       "2020-11-19  ES,DE,DK,IE,IT,LV                                            211   \n",
       "2020-11-18  ES,DE,DK,IE,IT,LV                                            290   \n",
       "2020-11-17  ES,DE,DK,IE,IT,LV                                            222   \n",
       "2020-11-16  ES,DE,DK,IE,IT,LV                                            194   \n",
       "2020-11-15  ES,DE,DK,IE,IT,LV                                            224   \n",
       "2020-11-14  ES,DE,DK,IE,IT,LV                                            211   \n",
       "2020-11-13  ES,DE,DK,IE,IT,LV                                            306   \n",
       "2020-11-12  ES,DE,DK,IE,IT,LV                                            317   \n",
       "2020-11-11  ES,DE,DK,IE,IT,LV                                            300   \n",
       "2020-11-10  ES,DE,DK,IE,IT,LV                                            292   \n",
       "2020-11-09  ES,DE,DK,IE,IT,LV                                            236   \n",
       "2020-11-08  ES,DE,IE,IT,LV                                               209   \n",
       "\n",
       "                                     shared_diagnoses  \\\n",
       "sample_date source_regions                              \n",
       "2020-12-05  ES,DE,DK,HR,IE,IT,LV,PL                 0   \n",
       "2020-12-04  ES                                    188   \n",
       "2020-12-03  ES                                    189   \n",
       "2020-12-02  ES,DE,DK,HR,IE,IT,LV,PL               615   \n",
       "2020-12-01  ES,DE,DK,HR,IE,IT,LV,PL              2238   \n",
       "2020-11-30  ES,DE,DK,HR,IE,IT,LV,PL              1430   \n",
       "2020-11-29  ES,DE,DK,HR,IE,IT,LV,PL              1684   \n",
       "2020-11-28  ES,DE,DK,HR,IE,IT,LV,PL              2398   \n",
       "2020-11-27  ES,DE,DK,HR,IE,IT,LV,PL              2555   \n",
       "2020-11-26  ES,DE,DK,HR,IE,IT,LV,PL              3037   \n",
       "2020-11-25  ES,DE,DK,HR,IE,IT,LV                 2822   \n",
       "2020-11-24  ES,DE,DK,HR,IE,IT,LV                 1667   \n",
       "2020-11-23  ES,DE,DK,HR,IE,IT,LV                 1332   \n",
       "2020-11-22  ES,DE,DK,HR,IE,IT,LV                 1524   \n",
       "2020-11-21  ES,DE,DK,HR,IE,IT,LV                 2275   \n",
       "2020-11-20  ES,DE,DK,IE,IT,LV                    2617   \n",
       "2020-11-19  ES,DE,DK,IE,IT,LV                    2492   \n",
       "2020-11-18  ES,DE,DK,IE,IT,LV                    2915   \n",
       "2020-11-17  ES,DE,DK,IE,IT,LV                    2099   \n",
       "2020-11-16  ES,DE,DK,IE,IT,LV                    1741   \n",
       "2020-11-15  ES,DE,DK,IE,IT,LV                    1611   \n",
       "2020-11-14  ES,DE,DK,IE,IT,LV                    2281   \n",
       "2020-11-13  ES,DE,DK,IE,IT,LV                    2890   \n",
       "2020-11-12  ES,DE,DK,IE,IT,LV                    3205   \n",
       "2020-11-11  ES,DE,DK,IE,IT,LV                    3029   \n",
       "2020-11-10  ES,DE,DK,IE,IT,LV                    2086   \n",
       "2020-11-09  ES,DE,DK,IE,IT,LV                    1683   \n",
       "2020-11-08  ES,DE,IE,IT,LV                       1809   \n",
       "\n",
       "                                     teks_per_shared_diagnosis  \\\n",
       "sample_date source_regions                                       \n",
       "2020-12-05  ES,DE,DK,HR,IE,IT,LV,PL                   0.000000   \n",
       "2020-12-04  ES                                        4.223404   \n",
       "2020-12-03  ES                                        4.380952   \n",
       "2020-12-02  ES,DE,DK,HR,IE,IT,LV,PL                   8.733333   \n",
       "2020-12-01  ES,DE,DK,HR,IE,IT,LV,PL                  11.025022   \n",
       "2020-11-30  ES,DE,DK,HR,IE,IT,LV,PL                  10.511189   \n",
       "2020-11-29  ES,DE,DK,HR,IE,IT,LV,PL                  10.276128   \n",
       "2020-11-28  ES,DE,DK,HR,IE,IT,LV,PL                  10.437031   \n",
       "2020-11-27  ES,DE,DK,HR,IE,IT,LV,PL                  10.771820   \n",
       "2020-11-26  ES,DE,DK,HR,IE,IT,LV,PL                  10.508396   \n",
       "2020-11-25  ES,DE,DK,HR,IE,IT,LV                     10.876329   \n",
       "2020-11-24  ES,DE,DK,HR,IE,IT,LV                     10.677864   \n",
       "2020-11-23  ES,DE,DK,HR,IE,IT,LV                      9.805556   \n",
       "2020-11-22  ES,DE,DK,HR,IE,IT,LV                      9.559055   \n",
       "2020-11-21  ES,DE,DK,HR,IE,IT,LV                      9.936264   \n",
       "2020-11-20  ES,DE,DK,IE,IT,LV                        10.207107   \n",
       "2020-11-19  ES,DE,DK,IE,IT,LV                        10.304173   \n",
       "2020-11-18  ES,DE,DK,IE,IT,LV                        10.233962   \n",
       "2020-11-17  ES,DE,DK,IE,IT,LV                        10.830872   \n",
       "2020-11-16  ES,DE,DK,IE,IT,LV                        10.097071   \n",
       "2020-11-15  ES,DE,DK,IE,IT,LV                         9.489137   \n",
       "2020-11-14  ES,DE,DK,IE,IT,LV                         9.994739   \n",
       "2020-11-13  ES,DE,DK,IE,IT,LV                        10.286851   \n",
       "2020-11-12  ES,DE,DK,IE,IT,LV                         9.919501   \n",
       "2020-11-11  ES,DE,DK,IE,IT,LV                        10.051172   \n",
       "2020-11-10  ES,DE,DK,IE,IT,LV                        10.145254   \n",
       "2020-11-09  ES,DE,DK,IE,IT,LV                         9.814023   \n",
       "2020-11-08  ES,DE,IE,IT,LV                            9.295744   \n",
       "\n",
       "                                     shared_diagnoses_per_covid_case  \n",
       "sample_date source_regions                                            \n",
       "2020-12-05  ES,DE,DK,HR,IE,IT,LV,PL                         0.000000  \n",
       "2020-12-04  ES                                              0.023316  \n",
       "2020-12-03  ES                                              0.022597  \n",
       "2020-12-02  ES,DE,DK,HR,IE,IT,LV,PL                         0.008988  \n",
       "2020-12-01  ES,DE,DK,HR,IE,IT,LV,PL                         0.030846  \n",
       "2020-11-30  ES,DE,DK,HR,IE,IT,LV,PL                         0.018967  \n",
       "2020-11-29  ES,DE,DK,HR,IE,IT,LV,PL                         0.021525  \n",
       "2020-11-28  ES,DE,DK,HR,IE,IT,LV,PL                         0.029685  \n",
       "2020-11-27  ES,DE,DK,HR,IE,IT,LV,PL                         0.030864  \n",
       "2020-11-26  ES,DE,DK,HR,IE,IT,LV,PL                         0.035555  \n",
       "2020-11-25  ES,DE,DK,HR,IE,IT,LV                            0.043062  \n",
       "2020-11-24  ES,DE,DK,HR,IE,IT,LV                            0.024768  \n",
       "2020-11-23  ES,DE,DK,HR,IE,IT,LV                            0.019552  \n",
       "2020-11-22  ES,DE,DK,HR,IE,IT,LV                            0.021589  \n",
       "2020-11-21  ES,DE,DK,HR,IE,IT,LV                            0.032058  \n",
       "2020-11-20  ES,DE,DK,IE,IT,LV                               0.038001  \n",
       "2020-11-19  ES,DE,DK,IE,IT,LV                               0.035613  \n",
       "2020-11-18  ES,DE,DK,IE,IT,LV                               0.041578  \n",
       "2020-11-17  ES,DE,DK,IE,IT,LV                               0.029501  \n",
       "2020-11-16  ES,DE,DK,IE,IT,LV                               0.024349  \n",
       "2020-11-15  ES,DE,DK,IE,IT,LV                               0.021868  \n",
       "2020-11-14  ES,DE,DK,IE,IT,LV                               0.030873  \n",
       "2020-11-13  ES,DE,DK,IE,IT,LV                               0.039255  \n",
       "2020-11-12  ES,DE,DK,IE,IT,LV                               0.043887  \n",
       "2020-11-11  ES,DE,DK,IE,IT,LV                               0.041641  \n",
       "2020-11-10  ES,DE,DK,IE,IT,LV                               0.028782  \n",
       "2020-11-09  ES,DE,DK,IE,IT,LV                               0.023269  \n",
       "2020-11-08  ES,DE,IE,IT,LV                                  0.025470  "
      ]
     },
     "execution_count": 47,
     "metadata": {},
     "output_type": "execute_result"
    }
   ],
   "source": [
    "with pd.option_context(\"mode.use_inf_as_na\", True):\n",
    "    result_summary_df = result_summary_df.fillna(0).astype(int)\n",
    "    result_summary_df[\"teks_per_shared_diagnosis\"] = \\\n",
    "        (result_summary_df.shared_teks_by_upload_date / result_summary_df.shared_diagnoses).fillna(0)\n",
    "    result_summary_df[\"shared_diagnoses_per_covid_case\"] = \\\n",
    "        (result_summary_df.shared_diagnoses / result_summary_df.covid_cases).fillna(0)\n",
    "\n",
    "result_summary_df.head(daily_plot_days)"
   ]
  },
  {
   "cell_type": "code",
   "execution_count": 48,
   "metadata": {
    "collapsed": false,
    "execution": {
     "iopub.execute_input": "2020-12-05T23:36:04.413854Z",
     "iopub.status.busy": "2020-12-05T23:36:04.413355Z",
     "iopub.status.idle": "2020-12-05T23:36:04.440950Z",
     "shell.execute_reply": "2020-12-05T23:36:04.441385Z"
    },
    "papermill": {
     "duration": 0.08263,
     "end_time": "2020-12-05T23:36:04.441530",
     "exception": false,
     "start_time": "2020-12-05T23:36:04.358900",
     "status": "completed"
    },
    "pycharm": {
     "name": "#%%\n"
    },
    "tags": []
   },
   "outputs": [
    {
     "data": {
      "text/html": [
       "<div>\n",
       "<style scoped>\n",
       "    .dataframe tbody tr th:only-of-type {\n",
       "        vertical-align: middle;\n",
       "    }\n",
       "\n",
       "    .dataframe tbody tr th {\n",
       "        vertical-align: top;\n",
       "    }\n",
       "\n",
       "    .dataframe thead th {\n",
       "        text-align: right;\n",
       "    }\n",
       "</style>\n",
       "<table border=\"1\" class=\"dataframe\">\n",
       "  <thead>\n",
       "    <tr style=\"text-align: right;\">\n",
       "      <th></th>\n",
       "      <th></th>\n",
       "      <th>covid_cases</th>\n",
       "      <th>shared_teks_by_generation_date</th>\n",
       "      <th>shared_teks_by_upload_date</th>\n",
       "      <th>shared_diagnoses</th>\n",
       "      <th>teks_per_shared_diagnosis</th>\n",
       "      <th>shared_diagnoses_per_covid_case</th>\n",
       "    </tr>\n",
       "    <tr>\n",
       "      <th>sample_date</th>\n",
       "      <th>source_regions</th>\n",
       "      <th></th>\n",
       "      <th></th>\n",
       "      <th></th>\n",
       "      <th></th>\n",
       "      <th></th>\n",
       "      <th></th>\n",
       "    </tr>\n",
       "  </thead>\n",
       "  <tbody>\n",
       "    <tr>\n",
       "      <th>2020-12-05</th>\n",
       "      <th>ES,DE,DK,HR,IE,IT,LV,PL</th>\n",
       "      <td>376139</td>\n",
       "      <td>53109</td>\n",
       "      <td>170222</td>\n",
       "      <td>6344</td>\n",
       "      <td>26.831967</td>\n",
       "      <td>0.016866</td>\n",
       "    </tr>\n",
       "    <tr>\n",
       "      <th>2020-12-04</th>\n",
       "      <th>ES</th>\n",
       "      <td>391818</td>\n",
       "      <td>67596</td>\n",
       "      <td>89031</td>\n",
       "      <td>8742</td>\n",
       "      <td>10.184283</td>\n",
       "      <td>0.022311</td>\n",
       "    </tr>\n",
       "    <tr>\n",
       "      <th>2020-12-03</th>\n",
       "      <th>ES</th>\n",
       "      <td>466537</td>\n",
       "      <td>82135</td>\n",
       "      <td>115759</td>\n",
       "      <td>11109</td>\n",
       "      <td>10.420290</td>\n",
       "      <td>0.023812</td>\n",
       "    </tr>\n",
       "    <tr>\n",
       "      <th>2020-12-02</th>\n",
       "      <th>ES,DE,DK,HR,IE,IT,LV,PL</th>\n",
       "      <td>543590</td>\n",
       "      <td>95512</td>\n",
       "      <td>146845</td>\n",
       "      <td>13957</td>\n",
       "      <td>10.521244</td>\n",
       "      <td>0.025676</td>\n",
       "    </tr>\n",
       "    <tr>\n",
       "      <th>2020-12-01</th>\n",
       "      <th>ES,DE,DK,HR,IE,IT,LV,PL</th>\n",
       "      <td>540696</td>\n",
       "      <td>108232</td>\n",
       "      <td>172167</td>\n",
       "      <td>16164</td>\n",
       "      <td>10.651262</td>\n",
       "      <td>0.029895</td>\n",
       "    </tr>\n",
       "  </tbody>\n",
       "</table>\n",
       "</div>"
      ],
      "text/plain": [
       "                                     covid_cases  \\\n",
       "sample_date source_regions                         \n",
       "2020-12-05  ES,DE,DK,HR,IE,IT,LV,PL       376139   \n",
       "2020-12-04  ES                            391818   \n",
       "2020-12-03  ES                            466537   \n",
       "2020-12-02  ES,DE,DK,HR,IE,IT,LV,PL       543590   \n",
       "2020-12-01  ES,DE,DK,HR,IE,IT,LV,PL       540696   \n",
       "\n",
       "                                     shared_teks_by_generation_date  \\\n",
       "sample_date source_regions                                            \n",
       "2020-12-05  ES,DE,DK,HR,IE,IT,LV,PL                           53109   \n",
       "2020-12-04  ES                                                67596   \n",
       "2020-12-03  ES                                                82135   \n",
       "2020-12-02  ES,DE,DK,HR,IE,IT,LV,PL                           95512   \n",
       "2020-12-01  ES,DE,DK,HR,IE,IT,LV,PL                          108232   \n",
       "\n",
       "                                     shared_teks_by_upload_date  \\\n",
       "sample_date source_regions                                        \n",
       "2020-12-05  ES,DE,DK,HR,IE,IT,LV,PL                      170222   \n",
       "2020-12-04  ES                                            89031   \n",
       "2020-12-03  ES                                           115759   \n",
       "2020-12-02  ES,DE,DK,HR,IE,IT,LV,PL                      146845   \n",
       "2020-12-01  ES,DE,DK,HR,IE,IT,LV,PL                      172167   \n",
       "\n",
       "                                     shared_diagnoses  \\\n",
       "sample_date source_regions                              \n",
       "2020-12-05  ES,DE,DK,HR,IE,IT,LV,PL              6344   \n",
       "2020-12-04  ES                                   8742   \n",
       "2020-12-03  ES                                  11109   \n",
       "2020-12-02  ES,DE,DK,HR,IE,IT,LV,PL             13957   \n",
       "2020-12-01  ES,DE,DK,HR,IE,IT,LV,PL             16164   \n",
       "\n",
       "                                     teks_per_shared_diagnosis  \\\n",
       "sample_date source_regions                                       \n",
       "2020-12-05  ES,DE,DK,HR,IE,IT,LV,PL                  26.831967   \n",
       "2020-12-04  ES                                       10.184283   \n",
       "2020-12-03  ES                                       10.420290   \n",
       "2020-12-02  ES,DE,DK,HR,IE,IT,LV,PL                  10.521244   \n",
       "2020-12-01  ES,DE,DK,HR,IE,IT,LV,PL                  10.651262   \n",
       "\n",
       "                                     shared_diagnoses_per_covid_case  \n",
       "sample_date source_regions                                            \n",
       "2020-12-05  ES,DE,DK,HR,IE,IT,LV,PL                         0.016866  \n",
       "2020-12-04  ES                                              0.022311  \n",
       "2020-12-03  ES                                              0.023812  \n",
       "2020-12-02  ES,DE,DK,HR,IE,IT,LV,PL                         0.025676  \n",
       "2020-12-01  ES,DE,DK,HR,IE,IT,LV,PL                         0.029895  "
      ]
     },
     "execution_count": 48,
     "metadata": {},
     "output_type": "execute_result"
    }
   ],
   "source": [
    "weekly_result_summary_df = result_summary_df \\\n",
    "    .sort_index(ascending=True).fillna(0).rolling(7).agg({\n",
    "    \"covid_cases\": \"sum\",\n",
    "    \"shared_teks_by_generation_date\": \"sum\",\n",
    "    \"shared_teks_by_upload_date\": \"sum\",\n",
    "    \"shared_diagnoses\": \"sum\"\n",
    "}).sort_index(ascending=False)\n",
    "\n",
    "with pd.option_context(\"mode.use_inf_as_na\", True):\n",
    "    weekly_result_summary_df = weekly_result_summary_df.fillna(0).astype(int)\n",
    "    weekly_result_summary_df[\"teks_per_shared_diagnosis\"] = \\\n",
    "        (weekly_result_summary_df.shared_teks_by_upload_date / weekly_result_summary_df.shared_diagnoses).fillna(0)\n",
    "    weekly_result_summary_df[\"shared_diagnoses_per_covid_case\"] = \\\n",
    "        (weekly_result_summary_df.shared_diagnoses / weekly_result_summary_df.covid_cases).fillna(0)\n",
    "\n",
    "weekly_result_summary_df.head()"
   ]
  },
  {
   "cell_type": "code",
   "execution_count": 49,
   "metadata": {
    "collapsed": false,
    "execution": {
     "iopub.execute_input": "2020-12-05T23:36:04.545459Z",
     "iopub.status.busy": "2020-12-05T23:36:04.545031Z",
     "iopub.status.idle": "2020-12-05T23:36:04.547454Z",
     "shell.execute_reply": "2020-12-05T23:36:04.547738Z"
    },
    "papermill": {
     "duration": 0.059293,
     "end_time": "2020-12-05T23:36:04.547836",
     "exception": false,
     "start_time": "2020-12-05T23:36:04.488543",
     "status": "completed"
    },
    "pycharm": {
     "name": "#%%\n"
    },
    "tags": []
   },
   "outputs": [
    {
     "data": {
      "text/plain": [
       "{'covid_cases': 391818,\n",
       " 'shared_teks_by_generation_date': 67596,\n",
       " 'shared_teks_by_upload_date': 89031,\n",
       " 'shared_diagnoses': 8742,\n",
       " 'teks_per_shared_diagnosis': 10.184282772820865,\n",
       " 'shared_diagnoses_per_covid_case': 0.022311379262821004}"
      ]
     },
     "execution_count": 49,
     "metadata": {},
     "output_type": "execute_result"
    }
   ],
   "source": [
    "last_7_days_summary = weekly_result_summary_df.to_dict(orient=\"records\")[1]\n",
    "last_7_days_summary"
   ]
  },
  {
   "cell_type": "markdown",
   "metadata": {
    "collapsed": false,
    "papermill": {
     "duration": 0.048363,
     "end_time": "2020-12-05T23:36:04.645837",
     "exception": false,
     "start_time": "2020-12-05T23:36:04.597474",
     "status": "completed"
    },
    "tags": []
   },
   "source": [
    "## Report Results"
   ]
  },
  {
   "cell_type": "code",
   "execution_count": 50,
   "metadata": {
    "collapsed": false,
    "execution": {
     "iopub.execute_input": "2020-12-05T23:36:04.754692Z",
     "iopub.status.busy": "2020-12-05T23:36:04.754285Z",
     "iopub.status.idle": "2020-12-05T23:36:04.756376Z",
     "shell.execute_reply": "2020-12-05T23:36:04.756754Z"
    },
    "papermill": {
     "duration": 0.059328,
     "end_time": "2020-12-05T23:36:04.756849",
     "exception": false,
     "start_time": "2020-12-05T23:36:04.697521",
     "status": "completed"
    },
    "pycharm": {
     "name": "#%%\n"
    },
    "tags": []
   },
   "outputs": [],
   "source": [
    "display_column_name_mapping = {\n",
    "    \"sample_date\": \"Sample\\u00A0Date\\u00A0(UTC)\",\n",
    "    \"source_regions\": \"Source Countries\",\n",
    "    \"datetime_utc\": \"Timestamp (UTC)\",\n",
    "    \"upload_date\": \"Upload Date (UTC)\",\n",
    "    \"generation_to_upload_days\": \"Generation to Upload Period in Days\",\n",
    "    \"region\": \"Backend\",\n",
    "    \"region_x\": \"Backend\\u00A0(A)\",\n",
    "    \"region_y\": \"Backend\\u00A0(B)\",\n",
    "    \"common_teks\": \"Common TEKs Shared Between Backends\",\n",
    "    \"common_teks_fraction\": \"Fraction of TEKs in Backend (A) Available in Backend (B)\",\n",
    "    \"covid_cases\": \"COVID-19 Cases in Source Countries (7-day Rolling Average)\",\n",
    "    \"shared_teks_by_generation_date\": \"Shared TEKs by Generation Date\",\n",
    "    \"shared_teks_by_upload_date\": \"Shared TEKs by Upload Date\",\n",
    "    \"shared_diagnoses\": \"Shared Diagnoses (Estimation)\",\n",
    "    \"teks_per_shared_diagnosis\": \"TEKs Uploaded per Shared Diagnosis\",\n",
    "    \"shared_diagnoses_per_covid_case\": \"Usage Ratio (Fraction of Cases in Source Countries Which Shared Diagnosis)\",\n",
    "    \"shared_teks_uploaded_on_generation_date\": \"Shared TEKs Uploaded on Generation Date\",\n",
    "}"
   ]
  },
  {
   "cell_type": "code",
   "execution_count": 51,
   "metadata": {
    "collapsed": false,
    "execution": {
     "iopub.execute_input": "2020-12-05T23:36:04.853125Z",
     "iopub.status.busy": "2020-12-05T23:36:04.852748Z",
     "iopub.status.idle": "2020-12-05T23:36:04.855546Z",
     "shell.execute_reply": "2020-12-05T23:36:04.855124Z"
    },
    "papermill": {
     "duration": 0.051849,
     "end_time": "2020-12-05T23:36:04.855638",
     "exception": false,
     "start_time": "2020-12-05T23:36:04.803789",
     "status": "completed"
    },
    "pycharm": {
     "name": "#%%\n"
    },
    "tags": []
   },
   "outputs": [],
   "source": [
    "summary_columns = [\n",
    "    \"covid_cases\",\n",
    "    \"shared_teks_by_generation_date\",\n",
    "    \"shared_teks_by_upload_date\",\n",
    "    \"shared_teks_uploaded_on_generation_date\",\n",
    "    \"shared_diagnoses\",\n",
    "    \"teks_per_shared_diagnosis\",\n",
    "    \"shared_diagnoses_per_covid_case\",\n",
    "]"
   ]
  },
  {
   "cell_type": "markdown",
   "metadata": {
    "collapsed": false,
    "papermill": {
     "duration": 0.045824,
     "end_time": "2020-12-05T23:36:04.945702",
     "exception": false,
     "start_time": "2020-12-05T23:36:04.899878",
     "status": "completed"
    },
    "tags": []
   },
   "source": [
    "### Daily Summary Table"
   ]
  },
  {
   "cell_type": "code",
   "execution_count": 52,
   "metadata": {
    "collapsed": false,
    "execution": {
     "iopub.execute_input": "2020-12-05T23:36:05.059515Z",
     "iopub.status.busy": "2020-12-05T23:36:05.058989Z",
     "iopub.status.idle": "2020-12-05T23:36:05.061577Z",
     "shell.execute_reply": "2020-12-05T23:36:05.062026Z"
    },
    "papermill": {
     "duration": 0.070207,
     "end_time": "2020-12-05T23:36:05.062151",
     "exception": false,
     "start_time": "2020-12-05T23:36:04.991944",
     "status": "completed"
    },
    "pycharm": {
     "name": "#%%\n"
    },
    "tags": []
   },
   "outputs": [
    {
     "data": {
      "text/html": [
       "<div>\n",
       "<style scoped>\n",
       "    .dataframe tbody tr th:only-of-type {\n",
       "        vertical-align: middle;\n",
       "    }\n",
       "\n",
       "    .dataframe tbody tr th {\n",
       "        vertical-align: top;\n",
       "    }\n",
       "\n",
       "    .dataframe thead th {\n",
       "        text-align: right;\n",
       "    }\n",
       "</style>\n",
       "<table border=\"1\" class=\"dataframe\">\n",
       "  <thead>\n",
       "    <tr style=\"text-align: right;\">\n",
       "      <th></th>\n",
       "      <th></th>\n",
       "      <th>COVID-19 Cases in Source Countries (7-day Rolling Average)</th>\n",
       "      <th>Shared TEKs by Generation Date</th>\n",
       "      <th>Shared TEKs by Upload Date</th>\n",
       "      <th>Shared TEKs Uploaded on Generation Date</th>\n",
       "      <th>Shared Diagnoses (Estimation)</th>\n",
       "      <th>TEKs Uploaded per Shared Diagnosis</th>\n",
       "      <th>Usage Ratio (Fraction of Cases in Source Countries Which Shared Diagnosis)</th>\n",
       "    </tr>\n",
       "    <tr>\n",
       "      <th>Sample Date (UTC)</th>\n",
       "      <th>Source Countries</th>\n",
       "      <th></th>\n",
       "      <th></th>\n",
       "      <th></th>\n",
       "      <th></th>\n",
       "      <th></th>\n",
       "      <th></th>\n",
       "      <th></th>\n",
       "    </tr>\n",
       "  </thead>\n",
       "  <tbody>\n",
       "    <tr>\n",
       "      <th>2020-12-05</th>\n",
       "      <th>ES,DE,DK,HR,IE,IT,LV,PL</th>\n",
       "      <td>65103</td>\n",
       "      <td>167</td>\n",
       "      <td>106219</td>\n",
       "      <td>167</td>\n",
       "      <td>0</td>\n",
       "      <td>0.000000</td>\n",
       "      <td>0.000000</td>\n",
       "    </tr>\n",
       "    <tr>\n",
       "      <th>2020-12-04</th>\n",
       "      <th>ES</th>\n",
       "      <td>8063</td>\n",
       "      <td>2341</td>\n",
       "      <td>794</td>\n",
       "      <td>158</td>\n",
       "      <td>188</td>\n",
       "      <td>4.223404</td>\n",
       "      <td>0.023316</td>\n",
       "    </tr>\n",
       "    <tr>\n",
       "      <th>2020-12-03</th>\n",
       "      <th>ES</th>\n",
       "      <td>8364</td>\n",
       "      <td>5402</td>\n",
       "      <td>828</td>\n",
       "      <td>161</td>\n",
       "      <td>189</td>\n",
       "      <td>4.380952</td>\n",
       "      <td>0.022597</td>\n",
       "    </tr>\n",
       "    <tr>\n",
       "      <th>2020-12-02</th>\n",
       "      <th>ES,DE,DK,HR,IE,IT,LV,PL</th>\n",
       "      <td>68427</td>\n",
       "      <td>8099</td>\n",
       "      <td>5371</td>\n",
       "      <td>197</td>\n",
       "      <td>615</td>\n",
       "      <td>8.733333</td>\n",
       "      <td>0.008988</td>\n",
       "    </tr>\n",
       "    <tr>\n",
       "      <th>2020-12-01</th>\n",
       "      <th>ES,DE,DK,HR,IE,IT,LV,PL</th>\n",
       "      <td>72553</td>\n",
       "      <td>10727</td>\n",
       "      <td>24674</td>\n",
       "      <td>189</td>\n",
       "      <td>2238</td>\n",
       "      <td>11.025022</td>\n",
       "      <td>0.030846</td>\n",
       "    </tr>\n",
       "    <tr>\n",
       "      <th>...</th>\n",
       "      <th>...</th>\n",
       "      <td>...</td>\n",
       "      <td>...</td>\n",
       "      <td>...</td>\n",
       "      <td>...</td>\n",
       "      <td>...</td>\n",
       "      <td>...</td>\n",
       "      <td>...</td>\n",
       "    </tr>\n",
       "    <tr>\n",
       "      <th>2020-09-17</th>\n",
       "      <th>ES</th>\n",
       "      <td>10215</td>\n",
       "      <td>139</td>\n",
       "      <td>63</td>\n",
       "      <td>0</td>\n",
       "      <td>29</td>\n",
       "      <td>2.172414</td>\n",
       "      <td>0.002839</td>\n",
       "    </tr>\n",
       "    <tr>\n",
       "      <th>2020-09-16</th>\n",
       "      <th>ES</th>\n",
       "      <td>10140</td>\n",
       "      <td>119</td>\n",
       "      <td>62</td>\n",
       "      <td>0</td>\n",
       "      <td>23</td>\n",
       "      <td>2.695652</td>\n",
       "      <td>0.002268</td>\n",
       "    </tr>\n",
       "    <tr>\n",
       "      <th>2020-09-15</th>\n",
       "      <th>ES</th>\n",
       "      <td>9808</td>\n",
       "      <td>82</td>\n",
       "      <td>58</td>\n",
       "      <td>0</td>\n",
       "      <td>23</td>\n",
       "      <td>2.521739</td>\n",
       "      <td>0.002345</td>\n",
       "    </tr>\n",
       "    <tr>\n",
       "      <th>2020-09-14</th>\n",
       "      <th>ES</th>\n",
       "      <td>9740</td>\n",
       "      <td>73</td>\n",
       "      <td>61</td>\n",
       "      <td>0</td>\n",
       "      <td>28</td>\n",
       "      <td>2.178571</td>\n",
       "      <td>0.002875</td>\n",
       "    </tr>\n",
       "    <tr>\n",
       "      <th>2020-09-13</th>\n",
       "      <th>ES</th>\n",
       "      <td>9620</td>\n",
       "      <td>75</td>\n",
       "      <td>92</td>\n",
       "      <td>0</td>\n",
       "      <td>32</td>\n",
       "      <td>2.875000</td>\n",
       "      <td>0.003326</td>\n",
       "    </tr>\n",
       "  </tbody>\n",
       "</table>\n",
       "<p>84 rows × 7 columns</p>\n",
       "</div>"
      ],
      "text/plain": [
       "                                           COVID-19 Cases in Source Countries (7-day Rolling Average)  \\\n",
       "Sample Date (UTC) Source Countries                                                                      \n",
       "2020-12-05        ES,DE,DK,HR,IE,IT,LV,PL                                              65103            \n",
       "2020-12-04        ES                                                                    8063            \n",
       "2020-12-03        ES                                                                    8364            \n",
       "2020-12-02        ES,DE,DK,HR,IE,IT,LV,PL                                              68427            \n",
       "2020-12-01        ES,DE,DK,HR,IE,IT,LV,PL                                              72553            \n",
       "...                                                                                      ...            \n",
       "2020-09-17        ES                                                                   10215            \n",
       "2020-09-16        ES                                                                   10140            \n",
       "2020-09-15        ES                                                                    9808            \n",
       "2020-09-14        ES                                                                    9740            \n",
       "2020-09-13        ES                                                                    9620            \n",
       "\n",
       "                                           Shared TEKs by Generation Date  \\\n",
       "Sample Date (UTC) Source Countries                                          \n",
       "2020-12-05        ES,DE,DK,HR,IE,IT,LV,PL                             167   \n",
       "2020-12-04        ES                                                 2341   \n",
       "2020-12-03        ES                                                 5402   \n",
       "2020-12-02        ES,DE,DK,HR,IE,IT,LV,PL                            8099   \n",
       "2020-12-01        ES,DE,DK,HR,IE,IT,LV,PL                           10727   \n",
       "...                                                                   ...   \n",
       "2020-09-17        ES                                                  139   \n",
       "2020-09-16        ES                                                  119   \n",
       "2020-09-15        ES                                                   82   \n",
       "2020-09-14        ES                                                   73   \n",
       "2020-09-13        ES                                                   75   \n",
       "\n",
       "                                           Shared TEKs by Upload Date  \\\n",
       "Sample Date (UTC) Source Countries                                      \n",
       "2020-12-05        ES,DE,DK,HR,IE,IT,LV,PL                      106219   \n",
       "2020-12-04        ES                                              794   \n",
       "2020-12-03        ES                                              828   \n",
       "2020-12-02        ES,DE,DK,HR,IE,IT,LV,PL                        5371   \n",
       "2020-12-01        ES,DE,DK,HR,IE,IT,LV,PL                       24674   \n",
       "...                                                               ...   \n",
       "2020-09-17        ES                                               63   \n",
       "2020-09-16        ES                                               62   \n",
       "2020-09-15        ES                                               58   \n",
       "2020-09-14        ES                                               61   \n",
       "2020-09-13        ES                                               92   \n",
       "\n",
       "                                           Shared TEKs Uploaded on Generation Date  \\\n",
       "Sample Date (UTC) Source Countries                                                   \n",
       "2020-12-05        ES,DE,DK,HR,IE,IT,LV,PL                                      167   \n",
       "2020-12-04        ES                                                           158   \n",
       "2020-12-03        ES                                                           161   \n",
       "2020-12-02        ES,DE,DK,HR,IE,IT,LV,PL                                      197   \n",
       "2020-12-01        ES,DE,DK,HR,IE,IT,LV,PL                                      189   \n",
       "...                                                                            ...   \n",
       "2020-09-17        ES                                                             0   \n",
       "2020-09-16        ES                                                             0   \n",
       "2020-09-15        ES                                                             0   \n",
       "2020-09-14        ES                                                             0   \n",
       "2020-09-13        ES                                                             0   \n",
       "\n",
       "                                           Shared Diagnoses (Estimation)  \\\n",
       "Sample Date (UTC) Source Countries                                         \n",
       "2020-12-05        ES,DE,DK,HR,IE,IT,LV,PL                              0   \n",
       "2020-12-04        ES                                                 188   \n",
       "2020-12-03        ES                                                 189   \n",
       "2020-12-02        ES,DE,DK,HR,IE,IT,LV,PL                            615   \n",
       "2020-12-01        ES,DE,DK,HR,IE,IT,LV,PL                           2238   \n",
       "...                                                                  ...   \n",
       "2020-09-17        ES                                                  29   \n",
       "2020-09-16        ES                                                  23   \n",
       "2020-09-15        ES                                                  23   \n",
       "2020-09-14        ES                                                  28   \n",
       "2020-09-13        ES                                                  32   \n",
       "\n",
       "                                           TEKs Uploaded per Shared Diagnosis  \\\n",
       "Sample Date (UTC) Source Countries                                              \n",
       "2020-12-05        ES,DE,DK,HR,IE,IT,LV,PL                            0.000000   \n",
       "2020-12-04        ES                                                 4.223404   \n",
       "2020-12-03        ES                                                 4.380952   \n",
       "2020-12-02        ES,DE,DK,HR,IE,IT,LV,PL                            8.733333   \n",
       "2020-12-01        ES,DE,DK,HR,IE,IT,LV,PL                           11.025022   \n",
       "...                                                                       ...   \n",
       "2020-09-17        ES                                                 2.172414   \n",
       "2020-09-16        ES                                                 2.695652   \n",
       "2020-09-15        ES                                                 2.521739   \n",
       "2020-09-14        ES                                                 2.178571   \n",
       "2020-09-13        ES                                                 2.875000   \n",
       "\n",
       "                                           Usage Ratio (Fraction of Cases in Source Countries Which Shared Diagnosis)  \n",
       "Sample Date (UTC) Source Countries                                                                                     \n",
       "2020-12-05        ES,DE,DK,HR,IE,IT,LV,PL                                           0.000000                           \n",
       "2020-12-04        ES                                                                0.023316                           \n",
       "2020-12-03        ES                                                                0.022597                           \n",
       "2020-12-02        ES,DE,DK,HR,IE,IT,LV,PL                                           0.008988                           \n",
       "2020-12-01        ES,DE,DK,HR,IE,IT,LV,PL                                           0.030846                           \n",
       "...                                                                                      ...                           \n",
       "2020-09-17        ES                                                                0.002839                           \n",
       "2020-09-16        ES                                                                0.002268                           \n",
       "2020-09-15        ES                                                                0.002345                           \n",
       "2020-09-14        ES                                                                0.002875                           \n",
       "2020-09-13        ES                                                                0.003326                           \n",
       "\n",
       "[84 rows x 7 columns]"
      ]
     },
     "execution_count": 52,
     "metadata": {},
     "output_type": "execute_result"
    }
   ],
   "source": [
    "result_summary_df_ = result_summary_df.copy()\n",
    "result_summary_df = result_summary_df[summary_columns]\n",
    "result_summary_with_display_names_df = result_summary_df \\\n",
    "    .rename_axis(index=display_column_name_mapping) \\\n",
    "    .rename(columns=display_column_name_mapping)\n",
    "result_summary_with_display_names_df"
   ]
  },
  {
   "cell_type": "markdown",
   "metadata": {
    "collapsed": false,
    "papermill": {
     "duration": 0.046868,
     "end_time": "2020-12-05T23:36:05.160632",
     "exception": false,
     "start_time": "2020-12-05T23:36:05.113764",
     "status": "completed"
    },
    "tags": []
   },
   "source": [
    "### Daily Summary Plots"
   ]
  },
  {
   "cell_type": "code",
   "execution_count": 53,
   "metadata": {
    "collapsed": false,
    "execution": {
     "iopub.execute_input": "2020-12-05T23:36:05.273183Z",
     "iopub.status.busy": "2020-12-05T23:36:05.266628Z",
     "iopub.status.idle": "2020-12-05T23:36:07.722442Z",
     "shell.execute_reply": "2020-12-05T23:36:07.722037Z"
    },
    "papermill": {
     "duration": 2.514092,
     "end_time": "2020-12-05T23:36:07.722545",
     "exception": false,
     "start_time": "2020-12-05T23:36:05.208453",
     "status": "completed"
    },
    "pycharm": {
     "name": "#%%\n"
    },
    "tags": []
   },
   "outputs": [
    {
     "data": {
      "image/png": "[encoded data removed]",
      "text/plain": [
       "<Figure size 1080x1584 with 7 Axes>"
      ]
     },
     "metadata": {},
     "output_type": "display_data"
    }
   ],
   "source": [
    "result_plot_summary_df = result_summary_df.head(daily_plot_days)[summary_columns] \\\n",
    "    .droplevel(level=[\"source_regions\"]) \\\n",
    "    .rename_axis(index=display_column_name_mapping) \\\n",
    "    .rename(columns=display_column_name_mapping)\n",
    "summary_ax_list = result_plot_summary_df.sort_index(ascending=True).plot.bar(\n",
    "    title=f\"Daily Summary\",\n",
    "    rot=45, subplots=True, figsize=(15, 22), legend=False)\n",
    "ax_ = summary_ax_list[-1]\n",
    "ax_.get_figure().tight_layout()\n",
    "ax_.get_figure().subplots_adjust(top=0.95)\n",
    "ax_.yaxis.set_major_formatter(matplotlib.ticker.PercentFormatter(1.0))\n",
    "_ = ax_.set_xticklabels(sorted(result_plot_summary_df.index.strftime(\"%Y-%m-%d\").tolist()))"
   ]
  },
  {
   "cell_type": "markdown",
   "metadata": {
    "execution": {
     "iopub.execute_input": "2020-09-02T08:20:14.568088Z",
     "iopub.status.busy": "2020-09-02T08:20:14.567425Z",
     "iopub.status.idle": "2020-09-02T08:20:14.571422Z",
     "shell.execute_reply": "2020-09-02T08:20:14.571952Z"
    },
    "papermill": {
     "duration": 0.047972,
     "end_time": "2020-12-05T23:36:07.818744",
     "exception": false,
     "start_time": "2020-12-05T23:36:07.770772",
     "status": "completed"
    },
    "pycharm": {
     "name": "#%% md\n"
    },
    "tags": []
   },
   "source": [
    "### Daily Generation to Upload Period Table"
   ]
  },
  {
   "cell_type": "code",
   "execution_count": 54,
   "metadata": {
    "execution": {
     "iopub.execute_input": "2020-12-05T23:36:07.931944Z",
     "iopub.status.busy": "2020-12-05T23:36:07.931305Z",
     "iopub.status.idle": "2020-12-05T23:36:07.933805Z",
     "shell.execute_reply": "2020-12-05T23:36:07.934353Z"
    },
    "papermill": {
     "duration": 0.066826,
     "end_time": "2020-12-05T23:36:07.934515",
     "exception": false,
     "start_time": "2020-12-05T23:36:07.867689",
     "status": "completed"
    },
    "pycharm": {
     "name": "#%%\n"
    },
    "tags": []
   },
   "outputs": [
    {
     "data": {
      "text/html": [
       "<div>\n",
       "<style scoped>\n",
       "    .dataframe tbody tr th:only-of-type {\n",
       "        vertical-align: middle;\n",
       "    }\n",
       "\n",
       "    .dataframe tbody tr th {\n",
       "        vertical-align: top;\n",
       "    }\n",
       "\n",
       "    .dataframe thead th {\n",
       "        text-align: right;\n",
       "    }\n",
       "</style>\n",
       "<table border=\"1\" class=\"dataframe\">\n",
       "  <thead>\n",
       "    <tr style=\"text-align: right;\">\n",
       "      <th>Generation to Upload Period in Days</th>\n",
       "      <th>0</th>\n",
       "      <th>1</th>\n",
       "      <th>2</th>\n",
       "      <th>3</th>\n",
       "      <th>4</th>\n",
       "      <th>5</th>\n",
       "      <th>6</th>\n",
       "      <th>7</th>\n",
       "      <th>8</th>\n",
       "      <th>9</th>\n",
       "      <th>10</th>\n",
       "      <th>11</th>\n",
       "      <th>12</th>\n",
       "      <th>13</th>\n",
       "    </tr>\n",
       "    <tr>\n",
       "      <th>Upload Date (UTC)</th>\n",
       "      <th></th>\n",
       "      <th></th>\n",
       "      <th></th>\n",
       "      <th></th>\n",
       "      <th></th>\n",
       "      <th></th>\n",
       "      <th></th>\n",
       "      <th></th>\n",
       "      <th></th>\n",
       "      <th></th>\n",
       "      <th></th>\n",
       "      <th></th>\n",
       "      <th></th>\n",
       "      <th></th>\n",
       "    </tr>\n",
       "  </thead>\n",
       "  <tbody>\n",
       "    <tr>\n",
       "      <th>2020-12-05</th>\n",
       "      <td>167</td>\n",
       "      <td>2183</td>\n",
       "      <td>5053</td>\n",
       "      <td>7593</td>\n",
       "      <td>10092</td>\n",
       "      <td>9910</td>\n",
       "      <td>9487</td>\n",
       "      <td>9267</td>\n",
       "      <td>9190</td>\n",
       "      <td>8930</td>\n",
       "      <td>8743</td>\n",
       "      <td>8672</td>\n",
       "      <td>8546</td>\n",
       "      <td>8386</td>\n",
       "    </tr>\n",
       "    <tr>\n",
       "      <th>2020-12-04</th>\n",
       "      <td>158</td>\n",
       "      <td>188</td>\n",
       "      <td>120</td>\n",
       "      <td>103</td>\n",
       "      <td>77</td>\n",
       "      <td>55</td>\n",
       "      <td>28</td>\n",
       "      <td>18</td>\n",
       "      <td>11</td>\n",
       "      <td>10</td>\n",
       "      <td>10</td>\n",
       "      <td>8</td>\n",
       "      <td>5</td>\n",
       "      <td>3</td>\n",
       "    </tr>\n",
       "    <tr>\n",
       "      <th>2020-12-03</th>\n",
       "      <td>161</td>\n",
       "      <td>189</td>\n",
       "      <td>129</td>\n",
       "      <td>116</td>\n",
       "      <td>91</td>\n",
       "      <td>57</td>\n",
       "      <td>36</td>\n",
       "      <td>27</td>\n",
       "      <td>12</td>\n",
       "      <td>5</td>\n",
       "      <td>3</td>\n",
       "      <td>1</td>\n",
       "      <td>1</td>\n",
       "      <td>0</td>\n",
       "    </tr>\n",
       "    <tr>\n",
       "      <th>2020-12-02</th>\n",
       "      <td>197</td>\n",
       "      <td>214</td>\n",
       "      <td>615</td>\n",
       "      <td>540</td>\n",
       "      <td>499</td>\n",
       "      <td>454</td>\n",
       "      <td>421</td>\n",
       "      <td>390</td>\n",
       "      <td>369</td>\n",
       "      <td>354</td>\n",
       "      <td>339</td>\n",
       "      <td>332</td>\n",
       "      <td>325</td>\n",
       "      <td>322</td>\n",
       "    </tr>\n",
       "    <tr>\n",
       "      <th>2020-12-01</th>\n",
       "      <td>189</td>\n",
       "      <td>1927</td>\n",
       "      <td>2238</td>\n",
       "      <td>2172</td>\n",
       "      <td>2093</td>\n",
       "      <td>1974</td>\n",
       "      <td>1911</td>\n",
       "      <td>1846</td>\n",
       "      <td>1770</td>\n",
       "      <td>1754</td>\n",
       "      <td>1737</td>\n",
       "      <td>1712</td>\n",
       "      <td>1690</td>\n",
       "      <td>1661</td>\n",
       "    </tr>\n",
       "    <tr>\n",
       "      <th>2020-11-30</th>\n",
       "      <td>126</td>\n",
       "      <td>1063</td>\n",
       "      <td>1430</td>\n",
       "      <td>1367</td>\n",
       "      <td>1274</td>\n",
       "      <td>1200</td>\n",
       "      <td>1155</td>\n",
       "      <td>1107</td>\n",
       "      <td>1100</td>\n",
       "      <td>1089</td>\n",
       "      <td>1056</td>\n",
       "      <td>1043</td>\n",
       "      <td>1028</td>\n",
       "      <td>993</td>\n",
       "    </tr>\n",
       "    <tr>\n",
       "      <th>2020-11-29</th>\n",
       "      <td>128</td>\n",
       "      <td>1042</td>\n",
       "      <td>1684</td>\n",
       "      <td>1546</td>\n",
       "      <td>1430</td>\n",
       "      <td>1404</td>\n",
       "      <td>1349</td>\n",
       "      <td>1320</td>\n",
       "      <td>1291</td>\n",
       "      <td>1262</td>\n",
       "      <td>1227</td>\n",
       "      <td>1217</td>\n",
       "      <td>1215</td>\n",
       "      <td>1190</td>\n",
       "    </tr>\n",
       "    <tr>\n",
       "      <th>2020-11-28</th>\n",
       "      <td>159</td>\n",
       "      <td>1784</td>\n",
       "      <td>2398</td>\n",
       "      <td>2183</td>\n",
       "      <td>2098</td>\n",
       "      <td>2006</td>\n",
       "      <td>1978</td>\n",
       "      <td>1883</td>\n",
       "      <td>1817</td>\n",
       "      <td>1810</td>\n",
       "      <td>1771</td>\n",
       "      <td>1736</td>\n",
       "      <td>1711</td>\n",
       "      <td>1694</td>\n",
       "    </tr>\n",
       "    <tr>\n",
       "      <th>2020-11-27</th>\n",
       "      <td>254</td>\n",
       "      <td>1982</td>\n",
       "      <td>2555</td>\n",
       "      <td>2355</td>\n",
       "      <td>2279</td>\n",
       "      <td>2169</td>\n",
       "      <td>2144</td>\n",
       "      <td>2101</td>\n",
       "      <td>2008</td>\n",
       "      <td>2004</td>\n",
       "      <td>1966</td>\n",
       "      <td>1955</td>\n",
       "      <td>1871</td>\n",
       "      <td>1879</td>\n",
       "    </tr>\n",
       "    <tr>\n",
       "      <th>2020-11-26</th>\n",
       "      <td>216</td>\n",
       "      <td>2158</td>\n",
       "      <td>3037</td>\n",
       "      <td>2811</td>\n",
       "      <td>2643</td>\n",
       "      <td>2534</td>\n",
       "      <td>2479</td>\n",
       "      <td>2416</td>\n",
       "      <td>2358</td>\n",
       "      <td>2350</td>\n",
       "      <td>2301</td>\n",
       "      <td>2214</td>\n",
       "      <td>2178</td>\n",
       "      <td>2219</td>\n",
       "    </tr>\n",
       "    <tr>\n",
       "      <th>2020-11-25</th>\n",
       "      <td>227</td>\n",
       "      <td>1847</td>\n",
       "      <td>2822</td>\n",
       "      <td>2722</td>\n",
       "      <td>2613</td>\n",
       "      <td>2523</td>\n",
       "      <td>2448</td>\n",
       "      <td>2336</td>\n",
       "      <td>2289</td>\n",
       "      <td>2242</td>\n",
       "      <td>2185</td>\n",
       "      <td>2160</td>\n",
       "      <td>2171</td>\n",
       "      <td>2108</td>\n",
       "    </tr>\n",
       "    <tr>\n",
       "      <th>2020-11-24</th>\n",
       "      <td>164</td>\n",
       "      <td>1237</td>\n",
       "      <td>1667</td>\n",
       "      <td>1624</td>\n",
       "      <td>1537</td>\n",
       "      <td>1472</td>\n",
       "      <td>1391</td>\n",
       "      <td>1348</td>\n",
       "      <td>1308</td>\n",
       "      <td>1265</td>\n",
       "      <td>1235</td>\n",
       "      <td>1210</td>\n",
       "      <td>1184</td>\n",
       "      <td>1158</td>\n",
       "    </tr>\n",
       "    <tr>\n",
       "      <th>2020-11-23</th>\n",
       "      <td>147</td>\n",
       "      <td>892</td>\n",
       "      <td>1332</td>\n",
       "      <td>1264</td>\n",
       "      <td>1167</td>\n",
       "      <td>1080</td>\n",
       "      <td>1011</td>\n",
       "      <td>964</td>\n",
       "      <td>915</td>\n",
       "      <td>897</td>\n",
       "      <td>880</td>\n",
       "      <td>854</td>\n",
       "      <td>835</td>\n",
       "      <td>823</td>\n",
       "    </tr>\n",
       "    <tr>\n",
       "      <th>2020-11-22</th>\n",
       "      <td>132</td>\n",
       "      <td>897</td>\n",
       "      <td>1524</td>\n",
       "      <td>1359</td>\n",
       "      <td>1256</td>\n",
       "      <td>1189</td>\n",
       "      <td>1133</td>\n",
       "      <td>1091</td>\n",
       "      <td>1055</td>\n",
       "      <td>1038</td>\n",
       "      <td>1008</td>\n",
       "      <td>982</td>\n",
       "      <td>962</td>\n",
       "      <td>942</td>\n",
       "    </tr>\n",
       "  </tbody>\n",
       "</table>\n",
       "</div>"
      ],
      "text/plain": [
       "Generation to Upload Period in Days   0     1     2     3      4     5     6   \\\n",
       "Upload Date (UTC)                                                               \n",
       "2020-12-05                           167  2183  5053  7593  10092  9910  9487   \n",
       "2020-12-04                           158   188   120   103     77    55    28   \n",
       "2020-12-03                           161   189   129   116     91    57    36   \n",
       "2020-12-02                           197   214   615   540    499   454   421   \n",
       "2020-12-01                           189  1927  2238  2172   2093  1974  1911   \n",
       "2020-11-30                           126  1063  1430  1367   1274  1200  1155   \n",
       "2020-11-29                           128  1042  1684  1546   1430  1404  1349   \n",
       "2020-11-28                           159  1784  2398  2183   2098  2006  1978   \n",
       "2020-11-27                           254  1982  2555  2355   2279  2169  2144   \n",
       "2020-11-26                           216  2158  3037  2811   2643  2534  2479   \n",
       "2020-11-25                           227  1847  2822  2722   2613  2523  2448   \n",
       "2020-11-24                           164  1237  1667  1624   1537  1472  1391   \n",
       "2020-11-23                           147   892  1332  1264   1167  1080  1011   \n",
       "2020-11-22                           132   897  1524  1359   1256  1189  1133   \n",
       "\n",
       "Generation to Upload Period in Days    7     8     9     10    11    12    13  \n",
       "Upload Date (UTC)                                                              \n",
       "2020-12-05                           9267  9190  8930  8743  8672  8546  8386  \n",
       "2020-12-04                             18    11    10    10     8     5     3  \n",
       "2020-12-03                             27    12     5     3     1     1     0  \n",
       "2020-12-02                            390   369   354   339   332   325   322  \n",
       "2020-12-01                           1846  1770  1754  1737  1712  1690  1661  \n",
       "2020-11-30                           1107  1100  1089  1056  1043  1028   993  \n",
       "2020-11-29                           1320  1291  1262  1227  1217  1215  1190  \n",
       "2020-11-28                           1883  1817  1810  1771  1736  1711  1694  \n",
       "2020-11-27                           2101  2008  2004  1966  1955  1871  1879  \n",
       "2020-11-26                           2416  2358  2350  2301  2214  2178  2219  \n",
       "2020-11-25                           2336  2289  2242  2185  2160  2171  2108  \n",
       "2020-11-24                           1348  1308  1265  1235  1210  1184  1158  \n",
       "2020-11-23                            964   915   897   880   854   835   823  \n",
       "2020-11-22                           1091  1055  1038  1008   982   962   942  "
      ]
     },
     "execution_count": 54,
     "metadata": {},
     "output_type": "execute_result"
    }
   ],
   "source": [
    "display_generation_to_upload_period_pivot_df = \\\n",
    "    generation_to_upload_period_pivot_df \\\n",
    "        .head(backend_generation_days)\n",
    "display_generation_to_upload_period_pivot_df \\\n",
    "    .head(backend_generation_days) \\\n",
    "    .rename_axis(columns=display_column_name_mapping) \\\n",
    "    .rename_axis(index=display_column_name_mapping)"
   ]
  },
  {
   "cell_type": "code",
   "execution_count": 55,
   "metadata": {
    "collapsed": false,
    "execution": {
     "iopub.execute_input": "2020-12-05T23:36:08.056056Z",
     "iopub.status.busy": "2020-12-05T23:36:08.054648Z",
     "iopub.status.idle": "2020-12-05T23:36:09.026516Z",
     "shell.execute_reply": "2020-12-05T23:36:09.027227Z"
    },
    "papermill": {
     "duration": 1.042096,
     "end_time": "2020-12-05T23:36:09.027385",
     "exception": false,
     "start_time": "2020-12-05T23:36:07.985289",
     "status": "completed"
    },
    "pycharm": {
     "name": "#%%\n"
    },
    "tags": []
   },
   "outputs": [
    {
     "data": {
      "image/png": "[encoded data removed]",
      "text/plain": [
       "<Figure size 864x676.8 with 2 Axes>"
      ]
     },
     "metadata": {},
     "output_type": "display_data"
    }
   ],
   "source": [
    "fig, generation_to_upload_period_pivot_table_ax = plt.subplots(\n",
    "    figsize=(12, 1 + 0.6 * len(display_generation_to_upload_period_pivot_df)))\n",
    "generation_to_upload_period_pivot_table_ax.set_title(\n",
    "    \"Shared TEKs Generation to Upload Period Table\")\n",
    "sns.heatmap(\n",
    "    data=display_generation_to_upload_period_pivot_df\n",
    "        .rename_axis(columns=display_column_name_mapping)\n",
    "        .rename_axis(index=display_column_name_mapping),\n",
    "    fmt=\".0f\",\n",
    "    annot=True,\n",
    "    ax=generation_to_upload_period_pivot_table_ax)\n",
    "generation_to_upload_period_pivot_table_ax.get_figure().tight_layout()"
   ]
  },
  {
   "cell_type": "markdown",
   "metadata": {
    "collapsed": false,
    "papermill": {
     "duration": 0.056375,
     "end_time": "2020-12-05T23:36:09.145538",
     "exception": false,
     "start_time": "2020-12-05T23:36:09.089163",
     "status": "completed"
    },
    "tags": []
   },
   "source": [
    "### Hourly Summary Plots "
   ]
  },
  {
   "cell_type": "code",
   "execution_count": 56,
   "metadata": {
    "collapsed": false,
    "execution": {
     "iopub.execute_input": "2020-12-05T23:36:09.264785Z",
     "iopub.status.busy": "2020-12-05T23:36:09.263848Z",
     "iopub.status.idle": "2020-12-05T23:36:09.585233Z",
     "shell.execute_reply": "2020-12-05T23:36:09.585584Z"
    },
    "papermill": {
     "duration": 0.384235,
     "end_time": "2020-12-05T23:36:09.585723",
     "exception": false,
     "start_time": "2020-12-05T23:36:09.201488",
     "status": "completed"
    },
    "pycharm": {
     "name": "#%%\n"
    },
    "tags": []
   },
   "outputs": [
    {
     "data": {
      "image/png": "[encoded data removed]",
      "text/plain": [
       "<Figure size 1080x432 with 1 Axes>"
      ]
     },
     "metadata": {},
     "output_type": "display_data"
    }
   ],
   "source": [
    "hourly_summary_ax_list = hourly_summary_df \\\n",
    "    .rename_axis(index=display_column_name_mapping) \\\n",
    "    .rename(columns=display_column_name_mapping) \\\n",
    "    .plot.bar(\n",
    "        title=f\"Last 24h Summary\",\n",
    "        rot=45, subplots=True, legend=False)\n",
    "ax_ = hourly_summary_ax_list[-1]\n",
    "ax_.get_figure().tight_layout()\n",
    "ax_.get_figure().subplots_adjust(top=0.9)\n",
    "_ = ax_.set_xticklabels(sorted(hourly_summary_df.index.strftime(\"%Y-%m-%d@%H\").tolist()))"
   ]
  },
  {
   "cell_type": "markdown",
   "metadata": {
    "collapsed": false,
    "papermill": {
     "duration": 0.056121,
     "end_time": "2020-12-05T23:36:09.704218",
     "exception": false,
     "start_time": "2020-12-05T23:36:09.648097",
     "status": "completed"
    },
    "tags": []
   },
   "source": [
    "### Publish Results"
   ]
  },
  {
   "cell_type": "code",
   "execution_count": 57,
   "metadata": {
    "collapsed": false,
    "execution": {
     "iopub.execute_input": "2020-12-05T23:36:09.826527Z",
     "iopub.status.busy": "2020-12-05T23:36:09.825542Z",
     "iopub.status.idle": "2020-12-05T23:36:09.827022Z",
     "shell.execute_reply": "2020-12-05T23:36:09.827325Z"
    },
    "papermill": {
     "duration": 0.070703,
     "end_time": "2020-12-05T23:36:09.827433",
     "exception": false,
     "start_time": "2020-12-05T23:36:09.756730",
     "status": "completed"
    },
    "pycharm": {
     "name": "#%%\n"
    },
    "tags": []
   },
   "outputs": [],
   "source": [
    "def get_temporary_image_path() -> str:\n",
    "    return os.path.join(tempfile.gettempdir(), str(uuid.uuid4()) + \".png\")\n",
    "\n",
    "def save_temporary_plot_image(ax):\n",
    "    if isinstance(ax, np.ndarray):\n",
    "        ax = ax[0]\n",
    "    media_path = get_temporary_image_path()\n",
    "    ax.get_figure().savefig(media_path)\n",
    "    return media_path\n",
    "\n",
    "def save_temporary_dataframe_image(df):\n",
    "    import dataframe_image as dfi\n",
    "    media_path = get_temporary_image_path()\n",
    "    dfi.export(df, media_path)\n",
    "    return media_path"
   ]
  },
  {
   "cell_type": "code",
   "execution_count": 58,
   "metadata": {
    "collapsed": false,
    "execution": {
     "iopub.execute_input": "2020-12-05T23:36:09.935651Z",
     "iopub.status.busy": "2020-12-05T23:36:09.935097Z",
     "iopub.status.idle": "2020-12-05T23:36:10.028085Z",
     "shell.execute_reply": "2020-12-05T23:36:10.028641Z"
    },
    "papermill": {
     "duration": 0.149907,
     "end_time": "2020-12-05T23:36:10.028830",
     "exception": false,
     "start_time": "2020-12-05T23:36:09.878923",
     "status": "completed"
    },
    "pycharm": {
     "name": "#%%\n"
    },
    "tags": []
   },
   "outputs": [
    {
     "name": "stderr",
     "output_type": "stream",
     "text": [
      "<ipython-input-58-bd16b454de40>:49: FutureWarning: `item` has been deprecated and will be removed in a future version\n",
      "  extraction_date_result_summary_df.covid_cases.item()\n",
      "<ipython-input-58-bd16b454de40>:51: FutureWarning: `item` has been deprecated and will be removed in a future version\n",
      "  extraction_date_result_summary_df.shared_teks_by_generation_date.item()\n",
      "<ipython-input-58-bd16b454de40>:53: FutureWarning: `item` has been deprecated and will be removed in a future version\n",
      "  extraction_date_result_summary_df.shared_teks_by_upload_date.item()\n",
      "<ipython-input-58-bd16b454de40>:55: FutureWarning: `item` has been deprecated and will be removed in a future version\n",
      "  extraction_date_result_summary_df.shared_diagnoses.item()\n",
      "<ipython-input-58-bd16b454de40>:57: FutureWarning: `item` has been deprecated and will be removed in a future version\n",
      "  extraction_date_result_summary_df.teks_per_shared_diagnosis.item()\n",
      "<ipython-input-58-bd16b454de40>:59: FutureWarning: `item` has been deprecated and will be removed in a future version\n",
      "  extraction_date_result_summary_df.shared_diagnoses_per_covid_case.item()\n"
     ]
    }
   ],
   "source": [
    "github_repository = os.environ.get(\"GITHUB_REPOSITORY\")\n",
    "if github_repository is None:\n",
    "    github_repository = \"pvieito/Radar-STATS\"\n",
    "\n",
    "github_project_base_url = \"https://github.com/\" + github_repository\n",
    "\n",
    "display_formatters = {\n",
    "    display_column_name_mapping[\"teks_per_shared_diagnosis\"]: lambda x: f\"{x:.2f}\",\n",
    "    display_column_name_mapping[\"shared_diagnoses_per_covid_case\"]: lambda x: f\"{x:.2%}\",\n",
    "}\n",
    "daily_summary_table_html = result_summary_with_display_names_df \\\n",
    "    .head(daily_plot_days) \\\n",
    "    .rename_axis(index=display_column_name_mapping) \\\n",
    "    .rename(columns=display_column_name_mapping) \\\n",
    "    .to_html(formatters=display_formatters)\n",
    "multi_backend_summary_table_html = multi_backend_summary_df \\\n",
    "    .head(daily_plot_days) \\\n",
    "    .rename_axis(columns=display_column_name_mapping) \\\n",
    "    .rename(columns=display_column_name_mapping) \\\n",
    "    .rename_axis(index=display_column_name_mapping) \\\n",
    "    .to_html(formatters=display_formatters)\n",
    "\n",
    "def format_multi_backend_cross_sharing_fraction(x):\n",
    "    if pd.isna(x):\n",
    "        return \"-\"\n",
    "    elif round(x * 100, 1) == 0:\n",
    "        return \"\"\n",
    "    else:\n",
    "        return f\"{x:.1%}\"\n",
    "\n",
    "multi_backend_cross_sharing_summary_table_html = multi_backend_cross_sharing_summary_df \\\n",
    "    .rename_axis(columns=display_column_name_mapping) \\\n",
    "    .rename(columns=display_column_name_mapping) \\\n",
    "    .rename_axis(index=display_column_name_mapping) \\\n",
    "    .to_html(\n",
    "        classes=\"table-center\",\n",
    "        formatters=display_formatters,\n",
    "        float_format=format_multi_backend_cross_sharing_fraction)\n",
    "multi_backend_cross_sharing_summary_table_html = \\\n",
    "    multi_backend_cross_sharing_summary_table_html \\\n",
    "        .replace(\"<tr>\",\"<tr style=\\\"text-align: center;\\\">\")\n",
    "\n",
    "extraction_date_result_summary_df = \\\n",
    "    result_summary_df[result_summary_df.index.get_level_values(\"sample_date\") == extraction_date]\n",
    "extraction_date_result_hourly_summary_df = \\\n",
    "    hourly_summary_df[hourly_summary_df.extraction_date_with_hour == extraction_date_with_hour]\n",
    "\n",
    "covid_cases = \\\n",
    "    extraction_date_result_summary_df.covid_cases.item()\n",
    "shared_teks_by_generation_date = \\\n",
    "    extraction_date_result_summary_df.shared_teks_by_generation_date.item()\n",
    "shared_teks_by_upload_date = \\\n",
    "    extraction_date_result_summary_df.shared_teks_by_upload_date.item()\n",
    "shared_diagnoses = \\\n",
    "    extraction_date_result_summary_df.shared_diagnoses.item()\n",
    "teks_per_shared_diagnosis = \\\n",
    "    extraction_date_result_summary_df.teks_per_shared_diagnosis.item()\n",
    "shared_diagnoses_per_covid_case = \\\n",
    "    extraction_date_result_summary_df.shared_diagnoses_per_covid_case.item()\n",
    "\n",
    "shared_teks_by_upload_date_last_hour = \\\n",
    "    extraction_date_result_hourly_summary_df.shared_teks_by_upload_date.sum().astype(int)\n",
    "\n",
    "display_source_regions = \", \".join(report_source_regions)\n",
    "if len(report_source_regions) == 1:\n",
    "    display_brief_source_regions = report_source_regions[0]\n",
    "else:\n",
    "    display_brief_source_regions = f\"{len(report_source_regions)} 🇪🇺\""
   ]
  },
  {
   "cell_type": "code",
   "execution_count": 59,
   "metadata": {
    "execution": {
     "iopub.execute_input": "2020-12-05T23:36:10.159695Z",
     "iopub.status.busy": "2020-12-05T23:36:10.151970Z",
     "iopub.status.idle": "2020-12-05T23:36:18.098847Z",
     "shell.execute_reply": "2020-12-05T23:36:18.099221Z"
    },
    "papermill": {
     "duration": 8.014696,
     "end_time": "2020-12-05T23:36:18.099350",
     "exception": false,
     "start_time": "2020-12-05T23:36:10.084654",
     "status": "completed"
    },
    "pycharm": {
     "name": "#%%\n"
    },
    "tags": []
   },
   "outputs": [],
   "source": [
    "summary_plots_image_path = save_temporary_plot_image(\n",
    "    ax=summary_ax_list)\n",
    "summary_table_image_path = save_temporary_dataframe_image(\n",
    "    df=result_summary_with_display_names_df)\n",
    "hourly_summary_plots_image_path = save_temporary_plot_image(\n",
    "    ax=hourly_summary_ax_list)\n",
    "multi_backend_summary_table_image_path = save_temporary_dataframe_image(\n",
    "    df=multi_backend_summary_df)\n",
    "generation_to_upload_period_pivot_table_image_path = save_temporary_plot_image(\n",
    "    ax=generation_to_upload_period_pivot_table_ax)"
   ]
  },
  {
   "cell_type": "markdown",
   "metadata": {
    "execution": {
     "iopub.execute_input": "2020-09-02T08:20:16.981187Z",
     "iopub.status.busy": "2020-09-02T08:20:16.980584Z",
     "iopub.status.idle": "2020-09-02T08:20:20.068070Z",
     "shell.execute_reply": "2020-09-02T08:20:20.068598Z"
    },
    "papermill": {
     "duration": 0.059635,
     "end_time": "2020-12-05T23:36:18.213874",
     "exception": false,
     "start_time": "2020-12-05T23:36:18.154239",
     "status": "completed"
    },
    "pycharm": {
     "name": "#%% md\n"
    },
    "tags": []
   },
   "source": [
    "### Save Results"
   ]
  },
  {
   "cell_type": "code",
   "execution_count": 60,
   "metadata": {
    "collapsed": false,
    "execution": {
     "iopub.execute_input": "2020-12-05T23:36:18.339384Z",
     "iopub.status.busy": "2020-12-05T23:36:18.338767Z",
     "iopub.status.idle": "2020-12-05T23:36:18.380316Z",
     "shell.execute_reply": "2020-12-05T23:36:18.381026Z"
    },
    "papermill": {
     "duration": 0.108288,
     "end_time": "2020-12-05T23:36:18.381268",
     "exception": false,
     "start_time": "2020-12-05T23:36:18.272980",
     "status": "completed"
    },
    "pycharm": {
     "name": "#%%\n"
    },
    "tags": []
   },
   "outputs": [],
   "source": [
    "report_resources_path_prefix = \"Data/Resources/Current/RadarCOVID-Report-\"\n",
    "result_summary_df.to_csv(\n",
    "    report_resources_path_prefix + \"Summary-Table.csv\")\n",
    "result_summary_df.to_html(\n",
    "    report_resources_path_prefix + \"Summary-Table.html\")\n",
    "hourly_summary_df.to_csv(\n",
    "    report_resources_path_prefix + \"Hourly-Summary-Table.csv\")\n",
    "multi_backend_summary_df.to_csv(\n",
    "    report_resources_path_prefix + \"Multi-Backend-Summary-Table.csv\")\n",
    "multi_backend_cross_sharing_summary_df.to_csv(\n",
    "    report_resources_path_prefix + \"Multi-Backend-Cross-Sharing-Summary-Table.csv\")\n",
    "generation_to_upload_period_pivot_df.to_csv(\n",
    "    report_resources_path_prefix + \"Generation-Upload-Period-Table.csv\")\n",
    "_ = shutil.copyfile(\n",
    "    summary_plots_image_path,\n",
    "    report_resources_path_prefix + \"Summary-Plots.png\")\n",
    "_ = shutil.copyfile(\n",
    "    summary_table_image_path,\n",
    "    report_resources_path_prefix + \"Summary-Table.png\")\n",
    "_ = shutil.copyfile(\n",
    "    hourly_summary_plots_image_path,\n",
    "    report_resources_path_prefix + \"Hourly-Summary-Plots.png\")\n",
    "_ = shutil.copyfile(\n",
    "    multi_backend_summary_table_image_path,\n",
    "    report_resources_path_prefix + \"Multi-Backend-Summary-Table.png\")\n",
    "_ = shutil.copyfile(\n",
    "    generation_to_upload_period_pivot_table_image_path,\n",
    "    report_resources_path_prefix + \"Generation-Upload-Period-Table.png\")"
   ]
  },
  {
   "cell_type": "markdown",
   "metadata": {
    "collapsed": false,
    "papermill": {
     "duration": 0.053645,
     "end_time": "2020-12-05T23:36:18.490756",
     "exception": false,
     "start_time": "2020-12-05T23:36:18.437111",
     "status": "completed"
    },
    "pycharm": {
     "name": "#%% md\n"
    },
    "tags": []
   },
   "source": [
    "### Publish Results as JSON"
   ]
  },
  {
   "cell_type": "code",
   "execution_count": 61,
   "metadata": {
    "execution": {
     "iopub.execute_input": "2020-12-05T23:36:18.621659Z",
     "iopub.status.busy": "2020-12-05T23:36:18.621148Z",
     "iopub.status.idle": "2020-12-05T23:36:18.631422Z",
     "shell.execute_reply": "2020-12-05T23:36:18.631727Z"
    },
    "papermill": {
     "duration": 0.087263,
     "end_time": "2020-12-05T23:36:18.631827",
     "exception": false,
     "start_time": "2020-12-05T23:36:18.544564",
     "status": "completed"
    },
    "pycharm": {
     "name": "#%%\n"
    },
    "tags": []
   },
   "outputs": [],
   "source": [
    "def generate_summary_api_results(df: pd.DataFrame) -> list:\n",
    "    api_df = df.reset_index().copy()\n",
    "    api_df[\"sample_date_string\"] = \\\n",
    "        api_df[\"sample_date\"].dt.strftime(\"%Y-%m-%d\")\n",
    "    api_df[\"source_regions\"] = \\\n",
    "        api_df[\"source_regions\"].apply(lambda x: x.split(\",\"))\n",
    "    return api_df.to_dict(orient=\"records\")\n",
    "\n",
    "summary_api_results = \\\n",
    "    generate_summary_api_results(df=result_summary_df)\n",
    "today_summary_api_results = \\\n",
    "    generate_summary_api_results(df=extraction_date_result_summary_df)[0]\n",
    "\n",
    "summary_results = dict(\n",
    "    backend_identifier=report_backend_identifier,\n",
    "    source_regions=report_source_regions,\n",
    "    extraction_datetime=extraction_datetime,\n",
    "    extraction_date=extraction_date,\n",
    "    extraction_date_with_hour=extraction_date_with_hour,\n",
    "    last_hour=dict(\n",
    "        shared_teks_by_upload_date=shared_teks_by_upload_date_last_hour,\n",
    "        shared_diagnoses=0,\n",
    "    ),\n",
    "    today=today_summary_api_results,\n",
    "    last_7_days=last_7_days_summary,\n",
    "    daily_results=summary_api_results)\n",
    "\n",
    "summary_results = \\\n",
    "    json.loads(pd.Series([summary_results]).to_json(orient=\"records\"))[0]\n",
    "\n",
    "with open(report_resources_path_prefix + \"Summary-Results.json\", \"w\") as f:\n",
    "    json.dump(summary_results, f, indent=4)"
   ]
  },
  {
   "cell_type": "markdown",
   "metadata": {
    "execution": {
     "iopub.execute_input": "2020-09-02T08:20:20.895901Z",
     "iopub.status.busy": "2020-09-02T08:20:20.895301Z",
     "iopub.status.idle": "2020-09-02T08:20:20.942286Z",
     "shell.execute_reply": "2020-09-02T08:20:20.942834Z"
    },
    "papermill": {
     "duration": 0.054111,
     "end_time": "2020-12-05T23:36:18.739105",
     "exception": false,
     "start_time": "2020-12-05T23:36:18.684994",
     "status": "completed"
    },
    "pycharm": {
     "name": "#%% md\n"
    },
    "tags": []
   },
   "source": [
    "### Publish on README"
   ]
  },
  {
   "cell_type": "code",
   "execution_count": 62,
   "metadata": {
    "collapsed": false,
    "execution": {
     "iopub.execute_input": "2020-12-05T23:36:18.852480Z",
     "iopub.status.busy": "2020-12-05T23:36:18.852026Z",
     "iopub.status.idle": "2020-12-05T23:36:18.857346Z",
     "shell.execute_reply": "2020-12-05T23:36:18.856501Z"
    },
    "papermill": {
     "duration": 0.063241,
     "end_time": "2020-12-05T23:36:18.857441",
     "exception": false,
     "start_time": "2020-12-05T23:36:18.794200",
     "status": "completed"
    },
    "pycharm": {
     "name": "#%%\n"
    },
    "tags": []
   },
   "outputs": [],
   "source": [
    "with open(\"Data/Templates/README.md\", \"r\") as f:\n",
    "    readme_contents = f.read()\n",
    "\n",
    "readme_contents = readme_contents.format(\n",
    "    extraction_date_with_hour=extraction_date_with_hour,\n",
    "    github_project_base_url=github_project_base_url,\n",
    "    daily_summary_table_html=daily_summary_table_html,\n",
    "    multi_backend_summary_table_html=multi_backend_summary_table_html,\n",
    "    multi_backend_cross_sharing_summary_table_html=multi_backend_cross_sharing_summary_table_html,\n",
    "    display_source_regions=display_source_regions)\n",
    "\n",
    "with open(\"README.md\", \"w\") as f:\n",
    "    f.write(readme_contents)"
   ]
  },
  {
   "cell_type": "markdown",
   "metadata": {
    "collapsed": false,
    "papermill": {
     "duration": 0.059928,
     "end_time": "2020-12-05T23:36:18.969835",
     "exception": false,
     "start_time": "2020-12-05T23:36:18.909907",
     "status": "completed"
    },
    "pycharm": {
     "name": "#%% md\n"
    },
    "tags": []
   },
   "source": [
    "### Publish on Twitter"
   ]
  },
  {
   "cell_type": "code",
   "execution_count": 63,
   "metadata": {
    "collapsed": false,
    "execution": {
     "iopub.execute_input": "2020-12-05T23:36:19.084380Z",
     "iopub.status.busy": "2020-12-05T23:36:19.083919Z",
     "iopub.status.idle": "2020-12-05T23:36:28.869311Z",
     "shell.execute_reply": "2020-12-05T23:36:28.868573Z"
    },
    "papermill": {
     "duration": 9.846803,
     "end_time": "2020-12-05T23:36:28.869512",
     "exception": false,
     "start_time": "2020-12-05T23:36:19.022709",
     "status": "completed"
    },
    "pycharm": {
     "name": "#%%\n"
    },
    "tags": []
   },
   "outputs": [],
   "source": [
    "enable_share_to_twitter = os.environ.get(\"RADARCOVID_REPORT__ENABLE_PUBLISH_ON_TWITTER\")\n",
    "github_event_name = os.environ.get(\"GITHUB_EVENT_NAME\")\n",
    "\n",
    "if enable_share_to_twitter and github_event_name == \"schedule\" and \\\n",
    "        (shared_teks_by_upload_date_last_hour or not are_today_results_partial):\n",
    "    import tweepy\n",
    "\n",
    "    twitter_api_auth_keys = os.environ[\"RADARCOVID_REPORT__TWITTER_API_AUTH_KEYS\"]\n",
    "    twitter_api_auth_keys = twitter_api_auth_keys.split(\":\")\n",
    "    auth = tweepy.OAuthHandler(twitter_api_auth_keys[0], twitter_api_auth_keys[1])\n",
    "    auth.set_access_token(twitter_api_auth_keys[2], twitter_api_auth_keys[3])\n",
    "\n",
    "    api = tweepy.API(auth)\n",
    "\n",
    "    summary_plots_media = api.media_upload(summary_plots_image_path)\n",
    "    summary_table_media = api.media_upload(summary_table_image_path)\n",
    "    generation_to_upload_period_pivot_table_image_media = api.media_upload(generation_to_upload_period_pivot_table_image_path)\n",
    "    media_ids = [\n",
    "        summary_plots_media.media_id,\n",
    "        summary_table_media.media_id,\n",
    "        generation_to_upload_period_pivot_table_image_media.media_id,\n",
    "    ]\n",
    "\n",
    "    if are_today_results_partial:\n",
    "        today_addendum = \" (Partial)\"\n",
    "    else:\n",
    "        today_addendum = \"\"\n",
    "\n",
    "    status = textwrap.dedent(f\"\"\"\n",
    "        #RadarCOVID – {extraction_date_with_hour}\n",
    "\n",
    "        Source Countries: {display_brief_source_regions}\n",
    "\n",
    "        Today{today_addendum}:\n",
    "        - Uploaded TEKs: {shared_teks_by_upload_date:.0f} ({shared_teks_by_upload_date_last_hour:+d} last hour)\n",
    "        - Shared Diagnoses: ≤{shared_diagnoses:.0f}\n",
    "        - Usage Ratio: ≤{shared_diagnoses_per_covid_case:.2%}\n",
    "\n",
    "        Last 7 Days:\n",
    "        - Shared Diagnoses: ≤{last_7_days_summary[\"shared_diagnoses\"]:.0f}\n",
    "        - Usage Ratio: ≤{last_7_days_summary[\"shared_diagnoses_per_covid_case\"]:.2%}\n",
    "\n",
    "        Info: {github_project_base_url}#documentation\n",
    "        \"\"\")\n",
    "    status = status.encode(encoding=\"utf-8\")\n",
    "    api.update_status(status=status, media_ids=media_ids)"
   ]
  }
 ],
 "metadata": {
  "kernelspec": {
   "display_name": "Python 3",
   "language": "python",
   "name": "python3"
  },
  "language_info": {
   "codemirror_mode": {
    "name": "ipython",
    "version": 3
   },
   "file_extension": ".py",
   "mimetype": "text/x-python",
   "name": "python",
   "nbconvert_exporter": "python",
   "pygments_lexer": "ipython3",
   "version": "3.8.6"
  },
  "papermill": {
   "duration": 648.106426,
   "end_time": "2020-12-05T23:36:34.144376",
   "environment_variables": {},
   "exception": null,
   "input_path": "Notebooks/RadarCOVID-Report/Source/RadarCOVID-Report.ipynb",
   "output_path": "RadarCOVID-Report.ipynb",
   "parameters": {},
   "start_time": "2020-12-05T23:25:46.037950",
   "version": "2.1.3"
  }
 },
 "nbformat": 4,
 "nbformat_minor": 1
}