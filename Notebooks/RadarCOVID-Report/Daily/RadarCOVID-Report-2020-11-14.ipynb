{
 "cells": [
  {
   "cell_type": "markdown",
   "metadata": {
    "papermill": {
     "duration": 0.045957,
     "end_time": "2020-11-14T23:17:13.274547",
     "exception": false,
     "start_time": "2020-11-14T23:17:13.228590",
     "status": "completed"
    },
    "pycharm": {
     "name": "#%% md\n"
    },
    "tags": []
   },
   "source": [
    "# RadarCOVID-Report"
   ]
  },
  {
   "cell_type": "markdown",
   "metadata": {
    "collapsed": true,
    "papermill": {
     "duration": 0.046917,
     "end_time": "2020-11-14T23:17:13.367790",
     "exception": false,
     "start_time": "2020-11-14T23:17:13.320873",
     "status": "completed"
    },
    "pycharm": {
     "name": "#%% md\n"
    },
    "tags": []
   },
   "source": [
    "## Data Extraction"
   ]
  },
  {
   "cell_type": "code",
   "execution_count": 1,
   "metadata": {
    "execution": {
     "iopub.execute_input": "2020-11-14T23:17:13.490153Z",
     "iopub.status.busy": "2020-11-14T23:17:13.489479Z",
     "iopub.status.idle": "2020-11-14T23:17:15.230137Z",
     "shell.execute_reply": "2020-11-14T23:17:15.230778Z"
    },
    "papermill": {
     "duration": 1.803564,
     "end_time": "2020-11-14T23:17:15.231170",
     "exception": false,
     "start_time": "2020-11-14T23:17:13.427606",
     "status": "completed"
    },
    "pycharm": {
     "name": "#%%\n"
    },
    "tags": []
   },
   "outputs": [],
   "source": [
    "import datetime\n",
    "import json\n",
    "import logging\n",
    "import os\n",
    "import shutil\n",
    "import tempfile\n",
    "import textwrap\n",
    "import uuid\n",
    "\n",
    "import matplotlib.pyplot as plt\n",
    "import matplotlib.ticker\n",
    "import numpy as np\n",
    "import pandas as pd\n",
    "import retry\n",
    "import seaborn as sns\n",
    "\n",
    "%matplotlib inline"
   ]
  },
  {
   "cell_type": "code",
   "execution_count": 2,
   "metadata": {
    "collapsed": false,
    "execution": {
     "iopub.execute_input": "2020-11-14T23:17:15.340529Z",
     "iopub.status.busy": "2020-11-14T23:17:15.339813Z",
     "iopub.status.idle": "2020-11-14T23:17:15.341764Z",
     "shell.execute_reply": "2020-11-14T23:17:15.342422Z"
    },
    "papermill": {
     "duration": 0.058481,
     "end_time": "2020-11-14T23:17:15.342614",
     "exception": false,
     "start_time": "2020-11-14T23:17:15.284133",
     "status": "completed"
    },
    "pycharm": {
     "name": "#%%\n"
    },
    "tags": []
   },
   "outputs": [],
   "source": [
    "current_working_directory = os.environ.get(\"PWD\")\n",
    "if current_working_directory:\n",
    "    os.chdir(current_working_directory)\n",
    "\n",
    "sns.set()\n",
    "matplotlib.rcParams[\"figure.figsize\"] = (15, 6)\n",
    "\n",
    "extraction_datetime = datetime.datetime.utcnow()\n",
    "extraction_date = extraction_datetime.strftime(\"%Y-%m-%d\")\n",
    "extraction_previous_datetime = extraction_datetime - datetime.timedelta(days=1)\n",
    "extraction_previous_date = extraction_previous_datetime.strftime(\"%Y-%m-%d\")\n",
    "extraction_date_with_hour = datetime.datetime.utcnow().strftime(\"%Y-%m-%d@%H\")\n",
    "current_hour = datetime.datetime.utcnow().hour\n",
    "are_today_results_partial = current_hour != 23"
   ]
  },
  {
   "cell_type": "markdown",
   "metadata": {
    "collapsed": false,
    "papermill": {
     "duration": 0.049498,
     "end_time": "2020-11-14T23:17:15.439895",
     "exception": false,
     "start_time": "2020-11-14T23:17:15.390397",
     "status": "completed"
    },
    "tags": []
   },
   "source": [
    "### Constants"
   ]
  },
  {
   "cell_type": "code",
   "execution_count": 3,
   "metadata": {
    "execution": {
     "iopub.execute_input": "2020-11-14T23:17:15.542277Z",
     "iopub.status.busy": "2020-11-14T23:17:15.541562Z",
     "iopub.status.idle": "2020-11-14T23:17:15.712241Z",
     "shell.execute_reply": "2020-11-14T23:17:15.712986Z"
    },
    "papermill": {
     "duration": 0.226365,
     "end_time": "2020-11-14T23:17:15.713197",
     "exception": false,
     "start_time": "2020-11-14T23:17:15.486832",
     "status": "completed"
    },
    "pycharm": {
     "name": "#%%\n"
    },
    "tags": []
   },
   "outputs": [],
   "source": [
    "from Modules.ExposureNotification import exposure_notification_io\n",
    "\n",
    "spain_region_country_code = \"ES\"\n",
    "germany_region_country_code = \"DE\"\n",
    "\n",
    "default_backend_identifier = spain_region_country_code\n",
    "\n",
    "backend_generation_days = 7 * 2\n",
    "daily_summary_days = 7 * 4 * 3\n",
    "daily_plot_days = 7 * 4\n",
    "tek_dumps_load_limit = daily_summary_days + 1"
   ]
  },
  {
   "cell_type": "markdown",
   "metadata": {
    "collapsed": false,
    "papermill": {
     "duration": 0.049406,
     "end_time": "2020-11-14T23:17:15.813524",
     "exception": false,
     "start_time": "2020-11-14T23:17:15.764118",
     "status": "completed"
    },
    "tags": []
   },
   "source": [
    "### Parameters"
   ]
  },
  {
   "cell_type": "code",
   "execution_count": 4,
   "metadata": {
    "collapsed": false,
    "execution": {
     "iopub.execute_input": "2020-11-14T23:17:15.923338Z",
     "iopub.status.busy": "2020-11-14T23:17:15.922552Z",
     "iopub.status.idle": "2020-11-14T23:17:15.926230Z",
     "shell.execute_reply": "2020-11-14T23:17:15.926835Z"
    },
    "papermill": {
     "duration": 0.057181,
     "end_time": "2020-11-14T23:17:15.927056",
     "exception": false,
     "start_time": "2020-11-14T23:17:15.869875",
     "status": "completed"
    },
    "pycharm": {
     "name": "#%%\n"
    },
    "tags": []
   },
   "outputs": [
    {
     "data": {
      "text/plain": [
       "'ES'"
      ]
     },
     "execution_count": 4,
     "metadata": {},
     "output_type": "execute_result"
    }
   ],
   "source": [
    "environment_backend_identifier = os.environ.get(\"RADARCOVID_REPORT__BACKEND_IDENTIFIER\")\n",
    "if environment_backend_identifier:\n",
    "    report_backend_identifier = environment_backend_identifier\n",
    "else:\n",
    "    report_backend_identifier = default_backend_identifier\n",
    "report_backend_identifier"
   ]
  },
  {
   "cell_type": "code",
   "execution_count": 5,
   "metadata": {
    "collapsed": false,
    "execution": {
     "iopub.execute_input": "2020-11-14T23:17:16.025199Z",
     "iopub.status.busy": "2020-11-14T23:17:16.024539Z",
     "iopub.status.idle": "2020-11-14T23:17:16.026668Z",
     "shell.execute_reply": "2020-11-14T23:17:16.027246Z"
    },
    "papermill": {
     "duration": 0.052692,
     "end_time": "2020-11-14T23:17:16.027426",
     "exception": false,
     "start_time": "2020-11-14T23:17:15.974734",
     "status": "completed"
    },
    "pycharm": {
     "name": "#%%\n"
    },
    "tags": []
   },
   "outputs": [],
   "source": [
    "environment_enable_multi_backend_download = \\\n",
    "    os.environ.get(\"RADARCOVID_REPORT__ENABLE_MULTI_BACKEND_DOWNLOAD\")\n",
    "if environment_enable_multi_backend_download:\n",
    "    report_backend_identifiers = None\n",
    "else:\n",
    "    report_backend_identifiers = [report_backend_identifier]\n",
    "\n",
    "report_backend_identifiers"
   ]
  },
  {
   "cell_type": "code",
   "execution_count": 6,
   "metadata": {
    "collapsed": false,
    "execution": {
     "iopub.execute_input": "2020-11-14T23:17:16.123366Z",
     "iopub.status.busy": "2020-11-14T23:17:16.122673Z",
     "iopub.status.idle": "2020-11-14T23:17:16.125713Z",
     "shell.execute_reply": "2020-11-14T23:17:16.126328Z"
    },
    "papermill": {
     "duration": 0.054221,
     "end_time": "2020-11-14T23:17:16.126495",
     "exception": false,
     "start_time": "2020-11-14T23:17:16.072274",
     "status": "completed"
    },
    "pycharm": {
     "name": "#%%\n"
    },
    "tags": []
   },
   "outputs": [
    {
     "data": {
      "text/plain": [
       "['2020-10-30']"
      ]
     },
     "execution_count": 6,
     "metadata": {},
     "output_type": "execute_result"
    }
   ],
   "source": [
    "environment_invalid_shared_diagnoses_dates = \\\n",
    "    os.environ.get(\"RADARCOVID_REPORT__INVALID_SHARED_DIAGNOSES_DATES\")\n",
    "if environment_invalid_shared_diagnoses_dates:\n",
    "    invalid_shared_diagnoses_dates = environment_invalid_shared_diagnoses_dates.split(\",\")\n",
    "else:\n",
    "    invalid_shared_diagnoses_dates = []\n",
    "\n",
    "invalid_shared_diagnoses_dates"
   ]
  },
  {
   "cell_type": "markdown",
   "metadata": {
    "collapsed": false,
    "papermill": {
     "duration": 0.052168,
     "end_time": "2020-11-14T23:17:16.223868",
     "exception": false,
     "start_time": "2020-11-14T23:17:16.171700",
     "status": "completed"
    },
    "pycharm": {
     "name": "#%% md\n"
    },
    "tags": []
   },
   "source": [
    "### COVID-19 Cases"
   ]
  },
  {
   "cell_type": "code",
   "execution_count": 7,
   "metadata": {
    "collapsed": false,
    "execution": {
     "iopub.execute_input": "2020-11-14T23:17:16.333674Z",
     "iopub.status.busy": "2020-11-14T23:17:16.332969Z",
     "iopub.status.idle": "2020-11-14T23:17:16.335310Z",
     "shell.execute_reply": "2020-11-14T23:17:16.335907Z"
    },
    "papermill": {
     "duration": 0.064802,
     "end_time": "2020-11-14T23:17:16.336072",
     "exception": false,
     "start_time": "2020-11-14T23:17:16.271270",
     "status": "completed"
    },
    "pycharm": {
     "name": "#%%\n"
    },
    "tags": []
   },
   "outputs": [],
   "source": [
    "report_backend_client = \\\n",
    "    exposure_notification_io.get_backend_client_with_identifier(\n",
    "        backend_identifier=report_backend_identifier)"
   ]
  },
  {
   "cell_type": "code",
   "execution_count": 8,
   "metadata": {
    "collapsed": false,
    "execution": {
     "iopub.execute_input": "2020-11-14T23:17:16.436261Z",
     "iopub.status.busy": "2020-11-14T23:17:16.435626Z",
     "iopub.status.idle": "2020-11-14T23:17:29.203214Z",
     "shell.execute_reply": "2020-11-14T23:17:29.202513Z"
    },
    "papermill": {
     "duration": 12.81902,
     "end_time": "2020-11-14T23:17:29.203373",
     "exception": false,
     "start_time": "2020-11-14T23:17:16.384353",
     "status": "completed"
    },
    "pycharm": {
     "name": "#%%\n"
    },
    "tags": []
   },
   "outputs": [],
   "source": [
    "@retry.retry(tries=10, delay=10, backoff=1.1, jitter=(0, 10))\n",
    "def download_cases_dataframe_from_ecdc():\n",
    "    return pd.read_csv(\n",
    "        \"https://opendata.ecdc.europa.eu/covid19/casedistribution/csv/data.csv\")\n",
    "\n",
    "confirmed_df_ = download_cases_dataframe_from_ecdc()"
   ]
  },
  {
   "cell_type": "code",
   "execution_count": 9,
   "metadata": {
    "collapsed": false,
    "execution": {
     "iopub.execute_input": "2020-11-14T23:17:29.296675Z",
     "iopub.status.busy": "2020-11-14T23:17:29.296015Z",
     "iopub.status.idle": "2020-11-14T23:17:29.703535Z",
     "shell.execute_reply": "2020-11-14T23:17:29.704090Z"
    },
    "papermill": {
     "duration": 0.456264,
     "end_time": "2020-11-14T23:17:29.704283",
     "exception": false,
     "start_time": "2020-11-14T23:17:29.248019",
     "status": "completed"
    },
    "pycharm": {
     "name": "#%%\n"
    },
    "tags": []
   },
   "outputs": [
    {
     "data": {
      "text/html": [
       "<div>\n",
       "<style scoped>\n",
       "    .dataframe tbody tr th:only-of-type {\n",
       "        vertical-align: middle;\n",
       "    }\n",
       "\n",
       "    .dataframe tbody tr th {\n",
       "        vertical-align: top;\n",
       "    }\n",
       "\n",
       "    .dataframe thead th {\n",
       "        text-align: right;\n",
       "    }\n",
       "</style>\n",
       "<table border=\"1\" class=\"dataframe\">\n",
       "  <thead>\n",
       "    <tr style=\"text-align: right;\">\n",
       "      <th></th>\n",
       "      <th>sample_date</th>\n",
       "      <th>new_cases</th>\n",
       "      <th>country_code</th>\n",
       "    </tr>\n",
       "  </thead>\n",
       "  <tbody>\n",
       "    <tr>\n",
       "      <th>6706</th>\n",
       "      <td>2020-11-14</td>\n",
       "      <td>1332</td>\n",
       "      <td>BA</td>\n",
       "    </tr>\n",
       "    <tr>\n",
       "      <th>23441</th>\n",
       "      <td>2020-11-14</td>\n",
       "      <td>4836</td>\n",
       "      <td>HU</td>\n",
       "    </tr>\n",
       "    <tr>\n",
       "      <th>51609</th>\n",
       "      <td>2020-11-14</td>\n",
       "      <td>185</td>\n",
       "      <td>UG</td>\n",
       "    </tr>\n",
       "    <tr>\n",
       "      <th>38037</th>\n",
       "      <td>2020-11-14</td>\n",
       "      <td>0</td>\n",
       "      <td>MP</td>\n",
       "    </tr>\n",
       "    <tr>\n",
       "      <th>0</th>\n",
       "      <td>2020-11-14</td>\n",
       "      <td>66</td>\n",
       "      <td>AF</td>\n",
       "    </tr>\n",
       "  </tbody>\n",
       "</table>\n",
       "</div>"
      ],
      "text/plain": [
       "      sample_date  new_cases country_code\n",
       "6706   2020-11-14       1332           BA\n",
       "23441  2020-11-14       4836           HU\n",
       "51609  2020-11-14        185           UG\n",
       "38037  2020-11-14          0           MP\n",
       "0      2020-11-14         66           AF"
      ]
     },
     "execution_count": 9,
     "metadata": {},
     "output_type": "execute_result"
    }
   ],
   "source": [
    "confirmed_df = confirmed_df_.copy()\n",
    "confirmed_df = confirmed_df[[\"dateRep\", \"cases\", \"geoId\"]]\n",
    "confirmed_df.rename(\n",
    "    columns={\n",
    "        \"dateRep\":\"sample_date\",\n",
    "        \"cases\": \"new_cases\",\n",
    "        \"geoId\": \"country_code\",\n",
    "    },\n",
    "    inplace=True)\n",
    "confirmed_df[\"sample_date\"] = pd.to_datetime(confirmed_df.sample_date, dayfirst=True)\n",
    "confirmed_df[\"sample_date\"] = confirmed_df.sample_date.dt.strftime(\"%Y-%m-%d\")\n",
    "confirmed_df.sort_values(\"sample_date\", inplace=True)\n",
    "confirmed_df.tail()"
   ]
  },
  {
   "cell_type": "code",
   "execution_count": 10,
   "metadata": {
    "collapsed": false,
    "execution": {
     "iopub.execute_input": "2020-11-14T23:17:29.799456Z",
     "iopub.status.busy": "2020-11-14T23:17:29.798687Z",
     "iopub.status.idle": "2020-11-14T23:17:29.801348Z",
     "shell.execute_reply": "2020-11-14T23:17:29.800746Z"
    },
    "papermill": {
     "duration": 0.052193,
     "end_time": "2020-11-14T23:17:29.801496",
     "exception": false,
     "start_time": "2020-11-14T23:17:29.749303",
     "status": "completed"
    },
    "pycharm": {
     "name": "#%%\n"
    },
    "tags": []
   },
   "outputs": [],
   "source": [
    "def sort_source_regions_for_display(source_regions: list) -> list:\n",
    "    if report_backend_identifier in source_regions:\n",
    "        source_regions = [report_backend_identifier] + \\\n",
    "            list(sorted(set(source_regions).difference([report_backend_identifier])))\n",
    "    else:\n",
    "        source_regions = list(sorted(source_regions))\n",
    "    return source_regions"
   ]
  },
  {
   "cell_type": "code",
   "execution_count": 11,
   "metadata": {
    "collapsed": false,
    "execution": {
     "iopub.execute_input": "2020-11-14T23:17:29.900310Z",
     "iopub.status.busy": "2020-11-14T23:17:29.899683Z",
     "iopub.status.idle": "2020-11-14T23:17:29.902591Z",
     "shell.execute_reply": "2020-11-14T23:17:29.903221Z"
    },
    "papermill": {
     "duration": 0.055955,
     "end_time": "2020-11-14T23:17:29.903389",
     "exception": false,
     "start_time": "2020-11-14T23:17:29.847434",
     "status": "completed"
    },
    "pycharm": {
     "name": "#%%\n"
    },
    "tags": []
   },
   "outputs": [
    {
     "data": {
      "text/plain": [
       "['ES', 'DE', 'DK', 'IE', 'IT', 'LV']"
      ]
     },
     "execution_count": 11,
     "metadata": {},
     "output_type": "execute_result"
    }
   ],
   "source": [
    "report_source_regions = report_backend_client.source_regions_for_date(\n",
    "    date=extraction_datetime.date())\n",
    "report_source_regions = sort_source_regions_for_display(\n",
    "    source_regions=report_source_regions)\n",
    "report_source_regions"
   ]
  },
  {
   "cell_type": "code",
   "execution_count": 12,
   "metadata": {
    "collapsed": false,
    "execution": {
     "iopub.execute_input": "2020-11-14T23:17:30.012525Z",
     "iopub.status.busy": "2020-11-14T23:17:30.011811Z",
     "iopub.status.idle": "2020-11-14T23:17:30.014645Z",
     "shell.execute_reply": "2020-11-14T23:17:30.015324Z"
    },
    "papermill": {
     "duration": 0.065227,
     "end_time": "2020-11-14T23:17:30.015512",
     "exception": false,
     "start_time": "2020-11-14T23:17:29.950285",
     "status": "completed"
    },
    "pycharm": {
     "name": "#%%\n"
    },
    "tags": []
   },
   "outputs": [
    {
     "data": {
      "text/html": [
       "<div>\n",
       "<style scoped>\n",
       "    .dataframe tbody tr th:only-of-type {\n",
       "        vertical-align: middle;\n",
       "    }\n",
       "\n",
       "    .dataframe tbody tr th {\n",
       "        vertical-align: top;\n",
       "    }\n",
       "\n",
       "    .dataframe thead th {\n",
       "        text-align: right;\n",
       "    }\n",
       "</style>\n",
       "<table border=\"1\" class=\"dataframe\">\n",
       "  <thead>\n",
       "    <tr style=\"text-align: right;\">\n",
       "      <th></th>\n",
       "      <th>sample_date</th>\n",
       "      <th>sample_date_string</th>\n",
       "    </tr>\n",
       "  </thead>\n",
       "  <tbody>\n",
       "    <tr>\n",
       "      <th>315</th>\n",
       "      <td>2020-11-10</td>\n",
       "      <td>2020-11-10</td>\n",
       "    </tr>\n",
       "    <tr>\n",
       "      <th>316</th>\n",
       "      <td>2020-11-11</td>\n",
       "      <td>2020-11-11</td>\n",
       "    </tr>\n",
       "    <tr>\n",
       "      <th>317</th>\n",
       "      <td>2020-11-12</td>\n",
       "      <td>2020-11-12</td>\n",
       "    </tr>\n",
       "    <tr>\n",
       "      <th>318</th>\n",
       "      <td>2020-11-13</td>\n",
       "      <td>2020-11-13</td>\n",
       "    </tr>\n",
       "    <tr>\n",
       "      <th>319</th>\n",
       "      <td>2020-11-14</td>\n",
       "      <td>2020-11-14</td>\n",
       "    </tr>\n",
       "  </tbody>\n",
       "</table>\n",
       "</div>"
      ],
      "text/plain": [
       "    sample_date sample_date_string\n",
       "315  2020-11-10         2020-11-10\n",
       "316  2020-11-11         2020-11-11\n",
       "317  2020-11-12         2020-11-12\n",
       "318  2020-11-13         2020-11-13\n",
       "319  2020-11-14         2020-11-14"
      ]
     },
     "execution_count": 12,
     "metadata": {},
     "output_type": "execute_result"
    }
   ],
   "source": [
    "confirmed_days = pd.date_range(\n",
    "    start=confirmed_df.iloc[0].sample_date,\n",
    "    end=extraction_datetime)\n",
    "confirmed_days_df = pd.DataFrame(data=confirmed_days, columns=[\"sample_date\"])\n",
    "confirmed_days_df[\"sample_date_string\"] = \\\n",
    "    confirmed_days_df.sample_date.dt.strftime(\"%Y-%m-%d\")\n",
    "confirmed_days_df.tail()"
   ]
  },
  {
   "cell_type": "code",
   "execution_count": 13,
   "metadata": {
    "collapsed": false,
    "execution": {
     "iopub.execute_input": "2020-11-14T23:17:30.126043Z",
     "iopub.status.busy": "2020-11-14T23:17:30.125385Z",
     "iopub.status.idle": "2020-11-14T23:17:30.139684Z",
     "shell.execute_reply": "2020-11-14T23:17:30.140373Z"
    },
    "papermill": {
     "duration": 0.07551,
     "end_time": "2020-11-14T23:17:30.140583",
     "exception": false,
     "start_time": "2020-11-14T23:17:30.065073",
     "status": "completed"
    },
    "pycharm": {
     "name": "#%%\n"
    },
    "tags": []
   },
   "outputs": [
    {
     "data": {
      "text/html": [
       "<div>\n",
       "<style scoped>\n",
       "    .dataframe tbody tr th:only-of-type {\n",
       "        vertical-align: middle;\n",
       "    }\n",
       "\n",
       "    .dataframe tbody tr th {\n",
       "        vertical-align: top;\n",
       "    }\n",
       "\n",
       "    .dataframe thead th {\n",
       "        text-align: right;\n",
       "    }\n",
       "</style>\n",
       "<table border=\"1\" class=\"dataframe\">\n",
       "  <thead>\n",
       "    <tr style=\"text-align: right;\">\n",
       "      <th></th>\n",
       "      <th>sample_date</th>\n",
       "      <th>sample_date_string</th>\n",
       "      <th>source_regions_at_date</th>\n",
       "      <th>_source_regions_group</th>\n",
       "    </tr>\n",
       "  </thead>\n",
       "  <tbody>\n",
       "    <tr>\n",
       "      <th>315</th>\n",
       "      <td>2020-11-10</td>\n",
       "      <td>2020-11-10</td>\n",
       "      <td>{LV, IE, IT, DE, DK, ES}</td>\n",
       "      <td>ES,DE,DK,IE,IT,LV</td>\n",
       "    </tr>\n",
       "    <tr>\n",
       "      <th>316</th>\n",
       "      <td>2020-11-11</td>\n",
       "      <td>2020-11-11</td>\n",
       "      <td>{LV, IE, IT, DE, DK, ES}</td>\n",
       "      <td>ES,DE,DK,IE,IT,LV</td>\n",
       "    </tr>\n",
       "    <tr>\n",
       "      <th>317</th>\n",
       "      <td>2020-11-12</td>\n",
       "      <td>2020-11-12</td>\n",
       "      <td>{LV, IE, IT, DE, DK, ES}</td>\n",
       "      <td>ES,DE,DK,IE,IT,LV</td>\n",
       "    </tr>\n",
       "    <tr>\n",
       "      <th>318</th>\n",
       "      <td>2020-11-13</td>\n",
       "      <td>2020-11-13</td>\n",
       "      <td>{LV, IE, IT, DE, DK, ES}</td>\n",
       "      <td>ES,DE,DK,IE,IT,LV</td>\n",
       "    </tr>\n",
       "    <tr>\n",
       "      <th>319</th>\n",
       "      <td>2020-11-14</td>\n",
       "      <td>2020-11-14</td>\n",
       "      <td>{LV, IE, IT, DE, DK, ES}</td>\n",
       "      <td>ES,DE,DK,IE,IT,LV</td>\n",
       "    </tr>\n",
       "  </tbody>\n",
       "</table>\n",
       "</div>"
      ],
      "text/plain": [
       "    sample_date sample_date_string    source_regions_at_date  \\\n",
       "315  2020-11-10         2020-11-10  {LV, IE, IT, DE, DK, ES}   \n",
       "316  2020-11-11         2020-11-11  {LV, IE, IT, DE, DK, ES}   \n",
       "317  2020-11-12         2020-11-12  {LV, IE, IT, DE, DK, ES}   \n",
       "318  2020-11-13         2020-11-13  {LV, IE, IT, DE, DK, ES}   \n",
       "319  2020-11-14         2020-11-14  {LV, IE, IT, DE, DK, ES}   \n",
       "\n",
       "    _source_regions_group  \n",
       "315     ES,DE,DK,IE,IT,LV  \n",
       "316     ES,DE,DK,IE,IT,LV  \n",
       "317     ES,DE,DK,IE,IT,LV  \n",
       "318     ES,DE,DK,IE,IT,LV  \n",
       "319     ES,DE,DK,IE,IT,LV  "
      ]
     },
     "execution_count": 13,
     "metadata": {},
     "output_type": "execute_result"
    }
   ],
   "source": [
    "source_regions_at_date_df = confirmed_days_df.copy()\n",
    "source_regions_at_date_df[\"source_regions_at_date\"] = \\\n",
    "    source_regions_at_date_df.sample_date.apply(\n",
    "        lambda x: report_backend_client.source_regions_for_date(date=x))\n",
    "source_regions_at_date_df.sort_values(\"sample_date\", inplace=True)\n",
    "source_regions_at_date_df[\"_source_regions_group\"] = source_regions_at_date_df. \\\n",
    "    source_regions_at_date.apply(lambda x: \",\".join(sort_source_regions_for_display(x)))\n",
    "source_regions_at_date_df.tail()"
   ]
  },
  {
   "cell_type": "code",
   "execution_count": 14,
   "metadata": {
    "collapsed": false,
    "execution": {
     "iopub.execute_input": "2020-11-14T23:17:30.249322Z",
     "iopub.status.busy": "2020-11-14T23:17:30.248465Z",
     "iopub.status.idle": "2020-11-14T23:17:30.253676Z",
     "shell.execute_reply": "2020-11-14T23:17:30.254179Z"
    },
    "papermill": {
     "duration": 0.066199,
     "end_time": "2020-11-14T23:17:30.254377",
     "exception": false,
     "start_time": "2020-11-14T23:17:30.188178",
     "status": "completed"
    },
    "pycharm": {
     "name": "#%%\n"
    },
    "tags": []
   },
   "outputs": [
    {
     "data": {
      "text/html": [
       "<div>\n",
       "<style scoped>\n",
       "    .dataframe tbody tr th:only-of-type {\n",
       "        vertical-align: middle;\n",
       "    }\n",
       "\n",
       "    .dataframe tbody tr th {\n",
       "        vertical-align: top;\n",
       "    }\n",
       "\n",
       "    .dataframe thead th {\n",
       "        text-align: right;\n",
       "    }\n",
       "</style>\n",
       "<table border=\"1\" class=\"dataframe\">\n",
       "  <thead>\n",
       "    <tr style=\"text-align: right;\">\n",
       "      <th></th>\n",
       "      <th>sample_date</th>\n",
       "      <th>source_regions</th>\n",
       "    </tr>\n",
       "  </thead>\n",
       "  <tbody>\n",
       "    <tr>\n",
       "      <th>315</th>\n",
       "      <td>2020-11-10</td>\n",
       "      <td>ES,DE,DK,IE,IT,LV</td>\n",
       "    </tr>\n",
       "    <tr>\n",
       "      <th>316</th>\n",
       "      <td>2020-11-11</td>\n",
       "      <td>ES,DE,DK,IE,IT,LV</td>\n",
       "    </tr>\n",
       "    <tr>\n",
       "      <th>317</th>\n",
       "      <td>2020-11-12</td>\n",
       "      <td>ES,DE,DK,IE,IT,LV</td>\n",
       "    </tr>\n",
       "    <tr>\n",
       "      <th>318</th>\n",
       "      <td>2020-11-13</td>\n",
       "      <td>ES,DE,DK,IE,IT,LV</td>\n",
       "    </tr>\n",
       "    <tr>\n",
       "      <th>319</th>\n",
       "      <td>2020-11-14</td>\n",
       "      <td>ES,DE,DK,IE,IT,LV</td>\n",
       "    </tr>\n",
       "  </tbody>\n",
       "</table>\n",
       "</div>"
      ],
      "text/plain": [
       "    sample_date     source_regions\n",
       "315  2020-11-10  ES,DE,DK,IE,IT,LV\n",
       "316  2020-11-11  ES,DE,DK,IE,IT,LV\n",
       "317  2020-11-12  ES,DE,DK,IE,IT,LV\n",
       "318  2020-11-13  ES,DE,DK,IE,IT,LV\n",
       "319  2020-11-14  ES,DE,DK,IE,IT,LV"
      ]
     },
     "execution_count": 14,
     "metadata": {},
     "output_type": "execute_result"
    }
   ],
   "source": [
    "source_regions_for_summary_df = \\\n",
    "    source_regions_at_date_df[[\"sample_date\", \"_source_regions_group\"]].copy()\n",
    "source_regions_for_summary_df.rename(columns={\"_source_regions_group\": \"source_regions\"}, inplace=True)\n",
    "source_regions_for_summary_df.tail()"
   ]
  },
  {
   "cell_type": "code",
   "execution_count": 15,
   "metadata": {
    "collapsed": false,
    "execution": {
     "iopub.execute_input": "2020-11-14T23:17:30.360367Z",
     "iopub.status.busy": "2020-11-14T23:17:30.359674Z",
     "iopub.status.idle": "2020-11-14T23:17:30.427297Z",
     "shell.execute_reply": "2020-11-14T23:17:30.426692Z"
    },
    "papermill": {
     "duration": 0.125118,
     "end_time": "2020-11-14T23:17:30.427471",
     "exception": false,
     "start_time": "2020-11-14T23:17:30.302353",
     "status": "completed"
    },
    "pycharm": {
     "name": "#%%\n"
    },
    "tags": []
   },
   "outputs": [
    {
     "data": {
      "text/html": [
       "<div>\n",
       "<style scoped>\n",
       "    .dataframe tbody tr th:only-of-type {\n",
       "        vertical-align: middle;\n",
       "    }\n",
       "\n",
       "    .dataframe tbody tr th {\n",
       "        vertical-align: top;\n",
       "    }\n",
       "\n",
       "    .dataframe thead th {\n",
       "        text-align: right;\n",
       "    }\n",
       "</style>\n",
       "<table border=\"1\" class=\"dataframe\">\n",
       "  <thead>\n",
       "    <tr style=\"text-align: right;\">\n",
       "      <th></th>\n",
       "      <th>sample_date</th>\n",
       "      <th>new_cases</th>\n",
       "      <th>covid_cases</th>\n",
       "    </tr>\n",
       "  </thead>\n",
       "  <tbody>\n",
       "    <tr>\n",
       "      <th>309</th>\n",
       "      <td>2020-11-04</td>\n",
       "      <td>70966</td>\n",
       "      <td>66020.0</td>\n",
       "    </tr>\n",
       "    <tr>\n",
       "      <th>310</th>\n",
       "      <td>2020-11-05</td>\n",
       "      <td>73194</td>\n",
       "      <td>67010.0</td>\n",
       "    </tr>\n",
       "    <tr>\n",
       "      <th>311</th>\n",
       "      <td>2020-11-06</td>\n",
       "      <td>79454</td>\n",
       "      <td>68044.0</td>\n",
       "    </tr>\n",
       "    <tr>\n",
       "      <th>312</th>\n",
       "      <td>2020-11-07</td>\n",
       "      <td>62050</td>\n",
       "      <td>69596.0</td>\n",
       "    </tr>\n",
       "    <tr>\n",
       "      <th>313</th>\n",
       "      <td>2020-11-08</td>\n",
       "      <td>56547</td>\n",
       "      <td>71025.0</td>\n",
       "    </tr>\n",
       "  </tbody>\n",
       "</table>\n",
       "</div>"
      ],
      "text/plain": [
       "    sample_date new_cases  covid_cases\n",
       "309  2020-11-04     70966      66020.0\n",
       "310  2020-11-05     73194      67010.0\n",
       "311  2020-11-06     79454      68044.0\n",
       "312  2020-11-07     62050      69596.0\n",
       "313  2020-11-08     56547      71025.0"
      ]
     },
     "execution_count": 15,
     "metadata": {},
     "output_type": "execute_result"
    }
   ],
   "source": [
    "confirmed_output_columns = [\"sample_date\", \"new_cases\", \"covid_cases\"]\n",
    "confirmed_output_df = pd.DataFrame(columns=confirmed_output_columns)\n",
    "\n",
    "for source_regions_group, source_regions_group_series in \\\n",
    "        source_regions_at_date_df.groupby(\"_source_regions_group\"):\n",
    "    source_regions_set = set(source_regions_group.split(\",\"))\n",
    "    confirmed_source_regions_set_df = \\\n",
    "        confirmed_df[confirmed_df.country_code.isin(source_regions_set)].copy()\n",
    "    confirmed_source_regions_group_df = \\\n",
    "        confirmed_source_regions_set_df.groupby(\"sample_date\").new_cases.sum() \\\n",
    "            .reset_index().sort_values(\"sample_date\")\n",
    "    confirmed_source_regions_group_df[\"covid_cases\"] = \\\n",
    "        confirmed_source_regions_group_df.new_cases.rolling(7, min_periods=0).mean().round()\n",
    "    confirmed_source_regions_group_df = \\\n",
    "        confirmed_source_regions_group_df[confirmed_output_columns]\n",
    "    confirmed_source_regions_group_df.fillna(method=\"ffill\", inplace=True)\n",
    "    confirmed_source_regions_group_df = \\\n",
    "        confirmed_source_regions_group_df[\n",
    "            confirmed_source_regions_group_df.sample_date.isin(\n",
    "                source_regions_group_series.sample_date_string)]\n",
    "    confirmed_output_df = confirmed_output_df.append(confirmed_source_regions_group_df)\n",
    "\n",
    "confirmed_df = confirmed_output_df.copy()\n",
    "confirmed_df.tail()"
   ]
  },
  {
   "cell_type": "code",
   "execution_count": 16,
   "metadata": {
    "collapsed": false,
    "execution": {
     "iopub.execute_input": "2020-11-14T23:17:30.538606Z",
     "iopub.status.busy": "2020-11-14T23:17:30.537757Z",
     "iopub.status.idle": "2020-11-14T23:17:30.553018Z",
     "shell.execute_reply": "2020-11-14T23:17:30.552446Z"
    },
    "papermill": {
     "duration": 0.073381,
     "end_time": "2020-11-14T23:17:30.553279",
     "exception": false,
     "start_time": "2020-11-14T23:17:30.479898",
     "status": "completed"
    },
    "pycharm": {
     "name": "#%%\n"
    },
    "tags": []
   },
   "outputs": [
    {
     "data": {
      "text/html": [
       "<div>\n",
       "<style scoped>\n",
       "    .dataframe tbody tr th:only-of-type {\n",
       "        vertical-align: middle;\n",
       "    }\n",
       "\n",
       "    .dataframe tbody tr th {\n",
       "        vertical-align: top;\n",
       "    }\n",
       "\n",
       "    .dataframe thead th {\n",
       "        text-align: right;\n",
       "    }\n",
       "</style>\n",
       "<table border=\"1\" class=\"dataframe\">\n",
       "  <thead>\n",
       "    <tr style=\"text-align: right;\">\n",
       "      <th></th>\n",
       "      <th>sample_date_string</th>\n",
       "      <th>new_cases</th>\n",
       "      <th>covid_cases</th>\n",
       "    </tr>\n",
       "  </thead>\n",
       "  <tbody>\n",
       "    <tr>\n",
       "      <th>315</th>\n",
       "      <td>2020-11-10</td>\n",
       "      <td>59124</td>\n",
       "      <td>72476.0</td>\n",
       "    </tr>\n",
       "    <tr>\n",
       "      <th>316</th>\n",
       "      <td>2020-11-11</td>\n",
       "      <td>74177</td>\n",
       "      <td>72741.0</td>\n",
       "    </tr>\n",
       "    <tr>\n",
       "      <th>317</th>\n",
       "      <td>2020-11-12</td>\n",
       "      <td>76143</td>\n",
       "      <td>73029.0</td>\n",
       "    </tr>\n",
       "    <tr>\n",
       "      <th>318</th>\n",
       "      <td>2020-11-13</td>\n",
       "      <td>84819</td>\n",
       "      <td>73621.0</td>\n",
       "    </tr>\n",
       "    <tr>\n",
       "      <th>319</th>\n",
       "      <td>2020-11-14</td>\n",
       "      <td>65322</td>\n",
       "      <td>73884.0</td>\n",
       "    </tr>\n",
       "  </tbody>\n",
       "</table>\n",
       "</div>"
      ],
      "text/plain": [
       "    sample_date_string  new_cases  covid_cases\n",
       "315         2020-11-10      59124      72476.0\n",
       "316         2020-11-11      74177      72741.0\n",
       "317         2020-11-12      76143      73029.0\n",
       "318         2020-11-13      84819      73621.0\n",
       "319         2020-11-14      65322      73884.0"
      ]
     },
     "execution_count": 16,
     "metadata": {},
     "output_type": "execute_result"
    }
   ],
   "source": [
    "confirmed_df.rename(columns={\"sample_date\": \"sample_date_string\"}, inplace=True)\n",
    "confirmed_df = confirmed_days_df[[\"sample_date_string\"]].merge(confirmed_df, how=\"left\")\n",
    "confirmed_df.sort_values(\"sample_date_string\", inplace=True)\n",
    "confirmed_df.fillna(method=\"ffill\", inplace=True)\n",
    "confirmed_df.tail()"
   ]
  },
  {
   "cell_type": "code",
   "execution_count": 17,
   "metadata": {
    "collapsed": false,
    "execution": {
     "iopub.execute_input": "2020-11-14T23:17:30.665043Z",
     "iopub.status.busy": "2020-11-14T23:17:30.664386Z",
     "iopub.status.idle": "2020-11-14T23:17:30.887764Z",
     "shell.execute_reply": "2020-11-14T23:17:30.888528Z"
    },
    "papermill": {
     "duration": 0.285761,
     "end_time": "2020-11-14T23:17:30.888726",
     "exception": false,
     "start_time": "2020-11-14T23:17:30.602965",
     "status": "completed"
    },
    "pycharm": {
     "name": "#%%\n"
    },
    "tags": []
   },
   "outputs": [
    {
     "data": {
      "text/plain": [
       "<matplotlib.axes._subplots.AxesSubplot at 0x7fb6af9f4460>"
      ]
     },
     "execution_count": 17,
     "metadata": {},
     "output_type": "execute_result"
    },
    {
     "data": {
      "image/png": "[encoded data removed]",
      "text/plain": [
       "<Figure size 1080x432 with 1 Axes>"
      ]
     },
     "metadata": {},
     "output_type": "display_data"
    }
   ],
   "source": [
    "confirmed_df[[\"new_cases\", \"covid_cases\"]].plot()"
   ]
  },
  {
   "cell_type": "markdown",
   "metadata": {
    "execution": {
     "iopub.execute_input": "2020-08-30T22:30:16.351238Z",
     "iopub.status.busy": "2020-08-30T22:30:16.344579Z",
     "iopub.status.idle": "2020-08-30T22:30:16.354285Z",
     "shell.execute_reply": "2020-08-30T22:30:16.353641Z"
    },
    "papermill": {
     "duration": 0.053218,
     "end_time": "2020-11-14T23:17:30.999177",
     "exception": false,
     "start_time": "2020-11-14T23:17:30.945959",
     "status": "completed"
    },
    "pycharm": {
     "name": "#%% md\n"
    },
    "tags": []
   },
   "source": [
    "### Extract API TEKs"
   ]
  },
  {
   "cell_type": "code",
   "execution_count": 18,
   "metadata": {
    "execution": {
     "iopub.execute_input": "2020-11-14T23:17:31.107601Z",
     "iopub.status.busy": "2020-11-14T23:17:31.106923Z",
     "iopub.status.idle": "2020-11-14T23:23:00.817429Z",
     "shell.execute_reply": "2020-11-14T23:23:00.818006Z"
    },
    "papermill": {
     "duration": 329.768402,
     "end_time": "2020-11-14T23:23:00.818209",
     "exception": false,
     "start_time": "2020-11-14T23:17:31.049807",
     "status": "completed"
    },
    "pycharm": {
     "name": "#%%\n"
    },
    "tags": []
   },
   "outputs": [
    {
     "name": "stderr",
     "output_type": "stream",
     "text": [
      "WARNING:root:NoKeysFoundException(\"No exposure keys found on endpoint 'https://stayaway.incm.pt/v1/gaen/exposed/1605312000000' (parameters: {'generation_date': '2020-11-14', 'endpoint_identifier_components': ['2020-11-14'], 'backend_identifier': 'PT', 'server_endpoint_url': 'https://stayaway.incm.pt'}).\")\n"
     ]
    },
    {
     "name": "stderr",
     "output_type": "stream",
     "text": [
      "WARNING:root:NoKeysFoundException(\"No exposure keys found on endpoint 'https://enapi.sm.ee/authorization/v1/gaen/exposed/1605312000000' (parameters: {'generation_date': '2020-11-14', 'endpoint_identifier_components': ['2020-11-14'], 'backend_identifier': 'EE', 'server_endpoint_url': 'https://enapi.sm.ee/authorization'}).\")\n"
     ]
    },
    {
     "name": "stderr",
     "output_type": "stream",
     "text": [
      "WARNING:root:NoKeysFoundException(\"No exposure keys found on endpoint 'https://mt-dpppt-ws.azurewebsites.net/v1/gaen/exposed/1605312000000' (parameters: {'generation_date': '2020-11-14', 'endpoint_identifier_components': ['2020-11-14'], 'backend_identifier': 'MT', 'server_endpoint_url': 'https://mt-dpppt-ws.azurewebsites.net'}).\")\n"
     ]
    },
    {
     "data": {
      "text/html": [
       "<div>\n",
       "<style scoped>\n",
       "    .dataframe tbody tr th:only-of-type {\n",
       "        vertical-align: middle;\n",
       "    }\n",
       "\n",
       "    .dataframe tbody tr th {\n",
       "        vertical-align: top;\n",
       "    }\n",
       "\n",
       "    .dataframe thead th {\n",
       "        text-align: right;\n",
       "    }\n",
       "</style>\n",
       "<table border=\"1\" class=\"dataframe\">\n",
       "  <thead>\n",
       "    <tr style=\"text-align: right;\">\n",
       "      <th></th>\n",
       "      <th>sample_datetime</th>\n",
       "      <th>sample_date_string</th>\n",
       "      <th>region</th>\n",
       "      <th>verification_key_version</th>\n",
       "      <th>verification_key_id</th>\n",
       "      <th>signature_algorithm</th>\n",
       "      <th>key_data</th>\n",
       "      <th>rolling_start_interval_number</th>\n",
       "      <th>rolling_period</th>\n",
       "      <th>transmission_risk_level</th>\n",
       "      <th>backend_identifier</th>\n",
       "    </tr>\n",
       "  </thead>\n",
       "  <tbody>\n",
       "    <tr>\n",
       "      <th>0</th>\n",
       "      <td>2020-11-14</td>\n",
       "      <td>2020-11-14</td>\n",
       "      <td>ES</td>\n",
       "      <td>V1</td>\n",
       "      <td>214</td>\n",
       "      <td>1.2.840.10045.4.3.2</td>\n",
       "      <td>bfda10d5-5dbf-fc4d-4180-ff68b4a5c0f9</td>\n",
       "      <td>2675520</td>\n",
       "      <td>132</td>\n",
       "      <td>0</td>\n",
       "      <td>ES</td>\n",
       "    </tr>\n",
       "    <tr>\n",
       "      <th>1</th>\n",
       "      <td>2020-11-14</td>\n",
       "      <td>2020-11-14</td>\n",
       "      <td>ES</td>\n",
       "      <td>V1</td>\n",
       "      <td>214</td>\n",
       "      <td>1.2.840.10045.4.3.2</td>\n",
       "      <td>2848fadb-e756-d73b-e505-92a0b5cd04dd</td>\n",
       "      <td>2675520</td>\n",
       "      <td>124</td>\n",
       "      <td>0</td>\n",
       "      <td>ES</td>\n",
       "    </tr>\n",
       "    <tr>\n",
       "      <th>2</th>\n",
       "      <td>2020-11-14</td>\n",
       "      <td>2020-11-14</td>\n",
       "      <td>ES</td>\n",
       "      <td>V1</td>\n",
       "      <td>214</td>\n",
       "      <td>1.2.840.10045.4.3.2</td>\n",
       "      <td>13e09564-0891-e7e7-a258-3efdad5c74de</td>\n",
       "      <td>2675520</td>\n",
       "      <td>130</td>\n",
       "      <td>0</td>\n",
       "      <td>ES</td>\n",
       "    </tr>\n",
       "    <tr>\n",
       "      <th>3</th>\n",
       "      <td>2020-11-14</td>\n",
       "      <td>2020-11-14</td>\n",
       "      <td>ES</td>\n",
       "      <td>V1</td>\n",
       "      <td>214</td>\n",
       "      <td>1.2.840.10045.4.3.2</td>\n",
       "      <td>622a99ef-609a-374f-1284-9f0b4ec30159</td>\n",
       "      <td>2675520</td>\n",
       "      <td>129</td>\n",
       "      <td>0</td>\n",
       "      <td>ES</td>\n",
       "    </tr>\n",
       "    <tr>\n",
       "      <th>4</th>\n",
       "      <td>2020-11-14</td>\n",
       "      <td>2020-11-14</td>\n",
       "      <td>ES</td>\n",
       "      <td>V1</td>\n",
       "      <td>214</td>\n",
       "      <td>1.2.840.10045.4.3.2</td>\n",
       "      <td>8dbdf46b-95bc-f0e0-4475-29a087b8d9a9</td>\n",
       "      <td>2675520</td>\n",
       "      <td>128</td>\n",
       "      <td>0</td>\n",
       "      <td>ES</td>\n",
       "    </tr>\n",
       "  </tbody>\n",
       "</table>\n",
       "</div>"
      ],
      "text/plain": [
       "  sample_datetime sample_date_string region verification_key_version  \\\n",
       "0      2020-11-14         2020-11-14     ES                       V1   \n",
       "1      2020-11-14         2020-11-14     ES                       V1   \n",
       "2      2020-11-14         2020-11-14     ES                       V1   \n",
       "3      2020-11-14         2020-11-14     ES                       V1   \n",
       "4      2020-11-14         2020-11-14     ES                       V1   \n",
       "\n",
       "  verification_key_id  signature_algorithm  \\\n",
       "0                 214  1.2.840.10045.4.3.2   \n",
       "1                 214  1.2.840.10045.4.3.2   \n",
       "2                 214  1.2.840.10045.4.3.2   \n",
       "3                 214  1.2.840.10045.4.3.2   \n",
       "4                 214  1.2.840.10045.4.3.2   \n",
       "\n",
       "                               key_data  rolling_start_interval_number  \\\n",
       "0  bfda10d5-5dbf-fc4d-4180-ff68b4a5c0f9                        2675520   \n",
       "1  2848fadb-e756-d73b-e505-92a0b5cd04dd                        2675520   \n",
       "2  13e09564-0891-e7e7-a258-3efdad5c74de                        2675520   \n",
       "3  622a99ef-609a-374f-1284-9f0b4ec30159                        2675520   \n",
       "4  8dbdf46b-95bc-f0e0-4475-29a087b8d9a9                        2675520   \n",
       "\n",
       "   rolling_period  transmission_risk_level backend_identifier  \n",
       "0             132                        0                 ES  \n",
       "1             124                        0                 ES  \n",
       "2             130                        0                 ES  \n",
       "3             129                        0                 ES  \n",
       "4             128                        0                 ES  "
      ]
     },
     "execution_count": 18,
     "metadata": {},
     "output_type": "execute_result"
    }
   ],
   "source": [
    "raw_zip_path_prefix = \"Data/TEKs/Raw/\"\n",
    "fail_on_error_backend_identifiers = [report_backend_identifier]\n",
    "multi_backend_exposure_keys_df = \\\n",
    "    exposure_notification_io.download_exposure_keys_from_backends(\n",
    "        backend_identifiers=report_backend_identifiers,\n",
    "        generation_days=backend_generation_days,\n",
    "        fail_on_error_backend_identifiers=fail_on_error_backend_identifiers,\n",
    "        save_raw_zip_path_prefix=raw_zip_path_prefix)\n",
    "multi_backend_exposure_keys_df[\"region\"] = multi_backend_exposure_keys_df[\"backend_identifier\"]\n",
    "multi_backend_exposure_keys_df.rename(\n",
    "    columns={\n",
    "        \"generation_datetime\": \"sample_datetime\",\n",
    "        \"generation_date_string\": \"sample_date_string\",\n",
    "    },\n",
    "    inplace=True)\n",
    "multi_backend_exposure_keys_df.head()"
   ]
  },
  {
   "cell_type": "code",
   "execution_count": 19,
   "metadata": {
    "collapsed": false,
    "execution": {
     "iopub.execute_input": "2020-11-14T23:23:00.926209Z",
     "iopub.status.busy": "2020-11-14T23:23:00.925586Z",
     "iopub.status.idle": "2020-11-14T23:23:01.176302Z",
     "shell.execute_reply": "2020-11-14T23:23:01.177184Z"
    },
    "papermill": {
     "duration": 0.310482,
     "end_time": "2020-11-14T23:23:01.177427",
     "exception": false,
     "start_time": "2020-11-14T23:23:00.866945",
     "status": "completed"
    },
    "pycharm": {
     "name": "#%%\n"
    },
    "tags": []
   },
   "outputs": [
    {
     "data": {
      "text/plain": [
       "<matplotlib.axes._subplots.AxesSubplot at 0x7fb69c50ef40>"
      ]
     },
     "execution_count": 19,
     "metadata": {},
     "output_type": "execute_result"
    },
    {
     "data": {
      "image/png": "[encoded data removed]",
      "text/plain": [
       "<Figure size 1080x432 with 1 Axes>"
      ]
     },
     "metadata": {},
     "output_type": "display_data"
    }
   ],
   "source": [
    "early_teks_df = multi_backend_exposure_keys_df[\n",
    "    multi_backend_exposure_keys_df.rolling_period < 144].copy()\n",
    "early_teks_df[\"rolling_period_in_hours\"] = early_teks_df.rolling_period / 6\n",
    "early_teks_df[early_teks_df.sample_date_string != extraction_date] \\\n",
    "    .rolling_period_in_hours.hist(bins=list(range(24)))"
   ]
  },
  {
   "cell_type": "code",
   "execution_count": 20,
   "metadata": {
    "collapsed": false,
    "execution": {
     "iopub.execute_input": "2020-11-14T23:23:01.292895Z",
     "iopub.status.busy": "2020-11-14T23:23:01.292240Z",
     "iopub.status.idle": "2020-11-14T23:23:01.524501Z",
     "shell.execute_reply": "2020-11-14T23:23:01.525444Z"
    },
    "papermill": {
     "duration": 0.294069,
     "end_time": "2020-11-14T23:23:01.525674",
     "exception": false,
     "start_time": "2020-11-14T23:23:01.231605",
     "status": "completed"
    },
    "pycharm": {
     "name": "#%%\n"
    },
    "tags": []
   },
   "outputs": [
    {
     "data": {
      "text/plain": [
       "<matplotlib.axes._subplots.AxesSubplot at 0x7fb69c0d3ac0>"
      ]
     },
     "execution_count": 20,
     "metadata": {},
     "output_type": "execute_result"
    },
    {
     "data": {
      "image/png": "[encoded data removed]",
      "text/plain": [
       "<Figure size 1080x432 with 1 Axes>"
      ]
     },
     "metadata": {},
     "output_type": "display_data"
    }
   ],
   "source": [
    "early_teks_df[early_teks_df.sample_date_string == extraction_date] \\\n",
    "    .rolling_period_in_hours.hist(bins=list(range(24)))"
   ]
  },
  {
   "cell_type": "code",
   "execution_count": 21,
   "metadata": {
    "collapsed": false,
    "execution": {
     "iopub.execute_input": "2020-11-14T23:23:01.640798Z",
     "iopub.status.busy": "2020-11-14T23:23:01.640175Z",
     "iopub.status.idle": "2020-11-14T23:23:01.685352Z",
     "shell.execute_reply": "2020-11-14T23:23:01.685869Z"
    },
    "papermill": {
     "duration": 0.106995,
     "end_time": "2020-11-14T23:23:01.686061",
     "exception": false,
     "start_time": "2020-11-14T23:23:01.579066",
     "status": "completed"
    },
    "pycharm": {
     "name": "#%%\n"
    },
    "tags": []
   },
   "outputs": [
    {
     "data": {
      "text/html": [
       "<div>\n",
       "<style scoped>\n",
       "    .dataframe tbody tr th:only-of-type {\n",
       "        vertical-align: middle;\n",
       "    }\n",
       "\n",
       "    .dataframe tbody tr th {\n",
       "        vertical-align: top;\n",
       "    }\n",
       "\n",
       "    .dataframe thead th {\n",
       "        text-align: right;\n",
       "    }\n",
       "</style>\n",
       "<table border=\"1\" class=\"dataframe\">\n",
       "  <thead>\n",
       "    <tr style=\"text-align: right;\">\n",
       "      <th></th>\n",
       "      <th>sample_date_string</th>\n",
       "      <th>region</th>\n",
       "      <th>key_data</th>\n",
       "    </tr>\n",
       "  </thead>\n",
       "  <tbody>\n",
       "    <tr>\n",
       "      <th>0</th>\n",
       "      <td>2020-11-14</td>\n",
       "      <td>ES</td>\n",
       "      <td>bfda10d5-5dbf-fc4d-4180-ff68b4a5c0f9</td>\n",
       "    </tr>\n",
       "    <tr>\n",
       "      <th>1</th>\n",
       "      <td>2020-11-14</td>\n",
       "      <td>ES</td>\n",
       "      <td>2848fadb-e756-d73b-e505-92a0b5cd04dd</td>\n",
       "    </tr>\n",
       "    <tr>\n",
       "      <th>2</th>\n",
       "      <td>2020-11-14</td>\n",
       "      <td>ES</td>\n",
       "      <td>13e09564-0891-e7e7-a258-3efdad5c74de</td>\n",
       "    </tr>\n",
       "    <tr>\n",
       "      <th>3</th>\n",
       "      <td>2020-11-14</td>\n",
       "      <td>ES</td>\n",
       "      <td>622a99ef-609a-374f-1284-9f0b4ec30159</td>\n",
       "    </tr>\n",
       "    <tr>\n",
       "      <th>4</th>\n",
       "      <td>2020-11-14</td>\n",
       "      <td>ES</td>\n",
       "      <td>8dbdf46b-95bc-f0e0-4475-29a087b8d9a9</td>\n",
       "    </tr>\n",
       "  </tbody>\n",
       "</table>\n",
       "</div>"
      ],
      "text/plain": [
       "  sample_date_string region                              key_data\n",
       "0         2020-11-14     ES  bfda10d5-5dbf-fc4d-4180-ff68b4a5c0f9\n",
       "1         2020-11-14     ES  2848fadb-e756-d73b-e505-92a0b5cd04dd\n",
       "2         2020-11-14     ES  13e09564-0891-e7e7-a258-3efdad5c74de\n",
       "3         2020-11-14     ES  622a99ef-609a-374f-1284-9f0b4ec30159\n",
       "4         2020-11-14     ES  8dbdf46b-95bc-f0e0-4475-29a087b8d9a9"
      ]
     },
     "execution_count": 21,
     "metadata": {},
     "output_type": "execute_result"
    }
   ],
   "source": [
    "multi_backend_exposure_keys_df = multi_backend_exposure_keys_df[[\n",
    "    \"sample_date_string\", \"region\", \"key_data\"]]\n",
    "multi_backend_exposure_keys_df.head()"
   ]
  },
  {
   "cell_type": "code",
   "execution_count": 22,
   "metadata": {
    "collapsed": false,
    "execution": {
     "iopub.execute_input": "2020-11-14T23:23:01.810173Z",
     "iopub.status.busy": "2020-11-14T23:23:01.809472Z",
     "iopub.status.idle": "2020-11-14T23:23:06.443452Z",
     "shell.execute_reply": "2020-11-14T23:23:06.443963Z"
    },
    "papermill": {
     "duration": 4.704667,
     "end_time": "2020-11-14T23:23:06.444156",
     "exception": false,
     "start_time": "2020-11-14T23:23:01.739489",
     "status": "completed"
    },
    "pycharm": {
     "name": "#%%\n"
    },
    "tags": []
   },
   "outputs": [
    {
     "data": {
      "text/plain": [
       "['BE@TST', 'EE', 'MT', 'PT', 'BE', 'DK', 'ES@PRE', 'CH', 'DE', 'IT', 'ES']"
      ]
     },
     "execution_count": 22,
     "metadata": {},
     "output_type": "execute_result"
    }
   ],
   "source": [
    "active_regions = \\\n",
    "    multi_backend_exposure_keys_df.groupby(\"region\").key_data.nunique().sort_values().index.unique().tolist()\n",
    "active_regions"
   ]
  },
  {
   "cell_type": "code",
   "execution_count": 23,
   "metadata": {
    "collapsed": false,
    "execution": {
     "iopub.execute_input": "2020-11-14T23:23:06.593929Z",
     "iopub.status.busy": "2020-11-14T23:23:06.593226Z",
     "iopub.status.idle": "2020-11-14T23:23:11.333544Z",
     "shell.execute_reply": "2020-11-14T23:23:11.334021Z"
    },
    "papermill": {
     "duration": 4.837454,
     "end_time": "2020-11-14T23:23:11.334214",
     "exception": false,
     "start_time": "2020-11-14T23:23:06.496760",
     "status": "completed"
    },
    "pycharm": {
     "name": "#%%\n"
    },
    "tags": []
   },
   "outputs": [
    {
     "data": {
      "text/html": [
       "<div>\n",
       "<style scoped>\n",
       "    .dataframe tbody tr th:only-of-type {\n",
       "        vertical-align: middle;\n",
       "    }\n",
       "\n",
       "    .dataframe tbody tr th {\n",
       "        vertical-align: top;\n",
       "    }\n",
       "\n",
       "    .dataframe thead tr th {\n",
       "        text-align: left;\n",
       "    }\n",
       "\n",
       "    .dataframe thead tr:last-of-type th {\n",
       "        text-align: right;\n",
       "    }\n",
       "</style>\n",
       "<table border=\"1\" class=\"dataframe\">\n",
       "  <thead>\n",
       "    <tr>\n",
       "      <th></th>\n",
       "      <th colspan=\"11\" halign=\"left\">shared_teks_by_generation_date</th>\n",
       "    </tr>\n",
       "    <tr>\n",
       "      <th>region</th>\n",
       "      <th>BE</th>\n",
       "      <th>BE@TST</th>\n",
       "      <th>CH</th>\n",
       "      <th>DE</th>\n",
       "      <th>DK</th>\n",
       "      <th>EE</th>\n",
       "      <th>ES</th>\n",
       "      <th>ES@PRE</th>\n",
       "      <th>IT</th>\n",
       "      <th>MT</th>\n",
       "      <th>PT</th>\n",
       "    </tr>\n",
       "    <tr>\n",
       "      <th>sample_date</th>\n",
       "      <th></th>\n",
       "      <th></th>\n",
       "      <th></th>\n",
       "      <th></th>\n",
       "      <th></th>\n",
       "      <th></th>\n",
       "      <th></th>\n",
       "      <th></th>\n",
       "      <th></th>\n",
       "      <th></th>\n",
       "      <th></th>\n",
       "    </tr>\n",
       "  </thead>\n",
       "  <tbody>\n",
       "    <tr>\n",
       "      <th>2020-11-14</th>\n",
       "      <td>0</td>\n",
       "      <td>0</td>\n",
       "      <td>595</td>\n",
       "      <td>0</td>\n",
       "      <td>0</td>\n",
       "      <td>0</td>\n",
       "      <td>211</td>\n",
       "      <td>1</td>\n",
       "      <td>15</td>\n",
       "      <td>0</td>\n",
       "      <td>0</td>\n",
       "    </tr>\n",
       "    <tr>\n",
       "      <th>2020-11-13</th>\n",
       "      <td>0</td>\n",
       "      <td>0</td>\n",
       "      <td>1280</td>\n",
       "      <td>0</td>\n",
       "      <td>194</td>\n",
       "      <td>24</td>\n",
       "      <td>1922</td>\n",
       "      <td>51</td>\n",
       "      <td>1576</td>\n",
       "      <td>105</td>\n",
       "      <td>77</td>\n",
       "    </tr>\n",
       "    <tr>\n",
       "      <th>2020-11-12</th>\n",
       "      <td>116</td>\n",
       "      <td>44</td>\n",
       "      <td>1996</td>\n",
       "      <td>2501</td>\n",
       "      <td>355</td>\n",
       "      <td>45</td>\n",
       "      <td>4776</td>\n",
       "      <td>341</td>\n",
       "      <td>4063</td>\n",
       "      <td>106</td>\n",
       "      <td>119</td>\n",
       "    </tr>\n",
       "    <tr>\n",
       "      <th>2020-11-11</th>\n",
       "      <td>157</td>\n",
       "      <td>44</td>\n",
       "      <td>2932</td>\n",
       "      <td>4837</td>\n",
       "      <td>537</td>\n",
       "      <td>65</td>\n",
       "      <td>7448</td>\n",
       "      <td>531</td>\n",
       "      <td>6323</td>\n",
       "      <td>112</td>\n",
       "      <td>151</td>\n",
       "    </tr>\n",
       "    <tr>\n",
       "      <th>2020-11-10</th>\n",
       "      <td>262</td>\n",
       "      <td>50</td>\n",
       "      <td>3661</td>\n",
       "      <td>7101</td>\n",
       "      <td>725</td>\n",
       "      <td>78</td>\n",
       "      <td>9997</td>\n",
       "      <td>748</td>\n",
       "      <td>8585</td>\n",
       "      <td>117</td>\n",
       "      <td>197</td>\n",
       "    </tr>\n",
       "  </tbody>\n",
       "</table>\n",
       "</div>"
      ],
      "text/plain": [
       "            shared_teks_by_generation_date                                    \\\n",
       "region                                  BE BE@TST    CH    DE   DK  EE    ES   \n",
       "sample_date                                                                    \n",
       "2020-11-14                               0      0   595     0    0   0   211   \n",
       "2020-11-13                               0      0  1280     0  194  24  1922   \n",
       "2020-11-12                             116     44  1996  2501  355  45  4776   \n",
       "2020-11-11                             157     44  2932  4837  537  65  7448   \n",
       "2020-11-10                             262     50  3661  7101  725  78  9997   \n",
       "\n",
       "                                    \n",
       "region      ES@PRE    IT   MT   PT  \n",
       "sample_date                         \n",
       "2020-11-14       1    15    0    0  \n",
       "2020-11-13      51  1576  105   77  \n",
       "2020-11-12     341  4063  106  119  \n",
       "2020-11-11     531  6323  112  151  \n",
       "2020-11-10     748  8585  117  197  "
      ]
     },
     "execution_count": 23,
     "metadata": {},
     "output_type": "execute_result"
    }
   ],
   "source": [
    "multi_backend_summary_df = multi_backend_exposure_keys_df.groupby(\n",
    "    [\"sample_date_string\", \"region\"]).key_data.nunique().reset_index() \\\n",
    "    .pivot(index=\"sample_date_string\", columns=\"region\") \\\n",
    "    .sort_index(ascending=False)\n",
    "multi_backend_summary_df.rename(\n",
    "    columns={\"key_data\": \"shared_teks_by_generation_date\"},\n",
    "    inplace=True)\n",
    "multi_backend_summary_df.rename_axis(\"sample_date\", inplace=True)\n",
    "multi_backend_summary_df = multi_backend_summary_df.fillna(0).astype(int)\n",
    "multi_backend_summary_df = multi_backend_summary_df.head(backend_generation_days)\n",
    "multi_backend_summary_df.head()"
   ]
  },
  {
   "cell_type": "code",
   "execution_count": 24,
   "metadata": {
    "collapsed": false,
    "execution": {
     "iopub.execute_input": "2020-11-14T23:23:11.446675Z",
     "iopub.status.busy": "2020-11-14T23:23:11.446020Z",
     "iopub.status.idle": "2020-11-14T23:23:17.547059Z",
     "shell.execute_reply": "2020-11-14T23:23:17.547628Z"
    },
    "papermill": {
     "duration": 6.16125,
     "end_time": "2020-11-14T23:23:17.547796",
     "exception": false,
     "start_time": "2020-11-14T23:23:11.386546",
     "status": "completed"
    },
    "pycharm": {
     "name": "#%%\n"
    },
    "tags": []
   },
   "outputs": [
    {
     "name": "stderr",
     "output_type": "stream",
     "text": [
      "<ipython-input-24-4e21708c19d8>:2: FutureWarning: `item` has been deprecated and will be removed in a future version\n",
      "  teks_x = x.key_data_x.item()\n",
      "<ipython-input-24-4e21708c19d8>:3: FutureWarning: `item` has been deprecated and will be removed in a future version\n",
      "  common_teks = set(teks_x).intersection(x.key_data_y.item())\n"
     ]
    },
    {
     "name": "stderr",
     "output_type": "stream",
     "text": [
      "<ipython-input-24-4e21708c19d8>:33: FutureWarning: `item` has been deprecated and will be removed in a future version\n",
      "  aggfunc=lambda x: x.item())\n"
     ]
    },
    {
     "data": {
      "text/html": [
       "<div>\n",
       "<style scoped>\n",
       "    .dataframe tbody tr th:only-of-type {\n",
       "        vertical-align: middle;\n",
       "    }\n",
       "\n",
       "    .dataframe tbody tr th {\n",
       "        vertical-align: top;\n",
       "    }\n",
       "\n",
       "    .dataframe thead tr th {\n",
       "        text-align: left;\n",
       "    }\n",
       "\n",
       "    .dataframe thead tr:last-of-type th {\n",
       "        text-align: right;\n",
       "    }\n",
       "</style>\n",
       "<table border=\"1\" class=\"dataframe\">\n",
       "  <thead>\n",
       "    <tr>\n",
       "      <th></th>\n",
       "      <th colspan=\"11\" halign=\"left\">common_teks_fraction</th>\n",
       "    </tr>\n",
       "    <tr>\n",
       "      <th>region_x</th>\n",
       "      <th>BE</th>\n",
       "      <th>BE@TST</th>\n",
       "      <th>CH</th>\n",
       "      <th>DE</th>\n",
       "      <th>DK</th>\n",
       "      <th>EE</th>\n",
       "      <th>ES</th>\n",
       "      <th>ES@PRE</th>\n",
       "      <th>IT</th>\n",
       "      <th>MT</th>\n",
       "      <th>PT</th>\n",
       "    </tr>\n",
       "    <tr>\n",
       "      <th>region_y</th>\n",
       "      <th></th>\n",
       "      <th></th>\n",
       "      <th></th>\n",
       "      <th></th>\n",
       "      <th></th>\n",
       "      <th></th>\n",
       "      <th></th>\n",
       "      <th></th>\n",
       "      <th></th>\n",
       "      <th></th>\n",
       "      <th></th>\n",
       "    </tr>\n",
       "  </thead>\n",
       "  <tbody>\n",
       "    <tr>\n",
       "      <th>BE</th>\n",
       "      <td>NaN</td>\n",
       "      <td>0.0</td>\n",
       "      <td>0.000000</td>\n",
       "      <td>0.000000</td>\n",
       "      <td>0.000000</td>\n",
       "      <td>0.0</td>\n",
       "      <td>0.000000</td>\n",
       "      <td>0.0</td>\n",
       "      <td>0.000000</td>\n",
       "      <td>0.0</td>\n",
       "      <td>0.0</td>\n",
       "    </tr>\n",
       "    <tr>\n",
       "      <th>BE@TST</th>\n",
       "      <td>0.0</td>\n",
       "      <td>NaN</td>\n",
       "      <td>0.000000</td>\n",
       "      <td>0.000000</td>\n",
       "      <td>0.000000</td>\n",
       "      <td>0.0</td>\n",
       "      <td>0.000000</td>\n",
       "      <td>0.0</td>\n",
       "      <td>0.000000</td>\n",
       "      <td>0.0</td>\n",
       "      <td>0.0</td>\n",
       "    </tr>\n",
       "    <tr>\n",
       "      <th>CH</th>\n",
       "      <td>0.0</td>\n",
       "      <td>0.0</td>\n",
       "      <td>NaN</td>\n",
       "      <td>0.000040</td>\n",
       "      <td>0.000000</td>\n",
       "      <td>0.0</td>\n",
       "      <td>0.000032</td>\n",
       "      <td>0.0</td>\n",
       "      <td>0.000036</td>\n",
       "      <td>0.0</td>\n",
       "      <td>0.0</td>\n",
       "    </tr>\n",
       "    <tr>\n",
       "      <th>DE</th>\n",
       "      <td>0.0</td>\n",
       "      <td>0.0</td>\n",
       "      <td>0.000116</td>\n",
       "      <td>NaN</td>\n",
       "      <td>0.000000</td>\n",
       "      <td>0.0</td>\n",
       "      <td>0.765734</td>\n",
       "      <td>0.0</td>\n",
       "      <td>0.851874</td>\n",
       "      <td>0.0</td>\n",
       "      <td>0.0</td>\n",
       "    </tr>\n",
       "    <tr>\n",
       "      <th>DK</th>\n",
       "      <td>0.0</td>\n",
       "      <td>0.0</td>\n",
       "      <td>0.000000</td>\n",
       "      <td>0.000000</td>\n",
       "      <td>NaN</td>\n",
       "      <td>0.0</td>\n",
       "      <td>0.032646</td>\n",
       "      <td>0.0</td>\n",
       "      <td>0.000000</td>\n",
       "      <td>0.0</td>\n",
       "      <td>0.0</td>\n",
       "    </tr>\n",
       "    <tr>\n",
       "      <th>EE</th>\n",
       "      <td>0.0</td>\n",
       "      <td>0.0</td>\n",
       "      <td>0.000000</td>\n",
       "      <td>0.000000</td>\n",
       "      <td>0.000000</td>\n",
       "      <td>NaN</td>\n",
       "      <td>0.000000</td>\n",
       "      <td>0.0</td>\n",
       "      <td>0.000000</td>\n",
       "      <td>0.0</td>\n",
       "      <td>0.0</td>\n",
       "    </tr>\n",
       "    <tr>\n",
       "      <th>ES</th>\n",
       "      <td>0.0</td>\n",
       "      <td>0.0</td>\n",
       "      <td>0.000116</td>\n",
       "      <td>0.950886</td>\n",
       "      <td>0.412934</td>\n",
       "      <td>0.0</td>\n",
       "      <td>NaN</td>\n",
       "      <td>0.0</td>\n",
       "      <td>0.988051</td>\n",
       "      <td>0.0</td>\n",
       "      <td>0.0</td>\n",
       "    </tr>\n",
       "    <tr>\n",
       "      <th>ES@PRE</th>\n",
       "      <td>0.0</td>\n",
       "      <td>0.0</td>\n",
       "      <td>0.000000</td>\n",
       "      <td>0.000000</td>\n",
       "      <td>0.000000</td>\n",
       "      <td>0.0</td>\n",
       "      <td>0.000000</td>\n",
       "      <td>NaN</td>\n",
       "      <td>0.000000</td>\n",
       "      <td>0.0</td>\n",
       "      <td>0.0</td>\n",
       "    </tr>\n",
       "    <tr>\n",
       "      <th>IT</th>\n",
       "      <td>0.0</td>\n",
       "      <td>0.0</td>\n",
       "      <td>0.000116</td>\n",
       "      <td>0.950886</td>\n",
       "      <td>0.000000</td>\n",
       "      <td>0.0</td>\n",
       "      <td>0.888141</td>\n",
       "      <td>0.0</td>\n",
       "      <td>NaN</td>\n",
       "      <td>0.0</td>\n",
       "      <td>0.0</td>\n",
       "    </tr>\n",
       "    <tr>\n",
       "      <th>MT</th>\n",
       "      <td>0.0</td>\n",
       "      <td>0.0</td>\n",
       "      <td>0.000000</td>\n",
       "      <td>0.000000</td>\n",
       "      <td>0.000000</td>\n",
       "      <td>0.0</td>\n",
       "      <td>0.000000</td>\n",
       "      <td>0.0</td>\n",
       "      <td>0.000000</td>\n",
       "      <td>NaN</td>\n",
       "      <td>0.0</td>\n",
       "    </tr>\n",
       "    <tr>\n",
       "      <th>PT</th>\n",
       "      <td>0.0</td>\n",
       "      <td>0.0</td>\n",
       "      <td>0.000000</td>\n",
       "      <td>0.000000</td>\n",
       "      <td>0.000000</td>\n",
       "      <td>0.0</td>\n",
       "      <td>0.000000</td>\n",
       "      <td>0.0</td>\n",
       "      <td>0.000000</td>\n",
       "      <td>0.0</td>\n",
       "      <td>NaN</td>\n",
       "    </tr>\n",
       "  </tbody>\n",
       "</table>\n",
       "</div>"
      ],
      "text/plain": [
       "         common_teks_fraction                                            \\\n",
       "region_x                   BE BE@TST        CH        DE        DK   EE   \n",
       "region_y                                                                  \n",
       "BE                        NaN    0.0  0.000000  0.000000  0.000000  0.0   \n",
       "BE@TST                    0.0    NaN  0.000000  0.000000  0.000000  0.0   \n",
       "CH                        0.0    0.0       NaN  0.000040  0.000000  0.0   \n",
       "DE                        0.0    0.0  0.000116       NaN  0.000000  0.0   \n",
       "DK                        0.0    0.0  0.000000  0.000000       NaN  0.0   \n",
       "EE                        0.0    0.0  0.000000  0.000000  0.000000  NaN   \n",
       "ES                        0.0    0.0  0.000116  0.950886  0.412934  0.0   \n",
       "ES@PRE                    0.0    0.0  0.000000  0.000000  0.000000  0.0   \n",
       "IT                        0.0    0.0  0.000116  0.950886  0.000000  0.0   \n",
       "MT                        0.0    0.0  0.000000  0.000000  0.000000  0.0   \n",
       "PT                        0.0    0.0  0.000000  0.000000  0.000000  0.0   \n",
       "\n",
       "                                               \n",
       "region_x        ES ES@PRE        IT   MT   PT  \n",
       "region_y                                       \n",
       "BE        0.000000    0.0  0.000000  0.0  0.0  \n",
       "BE@TST    0.000000    0.0  0.000000  0.0  0.0  \n",
       "CH        0.000032    0.0  0.000036  0.0  0.0  \n",
       "DE        0.765734    0.0  0.851874  0.0  0.0  \n",
       "DK        0.032646    0.0  0.000000  0.0  0.0  \n",
       "EE        0.000000    0.0  0.000000  0.0  0.0  \n",
       "ES             NaN    0.0  0.988051  0.0  0.0  \n",
       "ES@PRE    0.000000    NaN  0.000000  0.0  0.0  \n",
       "IT        0.888141    0.0       NaN  0.0  0.0  \n",
       "MT        0.000000    0.0  0.000000  NaN  0.0  \n",
       "PT        0.000000    0.0  0.000000  0.0  NaN  "
      ]
     },
     "execution_count": 24,
     "metadata": {},
     "output_type": "execute_result"
    }
   ],
   "source": [
    "def compute_keys_cross_sharing(x):\n",
    "    teks_x = x.key_data_x.item()\n",
    "    common_teks = set(teks_x).intersection(x.key_data_y.item())\n",
    "    common_teks_fraction = len(common_teks) / len(teks_x)\n",
    "    return pd.Series(dict(\n",
    "        common_teks=common_teks,\n",
    "        common_teks_fraction=common_teks_fraction,\n",
    "    ))\n",
    "\n",
    "multi_backend_exposure_keys_by_region_df = \\\n",
    "    multi_backend_exposure_keys_df.groupby(\"region\").key_data.unique().reset_index()\n",
    "multi_backend_exposure_keys_by_region_df[\"_merge\"] = True\n",
    "multi_backend_exposure_keys_by_region_combination_df = \\\n",
    "    multi_backend_exposure_keys_by_region_df.merge(\n",
    "        multi_backend_exposure_keys_by_region_df, on=\"_merge\")\n",
    "multi_backend_exposure_keys_by_region_combination_df.drop(\n",
    "    columns=[\"_merge\"], inplace=True)\n",
    "if multi_backend_exposure_keys_by_region_combination_df.region_x.nunique() > 1:\n",
    "    multi_backend_exposure_keys_by_region_combination_df = \\\n",
    "        multi_backend_exposure_keys_by_region_combination_df[\n",
    "            multi_backend_exposure_keys_by_region_combination_df.region_x !=\n",
    "            multi_backend_exposure_keys_by_region_combination_df.region_y]\n",
    "multi_backend_exposure_keys_cross_sharing_df = \\\n",
    "    multi_backend_exposure_keys_by_region_combination_df \\\n",
    "        .groupby([\"region_x\", \"region_y\"]) \\\n",
    "        .apply(compute_keys_cross_sharing) \\\n",
    "        .reset_index()\n",
    "multi_backend_cross_sharing_summary_df = \\\n",
    "    multi_backend_exposure_keys_cross_sharing_df.pivot_table(\n",
    "        values=[\"common_teks_fraction\"],\n",
    "        columns=\"region_x\",\n",
    "        index=\"region_y\",\n",
    "        aggfunc=lambda x: x.item())\n",
    "multi_backend_cross_sharing_summary_df"
   ]
  },
  {
   "cell_type": "code",
   "execution_count": 25,
   "metadata": {
    "collapsed": false,
    "execution": {
     "iopub.execute_input": "2020-11-14T23:23:17.685006Z",
     "iopub.status.busy": "2020-11-14T23:23:17.684404Z",
     "iopub.status.idle": "2020-11-14T23:23:20.162537Z",
     "shell.execute_reply": "2020-11-14T23:23:20.162030Z"
    },
    "papermill": {
     "duration": 2.564033,
     "end_time": "2020-11-14T23:23:20.162684",
     "exception": false,
     "start_time": "2020-11-14T23:23:17.598651",
     "status": "completed"
    },
    "pycharm": {
     "name": "#%%\n"
    },
    "tags": []
   },
   "outputs": [
    {
     "data": {
      "text/plain": [
       "['BE@TST', 'EE', 'MT', 'PT', 'BE', 'DK', 'ES@PRE', 'CH', 'DE', 'IT']"
      ]
     },
     "execution_count": 25,
     "metadata": {},
     "output_type": "execute_result"
    }
   ],
   "source": [
    "multi_backend_without_active_region_exposure_keys_df = \\\n",
    "    multi_backend_exposure_keys_df[multi_backend_exposure_keys_df.region != report_backend_identifier]\n",
    "multi_backend_without_active_region = \\\n",
    "    multi_backend_without_active_region_exposure_keys_df.groupby(\"region\").key_data.nunique().sort_values().index.unique().tolist()\n",
    "multi_backend_without_active_region"
   ]
  },
  {
   "cell_type": "code",
   "execution_count": 26,
   "metadata": {
    "execution": {
     "iopub.execute_input": "2020-11-14T23:23:20.305692Z",
     "iopub.status.busy": "2020-11-14T23:23:20.304828Z",
     "iopub.status.idle": "2020-11-14T23:23:21.784508Z",
     "shell.execute_reply": "2020-11-14T23:23:21.784004Z"
    },
    "papermill": {
     "duration": 1.569398,
     "end_time": "2020-11-14T23:23:21.784656",
     "exception": false,
     "start_time": "2020-11-14T23:23:20.215258",
     "status": "completed"
    },
    "scrolled": false,
    "tags": []
   },
   "outputs": [
    {
     "name": "stderr",
     "output_type": "stream",
     "text": [
      "/opt/hostedtoolcache/Python/3.8.6/x64/lib/python3.8/site-packages/pandas/core/frame.py:4110: SettingWithCopyWarning: \n",
      "A value is trying to be set on a copy of a slice from a DataFrame\n",
      "\n",
      "See the caveats in the documentation: http://pandas.pydata.org/pandas-docs/stable/user_guide/indexing.html#returning-a-view-versus-a-copy\n",
      "  return super().drop(\n"
     ]
    },
    {
     "data": {
      "text/html": [
       "<div>\n",
       "<style scoped>\n",
       "    .dataframe tbody tr th:only-of-type {\n",
       "        vertical-align: middle;\n",
       "    }\n",
       "\n",
       "    .dataframe tbody tr th {\n",
       "        vertical-align: top;\n",
       "    }\n",
       "\n",
       "    .dataframe thead th {\n",
       "        text-align: right;\n",
       "    }\n",
       "</style>\n",
       "<table border=\"1\" class=\"dataframe\">\n",
       "  <thead>\n",
       "    <tr style=\"text-align: right;\">\n",
       "      <th></th>\n",
       "      <th>shared_teks_by_generation_date</th>\n",
       "    </tr>\n",
       "    <tr>\n",
       "      <th>sample_date_string</th>\n",
       "      <th></th>\n",
       "    </tr>\n",
       "  </thead>\n",
       "  <tbody>\n",
       "    <tr>\n",
       "      <th>2020-11-14</th>\n",
       "      <td>211</td>\n",
       "    </tr>\n",
       "    <tr>\n",
       "      <th>2020-11-13</th>\n",
       "      <td>1922</td>\n",
       "    </tr>\n",
       "    <tr>\n",
       "      <th>2020-11-12</th>\n",
       "      <td>4776</td>\n",
       "    </tr>\n",
       "    <tr>\n",
       "      <th>2020-11-11</th>\n",
       "      <td>7448</td>\n",
       "    </tr>\n",
       "    <tr>\n",
       "      <th>2020-11-10</th>\n",
       "      <td>9997</td>\n",
       "    </tr>\n",
       "  </tbody>\n",
       "</table>\n",
       "</div>"
      ],
      "text/plain": [
       "                    shared_teks_by_generation_date\n",
       "sample_date_string                                \n",
       "2020-11-14                                     211\n",
       "2020-11-13                                    1922\n",
       "2020-11-12                                    4776\n",
       "2020-11-11                                    7448\n",
       "2020-11-10                                    9997"
      ]
     },
     "execution_count": 26,
     "metadata": {},
     "output_type": "execute_result"
    }
   ],
   "source": [
    "exposure_keys_summary_df = multi_backend_exposure_keys_df[\n",
    "    multi_backend_exposure_keys_df.region == report_backend_identifier]\n",
    "exposure_keys_summary_df.drop(columns=[\"region\"], inplace=True)\n",
    "exposure_keys_summary_df = \\\n",
    "    exposure_keys_summary_df.groupby([\"sample_date_string\"]).key_data.nunique().to_frame()\n",
    "exposure_keys_summary_df = \\\n",
    "    exposure_keys_summary_df.reset_index().set_index(\"sample_date_string\")\n",
    "exposure_keys_summary_df.sort_index(ascending=False, inplace=True)\n",
    "exposure_keys_summary_df.rename(columns={\"key_data\": \"shared_teks_by_generation_date\"}, inplace=True)\n",
    "exposure_keys_summary_df.head()"
   ]
  },
  {
   "cell_type": "markdown",
   "metadata": {
    "papermill": {
     "duration": 0.053076,
     "end_time": "2020-11-14T23:23:21.889978",
     "exception": false,
     "start_time": "2020-11-14T23:23:21.836902",
     "status": "completed"
    },
    "tags": []
   },
   "source": [
    "### Dump API TEKs"
   ]
  },
  {
   "cell_type": "code",
   "execution_count": 27,
   "metadata": {
    "execution": {
     "iopub.execute_input": "2020-11-14T23:23:22.007534Z",
     "iopub.status.busy": "2020-11-14T23:23:22.006797Z",
     "iopub.status.idle": "2020-11-14T23:23:24.800837Z",
     "shell.execute_reply": "2020-11-14T23:23:24.801326Z"
    },
    "papermill": {
     "duration": 2.85863,
     "end_time": "2020-11-14T23:23:24.801509",
     "exception": false,
     "start_time": "2020-11-14T23:23:21.942879",
     "status": "completed"
    },
    "tags": []
   },
   "outputs": [
    {
     "data": {
      "text/html": [
       "<div>\n",
       "<style scoped>\n",
       "    .dataframe tbody tr th:only-of-type {\n",
       "        vertical-align: middle;\n",
       "    }\n",
       "\n",
       "    .dataframe tbody tr th {\n",
       "        vertical-align: top;\n",
       "    }\n",
       "\n",
       "    .dataframe thead th {\n",
       "        text-align: right;\n",
       "    }\n",
       "</style>\n",
       "<table border=\"1\" class=\"dataframe\">\n",
       "  <thead>\n",
       "    <tr style=\"text-align: right;\">\n",
       "      <th></th>\n",
       "      <th>sample_date</th>\n",
       "      <th>region</th>\n",
       "      <th>tek_list</th>\n",
       "      <th>extraction_date</th>\n",
       "      <th>extraction_date_with_hour</th>\n",
       "    </tr>\n",
       "  </thead>\n",
       "  <tbody>\n",
       "    <tr>\n",
       "      <th>0</th>\n",
       "      <td>2020-11-01</td>\n",
       "      <td>BE</td>\n",
       "      <td>[00452feb-d482-1ba3-ec69-90cc788f8d49, 0387843...</td>\n",
       "      <td>2020-11-14</td>\n",
       "      <td>2020-11-14@23</td>\n",
       "    </tr>\n",
       "    <tr>\n",
       "      <th>1</th>\n",
       "      <td>2020-11-01</td>\n",
       "      <td>BE@TST</td>\n",
       "      <td>[03921b0f-ea35-494a-2a94-b535c566e79d, 09e033e...</td>\n",
       "      <td>2020-11-14</td>\n",
       "      <td>2020-11-14@23</td>\n",
       "    </tr>\n",
       "    <tr>\n",
       "      <th>2</th>\n",
       "      <td>2020-11-01</td>\n",
       "      <td>CH</td>\n",
       "      <td>[d13b47ed-1c8b-cde5-c9ef-6567e94f751e, a3266dd...</td>\n",
       "      <td>2020-11-14</td>\n",
       "      <td>2020-11-14@23</td>\n",
       "    </tr>\n",
       "    <tr>\n",
       "      <th>3</th>\n",
       "      <td>2020-11-01</td>\n",
       "      <td>DE</td>\n",
       "      <td>[0020b965-e875-5324-f71d-4ad059ad3881, 00321ec...</td>\n",
       "      <td>2020-11-14</td>\n",
       "      <td>2020-11-14@23</td>\n",
       "    </tr>\n",
       "    <tr>\n",
       "      <th>4</th>\n",
       "      <td>2020-11-01</td>\n",
       "      <td>DK</td>\n",
       "      <td>[c946ddf1-09c5-3e21-fcb1-25a77db99537, bdf6f78...</td>\n",
       "      <td>2020-11-14</td>\n",
       "      <td>2020-11-14@23</td>\n",
       "    </tr>\n",
       "  </tbody>\n",
       "</table>\n",
       "</div>"
      ],
      "text/plain": [
       "  sample_date  region                                           tek_list  \\\n",
       "0  2020-11-01      BE  [00452feb-d482-1ba3-ec69-90cc788f8d49, 0387843...   \n",
       "1  2020-11-01  BE@TST  [03921b0f-ea35-494a-2a94-b535c566e79d, 09e033e...   \n",
       "2  2020-11-01      CH  [d13b47ed-1c8b-cde5-c9ef-6567e94f751e, a3266dd...   \n",
       "3  2020-11-01      DE  [0020b965-e875-5324-f71d-4ad059ad3881, 00321ec...   \n",
       "4  2020-11-01      DK  [c946ddf1-09c5-3e21-fcb1-25a77db99537, bdf6f78...   \n",
       "\n",
       "  extraction_date extraction_date_with_hour  \n",
       "0      2020-11-14             2020-11-14@23  \n",
       "1      2020-11-14             2020-11-14@23  \n",
       "2      2020-11-14             2020-11-14@23  \n",
       "3      2020-11-14             2020-11-14@23  \n",
       "4      2020-11-14             2020-11-14@23  "
      ]
     },
     "execution_count": 27,
     "metadata": {},
     "output_type": "execute_result"
    }
   ],
   "source": [
    "tek_list_df = multi_backend_exposure_keys_df[\n",
    "    [\"sample_date_string\", \"region\", \"key_data\"]].copy()\n",
    "tek_list_df[\"key_data\"] = tek_list_df[\"key_data\"].apply(str)\n",
    "tek_list_df.rename(columns={\n",
    "    \"sample_date_string\": \"sample_date\",\n",
    "    \"key_data\": \"tek_list\"}, inplace=True)\n",
    "tek_list_df = tek_list_df.groupby(\n",
    "    [\"sample_date\", \"region\"]).tek_list.unique().reset_index()\n",
    "tek_list_df[\"extraction_date\"] = extraction_date\n",
    "tek_list_df[\"extraction_date_with_hour\"] = extraction_date_with_hour\n",
    "\n",
    "tek_list_path_prefix = \"Data/TEKs/\"\n",
    "tek_list_current_path = tek_list_path_prefix + f\"/Current/RadarCOVID-TEKs.json\"\n",
    "tek_list_daily_path = tek_list_path_prefix + f\"Daily/RadarCOVID-TEKs-{extraction_date}.json\"\n",
    "tek_list_hourly_path = tek_list_path_prefix + f\"Hourly/RadarCOVID-TEKs-{extraction_date_with_hour}.json\"\n",
    "\n",
    "for path in [tek_list_current_path, tek_list_daily_path, tek_list_hourly_path]:\n",
    "    os.makedirs(os.path.dirname(path), exist_ok=True)\n",
    "\n",
    "tek_list_df.drop(columns=[\"extraction_date\", \"extraction_date_with_hour\"]).to_json(\n",
    "    tek_list_current_path,\n",
    "    lines=True, orient=\"records\")\n",
    "tek_list_df.drop(columns=[\"extraction_date_with_hour\"]).to_json(\n",
    "    tek_list_daily_path,\n",
    "    lines=True, orient=\"records\")\n",
    "tek_list_df.to_json(\n",
    "    tek_list_hourly_path,\n",
    "    lines=True, orient=\"records\")\n",
    "tek_list_df.head()"
   ]
  },
  {
   "cell_type": "markdown",
   "metadata": {
    "papermill": {
     "duration": 0.051657,
     "end_time": "2020-11-14T23:23:24.908717",
     "exception": false,
     "start_time": "2020-11-14T23:23:24.857060",
     "status": "completed"
    },
    "tags": []
   },
   "source": [
    "### Load TEK Dumps"
   ]
  },
  {
   "cell_type": "code",
   "execution_count": 28,
   "metadata": {
    "execution": {
     "iopub.execute_input": "2020-11-14T23:23:25.019572Z",
     "iopub.status.busy": "2020-11-14T23:23:25.018891Z",
     "iopub.status.idle": "2020-11-14T23:23:25.021194Z",
     "shell.execute_reply": "2020-11-14T23:23:25.021779Z"
    },
    "papermill": {
     "duration": 0.061771,
     "end_time": "2020-11-14T23:23:25.021941",
     "exception": false,
     "start_time": "2020-11-14T23:23:24.960170",
     "status": "completed"
    },
    "tags": []
   },
   "outputs": [],
   "source": [
    "import glob\n",
    "\n",
    "def load_extracted_teks(mode, region=None, limit=None) -> pd.DataFrame:\n",
    "    extracted_teks_df = pd.DataFrame(columns=[\"region\"])\n",
    "    file_paths = list(reversed(sorted(glob.glob(tek_list_path_prefix + mode + \"/RadarCOVID-TEKs-*.json\"))))\n",
    "    if limit:\n",
    "        file_paths = file_paths[:limit]\n",
    "    for file_path in file_paths:\n",
    "        logging.info(f\"Loading TEKs from '{file_path}'...\")\n",
    "        iteration_extracted_teks_df = pd.read_json(file_path, lines=True)\n",
    "        extracted_teks_df = extracted_teks_df.append(\n",
    "            iteration_extracted_teks_df, sort=False)\n",
    "    extracted_teks_df[\"region\"] = \\\n",
    "        extracted_teks_df.region.fillna(spain_region_country_code).copy()\n",
    "    if region:\n",
    "        extracted_teks_df = \\\n",
    "            extracted_teks_df[extracted_teks_df.region == region]\n",
    "    return extracted_teks_df"
   ]
  },
  {
   "cell_type": "code",
   "execution_count": 29,
   "metadata": {
    "collapsed": false,
    "execution": {
     "iopub.execute_input": "2020-11-14T23:23:25.159885Z",
     "iopub.status.busy": "2020-11-14T23:23:25.159244Z",
     "iopub.status.idle": "2020-11-14T23:23:29.857435Z",
     "shell.execute_reply": "2020-11-14T23:23:29.857909Z"
    },
    "papermill": {
     "duration": 4.760877,
     "end_time": "2020-11-14T23:23:29.858103",
     "exception": false,
     "start_time": "2020-11-14T23:23:25.097226",
     "status": "completed"
    },
    "pycharm": {
     "name": "#%%\n"
    },
    "tags": []
   },
   "outputs": [
    {
     "data": {
      "text/html": [
       "<div>\n",
       "<style scoped>\n",
       "    .dataframe tbody tr th:only-of-type {\n",
       "        vertical-align: middle;\n",
       "    }\n",
       "\n",
       "    .dataframe tbody tr th {\n",
       "        vertical-align: top;\n",
       "    }\n",
       "\n",
       "    .dataframe thead th {\n",
       "        text-align: right;\n",
       "    }\n",
       "</style>\n",
       "<table border=\"1\" class=\"dataframe\">\n",
       "  <thead>\n",
       "    <tr style=\"text-align: right;\">\n",
       "      <th></th>\n",
       "      <th>region</th>\n",
       "      <th>sample_date</th>\n",
       "      <th>tek_list</th>\n",
       "      <th>extraction_date</th>\n",
       "      <th>extraction_date_with_hour</th>\n",
       "    </tr>\n",
       "  </thead>\n",
       "  <tbody>\n",
       "    <tr>\n",
       "      <th>6</th>\n",
       "      <td>ES</td>\n",
       "      <td>2020-11-01</td>\n",
       "      <td>[c62e146d-80cd-7e74-9233-7efa5f66cfdb, 9d1f2f8...</td>\n",
       "      <td>2020-11-14</td>\n",
       "      <td>NaN</td>\n",
       "    </tr>\n",
       "    <tr>\n",
       "      <th>17</th>\n",
       "      <td>ES</td>\n",
       "      <td>2020-11-02</td>\n",
       "      <td>[beb79694-723f-04ca-57cc-e572afae4d3d, b52d9fb...</td>\n",
       "      <td>2020-11-14</td>\n",
       "      <td>NaN</td>\n",
       "    </tr>\n",
       "    <tr>\n",
       "      <th>28</th>\n",
       "      <td>ES</td>\n",
       "      <td>2020-11-03</td>\n",
       "      <td>[c82b1637-d436-414e-f179-9425882f4b2e, c72b0d3...</td>\n",
       "      <td>2020-11-14</td>\n",
       "      <td>NaN</td>\n",
       "    </tr>\n",
       "    <tr>\n",
       "      <th>39</th>\n",
       "      <td>ES</td>\n",
       "      <td>2020-11-04</td>\n",
       "      <td>[90d0aa95-6413-e8a9-9aae-cb002888980e, 68674f8...</td>\n",
       "      <td>2020-11-14</td>\n",
       "      <td>NaN</td>\n",
       "    </tr>\n",
       "    <tr>\n",
       "      <th>50</th>\n",
       "      <td>ES</td>\n",
       "      <td>2020-11-05</td>\n",
       "      <td>[c6004831-51a3-e9d9-febd-f87b71052d60, 2205cd4...</td>\n",
       "      <td>2020-11-14</td>\n",
       "      <td>NaN</td>\n",
       "    </tr>\n",
       "  </tbody>\n",
       "</table>\n",
       "</div>"
      ],
      "text/plain": [
       "   region sample_date                                           tek_list  \\\n",
       "6      ES  2020-11-01  [c62e146d-80cd-7e74-9233-7efa5f66cfdb, 9d1f2f8...   \n",
       "17     ES  2020-11-02  [beb79694-723f-04ca-57cc-e572afae4d3d, b52d9fb...   \n",
       "28     ES  2020-11-03  [c82b1637-d436-414e-f179-9425882f4b2e, c72b0d3...   \n",
       "39     ES  2020-11-04  [90d0aa95-6413-e8a9-9aae-cb002888980e, 68674f8...   \n",
       "50     ES  2020-11-05  [c6004831-51a3-e9d9-febd-f87b71052d60, 2205cd4...   \n",
       "\n",
       "   extraction_date extraction_date_with_hour  \n",
       "6       2020-11-14                       NaN  \n",
       "17      2020-11-14                       NaN  \n",
       "28      2020-11-14                       NaN  \n",
       "39      2020-11-14                       NaN  \n",
       "50      2020-11-14                       NaN  "
      ]
     },
     "execution_count": 29,
     "metadata": {},
     "output_type": "execute_result"
    }
   ],
   "source": [
    "daily_extracted_teks_df = load_extracted_teks(\n",
    "    mode=\"Daily\",\n",
    "    region=report_backend_identifier,\n",
    "    limit=tek_dumps_load_limit)\n",
    "daily_extracted_teks_df.head()"
   ]
  },
  {
   "cell_type": "code",
   "execution_count": 30,
   "metadata": {
    "collapsed": false,
    "execution": {
     "iopub.execute_input": "2020-11-14T23:23:29.972352Z",
     "iopub.status.busy": "2020-11-14T23:23:29.971715Z",
     "iopub.status.idle": "2020-11-14T23:23:29.987599Z",
     "shell.execute_reply": "2020-11-14T23:23:29.988163Z"
    },
    "papermill": {
     "duration": 0.076037,
     "end_time": "2020-11-14T23:23:29.988384",
     "exception": false,
     "start_time": "2020-11-14T23:23:29.912347",
     "status": "completed"
    },
    "pycharm": {
     "name": "#%%\n"
    },
    "tags": []
   },
   "outputs": [
    {
     "data": {
      "text/html": [
       "<div>\n",
       "<style scoped>\n",
       "    .dataframe tbody tr th:only-of-type {\n",
       "        vertical-align: middle;\n",
       "    }\n",
       "\n",
       "    .dataframe tbody tr th {\n",
       "        vertical-align: top;\n",
       "    }\n",
       "\n",
       "    .dataframe thead th {\n",
       "        text-align: right;\n",
       "    }\n",
       "</style>\n",
       "<table border=\"1\" class=\"dataframe\">\n",
       "  <thead>\n",
       "    <tr style=\"text-align: right;\">\n",
       "      <th></th>\n",
       "      <th>shared_teks_by_generation_date</th>\n",
       "    </tr>\n",
       "    <tr>\n",
       "      <th>sample_date_string</th>\n",
       "      <th></th>\n",
       "    </tr>\n",
       "  </thead>\n",
       "  <tbody>\n",
       "    <tr>\n",
       "      <th>2020-11-14</th>\n",
       "      <td>211</td>\n",
       "    </tr>\n",
       "    <tr>\n",
       "      <th>2020-11-13</th>\n",
       "      <td>1922</td>\n",
       "    </tr>\n",
       "    <tr>\n",
       "      <th>2020-11-12</th>\n",
       "      <td>4776</td>\n",
       "    </tr>\n",
       "    <tr>\n",
       "      <th>2020-11-11</th>\n",
       "      <td>7448</td>\n",
       "    </tr>\n",
       "    <tr>\n",
       "      <th>2020-11-10</th>\n",
       "      <td>9997</td>\n",
       "    </tr>\n",
       "  </tbody>\n",
       "</table>\n",
       "</div>"
      ],
      "text/plain": [
       "                    shared_teks_by_generation_date\n",
       "sample_date_string                                \n",
       "2020-11-14                                     211\n",
       "2020-11-13                                    1922\n",
       "2020-11-12                                    4776\n",
       "2020-11-11                                    7448\n",
       "2020-11-10                                    9997"
      ]
     },
     "execution_count": 30,
     "metadata": {},
     "output_type": "execute_result"
    }
   ],
   "source": [
    "exposure_keys_summary_df_ = daily_extracted_teks_df \\\n",
    "    .sort_values(\"extraction_date\", ascending=False) \\\n",
    "    .groupby(\"sample_date\").tek_list.first() \\\n",
    "    .to_frame()\n",
    "exposure_keys_summary_df_.index.name = \"sample_date_string\"\n",
    "exposure_keys_summary_df_[\"tek_list\"] = \\\n",
    "    exposure_keys_summary_df_.tek_list.apply(len)\n",
    "exposure_keys_summary_df_ = exposure_keys_summary_df_ \\\n",
    "    .rename(columns={\"tek_list\": \"shared_teks_by_generation_date\"}) \\\n",
    "    .sort_index(ascending=False)\n",
    "exposure_keys_summary_df = exposure_keys_summary_df_\n",
    "exposure_keys_summary_df.head()"
   ]
  },
  {
   "cell_type": "markdown",
   "metadata": {
    "execution": {
     "iopub.execute_input": "2020-08-30T22:30:16.632967Z",
     "iopub.status.busy": "2020-08-30T22:30:16.632308Z",
     "iopub.status.idle": "2020-08-30T22:30:16.634945Z",
     "shell.execute_reply": "2020-08-30T22:30:16.635575Z"
    },
    "papermill": {
     "duration": 0.054347,
     "end_time": "2020-11-14T23:23:30.099237",
     "exception": false,
     "start_time": "2020-11-14T23:23:30.044890",
     "status": "completed"
    },
    "pycharm": {
     "name": "#%% md\n"
    },
    "tags": []
   },
   "source": [
    "### Daily New TEKs"
   ]
  },
  {
   "cell_type": "code",
   "execution_count": 31,
   "metadata": {
    "execution": {
     "iopub.execute_input": "2020-11-14T23:23:30.220090Z",
     "iopub.status.busy": "2020-11-14T23:23:30.219442Z",
     "iopub.status.idle": "2020-11-14T23:23:30.850710Z",
     "shell.execute_reply": "2020-11-14T23:23:30.851254Z"
    },
    "papermill": {
     "duration": 0.694945,
     "end_time": "2020-11-14T23:23:30.851447",
     "exception": false,
     "start_time": "2020-11-14T23:23:30.156502",
     "status": "completed"
    },
    "tags": []
   },
   "outputs": [
    {
     "data": {
      "text/html": [
       "<div>\n",
       "<style scoped>\n",
       "    .dataframe tbody tr th:only-of-type {\n",
       "        vertical-align: middle;\n",
       "    }\n",
       "\n",
       "    .dataframe tbody tr th {\n",
       "        vertical-align: top;\n",
       "    }\n",
       "\n",
       "    .dataframe thead th {\n",
       "        text-align: right;\n",
       "    }\n",
       "</style>\n",
       "<table border=\"1\" class=\"dataframe\">\n",
       "  <thead>\n",
       "    <tr style=\"text-align: right;\">\n",
       "      <th></th>\n",
       "      <th>tek_list</th>\n",
       "    </tr>\n",
       "    <tr>\n",
       "      <th>extraction_date</th>\n",
       "      <th></th>\n",
       "    </tr>\n",
       "  </thead>\n",
       "  <tbody>\n",
       "    <tr>\n",
       "      <th>2020-08-29</th>\n",
       "      <td>{64a4f810-38f3-c404-c579-06936fe5f375, af3e664...</td>\n",
       "    </tr>\n",
       "    <tr>\n",
       "      <th>2020-08-30</th>\n",
       "      <td>{64a4f810-38f3-c404-c579-06936fe5f375, af3e664...</td>\n",
       "    </tr>\n",
       "    <tr>\n",
       "      <th>2020-08-31</th>\n",
       "      <td>{64a4f810-38f3-c404-c579-06936fe5f375, af3e664...</td>\n",
       "    </tr>\n",
       "    <tr>\n",
       "      <th>2020-09-01</th>\n",
       "      <td>{64a4f810-38f3-c404-c579-06936fe5f375, af3e664...</td>\n",
       "    </tr>\n",
       "    <tr>\n",
       "      <th>2020-09-02</th>\n",
       "      <td>{64a4f810-38f3-c404-c579-06936fe5f375, af3e664...</td>\n",
       "    </tr>\n",
       "  </tbody>\n",
       "</table>\n",
       "</div>"
      ],
      "text/plain": [
       "                                                          tek_list\n",
       "extraction_date                                                   \n",
       "2020-08-29       {64a4f810-38f3-c404-c579-06936fe5f375, af3e664...\n",
       "2020-08-30       {64a4f810-38f3-c404-c579-06936fe5f375, af3e664...\n",
       "2020-08-31       {64a4f810-38f3-c404-c579-06936fe5f375, af3e664...\n",
       "2020-09-01       {64a4f810-38f3-c404-c579-06936fe5f375, af3e664...\n",
       "2020-09-02       {64a4f810-38f3-c404-c579-06936fe5f375, af3e664..."
      ]
     },
     "execution_count": 31,
     "metadata": {},
     "output_type": "execute_result"
    }
   ],
   "source": [
    "tek_list_df = daily_extracted_teks_df.groupby(\"extraction_date\").tek_list.apply(\n",
    "    lambda x: set(sum(x, []))).reset_index()\n",
    "tek_list_df = tek_list_df.set_index(\"extraction_date\").sort_index(ascending=True)\n",
    "tek_list_df.head()"
   ]
  },
  {
   "cell_type": "code",
   "execution_count": 32,
   "metadata": {
    "collapsed": false,
    "execution": {
     "iopub.execute_input": "2020-11-14T23:23:30.974951Z",
     "iopub.status.busy": "2020-11-14T23:23:30.974283Z",
     "iopub.status.idle": "2020-11-14T23:23:59.141731Z",
     "shell.execute_reply": "2020-11-14T23:23:59.142236Z"
    },
    "papermill": {
     "duration": 28.234864,
     "end_time": "2020-11-14T23:23:59.142437",
     "exception": false,
     "start_time": "2020-11-14T23:23:30.907573",
     "status": "completed"
    },
    "pycharm": {
     "name": "#%%\n"
    },
    "tags": []
   },
   "outputs": [
    {
     "name": "stderr",
     "output_type": "stream",
     "text": [
      "<ipython-input-32-827222b35590>:4: FutureWarning: `item` has been deprecated and will be removed in a future version\n",
      "  day_new_teks_set = day_new_teks_set_df[\n"
     ]
    },
    {
     "data": {
      "text/html": [
       "<div>\n",
       "<style scoped>\n",
       "    .dataframe tbody tr th:only-of-type {\n",
       "        vertical-align: middle;\n",
       "    }\n",
       "\n",
       "    .dataframe tbody tr th {\n",
       "        vertical-align: top;\n",
       "    }\n",
       "\n",
       "    .dataframe thead th {\n",
       "        text-align: right;\n",
       "    }\n",
       "</style>\n",
       "<table border=\"1\" class=\"dataframe\">\n",
       "  <thead>\n",
       "    <tr style=\"text-align: right;\">\n",
       "      <th></th>\n",
       "      <th>upload_date</th>\n",
       "      <th>generation_date</th>\n",
       "      <th>shared_teks</th>\n",
       "      <th>generation_to_upload_days</th>\n",
       "    </tr>\n",
       "  </thead>\n",
       "  <tbody>\n",
       "    <tr>\n",
       "      <th>10</th>\n",
       "      <td>2020-08-30</td>\n",
       "      <td>2020-08-29</td>\n",
       "      <td>16</td>\n",
       "      <td>1</td>\n",
       "    </tr>\n",
       "    <tr>\n",
       "      <th>9</th>\n",
       "      <td>2020-08-30</td>\n",
       "      <td>2020-08-28</td>\n",
       "      <td>5</td>\n",
       "      <td>2</td>\n",
       "    </tr>\n",
       "    <tr>\n",
       "      <th>8</th>\n",
       "      <td>2020-08-30</td>\n",
       "      <td>2020-08-27</td>\n",
       "      <td>3</td>\n",
       "      <td>3</td>\n",
       "    </tr>\n",
       "    <tr>\n",
       "      <th>7</th>\n",
       "      <td>2020-08-30</td>\n",
       "      <td>2020-08-26</td>\n",
       "      <td>3</td>\n",
       "      <td>4</td>\n",
       "    </tr>\n",
       "    <tr>\n",
       "      <th>6</th>\n",
       "      <td>2020-08-30</td>\n",
       "      <td>2020-08-25</td>\n",
       "      <td>2</td>\n",
       "      <td>5</td>\n",
       "    </tr>\n",
       "  </tbody>\n",
       "</table>\n",
       "</div>"
      ],
      "text/plain": [
       "   upload_date generation_date  shared_teks  generation_to_upload_days\n",
       "10  2020-08-30      2020-08-29           16                          1\n",
       "9   2020-08-30      2020-08-28            5                          2\n",
       "8   2020-08-30      2020-08-27            3                          3\n",
       "7   2020-08-30      2020-08-26            3                          4\n",
       "6   2020-08-30      2020-08-25            2                          5"
      ]
     },
     "execution_count": 32,
     "metadata": {},
     "output_type": "execute_result"
    }
   ],
   "source": [
    "def compute_teks_by_generation_and_upload_date(date):\n",
    "    day_new_teks_set_df = tek_list_df.copy().diff()\n",
    "    try:\n",
    "        day_new_teks_set = day_new_teks_set_df[\n",
    "            day_new_teks_set_df.index == date].tek_list.item()\n",
    "    except ValueError:\n",
    "        day_new_teks_set = None\n",
    "    if pd.isna(day_new_teks_set):\n",
    "        day_new_teks_set = set()\n",
    "    day_new_teks_df = daily_extracted_teks_df[\n",
    "        daily_extracted_teks_df.extraction_date == date].copy()\n",
    "    day_new_teks_df[\"shared_teks\"] = \\\n",
    "        day_new_teks_df.tek_list.apply(lambda x: set(x).intersection(day_new_teks_set))\n",
    "    day_new_teks_df[\"shared_teks\"] = \\\n",
    "        day_new_teks_df.shared_teks.apply(len)\n",
    "    day_new_teks_df[\"upload_date\"] = date\n",
    "    day_new_teks_df.rename(columns={\"sample_date\": \"generation_date\"}, inplace=True)\n",
    "    day_new_teks_df = day_new_teks_df[\n",
    "        [\"upload_date\", \"generation_date\", \"shared_teks\"]]\n",
    "    day_new_teks_df[\"generation_to_upload_days\"] = \\\n",
    "        (pd.to_datetime(day_new_teks_df.upload_date) -\n",
    "         pd.to_datetime(day_new_teks_df.generation_date)).dt.days\n",
    "    day_new_teks_df = day_new_teks_df[day_new_teks_df.shared_teks > 0]\n",
    "    return day_new_teks_df\n",
    "\n",
    "shared_teks_generation_to_upload_df = pd.DataFrame()\n",
    "for upload_date in daily_extracted_teks_df.extraction_date.unique():\n",
    "    shared_teks_generation_to_upload_df = \\\n",
    "        shared_teks_generation_to_upload_df.append(\n",
    "            compute_teks_by_generation_and_upload_date(date=upload_date))\n",
    "shared_teks_generation_to_upload_df \\\n",
    "    .sort_values([\"upload_date\", \"generation_date\"], ascending=False, inplace=True)\n",
    "shared_teks_generation_to_upload_df.tail()"
   ]
  },
  {
   "cell_type": "code",
   "execution_count": 33,
   "metadata": {
    "collapsed": false,
    "execution": {
     "iopub.execute_input": "2020-11-14T23:23:59.272535Z",
     "iopub.status.busy": "2020-11-14T23:23:59.271899Z",
     "iopub.status.idle": "2020-11-14T23:23:59.275105Z",
     "shell.execute_reply": "2020-11-14T23:23:59.275655Z"
    },
    "papermill": {
     "duration": 0.073328,
     "end_time": "2020-11-14T23:23:59.275850",
     "exception": false,
     "start_time": "2020-11-14T23:23:59.202522",
     "status": "completed"
    },
    "pycharm": {
     "name": "#%%\n"
    },
    "tags": []
   },
   "outputs": [
    {
     "data": {
      "text/html": [
       "<div>\n",
       "<style scoped>\n",
       "    .dataframe tbody tr th:only-of-type {\n",
       "        vertical-align: middle;\n",
       "    }\n",
       "\n",
       "    .dataframe tbody tr th {\n",
       "        vertical-align: top;\n",
       "    }\n",
       "\n",
       "    .dataframe thead th {\n",
       "        text-align: right;\n",
       "    }\n",
       "</style>\n",
       "<table border=\"1\" class=\"dataframe\">\n",
       "  <thead>\n",
       "    <tr style=\"text-align: right;\">\n",
       "      <th></th>\n",
       "      <th>upload_date</th>\n",
       "      <th>generation_date</th>\n",
       "      <th>shared_teks</th>\n",
       "      <th>generation_to_upload_days</th>\n",
       "    </tr>\n",
       "  </thead>\n",
       "  <tbody>\n",
       "    <tr>\n",
       "      <th>50</th>\n",
       "      <td>2020-11-14</td>\n",
       "      <td>2020-11-05</td>\n",
       "      <td>1613</td>\n",
       "      <td>9</td>\n",
       "    </tr>\n",
       "    <tr>\n",
       "      <th>39</th>\n",
       "      <td>2020-11-14</td>\n",
       "      <td>2020-11-04</td>\n",
       "      <td>1573</td>\n",
       "      <td>10</td>\n",
       "    </tr>\n",
       "    <tr>\n",
       "      <th>28</th>\n",
       "      <td>2020-11-14</td>\n",
       "      <td>2020-11-03</td>\n",
       "      <td>1534</td>\n",
       "      <td>11</td>\n",
       "    </tr>\n",
       "    <tr>\n",
       "      <th>17</th>\n",
       "      <td>2020-11-14</td>\n",
       "      <td>2020-11-02</td>\n",
       "      <td>1502</td>\n",
       "      <td>12</td>\n",
       "    </tr>\n",
       "    <tr>\n",
       "      <th>6</th>\n",
       "      <td>2020-11-14</td>\n",
       "      <td>2020-11-01</td>\n",
       "      <td>1475</td>\n",
       "      <td>13</td>\n",
       "    </tr>\n",
       "  </tbody>\n",
       "</table>\n",
       "</div>"
      ],
      "text/plain": [
       "   upload_date generation_date  shared_teks  generation_to_upload_days\n",
       "50  2020-11-14      2020-11-05         1613                          9\n",
       "39  2020-11-14      2020-11-04         1573                         10\n",
       "28  2020-11-14      2020-11-03         1534                         11\n",
       "17  2020-11-14      2020-11-02         1502                         12\n",
       "6   2020-11-14      2020-11-01         1475                         13"
      ]
     },
     "execution_count": 33,
     "metadata": {},
     "output_type": "execute_result"
    }
   ],
   "source": [
    "today_new_teks_df = \\\n",
    "    shared_teks_generation_to_upload_df[\n",
    "        shared_teks_generation_to_upload_df.upload_date == extraction_date].copy()\n",
    "today_new_teks_df.tail()"
   ]
  },
  {
   "cell_type": "code",
   "execution_count": 34,
   "metadata": {
    "collapsed": false,
    "execution": {
     "iopub.execute_input": "2020-11-14T23:23:59.399718Z",
     "iopub.status.busy": "2020-11-14T23:23:59.398904Z",
     "iopub.status.idle": "2020-11-14T23:23:59.825636Z",
     "shell.execute_reply": "2020-11-14T23:23:59.826487Z"
    },
    "papermill": {
     "duration": 0.493108,
     "end_time": "2020-11-14T23:23:59.826691",
     "exception": false,
     "start_time": "2020-11-14T23:23:59.333583",
     "status": "completed"
    },
    "pycharm": {
     "name": "#%%\n"
    },
    "tags": []
   },
   "outputs": [
    {
     "data": {
      "image/png": "[encoded data removed]",
      "text/plain": [
       "<Figure size 1080x432 with 1 Axes>"
      ]
     },
     "metadata": {},
     "output_type": "display_data"
    }
   ],
   "source": [
    "if not today_new_teks_df.empty:\n",
    "    today_new_teks_df.set_index(\"generation_to_upload_days\") \\\n",
    "        .sort_index().shared_teks.plot.bar()"
   ]
  },
  {
   "cell_type": "code",
   "execution_count": 35,
   "metadata": {
    "collapsed": false,
    "execution": {
     "iopub.execute_input": "2020-11-14T23:23:59.955131Z",
     "iopub.status.busy": "2020-11-14T23:23:59.954425Z",
     "iopub.status.idle": "2020-11-14T23:23:59.979298Z",
     "shell.execute_reply": "2020-11-14T23:23:59.979886Z"
    },
    "papermill": {
     "duration": 0.093189,
     "end_time": "2020-11-14T23:23:59.980088",
     "exception": false,
     "start_time": "2020-11-14T23:23:59.886899",
     "status": "completed"
    },
    "pycharm": {
     "name": "#%%\n"
    },
    "tags": []
   },
   "outputs": [
    {
     "data": {
      "text/html": [
       "<div>\n",
       "<style scoped>\n",
       "    .dataframe tbody tr th:only-of-type {\n",
       "        vertical-align: middle;\n",
       "    }\n",
       "\n",
       "    .dataframe tbody tr th {\n",
       "        vertical-align: top;\n",
       "    }\n",
       "\n",
       "    .dataframe thead th {\n",
       "        text-align: right;\n",
       "    }\n",
       "</style>\n",
       "<table border=\"1\" class=\"dataframe\">\n",
       "  <thead>\n",
       "    <tr style=\"text-align: right;\">\n",
       "      <th>generation_to_upload_days</th>\n",
       "      <th>0</th>\n",
       "      <th>1</th>\n",
       "      <th>2</th>\n",
       "      <th>3</th>\n",
       "      <th>4</th>\n",
       "      <th>5</th>\n",
       "      <th>6</th>\n",
       "      <th>7</th>\n",
       "      <th>8</th>\n",
       "      <th>9</th>\n",
       "      <th>10</th>\n",
       "      <th>11</th>\n",
       "      <th>12</th>\n",
       "      <th>13</th>\n",
       "    </tr>\n",
       "    <tr>\n",
       "      <th>upload_date</th>\n",
       "      <th></th>\n",
       "      <th></th>\n",
       "      <th></th>\n",
       "      <th></th>\n",
       "      <th></th>\n",
       "      <th></th>\n",
       "      <th></th>\n",
       "      <th></th>\n",
       "      <th></th>\n",
       "      <th></th>\n",
       "      <th></th>\n",
       "      <th></th>\n",
       "      <th></th>\n",
       "      <th></th>\n",
       "    </tr>\n",
       "  </thead>\n",
       "  <tbody>\n",
       "    <tr>\n",
       "      <th>2020-11-14</th>\n",
       "      <td>211</td>\n",
       "      <td>1616</td>\n",
       "      <td>2281</td>\n",
       "      <td>2074</td>\n",
       "      <td>1947</td>\n",
       "      <td>1842</td>\n",
       "      <td>1765</td>\n",
       "      <td>1710</td>\n",
       "      <td>1655</td>\n",
       "      <td>1613</td>\n",
       "      <td>1573</td>\n",
       "      <td>1534</td>\n",
       "      <td>1502</td>\n",
       "      <td>1475</td>\n",
       "    </tr>\n",
       "    <tr>\n",
       "      <th>2020-11-13</th>\n",
       "      <td>306</td>\n",
       "      <td>2178</td>\n",
       "      <td>2890</td>\n",
       "      <td>2669</td>\n",
       "      <td>2521</td>\n",
       "      <td>2378</td>\n",
       "      <td>2281</td>\n",
       "      <td>2224</td>\n",
       "      <td>2163</td>\n",
       "      <td>2110</td>\n",
       "      <td>2066</td>\n",
       "      <td>2025</td>\n",
       "      <td>1970</td>\n",
       "      <td>1948</td>\n",
       "    </tr>\n",
       "    <tr>\n",
       "      <th>2020-11-12</th>\n",
       "      <td>317</td>\n",
       "      <td>2184</td>\n",
       "      <td>3205</td>\n",
       "      <td>2915</td>\n",
       "      <td>2701</td>\n",
       "      <td>2606</td>\n",
       "      <td>2490</td>\n",
       "      <td>2410</td>\n",
       "      <td>2319</td>\n",
       "      <td>2236</td>\n",
       "      <td>2183</td>\n",
       "      <td>2113</td>\n",
       "      <td>2074</td>\n",
       "      <td>2039</td>\n",
       "    </tr>\n",
       "    <tr>\n",
       "      <th>2020-11-11</th>\n",
       "      <td>300</td>\n",
       "      <td>1884</td>\n",
       "      <td>3029</td>\n",
       "      <td>2726</td>\n",
       "      <td>2628</td>\n",
       "      <td>2523</td>\n",
       "      <td>2420</td>\n",
       "      <td>2318</td>\n",
       "      <td>2240</td>\n",
       "      <td>2172</td>\n",
       "      <td>2116</td>\n",
       "      <td>2072</td>\n",
       "      <td>2027</td>\n",
       "      <td>1990</td>\n",
       "    </tr>\n",
       "    <tr>\n",
       "      <th>2020-11-10</th>\n",
       "      <td>292</td>\n",
       "      <td>1466</td>\n",
       "      <td>2086</td>\n",
       "      <td>2003</td>\n",
       "      <td>1908</td>\n",
       "      <td>1781</td>\n",
       "      <td>1667</td>\n",
       "      <td>1569</td>\n",
       "      <td>1505</td>\n",
       "      <td>1455</td>\n",
       "      <td>1409</td>\n",
       "      <td>1374</td>\n",
       "      <td>1350</td>\n",
       "      <td>1298</td>\n",
       "    </tr>\n",
       "  </tbody>\n",
       "</table>\n",
       "</div>"
      ],
      "text/plain": [
       "generation_to_upload_days   0     1     2     3     4     5     6     7   \\\n",
       "upload_date                                                                \n",
       "2020-11-14                 211  1616  2281  2074  1947  1842  1765  1710   \n",
       "2020-11-13                 306  2178  2890  2669  2521  2378  2281  2224   \n",
       "2020-11-12                 317  2184  3205  2915  2701  2606  2490  2410   \n",
       "2020-11-11                 300  1884  3029  2726  2628  2523  2420  2318   \n",
       "2020-11-10                 292  1466  2086  2003  1908  1781  1667  1569   \n",
       "\n",
       "generation_to_upload_days    8     9     10    11    12    13  \n",
       "upload_date                                                    \n",
       "2020-11-14                 1655  1613  1573  1534  1502  1475  \n",
       "2020-11-13                 2163  2110  2066  2025  1970  1948  \n",
       "2020-11-12                 2319  2236  2183  2113  2074  2039  \n",
       "2020-11-11                 2240  2172  2116  2072  2027  1990  \n",
       "2020-11-10                 1505  1455  1409  1374  1350  1298  "
      ]
     },
     "execution_count": 35,
     "metadata": {},
     "output_type": "execute_result"
    }
   ],
   "source": [
    "generation_to_upload_period_pivot_df = \\\n",
    "    shared_teks_generation_to_upload_df[\n",
    "        [\"upload_date\", \"generation_to_upload_days\", \"shared_teks\"]] \\\n",
    "        .pivot(index=\"upload_date\", columns=\"generation_to_upload_days\") \\\n",
    "        .sort_index(ascending=False).fillna(0).astype(int) \\\n",
    "        .droplevel(level=0, axis=1)\n",
    "generation_to_upload_period_pivot_df.head()"
   ]
  },
  {
   "cell_type": "code",
   "execution_count": 36,
   "metadata": {
    "collapsed": false,
    "execution": {
     "iopub.execute_input": "2020-11-14T23:24:00.459370Z",
     "iopub.status.busy": "2020-11-14T23:24:00.458119Z",
     "iopub.status.idle": "2020-11-14T23:24:00.461588Z",
     "shell.execute_reply": "2020-11-14T23:24:00.462294Z"
    },
    "papermill": {
     "duration": 0.420492,
     "end_time": "2020-11-14T23:24:00.462494",
     "exception": false,
     "start_time": "2020-11-14T23:24:00.042002",
     "status": "completed"
    },
    "pycharm": {
     "name": "#%%\n"
    },
    "tags": []
   },
   "outputs": [
    {
     "data": {
      "text/html": [
       "<div>\n",
       "<style scoped>\n",
       "    .dataframe tbody tr th:only-of-type {\n",
       "        vertical-align: middle;\n",
       "    }\n",
       "\n",
       "    .dataframe tbody tr th {\n",
       "        vertical-align: top;\n",
       "    }\n",
       "\n",
       "    .dataframe thead th {\n",
       "        text-align: right;\n",
       "    }\n",
       "</style>\n",
       "<table border=\"1\" class=\"dataframe\">\n",
       "  <thead>\n",
       "    <tr style=\"text-align: right;\">\n",
       "      <th></th>\n",
       "      <th>sample_date_string</th>\n",
       "      <th>shared_teks_by_upload_date</th>\n",
       "    </tr>\n",
       "  </thead>\n",
       "  <tbody>\n",
       "    <tr>\n",
       "      <th>73</th>\n",
       "      <td>2020-11-10</td>\n",
       "      <td>21163.0</td>\n",
       "    </tr>\n",
       "    <tr>\n",
       "      <th>74</th>\n",
       "      <td>2020-11-11</td>\n",
       "      <td>30445.0</td>\n",
       "    </tr>\n",
       "    <tr>\n",
       "      <th>75</th>\n",
       "      <td>2020-11-12</td>\n",
       "      <td>31792.0</td>\n",
       "    </tr>\n",
       "    <tr>\n",
       "      <th>76</th>\n",
       "      <td>2020-11-13</td>\n",
       "      <td>29729.0</td>\n",
       "    </tr>\n",
       "    <tr>\n",
       "      <th>77</th>\n",
       "      <td>2020-11-14</td>\n",
       "      <td>22798.0</td>\n",
       "    </tr>\n",
       "  </tbody>\n",
       "</table>\n",
       "</div>"
      ],
      "text/plain": [
       "   sample_date_string  shared_teks_by_upload_date\n",
       "73         2020-11-10                     21163.0\n",
       "74         2020-11-11                     30445.0\n",
       "75         2020-11-12                     31792.0\n",
       "76         2020-11-13                     29729.0\n",
       "77         2020-11-14                     22798.0"
      ]
     },
     "execution_count": 36,
     "metadata": {},
     "output_type": "execute_result"
    }
   ],
   "source": [
    "new_tek_df = tek_list_df.diff().tek_list.apply(\n",
    "    lambda x: len(x) if not pd.isna(x) else None).to_frame().reset_index()\n",
    "new_tek_df.rename(columns={\n",
    "    \"tek_list\": \"shared_teks_by_upload_date\",\n",
    "    \"extraction_date\": \"sample_date_string\",}, inplace=True)\n",
    "new_tek_df.tail()"
   ]
  },
  {
   "cell_type": "code",
   "execution_count": 37,
   "metadata": {
    "collapsed": false,
    "execution": {
     "iopub.execute_input": "2020-11-14T23:24:00.597159Z",
     "iopub.status.busy": "2020-11-14T23:24:00.596453Z",
     "iopub.status.idle": "2020-11-14T23:24:00.599168Z",
     "shell.execute_reply": "2020-11-14T23:24:00.599800Z"
    },
    "papermill": {
     "duration": 0.076366,
     "end_time": "2020-11-14T23:24:00.599999",
     "exception": false,
     "start_time": "2020-11-14T23:24:00.523633",
     "status": "completed"
    },
    "pycharm": {
     "name": "#%%\n"
    },
    "tags": []
   },
   "outputs": [
    {
     "data": {
      "text/html": [
       "<div>\n",
       "<style scoped>\n",
       "    .dataframe tbody tr th:only-of-type {\n",
       "        vertical-align: middle;\n",
       "    }\n",
       "\n",
       "    .dataframe tbody tr th {\n",
       "        vertical-align: top;\n",
       "    }\n",
       "\n",
       "    .dataframe thead th {\n",
       "        text-align: right;\n",
       "    }\n",
       "</style>\n",
       "<table border=\"1\" class=\"dataframe\">\n",
       "  <thead>\n",
       "    <tr style=\"text-align: right;\">\n",
       "      <th></th>\n",
       "      <th>sample_date_string</th>\n",
       "      <th>shared_teks_uploaded_on_generation_date</th>\n",
       "    </tr>\n",
       "  </thead>\n",
       "  <tbody>\n",
       "    <tr>\n",
       "      <th>141</th>\n",
       "      <td>2020-11-14</td>\n",
       "      <td>211</td>\n",
       "    </tr>\n",
       "    <tr>\n",
       "      <th>141</th>\n",
       "      <td>2020-11-13</td>\n",
       "      <td>306</td>\n",
       "    </tr>\n",
       "    <tr>\n",
       "      <th>142</th>\n",
       "      <td>2020-11-12</td>\n",
       "      <td>317</td>\n",
       "    </tr>\n",
       "    <tr>\n",
       "      <th>142</th>\n",
       "      <td>2020-11-11</td>\n",
       "      <td>300</td>\n",
       "    </tr>\n",
       "    <tr>\n",
       "      <th>141</th>\n",
       "      <td>2020-11-10</td>\n",
       "      <td>292</td>\n",
       "    </tr>\n",
       "  </tbody>\n",
       "</table>\n",
       "</div>"
      ],
      "text/plain": [
       "    sample_date_string  shared_teks_uploaded_on_generation_date\n",
       "141         2020-11-14                                      211\n",
       "141         2020-11-13                                      306\n",
       "142         2020-11-12                                      317\n",
       "142         2020-11-11                                      300\n",
       "141         2020-11-10                                      292"
      ]
     },
     "execution_count": 37,
     "metadata": {},
     "output_type": "execute_result"
    }
   ],
   "source": [
    "shared_teks_uploaded_on_generation_date_df = shared_teks_generation_to_upload_df[\n",
    "    shared_teks_generation_to_upload_df.generation_to_upload_days == 0] \\\n",
    "    [[\"upload_date\", \"shared_teks\"]].rename(\n",
    "    columns={\n",
    "        \"upload_date\": \"sample_date_string\",\n",
    "        \"shared_teks\": \"shared_teks_uploaded_on_generation_date\",\n",
    "    })\n",
    "shared_teks_uploaded_on_generation_date_df.head()"
   ]
  },
  {
   "cell_type": "code",
   "execution_count": 38,
   "metadata": {
    "collapsed": false,
    "execution": {
     "iopub.execute_input": "2020-11-14T23:24:00.743231Z",
     "iopub.status.busy": "2020-11-14T23:24:00.742414Z",
     "iopub.status.idle": "2020-11-14T23:24:00.744964Z",
     "shell.execute_reply": "2020-11-14T23:24:00.745592Z"
    },
    "papermill": {
     "duration": 0.085467,
     "end_time": "2020-11-14T23:24:00.745789",
     "exception": false,
     "start_time": "2020-11-14T23:24:00.660322",
     "status": "completed"
    },
    "pycharm": {
     "name": "#%%\n"
    },
    "tags": []
   },
   "outputs": [
    {
     "data": {
      "text/html": [
       "<div>\n",
       "<style scoped>\n",
       "    .dataframe tbody tr th:only-of-type {\n",
       "        vertical-align: middle;\n",
       "    }\n",
       "\n",
       "    .dataframe tbody tr th {\n",
       "        vertical-align: top;\n",
       "    }\n",
       "\n",
       "    .dataframe thead th {\n",
       "        text-align: right;\n",
       "    }\n",
       "</style>\n",
       "<table border=\"1\" class=\"dataframe\">\n",
       "  <thead>\n",
       "    <tr style=\"text-align: right;\">\n",
       "      <th></th>\n",
       "      <th>sample_date_string</th>\n",
       "      <th>shared_diagnoses</th>\n",
       "    </tr>\n",
       "  </thead>\n",
       "  <tbody>\n",
       "    <tr>\n",
       "      <th>76</th>\n",
       "      <td>2020-11-14</td>\n",
       "      <td>2281</td>\n",
       "    </tr>\n",
       "    <tr>\n",
       "      <th>75</th>\n",
       "      <td>2020-11-13</td>\n",
       "      <td>2890</td>\n",
       "    </tr>\n",
       "    <tr>\n",
       "      <th>74</th>\n",
       "      <td>2020-11-12</td>\n",
       "      <td>3205</td>\n",
       "    </tr>\n",
       "    <tr>\n",
       "      <th>73</th>\n",
       "      <td>2020-11-11</td>\n",
       "      <td>3029</td>\n",
       "    </tr>\n",
       "    <tr>\n",
       "      <th>72</th>\n",
       "      <td>2020-11-10</td>\n",
       "      <td>2086</td>\n",
       "    </tr>\n",
       "  </tbody>\n",
       "</table>\n",
       "</div>"
      ],
      "text/plain": [
       "   sample_date_string  shared_diagnoses\n",
       "76         2020-11-14              2281\n",
       "75         2020-11-13              2890\n",
       "74         2020-11-12              3205\n",
       "73         2020-11-11              3029\n",
       "72         2020-11-10              2086"
      ]
     },
     "execution_count": 38,
     "metadata": {},
     "output_type": "execute_result"
    }
   ],
   "source": [
    "estimated_shared_diagnoses_df = shared_teks_generation_to_upload_df \\\n",
    "    .groupby([\"upload_date\"]).shared_teks.max().reset_index() \\\n",
    "    .sort_values([\"upload_date\"], ascending=False) \\\n",
    "    .rename(columns={\n",
    "        \"upload_date\": \"sample_date_string\",\n",
    "        \"shared_teks\": \"shared_diagnoses\",\n",
    "    })\n",
    "invalid_shared_diagnoses_dates_mask = \\\n",
    "    estimated_shared_diagnoses_df.sample_date_string.isin(invalid_shared_diagnoses_dates)\n",
    "estimated_shared_diagnoses_df[invalid_shared_diagnoses_dates_mask] = 0\n",
    "estimated_shared_diagnoses_df.head()"
   ]
  },
  {
   "cell_type": "markdown",
   "metadata": {
    "papermill": {
     "duration": 0.05971,
     "end_time": "2020-11-14T23:24:00.863118",
     "exception": false,
     "start_time": "2020-11-14T23:24:00.803408",
     "status": "completed"
    },
    "pycharm": {
     "name": "#%% md\n"
    },
    "tags": []
   },
   "source": [
    "### Hourly New TEKs"
   ]
  },
  {
   "cell_type": "code",
   "execution_count": 39,
   "metadata": {
    "execution": {
     "iopub.execute_input": "2020-11-14T23:24:00.991074Z",
     "iopub.status.busy": "2020-11-14T23:24:00.990408Z",
     "iopub.status.idle": "2020-11-14T23:24:06.589206Z",
     "shell.execute_reply": "2020-11-14T23:24:06.590041Z"
    },
    "papermill": {
     "duration": 5.667932,
     "end_time": "2020-11-14T23:24:06.590231",
     "exception": false,
     "start_time": "2020-11-14T23:24:00.922299",
     "status": "completed"
    },
    "pycharm": {
     "name": "#%%\n"
    },
    "tags": []
   },
   "outputs": [
    {
     "data": {
      "text/html": [
       "<div>\n",
       "<style scoped>\n",
       "    .dataframe tbody tr th:only-of-type {\n",
       "        vertical-align: middle;\n",
       "    }\n",
       "\n",
       "    .dataframe tbody tr th {\n",
       "        vertical-align: top;\n",
       "    }\n",
       "\n",
       "    .dataframe thead th {\n",
       "        text-align: right;\n",
       "    }\n",
       "</style>\n",
       "<table border=\"1\" class=\"dataframe\">\n",
       "  <thead>\n",
       "    <tr style=\"text-align: right;\">\n",
       "      <th></th>\n",
       "      <th>region</th>\n",
       "      <th>sample_date</th>\n",
       "      <th>tek_list</th>\n",
       "      <th>extraction_date</th>\n",
       "      <th>extraction_date_with_hour</th>\n",
       "    </tr>\n",
       "  </thead>\n",
       "  <tbody>\n",
       "    <tr>\n",
       "      <th>6</th>\n",
       "      <td>ES</td>\n",
       "      <td>2020-11-01</td>\n",
       "      <td>[c62e146d-80cd-7e74-9233-7efa5f66cfdb, 9d1f2f8...</td>\n",
       "      <td>2020-11-14</td>\n",
       "      <td>2020-11-14@23</td>\n",
       "    </tr>\n",
       "    <tr>\n",
       "      <th>17</th>\n",
       "      <td>ES</td>\n",
       "      <td>2020-11-02</td>\n",
       "      <td>[beb79694-723f-04ca-57cc-e572afae4d3d, b52d9fb...</td>\n",
       "      <td>2020-11-14</td>\n",
       "      <td>2020-11-14@23</td>\n",
       "    </tr>\n",
       "    <tr>\n",
       "      <th>28</th>\n",
       "      <td>ES</td>\n",
       "      <td>2020-11-03</td>\n",
       "      <td>[c82b1637-d436-414e-f179-9425882f4b2e, c72b0d3...</td>\n",
       "      <td>2020-11-14</td>\n",
       "      <td>2020-11-14@23</td>\n",
       "    </tr>\n",
       "    <tr>\n",
       "      <th>39</th>\n",
       "      <td>ES</td>\n",
       "      <td>2020-11-04</td>\n",
       "      <td>[90d0aa95-6413-e8a9-9aae-cb002888980e, 68674f8...</td>\n",
       "      <td>2020-11-14</td>\n",
       "      <td>2020-11-14@23</td>\n",
       "    </tr>\n",
       "    <tr>\n",
       "      <th>50</th>\n",
       "      <td>ES</td>\n",
       "      <td>2020-11-05</td>\n",
       "      <td>[c6004831-51a3-e9d9-febd-f87b71052d60, 2205cd4...</td>\n",
       "      <td>2020-11-14</td>\n",
       "      <td>2020-11-14@23</td>\n",
       "    </tr>\n",
       "  </tbody>\n",
       "</table>\n",
       "</div>"
      ],
      "text/plain": [
       "   region sample_date                                           tek_list  \\\n",
       "6      ES  2020-11-01  [c62e146d-80cd-7e74-9233-7efa5f66cfdb, 9d1f2f8...   \n",
       "17     ES  2020-11-02  [beb79694-723f-04ca-57cc-e572afae4d3d, b52d9fb...   \n",
       "28     ES  2020-11-03  [c82b1637-d436-414e-f179-9425882f4b2e, c72b0d3...   \n",
       "39     ES  2020-11-04  [90d0aa95-6413-e8a9-9aae-cb002888980e, 68674f8...   \n",
       "50     ES  2020-11-05  [c6004831-51a3-e9d9-febd-f87b71052d60, 2205cd4...   \n",
       "\n",
       "   extraction_date extraction_date_with_hour  \n",
       "6       2020-11-14             2020-11-14@23  \n",
       "17      2020-11-14             2020-11-14@23  \n",
       "28      2020-11-14             2020-11-14@23  \n",
       "39      2020-11-14             2020-11-14@23  \n",
       "50      2020-11-14             2020-11-14@23  "
      ]
     },
     "execution_count": 39,
     "metadata": {},
     "output_type": "execute_result"
    }
   ],
   "source": [
    "hourly_extracted_teks_df = load_extracted_teks(\n",
    "    mode=\"Hourly\", region=report_backend_identifier, limit=25)\n",
    "hourly_extracted_teks_df.head()"
   ]
  },
  {
   "cell_type": "code",
   "execution_count": 40,
   "metadata": {
    "collapsed": false,
    "execution": {
     "iopub.execute_input": "2020-11-14T23:24:06.984235Z",
     "iopub.status.busy": "2020-11-14T23:24:06.847959Z",
     "iopub.status.idle": "2020-11-14T23:24:08.486980Z",
     "shell.execute_reply": "2020-11-14T23:24:08.487490Z"
    },
    "papermill": {
     "duration": 1.83564,
     "end_time": "2020-11-14T23:24:08.487681",
     "exception": false,
     "start_time": "2020-11-14T23:24:06.652041",
     "status": "completed"
    },
    "pycharm": {
     "name": "#%%\n"
    },
    "tags": []
   },
   "outputs": [
    {
     "data": {
      "text/html": [
       "<div>\n",
       "<style scoped>\n",
       "    .dataframe tbody tr th:only-of-type {\n",
       "        vertical-align: middle;\n",
       "    }\n",
       "\n",
       "    .dataframe tbody tr th {\n",
       "        vertical-align: top;\n",
       "    }\n",
       "\n",
       "    .dataframe thead th {\n",
       "        text-align: right;\n",
       "    }\n",
       "</style>\n",
       "<table border=\"1\" class=\"dataframe\">\n",
       "  <thead>\n",
       "    <tr style=\"text-align: right;\">\n",
       "      <th></th>\n",
       "      <th>extraction_date_with_hour</th>\n",
       "      <th>shared_teks_by_upload_date</th>\n",
       "    </tr>\n",
       "  </thead>\n",
       "  <tbody>\n",
       "    <tr>\n",
       "      <th>0</th>\n",
       "      <td>2020-11-13@23</td>\n",
       "      <td>0</td>\n",
       "    </tr>\n",
       "    <tr>\n",
       "      <th>1</th>\n",
       "      <td>2020-11-14@00</td>\n",
       "      <td>24</td>\n",
       "    </tr>\n",
       "    <tr>\n",
       "      <th>2</th>\n",
       "      <td>2020-11-14@01</td>\n",
       "      <td>0</td>\n",
       "    </tr>\n",
       "    <tr>\n",
       "      <th>3</th>\n",
       "      <td>2020-11-14@02</td>\n",
       "      <td>32</td>\n",
       "    </tr>\n",
       "    <tr>\n",
       "      <th>4</th>\n",
       "      <td>2020-11-14@03</td>\n",
       "      <td>0</td>\n",
       "    </tr>\n",
       "  </tbody>\n",
       "</table>\n",
       "</div>"
      ],
      "text/plain": [
       "  extraction_date_with_hour  shared_teks_by_upload_date\n",
       "0             2020-11-13@23                           0\n",
       "1             2020-11-14@00                          24\n",
       "2             2020-11-14@01                           0\n",
       "3             2020-11-14@02                          32\n",
       "4             2020-11-14@03                           0"
      ]
     },
     "execution_count": 40,
     "metadata": {},
     "output_type": "execute_result"
    }
   ],
   "source": [
    "hourly_new_tek_count_df = hourly_extracted_teks_df \\\n",
    "    .groupby(\"extraction_date_with_hour\").tek_list. \\\n",
    "    apply(lambda x: set(sum(x, []))).reset_index().copy()\n",
    "hourly_new_tek_count_df = hourly_new_tek_count_df.set_index(\"extraction_date_with_hour\") \\\n",
    "    .sort_index(ascending=True)\n",
    "\n",
    "hourly_new_tek_count_df[\"new_tek_list\"] = hourly_new_tek_count_df.tek_list.diff()\n",
    "hourly_new_tek_count_df[\"new_tek_count\"] = hourly_new_tek_count_df.new_tek_list.apply(\n",
    "    lambda x: len(x) if not pd.isna(x) else 0)\n",
    "hourly_new_tek_count_df.rename(columns={\n",
    "    \"new_tek_count\": \"shared_teks_by_upload_date\"}, inplace=True)\n",
    "hourly_new_tek_count_df = hourly_new_tek_count_df.reset_index()[[\n",
    "    \"extraction_date_with_hour\", \"shared_teks_by_upload_date\"]]\n",
    "hourly_new_tek_count_df.head()"
   ]
  },
  {
   "cell_type": "code",
   "execution_count": 41,
   "metadata": {
    "collapsed": false,
    "execution": {
     "iopub.execute_input": "2020-11-14T23:24:08.625571Z",
     "iopub.status.busy": "2020-11-14T23:24:08.624914Z",
     "iopub.status.idle": "2020-11-14T23:24:08.627370Z",
     "shell.execute_reply": "2020-11-14T23:24:08.627863Z"
    },
    "papermill": {
     "duration": 0.079861,
     "end_time": "2020-11-14T23:24:08.628027",
     "exception": false,
     "start_time": "2020-11-14T23:24:08.548166",
     "status": "completed"
    },
    "pycharm": {
     "name": "#%%\n"
    },
    "tags": []
   },
   "outputs": [
    {
     "data": {
      "text/html": [
       "<div>\n",
       "<style scoped>\n",
       "    .dataframe tbody tr th:only-of-type {\n",
       "        vertical-align: middle;\n",
       "    }\n",
       "\n",
       "    .dataframe tbody tr th {\n",
       "        vertical-align: top;\n",
       "    }\n",
       "\n",
       "    .dataframe thead th {\n",
       "        text-align: right;\n",
       "    }\n",
       "</style>\n",
       "<table border=\"1\" class=\"dataframe\">\n",
       "  <thead>\n",
       "    <tr style=\"text-align: right;\">\n",
       "      <th></th>\n",
       "      <th>extraction_date_with_hour</th>\n",
       "      <th>shared_teks_by_upload_date</th>\n",
       "    </tr>\n",
       "    <tr>\n",
       "      <th>datetime_utc</th>\n",
       "      <th></th>\n",
       "      <th></th>\n",
       "    </tr>\n",
       "  </thead>\n",
       "  <tbody>\n",
       "    <tr>\n",
       "      <th>2020-11-14 00:00:00</th>\n",
       "      <td>2020-11-14@00</td>\n",
       "      <td>24</td>\n",
       "    </tr>\n",
       "    <tr>\n",
       "      <th>2020-11-14 01:00:00</th>\n",
       "      <td>2020-11-14@01</td>\n",
       "      <td>0</td>\n",
       "    </tr>\n",
       "    <tr>\n",
       "      <th>2020-11-14 02:00:00</th>\n",
       "      <td>2020-11-14@02</td>\n",
       "      <td>32</td>\n",
       "    </tr>\n",
       "    <tr>\n",
       "      <th>2020-11-14 03:00:00</th>\n",
       "      <td>2020-11-14@03</td>\n",
       "      <td>0</td>\n",
       "    </tr>\n",
       "    <tr>\n",
       "      <th>2020-11-14 04:00:00</th>\n",
       "      <td>2020-11-14@04</td>\n",
       "      <td>28</td>\n",
       "    </tr>\n",
       "  </tbody>\n",
       "</table>\n",
       "</div>"
      ],
      "text/plain": [
       "                    extraction_date_with_hour  shared_teks_by_upload_date\n",
       "datetime_utc                                                             \n",
       "2020-11-14 00:00:00             2020-11-14@00                          24\n",
       "2020-11-14 01:00:00             2020-11-14@01                           0\n",
       "2020-11-14 02:00:00             2020-11-14@02                          32\n",
       "2020-11-14 03:00:00             2020-11-14@03                           0\n",
       "2020-11-14 04:00:00             2020-11-14@04                          28"
      ]
     },
     "execution_count": 41,
     "metadata": {},
     "output_type": "execute_result"
    }
   ],
   "source": [
    "hourly_summary_df = hourly_new_tek_count_df.copy()\n",
    "hourly_summary_df.set_index(\"extraction_date_with_hour\", inplace=True)\n",
    "hourly_summary_df = hourly_summary_df.fillna(0).astype(int).reset_index()\n",
    "hourly_summary_df[\"datetime_utc\"] = pd.to_datetime(\n",
    "    hourly_summary_df.extraction_date_with_hour, format=\"%Y-%m-%d@%H\")\n",
    "hourly_summary_df.set_index(\"datetime_utc\", inplace=True)\n",
    "hourly_summary_df = hourly_summary_df.tail(-1)\n",
    "hourly_summary_df.head()"
   ]
  },
  {
   "cell_type": "markdown",
   "metadata": {
    "collapsed": false,
    "papermill": {
     "duration": 0.055944,
     "end_time": "2020-11-14T23:24:08.741919",
     "exception": false,
     "start_time": "2020-11-14T23:24:08.685975",
     "status": "completed"
    },
    "tags": []
   },
   "source": [
    "### Data Merge"
   ]
  },
  {
   "cell_type": "code",
   "execution_count": 42,
   "metadata": {
    "collapsed": false,
    "execution": {
     "iopub.execute_input": "2020-11-14T23:24:08.876738Z",
     "iopub.status.busy": "2020-11-14T23:24:08.876104Z",
     "iopub.status.idle": "2020-11-14T23:24:08.878664Z",
     "shell.execute_reply": "2020-11-14T23:24:08.879239Z"
    },
    "papermill": {
     "duration": 0.07996,
     "end_time": "2020-11-14T23:24:08.879426",
     "exception": false,
     "start_time": "2020-11-14T23:24:08.799466",
     "status": "completed"
    },
    "pycharm": {
     "name": "#%%\n"
    },
    "tags": []
   },
   "outputs": [
    {
     "data": {
      "text/html": [
       "<div>\n",
       "<style scoped>\n",
       "    .dataframe tbody tr th:only-of-type {\n",
       "        vertical-align: middle;\n",
       "    }\n",
       "\n",
       "    .dataframe tbody tr th {\n",
       "        vertical-align: top;\n",
       "    }\n",
       "\n",
       "    .dataframe thead th {\n",
       "        text-align: right;\n",
       "    }\n",
       "</style>\n",
       "<table border=\"1\" class=\"dataframe\">\n",
       "  <thead>\n",
       "    <tr style=\"text-align: right;\">\n",
       "      <th></th>\n",
       "      <th>sample_date_string</th>\n",
       "      <th>shared_teks_by_generation_date</th>\n",
       "      <th>shared_teks_by_upload_date</th>\n",
       "    </tr>\n",
       "  </thead>\n",
       "  <tbody>\n",
       "    <tr>\n",
       "      <th>0</th>\n",
       "      <td>2020-11-14</td>\n",
       "      <td>211</td>\n",
       "      <td>22798.0</td>\n",
       "    </tr>\n",
       "    <tr>\n",
       "      <th>1</th>\n",
       "      <td>2020-11-13</td>\n",
       "      <td>1922</td>\n",
       "      <td>29729.0</td>\n",
       "    </tr>\n",
       "    <tr>\n",
       "      <th>2</th>\n",
       "      <td>2020-11-12</td>\n",
       "      <td>4776</td>\n",
       "      <td>31792.0</td>\n",
       "    </tr>\n",
       "    <tr>\n",
       "      <th>3</th>\n",
       "      <td>2020-11-11</td>\n",
       "      <td>7448</td>\n",
       "      <td>30445.0</td>\n",
       "    </tr>\n",
       "    <tr>\n",
       "      <th>4</th>\n",
       "      <td>2020-11-10</td>\n",
       "      <td>9997</td>\n",
       "      <td>21163.0</td>\n",
       "    </tr>\n",
       "  </tbody>\n",
       "</table>\n",
       "</div>"
      ],
      "text/plain": [
       "  sample_date_string  shared_teks_by_generation_date  \\\n",
       "0         2020-11-14                             211   \n",
       "1         2020-11-13                            1922   \n",
       "2         2020-11-12                            4776   \n",
       "3         2020-11-11                            7448   \n",
       "4         2020-11-10                            9997   \n",
       "\n",
       "   shared_teks_by_upload_date  \n",
       "0                     22798.0  \n",
       "1                     29729.0  \n",
       "2                     31792.0  \n",
       "3                     30445.0  \n",
       "4                     21163.0  "
      ]
     },
     "execution_count": 42,
     "metadata": {},
     "output_type": "execute_result"
    }
   ],
   "source": [
    "result_summary_df = exposure_keys_summary_df.merge(\n",
    "    new_tek_df, on=[\"sample_date_string\"], how=\"outer\")\n",
    "result_summary_df.head()"
   ]
  },
  {
   "cell_type": "code",
   "execution_count": 43,
   "metadata": {
    "collapsed": false,
    "execution": {
     "iopub.execute_input": "2020-11-14T23:24:09.016550Z",
     "iopub.status.busy": "2020-11-14T23:24:09.015913Z",
     "iopub.status.idle": "2020-11-14T23:24:09.019479Z",
     "shell.execute_reply": "2020-11-14T23:24:09.020022Z"
    },
    "papermill": {
     "duration": 0.079249,
     "end_time": "2020-11-14T23:24:09.020199",
     "exception": false,
     "start_time": "2020-11-14T23:24:08.940950",
     "status": "completed"
    },
    "pycharm": {
     "name": "#%%\n"
    },
    "tags": []
   },
   "outputs": [
    {
     "data": {
      "text/html": [
       "<div>\n",
       "<style scoped>\n",
       "    .dataframe tbody tr th:only-of-type {\n",
       "        vertical-align: middle;\n",
       "    }\n",
       "\n",
       "    .dataframe tbody tr th {\n",
       "        vertical-align: top;\n",
       "    }\n",
       "\n",
       "    .dataframe thead th {\n",
       "        text-align: right;\n",
       "    }\n",
       "</style>\n",
       "<table border=\"1\" class=\"dataframe\">\n",
       "  <thead>\n",
       "    <tr style=\"text-align: right;\">\n",
       "      <th></th>\n",
       "      <th>sample_date_string</th>\n",
       "      <th>shared_teks_by_generation_date</th>\n",
       "      <th>shared_teks_by_upload_date</th>\n",
       "      <th>shared_teks_uploaded_on_generation_date</th>\n",
       "    </tr>\n",
       "  </thead>\n",
       "  <tbody>\n",
       "    <tr>\n",
       "      <th>0</th>\n",
       "      <td>2020-11-14</td>\n",
       "      <td>211</td>\n",
       "      <td>22798.0</td>\n",
       "      <td>211.0</td>\n",
       "    </tr>\n",
       "    <tr>\n",
       "      <th>1</th>\n",
       "      <td>2020-11-13</td>\n",
       "      <td>1922</td>\n",
       "      <td>29729.0</td>\n",
       "      <td>306.0</td>\n",
       "    </tr>\n",
       "    <tr>\n",
       "      <th>2</th>\n",
       "      <td>2020-11-12</td>\n",
       "      <td>4776</td>\n",
       "      <td>31792.0</td>\n",
       "      <td>317.0</td>\n",
       "    </tr>\n",
       "    <tr>\n",
       "      <th>3</th>\n",
       "      <td>2020-11-11</td>\n",
       "      <td>7448</td>\n",
       "      <td>30445.0</td>\n",
       "      <td>300.0</td>\n",
       "    </tr>\n",
       "    <tr>\n",
       "      <th>4</th>\n",
       "      <td>2020-11-10</td>\n",
       "      <td>9997</td>\n",
       "      <td>21163.0</td>\n",
       "      <td>292.0</td>\n",
       "    </tr>\n",
       "  </tbody>\n",
       "</table>\n",
       "</div>"
      ],
      "text/plain": [
       "  sample_date_string  shared_teks_by_generation_date  \\\n",
       "0         2020-11-14                             211   \n",
       "1         2020-11-13                            1922   \n",
       "2         2020-11-12                            4776   \n",
       "3         2020-11-11                            7448   \n",
       "4         2020-11-10                            9997   \n",
       "\n",
       "   shared_teks_by_upload_date  shared_teks_uploaded_on_generation_date  \n",
       "0                     22798.0                                    211.0  \n",
       "1                     29729.0                                    306.0  \n",
       "2                     31792.0                                    317.0  \n",
       "3                     30445.0                                    300.0  \n",
       "4                     21163.0                                    292.0  "
      ]
     },
     "execution_count": 43,
     "metadata": {},
     "output_type": "execute_result"
    }
   ],
   "source": [
    "result_summary_df = result_summary_df.merge(\n",
    "    shared_teks_uploaded_on_generation_date_df, on=[\"sample_date_string\"], how=\"outer\")\n",
    "result_summary_df.head()"
   ]
  },
  {
   "cell_type": "code",
   "execution_count": 44,
   "metadata": {
    "collapsed": false,
    "execution": {
     "iopub.execute_input": "2020-11-14T23:24:09.157788Z",
     "iopub.status.busy": "2020-11-14T23:24:09.157184Z",
     "iopub.status.idle": "2020-11-14T23:24:09.160321Z",
     "shell.execute_reply": "2020-11-14T23:24:09.160790Z"
    },
    "papermill": {
     "duration": 0.078746,
     "end_time": "2020-11-14T23:24:09.160949",
     "exception": false,
     "start_time": "2020-11-14T23:24:09.082203",
     "status": "completed"
    },
    "pycharm": {
     "name": "#%%\n"
    },
    "tags": []
   },
   "outputs": [
    {
     "data": {
      "text/html": [
       "<div>\n",
       "<style scoped>\n",
       "    .dataframe tbody tr th:only-of-type {\n",
       "        vertical-align: middle;\n",
       "    }\n",
       "\n",
       "    .dataframe tbody tr th {\n",
       "        vertical-align: top;\n",
       "    }\n",
       "\n",
       "    .dataframe thead th {\n",
       "        text-align: right;\n",
       "    }\n",
       "</style>\n",
       "<table border=\"1\" class=\"dataframe\">\n",
       "  <thead>\n",
       "    <tr style=\"text-align: right;\">\n",
       "      <th></th>\n",
       "      <th>sample_date_string</th>\n",
       "      <th>shared_teks_by_generation_date</th>\n",
       "      <th>shared_teks_by_upload_date</th>\n",
       "      <th>shared_teks_uploaded_on_generation_date</th>\n",
       "      <th>shared_diagnoses</th>\n",
       "    </tr>\n",
       "  </thead>\n",
       "  <tbody>\n",
       "    <tr>\n",
       "      <th>0</th>\n",
       "      <td>2020-11-14</td>\n",
       "      <td>211.0</td>\n",
       "      <td>22798.0</td>\n",
       "      <td>211.0</td>\n",
       "      <td>2281.0</td>\n",
       "    </tr>\n",
       "    <tr>\n",
       "      <th>1</th>\n",
       "      <td>2020-11-13</td>\n",
       "      <td>1922.0</td>\n",
       "      <td>29729.0</td>\n",
       "      <td>306.0</td>\n",
       "      <td>2890.0</td>\n",
       "    </tr>\n",
       "    <tr>\n",
       "      <th>2</th>\n",
       "      <td>2020-11-12</td>\n",
       "      <td>4776.0</td>\n",
       "      <td>31792.0</td>\n",
       "      <td>317.0</td>\n",
       "      <td>3205.0</td>\n",
       "    </tr>\n",
       "    <tr>\n",
       "      <th>3</th>\n",
       "      <td>2020-11-11</td>\n",
       "      <td>7448.0</td>\n",
       "      <td>30445.0</td>\n",
       "      <td>300.0</td>\n",
       "      <td>3029.0</td>\n",
       "    </tr>\n",
       "    <tr>\n",
       "      <th>4</th>\n",
       "      <td>2020-11-10</td>\n",
       "      <td>9997.0</td>\n",
       "      <td>21163.0</td>\n",
       "      <td>292.0</td>\n",
       "      <td>2086.0</td>\n",
       "    </tr>\n",
       "  </tbody>\n",
       "</table>\n",
       "</div>"
      ],
      "text/plain": [
       "  sample_date_string  shared_teks_by_generation_date  \\\n",
       "0         2020-11-14                           211.0   \n",
       "1         2020-11-13                          1922.0   \n",
       "2         2020-11-12                          4776.0   \n",
       "3         2020-11-11                          7448.0   \n",
       "4         2020-11-10                          9997.0   \n",
       "\n",
       "   shared_teks_by_upload_date  shared_teks_uploaded_on_generation_date  \\\n",
       "0                     22798.0                                    211.0   \n",
       "1                     29729.0                                    306.0   \n",
       "2                     31792.0                                    317.0   \n",
       "3                     30445.0                                    300.0   \n",
       "4                     21163.0                                    292.0   \n",
       "\n",
       "   shared_diagnoses  \n",
       "0            2281.0  \n",
       "1            2890.0  \n",
       "2            3205.0  \n",
       "3            3029.0  \n",
       "4            2086.0  "
      ]
     },
     "execution_count": 44,
     "metadata": {},
     "output_type": "execute_result"
    }
   ],
   "source": [
    "result_summary_df = result_summary_df.merge(\n",
    "    estimated_shared_diagnoses_df, on=[\"sample_date_string\"], how=\"outer\")\n",
    "result_summary_df.head()"
   ]
  },
  {
   "cell_type": "code",
   "execution_count": 45,
   "metadata": {
    "collapsed": false,
    "execution": {
     "iopub.execute_input": "2020-11-14T23:24:09.291758Z",
     "iopub.status.busy": "2020-11-14T23:24:09.291101Z",
     "iopub.status.idle": "2020-11-14T23:24:09.305174Z",
     "shell.execute_reply": "2020-11-14T23:24:09.305978Z"
    },
    "papermill": {
     "duration": 0.085726,
     "end_time": "2020-11-14T23:24:09.306196",
     "exception": false,
     "start_time": "2020-11-14T23:24:09.220470",
     "status": "completed"
    },
    "pycharm": {
     "name": "#%%\n"
    },
    "tags": []
   },
   "outputs": [
    {
     "data": {
      "text/html": [
       "<div>\n",
       "<style scoped>\n",
       "    .dataframe tbody tr th:only-of-type {\n",
       "        vertical-align: middle;\n",
       "    }\n",
       "\n",
       "    .dataframe tbody tr th {\n",
       "        vertical-align: top;\n",
       "    }\n",
       "\n",
       "    .dataframe thead th {\n",
       "        text-align: right;\n",
       "    }\n",
       "</style>\n",
       "<table border=\"1\" class=\"dataframe\">\n",
       "  <thead>\n",
       "    <tr style=\"text-align: right;\">\n",
       "      <th></th>\n",
       "      <th>sample_date_string</th>\n",
       "      <th>new_cases</th>\n",
       "      <th>covid_cases</th>\n",
       "      <th>shared_teks_by_generation_date</th>\n",
       "      <th>shared_teks_by_upload_date</th>\n",
       "      <th>shared_teks_uploaded_on_generation_date</th>\n",
       "      <th>shared_diagnoses</th>\n",
       "    </tr>\n",
       "  </thead>\n",
       "  <tbody>\n",
       "    <tr>\n",
       "      <th>0</th>\n",
       "      <td>2020-08-23</td>\n",
       "      <td>0</td>\n",
       "      <td>6177.0</td>\n",
       "      <td>28.0</td>\n",
       "      <td>NaN</td>\n",
       "      <td>NaN</td>\n",
       "      <td>NaN</td>\n",
       "    </tr>\n",
       "    <tr>\n",
       "      <th>1</th>\n",
       "      <td>2020-08-24</td>\n",
       "      <td>19382</td>\n",
       "      <td>6622.0</td>\n",
       "      <td>48.0</td>\n",
       "      <td>NaN</td>\n",
       "      <td>NaN</td>\n",
       "      <td>NaN</td>\n",
       "    </tr>\n",
       "    <tr>\n",
       "      <th>2</th>\n",
       "      <td>2020-08-25</td>\n",
       "      <td>7117</td>\n",
       "      <td>6908.0</td>\n",
       "      <td>58.0</td>\n",
       "      <td>NaN</td>\n",
       "      <td>NaN</td>\n",
       "      <td>NaN</td>\n",
       "    </tr>\n",
       "    <tr>\n",
       "      <th>3</th>\n",
       "      <td>2020-08-26</td>\n",
       "      <td>7296</td>\n",
       "      <td>6997.0</td>\n",
       "      <td>75.0</td>\n",
       "      <td>NaN</td>\n",
       "      <td>NaN</td>\n",
       "      <td>NaN</td>\n",
       "    </tr>\n",
       "    <tr>\n",
       "      <th>4</th>\n",
       "      <td>2020-08-27</td>\n",
       "      <td>9658</td>\n",
       "      <td>7372.0</td>\n",
       "      <td>72.0</td>\n",
       "      <td>NaN</td>\n",
       "      <td>NaN</td>\n",
       "      <td>NaN</td>\n",
       "    </tr>\n",
       "  </tbody>\n",
       "</table>\n",
       "</div>"
      ],
      "text/plain": [
       "  sample_date_string  new_cases  covid_cases  shared_teks_by_generation_date  \\\n",
       "0         2020-08-23          0       6177.0                            28.0   \n",
       "1         2020-08-24      19382       6622.0                            48.0   \n",
       "2         2020-08-25       7117       6908.0                            58.0   \n",
       "3         2020-08-26       7296       6997.0                            75.0   \n",
       "4         2020-08-27       9658       7372.0                            72.0   \n",
       "\n",
       "   shared_teks_by_upload_date  shared_teks_uploaded_on_generation_date  \\\n",
       "0                         NaN                                      NaN   \n",
       "1                         NaN                                      NaN   \n",
       "2                         NaN                                      NaN   \n",
       "3                         NaN                                      NaN   \n",
       "4                         NaN                                      NaN   \n",
       "\n",
       "   shared_diagnoses  \n",
       "0               NaN  \n",
       "1               NaN  \n",
       "2               NaN  \n",
       "3               NaN  \n",
       "4               NaN  "
      ]
     },
     "execution_count": 45,
     "metadata": {},
     "output_type": "execute_result"
    }
   ],
   "source": [
    "result_summary_df = confirmed_df.tail(daily_summary_days).merge(\n",
    "    result_summary_df, on=[\"sample_date_string\"], how=\"left\")\n",
    "result_summary_df.head()"
   ]
  },
  {
   "cell_type": "code",
   "execution_count": 46,
   "metadata": {
    "collapsed": false,
    "execution": {
     "iopub.execute_input": "2020-11-14T23:24:09.451862Z",
     "iopub.status.busy": "2020-11-14T23:24:09.451199Z",
     "iopub.status.idle": "2020-11-14T23:24:09.468596Z",
     "shell.execute_reply": "2020-11-14T23:24:09.469122Z"
    },
    "papermill": {
     "duration": 0.097383,
     "end_time": "2020-11-14T23:24:09.469303",
     "exception": false,
     "start_time": "2020-11-14T23:24:09.371920",
     "status": "completed"
    },
    "pycharm": {
     "name": "#%%\n"
    },
    "tags": []
   },
   "outputs": [
    {
     "data": {
      "text/html": [
       "<div>\n",
       "<style scoped>\n",
       "    .dataframe tbody tr th:only-of-type {\n",
       "        vertical-align: middle;\n",
       "    }\n",
       "\n",
       "    .dataframe tbody tr th {\n",
       "        vertical-align: top;\n",
       "    }\n",
       "\n",
       "    .dataframe thead th {\n",
       "        text-align: right;\n",
       "    }\n",
       "</style>\n",
       "<table border=\"1\" class=\"dataframe\">\n",
       "  <thead>\n",
       "    <tr style=\"text-align: right;\">\n",
       "      <th></th>\n",
       "      <th></th>\n",
       "      <th>new_cases</th>\n",
       "      <th>covid_cases</th>\n",
       "      <th>shared_teks_by_generation_date</th>\n",
       "      <th>shared_teks_by_upload_date</th>\n",
       "      <th>shared_teks_uploaded_on_generation_date</th>\n",
       "      <th>shared_diagnoses</th>\n",
       "    </tr>\n",
       "    <tr>\n",
       "      <th>sample_date</th>\n",
       "      <th>source_regions</th>\n",
       "      <th></th>\n",
       "      <th></th>\n",
       "      <th></th>\n",
       "      <th></th>\n",
       "      <th></th>\n",
       "      <th></th>\n",
       "    </tr>\n",
       "  </thead>\n",
       "  <tbody>\n",
       "    <tr>\n",
       "      <th>2020-11-14</th>\n",
       "      <th>ES,DE,DK,IE,IT,LV</th>\n",
       "      <td>65322</td>\n",
       "      <td>73884.0</td>\n",
       "      <td>211.0</td>\n",
       "      <td>22798.0</td>\n",
       "      <td>211.0</td>\n",
       "      <td>2281.0</td>\n",
       "    </tr>\n",
       "    <tr>\n",
       "      <th>2020-11-13</th>\n",
       "      <th>ES,DE,DK,IE,IT,LV</th>\n",
       "      <td>84819</td>\n",
       "      <td>73621.0</td>\n",
       "      <td>1922.0</td>\n",
       "      <td>29729.0</td>\n",
       "      <td>306.0</td>\n",
       "      <td>2890.0</td>\n",
       "    </tr>\n",
       "    <tr>\n",
       "      <th>2020-11-12</th>\n",
       "      <th>ES,DE,DK,IE,IT,LV</th>\n",
       "      <td>76143</td>\n",
       "      <td>73029.0</td>\n",
       "      <td>4776.0</td>\n",
       "      <td>31792.0</td>\n",
       "      <td>317.0</td>\n",
       "      <td>3205.0</td>\n",
       "    </tr>\n",
       "    <tr>\n",
       "      <th>2020-11-11</th>\n",
       "      <th>ES,DE,DK,IE,IT,LV</th>\n",
       "      <td>74177</td>\n",
       "      <td>72741.0</td>\n",
       "      <td>7448.0</td>\n",
       "      <td>30445.0</td>\n",
       "      <td>300.0</td>\n",
       "      <td>3029.0</td>\n",
       "    </tr>\n",
       "    <tr>\n",
       "      <th>2020-11-10</th>\n",
       "      <th>ES,DE,DK,IE,IT,LV</th>\n",
       "      <td>59124</td>\n",
       "      <td>72476.0</td>\n",
       "      <td>9997.0</td>\n",
       "      <td>21163.0</td>\n",
       "      <td>292.0</td>\n",
       "      <td>2086.0</td>\n",
       "    </tr>\n",
       "  </tbody>\n",
       "</table>\n",
       "</div>"
      ],
      "text/plain": [
       "                               new_cases  covid_cases  \\\n",
       "sample_date source_regions                              \n",
       "2020-11-14  ES,DE,DK,IE,IT,LV      65322      73884.0   \n",
       "2020-11-13  ES,DE,DK,IE,IT,LV      84819      73621.0   \n",
       "2020-11-12  ES,DE,DK,IE,IT,LV      76143      73029.0   \n",
       "2020-11-11  ES,DE,DK,IE,IT,LV      74177      72741.0   \n",
       "2020-11-10  ES,DE,DK,IE,IT,LV      59124      72476.0   \n",
       "\n",
       "                               shared_teks_by_generation_date  \\\n",
       "sample_date source_regions                                      \n",
       "2020-11-14  ES,DE,DK,IE,IT,LV                           211.0   \n",
       "2020-11-13  ES,DE,DK,IE,IT,LV                          1922.0   \n",
       "2020-11-12  ES,DE,DK,IE,IT,LV                          4776.0   \n",
       "2020-11-11  ES,DE,DK,IE,IT,LV                          7448.0   \n",
       "2020-11-10  ES,DE,DK,IE,IT,LV                          9997.0   \n",
       "\n",
       "                               shared_teks_by_upload_date  \\\n",
       "sample_date source_regions                                  \n",
       "2020-11-14  ES,DE,DK,IE,IT,LV                     22798.0   \n",
       "2020-11-13  ES,DE,DK,IE,IT,LV                     29729.0   \n",
       "2020-11-12  ES,DE,DK,IE,IT,LV                     31792.0   \n",
       "2020-11-11  ES,DE,DK,IE,IT,LV                     30445.0   \n",
       "2020-11-10  ES,DE,DK,IE,IT,LV                     21163.0   \n",
       "\n",
       "                               shared_teks_uploaded_on_generation_date  \\\n",
       "sample_date source_regions                                               \n",
       "2020-11-14  ES,DE,DK,IE,IT,LV                                    211.0   \n",
       "2020-11-13  ES,DE,DK,IE,IT,LV                                    306.0   \n",
       "2020-11-12  ES,DE,DK,IE,IT,LV                                    317.0   \n",
       "2020-11-11  ES,DE,DK,IE,IT,LV                                    300.0   \n",
       "2020-11-10  ES,DE,DK,IE,IT,LV                                    292.0   \n",
       "\n",
       "                               shared_diagnoses  \n",
       "sample_date source_regions                       \n",
       "2020-11-14  ES,DE,DK,IE,IT,LV            2281.0  \n",
       "2020-11-13  ES,DE,DK,IE,IT,LV            2890.0  \n",
       "2020-11-12  ES,DE,DK,IE,IT,LV            3205.0  \n",
       "2020-11-11  ES,DE,DK,IE,IT,LV            3029.0  \n",
       "2020-11-10  ES,DE,DK,IE,IT,LV            2086.0  "
      ]
     },
     "execution_count": 46,
     "metadata": {},
     "output_type": "execute_result"
    }
   ],
   "source": [
    "result_summary_df[\"sample_date\"] = pd.to_datetime(result_summary_df.sample_date_string)\n",
    "result_summary_df = result_summary_df.merge(source_regions_for_summary_df, how=\"left\")\n",
    "result_summary_df.set_index([\"sample_date\", \"source_regions\"], inplace=True)\n",
    "result_summary_df.drop(columns=[\"sample_date_string\"], inplace=True)\n",
    "result_summary_df.sort_index(ascending=False, inplace=True)\n",
    "result_summary_df.head()"
   ]
  },
  {
   "cell_type": "code",
   "execution_count": 47,
   "metadata": {
    "execution": {
     "iopub.execute_input": "2020-11-14T23:24:09.606474Z",
     "iopub.status.busy": "2020-11-14T23:24:09.605837Z",
     "iopub.status.idle": "2020-11-14T23:24:09.624100Z",
     "shell.execute_reply": "2020-11-14T23:24:09.624645Z"
    },
    "papermill": {
     "duration": 0.092724,
     "end_time": "2020-11-14T23:24:09.624885",
     "exception": false,
     "start_time": "2020-11-14T23:24:09.532161",
     "status": "completed"
    },
    "tags": []
   },
   "outputs": [
    {
     "data": {
      "text/html": [
       "<div>\n",
       "<style scoped>\n",
       "    .dataframe tbody tr th:only-of-type {\n",
       "        vertical-align: middle;\n",
       "    }\n",
       "\n",
       "    .dataframe tbody tr th {\n",
       "        vertical-align: top;\n",
       "    }\n",
       "\n",
       "    .dataframe thead th {\n",
       "        text-align: right;\n",
       "    }\n",
       "</style>\n",
       "<table border=\"1\" class=\"dataframe\">\n",
       "  <thead>\n",
       "    <tr style=\"text-align: right;\">\n",
       "      <th></th>\n",
       "      <th></th>\n",
       "      <th>new_cases</th>\n",
       "      <th>covid_cases</th>\n",
       "      <th>shared_teks_by_generation_date</th>\n",
       "      <th>shared_teks_by_upload_date</th>\n",
       "      <th>shared_teks_uploaded_on_generation_date</th>\n",
       "      <th>shared_diagnoses</th>\n",
       "      <th>teks_per_shared_diagnosis</th>\n",
       "      <th>shared_diagnoses_per_covid_case</th>\n",
       "    </tr>\n",
       "    <tr>\n",
       "      <th>sample_date</th>\n",
       "      <th>source_regions</th>\n",
       "      <th></th>\n",
       "      <th></th>\n",
       "      <th></th>\n",
       "      <th></th>\n",
       "      <th></th>\n",
       "      <th></th>\n",
       "      <th></th>\n",
       "      <th></th>\n",
       "    </tr>\n",
       "  </thead>\n",
       "  <tbody>\n",
       "    <tr>\n",
       "      <th>2020-11-14</th>\n",
       "      <th>ES,DE,DK,IE,IT,LV</th>\n",
       "      <td>65322</td>\n",
       "      <td>73884</td>\n",
       "      <td>211</td>\n",
       "      <td>22798</td>\n",
       "      <td>211</td>\n",
       "      <td>2281</td>\n",
       "      <td>9.994739</td>\n",
       "      <td>0.030873</td>\n",
       "    </tr>\n",
       "    <tr>\n",
       "      <th>2020-11-13</th>\n",
       "      <th>ES,DE,DK,IE,IT,LV</th>\n",
       "      <td>84819</td>\n",
       "      <td>73621</td>\n",
       "      <td>1922</td>\n",
       "      <td>29729</td>\n",
       "      <td>306</td>\n",
       "      <td>2890</td>\n",
       "      <td>10.286851</td>\n",
       "      <td>0.039255</td>\n",
       "    </tr>\n",
       "    <tr>\n",
       "      <th>2020-11-12</th>\n",
       "      <th>ES,DE,DK,IE,IT,LV</th>\n",
       "      <td>76143</td>\n",
       "      <td>73029</td>\n",
       "      <td>4776</td>\n",
       "      <td>31792</td>\n",
       "      <td>317</td>\n",
       "      <td>3205</td>\n",
       "      <td>9.919501</td>\n",
       "      <td>0.043887</td>\n",
       "    </tr>\n",
       "    <tr>\n",
       "      <th>2020-11-11</th>\n",
       "      <th>ES,DE,DK,IE,IT,LV</th>\n",
       "      <td>74177</td>\n",
       "      <td>72741</td>\n",
       "      <td>7448</td>\n",
       "      <td>30445</td>\n",
       "      <td>300</td>\n",
       "      <td>3029</td>\n",
       "      <td>10.051172</td>\n",
       "      <td>0.041641</td>\n",
       "    </tr>\n",
       "    <tr>\n",
       "      <th>2020-11-10</th>\n",
       "      <th>ES,DE,DK,IE,IT,LV</th>\n",
       "      <td>59124</td>\n",
       "      <td>72476</td>\n",
       "      <td>9997</td>\n",
       "      <td>21163</td>\n",
       "      <td>292</td>\n",
       "      <td>2086</td>\n",
       "      <td>10.145254</td>\n",
       "      <td>0.028782</td>\n",
       "    </tr>\n",
       "    <tr>\n",
       "      <th>2020-11-09</th>\n",
       "      <th>ES,DE,DK,IE,IT,LV</th>\n",
       "      <td>100008</td>\n",
       "      <td>72329</td>\n",
       "      <td>12009</td>\n",
       "      <td>16517</td>\n",
       "      <td>236</td>\n",
       "      <td>1683</td>\n",
       "      <td>9.814023</td>\n",
       "      <td>0.023269</td>\n",
       "    </tr>\n",
       "    <tr>\n",
       "      <th>2020-11-08</th>\n",
       "      <th>ES,DE,IE,IT,LV</th>\n",
       "      <td>56547</td>\n",
       "      <td>71025</td>\n",
       "      <td>12991</td>\n",
       "      <td>16816</td>\n",
       "      <td>209</td>\n",
       "      <td>1809</td>\n",
       "      <td>9.295744</td>\n",
       "      <td>0.025470</td>\n",
       "    </tr>\n",
       "    <tr>\n",
       "      <th>2020-11-07</th>\n",
       "      <th>ES,DE,IE,IT,LV</th>\n",
       "      <td>62050</td>\n",
       "      <td>69596</td>\n",
       "      <td>14153</td>\n",
       "      <td>23688</td>\n",
       "      <td>313</td>\n",
       "      <td>2490</td>\n",
       "      <td>9.513253</td>\n",
       "      <td>0.035778</td>\n",
       "    </tr>\n",
       "    <tr>\n",
       "      <th>2020-11-06</th>\n",
       "      <th>ES,DE,IE,IT,LV</th>\n",
       "      <td>79454</td>\n",
       "      <td>68044</td>\n",
       "      <td>15822</td>\n",
       "      <td>28583</td>\n",
       "      <td>263</td>\n",
       "      <td>2909</td>\n",
       "      <td>9.825713</td>\n",
       "      <td>0.042752</td>\n",
       "    </tr>\n",
       "    <tr>\n",
       "      <th>2020-11-05</th>\n",
       "      <th>ES,DE,IE,IT,LV</th>\n",
       "      <td>73194</td>\n",
       "      <td>67010</td>\n",
       "      <td>17971</td>\n",
       "      <td>26573</td>\n",
       "      <td>267</td>\n",
       "      <td>2696</td>\n",
       "      <td>9.856454</td>\n",
       "      <td>0.040233</td>\n",
       "    </tr>\n",
       "    <tr>\n",
       "      <th>2020-11-04</th>\n",
       "      <th>ES,DE,IE,IT,LV</th>\n",
       "      <td>70966</td>\n",
       "      <td>66020</td>\n",
       "      <td>20014</td>\n",
       "      <td>28247</td>\n",
       "      <td>344</td>\n",
       "      <td>2851</td>\n",
       "      <td>9.907752</td>\n",
       "      <td>0.043184</td>\n",
       "    </tr>\n",
       "    <tr>\n",
       "      <th>2020-11-03</th>\n",
       "      <th>ES,DE,IE,IT,LV</th>\n",
       "      <td>57154</td>\n",
       "      <td>64104</td>\n",
       "      <td>21912</td>\n",
       "      <td>20613</td>\n",
       "      <td>280</td>\n",
       "      <td>1961</td>\n",
       "      <td>10.511474</td>\n",
       "      <td>0.030591</td>\n",
       "    </tr>\n",
       "    <tr>\n",
       "      <th>2020-11-02</th>\n",
       "      <th>ES,DE,IE,IT,LV</th>\n",
       "      <td>97809</td>\n",
       "      <td>62775</td>\n",
       "      <td>23276</td>\n",
       "      <td>16927</td>\n",
       "      <td>264</td>\n",
       "      <td>1711</td>\n",
       "      <td>9.893045</td>\n",
       "      <td>0.027256</td>\n",
       "    </tr>\n",
       "    <tr>\n",
       "      <th>2020-11-01</th>\n",
       "      <th>ES,DE,IE,IT,LV</th>\n",
       "      <td>46545</td>\n",
       "      <td>60713</td>\n",
       "      <td>23893</td>\n",
       "      <td>16848</td>\n",
       "      <td>277</td>\n",
       "      <td>1842</td>\n",
       "      <td>9.146580</td>\n",
       "      <td>0.030339</td>\n",
       "    </tr>\n",
       "    <tr>\n",
       "      <th>2020-10-31</th>\n",
       "      <th>ES,DE,IE,IT,LV</th>\n",
       "      <td>51184</td>\n",
       "      <td>58624</td>\n",
       "      <td>23407</td>\n",
       "      <td>20328</td>\n",
       "      <td>305</td>\n",
       "      <td>2163</td>\n",
       "      <td>9.398058</td>\n",
       "      <td>0.036896</td>\n",
       "    </tr>\n",
       "    <tr>\n",
       "      <th>2020-10-30</th>\n",
       "      <th>ES,DE,IE,IT,LV</th>\n",
       "      <td>72219</td>\n",
       "      <td>56297</td>\n",
       "      <td>22997</td>\n",
       "      <td>100215</td>\n",
       "      <td>382</td>\n",
       "      <td>0</td>\n",
       "      <td>0.000000</td>\n",
       "      <td>0.000000</td>\n",
       "    </tr>\n",
       "    <tr>\n",
       "      <th>2020-10-29</th>\n",
       "      <th>ES</th>\n",
       "      <td>23580</td>\n",
       "      <td>19115</td>\n",
       "      <td>22747</td>\n",
       "      <td>1847</td>\n",
       "      <td>397</td>\n",
       "      <td>397</td>\n",
       "      <td>4.652393</td>\n",
       "      <td>0.020769</td>\n",
       "    </tr>\n",
       "    <tr>\n",
       "      <th>2020-10-28</th>\n",
       "      <th>ES</th>\n",
       "      <td>19765</td>\n",
       "      <td>18744</td>\n",
       "      <td>22541</td>\n",
       "      <td>1933</td>\n",
       "      <td>406</td>\n",
       "      <td>406</td>\n",
       "      <td>4.761084</td>\n",
       "      <td>0.021660</td>\n",
       "    </tr>\n",
       "    <tr>\n",
       "      <th>2020-10-27</th>\n",
       "      <th>ES</th>\n",
       "      <td>18418</td>\n",
       "      <td>18345</td>\n",
       "      <td>22580</td>\n",
       "      <td>988</td>\n",
       "      <td>231</td>\n",
       "      <td>231</td>\n",
       "      <td>4.277056</td>\n",
       "      <td>0.012592</td>\n",
       "    </tr>\n",
       "    <tr>\n",
       "      <th>2020-10-26</th>\n",
       "      <th>ES</th>\n",
       "      <td>52188</td>\n",
       "      <td>17696</td>\n",
       "      <td>22617</td>\n",
       "      <td>994</td>\n",
       "      <td>215</td>\n",
       "      <td>215</td>\n",
       "      <td>4.623256</td>\n",
       "      <td>0.012150</td>\n",
       "    </tr>\n",
       "    <tr>\n",
       "      <th>2020-10-25</th>\n",
       "      <th>ES</th>\n",
       "      <td>0</td>\n",
       "      <td>15653</td>\n",
       "      <td>21944</td>\n",
       "      <td>679</td>\n",
       "      <td>179</td>\n",
       "      <td>179</td>\n",
       "      <td>3.793296</td>\n",
       "      <td>0.011436</td>\n",
       "    </tr>\n",
       "    <tr>\n",
       "      <th>2020-10-24</th>\n",
       "      <th>ES</th>\n",
       "      <td>0</td>\n",
       "      <td>15653</td>\n",
       "      <td>20758</td>\n",
       "      <td>703</td>\n",
       "      <td>177</td>\n",
       "      <td>177</td>\n",
       "      <td>3.971751</td>\n",
       "      <td>0.011308</td>\n",
       "    </tr>\n",
       "    <tr>\n",
       "      <th>2020-10-23</th>\n",
       "      <th>ES</th>\n",
       "      <td>19851</td>\n",
       "      <td>15653</td>\n",
       "      <td>19712</td>\n",
       "      <td>769</td>\n",
       "      <td>167</td>\n",
       "      <td>167</td>\n",
       "      <td>4.604790</td>\n",
       "      <td>0.010669</td>\n",
       "    </tr>\n",
       "    <tr>\n",
       "      <th>2020-10-22</th>\n",
       "      <th>ES</th>\n",
       "      <td>20986</td>\n",
       "      <td>14987</td>\n",
       "      <td>17299</td>\n",
       "      <td>726</td>\n",
       "      <td>180</td>\n",
       "      <td>180</td>\n",
       "      <td>4.033333</td>\n",
       "      <td>0.012010</td>\n",
       "    </tr>\n",
       "    <tr>\n",
       "      <th>2020-10-21</th>\n",
       "      <th>ES</th>\n",
       "      <td>16973</td>\n",
       "      <td>13891</td>\n",
       "      <td>14775</td>\n",
       "      <td>841</td>\n",
       "      <td>157</td>\n",
       "      <td>157</td>\n",
       "      <td>5.356688</td>\n",
       "      <td>0.011302</td>\n",
       "    </tr>\n",
       "    <tr>\n",
       "      <th>2020-10-20</th>\n",
       "      <th>ES</th>\n",
       "      <td>13873</td>\n",
       "      <td>13177</td>\n",
       "      <td>13006</td>\n",
       "      <td>772</td>\n",
       "      <td>149</td>\n",
       "      <td>149</td>\n",
       "      <td>5.181208</td>\n",
       "      <td>0.011308</td>\n",
       "    </tr>\n",
       "    <tr>\n",
       "      <th>2020-10-19</th>\n",
       "      <th>ES</th>\n",
       "      <td>37889</td>\n",
       "      <td>12212</td>\n",
       "      <td>11649</td>\n",
       "      <td>791</td>\n",
       "      <td>142</td>\n",
       "      <td>142</td>\n",
       "      <td>5.570423</td>\n",
       "      <td>0.011628</td>\n",
       "    </tr>\n",
       "    <tr>\n",
       "      <th>2020-10-18</th>\n",
       "      <th>ES</th>\n",
       "      <td>0</td>\n",
       "      <td>10778</td>\n",
       "      <td>10346</td>\n",
       "      <td>726</td>\n",
       "      <td>146</td>\n",
       "      <td>146</td>\n",
       "      <td>4.972603</td>\n",
       "      <td>0.013546</td>\n",
       "    </tr>\n",
       "  </tbody>\n",
       "</table>\n",
       "</div>"
      ],
      "text/plain": [
       "                               new_cases  covid_cases  \\\n",
       "sample_date source_regions                              \n",
       "2020-11-14  ES,DE,DK,IE,IT,LV      65322        73884   \n",
       "2020-11-13  ES,DE,DK,IE,IT,LV      84819        73621   \n",
       "2020-11-12  ES,DE,DK,IE,IT,LV      76143        73029   \n",
       "2020-11-11  ES,DE,DK,IE,IT,LV      74177        72741   \n",
       "2020-11-10  ES,DE,DK,IE,IT,LV      59124        72476   \n",
       "2020-11-09  ES,DE,DK,IE,IT,LV     100008        72329   \n",
       "2020-11-08  ES,DE,IE,IT,LV         56547        71025   \n",
       "2020-11-07  ES,DE,IE,IT,LV         62050        69596   \n",
       "2020-11-06  ES,DE,IE,IT,LV         79454        68044   \n",
       "2020-11-05  ES,DE,IE,IT,LV         73194        67010   \n",
       "2020-11-04  ES,DE,IE,IT,LV         70966        66020   \n",
       "2020-11-03  ES,DE,IE,IT,LV         57154        64104   \n",
       "2020-11-02  ES,DE,IE,IT,LV         97809        62775   \n",
       "2020-11-01  ES,DE,IE,IT,LV         46545        60713   \n",
       "2020-10-31  ES,DE,IE,IT,LV         51184        58624   \n",
       "2020-10-30  ES,DE,IE,IT,LV         72219        56297   \n",
       "2020-10-29  ES                     23580        19115   \n",
       "2020-10-28  ES                     19765        18744   \n",
       "2020-10-27  ES                     18418        18345   \n",
       "2020-10-26  ES                     52188        17696   \n",
       "2020-10-25  ES                         0        15653   \n",
       "2020-10-24  ES                         0        15653   \n",
       "2020-10-23  ES                     19851        15653   \n",
       "2020-10-22  ES                     20986        14987   \n",
       "2020-10-21  ES                     16973        13891   \n",
       "2020-10-20  ES                     13873        13177   \n",
       "2020-10-19  ES                     37889        12212   \n",
       "2020-10-18  ES                         0        10778   \n",
       "\n",
       "                               shared_teks_by_generation_date  \\\n",
       "sample_date source_regions                                      \n",
       "2020-11-14  ES,DE,DK,IE,IT,LV                             211   \n",
       "2020-11-13  ES,DE,DK,IE,IT,LV                            1922   \n",
       "2020-11-12  ES,DE,DK,IE,IT,LV                            4776   \n",
       "2020-11-11  ES,DE,DK,IE,IT,LV                            7448   \n",
       "2020-11-10  ES,DE,DK,IE,IT,LV                            9997   \n",
       "2020-11-09  ES,DE,DK,IE,IT,LV                           12009   \n",
       "2020-11-08  ES,DE,IE,IT,LV                              12991   \n",
       "2020-11-07  ES,DE,IE,IT,LV                              14153   \n",
       "2020-11-06  ES,DE,IE,IT,LV                              15822   \n",
       "2020-11-05  ES,DE,IE,IT,LV                              17971   \n",
       "2020-11-04  ES,DE,IE,IT,LV                              20014   \n",
       "2020-11-03  ES,DE,IE,IT,LV                              21912   \n",
       "2020-11-02  ES,DE,IE,IT,LV                              23276   \n",
       "2020-11-01  ES,DE,IE,IT,LV                              23893   \n",
       "2020-10-31  ES,DE,IE,IT,LV                              23407   \n",
       "2020-10-30  ES,DE,IE,IT,LV                              22997   \n",
       "2020-10-29  ES                                          22747   \n",
       "2020-10-28  ES                                          22541   \n",
       "2020-10-27  ES                                          22580   \n",
       "2020-10-26  ES                                          22617   \n",
       "2020-10-25  ES                                          21944   \n",
       "2020-10-24  ES                                          20758   \n",
       "2020-10-23  ES                                          19712   \n",
       "2020-10-22  ES                                          17299   \n",
       "2020-10-21  ES                                          14775   \n",
       "2020-10-20  ES                                          13006   \n",
       "2020-10-19  ES                                          11649   \n",
       "2020-10-18  ES                                          10346   \n",
       "\n",
       "                               shared_teks_by_upload_date  \\\n",
       "sample_date source_regions                                  \n",
       "2020-11-14  ES,DE,DK,IE,IT,LV                       22798   \n",
       "2020-11-13  ES,DE,DK,IE,IT,LV                       29729   \n",
       "2020-11-12  ES,DE,DK,IE,IT,LV                       31792   \n",
       "2020-11-11  ES,DE,DK,IE,IT,LV                       30445   \n",
       "2020-11-10  ES,DE,DK,IE,IT,LV                       21163   \n",
       "2020-11-09  ES,DE,DK,IE,IT,LV                       16517   \n",
       "2020-11-08  ES,DE,IE,IT,LV                          16816   \n",
       "2020-11-07  ES,DE,IE,IT,LV                          23688   \n",
       "2020-11-06  ES,DE,IE,IT,LV                          28583   \n",
       "2020-11-05  ES,DE,IE,IT,LV                          26573   \n",
       "2020-11-04  ES,DE,IE,IT,LV                          28247   \n",
       "2020-11-03  ES,DE,IE,IT,LV                          20613   \n",
       "2020-11-02  ES,DE,IE,IT,LV                          16927   \n",
       "2020-11-01  ES,DE,IE,IT,LV                          16848   \n",
       "2020-10-31  ES,DE,IE,IT,LV                          20328   \n",
       "2020-10-30  ES,DE,IE,IT,LV                         100215   \n",
       "2020-10-29  ES                                       1847   \n",
       "2020-10-28  ES                                       1933   \n",
       "2020-10-27  ES                                        988   \n",
       "2020-10-26  ES                                        994   \n",
       "2020-10-25  ES                                        679   \n",
       "2020-10-24  ES                                        703   \n",
       "2020-10-23  ES                                        769   \n",
       "2020-10-22  ES                                        726   \n",
       "2020-10-21  ES                                        841   \n",
       "2020-10-20  ES                                        772   \n",
       "2020-10-19  ES                                        791   \n",
       "2020-10-18  ES                                        726   \n",
       "\n",
       "                               shared_teks_uploaded_on_generation_date  \\\n",
       "sample_date source_regions                                               \n",
       "2020-11-14  ES,DE,DK,IE,IT,LV                                      211   \n",
       "2020-11-13  ES,DE,DK,IE,IT,LV                                      306   \n",
       "2020-11-12  ES,DE,DK,IE,IT,LV                                      317   \n",
       "2020-11-11  ES,DE,DK,IE,IT,LV                                      300   \n",
       "2020-11-10  ES,DE,DK,IE,IT,LV                                      292   \n",
       "2020-11-09  ES,DE,DK,IE,IT,LV                                      236   \n",
       "2020-11-08  ES,DE,IE,IT,LV                                         209   \n",
       "2020-11-07  ES,DE,IE,IT,LV                                         313   \n",
       "2020-11-06  ES,DE,IE,IT,LV                                         263   \n",
       "2020-11-05  ES,DE,IE,IT,LV                                         267   \n",
       "2020-11-04  ES,DE,IE,IT,LV                                         344   \n",
       "2020-11-03  ES,DE,IE,IT,LV                                         280   \n",
       "2020-11-02  ES,DE,IE,IT,LV                                         264   \n",
       "2020-11-01  ES,DE,IE,IT,LV                                         277   \n",
       "2020-10-31  ES,DE,IE,IT,LV                                         305   \n",
       "2020-10-30  ES,DE,IE,IT,LV                                         382   \n",
       "2020-10-29  ES                                                     397   \n",
       "2020-10-28  ES                                                     406   \n",
       "2020-10-27  ES                                                     231   \n",
       "2020-10-26  ES                                                     215   \n",
       "2020-10-25  ES                                                     179   \n",
       "2020-10-24  ES                                                     177   \n",
       "2020-10-23  ES                                                     167   \n",
       "2020-10-22  ES                                                     180   \n",
       "2020-10-21  ES                                                     157   \n",
       "2020-10-20  ES                                                     149   \n",
       "2020-10-19  ES                                                     142   \n",
       "2020-10-18  ES                                                     146   \n",
       "\n",
       "                               shared_diagnoses  teks_per_shared_diagnosis  \\\n",
       "sample_date source_regions                                                   \n",
       "2020-11-14  ES,DE,DK,IE,IT,LV              2281                   9.994739   \n",
       "2020-11-13  ES,DE,DK,IE,IT,LV              2890                  10.286851   \n",
       "2020-11-12  ES,DE,DK,IE,IT,LV              3205                   9.919501   \n",
       "2020-11-11  ES,DE,DK,IE,IT,LV              3029                  10.051172   \n",
       "2020-11-10  ES,DE,DK,IE,IT,LV              2086                  10.145254   \n",
       "2020-11-09  ES,DE,DK,IE,IT,LV              1683                   9.814023   \n",
       "2020-11-08  ES,DE,IE,IT,LV                 1809                   9.295744   \n",
       "2020-11-07  ES,DE,IE,IT,LV                 2490                   9.513253   \n",
       "2020-11-06  ES,DE,IE,IT,LV                 2909                   9.825713   \n",
       "2020-11-05  ES,DE,IE,IT,LV                 2696                   9.856454   \n",
       "2020-11-04  ES,DE,IE,IT,LV                 2851                   9.907752   \n",
       "2020-11-03  ES,DE,IE,IT,LV                 1961                  10.511474   \n",
       "2020-11-02  ES,DE,IE,IT,LV                 1711                   9.893045   \n",
       "2020-11-01  ES,DE,IE,IT,LV                 1842                   9.146580   \n",
       "2020-10-31  ES,DE,IE,IT,LV                 2163                   9.398058   \n",
       "2020-10-30  ES,DE,IE,IT,LV                    0                   0.000000   \n",
       "2020-10-29  ES                              397                   4.652393   \n",
       "2020-10-28  ES                              406                   4.761084   \n",
       "2020-10-27  ES                              231                   4.277056   \n",
       "2020-10-26  ES                              215                   4.623256   \n",
       "2020-10-25  ES                              179                   3.793296   \n",
       "2020-10-24  ES                              177                   3.971751   \n",
       "2020-10-23  ES                              167                   4.604790   \n",
       "2020-10-22  ES                              180                   4.033333   \n",
       "2020-10-21  ES                              157                   5.356688   \n",
       "2020-10-20  ES                              149                   5.181208   \n",
       "2020-10-19  ES                              142                   5.570423   \n",
       "2020-10-18  ES                              146                   4.972603   \n",
       "\n",
       "                               shared_diagnoses_per_covid_case  \n",
       "sample_date source_regions                                      \n",
       "2020-11-14  ES,DE,DK,IE,IT,LV                         0.030873  \n",
       "2020-11-13  ES,DE,DK,IE,IT,LV                         0.039255  \n",
       "2020-11-12  ES,DE,DK,IE,IT,LV                         0.043887  \n",
       "2020-11-11  ES,DE,DK,IE,IT,LV                         0.041641  \n",
       "2020-11-10  ES,DE,DK,IE,IT,LV                         0.028782  \n",
       "2020-11-09  ES,DE,DK,IE,IT,LV                         0.023269  \n",
       "2020-11-08  ES,DE,IE,IT,LV                            0.025470  \n",
       "2020-11-07  ES,DE,IE,IT,LV                            0.035778  \n",
       "2020-11-06  ES,DE,IE,IT,LV                            0.042752  \n",
       "2020-11-05  ES,DE,IE,IT,LV                            0.040233  \n",
       "2020-11-04  ES,DE,IE,IT,LV                            0.043184  \n",
       "2020-11-03  ES,DE,IE,IT,LV                            0.030591  \n",
       "2020-11-02  ES,DE,IE,IT,LV                            0.027256  \n",
       "2020-11-01  ES,DE,IE,IT,LV                            0.030339  \n",
       "2020-10-31  ES,DE,IE,IT,LV                            0.036896  \n",
       "2020-10-30  ES,DE,IE,IT,LV                            0.000000  \n",
       "2020-10-29  ES                                        0.020769  \n",
       "2020-10-28  ES                                        0.021660  \n",
       "2020-10-27  ES                                        0.012592  \n",
       "2020-10-26  ES                                        0.012150  \n",
       "2020-10-25  ES                                        0.011436  \n",
       "2020-10-24  ES                                        0.011308  \n",
       "2020-10-23  ES                                        0.010669  \n",
       "2020-10-22  ES                                        0.012010  \n",
       "2020-10-21  ES                                        0.011302  \n",
       "2020-10-20  ES                                        0.011308  \n",
       "2020-10-19  ES                                        0.011628  \n",
       "2020-10-18  ES                                        0.013546  "
      ]
     },
     "execution_count": 47,
     "metadata": {},
     "output_type": "execute_result"
    }
   ],
   "source": [
    "with pd.option_context(\"mode.use_inf_as_na\", True):\n",
    "    result_summary_df = result_summary_df.fillna(0).astype(int)\n",
    "    result_summary_df[\"teks_per_shared_diagnosis\"] = \\\n",
    "        (result_summary_df.shared_teks_by_upload_date / result_summary_df.shared_diagnoses).fillna(0)\n",
    "    result_summary_df[\"shared_diagnoses_per_covid_case\"] = \\\n",
    "        (result_summary_df.shared_diagnoses / result_summary_df.covid_cases).fillna(0)\n",
    "\n",
    "result_summary_df.head(daily_plot_days)"
   ]
  },
  {
   "cell_type": "code",
   "execution_count": 48,
   "metadata": {
    "collapsed": false,
    "execution": {
     "iopub.execute_input": "2020-11-14T23:24:09.765721Z",
     "iopub.status.busy": "2020-11-14T23:24:09.765055Z",
     "iopub.status.idle": "2020-11-14T23:24:09.786269Z",
     "shell.execute_reply": "2020-11-14T23:24:09.786849Z"
    },
    "papermill": {
     "duration": 0.095837,
     "end_time": "2020-11-14T23:24:09.787093",
     "exception": false,
     "start_time": "2020-11-14T23:24:09.691256",
     "status": "completed"
    },
    "pycharm": {
     "name": "#%%\n"
    },
    "tags": []
   },
   "outputs": [
    {
     "data": {
      "text/html": [
       "<div>\n",
       "<style scoped>\n",
       "    .dataframe tbody tr th:only-of-type {\n",
       "        vertical-align: middle;\n",
       "    }\n",
       "\n",
       "    .dataframe tbody tr th {\n",
       "        vertical-align: top;\n",
       "    }\n",
       "\n",
       "    .dataframe thead th {\n",
       "        text-align: right;\n",
       "    }\n",
       "</style>\n",
       "<table border=\"1\" class=\"dataframe\">\n",
       "  <thead>\n",
       "    <tr style=\"text-align: right;\">\n",
       "      <th></th>\n",
       "      <th></th>\n",
       "      <th>covid_cases</th>\n",
       "      <th>shared_teks_by_generation_date</th>\n",
       "      <th>shared_teks_by_upload_date</th>\n",
       "      <th>shared_diagnoses</th>\n",
       "      <th>teks_per_shared_diagnosis</th>\n",
       "      <th>shared_diagnoses_per_covid_case</th>\n",
       "    </tr>\n",
       "    <tr>\n",
       "      <th>sample_date</th>\n",
       "      <th>source_regions</th>\n",
       "      <th></th>\n",
       "      <th></th>\n",
       "      <th></th>\n",
       "      <th></th>\n",
       "      <th></th>\n",
       "      <th></th>\n",
       "    </tr>\n",
       "  </thead>\n",
       "  <tbody>\n",
       "    <tr>\n",
       "      <th>2020-11-14</th>\n",
       "      <th>ES,DE,DK,IE,IT,LV</th>\n",
       "      <td>509105</td>\n",
       "      <td>49354</td>\n",
       "      <td>169260</td>\n",
       "      <td>16983</td>\n",
       "      <td>9.966437</td>\n",
       "      <td>0.033359</td>\n",
       "    </tr>\n",
       "    <tr>\n",
       "      <th>2020-11-13</th>\n",
       "      <th>ES,DE,DK,IE,IT,LV</th>\n",
       "      <td>504817</td>\n",
       "      <td>63296</td>\n",
       "      <td>170150</td>\n",
       "      <td>17192</td>\n",
       "      <td>9.897045</td>\n",
       "      <td>0.034056</td>\n",
       "    </tr>\n",
       "    <tr>\n",
       "      <th>2020-11-12</th>\n",
       "      <th>ES,DE,DK,IE,IT,LV</th>\n",
       "      <td>499240</td>\n",
       "      <td>77196</td>\n",
       "      <td>169004</td>\n",
       "      <td>17211</td>\n",
       "      <td>9.819534</td>\n",
       "      <td>0.034474</td>\n",
       "    </tr>\n",
       "    <tr>\n",
       "      <th>2020-11-11</th>\n",
       "      <th>ES,DE,DK,IE,IT,LV</th>\n",
       "      <td>493221</td>\n",
       "      <td>90391</td>\n",
       "      <td>163785</td>\n",
       "      <td>16702</td>\n",
       "      <td>9.806311</td>\n",
       "      <td>0.033863</td>\n",
       "    </tr>\n",
       "    <tr>\n",
       "      <th>2020-11-10</th>\n",
       "      <th>ES,DE,DK,IE,IT,LV</th>\n",
       "      <td>486500</td>\n",
       "      <td>102957</td>\n",
       "      <td>161587</td>\n",
       "      <td>16524</td>\n",
       "      <td>9.778928</td>\n",
       "      <td>0.033965</td>\n",
       "    </tr>\n",
       "  </tbody>\n",
       "</table>\n",
       "</div>"
      ],
      "text/plain": [
       "                               covid_cases  shared_teks_by_generation_date  \\\n",
       "sample_date source_regions                                                   \n",
       "2020-11-14  ES,DE,DK,IE,IT,LV       509105                           49354   \n",
       "2020-11-13  ES,DE,DK,IE,IT,LV       504817                           63296   \n",
       "2020-11-12  ES,DE,DK,IE,IT,LV       499240                           77196   \n",
       "2020-11-11  ES,DE,DK,IE,IT,LV       493221                           90391   \n",
       "2020-11-10  ES,DE,DK,IE,IT,LV       486500                          102957   \n",
       "\n",
       "                               shared_teks_by_upload_date  shared_diagnoses  \\\n",
       "sample_date source_regions                                                    \n",
       "2020-11-14  ES,DE,DK,IE,IT,LV                      169260             16983   \n",
       "2020-11-13  ES,DE,DK,IE,IT,LV                      170150             17192   \n",
       "2020-11-12  ES,DE,DK,IE,IT,LV                      169004             17211   \n",
       "2020-11-11  ES,DE,DK,IE,IT,LV                      163785             16702   \n",
       "2020-11-10  ES,DE,DK,IE,IT,LV                      161587             16524   \n",
       "\n",
       "                               teks_per_shared_diagnosis  \\\n",
       "sample_date source_regions                                 \n",
       "2020-11-14  ES,DE,DK,IE,IT,LV                   9.966437   \n",
       "2020-11-13  ES,DE,DK,IE,IT,LV                   9.897045   \n",
       "2020-11-12  ES,DE,DK,IE,IT,LV                   9.819534   \n",
       "2020-11-11  ES,DE,DK,IE,IT,LV                   9.806311   \n",
       "2020-11-10  ES,DE,DK,IE,IT,LV                   9.778928   \n",
       "\n",
       "                               shared_diagnoses_per_covid_case  \n",
       "sample_date source_regions                                      \n",
       "2020-11-14  ES,DE,DK,IE,IT,LV                         0.033359  \n",
       "2020-11-13  ES,DE,DK,IE,IT,LV                         0.034056  \n",
       "2020-11-12  ES,DE,DK,IE,IT,LV                         0.034474  \n",
       "2020-11-11  ES,DE,DK,IE,IT,LV                         0.033863  \n",
       "2020-11-10  ES,DE,DK,IE,IT,LV                         0.033965  "
      ]
     },
     "execution_count": 48,
     "metadata": {},
     "output_type": "execute_result"
    }
   ],
   "source": [
    "weekly_result_summary_df = result_summary_df \\\n",
    "    .sort_index(ascending=True).fillna(0).rolling(7).agg({\n",
    "    \"covid_cases\": \"sum\",\n",
    "    \"shared_teks_by_generation_date\": \"sum\",\n",
    "    \"shared_teks_by_upload_date\": \"sum\",\n",
    "    \"shared_diagnoses\": \"sum\"\n",
    "}).sort_index(ascending=False)\n",
    "\n",
    "with pd.option_context(\"mode.use_inf_as_na\", True):\n",
    "    weekly_result_summary_df = weekly_result_summary_df.fillna(0).astype(int)\n",
    "    weekly_result_summary_df[\"teks_per_shared_diagnosis\"] = \\\n",
    "        (weekly_result_summary_df.shared_teks_by_upload_date / weekly_result_summary_df.shared_diagnoses).fillna(0)\n",
    "    weekly_result_summary_df[\"shared_diagnoses_per_covid_case\"] = \\\n",
    "        (weekly_result_summary_df.shared_diagnoses / weekly_result_summary_df.covid_cases).fillna(0)\n",
    "\n",
    "weekly_result_summary_df.head()"
   ]
  },
  {
   "cell_type": "code",
   "execution_count": 49,
   "metadata": {
    "collapsed": false,
    "execution": {
     "iopub.execute_input": "2020-11-14T23:24:09.928580Z",
     "iopub.status.busy": "2020-11-14T23:24:09.927932Z",
     "iopub.status.idle": "2020-11-14T23:24:09.933213Z",
     "shell.execute_reply": "2020-11-14T23:24:09.932662Z"
    },
    "papermill": {
     "duration": 0.081129,
     "end_time": "2020-11-14T23:24:09.933359",
     "exception": false,
     "start_time": "2020-11-14T23:24:09.852230",
     "status": "completed"
    },
    "pycharm": {
     "name": "#%%\n"
    },
    "tags": []
   },
   "outputs": [
    {
     "data": {
      "text/plain": [
       "{'covid_cases': 504817,\n",
       " 'shared_teks_by_generation_date': 63296,\n",
       " 'shared_teks_by_upload_date': 170150,\n",
       " 'shared_diagnoses': 17192,\n",
       " 'teks_per_shared_diagnosis': 9.89704513727315,\n",
       " 'shared_diagnoses_per_covid_case': 0.03405590540730601}"
      ]
     },
     "execution_count": 49,
     "metadata": {},
     "output_type": "execute_result"
    }
   ],
   "source": [
    "last_7_days_summary = weekly_result_summary_df.to_dict(orient=\"records\")[1]\n",
    "last_7_days_summary"
   ]
  },
  {
   "cell_type": "markdown",
   "metadata": {
    "collapsed": false,
    "papermill": {
     "duration": 0.063965,
     "end_time": "2020-11-14T23:24:10.062812",
     "exception": false,
     "start_time": "2020-11-14T23:24:09.998847",
     "status": "completed"
    },
    "tags": []
   },
   "source": [
    "## Report Results"
   ]
  },
  {
   "cell_type": "code",
   "execution_count": 50,
   "metadata": {
    "collapsed": false,
    "execution": {
     "iopub.execute_input": "2020-11-14T23:24:10.198782Z",
     "iopub.status.busy": "2020-11-14T23:24:10.198132Z",
     "iopub.status.idle": "2020-11-14T23:24:10.200368Z",
     "shell.execute_reply": "2020-11-14T23:24:10.200826Z"
    },
    "papermill": {
     "duration": 0.07247,
     "end_time": "2020-11-14T23:24:10.200989",
     "exception": false,
     "start_time": "2020-11-14T23:24:10.128519",
     "status": "completed"
    },
    "pycharm": {
     "name": "#%%\n"
    },
    "tags": []
   },
   "outputs": [],
   "source": [
    "display_column_name_mapping = {\n",
    "    \"sample_date\": \"Sample\\u00A0Date\\u00A0(UTC)\",\n",
    "    \"source_regions\": \"Source Countries\",\n",
    "    \"datetime_utc\": \"Timestamp (UTC)\",\n",
    "    \"upload_date\": \"Upload Date (UTC)\",\n",
    "    \"generation_to_upload_days\": \"Generation to Upload Period in Days\",\n",
    "    \"region\": \"Backend\",\n",
    "    \"region_x\": \"Backend\\u00A0(A)\",\n",
    "    \"region_y\": \"Backend\\u00A0(B)\",\n",
    "    \"common_teks\": \"Common TEKs Shared Between Backends\",\n",
    "    \"common_teks_fraction\": \"Fraction of TEKs in Backend (A) Available in Backend (B)\",\n",
    "    \"covid_cases\": \"COVID-19 Cases in Source Countries (7-day Rolling Average)\",\n",
    "    \"shared_teks_by_generation_date\": \"Shared TEKs by Generation Date\",\n",
    "    \"shared_teks_by_upload_date\": \"Shared TEKs by Upload Date\",\n",
    "    \"shared_diagnoses\": \"Shared Diagnoses (Estimation)\",\n",
    "    \"teks_per_shared_diagnosis\": \"TEKs Uploaded per Shared Diagnosis\",\n",
    "    \"shared_diagnoses_per_covid_case\": \"Usage Ratio (Fraction of Cases in Source Countries Which Shared Diagnosis)\",\n",
    "    \"shared_teks_uploaded_on_generation_date\": \"Shared TEKs Uploaded on Generation Date\",\n",
    "}"
   ]
  },
  {
   "cell_type": "code",
   "execution_count": 51,
   "metadata": {
    "collapsed": false,
    "execution": {
     "iopub.execute_input": "2020-11-14T23:24:10.336385Z",
     "iopub.status.busy": "2020-11-14T23:24:10.335736Z",
     "iopub.status.idle": "2020-11-14T23:24:10.337959Z",
     "shell.execute_reply": "2020-11-14T23:24:10.338459Z"
    },
    "papermill": {
     "duration": 0.074052,
     "end_time": "2020-11-14T23:24:10.338624",
     "exception": false,
     "start_time": "2020-11-14T23:24:10.264572",
     "status": "completed"
    },
    "pycharm": {
     "name": "#%%\n"
    },
    "tags": []
   },
   "outputs": [],
   "source": [
    "summary_columns = [\n",
    "    \"covid_cases\",\n",
    "    \"shared_teks_by_generation_date\",\n",
    "    \"shared_teks_by_upload_date\",\n",
    "    \"shared_teks_uploaded_on_generation_date\",\n",
    "    \"shared_diagnoses\",\n",
    "    \"teks_per_shared_diagnosis\",\n",
    "    \"shared_diagnoses_per_covid_case\",\n",
    "]"
   ]
  },
  {
   "cell_type": "markdown",
   "metadata": {
    "collapsed": false,
    "papermill": {
     "duration": 0.067528,
     "end_time": "2020-11-14T23:24:10.473240",
     "exception": false,
     "start_time": "2020-11-14T23:24:10.405712",
     "status": "completed"
    },
    "tags": []
   },
   "source": [
    "### Daily Summary Table"
   ]
  },
  {
   "cell_type": "code",
   "execution_count": 52,
   "metadata": {
    "collapsed": false,
    "execution": {
     "iopub.execute_input": "2020-11-14T23:24:10.631887Z",
     "iopub.status.busy": "2020-11-14T23:24:10.631246Z",
     "iopub.status.idle": "2020-11-14T23:24:10.633986Z",
     "shell.execute_reply": "2020-11-14T23:24:10.634517Z"
    },
    "papermill": {
     "duration": 0.09359,
     "end_time": "2020-11-14T23:24:10.634695",
     "exception": false,
     "start_time": "2020-11-14T23:24:10.541105",
     "status": "completed"
    },
    "pycharm": {
     "name": "#%%\n"
    },
    "tags": []
   },
   "outputs": [
    {
     "data": {
      "text/html": [
       "<div>\n",
       "<style scoped>\n",
       "    .dataframe tbody tr th:only-of-type {\n",
       "        vertical-align: middle;\n",
       "    }\n",
       "\n",
       "    .dataframe tbody tr th {\n",
       "        vertical-align: top;\n",
       "    }\n",
       "\n",
       "    .dataframe thead th {\n",
       "        text-align: right;\n",
       "    }\n",
       "</style>\n",
       "<table border=\"1\" class=\"dataframe\">\n",
       "  <thead>\n",
       "    <tr style=\"text-align: right;\">\n",
       "      <th></th>\n",
       "      <th></th>\n",
       "      <th>COVID-19 Cases in Source Countries (7-day Rolling Average)</th>\n",
       "      <th>Shared TEKs by Generation Date</th>\n",
       "      <th>Shared TEKs by Upload Date</th>\n",
       "      <th>Shared TEKs Uploaded on Generation Date</th>\n",
       "      <th>Shared Diagnoses (Estimation)</th>\n",
       "      <th>TEKs Uploaded per Shared Diagnosis</th>\n",
       "      <th>Usage Ratio (Fraction of Cases in Source Countries Which Shared Diagnosis)</th>\n",
       "    </tr>\n",
       "    <tr>\n",
       "      <th>Sample Date (UTC)</th>\n",
       "      <th>Source Countries</th>\n",
       "      <th></th>\n",
       "      <th></th>\n",
       "      <th></th>\n",
       "      <th></th>\n",
       "      <th></th>\n",
       "      <th></th>\n",
       "      <th></th>\n",
       "    </tr>\n",
       "  </thead>\n",
       "  <tbody>\n",
       "    <tr>\n",
       "      <th>2020-11-14</th>\n",
       "      <th>ES,DE,DK,IE,IT,LV</th>\n",
       "      <td>73884</td>\n",
       "      <td>211</td>\n",
       "      <td>22798</td>\n",
       "      <td>211</td>\n",
       "      <td>2281</td>\n",
       "      <td>9.994739</td>\n",
       "      <td>0.030873</td>\n",
       "    </tr>\n",
       "    <tr>\n",
       "      <th>2020-11-13</th>\n",
       "      <th>ES,DE,DK,IE,IT,LV</th>\n",
       "      <td>73621</td>\n",
       "      <td>1922</td>\n",
       "      <td>29729</td>\n",
       "      <td>306</td>\n",
       "      <td>2890</td>\n",
       "      <td>10.286851</td>\n",
       "      <td>0.039255</td>\n",
       "    </tr>\n",
       "    <tr>\n",
       "      <th>2020-11-12</th>\n",
       "      <th>ES,DE,DK,IE,IT,LV</th>\n",
       "      <td>73029</td>\n",
       "      <td>4776</td>\n",
       "      <td>31792</td>\n",
       "      <td>317</td>\n",
       "      <td>3205</td>\n",
       "      <td>9.919501</td>\n",
       "      <td>0.043887</td>\n",
       "    </tr>\n",
       "    <tr>\n",
       "      <th>2020-11-11</th>\n",
       "      <th>ES,DE,DK,IE,IT,LV</th>\n",
       "      <td>72741</td>\n",
       "      <td>7448</td>\n",
       "      <td>30445</td>\n",
       "      <td>300</td>\n",
       "      <td>3029</td>\n",
       "      <td>10.051172</td>\n",
       "      <td>0.041641</td>\n",
       "    </tr>\n",
       "    <tr>\n",
       "      <th>2020-11-10</th>\n",
       "      <th>ES,DE,DK,IE,IT,LV</th>\n",
       "      <td>72476</td>\n",
       "      <td>9997</td>\n",
       "      <td>21163</td>\n",
       "      <td>292</td>\n",
       "      <td>2086</td>\n",
       "      <td>10.145254</td>\n",
       "      <td>0.028782</td>\n",
       "    </tr>\n",
       "    <tr>\n",
       "      <th>...</th>\n",
       "      <th>...</th>\n",
       "      <td>...</td>\n",
       "      <td>...</td>\n",
       "      <td>...</td>\n",
       "      <td>...</td>\n",
       "      <td>...</td>\n",
       "      <td>...</td>\n",
       "      <td>...</td>\n",
       "    </tr>\n",
       "    <tr>\n",
       "      <th>2020-08-27</th>\n",
       "      <th>ES</th>\n",
       "      <td>7372</td>\n",
       "      <td>72</td>\n",
       "      <td>0</td>\n",
       "      <td>0</td>\n",
       "      <td>0</td>\n",
       "      <td>0.000000</td>\n",
       "      <td>0.000000</td>\n",
       "    </tr>\n",
       "    <tr>\n",
       "      <th>2020-08-26</th>\n",
       "      <th>ES</th>\n",
       "      <td>6997</td>\n",
       "      <td>75</td>\n",
       "      <td>0</td>\n",
       "      <td>0</td>\n",
       "      <td>0</td>\n",
       "      <td>0.000000</td>\n",
       "      <td>0.000000</td>\n",
       "    </tr>\n",
       "    <tr>\n",
       "      <th>2020-08-25</th>\n",
       "      <th>ES</th>\n",
       "      <td>6908</td>\n",
       "      <td>58</td>\n",
       "      <td>0</td>\n",
       "      <td>0</td>\n",
       "      <td>0</td>\n",
       "      <td>0.000000</td>\n",
       "      <td>0.000000</td>\n",
       "    </tr>\n",
       "    <tr>\n",
       "      <th>2020-08-24</th>\n",
       "      <th>ES</th>\n",
       "      <td>6622</td>\n",
       "      <td>48</td>\n",
       "      <td>0</td>\n",
       "      <td>0</td>\n",
       "      <td>0</td>\n",
       "      <td>0.000000</td>\n",
       "      <td>0.000000</td>\n",
       "    </tr>\n",
       "    <tr>\n",
       "      <th>2020-08-23</th>\n",
       "      <th>ES</th>\n",
       "      <td>6177</td>\n",
       "      <td>28</td>\n",
       "      <td>0</td>\n",
       "      <td>0</td>\n",
       "      <td>0</td>\n",
       "      <td>0.000000</td>\n",
       "      <td>0.000000</td>\n",
       "    </tr>\n",
       "  </tbody>\n",
       "</table>\n",
       "<p>84 rows × 7 columns</p>\n",
       "</div>"
      ],
      "text/plain": [
       "                                     COVID-19 Cases in Source Countries (7-day Rolling Average)  \\\n",
       "Sample Date (UTC) Source Countries                                                                \n",
       "2020-11-14        ES,DE,DK,IE,IT,LV                                              73884            \n",
       "2020-11-13        ES,DE,DK,IE,IT,LV                                              73621            \n",
       "2020-11-12        ES,DE,DK,IE,IT,LV                                              73029            \n",
       "2020-11-11        ES,DE,DK,IE,IT,LV                                              72741            \n",
       "2020-11-10        ES,DE,DK,IE,IT,LV                                              72476            \n",
       "...                                                                                ...            \n",
       "2020-08-27        ES                                                              7372            \n",
       "2020-08-26        ES                                                              6997            \n",
       "2020-08-25        ES                                                              6908            \n",
       "2020-08-24        ES                                                              6622            \n",
       "2020-08-23        ES                                                              6177            \n",
       "\n",
       "                                     Shared TEKs by Generation Date  \\\n",
       "Sample Date (UTC) Source Countries                                    \n",
       "2020-11-14        ES,DE,DK,IE,IT,LV                             211   \n",
       "2020-11-13        ES,DE,DK,IE,IT,LV                            1922   \n",
       "2020-11-12        ES,DE,DK,IE,IT,LV                            4776   \n",
       "2020-11-11        ES,DE,DK,IE,IT,LV                            7448   \n",
       "2020-11-10        ES,DE,DK,IE,IT,LV                            9997   \n",
       "...                                                             ...   \n",
       "2020-08-27        ES                                             72   \n",
       "2020-08-26        ES                                             75   \n",
       "2020-08-25        ES                                             58   \n",
       "2020-08-24        ES                                             48   \n",
       "2020-08-23        ES                                             28   \n",
       "\n",
       "                                     Shared TEKs by Upload Date  \\\n",
       "Sample Date (UTC) Source Countries                                \n",
       "2020-11-14        ES,DE,DK,IE,IT,LV                       22798   \n",
       "2020-11-13        ES,DE,DK,IE,IT,LV                       29729   \n",
       "2020-11-12        ES,DE,DK,IE,IT,LV                       31792   \n",
       "2020-11-11        ES,DE,DK,IE,IT,LV                       30445   \n",
       "2020-11-10        ES,DE,DK,IE,IT,LV                       21163   \n",
       "...                                                         ...   \n",
       "2020-08-27        ES                                          0   \n",
       "2020-08-26        ES                                          0   \n",
       "2020-08-25        ES                                          0   \n",
       "2020-08-24        ES                                          0   \n",
       "2020-08-23        ES                                          0   \n",
       "\n",
       "                                     Shared TEKs Uploaded on Generation Date  \\\n",
       "Sample Date (UTC) Source Countries                                             \n",
       "2020-11-14        ES,DE,DK,IE,IT,LV                                      211   \n",
       "2020-11-13        ES,DE,DK,IE,IT,LV                                      306   \n",
       "2020-11-12        ES,DE,DK,IE,IT,LV                                      317   \n",
       "2020-11-11        ES,DE,DK,IE,IT,LV                                      300   \n",
       "2020-11-10        ES,DE,DK,IE,IT,LV                                      292   \n",
       "...                                                                      ...   \n",
       "2020-08-27        ES                                                       0   \n",
       "2020-08-26        ES                                                       0   \n",
       "2020-08-25        ES                                                       0   \n",
       "2020-08-24        ES                                                       0   \n",
       "2020-08-23        ES                                                       0   \n",
       "\n",
       "                                     Shared Diagnoses (Estimation)  \\\n",
       "Sample Date (UTC) Source Countries                                   \n",
       "2020-11-14        ES,DE,DK,IE,IT,LV                           2281   \n",
       "2020-11-13        ES,DE,DK,IE,IT,LV                           2890   \n",
       "2020-11-12        ES,DE,DK,IE,IT,LV                           3205   \n",
       "2020-11-11        ES,DE,DK,IE,IT,LV                           3029   \n",
       "2020-11-10        ES,DE,DK,IE,IT,LV                           2086   \n",
       "...                                                            ...   \n",
       "2020-08-27        ES                                             0   \n",
       "2020-08-26        ES                                             0   \n",
       "2020-08-25        ES                                             0   \n",
       "2020-08-24        ES                                             0   \n",
       "2020-08-23        ES                                             0   \n",
       "\n",
       "                                     TEKs Uploaded per Shared Diagnosis  \\\n",
       "Sample Date (UTC) Source Countries                                        \n",
       "2020-11-14        ES,DE,DK,IE,IT,LV                            9.994739   \n",
       "2020-11-13        ES,DE,DK,IE,IT,LV                           10.286851   \n",
       "2020-11-12        ES,DE,DK,IE,IT,LV                            9.919501   \n",
       "2020-11-11        ES,DE,DK,IE,IT,LV                           10.051172   \n",
       "2020-11-10        ES,DE,DK,IE,IT,LV                           10.145254   \n",
       "...                                                                 ...   \n",
       "2020-08-27        ES                                           0.000000   \n",
       "2020-08-26        ES                                           0.000000   \n",
       "2020-08-25        ES                                           0.000000   \n",
       "2020-08-24        ES                                           0.000000   \n",
       "2020-08-23        ES                                           0.000000   \n",
       "\n",
       "                                     Usage Ratio (Fraction of Cases in Source Countries Which Shared Diagnosis)  \n",
       "Sample Date (UTC) Source Countries                                                                               \n",
       "2020-11-14        ES,DE,DK,IE,IT,LV                                           0.030873                           \n",
       "2020-11-13        ES,DE,DK,IE,IT,LV                                           0.039255                           \n",
       "2020-11-12        ES,DE,DK,IE,IT,LV                                           0.043887                           \n",
       "2020-11-11        ES,DE,DK,IE,IT,LV                                           0.041641                           \n",
       "2020-11-10        ES,DE,DK,IE,IT,LV                                           0.028782                           \n",
       "...                                                                                ...                           \n",
       "2020-08-27        ES                                                          0.000000                           \n",
       "2020-08-26        ES                                                          0.000000                           \n",
       "2020-08-25        ES                                                          0.000000                           \n",
       "2020-08-24        ES                                                          0.000000                           \n",
       "2020-08-23        ES                                                          0.000000                           \n",
       "\n",
       "[84 rows x 7 columns]"
      ]
     },
     "execution_count": 52,
     "metadata": {},
     "output_type": "execute_result"
    }
   ],
   "source": [
    "result_summary_df_ = result_summary_df.copy()\n",
    "result_summary_df = result_summary_df[summary_columns]\n",
    "result_summary_with_display_names_df = result_summary_df \\\n",
    "    .rename_axis(index=display_column_name_mapping) \\\n",
    "    .rename(columns=display_column_name_mapping)\n",
    "result_summary_with_display_names_df"
   ]
  },
  {
   "cell_type": "markdown",
   "metadata": {
    "collapsed": false,
    "papermill": {
     "duration": 0.066214,
     "end_time": "2020-11-14T23:24:10.768550",
     "exception": false,
     "start_time": "2020-11-14T23:24:10.702336",
     "status": "completed"
    },
    "tags": []
   },
   "source": [
    "### Daily Summary Plots"
   ]
  },
  {
   "cell_type": "code",
   "execution_count": 53,
   "metadata": {
    "collapsed": false,
    "execution": {
     "iopub.execute_input": "2020-11-14T23:24:10.925474Z",
     "iopub.status.busy": "2020-11-14T23:24:10.924806Z",
     "iopub.status.idle": "2020-11-14T23:24:13.233420Z",
     "shell.execute_reply": "2020-11-14T23:24:13.233902Z"
    },
    "papermill": {
     "duration": 2.392532,
     "end_time": "2020-11-14T23:24:13.234094",
     "exception": false,
     "start_time": "2020-11-14T23:24:10.841562",
     "status": "completed"
    },
    "pycharm": {
     "name": "#%%\n"
    },
    "tags": []
   },
   "outputs": [
    {
     "data": {
      "image/png": "[encoded data removed]",
      "text/plain": [
       "<Figure size 1080x1584 with 7 Axes>"
      ]
     },
     "metadata": {},
     "output_type": "display_data"
    }
   ],
   "source": [
    "result_plot_summary_df = result_summary_df.head(daily_plot_days)[summary_columns] \\\n",
    "    .droplevel(level=[\"source_regions\"]) \\\n",
    "    .rename_axis(index=display_column_name_mapping) \\\n",
    "    .rename(columns=display_column_name_mapping)\n",
    "summary_ax_list = result_plot_summary_df.sort_index(ascending=True).plot.bar(\n",
    "    title=f\"Daily Summary\",\n",
    "    rot=45, subplots=True, figsize=(15, 22), legend=False)\n",
    "ax_ = summary_ax_list[-1]\n",
    "ax_.get_figure().tight_layout()\n",
    "ax_.get_figure().subplots_adjust(top=0.95)\n",
    "ax_.yaxis.set_major_formatter(matplotlib.ticker.PercentFormatter(1.0))\n",
    "_ = ax_.set_xticklabels(sorted(result_plot_summary_df.index.strftime(\"%Y-%m-%d\").tolist()))"
   ]
  },
  {
   "cell_type": "markdown",
   "metadata": {
    "execution": {
     "iopub.execute_input": "2020-09-02T08:20:14.568088Z",
     "iopub.status.busy": "2020-09-02T08:20:14.567425Z",
     "iopub.status.idle": "2020-09-02T08:20:14.571422Z",
     "shell.execute_reply": "2020-09-02T08:20:14.571952Z"
    },
    "papermill": {
     "duration": 0.070637,
     "end_time": "2020-11-14T23:24:13.377285",
     "exception": false,
     "start_time": "2020-11-14T23:24:13.306648",
     "status": "completed"
    },
    "pycharm": {
     "name": "#%% md\n"
    },
    "tags": []
   },
   "source": [
    "### Daily Generation to Upload Period Table"
   ]
  },
  {
   "cell_type": "code",
   "execution_count": 54,
   "metadata": {
    "execution": {
     "iopub.execute_input": "2020-11-14T23:24:13.538244Z",
     "iopub.status.busy": "2020-11-14T23:24:13.537582Z",
     "iopub.status.idle": "2020-11-14T23:24:13.540969Z",
     "shell.execute_reply": "2020-11-14T23:24:13.540432Z"
    },
    "papermill": {
     "duration": 0.093379,
     "end_time": "2020-11-14T23:24:13.541124",
     "exception": false,
     "start_time": "2020-11-14T23:24:13.447745",
     "status": "completed"
    },
    "pycharm": {
     "name": "#%%\n"
    },
    "tags": []
   },
   "outputs": [
    {
     "data": {
      "text/html": [
       "<div>\n",
       "<style scoped>\n",
       "    .dataframe tbody tr th:only-of-type {\n",
       "        vertical-align: middle;\n",
       "    }\n",
       "\n",
       "    .dataframe tbody tr th {\n",
       "        vertical-align: top;\n",
       "    }\n",
       "\n",
       "    .dataframe thead th {\n",
       "        text-align: right;\n",
       "    }\n",
       "</style>\n",
       "<table border=\"1\" class=\"dataframe\">\n",
       "  <thead>\n",
       "    <tr style=\"text-align: right;\">\n",
       "      <th>Generation to Upload Period in Days</th>\n",
       "      <th>0</th>\n",
       "      <th>1</th>\n",
       "      <th>2</th>\n",
       "      <th>3</th>\n",
       "      <th>4</th>\n",
       "      <th>5</th>\n",
       "      <th>6</th>\n",
       "      <th>7</th>\n",
       "      <th>8</th>\n",
       "      <th>9</th>\n",
       "      <th>10</th>\n",
       "      <th>11</th>\n",
       "      <th>12</th>\n",
       "      <th>13</th>\n",
       "    </tr>\n",
       "    <tr>\n",
       "      <th>Upload Date (UTC)</th>\n",
       "      <th></th>\n",
       "      <th></th>\n",
       "      <th></th>\n",
       "      <th></th>\n",
       "      <th></th>\n",
       "      <th></th>\n",
       "      <th></th>\n",
       "      <th></th>\n",
       "      <th></th>\n",
       "      <th></th>\n",
       "      <th></th>\n",
       "      <th></th>\n",
       "      <th></th>\n",
       "      <th></th>\n",
       "    </tr>\n",
       "  </thead>\n",
       "  <tbody>\n",
       "    <tr>\n",
       "      <th>2020-11-14</th>\n",
       "      <td>211</td>\n",
       "      <td>1616</td>\n",
       "      <td>2281</td>\n",
       "      <td>2074</td>\n",
       "      <td>1947</td>\n",
       "      <td>1842</td>\n",
       "      <td>1765</td>\n",
       "      <td>1710</td>\n",
       "      <td>1655</td>\n",
       "      <td>1613</td>\n",
       "      <td>1573</td>\n",
       "      <td>1534</td>\n",
       "      <td>1502</td>\n",
       "      <td>1475</td>\n",
       "    </tr>\n",
       "    <tr>\n",
       "      <th>2020-11-13</th>\n",
       "      <td>306</td>\n",
       "      <td>2178</td>\n",
       "      <td>2890</td>\n",
       "      <td>2669</td>\n",
       "      <td>2521</td>\n",
       "      <td>2378</td>\n",
       "      <td>2281</td>\n",
       "      <td>2224</td>\n",
       "      <td>2163</td>\n",
       "      <td>2110</td>\n",
       "      <td>2066</td>\n",
       "      <td>2025</td>\n",
       "      <td>1970</td>\n",
       "      <td>1948</td>\n",
       "    </tr>\n",
       "    <tr>\n",
       "      <th>2020-11-12</th>\n",
       "      <td>317</td>\n",
       "      <td>2184</td>\n",
       "      <td>3205</td>\n",
       "      <td>2915</td>\n",
       "      <td>2701</td>\n",
       "      <td>2606</td>\n",
       "      <td>2490</td>\n",
       "      <td>2410</td>\n",
       "      <td>2319</td>\n",
       "      <td>2236</td>\n",
       "      <td>2183</td>\n",
       "      <td>2113</td>\n",
       "      <td>2074</td>\n",
       "      <td>2039</td>\n",
       "    </tr>\n",
       "    <tr>\n",
       "      <th>2020-11-11</th>\n",
       "      <td>300</td>\n",
       "      <td>1884</td>\n",
       "      <td>3029</td>\n",
       "      <td>2726</td>\n",
       "      <td>2628</td>\n",
       "      <td>2523</td>\n",
       "      <td>2420</td>\n",
       "      <td>2318</td>\n",
       "      <td>2240</td>\n",
       "      <td>2172</td>\n",
       "      <td>2116</td>\n",
       "      <td>2072</td>\n",
       "      <td>2027</td>\n",
       "      <td>1990</td>\n",
       "    </tr>\n",
       "    <tr>\n",
       "      <th>2020-11-10</th>\n",
       "      <td>292</td>\n",
       "      <td>1466</td>\n",
       "      <td>2086</td>\n",
       "      <td>2003</td>\n",
       "      <td>1908</td>\n",
       "      <td>1781</td>\n",
       "      <td>1667</td>\n",
       "      <td>1569</td>\n",
       "      <td>1505</td>\n",
       "      <td>1455</td>\n",
       "      <td>1409</td>\n",
       "      <td>1374</td>\n",
       "      <td>1350</td>\n",
       "      <td>1298</td>\n",
       "    </tr>\n",
       "    <tr>\n",
       "      <th>2020-11-09</th>\n",
       "      <td>236</td>\n",
       "      <td>1126</td>\n",
       "      <td>1683</td>\n",
       "      <td>1602</td>\n",
       "      <td>1480</td>\n",
       "      <td>1384</td>\n",
       "      <td>1285</td>\n",
       "      <td>1215</td>\n",
       "      <td>1168</td>\n",
       "      <td>1127</td>\n",
       "      <td>1108</td>\n",
       "      <td>1059</td>\n",
       "      <td>1034</td>\n",
       "      <td>1010</td>\n",
       "    </tr>\n",
       "    <tr>\n",
       "      <th>2020-11-08</th>\n",
       "      <td>209</td>\n",
       "      <td>929</td>\n",
       "      <td>1809</td>\n",
       "      <td>1640</td>\n",
       "      <td>1502</td>\n",
       "      <td>1394</td>\n",
       "      <td>1315</td>\n",
       "      <td>1247</td>\n",
       "      <td>1202</td>\n",
       "      <td>1167</td>\n",
       "      <td>1141</td>\n",
       "      <td>1119</td>\n",
       "      <td>1081</td>\n",
       "      <td>1061</td>\n",
       "    </tr>\n",
       "    <tr>\n",
       "      <th>2020-11-07</th>\n",
       "      <td>313</td>\n",
       "      <td>1348</td>\n",
       "      <td>2490</td>\n",
       "      <td>2247</td>\n",
       "      <td>2086</td>\n",
       "      <td>1959</td>\n",
       "      <td>1838</td>\n",
       "      <td>1775</td>\n",
       "      <td>1724</td>\n",
       "      <td>1670</td>\n",
       "      <td>1624</td>\n",
       "      <td>1581</td>\n",
       "      <td>1532</td>\n",
       "      <td>1501</td>\n",
       "    </tr>\n",
       "    <tr>\n",
       "      <th>2020-11-06</th>\n",
       "      <td>263</td>\n",
       "      <td>1707</td>\n",
       "      <td>2909</td>\n",
       "      <td>2688</td>\n",
       "      <td>2509</td>\n",
       "      <td>2343</td>\n",
       "      <td>2255</td>\n",
       "      <td>2182</td>\n",
       "      <td>2116</td>\n",
       "      <td>2049</td>\n",
       "      <td>1967</td>\n",
       "      <td>1912</td>\n",
       "      <td>1857</td>\n",
       "      <td>1826</td>\n",
       "    </tr>\n",
       "    <tr>\n",
       "      <th>2020-11-05</th>\n",
       "      <td>267</td>\n",
       "      <td>1641</td>\n",
       "      <td>2696</td>\n",
       "      <td>2451</td>\n",
       "      <td>2252</td>\n",
       "      <td>2174</td>\n",
       "      <td>2105</td>\n",
       "      <td>2027</td>\n",
       "      <td>1946</td>\n",
       "      <td>1885</td>\n",
       "      <td>1844</td>\n",
       "      <td>1793</td>\n",
       "      <td>1766</td>\n",
       "      <td>1726</td>\n",
       "    </tr>\n",
       "    <tr>\n",
       "      <th>2020-11-04</th>\n",
       "      <td>344</td>\n",
       "      <td>1838</td>\n",
       "      <td>2851</td>\n",
       "      <td>2522</td>\n",
       "      <td>2429</td>\n",
       "      <td>2336</td>\n",
       "      <td>2226</td>\n",
       "      <td>2120</td>\n",
       "      <td>2055</td>\n",
       "      <td>1992</td>\n",
       "      <td>1936</td>\n",
       "      <td>1890</td>\n",
       "      <td>1873</td>\n",
       "      <td>1835</td>\n",
       "    </tr>\n",
       "    <tr>\n",
       "      <th>2020-11-03</th>\n",
       "      <td>280</td>\n",
       "      <td>1325</td>\n",
       "      <td>1961</td>\n",
       "      <td>1888</td>\n",
       "      <td>1809</td>\n",
       "      <td>1711</td>\n",
       "      <td>1642</td>\n",
       "      <td>1564</td>\n",
       "      <td>1519</td>\n",
       "      <td>1448</td>\n",
       "      <td>1414</td>\n",
       "      <td>1388</td>\n",
       "      <td>1354</td>\n",
       "      <td>1310</td>\n",
       "    </tr>\n",
       "    <tr>\n",
       "      <th>2020-11-02</th>\n",
       "      <td>264</td>\n",
       "      <td>1156</td>\n",
       "      <td>1711</td>\n",
       "      <td>1629</td>\n",
       "      <td>1500</td>\n",
       "      <td>1415</td>\n",
       "      <td>1314</td>\n",
       "      <td>1250</td>\n",
       "      <td>1195</td>\n",
       "      <td>1163</td>\n",
       "      <td>1129</td>\n",
       "      <td>1100</td>\n",
       "      <td>1072</td>\n",
       "      <td>1029</td>\n",
       "    </tr>\n",
       "    <tr>\n",
       "      <th>2020-11-01</th>\n",
       "      <td>277</td>\n",
       "      <td>1038</td>\n",
       "      <td>1842</td>\n",
       "      <td>1654</td>\n",
       "      <td>1495</td>\n",
       "      <td>1375</td>\n",
       "      <td>1302</td>\n",
       "      <td>1241</td>\n",
       "      <td>1196</td>\n",
       "      <td>1168</td>\n",
       "      <td>1123</td>\n",
       "      <td>1075</td>\n",
       "      <td>1046</td>\n",
       "      <td>1016</td>\n",
       "    </tr>\n",
       "  </tbody>\n",
       "</table>\n",
       "</div>"
      ],
      "text/plain": [
       "Generation to Upload Period in Days   0     1     2     3     4     5     6   \\\n",
       "Upload Date (UTC)                                                              \n",
       "2020-11-14                           211  1616  2281  2074  1947  1842  1765   \n",
       "2020-11-13                           306  2178  2890  2669  2521  2378  2281   \n",
       "2020-11-12                           317  2184  3205  2915  2701  2606  2490   \n",
       "2020-11-11                           300  1884  3029  2726  2628  2523  2420   \n",
       "2020-11-10                           292  1466  2086  2003  1908  1781  1667   \n",
       "2020-11-09                           236  1126  1683  1602  1480  1384  1285   \n",
       "2020-11-08                           209   929  1809  1640  1502  1394  1315   \n",
       "2020-11-07                           313  1348  2490  2247  2086  1959  1838   \n",
       "2020-11-06                           263  1707  2909  2688  2509  2343  2255   \n",
       "2020-11-05                           267  1641  2696  2451  2252  2174  2105   \n",
       "2020-11-04                           344  1838  2851  2522  2429  2336  2226   \n",
       "2020-11-03                           280  1325  1961  1888  1809  1711  1642   \n",
       "2020-11-02                           264  1156  1711  1629  1500  1415  1314   \n",
       "2020-11-01                           277  1038  1842  1654  1495  1375  1302   \n",
       "\n",
       "Generation to Upload Period in Days    7     8     9     10    11    12    13  \n",
       "Upload Date (UTC)                                                              \n",
       "2020-11-14                           1710  1655  1613  1573  1534  1502  1475  \n",
       "2020-11-13                           2224  2163  2110  2066  2025  1970  1948  \n",
       "2020-11-12                           2410  2319  2236  2183  2113  2074  2039  \n",
       "2020-11-11                           2318  2240  2172  2116  2072  2027  1990  \n",
       "2020-11-10                           1569  1505  1455  1409  1374  1350  1298  \n",
       "2020-11-09                           1215  1168  1127  1108  1059  1034  1010  \n",
       "2020-11-08                           1247  1202  1167  1141  1119  1081  1061  \n",
       "2020-11-07                           1775  1724  1670  1624  1581  1532  1501  \n",
       "2020-11-06                           2182  2116  2049  1967  1912  1857  1826  \n",
       "2020-11-05                           2027  1946  1885  1844  1793  1766  1726  \n",
       "2020-11-04                           2120  2055  1992  1936  1890  1873  1835  \n",
       "2020-11-03                           1564  1519  1448  1414  1388  1354  1310  \n",
       "2020-11-02                           1250  1195  1163  1129  1100  1072  1029  \n",
       "2020-11-01                           1241  1196  1168  1123  1075  1046  1016  "
      ]
     },
     "execution_count": 54,
     "metadata": {},
     "output_type": "execute_result"
    }
   ],
   "source": [
    "display_generation_to_upload_period_pivot_df = \\\n",
    "    generation_to_upload_period_pivot_df \\\n",
    "        .head(backend_generation_days)\n",
    "display_generation_to_upload_period_pivot_df \\\n",
    "    .head(backend_generation_days) \\\n",
    "    .rename_axis(columns=display_column_name_mapping) \\\n",
    "    .rename_axis(index=display_column_name_mapping)"
   ]
  },
  {
   "cell_type": "code",
   "execution_count": 55,
   "metadata": {
    "collapsed": false,
    "execution": {
     "iopub.execute_input": "2020-11-14T23:24:13.701858Z",
     "iopub.status.busy": "2020-11-14T23:24:13.701079Z",
     "iopub.status.idle": "2020-11-14T23:24:15.844485Z",
     "shell.execute_reply": "2020-11-14T23:24:15.844985Z"
    },
    "papermill": {
     "duration": 2.229663,
     "end_time": "2020-11-14T23:24:15.845174",
     "exception": false,
     "start_time": "2020-11-14T23:24:13.615511",
     "status": "completed"
    },
    "pycharm": {
     "name": "#%%\n"
    },
    "tags": []
   },
   "outputs": [
    {
     "data": {
      "image/png": "[encoded data removed]",
      "text/plain": [
       "<Figure size 864x676.8 with 2 Axes>"
      ]
     },
     "metadata": {},
     "output_type": "display_data"
    }
   ],
   "source": [
    "fig, generation_to_upload_period_pivot_table_ax = plt.subplots(\n",
    "    figsize=(12, 1 + 0.6 * len(display_generation_to_upload_period_pivot_df)))\n",
    "generation_to_upload_period_pivot_table_ax.set_title(\n",
    "    \"Shared TEKs Generation to Upload Period Table\")\n",
    "sns.heatmap(\n",
    "    data=display_generation_to_upload_period_pivot_df\n",
    "        .rename_axis(columns=display_column_name_mapping)\n",
    "        .rename_axis(index=display_column_name_mapping),\n",
    "    fmt=\".0f\",\n",
    "    annot=True,\n",
    "    ax=generation_to_upload_period_pivot_table_ax)\n",
    "generation_to_upload_period_pivot_table_ax.get_figure().tight_layout()"
   ]
  },
  {
   "cell_type": "markdown",
   "metadata": {
    "collapsed": false,
    "papermill": {
     "duration": 0.076097,
     "end_time": "2020-11-14T23:24:15.995675",
     "exception": false,
     "start_time": "2020-11-14T23:24:15.919578",
     "status": "completed"
    },
    "tags": []
   },
   "source": [
    "### Hourly Summary Plots "
   ]
  },
  {
   "cell_type": "code",
   "execution_count": 56,
   "metadata": {
    "collapsed": false,
    "execution": {
     "iopub.execute_input": "2020-11-14T23:24:16.152860Z",
     "iopub.status.busy": "2020-11-14T23:24:16.152276Z",
     "iopub.status.idle": "2020-11-14T23:24:16.567774Z",
     "shell.execute_reply": "2020-11-14T23:24:16.568386Z"
    },
    "papermill": {
     "duration": 0.497602,
     "end_time": "2020-11-14T23:24:16.568569",
     "exception": false,
     "start_time": "2020-11-14T23:24:16.070967",
     "status": "completed"
    },
    "pycharm": {
     "name": "#%%\n"
    },
    "tags": []
   },
   "outputs": [
    {
     "data": {
      "image/png": "[encoded data removed]",
      "text/plain": [
       "<Figure size 1080x432 with 1 Axes>"
      ]
     },
     "metadata": {},
     "output_type": "display_data"
    }
   ],
   "source": [
    "hourly_summary_ax_list = hourly_summary_df \\\n",
    "    .rename_axis(index=display_column_name_mapping) \\\n",
    "    .rename(columns=display_column_name_mapping) \\\n",
    "    .plot.bar(\n",
    "        title=f\"Last 24h Summary\",\n",
    "        rot=45, subplots=True, legend=False)\n",
    "ax_ = hourly_summary_ax_list[-1]\n",
    "ax_.get_figure().tight_layout()\n",
    "ax_.get_figure().subplots_adjust(top=0.9)\n",
    "_ = ax_.set_xticklabels(sorted(hourly_summary_df.index.strftime(\"%Y-%m-%d@%H\").tolist()))"
   ]
  },
  {
   "cell_type": "markdown",
   "metadata": {
    "collapsed": false,
    "papermill": {
     "duration": 0.076863,
     "end_time": "2020-11-14T23:24:16.722172",
     "exception": false,
     "start_time": "2020-11-14T23:24:16.645309",
     "status": "completed"
    },
    "tags": []
   },
   "source": [
    "### Publish Results"
   ]
  },
  {
   "cell_type": "code",
   "execution_count": 57,
   "metadata": {
    "collapsed": false,
    "execution": {
     "iopub.execute_input": "2020-11-14T23:24:16.883403Z",
     "iopub.status.busy": "2020-11-14T23:24:16.882749Z",
     "iopub.status.idle": "2020-11-14T23:24:16.886598Z",
     "shell.execute_reply": "2020-11-14T23:24:16.886068Z"
    },
    "papermill": {
     "duration": 0.088255,
     "end_time": "2020-11-14T23:24:16.886770",
     "exception": false,
     "start_time": "2020-11-14T23:24:16.798515",
     "status": "completed"
    },
    "pycharm": {
     "name": "#%%\n"
    },
    "tags": []
   },
   "outputs": [],
   "source": [
    "def get_temporary_image_path() -> str:\n",
    "    return os.path.join(tempfile.gettempdir(), str(uuid.uuid4()) + \".png\")\n",
    "\n",
    "def save_temporary_plot_image(ax):\n",
    "    if isinstance(ax, np.ndarray):\n",
    "        ax = ax[0]\n",
    "    media_path = get_temporary_image_path()\n",
    "    ax.get_figure().savefig(media_path)\n",
    "    return media_path\n",
    "\n",
    "def save_temporary_dataframe_image(df):\n",
    "    import dataframe_image as dfi\n",
    "    media_path = get_temporary_image_path()\n",
    "    dfi.export(df, media_path)\n",
    "    return media_path"
   ]
  },
  {
   "cell_type": "code",
   "execution_count": 58,
   "metadata": {
    "collapsed": false,
    "execution": {
     "iopub.execute_input": "2020-11-14T23:24:17.090871Z",
     "iopub.status.busy": "2020-11-14T23:24:17.087797Z",
     "iopub.status.idle": "2020-11-14T23:24:17.093427Z",
     "shell.execute_reply": "2020-11-14T23:24:17.093946Z"
    },
    "papermill": {
     "duration": 0.130492,
     "end_time": "2020-11-14T23:24:17.094135",
     "exception": false,
     "start_time": "2020-11-14T23:24:16.963643",
     "status": "completed"
    },
    "pycharm": {
     "name": "#%%\n"
    },
    "tags": []
   },
   "outputs": [
    {
     "name": "stderr",
     "output_type": "stream",
     "text": [
      "<ipython-input-58-bd16b454de40>:49: FutureWarning: `item` has been deprecated and will be removed in a future version\n",
      "  extraction_date_result_summary_df.covid_cases.item()\n",
      "<ipython-input-58-bd16b454de40>:51: FutureWarning: `item` has been deprecated and will be removed in a future version\n",
      "  extraction_date_result_summary_df.shared_teks_by_generation_date.item()\n",
      "<ipython-input-58-bd16b454de40>:53: FutureWarning: `item` has been deprecated and will be removed in a future version\n",
      "  extraction_date_result_summary_df.shared_teks_by_upload_date.item()\n",
      "<ipython-input-58-bd16b454de40>:55: FutureWarning: `item` has been deprecated and will be removed in a future version\n",
      "  extraction_date_result_summary_df.shared_diagnoses.item()\n",
      "<ipython-input-58-bd16b454de40>:57: FutureWarning: `item` has been deprecated and will be removed in a future version\n",
      "  extraction_date_result_summary_df.teks_per_shared_diagnosis.item()\n",
      "<ipython-input-58-bd16b454de40>:59: FutureWarning: `item` has been deprecated and will be removed in a future version\n",
      "  extraction_date_result_summary_df.shared_diagnoses_per_covid_case.item()\n"
     ]
    }
   ],
   "source": [
    "github_repository = os.environ.get(\"GITHUB_REPOSITORY\")\n",
    "if github_repository is None:\n",
    "    github_repository = \"pvieito/Radar-STATS\"\n",
    "\n",
    "github_project_base_url = \"https://github.com/\" + github_repository\n",
    "\n",
    "display_formatters = {\n",
    "    display_column_name_mapping[\"teks_per_shared_diagnosis\"]: lambda x: f\"{x:.2f}\",\n",
    "    display_column_name_mapping[\"shared_diagnoses_per_covid_case\"]: lambda x: f\"{x:.2%}\",\n",
    "}\n",
    "daily_summary_table_html = result_summary_with_display_names_df \\\n",
    "    .head(daily_plot_days) \\\n",
    "    .rename_axis(index=display_column_name_mapping) \\\n",
    "    .rename(columns=display_column_name_mapping) \\\n",
    "    .to_html(formatters=display_formatters)\n",
    "multi_backend_summary_table_html = multi_backend_summary_df \\\n",
    "    .head(daily_plot_days) \\\n",
    "    .rename_axis(columns=display_column_name_mapping) \\\n",
    "    .rename(columns=display_column_name_mapping) \\\n",
    "    .rename_axis(index=display_column_name_mapping) \\\n",
    "    .to_html(formatters=display_formatters)\n",
    "\n",
    "def format_multi_backend_cross_sharing_fraction(x):\n",
    "    if pd.isna(x):\n",
    "        return \"-\"\n",
    "    elif round(x * 100, 1) == 0:\n",
    "        return \"\"\n",
    "    else:\n",
    "        return f\"{x:.1%}\"\n",
    "\n",
    "multi_backend_cross_sharing_summary_table_html = multi_backend_cross_sharing_summary_df \\\n",
    "    .rename_axis(columns=display_column_name_mapping) \\\n",
    "    .rename(columns=display_column_name_mapping) \\\n",
    "    .rename_axis(index=display_column_name_mapping) \\\n",
    "    .to_html(\n",
    "        classes=\"table-center\",\n",
    "        formatters=display_formatters,\n",
    "        float_format=format_multi_backend_cross_sharing_fraction)\n",
    "multi_backend_cross_sharing_summary_table_html = \\\n",
    "    multi_backend_cross_sharing_summary_table_html \\\n",
    "        .replace(\"<tr>\",\"<tr style=\\\"text-align: center;\\\">\")\n",
    "\n",
    "extraction_date_result_summary_df = \\\n",
    "    result_summary_df[result_summary_df.index.get_level_values(\"sample_date\") == extraction_date]\n",
    "extraction_date_result_hourly_summary_df = \\\n",
    "    hourly_summary_df[hourly_summary_df.extraction_date_with_hour == extraction_date_with_hour]\n",
    "\n",
    "covid_cases = \\\n",
    "    extraction_date_result_summary_df.covid_cases.item()\n",
    "shared_teks_by_generation_date = \\\n",
    "    extraction_date_result_summary_df.shared_teks_by_generation_date.item()\n",
    "shared_teks_by_upload_date = \\\n",
    "    extraction_date_result_summary_df.shared_teks_by_upload_date.item()\n",
    "shared_diagnoses = \\\n",
    "    extraction_date_result_summary_df.shared_diagnoses.item()\n",
    "teks_per_shared_diagnosis = \\\n",
    "    extraction_date_result_summary_df.teks_per_shared_diagnosis.item()\n",
    "shared_diagnoses_per_covid_case = \\\n",
    "    extraction_date_result_summary_df.shared_diagnoses_per_covid_case.item()\n",
    "\n",
    "shared_teks_by_upload_date_last_hour = \\\n",
    "    extraction_date_result_hourly_summary_df.shared_teks_by_upload_date.sum().astype(int)\n",
    "\n",
    "display_source_regions = \", \".join(report_source_regions)\n",
    "if len(report_source_regions) == 1:\n",
    "    display_brief_source_regions = report_source_regions[0]\n",
    "else:\n",
    "    display_brief_source_regions = f\"{len(report_source_regions)} 🇪🇺\""
   ]
  },
  {
   "cell_type": "code",
   "execution_count": 59,
   "metadata": {
    "execution": {
     "iopub.execute_input": "2020-11-14T23:24:17.266906Z",
     "iopub.status.busy": "2020-11-14T23:24:17.266235Z",
     "iopub.status.idle": "2020-11-14T23:24:24.977283Z",
     "shell.execute_reply": "2020-11-14T23:24:24.981973Z"
    },
    "papermill": {
     "duration": 7.808603,
     "end_time": "2020-11-14T23:24:24.982196",
     "exception": false,
     "start_time": "2020-11-14T23:24:17.173593",
     "status": "completed"
    },
    "pycharm": {
     "name": "#%%\n"
    },
    "tags": []
   },
   "outputs": [],
   "source": [
    "summary_plots_image_path = save_temporary_plot_image(\n",
    "    ax=summary_ax_list)\n",
    "summary_table_image_path = save_temporary_dataframe_image(\n",
    "    df=result_summary_with_display_names_df)\n",
    "hourly_summary_plots_image_path = save_temporary_plot_image(\n",
    "    ax=hourly_summary_ax_list)\n",
    "multi_backend_summary_table_image_path = save_temporary_dataframe_image(\n",
    "    df=multi_backend_summary_df)\n",
    "generation_to_upload_period_pivot_table_image_path = save_temporary_plot_image(\n",
    "    ax=generation_to_upload_period_pivot_table_ax)"
   ]
  },
  {
   "cell_type": "markdown",
   "metadata": {
    "execution": {
     "iopub.execute_input": "2020-09-02T08:20:16.981187Z",
     "iopub.status.busy": "2020-09-02T08:20:16.980584Z",
     "iopub.status.idle": "2020-09-02T08:20:20.068070Z",
     "shell.execute_reply": "2020-09-02T08:20:20.068598Z"
    },
    "papermill": {
     "duration": 0.077502,
     "end_time": "2020-11-14T23:24:25.141974",
     "exception": false,
     "start_time": "2020-11-14T23:24:25.064472",
     "status": "completed"
    },
    "pycharm": {
     "name": "#%% md\n"
    },
    "tags": []
   },
   "source": [
    "### Save Results"
   ]
  },
  {
   "cell_type": "code",
   "execution_count": 60,
   "metadata": {
    "collapsed": false,
    "execution": {
     "iopub.execute_input": "2020-11-14T23:24:25.308907Z",
     "iopub.status.busy": "2020-11-14T23:24:25.308260Z",
     "iopub.status.idle": "2020-11-14T23:24:25.342963Z",
     "shell.execute_reply": "2020-11-14T23:24:25.342414Z"
    },
    "papermill": {
     "duration": 0.121352,
     "end_time": "2020-11-14T23:24:25.343152",
     "exception": false,
     "start_time": "2020-11-14T23:24:25.221800",
     "status": "completed"
    },
    "pycharm": {
     "name": "#%%\n"
    },
    "tags": []
   },
   "outputs": [],
   "source": [
    "report_resources_path_prefix = \"Data/Resources/Current/RadarCOVID-Report-\"\n",
    "result_summary_df.to_csv(\n",
    "    report_resources_path_prefix + \"Summary-Table.csv\")\n",
    "result_summary_df.to_html(\n",
    "    report_resources_path_prefix + \"Summary-Table.html\")\n",
    "hourly_summary_df.to_csv(\n",
    "    report_resources_path_prefix + \"Hourly-Summary-Table.csv\")\n",
    "multi_backend_summary_df.to_csv(\n",
    "    report_resources_path_prefix + \"Multi-Backend-Summary-Table.csv\")\n",
    "multi_backend_cross_sharing_summary_df.to_csv(\n",
    "    report_resources_path_prefix + \"Multi-Backend-Cross-Sharing-Summary-Table.csv\")\n",
    "generation_to_upload_period_pivot_df.to_csv(\n",
    "    report_resources_path_prefix + \"Generation-Upload-Period-Table.csv\")\n",
    "_ = shutil.copyfile(\n",
    "    summary_plots_image_path,\n",
    "    report_resources_path_prefix + \"Summary-Plots.png\")\n",
    "_ = shutil.copyfile(\n",
    "    summary_table_image_path,\n",
    "    report_resources_path_prefix + \"Summary-Table.png\")\n",
    "_ = shutil.copyfile(\n",
    "    hourly_summary_plots_image_path,\n",
    "    report_resources_path_prefix + \"Hourly-Summary-Plots.png\")\n",
    "_ = shutil.copyfile(\n",
    "    multi_backend_summary_table_image_path,\n",
    "    report_resources_path_prefix + \"Multi-Backend-Summary-Table.png\")\n",
    "_ = shutil.copyfile(\n",
    "    generation_to_upload_period_pivot_table_image_path,\n",
    "    report_resources_path_prefix + \"Generation-Upload-Period-Table.png\")"
   ]
  },
  {
   "cell_type": "markdown",
   "metadata": {
    "collapsed": false,
    "papermill": {
     "duration": 0.076728,
     "end_time": "2020-11-14T23:24:25.501995",
     "exception": false,
     "start_time": "2020-11-14T23:24:25.425267",
     "status": "completed"
    },
    "pycharm": {
     "name": "#%% md\n"
    },
    "tags": []
   },
   "source": [
    "### Publish Results as JSON"
   ]
  },
  {
   "cell_type": "code",
   "execution_count": 61,
   "metadata": {
    "execution": {
     "iopub.execute_input": "2020-11-14T23:24:25.680621Z",
     "iopub.status.busy": "2020-11-14T23:24:25.671854Z",
     "iopub.status.idle": "2020-11-14T23:24:25.693855Z",
     "shell.execute_reply": "2020-11-14T23:24:25.693319Z"
    },
    "papermill": {
     "duration": 0.111781,
     "end_time": "2020-11-14T23:24:25.694012",
     "exception": false,
     "start_time": "2020-11-14T23:24:25.582231",
     "status": "completed"
    },
    "pycharm": {
     "name": "#%%\n"
    },
    "tags": []
   },
   "outputs": [],
   "source": [
    "def generate_summary_api_results(df: pd.DataFrame) -> list:\n",
    "    api_df = df.reset_index().copy()\n",
    "    api_df[\"sample_date_string\"] = \\\n",
    "        api_df[\"sample_date\"].dt.strftime(\"%Y-%m-%d\")\n",
    "    api_df[\"source_regions\"] = \\\n",
    "        api_df[\"source_regions\"].apply(lambda x: x.split(\",\"))\n",
    "    return api_df.to_dict(orient=\"records\")\n",
    "\n",
    "summary_api_results = \\\n",
    "    generate_summary_api_results(df=result_summary_df)\n",
    "today_summary_api_results = \\\n",
    "    generate_summary_api_results(df=extraction_date_result_summary_df)[0]\n",
    "\n",
    "summary_results = dict(\n",
    "    backend_identifier=report_backend_identifier,\n",
    "    source_regions=report_source_regions,\n",
    "    extraction_datetime=extraction_datetime,\n",
    "    extraction_date=extraction_date,\n",
    "    extraction_date_with_hour=extraction_date_with_hour,\n",
    "    last_hour=dict(\n",
    "        shared_teks_by_upload_date=shared_teks_by_upload_date_last_hour,\n",
    "        shared_diagnoses=0,\n",
    "    ),\n",
    "    today=today_summary_api_results,\n",
    "    last_7_days=last_7_days_summary,\n",
    "    daily_results=summary_api_results)\n",
    "\n",
    "summary_results = \\\n",
    "    json.loads(pd.Series([summary_results]).to_json(orient=\"records\"))[0]\n",
    "\n",
    "with open(report_resources_path_prefix + \"Summary-Results.json\", \"w\") as f:\n",
    "    json.dump(summary_results, f, indent=4)"
   ]
  },
  {
   "cell_type": "markdown",
   "metadata": {
    "execution": {
     "iopub.execute_input": "2020-09-02T08:20:20.895901Z",
     "iopub.status.busy": "2020-09-02T08:20:20.895301Z",
     "iopub.status.idle": "2020-09-02T08:20:20.942286Z",
     "shell.execute_reply": "2020-09-02T08:20:20.942834Z"
    },
    "papermill": {
     "duration": 0.080148,
     "end_time": "2020-11-14T23:24:25.865695",
     "exception": false,
     "start_time": "2020-11-14T23:24:25.785547",
     "status": "completed"
    },
    "pycharm": {
     "name": "#%% md\n"
    },
    "tags": []
   },
   "source": [
    "### Publish on README"
   ]
  },
  {
   "cell_type": "code",
   "execution_count": 62,
   "metadata": {
    "collapsed": false,
    "execution": {
     "iopub.execute_input": "2020-11-14T23:24:26.070070Z",
     "iopub.status.busy": "2020-11-14T23:24:26.069375Z",
     "iopub.status.idle": "2020-11-14T23:24:26.072051Z",
     "shell.execute_reply": "2020-11-14T23:24:26.072573Z"
    },
    "papermill": {
     "duration": 0.099468,
     "end_time": "2020-11-14T23:24:26.072747",
     "exception": false,
     "start_time": "2020-11-14T23:24:25.973279",
     "status": "completed"
    },
    "pycharm": {
     "name": "#%%\n"
    },
    "tags": []
   },
   "outputs": [],
   "source": [
    "with open(\"Data/Templates/README.md\", \"r\") as f:\n",
    "    readme_contents = f.read()\n",
    "\n",
    "readme_contents = readme_contents.format(\n",
    "    extraction_date_with_hour=extraction_date_with_hour,\n",
    "    github_project_base_url=github_project_base_url,\n",
    "    daily_summary_table_html=daily_summary_table_html,\n",
    "    multi_backend_summary_table_html=multi_backend_summary_table_html,\n",
    "    multi_backend_cross_sharing_summary_table_html=multi_backend_cross_sharing_summary_table_html,\n",
    "    display_source_regions=display_source_regions)\n",
    "\n",
    "with open(\"README.md\", \"w\") as f:\n",
    "    f.write(readme_contents)"
   ]
  },
  {
   "cell_type": "markdown",
   "metadata": {
    "collapsed": false,
    "papermill": {
     "duration": 0.077601,
     "end_time": "2020-11-14T23:24:26.228860",
     "exception": false,
     "start_time": "2020-11-14T23:24:26.151259",
     "status": "completed"
    },
    "pycharm": {
     "name": "#%% md\n"
    },
    "tags": []
   },
   "source": [
    "### Publish on Twitter"
   ]
  },
  {
   "cell_type": "code",
   "execution_count": 63,
   "metadata": {
    "collapsed": false,
    "execution": {
     "iopub.execute_input": "2020-11-14T23:24:26.400541Z",
     "iopub.status.busy": "2020-11-14T23:24:26.399839Z",
     "iopub.status.idle": "2020-11-14T23:24:35.907151Z",
     "shell.execute_reply": "2020-11-14T23:24:35.906470Z"
    },
    "papermill": {
     "duration": 9.596527,
     "end_time": "2020-11-14T23:24:35.907310",
     "exception": false,
     "start_time": "2020-11-14T23:24:26.310783",
     "status": "completed"
    },
    "pycharm": {
     "name": "#%%\n"
    },
    "tags": []
   },
   "outputs": [],
   "source": [
    "enable_share_to_twitter = os.environ.get(\"RADARCOVID_REPORT__ENABLE_PUBLISH_ON_TWITTER\")\n",
    "github_event_name = os.environ.get(\"GITHUB_EVENT_NAME\")\n",
    "\n",
    "if enable_share_to_twitter and github_event_name == \"schedule\" and \\\n",
    "        (shared_teks_by_upload_date_last_hour or not are_today_results_partial):\n",
    "    import tweepy\n",
    "\n",
    "    twitter_api_auth_keys = os.environ[\"RADARCOVID_REPORT__TWITTER_API_AUTH_KEYS\"]\n",
    "    twitter_api_auth_keys = twitter_api_auth_keys.split(\":\")\n",
    "    auth = tweepy.OAuthHandler(twitter_api_auth_keys[0], twitter_api_auth_keys[1])\n",
    "    auth.set_access_token(twitter_api_auth_keys[2], twitter_api_auth_keys[3])\n",
    "\n",
    "    api = tweepy.API(auth)\n",
    "\n",
    "    summary_plots_media = api.media_upload(summary_plots_image_path)\n",
    "    summary_table_media = api.media_upload(summary_table_image_path)\n",
    "    generation_to_upload_period_pivot_table_image_media = api.media_upload(generation_to_upload_period_pivot_table_image_path)\n",
    "    media_ids = [\n",
    "        summary_plots_media.media_id,\n",
    "        summary_table_media.media_id,\n",
    "        generation_to_upload_period_pivot_table_image_media.media_id,\n",
    "    ]\n",
    "\n",
    "    if are_today_results_partial:\n",
    "        today_addendum = \" (Partial)\"\n",
    "    else:\n",
    "        today_addendum = \"\"\n",
    "\n",
    "    status = textwrap.dedent(f\"\"\"\n",
    "        #RadarCOVID – {extraction_date_with_hour}\n",
    "\n",
    "        Source Countries: {display_brief_source_regions}\n",
    "\n",
    "        Today{today_addendum}:\n",
    "        - Uploaded TEKs: {shared_teks_by_upload_date:.0f} ({shared_teks_by_upload_date_last_hour:+d} last hour)\n",
    "        - Shared Diagnoses: ≤{shared_diagnoses:.0f}\n",
    "        - Usage Ratio: ≤{shared_diagnoses_per_covid_case:.2%}\n",
    "\n",
    "        Last 7 Days:\n",
    "        - Shared Diagnoses: ≤{last_7_days_summary[\"shared_diagnoses\"]:.0f}\n",
    "        - Usage Ratio: ≤{last_7_days_summary[\"shared_diagnoses_per_covid_case\"]:.2%}\n",
    "\n",
    "        Info: {github_project_base_url}#documentation\n",
    "        \"\"\")\n",
    "    status = status.encode(encoding=\"utf-8\")\n",
    "    api.update_status(status=status, media_ids=media_ids)"
   ]
  }
 ],
 "metadata": {
  "kernelspec": {
   "display_name": "Python 3",
   "language": "python",
   "name": "python3"
  },
  "language_info": {
   "codemirror_mode": {
    "name": "ipython",
    "version": 3
   },
   "file_extension": ".py",
   "mimetype": "text/x-python",
   "name": "python",
   "nbconvert_exporter": "python",
   "pygments_lexer": "ipython3",
   "version": "3.8.6"
  },
  "papermill": {
   "duration": 446.481021,
   "end_time": "2020-11-14T23:24:38.605572",
   "environment_variables": {},
   "exception": null,
   "input_path": "Notebooks/RadarCOVID-Report/Source/RadarCOVID-Report.ipynb",
   "output_path": "RadarCOVID-Report.ipynb",
   "parameters": {},
   "start_time": "2020-11-14T23:17:12.124551",
   "version": "2.1.3"
  }
 },
 "nbformat": 4,
 "nbformat_minor": 1
}