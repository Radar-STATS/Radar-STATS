{
 "cells": [
  {
   "cell_type": "markdown",
   "metadata": {
    "papermill": {
     "duration": 0.026984,
     "end_time": "2020-09-04T23:17:04.159253",
     "exception": false,
     "start_time": "2020-09-04T23:17:04.132269",
     "status": "completed"
    },
    "pycharm": {
     "name": "#%% md\n"
    },
    "tags": []
   },
   "source": [
    "# RadarCOVID-Report"
   ]
  },
  {
   "cell_type": "markdown",
   "metadata": {
    "collapsed": true,
    "papermill": {
     "duration": 0.024089,
     "end_time": "2020-09-04T23:17:04.207732",
     "exception": false,
     "start_time": "2020-09-04T23:17:04.183643",
     "status": "completed"
    },
    "pycharm": {
     "name": "#%% md\n"
    },
    "tags": []
   },
   "source": [
    "## Data Extraction"
   ]
  },
  {
   "cell_type": "code",
   "execution_count": 1,
   "metadata": {
    "execution": {
     "iopub.execute_input": "2020-09-04T23:17:04.262390Z",
     "iopub.status.busy": "2020-09-04T23:17:04.261759Z",
     "iopub.status.idle": "2020-09-04T23:17:05.788706Z",
     "shell.execute_reply": "2020-09-04T23:17:05.787696Z"
    },
    "papermill": {
     "duration": 1.557013,
     "end_time": "2020-09-04T23:17:05.788917",
     "exception": false,
     "start_time": "2020-09-04T23:17:04.231904",
     "status": "completed"
    },
    "pycharm": {
     "name": "#%%\n"
    },
    "tags": []
   },
   "outputs": [],
   "source": [
    "import datetime\n",
    "import logging\n",
    "import os\n",
    "import shutil\n",
    "import tempfile\n",
    "import textwrap\n",
    "import uuid\n",
    "\n",
    "import dataframe_image as dfi\n",
    "import matplotlib.ticker\n",
    "import numpy as np\n",
    "import pandas as pd\n",
    "import seaborn as sns\n",
    "\n",
    "%matplotlib inline"
   ]
  },
  {
   "cell_type": "code",
   "execution_count": 2,
   "metadata": {
    "execution": {
     "iopub.execute_input": "2020-09-04T23:17:05.843019Z",
     "iopub.status.busy": "2020-09-04T23:17:05.842381Z",
     "iopub.status.idle": "2020-09-04T23:17:05.844898Z",
     "shell.execute_reply": "2020-09-04T23:17:05.844392Z"
    },
    "papermill": {
     "duration": 0.031836,
     "end_time": "2020-09-04T23:17:05.845036",
     "exception": false,
     "start_time": "2020-09-04T23:17:05.813200",
     "status": "completed"
    },
    "pycharm": {
     "name": "#%%\n"
    },
    "tags": []
   },
   "outputs": [],
   "source": [
    "sns.set()\n",
    "matplotlib.rcParams['figure.figsize'] = (15, 6)\n",
    "\n",
    "extraction_datetime = datetime.datetime.utcnow()\n",
    "extraction_date = extraction_datetime.strftime(\"%Y-%m-%d\")\n",
    "extraction_previous_datetime = extraction_datetime - datetime.timedelta(days=1)\n",
    "extraction_previous_date = extraction_previous_datetime.strftime(\"%Y-%m-%d\")\n",
    "extraction_date_with_hour = datetime.datetime.utcnow().strftime(\"%Y-%m-%d@%H\")"
   ]
  },
  {
   "cell_type": "markdown",
   "metadata": {
    "papermill": {
     "duration": 0.023742,
     "end_time": "2020-09-04T23:17:05.892766",
     "exception": false,
     "start_time": "2020-09-04T23:17:05.869024",
     "status": "completed"
    },
    "tags": []
   },
   "source": [
    "### COVID-19 Cases"
   ]
  },
  {
   "cell_type": "code",
   "execution_count": 3,
   "metadata": {
    "execution": {
     "iopub.execute_input": "2020-09-04T23:17:05.946139Z",
     "iopub.status.busy": "2020-09-04T23:17:05.945465Z",
     "iopub.status.idle": "2020-09-04T23:17:06.778652Z",
     "shell.execute_reply": "2020-09-04T23:17:06.778081Z"
    },
    "papermill": {
     "duration": 0.862183,
     "end_time": "2020-09-04T23:17:06.778802",
     "exception": false,
     "start_time": "2020-09-04T23:17:05.916619",
     "status": "completed"
    },
    "pycharm": {
     "name": "#%%\n"
    },
    "tags": []
   },
   "outputs": [],
   "source": [
    "confirmed_df = pd.read_csv(\"https://covid19tracking.narrativa.com/csv/confirmed.csv\")\n",
    "\n",
    "radar_covid_countries = {\"Spain\"}\n",
    "# radar_covid_regions = { ... }\n",
    "\n",
    "confirmed_df = confirmed_df[confirmed_df[\"Country_EN\"].isin(radar_covid_countries)]\n",
    "# confirmed_df = confirmed_df[confirmed_df[\"Region\"].isin(radar_covid_regions)]\n",
    "# set(confirmed_df.Region.tolist()) == radar_covid_regions"
   ]
  },
  {
   "cell_type": "code",
   "execution_count": 4,
   "metadata": {
    "collapsed": false,
    "execution": {
     "iopub.execute_input": "2020-09-04T23:17:06.837262Z",
     "iopub.status.busy": "2020-09-04T23:17:06.832217Z",
     "iopub.status.idle": "2020-09-04T23:17:06.843222Z",
     "shell.execute_reply": "2020-09-04T23:17:06.843728Z"
    },
    "papermill": {
     "duration": 0.040685,
     "end_time": "2020-09-04T23:17:06.843880",
     "exception": false,
     "start_time": "2020-09-04T23:17:06.803195",
     "status": "completed"
    },
    "pycharm": {
     "name": "#%%\n"
    },
    "tags": []
   },
   "outputs": [
    {
     "data": {
      "text/html": [
       "<div>\n",
       "<style scoped>\n",
       "    .dataframe tbody tr th:only-of-type {\n",
       "        vertical-align: middle;\n",
       "    }\n",
       "\n",
       "    .dataframe tbody tr th {\n",
       "        vertical-align: top;\n",
       "    }\n",
       "\n",
       "    .dataframe thead th {\n",
       "        text-align: right;\n",
       "    }\n",
       "</style>\n",
       "<table border=\"1\" class=\"dataframe\">\n",
       "  <thead>\n",
       "    <tr style=\"text-align: right;\">\n",
       "      <th></th>\n",
       "      <th>0</th>\n",
       "    </tr>\n",
       "  </thead>\n",
       "  <tbody>\n",
       "    <tr>\n",
       "      <th>2020-08-31</th>\n",
       "      <td>925716.0</td>\n",
       "    </tr>\n",
       "    <tr>\n",
       "      <th>2020-09-01</th>\n",
       "      <td>941946.0</td>\n",
       "    </tr>\n",
       "    <tr>\n",
       "      <th>2020-09-02</th>\n",
       "      <td>959108.0</td>\n",
       "    </tr>\n",
       "    <tr>\n",
       "      <th>2020-09-03</th>\n",
       "      <td>977026.0</td>\n",
       "    </tr>\n",
       "    <tr>\n",
       "      <th>2020-09-04</th>\n",
       "      <td>997978.0</td>\n",
       "    </tr>\n",
       "  </tbody>\n",
       "</table>\n",
       "</div>"
      ],
      "text/plain": [
       "                   0\n",
       "2020-08-31  925716.0\n",
       "2020-09-01  941946.0\n",
       "2020-09-02  959108.0\n",
       "2020-09-03  977026.0\n",
       "2020-09-04  997978.0"
      ]
     },
     "execution_count": 4,
     "metadata": {},
     "output_type": "execute_result"
    }
   ],
   "source": [
    "confirmed_country_columns = list(filter(lambda x: x.startswith(\"Country_\"), confirmed_df.columns))\n",
    "confirmed_regional_columns = confirmed_country_columns + [\"Region\"]\n",
    "confirmed_df.drop(columns=confirmed_regional_columns, inplace=True)\n",
    "confirmed_df = confirmed_df.sum().to_frame()\n",
    "confirmed_df.tail()"
   ]
  },
  {
   "cell_type": "code",
   "execution_count": 5,
   "metadata": {
    "collapsed": false,
    "execution": {
     "iopub.execute_input": "2020-09-04T23:17:06.908147Z",
     "iopub.status.busy": "2020-09-04T23:17:06.907519Z",
     "iopub.status.idle": "2020-09-04T23:17:06.910811Z",
     "shell.execute_reply": "2020-09-04T23:17:06.910196Z"
    },
    "papermill": {
     "duration": 0.042214,
     "end_time": "2020-09-04T23:17:06.910945",
     "exception": false,
     "start_time": "2020-09-04T23:17:06.868731",
     "status": "completed"
    },
    "pycharm": {
     "name": "#%%\n"
    },
    "tags": []
   },
   "outputs": [
    {
     "data": {
      "text/html": [
       "<div>\n",
       "<style scoped>\n",
       "    .dataframe tbody tr th:only-of-type {\n",
       "        vertical-align: middle;\n",
       "    }\n",
       "\n",
       "    .dataframe tbody tr th {\n",
       "        vertical-align: top;\n",
       "    }\n",
       "\n",
       "    .dataframe thead th {\n",
       "        text-align: right;\n",
       "    }\n",
       "</style>\n",
       "<table border=\"1\" class=\"dataframe\">\n",
       "  <thead>\n",
       "    <tr style=\"text-align: right;\">\n",
       "      <th></th>\n",
       "      <th>sample_date_string</th>\n",
       "      <th>cumulative_cases</th>\n",
       "      <th>new_cases</th>\n",
       "      <th>rolling_mean_new_cases</th>\n",
       "    </tr>\n",
       "  </thead>\n",
       "  <tbody>\n",
       "    <tr>\n",
       "      <th>221</th>\n",
       "      <td>2020-08-31</td>\n",
       "      <td>925716.0</td>\n",
       "      <td>47144.0</td>\n",
       "      <td>16406.285714</td>\n",
       "    </tr>\n",
       "    <tr>\n",
       "      <th>222</th>\n",
       "      <td>2020-09-01</td>\n",
       "      <td>941946.0</td>\n",
       "      <td>16230.0</td>\n",
       "      <td>16691.428571</td>\n",
       "    </tr>\n",
       "    <tr>\n",
       "      <th>223</th>\n",
       "      <td>2020-09-02</td>\n",
       "      <td>959108.0</td>\n",
       "      <td>17162.0</td>\n",
       "      <td>17058.571429</td>\n",
       "    </tr>\n",
       "    <tr>\n",
       "      <th>224</th>\n",
       "      <td>2020-09-03</td>\n",
       "      <td>977026.0</td>\n",
       "      <td>17918.0</td>\n",
       "      <td>16858.857143</td>\n",
       "    </tr>\n",
       "    <tr>\n",
       "      <th>225</th>\n",
       "      <td>2020-09-04</td>\n",
       "      <td>997978.0</td>\n",
       "      <td>20952.0</td>\n",
       "      <td>17058.000000</td>\n",
       "    </tr>\n",
       "  </tbody>\n",
       "</table>\n",
       "</div>"
      ],
      "text/plain": [
       "    sample_date_string  cumulative_cases  new_cases  rolling_mean_new_cases\n",
       "221         2020-08-31          925716.0    47144.0            16406.285714\n",
       "222         2020-09-01          941946.0    16230.0            16691.428571\n",
       "223         2020-09-02          959108.0    17162.0            17058.571429\n",
       "224         2020-09-03          977026.0    17918.0            16858.857143\n",
       "225         2020-09-04          997978.0    20952.0            17058.000000"
      ]
     },
     "execution_count": 5,
     "metadata": {},
     "output_type": "execute_result"
    }
   ],
   "source": [
    "confirmed_df.reset_index(inplace=True)\n",
    "confirmed_df.columns = [\"sample_date_string\", \"cumulative_cases\"]\n",
    "confirmed_df.sort_values(\"sample_date_string\", inplace=True)\n",
    "confirmed_df[\"new_cases\"] = confirmed_df.cumulative_cases.diff()\n",
    "confirmed_df[\"rolling_mean_new_cases\"] = confirmed_df.new_cases.rolling(7).mean()\n",
    "confirmed_df.tail()"
   ]
  },
  {
   "cell_type": "code",
   "execution_count": 6,
   "metadata": {
    "execution": {
     "iopub.execute_input": "2020-09-04T23:17:06.976754Z",
     "iopub.status.busy": "2020-09-04T23:17:06.976137Z",
     "iopub.status.idle": "2020-09-04T23:17:06.979913Z",
     "shell.execute_reply": "2020-09-04T23:17:06.979378Z"
    },
    "papermill": {
     "duration": 0.043729,
     "end_time": "2020-09-04T23:17:06.980045",
     "exception": false,
     "start_time": "2020-09-04T23:17:06.936316",
     "status": "completed"
    },
    "pycharm": {
     "name": "#%%\n"
    },
    "tags": []
   },
   "outputs": [
    {
     "data": {
      "text/html": [
       "<div>\n",
       "<style scoped>\n",
       "    .dataframe tbody tr th:only-of-type {\n",
       "        vertical-align: middle;\n",
       "    }\n",
       "\n",
       "    .dataframe tbody tr th {\n",
       "        vertical-align: top;\n",
       "    }\n",
       "\n",
       "    .dataframe thead th {\n",
       "        text-align: right;\n",
       "    }\n",
       "</style>\n",
       "<table border=\"1\" class=\"dataframe\">\n",
       "  <thead>\n",
       "    <tr style=\"text-align: right;\">\n",
       "      <th></th>\n",
       "      <th>sample_date_string</th>\n",
       "      <th>cumulative_cases</th>\n",
       "      <th>new_cases</th>\n",
       "      <th>rolling_mean_new_cases</th>\n",
       "    </tr>\n",
       "  </thead>\n",
       "  <tbody>\n",
       "    <tr>\n",
       "      <th>221</th>\n",
       "      <td>2020-08-31</td>\n",
       "      <td>925716.0</td>\n",
       "      <td>47144.0</td>\n",
       "      <td>16406.285714</td>\n",
       "    </tr>\n",
       "    <tr>\n",
       "      <th>222</th>\n",
       "      <td>2020-09-01</td>\n",
       "      <td>941946.0</td>\n",
       "      <td>16230.0</td>\n",
       "      <td>16691.428571</td>\n",
       "    </tr>\n",
       "    <tr>\n",
       "      <th>223</th>\n",
       "      <td>2020-09-02</td>\n",
       "      <td>959108.0</td>\n",
       "      <td>17162.0</td>\n",
       "      <td>17058.571429</td>\n",
       "    </tr>\n",
       "    <tr>\n",
       "      <th>224</th>\n",
       "      <td>2020-09-03</td>\n",
       "      <td>977026.0</td>\n",
       "      <td>17918.0</td>\n",
       "      <td>16858.857143</td>\n",
       "    </tr>\n",
       "    <tr>\n",
       "      <th>225</th>\n",
       "      <td>2020-09-04</td>\n",
       "      <td>997978.0</td>\n",
       "      <td>20952.0</td>\n",
       "      <td>17058.000000</td>\n",
       "    </tr>\n",
       "  </tbody>\n",
       "</table>\n",
       "</div>"
      ],
      "text/plain": [
       "    sample_date_string  cumulative_cases  new_cases  rolling_mean_new_cases\n",
       "221         2020-08-31          925716.0    47144.0            16406.285714\n",
       "222         2020-09-01          941946.0    16230.0            16691.428571\n",
       "223         2020-09-02          959108.0    17162.0            17058.571429\n",
       "224         2020-09-03          977026.0    17918.0            16858.857143\n",
       "225         2020-09-04          997978.0    20952.0            17058.000000"
      ]
     },
     "execution_count": 6,
     "metadata": {},
     "output_type": "execute_result"
    }
   ],
   "source": [
    "extraction_date_confirmed_df = \\\n",
    "    confirmed_df[confirmed_df.sample_date_string == extraction_date]\n",
    "extraction_previous_date_confirmed_df = \\\n",
    "    confirmed_df[confirmed_df.sample_date_string == extraction_previous_date].copy()\n",
    "\n",
    "if extraction_date_confirmed_df.empty and \\\n",
    "    not extraction_previous_date_confirmed_df.empty:\n",
    "        extraction_previous_date_confirmed_df[\"sample_date_string\"] = extraction_date\n",
    "        extraction_previous_date_confirmed_df[\"new_cases\"] = \\\n",
    "            extraction_previous_date_confirmed_df.rolling_mean_new_cases\n",
    "        extraction_previous_date_confirmed_df[\"cumulative_cases\"] = \\\n",
    "            extraction_previous_date_confirmed_df.new_cases + \\\n",
    "            extraction_previous_date_confirmed_df.cumulative_cases\n",
    "        confirmed_df = confirmed_df.append(extraction_previous_date_confirmed_df)\n",
    "        \n",
    "confirmed_df.tail()"
   ]
  },
  {
   "cell_type": "code",
   "execution_count": 7,
   "metadata": {
    "execution": {
     "iopub.execute_input": "2020-09-04T23:17:07.040287Z",
     "iopub.status.busy": "2020-09-04T23:17:07.039684Z",
     "iopub.status.idle": "2020-09-04T23:17:07.268449Z",
     "shell.execute_reply": "2020-09-04T23:17:07.267608Z"
    },
    "papermill": {
     "duration": 0.263717,
     "end_time": "2020-09-04T23:17:07.268596",
     "exception": false,
     "start_time": "2020-09-04T23:17:07.004879",
     "status": "completed"
    },
    "pycharm": {
     "name": "#%%\n"
    },
    "tags": []
   },
   "outputs": [
    {
     "data": {
      "text/plain": [
       "<matplotlib.axes._subplots.AxesSubplot at 0x7f7319f5d940>"
      ]
     },
     "execution_count": 7,
     "metadata": {},
     "output_type": "execute_result"
    },
    {
     "data": {
      "image/png": "[encoded data removed]",
      "text/plain": [
       "<Figure size 1080x432 with 1 Axes>"
      ]
     },
     "metadata": {},
     "output_type": "display_data"
    }
   ],
   "source": [
    "confirmed_df[[\"new_cases\", \"rolling_mean_new_cases\"]].plot()"
   ]
  },
  {
   "cell_type": "markdown",
   "metadata": {
    "execution": {
     "iopub.execute_input": "2020-08-30T22:30:16.351238Z",
     "iopub.status.busy": "2020-08-30T22:30:16.344579Z",
     "iopub.status.idle": "2020-08-30T22:30:16.354285Z",
     "shell.execute_reply": "2020-08-30T22:30:16.353641Z"
    },
    "papermill": {
     "duration": 0.026402,
     "end_time": "2020-09-04T23:17:07.323296",
     "exception": false,
     "start_time": "2020-09-04T23:17:07.296894",
     "status": "completed"
    },
    "pycharm": {
     "name": "#%% md\n"
    },
    "tags": []
   },
   "source": [
    "### Extract API TEKs"
   ]
  },
  {
   "cell_type": "code",
   "execution_count": 8,
   "metadata": {
    "execution": {
     "iopub.execute_input": "2020-09-04T23:17:07.380055Z",
     "iopub.status.busy": "2020-09-04T23:17:07.379446Z",
     "iopub.status.idle": "2020-09-04T23:17:07.942531Z",
     "shell.execute_reply": "2020-09-04T23:17:07.943040Z"
    },
    "papermill": {
     "duration": 0.593793,
     "end_time": "2020-09-04T23:17:07.943312",
     "exception": false,
     "start_time": "2020-09-04T23:17:07.349519",
     "status": "completed"
    },
    "pycharm": {
     "name": "#%%\n"
    },
    "tags": []
   },
   "outputs": [
    {
     "name": "stderr",
     "output_type": "stream",
     "text": [
      "WARNING:root:NoDataFoundForDateException(\"No exposed tokens found for day '2020-09-04'.\")\n"
     ]
    },
    {
     "data": {
      "text/html": [
       "<div>\n",
       "<style scoped>\n",
       "    .dataframe tbody tr th:only-of-type {\n",
       "        vertical-align: middle;\n",
       "    }\n",
       "\n",
       "    .dataframe tbody tr th {\n",
       "        vertical-align: top;\n",
       "    }\n",
       "\n",
       "    .dataframe thead th {\n",
       "        text-align: right;\n",
       "    }\n",
       "</style>\n",
       "<table border=\"1\" class=\"dataframe\">\n",
       "  <thead>\n",
       "    <tr style=\"text-align: right;\">\n",
       "      <th></th>\n",
       "      <th>sample_date_string</th>\n",
       "      <th>source_url</th>\n",
       "      <th>region</th>\n",
       "      <th>key_data</th>\n",
       "    </tr>\n",
       "  </thead>\n",
       "  <tbody>\n",
       "    <tr>\n",
       "      <th>0</th>\n",
       "      <td>2020-09-03</td>\n",
       "      <td>https://radarcovid.covid19.gob.es/dp3t/v1/gaen...</td>\n",
       "      <td>ES</td>\n",
       "      <td>4129db59-cc0f-67fa-781a-4e3b96b19c35</td>\n",
       "    </tr>\n",
       "    <tr>\n",
       "      <th>1</th>\n",
       "      <td>2020-09-03</td>\n",
       "      <td>https://radarcovid.covid19.gob.es/dp3t/v1/gaen...</td>\n",
       "      <td>ES</td>\n",
       "      <td>3a9808df-eeb3-c07d-11a3-dc00e2759dfc</td>\n",
       "    </tr>\n",
       "    <tr>\n",
       "      <th>2</th>\n",
       "      <td>2020-09-03</td>\n",
       "      <td>https://radarcovid.covid19.gob.es/dp3t/v1/gaen...</td>\n",
       "      <td>ES</td>\n",
       "      <td>6c847bdf-e437-92c6-dfa4-75cb22d007b7</td>\n",
       "    </tr>\n",
       "    <tr>\n",
       "      <th>3</th>\n",
       "      <td>2020-09-03</td>\n",
       "      <td>https://radarcovid.covid19.gob.es/dp3t/v1/gaen...</td>\n",
       "      <td>ES</td>\n",
       "      <td>8691b3bb-eb05-3459-9e42-2d3a911c735d</td>\n",
       "    </tr>\n",
       "    <tr>\n",
       "      <th>4</th>\n",
       "      <td>2020-09-03</td>\n",
       "      <td>https://radarcovid.covid19.gob.es/dp3t/v1/gaen...</td>\n",
       "      <td>ES</td>\n",
       "      <td>d1e204e0-2b64-adfd-f944-d34ef3c2a00f</td>\n",
       "    </tr>\n",
       "  </tbody>\n",
       "</table>\n",
       "</div>"
      ],
      "text/plain": [
       "  sample_date_string                                         source_url  \\\n",
       "0         2020-09-03  https://radarcovid.covid19.gob.es/dp3t/v1/gaen...   \n",
       "1         2020-09-03  https://radarcovid.covid19.gob.es/dp3t/v1/gaen...   \n",
       "2         2020-09-03  https://radarcovid.covid19.gob.es/dp3t/v1/gaen...   \n",
       "3         2020-09-03  https://radarcovid.covid19.gob.es/dp3t/v1/gaen...   \n",
       "4         2020-09-03  https://radarcovid.covid19.gob.es/dp3t/v1/gaen...   \n",
       "\n",
       "  region                              key_data  \n",
       "0     ES  4129db59-cc0f-67fa-781a-4e3b96b19c35  \n",
       "1     ES  3a9808df-eeb3-c07d-11a3-dc00e2759dfc  \n",
       "2     ES  6c847bdf-e437-92c6-dfa4-75cb22d007b7  \n",
       "3     ES  8691b3bb-eb05-3459-9e42-2d3a911c735d  \n",
       "4     ES  d1e204e0-2b64-adfd-f944-d34ef3c2a00f  "
      ]
     },
     "execution_count": 8,
     "metadata": {},
     "output_type": "execute_result"
    }
   ],
   "source": [
    "from Modules.RadarCOVID import radar_covid\n",
    "\n",
    "exposure_keys_df = radar_covid.download_last_radar_covid_exposure_keys(days=14)\n",
    "exposure_keys_df[[\n",
    "    \"sample_date_string\", \"source_url\", \"region\", \"key_data\"]].head()"
   ]
  },
  {
   "cell_type": "code",
   "execution_count": 9,
   "metadata": {
    "execution": {
     "iopub.execute_input": "2020-09-04T23:17:08.010865Z",
     "iopub.status.busy": "2020-09-04T23:17:08.010256Z",
     "iopub.status.idle": "2020-09-04T23:17:08.013351Z",
     "shell.execute_reply": "2020-09-04T23:17:08.013975Z"
    },
    "papermill": {
     "duration": 0.043031,
     "end_time": "2020-09-04T23:17:08.014120",
     "exception": false,
     "start_time": "2020-09-04T23:17:07.971089",
     "status": "completed"
    },
    "scrolled": false,
    "tags": []
   },
   "outputs": [
    {
     "data": {
      "text/html": [
       "<div>\n",
       "<style scoped>\n",
       "    .dataframe tbody tr th:only-of-type {\n",
       "        vertical-align: middle;\n",
       "    }\n",
       "\n",
       "    .dataframe tbody tr th {\n",
       "        vertical-align: top;\n",
       "    }\n",
       "\n",
       "    .dataframe thead th {\n",
       "        text-align: right;\n",
       "    }\n",
       "</style>\n",
       "<table border=\"1\" class=\"dataframe\">\n",
       "  <thead>\n",
       "    <tr style=\"text-align: right;\">\n",
       "      <th></th>\n",
       "      <th>tek_count</th>\n",
       "    </tr>\n",
       "    <tr>\n",
       "      <th>sample_date_string</th>\n",
       "      <th></th>\n",
       "    </tr>\n",
       "  </thead>\n",
       "  <tbody>\n",
       "    <tr>\n",
       "      <th>2020-09-03</th>\n",
       "      <td>20</td>\n",
       "    </tr>\n",
       "    <tr>\n",
       "      <th>2020-09-02</th>\n",
       "      <td>30</td>\n",
       "    </tr>\n",
       "    <tr>\n",
       "      <th>2020-09-01</th>\n",
       "      <td>33</td>\n",
       "    </tr>\n",
       "    <tr>\n",
       "      <th>2020-08-31</th>\n",
       "      <td>42</td>\n",
       "    </tr>\n",
       "    <tr>\n",
       "      <th>2020-08-30</th>\n",
       "      <td>59</td>\n",
       "    </tr>\n",
       "  </tbody>\n",
       "</table>\n",
       "</div>"
      ],
      "text/plain": [
       "                    tek_count\n",
       "sample_date_string           \n",
       "2020-09-03                 20\n",
       "2020-09-02                 30\n",
       "2020-09-01                 33\n",
       "2020-08-31                 42\n",
       "2020-08-30                 59"
      ]
     },
     "execution_count": 9,
     "metadata": {},
     "output_type": "execute_result"
    }
   ],
   "source": [
    "exposure_keys_summary_df = \\\n",
    "    exposure_keys_df.groupby([\"sample_date_string\"]).key_data.nunique().to_frame()\n",
    "exposure_keys_summary_df.sort_index(ascending=False, inplace=True)\n",
    "exposure_keys_summary_df.rename(columns={\"key_data\": \"tek_count\"}, inplace=True)\n",
    "exposure_keys_summary_df.head()"
   ]
  },
  {
   "cell_type": "markdown",
   "metadata": {
    "papermill": {
     "duration": 0.028374,
     "end_time": "2020-09-04T23:17:08.071185",
     "exception": false,
     "start_time": "2020-09-04T23:17:08.042811",
     "status": "completed"
    },
    "tags": []
   },
   "source": [
    "### Dump API TEKs"
   ]
  },
  {
   "cell_type": "code",
   "execution_count": 10,
   "metadata": {
    "execution": {
     "iopub.execute_input": "2020-09-04T23:17:08.138233Z",
     "iopub.status.busy": "2020-09-04T23:17:08.137606Z",
     "iopub.status.idle": "2020-09-04T23:17:08.160847Z",
     "shell.execute_reply": "2020-09-04T23:17:08.160351Z"
    },
    "papermill": {
     "duration": 0.062053,
     "end_time": "2020-09-04T23:17:08.160980",
     "exception": false,
     "start_time": "2020-09-04T23:17:08.098927",
     "status": "completed"
    },
    "tags": []
   },
   "outputs": [
    {
     "data": {
      "text/html": [
       "<div>\n",
       "<style scoped>\n",
       "    .dataframe tbody tr th:only-of-type {\n",
       "        vertical-align: middle;\n",
       "    }\n",
       "\n",
       "    .dataframe tbody tr th {\n",
       "        vertical-align: top;\n",
       "    }\n",
       "\n",
       "    .dataframe thead th {\n",
       "        text-align: right;\n",
       "    }\n",
       "</style>\n",
       "<table border=\"1\" class=\"dataframe\">\n",
       "  <thead>\n",
       "    <tr style=\"text-align: right;\">\n",
       "      <th></th>\n",
       "      <th>sample_date</th>\n",
       "      <th>tek_list</th>\n",
       "      <th>extraction_date</th>\n",
       "      <th>extraction_date_with_hour</th>\n",
       "    </tr>\n",
       "  </thead>\n",
       "  <tbody>\n",
       "    <tr>\n",
       "      <th>0</th>\n",
       "      <td>2020-08-22</td>\n",
       "      <td>[316fcc1d-9bdb-69ae-b997-70b5b4ca1d74, 33b23da...</td>\n",
       "      <td>2020-09-04</td>\n",
       "      <td>2020-09-04@23</td>\n",
       "    </tr>\n",
       "    <tr>\n",
       "      <th>1</th>\n",
       "      <td>2020-08-23</td>\n",
       "      <td>[3dda2de2-fc66-33b9-cf6b-c7b85f8683d5, c0a53a0...</td>\n",
       "      <td>2020-09-04</td>\n",
       "      <td>2020-09-04@23</td>\n",
       "    </tr>\n",
       "    <tr>\n",
       "      <th>2</th>\n",
       "      <td>2020-08-24</td>\n",
       "      <td>[b040f48d-d3f9-6518-2b3d-24037d185437, bbc28f7...</td>\n",
       "      <td>2020-09-04</td>\n",
       "      <td>2020-09-04@23</td>\n",
       "    </tr>\n",
       "    <tr>\n",
       "      <th>3</th>\n",
       "      <td>2020-08-25</td>\n",
       "      <td>[762a3c9a-e6c8-f55b-e15d-3d28c4dd10c3, 2009e54...</td>\n",
       "      <td>2020-09-04</td>\n",
       "      <td>2020-09-04@23</td>\n",
       "    </tr>\n",
       "    <tr>\n",
       "      <th>4</th>\n",
       "      <td>2020-08-26</td>\n",
       "      <td>[8729da43-ced8-821d-874f-88e5b874d175, fdabc8d...</td>\n",
       "      <td>2020-09-04</td>\n",
       "      <td>2020-09-04@23</td>\n",
       "    </tr>\n",
       "  </tbody>\n",
       "</table>\n",
       "</div>"
      ],
      "text/plain": [
       "  sample_date                                           tek_list  \\\n",
       "0  2020-08-22  [316fcc1d-9bdb-69ae-b997-70b5b4ca1d74, 33b23da...   \n",
       "1  2020-08-23  [3dda2de2-fc66-33b9-cf6b-c7b85f8683d5, c0a53a0...   \n",
       "2  2020-08-24  [b040f48d-d3f9-6518-2b3d-24037d185437, bbc28f7...   \n",
       "3  2020-08-25  [762a3c9a-e6c8-f55b-e15d-3d28c4dd10c3, 2009e54...   \n",
       "4  2020-08-26  [8729da43-ced8-821d-874f-88e5b874d175, fdabc8d...   \n",
       "\n",
       "  extraction_date extraction_date_with_hour  \n",
       "0      2020-09-04             2020-09-04@23  \n",
       "1      2020-09-04             2020-09-04@23  \n",
       "2      2020-09-04             2020-09-04@23  \n",
       "3      2020-09-04             2020-09-04@23  \n",
       "4      2020-09-04             2020-09-04@23  "
      ]
     },
     "execution_count": 10,
     "metadata": {},
     "output_type": "execute_result"
    }
   ],
   "source": [
    "tek_list_df = exposure_keys_df[[\"sample_date_string\", \"key_data\"]].copy()\n",
    "tek_list_df[\"key_data\"] = tek_list_df[\"key_data\"].apply(str)\n",
    "tek_list_df.rename(columns={\n",
    "    \"sample_date_string\": \"sample_date\",\n",
    "    \"key_data\": \"tek_list\"}, inplace=True)\n",
    "tek_list_df = tek_list_df.groupby(\n",
    "    \"sample_date\").tek_list.unique().reset_index()\n",
    "tek_list_df[\"extraction_date\"] = extraction_date\n",
    "tek_list_df[\"extraction_date_with_hour\"] = extraction_date_with_hour\n",
    "tek_list_df.drop(columns=[\"extraction_date\", \"extraction_date_with_hour\"]).to_json(\n",
    "    \"Data/TEKs/Current/RadarCOVID-TEKs.json\",\n",
    "    lines=True, orient=\"records\")\n",
    "tek_list_df.drop(columns=[\"extraction_date_with_hour\"]).to_json(\n",
    "    \"Data/TEKs/Daily/RadarCOVID-TEKs-\" + extraction_date + \".json\",\n",
    "    lines=True, orient=\"records\")\n",
    "tek_list_df.to_json(\n",
    "    \"Data/TEKs/Hourly/RadarCOVID-TEKs-\" + extraction_date_with_hour + \".json\",\n",
    "    lines=True, orient=\"records\")\n",
    "tek_list_df.head()"
   ]
  },
  {
   "cell_type": "markdown",
   "metadata": {
    "papermill": {
     "duration": 0.027967,
     "end_time": "2020-09-04T23:17:08.216827",
     "exception": false,
     "start_time": "2020-09-04T23:17:08.188860",
     "status": "completed"
    },
    "tags": []
   },
   "source": [
    "### Load TEK Dumps"
   ]
  },
  {
   "cell_type": "code",
   "execution_count": 11,
   "metadata": {
    "execution": {
     "iopub.execute_input": "2020-09-04T23:17:08.278413Z",
     "iopub.status.busy": "2020-09-04T23:17:08.277804Z",
     "iopub.status.idle": "2020-09-04T23:17:08.280573Z",
     "shell.execute_reply": "2020-09-04T23:17:08.280052Z"
    },
    "papermill": {
     "duration": 0.035833,
     "end_time": "2020-09-04T23:17:08.280700",
     "exception": false,
     "start_time": "2020-09-04T23:17:08.244867",
     "status": "completed"
    },
    "tags": []
   },
   "outputs": [],
   "source": [
    "import glob\n",
    "\n",
    "def load_extracted_teks(mode, limit=None) -> pd.DataFrame:\n",
    "    extracted_teks_df = pd.DataFrame()\n",
    "    paths = list(reversed(sorted(glob.glob(f\"Data/TEKs/{mode}/RadarCOVID-TEKs-*.json\"))))\n",
    "    if limit:\n",
    "        paths = paths[:limit]\n",
    "    for path in paths:\n",
    "        logging.info(f\"Loading TEKs from '{path}'...\")\n",
    "        iteration_extracted_teks_df = pd.read_json(path, lines=True)\n",
    "        extracted_teks_df = extracted_teks_df.append(\n",
    "            iteration_extracted_teks_df, sort=False)\n",
    "    return extracted_teks_df"
   ]
  },
  {
   "cell_type": "markdown",
   "metadata": {
    "execution": {
     "iopub.execute_input": "2020-08-30T22:30:16.632967Z",
     "iopub.status.busy": "2020-08-30T22:30:16.632308Z",
     "iopub.status.idle": "2020-08-30T22:30:16.634945Z",
     "shell.execute_reply": "2020-08-30T22:30:16.635575Z"
    },
    "papermill": {
     "duration": 0.027901,
     "end_time": "2020-09-04T23:17:08.336441",
     "exception": false,
     "start_time": "2020-09-04T23:17:08.308540",
     "status": "completed"
    },
    "pycharm": {
     "name": "#%% md\n"
    },
    "tags": []
   },
   "source": [
    "### Daily New TEKs"
   ]
  },
  {
   "cell_type": "code",
   "execution_count": 12,
   "metadata": {
    "execution": {
     "iopub.execute_input": "2020-09-04T23:17:08.397129Z",
     "iopub.status.busy": "2020-09-04T23:17:08.396519Z",
     "iopub.status.idle": "2020-09-04T23:17:08.443546Z",
     "shell.execute_reply": "2020-09-04T23:17:08.442965Z"
    },
    "papermill": {
     "duration": 0.07937,
     "end_time": "2020-09-04T23:17:08.443676",
     "exception": false,
     "start_time": "2020-09-04T23:17:08.364306",
     "status": "completed"
    },
    "tags": []
   },
   "outputs": [
    {
     "data": {
      "text/html": [
       "<div>\n",
       "<style scoped>\n",
       "    .dataframe tbody tr th:only-of-type {\n",
       "        vertical-align: middle;\n",
       "    }\n",
       "\n",
       "    .dataframe tbody tr th {\n",
       "        vertical-align: top;\n",
       "    }\n",
       "\n",
       "    .dataframe thead th {\n",
       "        text-align: right;\n",
       "    }\n",
       "</style>\n",
       "<table border=\"1\" class=\"dataframe\">\n",
       "  <thead>\n",
       "    <tr style=\"text-align: right;\">\n",
       "      <th></th>\n",
       "      <th>sample_date</th>\n",
       "      <th>tek_list</th>\n",
       "      <th>extraction_date</th>\n",
       "      <th>extraction_date_with_hour</th>\n",
       "    </tr>\n",
       "  </thead>\n",
       "  <tbody>\n",
       "    <tr>\n",
       "      <th>0</th>\n",
       "      <td>2020-08-22</td>\n",
       "      <td>[316fcc1d-9bdb-69ae-b997-70b5b4ca1d74, 33b23da...</td>\n",
       "      <td>2020-09-04</td>\n",
       "      <td>NaN</td>\n",
       "    </tr>\n",
       "    <tr>\n",
       "      <th>1</th>\n",
       "      <td>2020-08-23</td>\n",
       "      <td>[3dda2de2-fc66-33b9-cf6b-c7b85f8683d5, c0a53a0...</td>\n",
       "      <td>2020-09-04</td>\n",
       "      <td>NaN</td>\n",
       "    </tr>\n",
       "    <tr>\n",
       "      <th>2</th>\n",
       "      <td>2020-08-24</td>\n",
       "      <td>[b040f48d-d3f9-6518-2b3d-24037d185437, bbc28f7...</td>\n",
       "      <td>2020-09-04</td>\n",
       "      <td>NaN</td>\n",
       "    </tr>\n",
       "    <tr>\n",
       "      <th>3</th>\n",
       "      <td>2020-08-25</td>\n",
       "      <td>[762a3c9a-e6c8-f55b-e15d-3d28c4dd10c3, 2009e54...</td>\n",
       "      <td>2020-09-04</td>\n",
       "      <td>NaN</td>\n",
       "    </tr>\n",
       "    <tr>\n",
       "      <th>4</th>\n",
       "      <td>2020-08-26</td>\n",
       "      <td>[8729da43-ced8-821d-874f-88e5b874d175, fdabc8d...</td>\n",
       "      <td>2020-09-04</td>\n",
       "      <td>NaN</td>\n",
       "    </tr>\n",
       "  </tbody>\n",
       "</table>\n",
       "</div>"
      ],
      "text/plain": [
       "  sample_date                                           tek_list  \\\n",
       "0  2020-08-22  [316fcc1d-9bdb-69ae-b997-70b5b4ca1d74, 33b23da...   \n",
       "1  2020-08-23  [3dda2de2-fc66-33b9-cf6b-c7b85f8683d5, c0a53a0...   \n",
       "2  2020-08-24  [b040f48d-d3f9-6518-2b3d-24037d185437, bbc28f7...   \n",
       "3  2020-08-25  [762a3c9a-e6c8-f55b-e15d-3d28c4dd10c3, 2009e54...   \n",
       "4  2020-08-26  [8729da43-ced8-821d-874f-88e5b874d175, fdabc8d...   \n",
       "\n",
       "  extraction_date extraction_date_with_hour  \n",
       "0      2020-09-04                       NaN  \n",
       "1      2020-09-04                       NaN  \n",
       "2      2020-09-04                       NaN  \n",
       "3      2020-09-04                       NaN  \n",
       "4      2020-09-04                       NaN  "
      ]
     },
     "execution_count": 12,
     "metadata": {},
     "output_type": "execute_result"
    }
   ],
   "source": [
    "daily_extracted_teks_df = load_extracted_teks(mode=\"Daily\", limit=14)\n",
    "daily_extracted_teks_df.head()"
   ]
  },
  {
   "cell_type": "code",
   "execution_count": 13,
   "metadata": {
    "execution": {
     "iopub.execute_input": "2020-09-04T23:17:08.519921Z",
     "iopub.status.busy": "2020-09-04T23:17:08.519297Z",
     "iopub.status.idle": "2020-09-04T23:17:08.521817Z",
     "shell.execute_reply": "2020-09-04T23:17:08.522321Z"
    },
    "papermill": {
     "duration": 0.050545,
     "end_time": "2020-09-04T23:17:08.522476",
     "exception": false,
     "start_time": "2020-09-04T23:17:08.471931",
     "status": "completed"
    },
    "tags": []
   },
   "outputs": [
    {
     "data": {
      "text/html": [
       "<div>\n",
       "<style scoped>\n",
       "    .dataframe tbody tr th:only-of-type {\n",
       "        vertical-align: middle;\n",
       "    }\n",
       "\n",
       "    .dataframe tbody tr th {\n",
       "        vertical-align: top;\n",
       "    }\n",
       "\n",
       "    .dataframe thead th {\n",
       "        text-align: right;\n",
       "    }\n",
       "</style>\n",
       "<table border=\"1\" class=\"dataframe\">\n",
       "  <thead>\n",
       "    <tr style=\"text-align: right;\">\n",
       "      <th></th>\n",
       "      <th>tek_list</th>\n",
       "    </tr>\n",
       "    <tr>\n",
       "      <th>extraction_date</th>\n",
       "      <th></th>\n",
       "    </tr>\n",
       "  </thead>\n",
       "  <tbody>\n",
       "    <tr>\n",
       "      <th>2020-08-29</th>\n",
       "      <td>{aba071fe-7aab-5c5d-fda9-f60250eb7575, aab121c...</td>\n",
       "    </tr>\n",
       "    <tr>\n",
       "      <th>2020-08-30</th>\n",
       "      <td>{aba071fe-7aab-5c5d-fda9-f60250eb7575, aab121c...</td>\n",
       "    </tr>\n",
       "    <tr>\n",
       "      <th>2020-08-31</th>\n",
       "      <td>{aba071fe-7aab-5c5d-fda9-f60250eb7575, 83084b5...</td>\n",
       "    </tr>\n",
       "    <tr>\n",
       "      <th>2020-09-01</th>\n",
       "      <td>{aba071fe-7aab-5c5d-fda9-f60250eb7575, 83084b5...</td>\n",
       "    </tr>\n",
       "    <tr>\n",
       "      <th>2020-09-02</th>\n",
       "      <td>{aba071fe-7aab-5c5d-fda9-f60250eb7575, 83084b5...</td>\n",
       "    </tr>\n",
       "  </tbody>\n",
       "</table>\n",
       "</div>"
      ],
      "text/plain": [
       "                                                          tek_list\n",
       "extraction_date                                                   \n",
       "2020-08-29       {aba071fe-7aab-5c5d-fda9-f60250eb7575, aab121c...\n",
       "2020-08-30       {aba071fe-7aab-5c5d-fda9-f60250eb7575, aab121c...\n",
       "2020-08-31       {aba071fe-7aab-5c5d-fda9-f60250eb7575, 83084b5...\n",
       "2020-09-01       {aba071fe-7aab-5c5d-fda9-f60250eb7575, 83084b5...\n",
       "2020-09-02       {aba071fe-7aab-5c5d-fda9-f60250eb7575, 83084b5..."
      ]
     },
     "execution_count": 13,
     "metadata": {},
     "output_type": "execute_result"
    }
   ],
   "source": [
    "tek_list_df = daily_extracted_teks_df.groupby(\"extraction_date\").tek_list.apply(\n",
    "    lambda x: set(sum(x, []))).reset_index()\n",
    "tek_list_df = tek_list_df.set_index(\"extraction_date\").sort_index(ascending=True)\n",
    "tek_list_df.head()"
   ]
  },
  {
   "cell_type": "code",
   "execution_count": 14,
   "metadata": {
    "execution": {
     "iopub.execute_input": "2020-09-04T23:17:08.596952Z",
     "iopub.status.busy": "2020-09-04T23:17:08.596343Z",
     "iopub.status.idle": "2020-09-04T23:17:08.599785Z",
     "shell.execute_reply": "2020-09-04T23:17:08.599211Z"
    },
    "papermill": {
     "duration": 0.047208,
     "end_time": "2020-09-04T23:17:08.599917",
     "exception": false,
     "start_time": "2020-09-04T23:17:08.552709",
     "status": "completed"
    },
    "tags": []
   },
   "outputs": [
    {
     "data": {
      "text/html": [
       "<div>\n",
       "<style scoped>\n",
       "    .dataframe tbody tr th:only-of-type {\n",
       "        vertical-align: middle;\n",
       "    }\n",
       "\n",
       "    .dataframe tbody tr th {\n",
       "        vertical-align: top;\n",
       "    }\n",
       "\n",
       "    .dataframe thead th {\n",
       "        text-align: right;\n",
       "    }\n",
       "</style>\n",
       "<table border=\"1\" class=\"dataframe\">\n",
       "  <thead>\n",
       "    <tr style=\"text-align: right;\">\n",
       "      <th></th>\n",
       "      <th>sample_date_string</th>\n",
       "      <th>new_tek_count</th>\n",
       "    </tr>\n",
       "  </thead>\n",
       "  <tbody>\n",
       "    <tr>\n",
       "      <th>0</th>\n",
       "      <td>2020-08-29</td>\n",
       "      <td>NaN</td>\n",
       "    </tr>\n",
       "    <tr>\n",
       "      <th>1</th>\n",
       "      <td>2020-08-30</td>\n",
       "      <td>29.0</td>\n",
       "    </tr>\n",
       "    <tr>\n",
       "      <th>2</th>\n",
       "      <td>2020-08-31</td>\n",
       "      <td>63.0</td>\n",
       "    </tr>\n",
       "    <tr>\n",
       "      <th>3</th>\n",
       "      <td>2020-09-01</td>\n",
       "      <td>39.0</td>\n",
       "    </tr>\n",
       "    <tr>\n",
       "      <th>4</th>\n",
       "      <td>2020-09-02</td>\n",
       "      <td>57.0</td>\n",
       "    </tr>\n",
       "  </tbody>\n",
       "</table>\n",
       "</div>"
      ],
      "text/plain": [
       "  sample_date_string  new_tek_count\n",
       "0         2020-08-29            NaN\n",
       "1         2020-08-30           29.0\n",
       "2         2020-08-31           63.0\n",
       "3         2020-09-01           39.0\n",
       "4         2020-09-02           57.0"
      ]
     },
     "execution_count": 14,
     "metadata": {},
     "output_type": "execute_result"
    }
   ],
   "source": [
    "new_tek_df = tek_list_df.diff().tek_list.apply(\n",
    "    lambda x: len(x) if not pd.isna(x) else None).to_frame().reset_index()\n",
    "new_tek_df.rename(columns={\n",
    "    \"tek_list\": \"new_tek_count\",\n",
    "    \"extraction_date\": \"sample_date_string\",}, inplace=True)\n",
    "new_tek_df.head()"
   ]
  },
  {
   "cell_type": "code",
   "execution_count": 15,
   "metadata": {
    "execution": {
     "iopub.execute_input": "2020-09-04T23:17:08.678184Z",
     "iopub.status.busy": "2020-09-04T23:17:08.677545Z",
     "iopub.status.idle": "2020-09-04T23:17:08.680768Z",
     "shell.execute_reply": "2020-09-04T23:17:08.680256Z"
    },
    "papermill": {
     "duration": 0.051537,
     "end_time": "2020-09-04T23:17:08.680906",
     "exception": false,
     "start_time": "2020-09-04T23:17:08.629369",
     "status": "completed"
    },
    "pycharm": {
     "name": "#%%\n"
    },
    "tags": []
   },
   "outputs": [
    {
     "data": {
      "text/html": [
       "<div>\n",
       "<style scoped>\n",
       "    .dataframe tbody tr th:only-of-type {\n",
       "        vertical-align: middle;\n",
       "    }\n",
       "\n",
       "    .dataframe tbody tr th {\n",
       "        vertical-align: top;\n",
       "    }\n",
       "\n",
       "    .dataframe thead th {\n",
       "        text-align: right;\n",
       "    }\n",
       "</style>\n",
       "<table border=\"1\" class=\"dataframe\">\n",
       "  <thead>\n",
       "    <tr style=\"text-align: right;\">\n",
       "      <th></th>\n",
       "      <th>sample_date</th>\n",
       "      <th>tek_list</th>\n",
       "      <th>extraction_date</th>\n",
       "      <th>extraction_date_with_hour</th>\n",
       "      <th>new_sample_extraction_date</th>\n",
       "    </tr>\n",
       "  </thead>\n",
       "  <tbody>\n",
       "    <tr>\n",
       "      <th>12</th>\n",
       "      <td>2020-09-03</td>\n",
       "      <td>[4129db59-cc0f-67fa-781a-4e3b96b19c35, 3a9808d...</td>\n",
       "      <td>2020-09-04</td>\n",
       "      <td>NaN</td>\n",
       "      <td>2020-09-04</td>\n",
       "    </tr>\n",
       "    <tr>\n",
       "      <th>12</th>\n",
       "      <td>2020-09-02</td>\n",
       "      <td>[06719402-e6c8-202b-34a2-b4c664da1970, 29c93e8...</td>\n",
       "      <td>2020-09-03</td>\n",
       "      <td>NaN</td>\n",
       "      <td>2020-09-03</td>\n",
       "    </tr>\n",
       "    <tr>\n",
       "      <th>12</th>\n",
       "      <td>2020-09-01</td>\n",
       "      <td>[87eaa3ab-6b32-b56d-5c0a-e292c107ef59, 124fe1b...</td>\n",
       "      <td>2020-09-02</td>\n",
       "      <td>NaN</td>\n",
       "      <td>2020-09-02</td>\n",
       "    </tr>\n",
       "    <tr>\n",
       "      <th>12</th>\n",
       "      <td>2020-08-31</td>\n",
       "      <td>[eef6b04e-53c3-f52f-4355-aec29c3b423a, 1dc16dc...</td>\n",
       "      <td>2020-09-01</td>\n",
       "      <td>NaN</td>\n",
       "      <td>2020-09-01</td>\n",
       "    </tr>\n",
       "    <tr>\n",
       "      <th>11</th>\n",
       "      <td>2020-08-30</td>\n",
       "      <td>[435d9645-674e-cfb0-e45e-93d1fca69c3e, 162557b...</td>\n",
       "      <td>2020-08-31</td>\n",
       "      <td>2020-08-31@23</td>\n",
       "      <td>2020-08-31</td>\n",
       "    </tr>\n",
       "  </tbody>\n",
       "</table>\n",
       "</div>"
      ],
      "text/plain": [
       "   sample_date                                           tek_list  \\\n",
       "12  2020-09-03  [4129db59-cc0f-67fa-781a-4e3b96b19c35, 3a9808d...   \n",
       "12  2020-09-02  [06719402-e6c8-202b-34a2-b4c664da1970, 29c93e8...   \n",
       "12  2020-09-01  [87eaa3ab-6b32-b56d-5c0a-e292c107ef59, 124fe1b...   \n",
       "12  2020-08-31  [eef6b04e-53c3-f52f-4355-aec29c3b423a, 1dc16dc...   \n",
       "11  2020-08-30  [435d9645-674e-cfb0-e45e-93d1fca69c3e, 162557b...   \n",
       "\n",
       "   extraction_date extraction_date_with_hour new_sample_extraction_date  \n",
       "12      2020-09-04                       NaN                 2020-09-04  \n",
       "12      2020-09-03                       NaN                 2020-09-03  \n",
       "12      2020-09-02                       NaN                 2020-09-02  \n",
       "12      2020-09-01                       NaN                 2020-09-01  \n",
       "11      2020-08-31             2020-08-31@23                 2020-08-31  "
      ]
     },
     "execution_count": 15,
     "metadata": {},
     "output_type": "execute_result"
    }
   ],
   "source": [
    "new_tek_devices_df = daily_extracted_teks_df.copy()\n",
    "new_tek_devices_df[\"new_sample_extraction_date\"] = \\\n",
    "    pd.to_datetime(new_tek_devices_df.sample_date) + datetime.timedelta(1)\n",
    "new_tek_devices_df[\"extraction_date\"] = pd.to_datetime(new_tek_devices_df.extraction_date)\n",
    "\n",
    "new_tek_devices_df = new_tek_devices_df[\n",
    "    new_tek_devices_df.new_sample_extraction_date == new_tek_devices_df.extraction_date]\n",
    "new_tek_devices_df.head()"
   ]
  },
  {
   "cell_type": "code",
   "execution_count": 16,
   "metadata": {
    "execution": {
     "iopub.execute_input": "2020-09-04T23:17:08.753072Z",
     "iopub.status.busy": "2020-09-04T23:17:08.749208Z",
     "iopub.status.idle": "2020-09-04T23:17:08.755933Z",
     "shell.execute_reply": "2020-09-04T23:17:08.756525Z"
    },
    "papermill": {
     "duration": 0.045209,
     "end_time": "2020-09-04T23:17:08.756675",
     "exception": false,
     "start_time": "2020-09-04T23:17:08.711466",
     "status": "completed"
    },
    "tags": []
   },
   "outputs": [
    {
     "data": {
      "text/html": [
       "<div>\n",
       "<style scoped>\n",
       "    .dataframe tbody tr th:only-of-type {\n",
       "        vertical-align: middle;\n",
       "    }\n",
       "\n",
       "    .dataframe tbody tr th {\n",
       "        vertical-align: top;\n",
       "    }\n",
       "\n",
       "    .dataframe thead th {\n",
       "        text-align: right;\n",
       "    }\n",
       "</style>\n",
       "<table border=\"1\" class=\"dataframe\">\n",
       "  <thead>\n",
       "    <tr style=\"text-align: right;\">\n",
       "      <th></th>\n",
       "      <th>sample_date_string</th>\n",
       "      <th>new_tek_devices</th>\n",
       "    </tr>\n",
       "  </thead>\n",
       "  <tbody>\n",
       "    <tr>\n",
       "      <th>0</th>\n",
       "      <td>2020-09-04</td>\n",
       "      <td>20</td>\n",
       "    </tr>\n",
       "    <tr>\n",
       "      <th>1</th>\n",
       "      <td>2020-09-03</td>\n",
       "      <td>19</td>\n",
       "    </tr>\n",
       "    <tr>\n",
       "      <th>2</th>\n",
       "      <td>2020-09-02</td>\n",
       "      <td>14</td>\n",
       "    </tr>\n",
       "    <tr>\n",
       "      <th>3</th>\n",
       "      <td>2020-09-01</td>\n",
       "      <td>14</td>\n",
       "    </tr>\n",
       "    <tr>\n",
       "      <th>4</th>\n",
       "      <td>2020-08-31</td>\n",
       "      <td>25</td>\n",
       "    </tr>\n",
       "  </tbody>\n",
       "</table>\n",
       "</div>"
      ],
      "text/plain": [
       "  sample_date_string  new_tek_devices\n",
       "0         2020-09-04               20\n",
       "1         2020-09-03               19\n",
       "2         2020-09-02               14\n",
       "3         2020-09-01               14\n",
       "4         2020-08-31               25"
      ]
     },
     "execution_count": 16,
     "metadata": {},
     "output_type": "execute_result"
    }
   ],
   "source": [
    "new_tek_devices_df.set_index(\"extraction_date\", inplace=True)\n",
    "new_tek_devices_df = new_tek_devices_df.tek_list.apply(lambda x: len(set(x))).to_frame()\n",
    "new_tek_devices_df.reset_index(inplace=True)\n",
    "new_tek_devices_df.rename(columns={\n",
    "    \"extraction_date\": \"sample_date_string\",\n",
    "    \"tek_list\": \"new_tek_devices\"}, inplace=True)\n",
    "new_tek_devices_df[\"sample_date_string\"] = new_tek_devices_df.sample_date_string.dt.strftime(\"%Y-%m-%d\")\n",
    "new_tek_devices_df.head()"
   ]
  },
  {
   "cell_type": "markdown",
   "metadata": {
    "papermill": {
     "duration": 0.030608,
     "end_time": "2020-09-04T23:17:08.817609",
     "exception": false,
     "start_time": "2020-09-04T23:17:08.787001",
     "status": "completed"
    },
    "pycharm": {
     "name": "#%% md\n"
    },
    "tags": []
   },
   "source": [
    "### Hourly New TEKs"
   ]
  },
  {
   "cell_type": "code",
   "execution_count": 17,
   "metadata": {
    "execution": {
     "iopub.execute_input": "2020-09-04T23:17:08.884191Z",
     "iopub.status.busy": "2020-09-04T23:17:08.883573Z",
     "iopub.status.idle": "2020-09-04T23:17:09.016936Z",
     "shell.execute_reply": "2020-09-04T23:17:09.016403Z"
    },
    "papermill": {
     "duration": 0.168955,
     "end_time": "2020-09-04T23:17:09.017071",
     "exception": false,
     "start_time": "2020-09-04T23:17:08.848116",
     "status": "completed"
    },
    "tags": []
   },
   "outputs": [
    {
     "data": {
      "text/html": [
       "<div>\n",
       "<style scoped>\n",
       "    .dataframe tbody tr th:only-of-type {\n",
       "        vertical-align: middle;\n",
       "    }\n",
       "\n",
       "    .dataframe tbody tr th {\n",
       "        vertical-align: top;\n",
       "    }\n",
       "\n",
       "    .dataframe thead th {\n",
       "        text-align: right;\n",
       "    }\n",
       "</style>\n",
       "<table border=\"1\" class=\"dataframe\">\n",
       "  <thead>\n",
       "    <tr style=\"text-align: right;\">\n",
       "      <th></th>\n",
       "      <th>extraction_date_with_hour</th>\n",
       "      <th>new_tek_count</th>\n",
       "    </tr>\n",
       "  </thead>\n",
       "  <tbody>\n",
       "    <tr>\n",
       "      <th>19</th>\n",
       "      <td>2020-09-04@19</td>\n",
       "      <td>0.0</td>\n",
       "    </tr>\n",
       "    <tr>\n",
       "      <th>20</th>\n",
       "      <td>2020-09-04@20</td>\n",
       "      <td>5.0</td>\n",
       "    </tr>\n",
       "    <tr>\n",
       "      <th>21</th>\n",
       "      <td>2020-09-04@21</td>\n",
       "      <td>0.0</td>\n",
       "    </tr>\n",
       "    <tr>\n",
       "      <th>22</th>\n",
       "      <td>2020-09-04@22</td>\n",
       "      <td>5.0</td>\n",
       "    </tr>\n",
       "    <tr>\n",
       "      <th>23</th>\n",
       "      <td>2020-09-04@23</td>\n",
       "      <td>0.0</td>\n",
       "    </tr>\n",
       "  </tbody>\n",
       "</table>\n",
       "</div>"
      ],
      "text/plain": [
       "   extraction_date_with_hour  new_tek_count\n",
       "19             2020-09-04@19            0.0\n",
       "20             2020-09-04@20            5.0\n",
       "21             2020-09-04@21            0.0\n",
       "22             2020-09-04@22            5.0\n",
       "23             2020-09-04@23            0.0"
      ]
     },
     "execution_count": 17,
     "metadata": {},
     "output_type": "execute_result"
    }
   ],
   "source": [
    "hourly_extracted_teks_df = load_extracted_teks(mode=\"Hourly\", limit=24)\n",
    "hourly_extracted_teks_df.head()\n",
    "\n",
    "hourly_tek_list_df = hourly_extracted_teks_df.groupby(\"extraction_date_with_hour\").tek_list.apply(\n",
    "    lambda x: set(sum(x, []))).reset_index()\n",
    "hourly_tek_list_df = hourly_tek_list_df.set_index(\"extraction_date_with_hour\").sort_index(ascending=True)\n",
    "\n",
    "hourly_new_tek_df = hourly_tek_list_df.diff().tek_list.apply(\n",
    "    lambda x: len(x) if not pd.isna(x) else None).to_frame().reset_index()\n",
    "hourly_new_tek_df.rename(columns={\n",
    "    \"tek_list\": \"new_tek_count\"}, inplace=True)\n",
    "hourly_new_tek_df.tail()"
   ]
  },
  {
   "cell_type": "code",
   "execution_count": 18,
   "metadata": {
    "execution": {
     "iopub.execute_input": "2020-09-04T23:17:09.093236Z",
     "iopub.status.busy": "2020-09-04T23:17:09.092609Z",
     "iopub.status.idle": "2020-09-04T23:17:09.109078Z",
     "shell.execute_reply": "2020-09-04T23:17:09.109625Z"
    },
    "papermill": {
     "duration": 0.061691,
     "end_time": "2020-09-04T23:17:09.109789",
     "exception": false,
     "start_time": "2020-09-04T23:17:09.048098",
     "status": "completed"
    },
    "pycharm": {
     "name": "#%%\n"
    },
    "tags": []
   },
   "outputs": [
    {
     "data": {
      "text/html": [
       "<div>\n",
       "<style scoped>\n",
       "    .dataframe tbody tr th:only-of-type {\n",
       "        vertical-align: middle;\n",
       "    }\n",
       "\n",
       "    .dataframe tbody tr th {\n",
       "        vertical-align: top;\n",
       "    }\n",
       "\n",
       "    .dataframe thead th {\n",
       "        text-align: right;\n",
       "    }\n",
       "</style>\n",
       "<table border=\"1\" class=\"dataframe\">\n",
       "  <thead>\n",
       "    <tr style=\"text-align: right;\">\n",
       "      <th></th>\n",
       "      <th>extraction_date_with_hour</th>\n",
       "      <th>new_tek_devices</th>\n",
       "    </tr>\n",
       "  </thead>\n",
       "  <tbody>\n",
       "    <tr>\n",
       "      <th>17</th>\n",
       "      <td>2020-09-04@19</td>\n",
       "      <td>0.0</td>\n",
       "    </tr>\n",
       "    <tr>\n",
       "      <th>18</th>\n",
       "      <td>2020-09-04@20</td>\n",
       "      <td>1.0</td>\n",
       "    </tr>\n",
       "    <tr>\n",
       "      <th>19</th>\n",
       "      <td>2020-09-04@21</td>\n",
       "      <td>0.0</td>\n",
       "    </tr>\n",
       "    <tr>\n",
       "      <th>20</th>\n",
       "      <td>2020-09-04@22</td>\n",
       "      <td>1.0</td>\n",
       "    </tr>\n",
       "    <tr>\n",
       "      <th>21</th>\n",
       "      <td>2020-09-04@23</td>\n",
       "      <td>0.0</td>\n",
       "    </tr>\n",
       "  </tbody>\n",
       "</table>\n",
       "</div>"
      ],
      "text/plain": [
       "   extraction_date_with_hour  new_tek_devices\n",
       "17             2020-09-04@19              0.0\n",
       "18             2020-09-04@20              1.0\n",
       "19             2020-09-04@21              0.0\n",
       "20             2020-09-04@22              1.0\n",
       "21             2020-09-04@23              0.0"
      ]
     },
     "execution_count": 18,
     "metadata": {},
     "output_type": "execute_result"
    }
   ],
   "source": [
    "hourly_new_tek_devices_df = hourly_extracted_teks_df.copy()\n",
    "hourly_new_tek_devices_df[\"new_sample_extraction_date\"] = \\\n",
    "    pd.to_datetime(hourly_new_tek_devices_df.sample_date) + datetime.timedelta(1)\n",
    "hourly_new_tek_devices_df[\"extraction_date\"] = pd.to_datetime(hourly_new_tek_devices_df.extraction_date)\n",
    "\n",
    "hourly_new_tek_devices_df = hourly_new_tek_devices_df[\n",
    "    hourly_new_tek_devices_df.new_sample_extraction_date == hourly_new_tek_devices_df.extraction_date]\n",
    "\n",
    "hourly_new_tek_devices_df.set_index(\"extraction_date_with_hour\", inplace=True)\n",
    "hourly_new_tek_devices_df_ = pd.DataFrame()\n",
    "\n",
    "for i, chunk_df in hourly_new_tek_devices_df.groupby(\"extraction_date\"):\n",
    "    chunk_df = chunk_df.copy()\n",
    "    chunk_df.sort_index(inplace=True)\n",
    "    chunk_tek_count_df = chunk_df.tek_list.apply(lambda x: len(set(x)))\n",
    "    chunk_df = chunk_tek_count_df.diff().fillna(chunk_tek_count_df).to_frame()\n",
    "    hourly_new_tek_devices_df_ = hourly_new_tek_devices_df_.append(chunk_df)\n",
    "    \n",
    "hourly_new_tek_devices_df = hourly_new_tek_devices_df_\n",
    "hourly_new_tek_devices_df.reset_index(inplace=True)\n",
    "hourly_new_tek_devices_df.rename(columns={\n",
    "    \"tek_list\": \"new_tek_devices\"}, inplace=True)\n",
    "hourly_new_tek_devices_df.tail()"
   ]
  },
  {
   "cell_type": "code",
   "execution_count": 19,
   "metadata": {
    "execution": {
     "iopub.execute_input": "2020-09-04T23:17:09.183382Z",
     "iopub.status.busy": "2020-09-04T23:17:09.182756Z",
     "iopub.status.idle": "2020-09-04T23:17:09.192123Z",
     "shell.execute_reply": "2020-09-04T23:17:09.191589Z"
    },
    "papermill": {
     "duration": 0.050954,
     "end_time": "2020-09-04T23:17:09.192255",
     "exception": false,
     "start_time": "2020-09-04T23:17:09.141301",
     "status": "completed"
    },
    "tags": []
   },
   "outputs": [
    {
     "data": {
      "text/html": [
       "<div>\n",
       "<style scoped>\n",
       "    .dataframe tbody tr th:only-of-type {\n",
       "        vertical-align: middle;\n",
       "    }\n",
       "\n",
       "    .dataframe tbody tr th {\n",
       "        vertical-align: top;\n",
       "    }\n",
       "\n",
       "    .dataframe thead th {\n",
       "        text-align: right;\n",
       "    }\n",
       "</style>\n",
       "<table border=\"1\" class=\"dataframe\">\n",
       "  <thead>\n",
       "    <tr style=\"text-align: right;\">\n",
       "      <th></th>\n",
       "      <th>extraction_date_with_hour</th>\n",
       "      <th>new_tek_count</th>\n",
       "      <th>new_tek_devices</th>\n",
       "    </tr>\n",
       "    <tr>\n",
       "      <th>datetime_utc</th>\n",
       "      <th></th>\n",
       "      <th></th>\n",
       "      <th></th>\n",
       "    </tr>\n",
       "  </thead>\n",
       "  <tbody>\n",
       "    <tr>\n",
       "      <th>2020-09-04 19:00:00</th>\n",
       "      <td>2020-09-04@19</td>\n",
       "      <td>0.0</td>\n",
       "      <td>0.0</td>\n",
       "    </tr>\n",
       "    <tr>\n",
       "      <th>2020-09-04 20:00:00</th>\n",
       "      <td>2020-09-04@20</td>\n",
       "      <td>5.0</td>\n",
       "      <td>1.0</td>\n",
       "    </tr>\n",
       "    <tr>\n",
       "      <th>2020-09-04 21:00:00</th>\n",
       "      <td>2020-09-04@21</td>\n",
       "      <td>0.0</td>\n",
       "      <td>0.0</td>\n",
       "    </tr>\n",
       "    <tr>\n",
       "      <th>2020-09-04 22:00:00</th>\n",
       "      <td>2020-09-04@22</td>\n",
       "      <td>5.0</td>\n",
       "      <td>1.0</td>\n",
       "    </tr>\n",
       "    <tr>\n",
       "      <th>2020-09-04 23:00:00</th>\n",
       "      <td>2020-09-04@23</td>\n",
       "      <td>0.0</td>\n",
       "      <td>0.0</td>\n",
       "    </tr>\n",
       "  </tbody>\n",
       "</table>\n",
       "</div>"
      ],
      "text/plain": [
       "                    extraction_date_with_hour  new_tek_count  new_tek_devices\n",
       "datetime_utc                                                                 \n",
       "2020-09-04 19:00:00             2020-09-04@19            0.0              0.0\n",
       "2020-09-04 20:00:00             2020-09-04@20            5.0              1.0\n",
       "2020-09-04 21:00:00             2020-09-04@21            0.0              0.0\n",
       "2020-09-04 22:00:00             2020-09-04@22            5.0              1.0\n",
       "2020-09-04 23:00:00             2020-09-04@23            0.0              0.0"
      ]
     },
     "execution_count": 19,
     "metadata": {},
     "output_type": "execute_result"
    }
   ],
   "source": [
    "hourly_summary_df = hourly_new_tek_df.merge(\n",
    "    hourly_new_tek_devices_df, on=[\"extraction_date_with_hour\"], how=\"outer\")\n",
    "hourly_summary_df[\"datetime_utc\"] = pd.to_datetime(\n",
    "    hourly_summary_df.extraction_date_with_hour, format=\"%Y-%m-%d@%H\")\n",
    "hourly_summary_df.set_index(\"datetime_utc\", inplace=True)\n",
    "hourly_summary_df.tail()"
   ]
  },
  {
   "cell_type": "markdown",
   "metadata": {
    "execution": {
     "iopub.execute_input": "2020-08-30T22:30:16.982353Z",
     "iopub.status.busy": "2020-08-30T22:30:16.981676Z",
     "iopub.status.idle": "2020-08-30T22:30:16.984837Z",
     "shell.execute_reply": "2020-08-30T22:30:16.985366Z"
    },
    "papermill": {
     "duration": 0.031903,
     "end_time": "2020-09-04T23:17:09.257150",
     "exception": false,
     "start_time": "2020-09-04T23:17:09.225247",
     "status": "completed"
    },
    "pycharm": {
     "name": "#%% md\n"
    },
    "tags": []
   },
   "source": [
    "### Data Merge"
   ]
  },
  {
   "cell_type": "code",
   "execution_count": 20,
   "metadata": {
    "execution": {
     "iopub.execute_input": "2020-09-04T23:17:09.334745Z",
     "iopub.status.busy": "2020-09-04T23:17:09.334116Z",
     "iopub.status.idle": "2020-09-04T23:17:09.337290Z",
     "shell.execute_reply": "2020-09-04T23:17:09.337870Z"
    },
    "papermill": {
     "duration": 0.048198,
     "end_time": "2020-09-04T23:17:09.338035",
     "exception": false,
     "start_time": "2020-09-04T23:17:09.289837",
     "status": "completed"
    },
    "pycharm": {
     "name": "#%%\n"
    },
    "tags": []
   },
   "outputs": [
    {
     "data": {
      "text/html": [
       "<div>\n",
       "<style scoped>\n",
       "    .dataframe tbody tr th:only-of-type {\n",
       "        vertical-align: middle;\n",
       "    }\n",
       "\n",
       "    .dataframe tbody tr th {\n",
       "        vertical-align: top;\n",
       "    }\n",
       "\n",
       "    .dataframe thead th {\n",
       "        text-align: right;\n",
       "    }\n",
       "</style>\n",
       "<table border=\"1\" class=\"dataframe\">\n",
       "  <thead>\n",
       "    <tr style=\"text-align: right;\">\n",
       "      <th></th>\n",
       "      <th>sample_date_string</th>\n",
       "      <th>tek_count</th>\n",
       "      <th>new_tek_count</th>\n",
       "    </tr>\n",
       "  </thead>\n",
       "  <tbody>\n",
       "    <tr>\n",
       "      <th>0</th>\n",
       "      <td>2020-09-03</td>\n",
       "      <td>20.0</td>\n",
       "      <td>49.0</td>\n",
       "    </tr>\n",
       "    <tr>\n",
       "      <th>1</th>\n",
       "      <td>2020-09-02</td>\n",
       "      <td>30.0</td>\n",
       "      <td>57.0</td>\n",
       "    </tr>\n",
       "    <tr>\n",
       "      <th>2</th>\n",
       "      <td>2020-09-01</td>\n",
       "      <td>33.0</td>\n",
       "      <td>39.0</td>\n",
       "    </tr>\n",
       "    <tr>\n",
       "      <th>3</th>\n",
       "      <td>2020-08-31</td>\n",
       "      <td>42.0</td>\n",
       "      <td>63.0</td>\n",
       "    </tr>\n",
       "    <tr>\n",
       "      <th>4</th>\n",
       "      <td>2020-08-30</td>\n",
       "      <td>59.0</td>\n",
       "      <td>29.0</td>\n",
       "    </tr>\n",
       "  </tbody>\n",
       "</table>\n",
       "</div>"
      ],
      "text/plain": [
       "  sample_date_string  tek_count  new_tek_count\n",
       "0         2020-09-03       20.0           49.0\n",
       "1         2020-09-02       30.0           57.0\n",
       "2         2020-09-01       33.0           39.0\n",
       "3         2020-08-31       42.0           63.0\n",
       "4         2020-08-30       59.0           29.0"
      ]
     },
     "execution_count": 20,
     "metadata": {},
     "output_type": "execute_result"
    }
   ],
   "source": [
    "result_summary_df = exposure_keys_summary_df.merge(new_tek_df, on=[\"sample_date_string\"], how=\"outer\")\n",
    "result_summary_df.head()"
   ]
  },
  {
   "cell_type": "code",
   "execution_count": 21,
   "metadata": {
    "execution": {
     "iopub.execute_input": "2020-09-04T23:17:09.418312Z",
     "iopub.status.busy": "2020-09-04T23:17:09.417689Z",
     "iopub.status.idle": "2020-09-04T23:17:09.420858Z",
     "shell.execute_reply": "2020-09-04T23:17:09.420236Z"
    },
    "papermill": {
     "duration": 0.050074,
     "end_time": "2020-09-04T23:17:09.420996",
     "exception": false,
     "start_time": "2020-09-04T23:17:09.370922",
     "status": "completed"
    },
    "tags": []
   },
   "outputs": [
    {
     "data": {
      "text/html": [
       "<div>\n",
       "<style scoped>\n",
       "    .dataframe tbody tr th:only-of-type {\n",
       "        vertical-align: middle;\n",
       "    }\n",
       "\n",
       "    .dataframe tbody tr th {\n",
       "        vertical-align: top;\n",
       "    }\n",
       "\n",
       "    .dataframe thead th {\n",
       "        text-align: right;\n",
       "    }\n",
       "</style>\n",
       "<table border=\"1\" class=\"dataframe\">\n",
       "  <thead>\n",
       "    <tr style=\"text-align: right;\">\n",
       "      <th></th>\n",
       "      <th>sample_date_string</th>\n",
       "      <th>tek_count</th>\n",
       "      <th>new_tek_count</th>\n",
       "      <th>new_tek_devices</th>\n",
       "    </tr>\n",
       "  </thead>\n",
       "  <tbody>\n",
       "    <tr>\n",
       "      <th>0</th>\n",
       "      <td>2020-09-03</td>\n",
       "      <td>20.0</td>\n",
       "      <td>49.0</td>\n",
       "      <td>19.0</td>\n",
       "    </tr>\n",
       "    <tr>\n",
       "      <th>1</th>\n",
       "      <td>2020-09-02</td>\n",
       "      <td>30.0</td>\n",
       "      <td>57.0</td>\n",
       "      <td>14.0</td>\n",
       "    </tr>\n",
       "    <tr>\n",
       "      <th>2</th>\n",
       "      <td>2020-09-01</td>\n",
       "      <td>33.0</td>\n",
       "      <td>39.0</td>\n",
       "      <td>14.0</td>\n",
       "    </tr>\n",
       "    <tr>\n",
       "      <th>3</th>\n",
       "      <td>2020-08-31</td>\n",
       "      <td>42.0</td>\n",
       "      <td>63.0</td>\n",
       "      <td>25.0</td>\n",
       "    </tr>\n",
       "    <tr>\n",
       "      <th>4</th>\n",
       "      <td>2020-08-30</td>\n",
       "      <td>59.0</td>\n",
       "      <td>29.0</td>\n",
       "      <td>16.0</td>\n",
       "    </tr>\n",
       "  </tbody>\n",
       "</table>\n",
       "</div>"
      ],
      "text/plain": [
       "  sample_date_string  tek_count  new_tek_count  new_tek_devices\n",
       "0         2020-09-03       20.0           49.0             19.0\n",
       "1         2020-09-02       30.0           57.0             14.0\n",
       "2         2020-09-01       33.0           39.0             14.0\n",
       "3         2020-08-31       42.0           63.0             25.0\n",
       "4         2020-08-30       59.0           29.0             16.0"
      ]
     },
     "execution_count": 21,
     "metadata": {},
     "output_type": "execute_result"
    }
   ],
   "source": [
    "result_summary_df = result_summary_df.merge(new_tek_devices_df, on=[\"sample_date_string\"], how=\"outer\")\n",
    "result_summary_df.head()"
   ]
  },
  {
   "cell_type": "code",
   "execution_count": 22,
   "metadata": {
    "execution": {
     "iopub.execute_input": "2020-09-04T23:17:09.491190Z",
     "iopub.status.busy": "2020-09-04T23:17:09.490582Z",
     "iopub.status.idle": "2020-09-04T23:17:09.504999Z",
     "shell.execute_reply": "2020-09-04T23:17:09.504408Z"
    },
    "papermill": {
     "duration": 0.051336,
     "end_time": "2020-09-04T23:17:09.505134",
     "exception": false,
     "start_time": "2020-09-04T23:17:09.453798",
     "status": "completed"
    },
    "pycharm": {
     "name": "#%%\n"
    },
    "tags": []
   },
   "outputs": [
    {
     "data": {
      "text/html": [
       "<div>\n",
       "<style scoped>\n",
       "    .dataframe tbody tr th:only-of-type {\n",
       "        vertical-align: middle;\n",
       "    }\n",
       "\n",
       "    .dataframe tbody tr th {\n",
       "        vertical-align: top;\n",
       "    }\n",
       "\n",
       "    .dataframe thead th {\n",
       "        text-align: right;\n",
       "    }\n",
       "</style>\n",
       "<table border=\"1\" class=\"dataframe\">\n",
       "  <thead>\n",
       "    <tr style=\"text-align: right;\">\n",
       "      <th></th>\n",
       "      <th>sample_date_string</th>\n",
       "      <th>tek_count</th>\n",
       "      <th>new_tek_count</th>\n",
       "      <th>new_tek_devices</th>\n",
       "      <th>cumulative_cases</th>\n",
       "      <th>new_cases</th>\n",
       "      <th>rolling_mean_new_cases</th>\n",
       "    </tr>\n",
       "  </thead>\n",
       "  <tbody>\n",
       "    <tr>\n",
       "      <th>0</th>\n",
       "      <td>2020-09-03</td>\n",
       "      <td>20.0</td>\n",
       "      <td>49.0</td>\n",
       "      <td>19.0</td>\n",
       "      <td>977026.0</td>\n",
       "      <td>17918.0</td>\n",
       "      <td>16858.857143</td>\n",
       "    </tr>\n",
       "    <tr>\n",
       "      <th>1</th>\n",
       "      <td>2020-09-02</td>\n",
       "      <td>30.0</td>\n",
       "      <td>57.0</td>\n",
       "      <td>14.0</td>\n",
       "      <td>959108.0</td>\n",
       "      <td>17162.0</td>\n",
       "      <td>17058.571429</td>\n",
       "    </tr>\n",
       "    <tr>\n",
       "      <th>2</th>\n",
       "      <td>2020-09-01</td>\n",
       "      <td>33.0</td>\n",
       "      <td>39.0</td>\n",
       "      <td>14.0</td>\n",
       "      <td>941946.0</td>\n",
       "      <td>16230.0</td>\n",
       "      <td>16691.428571</td>\n",
       "    </tr>\n",
       "    <tr>\n",
       "      <th>3</th>\n",
       "      <td>2020-08-31</td>\n",
       "      <td>42.0</td>\n",
       "      <td>63.0</td>\n",
       "      <td>25.0</td>\n",
       "      <td>925716.0</td>\n",
       "      <td>47144.0</td>\n",
       "      <td>16406.285714</td>\n",
       "    </tr>\n",
       "    <tr>\n",
       "      <th>4</th>\n",
       "      <td>2020-08-30</td>\n",
       "      <td>59.0</td>\n",
       "      <td>29.0</td>\n",
       "      <td>16.0</td>\n",
       "      <td>878572.0</td>\n",
       "      <td>0.0</td>\n",
       "      <td>15209.142857</td>\n",
       "    </tr>\n",
       "  </tbody>\n",
       "</table>\n",
       "</div>"
      ],
      "text/plain": [
       "  sample_date_string  tek_count  new_tek_count  new_tek_devices  \\\n",
       "0         2020-09-03       20.0           49.0             19.0   \n",
       "1         2020-09-02       30.0           57.0             14.0   \n",
       "2         2020-09-01       33.0           39.0             14.0   \n",
       "3         2020-08-31       42.0           63.0             25.0   \n",
       "4         2020-08-30       59.0           29.0             16.0   \n",
       "\n",
       "   cumulative_cases  new_cases  rolling_mean_new_cases  \n",
       "0          977026.0    17918.0            16858.857143  \n",
       "1          959108.0    17162.0            17058.571429  \n",
       "2          941946.0    16230.0            16691.428571  \n",
       "3          925716.0    47144.0            16406.285714  \n",
       "4          878572.0        0.0            15209.142857  "
      ]
     },
     "execution_count": 22,
     "metadata": {},
     "output_type": "execute_result"
    }
   ],
   "source": [
    "result_summary_df = result_summary_df.merge(confirmed_df, on=[\"sample_date_string\"], how=\"left\")\n",
    "result_summary_df.head()"
   ]
  },
  {
   "cell_type": "code",
   "execution_count": 23,
   "metadata": {
    "execution": {
     "iopub.execute_input": "2020-09-04T23:17:09.576137Z",
     "iopub.status.busy": "2020-09-04T23:17:09.575524Z",
     "iopub.status.idle": "2020-09-04T23:17:09.595802Z",
     "shell.execute_reply": "2020-09-04T23:17:09.595284Z"
    },
    "papermill": {
     "duration": 0.057917,
     "end_time": "2020-09-04T23:17:09.595931",
     "exception": false,
     "start_time": "2020-09-04T23:17:09.538014",
     "status": "completed"
    },
    "pycharm": {
     "name": "#%%\n"
    },
    "tags": []
   },
   "outputs": [
    {
     "data": {
      "text/html": [
       "<div>\n",
       "<style scoped>\n",
       "    .dataframe tbody tr th:only-of-type {\n",
       "        vertical-align: middle;\n",
       "    }\n",
       "\n",
       "    .dataframe tbody tr th {\n",
       "        vertical-align: top;\n",
       "    }\n",
       "\n",
       "    .dataframe thead th {\n",
       "        text-align: right;\n",
       "    }\n",
       "</style>\n",
       "<table border=\"1\" class=\"dataframe\">\n",
       "  <thead>\n",
       "    <tr style=\"text-align: right;\">\n",
       "      <th></th>\n",
       "      <th>sample_date_string</th>\n",
       "      <th>tek_count</th>\n",
       "      <th>new_tek_count</th>\n",
       "      <th>new_tek_devices</th>\n",
       "      <th>cumulative_cases</th>\n",
       "      <th>new_cases</th>\n",
       "      <th>rolling_mean_new_cases</th>\n",
       "      <th>tek_count_per_new_case</th>\n",
       "      <th>new_tek_count_per_new_case</th>\n",
       "      <th>new_tek_devices_per_new_case</th>\n",
       "      <th>new_tek_count_per_new_tek_device</th>\n",
       "    </tr>\n",
       "  </thead>\n",
       "  <tbody>\n",
       "    <tr>\n",
       "      <th>0</th>\n",
       "      <td>2020-09-03</td>\n",
       "      <td>20.0</td>\n",
       "      <td>49.0</td>\n",
       "      <td>19.0</td>\n",
       "      <td>977026.0</td>\n",
       "      <td>17918.0</td>\n",
       "      <td>16858.857143</td>\n",
       "      <td>0.001186</td>\n",
       "      <td>0.002906</td>\n",
       "      <td>0.001127</td>\n",
       "      <td>2.578947</td>\n",
       "    </tr>\n",
       "    <tr>\n",
       "      <th>1</th>\n",
       "      <td>2020-09-02</td>\n",
       "      <td>30.0</td>\n",
       "      <td>57.0</td>\n",
       "      <td>14.0</td>\n",
       "      <td>959108.0</td>\n",
       "      <td>17162.0</td>\n",
       "      <td>17058.571429</td>\n",
       "      <td>0.001759</td>\n",
       "      <td>0.003341</td>\n",
       "      <td>0.000821</td>\n",
       "      <td>4.071429</td>\n",
       "    </tr>\n",
       "    <tr>\n",
       "      <th>2</th>\n",
       "      <td>2020-09-01</td>\n",
       "      <td>33.0</td>\n",
       "      <td>39.0</td>\n",
       "      <td>14.0</td>\n",
       "      <td>941946.0</td>\n",
       "      <td>16230.0</td>\n",
       "      <td>16691.428571</td>\n",
       "      <td>0.001977</td>\n",
       "      <td>0.002337</td>\n",
       "      <td>0.000839</td>\n",
       "      <td>2.785714</td>\n",
       "    </tr>\n",
       "    <tr>\n",
       "      <th>3</th>\n",
       "      <td>2020-08-31</td>\n",
       "      <td>42.0</td>\n",
       "      <td>63.0</td>\n",
       "      <td>25.0</td>\n",
       "      <td>925716.0</td>\n",
       "      <td>47144.0</td>\n",
       "      <td>16406.285714</td>\n",
       "      <td>0.002560</td>\n",
       "      <td>0.003840</td>\n",
       "      <td>0.001524</td>\n",
       "      <td>2.520000</td>\n",
       "    </tr>\n",
       "    <tr>\n",
       "      <th>4</th>\n",
       "      <td>2020-08-30</td>\n",
       "      <td>59.0</td>\n",
       "      <td>29.0</td>\n",
       "      <td>16.0</td>\n",
       "      <td>878572.0</td>\n",
       "      <td>0.0</td>\n",
       "      <td>15209.142857</td>\n",
       "      <td>0.003879</td>\n",
       "      <td>0.001907</td>\n",
       "      <td>0.001052</td>\n",
       "      <td>1.812500</td>\n",
       "    </tr>\n",
       "  </tbody>\n",
       "</table>\n",
       "</div>"
      ],
      "text/plain": [
       "  sample_date_string  tek_count  new_tek_count  new_tek_devices  \\\n",
       "0         2020-09-03       20.0           49.0             19.0   \n",
       "1         2020-09-02       30.0           57.0             14.0   \n",
       "2         2020-09-01       33.0           39.0             14.0   \n",
       "3         2020-08-31       42.0           63.0             25.0   \n",
       "4         2020-08-30       59.0           29.0             16.0   \n",
       "\n",
       "   cumulative_cases  new_cases  rolling_mean_new_cases  \\\n",
       "0          977026.0    17918.0            16858.857143   \n",
       "1          959108.0    17162.0            17058.571429   \n",
       "2          941946.0    16230.0            16691.428571   \n",
       "3          925716.0    47144.0            16406.285714   \n",
       "4          878572.0        0.0            15209.142857   \n",
       "\n",
       "   tek_count_per_new_case  new_tek_count_per_new_case  \\\n",
       "0                0.001186                    0.002906   \n",
       "1                0.001759                    0.003341   \n",
       "2                0.001977                    0.002337   \n",
       "3                0.002560                    0.003840   \n",
       "4                0.003879                    0.001907   \n",
       "\n",
       "   new_tek_devices_per_new_case  new_tek_count_per_new_tek_device  \n",
       "0                      0.001127                          2.578947  \n",
       "1                      0.000821                          4.071429  \n",
       "2                      0.000839                          2.785714  \n",
       "3                      0.001524                          2.520000  \n",
       "4                      0.001052                          1.812500  "
      ]
     },
     "execution_count": 23,
     "metadata": {},
     "output_type": "execute_result"
    }
   ],
   "source": [
    "result_summary_df[\"tek_count_per_new_case\"] = \\\n",
    "    result_summary_df.tek_count / result_summary_df.rolling_mean_new_cases\n",
    "result_summary_df[\"new_tek_count_per_new_case\"] = \\\n",
    "    result_summary_df.new_tek_count / result_summary_df.rolling_mean_new_cases\n",
    "result_summary_df[\"new_tek_devices_per_new_case\"] = \\\n",
    "    result_summary_df.new_tek_devices / result_summary_df.rolling_mean_new_cases\n",
    "result_summary_df[\"new_tek_count_per_new_tek_device\"] = \\\n",
    "    result_summary_df.new_tek_count / result_summary_df.new_tek_devices\n",
    "result_summary_df.head()"
   ]
  },
  {
   "cell_type": "code",
   "execution_count": 24,
   "metadata": {
    "execution": {
     "iopub.execute_input": "2020-09-04T23:17:09.667668Z",
     "iopub.status.busy": "2020-09-04T23:17:09.667066Z",
     "iopub.status.idle": "2020-09-04T23:17:09.670741Z",
     "shell.execute_reply": "2020-09-04T23:17:09.670223Z"
    },
    "papermill": {
     "duration": 0.04206,
     "end_time": "2020-09-04T23:17:09.670867",
     "exception": false,
     "start_time": "2020-09-04T23:17:09.628807",
     "status": "completed"
    },
    "pycharm": {
     "name": "#%%\n"
    },
    "tags": []
   },
   "outputs": [],
   "source": [
    "result_summary_df[\"sample_date\"] = pd.to_datetime(result_summary_df.sample_date_string)\n",
    "result_summary_df.set_index(\"sample_date\", inplace=True)\n",
    "result_summary_df = result_summary_df.sort_index(ascending=False)"
   ]
  },
  {
   "cell_type": "markdown",
   "metadata": {
    "execution": {
     "iopub.execute_input": "2020-08-30T22:30:17.313260Z",
     "iopub.status.busy": "2020-08-30T22:30:17.312584Z",
     "iopub.status.idle": "2020-08-30T22:30:17.317571Z",
     "shell.execute_reply": "2020-08-30T22:30:17.316929Z"
    },
    "papermill": {
     "duration": 0.032466,
     "end_time": "2020-09-04T23:17:09.735875",
     "exception": false,
     "start_time": "2020-09-04T23:17:09.703409",
     "status": "completed"
    },
    "pycharm": {
     "name": "#%% md\n"
    },
    "tags": []
   },
   "source": [
    "## Report Results\n"
   ]
  },
  {
   "cell_type": "markdown",
   "metadata": {
    "papermill": {
     "duration": 0.034728,
     "end_time": "2020-09-04T23:17:09.803464",
     "exception": false,
     "start_time": "2020-09-04T23:17:09.768736",
     "status": "completed"
    },
    "tags": []
   },
   "source": [
    "### Summary Table"
   ]
  },
  {
   "cell_type": "code",
   "execution_count": 25,
   "metadata": {
    "execution": {
     "iopub.execute_input": "2020-09-04T23:17:09.889259Z",
     "iopub.status.busy": "2020-09-04T23:17:09.888626Z",
     "iopub.status.idle": "2020-09-04T23:17:09.891846Z",
     "shell.execute_reply": "2020-09-04T23:17:09.891232Z"
    },
    "papermill": {
     "duration": 0.055785,
     "end_time": "2020-09-04T23:17:09.891975",
     "exception": false,
     "start_time": "2020-09-04T23:17:09.836190",
     "status": "completed"
    },
    "tags": []
   },
   "outputs": [
    {
     "data": {
      "text/html": [
       "<div>\n",
       "<style scoped>\n",
       "    .dataframe tbody tr th:only-of-type {\n",
       "        vertical-align: middle;\n",
       "    }\n",
       "\n",
       "    .dataframe tbody tr th {\n",
       "        vertical-align: top;\n",
       "    }\n",
       "\n",
       "    .dataframe thead th {\n",
       "        text-align: right;\n",
       "    }\n",
       "</style>\n",
       "<table border=\"1\" class=\"dataframe\">\n",
       "  <thead>\n",
       "    <tr style=\"text-align: right;\">\n",
       "      <th></th>\n",
       "      <th>tek_count</th>\n",
       "      <th>new_tek_count</th>\n",
       "      <th>new_cases</th>\n",
       "      <th>rolling_mean_new_cases</th>\n",
       "      <th>tek_count_per_new_case</th>\n",
       "      <th>new_tek_count_per_new_case</th>\n",
       "      <th>new_tek_devices</th>\n",
       "      <th>new_tek_devices_per_new_case</th>\n",
       "      <th>new_tek_count_per_new_tek_device</th>\n",
       "    </tr>\n",
       "    <tr>\n",
       "      <th>sample_date</th>\n",
       "      <th></th>\n",
       "      <th></th>\n",
       "      <th></th>\n",
       "      <th></th>\n",
       "      <th></th>\n",
       "      <th></th>\n",
       "      <th></th>\n",
       "      <th></th>\n",
       "      <th></th>\n",
       "    </tr>\n",
       "  </thead>\n",
       "  <tbody>\n",
       "    <tr>\n",
       "      <th>2020-09-04</th>\n",
       "      <td>NaN</td>\n",
       "      <td>58.0</td>\n",
       "      <td>20952.0</td>\n",
       "      <td>17058.000000</td>\n",
       "      <td>NaN</td>\n",
       "      <td>0.003400</td>\n",
       "      <td>20.0</td>\n",
       "      <td>0.001172</td>\n",
       "      <td>2.900000</td>\n",
       "    </tr>\n",
       "    <tr>\n",
       "      <th>2020-09-03</th>\n",
       "      <td>20.0</td>\n",
       "      <td>49.0</td>\n",
       "      <td>17918.0</td>\n",
       "      <td>16858.857143</td>\n",
       "      <td>0.001186</td>\n",
       "      <td>0.002906</td>\n",
       "      <td>19.0</td>\n",
       "      <td>0.001127</td>\n",
       "      <td>2.578947</td>\n",
       "    </tr>\n",
       "    <tr>\n",
       "      <th>2020-09-02</th>\n",
       "      <td>30.0</td>\n",
       "      <td>57.0</td>\n",
       "      <td>17162.0</td>\n",
       "      <td>17058.571429</td>\n",
       "      <td>0.001759</td>\n",
       "      <td>0.003341</td>\n",
       "      <td>14.0</td>\n",
       "      <td>0.000821</td>\n",
       "      <td>4.071429</td>\n",
       "    </tr>\n",
       "    <tr>\n",
       "      <th>2020-09-01</th>\n",
       "      <td>33.0</td>\n",
       "      <td>39.0</td>\n",
       "      <td>16230.0</td>\n",
       "      <td>16691.428571</td>\n",
       "      <td>0.001977</td>\n",
       "      <td>0.002337</td>\n",
       "      <td>14.0</td>\n",
       "      <td>0.000839</td>\n",
       "      <td>2.785714</td>\n",
       "    </tr>\n",
       "    <tr>\n",
       "      <th>2020-08-31</th>\n",
       "      <td>42.0</td>\n",
       "      <td>63.0</td>\n",
       "      <td>47144.0</td>\n",
       "      <td>16406.285714</td>\n",
       "      <td>0.002560</td>\n",
       "      <td>0.003840</td>\n",
       "      <td>25.0</td>\n",
       "      <td>0.001524</td>\n",
       "      <td>2.520000</td>\n",
       "    </tr>\n",
       "    <tr>\n",
       "      <th>2020-08-30</th>\n",
       "      <td>59.0</td>\n",
       "      <td>29.0</td>\n",
       "      <td>0.0</td>\n",
       "      <td>15209.142857</td>\n",
       "      <td>0.003879</td>\n",
       "      <td>0.001907</td>\n",
       "      <td>16.0</td>\n",
       "      <td>0.001052</td>\n",
       "      <td>1.812500</td>\n",
       "    </tr>\n",
       "    <tr>\n",
       "      <th>2020-08-29</th>\n",
       "      <td>49.0</td>\n",
       "      <td>NaN</td>\n",
       "      <td>0.0</td>\n",
       "      <td>15209.142857</td>\n",
       "      <td>0.003222</td>\n",
       "      <td>NaN</td>\n",
       "      <td>27.0</td>\n",
       "      <td>0.001775</td>\n",
       "      <td>NaN</td>\n",
       "    </tr>\n",
       "    <tr>\n",
       "      <th>2020-08-28</th>\n",
       "      <td>59.0</td>\n",
       "      <td>NaN</td>\n",
       "      <td>19558.0</td>\n",
       "      <td>15209.142857</td>\n",
       "      <td>0.003879</td>\n",
       "      <td>NaN</td>\n",
       "      <td>NaN</td>\n",
       "      <td>NaN</td>\n",
       "      <td>NaN</td>\n",
       "    </tr>\n",
       "    <tr>\n",
       "      <th>2020-08-27</th>\n",
       "      <td>72.0</td>\n",
       "      <td>NaN</td>\n",
       "      <td>19316.0</td>\n",
       "      <td>14743.142857</td>\n",
       "      <td>0.004884</td>\n",
       "      <td>NaN</td>\n",
       "      <td>NaN</td>\n",
       "      <td>NaN</td>\n",
       "      <td>NaN</td>\n",
       "    </tr>\n",
       "    <tr>\n",
       "      <th>2020-08-26</th>\n",
       "      <td>75.0</td>\n",
       "      <td>NaN</td>\n",
       "      <td>14592.0</td>\n",
       "      <td>13994.857143</td>\n",
       "      <td>0.005359</td>\n",
       "      <td>NaN</td>\n",
       "      <td>NaN</td>\n",
       "      <td>NaN</td>\n",
       "      <td>NaN</td>\n",
       "    </tr>\n",
       "    <tr>\n",
       "      <th>2020-08-25</th>\n",
       "      <td>58.0</td>\n",
       "      <td>NaN</td>\n",
       "      <td>14234.0</td>\n",
       "      <td>13816.285714</td>\n",
       "      <td>0.004198</td>\n",
       "      <td>NaN</td>\n",
       "      <td>NaN</td>\n",
       "      <td>NaN</td>\n",
       "      <td>NaN</td>\n",
       "    </tr>\n",
       "    <tr>\n",
       "      <th>2020-08-24</th>\n",
       "      <td>48.0</td>\n",
       "      <td>NaN</td>\n",
       "      <td>38764.0</td>\n",
       "      <td>13244.000000</td>\n",
       "      <td>0.003624</td>\n",
       "      <td>NaN</td>\n",
       "      <td>NaN</td>\n",
       "      <td>NaN</td>\n",
       "      <td>NaN</td>\n",
       "    </tr>\n",
       "    <tr>\n",
       "      <th>2020-08-23</th>\n",
       "      <td>28.0</td>\n",
       "      <td>NaN</td>\n",
       "      <td>0.0</td>\n",
       "      <td>12354.571429</td>\n",
       "      <td>0.002266</td>\n",
       "      <td>NaN</td>\n",
       "      <td>NaN</td>\n",
       "      <td>NaN</td>\n",
       "      <td>NaN</td>\n",
       "    </tr>\n",
       "    <tr>\n",
       "      <th>2020-08-22</th>\n",
       "      <td>18.0</td>\n",
       "      <td>NaN</td>\n",
       "      <td>0.0</td>\n",
       "      <td>12354.571429</td>\n",
       "      <td>0.001457</td>\n",
       "      <td>NaN</td>\n",
       "      <td>NaN</td>\n",
       "      <td>NaN</td>\n",
       "      <td>NaN</td>\n",
       "    </tr>\n",
       "  </tbody>\n",
       "</table>\n",
       "</div>"
      ],
      "text/plain": [
       "             tek_count  new_tek_count  new_cases  rolling_mean_new_cases  \\\n",
       "sample_date                                                                \n",
       "2020-09-04         NaN           58.0    20952.0            17058.000000   \n",
       "2020-09-03        20.0           49.0    17918.0            16858.857143   \n",
       "2020-09-02        30.0           57.0    17162.0            17058.571429   \n",
       "2020-09-01        33.0           39.0    16230.0            16691.428571   \n",
       "2020-08-31        42.0           63.0    47144.0            16406.285714   \n",
       "2020-08-30        59.0           29.0        0.0            15209.142857   \n",
       "2020-08-29        49.0            NaN        0.0            15209.142857   \n",
       "2020-08-28        59.0            NaN    19558.0            15209.142857   \n",
       "2020-08-27        72.0            NaN    19316.0            14743.142857   \n",
       "2020-08-26        75.0            NaN    14592.0            13994.857143   \n",
       "2020-08-25        58.0            NaN    14234.0            13816.285714   \n",
       "2020-08-24        48.0            NaN    38764.0            13244.000000   \n",
       "2020-08-23        28.0            NaN        0.0            12354.571429   \n",
       "2020-08-22        18.0            NaN        0.0            12354.571429   \n",
       "\n",
       "             tek_count_per_new_case  new_tek_count_per_new_case  \\\n",
       "sample_date                                                       \n",
       "2020-09-04                      NaN                    0.003400   \n",
       "2020-09-03                 0.001186                    0.002906   \n",
       "2020-09-02                 0.001759                    0.003341   \n",
       "2020-09-01                 0.001977                    0.002337   \n",
       "2020-08-31                 0.002560                    0.003840   \n",
       "2020-08-30                 0.003879                    0.001907   \n",
       "2020-08-29                 0.003222                         NaN   \n",
       "2020-08-28                 0.003879                         NaN   \n",
       "2020-08-27                 0.004884                         NaN   \n",
       "2020-08-26                 0.005359                         NaN   \n",
       "2020-08-25                 0.004198                         NaN   \n",
       "2020-08-24                 0.003624                         NaN   \n",
       "2020-08-23                 0.002266                         NaN   \n",
       "2020-08-22                 0.001457                         NaN   \n",
       "\n",
       "             new_tek_devices  new_tek_devices_per_new_case  \\\n",
       "sample_date                                                  \n",
       "2020-09-04              20.0                      0.001172   \n",
       "2020-09-03              19.0                      0.001127   \n",
       "2020-09-02              14.0                      0.000821   \n",
       "2020-09-01              14.0                      0.000839   \n",
       "2020-08-31              25.0                      0.001524   \n",
       "2020-08-30              16.0                      0.001052   \n",
       "2020-08-29              27.0                      0.001775   \n",
       "2020-08-28               NaN                           NaN   \n",
       "2020-08-27               NaN                           NaN   \n",
       "2020-08-26               NaN                           NaN   \n",
       "2020-08-25               NaN                           NaN   \n",
       "2020-08-24               NaN                           NaN   \n",
       "2020-08-23               NaN                           NaN   \n",
       "2020-08-22               NaN                           NaN   \n",
       "\n",
       "             new_tek_count_per_new_tek_device  \n",
       "sample_date                                    \n",
       "2020-09-04                           2.900000  \n",
       "2020-09-03                           2.578947  \n",
       "2020-09-02                           4.071429  \n",
       "2020-09-01                           2.785714  \n",
       "2020-08-31                           2.520000  \n",
       "2020-08-30                           1.812500  \n",
       "2020-08-29                                NaN  \n",
       "2020-08-28                                NaN  \n",
       "2020-08-27                                NaN  \n",
       "2020-08-26                                NaN  \n",
       "2020-08-25                                NaN  \n",
       "2020-08-24                                NaN  \n",
       "2020-08-23                                NaN  \n",
       "2020-08-22                                NaN  "
      ]
     },
     "execution_count": 25,
     "metadata": {},
     "output_type": "execute_result"
    }
   ],
   "source": [
    "result_summary_df_ = result_summary_df.copy()\n",
    "result_summary_df = result_summary_df[[\n",
    "    \"tek_count\",\n",
    "    \"new_tek_count\",\n",
    "    \"new_cases\",\n",
    "    \"rolling_mean_new_cases\",\n",
    "    \"tek_count_per_new_case\",\n",
    "    \"new_tek_count_per_new_case\",\n",
    "    \"new_tek_devices\",\n",
    "    \"new_tek_devices_per_new_case\",\n",
    "    \"new_tek_count_per_new_tek_device\"]]\n",
    "result_summary_df"
   ]
  },
  {
   "cell_type": "markdown",
   "metadata": {
    "papermill": {
     "duration": 0.034099,
     "end_time": "2020-09-04T23:17:09.959985",
     "exception": false,
     "start_time": "2020-09-04T23:17:09.925886",
     "status": "completed"
    },
    "tags": []
   },
   "source": [
    "### Summary Plots"
   ]
  },
  {
   "cell_type": "code",
   "execution_count": 26,
   "metadata": {
    "execution": {
     "iopub.execute_input": "2020-09-04T23:17:10.052421Z",
     "iopub.status.busy": "2020-09-04T23:17:10.051808Z",
     "iopub.status.idle": "2020-09-04T23:17:11.382302Z",
     "shell.execute_reply": "2020-09-04T23:17:11.382824Z"
    },
    "papermill": {
     "duration": 1.388573,
     "end_time": "2020-09-04T23:17:11.383003",
     "exception": false,
     "start_time": "2020-09-04T23:17:09.994430",
     "status": "completed"
    },
    "scrolled": false,
    "tags": []
   },
   "outputs": [
    {
     "data": {
      "image/png": "[encoded data removed]",
      "text/plain": [
       "<Figure size 1080x1584 with 6 Axes>"
      ]
     },
     "metadata": {},
     "output_type": "display_data"
    }
   ],
   "source": [
    "summary_ax_list = result_summary_df[[\n",
    "    \"rolling_mean_new_cases\",\n",
    "    \"tek_count\",\n",
    "    \"new_tek_count\",\n",
    "    \"new_tek_devices\",\n",
    "    \"new_tek_count_per_new_tek_device\",\n",
    "    \"new_tek_devices_per_new_case\"\n",
    "]].sort_index(ascending=True).plot.bar(\n",
    "    title=\"Summary\", rot=45, subplots=True, figsize=(15, 22))\n",
    "summary_ax_list[-1].yaxis.set_major_formatter(matplotlib.ticker.PercentFormatter(1.0))"
   ]
  },
  {
   "cell_type": "markdown",
   "metadata": {
    "papermill": {
     "duration": 0.036183,
     "end_time": "2020-09-04T23:17:11.456622",
     "exception": false,
     "start_time": "2020-09-04T23:17:11.420439",
     "status": "completed"
    },
    "tags": []
   },
   "source": [
    "### Hourly Summary Plots "
   ]
  },
  {
   "cell_type": "code",
   "execution_count": 27,
   "metadata": {
    "execution": {
     "iopub.execute_input": "2020-09-04T23:17:11.552305Z",
     "iopub.status.busy": "2020-09-04T23:17:11.551680Z",
     "iopub.status.idle": "2020-09-04T23:17:12.152988Z",
     "shell.execute_reply": "2020-09-04T23:17:12.153748Z"
    },
    "papermill": {
     "duration": 0.661076,
     "end_time": "2020-09-04T23:17:12.153925",
     "exception": false,
     "start_time": "2020-09-04T23:17:11.492849",
     "status": "completed"
    },
    "pycharm": {
     "name": "#%%\n"
    },
    "tags": []
   },
   "outputs": [
    {
     "data": {
      "image/png": "[encoded data removed]",
      "text/plain": [
       "<Figure size 1080x432 with 2 Axes>"
      ]
     },
     "metadata": {},
     "output_type": "display_data"
    }
   ],
   "source": [
    "hourly_summary_ax_list = hourly_summary_df.plot.bar(\n",
    "    title=\"Last 24h Summary\", rot=45, subplots=True)"
   ]
  },
  {
   "cell_type": "markdown",
   "metadata": {
    "papermill": {
     "duration": 0.037069,
     "end_time": "2020-09-04T23:17:12.228527",
     "exception": false,
     "start_time": "2020-09-04T23:17:12.191458",
     "status": "completed"
    },
    "tags": []
   },
   "source": [
    "### Publish Results"
   ]
  },
  {
   "cell_type": "code",
   "execution_count": 28,
   "metadata": {
    "execution": {
     "iopub.execute_input": "2020-09-04T23:17:12.315057Z",
     "iopub.status.busy": "2020-09-04T23:17:12.314394Z",
     "iopub.status.idle": "2020-09-04T23:17:15.270372Z",
     "shell.execute_reply": "2020-09-04T23:17:15.271134Z"
    },
    "papermill": {
     "duration": 3.006104,
     "end_time": "2020-09-04T23:17:15.271393",
     "exception": false,
     "start_time": "2020-09-04T23:17:12.265289",
     "status": "completed"
    },
    "pycharm": {
     "name": "#%%\n"
    },
    "tags": []
   },
   "outputs": [],
   "source": [
    "def get_temporary_image_path() -> str:\n",
    "    return os.path.join(tempfile.gettempdir(), str(uuid.uuid4()) + \".png\")\n",
    "\n",
    "def save_temporary_plot_image(ax):\n",
    "    if isinstance(ax, np.ndarray):\n",
    "        ax = ax[0]\n",
    "    media_path = get_temporary_image_path()\n",
    "    ax.get_figure().savefig(media_path)\n",
    "    return media_path\n",
    "\n",
    "def save_temporary_dataframe_image(df):\n",
    "    media_path = get_temporary_image_path()\n",
    "    dfi.export(df, media_path)\n",
    "    return media_path\n",
    "\n",
    "summary_plots_image_path = save_temporary_plot_image(ax=summary_ax_list)\n",
    "summary_table_image_path = save_temporary_dataframe_image(df=result_summary_df)\n",
    "hourly_summary_plots_image_path = save_temporary_plot_image(ax=hourly_summary_ax_list)"
   ]
  },
  {
   "cell_type": "markdown",
   "metadata": {
    "papermill": {
     "duration": 0.036591,
     "end_time": "2020-09-04T23:17:15.345645",
     "exception": false,
     "start_time": "2020-09-04T23:17:15.309054",
     "status": "completed"
    },
    "tags": []
   },
   "source": [
    "### Save Results"
   ]
  },
  {
   "cell_type": "code",
   "execution_count": 29,
   "metadata": {
    "execution": {
     "iopub.execute_input": "2020-09-04T23:17:15.427727Z",
     "iopub.status.busy": "2020-09-04T23:17:15.426574Z",
     "iopub.status.idle": "2020-09-04T23:17:15.440269Z",
     "shell.execute_reply": "2020-09-04T23:17:15.439642Z"
    },
    "papermill": {
     "duration": 0.057483,
     "end_time": "2020-09-04T23:17:15.440405",
     "exception": false,
     "start_time": "2020-09-04T23:17:15.382922",
     "status": "completed"
    },
    "pycharm": {
     "name": "#%%\n"
    },
    "tags": []
   },
   "outputs": [],
   "source": [
    "report_resources_path_prefix = \"Data/Resources/Current/RadarCOVID-Report-\"\n",
    "result_summary_df.to_csv(report_resources_path_prefix + \"Summary-Table.csv\")\n",
    "result_summary_df.to_html(report_resources_path_prefix + \"Summary-Table.html\")\n",
    "_ = shutil.copyfile(summary_plots_image_path, report_resources_path_prefix + \"Summary-Plots.png\")\n",
    "_ = shutil.copyfile(summary_table_image_path, report_resources_path_prefix + \"Summary-Table.png\")\n",
    "_ = shutil.copyfile(hourly_summary_plots_image_path, report_resources_path_prefix + \"Hourly-Summary-Plots.png\")\n",
    "\n",
    "report_daily_url_pattern = \\\n",
    "    \"https://github.com/pvieito/RadarCOVID-Report/blob/master/Notebooks/\" \\\n",
    "    \"RadarCOVID-Report/{report_type}/RadarCOVID-Report-{report_date}.ipynb\"\n",
    "report_daily_url = report_daily_url_pattern.format(\n",
    "    report_type=\"Daily\", report_date=extraction_date)\n",
    "report_hourly_url = report_daily_url_pattern.format(\n",
    "    report_type=\"Hourly\", report_date=extraction_date_with_hour)"
   ]
  },
  {
   "cell_type": "markdown",
   "metadata": {
    "papermill": {
     "duration": 0.036401,
     "end_time": "2020-09-04T23:17:15.514306",
     "exception": false,
     "start_time": "2020-09-04T23:17:15.477905",
     "status": "completed"
    },
    "tags": []
   },
   "source": [
    "### Publish on README"
   ]
  },
  {
   "cell_type": "code",
   "execution_count": 30,
   "metadata": {
    "execution": {
     "iopub.execute_input": "2020-09-04T23:17:15.591900Z",
     "iopub.status.busy": "2020-09-04T23:17:15.591294Z",
     "iopub.status.idle": "2020-09-04T23:17:15.601004Z",
     "shell.execute_reply": "2020-09-04T23:17:15.600484Z"
    },
    "papermill": {
     "duration": 0.050224,
     "end_time": "2020-09-04T23:17:15.601134",
     "exception": false,
     "start_time": "2020-09-04T23:17:15.550910",
     "status": "completed"
    },
    "pycharm": {
     "name": "#%%\n"
    },
    "tags": []
   },
   "outputs": [],
   "source": [
    "with open(\"Data/Templates/README.md\", \"r\") as f:\n",
    "    readme_contents = f.read()\n",
    "\n",
    "summary_table_html = result_summary_df.to_html()\n",
    "readme_contents = readme_contents.format(\n",
    "    summary_table_html=summary_table_html,\n",
    "    report_url_with_hour=report_hourly_url,\n",
    "    extraction_date_with_hour=extraction_date_with_hour)\n",
    "\n",
    "with open(\"README.md\", \"w\") as f:\n",
    "    f.write(readme_contents)"
   ]
  },
  {
   "cell_type": "markdown",
   "metadata": {
    "papermill": {
     "duration": 0.036942,
     "end_time": "2020-09-04T23:17:15.675781",
     "exception": false,
     "start_time": "2020-09-04T23:17:15.638839",
     "status": "completed"
    },
    "pycharm": {
     "name": "#%% md\n"
    },
    "tags": []
   },
   "source": [
    "### Publish on Twitter"
   ]
  },
  {
   "cell_type": "code",
   "execution_count": 31,
   "metadata": {
    "execution": {
     "iopub.execute_input": "2020-09-04T23:17:15.751789Z",
     "iopub.status.busy": "2020-09-04T23:17:15.751153Z",
     "iopub.status.idle": "2020-09-04T23:17:17.856077Z",
     "shell.execute_reply": "2020-09-04T23:17:17.856563Z"
    },
    "papermill": {
     "duration": 2.144359,
     "end_time": "2020-09-04T23:17:17.856742",
     "exception": false,
     "start_time": "2020-09-04T23:17:15.712383",
     "status": "completed"
    },
    "pycharm": {
     "name": "#%%\n"
    },
    "tags": []
   },
   "outputs": [],
   "source": [
    "enable_share_to_twitter = os.environ.get(\"RADARCOVID_REPORT__ENABLE_PUBLISH_ON_TWITTER\")\n",
    "github_event_name = os.environ.get(\"GITHUB_EVENT_NAME\")\n",
    "\n",
    "if enable_share_to_twitter and github_event_name == \"schedule\":\n",
    "    import tweepy\n",
    "\n",
    "    twitter_api_auth_keys = os.environ[\"RADARCOVID_REPORT__TWITTER_API_AUTH_KEYS\"]\n",
    "    twitter_api_auth_keys = twitter_api_auth_keys.split(\":\")\n",
    "    auth = tweepy.OAuthHandler(twitter_api_auth_keys[0], twitter_api_auth_keys[1])\n",
    "    auth.set_access_token(twitter_api_auth_keys[2], twitter_api_auth_keys[3])\n",
    "\n",
    "    api = tweepy.API(auth)\n",
    "\n",
    "    summary_plots_media = api.media_upload(summary_plots_image_path)\n",
    "    summary_table_media = api.media_upload(summary_table_image_path)\n",
    "    hourly_summary_plots_media = api.media_upload(hourly_summary_plots_image_path)\n",
    "    media_ids = [\n",
    "        summary_plots_media.media_id,\n",
    "        summary_table_media.media_id,\n",
    "        hourly_summary_plots_media.media_id,\n",
    "    ]\n",
    "\n",
    "    extraction_date_result_summary_df = \\\n",
    "        result_summary_df[result_summary_df.index == extraction_date]\n",
    "    extraction_date_result_hourly_summary_df = \\\n",
    "        hourly_summary_df[hourly_summary_df.extraction_date_with_hour == extraction_date_with_hour]\n",
    "\n",
    "    new_teks = extraction_date_result_summary_df.new_tek_count.sum().astype(int)\n",
    "    new_teks_last_hour = extraction_date_result_hourly_summary_df.new_tek_count.sum().astype(int)\n",
    "    new_devices = extraction_date_result_summary_df.new_tek_devices.sum().astype(int)\n",
    "    new_devices_last_hour = extraction_date_result_hourly_summary_df.new_tek_devices.sum().astype(int)\n",
    "    new_tek_count_per_new_tek_device = \\\n",
    "        extraction_date_result_summary_df.new_tek_count_per_new_tek_device.sum()\n",
    "    new_tek_devices_per_new_case = \\\n",
    "        extraction_date_result_summary_df.new_tek_devices_per_new_case.sum()\n",
    "\n",
    "    status = textwrap.dedent(f\"\"\"\n",
    "        Report Update – {extraction_date_with_hour}\n",
    "        #ExposureNotification #RadarCOVID\n",
    "\n",
    "        Shared Diagnoses Day Summary:\n",
    "        - New TEKs: {new_teks} ({new_teks_last_hour:+d} last hour)\n",
    "        - New Devices: {new_devices} ({new_devices_last_hour:+d} last hour, {new_tek_count_per_new_tek_device:.2} TEKs/device)\n",
    "        - Usage Ratio: {new_tek_devices_per_new_case:.2%} devices/case\n",
    "\n",
    "        Report Link: {report_hourly_url}\n",
    "        \"\"\")\n",
    "    status = status.encode(encoding=\"utf-8\")\n",
    "    api.update_status(status=status, media_ids=media_ids)"
   ]
  }
 ],
 "metadata": {
  "kernelspec": {
   "display_name": "Python 3",
   "language": "python",
   "name": "python3"
  },
  "language_info": {
   "codemirror_mode": {
    "name": "ipython",
    "version": 3
   },
   "file_extension": ".py",
   "mimetype": "text/x-python",
   "name": "python",
   "nbconvert_exporter": "python",
   "pygments_lexer": "ipython3",
   "version": "3.8.5"
  },
  "papermill": {
   "duration": 15.221783,
   "end_time": "2020-09-04T23:17:18.303046",
   "environment_variables": {},
   "exception": null,
   "input_path": "Notebooks/RadarCOVID-Report/Source/RadarCOVID-Report.ipynb",
   "output_path": "RadarCOVID-Report.ipynb",
   "parameters": {},
   "start_time": "2020-09-04T23:17:03.081263",
   "version": "2.1.3"
  }
 },
 "nbformat": 4,
 "nbformat_minor": 1
}