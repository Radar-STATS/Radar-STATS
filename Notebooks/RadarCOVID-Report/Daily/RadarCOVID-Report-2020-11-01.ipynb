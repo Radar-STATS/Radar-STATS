{
 "cells": [
  {
   "cell_type": "markdown",
   "metadata": {
    "papermill": {
     "duration": 0.042669,
     "end_time": "2020-11-01T23:16:18.076011",
     "exception": false,
     "start_time": "2020-11-01T23:16:18.033342",
     "status": "completed"
    },
    "pycharm": {
     "name": "#%% md\n"
    },
    "tags": []
   },
   "source": [
    "# RadarCOVID-Report"
   ]
  },
  {
   "cell_type": "markdown",
   "metadata": {
    "collapsed": true,
    "papermill": {
     "duration": 0.036555,
     "end_time": "2020-11-01T23:16:18.152781",
     "exception": false,
     "start_time": "2020-11-01T23:16:18.116226",
     "status": "completed"
    },
    "pycharm": {
     "name": "#%% md\n"
    },
    "tags": []
   },
   "source": [
    "## Data Extraction"
   ]
  },
  {
   "cell_type": "code",
   "execution_count": 1,
   "metadata": {
    "execution": {
     "iopub.execute_input": "2020-11-01T23:16:18.236860Z",
     "iopub.status.busy": "2020-11-01T23:16:18.236289Z",
     "iopub.status.idle": "2020-11-01T23:16:21.370864Z",
     "shell.execute_reply": "2020-11-01T23:16:21.371302Z"
    },
    "papermill": {
     "duration": 3.181844,
     "end_time": "2020-11-01T23:16:21.371593",
     "exception": false,
     "start_time": "2020-11-01T23:16:18.189749",
     "status": "completed"
    },
    "pycharm": {
     "name": "#%%\n"
    },
    "tags": []
   },
   "outputs": [],
   "source": [
    "import datetime\n",
    "import json\n",
    "import logging\n",
    "import os\n",
    "import shutil\n",
    "import tempfile\n",
    "import textwrap\n",
    "import uuid\n",
    "\n",
    "import matplotlib.pyplot as plt\n",
    "import matplotlib.ticker\n",
    "import numpy as np\n",
    "import pandas as pd\n",
    "import retry\n",
    "import seaborn as sns\n",
    "\n",
    "%matplotlib inline"
   ]
  },
  {
   "cell_type": "code",
   "execution_count": 2,
   "metadata": {
    "collapsed": false,
    "execution": {
     "iopub.execute_input": "2020-11-01T23:16:21.457193Z",
     "iopub.status.busy": "2020-11-01T23:16:21.456609Z",
     "iopub.status.idle": "2020-11-01T23:16:21.458978Z",
     "shell.execute_reply": "2020-11-01T23:16:21.459421Z"
    },
    "papermill": {
     "duration": 0.049949,
     "end_time": "2020-11-01T23:16:21.459581",
     "exception": false,
     "start_time": "2020-11-01T23:16:21.409632",
     "status": "completed"
    },
    "pycharm": {
     "name": "#%%\n"
    },
    "tags": []
   },
   "outputs": [],
   "source": [
    "current_working_directory = os.environ.get(\"PWD\")\n",
    "if current_working_directory:\n",
    "    os.chdir(current_working_directory)\n",
    "\n",
    "sns.set()\n",
    "matplotlib.rcParams[\"figure.figsize\"] = (15, 6)\n",
    "\n",
    "extraction_datetime = datetime.datetime.utcnow()\n",
    "extraction_date = extraction_datetime.strftime(\"%Y-%m-%d\")\n",
    "extraction_previous_datetime = extraction_datetime - datetime.timedelta(days=1)\n",
    "extraction_previous_date = extraction_previous_datetime.strftime(\"%Y-%m-%d\")\n",
    "extraction_date_with_hour = datetime.datetime.utcnow().strftime(\"%Y-%m-%d@%H\")\n",
    "current_hour = datetime.datetime.utcnow().hour\n",
    "are_today_results_partial = current_hour != 23"
   ]
  },
  {
   "cell_type": "markdown",
   "metadata": {
    "collapsed": false,
    "papermill": {
     "duration": 0.037471,
     "end_time": "2020-11-01T23:16:21.535768",
     "exception": false,
     "start_time": "2020-11-01T23:16:21.498297",
     "status": "completed"
    },
    "tags": []
   },
   "source": [
    "### Constants"
   ]
  },
  {
   "cell_type": "code",
   "execution_count": 3,
   "metadata": {
    "execution": {
     "iopub.execute_input": "2020-11-01T23:16:21.620462Z",
     "iopub.status.busy": "2020-11-01T23:16:21.619888Z",
     "iopub.status.idle": "2020-11-01T23:16:21.761784Z",
     "shell.execute_reply": "2020-11-01T23:16:21.761291Z"
    },
    "papermill": {
     "duration": 0.188422,
     "end_time": "2020-11-01T23:16:21.761926",
     "exception": false,
     "start_time": "2020-11-01T23:16:21.573504",
     "status": "completed"
    },
    "pycharm": {
     "name": "#%%\n"
    },
    "tags": []
   },
   "outputs": [],
   "source": [
    "from Modules.ExposureNotification import exposure_notification_io\n",
    "\n",
    "spain_region_country_code = \"ES\"\n",
    "germany_region_country_code = \"DE\"\n",
    "\n",
    "default_backend_identifier = spain_region_country_code\n",
    "\n",
    "backend_generation_days = 7 * 2\n",
    "daily_summary_days = 7 * 4 * 3\n",
    "daily_plot_days = 7 * 4\n",
    "tek_dumps_load_limit = daily_summary_days + 1\n",
    "\n",
    "default_shared_diagnosis_generation_to_upload_days = 1"
   ]
  },
  {
   "cell_type": "markdown",
   "metadata": {
    "collapsed": false,
    "papermill": {
     "duration": 0.038327,
     "end_time": "2020-11-01T23:16:21.838159",
     "exception": false,
     "start_time": "2020-11-01T23:16:21.799832",
     "status": "completed"
    },
    "tags": []
   },
   "source": [
    "### Parameters"
   ]
  },
  {
   "cell_type": "code",
   "execution_count": 4,
   "metadata": {
    "collapsed": false,
    "execution": {
     "iopub.execute_input": "2020-11-01T23:16:21.930720Z",
     "iopub.status.busy": "2020-11-01T23:16:21.930013Z",
     "iopub.status.idle": "2020-11-01T23:16:21.933215Z",
     "shell.execute_reply": "2020-11-01T23:16:21.933642Z"
    },
    "papermill": {
     "duration": 0.053072,
     "end_time": "2020-11-01T23:16:21.933800",
     "exception": false,
     "start_time": "2020-11-01T23:16:21.880728",
     "status": "completed"
    },
    "pycharm": {
     "name": "#%%\n"
    },
    "tags": []
   },
   "outputs": [
    {
     "data": {
      "text/plain": [
       "'ES'"
      ]
     },
     "execution_count": 4,
     "metadata": {},
     "output_type": "execute_result"
    }
   ],
   "source": [
    "environment_backend_identifier = os.environ.get(\"RADARCOVID_REPORT__BACKEND_IDENTIFIER\")\n",
    "if environment_backend_identifier:\n",
    "    report_backend_identifier = environment_backend_identifier\n",
    "else:\n",
    "    report_backend_identifier = default_backend_identifier\n",
    "report_backend_identifier"
   ]
  },
  {
   "cell_type": "code",
   "execution_count": 5,
   "metadata": {
    "collapsed": false,
    "execution": {
     "iopub.execute_input": "2020-11-01T23:16:22.022485Z",
     "iopub.status.busy": "2020-11-01T23:16:22.021896Z",
     "iopub.status.idle": "2020-11-01T23:16:22.982695Z",
     "shell.execute_reply": "2020-11-01T23:16:22.982066Z"
    },
    "papermill": {
     "duration": 1.010305,
     "end_time": "2020-11-01T23:16:22.982846",
     "exception": false,
     "start_time": "2020-11-01T23:16:21.972541",
     "status": "completed"
    },
    "pycharm": {
     "name": "#%%\n"
    },
    "tags": []
   },
   "outputs": [
    {
     "data": {
      "text/plain": [
       "['ES', 'DE', 'IE', 'IT', 'LV']"
      ]
     },
     "execution_count": 5,
     "metadata": {},
     "output_type": "execute_result"
    }
   ],
   "source": [
    "efgs_supported_countries_backend_identifier = germany_region_country_code\n",
    "efgs_supported_countries_backend_client = \\\n",
    "    exposure_notification_io.get_backend_client_with_identifier(\n",
    "        backend_identifier=efgs_supported_countries_backend_identifier)\n",
    "efgs_source_regions = efgs_supported_countries_backend_client.get_supported_countries()\n",
    "\n",
    "environment_source_regions = os.environ.get(\"RADARCOVID_REPORT__EFGS_EXTRA_SOURCE_REGIONS\")\n",
    "if environment_source_regions:\n",
    "    efgs_source_regions = list(set(efgs_source_regions).union(environment_source_regions.split(\",\")))\n",
    "efgs_source_regions = list(map(lambda x: x.upper(), efgs_source_regions))\n",
    "\n",
    "if report_backend_identifier in efgs_source_regions:\n",
    "    default_source_regions = \"EFGS\"\n",
    "else:\n",
    "    default_source_regions = report_backend_identifier.split(\"-\")[0].split(\"@\")[0]\n",
    "\n",
    "environment_source_regions = os.environ.get(\"RADARCOVID_REPORT__SOURCE_REGIONS\")\n",
    "if environment_source_regions:\n",
    "    report_source_regions = environment_source_regions\n",
    "else:\n",
    "    report_source_regions = default_source_regions\n",
    "\n",
    "if report_source_regions == \"EFGS\":\n",
    "    if report_backend_identifier in efgs_source_regions:\n",
    "        efgs_source_regions = \\\n",
    "            [report_backend_identifier] + \\\n",
    "            sorted(list(set(efgs_source_regions).difference([report_backend_identifier])))\n",
    "    report_source_regions = efgs_source_regions\n",
    "else:\n",
    "    report_source_regions = report_source_regions.split(\",\")\n",
    "\n",
    "report_source_regions"
   ]
  },
  {
   "cell_type": "code",
   "execution_count": 6,
   "metadata": {
    "collapsed": false,
    "execution": {
     "iopub.execute_input": "2020-11-01T23:16:23.067587Z",
     "iopub.status.busy": "2020-11-01T23:16:23.067025Z",
     "iopub.status.idle": "2020-11-01T23:16:23.069379Z",
     "shell.execute_reply": "2020-11-01T23:16:23.069812Z"
    },
    "papermill": {
     "duration": 0.048731,
     "end_time": "2020-11-01T23:16:23.069970",
     "exception": false,
     "start_time": "2020-11-01T23:16:23.021239",
     "status": "completed"
    },
    "pycharm": {
     "name": "#%%\n"
    },
    "tags": []
   },
   "outputs": [],
   "source": [
    "environment_download_only_from_report_backend = \\\n",
    "    os.environ.get(\"RADARCOVID_REPORT__DOWNLOAD_ONLY_FROM_REPORT_BACKEND\")\n",
    "if environment_download_only_from_report_backend:\n",
    "    report_backend_identifiers = [report_backend_identifier]\n",
    "else:\n",
    "    report_backend_identifiers = None\n",
    "\n",
    "report_backend_identifiers"
   ]
  },
  {
   "cell_type": "code",
   "execution_count": 7,
   "metadata": {
    "collapsed": false,
    "execution": {
     "iopub.execute_input": "2020-11-01T23:16:23.156593Z",
     "iopub.status.busy": "2020-11-01T23:16:23.156006Z",
     "iopub.status.idle": "2020-11-01T23:16:23.158766Z",
     "shell.execute_reply": "2020-11-01T23:16:23.159230Z"
    },
    "papermill": {
     "duration": 0.048637,
     "end_time": "2020-11-01T23:16:23.159386",
     "exception": false,
     "start_time": "2020-11-01T23:16:23.110749",
     "status": "completed"
    },
    "pycharm": {
     "name": "#%%\n"
    },
    "tags": []
   },
   "outputs": [
    {
     "data": {
      "text/plain": [
       "2"
      ]
     },
     "execution_count": 7,
     "metadata": {},
     "output_type": "execute_result"
    }
   ],
   "source": [
    "environment_shared_diagnosis_generation_to_upload_days = \\\n",
    "    os.environ.get(\"RADARCOVID_REPORT__SHARED_DIAGNOSIS_GENERATION_TO_UPLOAD_DAYS\")\n",
    "if environment_shared_diagnosis_generation_to_upload_days:\n",
    "    shared_diagnosis_generation_to_upload_days = \\\n",
    "        int(environment_shared_diagnosis_generation_to_upload_days)\n",
    "else:\n",
    "    shared_diagnosis_generation_to_upload_days = \\\n",
    "        default_shared_diagnosis_generation_to_upload_days\n",
    "\n",
    "shared_diagnosis_generation_to_upload_days"
   ]
  },
  {
   "cell_type": "markdown",
   "metadata": {
    "collapsed": false,
    "papermill": {
     "duration": 0.038658,
     "end_time": "2020-11-01T23:16:23.237955",
     "exception": false,
     "start_time": "2020-11-01T23:16:23.199297",
     "status": "completed"
    },
    "pycharm": {
     "name": "#%% md\n"
    },
    "tags": []
   },
   "source": [
    "### COVID-19 Cases"
   ]
  },
  {
   "cell_type": "code",
   "execution_count": 8,
   "metadata": {
    "collapsed": false,
    "execution": {
     "iopub.execute_input": "2020-11-01T23:16:23.339966Z",
     "iopub.status.busy": "2020-11-01T23:16:23.339240Z",
     "iopub.status.idle": "2020-11-01T23:16:35.245450Z",
     "shell.execute_reply": "2020-11-01T23:16:35.244992Z"
    },
    "papermill": {
     "duration": 11.956186,
     "end_time": "2020-11-01T23:16:35.245586",
     "exception": false,
     "start_time": "2020-11-01T23:16:23.289400",
     "status": "completed"
    },
    "pycharm": {
     "name": "#%%\n"
    },
    "tags": []
   },
   "outputs": [
    {
     "data": {
      "text/html": [
       "<div>\n",
       "<style scoped>\n",
       "    .dataframe tbody tr th:only-of-type {\n",
       "        vertical-align: middle;\n",
       "    }\n",
       "\n",
       "    .dataframe tbody tr th {\n",
       "        vertical-align: top;\n",
       "    }\n",
       "\n",
       "    .dataframe thead th {\n",
       "        text-align: right;\n",
       "    }\n",
       "</style>\n",
       "<table border=\"1\" class=\"dataframe\">\n",
       "  <thead>\n",
       "    <tr style=\"text-align: right;\">\n",
       "      <th></th>\n",
       "      <th>sample_date</th>\n",
       "      <th>new_cases</th>\n",
       "    </tr>\n",
       "  </thead>\n",
       "  <tbody>\n",
       "    <tr>\n",
       "      <th>302</th>\n",
       "      <td>2020-10-28</td>\n",
       "      <td>57554</td>\n",
       "    </tr>\n",
       "    <tr>\n",
       "      <th>303</th>\n",
       "      <td>2020-10-29</td>\n",
       "      <td>66260</td>\n",
       "    </tr>\n",
       "    <tr>\n",
       "      <th>304</th>\n",
       "      <td>2020-10-30</td>\n",
       "      <td>72219</td>\n",
       "    </tr>\n",
       "    <tr>\n",
       "      <th>305</th>\n",
       "      <td>2020-10-31</td>\n",
       "      <td>51184</td>\n",
       "    </tr>\n",
       "    <tr>\n",
       "      <th>306</th>\n",
       "      <td>2020-11-01</td>\n",
       "      <td>46545</td>\n",
       "    </tr>\n",
       "  </tbody>\n",
       "</table>\n",
       "</div>"
      ],
      "text/plain": [
       "    sample_date  new_cases\n",
       "302  2020-10-28      57554\n",
       "303  2020-10-29      66260\n",
       "304  2020-10-30      72219\n",
       "305  2020-10-31      51184\n",
       "306  2020-11-01      46545"
      ]
     },
     "execution_count": 8,
     "metadata": {},
     "output_type": "execute_result"
    }
   ],
   "source": [
    "@retry.retry(tries=10, delay=10, backoff=1.1, jitter=(0, 10))\n",
    "def download_cases_dataframe_from_ecdc():\n",
    "    return pd.read_csv(\n",
    "        \"https://opendata.ecdc.europa.eu/covid19/casedistribution/csv/data.csv\")\n",
    "\n",
    "confirmed_df = download_cases_dataframe_from_ecdc()\n",
    "\n",
    "radar_covid_countries = set(report_source_regions)\n",
    "\n",
    "confirmed_df = confirmed_df[[\"dateRep\", \"cases\", \"geoId\"]]\n",
    "confirmed_df.rename(\n",
    "    columns={\n",
    "        \"dateRep\":\"sample_date\",\n",
    "        \"cases\": \"new_cases\",\n",
    "        \"geoId\": \"country_code\",\n",
    "    },\n",
    "    inplace=True)\n",
    "confirmed_df = confirmed_df[confirmed_df.country_code.isin(radar_covid_countries)]\n",
    "confirmed_df[\"sample_date\"] = pd.to_datetime(confirmed_df.sample_date, dayfirst=True)\n",
    "confirmed_df = confirmed_df.groupby(\"sample_date\").new_cases.sum().reset_index()\n",
    "confirmed_df.sort_values(\"sample_date\", inplace=True)\n",
    "confirmed_df.tail()"
   ]
  },
  {
   "cell_type": "code",
   "execution_count": 9,
   "metadata": {
    "collapsed": false,
    "execution": {
     "iopub.execute_input": "2020-11-01T23:16:35.333820Z",
     "iopub.status.busy": "2020-11-01T23:16:35.333247Z",
     "iopub.status.idle": "2020-11-01T23:16:35.346440Z",
     "shell.execute_reply": "2020-11-01T23:16:35.345985Z"
    },
    "papermill": {
     "duration": 0.062837,
     "end_time": "2020-11-01T23:16:35.346575",
     "exception": false,
     "start_time": "2020-11-01T23:16:35.283738",
     "status": "completed"
    },
    "pycharm": {
     "name": "#%%\n"
    },
    "tags": []
   },
   "outputs": [
    {
     "data": {
      "text/html": [
       "<div>\n",
       "<style scoped>\n",
       "    .dataframe tbody tr th:only-of-type {\n",
       "        vertical-align: middle;\n",
       "    }\n",
       "\n",
       "    .dataframe tbody tr th {\n",
       "        vertical-align: top;\n",
       "    }\n",
       "\n",
       "    .dataframe thead th {\n",
       "        text-align: right;\n",
       "    }\n",
       "</style>\n",
       "<table border=\"1\" class=\"dataframe\">\n",
       "  <thead>\n",
       "    <tr style=\"text-align: right;\">\n",
       "      <th></th>\n",
       "      <th>sample_date</th>\n",
       "      <th>new_cases</th>\n",
       "    </tr>\n",
       "  </thead>\n",
       "  <tbody>\n",
       "    <tr>\n",
       "      <th>302</th>\n",
       "      <td>2020-10-28</td>\n",
       "      <td>57554</td>\n",
       "    </tr>\n",
       "    <tr>\n",
       "      <th>303</th>\n",
       "      <td>2020-10-29</td>\n",
       "      <td>66260</td>\n",
       "    </tr>\n",
       "    <tr>\n",
       "      <th>304</th>\n",
       "      <td>2020-10-30</td>\n",
       "      <td>72219</td>\n",
       "    </tr>\n",
       "    <tr>\n",
       "      <th>305</th>\n",
       "      <td>2020-10-31</td>\n",
       "      <td>51184</td>\n",
       "    </tr>\n",
       "    <tr>\n",
       "      <th>306</th>\n",
       "      <td>2020-11-01</td>\n",
       "      <td>46545</td>\n",
       "    </tr>\n",
       "  </tbody>\n",
       "</table>\n",
       "</div>"
      ],
      "text/plain": [
       "    sample_date  new_cases\n",
       "302  2020-10-28      57554\n",
       "303  2020-10-29      66260\n",
       "304  2020-10-30      72219\n",
       "305  2020-10-31      51184\n",
       "306  2020-11-01      46545"
      ]
     },
     "execution_count": 9,
     "metadata": {},
     "output_type": "execute_result"
    }
   ],
   "source": [
    "confirmed_days = pd.date_range(\n",
    "    start=confirmed_df.iloc[0].sample_date,\n",
    "    end=extraction_datetime)\n",
    "confirmed_days_df = pd.DataFrame(data=confirmed_days, columns=[\"sample_date\"])\n",
    "confirmed_df = confirmed_days_df.merge(confirmed_df, how=\"left\")\n",
    "confirmed_df[\"sample_date\"] = confirmed_df.sample_date.dt.strftime(\"%Y-%m-%d\")\n",
    "confirmed_df.sort_values(\"sample_date\", inplace=True)\n",
    "confirmed_df.tail()"
   ]
  },
  {
   "cell_type": "code",
   "execution_count": 10,
   "metadata": {
    "collapsed": false,
    "execution": {
     "iopub.execute_input": "2020-11-01T23:16:35.438135Z",
     "iopub.status.busy": "2020-11-01T23:16:35.437538Z",
     "iopub.status.idle": "2020-11-01T23:16:35.439927Z",
     "shell.execute_reply": "2020-11-01T23:16:35.440397Z"
    },
    "papermill": {
     "duration": 0.055299,
     "end_time": "2020-11-01T23:16:35.440557",
     "exception": false,
     "start_time": "2020-11-01T23:16:35.385258",
     "status": "completed"
    },
    "pycharm": {
     "name": "#%%\n"
    },
    "tags": []
   },
   "outputs": [
    {
     "data": {
      "text/html": [
       "<div>\n",
       "<style scoped>\n",
       "    .dataframe tbody tr th:only-of-type {\n",
       "        vertical-align: middle;\n",
       "    }\n",
       "\n",
       "    .dataframe tbody tr th {\n",
       "        vertical-align: top;\n",
       "    }\n",
       "\n",
       "    .dataframe thead th {\n",
       "        text-align: right;\n",
       "    }\n",
       "</style>\n",
       "<table border=\"1\" class=\"dataframe\">\n",
       "  <thead>\n",
       "    <tr style=\"text-align: right;\">\n",
       "      <th></th>\n",
       "      <th>sample_date_string</th>\n",
       "      <th>new_cases</th>\n",
       "      <th>covid_cases</th>\n",
       "    </tr>\n",
       "  </thead>\n",
       "  <tbody>\n",
       "    <tr>\n",
       "      <th>302</th>\n",
       "      <td>2020-10-28</td>\n",
       "      <td>57554</td>\n",
       "      <td>50401.0</td>\n",
       "    </tr>\n",
       "    <tr>\n",
       "      <th>303</th>\n",
       "      <td>2020-10-29</td>\n",
       "      <td>66260</td>\n",
       "      <td>52892.0</td>\n",
       "    </tr>\n",
       "    <tr>\n",
       "      <th>304</th>\n",
       "      <td>2020-10-30</td>\n",
       "      <td>72219</td>\n",
       "      <td>56297.0</td>\n",
       "    </tr>\n",
       "    <tr>\n",
       "      <th>305</th>\n",
       "      <td>2020-10-31</td>\n",
       "      <td>51184</td>\n",
       "      <td>58624.0</td>\n",
       "    </tr>\n",
       "    <tr>\n",
       "      <th>306</th>\n",
       "      <td>2020-11-01</td>\n",
       "      <td>46545</td>\n",
       "      <td>60713.0</td>\n",
       "    </tr>\n",
       "  </tbody>\n",
       "</table>\n",
       "</div>"
      ],
      "text/plain": [
       "    sample_date_string  new_cases  covid_cases\n",
       "302         2020-10-28      57554      50401.0\n",
       "303         2020-10-29      66260      52892.0\n",
       "304         2020-10-30      72219      56297.0\n",
       "305         2020-10-31      51184      58624.0\n",
       "306         2020-11-01      46545      60713.0"
      ]
     },
     "execution_count": 10,
     "metadata": {},
     "output_type": "execute_result"
    }
   ],
   "source": [
    "confirmed_df.columns = [\"sample_date_string\", \"new_cases\"]\n",
    "confirmed_df.sort_values(\"sample_date_string\", inplace=True)\n",
    "confirmed_df[\"covid_cases\"] = confirmed_df.new_cases.rolling(7).mean().round()\n",
    "confirmed_df.fillna(method=\"ffill\", inplace=True)\n",
    "confirmed_df.tail()"
   ]
  },
  {
   "cell_type": "code",
   "execution_count": 11,
   "metadata": {
    "execution": {
     "iopub.execute_input": "2020-11-01T23:16:35.533191Z",
     "iopub.status.busy": "2020-11-01T23:16:35.532618Z",
     "iopub.status.idle": "2020-11-01T23:16:35.740264Z",
     "shell.execute_reply": "2020-11-01T23:16:35.741037Z"
    },
    "papermill": {
     "duration": 0.258136,
     "end_time": "2020-11-01T23:16:35.741204",
     "exception": false,
     "start_time": "2020-11-01T23:16:35.483068",
     "status": "completed"
    },
    "pycharm": {
     "name": "#%%\n"
    },
    "tags": []
   },
   "outputs": [
    {
     "data": {
      "text/plain": [
       "<matplotlib.axes._subplots.AxesSubplot at 0x7fe8877ef670>"
      ]
     },
     "execution_count": 11,
     "metadata": {},
     "output_type": "execute_result"
    },
    {
     "data": {
      "image/png": "[encoded data removed]",
      "text/plain": [
       "<Figure size 1080x432 with 1 Axes>"
      ]
     },
     "metadata": {},
     "output_type": "display_data"
    }
   ],
   "source": [
    "confirmed_df[[\"new_cases\", \"covid_cases\"]].plot()"
   ]
  },
  {
   "cell_type": "markdown",
   "metadata": {
    "execution": {
     "iopub.execute_input": "2020-08-30T22:30:16.351238Z",
     "iopub.status.busy": "2020-08-30T22:30:16.344579Z",
     "iopub.status.idle": "2020-08-30T22:30:16.354285Z",
     "shell.execute_reply": "2020-08-30T22:30:16.353641Z"
    },
    "papermill": {
     "duration": 0.042203,
     "end_time": "2020-11-01T23:16:35.828620",
     "exception": false,
     "start_time": "2020-11-01T23:16:35.786417",
     "status": "completed"
    },
    "pycharm": {
     "name": "#%% md\n"
    },
    "tags": []
   },
   "source": [
    "### Extract API TEKs"
   ]
  },
  {
   "cell_type": "code",
   "execution_count": 12,
   "metadata": {
    "execution": {
     "iopub.execute_input": "2020-11-01T23:16:35.936061Z",
     "iopub.status.busy": "2020-11-01T23:16:35.935414Z",
     "iopub.status.idle": "2020-11-01T23:21:01.156585Z",
     "shell.execute_reply": "2020-11-01T23:21:01.157043Z"
    },
    "papermill": {
     "duration": 265.278462,
     "end_time": "2020-11-01T23:21:01.157295",
     "exception": false,
     "start_time": "2020-11-01T23:16:35.878833",
     "status": "completed"
    },
    "pycharm": {
     "name": "#%%\n"
    },
    "tags": []
   },
   "outputs": [
    {
     "name": "stderr",
     "output_type": "stream",
     "text": [
      "WARNING:root:NoKeysFoundException(\"No exposure keys found on endpoint 'https://stayaway.incm.pt/v1/gaen/exposed/1604188800000' (parameters: {'generation_date': '2020-11-01', 'endpoint_identifier_components': ['2020-11-01'], 'backend_identifier': 'PT', 'server_endpoint_url': 'https://stayaway.incm.pt'}).\")\n"
     ]
    },
    {
     "name": "stderr",
     "output_type": "stream",
     "text": [
      "WARNING:root:NoKeysFoundException(\"No exposure keys found on endpoint 'https://enapi.sm.ee/authorization/v1/gaen/exposed/1604188800000' (parameters: {'generation_date': '2020-11-01', 'endpoint_identifier_components': ['2020-11-01'], 'backend_identifier': 'EE', 'server_endpoint_url': 'https://enapi.sm.ee/authorization'}).\")\n"
     ]
    },
    {
     "name": "stderr",
     "output_type": "stream",
     "text": [
      "WARNING:root:NoKeysFoundException(\"No exposure keys found on endpoint 'https://mt-dpppt-ws.azurewebsites.net/v1/gaen/exposed/1604188800000' (parameters: {'generation_date': '2020-11-01', 'endpoint_identifier_components': ['2020-11-01'], 'backend_identifier': 'MT', 'server_endpoint_url': 'https://mt-dpppt-ws.azurewebsites.net'}).\")\n"
     ]
    },
    {
     "data": {
      "text/html": [
       "<div>\n",
       "<style scoped>\n",
       "    .dataframe tbody tr th:only-of-type {\n",
       "        vertical-align: middle;\n",
       "    }\n",
       "\n",
       "    .dataframe tbody tr th {\n",
       "        vertical-align: top;\n",
       "    }\n",
       "\n",
       "    .dataframe thead th {\n",
       "        text-align: right;\n",
       "    }\n",
       "</style>\n",
       "<table border=\"1\" class=\"dataframe\">\n",
       "  <thead>\n",
       "    <tr style=\"text-align: right;\">\n",
       "      <th></th>\n",
       "      <th>sample_datetime</th>\n",
       "      <th>sample_date_string</th>\n",
       "      <th>region</th>\n",
       "      <th>verification_key_version</th>\n",
       "      <th>verification_key_id</th>\n",
       "      <th>signature_algorithm</th>\n",
       "      <th>key_data</th>\n",
       "      <th>rolling_start_interval_number</th>\n",
       "      <th>rolling_period</th>\n",
       "      <th>transmission_risk_level</th>\n",
       "      <th>backend_identifier</th>\n",
       "    </tr>\n",
       "  </thead>\n",
       "  <tbody>\n",
       "    <tr>\n",
       "      <th>0</th>\n",
       "      <td>2020-11-01</td>\n",
       "      <td>2020-11-01</td>\n",
       "      <td>ES</td>\n",
       "      <td>V1</td>\n",
       "      <td>214</td>\n",
       "      <td>1.2.840.10045.4.3.2</td>\n",
       "      <td>88307b7a-babf-2b3c-1ef1-c8e810edcf73</td>\n",
       "      <td>2673648</td>\n",
       "      <td>132</td>\n",
       "      <td>0</td>\n",
       "      <td>ES</td>\n",
       "    </tr>\n",
       "    <tr>\n",
       "      <th>1</th>\n",
       "      <td>2020-11-01</td>\n",
       "      <td>2020-11-01</td>\n",
       "      <td>ES</td>\n",
       "      <td>V1</td>\n",
       "      <td>214</td>\n",
       "      <td>1.2.840.10045.4.3.2</td>\n",
       "      <td>aed0ec94-ceb8-d071-d955-7d152112dc15</td>\n",
       "      <td>2673648</td>\n",
       "      <td>129</td>\n",
       "      <td>0</td>\n",
       "      <td>ES</td>\n",
       "    </tr>\n",
       "    <tr>\n",
       "      <th>2</th>\n",
       "      <td>2020-11-01</td>\n",
       "      <td>2020-11-01</td>\n",
       "      <td>ES</td>\n",
       "      <td>V1</td>\n",
       "      <td>214</td>\n",
       "      <td>1.2.840.10045.4.3.2</td>\n",
       "      <td>3da7fc8f-e5dc-c88e-4ef0-fadeb5d7ffc5</td>\n",
       "      <td>2673648</td>\n",
       "      <td>128</td>\n",
       "      <td>0</td>\n",
       "      <td>ES</td>\n",
       "    </tr>\n",
       "    <tr>\n",
       "      <th>3</th>\n",
       "      <td>2020-11-01</td>\n",
       "      <td>2020-11-01</td>\n",
       "      <td>ES</td>\n",
       "      <td>V1</td>\n",
       "      <td>214</td>\n",
       "      <td>1.2.840.10045.4.3.2</td>\n",
       "      <td>e1a7cba7-1502-0e35-cccb-9e923652f991</td>\n",
       "      <td>2673648</td>\n",
       "      <td>127</td>\n",
       "      <td>0</td>\n",
       "      <td>ES</td>\n",
       "    </tr>\n",
       "    <tr>\n",
       "      <th>4</th>\n",
       "      <td>2020-11-01</td>\n",
       "      <td>2020-11-01</td>\n",
       "      <td>ES</td>\n",
       "      <td>V1</td>\n",
       "      <td>214</td>\n",
       "      <td>1.2.840.10045.4.3.2</td>\n",
       "      <td>72cb76d2-a8b0-ee14-083a-8ae854173f6a</td>\n",
       "      <td>2673648</td>\n",
       "      <td>126</td>\n",
       "      <td>0</td>\n",
       "      <td>ES</td>\n",
       "    </tr>\n",
       "  </tbody>\n",
       "</table>\n",
       "</div>"
      ],
      "text/plain": [
       "  sample_datetime sample_date_string region verification_key_version  \\\n",
       "0      2020-11-01         2020-11-01     ES                       V1   \n",
       "1      2020-11-01         2020-11-01     ES                       V1   \n",
       "2      2020-11-01         2020-11-01     ES                       V1   \n",
       "3      2020-11-01         2020-11-01     ES                       V1   \n",
       "4      2020-11-01         2020-11-01     ES                       V1   \n",
       "\n",
       "  verification_key_id  signature_algorithm  \\\n",
       "0                 214  1.2.840.10045.4.3.2   \n",
       "1                 214  1.2.840.10045.4.3.2   \n",
       "2                 214  1.2.840.10045.4.3.2   \n",
       "3                 214  1.2.840.10045.4.3.2   \n",
       "4                 214  1.2.840.10045.4.3.2   \n",
       "\n",
       "                               key_data  rolling_start_interval_number  \\\n",
       "0  88307b7a-babf-2b3c-1ef1-c8e810edcf73                        2673648   \n",
       "1  aed0ec94-ceb8-d071-d955-7d152112dc15                        2673648   \n",
       "2  3da7fc8f-e5dc-c88e-4ef0-fadeb5d7ffc5                        2673648   \n",
       "3  e1a7cba7-1502-0e35-cccb-9e923652f991                        2673648   \n",
       "4  72cb76d2-a8b0-ee14-083a-8ae854173f6a                        2673648   \n",
       "\n",
       "   rolling_period  transmission_risk_level backend_identifier  \n",
       "0             132                        0                 ES  \n",
       "1             129                        0                 ES  \n",
       "2             128                        0                 ES  \n",
       "3             127                        0                 ES  \n",
       "4             126                        0                 ES  "
      ]
     },
     "execution_count": 12,
     "metadata": {},
     "output_type": "execute_result"
    }
   ],
   "source": [
    "raw_zip_path_prefix = \"Data/TEKs/Raw/\"\n",
    "fail_on_error_backend_identifiers = [report_backend_identifier]\n",
    "multi_backend_exposure_keys_df = \\\n",
    "    exposure_notification_io.download_exposure_keys_from_backends(\n",
    "        backend_identifiers=report_backend_identifiers,\n",
    "        generation_days=backend_generation_days,\n",
    "        fail_on_error_backend_identifiers=fail_on_error_backend_identifiers,\n",
    "        save_raw_zip_path_prefix=raw_zip_path_prefix)\n",
    "multi_backend_exposure_keys_df[\"region\"] = multi_backend_exposure_keys_df[\"backend_identifier\"]\n",
    "multi_backend_exposure_keys_df.rename(\n",
    "    columns={\n",
    "        \"generation_datetime\": \"sample_datetime\",\n",
    "        \"generation_date_string\": \"sample_date_string\",\n",
    "    },\n",
    "    inplace=True)\n",
    "multi_backend_exposure_keys_df.head()"
   ]
  },
  {
   "cell_type": "code",
   "execution_count": 13,
   "metadata": {
    "collapsed": false,
    "execution": {
     "iopub.execute_input": "2020-11-01T23:21:01.266253Z",
     "iopub.status.busy": "2020-11-01T23:21:01.265687Z",
     "iopub.status.idle": "2020-11-01T23:21:01.465881Z",
     "shell.execute_reply": "2020-11-01T23:21:01.466562Z"
    },
    "papermill": {
     "duration": 0.264592,
     "end_time": "2020-11-01T23:21:01.466723",
     "exception": false,
     "start_time": "2020-11-01T23:21:01.202131",
     "status": "completed"
    },
    "pycharm": {
     "name": "#%%\n"
    },
    "tags": []
   },
   "outputs": [
    {
     "data": {
      "text/plain": [
       "<matplotlib.axes._subplots.AxesSubplot at 0x7fe87485ea30>"
      ]
     },
     "execution_count": 13,
     "metadata": {},
     "output_type": "execute_result"
    },
    {
     "data": {
      "image/png": "[encoded data removed]",
      "text/plain": [
       "<Figure size 1080x432 with 1 Axes>"
      ]
     },
     "metadata": {},
     "output_type": "display_data"
    }
   ],
   "source": [
    "early_teks_df = multi_backend_exposure_keys_df[\n",
    "    multi_backend_exposure_keys_df.rolling_period < 144].copy()\n",
    "early_teks_df[\"rolling_period_in_hours\"] = early_teks_df.rolling_period / 6\n",
    "early_teks_df[early_teks_df.sample_date_string != extraction_date] \\\n",
    "    .rolling_period_in_hours.hist(bins=list(range(24)))"
   ]
  },
  {
   "cell_type": "code",
   "execution_count": 14,
   "metadata": {
    "collapsed": false,
    "execution": {
     "iopub.execute_input": "2020-11-01T23:21:01.557049Z",
     "iopub.status.busy": "2020-11-01T23:21:01.556276Z",
     "iopub.status.idle": "2020-11-01T23:21:01.771271Z",
     "shell.execute_reply": "2020-11-01T23:21:01.771810Z"
    },
    "papermill": {
     "duration": 0.262715,
     "end_time": "2020-11-01T23:21:01.771974",
     "exception": false,
     "start_time": "2020-11-01T23:21:01.509259",
     "status": "completed"
    },
    "pycharm": {
     "name": "#%%\n"
    },
    "tags": []
   },
   "outputs": [
    {
     "data": {
      "text/plain": [
       "<matplotlib.axes._subplots.AxesSubplot at 0x7fe8c8585280>"
      ]
     },
     "execution_count": 14,
     "metadata": {},
     "output_type": "execute_result"
    },
    {
     "data": {
      "image/png": "[encoded data removed]",
      "text/plain": [
       "<Figure size 1080x432 with 1 Axes>"
      ]
     },
     "metadata": {},
     "output_type": "display_data"
    }
   ],
   "source": [
    "early_teks_df[early_teks_df.sample_date_string == extraction_date] \\\n",
    "    .rolling_period_in_hours.hist(bins=list(range(24)))"
   ]
  },
  {
   "cell_type": "code",
   "execution_count": 15,
   "metadata": {
    "collapsed": false,
    "execution": {
     "iopub.execute_input": "2020-11-01T23:21:01.864645Z",
     "iopub.status.busy": "2020-11-01T23:21:01.864076Z",
     "iopub.status.idle": "2020-11-01T23:21:01.897702Z",
     "shell.execute_reply": "2020-11-01T23:21:01.898399Z"
    },
    "papermill": {
     "duration": 0.081821,
     "end_time": "2020-11-01T23:21:01.898636",
     "exception": false,
     "start_time": "2020-11-01T23:21:01.816815",
     "status": "completed"
    },
    "pycharm": {
     "name": "#%%\n"
    },
    "tags": []
   },
   "outputs": [
    {
     "data": {
      "text/html": [
       "<div>\n",
       "<style scoped>\n",
       "    .dataframe tbody tr th:only-of-type {\n",
       "        vertical-align: middle;\n",
       "    }\n",
       "\n",
       "    .dataframe tbody tr th {\n",
       "        vertical-align: top;\n",
       "    }\n",
       "\n",
       "    .dataframe thead th {\n",
       "        text-align: right;\n",
       "    }\n",
       "</style>\n",
       "<table border=\"1\" class=\"dataframe\">\n",
       "  <thead>\n",
       "    <tr style=\"text-align: right;\">\n",
       "      <th></th>\n",
       "      <th>sample_date_string</th>\n",
       "      <th>region</th>\n",
       "      <th>key_data</th>\n",
       "    </tr>\n",
       "  </thead>\n",
       "  <tbody>\n",
       "    <tr>\n",
       "      <th>0</th>\n",
       "      <td>2020-11-01</td>\n",
       "      <td>ES</td>\n",
       "      <td>88307b7a-babf-2b3c-1ef1-c8e810edcf73</td>\n",
       "    </tr>\n",
       "    <tr>\n",
       "      <th>1</th>\n",
       "      <td>2020-11-01</td>\n",
       "      <td>ES</td>\n",
       "      <td>aed0ec94-ceb8-d071-d955-7d152112dc15</td>\n",
       "    </tr>\n",
       "    <tr>\n",
       "      <th>2</th>\n",
       "      <td>2020-11-01</td>\n",
       "      <td>ES</td>\n",
       "      <td>3da7fc8f-e5dc-c88e-4ef0-fadeb5d7ffc5</td>\n",
       "    </tr>\n",
       "    <tr>\n",
       "      <th>3</th>\n",
       "      <td>2020-11-01</td>\n",
       "      <td>ES</td>\n",
       "      <td>e1a7cba7-1502-0e35-cccb-9e923652f991</td>\n",
       "    </tr>\n",
       "    <tr>\n",
       "      <th>4</th>\n",
       "      <td>2020-11-01</td>\n",
       "      <td>ES</td>\n",
       "      <td>72cb76d2-a8b0-ee14-083a-8ae854173f6a</td>\n",
       "    </tr>\n",
       "  </tbody>\n",
       "</table>\n",
       "</div>"
      ],
      "text/plain": [
       "  sample_date_string region                              key_data\n",
       "0         2020-11-01     ES  88307b7a-babf-2b3c-1ef1-c8e810edcf73\n",
       "1         2020-11-01     ES  aed0ec94-ceb8-d071-d955-7d152112dc15\n",
       "2         2020-11-01     ES  3da7fc8f-e5dc-c88e-4ef0-fadeb5d7ffc5\n",
       "3         2020-11-01     ES  e1a7cba7-1502-0e35-cccb-9e923652f991\n",
       "4         2020-11-01     ES  72cb76d2-a8b0-ee14-083a-8ae854173f6a"
      ]
     },
     "execution_count": 15,
     "metadata": {},
     "output_type": "execute_result"
    }
   ],
   "source": [
    "multi_backend_exposure_keys_df = multi_backend_exposure_keys_df[[\n",
    "    \"sample_date_string\", \"region\", \"key_data\"]]\n",
    "multi_backend_exposure_keys_df.head()"
   ]
  },
  {
   "cell_type": "code",
   "execution_count": 16,
   "metadata": {
    "collapsed": false,
    "execution": {
     "iopub.execute_input": "2020-11-01T23:21:02.002105Z",
     "iopub.status.busy": "2020-11-01T23:21:02.001538Z",
     "iopub.status.idle": "2020-11-01T23:21:05.185700Z",
     "shell.execute_reply": "2020-11-01T23:21:05.185213Z"
    },
    "papermill": {
     "duration": 3.243627,
     "end_time": "2020-11-01T23:21:05.185834",
     "exception": false,
     "start_time": "2020-11-01T23:21:01.942207",
     "status": "completed"
    },
    "pycharm": {
     "name": "#%%\n"
    },
    "tags": []
   },
   "outputs": [
    {
     "data": {
      "text/plain": [
       "['EE', 'BE@TST', 'MT', 'PT', 'DK', 'ES@PRE', 'BE', 'CH', 'DE', 'IT', 'ES']"
      ]
     },
     "execution_count": 16,
     "metadata": {},
     "output_type": "execute_result"
    }
   ],
   "source": [
    "active_regions = \\\n",
    "    multi_backend_exposure_keys_df.groupby(\"region\").key_data.nunique().sort_values().index.unique().tolist()\n",
    "active_regions"
   ]
  },
  {
   "cell_type": "code",
   "execution_count": 17,
   "metadata": {
    "collapsed": false,
    "execution": {
     "iopub.execute_input": "2020-11-01T23:21:05.308855Z",
     "iopub.status.busy": "2020-11-01T23:21:05.308232Z",
     "iopub.status.idle": "2020-11-01T23:21:08.839209Z",
     "shell.execute_reply": "2020-11-01T23:21:08.838764Z"
    },
    "papermill": {
     "duration": 3.609553,
     "end_time": "2020-11-01T23:21:08.839337",
     "exception": false,
     "start_time": "2020-11-01T23:21:05.229784",
     "status": "completed"
    },
    "pycharm": {
     "name": "#%%\n"
    },
    "tags": []
   },
   "outputs": [
    {
     "data": {
      "text/html": [
       "<div>\n",
       "<style scoped>\n",
       "    .dataframe tbody tr th:only-of-type {\n",
       "        vertical-align: middle;\n",
       "    }\n",
       "\n",
       "    .dataframe tbody tr th {\n",
       "        vertical-align: top;\n",
       "    }\n",
       "\n",
       "    .dataframe thead tr th {\n",
       "        text-align: left;\n",
       "    }\n",
       "\n",
       "    .dataframe thead tr:last-of-type th {\n",
       "        text-align: right;\n",
       "    }\n",
       "</style>\n",
       "<table border=\"1\" class=\"dataframe\">\n",
       "  <thead>\n",
       "    <tr>\n",
       "      <th></th>\n",
       "      <th colspan=\"11\" halign=\"left\">shared_teks_by_generation_date</th>\n",
       "    </tr>\n",
       "    <tr>\n",
       "      <th>region</th>\n",
       "      <th>BE</th>\n",
       "      <th>BE@TST</th>\n",
       "      <th>CH</th>\n",
       "      <th>DE</th>\n",
       "      <th>DK</th>\n",
       "      <th>EE</th>\n",
       "      <th>ES</th>\n",
       "      <th>ES@PRE</th>\n",
       "      <th>IT</th>\n",
       "      <th>MT</th>\n",
       "      <th>PT</th>\n",
       "    </tr>\n",
       "    <tr>\n",
       "      <th>sample_date</th>\n",
       "      <th></th>\n",
       "      <th></th>\n",
       "      <th></th>\n",
       "      <th></th>\n",
       "      <th></th>\n",
       "      <th></th>\n",
       "      <th></th>\n",
       "      <th></th>\n",
       "      <th></th>\n",
       "      <th></th>\n",
       "      <th></th>\n",
       "    </tr>\n",
       "  </thead>\n",
       "  <tbody>\n",
       "    <tr>\n",
       "      <th>2020-11-01</th>\n",
       "      <td>0</td>\n",
       "      <td>0</td>\n",
       "      <td>293</td>\n",
       "      <td>0</td>\n",
       "      <td>1</td>\n",
       "      <td>0</td>\n",
       "      <td>277</td>\n",
       "      <td>1</td>\n",
       "      <td>0</td>\n",
       "      <td>0</td>\n",
       "      <td>0</td>\n",
       "    </tr>\n",
       "    <tr>\n",
       "      <th>2020-10-31</th>\n",
       "      <td>0</td>\n",
       "      <td>0</td>\n",
       "      <td>1027</td>\n",
       "      <td>0</td>\n",
       "      <td>153</td>\n",
       "      <td>4</td>\n",
       "      <td>1343</td>\n",
       "      <td>195</td>\n",
       "      <td>1125</td>\n",
       "      <td>108</td>\n",
       "      <td>79</td>\n",
       "    </tr>\n",
       "    <tr>\n",
       "      <th>2020-10-30</th>\n",
       "      <td>375</td>\n",
       "      <td>50</td>\n",
       "      <td>1832</td>\n",
       "      <td>1866</td>\n",
       "      <td>328</td>\n",
       "      <td>11</td>\n",
       "      <td>3497</td>\n",
       "      <td>456</td>\n",
       "      <td>2958</td>\n",
       "      <td>116</td>\n",
       "      <td>133</td>\n",
       "    </tr>\n",
       "    <tr>\n",
       "      <th>2020-10-29</th>\n",
       "      <td>727</td>\n",
       "      <td>55</td>\n",
       "      <td>2734</td>\n",
       "      <td>4169</td>\n",
       "      <td>517</td>\n",
       "      <td>17</td>\n",
       "      <td>5957</td>\n",
       "      <td>716</td>\n",
       "      <td>5180</td>\n",
       "      <td>121</td>\n",
       "      <td>190</td>\n",
       "    </tr>\n",
       "    <tr>\n",
       "      <th>2020-10-28</th>\n",
       "      <td>1084</td>\n",
       "      <td>45</td>\n",
       "      <td>3662</td>\n",
       "      <td>6323</td>\n",
       "      <td>672</td>\n",
       "      <td>24</td>\n",
       "      <td>8294</td>\n",
       "      <td>968</td>\n",
       "      <td>7229</td>\n",
       "      <td>128</td>\n",
       "      <td>246</td>\n",
       "    </tr>\n",
       "  </tbody>\n",
       "</table>\n",
       "</div>"
      ],
      "text/plain": [
       "            shared_teks_by_generation_date                                    \\\n",
       "region                                  BE BE@TST    CH    DE   DK  EE    ES   \n",
       "sample_date                                                                    \n",
       "2020-11-01                               0      0   293     0    1   0   277   \n",
       "2020-10-31                               0      0  1027     0  153   4  1343   \n",
       "2020-10-30                             375     50  1832  1866  328  11  3497   \n",
       "2020-10-29                             727     55  2734  4169  517  17  5957   \n",
       "2020-10-28                            1084     45  3662  6323  672  24  8294   \n",
       "\n",
       "                                    \n",
       "region      ES@PRE    IT   MT   PT  \n",
       "sample_date                         \n",
       "2020-11-01       1     0    0    0  \n",
       "2020-10-31     195  1125  108   79  \n",
       "2020-10-30     456  2958  116  133  \n",
       "2020-10-29     716  5180  121  190  \n",
       "2020-10-28     968  7229  128  246  "
      ]
     },
     "execution_count": 17,
     "metadata": {},
     "output_type": "execute_result"
    }
   ],
   "source": [
    "multi_backend_summary_df = multi_backend_exposure_keys_df.groupby(\n",
    "    [\"sample_date_string\", \"region\"]).key_data.nunique().reset_index() \\\n",
    "    .pivot(index=\"sample_date_string\", columns=\"region\") \\\n",
    "    .sort_index(ascending=False)\n",
    "multi_backend_summary_df.rename(\n",
    "    columns={\"key_data\": \"shared_teks_by_generation_date\"},\n",
    "    inplace=True)\n",
    "multi_backend_summary_df.rename_axis(\"sample_date\", inplace=True)\n",
    "multi_backend_summary_df = multi_backend_summary_df.fillna(0).astype(int)\n",
    "multi_backend_summary_df = multi_backend_summary_df.head(backend_generation_days)\n",
    "multi_backend_summary_df.head()"
   ]
  },
  {
   "cell_type": "code",
   "execution_count": 18,
   "metadata": {
    "collapsed": false,
    "execution": {
     "iopub.execute_input": "2020-11-01T23:21:08.938104Z",
     "iopub.status.busy": "2020-11-01T23:21:08.937547Z",
     "iopub.status.idle": "2020-11-01T23:21:14.099369Z",
     "shell.execute_reply": "2020-11-01T23:21:14.098493Z"
    },
    "papermill": {
     "duration": 5.216058,
     "end_time": "2020-11-01T23:21:14.099502",
     "exception": false,
     "start_time": "2020-11-01T23:21:08.883444",
     "status": "completed"
    },
    "pycharm": {
     "name": "#%%\n"
    },
    "tags": []
   },
   "outputs": [
    {
     "name": "stderr",
     "output_type": "stream",
     "text": [
      "<ipython-input-18-4e21708c19d8>:2: FutureWarning: `item` has been deprecated and will be removed in a future version\n",
      "  teks_x = x.key_data_x.item()\n",
      "<ipython-input-18-4e21708c19d8>:3: FutureWarning: `item` has been deprecated and will be removed in a future version\n",
      "  common_teks = set(teks_x).intersection(x.key_data_y.item())\n"
     ]
    },
    {
     "name": "stderr",
     "output_type": "stream",
     "text": [
      "<ipython-input-18-4e21708c19d8>:33: FutureWarning: `item` has been deprecated and will be removed in a future version\n",
      "  aggfunc=lambda x: x.item())\n"
     ]
    },
    {
     "data": {
      "text/html": [
       "<div>\n",
       "<style scoped>\n",
       "    .dataframe tbody tr th:only-of-type {\n",
       "        vertical-align: middle;\n",
       "    }\n",
       "\n",
       "    .dataframe tbody tr th {\n",
       "        vertical-align: top;\n",
       "    }\n",
       "\n",
       "    .dataframe thead tr th {\n",
       "        text-align: left;\n",
       "    }\n",
       "\n",
       "    .dataframe thead tr:last-of-type th {\n",
       "        text-align: right;\n",
       "    }\n",
       "</style>\n",
       "<table border=\"1\" class=\"dataframe\">\n",
       "  <thead>\n",
       "    <tr>\n",
       "      <th></th>\n",
       "      <th colspan=\"11\" halign=\"left\">common_teks_fraction</th>\n",
       "    </tr>\n",
       "    <tr>\n",
       "      <th>region_x</th>\n",
       "      <th>BE</th>\n",
       "      <th>BE@TST</th>\n",
       "      <th>CH</th>\n",
       "      <th>DE</th>\n",
       "      <th>DK</th>\n",
       "      <th>EE</th>\n",
       "      <th>ES</th>\n",
       "      <th>ES@PRE</th>\n",
       "      <th>IT</th>\n",
       "      <th>MT</th>\n",
       "      <th>PT</th>\n",
       "    </tr>\n",
       "    <tr>\n",
       "      <th>region_y</th>\n",
       "      <th></th>\n",
       "      <th></th>\n",
       "      <th></th>\n",
       "      <th></th>\n",
       "      <th></th>\n",
       "      <th></th>\n",
       "      <th></th>\n",
       "      <th></th>\n",
       "      <th></th>\n",
       "      <th></th>\n",
       "      <th></th>\n",
       "    </tr>\n",
       "  </thead>\n",
       "  <tbody>\n",
       "    <tr>\n",
       "      <th>BE</th>\n",
       "      <td>NaN</td>\n",
       "      <td>0.0</td>\n",
       "      <td>0.000000</td>\n",
       "      <td>0.000000</td>\n",
       "      <td>0.0</td>\n",
       "      <td>0.0</td>\n",
       "      <td>0.000000</td>\n",
       "      <td>0.000000</td>\n",
       "      <td>0.000000</td>\n",
       "      <td>0.0</td>\n",
       "      <td>0.0</td>\n",
       "    </tr>\n",
       "    <tr>\n",
       "      <th>BE@TST</th>\n",
       "      <td>0.0</td>\n",
       "      <td>NaN</td>\n",
       "      <td>0.000000</td>\n",
       "      <td>0.000000</td>\n",
       "      <td>0.0</td>\n",
       "      <td>0.0</td>\n",
       "      <td>0.000000</td>\n",
       "      <td>0.000000</td>\n",
       "      <td>0.000000</td>\n",
       "      <td>0.0</td>\n",
       "      <td>0.0</td>\n",
       "    </tr>\n",
       "    <tr>\n",
       "      <th>CH</th>\n",
       "      <td>0.0</td>\n",
       "      <td>0.0</td>\n",
       "      <td>NaN</td>\n",
       "      <td>0.000064</td>\n",
       "      <td>0.0</td>\n",
       "      <td>0.0</td>\n",
       "      <td>0.000062</td>\n",
       "      <td>0.000000</td>\n",
       "      <td>0.000063</td>\n",
       "      <td>0.0</td>\n",
       "      <td>0.0</td>\n",
       "    </tr>\n",
       "    <tr>\n",
       "      <th>DE</th>\n",
       "      <td>0.0</td>\n",
       "      <td>0.0</td>\n",
       "      <td>0.000151</td>\n",
       "      <td>NaN</td>\n",
       "      <td>0.0</td>\n",
       "      <td>0.0</td>\n",
       "      <td>0.785648</td>\n",
       "      <td>0.000000</td>\n",
       "      <td>0.857480</td>\n",
       "      <td>0.0</td>\n",
       "      <td>0.0</td>\n",
       "    </tr>\n",
       "    <tr>\n",
       "      <th>DK</th>\n",
       "      <td>0.0</td>\n",
       "      <td>0.0</td>\n",
       "      <td>0.000000</td>\n",
       "      <td>0.000000</td>\n",
       "      <td>NaN</td>\n",
       "      <td>0.0</td>\n",
       "      <td>0.000000</td>\n",
       "      <td>0.000000</td>\n",
       "      <td>0.000000</td>\n",
       "      <td>0.0</td>\n",
       "      <td>0.0</td>\n",
       "    </tr>\n",
       "    <tr>\n",
       "      <th>EE</th>\n",
       "      <td>0.0</td>\n",
       "      <td>0.0</td>\n",
       "      <td>0.000000</td>\n",
       "      <td>0.000000</td>\n",
       "      <td>0.0</td>\n",
       "      <td>NaN</td>\n",
       "      <td>0.000000</td>\n",
       "      <td>0.000000</td>\n",
       "      <td>0.000000</td>\n",
       "      <td>0.0</td>\n",
       "      <td>0.0</td>\n",
       "    </tr>\n",
       "    <tr>\n",
       "      <th>ES</th>\n",
       "      <td>0.0</td>\n",
       "      <td>0.0</td>\n",
       "      <td>0.000151</td>\n",
       "      <td>0.808448</td>\n",
       "      <td>0.0</td>\n",
       "      <td>0.0</td>\n",
       "      <td>NaN</td>\n",
       "      <td>0.000700</td>\n",
       "      <td>0.901186</td>\n",
       "      <td>0.0</td>\n",
       "      <td>0.0</td>\n",
       "    </tr>\n",
       "    <tr>\n",
       "      <th>ES@PRE</th>\n",
       "      <td>0.0</td>\n",
       "      <td>0.0</td>\n",
       "      <td>0.000000</td>\n",
       "      <td>0.000000</td>\n",
       "      <td>0.0</td>\n",
       "      <td>0.0</td>\n",
       "      <td>0.000093</td>\n",
       "      <td>NaN</td>\n",
       "      <td>0.000173</td>\n",
       "      <td>0.0</td>\n",
       "      <td>0.0</td>\n",
       "    </tr>\n",
       "    <tr>\n",
       "      <th>IT</th>\n",
       "      <td>0.0</td>\n",
       "      <td>0.0</td>\n",
       "      <td>0.000151</td>\n",
       "      <td>0.875479</td>\n",
       "      <td>0.0</td>\n",
       "      <td>0.0</td>\n",
       "      <td>0.894154</td>\n",
       "      <td>0.001284</td>\n",
       "      <td>NaN</td>\n",
       "      <td>0.0</td>\n",
       "      <td>0.0</td>\n",
       "    </tr>\n",
       "    <tr>\n",
       "      <th>MT</th>\n",
       "      <td>0.0</td>\n",
       "      <td>0.0</td>\n",
       "      <td>0.000000</td>\n",
       "      <td>0.000000</td>\n",
       "      <td>0.0</td>\n",
       "      <td>0.0</td>\n",
       "      <td>0.000000</td>\n",
       "      <td>0.000000</td>\n",
       "      <td>0.000000</td>\n",
       "      <td>NaN</td>\n",
       "      <td>0.0</td>\n",
       "    </tr>\n",
       "    <tr>\n",
       "      <th>PT</th>\n",
       "      <td>0.0</td>\n",
       "      <td>0.0</td>\n",
       "      <td>0.000000</td>\n",
       "      <td>0.000000</td>\n",
       "      <td>0.0</td>\n",
       "      <td>0.0</td>\n",
       "      <td>0.000000</td>\n",
       "      <td>0.000000</td>\n",
       "      <td>0.000000</td>\n",
       "      <td>0.0</td>\n",
       "      <td>NaN</td>\n",
       "    </tr>\n",
       "  </tbody>\n",
       "</table>\n",
       "</div>"
      ],
      "text/plain": [
       "         common_teks_fraction                                                 \\\n",
       "region_x                   BE BE@TST        CH        DE   DK   EE        ES   \n",
       "region_y                                                                       \n",
       "BE                        NaN    0.0  0.000000  0.000000  0.0  0.0  0.000000   \n",
       "BE@TST                    0.0    NaN  0.000000  0.000000  0.0  0.0  0.000000   \n",
       "CH                        0.0    0.0       NaN  0.000064  0.0  0.0  0.000062   \n",
       "DE                        0.0    0.0  0.000151       NaN  0.0  0.0  0.785648   \n",
       "DK                        0.0    0.0  0.000000  0.000000  NaN  0.0  0.000000   \n",
       "EE                        0.0    0.0  0.000000  0.000000  0.0  NaN  0.000000   \n",
       "ES                        0.0    0.0  0.000151  0.808448  0.0  0.0       NaN   \n",
       "ES@PRE                    0.0    0.0  0.000000  0.000000  0.0  0.0  0.000093   \n",
       "IT                        0.0    0.0  0.000151  0.875479  0.0  0.0  0.894154   \n",
       "MT                        0.0    0.0  0.000000  0.000000  0.0  0.0  0.000000   \n",
       "PT                        0.0    0.0  0.000000  0.000000  0.0  0.0  0.000000   \n",
       "\n",
       "                                        \n",
       "region_x    ES@PRE        IT   MT   PT  \n",
       "region_y                                \n",
       "BE        0.000000  0.000000  0.0  0.0  \n",
       "BE@TST    0.000000  0.000000  0.0  0.0  \n",
       "CH        0.000000  0.000063  0.0  0.0  \n",
       "DE        0.000000  0.857480  0.0  0.0  \n",
       "DK        0.000000  0.000000  0.0  0.0  \n",
       "EE        0.000000  0.000000  0.0  0.0  \n",
       "ES        0.000700  0.901186  0.0  0.0  \n",
       "ES@PRE         NaN  0.000173  0.0  0.0  \n",
       "IT        0.001284       NaN  0.0  0.0  \n",
       "MT        0.000000  0.000000  NaN  0.0  \n",
       "PT        0.000000  0.000000  0.0  NaN  "
      ]
     },
     "execution_count": 18,
     "metadata": {},
     "output_type": "execute_result"
    }
   ],
   "source": [
    "def compute_keys_cross_sharing(x):\n",
    "    teks_x = x.key_data_x.item()\n",
    "    common_teks = set(teks_x).intersection(x.key_data_y.item())\n",
    "    common_teks_fraction = len(common_teks) / len(teks_x)\n",
    "    return pd.Series(dict(\n",
    "        common_teks=common_teks,\n",
    "        common_teks_fraction=common_teks_fraction,\n",
    "    ))\n",
    "\n",
    "multi_backend_exposure_keys_by_region_df = \\\n",
    "    multi_backend_exposure_keys_df.groupby(\"region\").key_data.unique().reset_index()\n",
    "multi_backend_exposure_keys_by_region_df[\"_merge\"] = True\n",
    "multi_backend_exposure_keys_by_region_combination_df = \\\n",
    "    multi_backend_exposure_keys_by_region_df.merge(\n",
    "        multi_backend_exposure_keys_by_region_df, on=\"_merge\")\n",
    "multi_backend_exposure_keys_by_region_combination_df.drop(\n",
    "    columns=[\"_merge\"], inplace=True)\n",
    "if multi_backend_exposure_keys_by_region_combination_df.region_x.nunique() > 1:\n",
    "    multi_backend_exposure_keys_by_region_combination_df = \\\n",
    "        multi_backend_exposure_keys_by_region_combination_df[\n",
    "            multi_backend_exposure_keys_by_region_combination_df.region_x !=\n",
    "            multi_backend_exposure_keys_by_region_combination_df.region_y]\n",
    "multi_backend_exposure_keys_cross_sharing_df = \\\n",
    "    multi_backend_exposure_keys_by_region_combination_df \\\n",
    "        .groupby([\"region_x\", \"region_y\"]) \\\n",
    "        .apply(compute_keys_cross_sharing) \\\n",
    "        .reset_index()\n",
    "multi_backend_cross_sharing_summary_df = \\\n",
    "    multi_backend_exposure_keys_cross_sharing_df.pivot_table(\n",
    "        values=[\"common_teks_fraction\"],\n",
    "        columns=\"region_x\",\n",
    "        index=\"region_y\",\n",
    "        aggfunc=lambda x: x.item())\n",
    "multi_backend_cross_sharing_summary_df"
   ]
  },
  {
   "cell_type": "code",
   "execution_count": 19,
   "metadata": {
    "collapsed": false,
    "execution": {
     "iopub.execute_input": "2020-11-01T23:21:14.224041Z",
     "iopub.status.busy": "2020-11-01T23:21:14.223387Z",
     "iopub.status.idle": "2020-11-01T23:21:16.192539Z",
     "shell.execute_reply": "2020-11-01T23:21:16.191687Z"
    },
    "papermill": {
     "duration": 2.047629,
     "end_time": "2020-11-01T23:21:16.192683",
     "exception": false,
     "start_time": "2020-11-01T23:21:14.145054",
     "status": "completed"
    },
    "pycharm": {
     "name": "#%%\n"
    },
    "tags": []
   },
   "outputs": [
    {
     "data": {
      "text/plain": [
       "['EE', 'BE@TST', 'MT', 'PT', 'DK', 'ES@PRE', 'BE', 'CH', 'DE', 'IT']"
      ]
     },
     "execution_count": 19,
     "metadata": {},
     "output_type": "execute_result"
    }
   ],
   "source": [
    "multi_backend_without_active_region_exposure_keys_df = \\\n",
    "    multi_backend_exposure_keys_df[multi_backend_exposure_keys_df.region != report_backend_identifier]\n",
    "multi_backend_without_active_region = \\\n",
    "    multi_backend_without_active_region_exposure_keys_df.groupby(\"region\").key_data.nunique().sort_values().index.unique().tolist()\n",
    "multi_backend_without_active_region"
   ]
  },
  {
   "cell_type": "code",
   "execution_count": 20,
   "metadata": {
    "execution": {
     "iopub.execute_input": "2020-11-01T23:21:16.320290Z",
     "iopub.status.busy": "2020-11-01T23:21:16.319542Z",
     "iopub.status.idle": "2020-11-01T23:21:17.299937Z",
     "shell.execute_reply": "2020-11-01T23:21:17.300686Z"
    },
    "papermill": {
     "duration": 1.062889,
     "end_time": "2020-11-01T23:21:17.300932",
     "exception": false,
     "start_time": "2020-11-01T23:21:16.238043",
     "status": "completed"
    },
    "scrolled": false,
    "tags": []
   },
   "outputs": [
    {
     "name": "stderr",
     "output_type": "stream",
     "text": [
      "/opt/hostedtoolcache/Python/3.8.6/x64/lib/python3.8/site-packages/pandas/core/frame.py:4110: SettingWithCopyWarning: \n",
      "A value is trying to be set on a copy of a slice from a DataFrame\n",
      "\n",
      "See the caveats in the documentation: http://pandas.pydata.org/pandas-docs/stable/user_guide/indexing.html#returning-a-view-versus-a-copy\n",
      "  return super().drop(\n"
     ]
    },
    {
     "data": {
      "text/html": [
       "<div>\n",
       "<style scoped>\n",
       "    .dataframe tbody tr th:only-of-type {\n",
       "        vertical-align: middle;\n",
       "    }\n",
       "\n",
       "    .dataframe tbody tr th {\n",
       "        vertical-align: top;\n",
       "    }\n",
       "\n",
       "    .dataframe thead th {\n",
       "        text-align: right;\n",
       "    }\n",
       "</style>\n",
       "<table border=\"1\" class=\"dataframe\">\n",
       "  <thead>\n",
       "    <tr style=\"text-align: right;\">\n",
       "      <th></th>\n",
       "      <th>shared_teks_by_generation_date</th>\n",
       "    </tr>\n",
       "    <tr>\n",
       "      <th>sample_date_string</th>\n",
       "      <th></th>\n",
       "    </tr>\n",
       "  </thead>\n",
       "  <tbody>\n",
       "    <tr>\n",
       "      <th>2020-11-01</th>\n",
       "      <td>277</td>\n",
       "    </tr>\n",
       "    <tr>\n",
       "      <th>2020-10-31</th>\n",
       "      <td>1343</td>\n",
       "    </tr>\n",
       "    <tr>\n",
       "      <th>2020-10-30</th>\n",
       "      <td>3497</td>\n",
       "    </tr>\n",
       "    <tr>\n",
       "      <th>2020-10-29</th>\n",
       "      <td>5957</td>\n",
       "    </tr>\n",
       "    <tr>\n",
       "      <th>2020-10-28</th>\n",
       "      <td>8294</td>\n",
       "    </tr>\n",
       "  </tbody>\n",
       "</table>\n",
       "</div>"
      ],
      "text/plain": [
       "                    shared_teks_by_generation_date\n",
       "sample_date_string                                \n",
       "2020-11-01                                     277\n",
       "2020-10-31                                    1343\n",
       "2020-10-30                                    3497\n",
       "2020-10-29                                    5957\n",
       "2020-10-28                                    8294"
      ]
     },
     "execution_count": 20,
     "metadata": {},
     "output_type": "execute_result"
    }
   ],
   "source": [
    "exposure_keys_summary_df = multi_backend_exposure_keys_df[\n",
    "    multi_backend_exposure_keys_df.region == report_backend_identifier]\n",
    "exposure_keys_summary_df.drop(columns=[\"region\"], inplace=True)\n",
    "exposure_keys_summary_df = \\\n",
    "    exposure_keys_summary_df.groupby([\"sample_date_string\"]).key_data.nunique().to_frame()\n",
    "exposure_keys_summary_df = \\\n",
    "    exposure_keys_summary_df.reset_index().set_index(\"sample_date_string\")\n",
    "exposure_keys_summary_df.sort_index(ascending=False, inplace=True)\n",
    "exposure_keys_summary_df.rename(columns={\"key_data\": \"shared_teks_by_generation_date\"}, inplace=True)\n",
    "exposure_keys_summary_df.head()"
   ]
  },
  {
   "cell_type": "markdown",
   "metadata": {
    "papermill": {
     "duration": 0.053984,
     "end_time": "2020-11-01T23:21:17.403196",
     "exception": false,
     "start_time": "2020-11-01T23:21:17.349212",
     "status": "completed"
    },
    "tags": []
   },
   "source": [
    "### Dump API TEKs"
   ]
  },
  {
   "cell_type": "code",
   "execution_count": 21,
   "metadata": {
    "execution": {
     "iopub.execute_input": "2020-11-01T23:21:17.509994Z",
     "iopub.status.busy": "2020-11-01T23:21:17.509415Z",
     "iopub.status.idle": "2020-11-01T23:21:19.861351Z",
     "shell.execute_reply": "2020-11-01T23:21:19.861780Z"
    },
    "papermill": {
     "duration": 2.410888,
     "end_time": "2020-11-01T23:21:19.861939",
     "exception": false,
     "start_time": "2020-11-01T23:21:17.451051",
     "status": "completed"
    },
    "tags": []
   },
   "outputs": [
    {
     "data": {
      "text/html": [
       "<div>\n",
       "<style scoped>\n",
       "    .dataframe tbody tr th:only-of-type {\n",
       "        vertical-align: middle;\n",
       "    }\n",
       "\n",
       "    .dataframe tbody tr th {\n",
       "        vertical-align: top;\n",
       "    }\n",
       "\n",
       "    .dataframe thead th {\n",
       "        text-align: right;\n",
       "    }\n",
       "</style>\n",
       "<table border=\"1\" class=\"dataframe\">\n",
       "  <thead>\n",
       "    <tr style=\"text-align: right;\">\n",
       "      <th></th>\n",
       "      <th>sample_date</th>\n",
       "      <th>region</th>\n",
       "      <th>tek_list</th>\n",
       "      <th>extraction_date</th>\n",
       "      <th>extraction_date_with_hour</th>\n",
       "    </tr>\n",
       "  </thead>\n",
       "  <tbody>\n",
       "    <tr>\n",
       "      <th>0</th>\n",
       "      <td>2020-10-19</td>\n",
       "      <td>BE</td>\n",
       "      <td>[005077bc-4e6e-51c1-cbd4-45386d20a4e5, 02f4141...</td>\n",
       "      <td>2020-11-01</td>\n",
       "      <td>2020-11-01@23</td>\n",
       "    </tr>\n",
       "    <tr>\n",
       "      <th>1</th>\n",
       "      <td>2020-10-19</td>\n",
       "      <td>BE@TST</td>\n",
       "      <td>[04584550-ee95-2d6c-57c8-b932ae336b69, 0611ba2...</td>\n",
       "      <td>2020-11-01</td>\n",
       "      <td>2020-11-01@23</td>\n",
       "    </tr>\n",
       "    <tr>\n",
       "      <th>2</th>\n",
       "      <td>2020-10-19</td>\n",
       "      <td>CH</td>\n",
       "      <td>[d7d698cc-300b-30bd-0f12-d14aa789b975, 0d5be03...</td>\n",
       "      <td>2020-11-01</td>\n",
       "      <td>2020-11-01@23</td>\n",
       "    </tr>\n",
       "    <tr>\n",
       "      <th>3</th>\n",
       "      <td>2020-10-19</td>\n",
       "      <td>DE</td>\n",
       "      <td>[0017779e-9de0-f9d0-753b-2c1b39dc806b, 004f4fe...</td>\n",
       "      <td>2020-11-01</td>\n",
       "      <td>2020-11-01@23</td>\n",
       "    </tr>\n",
       "    <tr>\n",
       "      <th>4</th>\n",
       "      <td>2020-10-19</td>\n",
       "      <td>DK</td>\n",
       "      <td>[9b3b0c8d-968f-1b2d-3c20-0496ed3e40d4, cd3f6f8...</td>\n",
       "      <td>2020-11-01</td>\n",
       "      <td>2020-11-01@23</td>\n",
       "    </tr>\n",
       "  </tbody>\n",
       "</table>\n",
       "</div>"
      ],
      "text/plain": [
       "  sample_date  region                                           tek_list  \\\n",
       "0  2020-10-19      BE  [005077bc-4e6e-51c1-cbd4-45386d20a4e5, 02f4141...   \n",
       "1  2020-10-19  BE@TST  [04584550-ee95-2d6c-57c8-b932ae336b69, 0611ba2...   \n",
       "2  2020-10-19      CH  [d7d698cc-300b-30bd-0f12-d14aa789b975, 0d5be03...   \n",
       "3  2020-10-19      DE  [0017779e-9de0-f9d0-753b-2c1b39dc806b, 004f4fe...   \n",
       "4  2020-10-19      DK  [9b3b0c8d-968f-1b2d-3c20-0496ed3e40d4, cd3f6f8...   \n",
       "\n",
       "  extraction_date extraction_date_with_hour  \n",
       "0      2020-11-01             2020-11-01@23  \n",
       "1      2020-11-01             2020-11-01@23  \n",
       "2      2020-11-01             2020-11-01@23  \n",
       "3      2020-11-01             2020-11-01@23  \n",
       "4      2020-11-01             2020-11-01@23  "
      ]
     },
     "execution_count": 21,
     "metadata": {},
     "output_type": "execute_result"
    }
   ],
   "source": [
    "tek_list_df = multi_backend_exposure_keys_df[\n",
    "    [\"sample_date_string\", \"region\", \"key_data\"]].copy()\n",
    "tek_list_df[\"key_data\"] = tek_list_df[\"key_data\"].apply(str)\n",
    "tek_list_df.rename(columns={\n",
    "    \"sample_date_string\": \"sample_date\",\n",
    "    \"key_data\": \"tek_list\"}, inplace=True)\n",
    "tek_list_df = tek_list_df.groupby(\n",
    "    [\"sample_date\", \"region\"]).tek_list.unique().reset_index()\n",
    "tek_list_df[\"extraction_date\"] = extraction_date\n",
    "tek_list_df[\"extraction_date_with_hour\"] = extraction_date_with_hour\n",
    "\n",
    "tek_list_path_prefix = \"Data/TEKs/\"\n",
    "tek_list_current_path = tek_list_path_prefix + f\"/Current/RadarCOVID-TEKs.json\"\n",
    "tek_list_daily_path = tek_list_path_prefix + f\"Daily/RadarCOVID-TEKs-{extraction_date}.json\"\n",
    "tek_list_hourly_path = tek_list_path_prefix + f\"Hourly/RadarCOVID-TEKs-{extraction_date_with_hour}.json\"\n",
    "\n",
    "for path in [tek_list_current_path, tek_list_daily_path, tek_list_hourly_path]:\n",
    "    os.makedirs(os.path.dirname(path), exist_ok=True)\n",
    "\n",
    "tek_list_df.drop(columns=[\"extraction_date\", \"extraction_date_with_hour\"]).to_json(\n",
    "    tek_list_current_path,\n",
    "    lines=True, orient=\"records\")\n",
    "tek_list_df.drop(columns=[\"extraction_date_with_hour\"]).to_json(\n",
    "    tek_list_daily_path,\n",
    "    lines=True, orient=\"records\")\n",
    "tek_list_df.to_json(\n",
    "    tek_list_hourly_path,\n",
    "    lines=True, orient=\"records\")\n",
    "tek_list_df.head()"
   ]
  },
  {
   "cell_type": "markdown",
   "metadata": {
    "papermill": {
     "duration": 0.046273,
     "end_time": "2020-11-01T23:21:19.959759",
     "exception": false,
     "start_time": "2020-11-01T23:21:19.913486",
     "status": "completed"
    },
    "tags": []
   },
   "source": [
    "### Load TEK Dumps"
   ]
  },
  {
   "cell_type": "code",
   "execution_count": 22,
   "metadata": {
    "execution": {
     "iopub.execute_input": "2020-11-01T23:21:20.062272Z",
     "iopub.status.busy": "2020-11-01T23:21:20.061700Z",
     "iopub.status.idle": "2020-11-01T23:21:20.065231Z",
     "shell.execute_reply": "2020-11-01T23:21:20.065636Z"
    },
    "papermill": {
     "duration": 0.059855,
     "end_time": "2020-11-01T23:21:20.065796",
     "exception": false,
     "start_time": "2020-11-01T23:21:20.005941",
     "status": "completed"
    },
    "tags": []
   },
   "outputs": [],
   "source": [
    "import glob\n",
    "\n",
    "def load_extracted_teks(mode, region=None, limit=None) -> pd.DataFrame:\n",
    "    extracted_teks_df = pd.DataFrame(columns=[\"region\"])\n",
    "    file_paths = list(reversed(sorted(glob.glob(tek_list_path_prefix + mode + \"/RadarCOVID-TEKs-*.json\"))))\n",
    "    if limit:\n",
    "        file_paths = file_paths[:limit]\n",
    "    for file_path in file_paths:\n",
    "        logging.info(f\"Loading TEKs from '{file_path}'...\")\n",
    "        iteration_extracted_teks_df = pd.read_json(file_path, lines=True)\n",
    "        extracted_teks_df = extracted_teks_df.append(\n",
    "            iteration_extracted_teks_df, sort=False)\n",
    "    extracted_teks_df[\"region\"] = \\\n",
    "        extracted_teks_df.region.fillna(spain_region_country_code).copy()\n",
    "    if region:\n",
    "        extracted_teks_df = \\\n",
    "            extracted_teks_df[extracted_teks_df.region == region]\n",
    "    return extracted_teks_df"
   ]
  },
  {
   "cell_type": "code",
   "execution_count": 23,
   "metadata": {
    "collapsed": false,
    "execution": {
     "iopub.execute_input": "2020-11-01T23:21:20.175024Z",
     "iopub.status.busy": "2020-11-01T23:21:20.174082Z",
     "iopub.status.idle": "2020-11-01T23:21:21.961053Z",
     "shell.execute_reply": "2020-11-01T23:21:21.960327Z"
    },
    "papermill": {
     "duration": 1.842398,
     "end_time": "2020-11-01T23:21:21.961250",
     "exception": false,
     "start_time": "2020-11-01T23:21:20.118852",
     "status": "completed"
    },
    "pycharm": {
     "name": "#%%\n"
    },
    "tags": []
   },
   "outputs": [
    {
     "data": {
      "text/html": [
       "<div>\n",
       "<style scoped>\n",
       "    .dataframe tbody tr th:only-of-type {\n",
       "        vertical-align: middle;\n",
       "    }\n",
       "\n",
       "    .dataframe tbody tr th {\n",
       "        vertical-align: top;\n",
       "    }\n",
       "\n",
       "    .dataframe thead th {\n",
       "        text-align: right;\n",
       "    }\n",
       "</style>\n",
       "<table border=\"1\" class=\"dataframe\">\n",
       "  <thead>\n",
       "    <tr style=\"text-align: right;\">\n",
       "      <th></th>\n",
       "      <th>region</th>\n",
       "      <th>sample_date</th>\n",
       "      <th>tek_list</th>\n",
       "      <th>extraction_date</th>\n",
       "      <th>extraction_date_with_hour</th>\n",
       "    </tr>\n",
       "  </thead>\n",
       "  <tbody>\n",
       "    <tr>\n",
       "      <th>6</th>\n",
       "      <td>ES</td>\n",
       "      <td>2020-10-19</td>\n",
       "      <td>[93d83356-1883-5faf-f453-f54cbfab0e98, b1bd33b...</td>\n",
       "      <td>2020-11-01</td>\n",
       "      <td>NaN</td>\n",
       "    </tr>\n",
       "    <tr>\n",
       "      <th>17</th>\n",
       "      <td>ES</td>\n",
       "      <td>2020-10-20</td>\n",
       "      <td>[0a5585e9-40a3-6431-9448-62b06f06050e, 534cd69...</td>\n",
       "      <td>2020-11-01</td>\n",
       "      <td>NaN</td>\n",
       "    </tr>\n",
       "    <tr>\n",
       "      <th>28</th>\n",
       "      <td>ES</td>\n",
       "      <td>2020-10-21</td>\n",
       "      <td>[e4c653f1-a6c2-547f-fdae-a12a2d90aaa2, a1f1425...</td>\n",
       "      <td>2020-11-01</td>\n",
       "      <td>NaN</td>\n",
       "    </tr>\n",
       "    <tr>\n",
       "      <th>39</th>\n",
       "      <td>ES</td>\n",
       "      <td>2020-10-22</td>\n",
       "      <td>[2066426a-dfa9-dae3-6821-45da4111ab4c, 2223943...</td>\n",
       "      <td>2020-11-01</td>\n",
       "      <td>NaN</td>\n",
       "    </tr>\n",
       "    <tr>\n",
       "      <th>50</th>\n",
       "      <td>ES</td>\n",
       "      <td>2020-10-23</td>\n",
       "      <td>[b27a86f5-b052-5684-500c-ec1e363f2111, cafd41e...</td>\n",
       "      <td>2020-11-01</td>\n",
       "      <td>NaN</td>\n",
       "    </tr>\n",
       "  </tbody>\n",
       "</table>\n",
       "</div>"
      ],
      "text/plain": [
       "   region sample_date                                           tek_list  \\\n",
       "6      ES  2020-10-19  [93d83356-1883-5faf-f453-f54cbfab0e98, b1bd33b...   \n",
       "17     ES  2020-10-20  [0a5585e9-40a3-6431-9448-62b06f06050e, 534cd69...   \n",
       "28     ES  2020-10-21  [e4c653f1-a6c2-547f-fdae-a12a2d90aaa2, a1f1425...   \n",
       "39     ES  2020-10-22  [2066426a-dfa9-dae3-6821-45da4111ab4c, 2223943...   \n",
       "50     ES  2020-10-23  [b27a86f5-b052-5684-500c-ec1e363f2111, cafd41e...   \n",
       "\n",
       "   extraction_date extraction_date_with_hour  \n",
       "6       2020-11-01                       NaN  \n",
       "17      2020-11-01                       NaN  \n",
       "28      2020-11-01                       NaN  \n",
       "39      2020-11-01                       NaN  \n",
       "50      2020-11-01                       NaN  "
      ]
     },
     "execution_count": 23,
     "metadata": {},
     "output_type": "execute_result"
    }
   ],
   "source": [
    "daily_extracted_teks_df = load_extracted_teks(\n",
    "    mode=\"Daily\",\n",
    "    region=report_backend_identifier,\n",
    "    limit=tek_dumps_load_limit)\n",
    "daily_extracted_teks_df.head()"
   ]
  },
  {
   "cell_type": "code",
   "execution_count": 24,
   "metadata": {
    "collapsed": false,
    "execution": {
     "iopub.execute_input": "2020-11-01T23:21:22.071955Z",
     "iopub.status.busy": "2020-11-01T23:21:22.062280Z",
     "iopub.status.idle": "2020-11-01T23:21:22.077025Z",
     "shell.execute_reply": "2020-11-01T23:21:22.076560Z"
    },
    "papermill": {
     "duration": 0.067299,
     "end_time": "2020-11-01T23:21:22.077149",
     "exception": false,
     "start_time": "2020-11-01T23:21:22.009850",
     "status": "completed"
    },
    "pycharm": {
     "name": "#%%\n"
    },
    "tags": []
   },
   "outputs": [
    {
     "data": {
      "text/html": [
       "<div>\n",
       "<style scoped>\n",
       "    .dataframe tbody tr th:only-of-type {\n",
       "        vertical-align: middle;\n",
       "    }\n",
       "\n",
       "    .dataframe tbody tr th {\n",
       "        vertical-align: top;\n",
       "    }\n",
       "\n",
       "    .dataframe thead th {\n",
       "        text-align: right;\n",
       "    }\n",
       "</style>\n",
       "<table border=\"1\" class=\"dataframe\">\n",
       "  <thead>\n",
       "    <tr style=\"text-align: right;\">\n",
       "      <th></th>\n",
       "      <th>shared_teks_by_generation_date</th>\n",
       "    </tr>\n",
       "    <tr>\n",
       "      <th>sample_date_string</th>\n",
       "      <th></th>\n",
       "    </tr>\n",
       "  </thead>\n",
       "  <tbody>\n",
       "    <tr>\n",
       "      <th>2020-11-01</th>\n",
       "      <td>277</td>\n",
       "    </tr>\n",
       "    <tr>\n",
       "      <th>2020-10-31</th>\n",
       "      <td>1343</td>\n",
       "    </tr>\n",
       "    <tr>\n",
       "      <th>2020-10-30</th>\n",
       "      <td>3497</td>\n",
       "    </tr>\n",
       "    <tr>\n",
       "      <th>2020-10-29</th>\n",
       "      <td>5957</td>\n",
       "    </tr>\n",
       "    <tr>\n",
       "      <th>2020-10-28</th>\n",
       "      <td>8294</td>\n",
       "    </tr>\n",
       "  </tbody>\n",
       "</table>\n",
       "</div>"
      ],
      "text/plain": [
       "                    shared_teks_by_generation_date\n",
       "sample_date_string                                \n",
       "2020-11-01                                     277\n",
       "2020-10-31                                    1343\n",
       "2020-10-30                                    3497\n",
       "2020-10-29                                    5957\n",
       "2020-10-28                                    8294"
      ]
     },
     "execution_count": 24,
     "metadata": {},
     "output_type": "execute_result"
    }
   ],
   "source": [
    "exposure_keys_summary_df_ = daily_extracted_teks_df \\\n",
    "    .sort_values(\"extraction_date\", ascending=False) \\\n",
    "    .groupby(\"sample_date\").tek_list.first() \\\n",
    "    .to_frame()\n",
    "exposure_keys_summary_df_.index.name = \"sample_date_string\"\n",
    "exposure_keys_summary_df_[\"tek_list\"] = \\\n",
    "    exposure_keys_summary_df_.tek_list.apply(len)\n",
    "exposure_keys_summary_df_ = exposure_keys_summary_df_ \\\n",
    "    .rename(columns={\"tek_list\": \"shared_teks_by_generation_date\"}) \\\n",
    "    .sort_index(ascending=False)\n",
    "exposure_keys_summary_df = exposure_keys_summary_df_\n",
    "exposure_keys_summary_df.head()"
   ]
  },
  {
   "cell_type": "markdown",
   "metadata": {
    "execution": {
     "iopub.execute_input": "2020-08-30T22:30:16.632967Z",
     "iopub.status.busy": "2020-08-30T22:30:16.632308Z",
     "iopub.status.idle": "2020-08-30T22:30:16.634945Z",
     "shell.execute_reply": "2020-08-30T22:30:16.635575Z"
    },
    "papermill": {
     "duration": 0.047116,
     "end_time": "2020-11-01T23:21:22.171474",
     "exception": false,
     "start_time": "2020-11-01T23:21:22.124358",
     "status": "completed"
    },
    "pycharm": {
     "name": "#%% md\n"
    },
    "tags": []
   },
   "source": [
    "### Daily New TEKs"
   ]
  },
  {
   "cell_type": "code",
   "execution_count": 25,
   "metadata": {
    "execution": {
     "iopub.execute_input": "2020-11-01T23:21:22.287040Z",
     "iopub.status.busy": "2020-11-01T23:21:22.271079Z",
     "iopub.status.idle": "2020-11-01T23:21:22.421294Z",
     "shell.execute_reply": "2020-11-01T23:21:22.421987Z"
    },
    "papermill": {
     "duration": 0.2039,
     "end_time": "2020-11-01T23:21:22.422144",
     "exception": false,
     "start_time": "2020-11-01T23:21:22.218244",
     "status": "completed"
    },
    "tags": []
   },
   "outputs": [
    {
     "data": {
      "text/html": [
       "<div>\n",
       "<style scoped>\n",
       "    .dataframe tbody tr th:only-of-type {\n",
       "        vertical-align: middle;\n",
       "    }\n",
       "\n",
       "    .dataframe tbody tr th {\n",
       "        vertical-align: top;\n",
       "    }\n",
       "\n",
       "    .dataframe thead th {\n",
       "        text-align: right;\n",
       "    }\n",
       "</style>\n",
       "<table border=\"1\" class=\"dataframe\">\n",
       "  <thead>\n",
       "    <tr style=\"text-align: right;\">\n",
       "      <th></th>\n",
       "      <th>tek_list</th>\n",
       "    </tr>\n",
       "    <tr>\n",
       "      <th>extraction_date</th>\n",
       "      <th></th>\n",
       "    </tr>\n",
       "  </thead>\n",
       "  <tbody>\n",
       "    <tr>\n",
       "      <th>2020-08-29</th>\n",
       "      <td>{4cf38a92-c945-e34e-bf34-6d5ab56e3a12, 441e290...</td>\n",
       "    </tr>\n",
       "    <tr>\n",
       "      <th>2020-08-30</th>\n",
       "      <td>{4cf38a92-c945-e34e-bf34-6d5ab56e3a12, 441e290...</td>\n",
       "    </tr>\n",
       "    <tr>\n",
       "      <th>2020-08-31</th>\n",
       "      <td>{4cf38a92-c945-e34e-bf34-6d5ab56e3a12, 441e290...</td>\n",
       "    </tr>\n",
       "    <tr>\n",
       "      <th>2020-09-01</th>\n",
       "      <td>{de09385c-3262-1836-fdeb-9f574ded76ee, 4cf38a9...</td>\n",
       "    </tr>\n",
       "    <tr>\n",
       "      <th>2020-09-02</th>\n",
       "      <td>{de09385c-3262-1836-fdeb-9f574ded76ee, 4cf38a9...</td>\n",
       "    </tr>\n",
       "  </tbody>\n",
       "</table>\n",
       "</div>"
      ],
      "text/plain": [
       "                                                          tek_list\n",
       "extraction_date                                                   \n",
       "2020-08-29       {4cf38a92-c945-e34e-bf34-6d5ab56e3a12, 441e290...\n",
       "2020-08-30       {4cf38a92-c945-e34e-bf34-6d5ab56e3a12, 441e290...\n",
       "2020-08-31       {4cf38a92-c945-e34e-bf34-6d5ab56e3a12, 441e290...\n",
       "2020-09-01       {de09385c-3262-1836-fdeb-9f574ded76ee, 4cf38a9...\n",
       "2020-09-02       {de09385c-3262-1836-fdeb-9f574ded76ee, 4cf38a9..."
      ]
     },
     "execution_count": 25,
     "metadata": {},
     "output_type": "execute_result"
    }
   ],
   "source": [
    "tek_list_df = daily_extracted_teks_df.groupby(\"extraction_date\").tek_list.apply(\n",
    "    lambda x: set(sum(x, []))).reset_index()\n",
    "tek_list_df = tek_list_df.set_index(\"extraction_date\").sort_index(ascending=True)\n",
    "tek_list_df.head()"
   ]
  },
  {
   "cell_type": "code",
   "execution_count": 26,
   "metadata": {
    "collapsed": false,
    "execution": {
     "iopub.execute_input": "2020-11-01T23:21:22.527727Z",
     "iopub.status.busy": "2020-11-01T23:21:22.527118Z",
     "iopub.status.idle": "2020-11-01T23:21:26.735521Z",
     "shell.execute_reply": "2020-11-01T23:21:26.735068Z"
    },
    "papermill": {
     "duration": 4.266063,
     "end_time": "2020-11-01T23:21:26.735675",
     "exception": false,
     "start_time": "2020-11-01T23:21:22.469612",
     "status": "completed"
    },
    "pycharm": {
     "name": "#%%\n"
    },
    "tags": []
   },
   "outputs": [
    {
     "name": "stderr",
     "output_type": "stream",
     "text": [
      "<ipython-input-26-827222b35590>:4: FutureWarning: `item` has been deprecated and will be removed in a future version\n",
      "  day_new_teks_set = day_new_teks_set_df[\n"
     ]
    },
    {
     "data": {
      "text/html": [
       "<div>\n",
       "<style scoped>\n",
       "    .dataframe tbody tr th:only-of-type {\n",
       "        vertical-align: middle;\n",
       "    }\n",
       "\n",
       "    .dataframe tbody tr th {\n",
       "        vertical-align: top;\n",
       "    }\n",
       "\n",
       "    .dataframe thead th {\n",
       "        text-align: right;\n",
       "    }\n",
       "</style>\n",
       "<table border=\"1\" class=\"dataframe\">\n",
       "  <thead>\n",
       "    <tr style=\"text-align: right;\">\n",
       "      <th></th>\n",
       "      <th>upload_date</th>\n",
       "      <th>generation_date</th>\n",
       "      <th>shared_teks</th>\n",
       "      <th>generation_to_upload_days</th>\n",
       "    </tr>\n",
       "  </thead>\n",
       "  <tbody>\n",
       "    <tr>\n",
       "      <th>10</th>\n",
       "      <td>2020-08-30</td>\n",
       "      <td>2020-08-29</td>\n",
       "      <td>16</td>\n",
       "      <td>1</td>\n",
       "    </tr>\n",
       "    <tr>\n",
       "      <th>9</th>\n",
       "      <td>2020-08-30</td>\n",
       "      <td>2020-08-28</td>\n",
       "      <td>5</td>\n",
       "      <td>2</td>\n",
       "    </tr>\n",
       "    <tr>\n",
       "      <th>8</th>\n",
       "      <td>2020-08-30</td>\n",
       "      <td>2020-08-27</td>\n",
       "      <td>3</td>\n",
       "      <td>3</td>\n",
       "    </tr>\n",
       "    <tr>\n",
       "      <th>7</th>\n",
       "      <td>2020-08-30</td>\n",
       "      <td>2020-08-26</td>\n",
       "      <td>3</td>\n",
       "      <td>4</td>\n",
       "    </tr>\n",
       "    <tr>\n",
       "      <th>6</th>\n",
       "      <td>2020-08-30</td>\n",
       "      <td>2020-08-25</td>\n",
       "      <td>2</td>\n",
       "      <td>5</td>\n",
       "    </tr>\n",
       "  </tbody>\n",
       "</table>\n",
       "</div>"
      ],
      "text/plain": [
       "   upload_date generation_date  shared_teks  generation_to_upload_days\n",
       "10  2020-08-30      2020-08-29           16                          1\n",
       "9   2020-08-30      2020-08-28            5                          2\n",
       "8   2020-08-30      2020-08-27            3                          3\n",
       "7   2020-08-30      2020-08-26            3                          4\n",
       "6   2020-08-30      2020-08-25            2                          5"
      ]
     },
     "execution_count": 26,
     "metadata": {},
     "output_type": "execute_result"
    }
   ],
   "source": [
    "def compute_teks_by_generation_and_upload_date(date):\n",
    "    day_new_teks_set_df = tek_list_df.copy().diff()\n",
    "    try:\n",
    "        day_new_teks_set = day_new_teks_set_df[\n",
    "            day_new_teks_set_df.index == date].tek_list.item()\n",
    "    except ValueError:\n",
    "        day_new_teks_set = None\n",
    "    if pd.isna(day_new_teks_set):\n",
    "        day_new_teks_set = set()\n",
    "    day_new_teks_df = daily_extracted_teks_df[\n",
    "        daily_extracted_teks_df.extraction_date == date].copy()\n",
    "    day_new_teks_df[\"shared_teks\"] = \\\n",
    "        day_new_teks_df.tek_list.apply(lambda x: set(x).intersection(day_new_teks_set))\n",
    "    day_new_teks_df[\"shared_teks\"] = \\\n",
    "        day_new_teks_df.shared_teks.apply(len)\n",
    "    day_new_teks_df[\"upload_date\"] = date\n",
    "    day_new_teks_df.rename(columns={\"sample_date\": \"generation_date\"}, inplace=True)\n",
    "    day_new_teks_df = day_new_teks_df[\n",
    "        [\"upload_date\", \"generation_date\", \"shared_teks\"]]\n",
    "    day_new_teks_df[\"generation_to_upload_days\"] = \\\n",
    "        (pd.to_datetime(day_new_teks_df.upload_date) -\n",
    "         pd.to_datetime(day_new_teks_df.generation_date)).dt.days\n",
    "    day_new_teks_df = day_new_teks_df[day_new_teks_df.shared_teks > 0]\n",
    "    return day_new_teks_df\n",
    "\n",
    "shared_teks_generation_to_upload_df = pd.DataFrame()\n",
    "for upload_date in daily_extracted_teks_df.extraction_date.unique():\n",
    "    shared_teks_generation_to_upload_df = \\\n",
    "        shared_teks_generation_to_upload_df.append(\n",
    "            compute_teks_by_generation_and_upload_date(date=upload_date))\n",
    "shared_teks_generation_to_upload_df \\\n",
    "    .sort_values([\"upload_date\", \"generation_date\"], ascending=False, inplace=True)\n",
    "shared_teks_generation_to_upload_df.tail()"
   ]
  },
  {
   "cell_type": "code",
   "execution_count": 27,
   "metadata": {
    "collapsed": false,
    "execution": {
     "iopub.execute_input": "2020-11-01T23:21:26.843804Z",
     "iopub.status.busy": "2020-11-01T23:21:26.843047Z",
     "iopub.status.idle": "2020-11-01T23:21:26.845509Z",
     "shell.execute_reply": "2020-11-01T23:21:26.845931Z"
    },
    "papermill": {
     "duration": 0.061819,
     "end_time": "2020-11-01T23:21:26.846087",
     "exception": false,
     "start_time": "2020-11-01T23:21:26.784268",
     "status": "completed"
    },
    "pycharm": {
     "name": "#%%\n"
    },
    "tags": []
   },
   "outputs": [
    {
     "data": {
      "text/html": [
       "<div>\n",
       "<style scoped>\n",
       "    .dataframe tbody tr th:only-of-type {\n",
       "        vertical-align: middle;\n",
       "    }\n",
       "\n",
       "    .dataframe tbody tr th {\n",
       "        vertical-align: top;\n",
       "    }\n",
       "\n",
       "    .dataframe thead th {\n",
       "        text-align: right;\n",
       "    }\n",
       "</style>\n",
       "<table border=\"1\" class=\"dataframe\">\n",
       "  <thead>\n",
       "    <tr style=\"text-align: right;\">\n",
       "      <th></th>\n",
       "      <th>upload_date</th>\n",
       "      <th>generation_date</th>\n",
       "      <th>shared_teks</th>\n",
       "      <th>generation_to_upload_days</th>\n",
       "    </tr>\n",
       "  </thead>\n",
       "  <tbody>\n",
       "    <tr>\n",
       "      <th>50</th>\n",
       "      <td>2020-11-01</td>\n",
       "      <td>2020-10-23</td>\n",
       "      <td>1168</td>\n",
       "      <td>9</td>\n",
       "    </tr>\n",
       "    <tr>\n",
       "      <th>39</th>\n",
       "      <td>2020-11-01</td>\n",
       "      <td>2020-10-22</td>\n",
       "      <td>1123</td>\n",
       "      <td>10</td>\n",
       "    </tr>\n",
       "    <tr>\n",
       "      <th>28</th>\n",
       "      <td>2020-11-01</td>\n",
       "      <td>2020-10-21</td>\n",
       "      <td>1075</td>\n",
       "      <td>11</td>\n",
       "    </tr>\n",
       "    <tr>\n",
       "      <th>17</th>\n",
       "      <td>2020-11-01</td>\n",
       "      <td>2020-10-20</td>\n",
       "      <td>1046</td>\n",
       "      <td>12</td>\n",
       "    </tr>\n",
       "    <tr>\n",
       "      <th>6</th>\n",
       "      <td>2020-11-01</td>\n",
       "      <td>2020-10-19</td>\n",
       "      <td>1016</td>\n",
       "      <td>13</td>\n",
       "    </tr>\n",
       "  </tbody>\n",
       "</table>\n",
       "</div>"
      ],
      "text/plain": [
       "   upload_date generation_date  shared_teks  generation_to_upload_days\n",
       "50  2020-11-01      2020-10-23         1168                          9\n",
       "39  2020-11-01      2020-10-22         1123                         10\n",
       "28  2020-11-01      2020-10-21         1075                         11\n",
       "17  2020-11-01      2020-10-20         1046                         12\n",
       "6   2020-11-01      2020-10-19         1016                         13"
      ]
     },
     "execution_count": 27,
     "metadata": {},
     "output_type": "execute_result"
    }
   ],
   "source": [
    "today_new_teks_df = \\\n",
    "    shared_teks_generation_to_upload_df[\n",
    "        shared_teks_generation_to_upload_df.upload_date == extraction_date].copy()\n",
    "today_new_teks_df.tail()"
   ]
  },
  {
   "cell_type": "code",
   "execution_count": 28,
   "metadata": {
    "collapsed": false,
    "execution": {
     "iopub.execute_input": "2020-11-01T23:21:27.057963Z",
     "iopub.status.busy": "2020-11-01T23:21:27.057314Z",
     "iopub.status.idle": "2020-11-01T23:21:27.249312Z",
     "shell.execute_reply": "2020-11-01T23:21:27.249825Z"
    },
    "papermill": {
     "duration": 0.352913,
     "end_time": "2020-11-01T23:21:27.249986",
     "exception": false,
     "start_time": "2020-11-01T23:21:26.897073",
     "status": "completed"
    },
    "pycharm": {
     "name": "#%%\n"
    },
    "tags": []
   },
   "outputs": [
    {
     "data": {
      "image/png": "[encoded data removed]",
      "text/plain": [
       "<Figure size 1080x432 with 1 Axes>"
      ]
     },
     "metadata": {},
     "output_type": "display_data"
    }
   ],
   "source": [
    "if not today_new_teks_df.empty:\n",
    "    today_new_teks_df.set_index(\"generation_to_upload_days\") \\\n",
    "        .sort_index().shared_teks.plot.bar()"
   ]
  },
  {
   "cell_type": "code",
   "execution_count": 29,
   "metadata": {
    "collapsed": false,
    "execution": {
     "iopub.execute_input": "2020-11-01T23:21:27.387361Z",
     "iopub.status.busy": "2020-11-01T23:21:27.386649Z",
     "iopub.status.idle": "2020-11-01T23:21:27.400868Z",
     "shell.execute_reply": "2020-11-01T23:21:27.401463Z"
    },
    "papermill": {
     "duration": 0.101323,
     "end_time": "2020-11-01T23:21:27.401660",
     "exception": false,
     "start_time": "2020-11-01T23:21:27.300337",
     "status": "completed"
    },
    "pycharm": {
     "name": "#%%\n"
    },
    "tags": []
   },
   "outputs": [
    {
     "data": {
      "text/html": [
       "<div>\n",
       "<style scoped>\n",
       "    .dataframe tbody tr th:only-of-type {\n",
       "        vertical-align: middle;\n",
       "    }\n",
       "\n",
       "    .dataframe tbody tr th {\n",
       "        vertical-align: top;\n",
       "    }\n",
       "\n",
       "    .dataframe thead th {\n",
       "        text-align: right;\n",
       "    }\n",
       "</style>\n",
       "<table border=\"1\" class=\"dataframe\">\n",
       "  <thead>\n",
       "    <tr style=\"text-align: right;\">\n",
       "      <th>generation_to_upload_days</th>\n",
       "      <th>0</th>\n",
       "      <th>1</th>\n",
       "      <th>2</th>\n",
       "      <th>3</th>\n",
       "      <th>4</th>\n",
       "      <th>5</th>\n",
       "      <th>6</th>\n",
       "      <th>7</th>\n",
       "      <th>8</th>\n",
       "      <th>9</th>\n",
       "      <th>10</th>\n",
       "      <th>11</th>\n",
       "      <th>12</th>\n",
       "      <th>13</th>\n",
       "    </tr>\n",
       "    <tr>\n",
       "      <th>upload_date</th>\n",
       "      <th></th>\n",
       "      <th></th>\n",
       "      <th></th>\n",
       "      <th></th>\n",
       "      <th></th>\n",
       "      <th></th>\n",
       "      <th></th>\n",
       "      <th></th>\n",
       "      <th></th>\n",
       "      <th></th>\n",
       "      <th></th>\n",
       "      <th></th>\n",
       "      <th></th>\n",
       "      <th></th>\n",
       "    </tr>\n",
       "  </thead>\n",
       "  <tbody>\n",
       "    <tr>\n",
       "      <th>2020-11-01</th>\n",
       "      <td>277</td>\n",
       "      <td>1038</td>\n",
       "      <td>1842</td>\n",
       "      <td>1654</td>\n",
       "      <td>1495</td>\n",
       "      <td>1375</td>\n",
       "      <td>1302</td>\n",
       "      <td>1241</td>\n",
       "      <td>1196</td>\n",
       "      <td>1168</td>\n",
       "      <td>1123</td>\n",
       "      <td>1075</td>\n",
       "      <td>1046</td>\n",
       "      <td>1016</td>\n",
       "    </tr>\n",
       "    <tr>\n",
       "      <th>2020-10-31</th>\n",
       "      <td>305</td>\n",
       "      <td>1273</td>\n",
       "      <td>2163</td>\n",
       "      <td>1934</td>\n",
       "      <td>1766</td>\n",
       "      <td>1671</td>\n",
       "      <td>1578</td>\n",
       "      <td>1507</td>\n",
       "      <td>1461</td>\n",
       "      <td>1416</td>\n",
       "      <td>1370</td>\n",
       "      <td>1326</td>\n",
       "      <td>1292</td>\n",
       "      <td>1266</td>\n",
       "    </tr>\n",
       "    <tr>\n",
       "      <th>2020-10-30</th>\n",
       "      <td>382</td>\n",
       "      <td>1743</td>\n",
       "      <td>4126</td>\n",
       "      <td>6104</td>\n",
       "      <td>7567</td>\n",
       "      <td>8436</td>\n",
       "      <td>9104</td>\n",
       "      <td>10138</td>\n",
       "      <td>9629</td>\n",
       "      <td>9129</td>\n",
       "      <td>8815</td>\n",
       "      <td>8563</td>\n",
       "      <td>8326</td>\n",
       "      <td>8153</td>\n",
       "    </tr>\n",
       "    <tr>\n",
       "      <th>2020-10-29</th>\n",
       "      <td>397</td>\n",
       "      <td>333</td>\n",
       "      <td>285</td>\n",
       "      <td>237</td>\n",
       "      <td>183</td>\n",
       "      <td>139</td>\n",
       "      <td>82</td>\n",
       "      <td>59</td>\n",
       "      <td>50</td>\n",
       "      <td>30</td>\n",
       "      <td>22</td>\n",
       "      <td>14</td>\n",
       "      <td>10</td>\n",
       "      <td>6</td>\n",
       "    </tr>\n",
       "    <tr>\n",
       "      <th>2020-10-28</th>\n",
       "      <td>406</td>\n",
       "      <td>362</td>\n",
       "      <td>328</td>\n",
       "      <td>263</td>\n",
       "      <td>204</td>\n",
       "      <td>138</td>\n",
       "      <td>88</td>\n",
       "      <td>62</td>\n",
       "      <td>35</td>\n",
       "      <td>17</td>\n",
       "      <td>10</td>\n",
       "      <td>7</td>\n",
       "      <td>7</td>\n",
       "      <td>6</td>\n",
       "    </tr>\n",
       "  </tbody>\n",
       "</table>\n",
       "</div>"
      ],
      "text/plain": [
       "generation_to_upload_days   0     1     2     3     4     5     6      7   \\\n",
       "upload_date                                                                 \n",
       "2020-11-01                 277  1038  1842  1654  1495  1375  1302   1241   \n",
       "2020-10-31                 305  1273  2163  1934  1766  1671  1578   1507   \n",
       "2020-10-30                 382  1743  4126  6104  7567  8436  9104  10138   \n",
       "2020-10-29                 397   333   285   237   183   139    82     59   \n",
       "2020-10-28                 406   362   328   263   204   138    88     62   \n",
       "\n",
       "generation_to_upload_days    8     9     10    11    12    13  \n",
       "upload_date                                                    \n",
       "2020-11-01                 1196  1168  1123  1075  1046  1016  \n",
       "2020-10-31                 1461  1416  1370  1326  1292  1266  \n",
       "2020-10-30                 9629  9129  8815  8563  8326  8153  \n",
       "2020-10-29                   50    30    22    14    10     6  \n",
       "2020-10-28                   35    17    10     7     7     6  "
      ]
     },
     "execution_count": 29,
     "metadata": {},
     "output_type": "execute_result"
    }
   ],
   "source": [
    "generation_to_upload_period_pivot_df = \\\n",
    "    shared_teks_generation_to_upload_df[\n",
    "        [\"upload_date\", \"generation_to_upload_days\", \"shared_teks\"]] \\\n",
    "        .pivot(index=\"upload_date\", columns=\"generation_to_upload_days\") \\\n",
    "        .sort_index(ascending=False).fillna(0).astype(int) \\\n",
    "        .droplevel(level=0, axis=1)\n",
    "generation_to_upload_period_pivot_df.head()"
   ]
  },
  {
   "cell_type": "code",
   "execution_count": 30,
   "metadata": {
    "collapsed": false,
    "execution": {
     "iopub.execute_input": "2020-11-01T23:21:27.575979Z",
     "iopub.status.busy": "2020-11-01T23:21:27.574773Z",
     "iopub.status.idle": "2020-11-01T23:21:27.578163Z",
     "shell.execute_reply": "2020-11-01T23:21:27.577695Z"
    },
    "papermill": {
     "duration": 0.118895,
     "end_time": "2020-11-01T23:21:27.578289",
     "exception": false,
     "start_time": "2020-11-01T23:21:27.459394",
     "status": "completed"
    },
    "pycharm": {
     "name": "#%%\n"
    },
    "tags": []
   },
   "outputs": [
    {
     "data": {
      "text/html": [
       "<div>\n",
       "<style scoped>\n",
       "    .dataframe tbody tr th:only-of-type {\n",
       "        vertical-align: middle;\n",
       "    }\n",
       "\n",
       "    .dataframe tbody tr th {\n",
       "        vertical-align: top;\n",
       "    }\n",
       "\n",
       "    .dataframe thead th {\n",
       "        text-align: right;\n",
       "    }\n",
       "</style>\n",
       "<table border=\"1\" class=\"dataframe\">\n",
       "  <thead>\n",
       "    <tr style=\"text-align: right;\">\n",
       "      <th></th>\n",
       "      <th>sample_date_string</th>\n",
       "      <th>shared_teks_by_upload_date</th>\n",
       "    </tr>\n",
       "  </thead>\n",
       "  <tbody>\n",
       "    <tr>\n",
       "      <th>60</th>\n",
       "      <td>2020-10-28</td>\n",
       "      <td>1933.0</td>\n",
       "    </tr>\n",
       "    <tr>\n",
       "      <th>61</th>\n",
       "      <td>2020-10-29</td>\n",
       "      <td>1847.0</td>\n",
       "    </tr>\n",
       "    <tr>\n",
       "      <th>62</th>\n",
       "      <td>2020-10-30</td>\n",
       "      <td>100215.0</td>\n",
       "    </tr>\n",
       "    <tr>\n",
       "      <th>63</th>\n",
       "      <td>2020-10-31</td>\n",
       "      <td>20328.0</td>\n",
       "    </tr>\n",
       "    <tr>\n",
       "      <th>64</th>\n",
       "      <td>2020-11-01</td>\n",
       "      <td>16848.0</td>\n",
       "    </tr>\n",
       "  </tbody>\n",
       "</table>\n",
       "</div>"
      ],
      "text/plain": [
       "   sample_date_string  shared_teks_by_upload_date\n",
       "60         2020-10-28                      1933.0\n",
       "61         2020-10-29                      1847.0\n",
       "62         2020-10-30                    100215.0\n",
       "63         2020-10-31                     20328.0\n",
       "64         2020-11-01                     16848.0"
      ]
     },
     "execution_count": 30,
     "metadata": {},
     "output_type": "execute_result"
    }
   ],
   "source": [
    "new_tek_df = tek_list_df.diff().tek_list.apply(\n",
    "    lambda x: len(x) if not pd.isna(x) else None).to_frame().reset_index()\n",
    "new_tek_df.rename(columns={\n",
    "    \"tek_list\": \"shared_teks_by_upload_date\",\n",
    "    \"extraction_date\": \"sample_date_string\",}, inplace=True)\n",
    "new_tek_df.tail()"
   ]
  },
  {
   "cell_type": "code",
   "execution_count": 31,
   "metadata": {
    "collapsed": false,
    "execution": {
     "iopub.execute_input": "2020-11-01T23:21:27.706530Z",
     "iopub.status.busy": "2020-11-01T23:21:27.705949Z",
     "iopub.status.idle": "2020-11-01T23:21:27.708220Z",
     "shell.execute_reply": "2020-11-01T23:21:27.708651Z"
    },
    "papermill": {
     "duration": 0.073005,
     "end_time": "2020-11-01T23:21:27.708807",
     "exception": false,
     "start_time": "2020-11-01T23:21:27.635802",
     "status": "completed"
    },
    "pycharm": {
     "name": "#%%\n"
    },
    "tags": []
   },
   "outputs": [
    {
     "data": {
      "text/html": [
       "<div>\n",
       "<style scoped>\n",
       "    .dataframe tbody tr th:only-of-type {\n",
       "        vertical-align: middle;\n",
       "    }\n",
       "\n",
       "    .dataframe tbody tr th {\n",
       "        vertical-align: top;\n",
       "    }\n",
       "\n",
       "    .dataframe thead th {\n",
       "        text-align: right;\n",
       "    }\n",
       "</style>\n",
       "<table border=\"1\" class=\"dataframe\">\n",
       "  <thead>\n",
       "    <tr style=\"text-align: right;\">\n",
       "      <th></th>\n",
       "      <th>sample_date_string</th>\n",
       "      <th>shared_teks_uploaded_on_generation_date</th>\n",
       "    </tr>\n",
       "  </thead>\n",
       "  <tbody>\n",
       "    <tr>\n",
       "      <th>142</th>\n",
       "      <td>2020-11-01</td>\n",
       "      <td>277</td>\n",
       "    </tr>\n",
       "    <tr>\n",
       "      <th>141</th>\n",
       "      <td>2020-10-31</td>\n",
       "      <td>305</td>\n",
       "    </tr>\n",
       "    <tr>\n",
       "      <th>142</th>\n",
       "      <td>2020-10-30</td>\n",
       "      <td>382</td>\n",
       "    </tr>\n",
       "    <tr>\n",
       "      <th>105</th>\n",
       "      <td>2020-10-29</td>\n",
       "      <td>397</td>\n",
       "    </tr>\n",
       "    <tr>\n",
       "      <th>141</th>\n",
       "      <td>2020-10-28</td>\n",
       "      <td>406</td>\n",
       "    </tr>\n",
       "  </tbody>\n",
       "</table>\n",
       "</div>"
      ],
      "text/plain": [
       "    sample_date_string  shared_teks_uploaded_on_generation_date\n",
       "142         2020-11-01                                      277\n",
       "141         2020-10-31                                      305\n",
       "142         2020-10-30                                      382\n",
       "105         2020-10-29                                      397\n",
       "141         2020-10-28                                      406"
      ]
     },
     "execution_count": 31,
     "metadata": {},
     "output_type": "execute_result"
    }
   ],
   "source": [
    "shared_teks_uploaded_on_generation_date_df = shared_teks_generation_to_upload_df[\n",
    "    shared_teks_generation_to_upload_df.generation_to_upload_days == 0] \\\n",
    "    [[\"upload_date\", \"shared_teks\"]].rename(\n",
    "    columns={\n",
    "        \"upload_date\": \"sample_date_string\",\n",
    "        \"shared_teks\": \"shared_teks_uploaded_on_generation_date\",\n",
    "    })\n",
    "shared_teks_uploaded_on_generation_date_df.head()"
   ]
  },
  {
   "cell_type": "code",
   "execution_count": 32,
   "metadata": {
    "collapsed": false,
    "execution": {
     "iopub.execute_input": "2020-11-01T23:21:27.822200Z",
     "iopub.status.busy": "2020-11-01T23:21:27.821635Z",
     "iopub.status.idle": "2020-11-01T23:21:27.824672Z",
     "shell.execute_reply": "2020-11-01T23:21:27.824205Z"
    },
    "papermill": {
     "duration": 0.064647,
     "end_time": "2020-11-01T23:21:27.824796",
     "exception": false,
     "start_time": "2020-11-01T23:21:27.760149",
     "status": "completed"
    },
    "pycharm": {
     "name": "#%%\n"
    },
    "tags": []
   },
   "outputs": [
    {
     "data": {
      "text/html": [
       "<div>\n",
       "<style scoped>\n",
       "    .dataframe tbody tr th:only-of-type {\n",
       "        vertical-align: middle;\n",
       "    }\n",
       "\n",
       "    .dataframe tbody tr th {\n",
       "        vertical-align: top;\n",
       "    }\n",
       "\n",
       "    .dataframe thead th {\n",
       "        text-align: right;\n",
       "    }\n",
       "</style>\n",
       "<table border=\"1\" class=\"dataframe\">\n",
       "  <thead>\n",
       "    <tr style=\"text-align: right;\">\n",
       "      <th></th>\n",
       "      <th>sample_date_string</th>\n",
       "      <th>shared_diagnoses</th>\n",
       "    </tr>\n",
       "  </thead>\n",
       "  <tbody>\n",
       "    <tr>\n",
       "      <th>127</th>\n",
       "      <td>2020-11-01</td>\n",
       "      <td>1842</td>\n",
       "    </tr>\n",
       "    <tr>\n",
       "      <th>127</th>\n",
       "      <td>2020-10-31</td>\n",
       "      <td>2163</td>\n",
       "    </tr>\n",
       "    <tr>\n",
       "      <th>127</th>\n",
       "      <td>2020-10-30</td>\n",
       "      <td>4126</td>\n",
       "    </tr>\n",
       "    <tr>\n",
       "      <th>92</th>\n",
       "      <td>2020-10-29</td>\n",
       "      <td>285</td>\n",
       "    </tr>\n",
       "    <tr>\n",
       "      <th>127</th>\n",
       "      <td>2020-10-28</td>\n",
       "      <td>328</td>\n",
       "    </tr>\n",
       "  </tbody>\n",
       "</table>\n",
       "</div>"
      ],
      "text/plain": [
       "    sample_date_string  shared_diagnoses\n",
       "127         2020-11-01              1842\n",
       "127         2020-10-31              2163\n",
       "127         2020-10-30              4126\n",
       "92          2020-10-29               285\n",
       "127         2020-10-28               328"
      ]
     },
     "execution_count": 32,
     "metadata": {},
     "output_type": "execute_result"
    }
   ],
   "source": [
    "estimated_shared_diagnoses_df = shared_teks_generation_to_upload_df[\n",
    "    shared_teks_generation_to_upload_df.generation_to_upload_days == shared_diagnosis_generation_to_upload_days] \\\n",
    "    [[\"upload_date\", \"shared_teks\"]].rename(\n",
    "    columns={\n",
    "        \"upload_date\": \"sample_date_string\",\n",
    "        \"shared_teks\": \"shared_diagnoses\",\n",
    "    })\n",
    "estimated_shared_diagnoses_df.head()"
   ]
  },
  {
   "cell_type": "markdown",
   "metadata": {
    "papermill": {
     "duration": 0.051778,
     "end_time": "2020-11-01T23:21:27.928424",
     "exception": false,
     "start_time": "2020-11-01T23:21:27.876646",
     "status": "completed"
    },
    "pycharm": {
     "name": "#%% md\n"
    },
    "tags": []
   },
   "source": [
    "### Hourly New TEKs"
   ]
  },
  {
   "cell_type": "code",
   "execution_count": 33,
   "metadata": {
    "execution": {
     "iopub.execute_input": "2020-11-01T23:21:28.038533Z",
     "iopub.status.busy": "2020-11-01T23:21:28.037981Z",
     "iopub.status.idle": "2020-11-01T23:21:32.875312Z",
     "shell.execute_reply": "2020-11-01T23:21:32.874843Z"
    },
    "papermill": {
     "duration": 4.895373,
     "end_time": "2020-11-01T23:21:32.875447",
     "exception": false,
     "start_time": "2020-11-01T23:21:27.980074",
     "status": "completed"
    },
    "pycharm": {
     "name": "#%%\n"
    },
    "tags": []
   },
   "outputs": [
    {
     "data": {
      "text/html": [
       "<div>\n",
       "<style scoped>\n",
       "    .dataframe tbody tr th:only-of-type {\n",
       "        vertical-align: middle;\n",
       "    }\n",
       "\n",
       "    .dataframe tbody tr th {\n",
       "        vertical-align: top;\n",
       "    }\n",
       "\n",
       "    .dataframe thead th {\n",
       "        text-align: right;\n",
       "    }\n",
       "</style>\n",
       "<table border=\"1\" class=\"dataframe\">\n",
       "  <thead>\n",
       "    <tr style=\"text-align: right;\">\n",
       "      <th></th>\n",
       "      <th>region</th>\n",
       "      <th>sample_date</th>\n",
       "      <th>tek_list</th>\n",
       "      <th>extraction_date</th>\n",
       "      <th>extraction_date_with_hour</th>\n",
       "    </tr>\n",
       "  </thead>\n",
       "  <tbody>\n",
       "    <tr>\n",
       "      <th>6</th>\n",
       "      <td>ES</td>\n",
       "      <td>2020-10-19</td>\n",
       "      <td>[93d83356-1883-5faf-f453-f54cbfab0e98, b1bd33b...</td>\n",
       "      <td>2020-11-01</td>\n",
       "      <td>2020-11-01@23</td>\n",
       "    </tr>\n",
       "    <tr>\n",
       "      <th>17</th>\n",
       "      <td>ES</td>\n",
       "      <td>2020-10-20</td>\n",
       "      <td>[0a5585e9-40a3-6431-9448-62b06f06050e, 534cd69...</td>\n",
       "      <td>2020-11-01</td>\n",
       "      <td>2020-11-01@23</td>\n",
       "    </tr>\n",
       "    <tr>\n",
       "      <th>28</th>\n",
       "      <td>ES</td>\n",
       "      <td>2020-10-21</td>\n",
       "      <td>[e4c653f1-a6c2-547f-fdae-a12a2d90aaa2, a1f1425...</td>\n",
       "      <td>2020-11-01</td>\n",
       "      <td>2020-11-01@23</td>\n",
       "    </tr>\n",
       "    <tr>\n",
       "      <th>39</th>\n",
       "      <td>ES</td>\n",
       "      <td>2020-10-22</td>\n",
       "      <td>[2066426a-dfa9-dae3-6821-45da4111ab4c, 2223943...</td>\n",
       "      <td>2020-11-01</td>\n",
       "      <td>2020-11-01@23</td>\n",
       "    </tr>\n",
       "    <tr>\n",
       "      <th>50</th>\n",
       "      <td>ES</td>\n",
       "      <td>2020-10-23</td>\n",
       "      <td>[b27a86f5-b052-5684-500c-ec1e363f2111, cafd41e...</td>\n",
       "      <td>2020-11-01</td>\n",
       "      <td>2020-11-01@23</td>\n",
       "    </tr>\n",
       "  </tbody>\n",
       "</table>\n",
       "</div>"
      ],
      "text/plain": [
       "   region sample_date                                           tek_list  \\\n",
       "6      ES  2020-10-19  [93d83356-1883-5faf-f453-f54cbfab0e98, b1bd33b...   \n",
       "17     ES  2020-10-20  [0a5585e9-40a3-6431-9448-62b06f06050e, 534cd69...   \n",
       "28     ES  2020-10-21  [e4c653f1-a6c2-547f-fdae-a12a2d90aaa2, a1f1425...   \n",
       "39     ES  2020-10-22  [2066426a-dfa9-dae3-6821-45da4111ab4c, 2223943...   \n",
       "50     ES  2020-10-23  [b27a86f5-b052-5684-500c-ec1e363f2111, cafd41e...   \n",
       "\n",
       "   extraction_date extraction_date_with_hour  \n",
       "6       2020-11-01             2020-11-01@23  \n",
       "17      2020-11-01             2020-11-01@23  \n",
       "28      2020-11-01             2020-11-01@23  \n",
       "39      2020-11-01             2020-11-01@23  \n",
       "50      2020-11-01             2020-11-01@23  "
      ]
     },
     "execution_count": 33,
     "metadata": {},
     "output_type": "execute_result"
    }
   ],
   "source": [
    "hourly_extracted_teks_df = load_extracted_teks(\n",
    "    mode=\"Hourly\", region=report_backend_identifier, limit=25)\n",
    "hourly_extracted_teks_df.head()"
   ]
  },
  {
   "cell_type": "code",
   "execution_count": 34,
   "metadata": {
    "collapsed": false,
    "execution": {
     "iopub.execute_input": "2020-11-01T23:21:32.987929Z",
     "iopub.status.busy": "2020-11-01T23:21:32.987338Z",
     "iopub.status.idle": "2020-11-01T23:21:34.114145Z",
     "shell.execute_reply": "2020-11-01T23:21:34.113696Z"
    },
    "papermill": {
     "duration": 1.186458,
     "end_time": "2020-11-01T23:21:34.114274",
     "exception": false,
     "start_time": "2020-11-01T23:21:32.927816",
     "status": "completed"
    },
    "pycharm": {
     "name": "#%%\n"
    },
    "tags": []
   },
   "outputs": [
    {
     "data": {
      "text/html": [
       "<div>\n",
       "<style scoped>\n",
       "    .dataframe tbody tr th:only-of-type {\n",
       "        vertical-align: middle;\n",
       "    }\n",
       "\n",
       "    .dataframe tbody tr th {\n",
       "        vertical-align: top;\n",
       "    }\n",
       "\n",
       "    .dataframe thead th {\n",
       "        text-align: right;\n",
       "    }\n",
       "</style>\n",
       "<table border=\"1\" class=\"dataframe\">\n",
       "  <thead>\n",
       "    <tr style=\"text-align: right;\">\n",
       "      <th></th>\n",
       "      <th>extraction_date_with_hour</th>\n",
       "      <th>shared_teks_by_upload_date</th>\n",
       "    </tr>\n",
       "  </thead>\n",
       "  <tbody>\n",
       "    <tr>\n",
       "      <th>0</th>\n",
       "      <td>2020-10-31@23</td>\n",
       "      <td>0</td>\n",
       "    </tr>\n",
       "    <tr>\n",
       "      <th>1</th>\n",
       "      <td>2020-11-01@00</td>\n",
       "      <td>42</td>\n",
       "    </tr>\n",
       "    <tr>\n",
       "      <th>2</th>\n",
       "      <td>2020-11-01@01</td>\n",
       "      <td>0</td>\n",
       "    </tr>\n",
       "    <tr>\n",
       "      <th>3</th>\n",
       "      <td>2020-11-01@02</td>\n",
       "      <td>22</td>\n",
       "    </tr>\n",
       "    <tr>\n",
       "      <th>4</th>\n",
       "      <td>2020-11-01@03</td>\n",
       "      <td>0</td>\n",
       "    </tr>\n",
       "  </tbody>\n",
       "</table>\n",
       "</div>"
      ],
      "text/plain": [
       "  extraction_date_with_hour  shared_teks_by_upload_date\n",
       "0             2020-10-31@23                           0\n",
       "1             2020-11-01@00                          42\n",
       "2             2020-11-01@01                           0\n",
       "3             2020-11-01@02                          22\n",
       "4             2020-11-01@03                           0"
      ]
     },
     "execution_count": 34,
     "metadata": {},
     "output_type": "execute_result"
    }
   ],
   "source": [
    "hourly_new_tek_count_df = hourly_extracted_teks_df \\\n",
    "    .groupby(\"extraction_date_with_hour\").tek_list. \\\n",
    "    apply(lambda x: set(sum(x, []))).reset_index().copy()\n",
    "hourly_new_tek_count_df = hourly_new_tek_count_df.set_index(\"extraction_date_with_hour\") \\\n",
    "    .sort_index(ascending=True)\n",
    "\n",
    "hourly_new_tek_count_df[\"new_tek_list\"] = hourly_new_tek_count_df.tek_list.diff()\n",
    "hourly_new_tek_count_df[\"new_tek_count\"] = hourly_new_tek_count_df.new_tek_list.apply(\n",
    "    lambda x: len(x) if not pd.isna(x) else 0)\n",
    "hourly_new_tek_count_df.rename(columns={\n",
    "    \"new_tek_count\": \"shared_teks_by_upload_date\"}, inplace=True)\n",
    "hourly_new_tek_count_df = hourly_new_tek_count_df.reset_index()[[\n",
    "    \"extraction_date_with_hour\", \"shared_teks_by_upload_date\"]]\n",
    "hourly_new_tek_count_df.head()"
   ]
  },
  {
   "cell_type": "code",
   "execution_count": 35,
   "metadata": {
    "collapsed": false,
    "execution": {
     "iopub.execute_input": "2020-11-01T23:21:34.239222Z",
     "iopub.status.busy": "2020-11-01T23:21:34.238632Z",
     "iopub.status.idle": "2020-11-01T23:21:34.240900Z",
     "shell.execute_reply": "2020-11-01T23:21:34.241322Z"
    },
    "papermill": {
     "duration": 0.072296,
     "end_time": "2020-11-01T23:21:34.241480",
     "exception": false,
     "start_time": "2020-11-01T23:21:34.169184",
     "status": "completed"
    },
    "pycharm": {
     "name": "#%%\n"
    },
    "tags": []
   },
   "outputs": [
    {
     "data": {
      "text/html": [
       "<div>\n",
       "<style scoped>\n",
       "    .dataframe tbody tr th:only-of-type {\n",
       "        vertical-align: middle;\n",
       "    }\n",
       "\n",
       "    .dataframe tbody tr th {\n",
       "        vertical-align: top;\n",
       "    }\n",
       "\n",
       "    .dataframe thead th {\n",
       "        text-align: right;\n",
       "    }\n",
       "</style>\n",
       "<table border=\"1\" class=\"dataframe\">\n",
       "  <thead>\n",
       "    <tr style=\"text-align: right;\">\n",
       "      <th></th>\n",
       "      <th>extraction_date_with_hour</th>\n",
       "      <th>shared_teks_by_upload_date</th>\n",
       "    </tr>\n",
       "    <tr>\n",
       "      <th>datetime_utc</th>\n",
       "      <th></th>\n",
       "      <th></th>\n",
       "    </tr>\n",
       "  </thead>\n",
       "  <tbody>\n",
       "    <tr>\n",
       "      <th>2020-11-01 00:00:00</th>\n",
       "      <td>2020-11-01@00</td>\n",
       "      <td>42</td>\n",
       "    </tr>\n",
       "    <tr>\n",
       "      <th>2020-11-01 01:00:00</th>\n",
       "      <td>2020-11-01@01</td>\n",
       "      <td>0</td>\n",
       "    </tr>\n",
       "    <tr>\n",
       "      <th>2020-11-01 02:00:00</th>\n",
       "      <td>2020-11-01@02</td>\n",
       "      <td>22</td>\n",
       "    </tr>\n",
       "    <tr>\n",
       "      <th>2020-11-01 03:00:00</th>\n",
       "      <td>2020-11-01@03</td>\n",
       "      <td>0</td>\n",
       "    </tr>\n",
       "    <tr>\n",
       "      <th>2020-11-01 04:00:00</th>\n",
       "      <td>2020-11-01@04</td>\n",
       "      <td>7712</td>\n",
       "    </tr>\n",
       "  </tbody>\n",
       "</table>\n",
       "</div>"
      ],
      "text/plain": [
       "                    extraction_date_with_hour  shared_teks_by_upload_date\n",
       "datetime_utc                                                             \n",
       "2020-11-01 00:00:00             2020-11-01@00                          42\n",
       "2020-11-01 01:00:00             2020-11-01@01                           0\n",
       "2020-11-01 02:00:00             2020-11-01@02                          22\n",
       "2020-11-01 03:00:00             2020-11-01@03                           0\n",
       "2020-11-01 04:00:00             2020-11-01@04                        7712"
      ]
     },
     "execution_count": 35,
     "metadata": {},
     "output_type": "execute_result"
    }
   ],
   "source": [
    "hourly_summary_df = hourly_new_tek_count_df.copy()\n",
    "hourly_summary_df.set_index(\"extraction_date_with_hour\", inplace=True)\n",
    "hourly_summary_df = hourly_summary_df.fillna(0).astype(int).reset_index()\n",
    "hourly_summary_df[\"datetime_utc\"] = pd.to_datetime(\n",
    "    hourly_summary_df.extraction_date_with_hour, format=\"%Y-%m-%d@%H\")\n",
    "hourly_summary_df.set_index(\"datetime_utc\", inplace=True)\n",
    "hourly_summary_df = hourly_summary_df.tail(-1)\n",
    "hourly_summary_df.head()"
   ]
  },
  {
   "cell_type": "markdown",
   "metadata": {
    "collapsed": false,
    "papermill": {
     "duration": 0.05257,
     "end_time": "2020-11-01T23:21:34.346998",
     "exception": false,
     "start_time": "2020-11-01T23:21:34.294428",
     "status": "completed"
    },
    "pycharm": {
     "name": "#%% md\n"
    },
    "tags": []
   },
   "source": [
    "### Data Merge"
   ]
  },
  {
   "cell_type": "code",
   "execution_count": 36,
   "metadata": {
    "collapsed": false,
    "execution": {
     "iopub.execute_input": "2020-11-01T23:21:34.469988Z",
     "iopub.status.busy": "2020-11-01T23:21:34.469265Z",
     "iopub.status.idle": "2020-11-01T23:21:34.471764Z",
     "shell.execute_reply": "2020-11-01T23:21:34.472196Z"
    },
    "papermill": {
     "duration": 0.072048,
     "end_time": "2020-11-01T23:21:34.472355",
     "exception": false,
     "start_time": "2020-11-01T23:21:34.400307",
     "status": "completed"
    },
    "pycharm": {
     "name": "#%%\n"
    },
    "tags": []
   },
   "outputs": [
    {
     "data": {
      "text/html": [
       "<div>\n",
       "<style scoped>\n",
       "    .dataframe tbody tr th:only-of-type {\n",
       "        vertical-align: middle;\n",
       "    }\n",
       "\n",
       "    .dataframe tbody tr th {\n",
       "        vertical-align: top;\n",
       "    }\n",
       "\n",
       "    .dataframe thead th {\n",
       "        text-align: right;\n",
       "    }\n",
       "</style>\n",
       "<table border=\"1\" class=\"dataframe\">\n",
       "  <thead>\n",
       "    <tr style=\"text-align: right;\">\n",
       "      <th></th>\n",
       "      <th>sample_date_string</th>\n",
       "      <th>shared_teks_by_generation_date</th>\n",
       "      <th>shared_teks_by_upload_date</th>\n",
       "    </tr>\n",
       "  </thead>\n",
       "  <tbody>\n",
       "    <tr>\n",
       "      <th>0</th>\n",
       "      <td>2020-11-01</td>\n",
       "      <td>277</td>\n",
       "      <td>16848.0</td>\n",
       "    </tr>\n",
       "    <tr>\n",
       "      <th>1</th>\n",
       "      <td>2020-10-31</td>\n",
       "      <td>1343</td>\n",
       "      <td>20328.0</td>\n",
       "    </tr>\n",
       "    <tr>\n",
       "      <th>2</th>\n",
       "      <td>2020-10-30</td>\n",
       "      <td>3497</td>\n",
       "      <td>100215.0</td>\n",
       "    </tr>\n",
       "    <tr>\n",
       "      <th>3</th>\n",
       "      <td>2020-10-29</td>\n",
       "      <td>5957</td>\n",
       "      <td>1847.0</td>\n",
       "    </tr>\n",
       "    <tr>\n",
       "      <th>4</th>\n",
       "      <td>2020-10-28</td>\n",
       "      <td>8294</td>\n",
       "      <td>1933.0</td>\n",
       "    </tr>\n",
       "  </tbody>\n",
       "</table>\n",
       "</div>"
      ],
      "text/plain": [
       "  sample_date_string  shared_teks_by_generation_date  \\\n",
       "0         2020-11-01                             277   \n",
       "1         2020-10-31                            1343   \n",
       "2         2020-10-30                            3497   \n",
       "3         2020-10-29                            5957   \n",
       "4         2020-10-28                            8294   \n",
       "\n",
       "   shared_teks_by_upload_date  \n",
       "0                     16848.0  \n",
       "1                     20328.0  \n",
       "2                    100215.0  \n",
       "3                      1847.0  \n",
       "4                      1933.0  "
      ]
     },
     "execution_count": 36,
     "metadata": {},
     "output_type": "execute_result"
    }
   ],
   "source": [
    "result_summary_df = exposure_keys_summary_df.merge(\n",
    "    new_tek_df, on=[\"sample_date_string\"], how=\"outer\")\n",
    "result_summary_df.head()"
   ]
  },
  {
   "cell_type": "code",
   "execution_count": 37,
   "metadata": {
    "execution": {
     "iopub.execute_input": "2020-11-01T23:21:34.597662Z",
     "iopub.status.busy": "2020-11-01T23:21:34.596700Z",
     "iopub.status.idle": "2020-11-01T23:21:34.599785Z",
     "shell.execute_reply": "2020-11-01T23:21:34.600210Z"
    },
    "papermill": {
     "duration": 0.072574,
     "end_time": "2020-11-01T23:21:34.600365",
     "exception": false,
     "start_time": "2020-11-01T23:21:34.527791",
     "status": "completed"
    },
    "tags": []
   },
   "outputs": [
    {
     "data": {
      "text/html": [
       "<div>\n",
       "<style scoped>\n",
       "    .dataframe tbody tr th:only-of-type {\n",
       "        vertical-align: middle;\n",
       "    }\n",
       "\n",
       "    .dataframe tbody tr th {\n",
       "        vertical-align: top;\n",
       "    }\n",
       "\n",
       "    .dataframe thead th {\n",
       "        text-align: right;\n",
       "    }\n",
       "</style>\n",
       "<table border=\"1\" class=\"dataframe\">\n",
       "  <thead>\n",
       "    <tr style=\"text-align: right;\">\n",
       "      <th></th>\n",
       "      <th>sample_date_string</th>\n",
       "      <th>shared_teks_by_generation_date</th>\n",
       "      <th>shared_teks_by_upload_date</th>\n",
       "      <th>shared_teks_uploaded_on_generation_date</th>\n",
       "    </tr>\n",
       "  </thead>\n",
       "  <tbody>\n",
       "    <tr>\n",
       "      <th>0</th>\n",
       "      <td>2020-11-01</td>\n",
       "      <td>277</td>\n",
       "      <td>16848.0</td>\n",
       "      <td>277.0</td>\n",
       "    </tr>\n",
       "    <tr>\n",
       "      <th>1</th>\n",
       "      <td>2020-10-31</td>\n",
       "      <td>1343</td>\n",
       "      <td>20328.0</td>\n",
       "      <td>305.0</td>\n",
       "    </tr>\n",
       "    <tr>\n",
       "      <th>2</th>\n",
       "      <td>2020-10-30</td>\n",
       "      <td>3497</td>\n",
       "      <td>100215.0</td>\n",
       "      <td>382.0</td>\n",
       "    </tr>\n",
       "    <tr>\n",
       "      <th>3</th>\n",
       "      <td>2020-10-29</td>\n",
       "      <td>5957</td>\n",
       "      <td>1847.0</td>\n",
       "      <td>397.0</td>\n",
       "    </tr>\n",
       "    <tr>\n",
       "      <th>4</th>\n",
       "      <td>2020-10-28</td>\n",
       "      <td>8294</td>\n",
       "      <td>1933.0</td>\n",
       "      <td>406.0</td>\n",
       "    </tr>\n",
       "  </tbody>\n",
       "</table>\n",
       "</div>"
      ],
      "text/plain": [
       "  sample_date_string  shared_teks_by_generation_date  \\\n",
       "0         2020-11-01                             277   \n",
       "1         2020-10-31                            1343   \n",
       "2         2020-10-30                            3497   \n",
       "3         2020-10-29                            5957   \n",
       "4         2020-10-28                            8294   \n",
       "\n",
       "   shared_teks_by_upload_date  shared_teks_uploaded_on_generation_date  \n",
       "0                     16848.0                                    277.0  \n",
       "1                     20328.0                                    305.0  \n",
       "2                    100215.0                                    382.0  \n",
       "3                      1847.0                                    397.0  \n",
       "4                      1933.0                                    406.0  "
      ]
     },
     "execution_count": 37,
     "metadata": {},
     "output_type": "execute_result"
    }
   ],
   "source": [
    "result_summary_df = result_summary_df.merge(\n",
    "    shared_teks_uploaded_on_generation_date_df, on=[\"sample_date_string\"], how=\"outer\")\n",
    "result_summary_df.head()"
   ]
  },
  {
   "cell_type": "code",
   "execution_count": 38,
   "metadata": {
    "collapsed": false,
    "execution": {
     "iopub.execute_input": "2020-11-01T23:21:34.730653Z",
     "iopub.status.busy": "2020-11-01T23:21:34.730015Z",
     "iopub.status.idle": "2020-11-01T23:21:34.732727Z",
     "shell.execute_reply": "2020-11-01T23:21:34.732191Z"
    },
    "papermill": {
     "duration": 0.077754,
     "end_time": "2020-11-01T23:21:34.732852",
     "exception": false,
     "start_time": "2020-11-01T23:21:34.655098",
     "status": "completed"
    },
    "pycharm": {
     "name": "#%%\n"
    },
    "tags": []
   },
   "outputs": [
    {
     "data": {
      "text/html": [
       "<div>\n",
       "<style scoped>\n",
       "    .dataframe tbody tr th:only-of-type {\n",
       "        vertical-align: middle;\n",
       "    }\n",
       "\n",
       "    .dataframe tbody tr th {\n",
       "        vertical-align: top;\n",
       "    }\n",
       "\n",
       "    .dataframe thead th {\n",
       "        text-align: right;\n",
       "    }\n",
       "</style>\n",
       "<table border=\"1\" class=\"dataframe\">\n",
       "  <thead>\n",
       "    <tr style=\"text-align: right;\">\n",
       "      <th></th>\n",
       "      <th>sample_date_string</th>\n",
       "      <th>shared_teks_by_generation_date</th>\n",
       "      <th>shared_teks_by_upload_date</th>\n",
       "      <th>shared_teks_uploaded_on_generation_date</th>\n",
       "      <th>shared_diagnoses</th>\n",
       "    </tr>\n",
       "  </thead>\n",
       "  <tbody>\n",
       "    <tr>\n",
       "      <th>0</th>\n",
       "      <td>2020-11-01</td>\n",
       "      <td>277</td>\n",
       "      <td>16848.0</td>\n",
       "      <td>277.0</td>\n",
       "      <td>1842.0</td>\n",
       "    </tr>\n",
       "    <tr>\n",
       "      <th>1</th>\n",
       "      <td>2020-10-31</td>\n",
       "      <td>1343</td>\n",
       "      <td>20328.0</td>\n",
       "      <td>305.0</td>\n",
       "      <td>2163.0</td>\n",
       "    </tr>\n",
       "    <tr>\n",
       "      <th>2</th>\n",
       "      <td>2020-10-30</td>\n",
       "      <td>3497</td>\n",
       "      <td>100215.0</td>\n",
       "      <td>382.0</td>\n",
       "      <td>4126.0</td>\n",
       "    </tr>\n",
       "    <tr>\n",
       "      <th>3</th>\n",
       "      <td>2020-10-29</td>\n",
       "      <td>5957</td>\n",
       "      <td>1847.0</td>\n",
       "      <td>397.0</td>\n",
       "      <td>285.0</td>\n",
       "    </tr>\n",
       "    <tr>\n",
       "      <th>4</th>\n",
       "      <td>2020-10-28</td>\n",
       "      <td>8294</td>\n",
       "      <td>1933.0</td>\n",
       "      <td>406.0</td>\n",
       "      <td>328.0</td>\n",
       "    </tr>\n",
       "  </tbody>\n",
       "</table>\n",
       "</div>"
      ],
      "text/plain": [
       "  sample_date_string  shared_teks_by_generation_date  \\\n",
       "0         2020-11-01                             277   \n",
       "1         2020-10-31                            1343   \n",
       "2         2020-10-30                            3497   \n",
       "3         2020-10-29                            5957   \n",
       "4         2020-10-28                            8294   \n",
       "\n",
       "   shared_teks_by_upload_date  shared_teks_uploaded_on_generation_date  \\\n",
       "0                     16848.0                                    277.0   \n",
       "1                     20328.0                                    305.0   \n",
       "2                    100215.0                                    382.0   \n",
       "3                      1847.0                                    397.0   \n",
       "4                      1933.0                                    406.0   \n",
       "\n",
       "   shared_diagnoses  \n",
       "0            1842.0  \n",
       "1            2163.0  \n",
       "2            4126.0  \n",
       "3             285.0  \n",
       "4             328.0  "
      ]
     },
     "execution_count": 38,
     "metadata": {},
     "output_type": "execute_result"
    }
   ],
   "source": [
    "result_summary_df = result_summary_df.merge(\n",
    "    estimated_shared_diagnoses_df, on=[\"sample_date_string\"], how=\"outer\")\n",
    "result_summary_df.head()"
   ]
  },
  {
   "cell_type": "code",
   "execution_count": 39,
   "metadata": {
    "collapsed": false,
    "execution": {
     "iopub.execute_input": "2020-11-01T23:21:34.873145Z",
     "iopub.status.busy": "2020-11-01T23:21:34.872453Z",
     "iopub.status.idle": "2020-11-01T23:21:34.875962Z",
     "shell.execute_reply": "2020-11-01T23:21:34.876377Z"
    },
    "papermill": {
     "duration": 0.08776,
     "end_time": "2020-11-01T23:21:34.876537",
     "exception": false,
     "start_time": "2020-11-01T23:21:34.788777",
     "status": "completed"
    },
    "pycharm": {
     "name": "#%%\n"
    },
    "tags": []
   },
   "outputs": [
    {
     "data": {
      "text/html": [
       "<div>\n",
       "<style scoped>\n",
       "    .dataframe tbody tr th:only-of-type {\n",
       "        vertical-align: middle;\n",
       "    }\n",
       "\n",
       "    .dataframe tbody tr th {\n",
       "        vertical-align: top;\n",
       "    }\n",
       "\n",
       "    .dataframe thead th {\n",
       "        text-align: right;\n",
       "    }\n",
       "</style>\n",
       "<table border=\"1\" class=\"dataframe\">\n",
       "  <thead>\n",
       "    <tr style=\"text-align: right;\">\n",
       "      <th></th>\n",
       "      <th>sample_date_string</th>\n",
       "      <th>new_cases</th>\n",
       "      <th>covid_cases</th>\n",
       "      <th>shared_teks_by_generation_date</th>\n",
       "      <th>shared_teks_by_upload_date</th>\n",
       "      <th>shared_teks_uploaded_on_generation_date</th>\n",
       "      <th>shared_diagnoses</th>\n",
       "    </tr>\n",
       "  </thead>\n",
       "  <tbody>\n",
       "    <tr>\n",
       "      <th>0</th>\n",
       "      <td>2020-08-10</td>\n",
       "      <td>9587</td>\n",
       "      <td>4992.0</td>\n",
       "      <td>NaN</td>\n",
       "      <td>NaN</td>\n",
       "      <td>NaN</td>\n",
       "      <td>NaN</td>\n",
       "    </tr>\n",
       "    <tr>\n",
       "      <th>1</th>\n",
       "      <td>2020-08-11</td>\n",
       "      <td>4916</td>\n",
       "      <td>4716.0</td>\n",
       "      <td>NaN</td>\n",
       "      <td>NaN</td>\n",
       "      <td>NaN</td>\n",
       "      <td>NaN</td>\n",
       "    </tr>\n",
       "    <tr>\n",
       "      <th>2</th>\n",
       "      <td>2020-08-12</td>\n",
       "      <td>4853</td>\n",
       "      <td>4848.0</td>\n",
       "      <td>NaN</td>\n",
       "      <td>NaN</td>\n",
       "      <td>NaN</td>\n",
       "      <td>NaN</td>\n",
       "    </tr>\n",
       "    <tr>\n",
       "      <th>3</th>\n",
       "      <td>2020-08-13</td>\n",
       "      <td>9508</td>\n",
       "      <td>5410.0</td>\n",
       "      <td>NaN</td>\n",
       "      <td>NaN</td>\n",
       "      <td>NaN</td>\n",
       "      <td>NaN</td>\n",
       "    </tr>\n",
       "    <tr>\n",
       "      <th>4</th>\n",
       "      <td>2020-08-14</td>\n",
       "      <td>7545</td>\n",
       "      <td>5610.0</td>\n",
       "      <td>NaN</td>\n",
       "      <td>NaN</td>\n",
       "      <td>NaN</td>\n",
       "      <td>NaN</td>\n",
       "    </tr>\n",
       "  </tbody>\n",
       "</table>\n",
       "</div>"
      ],
      "text/plain": [
       "  sample_date_string  new_cases  covid_cases  shared_teks_by_generation_date  \\\n",
       "0         2020-08-10       9587       4992.0                             NaN   \n",
       "1         2020-08-11       4916       4716.0                             NaN   \n",
       "2         2020-08-12       4853       4848.0                             NaN   \n",
       "3         2020-08-13       9508       5410.0                             NaN   \n",
       "4         2020-08-14       7545       5610.0                             NaN   \n",
       "\n",
       "   shared_teks_by_upload_date  shared_teks_uploaded_on_generation_date  \\\n",
       "0                         NaN                                      NaN   \n",
       "1                         NaN                                      NaN   \n",
       "2                         NaN                                      NaN   \n",
       "3                         NaN                                      NaN   \n",
       "4                         NaN                                      NaN   \n",
       "\n",
       "   shared_diagnoses  \n",
       "0               NaN  \n",
       "1               NaN  \n",
       "2               NaN  \n",
       "3               NaN  \n",
       "4               NaN  "
      ]
     },
     "execution_count": 39,
     "metadata": {},
     "output_type": "execute_result"
    }
   ],
   "source": [
    "result_summary_df = confirmed_df.tail(daily_summary_days).merge(\n",
    "    result_summary_df, on=[\"sample_date_string\"], how=\"left\")\n",
    "result_summary_df.head()"
   ]
  },
  {
   "cell_type": "code",
   "execution_count": 40,
   "metadata": {
    "collapsed": false,
    "execution": {
     "iopub.execute_input": "2020-11-01T23:21:35.001955Z",
     "iopub.status.busy": "2020-11-01T23:21:34.992413Z",
     "iopub.status.idle": "2020-11-01T23:21:35.004641Z",
     "shell.execute_reply": "2020-11-01T23:21:35.005075Z"
    },
    "papermill": {
     "duration": 0.074158,
     "end_time": "2020-11-01T23:21:35.005243",
     "exception": false,
     "start_time": "2020-11-01T23:21:34.931085",
     "status": "completed"
    },
    "pycharm": {
     "name": "#%%\n"
    },
    "tags": []
   },
   "outputs": [
    {
     "data": {
      "text/html": [
       "<div>\n",
       "<style scoped>\n",
       "    .dataframe tbody tr th:only-of-type {\n",
       "        vertical-align: middle;\n",
       "    }\n",
       "\n",
       "    .dataframe tbody tr th {\n",
       "        vertical-align: top;\n",
       "    }\n",
       "\n",
       "    .dataframe thead th {\n",
       "        text-align: right;\n",
       "    }\n",
       "</style>\n",
       "<table border=\"1\" class=\"dataframe\">\n",
       "  <thead>\n",
       "    <tr style=\"text-align: right;\">\n",
       "      <th></th>\n",
       "      <th>new_cases</th>\n",
       "      <th>covid_cases</th>\n",
       "      <th>shared_teks_by_generation_date</th>\n",
       "      <th>shared_teks_by_upload_date</th>\n",
       "      <th>shared_teks_uploaded_on_generation_date</th>\n",
       "      <th>shared_diagnoses</th>\n",
       "    </tr>\n",
       "    <tr>\n",
       "      <th>sample_date</th>\n",
       "      <th></th>\n",
       "      <th></th>\n",
       "      <th></th>\n",
       "      <th></th>\n",
       "      <th></th>\n",
       "      <th></th>\n",
       "    </tr>\n",
       "  </thead>\n",
       "  <tbody>\n",
       "    <tr>\n",
       "      <th>2020-11-01</th>\n",
       "      <td>46545</td>\n",
       "      <td>60713.0</td>\n",
       "      <td>277.0</td>\n",
       "      <td>16848.0</td>\n",
       "      <td>277.0</td>\n",
       "      <td>1842.0</td>\n",
       "    </tr>\n",
       "    <tr>\n",
       "      <th>2020-10-31</th>\n",
       "      <td>51184</td>\n",
       "      <td>58624.0</td>\n",
       "      <td>1343.0</td>\n",
       "      <td>20328.0</td>\n",
       "      <td>305.0</td>\n",
       "      <td>2163.0</td>\n",
       "    </tr>\n",
       "    <tr>\n",
       "      <th>2020-10-30</th>\n",
       "      <td>72219</td>\n",
       "      <td>56297.0</td>\n",
       "      <td>3497.0</td>\n",
       "      <td>100215.0</td>\n",
       "      <td>382.0</td>\n",
       "      <td>4126.0</td>\n",
       "    </tr>\n",
       "    <tr>\n",
       "      <th>2020-10-29</th>\n",
       "      <td>66260</td>\n",
       "      <td>52892.0</td>\n",
       "      <td>5957.0</td>\n",
       "      <td>1847.0</td>\n",
       "      <td>397.0</td>\n",
       "      <td>285.0</td>\n",
       "    </tr>\n",
       "    <tr>\n",
       "      <th>2020-10-28</th>\n",
       "      <td>57554</td>\n",
       "      <td>50401.0</td>\n",
       "      <td>8294.0</td>\n",
       "      <td>1933.0</td>\n",
       "      <td>406.0</td>\n",
       "      <td>328.0</td>\n",
       "    </tr>\n",
       "  </tbody>\n",
       "</table>\n",
       "</div>"
      ],
      "text/plain": [
       "             new_cases  covid_cases  shared_teks_by_generation_date  \\\n",
       "sample_date                                                           \n",
       "2020-11-01       46545      60713.0                           277.0   \n",
       "2020-10-31       51184      58624.0                          1343.0   \n",
       "2020-10-30       72219      56297.0                          3497.0   \n",
       "2020-10-29       66260      52892.0                          5957.0   \n",
       "2020-10-28       57554      50401.0                          8294.0   \n",
       "\n",
       "             shared_teks_by_upload_date  \\\n",
       "sample_date                               \n",
       "2020-11-01                      16848.0   \n",
       "2020-10-31                      20328.0   \n",
       "2020-10-30                     100215.0   \n",
       "2020-10-29                       1847.0   \n",
       "2020-10-28                       1933.0   \n",
       "\n",
       "             shared_teks_uploaded_on_generation_date  shared_diagnoses  \n",
       "sample_date                                                             \n",
       "2020-11-01                                     277.0            1842.0  \n",
       "2020-10-31                                     305.0            2163.0  \n",
       "2020-10-30                                     382.0            4126.0  \n",
       "2020-10-29                                     397.0             285.0  \n",
       "2020-10-28                                     406.0             328.0  "
      ]
     },
     "execution_count": 40,
     "metadata": {},
     "output_type": "execute_result"
    }
   ],
   "source": [
    "result_summary_df[\"sample_date\"] = pd.to_datetime(result_summary_df.sample_date_string)\n",
    "result_summary_df.set_index(\"sample_date\", inplace=True)\n",
    "result_summary_df.drop(columns=[\"sample_date_string\"], inplace=True)\n",
    "result_summary_df.sort_index(ascending=False, inplace=True)\n",
    "result_summary_df.head()"
   ]
  },
  {
   "cell_type": "code",
   "execution_count": 41,
   "metadata": {
    "collapsed": false,
    "execution": {
     "iopub.execute_input": "2020-11-01T23:21:35.124765Z",
     "iopub.status.busy": "2020-11-01T23:21:35.124201Z",
     "iopub.status.idle": "2020-11-01T23:21:35.149342Z",
     "shell.execute_reply": "2020-11-01T23:21:35.149753Z"
    },
    "papermill": {
     "duration": 0.089767,
     "end_time": "2020-11-01T23:21:35.149918",
     "exception": false,
     "start_time": "2020-11-01T23:21:35.060151",
     "status": "completed"
    },
    "pycharm": {
     "name": "#%%\n"
    },
    "tags": []
   },
   "outputs": [
    {
     "data": {
      "text/html": [
       "<div>\n",
       "<style scoped>\n",
       "    .dataframe tbody tr th:only-of-type {\n",
       "        vertical-align: middle;\n",
       "    }\n",
       "\n",
       "    .dataframe tbody tr th {\n",
       "        vertical-align: top;\n",
       "    }\n",
       "\n",
       "    .dataframe thead th {\n",
       "        text-align: right;\n",
       "    }\n",
       "</style>\n",
       "<table border=\"1\" class=\"dataframe\">\n",
       "  <thead>\n",
       "    <tr style=\"text-align: right;\">\n",
       "      <th></th>\n",
       "      <th>new_cases</th>\n",
       "      <th>covid_cases</th>\n",
       "      <th>shared_teks_by_generation_date</th>\n",
       "      <th>shared_teks_by_upload_date</th>\n",
       "      <th>shared_teks_uploaded_on_generation_date</th>\n",
       "      <th>shared_diagnoses</th>\n",
       "      <th>teks_per_shared_diagnosis</th>\n",
       "      <th>shared_diagnoses_per_covid_case</th>\n",
       "    </tr>\n",
       "    <tr>\n",
       "      <th>sample_date</th>\n",
       "      <th></th>\n",
       "      <th></th>\n",
       "      <th></th>\n",
       "      <th></th>\n",
       "      <th></th>\n",
       "      <th></th>\n",
       "      <th></th>\n",
       "      <th></th>\n",
       "    </tr>\n",
       "  </thead>\n",
       "  <tbody>\n",
       "    <tr>\n",
       "      <th>2020-11-01</th>\n",
       "      <td>46545</td>\n",
       "      <td>60713</td>\n",
       "      <td>277</td>\n",
       "      <td>16848</td>\n",
       "      <td>277</td>\n",
       "      <td>1842</td>\n",
       "      <td>9.146580</td>\n",
       "      <td>0.030339</td>\n",
       "    </tr>\n",
       "    <tr>\n",
       "      <th>2020-10-31</th>\n",
       "      <td>51184</td>\n",
       "      <td>58624</td>\n",
       "      <td>1343</td>\n",
       "      <td>20328</td>\n",
       "      <td>305</td>\n",
       "      <td>2163</td>\n",
       "      <td>9.398058</td>\n",
       "      <td>0.036896</td>\n",
       "    </tr>\n",
       "    <tr>\n",
       "      <th>2020-10-30</th>\n",
       "      <td>72219</td>\n",
       "      <td>56297</td>\n",
       "      <td>3497</td>\n",
       "      <td>100215</td>\n",
       "      <td>382</td>\n",
       "      <td>4126</td>\n",
       "      <td>24.288657</td>\n",
       "      <td>0.073290</td>\n",
       "    </tr>\n",
       "    <tr>\n",
       "      <th>2020-10-29</th>\n",
       "      <td>66260</td>\n",
       "      <td>52892</td>\n",
       "      <td>5957</td>\n",
       "      <td>1847</td>\n",
       "      <td>397</td>\n",
       "      <td>285</td>\n",
       "      <td>6.480702</td>\n",
       "      <td>0.005388</td>\n",
       "    </tr>\n",
       "    <tr>\n",
       "      <th>2020-10-28</th>\n",
       "      <td>57554</td>\n",
       "      <td>50401</td>\n",
       "      <td>8294</td>\n",
       "      <td>1933</td>\n",
       "      <td>406</td>\n",
       "      <td>328</td>\n",
       "      <td>5.893293</td>\n",
       "      <td>0.006508</td>\n",
       "    </tr>\n",
       "    <tr>\n",
       "      <th>2020-10-27</th>\n",
       "      <td>47852</td>\n",
       "      <td>47439</td>\n",
       "      <td>10123</td>\n",
       "      <td>988</td>\n",
       "      <td>231</td>\n",
       "      <td>164</td>\n",
       "      <td>6.024390</td>\n",
       "      <td>0.003457</td>\n",
       "    </tr>\n",
       "    <tr>\n",
       "      <th>2020-10-26</th>\n",
       "      <td>83377</td>\n",
       "      <td>45053</td>\n",
       "      <td>11507</td>\n",
       "      <td>994</td>\n",
       "      <td>215</td>\n",
       "      <td>145</td>\n",
       "      <td>6.855172</td>\n",
       "      <td>0.003218</td>\n",
       "    </tr>\n",
       "    <tr>\n",
       "      <th>2020-10-25</th>\n",
       "      <td>31922</td>\n",
       "      <td>41037</td>\n",
       "      <td>12214</td>\n",
       "      <td>679</td>\n",
       "      <td>179</td>\n",
       "      <td>95</td>\n",
       "      <td>7.147368</td>\n",
       "      <td>0.002315</td>\n",
       "    </tr>\n",
       "    <tr>\n",
       "      <th>2020-10-24</th>\n",
       "      <td>34892</td>\n",
       "      <td>39041</td>\n",
       "      <td>12699</td>\n",
       "      <td>703</td>\n",
       "      <td>177</td>\n",
       "      <td>106</td>\n",
       "      <td>6.632075</td>\n",
       "      <td>0.002715</td>\n",
       "    </tr>\n",
       "    <tr>\n",
       "      <th>2020-10-23</th>\n",
       "      <td>48386</td>\n",
       "      <td>36768</td>\n",
       "      <td>13596</td>\n",
       "      <td>769</td>\n",
       "      <td>167</td>\n",
       "      <td>129</td>\n",
       "      <td>5.961240</td>\n",
       "      <td>0.003508</td>\n",
       "    </tr>\n",
       "    <tr>\n",
       "      <th>2020-10-22</th>\n",
       "      <td>48826</td>\n",
       "      <td>34517</td>\n",
       "      <td>13010</td>\n",
       "      <td>726</td>\n",
       "      <td>180</td>\n",
       "      <td>114</td>\n",
       "      <td>6.368421</td>\n",
       "      <td>0.003303</td>\n",
       "    </tr>\n",
       "    <tr>\n",
       "      <th>2020-10-21</th>\n",
       "      <td>36817</td>\n",
       "      <td>31609</td>\n",
       "      <td>12393</td>\n",
       "      <td>841</td>\n",
       "      <td>157</td>\n",
       "      <td>136</td>\n",
       "      <td>6.183824</td>\n",
       "      <td>0.004303</td>\n",
       "    </tr>\n",
       "    <tr>\n",
       "      <th>2020-10-20</th>\n",
       "      <td>31153</td>\n",
       "      <td>29761</td>\n",
       "      <td>11977</td>\n",
       "      <td>772</td>\n",
       "      <td>149</td>\n",
       "      <td>119</td>\n",
       "      <td>6.487395</td>\n",
       "      <td>0.003999</td>\n",
       "    </tr>\n",
       "    <tr>\n",
       "      <th>2020-10-19</th>\n",
       "      <td>55261</td>\n",
       "      <td>27708</td>\n",
       "      <td>11649</td>\n",
       "      <td>791</td>\n",
       "      <td>142</td>\n",
       "      <td>118</td>\n",
       "      <td>6.703390</td>\n",
       "      <td>0.004259</td>\n",
       "    </tr>\n",
       "    <tr>\n",
       "      <th>2020-10-18</th>\n",
       "      <td>17951</td>\n",
       "      <td>25051</td>\n",
       "      <td>10346</td>\n",
       "      <td>726</td>\n",
       "      <td>146</td>\n",
       "      <td>114</td>\n",
       "      <td>6.368421</td>\n",
       "      <td>0.004551</td>\n",
       "    </tr>\n",
       "    <tr>\n",
       "      <th>2020-10-17</th>\n",
       "      <td>18985</td>\n",
       "      <td>23959</td>\n",
       "      <td>8932</td>\n",
       "      <td>767</td>\n",
       "      <td>174</td>\n",
       "      <td>118</td>\n",
       "      <td>6.500000</td>\n",
       "      <td>0.004925</td>\n",
       "    </tr>\n",
       "    <tr>\n",
       "      <th>2020-10-16</th>\n",
       "      <td>32623</td>\n",
       "      <td>22797</td>\n",
       "      <td>737</td>\n",
       "      <td>769</td>\n",
       "      <td>149</td>\n",
       "      <td>125</td>\n",
       "      <td>6.152000</td>\n",
       "      <td>0.005483</td>\n",
       "    </tr>\n",
       "    <tr>\n",
       "      <th>2020-10-15</th>\n",
       "      <td>28474</td>\n",
       "      <td>21333</td>\n",
       "      <td>744</td>\n",
       "      <td>671</td>\n",
       "      <td>151</td>\n",
       "      <td>104</td>\n",
       "      <td>6.451923</td>\n",
       "      <td>0.004875</td>\n",
       "    </tr>\n",
       "    <tr>\n",
       "      <th>2020-10-14</th>\n",
       "      <td>23883</td>\n",
       "      <td>20241</td>\n",
       "      <td>675</td>\n",
       "      <td>463</td>\n",
       "      <td>1</td>\n",
       "      <td>80</td>\n",
       "      <td>5.787500</td>\n",
       "      <td>0.003952</td>\n",
       "    </tr>\n",
       "    <tr>\n",
       "      <th>2020-10-13</th>\n",
       "      <td>16777</td>\n",
       "      <td>19185</td>\n",
       "      <td>590</td>\n",
       "      <td>334</td>\n",
       "      <td>1</td>\n",
       "      <td>61</td>\n",
       "      <td>5.475410</td>\n",
       "      <td>0.003180</td>\n",
       "    </tr>\n",
       "    <tr>\n",
       "      <th>2020-10-12</th>\n",
       "      <td>36667</td>\n",
       "      <td>19281</td>\n",
       "      <td>532</td>\n",
       "      <td>326</td>\n",
       "      <td>2</td>\n",
       "      <td>53</td>\n",
       "      <td>6.150943</td>\n",
       "      <td>0.002749</td>\n",
       "    </tr>\n",
       "    <tr>\n",
       "      <th>2020-10-11</th>\n",
       "      <td>10307</td>\n",
       "      <td>18025</td>\n",
       "      <td>479</td>\n",
       "      <td>422</td>\n",
       "      <td>1</td>\n",
       "      <td>75</td>\n",
       "      <td>5.626667</td>\n",
       "      <td>0.004161</td>\n",
       "    </tr>\n",
       "    <tr>\n",
       "      <th>2020-10-10</th>\n",
       "      <td>10847</td>\n",
       "      <td>17381</td>\n",
       "      <td>438</td>\n",
       "      <td>429</td>\n",
       "      <td>0</td>\n",
       "      <td>85</td>\n",
       "      <td>5.047059</td>\n",
       "      <td>0.004890</td>\n",
       "    </tr>\n",
       "    <tr>\n",
       "      <th>2020-10-09</th>\n",
       "      <td>22373</td>\n",
       "      <td>16632</td>\n",
       "      <td>426</td>\n",
       "      <td>348</td>\n",
       "      <td>1</td>\n",
       "      <td>65</td>\n",
       "      <td>5.353846</td>\n",
       "      <td>0.003908</td>\n",
       "    </tr>\n",
       "    <tr>\n",
       "      <th>2020-10-08</th>\n",
       "      <td>20834</td>\n",
       "      <td>15869</td>\n",
       "      <td>417</td>\n",
       "      <td>272</td>\n",
       "      <td>1</td>\n",
       "      <td>47</td>\n",
       "      <td>5.787234</td>\n",
       "      <td>0.002962</td>\n",
       "    </tr>\n",
       "    <tr>\n",
       "      <th>2020-10-07</th>\n",
       "      <td>16488</td>\n",
       "      <td>14933</td>\n",
       "      <td>375</td>\n",
       "      <td>178</td>\n",
       "      <td>0</td>\n",
       "      <td>33</td>\n",
       "      <td>5.393939</td>\n",
       "      <td>0.002210</td>\n",
       "    </tr>\n",
       "    <tr>\n",
       "      <th>2020-10-06</th>\n",
       "      <td>17453</td>\n",
       "      <td>14700</td>\n",
       "      <td>384</td>\n",
       "      <td>233</td>\n",
       "      <td>60</td>\n",
       "      <td>33</td>\n",
       "      <td>7.060606</td>\n",
       "      <td>0.002245</td>\n",
       "    </tr>\n",
       "    <tr>\n",
       "      <th>2020-10-05</th>\n",
       "      <td>27871</td>\n",
       "      <td>14192</td>\n",
       "      <td>350</td>\n",
       "      <td>273</td>\n",
       "      <td>52</td>\n",
       "      <td>39</td>\n",
       "      <td>7.000000</td>\n",
       "      <td>0.002748</td>\n",
       "    </tr>\n",
       "  </tbody>\n",
       "</table>\n",
       "</div>"
      ],
      "text/plain": [
       "             new_cases  covid_cases  shared_teks_by_generation_date  \\\n",
       "sample_date                                                           \n",
       "2020-11-01       46545        60713                             277   \n",
       "2020-10-31       51184        58624                            1343   \n",
       "2020-10-30       72219        56297                            3497   \n",
       "2020-10-29       66260        52892                            5957   \n",
       "2020-10-28       57554        50401                            8294   \n",
       "2020-10-27       47852        47439                           10123   \n",
       "2020-10-26       83377        45053                           11507   \n",
       "2020-10-25       31922        41037                           12214   \n",
       "2020-10-24       34892        39041                           12699   \n",
       "2020-10-23       48386        36768                           13596   \n",
       "2020-10-22       48826        34517                           13010   \n",
       "2020-10-21       36817        31609                           12393   \n",
       "2020-10-20       31153        29761                           11977   \n",
       "2020-10-19       55261        27708                           11649   \n",
       "2020-10-18       17951        25051                           10346   \n",
       "2020-10-17       18985        23959                            8932   \n",
       "2020-10-16       32623        22797                             737   \n",
       "2020-10-15       28474        21333                             744   \n",
       "2020-10-14       23883        20241                             675   \n",
       "2020-10-13       16777        19185                             590   \n",
       "2020-10-12       36667        19281                             532   \n",
       "2020-10-11       10307        18025                             479   \n",
       "2020-10-10       10847        17381                             438   \n",
       "2020-10-09       22373        16632                             426   \n",
       "2020-10-08       20834        15869                             417   \n",
       "2020-10-07       16488        14933                             375   \n",
       "2020-10-06       17453        14700                             384   \n",
       "2020-10-05       27871        14192                             350   \n",
       "\n",
       "             shared_teks_by_upload_date  \\\n",
       "sample_date                               \n",
       "2020-11-01                        16848   \n",
       "2020-10-31                        20328   \n",
       "2020-10-30                       100215   \n",
       "2020-10-29                         1847   \n",
       "2020-10-28                         1933   \n",
       "2020-10-27                          988   \n",
       "2020-10-26                          994   \n",
       "2020-10-25                          679   \n",
       "2020-10-24                          703   \n",
       "2020-10-23                          769   \n",
       "2020-10-22                          726   \n",
       "2020-10-21                          841   \n",
       "2020-10-20                          772   \n",
       "2020-10-19                          791   \n",
       "2020-10-18                          726   \n",
       "2020-10-17                          767   \n",
       "2020-10-16                          769   \n",
       "2020-10-15                          671   \n",
       "2020-10-14                          463   \n",
       "2020-10-13                          334   \n",
       "2020-10-12                          326   \n",
       "2020-10-11                          422   \n",
       "2020-10-10                          429   \n",
       "2020-10-09                          348   \n",
       "2020-10-08                          272   \n",
       "2020-10-07                          178   \n",
       "2020-10-06                          233   \n",
       "2020-10-05                          273   \n",
       "\n",
       "             shared_teks_uploaded_on_generation_date  shared_diagnoses  \\\n",
       "sample_date                                                              \n",
       "2020-11-01                                       277              1842   \n",
       "2020-10-31                                       305              2163   \n",
       "2020-10-30                                       382              4126   \n",
       "2020-10-29                                       397               285   \n",
       "2020-10-28                                       406               328   \n",
       "2020-10-27                                       231               164   \n",
       "2020-10-26                                       215               145   \n",
       "2020-10-25                                       179                95   \n",
       "2020-10-24                                       177               106   \n",
       "2020-10-23                                       167               129   \n",
       "2020-10-22                                       180               114   \n",
       "2020-10-21                                       157               136   \n",
       "2020-10-20                                       149               119   \n",
       "2020-10-19                                       142               118   \n",
       "2020-10-18                                       146               114   \n",
       "2020-10-17                                       174               118   \n",
       "2020-10-16                                       149               125   \n",
       "2020-10-15                                       151               104   \n",
       "2020-10-14                                         1                80   \n",
       "2020-10-13                                         1                61   \n",
       "2020-10-12                                         2                53   \n",
       "2020-10-11                                         1                75   \n",
       "2020-10-10                                         0                85   \n",
       "2020-10-09                                         1                65   \n",
       "2020-10-08                                         1                47   \n",
       "2020-10-07                                         0                33   \n",
       "2020-10-06                                        60                33   \n",
       "2020-10-05                                        52                39   \n",
       "\n",
       "             teks_per_shared_diagnosis  shared_diagnoses_per_covid_case  \n",
       "sample_date                                                              \n",
       "2020-11-01                    9.146580                         0.030339  \n",
       "2020-10-31                    9.398058                         0.036896  \n",
       "2020-10-30                   24.288657                         0.073290  \n",
       "2020-10-29                    6.480702                         0.005388  \n",
       "2020-10-28                    5.893293                         0.006508  \n",
       "2020-10-27                    6.024390                         0.003457  \n",
       "2020-10-26                    6.855172                         0.003218  \n",
       "2020-10-25                    7.147368                         0.002315  \n",
       "2020-10-24                    6.632075                         0.002715  \n",
       "2020-10-23                    5.961240                         0.003508  \n",
       "2020-10-22                    6.368421                         0.003303  \n",
       "2020-10-21                    6.183824                         0.004303  \n",
       "2020-10-20                    6.487395                         0.003999  \n",
       "2020-10-19                    6.703390                         0.004259  \n",
       "2020-10-18                    6.368421                         0.004551  \n",
       "2020-10-17                    6.500000                         0.004925  \n",
       "2020-10-16                    6.152000                         0.005483  \n",
       "2020-10-15                    6.451923                         0.004875  \n",
       "2020-10-14                    5.787500                         0.003952  \n",
       "2020-10-13                    5.475410                         0.003180  \n",
       "2020-10-12                    6.150943                         0.002749  \n",
       "2020-10-11                    5.626667                         0.004161  \n",
       "2020-10-10                    5.047059                         0.004890  \n",
       "2020-10-09                    5.353846                         0.003908  \n",
       "2020-10-08                    5.787234                         0.002962  \n",
       "2020-10-07                    5.393939                         0.002210  \n",
       "2020-10-06                    7.060606                         0.002245  \n",
       "2020-10-05                    7.000000                         0.002748  "
      ]
     },
     "execution_count": 41,
     "metadata": {},
     "output_type": "execute_result"
    }
   ],
   "source": [
    "with pd.option_context(\"mode.use_inf_as_na\", True):\n",
    "    result_summary_df = result_summary_df.fillna(0).astype(int)\n",
    "    result_summary_df[\"teks_per_shared_diagnosis\"] = \\\n",
    "        (result_summary_df.shared_teks_by_upload_date / result_summary_df.shared_diagnoses).fillna(0)\n",
    "    result_summary_df[\"shared_diagnoses_per_covid_case\"] = \\\n",
    "        (result_summary_df.shared_diagnoses / result_summary_df.covid_cases).fillna(0)\n",
    "\n",
    "result_summary_df.head(daily_plot_days)"
   ]
  },
  {
   "cell_type": "code",
   "execution_count": 42,
   "metadata": {
    "collapsed": false,
    "execution": {
     "iopub.execute_input": "2020-11-01T23:21:35.270801Z",
     "iopub.status.busy": "2020-11-01T23:21:35.270249Z",
     "iopub.status.idle": "2020-11-01T23:21:35.285222Z",
     "shell.execute_reply": "2020-11-01T23:21:35.285629Z"
    },
    "papermill": {
     "duration": 0.07956,
     "end_time": "2020-11-01T23:21:35.285787",
     "exception": false,
     "start_time": "2020-11-01T23:21:35.206227",
     "status": "completed"
    },
    "pycharm": {
     "name": "#%%\n"
    },
    "tags": []
   },
   "outputs": [
    {
     "data": {
      "text/html": [
       "<div>\n",
       "<style scoped>\n",
       "    .dataframe tbody tr th:only-of-type {\n",
       "        vertical-align: middle;\n",
       "    }\n",
       "\n",
       "    .dataframe tbody tr th {\n",
       "        vertical-align: top;\n",
       "    }\n",
       "\n",
       "    .dataframe thead th {\n",
       "        text-align: right;\n",
       "    }\n",
       "</style>\n",
       "<table border=\"1\" class=\"dataframe\">\n",
       "  <thead>\n",
       "    <tr style=\"text-align: right;\">\n",
       "      <th></th>\n",
       "      <th>covid_cases</th>\n",
       "      <th>shared_teks_by_generation_date</th>\n",
       "      <th>shared_teks_by_upload_date</th>\n",
       "      <th>shared_diagnoses</th>\n",
       "      <th>teks_per_shared_diagnosis</th>\n",
       "      <th>shared_diagnoses_per_covid_case</th>\n",
       "    </tr>\n",
       "    <tr>\n",
       "      <th>sample_date</th>\n",
       "      <th></th>\n",
       "      <th></th>\n",
       "      <th></th>\n",
       "      <th></th>\n",
       "      <th></th>\n",
       "      <th></th>\n",
       "    </tr>\n",
       "  </thead>\n",
       "  <tbody>\n",
       "    <tr>\n",
       "      <th>2020-11-01</th>\n",
       "      <td>371419</td>\n",
       "      <td>40998</td>\n",
       "      <td>143153</td>\n",
       "      <td>9053</td>\n",
       "      <td>15.812769</td>\n",
       "      <td>0.024374</td>\n",
       "    </tr>\n",
       "    <tr>\n",
       "      <th>2020-10-31</th>\n",
       "      <td>351743</td>\n",
       "      <td>52935</td>\n",
       "      <td>126984</td>\n",
       "      <td>7306</td>\n",
       "      <td>17.380783</td>\n",
       "      <td>0.020771</td>\n",
       "    </tr>\n",
       "    <tr>\n",
       "      <th>2020-10-30</th>\n",
       "      <td>332160</td>\n",
       "      <td>64291</td>\n",
       "      <td>107359</td>\n",
       "      <td>5249</td>\n",
       "      <td>20.453229</td>\n",
       "      <td>0.015803</td>\n",
       "    </tr>\n",
       "    <tr>\n",
       "      <th>2020-10-29</th>\n",
       "      <td>312631</td>\n",
       "      <td>74390</td>\n",
       "      <td>7913</td>\n",
       "      <td>1252</td>\n",
       "      <td>6.320288</td>\n",
       "      <td>0.004005</td>\n",
       "    </tr>\n",
       "    <tr>\n",
       "      <th>2020-10-28</th>\n",
       "      <td>294256</td>\n",
       "      <td>81443</td>\n",
       "      <td>6792</td>\n",
       "      <td>1081</td>\n",
       "      <td>6.283071</td>\n",
       "      <td>0.003674</td>\n",
       "    </tr>\n",
       "  </tbody>\n",
       "</table>\n",
       "</div>"
      ],
      "text/plain": [
       "             covid_cases  shared_teks_by_generation_date  \\\n",
       "sample_date                                                \n",
       "2020-11-01        371419                           40998   \n",
       "2020-10-31        351743                           52935   \n",
       "2020-10-30        332160                           64291   \n",
       "2020-10-29        312631                           74390   \n",
       "2020-10-28        294256                           81443   \n",
       "\n",
       "             shared_teks_by_upload_date  shared_diagnoses  \\\n",
       "sample_date                                                 \n",
       "2020-11-01                       143153              9053   \n",
       "2020-10-31                       126984              7306   \n",
       "2020-10-30                       107359              5249   \n",
       "2020-10-29                         7913              1252   \n",
       "2020-10-28                         6792              1081   \n",
       "\n",
       "             teks_per_shared_diagnosis  shared_diagnoses_per_covid_case  \n",
       "sample_date                                                              \n",
       "2020-11-01                   15.812769                         0.024374  \n",
       "2020-10-31                   17.380783                         0.020771  \n",
       "2020-10-30                   20.453229                         0.015803  \n",
       "2020-10-29                    6.320288                         0.004005  \n",
       "2020-10-28                    6.283071                         0.003674  "
      ]
     },
     "execution_count": 42,
     "metadata": {},
     "output_type": "execute_result"
    }
   ],
   "source": [
    "weekly_result_summary_df = result_summary_df \\\n",
    "    .sort_index(ascending=True).fillna(0).rolling(7).agg({\n",
    "    \"covid_cases\": \"sum\",\n",
    "    \"shared_teks_by_generation_date\": \"sum\",\n",
    "    \"shared_teks_by_upload_date\": \"sum\",\n",
    "    \"shared_diagnoses\": \"sum\"\n",
    "}).sort_index(ascending=False)\n",
    "\n",
    "with pd.option_context(\"mode.use_inf_as_na\", True):\n",
    "    weekly_result_summary_df = weekly_result_summary_df.fillna(0).astype(int)\n",
    "    weekly_result_summary_df[\"teks_per_shared_diagnosis\"] = \\\n",
    "        (weekly_result_summary_df.shared_teks_by_upload_date / weekly_result_summary_df.shared_diagnoses).fillna(0)\n",
    "    weekly_result_summary_df[\"shared_diagnoses_per_covid_case\"] = \\\n",
    "        (weekly_result_summary_df.shared_diagnoses / weekly_result_summary_df.covid_cases).fillna(0)\n",
    "\n",
    "weekly_result_summary_df.head()"
   ]
  },
  {
   "cell_type": "code",
   "execution_count": 43,
   "metadata": {
    "execution": {
     "iopub.execute_input": "2020-11-01T23:21:35.405596Z",
     "iopub.status.busy": "2020-11-01T23:21:35.405057Z",
     "iopub.status.idle": "2020-11-01T23:21:35.407780Z",
     "shell.execute_reply": "2020-11-01T23:21:35.408242Z"
    },
    "papermill": {
     "duration": 0.066038,
     "end_time": "2020-11-01T23:21:35.408398",
     "exception": false,
     "start_time": "2020-11-01T23:21:35.342360",
     "status": "completed"
    },
    "pycharm": {
     "name": "#%%\n"
    },
    "tags": []
   },
   "outputs": [
    {
     "data": {
      "text/plain": [
       "{'covid_cases': 351743,\n",
       " 'shared_teks_by_generation_date': 52935,\n",
       " 'shared_teks_by_upload_date': 126984,\n",
       " 'shared_diagnoses': 7306,\n",
       " 'teks_per_shared_diagnosis': 17.380782918149468,\n",
       " 'shared_diagnoses_per_covid_case': 0.02077084689673995}"
      ]
     },
     "execution_count": 43,
     "metadata": {},
     "output_type": "execute_result"
    }
   ],
   "source": [
    "last_7_days_summary = weekly_result_summary_df.to_dict(orient=\"records\")[1]\n",
    "last_7_days_summary"
   ]
  },
  {
   "cell_type": "markdown",
   "metadata": {
    "collapsed": false,
    "papermill": {
     "duration": 0.056863,
     "end_time": "2020-11-01T23:21:35.522495",
     "exception": false,
     "start_time": "2020-11-01T23:21:35.465632",
     "status": "completed"
    },
    "pycharm": {
     "name": "#%% md\n"
    },
    "tags": []
   },
   "source": [
    "## Report Results"
   ]
  },
  {
   "cell_type": "code",
   "execution_count": 44,
   "metadata": {
    "collapsed": false,
    "execution": {
     "iopub.execute_input": "2020-11-01T23:21:35.644376Z",
     "iopub.status.busy": "2020-11-01T23:21:35.643785Z",
     "iopub.status.idle": "2020-11-01T23:21:35.646087Z",
     "shell.execute_reply": "2020-11-01T23:21:35.645624Z"
    },
    "papermill": {
     "duration": 0.066433,
     "end_time": "2020-11-01T23:21:35.646210",
     "exception": false,
     "start_time": "2020-11-01T23:21:35.579777",
     "status": "completed"
    },
    "pycharm": {
     "name": "#%%\n"
    },
    "tags": []
   },
   "outputs": [],
   "source": [
    "display_column_name_mapping = {\n",
    "    \"sample_date\": \"Sample\\u00A0Date\\u00A0(UTC)\",\n",
    "    \"datetime_utc\": \"Timestamp (UTC)\",\n",
    "    \"upload_date\": \"Upload Date (UTC)\",\n",
    "    \"generation_to_upload_days\": \"Generation to Upload Period in Days\",\n",
    "    \"region\": \"Backend\",\n",
    "    \"region_x\": \"Backend\\u00A0(A)\",\n",
    "    \"region_y\": \"Backend\\u00A0(B)\",\n",
    "    \"common_teks\": \"Common TEKs Shared Between Backends\",\n",
    "    \"common_teks_fraction\": \"Fraction of TEKs in Backend (A) Available in Backend (B)\",\n",
    "    \"covid_cases\": \"COVID-19 Cases in Source Countries (7-day Rolling Average)\",\n",
    "    \"shared_teks_by_generation_date\": \"Shared TEKs by Generation Date\",\n",
    "    \"shared_teks_by_upload_date\": \"Shared TEKs by Upload Date\",\n",
    "    \"shared_diagnoses\": \"Shared Diagnoses (Estimation)\",\n",
    "    \"teks_per_shared_diagnosis\": \"TEKs Uploaded per Shared Diagnosis\",\n",
    "    \"shared_diagnoses_per_covid_case\": \"Usage Ratio (Fraction of Cases in Source Countries Which Shared Diagnosis)\",\n",
    "    \"shared_teks_uploaded_on_generation_date\": \"Shared TEKs Uploaded on Generation Date\",\n",
    "}"
   ]
  },
  {
   "cell_type": "code",
   "execution_count": 45,
   "metadata": {
    "execution": {
     "iopub.execute_input": "2020-11-01T23:21:35.764043Z",
     "iopub.status.busy": "2020-11-01T23:21:35.763452Z",
     "iopub.status.idle": "2020-11-01T23:21:35.765548Z",
     "shell.execute_reply": "2020-11-01T23:21:35.765971Z"
    },
    "papermill": {
     "duration": 0.06291,
     "end_time": "2020-11-01T23:21:35.766122",
     "exception": false,
     "start_time": "2020-11-01T23:21:35.703212",
     "status": "completed"
    },
    "pycharm": {
     "name": "#%%\n"
    },
    "tags": []
   },
   "outputs": [],
   "source": [
    "summary_columns = [\n",
    "    \"covid_cases\",\n",
    "    \"shared_teks_by_generation_date\",\n",
    "    \"shared_teks_by_upload_date\",\n",
    "    \"shared_teks_uploaded_on_generation_date\",\n",
    "    \"shared_diagnoses\",\n",
    "    \"teks_per_shared_diagnosis\",\n",
    "    \"shared_diagnoses_per_covid_case\",\n",
    "]"
   ]
  },
  {
   "cell_type": "markdown",
   "metadata": {
    "execution": {
     "iopub.execute_input": "2020-09-02T08:20:14.568088Z",
     "iopub.status.busy": "2020-09-02T08:20:14.567425Z",
     "iopub.status.idle": "2020-09-02T08:20:14.571422Z",
     "shell.execute_reply": "2020-09-02T08:20:14.571952Z"
    },
    "papermill": {
     "duration": 0.056833,
     "end_time": "2020-11-01T23:21:35.880094",
     "exception": false,
     "start_time": "2020-11-01T23:21:35.823261",
     "status": "completed"
    },
    "pycharm": {
     "name": "#%% md\n"
    },
    "tags": []
   },
   "source": [
    "### Daily Summary Table"
   ]
  },
  {
   "cell_type": "code",
   "execution_count": 46,
   "metadata": {
    "execution": {
     "iopub.execute_input": "2020-11-01T23:21:36.014652Z",
     "iopub.status.busy": "2020-11-01T23:21:36.014050Z",
     "iopub.status.idle": "2020-11-01T23:21:36.017531Z",
     "shell.execute_reply": "2020-11-01T23:21:36.017086Z"
    },
    "papermill": {
     "duration": 0.079844,
     "end_time": "2020-11-01T23:21:36.017658",
     "exception": false,
     "start_time": "2020-11-01T23:21:35.937814",
     "status": "completed"
    },
    "pycharm": {
     "name": "#%%\n"
    },
    "tags": []
   },
   "outputs": [
    {
     "data": {
      "text/html": [
       "<div>\n",
       "<style scoped>\n",
       "    .dataframe tbody tr th:only-of-type {\n",
       "        vertical-align: middle;\n",
       "    }\n",
       "\n",
       "    .dataframe tbody tr th {\n",
       "        vertical-align: top;\n",
       "    }\n",
       "\n",
       "    .dataframe thead th {\n",
       "        text-align: right;\n",
       "    }\n",
       "</style>\n",
       "<table border=\"1\" class=\"dataframe\">\n",
       "  <thead>\n",
       "    <tr style=\"text-align: right;\">\n",
       "      <th></th>\n",
       "      <th>COVID-19 Cases in Source Countries (7-day Rolling Average)</th>\n",
       "      <th>Shared TEKs by Generation Date</th>\n",
       "      <th>Shared TEKs by Upload Date</th>\n",
       "      <th>Shared TEKs Uploaded on Generation Date</th>\n",
       "      <th>Shared Diagnoses (Estimation)</th>\n",
       "      <th>TEKs Uploaded per Shared Diagnosis</th>\n",
       "      <th>Usage Ratio (Fraction of Cases in Source Countries Which Shared Diagnosis)</th>\n",
       "    </tr>\n",
       "    <tr>\n",
       "      <th>Sample Date (UTC)</th>\n",
       "      <th></th>\n",
       "      <th></th>\n",
       "      <th></th>\n",
       "      <th></th>\n",
       "      <th></th>\n",
       "      <th></th>\n",
       "      <th></th>\n",
       "    </tr>\n",
       "  </thead>\n",
       "  <tbody>\n",
       "    <tr>\n",
       "      <th>2020-11-01</th>\n",
       "      <td>60713</td>\n",
       "      <td>277</td>\n",
       "      <td>16848</td>\n",
       "      <td>277</td>\n",
       "      <td>1842</td>\n",
       "      <td>9.146580</td>\n",
       "      <td>0.030339</td>\n",
       "    </tr>\n",
       "    <tr>\n",
       "      <th>2020-10-31</th>\n",
       "      <td>58624</td>\n",
       "      <td>1343</td>\n",
       "      <td>20328</td>\n",
       "      <td>305</td>\n",
       "      <td>2163</td>\n",
       "      <td>9.398058</td>\n",
       "      <td>0.036896</td>\n",
       "    </tr>\n",
       "    <tr>\n",
       "      <th>2020-10-30</th>\n",
       "      <td>56297</td>\n",
       "      <td>3497</td>\n",
       "      <td>100215</td>\n",
       "      <td>382</td>\n",
       "      <td>4126</td>\n",
       "      <td>24.288657</td>\n",
       "      <td>0.073290</td>\n",
       "    </tr>\n",
       "    <tr>\n",
       "      <th>2020-10-29</th>\n",
       "      <td>52892</td>\n",
       "      <td>5957</td>\n",
       "      <td>1847</td>\n",
       "      <td>397</td>\n",
       "      <td>285</td>\n",
       "      <td>6.480702</td>\n",
       "      <td>0.005388</td>\n",
       "    </tr>\n",
       "    <tr>\n",
       "      <th>2020-10-28</th>\n",
       "      <td>50401</td>\n",
       "      <td>8294</td>\n",
       "      <td>1933</td>\n",
       "      <td>406</td>\n",
       "      <td>328</td>\n",
       "      <td>5.893293</td>\n",
       "      <td>0.006508</td>\n",
       "    </tr>\n",
       "    <tr>\n",
       "      <th>...</th>\n",
       "      <td>...</td>\n",
       "      <td>...</td>\n",
       "      <td>...</td>\n",
       "      <td>...</td>\n",
       "      <td>...</td>\n",
       "      <td>...</td>\n",
       "      <td>...</td>\n",
       "    </tr>\n",
       "    <tr>\n",
       "      <th>2020-08-14</th>\n",
       "      <td>5610</td>\n",
       "      <td>0</td>\n",
       "      <td>0</td>\n",
       "      <td>0</td>\n",
       "      <td>0</td>\n",
       "      <td>0.000000</td>\n",
       "      <td>0.000000</td>\n",
       "    </tr>\n",
       "    <tr>\n",
       "      <th>2020-08-13</th>\n",
       "      <td>5410</td>\n",
       "      <td>0</td>\n",
       "      <td>0</td>\n",
       "      <td>0</td>\n",
       "      <td>0</td>\n",
       "      <td>0.000000</td>\n",
       "      <td>0.000000</td>\n",
       "    </tr>\n",
       "    <tr>\n",
       "      <th>2020-08-12</th>\n",
       "      <td>4848</td>\n",
       "      <td>0</td>\n",
       "      <td>0</td>\n",
       "      <td>0</td>\n",
       "      <td>0</td>\n",
       "      <td>0.000000</td>\n",
       "      <td>0.000000</td>\n",
       "    </tr>\n",
       "    <tr>\n",
       "      <th>2020-08-11</th>\n",
       "      <td>4716</td>\n",
       "      <td>0</td>\n",
       "      <td>0</td>\n",
       "      <td>0</td>\n",
       "      <td>0</td>\n",
       "      <td>0.000000</td>\n",
       "      <td>0.000000</td>\n",
       "    </tr>\n",
       "    <tr>\n",
       "      <th>2020-08-10</th>\n",
       "      <td>4992</td>\n",
       "      <td>0</td>\n",
       "      <td>0</td>\n",
       "      <td>0</td>\n",
       "      <td>0</td>\n",
       "      <td>0.000000</td>\n",
       "      <td>0.000000</td>\n",
       "    </tr>\n",
       "  </tbody>\n",
       "</table>\n",
       "<p>84 rows × 7 columns</p>\n",
       "</div>"
      ],
      "text/plain": [
       "                   COVID-19 Cases in Source Countries (7-day Rolling Average)  \\\n",
       "Sample Date (UTC)                                                               \n",
       "2020-11-01                                                     60713            \n",
       "2020-10-31                                                     58624            \n",
       "2020-10-30                                                     56297            \n",
       "2020-10-29                                                     52892            \n",
       "2020-10-28                                                     50401            \n",
       "...                                                              ...            \n",
       "2020-08-14                                                      5610            \n",
       "2020-08-13                                                      5410            \n",
       "2020-08-12                                                      4848            \n",
       "2020-08-11                                                      4716            \n",
       "2020-08-10                                                      4992            \n",
       "\n",
       "                   Shared TEKs by Generation Date  Shared TEKs by Upload Date  \\\n",
       "Sample Date (UTC)                                                               \n",
       "2020-11-01                                    277                       16848   \n",
       "2020-10-31                                   1343                       20328   \n",
       "2020-10-30                                   3497                      100215   \n",
       "2020-10-29                                   5957                        1847   \n",
       "2020-10-28                                   8294                        1933   \n",
       "...                                           ...                         ...   \n",
       "2020-08-14                                      0                           0   \n",
       "2020-08-13                                      0                           0   \n",
       "2020-08-12                                      0                           0   \n",
       "2020-08-11                                      0                           0   \n",
       "2020-08-10                                      0                           0   \n",
       "\n",
       "                   Shared TEKs Uploaded on Generation Date  \\\n",
       "Sample Date (UTC)                                            \n",
       "2020-11-01                                             277   \n",
       "2020-10-31                                             305   \n",
       "2020-10-30                                             382   \n",
       "2020-10-29                                             397   \n",
       "2020-10-28                                             406   \n",
       "...                                                    ...   \n",
       "2020-08-14                                               0   \n",
       "2020-08-13                                               0   \n",
       "2020-08-12                                               0   \n",
       "2020-08-11                                               0   \n",
       "2020-08-10                                               0   \n",
       "\n",
       "                   Shared Diagnoses (Estimation)  \\\n",
       "Sample Date (UTC)                                  \n",
       "2020-11-01                                  1842   \n",
       "2020-10-31                                  2163   \n",
       "2020-10-30                                  4126   \n",
       "2020-10-29                                   285   \n",
       "2020-10-28                                   328   \n",
       "...                                          ...   \n",
       "2020-08-14                                     0   \n",
       "2020-08-13                                     0   \n",
       "2020-08-12                                     0   \n",
       "2020-08-11                                     0   \n",
       "2020-08-10                                     0   \n",
       "\n",
       "                   TEKs Uploaded per Shared Diagnosis  \\\n",
       "Sample Date (UTC)                                       \n",
       "2020-11-01                                   9.146580   \n",
       "2020-10-31                                   9.398058   \n",
       "2020-10-30                                  24.288657   \n",
       "2020-10-29                                   6.480702   \n",
       "2020-10-28                                   5.893293   \n",
       "...                                               ...   \n",
       "2020-08-14                                   0.000000   \n",
       "2020-08-13                                   0.000000   \n",
       "2020-08-12                                   0.000000   \n",
       "2020-08-11                                   0.000000   \n",
       "2020-08-10                                   0.000000   \n",
       "\n",
       "                   Usage Ratio (Fraction of Cases in Source Countries Which Shared Diagnosis)  \n",
       "Sample Date (UTC)                                                                              \n",
       "2020-11-01                                                  0.030339                           \n",
       "2020-10-31                                                  0.036896                           \n",
       "2020-10-30                                                  0.073290                           \n",
       "2020-10-29                                                  0.005388                           \n",
       "2020-10-28                                                  0.006508                           \n",
       "...                                                              ...                           \n",
       "2020-08-14                                                  0.000000                           \n",
       "2020-08-13                                                  0.000000                           \n",
       "2020-08-12                                                  0.000000                           \n",
       "2020-08-11                                                  0.000000                           \n",
       "2020-08-10                                                  0.000000                           \n",
       "\n",
       "[84 rows x 7 columns]"
      ]
     },
     "execution_count": 46,
     "metadata": {},
     "output_type": "execute_result"
    }
   ],
   "source": [
    "result_summary_df_ = result_summary_df.copy()\n",
    "result_summary_df = result_summary_df[summary_columns]\n",
    "result_summary_with_display_names_df = result_summary_df \\\n",
    "    .rename_axis(index=display_column_name_mapping) \\\n",
    "    .rename(columns=display_column_name_mapping)\n",
    "result_summary_with_display_names_df"
   ]
  },
  {
   "cell_type": "markdown",
   "metadata": {
    "execution": {
     "iopub.execute_input": "2020-09-02T08:20:14.726751Z",
     "iopub.status.busy": "2020-09-02T08:20:14.726143Z",
     "iopub.status.idle": "2020-09-02T08:20:16.115081Z",
     "shell.execute_reply": "2020-09-02T08:20:16.115565Z"
    },
    "papermill": {
     "duration": 0.057236,
     "end_time": "2020-11-01T23:21:36.132641",
     "exception": false,
     "start_time": "2020-11-01T23:21:36.075405",
     "status": "completed"
    },
    "pycharm": {
     "name": "#%% md\n"
    },
    "scrolled": false,
    "tags": []
   },
   "source": [
    "### Daily Summary Plots"
   ]
  },
  {
   "cell_type": "code",
   "execution_count": 47,
   "metadata": {
    "execution": {
     "iopub.execute_input": "2020-11-01T23:21:36.362958Z",
     "iopub.status.busy": "2020-11-01T23:21:36.271688Z",
     "iopub.status.idle": "2020-11-01T23:21:38.264322Z",
     "shell.execute_reply": "2020-11-01T23:21:38.264729Z"
    },
    "papermill": {
     "duration": 2.074826,
     "end_time": "2020-11-01T23:21:38.264890",
     "exception": false,
     "start_time": "2020-11-01T23:21:36.190064",
     "status": "completed"
    },
    "pycharm": {
     "name": "#%%\n"
    },
    "tags": []
   },
   "outputs": [
    {
     "data": {
      "image/png": "[encoded data removed]",
      "text/plain": [
       "<Figure size 1080x1584 with 7 Axes>"
      ]
     },
     "metadata": {},
     "output_type": "display_data"
    }
   ],
   "source": [
    "result_plot_summary_df = result_summary_df.head(daily_plot_days)[summary_columns] \\\n",
    "    .rename_axis(index=display_column_name_mapping) \\\n",
    "    .rename(columns=display_column_name_mapping)\n",
    "summary_ax_list = result_plot_summary_df.sort_index(ascending=True).plot.bar(\n",
    "    title=f\"Daily Summary\",\n",
    "    rot=45, subplots=True, figsize=(15, 22), legend=False)\n",
    "ax_ = summary_ax_list[-1]\n",
    "ax_.get_figure().tight_layout()\n",
    "ax_.get_figure().subplots_adjust(top=0.95)\n",
    "ax_.yaxis.set_major_formatter(matplotlib.ticker.PercentFormatter(1.0))\n",
    "_ = ax_.set_xticklabels(sorted(result_plot_summary_df.index.strftime(\"%Y-%m-%d\").tolist()))"
   ]
  },
  {
   "cell_type": "markdown",
   "metadata": {
    "collapsed": false,
    "papermill": {
     "duration": 0.06043,
     "end_time": "2020-11-01T23:21:38.386338",
     "exception": false,
     "start_time": "2020-11-01T23:21:38.325908",
     "status": "completed"
    },
    "tags": []
   },
   "source": [
    "### Daily Generation to Upload Period Table"
   ]
  },
  {
   "cell_type": "code",
   "execution_count": 48,
   "metadata": {
    "collapsed": false,
    "execution": {
     "iopub.execute_input": "2020-11-01T23:21:38.525331Z",
     "iopub.status.busy": "2020-11-01T23:21:38.524753Z",
     "iopub.status.idle": "2020-11-01T23:21:38.527034Z",
     "shell.execute_reply": "2020-11-01T23:21:38.527659Z"
    },
    "papermill": {
     "duration": 0.080254,
     "end_time": "2020-11-01T23:21:38.527827",
     "exception": false,
     "start_time": "2020-11-01T23:21:38.447573",
     "status": "completed"
    },
    "pycharm": {
     "name": "#%%\n"
    },
    "tags": []
   },
   "outputs": [
    {
     "data": {
      "text/html": [
       "<div>\n",
       "<style scoped>\n",
       "    .dataframe tbody tr th:only-of-type {\n",
       "        vertical-align: middle;\n",
       "    }\n",
       "\n",
       "    .dataframe tbody tr th {\n",
       "        vertical-align: top;\n",
       "    }\n",
       "\n",
       "    .dataframe thead th {\n",
       "        text-align: right;\n",
       "    }\n",
       "</style>\n",
       "<table border=\"1\" class=\"dataframe\">\n",
       "  <thead>\n",
       "    <tr style=\"text-align: right;\">\n",
       "      <th>Generation to Upload Period in Days</th>\n",
       "      <th>0</th>\n",
       "      <th>1</th>\n",
       "      <th>2</th>\n",
       "      <th>3</th>\n",
       "      <th>4</th>\n",
       "      <th>5</th>\n",
       "      <th>6</th>\n",
       "      <th>7</th>\n",
       "      <th>8</th>\n",
       "      <th>9</th>\n",
       "      <th>10</th>\n",
       "      <th>11</th>\n",
       "      <th>12</th>\n",
       "      <th>13</th>\n",
       "    </tr>\n",
       "    <tr>\n",
       "      <th>Upload Date (UTC)</th>\n",
       "      <th></th>\n",
       "      <th></th>\n",
       "      <th></th>\n",
       "      <th></th>\n",
       "      <th></th>\n",
       "      <th></th>\n",
       "      <th></th>\n",
       "      <th></th>\n",
       "      <th></th>\n",
       "      <th></th>\n",
       "      <th></th>\n",
       "      <th></th>\n",
       "      <th></th>\n",
       "      <th></th>\n",
       "    </tr>\n",
       "  </thead>\n",
       "  <tbody>\n",
       "    <tr>\n",
       "      <th>2020-11-01</th>\n",
       "      <td>277</td>\n",
       "      <td>1038</td>\n",
       "      <td>1842</td>\n",
       "      <td>1654</td>\n",
       "      <td>1495</td>\n",
       "      <td>1375</td>\n",
       "      <td>1302</td>\n",
       "      <td>1241</td>\n",
       "      <td>1196</td>\n",
       "      <td>1168</td>\n",
       "      <td>1123</td>\n",
       "      <td>1075</td>\n",
       "      <td>1046</td>\n",
       "      <td>1016</td>\n",
       "    </tr>\n",
       "    <tr>\n",
       "      <th>2020-10-31</th>\n",
       "      <td>305</td>\n",
       "      <td>1273</td>\n",
       "      <td>2163</td>\n",
       "      <td>1934</td>\n",
       "      <td>1766</td>\n",
       "      <td>1671</td>\n",
       "      <td>1578</td>\n",
       "      <td>1507</td>\n",
       "      <td>1461</td>\n",
       "      <td>1416</td>\n",
       "      <td>1370</td>\n",
       "      <td>1326</td>\n",
       "      <td>1292</td>\n",
       "      <td>1266</td>\n",
       "    </tr>\n",
       "    <tr>\n",
       "      <th>2020-10-30</th>\n",
       "      <td>382</td>\n",
       "      <td>1743</td>\n",
       "      <td>4126</td>\n",
       "      <td>6104</td>\n",
       "      <td>7567</td>\n",
       "      <td>8436</td>\n",
       "      <td>9104</td>\n",
       "      <td>10138</td>\n",
       "      <td>9629</td>\n",
       "      <td>9129</td>\n",
       "      <td>8815</td>\n",
       "      <td>8563</td>\n",
       "      <td>8326</td>\n",
       "      <td>8153</td>\n",
       "    </tr>\n",
       "    <tr>\n",
       "      <th>2020-10-29</th>\n",
       "      <td>397</td>\n",
       "      <td>333</td>\n",
       "      <td>285</td>\n",
       "      <td>237</td>\n",
       "      <td>183</td>\n",
       "      <td>139</td>\n",
       "      <td>82</td>\n",
       "      <td>59</td>\n",
       "      <td>50</td>\n",
       "      <td>30</td>\n",
       "      <td>22</td>\n",
       "      <td>14</td>\n",
       "      <td>10</td>\n",
       "      <td>6</td>\n",
       "    </tr>\n",
       "    <tr>\n",
       "      <th>2020-10-28</th>\n",
       "      <td>406</td>\n",
       "      <td>362</td>\n",
       "      <td>328</td>\n",
       "      <td>263</td>\n",
       "      <td>204</td>\n",
       "      <td>138</td>\n",
       "      <td>88</td>\n",
       "      <td>62</td>\n",
       "      <td>35</td>\n",
       "      <td>17</td>\n",
       "      <td>10</td>\n",
       "      <td>7</td>\n",
       "      <td>7</td>\n",
       "      <td>6</td>\n",
       "    </tr>\n",
       "    <tr>\n",
       "      <th>2020-10-27</th>\n",
       "      <td>231</td>\n",
       "      <td>187</td>\n",
       "      <td>164</td>\n",
       "      <td>123</td>\n",
       "      <td>98</td>\n",
       "      <td>77</td>\n",
       "      <td>44</td>\n",
       "      <td>28</td>\n",
       "      <td>22</td>\n",
       "      <td>11</td>\n",
       "      <td>3</td>\n",
       "      <td>0</td>\n",
       "      <td>0</td>\n",
       "      <td>0</td>\n",
       "    </tr>\n",
       "    <tr>\n",
       "      <th>2020-10-26</th>\n",
       "      <td>215</td>\n",
       "      <td>170</td>\n",
       "      <td>145</td>\n",
       "      <td>124</td>\n",
       "      <td>105</td>\n",
       "      <td>85</td>\n",
       "      <td>51</td>\n",
       "      <td>32</td>\n",
       "      <td>24</td>\n",
       "      <td>18</td>\n",
       "      <td>12</td>\n",
       "      <td>6</td>\n",
       "      <td>5</td>\n",
       "      <td>2</td>\n",
       "    </tr>\n",
       "    <tr>\n",
       "      <th>2020-10-25</th>\n",
       "      <td>179</td>\n",
       "      <td>104</td>\n",
       "      <td>95</td>\n",
       "      <td>82</td>\n",
       "      <td>71</td>\n",
       "      <td>55</td>\n",
       "      <td>37</td>\n",
       "      <td>25</td>\n",
       "      <td>15</td>\n",
       "      <td>8</td>\n",
       "      <td>5</td>\n",
       "      <td>2</td>\n",
       "      <td>1</td>\n",
       "      <td>0</td>\n",
       "    </tr>\n",
       "    <tr>\n",
       "      <th>2020-10-24</th>\n",
       "      <td>177</td>\n",
       "      <td>125</td>\n",
       "      <td>106</td>\n",
       "      <td>89</td>\n",
       "      <td>69</td>\n",
       "      <td>50</td>\n",
       "      <td>28</td>\n",
       "      <td>19</td>\n",
       "      <td>12</td>\n",
       "      <td>10</td>\n",
       "      <td>6</td>\n",
       "      <td>5</td>\n",
       "      <td>5</td>\n",
       "      <td>2</td>\n",
       "    </tr>\n",
       "    <tr>\n",
       "      <th>2020-10-23</th>\n",
       "      <td>167</td>\n",
       "      <td>145</td>\n",
       "      <td>129</td>\n",
       "      <td>106</td>\n",
       "      <td>85</td>\n",
       "      <td>58</td>\n",
       "      <td>29</td>\n",
       "      <td>19</td>\n",
       "      <td>14</td>\n",
       "      <td>9</td>\n",
       "      <td>3</td>\n",
       "      <td>3</td>\n",
       "      <td>1</td>\n",
       "      <td>1</td>\n",
       "    </tr>\n",
       "    <tr>\n",
       "      <th>2020-10-22</th>\n",
       "      <td>180</td>\n",
       "      <td>132</td>\n",
       "      <td>114</td>\n",
       "      <td>100</td>\n",
       "      <td>76</td>\n",
       "      <td>51</td>\n",
       "      <td>26</td>\n",
       "      <td>18</td>\n",
       "      <td>10</td>\n",
       "      <td>6</td>\n",
       "      <td>4</td>\n",
       "      <td>4</td>\n",
       "      <td>3</td>\n",
       "      <td>2</td>\n",
       "    </tr>\n",
       "    <tr>\n",
       "      <th>2020-10-21</th>\n",
       "      <td>157</td>\n",
       "      <td>153</td>\n",
       "      <td>136</td>\n",
       "      <td>120</td>\n",
       "      <td>97</td>\n",
       "      <td>62</td>\n",
       "      <td>34</td>\n",
       "      <td>28</td>\n",
       "      <td>20</td>\n",
       "      <td>15</td>\n",
       "      <td>9</td>\n",
       "      <td>4</td>\n",
       "      <td>3</td>\n",
       "      <td>3</td>\n",
       "    </tr>\n",
       "    <tr>\n",
       "      <th>2020-10-20</th>\n",
       "      <td>149</td>\n",
       "      <td>135</td>\n",
       "      <td>119</td>\n",
       "      <td>106</td>\n",
       "      <td>79</td>\n",
       "      <td>59</td>\n",
       "      <td>47</td>\n",
       "      <td>25</td>\n",
       "      <td>21</td>\n",
       "      <td>13</td>\n",
       "      <td>8</td>\n",
       "      <td>6</td>\n",
       "      <td>3</td>\n",
       "      <td>2</td>\n",
       "    </tr>\n",
       "    <tr>\n",
       "      <th>2020-10-19</th>\n",
       "      <td>142</td>\n",
       "      <td>123</td>\n",
       "      <td>118</td>\n",
       "      <td>105</td>\n",
       "      <td>86</td>\n",
       "      <td>72</td>\n",
       "      <td>45</td>\n",
       "      <td>33</td>\n",
       "      <td>22</td>\n",
       "      <td>17</td>\n",
       "      <td>12</td>\n",
       "      <td>9</td>\n",
       "      <td>4</td>\n",
       "      <td>3</td>\n",
       "    </tr>\n",
       "  </tbody>\n",
       "</table>\n",
       "</div>"
      ],
      "text/plain": [
       "Generation to Upload Period in Days   0     1     2     3     4     5     6   \\\n",
       "Upload Date (UTC)                                                              \n",
       "2020-11-01                           277  1038  1842  1654  1495  1375  1302   \n",
       "2020-10-31                           305  1273  2163  1934  1766  1671  1578   \n",
       "2020-10-30                           382  1743  4126  6104  7567  8436  9104   \n",
       "2020-10-29                           397   333   285   237   183   139    82   \n",
       "2020-10-28                           406   362   328   263   204   138    88   \n",
       "2020-10-27                           231   187   164   123    98    77    44   \n",
       "2020-10-26                           215   170   145   124   105    85    51   \n",
       "2020-10-25                           179   104    95    82    71    55    37   \n",
       "2020-10-24                           177   125   106    89    69    50    28   \n",
       "2020-10-23                           167   145   129   106    85    58    29   \n",
       "2020-10-22                           180   132   114   100    76    51    26   \n",
       "2020-10-21                           157   153   136   120    97    62    34   \n",
       "2020-10-20                           149   135   119   106    79    59    47   \n",
       "2020-10-19                           142   123   118   105    86    72    45   \n",
       "\n",
       "Generation to Upload Period in Days     7     8     9     10    11    12    13  \n",
       "Upload Date (UTC)                                                               \n",
       "2020-11-01                            1241  1196  1168  1123  1075  1046  1016  \n",
       "2020-10-31                            1507  1461  1416  1370  1326  1292  1266  \n",
       "2020-10-30                           10138  9629  9129  8815  8563  8326  8153  \n",
       "2020-10-29                              59    50    30    22    14    10     6  \n",
       "2020-10-28                              62    35    17    10     7     7     6  \n",
       "2020-10-27                              28    22    11     3     0     0     0  \n",
       "2020-10-26                              32    24    18    12     6     5     2  \n",
       "2020-10-25                              25    15     8     5     2     1     0  \n",
       "2020-10-24                              19    12    10     6     5     5     2  \n",
       "2020-10-23                              19    14     9     3     3     1     1  \n",
       "2020-10-22                              18    10     6     4     4     3     2  \n",
       "2020-10-21                              28    20    15     9     4     3     3  \n",
       "2020-10-20                              25    21    13     8     6     3     2  \n",
       "2020-10-19                              33    22    17    12     9     4     3  "
      ]
     },
     "execution_count": 48,
     "metadata": {},
     "output_type": "execute_result"
    }
   ],
   "source": [
    "display_generation_to_upload_period_pivot_df = \\\n",
    "    generation_to_upload_period_pivot_df \\\n",
    "        .head(backend_generation_days)\n",
    "display_generation_to_upload_period_pivot_df \\\n",
    "    .head(backend_generation_days) \\\n",
    "    .rename_axis(columns=display_column_name_mapping) \\\n",
    "    .rename_axis(index=display_column_name_mapping)"
   ]
  },
  {
   "cell_type": "code",
   "execution_count": 49,
   "metadata": {
    "collapsed": false,
    "execution": {
     "iopub.execute_input": "2020-11-01T23:21:38.675450Z",
     "iopub.status.busy": "2020-11-01T23:21:38.665853Z",
     "iopub.status.idle": "2020-11-01T23:21:39.601930Z",
     "shell.execute_reply": "2020-11-01T23:21:39.602991Z"
    },
    "papermill": {
     "duration": 1.011621,
     "end_time": "2020-11-01T23:21:39.603166",
     "exception": false,
     "start_time": "2020-11-01T23:21:38.591545",
     "status": "completed"
    },
    "pycharm": {
     "name": "#%%\n"
    },
    "tags": []
   },
   "outputs": [
    {
     "data": {
      "image/png": "[encoded data removed]",
      "text/plain": [
       "<Figure size 720x576 with 2 Axes>"
      ]
     },
     "metadata": {},
     "output_type": "display_data"
    }
   ],
   "source": [
    "fig, generation_to_upload_period_pivot_table_ax = plt.subplots(\n",
    "    figsize=(10, 1 + 0.5 * len(display_generation_to_upload_period_pivot_df)))\n",
    "generation_to_upload_period_pivot_table_ax.set_title(\n",
    "    \"Shared TEKs Generation to Upload Period Table\")\n",
    "sns.heatmap(\n",
    "    data=display_generation_to_upload_period_pivot_df\n",
    "        .rename_axis(columns=display_column_name_mapping)\n",
    "        .rename_axis(index=display_column_name_mapping),\n",
    "    fmt=\".0f\",\n",
    "    annot=True,\n",
    "    ax=generation_to_upload_period_pivot_table_ax)\n",
    "generation_to_upload_period_pivot_table_ax.get_figure().tight_layout()"
   ]
  },
  {
   "cell_type": "markdown",
   "metadata": {
    "execution": {
     "iopub.execute_input": "2020-09-02T08:20:16.278300Z",
     "iopub.status.busy": "2020-09-02T08:20:16.277679Z",
     "iopub.status.idle": "2020-09-02T08:20:16.821909Z",
     "shell.execute_reply": "2020-09-02T08:20:16.822577Z"
    },
    "papermill": {
     "duration": 0.066022,
     "end_time": "2020-11-01T23:21:39.737316",
     "exception": false,
     "start_time": "2020-11-01T23:21:39.671294",
     "status": "completed"
    },
    "pycharm": {
     "name": "#%% md\n"
    },
    "tags": []
   },
   "source": [
    "### Hourly Summary Plots "
   ]
  },
  {
   "cell_type": "code",
   "execution_count": 50,
   "metadata": {
    "execution": {
     "iopub.execute_input": "2020-11-01T23:21:39.910259Z",
     "iopub.status.busy": "2020-11-01T23:21:39.901013Z",
     "iopub.status.idle": "2020-11-01T23:21:40.227866Z",
     "shell.execute_reply": "2020-11-01T23:21:40.228379Z"
    },
    "papermill": {
     "duration": 0.424219,
     "end_time": "2020-11-01T23:21:40.228536",
     "exception": false,
     "start_time": "2020-11-01T23:21:39.804317",
     "status": "completed"
    },
    "pycharm": {
     "name": "#%%\n"
    },
    "tags": []
   },
   "outputs": [
    {
     "data": {
      "image/png": "[encoded data removed]",
      "text/plain": [
       "<Figure size 1080x432 with 1 Axes>"
      ]
     },
     "metadata": {},
     "output_type": "display_data"
    }
   ],
   "source": [
    "hourly_summary_ax_list = hourly_summary_df \\\n",
    "    .rename_axis(index=display_column_name_mapping) \\\n",
    "    .rename(columns=display_column_name_mapping) \\\n",
    "    .plot.bar(\n",
    "        title=f\"Last 24h Summary\",\n",
    "        rot=45, subplots=True, legend=False)\n",
    "ax_ = hourly_summary_ax_list[-1]\n",
    "ax_.get_figure().tight_layout()\n",
    "ax_.get_figure().subplots_adjust(top=0.9)\n",
    "_ = ax_.set_xticklabels(sorted(hourly_summary_df.index.strftime(\"%Y-%m-%d@%H\").tolist()))"
   ]
  },
  {
   "cell_type": "markdown",
   "metadata": {
    "execution": {
     "iopub.execute_input": "2020-09-02T08:20:16.981187Z",
     "iopub.status.busy": "2020-09-02T08:20:16.980584Z",
     "iopub.status.idle": "2020-09-02T08:20:20.068070Z",
     "shell.execute_reply": "2020-09-02T08:20:20.068598Z"
    },
    "papermill": {
     "duration": 0.06583,
     "end_time": "2020-11-01T23:21:40.360453",
     "exception": false,
     "start_time": "2020-11-01T23:21:40.294623",
     "status": "completed"
    },
    "pycharm": {
     "name": "#%% md\n"
    },
    "tags": []
   },
   "source": [
    "### Publish Results"
   ]
  },
  {
   "cell_type": "code",
   "execution_count": 51,
   "metadata": {
    "collapsed": false,
    "execution": {
     "iopub.execute_input": "2020-11-01T23:21:40.499087Z",
     "iopub.status.busy": "2020-11-01T23:21:40.498530Z",
     "iopub.status.idle": "2020-11-01T23:21:40.500811Z",
     "shell.execute_reply": "2020-11-01T23:21:40.501329Z"
    },
    "papermill": {
     "duration": 0.074531,
     "end_time": "2020-11-01T23:21:40.501488",
     "exception": false,
     "start_time": "2020-11-01T23:21:40.426957",
     "status": "completed"
    },
    "pycharm": {
     "name": "#%%\n"
    },
    "tags": []
   },
   "outputs": [],
   "source": [
    "def get_temporary_image_path() -> str:\n",
    "    return os.path.join(tempfile.gettempdir(), str(uuid.uuid4()) + \".png\")\n",
    "\n",
    "def save_temporary_plot_image(ax):\n",
    "    if isinstance(ax, np.ndarray):\n",
    "        ax = ax[0]\n",
    "    media_path = get_temporary_image_path()\n",
    "    ax.get_figure().savefig(media_path)\n",
    "    return media_path\n",
    "\n",
    "def save_temporary_dataframe_image(df):\n",
    "    import dataframe_image as dfi\n",
    "    media_path = get_temporary_image_path()\n",
    "    dfi.export(df, media_path)\n",
    "    return media_path"
   ]
  },
  {
   "cell_type": "code",
   "execution_count": 52,
   "metadata": {
    "collapsed": false,
    "execution": {
     "iopub.execute_input": "2020-11-01T23:21:40.671677Z",
     "iopub.status.busy": "2020-11-01T23:21:40.644085Z",
     "iopub.status.idle": "2020-11-01T23:21:40.674394Z",
     "shell.execute_reply": "2020-11-01T23:21:40.673943Z"
    },
    "papermill": {
     "duration": 0.107252,
     "end_time": "2020-11-01T23:21:40.674525",
     "exception": false,
     "start_time": "2020-11-01T23:21:40.567273",
     "status": "completed"
    },
    "pycharm": {
     "name": "#%%\n"
    },
    "tags": []
   },
   "outputs": [],
   "source": [
    "github_repository = os.environ.get(\"GITHUB_REPOSITORY\")\n",
    "if github_repository is None:\n",
    "    github_repository = \"pvieito/Radar-STATS\"\n",
    "\n",
    "github_project_base_url = \"https://github.com/\" + github_repository\n",
    "\n",
    "display_formatters = {\n",
    "    display_column_name_mapping[\"teks_per_shared_diagnosis\"]: lambda x: f\"{x:.2f}\",\n",
    "    display_column_name_mapping[\"shared_diagnoses_per_covid_case\"]: lambda x: f\"{x:.2%}\",\n",
    "}\n",
    "daily_summary_table_html = result_summary_with_display_names_df \\\n",
    "    .head(daily_plot_days) \\\n",
    "    .rename_axis(index=display_column_name_mapping) \\\n",
    "    .rename(columns=display_column_name_mapping) \\\n",
    "    .to_html(formatters=display_formatters)\n",
    "multi_backend_summary_table_html = multi_backend_summary_df \\\n",
    "    .head(daily_plot_days) \\\n",
    "    .rename_axis(columns=display_column_name_mapping) \\\n",
    "    .rename(columns=display_column_name_mapping) \\\n",
    "    .rename_axis(index=display_column_name_mapping) \\\n",
    "    .to_html(formatters=display_formatters)\n",
    "\n",
    "def format_multi_backend_cross_sharing_fraction(x):\n",
    "    if pd.isna(x):\n",
    "        return \"-\"\n",
    "    elif round(x * 100, 1) == 0:\n",
    "        return \"\"\n",
    "    else:\n",
    "        return f\"{x:.1%}\"\n",
    "\n",
    "multi_backend_cross_sharing_summary_table_html = multi_backend_cross_sharing_summary_df \\\n",
    "    .rename_axis(columns=display_column_name_mapping) \\\n",
    "    .rename(columns=display_column_name_mapping) \\\n",
    "    .rename_axis(index=display_column_name_mapping) \\\n",
    "    .to_html(\n",
    "        classes=\"table-center\",\n",
    "        formatters=display_formatters,\n",
    "        float_format=format_multi_backend_cross_sharing_fraction)\n",
    "multi_backend_cross_sharing_summary_table_html = \\\n",
    "    multi_backend_cross_sharing_summary_table_html \\\n",
    "        .replace(\"<tr>\",\"<tr style=\\\"text-align: center;\\\">\")\n",
    "\n",
    "extraction_date_result_summary_df = \\\n",
    "    result_summary_df[result_summary_df.index == extraction_date]\n",
    "extraction_date_result_hourly_summary_df = \\\n",
    "    hourly_summary_df[hourly_summary_df.extraction_date_with_hour == extraction_date_with_hour]\n",
    "\n",
    "covid_cases = \\\n",
    "    extraction_date_result_summary_df.covid_cases.sum()\n",
    "shared_teks_by_generation_date = \\\n",
    "    extraction_date_result_summary_df.shared_teks_by_generation_date.sum()\n",
    "shared_teks_by_upload_date = \\\n",
    "    extraction_date_result_summary_df.shared_teks_by_upload_date.sum()\n",
    "shared_diagnoses = \\\n",
    "    extraction_date_result_summary_df.shared_diagnoses.sum()\n",
    "teks_per_shared_diagnosis = \\\n",
    "    extraction_date_result_summary_df.teks_per_shared_diagnosis.sum()\n",
    "shared_diagnoses_per_covid_case = \\\n",
    "    extraction_date_result_summary_df.shared_diagnoses_per_covid_case.sum()\n",
    "\n",
    "shared_teks_by_upload_date_last_hour = \\\n",
    "    extraction_date_result_hourly_summary_df.shared_teks_by_upload_date.sum().astype(int)\n",
    "\n",
    "display_source_regions = \", \".join(report_source_regions)\n",
    "\n",
    "display_brief_source_regions_limit = 2\n",
    "if len(report_source_regions) <= display_brief_source_regions_limit:\n",
    "    display_brief_source_regions = display_source_regions\n",
    "else:\n",
    "    prefix_countries = \", \".join(report_source_regions[:display_brief_source_regions_limit])\n",
    "    display_brief_source_regions = f\"{len(report_source_regions)} ({prefix_countries}…)\"\n",
    "\n",
    "if len(report_source_regions) == 1:\n",
    "    display_brief_source_regions_warning_prefix_message = \"\"\n",
    "else:\n",
    "    display_brief_source_regions_warning_prefix_message = \"⚠️ \""
   ]
  },
  {
   "cell_type": "code",
   "execution_count": 53,
   "metadata": {
    "execution": {
     "iopub.execute_input": "2020-11-01T23:21:40.816406Z",
     "iopub.status.busy": "2020-11-01T23:21:40.815839Z",
     "iopub.status.idle": "2020-11-01T23:21:56.055914Z",
     "shell.execute_reply": "2020-11-01T23:21:56.056391Z"
    },
    "papermill": {
     "duration": 15.316008,
     "end_time": "2020-11-01T23:21:56.056560",
     "exception": false,
     "start_time": "2020-11-01T23:21:40.740552",
     "status": "completed"
    },
    "pycharm": {
     "name": "#%%\n"
    },
    "tags": []
   },
   "outputs": [],
   "source": [
    "summary_plots_image_path = save_temporary_plot_image(\n",
    "    ax=summary_ax_list)\n",
    "summary_table_image_path = save_temporary_dataframe_image(\n",
    "    df=result_summary_with_display_names_df)\n",
    "hourly_summary_plots_image_path = save_temporary_plot_image(\n",
    "    ax=hourly_summary_ax_list)\n",
    "multi_backend_summary_table_image_path = save_temporary_dataframe_image(\n",
    "    df=multi_backend_summary_df)\n",
    "generation_to_upload_period_pivot_table_image_path = save_temporary_plot_image(\n",
    "    ax=generation_to_upload_period_pivot_table_ax)"
   ]
  },
  {
   "cell_type": "markdown",
   "metadata": {
    "execution": {
     "iopub.execute_input": "2020-09-02T08:20:20.895901Z",
     "iopub.status.busy": "2020-09-02T08:20:20.895301Z",
     "iopub.status.idle": "2020-09-02T08:20:20.942286Z",
     "shell.execute_reply": "2020-09-02T08:20:20.942834Z"
    },
    "papermill": {
     "duration": 0.072087,
     "end_time": "2020-11-01T23:21:56.198743",
     "exception": false,
     "start_time": "2020-11-01T23:21:56.126656",
     "status": "completed"
    },
    "pycharm": {
     "name": "#%% md\n"
    },
    "tags": []
   },
   "source": [
    "### Save Results"
   ]
  },
  {
   "cell_type": "code",
   "execution_count": 54,
   "metadata": {
    "collapsed": false,
    "execution": {
     "iopub.execute_input": "2020-11-01T23:21:56.378389Z",
     "iopub.status.busy": "2020-11-01T23:21:56.377377Z",
     "iopub.status.idle": "2020-11-01T23:21:56.406362Z",
     "shell.execute_reply": "2020-11-01T23:21:56.405877Z"
    },
    "papermill": {
     "duration": 0.128245,
     "end_time": "2020-11-01T23:21:56.406499",
     "exception": false,
     "start_time": "2020-11-01T23:21:56.278254",
     "status": "completed"
    },
    "pycharm": {
     "name": "#%%\n"
    },
    "tags": []
   },
   "outputs": [],
   "source": [
    "report_resources_path_prefix = \"Data/Resources/Current/RadarCOVID-Report-\"\n",
    "result_summary_df.to_csv(\n",
    "    report_resources_path_prefix + \"Summary-Table.csv\")\n",
    "result_summary_df.to_html(\n",
    "    report_resources_path_prefix + \"Summary-Table.html\")\n",
    "hourly_summary_df.to_csv(\n",
    "    report_resources_path_prefix + \"Hourly-Summary-Table.csv\")\n",
    "multi_backend_summary_df.to_csv(\n",
    "    report_resources_path_prefix + \"Multi-Backend-Summary-Table.csv\")\n",
    "multi_backend_cross_sharing_summary_df.to_csv(\n",
    "    report_resources_path_prefix + \"Multi-Backend-Cross-Sharing-Summary-Table.csv\")\n",
    "generation_to_upload_period_pivot_df.to_csv(\n",
    "    report_resources_path_prefix + \"Generation-Upload-Period-Table.csv\")\n",
    "_ = shutil.copyfile(\n",
    "    summary_plots_image_path,\n",
    "    report_resources_path_prefix + \"Summary-Plots.png\")\n",
    "_ = shutil.copyfile(\n",
    "    summary_table_image_path,\n",
    "    report_resources_path_prefix + \"Summary-Table.png\")\n",
    "_ = shutil.copyfile(\n",
    "    hourly_summary_plots_image_path,\n",
    "    report_resources_path_prefix + \"Hourly-Summary-Plots.png\")\n",
    "_ = shutil.copyfile(\n",
    "    multi_backend_summary_table_image_path,\n",
    "    report_resources_path_prefix + \"Multi-Backend-Summary-Table.png\")\n",
    "_ = shutil.copyfile(\n",
    "    generation_to_upload_period_pivot_table_image_path,\n",
    "    report_resources_path_prefix + \"Generation-Upload-Period-Table.png\")"
   ]
  },
  {
   "cell_type": "markdown",
   "metadata": {
    "collapsed": false,
    "papermill": {
     "duration": 0.065985,
     "end_time": "2020-11-01T23:21:56.539570",
     "exception": false,
     "start_time": "2020-11-01T23:21:56.473585",
     "status": "completed"
    },
    "pycharm": {
     "name": "#%% md\n"
    },
    "tags": []
   },
   "source": [
    "### Publish Results as JSON"
   ]
  },
  {
   "cell_type": "code",
   "execution_count": 55,
   "metadata": {
    "collapsed": false,
    "execution": {
     "iopub.execute_input": "2020-11-01T23:21:56.687338Z",
     "iopub.status.busy": "2020-11-01T23:21:56.686762Z",
     "iopub.status.idle": "2020-11-01T23:21:56.691945Z",
     "shell.execute_reply": "2020-11-01T23:21:56.691461Z"
    },
    "papermill": {
     "duration": 0.086307,
     "end_time": "2020-11-01T23:21:56.692078",
     "exception": false,
     "start_time": "2020-11-01T23:21:56.605771",
     "status": "completed"
    },
    "pycharm": {
     "name": "#%%\n"
    },
    "tags": []
   },
   "outputs": [],
   "source": [
    "summary_results_api_df = result_summary_df.reset_index()\n",
    "summary_results_api_df[\"sample_date_string\"] = \\\n",
    "    summary_results_api_df[\"sample_date\"].dt.strftime(\"%Y-%m-%d\")\n",
    "\n",
    "summary_results = dict(\n",
    "    source_regions=report_source_regions,\n",
    "    extraction_datetime=extraction_datetime,\n",
    "    extraction_date=extraction_date,\n",
    "    extraction_date_with_hour=extraction_date_with_hour,\n",
    "    last_hour=dict(\n",
    "        shared_teks_by_upload_date=shared_teks_by_upload_date_last_hour,\n",
    "        shared_diagnoses=0,\n",
    "    ),\n",
    "    today=dict(\n",
    "        covid_cases=covid_cases,\n",
    "        shared_teks_by_generation_date=shared_teks_by_generation_date,\n",
    "        shared_teks_by_upload_date=shared_teks_by_upload_date,\n",
    "        shared_diagnoses=shared_diagnoses,\n",
    "        teks_per_shared_diagnosis=teks_per_shared_diagnosis,\n",
    "        shared_diagnoses_per_covid_case=shared_diagnoses_per_covid_case,\n",
    "    ),\n",
    "    last_7_days=last_7_days_summary,\n",
    "    daily_results=summary_results_api_df.to_dict(orient=\"records\"))\n",
    "summary_results = \\\n",
    "    json.loads(pd.Series([summary_results]).to_json(orient=\"records\"))[0]\n",
    "\n",
    "with open(report_resources_path_prefix + \"Summary-Results.json\", \"w\") as f:\n",
    "    json.dump(summary_results, f, indent=4)"
   ]
  },
  {
   "cell_type": "markdown",
   "metadata": {
    "collapsed": false,
    "papermill": {
     "duration": 0.065871,
     "end_time": "2020-11-01T23:21:56.824070",
     "exception": false,
     "start_time": "2020-11-01T23:21:56.758199",
     "status": "completed"
    },
    "pycharm": {
     "name": "#%% md\n"
    },
    "tags": []
   },
   "source": [
    "### Publish on README"
   ]
  },
  {
   "cell_type": "code",
   "execution_count": 56,
   "metadata": {
    "collapsed": false,
    "execution": {
     "iopub.execute_input": "2020-11-01T23:21:56.962444Z",
     "iopub.status.busy": "2020-11-01T23:21:56.961867Z",
     "iopub.status.idle": "2020-11-01T23:21:56.965570Z",
     "shell.execute_reply": "2020-11-01T23:21:56.965131Z"
    },
    "papermill": {
     "duration": 0.074971,
     "end_time": "2020-11-01T23:21:56.965695",
     "exception": false,
     "start_time": "2020-11-01T23:21:56.890724",
     "status": "completed"
    },
    "pycharm": {
     "name": "#%%\n"
    },
    "tags": []
   },
   "outputs": [],
   "source": [
    "with open(\"Data/Templates/README.md\", \"r\") as f:\n",
    "    readme_contents = f.read()\n",
    "\n",
    "readme_contents = readme_contents.format(\n",
    "    extraction_date_with_hour=extraction_date_with_hour,\n",
    "    github_project_base_url=github_project_base_url,\n",
    "    daily_summary_table_html=daily_summary_table_html,\n",
    "    multi_backend_summary_table_html=multi_backend_summary_table_html,\n",
    "    multi_backend_cross_sharing_summary_table_html=multi_backend_cross_sharing_summary_table_html,\n",
    "    display_source_regions=display_source_regions)\n",
    "\n",
    "with open(\"README.md\", \"w\") as f:\n",
    "    f.write(readme_contents)"
   ]
  },
  {
   "cell_type": "markdown",
   "metadata": {
    "collapsed": false,
    "papermill": {
     "duration": 0.066144,
     "end_time": "2020-11-01T23:21:57.098123",
     "exception": false,
     "start_time": "2020-11-01T23:21:57.031979",
     "status": "completed"
    },
    "pycharm": {
     "name": "#%% md\n"
    },
    "tags": []
   },
   "source": [
    "### Publish on Twitter"
   ]
  },
  {
   "cell_type": "code",
   "execution_count": 57,
   "metadata": {
    "collapsed": false,
    "execution": {
     "iopub.execute_input": "2020-11-01T23:21:57.238407Z",
     "iopub.status.busy": "2020-11-01T23:21:57.233054Z",
     "iopub.status.idle": "2020-11-01T23:22:06.812172Z",
     "shell.execute_reply": "2020-11-01T23:22:06.811026Z"
    },
    "papermill": {
     "duration": 9.64791,
     "end_time": "2020-11-01T23:22:06.812308",
     "exception": false,
     "start_time": "2020-11-01T23:21:57.164398",
     "status": "completed"
    },
    "pycharm": {
     "name": "#%%\n"
    },
    "tags": []
   },
   "outputs": [],
   "source": [
    "enable_share_to_twitter = os.environ.get(\"RADARCOVID_REPORT__ENABLE_PUBLISH_ON_TWITTER\")\n",
    "github_event_name = os.environ.get(\"GITHUB_EVENT_NAME\")\n",
    "\n",
    "if enable_share_to_twitter and github_event_name == \"schedule\" and \\\n",
    "        (shared_teks_by_upload_date_last_hour or not are_today_results_partial):\n",
    "    import tweepy\n",
    "\n",
    "    twitter_api_auth_keys = os.environ[\"RADARCOVID_REPORT__TWITTER_API_AUTH_KEYS\"]\n",
    "    twitter_api_auth_keys = twitter_api_auth_keys.split(\":\")\n",
    "    auth = tweepy.OAuthHandler(twitter_api_auth_keys[0], twitter_api_auth_keys[1])\n",
    "    auth.set_access_token(twitter_api_auth_keys[2], twitter_api_auth_keys[3])\n",
    "\n",
    "    api = tweepy.API(auth)\n",
    "\n",
    "    summary_plots_media = api.media_upload(summary_plots_image_path)\n",
    "    summary_table_media = api.media_upload(summary_table_image_path)\n",
    "    generation_to_upload_period_pivot_table_image_media = api.media_upload(generation_to_upload_period_pivot_table_image_path)\n",
    "    media_ids = [\n",
    "        summary_plots_media.media_id,\n",
    "        summary_table_media.media_id,\n",
    "        generation_to_upload_period_pivot_table_image_media.media_id,\n",
    "    ]\n",
    "\n",
    "    if are_today_results_partial:\n",
    "        today_addendum = \" (Partial)\"\n",
    "    else:\n",
    "        today_addendum = \"\"\n",
    "\n",
    "    status = textwrap.dedent(f\"\"\"\n",
    "        #RadarCOVID – {extraction_date_with_hour}\n",
    "\n",
    "        {display_brief_source_regions_warning_prefix_message}Countries: {display_brief_source_regions}\n",
    "\n",
    "        Today{today_addendum}:\n",
    "        - Uploaded TEKs: {shared_teks_by_upload_date:.0f} ({shared_teks_by_upload_date_last_hour:+d} last hour)\n",
    "        - Shared Diagnoses: ≤{shared_diagnoses:.0f}\n",
    "        - Usage Ratio: ≤{shared_diagnoses_per_covid_case:.2%}\n",
    "\n",
    "        Last 7 Days:\n",
    "        - Shared Diagnoses: ≤{last_7_days_summary[\"shared_diagnoses\"]:.0f}\n",
    "        - Usage Ratio: ≤{last_7_days_summary[\"shared_diagnoses_per_covid_case\"]:.2%}\n",
    "\n",
    "        Info: {github_project_base_url}#documentation\n",
    "        \"\"\")\n",
    "    status = status.encode(encoding=\"utf-8\")\n",
    "    api.update_status(status=status, media_ids=media_ids)"
   ]
  },
  {
   "cell_type": "code",
   "execution_count": null,
   "metadata": {
    "collapsed": false,
    "papermill": {
     "duration": 0.06612,
     "end_time": "2020-11-01T23:22:06.944557",
     "exception": false,
     "start_time": "2020-11-01T23:22:06.878437",
     "status": "completed"
    },
    "pycharm": {
     "name": "#%%\n"
    },
    "tags": []
   },
   "outputs": [],
   "source": []
  }
 ],
 "metadata": {
  "kernelspec": {
   "display_name": "Python 3",
   "language": "python",
   "name": "python3"
  },
  "language_info": {
   "codemirror_mode": {
    "name": "ipython",
    "version": 3
   },
   "file_extension": ".py",
   "mimetype": "text/x-python",
   "name": "python",
   "nbconvert_exporter": "python",
   "pygments_lexer": "ipython3",
   "version": "3.8.6"
  },
  "papermill": {
   "duration": 351.486566,
   "end_time": "2020-11-01T23:22:08.424796",
   "environment_variables": {},
   "exception": null,
   "input_path": "Notebooks/RadarCOVID-Report/Source/RadarCOVID-Report.ipynb",
   "output_path": "RadarCOVID-Report.ipynb",
   "parameters": {},
   "start_time": "2020-11-01T23:16:16.938230",
   "version": "2.1.3"
  }
 },
 "nbformat": 4,
 "nbformat_minor": 1
}