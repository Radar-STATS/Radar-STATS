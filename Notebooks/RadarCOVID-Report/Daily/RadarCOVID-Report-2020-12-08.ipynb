{
 "cells": [
  {
   "cell_type": "markdown",
   "metadata": {
    "papermill": {
     "duration": 0.03659,
     "end_time": "2020-12-08T23:30:55.213716",
     "exception": false,
     "start_time": "2020-12-08T23:30:55.177126",
     "status": "completed"
    },
    "pycharm": {
     "name": "#%% md\n"
    },
    "tags": []
   },
   "source": [
    "# RadarCOVID-Report"
   ]
  },
  {
   "cell_type": "markdown",
   "metadata": {
    "collapsed": true,
    "papermill": {
     "duration": 0.033786,
     "end_time": "2020-12-08T23:30:55.281534",
     "exception": false,
     "start_time": "2020-12-08T23:30:55.247748",
     "status": "completed"
    },
    "pycharm": {
     "name": "#%% md\n"
    },
    "tags": []
   },
   "source": [
    "## Data Extraction"
   ]
  },
  {
   "cell_type": "code",
   "execution_count": 1,
   "metadata": {
    "execution": {
     "iopub.execute_input": "2020-12-08T23:30:55.355226Z",
     "iopub.status.busy": "2020-12-08T23:30:55.354728Z",
     "iopub.status.idle": "2020-12-08T23:30:56.892588Z",
     "shell.execute_reply": "2020-12-08T23:30:56.892032Z"
    },
    "papermill": {
     "duration": 1.577377,
     "end_time": "2020-12-08T23:30:56.892768",
     "exception": false,
     "start_time": "2020-12-08T23:30:55.315391",
     "status": "completed"
    },
    "pycharm": {
     "name": "#%%\n"
    },
    "tags": []
   },
   "outputs": [],
   "source": [
    "import datetime\n",
    "import json\n",
    "import logging\n",
    "import os\n",
    "import shutil\n",
    "import tempfile\n",
    "import textwrap\n",
    "import uuid\n",
    "\n",
    "import matplotlib.pyplot as plt\n",
    "import matplotlib.ticker\n",
    "import numpy as np\n",
    "import pandas as pd\n",
    "import retry\n",
    "import seaborn as sns\n",
    "\n",
    "%matplotlib inline"
   ]
  },
  {
   "cell_type": "code",
   "execution_count": 2,
   "metadata": {
    "collapsed": false,
    "execution": {
     "iopub.execute_input": "2020-12-08T23:30:56.968417Z",
     "iopub.status.busy": "2020-12-08T23:30:56.967905Z",
     "iopub.status.idle": "2020-12-08T23:30:56.970929Z",
     "shell.execute_reply": "2020-12-08T23:30:56.971286Z"
    },
    "papermill": {
     "duration": 0.043906,
     "end_time": "2020-12-08T23:30:56.971427",
     "exception": false,
     "start_time": "2020-12-08T23:30:56.927521",
     "status": "completed"
    },
    "pycharm": {
     "name": "#%%\n"
    },
    "tags": []
   },
   "outputs": [],
   "source": [
    "current_working_directory = os.environ.get(\"PWD\")\n",
    "if current_working_directory:\n",
    "    os.chdir(current_working_directory)\n",
    "\n",
    "sns.set()\n",
    "matplotlib.rcParams[\"figure.figsize\"] = (15, 6)\n",
    "\n",
    "extraction_datetime = datetime.datetime.utcnow()\n",
    "extraction_date = extraction_datetime.strftime(\"%Y-%m-%d\")\n",
    "extraction_previous_datetime = extraction_datetime - datetime.timedelta(days=1)\n",
    "extraction_previous_date = extraction_previous_datetime.strftime(\"%Y-%m-%d\")\n",
    "extraction_date_with_hour = datetime.datetime.utcnow().strftime(\"%Y-%m-%d@%H\")\n",
    "current_hour = datetime.datetime.utcnow().hour\n",
    "are_today_results_partial = current_hour != 23"
   ]
  },
  {
   "cell_type": "markdown",
   "metadata": {
    "collapsed": false,
    "papermill": {
     "duration": 0.034119,
     "end_time": "2020-12-08T23:30:57.039806",
     "exception": false,
     "start_time": "2020-12-08T23:30:57.005687",
     "status": "completed"
    },
    "tags": []
   },
   "source": [
    "### Constants"
   ]
  },
  {
   "cell_type": "code",
   "execution_count": 3,
   "metadata": {
    "execution": {
     "iopub.execute_input": "2020-12-08T23:30:57.114458Z",
     "iopub.status.busy": "2020-12-08T23:30:57.112916Z",
     "iopub.status.idle": "2020-12-08T23:30:57.237196Z",
     "shell.execute_reply": "2020-12-08T23:30:57.236718Z"
    },
    "papermill": {
     "duration": 0.163035,
     "end_time": "2020-12-08T23:30:57.237316",
     "exception": false,
     "start_time": "2020-12-08T23:30:57.074281",
     "status": "completed"
    },
    "pycharm": {
     "name": "#%%\n"
    },
    "tags": []
   },
   "outputs": [],
   "source": [
    "from Modules.ExposureNotification import exposure_notification_io\n",
    "\n",
    "spain_region_country_code = \"ES\"\n",
    "germany_region_country_code = \"DE\"\n",
    "\n",
    "default_backend_identifier = spain_region_country_code\n",
    "\n",
    "backend_generation_days = 7 * 2\n",
    "daily_summary_days = 7 * 4 * 3\n",
    "daily_plot_days = 7 * 4\n",
    "tek_dumps_load_limit = daily_summary_days + 1"
   ]
  },
  {
   "cell_type": "markdown",
   "metadata": {
    "collapsed": false,
    "papermill": {
     "duration": 0.040929,
     "end_time": "2020-12-08T23:30:57.315928",
     "exception": false,
     "start_time": "2020-12-08T23:30:57.274999",
     "status": "completed"
    },
    "tags": []
   },
   "source": [
    "### Parameters"
   ]
  },
  {
   "cell_type": "code",
   "execution_count": 4,
   "metadata": {
    "collapsed": false,
    "execution": {
     "iopub.execute_input": "2020-12-08T23:30:57.393388Z",
     "iopub.status.busy": "2020-12-08T23:30:57.392900Z",
     "iopub.status.idle": "2020-12-08T23:30:57.395673Z",
     "shell.execute_reply": "2020-12-08T23:30:57.396058Z"
    },
    "papermill": {
     "duration": 0.043438,
     "end_time": "2020-12-08T23:30:57.396201",
     "exception": false,
     "start_time": "2020-12-08T23:30:57.352763",
     "status": "completed"
    },
    "pycharm": {
     "name": "#%%\n"
    },
    "tags": []
   },
   "outputs": [
    {
     "data": {
      "text/plain": [
       "'ES'"
      ]
     },
     "execution_count": 4,
     "metadata": {},
     "output_type": "execute_result"
    }
   ],
   "source": [
    "environment_backend_identifier = os.environ.get(\"RADARCOVID_REPORT__BACKEND_IDENTIFIER\")\n",
    "if environment_backend_identifier:\n",
    "    report_backend_identifier = environment_backend_identifier\n",
    "else:\n",
    "    report_backend_identifier = default_backend_identifier\n",
    "report_backend_identifier"
   ]
  },
  {
   "cell_type": "code",
   "execution_count": 5,
   "metadata": {
    "collapsed": false,
    "execution": {
     "iopub.execute_input": "2020-12-08T23:30:57.470225Z",
     "iopub.status.busy": "2020-12-08T23:30:57.469749Z",
     "iopub.status.idle": "2020-12-08T23:30:57.471504Z",
     "shell.execute_reply": "2020-12-08T23:30:57.471911Z"
    },
    "papermill": {
     "duration": 0.040954,
     "end_time": "2020-12-08T23:30:57.472044",
     "exception": false,
     "start_time": "2020-12-08T23:30:57.431090",
     "status": "completed"
    },
    "pycharm": {
     "name": "#%%\n"
    },
    "tags": []
   },
   "outputs": [],
   "source": [
    "environment_enable_multi_backend_download = \\\n",
    "    os.environ.get(\"RADARCOVID_REPORT__ENABLE_MULTI_BACKEND_DOWNLOAD\")\n",
    "if environment_enable_multi_backend_download:\n",
    "    report_backend_identifiers = None\n",
    "else:\n",
    "    report_backend_identifiers = [report_backend_identifier]\n",
    "\n",
    "report_backend_identifiers"
   ]
  },
  {
   "cell_type": "code",
   "execution_count": 6,
   "metadata": {
    "collapsed": false,
    "execution": {
     "iopub.execute_input": "2020-12-08T23:30:57.546142Z",
     "iopub.status.busy": "2020-12-08T23:30:57.545583Z",
     "iopub.status.idle": "2020-12-08T23:30:57.547599Z",
     "shell.execute_reply": "2020-12-08T23:30:57.548101Z"
    },
    "papermill": {
     "duration": 0.041744,
     "end_time": "2020-12-08T23:30:57.548254",
     "exception": false,
     "start_time": "2020-12-08T23:30:57.506510",
     "status": "completed"
    },
    "pycharm": {
     "name": "#%%\n"
    },
    "tags": []
   },
   "outputs": [
    {
     "data": {
      "text/plain": [
       "['2020-10-30', '2020-12-02', '2020-12-05']"
      ]
     },
     "execution_count": 6,
     "metadata": {},
     "output_type": "execute_result"
    }
   ],
   "source": [
    "environment_invalid_shared_diagnoses_dates = \\\n",
    "    os.environ.get(\"RADARCOVID_REPORT__INVALID_SHARED_DIAGNOSES_DATES\")\n",
    "if environment_invalid_shared_diagnoses_dates:\n",
    "    invalid_shared_diagnoses_dates = environment_invalid_shared_diagnoses_dates.split(\",\")\n",
    "else:\n",
    "    invalid_shared_diagnoses_dates = []\n",
    "\n",
    "invalid_shared_diagnoses_dates"
   ]
  },
  {
   "cell_type": "markdown",
   "metadata": {
    "collapsed": false,
    "papermill": {
     "duration": 0.035029,
     "end_time": "2020-12-08T23:30:57.619004",
     "exception": false,
     "start_time": "2020-12-08T23:30:57.583975",
     "status": "completed"
    },
    "pycharm": {
     "name": "#%% md\n"
    },
    "tags": []
   },
   "source": [
    "### COVID-19 Cases"
   ]
  },
  {
   "cell_type": "code",
   "execution_count": 7,
   "metadata": {
    "collapsed": false,
    "execution": {
     "iopub.execute_input": "2020-12-08T23:30:57.692577Z",
     "iopub.status.busy": "2020-12-08T23:30:57.692093Z",
     "iopub.status.idle": "2020-12-08T23:30:57.693753Z",
     "shell.execute_reply": "2020-12-08T23:30:57.694207Z"
    },
    "papermill": {
     "duration": 0.04067,
     "end_time": "2020-12-08T23:30:57.694346",
     "exception": false,
     "start_time": "2020-12-08T23:30:57.653676",
     "status": "completed"
    },
    "pycharm": {
     "name": "#%%\n"
    },
    "tags": []
   },
   "outputs": [],
   "source": [
    "report_backend_client = \\\n",
    "    exposure_notification_io.get_backend_client_with_identifier(\n",
    "        backend_identifier=report_backend_identifier)"
   ]
  },
  {
   "cell_type": "code",
   "execution_count": 8,
   "metadata": {
    "collapsed": false,
    "execution": {
     "iopub.execute_input": "2020-12-08T23:30:57.770629Z",
     "iopub.status.busy": "2020-12-08T23:30:57.770139Z",
     "iopub.status.idle": "2020-12-08T23:31:07.417571Z",
     "shell.execute_reply": "2020-12-08T23:31:07.417109Z"
    },
    "papermill": {
     "duration": 9.688172,
     "end_time": "2020-12-08T23:31:07.417707",
     "exception": false,
     "start_time": "2020-12-08T23:30:57.729535",
     "status": "completed"
    },
    "pycharm": {
     "name": "#%%\n"
    },
    "tags": []
   },
   "outputs": [],
   "source": [
    "@retry.retry(tries=10, delay=10, backoff=1.1, jitter=(0, 10))\n",
    "def download_cases_dataframe_from_ecdc():\n",
    "    return pd.read_csv(\n",
    "        \"https://opendata.ecdc.europa.eu/covid19/casedistribution/csv/data.csv\")\n",
    "\n",
    "confirmed_df_ = download_cases_dataframe_from_ecdc()"
   ]
  },
  {
   "cell_type": "code",
   "execution_count": 9,
   "metadata": {
    "collapsed": false,
    "execution": {
     "iopub.execute_input": "2020-12-08T23:31:07.498363Z",
     "iopub.status.busy": "2020-12-08T23:31:07.497827Z",
     "iopub.status.idle": "2020-12-08T23:31:07.856290Z",
     "shell.execute_reply": "2020-12-08T23:31:07.856683Z"
    },
    "papermill": {
     "duration": 0.401421,
     "end_time": "2020-12-08T23:31:07.856845",
     "exception": false,
     "start_time": "2020-12-08T23:31:07.455424",
     "status": "completed"
    },
    "pycharm": {
     "name": "#%%\n"
    },
    "tags": []
   },
   "outputs": [
    {
     "data": {
      "text/html": [
       "<div>\n",
       "<style scoped>\n",
       "    .dataframe tbody tr th:only-of-type {\n",
       "        vertical-align: middle;\n",
       "    }\n",
       "\n",
       "    .dataframe tbody tr th {\n",
       "        vertical-align: top;\n",
       "    }\n",
       "\n",
       "    .dataframe thead th {\n",
       "        text-align: right;\n",
       "    }\n",
       "</style>\n",
       "<table border=\"1\" class=\"dataframe\">\n",
       "  <thead>\n",
       "    <tr style=\"text-align: right;\">\n",
       "      <th></th>\n",
       "      <th>sample_date</th>\n",
       "      <th>new_cases</th>\n",
       "      <th>country_code</th>\n",
       "    </tr>\n",
       "  </thead>\n",
       "  <tbody>\n",
       "    <tr>\n",
       "      <th>17941</th>\n",
       "      <td>2020-12-08</td>\n",
       "      <td>248</td>\n",
       "      <td>EE</td>\n",
       "    </tr>\n",
       "    <tr>\n",
       "      <th>5723</th>\n",
       "      <td>2020-12-08</td>\n",
       "      <td>184</td>\n",
       "      <td>BZ</td>\n",
       "    </tr>\n",
       "    <tr>\n",
       "      <th>2874</th>\n",
       "      <td>2020-12-08</td>\n",
       "      <td>7</td>\n",
       "      <td>AU</td>\n",
       "    </tr>\n",
       "    <tr>\n",
       "      <th>18819</th>\n",
       "      <td>2020-12-08</td>\n",
       "      <td>0</td>\n",
       "      <td>FK</td>\n",
       "    </tr>\n",
       "    <tr>\n",
       "      <th>0</th>\n",
       "      <td>2020-12-08</td>\n",
       "      <td>200</td>\n",
       "      <td>AF</td>\n",
       "    </tr>\n",
       "  </tbody>\n",
       "</table>\n",
       "</div>"
      ],
      "text/plain": [
       "      sample_date  new_cases country_code\n",
       "17941  2020-12-08        248           EE\n",
       "5723   2020-12-08        184           BZ\n",
       "2874   2020-12-08          7           AU\n",
       "18819  2020-12-08          0           FK\n",
       "0      2020-12-08        200           AF"
      ]
     },
     "execution_count": 9,
     "metadata": {},
     "output_type": "execute_result"
    }
   ],
   "source": [
    "confirmed_df = confirmed_df_.copy()\n",
    "confirmed_df = confirmed_df[[\"dateRep\", \"cases\", \"geoId\"]]\n",
    "confirmed_df.rename(\n",
    "    columns={\n",
    "        \"dateRep\":\"sample_date\",\n",
    "        \"cases\": \"new_cases\",\n",
    "        \"geoId\": \"country_code\",\n",
    "    },\n",
    "    inplace=True)\n",
    "confirmed_df[\"sample_date\"] = pd.to_datetime(confirmed_df.sample_date, dayfirst=True)\n",
    "confirmed_df[\"sample_date\"] = confirmed_df.sample_date.dt.strftime(\"%Y-%m-%d\")\n",
    "confirmed_df.sort_values(\"sample_date\", inplace=True)\n",
    "confirmed_df.tail()"
   ]
  },
  {
   "cell_type": "code",
   "execution_count": 10,
   "metadata": {
    "collapsed": false,
    "execution": {
     "iopub.execute_input": "2020-12-08T23:31:07.933119Z",
     "iopub.status.busy": "2020-12-08T23:31:07.932606Z",
     "iopub.status.idle": "2020-12-08T23:31:07.934709Z",
     "shell.execute_reply": "2020-12-08T23:31:07.934317Z"
    },
    "papermill": {
     "duration": 0.041476,
     "end_time": "2020-12-08T23:31:07.934822",
     "exception": false,
     "start_time": "2020-12-08T23:31:07.893346",
     "status": "completed"
    },
    "pycharm": {
     "name": "#%%\n"
    },
    "tags": []
   },
   "outputs": [],
   "source": [
    "def sort_source_regions_for_display(source_regions: list) -> list:\n",
    "    if report_backend_identifier in source_regions:\n",
    "        source_regions = [report_backend_identifier] + \\\n",
    "            list(sorted(set(source_regions).difference([report_backend_identifier])))\n",
    "    else:\n",
    "        source_regions = list(sorted(source_regions))\n",
    "    return source_regions"
   ]
  },
  {
   "cell_type": "code",
   "execution_count": 11,
   "metadata": {
    "collapsed": false,
    "execution": {
     "iopub.execute_input": "2020-12-08T23:31:08.010672Z",
     "iopub.status.busy": "2020-12-08T23:31:08.010189Z",
     "iopub.status.idle": "2020-12-08T23:31:08.013041Z",
     "shell.execute_reply": "2020-12-08T23:31:08.012630Z"
    },
    "papermill": {
     "duration": 0.042941,
     "end_time": "2020-12-08T23:31:08.013155",
     "exception": false,
     "start_time": "2020-12-08T23:31:07.970214",
     "status": "completed"
    },
    "pycharm": {
     "name": "#%%\n"
    },
    "tags": []
   },
   "outputs": [
    {
     "data": {
      "text/plain": [
       "['ES', 'DE', 'DK', 'HR', 'IE', 'IT', 'LV', 'NL', 'PL']"
      ]
     },
     "execution_count": 11,
     "metadata": {},
     "output_type": "execute_result"
    }
   ],
   "source": [
    "report_source_regions = report_backend_client.source_regions_for_date(\n",
    "    date=extraction_datetime.date())\n",
    "report_source_regions = sort_source_regions_for_display(\n",
    "    source_regions=report_source_regions)\n",
    "report_source_regions"
   ]
  },
  {
   "cell_type": "code",
   "execution_count": 12,
   "metadata": {
    "collapsed": false,
    "execution": {
     "iopub.execute_input": "2020-12-08T23:31:08.097098Z",
     "iopub.status.busy": "2020-12-08T23:31:08.096562Z",
     "iopub.status.idle": "2020-12-08T23:31:08.099704Z",
     "shell.execute_reply": "2020-12-08T23:31:08.099283Z"
    },
    "papermill": {
     "duration": 0.051156,
     "end_time": "2020-12-08T23:31:08.099829",
     "exception": false,
     "start_time": "2020-12-08T23:31:08.048673",
     "status": "completed"
    },
    "pycharm": {
     "name": "#%%\n"
    },
    "tags": []
   },
   "outputs": [
    {
     "data": {
      "text/html": [
       "<div>\n",
       "<style scoped>\n",
       "    .dataframe tbody tr th:only-of-type {\n",
       "        vertical-align: middle;\n",
       "    }\n",
       "\n",
       "    .dataframe tbody tr th {\n",
       "        vertical-align: top;\n",
       "    }\n",
       "\n",
       "    .dataframe thead th {\n",
       "        text-align: right;\n",
       "    }\n",
       "</style>\n",
       "<table border=\"1\" class=\"dataframe\">\n",
       "  <thead>\n",
       "    <tr style=\"text-align: right;\">\n",
       "      <th></th>\n",
       "      <th>sample_date</th>\n",
       "      <th>sample_date_string</th>\n",
       "    </tr>\n",
       "  </thead>\n",
       "  <tbody>\n",
       "    <tr>\n",
       "      <th>339</th>\n",
       "      <td>2020-12-04</td>\n",
       "      <td>2020-12-04</td>\n",
       "    </tr>\n",
       "    <tr>\n",
       "      <th>340</th>\n",
       "      <td>2020-12-05</td>\n",
       "      <td>2020-12-05</td>\n",
       "    </tr>\n",
       "    <tr>\n",
       "      <th>341</th>\n",
       "      <td>2020-12-06</td>\n",
       "      <td>2020-12-06</td>\n",
       "    </tr>\n",
       "    <tr>\n",
       "      <th>342</th>\n",
       "      <td>2020-12-07</td>\n",
       "      <td>2020-12-07</td>\n",
       "    </tr>\n",
       "    <tr>\n",
       "      <th>343</th>\n",
       "      <td>2020-12-08</td>\n",
       "      <td>2020-12-08</td>\n",
       "    </tr>\n",
       "  </tbody>\n",
       "</table>\n",
       "</div>"
      ],
      "text/plain": [
       "    sample_date sample_date_string\n",
       "339  2020-12-04         2020-12-04\n",
       "340  2020-12-05         2020-12-05\n",
       "341  2020-12-06         2020-12-06\n",
       "342  2020-12-07         2020-12-07\n",
       "343  2020-12-08         2020-12-08"
      ]
     },
     "execution_count": 12,
     "metadata": {},
     "output_type": "execute_result"
    }
   ],
   "source": [
    "confirmed_days = pd.date_range(\n",
    "    start=confirmed_df.iloc[0].sample_date,\n",
    "    end=extraction_datetime)\n",
    "confirmed_days_df = pd.DataFrame(data=confirmed_days, columns=[\"sample_date\"])\n",
    "confirmed_days_df[\"sample_date_string\"] = \\\n",
    "    confirmed_days_df.sample_date.dt.strftime(\"%Y-%m-%d\")\n",
    "confirmed_days_df.tail()"
   ]
  },
  {
   "cell_type": "code",
   "execution_count": 13,
   "metadata": {
    "collapsed": false,
    "execution": {
     "iopub.execute_input": "2020-12-08T23:31:08.189140Z",
     "iopub.status.busy": "2020-12-08T23:31:08.188640Z",
     "iopub.status.idle": "2020-12-08T23:31:08.190934Z",
     "shell.execute_reply": "2020-12-08T23:31:08.191336Z"
    },
    "papermill": {
     "duration": 0.055858,
     "end_time": "2020-12-08T23:31:08.191497",
     "exception": false,
     "start_time": "2020-12-08T23:31:08.135639",
     "status": "completed"
    },
    "pycharm": {
     "name": "#%%\n"
    },
    "tags": []
   },
   "outputs": [
    {
     "data": {
      "text/html": [
       "<div>\n",
       "<style scoped>\n",
       "    .dataframe tbody tr th:only-of-type {\n",
       "        vertical-align: middle;\n",
       "    }\n",
       "\n",
       "    .dataframe tbody tr th {\n",
       "        vertical-align: top;\n",
       "    }\n",
       "\n",
       "    .dataframe thead th {\n",
       "        text-align: right;\n",
       "    }\n",
       "</style>\n",
       "<table border=\"1\" class=\"dataframe\">\n",
       "  <thead>\n",
       "    <tr style=\"text-align: right;\">\n",
       "      <th></th>\n",
       "      <th>sample_date</th>\n",
       "      <th>sample_date_string</th>\n",
       "      <th>source_regions_at_date</th>\n",
       "      <th>_source_regions_group</th>\n",
       "    </tr>\n",
       "  </thead>\n",
       "  <tbody>\n",
       "    <tr>\n",
       "      <th>339</th>\n",
       "      <td>2020-12-04</td>\n",
       "      <td>2020-12-04</td>\n",
       "      <td>{ES}</td>\n",
       "      <td>ES</td>\n",
       "    </tr>\n",
       "    <tr>\n",
       "      <th>340</th>\n",
       "      <td>2020-12-05</td>\n",
       "      <td>2020-12-05</td>\n",
       "      <td>{ES, LV, IE, HR, NL, IT, DE, DK, PL}</td>\n",
       "      <td>ES,DE,DK,HR,IE,IT,LV,NL,PL</td>\n",
       "    </tr>\n",
       "    <tr>\n",
       "      <th>341</th>\n",
       "      <td>2020-12-06</td>\n",
       "      <td>2020-12-06</td>\n",
       "      <td>{ES, LV, IE, HR, NL, IT, DE, DK, PL}</td>\n",
       "      <td>ES,DE,DK,HR,IE,IT,LV,NL,PL</td>\n",
       "    </tr>\n",
       "    <tr>\n",
       "      <th>342</th>\n",
       "      <td>2020-12-07</td>\n",
       "      <td>2020-12-07</td>\n",
       "      <td>{ES, LV, IE, HR, NL, IT, DE, DK, PL}</td>\n",
       "      <td>ES,DE,DK,HR,IE,IT,LV,NL,PL</td>\n",
       "    </tr>\n",
       "    <tr>\n",
       "      <th>343</th>\n",
       "      <td>2020-12-08</td>\n",
       "      <td>2020-12-08</td>\n",
       "      <td>{ES, LV, IE, HR, NL, IT, DE, DK, PL}</td>\n",
       "      <td>ES,DE,DK,HR,IE,IT,LV,NL,PL</td>\n",
       "    </tr>\n",
       "  </tbody>\n",
       "</table>\n",
       "</div>"
      ],
      "text/plain": [
       "    sample_date sample_date_string                source_regions_at_date  \\\n",
       "339  2020-12-04         2020-12-04                                  {ES}   \n",
       "340  2020-12-05         2020-12-05  {ES, LV, IE, HR, NL, IT, DE, DK, PL}   \n",
       "341  2020-12-06         2020-12-06  {ES, LV, IE, HR, NL, IT, DE, DK, PL}   \n",
       "342  2020-12-07         2020-12-07  {ES, LV, IE, HR, NL, IT, DE, DK, PL}   \n",
       "343  2020-12-08         2020-12-08  {ES, LV, IE, HR, NL, IT, DE, DK, PL}   \n",
       "\n",
       "          _source_regions_group  \n",
       "339                          ES  \n",
       "340  ES,DE,DK,HR,IE,IT,LV,NL,PL  \n",
       "341  ES,DE,DK,HR,IE,IT,LV,NL,PL  \n",
       "342  ES,DE,DK,HR,IE,IT,LV,NL,PL  \n",
       "343  ES,DE,DK,HR,IE,IT,LV,NL,PL  "
      ]
     },
     "execution_count": 13,
     "metadata": {},
     "output_type": "execute_result"
    }
   ],
   "source": [
    "source_regions_at_date_df = confirmed_days_df.copy()\n",
    "source_regions_at_date_df[\"source_regions_at_date\"] = \\\n",
    "    source_regions_at_date_df.sample_date.apply(\n",
    "        lambda x: report_backend_client.source_regions_for_date(date=x))\n",
    "source_regions_at_date_df.sort_values(\"sample_date\", inplace=True)\n",
    "source_regions_at_date_df[\"_source_regions_group\"] = source_regions_at_date_df. \\\n",
    "    source_regions_at_date.apply(lambda x: \",\".join(sort_source_regions_for_display(x)))\n",
    "source_regions_at_date_df.tail()"
   ]
  },
  {
   "cell_type": "code",
   "execution_count": 14,
   "metadata": {
    "collapsed": false,
    "execution": {
     "iopub.execute_input": "2020-12-08T23:31:08.275291Z",
     "iopub.status.busy": "2020-12-08T23:31:08.274804Z",
     "iopub.status.idle": "2020-12-08T23:31:08.277901Z",
     "shell.execute_reply": "2020-12-08T23:31:08.278254Z"
    },
    "papermill": {
     "duration": 0.050483,
     "end_time": "2020-12-08T23:31:08.278400",
     "exception": false,
     "start_time": "2020-12-08T23:31:08.227917",
     "status": "completed"
    },
    "pycharm": {
     "name": "#%%\n"
    },
    "tags": []
   },
   "outputs": [
    {
     "data": {
      "text/html": [
       "<div>\n",
       "<style scoped>\n",
       "    .dataframe tbody tr th:only-of-type {\n",
       "        vertical-align: middle;\n",
       "    }\n",
       "\n",
       "    .dataframe tbody tr th {\n",
       "        vertical-align: top;\n",
       "    }\n",
       "\n",
       "    .dataframe thead th {\n",
       "        text-align: right;\n",
       "    }\n",
       "</style>\n",
       "<table border=\"1\" class=\"dataframe\">\n",
       "  <thead>\n",
       "    <tr style=\"text-align: right;\">\n",
       "      <th></th>\n",
       "      <th>sample_date</th>\n",
       "      <th>source_regions</th>\n",
       "    </tr>\n",
       "  </thead>\n",
       "  <tbody>\n",
       "    <tr>\n",
       "      <th>339</th>\n",
       "      <td>2020-12-04</td>\n",
       "      <td>ES</td>\n",
       "    </tr>\n",
       "    <tr>\n",
       "      <th>340</th>\n",
       "      <td>2020-12-05</td>\n",
       "      <td>ES,DE,DK,HR,IE,IT,LV,NL,PL</td>\n",
       "    </tr>\n",
       "    <tr>\n",
       "      <th>341</th>\n",
       "      <td>2020-12-06</td>\n",
       "      <td>ES,DE,DK,HR,IE,IT,LV,NL,PL</td>\n",
       "    </tr>\n",
       "    <tr>\n",
       "      <th>342</th>\n",
       "      <td>2020-12-07</td>\n",
       "      <td>ES,DE,DK,HR,IE,IT,LV,NL,PL</td>\n",
       "    </tr>\n",
       "    <tr>\n",
       "      <th>343</th>\n",
       "      <td>2020-12-08</td>\n",
       "      <td>ES,DE,DK,HR,IE,IT,LV,NL,PL</td>\n",
       "    </tr>\n",
       "  </tbody>\n",
       "</table>\n",
       "</div>"
      ],
      "text/plain": [
       "    sample_date              source_regions\n",
       "339  2020-12-04                          ES\n",
       "340  2020-12-05  ES,DE,DK,HR,IE,IT,LV,NL,PL\n",
       "341  2020-12-06  ES,DE,DK,HR,IE,IT,LV,NL,PL\n",
       "342  2020-12-07  ES,DE,DK,HR,IE,IT,LV,NL,PL\n",
       "343  2020-12-08  ES,DE,DK,HR,IE,IT,LV,NL,PL"
      ]
     },
     "execution_count": 14,
     "metadata": {},
     "output_type": "execute_result"
    }
   ],
   "source": [
    "source_regions_for_summary_df = \\\n",
    "    source_regions_at_date_df[[\"sample_date\", \"_source_regions_group\"]].copy()\n",
    "source_regions_for_summary_df.rename(columns={\"_source_regions_group\": \"source_regions\"}, inplace=True)\n",
    "source_regions_for_summary_df.tail()"
   ]
  },
  {
   "cell_type": "code",
   "execution_count": 15,
   "metadata": {
    "collapsed": false,
    "execution": {
     "iopub.execute_input": "2020-12-08T23:31:08.363836Z",
     "iopub.status.busy": "2020-12-08T23:31:08.361818Z",
     "iopub.status.idle": "2020-12-08T23:31:08.429836Z",
     "shell.execute_reply": "2020-12-08T23:31:08.430198Z"
    },
    "papermill": {
     "duration": 0.115006,
     "end_time": "2020-12-08T23:31:08.430358",
     "exception": false,
     "start_time": "2020-12-08T23:31:08.315352",
     "status": "completed"
    },
    "pycharm": {
     "name": "#%%\n"
    },
    "tags": []
   },
   "outputs": [
    {
     "data": {
      "text/html": [
       "<div>\n",
       "<style scoped>\n",
       "    .dataframe tbody tr th:only-of-type {\n",
       "        vertical-align: middle;\n",
       "    }\n",
       "\n",
       "    .dataframe tbody tr th {\n",
       "        vertical-align: top;\n",
       "    }\n",
       "\n",
       "    .dataframe thead th {\n",
       "        text-align: right;\n",
       "    }\n",
       "</style>\n",
       "<table border=\"1\" class=\"dataframe\">\n",
       "  <thead>\n",
       "    <tr style=\"text-align: right;\">\n",
       "      <th></th>\n",
       "      <th>sample_date</th>\n",
       "      <th>new_cases</th>\n",
       "      <th>covid_cases</th>\n",
       "    </tr>\n",
       "  </thead>\n",
       "  <tbody>\n",
       "    <tr>\n",
       "      <th>309</th>\n",
       "      <td>2020-11-04</td>\n",
       "      <td>70966</td>\n",
       "      <td>66020.0</td>\n",
       "    </tr>\n",
       "    <tr>\n",
       "      <th>310</th>\n",
       "      <td>2020-11-05</td>\n",
       "      <td>73194</td>\n",
       "      <td>67010.0</td>\n",
       "    </tr>\n",
       "    <tr>\n",
       "      <th>311</th>\n",
       "      <td>2020-11-06</td>\n",
       "      <td>79454</td>\n",
       "      <td>68044.0</td>\n",
       "    </tr>\n",
       "    <tr>\n",
       "      <th>312</th>\n",
       "      <td>2020-11-07</td>\n",
       "      <td>62050</td>\n",
       "      <td>69596.0</td>\n",
       "    </tr>\n",
       "    <tr>\n",
       "      <th>313</th>\n",
       "      <td>2020-11-08</td>\n",
       "      <td>56547</td>\n",
       "      <td>71025.0</td>\n",
       "    </tr>\n",
       "  </tbody>\n",
       "</table>\n",
       "</div>"
      ],
      "text/plain": [
       "    sample_date new_cases  covid_cases\n",
       "309  2020-11-04     70966      66020.0\n",
       "310  2020-11-05     73194      67010.0\n",
       "311  2020-11-06     79454      68044.0\n",
       "312  2020-11-07     62050      69596.0\n",
       "313  2020-11-08     56547      71025.0"
      ]
     },
     "execution_count": 15,
     "metadata": {},
     "output_type": "execute_result"
    }
   ],
   "source": [
    "confirmed_output_columns = [\"sample_date\", \"new_cases\", \"covid_cases\"]\n",
    "confirmed_output_df = pd.DataFrame(columns=confirmed_output_columns)\n",
    "\n",
    "for source_regions_group, source_regions_group_series in \\\n",
    "        source_regions_at_date_df.groupby(\"_source_regions_group\"):\n",
    "    source_regions_set = set(source_regions_group.split(\",\"))\n",
    "    confirmed_source_regions_set_df = \\\n",
    "        confirmed_df[confirmed_df.country_code.isin(source_regions_set)].copy()\n",
    "    confirmed_source_regions_group_df = \\\n",
    "        confirmed_source_regions_set_df.groupby(\"sample_date\").new_cases.sum() \\\n",
    "            .reset_index().sort_values(\"sample_date\")\n",
    "    confirmed_source_regions_group_df[\"covid_cases\"] = \\\n",
    "        confirmed_source_regions_group_df.new_cases.rolling(7, min_periods=0).mean().round()\n",
    "    confirmed_source_regions_group_df = \\\n",
    "        confirmed_source_regions_group_df[confirmed_output_columns]\n",
    "    confirmed_source_regions_group_df.fillna(method=\"ffill\", inplace=True)\n",
    "    confirmed_source_regions_group_df = \\\n",
    "        confirmed_source_regions_group_df[\n",
    "            confirmed_source_regions_group_df.sample_date.isin(\n",
    "                source_regions_group_series.sample_date_string)]\n",
    "    confirmed_output_df = confirmed_output_df.append(confirmed_source_regions_group_df)\n",
    "\n",
    "confirmed_df = confirmed_output_df.copy()\n",
    "confirmed_df.tail()"
   ]
  },
  {
   "cell_type": "code",
   "execution_count": 16,
   "metadata": {
    "collapsed": false,
    "execution": {
     "iopub.execute_input": "2020-12-08T23:31:08.521379Z",
     "iopub.status.busy": "2020-12-08T23:31:08.520828Z",
     "iopub.status.idle": "2020-12-08T23:31:08.523858Z",
     "shell.execute_reply": "2020-12-08T23:31:08.523426Z"
    },
    "papermill": {
     "duration": 0.056103,
     "end_time": "2020-12-08T23:31:08.523979",
     "exception": false,
     "start_time": "2020-12-08T23:31:08.467876",
     "status": "completed"
    },
    "pycharm": {
     "name": "#%%\n"
    },
    "tags": []
   },
   "outputs": [
    {
     "data": {
      "text/html": [
       "<div>\n",
       "<style scoped>\n",
       "    .dataframe tbody tr th:only-of-type {\n",
       "        vertical-align: middle;\n",
       "    }\n",
       "\n",
       "    .dataframe tbody tr th {\n",
       "        vertical-align: top;\n",
       "    }\n",
       "\n",
       "    .dataframe thead th {\n",
       "        text-align: right;\n",
       "    }\n",
       "</style>\n",
       "<table border=\"1\" class=\"dataframe\">\n",
       "  <thead>\n",
       "    <tr style=\"text-align: right;\">\n",
       "      <th></th>\n",
       "      <th>sample_date_string</th>\n",
       "      <th>new_cases</th>\n",
       "      <th>covid_cases</th>\n",
       "    </tr>\n",
       "  </thead>\n",
       "  <tbody>\n",
       "    <tr>\n",
       "      <th>339</th>\n",
       "      <td>2020-12-04</td>\n",
       "      <td>8745</td>\n",
       "      <td>8063.0</td>\n",
       "    </tr>\n",
       "    <tr>\n",
       "      <th>340</th>\n",
       "      <td>2020-12-05</td>\n",
       "      <td>73038</td>\n",
       "      <td>70106.0</td>\n",
       "    </tr>\n",
       "    <tr>\n",
       "      <th>341</th>\n",
       "      <td>2020-12-06</td>\n",
       "      <td>65216</td>\n",
       "      <td>69827.0</td>\n",
       "    </tr>\n",
       "    <tr>\n",
       "      <th>342</th>\n",
       "      <td>2020-12-07</td>\n",
       "      <td>70313</td>\n",
       "      <td>69374.0</td>\n",
       "    </tr>\n",
       "    <tr>\n",
       "      <th>343</th>\n",
       "      <td>2020-12-08</td>\n",
       "      <td>43571</td>\n",
       "      <td>68184.0</td>\n",
       "    </tr>\n",
       "  </tbody>\n",
       "</table>\n",
       "</div>"
      ],
      "text/plain": [
       "    sample_date_string  new_cases  covid_cases\n",
       "339         2020-12-04       8745       8063.0\n",
       "340         2020-12-05      73038      70106.0\n",
       "341         2020-12-06      65216      69827.0\n",
       "342         2020-12-07      70313      69374.0\n",
       "343         2020-12-08      43571      68184.0"
      ]
     },
     "execution_count": 16,
     "metadata": {},
     "output_type": "execute_result"
    }
   ],
   "source": [
    "confirmed_df.rename(columns={\"sample_date\": \"sample_date_string\"}, inplace=True)\n",
    "confirmed_df = confirmed_days_df[[\"sample_date_string\"]].merge(confirmed_df, how=\"left\")\n",
    "confirmed_df.sort_values(\"sample_date_string\", inplace=True)\n",
    "confirmed_df.fillna(method=\"ffill\", inplace=True)\n",
    "confirmed_df.tail()"
   ]
  },
  {
   "cell_type": "code",
   "execution_count": 17,
   "metadata": {
    "collapsed": false,
    "execution": {
     "iopub.execute_input": "2020-12-08T23:31:08.608465Z",
     "iopub.status.busy": "2020-12-08T23:31:08.607975Z",
     "iopub.status.idle": "2020-12-08T23:31:08.787703Z",
     "shell.execute_reply": "2020-12-08T23:31:08.788384Z"
    },
    "papermill": {
     "duration": 0.226999,
     "end_time": "2020-12-08T23:31:08.788541",
     "exception": false,
     "start_time": "2020-12-08T23:31:08.561542",
     "status": "completed"
    },
    "pycharm": {
     "name": "#%%\n"
    },
    "tags": []
   },
   "outputs": [
    {
     "data": {
      "text/plain": [
       "<matplotlib.axes._subplots.AxesSubplot at 0x7fedd8cc7730>"
      ]
     },
     "execution_count": 17,
     "metadata": {},
     "output_type": "execute_result"
    },
    {
     "data": {
      "image/png": "[encoded data removed]",
      "text/plain": [
       "<Figure size 1080x432 with 1 Axes>"
      ]
     },
     "metadata": {},
     "output_type": "display_data"
    }
   ],
   "source": [
    "confirmed_df[[\"new_cases\", \"covid_cases\"]].plot()"
   ]
  },
  {
   "cell_type": "markdown",
   "metadata": {
    "execution": {
     "iopub.execute_input": "2020-08-30T22:30:16.351238Z",
     "iopub.status.busy": "2020-08-30T22:30:16.344579Z",
     "iopub.status.idle": "2020-08-30T22:30:16.354285Z",
     "shell.execute_reply": "2020-08-30T22:30:16.353641Z"
    },
    "papermill": {
     "duration": 0.039747,
     "end_time": "2020-12-08T23:31:08.868114",
     "exception": false,
     "start_time": "2020-12-08T23:31:08.828367",
     "status": "completed"
    },
    "pycharm": {
     "name": "#%% md\n"
    },
    "tags": []
   },
   "source": [
    "### Extract API TEKs"
   ]
  },
  {
   "cell_type": "code",
   "execution_count": 18,
   "metadata": {
    "execution": {
     "iopub.execute_input": "2020-12-08T23:31:08.954602Z",
     "iopub.status.busy": "2020-12-08T23:31:08.954081Z",
     "iopub.status.idle": "2020-12-08T23:33:38.185227Z",
     "shell.execute_reply": "2020-12-08T23:33:38.185637Z"
    },
    "papermill": {
     "duration": 149.27837,
     "end_time": "2020-12-08T23:33:38.185790",
     "exception": false,
     "start_time": "2020-12-08T23:31:08.907420",
     "status": "completed"
    },
    "pycharm": {
     "name": "#%%\n"
    },
    "tags": []
   },
   "outputs": [
    {
     "name": "stderr",
     "output_type": "stream",
     "text": [
      "WARNING:root:NoKeysFoundException(\"No exposure keys found on endpoint 'https://radarcovidpre.covid19.gob.es/dp3t/v1/gaen/exposed/1607385600000' (parameters: {'generation_date': '2020-12-08', 'endpoint_identifier_components': ['2020-12-08'], 'backend_identifier': 'ES@PRE', 'server_endpoint_url': 'https://radarcovidpre.covid19.gob.es/dp3t'}).\")\n"
     ]
    },
    {
     "name": "stderr",
     "output_type": "stream",
     "text": [
      "WARNING:root:NoKeysFoundException(\"No exposure keys found on endpoint 'https://stayaway.incm.pt/v1/gaen/exposed/1607385600000' (parameters: {'generation_date': '2020-12-08', 'endpoint_identifier_components': ['2020-12-08'], 'backend_identifier': 'PT', 'server_endpoint_url': 'https://stayaway.incm.pt'}).\")\n"
     ]
    },
    {
     "name": "stderr",
     "output_type": "stream",
     "text": [
      "WARNING:root:NoKeysFoundException(\"No exposure keys found on endpoint 'https://enapi.sm.ee/authorization/v1/gaen/exposed/1607385600000' (parameters: {'generation_date': '2020-12-08', 'endpoint_identifier_components': ['2020-12-08'], 'backend_identifier': 'EE', 'server_endpoint_url': 'https://enapi.sm.ee/authorization'}).\")\n"
     ]
    },
    {
     "name": "stderr",
     "output_type": "stream",
     "text": [
      "WARNING:root:NoKeysFoundException(\"No exposure keys found on endpoint 'https://mt-dpppt-ws.azurewebsites.net/v1/gaen/exposed/1607385600000' (parameters: {'generation_date': '2020-12-08', 'endpoint_identifier_components': ['2020-12-08'], 'backend_identifier': 'MT', 'server_endpoint_url': 'https://mt-dpppt-ws.azurewebsites.net'}).\")\n"
     ]
    },
    {
     "data": {
      "text/html": [
       "<div>\n",
       "<style scoped>\n",
       "    .dataframe tbody tr th:only-of-type {\n",
       "        vertical-align: middle;\n",
       "    }\n",
       "\n",
       "    .dataframe tbody tr th {\n",
       "        vertical-align: top;\n",
       "    }\n",
       "\n",
       "    .dataframe thead th {\n",
       "        text-align: right;\n",
       "    }\n",
       "</style>\n",
       "<table border=\"1\" class=\"dataframe\">\n",
       "  <thead>\n",
       "    <tr style=\"text-align: right;\">\n",
       "      <th></th>\n",
       "      <th>sample_datetime</th>\n",
       "      <th>sample_date_string</th>\n",
       "      <th>region</th>\n",
       "      <th>verification_key_version</th>\n",
       "      <th>verification_key_id</th>\n",
       "      <th>signature_algorithm</th>\n",
       "      <th>key_data</th>\n",
       "      <th>rolling_start_interval_number</th>\n",
       "      <th>rolling_period</th>\n",
       "      <th>transmission_risk_level</th>\n",
       "      <th>backend_identifier</th>\n",
       "    </tr>\n",
       "  </thead>\n",
       "  <tbody>\n",
       "    <tr>\n",
       "      <th>0</th>\n",
       "      <td>2020-12-08</td>\n",
       "      <td>2020-12-08</td>\n",
       "      <td>ES</td>\n",
       "      <td>V1</td>\n",
       "      <td>214</td>\n",
       "      <td>1.2.840.10045.4.3.2</td>\n",
       "      <td>3f90a7cd-97be-77d0-4ddc-18539c609dee</td>\n",
       "      <td>2678976</td>\n",
       "      <td>130</td>\n",
       "      <td>0</td>\n",
       "      <td>ES</td>\n",
       "    </tr>\n",
       "    <tr>\n",
       "      <th>1</th>\n",
       "      <td>2020-12-08</td>\n",
       "      <td>2020-12-08</td>\n",
       "      <td>ES</td>\n",
       "      <td>V1</td>\n",
       "      <td>214</td>\n",
       "      <td>1.2.840.10045.4.3.2</td>\n",
       "      <td>e64617a9-9dbb-52ad-5684-bb26d772b7fc</td>\n",
       "      <td>2678976</td>\n",
       "      <td>126</td>\n",
       "      <td>0</td>\n",
       "      <td>ES</td>\n",
       "    </tr>\n",
       "    <tr>\n",
       "      <th>2</th>\n",
       "      <td>2020-12-08</td>\n",
       "      <td>2020-12-08</td>\n",
       "      <td>ES</td>\n",
       "      <td>V1</td>\n",
       "      <td>214</td>\n",
       "      <td>1.2.840.10045.4.3.2</td>\n",
       "      <td>92a02949-a2dd-b486-4c63-20423605225a</td>\n",
       "      <td>2678976</td>\n",
       "      <td>124</td>\n",
       "      <td>0</td>\n",
       "      <td>ES</td>\n",
       "    </tr>\n",
       "    <tr>\n",
       "      <th>3</th>\n",
       "      <td>2020-12-08</td>\n",
       "      <td>2020-12-08</td>\n",
       "      <td>ES</td>\n",
       "      <td>V1</td>\n",
       "      <td>214</td>\n",
       "      <td>1.2.840.10045.4.3.2</td>\n",
       "      <td>c051065c-5a5b-9d6a-dfd4-0811177b7f1f</td>\n",
       "      <td>2678976</td>\n",
       "      <td>123</td>\n",
       "      <td>0</td>\n",
       "      <td>ES</td>\n",
       "    </tr>\n",
       "    <tr>\n",
       "      <th>4</th>\n",
       "      <td>2020-12-08</td>\n",
       "      <td>2020-12-08</td>\n",
       "      <td>ES</td>\n",
       "      <td>V1</td>\n",
       "      <td>214</td>\n",
       "      <td>1.2.840.10045.4.3.2</td>\n",
       "      <td>488f9857-ec2b-fd37-6230-436eff8e47ba</td>\n",
       "      <td>2678976</td>\n",
       "      <td>123</td>\n",
       "      <td>0</td>\n",
       "      <td>ES</td>\n",
       "    </tr>\n",
       "  </tbody>\n",
       "</table>\n",
       "</div>"
      ],
      "text/plain": [
       "  sample_datetime sample_date_string region verification_key_version  \\\n",
       "0      2020-12-08         2020-12-08     ES                       V1   \n",
       "1      2020-12-08         2020-12-08     ES                       V1   \n",
       "2      2020-12-08         2020-12-08     ES                       V1   \n",
       "3      2020-12-08         2020-12-08     ES                       V1   \n",
       "4      2020-12-08         2020-12-08     ES                       V1   \n",
       "\n",
       "  verification_key_id  signature_algorithm  \\\n",
       "0                 214  1.2.840.10045.4.3.2   \n",
       "1                 214  1.2.840.10045.4.3.2   \n",
       "2                 214  1.2.840.10045.4.3.2   \n",
       "3                 214  1.2.840.10045.4.3.2   \n",
       "4                 214  1.2.840.10045.4.3.2   \n",
       "\n",
       "                               key_data  rolling_start_interval_number  \\\n",
       "0  3f90a7cd-97be-77d0-4ddc-18539c609dee                        2678976   \n",
       "1  e64617a9-9dbb-52ad-5684-bb26d772b7fc                        2678976   \n",
       "2  92a02949-a2dd-b486-4c63-20423605225a                        2678976   \n",
       "3  c051065c-5a5b-9d6a-dfd4-0811177b7f1f                        2678976   \n",
       "4  488f9857-ec2b-fd37-6230-436eff8e47ba                        2678976   \n",
       "\n",
       "   rolling_period  transmission_risk_level backend_identifier  \n",
       "0             130                        0                 ES  \n",
       "1             126                        0                 ES  \n",
       "2             124                        0                 ES  \n",
       "3             123                        0                 ES  \n",
       "4             123                        0                 ES  "
      ]
     },
     "execution_count": 18,
     "metadata": {},
     "output_type": "execute_result"
    }
   ],
   "source": [
    "raw_zip_path_prefix = \"Data/TEKs/Raw/\"\n",
    "fail_on_error_backend_identifiers = [report_backend_identifier]\n",
    "multi_backend_exposure_keys_df = \\\n",
    "    exposure_notification_io.download_exposure_keys_from_backends(\n",
    "        backend_identifiers=report_backend_identifiers,\n",
    "        generation_days=backend_generation_days,\n",
    "        fail_on_error_backend_identifiers=fail_on_error_backend_identifiers,\n",
    "        save_raw_zip_path_prefix=raw_zip_path_prefix)\n",
    "multi_backend_exposure_keys_df[\"region\"] = multi_backend_exposure_keys_df[\"backend_identifier\"]\n",
    "multi_backend_exposure_keys_df.rename(\n",
    "    columns={\n",
    "        \"generation_datetime\": \"sample_datetime\",\n",
    "        \"generation_date_string\": \"sample_date_string\",\n",
    "    },\n",
    "    inplace=True)\n",
    "multi_backend_exposure_keys_df.head()"
   ]
  },
  {
   "cell_type": "code",
   "execution_count": 19,
   "metadata": {
    "collapsed": false,
    "execution": {
     "iopub.execute_input": "2020-12-08T23:33:38.261869Z",
     "iopub.status.busy": "2020-12-08T23:33:38.261417Z",
     "iopub.status.idle": "2020-12-08T23:33:38.465119Z",
     "shell.execute_reply": "2020-12-08T23:33:38.465527Z"
    },
    "papermill": {
     "duration": 0.244262,
     "end_time": "2020-12-08T23:33:38.465670",
     "exception": false,
     "start_time": "2020-12-08T23:33:38.221408",
     "status": "completed"
    },
    "pycharm": {
     "name": "#%%\n"
    },
    "tags": []
   },
   "outputs": [
    {
     "data": {
      "text/plain": [
       "<matplotlib.axes._subplots.AxesSubplot at 0x7fed854b9550>"
      ]
     },
     "execution_count": 19,
     "metadata": {},
     "output_type": "execute_result"
    },
    {
     "data": {
      "image/png": "[encoded data removed]",
      "text/plain": [
       "<Figure size 1080x432 with 1 Axes>"
      ]
     },
     "metadata": {},
     "output_type": "display_data"
    }
   ],
   "source": [
    "early_teks_df = multi_backend_exposure_keys_df[\n",
    "    multi_backend_exposure_keys_df.rolling_period < 144].copy()\n",
    "early_teks_df[\"rolling_period_in_hours\"] = early_teks_df.rolling_period / 6\n",
    "early_teks_df[early_teks_df.sample_date_string != extraction_date] \\\n",
    "    .rolling_period_in_hours.hist(bins=list(range(24)))"
   ]
  },
  {
   "cell_type": "code",
   "execution_count": 20,
   "metadata": {
    "collapsed": false,
    "execution": {
     "iopub.execute_input": "2020-12-08T23:33:38.551325Z",
     "iopub.status.busy": "2020-12-08T23:33:38.550880Z",
     "iopub.status.idle": "2020-12-08T23:33:38.725214Z",
     "shell.execute_reply": "2020-12-08T23:33:38.725582Z"
    },
    "papermill": {
     "duration": 0.222633,
     "end_time": "2020-12-08T23:33:38.725727",
     "exception": false,
     "start_time": "2020-12-08T23:33:38.503094",
     "status": "completed"
    },
    "pycharm": {
     "name": "#%%\n"
    },
    "tags": []
   },
   "outputs": [
    {
     "data": {
      "text/plain": [
       "<matplotlib.axes._subplots.AxesSubplot at 0x7fed8b72ed90>"
      ]
     },
     "execution_count": 20,
     "metadata": {},
     "output_type": "execute_result"
    },
    {
     "data": {
      "image/png": "[encoded data removed]",
      "text/plain": [
       "<Figure size 1080x432 with 1 Axes>"
      ]
     },
     "metadata": {},
     "output_type": "display_data"
    }
   ],
   "source": [
    "early_teks_df[early_teks_df.sample_date_string == extraction_date] \\\n",
    "    .rolling_period_in_hours.hist(bins=list(range(24)))"
   ]
  },
  {
   "cell_type": "code",
   "execution_count": 21,
   "metadata": {
    "collapsed": false,
    "execution": {
     "iopub.execute_input": "2020-12-08T23:33:38.805450Z",
     "iopub.status.busy": "2020-12-08T23:33:38.805009Z",
     "iopub.status.idle": "2020-12-08T23:33:38.953412Z",
     "shell.execute_reply": "2020-12-08T23:33:38.953847Z"
    },
    "papermill": {
     "duration": 0.190451,
     "end_time": "2020-12-08T23:33:38.954015",
     "exception": false,
     "start_time": "2020-12-08T23:33:38.763564",
     "status": "completed"
    },
    "pycharm": {
     "name": "#%%\n"
    },
    "tags": []
   },
   "outputs": [
    {
     "data": {
      "text/html": [
       "<div>\n",
       "<style scoped>\n",
       "    .dataframe tbody tr th:only-of-type {\n",
       "        vertical-align: middle;\n",
       "    }\n",
       "\n",
       "    .dataframe tbody tr th {\n",
       "        vertical-align: top;\n",
       "    }\n",
       "\n",
       "    .dataframe thead th {\n",
       "        text-align: right;\n",
       "    }\n",
       "</style>\n",
       "<table border=\"1\" class=\"dataframe\">\n",
       "  <thead>\n",
       "    <tr style=\"text-align: right;\">\n",
       "      <th></th>\n",
       "      <th>sample_date_string</th>\n",
       "      <th>region</th>\n",
       "      <th>key_data</th>\n",
       "    </tr>\n",
       "  </thead>\n",
       "  <tbody>\n",
       "    <tr>\n",
       "      <th>0</th>\n",
       "      <td>2020-12-08</td>\n",
       "      <td>ES</td>\n",
       "      <td>3f90a7cd-97be-77d0-4ddc-18539c609dee</td>\n",
       "    </tr>\n",
       "    <tr>\n",
       "      <th>1</th>\n",
       "      <td>2020-12-08</td>\n",
       "      <td>ES</td>\n",
       "      <td>e64617a9-9dbb-52ad-5684-bb26d772b7fc</td>\n",
       "    </tr>\n",
       "    <tr>\n",
       "      <th>2</th>\n",
       "      <td>2020-12-08</td>\n",
       "      <td>ES</td>\n",
       "      <td>92a02949-a2dd-b486-4c63-20423605225a</td>\n",
       "    </tr>\n",
       "    <tr>\n",
       "      <th>3</th>\n",
       "      <td>2020-12-08</td>\n",
       "      <td>ES</td>\n",
       "      <td>c051065c-5a5b-9d6a-dfd4-0811177b7f1f</td>\n",
       "    </tr>\n",
       "    <tr>\n",
       "      <th>4</th>\n",
       "      <td>2020-12-08</td>\n",
       "      <td>ES</td>\n",
       "      <td>488f9857-ec2b-fd37-6230-436eff8e47ba</td>\n",
       "    </tr>\n",
       "  </tbody>\n",
       "</table>\n",
       "</div>"
      ],
      "text/plain": [
       "  sample_date_string region                              key_data\n",
       "0         2020-12-08     ES  3f90a7cd-97be-77d0-4ddc-18539c609dee\n",
       "1         2020-12-08     ES  e64617a9-9dbb-52ad-5684-bb26d772b7fc\n",
       "2         2020-12-08     ES  92a02949-a2dd-b486-4c63-20423605225a\n",
       "3         2020-12-08     ES  c051065c-5a5b-9d6a-dfd4-0811177b7f1f\n",
       "4         2020-12-08     ES  488f9857-ec2b-fd37-6230-436eff8e47ba"
      ]
     },
     "execution_count": 21,
     "metadata": {},
     "output_type": "execute_result"
    }
   ],
   "source": [
    "multi_backend_exposure_keys_df = multi_backend_exposure_keys_df[[\n",
    "    \"sample_date_string\", \"region\", \"key_data\"]]\n",
    "multi_backend_exposure_keys_df.head()"
   ]
  },
  {
   "cell_type": "code",
   "execution_count": 22,
   "metadata": {
    "collapsed": false,
    "execution": {
     "iopub.execute_input": "2020-12-08T23:33:39.069175Z",
     "iopub.status.busy": "2020-12-08T23:33:39.068612Z",
     "iopub.status.idle": "2020-12-08T23:34:02.762453Z",
     "shell.execute_reply": "2020-12-08T23:34:02.762044Z"
    },
    "papermill": {
     "duration": 23.769822,
     "end_time": "2020-12-08T23:34:02.762581",
     "exception": false,
     "start_time": "2020-12-08T23:33:38.992759",
     "status": "completed"
    },
    "pycharm": {
     "name": "#%%\n"
    },
    "tags": []
   },
   "outputs": [
    {
     "data": {
      "text/plain": [
       "['PT', 'MT', 'EE', 'CH', 'DE', 'ES', 'ES@PRE']"
      ]
     },
     "execution_count": 22,
     "metadata": {},
     "output_type": "execute_result"
    }
   ],
   "source": [
    "active_regions = \\\n",
    "    multi_backend_exposure_keys_df.groupby(\"region\").key_data.nunique().sort_values().index.unique().tolist()\n",
    "active_regions"
   ]
  },
  {
   "cell_type": "code",
   "execution_count": 23,
   "metadata": {
    "collapsed": false,
    "execution": {
     "iopub.execute_input": "2020-12-08T23:34:03.013127Z",
     "iopub.status.busy": "2020-12-08T23:34:03.012506Z",
     "iopub.status.idle": "2020-12-08T23:34:26.835144Z",
     "shell.execute_reply": "2020-12-08T23:34:26.834737Z"
    },
    "papermill": {
     "duration": 24.029436,
     "end_time": "2020-12-08T23:34:26.835271",
     "exception": false,
     "start_time": "2020-12-08T23:34:02.805835",
     "status": "completed"
    },
    "pycharm": {
     "name": "#%%\n"
    },
    "tags": []
   },
   "outputs": [
    {
     "data": {
      "text/html": [
       "<div>\n",
       "<style scoped>\n",
       "    .dataframe tbody tr th:only-of-type {\n",
       "        vertical-align: middle;\n",
       "    }\n",
       "\n",
       "    .dataframe tbody tr th {\n",
       "        vertical-align: top;\n",
       "    }\n",
       "\n",
       "    .dataframe thead tr th {\n",
       "        text-align: left;\n",
       "    }\n",
       "\n",
       "    .dataframe thead tr:last-of-type th {\n",
       "        text-align: right;\n",
       "    }\n",
       "</style>\n",
       "<table border=\"1\" class=\"dataframe\">\n",
       "  <thead>\n",
       "    <tr>\n",
       "      <th></th>\n",
       "      <th colspan=\"7\" halign=\"left\">shared_teks_by_generation_date</th>\n",
       "    </tr>\n",
       "    <tr>\n",
       "      <th>region</th>\n",
       "      <th>CH</th>\n",
       "      <th>DE</th>\n",
       "      <th>EE</th>\n",
       "      <th>ES</th>\n",
       "      <th>ES@PRE</th>\n",
       "      <th>MT</th>\n",
       "      <th>PT</th>\n",
       "    </tr>\n",
       "    <tr>\n",
       "      <th>sample_date</th>\n",
       "      <th></th>\n",
       "      <th></th>\n",
       "      <th></th>\n",
       "      <th></th>\n",
       "      <th></th>\n",
       "      <th></th>\n",
       "      <th></th>\n",
       "    </tr>\n",
       "  </thead>\n",
       "  <tbody>\n",
       "    <tr>\n",
       "      <th>2020-12-08</th>\n",
       "      <td>559</td>\n",
       "      <td>0</td>\n",
       "      <td>0</td>\n",
       "      <td>121</td>\n",
       "      <td>0</td>\n",
       "      <td>0</td>\n",
       "      <td>0</td>\n",
       "    </tr>\n",
       "    <tr>\n",
       "      <th>2020-12-07</th>\n",
       "      <td>1213</td>\n",
       "      <td>11</td>\n",
       "      <td>57</td>\n",
       "      <td>2402</td>\n",
       "      <td>1691</td>\n",
       "      <td>106</td>\n",
       "      <td>32</td>\n",
       "    </tr>\n",
       "    <tr>\n",
       "      <th>2020-12-06</th>\n",
       "      <td>1502</td>\n",
       "      <td>1271</td>\n",
       "      <td>85</td>\n",
       "      <td>4132</td>\n",
       "      <td>30547</td>\n",
       "      <td>106</td>\n",
       "      <td>40</td>\n",
       "    </tr>\n",
       "    <tr>\n",
       "      <th>2020-12-05</th>\n",
       "      <td>1903</td>\n",
       "      <td>2292</td>\n",
       "      <td>112</td>\n",
       "      <td>5735</td>\n",
       "      <td>68873</td>\n",
       "      <td>106</td>\n",
       "      <td>58</td>\n",
       "    </tr>\n",
       "    <tr>\n",
       "      <th>2020-12-04</th>\n",
       "      <td>2340</td>\n",
       "      <td>4195</td>\n",
       "      <td>130</td>\n",
       "      <td>8309</td>\n",
       "      <td>92141</td>\n",
       "      <td>106</td>\n",
       "      <td>78</td>\n",
       "    </tr>\n",
       "  </tbody>\n",
       "</table>\n",
       "</div>"
      ],
      "text/plain": [
       "            shared_teks_by_generation_date                                 \n",
       "region                                  CH    DE   EE    ES ES@PRE   MT  PT\n",
       "sample_date                                                                \n",
       "2020-12-08                             559     0    0   121      0    0   0\n",
       "2020-12-07                            1213    11   57  2402   1691  106  32\n",
       "2020-12-06                            1502  1271   85  4132  30547  106  40\n",
       "2020-12-05                            1903  2292  112  5735  68873  106  58\n",
       "2020-12-04                            2340  4195  130  8309  92141  106  78"
      ]
     },
     "execution_count": 23,
     "metadata": {},
     "output_type": "execute_result"
    }
   ],
   "source": [
    "multi_backend_summary_df = multi_backend_exposure_keys_df.groupby(\n",
    "    [\"sample_date_string\", \"region\"]).key_data.nunique().reset_index() \\\n",
    "    .pivot(index=\"sample_date_string\", columns=\"region\") \\\n",
    "    .sort_index(ascending=False)\n",
    "multi_backend_summary_df.rename(\n",
    "    columns={\"key_data\": \"shared_teks_by_generation_date\"},\n",
    "    inplace=True)\n",
    "multi_backend_summary_df.rename_axis(\"sample_date\", inplace=True)\n",
    "multi_backend_summary_df = multi_backend_summary_df.fillna(0).astype(int)\n",
    "multi_backend_summary_df = multi_backend_summary_df.head(backend_generation_days)\n",
    "multi_backend_summary_df.head()"
   ]
  },
  {
   "cell_type": "code",
   "execution_count": 24,
   "metadata": {
    "collapsed": false,
    "execution": {
     "iopub.execute_input": "2020-12-08T23:34:26.929859Z",
     "iopub.status.busy": "2020-12-08T23:34:26.929323Z",
     "iopub.status.idle": "2020-12-08T23:34:43.145229Z",
     "shell.execute_reply": "2020-12-08T23:34:43.144781Z"
    },
    "papermill": {
     "duration": 16.266172,
     "end_time": "2020-12-08T23:34:43.145346",
     "exception": false,
     "start_time": "2020-12-08T23:34:26.879174",
     "status": "completed"
    },
    "pycharm": {
     "name": "#%%\n"
    },
    "tags": []
   },
   "outputs": [
    {
     "name": "stderr",
     "output_type": "stream",
     "text": [
      "<ipython-input-24-4e21708c19d8>:2: FutureWarning: `item` has been deprecated and will be removed in a future version\n",
      "  teks_x = x.key_data_x.item()\n",
      "<ipython-input-24-4e21708c19d8>:3: FutureWarning: `item` has been deprecated and will be removed in a future version\n",
      "  common_teks = set(teks_x).intersection(x.key_data_y.item())\n"
     ]
    },
    {
     "name": "stderr",
     "output_type": "stream",
     "text": [
      "<ipython-input-24-4e21708c19d8>:33: FutureWarning: `item` has been deprecated and will be removed in a future version\n",
      "  aggfunc=lambda x: x.item())\n"
     ]
    },
    {
     "data": {
      "text/html": [
       "<div>\n",
       "<style scoped>\n",
       "    .dataframe tbody tr th:only-of-type {\n",
       "        vertical-align: middle;\n",
       "    }\n",
       "\n",
       "    .dataframe tbody tr th {\n",
       "        vertical-align: top;\n",
       "    }\n",
       "\n",
       "    .dataframe thead tr th {\n",
       "        text-align: left;\n",
       "    }\n",
       "\n",
       "    .dataframe thead tr:last-of-type th {\n",
       "        text-align: right;\n",
       "    }\n",
       "</style>\n",
       "<table border=\"1\" class=\"dataframe\">\n",
       "  <thead>\n",
       "    <tr>\n",
       "      <th></th>\n",
       "      <th colspan=\"7\" halign=\"left\">common_teks_fraction</th>\n",
       "    </tr>\n",
       "    <tr>\n",
       "      <th>region_x</th>\n",
       "      <th>CH</th>\n",
       "      <th>DE</th>\n",
       "      <th>EE</th>\n",
       "      <th>ES</th>\n",
       "      <th>ES@PRE</th>\n",
       "      <th>MT</th>\n",
       "      <th>PT</th>\n",
       "    </tr>\n",
       "    <tr>\n",
       "      <th>region_y</th>\n",
       "      <th></th>\n",
       "      <th></th>\n",
       "      <th></th>\n",
       "      <th></th>\n",
       "      <th></th>\n",
       "      <th></th>\n",
       "      <th></th>\n",
       "    </tr>\n",
       "  </thead>\n",
       "  <tbody>\n",
       "    <tr>\n",
       "      <th>CH</th>\n",
       "      <td>NaN</td>\n",
       "      <td>0.000060</td>\n",
       "      <td>0.0</td>\n",
       "      <td>0.000037</td>\n",
       "      <td>0.0</td>\n",
       "      <td>0.0</td>\n",
       "      <td>0.0</td>\n",
       "    </tr>\n",
       "    <tr>\n",
       "      <th>DE</th>\n",
       "      <td>0.000261</td>\n",
       "      <td>NaN</td>\n",
       "      <td>0.0</td>\n",
       "      <td>0.605572</td>\n",
       "      <td>0.0</td>\n",
       "      <td>0.0</td>\n",
       "      <td>0.0</td>\n",
       "    </tr>\n",
       "    <tr>\n",
       "      <th>EE</th>\n",
       "      <td>0.000000</td>\n",
       "      <td>0.000000</td>\n",
       "      <td>NaN</td>\n",
       "      <td>0.000000</td>\n",
       "      <td>0.0</td>\n",
       "      <td>0.0</td>\n",
       "      <td>0.0</td>\n",
       "    </tr>\n",
       "    <tr>\n",
       "      <th>ES</th>\n",
       "      <td>0.000261</td>\n",
       "      <td>0.974418</td>\n",
       "      <td>0.0</td>\n",
       "      <td>NaN</td>\n",
       "      <td>0.0</td>\n",
       "      <td>0.0</td>\n",
       "      <td>0.0</td>\n",
       "    </tr>\n",
       "    <tr>\n",
       "      <th>ES@PRE</th>\n",
       "      <td>0.000000</td>\n",
       "      <td>0.000000</td>\n",
       "      <td>0.0</td>\n",
       "      <td>0.000000</td>\n",
       "      <td>NaN</td>\n",
       "      <td>0.0</td>\n",
       "      <td>0.0</td>\n",
       "    </tr>\n",
       "    <tr>\n",
       "      <th>MT</th>\n",
       "      <td>0.000000</td>\n",
       "      <td>0.000000</td>\n",
       "      <td>0.0</td>\n",
       "      <td>0.000000</td>\n",
       "      <td>0.0</td>\n",
       "      <td>NaN</td>\n",
       "      <td>0.0</td>\n",
       "    </tr>\n",
       "    <tr>\n",
       "      <th>PT</th>\n",
       "      <td>0.000000</td>\n",
       "      <td>0.000000</td>\n",
       "      <td>0.0</td>\n",
       "      <td>0.000000</td>\n",
       "      <td>0.0</td>\n",
       "      <td>0.0</td>\n",
       "      <td>NaN</td>\n",
       "    </tr>\n",
       "  </tbody>\n",
       "</table>\n",
       "</div>"
      ],
      "text/plain": [
       "         common_teks_fraction                                          \n",
       "region_x                   CH        DE   EE        ES ES@PRE   MT   PT\n",
       "region_y                                                               \n",
       "CH                        NaN  0.000060  0.0  0.000037    0.0  0.0  0.0\n",
       "DE                   0.000261       NaN  0.0  0.605572    0.0  0.0  0.0\n",
       "EE                   0.000000  0.000000  NaN  0.000000    0.0  0.0  0.0\n",
       "ES                   0.000261  0.974418  0.0       NaN    0.0  0.0  0.0\n",
       "ES@PRE               0.000000  0.000000  0.0  0.000000    NaN  0.0  0.0\n",
       "MT                   0.000000  0.000000  0.0  0.000000    0.0  NaN  0.0\n",
       "PT                   0.000000  0.000000  0.0  0.000000    0.0  0.0  NaN"
      ]
     },
     "execution_count": 24,
     "metadata": {},
     "output_type": "execute_result"
    }
   ],
   "source": [
    "def compute_keys_cross_sharing(x):\n",
    "    teks_x = x.key_data_x.item()\n",
    "    common_teks = set(teks_x).intersection(x.key_data_y.item())\n",
    "    common_teks_fraction = len(common_teks) / len(teks_x)\n",
    "    return pd.Series(dict(\n",
    "        common_teks=common_teks,\n",
    "        common_teks_fraction=common_teks_fraction,\n",
    "    ))\n",
    "\n",
    "multi_backend_exposure_keys_by_region_df = \\\n",
    "    multi_backend_exposure_keys_df.groupby(\"region\").key_data.unique().reset_index()\n",
    "multi_backend_exposure_keys_by_region_df[\"_merge\"] = True\n",
    "multi_backend_exposure_keys_by_region_combination_df = \\\n",
    "    multi_backend_exposure_keys_by_region_df.merge(\n",
    "        multi_backend_exposure_keys_by_region_df, on=\"_merge\")\n",
    "multi_backend_exposure_keys_by_region_combination_df.drop(\n",
    "    columns=[\"_merge\"], inplace=True)\n",
    "if multi_backend_exposure_keys_by_region_combination_df.region_x.nunique() > 1:\n",
    "    multi_backend_exposure_keys_by_region_combination_df = \\\n",
    "        multi_backend_exposure_keys_by_region_combination_df[\n",
    "            multi_backend_exposure_keys_by_region_combination_df.region_x !=\n",
    "            multi_backend_exposure_keys_by_region_combination_df.region_y]\n",
    "multi_backend_exposure_keys_cross_sharing_df = \\\n",
    "    multi_backend_exposure_keys_by_region_combination_df \\\n",
    "        .groupby([\"region_x\", \"region_y\"]) \\\n",
    "        .apply(compute_keys_cross_sharing) \\\n",
    "        .reset_index()\n",
    "multi_backend_cross_sharing_summary_df = \\\n",
    "    multi_backend_exposure_keys_cross_sharing_df.pivot_table(\n",
    "        values=[\"common_teks_fraction\"],\n",
    "        columns=\"region_x\",\n",
    "        index=\"region_y\",\n",
    "        aggfunc=lambda x: x.item())\n",
    "multi_backend_cross_sharing_summary_df"
   ]
  },
  {
   "cell_type": "code",
   "execution_count": 25,
   "metadata": {
    "collapsed": false,
    "execution": {
     "iopub.execute_input": "2020-12-08T23:34:43.364410Z",
     "iopub.status.busy": "2020-12-08T23:34:43.363810Z",
     "iopub.status.idle": "2020-12-08T23:35:04.912503Z",
     "shell.execute_reply": "2020-12-08T23:35:04.912045Z"
    },
    "papermill": {
     "duration": 21.722852,
     "end_time": "2020-12-08T23:35:04.912640",
     "exception": false,
     "start_time": "2020-12-08T23:34:43.189788",
     "status": "completed"
    },
    "pycharm": {
     "name": "#%%\n"
    },
    "tags": []
   },
   "outputs": [
    {
     "data": {
      "text/plain": [
       "['PT', 'MT', 'EE', 'CH', 'DE', 'ES@PRE']"
      ]
     },
     "execution_count": 25,
     "metadata": {},
     "output_type": "execute_result"
    }
   ],
   "source": [
    "multi_backend_without_active_region_exposure_keys_df = \\\n",
    "    multi_backend_exposure_keys_df[multi_backend_exposure_keys_df.region != report_backend_identifier]\n",
    "multi_backend_without_active_region = \\\n",
    "    multi_backend_without_active_region_exposure_keys_df.groupby(\"region\").key_data.nunique().sort_values().index.unique().tolist()\n",
    "multi_backend_without_active_region"
   ]
  },
  {
   "cell_type": "code",
   "execution_count": 26,
   "metadata": {
    "execution": {
     "iopub.execute_input": "2020-12-08T23:35:05.134019Z",
     "iopub.status.busy": "2020-12-08T23:35:05.133399Z",
     "iopub.status.idle": "2020-12-08T23:35:06.412307Z",
     "shell.execute_reply": "2020-12-08T23:35:06.412742Z"
    },
    "papermill": {
     "duration": 1.455133,
     "end_time": "2020-12-08T23:35:06.412908",
     "exception": false,
     "start_time": "2020-12-08T23:35:04.957775",
     "status": "completed"
    },
    "scrolled": false,
    "tags": []
   },
   "outputs": [
    {
     "name": "stderr",
     "output_type": "stream",
     "text": [
      "/opt/hostedtoolcache/Python/3.8.6/x64/lib/python3.8/site-packages/pandas/core/frame.py:4110: SettingWithCopyWarning: \n",
      "A value is trying to be set on a copy of a slice from a DataFrame\n",
      "\n",
      "See the caveats in the documentation: http://pandas.pydata.org/pandas-docs/stable/user_guide/indexing.html#returning-a-view-versus-a-copy\n",
      "  return super().drop(\n"
     ]
    },
    {
     "data": {
      "text/html": [
       "<div>\n",
       "<style scoped>\n",
       "    .dataframe tbody tr th:only-of-type {\n",
       "        vertical-align: middle;\n",
       "    }\n",
       "\n",
       "    .dataframe tbody tr th {\n",
       "        vertical-align: top;\n",
       "    }\n",
       "\n",
       "    .dataframe thead th {\n",
       "        text-align: right;\n",
       "    }\n",
       "</style>\n",
       "<table border=\"1\" class=\"dataframe\">\n",
       "  <thead>\n",
       "    <tr style=\"text-align: right;\">\n",
       "      <th></th>\n",
       "      <th>shared_teks_by_generation_date</th>\n",
       "    </tr>\n",
       "    <tr>\n",
       "      <th>sample_date_string</th>\n",
       "      <th></th>\n",
       "    </tr>\n",
       "  </thead>\n",
       "  <tbody>\n",
       "    <tr>\n",
       "      <th>2020-12-08</th>\n",
       "      <td>121</td>\n",
       "    </tr>\n",
       "    <tr>\n",
       "      <th>2020-12-07</th>\n",
       "      <td>2402</td>\n",
       "    </tr>\n",
       "    <tr>\n",
       "      <th>2020-12-06</th>\n",
       "      <td>4132</td>\n",
       "    </tr>\n",
       "    <tr>\n",
       "      <th>2020-12-05</th>\n",
       "      <td>5735</td>\n",
       "    </tr>\n",
       "    <tr>\n",
       "      <th>2020-12-04</th>\n",
       "      <td>8309</td>\n",
       "    </tr>\n",
       "  </tbody>\n",
       "</table>\n",
       "</div>"
      ],
      "text/plain": [
       "                    shared_teks_by_generation_date\n",
       "sample_date_string                                \n",
       "2020-12-08                                     121\n",
       "2020-12-07                                    2402\n",
       "2020-12-06                                    4132\n",
       "2020-12-05                                    5735\n",
       "2020-12-04                                    8309"
      ]
     },
     "execution_count": 26,
     "metadata": {},
     "output_type": "execute_result"
    }
   ],
   "source": [
    "exposure_keys_summary_df = multi_backend_exposure_keys_df[\n",
    "    multi_backend_exposure_keys_df.region == report_backend_identifier]\n",
    "exposure_keys_summary_df.drop(columns=[\"region\"], inplace=True)\n",
    "exposure_keys_summary_df = \\\n",
    "    exposure_keys_summary_df.groupby([\"sample_date_string\"]).key_data.nunique().to_frame()\n",
    "exposure_keys_summary_df = \\\n",
    "    exposure_keys_summary_df.reset_index().set_index(\"sample_date_string\")\n",
    "exposure_keys_summary_df.sort_index(ascending=False, inplace=True)\n",
    "exposure_keys_summary_df.rename(columns={\"key_data\": \"shared_teks_by_generation_date\"}, inplace=True)\n",
    "exposure_keys_summary_df.head()"
   ]
  },
  {
   "cell_type": "markdown",
   "metadata": {
    "papermill": {
     "duration": 0.044697,
     "end_time": "2020-12-08T23:35:06.503689",
     "exception": false,
     "start_time": "2020-12-08T23:35:06.458992",
     "status": "completed"
    },
    "tags": []
   },
   "source": [
    "### Dump API TEKs"
   ]
  },
  {
   "cell_type": "code",
   "execution_count": 27,
   "metadata": {
    "execution": {
     "iopub.execute_input": "2020-12-08T23:35:06.600175Z",
     "iopub.status.busy": "2020-12-08T23:35:06.599650Z",
     "iopub.status.idle": "2020-12-08T23:35:17.947723Z",
     "shell.execute_reply": "2020-12-08T23:35:17.947245Z"
    },
    "papermill": {
     "duration": 11.399734,
     "end_time": "2020-12-08T23:35:17.947865",
     "exception": false,
     "start_time": "2020-12-08T23:35:06.548131",
     "status": "completed"
    },
    "tags": []
   },
   "outputs": [
    {
     "data": {
      "text/html": [
       "<div>\n",
       "<style scoped>\n",
       "    .dataframe tbody tr th:only-of-type {\n",
       "        vertical-align: middle;\n",
       "    }\n",
       "\n",
       "    .dataframe tbody tr th {\n",
       "        vertical-align: top;\n",
       "    }\n",
       "\n",
       "    .dataframe thead th {\n",
       "        text-align: right;\n",
       "    }\n",
       "</style>\n",
       "<table border=\"1\" class=\"dataframe\">\n",
       "  <thead>\n",
       "    <tr style=\"text-align: right;\">\n",
       "      <th></th>\n",
       "      <th>sample_date</th>\n",
       "      <th>region</th>\n",
       "      <th>tek_list</th>\n",
       "      <th>extraction_date</th>\n",
       "      <th>extraction_date_with_hour</th>\n",
       "    </tr>\n",
       "  </thead>\n",
       "  <tbody>\n",
       "    <tr>\n",
       "      <th>0</th>\n",
       "      <td>2020-11-25</td>\n",
       "      <td>CH</td>\n",
       "      <td>[7d0ed64a-851d-3aa9-bb3d-f4ad587fbb14, 22748a7...</td>\n",
       "      <td>2020-12-08</td>\n",
       "      <td>2020-12-08@23</td>\n",
       "    </tr>\n",
       "    <tr>\n",
       "      <th>1</th>\n",
       "      <td>2020-11-25</td>\n",
       "      <td>DE</td>\n",
       "      <td>[005c4049-a0c0-98a3-6ee1-76380e271127, 005d928...</td>\n",
       "      <td>2020-12-08</td>\n",
       "      <td>2020-12-08@23</td>\n",
       "    </tr>\n",
       "    <tr>\n",
       "      <th>2</th>\n",
       "      <td>2020-11-25</td>\n",
       "      <td>EE</td>\n",
       "      <td>[dfaefd3b-e0ff-7b9f-7541-5087e9be9b4a, d0ba6e9...</td>\n",
       "      <td>2020-12-08</td>\n",
       "      <td>2020-12-08@23</td>\n",
       "    </tr>\n",
       "    <tr>\n",
       "      <th>3</th>\n",
       "      <td>2020-11-25</td>\n",
       "      <td>ES</td>\n",
       "      <td>[12852e22-80fe-bae0-6064-823b9d390f1e, d674fc8...</td>\n",
       "      <td>2020-12-08</td>\n",
       "      <td>2020-12-08@23</td>\n",
       "    </tr>\n",
       "    <tr>\n",
       "      <th>4</th>\n",
       "      <td>2020-11-25</td>\n",
       "      <td>ES@PRE</td>\n",
       "      <td>[41714e7c-aacf-4aee-a9ac-53390b5fc0d6, ecda08b...</td>\n",
       "      <td>2020-12-08</td>\n",
       "      <td>2020-12-08@23</td>\n",
       "    </tr>\n",
       "  </tbody>\n",
       "</table>\n",
       "</div>"
      ],
      "text/plain": [
       "  sample_date  region                                           tek_list  \\\n",
       "0  2020-11-25      CH  [7d0ed64a-851d-3aa9-bb3d-f4ad587fbb14, 22748a7...   \n",
       "1  2020-11-25      DE  [005c4049-a0c0-98a3-6ee1-76380e271127, 005d928...   \n",
       "2  2020-11-25      EE  [dfaefd3b-e0ff-7b9f-7541-5087e9be9b4a, d0ba6e9...   \n",
       "3  2020-11-25      ES  [12852e22-80fe-bae0-6064-823b9d390f1e, d674fc8...   \n",
       "4  2020-11-25  ES@PRE  [41714e7c-aacf-4aee-a9ac-53390b5fc0d6, ecda08b...   \n",
       "\n",
       "  extraction_date extraction_date_with_hour  \n",
       "0      2020-12-08             2020-12-08@23  \n",
       "1      2020-12-08             2020-12-08@23  \n",
       "2      2020-12-08             2020-12-08@23  \n",
       "3      2020-12-08             2020-12-08@23  \n",
       "4      2020-12-08             2020-12-08@23  "
      ]
     },
     "execution_count": 27,
     "metadata": {},
     "output_type": "execute_result"
    }
   ],
   "source": [
    "tek_list_df = multi_backend_exposure_keys_df[\n",
    "    [\"sample_date_string\", \"region\", \"key_data\"]].copy()\n",
    "tek_list_df[\"key_data\"] = tek_list_df[\"key_data\"].apply(str)\n",
    "tek_list_df.rename(columns={\n",
    "    \"sample_date_string\": \"sample_date\",\n",
    "    \"key_data\": \"tek_list\"}, inplace=True)\n",
    "tek_list_df = tek_list_df.groupby(\n",
    "    [\"sample_date\", \"region\"]).tek_list.unique().reset_index()\n",
    "tek_list_df[\"extraction_date\"] = extraction_date\n",
    "tek_list_df[\"extraction_date_with_hour\"] = extraction_date_with_hour\n",
    "\n",
    "tek_list_path_prefix = \"Data/TEKs/\"\n",
    "tek_list_current_path = tek_list_path_prefix + f\"/Current/RadarCOVID-TEKs.json\"\n",
    "tek_list_daily_path = tek_list_path_prefix + f\"Daily/RadarCOVID-TEKs-{extraction_date}.json\"\n",
    "tek_list_hourly_path = tek_list_path_prefix + f\"Hourly/RadarCOVID-TEKs-{extraction_date_with_hour}.json\"\n",
    "\n",
    "for path in [tek_list_current_path, tek_list_daily_path, tek_list_hourly_path]:\n",
    "    os.makedirs(os.path.dirname(path), exist_ok=True)\n",
    "\n",
    "tek_list_df.drop(columns=[\"extraction_date\", \"extraction_date_with_hour\"]).to_json(\n",
    "    tek_list_current_path,\n",
    "    lines=True, orient=\"records\")\n",
    "tek_list_df.drop(columns=[\"extraction_date_with_hour\"]).to_json(\n",
    "    tek_list_daily_path,\n",
    "    lines=True, orient=\"records\")\n",
    "tek_list_df.to_json(\n",
    "    tek_list_hourly_path,\n",
    "    lines=True, orient=\"records\")\n",
    "tek_list_df.head()"
   ]
  },
  {
   "cell_type": "markdown",
   "metadata": {
    "papermill": {
     "duration": 0.073235,
     "end_time": "2020-12-08T23:35:18.067389",
     "exception": false,
     "start_time": "2020-12-08T23:35:17.994154",
     "status": "completed"
    },
    "tags": []
   },
   "source": [
    "### Load TEK Dumps"
   ]
  },
  {
   "cell_type": "code",
   "execution_count": 28,
   "metadata": {
    "execution": {
     "iopub.execute_input": "2020-12-08T23:35:18.165186Z",
     "iopub.status.busy": "2020-12-08T23:35:18.164445Z",
     "iopub.status.idle": "2020-12-08T23:35:18.168068Z",
     "shell.execute_reply": "2020-12-08T23:35:18.167669Z"
    },
    "papermill": {
     "duration": 0.055156,
     "end_time": "2020-12-08T23:35:18.168184",
     "exception": false,
     "start_time": "2020-12-08T23:35:18.113028",
     "status": "completed"
    },
    "tags": []
   },
   "outputs": [],
   "source": [
    "import glob\n",
    "\n",
    "def load_extracted_teks(mode, region=None, limit=None) -> pd.DataFrame:\n",
    "    extracted_teks_df = pd.DataFrame(columns=[\"region\"])\n",
    "    file_paths = list(reversed(sorted(glob.glob(tek_list_path_prefix + mode + \"/RadarCOVID-TEKs-*.json\"))))\n",
    "    if limit:\n",
    "        file_paths = file_paths[:limit]\n",
    "    for file_path in file_paths:\n",
    "        logging.info(f\"Loading TEKs from '{file_path}'...\")\n",
    "        iteration_extracted_teks_df = pd.read_json(file_path, lines=True)\n",
    "        extracted_teks_df = extracted_teks_df.append(\n",
    "            iteration_extracted_teks_df, sort=False)\n",
    "    extracted_teks_df[\"region\"] = \\\n",
    "        extracted_teks_df.region.fillna(spain_region_country_code).copy()\n",
    "    if region:\n",
    "        extracted_teks_df = \\\n",
    "            extracted_teks_df[extracted_teks_df.region == region]\n",
    "    return extracted_teks_df"
   ]
  },
  {
   "cell_type": "code",
   "execution_count": 29,
   "metadata": {
    "collapsed": false,
    "execution": {
     "iopub.execute_input": "2020-12-08T23:35:18.265916Z",
     "iopub.status.busy": "2020-12-08T23:35:18.265443Z",
     "iopub.status.idle": "2020-12-08T23:35:45.989566Z",
     "shell.execute_reply": "2020-12-08T23:35:45.989156Z"
    },
    "papermill": {
     "duration": 27.775715,
     "end_time": "2020-12-08T23:35:45.989692",
     "exception": false,
     "start_time": "2020-12-08T23:35:18.213977",
     "status": "completed"
    },
    "pycharm": {
     "name": "#%%\n"
    },
    "tags": []
   },
   "outputs": [
    {
     "data": {
      "text/html": [
       "<div>\n",
       "<style scoped>\n",
       "    .dataframe tbody tr th:only-of-type {\n",
       "        vertical-align: middle;\n",
       "    }\n",
       "\n",
       "    .dataframe tbody tr th {\n",
       "        vertical-align: top;\n",
       "    }\n",
       "\n",
       "    .dataframe thead th {\n",
       "        text-align: right;\n",
       "    }\n",
       "</style>\n",
       "<table border=\"1\" class=\"dataframe\">\n",
       "  <thead>\n",
       "    <tr style=\"text-align: right;\">\n",
       "      <th></th>\n",
       "      <th>region</th>\n",
       "      <th>sample_date</th>\n",
       "      <th>tek_list</th>\n",
       "      <th>extraction_date</th>\n",
       "    </tr>\n",
       "  </thead>\n",
       "  <tbody>\n",
       "    <tr>\n",
       "      <th>3</th>\n",
       "      <td>ES</td>\n",
       "      <td>2020-11-25</td>\n",
       "      <td>[12852e22-80fe-bae0-6064-823b9d390f1e, d674fc8...</td>\n",
       "      <td>2020-12-08</td>\n",
       "    </tr>\n",
       "    <tr>\n",
       "      <th>10</th>\n",
       "      <td>ES</td>\n",
       "      <td>2020-11-26</td>\n",
       "      <td>[737b7e4f-d6de-4e20-0684-290c2bd0f5e7, f6b2cdf...</td>\n",
       "      <td>2020-12-08</td>\n",
       "    </tr>\n",
       "    <tr>\n",
       "      <th>17</th>\n",
       "      <td>ES</td>\n",
       "      <td>2020-11-27</td>\n",
       "      <td>[f9a648bc-9bca-6344-57ec-46a34a41fd76, 328494f...</td>\n",
       "      <td>2020-12-08</td>\n",
       "    </tr>\n",
       "    <tr>\n",
       "      <th>24</th>\n",
       "      <td>ES</td>\n",
       "      <td>2020-11-28</td>\n",
       "      <td>[81b204d5-05f3-01df-6c19-1f551acd13f7, 5c4e368...</td>\n",
       "      <td>2020-12-08</td>\n",
       "    </tr>\n",
       "    <tr>\n",
       "      <th>31</th>\n",
       "      <td>ES</td>\n",
       "      <td>2020-11-29</td>\n",
       "      <td>[91362fd8-1e70-7957-2e5a-5d37e9925f89, 131ffcd...</td>\n",
       "      <td>2020-12-08</td>\n",
       "    </tr>\n",
       "  </tbody>\n",
       "</table>\n",
       "</div>"
      ],
      "text/plain": [
       "   region sample_date                                           tek_list  \\\n",
       "3      ES  2020-11-25  [12852e22-80fe-bae0-6064-823b9d390f1e, d674fc8...   \n",
       "10     ES  2020-11-26  [737b7e4f-d6de-4e20-0684-290c2bd0f5e7, f6b2cdf...   \n",
       "17     ES  2020-11-27  [f9a648bc-9bca-6344-57ec-46a34a41fd76, 328494f...   \n",
       "24     ES  2020-11-28  [81b204d5-05f3-01df-6c19-1f551acd13f7, 5c4e368...   \n",
       "31     ES  2020-11-29  [91362fd8-1e70-7957-2e5a-5d37e9925f89, 131ffcd...   \n",
       "\n",
       "   extraction_date  \n",
       "3       2020-12-08  \n",
       "10      2020-12-08  \n",
       "17      2020-12-08  \n",
       "24      2020-12-08  \n",
       "31      2020-12-08  "
      ]
     },
     "execution_count": 29,
     "metadata": {},
     "output_type": "execute_result"
    }
   ],
   "source": [
    "daily_extracted_teks_df = load_extracted_teks(\n",
    "    mode=\"Daily\",\n",
    "    region=report_backend_identifier,\n",
    "    limit=tek_dumps_load_limit)\n",
    "daily_extracted_teks_df.head()"
   ]
  },
  {
   "cell_type": "code",
   "execution_count": 30,
   "metadata": {
    "collapsed": false,
    "execution": {
     "iopub.execute_input": "2020-12-08T23:35:46.089154Z",
     "iopub.status.busy": "2020-12-08T23:35:46.088632Z",
     "iopub.status.idle": "2020-12-08T23:35:46.111086Z",
     "shell.execute_reply": "2020-12-08T23:35:46.111480Z"
    },
    "papermill": {
     "duration": 0.075014,
     "end_time": "2020-12-08T23:35:46.111628",
     "exception": false,
     "start_time": "2020-12-08T23:35:46.036614",
     "status": "completed"
    },
    "pycharm": {
     "name": "#%%\n"
    },
    "tags": []
   },
   "outputs": [
    {
     "data": {
      "text/html": [
       "<div>\n",
       "<style scoped>\n",
       "    .dataframe tbody tr th:only-of-type {\n",
       "        vertical-align: middle;\n",
       "    }\n",
       "\n",
       "    .dataframe tbody tr th {\n",
       "        vertical-align: top;\n",
       "    }\n",
       "\n",
       "    .dataframe thead th {\n",
       "        text-align: right;\n",
       "    }\n",
       "</style>\n",
       "<table border=\"1\" class=\"dataframe\">\n",
       "  <thead>\n",
       "    <tr style=\"text-align: right;\">\n",
       "      <th></th>\n",
       "      <th>shared_teks_by_generation_date</th>\n",
       "    </tr>\n",
       "    <tr>\n",
       "      <th>sample_date_string</th>\n",
       "      <th></th>\n",
       "    </tr>\n",
       "  </thead>\n",
       "  <tbody>\n",
       "    <tr>\n",
       "      <th>2020-12-08</th>\n",
       "      <td>121</td>\n",
       "    </tr>\n",
       "    <tr>\n",
       "      <th>2020-12-07</th>\n",
       "      <td>2402</td>\n",
       "    </tr>\n",
       "    <tr>\n",
       "      <th>2020-12-06</th>\n",
       "      <td>4132</td>\n",
       "    </tr>\n",
       "    <tr>\n",
       "      <th>2020-12-05</th>\n",
       "      <td>5735</td>\n",
       "    </tr>\n",
       "    <tr>\n",
       "      <th>2020-12-04</th>\n",
       "      <td>8309</td>\n",
       "    </tr>\n",
       "  </tbody>\n",
       "</table>\n",
       "</div>"
      ],
      "text/plain": [
       "                    shared_teks_by_generation_date\n",
       "sample_date_string                                \n",
       "2020-12-08                                     121\n",
       "2020-12-07                                    2402\n",
       "2020-12-06                                    4132\n",
       "2020-12-05                                    5735\n",
       "2020-12-04                                    8309"
      ]
     },
     "execution_count": 30,
     "metadata": {},
     "output_type": "execute_result"
    }
   ],
   "source": [
    "exposure_keys_summary_df_ = daily_extracted_teks_df \\\n",
    "    .sort_values(\"extraction_date\", ascending=False) \\\n",
    "    .groupby(\"sample_date\").tek_list.first() \\\n",
    "    .to_frame()\n",
    "exposure_keys_summary_df_.index.name = \"sample_date_string\"\n",
    "exposure_keys_summary_df_[\"tek_list\"] = \\\n",
    "    exposure_keys_summary_df_.tek_list.apply(len)\n",
    "exposure_keys_summary_df_ = exposure_keys_summary_df_ \\\n",
    "    .rename(columns={\"tek_list\": \"shared_teks_by_generation_date\"}) \\\n",
    "    .sort_index(ascending=False)\n",
    "exposure_keys_summary_df = exposure_keys_summary_df_\n",
    "exposure_keys_summary_df.head()"
   ]
  },
  {
   "cell_type": "markdown",
   "metadata": {
    "execution": {
     "iopub.execute_input": "2020-08-30T22:30:16.632967Z",
     "iopub.status.busy": "2020-08-30T22:30:16.632308Z",
     "iopub.status.idle": "2020-08-30T22:30:16.634945Z",
     "shell.execute_reply": "2020-08-30T22:30:16.635575Z"
    },
    "papermill": {
     "duration": 0.046331,
     "end_time": "2020-12-08T23:35:46.204401",
     "exception": false,
     "start_time": "2020-12-08T23:35:46.158070",
     "status": "completed"
    },
    "pycharm": {
     "name": "#%% md\n"
    },
    "tags": []
   },
   "source": [
    "### Daily New TEKs"
   ]
  },
  {
   "cell_type": "code",
   "execution_count": 31,
   "metadata": {
    "execution": {
     "iopub.execute_input": "2020-12-08T23:35:46.349582Z",
     "iopub.status.busy": "2020-12-08T23:35:46.306872Z",
     "iopub.status.idle": "2020-12-08T23:35:47.818505Z",
     "shell.execute_reply": "2020-12-08T23:35:47.818897Z"
    },
    "papermill": {
     "duration": 1.568679,
     "end_time": "2020-12-08T23:35:47.819047",
     "exception": false,
     "start_time": "2020-12-08T23:35:46.250368",
     "status": "completed"
    },
    "tags": []
   },
   "outputs": [
    {
     "data": {
      "text/html": [
       "<div>\n",
       "<style scoped>\n",
       "    .dataframe tbody tr th:only-of-type {\n",
       "        vertical-align: middle;\n",
       "    }\n",
       "\n",
       "    .dataframe tbody tr th {\n",
       "        vertical-align: top;\n",
       "    }\n",
       "\n",
       "    .dataframe thead th {\n",
       "        text-align: right;\n",
       "    }\n",
       "</style>\n",
       "<table border=\"1\" class=\"dataframe\">\n",
       "  <thead>\n",
       "    <tr style=\"text-align: right;\">\n",
       "      <th></th>\n",
       "      <th>tek_list</th>\n",
       "    </tr>\n",
       "    <tr>\n",
       "      <th>extraction_date</th>\n",
       "      <th></th>\n",
       "    </tr>\n",
       "  </thead>\n",
       "  <tbody>\n",
       "    <tr>\n",
       "      <th>2020-09-15</th>\n",
       "      <td>{022cb708-cc79-e3b5-d65f-8be126a7b0c5, 9191afe...</td>\n",
       "    </tr>\n",
       "    <tr>\n",
       "      <th>2020-09-16</th>\n",
       "      <td>{9191afea-762d-17e7-a05a-ffd46a4e715d, ad7d3ea...</td>\n",
       "    </tr>\n",
       "    <tr>\n",
       "      <th>2020-09-17</th>\n",
       "      <td>{9191afea-762d-17e7-a05a-ffd46a4e715d, ad7d3ea...</td>\n",
       "    </tr>\n",
       "    <tr>\n",
       "      <th>2020-09-18</th>\n",
       "      <td>{9191afea-762d-17e7-a05a-ffd46a4e715d, a66a442...</td>\n",
       "    </tr>\n",
       "    <tr>\n",
       "      <th>2020-09-19</th>\n",
       "      <td>{9191afea-762d-17e7-a05a-ffd46a4e715d, e63eb79...</td>\n",
       "    </tr>\n",
       "  </tbody>\n",
       "</table>\n",
       "</div>"
      ],
      "text/plain": [
       "                                                          tek_list\n",
       "extraction_date                                                   \n",
       "2020-09-15       {022cb708-cc79-e3b5-d65f-8be126a7b0c5, 9191afe...\n",
       "2020-09-16       {9191afea-762d-17e7-a05a-ffd46a4e715d, ad7d3ea...\n",
       "2020-09-17       {9191afea-762d-17e7-a05a-ffd46a4e715d, ad7d3ea...\n",
       "2020-09-18       {9191afea-762d-17e7-a05a-ffd46a4e715d, a66a442...\n",
       "2020-09-19       {9191afea-762d-17e7-a05a-ffd46a4e715d, e63eb79..."
      ]
     },
     "execution_count": 31,
     "metadata": {},
     "output_type": "execute_result"
    }
   ],
   "source": [
    "tek_list_df = daily_extracted_teks_df.groupby(\"extraction_date\").tek_list.apply(\n",
    "    lambda x: set(sum(x, []))).reset_index()\n",
    "tek_list_df = tek_list_df.set_index(\"extraction_date\").sort_index(ascending=True)\n",
    "tek_list_df.head()"
   ]
  },
  {
   "cell_type": "code",
   "execution_count": 32,
   "metadata": {
    "collapsed": false,
    "execution": {
     "iopub.execute_input": "2020-12-08T23:35:50.026784Z",
     "iopub.status.busy": "2020-12-08T23:35:49.199936Z",
     "iopub.status.idle": "2020-12-08T23:36:57.579955Z",
     "shell.execute_reply": "2020-12-08T23:36:57.580341Z"
    },
    "papermill": {
     "duration": 69.714499,
     "end_time": "2020-12-08T23:36:57.580493",
     "exception": false,
     "start_time": "2020-12-08T23:35:47.865994",
     "status": "completed"
    },
    "pycharm": {
     "name": "#%%\n"
    },
    "tags": []
   },
   "outputs": [
    {
     "name": "stderr",
     "output_type": "stream",
     "text": [
      "<ipython-input-32-827222b35590>:4: FutureWarning: `item` has been deprecated and will be removed in a future version\n",
      "  day_new_teks_set = day_new_teks_set_df[\n"
     ]
    },
    {
     "data": {
      "text/html": [
       "<div>\n",
       "<style scoped>\n",
       "    .dataframe tbody tr th:only-of-type {\n",
       "        vertical-align: middle;\n",
       "    }\n",
       "\n",
       "    .dataframe tbody tr th {\n",
       "        vertical-align: top;\n",
       "    }\n",
       "\n",
       "    .dataframe thead th {\n",
       "        text-align: right;\n",
       "    }\n",
       "</style>\n",
       "<table border=\"1\" class=\"dataframe\">\n",
       "  <thead>\n",
       "    <tr style=\"text-align: right;\">\n",
       "      <th></th>\n",
       "      <th>upload_date</th>\n",
       "      <th>generation_date</th>\n",
       "      <th>shared_teks</th>\n",
       "      <th>generation_to_upload_days</th>\n",
       "    </tr>\n",
       "  </thead>\n",
       "  <tbody>\n",
       "    <tr>\n",
       "      <th>12</th>\n",
       "      <td>2020-09-16</td>\n",
       "      <td>2020-09-15</td>\n",
       "      <td>23</td>\n",
       "      <td>1</td>\n",
       "    </tr>\n",
       "    <tr>\n",
       "      <th>11</th>\n",
       "      <td>2020-09-16</td>\n",
       "      <td>2020-09-14</td>\n",
       "      <td>11</td>\n",
       "      <td>2</td>\n",
       "    </tr>\n",
       "    <tr>\n",
       "      <th>10</th>\n",
       "      <td>2020-09-16</td>\n",
       "      <td>2020-09-13</td>\n",
       "      <td>10</td>\n",
       "      <td>3</td>\n",
       "    </tr>\n",
       "    <tr>\n",
       "      <th>9</th>\n",
       "      <td>2020-09-16</td>\n",
       "      <td>2020-09-12</td>\n",
       "      <td>9</td>\n",
       "      <td>4</td>\n",
       "    </tr>\n",
       "    <tr>\n",
       "      <th>8</th>\n",
       "      <td>2020-09-16</td>\n",
       "      <td>2020-09-11</td>\n",
       "      <td>9</td>\n",
       "      <td>5</td>\n",
       "    </tr>\n",
       "  </tbody>\n",
       "</table>\n",
       "</div>"
      ],
      "text/plain": [
       "   upload_date generation_date  shared_teks  generation_to_upload_days\n",
       "12  2020-09-16      2020-09-15           23                          1\n",
       "11  2020-09-16      2020-09-14           11                          2\n",
       "10  2020-09-16      2020-09-13           10                          3\n",
       "9   2020-09-16      2020-09-12            9                          4\n",
       "8   2020-09-16      2020-09-11            9                          5"
      ]
     },
     "execution_count": 32,
     "metadata": {},
     "output_type": "execute_result"
    }
   ],
   "source": [
    "def compute_teks_by_generation_and_upload_date(date):\n",
    "    day_new_teks_set_df = tek_list_df.copy().diff()\n",
    "    try:\n",
    "        day_new_teks_set = day_new_teks_set_df[\n",
    "            day_new_teks_set_df.index == date].tek_list.item()\n",
    "    except ValueError:\n",
    "        day_new_teks_set = None\n",
    "    if pd.isna(day_new_teks_set):\n",
    "        day_new_teks_set = set()\n",
    "    day_new_teks_df = daily_extracted_teks_df[\n",
    "        daily_extracted_teks_df.extraction_date == date].copy()\n",
    "    day_new_teks_df[\"shared_teks\"] = \\\n",
    "        day_new_teks_df.tek_list.apply(lambda x: set(x).intersection(day_new_teks_set))\n",
    "    day_new_teks_df[\"shared_teks\"] = \\\n",
    "        day_new_teks_df.shared_teks.apply(len)\n",
    "    day_new_teks_df[\"upload_date\"] = date\n",
    "    day_new_teks_df.rename(columns={\"sample_date\": \"generation_date\"}, inplace=True)\n",
    "    day_new_teks_df = day_new_teks_df[\n",
    "        [\"upload_date\", \"generation_date\", \"shared_teks\"]]\n",
    "    day_new_teks_df[\"generation_to_upload_days\"] = \\\n",
    "        (pd.to_datetime(day_new_teks_df.upload_date) -\n",
    "         pd.to_datetime(day_new_teks_df.generation_date)).dt.days\n",
    "    day_new_teks_df = day_new_teks_df[day_new_teks_df.shared_teks > 0]\n",
    "    return day_new_teks_df\n",
    "\n",
    "shared_teks_generation_to_upload_df = pd.DataFrame()\n",
    "for upload_date in daily_extracted_teks_df.extraction_date.unique():\n",
    "    shared_teks_generation_to_upload_df = \\\n",
    "        shared_teks_generation_to_upload_df.append(\n",
    "            compute_teks_by_generation_and_upload_date(date=upload_date))\n",
    "shared_teks_generation_to_upload_df \\\n",
    "    .sort_values([\"upload_date\", \"generation_date\"], ascending=False, inplace=True)\n",
    "shared_teks_generation_to_upload_df.tail()"
   ]
  },
  {
   "cell_type": "code",
   "execution_count": 33,
   "metadata": {
    "collapsed": false,
    "execution": {
     "iopub.execute_input": "2020-12-08T23:36:57.685019Z",
     "iopub.status.busy": "2020-12-08T23:36:57.684519Z",
     "iopub.status.idle": "2020-12-08T23:36:57.693446Z",
     "shell.execute_reply": "2020-12-08T23:36:57.693832Z"
    },
    "papermill": {
     "duration": 0.066063,
     "end_time": "2020-12-08T23:36:57.693976",
     "exception": false,
     "start_time": "2020-12-08T23:36:57.627913",
     "status": "completed"
    },
    "pycharm": {
     "name": "#%%\n"
    },
    "tags": []
   },
   "outputs": [
    {
     "data": {
      "text/html": [
       "<div>\n",
       "<style scoped>\n",
       "    .dataframe tbody tr th:only-of-type {\n",
       "        vertical-align: middle;\n",
       "    }\n",
       "\n",
       "    .dataframe tbody tr th {\n",
       "        vertical-align: top;\n",
       "    }\n",
       "\n",
       "    .dataframe thead th {\n",
       "        text-align: right;\n",
       "    }\n",
       "</style>\n",
       "<table border=\"1\" class=\"dataframe\">\n",
       "  <thead>\n",
       "    <tr style=\"text-align: right;\">\n",
       "      <th></th>\n",
       "      <th>upload_date</th>\n",
       "      <th>generation_date</th>\n",
       "      <th>shared_teks</th>\n",
       "      <th>generation_to_upload_days</th>\n",
       "    </tr>\n",
       "  </thead>\n",
       "  <tbody>\n",
       "    <tr>\n",
       "      <th>31</th>\n",
       "      <td>2020-12-08</td>\n",
       "      <td>2020-11-29</td>\n",
       "      <td>2193</td>\n",
       "      <td>9</td>\n",
       "    </tr>\n",
       "    <tr>\n",
       "      <th>24</th>\n",
       "      <td>2020-12-08</td>\n",
       "      <td>2020-11-28</td>\n",
       "      <td>2165</td>\n",
       "      <td>10</td>\n",
       "    </tr>\n",
       "    <tr>\n",
       "      <th>17</th>\n",
       "      <td>2020-12-08</td>\n",
       "      <td>2020-11-27</td>\n",
       "      <td>2138</td>\n",
       "      <td>11</td>\n",
       "    </tr>\n",
       "    <tr>\n",
       "      <th>10</th>\n",
       "      <td>2020-12-08</td>\n",
       "      <td>2020-11-26</td>\n",
       "      <td>2133</td>\n",
       "      <td>12</td>\n",
       "    </tr>\n",
       "    <tr>\n",
       "      <th>3</th>\n",
       "      <td>2020-12-08</td>\n",
       "      <td>2020-11-25</td>\n",
       "      <td>2096</td>\n",
       "      <td>13</td>\n",
       "    </tr>\n",
       "  </tbody>\n",
       "</table>\n",
       "</div>"
      ],
      "text/plain": [
       "   upload_date generation_date  shared_teks  generation_to_upload_days\n",
       "31  2020-12-08      2020-11-29         2193                          9\n",
       "24  2020-12-08      2020-11-28         2165                         10\n",
       "17  2020-12-08      2020-11-27         2138                         11\n",
       "10  2020-12-08      2020-11-26         2133                         12\n",
       "3   2020-12-08      2020-11-25         2096                         13"
      ]
     },
     "execution_count": 33,
     "metadata": {},
     "output_type": "execute_result"
    }
   ],
   "source": [
    "today_new_teks_df = \\\n",
    "    shared_teks_generation_to_upload_df[\n",
    "        shared_teks_generation_to_upload_df.upload_date == extraction_date].copy()\n",
    "today_new_teks_df.tail()"
   ]
  },
  {
   "cell_type": "code",
   "execution_count": 34,
   "metadata": {
    "collapsed": false,
    "execution": {
     "iopub.execute_input": "2020-12-08T23:36:57.814442Z",
     "iopub.status.busy": "2020-12-08T23:36:57.813948Z",
     "iopub.status.idle": "2020-12-08T23:36:58.413987Z",
     "shell.execute_reply": "2020-12-08T23:36:58.414577Z"
    },
    "papermill": {
     "duration": 0.669718,
     "end_time": "2020-12-08T23:36:58.414734",
     "exception": false,
     "start_time": "2020-12-08T23:36:57.745016",
     "status": "completed"
    },
    "pycharm": {
     "name": "#%%\n"
    },
    "tags": []
   },
   "outputs": [
    {
     "data": {
      "image/png": "[encoded data removed]",
      "text/plain": [
       "<Figure size 1080x432 with 1 Axes>"
      ]
     },
     "metadata": {},
     "output_type": "display_data"
    }
   ],
   "source": [
    "if not today_new_teks_df.empty:\n",
    "    today_new_teks_df.set_index(\"generation_to_upload_days\") \\\n",
    "        .sort_index().shared_teks.plot.bar()"
   ]
  },
  {
   "cell_type": "code",
   "execution_count": 35,
   "metadata": {
    "collapsed": false,
    "execution": {
     "iopub.execute_input": "2020-12-08T23:36:58.519032Z",
     "iopub.status.busy": "2020-12-08T23:36:58.518545Z",
     "iopub.status.idle": "2020-12-08T23:36:58.532178Z",
     "shell.execute_reply": "2020-12-08T23:36:58.532538Z"
    },
    "papermill": {
     "duration": 0.069017,
     "end_time": "2020-12-08T23:36:58.532692",
     "exception": false,
     "start_time": "2020-12-08T23:36:58.463675",
     "status": "completed"
    },
    "pycharm": {
     "name": "#%%\n"
    },
    "tags": []
   },
   "outputs": [
    {
     "data": {
      "text/html": [
       "<div>\n",
       "<style scoped>\n",
       "    .dataframe tbody tr th:only-of-type {\n",
       "        vertical-align: middle;\n",
       "    }\n",
       "\n",
       "    .dataframe tbody tr th {\n",
       "        vertical-align: top;\n",
       "    }\n",
       "\n",
       "    .dataframe thead th {\n",
       "        text-align: right;\n",
       "    }\n",
       "</style>\n",
       "<table border=\"1\" class=\"dataframe\">\n",
       "  <thead>\n",
       "    <tr style=\"text-align: right;\">\n",
       "      <th>generation_to_upload_days</th>\n",
       "      <th>0</th>\n",
       "      <th>1</th>\n",
       "      <th>2</th>\n",
       "      <th>3</th>\n",
       "      <th>4</th>\n",
       "      <th>5</th>\n",
       "      <th>6</th>\n",
       "      <th>7</th>\n",
       "      <th>8</th>\n",
       "      <th>9</th>\n",
       "      <th>10</th>\n",
       "      <th>11</th>\n",
       "      <th>12</th>\n",
       "      <th>13</th>\n",
       "    </tr>\n",
       "    <tr>\n",
       "      <th>upload_date</th>\n",
       "      <th></th>\n",
       "      <th></th>\n",
       "      <th></th>\n",
       "      <th></th>\n",
       "      <th></th>\n",
       "      <th></th>\n",
       "      <th></th>\n",
       "      <th></th>\n",
       "      <th></th>\n",
       "      <th></th>\n",
       "      <th></th>\n",
       "      <th></th>\n",
       "      <th></th>\n",
       "      <th></th>\n",
       "    </tr>\n",
       "  </thead>\n",
       "  <tbody>\n",
       "    <tr>\n",
       "      <th>2020-12-08</th>\n",
       "      <td>121</td>\n",
       "      <td>2286</td>\n",
       "      <td>2641</td>\n",
       "      <td>2575</td>\n",
       "      <td>2496</td>\n",
       "      <td>2411</td>\n",
       "      <td>2335</td>\n",
       "      <td>2266</td>\n",
       "      <td>2246</td>\n",
       "      <td>2193</td>\n",
       "      <td>2165</td>\n",
       "      <td>2138</td>\n",
       "      <td>2133</td>\n",
       "      <td>2096</td>\n",
       "    </tr>\n",
       "    <tr>\n",
       "      <th>2020-12-07</th>\n",
       "      <td>116</td>\n",
       "      <td>1339</td>\n",
       "      <td>1823</td>\n",
       "      <td>1765</td>\n",
       "      <td>1689</td>\n",
       "      <td>1604</td>\n",
       "      <td>1569</td>\n",
       "      <td>1519</td>\n",
       "      <td>1525</td>\n",
       "      <td>1462</td>\n",
       "      <td>1448</td>\n",
       "      <td>1430</td>\n",
       "      <td>1402</td>\n",
       "      <td>1413</td>\n",
       "    </tr>\n",
       "    <tr>\n",
       "      <th>2020-12-06</th>\n",
       "      <td>152</td>\n",
       "      <td>1170</td>\n",
       "      <td>1707</td>\n",
       "      <td>1523</td>\n",
       "      <td>1398</td>\n",
       "      <td>1355</td>\n",
       "      <td>1310</td>\n",
       "      <td>1280</td>\n",
       "      <td>1275</td>\n",
       "      <td>1247</td>\n",
       "      <td>1238</td>\n",
       "      <td>1188</td>\n",
       "      <td>1190</td>\n",
       "      <td>1173</td>\n",
       "    </tr>\n",
       "    <tr>\n",
       "      <th>2020-12-05</th>\n",
       "      <td>167</td>\n",
       "      <td>2183</td>\n",
       "      <td>5053</td>\n",
       "      <td>7593</td>\n",
       "      <td>10092</td>\n",
       "      <td>9910</td>\n",
       "      <td>9487</td>\n",
       "      <td>9267</td>\n",
       "      <td>9190</td>\n",
       "      <td>8930</td>\n",
       "      <td>8743</td>\n",
       "      <td>8672</td>\n",
       "      <td>8546</td>\n",
       "      <td>8386</td>\n",
       "    </tr>\n",
       "    <tr>\n",
       "      <th>2020-12-04</th>\n",
       "      <td>158</td>\n",
       "      <td>188</td>\n",
       "      <td>120</td>\n",
       "      <td>103</td>\n",
       "      <td>77</td>\n",
       "      <td>55</td>\n",
       "      <td>28</td>\n",
       "      <td>18</td>\n",
       "      <td>11</td>\n",
       "      <td>10</td>\n",
       "      <td>10</td>\n",
       "      <td>8</td>\n",
       "      <td>5</td>\n",
       "      <td>3</td>\n",
       "    </tr>\n",
       "  </tbody>\n",
       "</table>\n",
       "</div>"
      ],
      "text/plain": [
       "generation_to_upload_days   0     1     2     3      4     5     6     7   \\\n",
       "upload_date                                                                 \n",
       "2020-12-08                 121  2286  2641  2575   2496  2411  2335  2266   \n",
       "2020-12-07                 116  1339  1823  1765   1689  1604  1569  1519   \n",
       "2020-12-06                 152  1170  1707  1523   1398  1355  1310  1280   \n",
       "2020-12-05                 167  2183  5053  7593  10092  9910  9487  9267   \n",
       "2020-12-04                 158   188   120   103     77    55    28    18   \n",
       "\n",
       "generation_to_upload_days    8     9     10    11    12    13  \n",
       "upload_date                                                    \n",
       "2020-12-08                 2246  2193  2165  2138  2133  2096  \n",
       "2020-12-07                 1525  1462  1448  1430  1402  1413  \n",
       "2020-12-06                 1275  1247  1238  1188  1190  1173  \n",
       "2020-12-05                 9190  8930  8743  8672  8546  8386  \n",
       "2020-12-04                   11    10    10     8     5     3  "
      ]
     },
     "execution_count": 35,
     "metadata": {},
     "output_type": "execute_result"
    }
   ],
   "source": [
    "generation_to_upload_period_pivot_df = \\\n",
    "    shared_teks_generation_to_upload_df[\n",
    "        [\"upload_date\", \"generation_to_upload_days\", \"shared_teks\"]] \\\n",
    "        .pivot(index=\"upload_date\", columns=\"generation_to_upload_days\") \\\n",
    "        .sort_index(ascending=False).fillna(0).astype(int) \\\n",
    "        .droplevel(level=0, axis=1)\n",
    "generation_to_upload_period_pivot_df.head()"
   ]
  },
  {
   "cell_type": "code",
   "execution_count": 36,
   "metadata": {
    "collapsed": false,
    "execution": {
     "iopub.execute_input": "2020-12-08T23:36:59.449698Z",
     "iopub.status.busy": "2020-12-08T23:36:59.448574Z",
     "iopub.status.idle": "2020-12-08T23:36:59.451854Z",
     "shell.execute_reply": "2020-12-08T23:36:59.451339Z"
    },
    "papermill": {
     "duration": 0.870317,
     "end_time": "2020-12-08T23:36:59.451991",
     "exception": false,
     "start_time": "2020-12-08T23:36:58.581674",
     "status": "completed"
    },
    "pycharm": {
     "name": "#%%\n"
    },
    "tags": []
   },
   "outputs": [
    {
     "data": {
      "text/html": [
       "<div>\n",
       "<style scoped>\n",
       "    .dataframe tbody tr th:only-of-type {\n",
       "        vertical-align: middle;\n",
       "    }\n",
       "\n",
       "    .dataframe tbody tr th {\n",
       "        vertical-align: top;\n",
       "    }\n",
       "\n",
       "    .dataframe thead th {\n",
       "        text-align: right;\n",
       "    }\n",
       "</style>\n",
       "<table border=\"1\" class=\"dataframe\">\n",
       "  <thead>\n",
       "    <tr style=\"text-align: right;\">\n",
       "      <th></th>\n",
       "      <th>sample_date_string</th>\n",
       "      <th>shared_teks_by_upload_date</th>\n",
       "    </tr>\n",
       "  </thead>\n",
       "  <tbody>\n",
       "    <tr>\n",
       "      <th>80</th>\n",
       "      <td>2020-12-04</td>\n",
       "      <td>794.0</td>\n",
       "    </tr>\n",
       "    <tr>\n",
       "      <th>81</th>\n",
       "      <td>2020-12-05</td>\n",
       "      <td>106219.0</td>\n",
       "    </tr>\n",
       "    <tr>\n",
       "      <th>82</th>\n",
       "      <td>2020-12-06</td>\n",
       "      <td>17206.0</td>\n",
       "    </tr>\n",
       "    <tr>\n",
       "      <th>83</th>\n",
       "      <td>2020-12-07</td>\n",
       "      <td>20104.0</td>\n",
       "    </tr>\n",
       "    <tr>\n",
       "      <th>84</th>\n",
       "      <td>2020-12-08</td>\n",
       "      <td>30102.0</td>\n",
       "    </tr>\n",
       "  </tbody>\n",
       "</table>\n",
       "</div>"
      ],
      "text/plain": [
       "   sample_date_string  shared_teks_by_upload_date\n",
       "80         2020-12-04                       794.0\n",
       "81         2020-12-05                    106219.0\n",
       "82         2020-12-06                     17206.0\n",
       "83         2020-12-07                     20104.0\n",
       "84         2020-12-08                     30102.0"
      ]
     },
     "execution_count": 36,
     "metadata": {},
     "output_type": "execute_result"
    }
   ],
   "source": [
    "new_tek_df = tek_list_df.diff().tek_list.apply(\n",
    "    lambda x: len(x) if not pd.isna(x) else None).to_frame().reset_index()\n",
    "new_tek_df.rename(columns={\n",
    "    \"tek_list\": \"shared_teks_by_upload_date\",\n",
    "    \"extraction_date\": \"sample_date_string\",}, inplace=True)\n",
    "new_tek_df.tail()"
   ]
  },
  {
   "cell_type": "code",
   "execution_count": 37,
   "metadata": {
    "collapsed": false,
    "execution": {
     "iopub.execute_input": "2020-12-08T23:36:59.548941Z",
     "iopub.status.busy": "2020-12-08T23:36:59.543210Z",
     "iopub.status.idle": "2020-12-08T23:36:59.551451Z",
     "shell.execute_reply": "2020-12-08T23:36:59.551815Z"
    },
    "papermill": {
     "duration": 0.055748,
     "end_time": "2020-12-08T23:36:59.551944",
     "exception": false,
     "start_time": "2020-12-08T23:36:59.496196",
     "status": "completed"
    },
    "pycharm": {
     "name": "#%%\n"
    },
    "tags": []
   },
   "outputs": [
    {
     "data": {
      "text/html": [
       "<div>\n",
       "<style scoped>\n",
       "    .dataframe tbody tr th:only-of-type {\n",
       "        vertical-align: middle;\n",
       "    }\n",
       "\n",
       "    .dataframe tbody tr th {\n",
       "        vertical-align: top;\n",
       "    }\n",
       "\n",
       "    .dataframe thead th {\n",
       "        text-align: right;\n",
       "    }\n",
       "</style>\n",
       "<table border=\"1\" class=\"dataframe\">\n",
       "  <thead>\n",
       "    <tr style=\"text-align: right;\">\n",
       "      <th></th>\n",
       "      <th>sample_date_string</th>\n",
       "      <th>shared_teks_uploaded_on_generation_date</th>\n",
       "    </tr>\n",
       "  </thead>\n",
       "  <tbody>\n",
       "    <tr>\n",
       "      <th>92</th>\n",
       "      <td>2020-12-08</td>\n",
       "      <td>121</td>\n",
       "    </tr>\n",
       "    <tr>\n",
       "      <th>92</th>\n",
       "      <td>2020-12-07</td>\n",
       "      <td>116</td>\n",
       "    </tr>\n",
       "    <tr>\n",
       "      <th>92</th>\n",
       "      <td>2020-12-06</td>\n",
       "      <td>152</td>\n",
       "    </tr>\n",
       "    <tr>\n",
       "      <th>142</th>\n",
       "      <td>2020-12-05</td>\n",
       "      <td>167</td>\n",
       "    </tr>\n",
       "    <tr>\n",
       "      <th>142</th>\n",
       "      <td>2020-12-04</td>\n",
       "      <td>158</td>\n",
       "    </tr>\n",
       "  </tbody>\n",
       "</table>\n",
       "</div>"
      ],
      "text/plain": [
       "    sample_date_string  shared_teks_uploaded_on_generation_date\n",
       "92          2020-12-08                                      121\n",
       "92          2020-12-07                                      116\n",
       "92          2020-12-06                                      152\n",
       "142         2020-12-05                                      167\n",
       "142         2020-12-04                                      158"
      ]
     },
     "execution_count": 37,
     "metadata": {},
     "output_type": "execute_result"
    }
   ],
   "source": [
    "shared_teks_uploaded_on_generation_date_df = shared_teks_generation_to_upload_df[\n",
    "    shared_teks_generation_to_upload_df.generation_to_upload_days == 0] \\\n",
    "    [[\"upload_date\", \"shared_teks\"]].rename(\n",
    "    columns={\n",
    "        \"upload_date\": \"sample_date_string\",\n",
    "        \"shared_teks\": \"shared_teks_uploaded_on_generation_date\",\n",
    "    })\n",
    "shared_teks_uploaded_on_generation_date_df.head()"
   ]
  },
  {
   "cell_type": "code",
   "execution_count": 38,
   "metadata": {
    "collapsed": false,
    "execution": {
     "iopub.execute_input": "2020-12-08T23:36:59.644394Z",
     "iopub.status.busy": "2020-12-08T23:36:59.643963Z",
     "iopub.status.idle": "2020-12-08T23:36:59.655582Z",
     "shell.execute_reply": "2020-12-08T23:36:59.655990Z"
    },
    "papermill": {
     "duration": 0.060521,
     "end_time": "2020-12-08T23:36:59.656121",
     "exception": false,
     "start_time": "2020-12-08T23:36:59.595600",
     "status": "completed"
    },
    "pycharm": {
     "name": "#%%\n"
    },
    "tags": []
   },
   "outputs": [
    {
     "data": {
      "text/html": [
       "<div>\n",
       "<style scoped>\n",
       "    .dataframe tbody tr th:only-of-type {\n",
       "        vertical-align: middle;\n",
       "    }\n",
       "\n",
       "    .dataframe tbody tr th {\n",
       "        vertical-align: top;\n",
       "    }\n",
       "\n",
       "    .dataframe thead th {\n",
       "        text-align: right;\n",
       "    }\n",
       "</style>\n",
       "<table border=\"1\" class=\"dataframe\">\n",
       "  <thead>\n",
       "    <tr style=\"text-align: right;\">\n",
       "      <th></th>\n",
       "      <th>sample_date_string</th>\n",
       "      <th>shared_diagnoses</th>\n",
       "    </tr>\n",
       "  </thead>\n",
       "  <tbody>\n",
       "    <tr>\n",
       "      <th>83</th>\n",
       "      <td>2020-12-08</td>\n",
       "      <td>2641</td>\n",
       "    </tr>\n",
       "    <tr>\n",
       "      <th>82</th>\n",
       "      <td>2020-12-07</td>\n",
       "      <td>1823</td>\n",
       "    </tr>\n",
       "    <tr>\n",
       "      <th>81</th>\n",
       "      <td>2020-12-06</td>\n",
       "      <td>1707</td>\n",
       "    </tr>\n",
       "    <tr>\n",
       "      <th>80</th>\n",
       "      <td>0</td>\n",
       "      <td>0</td>\n",
       "    </tr>\n",
       "    <tr>\n",
       "      <th>79</th>\n",
       "      <td>2020-12-04</td>\n",
       "      <td>188</td>\n",
       "    </tr>\n",
       "  </tbody>\n",
       "</table>\n",
       "</div>"
      ],
      "text/plain": [
       "   sample_date_string  shared_diagnoses\n",
       "83         2020-12-08              2641\n",
       "82         2020-12-07              1823\n",
       "81         2020-12-06              1707\n",
       "80                  0                 0\n",
       "79         2020-12-04               188"
      ]
     },
     "execution_count": 38,
     "metadata": {},
     "output_type": "execute_result"
    }
   ],
   "source": [
    "estimated_shared_diagnoses_df = shared_teks_generation_to_upload_df \\\n",
    "    .groupby([\"upload_date\"]).shared_teks.max().reset_index() \\\n",
    "    .sort_values([\"upload_date\"], ascending=False) \\\n",
    "    .rename(columns={\n",
    "        \"upload_date\": \"sample_date_string\",\n",
    "        \"shared_teks\": \"shared_diagnoses\",\n",
    "    })\n",
    "invalid_shared_diagnoses_dates_mask = \\\n",
    "    estimated_shared_diagnoses_df.sample_date_string.isin(invalid_shared_diagnoses_dates)\n",
    "estimated_shared_diagnoses_df[invalid_shared_diagnoses_dates_mask] = 0\n",
    "estimated_shared_diagnoses_df.head()"
   ]
  },
  {
   "cell_type": "markdown",
   "metadata": {
    "papermill": {
     "duration": 0.043884,
     "end_time": "2020-12-08T23:36:59.744754",
     "exception": false,
     "start_time": "2020-12-08T23:36:59.700870",
     "status": "completed"
    },
    "pycharm": {
     "name": "#%% md\n"
    },
    "tags": []
   },
   "source": [
    "### Hourly New TEKs"
   ]
  },
  {
   "cell_type": "code",
   "execution_count": 39,
   "metadata": {
    "execution": {
     "iopub.execute_input": "2020-12-08T23:36:59.834228Z",
     "iopub.status.busy": "2020-12-08T23:36:59.833795Z",
     "iopub.status.idle": "2020-12-08T23:38:36.778295Z",
     "shell.execute_reply": "2020-12-08T23:38:36.778744Z"
    },
    "papermill": {
     "duration": 96.99092,
     "end_time": "2020-12-08T23:38:36.778913",
     "exception": false,
     "start_time": "2020-12-08T23:36:59.787993",
     "status": "completed"
    },
    "pycharm": {
     "name": "#%%\n"
    },
    "tags": []
   },
   "outputs": [
    {
     "data": {
      "text/html": [
       "<div>\n",
       "<style scoped>\n",
       "    .dataframe tbody tr th:only-of-type {\n",
       "        vertical-align: middle;\n",
       "    }\n",
       "\n",
       "    .dataframe tbody tr th {\n",
       "        vertical-align: top;\n",
       "    }\n",
       "\n",
       "    .dataframe thead th {\n",
       "        text-align: right;\n",
       "    }\n",
       "</style>\n",
       "<table border=\"1\" class=\"dataframe\">\n",
       "  <thead>\n",
       "    <tr style=\"text-align: right;\">\n",
       "      <th></th>\n",
       "      <th>region</th>\n",
       "      <th>sample_date</th>\n",
       "      <th>tek_list</th>\n",
       "      <th>extraction_date</th>\n",
       "      <th>extraction_date_with_hour</th>\n",
       "    </tr>\n",
       "  </thead>\n",
       "  <tbody>\n",
       "    <tr>\n",
       "      <th>3</th>\n",
       "      <td>ES</td>\n",
       "      <td>2020-11-25</td>\n",
       "      <td>[12852e22-80fe-bae0-6064-823b9d390f1e, d674fc8...</td>\n",
       "      <td>2020-12-08</td>\n",
       "      <td>2020-12-08@23</td>\n",
       "    </tr>\n",
       "    <tr>\n",
       "      <th>10</th>\n",
       "      <td>ES</td>\n",
       "      <td>2020-11-26</td>\n",
       "      <td>[737b7e4f-d6de-4e20-0684-290c2bd0f5e7, f6b2cdf...</td>\n",
       "      <td>2020-12-08</td>\n",
       "      <td>2020-12-08@23</td>\n",
       "    </tr>\n",
       "    <tr>\n",
       "      <th>17</th>\n",
       "      <td>ES</td>\n",
       "      <td>2020-11-27</td>\n",
       "      <td>[f9a648bc-9bca-6344-57ec-46a34a41fd76, 328494f...</td>\n",
       "      <td>2020-12-08</td>\n",
       "      <td>2020-12-08@23</td>\n",
       "    </tr>\n",
       "    <tr>\n",
       "      <th>24</th>\n",
       "      <td>ES</td>\n",
       "      <td>2020-11-28</td>\n",
       "      <td>[81b204d5-05f3-01df-6c19-1f551acd13f7, 5c4e368...</td>\n",
       "      <td>2020-12-08</td>\n",
       "      <td>2020-12-08@23</td>\n",
       "    </tr>\n",
       "    <tr>\n",
       "      <th>31</th>\n",
       "      <td>ES</td>\n",
       "      <td>2020-11-29</td>\n",
       "      <td>[91362fd8-1e70-7957-2e5a-5d37e9925f89, 131ffcd...</td>\n",
       "      <td>2020-12-08</td>\n",
       "      <td>2020-12-08@23</td>\n",
       "    </tr>\n",
       "  </tbody>\n",
       "</table>\n",
       "</div>"
      ],
      "text/plain": [
       "   region sample_date                                           tek_list  \\\n",
       "3      ES  2020-11-25  [12852e22-80fe-bae0-6064-823b9d390f1e, d674fc8...   \n",
       "10     ES  2020-11-26  [737b7e4f-d6de-4e20-0684-290c2bd0f5e7, f6b2cdf...   \n",
       "17     ES  2020-11-27  [f9a648bc-9bca-6344-57ec-46a34a41fd76, 328494f...   \n",
       "24     ES  2020-11-28  [81b204d5-05f3-01df-6c19-1f551acd13f7, 5c4e368...   \n",
       "31     ES  2020-11-29  [91362fd8-1e70-7957-2e5a-5d37e9925f89, 131ffcd...   \n",
       "\n",
       "   extraction_date extraction_date_with_hour  \n",
       "3       2020-12-08             2020-12-08@23  \n",
       "10      2020-12-08             2020-12-08@23  \n",
       "17      2020-12-08             2020-12-08@23  \n",
       "24      2020-12-08             2020-12-08@23  \n",
       "31      2020-12-08             2020-12-08@23  "
      ]
     },
     "execution_count": 39,
     "metadata": {},
     "output_type": "execute_result"
    }
   ],
   "source": [
    "hourly_extracted_teks_df = load_extracted_teks(\n",
    "    mode=\"Hourly\", region=report_backend_identifier, limit=25)\n",
    "hourly_extracted_teks_df.head()"
   ]
  },
  {
   "cell_type": "code",
   "execution_count": 40,
   "metadata": {
    "collapsed": false,
    "execution": {
     "iopub.execute_input": "2020-12-08T23:38:37.125502Z",
     "iopub.status.busy": "2020-12-08T23:38:36.984931Z",
     "iopub.status.idle": "2020-12-08T23:38:38.714589Z",
     "shell.execute_reply": "2020-12-08T23:38:38.715272Z"
    },
    "papermill": {
     "duration": 1.87923,
     "end_time": "2020-12-08T23:38:38.715434",
     "exception": false,
     "start_time": "2020-12-08T23:38:36.836204",
     "status": "completed"
    },
    "pycharm": {
     "name": "#%%\n"
    },
    "tags": []
   },
   "outputs": [
    {
     "data": {
      "text/html": [
       "<div>\n",
       "<style scoped>\n",
       "    .dataframe tbody tr th:only-of-type {\n",
       "        vertical-align: middle;\n",
       "    }\n",
       "\n",
       "    .dataframe tbody tr th {\n",
       "        vertical-align: top;\n",
       "    }\n",
       "\n",
       "    .dataframe thead th {\n",
       "        text-align: right;\n",
       "    }\n",
       "</style>\n",
       "<table border=\"1\" class=\"dataframe\">\n",
       "  <thead>\n",
       "    <tr style=\"text-align: right;\">\n",
       "      <th></th>\n",
       "      <th>extraction_date_with_hour</th>\n",
       "      <th>shared_teks_by_upload_date</th>\n",
       "    </tr>\n",
       "  </thead>\n",
       "  <tbody>\n",
       "    <tr>\n",
       "      <th>0</th>\n",
       "      <td>2020-12-07@22</td>\n",
       "      <td>0</td>\n",
       "    </tr>\n",
       "    <tr>\n",
       "      <th>1</th>\n",
       "      <td>2020-12-07@23</td>\n",
       "      <td>0</td>\n",
       "    </tr>\n",
       "    <tr>\n",
       "      <th>2</th>\n",
       "      <td>2020-12-08@01</td>\n",
       "      <td>9</td>\n",
       "    </tr>\n",
       "    <tr>\n",
       "      <th>3</th>\n",
       "      <td>2020-12-08@02</td>\n",
       "      <td>18</td>\n",
       "    </tr>\n",
       "    <tr>\n",
       "      <th>4</th>\n",
       "      <td>2020-12-08@03</td>\n",
       "      <td>0</td>\n",
       "    </tr>\n",
       "  </tbody>\n",
       "</table>\n",
       "</div>"
      ],
      "text/plain": [
       "  extraction_date_with_hour  shared_teks_by_upload_date\n",
       "0             2020-12-07@22                           0\n",
       "1             2020-12-07@23                           0\n",
       "2             2020-12-08@01                           9\n",
       "3             2020-12-08@02                          18\n",
       "4             2020-12-08@03                           0"
      ]
     },
     "execution_count": 40,
     "metadata": {},
     "output_type": "execute_result"
    }
   ],
   "source": [
    "hourly_new_tek_count_df = hourly_extracted_teks_df \\\n",
    "    .groupby(\"extraction_date_with_hour\").tek_list. \\\n",
    "    apply(lambda x: set(sum(x, []))).reset_index().copy()\n",
    "hourly_new_tek_count_df = hourly_new_tek_count_df.set_index(\"extraction_date_with_hour\") \\\n",
    "    .sort_index(ascending=True)\n",
    "\n",
    "hourly_new_tek_count_df[\"new_tek_list\"] = hourly_new_tek_count_df.tek_list.diff()\n",
    "hourly_new_tek_count_df[\"new_tek_count\"] = hourly_new_tek_count_df.new_tek_list.apply(\n",
    "    lambda x: len(x) if not pd.isna(x) else 0)\n",
    "hourly_new_tek_count_df.rename(columns={\n",
    "    \"new_tek_count\": \"shared_teks_by_upload_date\"}, inplace=True)\n",
    "hourly_new_tek_count_df = hourly_new_tek_count_df.reset_index()[[\n",
    "    \"extraction_date_with_hour\", \"shared_teks_by_upload_date\"]]\n",
    "hourly_new_tek_count_df.head()"
   ]
  },
  {
   "cell_type": "code",
   "execution_count": 41,
   "metadata": {
    "collapsed": false,
    "execution": {
     "iopub.execute_input": "2020-12-08T23:38:38.846263Z",
     "iopub.status.busy": "2020-12-08T23:38:38.845308Z",
     "iopub.status.idle": "2020-12-08T23:38:38.848020Z",
     "shell.execute_reply": "2020-12-08T23:38:38.848447Z"
    },
    "papermill": {
     "duration": 0.082318,
     "end_time": "2020-12-08T23:38:38.848605",
     "exception": false,
     "start_time": "2020-12-08T23:38:38.766287",
     "status": "completed"
    },
    "pycharm": {
     "name": "#%%\n"
    },
    "tags": []
   },
   "outputs": [
    {
     "data": {
      "text/html": [
       "<div>\n",
       "<style scoped>\n",
       "    .dataframe tbody tr th:only-of-type {\n",
       "        vertical-align: middle;\n",
       "    }\n",
       "\n",
       "    .dataframe tbody tr th {\n",
       "        vertical-align: top;\n",
       "    }\n",
       "\n",
       "    .dataframe thead th {\n",
       "        text-align: right;\n",
       "    }\n",
       "</style>\n",
       "<table border=\"1\" class=\"dataframe\">\n",
       "  <thead>\n",
       "    <tr style=\"text-align: right;\">\n",
       "      <th></th>\n",
       "      <th>extraction_date_with_hour</th>\n",
       "      <th>shared_teks_by_upload_date</th>\n",
       "    </tr>\n",
       "    <tr>\n",
       "      <th>datetime_utc</th>\n",
       "      <th></th>\n",
       "      <th></th>\n",
       "    </tr>\n",
       "  </thead>\n",
       "  <tbody>\n",
       "    <tr>\n",
       "      <th>2020-12-07 23:00:00</th>\n",
       "      <td>2020-12-07@23</td>\n",
       "      <td>0</td>\n",
       "    </tr>\n",
       "    <tr>\n",
       "      <th>2020-12-08 01:00:00</th>\n",
       "      <td>2020-12-08@01</td>\n",
       "      <td>9</td>\n",
       "    </tr>\n",
       "    <tr>\n",
       "      <th>2020-12-08 02:00:00</th>\n",
       "      <td>2020-12-08@02</td>\n",
       "      <td>18</td>\n",
       "    </tr>\n",
       "    <tr>\n",
       "      <th>2020-12-08 03:00:00</th>\n",
       "      <td>2020-12-08@03</td>\n",
       "      <td>0</td>\n",
       "    </tr>\n",
       "    <tr>\n",
       "      <th>2020-12-08 04:00:00</th>\n",
       "      <td>2020-12-08@04</td>\n",
       "      <td>13</td>\n",
       "    </tr>\n",
       "  </tbody>\n",
       "</table>\n",
       "</div>"
      ],
      "text/plain": [
       "                    extraction_date_with_hour  shared_teks_by_upload_date\n",
       "datetime_utc                                                             \n",
       "2020-12-07 23:00:00             2020-12-07@23                           0\n",
       "2020-12-08 01:00:00             2020-12-08@01                           9\n",
       "2020-12-08 02:00:00             2020-12-08@02                          18\n",
       "2020-12-08 03:00:00             2020-12-08@03                           0\n",
       "2020-12-08 04:00:00             2020-12-08@04                          13"
      ]
     },
     "execution_count": 41,
     "metadata": {},
     "output_type": "execute_result"
    }
   ],
   "source": [
    "hourly_summary_df = hourly_new_tek_count_df.copy()\n",
    "hourly_summary_df.set_index(\"extraction_date_with_hour\", inplace=True)\n",
    "hourly_summary_df = hourly_summary_df.fillna(0).astype(int).reset_index()\n",
    "hourly_summary_df[\"datetime_utc\"] = pd.to_datetime(\n",
    "    hourly_summary_df.extraction_date_with_hour, format=\"%Y-%m-%d@%H\")\n",
    "hourly_summary_df.set_index(\"datetime_utc\", inplace=True)\n",
    "hourly_summary_df = hourly_summary_df.tail(-1)\n",
    "hourly_summary_df.head()"
   ]
  },
  {
   "cell_type": "markdown",
   "metadata": {
    "collapsed": false,
    "papermill": {
     "duration": 0.050521,
     "end_time": "2020-12-08T23:38:38.950898",
     "exception": false,
     "start_time": "2020-12-08T23:38:38.900377",
     "status": "completed"
    },
    "tags": []
   },
   "source": [
    "### Data Merge"
   ]
  },
  {
   "cell_type": "code",
   "execution_count": 42,
   "metadata": {
    "collapsed": false,
    "execution": {
     "iopub.execute_input": "2020-12-08T23:38:39.075506Z",
     "iopub.status.busy": "2020-12-08T23:38:39.075000Z",
     "iopub.status.idle": "2020-12-08T23:38:39.109834Z",
     "shell.execute_reply": "2020-12-08T23:38:39.109410Z"
    },
    "papermill": {
     "duration": 0.108505,
     "end_time": "2020-12-08T23:38:39.109953",
     "exception": false,
     "start_time": "2020-12-08T23:38:39.001448",
     "status": "completed"
    },
    "pycharm": {
     "name": "#%%\n"
    },
    "tags": []
   },
   "outputs": [
    {
     "data": {
      "text/html": [
       "<div>\n",
       "<style scoped>\n",
       "    .dataframe tbody tr th:only-of-type {\n",
       "        vertical-align: middle;\n",
       "    }\n",
       "\n",
       "    .dataframe tbody tr th {\n",
       "        vertical-align: top;\n",
       "    }\n",
       "\n",
       "    .dataframe thead th {\n",
       "        text-align: right;\n",
       "    }\n",
       "</style>\n",
       "<table border=\"1\" class=\"dataframe\">\n",
       "  <thead>\n",
       "    <tr style=\"text-align: right;\">\n",
       "      <th></th>\n",
       "      <th>sample_date_string</th>\n",
       "      <th>shared_teks_by_generation_date</th>\n",
       "      <th>shared_teks_by_upload_date</th>\n",
       "    </tr>\n",
       "  </thead>\n",
       "  <tbody>\n",
       "    <tr>\n",
       "      <th>0</th>\n",
       "      <td>2020-12-08</td>\n",
       "      <td>121</td>\n",
       "      <td>30102.0</td>\n",
       "    </tr>\n",
       "    <tr>\n",
       "      <th>1</th>\n",
       "      <td>2020-12-07</td>\n",
       "      <td>2402</td>\n",
       "      <td>20104.0</td>\n",
       "    </tr>\n",
       "    <tr>\n",
       "      <th>2</th>\n",
       "      <td>2020-12-06</td>\n",
       "      <td>4132</td>\n",
       "      <td>17206.0</td>\n",
       "    </tr>\n",
       "    <tr>\n",
       "      <th>3</th>\n",
       "      <td>2020-12-05</td>\n",
       "      <td>5735</td>\n",
       "      <td>106219.0</td>\n",
       "    </tr>\n",
       "    <tr>\n",
       "      <th>4</th>\n",
       "      <td>2020-12-04</td>\n",
       "      <td>8309</td>\n",
       "      <td>794.0</td>\n",
       "    </tr>\n",
       "  </tbody>\n",
       "</table>\n",
       "</div>"
      ],
      "text/plain": [
       "  sample_date_string  shared_teks_by_generation_date  \\\n",
       "0         2020-12-08                             121   \n",
       "1         2020-12-07                            2402   \n",
       "2         2020-12-06                            4132   \n",
       "3         2020-12-05                            5735   \n",
       "4         2020-12-04                            8309   \n",
       "\n",
       "   shared_teks_by_upload_date  \n",
       "0                     30102.0  \n",
       "1                     20104.0  \n",
       "2                     17206.0  \n",
       "3                    106219.0  \n",
       "4                       794.0  "
      ]
     },
     "execution_count": 42,
     "metadata": {},
     "output_type": "execute_result"
    }
   ],
   "source": [
    "result_summary_df = exposure_keys_summary_df.merge(\n",
    "    new_tek_df, on=[\"sample_date_string\"], how=\"outer\")\n",
    "result_summary_df.head()"
   ]
  },
  {
   "cell_type": "code",
   "execution_count": 43,
   "metadata": {
    "collapsed": false,
    "execution": {
     "iopub.execute_input": "2020-12-08T23:38:39.221739Z",
     "iopub.status.busy": "2020-12-08T23:38:39.221264Z",
     "iopub.status.idle": "2020-12-08T23:38:39.228790Z",
     "shell.execute_reply": "2020-12-08T23:38:39.229197Z"
    },
    "papermill": {
     "duration": 0.067566,
     "end_time": "2020-12-08T23:38:39.229338",
     "exception": false,
     "start_time": "2020-12-08T23:38:39.161772",
     "status": "completed"
    },
    "pycharm": {
     "name": "#%%\n"
    },
    "tags": []
   },
   "outputs": [
    {
     "data": {
      "text/html": [
       "<div>\n",
       "<style scoped>\n",
       "    .dataframe tbody tr th:only-of-type {\n",
       "        vertical-align: middle;\n",
       "    }\n",
       "\n",
       "    .dataframe tbody tr th {\n",
       "        vertical-align: top;\n",
       "    }\n",
       "\n",
       "    .dataframe thead th {\n",
       "        text-align: right;\n",
       "    }\n",
       "</style>\n",
       "<table border=\"1\" class=\"dataframe\">\n",
       "  <thead>\n",
       "    <tr style=\"text-align: right;\">\n",
       "      <th></th>\n",
       "      <th>sample_date_string</th>\n",
       "      <th>shared_teks_by_generation_date</th>\n",
       "      <th>shared_teks_by_upload_date</th>\n",
       "      <th>shared_teks_uploaded_on_generation_date</th>\n",
       "    </tr>\n",
       "  </thead>\n",
       "  <tbody>\n",
       "    <tr>\n",
       "      <th>0</th>\n",
       "      <td>2020-12-08</td>\n",
       "      <td>121</td>\n",
       "      <td>30102.0</td>\n",
       "      <td>121.0</td>\n",
       "    </tr>\n",
       "    <tr>\n",
       "      <th>1</th>\n",
       "      <td>2020-12-07</td>\n",
       "      <td>2402</td>\n",
       "      <td>20104.0</td>\n",
       "      <td>116.0</td>\n",
       "    </tr>\n",
       "    <tr>\n",
       "      <th>2</th>\n",
       "      <td>2020-12-06</td>\n",
       "      <td>4132</td>\n",
       "      <td>17206.0</td>\n",
       "      <td>152.0</td>\n",
       "    </tr>\n",
       "    <tr>\n",
       "      <th>3</th>\n",
       "      <td>2020-12-05</td>\n",
       "      <td>5735</td>\n",
       "      <td>106219.0</td>\n",
       "      <td>167.0</td>\n",
       "    </tr>\n",
       "    <tr>\n",
       "      <th>4</th>\n",
       "      <td>2020-12-04</td>\n",
       "      <td>8309</td>\n",
       "      <td>794.0</td>\n",
       "      <td>158.0</td>\n",
       "    </tr>\n",
       "  </tbody>\n",
       "</table>\n",
       "</div>"
      ],
      "text/plain": [
       "  sample_date_string  shared_teks_by_generation_date  \\\n",
       "0         2020-12-08                             121   \n",
       "1         2020-12-07                            2402   \n",
       "2         2020-12-06                            4132   \n",
       "3         2020-12-05                            5735   \n",
       "4         2020-12-04                            8309   \n",
       "\n",
       "   shared_teks_by_upload_date  shared_teks_uploaded_on_generation_date  \n",
       "0                     30102.0                                    121.0  \n",
       "1                     20104.0                                    116.0  \n",
       "2                     17206.0                                    152.0  \n",
       "3                    106219.0                                    167.0  \n",
       "4                       794.0                                    158.0  "
      ]
     },
     "execution_count": 43,
     "metadata": {},
     "output_type": "execute_result"
    }
   ],
   "source": [
    "result_summary_df = result_summary_df.merge(\n",
    "    shared_teks_uploaded_on_generation_date_df, on=[\"sample_date_string\"], how=\"outer\")\n",
    "result_summary_df.head()"
   ]
  },
  {
   "cell_type": "code",
   "execution_count": 44,
   "metadata": {
    "collapsed": false,
    "execution": {
     "iopub.execute_input": "2020-12-08T23:38:39.338595Z",
     "iopub.status.busy": "2020-12-08T23:38:39.338114Z",
     "iopub.status.idle": "2020-12-08T23:38:39.349491Z",
     "shell.execute_reply": "2020-12-08T23:38:39.349932Z"
    },
    "papermill": {
     "duration": 0.069152,
     "end_time": "2020-12-08T23:38:39.350072",
     "exception": false,
     "start_time": "2020-12-08T23:38:39.280920",
     "status": "completed"
    },
    "pycharm": {
     "name": "#%%\n"
    },
    "tags": []
   },
   "outputs": [
    {
     "data": {
      "text/html": [
       "<div>\n",
       "<style scoped>\n",
       "    .dataframe tbody tr th:only-of-type {\n",
       "        vertical-align: middle;\n",
       "    }\n",
       "\n",
       "    .dataframe tbody tr th {\n",
       "        vertical-align: top;\n",
       "    }\n",
       "\n",
       "    .dataframe thead th {\n",
       "        text-align: right;\n",
       "    }\n",
       "</style>\n",
       "<table border=\"1\" class=\"dataframe\">\n",
       "  <thead>\n",
       "    <tr style=\"text-align: right;\">\n",
       "      <th></th>\n",
       "      <th>sample_date_string</th>\n",
       "      <th>shared_teks_by_generation_date</th>\n",
       "      <th>shared_teks_by_upload_date</th>\n",
       "      <th>shared_teks_uploaded_on_generation_date</th>\n",
       "      <th>shared_diagnoses</th>\n",
       "    </tr>\n",
       "  </thead>\n",
       "  <tbody>\n",
       "    <tr>\n",
       "      <th>0</th>\n",
       "      <td>2020-12-08</td>\n",
       "      <td>121.0</td>\n",
       "      <td>30102.0</td>\n",
       "      <td>121.0</td>\n",
       "      <td>2641.0</td>\n",
       "    </tr>\n",
       "    <tr>\n",
       "      <th>1</th>\n",
       "      <td>2020-12-07</td>\n",
       "      <td>2402.0</td>\n",
       "      <td>20104.0</td>\n",
       "      <td>116.0</td>\n",
       "      <td>1823.0</td>\n",
       "    </tr>\n",
       "    <tr>\n",
       "      <th>2</th>\n",
       "      <td>2020-12-06</td>\n",
       "      <td>4132.0</td>\n",
       "      <td>17206.0</td>\n",
       "      <td>152.0</td>\n",
       "      <td>1707.0</td>\n",
       "    </tr>\n",
       "    <tr>\n",
       "      <th>3</th>\n",
       "      <td>2020-12-05</td>\n",
       "      <td>5735.0</td>\n",
       "      <td>106219.0</td>\n",
       "      <td>167.0</td>\n",
       "      <td>NaN</td>\n",
       "    </tr>\n",
       "    <tr>\n",
       "      <th>4</th>\n",
       "      <td>2020-12-04</td>\n",
       "      <td>8309.0</td>\n",
       "      <td>794.0</td>\n",
       "      <td>158.0</td>\n",
       "      <td>188.0</td>\n",
       "    </tr>\n",
       "  </tbody>\n",
       "</table>\n",
       "</div>"
      ],
      "text/plain": [
       "  sample_date_string  shared_teks_by_generation_date  \\\n",
       "0         2020-12-08                           121.0   \n",
       "1         2020-12-07                          2402.0   \n",
       "2         2020-12-06                          4132.0   \n",
       "3         2020-12-05                          5735.0   \n",
       "4         2020-12-04                          8309.0   \n",
       "\n",
       "   shared_teks_by_upload_date  shared_teks_uploaded_on_generation_date  \\\n",
       "0                     30102.0                                    121.0   \n",
       "1                     20104.0                                    116.0   \n",
       "2                     17206.0                                    152.0   \n",
       "3                    106219.0                                    167.0   \n",
       "4                       794.0                                    158.0   \n",
       "\n",
       "   shared_diagnoses  \n",
       "0            2641.0  \n",
       "1            1823.0  \n",
       "2            1707.0  \n",
       "3               NaN  \n",
       "4             188.0  "
      ]
     },
     "execution_count": 44,
     "metadata": {},
     "output_type": "execute_result"
    }
   ],
   "source": [
    "result_summary_df = result_summary_df.merge(\n",
    "    estimated_shared_diagnoses_df, on=[\"sample_date_string\"], how=\"outer\")\n",
    "result_summary_df.head()"
   ]
  },
  {
   "cell_type": "code",
   "execution_count": 45,
   "metadata": {
    "collapsed": false,
    "execution": {
     "iopub.execute_input": "2020-12-08T23:38:39.465223Z",
     "iopub.status.busy": "2020-12-08T23:38:39.464738Z",
     "iopub.status.idle": "2020-12-08T23:38:39.474716Z",
     "shell.execute_reply": "2020-12-08T23:38:39.475073Z"
    },
    "papermill": {
     "duration": 0.07297,
     "end_time": "2020-12-08T23:38:39.475211",
     "exception": false,
     "start_time": "2020-12-08T23:38:39.402241",
     "status": "completed"
    },
    "pycharm": {
     "name": "#%%\n"
    },
    "tags": []
   },
   "outputs": [
    {
     "data": {
      "text/html": [
       "<div>\n",
       "<style scoped>\n",
       "    .dataframe tbody tr th:only-of-type {\n",
       "        vertical-align: middle;\n",
       "    }\n",
       "\n",
       "    .dataframe tbody tr th {\n",
       "        vertical-align: top;\n",
       "    }\n",
       "\n",
       "    .dataframe thead th {\n",
       "        text-align: right;\n",
       "    }\n",
       "</style>\n",
       "<table border=\"1\" class=\"dataframe\">\n",
       "  <thead>\n",
       "    <tr style=\"text-align: right;\">\n",
       "      <th></th>\n",
       "      <th>sample_date_string</th>\n",
       "      <th>new_cases</th>\n",
       "      <th>covid_cases</th>\n",
       "      <th>shared_teks_by_generation_date</th>\n",
       "      <th>shared_teks_by_upload_date</th>\n",
       "      <th>shared_teks_uploaded_on_generation_date</th>\n",
       "      <th>shared_diagnoses</th>\n",
       "    </tr>\n",
       "  </thead>\n",
       "  <tbody>\n",
       "    <tr>\n",
       "      <th>0</th>\n",
       "      <td>2020-09-16</td>\n",
       "      <td>11193</td>\n",
       "      <td>10140.0</td>\n",
       "      <td>119.0</td>\n",
       "      <td>62.0</td>\n",
       "      <td>NaN</td>\n",
       "      <td>23.0</td>\n",
       "    </tr>\n",
       "    <tr>\n",
       "      <th>1</th>\n",
       "      <td>2020-09-17</td>\n",
       "      <td>11291</td>\n",
       "      <td>10215.0</td>\n",
       "      <td>139.0</td>\n",
       "      <td>63.0</td>\n",
       "      <td>NaN</td>\n",
       "      <td>29.0</td>\n",
       "    </tr>\n",
       "    <tr>\n",
       "      <th>2</th>\n",
       "      <td>2020-09-18</td>\n",
       "      <td>14389</td>\n",
       "      <td>10531.0</td>\n",
       "      <td>165.0</td>\n",
       "      <td>138.0</td>\n",
       "      <td>1.0</td>\n",
       "      <td>52.0</td>\n",
       "    </tr>\n",
       "    <tr>\n",
       "      <th>3</th>\n",
       "      <td>2020-09-19</td>\n",
       "      <td>0</td>\n",
       "      <td>10531.0</td>\n",
       "      <td>203.0</td>\n",
       "      <td>90.0</td>\n",
       "      <td>2.0</td>\n",
       "      <td>39.0</td>\n",
       "    </tr>\n",
       "    <tr>\n",
       "      <th>4</th>\n",
       "      <td>2020-09-20</td>\n",
       "      <td>0</td>\n",
       "      <td>10531.0</td>\n",
       "      <td>218.0</td>\n",
       "      <td>116.0</td>\n",
       "      <td>NaN</td>\n",
       "      <td>45.0</td>\n",
       "    </tr>\n",
       "  </tbody>\n",
       "</table>\n",
       "</div>"
      ],
      "text/plain": [
       "  sample_date_string  new_cases  covid_cases  shared_teks_by_generation_date  \\\n",
       "0         2020-09-16      11193      10140.0                           119.0   \n",
       "1         2020-09-17      11291      10215.0                           139.0   \n",
       "2         2020-09-18      14389      10531.0                           165.0   \n",
       "3         2020-09-19          0      10531.0                           203.0   \n",
       "4         2020-09-20          0      10531.0                           218.0   \n",
       "\n",
       "   shared_teks_by_upload_date  shared_teks_uploaded_on_generation_date  \\\n",
       "0                        62.0                                      NaN   \n",
       "1                        63.0                                      NaN   \n",
       "2                       138.0                                      1.0   \n",
       "3                        90.0                                      2.0   \n",
       "4                       116.0                                      NaN   \n",
       "\n",
       "   shared_diagnoses  \n",
       "0              23.0  \n",
       "1              29.0  \n",
       "2              52.0  \n",
       "3              39.0  \n",
       "4              45.0  "
      ]
     },
     "execution_count": 45,
     "metadata": {},
     "output_type": "execute_result"
    }
   ],
   "source": [
    "result_summary_df = confirmed_df.tail(daily_summary_days).merge(\n",
    "    result_summary_df, on=[\"sample_date_string\"], how=\"left\")\n",
    "result_summary_df.head()"
   ]
  },
  {
   "cell_type": "code",
   "execution_count": 46,
   "metadata": {
    "collapsed": false,
    "execution": {
     "iopub.execute_input": "2020-12-08T23:38:39.605836Z",
     "iopub.status.busy": "2020-12-08T23:38:39.600352Z",
     "iopub.status.idle": "2020-12-08T23:38:39.627760Z",
     "shell.execute_reply": "2020-12-08T23:38:39.628140Z"
    },
    "papermill": {
     "duration": 0.100202,
     "end_time": "2020-12-08T23:38:39.628288",
     "exception": false,
     "start_time": "2020-12-08T23:38:39.528086",
     "status": "completed"
    },
    "pycharm": {
     "name": "#%%\n"
    },
    "tags": []
   },
   "outputs": [
    {
     "data": {
      "text/html": [
       "<div>\n",
       "<style scoped>\n",
       "    .dataframe tbody tr th:only-of-type {\n",
       "        vertical-align: middle;\n",
       "    }\n",
       "\n",
       "    .dataframe tbody tr th {\n",
       "        vertical-align: top;\n",
       "    }\n",
       "\n",
       "    .dataframe thead th {\n",
       "        text-align: right;\n",
       "    }\n",
       "</style>\n",
       "<table border=\"1\" class=\"dataframe\">\n",
       "  <thead>\n",
       "    <tr style=\"text-align: right;\">\n",
       "      <th></th>\n",
       "      <th></th>\n",
       "      <th>new_cases</th>\n",
       "      <th>covid_cases</th>\n",
       "      <th>shared_teks_by_generation_date</th>\n",
       "      <th>shared_teks_by_upload_date</th>\n",
       "      <th>shared_teks_uploaded_on_generation_date</th>\n",
       "      <th>shared_diagnoses</th>\n",
       "    </tr>\n",
       "    <tr>\n",
       "      <th>sample_date</th>\n",
       "      <th>source_regions</th>\n",
       "      <th></th>\n",
       "      <th></th>\n",
       "      <th></th>\n",
       "      <th></th>\n",
       "      <th></th>\n",
       "      <th></th>\n",
       "    </tr>\n",
       "  </thead>\n",
       "  <tbody>\n",
       "    <tr>\n",
       "      <th>2020-12-08</th>\n",
       "      <th>ES,DE,DK,HR,IE,IT,LV,NL,PL</th>\n",
       "      <td>43571</td>\n",
       "      <td>68184.0</td>\n",
       "      <td>121.0</td>\n",
       "      <td>30102.0</td>\n",
       "      <td>121.0</td>\n",
       "      <td>2641.0</td>\n",
       "    </tr>\n",
       "    <tr>\n",
       "      <th>2020-12-07</th>\n",
       "      <th>ES,DE,DK,HR,IE,IT,LV,NL,PL</th>\n",
       "      <td>70313</td>\n",
       "      <td>69374.0</td>\n",
       "      <td>2402.0</td>\n",
       "      <td>20104.0</td>\n",
       "      <td>116.0</td>\n",
       "      <td>1823.0</td>\n",
       "    </tr>\n",
       "    <tr>\n",
       "      <th>2020-12-06</th>\n",
       "      <th>ES,DE,DK,HR,IE,IT,LV,NL,PL</th>\n",
       "      <td>65216</td>\n",
       "      <td>69827.0</td>\n",
       "      <td>4132.0</td>\n",
       "      <td>17206.0</td>\n",
       "      <td>152.0</td>\n",
       "      <td>1707.0</td>\n",
       "    </tr>\n",
       "    <tr>\n",
       "      <th>2020-12-05</th>\n",
       "      <th>ES,DE,DK,HR,IE,IT,LV,NL,PL</th>\n",
       "      <td>73038</td>\n",
       "      <td>70106.0</td>\n",
       "      <td>5735.0</td>\n",
       "      <td>106219.0</td>\n",
       "      <td>167.0</td>\n",
       "      <td>NaN</td>\n",
       "    </tr>\n",
       "    <tr>\n",
       "      <th>2020-12-04</th>\n",
       "      <th>ES</th>\n",
       "      <td>8745</td>\n",
       "      <td>8063.0</td>\n",
       "      <td>8309.0</td>\n",
       "      <td>794.0</td>\n",
       "      <td>158.0</td>\n",
       "      <td>188.0</td>\n",
       "    </tr>\n",
       "  </tbody>\n",
       "</table>\n",
       "</div>"
      ],
      "text/plain": [
       "                                        new_cases  covid_cases  \\\n",
       "sample_date source_regions                                       \n",
       "2020-12-08  ES,DE,DK,HR,IE,IT,LV,NL,PL      43571      68184.0   \n",
       "2020-12-07  ES,DE,DK,HR,IE,IT,LV,NL,PL      70313      69374.0   \n",
       "2020-12-06  ES,DE,DK,HR,IE,IT,LV,NL,PL      65216      69827.0   \n",
       "2020-12-05  ES,DE,DK,HR,IE,IT,LV,NL,PL      73038      70106.0   \n",
       "2020-12-04  ES                               8745       8063.0   \n",
       "\n",
       "                                        shared_teks_by_generation_date  \\\n",
       "sample_date source_regions                                               \n",
       "2020-12-08  ES,DE,DK,HR,IE,IT,LV,NL,PL                           121.0   \n",
       "2020-12-07  ES,DE,DK,HR,IE,IT,LV,NL,PL                          2402.0   \n",
       "2020-12-06  ES,DE,DK,HR,IE,IT,LV,NL,PL                          4132.0   \n",
       "2020-12-05  ES,DE,DK,HR,IE,IT,LV,NL,PL                          5735.0   \n",
       "2020-12-04  ES                                                  8309.0   \n",
       "\n",
       "                                        shared_teks_by_upload_date  \\\n",
       "sample_date source_regions                                           \n",
       "2020-12-08  ES,DE,DK,HR,IE,IT,LV,NL,PL                     30102.0   \n",
       "2020-12-07  ES,DE,DK,HR,IE,IT,LV,NL,PL                     20104.0   \n",
       "2020-12-06  ES,DE,DK,HR,IE,IT,LV,NL,PL                     17206.0   \n",
       "2020-12-05  ES,DE,DK,HR,IE,IT,LV,NL,PL                    106219.0   \n",
       "2020-12-04  ES                                               794.0   \n",
       "\n",
       "                                        shared_teks_uploaded_on_generation_date  \\\n",
       "sample_date source_regions                                                        \n",
       "2020-12-08  ES,DE,DK,HR,IE,IT,LV,NL,PL                                    121.0   \n",
       "2020-12-07  ES,DE,DK,HR,IE,IT,LV,NL,PL                                    116.0   \n",
       "2020-12-06  ES,DE,DK,HR,IE,IT,LV,NL,PL                                    152.0   \n",
       "2020-12-05  ES,DE,DK,HR,IE,IT,LV,NL,PL                                    167.0   \n",
       "2020-12-04  ES                                                            158.0   \n",
       "\n",
       "                                        shared_diagnoses  \n",
       "sample_date source_regions                                \n",
       "2020-12-08  ES,DE,DK,HR,IE,IT,LV,NL,PL            2641.0  \n",
       "2020-12-07  ES,DE,DK,HR,IE,IT,LV,NL,PL            1823.0  \n",
       "2020-12-06  ES,DE,DK,HR,IE,IT,LV,NL,PL            1707.0  \n",
       "2020-12-05  ES,DE,DK,HR,IE,IT,LV,NL,PL               NaN  \n",
       "2020-12-04  ES                                     188.0  "
      ]
     },
     "execution_count": 46,
     "metadata": {},
     "output_type": "execute_result"
    }
   ],
   "source": [
    "result_summary_df[\"sample_date\"] = pd.to_datetime(result_summary_df.sample_date_string)\n",
    "result_summary_df = result_summary_df.merge(source_regions_for_summary_df, how=\"left\")\n",
    "result_summary_df.set_index([\"sample_date\", \"source_regions\"], inplace=True)\n",
    "result_summary_df.drop(columns=[\"sample_date_string\"], inplace=True)\n",
    "result_summary_df.sort_index(ascending=False, inplace=True)\n",
    "result_summary_df.head()"
   ]
  },
  {
   "cell_type": "code",
   "execution_count": 47,
   "metadata": {
    "execution": {
     "iopub.execute_input": "2020-12-08T23:38:39.785545Z",
     "iopub.status.busy": "2020-12-08T23:38:39.757240Z",
     "iopub.status.idle": "2020-12-08T23:38:39.790864Z",
     "shell.execute_reply": "2020-12-08T23:38:39.790451Z"
    },
    "papermill": {
     "duration": 0.109846,
     "end_time": "2020-12-08T23:38:39.790977",
     "exception": false,
     "start_time": "2020-12-08T23:38:39.681131",
     "status": "completed"
    },
    "tags": []
   },
   "outputs": [
    {
     "data": {
      "text/html": [
       "<div>\n",
       "<style scoped>\n",
       "    .dataframe tbody tr th:only-of-type {\n",
       "        vertical-align: middle;\n",
       "    }\n",
       "\n",
       "    .dataframe tbody tr th {\n",
       "        vertical-align: top;\n",
       "    }\n",
       "\n",
       "    .dataframe thead th {\n",
       "        text-align: right;\n",
       "    }\n",
       "</style>\n",
       "<table border=\"1\" class=\"dataframe\">\n",
       "  <thead>\n",
       "    <tr style=\"text-align: right;\">\n",
       "      <th></th>\n",
       "      <th></th>\n",
       "      <th>new_cases</th>\n",
       "      <th>covid_cases</th>\n",
       "      <th>shared_teks_by_generation_date</th>\n",
       "      <th>shared_teks_by_upload_date</th>\n",
       "      <th>shared_teks_uploaded_on_generation_date</th>\n",
       "      <th>shared_diagnoses</th>\n",
       "      <th>teks_per_shared_diagnosis</th>\n",
       "      <th>shared_diagnoses_per_covid_case</th>\n",
       "    </tr>\n",
       "    <tr>\n",
       "      <th>sample_date</th>\n",
       "      <th>source_regions</th>\n",
       "      <th></th>\n",
       "      <th></th>\n",
       "      <th></th>\n",
       "      <th></th>\n",
       "      <th></th>\n",
       "      <th></th>\n",
       "      <th></th>\n",
       "      <th></th>\n",
       "    </tr>\n",
       "  </thead>\n",
       "  <tbody>\n",
       "    <tr>\n",
       "      <th>2020-12-08</th>\n",
       "      <th>ES,DE,DK,HR,IE,IT,LV,NL,PL</th>\n",
       "      <td>43571</td>\n",
       "      <td>68184</td>\n",
       "      <td>121</td>\n",
       "      <td>30102</td>\n",
       "      <td>121</td>\n",
       "      <td>2641</td>\n",
       "      <td>11.397955</td>\n",
       "      <td>0.038733</td>\n",
       "    </tr>\n",
       "    <tr>\n",
       "      <th>2020-12-07</th>\n",
       "      <th>ES,DE,DK,HR,IE,IT,LV,NL,PL</th>\n",
       "      <td>70313</td>\n",
       "      <td>69374</td>\n",
       "      <td>2402</td>\n",
       "      <td>20104</td>\n",
       "      <td>116</td>\n",
       "      <td>1823</td>\n",
       "      <td>11.027976</td>\n",
       "      <td>0.026278</td>\n",
       "    </tr>\n",
       "    <tr>\n",
       "      <th>2020-12-06</th>\n",
       "      <th>ES,DE,DK,HR,IE,IT,LV,NL,PL</th>\n",
       "      <td>65216</td>\n",
       "      <td>69827</td>\n",
       "      <td>4132</td>\n",
       "      <td>17206</td>\n",
       "      <td>152</td>\n",
       "      <td>1707</td>\n",
       "      <td>10.079672</td>\n",
       "      <td>0.024446</td>\n",
       "    </tr>\n",
       "    <tr>\n",
       "      <th>2020-12-05</th>\n",
       "      <th>ES,DE,DK,HR,IE,IT,LV,NL,PL</th>\n",
       "      <td>73038</td>\n",
       "      <td>70106</td>\n",
       "      <td>5735</td>\n",
       "      <td>106219</td>\n",
       "      <td>167</td>\n",
       "      <td>0</td>\n",
       "      <td>0.000000</td>\n",
       "      <td>0.000000</td>\n",
       "    </tr>\n",
       "    <tr>\n",
       "      <th>2020-12-04</th>\n",
       "      <th>ES</th>\n",
       "      <td>8745</td>\n",
       "      <td>8063</td>\n",
       "      <td>8309</td>\n",
       "      <td>794</td>\n",
       "      <td>158</td>\n",
       "      <td>188</td>\n",
       "      <td>4.223404</td>\n",
       "      <td>0.023316</td>\n",
       "    </tr>\n",
       "    <tr>\n",
       "      <th>2020-12-03</th>\n",
       "      <th>ES</th>\n",
       "      <td>10127</td>\n",
       "      <td>8364</td>\n",
       "      <td>11025</td>\n",
       "      <td>828</td>\n",
       "      <td>161</td>\n",
       "      <td>189</td>\n",
       "      <td>4.380952</td>\n",
       "      <td>0.022597</td>\n",
       "    </tr>\n",
       "    <tr>\n",
       "      <th>2020-12-02</th>\n",
       "      <th>ES,DE,DK,HR,IE,IT,LV,NL,PL</th>\n",
       "      <td>64337</td>\n",
       "      <td>73246</td>\n",
       "      <td>13436</td>\n",
       "      <td>5371</td>\n",
       "      <td>197</td>\n",
       "      <td>0</td>\n",
       "      <td>0.000000</td>\n",
       "      <td>0.000000</td>\n",
       "    </tr>\n",
       "    <tr>\n",
       "      <th>2020-12-01</th>\n",
       "      <th>ES,DE,DK,HR,IE,IT,LV,PL</th>\n",
       "      <td>47335</td>\n",
       "      <td>72553</td>\n",
       "      <td>15917</td>\n",
       "      <td>24674</td>\n",
       "      <td>189</td>\n",
       "      <td>2238</td>\n",
       "      <td>11.025022</td>\n",
       "      <td>0.030846</td>\n",
       "    </tr>\n",
       "    <tr>\n",
       "      <th>2020-11-30</th>\n",
       "      <th>ES,DE,DK,HR,IE,IT,LV,PL</th>\n",
       "      <td>67906</td>\n",
       "      <td>75394</td>\n",
       "      <td>17846</td>\n",
       "      <td>15031</td>\n",
       "      <td>126</td>\n",
       "      <td>1430</td>\n",
       "      <td>10.511189</td>\n",
       "      <td>0.018967</td>\n",
       "    </tr>\n",
       "    <tr>\n",
       "      <th>2020-11-29</th>\n",
       "      <th>ES,DE,DK,HR,IE,IT,LV,PL</th>\n",
       "      <td>62722</td>\n",
       "      <td>78235</td>\n",
       "      <td>18600</td>\n",
       "      <td>17305</td>\n",
       "      <td>128</td>\n",
       "      <td>1684</td>\n",
       "      <td>10.276128</td>\n",
       "      <td>0.021525</td>\n",
       "    </tr>\n",
       "    <tr>\n",
       "      <th>2020-11-28</th>\n",
       "      <th>ES,DE,DK,HR,IE,IT,LV,PL</th>\n",
       "      <td>73586</td>\n",
       "      <td>80782</td>\n",
       "      <td>19556</td>\n",
       "      <td>25028</td>\n",
       "      <td>159</td>\n",
       "      <td>2398</td>\n",
       "      <td>10.437031</td>\n",
       "      <td>0.029685</td>\n",
       "    </tr>\n",
       "    <tr>\n",
       "      <th>2020-11-27</th>\n",
       "      <th>ES,DE,DK,HR,IE,IT,LV,PL</th>\n",
       "      <td>85755</td>\n",
       "      <td>82782</td>\n",
       "      <td>21713</td>\n",
       "      <td>27522</td>\n",
       "      <td>254</td>\n",
       "      <td>2555</td>\n",
       "      <td>10.771820</td>\n",
       "      <td>0.030864</td>\n",
       "    </tr>\n",
       "    <tr>\n",
       "      <th>2020-11-26</th>\n",
       "      <th>ES,DE,DK,HR,IE,IT,LV,PL</th>\n",
       "      <td>81388</td>\n",
       "      <td>85417</td>\n",
       "      <td>23580</td>\n",
       "      <td>31914</td>\n",
       "      <td>216</td>\n",
       "      <td>3037</td>\n",
       "      <td>10.508396</td>\n",
       "      <td>0.035555</td>\n",
       "    </tr>\n",
       "    <tr>\n",
       "      <th>2020-11-25</th>\n",
       "      <th>ES,DE,DK,HR,IE,IT,LV</th>\n",
       "      <td>56448</td>\n",
       "      <td>65533</td>\n",
       "      <td>25505</td>\n",
       "      <td>30693</td>\n",
       "      <td>227</td>\n",
       "      <td>2822</td>\n",
       "      <td>10.876329</td>\n",
       "      <td>0.043062</td>\n",
       "    </tr>\n",
       "    <tr>\n",
       "      <th>2020-11-24</th>\n",
       "      <th>ES,DE,DK,HR,IE,IT,LV</th>\n",
       "      <td>52217</td>\n",
       "      <td>67304</td>\n",
       "      <td>25565</td>\n",
       "      <td>17800</td>\n",
       "      <td>164</td>\n",
       "      <td>1667</td>\n",
       "      <td>10.677864</td>\n",
       "      <td>0.024768</td>\n",
       "    </tr>\n",
       "    <tr>\n",
       "      <th>2020-11-23</th>\n",
       "      <th>ES,DE,DK,HR,IE,IT,LV</th>\n",
       "      <td>69939</td>\n",
       "      <td>68127</td>\n",
       "      <td>25612</td>\n",
       "      <td>13061</td>\n",
       "      <td>147</td>\n",
       "      <td>1332</td>\n",
       "      <td>9.805556</td>\n",
       "      <td>0.019552</td>\n",
       "    </tr>\n",
       "    <tr>\n",
       "      <th>2020-11-22</th>\n",
       "      <th>ES,DE,DK,HR,IE,IT,LV</th>\n",
       "      <td>56334</td>\n",
       "      <td>70591</td>\n",
       "      <td>25108</td>\n",
       "      <td>14568</td>\n",
       "      <td>132</td>\n",
       "      <td>1524</td>\n",
       "      <td>9.559055</td>\n",
       "      <td>0.021589</td>\n",
       "    </tr>\n",
       "    <tr>\n",
       "      <th>2020-11-21</th>\n",
       "      <th>ES,DE,DK,HR,IE,IT,LV</th>\n",
       "      <td>65127</td>\n",
       "      <td>70966</td>\n",
       "      <td>17633</td>\n",
       "      <td>22605</td>\n",
       "      <td>153</td>\n",
       "      <td>2275</td>\n",
       "      <td>9.936264</td>\n",
       "      <td>0.032058</td>\n",
       "    </tr>\n",
       "    <tr>\n",
       "      <th>2020-11-20</th>\n",
       "      <th>ES,DE,DK,IE,IT,LV</th>\n",
       "      <td>77058</td>\n",
       "      <td>68866</td>\n",
       "      <td>19235</td>\n",
       "      <td>26712</td>\n",
       "      <td>212</td>\n",
       "      <td>2617</td>\n",
       "      <td>10.207107</td>\n",
       "      <td>0.038001</td>\n",
       "    </tr>\n",
       "    <tr>\n",
       "      <th>2020-11-19</th>\n",
       "      <th>ES,DE,DK,IE,IT,LV</th>\n",
       "      <td>75193</td>\n",
       "      <td>69974</td>\n",
       "      <td>21159</td>\n",
       "      <td>25678</td>\n",
       "      <td>211</td>\n",
       "      <td>2492</td>\n",
       "      <td>10.304173</td>\n",
       "      <td>0.035613</td>\n",
       "    </tr>\n",
       "    <tr>\n",
       "      <th>2020-11-18</th>\n",
       "      <th>ES,DE,DK,IE,IT,LV</th>\n",
       "      <td>66898</td>\n",
       "      <td>70110</td>\n",
       "      <td>22780</td>\n",
       "      <td>29832</td>\n",
       "      <td>290</td>\n",
       "      <td>2915</td>\n",
       "      <td>10.233962</td>\n",
       "      <td>0.041578</td>\n",
       "    </tr>\n",
       "    <tr>\n",
       "      <th>2020-11-17</th>\n",
       "      <th>ES,DE,DK,IE,IT,LV</th>\n",
       "      <td>56667</td>\n",
       "      <td>71150</td>\n",
       "      <td>23287</td>\n",
       "      <td>22734</td>\n",
       "      <td>222</td>\n",
       "      <td>2099</td>\n",
       "      <td>10.830872</td>\n",
       "      <td>0.029501</td>\n",
       "    </tr>\n",
       "    <tr>\n",
       "      <th>2020-11-16</th>\n",
       "      <th>ES,DE,DK,IE,IT,LV</th>\n",
       "      <td>84825</td>\n",
       "      <td>71501</td>\n",
       "      <td>23983</td>\n",
       "      <td>17579</td>\n",
       "      <td>194</td>\n",
       "      <td>1741</td>\n",
       "      <td>10.097071</td>\n",
       "      <td>0.024349</td>\n",
       "    </tr>\n",
       "    <tr>\n",
       "      <th>2020-11-15</th>\n",
       "      <th>ES,DE,DK,IE,IT,LV</th>\n",
       "      <td>56096</td>\n",
       "      <td>73670</td>\n",
       "      <td>23554</td>\n",
       "      <td>15287</td>\n",
       "      <td>224</td>\n",
       "      <td>1611</td>\n",
       "      <td>9.489137</td>\n",
       "      <td>0.021868</td>\n",
       "    </tr>\n",
       "    <tr>\n",
       "      <th>2020-11-14</th>\n",
       "      <th>ES,DE,DK,IE,IT,LV</th>\n",
       "      <td>65322</td>\n",
       "      <td>73884</td>\n",
       "      <td>22860</td>\n",
       "      <td>22798</td>\n",
       "      <td>211</td>\n",
       "      <td>2281</td>\n",
       "      <td>9.994739</td>\n",
       "      <td>0.030873</td>\n",
       "    </tr>\n",
       "    <tr>\n",
       "      <th>2020-11-13</th>\n",
       "      <th>ES,DE,DK,IE,IT,LV</th>\n",
       "      <td>84819</td>\n",
       "      <td>73621</td>\n",
       "      <td>22818</td>\n",
       "      <td>29729</td>\n",
       "      <td>306</td>\n",
       "      <td>2890</td>\n",
       "      <td>10.286851</td>\n",
       "      <td>0.039255</td>\n",
       "    </tr>\n",
       "    <tr>\n",
       "      <th>2020-11-12</th>\n",
       "      <th>ES,DE,DK,IE,IT,LV</th>\n",
       "      <td>76143</td>\n",
       "      <td>73029</td>\n",
       "      <td>22699</td>\n",
       "      <td>31792</td>\n",
       "      <td>317</td>\n",
       "      <td>3205</td>\n",
       "      <td>9.919501</td>\n",
       "      <td>0.043887</td>\n",
       "    </tr>\n",
       "    <tr>\n",
       "      <th>2020-11-11</th>\n",
       "      <th>ES,DE,DK,IE,IT,LV</th>\n",
       "      <td>74177</td>\n",
       "      <td>72741</td>\n",
       "      <td>22652</td>\n",
       "      <td>30445</td>\n",
       "      <td>300</td>\n",
       "      <td>3029</td>\n",
       "      <td>10.051172</td>\n",
       "      <td>0.041641</td>\n",
       "    </tr>\n",
       "  </tbody>\n",
       "</table>\n",
       "</div>"
      ],
      "text/plain": [
       "                                        new_cases  covid_cases  \\\n",
       "sample_date source_regions                                       \n",
       "2020-12-08  ES,DE,DK,HR,IE,IT,LV,NL,PL      43571        68184   \n",
       "2020-12-07  ES,DE,DK,HR,IE,IT,LV,NL,PL      70313        69374   \n",
       "2020-12-06  ES,DE,DK,HR,IE,IT,LV,NL,PL      65216        69827   \n",
       "2020-12-05  ES,DE,DK,HR,IE,IT,LV,NL,PL      73038        70106   \n",
       "2020-12-04  ES                               8745         8063   \n",
       "2020-12-03  ES                              10127         8364   \n",
       "2020-12-02  ES,DE,DK,HR,IE,IT,LV,NL,PL      64337        73246   \n",
       "2020-12-01  ES,DE,DK,HR,IE,IT,LV,PL         47335        72553   \n",
       "2020-11-30  ES,DE,DK,HR,IE,IT,LV,PL         67906        75394   \n",
       "2020-11-29  ES,DE,DK,HR,IE,IT,LV,PL         62722        78235   \n",
       "2020-11-28  ES,DE,DK,HR,IE,IT,LV,PL         73586        80782   \n",
       "2020-11-27  ES,DE,DK,HR,IE,IT,LV,PL         85755        82782   \n",
       "2020-11-26  ES,DE,DK,HR,IE,IT,LV,PL         81388        85417   \n",
       "2020-11-25  ES,DE,DK,HR,IE,IT,LV            56448        65533   \n",
       "2020-11-24  ES,DE,DK,HR,IE,IT,LV            52217        67304   \n",
       "2020-11-23  ES,DE,DK,HR,IE,IT,LV            69939        68127   \n",
       "2020-11-22  ES,DE,DK,HR,IE,IT,LV            56334        70591   \n",
       "2020-11-21  ES,DE,DK,HR,IE,IT,LV            65127        70966   \n",
       "2020-11-20  ES,DE,DK,IE,IT,LV               77058        68866   \n",
       "2020-11-19  ES,DE,DK,IE,IT,LV               75193        69974   \n",
       "2020-11-18  ES,DE,DK,IE,IT,LV               66898        70110   \n",
       "2020-11-17  ES,DE,DK,IE,IT,LV               56667        71150   \n",
       "2020-11-16  ES,DE,DK,IE,IT,LV               84825        71501   \n",
       "2020-11-15  ES,DE,DK,IE,IT,LV               56096        73670   \n",
       "2020-11-14  ES,DE,DK,IE,IT,LV               65322        73884   \n",
       "2020-11-13  ES,DE,DK,IE,IT,LV               84819        73621   \n",
       "2020-11-12  ES,DE,DK,IE,IT,LV               76143        73029   \n",
       "2020-11-11  ES,DE,DK,IE,IT,LV               74177        72741   \n",
       "\n",
       "                                        shared_teks_by_generation_date  \\\n",
       "sample_date source_regions                                               \n",
       "2020-12-08  ES,DE,DK,HR,IE,IT,LV,NL,PL                             121   \n",
       "2020-12-07  ES,DE,DK,HR,IE,IT,LV,NL,PL                            2402   \n",
       "2020-12-06  ES,DE,DK,HR,IE,IT,LV,NL,PL                            4132   \n",
       "2020-12-05  ES,DE,DK,HR,IE,IT,LV,NL,PL                            5735   \n",
       "2020-12-04  ES                                                    8309   \n",
       "2020-12-03  ES                                                   11025   \n",
       "2020-12-02  ES,DE,DK,HR,IE,IT,LV,NL,PL                           13436   \n",
       "2020-12-01  ES,DE,DK,HR,IE,IT,LV,PL                              15917   \n",
       "2020-11-30  ES,DE,DK,HR,IE,IT,LV,PL                              17846   \n",
       "2020-11-29  ES,DE,DK,HR,IE,IT,LV,PL                              18600   \n",
       "2020-11-28  ES,DE,DK,HR,IE,IT,LV,PL                              19556   \n",
       "2020-11-27  ES,DE,DK,HR,IE,IT,LV,PL                              21713   \n",
       "2020-11-26  ES,DE,DK,HR,IE,IT,LV,PL                              23580   \n",
       "2020-11-25  ES,DE,DK,HR,IE,IT,LV                                 25505   \n",
       "2020-11-24  ES,DE,DK,HR,IE,IT,LV                                 25565   \n",
       "2020-11-23  ES,DE,DK,HR,IE,IT,LV                                 25612   \n",
       "2020-11-22  ES,DE,DK,HR,IE,IT,LV                                 25108   \n",
       "2020-11-21  ES,DE,DK,HR,IE,IT,LV                                 17633   \n",
       "2020-11-20  ES,DE,DK,IE,IT,LV                                    19235   \n",
       "2020-11-19  ES,DE,DK,IE,IT,LV                                    21159   \n",
       "2020-11-18  ES,DE,DK,IE,IT,LV                                    22780   \n",
       "2020-11-17  ES,DE,DK,IE,IT,LV                                    23287   \n",
       "2020-11-16  ES,DE,DK,IE,IT,LV                                    23983   \n",
       "2020-11-15  ES,DE,DK,IE,IT,LV                                    23554   \n",
       "2020-11-14  ES,DE,DK,IE,IT,LV                                    22860   \n",
       "2020-11-13  ES,DE,DK,IE,IT,LV                                    22818   \n",
       "2020-11-12  ES,DE,DK,IE,IT,LV                                    22699   \n",
       "2020-11-11  ES,DE,DK,IE,IT,LV                                    22652   \n",
       "\n",
       "                                        shared_teks_by_upload_date  \\\n",
       "sample_date source_regions                                           \n",
       "2020-12-08  ES,DE,DK,HR,IE,IT,LV,NL,PL                       30102   \n",
       "2020-12-07  ES,DE,DK,HR,IE,IT,LV,NL,PL                       20104   \n",
       "2020-12-06  ES,DE,DK,HR,IE,IT,LV,NL,PL                       17206   \n",
       "2020-12-05  ES,DE,DK,HR,IE,IT,LV,NL,PL                      106219   \n",
       "2020-12-04  ES                                                 794   \n",
       "2020-12-03  ES                                                 828   \n",
       "2020-12-02  ES,DE,DK,HR,IE,IT,LV,NL,PL                        5371   \n",
       "2020-12-01  ES,DE,DK,HR,IE,IT,LV,PL                          24674   \n",
       "2020-11-30  ES,DE,DK,HR,IE,IT,LV,PL                          15031   \n",
       "2020-11-29  ES,DE,DK,HR,IE,IT,LV,PL                          17305   \n",
       "2020-11-28  ES,DE,DK,HR,IE,IT,LV,PL                          25028   \n",
       "2020-11-27  ES,DE,DK,HR,IE,IT,LV,PL                          27522   \n",
       "2020-11-26  ES,DE,DK,HR,IE,IT,LV,PL                          31914   \n",
       "2020-11-25  ES,DE,DK,HR,IE,IT,LV                             30693   \n",
       "2020-11-24  ES,DE,DK,HR,IE,IT,LV                             17800   \n",
       "2020-11-23  ES,DE,DK,HR,IE,IT,LV                             13061   \n",
       "2020-11-22  ES,DE,DK,HR,IE,IT,LV                             14568   \n",
       "2020-11-21  ES,DE,DK,HR,IE,IT,LV                             22605   \n",
       "2020-11-20  ES,DE,DK,IE,IT,LV                                26712   \n",
       "2020-11-19  ES,DE,DK,IE,IT,LV                                25678   \n",
       "2020-11-18  ES,DE,DK,IE,IT,LV                                29832   \n",
       "2020-11-17  ES,DE,DK,IE,IT,LV                                22734   \n",
       "2020-11-16  ES,DE,DK,IE,IT,LV                                17579   \n",
       "2020-11-15  ES,DE,DK,IE,IT,LV                                15287   \n",
       "2020-11-14  ES,DE,DK,IE,IT,LV                                22798   \n",
       "2020-11-13  ES,DE,DK,IE,IT,LV                                29729   \n",
       "2020-11-12  ES,DE,DK,IE,IT,LV                                31792   \n",
       "2020-11-11  ES,DE,DK,IE,IT,LV                                30445   \n",
       "\n",
       "                                        shared_teks_uploaded_on_generation_date  \\\n",
       "sample_date source_regions                                                        \n",
       "2020-12-08  ES,DE,DK,HR,IE,IT,LV,NL,PL                                      121   \n",
       "2020-12-07  ES,DE,DK,HR,IE,IT,LV,NL,PL                                      116   \n",
       "2020-12-06  ES,DE,DK,HR,IE,IT,LV,NL,PL                                      152   \n",
       "2020-12-05  ES,DE,DK,HR,IE,IT,LV,NL,PL                                      167   \n",
       "2020-12-04  ES                                                              158   \n",
       "2020-12-03  ES                                                              161   \n",
       "2020-12-02  ES,DE,DK,HR,IE,IT,LV,NL,PL                                      197   \n",
       "2020-12-01  ES,DE,DK,HR,IE,IT,LV,PL                                         189   \n",
       "2020-11-30  ES,DE,DK,HR,IE,IT,LV,PL                                         126   \n",
       "2020-11-29  ES,DE,DK,HR,IE,IT,LV,PL                                         128   \n",
       "2020-11-28  ES,DE,DK,HR,IE,IT,LV,PL                                         159   \n",
       "2020-11-27  ES,DE,DK,HR,IE,IT,LV,PL                                         254   \n",
       "2020-11-26  ES,DE,DK,HR,IE,IT,LV,PL                                         216   \n",
       "2020-11-25  ES,DE,DK,HR,IE,IT,LV                                            227   \n",
       "2020-11-24  ES,DE,DK,HR,IE,IT,LV                                            164   \n",
       "2020-11-23  ES,DE,DK,HR,IE,IT,LV                                            147   \n",
       "2020-11-22  ES,DE,DK,HR,IE,IT,LV                                            132   \n",
       "2020-11-21  ES,DE,DK,HR,IE,IT,LV                                            153   \n",
       "2020-11-20  ES,DE,DK,IE,IT,LV                                               212   \n",
       "2020-11-19  ES,DE,DK,IE,IT,LV                                               211   \n",
       "2020-11-18  ES,DE,DK,IE,IT,LV                                               290   \n",
       "2020-11-17  ES,DE,DK,IE,IT,LV                                               222   \n",
       "2020-11-16  ES,DE,DK,IE,IT,LV                                               194   \n",
       "2020-11-15  ES,DE,DK,IE,IT,LV                                               224   \n",
       "2020-11-14  ES,DE,DK,IE,IT,LV                                               211   \n",
       "2020-11-13  ES,DE,DK,IE,IT,LV                                               306   \n",
       "2020-11-12  ES,DE,DK,IE,IT,LV                                               317   \n",
       "2020-11-11  ES,DE,DK,IE,IT,LV                                               300   \n",
       "\n",
       "                                        shared_diagnoses  \\\n",
       "sample_date source_regions                                 \n",
       "2020-12-08  ES,DE,DK,HR,IE,IT,LV,NL,PL              2641   \n",
       "2020-12-07  ES,DE,DK,HR,IE,IT,LV,NL,PL              1823   \n",
       "2020-12-06  ES,DE,DK,HR,IE,IT,LV,NL,PL              1707   \n",
       "2020-12-05  ES,DE,DK,HR,IE,IT,LV,NL,PL                 0   \n",
       "2020-12-04  ES                                       188   \n",
       "2020-12-03  ES                                       189   \n",
       "2020-12-02  ES,DE,DK,HR,IE,IT,LV,NL,PL                 0   \n",
       "2020-12-01  ES,DE,DK,HR,IE,IT,LV,PL                 2238   \n",
       "2020-11-30  ES,DE,DK,HR,IE,IT,LV,PL                 1430   \n",
       "2020-11-29  ES,DE,DK,HR,IE,IT,LV,PL                 1684   \n",
       "2020-11-28  ES,DE,DK,HR,IE,IT,LV,PL                 2398   \n",
       "2020-11-27  ES,DE,DK,HR,IE,IT,LV,PL                 2555   \n",
       "2020-11-26  ES,DE,DK,HR,IE,IT,LV,PL                 3037   \n",
       "2020-11-25  ES,DE,DK,HR,IE,IT,LV                    2822   \n",
       "2020-11-24  ES,DE,DK,HR,IE,IT,LV                    1667   \n",
       "2020-11-23  ES,DE,DK,HR,IE,IT,LV                    1332   \n",
       "2020-11-22  ES,DE,DK,HR,IE,IT,LV                    1524   \n",
       "2020-11-21  ES,DE,DK,HR,IE,IT,LV                    2275   \n",
       "2020-11-20  ES,DE,DK,IE,IT,LV                       2617   \n",
       "2020-11-19  ES,DE,DK,IE,IT,LV                       2492   \n",
       "2020-11-18  ES,DE,DK,IE,IT,LV                       2915   \n",
       "2020-11-17  ES,DE,DK,IE,IT,LV                       2099   \n",
       "2020-11-16  ES,DE,DK,IE,IT,LV                       1741   \n",
       "2020-11-15  ES,DE,DK,IE,IT,LV                       1611   \n",
       "2020-11-14  ES,DE,DK,IE,IT,LV                       2281   \n",
       "2020-11-13  ES,DE,DK,IE,IT,LV                       2890   \n",
       "2020-11-12  ES,DE,DK,IE,IT,LV                       3205   \n",
       "2020-11-11  ES,DE,DK,IE,IT,LV                       3029   \n",
       "\n",
       "                                        teks_per_shared_diagnosis  \\\n",
       "sample_date source_regions                                          \n",
       "2020-12-08  ES,DE,DK,HR,IE,IT,LV,NL,PL                  11.397955   \n",
       "2020-12-07  ES,DE,DK,HR,IE,IT,LV,NL,PL                  11.027976   \n",
       "2020-12-06  ES,DE,DK,HR,IE,IT,LV,NL,PL                  10.079672   \n",
       "2020-12-05  ES,DE,DK,HR,IE,IT,LV,NL,PL                   0.000000   \n",
       "2020-12-04  ES                                           4.223404   \n",
       "2020-12-03  ES                                           4.380952   \n",
       "2020-12-02  ES,DE,DK,HR,IE,IT,LV,NL,PL                   0.000000   \n",
       "2020-12-01  ES,DE,DK,HR,IE,IT,LV,PL                     11.025022   \n",
       "2020-11-30  ES,DE,DK,HR,IE,IT,LV,PL                     10.511189   \n",
       "2020-11-29  ES,DE,DK,HR,IE,IT,LV,PL                     10.276128   \n",
       "2020-11-28  ES,DE,DK,HR,IE,IT,LV,PL                     10.437031   \n",
       "2020-11-27  ES,DE,DK,HR,IE,IT,LV,PL                     10.771820   \n",
       "2020-11-26  ES,DE,DK,HR,IE,IT,LV,PL                     10.508396   \n",
       "2020-11-25  ES,DE,DK,HR,IE,IT,LV                        10.876329   \n",
       "2020-11-24  ES,DE,DK,HR,IE,IT,LV                        10.677864   \n",
       "2020-11-23  ES,DE,DK,HR,IE,IT,LV                         9.805556   \n",
       "2020-11-22  ES,DE,DK,HR,IE,IT,LV                         9.559055   \n",
       "2020-11-21  ES,DE,DK,HR,IE,IT,LV                         9.936264   \n",
       "2020-11-20  ES,DE,DK,IE,IT,LV                           10.207107   \n",
       "2020-11-19  ES,DE,DK,IE,IT,LV                           10.304173   \n",
       "2020-11-18  ES,DE,DK,IE,IT,LV                           10.233962   \n",
       "2020-11-17  ES,DE,DK,IE,IT,LV                           10.830872   \n",
       "2020-11-16  ES,DE,DK,IE,IT,LV                           10.097071   \n",
       "2020-11-15  ES,DE,DK,IE,IT,LV                            9.489137   \n",
       "2020-11-14  ES,DE,DK,IE,IT,LV                            9.994739   \n",
       "2020-11-13  ES,DE,DK,IE,IT,LV                           10.286851   \n",
       "2020-11-12  ES,DE,DK,IE,IT,LV                            9.919501   \n",
       "2020-11-11  ES,DE,DK,IE,IT,LV                           10.051172   \n",
       "\n",
       "                                        shared_diagnoses_per_covid_case  \n",
       "sample_date source_regions                                               \n",
       "2020-12-08  ES,DE,DK,HR,IE,IT,LV,NL,PL                         0.038733  \n",
       "2020-12-07  ES,DE,DK,HR,IE,IT,LV,NL,PL                         0.026278  \n",
       "2020-12-06  ES,DE,DK,HR,IE,IT,LV,NL,PL                         0.024446  \n",
       "2020-12-05  ES,DE,DK,HR,IE,IT,LV,NL,PL                         0.000000  \n",
       "2020-12-04  ES                                                 0.023316  \n",
       "2020-12-03  ES                                                 0.022597  \n",
       "2020-12-02  ES,DE,DK,HR,IE,IT,LV,NL,PL                         0.000000  \n",
       "2020-12-01  ES,DE,DK,HR,IE,IT,LV,PL                            0.030846  \n",
       "2020-11-30  ES,DE,DK,HR,IE,IT,LV,PL                            0.018967  \n",
       "2020-11-29  ES,DE,DK,HR,IE,IT,LV,PL                            0.021525  \n",
       "2020-11-28  ES,DE,DK,HR,IE,IT,LV,PL                            0.029685  \n",
       "2020-11-27  ES,DE,DK,HR,IE,IT,LV,PL                            0.030864  \n",
       "2020-11-26  ES,DE,DK,HR,IE,IT,LV,PL                            0.035555  \n",
       "2020-11-25  ES,DE,DK,HR,IE,IT,LV                               0.043062  \n",
       "2020-11-24  ES,DE,DK,HR,IE,IT,LV                               0.024768  \n",
       "2020-11-23  ES,DE,DK,HR,IE,IT,LV                               0.019552  \n",
       "2020-11-22  ES,DE,DK,HR,IE,IT,LV                               0.021589  \n",
       "2020-11-21  ES,DE,DK,HR,IE,IT,LV                               0.032058  \n",
       "2020-11-20  ES,DE,DK,IE,IT,LV                                  0.038001  \n",
       "2020-11-19  ES,DE,DK,IE,IT,LV                                  0.035613  \n",
       "2020-11-18  ES,DE,DK,IE,IT,LV                                  0.041578  \n",
       "2020-11-17  ES,DE,DK,IE,IT,LV                                  0.029501  \n",
       "2020-11-16  ES,DE,DK,IE,IT,LV                                  0.024349  \n",
       "2020-11-15  ES,DE,DK,IE,IT,LV                                  0.021868  \n",
       "2020-11-14  ES,DE,DK,IE,IT,LV                                  0.030873  \n",
       "2020-11-13  ES,DE,DK,IE,IT,LV                                  0.039255  \n",
       "2020-11-12  ES,DE,DK,IE,IT,LV                                  0.043887  \n",
       "2020-11-11  ES,DE,DK,IE,IT,LV                                  0.041641  "
      ]
     },
     "execution_count": 47,
     "metadata": {},
     "output_type": "execute_result"
    }
   ],
   "source": [
    "with pd.option_context(\"mode.use_inf_as_na\", True):\n",
    "    result_summary_df = result_summary_df.fillna(0).astype(int)\n",
    "    result_summary_df[\"teks_per_shared_diagnosis\"] = \\\n",
    "        (result_summary_df.shared_teks_by_upload_date / result_summary_df.shared_diagnoses).fillna(0)\n",
    "    result_summary_df[\"shared_diagnoses_per_covid_case\"] = \\\n",
    "        (result_summary_df.shared_diagnoses / result_summary_df.covid_cases).fillna(0)\n",
    "\n",
    "result_summary_df.head(daily_plot_days)"
   ]
  },
  {
   "cell_type": "code",
   "execution_count": 48,
   "metadata": {
    "collapsed": false,
    "execution": {
     "iopub.execute_input": "2020-12-08T23:38:39.902493Z",
     "iopub.status.busy": "2020-12-08T23:38:39.901867Z",
     "iopub.status.idle": "2020-12-08T23:38:39.941626Z",
     "shell.execute_reply": "2020-12-08T23:38:39.941065Z"
    },
    "papermill": {
     "duration": 0.096558,
     "end_time": "2020-12-08T23:38:39.941754",
     "exception": false,
     "start_time": "2020-12-08T23:38:39.845196",
     "status": "completed"
    },
    "pycharm": {
     "name": "#%%\n"
    },
    "tags": []
   },
   "outputs": [
    {
     "data": {
      "text/html": [
       "<div>\n",
       "<style scoped>\n",
       "    .dataframe tbody tr th:only-of-type {\n",
       "        vertical-align: middle;\n",
       "    }\n",
       "\n",
       "    .dataframe tbody tr th {\n",
       "        vertical-align: top;\n",
       "    }\n",
       "\n",
       "    .dataframe thead th {\n",
       "        text-align: right;\n",
       "    }\n",
       "</style>\n",
       "<table border=\"1\" class=\"dataframe\">\n",
       "  <thead>\n",
       "    <tr style=\"text-align: right;\">\n",
       "      <th></th>\n",
       "      <th></th>\n",
       "      <th>covid_cases</th>\n",
       "      <th>shared_teks_by_generation_date</th>\n",
       "      <th>shared_teks_by_upload_date</th>\n",
       "      <th>shared_diagnoses</th>\n",
       "      <th>teks_per_shared_diagnosis</th>\n",
       "      <th>shared_diagnoses_per_covid_case</th>\n",
       "    </tr>\n",
       "    <tr>\n",
       "      <th>sample_date</th>\n",
       "      <th>source_regions</th>\n",
       "      <th></th>\n",
       "      <th></th>\n",
       "      <th></th>\n",
       "      <th></th>\n",
       "      <th></th>\n",
       "      <th></th>\n",
       "    </tr>\n",
       "  </thead>\n",
       "  <tbody>\n",
       "    <tr>\n",
       "      <th>2020-12-08</th>\n",
       "      <th>ES,DE,DK,HR,IE,IT,LV,NL,PL</th>\n",
       "      <td>367164</td>\n",
       "      <td>45160</td>\n",
       "      <td>180624</td>\n",
       "      <td>6548</td>\n",
       "      <td>27.584606</td>\n",
       "      <td>0.017834</td>\n",
       "    </tr>\n",
       "    <tr>\n",
       "      <th>2020-12-07</th>\n",
       "      <th>ES,DE,DK,HR,IE,IT,LV,NL,PL</th>\n",
       "      <td>371533</td>\n",
       "      <td>60956</td>\n",
       "      <td>175196</td>\n",
       "      <td>6145</td>\n",
       "      <td>28.510334</td>\n",
       "      <td>0.016540</td>\n",
       "    </tr>\n",
       "    <tr>\n",
       "      <th>2020-12-06</th>\n",
       "      <th>ES,DE,DK,HR,IE,IT,LV,NL,PL</th>\n",
       "      <td>377553</td>\n",
       "      <td>76400</td>\n",
       "      <td>170123</td>\n",
       "      <td>5752</td>\n",
       "      <td>29.576321</td>\n",
       "      <td>0.015235</td>\n",
       "    </tr>\n",
       "    <tr>\n",
       "      <th>2020-12-05</th>\n",
       "      <th>ES,DE,DK,HR,IE,IT,LV,NL,PL</th>\n",
       "      <td>385961</td>\n",
       "      <td>90868</td>\n",
       "      <td>170222</td>\n",
       "      <td>5729</td>\n",
       "      <td>29.712341</td>\n",
       "      <td>0.014843</td>\n",
       "    </tr>\n",
       "    <tr>\n",
       "      <th>2020-12-04</th>\n",
       "      <th>ES</th>\n",
       "      <td>396637</td>\n",
       "      <td>104689</td>\n",
       "      <td>89031</td>\n",
       "      <td>8127</td>\n",
       "      <td>10.954965</td>\n",
       "      <td>0.020490</td>\n",
       "    </tr>\n",
       "  </tbody>\n",
       "</table>\n",
       "</div>"
      ],
      "text/plain": [
       "                                        covid_cases  \\\n",
       "sample_date source_regions                            \n",
       "2020-12-08  ES,DE,DK,HR,IE,IT,LV,NL,PL       367164   \n",
       "2020-12-07  ES,DE,DK,HR,IE,IT,LV,NL,PL       371533   \n",
       "2020-12-06  ES,DE,DK,HR,IE,IT,LV,NL,PL       377553   \n",
       "2020-12-05  ES,DE,DK,HR,IE,IT,LV,NL,PL       385961   \n",
       "2020-12-04  ES                               396637   \n",
       "\n",
       "                                        shared_teks_by_generation_date  \\\n",
       "sample_date source_regions                                               \n",
       "2020-12-08  ES,DE,DK,HR,IE,IT,LV,NL,PL                           45160   \n",
       "2020-12-07  ES,DE,DK,HR,IE,IT,LV,NL,PL                           60956   \n",
       "2020-12-06  ES,DE,DK,HR,IE,IT,LV,NL,PL                           76400   \n",
       "2020-12-05  ES,DE,DK,HR,IE,IT,LV,NL,PL                           90868   \n",
       "2020-12-04  ES                                                  104689   \n",
       "\n",
       "                                        shared_teks_by_upload_date  \\\n",
       "sample_date source_regions                                           \n",
       "2020-12-08  ES,DE,DK,HR,IE,IT,LV,NL,PL                      180624   \n",
       "2020-12-07  ES,DE,DK,HR,IE,IT,LV,NL,PL                      175196   \n",
       "2020-12-06  ES,DE,DK,HR,IE,IT,LV,NL,PL                      170123   \n",
       "2020-12-05  ES,DE,DK,HR,IE,IT,LV,NL,PL                      170222   \n",
       "2020-12-04  ES                                               89031   \n",
       "\n",
       "                                        shared_diagnoses  \\\n",
       "sample_date source_regions                                 \n",
       "2020-12-08  ES,DE,DK,HR,IE,IT,LV,NL,PL              6548   \n",
       "2020-12-07  ES,DE,DK,HR,IE,IT,LV,NL,PL              6145   \n",
       "2020-12-06  ES,DE,DK,HR,IE,IT,LV,NL,PL              5752   \n",
       "2020-12-05  ES,DE,DK,HR,IE,IT,LV,NL,PL              5729   \n",
       "2020-12-04  ES                                      8127   \n",
       "\n",
       "                                        teks_per_shared_diagnosis  \\\n",
       "sample_date source_regions                                          \n",
       "2020-12-08  ES,DE,DK,HR,IE,IT,LV,NL,PL                  27.584606   \n",
       "2020-12-07  ES,DE,DK,HR,IE,IT,LV,NL,PL                  28.510334   \n",
       "2020-12-06  ES,DE,DK,HR,IE,IT,LV,NL,PL                  29.576321   \n",
       "2020-12-05  ES,DE,DK,HR,IE,IT,LV,NL,PL                  29.712341   \n",
       "2020-12-04  ES                                          10.954965   \n",
       "\n",
       "                                        shared_diagnoses_per_covid_case  \n",
       "sample_date source_regions                                               \n",
       "2020-12-08  ES,DE,DK,HR,IE,IT,LV,NL,PL                         0.017834  \n",
       "2020-12-07  ES,DE,DK,HR,IE,IT,LV,NL,PL                         0.016540  \n",
       "2020-12-06  ES,DE,DK,HR,IE,IT,LV,NL,PL                         0.015235  \n",
       "2020-12-05  ES,DE,DK,HR,IE,IT,LV,NL,PL                         0.014843  \n",
       "2020-12-04  ES                                                 0.020490  "
      ]
     },
     "execution_count": 48,
     "metadata": {},
     "output_type": "execute_result"
    }
   ],
   "source": [
    "weekly_result_summary_df = result_summary_df \\\n",
    "    .sort_index(ascending=True).fillna(0).rolling(7).agg({\n",
    "    \"covid_cases\": \"sum\",\n",
    "    \"shared_teks_by_generation_date\": \"sum\",\n",
    "    \"shared_teks_by_upload_date\": \"sum\",\n",
    "    \"shared_diagnoses\": \"sum\"\n",
    "}).sort_index(ascending=False)\n",
    "\n",
    "with pd.option_context(\"mode.use_inf_as_na\", True):\n",
    "    weekly_result_summary_df = weekly_result_summary_df.fillna(0).astype(int)\n",
    "    weekly_result_summary_df[\"teks_per_shared_diagnosis\"] = \\\n",
    "        (weekly_result_summary_df.shared_teks_by_upload_date / weekly_result_summary_df.shared_diagnoses).fillna(0)\n",
    "    weekly_result_summary_df[\"shared_diagnoses_per_covid_case\"] = \\\n",
    "        (weekly_result_summary_df.shared_diagnoses / weekly_result_summary_df.covid_cases).fillna(0)\n",
    "\n",
    "weekly_result_summary_df.head()"
   ]
  },
  {
   "cell_type": "code",
   "execution_count": 49,
   "metadata": {
    "collapsed": false,
    "execution": {
     "iopub.execute_input": "2020-12-08T23:38:40.060475Z",
     "iopub.status.busy": "2020-12-08T23:38:40.059995Z",
     "iopub.status.idle": "2020-12-08T23:38:40.064581Z",
     "shell.execute_reply": "2020-12-08T23:38:40.064174Z"
    },
    "papermill": {
     "duration": 0.067021,
     "end_time": "2020-12-08T23:38:40.064691",
     "exception": false,
     "start_time": "2020-12-08T23:38:39.997670",
     "status": "completed"
    },
    "pycharm": {
     "name": "#%%\n"
    },
    "tags": []
   },
   "outputs": [
    {
     "data": {
      "text/plain": [
       "{'covid_cases': 371533,\n",
       " 'shared_teks_by_generation_date': 60956,\n",
       " 'shared_teks_by_upload_date': 175196,\n",
       " 'shared_diagnoses': 6145,\n",
       " 'teks_per_shared_diagnosis': 28.51033360455655,\n",
       " 'shared_diagnoses_per_covid_case': 0.016539580602530597}"
      ]
     },
     "execution_count": 49,
     "metadata": {},
     "output_type": "execute_result"
    }
   ],
   "source": [
    "last_7_days_summary = weekly_result_summary_df.to_dict(orient=\"records\")[1]\n",
    "last_7_days_summary"
   ]
  },
  {
   "cell_type": "markdown",
   "metadata": {
    "collapsed": false,
    "papermill": {
     "duration": 0.054794,
     "end_time": "2020-12-08T23:38:40.174545",
     "exception": false,
     "start_time": "2020-12-08T23:38:40.119751",
     "status": "completed"
    },
    "tags": []
   },
   "source": [
    "## Report Results"
   ]
  },
  {
   "cell_type": "code",
   "execution_count": 50,
   "metadata": {
    "collapsed": false,
    "execution": {
     "iopub.execute_input": "2020-12-08T23:38:40.291879Z",
     "iopub.status.busy": "2020-12-08T23:38:40.291262Z",
     "iopub.status.idle": "2020-12-08T23:38:40.293292Z",
     "shell.execute_reply": "2020-12-08T23:38:40.292735Z"
    },
    "papermill": {
     "duration": 0.064237,
     "end_time": "2020-12-08T23:38:40.293408",
     "exception": false,
     "start_time": "2020-12-08T23:38:40.229171",
     "status": "completed"
    },
    "pycharm": {
     "name": "#%%\n"
    },
    "tags": []
   },
   "outputs": [],
   "source": [
    "display_column_name_mapping = {\n",
    "    \"sample_date\": \"Sample\\u00A0Date\\u00A0(UTC)\",\n",
    "    \"source_regions\": \"Source Countries\",\n",
    "    \"datetime_utc\": \"Timestamp (UTC)\",\n",
    "    \"upload_date\": \"Upload Date (UTC)\",\n",
    "    \"generation_to_upload_days\": \"Generation to Upload Period in Days\",\n",
    "    \"region\": \"Backend\",\n",
    "    \"region_x\": \"Backend\\u00A0(A)\",\n",
    "    \"region_y\": \"Backend\\u00A0(B)\",\n",
    "    \"common_teks\": \"Common TEKs Shared Between Backends\",\n",
    "    \"common_teks_fraction\": \"Fraction of TEKs in Backend (A) Available in Backend (B)\",\n",
    "    \"covid_cases\": \"COVID-19 Cases in Source Countries (7-day Rolling Average)\",\n",
    "    \"shared_teks_by_generation_date\": \"Shared TEKs by Generation Date\",\n",
    "    \"shared_teks_by_upload_date\": \"Shared TEKs by Upload Date\",\n",
    "    \"shared_diagnoses\": \"Shared Diagnoses (Estimation)\",\n",
    "    \"teks_per_shared_diagnosis\": \"TEKs Uploaded per Shared Diagnosis\",\n",
    "    \"shared_diagnoses_per_covid_case\": \"Usage Ratio (Fraction of Cases in Source Countries Which Shared Diagnosis)\",\n",
    "    \"shared_teks_uploaded_on_generation_date\": \"Shared TEKs Uploaded on Generation Date\",\n",
    "}"
   ]
  },
  {
   "cell_type": "code",
   "execution_count": 51,
   "metadata": {
    "collapsed": false,
    "execution": {
     "iopub.execute_input": "2020-12-08T23:38:40.408176Z",
     "iopub.status.busy": "2020-12-08T23:38:40.407696Z",
     "iopub.status.idle": "2020-12-08T23:38:40.409755Z",
     "shell.execute_reply": "2020-12-08T23:38:40.409374Z"
    },
    "papermill": {
     "duration": 0.061086,
     "end_time": "2020-12-08T23:38:40.409872",
     "exception": false,
     "start_time": "2020-12-08T23:38:40.348786",
     "status": "completed"
    },
    "pycharm": {
     "name": "#%%\n"
    },
    "tags": []
   },
   "outputs": [],
   "source": [
    "summary_columns = [\n",
    "    \"covid_cases\",\n",
    "    \"shared_teks_by_generation_date\",\n",
    "    \"shared_teks_by_upload_date\",\n",
    "    \"shared_teks_uploaded_on_generation_date\",\n",
    "    \"shared_diagnoses\",\n",
    "    \"teks_per_shared_diagnosis\",\n",
    "    \"shared_diagnoses_per_covid_case\",\n",
    "]"
   ]
  },
  {
   "cell_type": "markdown",
   "metadata": {
    "collapsed": false,
    "papermill": {
     "duration": 0.054605,
     "end_time": "2020-12-08T23:38:40.519630",
     "exception": false,
     "start_time": "2020-12-08T23:38:40.465025",
     "status": "completed"
    },
    "tags": []
   },
   "source": [
    "### Daily Summary Table"
   ]
  },
  {
   "cell_type": "code",
   "execution_count": 52,
   "metadata": {
    "collapsed": false,
    "execution": {
     "iopub.execute_input": "2020-12-08T23:38:40.636080Z",
     "iopub.status.busy": "2020-12-08T23:38:40.635575Z",
     "iopub.status.idle": "2020-12-08T23:38:40.652329Z",
     "shell.execute_reply": "2020-12-08T23:38:40.652751Z"
    },
    "papermill": {
     "duration": 0.078693,
     "end_time": "2020-12-08T23:38:40.652909",
     "exception": false,
     "start_time": "2020-12-08T23:38:40.574216",
     "status": "completed"
    },
    "pycharm": {
     "name": "#%%\n"
    },
    "tags": []
   },
   "outputs": [
    {
     "data": {
      "text/html": [
       "<div>\n",
       "<style scoped>\n",
       "    .dataframe tbody tr th:only-of-type {\n",
       "        vertical-align: middle;\n",
       "    }\n",
       "\n",
       "    .dataframe tbody tr th {\n",
       "        vertical-align: top;\n",
       "    }\n",
       "\n",
       "    .dataframe thead th {\n",
       "        text-align: right;\n",
       "    }\n",
       "</style>\n",
       "<table border=\"1\" class=\"dataframe\">\n",
       "  <thead>\n",
       "    <tr style=\"text-align: right;\">\n",
       "      <th></th>\n",
       "      <th></th>\n",
       "      <th>COVID-19 Cases in Source Countries (7-day Rolling Average)</th>\n",
       "      <th>Shared TEKs by Generation Date</th>\n",
       "      <th>Shared TEKs by Upload Date</th>\n",
       "      <th>Shared TEKs Uploaded on Generation Date</th>\n",
       "      <th>Shared Diagnoses (Estimation)</th>\n",
       "      <th>TEKs Uploaded per Shared Diagnosis</th>\n",
       "      <th>Usage Ratio (Fraction of Cases in Source Countries Which Shared Diagnosis)</th>\n",
       "    </tr>\n",
       "    <tr>\n",
       "      <th>Sample Date (UTC)</th>\n",
       "      <th>Source Countries</th>\n",
       "      <th></th>\n",
       "      <th></th>\n",
       "      <th></th>\n",
       "      <th></th>\n",
       "      <th></th>\n",
       "      <th></th>\n",
       "      <th></th>\n",
       "    </tr>\n",
       "  </thead>\n",
       "  <tbody>\n",
       "    <tr>\n",
       "      <th>2020-12-08</th>\n",
       "      <th>ES,DE,DK,HR,IE,IT,LV,NL,PL</th>\n",
       "      <td>68184</td>\n",
       "      <td>121</td>\n",
       "      <td>30102</td>\n",
       "      <td>121</td>\n",
       "      <td>2641</td>\n",
       "      <td>11.397955</td>\n",
       "      <td>0.038733</td>\n",
       "    </tr>\n",
       "    <tr>\n",
       "      <th>2020-12-07</th>\n",
       "      <th>ES,DE,DK,HR,IE,IT,LV,NL,PL</th>\n",
       "      <td>69374</td>\n",
       "      <td>2402</td>\n",
       "      <td>20104</td>\n",
       "      <td>116</td>\n",
       "      <td>1823</td>\n",
       "      <td>11.027976</td>\n",
       "      <td>0.026278</td>\n",
       "    </tr>\n",
       "    <tr>\n",
       "      <th>2020-12-06</th>\n",
       "      <th>ES,DE,DK,HR,IE,IT,LV,NL,PL</th>\n",
       "      <td>69827</td>\n",
       "      <td>4132</td>\n",
       "      <td>17206</td>\n",
       "      <td>152</td>\n",
       "      <td>1707</td>\n",
       "      <td>10.079672</td>\n",
       "      <td>0.024446</td>\n",
       "    </tr>\n",
       "    <tr>\n",
       "      <th>2020-12-05</th>\n",
       "      <th>ES,DE,DK,HR,IE,IT,LV,NL,PL</th>\n",
       "      <td>70106</td>\n",
       "      <td>5735</td>\n",
       "      <td>106219</td>\n",
       "      <td>167</td>\n",
       "      <td>0</td>\n",
       "      <td>0.000000</td>\n",
       "      <td>0.000000</td>\n",
       "    </tr>\n",
       "    <tr>\n",
       "      <th>2020-12-04</th>\n",
       "      <th>ES</th>\n",
       "      <td>8063</td>\n",
       "      <td>8309</td>\n",
       "      <td>794</td>\n",
       "      <td>158</td>\n",
       "      <td>188</td>\n",
       "      <td>4.223404</td>\n",
       "      <td>0.023316</td>\n",
       "    </tr>\n",
       "    <tr>\n",
       "      <th>...</th>\n",
       "      <th>...</th>\n",
       "      <td>...</td>\n",
       "      <td>...</td>\n",
       "      <td>...</td>\n",
       "      <td>...</td>\n",
       "      <td>...</td>\n",
       "      <td>...</td>\n",
       "      <td>...</td>\n",
       "    </tr>\n",
       "    <tr>\n",
       "      <th>2020-09-20</th>\n",
       "      <th>ES</th>\n",
       "      <td>10531</td>\n",
       "      <td>218</td>\n",
       "      <td>116</td>\n",
       "      <td>0</td>\n",
       "      <td>45</td>\n",
       "      <td>2.577778</td>\n",
       "      <td>0.004273</td>\n",
       "    </tr>\n",
       "    <tr>\n",
       "      <th>2020-09-19</th>\n",
       "      <th>ES</th>\n",
       "      <td>10531</td>\n",
       "      <td>203</td>\n",
       "      <td>90</td>\n",
       "      <td>2</td>\n",
       "      <td>39</td>\n",
       "      <td>2.307692</td>\n",
       "      <td>0.003703</td>\n",
       "    </tr>\n",
       "    <tr>\n",
       "      <th>2020-09-18</th>\n",
       "      <th>ES</th>\n",
       "      <td>10531</td>\n",
       "      <td>165</td>\n",
       "      <td>138</td>\n",
       "      <td>1</td>\n",
       "      <td>52</td>\n",
       "      <td>2.653846</td>\n",
       "      <td>0.004938</td>\n",
       "    </tr>\n",
       "    <tr>\n",
       "      <th>2020-09-17</th>\n",
       "      <th>ES</th>\n",
       "      <td>10215</td>\n",
       "      <td>139</td>\n",
       "      <td>63</td>\n",
       "      <td>0</td>\n",
       "      <td>29</td>\n",
       "      <td>2.172414</td>\n",
       "      <td>0.002839</td>\n",
       "    </tr>\n",
       "    <tr>\n",
       "      <th>2020-09-16</th>\n",
       "      <th>ES</th>\n",
       "      <td>10140</td>\n",
       "      <td>119</td>\n",
       "      <td>62</td>\n",
       "      <td>0</td>\n",
       "      <td>23</td>\n",
       "      <td>2.695652</td>\n",
       "      <td>0.002268</td>\n",
       "    </tr>\n",
       "  </tbody>\n",
       "</table>\n",
       "<p>84 rows × 7 columns</p>\n",
       "</div>"
      ],
      "text/plain": [
       "                                              COVID-19 Cases in Source Countries (7-day Rolling Average)  \\\n",
       "Sample Date (UTC) Source Countries                                                                         \n",
       "2020-12-08        ES,DE,DK,HR,IE,IT,LV,NL,PL                                              68184            \n",
       "2020-12-07        ES,DE,DK,HR,IE,IT,LV,NL,PL                                              69374            \n",
       "2020-12-06        ES,DE,DK,HR,IE,IT,LV,NL,PL                                              69827            \n",
       "2020-12-05        ES,DE,DK,HR,IE,IT,LV,NL,PL                                              70106            \n",
       "2020-12-04        ES                                                                       8063            \n",
       "...                                                                                         ...            \n",
       "2020-09-20        ES                                                                      10531            \n",
       "2020-09-19        ES                                                                      10531            \n",
       "2020-09-18        ES                                                                      10531            \n",
       "2020-09-17        ES                                                                      10215            \n",
       "2020-09-16        ES                                                                      10140            \n",
       "\n",
       "                                              Shared TEKs by Generation Date  \\\n",
       "Sample Date (UTC) Source Countries                                             \n",
       "2020-12-08        ES,DE,DK,HR,IE,IT,LV,NL,PL                             121   \n",
       "2020-12-07        ES,DE,DK,HR,IE,IT,LV,NL,PL                            2402   \n",
       "2020-12-06        ES,DE,DK,HR,IE,IT,LV,NL,PL                            4132   \n",
       "2020-12-05        ES,DE,DK,HR,IE,IT,LV,NL,PL                            5735   \n",
       "2020-12-04        ES                                                    8309   \n",
       "...                                                                      ...   \n",
       "2020-09-20        ES                                                     218   \n",
       "2020-09-19        ES                                                     203   \n",
       "2020-09-18        ES                                                     165   \n",
       "2020-09-17        ES                                                     139   \n",
       "2020-09-16        ES                                                     119   \n",
       "\n",
       "                                              Shared TEKs by Upload Date  \\\n",
       "Sample Date (UTC) Source Countries                                         \n",
       "2020-12-08        ES,DE,DK,HR,IE,IT,LV,NL,PL                       30102   \n",
       "2020-12-07        ES,DE,DK,HR,IE,IT,LV,NL,PL                       20104   \n",
       "2020-12-06        ES,DE,DK,HR,IE,IT,LV,NL,PL                       17206   \n",
       "2020-12-05        ES,DE,DK,HR,IE,IT,LV,NL,PL                      106219   \n",
       "2020-12-04        ES                                                 794   \n",
       "...                                                                  ...   \n",
       "2020-09-20        ES                                                 116   \n",
       "2020-09-19        ES                                                  90   \n",
       "2020-09-18        ES                                                 138   \n",
       "2020-09-17        ES                                                  63   \n",
       "2020-09-16        ES                                                  62   \n",
       "\n",
       "                                              Shared TEKs Uploaded on Generation Date  \\\n",
       "Sample Date (UTC) Source Countries                                                      \n",
       "2020-12-08        ES,DE,DK,HR,IE,IT,LV,NL,PL                                      121   \n",
       "2020-12-07        ES,DE,DK,HR,IE,IT,LV,NL,PL                                      116   \n",
       "2020-12-06        ES,DE,DK,HR,IE,IT,LV,NL,PL                                      152   \n",
       "2020-12-05        ES,DE,DK,HR,IE,IT,LV,NL,PL                                      167   \n",
       "2020-12-04        ES                                                              158   \n",
       "...                                                                               ...   \n",
       "2020-09-20        ES                                                                0   \n",
       "2020-09-19        ES                                                                2   \n",
       "2020-09-18        ES                                                                1   \n",
       "2020-09-17        ES                                                                0   \n",
       "2020-09-16        ES                                                                0   \n",
       "\n",
       "                                              Shared Diagnoses (Estimation)  \\\n",
       "Sample Date (UTC) Source Countries                                            \n",
       "2020-12-08        ES,DE,DK,HR,IE,IT,LV,NL,PL                           2641   \n",
       "2020-12-07        ES,DE,DK,HR,IE,IT,LV,NL,PL                           1823   \n",
       "2020-12-06        ES,DE,DK,HR,IE,IT,LV,NL,PL                           1707   \n",
       "2020-12-05        ES,DE,DK,HR,IE,IT,LV,NL,PL                              0   \n",
       "2020-12-04        ES                                                    188   \n",
       "...                                                                     ...   \n",
       "2020-09-20        ES                                                     45   \n",
       "2020-09-19        ES                                                     39   \n",
       "2020-09-18        ES                                                     52   \n",
       "2020-09-17        ES                                                     29   \n",
       "2020-09-16        ES                                                     23   \n",
       "\n",
       "                                              TEKs Uploaded per Shared Diagnosis  \\\n",
       "Sample Date (UTC) Source Countries                                                 \n",
       "2020-12-08        ES,DE,DK,HR,IE,IT,LV,NL,PL                           11.397955   \n",
       "2020-12-07        ES,DE,DK,HR,IE,IT,LV,NL,PL                           11.027976   \n",
       "2020-12-06        ES,DE,DK,HR,IE,IT,LV,NL,PL                           10.079672   \n",
       "2020-12-05        ES,DE,DK,HR,IE,IT,LV,NL,PL                            0.000000   \n",
       "2020-12-04        ES                                                    4.223404   \n",
       "...                                                                          ...   \n",
       "2020-09-20        ES                                                    2.577778   \n",
       "2020-09-19        ES                                                    2.307692   \n",
       "2020-09-18        ES                                                    2.653846   \n",
       "2020-09-17        ES                                                    2.172414   \n",
       "2020-09-16        ES                                                    2.695652   \n",
       "\n",
       "                                              Usage Ratio (Fraction of Cases in Source Countries Which Shared Diagnosis)  \n",
       "Sample Date (UTC) Source Countries                                                                                        \n",
       "2020-12-08        ES,DE,DK,HR,IE,IT,LV,NL,PL                                           0.038733                           \n",
       "2020-12-07        ES,DE,DK,HR,IE,IT,LV,NL,PL                                           0.026278                           \n",
       "2020-12-06        ES,DE,DK,HR,IE,IT,LV,NL,PL                                           0.024446                           \n",
       "2020-12-05        ES,DE,DK,HR,IE,IT,LV,NL,PL                                           0.000000                           \n",
       "2020-12-04        ES                                                                   0.023316                           \n",
       "...                                                                                         ...                           \n",
       "2020-09-20        ES                                                                   0.004273                           \n",
       "2020-09-19        ES                                                                   0.003703                           \n",
       "2020-09-18        ES                                                                   0.004938                           \n",
       "2020-09-17        ES                                                                   0.002839                           \n",
       "2020-09-16        ES                                                                   0.002268                           \n",
       "\n",
       "[84 rows x 7 columns]"
      ]
     },
     "execution_count": 52,
     "metadata": {},
     "output_type": "execute_result"
    }
   ],
   "source": [
    "result_summary_df_ = result_summary_df.copy()\n",
    "result_summary_df = result_summary_df[summary_columns]\n",
    "result_summary_with_display_names_df = result_summary_df \\\n",
    "    .rename_axis(index=display_column_name_mapping) \\\n",
    "    .rename(columns=display_column_name_mapping)\n",
    "result_summary_with_display_names_df"
   ]
  },
  {
   "cell_type": "markdown",
   "metadata": {
    "collapsed": false,
    "papermill": {
     "duration": 0.055412,
     "end_time": "2020-12-08T23:38:40.764905",
     "exception": false,
     "start_time": "2020-12-08T23:38:40.709493",
     "status": "completed"
    },
    "tags": []
   },
   "source": [
    "### Daily Summary Plots"
   ]
  },
  {
   "cell_type": "code",
   "execution_count": 53,
   "metadata": {
    "collapsed": false,
    "execution": {
     "iopub.execute_input": "2020-12-08T23:38:40.890038Z",
     "iopub.status.busy": "2020-12-08T23:38:40.889560Z",
     "iopub.status.idle": "2020-12-08T23:38:43.502530Z",
     "shell.execute_reply": "2020-12-08T23:38:43.502910Z"
    },
    "papermill": {
     "duration": 2.682425,
     "end_time": "2020-12-08T23:38:43.503064",
     "exception": false,
     "start_time": "2020-12-08T23:38:40.820639",
     "status": "completed"
    },
    "pycharm": {
     "name": "#%%\n"
    },
    "tags": []
   },
   "outputs": [
    {
     "data": {
      "image/png": "[encoded data removed]",
      "text/plain": [
       "<Figure size 1080x1584 with 7 Axes>"
      ]
     },
     "metadata": {},
     "output_type": "display_data"
    }
   ],
   "source": [
    "result_plot_summary_df = result_summary_df.head(daily_plot_days)[summary_columns] \\\n",
    "    .droplevel(level=[\"source_regions\"]) \\\n",
    "    .rename_axis(index=display_column_name_mapping) \\\n",
    "    .rename(columns=display_column_name_mapping)\n",
    "summary_ax_list = result_plot_summary_df.sort_index(ascending=True).plot.bar(\n",
    "    title=f\"Daily Summary\",\n",
    "    rot=45, subplots=True, figsize=(15, 22), legend=False)\n",
    "ax_ = summary_ax_list[-1]\n",
    "ax_.get_figure().tight_layout()\n",
    "ax_.get_figure().subplots_adjust(top=0.95)\n",
    "ax_.yaxis.set_major_formatter(matplotlib.ticker.PercentFormatter(1.0))\n",
    "_ = ax_.set_xticklabels(sorted(result_plot_summary_df.index.strftime(\"%Y-%m-%d\").tolist()))"
   ]
  },
  {
   "cell_type": "markdown",
   "metadata": {
    "execution": {
     "iopub.execute_input": "2020-09-02T08:20:14.568088Z",
     "iopub.status.busy": "2020-09-02T08:20:14.567425Z",
     "iopub.status.idle": "2020-09-02T08:20:14.571422Z",
     "shell.execute_reply": "2020-09-02T08:20:14.571952Z"
    },
    "papermill": {
     "duration": 0.058104,
     "end_time": "2020-12-08T23:38:43.619692",
     "exception": false,
     "start_time": "2020-12-08T23:38:43.561588",
     "status": "completed"
    },
    "pycharm": {
     "name": "#%% md\n"
    },
    "tags": []
   },
   "source": [
    "### Daily Generation to Upload Period Table"
   ]
  },
  {
   "cell_type": "code",
   "execution_count": 54,
   "metadata": {
    "execution": {
     "iopub.execute_input": "2020-12-08T23:38:43.740933Z",
     "iopub.status.busy": "2020-12-08T23:38:43.740455Z",
     "iopub.status.idle": "2020-12-08T23:38:43.752545Z",
     "shell.execute_reply": "2020-12-08T23:38:43.752136Z"
    },
    "papermill": {
     "duration": 0.074678,
     "end_time": "2020-12-08T23:38:43.752660",
     "exception": false,
     "start_time": "2020-12-08T23:38:43.677982",
     "status": "completed"
    },
    "pycharm": {
     "name": "#%%\n"
    },
    "tags": []
   },
   "outputs": [
    {
     "data": {
      "text/html": [
       "<div>\n",
       "<style scoped>\n",
       "    .dataframe tbody tr th:only-of-type {\n",
       "        vertical-align: middle;\n",
       "    }\n",
       "\n",
       "    .dataframe tbody tr th {\n",
       "        vertical-align: top;\n",
       "    }\n",
       "\n",
       "    .dataframe thead th {\n",
       "        text-align: right;\n",
       "    }\n",
       "</style>\n",
       "<table border=\"1\" class=\"dataframe\">\n",
       "  <thead>\n",
       "    <tr style=\"text-align: right;\">\n",
       "      <th>Generation to Upload Period in Days</th>\n",
       "      <th>0</th>\n",
       "      <th>1</th>\n",
       "      <th>2</th>\n",
       "      <th>3</th>\n",
       "      <th>4</th>\n",
       "      <th>5</th>\n",
       "      <th>6</th>\n",
       "      <th>7</th>\n",
       "      <th>8</th>\n",
       "      <th>9</th>\n",
       "      <th>10</th>\n",
       "      <th>11</th>\n",
       "      <th>12</th>\n",
       "      <th>13</th>\n",
       "    </tr>\n",
       "    <tr>\n",
       "      <th>Upload Date (UTC)</th>\n",
       "      <th></th>\n",
       "      <th></th>\n",
       "      <th></th>\n",
       "      <th></th>\n",
       "      <th></th>\n",
       "      <th></th>\n",
       "      <th></th>\n",
       "      <th></th>\n",
       "      <th></th>\n",
       "      <th></th>\n",
       "      <th></th>\n",
       "      <th></th>\n",
       "      <th></th>\n",
       "      <th></th>\n",
       "    </tr>\n",
       "  </thead>\n",
       "  <tbody>\n",
       "    <tr>\n",
       "      <th>2020-12-08</th>\n",
       "      <td>121</td>\n",
       "      <td>2286</td>\n",
       "      <td>2641</td>\n",
       "      <td>2575</td>\n",
       "      <td>2496</td>\n",
       "      <td>2411</td>\n",
       "      <td>2335</td>\n",
       "      <td>2266</td>\n",
       "      <td>2246</td>\n",
       "      <td>2193</td>\n",
       "      <td>2165</td>\n",
       "      <td>2138</td>\n",
       "      <td>2133</td>\n",
       "      <td>2096</td>\n",
       "    </tr>\n",
       "    <tr>\n",
       "      <th>2020-12-07</th>\n",
       "      <td>116</td>\n",
       "      <td>1339</td>\n",
       "      <td>1823</td>\n",
       "      <td>1765</td>\n",
       "      <td>1689</td>\n",
       "      <td>1604</td>\n",
       "      <td>1569</td>\n",
       "      <td>1519</td>\n",
       "      <td>1525</td>\n",
       "      <td>1462</td>\n",
       "      <td>1448</td>\n",
       "      <td>1430</td>\n",
       "      <td>1402</td>\n",
       "      <td>1413</td>\n",
       "    </tr>\n",
       "    <tr>\n",
       "      <th>2020-12-06</th>\n",
       "      <td>152</td>\n",
       "      <td>1170</td>\n",
       "      <td>1707</td>\n",
       "      <td>1523</td>\n",
       "      <td>1398</td>\n",
       "      <td>1355</td>\n",
       "      <td>1310</td>\n",
       "      <td>1280</td>\n",
       "      <td>1275</td>\n",
       "      <td>1247</td>\n",
       "      <td>1238</td>\n",
       "      <td>1188</td>\n",
       "      <td>1190</td>\n",
       "      <td>1173</td>\n",
       "    </tr>\n",
       "    <tr>\n",
       "      <th>2020-12-05</th>\n",
       "      <td>167</td>\n",
       "      <td>2183</td>\n",
       "      <td>5053</td>\n",
       "      <td>7593</td>\n",
       "      <td>10092</td>\n",
       "      <td>9910</td>\n",
       "      <td>9487</td>\n",
       "      <td>9267</td>\n",
       "      <td>9190</td>\n",
       "      <td>8930</td>\n",
       "      <td>8743</td>\n",
       "      <td>8672</td>\n",
       "      <td>8546</td>\n",
       "      <td>8386</td>\n",
       "    </tr>\n",
       "    <tr>\n",
       "      <th>2020-12-04</th>\n",
       "      <td>158</td>\n",
       "      <td>188</td>\n",
       "      <td>120</td>\n",
       "      <td>103</td>\n",
       "      <td>77</td>\n",
       "      <td>55</td>\n",
       "      <td>28</td>\n",
       "      <td>18</td>\n",
       "      <td>11</td>\n",
       "      <td>10</td>\n",
       "      <td>10</td>\n",
       "      <td>8</td>\n",
       "      <td>5</td>\n",
       "      <td>3</td>\n",
       "    </tr>\n",
       "    <tr>\n",
       "      <th>2020-12-03</th>\n",
       "      <td>161</td>\n",
       "      <td>189</td>\n",
       "      <td>129</td>\n",
       "      <td>116</td>\n",
       "      <td>91</td>\n",
       "      <td>57</td>\n",
       "      <td>36</td>\n",
       "      <td>27</td>\n",
       "      <td>12</td>\n",
       "      <td>5</td>\n",
       "      <td>3</td>\n",
       "      <td>1</td>\n",
       "      <td>1</td>\n",
       "      <td>0</td>\n",
       "    </tr>\n",
       "    <tr>\n",
       "      <th>2020-12-02</th>\n",
       "      <td>197</td>\n",
       "      <td>214</td>\n",
       "      <td>615</td>\n",
       "      <td>540</td>\n",
       "      <td>499</td>\n",
       "      <td>454</td>\n",
       "      <td>421</td>\n",
       "      <td>390</td>\n",
       "      <td>369</td>\n",
       "      <td>354</td>\n",
       "      <td>339</td>\n",
       "      <td>332</td>\n",
       "      <td>325</td>\n",
       "      <td>322</td>\n",
       "    </tr>\n",
       "    <tr>\n",
       "      <th>2020-12-01</th>\n",
       "      <td>189</td>\n",
       "      <td>1927</td>\n",
       "      <td>2238</td>\n",
       "      <td>2172</td>\n",
       "      <td>2093</td>\n",
       "      <td>1974</td>\n",
       "      <td>1911</td>\n",
       "      <td>1846</td>\n",
       "      <td>1770</td>\n",
       "      <td>1754</td>\n",
       "      <td>1737</td>\n",
       "      <td>1712</td>\n",
       "      <td>1690</td>\n",
       "      <td>1661</td>\n",
       "    </tr>\n",
       "    <tr>\n",
       "      <th>2020-11-30</th>\n",
       "      <td>126</td>\n",
       "      <td>1063</td>\n",
       "      <td>1430</td>\n",
       "      <td>1367</td>\n",
       "      <td>1274</td>\n",
       "      <td>1200</td>\n",
       "      <td>1155</td>\n",
       "      <td>1107</td>\n",
       "      <td>1100</td>\n",
       "      <td>1089</td>\n",
       "      <td>1056</td>\n",
       "      <td>1043</td>\n",
       "      <td>1028</td>\n",
       "      <td>993</td>\n",
       "    </tr>\n",
       "    <tr>\n",
       "      <th>2020-11-29</th>\n",
       "      <td>128</td>\n",
       "      <td>1042</td>\n",
       "      <td>1684</td>\n",
       "      <td>1546</td>\n",
       "      <td>1430</td>\n",
       "      <td>1404</td>\n",
       "      <td>1349</td>\n",
       "      <td>1320</td>\n",
       "      <td>1291</td>\n",
       "      <td>1262</td>\n",
       "      <td>1227</td>\n",
       "      <td>1217</td>\n",
       "      <td>1215</td>\n",
       "      <td>1190</td>\n",
       "    </tr>\n",
       "    <tr>\n",
       "      <th>2020-11-28</th>\n",
       "      <td>159</td>\n",
       "      <td>1784</td>\n",
       "      <td>2398</td>\n",
       "      <td>2183</td>\n",
       "      <td>2098</td>\n",
       "      <td>2006</td>\n",
       "      <td>1978</td>\n",
       "      <td>1883</td>\n",
       "      <td>1817</td>\n",
       "      <td>1810</td>\n",
       "      <td>1771</td>\n",
       "      <td>1736</td>\n",
       "      <td>1711</td>\n",
       "      <td>1694</td>\n",
       "    </tr>\n",
       "    <tr>\n",
       "      <th>2020-11-27</th>\n",
       "      <td>254</td>\n",
       "      <td>1982</td>\n",
       "      <td>2555</td>\n",
       "      <td>2355</td>\n",
       "      <td>2279</td>\n",
       "      <td>2169</td>\n",
       "      <td>2144</td>\n",
       "      <td>2101</td>\n",
       "      <td>2008</td>\n",
       "      <td>2004</td>\n",
       "      <td>1966</td>\n",
       "      <td>1955</td>\n",
       "      <td>1871</td>\n",
       "      <td>1879</td>\n",
       "    </tr>\n",
       "    <tr>\n",
       "      <th>2020-11-26</th>\n",
       "      <td>216</td>\n",
       "      <td>2158</td>\n",
       "      <td>3037</td>\n",
       "      <td>2811</td>\n",
       "      <td>2643</td>\n",
       "      <td>2534</td>\n",
       "      <td>2479</td>\n",
       "      <td>2416</td>\n",
       "      <td>2358</td>\n",
       "      <td>2350</td>\n",
       "      <td>2301</td>\n",
       "      <td>2214</td>\n",
       "      <td>2178</td>\n",
       "      <td>2219</td>\n",
       "    </tr>\n",
       "    <tr>\n",
       "      <th>2020-11-25</th>\n",
       "      <td>227</td>\n",
       "      <td>1847</td>\n",
       "      <td>2822</td>\n",
       "      <td>2722</td>\n",
       "      <td>2613</td>\n",
       "      <td>2523</td>\n",
       "      <td>2448</td>\n",
       "      <td>2336</td>\n",
       "      <td>2289</td>\n",
       "      <td>2242</td>\n",
       "      <td>2185</td>\n",
       "      <td>2160</td>\n",
       "      <td>2171</td>\n",
       "      <td>2108</td>\n",
       "    </tr>\n",
       "  </tbody>\n",
       "</table>\n",
       "</div>"
      ],
      "text/plain": [
       "Generation to Upload Period in Days   0     1     2     3      4     5     6   \\\n",
       "Upload Date (UTC)                                                               \n",
       "2020-12-08                           121  2286  2641  2575   2496  2411  2335   \n",
       "2020-12-07                           116  1339  1823  1765   1689  1604  1569   \n",
       "2020-12-06                           152  1170  1707  1523   1398  1355  1310   \n",
       "2020-12-05                           167  2183  5053  7593  10092  9910  9487   \n",
       "2020-12-04                           158   188   120   103     77    55    28   \n",
       "2020-12-03                           161   189   129   116     91    57    36   \n",
       "2020-12-02                           197   214   615   540    499   454   421   \n",
       "2020-12-01                           189  1927  2238  2172   2093  1974  1911   \n",
       "2020-11-30                           126  1063  1430  1367   1274  1200  1155   \n",
       "2020-11-29                           128  1042  1684  1546   1430  1404  1349   \n",
       "2020-11-28                           159  1784  2398  2183   2098  2006  1978   \n",
       "2020-11-27                           254  1982  2555  2355   2279  2169  2144   \n",
       "2020-11-26                           216  2158  3037  2811   2643  2534  2479   \n",
       "2020-11-25                           227  1847  2822  2722   2613  2523  2448   \n",
       "\n",
       "Generation to Upload Period in Days    7     8     9     10    11    12    13  \n",
       "Upload Date (UTC)                                                              \n",
       "2020-12-08                           2266  2246  2193  2165  2138  2133  2096  \n",
       "2020-12-07                           1519  1525  1462  1448  1430  1402  1413  \n",
       "2020-12-06                           1280  1275  1247  1238  1188  1190  1173  \n",
       "2020-12-05                           9267  9190  8930  8743  8672  8546  8386  \n",
       "2020-12-04                             18    11    10    10     8     5     3  \n",
       "2020-12-03                             27    12     5     3     1     1     0  \n",
       "2020-12-02                            390   369   354   339   332   325   322  \n",
       "2020-12-01                           1846  1770  1754  1737  1712  1690  1661  \n",
       "2020-11-30                           1107  1100  1089  1056  1043  1028   993  \n",
       "2020-11-29                           1320  1291  1262  1227  1217  1215  1190  \n",
       "2020-11-28                           1883  1817  1810  1771  1736  1711  1694  \n",
       "2020-11-27                           2101  2008  2004  1966  1955  1871  1879  \n",
       "2020-11-26                           2416  2358  2350  2301  2214  2178  2219  \n",
       "2020-11-25                           2336  2289  2242  2185  2160  2171  2108  "
      ]
     },
     "execution_count": 54,
     "metadata": {},
     "output_type": "execute_result"
    }
   ],
   "source": [
    "display_generation_to_upload_period_pivot_df = \\\n",
    "    generation_to_upload_period_pivot_df \\\n",
    "        .head(backend_generation_days)\n",
    "display_generation_to_upload_period_pivot_df \\\n",
    "    .head(backend_generation_days) \\\n",
    "    .rename_axis(columns=display_column_name_mapping) \\\n",
    "    .rename_axis(index=display_column_name_mapping)"
   ]
  },
  {
   "cell_type": "code",
   "execution_count": 55,
   "metadata": {
    "collapsed": false,
    "execution": {
     "iopub.execute_input": "2020-12-08T23:38:43.913663Z",
     "iopub.status.busy": "2020-12-08T23:38:43.877931Z",
     "iopub.status.idle": "2020-12-08T23:38:45.002547Z",
     "shell.execute_reply": "2020-12-08T23:38:45.002924Z"
    },
    "papermill": {
     "duration": 1.191993,
     "end_time": "2020-12-08T23:38:45.003073",
     "exception": false,
     "start_time": "2020-12-08T23:38:43.811080",
     "status": "completed"
    },
    "pycharm": {
     "name": "#%%\n"
    },
    "tags": []
   },
   "outputs": [
    {
     "data": {
      "image/png": "[encoded data removed]",
      "text/plain": [
       "<Figure size 864x676.8 with 2 Axes>"
      ]
     },
     "metadata": {},
     "output_type": "display_data"
    }
   ],
   "source": [
    "fig, generation_to_upload_period_pivot_table_ax = plt.subplots(\n",
    "    figsize=(12, 1 + 0.6 * len(display_generation_to_upload_period_pivot_df)))\n",
    "generation_to_upload_period_pivot_table_ax.set_title(\n",
    "    \"Shared TEKs Generation to Upload Period Table\")\n",
    "sns.heatmap(\n",
    "    data=display_generation_to_upload_period_pivot_df\n",
    "        .rename_axis(columns=display_column_name_mapping)\n",
    "        .rename_axis(index=display_column_name_mapping),\n",
    "    fmt=\".0f\",\n",
    "    annot=True,\n",
    "    ax=generation_to_upload_period_pivot_table_ax)\n",
    "generation_to_upload_period_pivot_table_ax.get_figure().tight_layout()"
   ]
  },
  {
   "cell_type": "markdown",
   "metadata": {
    "collapsed": false,
    "papermill": {
     "duration": 0.064022,
     "end_time": "2020-12-08T23:38:45.130799",
     "exception": false,
     "start_time": "2020-12-08T23:38:45.066777",
     "status": "completed"
    },
    "tags": []
   },
   "source": [
    "### Hourly Summary Plots "
   ]
  },
  {
   "cell_type": "code",
   "execution_count": 56,
   "metadata": {
    "collapsed": false,
    "execution": {
     "iopub.execute_input": "2020-12-08T23:38:45.272518Z",
     "iopub.status.busy": "2020-12-08T23:38:45.272027Z",
     "iopub.status.idle": "2020-12-08T23:38:45.606167Z",
     "shell.execute_reply": "2020-12-08T23:38:45.606623Z"
    },
    "papermill": {
     "duration": 0.412148,
     "end_time": "2020-12-08T23:38:45.606777",
     "exception": false,
     "start_time": "2020-12-08T23:38:45.194629",
     "status": "completed"
    },
    "pycharm": {
     "name": "#%%\n"
    },
    "tags": []
   },
   "outputs": [
    {
     "data": {
      "image/png": "[encoded data removed]",
      "text/plain": [
       "<Figure size 1080x432 with 1 Axes>"
      ]
     },
     "metadata": {},
     "output_type": "display_data"
    }
   ],
   "source": [
    "hourly_summary_ax_list = hourly_summary_df \\\n",
    "    .rename_axis(index=display_column_name_mapping) \\\n",
    "    .rename(columns=display_column_name_mapping) \\\n",
    "    .plot.bar(\n",
    "        title=f\"Last 24h Summary\",\n",
    "        rot=45, subplots=True, legend=False)\n",
    "ax_ = hourly_summary_ax_list[-1]\n",
    "ax_.get_figure().tight_layout()\n",
    "ax_.get_figure().subplots_adjust(top=0.9)\n",
    "_ = ax_.set_xticklabels(sorted(hourly_summary_df.index.strftime(\"%Y-%m-%d@%H\").tolist()))"
   ]
  },
  {
   "cell_type": "markdown",
   "metadata": {
    "collapsed": false,
    "papermill": {
     "duration": 0.064188,
     "end_time": "2020-12-08T23:38:45.735831",
     "exception": false,
     "start_time": "2020-12-08T23:38:45.671643",
     "status": "completed"
    },
    "tags": []
   },
   "source": [
    "### Publish Results"
   ]
  },
  {
   "cell_type": "code",
   "execution_count": 57,
   "metadata": {
    "collapsed": false,
    "execution": {
     "iopub.execute_input": "2020-12-08T23:38:45.876900Z",
     "iopub.status.busy": "2020-12-08T23:38:45.875797Z",
     "iopub.status.idle": "2020-12-08T23:38:45.877551Z",
     "shell.execute_reply": "2020-12-08T23:38:45.878002Z"
    },
    "papermill": {
     "duration": 0.078228,
     "end_time": "2020-12-08T23:38:45.878165",
     "exception": false,
     "start_time": "2020-12-08T23:38:45.799937",
     "status": "completed"
    },
    "pycharm": {
     "name": "#%%\n"
    },
    "tags": []
   },
   "outputs": [],
   "source": [
    "def get_temporary_image_path() -> str:\n",
    "    return os.path.join(tempfile.gettempdir(), str(uuid.uuid4()) + \".png\")\n",
    "\n",
    "def save_temporary_plot_image(ax):\n",
    "    if isinstance(ax, np.ndarray):\n",
    "        ax = ax[0]\n",
    "    media_path = get_temporary_image_path()\n",
    "    ax.get_figure().savefig(media_path)\n",
    "    return media_path\n",
    "\n",
    "def save_temporary_dataframe_image(df):\n",
    "    import dataframe_image as dfi\n",
    "    media_path = get_temporary_image_path()\n",
    "    dfi.export(df, media_path)\n",
    "    return media_path"
   ]
  },
  {
   "cell_type": "code",
   "execution_count": 58,
   "metadata": {
    "collapsed": false,
    "execution": {
     "iopub.execute_input": "2020-12-08T23:38:46.071111Z",
     "iopub.status.busy": "2020-12-08T23:38:46.058918Z",
     "iopub.status.idle": "2020-12-08T23:38:46.098964Z",
     "shell.execute_reply": "2020-12-08T23:38:46.098566Z"
    },
    "papermill": {
     "duration": 0.156848,
     "end_time": "2020-12-08T23:38:46.099084",
     "exception": false,
     "start_time": "2020-12-08T23:38:45.942236",
     "status": "completed"
    },
    "pycharm": {
     "name": "#%%\n"
    },
    "tags": []
   },
   "outputs": [
    {
     "name": "stderr",
     "output_type": "stream",
     "text": [
      "<ipython-input-58-bd16b454de40>:49: FutureWarning: `item` has been deprecated and will be removed in a future version\n",
      "  extraction_date_result_summary_df.covid_cases.item()\n",
      "<ipython-input-58-bd16b454de40>:51: FutureWarning: `item` has been deprecated and will be removed in a future version\n",
      "  extraction_date_result_summary_df.shared_teks_by_generation_date.item()\n",
      "<ipython-input-58-bd16b454de40>:53: FutureWarning: `item` has been deprecated and will be removed in a future version\n",
      "  extraction_date_result_summary_df.shared_teks_by_upload_date.item()\n",
      "<ipython-input-58-bd16b454de40>:55: FutureWarning: `item` has been deprecated and will be removed in a future version\n",
      "  extraction_date_result_summary_df.shared_diagnoses.item()\n",
      "<ipython-input-58-bd16b454de40>:57: FutureWarning: `item` has been deprecated and will be removed in a future version\n",
      "  extraction_date_result_summary_df.teks_per_shared_diagnosis.item()\n",
      "<ipython-input-58-bd16b454de40>:59: FutureWarning: `item` has been deprecated and will be removed in a future version\n",
      "  extraction_date_result_summary_df.shared_diagnoses_per_covid_case.item()\n"
     ]
    }
   ],
   "source": [
    "github_repository = os.environ.get(\"GITHUB_REPOSITORY\")\n",
    "if github_repository is None:\n",
    "    github_repository = \"pvieito/Radar-STATS\"\n",
    "\n",
    "github_project_base_url = \"https://github.com/\" + github_repository\n",
    "\n",
    "display_formatters = {\n",
    "    display_column_name_mapping[\"teks_per_shared_diagnosis\"]: lambda x: f\"{x:.2f}\",\n",
    "    display_column_name_mapping[\"shared_diagnoses_per_covid_case\"]: lambda x: f\"{x:.2%}\",\n",
    "}\n",
    "daily_summary_table_html = result_summary_with_display_names_df \\\n",
    "    .head(daily_plot_days) \\\n",
    "    .rename_axis(index=display_column_name_mapping) \\\n",
    "    .rename(columns=display_column_name_mapping) \\\n",
    "    .to_html(formatters=display_formatters)\n",
    "multi_backend_summary_table_html = multi_backend_summary_df \\\n",
    "    .head(daily_plot_days) \\\n",
    "    .rename_axis(columns=display_column_name_mapping) \\\n",
    "    .rename(columns=display_column_name_mapping) \\\n",
    "    .rename_axis(index=display_column_name_mapping) \\\n",
    "    .to_html(formatters=display_formatters)\n",
    "\n",
    "def format_multi_backend_cross_sharing_fraction(x):\n",
    "    if pd.isna(x):\n",
    "        return \"-\"\n",
    "    elif round(x * 100, 1) == 0:\n",
    "        return \"\"\n",
    "    else:\n",
    "        return f\"{x:.1%}\"\n",
    "\n",
    "multi_backend_cross_sharing_summary_table_html = multi_backend_cross_sharing_summary_df \\\n",
    "    .rename_axis(columns=display_column_name_mapping) \\\n",
    "    .rename(columns=display_column_name_mapping) \\\n",
    "    .rename_axis(index=display_column_name_mapping) \\\n",
    "    .to_html(\n",
    "        classes=\"table-center\",\n",
    "        formatters=display_formatters,\n",
    "        float_format=format_multi_backend_cross_sharing_fraction)\n",
    "multi_backend_cross_sharing_summary_table_html = \\\n",
    "    multi_backend_cross_sharing_summary_table_html \\\n",
    "        .replace(\"<tr>\",\"<tr style=\\\"text-align: center;\\\">\")\n",
    "\n",
    "extraction_date_result_summary_df = \\\n",
    "    result_summary_df[result_summary_df.index.get_level_values(\"sample_date\") == extraction_date]\n",
    "extraction_date_result_hourly_summary_df = \\\n",
    "    hourly_summary_df[hourly_summary_df.extraction_date_with_hour == extraction_date_with_hour]\n",
    "\n",
    "covid_cases = \\\n",
    "    extraction_date_result_summary_df.covid_cases.item()\n",
    "shared_teks_by_generation_date = \\\n",
    "    extraction_date_result_summary_df.shared_teks_by_generation_date.item()\n",
    "shared_teks_by_upload_date = \\\n",
    "    extraction_date_result_summary_df.shared_teks_by_upload_date.item()\n",
    "shared_diagnoses = \\\n",
    "    extraction_date_result_summary_df.shared_diagnoses.item()\n",
    "teks_per_shared_diagnosis = \\\n",
    "    extraction_date_result_summary_df.teks_per_shared_diagnosis.item()\n",
    "shared_diagnoses_per_covid_case = \\\n",
    "    extraction_date_result_summary_df.shared_diagnoses_per_covid_case.item()\n",
    "\n",
    "shared_teks_by_upload_date_last_hour = \\\n",
    "    extraction_date_result_hourly_summary_df.shared_teks_by_upload_date.sum().astype(int)\n",
    "\n",
    "display_source_regions = \", \".join(report_source_regions)\n",
    "if len(report_source_regions) == 1:\n",
    "    display_brief_source_regions = report_source_regions[0]\n",
    "else:\n",
    "    display_brief_source_regions = f\"{len(report_source_regions)} 🇪🇺\""
   ]
  },
  {
   "cell_type": "code",
   "execution_count": 59,
   "metadata": {
    "execution": {
     "iopub.execute_input": "2020-12-08T23:38:46.240788Z",
     "iopub.status.busy": "2020-12-08T23:38:46.239073Z",
     "iopub.status.idle": "2020-12-08T23:39:09.551539Z",
     "shell.execute_reply": "2020-12-08T23:39:09.551971Z"
    },
    "papermill": {
     "duration": 23.387379,
     "end_time": "2020-12-08T23:39:09.552125",
     "exception": false,
     "start_time": "2020-12-08T23:38:46.164746",
     "status": "completed"
    },
    "pycharm": {
     "name": "#%%\n"
    },
    "tags": []
   },
   "outputs": [],
   "source": [
    "summary_plots_image_path = save_temporary_plot_image(\n",
    "    ax=summary_ax_list)\n",
    "summary_table_image_path = save_temporary_dataframe_image(\n",
    "    df=result_summary_with_display_names_df)\n",
    "hourly_summary_plots_image_path = save_temporary_plot_image(\n",
    "    ax=hourly_summary_ax_list)\n",
    "multi_backend_summary_table_image_path = save_temporary_dataframe_image(\n",
    "    df=multi_backend_summary_df)\n",
    "generation_to_upload_period_pivot_table_image_path = save_temporary_plot_image(\n",
    "    ax=generation_to_upload_period_pivot_table_ax)"
   ]
  },
  {
   "cell_type": "markdown",
   "metadata": {
    "execution": {
     "iopub.execute_input": "2020-09-02T08:20:16.981187Z",
     "iopub.status.busy": "2020-09-02T08:20:16.980584Z",
     "iopub.status.idle": "2020-09-02T08:20:20.068070Z",
     "shell.execute_reply": "2020-09-02T08:20:20.068598Z"
    },
    "papermill": {
     "duration": 0.064465,
     "end_time": "2020-12-08T23:39:09.682240",
     "exception": false,
     "start_time": "2020-12-08T23:39:09.617775",
     "status": "completed"
    },
    "pycharm": {
     "name": "#%% md\n"
    },
    "tags": []
   },
   "source": [
    "### Save Results"
   ]
  },
  {
   "cell_type": "code",
   "execution_count": 60,
   "metadata": {
    "collapsed": false,
    "execution": {
     "iopub.execute_input": "2020-12-08T23:39:09.818137Z",
     "iopub.status.busy": "2020-12-08T23:39:09.817568Z",
     "iopub.status.idle": "2020-12-08T23:39:09.864345Z",
     "shell.execute_reply": "2020-12-08T23:39:09.863882Z"
    },
    "papermill": {
     "duration": 0.117972,
     "end_time": "2020-12-08T23:39:09.864467",
     "exception": false,
     "start_time": "2020-12-08T23:39:09.746495",
     "status": "completed"
    },
    "pycharm": {
     "name": "#%%\n"
    },
    "tags": []
   },
   "outputs": [],
   "source": [
    "report_resources_path_prefix = \"Data/Resources/Current/RadarCOVID-Report-\"\n",
    "result_summary_df.to_csv(\n",
    "    report_resources_path_prefix + \"Summary-Table.csv\")\n",
    "result_summary_df.to_html(\n",
    "    report_resources_path_prefix + \"Summary-Table.html\")\n",
    "hourly_summary_df.to_csv(\n",
    "    report_resources_path_prefix + \"Hourly-Summary-Table.csv\")\n",
    "multi_backend_summary_df.to_csv(\n",
    "    report_resources_path_prefix + \"Multi-Backend-Summary-Table.csv\")\n",
    "multi_backend_cross_sharing_summary_df.to_csv(\n",
    "    report_resources_path_prefix + \"Multi-Backend-Cross-Sharing-Summary-Table.csv\")\n",
    "generation_to_upload_period_pivot_df.to_csv(\n",
    "    report_resources_path_prefix + \"Generation-Upload-Period-Table.csv\")\n",
    "_ = shutil.copyfile(\n",
    "    summary_plots_image_path,\n",
    "    report_resources_path_prefix + \"Summary-Plots.png\")\n",
    "_ = shutil.copyfile(\n",
    "    summary_table_image_path,\n",
    "    report_resources_path_prefix + \"Summary-Table.png\")\n",
    "_ = shutil.copyfile(\n",
    "    hourly_summary_plots_image_path,\n",
    "    report_resources_path_prefix + \"Hourly-Summary-Plots.png\")\n",
    "_ = shutil.copyfile(\n",
    "    multi_backend_summary_table_image_path,\n",
    "    report_resources_path_prefix + \"Multi-Backend-Summary-Table.png\")\n",
    "_ = shutil.copyfile(\n",
    "    generation_to_upload_period_pivot_table_image_path,\n",
    "    report_resources_path_prefix + \"Generation-Upload-Period-Table.png\")"
   ]
  },
  {
   "cell_type": "markdown",
   "metadata": {
    "collapsed": false,
    "papermill": {
     "duration": 0.064696,
     "end_time": "2020-12-08T23:39:09.995048",
     "exception": false,
     "start_time": "2020-12-08T23:39:09.930352",
     "status": "completed"
    },
    "pycharm": {
     "name": "#%% md\n"
    },
    "tags": []
   },
   "source": [
    "### Publish Results as JSON"
   ]
  },
  {
   "cell_type": "code",
   "execution_count": 61,
   "metadata": {
    "execution": {
     "iopub.execute_input": "2020-12-08T23:39:10.136579Z",
     "iopub.status.busy": "2020-12-08T23:39:10.136126Z",
     "iopub.status.idle": "2020-12-08T23:39:10.164241Z",
     "shell.execute_reply": "2020-12-08T23:39:10.163787Z"
    },
    "papermill": {
     "duration": 0.1039,
     "end_time": "2020-12-08T23:39:10.164375",
     "exception": false,
     "start_time": "2020-12-08T23:39:10.060475",
     "status": "completed"
    },
    "pycharm": {
     "name": "#%%\n"
    },
    "tags": []
   },
   "outputs": [],
   "source": [
    "def generate_summary_api_results(df: pd.DataFrame) -> list:\n",
    "    api_df = df.reset_index().copy()\n",
    "    api_df[\"sample_date_string\"] = \\\n",
    "        api_df[\"sample_date\"].dt.strftime(\"%Y-%m-%d\")\n",
    "    api_df[\"source_regions\"] = \\\n",
    "        api_df[\"source_regions\"].apply(lambda x: x.split(\",\"))\n",
    "    return api_df.to_dict(orient=\"records\")\n",
    "\n",
    "summary_api_results = \\\n",
    "    generate_summary_api_results(df=result_summary_df)\n",
    "today_summary_api_results = \\\n",
    "    generate_summary_api_results(df=extraction_date_result_summary_df)[0]\n",
    "\n",
    "summary_results = dict(\n",
    "    backend_identifier=report_backend_identifier,\n",
    "    source_regions=report_source_regions,\n",
    "    extraction_datetime=extraction_datetime,\n",
    "    extraction_date=extraction_date,\n",
    "    extraction_date_with_hour=extraction_date_with_hour,\n",
    "    last_hour=dict(\n",
    "        shared_teks_by_upload_date=shared_teks_by_upload_date_last_hour,\n",
    "        shared_diagnoses=0,\n",
    "    ),\n",
    "    today=today_summary_api_results,\n",
    "    last_7_days=last_7_days_summary,\n",
    "    daily_results=summary_api_results)\n",
    "\n",
    "summary_results = \\\n",
    "    json.loads(pd.Series([summary_results]).to_json(orient=\"records\"))[0]\n",
    "\n",
    "with open(report_resources_path_prefix + \"Summary-Results.json\", \"w\") as f:\n",
    "    json.dump(summary_results, f, indent=4)"
   ]
  },
  {
   "cell_type": "markdown",
   "metadata": {
    "execution": {
     "iopub.execute_input": "2020-09-02T08:20:20.895901Z",
     "iopub.status.busy": "2020-09-02T08:20:20.895301Z",
     "iopub.status.idle": "2020-09-02T08:20:20.942286Z",
     "shell.execute_reply": "2020-09-02T08:20:20.942834Z"
    },
    "papermill": {
     "duration": 0.057824,
     "end_time": "2020-12-08T23:39:10.281144",
     "exception": false,
     "start_time": "2020-12-08T23:39:10.223320",
     "status": "completed"
    },
    "pycharm": {
     "name": "#%% md\n"
    },
    "tags": []
   },
   "source": [
    "### Publish on README"
   ]
  },
  {
   "cell_type": "code",
   "execution_count": 62,
   "metadata": {
    "collapsed": false,
    "execution": {
     "iopub.execute_input": "2020-12-08T23:39:10.401582Z",
     "iopub.status.busy": "2020-12-08T23:39:10.401057Z",
     "iopub.status.idle": "2020-12-08T23:39:10.404947Z",
     "shell.execute_reply": "2020-12-08T23:39:10.404528Z"
    },
    "papermill": {
     "duration": 0.066294,
     "end_time": "2020-12-08T23:39:10.405059",
     "exception": false,
     "start_time": "2020-12-08T23:39:10.338765",
     "status": "completed"
    },
    "pycharm": {
     "name": "#%%\n"
    },
    "tags": []
   },
   "outputs": [],
   "source": [
    "with open(\"Data/Templates/README.md\", \"r\") as f:\n",
    "    readme_contents = f.read()\n",
    "\n",
    "readme_contents = readme_contents.format(\n",
    "    extraction_date_with_hour=extraction_date_with_hour,\n",
    "    github_project_base_url=github_project_base_url,\n",
    "    daily_summary_table_html=daily_summary_table_html,\n",
    "    multi_backend_summary_table_html=multi_backend_summary_table_html,\n",
    "    multi_backend_cross_sharing_summary_table_html=multi_backend_cross_sharing_summary_table_html,\n",
    "    display_source_regions=display_source_regions)\n",
    "\n",
    "with open(\"README.md\", \"w\") as f:\n",
    "    f.write(readme_contents)"
   ]
  },
  {
   "cell_type": "markdown",
   "metadata": {
    "collapsed": false,
    "papermill": {
     "duration": 0.064146,
     "end_time": "2020-12-08T23:39:10.534075",
     "exception": false,
     "start_time": "2020-12-08T23:39:10.469929",
     "status": "completed"
    },
    "pycharm": {
     "name": "#%% md\n"
    },
    "tags": []
   },
   "source": [
    "### Publish on Twitter"
   ]
  },
  {
   "cell_type": "code",
   "execution_count": 63,
   "metadata": {
    "collapsed": false,
    "execution": {
     "iopub.execute_input": "2020-12-08T23:39:10.671577Z",
     "iopub.status.busy": "2020-12-08T23:39:10.671028Z",
     "iopub.status.idle": "2020-12-08T23:39:15.987756Z",
     "shell.execute_reply": "2020-12-08T23:39:15.988223Z"
    },
    "papermill": {
     "duration": 5.389237,
     "end_time": "2020-12-08T23:39:15.988389",
     "exception": false,
     "start_time": "2020-12-08T23:39:10.599152",
     "status": "completed"
    },
    "pycharm": {
     "name": "#%%\n"
    },
    "tags": []
   },
   "outputs": [],
   "source": [
    "enable_share_to_twitter = os.environ.get(\"RADARCOVID_REPORT__ENABLE_PUBLISH_ON_TWITTER\")\n",
    "github_event_name = os.environ.get(\"GITHUB_EVENT_NAME\")\n",
    "\n",
    "if enable_share_to_twitter and github_event_name == \"schedule\" and \\\n",
    "        (shared_teks_by_upload_date_last_hour or not are_today_results_partial):\n",
    "    import tweepy\n",
    "\n",
    "    twitter_api_auth_keys = os.environ[\"RADARCOVID_REPORT__TWITTER_API_AUTH_KEYS\"]\n",
    "    twitter_api_auth_keys = twitter_api_auth_keys.split(\":\")\n",
    "    auth = tweepy.OAuthHandler(twitter_api_auth_keys[0], twitter_api_auth_keys[1])\n",
    "    auth.set_access_token(twitter_api_auth_keys[2], twitter_api_auth_keys[3])\n",
    "\n",
    "    api = tweepy.API(auth)\n",
    "\n",
    "    summary_plots_media = api.media_upload(summary_plots_image_path)\n",
    "    summary_table_media = api.media_upload(summary_table_image_path)\n",
    "    generation_to_upload_period_pivot_table_image_media = api.media_upload(generation_to_upload_period_pivot_table_image_path)\n",
    "    media_ids = [\n",
    "        summary_plots_media.media_id,\n",
    "        summary_table_media.media_id,\n",
    "        generation_to_upload_period_pivot_table_image_media.media_id,\n",
    "    ]\n",
    "\n",
    "    if are_today_results_partial:\n",
    "        today_addendum = \" (Partial)\"\n",
    "    else:\n",
    "        today_addendum = \"\"\n",
    "\n",
    "    status = textwrap.dedent(f\"\"\"\n",
    "        #RadarCOVID – {extraction_date_with_hour}\n",
    "\n",
    "        Source Countries: {display_brief_source_regions}\n",
    "\n",
    "        Today{today_addendum}:\n",
    "        - Uploaded TEKs: {shared_teks_by_upload_date:.0f} ({shared_teks_by_upload_date_last_hour:+d} last hour)\n",
    "        - Shared Diagnoses: ≤{shared_diagnoses:.0f}\n",
    "        - Usage Ratio: ≤{shared_diagnoses_per_covid_case:.2%}\n",
    "\n",
    "        Last 7 Days:\n",
    "        - Shared Diagnoses: ≤{last_7_days_summary[\"shared_diagnoses\"]:.0f}\n",
    "        - Usage Ratio: ≤{last_7_days_summary[\"shared_diagnoses_per_covid_case\"]:.2%}\n",
    "\n",
    "        Info: {github_project_base_url}#documentation\n",
    "        \"\"\")\n",
    "    status = status.encode(encoding=\"utf-8\")\n",
    "    api.update_status(status=status, media_ids=media_ids)"
   ]
  }
 ],
 "metadata": {
  "kernelspec": {
   "display_name": "Python 3",
   "language": "python",
   "name": "python3"
  },
  "language_info": {
   "codemirror_mode": {
    "name": "ipython",
    "version": 3
   },
   "file_extension": ".py",
   "mimetype": "text/x-python",
   "name": "python",
   "nbconvert_exporter": "python",
   "pygments_lexer": "ipython3",
   "version": "3.8.6"
  },
  "papermill": {
   "duration": 506.973288,
   "end_time": "2020-12-08T23:39:21.273540",
   "environment_variables": {},
   "exception": null,
   "input_path": "Notebooks/RadarCOVID-Report/Source/RadarCOVID-Report.ipynb",
   "output_path": "RadarCOVID-Report.ipynb",
   "parameters": {},
   "start_time": "2020-12-08T23:30:54.300252",
   "version": "2.1.3"
  }
 },
 "nbformat": 4,
 "nbformat_minor": 1
}