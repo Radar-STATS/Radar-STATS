{
 "cells": [
  {
   "cell_type": "markdown",
   "metadata": {
    "papermill": {
     "duration": 0.036675,
     "end_time": "2020-12-13T23:25:09.574532",
     "exception": false,
     "start_time": "2020-12-13T23:25:09.537857",
     "status": "completed"
    },
    "pycharm": {
     "name": "#%% md\n"
    },
    "tags": []
   },
   "source": [
    "# RadarCOVID-Report"
   ]
  },
  {
   "cell_type": "markdown",
   "metadata": {
    "collapsed": true,
    "papermill": {
     "duration": 0.036936,
     "end_time": "2020-12-13T23:25:09.647611",
     "exception": false,
     "start_time": "2020-12-13T23:25:09.610675",
     "status": "completed"
    },
    "pycharm": {
     "name": "#%% md\n"
    },
    "tags": []
   },
   "source": [
    "## Data Extraction"
   ]
  },
  {
   "cell_type": "code",
   "execution_count": 1,
   "metadata": {
    "execution": {
     "iopub.execute_input": "2020-12-13T23:25:09.728286Z",
     "iopub.status.busy": "2020-12-13T23:25:09.727725Z",
     "iopub.status.idle": "2020-12-13T23:25:11.119499Z",
     "shell.execute_reply": "2020-12-13T23:25:11.119942Z"
    },
    "papermill": {
     "duration": 1.436401,
     "end_time": "2020-12-13T23:25:11.120241",
     "exception": false,
     "start_time": "2020-12-13T23:25:09.683840",
     "status": "completed"
    },
    "pycharm": {
     "name": "#%%\n"
    },
    "tags": []
   },
   "outputs": [],
   "source": [
    "import datetime\n",
    "import json\n",
    "import logging\n",
    "import os\n",
    "import shutil\n",
    "import tempfile\n",
    "import textwrap\n",
    "import uuid\n",
    "\n",
    "import matplotlib.pyplot as plt\n",
    "import matplotlib.ticker\n",
    "import numpy as np\n",
    "import pandas as pd\n",
    "import retry\n",
    "import seaborn as sns\n",
    "\n",
    "%matplotlib inline"
   ]
  },
  {
   "cell_type": "code",
   "execution_count": 2,
   "metadata": {
    "collapsed": false,
    "execution": {
     "iopub.execute_input": "2020-12-13T23:25:11.211331Z",
     "iopub.status.busy": "2020-12-13T23:25:11.210132Z",
     "iopub.status.idle": "2020-12-13T23:25:11.211986Z",
     "shell.execute_reply": "2020-12-13T23:25:11.212470Z"
    },
    "papermill": {
     "duration": 0.051474,
     "end_time": "2020-12-13T23:25:11.212635",
     "exception": false,
     "start_time": "2020-12-13T23:25:11.161161",
     "status": "completed"
    },
    "pycharm": {
     "name": "#%%\n"
    },
    "tags": []
   },
   "outputs": [],
   "source": [
    "current_working_directory = os.environ.get(\"PWD\")\n",
    "if current_working_directory:\n",
    "    os.chdir(current_working_directory)\n",
    "\n",
    "sns.set()\n",
    "matplotlib.rcParams[\"figure.figsize\"] = (15, 6)\n",
    "\n",
    "extraction_datetime = datetime.datetime.utcnow()\n",
    "extraction_date = extraction_datetime.strftime(\"%Y-%m-%d\")\n",
    "extraction_previous_datetime = extraction_datetime - datetime.timedelta(days=1)\n",
    "extraction_previous_date = extraction_previous_datetime.strftime(\"%Y-%m-%d\")\n",
    "extraction_date_with_hour = datetime.datetime.utcnow().strftime(\"%Y-%m-%d@%H\")\n",
    "current_hour = datetime.datetime.utcnow().hour\n",
    "are_today_results_partial = current_hour != 23"
   ]
  },
  {
   "cell_type": "markdown",
   "metadata": {
    "collapsed": false,
    "papermill": {
     "duration": 0.037884,
     "end_time": "2020-12-13T23:25:11.286808",
     "exception": false,
     "start_time": "2020-12-13T23:25:11.248924",
     "status": "completed"
    },
    "tags": []
   },
   "source": [
    "### Constants"
   ]
  },
  {
   "cell_type": "code",
   "execution_count": 3,
   "metadata": {
    "execution": {
     "iopub.execute_input": "2020-12-13T23:25:11.369738Z",
     "iopub.status.busy": "2020-12-13T23:25:11.369093Z",
     "iopub.status.idle": "2020-12-13T23:25:11.515017Z",
     "shell.execute_reply": "2020-12-13T23:25:11.513815Z"
    },
    "papermill": {
     "duration": 0.190733,
     "end_time": "2020-12-13T23:25:11.515164",
     "exception": false,
     "start_time": "2020-12-13T23:25:11.324431",
     "status": "completed"
    },
    "pycharm": {
     "name": "#%%\n"
    },
    "tags": []
   },
   "outputs": [],
   "source": [
    "from Modules.ExposureNotification import exposure_notification_io\n",
    "\n",
    "spain_region_country_code = \"ES\"\n",
    "germany_region_country_code = \"DE\"\n",
    "\n",
    "default_backend_identifier = spain_region_country_code\n",
    "\n",
    "backend_generation_days = 7 * 2\n",
    "daily_summary_days = 7 * 4 * 3\n",
    "daily_plot_days = 7 * 4\n",
    "tek_dumps_load_limit = daily_summary_days + 1"
   ]
  },
  {
   "cell_type": "markdown",
   "metadata": {
    "collapsed": false,
    "papermill": {
     "duration": 0.037041,
     "end_time": "2020-12-13T23:25:11.593582",
     "exception": false,
     "start_time": "2020-12-13T23:25:11.556541",
     "status": "completed"
    },
    "tags": []
   },
   "source": [
    "### Parameters"
   ]
  },
  {
   "cell_type": "code",
   "execution_count": 4,
   "metadata": {
    "collapsed": false,
    "execution": {
     "iopub.execute_input": "2020-12-13T23:25:11.676282Z",
     "iopub.status.busy": "2020-12-13T23:25:11.675553Z",
     "iopub.status.idle": "2020-12-13T23:25:11.678828Z",
     "shell.execute_reply": "2020-12-13T23:25:11.679284Z"
    },
    "papermill": {
     "duration": 0.049045,
     "end_time": "2020-12-13T23:25:11.679414",
     "exception": false,
     "start_time": "2020-12-13T23:25:11.630369",
     "status": "completed"
    },
    "pycharm": {
     "name": "#%%\n"
    },
    "tags": []
   },
   "outputs": [
    {
     "data": {
      "text/plain": [
       "'ES'"
      ]
     },
     "execution_count": 4,
     "metadata": {},
     "output_type": "execute_result"
    }
   ],
   "source": [
    "environment_backend_identifier = os.environ.get(\"RADARCOVID_REPORT__BACKEND_IDENTIFIER\")\n",
    "if environment_backend_identifier:\n",
    "    report_backend_identifier = environment_backend_identifier\n",
    "else:\n",
    "    report_backend_identifier = default_backend_identifier\n",
    "report_backend_identifier"
   ]
  },
  {
   "cell_type": "code",
   "execution_count": 5,
   "metadata": {
    "collapsed": false,
    "execution": {
     "iopub.execute_input": "2020-12-13T23:25:11.762326Z",
     "iopub.status.busy": "2020-12-13T23:25:11.761651Z",
     "iopub.status.idle": "2020-12-13T23:25:11.763566Z",
     "shell.execute_reply": "2020-12-13T23:25:11.764157Z"
    },
    "papermill": {
     "duration": 0.045873,
     "end_time": "2020-12-13T23:25:11.764370",
     "exception": false,
     "start_time": "2020-12-13T23:25:11.718497",
     "status": "completed"
    },
    "pycharm": {
     "name": "#%%\n"
    },
    "tags": []
   },
   "outputs": [],
   "source": [
    "environment_enable_multi_backend_download = \\\n",
    "    os.environ.get(\"RADARCOVID_REPORT__ENABLE_MULTI_BACKEND_DOWNLOAD\")\n",
    "if environment_enable_multi_backend_download:\n",
    "    report_backend_identifiers = None\n",
    "else:\n",
    "    report_backend_identifiers = [report_backend_identifier]\n",
    "\n",
    "report_backend_identifiers"
   ]
  },
  {
   "cell_type": "code",
   "execution_count": 6,
   "metadata": {
    "collapsed": false,
    "execution": {
     "iopub.execute_input": "2020-12-13T23:25:11.848379Z",
     "iopub.status.busy": "2020-12-13T23:25:11.847855Z",
     "iopub.status.idle": "2020-12-13T23:25:11.850604Z",
     "shell.execute_reply": "2020-12-13T23:25:11.850152Z"
    },
    "papermill": {
     "duration": 0.045557,
     "end_time": "2020-12-13T23:25:11.850713",
     "exception": false,
     "start_time": "2020-12-13T23:25:11.805156",
     "status": "completed"
    },
    "pycharm": {
     "name": "#%%\n"
    },
    "tags": []
   },
   "outputs": [
    {
     "data": {
      "text/plain": [
       "['2020-10-30', '2020-12-02', '2020-12-05']"
      ]
     },
     "execution_count": 6,
     "metadata": {},
     "output_type": "execute_result"
    }
   ],
   "source": [
    "environment_invalid_shared_diagnoses_dates = \\\n",
    "    os.environ.get(\"RADARCOVID_REPORT__INVALID_SHARED_DIAGNOSES_DATES\")\n",
    "if environment_invalid_shared_diagnoses_dates:\n",
    "    invalid_shared_diagnoses_dates = environment_invalid_shared_diagnoses_dates.split(\",\")\n",
    "else:\n",
    "    invalid_shared_diagnoses_dates = []\n",
    "\n",
    "invalid_shared_diagnoses_dates"
   ]
  },
  {
   "cell_type": "markdown",
   "metadata": {
    "collapsed": false,
    "papermill": {
     "duration": 0.039976,
     "end_time": "2020-12-13T23:25:11.928672",
     "exception": false,
     "start_time": "2020-12-13T23:25:11.888696",
     "status": "completed"
    },
    "pycharm": {
     "name": "#%% md\n"
    },
    "tags": []
   },
   "source": [
    "### COVID-19 Cases"
   ]
  },
  {
   "cell_type": "code",
   "execution_count": 7,
   "metadata": {
    "collapsed": false,
    "execution": {
     "iopub.execute_input": "2020-12-13T23:25:12.020317Z",
     "iopub.status.busy": "2020-12-13T23:25:12.019666Z",
     "iopub.status.idle": "2020-12-13T23:25:12.021563Z",
     "shell.execute_reply": "2020-12-13T23:25:12.022114Z"
    },
    "papermill": {
     "duration": 0.053197,
     "end_time": "2020-12-13T23:25:12.022261",
     "exception": false,
     "start_time": "2020-12-13T23:25:11.969064",
     "status": "completed"
    },
    "pycharm": {
     "name": "#%%\n"
    },
    "tags": []
   },
   "outputs": [],
   "source": [
    "report_backend_client = \\\n",
    "    exposure_notification_io.get_backend_client_with_identifier(\n",
    "        backend_identifier=report_backend_identifier)"
   ]
  },
  {
   "cell_type": "code",
   "execution_count": 8,
   "metadata": {
    "collapsed": false,
    "execution": {
     "iopub.execute_input": "2020-12-13T23:25:12.116255Z",
     "iopub.status.busy": "2020-12-13T23:25:12.115713Z",
     "iopub.status.idle": "2020-12-13T23:25:22.028093Z",
     "shell.execute_reply": "2020-12-13T23:25:22.027596Z"
    },
    "papermill": {
     "duration": 9.962236,
     "end_time": "2020-12-13T23:25:22.028241",
     "exception": false,
     "start_time": "2020-12-13T23:25:12.066005",
     "status": "completed"
    },
    "pycharm": {
     "name": "#%%\n"
    },
    "tags": []
   },
   "outputs": [],
   "source": [
    "@retry.retry(tries=10, delay=10, backoff=1.1, jitter=(0, 10))\n",
    "def download_cases_dataframe_from_ecdc():\n",
    "    return pd.read_csv(\n",
    "        \"https://opendata.ecdc.europa.eu/covid19/casedistribution/csv/data.csv\")\n",
    "\n",
    "confirmed_df_ = download_cases_dataframe_from_ecdc()"
   ]
  },
  {
   "cell_type": "code",
   "execution_count": 9,
   "metadata": {
    "collapsed": false,
    "execution": {
     "iopub.execute_input": "2020-12-13T23:25:22.119690Z",
     "iopub.status.busy": "2020-12-13T23:25:22.119065Z",
     "iopub.status.idle": "2020-12-13T23:25:22.525199Z",
     "shell.execute_reply": "2020-12-13T23:25:22.525922Z"
    },
    "papermill": {
     "duration": 0.455807,
     "end_time": "2020-12-13T23:25:22.526144",
     "exception": false,
     "start_time": "2020-12-13T23:25:22.070337",
     "status": "completed"
    },
    "pycharm": {
     "name": "#%%\n"
    },
    "tags": []
   },
   "outputs": [
    {
     "data": {
      "text/html": [
       "<div>\n",
       "<style scoped>\n",
       "    .dataframe tbody tr th:only-of-type {\n",
       "        vertical-align: middle;\n",
       "    }\n",
       "\n",
       "    .dataframe tbody tr th {\n",
       "        vertical-align: top;\n",
       "    }\n",
       "\n",
       "    .dataframe thead th {\n",
       "        text-align: right;\n",
       "    }\n",
       "</style>\n",
       "<table border=\"1\" class=\"dataframe\">\n",
       "  <thead>\n",
       "    <tr style=\"text-align: right;\">\n",
       "      <th></th>\n",
       "      <th>sample_date</th>\n",
       "      <th>new_cases</th>\n",
       "      <th>country_code</th>\n",
       "    </tr>\n",
       "  </thead>\n",
       "  <tbody>\n",
       "    <tr>\n",
       "      <th>6083</th>\n",
       "      <td>2020-12-13</td>\n",
       "      <td>0</td>\n",
       "      <td>BJ</td>\n",
       "    </tr>\n",
       "    <tr>\n",
       "      <th>11773</th>\n",
       "      <td>2020-12-13</td>\n",
       "      <td>1807</td>\n",
       "      <td>CL</td>\n",
       "    </tr>\n",
       "    <tr>\n",
       "      <th>50503</th>\n",
       "      <td>2020-12-13</td>\n",
       "      <td>7</td>\n",
       "      <td>SX</td>\n",
       "    </tr>\n",
       "    <tr>\n",
       "      <th>29626</th>\n",
       "      <td>2020-12-13</td>\n",
       "      <td>2988</td>\n",
       "      <td>JP</td>\n",
       "    </tr>\n",
       "    <tr>\n",
       "      <th>0</th>\n",
       "      <td>2020-12-13</td>\n",
       "      <td>298</td>\n",
       "      <td>AF</td>\n",
       "    </tr>\n",
       "  </tbody>\n",
       "</table>\n",
       "</div>"
      ],
      "text/plain": [
       "      sample_date  new_cases country_code\n",
       "6083   2020-12-13          0           BJ\n",
       "11773  2020-12-13       1807           CL\n",
       "50503  2020-12-13          7           SX\n",
       "29626  2020-12-13       2988           JP\n",
       "0      2020-12-13        298           AF"
      ]
     },
     "execution_count": 9,
     "metadata": {},
     "output_type": "execute_result"
    }
   ],
   "source": [
    "confirmed_df = confirmed_df_.copy()\n",
    "confirmed_df = confirmed_df[[\"dateRep\", \"cases\", \"geoId\"]]\n",
    "confirmed_df.rename(\n",
    "    columns={\n",
    "        \"dateRep\":\"sample_date\",\n",
    "        \"cases\": \"new_cases\",\n",
    "        \"geoId\": \"country_code\",\n",
    "    },\n",
    "    inplace=True)\n",
    "confirmed_df[\"sample_date\"] = pd.to_datetime(confirmed_df.sample_date, dayfirst=True)\n",
    "confirmed_df[\"sample_date\"] = confirmed_df.sample_date.dt.strftime(\"%Y-%m-%d\")\n",
    "confirmed_df.sort_values(\"sample_date\", inplace=True)\n",
    "confirmed_df.tail()"
   ]
  },
  {
   "cell_type": "code",
   "execution_count": 10,
   "metadata": {
    "collapsed": false,
    "execution": {
     "iopub.execute_input": "2020-12-13T23:25:22.604327Z",
     "iopub.status.busy": "2020-12-13T23:25:22.603736Z",
     "iopub.status.idle": "2020-12-13T23:25:22.605577Z",
     "shell.execute_reply": "2020-12-13T23:25:22.606036Z"
    },
    "papermill": {
     "duration": 0.042612,
     "end_time": "2020-12-13T23:25:22.606147",
     "exception": false,
     "start_time": "2020-12-13T23:25:22.563535",
     "status": "completed"
    },
    "pycharm": {
     "name": "#%%\n"
    },
    "tags": []
   },
   "outputs": [],
   "source": [
    "def sort_source_regions_for_display(source_regions: list) -> list:\n",
    "    if report_backend_identifier in source_regions:\n",
    "        source_regions = [report_backend_identifier] + \\\n",
    "            list(sorted(set(source_regions).difference([report_backend_identifier])))\n",
    "    else:\n",
    "        source_regions = list(sorted(source_regions))\n",
    "    return source_regions"
   ]
  },
  {
   "cell_type": "code",
   "execution_count": 11,
   "metadata": {
    "collapsed": false,
    "execution": {
     "iopub.execute_input": "2020-12-13T23:25:22.687248Z",
     "iopub.status.busy": "2020-12-13T23:25:22.686481Z",
     "iopub.status.idle": "2020-12-13T23:25:22.689475Z",
     "shell.execute_reply": "2020-12-13T23:25:22.690109Z"
    },
    "papermill": {
     "duration": 0.047636,
     "end_time": "2020-12-13T23:25:22.690241",
     "exception": false,
     "start_time": "2020-12-13T23:25:22.642605",
     "status": "completed"
    },
    "pycharm": {
     "name": "#%%\n"
    },
    "tags": []
   },
   "outputs": [
    {
     "data": {
      "text/plain": [
       "['ES', 'DE', 'DK', 'HR', 'IE', 'IT', 'LV', 'NL', 'PL']"
      ]
     },
     "execution_count": 11,
     "metadata": {},
     "output_type": "execute_result"
    }
   ],
   "source": [
    "report_source_regions = report_backend_client.source_regions_for_date(\n",
    "    date=extraction_datetime.date())\n",
    "report_source_regions = sort_source_regions_for_display(\n",
    "    source_regions=report_source_regions)\n",
    "report_source_regions"
   ]
  },
  {
   "cell_type": "code",
   "execution_count": 12,
   "metadata": {
    "collapsed": false,
    "execution": {
     "iopub.execute_input": "2020-12-13T23:25:22.779454Z",
     "iopub.status.busy": "2020-12-13T23:25:22.778888Z",
     "iopub.status.idle": "2020-12-13T23:25:22.781644Z",
     "shell.execute_reply": "2020-12-13T23:25:22.782091Z"
    },
    "papermill": {
     "duration": 0.05415,
     "end_time": "2020-12-13T23:25:22.782240",
     "exception": false,
     "start_time": "2020-12-13T23:25:22.728090",
     "status": "completed"
    },
    "pycharm": {
     "name": "#%%\n"
    },
    "tags": []
   },
   "outputs": [
    {
     "data": {
      "text/html": [
       "<div>\n",
       "<style scoped>\n",
       "    .dataframe tbody tr th:only-of-type {\n",
       "        vertical-align: middle;\n",
       "    }\n",
       "\n",
       "    .dataframe tbody tr th {\n",
       "        vertical-align: top;\n",
       "    }\n",
       "\n",
       "    .dataframe thead th {\n",
       "        text-align: right;\n",
       "    }\n",
       "</style>\n",
       "<table border=\"1\" class=\"dataframe\">\n",
       "  <thead>\n",
       "    <tr style=\"text-align: right;\">\n",
       "      <th></th>\n",
       "      <th>sample_date</th>\n",
       "      <th>sample_date_string</th>\n",
       "    </tr>\n",
       "  </thead>\n",
       "  <tbody>\n",
       "    <tr>\n",
       "      <th>344</th>\n",
       "      <td>2020-12-09</td>\n",
       "      <td>2020-12-09</td>\n",
       "    </tr>\n",
       "    <tr>\n",
       "      <th>345</th>\n",
       "      <td>2020-12-10</td>\n",
       "      <td>2020-12-10</td>\n",
       "    </tr>\n",
       "    <tr>\n",
       "      <th>346</th>\n",
       "      <td>2020-12-11</td>\n",
       "      <td>2020-12-11</td>\n",
       "    </tr>\n",
       "    <tr>\n",
       "      <th>347</th>\n",
       "      <td>2020-12-12</td>\n",
       "      <td>2020-12-12</td>\n",
       "    </tr>\n",
       "    <tr>\n",
       "      <th>348</th>\n",
       "      <td>2020-12-13</td>\n",
       "      <td>2020-12-13</td>\n",
       "    </tr>\n",
       "  </tbody>\n",
       "</table>\n",
       "</div>"
      ],
      "text/plain": [
       "    sample_date sample_date_string\n",
       "344  2020-12-09         2020-12-09\n",
       "345  2020-12-10         2020-12-10\n",
       "346  2020-12-11         2020-12-11\n",
       "347  2020-12-12         2020-12-12\n",
       "348  2020-12-13         2020-12-13"
      ]
     },
     "execution_count": 12,
     "metadata": {},
     "output_type": "execute_result"
    }
   ],
   "source": [
    "confirmed_days = pd.date_range(\n",
    "    start=confirmed_df.iloc[0].sample_date,\n",
    "    end=extraction_datetime)\n",
    "confirmed_days_df = pd.DataFrame(data=confirmed_days, columns=[\"sample_date\"])\n",
    "confirmed_days_df[\"sample_date_string\"] = \\\n",
    "    confirmed_days_df.sample_date.dt.strftime(\"%Y-%m-%d\")\n",
    "confirmed_days_df.tail()"
   ]
  },
  {
   "cell_type": "code",
   "execution_count": 13,
   "metadata": {
    "collapsed": false,
    "execution": {
     "iopub.execute_input": "2020-12-13T23:25:22.867245Z",
     "iopub.status.busy": "2020-12-13T23:25:22.866556Z",
     "iopub.status.idle": "2020-12-13T23:25:22.887598Z",
     "shell.execute_reply": "2020-12-13T23:25:22.888270Z"
    },
    "papermill": {
     "duration": 0.064582,
     "end_time": "2020-12-13T23:25:22.888443",
     "exception": false,
     "start_time": "2020-12-13T23:25:22.823861",
     "status": "completed"
    },
    "pycharm": {
     "name": "#%%\n"
    },
    "tags": []
   },
   "outputs": [
    {
     "data": {
      "text/html": [
       "<div>\n",
       "<style scoped>\n",
       "    .dataframe tbody tr th:only-of-type {\n",
       "        vertical-align: middle;\n",
       "    }\n",
       "\n",
       "    .dataframe tbody tr th {\n",
       "        vertical-align: top;\n",
       "    }\n",
       "\n",
       "    .dataframe thead th {\n",
       "        text-align: right;\n",
       "    }\n",
       "</style>\n",
       "<table border=\"1\" class=\"dataframe\">\n",
       "  <thead>\n",
       "    <tr style=\"text-align: right;\">\n",
       "      <th></th>\n",
       "      <th>sample_date</th>\n",
       "      <th>sample_date_string</th>\n",
       "      <th>source_regions_at_date</th>\n",
       "      <th>_source_regions_group</th>\n",
       "    </tr>\n",
       "  </thead>\n",
       "  <tbody>\n",
       "    <tr>\n",
       "      <th>344</th>\n",
       "      <td>2020-12-09</td>\n",
       "      <td>2020-12-09</td>\n",
       "      <td>{HR, NL, IT, PL, DE, DK, ES, LV, IE}</td>\n",
       "      <td>ES,DE,DK,HR,IE,IT,LV,NL,PL</td>\n",
       "    </tr>\n",
       "    <tr>\n",
       "      <th>345</th>\n",
       "      <td>2020-12-10</td>\n",
       "      <td>2020-12-10</td>\n",
       "      <td>{HR, NL, IT, PL, DE, DK, ES, LV, IE}</td>\n",
       "      <td>ES,DE,DK,HR,IE,IT,LV,NL,PL</td>\n",
       "    </tr>\n",
       "    <tr>\n",
       "      <th>346</th>\n",
       "      <td>2020-12-11</td>\n",
       "      <td>2020-12-11</td>\n",
       "      <td>{HR, NL, IT, PL, DE, DK, ES, LV, IE}</td>\n",
       "      <td>ES,DE,DK,HR,IE,IT,LV,NL,PL</td>\n",
       "    </tr>\n",
       "    <tr>\n",
       "      <th>347</th>\n",
       "      <td>2020-12-12</td>\n",
       "      <td>2020-12-12</td>\n",
       "      <td>{HR, NL, IT, PL, DE, DK, ES, LV, IE}</td>\n",
       "      <td>ES,DE,DK,HR,IE,IT,LV,NL,PL</td>\n",
       "    </tr>\n",
       "    <tr>\n",
       "      <th>348</th>\n",
       "      <td>2020-12-13</td>\n",
       "      <td>2020-12-13</td>\n",
       "      <td>{HR, NL, IT, PL, DE, DK, ES, LV, IE}</td>\n",
       "      <td>ES,DE,DK,HR,IE,IT,LV,NL,PL</td>\n",
       "    </tr>\n",
       "  </tbody>\n",
       "</table>\n",
       "</div>"
      ],
      "text/plain": [
       "    sample_date sample_date_string                source_regions_at_date  \\\n",
       "344  2020-12-09         2020-12-09  {HR, NL, IT, PL, DE, DK, ES, LV, IE}   \n",
       "345  2020-12-10         2020-12-10  {HR, NL, IT, PL, DE, DK, ES, LV, IE}   \n",
       "346  2020-12-11         2020-12-11  {HR, NL, IT, PL, DE, DK, ES, LV, IE}   \n",
       "347  2020-12-12         2020-12-12  {HR, NL, IT, PL, DE, DK, ES, LV, IE}   \n",
       "348  2020-12-13         2020-12-13  {HR, NL, IT, PL, DE, DK, ES, LV, IE}   \n",
       "\n",
       "          _source_regions_group  \n",
       "344  ES,DE,DK,HR,IE,IT,LV,NL,PL  \n",
       "345  ES,DE,DK,HR,IE,IT,LV,NL,PL  \n",
       "346  ES,DE,DK,HR,IE,IT,LV,NL,PL  \n",
       "347  ES,DE,DK,HR,IE,IT,LV,NL,PL  \n",
       "348  ES,DE,DK,HR,IE,IT,LV,NL,PL  "
      ]
     },
     "execution_count": 13,
     "metadata": {},
     "output_type": "execute_result"
    }
   ],
   "source": [
    "source_regions_at_date_df = confirmed_days_df.copy()\n",
    "source_regions_at_date_df[\"source_regions_at_date\"] = \\\n",
    "    source_regions_at_date_df.sample_date.apply(\n",
    "        lambda x: report_backend_client.source_regions_for_date(date=x))\n",
    "source_regions_at_date_df.sort_values(\"sample_date\", inplace=True)\n",
    "source_regions_at_date_df[\"_source_regions_group\"] = source_regions_at_date_df. \\\n",
    "    source_regions_at_date.apply(lambda x: \",\".join(sort_source_regions_for_display(x)))\n",
    "source_regions_at_date_df.tail()"
   ]
  },
  {
   "cell_type": "code",
   "execution_count": 14,
   "metadata": {
    "collapsed": false,
    "execution": {
     "iopub.execute_input": "2020-12-13T23:25:22.980835Z",
     "iopub.status.busy": "2020-12-13T23:25:22.980327Z",
     "iopub.status.idle": "2020-12-13T23:25:22.983076Z",
     "shell.execute_reply": "2020-12-13T23:25:22.983494Z"
    },
    "papermill": {
     "duration": 0.052452,
     "end_time": "2020-12-13T23:25:22.983617",
     "exception": false,
     "start_time": "2020-12-13T23:25:22.931165",
     "status": "completed"
    },
    "pycharm": {
     "name": "#%%\n"
    },
    "tags": []
   },
   "outputs": [
    {
     "data": {
      "text/html": [
       "<div>\n",
       "<style scoped>\n",
       "    .dataframe tbody tr th:only-of-type {\n",
       "        vertical-align: middle;\n",
       "    }\n",
       "\n",
       "    .dataframe tbody tr th {\n",
       "        vertical-align: top;\n",
       "    }\n",
       "\n",
       "    .dataframe thead th {\n",
       "        text-align: right;\n",
       "    }\n",
       "</style>\n",
       "<table border=\"1\" class=\"dataframe\">\n",
       "  <thead>\n",
       "    <tr style=\"text-align: right;\">\n",
       "      <th></th>\n",
       "      <th>sample_date</th>\n",
       "      <th>source_regions</th>\n",
       "    </tr>\n",
       "  </thead>\n",
       "  <tbody>\n",
       "    <tr>\n",
       "      <th>344</th>\n",
       "      <td>2020-12-09</td>\n",
       "      <td>ES,DE,DK,HR,IE,IT,LV,NL,PL</td>\n",
       "    </tr>\n",
       "    <tr>\n",
       "      <th>345</th>\n",
       "      <td>2020-12-10</td>\n",
       "      <td>ES,DE,DK,HR,IE,IT,LV,NL,PL</td>\n",
       "    </tr>\n",
       "    <tr>\n",
       "      <th>346</th>\n",
       "      <td>2020-12-11</td>\n",
       "      <td>ES,DE,DK,HR,IE,IT,LV,NL,PL</td>\n",
       "    </tr>\n",
       "    <tr>\n",
       "      <th>347</th>\n",
       "      <td>2020-12-12</td>\n",
       "      <td>ES,DE,DK,HR,IE,IT,LV,NL,PL</td>\n",
       "    </tr>\n",
       "    <tr>\n",
       "      <th>348</th>\n",
       "      <td>2020-12-13</td>\n",
       "      <td>ES,DE,DK,HR,IE,IT,LV,NL,PL</td>\n",
       "    </tr>\n",
       "  </tbody>\n",
       "</table>\n",
       "</div>"
      ],
      "text/plain": [
       "    sample_date              source_regions\n",
       "344  2020-12-09  ES,DE,DK,HR,IE,IT,LV,NL,PL\n",
       "345  2020-12-10  ES,DE,DK,HR,IE,IT,LV,NL,PL\n",
       "346  2020-12-11  ES,DE,DK,HR,IE,IT,LV,NL,PL\n",
       "347  2020-12-12  ES,DE,DK,HR,IE,IT,LV,NL,PL\n",
       "348  2020-12-13  ES,DE,DK,HR,IE,IT,LV,NL,PL"
      ]
     },
     "execution_count": 14,
     "metadata": {},
     "output_type": "execute_result"
    }
   ],
   "source": [
    "source_regions_for_summary_df = \\\n",
    "    source_regions_at_date_df[[\"sample_date\", \"_source_regions_group\"]].copy()\n",
    "source_regions_for_summary_df.rename(columns={\"_source_regions_group\": \"source_regions\"}, inplace=True)\n",
    "source_regions_for_summary_df.tail()"
   ]
  },
  {
   "cell_type": "code",
   "execution_count": 15,
   "metadata": {
    "collapsed": false,
    "execution": {
     "iopub.execute_input": "2020-12-13T23:25:23.070654Z",
     "iopub.status.busy": "2020-12-13T23:25:23.070096Z",
     "iopub.status.idle": "2020-12-13T23:25:23.146945Z",
     "shell.execute_reply": "2020-12-13T23:25:23.146283Z"
    },
    "papermill": {
     "duration": 0.126844,
     "end_time": "2020-12-13T23:25:23.147125",
     "exception": false,
     "start_time": "2020-12-13T23:25:23.020281",
     "status": "completed"
    },
    "pycharm": {
     "name": "#%%\n"
    },
    "tags": []
   },
   "outputs": [
    {
     "data": {
      "text/html": [
       "<div>\n",
       "<style scoped>\n",
       "    .dataframe tbody tr th:only-of-type {\n",
       "        vertical-align: middle;\n",
       "    }\n",
       "\n",
       "    .dataframe tbody tr th {\n",
       "        vertical-align: top;\n",
       "    }\n",
       "\n",
       "    .dataframe thead th {\n",
       "        text-align: right;\n",
       "    }\n",
       "</style>\n",
       "<table border=\"1\" class=\"dataframe\">\n",
       "  <thead>\n",
       "    <tr style=\"text-align: right;\">\n",
       "      <th></th>\n",
       "      <th>sample_date</th>\n",
       "      <th>new_cases</th>\n",
       "      <th>covid_cases</th>\n",
       "    </tr>\n",
       "  </thead>\n",
       "  <tbody>\n",
       "    <tr>\n",
       "      <th>309</th>\n",
       "      <td>2020-11-04</td>\n",
       "      <td>70966</td>\n",
       "      <td>66020.0</td>\n",
       "    </tr>\n",
       "    <tr>\n",
       "      <th>310</th>\n",
       "      <td>2020-11-05</td>\n",
       "      <td>73194</td>\n",
       "      <td>67010.0</td>\n",
       "    </tr>\n",
       "    <tr>\n",
       "      <th>311</th>\n",
       "      <td>2020-11-06</td>\n",
       "      <td>79454</td>\n",
       "      <td>68044.0</td>\n",
       "    </tr>\n",
       "    <tr>\n",
       "      <th>312</th>\n",
       "      <td>2020-11-07</td>\n",
       "      <td>62050</td>\n",
       "      <td>69596.0</td>\n",
       "    </tr>\n",
       "    <tr>\n",
       "      <th>313</th>\n",
       "      <td>2020-11-08</td>\n",
       "      <td>56547</td>\n",
       "      <td>71025.0</td>\n",
       "    </tr>\n",
       "  </tbody>\n",
       "</table>\n",
       "</div>"
      ],
      "text/plain": [
       "    sample_date new_cases  covid_cases\n",
       "309  2020-11-04     70966      66020.0\n",
       "310  2020-11-05     73194      67010.0\n",
       "311  2020-11-06     79454      68044.0\n",
       "312  2020-11-07     62050      69596.0\n",
       "313  2020-11-08     56547      71025.0"
      ]
     },
     "execution_count": 15,
     "metadata": {},
     "output_type": "execute_result"
    }
   ],
   "source": [
    "confirmed_output_columns = [\"sample_date\", \"new_cases\", \"covid_cases\"]\n",
    "confirmed_output_df = pd.DataFrame(columns=confirmed_output_columns)\n",
    "\n",
    "for source_regions_group, source_regions_group_series in \\\n",
    "        source_regions_at_date_df.groupby(\"_source_regions_group\"):\n",
    "    source_regions_set = set(source_regions_group.split(\",\"))\n",
    "    confirmed_source_regions_set_df = \\\n",
    "        confirmed_df[confirmed_df.country_code.isin(source_regions_set)].copy()\n",
    "    confirmed_source_regions_group_df = \\\n",
    "        confirmed_source_regions_set_df.groupby(\"sample_date\").new_cases.sum() \\\n",
    "            .reset_index().sort_values(\"sample_date\")\n",
    "    confirmed_source_regions_group_df[\"covid_cases\"] = \\\n",
    "        confirmed_source_regions_group_df.new_cases.rolling(7, min_periods=0).mean().round()\n",
    "    confirmed_source_regions_group_df = \\\n",
    "        confirmed_source_regions_group_df[confirmed_output_columns]\n",
    "    confirmed_source_regions_group_df.fillna(method=\"ffill\", inplace=True)\n",
    "    confirmed_source_regions_group_df = \\\n",
    "        confirmed_source_regions_group_df[\n",
    "            confirmed_source_regions_group_df.sample_date.isin(\n",
    "                source_regions_group_series.sample_date_string)]\n",
    "    confirmed_output_df = confirmed_output_df.append(confirmed_source_regions_group_df)\n",
    "\n",
    "confirmed_df = confirmed_output_df.copy()\n",
    "confirmed_df.tail()"
   ]
  },
  {
   "cell_type": "code",
   "execution_count": 16,
   "metadata": {
    "collapsed": false,
    "execution": {
     "iopub.execute_input": "2020-12-13T23:25:23.248712Z",
     "iopub.status.busy": "2020-12-13T23:25:23.248161Z",
     "iopub.status.idle": "2020-12-13T23:25:23.259060Z",
     "shell.execute_reply": "2020-12-13T23:25:23.259574Z"
    },
    "papermill": {
     "duration": 0.064407,
     "end_time": "2020-12-13T23:25:23.259718",
     "exception": false,
     "start_time": "2020-12-13T23:25:23.195311",
     "status": "completed"
    },
    "pycharm": {
     "name": "#%%\n"
    },
    "tags": []
   },
   "outputs": [
    {
     "data": {
      "text/html": [
       "<div>\n",
       "<style scoped>\n",
       "    .dataframe tbody tr th:only-of-type {\n",
       "        vertical-align: middle;\n",
       "    }\n",
       "\n",
       "    .dataframe tbody tr th {\n",
       "        vertical-align: top;\n",
       "    }\n",
       "\n",
       "    .dataframe thead th {\n",
       "        text-align: right;\n",
       "    }\n",
       "</style>\n",
       "<table border=\"1\" class=\"dataframe\">\n",
       "  <thead>\n",
       "    <tr style=\"text-align: right;\">\n",
       "      <th></th>\n",
       "      <th>sample_date_string</th>\n",
       "      <th>new_cases</th>\n",
       "      <th>covid_cases</th>\n",
       "    </tr>\n",
       "  </thead>\n",
       "  <tbody>\n",
       "    <tr>\n",
       "      <th>344</th>\n",
       "      <td>2020-12-09</td>\n",
       "      <td>65435</td>\n",
       "      <td>68341.0</td>\n",
       "    </tr>\n",
       "    <tr>\n",
       "      <th>345</th>\n",
       "      <td>2020-12-10</td>\n",
       "      <td>71087</td>\n",
       "      <td>67396.0</td>\n",
       "    </tr>\n",
       "    <tr>\n",
       "      <th>346</th>\n",
       "      <td>2020-12-11</td>\n",
       "      <td>88796</td>\n",
       "      <td>68208.0</td>\n",
       "    </tr>\n",
       "    <tr>\n",
       "      <th>347</th>\n",
       "      <td>2020-12-12</td>\n",
       "      <td>77551</td>\n",
       "      <td>68853.0</td>\n",
       "    </tr>\n",
       "    <tr>\n",
       "      <th>348</th>\n",
       "      <td>2020-12-13</td>\n",
       "      <td>69268</td>\n",
       "      <td>69432.0</td>\n",
       "    </tr>\n",
       "  </tbody>\n",
       "</table>\n",
       "</div>"
      ],
      "text/plain": [
       "    sample_date_string  new_cases  covid_cases\n",
       "344         2020-12-09      65435      68341.0\n",
       "345         2020-12-10      71087      67396.0\n",
       "346         2020-12-11      88796      68208.0\n",
       "347         2020-12-12      77551      68853.0\n",
       "348         2020-12-13      69268      69432.0"
      ]
     },
     "execution_count": 16,
     "metadata": {},
     "output_type": "execute_result"
    }
   ],
   "source": [
    "confirmed_df.rename(columns={\"sample_date\": \"sample_date_string\"}, inplace=True)\n",
    "confirmed_df = confirmed_days_df[[\"sample_date_string\"]].merge(confirmed_df, how=\"left\")\n",
    "confirmed_df.sort_values(\"sample_date_string\", inplace=True)\n",
    "confirmed_df.fillna(method=\"ffill\", inplace=True)\n",
    "confirmed_df.tail()"
   ]
  },
  {
   "cell_type": "code",
   "execution_count": 17,
   "metadata": {
    "collapsed": false,
    "execution": {
     "iopub.execute_input": "2020-12-13T23:25:23.349555Z",
     "iopub.status.busy": "2020-12-13T23:25:23.349021Z",
     "iopub.status.idle": "2020-12-13T23:25:23.551488Z",
     "shell.execute_reply": "2020-12-13T23:25:23.551986Z"
    },
    "papermill": {
     "duration": 0.253757,
     "end_time": "2020-12-13T23:25:23.552163",
     "exception": false,
     "start_time": "2020-12-13T23:25:23.298406",
     "status": "completed"
    },
    "pycharm": {
     "name": "#%%\n"
    },
    "tags": []
   },
   "outputs": [
    {
     "data": {
      "text/plain": [
       "<matplotlib.axes._subplots.AxesSubplot at 0x7f29f3c60e20>"
      ]
     },
     "execution_count": 17,
     "metadata": {},
     "output_type": "execute_result"
    },
    {
     "data": {
      "image/png": "[encoded data removed]",
      "text/plain": [
       "<Figure size 1080x432 with 1 Axes>"
      ]
     },
     "metadata": {},
     "output_type": "display_data"
    }
   ],
   "source": [
    "confirmed_df[[\"new_cases\", \"covid_cases\"]].plot()"
   ]
  },
  {
   "cell_type": "markdown",
   "metadata": {
    "execution": {
     "iopub.execute_input": "2020-08-30T22:30:16.351238Z",
     "iopub.status.busy": "2020-08-30T22:30:16.344579Z",
     "iopub.status.idle": "2020-08-30T22:30:16.354285Z",
     "shell.execute_reply": "2020-08-30T22:30:16.353641Z"
    },
    "papermill": {
     "duration": 0.079877,
     "end_time": "2020-12-13T23:25:23.675211",
     "exception": false,
     "start_time": "2020-12-13T23:25:23.595334",
     "status": "completed"
    },
    "pycharm": {
     "name": "#%% md\n"
    },
    "tags": []
   },
   "source": [
    "### Extract API TEKs"
   ]
  },
  {
   "cell_type": "code",
   "execution_count": 18,
   "metadata": {
    "execution": {
     "iopub.execute_input": "2020-12-13T23:25:25.082446Z",
     "iopub.status.busy": "2020-12-13T23:25:25.081648Z",
     "iopub.status.idle": "2020-12-13T23:26:36.430323Z",
     "shell.execute_reply": "2020-12-13T23:26:36.430864Z"
    },
    "papermill": {
     "duration": 71.797632,
     "end_time": "2020-12-13T23:26:36.431009",
     "exception": false,
     "start_time": "2020-12-13T23:25:24.633377",
     "status": "completed"
    },
    "pycharm": {
     "name": "#%%\n"
    },
    "tags": []
   },
   "outputs": [
    {
     "name": "stderr",
     "output_type": "stream",
     "text": [
      "WARNING:root:NoKeysFoundException(\"No exposure keys found on endpoint 'https://stayaway.incm.pt/v1/gaen/exposed/1607817600000' (parameters: {'generation_date': '2020-12-13', 'endpoint_identifier_components': ['2020-12-13'], 'backend_identifier': 'PT', 'server_endpoint_url': 'https://stayaway.incm.pt'}).\")\n"
     ]
    },
    {
     "name": "stderr",
     "output_type": "stream",
     "text": [
      "WARNING:root:NoKeysFoundException(\"No exposure keys found on endpoint 'https://enapi.sm.ee/authorization/v1/gaen/exposed/1607817600000' (parameters: {'generation_date': '2020-12-13', 'endpoint_identifier_components': ['2020-12-13'], 'backend_identifier': 'EE', 'server_endpoint_url': 'https://enapi.sm.ee/authorization'}).\")\n"
     ]
    },
    {
     "name": "stderr",
     "output_type": "stream",
     "text": [
      "WARNING:root:NoKeysFoundException(\"No exposure keys found on endpoint 'https://mt-dpppt-ws.azurewebsites.net/v1/gaen/exposed/1607817600000' (parameters: {'generation_date': '2020-12-13', 'endpoint_identifier_components': ['2020-12-13'], 'backend_identifier': 'MT', 'server_endpoint_url': 'https://mt-dpppt-ws.azurewebsites.net'}).\")\n"
     ]
    },
    {
     "data": {
      "text/html": [
       "<div>\n",
       "<style scoped>\n",
       "    .dataframe tbody tr th:only-of-type {\n",
       "        vertical-align: middle;\n",
       "    }\n",
       "\n",
       "    .dataframe tbody tr th {\n",
       "        vertical-align: top;\n",
       "    }\n",
       "\n",
       "    .dataframe thead th {\n",
       "        text-align: right;\n",
       "    }\n",
       "</style>\n",
       "<table border=\"1\" class=\"dataframe\">\n",
       "  <thead>\n",
       "    <tr style=\"text-align: right;\">\n",
       "      <th></th>\n",
       "      <th>sample_datetime</th>\n",
       "      <th>sample_date_string</th>\n",
       "      <th>region</th>\n",
       "      <th>verification_key_version</th>\n",
       "      <th>verification_key_id</th>\n",
       "      <th>signature_algorithm</th>\n",
       "      <th>key_data</th>\n",
       "      <th>rolling_start_interval_number</th>\n",
       "      <th>rolling_period</th>\n",
       "      <th>transmission_risk_level</th>\n",
       "      <th>backend_identifier</th>\n",
       "    </tr>\n",
       "  </thead>\n",
       "  <tbody>\n",
       "    <tr>\n",
       "      <th>0</th>\n",
       "      <td>2020-12-13</td>\n",
       "      <td>2020-12-13</td>\n",
       "      <td>ES</td>\n",
       "      <td>V1</td>\n",
       "      <td>214</td>\n",
       "      <td>1.2.840.10045.4.3.2</td>\n",
       "      <td>2f8a482c-8c86-b99c-b3ca-6a36ae5c3652</td>\n",
       "      <td>2679696</td>\n",
       "      <td>132</td>\n",
       "      <td>0</td>\n",
       "      <td>ES</td>\n",
       "    </tr>\n",
       "    <tr>\n",
       "      <th>1</th>\n",
       "      <td>2020-12-13</td>\n",
       "      <td>2020-12-13</td>\n",
       "      <td>ES</td>\n",
       "      <td>V1</td>\n",
       "      <td>214</td>\n",
       "      <td>1.2.840.10045.4.3.2</td>\n",
       "      <td>672fee39-dfc3-b7a0-2d87-5be53a7fe811</td>\n",
       "      <td>2679696</td>\n",
       "      <td>130</td>\n",
       "      <td>0</td>\n",
       "      <td>ES</td>\n",
       "    </tr>\n",
       "    <tr>\n",
       "      <th>2</th>\n",
       "      <td>2020-12-13</td>\n",
       "      <td>2020-12-13</td>\n",
       "      <td>ES</td>\n",
       "      <td>V1</td>\n",
       "      <td>214</td>\n",
       "      <td>1.2.840.10045.4.3.2</td>\n",
       "      <td>7b92cae2-b4af-f1f7-f801-f603d5aedb39</td>\n",
       "      <td>2679696</td>\n",
       "      <td>128</td>\n",
       "      <td>0</td>\n",
       "      <td>ES</td>\n",
       "    </tr>\n",
       "    <tr>\n",
       "      <th>3</th>\n",
       "      <td>2020-12-13</td>\n",
       "      <td>2020-12-13</td>\n",
       "      <td>ES</td>\n",
       "      <td>V1</td>\n",
       "      <td>214</td>\n",
       "      <td>1.2.840.10045.4.3.2</td>\n",
       "      <td>746ae02a-6dac-75d4-7a57-1fcec16031c9</td>\n",
       "      <td>2679696</td>\n",
       "      <td>127</td>\n",
       "      <td>0</td>\n",
       "      <td>ES</td>\n",
       "    </tr>\n",
       "    <tr>\n",
       "      <th>4</th>\n",
       "      <td>2020-12-13</td>\n",
       "      <td>2020-12-13</td>\n",
       "      <td>ES</td>\n",
       "      <td>V1</td>\n",
       "      <td>214</td>\n",
       "      <td>1.2.840.10045.4.3.2</td>\n",
       "      <td>f8ace8f0-9482-f690-5117-b50cca86f55d</td>\n",
       "      <td>2679696</td>\n",
       "      <td>126</td>\n",
       "      <td>0</td>\n",
       "      <td>ES</td>\n",
       "    </tr>\n",
       "  </tbody>\n",
       "</table>\n",
       "</div>"
      ],
      "text/plain": [
       "  sample_datetime sample_date_string region verification_key_version  \\\n",
       "0      2020-12-13         2020-12-13     ES                       V1   \n",
       "1      2020-12-13         2020-12-13     ES                       V1   \n",
       "2      2020-12-13         2020-12-13     ES                       V1   \n",
       "3      2020-12-13         2020-12-13     ES                       V1   \n",
       "4      2020-12-13         2020-12-13     ES                       V1   \n",
       "\n",
       "  verification_key_id  signature_algorithm  \\\n",
       "0                 214  1.2.840.10045.4.3.2   \n",
       "1                 214  1.2.840.10045.4.3.2   \n",
       "2                 214  1.2.840.10045.4.3.2   \n",
       "3                 214  1.2.840.10045.4.3.2   \n",
       "4                 214  1.2.840.10045.4.3.2   \n",
       "\n",
       "                               key_data  rolling_start_interval_number  \\\n",
       "0  2f8a482c-8c86-b99c-b3ca-6a36ae5c3652                        2679696   \n",
       "1  672fee39-dfc3-b7a0-2d87-5be53a7fe811                        2679696   \n",
       "2  7b92cae2-b4af-f1f7-f801-f603d5aedb39                        2679696   \n",
       "3  746ae02a-6dac-75d4-7a57-1fcec16031c9                        2679696   \n",
       "4  f8ace8f0-9482-f690-5117-b50cca86f55d                        2679696   \n",
       "\n",
       "   rolling_period  transmission_risk_level backend_identifier  \n",
       "0             132                        0                 ES  \n",
       "1             130                        0                 ES  \n",
       "2             128                        0                 ES  \n",
       "3             127                        0                 ES  \n",
       "4             126                        0                 ES  "
      ]
     },
     "execution_count": 18,
     "metadata": {},
     "output_type": "execute_result"
    }
   ],
   "source": [
    "raw_zip_path_prefix = \"Data/TEKs/Raw/\"\n",
    "fail_on_error_backend_identifiers = [report_backend_identifier]\n",
    "multi_backend_exposure_keys_df = \\\n",
    "    exposure_notification_io.download_exposure_keys_from_backends(\n",
    "        backend_identifiers=report_backend_identifiers,\n",
    "        generation_days=backend_generation_days,\n",
    "        fail_on_error_backend_identifiers=fail_on_error_backend_identifiers,\n",
    "        save_raw_zip_path_prefix=raw_zip_path_prefix)\n",
    "multi_backend_exposure_keys_df[\"region\"] = multi_backend_exposure_keys_df[\"backend_identifier\"]\n",
    "multi_backend_exposure_keys_df.rename(\n",
    "    columns={\n",
    "        \"generation_datetime\": \"sample_datetime\",\n",
    "        \"generation_date_string\": \"sample_date_string\",\n",
    "    },\n",
    "    inplace=True)\n",
    "multi_backend_exposure_keys_df.head()"
   ]
  },
  {
   "cell_type": "code",
   "execution_count": 19,
   "metadata": {
    "collapsed": false,
    "execution": {
     "iopub.execute_input": "2020-12-13T23:26:36.535186Z",
     "iopub.status.busy": "2020-12-13T23:26:36.534252Z",
     "iopub.status.idle": "2020-12-13T23:26:36.798288Z",
     "shell.execute_reply": "2020-12-13T23:26:36.799026Z"
    },
    "papermill": {
     "duration": 0.32043,
     "end_time": "2020-12-13T23:26:36.799182",
     "exception": false,
     "start_time": "2020-12-13T23:26:36.478752",
     "status": "completed"
    },
    "pycharm": {
     "name": "#%%\n"
    },
    "tags": []
   },
   "outputs": [
    {
     "data": {
      "text/plain": [
       "<matplotlib.axes._subplots.AxesSubplot at 0x7f29e1e599a0>"
      ]
     },
     "execution_count": 19,
     "metadata": {},
     "output_type": "execute_result"
    },
    {
     "data": {
      "image/png": "[encoded data removed]",
      "text/plain": [
       "<Figure size 1080x432 with 1 Axes>"
      ]
     },
     "metadata": {},
     "output_type": "display_data"
    }
   ],
   "source": [
    "early_teks_df = multi_backend_exposure_keys_df[\n",
    "    multi_backend_exposure_keys_df.rolling_period < 144].copy()\n",
    "early_teks_df[\"rolling_period_in_hours\"] = early_teks_df.rolling_period / 6\n",
    "early_teks_df[early_teks_df.sample_date_string != extraction_date] \\\n",
    "    .rolling_period_in_hours.hist(bins=list(range(24)))"
   ]
  },
  {
   "cell_type": "code",
   "execution_count": 20,
   "metadata": {
    "collapsed": false,
    "execution": {
     "iopub.execute_input": "2020-12-13T23:26:36.909708Z",
     "iopub.status.busy": "2020-12-13T23:26:36.909159Z",
     "iopub.status.idle": "2020-12-13T23:26:37.151875Z",
     "shell.execute_reply": "2020-12-13T23:26:37.152697Z"
    },
    "papermill": {
     "duration": 0.302996,
     "end_time": "2020-12-13T23:26:37.152876",
     "exception": false,
     "start_time": "2020-12-13T23:26:36.849880",
     "status": "completed"
    },
    "pycharm": {
     "name": "#%%\n"
    },
    "tags": []
   },
   "outputs": [
    {
     "data": {
      "text/plain": [
       "<matplotlib.axes._subplots.AxesSubplot at 0x7f29e1b95220>"
      ]
     },
     "execution_count": 20,
     "metadata": {},
     "output_type": "execute_result"
    },
    {
     "data": {
      "image/png": "[encoded data removed]",
      "text/plain": [
       "<Figure size 1080x432 with 1 Axes>"
      ]
     },
     "metadata": {},
     "output_type": "display_data"
    }
   ],
   "source": [
    "early_teks_df[early_teks_df.sample_date_string == extraction_date] \\\n",
    "    .rolling_period_in_hours.hist(bins=list(range(24)))"
   ]
  },
  {
   "cell_type": "code",
   "execution_count": 21,
   "metadata": {
    "collapsed": false,
    "execution": {
     "iopub.execute_input": "2020-12-13T23:26:37.261356Z",
     "iopub.status.busy": "2020-12-13T23:26:37.260818Z",
     "iopub.status.idle": "2020-12-13T23:26:37.296637Z",
     "shell.execute_reply": "2020-12-13T23:26:37.297090Z"
    },
    "papermill": {
     "duration": 0.089443,
     "end_time": "2020-12-13T23:26:37.297271",
     "exception": false,
     "start_time": "2020-12-13T23:26:37.207828",
     "status": "completed"
    },
    "pycharm": {
     "name": "#%%\n"
    },
    "tags": []
   },
   "outputs": [
    {
     "data": {
      "text/html": [
       "<div>\n",
       "<style scoped>\n",
       "    .dataframe tbody tr th:only-of-type {\n",
       "        vertical-align: middle;\n",
       "    }\n",
       "\n",
       "    .dataframe tbody tr th {\n",
       "        vertical-align: top;\n",
       "    }\n",
       "\n",
       "    .dataframe thead th {\n",
       "        text-align: right;\n",
       "    }\n",
       "</style>\n",
       "<table border=\"1\" class=\"dataframe\">\n",
       "  <thead>\n",
       "    <tr style=\"text-align: right;\">\n",
       "      <th></th>\n",
       "      <th>sample_date_string</th>\n",
       "      <th>region</th>\n",
       "      <th>key_data</th>\n",
       "    </tr>\n",
       "  </thead>\n",
       "  <tbody>\n",
       "    <tr>\n",
       "      <th>0</th>\n",
       "      <td>2020-12-13</td>\n",
       "      <td>ES</td>\n",
       "      <td>2f8a482c-8c86-b99c-b3ca-6a36ae5c3652</td>\n",
       "    </tr>\n",
       "    <tr>\n",
       "      <th>1</th>\n",
       "      <td>2020-12-13</td>\n",
       "      <td>ES</td>\n",
       "      <td>672fee39-dfc3-b7a0-2d87-5be53a7fe811</td>\n",
       "    </tr>\n",
       "    <tr>\n",
       "      <th>2</th>\n",
       "      <td>2020-12-13</td>\n",
       "      <td>ES</td>\n",
       "      <td>7b92cae2-b4af-f1f7-f801-f603d5aedb39</td>\n",
       "    </tr>\n",
       "    <tr>\n",
       "      <th>3</th>\n",
       "      <td>2020-12-13</td>\n",
       "      <td>ES</td>\n",
       "      <td>746ae02a-6dac-75d4-7a57-1fcec16031c9</td>\n",
       "    </tr>\n",
       "    <tr>\n",
       "      <th>4</th>\n",
       "      <td>2020-12-13</td>\n",
       "      <td>ES</td>\n",
       "      <td>f8ace8f0-9482-f690-5117-b50cca86f55d</td>\n",
       "    </tr>\n",
       "  </tbody>\n",
       "</table>\n",
       "</div>"
      ],
      "text/plain": [
       "  sample_date_string region                              key_data\n",
       "0         2020-12-13     ES  2f8a482c-8c86-b99c-b3ca-6a36ae5c3652\n",
       "1         2020-12-13     ES  672fee39-dfc3-b7a0-2d87-5be53a7fe811\n",
       "2         2020-12-13     ES  7b92cae2-b4af-f1f7-f801-f603d5aedb39\n",
       "3         2020-12-13     ES  746ae02a-6dac-75d4-7a57-1fcec16031c9\n",
       "4         2020-12-13     ES  f8ace8f0-9482-f690-5117-b50cca86f55d"
      ]
     },
     "execution_count": 21,
     "metadata": {},
     "output_type": "execute_result"
    }
   ],
   "source": [
    "multi_backend_exposure_keys_df = multi_backend_exposure_keys_df[[\n",
    "    \"sample_date_string\", \"region\", \"key_data\"]]\n",
    "multi_backend_exposure_keys_df.head()"
   ]
  },
  {
   "cell_type": "code",
   "execution_count": 22,
   "metadata": {
    "collapsed": false,
    "execution": {
     "iopub.execute_input": "2020-12-13T23:26:37.409965Z",
     "iopub.status.busy": "2020-12-13T23:26:37.409414Z",
     "iopub.status.idle": "2020-12-13T23:26:40.856526Z",
     "shell.execute_reply": "2020-12-13T23:26:40.857508Z"
    },
    "papermill": {
     "duration": 3.509786,
     "end_time": "2020-12-13T23:26:40.857729",
     "exception": false,
     "start_time": "2020-12-13T23:26:37.347943",
     "status": "completed"
    },
    "pycharm": {
     "name": "#%%\n"
    },
    "tags": []
   },
   "outputs": [
    {
     "data": {
      "text/plain": [
       "['PT', 'MT', 'EE', 'CH', 'ES@PRE', 'DE', 'ES']"
      ]
     },
     "execution_count": 22,
     "metadata": {},
     "output_type": "execute_result"
    }
   ],
   "source": [
    "active_regions = \\\n",
    "    multi_backend_exposure_keys_df.groupby(\"region\").key_data.nunique().sort_values().index.unique().tolist()\n",
    "active_regions"
   ]
  },
  {
   "cell_type": "code",
   "execution_count": 23,
   "metadata": {
    "collapsed": false,
    "execution": {
     "iopub.execute_input": "2020-12-13T23:26:40.994691Z",
     "iopub.status.busy": "2020-12-13T23:26:40.994135Z",
     "iopub.status.idle": "2020-12-13T23:26:44.567028Z",
     "shell.execute_reply": "2020-12-13T23:26:44.566618Z"
    },
    "papermill": {
     "duration": 3.659238,
     "end_time": "2020-12-13T23:26:44.567146",
     "exception": false,
     "start_time": "2020-12-13T23:26:40.907908",
     "status": "completed"
    },
    "pycharm": {
     "name": "#%%\n"
    },
    "tags": []
   },
   "outputs": [
    {
     "data": {
      "text/html": [
       "<div>\n",
       "<style scoped>\n",
       "    .dataframe tbody tr th:only-of-type {\n",
       "        vertical-align: middle;\n",
       "    }\n",
       "\n",
       "    .dataframe tbody tr th {\n",
       "        vertical-align: top;\n",
       "    }\n",
       "\n",
       "    .dataframe thead tr th {\n",
       "        text-align: left;\n",
       "    }\n",
       "\n",
       "    .dataframe thead tr:last-of-type th {\n",
       "        text-align: right;\n",
       "    }\n",
       "</style>\n",
       "<table border=\"1\" class=\"dataframe\">\n",
       "  <thead>\n",
       "    <tr>\n",
       "      <th></th>\n",
       "      <th colspan=\"7\" halign=\"left\">shared_teks_by_generation_date</th>\n",
       "    </tr>\n",
       "    <tr>\n",
       "      <th>region</th>\n",
       "      <th>CH</th>\n",
       "      <th>DE</th>\n",
       "      <th>EE</th>\n",
       "      <th>ES</th>\n",
       "      <th>ES@PRE</th>\n",
       "      <th>MT</th>\n",
       "      <th>PT</th>\n",
       "    </tr>\n",
       "    <tr>\n",
       "      <th>sample_date</th>\n",
       "      <th></th>\n",
       "      <th></th>\n",
       "      <th></th>\n",
       "      <th></th>\n",
       "      <th></th>\n",
       "      <th></th>\n",
       "      <th></th>\n",
       "    </tr>\n",
       "  </thead>\n",
       "  <tbody>\n",
       "    <tr>\n",
       "      <th>2020-12-13</th>\n",
       "      <td>425</td>\n",
       "      <td>0</td>\n",
       "      <td>0</td>\n",
       "      <td>96</td>\n",
       "      <td>78</td>\n",
       "      <td>0</td>\n",
       "      <td>0</td>\n",
       "    </tr>\n",
       "    <tr>\n",
       "      <th>2020-12-12</th>\n",
       "      <td>1002</td>\n",
       "      <td>13</td>\n",
       "      <td>52</td>\n",
       "      <td>1629</td>\n",
       "      <td>662</td>\n",
       "      <td>100</td>\n",
       "      <td>38</td>\n",
       "    </tr>\n",
       "    <tr>\n",
       "      <th>2020-12-11</th>\n",
       "      <td>1666</td>\n",
       "      <td>2775</td>\n",
       "      <td>87</td>\n",
       "      <td>5372</td>\n",
       "      <td>1190</td>\n",
       "      <td>100</td>\n",
       "      <td>53</td>\n",
       "    </tr>\n",
       "    <tr>\n",
       "      <th>2020-12-10</th>\n",
       "      <td>2253</td>\n",
       "      <td>5838</td>\n",
       "      <td>120</td>\n",
       "      <td>9252</td>\n",
       "      <td>1648</td>\n",
       "      <td>100</td>\n",
       "      <td>73</td>\n",
       "    </tr>\n",
       "    <tr>\n",
       "      <th>2020-12-09</th>\n",
       "      <td>2666</td>\n",
       "      <td>8426</td>\n",
       "      <td>141</td>\n",
       "      <td>12628</td>\n",
       "      <td>6385</td>\n",
       "      <td>100</td>\n",
       "      <td>86</td>\n",
       "    </tr>\n",
       "  </tbody>\n",
       "</table>\n",
       "</div>"
      ],
      "text/plain": [
       "            shared_teks_by_generation_date                                  \n",
       "region                                  CH    DE   EE     ES ES@PRE   MT  PT\n",
       "sample_date                                                                 \n",
       "2020-12-13                             425     0    0     96     78    0   0\n",
       "2020-12-12                            1002    13   52   1629    662  100  38\n",
       "2020-12-11                            1666  2775   87   5372   1190  100  53\n",
       "2020-12-10                            2253  5838  120   9252   1648  100  73\n",
       "2020-12-09                            2666  8426  141  12628   6385  100  86"
      ]
     },
     "execution_count": 23,
     "metadata": {},
     "output_type": "execute_result"
    }
   ],
   "source": [
    "multi_backend_summary_df = multi_backend_exposure_keys_df.groupby(\n",
    "    [\"sample_date_string\", \"region\"]).key_data.nunique().reset_index() \\\n",
    "    .pivot(index=\"sample_date_string\", columns=\"region\") \\\n",
    "    .sort_index(ascending=False)\n",
    "multi_backend_summary_df.rename(\n",
    "    columns={\"key_data\": \"shared_teks_by_generation_date\"},\n",
    "    inplace=True)\n",
    "multi_backend_summary_df.rename_axis(\"sample_date\", inplace=True)\n",
    "multi_backend_summary_df = multi_backend_summary_df.fillna(0).astype(int)\n",
    "multi_backend_summary_df = multi_backend_summary_df.head(backend_generation_days)\n",
    "multi_backend_summary_df.head()"
   ]
  },
  {
   "cell_type": "code",
   "execution_count": 24,
   "metadata": {
    "collapsed": false,
    "execution": {
     "iopub.execute_input": "2020-12-13T23:26:44.668147Z",
     "iopub.status.busy": "2020-12-13T23:26:44.666954Z",
     "iopub.status.idle": "2020-12-13T23:26:47.827122Z",
     "shell.execute_reply": "2020-12-13T23:26:47.827586Z"
    },
    "papermill": {
     "duration": 3.214152,
     "end_time": "2020-12-13T23:26:47.827738",
     "exception": false,
     "start_time": "2020-12-13T23:26:44.613586",
     "status": "completed"
    },
    "pycharm": {
     "name": "#%%\n"
    },
    "tags": []
   },
   "outputs": [
    {
     "name": "stderr",
     "output_type": "stream",
     "text": [
      "<ipython-input-24-4e21708c19d8>:2: FutureWarning: `item` has been deprecated and will be removed in a future version\n",
      "  teks_x = x.key_data_x.item()\n",
      "<ipython-input-24-4e21708c19d8>:3: FutureWarning: `item` has been deprecated and will be removed in a future version\n",
      "  common_teks = set(teks_x).intersection(x.key_data_y.item())\n"
     ]
    },
    {
     "name": "stderr",
     "output_type": "stream",
     "text": [
      "<ipython-input-24-4e21708c19d8>:33: FutureWarning: `item` has been deprecated and will be removed in a future version\n",
      "  aggfunc=lambda x: x.item())\n"
     ]
    },
    {
     "data": {
      "text/html": [
       "<div>\n",
       "<style scoped>\n",
       "    .dataframe tbody tr th:only-of-type {\n",
       "        vertical-align: middle;\n",
       "    }\n",
       "\n",
       "    .dataframe tbody tr th {\n",
       "        vertical-align: top;\n",
       "    }\n",
       "\n",
       "    .dataframe thead tr th {\n",
       "        text-align: left;\n",
       "    }\n",
       "\n",
       "    .dataframe thead tr:last-of-type th {\n",
       "        text-align: right;\n",
       "    }\n",
       "</style>\n",
       "<table border=\"1\" class=\"dataframe\">\n",
       "  <thead>\n",
       "    <tr>\n",
       "      <th></th>\n",
       "      <th colspan=\"7\" halign=\"left\">common_teks_fraction</th>\n",
       "    </tr>\n",
       "    <tr>\n",
       "      <th>region_x</th>\n",
       "      <th>CH</th>\n",
       "      <th>DE</th>\n",
       "      <th>EE</th>\n",
       "      <th>ES</th>\n",
       "      <th>ES@PRE</th>\n",
       "      <th>MT</th>\n",
       "      <th>PT</th>\n",
       "    </tr>\n",
       "    <tr>\n",
       "      <th>region_y</th>\n",
       "      <th></th>\n",
       "      <th></th>\n",
       "      <th></th>\n",
       "      <th></th>\n",
       "      <th></th>\n",
       "      <th></th>\n",
       "      <th></th>\n",
       "    </tr>\n",
       "  </thead>\n",
       "  <tbody>\n",
       "    <tr>\n",
       "      <th>CH</th>\n",
       "      <td>NaN</td>\n",
       "      <td>0.000030</td>\n",
       "      <td>0.0</td>\n",
       "      <td>0.000021</td>\n",
       "      <td>0.0</td>\n",
       "      <td>0.0</td>\n",
       "      <td>0.0</td>\n",
       "    </tr>\n",
       "    <tr>\n",
       "      <th>DE</th>\n",
       "      <td>0.000163</td>\n",
       "      <td>NaN</td>\n",
       "      <td>0.0</td>\n",
       "      <td>0.680486</td>\n",
       "      <td>0.0</td>\n",
       "      <td>0.0</td>\n",
       "      <td>0.0</td>\n",
       "    </tr>\n",
       "    <tr>\n",
       "      <th>EE</th>\n",
       "      <td>0.000000</td>\n",
       "      <td>0.000000</td>\n",
       "      <td>NaN</td>\n",
       "      <td>0.000000</td>\n",
       "      <td>0.0</td>\n",
       "      <td>0.0</td>\n",
       "      <td>0.0</td>\n",
       "    </tr>\n",
       "    <tr>\n",
       "      <th>ES</th>\n",
       "      <td>0.000163</td>\n",
       "      <td>0.975909</td>\n",
       "      <td>0.0</td>\n",
       "      <td>NaN</td>\n",
       "      <td>0.0</td>\n",
       "      <td>0.0</td>\n",
       "      <td>0.0</td>\n",
       "    </tr>\n",
       "    <tr>\n",
       "      <th>ES@PRE</th>\n",
       "      <td>0.000000</td>\n",
       "      <td>0.000000</td>\n",
       "      <td>0.0</td>\n",
       "      <td>0.000000</td>\n",
       "      <td>NaN</td>\n",
       "      <td>0.0</td>\n",
       "      <td>0.0</td>\n",
       "    </tr>\n",
       "    <tr>\n",
       "      <th>MT</th>\n",
       "      <td>0.000000</td>\n",
       "      <td>0.000000</td>\n",
       "      <td>0.0</td>\n",
       "      <td>0.000000</td>\n",
       "      <td>0.0</td>\n",
       "      <td>NaN</td>\n",
       "      <td>0.0</td>\n",
       "    </tr>\n",
       "    <tr>\n",
       "      <th>PT</th>\n",
       "      <td>0.000000</td>\n",
       "      <td>0.000000</td>\n",
       "      <td>0.0</td>\n",
       "      <td>0.000000</td>\n",
       "      <td>0.0</td>\n",
       "      <td>0.0</td>\n",
       "      <td>NaN</td>\n",
       "    </tr>\n",
       "  </tbody>\n",
       "</table>\n",
       "</div>"
      ],
      "text/plain": [
       "         common_teks_fraction                                          \n",
       "region_x                   CH        DE   EE        ES ES@PRE   MT   PT\n",
       "region_y                                                               \n",
       "CH                        NaN  0.000030  0.0  0.000021    0.0  0.0  0.0\n",
       "DE                   0.000163       NaN  0.0  0.680486    0.0  0.0  0.0\n",
       "EE                   0.000000  0.000000  NaN  0.000000    0.0  0.0  0.0\n",
       "ES                   0.000163  0.975909  0.0       NaN    0.0  0.0  0.0\n",
       "ES@PRE               0.000000  0.000000  0.0  0.000000    NaN  0.0  0.0\n",
       "MT                   0.000000  0.000000  0.0  0.000000    0.0  NaN  0.0\n",
       "PT                   0.000000  0.000000  0.0  0.000000    0.0  0.0  NaN"
      ]
     },
     "execution_count": 24,
     "metadata": {},
     "output_type": "execute_result"
    }
   ],
   "source": [
    "def compute_keys_cross_sharing(x):\n",
    "    teks_x = x.key_data_x.item()\n",
    "    common_teks = set(teks_x).intersection(x.key_data_y.item())\n",
    "    common_teks_fraction = len(common_teks) / len(teks_x)\n",
    "    return pd.Series(dict(\n",
    "        common_teks=common_teks,\n",
    "        common_teks_fraction=common_teks_fraction,\n",
    "    ))\n",
    "\n",
    "multi_backend_exposure_keys_by_region_df = \\\n",
    "    multi_backend_exposure_keys_df.groupby(\"region\").key_data.unique().reset_index()\n",
    "multi_backend_exposure_keys_by_region_df[\"_merge\"] = True\n",
    "multi_backend_exposure_keys_by_region_combination_df = \\\n",
    "    multi_backend_exposure_keys_by_region_df.merge(\n",
    "        multi_backend_exposure_keys_by_region_df, on=\"_merge\")\n",
    "multi_backend_exposure_keys_by_region_combination_df.drop(\n",
    "    columns=[\"_merge\"], inplace=True)\n",
    "if multi_backend_exposure_keys_by_region_combination_df.region_x.nunique() > 1:\n",
    "    multi_backend_exposure_keys_by_region_combination_df = \\\n",
    "        multi_backend_exposure_keys_by_region_combination_df[\n",
    "            multi_backend_exposure_keys_by_region_combination_df.region_x !=\n",
    "            multi_backend_exposure_keys_by_region_combination_df.region_y]\n",
    "multi_backend_exposure_keys_cross_sharing_df = \\\n",
    "    multi_backend_exposure_keys_by_region_combination_df \\\n",
    "        .groupby([\"region_x\", \"region_y\"]) \\\n",
    "        .apply(compute_keys_cross_sharing) \\\n",
    "        .reset_index()\n",
    "multi_backend_cross_sharing_summary_df = \\\n",
    "    multi_backend_exposure_keys_cross_sharing_df.pivot_table(\n",
    "        values=[\"common_teks_fraction\"],\n",
    "        columns=\"region_x\",\n",
    "        index=\"region_y\",\n",
    "        aggfunc=lambda x: x.item())\n",
    "multi_backend_cross_sharing_summary_df"
   ]
  },
  {
   "cell_type": "code",
   "execution_count": 25,
   "metadata": {
    "collapsed": false,
    "execution": {
     "iopub.execute_input": "2020-12-13T23:26:47.966988Z",
     "iopub.status.busy": "2020-12-13T23:26:47.966504Z",
     "iopub.status.idle": "2020-12-13T23:26:49.441525Z",
     "shell.execute_reply": "2020-12-13T23:26:49.440857Z"
    },
    "papermill": {
     "duration": 1.561848,
     "end_time": "2020-12-13T23:26:49.441693",
     "exception": false,
     "start_time": "2020-12-13T23:26:47.879845",
     "status": "completed"
    },
    "pycharm": {
     "name": "#%%\n"
    },
    "tags": []
   },
   "outputs": [
    {
     "data": {
      "text/plain": [
       "['PT', 'MT', 'EE', 'CH', 'ES@PRE', 'DE']"
      ]
     },
     "execution_count": 25,
     "metadata": {},
     "output_type": "execute_result"
    }
   ],
   "source": [
    "multi_backend_without_active_region_exposure_keys_df = \\\n",
    "    multi_backend_exposure_keys_df[multi_backend_exposure_keys_df.region != report_backend_identifier]\n",
    "multi_backend_without_active_region = \\\n",
    "    multi_backend_without_active_region_exposure_keys_df.groupby(\"region\").key_data.nunique().sort_values().index.unique().tolist()\n",
    "multi_backend_without_active_region"
   ]
  },
  {
   "cell_type": "code",
   "execution_count": 26,
   "metadata": {
    "execution": {
     "iopub.execute_input": "2020-12-13T23:26:49.572725Z",
     "iopub.status.busy": "2020-12-13T23:26:49.572166Z",
     "iopub.status.idle": "2020-12-13T23:26:51.292730Z",
     "shell.execute_reply": "2020-12-13T23:26:51.293185Z"
    },
    "papermill": {
     "duration": 1.801484,
     "end_time": "2020-12-13T23:26:51.293341",
     "exception": false,
     "start_time": "2020-12-13T23:26:49.491857",
     "status": "completed"
    },
    "scrolled": false,
    "tags": []
   },
   "outputs": [
    {
     "name": "stderr",
     "output_type": "stream",
     "text": [
      "/opt/hostedtoolcache/Python/3.8.6/x64/lib/python3.8/site-packages/pandas/core/frame.py:4110: SettingWithCopyWarning: \n",
      "A value is trying to be set on a copy of a slice from a DataFrame\n",
      "\n",
      "See the caveats in the documentation: http://pandas.pydata.org/pandas-docs/stable/user_guide/indexing.html#returning-a-view-versus-a-copy\n",
      "  return super().drop(\n"
     ]
    },
    {
     "data": {
      "text/html": [
       "<div>\n",
       "<style scoped>\n",
       "    .dataframe tbody tr th:only-of-type {\n",
       "        vertical-align: middle;\n",
       "    }\n",
       "\n",
       "    .dataframe tbody tr th {\n",
       "        vertical-align: top;\n",
       "    }\n",
       "\n",
       "    .dataframe thead th {\n",
       "        text-align: right;\n",
       "    }\n",
       "</style>\n",
       "<table border=\"1\" class=\"dataframe\">\n",
       "  <thead>\n",
       "    <tr style=\"text-align: right;\">\n",
       "      <th></th>\n",
       "      <th>shared_teks_by_generation_date</th>\n",
       "    </tr>\n",
       "    <tr>\n",
       "      <th>sample_date_string</th>\n",
       "      <th></th>\n",
       "    </tr>\n",
       "  </thead>\n",
       "  <tbody>\n",
       "    <tr>\n",
       "      <th>2020-12-13</th>\n",
       "      <td>96</td>\n",
       "    </tr>\n",
       "    <tr>\n",
       "      <th>2020-12-12</th>\n",
       "      <td>1629</td>\n",
       "    </tr>\n",
       "    <tr>\n",
       "      <th>2020-12-11</th>\n",
       "      <td>5372</td>\n",
       "    </tr>\n",
       "    <tr>\n",
       "      <th>2020-12-10</th>\n",
       "      <td>9252</td>\n",
       "    </tr>\n",
       "    <tr>\n",
       "      <th>2020-12-09</th>\n",
       "      <td>12628</td>\n",
       "    </tr>\n",
       "  </tbody>\n",
       "</table>\n",
       "</div>"
      ],
      "text/plain": [
       "                    shared_teks_by_generation_date\n",
       "sample_date_string                                \n",
       "2020-12-13                                      96\n",
       "2020-12-12                                    1629\n",
       "2020-12-11                                    5372\n",
       "2020-12-10                                    9252\n",
       "2020-12-09                                   12628"
      ]
     },
     "execution_count": 26,
     "metadata": {},
     "output_type": "execute_result"
    }
   ],
   "source": [
    "exposure_keys_summary_df = multi_backend_exposure_keys_df[\n",
    "    multi_backend_exposure_keys_df.region == report_backend_identifier]\n",
    "exposure_keys_summary_df.drop(columns=[\"region\"], inplace=True)\n",
    "exposure_keys_summary_df = \\\n",
    "    exposure_keys_summary_df.groupby([\"sample_date_string\"]).key_data.nunique().to_frame()\n",
    "exposure_keys_summary_df = \\\n",
    "    exposure_keys_summary_df.reset_index().set_index(\"sample_date_string\")\n",
    "exposure_keys_summary_df.sort_index(ascending=False, inplace=True)\n",
    "exposure_keys_summary_df.rename(columns={\"key_data\": \"shared_teks_by_generation_date\"}, inplace=True)\n",
    "exposure_keys_summary_df.head()"
   ]
  },
  {
   "cell_type": "markdown",
   "metadata": {
    "papermill": {
     "duration": 0.04643,
     "end_time": "2020-12-13T23:26:51.394486",
     "exception": false,
     "start_time": "2020-12-13T23:26:51.348056",
     "status": "completed"
    },
    "tags": []
   },
   "source": [
    "### Dump API TEKs"
   ]
  },
  {
   "cell_type": "code",
   "execution_count": 27,
   "metadata": {
    "execution": {
     "iopub.execute_input": "2020-12-13T23:26:51.497757Z",
     "iopub.status.busy": "2020-12-13T23:26:51.496744Z",
     "iopub.status.idle": "2020-12-13T23:26:53.668589Z",
     "shell.execute_reply": "2020-12-13T23:26:53.669137Z"
    },
    "papermill": {
     "duration": 2.226342,
     "end_time": "2020-12-13T23:26:53.669370",
     "exception": false,
     "start_time": "2020-12-13T23:26:51.443028",
     "status": "completed"
    },
    "tags": []
   },
   "outputs": [
    {
     "data": {
      "text/html": [
       "<div>\n",
       "<style scoped>\n",
       "    .dataframe tbody tr th:only-of-type {\n",
       "        vertical-align: middle;\n",
       "    }\n",
       "\n",
       "    .dataframe tbody tr th {\n",
       "        vertical-align: top;\n",
       "    }\n",
       "\n",
       "    .dataframe thead th {\n",
       "        text-align: right;\n",
       "    }\n",
       "</style>\n",
       "<table border=\"1\" class=\"dataframe\">\n",
       "  <thead>\n",
       "    <tr style=\"text-align: right;\">\n",
       "      <th></th>\n",
       "      <th>sample_date</th>\n",
       "      <th>region</th>\n",
       "      <th>tek_list</th>\n",
       "      <th>extraction_date</th>\n",
       "      <th>extraction_date_with_hour</th>\n",
       "    </tr>\n",
       "  </thead>\n",
       "  <tbody>\n",
       "    <tr>\n",
       "      <th>0</th>\n",
       "      <td>2020-11-30</td>\n",
       "      <td>CH</td>\n",
       "      <td>[5b393529-421e-748d-179c-7d404c292ff3, 8def3af...</td>\n",
       "      <td>2020-12-13</td>\n",
       "      <td>2020-12-13@23</td>\n",
       "    </tr>\n",
       "    <tr>\n",
       "      <th>1</th>\n",
       "      <td>2020-11-30</td>\n",
       "      <td>DE</td>\n",
       "      <td>[be62b40a-a78e-0c55-4991-9cc3bbd7094a, ed65e83...</td>\n",
       "      <td>2020-12-13</td>\n",
       "      <td>2020-12-13@23</td>\n",
       "    </tr>\n",
       "    <tr>\n",
       "      <th>2</th>\n",
       "      <td>2020-11-30</td>\n",
       "      <td>EE</td>\n",
       "      <td>[ee62b2f3-c205-805b-41bb-f4ce04589c20, 4e1c93d...</td>\n",
       "      <td>2020-12-13</td>\n",
       "      <td>2020-12-13@23</td>\n",
       "    </tr>\n",
       "    <tr>\n",
       "      <th>3</th>\n",
       "      <td>2020-11-30</td>\n",
       "      <td>ES</td>\n",
       "      <td>[ed8099c8-b049-93bd-382a-37ba178534e7, ad375d7...</td>\n",
       "      <td>2020-12-13</td>\n",
       "      <td>2020-12-13@23</td>\n",
       "    </tr>\n",
       "    <tr>\n",
       "      <th>4</th>\n",
       "      <td>2020-11-30</td>\n",
       "      <td>ES@PRE</td>\n",
       "      <td>[59667849-7353-3066-3267-316675473139, 62386a6...</td>\n",
       "      <td>2020-12-13</td>\n",
       "      <td>2020-12-13@23</td>\n",
       "    </tr>\n",
       "  </tbody>\n",
       "</table>\n",
       "</div>"
      ],
      "text/plain": [
       "  sample_date  region                                           tek_list  \\\n",
       "0  2020-11-30      CH  [5b393529-421e-748d-179c-7d404c292ff3, 8def3af...   \n",
       "1  2020-11-30      DE  [be62b40a-a78e-0c55-4991-9cc3bbd7094a, ed65e83...   \n",
       "2  2020-11-30      EE  [ee62b2f3-c205-805b-41bb-f4ce04589c20, 4e1c93d...   \n",
       "3  2020-11-30      ES  [ed8099c8-b049-93bd-382a-37ba178534e7, ad375d7...   \n",
       "4  2020-11-30  ES@PRE  [59667849-7353-3066-3267-316675473139, 62386a6...   \n",
       "\n",
       "  extraction_date extraction_date_with_hour  \n",
       "0      2020-12-13             2020-12-13@23  \n",
       "1      2020-12-13             2020-12-13@23  \n",
       "2      2020-12-13             2020-12-13@23  \n",
       "3      2020-12-13             2020-12-13@23  \n",
       "4      2020-12-13             2020-12-13@23  "
      ]
     },
     "execution_count": 27,
     "metadata": {},
     "output_type": "execute_result"
    }
   ],
   "source": [
    "tek_list_df = multi_backend_exposure_keys_df[\n",
    "    [\"sample_date_string\", \"region\", \"key_data\"]].copy()\n",
    "tek_list_df[\"key_data\"] = tek_list_df[\"key_data\"].apply(str)\n",
    "tek_list_df.rename(columns={\n",
    "    \"sample_date_string\": \"sample_date\",\n",
    "    \"key_data\": \"tek_list\"}, inplace=True)\n",
    "tek_list_df = tek_list_df.groupby(\n",
    "    [\"sample_date\", \"region\"]).tek_list.unique().reset_index()\n",
    "tek_list_df[\"extraction_date\"] = extraction_date\n",
    "tek_list_df[\"extraction_date_with_hour\"] = extraction_date_with_hour\n",
    "\n",
    "tek_list_path_prefix = \"Data/TEKs/\"\n",
    "tek_list_current_path = tek_list_path_prefix + f\"/Current/RadarCOVID-TEKs.json\"\n",
    "tek_list_daily_path = tek_list_path_prefix + f\"Daily/RadarCOVID-TEKs-{extraction_date}.json\"\n",
    "tek_list_hourly_path = tek_list_path_prefix + f\"Hourly/RadarCOVID-TEKs-{extraction_date_with_hour}.json\"\n",
    "\n",
    "for path in [tek_list_current_path, tek_list_daily_path, tek_list_hourly_path]:\n",
    "    os.makedirs(os.path.dirname(path), exist_ok=True)\n",
    "\n",
    "tek_list_df.drop(columns=[\"extraction_date\", \"extraction_date_with_hour\"]).to_json(\n",
    "    tek_list_current_path,\n",
    "    lines=True, orient=\"records\")\n",
    "tek_list_df.drop(columns=[\"extraction_date_with_hour\"]).to_json(\n",
    "    tek_list_daily_path,\n",
    "    lines=True, orient=\"records\")\n",
    "tek_list_df.to_json(\n",
    "    tek_list_hourly_path,\n",
    "    lines=True, orient=\"records\")\n",
    "tek_list_df.head()"
   ]
  },
  {
   "cell_type": "markdown",
   "metadata": {
    "papermill": {
     "duration": 0.048174,
     "end_time": "2020-12-13T23:26:53.770907",
     "exception": false,
     "start_time": "2020-12-13T23:26:53.722733",
     "status": "completed"
    },
    "tags": []
   },
   "source": [
    "### Load TEK Dumps"
   ]
  },
  {
   "cell_type": "code",
   "execution_count": 28,
   "metadata": {
    "execution": {
     "iopub.execute_input": "2020-12-13T23:26:53.883092Z",
     "iopub.status.busy": "2020-12-13T23:26:53.882574Z",
     "iopub.status.idle": "2020-12-13T23:26:53.885827Z",
     "shell.execute_reply": "2020-12-13T23:26:53.886633Z"
    },
    "papermill": {
     "duration": 0.068831,
     "end_time": "2020-12-13T23:26:53.886766",
     "exception": false,
     "start_time": "2020-12-13T23:26:53.817935",
     "status": "completed"
    },
    "tags": []
   },
   "outputs": [],
   "source": [
    "import glob\n",
    "\n",
    "def load_extracted_teks(mode, region=None, limit=None) -> pd.DataFrame:\n",
    "    extracted_teks_df = pd.DataFrame(columns=[\"region\"])\n",
    "    file_paths = list(reversed(sorted(glob.glob(tek_list_path_prefix + mode + \"/RadarCOVID-TEKs-*.json\"))))\n",
    "    if limit:\n",
    "        file_paths = file_paths[:limit]\n",
    "    for file_path in file_paths:\n",
    "        logging.info(f\"Loading TEKs from '{file_path}'...\")\n",
    "        iteration_extracted_teks_df = pd.read_json(file_path, lines=True)\n",
    "        extracted_teks_df = extracted_teks_df.append(\n",
    "            iteration_extracted_teks_df, sort=False)\n",
    "    extracted_teks_df[\"region\"] = \\\n",
    "        extracted_teks_df.region.fillna(spain_region_country_code).copy()\n",
    "    if region:\n",
    "        extracted_teks_df = \\\n",
    "            extracted_teks_df[extracted_teks_df.region == region]\n",
    "    return extracted_teks_df"
   ]
  },
  {
   "cell_type": "code",
   "execution_count": 29,
   "metadata": {
    "collapsed": false,
    "execution": {
     "iopub.execute_input": "2020-12-13T23:26:53.997053Z",
     "iopub.status.busy": "2020-12-13T23:26:53.996381Z",
     "iopub.status.idle": "2020-12-13T23:27:14.059689Z",
     "shell.execute_reply": "2020-12-13T23:27:14.060240Z"
    },
    "papermill": {
     "duration": 20.123734,
     "end_time": "2020-12-13T23:27:14.060419",
     "exception": false,
     "start_time": "2020-12-13T23:26:53.936685",
     "status": "completed"
    },
    "pycharm": {
     "name": "#%%\n"
    },
    "tags": []
   },
   "outputs": [
    {
     "data": {
      "text/html": [
       "<div>\n",
       "<style scoped>\n",
       "    .dataframe tbody tr th:only-of-type {\n",
       "        vertical-align: middle;\n",
       "    }\n",
       "\n",
       "    .dataframe tbody tr th {\n",
       "        vertical-align: top;\n",
       "    }\n",
       "\n",
       "    .dataframe thead th {\n",
       "        text-align: right;\n",
       "    }\n",
       "</style>\n",
       "<table border=\"1\" class=\"dataframe\">\n",
       "  <thead>\n",
       "    <tr style=\"text-align: right;\">\n",
       "      <th></th>\n",
       "      <th>region</th>\n",
       "      <th>sample_date</th>\n",
       "      <th>tek_list</th>\n",
       "      <th>extraction_date</th>\n",
       "    </tr>\n",
       "  </thead>\n",
       "  <tbody>\n",
       "    <tr>\n",
       "      <th>3</th>\n",
       "      <td>ES</td>\n",
       "      <td>2020-11-30</td>\n",
       "      <td>[ed8099c8-b049-93bd-382a-37ba178534e7, ad375d7...</td>\n",
       "      <td>2020-12-13</td>\n",
       "    </tr>\n",
       "    <tr>\n",
       "      <th>10</th>\n",
       "      <td>ES</td>\n",
       "      <td>2020-12-01</td>\n",
       "      <td>[22060e61-da6a-9284-d8a0-d573ecd8df19, aed9832...</td>\n",
       "      <td>2020-12-13</td>\n",
       "    </tr>\n",
       "    <tr>\n",
       "      <th>17</th>\n",
       "      <td>ES</td>\n",
       "      <td>2020-12-02</td>\n",
       "      <td>[f3803879-87d5-ed98-d004-00e3be4bd225, 77992f6...</td>\n",
       "      <td>2020-12-13</td>\n",
       "    </tr>\n",
       "    <tr>\n",
       "      <th>24</th>\n",
       "      <td>ES</td>\n",
       "      <td>2020-12-03</td>\n",
       "      <td>[a820caf1-7999-3f3d-50d9-3a7301f76ca8, f211f01...</td>\n",
       "      <td>2020-12-13</td>\n",
       "    </tr>\n",
       "    <tr>\n",
       "      <th>31</th>\n",
       "      <td>ES</td>\n",
       "      <td>2020-12-04</td>\n",
       "      <td>[88505f41-7cc2-cbcb-40ec-a4942e5b1385, 88389fb...</td>\n",
       "      <td>2020-12-13</td>\n",
       "    </tr>\n",
       "  </tbody>\n",
       "</table>\n",
       "</div>"
      ],
      "text/plain": [
       "   region sample_date                                           tek_list  \\\n",
       "3      ES  2020-11-30  [ed8099c8-b049-93bd-382a-37ba178534e7, ad375d7...   \n",
       "10     ES  2020-12-01  [22060e61-da6a-9284-d8a0-d573ecd8df19, aed9832...   \n",
       "17     ES  2020-12-02  [f3803879-87d5-ed98-d004-00e3be4bd225, 77992f6...   \n",
       "24     ES  2020-12-03  [a820caf1-7999-3f3d-50d9-3a7301f76ca8, f211f01...   \n",
       "31     ES  2020-12-04  [88505f41-7cc2-cbcb-40ec-a4942e5b1385, 88389fb...   \n",
       "\n",
       "   extraction_date  \n",
       "3       2020-12-13  \n",
       "10      2020-12-13  \n",
       "17      2020-12-13  \n",
       "24      2020-12-13  \n",
       "31      2020-12-13  "
      ]
     },
     "execution_count": 29,
     "metadata": {},
     "output_type": "execute_result"
    }
   ],
   "source": [
    "daily_extracted_teks_df = load_extracted_teks(\n",
    "    mode=\"Daily\",\n",
    "    region=report_backend_identifier,\n",
    "    limit=tek_dumps_load_limit)\n",
    "daily_extracted_teks_df.head()"
   ]
  },
  {
   "cell_type": "code",
   "execution_count": 30,
   "metadata": {
    "collapsed": false,
    "execution": {
     "iopub.execute_input": "2020-12-13T23:27:14.195027Z",
     "iopub.status.busy": "2020-12-13T23:27:14.194515Z",
     "iopub.status.idle": "2020-12-13T23:27:14.217545Z",
     "shell.execute_reply": "2020-12-13T23:27:14.217108Z"
    },
    "papermill": {
     "duration": 0.084204,
     "end_time": "2020-12-13T23:27:14.217662",
     "exception": false,
     "start_time": "2020-12-13T23:27:14.133458",
     "status": "completed"
    },
    "pycharm": {
     "name": "#%%\n"
    },
    "tags": []
   },
   "outputs": [
    {
     "data": {
      "text/html": [
       "<div>\n",
       "<style scoped>\n",
       "    .dataframe tbody tr th:only-of-type {\n",
       "        vertical-align: middle;\n",
       "    }\n",
       "\n",
       "    .dataframe tbody tr th {\n",
       "        vertical-align: top;\n",
       "    }\n",
       "\n",
       "    .dataframe thead th {\n",
       "        text-align: right;\n",
       "    }\n",
       "</style>\n",
       "<table border=\"1\" class=\"dataframe\">\n",
       "  <thead>\n",
       "    <tr style=\"text-align: right;\">\n",
       "      <th></th>\n",
       "      <th>shared_teks_by_generation_date</th>\n",
       "    </tr>\n",
       "    <tr>\n",
       "      <th>sample_date_string</th>\n",
       "      <th></th>\n",
       "    </tr>\n",
       "  </thead>\n",
       "  <tbody>\n",
       "    <tr>\n",
       "      <th>2020-12-13</th>\n",
       "      <td>96</td>\n",
       "    </tr>\n",
       "    <tr>\n",
       "      <th>2020-12-12</th>\n",
       "      <td>1629</td>\n",
       "    </tr>\n",
       "    <tr>\n",
       "      <th>2020-12-11</th>\n",
       "      <td>5372</td>\n",
       "    </tr>\n",
       "    <tr>\n",
       "      <th>2020-12-10</th>\n",
       "      <td>9252</td>\n",
       "    </tr>\n",
       "    <tr>\n",
       "      <th>2020-12-09</th>\n",
       "      <td>12628</td>\n",
       "    </tr>\n",
       "  </tbody>\n",
       "</table>\n",
       "</div>"
      ],
      "text/plain": [
       "                    shared_teks_by_generation_date\n",
       "sample_date_string                                \n",
       "2020-12-13                                      96\n",
       "2020-12-12                                    1629\n",
       "2020-12-11                                    5372\n",
       "2020-12-10                                    9252\n",
       "2020-12-09                                   12628"
      ]
     },
     "execution_count": 30,
     "metadata": {},
     "output_type": "execute_result"
    }
   ],
   "source": [
    "exposure_keys_summary_df_ = daily_extracted_teks_df \\\n",
    "    .sort_values(\"extraction_date\", ascending=False) \\\n",
    "    .groupby(\"sample_date\").tek_list.first() \\\n",
    "    .to_frame()\n",
    "exposure_keys_summary_df_.index.name = \"sample_date_string\"\n",
    "exposure_keys_summary_df_[\"tek_list\"] = \\\n",
    "    exposure_keys_summary_df_.tek_list.apply(len)\n",
    "exposure_keys_summary_df_ = exposure_keys_summary_df_ \\\n",
    "    .rename(columns={\"tek_list\": \"shared_teks_by_generation_date\"}) \\\n",
    "    .sort_index(ascending=False)\n",
    "exposure_keys_summary_df = exposure_keys_summary_df_\n",
    "exposure_keys_summary_df.head()"
   ]
  },
  {
   "cell_type": "markdown",
   "metadata": {
    "execution": {
     "iopub.execute_input": "2020-08-30T22:30:16.632967Z",
     "iopub.status.busy": "2020-08-30T22:30:16.632308Z",
     "iopub.status.idle": "2020-08-30T22:30:16.634945Z",
     "shell.execute_reply": "2020-08-30T22:30:16.635575Z"
    },
    "papermill": {
     "duration": 0.05101,
     "end_time": "2020-12-13T23:27:14.325837",
     "exception": false,
     "start_time": "2020-12-13T23:27:14.274827",
     "status": "completed"
    },
    "pycharm": {
     "name": "#%% md\n"
    },
    "tags": []
   },
   "source": [
    "### Daily New TEKs"
   ]
  },
  {
   "cell_type": "code",
   "execution_count": 31,
   "metadata": {
    "execution": {
     "iopub.execute_input": "2020-12-13T23:27:14.431535Z",
     "iopub.status.busy": "2020-12-13T23:27:14.430960Z",
     "iopub.status.idle": "2020-12-13T23:27:16.163031Z",
     "shell.execute_reply": "2020-12-13T23:27:16.163434Z"
    },
    "papermill": {
     "duration": 1.787477,
     "end_time": "2020-12-13T23:27:16.163582",
     "exception": false,
     "start_time": "2020-12-13T23:27:14.376105",
     "status": "completed"
    },
    "tags": []
   },
   "outputs": [
    {
     "data": {
      "text/html": [
       "<div>\n",
       "<style scoped>\n",
       "    .dataframe tbody tr th:only-of-type {\n",
       "        vertical-align: middle;\n",
       "    }\n",
       "\n",
       "    .dataframe tbody tr th {\n",
       "        vertical-align: top;\n",
       "    }\n",
       "\n",
       "    .dataframe thead th {\n",
       "        text-align: right;\n",
       "    }\n",
       "</style>\n",
       "<table border=\"1\" class=\"dataframe\">\n",
       "  <thead>\n",
       "    <tr style=\"text-align: right;\">\n",
       "      <th></th>\n",
       "      <th>tek_list</th>\n",
       "    </tr>\n",
       "    <tr>\n",
       "      <th>extraction_date</th>\n",
       "      <th></th>\n",
       "    </tr>\n",
       "  </thead>\n",
       "  <tbody>\n",
       "    <tr>\n",
       "      <th>2020-09-20</th>\n",
       "      <td>{bdcbcfca-b2bc-2728-4e40-7a6ce8194fdb, fe8d532...</td>\n",
       "    </tr>\n",
       "    <tr>\n",
       "      <th>2020-09-21</th>\n",
       "      <td>{bdcbcfca-b2bc-2728-4e40-7a6ce8194fdb, fe8d532...</td>\n",
       "    </tr>\n",
       "    <tr>\n",
       "      <th>2020-09-22</th>\n",
       "      <td>{bdcbcfca-b2bc-2728-4e40-7a6ce8194fdb, fe20bfd...</td>\n",
       "    </tr>\n",
       "    <tr>\n",
       "      <th>2020-09-23</th>\n",
       "      <td>{fe8d532c-c325-1e22-30bc-0323ac0294bf, 1e5d21f...</td>\n",
       "    </tr>\n",
       "    <tr>\n",
       "      <th>2020-09-24</th>\n",
       "      <td>{fe8d532c-c325-1e22-30bc-0323ac0294bf, 1e5d21f...</td>\n",
       "    </tr>\n",
       "  </tbody>\n",
       "</table>\n",
       "</div>"
      ],
      "text/plain": [
       "                                                          tek_list\n",
       "extraction_date                                                   \n",
       "2020-09-20       {bdcbcfca-b2bc-2728-4e40-7a6ce8194fdb, fe8d532...\n",
       "2020-09-21       {bdcbcfca-b2bc-2728-4e40-7a6ce8194fdb, fe8d532...\n",
       "2020-09-22       {bdcbcfca-b2bc-2728-4e40-7a6ce8194fdb, fe20bfd...\n",
       "2020-09-23       {fe8d532c-c325-1e22-30bc-0323ac0294bf, 1e5d21f...\n",
       "2020-09-24       {fe8d532c-c325-1e22-30bc-0323ac0294bf, 1e5d21f..."
      ]
     },
     "execution_count": 31,
     "metadata": {},
     "output_type": "execute_result"
    }
   ],
   "source": [
    "tek_list_df = daily_extracted_teks_df.groupby(\"extraction_date\").tek_list.apply(\n",
    "    lambda x: set(sum(x, []))).reset_index()\n",
    "tek_list_df = tek_list_df.set_index(\"extraction_date\").sort_index(ascending=True)\n",
    "tek_list_df.head()"
   ]
  },
  {
   "cell_type": "code",
   "execution_count": 32,
   "metadata": {
    "collapsed": false,
    "execution": {
     "iopub.execute_input": "2020-12-13T23:27:17.718314Z",
     "iopub.status.busy": "2020-12-13T23:27:16.809867Z",
     "iopub.status.idle": "2020-12-13T23:28:32.764845Z",
     "shell.execute_reply": "2020-12-13T23:28:32.765251Z"
    },
    "papermill": {
     "duration": 76.546912,
     "end_time": "2020-12-13T23:28:32.765396",
     "exception": false,
     "start_time": "2020-12-13T23:27:16.218484",
     "status": "completed"
    },
    "pycharm": {
     "name": "#%%\n"
    },
    "tags": []
   },
   "outputs": [
    {
     "name": "stderr",
     "output_type": "stream",
     "text": [
      "<ipython-input-32-827222b35590>:4: FutureWarning: `item` has been deprecated and will be removed in a future version\n",
      "  day_new_teks_set = day_new_teks_set_df[\n"
     ]
    },
    {
     "data": {
      "text/html": [
       "<div>\n",
       "<style scoped>\n",
       "    .dataframe tbody tr th:only-of-type {\n",
       "        vertical-align: middle;\n",
       "    }\n",
       "\n",
       "    .dataframe tbody tr th {\n",
       "        vertical-align: top;\n",
       "    }\n",
       "\n",
       "    .dataframe thead th {\n",
       "        text-align: right;\n",
       "    }\n",
       "</style>\n",
       "<table border=\"1\" class=\"dataframe\">\n",
       "  <thead>\n",
       "    <tr style=\"text-align: right;\">\n",
       "      <th></th>\n",
       "      <th>upload_date</th>\n",
       "      <th>generation_date</th>\n",
       "      <th>shared_teks</th>\n",
       "      <th>generation_to_upload_days</th>\n",
       "    </tr>\n",
       "  </thead>\n",
       "  <tbody>\n",
       "    <tr>\n",
       "      <th>12</th>\n",
       "      <td>2020-09-21</td>\n",
       "      <td>2020-09-20</td>\n",
       "      <td>45</td>\n",
       "      <td>1</td>\n",
       "    </tr>\n",
       "    <tr>\n",
       "      <th>11</th>\n",
       "      <td>2020-09-21</td>\n",
       "      <td>2020-09-19</td>\n",
       "      <td>38</td>\n",
       "      <td>2</td>\n",
       "    </tr>\n",
       "    <tr>\n",
       "      <th>10</th>\n",
       "      <td>2020-09-21</td>\n",
       "      <td>2020-09-18</td>\n",
       "      <td>37</td>\n",
       "      <td>3</td>\n",
       "    </tr>\n",
       "    <tr>\n",
       "      <th>9</th>\n",
       "      <td>2020-09-21</td>\n",
       "      <td>2020-09-17</td>\n",
       "      <td>36</td>\n",
       "      <td>4</td>\n",
       "    </tr>\n",
       "    <tr>\n",
       "      <th>8</th>\n",
       "      <td>2020-09-21</td>\n",
       "      <td>2020-09-16</td>\n",
       "      <td>34</td>\n",
       "      <td>5</td>\n",
       "    </tr>\n",
       "  </tbody>\n",
       "</table>\n",
       "</div>"
      ],
      "text/plain": [
       "   upload_date generation_date  shared_teks  generation_to_upload_days\n",
       "12  2020-09-21      2020-09-20           45                          1\n",
       "11  2020-09-21      2020-09-19           38                          2\n",
       "10  2020-09-21      2020-09-18           37                          3\n",
       "9   2020-09-21      2020-09-17           36                          4\n",
       "8   2020-09-21      2020-09-16           34                          5"
      ]
     },
     "execution_count": 32,
     "metadata": {},
     "output_type": "execute_result"
    }
   ],
   "source": [
    "def compute_teks_by_generation_and_upload_date(date):\n",
    "    day_new_teks_set_df = tek_list_df.copy().diff()\n",
    "    try:\n",
    "        day_new_teks_set = day_new_teks_set_df[\n",
    "            day_new_teks_set_df.index == date].tek_list.item()\n",
    "    except ValueError:\n",
    "        day_new_teks_set = None\n",
    "    if pd.isna(day_new_teks_set):\n",
    "        day_new_teks_set = set()\n",
    "    day_new_teks_df = daily_extracted_teks_df[\n",
    "        daily_extracted_teks_df.extraction_date == date].copy()\n",
    "    day_new_teks_df[\"shared_teks\"] = \\\n",
    "        day_new_teks_df.tek_list.apply(lambda x: set(x).intersection(day_new_teks_set))\n",
    "    day_new_teks_df[\"shared_teks\"] = \\\n",
    "        day_new_teks_df.shared_teks.apply(len)\n",
    "    day_new_teks_df[\"upload_date\"] = date\n",
    "    day_new_teks_df.rename(columns={\"sample_date\": \"generation_date\"}, inplace=True)\n",
    "    day_new_teks_df = day_new_teks_df[\n",
    "        [\"upload_date\", \"generation_date\", \"shared_teks\"]]\n",
    "    day_new_teks_df[\"generation_to_upload_days\"] = \\\n",
    "        (pd.to_datetime(day_new_teks_df.upload_date) -\n",
    "         pd.to_datetime(day_new_teks_df.generation_date)).dt.days\n",
    "    day_new_teks_df = day_new_teks_df[day_new_teks_df.shared_teks > 0]\n",
    "    return day_new_teks_df\n",
    "\n",
    "shared_teks_generation_to_upload_df = pd.DataFrame()\n",
    "for upload_date in daily_extracted_teks_df.extraction_date.unique():\n",
    "    shared_teks_generation_to_upload_df = \\\n",
    "        shared_teks_generation_to_upload_df.append(\n",
    "            compute_teks_by_generation_and_upload_date(date=upload_date))\n",
    "shared_teks_generation_to_upload_df \\\n",
    "    .sort_values([\"upload_date\", \"generation_date\"], ascending=False, inplace=True)\n",
    "shared_teks_generation_to_upload_df.tail()"
   ]
  },
  {
   "cell_type": "code",
   "execution_count": 33,
   "metadata": {
    "collapsed": false,
    "execution": {
     "iopub.execute_input": "2020-12-13T23:28:32.891399Z",
     "iopub.status.busy": "2020-12-13T23:28:32.890897Z",
     "iopub.status.idle": "2020-12-13T23:28:32.895775Z",
     "shell.execute_reply": "2020-12-13T23:28:32.895272Z"
    },
    "papermill": {
     "duration": 0.077534,
     "end_time": "2020-12-13T23:28:32.895880",
     "exception": false,
     "start_time": "2020-12-13T23:28:32.818346",
     "status": "completed"
    },
    "pycharm": {
     "name": "#%%\n"
    },
    "tags": []
   },
   "outputs": [
    {
     "data": {
      "text/html": [
       "<div>\n",
       "<style scoped>\n",
       "    .dataframe tbody tr th:only-of-type {\n",
       "        vertical-align: middle;\n",
       "    }\n",
       "\n",
       "    .dataframe tbody tr th {\n",
       "        vertical-align: top;\n",
       "    }\n",
       "\n",
       "    .dataframe thead th {\n",
       "        text-align: right;\n",
       "    }\n",
       "</style>\n",
       "<table border=\"1\" class=\"dataframe\">\n",
       "  <thead>\n",
       "    <tr style=\"text-align: right;\">\n",
       "      <th></th>\n",
       "      <th>upload_date</th>\n",
       "      <th>generation_date</th>\n",
       "      <th>shared_teks</th>\n",
       "      <th>generation_to_upload_days</th>\n",
       "    </tr>\n",
       "  </thead>\n",
       "  <tbody>\n",
       "    <tr>\n",
       "      <th>31</th>\n",
       "      <td>2020-12-13</td>\n",
       "      <td>2020-12-04</td>\n",
       "      <td>2014</td>\n",
       "      <td>9</td>\n",
       "    </tr>\n",
       "    <tr>\n",
       "      <th>24</th>\n",
       "      <td>2020-12-13</td>\n",
       "      <td>2020-12-03</td>\n",
       "      <td>1976</td>\n",
       "      <td>10</td>\n",
       "    </tr>\n",
       "    <tr>\n",
       "      <th>17</th>\n",
       "      <td>2020-12-13</td>\n",
       "      <td>2020-12-02</td>\n",
       "      <td>1971</td>\n",
       "      <td>11</td>\n",
       "    </tr>\n",
       "    <tr>\n",
       "      <th>10</th>\n",
       "      <td>2020-12-13</td>\n",
       "      <td>2020-12-01</td>\n",
       "      <td>1931</td>\n",
       "      <td>12</td>\n",
       "    </tr>\n",
       "    <tr>\n",
       "      <th>3</th>\n",
       "      <td>2020-12-13</td>\n",
       "      <td>2020-11-30</td>\n",
       "      <td>1922</td>\n",
       "      <td>13</td>\n",
       "    </tr>\n",
       "  </tbody>\n",
       "</table>\n",
       "</div>"
      ],
      "text/plain": [
       "   upload_date generation_date  shared_teks  generation_to_upload_days\n",
       "31  2020-12-13      2020-12-04         2014                          9\n",
       "24  2020-12-13      2020-12-03         1976                         10\n",
       "17  2020-12-13      2020-12-02         1971                         11\n",
       "10  2020-12-13      2020-12-01         1931                         12\n",
       "3   2020-12-13      2020-11-30         1922                         13"
      ]
     },
     "execution_count": 33,
     "metadata": {},
     "output_type": "execute_result"
    }
   ],
   "source": [
    "today_new_teks_df = \\\n",
    "    shared_teks_generation_to_upload_df[\n",
    "        shared_teks_generation_to_upload_df.upload_date == extraction_date].copy()\n",
    "today_new_teks_df.tail()"
   ]
  },
  {
   "cell_type": "code",
   "execution_count": 34,
   "metadata": {
    "collapsed": false,
    "execution": {
     "iopub.execute_input": "2020-12-13T23:28:33.010971Z",
     "iopub.status.busy": "2020-12-13T23:28:33.010425Z",
     "iopub.status.idle": "2020-12-13T23:28:33.792536Z",
     "shell.execute_reply": "2020-12-13T23:28:33.793364Z"
    },
    "papermill": {
     "duration": 0.845053,
     "end_time": "2020-12-13T23:28:33.793519",
     "exception": false,
     "start_time": "2020-12-13T23:28:32.948466",
     "status": "completed"
    },
    "pycharm": {
     "name": "#%%\n"
    },
    "tags": []
   },
   "outputs": [
    {
     "data": {
      "image/png": "[encoded data removed]",
      "text/plain": [
       "<Figure size 1080x432 with 1 Axes>"
      ]
     },
     "metadata": {},
     "output_type": "display_data"
    }
   ],
   "source": [
    "if not today_new_teks_df.empty:\n",
    "    today_new_teks_df.set_index(\"generation_to_upload_days\") \\\n",
    "        .sort_index().shared_teks.plot.bar()"
   ]
  },
  {
   "cell_type": "code",
   "execution_count": 35,
   "metadata": {
    "collapsed": false,
    "execution": {
     "iopub.execute_input": "2020-12-13T23:28:33.921552Z",
     "iopub.status.busy": "2020-12-13T23:28:33.920453Z",
     "iopub.status.idle": "2020-12-13T23:28:33.935784Z",
     "shell.execute_reply": "2020-12-13T23:28:33.936192Z"
    },
    "papermill": {
     "duration": 0.07985,
     "end_time": "2020-12-13T23:28:33.936341",
     "exception": false,
     "start_time": "2020-12-13T23:28:33.856491",
     "status": "completed"
    },
    "pycharm": {
     "name": "#%%\n"
    },
    "tags": []
   },
   "outputs": [
    {
     "data": {
      "text/html": [
       "<div>\n",
       "<style scoped>\n",
       "    .dataframe tbody tr th:only-of-type {\n",
       "        vertical-align: middle;\n",
       "    }\n",
       "\n",
       "    .dataframe tbody tr th {\n",
       "        vertical-align: top;\n",
       "    }\n",
       "\n",
       "    .dataframe thead th {\n",
       "        text-align: right;\n",
       "    }\n",
       "</style>\n",
       "<table border=\"1\" class=\"dataframe\">\n",
       "  <thead>\n",
       "    <tr style=\"text-align: right;\">\n",
       "      <th>generation_to_upload_days</th>\n",
       "      <th>0</th>\n",
       "      <th>1</th>\n",
       "      <th>2</th>\n",
       "      <th>3</th>\n",
       "      <th>4</th>\n",
       "      <th>5</th>\n",
       "      <th>6</th>\n",
       "      <th>7</th>\n",
       "      <th>8</th>\n",
       "      <th>9</th>\n",
       "      <th>10</th>\n",
       "      <th>11</th>\n",
       "      <th>12</th>\n",
       "      <th>13</th>\n",
       "    </tr>\n",
       "    <tr>\n",
       "      <th>upload_date</th>\n",
       "      <th></th>\n",
       "      <th></th>\n",
       "      <th></th>\n",
       "      <th></th>\n",
       "      <th></th>\n",
       "      <th></th>\n",
       "      <th></th>\n",
       "      <th></th>\n",
       "      <th></th>\n",
       "      <th></th>\n",
       "      <th></th>\n",
       "      <th></th>\n",
       "      <th></th>\n",
       "      <th></th>\n",
       "    </tr>\n",
       "  </thead>\n",
       "  <tbody>\n",
       "    <tr>\n",
       "      <th>2020-12-13</th>\n",
       "      <td>96</td>\n",
       "      <td>1421</td>\n",
       "      <td>2712</td>\n",
       "      <td>2408</td>\n",
       "      <td>2246</td>\n",
       "      <td>2177</td>\n",
       "      <td>2122</td>\n",
       "      <td>2062</td>\n",
       "      <td>2044</td>\n",
       "      <td>2014</td>\n",
       "      <td>1976</td>\n",
       "      <td>1971</td>\n",
       "      <td>1931</td>\n",
       "      <td>1922</td>\n",
       "    </tr>\n",
       "    <tr>\n",
       "      <th>2020-12-12</th>\n",
       "      <td>208</td>\n",
       "      <td>2402</td>\n",
       "      <td>3729</td>\n",
       "      <td>3385</td>\n",
       "      <td>3217</td>\n",
       "      <td>3041</td>\n",
       "      <td>2974</td>\n",
       "      <td>2924</td>\n",
       "      <td>2899</td>\n",
       "      <td>2858</td>\n",
       "      <td>2833</td>\n",
       "      <td>2791</td>\n",
       "      <td>2734</td>\n",
       "      <td>2744</td>\n",
       "    </tr>\n",
       "    <tr>\n",
       "      <th>2020-12-11</th>\n",
       "      <td>258</td>\n",
       "      <td>2908</td>\n",
       "      <td>4215</td>\n",
       "      <td>3893</td>\n",
       "      <td>3664</td>\n",
       "      <td>3580</td>\n",
       "      <td>3500</td>\n",
       "      <td>3427</td>\n",
       "      <td>3349</td>\n",
       "      <td>3309</td>\n",
       "      <td>3270</td>\n",
       "      <td>3205</td>\n",
       "      <td>3193</td>\n",
       "      <td>3140</td>\n",
       "    </tr>\n",
       "    <tr>\n",
       "      <th>2020-12-10</th>\n",
       "      <td>207</td>\n",
       "      <td>2665</td>\n",
       "      <td>3754</td>\n",
       "      <td>3416</td>\n",
       "      <td>3244</td>\n",
       "      <td>3191</td>\n",
       "      <td>3132</td>\n",
       "      <td>3069</td>\n",
       "      <td>3036</td>\n",
       "      <td>2979</td>\n",
       "      <td>2955</td>\n",
       "      <td>2914</td>\n",
       "      <td>2871</td>\n",
       "      <td>2889</td>\n",
       "    </tr>\n",
       "    <tr>\n",
       "      <th>2020-12-09</th>\n",
       "      <td>117</td>\n",
       "      <td>2841</td>\n",
       "      <td>4014</td>\n",
       "      <td>3601</td>\n",
       "      <td>3519</td>\n",
       "      <td>3436</td>\n",
       "      <td>3342</td>\n",
       "      <td>3276</td>\n",
       "      <td>3238</td>\n",
       "      <td>3192</td>\n",
       "      <td>3134</td>\n",
       "      <td>3115</td>\n",
       "      <td>3107</td>\n",
       "      <td>3072</td>\n",
       "    </tr>\n",
       "  </tbody>\n",
       "</table>\n",
       "</div>"
      ],
      "text/plain": [
       "generation_to_upload_days   0     1     2     3     4     5     6     7   \\\n",
       "upload_date                                                                \n",
       "2020-12-13                  96  1421  2712  2408  2246  2177  2122  2062   \n",
       "2020-12-12                 208  2402  3729  3385  3217  3041  2974  2924   \n",
       "2020-12-11                 258  2908  4215  3893  3664  3580  3500  3427   \n",
       "2020-12-10                 207  2665  3754  3416  3244  3191  3132  3069   \n",
       "2020-12-09                 117  2841  4014  3601  3519  3436  3342  3276   \n",
       "\n",
       "generation_to_upload_days    8     9     10    11    12    13  \n",
       "upload_date                                                    \n",
       "2020-12-13                 2044  2014  1976  1971  1931  1922  \n",
       "2020-12-12                 2899  2858  2833  2791  2734  2744  \n",
       "2020-12-11                 3349  3309  3270  3205  3193  3140  \n",
       "2020-12-10                 3036  2979  2955  2914  2871  2889  \n",
       "2020-12-09                 3238  3192  3134  3115  3107  3072  "
      ]
     },
     "execution_count": 35,
     "metadata": {},
     "output_type": "execute_result"
    }
   ],
   "source": [
    "generation_to_upload_period_pivot_df = \\\n",
    "    shared_teks_generation_to_upload_df[\n",
    "        [\"upload_date\", \"generation_to_upload_days\", \"shared_teks\"]] \\\n",
    "        .pivot(index=\"upload_date\", columns=\"generation_to_upload_days\") \\\n",
    "        .sort_index(ascending=False).fillna(0).astype(int) \\\n",
    "        .droplevel(level=0, axis=1)\n",
    "generation_to_upload_period_pivot_df.head()"
   ]
  },
  {
   "cell_type": "code",
   "execution_count": 36,
   "metadata": {
    "collapsed": false,
    "execution": {
     "iopub.execute_input": "2020-12-13T23:28:34.946502Z",
     "iopub.status.busy": "2020-12-13T23:28:34.945577Z",
     "iopub.status.idle": "2020-12-13T23:28:34.955450Z",
     "shell.execute_reply": "2020-12-13T23:28:34.954882Z"
    },
    "papermill": {
     "duration": 0.962417,
     "end_time": "2020-12-13T23:28:34.955596",
     "exception": false,
     "start_time": "2020-12-13T23:28:33.993179",
     "status": "completed"
    },
    "pycharm": {
     "name": "#%%\n"
    },
    "tags": []
   },
   "outputs": [
    {
     "data": {
      "text/html": [
       "<div>\n",
       "<style scoped>\n",
       "    .dataframe tbody tr th:only-of-type {\n",
       "        vertical-align: middle;\n",
       "    }\n",
       "\n",
       "    .dataframe tbody tr th {\n",
       "        vertical-align: top;\n",
       "    }\n",
       "\n",
       "    .dataframe thead th {\n",
       "        text-align: right;\n",
       "    }\n",
       "</style>\n",
       "<table border=\"1\" class=\"dataframe\">\n",
       "  <thead>\n",
       "    <tr style=\"text-align: right;\">\n",
       "      <th></th>\n",
       "      <th>sample_date_string</th>\n",
       "      <th>shared_teks_by_upload_date</th>\n",
       "    </tr>\n",
       "  </thead>\n",
       "  <tbody>\n",
       "    <tr>\n",
       "      <th>80</th>\n",
       "      <td>2020-12-09</td>\n",
       "      <td>43004.0</td>\n",
       "    </tr>\n",
       "    <tr>\n",
       "      <th>81</th>\n",
       "      <td>2020-12-10</td>\n",
       "      <td>40322.0</td>\n",
       "    </tr>\n",
       "    <tr>\n",
       "      <th>82</th>\n",
       "      <td>2020-12-11</td>\n",
       "      <td>44911.0</td>\n",
       "    </tr>\n",
       "    <tr>\n",
       "      <th>83</th>\n",
       "      <td>2020-12-12</td>\n",
       "      <td>38739.0</td>\n",
       "    </tr>\n",
       "    <tr>\n",
       "      <th>84</th>\n",
       "      <td>2020-12-13</td>\n",
       "      <td>27102.0</td>\n",
       "    </tr>\n",
       "  </tbody>\n",
       "</table>\n",
       "</div>"
      ],
      "text/plain": [
       "   sample_date_string  shared_teks_by_upload_date\n",
       "80         2020-12-09                     43004.0\n",
       "81         2020-12-10                     40322.0\n",
       "82         2020-12-11                     44911.0\n",
       "83         2020-12-12                     38739.0\n",
       "84         2020-12-13                     27102.0"
      ]
     },
     "execution_count": 36,
     "metadata": {},
     "output_type": "execute_result"
    }
   ],
   "source": [
    "new_tek_df = tek_list_df.diff().tek_list.apply(\n",
    "    lambda x: len(x) if not pd.isna(x) else None).to_frame().reset_index()\n",
    "new_tek_df.rename(columns={\n",
    "    \"tek_list\": \"shared_teks_by_upload_date\",\n",
    "    \"extraction_date\": \"sample_date_string\",}, inplace=True)\n",
    "new_tek_df.tail()"
   ]
  },
  {
   "cell_type": "code",
   "execution_count": 37,
   "metadata": {
    "collapsed": false,
    "execution": {
     "iopub.execute_input": "2020-12-13T23:28:35.094932Z",
     "iopub.status.busy": "2020-12-13T23:28:35.094079Z",
     "iopub.status.idle": "2020-12-13T23:28:35.099960Z",
     "shell.execute_reply": "2020-12-13T23:28:35.100586Z"
    },
    "papermill": {
     "duration": 0.082139,
     "end_time": "2020-12-13T23:28:35.100744",
     "exception": false,
     "start_time": "2020-12-13T23:28:35.018605",
     "status": "completed"
    },
    "pycharm": {
     "name": "#%%\n"
    },
    "tags": []
   },
   "outputs": [
    {
     "data": {
      "text/html": [
       "<div>\n",
       "<style scoped>\n",
       "    .dataframe tbody tr th:only-of-type {\n",
       "        vertical-align: middle;\n",
       "    }\n",
       "\n",
       "    .dataframe tbody tr th {\n",
       "        vertical-align: top;\n",
       "    }\n",
       "\n",
       "    .dataframe thead th {\n",
       "        text-align: right;\n",
       "    }\n",
       "</style>\n",
       "<table border=\"1\" class=\"dataframe\">\n",
       "  <thead>\n",
       "    <tr style=\"text-align: right;\">\n",
       "      <th></th>\n",
       "      <th>sample_date_string</th>\n",
       "      <th>shared_teks_uploaded_on_generation_date</th>\n",
       "    </tr>\n",
       "  </thead>\n",
       "  <tbody>\n",
       "    <tr>\n",
       "      <th>92</th>\n",
       "      <td>2020-12-13</td>\n",
       "      <td>96</td>\n",
       "    </tr>\n",
       "    <tr>\n",
       "      <th>92</th>\n",
       "      <td>2020-12-12</td>\n",
       "      <td>208</td>\n",
       "    </tr>\n",
       "    <tr>\n",
       "      <th>92</th>\n",
       "      <td>2020-12-11</td>\n",
       "      <td>258</td>\n",
       "    </tr>\n",
       "    <tr>\n",
       "      <th>92</th>\n",
       "      <td>2020-12-10</td>\n",
       "      <td>207</td>\n",
       "    </tr>\n",
       "    <tr>\n",
       "      <th>92</th>\n",
       "      <td>2020-12-09</td>\n",
       "      <td>117</td>\n",
       "    </tr>\n",
       "  </tbody>\n",
       "</table>\n",
       "</div>"
      ],
      "text/plain": [
       "   sample_date_string  shared_teks_uploaded_on_generation_date\n",
       "92         2020-12-13                                       96\n",
       "92         2020-12-12                                      208\n",
       "92         2020-12-11                                      258\n",
       "92         2020-12-10                                      207\n",
       "92         2020-12-09                                      117"
      ]
     },
     "execution_count": 37,
     "metadata": {},
     "output_type": "execute_result"
    }
   ],
   "source": [
    "shared_teks_uploaded_on_generation_date_df = shared_teks_generation_to_upload_df[\n",
    "    shared_teks_generation_to_upload_df.generation_to_upload_days == 0] \\\n",
    "    [[\"upload_date\", \"shared_teks\"]].rename(\n",
    "    columns={\n",
    "        \"upload_date\": \"sample_date_string\",\n",
    "        \"shared_teks\": \"shared_teks_uploaded_on_generation_date\",\n",
    "    })\n",
    "shared_teks_uploaded_on_generation_date_df.head()"
   ]
  },
  {
   "cell_type": "code",
   "execution_count": 38,
   "metadata": {
    "collapsed": false,
    "execution": {
     "iopub.execute_input": "2020-12-13T23:28:35.231742Z",
     "iopub.status.busy": "2020-12-13T23:28:35.231019Z",
     "iopub.status.idle": "2020-12-13T23:28:35.250930Z",
     "shell.execute_reply": "2020-12-13T23:28:35.250371Z"
    },
    "papermill": {
     "duration": 0.087462,
     "end_time": "2020-12-13T23:28:35.251066",
     "exception": false,
     "start_time": "2020-12-13T23:28:35.163604",
     "status": "completed"
    },
    "pycharm": {
     "name": "#%%\n"
    },
    "tags": []
   },
   "outputs": [
    {
     "data": {
      "text/html": [
       "<div>\n",
       "<style scoped>\n",
       "    .dataframe tbody tr th:only-of-type {\n",
       "        vertical-align: middle;\n",
       "    }\n",
       "\n",
       "    .dataframe tbody tr th {\n",
       "        vertical-align: top;\n",
       "    }\n",
       "\n",
       "    .dataframe thead th {\n",
       "        text-align: right;\n",
       "    }\n",
       "</style>\n",
       "<table border=\"1\" class=\"dataframe\">\n",
       "  <thead>\n",
       "    <tr style=\"text-align: right;\">\n",
       "      <th></th>\n",
       "      <th>sample_date_string</th>\n",
       "      <th>shared_diagnoses</th>\n",
       "    </tr>\n",
       "  </thead>\n",
       "  <tbody>\n",
       "    <tr>\n",
       "      <th>83</th>\n",
       "      <td>2020-12-13</td>\n",
       "      <td>2712</td>\n",
       "    </tr>\n",
       "    <tr>\n",
       "      <th>82</th>\n",
       "      <td>2020-12-12</td>\n",
       "      <td>3729</td>\n",
       "    </tr>\n",
       "    <tr>\n",
       "      <th>81</th>\n",
       "      <td>2020-12-11</td>\n",
       "      <td>4215</td>\n",
       "    </tr>\n",
       "    <tr>\n",
       "      <th>80</th>\n",
       "      <td>2020-12-10</td>\n",
       "      <td>3754</td>\n",
       "    </tr>\n",
       "    <tr>\n",
       "      <th>79</th>\n",
       "      <td>2020-12-09</td>\n",
       "      <td>4014</td>\n",
       "    </tr>\n",
       "  </tbody>\n",
       "</table>\n",
       "</div>"
      ],
      "text/plain": [
       "   sample_date_string  shared_diagnoses\n",
       "83         2020-12-13              2712\n",
       "82         2020-12-12              3729\n",
       "81         2020-12-11              4215\n",
       "80         2020-12-10              3754\n",
       "79         2020-12-09              4014"
      ]
     },
     "execution_count": 38,
     "metadata": {},
     "output_type": "execute_result"
    }
   ],
   "source": [
    "estimated_shared_diagnoses_df = shared_teks_generation_to_upload_df \\\n",
    "    .groupby([\"upload_date\"]).shared_teks.max().reset_index() \\\n",
    "    .sort_values([\"upload_date\"], ascending=False) \\\n",
    "    .rename(columns={\n",
    "        \"upload_date\": \"sample_date_string\",\n",
    "        \"shared_teks\": \"shared_diagnoses\",\n",
    "    })\n",
    "invalid_shared_diagnoses_dates_mask = \\\n",
    "    estimated_shared_diagnoses_df.sample_date_string.isin(invalid_shared_diagnoses_dates)\n",
    "estimated_shared_diagnoses_df[invalid_shared_diagnoses_dates_mask] = 0\n",
    "estimated_shared_diagnoses_df.head()"
   ]
  },
  {
   "cell_type": "markdown",
   "metadata": {
    "papermill": {
     "duration": 0.0563,
     "end_time": "2020-12-13T23:28:35.368697",
     "exception": false,
     "start_time": "2020-12-13T23:28:35.312397",
     "status": "completed"
    },
    "pycharm": {
     "name": "#%% md\n"
    },
    "tags": []
   },
   "source": [
    "### Hourly New TEKs"
   ]
  },
  {
   "cell_type": "code",
   "execution_count": 39,
   "metadata": {
    "execution": {
     "iopub.execute_input": "2020-12-13T23:28:35.482587Z",
     "iopub.status.busy": "2020-12-13T23:28:35.482030Z",
     "iopub.status.idle": "2020-12-13T23:28:45.525729Z",
     "shell.execute_reply": "2020-12-13T23:28:45.526368Z"
    },
    "papermill": {
     "duration": 10.104415,
     "end_time": "2020-12-13T23:28:45.526520",
     "exception": false,
     "start_time": "2020-12-13T23:28:35.422105",
     "status": "completed"
    },
    "pycharm": {
     "name": "#%%\n"
    },
    "tags": []
   },
   "outputs": [
    {
     "data": {
      "text/html": [
       "<div>\n",
       "<style scoped>\n",
       "    .dataframe tbody tr th:only-of-type {\n",
       "        vertical-align: middle;\n",
       "    }\n",
       "\n",
       "    .dataframe tbody tr th {\n",
       "        vertical-align: top;\n",
       "    }\n",
       "\n",
       "    .dataframe thead th {\n",
       "        text-align: right;\n",
       "    }\n",
       "</style>\n",
       "<table border=\"1\" class=\"dataframe\">\n",
       "  <thead>\n",
       "    <tr style=\"text-align: right;\">\n",
       "      <th></th>\n",
       "      <th>region</th>\n",
       "      <th>sample_date</th>\n",
       "      <th>tek_list</th>\n",
       "      <th>extraction_date</th>\n",
       "      <th>extraction_date_with_hour</th>\n",
       "    </tr>\n",
       "  </thead>\n",
       "  <tbody>\n",
       "    <tr>\n",
       "      <th>3</th>\n",
       "      <td>ES</td>\n",
       "      <td>2020-11-30</td>\n",
       "      <td>[ed8099c8-b049-93bd-382a-37ba178534e7, ad375d7...</td>\n",
       "      <td>2020-12-13</td>\n",
       "      <td>2020-12-13@23</td>\n",
       "    </tr>\n",
       "    <tr>\n",
       "      <th>10</th>\n",
       "      <td>ES</td>\n",
       "      <td>2020-12-01</td>\n",
       "      <td>[22060e61-da6a-9284-d8a0-d573ecd8df19, aed9832...</td>\n",
       "      <td>2020-12-13</td>\n",
       "      <td>2020-12-13@23</td>\n",
       "    </tr>\n",
       "    <tr>\n",
       "      <th>17</th>\n",
       "      <td>ES</td>\n",
       "      <td>2020-12-02</td>\n",
       "      <td>[f3803879-87d5-ed98-d004-00e3be4bd225, 77992f6...</td>\n",
       "      <td>2020-12-13</td>\n",
       "      <td>2020-12-13@23</td>\n",
       "    </tr>\n",
       "    <tr>\n",
       "      <th>24</th>\n",
       "      <td>ES</td>\n",
       "      <td>2020-12-03</td>\n",
       "      <td>[a820caf1-7999-3f3d-50d9-3a7301f76ca8, f211f01...</td>\n",
       "      <td>2020-12-13</td>\n",
       "      <td>2020-12-13@23</td>\n",
       "    </tr>\n",
       "    <tr>\n",
       "      <th>31</th>\n",
       "      <td>ES</td>\n",
       "      <td>2020-12-04</td>\n",
       "      <td>[88505f41-7cc2-cbcb-40ec-a4942e5b1385, 88389fb...</td>\n",
       "      <td>2020-12-13</td>\n",
       "      <td>2020-12-13@23</td>\n",
       "    </tr>\n",
       "  </tbody>\n",
       "</table>\n",
       "</div>"
      ],
      "text/plain": [
       "   region sample_date                                           tek_list  \\\n",
       "3      ES  2020-11-30  [ed8099c8-b049-93bd-382a-37ba178534e7, ad375d7...   \n",
       "10     ES  2020-12-01  [22060e61-da6a-9284-d8a0-d573ecd8df19, aed9832...   \n",
       "17     ES  2020-12-02  [f3803879-87d5-ed98-d004-00e3be4bd225, 77992f6...   \n",
       "24     ES  2020-12-03  [a820caf1-7999-3f3d-50d9-3a7301f76ca8, f211f01...   \n",
       "31     ES  2020-12-04  [88505f41-7cc2-cbcb-40ec-a4942e5b1385, 88389fb...   \n",
       "\n",
       "   extraction_date extraction_date_with_hour  \n",
       "3       2020-12-13             2020-12-13@23  \n",
       "10      2020-12-13             2020-12-13@23  \n",
       "17      2020-12-13             2020-12-13@23  \n",
       "24      2020-12-13             2020-12-13@23  \n",
       "31      2020-12-13             2020-12-13@23  "
      ]
     },
     "execution_count": 39,
     "metadata": {},
     "output_type": "execute_result"
    }
   ],
   "source": [
    "hourly_extracted_teks_df = load_extracted_teks(\n",
    "    mode=\"Hourly\", region=report_backend_identifier, limit=25)\n",
    "hourly_extracted_teks_df.head()"
   ]
  },
  {
   "cell_type": "code",
   "execution_count": 40,
   "metadata": {
    "collapsed": false,
    "execution": {
     "iopub.execute_input": "2020-12-13T23:28:45.849137Z",
     "iopub.status.busy": "2020-12-13T23:28:45.671087Z",
     "iopub.status.idle": "2020-12-13T23:28:47.743533Z",
     "shell.execute_reply": "2020-12-13T23:28:47.743039Z"
    },
    "papermill": {
     "duration": 2.156992,
     "end_time": "2020-12-13T23:28:47.743671",
     "exception": false,
     "start_time": "2020-12-13T23:28:45.586679",
     "status": "completed"
    },
    "pycharm": {
     "name": "#%%\n"
    },
    "tags": []
   },
   "outputs": [
    {
     "data": {
      "text/html": [
       "<div>\n",
       "<style scoped>\n",
       "    .dataframe tbody tr th:only-of-type {\n",
       "        vertical-align: middle;\n",
       "    }\n",
       "\n",
       "    .dataframe tbody tr th {\n",
       "        vertical-align: top;\n",
       "    }\n",
       "\n",
       "    .dataframe thead th {\n",
       "        text-align: right;\n",
       "    }\n",
       "</style>\n",
       "<table border=\"1\" class=\"dataframe\">\n",
       "  <thead>\n",
       "    <tr style=\"text-align: right;\">\n",
       "      <th></th>\n",
       "      <th>extraction_date_with_hour</th>\n",
       "      <th>shared_teks_by_upload_date</th>\n",
       "    </tr>\n",
       "  </thead>\n",
       "  <tbody>\n",
       "    <tr>\n",
       "      <th>0</th>\n",
       "      <td>2020-12-12@22</td>\n",
       "      <td>0</td>\n",
       "    </tr>\n",
       "    <tr>\n",
       "      <th>1</th>\n",
       "      <td>2020-12-12@23</td>\n",
       "      <td>0</td>\n",
       "    </tr>\n",
       "    <tr>\n",
       "      <th>2</th>\n",
       "      <td>2020-12-13@01</td>\n",
       "      <td>23</td>\n",
       "    </tr>\n",
       "    <tr>\n",
       "      <th>3</th>\n",
       "      <td>2020-12-13@02</td>\n",
       "      <td>26</td>\n",
       "    </tr>\n",
       "    <tr>\n",
       "      <th>4</th>\n",
       "      <td>2020-12-13@03</td>\n",
       "      <td>0</td>\n",
       "    </tr>\n",
       "  </tbody>\n",
       "</table>\n",
       "</div>"
      ],
      "text/plain": [
       "  extraction_date_with_hour  shared_teks_by_upload_date\n",
       "0             2020-12-12@22                           0\n",
       "1             2020-12-12@23                           0\n",
       "2             2020-12-13@01                          23\n",
       "3             2020-12-13@02                          26\n",
       "4             2020-12-13@03                           0"
      ]
     },
     "execution_count": 40,
     "metadata": {},
     "output_type": "execute_result"
    }
   ],
   "source": [
    "hourly_new_tek_count_df = hourly_extracted_teks_df \\\n",
    "    .groupby(\"extraction_date_with_hour\").tek_list. \\\n",
    "    apply(lambda x: set(sum(x, []))).reset_index().copy()\n",
    "hourly_new_tek_count_df = hourly_new_tek_count_df.set_index(\"extraction_date_with_hour\") \\\n",
    "    .sort_index(ascending=True)\n",
    "\n",
    "hourly_new_tek_count_df[\"new_tek_list\"] = hourly_new_tek_count_df.tek_list.diff()\n",
    "hourly_new_tek_count_df[\"new_tek_count\"] = hourly_new_tek_count_df.new_tek_list.apply(\n",
    "    lambda x: len(x) if not pd.isna(x) else 0)\n",
    "hourly_new_tek_count_df.rename(columns={\n",
    "    \"new_tek_count\": \"shared_teks_by_upload_date\"}, inplace=True)\n",
    "hourly_new_tek_count_df = hourly_new_tek_count_df.reset_index()[[\n",
    "    \"extraction_date_with_hour\", \"shared_teks_by_upload_date\"]]\n",
    "hourly_new_tek_count_df.head()"
   ]
  },
  {
   "cell_type": "code",
   "execution_count": 41,
   "metadata": {
    "collapsed": false,
    "execution": {
     "iopub.execute_input": "2020-12-13T23:28:47.880494Z",
     "iopub.status.busy": "2020-12-13T23:28:47.879787Z",
     "iopub.status.idle": "2020-12-13T23:28:47.882388Z",
     "shell.execute_reply": "2020-12-13T23:28:47.882833Z"
    },
    "papermill": {
     "duration": 0.076654,
     "end_time": "2020-12-13T23:28:47.882963",
     "exception": false,
     "start_time": "2020-12-13T23:28:47.806309",
     "status": "completed"
    },
    "pycharm": {
     "name": "#%%\n"
    },
    "tags": []
   },
   "outputs": [
    {
     "data": {
      "text/html": [
       "<div>\n",
       "<style scoped>\n",
       "    .dataframe tbody tr th:only-of-type {\n",
       "        vertical-align: middle;\n",
       "    }\n",
       "\n",
       "    .dataframe tbody tr th {\n",
       "        vertical-align: top;\n",
       "    }\n",
       "\n",
       "    .dataframe thead th {\n",
       "        text-align: right;\n",
       "    }\n",
       "</style>\n",
       "<table border=\"1\" class=\"dataframe\">\n",
       "  <thead>\n",
       "    <tr style=\"text-align: right;\">\n",
       "      <th></th>\n",
       "      <th>extraction_date_with_hour</th>\n",
       "      <th>shared_teks_by_upload_date</th>\n",
       "    </tr>\n",
       "    <tr>\n",
       "      <th>datetime_utc</th>\n",
       "      <th></th>\n",
       "      <th></th>\n",
       "    </tr>\n",
       "  </thead>\n",
       "  <tbody>\n",
       "    <tr>\n",
       "      <th>2020-12-12 23:00:00</th>\n",
       "      <td>2020-12-12@23</td>\n",
       "      <td>0</td>\n",
       "    </tr>\n",
       "    <tr>\n",
       "      <th>2020-12-13 01:00:00</th>\n",
       "      <td>2020-12-13@01</td>\n",
       "      <td>23</td>\n",
       "    </tr>\n",
       "    <tr>\n",
       "      <th>2020-12-13 02:00:00</th>\n",
       "      <td>2020-12-13@02</td>\n",
       "      <td>26</td>\n",
       "    </tr>\n",
       "    <tr>\n",
       "      <th>2020-12-13 03:00:00</th>\n",
       "      <td>2020-12-13@03</td>\n",
       "      <td>0</td>\n",
       "    </tr>\n",
       "    <tr>\n",
       "      <th>2020-12-13 04:00:00</th>\n",
       "      <td>2020-12-13@04</td>\n",
       "      <td>25</td>\n",
       "    </tr>\n",
       "  </tbody>\n",
       "</table>\n",
       "</div>"
      ],
      "text/plain": [
       "                    extraction_date_with_hour  shared_teks_by_upload_date\n",
       "datetime_utc                                                             \n",
       "2020-12-12 23:00:00             2020-12-12@23                           0\n",
       "2020-12-13 01:00:00             2020-12-13@01                          23\n",
       "2020-12-13 02:00:00             2020-12-13@02                          26\n",
       "2020-12-13 03:00:00             2020-12-13@03                           0\n",
       "2020-12-13 04:00:00             2020-12-13@04                          25"
      ]
     },
     "execution_count": 41,
     "metadata": {},
     "output_type": "execute_result"
    }
   ],
   "source": [
    "hourly_summary_df = hourly_new_tek_count_df.copy()\n",
    "hourly_summary_df.set_index(\"extraction_date_with_hour\", inplace=True)\n",
    "hourly_summary_df = hourly_summary_df.fillna(0).astype(int).reset_index()\n",
    "hourly_summary_df[\"datetime_utc\"] = pd.to_datetime(\n",
    "    hourly_summary_df.extraction_date_with_hour, format=\"%Y-%m-%d@%H\")\n",
    "hourly_summary_df.set_index(\"datetime_utc\", inplace=True)\n",
    "hourly_summary_df = hourly_summary_df.tail(-1)\n",
    "hourly_summary_df.head()"
   ]
  },
  {
   "cell_type": "markdown",
   "metadata": {
    "collapsed": false,
    "papermill": {
     "duration": 0.062587,
     "end_time": "2020-12-13T23:28:48.006477",
     "exception": false,
     "start_time": "2020-12-13T23:28:47.943890",
     "status": "completed"
    },
    "tags": []
   },
   "source": [
    "### Data Merge"
   ]
  },
  {
   "cell_type": "code",
   "execution_count": 42,
   "metadata": {
    "collapsed": false,
    "execution": {
     "iopub.execute_input": "2020-12-13T23:28:48.139922Z",
     "iopub.status.busy": "2020-12-13T23:28:48.139305Z",
     "iopub.status.idle": "2020-12-13T23:28:48.142695Z",
     "shell.execute_reply": "2020-12-13T23:28:48.142086Z"
    },
    "papermill": {
     "duration": 0.078236,
     "end_time": "2020-12-13T23:28:48.143003",
     "exception": false,
     "start_time": "2020-12-13T23:28:48.064767",
     "status": "completed"
    },
    "pycharm": {
     "name": "#%%\n"
    },
    "tags": []
   },
   "outputs": [
    {
     "data": {
      "text/html": [
       "<div>\n",
       "<style scoped>\n",
       "    .dataframe tbody tr th:only-of-type {\n",
       "        vertical-align: middle;\n",
       "    }\n",
       "\n",
       "    .dataframe tbody tr th {\n",
       "        vertical-align: top;\n",
       "    }\n",
       "\n",
       "    .dataframe thead th {\n",
       "        text-align: right;\n",
       "    }\n",
       "</style>\n",
       "<table border=\"1\" class=\"dataframe\">\n",
       "  <thead>\n",
       "    <tr style=\"text-align: right;\">\n",
       "      <th></th>\n",
       "      <th>sample_date_string</th>\n",
       "      <th>shared_teks_by_generation_date</th>\n",
       "      <th>shared_teks_by_upload_date</th>\n",
       "    </tr>\n",
       "  </thead>\n",
       "  <tbody>\n",
       "    <tr>\n",
       "      <th>0</th>\n",
       "      <td>2020-12-13</td>\n",
       "      <td>96</td>\n",
       "      <td>27102.0</td>\n",
       "    </tr>\n",
       "    <tr>\n",
       "      <th>1</th>\n",
       "      <td>2020-12-12</td>\n",
       "      <td>1629</td>\n",
       "      <td>38739.0</td>\n",
       "    </tr>\n",
       "    <tr>\n",
       "      <th>2</th>\n",
       "      <td>2020-12-11</td>\n",
       "      <td>5372</td>\n",
       "      <td>44911.0</td>\n",
       "    </tr>\n",
       "    <tr>\n",
       "      <th>3</th>\n",
       "      <td>2020-12-10</td>\n",
       "      <td>9252</td>\n",
       "      <td>40322.0</td>\n",
       "    </tr>\n",
       "    <tr>\n",
       "      <th>4</th>\n",
       "      <td>2020-12-09</td>\n",
       "      <td>12628</td>\n",
       "      <td>43004.0</td>\n",
       "    </tr>\n",
       "  </tbody>\n",
       "</table>\n",
       "</div>"
      ],
      "text/plain": [
       "  sample_date_string  shared_teks_by_generation_date  \\\n",
       "0         2020-12-13                              96   \n",
       "1         2020-12-12                            1629   \n",
       "2         2020-12-11                            5372   \n",
       "3         2020-12-10                            9252   \n",
       "4         2020-12-09                           12628   \n",
       "\n",
       "   shared_teks_by_upload_date  \n",
       "0                     27102.0  \n",
       "1                     38739.0  \n",
       "2                     44911.0  \n",
       "3                     40322.0  \n",
       "4                     43004.0  "
      ]
     },
     "execution_count": 42,
     "metadata": {},
     "output_type": "execute_result"
    }
   ],
   "source": [
    "result_summary_df = exposure_keys_summary_df.merge(\n",
    "    new_tek_df, on=[\"sample_date_string\"], how=\"outer\")\n",
    "result_summary_df.head()"
   ]
  },
  {
   "cell_type": "code",
   "execution_count": 43,
   "metadata": {
    "collapsed": false,
    "execution": {
     "iopub.execute_input": "2020-12-13T23:28:48.277798Z",
     "iopub.status.busy": "2020-12-13T23:28:48.277285Z",
     "iopub.status.idle": "2020-12-13T23:28:48.280100Z",
     "shell.execute_reply": "2020-12-13T23:28:48.279655Z"
    },
    "papermill": {
     "duration": 0.074617,
     "end_time": "2020-12-13T23:28:48.280243",
     "exception": false,
     "start_time": "2020-12-13T23:28:48.205626",
     "status": "completed"
    },
    "pycharm": {
     "name": "#%%\n"
    },
    "tags": []
   },
   "outputs": [
    {
     "data": {
      "text/html": [
       "<div>\n",
       "<style scoped>\n",
       "    .dataframe tbody tr th:only-of-type {\n",
       "        vertical-align: middle;\n",
       "    }\n",
       "\n",
       "    .dataframe tbody tr th {\n",
       "        vertical-align: top;\n",
       "    }\n",
       "\n",
       "    .dataframe thead th {\n",
       "        text-align: right;\n",
       "    }\n",
       "</style>\n",
       "<table border=\"1\" class=\"dataframe\">\n",
       "  <thead>\n",
       "    <tr style=\"text-align: right;\">\n",
       "      <th></th>\n",
       "      <th>sample_date_string</th>\n",
       "      <th>shared_teks_by_generation_date</th>\n",
       "      <th>shared_teks_by_upload_date</th>\n",
       "      <th>shared_teks_uploaded_on_generation_date</th>\n",
       "    </tr>\n",
       "  </thead>\n",
       "  <tbody>\n",
       "    <tr>\n",
       "      <th>0</th>\n",
       "      <td>2020-12-13</td>\n",
       "      <td>96</td>\n",
       "      <td>27102.0</td>\n",
       "      <td>96.0</td>\n",
       "    </tr>\n",
       "    <tr>\n",
       "      <th>1</th>\n",
       "      <td>2020-12-12</td>\n",
       "      <td>1629</td>\n",
       "      <td>38739.0</td>\n",
       "      <td>208.0</td>\n",
       "    </tr>\n",
       "    <tr>\n",
       "      <th>2</th>\n",
       "      <td>2020-12-11</td>\n",
       "      <td>5372</td>\n",
       "      <td>44911.0</td>\n",
       "      <td>258.0</td>\n",
       "    </tr>\n",
       "    <tr>\n",
       "      <th>3</th>\n",
       "      <td>2020-12-10</td>\n",
       "      <td>9252</td>\n",
       "      <td>40322.0</td>\n",
       "      <td>207.0</td>\n",
       "    </tr>\n",
       "    <tr>\n",
       "      <th>4</th>\n",
       "      <td>2020-12-09</td>\n",
       "      <td>12628</td>\n",
       "      <td>43004.0</td>\n",
       "      <td>117.0</td>\n",
       "    </tr>\n",
       "  </tbody>\n",
       "</table>\n",
       "</div>"
      ],
      "text/plain": [
       "  sample_date_string  shared_teks_by_generation_date  \\\n",
       "0         2020-12-13                              96   \n",
       "1         2020-12-12                            1629   \n",
       "2         2020-12-11                            5372   \n",
       "3         2020-12-10                            9252   \n",
       "4         2020-12-09                           12628   \n",
       "\n",
       "   shared_teks_by_upload_date  shared_teks_uploaded_on_generation_date  \n",
       "0                     27102.0                                     96.0  \n",
       "1                     38739.0                                    208.0  \n",
       "2                     44911.0                                    258.0  \n",
       "3                     40322.0                                    207.0  \n",
       "4                     43004.0                                    117.0  "
      ]
     },
     "execution_count": 43,
     "metadata": {},
     "output_type": "execute_result"
    }
   ],
   "source": [
    "result_summary_df = result_summary_df.merge(\n",
    "    shared_teks_uploaded_on_generation_date_df, on=[\"sample_date_string\"], how=\"outer\")\n",
    "result_summary_df.head()"
   ]
  },
  {
   "cell_type": "code",
   "execution_count": 44,
   "metadata": {
    "collapsed": false,
    "execution": {
     "iopub.execute_input": "2020-12-13T23:28:48.407683Z",
     "iopub.status.busy": "2020-12-13T23:28:48.407207Z",
     "iopub.status.idle": "2020-12-13T23:28:48.418080Z",
     "shell.execute_reply": "2020-12-13T23:28:48.418471Z"
    },
    "papermill": {
     "duration": 0.077339,
     "end_time": "2020-12-13T23:28:48.418598",
     "exception": false,
     "start_time": "2020-12-13T23:28:48.341259",
     "status": "completed"
    },
    "pycharm": {
     "name": "#%%\n"
    },
    "tags": []
   },
   "outputs": [
    {
     "data": {
      "text/html": [
       "<div>\n",
       "<style scoped>\n",
       "    .dataframe tbody tr th:only-of-type {\n",
       "        vertical-align: middle;\n",
       "    }\n",
       "\n",
       "    .dataframe tbody tr th {\n",
       "        vertical-align: top;\n",
       "    }\n",
       "\n",
       "    .dataframe thead th {\n",
       "        text-align: right;\n",
       "    }\n",
       "</style>\n",
       "<table border=\"1\" class=\"dataframe\">\n",
       "  <thead>\n",
       "    <tr style=\"text-align: right;\">\n",
       "      <th></th>\n",
       "      <th>sample_date_string</th>\n",
       "      <th>shared_teks_by_generation_date</th>\n",
       "      <th>shared_teks_by_upload_date</th>\n",
       "      <th>shared_teks_uploaded_on_generation_date</th>\n",
       "      <th>shared_diagnoses</th>\n",
       "    </tr>\n",
       "  </thead>\n",
       "  <tbody>\n",
       "    <tr>\n",
       "      <th>0</th>\n",
       "      <td>2020-12-13</td>\n",
       "      <td>96.0</td>\n",
       "      <td>27102.0</td>\n",
       "      <td>96.0</td>\n",
       "      <td>2712.0</td>\n",
       "    </tr>\n",
       "    <tr>\n",
       "      <th>1</th>\n",
       "      <td>2020-12-12</td>\n",
       "      <td>1629.0</td>\n",
       "      <td>38739.0</td>\n",
       "      <td>208.0</td>\n",
       "      <td>3729.0</td>\n",
       "    </tr>\n",
       "    <tr>\n",
       "      <th>2</th>\n",
       "      <td>2020-12-11</td>\n",
       "      <td>5372.0</td>\n",
       "      <td>44911.0</td>\n",
       "      <td>258.0</td>\n",
       "      <td>4215.0</td>\n",
       "    </tr>\n",
       "    <tr>\n",
       "      <th>3</th>\n",
       "      <td>2020-12-10</td>\n",
       "      <td>9252.0</td>\n",
       "      <td>40322.0</td>\n",
       "      <td>207.0</td>\n",
       "      <td>3754.0</td>\n",
       "    </tr>\n",
       "    <tr>\n",
       "      <th>4</th>\n",
       "      <td>2020-12-09</td>\n",
       "      <td>12628.0</td>\n",
       "      <td>43004.0</td>\n",
       "      <td>117.0</td>\n",
       "      <td>4014.0</td>\n",
       "    </tr>\n",
       "  </tbody>\n",
       "</table>\n",
       "</div>"
      ],
      "text/plain": [
       "  sample_date_string  shared_teks_by_generation_date  \\\n",
       "0         2020-12-13                            96.0   \n",
       "1         2020-12-12                          1629.0   \n",
       "2         2020-12-11                          5372.0   \n",
       "3         2020-12-10                          9252.0   \n",
       "4         2020-12-09                         12628.0   \n",
       "\n",
       "   shared_teks_by_upload_date  shared_teks_uploaded_on_generation_date  \\\n",
       "0                     27102.0                                     96.0   \n",
       "1                     38739.0                                    208.0   \n",
       "2                     44911.0                                    258.0   \n",
       "3                     40322.0                                    207.0   \n",
       "4                     43004.0                                    117.0   \n",
       "\n",
       "   shared_diagnoses  \n",
       "0            2712.0  \n",
       "1            3729.0  \n",
       "2            4215.0  \n",
       "3            3754.0  \n",
       "4            4014.0  "
      ]
     },
     "execution_count": 44,
     "metadata": {},
     "output_type": "execute_result"
    }
   ],
   "source": [
    "result_summary_df = result_summary_df.merge(\n",
    "    estimated_shared_diagnoses_df, on=[\"sample_date_string\"], how=\"outer\")\n",
    "result_summary_df.head()"
   ]
  },
  {
   "cell_type": "code",
   "execution_count": 45,
   "metadata": {
    "collapsed": false,
    "execution": {
     "iopub.execute_input": "2020-12-13T23:28:48.554716Z",
     "iopub.status.busy": "2020-12-13T23:28:48.554050Z",
     "iopub.status.idle": "2020-12-13T23:28:48.557552Z",
     "shell.execute_reply": "2020-12-13T23:28:48.557100Z"
    },
    "papermill": {
     "duration": 0.080901,
     "end_time": "2020-12-13T23:28:48.557663",
     "exception": false,
     "start_time": "2020-12-13T23:28:48.476762",
     "status": "completed"
    },
    "pycharm": {
     "name": "#%%\n"
    },
    "tags": []
   },
   "outputs": [
    {
     "data": {
      "text/html": [
       "<div>\n",
       "<style scoped>\n",
       "    .dataframe tbody tr th:only-of-type {\n",
       "        vertical-align: middle;\n",
       "    }\n",
       "\n",
       "    .dataframe tbody tr th {\n",
       "        vertical-align: top;\n",
       "    }\n",
       "\n",
       "    .dataframe thead th {\n",
       "        text-align: right;\n",
       "    }\n",
       "</style>\n",
       "<table border=\"1\" class=\"dataframe\">\n",
       "  <thead>\n",
       "    <tr style=\"text-align: right;\">\n",
       "      <th></th>\n",
       "      <th>sample_date_string</th>\n",
       "      <th>new_cases</th>\n",
       "      <th>covid_cases</th>\n",
       "      <th>shared_teks_by_generation_date</th>\n",
       "      <th>shared_teks_by_upload_date</th>\n",
       "      <th>shared_teks_uploaded_on_generation_date</th>\n",
       "      <th>shared_diagnoses</th>\n",
       "    </tr>\n",
       "  </thead>\n",
       "  <tbody>\n",
       "    <tr>\n",
       "      <th>0</th>\n",
       "      <td>2020-09-21</td>\n",
       "      <td>31428</td>\n",
       "      <td>11105.0</td>\n",
       "      <td>268.0</td>\n",
       "      <td>190.0</td>\n",
       "      <td>NaN</td>\n",
       "      <td>45.0</td>\n",
       "    </tr>\n",
       "    <tr>\n",
       "      <th>1</th>\n",
       "      <td>2020-09-22</td>\n",
       "      <td>10799</td>\n",
       "      <td>11300.0</td>\n",
       "      <td>282.0</td>\n",
       "      <td>148.0</td>\n",
       "      <td>NaN</td>\n",
       "      <td>55.0</td>\n",
       "    </tr>\n",
       "    <tr>\n",
       "      <th>2</th>\n",
       "      <td>2020-09-23</td>\n",
       "      <td>11289</td>\n",
       "      <td>11314.0</td>\n",
       "      <td>296.0</td>\n",
       "      <td>267.0</td>\n",
       "      <td>4.0</td>\n",
       "      <td>70.0</td>\n",
       "    </tr>\n",
       "    <tr>\n",
       "      <th>3</th>\n",
       "      <td>2020-09-24</td>\n",
       "      <td>10653</td>\n",
       "      <td>11223.0</td>\n",
       "      <td>286.0</td>\n",
       "      <td>289.0</td>\n",
       "      <td>17.0</td>\n",
       "      <td>89.0</td>\n",
       "    </tr>\n",
       "    <tr>\n",
       "      <th>4</th>\n",
       "      <td>2020-09-25</td>\n",
       "      <td>12272</td>\n",
       "      <td>10920.0</td>\n",
       "      <td>284.0</td>\n",
       "      <td>306.0</td>\n",
       "      <td>14.0</td>\n",
       "      <td>86.0</td>\n",
       "    </tr>\n",
       "  </tbody>\n",
       "</table>\n",
       "</div>"
      ],
      "text/plain": [
       "  sample_date_string  new_cases  covid_cases  shared_teks_by_generation_date  \\\n",
       "0         2020-09-21      31428      11105.0                           268.0   \n",
       "1         2020-09-22      10799      11300.0                           282.0   \n",
       "2         2020-09-23      11289      11314.0                           296.0   \n",
       "3         2020-09-24      10653      11223.0                           286.0   \n",
       "4         2020-09-25      12272      10920.0                           284.0   \n",
       "\n",
       "   shared_teks_by_upload_date  shared_teks_uploaded_on_generation_date  \\\n",
       "0                       190.0                                      NaN   \n",
       "1                       148.0                                      NaN   \n",
       "2                       267.0                                      4.0   \n",
       "3                       289.0                                     17.0   \n",
       "4                       306.0                                     14.0   \n",
       "\n",
       "   shared_diagnoses  \n",
       "0              45.0  \n",
       "1              55.0  \n",
       "2              70.0  \n",
       "3              89.0  \n",
       "4              86.0  "
      ]
     },
     "execution_count": 45,
     "metadata": {},
     "output_type": "execute_result"
    }
   ],
   "source": [
    "result_summary_df = confirmed_df.tail(daily_summary_days).merge(\n",
    "    result_summary_df, on=[\"sample_date_string\"], how=\"left\")\n",
    "result_summary_df.head()"
   ]
  },
  {
   "cell_type": "code",
   "execution_count": 46,
   "metadata": {
    "collapsed": false,
    "execution": {
     "iopub.execute_input": "2020-12-13T23:28:48.693301Z",
     "iopub.status.busy": "2020-12-13T23:28:48.692784Z",
     "iopub.status.idle": "2020-12-13T23:28:48.709656Z",
     "shell.execute_reply": "2020-12-13T23:28:48.709082Z"
    },
    "papermill": {
     "duration": 0.096165,
     "end_time": "2020-12-13T23:28:48.709826",
     "exception": false,
     "start_time": "2020-12-13T23:28:48.613661",
     "status": "completed"
    },
    "pycharm": {
     "name": "#%%\n"
    },
    "tags": []
   },
   "outputs": [
    {
     "data": {
      "text/html": [
       "<div>\n",
       "<style scoped>\n",
       "    .dataframe tbody tr th:only-of-type {\n",
       "        vertical-align: middle;\n",
       "    }\n",
       "\n",
       "    .dataframe tbody tr th {\n",
       "        vertical-align: top;\n",
       "    }\n",
       "\n",
       "    .dataframe thead th {\n",
       "        text-align: right;\n",
       "    }\n",
       "</style>\n",
       "<table border=\"1\" class=\"dataframe\">\n",
       "  <thead>\n",
       "    <tr style=\"text-align: right;\">\n",
       "      <th></th>\n",
       "      <th></th>\n",
       "      <th>new_cases</th>\n",
       "      <th>covid_cases</th>\n",
       "      <th>shared_teks_by_generation_date</th>\n",
       "      <th>shared_teks_by_upload_date</th>\n",
       "      <th>shared_teks_uploaded_on_generation_date</th>\n",
       "      <th>shared_diagnoses</th>\n",
       "    </tr>\n",
       "    <tr>\n",
       "      <th>sample_date</th>\n",
       "      <th>source_regions</th>\n",
       "      <th></th>\n",
       "      <th></th>\n",
       "      <th></th>\n",
       "      <th></th>\n",
       "      <th></th>\n",
       "      <th></th>\n",
       "    </tr>\n",
       "  </thead>\n",
       "  <tbody>\n",
       "    <tr>\n",
       "      <th>2020-12-13</th>\n",
       "      <th>ES,DE,DK,HR,IE,IT,LV,NL,PL</th>\n",
       "      <td>69268</td>\n",
       "      <td>69432.0</td>\n",
       "      <td>96.0</td>\n",
       "      <td>27102.0</td>\n",
       "      <td>96.0</td>\n",
       "      <td>2712.0</td>\n",
       "    </tr>\n",
       "    <tr>\n",
       "      <th>2020-12-12</th>\n",
       "      <th>ES,DE,DK,HR,IE,IT,LV,NL,PL</th>\n",
       "      <td>77551</td>\n",
       "      <td>68853.0</td>\n",
       "      <td>1629.0</td>\n",
       "      <td>38739.0</td>\n",
       "      <td>208.0</td>\n",
       "      <td>3729.0</td>\n",
       "    </tr>\n",
       "    <tr>\n",
       "      <th>2020-12-11</th>\n",
       "      <th>ES,DE,DK,HR,IE,IT,LV,NL,PL</th>\n",
       "      <td>88796</td>\n",
       "      <td>68208.0</td>\n",
       "      <td>5372.0</td>\n",
       "      <td>44911.0</td>\n",
       "      <td>258.0</td>\n",
       "      <td>4215.0</td>\n",
       "    </tr>\n",
       "    <tr>\n",
       "      <th>2020-12-10</th>\n",
       "      <th>ES,DE,DK,HR,IE,IT,LV,NL,PL</th>\n",
       "      <td>71087</td>\n",
       "      <td>67396.0</td>\n",
       "      <td>9252.0</td>\n",
       "      <td>40322.0</td>\n",
       "      <td>207.0</td>\n",
       "      <td>3754.0</td>\n",
       "    </tr>\n",
       "    <tr>\n",
       "      <th>2020-12-09</th>\n",
       "      <th>ES,DE,DK,HR,IE,IT,LV,NL,PL</th>\n",
       "      <td>65435</td>\n",
       "      <td>68341.0</td>\n",
       "      <td>12628.0</td>\n",
       "      <td>43004.0</td>\n",
       "      <td>117.0</td>\n",
       "      <td>4014.0</td>\n",
       "    </tr>\n",
       "  </tbody>\n",
       "</table>\n",
       "</div>"
      ],
      "text/plain": [
       "                                        new_cases  covid_cases  \\\n",
       "sample_date source_regions                                       \n",
       "2020-12-13  ES,DE,DK,HR,IE,IT,LV,NL,PL      69268      69432.0   \n",
       "2020-12-12  ES,DE,DK,HR,IE,IT,LV,NL,PL      77551      68853.0   \n",
       "2020-12-11  ES,DE,DK,HR,IE,IT,LV,NL,PL      88796      68208.0   \n",
       "2020-12-10  ES,DE,DK,HR,IE,IT,LV,NL,PL      71087      67396.0   \n",
       "2020-12-09  ES,DE,DK,HR,IE,IT,LV,NL,PL      65435      68341.0   \n",
       "\n",
       "                                        shared_teks_by_generation_date  \\\n",
       "sample_date source_regions                                               \n",
       "2020-12-13  ES,DE,DK,HR,IE,IT,LV,NL,PL                            96.0   \n",
       "2020-12-12  ES,DE,DK,HR,IE,IT,LV,NL,PL                          1629.0   \n",
       "2020-12-11  ES,DE,DK,HR,IE,IT,LV,NL,PL                          5372.0   \n",
       "2020-12-10  ES,DE,DK,HR,IE,IT,LV,NL,PL                          9252.0   \n",
       "2020-12-09  ES,DE,DK,HR,IE,IT,LV,NL,PL                         12628.0   \n",
       "\n",
       "                                        shared_teks_by_upload_date  \\\n",
       "sample_date source_regions                                           \n",
       "2020-12-13  ES,DE,DK,HR,IE,IT,LV,NL,PL                     27102.0   \n",
       "2020-12-12  ES,DE,DK,HR,IE,IT,LV,NL,PL                     38739.0   \n",
       "2020-12-11  ES,DE,DK,HR,IE,IT,LV,NL,PL                     44911.0   \n",
       "2020-12-10  ES,DE,DK,HR,IE,IT,LV,NL,PL                     40322.0   \n",
       "2020-12-09  ES,DE,DK,HR,IE,IT,LV,NL,PL                     43004.0   \n",
       "\n",
       "                                        shared_teks_uploaded_on_generation_date  \\\n",
       "sample_date source_regions                                                        \n",
       "2020-12-13  ES,DE,DK,HR,IE,IT,LV,NL,PL                                     96.0   \n",
       "2020-12-12  ES,DE,DK,HR,IE,IT,LV,NL,PL                                    208.0   \n",
       "2020-12-11  ES,DE,DK,HR,IE,IT,LV,NL,PL                                    258.0   \n",
       "2020-12-10  ES,DE,DK,HR,IE,IT,LV,NL,PL                                    207.0   \n",
       "2020-12-09  ES,DE,DK,HR,IE,IT,LV,NL,PL                                    117.0   \n",
       "\n",
       "                                        shared_diagnoses  \n",
       "sample_date source_regions                                \n",
       "2020-12-13  ES,DE,DK,HR,IE,IT,LV,NL,PL            2712.0  \n",
       "2020-12-12  ES,DE,DK,HR,IE,IT,LV,NL,PL            3729.0  \n",
       "2020-12-11  ES,DE,DK,HR,IE,IT,LV,NL,PL            4215.0  \n",
       "2020-12-10  ES,DE,DK,HR,IE,IT,LV,NL,PL            3754.0  \n",
       "2020-12-09  ES,DE,DK,HR,IE,IT,LV,NL,PL            4014.0  "
      ]
     },
     "execution_count": 46,
     "metadata": {},
     "output_type": "execute_result"
    }
   ],
   "source": [
    "result_summary_df[\"sample_date\"] = pd.to_datetime(result_summary_df.sample_date_string)\n",
    "result_summary_df = result_summary_df.merge(source_regions_for_summary_df, how=\"left\")\n",
    "result_summary_df.set_index([\"sample_date\", \"source_regions\"], inplace=True)\n",
    "result_summary_df.drop(columns=[\"sample_date_string\"], inplace=True)\n",
    "result_summary_df.sort_index(ascending=False, inplace=True)\n",
    "result_summary_df.head()"
   ]
  },
  {
   "cell_type": "code",
   "execution_count": 47,
   "metadata": {
    "execution": {
     "iopub.execute_input": "2020-12-13T23:28:48.872103Z",
     "iopub.status.busy": "2020-12-13T23:28:48.871438Z",
     "iopub.status.idle": "2020-12-13T23:28:48.874040Z",
     "shell.execute_reply": "2020-12-13T23:28:48.874441Z"
    },
    "papermill": {
     "duration": 0.099625,
     "end_time": "2020-12-13T23:28:48.874580",
     "exception": false,
     "start_time": "2020-12-13T23:28:48.774955",
     "status": "completed"
    },
    "tags": []
   },
   "outputs": [
    {
     "data": {
      "text/html": [
       "<div>\n",
       "<style scoped>\n",
       "    .dataframe tbody tr th:only-of-type {\n",
       "        vertical-align: middle;\n",
       "    }\n",
       "\n",
       "    .dataframe tbody tr th {\n",
       "        vertical-align: top;\n",
       "    }\n",
       "\n",
       "    .dataframe thead th {\n",
       "        text-align: right;\n",
       "    }\n",
       "</style>\n",
       "<table border=\"1\" class=\"dataframe\">\n",
       "  <thead>\n",
       "    <tr style=\"text-align: right;\">\n",
       "      <th></th>\n",
       "      <th></th>\n",
       "      <th>new_cases</th>\n",
       "      <th>covid_cases</th>\n",
       "      <th>shared_teks_by_generation_date</th>\n",
       "      <th>shared_teks_by_upload_date</th>\n",
       "      <th>shared_teks_uploaded_on_generation_date</th>\n",
       "      <th>shared_diagnoses</th>\n",
       "      <th>teks_per_shared_diagnosis</th>\n",
       "      <th>shared_diagnoses_per_covid_case</th>\n",
       "    </tr>\n",
       "    <tr>\n",
       "      <th>sample_date</th>\n",
       "      <th>source_regions</th>\n",
       "      <th></th>\n",
       "      <th></th>\n",
       "      <th></th>\n",
       "      <th></th>\n",
       "      <th></th>\n",
       "      <th></th>\n",
       "      <th></th>\n",
       "      <th></th>\n",
       "    </tr>\n",
       "  </thead>\n",
       "  <tbody>\n",
       "    <tr>\n",
       "      <th>2020-12-13</th>\n",
       "      <th>ES,DE,DK,HR,IE,IT,LV,NL,PL</th>\n",
       "      <td>69268</td>\n",
       "      <td>69432</td>\n",
       "      <td>96</td>\n",
       "      <td>27102</td>\n",
       "      <td>96</td>\n",
       "      <td>2712</td>\n",
       "      <td>9.993363</td>\n",
       "      <td>0.039060</td>\n",
       "    </tr>\n",
       "    <tr>\n",
       "      <th>2020-12-12</th>\n",
       "      <th>ES,DE,DK,HR,IE,IT,LV,NL,PL</th>\n",
       "      <td>77551</td>\n",
       "      <td>68853</td>\n",
       "      <td>1629</td>\n",
       "      <td>38739</td>\n",
       "      <td>208</td>\n",
       "      <td>3729</td>\n",
       "      <td>10.388576</td>\n",
       "      <td>0.054159</td>\n",
       "    </tr>\n",
       "    <tr>\n",
       "      <th>2020-12-11</th>\n",
       "      <th>ES,DE,DK,HR,IE,IT,LV,NL,PL</th>\n",
       "      <td>88796</td>\n",
       "      <td>68208</td>\n",
       "      <td>5372</td>\n",
       "      <td>44911</td>\n",
       "      <td>258</td>\n",
       "      <td>4215</td>\n",
       "      <td>10.655042</td>\n",
       "      <td>0.061796</td>\n",
       "    </tr>\n",
       "    <tr>\n",
       "      <th>2020-12-10</th>\n",
       "      <th>ES,DE,DK,HR,IE,IT,LV,NL,PL</th>\n",
       "      <td>71087</td>\n",
       "      <td>67396</td>\n",
       "      <td>9252</td>\n",
       "      <td>40322</td>\n",
       "      <td>207</td>\n",
       "      <td>3754</td>\n",
       "      <td>10.741076</td>\n",
       "      <td>0.055701</td>\n",
       "    </tr>\n",
       "    <tr>\n",
       "      <th>2020-12-09</th>\n",
       "      <th>ES,DE,DK,HR,IE,IT,LV,NL,PL</th>\n",
       "      <td>65435</td>\n",
       "      <td>68341</td>\n",
       "      <td>12628</td>\n",
       "      <td>43004</td>\n",
       "      <td>117</td>\n",
       "      <td>4014</td>\n",
       "      <td>10.713503</td>\n",
       "      <td>0.058735</td>\n",
       "    </tr>\n",
       "    <tr>\n",
       "      <th>2020-12-08</th>\n",
       "      <th>ES,DE,DK,HR,IE,IT,LV,NL,PL</th>\n",
       "      <td>43571</td>\n",
       "      <td>68184</td>\n",
       "      <td>16003</td>\n",
       "      <td>30102</td>\n",
       "      <td>121</td>\n",
       "      <td>2641</td>\n",
       "      <td>11.397955</td>\n",
       "      <td>0.038733</td>\n",
       "    </tr>\n",
       "    <tr>\n",
       "      <th>2020-12-07</th>\n",
       "      <th>ES,DE,DK,HR,IE,IT,LV,NL,PL</th>\n",
       "      <td>70313</td>\n",
       "      <td>69374</td>\n",
       "      <td>18659</td>\n",
       "      <td>20104</td>\n",
       "      <td>116</td>\n",
       "      <td>1823</td>\n",
       "      <td>11.027976</td>\n",
       "      <td>0.026278</td>\n",
       "    </tr>\n",
       "    <tr>\n",
       "      <th>2020-12-06</th>\n",
       "      <th>ES,DE,DK,HR,IE,IT,LV,NL,PL</th>\n",
       "      <td>65216</td>\n",
       "      <td>69827</td>\n",
       "      <td>19593</td>\n",
       "      <td>17206</td>\n",
       "      <td>152</td>\n",
       "      <td>1707</td>\n",
       "      <td>10.079672</td>\n",
       "      <td>0.024446</td>\n",
       "    </tr>\n",
       "    <tr>\n",
       "      <th>2020-12-05</th>\n",
       "      <th>ES,DE,DK,HR,IE,IT,LV,NL,PL</th>\n",
       "      <td>73038</td>\n",
       "      <td>70106</td>\n",
       "      <td>20913</td>\n",
       "      <td>106219</td>\n",
       "      <td>167</td>\n",
       "      <td>0</td>\n",
       "      <td>0.000000</td>\n",
       "      <td>0.000000</td>\n",
       "    </tr>\n",
       "    <tr>\n",
       "      <th>2020-12-04</th>\n",
       "      <th>ES</th>\n",
       "      <td>8745</td>\n",
       "      <td>8063</td>\n",
       "      <td>23217</td>\n",
       "      <td>794</td>\n",
       "      <td>158</td>\n",
       "      <td>188</td>\n",
       "      <td>4.223404</td>\n",
       "      <td>0.023316</td>\n",
       "    </tr>\n",
       "    <tr>\n",
       "      <th>2020-12-03</th>\n",
       "      <th>ES</th>\n",
       "      <td>10127</td>\n",
       "      <td>8364</td>\n",
       "      <td>25619</td>\n",
       "      <td>828</td>\n",
       "      <td>161</td>\n",
       "      <td>189</td>\n",
       "      <td>4.380952</td>\n",
       "      <td>0.022597</td>\n",
       "    </tr>\n",
       "    <tr>\n",
       "      <th>2020-12-02</th>\n",
       "      <th>ES,DE,DK,HR,IE,IT,LV,NL,PL</th>\n",
       "      <td>64337</td>\n",
       "      <td>73246</td>\n",
       "      <td>27861</td>\n",
       "      <td>5371</td>\n",
       "      <td>197</td>\n",
       "      <td>0</td>\n",
       "      <td>0.000000</td>\n",
       "      <td>0.000000</td>\n",
       "    </tr>\n",
       "    <tr>\n",
       "      <th>2020-12-01</th>\n",
       "      <th>ES,DE,DK,HR,IE,IT,LV,PL</th>\n",
       "      <td>47335</td>\n",
       "      <td>72553</td>\n",
       "      <td>30126</td>\n",
       "      <td>24674</td>\n",
       "      <td>189</td>\n",
       "      <td>2238</td>\n",
       "      <td>11.025022</td>\n",
       "      <td>0.030846</td>\n",
       "    </tr>\n",
       "    <tr>\n",
       "      <th>2020-11-30</th>\n",
       "      <th>ES,DE,DK,HR,IE,IT,LV,PL</th>\n",
       "      <td>67906</td>\n",
       "      <td>75394</td>\n",
       "      <td>31854</td>\n",
       "      <td>15031</td>\n",
       "      <td>126</td>\n",
       "      <td>1430</td>\n",
       "      <td>10.511189</td>\n",
       "      <td>0.018967</td>\n",
       "    </tr>\n",
       "    <tr>\n",
       "      <th>2020-11-29</th>\n",
       "      <th>ES,DE,DK,HR,IE,IT,LV,PL</th>\n",
       "      <td>62722</td>\n",
       "      <td>78235</td>\n",
       "      <td>30585</td>\n",
       "      <td>17305</td>\n",
       "      <td>128</td>\n",
       "      <td>1684</td>\n",
       "      <td>10.276128</td>\n",
       "      <td>0.021525</td>\n",
       "    </tr>\n",
       "    <tr>\n",
       "      <th>2020-11-28</th>\n",
       "      <th>ES,DE,DK,HR,IE,IT,LV,PL</th>\n",
       "      <td>73586</td>\n",
       "      <td>80782</td>\n",
       "      <td>28682</td>\n",
       "      <td>25028</td>\n",
       "      <td>159</td>\n",
       "      <td>2398</td>\n",
       "      <td>10.437031</td>\n",
       "      <td>0.029685</td>\n",
       "    </tr>\n",
       "    <tr>\n",
       "      <th>2020-11-27</th>\n",
       "      <th>ES,DE,DK,HR,IE,IT,LV,PL</th>\n",
       "      <td>85755</td>\n",
       "      <td>82782</td>\n",
       "      <td>27709</td>\n",
       "      <td>27522</td>\n",
       "      <td>254</td>\n",
       "      <td>2555</td>\n",
       "      <td>10.771820</td>\n",
       "      <td>0.030864</td>\n",
       "    </tr>\n",
       "    <tr>\n",
       "      <th>2020-11-26</th>\n",
       "      <th>ES,DE,DK,HR,IE,IT,LV,PL</th>\n",
       "      <td>81388</td>\n",
       "      <td>85417</td>\n",
       "      <td>26652</td>\n",
       "      <td>31914</td>\n",
       "      <td>216</td>\n",
       "      <td>3037</td>\n",
       "      <td>10.508396</td>\n",
       "      <td>0.035555</td>\n",
       "    </tr>\n",
       "    <tr>\n",
       "      <th>2020-11-25</th>\n",
       "      <th>ES,DE,DK,HR,IE,IT,LV</th>\n",
       "      <td>56448</td>\n",
       "      <td>65533</td>\n",
       "      <td>25505</td>\n",
       "      <td>30693</td>\n",
       "      <td>227</td>\n",
       "      <td>2822</td>\n",
       "      <td>10.876329</td>\n",
       "      <td>0.043062</td>\n",
       "    </tr>\n",
       "    <tr>\n",
       "      <th>2020-11-24</th>\n",
       "      <th>ES,DE,DK,HR,IE,IT,LV</th>\n",
       "      <td>52217</td>\n",
       "      <td>67304</td>\n",
       "      <td>25565</td>\n",
       "      <td>17800</td>\n",
       "      <td>164</td>\n",
       "      <td>1667</td>\n",
       "      <td>10.677864</td>\n",
       "      <td>0.024768</td>\n",
       "    </tr>\n",
       "    <tr>\n",
       "      <th>2020-11-23</th>\n",
       "      <th>ES,DE,DK,HR,IE,IT,LV</th>\n",
       "      <td>69939</td>\n",
       "      <td>68127</td>\n",
       "      <td>25612</td>\n",
       "      <td>13061</td>\n",
       "      <td>147</td>\n",
       "      <td>1332</td>\n",
       "      <td>9.805556</td>\n",
       "      <td>0.019552</td>\n",
       "    </tr>\n",
       "    <tr>\n",
       "      <th>2020-11-22</th>\n",
       "      <th>ES,DE,DK,HR,IE,IT,LV</th>\n",
       "      <td>56334</td>\n",
       "      <td>70591</td>\n",
       "      <td>25108</td>\n",
       "      <td>14568</td>\n",
       "      <td>132</td>\n",
       "      <td>1524</td>\n",
       "      <td>9.559055</td>\n",
       "      <td>0.021589</td>\n",
       "    </tr>\n",
       "    <tr>\n",
       "      <th>2020-11-21</th>\n",
       "      <th>ES,DE,DK,HR,IE,IT,LV</th>\n",
       "      <td>65127</td>\n",
       "      <td>70966</td>\n",
       "      <td>17633</td>\n",
       "      <td>22605</td>\n",
       "      <td>153</td>\n",
       "      <td>2275</td>\n",
       "      <td>9.936264</td>\n",
       "      <td>0.032058</td>\n",
       "    </tr>\n",
       "    <tr>\n",
       "      <th>2020-11-20</th>\n",
       "      <th>ES,DE,DK,IE,IT,LV</th>\n",
       "      <td>77058</td>\n",
       "      <td>68866</td>\n",
       "      <td>19235</td>\n",
       "      <td>26712</td>\n",
       "      <td>212</td>\n",
       "      <td>2617</td>\n",
       "      <td>10.207107</td>\n",
       "      <td>0.038001</td>\n",
       "    </tr>\n",
       "    <tr>\n",
       "      <th>2020-11-19</th>\n",
       "      <th>ES,DE,DK,IE,IT,LV</th>\n",
       "      <td>75193</td>\n",
       "      <td>69974</td>\n",
       "      <td>21159</td>\n",
       "      <td>25678</td>\n",
       "      <td>211</td>\n",
       "      <td>2492</td>\n",
       "      <td>10.304173</td>\n",
       "      <td>0.035613</td>\n",
       "    </tr>\n",
       "    <tr>\n",
       "      <th>2020-11-18</th>\n",
       "      <th>ES,DE,DK,IE,IT,LV</th>\n",
       "      <td>66898</td>\n",
       "      <td>70110</td>\n",
       "      <td>22780</td>\n",
       "      <td>29832</td>\n",
       "      <td>290</td>\n",
       "      <td>2915</td>\n",
       "      <td>10.233962</td>\n",
       "      <td>0.041578</td>\n",
       "    </tr>\n",
       "    <tr>\n",
       "      <th>2020-11-17</th>\n",
       "      <th>ES,DE,DK,IE,IT,LV</th>\n",
       "      <td>56667</td>\n",
       "      <td>71150</td>\n",
       "      <td>23287</td>\n",
       "      <td>22734</td>\n",
       "      <td>222</td>\n",
       "      <td>2099</td>\n",
       "      <td>10.830872</td>\n",
       "      <td>0.029501</td>\n",
       "    </tr>\n",
       "    <tr>\n",
       "      <th>2020-11-16</th>\n",
       "      <th>ES,DE,DK,IE,IT,LV</th>\n",
       "      <td>84825</td>\n",
       "      <td>71501</td>\n",
       "      <td>23983</td>\n",
       "      <td>17579</td>\n",
       "      <td>194</td>\n",
       "      <td>1741</td>\n",
       "      <td>10.097071</td>\n",
       "      <td>0.024349</td>\n",
       "    </tr>\n",
       "  </tbody>\n",
       "</table>\n",
       "</div>"
      ],
      "text/plain": [
       "                                        new_cases  covid_cases  \\\n",
       "sample_date source_regions                                       \n",
       "2020-12-13  ES,DE,DK,HR,IE,IT,LV,NL,PL      69268        69432   \n",
       "2020-12-12  ES,DE,DK,HR,IE,IT,LV,NL,PL      77551        68853   \n",
       "2020-12-11  ES,DE,DK,HR,IE,IT,LV,NL,PL      88796        68208   \n",
       "2020-12-10  ES,DE,DK,HR,IE,IT,LV,NL,PL      71087        67396   \n",
       "2020-12-09  ES,DE,DK,HR,IE,IT,LV,NL,PL      65435        68341   \n",
       "2020-12-08  ES,DE,DK,HR,IE,IT,LV,NL,PL      43571        68184   \n",
       "2020-12-07  ES,DE,DK,HR,IE,IT,LV,NL,PL      70313        69374   \n",
       "2020-12-06  ES,DE,DK,HR,IE,IT,LV,NL,PL      65216        69827   \n",
       "2020-12-05  ES,DE,DK,HR,IE,IT,LV,NL,PL      73038        70106   \n",
       "2020-12-04  ES                               8745         8063   \n",
       "2020-12-03  ES                              10127         8364   \n",
       "2020-12-02  ES,DE,DK,HR,IE,IT,LV,NL,PL      64337        73246   \n",
       "2020-12-01  ES,DE,DK,HR,IE,IT,LV,PL         47335        72553   \n",
       "2020-11-30  ES,DE,DK,HR,IE,IT,LV,PL         67906        75394   \n",
       "2020-11-29  ES,DE,DK,HR,IE,IT,LV,PL         62722        78235   \n",
       "2020-11-28  ES,DE,DK,HR,IE,IT,LV,PL         73586        80782   \n",
       "2020-11-27  ES,DE,DK,HR,IE,IT,LV,PL         85755        82782   \n",
       "2020-11-26  ES,DE,DK,HR,IE,IT,LV,PL         81388        85417   \n",
       "2020-11-25  ES,DE,DK,HR,IE,IT,LV            56448        65533   \n",
       "2020-11-24  ES,DE,DK,HR,IE,IT,LV            52217        67304   \n",
       "2020-11-23  ES,DE,DK,HR,IE,IT,LV            69939        68127   \n",
       "2020-11-22  ES,DE,DK,HR,IE,IT,LV            56334        70591   \n",
       "2020-11-21  ES,DE,DK,HR,IE,IT,LV            65127        70966   \n",
       "2020-11-20  ES,DE,DK,IE,IT,LV               77058        68866   \n",
       "2020-11-19  ES,DE,DK,IE,IT,LV               75193        69974   \n",
       "2020-11-18  ES,DE,DK,IE,IT,LV               66898        70110   \n",
       "2020-11-17  ES,DE,DK,IE,IT,LV               56667        71150   \n",
       "2020-11-16  ES,DE,DK,IE,IT,LV               84825        71501   \n",
       "\n",
       "                                        shared_teks_by_generation_date  \\\n",
       "sample_date source_regions                                               \n",
       "2020-12-13  ES,DE,DK,HR,IE,IT,LV,NL,PL                              96   \n",
       "2020-12-12  ES,DE,DK,HR,IE,IT,LV,NL,PL                            1629   \n",
       "2020-12-11  ES,DE,DK,HR,IE,IT,LV,NL,PL                            5372   \n",
       "2020-12-10  ES,DE,DK,HR,IE,IT,LV,NL,PL                            9252   \n",
       "2020-12-09  ES,DE,DK,HR,IE,IT,LV,NL,PL                           12628   \n",
       "2020-12-08  ES,DE,DK,HR,IE,IT,LV,NL,PL                           16003   \n",
       "2020-12-07  ES,DE,DK,HR,IE,IT,LV,NL,PL                           18659   \n",
       "2020-12-06  ES,DE,DK,HR,IE,IT,LV,NL,PL                           19593   \n",
       "2020-12-05  ES,DE,DK,HR,IE,IT,LV,NL,PL                           20913   \n",
       "2020-12-04  ES                                                   23217   \n",
       "2020-12-03  ES                                                   25619   \n",
       "2020-12-02  ES,DE,DK,HR,IE,IT,LV,NL,PL                           27861   \n",
       "2020-12-01  ES,DE,DK,HR,IE,IT,LV,PL                              30126   \n",
       "2020-11-30  ES,DE,DK,HR,IE,IT,LV,PL                              31854   \n",
       "2020-11-29  ES,DE,DK,HR,IE,IT,LV,PL                              30585   \n",
       "2020-11-28  ES,DE,DK,HR,IE,IT,LV,PL                              28682   \n",
       "2020-11-27  ES,DE,DK,HR,IE,IT,LV,PL                              27709   \n",
       "2020-11-26  ES,DE,DK,HR,IE,IT,LV,PL                              26652   \n",
       "2020-11-25  ES,DE,DK,HR,IE,IT,LV                                 25505   \n",
       "2020-11-24  ES,DE,DK,HR,IE,IT,LV                                 25565   \n",
       "2020-11-23  ES,DE,DK,HR,IE,IT,LV                                 25612   \n",
       "2020-11-22  ES,DE,DK,HR,IE,IT,LV                                 25108   \n",
       "2020-11-21  ES,DE,DK,HR,IE,IT,LV                                 17633   \n",
       "2020-11-20  ES,DE,DK,IE,IT,LV                                    19235   \n",
       "2020-11-19  ES,DE,DK,IE,IT,LV                                    21159   \n",
       "2020-11-18  ES,DE,DK,IE,IT,LV                                    22780   \n",
       "2020-11-17  ES,DE,DK,IE,IT,LV                                    23287   \n",
       "2020-11-16  ES,DE,DK,IE,IT,LV                                    23983   \n",
       "\n",
       "                                        shared_teks_by_upload_date  \\\n",
       "sample_date source_regions                                           \n",
       "2020-12-13  ES,DE,DK,HR,IE,IT,LV,NL,PL                       27102   \n",
       "2020-12-12  ES,DE,DK,HR,IE,IT,LV,NL,PL                       38739   \n",
       "2020-12-11  ES,DE,DK,HR,IE,IT,LV,NL,PL                       44911   \n",
       "2020-12-10  ES,DE,DK,HR,IE,IT,LV,NL,PL                       40322   \n",
       "2020-12-09  ES,DE,DK,HR,IE,IT,LV,NL,PL                       43004   \n",
       "2020-12-08  ES,DE,DK,HR,IE,IT,LV,NL,PL                       30102   \n",
       "2020-12-07  ES,DE,DK,HR,IE,IT,LV,NL,PL                       20104   \n",
       "2020-12-06  ES,DE,DK,HR,IE,IT,LV,NL,PL                       17206   \n",
       "2020-12-05  ES,DE,DK,HR,IE,IT,LV,NL,PL                      106219   \n",
       "2020-12-04  ES                                                 794   \n",
       "2020-12-03  ES                                                 828   \n",
       "2020-12-02  ES,DE,DK,HR,IE,IT,LV,NL,PL                        5371   \n",
       "2020-12-01  ES,DE,DK,HR,IE,IT,LV,PL                          24674   \n",
       "2020-11-30  ES,DE,DK,HR,IE,IT,LV,PL                          15031   \n",
       "2020-11-29  ES,DE,DK,HR,IE,IT,LV,PL                          17305   \n",
       "2020-11-28  ES,DE,DK,HR,IE,IT,LV,PL                          25028   \n",
       "2020-11-27  ES,DE,DK,HR,IE,IT,LV,PL                          27522   \n",
       "2020-11-26  ES,DE,DK,HR,IE,IT,LV,PL                          31914   \n",
       "2020-11-25  ES,DE,DK,HR,IE,IT,LV                             30693   \n",
       "2020-11-24  ES,DE,DK,HR,IE,IT,LV                             17800   \n",
       "2020-11-23  ES,DE,DK,HR,IE,IT,LV                             13061   \n",
       "2020-11-22  ES,DE,DK,HR,IE,IT,LV                             14568   \n",
       "2020-11-21  ES,DE,DK,HR,IE,IT,LV                             22605   \n",
       "2020-11-20  ES,DE,DK,IE,IT,LV                                26712   \n",
       "2020-11-19  ES,DE,DK,IE,IT,LV                                25678   \n",
       "2020-11-18  ES,DE,DK,IE,IT,LV                                29832   \n",
       "2020-11-17  ES,DE,DK,IE,IT,LV                                22734   \n",
       "2020-11-16  ES,DE,DK,IE,IT,LV                                17579   \n",
       "\n",
       "                                        shared_teks_uploaded_on_generation_date  \\\n",
       "sample_date source_regions                                                        \n",
       "2020-12-13  ES,DE,DK,HR,IE,IT,LV,NL,PL                                       96   \n",
       "2020-12-12  ES,DE,DK,HR,IE,IT,LV,NL,PL                                      208   \n",
       "2020-12-11  ES,DE,DK,HR,IE,IT,LV,NL,PL                                      258   \n",
       "2020-12-10  ES,DE,DK,HR,IE,IT,LV,NL,PL                                      207   \n",
       "2020-12-09  ES,DE,DK,HR,IE,IT,LV,NL,PL                                      117   \n",
       "2020-12-08  ES,DE,DK,HR,IE,IT,LV,NL,PL                                      121   \n",
       "2020-12-07  ES,DE,DK,HR,IE,IT,LV,NL,PL                                      116   \n",
       "2020-12-06  ES,DE,DK,HR,IE,IT,LV,NL,PL                                      152   \n",
       "2020-12-05  ES,DE,DK,HR,IE,IT,LV,NL,PL                                      167   \n",
       "2020-12-04  ES                                                              158   \n",
       "2020-12-03  ES                                                              161   \n",
       "2020-12-02  ES,DE,DK,HR,IE,IT,LV,NL,PL                                      197   \n",
       "2020-12-01  ES,DE,DK,HR,IE,IT,LV,PL                                         189   \n",
       "2020-11-30  ES,DE,DK,HR,IE,IT,LV,PL                                         126   \n",
       "2020-11-29  ES,DE,DK,HR,IE,IT,LV,PL                                         128   \n",
       "2020-11-28  ES,DE,DK,HR,IE,IT,LV,PL                                         159   \n",
       "2020-11-27  ES,DE,DK,HR,IE,IT,LV,PL                                         254   \n",
       "2020-11-26  ES,DE,DK,HR,IE,IT,LV,PL                                         216   \n",
       "2020-11-25  ES,DE,DK,HR,IE,IT,LV                                            227   \n",
       "2020-11-24  ES,DE,DK,HR,IE,IT,LV                                            164   \n",
       "2020-11-23  ES,DE,DK,HR,IE,IT,LV                                            147   \n",
       "2020-11-22  ES,DE,DK,HR,IE,IT,LV                                            132   \n",
       "2020-11-21  ES,DE,DK,HR,IE,IT,LV                                            153   \n",
       "2020-11-20  ES,DE,DK,IE,IT,LV                                               212   \n",
       "2020-11-19  ES,DE,DK,IE,IT,LV                                               211   \n",
       "2020-11-18  ES,DE,DK,IE,IT,LV                                               290   \n",
       "2020-11-17  ES,DE,DK,IE,IT,LV                                               222   \n",
       "2020-11-16  ES,DE,DK,IE,IT,LV                                               194   \n",
       "\n",
       "                                        shared_diagnoses  \\\n",
       "sample_date source_regions                                 \n",
       "2020-12-13  ES,DE,DK,HR,IE,IT,LV,NL,PL              2712   \n",
       "2020-12-12  ES,DE,DK,HR,IE,IT,LV,NL,PL              3729   \n",
       "2020-12-11  ES,DE,DK,HR,IE,IT,LV,NL,PL              4215   \n",
       "2020-12-10  ES,DE,DK,HR,IE,IT,LV,NL,PL              3754   \n",
       "2020-12-09  ES,DE,DK,HR,IE,IT,LV,NL,PL              4014   \n",
       "2020-12-08  ES,DE,DK,HR,IE,IT,LV,NL,PL              2641   \n",
       "2020-12-07  ES,DE,DK,HR,IE,IT,LV,NL,PL              1823   \n",
       "2020-12-06  ES,DE,DK,HR,IE,IT,LV,NL,PL              1707   \n",
       "2020-12-05  ES,DE,DK,HR,IE,IT,LV,NL,PL                 0   \n",
       "2020-12-04  ES                                       188   \n",
       "2020-12-03  ES                                       189   \n",
       "2020-12-02  ES,DE,DK,HR,IE,IT,LV,NL,PL                 0   \n",
       "2020-12-01  ES,DE,DK,HR,IE,IT,LV,PL                 2238   \n",
       "2020-11-30  ES,DE,DK,HR,IE,IT,LV,PL                 1430   \n",
       "2020-11-29  ES,DE,DK,HR,IE,IT,LV,PL                 1684   \n",
       "2020-11-28  ES,DE,DK,HR,IE,IT,LV,PL                 2398   \n",
       "2020-11-27  ES,DE,DK,HR,IE,IT,LV,PL                 2555   \n",
       "2020-11-26  ES,DE,DK,HR,IE,IT,LV,PL                 3037   \n",
       "2020-11-25  ES,DE,DK,HR,IE,IT,LV                    2822   \n",
       "2020-11-24  ES,DE,DK,HR,IE,IT,LV                    1667   \n",
       "2020-11-23  ES,DE,DK,HR,IE,IT,LV                    1332   \n",
       "2020-11-22  ES,DE,DK,HR,IE,IT,LV                    1524   \n",
       "2020-11-21  ES,DE,DK,HR,IE,IT,LV                    2275   \n",
       "2020-11-20  ES,DE,DK,IE,IT,LV                       2617   \n",
       "2020-11-19  ES,DE,DK,IE,IT,LV                       2492   \n",
       "2020-11-18  ES,DE,DK,IE,IT,LV                       2915   \n",
       "2020-11-17  ES,DE,DK,IE,IT,LV                       2099   \n",
       "2020-11-16  ES,DE,DK,IE,IT,LV                       1741   \n",
       "\n",
       "                                        teks_per_shared_diagnosis  \\\n",
       "sample_date source_regions                                          \n",
       "2020-12-13  ES,DE,DK,HR,IE,IT,LV,NL,PL                   9.993363   \n",
       "2020-12-12  ES,DE,DK,HR,IE,IT,LV,NL,PL                  10.388576   \n",
       "2020-12-11  ES,DE,DK,HR,IE,IT,LV,NL,PL                  10.655042   \n",
       "2020-12-10  ES,DE,DK,HR,IE,IT,LV,NL,PL                  10.741076   \n",
       "2020-12-09  ES,DE,DK,HR,IE,IT,LV,NL,PL                  10.713503   \n",
       "2020-12-08  ES,DE,DK,HR,IE,IT,LV,NL,PL                  11.397955   \n",
       "2020-12-07  ES,DE,DK,HR,IE,IT,LV,NL,PL                  11.027976   \n",
       "2020-12-06  ES,DE,DK,HR,IE,IT,LV,NL,PL                  10.079672   \n",
       "2020-12-05  ES,DE,DK,HR,IE,IT,LV,NL,PL                   0.000000   \n",
       "2020-12-04  ES                                           4.223404   \n",
       "2020-12-03  ES                                           4.380952   \n",
       "2020-12-02  ES,DE,DK,HR,IE,IT,LV,NL,PL                   0.000000   \n",
       "2020-12-01  ES,DE,DK,HR,IE,IT,LV,PL                     11.025022   \n",
       "2020-11-30  ES,DE,DK,HR,IE,IT,LV,PL                     10.511189   \n",
       "2020-11-29  ES,DE,DK,HR,IE,IT,LV,PL                     10.276128   \n",
       "2020-11-28  ES,DE,DK,HR,IE,IT,LV,PL                     10.437031   \n",
       "2020-11-27  ES,DE,DK,HR,IE,IT,LV,PL                     10.771820   \n",
       "2020-11-26  ES,DE,DK,HR,IE,IT,LV,PL                     10.508396   \n",
       "2020-11-25  ES,DE,DK,HR,IE,IT,LV                        10.876329   \n",
       "2020-11-24  ES,DE,DK,HR,IE,IT,LV                        10.677864   \n",
       "2020-11-23  ES,DE,DK,HR,IE,IT,LV                         9.805556   \n",
       "2020-11-22  ES,DE,DK,HR,IE,IT,LV                         9.559055   \n",
       "2020-11-21  ES,DE,DK,HR,IE,IT,LV                         9.936264   \n",
       "2020-11-20  ES,DE,DK,IE,IT,LV                           10.207107   \n",
       "2020-11-19  ES,DE,DK,IE,IT,LV                           10.304173   \n",
       "2020-11-18  ES,DE,DK,IE,IT,LV                           10.233962   \n",
       "2020-11-17  ES,DE,DK,IE,IT,LV                           10.830872   \n",
       "2020-11-16  ES,DE,DK,IE,IT,LV                           10.097071   \n",
       "\n",
       "                                        shared_diagnoses_per_covid_case  \n",
       "sample_date source_regions                                               \n",
       "2020-12-13  ES,DE,DK,HR,IE,IT,LV,NL,PL                         0.039060  \n",
       "2020-12-12  ES,DE,DK,HR,IE,IT,LV,NL,PL                         0.054159  \n",
       "2020-12-11  ES,DE,DK,HR,IE,IT,LV,NL,PL                         0.061796  \n",
       "2020-12-10  ES,DE,DK,HR,IE,IT,LV,NL,PL                         0.055701  \n",
       "2020-12-09  ES,DE,DK,HR,IE,IT,LV,NL,PL                         0.058735  \n",
       "2020-12-08  ES,DE,DK,HR,IE,IT,LV,NL,PL                         0.038733  \n",
       "2020-12-07  ES,DE,DK,HR,IE,IT,LV,NL,PL                         0.026278  \n",
       "2020-12-06  ES,DE,DK,HR,IE,IT,LV,NL,PL                         0.024446  \n",
       "2020-12-05  ES,DE,DK,HR,IE,IT,LV,NL,PL                         0.000000  \n",
       "2020-12-04  ES                                                 0.023316  \n",
       "2020-12-03  ES                                                 0.022597  \n",
       "2020-12-02  ES,DE,DK,HR,IE,IT,LV,NL,PL                         0.000000  \n",
       "2020-12-01  ES,DE,DK,HR,IE,IT,LV,PL                            0.030846  \n",
       "2020-11-30  ES,DE,DK,HR,IE,IT,LV,PL                            0.018967  \n",
       "2020-11-29  ES,DE,DK,HR,IE,IT,LV,PL                            0.021525  \n",
       "2020-11-28  ES,DE,DK,HR,IE,IT,LV,PL                            0.029685  \n",
       "2020-11-27  ES,DE,DK,HR,IE,IT,LV,PL                            0.030864  \n",
       "2020-11-26  ES,DE,DK,HR,IE,IT,LV,PL                            0.035555  \n",
       "2020-11-25  ES,DE,DK,HR,IE,IT,LV                               0.043062  \n",
       "2020-11-24  ES,DE,DK,HR,IE,IT,LV                               0.024768  \n",
       "2020-11-23  ES,DE,DK,HR,IE,IT,LV                               0.019552  \n",
       "2020-11-22  ES,DE,DK,HR,IE,IT,LV                               0.021589  \n",
       "2020-11-21  ES,DE,DK,HR,IE,IT,LV                               0.032058  \n",
       "2020-11-20  ES,DE,DK,IE,IT,LV                                  0.038001  \n",
       "2020-11-19  ES,DE,DK,IE,IT,LV                                  0.035613  \n",
       "2020-11-18  ES,DE,DK,IE,IT,LV                                  0.041578  \n",
       "2020-11-17  ES,DE,DK,IE,IT,LV                                  0.029501  \n",
       "2020-11-16  ES,DE,DK,IE,IT,LV                                  0.024349  "
      ]
     },
     "execution_count": 47,
     "metadata": {},
     "output_type": "execute_result"
    }
   ],
   "source": [
    "with pd.option_context(\"mode.use_inf_as_na\", True):\n",
    "    result_summary_df = result_summary_df.fillna(0).astype(int)\n",
    "    result_summary_df[\"teks_per_shared_diagnosis\"] = \\\n",
    "        (result_summary_df.shared_teks_by_upload_date / result_summary_df.shared_diagnoses).fillna(0)\n",
    "    result_summary_df[\"shared_diagnoses_per_covid_case\"] = \\\n",
    "        (result_summary_df.shared_diagnoses / result_summary_df.covid_cases).fillna(0)\n",
    "\n",
    "result_summary_df.head(daily_plot_days)"
   ]
  },
  {
   "cell_type": "code",
   "execution_count": 48,
   "metadata": {
    "collapsed": false,
    "execution": {
     "iopub.execute_input": "2020-12-13T23:28:49.003702Z",
     "iopub.status.busy": "2020-12-13T23:28:49.003101Z",
     "iopub.status.idle": "2020-12-13T23:28:49.030098Z",
     "shell.execute_reply": "2020-12-13T23:28:49.030653Z"
    },
    "papermill": {
     "duration": 0.092881,
     "end_time": "2020-12-13T23:28:49.030823",
     "exception": false,
     "start_time": "2020-12-13T23:28:48.937942",
     "status": "completed"
    },
    "pycharm": {
     "name": "#%%\n"
    },
    "tags": []
   },
   "outputs": [
    {
     "data": {
      "text/html": [
       "<div>\n",
       "<style scoped>\n",
       "    .dataframe tbody tr th:only-of-type {\n",
       "        vertical-align: middle;\n",
       "    }\n",
       "\n",
       "    .dataframe tbody tr th {\n",
       "        vertical-align: top;\n",
       "    }\n",
       "\n",
       "    .dataframe thead th {\n",
       "        text-align: right;\n",
       "    }\n",
       "</style>\n",
       "<table border=\"1\" class=\"dataframe\">\n",
       "  <thead>\n",
       "    <tr style=\"text-align: right;\">\n",
       "      <th></th>\n",
       "      <th></th>\n",
       "      <th>covid_cases</th>\n",
       "      <th>shared_teks_by_generation_date</th>\n",
       "      <th>shared_teks_by_upload_date</th>\n",
       "      <th>shared_diagnoses</th>\n",
       "      <th>teks_per_shared_diagnosis</th>\n",
       "      <th>shared_diagnoses_per_covid_case</th>\n",
       "    </tr>\n",
       "    <tr>\n",
       "      <th>sample_date</th>\n",
       "      <th>source_regions</th>\n",
       "      <th></th>\n",
       "      <th></th>\n",
       "      <th></th>\n",
       "      <th></th>\n",
       "      <th></th>\n",
       "      <th></th>\n",
       "    </tr>\n",
       "  </thead>\n",
       "  <tbody>\n",
       "    <tr>\n",
       "      <th>2020-12-13</th>\n",
       "      <th>ES,DE,DK,HR,IE,IT,LV,NL,PL</th>\n",
       "      <td>479788</td>\n",
       "      <td>63639</td>\n",
       "      <td>244284</td>\n",
       "      <td>22888</td>\n",
       "      <td>10.673016</td>\n",
       "      <td>0.047704</td>\n",
       "    </tr>\n",
       "    <tr>\n",
       "      <th>2020-12-12</th>\n",
       "      <th>ES,DE,DK,HR,IE,IT,LV,NL,PL</th>\n",
       "      <td>480183</td>\n",
       "      <td>83136</td>\n",
       "      <td>234388</td>\n",
       "      <td>21883</td>\n",
       "      <td>10.710963</td>\n",
       "      <td>0.045572</td>\n",
       "    </tr>\n",
       "    <tr>\n",
       "      <th>2020-12-11</th>\n",
       "      <th>ES,DE,DK,HR,IE,IT,LV,NL,PL</th>\n",
       "      <td>481436</td>\n",
       "      <td>102420</td>\n",
       "      <td>301868</td>\n",
       "      <td>18154</td>\n",
       "      <td>16.628181</td>\n",
       "      <td>0.037708</td>\n",
       "    </tr>\n",
       "    <tr>\n",
       "      <th>2020-12-10</th>\n",
       "      <th>ES,DE,DK,HR,IE,IT,LV,NL,PL</th>\n",
       "      <td>421291</td>\n",
       "      <td>120265</td>\n",
       "      <td>257751</td>\n",
       "      <td>14127</td>\n",
       "      <td>18.245275</td>\n",
       "      <td>0.033533</td>\n",
       "    </tr>\n",
       "    <tr>\n",
       "      <th>2020-12-09</th>\n",
       "      <th>ES,DE,DK,HR,IE,IT,LV,NL,PL</th>\n",
       "      <td>362259</td>\n",
       "      <td>136632</td>\n",
       "      <td>218257</td>\n",
       "      <td>10562</td>\n",
       "      <td>20.664363</td>\n",
       "      <td>0.029156</td>\n",
       "    </tr>\n",
       "  </tbody>\n",
       "</table>\n",
       "</div>"
      ],
      "text/plain": [
       "                                        covid_cases  \\\n",
       "sample_date source_regions                            \n",
       "2020-12-13  ES,DE,DK,HR,IE,IT,LV,NL,PL       479788   \n",
       "2020-12-12  ES,DE,DK,HR,IE,IT,LV,NL,PL       480183   \n",
       "2020-12-11  ES,DE,DK,HR,IE,IT,LV,NL,PL       481436   \n",
       "2020-12-10  ES,DE,DK,HR,IE,IT,LV,NL,PL       421291   \n",
       "2020-12-09  ES,DE,DK,HR,IE,IT,LV,NL,PL       362259   \n",
       "\n",
       "                                        shared_teks_by_generation_date  \\\n",
       "sample_date source_regions                                               \n",
       "2020-12-13  ES,DE,DK,HR,IE,IT,LV,NL,PL                           63639   \n",
       "2020-12-12  ES,DE,DK,HR,IE,IT,LV,NL,PL                           83136   \n",
       "2020-12-11  ES,DE,DK,HR,IE,IT,LV,NL,PL                          102420   \n",
       "2020-12-10  ES,DE,DK,HR,IE,IT,LV,NL,PL                          120265   \n",
       "2020-12-09  ES,DE,DK,HR,IE,IT,LV,NL,PL                          136632   \n",
       "\n",
       "                                        shared_teks_by_upload_date  \\\n",
       "sample_date source_regions                                           \n",
       "2020-12-13  ES,DE,DK,HR,IE,IT,LV,NL,PL                      244284   \n",
       "2020-12-12  ES,DE,DK,HR,IE,IT,LV,NL,PL                      234388   \n",
       "2020-12-11  ES,DE,DK,HR,IE,IT,LV,NL,PL                      301868   \n",
       "2020-12-10  ES,DE,DK,HR,IE,IT,LV,NL,PL                      257751   \n",
       "2020-12-09  ES,DE,DK,HR,IE,IT,LV,NL,PL                      218257   \n",
       "\n",
       "                                        shared_diagnoses  \\\n",
       "sample_date source_regions                                 \n",
       "2020-12-13  ES,DE,DK,HR,IE,IT,LV,NL,PL             22888   \n",
       "2020-12-12  ES,DE,DK,HR,IE,IT,LV,NL,PL             21883   \n",
       "2020-12-11  ES,DE,DK,HR,IE,IT,LV,NL,PL             18154   \n",
       "2020-12-10  ES,DE,DK,HR,IE,IT,LV,NL,PL             14127   \n",
       "2020-12-09  ES,DE,DK,HR,IE,IT,LV,NL,PL             10562   \n",
       "\n",
       "                                        teks_per_shared_diagnosis  \\\n",
       "sample_date source_regions                                          \n",
       "2020-12-13  ES,DE,DK,HR,IE,IT,LV,NL,PL                  10.673016   \n",
       "2020-12-12  ES,DE,DK,HR,IE,IT,LV,NL,PL                  10.710963   \n",
       "2020-12-11  ES,DE,DK,HR,IE,IT,LV,NL,PL                  16.628181   \n",
       "2020-12-10  ES,DE,DK,HR,IE,IT,LV,NL,PL                  18.245275   \n",
       "2020-12-09  ES,DE,DK,HR,IE,IT,LV,NL,PL                  20.664363   \n",
       "\n",
       "                                        shared_diagnoses_per_covid_case  \n",
       "sample_date source_regions                                               \n",
       "2020-12-13  ES,DE,DK,HR,IE,IT,LV,NL,PL                         0.047704  \n",
       "2020-12-12  ES,DE,DK,HR,IE,IT,LV,NL,PL                         0.045572  \n",
       "2020-12-11  ES,DE,DK,HR,IE,IT,LV,NL,PL                         0.037708  \n",
       "2020-12-10  ES,DE,DK,HR,IE,IT,LV,NL,PL                         0.033533  \n",
       "2020-12-09  ES,DE,DK,HR,IE,IT,LV,NL,PL                         0.029156  "
      ]
     },
     "execution_count": 48,
     "metadata": {},
     "output_type": "execute_result"
    }
   ],
   "source": [
    "weekly_result_summary_df = result_summary_df \\\n",
    "    .sort_index(ascending=True).fillna(0).rolling(7).agg({\n",
    "    \"covid_cases\": \"sum\",\n",
    "    \"shared_teks_by_generation_date\": \"sum\",\n",
    "    \"shared_teks_by_upload_date\": \"sum\",\n",
    "    \"shared_diagnoses\": \"sum\"\n",
    "}).sort_index(ascending=False)\n",
    "\n",
    "with pd.option_context(\"mode.use_inf_as_na\", True):\n",
    "    weekly_result_summary_df = weekly_result_summary_df.fillna(0).astype(int)\n",
    "    weekly_result_summary_df[\"teks_per_shared_diagnosis\"] = \\\n",
    "        (weekly_result_summary_df.shared_teks_by_upload_date / weekly_result_summary_df.shared_diagnoses).fillna(0)\n",
    "    weekly_result_summary_df[\"shared_diagnoses_per_covid_case\"] = \\\n",
    "        (weekly_result_summary_df.shared_diagnoses / weekly_result_summary_df.covid_cases).fillna(0)\n",
    "\n",
    "weekly_result_summary_df.head()"
   ]
  },
  {
   "cell_type": "code",
   "execution_count": 49,
   "metadata": {
    "collapsed": false,
    "execution": {
     "iopub.execute_input": "2020-12-13T23:28:49.159168Z",
     "iopub.status.busy": "2020-12-13T23:28:49.158578Z",
     "iopub.status.idle": "2020-12-13T23:28:49.162256Z",
     "shell.execute_reply": "2020-12-13T23:28:49.161751Z"
    },
    "papermill": {
     "duration": 0.068679,
     "end_time": "2020-12-13T23:28:49.162464",
     "exception": false,
     "start_time": "2020-12-13T23:28:49.093785",
     "status": "completed"
    },
    "pycharm": {
     "name": "#%%\n"
    },
    "tags": []
   },
   "outputs": [
    {
     "data": {
      "text/plain": [
       "{'covid_cases': 480183,\n",
       " 'shared_teks_by_generation_date': 83136,\n",
       " 'shared_teks_by_upload_date': 234388,\n",
       " 'shared_diagnoses': 21883,\n",
       " 'teks_per_shared_diagnosis': 10.710962847872779,\n",
       " 'shared_diagnoses_per_covid_case': 0.045572208928679275}"
      ]
     },
     "execution_count": 49,
     "metadata": {},
     "output_type": "execute_result"
    }
   ],
   "source": [
    "last_7_days_summary = weekly_result_summary_df.to_dict(orient=\"records\")[1]\n",
    "last_7_days_summary"
   ]
  },
  {
   "cell_type": "markdown",
   "metadata": {
    "collapsed": false,
    "papermill": {
     "duration": 0.059997,
     "end_time": "2020-12-13T23:28:49.291000",
     "exception": false,
     "start_time": "2020-12-13T23:28:49.231003",
     "status": "completed"
    },
    "tags": []
   },
   "source": [
    "## Report Results"
   ]
  },
  {
   "cell_type": "code",
   "execution_count": 50,
   "metadata": {
    "collapsed": false,
    "execution": {
     "iopub.execute_input": "2020-12-13T23:28:49.416953Z",
     "iopub.status.busy": "2020-12-13T23:28:49.416294Z",
     "iopub.status.idle": "2020-12-13T23:28:49.418184Z",
     "shell.execute_reply": "2020-12-13T23:28:49.418633Z"
    },
    "papermill": {
     "duration": 0.072358,
     "end_time": "2020-12-13T23:28:49.418816",
     "exception": false,
     "start_time": "2020-12-13T23:28:49.346458",
     "status": "completed"
    },
    "pycharm": {
     "name": "#%%\n"
    },
    "tags": []
   },
   "outputs": [],
   "source": [
    "display_column_name_mapping = {\n",
    "    \"sample_date\": \"Sample\\u00A0Date\\u00A0(UTC)\",\n",
    "    \"source_regions\": \"Source Countries\",\n",
    "    \"datetime_utc\": \"Timestamp (UTC)\",\n",
    "    \"upload_date\": \"Upload Date (UTC)\",\n",
    "    \"generation_to_upload_days\": \"Generation to Upload Period in Days\",\n",
    "    \"region\": \"Backend\",\n",
    "    \"region_x\": \"Backend\\u00A0(A)\",\n",
    "    \"region_y\": \"Backend\\u00A0(B)\",\n",
    "    \"common_teks\": \"Common TEKs Shared Between Backends\",\n",
    "    \"common_teks_fraction\": \"Fraction of TEKs in Backend (A) Available in Backend (B)\",\n",
    "    \"covid_cases\": \"COVID-19 Cases in Source Countries (7-day Rolling Average)\",\n",
    "    \"shared_teks_by_generation_date\": \"Shared TEKs by Generation Date\",\n",
    "    \"shared_teks_by_upload_date\": \"Shared TEKs by Upload Date\",\n",
    "    \"shared_diagnoses\": \"Shared Diagnoses (Estimation)\",\n",
    "    \"teks_per_shared_diagnosis\": \"TEKs Uploaded per Shared Diagnosis\",\n",
    "    \"shared_diagnoses_per_covid_case\": \"Usage Ratio (Fraction of Cases in Source Countries Which Shared Diagnosis)\",\n",
    "    \"shared_teks_uploaded_on_generation_date\": \"Shared TEKs Uploaded on Generation Date\",\n",
    "}"
   ]
  },
  {
   "cell_type": "code",
   "execution_count": 51,
   "metadata": {
    "collapsed": false,
    "execution": {
     "iopub.execute_input": "2020-12-13T23:28:49.559591Z",
     "iopub.status.busy": "2020-12-13T23:28:49.559018Z",
     "iopub.status.idle": "2020-12-13T23:28:49.561574Z",
     "shell.execute_reply": "2020-12-13T23:28:49.561065Z"
    },
    "papermill": {
     "duration": 0.077257,
     "end_time": "2020-12-13T23:28:49.561710",
     "exception": false,
     "start_time": "2020-12-13T23:28:49.484453",
     "status": "completed"
    },
    "pycharm": {
     "name": "#%%\n"
    },
    "tags": []
   },
   "outputs": [],
   "source": [
    "summary_columns = [\n",
    "    \"covid_cases\",\n",
    "    \"shared_teks_by_generation_date\",\n",
    "    \"shared_teks_by_upload_date\",\n",
    "    \"shared_teks_uploaded_on_generation_date\",\n",
    "    \"shared_diagnoses\",\n",
    "    \"teks_per_shared_diagnosis\",\n",
    "    \"shared_diagnoses_per_covid_case\",\n",
    "]"
   ]
  },
  {
   "cell_type": "markdown",
   "metadata": {
    "collapsed": false,
    "papermill": {
     "duration": 0.066667,
     "end_time": "2020-12-13T23:28:49.695554",
     "exception": false,
     "start_time": "2020-12-13T23:28:49.628887",
     "status": "completed"
    },
    "tags": []
   },
   "source": [
    "### Daily Summary Table"
   ]
  },
  {
   "cell_type": "code",
   "execution_count": 52,
   "metadata": {
    "collapsed": false,
    "execution": {
     "iopub.execute_input": "2020-12-13T23:28:49.831730Z",
     "iopub.status.busy": "2020-12-13T23:28:49.831181Z",
     "iopub.status.idle": "2020-12-13T23:28:49.849508Z",
     "shell.execute_reply": "2020-12-13T23:28:49.849000Z"
    },
    "papermill": {
     "duration": 0.088672,
     "end_time": "2020-12-13T23:28:49.849624",
     "exception": false,
     "start_time": "2020-12-13T23:28:49.760952",
     "status": "completed"
    },
    "pycharm": {
     "name": "#%%\n"
    },
    "tags": []
   },
   "outputs": [
    {
     "data": {
      "text/html": [
       "<div>\n",
       "<style scoped>\n",
       "    .dataframe tbody tr th:only-of-type {\n",
       "        vertical-align: middle;\n",
       "    }\n",
       "\n",
       "    .dataframe tbody tr th {\n",
       "        vertical-align: top;\n",
       "    }\n",
       "\n",
       "    .dataframe thead th {\n",
       "        text-align: right;\n",
       "    }\n",
       "</style>\n",
       "<table border=\"1\" class=\"dataframe\">\n",
       "  <thead>\n",
       "    <tr style=\"text-align: right;\">\n",
       "      <th></th>\n",
       "      <th></th>\n",
       "      <th>COVID-19 Cases in Source Countries (7-day Rolling Average)</th>\n",
       "      <th>Shared TEKs by Generation Date</th>\n",
       "      <th>Shared TEKs by Upload Date</th>\n",
       "      <th>Shared TEKs Uploaded on Generation Date</th>\n",
       "      <th>Shared Diagnoses (Estimation)</th>\n",
       "      <th>TEKs Uploaded per Shared Diagnosis</th>\n",
       "      <th>Usage Ratio (Fraction of Cases in Source Countries Which Shared Diagnosis)</th>\n",
       "    </tr>\n",
       "    <tr>\n",
       "      <th>Sample Date (UTC)</th>\n",
       "      <th>Source Countries</th>\n",
       "      <th></th>\n",
       "      <th></th>\n",
       "      <th></th>\n",
       "      <th></th>\n",
       "      <th></th>\n",
       "      <th></th>\n",
       "      <th></th>\n",
       "    </tr>\n",
       "  </thead>\n",
       "  <tbody>\n",
       "    <tr>\n",
       "      <th>2020-12-13</th>\n",
       "      <th>ES,DE,DK,HR,IE,IT,LV,NL,PL</th>\n",
       "      <td>69432</td>\n",
       "      <td>96</td>\n",
       "      <td>27102</td>\n",
       "      <td>96</td>\n",
       "      <td>2712</td>\n",
       "      <td>9.993363</td>\n",
       "      <td>0.039060</td>\n",
       "    </tr>\n",
       "    <tr>\n",
       "      <th>2020-12-12</th>\n",
       "      <th>ES,DE,DK,HR,IE,IT,LV,NL,PL</th>\n",
       "      <td>68853</td>\n",
       "      <td>1629</td>\n",
       "      <td>38739</td>\n",
       "      <td>208</td>\n",
       "      <td>3729</td>\n",
       "      <td>10.388576</td>\n",
       "      <td>0.054159</td>\n",
       "    </tr>\n",
       "    <tr>\n",
       "      <th>2020-12-11</th>\n",
       "      <th>ES,DE,DK,HR,IE,IT,LV,NL,PL</th>\n",
       "      <td>68208</td>\n",
       "      <td>5372</td>\n",
       "      <td>44911</td>\n",
       "      <td>258</td>\n",
       "      <td>4215</td>\n",
       "      <td>10.655042</td>\n",
       "      <td>0.061796</td>\n",
       "    </tr>\n",
       "    <tr>\n",
       "      <th>2020-12-10</th>\n",
       "      <th>ES,DE,DK,HR,IE,IT,LV,NL,PL</th>\n",
       "      <td>67396</td>\n",
       "      <td>9252</td>\n",
       "      <td>40322</td>\n",
       "      <td>207</td>\n",
       "      <td>3754</td>\n",
       "      <td>10.741076</td>\n",
       "      <td>0.055701</td>\n",
       "    </tr>\n",
       "    <tr>\n",
       "      <th>2020-12-09</th>\n",
       "      <th>ES,DE,DK,HR,IE,IT,LV,NL,PL</th>\n",
       "      <td>68341</td>\n",
       "      <td>12628</td>\n",
       "      <td>43004</td>\n",
       "      <td>117</td>\n",
       "      <td>4014</td>\n",
       "      <td>10.713503</td>\n",
       "      <td>0.058735</td>\n",
       "    </tr>\n",
       "    <tr>\n",
       "      <th>...</th>\n",
       "      <th>...</th>\n",
       "      <td>...</td>\n",
       "      <td>...</td>\n",
       "      <td>...</td>\n",
       "      <td>...</td>\n",
       "      <td>...</td>\n",
       "      <td>...</td>\n",
       "      <td>...</td>\n",
       "    </tr>\n",
       "    <tr>\n",
       "      <th>2020-09-25</th>\n",
       "      <th>ES</th>\n",
       "      <td>10920</td>\n",
       "      <td>284</td>\n",
       "      <td>306</td>\n",
       "      <td>14</td>\n",
       "      <td>86</td>\n",
       "      <td>3.558140</td>\n",
       "      <td>0.007875</td>\n",
       "    </tr>\n",
       "    <tr>\n",
       "      <th>2020-09-24</th>\n",
       "      <th>ES</th>\n",
       "      <td>11223</td>\n",
       "      <td>286</td>\n",
       "      <td>289</td>\n",
       "      <td>17</td>\n",
       "      <td>89</td>\n",
       "      <td>3.247191</td>\n",
       "      <td>0.007930</td>\n",
       "    </tr>\n",
       "    <tr>\n",
       "      <th>2020-09-23</th>\n",
       "      <th>ES</th>\n",
       "      <td>11314</td>\n",
       "      <td>296</td>\n",
       "      <td>267</td>\n",
       "      <td>4</td>\n",
       "      <td>70</td>\n",
       "      <td>3.814286</td>\n",
       "      <td>0.006187</td>\n",
       "    </tr>\n",
       "    <tr>\n",
       "      <th>2020-09-22</th>\n",
       "      <th>ES</th>\n",
       "      <td>11300</td>\n",
       "      <td>282</td>\n",
       "      <td>148</td>\n",
       "      <td>0</td>\n",
       "      <td>55</td>\n",
       "      <td>2.690909</td>\n",
       "      <td>0.004867</td>\n",
       "    </tr>\n",
       "    <tr>\n",
       "      <th>2020-09-21</th>\n",
       "      <th>ES</th>\n",
       "      <td>11105</td>\n",
       "      <td>268</td>\n",
       "      <td>190</td>\n",
       "      <td>0</td>\n",
       "      <td>45</td>\n",
       "      <td>4.222222</td>\n",
       "      <td>0.004052</td>\n",
       "    </tr>\n",
       "  </tbody>\n",
       "</table>\n",
       "<p>84 rows × 7 columns</p>\n",
       "</div>"
      ],
      "text/plain": [
       "                                              COVID-19 Cases in Source Countries (7-day Rolling Average)  \\\n",
       "Sample Date (UTC) Source Countries                                                                         \n",
       "2020-12-13        ES,DE,DK,HR,IE,IT,LV,NL,PL                                              69432            \n",
       "2020-12-12        ES,DE,DK,HR,IE,IT,LV,NL,PL                                              68853            \n",
       "2020-12-11        ES,DE,DK,HR,IE,IT,LV,NL,PL                                              68208            \n",
       "2020-12-10        ES,DE,DK,HR,IE,IT,LV,NL,PL                                              67396            \n",
       "2020-12-09        ES,DE,DK,HR,IE,IT,LV,NL,PL                                              68341            \n",
       "...                                                                                         ...            \n",
       "2020-09-25        ES                                                                      10920            \n",
       "2020-09-24        ES                                                                      11223            \n",
       "2020-09-23        ES                                                                      11314            \n",
       "2020-09-22        ES                                                                      11300            \n",
       "2020-09-21        ES                                                                      11105            \n",
       "\n",
       "                                              Shared TEKs by Generation Date  \\\n",
       "Sample Date (UTC) Source Countries                                             \n",
       "2020-12-13        ES,DE,DK,HR,IE,IT,LV,NL,PL                              96   \n",
       "2020-12-12        ES,DE,DK,HR,IE,IT,LV,NL,PL                            1629   \n",
       "2020-12-11        ES,DE,DK,HR,IE,IT,LV,NL,PL                            5372   \n",
       "2020-12-10        ES,DE,DK,HR,IE,IT,LV,NL,PL                            9252   \n",
       "2020-12-09        ES,DE,DK,HR,IE,IT,LV,NL,PL                           12628   \n",
       "...                                                                      ...   \n",
       "2020-09-25        ES                                                     284   \n",
       "2020-09-24        ES                                                     286   \n",
       "2020-09-23        ES                                                     296   \n",
       "2020-09-22        ES                                                     282   \n",
       "2020-09-21        ES                                                     268   \n",
       "\n",
       "                                              Shared TEKs by Upload Date  \\\n",
       "Sample Date (UTC) Source Countries                                         \n",
       "2020-12-13        ES,DE,DK,HR,IE,IT,LV,NL,PL                       27102   \n",
       "2020-12-12        ES,DE,DK,HR,IE,IT,LV,NL,PL                       38739   \n",
       "2020-12-11        ES,DE,DK,HR,IE,IT,LV,NL,PL                       44911   \n",
       "2020-12-10        ES,DE,DK,HR,IE,IT,LV,NL,PL                       40322   \n",
       "2020-12-09        ES,DE,DK,HR,IE,IT,LV,NL,PL                       43004   \n",
       "...                                                                  ...   \n",
       "2020-09-25        ES                                                 306   \n",
       "2020-09-24        ES                                                 289   \n",
       "2020-09-23        ES                                                 267   \n",
       "2020-09-22        ES                                                 148   \n",
       "2020-09-21        ES                                                 190   \n",
       "\n",
       "                                              Shared TEKs Uploaded on Generation Date  \\\n",
       "Sample Date (UTC) Source Countries                                                      \n",
       "2020-12-13        ES,DE,DK,HR,IE,IT,LV,NL,PL                                       96   \n",
       "2020-12-12        ES,DE,DK,HR,IE,IT,LV,NL,PL                                      208   \n",
       "2020-12-11        ES,DE,DK,HR,IE,IT,LV,NL,PL                                      258   \n",
       "2020-12-10        ES,DE,DK,HR,IE,IT,LV,NL,PL                                      207   \n",
       "2020-12-09        ES,DE,DK,HR,IE,IT,LV,NL,PL                                      117   \n",
       "...                                                                               ...   \n",
       "2020-09-25        ES                                                               14   \n",
       "2020-09-24        ES                                                               17   \n",
       "2020-09-23        ES                                                                4   \n",
       "2020-09-22        ES                                                                0   \n",
       "2020-09-21        ES                                                                0   \n",
       "\n",
       "                                              Shared Diagnoses (Estimation)  \\\n",
       "Sample Date (UTC) Source Countries                                            \n",
       "2020-12-13        ES,DE,DK,HR,IE,IT,LV,NL,PL                           2712   \n",
       "2020-12-12        ES,DE,DK,HR,IE,IT,LV,NL,PL                           3729   \n",
       "2020-12-11        ES,DE,DK,HR,IE,IT,LV,NL,PL                           4215   \n",
       "2020-12-10        ES,DE,DK,HR,IE,IT,LV,NL,PL                           3754   \n",
       "2020-12-09        ES,DE,DK,HR,IE,IT,LV,NL,PL                           4014   \n",
       "...                                                                     ...   \n",
       "2020-09-25        ES                                                     86   \n",
       "2020-09-24        ES                                                     89   \n",
       "2020-09-23        ES                                                     70   \n",
       "2020-09-22        ES                                                     55   \n",
       "2020-09-21        ES                                                     45   \n",
       "\n",
       "                                              TEKs Uploaded per Shared Diagnosis  \\\n",
       "Sample Date (UTC) Source Countries                                                 \n",
       "2020-12-13        ES,DE,DK,HR,IE,IT,LV,NL,PL                            9.993363   \n",
       "2020-12-12        ES,DE,DK,HR,IE,IT,LV,NL,PL                           10.388576   \n",
       "2020-12-11        ES,DE,DK,HR,IE,IT,LV,NL,PL                           10.655042   \n",
       "2020-12-10        ES,DE,DK,HR,IE,IT,LV,NL,PL                           10.741076   \n",
       "2020-12-09        ES,DE,DK,HR,IE,IT,LV,NL,PL                           10.713503   \n",
       "...                                                                          ...   \n",
       "2020-09-25        ES                                                    3.558140   \n",
       "2020-09-24        ES                                                    3.247191   \n",
       "2020-09-23        ES                                                    3.814286   \n",
       "2020-09-22        ES                                                    2.690909   \n",
       "2020-09-21        ES                                                    4.222222   \n",
       "\n",
       "                                              Usage Ratio (Fraction of Cases in Source Countries Which Shared Diagnosis)  \n",
       "Sample Date (UTC) Source Countries                                                                                        \n",
       "2020-12-13        ES,DE,DK,HR,IE,IT,LV,NL,PL                                           0.039060                           \n",
       "2020-12-12        ES,DE,DK,HR,IE,IT,LV,NL,PL                                           0.054159                           \n",
       "2020-12-11        ES,DE,DK,HR,IE,IT,LV,NL,PL                                           0.061796                           \n",
       "2020-12-10        ES,DE,DK,HR,IE,IT,LV,NL,PL                                           0.055701                           \n",
       "2020-12-09        ES,DE,DK,HR,IE,IT,LV,NL,PL                                           0.058735                           \n",
       "...                                                                                         ...                           \n",
       "2020-09-25        ES                                                                   0.007875                           \n",
       "2020-09-24        ES                                                                   0.007930                           \n",
       "2020-09-23        ES                                                                   0.006187                           \n",
       "2020-09-22        ES                                                                   0.004867                           \n",
       "2020-09-21        ES                                                                   0.004052                           \n",
       "\n",
       "[84 rows x 7 columns]"
      ]
     },
     "execution_count": 52,
     "metadata": {},
     "output_type": "execute_result"
    }
   ],
   "source": [
    "result_summary_df_ = result_summary_df.copy()\n",
    "result_summary_df = result_summary_df[summary_columns]\n",
    "result_summary_with_display_names_df = result_summary_df \\\n",
    "    .rename_axis(index=display_column_name_mapping) \\\n",
    "    .rename(columns=display_column_name_mapping)\n",
    "result_summary_with_display_names_df"
   ]
  },
  {
   "cell_type": "markdown",
   "metadata": {
    "collapsed": false,
    "papermill": {
     "duration": 0.060593,
     "end_time": "2020-12-13T23:28:49.970487",
     "exception": false,
     "start_time": "2020-12-13T23:28:49.909894",
     "status": "completed"
    },
    "tags": []
   },
   "source": [
    "### Daily Summary Plots"
   ]
  },
  {
   "cell_type": "code",
   "execution_count": 53,
   "metadata": {
    "collapsed": false,
    "execution": {
     "iopub.execute_input": "2020-12-13T23:28:50.113062Z",
     "iopub.status.busy": "2020-12-13T23:28:50.110284Z",
     "iopub.status.idle": "2020-12-13T23:28:52.339277Z",
     "shell.execute_reply": "2020-12-13T23:28:52.339898Z"
    },
    "papermill": {
     "duration": 2.306396,
     "end_time": "2020-12-13T23:28:52.340136",
     "exception": false,
     "start_time": "2020-12-13T23:28:50.033740",
     "status": "completed"
    },
    "pycharm": {
     "name": "#%%\n"
    },
    "tags": []
   },
   "outputs": [
    {
     "data": {
      "image/png": "[encoded data removed]",
      "text/plain": [
       "<Figure size 1080x1584 with 7 Axes>"
      ]
     },
     "metadata": {},
     "output_type": "display_data"
    }
   ],
   "source": [
    "result_plot_summary_df = result_summary_df.head(daily_plot_days)[summary_columns] \\\n",
    "    .droplevel(level=[\"source_regions\"]) \\\n",
    "    .rename_axis(index=display_column_name_mapping) \\\n",
    "    .rename(columns=display_column_name_mapping)\n",
    "summary_ax_list = result_plot_summary_df.sort_index(ascending=True).plot.bar(\n",
    "    title=f\"Daily Summary\",\n",
    "    rot=45, subplots=True, figsize=(15, 22), legend=False)\n",
    "ax_ = summary_ax_list[-1]\n",
    "ax_.get_figure().tight_layout()\n",
    "ax_.get_figure().subplots_adjust(top=0.95)\n",
    "ax_.yaxis.set_major_formatter(matplotlib.ticker.PercentFormatter(1.0))\n",
    "_ = ax_.set_xticklabels(sorted(result_plot_summary_df.index.strftime(\"%Y-%m-%d\").tolist()))"
   ]
  },
  {
   "cell_type": "markdown",
   "metadata": {
    "execution": {
     "iopub.execute_input": "2020-09-02T08:20:14.568088Z",
     "iopub.status.busy": "2020-09-02T08:20:14.567425Z",
     "iopub.status.idle": "2020-09-02T08:20:14.571422Z",
     "shell.execute_reply": "2020-09-02T08:20:14.571952Z"
    },
    "papermill": {
     "duration": 0.060084,
     "end_time": "2020-12-13T23:28:52.467407",
     "exception": false,
     "start_time": "2020-12-13T23:28:52.407323",
     "status": "completed"
    },
    "pycharm": {
     "name": "#%% md\n"
    },
    "tags": []
   },
   "source": [
    "### Daily Generation to Upload Period Table"
   ]
  },
  {
   "cell_type": "code",
   "execution_count": 54,
   "metadata": {
    "execution": {
     "iopub.execute_input": "2020-12-13T23:28:52.608270Z",
     "iopub.status.busy": "2020-12-13T23:28:52.607687Z",
     "iopub.status.idle": "2020-12-13T23:28:52.610423Z",
     "shell.execute_reply": "2020-12-13T23:28:52.610814Z"
    },
    "papermill": {
     "duration": 0.08265,
     "end_time": "2020-12-13T23:28:52.610934",
     "exception": false,
     "start_time": "2020-12-13T23:28:52.528284",
     "status": "completed"
    },
    "pycharm": {
     "name": "#%%\n"
    },
    "tags": []
   },
   "outputs": [
    {
     "data": {
      "text/html": [
       "<div>\n",
       "<style scoped>\n",
       "    .dataframe tbody tr th:only-of-type {\n",
       "        vertical-align: middle;\n",
       "    }\n",
       "\n",
       "    .dataframe tbody tr th {\n",
       "        vertical-align: top;\n",
       "    }\n",
       "\n",
       "    .dataframe thead th {\n",
       "        text-align: right;\n",
       "    }\n",
       "</style>\n",
       "<table border=\"1\" class=\"dataframe\">\n",
       "  <thead>\n",
       "    <tr style=\"text-align: right;\">\n",
       "      <th>Generation to Upload Period in Days</th>\n",
       "      <th>0</th>\n",
       "      <th>1</th>\n",
       "      <th>2</th>\n",
       "      <th>3</th>\n",
       "      <th>4</th>\n",
       "      <th>5</th>\n",
       "      <th>6</th>\n",
       "      <th>7</th>\n",
       "      <th>8</th>\n",
       "      <th>9</th>\n",
       "      <th>10</th>\n",
       "      <th>11</th>\n",
       "      <th>12</th>\n",
       "      <th>13</th>\n",
       "    </tr>\n",
       "    <tr>\n",
       "      <th>Upload Date (UTC)</th>\n",
       "      <th></th>\n",
       "      <th></th>\n",
       "      <th></th>\n",
       "      <th></th>\n",
       "      <th></th>\n",
       "      <th></th>\n",
       "      <th></th>\n",
       "      <th></th>\n",
       "      <th></th>\n",
       "      <th></th>\n",
       "      <th></th>\n",
       "      <th></th>\n",
       "      <th></th>\n",
       "      <th></th>\n",
       "    </tr>\n",
       "  </thead>\n",
       "  <tbody>\n",
       "    <tr>\n",
       "      <th>2020-12-13</th>\n",
       "      <td>96</td>\n",
       "      <td>1421</td>\n",
       "      <td>2712</td>\n",
       "      <td>2408</td>\n",
       "      <td>2246</td>\n",
       "      <td>2177</td>\n",
       "      <td>2122</td>\n",
       "      <td>2062</td>\n",
       "      <td>2044</td>\n",
       "      <td>2014</td>\n",
       "      <td>1976</td>\n",
       "      <td>1971</td>\n",
       "      <td>1931</td>\n",
       "      <td>1922</td>\n",
       "    </tr>\n",
       "    <tr>\n",
       "      <th>2020-12-12</th>\n",
       "      <td>208</td>\n",
       "      <td>2402</td>\n",
       "      <td>3729</td>\n",
       "      <td>3385</td>\n",
       "      <td>3217</td>\n",
       "      <td>3041</td>\n",
       "      <td>2974</td>\n",
       "      <td>2924</td>\n",
       "      <td>2899</td>\n",
       "      <td>2858</td>\n",
       "      <td>2833</td>\n",
       "      <td>2791</td>\n",
       "      <td>2734</td>\n",
       "      <td>2744</td>\n",
       "    </tr>\n",
       "    <tr>\n",
       "      <th>2020-12-11</th>\n",
       "      <td>258</td>\n",
       "      <td>2908</td>\n",
       "      <td>4215</td>\n",
       "      <td>3893</td>\n",
       "      <td>3664</td>\n",
       "      <td>3580</td>\n",
       "      <td>3500</td>\n",
       "      <td>3427</td>\n",
       "      <td>3349</td>\n",
       "      <td>3309</td>\n",
       "      <td>3270</td>\n",
       "      <td>3205</td>\n",
       "      <td>3193</td>\n",
       "      <td>3140</td>\n",
       "    </tr>\n",
       "    <tr>\n",
       "      <th>2020-12-10</th>\n",
       "      <td>207</td>\n",
       "      <td>2665</td>\n",
       "      <td>3754</td>\n",
       "      <td>3416</td>\n",
       "      <td>3244</td>\n",
       "      <td>3191</td>\n",
       "      <td>3132</td>\n",
       "      <td>3069</td>\n",
       "      <td>3036</td>\n",
       "      <td>2979</td>\n",
       "      <td>2955</td>\n",
       "      <td>2914</td>\n",
       "      <td>2871</td>\n",
       "      <td>2889</td>\n",
       "    </tr>\n",
       "    <tr>\n",
       "      <th>2020-12-09</th>\n",
       "      <td>117</td>\n",
       "      <td>2841</td>\n",
       "      <td>4014</td>\n",
       "      <td>3601</td>\n",
       "      <td>3519</td>\n",
       "      <td>3436</td>\n",
       "      <td>3342</td>\n",
       "      <td>3276</td>\n",
       "      <td>3238</td>\n",
       "      <td>3192</td>\n",
       "      <td>3134</td>\n",
       "      <td>3115</td>\n",
       "      <td>3107</td>\n",
       "      <td>3072</td>\n",
       "    </tr>\n",
       "    <tr>\n",
       "      <th>2020-12-08</th>\n",
       "      <td>121</td>\n",
       "      <td>2286</td>\n",
       "      <td>2641</td>\n",
       "      <td>2575</td>\n",
       "      <td>2496</td>\n",
       "      <td>2411</td>\n",
       "      <td>2335</td>\n",
       "      <td>2266</td>\n",
       "      <td>2246</td>\n",
       "      <td>2193</td>\n",
       "      <td>2165</td>\n",
       "      <td>2138</td>\n",
       "      <td>2133</td>\n",
       "      <td>2096</td>\n",
       "    </tr>\n",
       "    <tr>\n",
       "      <th>2020-12-07</th>\n",
       "      <td>116</td>\n",
       "      <td>1339</td>\n",
       "      <td>1823</td>\n",
       "      <td>1765</td>\n",
       "      <td>1689</td>\n",
       "      <td>1604</td>\n",
       "      <td>1569</td>\n",
       "      <td>1519</td>\n",
       "      <td>1525</td>\n",
       "      <td>1462</td>\n",
       "      <td>1448</td>\n",
       "      <td>1430</td>\n",
       "      <td>1402</td>\n",
       "      <td>1413</td>\n",
       "    </tr>\n",
       "    <tr>\n",
       "      <th>2020-12-06</th>\n",
       "      <td>152</td>\n",
       "      <td>1170</td>\n",
       "      <td>1707</td>\n",
       "      <td>1523</td>\n",
       "      <td>1398</td>\n",
       "      <td>1355</td>\n",
       "      <td>1310</td>\n",
       "      <td>1280</td>\n",
       "      <td>1275</td>\n",
       "      <td>1247</td>\n",
       "      <td>1238</td>\n",
       "      <td>1188</td>\n",
       "      <td>1190</td>\n",
       "      <td>1173</td>\n",
       "    </tr>\n",
       "    <tr>\n",
       "      <th>2020-12-05</th>\n",
       "      <td>167</td>\n",
       "      <td>2183</td>\n",
       "      <td>5053</td>\n",
       "      <td>7593</td>\n",
       "      <td>10092</td>\n",
       "      <td>9910</td>\n",
       "      <td>9487</td>\n",
       "      <td>9267</td>\n",
       "      <td>9190</td>\n",
       "      <td>8930</td>\n",
       "      <td>8743</td>\n",
       "      <td>8672</td>\n",
       "      <td>8546</td>\n",
       "      <td>8386</td>\n",
       "    </tr>\n",
       "    <tr>\n",
       "      <th>2020-12-04</th>\n",
       "      <td>158</td>\n",
       "      <td>188</td>\n",
       "      <td>120</td>\n",
       "      <td>103</td>\n",
       "      <td>77</td>\n",
       "      <td>55</td>\n",
       "      <td>28</td>\n",
       "      <td>18</td>\n",
       "      <td>11</td>\n",
       "      <td>10</td>\n",
       "      <td>10</td>\n",
       "      <td>8</td>\n",
       "      <td>5</td>\n",
       "      <td>3</td>\n",
       "    </tr>\n",
       "    <tr>\n",
       "      <th>2020-12-03</th>\n",
       "      <td>161</td>\n",
       "      <td>189</td>\n",
       "      <td>129</td>\n",
       "      <td>116</td>\n",
       "      <td>91</td>\n",
       "      <td>57</td>\n",
       "      <td>36</td>\n",
       "      <td>27</td>\n",
       "      <td>12</td>\n",
       "      <td>5</td>\n",
       "      <td>3</td>\n",
       "      <td>1</td>\n",
       "      <td>1</td>\n",
       "      <td>0</td>\n",
       "    </tr>\n",
       "    <tr>\n",
       "      <th>2020-12-02</th>\n",
       "      <td>197</td>\n",
       "      <td>214</td>\n",
       "      <td>615</td>\n",
       "      <td>540</td>\n",
       "      <td>499</td>\n",
       "      <td>454</td>\n",
       "      <td>421</td>\n",
       "      <td>390</td>\n",
       "      <td>369</td>\n",
       "      <td>354</td>\n",
       "      <td>339</td>\n",
       "      <td>332</td>\n",
       "      <td>325</td>\n",
       "      <td>322</td>\n",
       "    </tr>\n",
       "    <tr>\n",
       "      <th>2020-12-01</th>\n",
       "      <td>189</td>\n",
       "      <td>1927</td>\n",
       "      <td>2238</td>\n",
       "      <td>2172</td>\n",
       "      <td>2093</td>\n",
       "      <td>1974</td>\n",
       "      <td>1911</td>\n",
       "      <td>1846</td>\n",
       "      <td>1770</td>\n",
       "      <td>1754</td>\n",
       "      <td>1737</td>\n",
       "      <td>1712</td>\n",
       "      <td>1690</td>\n",
       "      <td>1661</td>\n",
       "    </tr>\n",
       "    <tr>\n",
       "      <th>2020-11-30</th>\n",
       "      <td>126</td>\n",
       "      <td>1063</td>\n",
       "      <td>1430</td>\n",
       "      <td>1367</td>\n",
       "      <td>1274</td>\n",
       "      <td>1200</td>\n",
       "      <td>1155</td>\n",
       "      <td>1107</td>\n",
       "      <td>1100</td>\n",
       "      <td>1089</td>\n",
       "      <td>1056</td>\n",
       "      <td>1043</td>\n",
       "      <td>1028</td>\n",
       "      <td>993</td>\n",
       "    </tr>\n",
       "  </tbody>\n",
       "</table>\n",
       "</div>"
      ],
      "text/plain": [
       "Generation to Upload Period in Days   0     1     2     3      4     5     6   \\\n",
       "Upload Date (UTC)                                                               \n",
       "2020-12-13                            96  1421  2712  2408   2246  2177  2122   \n",
       "2020-12-12                           208  2402  3729  3385   3217  3041  2974   \n",
       "2020-12-11                           258  2908  4215  3893   3664  3580  3500   \n",
       "2020-12-10                           207  2665  3754  3416   3244  3191  3132   \n",
       "2020-12-09                           117  2841  4014  3601   3519  3436  3342   \n",
       "2020-12-08                           121  2286  2641  2575   2496  2411  2335   \n",
       "2020-12-07                           116  1339  1823  1765   1689  1604  1569   \n",
       "2020-12-06                           152  1170  1707  1523   1398  1355  1310   \n",
       "2020-12-05                           167  2183  5053  7593  10092  9910  9487   \n",
       "2020-12-04                           158   188   120   103     77    55    28   \n",
       "2020-12-03                           161   189   129   116     91    57    36   \n",
       "2020-12-02                           197   214   615   540    499   454   421   \n",
       "2020-12-01                           189  1927  2238  2172   2093  1974  1911   \n",
       "2020-11-30                           126  1063  1430  1367   1274  1200  1155   \n",
       "\n",
       "Generation to Upload Period in Days    7     8     9     10    11    12    13  \n",
       "Upload Date (UTC)                                                              \n",
       "2020-12-13                           2062  2044  2014  1976  1971  1931  1922  \n",
       "2020-12-12                           2924  2899  2858  2833  2791  2734  2744  \n",
       "2020-12-11                           3427  3349  3309  3270  3205  3193  3140  \n",
       "2020-12-10                           3069  3036  2979  2955  2914  2871  2889  \n",
       "2020-12-09                           3276  3238  3192  3134  3115  3107  3072  \n",
       "2020-12-08                           2266  2246  2193  2165  2138  2133  2096  \n",
       "2020-12-07                           1519  1525  1462  1448  1430  1402  1413  \n",
       "2020-12-06                           1280  1275  1247  1238  1188  1190  1173  \n",
       "2020-12-05                           9267  9190  8930  8743  8672  8546  8386  \n",
       "2020-12-04                             18    11    10    10     8     5     3  \n",
       "2020-12-03                             27    12     5     3     1     1     0  \n",
       "2020-12-02                            390   369   354   339   332   325   322  \n",
       "2020-12-01                           1846  1770  1754  1737  1712  1690  1661  \n",
       "2020-11-30                           1107  1100  1089  1056  1043  1028   993  "
      ]
     },
     "execution_count": 54,
     "metadata": {},
     "output_type": "execute_result"
    }
   ],
   "source": [
    "display_generation_to_upload_period_pivot_df = \\\n",
    "    generation_to_upload_period_pivot_df \\\n",
    "        .head(backend_generation_days)\n",
    "display_generation_to_upload_period_pivot_df \\\n",
    "    .head(backend_generation_days) \\\n",
    "    .rename_axis(columns=display_column_name_mapping) \\\n",
    "    .rename_axis(index=display_column_name_mapping)"
   ]
  },
  {
   "cell_type": "code",
   "execution_count": 55,
   "metadata": {
    "collapsed": false,
    "execution": {
     "iopub.execute_input": "2020-12-13T23:28:52.756320Z",
     "iopub.status.busy": "2020-12-13T23:28:52.755747Z",
     "iopub.status.idle": "2020-12-13T23:28:53.886416Z",
     "shell.execute_reply": "2020-12-13T23:28:53.887138Z"
    },
    "papermill": {
     "duration": 1.208417,
     "end_time": "2020-12-13T23:28:53.887322",
     "exception": false,
     "start_time": "2020-12-13T23:28:52.678905",
     "status": "completed"
    },
    "pycharm": {
     "name": "#%%\n"
    },
    "tags": []
   },
   "outputs": [
    {
     "data": {
      "image/png": "[encoded data removed]",
      "text/plain": [
       "<Figure size 864x676.8 with 2 Axes>"
      ]
     },
     "metadata": {},
     "output_type": "display_data"
    }
   ],
   "source": [
    "fig, generation_to_upload_period_pivot_table_ax = plt.subplots(\n",
    "    figsize=(12, 1 + 0.6 * len(display_generation_to_upload_period_pivot_df)))\n",
    "generation_to_upload_period_pivot_table_ax.set_title(\n",
    "    \"Shared TEKs Generation to Upload Period Table\")\n",
    "sns.heatmap(\n",
    "    data=display_generation_to_upload_period_pivot_df\n",
    "        .rename_axis(columns=display_column_name_mapping)\n",
    "        .rename_axis(index=display_column_name_mapping),\n",
    "    fmt=\".0f\",\n",
    "    annot=True,\n",
    "    ax=generation_to_upload_period_pivot_table_ax)\n",
    "generation_to_upload_period_pivot_table_ax.get_figure().tight_layout()"
   ]
  },
  {
   "cell_type": "markdown",
   "metadata": {
    "collapsed": false,
    "papermill": {
     "duration": 0.067314,
     "end_time": "2020-12-13T23:28:54.023346",
     "exception": false,
     "start_time": "2020-12-13T23:28:53.956032",
     "status": "completed"
    },
    "tags": []
   },
   "source": [
    "### Hourly Summary Plots "
   ]
  },
  {
   "cell_type": "code",
   "execution_count": 56,
   "metadata": {
    "collapsed": false,
    "execution": {
     "iopub.execute_input": "2020-12-13T23:28:54.164642Z",
     "iopub.status.busy": "2020-12-13T23:28:54.163990Z",
     "iopub.status.idle": "2020-12-13T23:28:54.526053Z",
     "shell.execute_reply": "2020-12-13T23:28:54.526594Z"
    },
    "papermill": {
     "duration": 0.436297,
     "end_time": "2020-12-13T23:28:54.526734",
     "exception": false,
     "start_time": "2020-12-13T23:28:54.090437",
     "status": "completed"
    },
    "pycharm": {
     "name": "#%%\n"
    },
    "tags": []
   },
   "outputs": [
    {
     "data": {
      "image/png": "[encoded data removed]",
      "text/plain": [
       "<Figure size 1080x432 with 1 Axes>"
      ]
     },
     "metadata": {},
     "output_type": "display_data"
    }
   ],
   "source": [
    "hourly_summary_ax_list = hourly_summary_df \\\n",
    "    .rename_axis(index=display_column_name_mapping) \\\n",
    "    .rename(columns=display_column_name_mapping) \\\n",
    "    .plot.bar(\n",
    "        title=f\"Last 24h Summary\",\n",
    "        rot=45, subplots=True, legend=False)\n",
    "ax_ = hourly_summary_ax_list[-1]\n",
    "ax_.get_figure().tight_layout()\n",
    "ax_.get_figure().subplots_adjust(top=0.9)\n",
    "_ = ax_.set_xticklabels(sorted(hourly_summary_df.index.strftime(\"%Y-%m-%d@%H\").tolist()))"
   ]
  },
  {
   "cell_type": "markdown",
   "metadata": {
    "collapsed": false,
    "papermill": {
     "duration": 0.071582,
     "end_time": "2020-12-13T23:28:54.665756",
     "exception": false,
     "start_time": "2020-12-13T23:28:54.594174",
     "status": "completed"
    },
    "tags": []
   },
   "source": [
    "### Publish Results"
   ]
  },
  {
   "cell_type": "code",
   "execution_count": 57,
   "metadata": {
    "collapsed": false,
    "execution": {
     "iopub.execute_input": "2020-12-13T23:28:54.807984Z",
     "iopub.status.busy": "2020-12-13T23:28:54.807454Z",
     "iopub.status.idle": "2020-12-13T23:28:54.809202Z",
     "shell.execute_reply": "2020-12-13T23:28:54.809589Z"
    },
    "papermill": {
     "duration": 0.077162,
     "end_time": "2020-12-13T23:28:54.809711",
     "exception": false,
     "start_time": "2020-12-13T23:28:54.732549",
     "status": "completed"
    },
    "pycharm": {
     "name": "#%%\n"
    },
    "tags": []
   },
   "outputs": [],
   "source": [
    "def get_temporary_image_path() -> str:\n",
    "    return os.path.join(tempfile.gettempdir(), str(uuid.uuid4()) + \".png\")\n",
    "\n",
    "def save_temporary_plot_image(ax):\n",
    "    if isinstance(ax, np.ndarray):\n",
    "        ax = ax[0]\n",
    "    media_path = get_temporary_image_path()\n",
    "    ax.get_figure().savefig(media_path)\n",
    "    return media_path\n",
    "\n",
    "def save_temporary_dataframe_image(df):\n",
    "    import dataframe_image as dfi\n",
    "    media_path = get_temporary_image_path()\n",
    "    dfi.export(df, media_path)\n",
    "    return media_path"
   ]
  },
  {
   "cell_type": "code",
   "execution_count": 58,
   "metadata": {
    "collapsed": false,
    "execution": {
     "iopub.execute_input": "2020-12-13T23:28:54.961943Z",
     "iopub.status.busy": "2020-12-13T23:28:54.947571Z",
     "iopub.status.idle": "2020-12-13T23:28:54.974622Z",
     "shell.execute_reply": "2020-12-13T23:28:54.975079Z"
    },
    "papermill": {
     "duration": 0.101391,
     "end_time": "2020-12-13T23:28:54.975219",
     "exception": false,
     "start_time": "2020-12-13T23:28:54.873828",
     "status": "completed"
    },
    "pycharm": {
     "name": "#%%\n"
    },
    "tags": []
   },
   "outputs": [
    {
     "name": "stderr",
     "output_type": "stream",
     "text": [
      "<ipython-input-58-bd16b454de40>:49: FutureWarning: `item` has been deprecated and will be removed in a future version\n",
      "  extraction_date_result_summary_df.covid_cases.item()\n",
      "<ipython-input-58-bd16b454de40>:51: FutureWarning: `item` has been deprecated and will be removed in a future version\n",
      "  extraction_date_result_summary_df.shared_teks_by_generation_date.item()\n",
      "<ipython-input-58-bd16b454de40>:53: FutureWarning: `item` has been deprecated and will be removed in a future version\n",
      "  extraction_date_result_summary_df.shared_teks_by_upload_date.item()\n",
      "<ipython-input-58-bd16b454de40>:55: FutureWarning: `item` has been deprecated and will be removed in a future version\n",
      "  extraction_date_result_summary_df.shared_diagnoses.item()\n",
      "<ipython-input-58-bd16b454de40>:57: FutureWarning: `item` has been deprecated and will be removed in a future version\n",
      "  extraction_date_result_summary_df.teks_per_shared_diagnosis.item()\n",
      "<ipython-input-58-bd16b454de40>:59: FutureWarning: `item` has been deprecated and will be removed in a future version\n",
      "  extraction_date_result_summary_df.shared_diagnoses_per_covid_case.item()\n"
     ]
    }
   ],
   "source": [
    "github_repository = os.environ.get(\"GITHUB_REPOSITORY\")\n",
    "if github_repository is None:\n",
    "    github_repository = \"pvieito/Radar-STATS\"\n",
    "\n",
    "github_project_base_url = \"https://github.com/\" + github_repository\n",
    "\n",
    "display_formatters = {\n",
    "    display_column_name_mapping[\"teks_per_shared_diagnosis\"]: lambda x: f\"{x:.2f}\",\n",
    "    display_column_name_mapping[\"shared_diagnoses_per_covid_case\"]: lambda x: f\"{x:.2%}\",\n",
    "}\n",
    "daily_summary_table_html = result_summary_with_display_names_df \\\n",
    "    .head(daily_plot_days) \\\n",
    "    .rename_axis(index=display_column_name_mapping) \\\n",
    "    .rename(columns=display_column_name_mapping) \\\n",
    "    .to_html(formatters=display_formatters)\n",
    "multi_backend_summary_table_html = multi_backend_summary_df \\\n",
    "    .head(daily_plot_days) \\\n",
    "    .rename_axis(columns=display_column_name_mapping) \\\n",
    "    .rename(columns=display_column_name_mapping) \\\n",
    "    .rename_axis(index=display_column_name_mapping) \\\n",
    "    .to_html(formatters=display_formatters)\n",
    "\n",
    "def format_multi_backend_cross_sharing_fraction(x):\n",
    "    if pd.isna(x):\n",
    "        return \"-\"\n",
    "    elif round(x * 100, 1) == 0:\n",
    "        return \"\"\n",
    "    else:\n",
    "        return f\"{x:.1%}\"\n",
    "\n",
    "multi_backend_cross_sharing_summary_table_html = multi_backend_cross_sharing_summary_df \\\n",
    "    .rename_axis(columns=display_column_name_mapping) \\\n",
    "    .rename(columns=display_column_name_mapping) \\\n",
    "    .rename_axis(index=display_column_name_mapping) \\\n",
    "    .to_html(\n",
    "        classes=\"table-center\",\n",
    "        formatters=display_formatters,\n",
    "        float_format=format_multi_backend_cross_sharing_fraction)\n",
    "multi_backend_cross_sharing_summary_table_html = \\\n",
    "    multi_backend_cross_sharing_summary_table_html \\\n",
    "        .replace(\"<tr>\",\"<tr style=\\\"text-align: center;\\\">\")\n",
    "\n",
    "extraction_date_result_summary_df = \\\n",
    "    result_summary_df[result_summary_df.index.get_level_values(\"sample_date\") == extraction_date]\n",
    "extraction_date_result_hourly_summary_df = \\\n",
    "    hourly_summary_df[hourly_summary_df.extraction_date_with_hour == extraction_date_with_hour]\n",
    "\n",
    "covid_cases = \\\n",
    "    extraction_date_result_summary_df.covid_cases.item()\n",
    "shared_teks_by_generation_date = \\\n",
    "    extraction_date_result_summary_df.shared_teks_by_generation_date.item()\n",
    "shared_teks_by_upload_date = \\\n",
    "    extraction_date_result_summary_df.shared_teks_by_upload_date.item()\n",
    "shared_diagnoses = \\\n",
    "    extraction_date_result_summary_df.shared_diagnoses.item()\n",
    "teks_per_shared_diagnosis = \\\n",
    "    extraction_date_result_summary_df.teks_per_shared_diagnosis.item()\n",
    "shared_diagnoses_per_covid_case = \\\n",
    "    extraction_date_result_summary_df.shared_diagnoses_per_covid_case.item()\n",
    "\n",
    "shared_teks_by_upload_date_last_hour = \\\n",
    "    extraction_date_result_hourly_summary_df.shared_teks_by_upload_date.sum().astype(int)\n",
    "\n",
    "display_source_regions = \", \".join(report_source_regions)\n",
    "if len(report_source_regions) == 1:\n",
    "    display_brief_source_regions = report_source_regions[0]\n",
    "else:\n",
    "    display_brief_source_regions = f\"{len(report_source_regions)} 🇪🇺\""
   ]
  },
  {
   "cell_type": "code",
   "execution_count": 59,
   "metadata": {
    "execution": {
     "iopub.execute_input": "2020-12-13T23:28:55.128051Z",
     "iopub.status.busy": "2020-12-13T23:28:55.127537Z",
     "iopub.status.idle": "2020-12-13T23:29:04.828367Z",
     "shell.execute_reply": "2020-12-13T23:29:04.830104Z"
    },
    "papermill": {
     "duration": 9.786166,
     "end_time": "2020-12-13T23:29:04.830502",
     "exception": false,
     "start_time": "2020-12-13T23:28:55.044336",
     "status": "completed"
    },
    "pycharm": {
     "name": "#%%\n"
    },
    "tags": []
   },
   "outputs": [],
   "source": [
    "summary_plots_image_path = save_temporary_plot_image(\n",
    "    ax=summary_ax_list)\n",
    "summary_table_image_path = save_temporary_dataframe_image(\n",
    "    df=result_summary_with_display_names_df)\n",
    "hourly_summary_plots_image_path = save_temporary_plot_image(\n",
    "    ax=hourly_summary_ax_list)\n",
    "multi_backend_summary_table_image_path = save_temporary_dataframe_image(\n",
    "    df=multi_backend_summary_df)\n",
    "generation_to_upload_period_pivot_table_image_path = save_temporary_plot_image(\n",
    "    ax=generation_to_upload_period_pivot_table_ax)"
   ]
  },
  {
   "cell_type": "markdown",
   "metadata": {
    "execution": {
     "iopub.execute_input": "2020-09-02T08:20:16.981187Z",
     "iopub.status.busy": "2020-09-02T08:20:16.980584Z",
     "iopub.status.idle": "2020-09-02T08:20:20.068070Z",
     "shell.execute_reply": "2020-09-02T08:20:20.068598Z"
    },
    "papermill": {
     "duration": 0.067834,
     "end_time": "2020-12-13T23:29:04.974443",
     "exception": false,
     "start_time": "2020-12-13T23:29:04.906609",
     "status": "completed"
    },
    "pycharm": {
     "name": "#%% md\n"
    },
    "tags": []
   },
   "source": [
    "### Save Results"
   ]
  },
  {
   "cell_type": "code",
   "execution_count": 60,
   "metadata": {
    "collapsed": false,
    "execution": {
     "iopub.execute_input": "2020-12-13T23:29:05.127463Z",
     "iopub.status.busy": "2020-12-13T23:29:05.126915Z",
     "iopub.status.idle": "2020-12-13T23:29:05.169973Z",
     "shell.execute_reply": "2020-12-13T23:29:05.169426Z"
    },
    "papermill": {
     "duration": 0.127622,
     "end_time": "2020-12-13T23:29:05.170114",
     "exception": false,
     "start_time": "2020-12-13T23:29:05.042492",
     "status": "completed"
    },
    "pycharm": {
     "name": "#%%\n"
    },
    "tags": []
   },
   "outputs": [],
   "source": [
    "report_resources_path_prefix = \"Data/Resources/Current/RadarCOVID-Report-\"\n",
    "result_summary_df.to_csv(\n",
    "    report_resources_path_prefix + \"Summary-Table.csv\")\n",
    "result_summary_df.to_html(\n",
    "    report_resources_path_prefix + \"Summary-Table.html\")\n",
    "hourly_summary_df.to_csv(\n",
    "    report_resources_path_prefix + \"Hourly-Summary-Table.csv\")\n",
    "multi_backend_summary_df.to_csv(\n",
    "    report_resources_path_prefix + \"Multi-Backend-Summary-Table.csv\")\n",
    "multi_backend_cross_sharing_summary_df.to_csv(\n",
    "    report_resources_path_prefix + \"Multi-Backend-Cross-Sharing-Summary-Table.csv\")\n",
    "generation_to_upload_period_pivot_df.to_csv(\n",
    "    report_resources_path_prefix + \"Generation-Upload-Period-Table.csv\")\n",
    "_ = shutil.copyfile(\n",
    "    summary_plots_image_path,\n",
    "    report_resources_path_prefix + \"Summary-Plots.png\")\n",
    "_ = shutil.copyfile(\n",
    "    summary_table_image_path,\n",
    "    report_resources_path_prefix + \"Summary-Table.png\")\n",
    "_ = shutil.copyfile(\n",
    "    hourly_summary_plots_image_path,\n",
    "    report_resources_path_prefix + \"Hourly-Summary-Plots.png\")\n",
    "_ = shutil.copyfile(\n",
    "    multi_backend_summary_table_image_path,\n",
    "    report_resources_path_prefix + \"Multi-Backend-Summary-Table.png\")\n",
    "_ = shutil.copyfile(\n",
    "    generation_to_upload_period_pivot_table_image_path,\n",
    "    report_resources_path_prefix + \"Generation-Upload-Period-Table.png\")"
   ]
  },
  {
   "cell_type": "markdown",
   "metadata": {
    "collapsed": false,
    "papermill": {
     "duration": 0.074108,
     "end_time": "2020-12-13T23:29:05.323373",
     "exception": false,
     "start_time": "2020-12-13T23:29:05.249265",
     "status": "completed"
    },
    "pycharm": {
     "name": "#%% md\n"
    },
    "tags": []
   },
   "source": [
    "### Publish Results as JSON"
   ]
  },
  {
   "cell_type": "code",
   "execution_count": 61,
   "metadata": {
    "execution": {
     "iopub.execute_input": "2020-12-13T23:29:05.491819Z",
     "iopub.status.busy": "2020-12-13T23:29:05.491148Z",
     "iopub.status.idle": "2020-12-13T23:29:05.500443Z",
     "shell.execute_reply": "2020-12-13T23:29:05.499942Z"
    },
    "papermill": {
     "duration": 0.101621,
     "end_time": "2020-12-13T23:29:05.500569",
     "exception": false,
     "start_time": "2020-12-13T23:29:05.398948",
     "status": "completed"
    },
    "pycharm": {
     "name": "#%%\n"
    },
    "tags": []
   },
   "outputs": [],
   "source": [
    "def generate_summary_api_results(df: pd.DataFrame) -> list:\n",
    "    api_df = df.reset_index().copy()\n",
    "    api_df[\"sample_date_string\"] = \\\n",
    "        api_df[\"sample_date\"].dt.strftime(\"%Y-%m-%d\")\n",
    "    api_df[\"source_regions\"] = \\\n",
    "        api_df[\"source_regions\"].apply(lambda x: x.split(\",\"))\n",
    "    return api_df.to_dict(orient=\"records\")\n",
    "\n",
    "summary_api_results = \\\n",
    "    generate_summary_api_results(df=result_summary_df)\n",
    "today_summary_api_results = \\\n",
    "    generate_summary_api_results(df=extraction_date_result_summary_df)[0]\n",
    "\n",
    "summary_results = dict(\n",
    "    backend_identifier=report_backend_identifier,\n",
    "    source_regions=report_source_regions,\n",
    "    extraction_datetime=extraction_datetime,\n",
    "    extraction_date=extraction_date,\n",
    "    extraction_date_with_hour=extraction_date_with_hour,\n",
    "    last_hour=dict(\n",
    "        shared_teks_by_upload_date=shared_teks_by_upload_date_last_hour,\n",
    "        shared_diagnoses=0,\n",
    "    ),\n",
    "    today=today_summary_api_results,\n",
    "    last_7_days=last_7_days_summary,\n",
    "    daily_results=summary_api_results)\n",
    "\n",
    "summary_results = \\\n",
    "    json.loads(pd.Series([summary_results]).to_json(orient=\"records\"))[0]\n",
    "\n",
    "with open(report_resources_path_prefix + \"Summary-Results.json\", \"w\") as f:\n",
    "    json.dump(summary_results, f, indent=4)"
   ]
  },
  {
   "cell_type": "markdown",
   "metadata": {
    "execution": {
     "iopub.execute_input": "2020-09-02T08:20:20.895901Z",
     "iopub.status.busy": "2020-09-02T08:20:20.895301Z",
     "iopub.status.idle": "2020-09-02T08:20:20.942286Z",
     "shell.execute_reply": "2020-09-02T08:20:20.942834Z"
    },
    "papermill": {
     "duration": 0.073371,
     "end_time": "2020-12-13T23:29:05.647772",
     "exception": false,
     "start_time": "2020-12-13T23:29:05.574401",
     "status": "completed"
    },
    "pycharm": {
     "name": "#%% md\n"
    },
    "tags": []
   },
   "source": [
    "### Publish on README"
   ]
  },
  {
   "cell_type": "code",
   "execution_count": 62,
   "metadata": {
    "collapsed": false,
    "execution": {
     "iopub.execute_input": "2020-12-13T23:29:05.811252Z",
     "iopub.status.busy": "2020-12-13T23:29:05.810544Z",
     "iopub.status.idle": "2020-12-13T23:29:05.815445Z",
     "shell.execute_reply": "2020-12-13T23:29:05.815948Z"
    },
    "papermill": {
     "duration": 0.087311,
     "end_time": "2020-12-13T23:29:05.816091",
     "exception": false,
     "start_time": "2020-12-13T23:29:05.728780",
     "status": "completed"
    },
    "pycharm": {
     "name": "#%%\n"
    },
    "tags": []
   },
   "outputs": [],
   "source": [
    "with open(\"Data/Templates/README.md\", \"r\") as f:\n",
    "    readme_contents = f.read()\n",
    "\n",
    "readme_contents = readme_contents.format(\n",
    "    extraction_date_with_hour=extraction_date_with_hour,\n",
    "    github_project_base_url=github_project_base_url,\n",
    "    daily_summary_table_html=daily_summary_table_html,\n",
    "    multi_backend_summary_table_html=multi_backend_summary_table_html,\n",
    "    multi_backend_cross_sharing_summary_table_html=multi_backend_cross_sharing_summary_table_html,\n",
    "    display_source_regions=display_source_regions)\n",
    "\n",
    "with open(\"README.md\", \"w\") as f:\n",
    "    f.write(readme_contents)"
   ]
  },
  {
   "cell_type": "markdown",
   "metadata": {
    "collapsed": false,
    "papermill": {
     "duration": 0.072854,
     "end_time": "2020-12-13T23:29:05.966494",
     "exception": false,
     "start_time": "2020-12-13T23:29:05.893640",
     "status": "completed"
    },
    "pycharm": {
     "name": "#%% md\n"
    },
    "tags": []
   },
   "source": [
    "### Publish on Twitter"
   ]
  },
  {
   "cell_type": "code",
   "execution_count": 63,
   "metadata": {
    "collapsed": false,
    "execution": {
     "iopub.execute_input": "2020-12-13T23:29:06.104691Z",
     "iopub.status.busy": "2020-12-13T23:29:06.104164Z",
     "iopub.status.idle": "2020-12-13T23:29:14.322067Z",
     "shell.execute_reply": "2020-12-13T23:29:14.322540Z"
    },
    "papermill": {
     "duration": 8.289947,
     "end_time": "2020-12-13T23:29:14.322693",
     "exception": false,
     "start_time": "2020-12-13T23:29:06.032746",
     "status": "completed"
    },
    "pycharm": {
     "name": "#%%\n"
    },
    "tags": []
   },
   "outputs": [],
   "source": [
    "enable_share_to_twitter = os.environ.get(\"RADARCOVID_REPORT__ENABLE_PUBLISH_ON_TWITTER\")\n",
    "github_event_name = os.environ.get(\"GITHUB_EVENT_NAME\")\n",
    "\n",
    "if enable_share_to_twitter and github_event_name == \"schedule\" and \\\n",
    "        (shared_teks_by_upload_date_last_hour or not are_today_results_partial):\n",
    "    import tweepy\n",
    "\n",
    "    twitter_api_auth_keys = os.environ[\"RADARCOVID_REPORT__TWITTER_API_AUTH_KEYS\"]\n",
    "    twitter_api_auth_keys = twitter_api_auth_keys.split(\":\")\n",
    "    auth = tweepy.OAuthHandler(twitter_api_auth_keys[0], twitter_api_auth_keys[1])\n",
    "    auth.set_access_token(twitter_api_auth_keys[2], twitter_api_auth_keys[3])\n",
    "\n",
    "    api = tweepy.API(auth)\n",
    "\n",
    "    summary_plots_media = api.media_upload(summary_plots_image_path)\n",
    "    summary_table_media = api.media_upload(summary_table_image_path)\n",
    "    generation_to_upload_period_pivot_table_image_media = api.media_upload(generation_to_upload_period_pivot_table_image_path)\n",
    "    media_ids = [\n",
    "        summary_plots_media.media_id,\n",
    "        summary_table_media.media_id,\n",
    "        generation_to_upload_period_pivot_table_image_media.media_id,\n",
    "    ]\n",
    "\n",
    "    if are_today_results_partial:\n",
    "        today_addendum = \" (Partial)\"\n",
    "    else:\n",
    "        today_addendum = \"\"\n",
    "\n",
    "    status = textwrap.dedent(f\"\"\"\n",
    "        #RadarCOVID – {extraction_date_with_hour}\n",
    "\n",
    "        Source Countries: {display_brief_source_regions}\n",
    "\n",
    "        Today{today_addendum}:\n",
    "        - Uploaded TEKs: {shared_teks_by_upload_date:.0f} ({shared_teks_by_upload_date_last_hour:+d} last hour)\n",
    "        - Shared Diagnoses: ≤{shared_diagnoses:.0f}\n",
    "        - Usage Ratio: ≤{shared_diagnoses_per_covid_case:.2%}\n",
    "\n",
    "        Last 7 Days:\n",
    "        - Shared Diagnoses: ≤{last_7_days_summary[\"shared_diagnoses\"]:.0f}\n",
    "        - Usage Ratio: ≤{last_7_days_summary[\"shared_diagnoses_per_covid_case\"]:.2%}\n",
    "\n",
    "        Info: {github_project_base_url}#documentation\n",
    "        \"\"\")\n",
    "    status = status.encode(encoding=\"utf-8\")\n",
    "    api.update_status(status=status, media_ids=media_ids)"
   ]
  }
 ],
 "metadata": {
  "kernelspec": {
   "display_name": "Python 3",
   "language": "python",
   "name": "python3"
  },
  "language_info": {
   "codemirror_mode": {
    "name": "ipython",
    "version": 3
   },
   "file_extension": ".py",
   "mimetype": "text/x-python",
   "name": "python",
   "nbconvert_exporter": "python",
   "pygments_lexer": "ipython3",
   "version": "3.8.6"
  },
  "papermill": {
   "duration": 248.865811,
   "end_time": "2020-12-13T23:29:17.507785",
   "environment_variables": {},
   "exception": null,
   "input_path": "Notebooks/RadarCOVID-Report/Source/RadarCOVID-Report.ipynb",
   "output_path": "RadarCOVID-Report.ipynb",
   "parameters": {},
   "start_time": "2020-12-13T23:25:08.641974",
   "version": "2.1.3"
  }
 },
 "nbformat": 4,
 "nbformat_minor": 1
}