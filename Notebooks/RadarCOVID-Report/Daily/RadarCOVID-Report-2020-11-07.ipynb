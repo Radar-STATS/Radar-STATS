{
 "cells": [
  {
   "cell_type": "markdown",
   "metadata": {
    "papermill": {
     "duration": 0.041088,
     "end_time": "2020-11-07T23:18:24.304298",
     "exception": false,
     "start_time": "2020-11-07T23:18:24.263210",
     "status": "completed"
    },
    "pycharm": {
     "name": "#%% md\n"
    },
    "tags": []
   },
   "source": [
    "# RadarCOVID-Report"
   ]
  },
  {
   "cell_type": "markdown",
   "metadata": {
    "collapsed": true,
    "papermill": {
     "duration": 0.037517,
     "end_time": "2020-11-07T23:18:24.380605",
     "exception": false,
     "start_time": "2020-11-07T23:18:24.343088",
     "status": "completed"
    },
    "pycharm": {
     "name": "#%% md\n"
    },
    "tags": []
   },
   "source": [
    "## Data Extraction"
   ]
  },
  {
   "cell_type": "code",
   "execution_count": 1,
   "metadata": {
    "execution": {
     "iopub.execute_input": "2020-11-07T23:18:24.463848Z",
     "iopub.status.busy": "2020-11-07T23:18:24.463249Z",
     "iopub.status.idle": "2020-11-07T23:18:27.979350Z",
     "shell.execute_reply": "2020-11-07T23:18:27.978381Z"
    },
    "papermill": {
     "duration": 3.561903,
     "end_time": "2020-11-07T23:18:27.979662",
     "exception": false,
     "start_time": "2020-11-07T23:18:24.417759",
     "status": "completed"
    },
    "pycharm": {
     "name": "#%%\n"
    },
    "tags": []
   },
   "outputs": [],
   "source": [
    "import datetime\n",
    "import json\n",
    "import logging\n",
    "import os\n",
    "import shutil\n",
    "import tempfile\n",
    "import textwrap\n",
    "import uuid\n",
    "\n",
    "import matplotlib.pyplot as plt\n",
    "import matplotlib.ticker\n",
    "import numpy as np\n",
    "import pandas as pd\n",
    "import retry\n",
    "import seaborn as sns\n",
    "\n",
    "%matplotlib inline"
   ]
  },
  {
   "cell_type": "code",
   "execution_count": 2,
   "metadata": {
    "collapsed": false,
    "execution": {
     "iopub.execute_input": "2020-11-07T23:18:28.066790Z",
     "iopub.status.busy": "2020-11-07T23:18:28.065959Z",
     "iopub.status.idle": "2020-11-07T23:18:28.069970Z",
     "shell.execute_reply": "2020-11-07T23:18:28.070424Z"
    },
    "papermill": {
     "duration": 0.050928,
     "end_time": "2020-11-07T23:18:28.070580",
     "exception": false,
     "start_time": "2020-11-07T23:18:28.019652",
     "status": "completed"
    },
    "pycharm": {
     "name": "#%%\n"
    },
    "tags": []
   },
   "outputs": [],
   "source": [
    "current_working_directory = os.environ.get(\"PWD\")\n",
    "if current_working_directory:\n",
    "    os.chdir(current_working_directory)\n",
    "\n",
    "sns.set()\n",
    "matplotlib.rcParams[\"figure.figsize\"] = (15, 6)\n",
    "\n",
    "extraction_datetime = datetime.datetime.utcnow()\n",
    "extraction_date = extraction_datetime.strftime(\"%Y-%m-%d\")\n",
    "extraction_previous_datetime = extraction_datetime - datetime.timedelta(days=1)\n",
    "extraction_previous_date = extraction_previous_datetime.strftime(\"%Y-%m-%d\")\n",
    "extraction_date_with_hour = datetime.datetime.utcnow().strftime(\"%Y-%m-%d@%H\")\n",
    "current_hour = datetime.datetime.utcnow().hour\n",
    "are_today_results_partial = current_hour != 23"
   ]
  },
  {
   "cell_type": "markdown",
   "metadata": {
    "collapsed": false,
    "papermill": {
     "duration": 0.037751,
     "end_time": "2020-11-07T23:18:28.145833",
     "exception": false,
     "start_time": "2020-11-07T23:18:28.108082",
     "status": "completed"
    },
    "tags": []
   },
   "source": [
    "### Constants"
   ]
  },
  {
   "cell_type": "code",
   "execution_count": 3,
   "metadata": {
    "execution": {
     "iopub.execute_input": "2020-11-07T23:18:28.226598Z",
     "iopub.status.busy": "2020-11-07T23:18:28.226026Z",
     "iopub.status.idle": "2020-11-07T23:18:28.371235Z",
     "shell.execute_reply": "2020-11-07T23:18:28.370709Z"
    },
    "papermill": {
     "duration": 0.188142,
     "end_time": "2020-11-07T23:18:28.371362",
     "exception": false,
     "start_time": "2020-11-07T23:18:28.183220",
     "status": "completed"
    },
    "pycharm": {
     "name": "#%%\n"
    },
    "tags": []
   },
   "outputs": [],
   "source": [
    "from Modules.ExposureNotification import exposure_notification_io\n",
    "\n",
    "spain_region_country_code = \"ES\"\n",
    "germany_region_country_code = \"DE\"\n",
    "\n",
    "default_backend_identifier = spain_region_country_code\n",
    "\n",
    "backend_generation_days = 7 * 2\n",
    "daily_summary_days = 7 * 4 * 3\n",
    "daily_plot_days = 7 * 4\n",
    "tek_dumps_load_limit = daily_summary_days + 1"
   ]
  },
  {
   "cell_type": "markdown",
   "metadata": {
    "collapsed": false,
    "papermill": {
     "duration": 0.035997,
     "end_time": "2020-11-07T23:18:28.444653",
     "exception": false,
     "start_time": "2020-11-07T23:18:28.408656",
     "status": "completed"
    },
    "tags": []
   },
   "source": [
    "### Parameters"
   ]
  },
  {
   "cell_type": "code",
   "execution_count": 4,
   "metadata": {
    "collapsed": false,
    "execution": {
     "iopub.execute_input": "2020-11-07T23:18:28.525135Z",
     "iopub.status.busy": "2020-11-07T23:18:28.524538Z",
     "iopub.status.idle": "2020-11-07T23:18:28.527556Z",
     "shell.execute_reply": "2020-11-07T23:18:28.528032Z"
    },
    "papermill": {
     "duration": 0.046518,
     "end_time": "2020-11-07T23:18:28.528190",
     "exception": false,
     "start_time": "2020-11-07T23:18:28.481672",
     "status": "completed"
    },
    "pycharm": {
     "name": "#%%\n"
    },
    "tags": []
   },
   "outputs": [
    {
     "data": {
      "text/plain": [
       "'ES'"
      ]
     },
     "execution_count": 4,
     "metadata": {},
     "output_type": "execute_result"
    }
   ],
   "source": [
    "environment_backend_identifier = os.environ.get(\"RADARCOVID_REPORT__BACKEND_IDENTIFIER\")\n",
    "if environment_backend_identifier:\n",
    "    report_backend_identifier = environment_backend_identifier\n",
    "else:\n",
    "    report_backend_identifier = default_backend_identifier\n",
    "report_backend_identifier"
   ]
  },
  {
   "cell_type": "code",
   "execution_count": 5,
   "metadata": {
    "collapsed": false,
    "execution": {
     "iopub.execute_input": "2020-11-07T23:18:28.614178Z",
     "iopub.status.busy": "2020-11-07T23:18:28.613595Z",
     "iopub.status.idle": "2020-11-07T23:18:28.615053Z",
     "shell.execute_reply": "2020-11-07T23:18:28.615496Z"
    },
    "papermill": {
     "duration": 0.049886,
     "end_time": "2020-11-07T23:18:28.615643",
     "exception": false,
     "start_time": "2020-11-07T23:18:28.565757",
     "status": "completed"
    },
    "pycharm": {
     "name": "#%%\n"
    },
    "tags": []
   },
   "outputs": [],
   "source": [
    "environment_enable_multi_backend_download = \\\n",
    "    os.environ.get(\"RADARCOVID_REPORT__ENABLE_MULTI_BACKEND_DOWNLOAD\")\n",
    "if environment_enable_multi_backend_download:\n",
    "    report_backend_identifiers = None\n",
    "else:\n",
    "    report_backend_identifiers = [report_backend_identifier]\n",
    "\n",
    "report_backend_identifiers"
   ]
  },
  {
   "cell_type": "code",
   "execution_count": 6,
   "metadata": {
    "collapsed": false,
    "execution": {
     "iopub.execute_input": "2020-11-07T23:18:28.695767Z",
     "iopub.status.busy": "2020-11-07T23:18:28.695203Z",
     "iopub.status.idle": "2020-11-07T23:18:28.697689Z",
     "shell.execute_reply": "2020-11-07T23:18:28.698104Z"
    },
    "papermill": {
     "duration": 0.046134,
     "end_time": "2020-11-07T23:18:28.698257",
     "exception": false,
     "start_time": "2020-11-07T23:18:28.652123",
     "status": "completed"
    },
    "pycharm": {
     "name": "#%%\n"
    },
    "tags": []
   },
   "outputs": [
    {
     "data": {
      "text/plain": [
       "['2020-10-30']"
      ]
     },
     "execution_count": 6,
     "metadata": {},
     "output_type": "execute_result"
    }
   ],
   "source": [
    "environment_invalid_shared_diagnoses_dates = \\\n",
    "    os.environ.get(\"RADARCOVID_REPORT__INVALID_SHARED_DIAGNOSES_DATES\")\n",
    "if environment_invalid_shared_diagnoses_dates:\n",
    "    invalid_shared_diagnoses_dates = environment_invalid_shared_diagnoses_dates.split(\",\")\n",
    "else:\n",
    "    invalid_shared_diagnoses_dates = []\n",
    "\n",
    "invalid_shared_diagnoses_dates"
   ]
  },
  {
   "cell_type": "markdown",
   "metadata": {
    "collapsed": false,
    "papermill": {
     "duration": 0.037224,
     "end_time": "2020-11-07T23:18:28.772239",
     "exception": false,
     "start_time": "2020-11-07T23:18:28.735015",
     "status": "completed"
    },
    "pycharm": {
     "name": "#%% md\n"
    },
    "tags": []
   },
   "source": [
    "### COVID-19 Cases"
   ]
  },
  {
   "cell_type": "code",
   "execution_count": 7,
   "metadata": {
    "collapsed": false,
    "execution": {
     "iopub.execute_input": "2020-11-07T23:18:28.850775Z",
     "iopub.status.busy": "2020-11-07T23:18:28.850224Z",
     "iopub.status.idle": "2020-11-07T23:18:28.853077Z",
     "shell.execute_reply": "2020-11-07T23:18:28.853505Z"
    },
    "papermill": {
     "duration": 0.044214,
     "end_time": "2020-11-07T23:18:28.853664",
     "exception": false,
     "start_time": "2020-11-07T23:18:28.809450",
     "status": "completed"
    },
    "pycharm": {
     "name": "#%%\n"
    },
    "tags": []
   },
   "outputs": [],
   "source": [
    "report_backend_client = \\\n",
    "    exposure_notification_io.get_backend_client_with_identifier(\n",
    "        backend_identifier=report_backend_identifier)"
   ]
  },
  {
   "cell_type": "code",
   "execution_count": 8,
   "metadata": {
    "collapsed": false,
    "execution": {
     "iopub.execute_input": "2020-11-07T23:18:28.938000Z",
     "iopub.status.busy": "2020-11-07T23:18:28.937445Z",
     "iopub.status.idle": "2020-11-07T23:18:43.625768Z",
     "shell.execute_reply": "2020-11-07T23:18:43.626624Z"
    },
    "papermill": {
     "duration": 14.735561,
     "end_time": "2020-11-07T23:18:43.626800",
     "exception": false,
     "start_time": "2020-11-07T23:18:28.891239",
     "status": "completed"
    },
    "pycharm": {
     "name": "#%%\n"
    },
    "tags": []
   },
   "outputs": [],
   "source": [
    "@retry.retry(tries=10, delay=10, backoff=1.1, jitter=(0, 10))\n",
    "def download_cases_dataframe_from_ecdc():\n",
    "    return pd.read_csv(\n",
    "        \"https://opendata.ecdc.europa.eu/covid19/casedistribution/csv/data.csv\")\n",
    "\n",
    "confirmed_df_ = download_cases_dataframe_from_ecdc()"
   ]
  },
  {
   "cell_type": "code",
   "execution_count": 9,
   "metadata": {
    "collapsed": false,
    "execution": {
     "iopub.execute_input": "2020-11-07T23:18:43.712172Z",
     "iopub.status.busy": "2020-11-07T23:18:43.711593Z",
     "iopub.status.idle": "2020-11-07T23:18:44.087717Z",
     "shell.execute_reply": "2020-11-07T23:18:44.088311Z"
    },
    "papermill": {
     "duration": 0.422768,
     "end_time": "2020-11-07T23:18:44.088514",
     "exception": false,
     "start_time": "2020-11-07T23:18:43.665746",
     "status": "completed"
    },
    "pycharm": {
     "name": "#%%\n"
    },
    "tags": []
   },
   "outputs": [
    {
     "data": {
      "text/html": [
       "<div>\n",
       "<style scoped>\n",
       "    .dataframe tbody tr th:only-of-type {\n",
       "        vertical-align: middle;\n",
       "    }\n",
       "\n",
       "    .dataframe tbody tr th {\n",
       "        vertical-align: top;\n",
       "    }\n",
       "\n",
       "    .dataframe thead th {\n",
       "        text-align: right;\n",
       "    }\n",
       "</style>\n",
       "<table border=\"1\" class=\"dataframe\">\n",
       "  <thead>\n",
       "    <tr style=\"text-align: right;\">\n",
       "      <th></th>\n",
       "      <th>sample_date</th>\n",
       "      <th>new_cases</th>\n",
       "      <th>country_code</th>\n",
       "    </tr>\n",
       "  </thead>\n",
       "  <tbody>\n",
       "    <tr>\n",
       "      <th>30348</th>\n",
       "      <td>2020-11-07</td>\n",
       "      <td>102</td>\n",
       "      <td>MG</td>\n",
       "    </tr>\n",
       "    <tr>\n",
       "      <th>7773</th>\n",
       "      <td>2020-11-07</td>\n",
       "      <td>3839</td>\n",
       "      <td>BG</td>\n",
       "    </tr>\n",
       "    <tr>\n",
       "      <th>30042</th>\n",
       "      <td>2020-11-07</td>\n",
       "      <td>659</td>\n",
       "      <td>LU</td>\n",
       "    </tr>\n",
       "    <tr>\n",
       "      <th>7531</th>\n",
       "      <td>2020-11-07</td>\n",
       "      <td>0</td>\n",
       "      <td>BN</td>\n",
       "    </tr>\n",
       "    <tr>\n",
       "      <th>0</th>\n",
       "      <td>2020-11-07</td>\n",
       "      <td>58</td>\n",
       "      <td>AF</td>\n",
       "    </tr>\n",
       "  </tbody>\n",
       "</table>\n",
       "</div>"
      ],
      "text/plain": [
       "      sample_date  new_cases country_code\n",
       "30348  2020-11-07        102           MG\n",
       "7773   2020-11-07       3839           BG\n",
       "30042  2020-11-07        659           LU\n",
       "7531   2020-11-07          0           BN\n",
       "0      2020-11-07         58           AF"
      ]
     },
     "execution_count": 9,
     "metadata": {},
     "output_type": "execute_result"
    }
   ],
   "source": [
    "confirmed_df = confirmed_df_.copy()\n",
    "confirmed_df = confirmed_df[[\"dateRep\", \"cases\", \"geoId\"]]\n",
    "confirmed_df.rename(\n",
    "    columns={\n",
    "        \"dateRep\":\"sample_date\",\n",
    "        \"cases\": \"new_cases\",\n",
    "        \"geoId\": \"country_code\",\n",
    "    },\n",
    "    inplace=True)\n",
    "confirmed_df[\"sample_date\"] = pd.to_datetime(confirmed_df.sample_date, dayfirst=True)\n",
    "confirmed_df[\"sample_date\"] = confirmed_df.sample_date.dt.strftime(\"%Y-%m-%d\")\n",
    "confirmed_df.sort_values(\"sample_date\", inplace=True)\n",
    "confirmed_df.tail()"
   ]
  },
  {
   "cell_type": "code",
   "execution_count": 10,
   "metadata": {
    "collapsed": false,
    "execution": {
     "iopub.execute_input": "2020-11-07T23:18:44.174673Z",
     "iopub.status.busy": "2020-11-07T23:18:44.174091Z",
     "iopub.status.idle": "2020-11-07T23:18:44.177911Z",
     "shell.execute_reply": "2020-11-07T23:18:44.177453Z"
    },
    "papermill": {
     "duration": 0.047578,
     "end_time": "2020-11-07T23:18:44.178040",
     "exception": false,
     "start_time": "2020-11-07T23:18:44.130462",
     "status": "completed"
    },
    "pycharm": {
     "name": "#%%\n"
    },
    "tags": []
   },
   "outputs": [],
   "source": [
    "def sort_source_regions_for_display(source_regions: list) -> list:\n",
    "    if report_backend_identifier in source_regions:\n",
    "        source_regions = [report_backend_identifier] + \\\n",
    "            list(sorted(set(source_regions).difference([report_backend_identifier])))\n",
    "    else:\n",
    "        source_regions = list(sorted(source_regions))\n",
    "    return source_regions"
   ]
  },
  {
   "cell_type": "code",
   "execution_count": 11,
   "metadata": {
    "collapsed": false,
    "execution": {
     "iopub.execute_input": "2020-11-07T23:18:44.264998Z",
     "iopub.status.busy": "2020-11-07T23:18:44.264375Z",
     "iopub.status.idle": "2020-11-07T23:18:44.287828Z",
     "shell.execute_reply": "2020-11-07T23:18:44.287173Z"
    },
    "papermill": {
     "duration": 0.069454,
     "end_time": "2020-11-07T23:18:44.287995",
     "exception": false,
     "start_time": "2020-11-07T23:18:44.218541",
     "status": "completed"
    },
    "pycharm": {
     "name": "#%%\n"
    },
    "tags": []
   },
   "outputs": [
    {
     "data": {
      "text/html": [
       "<div>\n",
       "<style scoped>\n",
       "    .dataframe tbody tr th:only-of-type {\n",
       "        vertical-align: middle;\n",
       "    }\n",
       "\n",
       "    .dataframe tbody tr th {\n",
       "        vertical-align: top;\n",
       "    }\n",
       "\n",
       "    .dataframe thead th {\n",
       "        text-align: right;\n",
       "    }\n",
       "</style>\n",
       "<table border=\"1\" class=\"dataframe\">\n",
       "  <thead>\n",
       "    <tr style=\"text-align: right;\">\n",
       "      <th></th>\n",
       "      <th>sample_date</th>\n",
       "      <th>source_regions_at_date</th>\n",
       "      <th>_source_regions_group</th>\n",
       "      <th>sample_date_string</th>\n",
       "    </tr>\n",
       "  </thead>\n",
       "  <tbody>\n",
       "    <tr>\n",
       "      <th>308</th>\n",
       "      <td>2020-11-03</td>\n",
       "      <td>{LV, ES, IT, DE, IE}</td>\n",
       "      <td>ES,DE,IE,IT,LV</td>\n",
       "      <td>2020-11-03</td>\n",
       "    </tr>\n",
       "    <tr>\n",
       "      <th>309</th>\n",
       "      <td>2020-11-04</td>\n",
       "      <td>{LV, ES, IT, DE, IE}</td>\n",
       "      <td>ES,DE,IE,IT,LV</td>\n",
       "      <td>2020-11-04</td>\n",
       "    </tr>\n",
       "    <tr>\n",
       "      <th>310</th>\n",
       "      <td>2020-11-05</td>\n",
       "      <td>{LV, ES, IT, DE, IE}</td>\n",
       "      <td>ES,DE,IE,IT,LV</td>\n",
       "      <td>2020-11-05</td>\n",
       "    </tr>\n",
       "    <tr>\n",
       "      <th>311</th>\n",
       "      <td>2020-11-06</td>\n",
       "      <td>{LV, ES, IT, DE, IE}</td>\n",
       "      <td>ES,DE,IE,IT,LV</td>\n",
       "      <td>2020-11-06</td>\n",
       "    </tr>\n",
       "    <tr>\n",
       "      <th>312</th>\n",
       "      <td>2020-11-07</td>\n",
       "      <td>{LV, ES, IT, DE, IE}</td>\n",
       "      <td>ES,DE,IE,IT,LV</td>\n",
       "      <td>2020-11-07</td>\n",
       "    </tr>\n",
       "  </tbody>\n",
       "</table>\n",
       "</div>"
      ],
      "text/plain": [
       "    sample_date source_regions_at_date _source_regions_group  \\\n",
       "308  2020-11-03   {LV, ES, IT, DE, IE}        ES,DE,IE,IT,LV   \n",
       "309  2020-11-04   {LV, ES, IT, DE, IE}        ES,DE,IE,IT,LV   \n",
       "310  2020-11-05   {LV, ES, IT, DE, IE}        ES,DE,IE,IT,LV   \n",
       "311  2020-11-06   {LV, ES, IT, DE, IE}        ES,DE,IE,IT,LV   \n",
       "312  2020-11-07   {LV, ES, IT, DE, IE}        ES,DE,IE,IT,LV   \n",
       "\n",
       "    sample_date_string  \n",
       "308         2020-11-03  \n",
       "309         2020-11-04  \n",
       "310         2020-11-05  \n",
       "311         2020-11-06  \n",
       "312         2020-11-07  "
      ]
     },
     "execution_count": 11,
     "metadata": {},
     "output_type": "execute_result"
    }
   ],
   "source": [
    "confirmed_days = pd.date_range(\n",
    "    start=confirmed_df.iloc[0].sample_date,\n",
    "    end=extraction_datetime)\n",
    "source_regions_at_date_df = pd.DataFrame(data=confirmed_days, columns=[\"sample_date\"])\n",
    "source_regions_at_date_df[\"source_regions_at_date\"] = \\\n",
    "    source_regions_at_date_df.sample_date.apply(\n",
    "        lambda x: report_backend_client.source_regions_for_date(date=x))\n",
    "source_regions_at_date_df.sort_values(\"sample_date\", inplace=True)\n",
    "source_regions_at_date_df[\"_source_regions_group\"] = source_regions_at_date_df. \\\n",
    "    source_regions_at_date.apply(lambda x: \",\".join(sort_source_regions_for_display(x)))\n",
    "source_regions_at_date_df[\"sample_date_string\"] = \\\n",
    "    source_regions_at_date_df.sample_date.dt.strftime(\"%Y-%m-%d\")\n",
    "source_regions_at_date_df.tail()"
   ]
  },
  {
   "cell_type": "code",
   "execution_count": 12,
   "metadata": {
    "collapsed": false,
    "execution": {
     "iopub.execute_input": "2020-11-07T23:18:44.381450Z",
     "iopub.status.busy": "2020-11-07T23:18:44.380869Z",
     "iopub.status.idle": "2020-11-07T23:18:44.384820Z",
     "shell.execute_reply": "2020-11-07T23:18:44.384335Z"
    },
    "papermill": {
     "duration": 0.054896,
     "end_time": "2020-11-07T23:18:44.384955",
     "exception": false,
     "start_time": "2020-11-07T23:18:44.330059",
     "status": "completed"
    },
    "pycharm": {
     "name": "#%%\n"
    },
    "tags": []
   },
   "outputs": [
    {
     "data": {
      "text/html": [
       "<div>\n",
       "<style scoped>\n",
       "    .dataframe tbody tr th:only-of-type {\n",
       "        vertical-align: middle;\n",
       "    }\n",
       "\n",
       "    .dataframe tbody tr th {\n",
       "        vertical-align: top;\n",
       "    }\n",
       "\n",
       "    .dataframe thead th {\n",
       "        text-align: right;\n",
       "    }\n",
       "</style>\n",
       "<table border=\"1\" class=\"dataframe\">\n",
       "  <thead>\n",
       "    <tr style=\"text-align: right;\">\n",
       "      <th></th>\n",
       "      <th>sample_date</th>\n",
       "      <th>source_regions</th>\n",
       "    </tr>\n",
       "  </thead>\n",
       "  <tbody>\n",
       "    <tr>\n",
       "      <th>0</th>\n",
       "      <td>2019-12-31</td>\n",
       "      <td>ES</td>\n",
       "    </tr>\n",
       "    <tr>\n",
       "      <th>1</th>\n",
       "      <td>2020-01-01</td>\n",
       "      <td>ES</td>\n",
       "    </tr>\n",
       "    <tr>\n",
       "      <th>2</th>\n",
       "      <td>2020-01-02</td>\n",
       "      <td>ES</td>\n",
       "    </tr>\n",
       "    <tr>\n",
       "      <th>3</th>\n",
       "      <td>2020-01-03</td>\n",
       "      <td>ES</td>\n",
       "    </tr>\n",
       "    <tr>\n",
       "      <th>4</th>\n",
       "      <td>2020-01-04</td>\n",
       "      <td>ES</td>\n",
       "    </tr>\n",
       "  </tbody>\n",
       "</table>\n",
       "</div>"
      ],
      "text/plain": [
       "  sample_date source_regions\n",
       "0  2019-12-31             ES\n",
       "1  2020-01-01             ES\n",
       "2  2020-01-02             ES\n",
       "3  2020-01-03             ES\n",
       "4  2020-01-04             ES"
      ]
     },
     "execution_count": 12,
     "metadata": {},
     "output_type": "execute_result"
    }
   ],
   "source": [
    "source_regions_for_summary_df = \\\n",
    "    source_regions_at_date_df[[\"sample_date\", \"_source_regions_group\"]].copy()\n",
    "source_regions_for_summary_df.rename(columns={\"_source_regions_group\": \"source_regions\"}, inplace=True)\n",
    "source_regions_for_summary_df.head()"
   ]
  },
  {
   "cell_type": "code",
   "execution_count": 13,
   "metadata": {
    "collapsed": false,
    "execution": {
     "iopub.execute_input": "2020-11-07T23:18:44.493550Z",
     "iopub.status.busy": "2020-11-07T23:18:44.486760Z",
     "iopub.status.idle": "2020-11-07T23:18:44.512129Z",
     "shell.execute_reply": "2020-11-07T23:18:44.512706Z"
    },
    "papermill": {
     "duration": 0.086003,
     "end_time": "2020-11-07T23:18:44.512894",
     "exception": false,
     "start_time": "2020-11-07T23:18:44.426891",
     "status": "completed"
    },
    "pycharm": {
     "name": "#%%\n"
    },
    "tags": []
   },
   "outputs": [
    {
     "data": {
      "text/html": [
       "<div>\n",
       "<style scoped>\n",
       "    .dataframe tbody tr th:only-of-type {\n",
       "        vertical-align: middle;\n",
       "    }\n",
       "\n",
       "    .dataframe tbody tr th {\n",
       "        vertical-align: top;\n",
       "    }\n",
       "\n",
       "    .dataframe thead th {\n",
       "        text-align: right;\n",
       "    }\n",
       "</style>\n",
       "<table border=\"1\" class=\"dataframe\">\n",
       "  <thead>\n",
       "    <tr style=\"text-align: right;\">\n",
       "      <th></th>\n",
       "      <th>sample_date</th>\n",
       "      <th>new_cases</th>\n",
       "      <th>covid_cases</th>\n",
       "    </tr>\n",
       "  </thead>\n",
       "  <tbody>\n",
       "    <tr>\n",
       "      <th>308</th>\n",
       "      <td>2020-11-03</td>\n",
       "      <td>57154</td>\n",
       "      <td>64104.0</td>\n",
       "    </tr>\n",
       "    <tr>\n",
       "      <th>309</th>\n",
       "      <td>2020-11-04</td>\n",
       "      <td>70966</td>\n",
       "      <td>66020.0</td>\n",
       "    </tr>\n",
       "    <tr>\n",
       "      <th>310</th>\n",
       "      <td>2020-11-05</td>\n",
       "      <td>73194</td>\n",
       "      <td>67010.0</td>\n",
       "    </tr>\n",
       "    <tr>\n",
       "      <th>311</th>\n",
       "      <td>2020-11-06</td>\n",
       "      <td>79454</td>\n",
       "      <td>68044.0</td>\n",
       "    </tr>\n",
       "    <tr>\n",
       "      <th>312</th>\n",
       "      <td>2020-11-07</td>\n",
       "      <td>62050</td>\n",
       "      <td>69596.0</td>\n",
       "    </tr>\n",
       "  </tbody>\n",
       "</table>\n",
       "</div>"
      ],
      "text/plain": [
       "    sample_date new_cases  covid_cases\n",
       "308  2020-11-03     57154      64104.0\n",
       "309  2020-11-04     70966      66020.0\n",
       "310  2020-11-05     73194      67010.0\n",
       "311  2020-11-06     79454      68044.0\n",
       "312  2020-11-07     62050      69596.0"
      ]
     },
     "execution_count": 13,
     "metadata": {},
     "output_type": "execute_result"
    }
   ],
   "source": [
    "confirmed_output_columns = [\"sample_date\", \"new_cases\", \"covid_cases\"]\n",
    "confirmed_output_df = pd.DataFrame(columns=confirmed_output_columns)\n",
    "\n",
    "for source_regions_group, source_regions_group_series in \\\n",
    "        source_regions_at_date_df.groupby(\"_source_regions_group\"):\n",
    "    source_regions_set = set(source_regions_group.split(\",\"))\n",
    "    confirmed_source_regions_set_df = \\\n",
    "        confirmed_df[confirmed_df.country_code.isin(source_regions_set)].copy()\n",
    "    confirmed_source_regions_group_df = \\\n",
    "        confirmed_source_regions_set_df.groupby(\"sample_date\").new_cases.sum() \\\n",
    "            .reset_index().sort_values(\"sample_date\")\n",
    "    confirmed_source_regions_group_df[\"covid_cases\"] = \\\n",
    "        confirmed_source_regions_group_df.new_cases.rolling(7, min_periods=0).mean().round()\n",
    "    confirmed_source_regions_group_df = \\\n",
    "        confirmed_source_regions_group_df[confirmed_output_columns]\n",
    "    confirmed_source_regions_group_df.fillna(method=\"ffill\", inplace=True)\n",
    "    confirmed_source_regions_group_df = \\\n",
    "        confirmed_source_regions_group_df[\n",
    "            confirmed_source_regions_group_df.sample_date.isin(\n",
    "                source_regions_group_series.sample_date_string)]\n",
    "    confirmed_output_df = confirmed_output_df.append(confirmed_source_regions_group_df)\n",
    "\n",
    "confirmed_df = confirmed_output_df.copy()\n",
    "confirmed_df.tail()"
   ]
  },
  {
   "cell_type": "code",
   "execution_count": 14,
   "metadata": {
    "collapsed": false,
    "execution": {
     "iopub.execute_input": "2020-11-07T23:18:44.608307Z",
     "iopub.status.busy": "2020-11-07T23:18:44.607739Z",
     "iopub.status.idle": "2020-11-07T23:18:44.610848Z",
     "shell.execute_reply": "2020-11-07T23:18:44.611269Z"
    },
    "papermill": {
     "duration": 0.05446,
     "end_time": "2020-11-07T23:18:44.611425",
     "exception": false,
     "start_time": "2020-11-07T23:18:44.556965",
     "status": "completed"
    },
    "pycharm": {
     "name": "#%%\n"
    },
    "tags": []
   },
   "outputs": [
    {
     "data": {
      "text/html": [
       "<div>\n",
       "<style scoped>\n",
       "    .dataframe tbody tr th:only-of-type {\n",
       "        vertical-align: middle;\n",
       "    }\n",
       "\n",
       "    .dataframe tbody tr th {\n",
       "        vertical-align: top;\n",
       "    }\n",
       "\n",
       "    .dataframe thead th {\n",
       "        text-align: right;\n",
       "    }\n",
       "</style>\n",
       "<table border=\"1\" class=\"dataframe\">\n",
       "  <thead>\n",
       "    <tr style=\"text-align: right;\">\n",
       "      <th></th>\n",
       "      <th>sample_date_string</th>\n",
       "      <th>new_cases</th>\n",
       "      <th>covid_cases</th>\n",
       "    </tr>\n",
       "  </thead>\n",
       "  <tbody>\n",
       "    <tr>\n",
       "      <th>308</th>\n",
       "      <td>2020-11-03</td>\n",
       "      <td>57154</td>\n",
       "      <td>64104.0</td>\n",
       "    </tr>\n",
       "    <tr>\n",
       "      <th>309</th>\n",
       "      <td>2020-11-04</td>\n",
       "      <td>70966</td>\n",
       "      <td>66020.0</td>\n",
       "    </tr>\n",
       "    <tr>\n",
       "      <th>310</th>\n",
       "      <td>2020-11-05</td>\n",
       "      <td>73194</td>\n",
       "      <td>67010.0</td>\n",
       "    </tr>\n",
       "    <tr>\n",
       "      <th>311</th>\n",
       "      <td>2020-11-06</td>\n",
       "      <td>79454</td>\n",
       "      <td>68044.0</td>\n",
       "    </tr>\n",
       "    <tr>\n",
       "      <th>312</th>\n",
       "      <td>2020-11-07</td>\n",
       "      <td>62050</td>\n",
       "      <td>69596.0</td>\n",
       "    </tr>\n",
       "  </tbody>\n",
       "</table>\n",
       "</div>"
      ],
      "text/plain": [
       "    sample_date_string new_cases  covid_cases\n",
       "308         2020-11-03     57154      64104.0\n",
       "309         2020-11-04     70966      66020.0\n",
       "310         2020-11-05     73194      67010.0\n",
       "311         2020-11-06     79454      68044.0\n",
       "312         2020-11-07     62050      69596.0"
      ]
     },
     "execution_count": 14,
     "metadata": {},
     "output_type": "execute_result"
    }
   ],
   "source": [
    "confirmed_df.rename(columns={\"sample_date\": \"sample_date_string\"}, inplace=True)\n",
    "confirmed_df.sort_values(\"sample_date_string\", inplace=True)\n",
    "confirmed_df.tail()"
   ]
  },
  {
   "cell_type": "code",
   "execution_count": 15,
   "metadata": {
    "collapsed": false,
    "execution": {
     "iopub.execute_input": "2020-11-07T23:18:44.703590Z",
     "iopub.status.busy": "2020-11-07T23:18:44.703037Z",
     "iopub.status.idle": "2020-11-07T23:18:44.894078Z",
     "shell.execute_reply": "2020-11-07T23:18:44.894542Z"
    },
    "papermill": {
     "duration": 0.24271,
     "end_time": "2020-11-07T23:18:44.894713",
     "exception": false,
     "start_time": "2020-11-07T23:18:44.652003",
     "status": "completed"
    },
    "pycharm": {
     "name": "#%%\n"
    },
    "tags": []
   },
   "outputs": [
    {
     "data": {
      "text/plain": [
       "<matplotlib.axes._subplots.AxesSubplot at 0x7ff4e90dc6d0>"
      ]
     },
     "execution_count": 15,
     "metadata": {},
     "output_type": "execute_result"
    },
    {
     "data": {
      "image/png": "[encoded data removed]",
      "text/plain": [
       "<Figure size 1080x432 with 1 Axes>"
      ]
     },
     "metadata": {},
     "output_type": "display_data"
    }
   ],
   "source": [
    "confirmed_df[[\"new_cases\", \"covid_cases\"]].plot()"
   ]
  },
  {
   "cell_type": "markdown",
   "metadata": {
    "execution": {
     "iopub.execute_input": "2020-08-30T22:30:16.351238Z",
     "iopub.status.busy": "2020-08-30T22:30:16.344579Z",
     "iopub.status.idle": "2020-08-30T22:30:16.354285Z",
     "shell.execute_reply": "2020-08-30T22:30:16.353641Z"
    },
    "papermill": {
     "duration": 0.042478,
     "end_time": "2020-11-07T23:18:44.980582",
     "exception": false,
     "start_time": "2020-11-07T23:18:44.938104",
     "status": "completed"
    },
    "pycharm": {
     "name": "#%% md\n"
    },
    "tags": []
   },
   "source": [
    "### Extract API TEKs"
   ]
  },
  {
   "cell_type": "code",
   "execution_count": 16,
   "metadata": {
    "execution": {
     "iopub.execute_input": "2020-11-07T23:18:45.078007Z",
     "iopub.status.busy": "2020-11-07T23:18:45.077428Z",
     "iopub.status.idle": "2020-11-07T23:23:55.648195Z",
     "shell.execute_reply": "2020-11-07T23:23:55.647729Z"
    },
    "papermill": {
     "duration": 310.624198,
     "end_time": "2020-11-07T23:23:55.648329",
     "exception": false,
     "start_time": "2020-11-07T23:18:45.024131",
     "status": "completed"
    },
    "pycharm": {
     "name": "#%%\n"
    },
    "tags": []
   },
   "outputs": [
    {
     "name": "stderr",
     "output_type": "stream",
     "text": [
      "WARNING:root:NoKeysFoundException(\"No exposure keys found on endpoint 'https://radarcovidpre.covid19.gob.es/dp3t/v1/gaen/exposed/1604707200000' (parameters: {'generation_date': '2020-11-07', 'endpoint_identifier_components': ['2020-11-07'], 'backend_identifier': 'ES@PRE', 'server_endpoint_url': 'https://radarcovidpre.covid19.gob.es/dp3t'}).\")\n"
     ]
    },
    {
     "name": "stderr",
     "output_type": "stream",
     "text": [
      "WARNING:root:NoKeysFoundException(\"No exposure keys found on endpoint 'https://stayaway.incm.pt/v1/gaen/exposed/1604707200000' (parameters: {'generation_date': '2020-11-07', 'endpoint_identifier_components': ['2020-11-07'], 'backend_identifier': 'PT', 'server_endpoint_url': 'https://stayaway.incm.pt'}).\")\n"
     ]
    },
    {
     "name": "stderr",
     "output_type": "stream",
     "text": [
      "WARNING:root:NoKeysFoundException(\"No exposure keys found on endpoint 'https://enapi.sm.ee/authorization/v1/gaen/exposed/1604707200000' (parameters: {'generation_date': '2020-11-07', 'endpoint_identifier_components': ['2020-11-07'], 'backend_identifier': 'EE', 'server_endpoint_url': 'https://enapi.sm.ee/authorization'}).\")\n"
     ]
    },
    {
     "name": "stderr",
     "output_type": "stream",
     "text": [
      "WARNING:root:NoKeysFoundException(\"No exposure keys found on endpoint 'https://mt-dpppt-ws.azurewebsites.net/v1/gaen/exposed/1604707200000' (parameters: {'generation_date': '2020-11-07', 'endpoint_identifier_components': ['2020-11-07'], 'backend_identifier': 'MT', 'server_endpoint_url': 'https://mt-dpppt-ws.azurewebsites.net'}).\")\n"
     ]
    },
    {
     "name": "stderr",
     "output_type": "stream",
     "text": [
      "WARNING:root:NoKeysFoundException(\"No exposure keys found on endpoint 'https://app.smittestop.dk/API/v1/diagnostickeys/2020-11-07:0.zip' (parameters: {'upload_date': '2020-11-07', 'chunk': 0, 'endpoint_identifier_components': ['2020-11-07', 0], 'backend_identifier': 'DK', 'server_endpoint_url': 'https://app.smittestop.dk/API'}).\")\n"
     ]
    },
    {
     "data": {
      "text/html": [
       "<div>\n",
       "<style scoped>\n",
       "    .dataframe tbody tr th:only-of-type {\n",
       "        vertical-align: middle;\n",
       "    }\n",
       "\n",
       "    .dataframe tbody tr th {\n",
       "        vertical-align: top;\n",
       "    }\n",
       "\n",
       "    .dataframe thead th {\n",
       "        text-align: right;\n",
       "    }\n",
       "</style>\n",
       "<table border=\"1\" class=\"dataframe\">\n",
       "  <thead>\n",
       "    <tr style=\"text-align: right;\">\n",
       "      <th></th>\n",
       "      <th>sample_datetime</th>\n",
       "      <th>sample_date_string</th>\n",
       "      <th>region</th>\n",
       "      <th>verification_key_version</th>\n",
       "      <th>verification_key_id</th>\n",
       "      <th>signature_algorithm</th>\n",
       "      <th>key_data</th>\n",
       "      <th>rolling_start_interval_number</th>\n",
       "      <th>rolling_period</th>\n",
       "      <th>transmission_risk_level</th>\n",
       "      <th>backend_identifier</th>\n",
       "    </tr>\n",
       "  </thead>\n",
       "  <tbody>\n",
       "    <tr>\n",
       "      <th>0</th>\n",
       "      <td>2020-11-07</td>\n",
       "      <td>2020-11-07</td>\n",
       "      <td>ES</td>\n",
       "      <td>V1</td>\n",
       "      <td>214</td>\n",
       "      <td>1.2.840.10045.4.3.2</td>\n",
       "      <td>db575ba2-648c-69f5-44c9-a26b1b947e60</td>\n",
       "      <td>2674512</td>\n",
       "      <td>132</td>\n",
       "      <td>0</td>\n",
       "      <td>ES</td>\n",
       "    </tr>\n",
       "    <tr>\n",
       "      <th>1</th>\n",
       "      <td>2020-11-07</td>\n",
       "      <td>2020-11-07</td>\n",
       "      <td>ES</td>\n",
       "      <td>V1</td>\n",
       "      <td>214</td>\n",
       "      <td>1.2.840.10045.4.3.2</td>\n",
       "      <td>4dd5b8f1-40de-6cc4-5bae-6bf6ca56d66a</td>\n",
       "      <td>2674512</td>\n",
       "      <td>132</td>\n",
       "      <td>0</td>\n",
       "      <td>ES</td>\n",
       "    </tr>\n",
       "    <tr>\n",
       "      <th>2</th>\n",
       "      <td>2020-11-07</td>\n",
       "      <td>2020-11-07</td>\n",
       "      <td>ES</td>\n",
       "      <td>V1</td>\n",
       "      <td>214</td>\n",
       "      <td>1.2.840.10045.4.3.2</td>\n",
       "      <td>188e5af3-8c76-3e78-a835-410b66ed449b</td>\n",
       "      <td>2674512</td>\n",
       "      <td>131</td>\n",
       "      <td>0</td>\n",
       "      <td>ES</td>\n",
       "    </tr>\n",
       "    <tr>\n",
       "      <th>3</th>\n",
       "      <td>2020-11-07</td>\n",
       "      <td>2020-11-07</td>\n",
       "      <td>ES</td>\n",
       "      <td>V1</td>\n",
       "      <td>214</td>\n",
       "      <td>1.2.840.10045.4.3.2</td>\n",
       "      <td>48d9c780-18e6-c91e-cd98-1d3c17c043df</td>\n",
       "      <td>2674512</td>\n",
       "      <td>130</td>\n",
       "      <td>0</td>\n",
       "      <td>ES</td>\n",
       "    </tr>\n",
       "    <tr>\n",
       "      <th>4</th>\n",
       "      <td>2020-11-07</td>\n",
       "      <td>2020-11-07</td>\n",
       "      <td>ES</td>\n",
       "      <td>V1</td>\n",
       "      <td>214</td>\n",
       "      <td>1.2.840.10045.4.3.2</td>\n",
       "      <td>c1bde9dc-e3a7-e3ee-2b31-f814628ac2d3</td>\n",
       "      <td>2674512</td>\n",
       "      <td>130</td>\n",
       "      <td>0</td>\n",
       "      <td>ES</td>\n",
       "    </tr>\n",
       "  </tbody>\n",
       "</table>\n",
       "</div>"
      ],
      "text/plain": [
       "  sample_datetime sample_date_string region verification_key_version  \\\n",
       "0      2020-11-07         2020-11-07     ES                       V1   \n",
       "1      2020-11-07         2020-11-07     ES                       V1   \n",
       "2      2020-11-07         2020-11-07     ES                       V1   \n",
       "3      2020-11-07         2020-11-07     ES                       V1   \n",
       "4      2020-11-07         2020-11-07     ES                       V1   \n",
       "\n",
       "  verification_key_id  signature_algorithm  \\\n",
       "0                 214  1.2.840.10045.4.3.2   \n",
       "1                 214  1.2.840.10045.4.3.2   \n",
       "2                 214  1.2.840.10045.4.3.2   \n",
       "3                 214  1.2.840.10045.4.3.2   \n",
       "4                 214  1.2.840.10045.4.3.2   \n",
       "\n",
       "                               key_data  rolling_start_interval_number  \\\n",
       "0  db575ba2-648c-69f5-44c9-a26b1b947e60                        2674512   \n",
       "1  4dd5b8f1-40de-6cc4-5bae-6bf6ca56d66a                        2674512   \n",
       "2  188e5af3-8c76-3e78-a835-410b66ed449b                        2674512   \n",
       "3  48d9c780-18e6-c91e-cd98-1d3c17c043df                        2674512   \n",
       "4  c1bde9dc-e3a7-e3ee-2b31-f814628ac2d3                        2674512   \n",
       "\n",
       "   rolling_period  transmission_risk_level backend_identifier  \n",
       "0             132                        0                 ES  \n",
       "1             132                        0                 ES  \n",
       "2             131                        0                 ES  \n",
       "3             130                        0                 ES  \n",
       "4             130                        0                 ES  "
      ]
     },
     "execution_count": 16,
     "metadata": {},
     "output_type": "execute_result"
    }
   ],
   "source": [
    "raw_zip_path_prefix = \"Data/TEKs/Raw/\"\n",
    "fail_on_error_backend_identifiers = [report_backend_identifier]\n",
    "multi_backend_exposure_keys_df = \\\n",
    "    exposure_notification_io.download_exposure_keys_from_backends(\n",
    "        backend_identifiers=report_backend_identifiers,\n",
    "        generation_days=backend_generation_days,\n",
    "        fail_on_error_backend_identifiers=fail_on_error_backend_identifiers,\n",
    "        save_raw_zip_path_prefix=raw_zip_path_prefix)\n",
    "multi_backend_exposure_keys_df[\"region\"] = multi_backend_exposure_keys_df[\"backend_identifier\"]\n",
    "multi_backend_exposure_keys_df.rename(\n",
    "    columns={\n",
    "        \"generation_datetime\": \"sample_datetime\",\n",
    "        \"generation_date_string\": \"sample_date_string\",\n",
    "    },\n",
    "    inplace=True)\n",
    "multi_backend_exposure_keys_df.head()"
   ]
  },
  {
   "cell_type": "code",
   "execution_count": 17,
   "metadata": {
    "collapsed": false,
    "execution": {
     "iopub.execute_input": "2020-11-07T23:23:55.745761Z",
     "iopub.status.busy": "2020-11-07T23:23:55.745201Z",
     "iopub.status.idle": "2020-11-07T23:23:55.938923Z",
     "shell.execute_reply": "2020-11-07T23:23:55.939805Z"
    },
    "papermill": {
     "duration": 0.242943,
     "end_time": "2020-11-07T23:23:55.939976",
     "exception": false,
     "start_time": "2020-11-07T23:23:55.697033",
     "status": "completed"
    },
    "pycharm": {
     "name": "#%%\n"
    },
    "tags": []
   },
   "outputs": [
    {
     "data": {
      "text/plain": [
       "<matplotlib.axes._subplots.AxesSubplot at 0x7ff4d592ba00>"
      ]
     },
     "execution_count": 17,
     "metadata": {},
     "output_type": "execute_result"
    },
    {
     "data": {
      "image/png": "[encoded data removed]",
      "text/plain": [
       "<Figure size 1080x432 with 1 Axes>"
      ]
     },
     "metadata": {},
     "output_type": "display_data"
    }
   ],
   "source": [
    "early_teks_df = multi_backend_exposure_keys_df[\n",
    "    multi_backend_exposure_keys_df.rolling_period < 144].copy()\n",
    "early_teks_df[\"rolling_period_in_hours\"] = early_teks_df.rolling_period / 6\n",
    "early_teks_df[early_teks_df.sample_date_string != extraction_date] \\\n",
    "    .rolling_period_in_hours.hist(bins=list(range(24)))"
   ]
  },
  {
   "cell_type": "code",
   "execution_count": 18,
   "metadata": {
    "collapsed": false,
    "execution": {
     "iopub.execute_input": "2020-11-07T23:23:56.039162Z",
     "iopub.status.busy": "2020-11-07T23:23:56.038625Z",
     "iopub.status.idle": "2020-11-07T23:23:56.241644Z",
     "shell.execute_reply": "2020-11-07T23:23:56.242416Z"
    },
    "papermill": {
     "duration": 0.255114,
     "end_time": "2020-11-07T23:23:56.242596",
     "exception": false,
     "start_time": "2020-11-07T23:23:55.987482",
     "status": "completed"
    },
    "pycharm": {
     "name": "#%%\n"
    },
    "tags": []
   },
   "outputs": [
    {
     "data": {
      "text/plain": [
       "<matplotlib.axes._subplots.AxesSubplot at 0x7ff4d526e9d0>"
      ]
     },
     "execution_count": 18,
     "metadata": {},
     "output_type": "execute_result"
    },
    {
     "data": {
      "image/png": "[encoded data removed]",
      "text/plain": [
       "<Figure size 1080x432 with 1 Axes>"
      ]
     },
     "metadata": {},
     "output_type": "display_data"
    }
   ],
   "source": [
    "early_teks_df[early_teks_df.sample_date_string == extraction_date] \\\n",
    "    .rolling_period_in_hours.hist(bins=list(range(24)))"
   ]
  },
  {
   "cell_type": "code",
   "execution_count": 19,
   "metadata": {
    "collapsed": false,
    "execution": {
     "iopub.execute_input": "2020-11-07T23:23:56.366084Z",
     "iopub.status.busy": "2020-11-07T23:23:56.365512Z",
     "iopub.status.idle": "2020-11-07T23:23:56.403783Z",
     "shell.execute_reply": "2020-11-07T23:23:56.404573Z"
    },
    "papermill": {
     "duration": 0.11288,
     "end_time": "2020-11-07T23:23:56.404860",
     "exception": false,
     "start_time": "2020-11-07T23:23:56.291980",
     "status": "completed"
    },
    "pycharm": {
     "name": "#%%\n"
    },
    "tags": []
   },
   "outputs": [
    {
     "data": {
      "text/html": [
       "<div>\n",
       "<style scoped>\n",
       "    .dataframe tbody tr th:only-of-type {\n",
       "        vertical-align: middle;\n",
       "    }\n",
       "\n",
       "    .dataframe tbody tr th {\n",
       "        vertical-align: top;\n",
       "    }\n",
       "\n",
       "    .dataframe thead th {\n",
       "        text-align: right;\n",
       "    }\n",
       "</style>\n",
       "<table border=\"1\" class=\"dataframe\">\n",
       "  <thead>\n",
       "    <tr style=\"text-align: right;\">\n",
       "      <th></th>\n",
       "      <th>sample_date_string</th>\n",
       "      <th>region</th>\n",
       "      <th>key_data</th>\n",
       "    </tr>\n",
       "  </thead>\n",
       "  <tbody>\n",
       "    <tr>\n",
       "      <th>0</th>\n",
       "      <td>2020-11-07</td>\n",
       "      <td>ES</td>\n",
       "      <td>db575ba2-648c-69f5-44c9-a26b1b947e60</td>\n",
       "    </tr>\n",
       "    <tr>\n",
       "      <th>1</th>\n",
       "      <td>2020-11-07</td>\n",
       "      <td>ES</td>\n",
       "      <td>4dd5b8f1-40de-6cc4-5bae-6bf6ca56d66a</td>\n",
       "    </tr>\n",
       "    <tr>\n",
       "      <th>2</th>\n",
       "      <td>2020-11-07</td>\n",
       "      <td>ES</td>\n",
       "      <td>188e5af3-8c76-3e78-a835-410b66ed449b</td>\n",
       "    </tr>\n",
       "    <tr>\n",
       "      <th>3</th>\n",
       "      <td>2020-11-07</td>\n",
       "      <td>ES</td>\n",
       "      <td>48d9c780-18e6-c91e-cd98-1d3c17c043df</td>\n",
       "    </tr>\n",
       "    <tr>\n",
       "      <th>4</th>\n",
       "      <td>2020-11-07</td>\n",
       "      <td>ES</td>\n",
       "      <td>c1bde9dc-e3a7-e3ee-2b31-f814628ac2d3</td>\n",
       "    </tr>\n",
       "  </tbody>\n",
       "</table>\n",
       "</div>"
      ],
      "text/plain": [
       "  sample_date_string region                              key_data\n",
       "0         2020-11-07     ES  db575ba2-648c-69f5-44c9-a26b1b947e60\n",
       "1         2020-11-07     ES  4dd5b8f1-40de-6cc4-5bae-6bf6ca56d66a\n",
       "2         2020-11-07     ES  188e5af3-8c76-3e78-a835-410b66ed449b\n",
       "3         2020-11-07     ES  48d9c780-18e6-c91e-cd98-1d3c17c043df\n",
       "4         2020-11-07     ES  c1bde9dc-e3a7-e3ee-2b31-f814628ac2d3"
      ]
     },
     "execution_count": 19,
     "metadata": {},
     "output_type": "execute_result"
    }
   ],
   "source": [
    "multi_backend_exposure_keys_df = multi_backend_exposure_keys_df[[\n",
    "    \"sample_date_string\", \"region\", \"key_data\"]]\n",
    "multi_backend_exposure_keys_df.head()"
   ]
  },
  {
   "cell_type": "code",
   "execution_count": 20,
   "metadata": {
    "collapsed": false,
    "execution": {
     "iopub.execute_input": "2020-11-07T23:23:56.512981Z",
     "iopub.status.busy": "2020-11-07T23:23:56.512351Z",
     "iopub.status.idle": "2020-11-07T23:24:00.518913Z",
     "shell.execute_reply": "2020-11-07T23:24:00.518465Z"
    },
    "papermill": {
     "duration": 4.065214,
     "end_time": "2020-11-07T23:24:00.519041",
     "exception": false,
     "start_time": "2020-11-07T23:23:56.453827",
     "status": "completed"
    },
    "pycharm": {
     "name": "#%%\n"
    },
    "tags": []
   },
   "outputs": [
    {
     "data": {
      "text/plain": [
       "['BE@TST', 'EE', 'MT', 'PT', 'BE', 'DK', 'ES@PRE', 'CH', 'DE', 'IT', 'ES']"
      ]
     },
     "execution_count": 20,
     "metadata": {},
     "output_type": "execute_result"
    }
   ],
   "source": [
    "active_regions = \\\n",
    "    multi_backend_exposure_keys_df.groupby(\"region\").key_data.nunique().sort_values().index.unique().tolist()\n",
    "active_regions"
   ]
  },
  {
   "cell_type": "code",
   "execution_count": 21,
   "metadata": {
    "collapsed": false,
    "execution": {
     "iopub.execute_input": "2020-11-07T23:24:00.651991Z",
     "iopub.status.busy": "2020-11-07T23:24:00.651442Z",
     "iopub.status.idle": "2020-11-07T23:24:04.978857Z",
     "shell.execute_reply": "2020-11-07T23:24:04.978395Z"
    },
    "papermill": {
     "duration": 4.412766,
     "end_time": "2020-11-07T23:24:04.978992",
     "exception": false,
     "start_time": "2020-11-07T23:24:00.566226",
     "status": "completed"
    },
    "pycharm": {
     "name": "#%%\n"
    },
    "tags": []
   },
   "outputs": [
    {
     "data": {
      "text/html": [
       "<div>\n",
       "<style scoped>\n",
       "    .dataframe tbody tr th:only-of-type {\n",
       "        vertical-align: middle;\n",
       "    }\n",
       "\n",
       "    .dataframe tbody tr th {\n",
       "        vertical-align: top;\n",
       "    }\n",
       "\n",
       "    .dataframe thead tr th {\n",
       "        text-align: left;\n",
       "    }\n",
       "\n",
       "    .dataframe thead tr:last-of-type th {\n",
       "        text-align: right;\n",
       "    }\n",
       "</style>\n",
       "<table border=\"1\" class=\"dataframe\">\n",
       "  <thead>\n",
       "    <tr>\n",
       "      <th></th>\n",
       "      <th colspan=\"11\" halign=\"left\">shared_teks_by_generation_date</th>\n",
       "    </tr>\n",
       "    <tr>\n",
       "      <th>region</th>\n",
       "      <th>BE</th>\n",
       "      <th>BE@TST</th>\n",
       "      <th>CH</th>\n",
       "      <th>DE</th>\n",
       "      <th>DK</th>\n",
       "      <th>EE</th>\n",
       "      <th>ES</th>\n",
       "      <th>ES@PRE</th>\n",
       "      <th>IT</th>\n",
       "      <th>MT</th>\n",
       "      <th>PT</th>\n",
       "    </tr>\n",
       "    <tr>\n",
       "      <th>sample_date</th>\n",
       "      <th></th>\n",
       "      <th></th>\n",
       "      <th></th>\n",
       "      <th></th>\n",
       "      <th></th>\n",
       "      <th></th>\n",
       "      <th></th>\n",
       "      <th></th>\n",
       "      <th></th>\n",
       "      <th></th>\n",
       "      <th></th>\n",
       "    </tr>\n",
       "  </thead>\n",
       "  <tbody>\n",
       "    <tr>\n",
       "      <th>2020-11-07</th>\n",
       "      <td>0</td>\n",
       "      <td>0</td>\n",
       "      <td>570</td>\n",
       "      <td>0</td>\n",
       "      <td>0</td>\n",
       "      <td>0</td>\n",
       "      <td>313</td>\n",
       "      <td>0</td>\n",
       "      <td>31</td>\n",
       "      <td>0</td>\n",
       "      <td>0</td>\n",
       "    </tr>\n",
       "    <tr>\n",
       "      <th>2020-11-06</th>\n",
       "      <td>0</td>\n",
       "      <td>0</td>\n",
       "      <td>1507</td>\n",
       "      <td>0</td>\n",
       "      <td>0</td>\n",
       "      <td>25</td>\n",
       "      <td>1611</td>\n",
       "      <td>200</td>\n",
       "      <td>1705</td>\n",
       "      <td>113</td>\n",
       "      <td>73</td>\n",
       "    </tr>\n",
       "    <tr>\n",
       "      <th>2020-11-05</th>\n",
       "      <td>147</td>\n",
       "      <td>42</td>\n",
       "      <td>2528</td>\n",
       "      <td>2676</td>\n",
       "      <td>215</td>\n",
       "      <td>42</td>\n",
       "      <td>4464</td>\n",
       "      <td>470</td>\n",
       "      <td>4320</td>\n",
       "      <td>117</td>\n",
       "      <td>136</td>\n",
       "    </tr>\n",
       "    <tr>\n",
       "      <th>2020-11-04</th>\n",
       "      <td>297</td>\n",
       "      <td>47</td>\n",
       "      <td>3649</td>\n",
       "      <td>5190</td>\n",
       "      <td>394</td>\n",
       "      <td>53</td>\n",
       "      <td>7141</td>\n",
       "      <td>734</td>\n",
       "      <td>6722</td>\n",
       "      <td>125</td>\n",
       "      <td>191</td>\n",
       "    </tr>\n",
       "    <tr>\n",
       "      <th>2020-11-03</th>\n",
       "      <td>551</td>\n",
       "      <td>48</td>\n",
       "      <td>4727</td>\n",
       "      <td>7595</td>\n",
       "      <td>556</td>\n",
       "      <td>57</td>\n",
       "      <td>9588</td>\n",
       "      <td>1104</td>\n",
       "      <td>9023</td>\n",
       "      <td>133</td>\n",
       "      <td>266</td>\n",
       "    </tr>\n",
       "  </tbody>\n",
       "</table>\n",
       "</div>"
      ],
      "text/plain": [
       "            shared_teks_by_generation_date                                    \\\n",
       "region                                  BE BE@TST    CH    DE   DK  EE    ES   \n",
       "sample_date                                                                    \n",
       "2020-11-07                               0      0   570     0    0   0   313   \n",
       "2020-11-06                               0      0  1507     0    0  25  1611   \n",
       "2020-11-05                             147     42  2528  2676  215  42  4464   \n",
       "2020-11-04                             297     47  3649  5190  394  53  7141   \n",
       "2020-11-03                             551     48  4727  7595  556  57  9588   \n",
       "\n",
       "                                    \n",
       "region      ES@PRE    IT   MT   PT  \n",
       "sample_date                         \n",
       "2020-11-07       0    31    0    0  \n",
       "2020-11-06     200  1705  113   73  \n",
       "2020-11-05     470  4320  117  136  \n",
       "2020-11-04     734  6722  125  191  \n",
       "2020-11-03    1104  9023  133  266  "
      ]
     },
     "execution_count": 21,
     "metadata": {},
     "output_type": "execute_result"
    }
   ],
   "source": [
    "multi_backend_summary_df = multi_backend_exposure_keys_df.groupby(\n",
    "    [\"sample_date_string\", \"region\"]).key_data.nunique().reset_index() \\\n",
    "    .pivot(index=\"sample_date_string\", columns=\"region\") \\\n",
    "    .sort_index(ascending=False)\n",
    "multi_backend_summary_df.rename(\n",
    "    columns={\"key_data\": \"shared_teks_by_generation_date\"},\n",
    "    inplace=True)\n",
    "multi_backend_summary_df.rename_axis(\"sample_date\", inplace=True)\n",
    "multi_backend_summary_df = multi_backend_summary_df.fillna(0).astype(int)\n",
    "multi_backend_summary_df = multi_backend_summary_df.head(backend_generation_days)\n",
    "multi_backend_summary_df.head()"
   ]
  },
  {
   "cell_type": "code",
   "execution_count": 22,
   "metadata": {
    "collapsed": false,
    "execution": {
     "iopub.execute_input": "2020-11-07T23:24:05.083399Z",
     "iopub.status.busy": "2020-11-07T23:24:05.082826Z",
     "iopub.status.idle": "2020-11-07T23:24:10.780029Z",
     "shell.execute_reply": "2020-11-07T23:24:10.779572Z"
    },
    "papermill": {
     "duration": 5.753016,
     "end_time": "2020-11-07T23:24:10.780156",
     "exception": false,
     "start_time": "2020-11-07T23:24:05.027140",
     "status": "completed"
    },
    "pycharm": {
     "name": "#%%\n"
    },
    "tags": []
   },
   "outputs": [
    {
     "name": "stderr",
     "output_type": "stream",
     "text": [
      "<ipython-input-22-4e21708c19d8>:2: FutureWarning: `item` has been deprecated and will be removed in a future version\n",
      "  teks_x = x.key_data_x.item()\n",
      "<ipython-input-22-4e21708c19d8>:3: FutureWarning: `item` has been deprecated and will be removed in a future version\n",
      "  common_teks = set(teks_x).intersection(x.key_data_y.item())\n"
     ]
    },
    {
     "name": "stderr",
     "output_type": "stream",
     "text": [
      "<ipython-input-22-4e21708c19d8>:33: FutureWarning: `item` has been deprecated and will be removed in a future version\n",
      "  aggfunc=lambda x: x.item())\n"
     ]
    },
    {
     "data": {
      "text/html": [
       "<div>\n",
       "<style scoped>\n",
       "    .dataframe tbody tr th:only-of-type {\n",
       "        vertical-align: middle;\n",
       "    }\n",
       "\n",
       "    .dataframe tbody tr th {\n",
       "        vertical-align: top;\n",
       "    }\n",
       "\n",
       "    .dataframe thead tr th {\n",
       "        text-align: left;\n",
       "    }\n",
       "\n",
       "    .dataframe thead tr:last-of-type th {\n",
       "        text-align: right;\n",
       "    }\n",
       "</style>\n",
       "<table border=\"1\" class=\"dataframe\">\n",
       "  <thead>\n",
       "    <tr>\n",
       "      <th></th>\n",
       "      <th colspan=\"11\" halign=\"left\">common_teks_fraction</th>\n",
       "    </tr>\n",
       "    <tr>\n",
       "      <th>region_x</th>\n",
       "      <th>BE</th>\n",
       "      <th>BE@TST</th>\n",
       "      <th>CH</th>\n",
       "      <th>DE</th>\n",
       "      <th>DK</th>\n",
       "      <th>EE</th>\n",
       "      <th>ES</th>\n",
       "      <th>ES@PRE</th>\n",
       "      <th>IT</th>\n",
       "      <th>MT</th>\n",
       "      <th>PT</th>\n",
       "    </tr>\n",
       "    <tr>\n",
       "      <th>region_y</th>\n",
       "      <th></th>\n",
       "      <th></th>\n",
       "      <th></th>\n",
       "      <th></th>\n",
       "      <th></th>\n",
       "      <th></th>\n",
       "      <th></th>\n",
       "      <th></th>\n",
       "      <th></th>\n",
       "      <th></th>\n",
       "      <th></th>\n",
       "    </tr>\n",
       "  </thead>\n",
       "  <tbody>\n",
       "    <tr>\n",
       "      <th>BE</th>\n",
       "      <td>NaN</td>\n",
       "      <td>0.0</td>\n",
       "      <td>0.000000</td>\n",
       "      <td>0.000000</td>\n",
       "      <td>0.0</td>\n",
       "      <td>0.0</td>\n",
       "      <td>0.000000</td>\n",
       "      <td>0.000000</td>\n",
       "      <td>0.000000</td>\n",
       "      <td>0.0</td>\n",
       "      <td>0.0</td>\n",
       "    </tr>\n",
       "    <tr>\n",
       "      <th>BE@TST</th>\n",
       "      <td>0.0</td>\n",
       "      <td>NaN</td>\n",
       "      <td>0.000000</td>\n",
       "      <td>0.000000</td>\n",
       "      <td>0.0</td>\n",
       "      <td>0.0</td>\n",
       "      <td>0.000000</td>\n",
       "      <td>0.000000</td>\n",
       "      <td>0.000000</td>\n",
       "      <td>0.0</td>\n",
       "      <td>0.0</td>\n",
       "    </tr>\n",
       "    <tr>\n",
       "      <th>CH</th>\n",
       "      <td>0.0</td>\n",
       "      <td>0.0</td>\n",
       "      <td>NaN</td>\n",
       "      <td>0.000073</td>\n",
       "      <td>0.0</td>\n",
       "      <td>0.0</td>\n",
       "      <td>0.000063</td>\n",
       "      <td>0.000000</td>\n",
       "      <td>0.000066</td>\n",
       "      <td>0.0</td>\n",
       "      <td>0.0</td>\n",
       "    </tr>\n",
       "    <tr>\n",
       "      <th>DE</th>\n",
       "      <td>0.0</td>\n",
       "      <td>0.0</td>\n",
       "      <td>0.000174</td>\n",
       "      <td>NaN</td>\n",
       "      <td>0.0</td>\n",
       "      <td>0.0</td>\n",
       "      <td>0.798895</td>\n",
       "      <td>0.000000</td>\n",
       "      <td>0.848595</td>\n",
       "      <td>0.0</td>\n",
       "      <td>0.0</td>\n",
       "    </tr>\n",
       "    <tr>\n",
       "      <th>DK</th>\n",
       "      <td>0.0</td>\n",
       "      <td>0.0</td>\n",
       "      <td>0.000000</td>\n",
       "      <td>0.000000</td>\n",
       "      <td>NaN</td>\n",
       "      <td>0.0</td>\n",
       "      <td>0.000000</td>\n",
       "      <td>0.000000</td>\n",
       "      <td>0.000000</td>\n",
       "      <td>0.0</td>\n",
       "      <td>0.0</td>\n",
       "    </tr>\n",
       "    <tr>\n",
       "      <th>EE</th>\n",
       "      <td>0.0</td>\n",
       "      <td>0.0</td>\n",
       "      <td>0.000000</td>\n",
       "      <td>0.000000</td>\n",
       "      <td>0.0</td>\n",
       "      <td>NaN</td>\n",
       "      <td>0.000000</td>\n",
       "      <td>0.000000</td>\n",
       "      <td>0.000000</td>\n",
       "      <td>0.0</td>\n",
       "      <td>0.0</td>\n",
       "    </tr>\n",
       "    <tr>\n",
       "      <th>ES</th>\n",
       "      <td>0.0</td>\n",
       "      <td>0.0</td>\n",
       "      <td>0.000174</td>\n",
       "      <td>0.936139</td>\n",
       "      <td>0.0</td>\n",
       "      <td>0.0</td>\n",
       "      <td>NaN</td>\n",
       "      <td>0.000378</td>\n",
       "      <td>0.967494</td>\n",
       "      <td>0.0</td>\n",
       "      <td>0.0</td>\n",
       "    </tr>\n",
       "    <tr>\n",
       "      <th>ES@PRE</th>\n",
       "      <td>0.0</td>\n",
       "      <td>0.0</td>\n",
       "      <td>0.000000</td>\n",
       "      <td>0.000000</td>\n",
       "      <td>0.0</td>\n",
       "      <td>0.0</td>\n",
       "      <td>0.000051</td>\n",
       "      <td>NaN</td>\n",
       "      <td>0.000000</td>\n",
       "      <td>0.0</td>\n",
       "      <td>0.0</td>\n",
       "    </tr>\n",
       "    <tr>\n",
       "      <th>IT</th>\n",
       "      <td>0.0</td>\n",
       "      <td>0.0</td>\n",
       "      <td>0.000174</td>\n",
       "      <td>0.936139</td>\n",
       "      <td>0.0</td>\n",
       "      <td>0.0</td>\n",
       "      <td>0.910830</td>\n",
       "      <td>0.000000</td>\n",
       "      <td>NaN</td>\n",
       "      <td>0.0</td>\n",
       "      <td>0.0</td>\n",
       "    </tr>\n",
       "    <tr>\n",
       "      <th>MT</th>\n",
       "      <td>0.0</td>\n",
       "      <td>0.0</td>\n",
       "      <td>0.000000</td>\n",
       "      <td>0.000000</td>\n",
       "      <td>0.0</td>\n",
       "      <td>0.0</td>\n",
       "      <td>0.000000</td>\n",
       "      <td>0.000000</td>\n",
       "      <td>0.000000</td>\n",
       "      <td>NaN</td>\n",
       "      <td>0.0</td>\n",
       "    </tr>\n",
       "    <tr>\n",
       "      <th>PT</th>\n",
       "      <td>0.0</td>\n",
       "      <td>0.0</td>\n",
       "      <td>0.000000</td>\n",
       "      <td>0.000000</td>\n",
       "      <td>0.0</td>\n",
       "      <td>0.0</td>\n",
       "      <td>0.000000</td>\n",
       "      <td>0.000000</td>\n",
       "      <td>0.000000</td>\n",
       "      <td>0.0</td>\n",
       "      <td>NaN</td>\n",
       "    </tr>\n",
       "  </tbody>\n",
       "</table>\n",
       "</div>"
      ],
      "text/plain": [
       "         common_teks_fraction                                                 \\\n",
       "region_x                   BE BE@TST        CH        DE   DK   EE        ES   \n",
       "region_y                                                                       \n",
       "BE                        NaN    0.0  0.000000  0.000000  0.0  0.0  0.000000   \n",
       "BE@TST                    0.0    NaN  0.000000  0.000000  0.0  0.0  0.000000   \n",
       "CH                        0.0    0.0       NaN  0.000073  0.0  0.0  0.000063   \n",
       "DE                        0.0    0.0  0.000174       NaN  0.0  0.0  0.798895   \n",
       "DK                        0.0    0.0  0.000000  0.000000  NaN  0.0  0.000000   \n",
       "EE                        0.0    0.0  0.000000  0.000000  0.0  NaN  0.000000   \n",
       "ES                        0.0    0.0  0.000174  0.936139  0.0  0.0       NaN   \n",
       "ES@PRE                    0.0    0.0  0.000000  0.000000  0.0  0.0  0.000051   \n",
       "IT                        0.0    0.0  0.000174  0.936139  0.0  0.0  0.910830   \n",
       "MT                        0.0    0.0  0.000000  0.000000  0.0  0.0  0.000000   \n",
       "PT                        0.0    0.0  0.000000  0.000000  0.0  0.0  0.000000   \n",
       "\n",
       "                                        \n",
       "region_x    ES@PRE        IT   MT   PT  \n",
       "region_y                                \n",
       "BE        0.000000  0.000000  0.0  0.0  \n",
       "BE@TST    0.000000  0.000000  0.0  0.0  \n",
       "CH        0.000000  0.000066  0.0  0.0  \n",
       "DE        0.000000  0.848595  0.0  0.0  \n",
       "DK        0.000000  0.000000  0.0  0.0  \n",
       "EE        0.000000  0.000000  0.0  0.0  \n",
       "ES        0.000378  0.967494  0.0  0.0  \n",
       "ES@PRE         NaN  0.000000  0.0  0.0  \n",
       "IT        0.000000       NaN  0.0  0.0  \n",
       "MT        0.000000  0.000000  NaN  0.0  \n",
       "PT        0.000000  0.000000  0.0  NaN  "
      ]
     },
     "execution_count": 22,
     "metadata": {},
     "output_type": "execute_result"
    }
   ],
   "source": [
    "def compute_keys_cross_sharing(x):\n",
    "    teks_x = x.key_data_x.item()\n",
    "    common_teks = set(teks_x).intersection(x.key_data_y.item())\n",
    "    common_teks_fraction = len(common_teks) / len(teks_x)\n",
    "    return pd.Series(dict(\n",
    "        common_teks=common_teks,\n",
    "        common_teks_fraction=common_teks_fraction,\n",
    "    ))\n",
    "\n",
    "multi_backend_exposure_keys_by_region_df = \\\n",
    "    multi_backend_exposure_keys_df.groupby(\"region\").key_data.unique().reset_index()\n",
    "multi_backend_exposure_keys_by_region_df[\"_merge\"] = True\n",
    "multi_backend_exposure_keys_by_region_combination_df = \\\n",
    "    multi_backend_exposure_keys_by_region_df.merge(\n",
    "        multi_backend_exposure_keys_by_region_df, on=\"_merge\")\n",
    "multi_backend_exposure_keys_by_region_combination_df.drop(\n",
    "    columns=[\"_merge\"], inplace=True)\n",
    "if multi_backend_exposure_keys_by_region_combination_df.region_x.nunique() > 1:\n",
    "    multi_backend_exposure_keys_by_region_combination_df = \\\n",
    "        multi_backend_exposure_keys_by_region_combination_df[\n",
    "            multi_backend_exposure_keys_by_region_combination_df.region_x !=\n",
    "            multi_backend_exposure_keys_by_region_combination_df.region_y]\n",
    "multi_backend_exposure_keys_cross_sharing_df = \\\n",
    "    multi_backend_exposure_keys_by_region_combination_df \\\n",
    "        .groupby([\"region_x\", \"region_y\"]) \\\n",
    "        .apply(compute_keys_cross_sharing) \\\n",
    "        .reset_index()\n",
    "multi_backend_cross_sharing_summary_df = \\\n",
    "    multi_backend_exposure_keys_cross_sharing_df.pivot_table(\n",
    "        values=[\"common_teks_fraction\"],\n",
    "        columns=\"region_x\",\n",
    "        index=\"region_y\",\n",
    "        aggfunc=lambda x: x.item())\n",
    "multi_backend_cross_sharing_summary_df"
   ]
  },
  {
   "cell_type": "code",
   "execution_count": 23,
   "metadata": {
    "collapsed": false,
    "execution": {
     "iopub.execute_input": "2020-11-07T23:24:10.913409Z",
     "iopub.status.busy": "2020-11-07T23:24:10.912825Z",
     "iopub.status.idle": "2020-11-07T23:24:13.341979Z",
     "shell.execute_reply": "2020-11-07T23:24:13.341489Z"
    },
    "papermill": {
     "duration": 2.516377,
     "end_time": "2020-11-07T23:24:13.342103",
     "exception": false,
     "start_time": "2020-11-07T23:24:10.825726",
     "status": "completed"
    },
    "pycharm": {
     "name": "#%%\n"
    },
    "tags": []
   },
   "outputs": [
    {
     "data": {
      "text/plain": [
       "['BE@TST', 'EE', 'MT', 'PT', 'BE', 'DK', 'ES@PRE', 'CH', 'DE', 'IT']"
      ]
     },
     "execution_count": 23,
     "metadata": {},
     "output_type": "execute_result"
    }
   ],
   "source": [
    "multi_backend_without_active_region_exposure_keys_df = \\\n",
    "    multi_backend_exposure_keys_df[multi_backend_exposure_keys_df.region != report_backend_identifier]\n",
    "multi_backend_without_active_region = \\\n",
    "    multi_backend_without_active_region_exposure_keys_df.groupby(\"region\").key_data.nunique().sort_values().index.unique().tolist()\n",
    "multi_backend_without_active_region"
   ]
  },
  {
   "cell_type": "code",
   "execution_count": 24,
   "metadata": {
    "execution": {
     "iopub.execute_input": "2020-11-07T23:24:13.483074Z",
     "iopub.status.busy": "2020-11-07T23:24:13.482368Z",
     "iopub.status.idle": "2020-11-07T23:24:14.811127Z",
     "shell.execute_reply": "2020-11-07T23:24:14.810604Z"
    },
    "papermill": {
     "duration": 1.420682,
     "end_time": "2020-11-07T23:24:14.811270",
     "exception": false,
     "start_time": "2020-11-07T23:24:13.390588",
     "status": "completed"
    },
    "scrolled": false,
    "tags": []
   },
   "outputs": [
    {
     "name": "stderr",
     "output_type": "stream",
     "text": [
      "/opt/hostedtoolcache/Python/3.8.6/x64/lib/python3.8/site-packages/pandas/core/frame.py:4110: SettingWithCopyWarning: \n",
      "A value is trying to be set on a copy of a slice from a DataFrame\n",
      "\n",
      "See the caveats in the documentation: http://pandas.pydata.org/pandas-docs/stable/user_guide/indexing.html#returning-a-view-versus-a-copy\n",
      "  return super().drop(\n"
     ]
    },
    {
     "data": {
      "text/html": [
       "<div>\n",
       "<style scoped>\n",
       "    .dataframe tbody tr th:only-of-type {\n",
       "        vertical-align: middle;\n",
       "    }\n",
       "\n",
       "    .dataframe tbody tr th {\n",
       "        vertical-align: top;\n",
       "    }\n",
       "\n",
       "    .dataframe thead th {\n",
       "        text-align: right;\n",
       "    }\n",
       "</style>\n",
       "<table border=\"1\" class=\"dataframe\">\n",
       "  <thead>\n",
       "    <tr style=\"text-align: right;\">\n",
       "      <th></th>\n",
       "      <th>shared_teks_by_generation_date</th>\n",
       "    </tr>\n",
       "    <tr>\n",
       "      <th>sample_date_string</th>\n",
       "      <th></th>\n",
       "    </tr>\n",
       "  </thead>\n",
       "  <tbody>\n",
       "    <tr>\n",
       "      <th>2020-11-07</th>\n",
       "      <td>313</td>\n",
       "    </tr>\n",
       "    <tr>\n",
       "      <th>2020-11-06</th>\n",
       "      <td>1611</td>\n",
       "    </tr>\n",
       "    <tr>\n",
       "      <th>2020-11-05</th>\n",
       "      <td>4464</td>\n",
       "    </tr>\n",
       "    <tr>\n",
       "      <th>2020-11-04</th>\n",
       "      <td>7141</td>\n",
       "    </tr>\n",
       "    <tr>\n",
       "      <th>2020-11-03</th>\n",
       "      <td>9588</td>\n",
       "    </tr>\n",
       "  </tbody>\n",
       "</table>\n",
       "</div>"
      ],
      "text/plain": [
       "                    shared_teks_by_generation_date\n",
       "sample_date_string                                \n",
       "2020-11-07                                     313\n",
       "2020-11-06                                    1611\n",
       "2020-11-05                                    4464\n",
       "2020-11-04                                    7141\n",
       "2020-11-03                                    9588"
      ]
     },
     "execution_count": 24,
     "metadata": {},
     "output_type": "execute_result"
    }
   ],
   "source": [
    "exposure_keys_summary_df = multi_backend_exposure_keys_df[\n",
    "    multi_backend_exposure_keys_df.region == report_backend_identifier]\n",
    "exposure_keys_summary_df.drop(columns=[\"region\"], inplace=True)\n",
    "exposure_keys_summary_df = \\\n",
    "    exposure_keys_summary_df.groupby([\"sample_date_string\"]).key_data.nunique().to_frame()\n",
    "exposure_keys_summary_df = \\\n",
    "    exposure_keys_summary_df.reset_index().set_index(\"sample_date_string\")\n",
    "exposure_keys_summary_df.sort_index(ascending=False, inplace=True)\n",
    "exposure_keys_summary_df.rename(columns={\"key_data\": \"shared_teks_by_generation_date\"}, inplace=True)\n",
    "exposure_keys_summary_df.head()"
   ]
  },
  {
   "cell_type": "markdown",
   "metadata": {
    "papermill": {
     "duration": 0.049792,
     "end_time": "2020-11-07T23:24:14.910850",
     "exception": false,
     "start_time": "2020-11-07T23:24:14.861058",
     "status": "completed"
    },
    "tags": []
   },
   "source": [
    "### Dump API TEKs"
   ]
  },
  {
   "cell_type": "code",
   "execution_count": 25,
   "metadata": {
    "execution": {
     "iopub.execute_input": "2020-11-07T23:24:15.022792Z",
     "iopub.status.busy": "2020-11-07T23:24:15.022188Z",
     "iopub.status.idle": "2020-11-07T23:24:17.708055Z",
     "shell.execute_reply": "2020-11-07T23:24:17.707577Z"
    },
    "papermill": {
     "duration": 2.746914,
     "end_time": "2020-11-07T23:24:17.708183",
     "exception": false,
     "start_time": "2020-11-07T23:24:14.961269",
     "status": "completed"
    },
    "tags": []
   },
   "outputs": [
    {
     "data": {
      "text/html": [
       "<div>\n",
       "<style scoped>\n",
       "    .dataframe tbody tr th:only-of-type {\n",
       "        vertical-align: middle;\n",
       "    }\n",
       "\n",
       "    .dataframe tbody tr th {\n",
       "        vertical-align: top;\n",
       "    }\n",
       "\n",
       "    .dataframe thead th {\n",
       "        text-align: right;\n",
       "    }\n",
       "</style>\n",
       "<table border=\"1\" class=\"dataframe\">\n",
       "  <thead>\n",
       "    <tr style=\"text-align: right;\">\n",
       "      <th></th>\n",
       "      <th>sample_date</th>\n",
       "      <th>region</th>\n",
       "      <th>tek_list</th>\n",
       "      <th>extraction_date</th>\n",
       "      <th>extraction_date_with_hour</th>\n",
       "    </tr>\n",
       "  </thead>\n",
       "  <tbody>\n",
       "    <tr>\n",
       "      <th>0</th>\n",
       "      <td>2020-10-25</td>\n",
       "      <td>BE</td>\n",
       "      <td>[00b52dca-f2ba-f558-03c8-e4624bcc9e1b, 00bc7c9...</td>\n",
       "      <td>2020-11-07</td>\n",
       "      <td>2020-11-07@23</td>\n",
       "    </tr>\n",
       "    <tr>\n",
       "      <th>1</th>\n",
       "      <td>2020-10-25</td>\n",
       "      <td>BE@TST</td>\n",
       "      <td>[06f23508-b8be-1b94-7e51-ed1a67cde5cf, 096f6ad...</td>\n",
       "      <td>2020-11-07</td>\n",
       "      <td>2020-11-07@23</td>\n",
       "    </tr>\n",
       "    <tr>\n",
       "      <th>2</th>\n",
       "      <td>2020-10-25</td>\n",
       "      <td>CH</td>\n",
       "      <td>[1f6eec8f-cdc7-885d-013b-afee28104224, 060543a...</td>\n",
       "      <td>2020-11-07</td>\n",
       "      <td>2020-11-07@23</td>\n",
       "    </tr>\n",
       "    <tr>\n",
       "      <th>3</th>\n",
       "      <td>2020-10-25</td>\n",
       "      <td>DE</td>\n",
       "      <td>[000b2d09-1e1f-bf7c-18a1-b32e532feaef, 002b141...</td>\n",
       "      <td>2020-11-07</td>\n",
       "      <td>2020-11-07@23</td>\n",
       "    </tr>\n",
       "    <tr>\n",
       "      <th>4</th>\n",
       "      <td>2020-10-25</td>\n",
       "      <td>DK</td>\n",
       "      <td>[673bcb63-75b9-2e8e-d0f2-c388c6959e4a, d582e50...</td>\n",
       "      <td>2020-11-07</td>\n",
       "      <td>2020-11-07@23</td>\n",
       "    </tr>\n",
       "  </tbody>\n",
       "</table>\n",
       "</div>"
      ],
      "text/plain": [
       "  sample_date  region                                           tek_list  \\\n",
       "0  2020-10-25      BE  [00b52dca-f2ba-f558-03c8-e4624bcc9e1b, 00bc7c9...   \n",
       "1  2020-10-25  BE@TST  [06f23508-b8be-1b94-7e51-ed1a67cde5cf, 096f6ad...   \n",
       "2  2020-10-25      CH  [1f6eec8f-cdc7-885d-013b-afee28104224, 060543a...   \n",
       "3  2020-10-25      DE  [000b2d09-1e1f-bf7c-18a1-b32e532feaef, 002b141...   \n",
       "4  2020-10-25      DK  [673bcb63-75b9-2e8e-d0f2-c388c6959e4a, d582e50...   \n",
       "\n",
       "  extraction_date extraction_date_with_hour  \n",
       "0      2020-11-07             2020-11-07@23  \n",
       "1      2020-11-07             2020-11-07@23  \n",
       "2      2020-11-07             2020-11-07@23  \n",
       "3      2020-11-07             2020-11-07@23  \n",
       "4      2020-11-07             2020-11-07@23  "
      ]
     },
     "execution_count": 25,
     "metadata": {},
     "output_type": "execute_result"
    }
   ],
   "source": [
    "tek_list_df = multi_backend_exposure_keys_df[\n",
    "    [\"sample_date_string\", \"region\", \"key_data\"]].copy()\n",
    "tek_list_df[\"key_data\"] = tek_list_df[\"key_data\"].apply(str)\n",
    "tek_list_df.rename(columns={\n",
    "    \"sample_date_string\": \"sample_date\",\n",
    "    \"key_data\": \"tek_list\"}, inplace=True)\n",
    "tek_list_df = tek_list_df.groupby(\n",
    "    [\"sample_date\", \"region\"]).tek_list.unique().reset_index()\n",
    "tek_list_df[\"extraction_date\"] = extraction_date\n",
    "tek_list_df[\"extraction_date_with_hour\"] = extraction_date_with_hour\n",
    "\n",
    "tek_list_path_prefix = \"Data/TEKs/\"\n",
    "tek_list_current_path = tek_list_path_prefix + f\"/Current/RadarCOVID-TEKs.json\"\n",
    "tek_list_daily_path = tek_list_path_prefix + f\"Daily/RadarCOVID-TEKs-{extraction_date}.json\"\n",
    "tek_list_hourly_path = tek_list_path_prefix + f\"Hourly/RadarCOVID-TEKs-{extraction_date_with_hour}.json\"\n",
    "\n",
    "for path in [tek_list_current_path, tek_list_daily_path, tek_list_hourly_path]:\n",
    "    os.makedirs(os.path.dirname(path), exist_ok=True)\n",
    "\n",
    "tek_list_df.drop(columns=[\"extraction_date\", \"extraction_date_with_hour\"]).to_json(\n",
    "    tek_list_current_path,\n",
    "    lines=True, orient=\"records\")\n",
    "tek_list_df.drop(columns=[\"extraction_date_with_hour\"]).to_json(\n",
    "    tek_list_daily_path,\n",
    "    lines=True, orient=\"records\")\n",
    "tek_list_df.to_json(\n",
    "    tek_list_hourly_path,\n",
    "    lines=True, orient=\"records\")\n",
    "tek_list_df.head()"
   ]
  },
  {
   "cell_type": "markdown",
   "metadata": {
    "papermill": {
     "duration": 0.046456,
     "end_time": "2020-11-07T23:24:17.804329",
     "exception": false,
     "start_time": "2020-11-07T23:24:17.757873",
     "status": "completed"
    },
    "tags": []
   },
   "source": [
    "### Load TEK Dumps"
   ]
  },
  {
   "cell_type": "code",
   "execution_count": 26,
   "metadata": {
    "execution": {
     "iopub.execute_input": "2020-11-07T23:24:17.915659Z",
     "iopub.status.busy": "2020-11-07T23:24:17.914348Z",
     "iopub.status.idle": "2020-11-07T23:24:17.916238Z",
     "shell.execute_reply": "2020-11-07T23:24:17.916664Z"
    },
    "papermill": {
     "duration": 0.063154,
     "end_time": "2020-11-07T23:24:17.916827",
     "exception": false,
     "start_time": "2020-11-07T23:24:17.853673",
     "status": "completed"
    },
    "tags": []
   },
   "outputs": [],
   "source": [
    "import glob\n",
    "\n",
    "def load_extracted_teks(mode, region=None, limit=None) -> pd.DataFrame:\n",
    "    extracted_teks_df = pd.DataFrame(columns=[\"region\"])\n",
    "    file_paths = list(reversed(sorted(glob.glob(tek_list_path_prefix + mode + \"/RadarCOVID-TEKs-*.json\"))))\n",
    "    if limit:\n",
    "        file_paths = file_paths[:limit]\n",
    "    for file_path in file_paths:\n",
    "        logging.info(f\"Loading TEKs from '{file_path}'...\")\n",
    "        iteration_extracted_teks_df = pd.read_json(file_path, lines=True)\n",
    "        extracted_teks_df = extracted_teks_df.append(\n",
    "            iteration_extracted_teks_df, sort=False)\n",
    "    extracted_teks_df[\"region\"] = \\\n",
    "        extracted_teks_df.region.fillna(spain_region_country_code).copy()\n",
    "    if region:\n",
    "        extracted_teks_df = \\\n",
    "            extracted_teks_df[extracted_teks_df.region == region]\n",
    "    return extracted_teks_df"
   ]
  },
  {
   "cell_type": "code",
   "execution_count": 27,
   "metadata": {
    "collapsed": false,
    "execution": {
     "iopub.execute_input": "2020-11-07T23:24:18.020505Z",
     "iopub.status.busy": "2020-11-07T23:24:18.018900Z",
     "iopub.status.idle": "2020-11-07T23:24:20.905363Z",
     "shell.execute_reply": "2020-11-07T23:24:20.904869Z"
    },
    "papermill": {
     "duration": 2.942126,
     "end_time": "2020-11-07T23:24:20.905493",
     "exception": false,
     "start_time": "2020-11-07T23:24:17.963367",
     "status": "completed"
    },
    "pycharm": {
     "name": "#%%\n"
    },
    "tags": []
   },
   "outputs": [
    {
     "data": {
      "text/html": [
       "<div>\n",
       "<style scoped>\n",
       "    .dataframe tbody tr th:only-of-type {\n",
       "        vertical-align: middle;\n",
       "    }\n",
       "\n",
       "    .dataframe tbody tr th {\n",
       "        vertical-align: top;\n",
       "    }\n",
       "\n",
       "    .dataframe thead th {\n",
       "        text-align: right;\n",
       "    }\n",
       "</style>\n",
       "<table border=\"1\" class=\"dataframe\">\n",
       "  <thead>\n",
       "    <tr style=\"text-align: right;\">\n",
       "      <th></th>\n",
       "      <th>region</th>\n",
       "      <th>sample_date</th>\n",
       "      <th>tek_list</th>\n",
       "      <th>extraction_date</th>\n",
       "      <th>extraction_date_with_hour</th>\n",
       "    </tr>\n",
       "  </thead>\n",
       "  <tbody>\n",
       "    <tr>\n",
       "      <th>6</th>\n",
       "      <td>ES</td>\n",
       "      <td>2020-10-25</td>\n",
       "      <td>[3ae711fb-b6b1-a970-f99a-e5b877f64e1d, 79f75d3...</td>\n",
       "      <td>2020-11-07</td>\n",
       "      <td>NaN</td>\n",
       "    </tr>\n",
       "    <tr>\n",
       "      <th>17</th>\n",
       "      <td>ES</td>\n",
       "      <td>2020-10-26</td>\n",
       "      <td>[f3627aaa-e8a8-fe2b-6048-9e90458be9f9, ea337d8...</td>\n",
       "      <td>2020-11-07</td>\n",
       "      <td>NaN</td>\n",
       "    </tr>\n",
       "    <tr>\n",
       "      <th>28</th>\n",
       "      <td>ES</td>\n",
       "      <td>2020-10-27</td>\n",
       "      <td>[cc42db62-a900-067c-acdc-a2720b567894, d9e3d4d...</td>\n",
       "      <td>2020-11-07</td>\n",
       "      <td>NaN</td>\n",
       "    </tr>\n",
       "    <tr>\n",
       "      <th>39</th>\n",
       "      <td>ES</td>\n",
       "      <td>2020-10-28</td>\n",
       "      <td>[83f4ff06-0caa-299d-efcd-802645fc271f, 1660b17...</td>\n",
       "      <td>2020-11-07</td>\n",
       "      <td>NaN</td>\n",
       "    </tr>\n",
       "    <tr>\n",
       "      <th>50</th>\n",
       "      <td>ES</td>\n",
       "      <td>2020-10-29</td>\n",
       "      <td>[6a04af64-72e0-5703-6874-b02006a94c43, 7450b37...</td>\n",
       "      <td>2020-11-07</td>\n",
       "      <td>NaN</td>\n",
       "    </tr>\n",
       "  </tbody>\n",
       "</table>\n",
       "</div>"
      ],
      "text/plain": [
       "   region sample_date                                           tek_list  \\\n",
       "6      ES  2020-10-25  [3ae711fb-b6b1-a970-f99a-e5b877f64e1d, 79f75d3...   \n",
       "17     ES  2020-10-26  [f3627aaa-e8a8-fe2b-6048-9e90458be9f9, ea337d8...   \n",
       "28     ES  2020-10-27  [cc42db62-a900-067c-acdc-a2720b567894, d9e3d4d...   \n",
       "39     ES  2020-10-28  [83f4ff06-0caa-299d-efcd-802645fc271f, 1660b17...   \n",
       "50     ES  2020-10-29  [6a04af64-72e0-5703-6874-b02006a94c43, 7450b37...   \n",
       "\n",
       "   extraction_date extraction_date_with_hour  \n",
       "6       2020-11-07                       NaN  \n",
       "17      2020-11-07                       NaN  \n",
       "28      2020-11-07                       NaN  \n",
       "39      2020-11-07                       NaN  \n",
       "50      2020-11-07                       NaN  "
      ]
     },
     "execution_count": 27,
     "metadata": {},
     "output_type": "execute_result"
    }
   ],
   "source": [
    "daily_extracted_teks_df = load_extracted_teks(\n",
    "    mode=\"Daily\",\n",
    "    region=report_backend_identifier,\n",
    "    limit=tek_dumps_load_limit)\n",
    "daily_extracted_teks_df.head()"
   ]
  },
  {
   "cell_type": "code",
   "execution_count": 28,
   "metadata": {
    "collapsed": false,
    "execution": {
     "iopub.execute_input": "2020-11-07T23:24:21.015653Z",
     "iopub.status.busy": "2020-11-07T23:24:21.015085Z",
     "iopub.status.idle": "2020-11-07T23:24:21.029416Z",
     "shell.execute_reply": "2020-11-07T23:24:21.029851Z"
    },
    "papermill": {
     "duration": 0.073076,
     "end_time": "2020-11-07T23:24:21.030008",
     "exception": false,
     "start_time": "2020-11-07T23:24:20.956932",
     "status": "completed"
    },
    "pycharm": {
     "name": "#%%\n"
    },
    "tags": []
   },
   "outputs": [
    {
     "data": {
      "text/html": [
       "<div>\n",
       "<style scoped>\n",
       "    .dataframe tbody tr th:only-of-type {\n",
       "        vertical-align: middle;\n",
       "    }\n",
       "\n",
       "    .dataframe tbody tr th {\n",
       "        vertical-align: top;\n",
       "    }\n",
       "\n",
       "    .dataframe thead th {\n",
       "        text-align: right;\n",
       "    }\n",
       "</style>\n",
       "<table border=\"1\" class=\"dataframe\">\n",
       "  <thead>\n",
       "    <tr style=\"text-align: right;\">\n",
       "      <th></th>\n",
       "      <th>shared_teks_by_generation_date</th>\n",
       "    </tr>\n",
       "    <tr>\n",
       "      <th>sample_date_string</th>\n",
       "      <th></th>\n",
       "    </tr>\n",
       "  </thead>\n",
       "  <tbody>\n",
       "    <tr>\n",
       "      <th>2020-11-07</th>\n",
       "      <td>313</td>\n",
       "    </tr>\n",
       "    <tr>\n",
       "      <th>2020-11-06</th>\n",
       "      <td>1611</td>\n",
       "    </tr>\n",
       "    <tr>\n",
       "      <th>2020-11-05</th>\n",
       "      <td>4464</td>\n",
       "    </tr>\n",
       "    <tr>\n",
       "      <th>2020-11-04</th>\n",
       "      <td>7141</td>\n",
       "    </tr>\n",
       "    <tr>\n",
       "      <th>2020-11-03</th>\n",
       "      <td>9588</td>\n",
       "    </tr>\n",
       "  </tbody>\n",
       "</table>\n",
       "</div>"
      ],
      "text/plain": [
       "                    shared_teks_by_generation_date\n",
       "sample_date_string                                \n",
       "2020-11-07                                     313\n",
       "2020-11-06                                    1611\n",
       "2020-11-05                                    4464\n",
       "2020-11-04                                    7141\n",
       "2020-11-03                                    9588"
      ]
     },
     "execution_count": 28,
     "metadata": {},
     "output_type": "execute_result"
    }
   ],
   "source": [
    "exposure_keys_summary_df_ = daily_extracted_teks_df \\\n",
    "    .sort_values(\"extraction_date\", ascending=False) \\\n",
    "    .groupby(\"sample_date\").tek_list.first() \\\n",
    "    .to_frame()\n",
    "exposure_keys_summary_df_.index.name = \"sample_date_string\"\n",
    "exposure_keys_summary_df_[\"tek_list\"] = \\\n",
    "    exposure_keys_summary_df_.tek_list.apply(len)\n",
    "exposure_keys_summary_df_ = exposure_keys_summary_df_ \\\n",
    "    .rename(columns={\"tek_list\": \"shared_teks_by_generation_date\"}) \\\n",
    "    .sort_index(ascending=False)\n",
    "exposure_keys_summary_df = exposure_keys_summary_df_\n",
    "exposure_keys_summary_df.head()"
   ]
  },
  {
   "cell_type": "markdown",
   "metadata": {
    "execution": {
     "iopub.execute_input": "2020-08-30T22:30:16.632967Z",
     "iopub.status.busy": "2020-08-30T22:30:16.632308Z",
     "iopub.status.idle": "2020-08-30T22:30:16.634945Z",
     "shell.execute_reply": "2020-08-30T22:30:16.635575Z"
    },
    "papermill": {
     "duration": 0.049027,
     "end_time": "2020-11-07T23:24:21.130464",
     "exception": false,
     "start_time": "2020-11-07T23:24:21.081437",
     "status": "completed"
    },
    "pycharm": {
     "name": "#%% md\n"
    },
    "tags": []
   },
   "source": [
    "### Daily New TEKs"
   ]
  },
  {
   "cell_type": "code",
   "execution_count": 29,
   "metadata": {
    "execution": {
     "iopub.execute_input": "2020-11-07T23:24:21.261093Z",
     "iopub.status.busy": "2020-11-07T23:24:21.260516Z",
     "iopub.status.idle": "2020-11-07T23:24:21.580857Z",
     "shell.execute_reply": "2020-11-07T23:24:21.580009Z"
    },
    "papermill": {
     "duration": 0.40036,
     "end_time": "2020-11-07T23:24:21.581077",
     "exception": false,
     "start_time": "2020-11-07T23:24:21.180717",
     "status": "completed"
    },
    "tags": []
   },
   "outputs": [
    {
     "data": {
      "text/html": [
       "<div>\n",
       "<style scoped>\n",
       "    .dataframe tbody tr th:only-of-type {\n",
       "        vertical-align: middle;\n",
       "    }\n",
       "\n",
       "    .dataframe tbody tr th {\n",
       "        vertical-align: top;\n",
       "    }\n",
       "\n",
       "    .dataframe thead th {\n",
       "        text-align: right;\n",
       "    }\n",
       "</style>\n",
       "<table border=\"1\" class=\"dataframe\">\n",
       "  <thead>\n",
       "    <tr style=\"text-align: right;\">\n",
       "      <th></th>\n",
       "      <th>tek_list</th>\n",
       "    </tr>\n",
       "    <tr>\n",
       "      <th>extraction_date</th>\n",
       "      <th></th>\n",
       "    </tr>\n",
       "  </thead>\n",
       "  <tbody>\n",
       "    <tr>\n",
       "      <th>2020-08-29</th>\n",
       "      <td>{37aecee1-3f12-522c-ea80-b4e6d719f677, 30aed5c...</td>\n",
       "    </tr>\n",
       "    <tr>\n",
       "      <th>2020-08-30</th>\n",
       "      <td>{37aecee1-3f12-522c-ea80-b4e6d719f677, 30aed5c...</td>\n",
       "    </tr>\n",
       "    <tr>\n",
       "      <th>2020-08-31</th>\n",
       "      <td>{37aecee1-3f12-522c-ea80-b4e6d719f677, 4aa4640...</td>\n",
       "    </tr>\n",
       "    <tr>\n",
       "      <th>2020-09-01</th>\n",
       "      <td>{37aecee1-3f12-522c-ea80-b4e6d719f677, 4aa4640...</td>\n",
       "    </tr>\n",
       "    <tr>\n",
       "      <th>2020-09-02</th>\n",
       "      <td>{37aecee1-3f12-522c-ea80-b4e6d719f677, 4aa4640...</td>\n",
       "    </tr>\n",
       "  </tbody>\n",
       "</table>\n",
       "</div>"
      ],
      "text/plain": [
       "                                                          tek_list\n",
       "extraction_date                                                   \n",
       "2020-08-29       {37aecee1-3f12-522c-ea80-b4e6d719f677, 30aed5c...\n",
       "2020-08-30       {37aecee1-3f12-522c-ea80-b4e6d719f677, 30aed5c...\n",
       "2020-08-31       {37aecee1-3f12-522c-ea80-b4e6d719f677, 4aa4640...\n",
       "2020-09-01       {37aecee1-3f12-522c-ea80-b4e6d719f677, 4aa4640...\n",
       "2020-09-02       {37aecee1-3f12-522c-ea80-b4e6d719f677, 4aa4640..."
      ]
     },
     "execution_count": 29,
     "metadata": {},
     "output_type": "execute_result"
    }
   ],
   "source": [
    "tek_list_df = daily_extracted_teks_df.groupby(\"extraction_date\").tek_list.apply(\n",
    "    lambda x: set(sum(x, []))).reset_index()\n",
    "tek_list_df = tek_list_df.set_index(\"extraction_date\").sort_index(ascending=True)\n",
    "tek_list_df.head()"
   ]
  },
  {
   "cell_type": "code",
   "execution_count": 30,
   "metadata": {
    "collapsed": false,
    "execution": {
     "iopub.execute_input": "2020-11-07T23:24:22.083409Z",
     "iopub.status.busy": "2020-11-07T23:24:22.062436Z",
     "iopub.status.idle": "2020-11-07T23:24:33.852307Z",
     "shell.execute_reply": "2020-11-07T23:24:33.851280Z"
    },
    "papermill": {
     "duration": 12.219437,
     "end_time": "2020-11-07T23:24:33.852437",
     "exception": false,
     "start_time": "2020-11-07T23:24:21.633000",
     "status": "completed"
    },
    "pycharm": {
     "name": "#%%\n"
    },
    "tags": []
   },
   "outputs": [
    {
     "name": "stderr",
     "output_type": "stream",
     "text": [
      "<ipython-input-30-827222b35590>:4: FutureWarning: `item` has been deprecated and will be removed in a future version\n",
      "  day_new_teks_set = day_new_teks_set_df[\n"
     ]
    },
    {
     "data": {
      "text/html": [
       "<div>\n",
       "<style scoped>\n",
       "    .dataframe tbody tr th:only-of-type {\n",
       "        vertical-align: middle;\n",
       "    }\n",
       "\n",
       "    .dataframe tbody tr th {\n",
       "        vertical-align: top;\n",
       "    }\n",
       "\n",
       "    .dataframe thead th {\n",
       "        text-align: right;\n",
       "    }\n",
       "</style>\n",
       "<table border=\"1\" class=\"dataframe\">\n",
       "  <thead>\n",
       "    <tr style=\"text-align: right;\">\n",
       "      <th></th>\n",
       "      <th>upload_date</th>\n",
       "      <th>generation_date</th>\n",
       "      <th>shared_teks</th>\n",
       "      <th>generation_to_upload_days</th>\n",
       "    </tr>\n",
       "  </thead>\n",
       "  <tbody>\n",
       "    <tr>\n",
       "      <th>10</th>\n",
       "      <td>2020-08-30</td>\n",
       "      <td>2020-08-29</td>\n",
       "      <td>16</td>\n",
       "      <td>1</td>\n",
       "    </tr>\n",
       "    <tr>\n",
       "      <th>9</th>\n",
       "      <td>2020-08-30</td>\n",
       "      <td>2020-08-28</td>\n",
       "      <td>5</td>\n",
       "      <td>2</td>\n",
       "    </tr>\n",
       "    <tr>\n",
       "      <th>8</th>\n",
       "      <td>2020-08-30</td>\n",
       "      <td>2020-08-27</td>\n",
       "      <td>3</td>\n",
       "      <td>3</td>\n",
       "    </tr>\n",
       "    <tr>\n",
       "      <th>7</th>\n",
       "      <td>2020-08-30</td>\n",
       "      <td>2020-08-26</td>\n",
       "      <td>3</td>\n",
       "      <td>4</td>\n",
       "    </tr>\n",
       "    <tr>\n",
       "      <th>6</th>\n",
       "      <td>2020-08-30</td>\n",
       "      <td>2020-08-25</td>\n",
       "      <td>2</td>\n",
       "      <td>5</td>\n",
       "    </tr>\n",
       "  </tbody>\n",
       "</table>\n",
       "</div>"
      ],
      "text/plain": [
       "   upload_date generation_date  shared_teks  generation_to_upload_days\n",
       "10  2020-08-30      2020-08-29           16                          1\n",
       "9   2020-08-30      2020-08-28            5                          2\n",
       "8   2020-08-30      2020-08-27            3                          3\n",
       "7   2020-08-30      2020-08-26            3                          4\n",
       "6   2020-08-30      2020-08-25            2                          5"
      ]
     },
     "execution_count": 30,
     "metadata": {},
     "output_type": "execute_result"
    }
   ],
   "source": [
    "def compute_teks_by_generation_and_upload_date(date):\n",
    "    day_new_teks_set_df = tek_list_df.copy().diff()\n",
    "    try:\n",
    "        day_new_teks_set = day_new_teks_set_df[\n",
    "            day_new_teks_set_df.index == date].tek_list.item()\n",
    "    except ValueError:\n",
    "        day_new_teks_set = None\n",
    "    if pd.isna(day_new_teks_set):\n",
    "        day_new_teks_set = set()\n",
    "    day_new_teks_df = daily_extracted_teks_df[\n",
    "        daily_extracted_teks_df.extraction_date == date].copy()\n",
    "    day_new_teks_df[\"shared_teks\"] = \\\n",
    "        day_new_teks_df.tek_list.apply(lambda x: set(x).intersection(day_new_teks_set))\n",
    "    day_new_teks_df[\"shared_teks\"] = \\\n",
    "        day_new_teks_df.shared_teks.apply(len)\n",
    "    day_new_teks_df[\"upload_date\"] = date\n",
    "    day_new_teks_df.rename(columns={\"sample_date\": \"generation_date\"}, inplace=True)\n",
    "    day_new_teks_df = day_new_teks_df[\n",
    "        [\"upload_date\", \"generation_date\", \"shared_teks\"]]\n",
    "    day_new_teks_df[\"generation_to_upload_days\"] = \\\n",
    "        (pd.to_datetime(day_new_teks_df.upload_date) -\n",
    "         pd.to_datetime(day_new_teks_df.generation_date)).dt.days\n",
    "    day_new_teks_df = day_new_teks_df[day_new_teks_df.shared_teks > 0]\n",
    "    return day_new_teks_df\n",
    "\n",
    "shared_teks_generation_to_upload_df = pd.DataFrame()\n",
    "for upload_date in daily_extracted_teks_df.extraction_date.unique():\n",
    "    shared_teks_generation_to_upload_df = \\\n",
    "        shared_teks_generation_to_upload_df.append(\n",
    "            compute_teks_by_generation_and_upload_date(date=upload_date))\n",
    "shared_teks_generation_to_upload_df \\\n",
    "    .sort_values([\"upload_date\", \"generation_date\"], ascending=False, inplace=True)\n",
    "shared_teks_generation_to_upload_df.tail()"
   ]
  },
  {
   "cell_type": "code",
   "execution_count": 31,
   "metadata": {
    "collapsed": false,
    "execution": {
     "iopub.execute_input": "2020-11-07T23:24:33.970750Z",
     "iopub.status.busy": "2020-11-07T23:24:33.970168Z",
     "iopub.status.idle": "2020-11-07T23:24:33.973609Z",
     "shell.execute_reply": "2020-11-07T23:24:33.974125Z"
    },
    "papermill": {
     "duration": 0.071516,
     "end_time": "2020-11-07T23:24:33.974307",
     "exception": false,
     "start_time": "2020-11-07T23:24:33.902791",
     "status": "completed"
    },
    "pycharm": {
     "name": "#%%\n"
    },
    "tags": []
   },
   "outputs": [
    {
     "data": {
      "text/html": [
       "<div>\n",
       "<style scoped>\n",
       "    .dataframe tbody tr th:only-of-type {\n",
       "        vertical-align: middle;\n",
       "    }\n",
       "\n",
       "    .dataframe tbody tr th {\n",
       "        vertical-align: top;\n",
       "    }\n",
       "\n",
       "    .dataframe thead th {\n",
       "        text-align: right;\n",
       "    }\n",
       "</style>\n",
       "<table border=\"1\" class=\"dataframe\">\n",
       "  <thead>\n",
       "    <tr style=\"text-align: right;\">\n",
       "      <th></th>\n",
       "      <th>upload_date</th>\n",
       "      <th>generation_date</th>\n",
       "      <th>shared_teks</th>\n",
       "      <th>generation_to_upload_days</th>\n",
       "    </tr>\n",
       "  </thead>\n",
       "  <tbody>\n",
       "    <tr>\n",
       "      <th>50</th>\n",
       "      <td>2020-11-07</td>\n",
       "      <td>2020-10-29</td>\n",
       "      <td>1670</td>\n",
       "      <td>9</td>\n",
       "    </tr>\n",
       "    <tr>\n",
       "      <th>39</th>\n",
       "      <td>2020-11-07</td>\n",
       "      <td>2020-10-28</td>\n",
       "      <td>1624</td>\n",
       "      <td>10</td>\n",
       "    </tr>\n",
       "    <tr>\n",
       "      <th>28</th>\n",
       "      <td>2020-11-07</td>\n",
       "      <td>2020-10-27</td>\n",
       "      <td>1581</td>\n",
       "      <td>11</td>\n",
       "    </tr>\n",
       "    <tr>\n",
       "      <th>17</th>\n",
       "      <td>2020-11-07</td>\n",
       "      <td>2020-10-26</td>\n",
       "      <td>1532</td>\n",
       "      <td>12</td>\n",
       "    </tr>\n",
       "    <tr>\n",
       "      <th>6</th>\n",
       "      <td>2020-11-07</td>\n",
       "      <td>2020-10-25</td>\n",
       "      <td>1501</td>\n",
       "      <td>13</td>\n",
       "    </tr>\n",
       "  </tbody>\n",
       "</table>\n",
       "</div>"
      ],
      "text/plain": [
       "   upload_date generation_date  shared_teks  generation_to_upload_days\n",
       "50  2020-11-07      2020-10-29         1670                          9\n",
       "39  2020-11-07      2020-10-28         1624                         10\n",
       "28  2020-11-07      2020-10-27         1581                         11\n",
       "17  2020-11-07      2020-10-26         1532                         12\n",
       "6   2020-11-07      2020-10-25         1501                         13"
      ]
     },
     "execution_count": 31,
     "metadata": {},
     "output_type": "execute_result"
    }
   ],
   "source": [
    "today_new_teks_df = \\\n",
    "    shared_teks_generation_to_upload_df[\n",
    "        shared_teks_generation_to_upload_df.upload_date == extraction_date].copy()\n",
    "today_new_teks_df.tail()"
   ]
  },
  {
   "cell_type": "code",
   "execution_count": 32,
   "metadata": {
    "collapsed": false,
    "execution": {
     "iopub.execute_input": "2020-11-07T23:24:34.090375Z",
     "iopub.status.busy": "2020-11-07T23:24:34.089676Z",
     "iopub.status.idle": "2020-11-07T23:24:34.270646Z",
     "shell.execute_reply": "2020-11-07T23:24:34.271329Z"
    },
    "papermill": {
     "duration": 0.244552,
     "end_time": "2020-11-07T23:24:34.271512",
     "exception": false,
     "start_time": "2020-11-07T23:24:34.026960",
     "status": "completed"
    },
    "pycharm": {
     "name": "#%%\n"
    },
    "tags": []
   },
   "outputs": [
    {
     "data": {
      "image/png": "[encoded data removed]",
      "text/plain": [
       "<Figure size 1080x432 with 1 Axes>"
      ]
     },
     "metadata": {},
     "output_type": "display_data"
    }
   ],
   "source": [
    "if not today_new_teks_df.empty:\n",
    "    today_new_teks_df.set_index(\"generation_to_upload_days\") \\\n",
    "        .sort_index().shared_teks.plot.bar()"
   ]
  },
  {
   "cell_type": "code",
   "execution_count": 33,
   "metadata": {
    "collapsed": false,
    "execution": {
     "iopub.execute_input": "2020-11-07T23:24:34.387570Z",
     "iopub.status.busy": "2020-11-07T23:24:34.386503Z",
     "iopub.status.idle": "2020-11-07T23:24:34.399210Z",
     "shell.execute_reply": "2020-11-07T23:24:34.398649Z"
    },
    "papermill": {
     "duration": 0.073425,
     "end_time": "2020-11-07T23:24:34.399351",
     "exception": false,
     "start_time": "2020-11-07T23:24:34.325926",
     "status": "completed"
    },
    "pycharm": {
     "name": "#%%\n"
    },
    "tags": []
   },
   "outputs": [
    {
     "data": {
      "text/html": [
       "<div>\n",
       "<style scoped>\n",
       "    .dataframe tbody tr th:only-of-type {\n",
       "        vertical-align: middle;\n",
       "    }\n",
       "\n",
       "    .dataframe tbody tr th {\n",
       "        vertical-align: top;\n",
       "    }\n",
       "\n",
       "    .dataframe thead th {\n",
       "        text-align: right;\n",
       "    }\n",
       "</style>\n",
       "<table border=\"1\" class=\"dataframe\">\n",
       "  <thead>\n",
       "    <tr style=\"text-align: right;\">\n",
       "      <th>generation_to_upload_days</th>\n",
       "      <th>0</th>\n",
       "      <th>1</th>\n",
       "      <th>2</th>\n",
       "      <th>3</th>\n",
       "      <th>4</th>\n",
       "      <th>5</th>\n",
       "      <th>6</th>\n",
       "      <th>7</th>\n",
       "      <th>8</th>\n",
       "      <th>9</th>\n",
       "      <th>10</th>\n",
       "      <th>11</th>\n",
       "      <th>12</th>\n",
       "      <th>13</th>\n",
       "    </tr>\n",
       "    <tr>\n",
       "      <th>upload_date</th>\n",
       "      <th></th>\n",
       "      <th></th>\n",
       "      <th></th>\n",
       "      <th></th>\n",
       "      <th></th>\n",
       "      <th></th>\n",
       "      <th></th>\n",
       "      <th></th>\n",
       "      <th></th>\n",
       "      <th></th>\n",
       "      <th></th>\n",
       "      <th></th>\n",
       "      <th></th>\n",
       "      <th></th>\n",
       "    </tr>\n",
       "  </thead>\n",
       "  <tbody>\n",
       "    <tr>\n",
       "      <th>2020-11-07</th>\n",
       "      <td>313</td>\n",
       "      <td>1348</td>\n",
       "      <td>2490</td>\n",
       "      <td>2247</td>\n",
       "      <td>2086</td>\n",
       "      <td>1959</td>\n",
       "      <td>1838</td>\n",
       "      <td>1775</td>\n",
       "      <td>1724</td>\n",
       "      <td>1670</td>\n",
       "      <td>1624</td>\n",
       "      <td>1581</td>\n",
       "      <td>1532</td>\n",
       "      <td>1501</td>\n",
       "    </tr>\n",
       "    <tr>\n",
       "      <th>2020-11-06</th>\n",
       "      <td>263</td>\n",
       "      <td>1707</td>\n",
       "      <td>2909</td>\n",
       "      <td>2688</td>\n",
       "      <td>2509</td>\n",
       "      <td>2343</td>\n",
       "      <td>2255</td>\n",
       "      <td>2182</td>\n",
       "      <td>2116</td>\n",
       "      <td>2049</td>\n",
       "      <td>1967</td>\n",
       "      <td>1912</td>\n",
       "      <td>1857</td>\n",
       "      <td>1826</td>\n",
       "    </tr>\n",
       "    <tr>\n",
       "      <th>2020-11-05</th>\n",
       "      <td>267</td>\n",
       "      <td>1641</td>\n",
       "      <td>2696</td>\n",
       "      <td>2451</td>\n",
       "      <td>2252</td>\n",
       "      <td>2174</td>\n",
       "      <td>2105</td>\n",
       "      <td>2027</td>\n",
       "      <td>1946</td>\n",
       "      <td>1885</td>\n",
       "      <td>1844</td>\n",
       "      <td>1793</td>\n",
       "      <td>1766</td>\n",
       "      <td>1726</td>\n",
       "    </tr>\n",
       "    <tr>\n",
       "      <th>2020-11-04</th>\n",
       "      <td>344</td>\n",
       "      <td>1838</td>\n",
       "      <td>2851</td>\n",
       "      <td>2522</td>\n",
       "      <td>2429</td>\n",
       "      <td>2336</td>\n",
       "      <td>2226</td>\n",
       "      <td>2120</td>\n",
       "      <td>2055</td>\n",
       "      <td>1992</td>\n",
       "      <td>1936</td>\n",
       "      <td>1890</td>\n",
       "      <td>1873</td>\n",
       "      <td>1835</td>\n",
       "    </tr>\n",
       "    <tr>\n",
       "      <th>2020-11-03</th>\n",
       "      <td>280</td>\n",
       "      <td>1325</td>\n",
       "      <td>1961</td>\n",
       "      <td>1888</td>\n",
       "      <td>1809</td>\n",
       "      <td>1711</td>\n",
       "      <td>1642</td>\n",
       "      <td>1564</td>\n",
       "      <td>1519</td>\n",
       "      <td>1448</td>\n",
       "      <td>1414</td>\n",
       "      <td>1388</td>\n",
       "      <td>1354</td>\n",
       "      <td>1310</td>\n",
       "    </tr>\n",
       "  </tbody>\n",
       "</table>\n",
       "</div>"
      ],
      "text/plain": [
       "generation_to_upload_days   0     1     2     3     4     5     6     7   \\\n",
       "upload_date                                                                \n",
       "2020-11-07                 313  1348  2490  2247  2086  1959  1838  1775   \n",
       "2020-11-06                 263  1707  2909  2688  2509  2343  2255  2182   \n",
       "2020-11-05                 267  1641  2696  2451  2252  2174  2105  2027   \n",
       "2020-11-04                 344  1838  2851  2522  2429  2336  2226  2120   \n",
       "2020-11-03                 280  1325  1961  1888  1809  1711  1642  1564   \n",
       "\n",
       "generation_to_upload_days    8     9     10    11    12    13  \n",
       "upload_date                                                    \n",
       "2020-11-07                 1724  1670  1624  1581  1532  1501  \n",
       "2020-11-06                 2116  2049  1967  1912  1857  1826  \n",
       "2020-11-05                 1946  1885  1844  1793  1766  1726  \n",
       "2020-11-04                 2055  1992  1936  1890  1873  1835  \n",
       "2020-11-03                 1519  1448  1414  1388  1354  1310  "
      ]
     },
     "execution_count": 33,
     "metadata": {},
     "output_type": "execute_result"
    }
   ],
   "source": [
    "generation_to_upload_period_pivot_df = \\\n",
    "    shared_teks_generation_to_upload_df[\n",
    "        [\"upload_date\", \"generation_to_upload_days\", \"shared_teks\"]] \\\n",
    "        .pivot(index=\"upload_date\", columns=\"generation_to_upload_days\") \\\n",
    "        .sort_index(ascending=False).fillna(0).astype(int) \\\n",
    "        .droplevel(level=0, axis=1)\n",
    "generation_to_upload_period_pivot_df.head()"
   ]
  },
  {
   "cell_type": "code",
   "execution_count": 34,
   "metadata": {
    "collapsed": false,
    "execution": {
     "iopub.execute_input": "2020-11-07T23:24:34.677996Z",
     "iopub.status.busy": "2020-11-07T23:24:34.677404Z",
     "iopub.status.idle": "2020-11-07T23:24:34.682924Z",
     "shell.execute_reply": "2020-11-07T23:24:34.682473Z"
    },
    "papermill": {
     "duration": 0.229561,
     "end_time": "2020-11-07T23:24:34.683044",
     "exception": false,
     "start_time": "2020-11-07T23:24:34.453483",
     "status": "completed"
    },
    "pycharm": {
     "name": "#%%\n"
    },
    "tags": []
   },
   "outputs": [
    {
     "data": {
      "text/html": [
       "<div>\n",
       "<style scoped>\n",
       "    .dataframe tbody tr th:only-of-type {\n",
       "        vertical-align: middle;\n",
       "    }\n",
       "\n",
       "    .dataframe tbody tr th {\n",
       "        vertical-align: top;\n",
       "    }\n",
       "\n",
       "    .dataframe thead th {\n",
       "        text-align: right;\n",
       "    }\n",
       "</style>\n",
       "<table border=\"1\" class=\"dataframe\">\n",
       "  <thead>\n",
       "    <tr style=\"text-align: right;\">\n",
       "      <th></th>\n",
       "      <th>sample_date_string</th>\n",
       "      <th>shared_teks_by_upload_date</th>\n",
       "    </tr>\n",
       "  </thead>\n",
       "  <tbody>\n",
       "    <tr>\n",
       "      <th>66</th>\n",
       "      <td>2020-11-03</td>\n",
       "      <td>20613.0</td>\n",
       "    </tr>\n",
       "    <tr>\n",
       "      <th>67</th>\n",
       "      <td>2020-11-04</td>\n",
       "      <td>28247.0</td>\n",
       "    </tr>\n",
       "    <tr>\n",
       "      <th>68</th>\n",
       "      <td>2020-11-05</td>\n",
       "      <td>26573.0</td>\n",
       "    </tr>\n",
       "    <tr>\n",
       "      <th>69</th>\n",
       "      <td>2020-11-06</td>\n",
       "      <td>28583.0</td>\n",
       "    </tr>\n",
       "    <tr>\n",
       "      <th>70</th>\n",
       "      <td>2020-11-07</td>\n",
       "      <td>23688.0</td>\n",
       "    </tr>\n",
       "  </tbody>\n",
       "</table>\n",
       "</div>"
      ],
      "text/plain": [
       "   sample_date_string  shared_teks_by_upload_date\n",
       "66         2020-11-03                     20613.0\n",
       "67         2020-11-04                     28247.0\n",
       "68         2020-11-05                     26573.0\n",
       "69         2020-11-06                     28583.0\n",
       "70         2020-11-07                     23688.0"
      ]
     },
     "execution_count": 34,
     "metadata": {},
     "output_type": "execute_result"
    }
   ],
   "source": [
    "new_tek_df = tek_list_df.diff().tek_list.apply(\n",
    "    lambda x: len(x) if not pd.isna(x) else None).to_frame().reset_index()\n",
    "new_tek_df.rename(columns={\n",
    "    \"tek_list\": \"shared_teks_by_upload_date\",\n",
    "    \"extraction_date\": \"sample_date_string\",}, inplace=True)\n",
    "new_tek_df.tail()"
   ]
  },
  {
   "cell_type": "code",
   "execution_count": 35,
   "metadata": {
    "collapsed": false,
    "execution": {
     "iopub.execute_input": "2020-11-07T23:24:34.802766Z",
     "iopub.status.busy": "2020-11-07T23:24:34.802201Z",
     "iopub.status.idle": "2020-11-07T23:24:34.813386Z",
     "shell.execute_reply": "2020-11-07T23:24:34.813813Z"
    },
    "papermill": {
     "duration": 0.074715,
     "end_time": "2020-11-07T23:24:34.813962",
     "exception": false,
     "start_time": "2020-11-07T23:24:34.739247",
     "status": "completed"
    },
    "pycharm": {
     "name": "#%%\n"
    },
    "tags": []
   },
   "outputs": [
    {
     "data": {
      "text/html": [
       "<div>\n",
       "<style scoped>\n",
       "    .dataframe tbody tr th:only-of-type {\n",
       "        vertical-align: middle;\n",
       "    }\n",
       "\n",
       "    .dataframe tbody tr th {\n",
       "        vertical-align: top;\n",
       "    }\n",
       "\n",
       "    .dataframe thead th {\n",
       "        text-align: right;\n",
       "    }\n",
       "</style>\n",
       "<table border=\"1\" class=\"dataframe\">\n",
       "  <thead>\n",
       "    <tr style=\"text-align: right;\">\n",
       "      <th></th>\n",
       "      <th>sample_date_string</th>\n",
       "      <th>shared_teks_uploaded_on_generation_date</th>\n",
       "    </tr>\n",
       "  </thead>\n",
       "  <tbody>\n",
       "    <tr>\n",
       "      <th>140</th>\n",
       "      <td>2020-11-07</td>\n",
       "      <td>313</td>\n",
       "    </tr>\n",
       "    <tr>\n",
       "      <th>141</th>\n",
       "      <td>2020-11-06</td>\n",
       "      <td>263</td>\n",
       "    </tr>\n",
       "    <tr>\n",
       "      <th>141</th>\n",
       "      <td>2020-11-05</td>\n",
       "      <td>267</td>\n",
       "    </tr>\n",
       "    <tr>\n",
       "      <th>140</th>\n",
       "      <td>2020-11-04</td>\n",
       "      <td>344</td>\n",
       "    </tr>\n",
       "    <tr>\n",
       "      <th>141</th>\n",
       "      <td>2020-11-03</td>\n",
       "      <td>280</td>\n",
       "    </tr>\n",
       "  </tbody>\n",
       "</table>\n",
       "</div>"
      ],
      "text/plain": [
       "    sample_date_string  shared_teks_uploaded_on_generation_date\n",
       "140         2020-11-07                                      313\n",
       "141         2020-11-06                                      263\n",
       "141         2020-11-05                                      267\n",
       "140         2020-11-04                                      344\n",
       "141         2020-11-03                                      280"
      ]
     },
     "execution_count": 35,
     "metadata": {},
     "output_type": "execute_result"
    }
   ],
   "source": [
    "shared_teks_uploaded_on_generation_date_df = shared_teks_generation_to_upload_df[\n",
    "    shared_teks_generation_to_upload_df.generation_to_upload_days == 0] \\\n",
    "    [[\"upload_date\", \"shared_teks\"]].rename(\n",
    "    columns={\n",
    "        \"upload_date\": \"sample_date_string\",\n",
    "        \"shared_teks\": \"shared_teks_uploaded_on_generation_date\",\n",
    "    })\n",
    "shared_teks_uploaded_on_generation_date_df.head()"
   ]
  },
  {
   "cell_type": "code",
   "execution_count": 36,
   "metadata": {
    "collapsed": false,
    "execution": {
     "iopub.execute_input": "2020-11-07T23:24:34.940091Z",
     "iopub.status.busy": "2020-11-07T23:24:34.939566Z",
     "iopub.status.idle": "2020-11-07T23:24:34.942514Z",
     "shell.execute_reply": "2020-11-07T23:24:34.942092Z"
    },
    "papermill": {
     "duration": 0.070956,
     "end_time": "2020-11-07T23:24:34.942629",
     "exception": false,
     "start_time": "2020-11-07T23:24:34.871673",
     "status": "completed"
    },
    "pycharm": {
     "name": "#%%\n"
    },
    "tags": []
   },
   "outputs": [
    {
     "data": {
      "text/html": [
       "<div>\n",
       "<style scoped>\n",
       "    .dataframe tbody tr th:only-of-type {\n",
       "        vertical-align: middle;\n",
       "    }\n",
       "\n",
       "    .dataframe tbody tr th {\n",
       "        vertical-align: top;\n",
       "    }\n",
       "\n",
       "    .dataframe thead th {\n",
       "        text-align: right;\n",
       "    }\n",
       "</style>\n",
       "<table border=\"1\" class=\"dataframe\">\n",
       "  <thead>\n",
       "    <tr style=\"text-align: right;\">\n",
       "      <th></th>\n",
       "      <th>sample_date_string</th>\n",
       "      <th>shared_diagnoses</th>\n",
       "    </tr>\n",
       "  </thead>\n",
       "  <tbody>\n",
       "    <tr>\n",
       "      <th>69</th>\n",
       "      <td>2020-11-07</td>\n",
       "      <td>2490</td>\n",
       "    </tr>\n",
       "    <tr>\n",
       "      <th>68</th>\n",
       "      <td>2020-11-06</td>\n",
       "      <td>2909</td>\n",
       "    </tr>\n",
       "    <tr>\n",
       "      <th>67</th>\n",
       "      <td>2020-11-05</td>\n",
       "      <td>2696</td>\n",
       "    </tr>\n",
       "    <tr>\n",
       "      <th>66</th>\n",
       "      <td>2020-11-04</td>\n",
       "      <td>2851</td>\n",
       "    </tr>\n",
       "    <tr>\n",
       "      <th>65</th>\n",
       "      <td>2020-11-03</td>\n",
       "      <td>1961</td>\n",
       "    </tr>\n",
       "  </tbody>\n",
       "</table>\n",
       "</div>"
      ],
      "text/plain": [
       "   sample_date_string  shared_diagnoses\n",
       "69         2020-11-07              2490\n",
       "68         2020-11-06              2909\n",
       "67         2020-11-05              2696\n",
       "66         2020-11-04              2851\n",
       "65         2020-11-03              1961"
      ]
     },
     "execution_count": 36,
     "metadata": {},
     "output_type": "execute_result"
    }
   ],
   "source": [
    "estimated_shared_diagnoses_df = shared_teks_generation_to_upload_df \\\n",
    "    .groupby([\"upload_date\"]).shared_teks.max().reset_index() \\\n",
    "    .sort_values([\"upload_date\"], ascending=False) \\\n",
    "    .rename(columns={\n",
    "        \"upload_date\": \"sample_date_string\",\n",
    "        \"shared_teks\": \"shared_diagnoses\",\n",
    "    })\n",
    "invalid_shared_diagnoses_dates_mask = \\\n",
    "    estimated_shared_diagnoses_df.sample_date_string.isin(invalid_shared_diagnoses_dates)\n",
    "estimated_shared_diagnoses_df[invalid_shared_diagnoses_dates_mask] = 0\n",
    "estimated_shared_diagnoses_df.head()"
   ]
  },
  {
   "cell_type": "markdown",
   "metadata": {
    "papermill": {
     "duration": 0.055778,
     "end_time": "2020-11-07T23:24:35.050556",
     "exception": false,
     "start_time": "2020-11-07T23:24:34.994778",
     "status": "completed"
    },
    "pycharm": {
     "name": "#%% md\n"
    },
    "tags": []
   },
   "source": [
    "### Hourly New TEKs"
   ]
  },
  {
   "cell_type": "code",
   "execution_count": 37,
   "metadata": {
    "execution": {
     "iopub.execute_input": "2020-11-07T23:24:35.165477Z",
     "iopub.status.busy": "2020-11-07T23:24:35.164948Z",
     "iopub.status.idle": "2020-11-07T23:24:41.044312Z",
     "shell.execute_reply": "2020-11-07T23:24:41.044750Z"
    },
    "papermill": {
     "duration": 5.93996,
     "end_time": "2020-11-07T23:24:41.044944",
     "exception": false,
     "start_time": "2020-11-07T23:24:35.104984",
     "status": "completed"
    },
    "pycharm": {
     "name": "#%%\n"
    },
    "tags": []
   },
   "outputs": [
    {
     "data": {
      "text/html": [
       "<div>\n",
       "<style scoped>\n",
       "    .dataframe tbody tr th:only-of-type {\n",
       "        vertical-align: middle;\n",
       "    }\n",
       "\n",
       "    .dataframe tbody tr th {\n",
       "        vertical-align: top;\n",
       "    }\n",
       "\n",
       "    .dataframe thead th {\n",
       "        text-align: right;\n",
       "    }\n",
       "</style>\n",
       "<table border=\"1\" class=\"dataframe\">\n",
       "  <thead>\n",
       "    <tr style=\"text-align: right;\">\n",
       "      <th></th>\n",
       "      <th>region</th>\n",
       "      <th>sample_date</th>\n",
       "      <th>tek_list</th>\n",
       "      <th>extraction_date</th>\n",
       "      <th>extraction_date_with_hour</th>\n",
       "    </tr>\n",
       "  </thead>\n",
       "  <tbody>\n",
       "    <tr>\n",
       "      <th>6</th>\n",
       "      <td>ES</td>\n",
       "      <td>2020-10-25</td>\n",
       "      <td>[3ae711fb-b6b1-a970-f99a-e5b877f64e1d, 79f75d3...</td>\n",
       "      <td>2020-11-07</td>\n",
       "      <td>2020-11-07@23</td>\n",
       "    </tr>\n",
       "    <tr>\n",
       "      <th>17</th>\n",
       "      <td>ES</td>\n",
       "      <td>2020-10-26</td>\n",
       "      <td>[f3627aaa-e8a8-fe2b-6048-9e90458be9f9, ea337d8...</td>\n",
       "      <td>2020-11-07</td>\n",
       "      <td>2020-11-07@23</td>\n",
       "    </tr>\n",
       "    <tr>\n",
       "      <th>28</th>\n",
       "      <td>ES</td>\n",
       "      <td>2020-10-27</td>\n",
       "      <td>[cc42db62-a900-067c-acdc-a2720b567894, d9e3d4d...</td>\n",
       "      <td>2020-11-07</td>\n",
       "      <td>2020-11-07@23</td>\n",
       "    </tr>\n",
       "    <tr>\n",
       "      <th>39</th>\n",
       "      <td>ES</td>\n",
       "      <td>2020-10-28</td>\n",
       "      <td>[83f4ff06-0caa-299d-efcd-802645fc271f, 1660b17...</td>\n",
       "      <td>2020-11-07</td>\n",
       "      <td>2020-11-07@23</td>\n",
       "    </tr>\n",
       "    <tr>\n",
       "      <th>50</th>\n",
       "      <td>ES</td>\n",
       "      <td>2020-10-29</td>\n",
       "      <td>[6a04af64-72e0-5703-6874-b02006a94c43, 7450b37...</td>\n",
       "      <td>2020-11-07</td>\n",
       "      <td>2020-11-07@23</td>\n",
       "    </tr>\n",
       "  </tbody>\n",
       "</table>\n",
       "</div>"
      ],
      "text/plain": [
       "   region sample_date                                           tek_list  \\\n",
       "6      ES  2020-10-25  [3ae711fb-b6b1-a970-f99a-e5b877f64e1d, 79f75d3...   \n",
       "17     ES  2020-10-26  [f3627aaa-e8a8-fe2b-6048-9e90458be9f9, ea337d8...   \n",
       "28     ES  2020-10-27  [cc42db62-a900-067c-acdc-a2720b567894, d9e3d4d...   \n",
       "39     ES  2020-10-28  [83f4ff06-0caa-299d-efcd-802645fc271f, 1660b17...   \n",
       "50     ES  2020-10-29  [6a04af64-72e0-5703-6874-b02006a94c43, 7450b37...   \n",
       "\n",
       "   extraction_date extraction_date_with_hour  \n",
       "6       2020-11-07             2020-11-07@23  \n",
       "17      2020-11-07             2020-11-07@23  \n",
       "28      2020-11-07             2020-11-07@23  \n",
       "39      2020-11-07             2020-11-07@23  \n",
       "50      2020-11-07             2020-11-07@23  "
      ]
     },
     "execution_count": 37,
     "metadata": {},
     "output_type": "execute_result"
    }
   ],
   "source": [
    "hourly_extracted_teks_df = load_extracted_teks(\n",
    "    mode=\"Hourly\", region=report_backend_identifier, limit=25)\n",
    "hourly_extracted_teks_df.head()"
   ]
  },
  {
   "cell_type": "code",
   "execution_count": 38,
   "metadata": {
    "collapsed": false,
    "execution": {
     "iopub.execute_input": "2020-11-07T23:24:41.166742Z",
     "iopub.status.busy": "2020-11-07T23:24:41.166169Z",
     "iopub.status.idle": "2020-11-07T23:24:42.747793Z",
     "shell.execute_reply": "2020-11-07T23:24:42.748239Z"
    },
    "papermill": {
     "duration": 1.646411,
     "end_time": "2020-11-07T23:24:42.748403",
     "exception": false,
     "start_time": "2020-11-07T23:24:41.101992",
     "status": "completed"
    },
    "pycharm": {
     "name": "#%%\n"
    },
    "tags": []
   },
   "outputs": [
    {
     "data": {
      "text/html": [
       "<div>\n",
       "<style scoped>\n",
       "    .dataframe tbody tr th:only-of-type {\n",
       "        vertical-align: middle;\n",
       "    }\n",
       "\n",
       "    .dataframe tbody tr th {\n",
       "        vertical-align: top;\n",
       "    }\n",
       "\n",
       "    .dataframe thead th {\n",
       "        text-align: right;\n",
       "    }\n",
       "</style>\n",
       "<table border=\"1\" class=\"dataframe\">\n",
       "  <thead>\n",
       "    <tr style=\"text-align: right;\">\n",
       "      <th></th>\n",
       "      <th>extraction_date_with_hour</th>\n",
       "      <th>shared_teks_by_upload_date</th>\n",
       "    </tr>\n",
       "  </thead>\n",
       "  <tbody>\n",
       "    <tr>\n",
       "      <th>0</th>\n",
       "      <td>2020-11-06@23</td>\n",
       "      <td>0</td>\n",
       "    </tr>\n",
       "    <tr>\n",
       "      <th>1</th>\n",
       "      <td>2020-11-07@00</td>\n",
       "      <td>20</td>\n",
       "    </tr>\n",
       "    <tr>\n",
       "      <th>2</th>\n",
       "      <td>2020-11-07@01</td>\n",
       "      <td>0</td>\n",
       "    </tr>\n",
       "    <tr>\n",
       "      <th>3</th>\n",
       "      <td>2020-11-07@02</td>\n",
       "      <td>36</td>\n",
       "    </tr>\n",
       "    <tr>\n",
       "      <th>4</th>\n",
       "      <td>2020-11-07@03</td>\n",
       "      <td>0</td>\n",
       "    </tr>\n",
       "  </tbody>\n",
       "</table>\n",
       "</div>"
      ],
      "text/plain": [
       "  extraction_date_with_hour  shared_teks_by_upload_date\n",
       "0             2020-11-06@23                           0\n",
       "1             2020-11-07@00                          20\n",
       "2             2020-11-07@01                           0\n",
       "3             2020-11-07@02                          36\n",
       "4             2020-11-07@03                           0"
      ]
     },
     "execution_count": 38,
     "metadata": {},
     "output_type": "execute_result"
    }
   ],
   "source": [
    "hourly_new_tek_count_df = hourly_extracted_teks_df \\\n",
    "    .groupby(\"extraction_date_with_hour\").tek_list. \\\n",
    "    apply(lambda x: set(sum(x, []))).reset_index().copy()\n",
    "hourly_new_tek_count_df = hourly_new_tek_count_df.set_index(\"extraction_date_with_hour\") \\\n",
    "    .sort_index(ascending=True)\n",
    "\n",
    "hourly_new_tek_count_df[\"new_tek_list\"] = hourly_new_tek_count_df.tek_list.diff()\n",
    "hourly_new_tek_count_df[\"new_tek_count\"] = hourly_new_tek_count_df.new_tek_list.apply(\n",
    "    lambda x: len(x) if not pd.isna(x) else 0)\n",
    "hourly_new_tek_count_df.rename(columns={\n",
    "    \"new_tek_count\": \"shared_teks_by_upload_date\"}, inplace=True)\n",
    "hourly_new_tek_count_df = hourly_new_tek_count_df.reset_index()[[\n",
    "    \"extraction_date_with_hour\", \"shared_teks_by_upload_date\"]]\n",
    "hourly_new_tek_count_df.head()"
   ]
  },
  {
   "cell_type": "code",
   "execution_count": 39,
   "metadata": {
    "collapsed": false,
    "execution": {
     "iopub.execute_input": "2020-11-07T23:24:42.878712Z",
     "iopub.status.busy": "2020-11-07T23:24:42.878128Z",
     "iopub.status.idle": "2020-11-07T23:24:42.883647Z",
     "shell.execute_reply": "2020-11-07T23:24:42.883197Z"
    },
    "papermill": {
     "duration": 0.077721,
     "end_time": "2020-11-07T23:24:42.883782",
     "exception": false,
     "start_time": "2020-11-07T23:24:42.806061",
     "status": "completed"
    },
    "pycharm": {
     "name": "#%%\n"
    },
    "tags": []
   },
   "outputs": [
    {
     "data": {
      "text/html": [
       "<div>\n",
       "<style scoped>\n",
       "    .dataframe tbody tr th:only-of-type {\n",
       "        vertical-align: middle;\n",
       "    }\n",
       "\n",
       "    .dataframe tbody tr th {\n",
       "        vertical-align: top;\n",
       "    }\n",
       "\n",
       "    .dataframe thead th {\n",
       "        text-align: right;\n",
       "    }\n",
       "</style>\n",
       "<table border=\"1\" class=\"dataframe\">\n",
       "  <thead>\n",
       "    <tr style=\"text-align: right;\">\n",
       "      <th></th>\n",
       "      <th>extraction_date_with_hour</th>\n",
       "      <th>shared_teks_by_upload_date</th>\n",
       "    </tr>\n",
       "    <tr>\n",
       "      <th>datetime_utc</th>\n",
       "      <th></th>\n",
       "      <th></th>\n",
       "    </tr>\n",
       "  </thead>\n",
       "  <tbody>\n",
       "    <tr>\n",
       "      <th>2020-11-07 00:00:00</th>\n",
       "      <td>2020-11-07@00</td>\n",
       "      <td>20</td>\n",
       "    </tr>\n",
       "    <tr>\n",
       "      <th>2020-11-07 01:00:00</th>\n",
       "      <td>2020-11-07@01</td>\n",
       "      <td>0</td>\n",
       "    </tr>\n",
       "    <tr>\n",
       "      <th>2020-11-07 02:00:00</th>\n",
       "      <td>2020-11-07@02</td>\n",
       "      <td>36</td>\n",
       "    </tr>\n",
       "    <tr>\n",
       "      <th>2020-11-07 03:00:00</th>\n",
       "      <td>2020-11-07@03</td>\n",
       "      <td>0</td>\n",
       "    </tr>\n",
       "    <tr>\n",
       "      <th>2020-11-07 04:00:00</th>\n",
       "      <td>2020-11-07@04</td>\n",
       "      <td>11883</td>\n",
       "    </tr>\n",
       "  </tbody>\n",
       "</table>\n",
       "</div>"
      ],
      "text/plain": [
       "                    extraction_date_with_hour  shared_teks_by_upload_date\n",
       "datetime_utc                                                             \n",
       "2020-11-07 00:00:00             2020-11-07@00                          20\n",
       "2020-11-07 01:00:00             2020-11-07@01                           0\n",
       "2020-11-07 02:00:00             2020-11-07@02                          36\n",
       "2020-11-07 03:00:00             2020-11-07@03                           0\n",
       "2020-11-07 04:00:00             2020-11-07@04                       11883"
      ]
     },
     "execution_count": 39,
     "metadata": {},
     "output_type": "execute_result"
    }
   ],
   "source": [
    "hourly_summary_df = hourly_new_tek_count_df.copy()\n",
    "hourly_summary_df.set_index(\"extraction_date_with_hour\", inplace=True)\n",
    "hourly_summary_df = hourly_summary_df.fillna(0).astype(int).reset_index()\n",
    "hourly_summary_df[\"datetime_utc\"] = pd.to_datetime(\n",
    "    hourly_summary_df.extraction_date_with_hour, format=\"%Y-%m-%d@%H\")\n",
    "hourly_summary_df.set_index(\"datetime_utc\", inplace=True)\n",
    "hourly_summary_df = hourly_summary_df.tail(-1)\n",
    "hourly_summary_df.head()"
   ]
  },
  {
   "cell_type": "markdown",
   "metadata": {
    "collapsed": false,
    "papermill": {
     "duration": 0.056598,
     "end_time": "2020-11-07T23:24:42.998120",
     "exception": false,
     "start_time": "2020-11-07T23:24:42.941522",
     "status": "completed"
    },
    "tags": []
   },
   "source": [
    "### Data Merge"
   ]
  },
  {
   "cell_type": "code",
   "execution_count": 40,
   "metadata": {
    "collapsed": false,
    "execution": {
     "iopub.execute_input": "2020-11-07T23:24:43.132972Z",
     "iopub.status.busy": "2020-11-07T23:24:43.132340Z",
     "iopub.status.idle": "2020-11-07T23:24:43.134674Z",
     "shell.execute_reply": "2020-11-07T23:24:43.135110Z"
    },
    "papermill": {
     "duration": 0.079193,
     "end_time": "2020-11-07T23:24:43.135266",
     "exception": false,
     "start_time": "2020-11-07T23:24:43.056073",
     "status": "completed"
    },
    "pycharm": {
     "name": "#%%\n"
    },
    "tags": []
   },
   "outputs": [
    {
     "data": {
      "text/html": [
       "<div>\n",
       "<style scoped>\n",
       "    .dataframe tbody tr th:only-of-type {\n",
       "        vertical-align: middle;\n",
       "    }\n",
       "\n",
       "    .dataframe tbody tr th {\n",
       "        vertical-align: top;\n",
       "    }\n",
       "\n",
       "    .dataframe thead th {\n",
       "        text-align: right;\n",
       "    }\n",
       "</style>\n",
       "<table border=\"1\" class=\"dataframe\">\n",
       "  <thead>\n",
       "    <tr style=\"text-align: right;\">\n",
       "      <th></th>\n",
       "      <th>sample_date_string</th>\n",
       "      <th>shared_teks_by_generation_date</th>\n",
       "      <th>shared_teks_by_upload_date</th>\n",
       "    </tr>\n",
       "  </thead>\n",
       "  <tbody>\n",
       "    <tr>\n",
       "      <th>0</th>\n",
       "      <td>2020-11-07</td>\n",
       "      <td>313</td>\n",
       "      <td>23688.0</td>\n",
       "    </tr>\n",
       "    <tr>\n",
       "      <th>1</th>\n",
       "      <td>2020-11-06</td>\n",
       "      <td>1611</td>\n",
       "      <td>28583.0</td>\n",
       "    </tr>\n",
       "    <tr>\n",
       "      <th>2</th>\n",
       "      <td>2020-11-05</td>\n",
       "      <td>4464</td>\n",
       "      <td>26573.0</td>\n",
       "    </tr>\n",
       "    <tr>\n",
       "      <th>3</th>\n",
       "      <td>2020-11-04</td>\n",
       "      <td>7141</td>\n",
       "      <td>28247.0</td>\n",
       "    </tr>\n",
       "    <tr>\n",
       "      <th>4</th>\n",
       "      <td>2020-11-03</td>\n",
       "      <td>9588</td>\n",
       "      <td>20613.0</td>\n",
       "    </tr>\n",
       "  </tbody>\n",
       "</table>\n",
       "</div>"
      ],
      "text/plain": [
       "  sample_date_string  shared_teks_by_generation_date  \\\n",
       "0         2020-11-07                             313   \n",
       "1         2020-11-06                            1611   \n",
       "2         2020-11-05                            4464   \n",
       "3         2020-11-04                            7141   \n",
       "4         2020-11-03                            9588   \n",
       "\n",
       "   shared_teks_by_upload_date  \n",
       "0                     23688.0  \n",
       "1                     28583.0  \n",
       "2                     26573.0  \n",
       "3                     28247.0  \n",
       "4                     20613.0  "
      ]
     },
     "execution_count": 40,
     "metadata": {},
     "output_type": "execute_result"
    }
   ],
   "source": [
    "result_summary_df = exposure_keys_summary_df.merge(\n",
    "    new_tek_df, on=[\"sample_date_string\"], how=\"outer\")\n",
    "result_summary_df.head()"
   ]
  },
  {
   "cell_type": "code",
   "execution_count": 41,
   "metadata": {
    "collapsed": false,
    "execution": {
     "iopub.execute_input": "2020-11-07T23:24:43.262595Z",
     "iopub.status.busy": "2020-11-07T23:24:43.262015Z",
     "iopub.status.idle": "2020-11-07T23:24:43.269221Z",
     "shell.execute_reply": "2020-11-07T23:24:43.268729Z"
    },
    "papermill": {
     "duration": 0.077276,
     "end_time": "2020-11-07T23:24:43.269373",
     "exception": false,
     "start_time": "2020-11-07T23:24:43.192097",
     "status": "completed"
    },
    "pycharm": {
     "name": "#%%\n"
    },
    "tags": []
   },
   "outputs": [
    {
     "data": {
      "text/html": [
       "<div>\n",
       "<style scoped>\n",
       "    .dataframe tbody tr th:only-of-type {\n",
       "        vertical-align: middle;\n",
       "    }\n",
       "\n",
       "    .dataframe tbody tr th {\n",
       "        vertical-align: top;\n",
       "    }\n",
       "\n",
       "    .dataframe thead th {\n",
       "        text-align: right;\n",
       "    }\n",
       "</style>\n",
       "<table border=\"1\" class=\"dataframe\">\n",
       "  <thead>\n",
       "    <tr style=\"text-align: right;\">\n",
       "      <th></th>\n",
       "      <th>sample_date_string</th>\n",
       "      <th>shared_teks_by_generation_date</th>\n",
       "      <th>shared_teks_by_upload_date</th>\n",
       "      <th>shared_teks_uploaded_on_generation_date</th>\n",
       "    </tr>\n",
       "  </thead>\n",
       "  <tbody>\n",
       "    <tr>\n",
       "      <th>0</th>\n",
       "      <td>2020-11-07</td>\n",
       "      <td>313</td>\n",
       "      <td>23688.0</td>\n",
       "      <td>313.0</td>\n",
       "    </tr>\n",
       "    <tr>\n",
       "      <th>1</th>\n",
       "      <td>2020-11-06</td>\n",
       "      <td>1611</td>\n",
       "      <td>28583.0</td>\n",
       "      <td>263.0</td>\n",
       "    </tr>\n",
       "    <tr>\n",
       "      <th>2</th>\n",
       "      <td>2020-11-05</td>\n",
       "      <td>4464</td>\n",
       "      <td>26573.0</td>\n",
       "      <td>267.0</td>\n",
       "    </tr>\n",
       "    <tr>\n",
       "      <th>3</th>\n",
       "      <td>2020-11-04</td>\n",
       "      <td>7141</td>\n",
       "      <td>28247.0</td>\n",
       "      <td>344.0</td>\n",
       "    </tr>\n",
       "    <tr>\n",
       "      <th>4</th>\n",
       "      <td>2020-11-03</td>\n",
       "      <td>9588</td>\n",
       "      <td>20613.0</td>\n",
       "      <td>280.0</td>\n",
       "    </tr>\n",
       "  </tbody>\n",
       "</table>\n",
       "</div>"
      ],
      "text/plain": [
       "  sample_date_string  shared_teks_by_generation_date  \\\n",
       "0         2020-11-07                             313   \n",
       "1         2020-11-06                            1611   \n",
       "2         2020-11-05                            4464   \n",
       "3         2020-11-04                            7141   \n",
       "4         2020-11-03                            9588   \n",
       "\n",
       "   shared_teks_by_upload_date  shared_teks_uploaded_on_generation_date  \n",
       "0                     23688.0                                    313.0  \n",
       "1                     28583.0                                    263.0  \n",
       "2                     26573.0                                    267.0  \n",
       "3                     28247.0                                    344.0  \n",
       "4                     20613.0                                    280.0  "
      ]
     },
     "execution_count": 41,
     "metadata": {},
     "output_type": "execute_result"
    }
   ],
   "source": [
    "result_summary_df = result_summary_df.merge(\n",
    "    shared_teks_uploaded_on_generation_date_df, on=[\"sample_date_string\"], how=\"outer\")\n",
    "result_summary_df.head()"
   ]
  },
  {
   "cell_type": "code",
   "execution_count": 42,
   "metadata": {
    "collapsed": false,
    "execution": {
     "iopub.execute_input": "2020-11-07T23:24:43.399213Z",
     "iopub.status.busy": "2020-11-07T23:24:43.398656Z",
     "iopub.status.idle": "2020-11-07T23:24:43.402055Z",
     "shell.execute_reply": "2020-11-07T23:24:43.401573Z"
    },
    "papermill": {
     "duration": 0.075315,
     "end_time": "2020-11-07T23:24:43.402237",
     "exception": false,
     "start_time": "2020-11-07T23:24:43.326922",
     "status": "completed"
    },
    "pycharm": {
     "name": "#%%\n"
    },
    "tags": []
   },
   "outputs": [
    {
     "data": {
      "text/html": [
       "<div>\n",
       "<style scoped>\n",
       "    .dataframe tbody tr th:only-of-type {\n",
       "        vertical-align: middle;\n",
       "    }\n",
       "\n",
       "    .dataframe tbody tr th {\n",
       "        vertical-align: top;\n",
       "    }\n",
       "\n",
       "    .dataframe thead th {\n",
       "        text-align: right;\n",
       "    }\n",
       "</style>\n",
       "<table border=\"1\" class=\"dataframe\">\n",
       "  <thead>\n",
       "    <tr style=\"text-align: right;\">\n",
       "      <th></th>\n",
       "      <th>sample_date_string</th>\n",
       "      <th>shared_teks_by_generation_date</th>\n",
       "      <th>shared_teks_by_upload_date</th>\n",
       "      <th>shared_teks_uploaded_on_generation_date</th>\n",
       "      <th>shared_diagnoses</th>\n",
       "    </tr>\n",
       "  </thead>\n",
       "  <tbody>\n",
       "    <tr>\n",
       "      <th>0</th>\n",
       "      <td>2020-11-07</td>\n",
       "      <td>313.0</td>\n",
       "      <td>23688.0</td>\n",
       "      <td>313.0</td>\n",
       "      <td>2490.0</td>\n",
       "    </tr>\n",
       "    <tr>\n",
       "      <th>1</th>\n",
       "      <td>2020-11-06</td>\n",
       "      <td>1611.0</td>\n",
       "      <td>28583.0</td>\n",
       "      <td>263.0</td>\n",
       "      <td>2909.0</td>\n",
       "    </tr>\n",
       "    <tr>\n",
       "      <th>2</th>\n",
       "      <td>2020-11-05</td>\n",
       "      <td>4464.0</td>\n",
       "      <td>26573.0</td>\n",
       "      <td>267.0</td>\n",
       "      <td>2696.0</td>\n",
       "    </tr>\n",
       "    <tr>\n",
       "      <th>3</th>\n",
       "      <td>2020-11-04</td>\n",
       "      <td>7141.0</td>\n",
       "      <td>28247.0</td>\n",
       "      <td>344.0</td>\n",
       "      <td>2851.0</td>\n",
       "    </tr>\n",
       "    <tr>\n",
       "      <th>4</th>\n",
       "      <td>2020-11-03</td>\n",
       "      <td>9588.0</td>\n",
       "      <td>20613.0</td>\n",
       "      <td>280.0</td>\n",
       "      <td>1961.0</td>\n",
       "    </tr>\n",
       "  </tbody>\n",
       "</table>\n",
       "</div>"
      ],
      "text/plain": [
       "  sample_date_string  shared_teks_by_generation_date  \\\n",
       "0         2020-11-07                           313.0   \n",
       "1         2020-11-06                          1611.0   \n",
       "2         2020-11-05                          4464.0   \n",
       "3         2020-11-04                          7141.0   \n",
       "4         2020-11-03                          9588.0   \n",
       "\n",
       "   shared_teks_by_upload_date  shared_teks_uploaded_on_generation_date  \\\n",
       "0                     23688.0                                    313.0   \n",
       "1                     28583.0                                    263.0   \n",
       "2                     26573.0                                    267.0   \n",
       "3                     28247.0                                    344.0   \n",
       "4                     20613.0                                    280.0   \n",
       "\n",
       "   shared_diagnoses  \n",
       "0            2490.0  \n",
       "1            2909.0  \n",
       "2            2696.0  \n",
       "3            2851.0  \n",
       "4            1961.0  "
      ]
     },
     "execution_count": 42,
     "metadata": {},
     "output_type": "execute_result"
    }
   ],
   "source": [
    "result_summary_df = result_summary_df.merge(\n",
    "    estimated_shared_diagnoses_df, on=[\"sample_date_string\"], how=\"outer\")\n",
    "result_summary_df.head()"
   ]
  },
  {
   "cell_type": "code",
   "execution_count": 43,
   "metadata": {
    "collapsed": false,
    "execution": {
     "iopub.execute_input": "2020-11-07T23:24:43.526820Z",
     "iopub.status.busy": "2020-11-07T23:24:43.526106Z",
     "iopub.status.idle": "2020-11-07T23:24:43.540266Z",
     "shell.execute_reply": "2020-11-07T23:24:43.539794Z"
    },
    "papermill": {
     "duration": 0.078442,
     "end_time": "2020-11-07T23:24:43.540388",
     "exception": false,
     "start_time": "2020-11-07T23:24:43.461946",
     "status": "completed"
    },
    "pycharm": {
     "name": "#%%\n"
    },
    "tags": []
   },
   "outputs": [
    {
     "data": {
      "text/html": [
       "<div>\n",
       "<style scoped>\n",
       "    .dataframe tbody tr th:only-of-type {\n",
       "        vertical-align: middle;\n",
       "    }\n",
       "\n",
       "    .dataframe tbody tr th {\n",
       "        vertical-align: top;\n",
       "    }\n",
       "\n",
       "    .dataframe thead th {\n",
       "        text-align: right;\n",
       "    }\n",
       "</style>\n",
       "<table border=\"1\" class=\"dataframe\">\n",
       "  <thead>\n",
       "    <tr style=\"text-align: right;\">\n",
       "      <th></th>\n",
       "      <th>sample_date_string</th>\n",
       "      <th>new_cases</th>\n",
       "      <th>covid_cases</th>\n",
       "      <th>shared_teks_by_generation_date</th>\n",
       "      <th>shared_teks_by_upload_date</th>\n",
       "      <th>shared_teks_uploaded_on_generation_date</th>\n",
       "      <th>shared_diagnoses</th>\n",
       "    </tr>\n",
       "  </thead>\n",
       "  <tbody>\n",
       "    <tr>\n",
       "      <th>0</th>\n",
       "      <td>2020-08-16</td>\n",
       "      <td>0</td>\n",
       "      <td>4064.0</td>\n",
       "      <td>NaN</td>\n",
       "      <td>NaN</td>\n",
       "      <td>NaN</td>\n",
       "      <td>NaN</td>\n",
       "    </tr>\n",
       "    <tr>\n",
       "      <th>1</th>\n",
       "      <td>2020-08-17</td>\n",
       "      <td>16269</td>\n",
       "      <td>5157.0</td>\n",
       "      <td>NaN</td>\n",
       "      <td>NaN</td>\n",
       "      <td>NaN</td>\n",
       "      <td>NaN</td>\n",
       "    </tr>\n",
       "    <tr>\n",
       "      <th>2</th>\n",
       "      <td>2020-08-18</td>\n",
       "      <td>5114</td>\n",
       "      <td>5369.0</td>\n",
       "      <td>NaN</td>\n",
       "      <td>NaN</td>\n",
       "      <td>NaN</td>\n",
       "      <td>NaN</td>\n",
       "    </tr>\n",
       "    <tr>\n",
       "      <th>3</th>\n",
       "      <td>2020-08-19</td>\n",
       "      <td>6671</td>\n",
       "      <td>5869.0</td>\n",
       "      <td>1.0</td>\n",
       "      <td>NaN</td>\n",
       "      <td>NaN</td>\n",
       "      <td>NaN</td>\n",
       "    </tr>\n",
       "    <tr>\n",
       "      <th>4</th>\n",
       "      <td>2020-08-20</td>\n",
       "      <td>7039</td>\n",
       "      <td>5796.0</td>\n",
       "      <td>4.0</td>\n",
       "      <td>NaN</td>\n",
       "      <td>NaN</td>\n",
       "      <td>NaN</td>\n",
       "    </tr>\n",
       "  </tbody>\n",
       "</table>\n",
       "</div>"
      ],
      "text/plain": [
       "  sample_date_string new_cases  covid_cases  shared_teks_by_generation_date  \\\n",
       "0         2020-08-16         0       4064.0                             NaN   \n",
       "1         2020-08-17     16269       5157.0                             NaN   \n",
       "2         2020-08-18      5114       5369.0                             NaN   \n",
       "3         2020-08-19      6671       5869.0                             1.0   \n",
       "4         2020-08-20      7039       5796.0                             4.0   \n",
       "\n",
       "   shared_teks_by_upload_date  shared_teks_uploaded_on_generation_date  \\\n",
       "0                         NaN                                      NaN   \n",
       "1                         NaN                                      NaN   \n",
       "2                         NaN                                      NaN   \n",
       "3                         NaN                                      NaN   \n",
       "4                         NaN                                      NaN   \n",
       "\n",
       "   shared_diagnoses  \n",
       "0               NaN  \n",
       "1               NaN  \n",
       "2               NaN  \n",
       "3               NaN  \n",
       "4               NaN  "
      ]
     },
     "execution_count": 43,
     "metadata": {},
     "output_type": "execute_result"
    }
   ],
   "source": [
    "result_summary_df = confirmed_df.tail(daily_summary_days).merge(\n",
    "    result_summary_df, on=[\"sample_date_string\"], how=\"left\")\n",
    "result_summary_df.head()"
   ]
  },
  {
   "cell_type": "code",
   "execution_count": 44,
   "metadata": {
    "collapsed": false,
    "execution": {
     "iopub.execute_input": "2020-11-07T23:24:43.676303Z",
     "iopub.status.busy": "2020-11-07T23:24:43.675714Z",
     "iopub.status.idle": "2020-11-07T23:24:43.690989Z",
     "shell.execute_reply": "2020-11-07T23:24:43.690509Z"
    },
    "papermill": {
     "duration": 0.090513,
     "end_time": "2020-11-07T23:24:43.691116",
     "exception": false,
     "start_time": "2020-11-07T23:24:43.600603",
     "status": "completed"
    },
    "pycharm": {
     "name": "#%%\n"
    },
    "tags": []
   },
   "outputs": [
    {
     "data": {
      "text/html": [
       "<div>\n",
       "<style scoped>\n",
       "    .dataframe tbody tr th:only-of-type {\n",
       "        vertical-align: middle;\n",
       "    }\n",
       "\n",
       "    .dataframe tbody tr th {\n",
       "        vertical-align: top;\n",
       "    }\n",
       "\n",
       "    .dataframe thead th {\n",
       "        text-align: right;\n",
       "    }\n",
       "</style>\n",
       "<table border=\"1\" class=\"dataframe\">\n",
       "  <thead>\n",
       "    <tr style=\"text-align: right;\">\n",
       "      <th></th>\n",
       "      <th></th>\n",
       "      <th>new_cases</th>\n",
       "      <th>covid_cases</th>\n",
       "      <th>shared_teks_by_generation_date</th>\n",
       "      <th>shared_teks_by_upload_date</th>\n",
       "      <th>shared_teks_uploaded_on_generation_date</th>\n",
       "      <th>shared_diagnoses</th>\n",
       "    </tr>\n",
       "    <tr>\n",
       "      <th>sample_date</th>\n",
       "      <th>source_regions</th>\n",
       "      <th></th>\n",
       "      <th></th>\n",
       "      <th></th>\n",
       "      <th></th>\n",
       "      <th></th>\n",
       "      <th></th>\n",
       "    </tr>\n",
       "  </thead>\n",
       "  <tbody>\n",
       "    <tr>\n",
       "      <th>2020-11-07</th>\n",
       "      <th>ES,DE,IE,IT,LV</th>\n",
       "      <td>62050</td>\n",
       "      <td>69596.0</td>\n",
       "      <td>313.0</td>\n",
       "      <td>23688.0</td>\n",
       "      <td>313.0</td>\n",
       "      <td>2490.0</td>\n",
       "    </tr>\n",
       "    <tr>\n",
       "      <th>2020-11-06</th>\n",
       "      <th>ES,DE,IE,IT,LV</th>\n",
       "      <td>79454</td>\n",
       "      <td>68044.0</td>\n",
       "      <td>1611.0</td>\n",
       "      <td>28583.0</td>\n",
       "      <td>263.0</td>\n",
       "      <td>2909.0</td>\n",
       "    </tr>\n",
       "    <tr>\n",
       "      <th>2020-11-05</th>\n",
       "      <th>ES,DE,IE,IT,LV</th>\n",
       "      <td>73194</td>\n",
       "      <td>67010.0</td>\n",
       "      <td>4464.0</td>\n",
       "      <td>26573.0</td>\n",
       "      <td>267.0</td>\n",
       "      <td>2696.0</td>\n",
       "    </tr>\n",
       "    <tr>\n",
       "      <th>2020-11-04</th>\n",
       "      <th>ES,DE,IE,IT,LV</th>\n",
       "      <td>70966</td>\n",
       "      <td>66020.0</td>\n",
       "      <td>7141.0</td>\n",
       "      <td>28247.0</td>\n",
       "      <td>344.0</td>\n",
       "      <td>2851.0</td>\n",
       "    </tr>\n",
       "    <tr>\n",
       "      <th>2020-11-03</th>\n",
       "      <th>ES,DE,IE,IT,LV</th>\n",
       "      <td>57154</td>\n",
       "      <td>64104.0</td>\n",
       "      <td>9588.0</td>\n",
       "      <td>20613.0</td>\n",
       "      <td>280.0</td>\n",
       "      <td>1961.0</td>\n",
       "    </tr>\n",
       "  </tbody>\n",
       "</table>\n",
       "</div>"
      ],
      "text/plain": [
       "                           new_cases  covid_cases  \\\n",
       "sample_date source_regions                          \n",
       "2020-11-07  ES,DE,IE,IT,LV     62050      69596.0   \n",
       "2020-11-06  ES,DE,IE,IT,LV     79454      68044.0   \n",
       "2020-11-05  ES,DE,IE,IT,LV     73194      67010.0   \n",
       "2020-11-04  ES,DE,IE,IT,LV     70966      66020.0   \n",
       "2020-11-03  ES,DE,IE,IT,LV     57154      64104.0   \n",
       "\n",
       "                            shared_teks_by_generation_date  \\\n",
       "sample_date source_regions                                   \n",
       "2020-11-07  ES,DE,IE,IT,LV                           313.0   \n",
       "2020-11-06  ES,DE,IE,IT,LV                          1611.0   \n",
       "2020-11-05  ES,DE,IE,IT,LV                          4464.0   \n",
       "2020-11-04  ES,DE,IE,IT,LV                          7141.0   \n",
       "2020-11-03  ES,DE,IE,IT,LV                          9588.0   \n",
       "\n",
       "                            shared_teks_by_upload_date  \\\n",
       "sample_date source_regions                               \n",
       "2020-11-07  ES,DE,IE,IT,LV                     23688.0   \n",
       "2020-11-06  ES,DE,IE,IT,LV                     28583.0   \n",
       "2020-11-05  ES,DE,IE,IT,LV                     26573.0   \n",
       "2020-11-04  ES,DE,IE,IT,LV                     28247.0   \n",
       "2020-11-03  ES,DE,IE,IT,LV                     20613.0   \n",
       "\n",
       "                            shared_teks_uploaded_on_generation_date  \\\n",
       "sample_date source_regions                                            \n",
       "2020-11-07  ES,DE,IE,IT,LV                                    313.0   \n",
       "2020-11-06  ES,DE,IE,IT,LV                                    263.0   \n",
       "2020-11-05  ES,DE,IE,IT,LV                                    267.0   \n",
       "2020-11-04  ES,DE,IE,IT,LV                                    344.0   \n",
       "2020-11-03  ES,DE,IE,IT,LV                                    280.0   \n",
       "\n",
       "                            shared_diagnoses  \n",
       "sample_date source_regions                    \n",
       "2020-11-07  ES,DE,IE,IT,LV            2490.0  \n",
       "2020-11-06  ES,DE,IE,IT,LV            2909.0  \n",
       "2020-11-05  ES,DE,IE,IT,LV            2696.0  \n",
       "2020-11-04  ES,DE,IE,IT,LV            2851.0  \n",
       "2020-11-03  ES,DE,IE,IT,LV            1961.0  "
      ]
     },
     "execution_count": 44,
     "metadata": {},
     "output_type": "execute_result"
    }
   ],
   "source": [
    "result_summary_df[\"sample_date\"] = pd.to_datetime(result_summary_df.sample_date_string)\n",
    "result_summary_df = result_summary_df.merge(source_regions_for_summary_df, how=\"left\")\n",
    "result_summary_df.set_index([\"sample_date\", \"source_regions\"], inplace=True)\n",
    "result_summary_df.drop(columns=[\"sample_date_string\"], inplace=True)\n",
    "result_summary_df.sort_index(ascending=False, inplace=True)\n",
    "result_summary_df.head()"
   ]
  },
  {
   "cell_type": "code",
   "execution_count": 45,
   "metadata": {
    "execution": {
     "iopub.execute_input": "2020-11-07T23:24:43.834780Z",
     "iopub.status.busy": "2020-11-07T23:24:43.834214Z",
     "iopub.status.idle": "2020-11-07T23:24:43.839715Z",
     "shell.execute_reply": "2020-11-07T23:24:43.839149Z"
    },
    "papermill": {
     "duration": 0.089448,
     "end_time": "2020-11-07T23:24:43.839849",
     "exception": false,
     "start_time": "2020-11-07T23:24:43.750401",
     "status": "completed"
    },
    "tags": []
   },
   "outputs": [
    {
     "data": {
      "text/html": [
       "<div>\n",
       "<style scoped>\n",
       "    .dataframe tbody tr th:only-of-type {\n",
       "        vertical-align: middle;\n",
       "    }\n",
       "\n",
       "    .dataframe tbody tr th {\n",
       "        vertical-align: top;\n",
       "    }\n",
       "\n",
       "    .dataframe thead th {\n",
       "        text-align: right;\n",
       "    }\n",
       "</style>\n",
       "<table border=\"1\" class=\"dataframe\">\n",
       "  <thead>\n",
       "    <tr style=\"text-align: right;\">\n",
       "      <th></th>\n",
       "      <th></th>\n",
       "      <th>new_cases</th>\n",
       "      <th>covid_cases</th>\n",
       "      <th>shared_teks_by_generation_date</th>\n",
       "      <th>shared_teks_by_upload_date</th>\n",
       "      <th>shared_teks_uploaded_on_generation_date</th>\n",
       "      <th>shared_diagnoses</th>\n",
       "      <th>teks_per_shared_diagnosis</th>\n",
       "      <th>shared_diagnoses_per_covid_case</th>\n",
       "    </tr>\n",
       "    <tr>\n",
       "      <th>sample_date</th>\n",
       "      <th>source_regions</th>\n",
       "      <th></th>\n",
       "      <th></th>\n",
       "      <th></th>\n",
       "      <th></th>\n",
       "      <th></th>\n",
       "      <th></th>\n",
       "      <th></th>\n",
       "      <th></th>\n",
       "    </tr>\n",
       "  </thead>\n",
       "  <tbody>\n",
       "    <tr>\n",
       "      <th>2020-11-07</th>\n",
       "      <th>ES,DE,IE,IT,LV</th>\n",
       "      <td>62050</td>\n",
       "      <td>69596</td>\n",
       "      <td>313</td>\n",
       "      <td>23688</td>\n",
       "      <td>313</td>\n",
       "      <td>2490</td>\n",
       "      <td>9.513253</td>\n",
       "      <td>0.035778</td>\n",
       "    </tr>\n",
       "    <tr>\n",
       "      <th>2020-11-06</th>\n",
       "      <th>ES,DE,IE,IT,LV</th>\n",
       "      <td>79454</td>\n",
       "      <td>68044</td>\n",
       "      <td>1611</td>\n",
       "      <td>28583</td>\n",
       "      <td>263</td>\n",
       "      <td>2909</td>\n",
       "      <td>9.825713</td>\n",
       "      <td>0.042752</td>\n",
       "    </tr>\n",
       "    <tr>\n",
       "      <th>2020-11-05</th>\n",
       "      <th>ES,DE,IE,IT,LV</th>\n",
       "      <td>73194</td>\n",
       "      <td>67010</td>\n",
       "      <td>4464</td>\n",
       "      <td>26573</td>\n",
       "      <td>267</td>\n",
       "      <td>2696</td>\n",
       "      <td>9.856454</td>\n",
       "      <td>0.040233</td>\n",
       "    </tr>\n",
       "    <tr>\n",
       "      <th>2020-11-04</th>\n",
       "      <th>ES,DE,IE,IT,LV</th>\n",
       "      <td>70966</td>\n",
       "      <td>66020</td>\n",
       "      <td>7141</td>\n",
       "      <td>28247</td>\n",
       "      <td>344</td>\n",
       "      <td>2851</td>\n",
       "      <td>9.907752</td>\n",
       "      <td>0.043184</td>\n",
       "    </tr>\n",
       "    <tr>\n",
       "      <th>2020-11-03</th>\n",
       "      <th>ES,DE,IE,IT,LV</th>\n",
       "      <td>57154</td>\n",
       "      <td>64104</td>\n",
       "      <td>9588</td>\n",
       "      <td>20613</td>\n",
       "      <td>280</td>\n",
       "      <td>1961</td>\n",
       "      <td>10.511474</td>\n",
       "      <td>0.030591</td>\n",
       "    </tr>\n",
       "    <tr>\n",
       "      <th>2020-11-02</th>\n",
       "      <th>ES,DE,IE,IT,LV</th>\n",
       "      <td>97809</td>\n",
       "      <td>62775</td>\n",
       "      <td>11359</td>\n",
       "      <td>16927</td>\n",
       "      <td>264</td>\n",
       "      <td>1711</td>\n",
       "      <td>9.893045</td>\n",
       "      <td>0.027256</td>\n",
       "    </tr>\n",
       "    <tr>\n",
       "      <th>2020-11-01</th>\n",
       "      <th>ES,DE,IE,IT,LV</th>\n",
       "      <td>46545</td>\n",
       "      <td>60713</td>\n",
       "      <td>12349</td>\n",
       "      <td>16848</td>\n",
       "      <td>277</td>\n",
       "      <td>1842</td>\n",
       "      <td>9.146580</td>\n",
       "      <td>0.030339</td>\n",
       "    </tr>\n",
       "    <tr>\n",
       "      <th>2020-10-31</th>\n",
       "      <th>ES,DE,IE,IT,LV</th>\n",
       "      <td>51184</td>\n",
       "      <td>58624</td>\n",
       "      <td>13575</td>\n",
       "      <td>20328</td>\n",
       "      <td>305</td>\n",
       "      <td>2163</td>\n",
       "      <td>9.398058</td>\n",
       "      <td>0.036896</td>\n",
       "    </tr>\n",
       "    <tr>\n",
       "      <th>2020-10-30</th>\n",
       "      <th>ES,DE,IE,IT,LV</th>\n",
       "      <td>72219</td>\n",
       "      <td>56297</td>\n",
       "      <td>15282</td>\n",
       "      <td>100215</td>\n",
       "      <td>382</td>\n",
       "      <td>0</td>\n",
       "      <td>0.000000</td>\n",
       "      <td>0.000000</td>\n",
       "    </tr>\n",
       "    <tr>\n",
       "      <th>2020-10-29</th>\n",
       "      <th>ES</th>\n",
       "      <td>23580</td>\n",
       "      <td>19115</td>\n",
       "      <td>17207</td>\n",
       "      <td>1847</td>\n",
       "      <td>397</td>\n",
       "      <td>397</td>\n",
       "      <td>4.652393</td>\n",
       "      <td>0.020769</td>\n",
       "    </tr>\n",
       "    <tr>\n",
       "      <th>2020-10-28</th>\n",
       "      <th>ES</th>\n",
       "      <td>19765</td>\n",
       "      <td>18744</td>\n",
       "      <td>19090</td>\n",
       "      <td>1933</td>\n",
       "      <td>406</td>\n",
       "      <td>406</td>\n",
       "      <td>4.761084</td>\n",
       "      <td>0.021660</td>\n",
       "    </tr>\n",
       "    <tr>\n",
       "      <th>2020-10-27</th>\n",
       "      <th>ES</th>\n",
       "      <td>18418</td>\n",
       "      <td>18345</td>\n",
       "      <td>20489</td>\n",
       "      <td>988</td>\n",
       "      <td>231</td>\n",
       "      <td>231</td>\n",
       "      <td>4.277056</td>\n",
       "      <td>0.012592</td>\n",
       "    </tr>\n",
       "    <tr>\n",
       "      <th>2020-10-26</th>\n",
       "      <th>ES</th>\n",
       "      <td>52188</td>\n",
       "      <td>17696</td>\n",
       "      <td>21556</td>\n",
       "      <td>994</td>\n",
       "      <td>215</td>\n",
       "      <td>215</td>\n",
       "      <td>4.623256</td>\n",
       "      <td>0.012150</td>\n",
       "    </tr>\n",
       "    <tr>\n",
       "      <th>2020-10-25</th>\n",
       "      <th>ES</th>\n",
       "      <td>0</td>\n",
       "      <td>15653</td>\n",
       "      <td>21944</td>\n",
       "      <td>679</td>\n",
       "      <td>179</td>\n",
       "      <td>179</td>\n",
       "      <td>3.793296</td>\n",
       "      <td>0.011436</td>\n",
       "    </tr>\n",
       "    <tr>\n",
       "      <th>2020-10-24</th>\n",
       "      <th>ES</th>\n",
       "      <td>0</td>\n",
       "      <td>15653</td>\n",
       "      <td>20758</td>\n",
       "      <td>703</td>\n",
       "      <td>177</td>\n",
       "      <td>177</td>\n",
       "      <td>3.971751</td>\n",
       "      <td>0.011308</td>\n",
       "    </tr>\n",
       "    <tr>\n",
       "      <th>2020-10-23</th>\n",
       "      <th>ES</th>\n",
       "      <td>19851</td>\n",
       "      <td>15653</td>\n",
       "      <td>19712</td>\n",
       "      <td>769</td>\n",
       "      <td>167</td>\n",
       "      <td>167</td>\n",
       "      <td>4.604790</td>\n",
       "      <td>0.010669</td>\n",
       "    </tr>\n",
       "    <tr>\n",
       "      <th>2020-10-22</th>\n",
       "      <th>ES</th>\n",
       "      <td>20986</td>\n",
       "      <td>14987</td>\n",
       "      <td>17299</td>\n",
       "      <td>726</td>\n",
       "      <td>180</td>\n",
       "      <td>180</td>\n",
       "      <td>4.033333</td>\n",
       "      <td>0.012010</td>\n",
       "    </tr>\n",
       "    <tr>\n",
       "      <th>2020-10-21</th>\n",
       "      <th>ES</th>\n",
       "      <td>16973</td>\n",
       "      <td>13891</td>\n",
       "      <td>14775</td>\n",
       "      <td>841</td>\n",
       "      <td>157</td>\n",
       "      <td>157</td>\n",
       "      <td>5.356688</td>\n",
       "      <td>0.011302</td>\n",
       "    </tr>\n",
       "    <tr>\n",
       "      <th>2020-10-20</th>\n",
       "      <th>ES</th>\n",
       "      <td>13873</td>\n",
       "      <td>13177</td>\n",
       "      <td>13006</td>\n",
       "      <td>772</td>\n",
       "      <td>149</td>\n",
       "      <td>149</td>\n",
       "      <td>5.181208</td>\n",
       "      <td>0.011308</td>\n",
       "    </tr>\n",
       "    <tr>\n",
       "      <th>2020-10-19</th>\n",
       "      <th>ES</th>\n",
       "      <td>37889</td>\n",
       "      <td>12212</td>\n",
       "      <td>11649</td>\n",
       "      <td>791</td>\n",
       "      <td>142</td>\n",
       "      <td>142</td>\n",
       "      <td>5.570423</td>\n",
       "      <td>0.011628</td>\n",
       "    </tr>\n",
       "    <tr>\n",
       "      <th>2020-10-18</th>\n",
       "      <th>ES</th>\n",
       "      <td>0</td>\n",
       "      <td>10778</td>\n",
       "      <td>10346</td>\n",
       "      <td>726</td>\n",
       "      <td>146</td>\n",
       "      <td>146</td>\n",
       "      <td>4.972603</td>\n",
       "      <td>0.013546</td>\n",
       "    </tr>\n",
       "    <tr>\n",
       "      <th>2020-10-17</th>\n",
       "      <th>ES</th>\n",
       "      <td>0</td>\n",
       "      <td>10778</td>\n",
       "      <td>8932</td>\n",
       "      <td>767</td>\n",
       "      <td>174</td>\n",
       "      <td>174</td>\n",
       "      <td>4.408046</td>\n",
       "      <td>0.016144</td>\n",
       "    </tr>\n",
       "    <tr>\n",
       "      <th>2020-10-16</th>\n",
       "      <th>ES</th>\n",
       "      <td>15186</td>\n",
       "      <td>10778</td>\n",
       "      <td>737</td>\n",
       "      <td>769</td>\n",
       "      <td>149</td>\n",
       "      <td>149</td>\n",
       "      <td>5.161074</td>\n",
       "      <td>0.013824</td>\n",
       "    </tr>\n",
       "    <tr>\n",
       "      <th>2020-10-15</th>\n",
       "      <th>ES</th>\n",
       "      <td>13318</td>\n",
       "      <td>10436</td>\n",
       "      <td>744</td>\n",
       "      <td>671</td>\n",
       "      <td>151</td>\n",
       "      <td>175</td>\n",
       "      <td>3.834286</td>\n",
       "      <td>0.016769</td>\n",
       "    </tr>\n",
       "    <tr>\n",
       "      <th>2020-10-14</th>\n",
       "      <th>ES</th>\n",
       "      <td>11970</td>\n",
       "      <td>10308</td>\n",
       "      <td>675</td>\n",
       "      <td>463</td>\n",
       "      <td>1</td>\n",
       "      <td>133</td>\n",
       "      <td>3.481203</td>\n",
       "      <td>0.012903</td>\n",
       "    </tr>\n",
       "    <tr>\n",
       "      <th>2020-10-13</th>\n",
       "      <th>ES</th>\n",
       "      <td>7118</td>\n",
       "      <td>10097</td>\n",
       "      <td>590</td>\n",
       "      <td>334</td>\n",
       "      <td>1</td>\n",
       "      <td>112</td>\n",
       "      <td>2.982143</td>\n",
       "      <td>0.011092</td>\n",
       "    </tr>\n",
       "    <tr>\n",
       "      <th>2020-10-12</th>\n",
       "      <th>ES</th>\n",
       "      <td>27856</td>\n",
       "      <td>10794</td>\n",
       "      <td>532</td>\n",
       "      <td>326</td>\n",
       "      <td>2</td>\n",
       "      <td>136</td>\n",
       "      <td>2.397059</td>\n",
       "      <td>0.012600</td>\n",
       "    </tr>\n",
       "    <tr>\n",
       "      <th>2020-10-11</th>\n",
       "      <th>ES</th>\n",
       "      <td>0</td>\n",
       "      <td>10169</td>\n",
       "      <td>479</td>\n",
       "      <td>422</td>\n",
       "      <td>1</td>\n",
       "      <td>147</td>\n",
       "      <td>2.870748</td>\n",
       "      <td>0.014456</td>\n",
       "    </tr>\n",
       "  </tbody>\n",
       "</table>\n",
       "</div>"
      ],
      "text/plain": [
       "                            new_cases  covid_cases  \\\n",
       "sample_date source_regions                           \n",
       "2020-11-07  ES,DE,IE,IT,LV      62050        69596   \n",
       "2020-11-06  ES,DE,IE,IT,LV      79454        68044   \n",
       "2020-11-05  ES,DE,IE,IT,LV      73194        67010   \n",
       "2020-11-04  ES,DE,IE,IT,LV      70966        66020   \n",
       "2020-11-03  ES,DE,IE,IT,LV      57154        64104   \n",
       "2020-11-02  ES,DE,IE,IT,LV      97809        62775   \n",
       "2020-11-01  ES,DE,IE,IT,LV      46545        60713   \n",
       "2020-10-31  ES,DE,IE,IT,LV      51184        58624   \n",
       "2020-10-30  ES,DE,IE,IT,LV      72219        56297   \n",
       "2020-10-29  ES                  23580        19115   \n",
       "2020-10-28  ES                  19765        18744   \n",
       "2020-10-27  ES                  18418        18345   \n",
       "2020-10-26  ES                  52188        17696   \n",
       "2020-10-25  ES                      0        15653   \n",
       "2020-10-24  ES                      0        15653   \n",
       "2020-10-23  ES                  19851        15653   \n",
       "2020-10-22  ES                  20986        14987   \n",
       "2020-10-21  ES                  16973        13891   \n",
       "2020-10-20  ES                  13873        13177   \n",
       "2020-10-19  ES                  37889        12212   \n",
       "2020-10-18  ES                      0        10778   \n",
       "2020-10-17  ES                      0        10778   \n",
       "2020-10-16  ES                  15186        10778   \n",
       "2020-10-15  ES                  13318        10436   \n",
       "2020-10-14  ES                  11970        10308   \n",
       "2020-10-13  ES                   7118        10097   \n",
       "2020-10-12  ES                  27856        10794   \n",
       "2020-10-11  ES                      0        10169   \n",
       "\n",
       "                            shared_teks_by_generation_date  \\\n",
       "sample_date source_regions                                   \n",
       "2020-11-07  ES,DE,IE,IT,LV                             313   \n",
       "2020-11-06  ES,DE,IE,IT,LV                            1611   \n",
       "2020-11-05  ES,DE,IE,IT,LV                            4464   \n",
       "2020-11-04  ES,DE,IE,IT,LV                            7141   \n",
       "2020-11-03  ES,DE,IE,IT,LV                            9588   \n",
       "2020-11-02  ES,DE,IE,IT,LV                           11359   \n",
       "2020-11-01  ES,DE,IE,IT,LV                           12349   \n",
       "2020-10-31  ES,DE,IE,IT,LV                           13575   \n",
       "2020-10-30  ES,DE,IE,IT,LV                           15282   \n",
       "2020-10-29  ES                                       17207   \n",
       "2020-10-28  ES                                       19090   \n",
       "2020-10-27  ES                                       20489   \n",
       "2020-10-26  ES                                       21556   \n",
       "2020-10-25  ES                                       21944   \n",
       "2020-10-24  ES                                       20758   \n",
       "2020-10-23  ES                                       19712   \n",
       "2020-10-22  ES                                       17299   \n",
       "2020-10-21  ES                                       14775   \n",
       "2020-10-20  ES                                       13006   \n",
       "2020-10-19  ES                                       11649   \n",
       "2020-10-18  ES                                       10346   \n",
       "2020-10-17  ES                                        8932   \n",
       "2020-10-16  ES                                         737   \n",
       "2020-10-15  ES                                         744   \n",
       "2020-10-14  ES                                         675   \n",
       "2020-10-13  ES                                         590   \n",
       "2020-10-12  ES                                         532   \n",
       "2020-10-11  ES                                         479   \n",
       "\n",
       "                            shared_teks_by_upload_date  \\\n",
       "sample_date source_regions                               \n",
       "2020-11-07  ES,DE,IE,IT,LV                       23688   \n",
       "2020-11-06  ES,DE,IE,IT,LV                       28583   \n",
       "2020-11-05  ES,DE,IE,IT,LV                       26573   \n",
       "2020-11-04  ES,DE,IE,IT,LV                       28247   \n",
       "2020-11-03  ES,DE,IE,IT,LV                       20613   \n",
       "2020-11-02  ES,DE,IE,IT,LV                       16927   \n",
       "2020-11-01  ES,DE,IE,IT,LV                       16848   \n",
       "2020-10-31  ES,DE,IE,IT,LV                       20328   \n",
       "2020-10-30  ES,DE,IE,IT,LV                      100215   \n",
       "2020-10-29  ES                                    1847   \n",
       "2020-10-28  ES                                    1933   \n",
       "2020-10-27  ES                                     988   \n",
       "2020-10-26  ES                                     994   \n",
       "2020-10-25  ES                                     679   \n",
       "2020-10-24  ES                                     703   \n",
       "2020-10-23  ES                                     769   \n",
       "2020-10-22  ES                                     726   \n",
       "2020-10-21  ES                                     841   \n",
       "2020-10-20  ES                                     772   \n",
       "2020-10-19  ES                                     791   \n",
       "2020-10-18  ES                                     726   \n",
       "2020-10-17  ES                                     767   \n",
       "2020-10-16  ES                                     769   \n",
       "2020-10-15  ES                                     671   \n",
       "2020-10-14  ES                                     463   \n",
       "2020-10-13  ES                                     334   \n",
       "2020-10-12  ES                                     326   \n",
       "2020-10-11  ES                                     422   \n",
       "\n",
       "                            shared_teks_uploaded_on_generation_date  \\\n",
       "sample_date source_regions                                            \n",
       "2020-11-07  ES,DE,IE,IT,LV                                      313   \n",
       "2020-11-06  ES,DE,IE,IT,LV                                      263   \n",
       "2020-11-05  ES,DE,IE,IT,LV                                      267   \n",
       "2020-11-04  ES,DE,IE,IT,LV                                      344   \n",
       "2020-11-03  ES,DE,IE,IT,LV                                      280   \n",
       "2020-11-02  ES,DE,IE,IT,LV                                      264   \n",
       "2020-11-01  ES,DE,IE,IT,LV                                      277   \n",
       "2020-10-31  ES,DE,IE,IT,LV                                      305   \n",
       "2020-10-30  ES,DE,IE,IT,LV                                      382   \n",
       "2020-10-29  ES                                                  397   \n",
       "2020-10-28  ES                                                  406   \n",
       "2020-10-27  ES                                                  231   \n",
       "2020-10-26  ES                                                  215   \n",
       "2020-10-25  ES                                                  179   \n",
       "2020-10-24  ES                                                  177   \n",
       "2020-10-23  ES                                                  167   \n",
       "2020-10-22  ES                                                  180   \n",
       "2020-10-21  ES                                                  157   \n",
       "2020-10-20  ES                                                  149   \n",
       "2020-10-19  ES                                                  142   \n",
       "2020-10-18  ES                                                  146   \n",
       "2020-10-17  ES                                                  174   \n",
       "2020-10-16  ES                                                  149   \n",
       "2020-10-15  ES                                                  151   \n",
       "2020-10-14  ES                                                    1   \n",
       "2020-10-13  ES                                                    1   \n",
       "2020-10-12  ES                                                    2   \n",
       "2020-10-11  ES                                                    1   \n",
       "\n",
       "                            shared_diagnoses  teks_per_shared_diagnosis  \\\n",
       "sample_date source_regions                                                \n",
       "2020-11-07  ES,DE,IE,IT,LV              2490                   9.513253   \n",
       "2020-11-06  ES,DE,IE,IT,LV              2909                   9.825713   \n",
       "2020-11-05  ES,DE,IE,IT,LV              2696                   9.856454   \n",
       "2020-11-04  ES,DE,IE,IT,LV              2851                   9.907752   \n",
       "2020-11-03  ES,DE,IE,IT,LV              1961                  10.511474   \n",
       "2020-11-02  ES,DE,IE,IT,LV              1711                   9.893045   \n",
       "2020-11-01  ES,DE,IE,IT,LV              1842                   9.146580   \n",
       "2020-10-31  ES,DE,IE,IT,LV              2163                   9.398058   \n",
       "2020-10-30  ES,DE,IE,IT,LV                 0                   0.000000   \n",
       "2020-10-29  ES                           397                   4.652393   \n",
       "2020-10-28  ES                           406                   4.761084   \n",
       "2020-10-27  ES                           231                   4.277056   \n",
       "2020-10-26  ES                           215                   4.623256   \n",
       "2020-10-25  ES                           179                   3.793296   \n",
       "2020-10-24  ES                           177                   3.971751   \n",
       "2020-10-23  ES                           167                   4.604790   \n",
       "2020-10-22  ES                           180                   4.033333   \n",
       "2020-10-21  ES                           157                   5.356688   \n",
       "2020-10-20  ES                           149                   5.181208   \n",
       "2020-10-19  ES                           142                   5.570423   \n",
       "2020-10-18  ES                           146                   4.972603   \n",
       "2020-10-17  ES                           174                   4.408046   \n",
       "2020-10-16  ES                           149                   5.161074   \n",
       "2020-10-15  ES                           175                   3.834286   \n",
       "2020-10-14  ES                           133                   3.481203   \n",
       "2020-10-13  ES                           112                   2.982143   \n",
       "2020-10-12  ES                           136                   2.397059   \n",
       "2020-10-11  ES                           147                   2.870748   \n",
       "\n",
       "                            shared_diagnoses_per_covid_case  \n",
       "sample_date source_regions                                   \n",
       "2020-11-07  ES,DE,IE,IT,LV                         0.035778  \n",
       "2020-11-06  ES,DE,IE,IT,LV                         0.042752  \n",
       "2020-11-05  ES,DE,IE,IT,LV                         0.040233  \n",
       "2020-11-04  ES,DE,IE,IT,LV                         0.043184  \n",
       "2020-11-03  ES,DE,IE,IT,LV                         0.030591  \n",
       "2020-11-02  ES,DE,IE,IT,LV                         0.027256  \n",
       "2020-11-01  ES,DE,IE,IT,LV                         0.030339  \n",
       "2020-10-31  ES,DE,IE,IT,LV                         0.036896  \n",
       "2020-10-30  ES,DE,IE,IT,LV                         0.000000  \n",
       "2020-10-29  ES                                     0.020769  \n",
       "2020-10-28  ES                                     0.021660  \n",
       "2020-10-27  ES                                     0.012592  \n",
       "2020-10-26  ES                                     0.012150  \n",
       "2020-10-25  ES                                     0.011436  \n",
       "2020-10-24  ES                                     0.011308  \n",
       "2020-10-23  ES                                     0.010669  \n",
       "2020-10-22  ES                                     0.012010  \n",
       "2020-10-21  ES                                     0.011302  \n",
       "2020-10-20  ES                                     0.011308  \n",
       "2020-10-19  ES                                     0.011628  \n",
       "2020-10-18  ES                                     0.013546  \n",
       "2020-10-17  ES                                     0.016144  \n",
       "2020-10-16  ES                                     0.013824  \n",
       "2020-10-15  ES                                     0.016769  \n",
       "2020-10-14  ES                                     0.012903  \n",
       "2020-10-13  ES                                     0.011092  \n",
       "2020-10-12  ES                                     0.012600  \n",
       "2020-10-11  ES                                     0.014456  "
      ]
     },
     "execution_count": 45,
     "metadata": {},
     "output_type": "execute_result"
    }
   ],
   "source": [
    "with pd.option_context(\"mode.use_inf_as_na\", True):\n",
    "    result_summary_df = result_summary_df.fillna(0).astype(int)\n",
    "    result_summary_df[\"teks_per_shared_diagnosis\"] = \\\n",
    "        (result_summary_df.shared_teks_by_upload_date / result_summary_df.shared_diagnoses).fillna(0)\n",
    "    result_summary_df[\"shared_diagnoses_per_covid_case\"] = \\\n",
    "        (result_summary_df.shared_diagnoses / result_summary_df.covid_cases).fillna(0)\n",
    "\n",
    "result_summary_df.head(daily_plot_days)"
   ]
  },
  {
   "cell_type": "code",
   "execution_count": 46,
   "metadata": {
    "collapsed": false,
    "execution": {
     "iopub.execute_input": "2020-11-07T23:24:43.985163Z",
     "iopub.status.busy": "2020-11-07T23:24:43.976658Z",
     "iopub.status.idle": "2020-11-07T23:24:43.987866Z",
     "shell.execute_reply": "2020-11-07T23:24:43.987418Z"
    },
    "papermill": {
     "duration": 0.088455,
     "end_time": "2020-11-07T23:24:43.987994",
     "exception": false,
     "start_time": "2020-11-07T23:24:43.899539",
     "status": "completed"
    },
    "pycharm": {
     "name": "#%%\n"
    },
    "tags": []
   },
   "outputs": [
    {
     "data": {
      "text/html": [
       "<div>\n",
       "<style scoped>\n",
       "    .dataframe tbody tr th:only-of-type {\n",
       "        vertical-align: middle;\n",
       "    }\n",
       "\n",
       "    .dataframe tbody tr th {\n",
       "        vertical-align: top;\n",
       "    }\n",
       "\n",
       "    .dataframe thead th {\n",
       "        text-align: right;\n",
       "    }\n",
       "</style>\n",
       "<table border=\"1\" class=\"dataframe\">\n",
       "  <thead>\n",
       "    <tr style=\"text-align: right;\">\n",
       "      <th></th>\n",
       "      <th></th>\n",
       "      <th>covid_cases</th>\n",
       "      <th>shared_teks_by_generation_date</th>\n",
       "      <th>shared_teks_by_upload_date</th>\n",
       "      <th>shared_diagnoses</th>\n",
       "      <th>teks_per_shared_diagnosis</th>\n",
       "      <th>shared_diagnoses_per_covid_case</th>\n",
       "    </tr>\n",
       "    <tr>\n",
       "      <th>sample_date</th>\n",
       "      <th>source_regions</th>\n",
       "      <th></th>\n",
       "      <th></th>\n",
       "      <th></th>\n",
       "      <th></th>\n",
       "      <th></th>\n",
       "      <th></th>\n",
       "    </tr>\n",
       "  </thead>\n",
       "  <tbody>\n",
       "    <tr>\n",
       "      <th>2020-11-07</th>\n",
       "      <th>ES,DE,IE,IT,LV</th>\n",
       "      <td>458262</td>\n",
       "      <td>46825</td>\n",
       "      <td>161479</td>\n",
       "      <td>16460</td>\n",
       "      <td>9.810389</td>\n",
       "      <td>0.035918</td>\n",
       "    </tr>\n",
       "    <tr>\n",
       "      <th>2020-11-06</th>\n",
       "      <th>ES,DE,IE,IT,LV</th>\n",
       "      <td>447290</td>\n",
       "      <td>60087</td>\n",
       "      <td>158119</td>\n",
       "      <td>16133</td>\n",
       "      <td>9.800967</td>\n",
       "      <td>0.036068</td>\n",
       "    </tr>\n",
       "    <tr>\n",
       "      <th>2020-11-05</th>\n",
       "      <th>ES,DE,IE,IT,LV</th>\n",
       "      <td>435543</td>\n",
       "      <td>73758</td>\n",
       "      <td>229751</td>\n",
       "      <td>13224</td>\n",
       "      <td>17.373790</td>\n",
       "      <td>0.030362</td>\n",
       "    </tr>\n",
       "    <tr>\n",
       "      <th>2020-11-04</th>\n",
       "      <th>ES,DE,IE,IT,LV</th>\n",
       "      <td>387648</td>\n",
       "      <td>86501</td>\n",
       "      <td>205025</td>\n",
       "      <td>10925</td>\n",
       "      <td>18.766590</td>\n",
       "      <td>0.028183</td>\n",
       "    </tr>\n",
       "    <tr>\n",
       "      <th>2020-11-03</th>\n",
       "      <th>ES,DE,IE,IT,LV</th>\n",
       "      <td>340372</td>\n",
       "      <td>98450</td>\n",
       "      <td>178711</td>\n",
       "      <td>8480</td>\n",
       "      <td>21.074410</td>\n",
       "      <td>0.024914</td>\n",
       "    </tr>\n",
       "  </tbody>\n",
       "</table>\n",
       "</div>"
      ],
      "text/plain": [
       "                            covid_cases  shared_teks_by_generation_date  \\\n",
       "sample_date source_regions                                                \n",
       "2020-11-07  ES,DE,IE,IT,LV       458262                           46825   \n",
       "2020-11-06  ES,DE,IE,IT,LV       447290                           60087   \n",
       "2020-11-05  ES,DE,IE,IT,LV       435543                           73758   \n",
       "2020-11-04  ES,DE,IE,IT,LV       387648                           86501   \n",
       "2020-11-03  ES,DE,IE,IT,LV       340372                           98450   \n",
       "\n",
       "                            shared_teks_by_upload_date  shared_diagnoses  \\\n",
       "sample_date source_regions                                                 \n",
       "2020-11-07  ES,DE,IE,IT,LV                      161479             16460   \n",
       "2020-11-06  ES,DE,IE,IT,LV                      158119             16133   \n",
       "2020-11-05  ES,DE,IE,IT,LV                      229751             13224   \n",
       "2020-11-04  ES,DE,IE,IT,LV                      205025             10925   \n",
       "2020-11-03  ES,DE,IE,IT,LV                      178711              8480   \n",
       "\n",
       "                            teks_per_shared_diagnosis  \\\n",
       "sample_date source_regions                              \n",
       "2020-11-07  ES,DE,IE,IT,LV                   9.810389   \n",
       "2020-11-06  ES,DE,IE,IT,LV                   9.800967   \n",
       "2020-11-05  ES,DE,IE,IT,LV                  17.373790   \n",
       "2020-11-04  ES,DE,IE,IT,LV                  18.766590   \n",
       "2020-11-03  ES,DE,IE,IT,LV                  21.074410   \n",
       "\n",
       "                            shared_diagnoses_per_covid_case  \n",
       "sample_date source_regions                                   \n",
       "2020-11-07  ES,DE,IE,IT,LV                         0.035918  \n",
       "2020-11-06  ES,DE,IE,IT,LV                         0.036068  \n",
       "2020-11-05  ES,DE,IE,IT,LV                         0.030362  \n",
       "2020-11-04  ES,DE,IE,IT,LV                         0.028183  \n",
       "2020-11-03  ES,DE,IE,IT,LV                         0.024914  "
      ]
     },
     "execution_count": 46,
     "metadata": {},
     "output_type": "execute_result"
    }
   ],
   "source": [
    "weekly_result_summary_df = result_summary_df \\\n",
    "    .sort_index(ascending=True).fillna(0).rolling(7).agg({\n",
    "    \"covid_cases\": \"sum\",\n",
    "    \"shared_teks_by_generation_date\": \"sum\",\n",
    "    \"shared_teks_by_upload_date\": \"sum\",\n",
    "    \"shared_diagnoses\": \"sum\"\n",
    "}).sort_index(ascending=False)\n",
    "\n",
    "with pd.option_context(\"mode.use_inf_as_na\", True):\n",
    "    weekly_result_summary_df = weekly_result_summary_df.fillna(0).astype(int)\n",
    "    weekly_result_summary_df[\"teks_per_shared_diagnosis\"] = \\\n",
    "        (weekly_result_summary_df.shared_teks_by_upload_date / weekly_result_summary_df.shared_diagnoses).fillna(0)\n",
    "    weekly_result_summary_df[\"shared_diagnoses_per_covid_case\"] = \\\n",
    "        (weekly_result_summary_df.shared_diagnoses / weekly_result_summary_df.covid_cases).fillna(0)\n",
    "\n",
    "weekly_result_summary_df.head()"
   ]
  },
  {
   "cell_type": "code",
   "execution_count": 47,
   "metadata": {
    "collapsed": false,
    "execution": {
     "iopub.execute_input": "2020-11-07T23:24:44.129255Z",
     "iopub.status.busy": "2020-11-07T23:24:44.128601Z",
     "iopub.status.idle": "2020-11-07T23:24:44.132218Z",
     "shell.execute_reply": "2020-11-07T23:24:44.132746Z"
    },
    "papermill": {
     "duration": 0.081513,
     "end_time": "2020-11-07T23:24:44.132935",
     "exception": false,
     "start_time": "2020-11-07T23:24:44.051422",
     "status": "completed"
    },
    "pycharm": {
     "name": "#%%\n"
    },
    "tags": []
   },
   "outputs": [
    {
     "data": {
      "text/plain": [
       "{'covid_cases': 447290,\n",
       " 'shared_teks_by_generation_date': 60087,\n",
       " 'shared_teks_by_upload_date': 158119,\n",
       " 'shared_diagnoses': 16133,\n",
       " 'teks_per_shared_diagnosis': 9.800966962127317,\n",
       " 'shared_diagnoses_per_covid_case': 0.036068322564779}"
      ]
     },
     "execution_count": 47,
     "metadata": {},
     "output_type": "execute_result"
    }
   ],
   "source": [
    "last_7_days_summary = weekly_result_summary_df.to_dict(orient=\"records\")[1]\n",
    "last_7_days_summary"
   ]
  },
  {
   "cell_type": "markdown",
   "metadata": {
    "collapsed": false,
    "papermill": {
     "duration": 0.061793,
     "end_time": "2020-11-07T23:24:44.256193",
     "exception": false,
     "start_time": "2020-11-07T23:24:44.194400",
     "status": "completed"
    },
    "tags": []
   },
   "source": [
    "## Report Results"
   ]
  },
  {
   "cell_type": "code",
   "execution_count": 48,
   "metadata": {
    "collapsed": false,
    "execution": {
     "iopub.execute_input": "2020-11-07T23:24:44.391530Z",
     "iopub.status.busy": "2020-11-07T23:24:44.390297Z",
     "iopub.status.idle": "2020-11-07T23:24:44.392569Z",
     "shell.execute_reply": "2020-11-07T23:24:44.393389Z"
    },
    "papermill": {
     "duration": 0.076836,
     "end_time": "2020-11-07T23:24:44.393626",
     "exception": false,
     "start_time": "2020-11-07T23:24:44.316790",
     "status": "completed"
    },
    "pycharm": {
     "name": "#%%\n"
    },
    "tags": []
   },
   "outputs": [],
   "source": [
    "display_column_name_mapping = {\n",
    "    \"sample_date\": \"Sample\\u00A0Date\\u00A0(UTC)\",\n",
    "    \"source_regions\": \"Source Countries\",\n",
    "    \"datetime_utc\": \"Timestamp (UTC)\",\n",
    "    \"upload_date\": \"Upload Date (UTC)\",\n",
    "    \"generation_to_upload_days\": \"Generation to Upload Period in Days\",\n",
    "    \"region\": \"Backend\",\n",
    "    \"region_x\": \"Backend\\u00A0(A)\",\n",
    "    \"region_y\": \"Backend\\u00A0(B)\",\n",
    "    \"common_teks\": \"Common TEKs Shared Between Backends\",\n",
    "    \"common_teks_fraction\": \"Fraction of TEKs in Backend (A) Available in Backend (B)\",\n",
    "    \"covid_cases\": \"COVID-19 Cases in Source Countries (7-day Rolling Average)\",\n",
    "    \"shared_teks_by_generation_date\": \"Shared TEKs by Generation Date\",\n",
    "    \"shared_teks_by_upload_date\": \"Shared TEKs by Upload Date\",\n",
    "    \"shared_diagnoses\": \"Shared Diagnoses (Estimation)\",\n",
    "    \"teks_per_shared_diagnosis\": \"TEKs Uploaded per Shared Diagnosis\",\n",
    "    \"shared_diagnoses_per_covid_case\": \"Usage Ratio (Fraction of Cases in Source Countries Which Shared Diagnosis)\",\n",
    "    \"shared_teks_uploaded_on_generation_date\": \"Shared TEKs Uploaded on Generation Date\",\n",
    "}"
   ]
  },
  {
   "cell_type": "code",
   "execution_count": 49,
   "metadata": {
    "collapsed": false,
    "execution": {
     "iopub.execute_input": "2020-11-07T23:24:44.523964Z",
     "iopub.status.busy": "2020-11-07T23:24:44.523411Z",
     "iopub.status.idle": "2020-11-07T23:24:44.525907Z",
     "shell.execute_reply": "2020-11-07T23:24:44.526433Z"
    },
    "papermill": {
     "duration": 0.0676,
     "end_time": "2020-11-07T23:24:44.526579",
     "exception": false,
     "start_time": "2020-11-07T23:24:44.458979",
     "status": "completed"
    },
    "pycharm": {
     "name": "#%%\n"
    },
    "tags": []
   },
   "outputs": [],
   "source": [
    "summary_columns = [\n",
    "    \"covid_cases\",\n",
    "    \"shared_teks_by_generation_date\",\n",
    "    \"shared_teks_by_upload_date\",\n",
    "    \"shared_teks_uploaded_on_generation_date\",\n",
    "    \"shared_diagnoses\",\n",
    "    \"teks_per_shared_diagnosis\",\n",
    "    \"shared_diagnoses_per_covid_case\",\n",
    "]"
   ]
  },
  {
   "cell_type": "markdown",
   "metadata": {
    "collapsed": false,
    "papermill": {
     "duration": 0.059271,
     "end_time": "2020-11-07T23:24:44.647153",
     "exception": false,
     "start_time": "2020-11-07T23:24:44.587882",
     "status": "completed"
    },
    "tags": []
   },
   "source": [
    "### Daily Summary Table"
   ]
  },
  {
   "cell_type": "code",
   "execution_count": 50,
   "metadata": {
    "collapsed": false,
    "execution": {
     "iopub.execute_input": "2020-11-07T23:24:44.793683Z",
     "iopub.status.busy": "2020-11-07T23:24:44.793057Z",
     "iopub.status.idle": "2020-11-07T23:24:44.796555Z",
     "shell.execute_reply": "2020-11-07T23:24:44.796107Z"
    },
    "papermill": {
     "duration": 0.088166,
     "end_time": "2020-11-07T23:24:44.796680",
     "exception": false,
     "start_time": "2020-11-07T23:24:44.708514",
     "status": "completed"
    },
    "pycharm": {
     "name": "#%%\n"
    },
    "tags": []
   },
   "outputs": [
    {
     "data": {
      "text/html": [
       "<div>\n",
       "<style scoped>\n",
       "    .dataframe tbody tr th:only-of-type {\n",
       "        vertical-align: middle;\n",
       "    }\n",
       "\n",
       "    .dataframe tbody tr th {\n",
       "        vertical-align: top;\n",
       "    }\n",
       "\n",
       "    .dataframe thead th {\n",
       "        text-align: right;\n",
       "    }\n",
       "</style>\n",
       "<table border=\"1\" class=\"dataframe\">\n",
       "  <thead>\n",
       "    <tr style=\"text-align: right;\">\n",
       "      <th></th>\n",
       "      <th></th>\n",
       "      <th>COVID-19 Cases in Source Countries (7-day Rolling Average)</th>\n",
       "      <th>Shared TEKs by Generation Date</th>\n",
       "      <th>Shared TEKs by Upload Date</th>\n",
       "      <th>Shared TEKs Uploaded on Generation Date</th>\n",
       "      <th>Shared Diagnoses (Estimation)</th>\n",
       "      <th>TEKs Uploaded per Shared Diagnosis</th>\n",
       "      <th>Usage Ratio (Fraction of Cases in Source Countries Which Shared Diagnosis)</th>\n",
       "    </tr>\n",
       "    <tr>\n",
       "      <th>Sample Date (UTC)</th>\n",
       "      <th>Source Countries</th>\n",
       "      <th></th>\n",
       "      <th></th>\n",
       "      <th></th>\n",
       "      <th></th>\n",
       "      <th></th>\n",
       "      <th></th>\n",
       "      <th></th>\n",
       "    </tr>\n",
       "  </thead>\n",
       "  <tbody>\n",
       "    <tr>\n",
       "      <th>2020-11-07</th>\n",
       "      <th>ES,DE,IE,IT,LV</th>\n",
       "      <td>69596</td>\n",
       "      <td>313</td>\n",
       "      <td>23688</td>\n",
       "      <td>313</td>\n",
       "      <td>2490</td>\n",
       "      <td>9.513253</td>\n",
       "      <td>0.035778</td>\n",
       "    </tr>\n",
       "    <tr>\n",
       "      <th>2020-11-06</th>\n",
       "      <th>ES,DE,IE,IT,LV</th>\n",
       "      <td>68044</td>\n",
       "      <td>1611</td>\n",
       "      <td>28583</td>\n",
       "      <td>263</td>\n",
       "      <td>2909</td>\n",
       "      <td>9.825713</td>\n",
       "      <td>0.042752</td>\n",
       "    </tr>\n",
       "    <tr>\n",
       "      <th>2020-11-05</th>\n",
       "      <th>ES,DE,IE,IT,LV</th>\n",
       "      <td>67010</td>\n",
       "      <td>4464</td>\n",
       "      <td>26573</td>\n",
       "      <td>267</td>\n",
       "      <td>2696</td>\n",
       "      <td>9.856454</td>\n",
       "      <td>0.040233</td>\n",
       "    </tr>\n",
       "    <tr>\n",
       "      <th>2020-11-04</th>\n",
       "      <th>ES,DE,IE,IT,LV</th>\n",
       "      <td>66020</td>\n",
       "      <td>7141</td>\n",
       "      <td>28247</td>\n",
       "      <td>344</td>\n",
       "      <td>2851</td>\n",
       "      <td>9.907752</td>\n",
       "      <td>0.043184</td>\n",
       "    </tr>\n",
       "    <tr>\n",
       "      <th>2020-11-03</th>\n",
       "      <th>ES,DE,IE,IT,LV</th>\n",
       "      <td>64104</td>\n",
       "      <td>9588</td>\n",
       "      <td>20613</td>\n",
       "      <td>280</td>\n",
       "      <td>1961</td>\n",
       "      <td>10.511474</td>\n",
       "      <td>0.030591</td>\n",
       "    </tr>\n",
       "    <tr>\n",
       "      <th>...</th>\n",
       "      <th>...</th>\n",
       "      <td>...</td>\n",
       "      <td>...</td>\n",
       "      <td>...</td>\n",
       "      <td>...</td>\n",
       "      <td>...</td>\n",
       "      <td>...</td>\n",
       "      <td>...</td>\n",
       "    </tr>\n",
       "    <tr>\n",
       "      <th>2020-08-20</th>\n",
       "      <th>ES</th>\n",
       "      <td>5796</td>\n",
       "      <td>4</td>\n",
       "      <td>0</td>\n",
       "      <td>0</td>\n",
       "      <td>0</td>\n",
       "      <td>0.000000</td>\n",
       "      <td>0.000000</td>\n",
       "    </tr>\n",
       "    <tr>\n",
       "      <th>2020-08-19</th>\n",
       "      <th>ES</th>\n",
       "      <td>5869</td>\n",
       "      <td>1</td>\n",
       "      <td>0</td>\n",
       "      <td>0</td>\n",
       "      <td>0</td>\n",
       "      <td>0.000000</td>\n",
       "      <td>0.000000</td>\n",
       "    </tr>\n",
       "    <tr>\n",
       "      <th>2020-08-18</th>\n",
       "      <th>ES</th>\n",
       "      <td>5369</td>\n",
       "      <td>0</td>\n",
       "      <td>0</td>\n",
       "      <td>0</td>\n",
       "      <td>0</td>\n",
       "      <td>0.000000</td>\n",
       "      <td>0.000000</td>\n",
       "    </tr>\n",
       "    <tr>\n",
       "      <th>2020-08-17</th>\n",
       "      <th>ES</th>\n",
       "      <td>5157</td>\n",
       "      <td>0</td>\n",
       "      <td>0</td>\n",
       "      <td>0</td>\n",
       "      <td>0</td>\n",
       "      <td>0.000000</td>\n",
       "      <td>0.000000</td>\n",
       "    </tr>\n",
       "    <tr>\n",
       "      <th>2020-08-16</th>\n",
       "      <th>ES</th>\n",
       "      <td>4064</td>\n",
       "      <td>0</td>\n",
       "      <td>0</td>\n",
       "      <td>0</td>\n",
       "      <td>0</td>\n",
       "      <td>0.000000</td>\n",
       "      <td>0.000000</td>\n",
       "    </tr>\n",
       "  </tbody>\n",
       "</table>\n",
       "<p>84 rows × 7 columns</p>\n",
       "</div>"
      ],
      "text/plain": [
       "                                    COVID-19 Cases in Source Countries (7-day Rolling Average)  \\\n",
       "Sample Date (UTC) Source Countries                                                               \n",
       "2020-11-07        ES,DE,IE,IT,LV                                                69596            \n",
       "2020-11-06        ES,DE,IE,IT,LV                                                68044            \n",
       "2020-11-05        ES,DE,IE,IT,LV                                                67010            \n",
       "2020-11-04        ES,DE,IE,IT,LV                                                66020            \n",
       "2020-11-03        ES,DE,IE,IT,LV                                                64104            \n",
       "...                                                                               ...            \n",
       "2020-08-20        ES                                                             5796            \n",
       "2020-08-19        ES                                                             5869            \n",
       "2020-08-18        ES                                                             5369            \n",
       "2020-08-17        ES                                                             5157            \n",
       "2020-08-16        ES                                                             4064            \n",
       "\n",
       "                                    Shared TEKs by Generation Date  \\\n",
       "Sample Date (UTC) Source Countries                                   \n",
       "2020-11-07        ES,DE,IE,IT,LV                               313   \n",
       "2020-11-06        ES,DE,IE,IT,LV                              1611   \n",
       "2020-11-05        ES,DE,IE,IT,LV                              4464   \n",
       "2020-11-04        ES,DE,IE,IT,LV                              7141   \n",
       "2020-11-03        ES,DE,IE,IT,LV                              9588   \n",
       "...                                                            ...   \n",
       "2020-08-20        ES                                             4   \n",
       "2020-08-19        ES                                             1   \n",
       "2020-08-18        ES                                             0   \n",
       "2020-08-17        ES                                             0   \n",
       "2020-08-16        ES                                             0   \n",
       "\n",
       "                                    Shared TEKs by Upload Date  \\\n",
       "Sample Date (UTC) Source Countries                               \n",
       "2020-11-07        ES,DE,IE,IT,LV                         23688   \n",
       "2020-11-06        ES,DE,IE,IT,LV                         28583   \n",
       "2020-11-05        ES,DE,IE,IT,LV                         26573   \n",
       "2020-11-04        ES,DE,IE,IT,LV                         28247   \n",
       "2020-11-03        ES,DE,IE,IT,LV                         20613   \n",
       "...                                                        ...   \n",
       "2020-08-20        ES                                         0   \n",
       "2020-08-19        ES                                         0   \n",
       "2020-08-18        ES                                         0   \n",
       "2020-08-17        ES                                         0   \n",
       "2020-08-16        ES                                         0   \n",
       "\n",
       "                                    Shared TEKs Uploaded on Generation Date  \\\n",
       "Sample Date (UTC) Source Countries                                            \n",
       "2020-11-07        ES,DE,IE,IT,LV                                        313   \n",
       "2020-11-06        ES,DE,IE,IT,LV                                        263   \n",
       "2020-11-05        ES,DE,IE,IT,LV                                        267   \n",
       "2020-11-04        ES,DE,IE,IT,LV                                        344   \n",
       "2020-11-03        ES,DE,IE,IT,LV                                        280   \n",
       "...                                                                     ...   \n",
       "2020-08-20        ES                                                      0   \n",
       "2020-08-19        ES                                                      0   \n",
       "2020-08-18        ES                                                      0   \n",
       "2020-08-17        ES                                                      0   \n",
       "2020-08-16        ES                                                      0   \n",
       "\n",
       "                                    Shared Diagnoses (Estimation)  \\\n",
       "Sample Date (UTC) Source Countries                                  \n",
       "2020-11-07        ES,DE,IE,IT,LV                             2490   \n",
       "2020-11-06        ES,DE,IE,IT,LV                             2909   \n",
       "2020-11-05        ES,DE,IE,IT,LV                             2696   \n",
       "2020-11-04        ES,DE,IE,IT,LV                             2851   \n",
       "2020-11-03        ES,DE,IE,IT,LV                             1961   \n",
       "...                                                           ...   \n",
       "2020-08-20        ES                                            0   \n",
       "2020-08-19        ES                                            0   \n",
       "2020-08-18        ES                                            0   \n",
       "2020-08-17        ES                                            0   \n",
       "2020-08-16        ES                                            0   \n",
       "\n",
       "                                    TEKs Uploaded per Shared Diagnosis  \\\n",
       "Sample Date (UTC) Source Countries                                       \n",
       "2020-11-07        ES,DE,IE,IT,LV                              9.513253   \n",
       "2020-11-06        ES,DE,IE,IT,LV                              9.825713   \n",
       "2020-11-05        ES,DE,IE,IT,LV                              9.856454   \n",
       "2020-11-04        ES,DE,IE,IT,LV                              9.907752   \n",
       "2020-11-03        ES,DE,IE,IT,LV                             10.511474   \n",
       "...                                                                ...   \n",
       "2020-08-20        ES                                          0.000000   \n",
       "2020-08-19        ES                                          0.000000   \n",
       "2020-08-18        ES                                          0.000000   \n",
       "2020-08-17        ES                                          0.000000   \n",
       "2020-08-16        ES                                          0.000000   \n",
       "\n",
       "                                    Usage Ratio (Fraction of Cases in Source Countries Which Shared Diagnosis)  \n",
       "Sample Date (UTC) Source Countries                                                                              \n",
       "2020-11-07        ES,DE,IE,IT,LV                                             0.035778                           \n",
       "2020-11-06        ES,DE,IE,IT,LV                                             0.042752                           \n",
       "2020-11-05        ES,DE,IE,IT,LV                                             0.040233                           \n",
       "2020-11-04        ES,DE,IE,IT,LV                                             0.043184                           \n",
       "2020-11-03        ES,DE,IE,IT,LV                                             0.030591                           \n",
       "...                                                                               ...                           \n",
       "2020-08-20        ES                                                         0.000000                           \n",
       "2020-08-19        ES                                                         0.000000                           \n",
       "2020-08-18        ES                                                         0.000000                           \n",
       "2020-08-17        ES                                                         0.000000                           \n",
       "2020-08-16        ES                                                         0.000000                           \n",
       "\n",
       "[84 rows x 7 columns]"
      ]
     },
     "execution_count": 50,
     "metadata": {},
     "output_type": "execute_result"
    }
   ],
   "source": [
    "result_summary_df_ = result_summary_df.copy()\n",
    "result_summary_df = result_summary_df[summary_columns]\n",
    "result_summary_with_display_names_df = result_summary_df \\\n",
    "    .rename_axis(index=display_column_name_mapping) \\\n",
    "    .rename(columns=display_column_name_mapping)\n",
    "result_summary_with_display_names_df"
   ]
  },
  {
   "cell_type": "markdown",
   "metadata": {
    "collapsed": false,
    "papermill": {
     "duration": 0.062568,
     "end_time": "2020-11-07T23:24:44.921925",
     "exception": false,
     "start_time": "2020-11-07T23:24:44.859357",
     "status": "completed"
    },
    "tags": []
   },
   "source": [
    "### Daily Summary Plots"
   ]
  },
  {
   "cell_type": "code",
   "execution_count": 51,
   "metadata": {
    "collapsed": false,
    "execution": {
     "iopub.execute_input": "2020-11-07T23:24:45.057918Z",
     "iopub.status.busy": "2020-11-07T23:24:45.057349Z",
     "iopub.status.idle": "2020-11-07T23:24:46.904757Z",
     "shell.execute_reply": "2020-11-07T23:24:46.905237Z"
    },
    "papermill": {
     "duration": 1.920844,
     "end_time": "2020-11-07T23:24:46.905400",
     "exception": false,
     "start_time": "2020-11-07T23:24:44.984556",
     "status": "completed"
    },
    "pycharm": {
     "name": "#%%\n"
    },
    "tags": []
   },
   "outputs": [
    {
     "data": {
      "image/png": "[encoded data removed]",
      "text/plain": [
       "<Figure size 1080x1584 with 7 Axes>"
      ]
     },
     "metadata": {},
     "output_type": "display_data"
    }
   ],
   "source": [
    "result_plot_summary_df = result_summary_df.head(daily_plot_days)[summary_columns] \\\n",
    "    .droplevel(level=[\"source_regions\"]) \\\n",
    "    .rename_axis(index=display_column_name_mapping) \\\n",
    "    .rename(columns=display_column_name_mapping)\n",
    "summary_ax_list = result_plot_summary_df.sort_index(ascending=True).plot.bar(\n",
    "    title=f\"Daily Summary\",\n",
    "    rot=45, subplots=True, figsize=(15, 22), legend=False)\n",
    "ax_ = summary_ax_list[-1]\n",
    "ax_.get_figure().tight_layout()\n",
    "ax_.get_figure().subplots_adjust(top=0.95)\n",
    "ax_.yaxis.set_major_formatter(matplotlib.ticker.PercentFormatter(1.0))\n",
    "_ = ax_.set_xticklabels(sorted(result_plot_summary_df.index.strftime(\"%Y-%m-%d\").tolist()))"
   ]
  },
  {
   "cell_type": "markdown",
   "metadata": {
    "execution": {
     "iopub.execute_input": "2020-09-02T08:20:14.568088Z",
     "iopub.status.busy": "2020-09-02T08:20:14.567425Z",
     "iopub.status.idle": "2020-09-02T08:20:14.571422Z",
     "shell.execute_reply": "2020-09-02T08:20:14.571952Z"
    },
    "papermill": {
     "duration": 0.0627,
     "end_time": "2020-11-07T23:24:47.036598",
     "exception": false,
     "start_time": "2020-11-07T23:24:46.973898",
     "status": "completed"
    },
    "pycharm": {
     "name": "#%% md\n"
    },
    "tags": []
   },
   "source": [
    "### Daily Generation to Upload Period Table"
   ]
  },
  {
   "cell_type": "code",
   "execution_count": 52,
   "metadata": {
    "execution": {
     "iopub.execute_input": "2020-11-07T23:24:47.181469Z",
     "iopub.status.busy": "2020-11-07T23:24:47.180850Z",
     "iopub.status.idle": "2020-11-07T23:24:47.183344Z",
     "shell.execute_reply": "2020-11-07T23:24:47.183909Z"
    },
    "papermill": {
     "duration": 0.082137,
     "end_time": "2020-11-07T23:24:47.184068",
     "exception": false,
     "start_time": "2020-11-07T23:24:47.101931",
     "status": "completed"
    },
    "pycharm": {
     "name": "#%%\n"
    },
    "tags": []
   },
   "outputs": [
    {
     "data": {
      "text/html": [
       "<div>\n",
       "<style scoped>\n",
       "    .dataframe tbody tr th:only-of-type {\n",
       "        vertical-align: middle;\n",
       "    }\n",
       "\n",
       "    .dataframe tbody tr th {\n",
       "        vertical-align: top;\n",
       "    }\n",
       "\n",
       "    .dataframe thead th {\n",
       "        text-align: right;\n",
       "    }\n",
       "</style>\n",
       "<table border=\"1\" class=\"dataframe\">\n",
       "  <thead>\n",
       "    <tr style=\"text-align: right;\">\n",
       "      <th>Generation to Upload Period in Days</th>\n",
       "      <th>0</th>\n",
       "      <th>1</th>\n",
       "      <th>2</th>\n",
       "      <th>3</th>\n",
       "      <th>4</th>\n",
       "      <th>5</th>\n",
       "      <th>6</th>\n",
       "      <th>7</th>\n",
       "      <th>8</th>\n",
       "      <th>9</th>\n",
       "      <th>10</th>\n",
       "      <th>11</th>\n",
       "      <th>12</th>\n",
       "      <th>13</th>\n",
       "    </tr>\n",
       "    <tr>\n",
       "      <th>Upload Date (UTC)</th>\n",
       "      <th></th>\n",
       "      <th></th>\n",
       "      <th></th>\n",
       "      <th></th>\n",
       "      <th></th>\n",
       "      <th></th>\n",
       "      <th></th>\n",
       "      <th></th>\n",
       "      <th></th>\n",
       "      <th></th>\n",
       "      <th></th>\n",
       "      <th></th>\n",
       "      <th></th>\n",
       "      <th></th>\n",
       "    </tr>\n",
       "  </thead>\n",
       "  <tbody>\n",
       "    <tr>\n",
       "      <th>2020-11-07</th>\n",
       "      <td>313</td>\n",
       "      <td>1348</td>\n",
       "      <td>2490</td>\n",
       "      <td>2247</td>\n",
       "      <td>2086</td>\n",
       "      <td>1959</td>\n",
       "      <td>1838</td>\n",
       "      <td>1775</td>\n",
       "      <td>1724</td>\n",
       "      <td>1670</td>\n",
       "      <td>1624</td>\n",
       "      <td>1581</td>\n",
       "      <td>1532</td>\n",
       "      <td>1501</td>\n",
       "    </tr>\n",
       "    <tr>\n",
       "      <th>2020-11-06</th>\n",
       "      <td>263</td>\n",
       "      <td>1707</td>\n",
       "      <td>2909</td>\n",
       "      <td>2688</td>\n",
       "      <td>2509</td>\n",
       "      <td>2343</td>\n",
       "      <td>2255</td>\n",
       "      <td>2182</td>\n",
       "      <td>2116</td>\n",
       "      <td>2049</td>\n",
       "      <td>1967</td>\n",
       "      <td>1912</td>\n",
       "      <td>1857</td>\n",
       "      <td>1826</td>\n",
       "    </tr>\n",
       "    <tr>\n",
       "      <th>2020-11-05</th>\n",
       "      <td>267</td>\n",
       "      <td>1641</td>\n",
       "      <td>2696</td>\n",
       "      <td>2451</td>\n",
       "      <td>2252</td>\n",
       "      <td>2174</td>\n",
       "      <td>2105</td>\n",
       "      <td>2027</td>\n",
       "      <td>1946</td>\n",
       "      <td>1885</td>\n",
       "      <td>1844</td>\n",
       "      <td>1793</td>\n",
       "      <td>1766</td>\n",
       "      <td>1726</td>\n",
       "    </tr>\n",
       "    <tr>\n",
       "      <th>2020-11-04</th>\n",
       "      <td>344</td>\n",
       "      <td>1838</td>\n",
       "      <td>2851</td>\n",
       "      <td>2522</td>\n",
       "      <td>2429</td>\n",
       "      <td>2336</td>\n",
       "      <td>2226</td>\n",
       "      <td>2120</td>\n",
       "      <td>2055</td>\n",
       "      <td>1992</td>\n",
       "      <td>1936</td>\n",
       "      <td>1890</td>\n",
       "      <td>1873</td>\n",
       "      <td>1835</td>\n",
       "    </tr>\n",
       "    <tr>\n",
       "      <th>2020-11-03</th>\n",
       "      <td>280</td>\n",
       "      <td>1325</td>\n",
       "      <td>1961</td>\n",
       "      <td>1888</td>\n",
       "      <td>1809</td>\n",
       "      <td>1711</td>\n",
       "      <td>1642</td>\n",
       "      <td>1564</td>\n",
       "      <td>1519</td>\n",
       "      <td>1448</td>\n",
       "      <td>1414</td>\n",
       "      <td>1388</td>\n",
       "      <td>1354</td>\n",
       "      <td>1310</td>\n",
       "    </tr>\n",
       "    <tr>\n",
       "      <th>2020-11-02</th>\n",
       "      <td>264</td>\n",
       "      <td>1156</td>\n",
       "      <td>1711</td>\n",
       "      <td>1629</td>\n",
       "      <td>1500</td>\n",
       "      <td>1415</td>\n",
       "      <td>1314</td>\n",
       "      <td>1250</td>\n",
       "      <td>1195</td>\n",
       "      <td>1163</td>\n",
       "      <td>1129</td>\n",
       "      <td>1100</td>\n",
       "      <td>1072</td>\n",
       "      <td>1029</td>\n",
       "    </tr>\n",
       "    <tr>\n",
       "      <th>2020-11-01</th>\n",
       "      <td>277</td>\n",
       "      <td>1038</td>\n",
       "      <td>1842</td>\n",
       "      <td>1654</td>\n",
       "      <td>1495</td>\n",
       "      <td>1375</td>\n",
       "      <td>1302</td>\n",
       "      <td>1241</td>\n",
       "      <td>1196</td>\n",
       "      <td>1168</td>\n",
       "      <td>1123</td>\n",
       "      <td>1075</td>\n",
       "      <td>1046</td>\n",
       "      <td>1016</td>\n",
       "    </tr>\n",
       "    <tr>\n",
       "      <th>2020-10-31</th>\n",
       "      <td>305</td>\n",
       "      <td>1273</td>\n",
       "      <td>2163</td>\n",
       "      <td>1934</td>\n",
       "      <td>1766</td>\n",
       "      <td>1671</td>\n",
       "      <td>1578</td>\n",
       "      <td>1507</td>\n",
       "      <td>1461</td>\n",
       "      <td>1416</td>\n",
       "      <td>1370</td>\n",
       "      <td>1326</td>\n",
       "      <td>1292</td>\n",
       "      <td>1266</td>\n",
       "    </tr>\n",
       "    <tr>\n",
       "      <th>2020-10-30</th>\n",
       "      <td>382</td>\n",
       "      <td>1743</td>\n",
       "      <td>4126</td>\n",
       "      <td>6104</td>\n",
       "      <td>7567</td>\n",
       "      <td>8436</td>\n",
       "      <td>9104</td>\n",
       "      <td>10138</td>\n",
       "      <td>9629</td>\n",
       "      <td>9129</td>\n",
       "      <td>8815</td>\n",
       "      <td>8563</td>\n",
       "      <td>8326</td>\n",
       "      <td>8153</td>\n",
       "    </tr>\n",
       "    <tr>\n",
       "      <th>2020-10-29</th>\n",
       "      <td>397</td>\n",
       "      <td>333</td>\n",
       "      <td>285</td>\n",
       "      <td>237</td>\n",
       "      <td>183</td>\n",
       "      <td>139</td>\n",
       "      <td>82</td>\n",
       "      <td>59</td>\n",
       "      <td>50</td>\n",
       "      <td>30</td>\n",
       "      <td>22</td>\n",
       "      <td>14</td>\n",
       "      <td>10</td>\n",
       "      <td>6</td>\n",
       "    </tr>\n",
       "    <tr>\n",
       "      <th>2020-10-28</th>\n",
       "      <td>406</td>\n",
       "      <td>362</td>\n",
       "      <td>328</td>\n",
       "      <td>263</td>\n",
       "      <td>204</td>\n",
       "      <td>138</td>\n",
       "      <td>88</td>\n",
       "      <td>62</td>\n",
       "      <td>35</td>\n",
       "      <td>17</td>\n",
       "      <td>10</td>\n",
       "      <td>7</td>\n",
       "      <td>7</td>\n",
       "      <td>6</td>\n",
       "    </tr>\n",
       "    <tr>\n",
       "      <th>2020-10-27</th>\n",
       "      <td>231</td>\n",
       "      <td>187</td>\n",
       "      <td>164</td>\n",
       "      <td>123</td>\n",
       "      <td>98</td>\n",
       "      <td>77</td>\n",
       "      <td>44</td>\n",
       "      <td>28</td>\n",
       "      <td>22</td>\n",
       "      <td>11</td>\n",
       "      <td>3</td>\n",
       "      <td>0</td>\n",
       "      <td>0</td>\n",
       "      <td>0</td>\n",
       "    </tr>\n",
       "    <tr>\n",
       "      <th>2020-10-26</th>\n",
       "      <td>215</td>\n",
       "      <td>170</td>\n",
       "      <td>145</td>\n",
       "      <td>124</td>\n",
       "      <td>105</td>\n",
       "      <td>85</td>\n",
       "      <td>51</td>\n",
       "      <td>32</td>\n",
       "      <td>24</td>\n",
       "      <td>18</td>\n",
       "      <td>12</td>\n",
       "      <td>6</td>\n",
       "      <td>5</td>\n",
       "      <td>2</td>\n",
       "    </tr>\n",
       "    <tr>\n",
       "      <th>2020-10-25</th>\n",
       "      <td>179</td>\n",
       "      <td>104</td>\n",
       "      <td>95</td>\n",
       "      <td>82</td>\n",
       "      <td>71</td>\n",
       "      <td>55</td>\n",
       "      <td>37</td>\n",
       "      <td>25</td>\n",
       "      <td>15</td>\n",
       "      <td>8</td>\n",
       "      <td>5</td>\n",
       "      <td>2</td>\n",
       "      <td>1</td>\n",
       "      <td>0</td>\n",
       "    </tr>\n",
       "  </tbody>\n",
       "</table>\n",
       "</div>"
      ],
      "text/plain": [
       "Generation to Upload Period in Days   0     1     2     3     4     5     6   \\\n",
       "Upload Date (UTC)                                                              \n",
       "2020-11-07                           313  1348  2490  2247  2086  1959  1838   \n",
       "2020-11-06                           263  1707  2909  2688  2509  2343  2255   \n",
       "2020-11-05                           267  1641  2696  2451  2252  2174  2105   \n",
       "2020-11-04                           344  1838  2851  2522  2429  2336  2226   \n",
       "2020-11-03                           280  1325  1961  1888  1809  1711  1642   \n",
       "2020-11-02                           264  1156  1711  1629  1500  1415  1314   \n",
       "2020-11-01                           277  1038  1842  1654  1495  1375  1302   \n",
       "2020-10-31                           305  1273  2163  1934  1766  1671  1578   \n",
       "2020-10-30                           382  1743  4126  6104  7567  8436  9104   \n",
       "2020-10-29                           397   333   285   237   183   139    82   \n",
       "2020-10-28                           406   362   328   263   204   138    88   \n",
       "2020-10-27                           231   187   164   123    98    77    44   \n",
       "2020-10-26                           215   170   145   124   105    85    51   \n",
       "2020-10-25                           179   104    95    82    71    55    37   \n",
       "\n",
       "Generation to Upload Period in Days     7     8     9     10    11    12    13  \n",
       "Upload Date (UTC)                                                               \n",
       "2020-11-07                            1775  1724  1670  1624  1581  1532  1501  \n",
       "2020-11-06                            2182  2116  2049  1967  1912  1857  1826  \n",
       "2020-11-05                            2027  1946  1885  1844  1793  1766  1726  \n",
       "2020-11-04                            2120  2055  1992  1936  1890  1873  1835  \n",
       "2020-11-03                            1564  1519  1448  1414  1388  1354  1310  \n",
       "2020-11-02                            1250  1195  1163  1129  1100  1072  1029  \n",
       "2020-11-01                            1241  1196  1168  1123  1075  1046  1016  \n",
       "2020-10-31                            1507  1461  1416  1370  1326  1292  1266  \n",
       "2020-10-30                           10138  9629  9129  8815  8563  8326  8153  \n",
       "2020-10-29                              59    50    30    22    14    10     6  \n",
       "2020-10-28                              62    35    17    10     7     7     6  \n",
       "2020-10-27                              28    22    11     3     0     0     0  \n",
       "2020-10-26                              32    24    18    12     6     5     2  \n",
       "2020-10-25                              25    15     8     5     2     1     0  "
      ]
     },
     "execution_count": 52,
     "metadata": {},
     "output_type": "execute_result"
    }
   ],
   "source": [
    "display_generation_to_upload_period_pivot_df = \\\n",
    "    generation_to_upload_period_pivot_df \\\n",
    "        .head(backend_generation_days)\n",
    "display_generation_to_upload_period_pivot_df \\\n",
    "    .head(backend_generation_days) \\\n",
    "    .rename_axis(columns=display_column_name_mapping) \\\n",
    "    .rename_axis(index=display_column_name_mapping)"
   ]
  },
  {
   "cell_type": "code",
   "execution_count": 53,
   "metadata": {
    "collapsed": false,
    "execution": {
     "iopub.execute_input": "2020-11-07T23:24:47.318358Z",
     "iopub.status.busy": "2020-11-07T23:24:47.317805Z",
     "iopub.status.idle": "2020-11-07T23:24:48.231287Z",
     "shell.execute_reply": "2020-11-07T23:24:48.231729Z"
    },
    "papermill": {
     "duration": 0.986569,
     "end_time": "2020-11-07T23:24:48.231892",
     "exception": false,
     "start_time": "2020-11-07T23:24:47.245323",
     "status": "completed"
    },
    "pycharm": {
     "name": "#%%\n"
    },
    "tags": []
   },
   "outputs": [
    {
     "data": {
      "image/png": "[encoded data removed]",
      "text/plain": [
       "<Figure size 864x676.8 with 2 Axes>"
      ]
     },
     "metadata": {},
     "output_type": "display_data"
    }
   ],
   "source": [
    "fig, generation_to_upload_period_pivot_table_ax = plt.subplots(\n",
    "    figsize=(12, 1 + 0.6 * len(display_generation_to_upload_period_pivot_df)))\n",
    "generation_to_upload_period_pivot_table_ax.set_title(\n",
    "    \"Shared TEKs Generation to Upload Period Table\")\n",
    "sns.heatmap(\n",
    "    data=display_generation_to_upload_period_pivot_df\n",
    "        .rename_axis(columns=display_column_name_mapping)\n",
    "        .rename_axis(index=display_column_name_mapping),\n",
    "    fmt=\".0f\",\n",
    "    annot=True,\n",
    "    ax=generation_to_upload_period_pivot_table_ax)\n",
    "generation_to_upload_period_pivot_table_ax.get_figure().tight_layout()"
   ]
  },
  {
   "cell_type": "markdown",
   "metadata": {
    "collapsed": false,
    "papermill": {
     "duration": 0.070231,
     "end_time": "2020-11-07T23:24:48.373807",
     "exception": false,
     "start_time": "2020-11-07T23:24:48.303576",
     "status": "completed"
    },
    "tags": []
   },
   "source": [
    "### Hourly Summary Plots "
   ]
  },
  {
   "cell_type": "code",
   "execution_count": 54,
   "metadata": {
    "collapsed": false,
    "execution": {
     "iopub.execute_input": "2020-11-07T23:24:48.537904Z",
     "iopub.status.busy": "2020-11-07T23:24:48.523225Z",
     "iopub.status.idle": "2020-11-07T23:24:48.831642Z",
     "shell.execute_reply": "2020-11-07T23:24:48.832397Z"
    },
    "papermill": {
     "duration": 0.391638,
     "end_time": "2020-11-07T23:24:48.832559",
     "exception": false,
     "start_time": "2020-11-07T23:24:48.440921",
     "status": "completed"
    },
    "pycharm": {
     "name": "#%%\n"
    },
    "tags": []
   },
   "outputs": [
    {
     "data": {
      "image/png": "[encoded data removed]",
      "text/plain": [
       "<Figure size 1080x432 with 1 Axes>"
      ]
     },
     "metadata": {},
     "output_type": "display_data"
    }
   ],
   "source": [
    "hourly_summary_ax_list = hourly_summary_df \\\n",
    "    .rename_axis(index=display_column_name_mapping) \\\n",
    "    .rename(columns=display_column_name_mapping) \\\n",
    "    .plot.bar(\n",
    "        title=f\"Last 24h Summary\",\n",
    "        rot=45, subplots=True, legend=False)\n",
    "ax_ = hourly_summary_ax_list[-1]\n",
    "ax_.get_figure().tight_layout()\n",
    "ax_.get_figure().subplots_adjust(top=0.9)\n",
    "_ = ax_.set_xticklabels(sorted(hourly_summary_df.index.strftime(\"%Y-%m-%d@%H\").tolist()))"
   ]
  },
  {
   "cell_type": "markdown",
   "metadata": {
    "collapsed": false,
    "papermill": {
     "duration": 0.068827,
     "end_time": "2020-11-07T23:24:48.971842",
     "exception": false,
     "start_time": "2020-11-07T23:24:48.903015",
     "status": "completed"
    },
    "tags": []
   },
   "source": [
    "### Publish Results"
   ]
  },
  {
   "cell_type": "code",
   "execution_count": 55,
   "metadata": {
    "collapsed": false,
    "execution": {
     "iopub.execute_input": "2020-11-07T23:24:49.119134Z",
     "iopub.status.busy": "2020-11-07T23:24:49.118559Z",
     "iopub.status.idle": "2020-11-07T23:24:49.121015Z",
     "shell.execute_reply": "2020-11-07T23:24:49.121462Z"
    },
    "papermill": {
     "duration": 0.078039,
     "end_time": "2020-11-07T23:24:49.121614",
     "exception": false,
     "start_time": "2020-11-07T23:24:49.043575",
     "status": "completed"
    },
    "pycharm": {
     "name": "#%%\n"
    },
    "tags": []
   },
   "outputs": [],
   "source": [
    "def get_temporary_image_path() -> str:\n",
    "    return os.path.join(tempfile.gettempdir(), str(uuid.uuid4()) + \".png\")\n",
    "\n",
    "def save_temporary_plot_image(ax):\n",
    "    if isinstance(ax, np.ndarray):\n",
    "        ax = ax[0]\n",
    "    media_path = get_temporary_image_path()\n",
    "    ax.get_figure().savefig(media_path)\n",
    "    return media_path\n",
    "\n",
    "def save_temporary_dataframe_image(df):\n",
    "    import dataframe_image as dfi\n",
    "    media_path = get_temporary_image_path()\n",
    "    dfi.export(df, media_path)\n",
    "    return media_path"
   ]
  },
  {
   "cell_type": "code",
   "execution_count": 56,
   "metadata": {
    "collapsed": false,
    "execution": {
     "iopub.execute_input": "2020-11-07T23:24:49.303951Z",
     "iopub.status.busy": "2020-11-07T23:24:49.271250Z",
     "iopub.status.idle": "2020-11-07T23:24:49.306293Z",
     "shell.execute_reply": "2020-11-07T23:24:49.306731Z"
    },
    "papermill": {
     "duration": 0.114932,
     "end_time": "2020-11-07T23:24:49.306889",
     "exception": false,
     "start_time": "2020-11-07T23:24:49.191957",
     "status": "completed"
    },
    "pycharm": {
     "name": "#%%\n"
    },
    "tags": []
   },
   "outputs": [
    {
     "name": "stderr",
     "output_type": "stream",
     "text": [
      "<ipython-input-56-300f594104ba>:64: FutureWarning: `item` has been deprecated and will be removed in a future version\n",
      "  report_source_regions = extraction_date_result_summary_df.index \\\n"
     ]
    }
   ],
   "source": [
    "github_repository = os.environ.get(\"GITHUB_REPOSITORY\")\n",
    "if github_repository is None:\n",
    "    github_repository = \"pvieito/Radar-STATS\"\n",
    "\n",
    "github_project_base_url = \"https://github.com/\" + github_repository\n",
    "\n",
    "display_formatters = {\n",
    "    display_column_name_mapping[\"teks_per_shared_diagnosis\"]: lambda x: f\"{x:.2f}\",\n",
    "    display_column_name_mapping[\"shared_diagnoses_per_covid_case\"]: lambda x: f\"{x:.2%}\",\n",
    "}\n",
    "daily_summary_table_html = result_summary_with_display_names_df \\\n",
    "    .head(daily_plot_days) \\\n",
    "    .rename_axis(index=display_column_name_mapping) \\\n",
    "    .rename(columns=display_column_name_mapping) \\\n",
    "    .to_html(formatters=display_formatters)\n",
    "multi_backend_summary_table_html = multi_backend_summary_df \\\n",
    "    .head(daily_plot_days) \\\n",
    "    .rename_axis(columns=display_column_name_mapping) \\\n",
    "    .rename(columns=display_column_name_mapping) \\\n",
    "    .rename_axis(index=display_column_name_mapping) \\\n",
    "    .to_html(formatters=display_formatters)\n",
    "\n",
    "def format_multi_backend_cross_sharing_fraction(x):\n",
    "    if pd.isna(x):\n",
    "        return \"-\"\n",
    "    elif round(x * 100, 1) == 0:\n",
    "        return \"\"\n",
    "    else:\n",
    "        return f\"{x:.1%}\"\n",
    "\n",
    "multi_backend_cross_sharing_summary_table_html = multi_backend_cross_sharing_summary_df \\\n",
    "    .rename_axis(columns=display_column_name_mapping) \\\n",
    "    .rename(columns=display_column_name_mapping) \\\n",
    "    .rename_axis(index=display_column_name_mapping) \\\n",
    "    .to_html(\n",
    "        classes=\"table-center\",\n",
    "        formatters=display_formatters,\n",
    "        float_format=format_multi_backend_cross_sharing_fraction)\n",
    "multi_backend_cross_sharing_summary_table_html = \\\n",
    "    multi_backend_cross_sharing_summary_table_html \\\n",
    "        .replace(\"<tr>\",\"<tr style=\\\"text-align: center;\\\">\")\n",
    "\n",
    "extraction_date_result_summary_df = \\\n",
    "    result_summary_df[result_summary_df.index.get_level_values(\"sample_date\") == extraction_date]\n",
    "extraction_date_result_hourly_summary_df = \\\n",
    "    hourly_summary_df[hourly_summary_df.extraction_date_with_hour == extraction_date_with_hour]\n",
    "\n",
    "covid_cases = \\\n",
    "    extraction_date_result_summary_df.covid_cases.sum()\n",
    "shared_teks_by_generation_date = \\\n",
    "    extraction_date_result_summary_df.shared_teks_by_generation_date.sum()\n",
    "shared_teks_by_upload_date = \\\n",
    "    extraction_date_result_summary_df.shared_teks_by_upload_date.sum()\n",
    "shared_diagnoses = \\\n",
    "    extraction_date_result_summary_df.shared_diagnoses.sum()\n",
    "teks_per_shared_diagnosis = \\\n",
    "    extraction_date_result_summary_df.teks_per_shared_diagnosis.sum()\n",
    "shared_diagnoses_per_covid_case = \\\n",
    "    extraction_date_result_summary_df.shared_diagnoses_per_covid_case.sum()\n",
    "\n",
    "shared_teks_by_upload_date_last_hour = \\\n",
    "    extraction_date_result_hourly_summary_df.shared_teks_by_upload_date.sum().astype(int)\n",
    "\n",
    "report_source_regions = extraction_date_result_summary_df.index \\\n",
    "    .get_level_values(\"source_regions\").item().split(\",\")\n",
    "\n",
    "display_source_regions = \", \".join(report_source_regions)\n",
    "if len(report_source_regions) == 1:\n",
    "    display_brief_source_regions = report_source_regions[0]\n",
    "else:\n",
    "    display_brief_source_regions = f\"{len(report_source_regions)} 🇪🇺\""
   ]
  },
  {
   "cell_type": "code",
   "execution_count": 57,
   "metadata": {
    "execution": {
     "iopub.execute_input": "2020-11-07T23:24:49.459481Z",
     "iopub.status.busy": "2020-11-07T23:24:49.455411Z",
     "iopub.status.idle": "2020-11-07T23:25:05.118497Z",
     "shell.execute_reply": "2020-11-07T23:25:05.119382Z"
    },
    "papermill": {
     "duration": 15.740015,
     "end_time": "2020-11-07T23:25:05.119551",
     "exception": false,
     "start_time": "2020-11-07T23:24:49.379536",
     "status": "completed"
    },
    "pycharm": {
     "name": "#%%\n"
    },
    "tags": []
   },
   "outputs": [],
   "source": [
    "summary_plots_image_path = save_temporary_plot_image(\n",
    "    ax=summary_ax_list)\n",
    "summary_table_image_path = save_temporary_dataframe_image(\n",
    "    df=result_summary_with_display_names_df)\n",
    "hourly_summary_plots_image_path = save_temporary_plot_image(\n",
    "    ax=hourly_summary_ax_list)\n",
    "multi_backend_summary_table_image_path = save_temporary_dataframe_image(\n",
    "    df=multi_backend_summary_df)\n",
    "generation_to_upload_period_pivot_table_image_path = save_temporary_plot_image(\n",
    "    ax=generation_to_upload_period_pivot_table_ax)"
   ]
  },
  {
   "cell_type": "markdown",
   "metadata": {
    "execution": {
     "iopub.execute_input": "2020-09-02T08:20:16.981187Z",
     "iopub.status.busy": "2020-09-02T08:20:16.980584Z",
     "iopub.status.idle": "2020-09-02T08:20:20.068070Z",
     "shell.execute_reply": "2020-09-02T08:20:20.068598Z"
    },
    "papermill": {
     "duration": 0.076892,
     "end_time": "2020-11-07T23:25:05.270892",
     "exception": false,
     "start_time": "2020-11-07T23:25:05.194000",
     "status": "completed"
    },
    "pycharm": {
     "name": "#%% md\n"
    },
    "tags": []
   },
   "source": [
    "### Save Results"
   ]
  },
  {
   "cell_type": "code",
   "execution_count": 58,
   "metadata": {
    "collapsed": false,
    "execution": {
     "iopub.execute_input": "2020-11-07T23:25:05.425323Z",
     "iopub.status.busy": "2020-11-07T23:25:05.424640Z",
     "iopub.status.idle": "2020-11-07T23:25:05.467608Z",
     "shell.execute_reply": "2020-11-07T23:25:05.466818Z"
    },
    "papermill": {
     "duration": 0.121487,
     "end_time": "2020-11-07T23:25:05.467817",
     "exception": false,
     "start_time": "2020-11-07T23:25:05.346330",
     "status": "completed"
    },
    "pycharm": {
     "name": "#%%\n"
    },
    "tags": []
   },
   "outputs": [],
   "source": [
    "report_resources_path_prefix = \"Data/Resources/Current/RadarCOVID-Report-\"\n",
    "result_summary_df.to_csv(\n",
    "    report_resources_path_prefix + \"Summary-Table.csv\")\n",
    "result_summary_df.to_html(\n",
    "    report_resources_path_prefix + \"Summary-Table.html\")\n",
    "hourly_summary_df.to_csv(\n",
    "    report_resources_path_prefix + \"Hourly-Summary-Table.csv\")\n",
    "multi_backend_summary_df.to_csv(\n",
    "    report_resources_path_prefix + \"Multi-Backend-Summary-Table.csv\")\n",
    "multi_backend_cross_sharing_summary_df.to_csv(\n",
    "    report_resources_path_prefix + \"Multi-Backend-Cross-Sharing-Summary-Table.csv\")\n",
    "generation_to_upload_period_pivot_df.to_csv(\n",
    "    report_resources_path_prefix + \"Generation-Upload-Period-Table.csv\")\n",
    "_ = shutil.copyfile(\n",
    "    summary_plots_image_path,\n",
    "    report_resources_path_prefix + \"Summary-Plots.png\")\n",
    "_ = shutil.copyfile(\n",
    "    summary_table_image_path,\n",
    "    report_resources_path_prefix + \"Summary-Table.png\")\n",
    "_ = shutil.copyfile(\n",
    "    hourly_summary_plots_image_path,\n",
    "    report_resources_path_prefix + \"Hourly-Summary-Plots.png\")\n",
    "_ = shutil.copyfile(\n",
    "    multi_backend_summary_table_image_path,\n",
    "    report_resources_path_prefix + \"Multi-Backend-Summary-Table.png\")\n",
    "_ = shutil.copyfile(\n",
    "    generation_to_upload_period_pivot_table_image_path,\n",
    "    report_resources_path_prefix + \"Generation-Upload-Period-Table.png\")"
   ]
  },
  {
   "cell_type": "markdown",
   "metadata": {
    "collapsed": false,
    "papermill": {
     "duration": 0.073127,
     "end_time": "2020-11-07T23:25:05.615271",
     "exception": false,
     "start_time": "2020-11-07T23:25:05.542144",
     "status": "completed"
    },
    "pycharm": {
     "name": "#%% md\n"
    },
    "tags": []
   },
   "source": [
    "### Publish Results as JSON"
   ]
  },
  {
   "cell_type": "code",
   "execution_count": 59,
   "metadata": {
    "execution": {
     "iopub.execute_input": "2020-11-07T23:25:05.781432Z",
     "iopub.status.busy": "2020-11-07T23:25:05.780809Z",
     "iopub.status.idle": "2020-11-07T23:25:05.785357Z",
     "shell.execute_reply": "2020-11-07T23:25:05.785795Z"
    },
    "papermill": {
     "duration": 0.096062,
     "end_time": "2020-11-07T23:25:05.785948",
     "exception": false,
     "start_time": "2020-11-07T23:25:05.689886",
     "status": "completed"
    },
    "pycharm": {
     "name": "#%%\n"
    },
    "tags": []
   },
   "outputs": [],
   "source": [
    "summary_results_api_df = result_summary_df.reset_index()\n",
    "summary_results_api_df[\"sample_date_string\"] = \\\n",
    "    summary_results_api_df[\"sample_date\"].dt.strftime(\"%Y-%m-%d\")\n",
    "summary_results_api_df[\"source_regions\"] = \\\n",
    "    summary_results_api_df[\"source_regions\"].apply(lambda x: x.split(\",\"))\n",
    "\n",
    "today_summary_results_api_df = \\\n",
    "    summary_results_api_df.to_dict(orient=\"records\")[0]\n",
    "\n",
    "summary_results = dict(\n",
    "    backend_identifier=report_backend_identifier,\n",
    "    source_regions=report_source_regions,\n",
    "    extraction_datetime=extraction_datetime,\n",
    "    extraction_date=extraction_date,\n",
    "    extraction_date_with_hour=extraction_date_with_hour,\n",
    "    last_hour=dict(\n",
    "        shared_teks_by_upload_date=shared_teks_by_upload_date_last_hour,\n",
    "        shared_diagnoses=0,\n",
    "    ),\n",
    "    today=today_summary_results_api_df,\n",
    "    last_7_days=last_7_days_summary,\n",
    "    daily_results=summary_results_api_df.to_dict(orient=\"records\"))\n",
    "summary_results = \\\n",
    "    json.loads(pd.Series([summary_results]).to_json(orient=\"records\"))[0]\n",
    "\n",
    "with open(report_resources_path_prefix + \"Summary-Results.json\", \"w\") as f:\n",
    "    json.dump(summary_results, f, indent=4)"
   ]
  },
  {
   "cell_type": "markdown",
   "metadata": {
    "execution": {
     "iopub.execute_input": "2020-09-02T08:20:20.895901Z",
     "iopub.status.busy": "2020-09-02T08:20:20.895301Z",
     "iopub.status.idle": "2020-09-02T08:20:20.942286Z",
     "shell.execute_reply": "2020-09-02T08:20:20.942834Z"
    },
    "papermill": {
     "duration": 0.072735,
     "end_time": "2020-11-07T23:25:05.930699",
     "exception": false,
     "start_time": "2020-11-07T23:25:05.857964",
     "status": "completed"
    },
    "pycharm": {
     "name": "#%% md\n"
    },
    "tags": []
   },
   "source": [
    "### Publish on README"
   ]
  },
  {
   "cell_type": "code",
   "execution_count": 60,
   "metadata": {
    "collapsed": false,
    "execution": {
     "iopub.execute_input": "2020-11-07T23:25:06.081196Z",
     "iopub.status.busy": "2020-11-07T23:25:06.080591Z",
     "iopub.status.idle": "2020-11-07T23:25:06.083501Z",
     "shell.execute_reply": "2020-11-07T23:25:06.084026Z"
    },
    "papermill": {
     "duration": 0.080345,
     "end_time": "2020-11-07T23:25:06.084177",
     "exception": false,
     "start_time": "2020-11-07T23:25:06.003832",
     "status": "completed"
    },
    "pycharm": {
     "name": "#%%\n"
    },
    "tags": []
   },
   "outputs": [],
   "source": [
    "with open(\"Data/Templates/README.md\", \"r\") as f:\n",
    "    readme_contents = f.read()\n",
    "\n",
    "readme_contents = readme_contents.format(\n",
    "    extraction_date_with_hour=extraction_date_with_hour,\n",
    "    github_project_base_url=github_project_base_url,\n",
    "    daily_summary_table_html=daily_summary_table_html,\n",
    "    multi_backend_summary_table_html=multi_backend_summary_table_html,\n",
    "    multi_backend_cross_sharing_summary_table_html=multi_backend_cross_sharing_summary_table_html,\n",
    "    display_source_regions=display_source_regions)\n",
    "\n",
    "with open(\"README.md\", \"w\") as f:\n",
    "    f.write(readme_contents)"
   ]
  },
  {
   "cell_type": "markdown",
   "metadata": {
    "collapsed": false,
    "papermill": {
     "duration": 0.073443,
     "end_time": "2020-11-07T23:25:06.232216",
     "exception": false,
     "start_time": "2020-11-07T23:25:06.158773",
     "status": "completed"
    },
    "pycharm": {
     "name": "#%% md\n"
    },
    "tags": []
   },
   "source": [
    "### Publish on Twitter"
   ]
  },
  {
   "cell_type": "code",
   "execution_count": 61,
   "metadata": {
    "collapsed": false,
    "execution": {
     "iopub.execute_input": "2020-11-07T23:25:06.386738Z",
     "iopub.status.busy": "2020-11-07T23:25:06.386091Z",
     "iopub.status.idle": "2020-11-07T23:25:15.775678Z",
     "shell.execute_reply": "2020-11-07T23:25:15.775184Z"
    },
    "papermill": {
     "duration": 9.470831,
     "end_time": "2020-11-07T23:25:15.775808",
     "exception": false,
     "start_time": "2020-11-07T23:25:06.304977",
     "status": "completed"
    },
    "pycharm": {
     "name": "#%%\n"
    },
    "tags": []
   },
   "outputs": [],
   "source": [
    "enable_share_to_twitter = os.environ.get(\"RADARCOVID_REPORT__ENABLE_PUBLISH_ON_TWITTER\")\n",
    "github_event_name = os.environ.get(\"GITHUB_EVENT_NAME\")\n",
    "\n",
    "if enable_share_to_twitter and github_event_name == \"schedule\" and \\\n",
    "        (shared_teks_by_upload_date_last_hour or not are_today_results_partial):\n",
    "    import tweepy\n",
    "\n",
    "    twitter_api_auth_keys = os.environ[\"RADARCOVID_REPORT__TWITTER_API_AUTH_KEYS\"]\n",
    "    twitter_api_auth_keys = twitter_api_auth_keys.split(\":\")\n",
    "    auth = tweepy.OAuthHandler(twitter_api_auth_keys[0], twitter_api_auth_keys[1])\n",
    "    auth.set_access_token(twitter_api_auth_keys[2], twitter_api_auth_keys[3])\n",
    "\n",
    "    api = tweepy.API(auth)\n",
    "\n",
    "    summary_plots_media = api.media_upload(summary_plots_image_path)\n",
    "    summary_table_media = api.media_upload(summary_table_image_path)\n",
    "    generation_to_upload_period_pivot_table_image_media = api.media_upload(generation_to_upload_period_pivot_table_image_path)\n",
    "    media_ids = [\n",
    "        summary_plots_media.media_id,\n",
    "        summary_table_media.media_id,\n",
    "        generation_to_upload_period_pivot_table_image_media.media_id,\n",
    "    ]\n",
    "\n",
    "    if are_today_results_partial:\n",
    "        today_addendum = \" (Partial)\"\n",
    "    else:\n",
    "        today_addendum = \"\"\n",
    "\n",
    "    status = textwrap.dedent(f\"\"\"\n",
    "        #RadarCOVID – {extraction_date_with_hour}\n",
    "\n",
    "        Source Countries: {display_brief_source_regions}\n",
    "\n",
    "        Today{today_addendum}:\n",
    "        - Uploaded TEKs: {shared_teks_by_upload_date:.0f} ({shared_teks_by_upload_date_last_hour:+d} last hour)\n",
    "        - Shared Diagnoses: ≤{shared_diagnoses:.0f}\n",
    "        - Usage Ratio: ≤{shared_diagnoses_per_covid_case:.2%}\n",
    "\n",
    "        Last 7 Days:\n",
    "        - Shared Diagnoses: ≤{last_7_days_summary[\"shared_diagnoses\"]:.0f}\n",
    "        - Usage Ratio: ≤{last_7_days_summary[\"shared_diagnoses_per_covid_case\"]:.2%}\n",
    "\n",
    "        Info: {github_project_base_url}#documentation\n",
    "        \"\"\")\n",
    "    status = status.encode(encoding=\"utf-8\")\n",
    "    api.update_status(status=status, media_ids=media_ids)"
   ]
  }
 ],
 "metadata": {
  "kernelspec": {
   "display_name": "Python 3",
   "language": "python",
   "name": "python3"
  },
  "language_info": {
   "codemirror_mode": {
    "name": "ipython",
    "version": 3
   },
   "file_extension": ".py",
   "mimetype": "text/x-python",
   "name": "python",
   "nbconvert_exporter": "python",
   "pygments_lexer": "ipython3",
   "version": "3.8.6"
  },
  "papermill": {
   "duration": 414.460599,
   "end_time": "2020-11-07T23:25:17.664687",
   "environment_variables": {},
   "exception": null,
   "input_path": "Notebooks/RadarCOVID-Report/Source/RadarCOVID-Report.ipynb",
   "output_path": "RadarCOVID-Report.ipynb",
   "parameters": {},
   "start_time": "2020-11-07T23:18:23.204088",
   "version": "2.1.3"
  }
 },
 "nbformat": 4,
 "nbformat_minor": 1
}