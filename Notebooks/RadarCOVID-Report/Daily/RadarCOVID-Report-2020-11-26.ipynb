{
 "cells": [
  {
   "cell_type": "markdown",
   "metadata": {
    "papermill": {
     "duration": 0.043098,
     "end_time": "2020-11-26T23:19:47.360449",
     "exception": false,
     "start_time": "2020-11-26T23:19:47.317351",
     "status": "completed"
    },
    "pycharm": {
     "name": "#%% md\n"
    },
    "tags": []
   },
   "source": [
    "# RadarCOVID-Report"
   ]
  },
  {
   "cell_type": "markdown",
   "metadata": {
    "collapsed": true,
    "papermill": {
     "duration": 0.039804,
     "end_time": "2020-11-26T23:19:47.440707",
     "exception": false,
     "start_time": "2020-11-26T23:19:47.400903",
     "status": "completed"
    },
    "pycharm": {
     "name": "#%% md\n"
    },
    "tags": []
   },
   "source": [
    "## Data Extraction"
   ]
  },
  {
   "cell_type": "code",
   "execution_count": 1,
   "metadata": {
    "execution": {
     "iopub.execute_input": "2020-11-26T23:19:47.527999Z",
     "iopub.status.busy": "2020-11-26T23:19:47.527216Z",
     "iopub.status.idle": "2020-11-26T23:19:49.545643Z",
     "shell.execute_reply": "2020-11-26T23:19:49.544455Z"
    },
    "papermill": {
     "duration": 2.06529,
     "end_time": "2020-11-26T23:19:49.545858",
     "exception": false,
     "start_time": "2020-11-26T23:19:47.480568",
     "status": "completed"
    },
    "pycharm": {
     "name": "#%%\n"
    },
    "tags": []
   },
   "outputs": [],
   "source": [
    "import datetime\n",
    "import json\n",
    "import logging\n",
    "import os\n",
    "import shutil\n",
    "import tempfile\n",
    "import textwrap\n",
    "import uuid\n",
    "\n",
    "import matplotlib.pyplot as plt\n",
    "import matplotlib.ticker\n",
    "import numpy as np\n",
    "import pandas as pd\n",
    "import retry\n",
    "import seaborn as sns\n",
    "\n",
    "%matplotlib inline"
   ]
  },
  {
   "cell_type": "code",
   "execution_count": 2,
   "metadata": {
    "collapsed": false,
    "execution": {
     "iopub.execute_input": "2020-11-26T23:19:49.635007Z",
     "iopub.status.busy": "2020-11-26T23:19:49.634406Z",
     "iopub.status.idle": "2020-11-26T23:19:49.636208Z",
     "shell.execute_reply": "2020-11-26T23:19:49.636711Z"
    },
    "papermill": {
     "duration": 0.049664,
     "end_time": "2020-11-26T23:19:49.636872",
     "exception": false,
     "start_time": "2020-11-26T23:19:49.587208",
     "status": "completed"
    },
    "pycharm": {
     "name": "#%%\n"
    },
    "tags": []
   },
   "outputs": [],
   "source": [
    "current_working_directory = os.environ.get(\"PWD\")\n",
    "if current_working_directory:\n",
    "    os.chdir(current_working_directory)\n",
    "\n",
    "sns.set()\n",
    "matplotlib.rcParams[\"figure.figsize\"] = (15, 6)\n",
    "\n",
    "extraction_datetime = datetime.datetime.utcnow()\n",
    "extraction_date = extraction_datetime.strftime(\"%Y-%m-%d\")\n",
    "extraction_previous_datetime = extraction_datetime - datetime.timedelta(days=1)\n",
    "extraction_previous_date = extraction_previous_datetime.strftime(\"%Y-%m-%d\")\n",
    "extraction_date_with_hour = datetime.datetime.utcnow().strftime(\"%Y-%m-%d@%H\")\n",
    "current_hour = datetime.datetime.utcnow().hour\n",
    "are_today_results_partial = current_hour != 23"
   ]
  },
  {
   "cell_type": "markdown",
   "metadata": {
    "collapsed": false,
    "papermill": {
     "duration": 0.040045,
     "end_time": "2020-11-26T23:19:49.717009",
     "exception": false,
     "start_time": "2020-11-26T23:19:49.676964",
     "status": "completed"
    },
    "tags": []
   },
   "source": [
    "### Constants"
   ]
  },
  {
   "cell_type": "code",
   "execution_count": 3,
   "metadata": {
    "execution": {
     "iopub.execute_input": "2020-11-26T23:19:49.803230Z",
     "iopub.status.busy": "2020-11-26T23:19:49.802654Z",
     "iopub.status.idle": "2020-11-26T23:19:49.948544Z",
     "shell.execute_reply": "2020-11-26T23:19:49.949705Z"
    },
    "papermill": {
     "duration": 0.192465,
     "end_time": "2020-11-26T23:19:49.949879",
     "exception": false,
     "start_time": "2020-11-26T23:19:49.757414",
     "status": "completed"
    },
    "pycharm": {
     "name": "#%%\n"
    },
    "tags": []
   },
   "outputs": [],
   "source": [
    "from Modules.ExposureNotification import exposure_notification_io\n",
    "\n",
    "spain_region_country_code = \"ES\"\n",
    "germany_region_country_code = \"DE\"\n",
    "\n",
    "default_backend_identifier = spain_region_country_code\n",
    "\n",
    "backend_generation_days = 7 * 2\n",
    "daily_summary_days = 7 * 4 * 3\n",
    "daily_plot_days = 7 * 4\n",
    "tek_dumps_load_limit = daily_summary_days + 1"
   ]
  },
  {
   "cell_type": "markdown",
   "metadata": {
    "collapsed": false,
    "papermill": {
     "duration": 0.040082,
     "end_time": "2020-11-26T23:19:50.030425",
     "exception": false,
     "start_time": "2020-11-26T23:19:49.990343",
     "status": "completed"
    },
    "tags": []
   },
   "source": [
    "### Parameters"
   ]
  },
  {
   "cell_type": "code",
   "execution_count": 4,
   "metadata": {
    "collapsed": false,
    "execution": {
     "iopub.execute_input": "2020-11-26T23:19:50.118276Z",
     "iopub.status.busy": "2020-11-26T23:19:50.117286Z",
     "iopub.status.idle": "2020-11-26T23:19:50.122443Z",
     "shell.execute_reply": "2020-11-26T23:19:50.123200Z"
    },
    "papermill": {
     "duration": 0.052935,
     "end_time": "2020-11-26T23:19:50.123443",
     "exception": false,
     "start_time": "2020-11-26T23:19:50.070508",
     "status": "completed"
    },
    "pycharm": {
     "name": "#%%\n"
    },
    "tags": []
   },
   "outputs": [
    {
     "data": {
      "text/plain": [
       "'ES'"
      ]
     },
     "execution_count": 4,
     "metadata": {},
     "output_type": "execute_result"
    }
   ],
   "source": [
    "environment_backend_identifier = os.environ.get(\"RADARCOVID_REPORT__BACKEND_IDENTIFIER\")\n",
    "if environment_backend_identifier:\n",
    "    report_backend_identifier = environment_backend_identifier\n",
    "else:\n",
    "    report_backend_identifier = default_backend_identifier\n",
    "report_backend_identifier"
   ]
  },
  {
   "cell_type": "code",
   "execution_count": 5,
   "metadata": {
    "collapsed": false,
    "execution": {
     "iopub.execute_input": "2020-11-26T23:19:50.211037Z",
     "iopub.status.busy": "2020-11-26T23:19:50.210449Z",
     "iopub.status.idle": "2020-11-26T23:19:50.213063Z",
     "shell.execute_reply": "2020-11-26T23:19:50.213486Z"
    },
    "papermill": {
     "duration": 0.047966,
     "end_time": "2020-11-26T23:19:50.213645",
     "exception": false,
     "start_time": "2020-11-26T23:19:50.165679",
     "status": "completed"
    },
    "pycharm": {
     "name": "#%%\n"
    },
    "tags": []
   },
   "outputs": [],
   "source": [
    "environment_enable_multi_backend_download = \\\n",
    "    os.environ.get(\"RADARCOVID_REPORT__ENABLE_MULTI_BACKEND_DOWNLOAD\")\n",
    "if environment_enable_multi_backend_download:\n",
    "    report_backend_identifiers = None\n",
    "else:\n",
    "    report_backend_identifiers = [report_backend_identifier]\n",
    "\n",
    "report_backend_identifiers"
   ]
  },
  {
   "cell_type": "code",
   "execution_count": 6,
   "metadata": {
    "collapsed": false,
    "execution": {
     "iopub.execute_input": "2020-11-26T23:19:50.301503Z",
     "iopub.status.busy": "2020-11-26T23:19:50.300908Z",
     "iopub.status.idle": "2020-11-26T23:19:50.303945Z",
     "shell.execute_reply": "2020-11-26T23:19:50.303486Z"
    },
    "papermill": {
     "duration": 0.050063,
     "end_time": "2020-11-26T23:19:50.304076",
     "exception": false,
     "start_time": "2020-11-26T23:19:50.254013",
     "status": "completed"
    },
    "pycharm": {
     "name": "#%%\n"
    },
    "tags": []
   },
   "outputs": [
    {
     "data": {
      "text/plain": [
       "['2020-10-30']"
      ]
     },
     "execution_count": 6,
     "metadata": {},
     "output_type": "execute_result"
    }
   ],
   "source": [
    "environment_invalid_shared_diagnoses_dates = \\\n",
    "    os.environ.get(\"RADARCOVID_REPORT__INVALID_SHARED_DIAGNOSES_DATES\")\n",
    "if environment_invalid_shared_diagnoses_dates:\n",
    "    invalid_shared_diagnoses_dates = environment_invalid_shared_diagnoses_dates.split(\",\")\n",
    "else:\n",
    "    invalid_shared_diagnoses_dates = []\n",
    "\n",
    "invalid_shared_diagnoses_dates"
   ]
  },
  {
   "cell_type": "markdown",
   "metadata": {
    "collapsed": false,
    "papermill": {
     "duration": 0.041531,
     "end_time": "2020-11-26T23:19:50.386636",
     "exception": false,
     "start_time": "2020-11-26T23:19:50.345105",
     "status": "completed"
    },
    "pycharm": {
     "name": "#%% md\n"
    },
    "tags": []
   },
   "source": [
    "### COVID-19 Cases"
   ]
  },
  {
   "cell_type": "code",
   "execution_count": 7,
   "metadata": {
    "collapsed": false,
    "execution": {
     "iopub.execute_input": "2020-11-26T23:19:50.473753Z",
     "iopub.status.busy": "2020-11-26T23:19:50.473156Z",
     "iopub.status.idle": "2020-11-26T23:19:50.475478Z",
     "shell.execute_reply": "2020-11-26T23:19:50.475015Z"
    },
    "papermill": {
     "duration": 0.048141,
     "end_time": "2020-11-26T23:19:50.475613",
     "exception": false,
     "start_time": "2020-11-26T23:19:50.427472",
     "status": "completed"
    },
    "pycharm": {
     "name": "#%%\n"
    },
    "tags": []
   },
   "outputs": [],
   "source": [
    "report_backend_client = \\\n",
    "    exposure_notification_io.get_backend_client_with_identifier(\n",
    "        backend_identifier=report_backend_identifier)"
   ]
  },
  {
   "cell_type": "code",
   "execution_count": 8,
   "metadata": {
    "collapsed": false,
    "execution": {
     "iopub.execute_input": "2020-11-26T23:19:50.564934Z",
     "iopub.status.busy": "2020-11-26T23:19:50.564330Z",
     "iopub.status.idle": "2020-11-26T23:20:06.971516Z",
     "shell.execute_reply": "2020-11-26T23:20:06.971000Z"
    },
    "papermill": {
     "duration": 16.455239,
     "end_time": "2020-11-26T23:20:06.971663",
     "exception": false,
     "start_time": "2020-11-26T23:19:50.516424",
     "status": "completed"
    },
    "pycharm": {
     "name": "#%%\n"
    },
    "tags": []
   },
   "outputs": [],
   "source": [
    "@retry.retry(tries=10, delay=10, backoff=1.1, jitter=(0, 10))\n",
    "def download_cases_dataframe_from_ecdc():\n",
    "    return pd.read_csv(\n",
    "        \"https://opendata.ecdc.europa.eu/covid19/casedistribution/csv/data.csv\")\n",
    "\n",
    "confirmed_df_ = download_cases_dataframe_from_ecdc()"
   ]
  },
  {
   "cell_type": "code",
   "execution_count": 9,
   "metadata": {
    "collapsed": false,
    "execution": {
     "iopub.execute_input": "2020-11-26T23:20:07.070701Z",
     "iopub.status.busy": "2020-11-26T23:20:07.070088Z",
     "iopub.status.idle": "2020-11-26T23:20:07.482365Z",
     "shell.execute_reply": "2020-11-26T23:20:07.481878Z"
    },
    "papermill": {
     "duration": 0.465355,
     "end_time": "2020-11-26T23:20:07.482505",
     "exception": false,
     "start_time": "2020-11-26T23:20:07.017150",
     "status": "completed"
    },
    "pycharm": {
     "name": "#%%\n"
    },
    "tags": []
   },
   "outputs": [
    {
     "data": {
      "text/html": [
       "<div>\n",
       "<style scoped>\n",
       "    .dataframe tbody tr th:only-of-type {\n",
       "        vertical-align: middle;\n",
       "    }\n",
       "\n",
       "    .dataframe tbody tr th {\n",
       "        vertical-align: top;\n",
       "    }\n",
       "\n",
       "    .dataframe thead th {\n",
       "        text-align: right;\n",
       "    }\n",
       "</style>\n",
       "<table border=\"1\" class=\"dataframe\">\n",
       "  <thead>\n",
       "    <tr style=\"text-align: right;\">\n",
       "      <th></th>\n",
       "      <th>sample_date</th>\n",
       "      <th>new_cases</th>\n",
       "      <th>country_code</th>\n",
       "    </tr>\n",
       "  </thead>\n",
       "  <tbody>\n",
       "    <tr>\n",
       "      <th>22474</th>\n",
       "      <td>2020-11-26</td>\n",
       "      <td>640</td>\n",
       "      <td>GT</td>\n",
       "    </tr>\n",
       "    <tr>\n",
       "      <th>38871</th>\n",
       "      <td>2020-11-26</td>\n",
       "      <td>13</td>\n",
       "      <td>NE</td>\n",
       "    </tr>\n",
       "    <tr>\n",
       "      <th>6250</th>\n",
       "      <td>2020-11-26</td>\n",
       "      <td>0</td>\n",
       "      <td>BT</td>\n",
       "    </tr>\n",
       "    <tr>\n",
       "      <th>6767</th>\n",
       "      <td>2020-11-26</td>\n",
       "      <td>0</td>\n",
       "      <td>BQ</td>\n",
       "    </tr>\n",
       "    <tr>\n",
       "      <th>0</th>\n",
       "      <td>2020-11-26</td>\n",
       "      <td>200</td>\n",
       "      <td>AF</td>\n",
       "    </tr>\n",
       "  </tbody>\n",
       "</table>\n",
       "</div>"
      ],
      "text/plain": [
       "      sample_date  new_cases country_code\n",
       "22474  2020-11-26        640           GT\n",
       "38871  2020-11-26         13           NE\n",
       "6250   2020-11-26          0           BT\n",
       "6767   2020-11-26          0           BQ\n",
       "0      2020-11-26        200           AF"
      ]
     },
     "execution_count": 9,
     "metadata": {},
     "output_type": "execute_result"
    }
   ],
   "source": [
    "confirmed_df = confirmed_df_.copy()\n",
    "confirmed_df = confirmed_df[[\"dateRep\", \"cases\", \"geoId\"]]\n",
    "confirmed_df.rename(\n",
    "    columns={\n",
    "        \"dateRep\":\"sample_date\",\n",
    "        \"cases\": \"new_cases\",\n",
    "        \"geoId\": \"country_code\",\n",
    "    },\n",
    "    inplace=True)\n",
    "confirmed_df[\"sample_date\"] = pd.to_datetime(confirmed_df.sample_date, dayfirst=True)\n",
    "confirmed_df[\"sample_date\"] = confirmed_df.sample_date.dt.strftime(\"%Y-%m-%d\")\n",
    "confirmed_df.sort_values(\"sample_date\", inplace=True)\n",
    "confirmed_df.tail()"
   ]
  },
  {
   "cell_type": "code",
   "execution_count": 10,
   "metadata": {
    "collapsed": false,
    "execution": {
     "iopub.execute_input": "2020-11-26T23:20:07.572566Z",
     "iopub.status.busy": "2020-11-26T23:20:07.571939Z",
     "iopub.status.idle": "2020-11-26T23:20:07.573859Z",
     "shell.execute_reply": "2020-11-26T23:20:07.574411Z"
    },
    "papermill": {
     "duration": 0.050163,
     "end_time": "2020-11-26T23:20:07.574571",
     "exception": false,
     "start_time": "2020-11-26T23:20:07.524408",
     "status": "completed"
    },
    "pycharm": {
     "name": "#%%\n"
    },
    "tags": []
   },
   "outputs": [],
   "source": [
    "def sort_source_regions_for_display(source_regions: list) -> list:\n",
    "    if report_backend_identifier in source_regions:\n",
    "        source_regions = [report_backend_identifier] + \\\n",
    "            list(sorted(set(source_regions).difference([report_backend_identifier])))\n",
    "    else:\n",
    "        source_regions = list(sorted(source_regions))\n",
    "    return source_regions"
   ]
  },
  {
   "cell_type": "code",
   "execution_count": 11,
   "metadata": {
    "collapsed": false,
    "execution": {
     "iopub.execute_input": "2020-11-26T23:20:07.662846Z",
     "iopub.status.busy": "2020-11-26T23:20:07.662271Z",
     "iopub.status.idle": "2020-11-26T23:20:07.665438Z",
     "shell.execute_reply": "2020-11-26T23:20:07.665923Z"
    },
    "papermill": {
     "duration": 0.050033,
     "end_time": "2020-11-26T23:20:07.666079",
     "exception": false,
     "start_time": "2020-11-26T23:20:07.616046",
     "status": "completed"
    },
    "pycharm": {
     "name": "#%%\n"
    },
    "tags": []
   },
   "outputs": [
    {
     "data": {
      "text/plain": [
       "['ES', 'DE', 'DK', 'HR', 'IE', 'IT', 'LV']"
      ]
     },
     "execution_count": 11,
     "metadata": {},
     "output_type": "execute_result"
    }
   ],
   "source": [
    "report_source_regions = report_backend_client.source_regions_for_date(\n",
    "    date=extraction_datetime.date())\n",
    "report_source_regions = sort_source_regions_for_display(\n",
    "    source_regions=report_source_regions)\n",
    "report_source_regions"
   ]
  },
  {
   "cell_type": "code",
   "execution_count": 12,
   "metadata": {
    "collapsed": false,
    "execution": {
     "iopub.execute_input": "2020-11-26T23:20:07.763031Z",
     "iopub.status.busy": "2020-11-26T23:20:07.762447Z",
     "iopub.status.idle": "2020-11-26T23:20:07.765533Z",
     "shell.execute_reply": "2020-11-26T23:20:07.765063Z"
    },
    "papermill": {
     "duration": 0.05775,
     "end_time": "2020-11-26T23:20:07.765665",
     "exception": false,
     "start_time": "2020-11-26T23:20:07.707915",
     "status": "completed"
    },
    "pycharm": {
     "name": "#%%\n"
    },
    "tags": []
   },
   "outputs": [
    {
     "data": {
      "text/html": [
       "<div>\n",
       "<style scoped>\n",
       "    .dataframe tbody tr th:only-of-type {\n",
       "        vertical-align: middle;\n",
       "    }\n",
       "\n",
       "    .dataframe tbody tr th {\n",
       "        vertical-align: top;\n",
       "    }\n",
       "\n",
       "    .dataframe thead th {\n",
       "        text-align: right;\n",
       "    }\n",
       "</style>\n",
       "<table border=\"1\" class=\"dataframe\">\n",
       "  <thead>\n",
       "    <tr style=\"text-align: right;\">\n",
       "      <th></th>\n",
       "      <th>sample_date</th>\n",
       "      <th>sample_date_string</th>\n",
       "    </tr>\n",
       "  </thead>\n",
       "  <tbody>\n",
       "    <tr>\n",
       "      <th>327</th>\n",
       "      <td>2020-11-22</td>\n",
       "      <td>2020-11-22</td>\n",
       "    </tr>\n",
       "    <tr>\n",
       "      <th>328</th>\n",
       "      <td>2020-11-23</td>\n",
       "      <td>2020-11-23</td>\n",
       "    </tr>\n",
       "    <tr>\n",
       "      <th>329</th>\n",
       "      <td>2020-11-24</td>\n",
       "      <td>2020-11-24</td>\n",
       "    </tr>\n",
       "    <tr>\n",
       "      <th>330</th>\n",
       "      <td>2020-11-25</td>\n",
       "      <td>2020-11-25</td>\n",
       "    </tr>\n",
       "    <tr>\n",
       "      <th>331</th>\n",
       "      <td>2020-11-26</td>\n",
       "      <td>2020-11-26</td>\n",
       "    </tr>\n",
       "  </tbody>\n",
       "</table>\n",
       "</div>"
      ],
      "text/plain": [
       "    sample_date sample_date_string\n",
       "327  2020-11-22         2020-11-22\n",
       "328  2020-11-23         2020-11-23\n",
       "329  2020-11-24         2020-11-24\n",
       "330  2020-11-25         2020-11-25\n",
       "331  2020-11-26         2020-11-26"
      ]
     },
     "execution_count": 12,
     "metadata": {},
     "output_type": "execute_result"
    }
   ],
   "source": [
    "confirmed_days = pd.date_range(\n",
    "    start=confirmed_df.iloc[0].sample_date,\n",
    "    end=extraction_datetime)\n",
    "confirmed_days_df = pd.DataFrame(data=confirmed_days, columns=[\"sample_date\"])\n",
    "confirmed_days_df[\"sample_date_string\"] = \\\n",
    "    confirmed_days_df.sample_date.dt.strftime(\"%Y-%m-%d\")\n",
    "confirmed_days_df.tail()"
   ]
  },
  {
   "cell_type": "code",
   "execution_count": 13,
   "metadata": {
    "collapsed": false,
    "execution": {
     "iopub.execute_input": "2020-11-26T23:20:07.870555Z",
     "iopub.status.busy": "2020-11-26T23:20:07.869953Z",
     "iopub.status.idle": "2020-11-26T23:20:07.872625Z",
     "shell.execute_reply": "2020-11-26T23:20:07.873078Z"
    },
    "papermill": {
     "duration": 0.064752,
     "end_time": "2020-11-26T23:20:07.873233",
     "exception": false,
     "start_time": "2020-11-26T23:20:07.808481",
     "status": "completed"
    },
    "pycharm": {
     "name": "#%%\n"
    },
    "tags": []
   },
   "outputs": [
    {
     "data": {
      "text/html": [
       "<div>\n",
       "<style scoped>\n",
       "    .dataframe tbody tr th:only-of-type {\n",
       "        vertical-align: middle;\n",
       "    }\n",
       "\n",
       "    .dataframe tbody tr th {\n",
       "        vertical-align: top;\n",
       "    }\n",
       "\n",
       "    .dataframe thead th {\n",
       "        text-align: right;\n",
       "    }\n",
       "</style>\n",
       "<table border=\"1\" class=\"dataframe\">\n",
       "  <thead>\n",
       "    <tr style=\"text-align: right;\">\n",
       "      <th></th>\n",
       "      <th>sample_date</th>\n",
       "      <th>sample_date_string</th>\n",
       "      <th>source_regions_at_date</th>\n",
       "      <th>_source_regions_group</th>\n",
       "    </tr>\n",
       "  </thead>\n",
       "  <tbody>\n",
       "    <tr>\n",
       "      <th>327</th>\n",
       "      <td>2020-11-22</td>\n",
       "      <td>2020-11-22</td>\n",
       "      <td>{HR, LV, ES, DK, DE, IT, IE}</td>\n",
       "      <td>ES,DE,DK,HR,IE,IT,LV</td>\n",
       "    </tr>\n",
       "    <tr>\n",
       "      <th>328</th>\n",
       "      <td>2020-11-23</td>\n",
       "      <td>2020-11-23</td>\n",
       "      <td>{HR, LV, ES, DK, DE, IT, IE}</td>\n",
       "      <td>ES,DE,DK,HR,IE,IT,LV</td>\n",
       "    </tr>\n",
       "    <tr>\n",
       "      <th>329</th>\n",
       "      <td>2020-11-24</td>\n",
       "      <td>2020-11-24</td>\n",
       "      <td>{HR, LV, ES, DK, DE, IT, IE}</td>\n",
       "      <td>ES,DE,DK,HR,IE,IT,LV</td>\n",
       "    </tr>\n",
       "    <tr>\n",
       "      <th>330</th>\n",
       "      <td>2020-11-25</td>\n",
       "      <td>2020-11-25</td>\n",
       "      <td>{HR, LV, ES, DK, DE, IT, IE}</td>\n",
       "      <td>ES,DE,DK,HR,IE,IT,LV</td>\n",
       "    </tr>\n",
       "    <tr>\n",
       "      <th>331</th>\n",
       "      <td>2020-11-26</td>\n",
       "      <td>2020-11-26</td>\n",
       "      <td>{HR, LV, ES, DK, DE, IT, IE}</td>\n",
       "      <td>ES,DE,DK,HR,IE,IT,LV</td>\n",
       "    </tr>\n",
       "  </tbody>\n",
       "</table>\n",
       "</div>"
      ],
      "text/plain": [
       "    sample_date sample_date_string        source_regions_at_date  \\\n",
       "327  2020-11-22         2020-11-22  {HR, LV, ES, DK, DE, IT, IE}   \n",
       "328  2020-11-23         2020-11-23  {HR, LV, ES, DK, DE, IT, IE}   \n",
       "329  2020-11-24         2020-11-24  {HR, LV, ES, DK, DE, IT, IE}   \n",
       "330  2020-11-25         2020-11-25  {HR, LV, ES, DK, DE, IT, IE}   \n",
       "331  2020-11-26         2020-11-26  {HR, LV, ES, DK, DE, IT, IE}   \n",
       "\n",
       "    _source_regions_group  \n",
       "327  ES,DE,DK,HR,IE,IT,LV  \n",
       "328  ES,DE,DK,HR,IE,IT,LV  \n",
       "329  ES,DE,DK,HR,IE,IT,LV  \n",
       "330  ES,DE,DK,HR,IE,IT,LV  \n",
       "331  ES,DE,DK,HR,IE,IT,LV  "
      ]
     },
     "execution_count": 13,
     "metadata": {},
     "output_type": "execute_result"
    }
   ],
   "source": [
    "source_regions_at_date_df = confirmed_days_df.copy()\n",
    "source_regions_at_date_df[\"source_regions_at_date\"] = \\\n",
    "    source_regions_at_date_df.sample_date.apply(\n",
    "        lambda x: report_backend_client.source_regions_for_date(date=x))\n",
    "source_regions_at_date_df.sort_values(\"sample_date\", inplace=True)\n",
    "source_regions_at_date_df[\"_source_regions_group\"] = source_regions_at_date_df. \\\n",
    "    source_regions_at_date.apply(lambda x: \",\".join(sort_source_regions_for_display(x)))\n",
    "source_regions_at_date_df.tail()"
   ]
  },
  {
   "cell_type": "code",
   "execution_count": 14,
   "metadata": {
    "collapsed": false,
    "execution": {
     "iopub.execute_input": "2020-11-26T23:20:07.965584Z",
     "iopub.status.busy": "2020-11-26T23:20:07.965011Z",
     "iopub.status.idle": "2020-11-26T23:20:07.975428Z",
     "shell.execute_reply": "2020-11-26T23:20:07.974966Z"
    },
    "papermill": {
     "duration": 0.059864,
     "end_time": "2020-11-26T23:20:07.975561",
     "exception": false,
     "start_time": "2020-11-26T23:20:07.915697",
     "status": "completed"
    },
    "pycharm": {
     "name": "#%%\n"
    },
    "tags": []
   },
   "outputs": [
    {
     "data": {
      "text/html": [
       "<div>\n",
       "<style scoped>\n",
       "    .dataframe tbody tr th:only-of-type {\n",
       "        vertical-align: middle;\n",
       "    }\n",
       "\n",
       "    .dataframe tbody tr th {\n",
       "        vertical-align: top;\n",
       "    }\n",
       "\n",
       "    .dataframe thead th {\n",
       "        text-align: right;\n",
       "    }\n",
       "</style>\n",
       "<table border=\"1\" class=\"dataframe\">\n",
       "  <thead>\n",
       "    <tr style=\"text-align: right;\">\n",
       "      <th></th>\n",
       "      <th>sample_date</th>\n",
       "      <th>source_regions</th>\n",
       "    </tr>\n",
       "  </thead>\n",
       "  <tbody>\n",
       "    <tr>\n",
       "      <th>327</th>\n",
       "      <td>2020-11-22</td>\n",
       "      <td>ES,DE,DK,HR,IE,IT,LV</td>\n",
       "    </tr>\n",
       "    <tr>\n",
       "      <th>328</th>\n",
       "      <td>2020-11-23</td>\n",
       "      <td>ES,DE,DK,HR,IE,IT,LV</td>\n",
       "    </tr>\n",
       "    <tr>\n",
       "      <th>329</th>\n",
       "      <td>2020-11-24</td>\n",
       "      <td>ES,DE,DK,HR,IE,IT,LV</td>\n",
       "    </tr>\n",
       "    <tr>\n",
       "      <th>330</th>\n",
       "      <td>2020-11-25</td>\n",
       "      <td>ES,DE,DK,HR,IE,IT,LV</td>\n",
       "    </tr>\n",
       "    <tr>\n",
       "      <th>331</th>\n",
       "      <td>2020-11-26</td>\n",
       "      <td>ES,DE,DK,HR,IE,IT,LV</td>\n",
       "    </tr>\n",
       "  </tbody>\n",
       "</table>\n",
       "</div>"
      ],
      "text/plain": [
       "    sample_date        source_regions\n",
       "327  2020-11-22  ES,DE,DK,HR,IE,IT,LV\n",
       "328  2020-11-23  ES,DE,DK,HR,IE,IT,LV\n",
       "329  2020-11-24  ES,DE,DK,HR,IE,IT,LV\n",
       "330  2020-11-25  ES,DE,DK,HR,IE,IT,LV\n",
       "331  2020-11-26  ES,DE,DK,HR,IE,IT,LV"
      ]
     },
     "execution_count": 14,
     "metadata": {},
     "output_type": "execute_result"
    }
   ],
   "source": [
    "source_regions_for_summary_df = \\\n",
    "    source_regions_at_date_df[[\"sample_date\", \"_source_regions_group\"]].copy()\n",
    "source_regions_for_summary_df.rename(columns={\"_source_regions_group\": \"source_regions\"}, inplace=True)\n",
    "source_regions_for_summary_df.tail()"
   ]
  },
  {
   "cell_type": "code",
   "execution_count": 15,
   "metadata": {
    "collapsed": false,
    "execution": {
     "iopub.execute_input": "2020-11-26T23:20:08.075351Z",
     "iopub.status.busy": "2020-11-26T23:20:08.074774Z",
     "iopub.status.idle": "2020-11-26T23:20:08.132455Z",
     "shell.execute_reply": "2020-11-26T23:20:08.132912Z"
    },
    "papermill": {
     "duration": 0.114171,
     "end_time": "2020-11-26T23:20:08.133074",
     "exception": false,
     "start_time": "2020-11-26T23:20:08.018903",
     "status": "completed"
    },
    "pycharm": {
     "name": "#%%\n"
    },
    "tags": []
   },
   "outputs": [
    {
     "data": {
      "text/html": [
       "<div>\n",
       "<style scoped>\n",
       "    .dataframe tbody tr th:only-of-type {\n",
       "        vertical-align: middle;\n",
       "    }\n",
       "\n",
       "    .dataframe tbody tr th {\n",
       "        vertical-align: top;\n",
       "    }\n",
       "\n",
       "    .dataframe thead th {\n",
       "        text-align: right;\n",
       "    }\n",
       "</style>\n",
       "<table border=\"1\" class=\"dataframe\">\n",
       "  <thead>\n",
       "    <tr style=\"text-align: right;\">\n",
       "      <th></th>\n",
       "      <th>sample_date</th>\n",
       "      <th>new_cases</th>\n",
       "      <th>covid_cases</th>\n",
       "    </tr>\n",
       "  </thead>\n",
       "  <tbody>\n",
       "    <tr>\n",
       "      <th>309</th>\n",
       "      <td>2020-11-04</td>\n",
       "      <td>70966</td>\n",
       "      <td>66020.0</td>\n",
       "    </tr>\n",
       "    <tr>\n",
       "      <th>310</th>\n",
       "      <td>2020-11-05</td>\n",
       "      <td>73194</td>\n",
       "      <td>67010.0</td>\n",
       "    </tr>\n",
       "    <tr>\n",
       "      <th>311</th>\n",
       "      <td>2020-11-06</td>\n",
       "      <td>79454</td>\n",
       "      <td>68044.0</td>\n",
       "    </tr>\n",
       "    <tr>\n",
       "      <th>312</th>\n",
       "      <td>2020-11-07</td>\n",
       "      <td>62050</td>\n",
       "      <td>69596.0</td>\n",
       "    </tr>\n",
       "    <tr>\n",
       "      <th>313</th>\n",
       "      <td>2020-11-08</td>\n",
       "      <td>56547</td>\n",
       "      <td>71025.0</td>\n",
       "    </tr>\n",
       "  </tbody>\n",
       "</table>\n",
       "</div>"
      ],
      "text/plain": [
       "    sample_date new_cases  covid_cases\n",
       "309  2020-11-04     70966      66020.0\n",
       "310  2020-11-05     73194      67010.0\n",
       "311  2020-11-06     79454      68044.0\n",
       "312  2020-11-07     62050      69596.0\n",
       "313  2020-11-08     56547      71025.0"
      ]
     },
     "execution_count": 15,
     "metadata": {},
     "output_type": "execute_result"
    }
   ],
   "source": [
    "confirmed_output_columns = [\"sample_date\", \"new_cases\", \"covid_cases\"]\n",
    "confirmed_output_df = pd.DataFrame(columns=confirmed_output_columns)\n",
    "\n",
    "for source_regions_group, source_regions_group_series in \\\n",
    "        source_regions_at_date_df.groupby(\"_source_regions_group\"):\n",
    "    source_regions_set = set(source_regions_group.split(\",\"))\n",
    "    confirmed_source_regions_set_df = \\\n",
    "        confirmed_df[confirmed_df.country_code.isin(source_regions_set)].copy()\n",
    "    confirmed_source_regions_group_df = \\\n",
    "        confirmed_source_regions_set_df.groupby(\"sample_date\").new_cases.sum() \\\n",
    "            .reset_index().sort_values(\"sample_date\")\n",
    "    confirmed_source_regions_group_df[\"covid_cases\"] = \\\n",
    "        confirmed_source_regions_group_df.new_cases.rolling(7, min_periods=0).mean().round()\n",
    "    confirmed_source_regions_group_df = \\\n",
    "        confirmed_source_regions_group_df[confirmed_output_columns]\n",
    "    confirmed_source_regions_group_df.fillna(method=\"ffill\", inplace=True)\n",
    "    confirmed_source_regions_group_df = \\\n",
    "        confirmed_source_regions_group_df[\n",
    "            confirmed_source_regions_group_df.sample_date.isin(\n",
    "                source_regions_group_series.sample_date_string)]\n",
    "    confirmed_output_df = confirmed_output_df.append(confirmed_source_regions_group_df)\n",
    "\n",
    "confirmed_df = confirmed_output_df.copy()\n",
    "confirmed_df.tail()"
   ]
  },
  {
   "cell_type": "code",
   "execution_count": 16,
   "metadata": {
    "collapsed": false,
    "execution": {
     "iopub.execute_input": "2020-11-26T23:20:08.231444Z",
     "iopub.status.busy": "2020-11-26T23:20:08.230856Z",
     "iopub.status.idle": "2020-11-26T23:20:08.240543Z",
     "shell.execute_reply": "2020-11-26T23:20:08.240973Z"
    },
    "papermill": {
     "duration": 0.064367,
     "end_time": "2020-11-26T23:20:08.241137",
     "exception": false,
     "start_time": "2020-11-26T23:20:08.176770",
     "status": "completed"
    },
    "pycharm": {
     "name": "#%%\n"
    },
    "tags": []
   },
   "outputs": [
    {
     "data": {
      "text/html": [
       "<div>\n",
       "<style scoped>\n",
       "    .dataframe tbody tr th:only-of-type {\n",
       "        vertical-align: middle;\n",
       "    }\n",
       "\n",
       "    .dataframe tbody tr th {\n",
       "        vertical-align: top;\n",
       "    }\n",
       "\n",
       "    .dataframe thead th {\n",
       "        text-align: right;\n",
       "    }\n",
       "</style>\n",
       "<table border=\"1\" class=\"dataframe\">\n",
       "  <thead>\n",
       "    <tr style=\"text-align: right;\">\n",
       "      <th></th>\n",
       "      <th>sample_date_string</th>\n",
       "      <th>new_cases</th>\n",
       "      <th>covid_cases</th>\n",
       "    </tr>\n",
       "  </thead>\n",
       "  <tbody>\n",
       "    <tr>\n",
       "      <th>327</th>\n",
       "      <td>2020-11-22</td>\n",
       "      <td>56334</td>\n",
       "      <td>70591.0</td>\n",
       "    </tr>\n",
       "    <tr>\n",
       "      <th>328</th>\n",
       "      <td>2020-11-23</td>\n",
       "      <td>69939</td>\n",
       "      <td>68127.0</td>\n",
       "    </tr>\n",
       "    <tr>\n",
       "      <th>329</th>\n",
       "      <td>2020-11-24</td>\n",
       "      <td>52217</td>\n",
       "      <td>67304.0</td>\n",
       "    </tr>\n",
       "    <tr>\n",
       "      <th>330</th>\n",
       "      <td>2020-11-25</td>\n",
       "      <td>56448</td>\n",
       "      <td>65533.0</td>\n",
       "    </tr>\n",
       "    <tr>\n",
       "      <th>331</th>\n",
       "      <td>2020-11-26</td>\n",
       "      <td>53743</td>\n",
       "      <td>62004.0</td>\n",
       "    </tr>\n",
       "  </tbody>\n",
       "</table>\n",
       "</div>"
      ],
      "text/plain": [
       "    sample_date_string  new_cases  covid_cases\n",
       "327         2020-11-22      56334      70591.0\n",
       "328         2020-11-23      69939      68127.0\n",
       "329         2020-11-24      52217      67304.0\n",
       "330         2020-11-25      56448      65533.0\n",
       "331         2020-11-26      53743      62004.0"
      ]
     },
     "execution_count": 16,
     "metadata": {},
     "output_type": "execute_result"
    }
   ],
   "source": [
    "confirmed_df.rename(columns={\"sample_date\": \"sample_date_string\"}, inplace=True)\n",
    "confirmed_df = confirmed_days_df[[\"sample_date_string\"]].merge(confirmed_df, how=\"left\")\n",
    "confirmed_df.sort_values(\"sample_date_string\", inplace=True)\n",
    "confirmed_df.fillna(method=\"ffill\", inplace=True)\n",
    "confirmed_df.tail()"
   ]
  },
  {
   "cell_type": "code",
   "execution_count": 17,
   "metadata": {
    "collapsed": false,
    "execution": {
     "iopub.execute_input": "2020-11-26T23:20:08.340840Z",
     "iopub.status.busy": "2020-11-26T23:20:08.340243Z",
     "iopub.status.idle": "2020-11-26T23:20:08.533828Z",
     "shell.execute_reply": "2020-11-26T23:20:08.534381Z"
    },
    "papermill": {
     "duration": 0.249374,
     "end_time": "2020-11-26T23:20:08.534547",
     "exception": false,
     "start_time": "2020-11-26T23:20:08.285173",
     "status": "completed"
    },
    "pycharm": {
     "name": "#%%\n"
    },
    "tags": []
   },
   "outputs": [
    {
     "data": {
      "text/plain": [
       "<matplotlib.axes._subplots.AxesSubplot at 0x7f6121d4ac10>"
      ]
     },
     "execution_count": 17,
     "metadata": {},
     "output_type": "execute_result"
    },
    {
     "data": {
      "image/png": "[encoded data removed]",
      "text/plain": [
       "<Figure size 1080x432 with 1 Axes>"
      ]
     },
     "metadata": {},
     "output_type": "display_data"
    }
   ],
   "source": [
    "confirmed_df[[\"new_cases\", \"covid_cases\"]].plot()"
   ]
  },
  {
   "cell_type": "markdown",
   "metadata": {
    "execution": {
     "iopub.execute_input": "2020-08-30T22:30:16.351238Z",
     "iopub.status.busy": "2020-08-30T22:30:16.344579Z",
     "iopub.status.idle": "2020-08-30T22:30:16.354285Z",
     "shell.execute_reply": "2020-08-30T22:30:16.353641Z"
    },
    "papermill": {
     "duration": 0.04622,
     "end_time": "2020-11-26T23:20:08.627804",
     "exception": false,
     "start_time": "2020-11-26T23:20:08.581584",
     "status": "completed"
    },
    "pycharm": {
     "name": "#%% md\n"
    },
    "tags": []
   },
   "source": [
    "### Extract API TEKs"
   ]
  },
  {
   "cell_type": "code",
   "execution_count": 18,
   "metadata": {
    "execution": {
     "iopub.execute_input": "2020-11-26T23:20:08.727235Z",
     "iopub.status.busy": "2020-11-26T23:20:08.726261Z",
     "iopub.status.idle": "2020-11-26T23:25:22.439015Z",
     "shell.execute_reply": "2020-11-26T23:25:22.439482Z"
    },
    "papermill": {
     "duration": 313.765878,
     "end_time": "2020-11-26T23:25:22.439647",
     "exception": false,
     "start_time": "2020-11-26T23:20:08.673769",
     "status": "completed"
    },
    "pycharm": {
     "name": "#%%\n"
    },
    "tags": []
   },
   "outputs": [
    {
     "name": "stderr",
     "output_type": "stream",
     "text": [
      "WARNING:root:NoKeysFoundException(\"No exposure keys found on endpoint 'https://stayaway.incm.pt/v1/gaen/exposed/1606348800000' (parameters: {'generation_date': '2020-11-26', 'endpoint_identifier_components': ['2020-11-26'], 'backend_identifier': 'PT', 'server_endpoint_url': 'https://stayaway.incm.pt'}).\")\n"
     ]
    },
    {
     "name": "stderr",
     "output_type": "stream",
     "text": [
      "WARNING:root:NoKeysFoundException(\"No exposure keys found on endpoint 'https://enapi.sm.ee/authorization/v1/gaen/exposed/1606348800000' (parameters: {'generation_date': '2020-11-26', 'endpoint_identifier_components': ['2020-11-26'], 'backend_identifier': 'EE', 'server_endpoint_url': 'https://enapi.sm.ee/authorization'}).\")\n"
     ]
    },
    {
     "name": "stderr",
     "output_type": "stream",
     "text": [
      "WARNING:root:NoKeysFoundException(\"No exposure keys found on endpoint 'https://mt-dpppt-ws.azurewebsites.net/v1/gaen/exposed/1606348800000' (parameters: {'generation_date': '2020-11-26', 'endpoint_identifier_components': ['2020-11-26'], 'backend_identifier': 'MT', 'server_endpoint_url': 'https://mt-dpppt-ws.azurewebsites.net'}).\")\n"
     ]
    },
    {
     "data": {
      "text/html": [
       "<div>\n",
       "<style scoped>\n",
       "    .dataframe tbody tr th:only-of-type {\n",
       "        vertical-align: middle;\n",
       "    }\n",
       "\n",
       "    .dataframe tbody tr th {\n",
       "        vertical-align: top;\n",
       "    }\n",
       "\n",
       "    .dataframe thead th {\n",
       "        text-align: right;\n",
       "    }\n",
       "</style>\n",
       "<table border=\"1\" class=\"dataframe\">\n",
       "  <thead>\n",
       "    <tr style=\"text-align: right;\">\n",
       "      <th></th>\n",
       "      <th>sample_datetime</th>\n",
       "      <th>sample_date_string</th>\n",
       "      <th>region</th>\n",
       "      <th>verification_key_version</th>\n",
       "      <th>verification_key_id</th>\n",
       "      <th>signature_algorithm</th>\n",
       "      <th>key_data</th>\n",
       "      <th>rolling_start_interval_number</th>\n",
       "      <th>rolling_period</th>\n",
       "      <th>transmission_risk_level</th>\n",
       "      <th>backend_identifier</th>\n",
       "    </tr>\n",
       "  </thead>\n",
       "  <tbody>\n",
       "    <tr>\n",
       "      <th>0</th>\n",
       "      <td>2020-11-26</td>\n",
       "      <td>2020-11-26</td>\n",
       "      <td>ES</td>\n",
       "      <td>V1</td>\n",
       "      <td>214</td>\n",
       "      <td>1.2.840.10045.4.3.2</td>\n",
       "      <td>c6dc3aa9-089f-1e51-2669-20e95558427f</td>\n",
       "      <td>2677248</td>\n",
       "      <td>130</td>\n",
       "      <td>0</td>\n",
       "      <td>ES</td>\n",
       "    </tr>\n",
       "    <tr>\n",
       "      <th>1</th>\n",
       "      <td>2020-11-26</td>\n",
       "      <td>2020-11-26</td>\n",
       "      <td>ES</td>\n",
       "      <td>V1</td>\n",
       "      <td>214</td>\n",
       "      <td>1.2.840.10045.4.3.2</td>\n",
       "      <td>19ca8826-b858-300c-8e34-fd89894702a6</td>\n",
       "      <td>2677248</td>\n",
       "      <td>127</td>\n",
       "      <td>0</td>\n",
       "      <td>ES</td>\n",
       "    </tr>\n",
       "    <tr>\n",
       "      <th>2</th>\n",
       "      <td>2020-11-26</td>\n",
       "      <td>2020-11-26</td>\n",
       "      <td>ES</td>\n",
       "      <td>V1</td>\n",
       "      <td>214</td>\n",
       "      <td>1.2.840.10045.4.3.2</td>\n",
       "      <td>5788248f-3d2c-1ff9-3180-41cca5fd3773</td>\n",
       "      <td>2677248</td>\n",
       "      <td>126</td>\n",
       "      <td>0</td>\n",
       "      <td>ES</td>\n",
       "    </tr>\n",
       "    <tr>\n",
       "      <th>3</th>\n",
       "      <td>2020-11-26</td>\n",
       "      <td>2020-11-26</td>\n",
       "      <td>ES</td>\n",
       "      <td>V1</td>\n",
       "      <td>214</td>\n",
       "      <td>1.2.840.10045.4.3.2</td>\n",
       "      <td>d31f2e2a-a11a-02a3-5fc4-e7c1675fa731</td>\n",
       "      <td>2677248</td>\n",
       "      <td>121</td>\n",
       "      <td>0</td>\n",
       "      <td>ES</td>\n",
       "    </tr>\n",
       "    <tr>\n",
       "      <th>4</th>\n",
       "      <td>2020-11-26</td>\n",
       "      <td>2020-11-26</td>\n",
       "      <td>ES</td>\n",
       "      <td>V1</td>\n",
       "      <td>214</td>\n",
       "      <td>1.2.840.10045.4.3.2</td>\n",
       "      <td>8d45ca4c-4aa0-1ce6-43dc-37d287b507f0</td>\n",
       "      <td>2677248</td>\n",
       "      <td>120</td>\n",
       "      <td>0</td>\n",
       "      <td>ES</td>\n",
       "    </tr>\n",
       "  </tbody>\n",
       "</table>\n",
       "</div>"
      ],
      "text/plain": [
       "  sample_datetime sample_date_string region verification_key_version  \\\n",
       "0      2020-11-26         2020-11-26     ES                       V1   \n",
       "1      2020-11-26         2020-11-26     ES                       V1   \n",
       "2      2020-11-26         2020-11-26     ES                       V1   \n",
       "3      2020-11-26         2020-11-26     ES                       V1   \n",
       "4      2020-11-26         2020-11-26     ES                       V1   \n",
       "\n",
       "  verification_key_id  signature_algorithm  \\\n",
       "0                 214  1.2.840.10045.4.3.2   \n",
       "1                 214  1.2.840.10045.4.3.2   \n",
       "2                 214  1.2.840.10045.4.3.2   \n",
       "3                 214  1.2.840.10045.4.3.2   \n",
       "4                 214  1.2.840.10045.4.3.2   \n",
       "\n",
       "                               key_data  rolling_start_interval_number  \\\n",
       "0  c6dc3aa9-089f-1e51-2669-20e95558427f                        2677248   \n",
       "1  19ca8826-b858-300c-8e34-fd89894702a6                        2677248   \n",
       "2  5788248f-3d2c-1ff9-3180-41cca5fd3773                        2677248   \n",
       "3  d31f2e2a-a11a-02a3-5fc4-e7c1675fa731                        2677248   \n",
       "4  8d45ca4c-4aa0-1ce6-43dc-37d287b507f0                        2677248   \n",
       "\n",
       "   rolling_period  transmission_risk_level backend_identifier  \n",
       "0             130                        0                 ES  \n",
       "1             127                        0                 ES  \n",
       "2             126                        0                 ES  \n",
       "3             121                        0                 ES  \n",
       "4             120                        0                 ES  "
      ]
     },
     "execution_count": 18,
     "metadata": {},
     "output_type": "execute_result"
    }
   ],
   "source": [
    "raw_zip_path_prefix = \"Data/TEKs/Raw/\"\n",
    "fail_on_error_backend_identifiers = [report_backend_identifier]\n",
    "multi_backend_exposure_keys_df = \\\n",
    "    exposure_notification_io.download_exposure_keys_from_backends(\n",
    "        backend_identifiers=report_backend_identifiers,\n",
    "        generation_days=backend_generation_days,\n",
    "        fail_on_error_backend_identifiers=fail_on_error_backend_identifiers,\n",
    "        save_raw_zip_path_prefix=raw_zip_path_prefix)\n",
    "multi_backend_exposure_keys_df[\"region\"] = multi_backend_exposure_keys_df[\"backend_identifier\"]\n",
    "multi_backend_exposure_keys_df.rename(\n",
    "    columns={\n",
    "        \"generation_datetime\": \"sample_datetime\",\n",
    "        \"generation_date_string\": \"sample_date_string\",\n",
    "    },\n",
    "    inplace=True)\n",
    "multi_backend_exposure_keys_df.head()"
   ]
  },
  {
   "cell_type": "code",
   "execution_count": 19,
   "metadata": {
    "collapsed": false,
    "execution": {
     "iopub.execute_input": "2020-11-26T23:25:22.539270Z",
     "iopub.status.busy": "2020-11-26T23:25:22.538708Z",
     "iopub.status.idle": "2020-11-26T23:25:22.767997Z",
     "shell.execute_reply": "2020-11-26T23:25:22.768806Z"
    },
    "papermill": {
     "duration": 0.282246,
     "end_time": "2020-11-26T23:25:22.768977",
     "exception": false,
     "start_time": "2020-11-26T23:25:22.486731",
     "status": "completed"
    },
    "pycharm": {
     "name": "#%%\n"
    },
    "tags": []
   },
   "outputs": [
    {
     "data": {
      "text/plain": [
       "<matplotlib.axes._subplots.AxesSubplot at 0x7f6117a23ca0>"
      ]
     },
     "execution_count": 19,
     "metadata": {},
     "output_type": "execute_result"
    },
    {
     "data": {
      "image/png": "[encoded data removed]",
      "text/plain": [
       "<Figure size 1080x432 with 1 Axes>"
      ]
     },
     "metadata": {},
     "output_type": "display_data"
    }
   ],
   "source": [
    "early_teks_df = multi_backend_exposure_keys_df[\n",
    "    multi_backend_exposure_keys_df.rolling_period < 144].copy()\n",
    "early_teks_df[\"rolling_period_in_hours\"] = early_teks_df.rolling_period / 6\n",
    "early_teks_df[early_teks_df.sample_date_string != extraction_date] \\\n",
    "    .rolling_period_in_hours.hist(bins=list(range(24)))"
   ]
  },
  {
   "cell_type": "code",
   "execution_count": 20,
   "metadata": {
    "collapsed": false,
    "execution": {
     "iopub.execute_input": "2020-11-26T23:25:22.875505Z",
     "iopub.status.busy": "2020-11-26T23:25:22.874681Z",
     "iopub.status.idle": "2020-11-26T23:25:23.069800Z",
     "shell.execute_reply": "2020-11-26T23:25:23.070569Z"
    },
    "papermill": {
     "duration": 0.252351,
     "end_time": "2020-11-26T23:25:23.070744",
     "exception": false,
     "start_time": "2020-11-26T23:25:22.818393",
     "status": "completed"
    },
    "pycharm": {
     "name": "#%%\n"
    },
    "tags": []
   },
   "outputs": [
    {
     "data": {
      "text/plain": [
       "<matplotlib.axes._subplots.AxesSubplot at 0x7f611042c820>"
      ]
     },
     "execution_count": 20,
     "metadata": {},
     "output_type": "execute_result"
    },
    {
     "data": {
      "image/png": "[encoded data removed]",
      "text/plain": [
       "<Figure size 1080x432 with 1 Axes>"
      ]
     },
     "metadata": {},
     "output_type": "display_data"
    }
   ],
   "source": [
    "early_teks_df[early_teks_df.sample_date_string == extraction_date] \\\n",
    "    .rolling_period_in_hours.hist(bins=list(range(24)))"
   ]
  },
  {
   "cell_type": "code",
   "execution_count": 21,
   "metadata": {
    "collapsed": false,
    "execution": {
     "iopub.execute_input": "2020-11-26T23:25:23.175069Z",
     "iopub.status.busy": "2020-11-26T23:25:23.174487Z",
     "iopub.status.idle": "2020-11-26T23:25:23.210727Z",
     "shell.execute_reply": "2020-11-26T23:25:23.211279Z"
    },
    "papermill": {
     "duration": 0.090909,
     "end_time": "2020-11-26T23:25:23.211440",
     "exception": false,
     "start_time": "2020-11-26T23:25:23.120531",
     "status": "completed"
    },
    "pycharm": {
     "name": "#%%\n"
    },
    "tags": []
   },
   "outputs": [
    {
     "data": {
      "text/html": [
       "<div>\n",
       "<style scoped>\n",
       "    .dataframe tbody tr th:only-of-type {\n",
       "        vertical-align: middle;\n",
       "    }\n",
       "\n",
       "    .dataframe tbody tr th {\n",
       "        vertical-align: top;\n",
       "    }\n",
       "\n",
       "    .dataframe thead th {\n",
       "        text-align: right;\n",
       "    }\n",
       "</style>\n",
       "<table border=\"1\" class=\"dataframe\">\n",
       "  <thead>\n",
       "    <tr style=\"text-align: right;\">\n",
       "      <th></th>\n",
       "      <th>sample_date_string</th>\n",
       "      <th>region</th>\n",
       "      <th>key_data</th>\n",
       "    </tr>\n",
       "  </thead>\n",
       "  <tbody>\n",
       "    <tr>\n",
       "      <th>0</th>\n",
       "      <td>2020-11-26</td>\n",
       "      <td>ES</td>\n",
       "      <td>c6dc3aa9-089f-1e51-2669-20e95558427f</td>\n",
       "    </tr>\n",
       "    <tr>\n",
       "      <th>1</th>\n",
       "      <td>2020-11-26</td>\n",
       "      <td>ES</td>\n",
       "      <td>19ca8826-b858-300c-8e34-fd89894702a6</td>\n",
       "    </tr>\n",
       "    <tr>\n",
       "      <th>2</th>\n",
       "      <td>2020-11-26</td>\n",
       "      <td>ES</td>\n",
       "      <td>5788248f-3d2c-1ff9-3180-41cca5fd3773</td>\n",
       "    </tr>\n",
       "    <tr>\n",
       "      <th>3</th>\n",
       "      <td>2020-11-26</td>\n",
       "      <td>ES</td>\n",
       "      <td>d31f2e2a-a11a-02a3-5fc4-e7c1675fa731</td>\n",
       "    </tr>\n",
       "    <tr>\n",
       "      <th>4</th>\n",
       "      <td>2020-11-26</td>\n",
       "      <td>ES</td>\n",
       "      <td>8d45ca4c-4aa0-1ce6-43dc-37d287b507f0</td>\n",
       "    </tr>\n",
       "  </tbody>\n",
       "</table>\n",
       "</div>"
      ],
      "text/plain": [
       "  sample_date_string region                              key_data\n",
       "0         2020-11-26     ES  c6dc3aa9-089f-1e51-2669-20e95558427f\n",
       "1         2020-11-26     ES  19ca8826-b858-300c-8e34-fd89894702a6\n",
       "2         2020-11-26     ES  5788248f-3d2c-1ff9-3180-41cca5fd3773\n",
       "3         2020-11-26     ES  d31f2e2a-a11a-02a3-5fc4-e7c1675fa731\n",
       "4         2020-11-26     ES  8d45ca4c-4aa0-1ce6-43dc-37d287b507f0"
      ]
     },
     "execution_count": 21,
     "metadata": {},
     "output_type": "execute_result"
    }
   ],
   "source": [
    "multi_backend_exposure_keys_df = multi_backend_exposure_keys_df[[\n",
    "    \"sample_date_string\", \"region\", \"key_data\"]]\n",
    "multi_backend_exposure_keys_df.head()"
   ]
  },
  {
   "cell_type": "code",
   "execution_count": 22,
   "metadata": {
    "collapsed": false,
    "execution": {
     "iopub.execute_input": "2020-11-26T23:25:23.329587Z",
     "iopub.status.busy": "2020-11-26T23:25:23.329006Z",
     "iopub.status.idle": "2020-11-26T23:25:27.205488Z",
     "shell.execute_reply": "2020-11-26T23:25:27.205020Z"
    },
    "papermill": {
     "duration": 3.943205,
     "end_time": "2020-11-26T23:25:27.205621",
     "exception": false,
     "start_time": "2020-11-26T23:25:23.262416",
     "status": "completed"
    },
    "pycharm": {
     "name": "#%%\n"
    },
    "tags": []
   },
   "outputs": [
    {
     "data": {
      "text/plain": [
       "['BE@TST', 'MT', 'EE', 'PT', 'BE', 'DK', 'CH', 'ES@PRE', 'DE', 'IT', 'ES']"
      ]
     },
     "execution_count": 22,
     "metadata": {},
     "output_type": "execute_result"
    }
   ],
   "source": [
    "active_regions = \\\n",
    "    multi_backend_exposure_keys_df.groupby(\"region\").key_data.nunique().sort_values().index.unique().tolist()\n",
    "active_regions"
   ]
  },
  {
   "cell_type": "code",
   "execution_count": 23,
   "metadata": {
    "collapsed": false,
    "execution": {
     "iopub.execute_input": "2020-11-26T23:25:27.344432Z",
     "iopub.status.busy": "2020-11-26T23:25:27.343400Z",
     "iopub.status.idle": "2020-11-26T23:25:31.338108Z",
     "shell.execute_reply": "2020-11-26T23:25:31.336923Z"
    },
    "papermill": {
     "duration": 4.082974,
     "end_time": "2020-11-26T23:25:31.338323",
     "exception": false,
     "start_time": "2020-11-26T23:25:27.255349",
     "status": "completed"
    },
    "pycharm": {
     "name": "#%%\n"
    },
    "tags": []
   },
   "outputs": [
    {
     "data": {
      "text/html": [
       "<div>\n",
       "<style scoped>\n",
       "    .dataframe tbody tr th:only-of-type {\n",
       "        vertical-align: middle;\n",
       "    }\n",
       "\n",
       "    .dataframe tbody tr th {\n",
       "        vertical-align: top;\n",
       "    }\n",
       "\n",
       "    .dataframe thead tr th {\n",
       "        text-align: left;\n",
       "    }\n",
       "\n",
       "    .dataframe thead tr:last-of-type th {\n",
       "        text-align: right;\n",
       "    }\n",
       "</style>\n",
       "<table border=\"1\" class=\"dataframe\">\n",
       "  <thead>\n",
       "    <tr>\n",
       "      <th></th>\n",
       "      <th colspan=\"11\" halign=\"left\">shared_teks_by_generation_date</th>\n",
       "    </tr>\n",
       "    <tr>\n",
       "      <th>region</th>\n",
       "      <th>BE</th>\n",
       "      <th>BE@TST</th>\n",
       "      <th>CH</th>\n",
       "      <th>DE</th>\n",
       "      <th>DK</th>\n",
       "      <th>EE</th>\n",
       "      <th>ES</th>\n",
       "      <th>ES@PRE</th>\n",
       "      <th>IT</th>\n",
       "      <th>MT</th>\n",
       "      <th>PT</th>\n",
       "    </tr>\n",
       "    <tr>\n",
       "      <th>sample_date</th>\n",
       "      <th></th>\n",
       "      <th></th>\n",
       "      <th></th>\n",
       "      <th></th>\n",
       "      <th></th>\n",
       "      <th></th>\n",
       "      <th></th>\n",
       "      <th></th>\n",
       "      <th></th>\n",
       "      <th></th>\n",
       "      <th></th>\n",
       "    </tr>\n",
       "  </thead>\n",
       "  <tbody>\n",
       "    <tr>\n",
       "      <th>2020-11-26</th>\n",
       "      <td>0</td>\n",
       "      <td>0</td>\n",
       "      <td>486</td>\n",
       "      <td>0</td>\n",
       "      <td>0</td>\n",
       "      <td>0</td>\n",
       "      <td>216</td>\n",
       "      <td>4</td>\n",
       "      <td>45</td>\n",
       "      <td>0</td>\n",
       "      <td>0</td>\n",
       "    </tr>\n",
       "    <tr>\n",
       "      <th>2020-11-25</th>\n",
       "      <td>0</td>\n",
       "      <td>0</td>\n",
       "      <td>1098</td>\n",
       "      <td>0</td>\n",
       "      <td>238</td>\n",
       "      <td>57</td>\n",
       "      <td>2385</td>\n",
       "      <td>297</td>\n",
       "      <td>2027</td>\n",
       "      <td>102</td>\n",
       "      <td>69</td>\n",
       "    </tr>\n",
       "    <tr>\n",
       "      <th>2020-11-24</th>\n",
       "      <td>141</td>\n",
       "      <td>51</td>\n",
       "      <td>1598</td>\n",
       "      <td>2202</td>\n",
       "      <td>465</td>\n",
       "      <td>93</td>\n",
       "      <td>5048</td>\n",
       "      <td>741</td>\n",
       "      <td>4295</td>\n",
       "      <td>106</td>\n",
       "      <td>100</td>\n",
       "    </tr>\n",
       "    <tr>\n",
       "      <th>2020-11-23</th>\n",
       "      <td>235</td>\n",
       "      <td>45</td>\n",
       "      <td>2008</td>\n",
       "      <td>3959</td>\n",
       "      <td>641</td>\n",
       "      <td>109</td>\n",
       "      <td>7017</td>\n",
       "      <td>1195</td>\n",
       "      <td>6033</td>\n",
       "      <td>108</td>\n",
       "      <td>138</td>\n",
       "    </tr>\n",
       "    <tr>\n",
       "      <th>2020-11-22</th>\n",
       "      <td>254</td>\n",
       "      <td>50</td>\n",
       "      <td>2213</td>\n",
       "      <td>4791</td>\n",
       "      <td>813</td>\n",
       "      <td>129</td>\n",
       "      <td>8056</td>\n",
       "      <td>1641</td>\n",
       "      <td>6865</td>\n",
       "      <td>112</td>\n",
       "      <td>161</td>\n",
       "    </tr>\n",
       "  </tbody>\n",
       "</table>\n",
       "</div>"
      ],
      "text/plain": [
       "            shared_teks_by_generation_date                                     \\\n",
       "region                                  BE BE@TST    CH    DE   DK   EE    ES   \n",
       "sample_date                                                                     \n",
       "2020-11-26                               0      0   486     0    0    0   216   \n",
       "2020-11-25                               0      0  1098     0  238   57  2385   \n",
       "2020-11-24                             141     51  1598  2202  465   93  5048   \n",
       "2020-11-23                             235     45  2008  3959  641  109  7017   \n",
       "2020-11-22                             254     50  2213  4791  813  129  8056   \n",
       "\n",
       "                                    \n",
       "region      ES@PRE    IT   MT   PT  \n",
       "sample_date                         \n",
       "2020-11-26       4    45    0    0  \n",
       "2020-11-25     297  2027  102   69  \n",
       "2020-11-24     741  4295  106  100  \n",
       "2020-11-23    1195  6033  108  138  \n",
       "2020-11-22    1641  6865  112  161  "
      ]
     },
     "execution_count": 23,
     "metadata": {},
     "output_type": "execute_result"
    }
   ],
   "source": [
    "multi_backend_summary_df = multi_backend_exposure_keys_df.groupby(\n",
    "    [\"sample_date_string\", \"region\"]).key_data.nunique().reset_index() \\\n",
    "    .pivot(index=\"sample_date_string\", columns=\"region\") \\\n",
    "    .sort_index(ascending=False)\n",
    "multi_backend_summary_df.rename(\n",
    "    columns={\"key_data\": \"shared_teks_by_generation_date\"},\n",
    "    inplace=True)\n",
    "multi_backend_summary_df.rename_axis(\"sample_date\", inplace=True)\n",
    "multi_backend_summary_df = multi_backend_summary_df.fillna(0).astype(int)\n",
    "multi_backend_summary_df = multi_backend_summary_df.head(backend_generation_days)\n",
    "multi_backend_summary_df.head()"
   ]
  },
  {
   "cell_type": "code",
   "execution_count": 24,
   "metadata": {
    "collapsed": false,
    "execution": {
     "iopub.execute_input": "2020-11-26T23:25:31.448434Z",
     "iopub.status.busy": "2020-11-26T23:25:31.447813Z",
     "iopub.status.idle": "2020-11-26T23:25:36.813379Z",
     "shell.execute_reply": "2020-11-26T23:25:36.812906Z"
    },
    "papermill": {
     "duration": 5.423628,
     "end_time": "2020-11-26T23:25:36.813511",
     "exception": false,
     "start_time": "2020-11-26T23:25:31.389883",
     "status": "completed"
    },
    "pycharm": {
     "name": "#%%\n"
    },
    "tags": []
   },
   "outputs": [
    {
     "name": "stderr",
     "output_type": "stream",
     "text": [
      "<ipython-input-24-4e21708c19d8>:2: FutureWarning: `item` has been deprecated and will be removed in a future version\n",
      "  teks_x = x.key_data_x.item()\n",
      "<ipython-input-24-4e21708c19d8>:3: FutureWarning: `item` has been deprecated and will be removed in a future version\n",
      "  common_teks = set(teks_x).intersection(x.key_data_y.item())\n"
     ]
    },
    {
     "name": "stderr",
     "output_type": "stream",
     "text": [
      "<ipython-input-24-4e21708c19d8>:33: FutureWarning: `item` has been deprecated and will be removed in a future version\n",
      "  aggfunc=lambda x: x.item())\n"
     ]
    },
    {
     "data": {
      "text/html": [
       "<div>\n",
       "<style scoped>\n",
       "    .dataframe tbody tr th:only-of-type {\n",
       "        vertical-align: middle;\n",
       "    }\n",
       "\n",
       "    .dataframe tbody tr th {\n",
       "        vertical-align: top;\n",
       "    }\n",
       "\n",
       "    .dataframe thead tr th {\n",
       "        text-align: left;\n",
       "    }\n",
       "\n",
       "    .dataframe thead tr:last-of-type th {\n",
       "        text-align: right;\n",
       "    }\n",
       "</style>\n",
       "<table border=\"1\" class=\"dataframe\">\n",
       "  <thead>\n",
       "    <tr>\n",
       "      <th></th>\n",
       "      <th colspan=\"11\" halign=\"left\">common_teks_fraction</th>\n",
       "    </tr>\n",
       "    <tr>\n",
       "      <th>region_x</th>\n",
       "      <th>BE</th>\n",
       "      <th>BE@TST</th>\n",
       "      <th>CH</th>\n",
       "      <th>DE</th>\n",
       "      <th>DK</th>\n",
       "      <th>EE</th>\n",
       "      <th>ES</th>\n",
       "      <th>ES@PRE</th>\n",
       "      <th>IT</th>\n",
       "      <th>MT</th>\n",
       "      <th>PT</th>\n",
       "    </tr>\n",
       "    <tr>\n",
       "      <th>region_y</th>\n",
       "      <th></th>\n",
       "      <th></th>\n",
       "      <th></th>\n",
       "      <th></th>\n",
       "      <th></th>\n",
       "      <th></th>\n",
       "      <th></th>\n",
       "      <th></th>\n",
       "      <th></th>\n",
       "      <th></th>\n",
       "      <th></th>\n",
       "    </tr>\n",
       "  </thead>\n",
       "  <tbody>\n",
       "    <tr>\n",
       "      <th>BE</th>\n",
       "      <td>NaN</td>\n",
       "      <td>0.0</td>\n",
       "      <td>0.0</td>\n",
       "      <td>0.000000</td>\n",
       "      <td>0.000000</td>\n",
       "      <td>0.0</td>\n",
       "      <td>0.000000</td>\n",
       "      <td>0.000000</td>\n",
       "      <td>0.000000</td>\n",
       "      <td>0.0</td>\n",
       "      <td>0.0</td>\n",
       "    </tr>\n",
       "    <tr>\n",
       "      <th>BE@TST</th>\n",
       "      <td>0.0</td>\n",
       "      <td>NaN</td>\n",
       "      <td>0.0</td>\n",
       "      <td>0.000000</td>\n",
       "      <td>0.000000</td>\n",
       "      <td>0.0</td>\n",
       "      <td>0.000000</td>\n",
       "      <td>0.000000</td>\n",
       "      <td>0.000000</td>\n",
       "      <td>0.0</td>\n",
       "      <td>0.0</td>\n",
       "    </tr>\n",
       "    <tr>\n",
       "      <th>CH</th>\n",
       "      <td>0.0</td>\n",
       "      <td>0.0</td>\n",
       "      <td>NaN</td>\n",
       "      <td>0.000000</td>\n",
       "      <td>0.000000</td>\n",
       "      <td>0.0</td>\n",
       "      <td>0.000000</td>\n",
       "      <td>0.000000</td>\n",
       "      <td>0.000000</td>\n",
       "      <td>0.0</td>\n",
       "      <td>0.0</td>\n",
       "    </tr>\n",
       "    <tr>\n",
       "      <th>DE</th>\n",
       "      <td>0.0</td>\n",
       "      <td>0.0</td>\n",
       "      <td>0.0</td>\n",
       "      <td>NaN</td>\n",
       "      <td>0.000000</td>\n",
       "      <td>0.0</td>\n",
       "      <td>0.686999</td>\n",
       "      <td>0.000141</td>\n",
       "      <td>0.799329</td>\n",
       "      <td>0.0</td>\n",
       "      <td>0.0</td>\n",
       "    </tr>\n",
       "    <tr>\n",
       "      <th>DK</th>\n",
       "      <td>0.0</td>\n",
       "      <td>0.0</td>\n",
       "      <td>0.0</td>\n",
       "      <td>0.000000</td>\n",
       "      <td>NaN</td>\n",
       "      <td>0.0</td>\n",
       "      <td>0.079732</td>\n",
       "      <td>0.000000</td>\n",
       "      <td>0.000000</td>\n",
       "      <td>0.0</td>\n",
       "      <td>0.0</td>\n",
       "    </tr>\n",
       "    <tr>\n",
       "      <th>EE</th>\n",
       "      <td>0.0</td>\n",
       "      <td>0.0</td>\n",
       "      <td>0.0</td>\n",
       "      <td>0.000000</td>\n",
       "      <td>0.000000</td>\n",
       "      <td>NaN</td>\n",
       "      <td>0.000000</td>\n",
       "      <td>0.000000</td>\n",
       "      <td>0.000000</td>\n",
       "      <td>0.0</td>\n",
       "      <td>0.0</td>\n",
       "    </tr>\n",
       "    <tr>\n",
       "      <th>ES</th>\n",
       "      <td>0.0</td>\n",
       "      <td>0.0</td>\n",
       "      <td>0.0</td>\n",
       "      <td>0.964391</td>\n",
       "      <td>0.812626</td>\n",
       "      <td>0.0</td>\n",
       "      <td>NaN</td>\n",
       "      <td>0.000141</td>\n",
       "      <td>0.978678</td>\n",
       "      <td>0.0</td>\n",
       "      <td>0.0</td>\n",
       "    </tr>\n",
       "    <tr>\n",
       "      <th>ES@PRE</th>\n",
       "      <td>0.0</td>\n",
       "      <td>0.0</td>\n",
       "      <td>0.0</td>\n",
       "      <td>0.000041</td>\n",
       "      <td>0.000000</td>\n",
       "      <td>0.0</td>\n",
       "      <td>0.000029</td>\n",
       "      <td>NaN</td>\n",
       "      <td>0.000034</td>\n",
       "      <td>0.0</td>\n",
       "      <td>0.0</td>\n",
       "    </tr>\n",
       "    <tr>\n",
       "      <th>IT</th>\n",
       "      <td>0.0</td>\n",
       "      <td>0.0</td>\n",
       "      <td>0.0</td>\n",
       "      <td>0.964391</td>\n",
       "      <td>0.000000</td>\n",
       "      <td>0.0</td>\n",
       "      <td>0.841144</td>\n",
       "      <td>0.000141</td>\n",
       "      <td>NaN</td>\n",
       "      <td>0.0</td>\n",
       "      <td>0.0</td>\n",
       "    </tr>\n",
       "    <tr>\n",
       "      <th>MT</th>\n",
       "      <td>0.0</td>\n",
       "      <td>0.0</td>\n",
       "      <td>0.0</td>\n",
       "      <td>0.000000</td>\n",
       "      <td>0.000000</td>\n",
       "      <td>0.0</td>\n",
       "      <td>0.000000</td>\n",
       "      <td>0.000000</td>\n",
       "      <td>0.000000</td>\n",
       "      <td>NaN</td>\n",
       "      <td>0.0</td>\n",
       "    </tr>\n",
       "    <tr>\n",
       "      <th>PT</th>\n",
       "      <td>0.0</td>\n",
       "      <td>0.0</td>\n",
       "      <td>0.0</td>\n",
       "      <td>0.000000</td>\n",
       "      <td>0.000000</td>\n",
       "      <td>0.0</td>\n",
       "      <td>0.000000</td>\n",
       "      <td>0.000000</td>\n",
       "      <td>0.000000</td>\n",
       "      <td>0.0</td>\n",
       "      <td>NaN</td>\n",
       "    </tr>\n",
       "  </tbody>\n",
       "</table>\n",
       "</div>"
      ],
      "text/plain": [
       "         common_teks_fraction                                                 \\\n",
       "region_x                   BE BE@TST   CH        DE        DK   EE        ES   \n",
       "region_y                                                                       \n",
       "BE                        NaN    0.0  0.0  0.000000  0.000000  0.0  0.000000   \n",
       "BE@TST                    0.0    NaN  0.0  0.000000  0.000000  0.0  0.000000   \n",
       "CH                        0.0    0.0  NaN  0.000000  0.000000  0.0  0.000000   \n",
       "DE                        0.0    0.0  0.0       NaN  0.000000  0.0  0.686999   \n",
       "DK                        0.0    0.0  0.0  0.000000       NaN  0.0  0.079732   \n",
       "EE                        0.0    0.0  0.0  0.000000  0.000000  NaN  0.000000   \n",
       "ES                        0.0    0.0  0.0  0.964391  0.812626  0.0       NaN   \n",
       "ES@PRE                    0.0    0.0  0.0  0.000041  0.000000  0.0  0.000029   \n",
       "IT                        0.0    0.0  0.0  0.964391  0.000000  0.0  0.841144   \n",
       "MT                        0.0    0.0  0.0  0.000000  0.000000  0.0  0.000000   \n",
       "PT                        0.0    0.0  0.0  0.000000  0.000000  0.0  0.000000   \n",
       "\n",
       "                                        \n",
       "region_x    ES@PRE        IT   MT   PT  \n",
       "region_y                                \n",
       "BE        0.000000  0.000000  0.0  0.0  \n",
       "BE@TST    0.000000  0.000000  0.0  0.0  \n",
       "CH        0.000000  0.000000  0.0  0.0  \n",
       "DE        0.000141  0.799329  0.0  0.0  \n",
       "DK        0.000000  0.000000  0.0  0.0  \n",
       "EE        0.000000  0.000000  0.0  0.0  \n",
       "ES        0.000141  0.978678  0.0  0.0  \n",
       "ES@PRE         NaN  0.000034  0.0  0.0  \n",
       "IT        0.000141       NaN  0.0  0.0  \n",
       "MT        0.000000  0.000000  NaN  0.0  \n",
       "PT        0.000000  0.000000  0.0  NaN  "
      ]
     },
     "execution_count": 24,
     "metadata": {},
     "output_type": "execute_result"
    }
   ],
   "source": [
    "def compute_keys_cross_sharing(x):\n",
    "    teks_x = x.key_data_x.item()\n",
    "    common_teks = set(teks_x).intersection(x.key_data_y.item())\n",
    "    common_teks_fraction = len(common_teks) / len(teks_x)\n",
    "    return pd.Series(dict(\n",
    "        common_teks=common_teks,\n",
    "        common_teks_fraction=common_teks_fraction,\n",
    "    ))\n",
    "\n",
    "multi_backend_exposure_keys_by_region_df = \\\n",
    "    multi_backend_exposure_keys_df.groupby(\"region\").key_data.unique().reset_index()\n",
    "multi_backend_exposure_keys_by_region_df[\"_merge\"] = True\n",
    "multi_backend_exposure_keys_by_region_combination_df = \\\n",
    "    multi_backend_exposure_keys_by_region_df.merge(\n",
    "        multi_backend_exposure_keys_by_region_df, on=\"_merge\")\n",
    "multi_backend_exposure_keys_by_region_combination_df.drop(\n",
    "    columns=[\"_merge\"], inplace=True)\n",
    "if multi_backend_exposure_keys_by_region_combination_df.region_x.nunique() > 1:\n",
    "    multi_backend_exposure_keys_by_region_combination_df = \\\n",
    "        multi_backend_exposure_keys_by_region_combination_df[\n",
    "            multi_backend_exposure_keys_by_region_combination_df.region_x !=\n",
    "            multi_backend_exposure_keys_by_region_combination_df.region_y]\n",
    "multi_backend_exposure_keys_cross_sharing_df = \\\n",
    "    multi_backend_exposure_keys_by_region_combination_df \\\n",
    "        .groupby([\"region_x\", \"region_y\"]) \\\n",
    "        .apply(compute_keys_cross_sharing) \\\n",
    "        .reset_index()\n",
    "multi_backend_cross_sharing_summary_df = \\\n",
    "    multi_backend_exposure_keys_cross_sharing_df.pivot_table(\n",
    "        values=[\"common_teks_fraction\"],\n",
    "        columns=\"region_x\",\n",
    "        index=\"region_y\",\n",
    "        aggfunc=lambda x: x.item())\n",
    "multi_backend_cross_sharing_summary_df"
   ]
  },
  {
   "cell_type": "code",
   "execution_count": 25,
   "metadata": {
    "collapsed": false,
    "execution": {
     "iopub.execute_input": "2020-11-26T23:25:36.965976Z",
     "iopub.status.busy": "2020-11-26T23:25:36.965383Z",
     "iopub.status.idle": "2020-11-26T23:25:39.091225Z",
     "shell.execute_reply": "2020-11-26T23:25:39.090395Z"
    },
    "papermill": {
     "duration": 2.220314,
     "end_time": "2020-11-26T23:25:39.091370",
     "exception": false,
     "start_time": "2020-11-26T23:25:36.871056",
     "status": "completed"
    },
    "pycharm": {
     "name": "#%%\n"
    },
    "tags": []
   },
   "outputs": [
    {
     "data": {
      "text/plain": [
       "['BE@TST', 'MT', 'EE', 'PT', 'BE', 'DK', 'CH', 'ES@PRE', 'DE', 'IT']"
      ]
     },
     "execution_count": 25,
     "metadata": {},
     "output_type": "execute_result"
    }
   ],
   "source": [
    "multi_backend_without_active_region_exposure_keys_df = \\\n",
    "    multi_backend_exposure_keys_df[multi_backend_exposure_keys_df.region != report_backend_identifier]\n",
    "multi_backend_without_active_region = \\\n",
    "    multi_backend_without_active_region_exposure_keys_df.groupby(\"region\").key_data.nunique().sort_values().index.unique().tolist()\n",
    "multi_backend_without_active_region"
   ]
  },
  {
   "cell_type": "code",
   "execution_count": 26,
   "metadata": {
    "execution": {
     "iopub.execute_input": "2020-11-26T23:25:39.234340Z",
     "iopub.status.busy": "2020-11-26T23:25:39.233741Z",
     "iopub.status.idle": "2020-11-26T23:25:40.632105Z",
     "shell.execute_reply": "2020-11-26T23:25:40.632660Z"
    },
    "papermill": {
     "duration": 1.489662,
     "end_time": "2020-11-26T23:25:40.632831",
     "exception": false,
     "start_time": "2020-11-26T23:25:39.143169",
     "status": "completed"
    },
    "scrolled": false,
    "tags": []
   },
   "outputs": [
    {
     "name": "stderr",
     "output_type": "stream",
     "text": [
      "/opt/hostedtoolcache/Python/3.8.6/x64/lib/python3.8/site-packages/pandas/core/frame.py:4110: SettingWithCopyWarning: \n",
      "A value is trying to be set on a copy of a slice from a DataFrame\n",
      "\n",
      "See the caveats in the documentation: http://pandas.pydata.org/pandas-docs/stable/user_guide/indexing.html#returning-a-view-versus-a-copy\n",
      "  return super().drop(\n"
     ]
    },
    {
     "data": {
      "text/html": [
       "<div>\n",
       "<style scoped>\n",
       "    .dataframe tbody tr th:only-of-type {\n",
       "        vertical-align: middle;\n",
       "    }\n",
       "\n",
       "    .dataframe tbody tr th {\n",
       "        vertical-align: top;\n",
       "    }\n",
       "\n",
       "    .dataframe thead th {\n",
       "        text-align: right;\n",
       "    }\n",
       "</style>\n",
       "<table border=\"1\" class=\"dataframe\">\n",
       "  <thead>\n",
       "    <tr style=\"text-align: right;\">\n",
       "      <th></th>\n",
       "      <th>shared_teks_by_generation_date</th>\n",
       "    </tr>\n",
       "    <tr>\n",
       "      <th>sample_date_string</th>\n",
       "      <th></th>\n",
       "    </tr>\n",
       "  </thead>\n",
       "  <tbody>\n",
       "    <tr>\n",
       "      <th>2020-11-26</th>\n",
       "      <td>216</td>\n",
       "    </tr>\n",
       "    <tr>\n",
       "      <th>2020-11-25</th>\n",
       "      <td>2385</td>\n",
       "    </tr>\n",
       "    <tr>\n",
       "      <th>2020-11-24</th>\n",
       "      <td>5048</td>\n",
       "    </tr>\n",
       "    <tr>\n",
       "      <th>2020-11-23</th>\n",
       "      <td>7017</td>\n",
       "    </tr>\n",
       "    <tr>\n",
       "      <th>2020-11-22</th>\n",
       "      <td>8056</td>\n",
       "    </tr>\n",
       "  </tbody>\n",
       "</table>\n",
       "</div>"
      ],
      "text/plain": [
       "                    shared_teks_by_generation_date\n",
       "sample_date_string                                \n",
       "2020-11-26                                     216\n",
       "2020-11-25                                    2385\n",
       "2020-11-24                                    5048\n",
       "2020-11-23                                    7017\n",
       "2020-11-22                                    8056"
      ]
     },
     "execution_count": 26,
     "metadata": {},
     "output_type": "execute_result"
    }
   ],
   "source": [
    "exposure_keys_summary_df = multi_backend_exposure_keys_df[\n",
    "    multi_backend_exposure_keys_df.region == report_backend_identifier]\n",
    "exposure_keys_summary_df.drop(columns=[\"region\"], inplace=True)\n",
    "exposure_keys_summary_df = \\\n",
    "    exposure_keys_summary_df.groupby([\"sample_date_string\"]).key_data.nunique().to_frame()\n",
    "exposure_keys_summary_df = \\\n",
    "    exposure_keys_summary_df.reset_index().set_index(\"sample_date_string\")\n",
    "exposure_keys_summary_df.sort_index(ascending=False, inplace=True)\n",
    "exposure_keys_summary_df.rename(columns={\"key_data\": \"shared_teks_by_generation_date\"}, inplace=True)\n",
    "exposure_keys_summary_df.head()"
   ]
  },
  {
   "cell_type": "markdown",
   "metadata": {
    "papermill": {
     "duration": 0.052685,
     "end_time": "2020-11-26T23:25:40.738869",
     "exception": false,
     "start_time": "2020-11-26T23:25:40.686184",
     "status": "completed"
    },
    "tags": []
   },
   "source": [
    "### Dump API TEKs"
   ]
  },
  {
   "cell_type": "code",
   "execution_count": 27,
   "metadata": {
    "execution": {
     "iopub.execute_input": "2020-11-26T23:25:40.852135Z",
     "iopub.status.busy": "2020-11-26T23:25:40.851542Z",
     "iopub.status.idle": "2020-11-26T23:25:43.412724Z",
     "shell.execute_reply": "2020-11-26T23:25:43.412237Z"
    },
    "papermill": {
     "duration": 2.621558,
     "end_time": "2020-11-26T23:25:43.412861",
     "exception": false,
     "start_time": "2020-11-26T23:25:40.791303",
     "status": "completed"
    },
    "tags": []
   },
   "outputs": [
    {
     "data": {
      "text/html": [
       "<div>\n",
       "<style scoped>\n",
       "    .dataframe tbody tr th:only-of-type {\n",
       "        vertical-align: middle;\n",
       "    }\n",
       "\n",
       "    .dataframe tbody tr th {\n",
       "        vertical-align: top;\n",
       "    }\n",
       "\n",
       "    .dataframe thead th {\n",
       "        text-align: right;\n",
       "    }\n",
       "</style>\n",
       "<table border=\"1\" class=\"dataframe\">\n",
       "  <thead>\n",
       "    <tr style=\"text-align: right;\">\n",
       "      <th></th>\n",
       "      <th>sample_date</th>\n",
       "      <th>region</th>\n",
       "      <th>tek_list</th>\n",
       "      <th>extraction_date</th>\n",
       "      <th>extraction_date_with_hour</th>\n",
       "    </tr>\n",
       "  </thead>\n",
       "  <tbody>\n",
       "    <tr>\n",
       "      <th>0</th>\n",
       "      <td>2020-11-13</td>\n",
       "      <td>BE</td>\n",
       "      <td>[01f11c7b-1c27-461d-2914-290016599a88, 0292225...</td>\n",
       "      <td>2020-11-26</td>\n",
       "      <td>2020-11-26@23</td>\n",
       "    </tr>\n",
       "    <tr>\n",
       "      <th>1</th>\n",
       "      <td>2020-11-13</td>\n",
       "      <td>BE@TST</td>\n",
       "      <td>[01c9d599-2c73-bb51-a5c5-96a4ba72bf79, 02e29d2...</td>\n",
       "      <td>2020-11-26</td>\n",
       "      <td>2020-11-26@23</td>\n",
       "    </tr>\n",
       "    <tr>\n",
       "      <th>2</th>\n",
       "      <td>2020-11-13</td>\n",
       "      <td>CH</td>\n",
       "      <td>[8c960805-393f-a804-93de-4dc855ec84bd, 0bf66ef...</td>\n",
       "      <td>2020-11-26</td>\n",
       "      <td>2020-11-26@23</td>\n",
       "    </tr>\n",
       "    <tr>\n",
       "      <th>3</th>\n",
       "      <td>2020-11-13</td>\n",
       "      <td>DE</td>\n",
       "      <td>[000c24d8-27c9-5ede-1832-efea5c93bd1f, 0072ac3...</td>\n",
       "      <td>2020-11-26</td>\n",
       "      <td>2020-11-26@23</td>\n",
       "    </tr>\n",
       "    <tr>\n",
       "      <th>4</th>\n",
       "      <td>2020-11-13</td>\n",
       "      <td>DK</td>\n",
       "      <td>[7199a1a3-1692-b764-f0d8-a72317395c15, 9b5549d...</td>\n",
       "      <td>2020-11-26</td>\n",
       "      <td>2020-11-26@23</td>\n",
       "    </tr>\n",
       "  </tbody>\n",
       "</table>\n",
       "</div>"
      ],
      "text/plain": [
       "  sample_date  region                                           tek_list  \\\n",
       "0  2020-11-13      BE  [01f11c7b-1c27-461d-2914-290016599a88, 0292225...   \n",
       "1  2020-11-13  BE@TST  [01c9d599-2c73-bb51-a5c5-96a4ba72bf79, 02e29d2...   \n",
       "2  2020-11-13      CH  [8c960805-393f-a804-93de-4dc855ec84bd, 0bf66ef...   \n",
       "3  2020-11-13      DE  [000c24d8-27c9-5ede-1832-efea5c93bd1f, 0072ac3...   \n",
       "4  2020-11-13      DK  [7199a1a3-1692-b764-f0d8-a72317395c15, 9b5549d...   \n",
       "\n",
       "  extraction_date extraction_date_with_hour  \n",
       "0      2020-11-26             2020-11-26@23  \n",
       "1      2020-11-26             2020-11-26@23  \n",
       "2      2020-11-26             2020-11-26@23  \n",
       "3      2020-11-26             2020-11-26@23  \n",
       "4      2020-11-26             2020-11-26@23  "
      ]
     },
     "execution_count": 27,
     "metadata": {},
     "output_type": "execute_result"
    }
   ],
   "source": [
    "tek_list_df = multi_backend_exposure_keys_df[\n",
    "    [\"sample_date_string\", \"region\", \"key_data\"]].copy()\n",
    "tek_list_df[\"key_data\"] = tek_list_df[\"key_data\"].apply(str)\n",
    "tek_list_df.rename(columns={\n",
    "    \"sample_date_string\": \"sample_date\",\n",
    "    \"key_data\": \"tek_list\"}, inplace=True)\n",
    "tek_list_df = tek_list_df.groupby(\n",
    "    [\"sample_date\", \"region\"]).tek_list.unique().reset_index()\n",
    "tek_list_df[\"extraction_date\"] = extraction_date\n",
    "tek_list_df[\"extraction_date_with_hour\"] = extraction_date_with_hour\n",
    "\n",
    "tek_list_path_prefix = \"Data/TEKs/\"\n",
    "tek_list_current_path = tek_list_path_prefix + f\"/Current/RadarCOVID-TEKs.json\"\n",
    "tek_list_daily_path = tek_list_path_prefix + f\"Daily/RadarCOVID-TEKs-{extraction_date}.json\"\n",
    "tek_list_hourly_path = tek_list_path_prefix + f\"Hourly/RadarCOVID-TEKs-{extraction_date_with_hour}.json\"\n",
    "\n",
    "for path in [tek_list_current_path, tek_list_daily_path, tek_list_hourly_path]:\n",
    "    os.makedirs(os.path.dirname(path), exist_ok=True)\n",
    "\n",
    "tek_list_df.drop(columns=[\"extraction_date\", \"extraction_date_with_hour\"]).to_json(\n",
    "    tek_list_current_path,\n",
    "    lines=True, orient=\"records\")\n",
    "tek_list_df.drop(columns=[\"extraction_date_with_hour\"]).to_json(\n",
    "    tek_list_daily_path,\n",
    "    lines=True, orient=\"records\")\n",
    "tek_list_df.to_json(\n",
    "    tek_list_hourly_path,\n",
    "    lines=True, orient=\"records\")\n",
    "tek_list_df.head()"
   ]
  },
  {
   "cell_type": "markdown",
   "metadata": {
    "papermill": {
     "duration": 0.052871,
     "end_time": "2020-11-26T23:25:43.519154",
     "exception": false,
     "start_time": "2020-11-26T23:25:43.466283",
     "status": "completed"
    },
    "tags": []
   },
   "source": [
    "### Load TEK Dumps"
   ]
  },
  {
   "cell_type": "code",
   "execution_count": 28,
   "metadata": {
    "execution": {
     "iopub.execute_input": "2020-11-26T23:25:43.635132Z",
     "iopub.status.busy": "2020-11-26T23:25:43.634129Z",
     "iopub.status.idle": "2020-11-26T23:25:43.636074Z",
     "shell.execute_reply": "2020-11-26T23:25:43.636559Z"
    },
    "papermill": {
     "duration": 0.06441,
     "end_time": "2020-11-26T23:25:43.636712",
     "exception": false,
     "start_time": "2020-11-26T23:25:43.572302",
     "status": "completed"
    },
    "tags": []
   },
   "outputs": [],
   "source": [
    "import glob\n",
    "\n",
    "def load_extracted_teks(mode, region=None, limit=None) -> pd.DataFrame:\n",
    "    extracted_teks_df = pd.DataFrame(columns=[\"region\"])\n",
    "    file_paths = list(reversed(sorted(glob.glob(tek_list_path_prefix + mode + \"/RadarCOVID-TEKs-*.json\"))))\n",
    "    if limit:\n",
    "        file_paths = file_paths[:limit]\n",
    "    for file_path in file_paths:\n",
    "        logging.info(f\"Loading TEKs from '{file_path}'...\")\n",
    "        iteration_extracted_teks_df = pd.read_json(file_path, lines=True)\n",
    "        extracted_teks_df = extracted_teks_df.append(\n",
    "            iteration_extracted_teks_df, sort=False)\n",
    "    extracted_teks_df[\"region\"] = \\\n",
    "        extracted_teks_df.region.fillna(spain_region_country_code).copy()\n",
    "    if region:\n",
    "        extracted_teks_df = \\\n",
    "            extracted_teks_df[extracted_teks_df.region == region]\n",
    "    return extracted_teks_df"
   ]
  },
  {
   "cell_type": "code",
   "execution_count": 29,
   "metadata": {
    "collapsed": false,
    "execution": {
     "iopub.execute_input": "2020-11-26T23:25:43.774840Z",
     "iopub.status.busy": "2020-11-26T23:25:43.774148Z",
     "iopub.status.idle": "2020-11-26T23:25:51.738797Z",
     "shell.execute_reply": "2020-11-26T23:25:51.738081Z"
    },
    "papermill": {
     "duration": 8.024996,
     "end_time": "2020-11-26T23:25:51.738992",
     "exception": false,
     "start_time": "2020-11-26T23:25:43.713996",
     "status": "completed"
    },
    "pycharm": {
     "name": "#%%\n"
    },
    "tags": []
   },
   "outputs": [
    {
     "data": {
      "text/html": [
       "<div>\n",
       "<style scoped>\n",
       "    .dataframe tbody tr th:only-of-type {\n",
       "        vertical-align: middle;\n",
       "    }\n",
       "\n",
       "    .dataframe tbody tr th {\n",
       "        vertical-align: top;\n",
       "    }\n",
       "\n",
       "    .dataframe thead th {\n",
       "        text-align: right;\n",
       "    }\n",
       "</style>\n",
       "<table border=\"1\" class=\"dataframe\">\n",
       "  <thead>\n",
       "    <tr style=\"text-align: right;\">\n",
       "      <th></th>\n",
       "      <th>region</th>\n",
       "      <th>sample_date</th>\n",
       "      <th>tek_list</th>\n",
       "      <th>extraction_date</th>\n",
       "    </tr>\n",
       "  </thead>\n",
       "  <tbody>\n",
       "    <tr>\n",
       "      <th>6</th>\n",
       "      <td>ES</td>\n",
       "      <td>2020-11-13</td>\n",
       "      <td>[bc93decf-dc1c-7de6-e160-a4f2fd05332d, e9de43b...</td>\n",
       "      <td>2020-11-26</td>\n",
       "    </tr>\n",
       "    <tr>\n",
       "      <th>17</th>\n",
       "      <td>ES</td>\n",
       "      <td>2020-11-14</td>\n",
       "      <td>[81bb75b0-f3e1-5ae6-50b4-c05bca7a9788, ec98900...</td>\n",
       "      <td>2020-11-26</td>\n",
       "    </tr>\n",
       "    <tr>\n",
       "      <th>28</th>\n",
       "      <td>ES</td>\n",
       "      <td>2020-11-15</td>\n",
       "      <td>[dc1b9aaf-cd34-f758-ebf3-020252891f9f, 703526e...</td>\n",
       "      <td>2020-11-26</td>\n",
       "    </tr>\n",
       "    <tr>\n",
       "      <th>39</th>\n",
       "      <td>ES</td>\n",
       "      <td>2020-11-16</td>\n",
       "      <td>[b9b4ae69-4958-ac2b-b461-63e8baf09320, acf04df...</td>\n",
       "      <td>2020-11-26</td>\n",
       "    </tr>\n",
       "    <tr>\n",
       "      <th>50</th>\n",
       "      <td>ES</td>\n",
       "      <td>2020-11-17</td>\n",
       "      <td>[eda9eb25-e3f3-d399-e562-09e6b4f0b1ad, bcef719...</td>\n",
       "      <td>2020-11-26</td>\n",
       "    </tr>\n",
       "  </tbody>\n",
       "</table>\n",
       "</div>"
      ],
      "text/plain": [
       "   region sample_date                                           tek_list  \\\n",
       "6      ES  2020-11-13  [bc93decf-dc1c-7de6-e160-a4f2fd05332d, e9de43b...   \n",
       "17     ES  2020-11-14  [81bb75b0-f3e1-5ae6-50b4-c05bca7a9788, ec98900...   \n",
       "28     ES  2020-11-15  [dc1b9aaf-cd34-f758-ebf3-020252891f9f, 703526e...   \n",
       "39     ES  2020-11-16  [b9b4ae69-4958-ac2b-b461-63e8baf09320, acf04df...   \n",
       "50     ES  2020-11-17  [eda9eb25-e3f3-d399-e562-09e6b4f0b1ad, bcef719...   \n",
       "\n",
       "   extraction_date  \n",
       "6       2020-11-26  \n",
       "17      2020-11-26  \n",
       "28      2020-11-26  \n",
       "39      2020-11-26  \n",
       "50      2020-11-26  "
      ]
     },
     "execution_count": 29,
     "metadata": {},
     "output_type": "execute_result"
    }
   ],
   "source": [
    "daily_extracted_teks_df = load_extracted_teks(\n",
    "    mode=\"Daily\",\n",
    "    region=report_backend_identifier,\n",
    "    limit=tek_dumps_load_limit)\n",
    "daily_extracted_teks_df.head()"
   ]
  },
  {
   "cell_type": "code",
   "execution_count": 30,
   "metadata": {
    "collapsed": false,
    "execution": {
     "iopub.execute_input": "2020-11-26T23:25:51.869325Z",
     "iopub.status.busy": "2020-11-26T23:25:51.854107Z",
     "iopub.status.idle": "2020-11-26T23:25:51.874698Z",
     "shell.execute_reply": "2020-11-26T23:25:51.874209Z"
    },
    "papermill": {
     "duration": 0.08093,
     "end_time": "2020-11-26T23:25:51.874824",
     "exception": false,
     "start_time": "2020-11-26T23:25:51.793894",
     "status": "completed"
    },
    "pycharm": {
     "name": "#%%\n"
    },
    "tags": []
   },
   "outputs": [
    {
     "data": {
      "text/html": [
       "<div>\n",
       "<style scoped>\n",
       "    .dataframe tbody tr th:only-of-type {\n",
       "        vertical-align: middle;\n",
       "    }\n",
       "\n",
       "    .dataframe tbody tr th {\n",
       "        vertical-align: top;\n",
       "    }\n",
       "\n",
       "    .dataframe thead th {\n",
       "        text-align: right;\n",
       "    }\n",
       "</style>\n",
       "<table border=\"1\" class=\"dataframe\">\n",
       "  <thead>\n",
       "    <tr style=\"text-align: right;\">\n",
       "      <th></th>\n",
       "      <th>shared_teks_by_generation_date</th>\n",
       "    </tr>\n",
       "    <tr>\n",
       "      <th>sample_date_string</th>\n",
       "      <th></th>\n",
       "    </tr>\n",
       "  </thead>\n",
       "  <tbody>\n",
       "    <tr>\n",
       "      <th>2020-11-26</th>\n",
       "      <td>216</td>\n",
       "    </tr>\n",
       "    <tr>\n",
       "      <th>2020-11-25</th>\n",
       "      <td>2385</td>\n",
       "    </tr>\n",
       "    <tr>\n",
       "      <th>2020-11-24</th>\n",
       "      <td>5048</td>\n",
       "    </tr>\n",
       "    <tr>\n",
       "      <th>2020-11-23</th>\n",
       "      <td>7017</td>\n",
       "    </tr>\n",
       "    <tr>\n",
       "      <th>2020-11-22</th>\n",
       "      <td>8056</td>\n",
       "    </tr>\n",
       "  </tbody>\n",
       "</table>\n",
       "</div>"
      ],
      "text/plain": [
       "                    shared_teks_by_generation_date\n",
       "sample_date_string                                \n",
       "2020-11-26                                     216\n",
       "2020-11-25                                    2385\n",
       "2020-11-24                                    5048\n",
       "2020-11-23                                    7017\n",
       "2020-11-22                                    8056"
      ]
     },
     "execution_count": 30,
     "metadata": {},
     "output_type": "execute_result"
    }
   ],
   "source": [
    "exposure_keys_summary_df_ = daily_extracted_teks_df \\\n",
    "    .sort_values(\"extraction_date\", ascending=False) \\\n",
    "    .groupby(\"sample_date\").tek_list.first() \\\n",
    "    .to_frame()\n",
    "exposure_keys_summary_df_.index.name = \"sample_date_string\"\n",
    "exposure_keys_summary_df_[\"tek_list\"] = \\\n",
    "    exposure_keys_summary_df_.tek_list.apply(len)\n",
    "exposure_keys_summary_df_ = exposure_keys_summary_df_ \\\n",
    "    .rename(columns={\"tek_list\": \"shared_teks_by_generation_date\"}) \\\n",
    "    .sort_index(ascending=False)\n",
    "exposure_keys_summary_df = exposure_keys_summary_df_\n",
    "exposure_keys_summary_df.head()"
   ]
  },
  {
   "cell_type": "markdown",
   "metadata": {
    "execution": {
     "iopub.execute_input": "2020-08-30T22:30:16.632967Z",
     "iopub.status.busy": "2020-08-30T22:30:16.632308Z",
     "iopub.status.idle": "2020-08-30T22:30:16.634945Z",
     "shell.execute_reply": "2020-08-30T22:30:16.635575Z"
    },
    "papermill": {
     "duration": 0.053997,
     "end_time": "2020-11-26T23:25:51.982918",
     "exception": false,
     "start_time": "2020-11-26T23:25:51.928921",
     "status": "completed"
    },
    "pycharm": {
     "name": "#%% md\n"
    },
    "tags": []
   },
   "source": [
    "### Daily New TEKs"
   ]
  },
  {
   "cell_type": "code",
   "execution_count": 31,
   "metadata": {
    "execution": {
     "iopub.execute_input": "2020-11-26T23:25:52.102459Z",
     "iopub.status.busy": "2020-11-26T23:25:52.101880Z",
     "iopub.status.idle": "2020-11-26T23:25:53.257490Z",
     "shell.execute_reply": "2020-11-26T23:25:53.258233Z"
    },
    "papermill": {
     "duration": 1.218825,
     "end_time": "2020-11-26T23:25:53.258411",
     "exception": false,
     "start_time": "2020-11-26T23:25:52.039586",
     "status": "completed"
    },
    "tags": []
   },
   "outputs": [
    {
     "data": {
      "text/html": [
       "<div>\n",
       "<style scoped>\n",
       "    .dataframe tbody tr th:only-of-type {\n",
       "        vertical-align: middle;\n",
       "    }\n",
       "\n",
       "    .dataframe tbody tr th {\n",
       "        vertical-align: top;\n",
       "    }\n",
       "\n",
       "    .dataframe thead th {\n",
       "        text-align: right;\n",
       "    }\n",
       "</style>\n",
       "<table border=\"1\" class=\"dataframe\">\n",
       "  <thead>\n",
       "    <tr style=\"text-align: right;\">\n",
       "      <th></th>\n",
       "      <th>tek_list</th>\n",
       "    </tr>\n",
       "    <tr>\n",
       "      <th>extraction_date</th>\n",
       "      <th></th>\n",
       "    </tr>\n",
       "  </thead>\n",
       "  <tbody>\n",
       "    <tr>\n",
       "      <th>2020-09-03</th>\n",
       "      <td>{757936ab-531c-4872-1d83-ce7a8d135211, 159e9c0...</td>\n",
       "    </tr>\n",
       "    <tr>\n",
       "      <th>2020-09-04</th>\n",
       "      <td>{757936ab-531c-4872-1d83-ce7a8d135211, 159e9c0...</td>\n",
       "    </tr>\n",
       "    <tr>\n",
       "      <th>2020-09-05</th>\n",
       "      <td>{757936ab-531c-4872-1d83-ce7a8d135211, 159e9c0...</td>\n",
       "    </tr>\n",
       "    <tr>\n",
       "      <th>2020-09-06</th>\n",
       "      <td>{757936ab-531c-4872-1d83-ce7a8d135211, 159e9c0...</td>\n",
       "    </tr>\n",
       "    <tr>\n",
       "      <th>2020-09-07</th>\n",
       "      <td>{757936ab-531c-4872-1d83-ce7a8d135211, 159e9c0...</td>\n",
       "    </tr>\n",
       "  </tbody>\n",
       "</table>\n",
       "</div>"
      ],
      "text/plain": [
       "                                                          tek_list\n",
       "extraction_date                                                   \n",
       "2020-09-03       {757936ab-531c-4872-1d83-ce7a8d135211, 159e9c0...\n",
       "2020-09-04       {757936ab-531c-4872-1d83-ce7a8d135211, 159e9c0...\n",
       "2020-09-05       {757936ab-531c-4872-1d83-ce7a8d135211, 159e9c0...\n",
       "2020-09-06       {757936ab-531c-4872-1d83-ce7a8d135211, 159e9c0...\n",
       "2020-09-07       {757936ab-531c-4872-1d83-ce7a8d135211, 159e9c0..."
      ]
     },
     "execution_count": 31,
     "metadata": {},
     "output_type": "execute_result"
    }
   ],
   "source": [
    "tek_list_df = daily_extracted_teks_df.groupby(\"extraction_date\").tek_list.apply(\n",
    "    lambda x: set(sum(x, []))).reset_index()\n",
    "tek_list_df = tek_list_df.set_index(\"extraction_date\").sort_index(ascending=True)\n",
    "tek_list_df.head()"
   ]
  },
  {
   "cell_type": "code",
   "execution_count": 32,
   "metadata": {
    "collapsed": false,
    "execution": {
     "iopub.execute_input": "2020-11-26T23:25:53.377503Z",
     "iopub.status.busy": "2020-11-26T23:25:53.376922Z",
     "iopub.status.idle": "2020-11-26T23:26:41.252980Z",
     "shell.execute_reply": "2020-11-26T23:26:41.253474Z"
    },
    "papermill": {
     "duration": 47.940649,
     "end_time": "2020-11-26T23:26:41.253635",
     "exception": false,
     "start_time": "2020-11-26T23:25:53.312986",
     "status": "completed"
    },
    "pycharm": {
     "name": "#%%\n"
    },
    "tags": []
   },
   "outputs": [
    {
     "name": "stderr",
     "output_type": "stream",
     "text": [
      "<ipython-input-32-827222b35590>:4: FutureWarning: `item` has been deprecated and will be removed in a future version\n",
      "  day_new_teks_set = day_new_teks_set_df[\n"
     ]
    },
    {
     "data": {
      "text/html": [
       "<div>\n",
       "<style scoped>\n",
       "    .dataframe tbody tr th:only-of-type {\n",
       "        vertical-align: middle;\n",
       "    }\n",
       "\n",
       "    .dataframe tbody tr th {\n",
       "        vertical-align: top;\n",
       "    }\n",
       "\n",
       "    .dataframe thead th {\n",
       "        text-align: right;\n",
       "    }\n",
       "</style>\n",
       "<table border=\"1\" class=\"dataframe\">\n",
       "  <thead>\n",
       "    <tr style=\"text-align: right;\">\n",
       "      <th></th>\n",
       "      <th>upload_date</th>\n",
       "      <th>generation_date</th>\n",
       "      <th>shared_teks</th>\n",
       "      <th>generation_to_upload_days</th>\n",
       "    </tr>\n",
       "  </thead>\n",
       "  <tbody>\n",
       "    <tr>\n",
       "      <th>12</th>\n",
       "      <td>2020-09-04</td>\n",
       "      <td>2020-09-03</td>\n",
       "      <td>20</td>\n",
       "      <td>1</td>\n",
       "    </tr>\n",
       "    <tr>\n",
       "      <th>11</th>\n",
       "      <td>2020-09-04</td>\n",
       "      <td>2020-09-02</td>\n",
       "      <td>11</td>\n",
       "      <td>2</td>\n",
       "    </tr>\n",
       "    <tr>\n",
       "      <th>10</th>\n",
       "      <td>2020-09-04</td>\n",
       "      <td>2020-09-01</td>\n",
       "      <td>9</td>\n",
       "      <td>3</td>\n",
       "    </tr>\n",
       "    <tr>\n",
       "      <th>9</th>\n",
       "      <td>2020-09-04</td>\n",
       "      <td>2020-08-31</td>\n",
       "      <td>9</td>\n",
       "      <td>4</td>\n",
       "    </tr>\n",
       "    <tr>\n",
       "      <th>8</th>\n",
       "      <td>2020-09-04</td>\n",
       "      <td>2020-08-30</td>\n",
       "      <td>9</td>\n",
       "      <td>5</td>\n",
       "    </tr>\n",
       "  </tbody>\n",
       "</table>\n",
       "</div>"
      ],
      "text/plain": [
       "   upload_date generation_date  shared_teks  generation_to_upload_days\n",
       "12  2020-09-04      2020-09-03           20                          1\n",
       "11  2020-09-04      2020-09-02           11                          2\n",
       "10  2020-09-04      2020-09-01            9                          3\n",
       "9   2020-09-04      2020-08-31            9                          4\n",
       "8   2020-09-04      2020-08-30            9                          5"
      ]
     },
     "execution_count": 32,
     "metadata": {},
     "output_type": "execute_result"
    }
   ],
   "source": [
    "def compute_teks_by_generation_and_upload_date(date):\n",
    "    day_new_teks_set_df = tek_list_df.copy().diff()\n",
    "    try:\n",
    "        day_new_teks_set = day_new_teks_set_df[\n",
    "            day_new_teks_set_df.index == date].tek_list.item()\n",
    "    except ValueError:\n",
    "        day_new_teks_set = None\n",
    "    if pd.isna(day_new_teks_set):\n",
    "        day_new_teks_set = set()\n",
    "    day_new_teks_df = daily_extracted_teks_df[\n",
    "        daily_extracted_teks_df.extraction_date == date].copy()\n",
    "    day_new_teks_df[\"shared_teks\"] = \\\n",
    "        day_new_teks_df.tek_list.apply(lambda x: set(x).intersection(day_new_teks_set))\n",
    "    day_new_teks_df[\"shared_teks\"] = \\\n",
    "        day_new_teks_df.shared_teks.apply(len)\n",
    "    day_new_teks_df[\"upload_date\"] = date\n",
    "    day_new_teks_df.rename(columns={\"sample_date\": \"generation_date\"}, inplace=True)\n",
    "    day_new_teks_df = day_new_teks_df[\n",
    "        [\"upload_date\", \"generation_date\", \"shared_teks\"]]\n",
    "    day_new_teks_df[\"generation_to_upload_days\"] = \\\n",
    "        (pd.to_datetime(day_new_teks_df.upload_date) -\n",
    "         pd.to_datetime(day_new_teks_df.generation_date)).dt.days\n",
    "    day_new_teks_df = day_new_teks_df[day_new_teks_df.shared_teks > 0]\n",
    "    return day_new_teks_df\n",
    "\n",
    "shared_teks_generation_to_upload_df = pd.DataFrame()\n",
    "for upload_date in daily_extracted_teks_df.extraction_date.unique():\n",
    "    shared_teks_generation_to_upload_df = \\\n",
    "        shared_teks_generation_to_upload_df.append(\n",
    "            compute_teks_by_generation_and_upload_date(date=upload_date))\n",
    "shared_teks_generation_to_upload_df \\\n",
    "    .sort_values([\"upload_date\", \"generation_date\"], ascending=False, inplace=True)\n",
    "shared_teks_generation_to_upload_df.tail()"
   ]
  },
  {
   "cell_type": "code",
   "execution_count": 33,
   "metadata": {
    "collapsed": false,
    "execution": {
     "iopub.execute_input": "2020-11-26T23:26:41.383181Z",
     "iopub.status.busy": "2020-11-26T23:26:41.382573Z",
     "iopub.status.idle": "2020-11-26T23:26:41.386628Z",
     "shell.execute_reply": "2020-11-26T23:26:41.386000Z"
    },
    "papermill": {
     "duration": 0.075372,
     "end_time": "2020-11-26T23:26:41.386760",
     "exception": false,
     "start_time": "2020-11-26T23:26:41.311388",
     "status": "completed"
    },
    "pycharm": {
     "name": "#%%\n"
    },
    "tags": []
   },
   "outputs": [
    {
     "data": {
      "text/html": [
       "<div>\n",
       "<style scoped>\n",
       "    .dataframe tbody tr th:only-of-type {\n",
       "        vertical-align: middle;\n",
       "    }\n",
       "\n",
       "    .dataframe tbody tr th {\n",
       "        vertical-align: top;\n",
       "    }\n",
       "\n",
       "    .dataframe thead th {\n",
       "        text-align: right;\n",
       "    }\n",
       "</style>\n",
       "<table border=\"1\" class=\"dataframe\">\n",
       "  <thead>\n",
       "    <tr style=\"text-align: right;\">\n",
       "      <th></th>\n",
       "      <th>upload_date</th>\n",
       "      <th>generation_date</th>\n",
       "      <th>shared_teks</th>\n",
       "      <th>generation_to_upload_days</th>\n",
       "    </tr>\n",
       "  </thead>\n",
       "  <tbody>\n",
       "    <tr>\n",
       "      <th>50</th>\n",
       "      <td>2020-11-26</td>\n",
       "      <td>2020-11-17</td>\n",
       "      <td>2350</td>\n",
       "      <td>9</td>\n",
       "    </tr>\n",
       "    <tr>\n",
       "      <th>39</th>\n",
       "      <td>2020-11-26</td>\n",
       "      <td>2020-11-16</td>\n",
       "      <td>2301</td>\n",
       "      <td>10</td>\n",
       "    </tr>\n",
       "    <tr>\n",
       "      <th>28</th>\n",
       "      <td>2020-11-26</td>\n",
       "      <td>2020-11-15</td>\n",
       "      <td>2214</td>\n",
       "      <td>11</td>\n",
       "    </tr>\n",
       "    <tr>\n",
       "      <th>17</th>\n",
       "      <td>2020-11-26</td>\n",
       "      <td>2020-11-14</td>\n",
       "      <td>2178</td>\n",
       "      <td>12</td>\n",
       "    </tr>\n",
       "    <tr>\n",
       "      <th>6</th>\n",
       "      <td>2020-11-26</td>\n",
       "      <td>2020-11-13</td>\n",
       "      <td>2219</td>\n",
       "      <td>13</td>\n",
       "    </tr>\n",
       "  </tbody>\n",
       "</table>\n",
       "</div>"
      ],
      "text/plain": [
       "   upload_date generation_date  shared_teks  generation_to_upload_days\n",
       "50  2020-11-26      2020-11-17         2350                          9\n",
       "39  2020-11-26      2020-11-16         2301                         10\n",
       "28  2020-11-26      2020-11-15         2214                         11\n",
       "17  2020-11-26      2020-11-14         2178                         12\n",
       "6   2020-11-26      2020-11-13         2219                         13"
      ]
     },
     "execution_count": 33,
     "metadata": {},
     "output_type": "execute_result"
    }
   ],
   "source": [
    "today_new_teks_df = \\\n",
    "    shared_teks_generation_to_upload_df[\n",
    "        shared_teks_generation_to_upload_df.upload_date == extraction_date].copy()\n",
    "today_new_teks_df.tail()"
   ]
  },
  {
   "cell_type": "code",
   "execution_count": 34,
   "metadata": {
    "collapsed": false,
    "execution": {
     "iopub.execute_input": "2020-11-26T23:26:41.507791Z",
     "iopub.status.busy": "2020-11-26T23:26:41.507219Z",
     "iopub.status.idle": "2020-11-26T23:26:42.006481Z",
     "shell.execute_reply": "2020-11-26T23:26:42.005681Z"
    },
    "papermill": {
     "duration": 0.560528,
     "end_time": "2020-11-26T23:26:42.006619",
     "exception": false,
     "start_time": "2020-11-26T23:26:41.446091",
     "status": "completed"
    },
    "pycharm": {
     "name": "#%%\n"
    },
    "tags": []
   },
   "outputs": [
    {
     "data": {
      "image/png": "[encoded data removed]",
      "text/plain": [
       "<Figure size 1080x432 with 1 Axes>"
      ]
     },
     "metadata": {},
     "output_type": "display_data"
    }
   ],
   "source": [
    "if not today_new_teks_df.empty:\n",
    "    today_new_teks_df.set_index(\"generation_to_upload_days\") \\\n",
    "        .sort_index().shared_teks.plot.bar()"
   ]
  },
  {
   "cell_type": "code",
   "execution_count": 35,
   "metadata": {
    "collapsed": false,
    "execution": {
     "iopub.execute_input": "2020-11-26T23:26:42.129077Z",
     "iopub.status.busy": "2020-11-26T23:26:42.128492Z",
     "iopub.status.idle": "2020-11-26T23:26:42.143131Z",
     "shell.execute_reply": "2020-11-26T23:26:42.142645Z"
    },
    "papermill": {
     "duration": 0.079539,
     "end_time": "2020-11-26T23:26:42.143256",
     "exception": false,
     "start_time": "2020-11-26T23:26:42.063717",
     "status": "completed"
    },
    "pycharm": {
     "name": "#%%\n"
    },
    "tags": []
   },
   "outputs": [
    {
     "data": {
      "text/html": [
       "<div>\n",
       "<style scoped>\n",
       "    .dataframe tbody tr th:only-of-type {\n",
       "        vertical-align: middle;\n",
       "    }\n",
       "\n",
       "    .dataframe tbody tr th {\n",
       "        vertical-align: top;\n",
       "    }\n",
       "\n",
       "    .dataframe thead th {\n",
       "        text-align: right;\n",
       "    }\n",
       "</style>\n",
       "<table border=\"1\" class=\"dataframe\">\n",
       "  <thead>\n",
       "    <tr style=\"text-align: right;\">\n",
       "      <th>generation_to_upload_days</th>\n",
       "      <th>0</th>\n",
       "      <th>1</th>\n",
       "      <th>2</th>\n",
       "      <th>3</th>\n",
       "      <th>4</th>\n",
       "      <th>5</th>\n",
       "      <th>6</th>\n",
       "      <th>7</th>\n",
       "      <th>8</th>\n",
       "      <th>9</th>\n",
       "      <th>10</th>\n",
       "      <th>11</th>\n",
       "      <th>12</th>\n",
       "      <th>13</th>\n",
       "    </tr>\n",
       "    <tr>\n",
       "      <th>upload_date</th>\n",
       "      <th></th>\n",
       "      <th></th>\n",
       "      <th></th>\n",
       "      <th></th>\n",
       "      <th></th>\n",
       "      <th></th>\n",
       "      <th></th>\n",
       "      <th></th>\n",
       "      <th></th>\n",
       "      <th></th>\n",
       "      <th></th>\n",
       "      <th></th>\n",
       "      <th></th>\n",
       "      <th></th>\n",
       "    </tr>\n",
       "  </thead>\n",
       "  <tbody>\n",
       "    <tr>\n",
       "      <th>2020-11-26</th>\n",
       "      <td>216</td>\n",
       "      <td>2158</td>\n",
       "      <td>3037</td>\n",
       "      <td>2811</td>\n",
       "      <td>2643</td>\n",
       "      <td>2534</td>\n",
       "      <td>2479</td>\n",
       "      <td>2416</td>\n",
       "      <td>2358</td>\n",
       "      <td>2350</td>\n",
       "      <td>2301</td>\n",
       "      <td>2214</td>\n",
       "      <td>2178</td>\n",
       "      <td>2219</td>\n",
       "    </tr>\n",
       "    <tr>\n",
       "      <th>2020-11-25</th>\n",
       "      <td>227</td>\n",
       "      <td>1847</td>\n",
       "      <td>2822</td>\n",
       "      <td>2722</td>\n",
       "      <td>2613</td>\n",
       "      <td>2523</td>\n",
       "      <td>2448</td>\n",
       "      <td>2336</td>\n",
       "      <td>2289</td>\n",
       "      <td>2242</td>\n",
       "      <td>2185</td>\n",
       "      <td>2160</td>\n",
       "      <td>2171</td>\n",
       "      <td>2108</td>\n",
       "    </tr>\n",
       "    <tr>\n",
       "      <th>2020-11-24</th>\n",
       "      <td>164</td>\n",
       "      <td>1237</td>\n",
       "      <td>1667</td>\n",
       "      <td>1624</td>\n",
       "      <td>1537</td>\n",
       "      <td>1472</td>\n",
       "      <td>1391</td>\n",
       "      <td>1348</td>\n",
       "      <td>1308</td>\n",
       "      <td>1265</td>\n",
       "      <td>1235</td>\n",
       "      <td>1210</td>\n",
       "      <td>1184</td>\n",
       "      <td>1158</td>\n",
       "    </tr>\n",
       "    <tr>\n",
       "      <th>2020-11-23</th>\n",
       "      <td>147</td>\n",
       "      <td>892</td>\n",
       "      <td>1332</td>\n",
       "      <td>1264</td>\n",
       "      <td>1167</td>\n",
       "      <td>1080</td>\n",
       "      <td>1011</td>\n",
       "      <td>964</td>\n",
       "      <td>915</td>\n",
       "      <td>897</td>\n",
       "      <td>880</td>\n",
       "      <td>854</td>\n",
       "      <td>835</td>\n",
       "      <td>823</td>\n",
       "    </tr>\n",
       "    <tr>\n",
       "      <th>2020-11-22</th>\n",
       "      <td>132</td>\n",
       "      <td>897</td>\n",
       "      <td>1524</td>\n",
       "      <td>1359</td>\n",
       "      <td>1256</td>\n",
       "      <td>1189</td>\n",
       "      <td>1133</td>\n",
       "      <td>1091</td>\n",
       "      <td>1055</td>\n",
       "      <td>1038</td>\n",
       "      <td>1008</td>\n",
       "      <td>982</td>\n",
       "      <td>962</td>\n",
       "      <td>942</td>\n",
       "    </tr>\n",
       "  </tbody>\n",
       "</table>\n",
       "</div>"
      ],
      "text/plain": [
       "generation_to_upload_days   0     1     2     3     4     5     6     7   \\\n",
       "upload_date                                                                \n",
       "2020-11-26                 216  2158  3037  2811  2643  2534  2479  2416   \n",
       "2020-11-25                 227  1847  2822  2722  2613  2523  2448  2336   \n",
       "2020-11-24                 164  1237  1667  1624  1537  1472  1391  1348   \n",
       "2020-11-23                 147   892  1332  1264  1167  1080  1011   964   \n",
       "2020-11-22                 132   897  1524  1359  1256  1189  1133  1091   \n",
       "\n",
       "generation_to_upload_days    8     9     10    11    12    13  \n",
       "upload_date                                                    \n",
       "2020-11-26                 2358  2350  2301  2214  2178  2219  \n",
       "2020-11-25                 2289  2242  2185  2160  2171  2108  \n",
       "2020-11-24                 1308  1265  1235  1210  1184  1158  \n",
       "2020-11-23                  915   897   880   854   835   823  \n",
       "2020-11-22                 1055  1038  1008   982   962   942  "
      ]
     },
     "execution_count": 35,
     "metadata": {},
     "output_type": "execute_result"
    }
   ],
   "source": [
    "generation_to_upload_period_pivot_df = \\\n",
    "    shared_teks_generation_to_upload_df[\n",
    "        [\"upload_date\", \"generation_to_upload_days\", \"shared_teks\"]] \\\n",
    "        .pivot(index=\"upload_date\", columns=\"generation_to_upload_days\") \\\n",
    "        .sort_index(ascending=False).fillna(0).astype(int) \\\n",
    "        .droplevel(level=0, axis=1)\n",
    "generation_to_upload_period_pivot_df.head()"
   ]
  },
  {
   "cell_type": "code",
   "execution_count": 36,
   "metadata": {
    "collapsed": false,
    "execution": {
     "iopub.execute_input": "2020-11-26T23:26:42.827491Z",
     "iopub.status.busy": "2020-11-26T23:26:42.826887Z",
     "iopub.status.idle": "2020-11-26T23:26:42.833228Z",
     "shell.execute_reply": "2020-11-26T23:26:42.832741Z"
    },
    "papermill": {
     "duration": 0.632644,
     "end_time": "2020-11-26T23:26:42.833360",
     "exception": false,
     "start_time": "2020-11-26T23:26:42.200716",
     "status": "completed"
    },
    "pycharm": {
     "name": "#%%\n"
    },
    "tags": []
   },
   "outputs": [
    {
     "data": {
      "text/html": [
       "<div>\n",
       "<style scoped>\n",
       "    .dataframe tbody tr th:only-of-type {\n",
       "        vertical-align: middle;\n",
       "    }\n",
       "\n",
       "    .dataframe tbody tr th {\n",
       "        vertical-align: top;\n",
       "    }\n",
       "\n",
       "    .dataframe thead th {\n",
       "        text-align: right;\n",
       "    }\n",
       "</style>\n",
       "<table border=\"1\" class=\"dataframe\">\n",
       "  <thead>\n",
       "    <tr style=\"text-align: right;\">\n",
       "      <th></th>\n",
       "      <th>sample_date_string</th>\n",
       "      <th>shared_teks_by_upload_date</th>\n",
       "    </tr>\n",
       "  </thead>\n",
       "  <tbody>\n",
       "    <tr>\n",
       "      <th>80</th>\n",
       "      <td>2020-11-22</td>\n",
       "      <td>14568.0</td>\n",
       "    </tr>\n",
       "    <tr>\n",
       "      <th>81</th>\n",
       "      <td>2020-11-23</td>\n",
       "      <td>13061.0</td>\n",
       "    </tr>\n",
       "    <tr>\n",
       "      <th>82</th>\n",
       "      <td>2020-11-24</td>\n",
       "      <td>17800.0</td>\n",
       "    </tr>\n",
       "    <tr>\n",
       "      <th>83</th>\n",
       "      <td>2020-11-25</td>\n",
       "      <td>30693.0</td>\n",
       "    </tr>\n",
       "    <tr>\n",
       "      <th>84</th>\n",
       "      <td>2020-11-26</td>\n",
       "      <td>31914.0</td>\n",
       "    </tr>\n",
       "  </tbody>\n",
       "</table>\n",
       "</div>"
      ],
      "text/plain": [
       "   sample_date_string  shared_teks_by_upload_date\n",
       "80         2020-11-22                     14568.0\n",
       "81         2020-11-23                     13061.0\n",
       "82         2020-11-24                     17800.0\n",
       "83         2020-11-25                     30693.0\n",
       "84         2020-11-26                     31914.0"
      ]
     },
     "execution_count": 36,
     "metadata": {},
     "output_type": "execute_result"
    }
   ],
   "source": [
    "new_tek_df = tek_list_df.diff().tek_list.apply(\n",
    "    lambda x: len(x) if not pd.isna(x) else None).to_frame().reset_index()\n",
    "new_tek_df.rename(columns={\n",
    "    \"tek_list\": \"shared_teks_by_upload_date\",\n",
    "    \"extraction_date\": \"sample_date_string\",}, inplace=True)\n",
    "new_tek_df.tail()"
   ]
  },
  {
   "cell_type": "code",
   "execution_count": 37,
   "metadata": {
    "collapsed": false,
    "execution": {
     "iopub.execute_input": "2020-11-26T23:26:42.959352Z",
     "iopub.status.busy": "2020-11-26T23:26:42.958755Z",
     "iopub.status.idle": "2020-11-26T23:26:42.964028Z",
     "shell.execute_reply": "2020-11-26T23:26:42.964522Z"
    },
    "papermill": {
     "duration": 0.074224,
     "end_time": "2020-11-26T23:26:42.964686",
     "exception": false,
     "start_time": "2020-11-26T23:26:42.890462",
     "status": "completed"
    },
    "pycharm": {
     "name": "#%%\n"
    },
    "tags": []
   },
   "outputs": [
    {
     "data": {
      "text/html": [
       "<div>\n",
       "<style scoped>\n",
       "    .dataframe tbody tr th:only-of-type {\n",
       "        vertical-align: middle;\n",
       "    }\n",
       "\n",
       "    .dataframe tbody tr th {\n",
       "        vertical-align: top;\n",
       "    }\n",
       "\n",
       "    .dataframe thead th {\n",
       "        text-align: right;\n",
       "    }\n",
       "</style>\n",
       "<table border=\"1\" class=\"dataframe\">\n",
       "  <thead>\n",
       "    <tr style=\"text-align: right;\">\n",
       "      <th></th>\n",
       "      <th>sample_date_string</th>\n",
       "      <th>shared_teks_uploaded_on_generation_date</th>\n",
       "    </tr>\n",
       "  </thead>\n",
       "  <tbody>\n",
       "    <tr>\n",
       "      <th>141</th>\n",
       "      <td>2020-11-26</td>\n",
       "      <td>216</td>\n",
       "    </tr>\n",
       "    <tr>\n",
       "      <th>141</th>\n",
       "      <td>2020-11-25</td>\n",
       "      <td>227</td>\n",
       "    </tr>\n",
       "    <tr>\n",
       "      <th>141</th>\n",
       "      <td>2020-11-24</td>\n",
       "      <td>164</td>\n",
       "    </tr>\n",
       "    <tr>\n",
       "      <th>142</th>\n",
       "      <td>2020-11-23</td>\n",
       "      <td>147</td>\n",
       "    </tr>\n",
       "    <tr>\n",
       "      <th>142</th>\n",
       "      <td>2020-11-22</td>\n",
       "      <td>132</td>\n",
       "    </tr>\n",
       "  </tbody>\n",
       "</table>\n",
       "</div>"
      ],
      "text/plain": [
       "    sample_date_string  shared_teks_uploaded_on_generation_date\n",
       "141         2020-11-26                                      216\n",
       "141         2020-11-25                                      227\n",
       "141         2020-11-24                                      164\n",
       "142         2020-11-23                                      147\n",
       "142         2020-11-22                                      132"
      ]
     },
     "execution_count": 37,
     "metadata": {},
     "output_type": "execute_result"
    }
   ],
   "source": [
    "shared_teks_uploaded_on_generation_date_df = shared_teks_generation_to_upload_df[\n",
    "    shared_teks_generation_to_upload_df.generation_to_upload_days == 0] \\\n",
    "    [[\"upload_date\", \"shared_teks\"]].rename(\n",
    "    columns={\n",
    "        \"upload_date\": \"sample_date_string\",\n",
    "        \"shared_teks\": \"shared_teks_uploaded_on_generation_date\",\n",
    "    })\n",
    "shared_teks_uploaded_on_generation_date_df.head()"
   ]
  },
  {
   "cell_type": "code",
   "execution_count": 38,
   "metadata": {
    "collapsed": false,
    "execution": {
     "iopub.execute_input": "2020-11-26T23:26:43.097428Z",
     "iopub.status.busy": "2020-11-26T23:26:43.096825Z",
     "iopub.status.idle": "2020-11-26T23:26:43.099623Z",
     "shell.execute_reply": "2020-11-26T23:26:43.099170Z"
    },
    "papermill": {
     "duration": 0.077327,
     "end_time": "2020-11-26T23:26:43.099752",
     "exception": false,
     "start_time": "2020-11-26T23:26:43.022425",
     "status": "completed"
    },
    "pycharm": {
     "name": "#%%\n"
    },
    "tags": []
   },
   "outputs": [
    {
     "data": {
      "text/html": [
       "<div>\n",
       "<style scoped>\n",
       "    .dataframe tbody tr th:only-of-type {\n",
       "        vertical-align: middle;\n",
       "    }\n",
       "\n",
       "    .dataframe tbody tr th {\n",
       "        vertical-align: top;\n",
       "    }\n",
       "\n",
       "    .dataframe thead th {\n",
       "        text-align: right;\n",
       "    }\n",
       "</style>\n",
       "<table border=\"1\" class=\"dataframe\">\n",
       "  <thead>\n",
       "    <tr style=\"text-align: right;\">\n",
       "      <th></th>\n",
       "      <th>sample_date_string</th>\n",
       "      <th>shared_diagnoses</th>\n",
       "    </tr>\n",
       "  </thead>\n",
       "  <tbody>\n",
       "    <tr>\n",
       "      <th>83</th>\n",
       "      <td>2020-11-26</td>\n",
       "      <td>3037</td>\n",
       "    </tr>\n",
       "    <tr>\n",
       "      <th>82</th>\n",
       "      <td>2020-11-25</td>\n",
       "      <td>2822</td>\n",
       "    </tr>\n",
       "    <tr>\n",
       "      <th>81</th>\n",
       "      <td>2020-11-24</td>\n",
       "      <td>1667</td>\n",
       "    </tr>\n",
       "    <tr>\n",
       "      <th>80</th>\n",
       "      <td>2020-11-23</td>\n",
       "      <td>1332</td>\n",
       "    </tr>\n",
       "    <tr>\n",
       "      <th>79</th>\n",
       "      <td>2020-11-22</td>\n",
       "      <td>1524</td>\n",
       "    </tr>\n",
       "  </tbody>\n",
       "</table>\n",
       "</div>"
      ],
      "text/plain": [
       "   sample_date_string  shared_diagnoses\n",
       "83         2020-11-26              3037\n",
       "82         2020-11-25              2822\n",
       "81         2020-11-24              1667\n",
       "80         2020-11-23              1332\n",
       "79         2020-11-22              1524"
      ]
     },
     "execution_count": 38,
     "metadata": {},
     "output_type": "execute_result"
    }
   ],
   "source": [
    "estimated_shared_diagnoses_df = shared_teks_generation_to_upload_df \\\n",
    "    .groupby([\"upload_date\"]).shared_teks.max().reset_index() \\\n",
    "    .sort_values([\"upload_date\"], ascending=False) \\\n",
    "    .rename(columns={\n",
    "        \"upload_date\": \"sample_date_string\",\n",
    "        \"shared_teks\": \"shared_diagnoses\",\n",
    "    })\n",
    "invalid_shared_diagnoses_dates_mask = \\\n",
    "    estimated_shared_diagnoses_df.sample_date_string.isin(invalid_shared_diagnoses_dates)\n",
    "estimated_shared_diagnoses_df[invalid_shared_diagnoses_dates_mask] = 0\n",
    "estimated_shared_diagnoses_df.head()"
   ]
  },
  {
   "cell_type": "markdown",
   "metadata": {
    "papermill": {
     "duration": 0.05848,
     "end_time": "2020-11-26T23:26:43.216803",
     "exception": false,
     "start_time": "2020-11-26T23:26:43.158323",
     "status": "completed"
    },
    "pycharm": {
     "name": "#%% md\n"
    },
    "tags": []
   },
   "source": [
    "### Hourly New TEKs"
   ]
  },
  {
   "cell_type": "code",
   "execution_count": 39,
   "metadata": {
    "execution": {
     "iopub.execute_input": "2020-11-26T23:26:43.340603Z",
     "iopub.status.busy": "2020-11-26T23:26:43.339979Z",
     "iopub.status.idle": "2020-11-26T23:26:48.604103Z",
     "shell.execute_reply": "2020-11-26T23:26:48.603635Z"
    },
    "papermill": {
     "duration": 5.329606,
     "end_time": "2020-11-26T23:26:48.604263",
     "exception": false,
     "start_time": "2020-11-26T23:26:43.274657",
     "status": "completed"
    },
    "pycharm": {
     "name": "#%%\n"
    },
    "tags": []
   },
   "outputs": [
    {
     "data": {
      "text/html": [
       "<div>\n",
       "<style scoped>\n",
       "    .dataframe tbody tr th:only-of-type {\n",
       "        vertical-align: middle;\n",
       "    }\n",
       "\n",
       "    .dataframe tbody tr th {\n",
       "        vertical-align: top;\n",
       "    }\n",
       "\n",
       "    .dataframe thead th {\n",
       "        text-align: right;\n",
       "    }\n",
       "</style>\n",
       "<table border=\"1\" class=\"dataframe\">\n",
       "  <thead>\n",
       "    <tr style=\"text-align: right;\">\n",
       "      <th></th>\n",
       "      <th>region</th>\n",
       "      <th>sample_date</th>\n",
       "      <th>tek_list</th>\n",
       "      <th>extraction_date</th>\n",
       "      <th>extraction_date_with_hour</th>\n",
       "    </tr>\n",
       "  </thead>\n",
       "  <tbody>\n",
       "    <tr>\n",
       "      <th>6</th>\n",
       "      <td>ES</td>\n",
       "      <td>2020-11-13</td>\n",
       "      <td>[bc93decf-dc1c-7de6-e160-a4f2fd05332d, e9de43b...</td>\n",
       "      <td>2020-11-26</td>\n",
       "      <td>2020-11-26@23</td>\n",
       "    </tr>\n",
       "    <tr>\n",
       "      <th>17</th>\n",
       "      <td>ES</td>\n",
       "      <td>2020-11-14</td>\n",
       "      <td>[81bb75b0-f3e1-5ae6-50b4-c05bca7a9788, ec98900...</td>\n",
       "      <td>2020-11-26</td>\n",
       "      <td>2020-11-26@23</td>\n",
       "    </tr>\n",
       "    <tr>\n",
       "      <th>28</th>\n",
       "      <td>ES</td>\n",
       "      <td>2020-11-15</td>\n",
       "      <td>[dc1b9aaf-cd34-f758-ebf3-020252891f9f, 703526e...</td>\n",
       "      <td>2020-11-26</td>\n",
       "      <td>2020-11-26@23</td>\n",
       "    </tr>\n",
       "    <tr>\n",
       "      <th>39</th>\n",
       "      <td>ES</td>\n",
       "      <td>2020-11-16</td>\n",
       "      <td>[b9b4ae69-4958-ac2b-b461-63e8baf09320, acf04df...</td>\n",
       "      <td>2020-11-26</td>\n",
       "      <td>2020-11-26@23</td>\n",
       "    </tr>\n",
       "    <tr>\n",
       "      <th>50</th>\n",
       "      <td>ES</td>\n",
       "      <td>2020-11-17</td>\n",
       "      <td>[eda9eb25-e3f3-d399-e562-09e6b4f0b1ad, bcef719...</td>\n",
       "      <td>2020-11-26</td>\n",
       "      <td>2020-11-26@23</td>\n",
       "    </tr>\n",
       "  </tbody>\n",
       "</table>\n",
       "</div>"
      ],
      "text/plain": [
       "   region sample_date                                           tek_list  \\\n",
       "6      ES  2020-11-13  [bc93decf-dc1c-7de6-e160-a4f2fd05332d, e9de43b...   \n",
       "17     ES  2020-11-14  [81bb75b0-f3e1-5ae6-50b4-c05bca7a9788, ec98900...   \n",
       "28     ES  2020-11-15  [dc1b9aaf-cd34-f758-ebf3-020252891f9f, 703526e...   \n",
       "39     ES  2020-11-16  [b9b4ae69-4958-ac2b-b461-63e8baf09320, acf04df...   \n",
       "50     ES  2020-11-17  [eda9eb25-e3f3-d399-e562-09e6b4f0b1ad, bcef719...   \n",
       "\n",
       "   extraction_date extraction_date_with_hour  \n",
       "6       2020-11-26             2020-11-26@23  \n",
       "17      2020-11-26             2020-11-26@23  \n",
       "28      2020-11-26             2020-11-26@23  \n",
       "39      2020-11-26             2020-11-26@23  \n",
       "50      2020-11-26             2020-11-26@23  "
      ]
     },
     "execution_count": 39,
     "metadata": {},
     "output_type": "execute_result"
    }
   ],
   "source": [
    "hourly_extracted_teks_df = load_extracted_teks(\n",
    "    mode=\"Hourly\", region=report_backend_identifier, limit=25)\n",
    "hourly_extracted_teks_df.head()"
   ]
  },
  {
   "cell_type": "code",
   "execution_count": 40,
   "metadata": {
    "collapsed": false,
    "execution": {
     "iopub.execute_input": "2020-11-26T23:26:48.729059Z",
     "iopub.status.busy": "2020-11-26T23:26:48.728466Z",
     "iopub.status.idle": "2020-11-26T23:26:50.121061Z",
     "shell.execute_reply": "2020-11-26T23:26:50.121662Z"
    },
    "papermill": {
     "duration": 1.458481,
     "end_time": "2020-11-26T23:26:50.121832",
     "exception": false,
     "start_time": "2020-11-26T23:26:48.663351",
     "status": "completed"
    },
    "pycharm": {
     "name": "#%%\n"
    },
    "tags": []
   },
   "outputs": [
    {
     "data": {
      "text/html": [
       "<div>\n",
       "<style scoped>\n",
       "    .dataframe tbody tr th:only-of-type {\n",
       "        vertical-align: middle;\n",
       "    }\n",
       "\n",
       "    .dataframe tbody tr th {\n",
       "        vertical-align: top;\n",
       "    }\n",
       "\n",
       "    .dataframe thead th {\n",
       "        text-align: right;\n",
       "    }\n",
       "</style>\n",
       "<table border=\"1\" class=\"dataframe\">\n",
       "  <thead>\n",
       "    <tr style=\"text-align: right;\">\n",
       "      <th></th>\n",
       "      <th>extraction_date_with_hour</th>\n",
       "      <th>shared_teks_by_upload_date</th>\n",
       "    </tr>\n",
       "  </thead>\n",
       "  <tbody>\n",
       "    <tr>\n",
       "      <th>0</th>\n",
       "      <td>2020-11-25@22</td>\n",
       "      <td>0</td>\n",
       "    </tr>\n",
       "    <tr>\n",
       "      <th>1</th>\n",
       "      <td>2020-11-25@23</td>\n",
       "      <td>0</td>\n",
       "    </tr>\n",
       "    <tr>\n",
       "      <th>2</th>\n",
       "      <td>2020-11-26@00</td>\n",
       "      <td>18</td>\n",
       "    </tr>\n",
       "    <tr>\n",
       "      <th>3</th>\n",
       "      <td>2020-11-26@01</td>\n",
       "      <td>0</td>\n",
       "    </tr>\n",
       "    <tr>\n",
       "      <th>4</th>\n",
       "      <td>2020-11-26@02</td>\n",
       "      <td>44</td>\n",
       "    </tr>\n",
       "  </tbody>\n",
       "</table>\n",
       "</div>"
      ],
      "text/plain": [
       "  extraction_date_with_hour  shared_teks_by_upload_date\n",
       "0             2020-11-25@22                           0\n",
       "1             2020-11-25@23                           0\n",
       "2             2020-11-26@00                          18\n",
       "3             2020-11-26@01                           0\n",
       "4             2020-11-26@02                          44"
      ]
     },
     "execution_count": 40,
     "metadata": {},
     "output_type": "execute_result"
    }
   ],
   "source": [
    "hourly_new_tek_count_df = hourly_extracted_teks_df \\\n",
    "    .groupby(\"extraction_date_with_hour\").tek_list. \\\n",
    "    apply(lambda x: set(sum(x, []))).reset_index().copy()\n",
    "hourly_new_tek_count_df = hourly_new_tek_count_df.set_index(\"extraction_date_with_hour\") \\\n",
    "    .sort_index(ascending=True)\n",
    "\n",
    "hourly_new_tek_count_df[\"new_tek_list\"] = hourly_new_tek_count_df.tek_list.diff()\n",
    "hourly_new_tek_count_df[\"new_tek_count\"] = hourly_new_tek_count_df.new_tek_list.apply(\n",
    "    lambda x: len(x) if not pd.isna(x) else 0)\n",
    "hourly_new_tek_count_df.rename(columns={\n",
    "    \"new_tek_count\": \"shared_teks_by_upload_date\"}, inplace=True)\n",
    "hourly_new_tek_count_df = hourly_new_tek_count_df.reset_index()[[\n",
    "    \"extraction_date_with_hour\", \"shared_teks_by_upload_date\"]]\n",
    "hourly_new_tek_count_df.head()"
   ]
  },
  {
   "cell_type": "code",
   "execution_count": 41,
   "metadata": {
    "collapsed": false,
    "execution": {
     "iopub.execute_input": "2020-11-26T23:26:50.267607Z",
     "iopub.status.busy": "2020-11-26T23:26:50.266946Z",
     "iopub.status.idle": "2020-11-26T23:26:50.269282Z",
     "shell.execute_reply": "2020-11-26T23:26:50.269879Z"
    },
    "papermill": {
     "duration": 0.080577,
     "end_time": "2020-11-26T23:26:50.270052",
     "exception": false,
     "start_time": "2020-11-26T23:26:50.189475",
     "status": "completed"
    },
    "pycharm": {
     "name": "#%%\n"
    },
    "tags": []
   },
   "outputs": [
    {
     "data": {
      "text/html": [
       "<div>\n",
       "<style scoped>\n",
       "    .dataframe tbody tr th:only-of-type {\n",
       "        vertical-align: middle;\n",
       "    }\n",
       "\n",
       "    .dataframe tbody tr th {\n",
       "        vertical-align: top;\n",
       "    }\n",
       "\n",
       "    .dataframe thead th {\n",
       "        text-align: right;\n",
       "    }\n",
       "</style>\n",
       "<table border=\"1\" class=\"dataframe\">\n",
       "  <thead>\n",
       "    <tr style=\"text-align: right;\">\n",
       "      <th></th>\n",
       "      <th>extraction_date_with_hour</th>\n",
       "      <th>shared_teks_by_upload_date</th>\n",
       "    </tr>\n",
       "    <tr>\n",
       "      <th>datetime_utc</th>\n",
       "      <th></th>\n",
       "      <th></th>\n",
       "    </tr>\n",
       "  </thead>\n",
       "  <tbody>\n",
       "    <tr>\n",
       "      <th>2020-11-25 23:00:00</th>\n",
       "      <td>2020-11-25@23</td>\n",
       "      <td>0</td>\n",
       "    </tr>\n",
       "    <tr>\n",
       "      <th>2020-11-26 00:00:00</th>\n",
       "      <td>2020-11-26@00</td>\n",
       "      <td>18</td>\n",
       "    </tr>\n",
       "    <tr>\n",
       "      <th>2020-11-26 01:00:00</th>\n",
       "      <td>2020-11-26@01</td>\n",
       "      <td>0</td>\n",
       "    </tr>\n",
       "    <tr>\n",
       "      <th>2020-11-26 02:00:00</th>\n",
       "      <td>2020-11-26@02</td>\n",
       "      <td>44</td>\n",
       "    </tr>\n",
       "    <tr>\n",
       "      <th>2020-11-26 03:00:00</th>\n",
       "      <td>2020-11-26@03</td>\n",
       "      <td>0</td>\n",
       "    </tr>\n",
       "  </tbody>\n",
       "</table>\n",
       "</div>"
      ],
      "text/plain": [
       "                    extraction_date_with_hour  shared_teks_by_upload_date\n",
       "datetime_utc                                                             \n",
       "2020-11-25 23:00:00             2020-11-25@23                           0\n",
       "2020-11-26 00:00:00             2020-11-26@00                          18\n",
       "2020-11-26 01:00:00             2020-11-26@01                           0\n",
       "2020-11-26 02:00:00             2020-11-26@02                          44\n",
       "2020-11-26 03:00:00             2020-11-26@03                           0"
      ]
     },
     "execution_count": 41,
     "metadata": {},
     "output_type": "execute_result"
    }
   ],
   "source": [
    "hourly_summary_df = hourly_new_tek_count_df.copy()\n",
    "hourly_summary_df.set_index(\"extraction_date_with_hour\", inplace=True)\n",
    "hourly_summary_df = hourly_summary_df.fillna(0).astype(int).reset_index()\n",
    "hourly_summary_df[\"datetime_utc\"] = pd.to_datetime(\n",
    "    hourly_summary_df.extraction_date_with_hour, format=\"%Y-%m-%d@%H\")\n",
    "hourly_summary_df.set_index(\"datetime_utc\", inplace=True)\n",
    "hourly_summary_df = hourly_summary_df.tail(-1)\n",
    "hourly_summary_df.head()"
   ]
  },
  {
   "cell_type": "markdown",
   "metadata": {
    "collapsed": false,
    "papermill": {
     "duration": 0.059726,
     "end_time": "2020-11-26T23:26:50.390823",
     "exception": false,
     "start_time": "2020-11-26T23:26:50.331097",
     "status": "completed"
    },
    "tags": []
   },
   "source": [
    "### Data Merge"
   ]
  },
  {
   "cell_type": "code",
   "execution_count": 42,
   "metadata": {
    "collapsed": false,
    "execution": {
     "iopub.execute_input": "2020-11-26T23:26:50.522476Z",
     "iopub.status.busy": "2020-11-26T23:26:50.521704Z",
     "iopub.status.idle": "2020-11-26T23:26:50.524755Z",
     "shell.execute_reply": "2020-11-26T23:26:50.524237Z"
    },
    "papermill": {
     "duration": 0.074633,
     "end_time": "2020-11-26T23:26:50.524972",
     "exception": false,
     "start_time": "2020-11-26T23:26:50.450339",
     "status": "completed"
    },
    "pycharm": {
     "name": "#%%\n"
    },
    "tags": []
   },
   "outputs": [
    {
     "data": {
      "text/html": [
       "<div>\n",
       "<style scoped>\n",
       "    .dataframe tbody tr th:only-of-type {\n",
       "        vertical-align: middle;\n",
       "    }\n",
       "\n",
       "    .dataframe tbody tr th {\n",
       "        vertical-align: top;\n",
       "    }\n",
       "\n",
       "    .dataframe thead th {\n",
       "        text-align: right;\n",
       "    }\n",
       "</style>\n",
       "<table border=\"1\" class=\"dataframe\">\n",
       "  <thead>\n",
       "    <tr style=\"text-align: right;\">\n",
       "      <th></th>\n",
       "      <th>sample_date_string</th>\n",
       "      <th>shared_teks_by_generation_date</th>\n",
       "      <th>shared_teks_by_upload_date</th>\n",
       "    </tr>\n",
       "  </thead>\n",
       "  <tbody>\n",
       "    <tr>\n",
       "      <th>0</th>\n",
       "      <td>2020-11-26</td>\n",
       "      <td>216</td>\n",
       "      <td>31914.0</td>\n",
       "    </tr>\n",
       "    <tr>\n",
       "      <th>1</th>\n",
       "      <td>2020-11-25</td>\n",
       "      <td>2385</td>\n",
       "      <td>30693.0</td>\n",
       "    </tr>\n",
       "    <tr>\n",
       "      <th>2</th>\n",
       "      <td>2020-11-24</td>\n",
       "      <td>5048</td>\n",
       "      <td>17800.0</td>\n",
       "    </tr>\n",
       "    <tr>\n",
       "      <th>3</th>\n",
       "      <td>2020-11-23</td>\n",
       "      <td>7017</td>\n",
       "      <td>13061.0</td>\n",
       "    </tr>\n",
       "    <tr>\n",
       "      <th>4</th>\n",
       "      <td>2020-11-22</td>\n",
       "      <td>8056</td>\n",
       "      <td>14568.0</td>\n",
       "    </tr>\n",
       "  </tbody>\n",
       "</table>\n",
       "</div>"
      ],
      "text/plain": [
       "  sample_date_string  shared_teks_by_generation_date  \\\n",
       "0         2020-11-26                             216   \n",
       "1         2020-11-25                            2385   \n",
       "2         2020-11-24                            5048   \n",
       "3         2020-11-23                            7017   \n",
       "4         2020-11-22                            8056   \n",
       "\n",
       "   shared_teks_by_upload_date  \n",
       "0                     31914.0  \n",
       "1                     30693.0  \n",
       "2                     17800.0  \n",
       "3                     13061.0  \n",
       "4                     14568.0  "
      ]
     },
     "execution_count": 42,
     "metadata": {},
     "output_type": "execute_result"
    }
   ],
   "source": [
    "result_summary_df = exposure_keys_summary_df.merge(\n",
    "    new_tek_df, on=[\"sample_date_string\"], how=\"outer\")\n",
    "result_summary_df.head()"
   ]
  },
  {
   "cell_type": "code",
   "execution_count": 43,
   "metadata": {
    "collapsed": false,
    "execution": {
     "iopub.execute_input": "2020-11-26T23:26:50.666548Z",
     "iopub.status.busy": "2020-11-26T23:26:50.665840Z",
     "iopub.status.idle": "2020-11-26T23:26:50.669347Z",
     "shell.execute_reply": "2020-11-26T23:26:50.668781Z"
    },
    "papermill": {
     "duration": 0.081018,
     "end_time": "2020-11-26T23:26:50.669488",
     "exception": false,
     "start_time": "2020-11-26T23:26:50.588470",
     "status": "completed"
    },
    "pycharm": {
     "name": "#%%\n"
    },
    "tags": []
   },
   "outputs": [
    {
     "data": {
      "text/html": [
       "<div>\n",
       "<style scoped>\n",
       "    .dataframe tbody tr th:only-of-type {\n",
       "        vertical-align: middle;\n",
       "    }\n",
       "\n",
       "    .dataframe tbody tr th {\n",
       "        vertical-align: top;\n",
       "    }\n",
       "\n",
       "    .dataframe thead th {\n",
       "        text-align: right;\n",
       "    }\n",
       "</style>\n",
       "<table border=\"1\" class=\"dataframe\">\n",
       "  <thead>\n",
       "    <tr style=\"text-align: right;\">\n",
       "      <th></th>\n",
       "      <th>sample_date_string</th>\n",
       "      <th>shared_teks_by_generation_date</th>\n",
       "      <th>shared_teks_by_upload_date</th>\n",
       "      <th>shared_teks_uploaded_on_generation_date</th>\n",
       "    </tr>\n",
       "  </thead>\n",
       "  <tbody>\n",
       "    <tr>\n",
       "      <th>0</th>\n",
       "      <td>2020-11-26</td>\n",
       "      <td>216</td>\n",
       "      <td>31914.0</td>\n",
       "      <td>216.0</td>\n",
       "    </tr>\n",
       "    <tr>\n",
       "      <th>1</th>\n",
       "      <td>2020-11-25</td>\n",
       "      <td>2385</td>\n",
       "      <td>30693.0</td>\n",
       "      <td>227.0</td>\n",
       "    </tr>\n",
       "    <tr>\n",
       "      <th>2</th>\n",
       "      <td>2020-11-24</td>\n",
       "      <td>5048</td>\n",
       "      <td>17800.0</td>\n",
       "      <td>164.0</td>\n",
       "    </tr>\n",
       "    <tr>\n",
       "      <th>3</th>\n",
       "      <td>2020-11-23</td>\n",
       "      <td>7017</td>\n",
       "      <td>13061.0</td>\n",
       "      <td>147.0</td>\n",
       "    </tr>\n",
       "    <tr>\n",
       "      <th>4</th>\n",
       "      <td>2020-11-22</td>\n",
       "      <td>8056</td>\n",
       "      <td>14568.0</td>\n",
       "      <td>132.0</td>\n",
       "    </tr>\n",
       "  </tbody>\n",
       "</table>\n",
       "</div>"
      ],
      "text/plain": [
       "  sample_date_string  shared_teks_by_generation_date  \\\n",
       "0         2020-11-26                             216   \n",
       "1         2020-11-25                            2385   \n",
       "2         2020-11-24                            5048   \n",
       "3         2020-11-23                            7017   \n",
       "4         2020-11-22                            8056   \n",
       "\n",
       "   shared_teks_by_upload_date  shared_teks_uploaded_on_generation_date  \n",
       "0                     31914.0                                    216.0  \n",
       "1                     30693.0                                    227.0  \n",
       "2                     17800.0                                    164.0  \n",
       "3                     13061.0                                    147.0  \n",
       "4                     14568.0                                    132.0  "
      ]
     },
     "execution_count": 43,
     "metadata": {},
     "output_type": "execute_result"
    }
   ],
   "source": [
    "result_summary_df = result_summary_df.merge(\n",
    "    shared_teks_uploaded_on_generation_date_df, on=[\"sample_date_string\"], how=\"outer\")\n",
    "result_summary_df.head()"
   ]
  },
  {
   "cell_type": "code",
   "execution_count": 44,
   "metadata": {
    "collapsed": false,
    "execution": {
     "iopub.execute_input": "2020-11-26T23:26:50.818754Z",
     "iopub.status.busy": "2020-11-26T23:26:50.818158Z",
     "iopub.status.idle": "2020-11-26T23:26:50.821381Z",
     "shell.execute_reply": "2020-11-26T23:26:50.820918Z"
    },
    "papermill": {
     "duration": 0.087281,
     "end_time": "2020-11-26T23:26:50.821513",
     "exception": false,
     "start_time": "2020-11-26T23:26:50.734232",
     "status": "completed"
    },
    "pycharm": {
     "name": "#%%\n"
    },
    "tags": []
   },
   "outputs": [
    {
     "data": {
      "text/html": [
       "<div>\n",
       "<style scoped>\n",
       "    .dataframe tbody tr th:only-of-type {\n",
       "        vertical-align: middle;\n",
       "    }\n",
       "\n",
       "    .dataframe tbody tr th {\n",
       "        vertical-align: top;\n",
       "    }\n",
       "\n",
       "    .dataframe thead th {\n",
       "        text-align: right;\n",
       "    }\n",
       "</style>\n",
       "<table border=\"1\" class=\"dataframe\">\n",
       "  <thead>\n",
       "    <tr style=\"text-align: right;\">\n",
       "      <th></th>\n",
       "      <th>sample_date_string</th>\n",
       "      <th>shared_teks_by_generation_date</th>\n",
       "      <th>shared_teks_by_upload_date</th>\n",
       "      <th>shared_teks_uploaded_on_generation_date</th>\n",
       "      <th>shared_diagnoses</th>\n",
       "    </tr>\n",
       "  </thead>\n",
       "  <tbody>\n",
       "    <tr>\n",
       "      <th>0</th>\n",
       "      <td>2020-11-26</td>\n",
       "      <td>216.0</td>\n",
       "      <td>31914.0</td>\n",
       "      <td>216.0</td>\n",
       "      <td>3037.0</td>\n",
       "    </tr>\n",
       "    <tr>\n",
       "      <th>1</th>\n",
       "      <td>2020-11-25</td>\n",
       "      <td>2385.0</td>\n",
       "      <td>30693.0</td>\n",
       "      <td>227.0</td>\n",
       "      <td>2822.0</td>\n",
       "    </tr>\n",
       "    <tr>\n",
       "      <th>2</th>\n",
       "      <td>2020-11-24</td>\n",
       "      <td>5048.0</td>\n",
       "      <td>17800.0</td>\n",
       "      <td>164.0</td>\n",
       "      <td>1667.0</td>\n",
       "    </tr>\n",
       "    <tr>\n",
       "      <th>3</th>\n",
       "      <td>2020-11-23</td>\n",
       "      <td>7017.0</td>\n",
       "      <td>13061.0</td>\n",
       "      <td>147.0</td>\n",
       "      <td>1332.0</td>\n",
       "    </tr>\n",
       "    <tr>\n",
       "      <th>4</th>\n",
       "      <td>2020-11-22</td>\n",
       "      <td>8056.0</td>\n",
       "      <td>14568.0</td>\n",
       "      <td>132.0</td>\n",
       "      <td>1524.0</td>\n",
       "    </tr>\n",
       "  </tbody>\n",
       "</table>\n",
       "</div>"
      ],
      "text/plain": [
       "  sample_date_string  shared_teks_by_generation_date  \\\n",
       "0         2020-11-26                           216.0   \n",
       "1         2020-11-25                          2385.0   \n",
       "2         2020-11-24                          5048.0   \n",
       "3         2020-11-23                          7017.0   \n",
       "4         2020-11-22                          8056.0   \n",
       "\n",
       "   shared_teks_by_upload_date  shared_teks_uploaded_on_generation_date  \\\n",
       "0                     31914.0                                    216.0   \n",
       "1                     30693.0                                    227.0   \n",
       "2                     17800.0                                    164.0   \n",
       "3                     13061.0                                    147.0   \n",
       "4                     14568.0                                    132.0   \n",
       "\n",
       "   shared_diagnoses  \n",
       "0            3037.0  \n",
       "1            2822.0  \n",
       "2            1667.0  \n",
       "3            1332.0  \n",
       "4            1524.0  "
      ]
     },
     "execution_count": 44,
     "metadata": {},
     "output_type": "execute_result"
    }
   ],
   "source": [
    "result_summary_df = result_summary_df.merge(\n",
    "    estimated_shared_diagnoses_df, on=[\"sample_date_string\"], how=\"outer\")\n",
    "result_summary_df.head()"
   ]
  },
  {
   "cell_type": "code",
   "execution_count": 45,
   "metadata": {
    "collapsed": false,
    "execution": {
     "iopub.execute_input": "2020-11-26T23:26:50.948213Z",
     "iopub.status.busy": "2020-11-26T23:26:50.947620Z",
     "iopub.status.idle": "2020-11-26T23:26:50.961921Z",
     "shell.execute_reply": "2020-11-26T23:26:50.962395Z"
    },
    "papermill": {
     "duration": 0.080182,
     "end_time": "2020-11-26T23:26:50.962554",
     "exception": false,
     "start_time": "2020-11-26T23:26:50.882372",
     "status": "completed"
    },
    "pycharm": {
     "name": "#%%\n"
    },
    "tags": []
   },
   "outputs": [
    {
     "data": {
      "text/html": [
       "<div>\n",
       "<style scoped>\n",
       "    .dataframe tbody tr th:only-of-type {\n",
       "        vertical-align: middle;\n",
       "    }\n",
       "\n",
       "    .dataframe tbody tr th {\n",
       "        vertical-align: top;\n",
       "    }\n",
       "\n",
       "    .dataframe thead th {\n",
       "        text-align: right;\n",
       "    }\n",
       "</style>\n",
       "<table border=\"1\" class=\"dataframe\">\n",
       "  <thead>\n",
       "    <tr style=\"text-align: right;\">\n",
       "      <th></th>\n",
       "      <th>sample_date_string</th>\n",
       "      <th>new_cases</th>\n",
       "      <th>covid_cases</th>\n",
       "      <th>shared_teks_by_generation_date</th>\n",
       "      <th>shared_teks_by_upload_date</th>\n",
       "      <th>shared_teks_uploaded_on_generation_date</th>\n",
       "      <th>shared_diagnoses</th>\n",
       "    </tr>\n",
       "  </thead>\n",
       "  <tbody>\n",
       "    <tr>\n",
       "      <th>0</th>\n",
       "      <td>2020-09-04</td>\n",
       "      <td>10476</td>\n",
       "      <td>8529.0</td>\n",
       "      <td>52.0</td>\n",
       "      <td>58.0</td>\n",
       "      <td>NaN</td>\n",
       "      <td>20.0</td>\n",
       "    </tr>\n",
       "    <tr>\n",
       "      <th>1</th>\n",
       "      <td>2020-09-05</td>\n",
       "      <td>0</td>\n",
       "      <td>8529.0</td>\n",
       "      <td>56.0</td>\n",
       "      <td>40.0</td>\n",
       "      <td>NaN</td>\n",
       "      <td>17.0</td>\n",
       "    </tr>\n",
       "    <tr>\n",
       "      <th>2</th>\n",
       "      <td>2020-09-06</td>\n",
       "      <td>0</td>\n",
       "      <td>8529.0</td>\n",
       "      <td>54.0</td>\n",
       "      <td>60.0</td>\n",
       "      <td>NaN</td>\n",
       "      <td>24.0</td>\n",
       "    </tr>\n",
       "    <tr>\n",
       "      <th>3</th>\n",
       "      <td>2020-09-07</td>\n",
       "      <td>26560</td>\n",
       "      <td>8956.0</td>\n",
       "      <td>58.0</td>\n",
       "      <td>52.0</td>\n",
       "      <td>NaN</td>\n",
       "      <td>22.0</td>\n",
       "    </tr>\n",
       "    <tr>\n",
       "      <th>4</th>\n",
       "      <td>2020-09-08</td>\n",
       "      <td>8964</td>\n",
       "      <td>9077.0</td>\n",
       "      <td>61.0</td>\n",
       "      <td>44.0</td>\n",
       "      <td>NaN</td>\n",
       "      <td>18.0</td>\n",
       "    </tr>\n",
       "  </tbody>\n",
       "</table>\n",
       "</div>"
      ],
      "text/plain": [
       "  sample_date_string  new_cases  covid_cases  shared_teks_by_generation_date  \\\n",
       "0         2020-09-04      10476       8529.0                            52.0   \n",
       "1         2020-09-05          0       8529.0                            56.0   \n",
       "2         2020-09-06          0       8529.0                            54.0   \n",
       "3         2020-09-07      26560       8956.0                            58.0   \n",
       "4         2020-09-08       8964       9077.0                            61.0   \n",
       "\n",
       "   shared_teks_by_upload_date  shared_teks_uploaded_on_generation_date  \\\n",
       "0                        58.0                                      NaN   \n",
       "1                        40.0                                      NaN   \n",
       "2                        60.0                                      NaN   \n",
       "3                        52.0                                      NaN   \n",
       "4                        44.0                                      NaN   \n",
       "\n",
       "   shared_diagnoses  \n",
       "0              20.0  \n",
       "1              17.0  \n",
       "2              24.0  \n",
       "3              22.0  \n",
       "4              18.0  "
      ]
     },
     "execution_count": 45,
     "metadata": {},
     "output_type": "execute_result"
    }
   ],
   "source": [
    "result_summary_df = confirmed_df.tail(daily_summary_days).merge(\n",
    "    result_summary_df, on=[\"sample_date_string\"], how=\"left\")\n",
    "result_summary_df.head()"
   ]
  },
  {
   "cell_type": "code",
   "execution_count": 46,
   "metadata": {
    "collapsed": false,
    "execution": {
     "iopub.execute_input": "2020-11-26T23:26:51.096833Z",
     "iopub.status.busy": "2020-11-26T23:26:51.096228Z",
     "iopub.status.idle": "2020-11-26T23:26:51.115361Z",
     "shell.execute_reply": "2020-11-26T23:26:51.115810Z"
    },
    "papermill": {
     "duration": 0.092319,
     "end_time": "2020-11-26T23:26:51.115971",
     "exception": false,
     "start_time": "2020-11-26T23:26:51.023652",
     "status": "completed"
    },
    "pycharm": {
     "name": "#%%\n"
    },
    "tags": []
   },
   "outputs": [
    {
     "data": {
      "text/html": [
       "<div>\n",
       "<style scoped>\n",
       "    .dataframe tbody tr th:only-of-type {\n",
       "        vertical-align: middle;\n",
       "    }\n",
       "\n",
       "    .dataframe tbody tr th {\n",
       "        vertical-align: top;\n",
       "    }\n",
       "\n",
       "    .dataframe thead th {\n",
       "        text-align: right;\n",
       "    }\n",
       "</style>\n",
       "<table border=\"1\" class=\"dataframe\">\n",
       "  <thead>\n",
       "    <tr style=\"text-align: right;\">\n",
       "      <th></th>\n",
       "      <th></th>\n",
       "      <th>new_cases</th>\n",
       "      <th>covid_cases</th>\n",
       "      <th>shared_teks_by_generation_date</th>\n",
       "      <th>shared_teks_by_upload_date</th>\n",
       "      <th>shared_teks_uploaded_on_generation_date</th>\n",
       "      <th>shared_diagnoses</th>\n",
       "    </tr>\n",
       "    <tr>\n",
       "      <th>sample_date</th>\n",
       "      <th>source_regions</th>\n",
       "      <th></th>\n",
       "      <th></th>\n",
       "      <th></th>\n",
       "      <th></th>\n",
       "      <th></th>\n",
       "      <th></th>\n",
       "    </tr>\n",
       "  </thead>\n",
       "  <tbody>\n",
       "    <tr>\n",
       "      <th>2020-11-26</th>\n",
       "      <th>ES,DE,DK,HR,IE,IT,LV</th>\n",
       "      <td>53743</td>\n",
       "      <td>62004.0</td>\n",
       "      <td>216.0</td>\n",
       "      <td>31914.0</td>\n",
       "      <td>216.0</td>\n",
       "      <td>3037.0</td>\n",
       "    </tr>\n",
       "    <tr>\n",
       "      <th>2020-11-25</th>\n",
       "      <th>ES,DE,DK,HR,IE,IT,LV</th>\n",
       "      <td>56448</td>\n",
       "      <td>65533.0</td>\n",
       "      <td>2385.0</td>\n",
       "      <td>30693.0</td>\n",
       "      <td>227.0</td>\n",
       "      <td>2822.0</td>\n",
       "    </tr>\n",
       "    <tr>\n",
       "      <th>2020-11-24</th>\n",
       "      <th>ES,DE,DK,HR,IE,IT,LV</th>\n",
       "      <td>52217</td>\n",
       "      <td>67304.0</td>\n",
       "      <td>5048.0</td>\n",
       "      <td>17800.0</td>\n",
       "      <td>164.0</td>\n",
       "      <td>1667.0</td>\n",
       "    </tr>\n",
       "    <tr>\n",
       "      <th>2020-11-23</th>\n",
       "      <th>ES,DE,DK,HR,IE,IT,LV</th>\n",
       "      <td>69939</td>\n",
       "      <td>68127.0</td>\n",
       "      <td>7017.0</td>\n",
       "      <td>13061.0</td>\n",
       "      <td>147.0</td>\n",
       "      <td>1332.0</td>\n",
       "    </tr>\n",
       "    <tr>\n",
       "      <th>2020-11-22</th>\n",
       "      <th>ES,DE,DK,HR,IE,IT,LV</th>\n",
       "      <td>56334</td>\n",
       "      <td>70591.0</td>\n",
       "      <td>8056.0</td>\n",
       "      <td>14568.0</td>\n",
       "      <td>132.0</td>\n",
       "      <td>1524.0</td>\n",
       "    </tr>\n",
       "  </tbody>\n",
       "</table>\n",
       "</div>"
      ],
      "text/plain": [
       "                                  new_cases  covid_cases  \\\n",
       "sample_date source_regions                                 \n",
       "2020-11-26  ES,DE,DK,HR,IE,IT,LV      53743      62004.0   \n",
       "2020-11-25  ES,DE,DK,HR,IE,IT,LV      56448      65533.0   \n",
       "2020-11-24  ES,DE,DK,HR,IE,IT,LV      52217      67304.0   \n",
       "2020-11-23  ES,DE,DK,HR,IE,IT,LV      69939      68127.0   \n",
       "2020-11-22  ES,DE,DK,HR,IE,IT,LV      56334      70591.0   \n",
       "\n",
       "                                  shared_teks_by_generation_date  \\\n",
       "sample_date source_regions                                         \n",
       "2020-11-26  ES,DE,DK,HR,IE,IT,LV                           216.0   \n",
       "2020-11-25  ES,DE,DK,HR,IE,IT,LV                          2385.0   \n",
       "2020-11-24  ES,DE,DK,HR,IE,IT,LV                          5048.0   \n",
       "2020-11-23  ES,DE,DK,HR,IE,IT,LV                          7017.0   \n",
       "2020-11-22  ES,DE,DK,HR,IE,IT,LV                          8056.0   \n",
       "\n",
       "                                  shared_teks_by_upload_date  \\\n",
       "sample_date source_regions                                     \n",
       "2020-11-26  ES,DE,DK,HR,IE,IT,LV                     31914.0   \n",
       "2020-11-25  ES,DE,DK,HR,IE,IT,LV                     30693.0   \n",
       "2020-11-24  ES,DE,DK,HR,IE,IT,LV                     17800.0   \n",
       "2020-11-23  ES,DE,DK,HR,IE,IT,LV                     13061.0   \n",
       "2020-11-22  ES,DE,DK,HR,IE,IT,LV                     14568.0   \n",
       "\n",
       "                                  shared_teks_uploaded_on_generation_date  \\\n",
       "sample_date source_regions                                                  \n",
       "2020-11-26  ES,DE,DK,HR,IE,IT,LV                                    216.0   \n",
       "2020-11-25  ES,DE,DK,HR,IE,IT,LV                                    227.0   \n",
       "2020-11-24  ES,DE,DK,HR,IE,IT,LV                                    164.0   \n",
       "2020-11-23  ES,DE,DK,HR,IE,IT,LV                                    147.0   \n",
       "2020-11-22  ES,DE,DK,HR,IE,IT,LV                                    132.0   \n",
       "\n",
       "                                  shared_diagnoses  \n",
       "sample_date source_regions                          \n",
       "2020-11-26  ES,DE,DK,HR,IE,IT,LV            3037.0  \n",
       "2020-11-25  ES,DE,DK,HR,IE,IT,LV            2822.0  \n",
       "2020-11-24  ES,DE,DK,HR,IE,IT,LV            1667.0  \n",
       "2020-11-23  ES,DE,DK,HR,IE,IT,LV            1332.0  \n",
       "2020-11-22  ES,DE,DK,HR,IE,IT,LV            1524.0  "
      ]
     },
     "execution_count": 46,
     "metadata": {},
     "output_type": "execute_result"
    }
   ],
   "source": [
    "result_summary_df[\"sample_date\"] = pd.to_datetime(result_summary_df.sample_date_string)\n",
    "result_summary_df = result_summary_df.merge(source_regions_for_summary_df, how=\"left\")\n",
    "result_summary_df.set_index([\"sample_date\", \"source_regions\"], inplace=True)\n",
    "result_summary_df.drop(columns=[\"sample_date_string\"], inplace=True)\n",
    "result_summary_df.sort_index(ascending=False, inplace=True)\n",
    "result_summary_df.head()"
   ]
  },
  {
   "cell_type": "code",
   "execution_count": 47,
   "metadata": {
    "execution": {
     "iopub.execute_input": "2020-11-26T23:26:51.264523Z",
     "iopub.status.busy": "2020-11-26T23:26:51.263741Z",
     "iopub.status.idle": "2020-11-26T23:26:51.268669Z",
     "shell.execute_reply": "2020-11-26T23:26:51.268022Z"
    },
    "papermill": {
     "duration": 0.09101,
     "end_time": "2020-11-26T23:26:51.268809",
     "exception": false,
     "start_time": "2020-11-26T23:26:51.177799",
     "status": "completed"
    },
    "tags": []
   },
   "outputs": [
    {
     "data": {
      "text/html": [
       "<div>\n",
       "<style scoped>\n",
       "    .dataframe tbody tr th:only-of-type {\n",
       "        vertical-align: middle;\n",
       "    }\n",
       "\n",
       "    .dataframe tbody tr th {\n",
       "        vertical-align: top;\n",
       "    }\n",
       "\n",
       "    .dataframe thead th {\n",
       "        text-align: right;\n",
       "    }\n",
       "</style>\n",
       "<table border=\"1\" class=\"dataframe\">\n",
       "  <thead>\n",
       "    <tr style=\"text-align: right;\">\n",
       "      <th></th>\n",
       "      <th></th>\n",
       "      <th>new_cases</th>\n",
       "      <th>covid_cases</th>\n",
       "      <th>shared_teks_by_generation_date</th>\n",
       "      <th>shared_teks_by_upload_date</th>\n",
       "      <th>shared_teks_uploaded_on_generation_date</th>\n",
       "      <th>shared_diagnoses</th>\n",
       "      <th>teks_per_shared_diagnosis</th>\n",
       "      <th>shared_diagnoses_per_covid_case</th>\n",
       "    </tr>\n",
       "    <tr>\n",
       "      <th>sample_date</th>\n",
       "      <th>source_regions</th>\n",
       "      <th></th>\n",
       "      <th></th>\n",
       "      <th></th>\n",
       "      <th></th>\n",
       "      <th></th>\n",
       "      <th></th>\n",
       "      <th></th>\n",
       "      <th></th>\n",
       "    </tr>\n",
       "  </thead>\n",
       "  <tbody>\n",
       "    <tr>\n",
       "      <th>2020-11-26</th>\n",
       "      <th>ES,DE,DK,HR,IE,IT,LV</th>\n",
       "      <td>53743</td>\n",
       "      <td>62004</td>\n",
       "      <td>216</td>\n",
       "      <td>31914</td>\n",
       "      <td>216</td>\n",
       "      <td>3037</td>\n",
       "      <td>10.508396</td>\n",
       "      <td>0.048981</td>\n",
       "    </tr>\n",
       "    <tr>\n",
       "      <th>2020-11-25</th>\n",
       "      <th>ES,DE,DK,HR,IE,IT,LV</th>\n",
       "      <td>56448</td>\n",
       "      <td>65533</td>\n",
       "      <td>2385</td>\n",
       "      <td>30693</td>\n",
       "      <td>227</td>\n",
       "      <td>2822</td>\n",
       "      <td>10.876329</td>\n",
       "      <td>0.043062</td>\n",
       "    </tr>\n",
       "    <tr>\n",
       "      <th>2020-11-24</th>\n",
       "      <th>ES,DE,DK,HR,IE,IT,LV</th>\n",
       "      <td>52217</td>\n",
       "      <td>67304</td>\n",
       "      <td>5048</td>\n",
       "      <td>17800</td>\n",
       "      <td>164</td>\n",
       "      <td>1667</td>\n",
       "      <td>10.677864</td>\n",
       "      <td>0.024768</td>\n",
       "    </tr>\n",
       "    <tr>\n",
       "      <th>2020-11-23</th>\n",
       "      <th>ES,DE,DK,HR,IE,IT,LV</th>\n",
       "      <td>69939</td>\n",
       "      <td>68127</td>\n",
       "      <td>7017</td>\n",
       "      <td>13061</td>\n",
       "      <td>147</td>\n",
       "      <td>1332</td>\n",
       "      <td>9.805556</td>\n",
       "      <td>0.019552</td>\n",
       "    </tr>\n",
       "    <tr>\n",
       "      <th>2020-11-22</th>\n",
       "      <th>ES,DE,DK,HR,IE,IT,LV</th>\n",
       "      <td>56334</td>\n",
       "      <td>70591</td>\n",
       "      <td>8056</td>\n",
       "      <td>14568</td>\n",
       "      <td>132</td>\n",
       "      <td>1524</td>\n",
       "      <td>9.559055</td>\n",
       "      <td>0.021589</td>\n",
       "    </tr>\n",
       "    <tr>\n",
       "      <th>2020-11-21</th>\n",
       "      <th>ES,DE,DK,HR,IE,IT,LV</th>\n",
       "      <td>65127</td>\n",
       "      <td>70966</td>\n",
       "      <td>9153</td>\n",
       "      <td>22605</td>\n",
       "      <td>153</td>\n",
       "      <td>2275</td>\n",
       "      <td>9.936264</td>\n",
       "      <td>0.032058</td>\n",
       "    </tr>\n",
       "    <tr>\n",
       "      <th>2020-11-20</th>\n",
       "      <th>ES,DE,DK,IE,IT,LV</th>\n",
       "      <td>77058</td>\n",
       "      <td>68866</td>\n",
       "      <td>10962</td>\n",
       "      <td>26712</td>\n",
       "      <td>212</td>\n",
       "      <td>2617</td>\n",
       "      <td>10.207107</td>\n",
       "      <td>0.038001</td>\n",
       "    </tr>\n",
       "    <tr>\n",
       "      <th>2020-11-19</th>\n",
       "      <th>ES,DE,DK,IE,IT,LV</th>\n",
       "      <td>75193</td>\n",
       "      <td>69974</td>\n",
       "      <td>13059</td>\n",
       "      <td>25678</td>\n",
       "      <td>211</td>\n",
       "      <td>2492</td>\n",
       "      <td>10.304173</td>\n",
       "      <td>0.035613</td>\n",
       "    </tr>\n",
       "    <tr>\n",
       "      <th>2020-11-18</th>\n",
       "      <th>ES,DE,DK,IE,IT,LV</th>\n",
       "      <td>66898</td>\n",
       "      <td>70110</td>\n",
       "      <td>15099</td>\n",
       "      <td>29832</td>\n",
       "      <td>290</td>\n",
       "      <td>2915</td>\n",
       "      <td>10.233962</td>\n",
       "      <td>0.041578</td>\n",
       "    </tr>\n",
       "    <tr>\n",
       "      <th>2020-11-17</th>\n",
       "      <th>ES,DE,DK,IE,IT,LV</th>\n",
       "      <td>56667</td>\n",
       "      <td>71150</td>\n",
       "      <td>17377</td>\n",
       "      <td>22734</td>\n",
       "      <td>222</td>\n",
       "      <td>2099</td>\n",
       "      <td>10.830872</td>\n",
       "      <td>0.029501</td>\n",
       "    </tr>\n",
       "    <tr>\n",
       "      <th>2020-11-16</th>\n",
       "      <th>ES,DE,DK,IE,IT,LV</th>\n",
       "      <td>84825</td>\n",
       "      <td>71501</td>\n",
       "      <td>19127</td>\n",
       "      <td>17579</td>\n",
       "      <td>194</td>\n",
       "      <td>1741</td>\n",
       "      <td>10.097071</td>\n",
       "      <td>0.024349</td>\n",
       "    </tr>\n",
       "    <tr>\n",
       "      <th>2020-11-15</th>\n",
       "      <th>ES,DE,DK,IE,IT,LV</th>\n",
       "      <td>56096</td>\n",
       "      <td>73670</td>\n",
       "      <td>19989</td>\n",
       "      <td>15287</td>\n",
       "      <td>224</td>\n",
       "      <td>1611</td>\n",
       "      <td>9.489137</td>\n",
       "      <td>0.021868</td>\n",
       "    </tr>\n",
       "    <tr>\n",
       "      <th>2020-11-14</th>\n",
       "      <th>ES,DE,DK,IE,IT,LV</th>\n",
       "      <td>65322</td>\n",
       "      <td>73884</td>\n",
       "      <td>20981</td>\n",
       "      <td>22798</td>\n",
       "      <td>211</td>\n",
       "      <td>2281</td>\n",
       "      <td>9.994739</td>\n",
       "      <td>0.030873</td>\n",
       "    </tr>\n",
       "    <tr>\n",
       "      <th>2020-11-13</th>\n",
       "      <th>ES,DE,DK,IE,IT,LV</th>\n",
       "      <td>84819</td>\n",
       "      <td>73621</td>\n",
       "      <td>22818</td>\n",
       "      <td>29729</td>\n",
       "      <td>306</td>\n",
       "      <td>2890</td>\n",
       "      <td>10.286851</td>\n",
       "      <td>0.039255</td>\n",
       "    </tr>\n",
       "    <tr>\n",
       "      <th>2020-11-12</th>\n",
       "      <th>ES,DE,DK,IE,IT,LV</th>\n",
       "      <td>76143</td>\n",
       "      <td>73029</td>\n",
       "      <td>22699</td>\n",
       "      <td>31792</td>\n",
       "      <td>317</td>\n",
       "      <td>3205</td>\n",
       "      <td>9.919501</td>\n",
       "      <td>0.043887</td>\n",
       "    </tr>\n",
       "    <tr>\n",
       "      <th>2020-11-11</th>\n",
       "      <th>ES,DE,DK,IE,IT,LV</th>\n",
       "      <td>74177</td>\n",
       "      <td>72741</td>\n",
       "      <td>22652</td>\n",
       "      <td>30445</td>\n",
       "      <td>300</td>\n",
       "      <td>3029</td>\n",
       "      <td>10.051172</td>\n",
       "      <td>0.041641</td>\n",
       "    </tr>\n",
       "    <tr>\n",
       "      <th>2020-11-10</th>\n",
       "      <th>ES,DE,DK,IE,IT,LV</th>\n",
       "      <td>59124</td>\n",
       "      <td>72476</td>\n",
       "      <td>23535</td>\n",
       "      <td>21163</td>\n",
       "      <td>292</td>\n",
       "      <td>2086</td>\n",
       "      <td>10.145254</td>\n",
       "      <td>0.028782</td>\n",
       "    </tr>\n",
       "    <tr>\n",
       "      <th>2020-11-09</th>\n",
       "      <th>ES,DE,DK,IE,IT,LV</th>\n",
       "      <td>100008</td>\n",
       "      <td>72329</td>\n",
       "      <td>24379</td>\n",
       "      <td>16517</td>\n",
       "      <td>236</td>\n",
       "      <td>1683</td>\n",
       "      <td>9.814023</td>\n",
       "      <td>0.023269</td>\n",
       "    </tr>\n",
       "    <tr>\n",
       "      <th>2020-11-08</th>\n",
       "      <th>ES,DE,IE,IT,LV</th>\n",
       "      <td>56547</td>\n",
       "      <td>71025</td>\n",
       "      <td>24098</td>\n",
       "      <td>16816</td>\n",
       "      <td>209</td>\n",
       "      <td>1809</td>\n",
       "      <td>9.295744</td>\n",
       "      <td>0.025470</td>\n",
       "    </tr>\n",
       "    <tr>\n",
       "      <th>2020-11-07</th>\n",
       "      <th>ES,DE,IE,IT,LV</th>\n",
       "      <td>62050</td>\n",
       "      <td>69596</td>\n",
       "      <td>23590</td>\n",
       "      <td>23688</td>\n",
       "      <td>313</td>\n",
       "      <td>2490</td>\n",
       "      <td>9.513253</td>\n",
       "      <td>0.035778</td>\n",
       "    </tr>\n",
       "    <tr>\n",
       "      <th>2020-11-06</th>\n",
       "      <th>ES,DE,IE,IT,LV</th>\n",
       "      <td>79454</td>\n",
       "      <td>68044</td>\n",
       "      <td>23325</td>\n",
       "      <td>28583</td>\n",
       "      <td>263</td>\n",
       "      <td>2909</td>\n",
       "      <td>9.825713</td>\n",
       "      <td>0.042752</td>\n",
       "    </tr>\n",
       "    <tr>\n",
       "      <th>2020-11-05</th>\n",
       "      <th>ES,DE,IE,IT,LV</th>\n",
       "      <td>73194</td>\n",
       "      <td>67010</td>\n",
       "      <td>23626</td>\n",
       "      <td>26573</td>\n",
       "      <td>267</td>\n",
       "      <td>2696</td>\n",
       "      <td>9.856454</td>\n",
       "      <td>0.040233</td>\n",
       "    </tr>\n",
       "    <tr>\n",
       "      <th>2020-11-04</th>\n",
       "      <th>ES,DE,IE,IT,LV</th>\n",
       "      <td>70966</td>\n",
       "      <td>66020</td>\n",
       "      <td>23610</td>\n",
       "      <td>28247</td>\n",
       "      <td>344</td>\n",
       "      <td>2851</td>\n",
       "      <td>9.907752</td>\n",
       "      <td>0.043184</td>\n",
       "    </tr>\n",
       "    <tr>\n",
       "      <th>2020-11-03</th>\n",
       "      <th>ES,DE,IE,IT,LV</th>\n",
       "      <td>57154</td>\n",
       "      <td>64104</td>\n",
       "      <td>23958</td>\n",
       "      <td>20613</td>\n",
       "      <td>280</td>\n",
       "      <td>1961</td>\n",
       "      <td>10.511474</td>\n",
       "      <td>0.030591</td>\n",
       "    </tr>\n",
       "    <tr>\n",
       "      <th>2020-11-02</th>\n",
       "      <th>ES,DE,IE,IT,LV</th>\n",
       "      <td>97809</td>\n",
       "      <td>62775</td>\n",
       "      <td>24206</td>\n",
       "      <td>16927</td>\n",
       "      <td>264</td>\n",
       "      <td>1711</td>\n",
       "      <td>9.893045</td>\n",
       "      <td>0.027256</td>\n",
       "    </tr>\n",
       "    <tr>\n",
       "      <th>2020-11-01</th>\n",
       "      <th>ES,DE,IE,IT,LV</th>\n",
       "      <td>46545</td>\n",
       "      <td>60713</td>\n",
       "      <td>23893</td>\n",
       "      <td>16848</td>\n",
       "      <td>277</td>\n",
       "      <td>1842</td>\n",
       "      <td>9.146580</td>\n",
       "      <td>0.030339</td>\n",
       "    </tr>\n",
       "    <tr>\n",
       "      <th>2020-10-31</th>\n",
       "      <th>ES,DE,IE,IT,LV</th>\n",
       "      <td>51184</td>\n",
       "      <td>58624</td>\n",
       "      <td>23407</td>\n",
       "      <td>20328</td>\n",
       "      <td>305</td>\n",
       "      <td>2163</td>\n",
       "      <td>9.398058</td>\n",
       "      <td>0.036896</td>\n",
       "    </tr>\n",
       "    <tr>\n",
       "      <th>2020-10-30</th>\n",
       "      <th>ES,DE,IE,IT,LV</th>\n",
       "      <td>72219</td>\n",
       "      <td>56297</td>\n",
       "      <td>22997</td>\n",
       "      <td>100215</td>\n",
       "      <td>382</td>\n",
       "      <td>0</td>\n",
       "      <td>0.000000</td>\n",
       "      <td>0.000000</td>\n",
       "    </tr>\n",
       "  </tbody>\n",
       "</table>\n",
       "</div>"
      ],
      "text/plain": [
       "                                  new_cases  covid_cases  \\\n",
       "sample_date source_regions                                 \n",
       "2020-11-26  ES,DE,DK,HR,IE,IT,LV      53743        62004   \n",
       "2020-11-25  ES,DE,DK,HR,IE,IT,LV      56448        65533   \n",
       "2020-11-24  ES,DE,DK,HR,IE,IT,LV      52217        67304   \n",
       "2020-11-23  ES,DE,DK,HR,IE,IT,LV      69939        68127   \n",
       "2020-11-22  ES,DE,DK,HR,IE,IT,LV      56334        70591   \n",
       "2020-11-21  ES,DE,DK,HR,IE,IT,LV      65127        70966   \n",
       "2020-11-20  ES,DE,DK,IE,IT,LV         77058        68866   \n",
       "2020-11-19  ES,DE,DK,IE,IT,LV         75193        69974   \n",
       "2020-11-18  ES,DE,DK,IE,IT,LV         66898        70110   \n",
       "2020-11-17  ES,DE,DK,IE,IT,LV         56667        71150   \n",
       "2020-11-16  ES,DE,DK,IE,IT,LV         84825        71501   \n",
       "2020-11-15  ES,DE,DK,IE,IT,LV         56096        73670   \n",
       "2020-11-14  ES,DE,DK,IE,IT,LV         65322        73884   \n",
       "2020-11-13  ES,DE,DK,IE,IT,LV         84819        73621   \n",
       "2020-11-12  ES,DE,DK,IE,IT,LV         76143        73029   \n",
       "2020-11-11  ES,DE,DK,IE,IT,LV         74177        72741   \n",
       "2020-11-10  ES,DE,DK,IE,IT,LV         59124        72476   \n",
       "2020-11-09  ES,DE,DK,IE,IT,LV        100008        72329   \n",
       "2020-11-08  ES,DE,IE,IT,LV            56547        71025   \n",
       "2020-11-07  ES,DE,IE,IT,LV            62050        69596   \n",
       "2020-11-06  ES,DE,IE,IT,LV            79454        68044   \n",
       "2020-11-05  ES,DE,IE,IT,LV            73194        67010   \n",
       "2020-11-04  ES,DE,IE,IT,LV            70966        66020   \n",
       "2020-11-03  ES,DE,IE,IT,LV            57154        64104   \n",
       "2020-11-02  ES,DE,IE,IT,LV            97809        62775   \n",
       "2020-11-01  ES,DE,IE,IT,LV            46545        60713   \n",
       "2020-10-31  ES,DE,IE,IT,LV            51184        58624   \n",
       "2020-10-30  ES,DE,IE,IT,LV            72219        56297   \n",
       "\n",
       "                                  shared_teks_by_generation_date  \\\n",
       "sample_date source_regions                                         \n",
       "2020-11-26  ES,DE,DK,HR,IE,IT,LV                             216   \n",
       "2020-11-25  ES,DE,DK,HR,IE,IT,LV                            2385   \n",
       "2020-11-24  ES,DE,DK,HR,IE,IT,LV                            5048   \n",
       "2020-11-23  ES,DE,DK,HR,IE,IT,LV                            7017   \n",
       "2020-11-22  ES,DE,DK,HR,IE,IT,LV                            8056   \n",
       "2020-11-21  ES,DE,DK,HR,IE,IT,LV                            9153   \n",
       "2020-11-20  ES,DE,DK,IE,IT,LV                              10962   \n",
       "2020-11-19  ES,DE,DK,IE,IT,LV                              13059   \n",
       "2020-11-18  ES,DE,DK,IE,IT,LV                              15099   \n",
       "2020-11-17  ES,DE,DK,IE,IT,LV                              17377   \n",
       "2020-11-16  ES,DE,DK,IE,IT,LV                              19127   \n",
       "2020-11-15  ES,DE,DK,IE,IT,LV                              19989   \n",
       "2020-11-14  ES,DE,DK,IE,IT,LV                              20981   \n",
       "2020-11-13  ES,DE,DK,IE,IT,LV                              22818   \n",
       "2020-11-12  ES,DE,DK,IE,IT,LV                              22699   \n",
       "2020-11-11  ES,DE,DK,IE,IT,LV                              22652   \n",
       "2020-11-10  ES,DE,DK,IE,IT,LV                              23535   \n",
       "2020-11-09  ES,DE,DK,IE,IT,LV                              24379   \n",
       "2020-11-08  ES,DE,IE,IT,LV                                 24098   \n",
       "2020-11-07  ES,DE,IE,IT,LV                                 23590   \n",
       "2020-11-06  ES,DE,IE,IT,LV                                 23325   \n",
       "2020-11-05  ES,DE,IE,IT,LV                                 23626   \n",
       "2020-11-04  ES,DE,IE,IT,LV                                 23610   \n",
       "2020-11-03  ES,DE,IE,IT,LV                                 23958   \n",
       "2020-11-02  ES,DE,IE,IT,LV                                 24206   \n",
       "2020-11-01  ES,DE,IE,IT,LV                                 23893   \n",
       "2020-10-31  ES,DE,IE,IT,LV                                 23407   \n",
       "2020-10-30  ES,DE,IE,IT,LV                                 22997   \n",
       "\n",
       "                                  shared_teks_by_upload_date  \\\n",
       "sample_date source_regions                                     \n",
       "2020-11-26  ES,DE,DK,HR,IE,IT,LV                       31914   \n",
       "2020-11-25  ES,DE,DK,HR,IE,IT,LV                       30693   \n",
       "2020-11-24  ES,DE,DK,HR,IE,IT,LV                       17800   \n",
       "2020-11-23  ES,DE,DK,HR,IE,IT,LV                       13061   \n",
       "2020-11-22  ES,DE,DK,HR,IE,IT,LV                       14568   \n",
       "2020-11-21  ES,DE,DK,HR,IE,IT,LV                       22605   \n",
       "2020-11-20  ES,DE,DK,IE,IT,LV                          26712   \n",
       "2020-11-19  ES,DE,DK,IE,IT,LV                          25678   \n",
       "2020-11-18  ES,DE,DK,IE,IT,LV                          29832   \n",
       "2020-11-17  ES,DE,DK,IE,IT,LV                          22734   \n",
       "2020-11-16  ES,DE,DK,IE,IT,LV                          17579   \n",
       "2020-11-15  ES,DE,DK,IE,IT,LV                          15287   \n",
       "2020-11-14  ES,DE,DK,IE,IT,LV                          22798   \n",
       "2020-11-13  ES,DE,DK,IE,IT,LV                          29729   \n",
       "2020-11-12  ES,DE,DK,IE,IT,LV                          31792   \n",
       "2020-11-11  ES,DE,DK,IE,IT,LV                          30445   \n",
       "2020-11-10  ES,DE,DK,IE,IT,LV                          21163   \n",
       "2020-11-09  ES,DE,DK,IE,IT,LV                          16517   \n",
       "2020-11-08  ES,DE,IE,IT,LV                             16816   \n",
       "2020-11-07  ES,DE,IE,IT,LV                             23688   \n",
       "2020-11-06  ES,DE,IE,IT,LV                             28583   \n",
       "2020-11-05  ES,DE,IE,IT,LV                             26573   \n",
       "2020-11-04  ES,DE,IE,IT,LV                             28247   \n",
       "2020-11-03  ES,DE,IE,IT,LV                             20613   \n",
       "2020-11-02  ES,DE,IE,IT,LV                             16927   \n",
       "2020-11-01  ES,DE,IE,IT,LV                             16848   \n",
       "2020-10-31  ES,DE,IE,IT,LV                             20328   \n",
       "2020-10-30  ES,DE,IE,IT,LV                            100215   \n",
       "\n",
       "                                  shared_teks_uploaded_on_generation_date  \\\n",
       "sample_date source_regions                                                  \n",
       "2020-11-26  ES,DE,DK,HR,IE,IT,LV                                      216   \n",
       "2020-11-25  ES,DE,DK,HR,IE,IT,LV                                      227   \n",
       "2020-11-24  ES,DE,DK,HR,IE,IT,LV                                      164   \n",
       "2020-11-23  ES,DE,DK,HR,IE,IT,LV                                      147   \n",
       "2020-11-22  ES,DE,DK,HR,IE,IT,LV                                      132   \n",
       "2020-11-21  ES,DE,DK,HR,IE,IT,LV                                      153   \n",
       "2020-11-20  ES,DE,DK,IE,IT,LV                                         212   \n",
       "2020-11-19  ES,DE,DK,IE,IT,LV                                         211   \n",
       "2020-11-18  ES,DE,DK,IE,IT,LV                                         290   \n",
       "2020-11-17  ES,DE,DK,IE,IT,LV                                         222   \n",
       "2020-11-16  ES,DE,DK,IE,IT,LV                                         194   \n",
       "2020-11-15  ES,DE,DK,IE,IT,LV                                         224   \n",
       "2020-11-14  ES,DE,DK,IE,IT,LV                                         211   \n",
       "2020-11-13  ES,DE,DK,IE,IT,LV                                         306   \n",
       "2020-11-12  ES,DE,DK,IE,IT,LV                                         317   \n",
       "2020-11-11  ES,DE,DK,IE,IT,LV                                         300   \n",
       "2020-11-10  ES,DE,DK,IE,IT,LV                                         292   \n",
       "2020-11-09  ES,DE,DK,IE,IT,LV                                         236   \n",
       "2020-11-08  ES,DE,IE,IT,LV                                            209   \n",
       "2020-11-07  ES,DE,IE,IT,LV                                            313   \n",
       "2020-11-06  ES,DE,IE,IT,LV                                            263   \n",
       "2020-11-05  ES,DE,IE,IT,LV                                            267   \n",
       "2020-11-04  ES,DE,IE,IT,LV                                            344   \n",
       "2020-11-03  ES,DE,IE,IT,LV                                            280   \n",
       "2020-11-02  ES,DE,IE,IT,LV                                            264   \n",
       "2020-11-01  ES,DE,IE,IT,LV                                            277   \n",
       "2020-10-31  ES,DE,IE,IT,LV                                            305   \n",
       "2020-10-30  ES,DE,IE,IT,LV                                            382   \n",
       "\n",
       "                                  shared_diagnoses  teks_per_shared_diagnosis  \\\n",
       "sample_date source_regions                                                      \n",
       "2020-11-26  ES,DE,DK,HR,IE,IT,LV              3037                  10.508396   \n",
       "2020-11-25  ES,DE,DK,HR,IE,IT,LV              2822                  10.876329   \n",
       "2020-11-24  ES,DE,DK,HR,IE,IT,LV              1667                  10.677864   \n",
       "2020-11-23  ES,DE,DK,HR,IE,IT,LV              1332                   9.805556   \n",
       "2020-11-22  ES,DE,DK,HR,IE,IT,LV              1524                   9.559055   \n",
       "2020-11-21  ES,DE,DK,HR,IE,IT,LV              2275                   9.936264   \n",
       "2020-11-20  ES,DE,DK,IE,IT,LV                 2617                  10.207107   \n",
       "2020-11-19  ES,DE,DK,IE,IT,LV                 2492                  10.304173   \n",
       "2020-11-18  ES,DE,DK,IE,IT,LV                 2915                  10.233962   \n",
       "2020-11-17  ES,DE,DK,IE,IT,LV                 2099                  10.830872   \n",
       "2020-11-16  ES,DE,DK,IE,IT,LV                 1741                  10.097071   \n",
       "2020-11-15  ES,DE,DK,IE,IT,LV                 1611                   9.489137   \n",
       "2020-11-14  ES,DE,DK,IE,IT,LV                 2281                   9.994739   \n",
       "2020-11-13  ES,DE,DK,IE,IT,LV                 2890                  10.286851   \n",
       "2020-11-12  ES,DE,DK,IE,IT,LV                 3205                   9.919501   \n",
       "2020-11-11  ES,DE,DK,IE,IT,LV                 3029                  10.051172   \n",
       "2020-11-10  ES,DE,DK,IE,IT,LV                 2086                  10.145254   \n",
       "2020-11-09  ES,DE,DK,IE,IT,LV                 1683                   9.814023   \n",
       "2020-11-08  ES,DE,IE,IT,LV                    1809                   9.295744   \n",
       "2020-11-07  ES,DE,IE,IT,LV                    2490                   9.513253   \n",
       "2020-11-06  ES,DE,IE,IT,LV                    2909                   9.825713   \n",
       "2020-11-05  ES,DE,IE,IT,LV                    2696                   9.856454   \n",
       "2020-11-04  ES,DE,IE,IT,LV                    2851                   9.907752   \n",
       "2020-11-03  ES,DE,IE,IT,LV                    1961                  10.511474   \n",
       "2020-11-02  ES,DE,IE,IT,LV                    1711                   9.893045   \n",
       "2020-11-01  ES,DE,IE,IT,LV                    1842                   9.146580   \n",
       "2020-10-31  ES,DE,IE,IT,LV                    2163                   9.398058   \n",
       "2020-10-30  ES,DE,IE,IT,LV                       0                   0.000000   \n",
       "\n",
       "                                  shared_diagnoses_per_covid_case  \n",
       "sample_date source_regions                                         \n",
       "2020-11-26  ES,DE,DK,HR,IE,IT,LV                         0.048981  \n",
       "2020-11-25  ES,DE,DK,HR,IE,IT,LV                         0.043062  \n",
       "2020-11-24  ES,DE,DK,HR,IE,IT,LV                         0.024768  \n",
       "2020-11-23  ES,DE,DK,HR,IE,IT,LV                         0.019552  \n",
       "2020-11-22  ES,DE,DK,HR,IE,IT,LV                         0.021589  \n",
       "2020-11-21  ES,DE,DK,HR,IE,IT,LV                         0.032058  \n",
       "2020-11-20  ES,DE,DK,IE,IT,LV                            0.038001  \n",
       "2020-11-19  ES,DE,DK,IE,IT,LV                            0.035613  \n",
       "2020-11-18  ES,DE,DK,IE,IT,LV                            0.041578  \n",
       "2020-11-17  ES,DE,DK,IE,IT,LV                            0.029501  \n",
       "2020-11-16  ES,DE,DK,IE,IT,LV                            0.024349  \n",
       "2020-11-15  ES,DE,DK,IE,IT,LV                            0.021868  \n",
       "2020-11-14  ES,DE,DK,IE,IT,LV                            0.030873  \n",
       "2020-11-13  ES,DE,DK,IE,IT,LV                            0.039255  \n",
       "2020-11-12  ES,DE,DK,IE,IT,LV                            0.043887  \n",
       "2020-11-11  ES,DE,DK,IE,IT,LV                            0.041641  \n",
       "2020-11-10  ES,DE,DK,IE,IT,LV                            0.028782  \n",
       "2020-11-09  ES,DE,DK,IE,IT,LV                            0.023269  \n",
       "2020-11-08  ES,DE,IE,IT,LV                               0.025470  \n",
       "2020-11-07  ES,DE,IE,IT,LV                               0.035778  \n",
       "2020-11-06  ES,DE,IE,IT,LV                               0.042752  \n",
       "2020-11-05  ES,DE,IE,IT,LV                               0.040233  \n",
       "2020-11-04  ES,DE,IE,IT,LV                               0.043184  \n",
       "2020-11-03  ES,DE,IE,IT,LV                               0.030591  \n",
       "2020-11-02  ES,DE,IE,IT,LV                               0.027256  \n",
       "2020-11-01  ES,DE,IE,IT,LV                               0.030339  \n",
       "2020-10-31  ES,DE,IE,IT,LV                               0.036896  \n",
       "2020-10-30  ES,DE,IE,IT,LV                               0.000000  "
      ]
     },
     "execution_count": 47,
     "metadata": {},
     "output_type": "execute_result"
    }
   ],
   "source": [
    "with pd.option_context(\"mode.use_inf_as_na\", True):\n",
    "    result_summary_df = result_summary_df.fillna(0).astype(int)\n",
    "    result_summary_df[\"teks_per_shared_diagnosis\"] = \\\n",
    "        (result_summary_df.shared_teks_by_upload_date / result_summary_df.shared_diagnoses).fillna(0)\n",
    "    result_summary_df[\"shared_diagnoses_per_covid_case\"] = \\\n",
    "        (result_summary_df.shared_diagnoses / result_summary_df.covid_cases).fillna(0)\n",
    "\n",
    "result_summary_df.head(daily_plot_days)"
   ]
  },
  {
   "cell_type": "code",
   "execution_count": 48,
   "metadata": {
    "collapsed": false,
    "execution": {
     "iopub.execute_input": "2020-11-26T23:26:51.410598Z",
     "iopub.status.busy": "2020-11-26T23:26:51.410026Z",
     "iopub.status.idle": "2020-11-26T23:26:51.430511Z",
     "shell.execute_reply": "2020-11-26T23:26:51.430052Z"
    },
    "papermill": {
     "duration": 0.090152,
     "end_time": "2020-11-26T23:26:51.430642",
     "exception": false,
     "start_time": "2020-11-26T23:26:51.340490",
     "status": "completed"
    },
    "pycharm": {
     "name": "#%%\n"
    },
    "tags": []
   },
   "outputs": [
    {
     "data": {
      "text/html": [
       "<div>\n",
       "<style scoped>\n",
       "    .dataframe tbody tr th:only-of-type {\n",
       "        vertical-align: middle;\n",
       "    }\n",
       "\n",
       "    .dataframe tbody tr th {\n",
       "        vertical-align: top;\n",
       "    }\n",
       "\n",
       "    .dataframe thead th {\n",
       "        text-align: right;\n",
       "    }\n",
       "</style>\n",
       "<table border=\"1\" class=\"dataframe\">\n",
       "  <thead>\n",
       "    <tr style=\"text-align: right;\">\n",
       "      <th></th>\n",
       "      <th></th>\n",
       "      <th>covid_cases</th>\n",
       "      <th>shared_teks_by_generation_date</th>\n",
       "      <th>shared_teks_by_upload_date</th>\n",
       "      <th>shared_diagnoses</th>\n",
       "      <th>teks_per_shared_diagnosis</th>\n",
       "      <th>shared_diagnoses_per_covid_case</th>\n",
       "    </tr>\n",
       "    <tr>\n",
       "      <th>sample_date</th>\n",
       "      <th>source_regions</th>\n",
       "      <th></th>\n",
       "      <th></th>\n",
       "      <th></th>\n",
       "      <th></th>\n",
       "      <th></th>\n",
       "      <th></th>\n",
       "    </tr>\n",
       "  </thead>\n",
       "  <tbody>\n",
       "    <tr>\n",
       "      <th>2020-11-26</th>\n",
       "      <th>ES,DE,DK,HR,IE,IT,LV</th>\n",
       "      <td>473391</td>\n",
       "      <td>42837</td>\n",
       "      <td>157353</td>\n",
       "      <td>15274</td>\n",
       "      <td>10.302016</td>\n",
       "      <td>0.032265</td>\n",
       "    </tr>\n",
       "    <tr>\n",
       "      <th>2020-11-25</th>\n",
       "      <th>ES,DE,DK,HR,IE,IT,LV</th>\n",
       "      <td>481361</td>\n",
       "      <td>55680</td>\n",
       "      <td>151117</td>\n",
       "      <td>14729</td>\n",
       "      <td>10.259828</td>\n",
       "      <td>0.030599</td>\n",
       "    </tr>\n",
       "    <tr>\n",
       "      <th>2020-11-24</th>\n",
       "      <th>ES,DE,DK,HR,IE,IT,LV</th>\n",
       "      <td>485938</td>\n",
       "      <td>68394</td>\n",
       "      <td>150256</td>\n",
       "      <td>14822</td>\n",
       "      <td>10.137363</td>\n",
       "      <td>0.030502</td>\n",
       "    </tr>\n",
       "    <tr>\n",
       "      <th>2020-11-23</th>\n",
       "      <th>ES,DE,DK,HR,IE,IT,LV</th>\n",
       "      <td>489784</td>\n",
       "      <td>80723</td>\n",
       "      <td>155190</td>\n",
       "      <td>15254</td>\n",
       "      <td>10.173725</td>\n",
       "      <td>0.031144</td>\n",
       "    </tr>\n",
       "    <tr>\n",
       "      <th>2020-11-22</th>\n",
       "      <th>ES,DE,DK,HR,IE,IT,LV</th>\n",
       "      <td>493158</td>\n",
       "      <td>92833</td>\n",
       "      <td>159708</td>\n",
       "      <td>15663</td>\n",
       "      <td>10.196514</td>\n",
       "      <td>0.031761</td>\n",
       "    </tr>\n",
       "  </tbody>\n",
       "</table>\n",
       "</div>"
      ],
      "text/plain": [
       "                                  covid_cases  shared_teks_by_generation_date  \\\n",
       "sample_date source_regions                                                      \n",
       "2020-11-26  ES,DE,DK,HR,IE,IT,LV       473391                           42837   \n",
       "2020-11-25  ES,DE,DK,HR,IE,IT,LV       481361                           55680   \n",
       "2020-11-24  ES,DE,DK,HR,IE,IT,LV       485938                           68394   \n",
       "2020-11-23  ES,DE,DK,HR,IE,IT,LV       489784                           80723   \n",
       "2020-11-22  ES,DE,DK,HR,IE,IT,LV       493158                           92833   \n",
       "\n",
       "                                  shared_teks_by_upload_date  \\\n",
       "sample_date source_regions                                     \n",
       "2020-11-26  ES,DE,DK,HR,IE,IT,LV                      157353   \n",
       "2020-11-25  ES,DE,DK,HR,IE,IT,LV                      151117   \n",
       "2020-11-24  ES,DE,DK,HR,IE,IT,LV                      150256   \n",
       "2020-11-23  ES,DE,DK,HR,IE,IT,LV                      155190   \n",
       "2020-11-22  ES,DE,DK,HR,IE,IT,LV                      159708   \n",
       "\n",
       "                                  shared_diagnoses  teks_per_shared_diagnosis  \\\n",
       "sample_date source_regions                                                      \n",
       "2020-11-26  ES,DE,DK,HR,IE,IT,LV             15274                  10.302016   \n",
       "2020-11-25  ES,DE,DK,HR,IE,IT,LV             14729                  10.259828   \n",
       "2020-11-24  ES,DE,DK,HR,IE,IT,LV             14822                  10.137363   \n",
       "2020-11-23  ES,DE,DK,HR,IE,IT,LV             15254                  10.173725   \n",
       "2020-11-22  ES,DE,DK,HR,IE,IT,LV             15663                  10.196514   \n",
       "\n",
       "                                  shared_diagnoses_per_covid_case  \n",
       "sample_date source_regions                                         \n",
       "2020-11-26  ES,DE,DK,HR,IE,IT,LV                         0.032265  \n",
       "2020-11-25  ES,DE,DK,HR,IE,IT,LV                         0.030599  \n",
       "2020-11-24  ES,DE,DK,HR,IE,IT,LV                         0.030502  \n",
       "2020-11-23  ES,DE,DK,HR,IE,IT,LV                         0.031144  \n",
       "2020-11-22  ES,DE,DK,HR,IE,IT,LV                         0.031761  "
      ]
     },
     "execution_count": 48,
     "metadata": {},
     "output_type": "execute_result"
    }
   ],
   "source": [
    "weekly_result_summary_df = result_summary_df \\\n",
    "    .sort_index(ascending=True).fillna(0).rolling(7).agg({\n",
    "    \"covid_cases\": \"sum\",\n",
    "    \"shared_teks_by_generation_date\": \"sum\",\n",
    "    \"shared_teks_by_upload_date\": \"sum\",\n",
    "    \"shared_diagnoses\": \"sum\"\n",
    "}).sort_index(ascending=False)\n",
    "\n",
    "with pd.option_context(\"mode.use_inf_as_na\", True):\n",
    "    weekly_result_summary_df = weekly_result_summary_df.fillna(0).astype(int)\n",
    "    weekly_result_summary_df[\"teks_per_shared_diagnosis\"] = \\\n",
    "        (weekly_result_summary_df.shared_teks_by_upload_date / weekly_result_summary_df.shared_diagnoses).fillna(0)\n",
    "    weekly_result_summary_df[\"shared_diagnoses_per_covid_case\"] = \\\n",
    "        (weekly_result_summary_df.shared_diagnoses / weekly_result_summary_df.covid_cases).fillna(0)\n",
    "\n",
    "weekly_result_summary_df.head()"
   ]
  },
  {
   "cell_type": "code",
   "execution_count": 49,
   "metadata": {
    "collapsed": false,
    "execution": {
     "iopub.execute_input": "2020-11-26T23:26:51.564673Z",
     "iopub.status.busy": "2020-11-26T23:26:51.564078Z",
     "iopub.status.idle": "2020-11-26T23:26:51.567104Z",
     "shell.execute_reply": "2020-11-26T23:26:51.566632Z"
    },
    "papermill": {
     "duration": 0.072683,
     "end_time": "2020-11-26T23:26:51.567224",
     "exception": false,
     "start_time": "2020-11-26T23:26:51.494541",
     "status": "completed"
    },
    "pycharm": {
     "name": "#%%\n"
    },
    "tags": []
   },
   "outputs": [
    {
     "data": {
      "text/plain": [
       "{'covid_cases': 481361,\n",
       " 'shared_teks_by_generation_date': 55680,\n",
       " 'shared_teks_by_upload_date': 151117,\n",
       " 'shared_diagnoses': 14729,\n",
       " 'teks_per_shared_diagnosis': 10.259827551089687,\n",
       " 'shared_diagnoses_per_covid_case': 0.030598656725409828}"
      ]
     },
     "execution_count": 49,
     "metadata": {},
     "output_type": "execute_result"
    }
   ],
   "source": [
    "last_7_days_summary = weekly_result_summary_df.to_dict(orient=\"records\")[1]\n",
    "last_7_days_summary"
   ]
  },
  {
   "cell_type": "markdown",
   "metadata": {
    "collapsed": false,
    "papermill": {
     "duration": 0.064279,
     "end_time": "2020-11-26T23:26:51.695710",
     "exception": false,
     "start_time": "2020-11-26T23:26:51.631431",
     "status": "completed"
    },
    "tags": []
   },
   "source": [
    "## Report Results"
   ]
  },
  {
   "cell_type": "code",
   "execution_count": 50,
   "metadata": {
    "collapsed": false,
    "execution": {
     "iopub.execute_input": "2020-11-26T23:26:51.829997Z",
     "iopub.status.busy": "2020-11-26T23:26:51.829410Z",
     "iopub.status.idle": "2020-11-26T23:26:51.831668Z",
     "shell.execute_reply": "2020-11-26T23:26:51.831190Z"
    },
    "papermill": {
     "duration": 0.071452,
     "end_time": "2020-11-26T23:26:51.831790",
     "exception": false,
     "start_time": "2020-11-26T23:26:51.760338",
     "status": "completed"
    },
    "pycharm": {
     "name": "#%%\n"
    },
    "tags": []
   },
   "outputs": [],
   "source": [
    "display_column_name_mapping = {\n",
    "    \"sample_date\": \"Sample\\u00A0Date\\u00A0(UTC)\",\n",
    "    \"source_regions\": \"Source Countries\",\n",
    "    \"datetime_utc\": \"Timestamp (UTC)\",\n",
    "    \"upload_date\": \"Upload Date (UTC)\",\n",
    "    \"generation_to_upload_days\": \"Generation to Upload Period in Days\",\n",
    "    \"region\": \"Backend\",\n",
    "    \"region_x\": \"Backend\\u00A0(A)\",\n",
    "    \"region_y\": \"Backend\\u00A0(B)\",\n",
    "    \"common_teks\": \"Common TEKs Shared Between Backends\",\n",
    "    \"common_teks_fraction\": \"Fraction of TEKs in Backend (A) Available in Backend (B)\",\n",
    "    \"covid_cases\": \"COVID-19 Cases in Source Countries (7-day Rolling Average)\",\n",
    "    \"shared_teks_by_generation_date\": \"Shared TEKs by Generation Date\",\n",
    "    \"shared_teks_by_upload_date\": \"Shared TEKs by Upload Date\",\n",
    "    \"shared_diagnoses\": \"Shared Diagnoses (Estimation)\",\n",
    "    \"teks_per_shared_diagnosis\": \"TEKs Uploaded per Shared Diagnosis\",\n",
    "    \"shared_diagnoses_per_covid_case\": \"Usage Ratio (Fraction of Cases in Source Countries Which Shared Diagnosis)\",\n",
    "    \"shared_teks_uploaded_on_generation_date\": \"Shared TEKs Uploaded on Generation Date\",\n",
    "}"
   ]
  },
  {
   "cell_type": "code",
   "execution_count": 51,
   "metadata": {
    "collapsed": false,
    "execution": {
     "iopub.execute_input": "2020-11-26T23:26:51.964730Z",
     "iopub.status.busy": "2020-11-26T23:26:51.964064Z",
     "iopub.status.idle": "2020-11-26T23:26:51.965990Z",
     "shell.execute_reply": "2020-11-26T23:26:51.966514Z"
    },
    "papermill": {
     "duration": 0.070794,
     "end_time": "2020-11-26T23:26:51.966666",
     "exception": false,
     "start_time": "2020-11-26T23:26:51.895872",
     "status": "completed"
    },
    "pycharm": {
     "name": "#%%\n"
    },
    "tags": []
   },
   "outputs": [],
   "source": [
    "summary_columns = [\n",
    "    \"covid_cases\",\n",
    "    \"shared_teks_by_generation_date\",\n",
    "    \"shared_teks_by_upload_date\",\n",
    "    \"shared_teks_uploaded_on_generation_date\",\n",
    "    \"shared_diagnoses\",\n",
    "    \"teks_per_shared_diagnosis\",\n",
    "    \"shared_diagnoses_per_covid_case\",\n",
    "]"
   ]
  },
  {
   "cell_type": "markdown",
   "metadata": {
    "collapsed": false,
    "papermill": {
     "duration": 0.066889,
     "end_time": "2020-11-26T23:26:52.099260",
     "exception": false,
     "start_time": "2020-11-26T23:26:52.032371",
     "status": "completed"
    },
    "tags": []
   },
   "source": [
    "### Daily Summary Table"
   ]
  },
  {
   "cell_type": "code",
   "execution_count": 52,
   "metadata": {
    "collapsed": false,
    "execution": {
     "iopub.execute_input": "2020-11-26T23:26:52.244999Z",
     "iopub.status.busy": "2020-11-26T23:26:52.244408Z",
     "iopub.status.idle": "2020-11-26T23:26:52.254253Z",
     "shell.execute_reply": "2020-11-26T23:26:52.254704Z"
    },
    "papermill": {
     "duration": 0.091795,
     "end_time": "2020-11-26T23:26:52.254863",
     "exception": false,
     "start_time": "2020-11-26T23:26:52.163068",
     "status": "completed"
    },
    "pycharm": {
     "name": "#%%\n"
    },
    "tags": []
   },
   "outputs": [
    {
     "data": {
      "text/html": [
       "<div>\n",
       "<style scoped>\n",
       "    .dataframe tbody tr th:only-of-type {\n",
       "        vertical-align: middle;\n",
       "    }\n",
       "\n",
       "    .dataframe tbody tr th {\n",
       "        vertical-align: top;\n",
       "    }\n",
       "\n",
       "    .dataframe thead th {\n",
       "        text-align: right;\n",
       "    }\n",
       "</style>\n",
       "<table border=\"1\" class=\"dataframe\">\n",
       "  <thead>\n",
       "    <tr style=\"text-align: right;\">\n",
       "      <th></th>\n",
       "      <th></th>\n",
       "      <th>COVID-19 Cases in Source Countries (7-day Rolling Average)</th>\n",
       "      <th>Shared TEKs by Generation Date</th>\n",
       "      <th>Shared TEKs by Upload Date</th>\n",
       "      <th>Shared TEKs Uploaded on Generation Date</th>\n",
       "      <th>Shared Diagnoses (Estimation)</th>\n",
       "      <th>TEKs Uploaded per Shared Diagnosis</th>\n",
       "      <th>Usage Ratio (Fraction of Cases in Source Countries Which Shared Diagnosis)</th>\n",
       "    </tr>\n",
       "    <tr>\n",
       "      <th>Sample Date (UTC)</th>\n",
       "      <th>Source Countries</th>\n",
       "      <th></th>\n",
       "      <th></th>\n",
       "      <th></th>\n",
       "      <th></th>\n",
       "      <th></th>\n",
       "      <th></th>\n",
       "      <th></th>\n",
       "    </tr>\n",
       "  </thead>\n",
       "  <tbody>\n",
       "    <tr>\n",
       "      <th>2020-11-26</th>\n",
       "      <th>ES,DE,DK,HR,IE,IT,LV</th>\n",
       "      <td>62004</td>\n",
       "      <td>216</td>\n",
       "      <td>31914</td>\n",
       "      <td>216</td>\n",
       "      <td>3037</td>\n",
       "      <td>10.508396</td>\n",
       "      <td>0.048981</td>\n",
       "    </tr>\n",
       "    <tr>\n",
       "      <th>2020-11-25</th>\n",
       "      <th>ES,DE,DK,HR,IE,IT,LV</th>\n",
       "      <td>65533</td>\n",
       "      <td>2385</td>\n",
       "      <td>30693</td>\n",
       "      <td>227</td>\n",
       "      <td>2822</td>\n",
       "      <td>10.876329</td>\n",
       "      <td>0.043062</td>\n",
       "    </tr>\n",
       "    <tr>\n",
       "      <th>2020-11-24</th>\n",
       "      <th>ES,DE,DK,HR,IE,IT,LV</th>\n",
       "      <td>67304</td>\n",
       "      <td>5048</td>\n",
       "      <td>17800</td>\n",
       "      <td>164</td>\n",
       "      <td>1667</td>\n",
       "      <td>10.677864</td>\n",
       "      <td>0.024768</td>\n",
       "    </tr>\n",
       "    <tr>\n",
       "      <th>2020-11-23</th>\n",
       "      <th>ES,DE,DK,HR,IE,IT,LV</th>\n",
       "      <td>68127</td>\n",
       "      <td>7017</td>\n",
       "      <td>13061</td>\n",
       "      <td>147</td>\n",
       "      <td>1332</td>\n",
       "      <td>9.805556</td>\n",
       "      <td>0.019552</td>\n",
       "    </tr>\n",
       "    <tr>\n",
       "      <th>2020-11-22</th>\n",
       "      <th>ES,DE,DK,HR,IE,IT,LV</th>\n",
       "      <td>70591</td>\n",
       "      <td>8056</td>\n",
       "      <td>14568</td>\n",
       "      <td>132</td>\n",
       "      <td>1524</td>\n",
       "      <td>9.559055</td>\n",
       "      <td>0.021589</td>\n",
       "    </tr>\n",
       "    <tr>\n",
       "      <th>...</th>\n",
       "      <th>...</th>\n",
       "      <td>...</td>\n",
       "      <td>...</td>\n",
       "      <td>...</td>\n",
       "      <td>...</td>\n",
       "      <td>...</td>\n",
       "      <td>...</td>\n",
       "      <td>...</td>\n",
       "    </tr>\n",
       "    <tr>\n",
       "      <th>2020-09-08</th>\n",
       "      <th>ES</th>\n",
       "      <td>9077</td>\n",
       "      <td>61</td>\n",
       "      <td>44</td>\n",
       "      <td>0</td>\n",
       "      <td>18</td>\n",
       "      <td>2.444444</td>\n",
       "      <td>0.001983</td>\n",
       "    </tr>\n",
       "    <tr>\n",
       "      <th>2020-09-07</th>\n",
       "      <th>ES</th>\n",
       "      <td>8956</td>\n",
       "      <td>58</td>\n",
       "      <td>52</td>\n",
       "      <td>0</td>\n",
       "      <td>22</td>\n",
       "      <td>2.363636</td>\n",
       "      <td>0.002456</td>\n",
       "    </tr>\n",
       "    <tr>\n",
       "      <th>2020-09-06</th>\n",
       "      <th>ES</th>\n",
       "      <td>8529</td>\n",
       "      <td>54</td>\n",
       "      <td>60</td>\n",
       "      <td>0</td>\n",
       "      <td>24</td>\n",
       "      <td>2.500000</td>\n",
       "      <td>0.002814</td>\n",
       "    </tr>\n",
       "    <tr>\n",
       "      <th>2020-09-05</th>\n",
       "      <th>ES</th>\n",
       "      <td>8529</td>\n",
       "      <td>56</td>\n",
       "      <td>40</td>\n",
       "      <td>0</td>\n",
       "      <td>17</td>\n",
       "      <td>2.352941</td>\n",
       "      <td>0.001993</td>\n",
       "    </tr>\n",
       "    <tr>\n",
       "      <th>2020-09-04</th>\n",
       "      <th>ES</th>\n",
       "      <td>8529</td>\n",
       "      <td>52</td>\n",
       "      <td>58</td>\n",
       "      <td>0</td>\n",
       "      <td>20</td>\n",
       "      <td>2.900000</td>\n",
       "      <td>0.002345</td>\n",
       "    </tr>\n",
       "  </tbody>\n",
       "</table>\n",
       "<p>84 rows × 7 columns</p>\n",
       "</div>"
      ],
      "text/plain": [
       "                                        COVID-19 Cases in Source Countries (7-day Rolling Average)  \\\n",
       "Sample Date (UTC) Source Countries                                                                   \n",
       "2020-11-26        ES,DE,DK,HR,IE,IT,LV                                              62004            \n",
       "2020-11-25        ES,DE,DK,HR,IE,IT,LV                                              65533            \n",
       "2020-11-24        ES,DE,DK,HR,IE,IT,LV                                              67304            \n",
       "2020-11-23        ES,DE,DK,HR,IE,IT,LV                                              68127            \n",
       "2020-11-22        ES,DE,DK,HR,IE,IT,LV                                              70591            \n",
       "...                                                                                   ...            \n",
       "2020-09-08        ES                                                                 9077            \n",
       "2020-09-07        ES                                                                 8956            \n",
       "2020-09-06        ES                                                                 8529            \n",
       "2020-09-05        ES                                                                 8529            \n",
       "2020-09-04        ES                                                                 8529            \n",
       "\n",
       "                                        Shared TEKs by Generation Date  \\\n",
       "Sample Date (UTC) Source Countries                                       \n",
       "2020-11-26        ES,DE,DK,HR,IE,IT,LV                             216   \n",
       "2020-11-25        ES,DE,DK,HR,IE,IT,LV                            2385   \n",
       "2020-11-24        ES,DE,DK,HR,IE,IT,LV                            5048   \n",
       "2020-11-23        ES,DE,DK,HR,IE,IT,LV                            7017   \n",
       "2020-11-22        ES,DE,DK,HR,IE,IT,LV                            8056   \n",
       "...                                                                ...   \n",
       "2020-09-08        ES                                                61   \n",
       "2020-09-07        ES                                                58   \n",
       "2020-09-06        ES                                                54   \n",
       "2020-09-05        ES                                                56   \n",
       "2020-09-04        ES                                                52   \n",
       "\n",
       "                                        Shared TEKs by Upload Date  \\\n",
       "Sample Date (UTC) Source Countries                                   \n",
       "2020-11-26        ES,DE,DK,HR,IE,IT,LV                       31914   \n",
       "2020-11-25        ES,DE,DK,HR,IE,IT,LV                       30693   \n",
       "2020-11-24        ES,DE,DK,HR,IE,IT,LV                       17800   \n",
       "2020-11-23        ES,DE,DK,HR,IE,IT,LV                       13061   \n",
       "2020-11-22        ES,DE,DK,HR,IE,IT,LV                       14568   \n",
       "...                                                            ...   \n",
       "2020-09-08        ES                                            44   \n",
       "2020-09-07        ES                                            52   \n",
       "2020-09-06        ES                                            60   \n",
       "2020-09-05        ES                                            40   \n",
       "2020-09-04        ES                                            58   \n",
       "\n",
       "                                        Shared TEKs Uploaded on Generation Date  \\\n",
       "Sample Date (UTC) Source Countries                                                \n",
       "2020-11-26        ES,DE,DK,HR,IE,IT,LV                                      216   \n",
       "2020-11-25        ES,DE,DK,HR,IE,IT,LV                                      227   \n",
       "2020-11-24        ES,DE,DK,HR,IE,IT,LV                                      164   \n",
       "2020-11-23        ES,DE,DK,HR,IE,IT,LV                                      147   \n",
       "2020-11-22        ES,DE,DK,HR,IE,IT,LV                                      132   \n",
       "...                                                                         ...   \n",
       "2020-09-08        ES                                                          0   \n",
       "2020-09-07        ES                                                          0   \n",
       "2020-09-06        ES                                                          0   \n",
       "2020-09-05        ES                                                          0   \n",
       "2020-09-04        ES                                                          0   \n",
       "\n",
       "                                        Shared Diagnoses (Estimation)  \\\n",
       "Sample Date (UTC) Source Countries                                      \n",
       "2020-11-26        ES,DE,DK,HR,IE,IT,LV                           3037   \n",
       "2020-11-25        ES,DE,DK,HR,IE,IT,LV                           2822   \n",
       "2020-11-24        ES,DE,DK,HR,IE,IT,LV                           1667   \n",
       "2020-11-23        ES,DE,DK,HR,IE,IT,LV                           1332   \n",
       "2020-11-22        ES,DE,DK,HR,IE,IT,LV                           1524   \n",
       "...                                                               ...   \n",
       "2020-09-08        ES                                               18   \n",
       "2020-09-07        ES                                               22   \n",
       "2020-09-06        ES                                               24   \n",
       "2020-09-05        ES                                               17   \n",
       "2020-09-04        ES                                               20   \n",
       "\n",
       "                                        TEKs Uploaded per Shared Diagnosis  \\\n",
       "Sample Date (UTC) Source Countries                                           \n",
       "2020-11-26        ES,DE,DK,HR,IE,IT,LV                           10.508396   \n",
       "2020-11-25        ES,DE,DK,HR,IE,IT,LV                           10.876329   \n",
       "2020-11-24        ES,DE,DK,HR,IE,IT,LV                           10.677864   \n",
       "2020-11-23        ES,DE,DK,HR,IE,IT,LV                            9.805556   \n",
       "2020-11-22        ES,DE,DK,HR,IE,IT,LV                            9.559055   \n",
       "...                                                                    ...   \n",
       "2020-09-08        ES                                              2.444444   \n",
       "2020-09-07        ES                                              2.363636   \n",
       "2020-09-06        ES                                              2.500000   \n",
       "2020-09-05        ES                                              2.352941   \n",
       "2020-09-04        ES                                              2.900000   \n",
       "\n",
       "                                        Usage Ratio (Fraction of Cases in Source Countries Which Shared Diagnosis)  \n",
       "Sample Date (UTC) Source Countries                                                                                  \n",
       "2020-11-26        ES,DE,DK,HR,IE,IT,LV                                           0.048981                           \n",
       "2020-11-25        ES,DE,DK,HR,IE,IT,LV                                           0.043062                           \n",
       "2020-11-24        ES,DE,DK,HR,IE,IT,LV                                           0.024768                           \n",
       "2020-11-23        ES,DE,DK,HR,IE,IT,LV                                           0.019552                           \n",
       "2020-11-22        ES,DE,DK,HR,IE,IT,LV                                           0.021589                           \n",
       "...                                                                                   ...                           \n",
       "2020-09-08        ES                                                             0.001983                           \n",
       "2020-09-07        ES                                                             0.002456                           \n",
       "2020-09-06        ES                                                             0.002814                           \n",
       "2020-09-05        ES                                                             0.001993                           \n",
       "2020-09-04        ES                                                             0.002345                           \n",
       "\n",
       "[84 rows x 7 columns]"
      ]
     },
     "execution_count": 52,
     "metadata": {},
     "output_type": "execute_result"
    }
   ],
   "source": [
    "result_summary_df_ = result_summary_df.copy()\n",
    "result_summary_df = result_summary_df[summary_columns]\n",
    "result_summary_with_display_names_df = result_summary_df \\\n",
    "    .rename_axis(index=display_column_name_mapping) \\\n",
    "    .rename(columns=display_column_name_mapping)\n",
    "result_summary_with_display_names_df"
   ]
  },
  {
   "cell_type": "markdown",
   "metadata": {
    "collapsed": false,
    "papermill": {
     "duration": 0.064444,
     "end_time": "2020-11-26T23:26:52.384120",
     "exception": false,
     "start_time": "2020-11-26T23:26:52.319676",
     "status": "completed"
    },
    "tags": []
   },
   "source": [
    "### Daily Summary Plots"
   ]
  },
  {
   "cell_type": "code",
   "execution_count": 53,
   "metadata": {
    "collapsed": false,
    "execution": {
     "iopub.execute_input": "2020-11-26T23:26:52.529764Z",
     "iopub.status.busy": "2020-11-26T23:26:52.529197Z",
     "iopub.status.idle": "2020-11-26T23:26:54.434750Z",
     "shell.execute_reply": "2020-11-26T23:26:54.434247Z"
    },
    "papermill": {
     "duration": 1.985628,
     "end_time": "2020-11-26T23:26:54.434881",
     "exception": false,
     "start_time": "2020-11-26T23:26:52.449253",
     "status": "completed"
    },
    "pycharm": {
     "name": "#%%\n"
    },
    "tags": []
   },
   "outputs": [
    {
     "data": {
      "image/png": "[encoded data removed]",
      "text/plain": [
       "<Figure size 1080x1584 with 7 Axes>"
      ]
     },
     "metadata": {},
     "output_type": "display_data"
    }
   ],
   "source": [
    "result_plot_summary_df = result_summary_df.head(daily_plot_days)[summary_columns] \\\n",
    "    .droplevel(level=[\"source_regions\"]) \\\n",
    "    .rename_axis(index=display_column_name_mapping) \\\n",
    "    .rename(columns=display_column_name_mapping)\n",
    "summary_ax_list = result_plot_summary_df.sort_index(ascending=True).plot.bar(\n",
    "    title=f\"Daily Summary\",\n",
    "    rot=45, subplots=True, figsize=(15, 22), legend=False)\n",
    "ax_ = summary_ax_list[-1]\n",
    "ax_.get_figure().tight_layout()\n",
    "ax_.get_figure().subplots_adjust(top=0.95)\n",
    "ax_.yaxis.set_major_formatter(matplotlib.ticker.PercentFormatter(1.0))\n",
    "_ = ax_.set_xticklabels(sorted(result_plot_summary_df.index.strftime(\"%Y-%m-%d\").tolist()))"
   ]
  },
  {
   "cell_type": "markdown",
   "metadata": {
    "execution": {
     "iopub.execute_input": "2020-09-02T08:20:14.568088Z",
     "iopub.status.busy": "2020-09-02T08:20:14.567425Z",
     "iopub.status.idle": "2020-09-02T08:20:14.571422Z",
     "shell.execute_reply": "2020-09-02T08:20:14.571952Z"
    },
    "papermill": {
     "duration": 0.068073,
     "end_time": "2020-11-26T23:26:54.571278",
     "exception": false,
     "start_time": "2020-11-26T23:26:54.503205",
     "status": "completed"
    },
    "pycharm": {
     "name": "#%% md\n"
    },
    "tags": []
   },
   "source": [
    "### Daily Generation to Upload Period Table"
   ]
  },
  {
   "cell_type": "code",
   "execution_count": 54,
   "metadata": {
    "execution": {
     "iopub.execute_input": "2020-11-26T23:26:54.725240Z",
     "iopub.status.busy": "2020-11-26T23:26:54.724668Z",
     "iopub.status.idle": "2020-11-26T23:26:54.728240Z",
     "shell.execute_reply": "2020-11-26T23:26:54.727766Z"
    },
    "papermill": {
     "duration": 0.088809,
     "end_time": "2020-11-26T23:26:54.728372",
     "exception": false,
     "start_time": "2020-11-26T23:26:54.639563",
     "status": "completed"
    },
    "pycharm": {
     "name": "#%%\n"
    },
    "tags": []
   },
   "outputs": [
    {
     "data": {
      "text/html": [
       "<div>\n",
       "<style scoped>\n",
       "    .dataframe tbody tr th:only-of-type {\n",
       "        vertical-align: middle;\n",
       "    }\n",
       "\n",
       "    .dataframe tbody tr th {\n",
       "        vertical-align: top;\n",
       "    }\n",
       "\n",
       "    .dataframe thead th {\n",
       "        text-align: right;\n",
       "    }\n",
       "</style>\n",
       "<table border=\"1\" class=\"dataframe\">\n",
       "  <thead>\n",
       "    <tr style=\"text-align: right;\">\n",
       "      <th>Generation to Upload Period in Days</th>\n",
       "      <th>0</th>\n",
       "      <th>1</th>\n",
       "      <th>2</th>\n",
       "      <th>3</th>\n",
       "      <th>4</th>\n",
       "      <th>5</th>\n",
       "      <th>6</th>\n",
       "      <th>7</th>\n",
       "      <th>8</th>\n",
       "      <th>9</th>\n",
       "      <th>10</th>\n",
       "      <th>11</th>\n",
       "      <th>12</th>\n",
       "      <th>13</th>\n",
       "    </tr>\n",
       "    <tr>\n",
       "      <th>Upload Date (UTC)</th>\n",
       "      <th></th>\n",
       "      <th></th>\n",
       "      <th></th>\n",
       "      <th></th>\n",
       "      <th></th>\n",
       "      <th></th>\n",
       "      <th></th>\n",
       "      <th></th>\n",
       "      <th></th>\n",
       "      <th></th>\n",
       "      <th></th>\n",
       "      <th></th>\n",
       "      <th></th>\n",
       "      <th></th>\n",
       "    </tr>\n",
       "  </thead>\n",
       "  <tbody>\n",
       "    <tr>\n",
       "      <th>2020-11-26</th>\n",
       "      <td>216</td>\n",
       "      <td>2158</td>\n",
       "      <td>3037</td>\n",
       "      <td>2811</td>\n",
       "      <td>2643</td>\n",
       "      <td>2534</td>\n",
       "      <td>2479</td>\n",
       "      <td>2416</td>\n",
       "      <td>2358</td>\n",
       "      <td>2350</td>\n",
       "      <td>2301</td>\n",
       "      <td>2214</td>\n",
       "      <td>2178</td>\n",
       "      <td>2219</td>\n",
       "    </tr>\n",
       "    <tr>\n",
       "      <th>2020-11-25</th>\n",
       "      <td>227</td>\n",
       "      <td>1847</td>\n",
       "      <td>2822</td>\n",
       "      <td>2722</td>\n",
       "      <td>2613</td>\n",
       "      <td>2523</td>\n",
       "      <td>2448</td>\n",
       "      <td>2336</td>\n",
       "      <td>2289</td>\n",
       "      <td>2242</td>\n",
       "      <td>2185</td>\n",
       "      <td>2160</td>\n",
       "      <td>2171</td>\n",
       "      <td>2108</td>\n",
       "    </tr>\n",
       "    <tr>\n",
       "      <th>2020-11-24</th>\n",
       "      <td>164</td>\n",
       "      <td>1237</td>\n",
       "      <td>1667</td>\n",
       "      <td>1624</td>\n",
       "      <td>1537</td>\n",
       "      <td>1472</td>\n",
       "      <td>1391</td>\n",
       "      <td>1348</td>\n",
       "      <td>1308</td>\n",
       "      <td>1265</td>\n",
       "      <td>1235</td>\n",
       "      <td>1210</td>\n",
       "      <td>1184</td>\n",
       "      <td>1158</td>\n",
       "    </tr>\n",
       "    <tr>\n",
       "      <th>2020-11-23</th>\n",
       "      <td>147</td>\n",
       "      <td>892</td>\n",
       "      <td>1332</td>\n",
       "      <td>1264</td>\n",
       "      <td>1167</td>\n",
       "      <td>1080</td>\n",
       "      <td>1011</td>\n",
       "      <td>964</td>\n",
       "      <td>915</td>\n",
       "      <td>897</td>\n",
       "      <td>880</td>\n",
       "      <td>854</td>\n",
       "      <td>835</td>\n",
       "      <td>823</td>\n",
       "    </tr>\n",
       "    <tr>\n",
       "      <th>2020-11-22</th>\n",
       "      <td>132</td>\n",
       "      <td>897</td>\n",
       "      <td>1524</td>\n",
       "      <td>1359</td>\n",
       "      <td>1256</td>\n",
       "      <td>1189</td>\n",
       "      <td>1133</td>\n",
       "      <td>1091</td>\n",
       "      <td>1055</td>\n",
       "      <td>1038</td>\n",
       "      <td>1008</td>\n",
       "      <td>982</td>\n",
       "      <td>962</td>\n",
       "      <td>942</td>\n",
       "    </tr>\n",
       "    <tr>\n",
       "      <th>2020-11-21</th>\n",
       "      <td>153</td>\n",
       "      <td>1423</td>\n",
       "      <td>2275</td>\n",
       "      <td>2012</td>\n",
       "      <td>1903</td>\n",
       "      <td>1834</td>\n",
       "      <td>1749</td>\n",
       "      <td>1707</td>\n",
       "      <td>1676</td>\n",
       "      <td>1655</td>\n",
       "      <td>1607</td>\n",
       "      <td>1562</td>\n",
       "      <td>1539</td>\n",
       "      <td>1510</td>\n",
       "    </tr>\n",
       "    <tr>\n",
       "      <th>2020-11-20</th>\n",
       "      <td>212</td>\n",
       "      <td>1711</td>\n",
       "      <td>2617</td>\n",
       "      <td>2383</td>\n",
       "      <td>2249</td>\n",
       "      <td>2174</td>\n",
       "      <td>2111</td>\n",
       "      <td>2045</td>\n",
       "      <td>1979</td>\n",
       "      <td>1930</td>\n",
       "      <td>1878</td>\n",
       "      <td>1844</td>\n",
       "      <td>1799</td>\n",
       "      <td>1780</td>\n",
       "    </tr>\n",
       "    <tr>\n",
       "      <th>2020-11-19</th>\n",
       "      <td>211</td>\n",
       "      <td>1759</td>\n",
       "      <td>2492</td>\n",
       "      <td>2260</td>\n",
       "      <td>2112</td>\n",
       "      <td>2064</td>\n",
       "      <td>2010</td>\n",
       "      <td>1954</td>\n",
       "      <td>1893</td>\n",
       "      <td>1850</td>\n",
       "      <td>1818</td>\n",
       "      <td>1778</td>\n",
       "      <td>1756</td>\n",
       "      <td>1721</td>\n",
       "    </tr>\n",
       "    <tr>\n",
       "      <th>2020-11-18</th>\n",
       "      <td>290</td>\n",
       "      <td>2190</td>\n",
       "      <td>2915</td>\n",
       "      <td>2586</td>\n",
       "      <td>2490</td>\n",
       "      <td>2415</td>\n",
       "      <td>2323</td>\n",
       "      <td>2250</td>\n",
       "      <td>2177</td>\n",
       "      <td>2117</td>\n",
       "      <td>2071</td>\n",
       "      <td>2033</td>\n",
       "      <td>2006</td>\n",
       "      <td>1969</td>\n",
       "    </tr>\n",
       "    <tr>\n",
       "      <th>2020-11-17</th>\n",
       "      <td>222</td>\n",
       "      <td>1727</td>\n",
       "      <td>2099</td>\n",
       "      <td>2040</td>\n",
       "      <td>1955</td>\n",
       "      <td>1845</td>\n",
       "      <td>1759</td>\n",
       "      <td>1694</td>\n",
       "      <td>1645</td>\n",
       "      <td>1599</td>\n",
       "      <td>1578</td>\n",
       "      <td>1549</td>\n",
       "      <td>1529</td>\n",
       "      <td>1493</td>\n",
       "    </tr>\n",
       "    <tr>\n",
       "      <th>2020-11-16</th>\n",
       "      <td>194</td>\n",
       "      <td>1375</td>\n",
       "      <td>1741</td>\n",
       "      <td>1666</td>\n",
       "      <td>1545</td>\n",
       "      <td>1422</td>\n",
       "      <td>1336</td>\n",
       "      <td>1284</td>\n",
       "      <td>1236</td>\n",
       "      <td>1210</td>\n",
       "      <td>1189</td>\n",
       "      <td>1156</td>\n",
       "      <td>1129</td>\n",
       "      <td>1096</td>\n",
       "    </tr>\n",
       "    <tr>\n",
       "      <th>2020-11-15</th>\n",
       "      <td>224</td>\n",
       "      <td>1092</td>\n",
       "      <td>1611</td>\n",
       "      <td>1468</td>\n",
       "      <td>1368</td>\n",
       "      <td>1256</td>\n",
       "      <td>1181</td>\n",
       "      <td>1114</td>\n",
       "      <td>1080</td>\n",
       "      <td>1038</td>\n",
       "      <td>1001</td>\n",
       "      <td>974</td>\n",
       "      <td>950</td>\n",
       "      <td>930</td>\n",
       "    </tr>\n",
       "    <tr>\n",
       "      <th>2020-11-14</th>\n",
       "      <td>211</td>\n",
       "      <td>1616</td>\n",
       "      <td>2281</td>\n",
       "      <td>2074</td>\n",
       "      <td>1947</td>\n",
       "      <td>1842</td>\n",
       "      <td>1765</td>\n",
       "      <td>1710</td>\n",
       "      <td>1655</td>\n",
       "      <td>1613</td>\n",
       "      <td>1573</td>\n",
       "      <td>1534</td>\n",
       "      <td>1502</td>\n",
       "      <td>1475</td>\n",
       "    </tr>\n",
       "    <tr>\n",
       "      <th>2020-11-13</th>\n",
       "      <td>306</td>\n",
       "      <td>2178</td>\n",
       "      <td>2890</td>\n",
       "      <td>2669</td>\n",
       "      <td>2521</td>\n",
       "      <td>2378</td>\n",
       "      <td>2281</td>\n",
       "      <td>2224</td>\n",
       "      <td>2163</td>\n",
       "      <td>2110</td>\n",
       "      <td>2066</td>\n",
       "      <td>2025</td>\n",
       "      <td>1970</td>\n",
       "      <td>1948</td>\n",
       "    </tr>\n",
       "  </tbody>\n",
       "</table>\n",
       "</div>"
      ],
      "text/plain": [
       "Generation to Upload Period in Days   0     1     2     3     4     5     6   \\\n",
       "Upload Date (UTC)                                                              \n",
       "2020-11-26                           216  2158  3037  2811  2643  2534  2479   \n",
       "2020-11-25                           227  1847  2822  2722  2613  2523  2448   \n",
       "2020-11-24                           164  1237  1667  1624  1537  1472  1391   \n",
       "2020-11-23                           147   892  1332  1264  1167  1080  1011   \n",
       "2020-11-22                           132   897  1524  1359  1256  1189  1133   \n",
       "2020-11-21                           153  1423  2275  2012  1903  1834  1749   \n",
       "2020-11-20                           212  1711  2617  2383  2249  2174  2111   \n",
       "2020-11-19                           211  1759  2492  2260  2112  2064  2010   \n",
       "2020-11-18                           290  2190  2915  2586  2490  2415  2323   \n",
       "2020-11-17                           222  1727  2099  2040  1955  1845  1759   \n",
       "2020-11-16                           194  1375  1741  1666  1545  1422  1336   \n",
       "2020-11-15                           224  1092  1611  1468  1368  1256  1181   \n",
       "2020-11-14                           211  1616  2281  2074  1947  1842  1765   \n",
       "2020-11-13                           306  2178  2890  2669  2521  2378  2281   \n",
       "\n",
       "Generation to Upload Period in Days    7     8     9     10    11    12    13  \n",
       "Upload Date (UTC)                                                              \n",
       "2020-11-26                           2416  2358  2350  2301  2214  2178  2219  \n",
       "2020-11-25                           2336  2289  2242  2185  2160  2171  2108  \n",
       "2020-11-24                           1348  1308  1265  1235  1210  1184  1158  \n",
       "2020-11-23                            964   915   897   880   854   835   823  \n",
       "2020-11-22                           1091  1055  1038  1008   982   962   942  \n",
       "2020-11-21                           1707  1676  1655  1607  1562  1539  1510  \n",
       "2020-11-20                           2045  1979  1930  1878  1844  1799  1780  \n",
       "2020-11-19                           1954  1893  1850  1818  1778  1756  1721  \n",
       "2020-11-18                           2250  2177  2117  2071  2033  2006  1969  \n",
       "2020-11-17                           1694  1645  1599  1578  1549  1529  1493  \n",
       "2020-11-16                           1284  1236  1210  1189  1156  1129  1096  \n",
       "2020-11-15                           1114  1080  1038  1001   974   950   930  \n",
       "2020-11-14                           1710  1655  1613  1573  1534  1502  1475  \n",
       "2020-11-13                           2224  2163  2110  2066  2025  1970  1948  "
      ]
     },
     "execution_count": 54,
     "metadata": {},
     "output_type": "execute_result"
    }
   ],
   "source": [
    "display_generation_to_upload_period_pivot_df = \\\n",
    "    generation_to_upload_period_pivot_df \\\n",
    "        .head(backend_generation_days)\n",
    "display_generation_to_upload_period_pivot_df \\\n",
    "    .head(backend_generation_days) \\\n",
    "    .rename_axis(columns=display_column_name_mapping) \\\n",
    "    .rename_axis(index=display_column_name_mapping)"
   ]
  },
  {
   "cell_type": "code",
   "execution_count": 55,
   "metadata": {
    "collapsed": false,
    "execution": {
     "iopub.execute_input": "2020-11-26T23:26:54.874160Z",
     "iopub.status.busy": "2020-11-26T23:26:54.873604Z",
     "iopub.status.idle": "2020-11-26T23:26:55.860080Z",
     "shell.execute_reply": "2020-11-26T23:26:55.860555Z"
    },
    "papermill": {
     "duration": 1.0626,
     "end_time": "2020-11-26T23:26:55.860723",
     "exception": false,
     "start_time": "2020-11-26T23:26:54.798123",
     "status": "completed"
    },
    "pycharm": {
     "name": "#%%\n"
    },
    "tags": []
   },
   "outputs": [
    {
     "data": {
      "image/png": "[encoded data removed]",
      "text/plain": [
       "<Figure size 864x676.8 with 2 Axes>"
      ]
     },
     "metadata": {},
     "output_type": "display_data"
    }
   ],
   "source": [
    "fig, generation_to_upload_period_pivot_table_ax = plt.subplots(\n",
    "    figsize=(12, 1 + 0.6 * len(display_generation_to_upload_period_pivot_df)))\n",
    "generation_to_upload_period_pivot_table_ax.set_title(\n",
    "    \"Shared TEKs Generation to Upload Period Table\")\n",
    "sns.heatmap(\n",
    "    data=display_generation_to_upload_period_pivot_df\n",
    "        .rename_axis(columns=display_column_name_mapping)\n",
    "        .rename_axis(index=display_column_name_mapping),\n",
    "    fmt=\".0f\",\n",
    "    annot=True,\n",
    "    ax=generation_to_upload_period_pivot_table_ax)\n",
    "generation_to_upload_period_pivot_table_ax.get_figure().tight_layout()"
   ]
  },
  {
   "cell_type": "markdown",
   "metadata": {
    "collapsed": false,
    "papermill": {
     "duration": 0.075467,
     "end_time": "2020-11-26T23:26:56.010328",
     "exception": false,
     "start_time": "2020-11-26T23:26:55.934861",
     "status": "completed"
    },
    "tags": []
   },
   "source": [
    "### Hourly Summary Plots "
   ]
  },
  {
   "cell_type": "code",
   "execution_count": 56,
   "metadata": {
    "collapsed": false,
    "execution": {
     "iopub.execute_input": "2020-11-26T23:26:56.188301Z",
     "iopub.status.busy": "2020-11-26T23:26:56.173293Z",
     "iopub.status.idle": "2020-11-26T23:26:56.512118Z",
     "shell.execute_reply": "2020-11-26T23:26:56.512605Z"
    },
    "papermill": {
     "duration": 0.427534,
     "end_time": "2020-11-26T23:26:56.512768",
     "exception": false,
     "start_time": "2020-11-26T23:26:56.085234",
     "status": "completed"
    },
    "pycharm": {
     "name": "#%%\n"
    },
    "tags": []
   },
   "outputs": [
    {
     "data": {
      "image/png": "[encoded data removed]",
      "text/plain": [
       "<Figure size 1080x432 with 1 Axes>"
      ]
     },
     "metadata": {},
     "output_type": "display_data"
    }
   ],
   "source": [
    "hourly_summary_ax_list = hourly_summary_df \\\n",
    "    .rename_axis(index=display_column_name_mapping) \\\n",
    "    .rename(columns=display_column_name_mapping) \\\n",
    "    .plot.bar(\n",
    "        title=f\"Last 24h Summary\",\n",
    "        rot=45, subplots=True, legend=False)\n",
    "ax_ = hourly_summary_ax_list[-1]\n",
    "ax_.get_figure().tight_layout()\n",
    "ax_.get_figure().subplots_adjust(top=0.9)\n",
    "_ = ax_.set_xticklabels(sorted(hourly_summary_df.index.strftime(\"%Y-%m-%d@%H\").tolist()))"
   ]
  },
  {
   "cell_type": "markdown",
   "metadata": {
    "collapsed": false,
    "papermill": {
     "duration": 0.076386,
     "end_time": "2020-11-26T23:26:56.665540",
     "exception": false,
     "start_time": "2020-11-26T23:26:56.589154",
     "status": "completed"
    },
    "tags": []
   },
   "source": [
    "### Publish Results"
   ]
  },
  {
   "cell_type": "code",
   "execution_count": 57,
   "metadata": {
    "collapsed": false,
    "execution": {
     "iopub.execute_input": "2020-11-26T23:26:56.825779Z",
     "iopub.status.busy": "2020-11-26T23:26:56.825204Z",
     "iopub.status.idle": "2020-11-26T23:26:56.827701Z",
     "shell.execute_reply": "2020-11-26T23:26:56.828176Z"
    },
    "papermill": {
     "duration": 0.086458,
     "end_time": "2020-11-26T23:26:56.828339",
     "exception": false,
     "start_time": "2020-11-26T23:26:56.741881",
     "status": "completed"
    },
    "pycharm": {
     "name": "#%%\n"
    },
    "tags": []
   },
   "outputs": [],
   "source": [
    "def get_temporary_image_path() -> str:\n",
    "    return os.path.join(tempfile.gettempdir(), str(uuid.uuid4()) + \".png\")\n",
    "\n",
    "def save_temporary_plot_image(ax):\n",
    "    if isinstance(ax, np.ndarray):\n",
    "        ax = ax[0]\n",
    "    media_path = get_temporary_image_path()\n",
    "    ax.get_figure().savefig(media_path)\n",
    "    return media_path\n",
    "\n",
    "def save_temporary_dataframe_image(df):\n",
    "    import dataframe_image as dfi\n",
    "    media_path = get_temporary_image_path()\n",
    "    dfi.export(df, media_path)\n",
    "    return media_path"
   ]
  },
  {
   "cell_type": "code",
   "execution_count": 58,
   "metadata": {
    "collapsed": false,
    "execution": {
     "iopub.execute_input": "2020-11-26T23:26:56.988083Z",
     "iopub.status.busy": "2020-11-26T23:26:56.982736Z",
     "iopub.status.idle": "2020-11-26T23:26:57.021514Z",
     "shell.execute_reply": "2020-11-26T23:26:57.022259Z"
    },
    "papermill": {
     "duration": 0.118638,
     "end_time": "2020-11-26T23:26:57.022499",
     "exception": false,
     "start_time": "2020-11-26T23:26:56.903861",
     "status": "completed"
    },
    "pycharm": {
     "name": "#%%\n"
    },
    "tags": []
   },
   "outputs": [
    {
     "name": "stderr",
     "output_type": "stream",
     "text": [
      "<ipython-input-58-bd16b454de40>:49: FutureWarning: `item` has been deprecated and will be removed in a future version\n",
      "  extraction_date_result_summary_df.covid_cases.item()\n",
      "<ipython-input-58-bd16b454de40>:51: FutureWarning: `item` has been deprecated and will be removed in a future version\n",
      "  extraction_date_result_summary_df.shared_teks_by_generation_date.item()\n",
      "<ipython-input-58-bd16b454de40>:53: FutureWarning: `item` has been deprecated and will be removed in a future version\n",
      "  extraction_date_result_summary_df.shared_teks_by_upload_date.item()\n",
      "<ipython-input-58-bd16b454de40>:55: FutureWarning: `item` has been deprecated and will be removed in a future version\n",
      "  extraction_date_result_summary_df.shared_diagnoses.item()\n",
      "<ipython-input-58-bd16b454de40>:57: FutureWarning: `item` has been deprecated and will be removed in a future version\n",
      "  extraction_date_result_summary_df.teks_per_shared_diagnosis.item()\n",
      "<ipython-input-58-bd16b454de40>:59: FutureWarning: `item` has been deprecated and will be removed in a future version\n",
      "  extraction_date_result_summary_df.shared_diagnoses_per_covid_case.item()\n"
     ]
    }
   ],
   "source": [
    "github_repository = os.environ.get(\"GITHUB_REPOSITORY\")\n",
    "if github_repository is None:\n",
    "    github_repository = \"pvieito/Radar-STATS\"\n",
    "\n",
    "github_project_base_url = \"https://github.com/\" + github_repository\n",
    "\n",
    "display_formatters = {\n",
    "    display_column_name_mapping[\"teks_per_shared_diagnosis\"]: lambda x: f\"{x:.2f}\",\n",
    "    display_column_name_mapping[\"shared_diagnoses_per_covid_case\"]: lambda x: f\"{x:.2%}\",\n",
    "}\n",
    "daily_summary_table_html = result_summary_with_display_names_df \\\n",
    "    .head(daily_plot_days) \\\n",
    "    .rename_axis(index=display_column_name_mapping) \\\n",
    "    .rename(columns=display_column_name_mapping) \\\n",
    "    .to_html(formatters=display_formatters)\n",
    "multi_backend_summary_table_html = multi_backend_summary_df \\\n",
    "    .head(daily_plot_days) \\\n",
    "    .rename_axis(columns=display_column_name_mapping) \\\n",
    "    .rename(columns=display_column_name_mapping) \\\n",
    "    .rename_axis(index=display_column_name_mapping) \\\n",
    "    .to_html(formatters=display_formatters)\n",
    "\n",
    "def format_multi_backend_cross_sharing_fraction(x):\n",
    "    if pd.isna(x):\n",
    "        return \"-\"\n",
    "    elif round(x * 100, 1) == 0:\n",
    "        return \"\"\n",
    "    else:\n",
    "        return f\"{x:.1%}\"\n",
    "\n",
    "multi_backend_cross_sharing_summary_table_html = multi_backend_cross_sharing_summary_df \\\n",
    "    .rename_axis(columns=display_column_name_mapping) \\\n",
    "    .rename(columns=display_column_name_mapping) \\\n",
    "    .rename_axis(index=display_column_name_mapping) \\\n",
    "    .to_html(\n",
    "        classes=\"table-center\",\n",
    "        formatters=display_formatters,\n",
    "        float_format=format_multi_backend_cross_sharing_fraction)\n",
    "multi_backend_cross_sharing_summary_table_html = \\\n",
    "    multi_backend_cross_sharing_summary_table_html \\\n",
    "        .replace(\"<tr>\",\"<tr style=\\\"text-align: center;\\\">\")\n",
    "\n",
    "extraction_date_result_summary_df = \\\n",
    "    result_summary_df[result_summary_df.index.get_level_values(\"sample_date\") == extraction_date]\n",
    "extraction_date_result_hourly_summary_df = \\\n",
    "    hourly_summary_df[hourly_summary_df.extraction_date_with_hour == extraction_date_with_hour]\n",
    "\n",
    "covid_cases = \\\n",
    "    extraction_date_result_summary_df.covid_cases.item()\n",
    "shared_teks_by_generation_date = \\\n",
    "    extraction_date_result_summary_df.shared_teks_by_generation_date.item()\n",
    "shared_teks_by_upload_date = \\\n",
    "    extraction_date_result_summary_df.shared_teks_by_upload_date.item()\n",
    "shared_diagnoses = \\\n",
    "    extraction_date_result_summary_df.shared_diagnoses.item()\n",
    "teks_per_shared_diagnosis = \\\n",
    "    extraction_date_result_summary_df.teks_per_shared_diagnosis.item()\n",
    "shared_diagnoses_per_covid_case = \\\n",
    "    extraction_date_result_summary_df.shared_diagnoses_per_covid_case.item()\n",
    "\n",
    "shared_teks_by_upload_date_last_hour = \\\n",
    "    extraction_date_result_hourly_summary_df.shared_teks_by_upload_date.sum().astype(int)\n",
    "\n",
    "display_source_regions = \", \".join(report_source_regions)\n",
    "if len(report_source_regions) == 1:\n",
    "    display_brief_source_regions = report_source_regions[0]\n",
    "else:\n",
    "    display_brief_source_regions = f\"{len(report_source_regions)} 🇪🇺\""
   ]
  },
  {
   "cell_type": "code",
   "execution_count": 59,
   "metadata": {
    "execution": {
     "iopub.execute_input": "2020-11-26T23:26:57.191564Z",
     "iopub.status.busy": "2020-11-26T23:26:57.190963Z",
     "iopub.status.idle": "2020-11-26T23:27:05.238807Z",
     "shell.execute_reply": "2020-11-26T23:27:05.239285Z"
    },
    "papermill": {
     "duration": 8.140261,
     "end_time": "2020-11-26T23:27:05.239447",
     "exception": false,
     "start_time": "2020-11-26T23:26:57.099186",
     "status": "completed"
    },
    "pycharm": {
     "name": "#%%\n"
    },
    "tags": []
   },
   "outputs": [],
   "source": [
    "summary_plots_image_path = save_temporary_plot_image(\n",
    "    ax=summary_ax_list)\n",
    "summary_table_image_path = save_temporary_dataframe_image(\n",
    "    df=result_summary_with_display_names_df)\n",
    "hourly_summary_plots_image_path = save_temporary_plot_image(\n",
    "    ax=hourly_summary_ax_list)\n",
    "multi_backend_summary_table_image_path = save_temporary_dataframe_image(\n",
    "    df=multi_backend_summary_df)\n",
    "generation_to_upload_period_pivot_table_image_path = save_temporary_plot_image(\n",
    "    ax=generation_to_upload_period_pivot_table_ax)"
   ]
  },
  {
   "cell_type": "markdown",
   "metadata": {
    "execution": {
     "iopub.execute_input": "2020-09-02T08:20:16.981187Z",
     "iopub.status.busy": "2020-09-02T08:20:16.980584Z",
     "iopub.status.idle": "2020-09-02T08:20:20.068070Z",
     "shell.execute_reply": "2020-09-02T08:20:20.068598Z"
    },
    "papermill": {
     "duration": 0.077263,
     "end_time": "2020-11-26T23:27:05.395261",
     "exception": false,
     "start_time": "2020-11-26T23:27:05.317998",
     "status": "completed"
    },
    "pycharm": {
     "name": "#%% md\n"
    },
    "tags": []
   },
   "source": [
    "### Save Results"
   ]
  },
  {
   "cell_type": "code",
   "execution_count": 60,
   "metadata": {
    "collapsed": false,
    "execution": {
     "iopub.execute_input": "2020-11-26T23:27:05.556392Z",
     "iopub.status.busy": "2020-11-26T23:27:05.555768Z",
     "iopub.status.idle": "2020-11-26T23:27:05.586493Z",
     "shell.execute_reply": "2020-11-26T23:27:05.585991Z"
    },
    "papermill": {
     "duration": 0.114292,
     "end_time": "2020-11-26T23:27:05.586623",
     "exception": false,
     "start_time": "2020-11-26T23:27:05.472331",
     "status": "completed"
    },
    "pycharm": {
     "name": "#%%\n"
    },
    "tags": []
   },
   "outputs": [],
   "source": [
    "report_resources_path_prefix = \"Data/Resources/Current/RadarCOVID-Report-\"\n",
    "result_summary_df.to_csv(\n",
    "    report_resources_path_prefix + \"Summary-Table.csv\")\n",
    "result_summary_df.to_html(\n",
    "    report_resources_path_prefix + \"Summary-Table.html\")\n",
    "hourly_summary_df.to_csv(\n",
    "    report_resources_path_prefix + \"Hourly-Summary-Table.csv\")\n",
    "multi_backend_summary_df.to_csv(\n",
    "    report_resources_path_prefix + \"Multi-Backend-Summary-Table.csv\")\n",
    "multi_backend_cross_sharing_summary_df.to_csv(\n",
    "    report_resources_path_prefix + \"Multi-Backend-Cross-Sharing-Summary-Table.csv\")\n",
    "generation_to_upload_period_pivot_df.to_csv(\n",
    "    report_resources_path_prefix + \"Generation-Upload-Period-Table.csv\")\n",
    "_ = shutil.copyfile(\n",
    "    summary_plots_image_path,\n",
    "    report_resources_path_prefix + \"Summary-Plots.png\")\n",
    "_ = shutil.copyfile(\n",
    "    summary_table_image_path,\n",
    "    report_resources_path_prefix + \"Summary-Table.png\")\n",
    "_ = shutil.copyfile(\n",
    "    hourly_summary_plots_image_path,\n",
    "    report_resources_path_prefix + \"Hourly-Summary-Plots.png\")\n",
    "_ = shutil.copyfile(\n",
    "    multi_backend_summary_table_image_path,\n",
    "    report_resources_path_prefix + \"Multi-Backend-Summary-Table.png\")\n",
    "_ = shutil.copyfile(\n",
    "    generation_to_upload_period_pivot_table_image_path,\n",
    "    report_resources_path_prefix + \"Generation-Upload-Period-Table.png\")"
   ]
  },
  {
   "cell_type": "markdown",
   "metadata": {
    "collapsed": false,
    "papermill": {
     "duration": 0.07661,
     "end_time": "2020-11-26T23:27:05.740417",
     "exception": false,
     "start_time": "2020-11-26T23:27:05.663807",
     "status": "completed"
    },
    "pycharm": {
     "name": "#%% md\n"
    },
    "tags": []
   },
   "source": [
    "### Publish Results as JSON"
   ]
  },
  {
   "cell_type": "code",
   "execution_count": 61,
   "metadata": {
    "execution": {
     "iopub.execute_input": "2020-11-26T23:27:05.911359Z",
     "iopub.status.busy": "2020-11-26T23:27:05.910745Z",
     "iopub.status.idle": "2020-11-26T23:27:05.920504Z",
     "shell.execute_reply": "2020-11-26T23:27:05.919975Z"
    },
    "papermill": {
     "duration": 0.102935,
     "end_time": "2020-11-26T23:27:05.920646",
     "exception": false,
     "start_time": "2020-11-26T23:27:05.817711",
     "status": "completed"
    },
    "pycharm": {
     "name": "#%%\n"
    },
    "tags": []
   },
   "outputs": [],
   "source": [
    "def generate_summary_api_results(df: pd.DataFrame) -> list:\n",
    "    api_df = df.reset_index().copy()\n",
    "    api_df[\"sample_date_string\"] = \\\n",
    "        api_df[\"sample_date\"].dt.strftime(\"%Y-%m-%d\")\n",
    "    api_df[\"source_regions\"] = \\\n",
    "        api_df[\"source_regions\"].apply(lambda x: x.split(\",\"))\n",
    "    return api_df.to_dict(orient=\"records\")\n",
    "\n",
    "summary_api_results = \\\n",
    "    generate_summary_api_results(df=result_summary_df)\n",
    "today_summary_api_results = \\\n",
    "    generate_summary_api_results(df=extraction_date_result_summary_df)[0]\n",
    "\n",
    "summary_results = dict(\n",
    "    backend_identifier=report_backend_identifier,\n",
    "    source_regions=report_source_regions,\n",
    "    extraction_datetime=extraction_datetime,\n",
    "    extraction_date=extraction_date,\n",
    "    extraction_date_with_hour=extraction_date_with_hour,\n",
    "    last_hour=dict(\n",
    "        shared_teks_by_upload_date=shared_teks_by_upload_date_last_hour,\n",
    "        shared_diagnoses=0,\n",
    "    ),\n",
    "    today=today_summary_api_results,\n",
    "    last_7_days=last_7_days_summary,\n",
    "    daily_results=summary_api_results)\n",
    "\n",
    "summary_results = \\\n",
    "    json.loads(pd.Series([summary_results]).to_json(orient=\"records\"))[0]\n",
    "\n",
    "with open(report_resources_path_prefix + \"Summary-Results.json\", \"w\") as f:\n",
    "    json.dump(summary_results, f, indent=4)"
   ]
  },
  {
   "cell_type": "markdown",
   "metadata": {
    "execution": {
     "iopub.execute_input": "2020-09-02T08:20:20.895901Z",
     "iopub.status.busy": "2020-09-02T08:20:20.895301Z",
     "iopub.status.idle": "2020-09-02T08:20:20.942286Z",
     "shell.execute_reply": "2020-09-02T08:20:20.942834Z"
    },
    "papermill": {
     "duration": 0.076929,
     "end_time": "2020-11-26T23:27:06.078237",
     "exception": false,
     "start_time": "2020-11-26T23:27:06.001308",
     "status": "completed"
    },
    "pycharm": {
     "name": "#%% md\n"
    },
    "tags": []
   },
   "source": [
    "### Publish on README"
   ]
  },
  {
   "cell_type": "code",
   "execution_count": 62,
   "metadata": {
    "collapsed": false,
    "execution": {
     "iopub.execute_input": "2020-11-26T23:27:06.239273Z",
     "iopub.status.busy": "2020-11-26T23:27:06.238685Z",
     "iopub.status.idle": "2020-11-26T23:27:06.243011Z",
     "shell.execute_reply": "2020-11-26T23:27:06.242553Z"
    },
    "papermill": {
     "duration": 0.087679,
     "end_time": "2020-11-26T23:27:06.243144",
     "exception": false,
     "start_time": "2020-11-26T23:27:06.155465",
     "status": "completed"
    },
    "pycharm": {
     "name": "#%%\n"
    },
    "tags": []
   },
   "outputs": [],
   "source": [
    "with open(\"Data/Templates/README.md\", \"r\") as f:\n",
    "    readme_contents = f.read()\n",
    "\n",
    "readme_contents = readme_contents.format(\n",
    "    extraction_date_with_hour=extraction_date_with_hour,\n",
    "    github_project_base_url=github_project_base_url,\n",
    "    daily_summary_table_html=daily_summary_table_html,\n",
    "    multi_backend_summary_table_html=multi_backend_summary_table_html,\n",
    "    multi_backend_cross_sharing_summary_table_html=multi_backend_cross_sharing_summary_table_html,\n",
    "    display_source_regions=display_source_regions)\n",
    "\n",
    "with open(\"README.md\", \"w\") as f:\n",
    "    f.write(readme_contents)"
   ]
  },
  {
   "cell_type": "markdown",
   "metadata": {
    "collapsed": false,
    "papermill": {
     "duration": 0.075475,
     "end_time": "2020-11-26T23:27:06.396271",
     "exception": false,
     "start_time": "2020-11-26T23:27:06.320796",
     "status": "completed"
    },
    "pycharm": {
     "name": "#%% md\n"
    },
    "tags": []
   },
   "source": [
    "### Publish on Twitter"
   ]
  },
  {
   "cell_type": "code",
   "execution_count": 63,
   "metadata": {
    "collapsed": false,
    "execution": {
     "iopub.execute_input": "2020-11-26T23:27:06.559324Z",
     "iopub.status.busy": "2020-11-26T23:27:06.558253Z",
     "iopub.status.idle": "2020-11-26T23:27:15.951671Z",
     "shell.execute_reply": "2020-11-26T23:27:15.950427Z"
    },
    "papermill": {
     "duration": 9.478609,
     "end_time": "2020-11-26T23:27:15.951825",
     "exception": false,
     "start_time": "2020-11-26T23:27:06.473216",
     "status": "completed"
    },
    "pycharm": {
     "name": "#%%\n"
    },
    "tags": []
   },
   "outputs": [],
   "source": [
    "enable_share_to_twitter = os.environ.get(\"RADARCOVID_REPORT__ENABLE_PUBLISH_ON_TWITTER\")\n",
    "github_event_name = os.environ.get(\"GITHUB_EVENT_NAME\")\n",
    "\n",
    "if enable_share_to_twitter and github_event_name == \"schedule\" and \\\n",
    "        (shared_teks_by_upload_date_last_hour or not are_today_results_partial):\n",
    "    import tweepy\n",
    "\n",
    "    twitter_api_auth_keys = os.environ[\"RADARCOVID_REPORT__TWITTER_API_AUTH_KEYS\"]\n",
    "    twitter_api_auth_keys = twitter_api_auth_keys.split(\":\")\n",
    "    auth = tweepy.OAuthHandler(twitter_api_auth_keys[0], twitter_api_auth_keys[1])\n",
    "    auth.set_access_token(twitter_api_auth_keys[2], twitter_api_auth_keys[3])\n",
    "\n",
    "    api = tweepy.API(auth)\n",
    "\n",
    "    summary_plots_media = api.media_upload(summary_plots_image_path)\n",
    "    summary_table_media = api.media_upload(summary_table_image_path)\n",
    "    generation_to_upload_period_pivot_table_image_media = api.media_upload(generation_to_upload_period_pivot_table_image_path)\n",
    "    media_ids = [\n",
    "        summary_plots_media.media_id,\n",
    "        summary_table_media.media_id,\n",
    "        generation_to_upload_period_pivot_table_image_media.media_id,\n",
    "    ]\n",
    "\n",
    "    if are_today_results_partial:\n",
    "        today_addendum = \" (Partial)\"\n",
    "    else:\n",
    "        today_addendum = \"\"\n",
    "\n",
    "    status = textwrap.dedent(f\"\"\"\n",
    "        #RadarCOVID – {extraction_date_with_hour}\n",
    "\n",
    "        Source Countries: {display_brief_source_regions}\n",
    "\n",
    "        Today{today_addendum}:\n",
    "        - Uploaded TEKs: {shared_teks_by_upload_date:.0f} ({shared_teks_by_upload_date_last_hour:+d} last hour)\n",
    "        - Shared Diagnoses: ≤{shared_diagnoses:.0f}\n",
    "        - Usage Ratio: ≤{shared_diagnoses_per_covid_case:.2%}\n",
    "\n",
    "        Last 7 Days:\n",
    "        - Shared Diagnoses: ≤{last_7_days_summary[\"shared_diagnoses\"]:.0f}\n",
    "        - Usage Ratio: ≤{last_7_days_summary[\"shared_diagnoses_per_covid_case\"]:.2%}\n",
    "\n",
    "        Info: {github_project_base_url}#documentation\n",
    "        \"\"\")\n",
    "    status = status.encode(encoding=\"utf-8\")\n",
    "    api.update_status(status=status, media_ids=media_ids)"
   ]
  }
 ],
 "metadata": {
  "kernelspec": {
   "display_name": "Python 3",
   "language": "python",
   "name": "python3"
  },
  "language_info": {
   "codemirror_mode": {
    "name": "ipython",
    "version": 3
   },
   "file_extension": ".py",
   "mimetype": "text/x-python",
   "name": "python",
   "nbconvert_exporter": "python",
   "pygments_lexer": "ipython3",
   "version": "3.8.6"
  },
  "papermill": {
   "duration": 452.20344,
   "end_time": "2020-11-26T23:27:18.451668",
   "environment_variables": {},
   "exception": null,
   "input_path": "Notebooks/RadarCOVID-Report/Source/RadarCOVID-Report.ipynb",
   "output_path": "RadarCOVID-Report.ipynb",
   "parameters": {},
   "start_time": "2020-11-26T23:19:46.248228",
   "version": "2.1.3"
  }
 },
 "nbformat": 4,
 "nbformat_minor": 1
}