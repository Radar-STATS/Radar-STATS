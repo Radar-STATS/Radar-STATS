{
 "cells": [
  {
   "cell_type": "markdown",
   "metadata": {
    "papermill": {
     "duration": 0.035906,
     "end_time": "2020-12-20T23:28:12.926592",
     "exception": false,
     "start_time": "2020-12-20T23:28:12.890686",
     "status": "completed"
    },
    "pycharm": {
     "name": "#%% md\n"
    },
    "tags": []
   },
   "source": [
    "# RadarCOVID-Report"
   ]
  },
  {
   "cell_type": "markdown",
   "metadata": {
    "collapsed": true,
    "papermill": {
     "duration": 0.033847,
     "end_time": "2020-12-20T23:28:12.994769",
     "exception": false,
     "start_time": "2020-12-20T23:28:12.960922",
     "status": "completed"
    },
    "pycharm": {
     "name": "#%% md\n"
    },
    "tags": []
   },
   "source": [
    "## Data Extraction"
   ]
  },
  {
   "cell_type": "code",
   "execution_count": 1,
   "metadata": {
    "execution": {
     "iopub.execute_input": "2020-12-20T23:28:13.071874Z",
     "iopub.status.busy": "2020-12-20T23:28:13.071382Z",
     "iopub.status.idle": "2020-12-20T23:28:15.297849Z",
     "shell.execute_reply": "2020-12-20T23:28:15.296912Z"
    },
    "papermill": {
     "duration": 2.269512,
     "end_time": "2020-12-20T23:28:15.298038",
     "exception": false,
     "start_time": "2020-12-20T23:28:13.028526",
     "status": "completed"
    },
    "pycharm": {
     "name": "#%%\n"
    },
    "tags": []
   },
   "outputs": [],
   "source": [
    "import datetime\n",
    "import json\n",
    "import logging\n",
    "import os\n",
    "import shutil\n",
    "import tempfile\n",
    "import textwrap\n",
    "import uuid\n",
    "\n",
    "import matplotlib.pyplot as plt\n",
    "import matplotlib.ticker\n",
    "import numpy as np\n",
    "import pandas as pd\n",
    "import pycountry\n",
    "import retry\n",
    "import seaborn as sns\n",
    "\n",
    "%matplotlib inline"
   ]
  },
  {
   "cell_type": "code",
   "execution_count": 2,
   "metadata": {
    "collapsed": false,
    "execution": {
     "iopub.execute_input": "2020-12-20T23:28:15.374507Z",
     "iopub.status.busy": "2020-12-20T23:28:15.373954Z",
     "iopub.status.idle": "2020-12-20T23:28:15.375717Z",
     "shell.execute_reply": "2020-12-20T23:28:15.375200Z"
    },
    "papermill": {
     "duration": 0.0419,
     "end_time": "2020-12-20T23:28:15.375833",
     "exception": false,
     "start_time": "2020-12-20T23:28:15.333933",
     "status": "completed"
    },
    "pycharm": {
     "name": "#%%\n"
    },
    "tags": []
   },
   "outputs": [],
   "source": [
    "current_working_directory = os.environ.get(\"PWD\")\n",
    "if current_working_directory:\n",
    "    os.chdir(current_working_directory)\n",
    "\n",
    "sns.set()\n",
    "matplotlib.rcParams[\"figure.figsize\"] = (15, 6)\n",
    "\n",
    "extraction_datetime = datetime.datetime.utcnow()\n",
    "extraction_date = extraction_datetime.strftime(\"%Y-%m-%d\")\n",
    "extraction_previous_datetime = extraction_datetime - datetime.timedelta(days=1)\n",
    "extraction_previous_date = extraction_previous_datetime.strftime(\"%Y-%m-%d\")\n",
    "extraction_date_with_hour = datetime.datetime.utcnow().strftime(\"%Y-%m-%d@%H\")\n",
    "current_hour = datetime.datetime.utcnow().hour\n",
    "are_today_results_partial = current_hour != 23"
   ]
  },
  {
   "cell_type": "markdown",
   "metadata": {
    "collapsed": false,
    "papermill": {
     "duration": 0.034415,
     "end_time": "2020-12-20T23:28:15.444858",
     "exception": false,
     "start_time": "2020-12-20T23:28:15.410443",
     "status": "completed"
    },
    "tags": []
   },
   "source": [
    "### Constants"
   ]
  },
  {
   "cell_type": "code",
   "execution_count": 3,
   "metadata": {
    "execution": {
     "iopub.execute_input": "2020-12-20T23:28:15.517305Z",
     "iopub.status.busy": "2020-12-20T23:28:15.516843Z",
     "iopub.status.idle": "2020-12-20T23:28:15.581703Z",
     "shell.execute_reply": "2020-12-20T23:28:15.581222Z"
    },
    "papermill": {
     "duration": 0.102544,
     "end_time": "2020-12-20T23:28:15.581834",
     "exception": false,
     "start_time": "2020-12-20T23:28:15.479290",
     "status": "completed"
    },
    "pycharm": {
     "name": "#%%\n"
    },
    "tags": []
   },
   "outputs": [],
   "source": [
    "from Modules.ExposureNotification import exposure_notification_io\n",
    "\n",
    "spain_region_country_code = \"ES\"\n",
    "germany_region_country_code = \"DE\"\n",
    "\n",
    "default_backend_identifier = spain_region_country_code\n",
    "\n",
    "backend_generation_days = 7 * 2\n",
    "daily_summary_days = 7 * 4 * 3\n",
    "daily_plot_days = 7 * 4\n",
    "tek_dumps_load_limit = daily_summary_days + 1"
   ]
  },
  {
   "cell_type": "markdown",
   "metadata": {
    "collapsed": false,
    "papermill": {
     "duration": 0.034201,
     "end_time": "2020-12-20T23:28:15.651695",
     "exception": false,
     "start_time": "2020-12-20T23:28:15.617494",
     "status": "completed"
    },
    "tags": []
   },
   "source": [
    "### Parameters"
   ]
  },
  {
   "cell_type": "code",
   "execution_count": 4,
   "metadata": {
    "collapsed": false,
    "execution": {
     "iopub.execute_input": "2020-12-20T23:28:15.726215Z",
     "iopub.status.busy": "2020-12-20T23:28:15.725751Z",
     "iopub.status.idle": "2020-12-20T23:28:15.728292Z",
     "shell.execute_reply": "2020-12-20T23:28:15.728664Z"
    },
    "papermill": {
     "duration": 0.042999,
     "end_time": "2020-12-20T23:28:15.728789",
     "exception": false,
     "start_time": "2020-12-20T23:28:15.685790",
     "status": "completed"
    },
    "pycharm": {
     "name": "#%%\n"
    },
    "tags": []
   },
   "outputs": [
    {
     "data": {
      "text/plain": [
       "'ES'"
      ]
     },
     "execution_count": 4,
     "metadata": {},
     "output_type": "execute_result"
    }
   ],
   "source": [
    "environment_backend_identifier = os.environ.get(\"RADARCOVID_REPORT__BACKEND_IDENTIFIER\")\n",
    "if environment_backend_identifier:\n",
    "    report_backend_identifier = environment_backend_identifier\n",
    "else:\n",
    "    report_backend_identifier = default_backend_identifier\n",
    "report_backend_identifier"
   ]
  },
  {
   "cell_type": "code",
   "execution_count": 5,
   "metadata": {
    "collapsed": false,
    "execution": {
     "iopub.execute_input": "2020-12-20T23:28:15.801761Z",
     "iopub.status.busy": "2020-12-20T23:28:15.801273Z",
     "iopub.status.idle": "2020-12-20T23:28:15.803271Z",
     "shell.execute_reply": "2020-12-20T23:28:15.802900Z"
    },
    "papermill": {
     "duration": 0.040004,
     "end_time": "2020-12-20T23:28:15.803376",
     "exception": false,
     "start_time": "2020-12-20T23:28:15.763372",
     "status": "completed"
    },
    "pycharm": {
     "name": "#%%\n"
    },
    "tags": []
   },
   "outputs": [],
   "source": [
    "environment_enable_multi_backend_download = \\\n",
    "    os.environ.get(\"RADARCOVID_REPORT__ENABLE_MULTI_BACKEND_DOWNLOAD\")\n",
    "if environment_enable_multi_backend_download:\n",
    "    report_backend_identifiers = None\n",
    "else:\n",
    "    report_backend_identifiers = [report_backend_identifier]\n",
    "\n",
    "report_backend_identifiers"
   ]
  },
  {
   "cell_type": "code",
   "execution_count": 6,
   "metadata": {
    "collapsed": false,
    "execution": {
     "iopub.execute_input": "2020-12-20T23:28:15.876387Z",
     "iopub.status.busy": "2020-12-20T23:28:15.875928Z",
     "iopub.status.idle": "2020-12-20T23:28:15.878575Z",
     "shell.execute_reply": "2020-12-20T23:28:15.878206Z"
    },
    "papermill": {
     "duration": 0.040821,
     "end_time": "2020-12-20T23:28:15.878679",
     "exception": false,
     "start_time": "2020-12-20T23:28:15.837858",
     "status": "completed"
    },
    "pycharm": {
     "name": "#%%\n"
    },
    "tags": []
   },
   "outputs": [
    {
     "data": {
      "text/plain": [
       "['2020-10-30', '2020-12-02', '2020-12-05', '2020-12-19']"
      ]
     },
     "execution_count": 6,
     "metadata": {},
     "output_type": "execute_result"
    }
   ],
   "source": [
    "environment_invalid_shared_diagnoses_dates = \\\n",
    "    os.environ.get(\"RADARCOVID_REPORT__INVALID_SHARED_DIAGNOSES_DATES\")\n",
    "if environment_invalid_shared_diagnoses_dates:\n",
    "    invalid_shared_diagnoses_dates = environment_invalid_shared_diagnoses_dates.split(\",\")\n",
    "else:\n",
    "    invalid_shared_diagnoses_dates = []\n",
    "\n",
    "invalid_shared_diagnoses_dates"
   ]
  },
  {
   "cell_type": "markdown",
   "metadata": {
    "collapsed": false,
    "papermill": {
     "duration": 0.034467,
     "end_time": "2020-12-20T23:28:15.947999",
     "exception": false,
     "start_time": "2020-12-20T23:28:15.913532",
     "status": "completed"
    },
    "pycharm": {
     "name": "#%% md\n"
    },
    "tags": []
   },
   "source": [
    "### COVID-19 Cases"
   ]
  },
  {
   "cell_type": "code",
   "execution_count": 7,
   "metadata": {
    "collapsed": false,
    "execution": {
     "iopub.execute_input": "2020-12-20T23:28:16.020902Z",
     "iopub.status.busy": "2020-12-20T23:28:16.020439Z",
     "iopub.status.idle": "2020-12-20T23:28:16.022608Z",
     "shell.execute_reply": "2020-12-20T23:28:16.022234Z"
    },
    "papermill": {
     "duration": 0.040042,
     "end_time": "2020-12-20T23:28:16.022711",
     "exception": false,
     "start_time": "2020-12-20T23:28:15.982669",
     "status": "completed"
    },
    "pycharm": {
     "name": "#%%\n"
    },
    "tags": []
   },
   "outputs": [],
   "source": [
    "report_backend_client = \\\n",
    "    exposure_notification_io.get_backend_client_with_identifier(\n",
    "        backend_identifier=report_backend_identifier)"
   ]
  },
  {
   "cell_type": "code",
   "execution_count": 8,
   "metadata": {
    "collapsed": false,
    "execution": {
     "iopub.execute_input": "2020-12-20T23:28:16.097751Z",
     "iopub.status.busy": "2020-12-20T23:28:16.097247Z",
     "iopub.status.idle": "2020-12-20T23:28:16.768181Z",
     "shell.execute_reply": "2020-12-20T23:28:16.767696Z"
    },
    "papermill": {
     "duration": 0.710875,
     "end_time": "2020-12-20T23:28:16.768319",
     "exception": false,
     "start_time": "2020-12-20T23:28:16.057444",
     "status": "completed"
    },
    "pycharm": {
     "name": "#%%\n"
    },
    "tags": []
   },
   "outputs": [],
   "source": [
    "@retry.retry(tries=10, delay=10, backoff=1.1, jitter=(0, 10))\n",
    "def download_cases_dataframe():\n",
    "    return pd.read_csv(\n",
    "        \"https://raw.githubusercontent.com/owid/covid-19-data/master/public/data/owid-covid-data.csv\")\n",
    "\n",
    "confirmed_df_ = download_cases_dataframe()"
   ]
  },
  {
   "cell_type": "code",
   "execution_count": 9,
   "metadata": {
    "collapsed": false,
    "execution": {
     "iopub.execute_input": "2020-12-20T23:28:16.844154Z",
     "iopub.status.busy": "2020-12-20T23:28:16.843663Z",
     "iopub.status.idle": "2020-12-20T23:28:17.286516Z",
     "shell.execute_reply": "2020-12-20T23:28:17.286040Z"
    },
    "papermill": {
     "duration": 0.483089,
     "end_time": "2020-12-20T23:28:17.286650",
     "exception": false,
     "start_time": "2020-12-20T23:28:16.803561",
     "status": "completed"
    },
    "pycharm": {
     "name": "#%%\n"
    },
    "tags": []
   },
   "outputs": [
    {
     "data": {
      "text/html": [
       "<div>\n",
       "<style scoped>\n",
       "    .dataframe tbody tr th:only-of-type {\n",
       "        vertical-align: middle;\n",
       "    }\n",
       "\n",
       "    .dataframe tbody tr th {\n",
       "        vertical-align: top;\n",
       "    }\n",
       "\n",
       "    .dataframe thead th {\n",
       "        text-align: right;\n",
       "    }\n",
       "</style>\n",
       "<table border=\"1\" class=\"dataframe\">\n",
       "  <thead>\n",
       "    <tr style=\"text-align: right;\">\n",
       "      <th></th>\n",
       "      <th>sample_date</th>\n",
       "      <th>new_cases</th>\n",
       "      <th>country_code</th>\n",
       "    </tr>\n",
       "  </thead>\n",
       "  <tbody>\n",
       "    <tr>\n",
       "      <th>41417</th>\n",
       "      <td>2020-12-19</td>\n",
       "      <td>0.0</td>\n",
       "      <td>KN</td>\n",
       "    </tr>\n",
       "    <tr>\n",
       "      <th>48647</th>\n",
       "      <td>2020-12-19</td>\n",
       "      <td>4.0</td>\n",
       "      <td>TW</td>\n",
       "    </tr>\n",
       "    <tr>\n",
       "      <th>25942</th>\n",
       "      <td>2020-12-19</td>\n",
       "      <td>677.0</td>\n",
       "      <td>KZ</td>\n",
       "    </tr>\n",
       "    <tr>\n",
       "      <th>23503</th>\n",
       "      <td>2020-12-19</td>\n",
       "      <td>6421.0</td>\n",
       "      <td>IR</td>\n",
       "    </tr>\n",
       "    <tr>\n",
       "      <th>55125</th>\n",
       "      <td>2020-12-19</td>\n",
       "      <td>104.0</td>\n",
       "      <td>ZW</td>\n",
       "    </tr>\n",
       "  </tbody>\n",
       "</table>\n",
       "</div>"
      ],
      "text/plain": [
       "      sample_date  new_cases country_code\n",
       "41417  2020-12-19        0.0           KN\n",
       "48647  2020-12-19        4.0           TW\n",
       "25942  2020-12-19      677.0           KZ\n",
       "23503  2020-12-19     6421.0           IR\n",
       "55125  2020-12-19      104.0           ZW"
      ]
     },
     "execution_count": 9,
     "metadata": {},
     "output_type": "execute_result"
    }
   ],
   "source": [
    "confirmed_df = confirmed_df_.copy()\n",
    "confirmed_df = confirmed_df[[\"date\", \"new_cases\", \"iso_code\"]]\n",
    "confirmed_df.rename(\n",
    "    columns={\n",
    "        \"date\": \"sample_date\",\n",
    "        \"iso_code\": \"country_code\",\n",
    "    },\n",
    "    inplace=True)\n",
    "\n",
    "def convert_iso_alpha_3_to_alpha_2(x):\n",
    "    try:\n",
    "        return pycountry.countries.get(alpha_3=x).alpha_2\n",
    "    except Exception as e:\n",
    "        logging.info(f\"Error converting country ISO Alpha 3 code '{x}': {repr(e)}\")\n",
    "        return None\n",
    "\n",
    "confirmed_df[\"country_code\"] = confirmed_df.country_code.apply(convert_iso_alpha_3_to_alpha_2)\n",
    "confirmed_df.dropna(inplace=True)\n",
    "confirmed_df[\"sample_date\"] = pd.to_datetime(confirmed_df.sample_date, dayfirst=True)\n",
    "confirmed_df[\"sample_date\"] = confirmed_df.sample_date.dt.strftime(\"%Y-%m-%d\")\n",
    "confirmed_df.sort_values(\"sample_date\", inplace=True)\n",
    "confirmed_df.tail()"
   ]
  },
  {
   "cell_type": "code",
   "execution_count": 10,
   "metadata": {
    "collapsed": false,
    "execution": {
     "iopub.execute_input": "2020-12-20T23:28:17.362949Z",
     "iopub.status.busy": "2020-12-20T23:28:17.362408Z",
     "iopub.status.idle": "2020-12-20T23:28:17.365478Z",
     "shell.execute_reply": "2020-12-20T23:28:17.365884Z"
    },
    "papermill": {
     "duration": 0.043393,
     "end_time": "2020-12-20T23:28:17.366029",
     "exception": false,
     "start_time": "2020-12-20T23:28:17.322636",
     "status": "completed"
    },
    "pycharm": {
     "name": "#%%\n"
    },
    "tags": []
   },
   "outputs": [],
   "source": [
    "def sort_source_regions_for_display(source_regions: list) -> list:\n",
    "    if report_backend_identifier in source_regions:\n",
    "        source_regions = [report_backend_identifier] + \\\n",
    "            list(sorted(set(source_regions).difference([report_backend_identifier])))\n",
    "    else:\n",
    "        source_regions = list(sorted(source_regions))\n",
    "    return source_regions"
   ]
  },
  {
   "cell_type": "code",
   "execution_count": 11,
   "metadata": {
    "collapsed": false,
    "execution": {
     "iopub.execute_input": "2020-12-20T23:28:17.440908Z",
     "iopub.status.busy": "2020-12-20T23:28:17.440445Z",
     "iopub.status.idle": "2020-12-20T23:28:17.442844Z",
     "shell.execute_reply": "2020-12-20T23:28:17.443286Z"
    },
    "papermill": {
     "duration": 0.041794,
     "end_time": "2020-12-20T23:28:17.443414",
     "exception": false,
     "start_time": "2020-12-20T23:28:17.401620",
     "status": "completed"
    },
    "pycharm": {
     "name": "#%%\n"
    },
    "tags": []
   },
   "outputs": [
    {
     "data": {
      "text/plain": [
       "['ES', 'DE', 'DK', 'HR', 'IE', 'IT', 'LV', 'NL', 'PL']"
      ]
     },
     "execution_count": 11,
     "metadata": {},
     "output_type": "execute_result"
    }
   ],
   "source": [
    "report_source_regions = report_backend_client.source_regions_for_date(\n",
    "    date=extraction_datetime.date())\n",
    "report_source_regions = sort_source_regions_for_display(\n",
    "    source_regions=report_source_regions)\n",
    "report_source_regions"
   ]
  },
  {
   "cell_type": "code",
   "execution_count": 12,
   "metadata": {
    "collapsed": false,
    "execution": {
     "iopub.execute_input": "2020-12-20T23:28:17.527974Z",
     "iopub.status.busy": "2020-12-20T23:28:17.527484Z",
     "iopub.status.idle": "2020-12-20T23:28:17.530183Z",
     "shell.execute_reply": "2020-12-20T23:28:17.529775Z"
    },
    "papermill": {
     "duration": 0.051012,
     "end_time": "2020-12-20T23:28:17.530294",
     "exception": false,
     "start_time": "2020-12-20T23:28:17.479282",
     "status": "completed"
    },
    "pycharm": {
     "name": "#%%\n"
    },
    "tags": []
   },
   "outputs": [
    {
     "data": {
      "text/html": [
       "<div>\n",
       "<style scoped>\n",
       "    .dataframe tbody tr th:only-of-type {\n",
       "        vertical-align: middle;\n",
       "    }\n",
       "\n",
       "    .dataframe tbody tr th {\n",
       "        vertical-align: top;\n",
       "    }\n",
       "\n",
       "    .dataframe thead th {\n",
       "        text-align: right;\n",
       "    }\n",
       "</style>\n",
       "<table border=\"1\" class=\"dataframe\">\n",
       "  <thead>\n",
       "    <tr style=\"text-align: right;\">\n",
       "      <th></th>\n",
       "      <th>sample_date</th>\n",
       "      <th>sample_date_string</th>\n",
       "    </tr>\n",
       "  </thead>\n",
       "  <tbody>\n",
       "    <tr>\n",
       "      <th>328</th>\n",
       "      <td>2020-12-16</td>\n",
       "      <td>2020-12-16</td>\n",
       "    </tr>\n",
       "    <tr>\n",
       "      <th>329</th>\n",
       "      <td>2020-12-17</td>\n",
       "      <td>2020-12-17</td>\n",
       "    </tr>\n",
       "    <tr>\n",
       "      <th>330</th>\n",
       "      <td>2020-12-18</td>\n",
       "      <td>2020-12-18</td>\n",
       "    </tr>\n",
       "    <tr>\n",
       "      <th>331</th>\n",
       "      <td>2020-12-19</td>\n",
       "      <td>2020-12-19</td>\n",
       "    </tr>\n",
       "    <tr>\n",
       "      <th>332</th>\n",
       "      <td>2020-12-20</td>\n",
       "      <td>2020-12-20</td>\n",
       "    </tr>\n",
       "  </tbody>\n",
       "</table>\n",
       "</div>"
      ],
      "text/plain": [
       "    sample_date sample_date_string\n",
       "328  2020-12-16         2020-12-16\n",
       "329  2020-12-17         2020-12-17\n",
       "330  2020-12-18         2020-12-18\n",
       "331  2020-12-19         2020-12-19\n",
       "332  2020-12-20         2020-12-20"
      ]
     },
     "execution_count": 12,
     "metadata": {},
     "output_type": "execute_result"
    }
   ],
   "source": [
    "confirmed_days = pd.date_range(\n",
    "    start=confirmed_df.iloc[0].sample_date,\n",
    "    end=extraction_datetime)\n",
    "confirmed_days_df = pd.DataFrame(data=confirmed_days, columns=[\"sample_date\"])\n",
    "confirmed_days_df[\"sample_date_string\"] = \\\n",
    "    confirmed_days_df.sample_date.dt.strftime(\"%Y-%m-%d\")\n",
    "confirmed_days_df.tail()"
   ]
  },
  {
   "cell_type": "code",
   "execution_count": 13,
   "metadata": {
    "collapsed": false,
    "execution": {
     "iopub.execute_input": "2020-12-20T23:28:17.611649Z",
     "iopub.status.busy": "2020-12-20T23:28:17.611184Z",
     "iopub.status.idle": "2020-12-20T23:28:17.621521Z",
     "shell.execute_reply": "2020-12-20T23:28:17.621876Z"
    },
    "papermill": {
     "duration": 0.05572,
     "end_time": "2020-12-20T23:28:17.622019",
     "exception": false,
     "start_time": "2020-12-20T23:28:17.566299",
     "status": "completed"
    },
    "pycharm": {
     "name": "#%%\n"
    },
    "tags": []
   },
   "outputs": [
    {
     "data": {
      "text/html": [
       "<div>\n",
       "<style scoped>\n",
       "    .dataframe tbody tr th:only-of-type {\n",
       "        vertical-align: middle;\n",
       "    }\n",
       "\n",
       "    .dataframe tbody tr th {\n",
       "        vertical-align: top;\n",
       "    }\n",
       "\n",
       "    .dataframe thead th {\n",
       "        text-align: right;\n",
       "    }\n",
       "</style>\n",
       "<table border=\"1\" class=\"dataframe\">\n",
       "  <thead>\n",
       "    <tr style=\"text-align: right;\">\n",
       "      <th></th>\n",
       "      <th>sample_date</th>\n",
       "      <th>sample_date_string</th>\n",
       "      <th>source_regions_at_date</th>\n",
       "      <th>_source_regions_group</th>\n",
       "    </tr>\n",
       "  </thead>\n",
       "  <tbody>\n",
       "    <tr>\n",
       "      <th>328</th>\n",
       "      <td>2020-12-16</td>\n",
       "      <td>2020-12-16</td>\n",
       "      <td>{IE, DK, LV, ES, IT, HR, DE, PL, NL}</td>\n",
       "      <td>ES,DE,DK,HR,IE,IT,LV,NL,PL</td>\n",
       "    </tr>\n",
       "    <tr>\n",
       "      <th>329</th>\n",
       "      <td>2020-12-17</td>\n",
       "      <td>2020-12-17</td>\n",
       "      <td>{IE, DK, LV, ES, IT, HR, DE, PL, NL}</td>\n",
       "      <td>ES,DE,DK,HR,IE,IT,LV,NL,PL</td>\n",
       "    </tr>\n",
       "    <tr>\n",
       "      <th>330</th>\n",
       "      <td>2020-12-18</td>\n",
       "      <td>2020-12-18</td>\n",
       "      <td>{IE, DK, LV, ES, IT, HR, DE, PL, NL}</td>\n",
       "      <td>ES,DE,DK,HR,IE,IT,LV,NL,PL</td>\n",
       "    </tr>\n",
       "    <tr>\n",
       "      <th>331</th>\n",
       "      <td>2020-12-19</td>\n",
       "      <td>2020-12-19</td>\n",
       "      <td>{IE, DK, LV, ES, IT, HR, DE, PL, NL}</td>\n",
       "      <td>ES,DE,DK,HR,IE,IT,LV,NL,PL</td>\n",
       "    </tr>\n",
       "    <tr>\n",
       "      <th>332</th>\n",
       "      <td>2020-12-20</td>\n",
       "      <td>2020-12-20</td>\n",
       "      <td>{IE, DK, LV, ES, IT, HR, DE, PL, NL}</td>\n",
       "      <td>ES,DE,DK,HR,IE,IT,LV,NL,PL</td>\n",
       "    </tr>\n",
       "  </tbody>\n",
       "</table>\n",
       "</div>"
      ],
      "text/plain": [
       "    sample_date sample_date_string                source_regions_at_date  \\\n",
       "328  2020-12-16         2020-12-16  {IE, DK, LV, ES, IT, HR, DE, PL, NL}   \n",
       "329  2020-12-17         2020-12-17  {IE, DK, LV, ES, IT, HR, DE, PL, NL}   \n",
       "330  2020-12-18         2020-12-18  {IE, DK, LV, ES, IT, HR, DE, PL, NL}   \n",
       "331  2020-12-19         2020-12-19  {IE, DK, LV, ES, IT, HR, DE, PL, NL}   \n",
       "332  2020-12-20         2020-12-20  {IE, DK, LV, ES, IT, HR, DE, PL, NL}   \n",
       "\n",
       "          _source_regions_group  \n",
       "328  ES,DE,DK,HR,IE,IT,LV,NL,PL  \n",
       "329  ES,DE,DK,HR,IE,IT,LV,NL,PL  \n",
       "330  ES,DE,DK,HR,IE,IT,LV,NL,PL  \n",
       "331  ES,DE,DK,HR,IE,IT,LV,NL,PL  \n",
       "332  ES,DE,DK,HR,IE,IT,LV,NL,PL  "
      ]
     },
     "execution_count": 13,
     "metadata": {},
     "output_type": "execute_result"
    }
   ],
   "source": [
    "source_regions_at_date_df = confirmed_days_df.copy()\n",
    "source_regions_at_date_df[\"source_regions_at_date\"] = \\\n",
    "    source_regions_at_date_df.sample_date.apply(\n",
    "        lambda x: report_backend_client.source_regions_for_date(date=x))\n",
    "source_regions_at_date_df.sort_values(\"sample_date\", inplace=True)\n",
    "source_regions_at_date_df[\"_source_regions_group\"] = source_regions_at_date_df. \\\n",
    "    source_regions_at_date.apply(lambda x: \",\".join(sort_source_regions_for_display(x)))\n",
    "source_regions_at_date_df.tail()"
   ]
  },
  {
   "cell_type": "code",
   "execution_count": 14,
   "metadata": {
    "collapsed": false,
    "execution": {
     "iopub.execute_input": "2020-12-20T23:28:17.699624Z",
     "iopub.status.busy": "2020-12-20T23:28:17.699166Z",
     "iopub.status.idle": "2020-12-20T23:28:17.707374Z",
     "shell.execute_reply": "2020-12-20T23:28:17.706994Z"
    },
    "papermill": {
     "duration": 0.04905,
     "end_time": "2020-12-20T23:28:17.707484",
     "exception": false,
     "start_time": "2020-12-20T23:28:17.658434",
     "status": "completed"
    },
    "pycharm": {
     "name": "#%%\n"
    },
    "tags": []
   },
   "outputs": [
    {
     "data": {
      "text/html": [
       "<div>\n",
       "<style scoped>\n",
       "    .dataframe tbody tr th:only-of-type {\n",
       "        vertical-align: middle;\n",
       "    }\n",
       "\n",
       "    .dataframe tbody tr th {\n",
       "        vertical-align: top;\n",
       "    }\n",
       "\n",
       "    .dataframe thead th {\n",
       "        text-align: right;\n",
       "    }\n",
       "</style>\n",
       "<table border=\"1\" class=\"dataframe\">\n",
       "  <thead>\n",
       "    <tr style=\"text-align: right;\">\n",
       "      <th></th>\n",
       "      <th>sample_date</th>\n",
       "      <th>source_regions</th>\n",
       "    </tr>\n",
       "  </thead>\n",
       "  <tbody>\n",
       "    <tr>\n",
       "      <th>328</th>\n",
       "      <td>2020-12-16</td>\n",
       "      <td>ES,DE,DK,HR,IE,IT,LV,NL,PL</td>\n",
       "    </tr>\n",
       "    <tr>\n",
       "      <th>329</th>\n",
       "      <td>2020-12-17</td>\n",
       "      <td>ES,DE,DK,HR,IE,IT,LV,NL,PL</td>\n",
       "    </tr>\n",
       "    <tr>\n",
       "      <th>330</th>\n",
       "      <td>2020-12-18</td>\n",
       "      <td>ES,DE,DK,HR,IE,IT,LV,NL,PL</td>\n",
       "    </tr>\n",
       "    <tr>\n",
       "      <th>331</th>\n",
       "      <td>2020-12-19</td>\n",
       "      <td>ES,DE,DK,HR,IE,IT,LV,NL,PL</td>\n",
       "    </tr>\n",
       "    <tr>\n",
       "      <th>332</th>\n",
       "      <td>2020-12-20</td>\n",
       "      <td>ES,DE,DK,HR,IE,IT,LV,NL,PL</td>\n",
       "    </tr>\n",
       "  </tbody>\n",
       "</table>\n",
       "</div>"
      ],
      "text/plain": [
       "    sample_date              source_regions\n",
       "328  2020-12-16  ES,DE,DK,HR,IE,IT,LV,NL,PL\n",
       "329  2020-12-17  ES,DE,DK,HR,IE,IT,LV,NL,PL\n",
       "330  2020-12-18  ES,DE,DK,HR,IE,IT,LV,NL,PL\n",
       "331  2020-12-19  ES,DE,DK,HR,IE,IT,LV,NL,PL\n",
       "332  2020-12-20  ES,DE,DK,HR,IE,IT,LV,NL,PL"
      ]
     },
     "execution_count": 14,
     "metadata": {},
     "output_type": "execute_result"
    }
   ],
   "source": [
    "source_regions_for_summary_df = \\\n",
    "    source_regions_at_date_df[[\"sample_date\", \"_source_regions_group\"]].copy()\n",
    "source_regions_for_summary_df.rename(columns={\"_source_regions_group\": \"source_regions\"}, inplace=True)\n",
    "source_regions_for_summary_df.tail()"
   ]
  },
  {
   "cell_type": "code",
   "execution_count": 15,
   "metadata": {
    "collapsed": false,
    "execution": {
     "iopub.execute_input": "2020-12-20T23:28:17.789585Z",
     "iopub.status.busy": "2020-12-20T23:28:17.789078Z",
     "iopub.status.idle": "2020-12-20T23:28:17.848962Z",
     "shell.execute_reply": "2020-12-20T23:28:17.849381Z"
    },
    "papermill": {
     "duration": 0.105495,
     "end_time": "2020-12-20T23:28:17.849539",
     "exception": false,
     "start_time": "2020-12-20T23:28:17.744044",
     "status": "completed"
    },
    "pycharm": {
     "name": "#%%\n"
    },
    "tags": []
   },
   "outputs": [
    {
     "data": {
      "text/html": [
       "<div>\n",
       "<style scoped>\n",
       "    .dataframe tbody tr th:only-of-type {\n",
       "        vertical-align: middle;\n",
       "    }\n",
       "\n",
       "    .dataframe tbody tr th {\n",
       "        vertical-align: top;\n",
       "    }\n",
       "\n",
       "    .dataframe thead th {\n",
       "        text-align: right;\n",
       "    }\n",
       "</style>\n",
       "<table border=\"1\" class=\"dataframe\">\n",
       "  <thead>\n",
       "    <tr style=\"text-align: right;\">\n",
       "      <th></th>\n",
       "      <th>sample_date</th>\n",
       "      <th>new_cases</th>\n",
       "      <th>covid_cases</th>\n",
       "    </tr>\n",
       "  </thead>\n",
       "  <tbody>\n",
       "    <tr>\n",
       "      <th>281</th>\n",
       "      <td>2020-11-04</td>\n",
       "      <td>87818.0</td>\n",
       "      <td>69023.0</td>\n",
       "    </tr>\n",
       "    <tr>\n",
       "      <th>282</th>\n",
       "      <td>2020-11-05</td>\n",
       "      <td>79901.0</td>\n",
       "      <td>70401.0</td>\n",
       "    </tr>\n",
       "    <tr>\n",
       "      <th>283</th>\n",
       "      <td>2020-11-06</td>\n",
       "      <td>83987.0</td>\n",
       "      <td>71385.0</td>\n",
       "    </tr>\n",
       "    <tr>\n",
       "      <th>284</th>\n",
       "      <td>2020-11-07</td>\n",
       "      <td>54652.0</td>\n",
       "      <td>72560.0</td>\n",
       "    </tr>\n",
       "    <tr>\n",
       "      <th>285</th>\n",
       "      <td>2020-11-08</td>\n",
       "      <td>47878.0</td>\n",
       "      <td>73222.0</td>\n",
       "    </tr>\n",
       "  </tbody>\n",
       "</table>\n",
       "</div>"
      ],
      "text/plain": [
       "    sample_date  new_cases  covid_cases\n",
       "281  2020-11-04    87818.0      69023.0\n",
       "282  2020-11-05    79901.0      70401.0\n",
       "283  2020-11-06    83987.0      71385.0\n",
       "284  2020-11-07    54652.0      72560.0\n",
       "285  2020-11-08    47878.0      73222.0"
      ]
     },
     "execution_count": 15,
     "metadata": {},
     "output_type": "execute_result"
    }
   ],
   "source": [
    "confirmed_output_columns = [\"sample_date\", \"new_cases\", \"covid_cases\"]\n",
    "confirmed_output_df = pd.DataFrame(columns=confirmed_output_columns)\n",
    "\n",
    "for source_regions_group, source_regions_group_series in \\\n",
    "        source_regions_at_date_df.groupby(\"_source_regions_group\"):\n",
    "    source_regions_set = set(source_regions_group.split(\",\"))\n",
    "    confirmed_source_regions_set_df = \\\n",
    "        confirmed_df[confirmed_df.country_code.isin(source_regions_set)].copy()\n",
    "    confirmed_source_regions_group_df = \\\n",
    "        confirmed_source_regions_set_df.groupby(\"sample_date\").new_cases.sum() \\\n",
    "            .reset_index().sort_values(\"sample_date\")\n",
    "    confirmed_source_regions_group_df[\"covid_cases\"] = \\\n",
    "        confirmed_source_regions_group_df.new_cases.rolling(7, min_periods=0).mean().round()\n",
    "    confirmed_source_regions_group_df = \\\n",
    "        confirmed_source_regions_group_df[confirmed_output_columns]\n",
    "    confirmed_source_regions_group_df.fillna(method=\"ffill\", inplace=True)\n",
    "    confirmed_source_regions_group_df = \\\n",
    "        confirmed_source_regions_group_df[\n",
    "            confirmed_source_regions_group_df.sample_date.isin(\n",
    "                source_regions_group_series.sample_date_string)]\n",
    "    confirmed_output_df = confirmed_output_df.append(confirmed_source_regions_group_df)\n",
    "\n",
    "confirmed_df = confirmed_output_df.copy()\n",
    "confirmed_df.tail()"
   ]
  },
  {
   "cell_type": "code",
   "execution_count": 16,
   "metadata": {
    "collapsed": false,
    "execution": {
     "iopub.execute_input": "2020-12-20T23:28:17.932078Z",
     "iopub.status.busy": "2020-12-20T23:28:17.931618Z",
     "iopub.status.idle": "2020-12-20T23:28:17.940977Z",
     "shell.execute_reply": "2020-12-20T23:28:17.941394Z"
    },
    "papermill": {
     "duration": 0.053836,
     "end_time": "2020-12-20T23:28:17.941521",
     "exception": false,
     "start_time": "2020-12-20T23:28:17.887685",
     "status": "completed"
    },
    "pycharm": {
     "name": "#%%\n"
    },
    "tags": []
   },
   "outputs": [
    {
     "data": {
      "text/html": [
       "<div>\n",
       "<style scoped>\n",
       "    .dataframe tbody tr th:only-of-type {\n",
       "        vertical-align: middle;\n",
       "    }\n",
       "\n",
       "    .dataframe tbody tr th {\n",
       "        vertical-align: top;\n",
       "    }\n",
       "\n",
       "    .dataframe thead th {\n",
       "        text-align: right;\n",
       "    }\n",
       "</style>\n",
       "<table border=\"1\" class=\"dataframe\">\n",
       "  <thead>\n",
       "    <tr style=\"text-align: right;\">\n",
       "      <th></th>\n",
       "      <th>sample_date_string</th>\n",
       "      <th>new_cases</th>\n",
       "      <th>covid_cases</th>\n",
       "    </tr>\n",
       "  </thead>\n",
       "  <tbody>\n",
       "    <tr>\n",
       "      <th>328</th>\n",
       "      <td>2020-12-16</td>\n",
       "      <td>93581.0</td>\n",
       "      <td>76675.0</td>\n",
       "    </tr>\n",
       "    <tr>\n",
       "      <th>329</th>\n",
       "      <td>2020-12-17</td>\n",
       "      <td>94842.0</td>\n",
       "      <td>77479.0</td>\n",
       "    </tr>\n",
       "    <tr>\n",
       "      <th>330</th>\n",
       "      <td>2020-12-18</td>\n",
       "      <td>92328.0</td>\n",
       "      <td>78240.0</td>\n",
       "    </tr>\n",
       "    <tr>\n",
       "      <th>331</th>\n",
       "      <td>2020-12-19</td>\n",
       "      <td>68947.0</td>\n",
       "      <td>77951.0</td>\n",
       "    </tr>\n",
       "    <tr>\n",
       "      <th>332</th>\n",
       "      <td>2020-12-20</td>\n",
       "      <td>68947.0</td>\n",
       "      <td>77951.0</td>\n",
       "    </tr>\n",
       "  </tbody>\n",
       "</table>\n",
       "</div>"
      ],
      "text/plain": [
       "    sample_date_string  new_cases  covid_cases\n",
       "328         2020-12-16    93581.0      76675.0\n",
       "329         2020-12-17    94842.0      77479.0\n",
       "330         2020-12-18    92328.0      78240.0\n",
       "331         2020-12-19    68947.0      77951.0\n",
       "332         2020-12-20    68947.0      77951.0"
      ]
     },
     "execution_count": 16,
     "metadata": {},
     "output_type": "execute_result"
    }
   ],
   "source": [
    "confirmed_df.rename(columns={\"sample_date\": \"sample_date_string\"}, inplace=True)\n",
    "confirmed_df = confirmed_days_df[[\"sample_date_string\"]].merge(confirmed_df, how=\"left\")\n",
    "confirmed_df.sort_values(\"sample_date_string\", inplace=True)\n",
    "confirmed_df.fillna(method=\"ffill\", inplace=True)\n",
    "confirmed_df.tail()"
   ]
  },
  {
   "cell_type": "code",
   "execution_count": 17,
   "metadata": {
    "collapsed": false,
    "execution": {
     "iopub.execute_input": "2020-12-20T23:28:18.034059Z",
     "iopub.status.busy": "2020-12-20T23:28:18.033585Z",
     "iopub.status.idle": "2020-12-20T23:28:18.211643Z",
     "shell.execute_reply": "2020-12-20T23:28:18.212068Z"
    },
    "papermill": {
     "duration": 0.233251,
     "end_time": "2020-12-20T23:28:18.212224",
     "exception": false,
     "start_time": "2020-12-20T23:28:17.978973",
     "status": "completed"
    },
    "pycharm": {
     "name": "#%%\n"
    },
    "tags": []
   },
   "outputs": [
    {
     "data": {
      "text/plain": [
       "<AxesSubplot:>"
      ]
     },
     "execution_count": 17,
     "metadata": {},
     "output_type": "execute_result"
    },
    {
     "data": {
      "image/png": "[encoded data removed]",
      "text/plain": [
       "<Figure size 1080x432 with 1 Axes>"
      ]
     },
     "metadata": {},
     "output_type": "display_data"
    }
   ],
   "source": [
    "confirmed_df[[\"new_cases\", \"covid_cases\"]].plot()"
   ]
  },
  {
   "cell_type": "markdown",
   "metadata": {
    "execution": {
     "iopub.execute_input": "2020-08-30T22:30:16.351238Z",
     "iopub.status.busy": "2020-08-30T22:30:16.344579Z",
     "iopub.status.idle": "2020-08-30T22:30:16.354285Z",
     "shell.execute_reply": "2020-08-30T22:30:16.353641Z"
    },
    "papermill": {
     "duration": 0.039862,
     "end_time": "2020-12-20T23:28:18.293218",
     "exception": false,
     "start_time": "2020-12-20T23:28:18.253356",
     "status": "completed"
    },
    "pycharm": {
     "name": "#%% md\n"
    },
    "tags": []
   },
   "source": [
    "### Extract API TEKs"
   ]
  },
  {
   "cell_type": "code",
   "execution_count": 18,
   "metadata": {
    "execution": {
     "iopub.execute_input": "2020-12-20T23:28:18.378162Z",
     "iopub.status.busy": "2020-12-20T23:28:18.377673Z",
     "iopub.status.idle": "2020-12-20T23:29:24.038204Z",
     "shell.execute_reply": "2020-12-20T23:29:24.038611Z"
    },
    "papermill": {
     "duration": 65.70581,
     "end_time": "2020-12-20T23:29:24.038758",
     "exception": false,
     "start_time": "2020-12-20T23:28:18.332948",
     "status": "completed"
    },
    "pycharm": {
     "name": "#%%\n"
    },
    "tags": []
   },
   "outputs": [
    {
     "name": "stderr",
     "output_type": "stream",
     "text": [
      "WARNING:root:NoKeysFoundException(\"No exposure keys found on endpoint 'https://stayaway.incm.pt/v1/gaen/exposed/1608422400000' (parameters: {'generation_date': '2020-12-20', 'endpoint_identifier_components': ['2020-12-20'], 'backend_identifier': 'PT', 'server_endpoint_url': 'https://stayaway.incm.pt'}).\")\n"
     ]
    },
    {
     "name": "stderr",
     "output_type": "stream",
     "text": [
      "WARNING:root:NoKeysFoundException(\"No exposure keys found on endpoint 'https://enapi.sm.ee/authorization/v1/gaen/exposed/1608422400000' (parameters: {'generation_date': '2020-12-20', 'endpoint_identifier_components': ['2020-12-20'], 'backend_identifier': 'EE', 'server_endpoint_url': 'https://enapi.sm.ee/authorization'}).\")\n"
     ]
    },
    {
     "name": "stderr",
     "output_type": "stream",
     "text": [
      "WARNING:root:NoKeysFoundException(\"No exposure keys found on endpoint 'https://mt-dpppt-ws.azurewebsites.net/v1/gaen/exposed/1608422400000' (parameters: {'generation_date': '2020-12-20', 'endpoint_identifier_components': ['2020-12-20'], 'backend_identifier': 'MT', 'server_endpoint_url': 'https://mt-dpppt-ws.azurewebsites.net'}).\")\n"
     ]
    },
    {
     "data": {
      "text/html": [
       "<div>\n",
       "<style scoped>\n",
       "    .dataframe tbody tr th:only-of-type {\n",
       "        vertical-align: middle;\n",
       "    }\n",
       "\n",
       "    .dataframe tbody tr th {\n",
       "        vertical-align: top;\n",
       "    }\n",
       "\n",
       "    .dataframe thead th {\n",
       "        text-align: right;\n",
       "    }\n",
       "</style>\n",
       "<table border=\"1\" class=\"dataframe\">\n",
       "  <thead>\n",
       "    <tr style=\"text-align: right;\">\n",
       "      <th></th>\n",
       "      <th>sample_datetime</th>\n",
       "      <th>sample_date_string</th>\n",
       "      <th>region</th>\n",
       "      <th>verification_key_version</th>\n",
       "      <th>verification_key_id</th>\n",
       "      <th>signature_algorithm</th>\n",
       "      <th>key_data</th>\n",
       "      <th>rolling_start_interval_number</th>\n",
       "      <th>rolling_period</th>\n",
       "      <th>transmission_risk_level</th>\n",
       "      <th>backend_identifier</th>\n",
       "    </tr>\n",
       "  </thead>\n",
       "  <tbody>\n",
       "    <tr>\n",
       "      <th>0</th>\n",
       "      <td>2020-12-20</td>\n",
       "      <td>2020-12-20</td>\n",
       "      <td>ES</td>\n",
       "      <td>V1</td>\n",
       "      <td>214</td>\n",
       "      <td>1.2.840.10045.4.3.2</td>\n",
       "      <td>38a74beb-a11d-111f-9f04-2142946168e3</td>\n",
       "      <td>2680704</td>\n",
       "      <td>106</td>\n",
       "      <td>0</td>\n",
       "      <td>ES</td>\n",
       "    </tr>\n",
       "    <tr>\n",
       "      <th>1</th>\n",
       "      <td>2020-12-20</td>\n",
       "      <td>2020-12-20</td>\n",
       "      <td>ES</td>\n",
       "      <td>V1</td>\n",
       "      <td>214</td>\n",
       "      <td>1.2.840.10045.4.3.2</td>\n",
       "      <td>f7b69b92-27a5-417f-a702-2af104196b6f</td>\n",
       "      <td>2680704</td>\n",
       "      <td>55</td>\n",
       "      <td>5</td>\n",
       "      <td>ES</td>\n",
       "    </tr>\n",
       "    <tr>\n",
       "      <th>2</th>\n",
       "      <td>2020-12-20</td>\n",
       "      <td>2020-12-20</td>\n",
       "      <td>ES</td>\n",
       "      <td>V1</td>\n",
       "      <td>214</td>\n",
       "      <td>1.2.840.10045.4.3.2</td>\n",
       "      <td>42743034-0c25-24c3-a3f2-42e4f54a2d40</td>\n",
       "      <td>2680704</td>\n",
       "      <td>64</td>\n",
       "      <td>1</td>\n",
       "      <td>ES</td>\n",
       "    </tr>\n",
       "    <tr>\n",
       "      <th>3</th>\n",
       "      <td>2020-12-20</td>\n",
       "      <td>2020-12-20</td>\n",
       "      <td>ES</td>\n",
       "      <td>V1</td>\n",
       "      <td>214</td>\n",
       "      <td>1.2.840.10045.4.3.2</td>\n",
       "      <td>23408caf-3b97-639f-f4df-c7680db34fe3</td>\n",
       "      <td>2680704</td>\n",
       "      <td>47</td>\n",
       "      <td>5</td>\n",
       "      <td>ES</td>\n",
       "    </tr>\n",
       "    <tr>\n",
       "      <th>4</th>\n",
       "      <td>2020-12-20</td>\n",
       "      <td>2020-12-20</td>\n",
       "      <td>ES</td>\n",
       "      <td>V1</td>\n",
       "      <td>214</td>\n",
       "      <td>1.2.840.10045.4.3.2</td>\n",
       "      <td>afde0510-6bb5-b21c-df6b-39fb39f9517b</td>\n",
       "      <td>2680704</td>\n",
       "      <td>74</td>\n",
       "      <td>4</td>\n",
       "      <td>ES</td>\n",
       "    </tr>\n",
       "  </tbody>\n",
       "</table>\n",
       "</div>"
      ],
      "text/plain": [
       "  sample_datetime sample_date_string region verification_key_version  \\\n",
       "0      2020-12-20         2020-12-20     ES                       V1   \n",
       "1      2020-12-20         2020-12-20     ES                       V1   \n",
       "2      2020-12-20         2020-12-20     ES                       V1   \n",
       "3      2020-12-20         2020-12-20     ES                       V1   \n",
       "4      2020-12-20         2020-12-20     ES                       V1   \n",
       "\n",
       "  verification_key_id  signature_algorithm  \\\n",
       "0                 214  1.2.840.10045.4.3.2   \n",
       "1                 214  1.2.840.10045.4.3.2   \n",
       "2                 214  1.2.840.10045.4.3.2   \n",
       "3                 214  1.2.840.10045.4.3.2   \n",
       "4                 214  1.2.840.10045.4.3.2   \n",
       "\n",
       "                               key_data  rolling_start_interval_number  \\\n",
       "0  38a74beb-a11d-111f-9f04-2142946168e3                        2680704   \n",
       "1  f7b69b92-27a5-417f-a702-2af104196b6f                        2680704   \n",
       "2  42743034-0c25-24c3-a3f2-42e4f54a2d40                        2680704   \n",
       "3  23408caf-3b97-639f-f4df-c7680db34fe3                        2680704   \n",
       "4  afde0510-6bb5-b21c-df6b-39fb39f9517b                        2680704   \n",
       "\n",
       "   rolling_period  transmission_risk_level backend_identifier  \n",
       "0             106                        0                 ES  \n",
       "1              55                        5                 ES  \n",
       "2              64                        1                 ES  \n",
       "3              47                        5                 ES  \n",
       "4              74                        4                 ES  "
      ]
     },
     "execution_count": 18,
     "metadata": {},
     "output_type": "execute_result"
    }
   ],
   "source": [
    "raw_zip_path_prefix = \"Data/TEKs/Raw/\"\n",
    "fail_on_error_backend_identifiers = [report_backend_identifier]\n",
    "multi_backend_exposure_keys_df = \\\n",
    "    exposure_notification_io.download_exposure_keys_from_backends(\n",
    "        backend_identifiers=report_backend_identifiers,\n",
    "        generation_days=backend_generation_days,\n",
    "        fail_on_error_backend_identifiers=fail_on_error_backend_identifiers,\n",
    "        save_raw_zip_path_prefix=raw_zip_path_prefix)\n",
    "multi_backend_exposure_keys_df[\"region\"] = multi_backend_exposure_keys_df[\"backend_identifier\"]\n",
    "multi_backend_exposure_keys_df.rename(\n",
    "    columns={\n",
    "        \"generation_datetime\": \"sample_datetime\",\n",
    "        \"generation_date_string\": \"sample_date_string\",\n",
    "    },\n",
    "    inplace=True)\n",
    "multi_backend_exposure_keys_df.head()"
   ]
  },
  {
   "cell_type": "code",
   "execution_count": 19,
   "metadata": {
    "collapsed": false,
    "execution": {
     "iopub.execute_input": "2020-12-20T23:29:24.125511Z",
     "iopub.status.busy": "2020-12-20T23:29:24.125008Z",
     "iopub.status.idle": "2020-12-20T23:29:24.375456Z",
     "shell.execute_reply": "2020-12-20T23:29:24.375049Z"
    },
    "papermill": {
     "duration": 0.295925,
     "end_time": "2020-12-20T23:29:24.375582",
     "exception": false,
     "start_time": "2020-12-20T23:29:24.079657",
     "status": "completed"
    },
    "pycharm": {
     "name": "#%%\n"
    },
    "tags": []
   },
   "outputs": [
    {
     "data": {
      "text/plain": [
       "<AxesSubplot:>"
      ]
     },
     "execution_count": 19,
     "metadata": {},
     "output_type": "execute_result"
    },
    {
     "data": {
      "image/png": "[encoded data removed]",
      "text/plain": [
       "<Figure size 1080x432 with 1 Axes>"
      ]
     },
     "metadata": {},
     "output_type": "display_data"
    }
   ],
   "source": [
    "early_teks_df = multi_backend_exposure_keys_df[\n",
    "    multi_backend_exposure_keys_df.rolling_period < 144].copy()\n",
    "early_teks_df[\"rolling_period_in_hours\"] = early_teks_df.rolling_period / 6\n",
    "early_teks_df[early_teks_df.sample_date_string != extraction_date] \\\n",
    "    .rolling_period_in_hours.hist(bins=list(range(24)))"
   ]
  },
  {
   "cell_type": "code",
   "execution_count": 20,
   "metadata": {
    "collapsed": false,
    "execution": {
     "iopub.execute_input": "2020-12-20T23:29:24.474440Z",
     "iopub.status.busy": "2020-12-20T23:29:24.473960Z",
     "iopub.status.idle": "2020-12-20T23:29:24.648316Z",
     "shell.execute_reply": "2020-12-20T23:29:24.648697Z"
    },
    "papermill": {
     "duration": 0.231623,
     "end_time": "2020-12-20T23:29:24.648849",
     "exception": false,
     "start_time": "2020-12-20T23:29:24.417226",
     "status": "completed"
    },
    "pycharm": {
     "name": "#%%\n"
    },
    "tags": []
   },
   "outputs": [
    {
     "data": {
      "text/plain": [
       "<AxesSubplot:>"
      ]
     },
     "execution_count": 20,
     "metadata": {},
     "output_type": "execute_result"
    },
    {
     "data": {
      "image/png": "[encoded data removed]",
      "text/plain": [
       "<Figure size 1080x432 with 1 Axes>"
      ]
     },
     "metadata": {},
     "output_type": "display_data"
    }
   ],
   "source": [
    "early_teks_df[early_teks_df.sample_date_string == extraction_date] \\\n",
    "    .rolling_period_in_hours.hist(bins=list(range(24)))"
   ]
  },
  {
   "cell_type": "code",
   "execution_count": 21,
   "metadata": {
    "collapsed": false,
    "execution": {
     "iopub.execute_input": "2020-12-20T23:29:24.739049Z",
     "iopub.status.busy": "2020-12-20T23:29:24.738567Z",
     "iopub.status.idle": "2020-12-20T23:29:24.787446Z",
     "shell.execute_reply": "2020-12-20T23:29:24.787868Z"
    },
    "papermill": {
     "duration": 0.095984,
     "end_time": "2020-12-20T23:29:24.788033",
     "exception": false,
     "start_time": "2020-12-20T23:29:24.692049",
     "status": "completed"
    },
    "pycharm": {
     "name": "#%%\n"
    },
    "tags": []
   },
   "outputs": [
    {
     "data": {
      "text/html": [
       "<div>\n",
       "<style scoped>\n",
       "    .dataframe tbody tr th:only-of-type {\n",
       "        vertical-align: middle;\n",
       "    }\n",
       "\n",
       "    .dataframe tbody tr th {\n",
       "        vertical-align: top;\n",
       "    }\n",
       "\n",
       "    .dataframe thead th {\n",
       "        text-align: right;\n",
       "    }\n",
       "</style>\n",
       "<table border=\"1\" class=\"dataframe\">\n",
       "  <thead>\n",
       "    <tr style=\"text-align: right;\">\n",
       "      <th></th>\n",
       "      <th>sample_date_string</th>\n",
       "      <th>region</th>\n",
       "      <th>key_data</th>\n",
       "    </tr>\n",
       "  </thead>\n",
       "  <tbody>\n",
       "    <tr>\n",
       "      <th>0</th>\n",
       "      <td>2020-12-20</td>\n",
       "      <td>ES</td>\n",
       "      <td>38a74beb-a11d-111f-9f04-2142946168e3</td>\n",
       "    </tr>\n",
       "    <tr>\n",
       "      <th>1</th>\n",
       "      <td>2020-12-20</td>\n",
       "      <td>ES</td>\n",
       "      <td>f7b69b92-27a5-417f-a702-2af104196b6f</td>\n",
       "    </tr>\n",
       "    <tr>\n",
       "      <th>2</th>\n",
       "      <td>2020-12-20</td>\n",
       "      <td>ES</td>\n",
       "      <td>42743034-0c25-24c3-a3f2-42e4f54a2d40</td>\n",
       "    </tr>\n",
       "    <tr>\n",
       "      <th>3</th>\n",
       "      <td>2020-12-20</td>\n",
       "      <td>ES</td>\n",
       "      <td>23408caf-3b97-639f-f4df-c7680db34fe3</td>\n",
       "    </tr>\n",
       "    <tr>\n",
       "      <th>4</th>\n",
       "      <td>2020-12-20</td>\n",
       "      <td>ES</td>\n",
       "      <td>afde0510-6bb5-b21c-df6b-39fb39f9517b</td>\n",
       "    </tr>\n",
       "  </tbody>\n",
       "</table>\n",
       "</div>"
      ],
      "text/plain": [
       "  sample_date_string region                              key_data\n",
       "0         2020-12-20     ES  38a74beb-a11d-111f-9f04-2142946168e3\n",
       "1         2020-12-20     ES  f7b69b92-27a5-417f-a702-2af104196b6f\n",
       "2         2020-12-20     ES  42743034-0c25-24c3-a3f2-42e4f54a2d40\n",
       "3         2020-12-20     ES  23408caf-3b97-639f-f4df-c7680db34fe3\n",
       "4         2020-12-20     ES  afde0510-6bb5-b21c-df6b-39fb39f9517b"
      ]
     },
     "execution_count": 21,
     "metadata": {},
     "output_type": "execute_result"
    }
   ],
   "source": [
    "multi_backend_exposure_keys_df = multi_backend_exposure_keys_df[[\n",
    "    \"sample_date_string\", \"region\", \"key_data\"]]\n",
    "multi_backend_exposure_keys_df.head()"
   ]
  },
  {
   "cell_type": "code",
   "execution_count": 22,
   "metadata": {
    "collapsed": false,
    "execution": {
     "iopub.execute_input": "2020-12-20T23:29:24.888097Z",
     "iopub.status.busy": "2020-12-20T23:29:24.887619Z",
     "iopub.status.idle": "2020-12-20T23:29:28.768712Z",
     "shell.execute_reply": "2020-12-20T23:29:28.769139Z"
    },
    "papermill": {
     "duration": 3.937884,
     "end_time": "2020-12-20T23:29:28.769297",
     "exception": false,
     "start_time": "2020-12-20T23:29:24.831413",
     "status": "completed"
    },
    "pycharm": {
     "name": "#%%\n"
    },
    "tags": []
   },
   "outputs": [
    {
     "data": {
      "text/plain": [
       "['PT', 'MT', 'EE', 'CH', 'ES@PRE', 'DE', 'ES']"
      ]
     },
     "execution_count": 22,
     "metadata": {},
     "output_type": "execute_result"
    }
   ],
   "source": [
    "active_regions = \\\n",
    "    multi_backend_exposure_keys_df.groupby(\"region\").key_data.nunique().sort_values().index.unique().tolist()\n",
    "active_regions"
   ]
  },
  {
   "cell_type": "code",
   "execution_count": 23,
   "metadata": {
    "collapsed": false,
    "execution": {
     "iopub.execute_input": "2020-12-20T23:29:28.905657Z",
     "iopub.status.busy": "2020-12-20T23:29:28.905048Z",
     "iopub.status.idle": "2020-12-20T23:29:32.970640Z",
     "shell.execute_reply": "2020-12-20T23:29:32.971001Z"
    },
    "papermill": {
     "duration": 4.157289,
     "end_time": "2020-12-20T23:29:32.971151",
     "exception": false,
     "start_time": "2020-12-20T23:29:28.813862",
     "status": "completed"
    },
    "pycharm": {
     "name": "#%%\n"
    },
    "tags": []
   },
   "outputs": [
    {
     "data": {
      "text/html": [
       "<div>\n",
       "<style scoped>\n",
       "    .dataframe tbody tr th:only-of-type {\n",
       "        vertical-align: middle;\n",
       "    }\n",
       "\n",
       "    .dataframe tbody tr th {\n",
       "        vertical-align: top;\n",
       "    }\n",
       "\n",
       "    .dataframe thead tr th {\n",
       "        text-align: left;\n",
       "    }\n",
       "\n",
       "    .dataframe thead tr:last-of-type th {\n",
       "        text-align: right;\n",
       "    }\n",
       "</style>\n",
       "<table border=\"1\" class=\"dataframe\">\n",
       "  <thead>\n",
       "    <tr>\n",
       "      <th></th>\n",
       "      <th colspan=\"7\" halign=\"left\">shared_teks_by_generation_date</th>\n",
       "    </tr>\n",
       "    <tr>\n",
       "      <th>region</th>\n",
       "      <th>CH</th>\n",
       "      <th>DE</th>\n",
       "      <th>EE</th>\n",
       "      <th>ES</th>\n",
       "      <th>ES@PRE</th>\n",
       "      <th>MT</th>\n",
       "      <th>PT</th>\n",
       "    </tr>\n",
       "    <tr>\n",
       "      <th>sample_date</th>\n",
       "      <th></th>\n",
       "      <th></th>\n",
       "      <th></th>\n",
       "      <th></th>\n",
       "      <th></th>\n",
       "      <th></th>\n",
       "      <th></th>\n",
       "    </tr>\n",
       "  </thead>\n",
       "  <tbody>\n",
       "    <tr>\n",
       "      <th>2020-12-20</th>\n",
       "      <td>411</td>\n",
       "      <td>0</td>\n",
       "      <td>0</td>\n",
       "      <td>665</td>\n",
       "      <td>71</td>\n",
       "      <td>0</td>\n",
       "      <td>0</td>\n",
       "    </tr>\n",
       "    <tr>\n",
       "      <th>2020-12-19</th>\n",
       "      <td>974</td>\n",
       "      <td>1450</td>\n",
       "      <td>66</td>\n",
       "      <td>5585</td>\n",
       "      <td>865</td>\n",
       "      <td>102</td>\n",
       "      <td>9</td>\n",
       "    </tr>\n",
       "    <tr>\n",
       "      <th>2020-12-18</th>\n",
       "      <td>1540</td>\n",
       "      <td>5930</td>\n",
       "      <td>102</td>\n",
       "      <td>10030</td>\n",
       "      <td>1584</td>\n",
       "      <td>102</td>\n",
       "      <td>21</td>\n",
       "    </tr>\n",
       "    <tr>\n",
       "      <th>2020-12-17</th>\n",
       "      <td>2044</td>\n",
       "      <td>10099</td>\n",
       "      <td>140</td>\n",
       "      <td>15176</td>\n",
       "      <td>2389</td>\n",
       "      <td>102</td>\n",
       "      <td>35</td>\n",
       "    </tr>\n",
       "    <tr>\n",
       "      <th>2020-12-16</th>\n",
       "      <td>2627</td>\n",
       "      <td>14004</td>\n",
       "      <td>181</td>\n",
       "      <td>20253</td>\n",
       "      <td>3389</td>\n",
       "      <td>102</td>\n",
       "      <td>41</td>\n",
       "    </tr>\n",
       "  </tbody>\n",
       "</table>\n",
       "</div>"
      ],
      "text/plain": [
       "            shared_teks_by_generation_date                                   \n",
       "region                                  CH     DE   EE     ES ES@PRE   MT  PT\n",
       "sample_date                                                                  \n",
       "2020-12-20                             411      0    0    665     71    0   0\n",
       "2020-12-19                             974   1450   66   5585    865  102   9\n",
       "2020-12-18                            1540   5930  102  10030   1584  102  21\n",
       "2020-12-17                            2044  10099  140  15176   2389  102  35\n",
       "2020-12-16                            2627  14004  181  20253   3389  102  41"
      ]
     },
     "execution_count": 23,
     "metadata": {},
     "output_type": "execute_result"
    }
   ],
   "source": [
    "multi_backend_summary_df = multi_backend_exposure_keys_df.groupby(\n",
    "    [\"sample_date_string\", \"region\"]).key_data.nunique().reset_index() \\\n",
    "    .pivot(index=\"sample_date_string\", columns=\"region\") \\\n",
    "    .sort_index(ascending=False)\n",
    "multi_backend_summary_df.rename(\n",
    "    columns={\"key_data\": \"shared_teks_by_generation_date\"},\n",
    "    inplace=True)\n",
    "multi_backend_summary_df.rename_axis(\"sample_date\", inplace=True)\n",
    "multi_backend_summary_df = multi_backend_summary_df.fillna(0).astype(int)\n",
    "multi_backend_summary_df = multi_backend_summary_df.head(backend_generation_days)\n",
    "multi_backend_summary_df.head()"
   ]
  },
  {
   "cell_type": "code",
   "execution_count": 24,
   "metadata": {
    "collapsed": false,
    "execution": {
     "iopub.execute_input": "2020-12-20T23:29:33.064544Z",
     "iopub.status.busy": "2020-12-20T23:29:33.064062Z",
     "iopub.status.idle": "2020-12-20T23:29:36.957709Z",
     "shell.execute_reply": "2020-12-20T23:29:36.957273Z"
    },
    "papermill": {
     "duration": 3.943032,
     "end_time": "2020-12-20T23:29:36.957832",
     "exception": false,
     "start_time": "2020-12-20T23:29:33.014800",
     "status": "completed"
    },
    "pycharm": {
     "name": "#%%\n"
    },
    "tags": []
   },
   "outputs": [
    {
     "name": "stderr",
     "output_type": "stream",
     "text": [
      "<ipython-input-24-4e21708c19d8>:2: FutureWarning: `item` has been deprecated and will be removed in a future version\n",
      "  teks_x = x.key_data_x.item()\n",
      "<ipython-input-24-4e21708c19d8>:3: FutureWarning: `item` has been deprecated and will be removed in a future version\n",
      "  common_teks = set(teks_x).intersection(x.key_data_y.item())\n"
     ]
    },
    {
     "name": "stderr",
     "output_type": "stream",
     "text": [
      "<ipython-input-24-4e21708c19d8>:33: FutureWarning: `item` has been deprecated and will be removed in a future version\n",
      "  aggfunc=lambda x: x.item())\n"
     ]
    },
    {
     "data": {
      "text/html": [
       "<div>\n",
       "<style scoped>\n",
       "    .dataframe tbody tr th:only-of-type {\n",
       "        vertical-align: middle;\n",
       "    }\n",
       "\n",
       "    .dataframe tbody tr th {\n",
       "        vertical-align: top;\n",
       "    }\n",
       "\n",
       "    .dataframe thead tr th {\n",
       "        text-align: left;\n",
       "    }\n",
       "\n",
       "    .dataframe thead tr:last-of-type th {\n",
       "        text-align: right;\n",
       "    }\n",
       "</style>\n",
       "<table border=\"1\" class=\"dataframe\">\n",
       "  <thead>\n",
       "    <tr>\n",
       "      <th></th>\n",
       "      <th colspan=\"7\" halign=\"left\">common_teks_fraction</th>\n",
       "    </tr>\n",
       "    <tr>\n",
       "      <th>region_x</th>\n",
       "      <th>CH</th>\n",
       "      <th>DE</th>\n",
       "      <th>EE</th>\n",
       "      <th>ES</th>\n",
       "      <th>ES@PRE</th>\n",
       "      <th>MT</th>\n",
       "      <th>PT</th>\n",
       "    </tr>\n",
       "    <tr>\n",
       "      <th>region_y</th>\n",
       "      <th></th>\n",
       "      <th></th>\n",
       "      <th></th>\n",
       "      <th></th>\n",
       "      <th></th>\n",
       "      <th></th>\n",
       "      <th></th>\n",
       "    </tr>\n",
       "  </thead>\n",
       "  <tbody>\n",
       "    <tr>\n",
       "      <th>CH</th>\n",
       "      <td>NaN</td>\n",
       "      <td>0.000035</td>\n",
       "      <td>0.0</td>\n",
       "      <td>0.000026</td>\n",
       "      <td>0.000000</td>\n",
       "      <td>0.0</td>\n",
       "      <td>0.0</td>\n",
       "    </tr>\n",
       "    <tr>\n",
       "      <th>DE</th>\n",
       "      <td>0.000265</td>\n",
       "      <td>NaN</td>\n",
       "      <td>0.0</td>\n",
       "      <td>0.683560</td>\n",
       "      <td>0.000227</td>\n",
       "      <td>0.0</td>\n",
       "      <td>0.0</td>\n",
       "    </tr>\n",
       "    <tr>\n",
       "      <th>EE</th>\n",
       "      <td>0.000000</td>\n",
       "      <td>0.000000</td>\n",
       "      <td>NaN</td>\n",
       "      <td>0.000000</td>\n",
       "      <td>0.000000</td>\n",
       "      <td>0.0</td>\n",
       "      <td>0.0</td>\n",
       "    </tr>\n",
       "    <tr>\n",
       "      <th>ES</th>\n",
       "      <td>0.000265</td>\n",
       "      <td>0.917379</td>\n",
       "      <td>0.0</td>\n",
       "      <td>NaN</td>\n",
       "      <td>0.000227</td>\n",
       "      <td>0.0</td>\n",
       "      <td>0.0</td>\n",
       "    </tr>\n",
       "    <tr>\n",
       "      <th>ES@PRE</th>\n",
       "      <td>0.000000</td>\n",
       "      <td>0.000087</td>\n",
       "      <td>0.0</td>\n",
       "      <td>0.000065</td>\n",
       "      <td>NaN</td>\n",
       "      <td>0.0</td>\n",
       "      <td>0.0</td>\n",
       "    </tr>\n",
       "    <tr>\n",
       "      <th>MT</th>\n",
       "      <td>0.000000</td>\n",
       "      <td>0.000000</td>\n",
       "      <td>0.0</td>\n",
       "      <td>0.000000</td>\n",
       "      <td>0.000000</td>\n",
       "      <td>NaN</td>\n",
       "      <td>0.0</td>\n",
       "    </tr>\n",
       "    <tr>\n",
       "      <th>PT</th>\n",
       "      <td>0.000000</td>\n",
       "      <td>0.000000</td>\n",
       "      <td>0.0</td>\n",
       "      <td>0.000000</td>\n",
       "      <td>0.000000</td>\n",
       "      <td>0.0</td>\n",
       "      <td>NaN</td>\n",
       "    </tr>\n",
       "  </tbody>\n",
       "</table>\n",
       "</div>"
      ],
      "text/plain": [
       "         common_teks_fraction                                             \n",
       "region_x                   CH        DE   EE        ES    ES@PRE   MT   PT\n",
       "region_y                                                                  \n",
       "CH                        NaN  0.000035  0.0  0.000026  0.000000  0.0  0.0\n",
       "DE                   0.000265       NaN  0.0  0.683560  0.000227  0.0  0.0\n",
       "EE                   0.000000  0.000000  NaN  0.000000  0.000000  0.0  0.0\n",
       "ES                   0.000265  0.917379  0.0       NaN  0.000227  0.0  0.0\n",
       "ES@PRE               0.000000  0.000087  0.0  0.000065       NaN  0.0  0.0\n",
       "MT                   0.000000  0.000000  0.0  0.000000  0.000000  NaN  0.0\n",
       "PT                   0.000000  0.000000  0.0  0.000000  0.000000  0.0  NaN"
      ]
     },
     "execution_count": 24,
     "metadata": {},
     "output_type": "execute_result"
    }
   ],
   "source": [
    "def compute_keys_cross_sharing(x):\n",
    "    teks_x = x.key_data_x.item()\n",
    "    common_teks = set(teks_x).intersection(x.key_data_y.item())\n",
    "    common_teks_fraction = len(common_teks) / len(teks_x)\n",
    "    return pd.Series(dict(\n",
    "        common_teks=common_teks,\n",
    "        common_teks_fraction=common_teks_fraction,\n",
    "    ))\n",
    "\n",
    "multi_backend_exposure_keys_by_region_df = \\\n",
    "    multi_backend_exposure_keys_df.groupby(\"region\").key_data.unique().reset_index()\n",
    "multi_backend_exposure_keys_by_region_df[\"_merge\"] = True\n",
    "multi_backend_exposure_keys_by_region_combination_df = \\\n",
    "    multi_backend_exposure_keys_by_region_df.merge(\n",
    "        multi_backend_exposure_keys_by_region_df, on=\"_merge\")\n",
    "multi_backend_exposure_keys_by_region_combination_df.drop(\n",
    "    columns=[\"_merge\"], inplace=True)\n",
    "if multi_backend_exposure_keys_by_region_combination_df.region_x.nunique() > 1:\n",
    "    multi_backend_exposure_keys_by_region_combination_df = \\\n",
    "        multi_backend_exposure_keys_by_region_combination_df[\n",
    "            multi_backend_exposure_keys_by_region_combination_df.region_x !=\n",
    "            multi_backend_exposure_keys_by_region_combination_df.region_y]\n",
    "multi_backend_exposure_keys_cross_sharing_df = \\\n",
    "    multi_backend_exposure_keys_by_region_combination_df \\\n",
    "        .groupby([\"region_x\", \"region_y\"]) \\\n",
    "        .apply(compute_keys_cross_sharing) \\\n",
    "        .reset_index()\n",
    "multi_backend_cross_sharing_summary_df = \\\n",
    "    multi_backend_exposure_keys_cross_sharing_df.pivot_table(\n",
    "        values=[\"common_teks_fraction\"],\n",
    "        columns=\"region_x\",\n",
    "        index=\"region_y\",\n",
    "        aggfunc=lambda x: x.item())\n",
    "multi_backend_cross_sharing_summary_df"
   ]
  },
  {
   "cell_type": "code",
   "execution_count": 25,
   "metadata": {
    "collapsed": false,
    "execution": {
     "iopub.execute_input": "2020-12-20T23:29:37.081799Z",
     "iopub.status.busy": "2020-12-20T23:29:37.081231Z",
     "iopub.status.idle": "2020-12-20T23:29:38.521580Z",
     "shell.execute_reply": "2020-12-20T23:29:38.521144Z"
    },
    "papermill": {
     "duration": 1.519404,
     "end_time": "2020-12-20T23:29:38.521712",
     "exception": false,
     "start_time": "2020-12-20T23:29:37.002308",
     "status": "completed"
    },
    "pycharm": {
     "name": "#%%\n"
    },
    "tags": []
   },
   "outputs": [
    {
     "data": {
      "text/plain": [
       "['PT', 'MT', 'EE', 'CH', 'ES@PRE', 'DE']"
      ]
     },
     "execution_count": 25,
     "metadata": {},
     "output_type": "execute_result"
    }
   ],
   "source": [
    "multi_backend_without_active_region_exposure_keys_df = \\\n",
    "    multi_backend_exposure_keys_df[multi_backend_exposure_keys_df.region != report_backend_identifier]\n",
    "multi_backend_without_active_region = \\\n",
    "    multi_backend_without_active_region_exposure_keys_df.groupby(\"region\").key_data.nunique().sort_values().index.unique().tolist()\n",
    "multi_backend_without_active_region"
   ]
  },
  {
   "cell_type": "code",
   "execution_count": 26,
   "metadata": {
    "execution": {
     "iopub.execute_input": "2020-12-20T23:29:38.648349Z",
     "iopub.status.busy": "2020-12-20T23:29:38.647803Z",
     "iopub.status.idle": "2020-12-20T23:29:40.822787Z",
     "shell.execute_reply": "2020-12-20T23:29:40.823217Z"
    },
    "papermill": {
     "duration": 2.256784,
     "end_time": "2020-12-20T23:29:40.823376",
     "exception": false,
     "start_time": "2020-12-20T23:29:38.566592",
     "status": "completed"
    },
    "scrolled": false,
    "tags": []
   },
   "outputs": [
    {
     "name": "stderr",
     "output_type": "stream",
     "text": [
      "/opt/hostedtoolcache/Python/3.8.6/x64/lib/python3.8/site-packages/pandas/core/frame.py:4110: SettingWithCopyWarning: \n",
      "A value is trying to be set on a copy of a slice from a DataFrame\n",
      "\n",
      "See the caveats in the documentation: http://pandas.pydata.org/pandas-docs/stable/user_guide/indexing.html#returning-a-view-versus-a-copy\n",
      "  return super().drop(\n"
     ]
    },
    {
     "data": {
      "text/html": [
       "<div>\n",
       "<style scoped>\n",
       "    .dataframe tbody tr th:only-of-type {\n",
       "        vertical-align: middle;\n",
       "    }\n",
       "\n",
       "    .dataframe tbody tr th {\n",
       "        vertical-align: top;\n",
       "    }\n",
       "\n",
       "    .dataframe thead th {\n",
       "        text-align: right;\n",
       "    }\n",
       "</style>\n",
       "<table border=\"1\" class=\"dataframe\">\n",
       "  <thead>\n",
       "    <tr style=\"text-align: right;\">\n",
       "      <th></th>\n",
       "      <th>shared_teks_by_generation_date</th>\n",
       "    </tr>\n",
       "    <tr>\n",
       "      <th>sample_date_string</th>\n",
       "      <th></th>\n",
       "    </tr>\n",
       "  </thead>\n",
       "  <tbody>\n",
       "    <tr>\n",
       "      <th>2020-12-20</th>\n",
       "      <td>665</td>\n",
       "    </tr>\n",
       "    <tr>\n",
       "      <th>2020-12-19</th>\n",
       "      <td>5585</td>\n",
       "    </tr>\n",
       "    <tr>\n",
       "      <th>2020-12-18</th>\n",
       "      <td>10030</td>\n",
       "    </tr>\n",
       "    <tr>\n",
       "      <th>2020-12-17</th>\n",
       "      <td>15176</td>\n",
       "    </tr>\n",
       "    <tr>\n",
       "      <th>2020-12-16</th>\n",
       "      <td>20253</td>\n",
       "    </tr>\n",
       "  </tbody>\n",
       "</table>\n",
       "</div>"
      ],
      "text/plain": [
       "                    shared_teks_by_generation_date\n",
       "sample_date_string                                \n",
       "2020-12-20                                     665\n",
       "2020-12-19                                    5585\n",
       "2020-12-18                                   10030\n",
       "2020-12-17                                   15176\n",
       "2020-12-16                                   20253"
      ]
     },
     "execution_count": 26,
     "metadata": {},
     "output_type": "execute_result"
    }
   ],
   "source": [
    "exposure_keys_summary_df = multi_backend_exposure_keys_df[\n",
    "    multi_backend_exposure_keys_df.region == report_backend_identifier]\n",
    "exposure_keys_summary_df.drop(columns=[\"region\"], inplace=True)\n",
    "exposure_keys_summary_df = \\\n",
    "    exposure_keys_summary_df.groupby([\"sample_date_string\"]).key_data.nunique().to_frame()\n",
    "exposure_keys_summary_df = \\\n",
    "    exposure_keys_summary_df.reset_index().set_index(\"sample_date_string\")\n",
    "exposure_keys_summary_df.sort_index(ascending=False, inplace=True)\n",
    "exposure_keys_summary_df.rename(columns={\"key_data\": \"shared_teks_by_generation_date\"}, inplace=True)\n",
    "exposure_keys_summary_df.head()"
   ]
  },
  {
   "cell_type": "markdown",
   "metadata": {
    "papermill": {
     "duration": 0.045877,
     "end_time": "2020-12-20T23:29:40.915991",
     "exception": false,
     "start_time": "2020-12-20T23:29:40.870114",
     "status": "completed"
    },
    "tags": []
   },
   "source": [
    "### Dump API TEKs"
   ]
  },
  {
   "cell_type": "code",
   "execution_count": 27,
   "metadata": {
    "execution": {
     "iopub.execute_input": "2020-12-20T23:29:41.014598Z",
     "iopub.status.busy": "2020-12-20T23:29:41.014073Z",
     "iopub.status.idle": "2020-12-20T23:29:43.562920Z",
     "shell.execute_reply": "2020-12-20T23:29:43.563565Z"
    },
    "papermill": {
     "duration": 2.602288,
     "end_time": "2020-12-20T23:29:43.563720",
     "exception": false,
     "start_time": "2020-12-20T23:29:40.961432",
     "status": "completed"
    },
    "tags": []
   },
   "outputs": [
    {
     "data": {
      "text/html": [
       "<div>\n",
       "<style scoped>\n",
       "    .dataframe tbody tr th:only-of-type {\n",
       "        vertical-align: middle;\n",
       "    }\n",
       "\n",
       "    .dataframe tbody tr th {\n",
       "        vertical-align: top;\n",
       "    }\n",
       "\n",
       "    .dataframe thead th {\n",
       "        text-align: right;\n",
       "    }\n",
       "</style>\n",
       "<table border=\"1\" class=\"dataframe\">\n",
       "  <thead>\n",
       "    <tr style=\"text-align: right;\">\n",
       "      <th></th>\n",
       "      <th>sample_date</th>\n",
       "      <th>region</th>\n",
       "      <th>tek_list</th>\n",
       "      <th>extraction_date</th>\n",
       "      <th>extraction_date_with_hour</th>\n",
       "    </tr>\n",
       "  </thead>\n",
       "  <tbody>\n",
       "    <tr>\n",
       "      <th>0</th>\n",
       "      <td>2020-12-07</td>\n",
       "      <td>CH</td>\n",
       "      <td>[0a497206-e462-44be-644f-46ce736e90b5, abee6a7...</td>\n",
       "      <td>2020-12-20</td>\n",
       "      <td>2020-12-20@23</td>\n",
       "    </tr>\n",
       "    <tr>\n",
       "      <th>1</th>\n",
       "      <td>2020-12-07</td>\n",
       "      <td>DE</td>\n",
       "      <td>[0b43d5ff-8466-f836-c333-befc23c92328, 2130c60...</td>\n",
       "      <td>2020-12-20</td>\n",
       "      <td>2020-12-20@23</td>\n",
       "    </tr>\n",
       "    <tr>\n",
       "      <th>2</th>\n",
       "      <td>2020-12-07</td>\n",
       "      <td>EE</td>\n",
       "      <td>[2f9f4442-c84b-4ee2-a79c-8ef4ba04c2cc, a780f0c...</td>\n",
       "      <td>2020-12-20</td>\n",
       "      <td>2020-12-20@23</td>\n",
       "    </tr>\n",
       "    <tr>\n",
       "      <th>3</th>\n",
       "      <td>2020-12-07</td>\n",
       "      <td>ES</td>\n",
       "      <td>[63d05354-bc8d-d4d1-808f-d8326cf02a93, 0644607...</td>\n",
       "      <td>2020-12-20</td>\n",
       "      <td>2020-12-20@23</td>\n",
       "    </tr>\n",
       "    <tr>\n",
       "      <th>4</th>\n",
       "      <td>2020-12-07</td>\n",
       "      <td>ES@PRE</td>\n",
       "      <td>[3447745a-7052-4836-494c-6347456c7872, 8e96a07...</td>\n",
       "      <td>2020-12-20</td>\n",
       "      <td>2020-12-20@23</td>\n",
       "    </tr>\n",
       "  </tbody>\n",
       "</table>\n",
       "</div>"
      ],
      "text/plain": [
       "  sample_date  region                                           tek_list  \\\n",
       "0  2020-12-07      CH  [0a497206-e462-44be-644f-46ce736e90b5, abee6a7...   \n",
       "1  2020-12-07      DE  [0b43d5ff-8466-f836-c333-befc23c92328, 2130c60...   \n",
       "2  2020-12-07      EE  [2f9f4442-c84b-4ee2-a79c-8ef4ba04c2cc, a780f0c...   \n",
       "3  2020-12-07      ES  [63d05354-bc8d-d4d1-808f-d8326cf02a93, 0644607...   \n",
       "4  2020-12-07  ES@PRE  [3447745a-7052-4836-494c-6347456c7872, 8e96a07...   \n",
       "\n",
       "  extraction_date extraction_date_with_hour  \n",
       "0      2020-12-20             2020-12-20@23  \n",
       "1      2020-12-20             2020-12-20@23  \n",
       "2      2020-12-20             2020-12-20@23  \n",
       "3      2020-12-20             2020-12-20@23  \n",
       "4      2020-12-20             2020-12-20@23  "
      ]
     },
     "execution_count": 27,
     "metadata": {},
     "output_type": "execute_result"
    }
   ],
   "source": [
    "tek_list_df = multi_backend_exposure_keys_df[\n",
    "    [\"sample_date_string\", \"region\", \"key_data\"]].copy()\n",
    "tek_list_df[\"key_data\"] = tek_list_df[\"key_data\"].apply(str)\n",
    "tek_list_df.rename(columns={\n",
    "    \"sample_date_string\": \"sample_date\",\n",
    "    \"key_data\": \"tek_list\"}, inplace=True)\n",
    "tek_list_df = tek_list_df.groupby(\n",
    "    [\"sample_date\", \"region\"]).tek_list.unique().reset_index()\n",
    "tek_list_df[\"extraction_date\"] = extraction_date\n",
    "tek_list_df[\"extraction_date_with_hour\"] = extraction_date_with_hour\n",
    "\n",
    "tek_list_path_prefix = \"Data/TEKs/\"\n",
    "tek_list_current_path = tek_list_path_prefix + f\"/Current/RadarCOVID-TEKs.json\"\n",
    "tek_list_daily_path = tek_list_path_prefix + f\"Daily/RadarCOVID-TEKs-{extraction_date}.json\"\n",
    "tek_list_hourly_path = tek_list_path_prefix + f\"Hourly/RadarCOVID-TEKs-{extraction_date_with_hour}.json\"\n",
    "\n",
    "for path in [tek_list_current_path, tek_list_daily_path, tek_list_hourly_path]:\n",
    "    os.makedirs(os.path.dirname(path), exist_ok=True)\n",
    "\n",
    "tek_list_df.drop(columns=[\"extraction_date\", \"extraction_date_with_hour\"]).to_json(\n",
    "    tek_list_current_path,\n",
    "    lines=True, orient=\"records\")\n",
    "tek_list_df.drop(columns=[\"extraction_date_with_hour\"]).to_json(\n",
    "    tek_list_daily_path,\n",
    "    lines=True, orient=\"records\")\n",
    "tek_list_df.to_json(\n",
    "    tek_list_hourly_path,\n",
    "    lines=True, orient=\"records\")\n",
    "tek_list_df.head()"
   ]
  },
  {
   "cell_type": "markdown",
   "metadata": {
    "papermill": {
     "duration": 0.045251,
     "end_time": "2020-12-20T23:29:43.655355",
     "exception": false,
     "start_time": "2020-12-20T23:29:43.610104",
     "status": "completed"
    },
    "tags": []
   },
   "source": [
    "### Load TEK Dumps"
   ]
  },
  {
   "cell_type": "code",
   "execution_count": 28,
   "metadata": {
    "execution": {
     "iopub.execute_input": "2020-12-20T23:29:43.752153Z",
     "iopub.status.busy": "2020-12-20T23:29:43.751671Z",
     "iopub.status.idle": "2020-12-20T23:29:43.753424Z",
     "shell.execute_reply": "2020-12-20T23:29:43.753799Z"
    },
    "papermill": {
     "duration": 0.053315,
     "end_time": "2020-12-20T23:29:43.753932",
     "exception": false,
     "start_time": "2020-12-20T23:29:43.700617",
     "status": "completed"
    },
    "tags": []
   },
   "outputs": [],
   "source": [
    "import glob\n",
    "\n",
    "def load_extracted_teks(mode, region=None, limit=None) -> pd.DataFrame:\n",
    "    extracted_teks_df = pd.DataFrame(columns=[\"region\"])\n",
    "    file_paths = list(reversed(sorted(glob.glob(tek_list_path_prefix + mode + \"/RadarCOVID-TEKs-*.json\"))))\n",
    "    if limit:\n",
    "        file_paths = file_paths[:limit]\n",
    "    for file_path in file_paths:\n",
    "        logging.info(f\"Loading TEKs from '{file_path}'...\")\n",
    "        iteration_extracted_teks_df = pd.read_json(file_path, lines=True)\n",
    "        extracted_teks_df = extracted_teks_df.append(\n",
    "            iteration_extracted_teks_df, sort=False)\n",
    "    extracted_teks_df[\"region\"] = \\\n",
    "        extracted_teks_df.region.fillna(spain_region_country_code).copy()\n",
    "    if region:\n",
    "        extracted_teks_df = \\\n",
    "            extracted_teks_df[extracted_teks_df.region == region]\n",
    "    return extracted_teks_df"
   ]
  },
  {
   "cell_type": "code",
   "execution_count": 29,
   "metadata": {
    "collapsed": false,
    "execution": {
     "iopub.execute_input": "2020-12-20T23:29:43.850481Z",
     "iopub.status.busy": "2020-12-20T23:29:43.850025Z",
     "iopub.status.idle": "2020-12-20T23:30:07.943222Z",
     "shell.execute_reply": "2020-12-20T23:30:07.942815Z"
    },
    "papermill": {
     "duration": 24.144101,
     "end_time": "2020-12-20T23:30:07.943352",
     "exception": false,
     "start_time": "2020-12-20T23:29:43.799251",
     "status": "completed"
    },
    "pycharm": {
     "name": "#%%\n"
    },
    "tags": []
   },
   "outputs": [
    {
     "data": {
      "text/html": [
       "<div>\n",
       "<style scoped>\n",
       "    .dataframe tbody tr th:only-of-type {\n",
       "        vertical-align: middle;\n",
       "    }\n",
       "\n",
       "    .dataframe tbody tr th {\n",
       "        vertical-align: top;\n",
       "    }\n",
       "\n",
       "    .dataframe thead th {\n",
       "        text-align: right;\n",
       "    }\n",
       "</style>\n",
       "<table border=\"1\" class=\"dataframe\">\n",
       "  <thead>\n",
       "    <tr style=\"text-align: right;\">\n",
       "      <th></th>\n",
       "      <th>region</th>\n",
       "      <th>sample_date</th>\n",
       "      <th>tek_list</th>\n",
       "      <th>extraction_date</th>\n",
       "    </tr>\n",
       "  </thead>\n",
       "  <tbody>\n",
       "    <tr>\n",
       "      <th>3</th>\n",
       "      <td>ES</td>\n",
       "      <td>2020-12-07</td>\n",
       "      <td>[63d05354-bc8d-d4d1-808f-d8326cf02a93, 0644607...</td>\n",
       "      <td>2020-12-20</td>\n",
       "    </tr>\n",
       "    <tr>\n",
       "      <th>10</th>\n",
       "      <td>ES</td>\n",
       "      <td>2020-12-08</td>\n",
       "      <td>[54586dfc-ea45-2d4b-06bb-79d369a5a433, ff39368...</td>\n",
       "      <td>2020-12-20</td>\n",
       "    </tr>\n",
       "    <tr>\n",
       "      <th>17</th>\n",
       "      <td>ES</td>\n",
       "      <td>2020-12-09</td>\n",
       "      <td>[e35126bb-b7d0-a6a7-08d9-9abbf5a5ca30, b7de6c1...</td>\n",
       "      <td>2020-12-20</td>\n",
       "    </tr>\n",
       "    <tr>\n",
       "      <th>24</th>\n",
       "      <td>ES</td>\n",
       "      <td>2020-12-10</td>\n",
       "      <td>[c2044634-7c0f-06cf-91ee-371260459fe2, cd034aa...</td>\n",
       "      <td>2020-12-20</td>\n",
       "    </tr>\n",
       "    <tr>\n",
       "      <th>31</th>\n",
       "      <td>ES</td>\n",
       "      <td>2020-12-11</td>\n",
       "      <td>[f4eb61ef-cc7d-e247-92f1-461742daf20f, 31c6d86...</td>\n",
       "      <td>2020-12-20</td>\n",
       "    </tr>\n",
       "  </tbody>\n",
       "</table>\n",
       "</div>"
      ],
      "text/plain": [
       "   region sample_date                                           tek_list  \\\n",
       "3      ES  2020-12-07  [63d05354-bc8d-d4d1-808f-d8326cf02a93, 0644607...   \n",
       "10     ES  2020-12-08  [54586dfc-ea45-2d4b-06bb-79d369a5a433, ff39368...   \n",
       "17     ES  2020-12-09  [e35126bb-b7d0-a6a7-08d9-9abbf5a5ca30, b7de6c1...   \n",
       "24     ES  2020-12-10  [c2044634-7c0f-06cf-91ee-371260459fe2, cd034aa...   \n",
       "31     ES  2020-12-11  [f4eb61ef-cc7d-e247-92f1-461742daf20f, 31c6d86...   \n",
       "\n",
       "   extraction_date  \n",
       "3       2020-12-20  \n",
       "10      2020-12-20  \n",
       "17      2020-12-20  \n",
       "24      2020-12-20  \n",
       "31      2020-12-20  "
      ]
     },
     "execution_count": 29,
     "metadata": {},
     "output_type": "execute_result"
    }
   ],
   "source": [
    "daily_extracted_teks_df = load_extracted_teks(\n",
    "    mode=\"Daily\",\n",
    "    region=report_backend_identifier,\n",
    "    limit=tek_dumps_load_limit)\n",
    "daily_extracted_teks_df.head()"
   ]
  },
  {
   "cell_type": "code",
   "execution_count": 30,
   "metadata": {
    "collapsed": false,
    "execution": {
     "iopub.execute_input": "2020-12-20T23:30:08.068683Z",
     "iopub.status.busy": "2020-12-20T23:30:08.068179Z",
     "iopub.status.idle": "2020-12-20T23:30:08.093084Z",
     "shell.execute_reply": "2020-12-20T23:30:08.093488Z"
    },
    "papermill": {
     "duration": 0.077276,
     "end_time": "2020-12-20T23:30:08.093631",
     "exception": false,
     "start_time": "2020-12-20T23:30:08.016355",
     "status": "completed"
    },
    "pycharm": {
     "name": "#%%\n"
    },
    "tags": []
   },
   "outputs": [
    {
     "data": {
      "text/html": [
       "<div>\n",
       "<style scoped>\n",
       "    .dataframe tbody tr th:only-of-type {\n",
       "        vertical-align: middle;\n",
       "    }\n",
       "\n",
       "    .dataframe tbody tr th {\n",
       "        vertical-align: top;\n",
       "    }\n",
       "\n",
       "    .dataframe thead th {\n",
       "        text-align: right;\n",
       "    }\n",
       "</style>\n",
       "<table border=\"1\" class=\"dataframe\">\n",
       "  <thead>\n",
       "    <tr style=\"text-align: right;\">\n",
       "      <th></th>\n",
       "      <th>shared_teks_by_generation_date</th>\n",
       "    </tr>\n",
       "    <tr>\n",
       "      <th>sample_date_string</th>\n",
       "      <th></th>\n",
       "    </tr>\n",
       "  </thead>\n",
       "  <tbody>\n",
       "    <tr>\n",
       "      <th>2020-12-20</th>\n",
       "      <td>665</td>\n",
       "    </tr>\n",
       "    <tr>\n",
       "      <th>2020-12-19</th>\n",
       "      <td>5585</td>\n",
       "    </tr>\n",
       "    <tr>\n",
       "      <th>2020-12-18</th>\n",
       "      <td>10030</td>\n",
       "    </tr>\n",
       "    <tr>\n",
       "      <th>2020-12-17</th>\n",
       "      <td>15176</td>\n",
       "    </tr>\n",
       "    <tr>\n",
       "      <th>2020-12-16</th>\n",
       "      <td>20253</td>\n",
       "    </tr>\n",
       "  </tbody>\n",
       "</table>\n",
       "</div>"
      ],
      "text/plain": [
       "                    shared_teks_by_generation_date\n",
       "sample_date_string                                \n",
       "2020-12-20                                     665\n",
       "2020-12-19                                    5585\n",
       "2020-12-18                                   10030\n",
       "2020-12-17                                   15176\n",
       "2020-12-16                                   20253"
      ]
     },
     "execution_count": 30,
     "metadata": {},
     "output_type": "execute_result"
    }
   ],
   "source": [
    "exposure_keys_summary_df_ = daily_extracted_teks_df \\\n",
    "    .sort_values(\"extraction_date\", ascending=False) \\\n",
    "    .groupby(\"sample_date\").tek_list.first() \\\n",
    "    .to_frame()\n",
    "exposure_keys_summary_df_.index.name = \"sample_date_string\"\n",
    "exposure_keys_summary_df_[\"tek_list\"] = \\\n",
    "    exposure_keys_summary_df_.tek_list.apply(len)\n",
    "exposure_keys_summary_df_ = exposure_keys_summary_df_ \\\n",
    "    .rename(columns={\"tek_list\": \"shared_teks_by_generation_date\"}) \\\n",
    "    .sort_index(ascending=False)\n",
    "exposure_keys_summary_df = exposure_keys_summary_df_\n",
    "exposure_keys_summary_df.head()"
   ]
  },
  {
   "cell_type": "markdown",
   "metadata": {
    "execution": {
     "iopub.execute_input": "2020-08-30T22:30:16.632967Z",
     "iopub.status.busy": "2020-08-30T22:30:16.632308Z",
     "iopub.status.idle": "2020-08-30T22:30:16.634945Z",
     "shell.execute_reply": "2020-08-30T22:30:16.635575Z"
    },
    "papermill": {
     "duration": 0.046512,
     "end_time": "2020-12-20T23:30:08.186685",
     "exception": false,
     "start_time": "2020-12-20T23:30:08.140173",
     "status": "completed"
    },
    "pycharm": {
     "name": "#%% md\n"
    },
    "tags": []
   },
   "source": [
    "### Daily New TEKs"
   ]
  },
  {
   "cell_type": "code",
   "execution_count": 31,
   "metadata": {
    "execution": {
     "iopub.execute_input": "2020-12-20T23:30:08.294779Z",
     "iopub.status.busy": "2020-12-20T23:30:08.284245Z",
     "iopub.status.idle": "2020-12-20T23:30:10.468008Z",
     "shell.execute_reply": "2020-12-20T23:30:10.468387Z"
    },
    "papermill": {
     "duration": 2.235688,
     "end_time": "2020-12-20T23:30:10.468540",
     "exception": false,
     "start_time": "2020-12-20T23:30:08.232852",
     "status": "completed"
    },
    "tags": []
   },
   "outputs": [
    {
     "data": {
      "text/html": [
       "<div>\n",
       "<style scoped>\n",
       "    .dataframe tbody tr th:only-of-type {\n",
       "        vertical-align: middle;\n",
       "    }\n",
       "\n",
       "    .dataframe tbody tr th {\n",
       "        vertical-align: top;\n",
       "    }\n",
       "\n",
       "    .dataframe thead th {\n",
       "        text-align: right;\n",
       "    }\n",
       "</style>\n",
       "<table border=\"1\" class=\"dataframe\">\n",
       "  <thead>\n",
       "    <tr style=\"text-align: right;\">\n",
       "      <th></th>\n",
       "      <th>tek_list</th>\n",
       "    </tr>\n",
       "    <tr>\n",
       "      <th>extraction_date</th>\n",
       "      <th></th>\n",
       "    </tr>\n",
       "  </thead>\n",
       "  <tbody>\n",
       "    <tr>\n",
       "      <th>2020-09-27</th>\n",
       "      <td>{b7cd7155-e09b-1dd1-b4cd-c8227ff948d5, 0a59f8d...</td>\n",
       "    </tr>\n",
       "    <tr>\n",
       "      <th>2020-09-28</th>\n",
       "      <td>{b7cd7155-e09b-1dd1-b4cd-c8227ff948d5, 0a59f8d...</td>\n",
       "    </tr>\n",
       "    <tr>\n",
       "      <th>2020-09-29</th>\n",
       "      <td>{b7cd7155-e09b-1dd1-b4cd-c8227ff948d5, 0a59f8d...</td>\n",
       "    </tr>\n",
       "    <tr>\n",
       "      <th>2020-09-30</th>\n",
       "      <td>{0a59f8d6-46e9-0345-b31e-822d4a656246, 7bdf0c1...</td>\n",
       "    </tr>\n",
       "    <tr>\n",
       "      <th>2020-10-01</th>\n",
       "      <td>{0a59f8d6-46e9-0345-b31e-822d4a656246, 7bdf0c1...</td>\n",
       "    </tr>\n",
       "  </tbody>\n",
       "</table>\n",
       "</div>"
      ],
      "text/plain": [
       "                                                          tek_list\n",
       "extraction_date                                                   \n",
       "2020-09-27       {b7cd7155-e09b-1dd1-b4cd-c8227ff948d5, 0a59f8d...\n",
       "2020-09-28       {b7cd7155-e09b-1dd1-b4cd-c8227ff948d5, 0a59f8d...\n",
       "2020-09-29       {b7cd7155-e09b-1dd1-b4cd-c8227ff948d5, 0a59f8d...\n",
       "2020-09-30       {0a59f8d6-46e9-0345-b31e-822d4a656246, 7bdf0c1...\n",
       "2020-10-01       {0a59f8d6-46e9-0345-b31e-822d4a656246, 7bdf0c1..."
      ]
     },
     "execution_count": 31,
     "metadata": {},
     "output_type": "execute_result"
    }
   ],
   "source": [
    "tek_list_df = daily_extracted_teks_df.groupby(\"extraction_date\").tek_list.apply(\n",
    "    lambda x: set(sum(x, []))).reset_index()\n",
    "tek_list_df = tek_list_df.set_index(\"extraction_date\").sort_index(ascending=True)\n",
    "tek_list_df.head()"
   ]
  },
  {
   "cell_type": "code",
   "execution_count": 32,
   "metadata": {
    "collapsed": false,
    "execution": {
     "iopub.execute_input": "2020-12-20T23:30:10.571438Z",
     "iopub.status.busy": "2020-12-20T23:30:10.570956Z",
     "iopub.status.idle": "2020-12-20T23:32:05.540125Z",
     "shell.execute_reply": "2020-12-20T23:32:05.540532Z"
    },
    "papermill": {
     "duration": 115.024701,
     "end_time": "2020-12-20T23:32:05.540678",
     "exception": false,
     "start_time": "2020-12-20T23:30:10.515977",
     "status": "completed"
    },
    "pycharm": {
     "name": "#%%\n"
    },
    "tags": []
   },
   "outputs": [
    {
     "name": "stderr",
     "output_type": "stream",
     "text": [
      "<ipython-input-32-827222b35590>:4: FutureWarning: `item` has been deprecated and will be removed in a future version\n",
      "  day_new_teks_set = day_new_teks_set_df[\n"
     ]
    },
    {
     "data": {
      "text/html": [
       "<div>\n",
       "<style scoped>\n",
       "    .dataframe tbody tr th:only-of-type {\n",
       "        vertical-align: middle;\n",
       "    }\n",
       "\n",
       "    .dataframe tbody tr th {\n",
       "        vertical-align: top;\n",
       "    }\n",
       "\n",
       "    .dataframe thead th {\n",
       "        text-align: right;\n",
       "    }\n",
       "</style>\n",
       "<table border=\"1\" class=\"dataframe\">\n",
       "  <thead>\n",
       "    <tr style=\"text-align: right;\">\n",
       "      <th></th>\n",
       "      <th>upload_date</th>\n",
       "      <th>generation_date</th>\n",
       "      <th>shared_teks</th>\n",
       "      <th>generation_to_upload_days</th>\n",
       "    </tr>\n",
       "  </thead>\n",
       "  <tbody>\n",
       "    <tr>\n",
       "      <th>12</th>\n",
       "      <td>2020-09-28</td>\n",
       "      <td>2020-09-27</td>\n",
       "      <td>54</td>\n",
       "      <td>1</td>\n",
       "    </tr>\n",
       "    <tr>\n",
       "      <th>11</th>\n",
       "      <td>2020-09-28</td>\n",
       "      <td>2020-09-26</td>\n",
       "      <td>29</td>\n",
       "      <td>2</td>\n",
       "    </tr>\n",
       "    <tr>\n",
       "      <th>10</th>\n",
       "      <td>2020-09-28</td>\n",
       "      <td>2020-09-25</td>\n",
       "      <td>29</td>\n",
       "      <td>3</td>\n",
       "    </tr>\n",
       "    <tr>\n",
       "      <th>9</th>\n",
       "      <td>2020-09-28</td>\n",
       "      <td>2020-09-24</td>\n",
       "      <td>29</td>\n",
       "      <td>4</td>\n",
       "    </tr>\n",
       "    <tr>\n",
       "      <th>8</th>\n",
       "      <td>2020-09-28</td>\n",
       "      <td>2020-09-23</td>\n",
       "      <td>26</td>\n",
       "      <td>5</td>\n",
       "    </tr>\n",
       "  </tbody>\n",
       "</table>\n",
       "</div>"
      ],
      "text/plain": [
       "   upload_date generation_date  shared_teks  generation_to_upload_days\n",
       "12  2020-09-28      2020-09-27           54                          1\n",
       "11  2020-09-28      2020-09-26           29                          2\n",
       "10  2020-09-28      2020-09-25           29                          3\n",
       "9   2020-09-28      2020-09-24           29                          4\n",
       "8   2020-09-28      2020-09-23           26                          5"
      ]
     },
     "execution_count": 32,
     "metadata": {},
     "output_type": "execute_result"
    }
   ],
   "source": [
    "def compute_teks_by_generation_and_upload_date(date):\n",
    "    day_new_teks_set_df = tek_list_df.copy().diff()\n",
    "    try:\n",
    "        day_new_teks_set = day_new_teks_set_df[\n",
    "            day_new_teks_set_df.index == date].tek_list.item()\n",
    "    except ValueError:\n",
    "        day_new_teks_set = None\n",
    "    if pd.isna(day_new_teks_set):\n",
    "        day_new_teks_set = set()\n",
    "    day_new_teks_df = daily_extracted_teks_df[\n",
    "        daily_extracted_teks_df.extraction_date == date].copy()\n",
    "    day_new_teks_df[\"shared_teks\"] = \\\n",
    "        day_new_teks_df.tek_list.apply(lambda x: set(x).intersection(day_new_teks_set))\n",
    "    day_new_teks_df[\"shared_teks\"] = \\\n",
    "        day_new_teks_df.shared_teks.apply(len)\n",
    "    day_new_teks_df[\"upload_date\"] = date\n",
    "    day_new_teks_df.rename(columns={\"sample_date\": \"generation_date\"}, inplace=True)\n",
    "    day_new_teks_df = day_new_teks_df[\n",
    "        [\"upload_date\", \"generation_date\", \"shared_teks\"]]\n",
    "    day_new_teks_df[\"generation_to_upload_days\"] = \\\n",
    "        (pd.to_datetime(day_new_teks_df.upload_date) -\n",
    "         pd.to_datetime(day_new_teks_df.generation_date)).dt.days\n",
    "    day_new_teks_df = day_new_teks_df[day_new_teks_df.shared_teks > 0]\n",
    "    return day_new_teks_df\n",
    "\n",
    "shared_teks_generation_to_upload_df = pd.DataFrame()\n",
    "for upload_date in daily_extracted_teks_df.extraction_date.unique():\n",
    "    shared_teks_generation_to_upload_df = \\\n",
    "        shared_teks_generation_to_upload_df.append(\n",
    "            compute_teks_by_generation_and_upload_date(date=upload_date))\n",
    "shared_teks_generation_to_upload_df \\\n",
    "    .sort_values([\"upload_date\", \"generation_date\"], ascending=False, inplace=True)\n",
    "shared_teks_generation_to_upload_df.tail()"
   ]
  },
  {
   "cell_type": "code",
   "execution_count": 33,
   "metadata": {
    "collapsed": false,
    "execution": {
     "iopub.execute_input": "2020-12-20T23:32:05.646107Z",
     "iopub.status.busy": "2020-12-20T23:32:05.645612Z",
     "iopub.status.idle": "2020-12-20T23:32:05.648478Z",
     "shell.execute_reply": "2020-12-20T23:32:05.648007Z"
    },
    "papermill": {
     "duration": 0.060358,
     "end_time": "2020-12-20T23:32:05.648585",
     "exception": false,
     "start_time": "2020-12-20T23:32:05.588227",
     "status": "completed"
    },
    "pycharm": {
     "name": "#%%\n"
    },
    "tags": []
   },
   "outputs": [
    {
     "data": {
      "text/html": [
       "<div>\n",
       "<style scoped>\n",
       "    .dataframe tbody tr th:only-of-type {\n",
       "        vertical-align: middle;\n",
       "    }\n",
       "\n",
       "    .dataframe tbody tr th {\n",
       "        vertical-align: top;\n",
       "    }\n",
       "\n",
       "    .dataframe thead th {\n",
       "        text-align: right;\n",
       "    }\n",
       "</style>\n",
       "<table border=\"1\" class=\"dataframe\">\n",
       "  <thead>\n",
       "    <tr style=\"text-align: right;\">\n",
       "      <th></th>\n",
       "      <th>upload_date</th>\n",
       "      <th>generation_date</th>\n",
       "      <th>shared_teks</th>\n",
       "      <th>generation_to_upload_days</th>\n",
       "    </tr>\n",
       "  </thead>\n",
       "  <tbody>\n",
       "    <tr>\n",
       "      <th>31</th>\n",
       "      <td>2020-12-20</td>\n",
       "      <td>2020-12-11</td>\n",
       "      <td>5806</td>\n",
       "      <td>9</td>\n",
       "    </tr>\n",
       "    <tr>\n",
       "      <th>24</th>\n",
       "      <td>2020-12-20</td>\n",
       "      <td>2020-12-10</td>\n",
       "      <td>5584</td>\n",
       "      <td>10</td>\n",
       "    </tr>\n",
       "    <tr>\n",
       "      <th>17</th>\n",
       "      <td>2020-12-20</td>\n",
       "      <td>2020-12-09</td>\n",
       "      <td>5429</td>\n",
       "      <td>11</td>\n",
       "    </tr>\n",
       "    <tr>\n",
       "      <th>10</th>\n",
       "      <td>2020-12-20</td>\n",
       "      <td>2020-12-08</td>\n",
       "      <td>5309</td>\n",
       "      <td>12</td>\n",
       "    </tr>\n",
       "    <tr>\n",
       "      <th>3</th>\n",
       "      <td>2020-12-20</td>\n",
       "      <td>2020-12-07</td>\n",
       "      <td>5290</td>\n",
       "      <td>13</td>\n",
       "    </tr>\n",
       "  </tbody>\n",
       "</table>\n",
       "</div>"
      ],
      "text/plain": [
       "   upload_date generation_date  shared_teks  generation_to_upload_days\n",
       "31  2020-12-20      2020-12-11         5806                          9\n",
       "24  2020-12-20      2020-12-10         5584                         10\n",
       "17  2020-12-20      2020-12-09         5429                         11\n",
       "10  2020-12-20      2020-12-08         5309                         12\n",
       "3   2020-12-20      2020-12-07         5290                         13"
      ]
     },
     "execution_count": 33,
     "metadata": {},
     "output_type": "execute_result"
    }
   ],
   "source": [
    "today_new_teks_df = \\\n",
    "    shared_teks_generation_to_upload_df[\n",
    "        shared_teks_generation_to_upload_df.upload_date == extraction_date].copy()\n",
    "today_new_teks_df.tail()"
   ]
  },
  {
   "cell_type": "code",
   "execution_count": 34,
   "metadata": {
    "collapsed": false,
    "execution": {
     "iopub.execute_input": "2020-12-20T23:32:05.750331Z",
     "iopub.status.busy": "2020-12-20T23:32:05.749856Z",
     "iopub.status.idle": "2020-12-20T23:32:06.731417Z",
     "shell.execute_reply": "2020-12-20T23:32:06.731787Z"
    },
    "papermill": {
     "duration": 1.034914,
     "end_time": "2020-12-20T23:32:06.731927",
     "exception": false,
     "start_time": "2020-12-20T23:32:05.697013",
     "status": "completed"
    },
    "pycharm": {
     "name": "#%%\n"
    },
    "tags": []
   },
   "outputs": [
    {
     "data": {
      "image/png": "[encoded data removed]",
      "text/plain": [
       "<Figure size 1080x432 with 1 Axes>"
      ]
     },
     "metadata": {},
     "output_type": "display_data"
    }
   ],
   "source": [
    "if not today_new_teks_df.empty:\n",
    "    today_new_teks_df.set_index(\"generation_to_upload_days\") \\\n",
    "        .sort_index().shared_teks.plot.bar()"
   ]
  },
  {
   "cell_type": "code",
   "execution_count": 35,
   "metadata": {
    "collapsed": false,
    "execution": {
     "iopub.execute_input": "2020-12-20T23:32:06.835311Z",
     "iopub.status.busy": "2020-12-20T23:32:06.834838Z",
     "iopub.status.idle": "2020-12-20T23:32:06.848778Z",
     "shell.execute_reply": "2020-12-20T23:32:06.849123Z"
    },
    "papermill": {
     "duration": 0.068434,
     "end_time": "2020-12-20T23:32:06.849264",
     "exception": false,
     "start_time": "2020-12-20T23:32:06.780830",
     "status": "completed"
    },
    "pycharm": {
     "name": "#%%\n"
    },
    "tags": []
   },
   "outputs": [
    {
     "data": {
      "text/html": [
       "<div>\n",
       "<style scoped>\n",
       "    .dataframe tbody tr th:only-of-type {\n",
       "        vertical-align: middle;\n",
       "    }\n",
       "\n",
       "    .dataframe tbody tr th {\n",
       "        vertical-align: top;\n",
       "    }\n",
       "\n",
       "    .dataframe thead th {\n",
       "        text-align: right;\n",
       "    }\n",
       "</style>\n",
       "<table border=\"1\" class=\"dataframe\">\n",
       "  <thead>\n",
       "    <tr style=\"text-align: right;\">\n",
       "      <th>generation_to_upload_days</th>\n",
       "      <th>0</th>\n",
       "      <th>1</th>\n",
       "      <th>2</th>\n",
       "      <th>3</th>\n",
       "      <th>4</th>\n",
       "      <th>5</th>\n",
       "      <th>6</th>\n",
       "      <th>7</th>\n",
       "      <th>8</th>\n",
       "      <th>9</th>\n",
       "      <th>10</th>\n",
       "      <th>11</th>\n",
       "      <th>12</th>\n",
       "      <th>13</th>\n",
       "    </tr>\n",
       "    <tr>\n",
       "      <th>upload_date</th>\n",
       "      <th></th>\n",
       "      <th></th>\n",
       "      <th></th>\n",
       "      <th></th>\n",
       "      <th></th>\n",
       "      <th></th>\n",
       "      <th></th>\n",
       "      <th></th>\n",
       "      <th></th>\n",
       "      <th></th>\n",
       "      <th></th>\n",
       "      <th></th>\n",
       "      <th></th>\n",
       "      <th></th>\n",
       "    </tr>\n",
       "  </thead>\n",
       "  <tbody>\n",
       "    <tr>\n",
       "      <th>2020-12-20</th>\n",
       "      <td>665</td>\n",
       "      <td>5436</td>\n",
       "      <td>9188</td>\n",
       "      <td>9881</td>\n",
       "      <td>9211</td>\n",
       "      <td>8556</td>\n",
       "      <td>7707</td>\n",
       "      <td>6795</td>\n",
       "      <td>6168</td>\n",
       "      <td>5806</td>\n",
       "      <td>5584</td>\n",
       "      <td>5429</td>\n",
       "      <td>5309</td>\n",
       "      <td>5290</td>\n",
       "    </tr>\n",
       "    <tr>\n",
       "      <th>2020-12-19</th>\n",
       "      <td>149</td>\n",
       "      <td>487</td>\n",
       "      <td>135</td>\n",
       "      <td>125</td>\n",
       "      <td>93</td>\n",
       "      <td>69</td>\n",
       "      <td>37</td>\n",
       "      <td>23</td>\n",
       "      <td>15</td>\n",
       "      <td>14</td>\n",
       "      <td>10</td>\n",
       "      <td>0</td>\n",
       "      <td>0</td>\n",
       "      <td>0</td>\n",
       "    </tr>\n",
       "    <tr>\n",
       "      <th>2020-12-18</th>\n",
       "      <td>355</td>\n",
       "      <td>4865</td>\n",
       "      <td>7467</td>\n",
       "      <td>7802</td>\n",
       "      <td>7851</td>\n",
       "      <td>7396</td>\n",
       "      <td>6649</td>\n",
       "      <td>5827</td>\n",
       "      <td>5174</td>\n",
       "      <td>4561</td>\n",
       "      <td>4162</td>\n",
       "      <td>3943</td>\n",
       "      <td>3812</td>\n",
       "      <td>3745</td>\n",
       "    </tr>\n",
       "    <tr>\n",
       "      <th>2020-12-17</th>\n",
       "      <td>295</td>\n",
       "      <td>3151</td>\n",
       "      <td>4690</td>\n",
       "      <td>4367</td>\n",
       "      <td>4188</td>\n",
       "      <td>4019</td>\n",
       "      <td>3937</td>\n",
       "      <td>3852</td>\n",
       "      <td>3771</td>\n",
       "      <td>3739</td>\n",
       "      <td>3697</td>\n",
       "      <td>3654</td>\n",
       "      <td>3626</td>\n",
       "      <td>3585</td>\n",
       "    </tr>\n",
       "    <tr>\n",
       "      <th>2020-12-16</th>\n",
       "      <td>299</td>\n",
       "      <td>2890</td>\n",
       "      <td>5725</td>\n",
       "      <td>5143</td>\n",
       "      <td>5009</td>\n",
       "      <td>4906</td>\n",
       "      <td>4708</td>\n",
       "      <td>4637</td>\n",
       "      <td>4542</td>\n",
       "      <td>4432</td>\n",
       "      <td>4349</td>\n",
       "      <td>4345</td>\n",
       "      <td>4259</td>\n",
       "      <td>4236</td>\n",
       "    </tr>\n",
       "  </tbody>\n",
       "</table>\n",
       "</div>"
      ],
      "text/plain": [
       "generation_to_upload_days   0     1     2     3     4     5     6     7   \\\n",
       "upload_date                                                                \n",
       "2020-12-20                 665  5436  9188  9881  9211  8556  7707  6795   \n",
       "2020-12-19                 149   487   135   125    93    69    37    23   \n",
       "2020-12-18                 355  4865  7467  7802  7851  7396  6649  5827   \n",
       "2020-12-17                 295  3151  4690  4367  4188  4019  3937  3852   \n",
       "2020-12-16                 299  2890  5725  5143  5009  4906  4708  4637   \n",
       "\n",
       "generation_to_upload_days    8     9     10    11    12    13  \n",
       "upload_date                                                    \n",
       "2020-12-20                 6168  5806  5584  5429  5309  5290  \n",
       "2020-12-19                   15    14    10     0     0     0  \n",
       "2020-12-18                 5174  4561  4162  3943  3812  3745  \n",
       "2020-12-17                 3771  3739  3697  3654  3626  3585  \n",
       "2020-12-16                 4542  4432  4349  4345  4259  4236  "
      ]
     },
     "execution_count": 35,
     "metadata": {},
     "output_type": "execute_result"
    }
   ],
   "source": [
    "generation_to_upload_period_pivot_df = \\\n",
    "    shared_teks_generation_to_upload_df[\n",
    "        [\"upload_date\", \"generation_to_upload_days\", \"shared_teks\"]] \\\n",
    "        .pivot(index=\"upload_date\", columns=\"generation_to_upload_days\") \\\n",
    "        .sort_index(ascending=False).fillna(0).astype(int) \\\n",
    "        .droplevel(level=0, axis=1)\n",
    "generation_to_upload_period_pivot_df.head()"
   ]
  },
  {
   "cell_type": "code",
   "execution_count": 36,
   "metadata": {
    "collapsed": false,
    "execution": {
     "iopub.execute_input": "2020-12-20T23:32:08.300075Z",
     "iopub.status.busy": "2020-12-20T23:32:08.299409Z",
     "iopub.status.idle": "2020-12-20T23:32:08.303628Z",
     "shell.execute_reply": "2020-12-20T23:32:08.303973Z"
    },
    "papermill": {
     "duration": 1.405986,
     "end_time": "2020-12-20T23:32:08.304128",
     "exception": false,
     "start_time": "2020-12-20T23:32:06.898142",
     "status": "completed"
    },
    "pycharm": {
     "name": "#%%\n"
    },
    "tags": []
   },
   "outputs": [
    {
     "data": {
      "text/html": [
       "<div>\n",
       "<style scoped>\n",
       "    .dataframe tbody tr th:only-of-type {\n",
       "        vertical-align: middle;\n",
       "    }\n",
       "\n",
       "    .dataframe tbody tr th {\n",
       "        vertical-align: top;\n",
       "    }\n",
       "\n",
       "    .dataframe thead th {\n",
       "        text-align: right;\n",
       "    }\n",
       "</style>\n",
       "<table border=\"1\" class=\"dataframe\">\n",
       "  <thead>\n",
       "    <tr style=\"text-align: right;\">\n",
       "      <th></th>\n",
       "      <th>sample_date_string</th>\n",
       "      <th>shared_teks_by_upload_date</th>\n",
       "    </tr>\n",
       "  </thead>\n",
       "  <tbody>\n",
       "    <tr>\n",
       "      <th>80</th>\n",
       "      <td>2020-12-16</td>\n",
       "      <td>59480.0</td>\n",
       "    </tr>\n",
       "    <tr>\n",
       "      <th>81</th>\n",
       "      <td>2020-12-17</td>\n",
       "      <td>50571.0</td>\n",
       "    </tr>\n",
       "    <tr>\n",
       "      <th>82</th>\n",
       "      <td>2020-12-18</td>\n",
       "      <td>73609.0</td>\n",
       "    </tr>\n",
       "    <tr>\n",
       "      <th>83</th>\n",
       "      <td>2020-12-19</td>\n",
       "      <td>1157.0</td>\n",
       "    </tr>\n",
       "    <tr>\n",
       "      <th>84</th>\n",
       "      <td>2020-12-20</td>\n",
       "      <td>91025.0</td>\n",
       "    </tr>\n",
       "  </tbody>\n",
       "</table>\n",
       "</div>"
      ],
      "text/plain": [
       "   sample_date_string  shared_teks_by_upload_date\n",
       "80         2020-12-16                     59480.0\n",
       "81         2020-12-17                     50571.0\n",
       "82         2020-12-18                     73609.0\n",
       "83         2020-12-19                      1157.0\n",
       "84         2020-12-20                     91025.0"
      ]
     },
     "execution_count": 36,
     "metadata": {},
     "output_type": "execute_result"
    }
   ],
   "source": [
    "new_tek_df = tek_list_df.diff().tek_list.apply(\n",
    "    lambda x: len(x) if not pd.isna(x) else None).to_frame().reset_index()\n",
    "new_tek_df.rename(columns={\n",
    "    \"tek_list\": \"shared_teks_by_upload_date\",\n",
    "    \"extraction_date\": \"sample_date_string\",}, inplace=True)\n",
    "new_tek_df.tail()"
   ]
  },
  {
   "cell_type": "code",
   "execution_count": 37,
   "metadata": {
    "collapsed": false,
    "execution": {
     "iopub.execute_input": "2020-12-20T23:32:08.413948Z",
     "iopub.status.busy": "2020-12-20T23:32:08.410404Z",
     "iopub.status.idle": "2020-12-20T23:32:08.416715Z",
     "shell.execute_reply": "2020-12-20T23:32:08.416338Z"
    },
    "papermill": {
     "duration": 0.062756,
     "end_time": "2020-12-20T23:32:08.416826",
     "exception": false,
     "start_time": "2020-12-20T23:32:08.354070",
     "status": "completed"
    },
    "pycharm": {
     "name": "#%%\n"
    },
    "tags": []
   },
   "outputs": [
    {
     "data": {
      "text/html": [
       "<div>\n",
       "<style scoped>\n",
       "    .dataframe tbody tr th:only-of-type {\n",
       "        vertical-align: middle;\n",
       "    }\n",
       "\n",
       "    .dataframe tbody tr th {\n",
       "        vertical-align: top;\n",
       "    }\n",
       "\n",
       "    .dataframe thead th {\n",
       "        text-align: right;\n",
       "    }\n",
       "</style>\n",
       "<table border=\"1\" class=\"dataframe\">\n",
       "  <thead>\n",
       "    <tr style=\"text-align: right;\">\n",
       "      <th></th>\n",
       "      <th>sample_date_string</th>\n",
       "      <th>shared_teks_uploaded_on_generation_date</th>\n",
       "    </tr>\n",
       "  </thead>\n",
       "  <tbody>\n",
       "    <tr>\n",
       "      <th>92</th>\n",
       "      <td>2020-12-20</td>\n",
       "      <td>665</td>\n",
       "    </tr>\n",
       "    <tr>\n",
       "      <th>92</th>\n",
       "      <td>2020-12-19</td>\n",
       "      <td>149</td>\n",
       "    </tr>\n",
       "    <tr>\n",
       "      <th>92</th>\n",
       "      <td>2020-12-18</td>\n",
       "      <td>355</td>\n",
       "    </tr>\n",
       "    <tr>\n",
       "      <th>92</th>\n",
       "      <td>2020-12-17</td>\n",
       "      <td>295</td>\n",
       "    </tr>\n",
       "    <tr>\n",
       "      <th>92</th>\n",
       "      <td>2020-12-16</td>\n",
       "      <td>299</td>\n",
       "    </tr>\n",
       "  </tbody>\n",
       "</table>\n",
       "</div>"
      ],
      "text/plain": [
       "   sample_date_string  shared_teks_uploaded_on_generation_date\n",
       "92         2020-12-20                                      665\n",
       "92         2020-12-19                                      149\n",
       "92         2020-12-18                                      355\n",
       "92         2020-12-17                                      295\n",
       "92         2020-12-16                                      299"
      ]
     },
     "execution_count": 37,
     "metadata": {},
     "output_type": "execute_result"
    }
   ],
   "source": [
    "shared_teks_uploaded_on_generation_date_df = shared_teks_generation_to_upload_df[\n",
    "    shared_teks_generation_to_upload_df.generation_to_upload_days == 0] \\\n",
    "    [[\"upload_date\", \"shared_teks\"]].rename(\n",
    "    columns={\n",
    "        \"upload_date\": \"sample_date_string\",\n",
    "        \"shared_teks\": \"shared_teks_uploaded_on_generation_date\",\n",
    "    })\n",
    "shared_teks_uploaded_on_generation_date_df.head()"
   ]
  },
  {
   "cell_type": "code",
   "execution_count": 38,
   "metadata": {
    "collapsed": false,
    "execution": {
     "iopub.execute_input": "2020-12-20T23:32:08.524491Z",
     "iopub.status.busy": "2020-12-20T23:32:08.524027Z",
     "iopub.status.idle": "2020-12-20T23:32:08.532178Z",
     "shell.execute_reply": "2020-12-20T23:32:08.532602Z"
    },
    "papermill": {
     "duration": 0.06561,
     "end_time": "2020-12-20T23:32:08.532737",
     "exception": false,
     "start_time": "2020-12-20T23:32:08.467127",
     "status": "completed"
    },
    "pycharm": {
     "name": "#%%\n"
    },
    "tags": []
   },
   "outputs": [
    {
     "data": {
      "text/html": [
       "<div>\n",
       "<style scoped>\n",
       "    .dataframe tbody tr th:only-of-type {\n",
       "        vertical-align: middle;\n",
       "    }\n",
       "\n",
       "    .dataframe tbody tr th {\n",
       "        vertical-align: top;\n",
       "    }\n",
       "\n",
       "    .dataframe thead th {\n",
       "        text-align: right;\n",
       "    }\n",
       "</style>\n",
       "<table border=\"1\" class=\"dataframe\">\n",
       "  <thead>\n",
       "    <tr style=\"text-align: right;\">\n",
       "      <th></th>\n",
       "      <th>sample_date_string</th>\n",
       "      <th>shared_diagnoses</th>\n",
       "    </tr>\n",
       "  </thead>\n",
       "  <tbody>\n",
       "    <tr>\n",
       "      <th>83</th>\n",
       "      <td>2020-12-20</td>\n",
       "      <td>9881</td>\n",
       "    </tr>\n",
       "    <tr>\n",
       "      <th>82</th>\n",
       "      <td>0</td>\n",
       "      <td>0</td>\n",
       "    </tr>\n",
       "    <tr>\n",
       "      <th>81</th>\n",
       "      <td>2020-12-18</td>\n",
       "      <td>7851</td>\n",
       "    </tr>\n",
       "    <tr>\n",
       "      <th>80</th>\n",
       "      <td>2020-12-17</td>\n",
       "      <td>4690</td>\n",
       "    </tr>\n",
       "    <tr>\n",
       "      <th>79</th>\n",
       "      <td>2020-12-16</td>\n",
       "      <td>5725</td>\n",
       "    </tr>\n",
       "  </tbody>\n",
       "</table>\n",
       "</div>"
      ],
      "text/plain": [
       "   sample_date_string  shared_diagnoses\n",
       "83         2020-12-20              9881\n",
       "82                  0                 0\n",
       "81         2020-12-18              7851\n",
       "80         2020-12-17              4690\n",
       "79         2020-12-16              5725"
      ]
     },
     "execution_count": 38,
     "metadata": {},
     "output_type": "execute_result"
    }
   ],
   "source": [
    "estimated_shared_diagnoses_df = shared_teks_generation_to_upload_df \\\n",
    "    .groupby([\"upload_date\"]).shared_teks.max().reset_index() \\\n",
    "    .sort_values([\"upload_date\"], ascending=False) \\\n",
    "    .rename(columns={\n",
    "        \"upload_date\": \"sample_date_string\",\n",
    "        \"shared_teks\": \"shared_diagnoses\",\n",
    "    })\n",
    "invalid_shared_diagnoses_dates_mask = \\\n",
    "    estimated_shared_diagnoses_df.sample_date_string.isin(invalid_shared_diagnoses_dates)\n",
    "estimated_shared_diagnoses_df[invalid_shared_diagnoses_dates_mask] = 0\n",
    "estimated_shared_diagnoses_df.head()"
   ]
  },
  {
   "cell_type": "markdown",
   "metadata": {
    "papermill": {
     "duration": 0.049421,
     "end_time": "2020-12-20T23:32:08.632223",
     "exception": false,
     "start_time": "2020-12-20T23:32:08.582802",
     "status": "completed"
    },
    "pycharm": {
     "name": "#%% md\n"
    },
    "tags": []
   },
   "source": [
    "### Hourly New TEKs"
   ]
  },
  {
   "cell_type": "code",
   "execution_count": 39,
   "metadata": {
    "execution": {
     "iopub.execute_input": "2020-12-20T23:32:08.737808Z",
     "iopub.status.busy": "2020-12-20T23:32:08.736968Z",
     "iopub.status.idle": "2020-12-20T23:32:21.353993Z",
     "shell.execute_reply": "2020-12-20T23:32:21.354363Z"
    },
    "papermill": {
     "duration": 12.672809,
     "end_time": "2020-12-20T23:32:21.354504",
     "exception": false,
     "start_time": "2020-12-20T23:32:08.681695",
     "status": "completed"
    },
    "pycharm": {
     "name": "#%%\n"
    },
    "tags": []
   },
   "outputs": [
    {
     "data": {
      "text/html": [
       "<div>\n",
       "<style scoped>\n",
       "    .dataframe tbody tr th:only-of-type {\n",
       "        vertical-align: middle;\n",
       "    }\n",
       "\n",
       "    .dataframe tbody tr th {\n",
       "        vertical-align: top;\n",
       "    }\n",
       "\n",
       "    .dataframe thead th {\n",
       "        text-align: right;\n",
       "    }\n",
       "</style>\n",
       "<table border=\"1\" class=\"dataframe\">\n",
       "  <thead>\n",
       "    <tr style=\"text-align: right;\">\n",
       "      <th></th>\n",
       "      <th>region</th>\n",
       "      <th>sample_date</th>\n",
       "      <th>tek_list</th>\n",
       "      <th>extraction_date</th>\n",
       "      <th>extraction_date_with_hour</th>\n",
       "    </tr>\n",
       "  </thead>\n",
       "  <tbody>\n",
       "    <tr>\n",
       "      <th>3</th>\n",
       "      <td>ES</td>\n",
       "      <td>2020-12-07</td>\n",
       "      <td>[63d05354-bc8d-d4d1-808f-d8326cf02a93, 0644607...</td>\n",
       "      <td>2020-12-20</td>\n",
       "      <td>2020-12-20@23</td>\n",
       "    </tr>\n",
       "    <tr>\n",
       "      <th>10</th>\n",
       "      <td>ES</td>\n",
       "      <td>2020-12-08</td>\n",
       "      <td>[54586dfc-ea45-2d4b-06bb-79d369a5a433, ff39368...</td>\n",
       "      <td>2020-12-20</td>\n",
       "      <td>2020-12-20@23</td>\n",
       "    </tr>\n",
       "    <tr>\n",
       "      <th>17</th>\n",
       "      <td>ES</td>\n",
       "      <td>2020-12-09</td>\n",
       "      <td>[e35126bb-b7d0-a6a7-08d9-9abbf5a5ca30, b7de6c1...</td>\n",
       "      <td>2020-12-20</td>\n",
       "      <td>2020-12-20@23</td>\n",
       "    </tr>\n",
       "    <tr>\n",
       "      <th>24</th>\n",
       "      <td>ES</td>\n",
       "      <td>2020-12-10</td>\n",
       "      <td>[c2044634-7c0f-06cf-91ee-371260459fe2, cd034aa...</td>\n",
       "      <td>2020-12-20</td>\n",
       "      <td>2020-12-20@23</td>\n",
       "    </tr>\n",
       "    <tr>\n",
       "      <th>31</th>\n",
       "      <td>ES</td>\n",
       "      <td>2020-12-11</td>\n",
       "      <td>[f4eb61ef-cc7d-e247-92f1-461742daf20f, 31c6d86...</td>\n",
       "      <td>2020-12-20</td>\n",
       "      <td>2020-12-20@23</td>\n",
       "    </tr>\n",
       "  </tbody>\n",
       "</table>\n",
       "</div>"
      ],
      "text/plain": [
       "   region sample_date                                           tek_list  \\\n",
       "3      ES  2020-12-07  [63d05354-bc8d-d4d1-808f-d8326cf02a93, 0644607...   \n",
       "10     ES  2020-12-08  [54586dfc-ea45-2d4b-06bb-79d369a5a433, ff39368...   \n",
       "17     ES  2020-12-09  [e35126bb-b7d0-a6a7-08d9-9abbf5a5ca30, b7de6c1...   \n",
       "24     ES  2020-12-10  [c2044634-7c0f-06cf-91ee-371260459fe2, cd034aa...   \n",
       "31     ES  2020-12-11  [f4eb61ef-cc7d-e247-92f1-461742daf20f, 31c6d86...   \n",
       "\n",
       "   extraction_date extraction_date_with_hour  \n",
       "3       2020-12-20             2020-12-20@23  \n",
       "10      2020-12-20             2020-12-20@23  \n",
       "17      2020-12-20             2020-12-20@23  \n",
       "24      2020-12-20             2020-12-20@23  \n",
       "31      2020-12-20             2020-12-20@23  "
      ]
     },
     "execution_count": 39,
     "metadata": {},
     "output_type": "execute_result"
    }
   ],
   "source": [
    "hourly_extracted_teks_df = load_extracted_teks(\n",
    "    mode=\"Hourly\", region=report_backend_identifier, limit=25)\n",
    "hourly_extracted_teks_df.head()"
   ]
  },
  {
   "cell_type": "code",
   "execution_count": 40,
   "metadata": {
    "collapsed": false,
    "execution": {
     "iopub.execute_input": "2020-12-20T23:32:21.645004Z",
     "iopub.status.busy": "2020-12-20T23:32:21.460562Z",
     "iopub.status.idle": "2020-12-20T23:32:24.084138Z",
     "shell.execute_reply": "2020-12-20T23:32:24.084501Z"
    },
    "papermill": {
     "duration": 2.679825,
     "end_time": "2020-12-20T23:32:24.084640",
     "exception": false,
     "start_time": "2020-12-20T23:32:21.404815",
     "status": "completed"
    },
    "pycharm": {
     "name": "#%%\n"
    },
    "tags": []
   },
   "outputs": [
    {
     "data": {
      "text/html": [
       "<div>\n",
       "<style scoped>\n",
       "    .dataframe tbody tr th:only-of-type {\n",
       "        vertical-align: middle;\n",
       "    }\n",
       "\n",
       "    .dataframe tbody tr th {\n",
       "        vertical-align: top;\n",
       "    }\n",
       "\n",
       "    .dataframe thead th {\n",
       "        text-align: right;\n",
       "    }\n",
       "</style>\n",
       "<table border=\"1\" class=\"dataframe\">\n",
       "  <thead>\n",
       "    <tr style=\"text-align: right;\">\n",
       "      <th></th>\n",
       "      <th>extraction_date_with_hour</th>\n",
       "      <th>shared_teks_by_upload_date</th>\n",
       "    </tr>\n",
       "  </thead>\n",
       "  <tbody>\n",
       "    <tr>\n",
       "      <th>0</th>\n",
       "      <td>2020-12-19@22</td>\n",
       "      <td>0</td>\n",
       "    </tr>\n",
       "    <tr>\n",
       "      <th>1</th>\n",
       "      <td>2020-12-19@23</td>\n",
       "      <td>0</td>\n",
       "    </tr>\n",
       "    <tr>\n",
       "      <th>2</th>\n",
       "      <td>2020-12-20@01</td>\n",
       "      <td>15</td>\n",
       "    </tr>\n",
       "    <tr>\n",
       "      <th>3</th>\n",
       "      <td>2020-12-20@02</td>\n",
       "      <td>6</td>\n",
       "    </tr>\n",
       "    <tr>\n",
       "      <th>4</th>\n",
       "      <td>2020-12-20@03</td>\n",
       "      <td>0</td>\n",
       "    </tr>\n",
       "  </tbody>\n",
       "</table>\n",
       "</div>"
      ],
      "text/plain": [
       "  extraction_date_with_hour  shared_teks_by_upload_date\n",
       "0             2020-12-19@22                           0\n",
       "1             2020-12-19@23                           0\n",
       "2             2020-12-20@01                          15\n",
       "3             2020-12-20@02                           6\n",
       "4             2020-12-20@03                           0"
      ]
     },
     "execution_count": 40,
     "metadata": {},
     "output_type": "execute_result"
    }
   ],
   "source": [
    "hourly_new_tek_count_df = hourly_extracted_teks_df \\\n",
    "    .groupby(\"extraction_date_with_hour\").tek_list. \\\n",
    "    apply(lambda x: set(sum(x, []))).reset_index().copy()\n",
    "hourly_new_tek_count_df = hourly_new_tek_count_df.set_index(\"extraction_date_with_hour\") \\\n",
    "    .sort_index(ascending=True)\n",
    "\n",
    "hourly_new_tek_count_df[\"new_tek_list\"] = hourly_new_tek_count_df.tek_list.diff()\n",
    "hourly_new_tek_count_df[\"new_tek_count\"] = hourly_new_tek_count_df.new_tek_list.apply(\n",
    "    lambda x: len(x) if not pd.isna(x) else 0)\n",
    "hourly_new_tek_count_df.rename(columns={\n",
    "    \"new_tek_count\": \"shared_teks_by_upload_date\"}, inplace=True)\n",
    "hourly_new_tek_count_df = hourly_new_tek_count_df.reset_index()[[\n",
    "    \"extraction_date_with_hour\", \"shared_teks_by_upload_date\"]]\n",
    "hourly_new_tek_count_df.head()"
   ]
  },
  {
   "cell_type": "code",
   "execution_count": 41,
   "metadata": {
    "collapsed": false,
    "execution": {
     "iopub.execute_input": "2020-12-20T23:32:24.199170Z",
     "iopub.status.busy": "2020-12-20T23:32:24.198703Z",
     "iopub.status.idle": "2020-12-20T23:32:24.201141Z",
     "shell.execute_reply": "2020-12-20T23:32:24.201604Z"
    },
    "papermill": {
     "duration": 0.066266,
     "end_time": "2020-12-20T23:32:24.201732",
     "exception": false,
     "start_time": "2020-12-20T23:32:24.135466",
     "status": "completed"
    },
    "pycharm": {
     "name": "#%%\n"
    },
    "tags": []
   },
   "outputs": [
    {
     "data": {
      "text/html": [
       "<div>\n",
       "<style scoped>\n",
       "    .dataframe tbody tr th:only-of-type {\n",
       "        vertical-align: middle;\n",
       "    }\n",
       "\n",
       "    .dataframe tbody tr th {\n",
       "        vertical-align: top;\n",
       "    }\n",
       "\n",
       "    .dataframe thead th {\n",
       "        text-align: right;\n",
       "    }\n",
       "</style>\n",
       "<table border=\"1\" class=\"dataframe\">\n",
       "  <thead>\n",
       "    <tr style=\"text-align: right;\">\n",
       "      <th></th>\n",
       "      <th>extraction_date_with_hour</th>\n",
       "      <th>shared_teks_by_upload_date</th>\n",
       "    </tr>\n",
       "    <tr>\n",
       "      <th>datetime_utc</th>\n",
       "      <th></th>\n",
       "      <th></th>\n",
       "    </tr>\n",
       "  </thead>\n",
       "  <tbody>\n",
       "    <tr>\n",
       "      <th>2020-12-19 23:00:00</th>\n",
       "      <td>2020-12-19@23</td>\n",
       "      <td>0</td>\n",
       "    </tr>\n",
       "    <tr>\n",
       "      <th>2020-12-20 01:00:00</th>\n",
       "      <td>2020-12-20@01</td>\n",
       "      <td>15</td>\n",
       "    </tr>\n",
       "    <tr>\n",
       "      <th>2020-12-20 02:00:00</th>\n",
       "      <td>2020-12-20@02</td>\n",
       "      <td>6</td>\n",
       "    </tr>\n",
       "    <tr>\n",
       "      <th>2020-12-20 03:00:00</th>\n",
       "      <td>2020-12-20@03</td>\n",
       "      <td>0</td>\n",
       "    </tr>\n",
       "    <tr>\n",
       "      <th>2020-12-20 04:00:00</th>\n",
       "      <td>2020-12-20@04</td>\n",
       "      <td>43</td>\n",
       "    </tr>\n",
       "  </tbody>\n",
       "</table>\n",
       "</div>"
      ],
      "text/plain": [
       "                    extraction_date_with_hour  shared_teks_by_upload_date\n",
       "datetime_utc                                                             \n",
       "2020-12-19 23:00:00             2020-12-19@23                           0\n",
       "2020-12-20 01:00:00             2020-12-20@01                          15\n",
       "2020-12-20 02:00:00             2020-12-20@02                           6\n",
       "2020-12-20 03:00:00             2020-12-20@03                           0\n",
       "2020-12-20 04:00:00             2020-12-20@04                          43"
      ]
     },
     "execution_count": 41,
     "metadata": {},
     "output_type": "execute_result"
    }
   ],
   "source": [
    "hourly_summary_df = hourly_new_tek_count_df.copy()\n",
    "hourly_summary_df.set_index(\"extraction_date_with_hour\", inplace=True)\n",
    "hourly_summary_df = hourly_summary_df.fillna(0).astype(int).reset_index()\n",
    "hourly_summary_df[\"datetime_utc\"] = pd.to_datetime(\n",
    "    hourly_summary_df.extraction_date_with_hour, format=\"%Y-%m-%d@%H\")\n",
    "hourly_summary_df.set_index(\"datetime_utc\", inplace=True)\n",
    "hourly_summary_df = hourly_summary_df.tail(-1)\n",
    "hourly_summary_df.head()"
   ]
  },
  {
   "cell_type": "markdown",
   "metadata": {
    "collapsed": false,
    "papermill": {
     "duration": 0.051088,
     "end_time": "2020-12-20T23:32:24.304200",
     "exception": false,
     "start_time": "2020-12-20T23:32:24.253112",
     "status": "completed"
    },
    "tags": []
   },
   "source": [
    "### Data Merge"
   ]
  },
  {
   "cell_type": "code",
   "execution_count": 42,
   "metadata": {
    "collapsed": false,
    "execution": {
     "iopub.execute_input": "2020-12-20T23:32:24.412787Z",
     "iopub.status.busy": "2020-12-20T23:32:24.412295Z",
     "iopub.status.idle": "2020-12-20T23:32:24.421391Z",
     "shell.execute_reply": "2020-12-20T23:32:24.421748Z"
    },
    "papermill": {
     "duration": 0.066642,
     "end_time": "2020-12-20T23:32:24.421883",
     "exception": false,
     "start_time": "2020-12-20T23:32:24.355241",
     "status": "completed"
    },
    "pycharm": {
     "name": "#%%\n"
    },
    "tags": []
   },
   "outputs": [
    {
     "data": {
      "text/html": [
       "<div>\n",
       "<style scoped>\n",
       "    .dataframe tbody tr th:only-of-type {\n",
       "        vertical-align: middle;\n",
       "    }\n",
       "\n",
       "    .dataframe tbody tr th {\n",
       "        vertical-align: top;\n",
       "    }\n",
       "\n",
       "    .dataframe thead th {\n",
       "        text-align: right;\n",
       "    }\n",
       "</style>\n",
       "<table border=\"1\" class=\"dataframe\">\n",
       "  <thead>\n",
       "    <tr style=\"text-align: right;\">\n",
       "      <th></th>\n",
       "      <th>sample_date_string</th>\n",
       "      <th>shared_teks_by_generation_date</th>\n",
       "      <th>shared_teks_by_upload_date</th>\n",
       "    </tr>\n",
       "  </thead>\n",
       "  <tbody>\n",
       "    <tr>\n",
       "      <th>0</th>\n",
       "      <td>2020-12-20</td>\n",
       "      <td>665</td>\n",
       "      <td>91025.0</td>\n",
       "    </tr>\n",
       "    <tr>\n",
       "      <th>1</th>\n",
       "      <td>2020-12-19</td>\n",
       "      <td>5585</td>\n",
       "      <td>1157.0</td>\n",
       "    </tr>\n",
       "    <tr>\n",
       "      <th>2</th>\n",
       "      <td>2020-12-18</td>\n",
       "      <td>10030</td>\n",
       "      <td>73609.0</td>\n",
       "    </tr>\n",
       "    <tr>\n",
       "      <th>3</th>\n",
       "      <td>2020-12-17</td>\n",
       "      <td>15176</td>\n",
       "      <td>50571.0</td>\n",
       "    </tr>\n",
       "    <tr>\n",
       "      <th>4</th>\n",
       "      <td>2020-12-16</td>\n",
       "      <td>20253</td>\n",
       "      <td>59480.0</td>\n",
       "    </tr>\n",
       "  </tbody>\n",
       "</table>\n",
       "</div>"
      ],
      "text/plain": [
       "  sample_date_string  shared_teks_by_generation_date  \\\n",
       "0         2020-12-20                             665   \n",
       "1         2020-12-19                            5585   \n",
       "2         2020-12-18                           10030   \n",
       "3         2020-12-17                           15176   \n",
       "4         2020-12-16                           20253   \n",
       "\n",
       "   shared_teks_by_upload_date  \n",
       "0                     91025.0  \n",
       "1                      1157.0  \n",
       "2                     73609.0  \n",
       "3                     50571.0  \n",
       "4                     59480.0  "
      ]
     },
     "execution_count": 42,
     "metadata": {},
     "output_type": "execute_result"
    }
   ],
   "source": [
    "result_summary_df = exposure_keys_summary_df.merge(\n",
    "    new_tek_df, on=[\"sample_date_string\"], how=\"outer\")\n",
    "result_summary_df.head()"
   ]
  },
  {
   "cell_type": "code",
   "execution_count": 43,
   "metadata": {
    "collapsed": false,
    "execution": {
     "iopub.execute_input": "2020-12-20T23:32:24.536998Z",
     "iopub.status.busy": "2020-12-20T23:32:24.536541Z",
     "iopub.status.idle": "2020-12-20T23:32:24.539180Z",
     "shell.execute_reply": "2020-12-20T23:32:24.538787Z"
    },
    "papermill": {
     "duration": 0.065473,
     "end_time": "2020-12-20T23:32:24.539283",
     "exception": false,
     "start_time": "2020-12-20T23:32:24.473810",
     "status": "completed"
    },
    "pycharm": {
     "name": "#%%\n"
    },
    "tags": []
   },
   "outputs": [
    {
     "data": {
      "text/html": [
       "<div>\n",
       "<style scoped>\n",
       "    .dataframe tbody tr th:only-of-type {\n",
       "        vertical-align: middle;\n",
       "    }\n",
       "\n",
       "    .dataframe tbody tr th {\n",
       "        vertical-align: top;\n",
       "    }\n",
       "\n",
       "    .dataframe thead th {\n",
       "        text-align: right;\n",
       "    }\n",
       "</style>\n",
       "<table border=\"1\" class=\"dataframe\">\n",
       "  <thead>\n",
       "    <tr style=\"text-align: right;\">\n",
       "      <th></th>\n",
       "      <th>sample_date_string</th>\n",
       "      <th>shared_teks_by_generation_date</th>\n",
       "      <th>shared_teks_by_upload_date</th>\n",
       "      <th>shared_teks_uploaded_on_generation_date</th>\n",
       "    </tr>\n",
       "  </thead>\n",
       "  <tbody>\n",
       "    <tr>\n",
       "      <th>0</th>\n",
       "      <td>2020-12-20</td>\n",
       "      <td>665</td>\n",
       "      <td>91025.0</td>\n",
       "      <td>665.0</td>\n",
       "    </tr>\n",
       "    <tr>\n",
       "      <th>1</th>\n",
       "      <td>2020-12-19</td>\n",
       "      <td>5585</td>\n",
       "      <td>1157.0</td>\n",
       "      <td>149.0</td>\n",
       "    </tr>\n",
       "    <tr>\n",
       "      <th>2</th>\n",
       "      <td>2020-12-18</td>\n",
       "      <td>10030</td>\n",
       "      <td>73609.0</td>\n",
       "      <td>355.0</td>\n",
       "    </tr>\n",
       "    <tr>\n",
       "      <th>3</th>\n",
       "      <td>2020-12-17</td>\n",
       "      <td>15176</td>\n",
       "      <td>50571.0</td>\n",
       "      <td>295.0</td>\n",
       "    </tr>\n",
       "    <tr>\n",
       "      <th>4</th>\n",
       "      <td>2020-12-16</td>\n",
       "      <td>20253</td>\n",
       "      <td>59480.0</td>\n",
       "      <td>299.0</td>\n",
       "    </tr>\n",
       "  </tbody>\n",
       "</table>\n",
       "</div>"
      ],
      "text/plain": [
       "  sample_date_string  shared_teks_by_generation_date  \\\n",
       "0         2020-12-20                             665   \n",
       "1         2020-12-19                            5585   \n",
       "2         2020-12-18                           10030   \n",
       "3         2020-12-17                           15176   \n",
       "4         2020-12-16                           20253   \n",
       "\n",
       "   shared_teks_by_upload_date  shared_teks_uploaded_on_generation_date  \n",
       "0                     91025.0                                    665.0  \n",
       "1                      1157.0                                    149.0  \n",
       "2                     73609.0                                    355.0  \n",
       "3                     50571.0                                    295.0  \n",
       "4                     59480.0                                    299.0  "
      ]
     },
     "execution_count": 43,
     "metadata": {},
     "output_type": "execute_result"
    }
   ],
   "source": [
    "result_summary_df = result_summary_df.merge(\n",
    "    shared_teks_uploaded_on_generation_date_df, on=[\"sample_date_string\"], how=\"outer\")\n",
    "result_summary_df.head()"
   ]
  },
  {
   "cell_type": "code",
   "execution_count": 44,
   "metadata": {
    "collapsed": false,
    "execution": {
     "iopub.execute_input": "2020-12-20T23:32:24.655369Z",
     "iopub.status.busy": "2020-12-20T23:32:24.649654Z",
     "iopub.status.idle": "2020-12-20T23:32:24.658103Z",
     "shell.execute_reply": "2020-12-20T23:32:24.657714Z"
    },
    "papermill": {
     "duration": 0.06725,
     "end_time": "2020-12-20T23:32:24.658206",
     "exception": false,
     "start_time": "2020-12-20T23:32:24.590956",
     "status": "completed"
    },
    "pycharm": {
     "name": "#%%\n"
    },
    "tags": []
   },
   "outputs": [
    {
     "data": {
      "text/html": [
       "<div>\n",
       "<style scoped>\n",
       "    .dataframe tbody tr th:only-of-type {\n",
       "        vertical-align: middle;\n",
       "    }\n",
       "\n",
       "    .dataframe tbody tr th {\n",
       "        vertical-align: top;\n",
       "    }\n",
       "\n",
       "    .dataframe thead th {\n",
       "        text-align: right;\n",
       "    }\n",
       "</style>\n",
       "<table border=\"1\" class=\"dataframe\">\n",
       "  <thead>\n",
       "    <tr style=\"text-align: right;\">\n",
       "      <th></th>\n",
       "      <th>sample_date_string</th>\n",
       "      <th>shared_teks_by_generation_date</th>\n",
       "      <th>shared_teks_by_upload_date</th>\n",
       "      <th>shared_teks_uploaded_on_generation_date</th>\n",
       "      <th>shared_diagnoses</th>\n",
       "    </tr>\n",
       "  </thead>\n",
       "  <tbody>\n",
       "    <tr>\n",
       "      <th>0</th>\n",
       "      <td>2020-12-20</td>\n",
       "      <td>665.0</td>\n",
       "      <td>91025.0</td>\n",
       "      <td>665.0</td>\n",
       "      <td>9881.0</td>\n",
       "    </tr>\n",
       "    <tr>\n",
       "      <th>1</th>\n",
       "      <td>2020-12-19</td>\n",
       "      <td>5585.0</td>\n",
       "      <td>1157.0</td>\n",
       "      <td>149.0</td>\n",
       "      <td>NaN</td>\n",
       "    </tr>\n",
       "    <tr>\n",
       "      <th>2</th>\n",
       "      <td>2020-12-18</td>\n",
       "      <td>10030.0</td>\n",
       "      <td>73609.0</td>\n",
       "      <td>355.0</td>\n",
       "      <td>7851.0</td>\n",
       "    </tr>\n",
       "    <tr>\n",
       "      <th>3</th>\n",
       "      <td>2020-12-17</td>\n",
       "      <td>15176.0</td>\n",
       "      <td>50571.0</td>\n",
       "      <td>295.0</td>\n",
       "      <td>4690.0</td>\n",
       "    </tr>\n",
       "    <tr>\n",
       "      <th>4</th>\n",
       "      <td>2020-12-16</td>\n",
       "      <td>20253.0</td>\n",
       "      <td>59480.0</td>\n",
       "      <td>299.0</td>\n",
       "      <td>5725.0</td>\n",
       "    </tr>\n",
       "  </tbody>\n",
       "</table>\n",
       "</div>"
      ],
      "text/plain": [
       "  sample_date_string  shared_teks_by_generation_date  \\\n",
       "0         2020-12-20                           665.0   \n",
       "1         2020-12-19                          5585.0   \n",
       "2         2020-12-18                         10030.0   \n",
       "3         2020-12-17                         15176.0   \n",
       "4         2020-12-16                         20253.0   \n",
       "\n",
       "   shared_teks_by_upload_date  shared_teks_uploaded_on_generation_date  \\\n",
       "0                     91025.0                                    665.0   \n",
       "1                      1157.0                                    149.0   \n",
       "2                     73609.0                                    355.0   \n",
       "3                     50571.0                                    295.0   \n",
       "4                     59480.0                                    299.0   \n",
       "\n",
       "   shared_diagnoses  \n",
       "0            9881.0  \n",
       "1               NaN  \n",
       "2            7851.0  \n",
       "3            4690.0  \n",
       "4            5725.0  "
      ]
     },
     "execution_count": 44,
     "metadata": {},
     "output_type": "execute_result"
    }
   ],
   "source": [
    "result_summary_df = result_summary_df.merge(\n",
    "    estimated_shared_diagnoses_df, on=[\"sample_date_string\"], how=\"outer\")\n",
    "result_summary_df.head()"
   ]
  },
  {
   "cell_type": "code",
   "execution_count": 45,
   "metadata": {
    "collapsed": false,
    "execution": {
     "iopub.execute_input": "2020-12-20T23:32:24.768116Z",
     "iopub.status.busy": "2020-12-20T23:32:24.767665Z",
     "iopub.status.idle": "2020-12-20T23:32:24.777507Z",
     "shell.execute_reply": "2020-12-20T23:32:24.777089Z"
    },
    "papermill": {
     "duration": 0.067584,
     "end_time": "2020-12-20T23:32:24.777607",
     "exception": false,
     "start_time": "2020-12-20T23:32:24.710023",
     "status": "completed"
    },
    "pycharm": {
     "name": "#%%\n"
    },
    "tags": []
   },
   "outputs": [
    {
     "data": {
      "text/html": [
       "<div>\n",
       "<style scoped>\n",
       "    .dataframe tbody tr th:only-of-type {\n",
       "        vertical-align: middle;\n",
       "    }\n",
       "\n",
       "    .dataframe tbody tr th {\n",
       "        vertical-align: top;\n",
       "    }\n",
       "\n",
       "    .dataframe thead th {\n",
       "        text-align: right;\n",
       "    }\n",
       "</style>\n",
       "<table border=\"1\" class=\"dataframe\">\n",
       "  <thead>\n",
       "    <tr style=\"text-align: right;\">\n",
       "      <th></th>\n",
       "      <th>sample_date_string</th>\n",
       "      <th>new_cases</th>\n",
       "      <th>covid_cases</th>\n",
       "      <th>shared_teks_by_generation_date</th>\n",
       "      <th>shared_teks_by_upload_date</th>\n",
       "      <th>shared_teks_uploaded_on_generation_date</th>\n",
       "      <th>shared_diagnoses</th>\n",
       "    </tr>\n",
       "  </thead>\n",
       "  <tbody>\n",
       "    <tr>\n",
       "      <th>0</th>\n",
       "      <td>2020-09-28</td>\n",
       "      <td>31785.0</td>\n",
       "      <td>10971.0</td>\n",
       "      <td>269.0</td>\n",
       "      <td>211.0</td>\n",
       "      <td>44.0</td>\n",
       "      <td>54.0</td>\n",
       "    </tr>\n",
       "    <tr>\n",
       "      <th>1</th>\n",
       "      <td>2020-09-29</td>\n",
       "      <td>0.0</td>\n",
       "      <td>9428.0</td>\n",
       "      <td>265.0</td>\n",
       "      <td>178.0</td>\n",
       "      <td>32.0</td>\n",
       "      <td>44.0</td>\n",
       "    </tr>\n",
       "    <tr>\n",
       "      <th>2</th>\n",
       "      <td>2020-09-30</td>\n",
       "      <td>20922.0</td>\n",
       "      <td>10805.0</td>\n",
       "      <td>294.0</td>\n",
       "      <td>271.0</td>\n",
       "      <td>55.0</td>\n",
       "      <td>55.0</td>\n",
       "    </tr>\n",
       "    <tr>\n",
       "      <th>3</th>\n",
       "      <td>2020-10-01</td>\n",
       "      <td>9419.0</td>\n",
       "      <td>10628.0</td>\n",
       "      <td>317.0</td>\n",
       "      <td>367.0</td>\n",
       "      <td>75.0</td>\n",
       "      <td>75.0</td>\n",
       "    </tr>\n",
       "    <tr>\n",
       "      <th>4</th>\n",
       "      <td>2020-10-02</td>\n",
       "      <td>11325.0</td>\n",
       "      <td>10493.0</td>\n",
       "      <td>312.0</td>\n",
       "      <td>299.0</td>\n",
       "      <td>72.0</td>\n",
       "      <td>72.0</td>\n",
       "    </tr>\n",
       "  </tbody>\n",
       "</table>\n",
       "</div>"
      ],
      "text/plain": [
       "  sample_date_string  new_cases  covid_cases  shared_teks_by_generation_date  \\\n",
       "0         2020-09-28    31785.0      10971.0                           269.0   \n",
       "1         2020-09-29        0.0       9428.0                           265.0   \n",
       "2         2020-09-30    20922.0      10805.0                           294.0   \n",
       "3         2020-10-01     9419.0      10628.0                           317.0   \n",
       "4         2020-10-02    11325.0      10493.0                           312.0   \n",
       "\n",
       "   shared_teks_by_upload_date  shared_teks_uploaded_on_generation_date  \\\n",
       "0                       211.0                                     44.0   \n",
       "1                       178.0                                     32.0   \n",
       "2                       271.0                                     55.0   \n",
       "3                       367.0                                     75.0   \n",
       "4                       299.0                                     72.0   \n",
       "\n",
       "   shared_diagnoses  \n",
       "0              54.0  \n",
       "1              44.0  \n",
       "2              55.0  \n",
       "3              75.0  \n",
       "4              72.0  "
      ]
     },
     "execution_count": 45,
     "metadata": {},
     "output_type": "execute_result"
    }
   ],
   "source": [
    "result_summary_df = confirmed_df.tail(daily_summary_days).merge(\n",
    "    result_summary_df, on=[\"sample_date_string\"], how=\"left\")\n",
    "result_summary_df.head()"
   ]
  },
  {
   "cell_type": "code",
   "execution_count": 46,
   "metadata": {
    "collapsed": false,
    "execution": {
     "iopub.execute_input": "2020-12-20T23:32:24.907843Z",
     "iopub.status.busy": "2020-12-20T23:32:24.907320Z",
     "iopub.status.idle": "2020-12-20T23:32:24.922372Z",
     "shell.execute_reply": "2020-12-20T23:32:24.922716Z"
    },
    "papermill": {
     "duration": 0.093233,
     "end_time": "2020-12-20T23:32:24.922848",
     "exception": false,
     "start_time": "2020-12-20T23:32:24.829615",
     "status": "completed"
    },
    "pycharm": {
     "name": "#%%\n"
    },
    "tags": []
   },
   "outputs": [
    {
     "data": {
      "text/html": [
       "<div>\n",
       "<style scoped>\n",
       "    .dataframe tbody tr th:only-of-type {\n",
       "        vertical-align: middle;\n",
       "    }\n",
       "\n",
       "    .dataframe tbody tr th {\n",
       "        vertical-align: top;\n",
       "    }\n",
       "\n",
       "    .dataframe thead th {\n",
       "        text-align: right;\n",
       "    }\n",
       "</style>\n",
       "<table border=\"1\" class=\"dataframe\">\n",
       "  <thead>\n",
       "    <tr style=\"text-align: right;\">\n",
       "      <th></th>\n",
       "      <th></th>\n",
       "      <th>new_cases</th>\n",
       "      <th>covid_cases</th>\n",
       "      <th>shared_teks_by_generation_date</th>\n",
       "      <th>shared_teks_by_upload_date</th>\n",
       "      <th>shared_teks_uploaded_on_generation_date</th>\n",
       "      <th>shared_diagnoses</th>\n",
       "    </tr>\n",
       "    <tr>\n",
       "      <th>sample_date</th>\n",
       "      <th>source_regions</th>\n",
       "      <th></th>\n",
       "      <th></th>\n",
       "      <th></th>\n",
       "      <th></th>\n",
       "      <th></th>\n",
       "      <th></th>\n",
       "    </tr>\n",
       "  </thead>\n",
       "  <tbody>\n",
       "    <tr>\n",
       "      <th>2020-12-20</th>\n",
       "      <th>ES,DE,DK,HR,IE,IT,LV,NL,PL</th>\n",
       "      <td>68947.0</td>\n",
       "      <td>77951.0</td>\n",
       "      <td>665.0</td>\n",
       "      <td>91025.0</td>\n",
       "      <td>665.0</td>\n",
       "      <td>9881.0</td>\n",
       "    </tr>\n",
       "    <tr>\n",
       "      <th>2020-12-19</th>\n",
       "      <th>ES,DE,DK,HR,IE,IT,LV,NL,PL</th>\n",
       "      <td>68947.0</td>\n",
       "      <td>77951.0</td>\n",
       "      <td>5585.0</td>\n",
       "      <td>1157.0</td>\n",
       "      <td>149.0</td>\n",
       "      <td>NaN</td>\n",
       "    </tr>\n",
       "    <tr>\n",
       "      <th>2020-12-18</th>\n",
       "      <th>ES,DE,DK,HR,IE,IT,LV,NL,PL</th>\n",
       "      <td>92328.0</td>\n",
       "      <td>78240.0</td>\n",
       "      <td>10030.0</td>\n",
       "      <td>73609.0</td>\n",
       "      <td>355.0</td>\n",
       "      <td>7851.0</td>\n",
       "    </tr>\n",
       "    <tr>\n",
       "      <th>2020-12-17</th>\n",
       "      <th>ES,DE,DK,HR,IE,IT,LV,NL,PL</th>\n",
       "      <td>94842.0</td>\n",
       "      <td>77479.0</td>\n",
       "      <td>15176.0</td>\n",
       "      <td>50571.0</td>\n",
       "      <td>295.0</td>\n",
       "      <td>4690.0</td>\n",
       "    </tr>\n",
       "    <tr>\n",
       "      <th>2020-12-16</th>\n",
       "      <th>ES,DE,DK,HR,IE,IT,LV,NL,PL</th>\n",
       "      <td>93581.0</td>\n",
       "      <td>76675.0</td>\n",
       "      <td>20253.0</td>\n",
       "      <td>59480.0</td>\n",
       "      <td>299.0</td>\n",
       "      <td>5725.0</td>\n",
       "    </tr>\n",
       "  </tbody>\n",
       "</table>\n",
       "</div>"
      ],
      "text/plain": [
       "                                        new_cases  covid_cases  \\\n",
       "sample_date source_regions                                       \n",
       "2020-12-20  ES,DE,DK,HR,IE,IT,LV,NL,PL    68947.0      77951.0   \n",
       "2020-12-19  ES,DE,DK,HR,IE,IT,LV,NL,PL    68947.0      77951.0   \n",
       "2020-12-18  ES,DE,DK,HR,IE,IT,LV,NL,PL    92328.0      78240.0   \n",
       "2020-12-17  ES,DE,DK,HR,IE,IT,LV,NL,PL    94842.0      77479.0   \n",
       "2020-12-16  ES,DE,DK,HR,IE,IT,LV,NL,PL    93581.0      76675.0   \n",
       "\n",
       "                                        shared_teks_by_generation_date  \\\n",
       "sample_date source_regions                                               \n",
       "2020-12-20  ES,DE,DK,HR,IE,IT,LV,NL,PL                           665.0   \n",
       "2020-12-19  ES,DE,DK,HR,IE,IT,LV,NL,PL                          5585.0   \n",
       "2020-12-18  ES,DE,DK,HR,IE,IT,LV,NL,PL                         10030.0   \n",
       "2020-12-17  ES,DE,DK,HR,IE,IT,LV,NL,PL                         15176.0   \n",
       "2020-12-16  ES,DE,DK,HR,IE,IT,LV,NL,PL                         20253.0   \n",
       "\n",
       "                                        shared_teks_by_upload_date  \\\n",
       "sample_date source_regions                                           \n",
       "2020-12-20  ES,DE,DK,HR,IE,IT,LV,NL,PL                     91025.0   \n",
       "2020-12-19  ES,DE,DK,HR,IE,IT,LV,NL,PL                      1157.0   \n",
       "2020-12-18  ES,DE,DK,HR,IE,IT,LV,NL,PL                     73609.0   \n",
       "2020-12-17  ES,DE,DK,HR,IE,IT,LV,NL,PL                     50571.0   \n",
       "2020-12-16  ES,DE,DK,HR,IE,IT,LV,NL,PL                     59480.0   \n",
       "\n",
       "                                        shared_teks_uploaded_on_generation_date  \\\n",
       "sample_date source_regions                                                        \n",
       "2020-12-20  ES,DE,DK,HR,IE,IT,LV,NL,PL                                    665.0   \n",
       "2020-12-19  ES,DE,DK,HR,IE,IT,LV,NL,PL                                    149.0   \n",
       "2020-12-18  ES,DE,DK,HR,IE,IT,LV,NL,PL                                    355.0   \n",
       "2020-12-17  ES,DE,DK,HR,IE,IT,LV,NL,PL                                    295.0   \n",
       "2020-12-16  ES,DE,DK,HR,IE,IT,LV,NL,PL                                    299.0   \n",
       "\n",
       "                                        shared_diagnoses  \n",
       "sample_date source_regions                                \n",
       "2020-12-20  ES,DE,DK,HR,IE,IT,LV,NL,PL            9881.0  \n",
       "2020-12-19  ES,DE,DK,HR,IE,IT,LV,NL,PL               NaN  \n",
       "2020-12-18  ES,DE,DK,HR,IE,IT,LV,NL,PL            7851.0  \n",
       "2020-12-17  ES,DE,DK,HR,IE,IT,LV,NL,PL            4690.0  \n",
       "2020-12-16  ES,DE,DK,HR,IE,IT,LV,NL,PL            5725.0  "
      ]
     },
     "execution_count": 46,
     "metadata": {},
     "output_type": "execute_result"
    }
   ],
   "source": [
    "result_summary_df[\"sample_date\"] = pd.to_datetime(result_summary_df.sample_date_string)\n",
    "result_summary_df = result_summary_df.merge(source_regions_for_summary_df, how=\"left\")\n",
    "result_summary_df.set_index([\"sample_date\", \"source_regions\"], inplace=True)\n",
    "result_summary_df.drop(columns=[\"sample_date_string\"], inplace=True)\n",
    "result_summary_df.sort_index(ascending=False, inplace=True)\n",
    "result_summary_df.head()"
   ]
  },
  {
   "cell_type": "code",
   "execution_count": 47,
   "metadata": {
    "execution": {
     "iopub.execute_input": "2020-12-20T23:32:25.048004Z",
     "iopub.status.busy": "2020-12-20T23:32:25.047402Z",
     "iopub.status.idle": "2020-12-20T23:32:25.050469Z",
     "shell.execute_reply": "2020-12-20T23:32:25.050076Z"
    },
    "papermill": {
     "duration": 0.074708,
     "end_time": "2020-12-20T23:32:25.050571",
     "exception": false,
     "start_time": "2020-12-20T23:32:24.975863",
     "status": "completed"
    },
    "tags": []
   },
   "outputs": [
    {
     "data": {
      "text/html": [
       "<div>\n",
       "<style scoped>\n",
       "    .dataframe tbody tr th:only-of-type {\n",
       "        vertical-align: middle;\n",
       "    }\n",
       "\n",
       "    .dataframe tbody tr th {\n",
       "        vertical-align: top;\n",
       "    }\n",
       "\n",
       "    .dataframe thead th {\n",
       "        text-align: right;\n",
       "    }\n",
       "</style>\n",
       "<table border=\"1\" class=\"dataframe\">\n",
       "  <thead>\n",
       "    <tr style=\"text-align: right;\">\n",
       "      <th></th>\n",
       "      <th></th>\n",
       "      <th>new_cases</th>\n",
       "      <th>covid_cases</th>\n",
       "      <th>shared_teks_by_generation_date</th>\n",
       "      <th>shared_teks_by_upload_date</th>\n",
       "      <th>shared_teks_uploaded_on_generation_date</th>\n",
       "      <th>shared_diagnoses</th>\n",
       "      <th>teks_per_shared_diagnosis</th>\n",
       "      <th>shared_diagnoses_per_covid_case</th>\n",
       "    </tr>\n",
       "    <tr>\n",
       "      <th>sample_date</th>\n",
       "      <th>source_regions</th>\n",
       "      <th></th>\n",
       "      <th></th>\n",
       "      <th></th>\n",
       "      <th></th>\n",
       "      <th></th>\n",
       "      <th></th>\n",
       "      <th></th>\n",
       "      <th></th>\n",
       "    </tr>\n",
       "  </thead>\n",
       "  <tbody>\n",
       "    <tr>\n",
       "      <th>2020-12-20</th>\n",
       "      <th>ES,DE,DK,HR,IE,IT,LV,NL,PL</th>\n",
       "      <td>68947</td>\n",
       "      <td>77951</td>\n",
       "      <td>665</td>\n",
       "      <td>91025</td>\n",
       "      <td>665</td>\n",
       "      <td>9881</td>\n",
       "      <td>9.212124</td>\n",
       "      <td>0.126759</td>\n",
       "    </tr>\n",
       "    <tr>\n",
       "      <th>2020-12-19</th>\n",
       "      <th>ES,DE,DK,HR,IE,IT,LV,NL,PL</th>\n",
       "      <td>68947</td>\n",
       "      <td>77951</td>\n",
       "      <td>5585</td>\n",
       "      <td>1157</td>\n",
       "      <td>149</td>\n",
       "      <td>0</td>\n",
       "      <td>0.000000</td>\n",
       "      <td>0.000000</td>\n",
       "    </tr>\n",
       "    <tr>\n",
       "      <th>2020-12-18</th>\n",
       "      <th>ES,DE,DK,HR,IE,IT,LV,NL,PL</th>\n",
       "      <td>92328</td>\n",
       "      <td>78240</td>\n",
       "      <td>10030</td>\n",
       "      <td>73609</td>\n",
       "      <td>355</td>\n",
       "      <td>7851</td>\n",
       "      <td>9.375748</td>\n",
       "      <td>0.100345</td>\n",
       "    </tr>\n",
       "    <tr>\n",
       "      <th>2020-12-17</th>\n",
       "      <th>ES,DE,DK,HR,IE,IT,LV,NL,PL</th>\n",
       "      <td>94842</td>\n",
       "      <td>77479</td>\n",
       "      <td>15176</td>\n",
       "      <td>50571</td>\n",
       "      <td>295</td>\n",
       "      <td>4690</td>\n",
       "      <td>10.782729</td>\n",
       "      <td>0.060533</td>\n",
       "    </tr>\n",
       "    <tr>\n",
       "      <th>2020-12-16</th>\n",
       "      <th>ES,DE,DK,HR,IE,IT,LV,NL,PL</th>\n",
       "      <td>93581</td>\n",
       "      <td>76675</td>\n",
       "      <td>20253</td>\n",
       "      <td>59480</td>\n",
       "      <td>299</td>\n",
       "      <td>5725</td>\n",
       "      <td>10.389520</td>\n",
       "      <td>0.074666</td>\n",
       "    </tr>\n",
       "    <tr>\n",
       "      <th>2020-12-15</th>\n",
       "      <th>ES,DE,DK,HR,IE,IT,LV,NL,PL</th>\n",
       "      <td>78850</td>\n",
       "      <td>73941</td>\n",
       "      <td>24199</td>\n",
       "      <td>18196</td>\n",
       "      <td>168</td>\n",
       "      <td>1752</td>\n",
       "      <td>10.385845</td>\n",
       "      <td>0.023695</td>\n",
       "    </tr>\n",
       "    <tr>\n",
       "      <th>2020-12-14</th>\n",
       "      <th>ES,DE,DK,HR,IE,IT,LV,NL,PL</th>\n",
       "      <td>58482</td>\n",
       "      <td>71851</td>\n",
       "      <td>26689</td>\n",
       "      <td>24378</td>\n",
       "      <td>181</td>\n",
       "      <td>2282</td>\n",
       "      <td>10.682734</td>\n",
       "      <td>0.031760</td>\n",
       "    </tr>\n",
       "    <tr>\n",
       "      <th>2020-12-13</th>\n",
       "      <th>ES,DE,DK,HR,IE,IT,LV,NL,PL</th>\n",
       "      <td>58625</td>\n",
       "      <td>71028</td>\n",
       "      <td>26892</td>\n",
       "      <td>27102</td>\n",
       "      <td>96</td>\n",
       "      <td>2712</td>\n",
       "      <td>9.993363</td>\n",
       "      <td>0.038182</td>\n",
       "    </tr>\n",
       "    <tr>\n",
       "      <th>2020-12-12</th>\n",
       "      <th>ES,DE,DK,HR,IE,IT,LV,NL,PL</th>\n",
       "      <td>70972</td>\n",
       "      <td>69990</td>\n",
       "      <td>27480</td>\n",
       "      <td>38739</td>\n",
       "      <td>208</td>\n",
       "      <td>3729</td>\n",
       "      <td>10.388576</td>\n",
       "      <td>0.053279</td>\n",
       "    </tr>\n",
       "    <tr>\n",
       "      <th>2020-12-11</th>\n",
       "      <th>ES,DE,DK,HR,IE,IT,LV,NL,PL</th>\n",
       "      <td>87002</td>\n",
       "      <td>70384</td>\n",
       "      <td>29662</td>\n",
       "      <td>44911</td>\n",
       "      <td>258</td>\n",
       "      <td>4215</td>\n",
       "      <td>10.655042</td>\n",
       "      <td>0.059886</td>\n",
       "    </tr>\n",
       "    <tr>\n",
       "      <th>2020-12-10</th>\n",
       "      <th>ES,DE,DK,HR,IE,IT,LV,NL,PL</th>\n",
       "      <td>89212</td>\n",
       "      <td>68616</td>\n",
       "      <td>31986</td>\n",
       "      <td>40322</td>\n",
       "      <td>207</td>\n",
       "      <td>3754</td>\n",
       "      <td>10.741076</td>\n",
       "      <td>0.054710</td>\n",
       "    </tr>\n",
       "    <tr>\n",
       "      <th>2020-12-09</th>\n",
       "      <th>ES,DE,DK,HR,IE,IT,LV,NL,PL</th>\n",
       "      <td>74442</td>\n",
       "      <td>67982</td>\n",
       "      <td>31696</td>\n",
       "      <td>43004</td>\n",
       "      <td>117</td>\n",
       "      <td>4014</td>\n",
       "      <td>10.713503</td>\n",
       "      <td>0.059045</td>\n",
       "    </tr>\n",
       "    <tr>\n",
       "      <th>2020-12-08</th>\n",
       "      <th>ES,DE,DK,HR,IE,IT,LV,NL,PL</th>\n",
       "      <td>64223</td>\n",
       "      <td>68538</td>\n",
       "      <td>30352</td>\n",
       "      <td>30102</td>\n",
       "      <td>121</td>\n",
       "      <td>2641</td>\n",
       "      <td>11.397955</td>\n",
       "      <td>0.038533</td>\n",
       "    </tr>\n",
       "    <tr>\n",
       "      <th>2020-12-07</th>\n",
       "      <th>ES,DE,DK,HR,IE,IT,LV,NL,PL</th>\n",
       "      <td>52720</td>\n",
       "      <td>69494</td>\n",
       "      <td>29410</td>\n",
       "      <td>20104</td>\n",
       "      <td>116</td>\n",
       "      <td>1823</td>\n",
       "      <td>11.027976</td>\n",
       "      <td>0.026232</td>\n",
       "    </tr>\n",
       "    <tr>\n",
       "      <th>2020-12-06</th>\n",
       "      <th>ES,DE,DK,HR,IE,IT,LV,NL,PL</th>\n",
       "      <td>51357</td>\n",
       "      <td>71144</td>\n",
       "      <td>26784</td>\n",
       "      <td>17206</td>\n",
       "      <td>152</td>\n",
       "      <td>1707</td>\n",
       "      <td>10.079672</td>\n",
       "      <td>0.023994</td>\n",
       "    </tr>\n",
       "    <tr>\n",
       "      <th>2020-12-05</th>\n",
       "      <th>ES,DE,DK,HR,IE,IT,LV,NL,PL</th>\n",
       "      <td>73732</td>\n",
       "      <td>70329</td>\n",
       "      <td>29973</td>\n",
       "      <td>106219</td>\n",
       "      <td>167</td>\n",
       "      <td>0</td>\n",
       "      <td>0.000000</td>\n",
       "      <td>0.000000</td>\n",
       "    </tr>\n",
       "    <tr>\n",
       "      <th>2020-12-04</th>\n",
       "      <th>ES</th>\n",
       "      <td>8745</td>\n",
       "      <td>8063</td>\n",
       "      <td>34098</td>\n",
       "      <td>794</td>\n",
       "      <td>158</td>\n",
       "      <td>188</td>\n",
       "      <td>4.223404</td>\n",
       "      <td>0.023316</td>\n",
       "    </tr>\n",
       "    <tr>\n",
       "      <th>2020-12-03</th>\n",
       "      <th>ES</th>\n",
       "      <td>10127</td>\n",
       "      <td>8364</td>\n",
       "      <td>32848</td>\n",
       "      <td>828</td>\n",
       "      <td>161</td>\n",
       "      <td>189</td>\n",
       "      <td>4.380952</td>\n",
       "      <td>0.022597</td>\n",
       "    </tr>\n",
       "    <tr>\n",
       "      <th>2020-12-02</th>\n",
       "      <th>ES,DE,DK,HR,IE,IT,LV,NL,PL</th>\n",
       "      <td>78330</td>\n",
       "      <td>72301</td>\n",
       "      <td>30802</td>\n",
       "      <td>5371</td>\n",
       "      <td>197</td>\n",
       "      <td>0</td>\n",
       "      <td>0.000000</td>\n",
       "      <td>0.000000</td>\n",
       "    </tr>\n",
       "    <tr>\n",
       "      <th>2020-12-01</th>\n",
       "      <th>ES,DE,DK,HR,IE,IT,LV,PL</th>\n",
       "      <td>66717</td>\n",
       "      <td>69706</td>\n",
       "      <td>31815</td>\n",
       "      <td>24674</td>\n",
       "      <td>189</td>\n",
       "      <td>2238</td>\n",
       "      <td>11.025022</td>\n",
       "      <td>0.032106</td>\n",
       "    </tr>\n",
       "    <tr>\n",
       "      <th>2020-11-30</th>\n",
       "      <th>ES,DE,DK,HR,IE,IT,LV,PL</th>\n",
       "      <td>59675</td>\n",
       "      <td>72879</td>\n",
       "      <td>31854</td>\n",
       "      <td>15031</td>\n",
       "      <td>126</td>\n",
       "      <td>1430</td>\n",
       "      <td>10.511189</td>\n",
       "      <td>0.019622</td>\n",
       "    </tr>\n",
       "    <tr>\n",
       "      <th>2020-11-29</th>\n",
       "      <th>ES,DE,DK,HR,IE,IT,LV,PL</th>\n",
       "      <td>39955</td>\n",
       "      <td>76036</td>\n",
       "      <td>30585</td>\n",
       "      <td>17305</td>\n",
       "      <td>128</td>\n",
       "      <td>1684</td>\n",
       "      <td>10.276128</td>\n",
       "      <td>0.022147</td>\n",
       "    </tr>\n",
       "    <tr>\n",
       "      <th>2020-11-28</th>\n",
       "      <th>ES,DE,DK,HR,IE,IT,LV,PL</th>\n",
       "      <td>61958</td>\n",
       "      <td>78246</td>\n",
       "      <td>28682</td>\n",
       "      <td>25028</td>\n",
       "      <td>159</td>\n",
       "      <td>2398</td>\n",
       "      <td>10.437031</td>\n",
       "      <td>0.030647</td>\n",
       "    </tr>\n",
       "    <tr>\n",
       "      <th>2020-11-27</th>\n",
       "      <th>ES,DE,DK,HR,IE,IT,LV,PL</th>\n",
       "      <td>83563</td>\n",
       "      <td>80635</td>\n",
       "      <td>27709</td>\n",
       "      <td>27522</td>\n",
       "      <td>254</td>\n",
       "      <td>2555</td>\n",
       "      <td>10.771820</td>\n",
       "      <td>0.031686</td>\n",
       "    </tr>\n",
       "    <tr>\n",
       "      <th>2020-11-26</th>\n",
       "      <th>ES,DE,DK,HR,IE,IT,LV,PL</th>\n",
       "      <td>86336</td>\n",
       "      <td>83322</td>\n",
       "      <td>26652</td>\n",
       "      <td>31914</td>\n",
       "      <td>216</td>\n",
       "      <td>3037</td>\n",
       "      <td>10.508396</td>\n",
       "      <td>0.036449</td>\n",
       "    </tr>\n",
       "    <tr>\n",
       "      <th>2020-11-25</th>\n",
       "      <th>ES,DE,DK,HR,IE,IT,LV</th>\n",
       "      <td>74384</td>\n",
       "      <td>64427</td>\n",
       "      <td>25505</td>\n",
       "      <td>30693</td>\n",
       "      <td>227</td>\n",
       "      <td>2822</td>\n",
       "      <td>10.876329</td>\n",
       "      <td>0.043802</td>\n",
       "    </tr>\n",
       "    <tr>\n",
       "      <th>2020-11-24</th>\n",
       "      <th>ES,DE,DK,HR,IE,IT,LV</th>\n",
       "      <td>56191</td>\n",
       "      <td>65036</td>\n",
       "      <td>25565</td>\n",
       "      <td>17800</td>\n",
       "      <td>164</td>\n",
       "      <td>1667</td>\n",
       "      <td>10.677864</td>\n",
       "      <td>0.025632</td>\n",
       "    </tr>\n",
       "    <tr>\n",
       "      <th>2020-11-23</th>\n",
       "      <th>ES,DE,DK,HR,IE,IT,LV</th>\n",
       "      <td>66776</td>\n",
       "      <td>67773</td>\n",
       "      <td>25612</td>\n",
       "      <td>13061</td>\n",
       "      <td>147</td>\n",
       "      <td>1332</td>\n",
       "      <td>9.805556</td>\n",
       "      <td>0.019654</td>\n",
       "    </tr>\n",
       "  </tbody>\n",
       "</table>\n",
       "</div>"
      ],
      "text/plain": [
       "                                        new_cases  covid_cases  \\\n",
       "sample_date source_regions                                       \n",
       "2020-12-20  ES,DE,DK,HR,IE,IT,LV,NL,PL      68947        77951   \n",
       "2020-12-19  ES,DE,DK,HR,IE,IT,LV,NL,PL      68947        77951   \n",
       "2020-12-18  ES,DE,DK,HR,IE,IT,LV,NL,PL      92328        78240   \n",
       "2020-12-17  ES,DE,DK,HR,IE,IT,LV,NL,PL      94842        77479   \n",
       "2020-12-16  ES,DE,DK,HR,IE,IT,LV,NL,PL      93581        76675   \n",
       "2020-12-15  ES,DE,DK,HR,IE,IT,LV,NL,PL      78850        73941   \n",
       "2020-12-14  ES,DE,DK,HR,IE,IT,LV,NL,PL      58482        71851   \n",
       "2020-12-13  ES,DE,DK,HR,IE,IT,LV,NL,PL      58625        71028   \n",
       "2020-12-12  ES,DE,DK,HR,IE,IT,LV,NL,PL      70972        69990   \n",
       "2020-12-11  ES,DE,DK,HR,IE,IT,LV,NL,PL      87002        70384   \n",
       "2020-12-10  ES,DE,DK,HR,IE,IT,LV,NL,PL      89212        68616   \n",
       "2020-12-09  ES,DE,DK,HR,IE,IT,LV,NL,PL      74442        67982   \n",
       "2020-12-08  ES,DE,DK,HR,IE,IT,LV,NL,PL      64223        68538   \n",
       "2020-12-07  ES,DE,DK,HR,IE,IT,LV,NL,PL      52720        69494   \n",
       "2020-12-06  ES,DE,DK,HR,IE,IT,LV,NL,PL      51357        71144   \n",
       "2020-12-05  ES,DE,DK,HR,IE,IT,LV,NL,PL      73732        70329   \n",
       "2020-12-04  ES                               8745         8063   \n",
       "2020-12-03  ES                              10127         8364   \n",
       "2020-12-02  ES,DE,DK,HR,IE,IT,LV,NL,PL      78330        72301   \n",
       "2020-12-01  ES,DE,DK,HR,IE,IT,LV,PL         66717        69706   \n",
       "2020-11-30  ES,DE,DK,HR,IE,IT,LV,PL         59675        72879   \n",
       "2020-11-29  ES,DE,DK,HR,IE,IT,LV,PL         39955        76036   \n",
       "2020-11-28  ES,DE,DK,HR,IE,IT,LV,PL         61958        78246   \n",
       "2020-11-27  ES,DE,DK,HR,IE,IT,LV,PL         83563        80635   \n",
       "2020-11-26  ES,DE,DK,HR,IE,IT,LV,PL         86336        83322   \n",
       "2020-11-25  ES,DE,DK,HR,IE,IT,LV            74384        64427   \n",
       "2020-11-24  ES,DE,DK,HR,IE,IT,LV            56191        65036   \n",
       "2020-11-23  ES,DE,DK,HR,IE,IT,LV            66776        67773   \n",
       "\n",
       "                                        shared_teks_by_generation_date  \\\n",
       "sample_date source_regions                                               \n",
       "2020-12-20  ES,DE,DK,HR,IE,IT,LV,NL,PL                             665   \n",
       "2020-12-19  ES,DE,DK,HR,IE,IT,LV,NL,PL                            5585   \n",
       "2020-12-18  ES,DE,DK,HR,IE,IT,LV,NL,PL                           10030   \n",
       "2020-12-17  ES,DE,DK,HR,IE,IT,LV,NL,PL                           15176   \n",
       "2020-12-16  ES,DE,DK,HR,IE,IT,LV,NL,PL                           20253   \n",
       "2020-12-15  ES,DE,DK,HR,IE,IT,LV,NL,PL                           24199   \n",
       "2020-12-14  ES,DE,DK,HR,IE,IT,LV,NL,PL                           26689   \n",
       "2020-12-13  ES,DE,DK,HR,IE,IT,LV,NL,PL                           26892   \n",
       "2020-12-12  ES,DE,DK,HR,IE,IT,LV,NL,PL                           27480   \n",
       "2020-12-11  ES,DE,DK,HR,IE,IT,LV,NL,PL                           29662   \n",
       "2020-12-10  ES,DE,DK,HR,IE,IT,LV,NL,PL                           31986   \n",
       "2020-12-09  ES,DE,DK,HR,IE,IT,LV,NL,PL                           31696   \n",
       "2020-12-08  ES,DE,DK,HR,IE,IT,LV,NL,PL                           30352   \n",
       "2020-12-07  ES,DE,DK,HR,IE,IT,LV,NL,PL                           29410   \n",
       "2020-12-06  ES,DE,DK,HR,IE,IT,LV,NL,PL                           26784   \n",
       "2020-12-05  ES,DE,DK,HR,IE,IT,LV,NL,PL                           29973   \n",
       "2020-12-04  ES                                                   34098   \n",
       "2020-12-03  ES                                                   32848   \n",
       "2020-12-02  ES,DE,DK,HR,IE,IT,LV,NL,PL                           30802   \n",
       "2020-12-01  ES,DE,DK,HR,IE,IT,LV,PL                              31815   \n",
       "2020-11-30  ES,DE,DK,HR,IE,IT,LV,PL                              31854   \n",
       "2020-11-29  ES,DE,DK,HR,IE,IT,LV,PL                              30585   \n",
       "2020-11-28  ES,DE,DK,HR,IE,IT,LV,PL                              28682   \n",
       "2020-11-27  ES,DE,DK,HR,IE,IT,LV,PL                              27709   \n",
       "2020-11-26  ES,DE,DK,HR,IE,IT,LV,PL                              26652   \n",
       "2020-11-25  ES,DE,DK,HR,IE,IT,LV                                 25505   \n",
       "2020-11-24  ES,DE,DK,HR,IE,IT,LV                                 25565   \n",
       "2020-11-23  ES,DE,DK,HR,IE,IT,LV                                 25612   \n",
       "\n",
       "                                        shared_teks_by_upload_date  \\\n",
       "sample_date source_regions                                           \n",
       "2020-12-20  ES,DE,DK,HR,IE,IT,LV,NL,PL                       91025   \n",
       "2020-12-19  ES,DE,DK,HR,IE,IT,LV,NL,PL                        1157   \n",
       "2020-12-18  ES,DE,DK,HR,IE,IT,LV,NL,PL                       73609   \n",
       "2020-12-17  ES,DE,DK,HR,IE,IT,LV,NL,PL                       50571   \n",
       "2020-12-16  ES,DE,DK,HR,IE,IT,LV,NL,PL                       59480   \n",
       "2020-12-15  ES,DE,DK,HR,IE,IT,LV,NL,PL                       18196   \n",
       "2020-12-14  ES,DE,DK,HR,IE,IT,LV,NL,PL                       24378   \n",
       "2020-12-13  ES,DE,DK,HR,IE,IT,LV,NL,PL                       27102   \n",
       "2020-12-12  ES,DE,DK,HR,IE,IT,LV,NL,PL                       38739   \n",
       "2020-12-11  ES,DE,DK,HR,IE,IT,LV,NL,PL                       44911   \n",
       "2020-12-10  ES,DE,DK,HR,IE,IT,LV,NL,PL                       40322   \n",
       "2020-12-09  ES,DE,DK,HR,IE,IT,LV,NL,PL                       43004   \n",
       "2020-12-08  ES,DE,DK,HR,IE,IT,LV,NL,PL                       30102   \n",
       "2020-12-07  ES,DE,DK,HR,IE,IT,LV,NL,PL                       20104   \n",
       "2020-12-06  ES,DE,DK,HR,IE,IT,LV,NL,PL                       17206   \n",
       "2020-12-05  ES,DE,DK,HR,IE,IT,LV,NL,PL                      106219   \n",
       "2020-12-04  ES                                                 794   \n",
       "2020-12-03  ES                                                 828   \n",
       "2020-12-02  ES,DE,DK,HR,IE,IT,LV,NL,PL                        5371   \n",
       "2020-12-01  ES,DE,DK,HR,IE,IT,LV,PL                          24674   \n",
       "2020-11-30  ES,DE,DK,HR,IE,IT,LV,PL                          15031   \n",
       "2020-11-29  ES,DE,DK,HR,IE,IT,LV,PL                          17305   \n",
       "2020-11-28  ES,DE,DK,HR,IE,IT,LV,PL                          25028   \n",
       "2020-11-27  ES,DE,DK,HR,IE,IT,LV,PL                          27522   \n",
       "2020-11-26  ES,DE,DK,HR,IE,IT,LV,PL                          31914   \n",
       "2020-11-25  ES,DE,DK,HR,IE,IT,LV                             30693   \n",
       "2020-11-24  ES,DE,DK,HR,IE,IT,LV                             17800   \n",
       "2020-11-23  ES,DE,DK,HR,IE,IT,LV                             13061   \n",
       "\n",
       "                                        shared_teks_uploaded_on_generation_date  \\\n",
       "sample_date source_regions                                                        \n",
       "2020-12-20  ES,DE,DK,HR,IE,IT,LV,NL,PL                                      665   \n",
       "2020-12-19  ES,DE,DK,HR,IE,IT,LV,NL,PL                                      149   \n",
       "2020-12-18  ES,DE,DK,HR,IE,IT,LV,NL,PL                                      355   \n",
       "2020-12-17  ES,DE,DK,HR,IE,IT,LV,NL,PL                                      295   \n",
       "2020-12-16  ES,DE,DK,HR,IE,IT,LV,NL,PL                                      299   \n",
       "2020-12-15  ES,DE,DK,HR,IE,IT,LV,NL,PL                                      168   \n",
       "2020-12-14  ES,DE,DK,HR,IE,IT,LV,NL,PL                                      181   \n",
       "2020-12-13  ES,DE,DK,HR,IE,IT,LV,NL,PL                                       96   \n",
       "2020-12-12  ES,DE,DK,HR,IE,IT,LV,NL,PL                                      208   \n",
       "2020-12-11  ES,DE,DK,HR,IE,IT,LV,NL,PL                                      258   \n",
       "2020-12-10  ES,DE,DK,HR,IE,IT,LV,NL,PL                                      207   \n",
       "2020-12-09  ES,DE,DK,HR,IE,IT,LV,NL,PL                                      117   \n",
       "2020-12-08  ES,DE,DK,HR,IE,IT,LV,NL,PL                                      121   \n",
       "2020-12-07  ES,DE,DK,HR,IE,IT,LV,NL,PL                                      116   \n",
       "2020-12-06  ES,DE,DK,HR,IE,IT,LV,NL,PL                                      152   \n",
       "2020-12-05  ES,DE,DK,HR,IE,IT,LV,NL,PL                                      167   \n",
       "2020-12-04  ES                                                              158   \n",
       "2020-12-03  ES                                                              161   \n",
       "2020-12-02  ES,DE,DK,HR,IE,IT,LV,NL,PL                                      197   \n",
       "2020-12-01  ES,DE,DK,HR,IE,IT,LV,PL                                         189   \n",
       "2020-11-30  ES,DE,DK,HR,IE,IT,LV,PL                                         126   \n",
       "2020-11-29  ES,DE,DK,HR,IE,IT,LV,PL                                         128   \n",
       "2020-11-28  ES,DE,DK,HR,IE,IT,LV,PL                                         159   \n",
       "2020-11-27  ES,DE,DK,HR,IE,IT,LV,PL                                         254   \n",
       "2020-11-26  ES,DE,DK,HR,IE,IT,LV,PL                                         216   \n",
       "2020-11-25  ES,DE,DK,HR,IE,IT,LV                                            227   \n",
       "2020-11-24  ES,DE,DK,HR,IE,IT,LV                                            164   \n",
       "2020-11-23  ES,DE,DK,HR,IE,IT,LV                                            147   \n",
       "\n",
       "                                        shared_diagnoses  \\\n",
       "sample_date source_regions                                 \n",
       "2020-12-20  ES,DE,DK,HR,IE,IT,LV,NL,PL              9881   \n",
       "2020-12-19  ES,DE,DK,HR,IE,IT,LV,NL,PL                 0   \n",
       "2020-12-18  ES,DE,DK,HR,IE,IT,LV,NL,PL              7851   \n",
       "2020-12-17  ES,DE,DK,HR,IE,IT,LV,NL,PL              4690   \n",
       "2020-12-16  ES,DE,DK,HR,IE,IT,LV,NL,PL              5725   \n",
       "2020-12-15  ES,DE,DK,HR,IE,IT,LV,NL,PL              1752   \n",
       "2020-12-14  ES,DE,DK,HR,IE,IT,LV,NL,PL              2282   \n",
       "2020-12-13  ES,DE,DK,HR,IE,IT,LV,NL,PL              2712   \n",
       "2020-12-12  ES,DE,DK,HR,IE,IT,LV,NL,PL              3729   \n",
       "2020-12-11  ES,DE,DK,HR,IE,IT,LV,NL,PL              4215   \n",
       "2020-12-10  ES,DE,DK,HR,IE,IT,LV,NL,PL              3754   \n",
       "2020-12-09  ES,DE,DK,HR,IE,IT,LV,NL,PL              4014   \n",
       "2020-12-08  ES,DE,DK,HR,IE,IT,LV,NL,PL              2641   \n",
       "2020-12-07  ES,DE,DK,HR,IE,IT,LV,NL,PL              1823   \n",
       "2020-12-06  ES,DE,DK,HR,IE,IT,LV,NL,PL              1707   \n",
       "2020-12-05  ES,DE,DK,HR,IE,IT,LV,NL,PL                 0   \n",
       "2020-12-04  ES                                       188   \n",
       "2020-12-03  ES                                       189   \n",
       "2020-12-02  ES,DE,DK,HR,IE,IT,LV,NL,PL                 0   \n",
       "2020-12-01  ES,DE,DK,HR,IE,IT,LV,PL                 2238   \n",
       "2020-11-30  ES,DE,DK,HR,IE,IT,LV,PL                 1430   \n",
       "2020-11-29  ES,DE,DK,HR,IE,IT,LV,PL                 1684   \n",
       "2020-11-28  ES,DE,DK,HR,IE,IT,LV,PL                 2398   \n",
       "2020-11-27  ES,DE,DK,HR,IE,IT,LV,PL                 2555   \n",
       "2020-11-26  ES,DE,DK,HR,IE,IT,LV,PL                 3037   \n",
       "2020-11-25  ES,DE,DK,HR,IE,IT,LV                    2822   \n",
       "2020-11-24  ES,DE,DK,HR,IE,IT,LV                    1667   \n",
       "2020-11-23  ES,DE,DK,HR,IE,IT,LV                    1332   \n",
       "\n",
       "                                        teks_per_shared_diagnosis  \\\n",
       "sample_date source_regions                                          \n",
       "2020-12-20  ES,DE,DK,HR,IE,IT,LV,NL,PL                   9.212124   \n",
       "2020-12-19  ES,DE,DK,HR,IE,IT,LV,NL,PL                   0.000000   \n",
       "2020-12-18  ES,DE,DK,HR,IE,IT,LV,NL,PL                   9.375748   \n",
       "2020-12-17  ES,DE,DK,HR,IE,IT,LV,NL,PL                  10.782729   \n",
       "2020-12-16  ES,DE,DK,HR,IE,IT,LV,NL,PL                  10.389520   \n",
       "2020-12-15  ES,DE,DK,HR,IE,IT,LV,NL,PL                  10.385845   \n",
       "2020-12-14  ES,DE,DK,HR,IE,IT,LV,NL,PL                  10.682734   \n",
       "2020-12-13  ES,DE,DK,HR,IE,IT,LV,NL,PL                   9.993363   \n",
       "2020-12-12  ES,DE,DK,HR,IE,IT,LV,NL,PL                  10.388576   \n",
       "2020-12-11  ES,DE,DK,HR,IE,IT,LV,NL,PL                  10.655042   \n",
       "2020-12-10  ES,DE,DK,HR,IE,IT,LV,NL,PL                  10.741076   \n",
       "2020-12-09  ES,DE,DK,HR,IE,IT,LV,NL,PL                  10.713503   \n",
       "2020-12-08  ES,DE,DK,HR,IE,IT,LV,NL,PL                  11.397955   \n",
       "2020-12-07  ES,DE,DK,HR,IE,IT,LV,NL,PL                  11.027976   \n",
       "2020-12-06  ES,DE,DK,HR,IE,IT,LV,NL,PL                  10.079672   \n",
       "2020-12-05  ES,DE,DK,HR,IE,IT,LV,NL,PL                   0.000000   \n",
       "2020-12-04  ES                                           4.223404   \n",
       "2020-12-03  ES                                           4.380952   \n",
       "2020-12-02  ES,DE,DK,HR,IE,IT,LV,NL,PL                   0.000000   \n",
       "2020-12-01  ES,DE,DK,HR,IE,IT,LV,PL                     11.025022   \n",
       "2020-11-30  ES,DE,DK,HR,IE,IT,LV,PL                     10.511189   \n",
       "2020-11-29  ES,DE,DK,HR,IE,IT,LV,PL                     10.276128   \n",
       "2020-11-28  ES,DE,DK,HR,IE,IT,LV,PL                     10.437031   \n",
       "2020-11-27  ES,DE,DK,HR,IE,IT,LV,PL                     10.771820   \n",
       "2020-11-26  ES,DE,DK,HR,IE,IT,LV,PL                     10.508396   \n",
       "2020-11-25  ES,DE,DK,HR,IE,IT,LV                        10.876329   \n",
       "2020-11-24  ES,DE,DK,HR,IE,IT,LV                        10.677864   \n",
       "2020-11-23  ES,DE,DK,HR,IE,IT,LV                         9.805556   \n",
       "\n",
       "                                        shared_diagnoses_per_covid_case  \n",
       "sample_date source_regions                                               \n",
       "2020-12-20  ES,DE,DK,HR,IE,IT,LV,NL,PL                         0.126759  \n",
       "2020-12-19  ES,DE,DK,HR,IE,IT,LV,NL,PL                         0.000000  \n",
       "2020-12-18  ES,DE,DK,HR,IE,IT,LV,NL,PL                         0.100345  \n",
       "2020-12-17  ES,DE,DK,HR,IE,IT,LV,NL,PL                         0.060533  \n",
       "2020-12-16  ES,DE,DK,HR,IE,IT,LV,NL,PL                         0.074666  \n",
       "2020-12-15  ES,DE,DK,HR,IE,IT,LV,NL,PL                         0.023695  \n",
       "2020-12-14  ES,DE,DK,HR,IE,IT,LV,NL,PL                         0.031760  \n",
       "2020-12-13  ES,DE,DK,HR,IE,IT,LV,NL,PL                         0.038182  \n",
       "2020-12-12  ES,DE,DK,HR,IE,IT,LV,NL,PL                         0.053279  \n",
       "2020-12-11  ES,DE,DK,HR,IE,IT,LV,NL,PL                         0.059886  \n",
       "2020-12-10  ES,DE,DK,HR,IE,IT,LV,NL,PL                         0.054710  \n",
       "2020-12-09  ES,DE,DK,HR,IE,IT,LV,NL,PL                         0.059045  \n",
       "2020-12-08  ES,DE,DK,HR,IE,IT,LV,NL,PL                         0.038533  \n",
       "2020-12-07  ES,DE,DK,HR,IE,IT,LV,NL,PL                         0.026232  \n",
       "2020-12-06  ES,DE,DK,HR,IE,IT,LV,NL,PL                         0.023994  \n",
       "2020-12-05  ES,DE,DK,HR,IE,IT,LV,NL,PL                         0.000000  \n",
       "2020-12-04  ES                                                 0.023316  \n",
       "2020-12-03  ES                                                 0.022597  \n",
       "2020-12-02  ES,DE,DK,HR,IE,IT,LV,NL,PL                         0.000000  \n",
       "2020-12-01  ES,DE,DK,HR,IE,IT,LV,PL                            0.032106  \n",
       "2020-11-30  ES,DE,DK,HR,IE,IT,LV,PL                            0.019622  \n",
       "2020-11-29  ES,DE,DK,HR,IE,IT,LV,PL                            0.022147  \n",
       "2020-11-28  ES,DE,DK,HR,IE,IT,LV,PL                            0.030647  \n",
       "2020-11-27  ES,DE,DK,HR,IE,IT,LV,PL                            0.031686  \n",
       "2020-11-26  ES,DE,DK,HR,IE,IT,LV,PL                            0.036449  \n",
       "2020-11-25  ES,DE,DK,HR,IE,IT,LV                               0.043802  \n",
       "2020-11-24  ES,DE,DK,HR,IE,IT,LV                               0.025632  \n",
       "2020-11-23  ES,DE,DK,HR,IE,IT,LV                               0.019654  "
      ]
     },
     "execution_count": 47,
     "metadata": {},
     "output_type": "execute_result"
    }
   ],
   "source": [
    "with pd.option_context(\"mode.use_inf_as_na\", True):\n",
    "    result_summary_df = result_summary_df.fillna(0).astype(int)\n",
    "    result_summary_df[\"teks_per_shared_diagnosis\"] = \\\n",
    "        (result_summary_df.shared_teks_by_upload_date / result_summary_df.shared_diagnoses).fillna(0)\n",
    "    result_summary_df[\"shared_diagnoses_per_covid_case\"] = \\\n",
    "        (result_summary_df.shared_diagnoses / result_summary_df.covid_cases).fillna(0)\n",
    "\n",
    "result_summary_df.head(daily_plot_days)"
   ]
  },
  {
   "cell_type": "code",
   "execution_count": 48,
   "metadata": {
    "collapsed": false,
    "execution": {
     "iopub.execute_input": "2020-12-20T23:32:25.167938Z",
     "iopub.status.busy": "2020-12-20T23:32:25.167472Z",
     "iopub.status.idle": "2020-12-20T23:32:25.182202Z",
     "shell.execute_reply": "2020-12-20T23:32:25.181753Z"
    },
    "papermill": {
     "duration": 0.077739,
     "end_time": "2020-12-20T23:32:25.182317",
     "exception": false,
     "start_time": "2020-12-20T23:32:25.104578",
     "status": "completed"
    },
    "pycharm": {
     "name": "#%%\n"
    },
    "tags": []
   },
   "outputs": [
    {
     "data": {
      "text/html": [
       "<div>\n",
       "<style scoped>\n",
       "    .dataframe tbody tr th:only-of-type {\n",
       "        vertical-align: middle;\n",
       "    }\n",
       "\n",
       "    .dataframe tbody tr th {\n",
       "        vertical-align: top;\n",
       "    }\n",
       "\n",
       "    .dataframe thead th {\n",
       "        text-align: right;\n",
       "    }\n",
       "</style>\n",
       "<table border=\"1\" class=\"dataframe\">\n",
       "  <thead>\n",
       "    <tr style=\"text-align: right;\">\n",
       "      <th></th>\n",
       "      <th></th>\n",
       "      <th>covid_cases</th>\n",
       "      <th>shared_teks_by_generation_date</th>\n",
       "      <th>shared_teks_by_upload_date</th>\n",
       "      <th>shared_diagnoses</th>\n",
       "      <th>teks_per_shared_diagnosis</th>\n",
       "      <th>shared_diagnoses_per_covid_case</th>\n",
       "    </tr>\n",
       "    <tr>\n",
       "      <th>sample_date</th>\n",
       "      <th>source_regions</th>\n",
       "      <th></th>\n",
       "      <th></th>\n",
       "      <th></th>\n",
       "      <th></th>\n",
       "      <th></th>\n",
       "      <th></th>\n",
       "    </tr>\n",
       "  </thead>\n",
       "  <tbody>\n",
       "    <tr>\n",
       "      <th>2020-12-20</th>\n",
       "      <th>ES,DE,DK,HR,IE,IT,LV,NL,PL</th>\n",
       "      <td>534088</td>\n",
       "      <td>102597</td>\n",
       "      <td>318416</td>\n",
       "      <td>32181</td>\n",
       "      <td>9.894534</td>\n",
       "      <td>0.060254</td>\n",
       "    </tr>\n",
       "    <tr>\n",
       "      <th>2020-12-19</th>\n",
       "      <th>ES,DE,DK,HR,IE,IT,LV,NL,PL</th>\n",
       "      <td>527165</td>\n",
       "      <td>128824</td>\n",
       "      <td>254493</td>\n",
       "      <td>25012</td>\n",
       "      <td>10.174836</td>\n",
       "      <td>0.047446</td>\n",
       "    </tr>\n",
       "    <tr>\n",
       "      <th>2020-12-18</th>\n",
       "      <th>ES,DE,DK,HR,IE,IT,LV,NL,PL</th>\n",
       "      <td>519204</td>\n",
       "      <td>150719</td>\n",
       "      <td>292075</td>\n",
       "      <td>28741</td>\n",
       "      <td>10.162312</td>\n",
       "      <td>0.055356</td>\n",
       "    </tr>\n",
       "    <tr>\n",
       "      <th>2020-12-17</th>\n",
       "      <th>ES,DE,DK,HR,IE,IT,LV,NL,PL</th>\n",
       "      <td>511348</td>\n",
       "      <td>170351</td>\n",
       "      <td>263377</td>\n",
       "      <td>25105</td>\n",
       "      <td>10.491018</td>\n",
       "      <td>0.049096</td>\n",
       "    </tr>\n",
       "    <tr>\n",
       "      <th>2020-12-16</th>\n",
       "      <th>ES,DE,DK,HR,IE,IT,LV,NL,PL</th>\n",
       "      <td>502485</td>\n",
       "      <td>187161</td>\n",
       "      <td>253128</td>\n",
       "      <td>24169</td>\n",
       "      <td>10.473251</td>\n",
       "      <td>0.048099</td>\n",
       "    </tr>\n",
       "  </tbody>\n",
       "</table>\n",
       "</div>"
      ],
      "text/plain": [
       "                                        covid_cases  \\\n",
       "sample_date source_regions                            \n",
       "2020-12-20  ES,DE,DK,HR,IE,IT,LV,NL,PL       534088   \n",
       "2020-12-19  ES,DE,DK,HR,IE,IT,LV,NL,PL       527165   \n",
       "2020-12-18  ES,DE,DK,HR,IE,IT,LV,NL,PL       519204   \n",
       "2020-12-17  ES,DE,DK,HR,IE,IT,LV,NL,PL       511348   \n",
       "2020-12-16  ES,DE,DK,HR,IE,IT,LV,NL,PL       502485   \n",
       "\n",
       "                                        shared_teks_by_generation_date  \\\n",
       "sample_date source_regions                                               \n",
       "2020-12-20  ES,DE,DK,HR,IE,IT,LV,NL,PL                          102597   \n",
       "2020-12-19  ES,DE,DK,HR,IE,IT,LV,NL,PL                          128824   \n",
       "2020-12-18  ES,DE,DK,HR,IE,IT,LV,NL,PL                          150719   \n",
       "2020-12-17  ES,DE,DK,HR,IE,IT,LV,NL,PL                          170351   \n",
       "2020-12-16  ES,DE,DK,HR,IE,IT,LV,NL,PL                          187161   \n",
       "\n",
       "                                        shared_teks_by_upload_date  \\\n",
       "sample_date source_regions                                           \n",
       "2020-12-20  ES,DE,DK,HR,IE,IT,LV,NL,PL                      318416   \n",
       "2020-12-19  ES,DE,DK,HR,IE,IT,LV,NL,PL                      254493   \n",
       "2020-12-18  ES,DE,DK,HR,IE,IT,LV,NL,PL                      292075   \n",
       "2020-12-17  ES,DE,DK,HR,IE,IT,LV,NL,PL                      263377   \n",
       "2020-12-16  ES,DE,DK,HR,IE,IT,LV,NL,PL                      253128   \n",
       "\n",
       "                                        shared_diagnoses  \\\n",
       "sample_date source_regions                                 \n",
       "2020-12-20  ES,DE,DK,HR,IE,IT,LV,NL,PL             32181   \n",
       "2020-12-19  ES,DE,DK,HR,IE,IT,LV,NL,PL             25012   \n",
       "2020-12-18  ES,DE,DK,HR,IE,IT,LV,NL,PL             28741   \n",
       "2020-12-17  ES,DE,DK,HR,IE,IT,LV,NL,PL             25105   \n",
       "2020-12-16  ES,DE,DK,HR,IE,IT,LV,NL,PL             24169   \n",
       "\n",
       "                                        teks_per_shared_diagnosis  \\\n",
       "sample_date source_regions                                          \n",
       "2020-12-20  ES,DE,DK,HR,IE,IT,LV,NL,PL                   9.894534   \n",
       "2020-12-19  ES,DE,DK,HR,IE,IT,LV,NL,PL                  10.174836   \n",
       "2020-12-18  ES,DE,DK,HR,IE,IT,LV,NL,PL                  10.162312   \n",
       "2020-12-17  ES,DE,DK,HR,IE,IT,LV,NL,PL                  10.491018   \n",
       "2020-12-16  ES,DE,DK,HR,IE,IT,LV,NL,PL                  10.473251   \n",
       "\n",
       "                                        shared_diagnoses_per_covid_case  \n",
       "sample_date source_regions                                               \n",
       "2020-12-20  ES,DE,DK,HR,IE,IT,LV,NL,PL                         0.060254  \n",
       "2020-12-19  ES,DE,DK,HR,IE,IT,LV,NL,PL                         0.047446  \n",
       "2020-12-18  ES,DE,DK,HR,IE,IT,LV,NL,PL                         0.055356  \n",
       "2020-12-17  ES,DE,DK,HR,IE,IT,LV,NL,PL                         0.049096  \n",
       "2020-12-16  ES,DE,DK,HR,IE,IT,LV,NL,PL                         0.048099  "
      ]
     },
     "execution_count": 48,
     "metadata": {},
     "output_type": "execute_result"
    }
   ],
   "source": [
    "weekly_result_summary_df = result_summary_df \\\n",
    "    .sort_index(ascending=True).fillna(0).rolling(7).agg({\n",
    "    \"covid_cases\": \"sum\",\n",
    "    \"shared_teks_by_generation_date\": \"sum\",\n",
    "    \"shared_teks_by_upload_date\": \"sum\",\n",
    "    \"shared_diagnoses\": \"sum\"\n",
    "}).sort_index(ascending=False)\n",
    "\n",
    "with pd.option_context(\"mode.use_inf_as_na\", True):\n",
    "    weekly_result_summary_df = weekly_result_summary_df.fillna(0).astype(int)\n",
    "    weekly_result_summary_df[\"teks_per_shared_diagnosis\"] = \\\n",
    "        (weekly_result_summary_df.shared_teks_by_upload_date / weekly_result_summary_df.shared_diagnoses).fillna(0)\n",
    "    weekly_result_summary_df[\"shared_diagnoses_per_covid_case\"] = \\\n",
    "        (weekly_result_summary_df.shared_diagnoses / weekly_result_summary_df.covid_cases).fillna(0)\n",
    "\n",
    "weekly_result_summary_df.head()"
   ]
  },
  {
   "cell_type": "code",
   "execution_count": 49,
   "metadata": {
    "collapsed": false,
    "execution": {
     "iopub.execute_input": "2020-12-20T23:32:25.297381Z",
     "iopub.status.busy": "2020-12-20T23:32:25.296917Z",
     "iopub.status.idle": "2020-12-20T23:32:25.299770Z",
     "shell.execute_reply": "2020-12-20T23:32:25.299405Z"
    },
    "papermill": {
     "duration": 0.062275,
     "end_time": "2020-12-20T23:32:25.299872",
     "exception": false,
     "start_time": "2020-12-20T23:32:25.237597",
     "status": "completed"
    },
    "pycharm": {
     "name": "#%%\n"
    },
    "tags": []
   },
   "outputs": [
    {
     "data": {
      "text/plain": [
       "{'covid_cases': 527165,\n",
       " 'shared_teks_by_generation_date': 128824,\n",
       " 'shared_teks_by_upload_date': 254493,\n",
       " 'shared_diagnoses': 25012,\n",
       " 'teks_per_shared_diagnosis': 10.174836078682233,\n",
       " 'shared_diagnoses_per_covid_case': 0.04744624548291332}"
      ]
     },
     "execution_count": 49,
     "metadata": {},
     "output_type": "execute_result"
    }
   ],
   "source": [
    "last_7_days_summary = weekly_result_summary_df.to_dict(orient=\"records\")[1]\n",
    "last_7_days_summary"
   ]
  },
  {
   "cell_type": "markdown",
   "metadata": {
    "collapsed": false,
    "papermill": {
     "duration": 0.054426,
     "end_time": "2020-12-20T23:32:25.408614",
     "exception": false,
     "start_time": "2020-12-20T23:32:25.354188",
     "status": "completed"
    },
    "tags": []
   },
   "source": [
    "## Report Results"
   ]
  },
  {
   "cell_type": "code",
   "execution_count": 50,
   "metadata": {
    "collapsed": false,
    "execution": {
     "iopub.execute_input": "2020-12-20T23:32:25.523468Z",
     "iopub.status.busy": "2020-12-20T23:32:25.522991Z",
     "iopub.status.idle": "2020-12-20T23:32:25.525119Z",
     "shell.execute_reply": "2020-12-20T23:32:25.524749Z"
    },
    "papermill": {
     "duration": 0.062108,
     "end_time": "2020-12-20T23:32:25.525224",
     "exception": false,
     "start_time": "2020-12-20T23:32:25.463116",
     "status": "completed"
    },
    "pycharm": {
     "name": "#%%\n"
    },
    "tags": []
   },
   "outputs": [],
   "source": [
    "display_column_name_mapping = {\n",
    "    \"sample_date\": \"Sample\\u00A0Date\\u00A0(UTC)\",\n",
    "    \"source_regions\": \"Source Countries\",\n",
    "    \"datetime_utc\": \"Timestamp (UTC)\",\n",
    "    \"upload_date\": \"Upload Date (UTC)\",\n",
    "    \"generation_to_upload_days\": \"Generation to Upload Period in Days\",\n",
    "    \"region\": \"Backend\",\n",
    "    \"region_x\": \"Backend\\u00A0(A)\",\n",
    "    \"region_y\": \"Backend\\u00A0(B)\",\n",
    "    \"common_teks\": \"Common TEKs Shared Between Backends\",\n",
    "    \"common_teks_fraction\": \"Fraction of TEKs in Backend (A) Available in Backend (B)\",\n",
    "    \"covid_cases\": \"COVID-19 Cases in Source Countries (7-day Rolling Average)\",\n",
    "    \"shared_teks_by_generation_date\": \"Shared TEKs by Generation Date\",\n",
    "    \"shared_teks_by_upload_date\": \"Shared TEKs by Upload Date\",\n",
    "    \"shared_diagnoses\": \"Shared Diagnoses (Estimation)\",\n",
    "    \"teks_per_shared_diagnosis\": \"TEKs Uploaded per Shared Diagnosis\",\n",
    "    \"shared_diagnoses_per_covid_case\": \"Usage Ratio (Fraction of Cases in Source Countries Which Shared Diagnosis)\",\n",
    "    \"shared_teks_uploaded_on_generation_date\": \"Shared TEKs Uploaded on Generation Date\",\n",
    "}"
   ]
  },
  {
   "cell_type": "code",
   "execution_count": 51,
   "metadata": {
    "collapsed": false,
    "execution": {
     "iopub.execute_input": "2020-12-20T23:32:25.637584Z",
     "iopub.status.busy": "2020-12-20T23:32:25.637109Z",
     "iopub.status.idle": "2020-12-20T23:32:25.638809Z",
     "shell.execute_reply": "2020-12-20T23:32:25.639240Z"
    },
    "papermill": {
     "duration": 0.059706,
     "end_time": "2020-12-20T23:32:25.639357",
     "exception": false,
     "start_time": "2020-12-20T23:32:25.579651",
     "status": "completed"
    },
    "pycharm": {
     "name": "#%%\n"
    },
    "tags": []
   },
   "outputs": [],
   "source": [
    "summary_columns = [\n",
    "    \"covid_cases\",\n",
    "    \"shared_teks_by_generation_date\",\n",
    "    \"shared_teks_by_upload_date\",\n",
    "    \"shared_teks_uploaded_on_generation_date\",\n",
    "    \"shared_diagnoses\",\n",
    "    \"teks_per_shared_diagnosis\",\n",
    "    \"shared_diagnoses_per_covid_case\",\n",
    "]"
   ]
  },
  {
   "cell_type": "markdown",
   "metadata": {
    "collapsed": false,
    "papermill": {
     "duration": 0.054875,
     "end_time": "2020-12-20T23:32:25.748524",
     "exception": false,
     "start_time": "2020-12-20T23:32:25.693649",
     "status": "completed"
    },
    "tags": []
   },
   "source": [
    "### Daily Summary Table"
   ]
  },
  {
   "cell_type": "code",
   "execution_count": 52,
   "metadata": {
    "collapsed": false,
    "execution": {
     "iopub.execute_input": "2020-12-20T23:32:25.863025Z",
     "iopub.status.busy": "2020-12-20T23:32:25.862539Z",
     "iopub.status.idle": "2020-12-20T23:32:25.883334Z",
     "shell.execute_reply": "2020-12-20T23:32:25.883702Z"
    },
    "papermill": {
     "duration": 0.080528,
     "end_time": "2020-12-20T23:32:25.883838",
     "exception": false,
     "start_time": "2020-12-20T23:32:25.803310",
     "status": "completed"
    },
    "pycharm": {
     "name": "#%%\n"
    },
    "tags": []
   },
   "outputs": [
    {
     "data": {
      "text/html": [
       "<div>\n",
       "<style scoped>\n",
       "    .dataframe tbody tr th:only-of-type {\n",
       "        vertical-align: middle;\n",
       "    }\n",
       "\n",
       "    .dataframe tbody tr th {\n",
       "        vertical-align: top;\n",
       "    }\n",
       "\n",
       "    .dataframe thead th {\n",
       "        text-align: right;\n",
       "    }\n",
       "</style>\n",
       "<table border=\"1\" class=\"dataframe\">\n",
       "  <thead>\n",
       "    <tr style=\"text-align: right;\">\n",
       "      <th></th>\n",
       "      <th></th>\n",
       "      <th>COVID-19 Cases in Source Countries (7-day Rolling Average)</th>\n",
       "      <th>Shared TEKs by Generation Date</th>\n",
       "      <th>Shared TEKs by Upload Date</th>\n",
       "      <th>Shared TEKs Uploaded on Generation Date</th>\n",
       "      <th>Shared Diagnoses (Estimation)</th>\n",
       "      <th>TEKs Uploaded per Shared Diagnosis</th>\n",
       "      <th>Usage Ratio (Fraction of Cases in Source Countries Which Shared Diagnosis)</th>\n",
       "    </tr>\n",
       "    <tr>\n",
       "      <th>Sample Date (UTC)</th>\n",
       "      <th>Source Countries</th>\n",
       "      <th></th>\n",
       "      <th></th>\n",
       "      <th></th>\n",
       "      <th></th>\n",
       "      <th></th>\n",
       "      <th></th>\n",
       "      <th></th>\n",
       "    </tr>\n",
       "  </thead>\n",
       "  <tbody>\n",
       "    <tr>\n",
       "      <th>2020-12-20</th>\n",
       "      <th>ES,DE,DK,HR,IE,IT,LV,NL,PL</th>\n",
       "      <td>77951</td>\n",
       "      <td>665</td>\n",
       "      <td>91025</td>\n",
       "      <td>665</td>\n",
       "      <td>9881</td>\n",
       "      <td>9.212124</td>\n",
       "      <td>0.126759</td>\n",
       "    </tr>\n",
       "    <tr>\n",
       "      <th>2020-12-19</th>\n",
       "      <th>ES,DE,DK,HR,IE,IT,LV,NL,PL</th>\n",
       "      <td>77951</td>\n",
       "      <td>5585</td>\n",
       "      <td>1157</td>\n",
       "      <td>149</td>\n",
       "      <td>0</td>\n",
       "      <td>0.000000</td>\n",
       "      <td>0.000000</td>\n",
       "    </tr>\n",
       "    <tr>\n",
       "      <th>2020-12-18</th>\n",
       "      <th>ES,DE,DK,HR,IE,IT,LV,NL,PL</th>\n",
       "      <td>78240</td>\n",
       "      <td>10030</td>\n",
       "      <td>73609</td>\n",
       "      <td>355</td>\n",
       "      <td>7851</td>\n",
       "      <td>9.375748</td>\n",
       "      <td>0.100345</td>\n",
       "    </tr>\n",
       "    <tr>\n",
       "      <th>2020-12-17</th>\n",
       "      <th>ES,DE,DK,HR,IE,IT,LV,NL,PL</th>\n",
       "      <td>77479</td>\n",
       "      <td>15176</td>\n",
       "      <td>50571</td>\n",
       "      <td>295</td>\n",
       "      <td>4690</td>\n",
       "      <td>10.782729</td>\n",
       "      <td>0.060533</td>\n",
       "    </tr>\n",
       "    <tr>\n",
       "      <th>2020-12-16</th>\n",
       "      <th>ES,DE,DK,HR,IE,IT,LV,NL,PL</th>\n",
       "      <td>76675</td>\n",
       "      <td>20253</td>\n",
       "      <td>59480</td>\n",
       "      <td>299</td>\n",
       "      <td>5725</td>\n",
       "      <td>10.389520</td>\n",
       "      <td>0.074666</td>\n",
       "    </tr>\n",
       "    <tr>\n",
       "      <th>...</th>\n",
       "      <th>...</th>\n",
       "      <td>...</td>\n",
       "      <td>...</td>\n",
       "      <td>...</td>\n",
       "      <td>...</td>\n",
       "      <td>...</td>\n",
       "      <td>...</td>\n",
       "      <td>...</td>\n",
       "    </tr>\n",
       "    <tr>\n",
       "      <th>2020-10-02</th>\n",
       "      <th>ES</th>\n",
       "      <td>10493</td>\n",
       "      <td>312</td>\n",
       "      <td>299</td>\n",
       "      <td>72</td>\n",
       "      <td>72</td>\n",
       "      <td>4.152778</td>\n",
       "      <td>0.006862</td>\n",
       "    </tr>\n",
       "    <tr>\n",
       "      <th>2020-10-01</th>\n",
       "      <th>ES</th>\n",
       "      <td>10628</td>\n",
       "      <td>317</td>\n",
       "      <td>367</td>\n",
       "      <td>75</td>\n",
       "      <td>75</td>\n",
       "      <td>4.893333</td>\n",
       "      <td>0.007057</td>\n",
       "    </tr>\n",
       "    <tr>\n",
       "      <th>2020-09-30</th>\n",
       "      <th>ES</th>\n",
       "      <td>10805</td>\n",
       "      <td>294</td>\n",
       "      <td>271</td>\n",
       "      <td>55</td>\n",
       "      <td>55</td>\n",
       "      <td>4.927273</td>\n",
       "      <td>0.005090</td>\n",
       "    </tr>\n",
       "    <tr>\n",
       "      <th>2020-09-29</th>\n",
       "      <th>ES</th>\n",
       "      <td>9428</td>\n",
       "      <td>265</td>\n",
       "      <td>178</td>\n",
       "      <td>32</td>\n",
       "      <td>44</td>\n",
       "      <td>4.045455</td>\n",
       "      <td>0.004667</td>\n",
       "    </tr>\n",
       "    <tr>\n",
       "      <th>2020-09-28</th>\n",
       "      <th>ES</th>\n",
       "      <td>10971</td>\n",
       "      <td>269</td>\n",
       "      <td>211</td>\n",
       "      <td>44</td>\n",
       "      <td>54</td>\n",
       "      <td>3.907407</td>\n",
       "      <td>0.004922</td>\n",
       "    </tr>\n",
       "  </tbody>\n",
       "</table>\n",
       "<p>84 rows × 7 columns</p>\n",
       "</div>"
      ],
      "text/plain": [
       "                                              COVID-19 Cases in Source Countries (7-day Rolling Average)  \\\n",
       "Sample Date (UTC) Source Countries                                                                         \n",
       "2020-12-20        ES,DE,DK,HR,IE,IT,LV,NL,PL                                              77951            \n",
       "2020-12-19        ES,DE,DK,HR,IE,IT,LV,NL,PL                                              77951            \n",
       "2020-12-18        ES,DE,DK,HR,IE,IT,LV,NL,PL                                              78240            \n",
       "2020-12-17        ES,DE,DK,HR,IE,IT,LV,NL,PL                                              77479            \n",
       "2020-12-16        ES,DE,DK,HR,IE,IT,LV,NL,PL                                              76675            \n",
       "...                                                                                         ...            \n",
       "2020-10-02        ES                                                                      10493            \n",
       "2020-10-01        ES                                                                      10628            \n",
       "2020-09-30        ES                                                                      10805            \n",
       "2020-09-29        ES                                                                       9428            \n",
       "2020-09-28        ES                                                                      10971            \n",
       "\n",
       "                                              Shared TEKs by Generation Date  \\\n",
       "Sample Date (UTC) Source Countries                                             \n",
       "2020-12-20        ES,DE,DK,HR,IE,IT,LV,NL,PL                             665   \n",
       "2020-12-19        ES,DE,DK,HR,IE,IT,LV,NL,PL                            5585   \n",
       "2020-12-18        ES,DE,DK,HR,IE,IT,LV,NL,PL                           10030   \n",
       "2020-12-17        ES,DE,DK,HR,IE,IT,LV,NL,PL                           15176   \n",
       "2020-12-16        ES,DE,DK,HR,IE,IT,LV,NL,PL                           20253   \n",
       "...                                                                      ...   \n",
       "2020-10-02        ES                                                     312   \n",
       "2020-10-01        ES                                                     317   \n",
       "2020-09-30        ES                                                     294   \n",
       "2020-09-29        ES                                                     265   \n",
       "2020-09-28        ES                                                     269   \n",
       "\n",
       "                                              Shared TEKs by Upload Date  \\\n",
       "Sample Date (UTC) Source Countries                                         \n",
       "2020-12-20        ES,DE,DK,HR,IE,IT,LV,NL,PL                       91025   \n",
       "2020-12-19        ES,DE,DK,HR,IE,IT,LV,NL,PL                        1157   \n",
       "2020-12-18        ES,DE,DK,HR,IE,IT,LV,NL,PL                       73609   \n",
       "2020-12-17        ES,DE,DK,HR,IE,IT,LV,NL,PL                       50571   \n",
       "2020-12-16        ES,DE,DK,HR,IE,IT,LV,NL,PL                       59480   \n",
       "...                                                                  ...   \n",
       "2020-10-02        ES                                                 299   \n",
       "2020-10-01        ES                                                 367   \n",
       "2020-09-30        ES                                                 271   \n",
       "2020-09-29        ES                                                 178   \n",
       "2020-09-28        ES                                                 211   \n",
       "\n",
       "                                              Shared TEKs Uploaded on Generation Date  \\\n",
       "Sample Date (UTC) Source Countries                                                      \n",
       "2020-12-20        ES,DE,DK,HR,IE,IT,LV,NL,PL                                      665   \n",
       "2020-12-19        ES,DE,DK,HR,IE,IT,LV,NL,PL                                      149   \n",
       "2020-12-18        ES,DE,DK,HR,IE,IT,LV,NL,PL                                      355   \n",
       "2020-12-17        ES,DE,DK,HR,IE,IT,LV,NL,PL                                      295   \n",
       "2020-12-16        ES,DE,DK,HR,IE,IT,LV,NL,PL                                      299   \n",
       "...                                                                               ...   \n",
       "2020-10-02        ES                                                               72   \n",
       "2020-10-01        ES                                                               75   \n",
       "2020-09-30        ES                                                               55   \n",
       "2020-09-29        ES                                                               32   \n",
       "2020-09-28        ES                                                               44   \n",
       "\n",
       "                                              Shared Diagnoses (Estimation)  \\\n",
       "Sample Date (UTC) Source Countries                                            \n",
       "2020-12-20        ES,DE,DK,HR,IE,IT,LV,NL,PL                           9881   \n",
       "2020-12-19        ES,DE,DK,HR,IE,IT,LV,NL,PL                              0   \n",
       "2020-12-18        ES,DE,DK,HR,IE,IT,LV,NL,PL                           7851   \n",
       "2020-12-17        ES,DE,DK,HR,IE,IT,LV,NL,PL                           4690   \n",
       "2020-12-16        ES,DE,DK,HR,IE,IT,LV,NL,PL                           5725   \n",
       "...                                                                     ...   \n",
       "2020-10-02        ES                                                     72   \n",
       "2020-10-01        ES                                                     75   \n",
       "2020-09-30        ES                                                     55   \n",
       "2020-09-29        ES                                                     44   \n",
       "2020-09-28        ES                                                     54   \n",
       "\n",
       "                                              TEKs Uploaded per Shared Diagnosis  \\\n",
       "Sample Date (UTC) Source Countries                                                 \n",
       "2020-12-20        ES,DE,DK,HR,IE,IT,LV,NL,PL                            9.212124   \n",
       "2020-12-19        ES,DE,DK,HR,IE,IT,LV,NL,PL                            0.000000   \n",
       "2020-12-18        ES,DE,DK,HR,IE,IT,LV,NL,PL                            9.375748   \n",
       "2020-12-17        ES,DE,DK,HR,IE,IT,LV,NL,PL                           10.782729   \n",
       "2020-12-16        ES,DE,DK,HR,IE,IT,LV,NL,PL                           10.389520   \n",
       "...                                                                          ...   \n",
       "2020-10-02        ES                                                    4.152778   \n",
       "2020-10-01        ES                                                    4.893333   \n",
       "2020-09-30        ES                                                    4.927273   \n",
       "2020-09-29        ES                                                    4.045455   \n",
       "2020-09-28        ES                                                    3.907407   \n",
       "\n",
       "                                              Usage Ratio (Fraction of Cases in Source Countries Which Shared Diagnosis)  \n",
       "Sample Date (UTC) Source Countries                                                                                        \n",
       "2020-12-20        ES,DE,DK,HR,IE,IT,LV,NL,PL                                           0.126759                           \n",
       "2020-12-19        ES,DE,DK,HR,IE,IT,LV,NL,PL                                           0.000000                           \n",
       "2020-12-18        ES,DE,DK,HR,IE,IT,LV,NL,PL                                           0.100345                           \n",
       "2020-12-17        ES,DE,DK,HR,IE,IT,LV,NL,PL                                           0.060533                           \n",
       "2020-12-16        ES,DE,DK,HR,IE,IT,LV,NL,PL                                           0.074666                           \n",
       "...                                                                                         ...                           \n",
       "2020-10-02        ES                                                                   0.006862                           \n",
       "2020-10-01        ES                                                                   0.007057                           \n",
       "2020-09-30        ES                                                                   0.005090                           \n",
       "2020-09-29        ES                                                                   0.004667                           \n",
       "2020-09-28        ES                                                                   0.004922                           \n",
       "\n",
       "[84 rows x 7 columns]"
      ]
     },
     "execution_count": 52,
     "metadata": {},
     "output_type": "execute_result"
    }
   ],
   "source": [
    "result_summary_df_ = result_summary_df.copy()\n",
    "result_summary_df = result_summary_df[summary_columns]\n",
    "result_summary_with_display_names_df = result_summary_df \\\n",
    "    .rename_axis(index=display_column_name_mapping) \\\n",
    "    .rename(columns=display_column_name_mapping)\n",
    "result_summary_with_display_names_df"
   ]
  },
  {
   "cell_type": "markdown",
   "metadata": {
    "collapsed": false,
    "papermill": {
     "duration": 0.055064,
     "end_time": "2020-12-20T23:32:25.994937",
     "exception": false,
     "start_time": "2020-12-20T23:32:25.939873",
     "status": "completed"
    },
    "tags": []
   },
   "source": [
    "### Daily Summary Plots"
   ]
  },
  {
   "cell_type": "code",
   "execution_count": 53,
   "metadata": {
    "collapsed": false,
    "execution": {
     "iopub.execute_input": "2020-12-20T23:32:26.118656Z",
     "iopub.status.busy": "2020-12-20T23:32:26.118190Z",
     "iopub.status.idle": "2020-12-20T23:32:27.932779Z",
     "shell.execute_reply": "2020-12-20T23:32:27.932372Z"
    },
    "papermill": {
     "duration": 1.882936,
     "end_time": "2020-12-20T23:32:27.932891",
     "exception": false,
     "start_time": "2020-12-20T23:32:26.049955",
     "status": "completed"
    },
    "pycharm": {
     "name": "#%%\n"
    },
    "tags": []
   },
   "outputs": [
    {
     "name": "stderr",
     "output_type": "stream",
     "text": [
      "/opt/hostedtoolcache/Python/3.8.6/x64/lib/python3.8/site-packages/pandas/plotting/_matplotlib/tools.py:307: MatplotlibDeprecationWarning: \n",
      "The rowNum attribute was deprecated in Matplotlib 3.2 and will be removed two minor releases later. Use ax.get_subplotspec().rowspan.start instead.\n",
      "  layout[ax.rowNum, ax.colNum] = ax.get_visible()\n",
      "/opt/hostedtoolcache/Python/3.8.6/x64/lib/python3.8/site-packages/pandas/plotting/_matplotlib/tools.py:307: MatplotlibDeprecationWarning: \n",
      "The colNum attribute was deprecated in Matplotlib 3.2 and will be removed two minor releases later. Use ax.get_subplotspec().colspan.start instead.\n",
      "  layout[ax.rowNum, ax.colNum] = ax.get_visible()\n",
      "/opt/hostedtoolcache/Python/3.8.6/x64/lib/python3.8/site-packages/pandas/plotting/_matplotlib/tools.py:313: MatplotlibDeprecationWarning: \n",
      "The rowNum attribute was deprecated in Matplotlib 3.2 and will be removed two minor releases later. Use ax.get_subplotspec().rowspan.start instead.\n",
      "  if not layout[ax.rowNum + 1, ax.colNum]:\n",
      "/opt/hostedtoolcache/Python/3.8.6/x64/lib/python3.8/site-packages/pandas/plotting/_matplotlib/tools.py:313: MatplotlibDeprecationWarning: \n",
      "The colNum attribute was deprecated in Matplotlib 3.2 and will be removed two minor releases later. Use ax.get_subplotspec().colspan.start instead.\n",
      "  if not layout[ax.rowNum + 1, ax.colNum]:\n"
     ]
    },
    {
     "data": {
      "image/png": "[encoded data removed]",
      "text/plain": [
       "<Figure size 1080x1584 with 7 Axes>"
      ]
     },
     "metadata": {},
     "output_type": "display_data"
    }
   ],
   "source": [
    "result_plot_summary_df = result_summary_df.head(daily_plot_days)[summary_columns] \\\n",
    "    .droplevel(level=[\"source_regions\"]) \\\n",
    "    .rename_axis(index=display_column_name_mapping) \\\n",
    "    .rename(columns=display_column_name_mapping)\n",
    "summary_ax_list = result_plot_summary_df.sort_index(ascending=True).plot.bar(\n",
    "    title=f\"Daily Summary\",\n",
    "    rot=45, subplots=True, figsize=(15, 22), legend=False)\n",
    "ax_ = summary_ax_list[-1]\n",
    "ax_.get_figure().tight_layout()\n",
    "ax_.get_figure().subplots_adjust(top=0.95)\n",
    "ax_.yaxis.set_major_formatter(matplotlib.ticker.PercentFormatter(1.0))\n",
    "_ = ax_.set_xticklabels(sorted(result_plot_summary_df.index.strftime(\"%Y-%m-%d\").tolist()))"
   ]
  },
  {
   "cell_type": "markdown",
   "metadata": {
    "execution": {
     "iopub.execute_input": "2020-09-02T08:20:14.568088Z",
     "iopub.status.busy": "2020-09-02T08:20:14.567425Z",
     "iopub.status.idle": "2020-09-02T08:20:14.571422Z",
     "shell.execute_reply": "2020-09-02T08:20:14.571952Z"
    },
    "papermill": {
     "duration": 0.058668,
     "end_time": "2020-12-20T23:32:28.049904",
     "exception": false,
     "start_time": "2020-12-20T23:32:27.991236",
     "status": "completed"
    },
    "pycharm": {
     "name": "#%% md\n"
    },
    "tags": []
   },
   "source": [
    "### Daily Generation to Upload Period Table"
   ]
  },
  {
   "cell_type": "code",
   "execution_count": 54,
   "metadata": {
    "execution": {
     "iopub.execute_input": "2020-12-20T23:32:28.179875Z",
     "iopub.status.busy": "2020-12-20T23:32:28.179380Z",
     "iopub.status.idle": "2020-12-20T23:32:28.181474Z",
     "shell.execute_reply": "2020-12-20T23:32:28.181844Z"
    },
    "papermill": {
     "duration": 0.073849,
     "end_time": "2020-12-20T23:32:28.181975",
     "exception": false,
     "start_time": "2020-12-20T23:32:28.108126",
     "status": "completed"
    },
    "pycharm": {
     "name": "#%%\n"
    },
    "tags": []
   },
   "outputs": [
    {
     "data": {
      "text/html": [
       "<div>\n",
       "<style scoped>\n",
       "    .dataframe tbody tr th:only-of-type {\n",
       "        vertical-align: middle;\n",
       "    }\n",
       "\n",
       "    .dataframe tbody tr th {\n",
       "        vertical-align: top;\n",
       "    }\n",
       "\n",
       "    .dataframe thead th {\n",
       "        text-align: right;\n",
       "    }\n",
       "</style>\n",
       "<table border=\"1\" class=\"dataframe\">\n",
       "  <thead>\n",
       "    <tr style=\"text-align: right;\">\n",
       "      <th>Generation to Upload Period in Days</th>\n",
       "      <th>0</th>\n",
       "      <th>1</th>\n",
       "      <th>2</th>\n",
       "      <th>3</th>\n",
       "      <th>4</th>\n",
       "      <th>5</th>\n",
       "      <th>6</th>\n",
       "      <th>7</th>\n",
       "      <th>8</th>\n",
       "      <th>9</th>\n",
       "      <th>10</th>\n",
       "      <th>11</th>\n",
       "      <th>12</th>\n",
       "      <th>13</th>\n",
       "    </tr>\n",
       "    <tr>\n",
       "      <th>Upload Date (UTC)</th>\n",
       "      <th></th>\n",
       "      <th></th>\n",
       "      <th></th>\n",
       "      <th></th>\n",
       "      <th></th>\n",
       "      <th></th>\n",
       "      <th></th>\n",
       "      <th></th>\n",
       "      <th></th>\n",
       "      <th></th>\n",
       "      <th></th>\n",
       "      <th></th>\n",
       "      <th></th>\n",
       "      <th></th>\n",
       "    </tr>\n",
       "  </thead>\n",
       "  <tbody>\n",
       "    <tr>\n",
       "      <th>2020-12-20</th>\n",
       "      <td>665</td>\n",
       "      <td>5436</td>\n",
       "      <td>9188</td>\n",
       "      <td>9881</td>\n",
       "      <td>9211</td>\n",
       "      <td>8556</td>\n",
       "      <td>7707</td>\n",
       "      <td>6795</td>\n",
       "      <td>6168</td>\n",
       "      <td>5806</td>\n",
       "      <td>5584</td>\n",
       "      <td>5429</td>\n",
       "      <td>5309</td>\n",
       "      <td>5290</td>\n",
       "    </tr>\n",
       "    <tr>\n",
       "      <th>2020-12-19</th>\n",
       "      <td>149</td>\n",
       "      <td>487</td>\n",
       "      <td>135</td>\n",
       "      <td>125</td>\n",
       "      <td>93</td>\n",
       "      <td>69</td>\n",
       "      <td>37</td>\n",
       "      <td>23</td>\n",
       "      <td>15</td>\n",
       "      <td>14</td>\n",
       "      <td>10</td>\n",
       "      <td>0</td>\n",
       "      <td>0</td>\n",
       "      <td>0</td>\n",
       "    </tr>\n",
       "    <tr>\n",
       "      <th>2020-12-18</th>\n",
       "      <td>355</td>\n",
       "      <td>4865</td>\n",
       "      <td>7467</td>\n",
       "      <td>7802</td>\n",
       "      <td>7851</td>\n",
       "      <td>7396</td>\n",
       "      <td>6649</td>\n",
       "      <td>5827</td>\n",
       "      <td>5174</td>\n",
       "      <td>4561</td>\n",
       "      <td>4162</td>\n",
       "      <td>3943</td>\n",
       "      <td>3812</td>\n",
       "      <td>3745</td>\n",
       "    </tr>\n",
       "    <tr>\n",
       "      <th>2020-12-17</th>\n",
       "      <td>295</td>\n",
       "      <td>3151</td>\n",
       "      <td>4690</td>\n",
       "      <td>4367</td>\n",
       "      <td>4188</td>\n",
       "      <td>4019</td>\n",
       "      <td>3937</td>\n",
       "      <td>3852</td>\n",
       "      <td>3771</td>\n",
       "      <td>3739</td>\n",
       "      <td>3697</td>\n",
       "      <td>3654</td>\n",
       "      <td>3626</td>\n",
       "      <td>3585</td>\n",
       "    </tr>\n",
       "    <tr>\n",
       "      <th>2020-12-16</th>\n",
       "      <td>299</td>\n",
       "      <td>2890</td>\n",
       "      <td>5725</td>\n",
       "      <td>5143</td>\n",
       "      <td>5009</td>\n",
       "      <td>4906</td>\n",
       "      <td>4708</td>\n",
       "      <td>4637</td>\n",
       "      <td>4542</td>\n",
       "      <td>4432</td>\n",
       "      <td>4349</td>\n",
       "      <td>4345</td>\n",
       "      <td>4259</td>\n",
       "      <td>4236</td>\n",
       "    </tr>\n",
       "    <tr>\n",
       "      <th>2020-12-15</th>\n",
       "      <td>168</td>\n",
       "      <td>789</td>\n",
       "      <td>1752</td>\n",
       "      <td>1701</td>\n",
       "      <td>1596</td>\n",
       "      <td>1534</td>\n",
       "      <td>1470</td>\n",
       "      <td>1401</td>\n",
       "      <td>1346</td>\n",
       "      <td>1306</td>\n",
       "      <td>1330</td>\n",
       "      <td>1283</td>\n",
       "      <td>1277</td>\n",
       "      <td>1243</td>\n",
       "    </tr>\n",
       "    <tr>\n",
       "      <th>2020-12-14</th>\n",
       "      <td>181</td>\n",
       "      <td>1485</td>\n",
       "      <td>2282</td>\n",
       "      <td>2203</td>\n",
       "      <td>2075</td>\n",
       "      <td>1972</td>\n",
       "      <td>1912</td>\n",
       "      <td>1875</td>\n",
       "      <td>1794</td>\n",
       "      <td>1742</td>\n",
       "      <td>1754</td>\n",
       "      <td>1716</td>\n",
       "      <td>1698</td>\n",
       "      <td>1689</td>\n",
       "    </tr>\n",
       "    <tr>\n",
       "      <th>2020-12-13</th>\n",
       "      <td>96</td>\n",
       "      <td>1421</td>\n",
       "      <td>2712</td>\n",
       "      <td>2408</td>\n",
       "      <td>2246</td>\n",
       "      <td>2177</td>\n",
       "      <td>2122</td>\n",
       "      <td>2062</td>\n",
       "      <td>2044</td>\n",
       "      <td>2014</td>\n",
       "      <td>1976</td>\n",
       "      <td>1971</td>\n",
       "      <td>1931</td>\n",
       "      <td>1922</td>\n",
       "    </tr>\n",
       "    <tr>\n",
       "      <th>2020-12-12</th>\n",
       "      <td>208</td>\n",
       "      <td>2402</td>\n",
       "      <td>3729</td>\n",
       "      <td>3385</td>\n",
       "      <td>3217</td>\n",
       "      <td>3041</td>\n",
       "      <td>2974</td>\n",
       "      <td>2924</td>\n",
       "      <td>2899</td>\n",
       "      <td>2858</td>\n",
       "      <td>2833</td>\n",
       "      <td>2791</td>\n",
       "      <td>2734</td>\n",
       "      <td>2744</td>\n",
       "    </tr>\n",
       "    <tr>\n",
       "      <th>2020-12-11</th>\n",
       "      <td>258</td>\n",
       "      <td>2908</td>\n",
       "      <td>4215</td>\n",
       "      <td>3893</td>\n",
       "      <td>3664</td>\n",
       "      <td>3580</td>\n",
       "      <td>3500</td>\n",
       "      <td>3427</td>\n",
       "      <td>3349</td>\n",
       "      <td>3309</td>\n",
       "      <td>3270</td>\n",
       "      <td>3205</td>\n",
       "      <td>3193</td>\n",
       "      <td>3140</td>\n",
       "    </tr>\n",
       "    <tr>\n",
       "      <th>2020-12-10</th>\n",
       "      <td>207</td>\n",
       "      <td>2665</td>\n",
       "      <td>3754</td>\n",
       "      <td>3416</td>\n",
       "      <td>3244</td>\n",
       "      <td>3191</td>\n",
       "      <td>3132</td>\n",
       "      <td>3069</td>\n",
       "      <td>3036</td>\n",
       "      <td>2979</td>\n",
       "      <td>2955</td>\n",
       "      <td>2914</td>\n",
       "      <td>2871</td>\n",
       "      <td>2889</td>\n",
       "    </tr>\n",
       "    <tr>\n",
       "      <th>2020-12-09</th>\n",
       "      <td>117</td>\n",
       "      <td>2841</td>\n",
       "      <td>4014</td>\n",
       "      <td>3601</td>\n",
       "      <td>3519</td>\n",
       "      <td>3436</td>\n",
       "      <td>3342</td>\n",
       "      <td>3276</td>\n",
       "      <td>3238</td>\n",
       "      <td>3192</td>\n",
       "      <td>3134</td>\n",
       "      <td>3115</td>\n",
       "      <td>3107</td>\n",
       "      <td>3072</td>\n",
       "    </tr>\n",
       "    <tr>\n",
       "      <th>2020-12-08</th>\n",
       "      <td>121</td>\n",
       "      <td>2286</td>\n",
       "      <td>2641</td>\n",
       "      <td>2575</td>\n",
       "      <td>2496</td>\n",
       "      <td>2411</td>\n",
       "      <td>2335</td>\n",
       "      <td>2266</td>\n",
       "      <td>2246</td>\n",
       "      <td>2193</td>\n",
       "      <td>2165</td>\n",
       "      <td>2138</td>\n",
       "      <td>2133</td>\n",
       "      <td>2096</td>\n",
       "    </tr>\n",
       "    <tr>\n",
       "      <th>2020-12-07</th>\n",
       "      <td>116</td>\n",
       "      <td>1339</td>\n",
       "      <td>1823</td>\n",
       "      <td>1765</td>\n",
       "      <td>1689</td>\n",
       "      <td>1604</td>\n",
       "      <td>1569</td>\n",
       "      <td>1519</td>\n",
       "      <td>1525</td>\n",
       "      <td>1462</td>\n",
       "      <td>1448</td>\n",
       "      <td>1430</td>\n",
       "      <td>1402</td>\n",
       "      <td>1413</td>\n",
       "    </tr>\n",
       "  </tbody>\n",
       "</table>\n",
       "</div>"
      ],
      "text/plain": [
       "Generation to Upload Period in Days   0     1     2     3     4     5     6   \\\n",
       "Upload Date (UTC)                                                              \n",
       "2020-12-20                           665  5436  9188  9881  9211  8556  7707   \n",
       "2020-12-19                           149   487   135   125    93    69    37   \n",
       "2020-12-18                           355  4865  7467  7802  7851  7396  6649   \n",
       "2020-12-17                           295  3151  4690  4367  4188  4019  3937   \n",
       "2020-12-16                           299  2890  5725  5143  5009  4906  4708   \n",
       "2020-12-15                           168   789  1752  1701  1596  1534  1470   \n",
       "2020-12-14                           181  1485  2282  2203  2075  1972  1912   \n",
       "2020-12-13                            96  1421  2712  2408  2246  2177  2122   \n",
       "2020-12-12                           208  2402  3729  3385  3217  3041  2974   \n",
       "2020-12-11                           258  2908  4215  3893  3664  3580  3500   \n",
       "2020-12-10                           207  2665  3754  3416  3244  3191  3132   \n",
       "2020-12-09                           117  2841  4014  3601  3519  3436  3342   \n",
       "2020-12-08                           121  2286  2641  2575  2496  2411  2335   \n",
       "2020-12-07                           116  1339  1823  1765  1689  1604  1569   \n",
       "\n",
       "Generation to Upload Period in Days    7     8     9     10    11    12    13  \n",
       "Upload Date (UTC)                                                              \n",
       "2020-12-20                           6795  6168  5806  5584  5429  5309  5290  \n",
       "2020-12-19                             23    15    14    10     0     0     0  \n",
       "2020-12-18                           5827  5174  4561  4162  3943  3812  3745  \n",
       "2020-12-17                           3852  3771  3739  3697  3654  3626  3585  \n",
       "2020-12-16                           4637  4542  4432  4349  4345  4259  4236  \n",
       "2020-12-15                           1401  1346  1306  1330  1283  1277  1243  \n",
       "2020-12-14                           1875  1794  1742  1754  1716  1698  1689  \n",
       "2020-12-13                           2062  2044  2014  1976  1971  1931  1922  \n",
       "2020-12-12                           2924  2899  2858  2833  2791  2734  2744  \n",
       "2020-12-11                           3427  3349  3309  3270  3205  3193  3140  \n",
       "2020-12-10                           3069  3036  2979  2955  2914  2871  2889  \n",
       "2020-12-09                           3276  3238  3192  3134  3115  3107  3072  \n",
       "2020-12-08                           2266  2246  2193  2165  2138  2133  2096  \n",
       "2020-12-07                           1519  1525  1462  1448  1430  1402  1413  "
      ]
     },
     "execution_count": 54,
     "metadata": {},
     "output_type": "execute_result"
    }
   ],
   "source": [
    "display_generation_to_upload_period_pivot_df = \\\n",
    "    generation_to_upload_period_pivot_df \\\n",
    "        .head(backend_generation_days)\n",
    "display_generation_to_upload_period_pivot_df \\\n",
    "    .head(backend_generation_days) \\\n",
    "    .rename_axis(columns=display_column_name_mapping) \\\n",
    "    .rename_axis(index=display_column_name_mapping)"
   ]
  },
  {
   "cell_type": "code",
   "execution_count": 55,
   "metadata": {
    "collapsed": false,
    "execution": {
     "iopub.execute_input": "2020-12-20T23:32:28.309768Z",
     "iopub.status.busy": "2020-12-20T23:32:28.309276Z",
     "iopub.status.idle": "2020-12-20T23:32:29.712365Z",
     "shell.execute_reply": "2020-12-20T23:32:29.711648Z"
    },
    "papermill": {
     "duration": 1.471551,
     "end_time": "2020-12-20T23:32:29.712485",
     "exception": false,
     "start_time": "2020-12-20T23:32:28.240934",
     "status": "completed"
    },
    "pycharm": {
     "name": "#%%\n"
    },
    "tags": []
   },
   "outputs": [
    {
     "data": {
      "image/png": "[encoded data removed]",
      "text/plain": [
       "<Figure size 864x676.8 with 2 Axes>"
      ]
     },
     "metadata": {},
     "output_type": "display_data"
    }
   ],
   "source": [
    "fig, generation_to_upload_period_pivot_table_ax = plt.subplots(\n",
    "    figsize=(12, 1 + 0.6 * len(display_generation_to_upload_period_pivot_df)))\n",
    "generation_to_upload_period_pivot_table_ax.set_title(\n",
    "    \"Shared TEKs Generation to Upload Period Table\")\n",
    "sns.heatmap(\n",
    "    data=display_generation_to_upload_period_pivot_df\n",
    "        .rename_axis(columns=display_column_name_mapping)\n",
    "        .rename_axis(index=display_column_name_mapping),\n",
    "    fmt=\".0f\",\n",
    "    annot=True,\n",
    "    ax=generation_to_upload_period_pivot_table_ax)\n",
    "generation_to_upload_period_pivot_table_ax.get_figure().tight_layout()"
   ]
  },
  {
   "cell_type": "markdown",
   "metadata": {
    "collapsed": false,
    "papermill": {
     "duration": 0.064197,
     "end_time": "2020-12-20T23:32:29.840120",
     "exception": false,
     "start_time": "2020-12-20T23:32:29.775923",
     "status": "completed"
    },
    "tags": []
   },
   "source": [
    "### Hourly Summary Plots "
   ]
  },
  {
   "cell_type": "code",
   "execution_count": 56,
   "metadata": {
    "collapsed": false,
    "execution": {
     "iopub.execute_input": "2020-12-20T23:32:29.988992Z",
     "iopub.status.busy": "2020-12-20T23:32:29.983251Z",
     "iopub.status.idle": "2020-12-20T23:32:30.342713Z",
     "shell.execute_reply": "2020-12-20T23:32:30.343114Z"
    },
    "papermill": {
     "duration": 0.43908,
     "end_time": "2020-12-20T23:32:30.343273",
     "exception": false,
     "start_time": "2020-12-20T23:32:29.904193",
     "status": "completed"
    },
    "pycharm": {
     "name": "#%%\n"
    },
    "tags": []
   },
   "outputs": [
    {
     "data": {
      "image/png": "[encoded data removed]",
      "text/plain": [
       "<Figure size 1080x432 with 1 Axes>"
      ]
     },
     "metadata": {},
     "output_type": "display_data"
    }
   ],
   "source": [
    "hourly_summary_ax_list = hourly_summary_df \\\n",
    "    .rename_axis(index=display_column_name_mapping) \\\n",
    "    .rename(columns=display_column_name_mapping) \\\n",
    "    .plot.bar(\n",
    "        title=f\"Last 24h Summary\",\n",
    "        rot=45, subplots=True, legend=False)\n",
    "ax_ = hourly_summary_ax_list[-1]\n",
    "ax_.get_figure().tight_layout()\n",
    "ax_.get_figure().subplots_adjust(top=0.9)\n",
    "_ = ax_.set_xticklabels(sorted(hourly_summary_df.index.strftime(\"%Y-%m-%d@%H\").tolist()))"
   ]
  },
  {
   "cell_type": "markdown",
   "metadata": {
    "collapsed": false,
    "papermill": {
     "duration": 0.06566,
     "end_time": "2020-12-20T23:32:30.474951",
     "exception": false,
     "start_time": "2020-12-20T23:32:30.409291",
     "status": "completed"
    },
    "tags": []
   },
   "source": [
    "### Publish Results"
   ]
  },
  {
   "cell_type": "code",
   "execution_count": 57,
   "metadata": {
    "collapsed": false,
    "execution": {
     "iopub.execute_input": "2020-12-20T23:32:30.612008Z",
     "iopub.status.busy": "2020-12-20T23:32:30.611541Z",
     "iopub.status.idle": "2020-12-20T23:32:30.613251Z",
     "shell.execute_reply": "2020-12-20T23:32:30.613657Z"
    },
    "papermill": {
     "duration": 0.072514,
     "end_time": "2020-12-20T23:32:30.613783",
     "exception": false,
     "start_time": "2020-12-20T23:32:30.541269",
     "status": "completed"
    },
    "pycharm": {
     "name": "#%%\n"
    },
    "tags": []
   },
   "outputs": [],
   "source": [
    "def get_temporary_image_path() -> str:\n",
    "    return os.path.join(tempfile.gettempdir(), str(uuid.uuid4()) + \".png\")\n",
    "\n",
    "def save_temporary_plot_image(ax):\n",
    "    if isinstance(ax, np.ndarray):\n",
    "        ax = ax[0]\n",
    "    media_path = get_temporary_image_path()\n",
    "    ax.get_figure().savefig(media_path)\n",
    "    return media_path\n",
    "\n",
    "def save_temporary_dataframe_image(df):\n",
    "    import dataframe_image as dfi\n",
    "    media_path = get_temporary_image_path()\n",
    "    dfi.export(df, media_path)\n",
    "    return media_path"
   ]
  },
  {
   "cell_type": "code",
   "execution_count": 58,
   "metadata": {
    "collapsed": false,
    "execution": {
     "iopub.execute_input": "2020-12-20T23:32:30.773772Z",
     "iopub.status.busy": "2020-12-20T23:32:30.755626Z",
     "iopub.status.idle": "2020-12-20T23:32:30.778896Z",
     "shell.execute_reply": "2020-12-20T23:32:30.778494Z"
    },
    "papermill": {
     "duration": 0.100794,
     "end_time": "2020-12-20T23:32:30.779008",
     "exception": false,
     "start_time": "2020-12-20T23:32:30.678214",
     "status": "completed"
    },
    "pycharm": {
     "name": "#%%\n"
    },
    "tags": []
   },
   "outputs": [
    {
     "name": "stderr",
     "output_type": "stream",
     "text": [
      "<ipython-input-58-bd16b454de40>:49: FutureWarning: `item` has been deprecated and will be removed in a future version\n",
      "  extraction_date_result_summary_df.covid_cases.item()\n",
      "<ipython-input-58-bd16b454de40>:51: FutureWarning: `item` has been deprecated and will be removed in a future version\n",
      "  extraction_date_result_summary_df.shared_teks_by_generation_date.item()\n",
      "<ipython-input-58-bd16b454de40>:53: FutureWarning: `item` has been deprecated and will be removed in a future version\n",
      "  extraction_date_result_summary_df.shared_teks_by_upload_date.item()\n",
      "<ipython-input-58-bd16b454de40>:55: FutureWarning: `item` has been deprecated and will be removed in a future version\n",
      "  extraction_date_result_summary_df.shared_diagnoses.item()\n",
      "<ipython-input-58-bd16b454de40>:57: FutureWarning: `item` has been deprecated and will be removed in a future version\n",
      "  extraction_date_result_summary_df.teks_per_shared_diagnosis.item()\n",
      "<ipython-input-58-bd16b454de40>:59: FutureWarning: `item` has been deprecated and will be removed in a future version\n",
      "  extraction_date_result_summary_df.shared_diagnoses_per_covid_case.item()\n"
     ]
    }
   ],
   "source": [
    "github_repository = os.environ.get(\"GITHUB_REPOSITORY\")\n",
    "if github_repository is None:\n",
    "    github_repository = \"pvieito/Radar-STATS\"\n",
    "\n",
    "github_project_base_url = \"https://github.com/\" + github_repository\n",
    "\n",
    "display_formatters = {\n",
    "    display_column_name_mapping[\"teks_per_shared_diagnosis\"]: lambda x: f\"{x:.2f}\",\n",
    "    display_column_name_mapping[\"shared_diagnoses_per_covid_case\"]: lambda x: f\"{x:.2%}\",\n",
    "}\n",
    "daily_summary_table_html = result_summary_with_display_names_df \\\n",
    "    .head(daily_plot_days) \\\n",
    "    .rename_axis(index=display_column_name_mapping) \\\n",
    "    .rename(columns=display_column_name_mapping) \\\n",
    "    .to_html(formatters=display_formatters)\n",
    "multi_backend_summary_table_html = multi_backend_summary_df \\\n",
    "    .head(daily_plot_days) \\\n",
    "    .rename_axis(columns=display_column_name_mapping) \\\n",
    "    .rename(columns=display_column_name_mapping) \\\n",
    "    .rename_axis(index=display_column_name_mapping) \\\n",
    "    .to_html(formatters=display_formatters)\n",
    "\n",
    "def format_multi_backend_cross_sharing_fraction(x):\n",
    "    if pd.isna(x):\n",
    "        return \"-\"\n",
    "    elif round(x * 100, 1) == 0:\n",
    "        return \"\"\n",
    "    else:\n",
    "        return f\"{x:.1%}\"\n",
    "\n",
    "multi_backend_cross_sharing_summary_table_html = multi_backend_cross_sharing_summary_df \\\n",
    "    .rename_axis(columns=display_column_name_mapping) \\\n",
    "    .rename(columns=display_column_name_mapping) \\\n",
    "    .rename_axis(index=display_column_name_mapping) \\\n",
    "    .to_html(\n",
    "        classes=\"table-center\",\n",
    "        formatters=display_formatters,\n",
    "        float_format=format_multi_backend_cross_sharing_fraction)\n",
    "multi_backend_cross_sharing_summary_table_html = \\\n",
    "    multi_backend_cross_sharing_summary_table_html \\\n",
    "        .replace(\"<tr>\",\"<tr style=\\\"text-align: center;\\\">\")\n",
    "\n",
    "extraction_date_result_summary_df = \\\n",
    "    result_summary_df[result_summary_df.index.get_level_values(\"sample_date\") == extraction_date]\n",
    "extraction_date_result_hourly_summary_df = \\\n",
    "    hourly_summary_df[hourly_summary_df.extraction_date_with_hour == extraction_date_with_hour]\n",
    "\n",
    "covid_cases = \\\n",
    "    extraction_date_result_summary_df.covid_cases.item()\n",
    "shared_teks_by_generation_date = \\\n",
    "    extraction_date_result_summary_df.shared_teks_by_generation_date.item()\n",
    "shared_teks_by_upload_date = \\\n",
    "    extraction_date_result_summary_df.shared_teks_by_upload_date.item()\n",
    "shared_diagnoses = \\\n",
    "    extraction_date_result_summary_df.shared_diagnoses.item()\n",
    "teks_per_shared_diagnosis = \\\n",
    "    extraction_date_result_summary_df.teks_per_shared_diagnosis.item()\n",
    "shared_diagnoses_per_covid_case = \\\n",
    "    extraction_date_result_summary_df.shared_diagnoses_per_covid_case.item()\n",
    "\n",
    "shared_teks_by_upload_date_last_hour = \\\n",
    "    extraction_date_result_hourly_summary_df.shared_teks_by_upload_date.sum().astype(int)\n",
    "\n",
    "display_source_regions = \", \".join(report_source_regions)\n",
    "if len(report_source_regions) == 1:\n",
    "    display_brief_source_regions = report_source_regions[0]\n",
    "else:\n",
    "    display_brief_source_regions = f\"{len(report_source_regions)} 🇪🇺\""
   ]
  },
  {
   "cell_type": "code",
   "execution_count": 59,
   "metadata": {
    "execution": {
     "iopub.execute_input": "2020-12-20T23:32:30.915460Z",
     "iopub.status.busy": "2020-12-20T23:32:30.913418Z",
     "iopub.status.idle": "2020-12-20T23:32:37.972410Z",
     "shell.execute_reply": "2020-12-20T23:32:37.972804Z"
    },
    "papermill": {
     "duration": 7.128396,
     "end_time": "2020-12-20T23:32:37.972955",
     "exception": false,
     "start_time": "2020-12-20T23:32:30.844559",
     "status": "completed"
    },
    "pycharm": {
     "name": "#%%\n"
    },
    "tags": []
   },
   "outputs": [],
   "source": [
    "summary_plots_image_path = save_temporary_plot_image(\n",
    "    ax=summary_ax_list)\n",
    "summary_table_image_path = save_temporary_dataframe_image(\n",
    "    df=result_summary_with_display_names_df)\n",
    "hourly_summary_plots_image_path = save_temporary_plot_image(\n",
    "    ax=hourly_summary_ax_list)\n",
    "multi_backend_summary_table_image_path = save_temporary_dataframe_image(\n",
    "    df=multi_backend_summary_df)\n",
    "generation_to_upload_period_pivot_table_image_path = save_temporary_plot_image(\n",
    "    ax=generation_to_upload_period_pivot_table_ax)"
   ]
  },
  {
   "cell_type": "markdown",
   "metadata": {
    "execution": {
     "iopub.execute_input": "2020-09-02T08:20:16.981187Z",
     "iopub.status.busy": "2020-09-02T08:20:16.980584Z",
     "iopub.status.idle": "2020-09-02T08:20:20.068070Z",
     "shell.execute_reply": "2020-09-02T08:20:20.068598Z"
    },
    "papermill": {
     "duration": 0.065056,
     "end_time": "2020-12-20T23:32:38.104549",
     "exception": false,
     "start_time": "2020-12-20T23:32:38.039493",
     "status": "completed"
    },
    "pycharm": {
     "name": "#%% md\n"
    },
    "tags": []
   },
   "source": [
    "### Save Results"
   ]
  },
  {
   "cell_type": "code",
   "execution_count": 60,
   "metadata": {
    "collapsed": false,
    "execution": {
     "iopub.execute_input": "2020-12-20T23:32:38.241107Z",
     "iopub.status.busy": "2020-12-20T23:32:38.240551Z",
     "iopub.status.idle": "2020-12-20T23:32:38.266065Z",
     "shell.execute_reply": "2020-12-20T23:32:38.265631Z"
    },
    "papermill": {
     "duration": 0.096602,
     "end_time": "2020-12-20T23:32:38.266189",
     "exception": false,
     "start_time": "2020-12-20T23:32:38.169587",
     "status": "completed"
    },
    "pycharm": {
     "name": "#%%\n"
    },
    "tags": []
   },
   "outputs": [],
   "source": [
    "report_resources_path_prefix = \"Data/Resources/Current/RadarCOVID-Report-\"\n",
    "result_summary_df.to_csv(\n",
    "    report_resources_path_prefix + \"Summary-Table.csv\")\n",
    "result_summary_df.to_html(\n",
    "    report_resources_path_prefix + \"Summary-Table.html\")\n",
    "hourly_summary_df.to_csv(\n",
    "    report_resources_path_prefix + \"Hourly-Summary-Table.csv\")\n",
    "multi_backend_summary_df.to_csv(\n",
    "    report_resources_path_prefix + \"Multi-Backend-Summary-Table.csv\")\n",
    "multi_backend_cross_sharing_summary_df.to_csv(\n",
    "    report_resources_path_prefix + \"Multi-Backend-Cross-Sharing-Summary-Table.csv\")\n",
    "generation_to_upload_period_pivot_df.to_csv(\n",
    "    report_resources_path_prefix + \"Generation-Upload-Period-Table.csv\")\n",
    "_ = shutil.copyfile(\n",
    "    summary_plots_image_path,\n",
    "    report_resources_path_prefix + \"Summary-Plots.png\")\n",
    "_ = shutil.copyfile(\n",
    "    summary_table_image_path,\n",
    "    report_resources_path_prefix + \"Summary-Table.png\")\n",
    "_ = shutil.copyfile(\n",
    "    hourly_summary_plots_image_path,\n",
    "    report_resources_path_prefix + \"Hourly-Summary-Plots.png\")\n",
    "_ = shutil.copyfile(\n",
    "    multi_backend_summary_table_image_path,\n",
    "    report_resources_path_prefix + \"Multi-Backend-Summary-Table.png\")\n",
    "_ = shutil.copyfile(\n",
    "    generation_to_upload_period_pivot_table_image_path,\n",
    "    report_resources_path_prefix + \"Generation-Upload-Period-Table.png\")"
   ]
  },
  {
   "cell_type": "markdown",
   "metadata": {
    "collapsed": false,
    "papermill": {
     "duration": 0.064516,
     "end_time": "2020-12-20T23:32:38.395907",
     "exception": false,
     "start_time": "2020-12-20T23:32:38.331391",
     "status": "completed"
    },
    "pycharm": {
     "name": "#%% md\n"
    },
    "tags": []
   },
   "source": [
    "### Publish Results as JSON"
   ]
  },
  {
   "cell_type": "code",
   "execution_count": 61,
   "metadata": {
    "execution": {
     "iopub.execute_input": "2020-12-20T23:32:38.545256Z",
     "iopub.status.busy": "2020-12-20T23:32:38.544777Z",
     "iopub.status.idle": "2020-12-20T23:32:38.548978Z",
     "shell.execute_reply": "2020-12-20T23:32:38.549434Z"
    },
    "papermill": {
     "duration": 0.08803,
     "end_time": "2020-12-20T23:32:38.549567",
     "exception": false,
     "start_time": "2020-12-20T23:32:38.461537",
     "status": "completed"
    },
    "pycharm": {
     "name": "#%%\n"
    },
    "tags": []
   },
   "outputs": [],
   "source": [
    "def generate_summary_api_results(df: pd.DataFrame) -> list:\n",
    "    api_df = df.reset_index().copy()\n",
    "    api_df[\"sample_date_string\"] = \\\n",
    "        api_df[\"sample_date\"].dt.strftime(\"%Y-%m-%d\")\n",
    "    api_df[\"source_regions\"] = \\\n",
    "        api_df[\"source_regions\"].apply(lambda x: x.split(\",\"))\n",
    "    return api_df.to_dict(orient=\"records\")\n",
    "\n",
    "summary_api_results = \\\n",
    "    generate_summary_api_results(df=result_summary_df)\n",
    "today_summary_api_results = \\\n",
    "    generate_summary_api_results(df=extraction_date_result_summary_df)[0]\n",
    "\n",
    "summary_results = dict(\n",
    "    backend_identifier=report_backend_identifier,\n",
    "    source_regions=report_source_regions,\n",
    "    extraction_datetime=extraction_datetime,\n",
    "    extraction_date=extraction_date,\n",
    "    extraction_date_with_hour=extraction_date_with_hour,\n",
    "    last_hour=dict(\n",
    "        shared_teks_by_upload_date=shared_teks_by_upload_date_last_hour,\n",
    "        shared_diagnoses=0,\n",
    "    ),\n",
    "    today=today_summary_api_results,\n",
    "    last_7_days=last_7_days_summary,\n",
    "    daily_results=summary_api_results)\n",
    "\n",
    "summary_results = \\\n",
    "    json.loads(pd.Series([summary_results]).to_json(orient=\"records\"))[0]\n",
    "\n",
    "with open(report_resources_path_prefix + \"Summary-Results.json\", \"w\") as f:\n",
    "    json.dump(summary_results, f, indent=4)"
   ]
  },
  {
   "cell_type": "markdown",
   "metadata": {
    "execution": {
     "iopub.execute_input": "2020-09-02T08:20:20.895901Z",
     "iopub.status.busy": "2020-09-02T08:20:20.895301Z",
     "iopub.status.idle": "2020-09-02T08:20:20.942286Z",
     "shell.execute_reply": "2020-09-02T08:20:20.942834Z"
    },
    "papermill": {
     "duration": 0.064545,
     "end_time": "2020-12-20T23:32:38.679343",
     "exception": false,
     "start_time": "2020-12-20T23:32:38.614798",
     "status": "completed"
    },
    "pycharm": {
     "name": "#%% md\n"
    },
    "tags": []
   },
   "source": [
    "### Publish on README"
   ]
  },
  {
   "cell_type": "code",
   "execution_count": 62,
   "metadata": {
    "collapsed": false,
    "execution": {
     "iopub.execute_input": "2020-12-20T23:32:38.813802Z",
     "iopub.status.busy": "2020-12-20T23:32:38.813312Z",
     "iopub.status.idle": "2020-12-20T23:32:38.817553Z",
     "shell.execute_reply": "2020-12-20T23:32:38.817150Z"
    },
    "papermill": {
     "duration": 0.073341,
     "end_time": "2020-12-20T23:32:38.817663",
     "exception": false,
     "start_time": "2020-12-20T23:32:38.744322",
     "status": "completed"
    },
    "pycharm": {
     "name": "#%%\n"
    },
    "tags": []
   },
   "outputs": [],
   "source": [
    "with open(\"Data/Templates/README.md\", \"r\") as f:\n",
    "    readme_contents = f.read()\n",
    "\n",
    "readme_contents = readme_contents.format(\n",
    "    extraction_date_with_hour=extraction_date_with_hour,\n",
    "    github_project_base_url=github_project_base_url,\n",
    "    daily_summary_table_html=daily_summary_table_html,\n",
    "    multi_backend_summary_table_html=multi_backend_summary_table_html,\n",
    "    multi_backend_cross_sharing_summary_table_html=multi_backend_cross_sharing_summary_table_html,\n",
    "    display_source_regions=display_source_regions)\n",
    "\n",
    "with open(\"README.md\", \"w\") as f:\n",
    "    f.write(readme_contents)"
   ]
  },
  {
   "cell_type": "markdown",
   "metadata": {
    "collapsed": false,
    "papermill": {
     "duration": 0.064874,
     "end_time": "2020-12-20T23:32:38.947780",
     "exception": false,
     "start_time": "2020-12-20T23:32:38.882906",
     "status": "completed"
    },
    "pycharm": {
     "name": "#%% md\n"
    },
    "tags": []
   },
   "source": [
    "### Publish on Twitter"
   ]
  },
  {
   "cell_type": "code",
   "execution_count": 63,
   "metadata": {
    "collapsed": false,
    "execution": {
     "iopub.execute_input": "2020-12-20T23:32:39.086384Z",
     "iopub.status.busy": "2020-12-20T23:32:39.085886Z",
     "iopub.status.idle": "2020-12-20T23:32:44.025852Z",
     "shell.execute_reply": "2020-12-20T23:32:44.025308Z"
    },
    "papermill": {
     "duration": 5.013146,
     "end_time": "2020-12-20T23:32:44.025982",
     "exception": false,
     "start_time": "2020-12-20T23:32:39.012836",
     "status": "completed"
    },
    "pycharm": {
     "name": "#%%\n"
    },
    "tags": []
   },
   "outputs": [],
   "source": [
    "enable_share_to_twitter = os.environ.get(\"RADARCOVID_REPORT__ENABLE_PUBLISH_ON_TWITTER\")\n",
    "github_event_name = os.environ.get(\"GITHUB_EVENT_NAME\")\n",
    "\n",
    "if enable_share_to_twitter and github_event_name == \"schedule\" and \\\n",
    "        (shared_teks_by_upload_date_last_hour or not are_today_results_partial):\n",
    "    import tweepy\n",
    "\n",
    "    twitter_api_auth_keys = os.environ[\"RADARCOVID_REPORT__TWITTER_API_AUTH_KEYS\"]\n",
    "    twitter_api_auth_keys = twitter_api_auth_keys.split(\":\")\n",
    "    auth = tweepy.OAuthHandler(twitter_api_auth_keys[0], twitter_api_auth_keys[1])\n",
    "    auth.set_access_token(twitter_api_auth_keys[2], twitter_api_auth_keys[3])\n",
    "\n",
    "    api = tweepy.API(auth)\n",
    "\n",
    "    summary_plots_media = api.media_upload(summary_plots_image_path)\n",
    "    summary_table_media = api.media_upload(summary_table_image_path)\n",
    "    generation_to_upload_period_pivot_table_image_media = api.media_upload(generation_to_upload_period_pivot_table_image_path)\n",
    "    media_ids = [\n",
    "        summary_plots_media.media_id,\n",
    "        summary_table_media.media_id,\n",
    "        generation_to_upload_period_pivot_table_image_media.media_id,\n",
    "    ]\n",
    "\n",
    "    if are_today_results_partial:\n",
    "        today_addendum = \" (Partial)\"\n",
    "    else:\n",
    "        today_addendum = \"\"\n",
    "\n",
    "    status = textwrap.dedent(f\"\"\"\n",
    "        #RadarCOVID – {extraction_date_with_hour}\n",
    "\n",
    "        Source Countries: {display_brief_source_regions}\n",
    "\n",
    "        Today{today_addendum}:\n",
    "        - Uploaded TEKs: {shared_teks_by_upload_date:.0f} ({shared_teks_by_upload_date_last_hour:+d} last hour)\n",
    "        - Shared Diagnoses: ≤{shared_diagnoses:.0f}\n",
    "        - Usage Ratio: ≤{shared_diagnoses_per_covid_case:.2%}\n",
    "\n",
    "        Last 7 Days:\n",
    "        - Shared Diagnoses: ≤{last_7_days_summary[\"shared_diagnoses\"]:.0f}\n",
    "        - Usage Ratio: ≤{last_7_days_summary[\"shared_diagnoses_per_covid_case\"]:.2%}\n",
    "\n",
    "        Info: {github_project_base_url}#documentation\n",
    "        \"\"\")\n",
    "    status = status.encode(encoding=\"utf-8\")\n",
    "    api.update_status(status=status, media_ids=media_ids)"
   ]
  }
 ],
 "metadata": {
  "kernelspec": {
   "display_name": "Python 3",
   "language": "python",
   "name": "python3"
  },
  "language_info": {
   "codemirror_mode": {
    "name": "ipython",
    "version": 3
   },
   "file_extension": ".py",
   "mimetype": "text/x-python",
   "name": "python",
   "nbconvert_exporter": "python",
   "pygments_lexer": "ipython3",
   "version": "3.8.6"
  },
  "papermill": {
   "duration": 275.955783,
   "end_time": "2020-12-20T23:32:48.012986",
   "environment_variables": {},
   "exception": null,
   "input_path": "Notebooks/RadarCOVID-Report/Source/RadarCOVID-Report.ipynb",
   "output_path": "RadarCOVID-Report.ipynb",
   "parameters": {},
   "start_time": "2020-12-20T23:28:12.057203",
   "version": "2.1.3"
  }
 },
 "nbformat": 4,
 "nbformat_minor": 1
}