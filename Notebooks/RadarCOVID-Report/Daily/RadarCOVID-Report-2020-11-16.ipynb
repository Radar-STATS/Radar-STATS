{
 "cells": [
  {
   "cell_type": "markdown",
   "metadata": {
    "papermill": {
     "duration": 0.040096,
     "end_time": "2020-11-16T23:16:17.456430",
     "exception": false,
     "start_time": "2020-11-16T23:16:17.416334",
     "status": "completed"
    },
    "pycharm": {
     "name": "#%% md\n"
    },
    "tags": []
   },
   "source": [
    "# RadarCOVID-Report"
   ]
  },
  {
   "cell_type": "markdown",
   "metadata": {
    "collapsed": true,
    "papermill": {
     "duration": 0.036961,
     "end_time": "2020-11-16T23:16:17.531127",
     "exception": false,
     "start_time": "2020-11-16T23:16:17.494166",
     "status": "completed"
    },
    "pycharm": {
     "name": "#%% md\n"
    },
    "tags": []
   },
   "source": [
    "## Data Extraction"
   ]
  },
  {
   "cell_type": "code",
   "execution_count": 1,
   "metadata": {
    "execution": {
     "iopub.execute_input": "2020-11-16T23:16:17.616753Z",
     "iopub.status.busy": "2020-11-16T23:16:17.616183Z",
     "iopub.status.idle": "2020-11-16T23:16:18.871014Z",
     "shell.execute_reply": "2020-11-16T23:16:18.870371Z"
    },
    "papermill": {
     "duration": 1.300173,
     "end_time": "2020-11-16T23:16:18.871224",
     "exception": false,
     "start_time": "2020-11-16T23:16:17.571051",
     "status": "completed"
    },
    "pycharm": {
     "name": "#%%\n"
    },
    "tags": []
   },
   "outputs": [],
   "source": [
    "import datetime\n",
    "import json\n",
    "import logging\n",
    "import os\n",
    "import shutil\n",
    "import tempfile\n",
    "import textwrap\n",
    "import uuid\n",
    "\n",
    "import matplotlib.pyplot as plt\n",
    "import matplotlib.ticker\n",
    "import numpy as np\n",
    "import pandas as pd\n",
    "import retry\n",
    "import seaborn as sns\n",
    "\n",
    "%matplotlib inline"
   ]
  },
  {
   "cell_type": "code",
   "execution_count": 2,
   "metadata": {
    "collapsed": false,
    "execution": {
     "iopub.execute_input": "2020-11-16T23:16:18.952894Z",
     "iopub.status.busy": "2020-11-16T23:16:18.952138Z",
     "iopub.status.idle": "2020-11-16T23:16:18.955611Z",
     "shell.execute_reply": "2020-11-16T23:16:18.956022Z"
    },
    "papermill": {
     "duration": 0.047434,
     "end_time": "2020-11-16T23:16:18.956165",
     "exception": false,
     "start_time": "2020-11-16T23:16:18.908731",
     "status": "completed"
    },
    "pycharm": {
     "name": "#%%\n"
    },
    "tags": []
   },
   "outputs": [],
   "source": [
    "current_working_directory = os.environ.get(\"PWD\")\n",
    "if current_working_directory:\n",
    "    os.chdir(current_working_directory)\n",
    "\n",
    "sns.set()\n",
    "matplotlib.rcParams[\"figure.figsize\"] = (15, 6)\n",
    "\n",
    "extraction_datetime = datetime.datetime.utcnow()\n",
    "extraction_date = extraction_datetime.strftime(\"%Y-%m-%d\")\n",
    "extraction_previous_datetime = extraction_datetime - datetime.timedelta(days=1)\n",
    "extraction_previous_date = extraction_previous_datetime.strftime(\"%Y-%m-%d\")\n",
    "extraction_date_with_hour = datetime.datetime.utcnow().strftime(\"%Y-%m-%d@%H\")\n",
    "current_hour = datetime.datetime.utcnow().hour\n",
    "are_today_results_partial = current_hour != 23"
   ]
  },
  {
   "cell_type": "markdown",
   "metadata": {
    "collapsed": false,
    "papermill": {
     "duration": 0.038131,
     "end_time": "2020-11-16T23:16:19.030707",
     "exception": false,
     "start_time": "2020-11-16T23:16:18.992576",
     "status": "completed"
    },
    "tags": []
   },
   "source": [
    "### Constants"
   ]
  },
  {
   "cell_type": "code",
   "execution_count": 3,
   "metadata": {
    "execution": {
     "iopub.execute_input": "2020-11-16T23:16:19.112209Z",
     "iopub.status.busy": "2020-11-16T23:16:19.111612Z",
     "iopub.status.idle": "2020-11-16T23:16:19.255540Z",
     "shell.execute_reply": "2020-11-16T23:16:19.255995Z"
    },
    "papermill": {
     "duration": 0.187619,
     "end_time": "2020-11-16T23:16:19.256167",
     "exception": false,
     "start_time": "2020-11-16T23:16:19.068548",
     "status": "completed"
    },
    "pycharm": {
     "name": "#%%\n"
    },
    "tags": []
   },
   "outputs": [],
   "source": [
    "from Modules.ExposureNotification import exposure_notification_io\n",
    "\n",
    "spain_region_country_code = \"ES\"\n",
    "germany_region_country_code = \"DE\"\n",
    "\n",
    "default_backend_identifier = spain_region_country_code\n",
    "\n",
    "backend_generation_days = 7 * 2\n",
    "daily_summary_days = 7 * 4 * 3\n",
    "daily_plot_days = 7 * 4\n",
    "tek_dumps_load_limit = daily_summary_days + 1"
   ]
  },
  {
   "cell_type": "markdown",
   "metadata": {
    "collapsed": false,
    "papermill": {
     "duration": 0.037779,
     "end_time": "2020-11-16T23:16:19.331335",
     "exception": false,
     "start_time": "2020-11-16T23:16:19.293556",
     "status": "completed"
    },
    "tags": []
   },
   "source": [
    "### Parameters"
   ]
  },
  {
   "cell_type": "code",
   "execution_count": 4,
   "metadata": {
    "collapsed": false,
    "execution": {
     "iopub.execute_input": "2020-11-16T23:16:19.411622Z",
     "iopub.status.busy": "2020-11-16T23:16:19.411061Z",
     "iopub.status.idle": "2020-11-16T23:16:19.413973Z",
     "shell.execute_reply": "2020-11-16T23:16:19.414455Z"
    },
    "papermill": {
     "duration": 0.046262,
     "end_time": "2020-11-16T23:16:19.414590",
     "exception": false,
     "start_time": "2020-11-16T23:16:19.368328",
     "status": "completed"
    },
    "pycharm": {
     "name": "#%%\n"
    },
    "tags": []
   },
   "outputs": [
    {
     "data": {
      "text/plain": [
       "'ES'"
      ]
     },
     "execution_count": 4,
     "metadata": {},
     "output_type": "execute_result"
    }
   ],
   "source": [
    "environment_backend_identifier = os.environ.get(\"RADARCOVID_REPORT__BACKEND_IDENTIFIER\")\n",
    "if environment_backend_identifier:\n",
    "    report_backend_identifier = environment_backend_identifier\n",
    "else:\n",
    "    report_backend_identifier = default_backend_identifier\n",
    "report_backend_identifier"
   ]
  },
  {
   "cell_type": "code",
   "execution_count": 5,
   "metadata": {
    "collapsed": false,
    "execution": {
     "iopub.execute_input": "2020-11-16T23:16:19.493578Z",
     "iopub.status.busy": "2020-11-16T23:16:19.493051Z",
     "iopub.status.idle": "2020-11-16T23:16:19.494893Z",
     "shell.execute_reply": "2020-11-16T23:16:19.495398Z"
    },
    "papermill": {
     "duration": 0.042958,
     "end_time": "2020-11-16T23:16:19.495531",
     "exception": false,
     "start_time": "2020-11-16T23:16:19.452573",
     "status": "completed"
    },
    "pycharm": {
     "name": "#%%\n"
    },
    "tags": []
   },
   "outputs": [],
   "source": [
    "environment_enable_multi_backend_download = \\\n",
    "    os.environ.get(\"RADARCOVID_REPORT__ENABLE_MULTI_BACKEND_DOWNLOAD\")\n",
    "if environment_enable_multi_backend_download:\n",
    "    report_backend_identifiers = None\n",
    "else:\n",
    "    report_backend_identifiers = [report_backend_identifier]\n",
    "\n",
    "report_backend_identifiers"
   ]
  },
  {
   "cell_type": "code",
   "execution_count": 6,
   "metadata": {
    "collapsed": false,
    "execution": {
     "iopub.execute_input": "2020-11-16T23:16:19.572929Z",
     "iopub.status.busy": "2020-11-16T23:16:19.572398Z",
     "iopub.status.idle": "2020-11-16T23:16:19.575314Z",
     "shell.execute_reply": "2020-11-16T23:16:19.575808Z"
    },
    "papermill": {
     "duration": 0.04386,
     "end_time": "2020-11-16T23:16:19.575936",
     "exception": false,
     "start_time": "2020-11-16T23:16:19.532076",
     "status": "completed"
    },
    "pycharm": {
     "name": "#%%\n"
    },
    "tags": []
   },
   "outputs": [
    {
     "data": {
      "text/plain": [
       "['2020-10-30']"
      ]
     },
     "execution_count": 6,
     "metadata": {},
     "output_type": "execute_result"
    }
   ],
   "source": [
    "environment_invalid_shared_diagnoses_dates = \\\n",
    "    os.environ.get(\"RADARCOVID_REPORT__INVALID_SHARED_DIAGNOSES_DATES\")\n",
    "if environment_invalid_shared_diagnoses_dates:\n",
    "    invalid_shared_diagnoses_dates = environment_invalid_shared_diagnoses_dates.split(\",\")\n",
    "else:\n",
    "    invalid_shared_diagnoses_dates = []\n",
    "\n",
    "invalid_shared_diagnoses_dates"
   ]
  },
  {
   "cell_type": "markdown",
   "metadata": {
    "collapsed": false,
    "papermill": {
     "duration": 0.037996,
     "end_time": "2020-11-16T23:16:19.651438",
     "exception": false,
     "start_time": "2020-11-16T23:16:19.613442",
     "status": "completed"
    },
    "pycharm": {
     "name": "#%% md\n"
    },
    "tags": []
   },
   "source": [
    "### COVID-19 Cases"
   ]
  },
  {
   "cell_type": "code",
   "execution_count": 7,
   "metadata": {
    "collapsed": false,
    "execution": {
     "iopub.execute_input": "2020-11-16T23:16:19.732319Z",
     "iopub.status.busy": "2020-11-16T23:16:19.731777Z",
     "iopub.status.idle": "2020-11-16T23:16:19.734170Z",
     "shell.execute_reply": "2020-11-16T23:16:19.733424Z"
    },
    "papermill": {
     "duration": 0.044249,
     "end_time": "2020-11-16T23:16:19.734307",
     "exception": false,
     "start_time": "2020-11-16T23:16:19.690058",
     "status": "completed"
    },
    "pycharm": {
     "name": "#%%\n"
    },
    "tags": []
   },
   "outputs": [],
   "source": [
    "report_backend_client = \\\n",
    "    exposure_notification_io.get_backend_client_with_identifier(\n",
    "        backend_identifier=report_backend_identifier)"
   ]
  },
  {
   "cell_type": "code",
   "execution_count": 8,
   "metadata": {
    "collapsed": false,
    "execution": {
     "iopub.execute_input": "2020-11-16T23:16:19.829605Z",
     "iopub.status.busy": "2020-11-16T23:16:19.829058Z",
     "iopub.status.idle": "2020-11-16T23:16:32.626527Z",
     "shell.execute_reply": "2020-11-16T23:16:32.625975Z"
    },
    "papermill": {
     "duration": 12.841556,
     "end_time": "2020-11-16T23:16:32.626714",
     "exception": false,
     "start_time": "2020-11-16T23:16:19.785158",
     "status": "completed"
    },
    "pycharm": {
     "name": "#%%\n"
    },
    "tags": []
   },
   "outputs": [],
   "source": [
    "@retry.retry(tries=10, delay=10, backoff=1.1, jitter=(0, 10))\n",
    "def download_cases_dataframe_from_ecdc():\n",
    "    return pd.read_csv(\n",
    "        \"https://opendata.ecdc.europa.eu/covid19/casedistribution/csv/data.csv\")\n",
    "\n",
    "confirmed_df_ = download_cases_dataframe_from_ecdc()"
   ]
  },
  {
   "cell_type": "code",
   "execution_count": 9,
   "metadata": {
    "collapsed": false,
    "execution": {
     "iopub.execute_input": "2020-11-16T23:16:32.707736Z",
     "iopub.status.busy": "2020-11-16T23:16:32.707203Z",
     "iopub.status.idle": "2020-11-16T23:16:33.077243Z",
     "shell.execute_reply": "2020-11-16T23:16:33.077843Z"
    },
    "papermill": {
     "duration": 0.413308,
     "end_time": "2020-11-16T23:16:33.078057",
     "exception": false,
     "start_time": "2020-11-16T23:16:32.664749",
     "status": "completed"
    },
    "pycharm": {
     "name": "#%%\n"
    },
    "tags": []
   },
   "outputs": [
    {
     "data": {
      "text/html": [
       "<div>\n",
       "<style scoped>\n",
       "    .dataframe tbody tr th:only-of-type {\n",
       "        vertical-align: middle;\n",
       "    }\n",
       "\n",
       "    .dataframe tbody tr th {\n",
       "        vertical-align: top;\n",
       "    }\n",
       "\n",
       "    .dataframe thead th {\n",
       "        text-align: right;\n",
       "    }\n",
       "</style>\n",
       "<table border=\"1\" class=\"dataframe\">\n",
       "  <thead>\n",
       "    <tr style=\"text-align: right;\">\n",
       "      <th></th>\n",
       "      <th>sample_date</th>\n",
       "      <th>new_cases</th>\n",
       "      <th>country_code</th>\n",
       "    </tr>\n",
       "  </thead>\n",
       "  <tbody>\n",
       "    <tr>\n",
       "      <th>46348</th>\n",
       "      <td>2020-11-16</td>\n",
       "      <td>920</td>\n",
       "      <td>SI</td>\n",
       "    </tr>\n",
       "    <tr>\n",
       "      <th>25475</th>\n",
       "      <td>2020-11-16</td>\n",
       "      <td>377</td>\n",
       "      <td>IE</td>\n",
       "    </tr>\n",
       "    <tr>\n",
       "      <th>5543</th>\n",
       "      <td>2020-11-16</td>\n",
       "      <td>0</td>\n",
       "      <td>BJ</td>\n",
       "    </tr>\n",
       "    <tr>\n",
       "      <th>26036</th>\n",
       "      <td>2020-11-16</td>\n",
       "      <td>675</td>\n",
       "      <td>IL</td>\n",
       "    </tr>\n",
       "    <tr>\n",
       "      <th>0</th>\n",
       "      <td>2020-11-16</td>\n",
       "      <td>163</td>\n",
       "      <td>AF</td>\n",
       "    </tr>\n",
       "  </tbody>\n",
       "</table>\n",
       "</div>"
      ],
      "text/plain": [
       "      sample_date  new_cases country_code\n",
       "46348  2020-11-16        920           SI\n",
       "25475  2020-11-16        377           IE\n",
       "5543   2020-11-16          0           BJ\n",
       "26036  2020-11-16        675           IL\n",
       "0      2020-11-16        163           AF"
      ]
     },
     "execution_count": 9,
     "metadata": {},
     "output_type": "execute_result"
    }
   ],
   "source": [
    "confirmed_df = confirmed_df_.copy()\n",
    "confirmed_df = confirmed_df[[\"dateRep\", \"cases\", \"geoId\"]]\n",
    "confirmed_df.rename(\n",
    "    columns={\n",
    "        \"dateRep\":\"sample_date\",\n",
    "        \"cases\": \"new_cases\",\n",
    "        \"geoId\": \"country_code\",\n",
    "    },\n",
    "    inplace=True)\n",
    "confirmed_df[\"sample_date\"] = pd.to_datetime(confirmed_df.sample_date, dayfirst=True)\n",
    "confirmed_df[\"sample_date\"] = confirmed_df.sample_date.dt.strftime(\"%Y-%m-%d\")\n",
    "confirmed_df.sort_values(\"sample_date\", inplace=True)\n",
    "confirmed_df.tail()"
   ]
  },
  {
   "cell_type": "code",
   "execution_count": 10,
   "metadata": {
    "collapsed": false,
    "execution": {
     "iopub.execute_input": "2020-11-16T23:16:33.168096Z",
     "iopub.status.busy": "2020-11-16T23:16:33.167487Z",
     "iopub.status.idle": "2020-11-16T23:16:33.169956Z",
     "shell.execute_reply": "2020-11-16T23:16:33.169425Z"
    },
    "papermill": {
     "duration": 0.048941,
     "end_time": "2020-11-16T23:16:33.170095",
     "exception": false,
     "start_time": "2020-11-16T23:16:33.121154",
     "status": "completed"
    },
    "pycharm": {
     "name": "#%%\n"
    },
    "tags": []
   },
   "outputs": [],
   "source": [
    "def sort_source_regions_for_display(source_regions: list) -> list:\n",
    "    if report_backend_identifier in source_regions:\n",
    "        source_regions = [report_backend_identifier] + \\\n",
    "            list(sorted(set(source_regions).difference([report_backend_identifier])))\n",
    "    else:\n",
    "        source_regions = list(sorted(source_regions))\n",
    "    return source_regions"
   ]
  },
  {
   "cell_type": "code",
   "execution_count": 11,
   "metadata": {
    "collapsed": false,
    "execution": {
     "iopub.execute_input": "2020-11-16T23:16:33.256499Z",
     "iopub.status.busy": "2020-11-16T23:16:33.255868Z",
     "iopub.status.idle": "2020-11-16T23:16:33.258922Z",
     "shell.execute_reply": "2020-11-16T23:16:33.259363Z"
    },
    "papermill": {
     "duration": 0.047282,
     "end_time": "2020-11-16T23:16:33.259496",
     "exception": false,
     "start_time": "2020-11-16T23:16:33.212214",
     "status": "completed"
    },
    "pycharm": {
     "name": "#%%\n"
    },
    "tags": []
   },
   "outputs": [
    {
     "data": {
      "text/plain": [
       "['ES', 'DE', 'DK', 'IE', 'IT', 'LV']"
      ]
     },
     "execution_count": 11,
     "metadata": {},
     "output_type": "execute_result"
    }
   ],
   "source": [
    "report_source_regions = report_backend_client.source_regions_for_date(\n",
    "    date=extraction_datetime.date())\n",
    "report_source_regions = sort_source_regions_for_display(\n",
    "    source_regions=report_source_regions)\n",
    "report_source_regions"
   ]
  },
  {
   "cell_type": "code",
   "execution_count": 12,
   "metadata": {
    "collapsed": false,
    "execution": {
     "iopub.execute_input": "2020-11-16T23:16:33.353777Z",
     "iopub.status.busy": "2020-11-16T23:16:33.353216Z",
     "iopub.status.idle": "2020-11-16T23:16:33.356312Z",
     "shell.execute_reply": "2020-11-16T23:16:33.355690Z"
    },
    "papermill": {
     "duration": 0.055613,
     "end_time": "2020-11-16T23:16:33.356467",
     "exception": false,
     "start_time": "2020-11-16T23:16:33.300854",
     "status": "completed"
    },
    "pycharm": {
     "name": "#%%\n"
    },
    "tags": []
   },
   "outputs": [
    {
     "data": {
      "text/html": [
       "<div>\n",
       "<style scoped>\n",
       "    .dataframe tbody tr th:only-of-type {\n",
       "        vertical-align: middle;\n",
       "    }\n",
       "\n",
       "    .dataframe tbody tr th {\n",
       "        vertical-align: top;\n",
       "    }\n",
       "\n",
       "    .dataframe thead th {\n",
       "        text-align: right;\n",
       "    }\n",
       "</style>\n",
       "<table border=\"1\" class=\"dataframe\">\n",
       "  <thead>\n",
       "    <tr style=\"text-align: right;\">\n",
       "      <th></th>\n",
       "      <th>sample_date</th>\n",
       "      <th>sample_date_string</th>\n",
       "    </tr>\n",
       "  </thead>\n",
       "  <tbody>\n",
       "    <tr>\n",
       "      <th>317</th>\n",
       "      <td>2020-11-12</td>\n",
       "      <td>2020-11-12</td>\n",
       "    </tr>\n",
       "    <tr>\n",
       "      <th>318</th>\n",
       "      <td>2020-11-13</td>\n",
       "      <td>2020-11-13</td>\n",
       "    </tr>\n",
       "    <tr>\n",
       "      <th>319</th>\n",
       "      <td>2020-11-14</td>\n",
       "      <td>2020-11-14</td>\n",
       "    </tr>\n",
       "    <tr>\n",
       "      <th>320</th>\n",
       "      <td>2020-11-15</td>\n",
       "      <td>2020-11-15</td>\n",
       "    </tr>\n",
       "    <tr>\n",
       "      <th>321</th>\n",
       "      <td>2020-11-16</td>\n",
       "      <td>2020-11-16</td>\n",
       "    </tr>\n",
       "  </tbody>\n",
       "</table>\n",
       "</div>"
      ],
      "text/plain": [
       "    sample_date sample_date_string\n",
       "317  2020-11-12         2020-11-12\n",
       "318  2020-11-13         2020-11-13\n",
       "319  2020-11-14         2020-11-14\n",
       "320  2020-11-15         2020-11-15\n",
       "321  2020-11-16         2020-11-16"
      ]
     },
     "execution_count": 12,
     "metadata": {},
     "output_type": "execute_result"
    }
   ],
   "source": [
    "confirmed_days = pd.date_range(\n",
    "    start=confirmed_df.iloc[0].sample_date,\n",
    "    end=extraction_datetime)\n",
    "confirmed_days_df = pd.DataFrame(data=confirmed_days, columns=[\"sample_date\"])\n",
    "confirmed_days_df[\"sample_date_string\"] = \\\n",
    "    confirmed_days_df.sample_date.dt.strftime(\"%Y-%m-%d\")\n",
    "confirmed_days_df.tail()"
   ]
  },
  {
   "cell_type": "code",
   "execution_count": 13,
   "metadata": {
    "collapsed": false,
    "execution": {
     "iopub.execute_input": "2020-11-16T23:16:33.441703Z",
     "iopub.status.busy": "2020-11-16T23:16:33.441103Z",
     "iopub.status.idle": "2020-11-16T23:16:33.452709Z",
     "shell.execute_reply": "2020-11-16T23:16:33.453208Z"
    },
    "papermill": {
     "duration": 0.057302,
     "end_time": "2020-11-16T23:16:33.453350",
     "exception": false,
     "start_time": "2020-11-16T23:16:33.396048",
     "status": "completed"
    },
    "pycharm": {
     "name": "#%%\n"
    },
    "tags": []
   },
   "outputs": [
    {
     "data": {
      "text/html": [
       "<div>\n",
       "<style scoped>\n",
       "    .dataframe tbody tr th:only-of-type {\n",
       "        vertical-align: middle;\n",
       "    }\n",
       "\n",
       "    .dataframe tbody tr th {\n",
       "        vertical-align: top;\n",
       "    }\n",
       "\n",
       "    .dataframe thead th {\n",
       "        text-align: right;\n",
       "    }\n",
       "</style>\n",
       "<table border=\"1\" class=\"dataframe\">\n",
       "  <thead>\n",
       "    <tr style=\"text-align: right;\">\n",
       "      <th></th>\n",
       "      <th>sample_date</th>\n",
       "      <th>sample_date_string</th>\n",
       "      <th>source_regions_at_date</th>\n",
       "      <th>_source_regions_group</th>\n",
       "    </tr>\n",
       "  </thead>\n",
       "  <tbody>\n",
       "    <tr>\n",
       "      <th>317</th>\n",
       "      <td>2020-11-12</td>\n",
       "      <td>2020-11-12</td>\n",
       "      <td>{DE, LV, DK, ES, IE, IT}</td>\n",
       "      <td>ES,DE,DK,IE,IT,LV</td>\n",
       "    </tr>\n",
       "    <tr>\n",
       "      <th>318</th>\n",
       "      <td>2020-11-13</td>\n",
       "      <td>2020-11-13</td>\n",
       "      <td>{DE, LV, DK, ES, IE, IT}</td>\n",
       "      <td>ES,DE,DK,IE,IT,LV</td>\n",
       "    </tr>\n",
       "    <tr>\n",
       "      <th>319</th>\n",
       "      <td>2020-11-14</td>\n",
       "      <td>2020-11-14</td>\n",
       "      <td>{DE, LV, DK, ES, IE, IT}</td>\n",
       "      <td>ES,DE,DK,IE,IT,LV</td>\n",
       "    </tr>\n",
       "    <tr>\n",
       "      <th>320</th>\n",
       "      <td>2020-11-15</td>\n",
       "      <td>2020-11-15</td>\n",
       "      <td>{DE, LV, DK, ES, IE, IT}</td>\n",
       "      <td>ES,DE,DK,IE,IT,LV</td>\n",
       "    </tr>\n",
       "    <tr>\n",
       "      <th>321</th>\n",
       "      <td>2020-11-16</td>\n",
       "      <td>2020-11-16</td>\n",
       "      <td>{DE, LV, DK, ES, IE, IT}</td>\n",
       "      <td>ES,DE,DK,IE,IT,LV</td>\n",
       "    </tr>\n",
       "  </tbody>\n",
       "</table>\n",
       "</div>"
      ],
      "text/plain": [
       "    sample_date sample_date_string    source_regions_at_date  \\\n",
       "317  2020-11-12         2020-11-12  {DE, LV, DK, ES, IE, IT}   \n",
       "318  2020-11-13         2020-11-13  {DE, LV, DK, ES, IE, IT}   \n",
       "319  2020-11-14         2020-11-14  {DE, LV, DK, ES, IE, IT}   \n",
       "320  2020-11-15         2020-11-15  {DE, LV, DK, ES, IE, IT}   \n",
       "321  2020-11-16         2020-11-16  {DE, LV, DK, ES, IE, IT}   \n",
       "\n",
       "    _source_regions_group  \n",
       "317     ES,DE,DK,IE,IT,LV  \n",
       "318     ES,DE,DK,IE,IT,LV  \n",
       "319     ES,DE,DK,IE,IT,LV  \n",
       "320     ES,DE,DK,IE,IT,LV  \n",
       "321     ES,DE,DK,IE,IT,LV  "
      ]
     },
     "execution_count": 13,
     "metadata": {},
     "output_type": "execute_result"
    }
   ],
   "source": [
    "source_regions_at_date_df = confirmed_days_df.copy()\n",
    "source_regions_at_date_df[\"source_regions_at_date\"] = \\\n",
    "    source_regions_at_date_df.sample_date.apply(\n",
    "        lambda x: report_backend_client.source_regions_for_date(date=x))\n",
    "source_regions_at_date_df.sort_values(\"sample_date\", inplace=True)\n",
    "source_regions_at_date_df[\"_source_regions_group\"] = source_regions_at_date_df. \\\n",
    "    source_regions_at_date.apply(lambda x: \",\".join(sort_source_regions_for_display(x)))\n",
    "source_regions_at_date_df.tail()"
   ]
  },
  {
   "cell_type": "code",
   "execution_count": 14,
   "metadata": {
    "collapsed": false,
    "execution": {
     "iopub.execute_input": "2020-11-16T23:16:33.538457Z",
     "iopub.status.busy": "2020-11-16T23:16:33.537927Z",
     "iopub.status.idle": "2020-11-16T23:16:33.546587Z",
     "shell.execute_reply": "2020-11-16T23:16:33.547078Z"
    },
    "papermill": {
     "duration": 0.053237,
     "end_time": "2020-11-16T23:16:33.547236",
     "exception": false,
     "start_time": "2020-11-16T23:16:33.493999",
     "status": "completed"
    },
    "pycharm": {
     "name": "#%%\n"
    },
    "tags": []
   },
   "outputs": [
    {
     "data": {
      "text/html": [
       "<div>\n",
       "<style scoped>\n",
       "    .dataframe tbody tr th:only-of-type {\n",
       "        vertical-align: middle;\n",
       "    }\n",
       "\n",
       "    .dataframe tbody tr th {\n",
       "        vertical-align: top;\n",
       "    }\n",
       "\n",
       "    .dataframe thead th {\n",
       "        text-align: right;\n",
       "    }\n",
       "</style>\n",
       "<table border=\"1\" class=\"dataframe\">\n",
       "  <thead>\n",
       "    <tr style=\"text-align: right;\">\n",
       "      <th></th>\n",
       "      <th>sample_date</th>\n",
       "      <th>source_regions</th>\n",
       "    </tr>\n",
       "  </thead>\n",
       "  <tbody>\n",
       "    <tr>\n",
       "      <th>317</th>\n",
       "      <td>2020-11-12</td>\n",
       "      <td>ES,DE,DK,IE,IT,LV</td>\n",
       "    </tr>\n",
       "    <tr>\n",
       "      <th>318</th>\n",
       "      <td>2020-11-13</td>\n",
       "      <td>ES,DE,DK,IE,IT,LV</td>\n",
       "    </tr>\n",
       "    <tr>\n",
       "      <th>319</th>\n",
       "      <td>2020-11-14</td>\n",
       "      <td>ES,DE,DK,IE,IT,LV</td>\n",
       "    </tr>\n",
       "    <tr>\n",
       "      <th>320</th>\n",
       "      <td>2020-11-15</td>\n",
       "      <td>ES,DE,DK,IE,IT,LV</td>\n",
       "    </tr>\n",
       "    <tr>\n",
       "      <th>321</th>\n",
       "      <td>2020-11-16</td>\n",
       "      <td>ES,DE,DK,IE,IT,LV</td>\n",
       "    </tr>\n",
       "  </tbody>\n",
       "</table>\n",
       "</div>"
      ],
      "text/plain": [
       "    sample_date     source_regions\n",
       "317  2020-11-12  ES,DE,DK,IE,IT,LV\n",
       "318  2020-11-13  ES,DE,DK,IE,IT,LV\n",
       "319  2020-11-14  ES,DE,DK,IE,IT,LV\n",
       "320  2020-11-15  ES,DE,DK,IE,IT,LV\n",
       "321  2020-11-16  ES,DE,DK,IE,IT,LV"
      ]
     },
     "execution_count": 14,
     "metadata": {},
     "output_type": "execute_result"
    }
   ],
   "source": [
    "source_regions_for_summary_df = \\\n",
    "    source_regions_at_date_df[[\"sample_date\", \"_source_regions_group\"]].copy()\n",
    "source_regions_for_summary_df.rename(columns={\"_source_regions_group\": \"source_regions\"}, inplace=True)\n",
    "source_regions_for_summary_df.tail()"
   ]
  },
  {
   "cell_type": "code",
   "execution_count": 15,
   "metadata": {
    "collapsed": false,
    "execution": {
     "iopub.execute_input": "2020-11-16T23:16:33.652235Z",
     "iopub.status.busy": "2020-11-16T23:16:33.651592Z",
     "iopub.status.idle": "2020-11-16T23:16:33.695926Z",
     "shell.execute_reply": "2020-11-16T23:16:33.696430Z"
    },
    "papermill": {
     "duration": 0.10155,
     "end_time": "2020-11-16T23:16:33.696609",
     "exception": false,
     "start_time": "2020-11-16T23:16:33.595059",
     "status": "completed"
    },
    "pycharm": {
     "name": "#%%\n"
    },
    "tags": []
   },
   "outputs": [
    {
     "data": {
      "text/html": [
       "<div>\n",
       "<style scoped>\n",
       "    .dataframe tbody tr th:only-of-type {\n",
       "        vertical-align: middle;\n",
       "    }\n",
       "\n",
       "    .dataframe tbody tr th {\n",
       "        vertical-align: top;\n",
       "    }\n",
       "\n",
       "    .dataframe thead th {\n",
       "        text-align: right;\n",
       "    }\n",
       "</style>\n",
       "<table border=\"1\" class=\"dataframe\">\n",
       "  <thead>\n",
       "    <tr style=\"text-align: right;\">\n",
       "      <th></th>\n",
       "      <th>sample_date</th>\n",
       "      <th>new_cases</th>\n",
       "      <th>covid_cases</th>\n",
       "    </tr>\n",
       "  </thead>\n",
       "  <tbody>\n",
       "    <tr>\n",
       "      <th>309</th>\n",
       "      <td>2020-11-04</td>\n",
       "      <td>70966</td>\n",
       "      <td>66020.0</td>\n",
       "    </tr>\n",
       "    <tr>\n",
       "      <th>310</th>\n",
       "      <td>2020-11-05</td>\n",
       "      <td>73194</td>\n",
       "      <td>67010.0</td>\n",
       "    </tr>\n",
       "    <tr>\n",
       "      <th>311</th>\n",
       "      <td>2020-11-06</td>\n",
       "      <td>79454</td>\n",
       "      <td>68044.0</td>\n",
       "    </tr>\n",
       "    <tr>\n",
       "      <th>312</th>\n",
       "      <td>2020-11-07</td>\n",
       "      <td>62050</td>\n",
       "      <td>69596.0</td>\n",
       "    </tr>\n",
       "    <tr>\n",
       "      <th>313</th>\n",
       "      <td>2020-11-08</td>\n",
       "      <td>56547</td>\n",
       "      <td>71025.0</td>\n",
       "    </tr>\n",
       "  </tbody>\n",
       "</table>\n",
       "</div>"
      ],
      "text/plain": [
       "    sample_date new_cases  covid_cases\n",
       "309  2020-11-04     70966      66020.0\n",
       "310  2020-11-05     73194      67010.0\n",
       "311  2020-11-06     79454      68044.0\n",
       "312  2020-11-07     62050      69596.0\n",
       "313  2020-11-08     56547      71025.0"
      ]
     },
     "execution_count": 15,
     "metadata": {},
     "output_type": "execute_result"
    }
   ],
   "source": [
    "confirmed_output_columns = [\"sample_date\", \"new_cases\", \"covid_cases\"]\n",
    "confirmed_output_df = pd.DataFrame(columns=confirmed_output_columns)\n",
    "\n",
    "for source_regions_group, source_regions_group_series in \\\n",
    "        source_regions_at_date_df.groupby(\"_source_regions_group\"):\n",
    "    source_regions_set = set(source_regions_group.split(\",\"))\n",
    "    confirmed_source_regions_set_df = \\\n",
    "        confirmed_df[confirmed_df.country_code.isin(source_regions_set)].copy()\n",
    "    confirmed_source_regions_group_df = \\\n",
    "        confirmed_source_regions_set_df.groupby(\"sample_date\").new_cases.sum() \\\n",
    "            .reset_index().sort_values(\"sample_date\")\n",
    "    confirmed_source_regions_group_df[\"covid_cases\"] = \\\n",
    "        confirmed_source_regions_group_df.new_cases.rolling(7, min_periods=0).mean().round()\n",
    "    confirmed_source_regions_group_df = \\\n",
    "        confirmed_source_regions_group_df[confirmed_output_columns]\n",
    "    confirmed_source_regions_group_df.fillna(method=\"ffill\", inplace=True)\n",
    "    confirmed_source_regions_group_df = \\\n",
    "        confirmed_source_regions_group_df[\n",
    "            confirmed_source_regions_group_df.sample_date.isin(\n",
    "                source_regions_group_series.sample_date_string)]\n",
    "    confirmed_output_df = confirmed_output_df.append(confirmed_source_regions_group_df)\n",
    "\n",
    "confirmed_df = confirmed_output_df.copy()\n",
    "confirmed_df.tail()"
   ]
  },
  {
   "cell_type": "code",
   "execution_count": 16,
   "metadata": {
    "collapsed": false,
    "execution": {
     "iopub.execute_input": "2020-11-16T23:16:33.796043Z",
     "iopub.status.busy": "2020-11-16T23:16:33.795418Z",
     "iopub.status.idle": "2020-11-16T23:16:33.806838Z",
     "shell.execute_reply": "2020-11-16T23:16:33.806360Z"
    },
    "papermill": {
     "duration": 0.064892,
     "end_time": "2020-11-16T23:16:33.806962",
     "exception": false,
     "start_time": "2020-11-16T23:16:33.742070",
     "status": "completed"
    },
    "pycharm": {
     "name": "#%%\n"
    },
    "tags": []
   },
   "outputs": [
    {
     "data": {
      "text/html": [
       "<div>\n",
       "<style scoped>\n",
       "    .dataframe tbody tr th:only-of-type {\n",
       "        vertical-align: middle;\n",
       "    }\n",
       "\n",
       "    .dataframe tbody tr th {\n",
       "        vertical-align: top;\n",
       "    }\n",
       "\n",
       "    .dataframe thead th {\n",
       "        text-align: right;\n",
       "    }\n",
       "</style>\n",
       "<table border=\"1\" class=\"dataframe\">\n",
       "  <thead>\n",
       "    <tr style=\"text-align: right;\">\n",
       "      <th></th>\n",
       "      <th>sample_date_string</th>\n",
       "      <th>new_cases</th>\n",
       "      <th>covid_cases</th>\n",
       "    </tr>\n",
       "  </thead>\n",
       "  <tbody>\n",
       "    <tr>\n",
       "      <th>317</th>\n",
       "      <td>2020-11-12</td>\n",
       "      <td>76143</td>\n",
       "      <td>73029.0</td>\n",
       "    </tr>\n",
       "    <tr>\n",
       "      <th>318</th>\n",
       "      <td>2020-11-13</td>\n",
       "      <td>84819</td>\n",
       "      <td>73621.0</td>\n",
       "    </tr>\n",
       "    <tr>\n",
       "      <th>319</th>\n",
       "      <td>2020-11-14</td>\n",
       "      <td>65322</td>\n",
       "      <td>73884.0</td>\n",
       "    </tr>\n",
       "    <tr>\n",
       "      <th>320</th>\n",
       "      <td>2020-11-15</td>\n",
       "      <td>56096</td>\n",
       "      <td>73670.0</td>\n",
       "    </tr>\n",
       "    <tr>\n",
       "      <th>321</th>\n",
       "      <td>2020-11-16</td>\n",
       "      <td>46552</td>\n",
       "      <td>66033.0</td>\n",
       "    </tr>\n",
       "  </tbody>\n",
       "</table>\n",
       "</div>"
      ],
      "text/plain": [
       "    sample_date_string  new_cases  covid_cases\n",
       "317         2020-11-12      76143      73029.0\n",
       "318         2020-11-13      84819      73621.0\n",
       "319         2020-11-14      65322      73884.0\n",
       "320         2020-11-15      56096      73670.0\n",
       "321         2020-11-16      46552      66033.0"
      ]
     },
     "execution_count": 16,
     "metadata": {},
     "output_type": "execute_result"
    }
   ],
   "source": [
    "confirmed_df.rename(columns={\"sample_date\": \"sample_date_string\"}, inplace=True)\n",
    "confirmed_df = confirmed_days_df[[\"sample_date_string\"]].merge(confirmed_df, how=\"left\")\n",
    "confirmed_df.sort_values(\"sample_date_string\", inplace=True)\n",
    "confirmed_df.fillna(method=\"ffill\", inplace=True)\n",
    "confirmed_df.tail()"
   ]
  },
  {
   "cell_type": "code",
   "execution_count": 17,
   "metadata": {
    "collapsed": false,
    "execution": {
     "iopub.execute_input": "2020-11-16T23:16:33.899181Z",
     "iopub.status.busy": "2020-11-16T23:16:33.898566Z",
     "iopub.status.idle": "2020-11-16T23:16:34.115415Z",
     "shell.execute_reply": "2020-11-16T23:16:34.116176Z"
    },
    "papermill": {
     "duration": 0.266335,
     "end_time": "2020-11-16T23:16:34.116344",
     "exception": false,
     "start_time": "2020-11-16T23:16:33.850009",
     "status": "completed"
    },
    "pycharm": {
     "name": "#%%\n"
    },
    "tags": []
   },
   "outputs": [
    {
     "data": {
      "text/plain": [
       "<matplotlib.axes._subplots.AxesSubplot at 0x7f4bfcd2f3d0>"
      ]
     },
     "execution_count": 17,
     "metadata": {},
     "output_type": "execute_result"
    },
    {
     "data": {
      "image/png": "[encoded data removed]",
      "text/plain": [
       "<Figure size 1080x432 with 1 Axes>"
      ]
     },
     "metadata": {},
     "output_type": "display_data"
    }
   ],
   "source": [
    "confirmed_df[[\"new_cases\", \"covid_cases\"]].plot()"
   ]
  },
  {
   "cell_type": "markdown",
   "metadata": {
    "execution": {
     "iopub.execute_input": "2020-08-30T22:30:16.351238Z",
     "iopub.status.busy": "2020-08-30T22:30:16.344579Z",
     "iopub.status.idle": "2020-08-30T22:30:16.354285Z",
     "shell.execute_reply": "2020-08-30T22:30:16.353641Z"
    },
    "papermill": {
     "duration": 0.042639,
     "end_time": "2020-11-16T23:16:34.204225",
     "exception": false,
     "start_time": "2020-11-16T23:16:34.161586",
     "status": "completed"
    },
    "pycharm": {
     "name": "#%% md\n"
    },
    "tags": []
   },
   "source": [
    "### Extract API TEKs"
   ]
  },
  {
   "cell_type": "code",
   "execution_count": 18,
   "metadata": {
    "execution": {
     "iopub.execute_input": "2020-11-16T23:16:34.295834Z",
     "iopub.status.busy": "2020-11-16T23:16:34.295287Z",
     "iopub.status.idle": "2020-11-16T23:21:38.682813Z",
     "shell.execute_reply": "2020-11-16T23:21:38.683328Z"
    },
    "papermill": {
     "duration": 304.437901,
     "end_time": "2020-11-16T23:21:38.683472",
     "exception": false,
     "start_time": "2020-11-16T23:16:34.245571",
     "status": "completed"
    },
    "pycharm": {
     "name": "#%%\n"
    },
    "tags": []
   },
   "outputs": [
    {
     "name": "stderr",
     "output_type": "stream",
     "text": [
      "WARNING:root:NoKeysFoundException(\"No exposure keys found on endpoint 'https://stayaway.incm.pt/v1/gaen/exposed/1605484800000' (parameters: {'generation_date': '2020-11-16', 'endpoint_identifier_components': ['2020-11-16'], 'backend_identifier': 'PT', 'server_endpoint_url': 'https://stayaway.incm.pt'}).\")\n"
     ]
    },
    {
     "name": "stderr",
     "output_type": "stream",
     "text": [
      "WARNING:root:NoKeysFoundException(\"No exposure keys found on endpoint 'https://enapi.sm.ee/authorization/v1/gaen/exposed/1605484800000' (parameters: {'generation_date': '2020-11-16', 'endpoint_identifier_components': ['2020-11-16'], 'backend_identifier': 'EE', 'server_endpoint_url': 'https://enapi.sm.ee/authorization'}).\")\n"
     ]
    },
    {
     "name": "stderr",
     "output_type": "stream",
     "text": [
      "WARNING:root:NoKeysFoundException(\"No exposure keys found on endpoint 'https://mt-dpppt-ws.azurewebsites.net/v1/gaen/exposed/1605484800000' (parameters: {'generation_date': '2020-11-16', 'endpoint_identifier_components': ['2020-11-16'], 'backend_identifier': 'MT', 'server_endpoint_url': 'https://mt-dpppt-ws.azurewebsites.net'}).\")\n"
     ]
    },
    {
     "data": {
      "text/html": [
       "<div>\n",
       "<style scoped>\n",
       "    .dataframe tbody tr th:only-of-type {\n",
       "        vertical-align: middle;\n",
       "    }\n",
       "\n",
       "    .dataframe tbody tr th {\n",
       "        vertical-align: top;\n",
       "    }\n",
       "\n",
       "    .dataframe thead th {\n",
       "        text-align: right;\n",
       "    }\n",
       "</style>\n",
       "<table border=\"1\" class=\"dataframe\">\n",
       "  <thead>\n",
       "    <tr style=\"text-align: right;\">\n",
       "      <th></th>\n",
       "      <th>sample_datetime</th>\n",
       "      <th>sample_date_string</th>\n",
       "      <th>region</th>\n",
       "      <th>verification_key_version</th>\n",
       "      <th>verification_key_id</th>\n",
       "      <th>signature_algorithm</th>\n",
       "      <th>key_data</th>\n",
       "      <th>rolling_start_interval_number</th>\n",
       "      <th>rolling_period</th>\n",
       "      <th>transmission_risk_level</th>\n",
       "      <th>backend_identifier</th>\n",
       "    </tr>\n",
       "  </thead>\n",
       "  <tbody>\n",
       "    <tr>\n",
       "      <th>0</th>\n",
       "      <td>2020-11-16</td>\n",
       "      <td>2020-11-16</td>\n",
       "      <td>ES</td>\n",
       "      <td>V1</td>\n",
       "      <td>214</td>\n",
       "      <td>1.2.840.10045.4.3.2</td>\n",
       "      <td>cca34c86-ce03-72d1-2e8c-e2731b732e01</td>\n",
       "      <td>2675808</td>\n",
       "      <td>131</td>\n",
       "      <td>0</td>\n",
       "      <td>ES</td>\n",
       "    </tr>\n",
       "    <tr>\n",
       "      <th>1</th>\n",
       "      <td>2020-11-16</td>\n",
       "      <td>2020-11-16</td>\n",
       "      <td>ES</td>\n",
       "      <td>V1</td>\n",
       "      <td>214</td>\n",
       "      <td>1.2.840.10045.4.3.2</td>\n",
       "      <td>3e3ac9d1-3d35-542e-1172-e894d80b52e2</td>\n",
       "      <td>2675808</td>\n",
       "      <td>131</td>\n",
       "      <td>0</td>\n",
       "      <td>ES</td>\n",
       "    </tr>\n",
       "    <tr>\n",
       "      <th>2</th>\n",
       "      <td>2020-11-16</td>\n",
       "      <td>2020-11-16</td>\n",
       "      <td>ES</td>\n",
       "      <td>V1</td>\n",
       "      <td>214</td>\n",
       "      <td>1.2.840.10045.4.3.2</td>\n",
       "      <td>2fa1b27a-eaac-2393-a76d-c3d9cd640f52</td>\n",
       "      <td>2675808</td>\n",
       "      <td>130</td>\n",
       "      <td>0</td>\n",
       "      <td>ES</td>\n",
       "    </tr>\n",
       "    <tr>\n",
       "      <th>3</th>\n",
       "      <td>2020-11-16</td>\n",
       "      <td>2020-11-16</td>\n",
       "      <td>ES</td>\n",
       "      <td>V1</td>\n",
       "      <td>214</td>\n",
       "      <td>1.2.840.10045.4.3.2</td>\n",
       "      <td>79653897-c53c-f2da-a6d8-7dc54382e204</td>\n",
       "      <td>2675808</td>\n",
       "      <td>129</td>\n",
       "      <td>0</td>\n",
       "      <td>ES</td>\n",
       "    </tr>\n",
       "    <tr>\n",
       "      <th>4</th>\n",
       "      <td>2020-11-16</td>\n",
       "      <td>2020-11-16</td>\n",
       "      <td>ES</td>\n",
       "      <td>V1</td>\n",
       "      <td>214</td>\n",
       "      <td>1.2.840.10045.4.3.2</td>\n",
       "      <td>93b55612-7738-06ae-ac6b-347048462720</td>\n",
       "      <td>2675808</td>\n",
       "      <td>129</td>\n",
       "      <td>0</td>\n",
       "      <td>ES</td>\n",
       "    </tr>\n",
       "  </tbody>\n",
       "</table>\n",
       "</div>"
      ],
      "text/plain": [
       "  sample_datetime sample_date_string region verification_key_version  \\\n",
       "0      2020-11-16         2020-11-16     ES                       V1   \n",
       "1      2020-11-16         2020-11-16     ES                       V1   \n",
       "2      2020-11-16         2020-11-16     ES                       V1   \n",
       "3      2020-11-16         2020-11-16     ES                       V1   \n",
       "4      2020-11-16         2020-11-16     ES                       V1   \n",
       "\n",
       "  verification_key_id  signature_algorithm  \\\n",
       "0                 214  1.2.840.10045.4.3.2   \n",
       "1                 214  1.2.840.10045.4.3.2   \n",
       "2                 214  1.2.840.10045.4.3.2   \n",
       "3                 214  1.2.840.10045.4.3.2   \n",
       "4                 214  1.2.840.10045.4.3.2   \n",
       "\n",
       "                               key_data  rolling_start_interval_number  \\\n",
       "0  cca34c86-ce03-72d1-2e8c-e2731b732e01                        2675808   \n",
       "1  3e3ac9d1-3d35-542e-1172-e894d80b52e2                        2675808   \n",
       "2  2fa1b27a-eaac-2393-a76d-c3d9cd640f52                        2675808   \n",
       "3  79653897-c53c-f2da-a6d8-7dc54382e204                        2675808   \n",
       "4  93b55612-7738-06ae-ac6b-347048462720                        2675808   \n",
       "\n",
       "   rolling_period  transmission_risk_level backend_identifier  \n",
       "0             131                        0                 ES  \n",
       "1             131                        0                 ES  \n",
       "2             130                        0                 ES  \n",
       "3             129                        0                 ES  \n",
       "4             129                        0                 ES  "
      ]
     },
     "execution_count": 18,
     "metadata": {},
     "output_type": "execute_result"
    }
   ],
   "source": [
    "raw_zip_path_prefix = \"Data/TEKs/Raw/\"\n",
    "fail_on_error_backend_identifiers = [report_backend_identifier]\n",
    "multi_backend_exposure_keys_df = \\\n",
    "    exposure_notification_io.download_exposure_keys_from_backends(\n",
    "        backend_identifiers=report_backend_identifiers,\n",
    "        generation_days=backend_generation_days,\n",
    "        fail_on_error_backend_identifiers=fail_on_error_backend_identifiers,\n",
    "        save_raw_zip_path_prefix=raw_zip_path_prefix)\n",
    "multi_backend_exposure_keys_df[\"region\"] = multi_backend_exposure_keys_df[\"backend_identifier\"]\n",
    "multi_backend_exposure_keys_df.rename(\n",
    "    columns={\n",
    "        \"generation_datetime\": \"sample_datetime\",\n",
    "        \"generation_date_string\": \"sample_date_string\",\n",
    "    },\n",
    "    inplace=True)\n",
    "multi_backend_exposure_keys_df.head()"
   ]
  },
  {
   "cell_type": "code",
   "execution_count": 19,
   "metadata": {
    "collapsed": false,
    "execution": {
     "iopub.execute_input": "2020-11-16T23:21:38.773505Z",
     "iopub.status.busy": "2020-11-16T23:21:38.772978Z",
     "iopub.status.idle": "2020-11-16T23:21:38.988457Z",
     "shell.execute_reply": "2020-11-16T23:21:38.989105Z"
    },
    "papermill": {
     "duration": 0.262871,
     "end_time": "2020-11-16T23:21:38.989262",
     "exception": false,
     "start_time": "2020-11-16T23:21:38.726391",
     "status": "completed"
    },
    "pycharm": {
     "name": "#%%\n"
    },
    "tags": []
   },
   "outputs": [
    {
     "data": {
      "text/plain": [
       "<matplotlib.axes._subplots.AxesSubplot at 0x7f4bea0c5b80>"
      ]
     },
     "execution_count": 19,
     "metadata": {},
     "output_type": "execute_result"
    },
    {
     "data": {
      "image/png": "[encoded data removed]",
      "text/plain": [
       "<Figure size 1080x432 with 1 Axes>"
      ]
     },
     "metadata": {},
     "output_type": "display_data"
    }
   ],
   "source": [
    "early_teks_df = multi_backend_exposure_keys_df[\n",
    "    multi_backend_exposure_keys_df.rolling_period < 144].copy()\n",
    "early_teks_df[\"rolling_period_in_hours\"] = early_teks_df.rolling_period / 6\n",
    "early_teks_df[early_teks_df.sample_date_string != extraction_date] \\\n",
    "    .rolling_period_in_hours.hist(bins=list(range(24)))"
   ]
  },
  {
   "cell_type": "code",
   "execution_count": 20,
   "metadata": {
    "collapsed": false,
    "execution": {
     "iopub.execute_input": "2020-11-16T23:21:39.090954Z",
     "iopub.status.busy": "2020-11-16T23:21:39.090392Z",
     "iopub.status.idle": "2020-11-16T23:21:39.307242Z",
     "shell.execute_reply": "2020-11-16T23:21:39.307771Z"
    },
    "papermill": {
     "duration": 0.271055,
     "end_time": "2020-11-16T23:21:39.307928",
     "exception": false,
     "start_time": "2020-11-16T23:21:39.036873",
     "status": "completed"
    },
    "pycharm": {
     "name": "#%%\n"
    },
    "tags": []
   },
   "outputs": [
    {
     "data": {
      "text/plain": [
       "<matplotlib.axes._subplots.AxesSubplot at 0x7f4be9c66ee0>"
      ]
     },
     "execution_count": 20,
     "metadata": {},
     "output_type": "execute_result"
    },
    {
     "data": {
      "image/png": "[encoded data removed]",
      "text/plain": [
       "<Figure size 1080x432 with 1 Axes>"
      ]
     },
     "metadata": {},
     "output_type": "display_data"
    }
   ],
   "source": [
    "early_teks_df[early_teks_df.sample_date_string == extraction_date] \\\n",
    "    .rolling_period_in_hours.hist(bins=list(range(24)))"
   ]
  },
  {
   "cell_type": "code",
   "execution_count": 21,
   "metadata": {
    "collapsed": false,
    "execution": {
     "iopub.execute_input": "2020-11-16T23:21:39.408295Z",
     "iopub.status.busy": "2020-11-16T23:21:39.407723Z",
     "iopub.status.idle": "2020-11-16T23:21:39.444122Z",
     "shell.execute_reply": "2020-11-16T23:21:39.444584Z"
    },
    "papermill": {
     "duration": 0.088469,
     "end_time": "2020-11-16T23:21:39.444745",
     "exception": false,
     "start_time": "2020-11-16T23:21:39.356276",
     "status": "completed"
    },
    "pycharm": {
     "name": "#%%\n"
    },
    "tags": []
   },
   "outputs": [
    {
     "data": {
      "text/html": [
       "<div>\n",
       "<style scoped>\n",
       "    .dataframe tbody tr th:only-of-type {\n",
       "        vertical-align: middle;\n",
       "    }\n",
       "\n",
       "    .dataframe tbody tr th {\n",
       "        vertical-align: top;\n",
       "    }\n",
       "\n",
       "    .dataframe thead th {\n",
       "        text-align: right;\n",
       "    }\n",
       "</style>\n",
       "<table border=\"1\" class=\"dataframe\">\n",
       "  <thead>\n",
       "    <tr style=\"text-align: right;\">\n",
       "      <th></th>\n",
       "      <th>sample_date_string</th>\n",
       "      <th>region</th>\n",
       "      <th>key_data</th>\n",
       "    </tr>\n",
       "  </thead>\n",
       "  <tbody>\n",
       "    <tr>\n",
       "      <th>0</th>\n",
       "      <td>2020-11-16</td>\n",
       "      <td>ES</td>\n",
       "      <td>cca34c86-ce03-72d1-2e8c-e2731b732e01</td>\n",
       "    </tr>\n",
       "    <tr>\n",
       "      <th>1</th>\n",
       "      <td>2020-11-16</td>\n",
       "      <td>ES</td>\n",
       "      <td>3e3ac9d1-3d35-542e-1172-e894d80b52e2</td>\n",
       "    </tr>\n",
       "    <tr>\n",
       "      <th>2</th>\n",
       "      <td>2020-11-16</td>\n",
       "      <td>ES</td>\n",
       "      <td>2fa1b27a-eaac-2393-a76d-c3d9cd640f52</td>\n",
       "    </tr>\n",
       "    <tr>\n",
       "      <th>3</th>\n",
       "      <td>2020-11-16</td>\n",
       "      <td>ES</td>\n",
       "      <td>79653897-c53c-f2da-a6d8-7dc54382e204</td>\n",
       "    </tr>\n",
       "    <tr>\n",
       "      <th>4</th>\n",
       "      <td>2020-11-16</td>\n",
       "      <td>ES</td>\n",
       "      <td>93b55612-7738-06ae-ac6b-347048462720</td>\n",
       "    </tr>\n",
       "  </tbody>\n",
       "</table>\n",
       "</div>"
      ],
      "text/plain": [
       "  sample_date_string region                              key_data\n",
       "0         2020-11-16     ES  cca34c86-ce03-72d1-2e8c-e2731b732e01\n",
       "1         2020-11-16     ES  3e3ac9d1-3d35-542e-1172-e894d80b52e2\n",
       "2         2020-11-16     ES  2fa1b27a-eaac-2393-a76d-c3d9cd640f52\n",
       "3         2020-11-16     ES  79653897-c53c-f2da-a6d8-7dc54382e204\n",
       "4         2020-11-16     ES  93b55612-7738-06ae-ac6b-347048462720"
      ]
     },
     "execution_count": 21,
     "metadata": {},
     "output_type": "execute_result"
    }
   ],
   "source": [
    "multi_backend_exposure_keys_df = multi_backend_exposure_keys_df[[\n",
    "    \"sample_date_string\", \"region\", \"key_data\"]]\n",
    "multi_backend_exposure_keys_df.head()"
   ]
  },
  {
   "cell_type": "code",
   "execution_count": 22,
   "metadata": {
    "collapsed": false,
    "execution": {
     "iopub.execute_input": "2020-11-16T23:21:39.556073Z",
     "iopub.status.busy": "2020-11-16T23:21:39.555522Z",
     "iopub.status.idle": "2020-11-16T23:21:42.900304Z",
     "shell.execute_reply": "2020-11-16T23:21:42.899855Z"
    },
    "papermill": {
     "duration": 3.408115,
     "end_time": "2020-11-16T23:21:42.900436",
     "exception": false,
     "start_time": "2020-11-16T23:21:39.492321",
     "status": "completed"
    },
    "pycharm": {
     "name": "#%%\n"
    },
    "tags": []
   },
   "outputs": [
    {
     "data": {
      "text/plain": [
       "['BE@TST', 'EE', 'MT', 'PT', 'BE', 'DK', 'ES@PRE', 'CH', 'DE', 'IT', 'ES']"
      ]
     },
     "execution_count": 22,
     "metadata": {},
     "output_type": "execute_result"
    }
   ],
   "source": [
    "active_regions = \\\n",
    "    multi_backend_exposure_keys_df.groupby(\"region\").key_data.nunique().sort_values().index.unique().tolist()\n",
    "active_regions"
   ]
  },
  {
   "cell_type": "code",
   "execution_count": 23,
   "metadata": {
    "collapsed": false,
    "execution": {
     "iopub.execute_input": "2020-11-16T23:21:43.027712Z",
     "iopub.status.busy": "2020-11-16T23:21:43.027127Z",
     "iopub.status.idle": "2020-11-16T23:21:46.503582Z",
     "shell.execute_reply": "2020-11-16T23:21:46.504218Z"
    },
    "papermill": {
     "duration": 3.557629,
     "end_time": "2020-11-16T23:21:46.504373",
     "exception": false,
     "start_time": "2020-11-16T23:21:42.946744",
     "status": "completed"
    },
    "pycharm": {
     "name": "#%%\n"
    },
    "tags": []
   },
   "outputs": [
    {
     "data": {
      "text/html": [
       "<div>\n",
       "<style scoped>\n",
       "    .dataframe tbody tr th:only-of-type {\n",
       "        vertical-align: middle;\n",
       "    }\n",
       "\n",
       "    .dataframe tbody tr th {\n",
       "        vertical-align: top;\n",
       "    }\n",
       "\n",
       "    .dataframe thead tr th {\n",
       "        text-align: left;\n",
       "    }\n",
       "\n",
       "    .dataframe thead tr:last-of-type th {\n",
       "        text-align: right;\n",
       "    }\n",
       "</style>\n",
       "<table border=\"1\" class=\"dataframe\">\n",
       "  <thead>\n",
       "    <tr>\n",
       "      <th></th>\n",
       "      <th colspan=\"11\" halign=\"left\">shared_teks_by_generation_date</th>\n",
       "    </tr>\n",
       "    <tr>\n",
       "      <th>region</th>\n",
       "      <th>BE</th>\n",
       "      <th>BE@TST</th>\n",
       "      <th>CH</th>\n",
       "      <th>DE</th>\n",
       "      <th>DK</th>\n",
       "      <th>EE</th>\n",
       "      <th>ES</th>\n",
       "      <th>ES@PRE</th>\n",
       "      <th>IT</th>\n",
       "      <th>MT</th>\n",
       "      <th>PT</th>\n",
       "    </tr>\n",
       "    <tr>\n",
       "      <th>sample_date</th>\n",
       "      <th></th>\n",
       "      <th></th>\n",
       "      <th></th>\n",
       "      <th></th>\n",
       "      <th></th>\n",
       "      <th></th>\n",
       "      <th></th>\n",
       "      <th></th>\n",
       "      <th></th>\n",
       "      <th></th>\n",
       "      <th></th>\n",
       "    </tr>\n",
       "  </thead>\n",
       "  <tbody>\n",
       "    <tr>\n",
       "      <th>2020-11-16</th>\n",
       "      <td>0</td>\n",
       "      <td>0</td>\n",
       "      <td>427</td>\n",
       "      <td>0</td>\n",
       "      <td>0</td>\n",
       "      <td>0</td>\n",
       "      <td>194</td>\n",
       "      <td>2</td>\n",
       "      <td>20</td>\n",
       "      <td>0</td>\n",
       "      <td>0</td>\n",
       "    </tr>\n",
       "    <tr>\n",
       "      <th>2020-11-15</th>\n",
       "      <td>0</td>\n",
       "      <td>0</td>\n",
       "      <td>924</td>\n",
       "      <td>0</td>\n",
       "      <td>233</td>\n",
       "      <td>31</td>\n",
       "      <td>1599</td>\n",
       "      <td>229</td>\n",
       "      <td>1311</td>\n",
       "      <td>102</td>\n",
       "      <td>80</td>\n",
       "    </tr>\n",
       "    <tr>\n",
       "      <th>2020-11-14</th>\n",
       "      <td>104</td>\n",
       "      <td>56</td>\n",
       "      <td>1575</td>\n",
       "      <td>1016</td>\n",
       "      <td>409</td>\n",
       "      <td>55</td>\n",
       "      <td>3044</td>\n",
       "      <td>643</td>\n",
       "      <td>2414</td>\n",
       "      <td>104</td>\n",
       "      <td>114</td>\n",
       "    </tr>\n",
       "    <tr>\n",
       "      <th>2020-11-13</th>\n",
       "      <td>171</td>\n",
       "      <td>49</td>\n",
       "      <td>2189</td>\n",
       "      <td>2823</td>\n",
       "      <td>590</td>\n",
       "      <td>71</td>\n",
       "      <td>5199</td>\n",
       "      <td>1055</td>\n",
       "      <td>4174</td>\n",
       "      <td>107</td>\n",
       "      <td>158</td>\n",
       "    </tr>\n",
       "    <tr>\n",
       "      <th>2020-11-12</th>\n",
       "      <td>225</td>\n",
       "      <td>44</td>\n",
       "      <td>2855</td>\n",
       "      <td>5156</td>\n",
       "      <td>746</td>\n",
       "      <td>88</td>\n",
       "      <td>7789</td>\n",
       "      <td>1563</td>\n",
       "      <td>6438</td>\n",
       "      <td>108</td>\n",
       "      <td>197</td>\n",
       "    </tr>\n",
       "  </tbody>\n",
       "</table>\n",
       "</div>"
      ],
      "text/plain": [
       "            shared_teks_by_generation_date                                    \\\n",
       "region                                  BE BE@TST    CH    DE   DK  EE    ES   \n",
       "sample_date                                                                    \n",
       "2020-11-16                               0      0   427     0    0   0   194   \n",
       "2020-11-15                               0      0   924     0  233  31  1599   \n",
       "2020-11-14                             104     56  1575  1016  409  55  3044   \n",
       "2020-11-13                             171     49  2189  2823  590  71  5199   \n",
       "2020-11-12                             225     44  2855  5156  746  88  7789   \n",
       "\n",
       "                                    \n",
       "region      ES@PRE    IT   MT   PT  \n",
       "sample_date                         \n",
       "2020-11-16       2    20    0    0  \n",
       "2020-11-15     229  1311  102   80  \n",
       "2020-11-14     643  2414  104  114  \n",
       "2020-11-13    1055  4174  107  158  \n",
       "2020-11-12    1563  6438  108  197  "
      ]
     },
     "execution_count": 23,
     "metadata": {},
     "output_type": "execute_result"
    }
   ],
   "source": [
    "multi_backend_summary_df = multi_backend_exposure_keys_df.groupby(\n",
    "    [\"sample_date_string\", \"region\"]).key_data.nunique().reset_index() \\\n",
    "    .pivot(index=\"sample_date_string\", columns=\"region\") \\\n",
    "    .sort_index(ascending=False)\n",
    "multi_backend_summary_df.rename(\n",
    "    columns={\"key_data\": \"shared_teks_by_generation_date\"},\n",
    "    inplace=True)\n",
    "multi_backend_summary_df.rename_axis(\"sample_date\", inplace=True)\n",
    "multi_backend_summary_df = multi_backend_summary_df.fillna(0).astype(int)\n",
    "multi_backend_summary_df = multi_backend_summary_df.head(backend_generation_days)\n",
    "multi_backend_summary_df.head()"
   ]
  },
  {
   "cell_type": "code",
   "execution_count": 24,
   "metadata": {
    "collapsed": false,
    "execution": {
     "iopub.execute_input": "2020-11-16T23:21:46.602897Z",
     "iopub.status.busy": "2020-11-16T23:21:46.602365Z",
     "iopub.status.idle": "2020-11-16T23:21:51.381292Z",
     "shell.execute_reply": "2020-11-16T23:21:51.381745Z"
    },
    "papermill": {
     "duration": 4.831367,
     "end_time": "2020-11-16T23:21:51.381933",
     "exception": false,
     "start_time": "2020-11-16T23:21:46.550566",
     "status": "completed"
    },
    "pycharm": {
     "name": "#%%\n"
    },
    "tags": []
   },
   "outputs": [
    {
     "name": "stderr",
     "output_type": "stream",
     "text": [
      "<ipython-input-24-4e21708c19d8>:2: FutureWarning: `item` has been deprecated and will be removed in a future version\n",
      "  teks_x = x.key_data_x.item()\n",
      "<ipython-input-24-4e21708c19d8>:3: FutureWarning: `item` has been deprecated and will be removed in a future version\n",
      "  common_teks = set(teks_x).intersection(x.key_data_y.item())\n"
     ]
    },
    {
     "name": "stderr",
     "output_type": "stream",
     "text": [
      "<ipython-input-24-4e21708c19d8>:33: FutureWarning: `item` has been deprecated and will be removed in a future version\n",
      "  aggfunc=lambda x: x.item())\n"
     ]
    },
    {
     "data": {
      "text/html": [
       "<div>\n",
       "<style scoped>\n",
       "    .dataframe tbody tr th:only-of-type {\n",
       "        vertical-align: middle;\n",
       "    }\n",
       "\n",
       "    .dataframe tbody tr th {\n",
       "        vertical-align: top;\n",
       "    }\n",
       "\n",
       "    .dataframe thead tr th {\n",
       "        text-align: left;\n",
       "    }\n",
       "\n",
       "    .dataframe thead tr:last-of-type th {\n",
       "        text-align: right;\n",
       "    }\n",
       "</style>\n",
       "<table border=\"1\" class=\"dataframe\">\n",
       "  <thead>\n",
       "    <tr>\n",
       "      <th></th>\n",
       "      <th colspan=\"11\" halign=\"left\">common_teks_fraction</th>\n",
       "    </tr>\n",
       "    <tr>\n",
       "      <th>region_x</th>\n",
       "      <th>BE</th>\n",
       "      <th>BE@TST</th>\n",
       "      <th>CH</th>\n",
       "      <th>DE</th>\n",
       "      <th>DK</th>\n",
       "      <th>EE</th>\n",
       "      <th>ES</th>\n",
       "      <th>ES@PRE</th>\n",
       "      <th>IT</th>\n",
       "      <th>MT</th>\n",
       "      <th>PT</th>\n",
       "    </tr>\n",
       "    <tr>\n",
       "      <th>region_y</th>\n",
       "      <th></th>\n",
       "      <th></th>\n",
       "      <th></th>\n",
       "      <th></th>\n",
       "      <th></th>\n",
       "      <th></th>\n",
       "      <th></th>\n",
       "      <th></th>\n",
       "      <th></th>\n",
       "      <th></th>\n",
       "      <th></th>\n",
       "    </tr>\n",
       "  </thead>\n",
       "  <tbody>\n",
       "    <tr>\n",
       "      <th>BE</th>\n",
       "      <td>NaN</td>\n",
       "      <td>0.0</td>\n",
       "      <td>0.000000</td>\n",
       "      <td>0.000000</td>\n",
       "      <td>0.000000</td>\n",
       "      <td>0.0</td>\n",
       "      <td>0.000000</td>\n",
       "      <td>0.0</td>\n",
       "      <td>0.000000</td>\n",
       "      <td>0.0</td>\n",
       "      <td>0.0</td>\n",
       "    </tr>\n",
       "    <tr>\n",
       "      <th>BE@TST</th>\n",
       "      <td>0.0</td>\n",
       "      <td>NaN</td>\n",
       "      <td>0.000000</td>\n",
       "      <td>0.000000</td>\n",
       "      <td>0.000000</td>\n",
       "      <td>0.0</td>\n",
       "      <td>0.000000</td>\n",
       "      <td>0.0</td>\n",
       "      <td>0.000000</td>\n",
       "      <td>0.0</td>\n",
       "      <td>0.0</td>\n",
       "    </tr>\n",
       "    <tr>\n",
       "      <th>CH</th>\n",
       "      <td>0.0</td>\n",
       "      <td>0.0</td>\n",
       "      <td>NaN</td>\n",
       "      <td>0.000037</td>\n",
       "      <td>0.000000</td>\n",
       "      <td>0.0</td>\n",
       "      <td>0.000029</td>\n",
       "      <td>0.0</td>\n",
       "      <td>0.000033</td>\n",
       "      <td>0.0</td>\n",
       "      <td>0.0</td>\n",
       "    </tr>\n",
       "    <tr>\n",
       "      <th>DE</th>\n",
       "      <td>0.0</td>\n",
       "      <td>0.0</td>\n",
       "      <td>0.000114</td>\n",
       "      <td>NaN</td>\n",
       "      <td>0.000000</td>\n",
       "      <td>0.0</td>\n",
       "      <td>0.748011</td>\n",
       "      <td>0.0</td>\n",
       "      <td>0.853796</td>\n",
       "      <td>0.0</td>\n",
       "      <td>0.0</td>\n",
       "    </tr>\n",
       "    <tr>\n",
       "      <th>DK</th>\n",
       "      <td>0.0</td>\n",
       "      <td>0.0</td>\n",
       "      <td>0.000000</td>\n",
       "      <td>0.000000</td>\n",
       "      <td>NaN</td>\n",
       "      <td>0.0</td>\n",
       "      <td>0.051565</td>\n",
       "      <td>0.0</td>\n",
       "      <td>0.000000</td>\n",
       "      <td>0.0</td>\n",
       "      <td>0.0</td>\n",
       "    </tr>\n",
       "    <tr>\n",
       "      <th>EE</th>\n",
       "      <td>0.0</td>\n",
       "      <td>0.0</td>\n",
       "      <td>0.000000</td>\n",
       "      <td>0.000000</td>\n",
       "      <td>0.000000</td>\n",
       "      <td>NaN</td>\n",
       "      <td>0.000000</td>\n",
       "      <td>0.0</td>\n",
       "      <td>0.000000</td>\n",
       "      <td>0.0</td>\n",
       "      <td>0.0</td>\n",
       "    </tr>\n",
       "    <tr>\n",
       "      <th>ES</th>\n",
       "      <td>0.0</td>\n",
       "      <td>0.0</td>\n",
       "      <td>0.000114</td>\n",
       "      <td>0.953229</td>\n",
       "      <td>0.570118</td>\n",
       "      <td>0.0</td>\n",
       "      <td>NaN</td>\n",
       "      <td>0.0</td>\n",
       "      <td>0.985862</td>\n",
       "      <td>0.0</td>\n",
       "      <td>0.0</td>\n",
       "    </tr>\n",
       "    <tr>\n",
       "      <th>ES@PRE</th>\n",
       "      <td>0.0</td>\n",
       "      <td>0.0</td>\n",
       "      <td>0.000000</td>\n",
       "      <td>0.000000</td>\n",
       "      <td>0.000000</td>\n",
       "      <td>0.0</td>\n",
       "      <td>0.000000</td>\n",
       "      <td>NaN</td>\n",
       "      <td>0.000000</td>\n",
       "      <td>0.0</td>\n",
       "      <td>0.0</td>\n",
       "    </tr>\n",
       "    <tr>\n",
       "      <th>IT</th>\n",
       "      <td>0.0</td>\n",
       "      <td>0.0</td>\n",
       "      <td>0.000114</td>\n",
       "      <td>0.953229</td>\n",
       "      <td>0.000000</td>\n",
       "      <td>0.0</td>\n",
       "      <td>0.863714</td>\n",
       "      <td>0.0</td>\n",
       "      <td>NaN</td>\n",
       "      <td>0.0</td>\n",
       "      <td>0.0</td>\n",
       "    </tr>\n",
       "    <tr>\n",
       "      <th>MT</th>\n",
       "      <td>0.0</td>\n",
       "      <td>0.0</td>\n",
       "      <td>0.000000</td>\n",
       "      <td>0.000000</td>\n",
       "      <td>0.000000</td>\n",
       "      <td>0.0</td>\n",
       "      <td>0.000000</td>\n",
       "      <td>0.0</td>\n",
       "      <td>0.000000</td>\n",
       "      <td>NaN</td>\n",
       "      <td>0.0</td>\n",
       "    </tr>\n",
       "    <tr>\n",
       "      <th>PT</th>\n",
       "      <td>0.0</td>\n",
       "      <td>0.0</td>\n",
       "      <td>0.000000</td>\n",
       "      <td>0.000000</td>\n",
       "      <td>0.000000</td>\n",
       "      <td>0.0</td>\n",
       "      <td>0.000000</td>\n",
       "      <td>0.0</td>\n",
       "      <td>0.000000</td>\n",
       "      <td>0.0</td>\n",
       "      <td>NaN</td>\n",
       "    </tr>\n",
       "  </tbody>\n",
       "</table>\n",
       "</div>"
      ],
      "text/plain": [
       "         common_teks_fraction                                            \\\n",
       "region_x                   BE BE@TST        CH        DE        DK   EE   \n",
       "region_y                                                                  \n",
       "BE                        NaN    0.0  0.000000  0.000000  0.000000  0.0   \n",
       "BE@TST                    0.0    NaN  0.000000  0.000000  0.000000  0.0   \n",
       "CH                        0.0    0.0       NaN  0.000037  0.000000  0.0   \n",
       "DE                        0.0    0.0  0.000114       NaN  0.000000  0.0   \n",
       "DK                        0.0    0.0  0.000000  0.000000       NaN  0.0   \n",
       "EE                        0.0    0.0  0.000000  0.000000  0.000000  NaN   \n",
       "ES                        0.0    0.0  0.000114  0.953229  0.570118  0.0   \n",
       "ES@PRE                    0.0    0.0  0.000000  0.000000  0.000000  0.0   \n",
       "IT                        0.0    0.0  0.000114  0.953229  0.000000  0.0   \n",
       "MT                        0.0    0.0  0.000000  0.000000  0.000000  0.0   \n",
       "PT                        0.0    0.0  0.000000  0.000000  0.000000  0.0   \n",
       "\n",
       "                                               \n",
       "region_x        ES ES@PRE        IT   MT   PT  \n",
       "region_y                                       \n",
       "BE        0.000000    0.0  0.000000  0.0  0.0  \n",
       "BE@TST    0.000000    0.0  0.000000  0.0  0.0  \n",
       "CH        0.000029    0.0  0.000033  0.0  0.0  \n",
       "DE        0.748011    0.0  0.853796  0.0  0.0  \n",
       "DK        0.051565    0.0  0.000000  0.0  0.0  \n",
       "EE        0.000000    0.0  0.000000  0.0  0.0  \n",
       "ES             NaN    0.0  0.985862  0.0  0.0  \n",
       "ES@PRE    0.000000    NaN  0.000000  0.0  0.0  \n",
       "IT        0.863714    0.0       NaN  0.0  0.0  \n",
       "MT        0.000000    0.0  0.000000  NaN  0.0  \n",
       "PT        0.000000    0.0  0.000000  0.0  NaN  "
      ]
     },
     "execution_count": 24,
     "metadata": {},
     "output_type": "execute_result"
    }
   ],
   "source": [
    "def compute_keys_cross_sharing(x):\n",
    "    teks_x = x.key_data_x.item()\n",
    "    common_teks = set(teks_x).intersection(x.key_data_y.item())\n",
    "    common_teks_fraction = len(common_teks) / len(teks_x)\n",
    "    return pd.Series(dict(\n",
    "        common_teks=common_teks,\n",
    "        common_teks_fraction=common_teks_fraction,\n",
    "    ))\n",
    "\n",
    "multi_backend_exposure_keys_by_region_df = \\\n",
    "    multi_backend_exposure_keys_df.groupby(\"region\").key_data.unique().reset_index()\n",
    "multi_backend_exposure_keys_by_region_df[\"_merge\"] = True\n",
    "multi_backend_exposure_keys_by_region_combination_df = \\\n",
    "    multi_backend_exposure_keys_by_region_df.merge(\n",
    "        multi_backend_exposure_keys_by_region_df, on=\"_merge\")\n",
    "multi_backend_exposure_keys_by_region_combination_df.drop(\n",
    "    columns=[\"_merge\"], inplace=True)\n",
    "if multi_backend_exposure_keys_by_region_combination_df.region_x.nunique() > 1:\n",
    "    multi_backend_exposure_keys_by_region_combination_df = \\\n",
    "        multi_backend_exposure_keys_by_region_combination_df[\n",
    "            multi_backend_exposure_keys_by_region_combination_df.region_x !=\n",
    "            multi_backend_exposure_keys_by_region_combination_df.region_y]\n",
    "multi_backend_exposure_keys_cross_sharing_df = \\\n",
    "    multi_backend_exposure_keys_by_region_combination_df \\\n",
    "        .groupby([\"region_x\", \"region_y\"]) \\\n",
    "        .apply(compute_keys_cross_sharing) \\\n",
    "        .reset_index()\n",
    "multi_backend_cross_sharing_summary_df = \\\n",
    "    multi_backend_exposure_keys_cross_sharing_df.pivot_table(\n",
    "        values=[\"common_teks_fraction\"],\n",
    "        columns=\"region_x\",\n",
    "        index=\"region_y\",\n",
    "        aggfunc=lambda x: x.item())\n",
    "multi_backend_cross_sharing_summary_df"
   ]
  },
  {
   "cell_type": "code",
   "execution_count": 25,
   "metadata": {
    "collapsed": false,
    "execution": {
     "iopub.execute_input": "2020-11-16T23:21:51.515369Z",
     "iopub.status.busy": "2020-11-16T23:21:51.514746Z",
     "iopub.status.idle": "2020-11-16T23:21:53.426781Z",
     "shell.execute_reply": "2020-11-16T23:21:53.427195Z"
    },
    "papermill": {
     "duration": 1.995024,
     "end_time": "2020-11-16T23:21:53.427353",
     "exception": false,
     "start_time": "2020-11-16T23:21:51.432329",
     "status": "completed"
    },
    "pycharm": {
     "name": "#%%\n"
    },
    "tags": []
   },
   "outputs": [
    {
     "data": {
      "text/plain": [
       "['BE@TST', 'EE', 'MT', 'PT', 'BE', 'DK', 'ES@PRE', 'CH', 'DE', 'IT']"
      ]
     },
     "execution_count": 25,
     "metadata": {},
     "output_type": "execute_result"
    }
   ],
   "source": [
    "multi_backend_without_active_region_exposure_keys_df = \\\n",
    "    multi_backend_exposure_keys_df[multi_backend_exposure_keys_df.region != report_backend_identifier]\n",
    "multi_backend_without_active_region = \\\n",
    "    multi_backend_without_active_region_exposure_keys_df.groupby(\"region\").key_data.nunique().sort_values().index.unique().tolist()\n",
    "multi_backend_without_active_region"
   ]
  },
  {
   "cell_type": "code",
   "execution_count": 26,
   "metadata": {
    "execution": {
     "iopub.execute_input": "2020-11-16T23:21:53.559024Z",
     "iopub.status.busy": "2020-11-16T23:21:53.558455Z",
     "iopub.status.idle": "2020-11-16T23:21:54.755394Z",
     "shell.execute_reply": "2020-11-16T23:21:54.754907Z"
    },
    "papermill": {
     "duration": 1.278406,
     "end_time": "2020-11-16T23:21:54.755530",
     "exception": false,
     "start_time": "2020-11-16T23:21:53.477124",
     "status": "completed"
    },
    "scrolled": false,
    "tags": []
   },
   "outputs": [
    {
     "name": "stderr",
     "output_type": "stream",
     "text": [
      "/opt/hostedtoolcache/Python/3.8.6/x64/lib/python3.8/site-packages/pandas/core/frame.py:4110: SettingWithCopyWarning: \n",
      "A value is trying to be set on a copy of a slice from a DataFrame\n",
      "\n",
      "See the caveats in the documentation: http://pandas.pydata.org/pandas-docs/stable/user_guide/indexing.html#returning-a-view-versus-a-copy\n",
      "  return super().drop(\n"
     ]
    },
    {
     "data": {
      "text/html": [
       "<div>\n",
       "<style scoped>\n",
       "    .dataframe tbody tr th:only-of-type {\n",
       "        vertical-align: middle;\n",
       "    }\n",
       "\n",
       "    .dataframe tbody tr th {\n",
       "        vertical-align: top;\n",
       "    }\n",
       "\n",
       "    .dataframe thead th {\n",
       "        text-align: right;\n",
       "    }\n",
       "</style>\n",
       "<table border=\"1\" class=\"dataframe\">\n",
       "  <thead>\n",
       "    <tr style=\"text-align: right;\">\n",
       "      <th></th>\n",
       "      <th>shared_teks_by_generation_date</th>\n",
       "    </tr>\n",
       "    <tr>\n",
       "      <th>sample_date_string</th>\n",
       "      <th></th>\n",
       "    </tr>\n",
       "  </thead>\n",
       "  <tbody>\n",
       "    <tr>\n",
       "      <th>2020-11-16</th>\n",
       "      <td>194</td>\n",
       "    </tr>\n",
       "    <tr>\n",
       "      <th>2020-11-15</th>\n",
       "      <td>1599</td>\n",
       "    </tr>\n",
       "    <tr>\n",
       "      <th>2020-11-14</th>\n",
       "      <td>3044</td>\n",
       "    </tr>\n",
       "    <tr>\n",
       "      <th>2020-11-13</th>\n",
       "      <td>5199</td>\n",
       "    </tr>\n",
       "    <tr>\n",
       "      <th>2020-11-12</th>\n",
       "      <td>7789</td>\n",
       "    </tr>\n",
       "  </tbody>\n",
       "</table>\n",
       "</div>"
      ],
      "text/plain": [
       "                    shared_teks_by_generation_date\n",
       "sample_date_string                                \n",
       "2020-11-16                                     194\n",
       "2020-11-15                                    1599\n",
       "2020-11-14                                    3044\n",
       "2020-11-13                                    5199\n",
       "2020-11-12                                    7789"
      ]
     },
     "execution_count": 26,
     "metadata": {},
     "output_type": "execute_result"
    }
   ],
   "source": [
    "exposure_keys_summary_df = multi_backend_exposure_keys_df[\n",
    "    multi_backend_exposure_keys_df.region == report_backend_identifier]\n",
    "exposure_keys_summary_df.drop(columns=[\"region\"], inplace=True)\n",
    "exposure_keys_summary_df = \\\n",
    "    exposure_keys_summary_df.groupby([\"sample_date_string\"]).key_data.nunique().to_frame()\n",
    "exposure_keys_summary_df = \\\n",
    "    exposure_keys_summary_df.reset_index().set_index(\"sample_date_string\")\n",
    "exposure_keys_summary_df.sort_index(ascending=False, inplace=True)\n",
    "exposure_keys_summary_df.rename(columns={\"key_data\": \"shared_teks_by_generation_date\"}, inplace=True)\n",
    "exposure_keys_summary_df.head()"
   ]
  },
  {
   "cell_type": "markdown",
   "metadata": {
    "papermill": {
     "duration": 0.048113,
     "end_time": "2020-11-16T23:21:54.854287",
     "exception": false,
     "start_time": "2020-11-16T23:21:54.806174",
     "status": "completed"
    },
    "tags": []
   },
   "source": [
    "### Dump API TEKs"
   ]
  },
  {
   "cell_type": "code",
   "execution_count": 27,
   "metadata": {
    "execution": {
     "iopub.execute_input": "2020-11-16T23:21:54.966861Z",
     "iopub.status.busy": "2020-11-16T23:21:54.966309Z",
     "iopub.status.idle": "2020-11-16T23:21:57.319552Z",
     "shell.execute_reply": "2020-11-16T23:21:57.320011Z"
    },
    "papermill": {
     "duration": 2.413566,
     "end_time": "2020-11-16T23:21:57.320198",
     "exception": false,
     "start_time": "2020-11-16T23:21:54.906632",
     "status": "completed"
    },
    "tags": []
   },
   "outputs": [
    {
     "data": {
      "text/html": [
       "<div>\n",
       "<style scoped>\n",
       "    .dataframe tbody tr th:only-of-type {\n",
       "        vertical-align: middle;\n",
       "    }\n",
       "\n",
       "    .dataframe tbody tr th {\n",
       "        vertical-align: top;\n",
       "    }\n",
       "\n",
       "    .dataframe thead th {\n",
       "        text-align: right;\n",
       "    }\n",
       "</style>\n",
       "<table border=\"1\" class=\"dataframe\">\n",
       "  <thead>\n",
       "    <tr style=\"text-align: right;\">\n",
       "      <th></th>\n",
       "      <th>sample_date</th>\n",
       "      <th>region</th>\n",
       "      <th>tek_list</th>\n",
       "      <th>extraction_date</th>\n",
       "      <th>extraction_date_with_hour</th>\n",
       "    </tr>\n",
       "  </thead>\n",
       "  <tbody>\n",
       "    <tr>\n",
       "      <th>0</th>\n",
       "      <td>2020-11-03</td>\n",
       "      <td>BE</td>\n",
       "      <td>[002784a8-a1b8-8e1e-96f6-4acbe264940b, 00877eb...</td>\n",
       "      <td>2020-11-16</td>\n",
       "      <td>2020-11-16@23</td>\n",
       "    </tr>\n",
       "    <tr>\n",
       "      <th>1</th>\n",
       "      <td>2020-11-03</td>\n",
       "      <td>BE@TST</td>\n",
       "      <td>[02caab83-b17d-b671-9630-76af157bfe28, 04c9e18...</td>\n",
       "      <td>2020-11-16</td>\n",
       "      <td>2020-11-16@23</td>\n",
       "    </tr>\n",
       "    <tr>\n",
       "      <th>2</th>\n",
       "      <td>2020-11-03</td>\n",
       "      <td>CH</td>\n",
       "      <td>[c3b55f31-dbe8-5405-43ff-e2cada2df8e0, fd17b34...</td>\n",
       "      <td>2020-11-16</td>\n",
       "      <td>2020-11-16@23</td>\n",
       "    </tr>\n",
       "    <tr>\n",
       "      <th>3</th>\n",
       "      <td>2020-11-03</td>\n",
       "      <td>DE</td>\n",
       "      <td>[00008b2a-96fb-436d-cb20-02eaa0c5b34b, 002087d...</td>\n",
       "      <td>2020-11-16</td>\n",
       "      <td>2020-11-16@23</td>\n",
       "    </tr>\n",
       "    <tr>\n",
       "      <th>4</th>\n",
       "      <td>2020-11-03</td>\n",
       "      <td>DK</td>\n",
       "      <td>[b903f6d3-1ebf-5b66-42b2-3d07392b86a2, c16d3c9...</td>\n",
       "      <td>2020-11-16</td>\n",
       "      <td>2020-11-16@23</td>\n",
       "    </tr>\n",
       "  </tbody>\n",
       "</table>\n",
       "</div>"
      ],
      "text/plain": [
       "  sample_date  region                                           tek_list  \\\n",
       "0  2020-11-03      BE  [002784a8-a1b8-8e1e-96f6-4acbe264940b, 00877eb...   \n",
       "1  2020-11-03  BE@TST  [02caab83-b17d-b671-9630-76af157bfe28, 04c9e18...   \n",
       "2  2020-11-03      CH  [c3b55f31-dbe8-5405-43ff-e2cada2df8e0, fd17b34...   \n",
       "3  2020-11-03      DE  [00008b2a-96fb-436d-cb20-02eaa0c5b34b, 002087d...   \n",
       "4  2020-11-03      DK  [b903f6d3-1ebf-5b66-42b2-3d07392b86a2, c16d3c9...   \n",
       "\n",
       "  extraction_date extraction_date_with_hour  \n",
       "0      2020-11-16             2020-11-16@23  \n",
       "1      2020-11-16             2020-11-16@23  \n",
       "2      2020-11-16             2020-11-16@23  \n",
       "3      2020-11-16             2020-11-16@23  \n",
       "4      2020-11-16             2020-11-16@23  "
      ]
     },
     "execution_count": 27,
     "metadata": {},
     "output_type": "execute_result"
    }
   ],
   "source": [
    "tek_list_df = multi_backend_exposure_keys_df[\n",
    "    [\"sample_date_string\", \"region\", \"key_data\"]].copy()\n",
    "tek_list_df[\"key_data\"] = tek_list_df[\"key_data\"].apply(str)\n",
    "tek_list_df.rename(columns={\n",
    "    \"sample_date_string\": \"sample_date\",\n",
    "    \"key_data\": \"tek_list\"}, inplace=True)\n",
    "tek_list_df = tek_list_df.groupby(\n",
    "    [\"sample_date\", \"region\"]).tek_list.unique().reset_index()\n",
    "tek_list_df[\"extraction_date\"] = extraction_date\n",
    "tek_list_df[\"extraction_date_with_hour\"] = extraction_date_with_hour\n",
    "\n",
    "tek_list_path_prefix = \"Data/TEKs/\"\n",
    "tek_list_current_path = tek_list_path_prefix + f\"/Current/RadarCOVID-TEKs.json\"\n",
    "tek_list_daily_path = tek_list_path_prefix + f\"Daily/RadarCOVID-TEKs-{extraction_date}.json\"\n",
    "tek_list_hourly_path = tek_list_path_prefix + f\"Hourly/RadarCOVID-TEKs-{extraction_date_with_hour}.json\"\n",
    "\n",
    "for path in [tek_list_current_path, tek_list_daily_path, tek_list_hourly_path]:\n",
    "    os.makedirs(os.path.dirname(path), exist_ok=True)\n",
    "\n",
    "tek_list_df.drop(columns=[\"extraction_date\", \"extraction_date_with_hour\"]).to_json(\n",
    "    tek_list_current_path,\n",
    "    lines=True, orient=\"records\")\n",
    "tek_list_df.drop(columns=[\"extraction_date_with_hour\"]).to_json(\n",
    "    tek_list_daily_path,\n",
    "    lines=True, orient=\"records\")\n",
    "tek_list_df.to_json(\n",
    "    tek_list_hourly_path,\n",
    "    lines=True, orient=\"records\")\n",
    "tek_list_df.head()"
   ]
  },
  {
   "cell_type": "markdown",
   "metadata": {
    "papermill": {
     "duration": 0.051192,
     "end_time": "2020-11-16T23:21:57.424898",
     "exception": false,
     "start_time": "2020-11-16T23:21:57.373706",
     "status": "completed"
    },
    "tags": []
   },
   "source": [
    "### Load TEK Dumps"
   ]
  },
  {
   "cell_type": "code",
   "execution_count": 28,
   "metadata": {
    "execution": {
     "iopub.execute_input": "2020-11-16T23:21:57.544652Z",
     "iopub.status.busy": "2020-11-16T23:21:57.544111Z",
     "iopub.status.idle": "2020-11-16T23:21:57.548554Z",
     "shell.execute_reply": "2020-11-16T23:21:57.547930Z"
    },
    "papermill": {
     "duration": 0.074067,
     "end_time": "2020-11-16T23:21:57.548671",
     "exception": false,
     "start_time": "2020-11-16T23:21:57.474604",
     "status": "completed"
    },
    "tags": []
   },
   "outputs": [],
   "source": [
    "import glob\n",
    "\n",
    "def load_extracted_teks(mode, region=None, limit=None) -> pd.DataFrame:\n",
    "    extracted_teks_df = pd.DataFrame(columns=[\"region\"])\n",
    "    file_paths = list(reversed(sorted(glob.glob(tek_list_path_prefix + mode + \"/RadarCOVID-TEKs-*.json\"))))\n",
    "    if limit:\n",
    "        file_paths = file_paths[:limit]\n",
    "    for file_path in file_paths:\n",
    "        logging.info(f\"Loading TEKs from '{file_path}'...\")\n",
    "        iteration_extracted_teks_df = pd.read_json(file_path, lines=True)\n",
    "        extracted_teks_df = extracted_teks_df.append(\n",
    "            iteration_extracted_teks_df, sort=False)\n",
    "    extracted_teks_df[\"region\"] = \\\n",
    "        extracted_teks_df.region.fillna(spain_region_country_code).copy()\n",
    "    if region:\n",
    "        extracted_teks_df = \\\n",
    "            extracted_teks_df[extracted_teks_df.region == region]\n",
    "    return extracted_teks_df"
   ]
  },
  {
   "cell_type": "code",
   "execution_count": 29,
   "metadata": {
    "collapsed": false,
    "execution": {
     "iopub.execute_input": "2020-11-16T23:21:57.652781Z",
     "iopub.status.busy": "2020-11-16T23:21:57.652251Z",
     "iopub.status.idle": "2020-11-16T23:22:02.148464Z",
     "shell.execute_reply": "2020-11-16T23:22:02.148022Z"
    },
    "papermill": {
     "duration": 4.551581,
     "end_time": "2020-11-16T23:22:02.148592",
     "exception": false,
     "start_time": "2020-11-16T23:21:57.597011",
     "status": "completed"
    },
    "pycharm": {
     "name": "#%%\n"
    },
    "tags": []
   },
   "outputs": [
    {
     "data": {
      "text/html": [
       "<div>\n",
       "<style scoped>\n",
       "    .dataframe tbody tr th:only-of-type {\n",
       "        vertical-align: middle;\n",
       "    }\n",
       "\n",
       "    .dataframe tbody tr th {\n",
       "        vertical-align: top;\n",
       "    }\n",
       "\n",
       "    .dataframe thead th {\n",
       "        text-align: right;\n",
       "    }\n",
       "</style>\n",
       "<table border=\"1\" class=\"dataframe\">\n",
       "  <thead>\n",
       "    <tr style=\"text-align: right;\">\n",
       "      <th></th>\n",
       "      <th>region</th>\n",
       "      <th>sample_date</th>\n",
       "      <th>tek_list</th>\n",
       "      <th>extraction_date</th>\n",
       "      <th>extraction_date_with_hour</th>\n",
       "    </tr>\n",
       "  </thead>\n",
       "  <tbody>\n",
       "    <tr>\n",
       "      <th>6</th>\n",
       "      <td>ES</td>\n",
       "      <td>2020-11-03</td>\n",
       "      <td>[caadf9d4-280f-8e36-778a-eab3fc6cf07a, c657e91...</td>\n",
       "      <td>2020-11-16</td>\n",
       "      <td>NaN</td>\n",
       "    </tr>\n",
       "    <tr>\n",
       "      <th>17</th>\n",
       "      <td>ES</td>\n",
       "      <td>2020-11-04</td>\n",
       "      <td>[65c23c36-ecdc-2234-f8f2-3ce5c4f030f9, c5aba17...</td>\n",
       "      <td>2020-11-16</td>\n",
       "      <td>NaN</td>\n",
       "    </tr>\n",
       "    <tr>\n",
       "      <th>28</th>\n",
       "      <td>ES</td>\n",
       "      <td>2020-11-05</td>\n",
       "      <td>[88574032-b157-bf1a-f08c-fb25497e0a20, bfa23df...</td>\n",
       "      <td>2020-11-16</td>\n",
       "      <td>NaN</td>\n",
       "    </tr>\n",
       "    <tr>\n",
       "      <th>39</th>\n",
       "      <td>ES</td>\n",
       "      <td>2020-11-06</td>\n",
       "      <td>[61e9991c-c054-8053-a4db-675a5a7de61c, d7a8f7a...</td>\n",
       "      <td>2020-11-16</td>\n",
       "      <td>NaN</td>\n",
       "    </tr>\n",
       "    <tr>\n",
       "      <th>50</th>\n",
       "      <td>ES</td>\n",
       "      <td>2020-11-07</td>\n",
       "      <td>[2b0876ef-c181-83e7-a022-99f78e00d5c1, d404b60...</td>\n",
       "      <td>2020-11-16</td>\n",
       "      <td>NaN</td>\n",
       "    </tr>\n",
       "  </tbody>\n",
       "</table>\n",
       "</div>"
      ],
      "text/plain": [
       "   region sample_date                                           tek_list  \\\n",
       "6      ES  2020-11-03  [caadf9d4-280f-8e36-778a-eab3fc6cf07a, c657e91...   \n",
       "17     ES  2020-11-04  [65c23c36-ecdc-2234-f8f2-3ce5c4f030f9, c5aba17...   \n",
       "28     ES  2020-11-05  [88574032-b157-bf1a-f08c-fb25497e0a20, bfa23df...   \n",
       "39     ES  2020-11-06  [61e9991c-c054-8053-a4db-675a5a7de61c, d7a8f7a...   \n",
       "50     ES  2020-11-07  [2b0876ef-c181-83e7-a022-99f78e00d5c1, d404b60...   \n",
       "\n",
       "   extraction_date extraction_date_with_hour  \n",
       "6       2020-11-16                       NaN  \n",
       "17      2020-11-16                       NaN  \n",
       "28      2020-11-16                       NaN  \n",
       "39      2020-11-16                       NaN  \n",
       "50      2020-11-16                       NaN  "
      ]
     },
     "execution_count": 29,
     "metadata": {},
     "output_type": "execute_result"
    }
   ],
   "source": [
    "daily_extracted_teks_df = load_extracted_teks(\n",
    "    mode=\"Daily\",\n",
    "    region=report_backend_identifier,\n",
    "    limit=tek_dumps_load_limit)\n",
    "daily_extracted_teks_df.head()"
   ]
  },
  {
   "cell_type": "code",
   "execution_count": 30,
   "metadata": {
    "collapsed": false,
    "execution": {
     "iopub.execute_input": "2020-11-16T23:22:02.252209Z",
     "iopub.status.busy": "2020-11-16T23:22:02.251621Z",
     "iopub.status.idle": "2020-11-16T23:22:02.266664Z",
     "shell.execute_reply": "2020-11-16T23:22:02.267297Z"
    },
    "papermill": {
     "duration": 0.069097,
     "end_time": "2020-11-16T23:22:02.267446",
     "exception": false,
     "start_time": "2020-11-16T23:22:02.198349",
     "status": "completed"
    },
    "pycharm": {
     "name": "#%%\n"
    },
    "tags": []
   },
   "outputs": [
    {
     "data": {
      "text/html": [
       "<div>\n",
       "<style scoped>\n",
       "    .dataframe tbody tr th:only-of-type {\n",
       "        vertical-align: middle;\n",
       "    }\n",
       "\n",
       "    .dataframe tbody tr th {\n",
       "        vertical-align: top;\n",
       "    }\n",
       "\n",
       "    .dataframe thead th {\n",
       "        text-align: right;\n",
       "    }\n",
       "</style>\n",
       "<table border=\"1\" class=\"dataframe\">\n",
       "  <thead>\n",
       "    <tr style=\"text-align: right;\">\n",
       "      <th></th>\n",
       "      <th>shared_teks_by_generation_date</th>\n",
       "    </tr>\n",
       "    <tr>\n",
       "      <th>sample_date_string</th>\n",
       "      <th></th>\n",
       "    </tr>\n",
       "  </thead>\n",
       "  <tbody>\n",
       "    <tr>\n",
       "      <th>2020-11-16</th>\n",
       "      <td>194</td>\n",
       "    </tr>\n",
       "    <tr>\n",
       "      <th>2020-11-15</th>\n",
       "      <td>1599</td>\n",
       "    </tr>\n",
       "    <tr>\n",
       "      <th>2020-11-14</th>\n",
       "      <td>3044</td>\n",
       "    </tr>\n",
       "    <tr>\n",
       "      <th>2020-11-13</th>\n",
       "      <td>5199</td>\n",
       "    </tr>\n",
       "    <tr>\n",
       "      <th>2020-11-12</th>\n",
       "      <td>7789</td>\n",
       "    </tr>\n",
       "  </tbody>\n",
       "</table>\n",
       "</div>"
      ],
      "text/plain": [
       "                    shared_teks_by_generation_date\n",
       "sample_date_string                                \n",
       "2020-11-16                                     194\n",
       "2020-11-15                                    1599\n",
       "2020-11-14                                    3044\n",
       "2020-11-13                                    5199\n",
       "2020-11-12                                    7789"
      ]
     },
     "execution_count": 30,
     "metadata": {},
     "output_type": "execute_result"
    }
   ],
   "source": [
    "exposure_keys_summary_df_ = daily_extracted_teks_df \\\n",
    "    .sort_values(\"extraction_date\", ascending=False) \\\n",
    "    .groupby(\"sample_date\").tek_list.first() \\\n",
    "    .to_frame()\n",
    "exposure_keys_summary_df_.index.name = \"sample_date_string\"\n",
    "exposure_keys_summary_df_[\"tek_list\"] = \\\n",
    "    exposure_keys_summary_df_.tek_list.apply(len)\n",
    "exposure_keys_summary_df_ = exposure_keys_summary_df_ \\\n",
    "    .rename(columns={\"tek_list\": \"shared_teks_by_generation_date\"}) \\\n",
    "    .sort_index(ascending=False)\n",
    "exposure_keys_summary_df = exposure_keys_summary_df_\n",
    "exposure_keys_summary_df.head()"
   ]
  },
  {
   "cell_type": "markdown",
   "metadata": {
    "execution": {
     "iopub.execute_input": "2020-08-30T22:30:16.632967Z",
     "iopub.status.busy": "2020-08-30T22:30:16.632308Z",
     "iopub.status.idle": "2020-08-30T22:30:16.634945Z",
     "shell.execute_reply": "2020-08-30T22:30:16.635575Z"
    },
    "papermill": {
     "duration": 0.056107,
     "end_time": "2020-11-16T23:22:02.376263",
     "exception": false,
     "start_time": "2020-11-16T23:22:02.320156",
     "status": "completed"
    },
    "pycharm": {
     "name": "#%% md\n"
    },
    "tags": []
   },
   "source": [
    "### Daily New TEKs"
   ]
  },
  {
   "cell_type": "code",
   "execution_count": 31,
   "metadata": {
    "execution": {
     "iopub.execute_input": "2020-11-16T23:22:02.488996Z",
     "iopub.status.busy": "2020-11-16T23:22:02.488404Z",
     "iopub.status.idle": "2020-11-16T23:22:03.161719Z",
     "shell.execute_reply": "2020-11-16T23:22:03.162240Z"
    },
    "papermill": {
     "duration": 0.730859,
     "end_time": "2020-11-16T23:22:03.162415",
     "exception": false,
     "start_time": "2020-11-16T23:22:02.431556",
     "status": "completed"
    },
    "tags": []
   },
   "outputs": [
    {
     "data": {
      "text/html": [
       "<div>\n",
       "<style scoped>\n",
       "    .dataframe tbody tr th:only-of-type {\n",
       "        vertical-align: middle;\n",
       "    }\n",
       "\n",
       "    .dataframe tbody tr th {\n",
       "        vertical-align: top;\n",
       "    }\n",
       "\n",
       "    .dataframe thead th {\n",
       "        text-align: right;\n",
       "    }\n",
       "</style>\n",
       "<table border=\"1\" class=\"dataframe\">\n",
       "  <thead>\n",
       "    <tr style=\"text-align: right;\">\n",
       "      <th></th>\n",
       "      <th>tek_list</th>\n",
       "    </tr>\n",
       "    <tr>\n",
       "      <th>extraction_date</th>\n",
       "      <th></th>\n",
       "    </tr>\n",
       "  </thead>\n",
       "  <tbody>\n",
       "    <tr>\n",
       "      <th>2020-08-29</th>\n",
       "      <td>{d4ee8356-ddf1-a835-1a98-ba3d13299dc3, c89da0a...</td>\n",
       "    </tr>\n",
       "    <tr>\n",
       "      <th>2020-08-30</th>\n",
       "      <td>{d4ee8356-ddf1-a835-1a98-ba3d13299dc3, c89da0a...</td>\n",
       "    </tr>\n",
       "    <tr>\n",
       "      <th>2020-08-31</th>\n",
       "      <td>{d4ee8356-ddf1-a835-1a98-ba3d13299dc3, c89da0a...</td>\n",
       "    </tr>\n",
       "    <tr>\n",
       "      <th>2020-09-01</th>\n",
       "      <td>{d4ee8356-ddf1-a835-1a98-ba3d13299dc3, c89da0a...</td>\n",
       "    </tr>\n",
       "    <tr>\n",
       "      <th>2020-09-02</th>\n",
       "      <td>{2b9ad51e-6814-cd4e-e4c0-0726a68e7c59, d4ee835...</td>\n",
       "    </tr>\n",
       "  </tbody>\n",
       "</table>\n",
       "</div>"
      ],
      "text/plain": [
       "                                                          tek_list\n",
       "extraction_date                                                   \n",
       "2020-08-29       {d4ee8356-ddf1-a835-1a98-ba3d13299dc3, c89da0a...\n",
       "2020-08-30       {d4ee8356-ddf1-a835-1a98-ba3d13299dc3, c89da0a...\n",
       "2020-08-31       {d4ee8356-ddf1-a835-1a98-ba3d13299dc3, c89da0a...\n",
       "2020-09-01       {d4ee8356-ddf1-a835-1a98-ba3d13299dc3, c89da0a...\n",
       "2020-09-02       {2b9ad51e-6814-cd4e-e4c0-0726a68e7c59, d4ee835..."
      ]
     },
     "execution_count": 31,
     "metadata": {},
     "output_type": "execute_result"
    }
   ],
   "source": [
    "tek_list_df = daily_extracted_teks_df.groupby(\"extraction_date\").tek_list.apply(\n",
    "    lambda x: set(sum(x, []))).reset_index()\n",
    "tek_list_df = tek_list_df.set_index(\"extraction_date\").sort_index(ascending=True)\n",
    "tek_list_df.head()"
   ]
  },
  {
   "cell_type": "code",
   "execution_count": 32,
   "metadata": {
    "collapsed": false,
    "execution": {
     "iopub.execute_input": "2020-11-16T23:22:03.285156Z",
     "iopub.status.busy": "2020-11-16T23:22:03.284533Z",
     "iopub.status.idle": "2020-11-16T23:22:30.167134Z",
     "shell.execute_reply": "2020-11-16T23:22:30.166346Z"
    },
    "papermill": {
     "duration": 26.947939,
     "end_time": "2020-11-16T23:22:30.167283",
     "exception": false,
     "start_time": "2020-11-16T23:22:03.219344",
     "status": "completed"
    },
    "pycharm": {
     "name": "#%%\n"
    },
    "tags": []
   },
   "outputs": [
    {
     "name": "stderr",
     "output_type": "stream",
     "text": [
      "<ipython-input-32-827222b35590>:4: FutureWarning: `item` has been deprecated and will be removed in a future version\n",
      "  day_new_teks_set = day_new_teks_set_df[\n"
     ]
    },
    {
     "data": {
      "text/html": [
       "<div>\n",
       "<style scoped>\n",
       "    .dataframe tbody tr th:only-of-type {\n",
       "        vertical-align: middle;\n",
       "    }\n",
       "\n",
       "    .dataframe tbody tr th {\n",
       "        vertical-align: top;\n",
       "    }\n",
       "\n",
       "    .dataframe thead th {\n",
       "        text-align: right;\n",
       "    }\n",
       "</style>\n",
       "<table border=\"1\" class=\"dataframe\">\n",
       "  <thead>\n",
       "    <tr style=\"text-align: right;\">\n",
       "      <th></th>\n",
       "      <th>upload_date</th>\n",
       "      <th>generation_date</th>\n",
       "      <th>shared_teks</th>\n",
       "      <th>generation_to_upload_days</th>\n",
       "    </tr>\n",
       "  </thead>\n",
       "  <tbody>\n",
       "    <tr>\n",
       "      <th>10</th>\n",
       "      <td>2020-08-30</td>\n",
       "      <td>2020-08-29</td>\n",
       "      <td>16</td>\n",
       "      <td>1</td>\n",
       "    </tr>\n",
       "    <tr>\n",
       "      <th>9</th>\n",
       "      <td>2020-08-30</td>\n",
       "      <td>2020-08-28</td>\n",
       "      <td>5</td>\n",
       "      <td>2</td>\n",
       "    </tr>\n",
       "    <tr>\n",
       "      <th>8</th>\n",
       "      <td>2020-08-30</td>\n",
       "      <td>2020-08-27</td>\n",
       "      <td>3</td>\n",
       "      <td>3</td>\n",
       "    </tr>\n",
       "    <tr>\n",
       "      <th>7</th>\n",
       "      <td>2020-08-30</td>\n",
       "      <td>2020-08-26</td>\n",
       "      <td>3</td>\n",
       "      <td>4</td>\n",
       "    </tr>\n",
       "    <tr>\n",
       "      <th>6</th>\n",
       "      <td>2020-08-30</td>\n",
       "      <td>2020-08-25</td>\n",
       "      <td>2</td>\n",
       "      <td>5</td>\n",
       "    </tr>\n",
       "  </tbody>\n",
       "</table>\n",
       "</div>"
      ],
      "text/plain": [
       "   upload_date generation_date  shared_teks  generation_to_upload_days\n",
       "10  2020-08-30      2020-08-29           16                          1\n",
       "9   2020-08-30      2020-08-28            5                          2\n",
       "8   2020-08-30      2020-08-27            3                          3\n",
       "7   2020-08-30      2020-08-26            3                          4\n",
       "6   2020-08-30      2020-08-25            2                          5"
      ]
     },
     "execution_count": 32,
     "metadata": {},
     "output_type": "execute_result"
    }
   ],
   "source": [
    "def compute_teks_by_generation_and_upload_date(date):\n",
    "    day_new_teks_set_df = tek_list_df.copy().diff()\n",
    "    try:\n",
    "        day_new_teks_set = day_new_teks_set_df[\n",
    "            day_new_teks_set_df.index == date].tek_list.item()\n",
    "    except ValueError:\n",
    "        day_new_teks_set = None\n",
    "    if pd.isna(day_new_teks_set):\n",
    "        day_new_teks_set = set()\n",
    "    day_new_teks_df = daily_extracted_teks_df[\n",
    "        daily_extracted_teks_df.extraction_date == date].copy()\n",
    "    day_new_teks_df[\"shared_teks\"] = \\\n",
    "        day_new_teks_df.tek_list.apply(lambda x: set(x).intersection(day_new_teks_set))\n",
    "    day_new_teks_df[\"shared_teks\"] = \\\n",
    "        day_new_teks_df.shared_teks.apply(len)\n",
    "    day_new_teks_df[\"upload_date\"] = date\n",
    "    day_new_teks_df.rename(columns={\"sample_date\": \"generation_date\"}, inplace=True)\n",
    "    day_new_teks_df = day_new_teks_df[\n",
    "        [\"upload_date\", \"generation_date\", \"shared_teks\"]]\n",
    "    day_new_teks_df[\"generation_to_upload_days\"] = \\\n",
    "        (pd.to_datetime(day_new_teks_df.upload_date) -\n",
    "         pd.to_datetime(day_new_teks_df.generation_date)).dt.days\n",
    "    day_new_teks_df = day_new_teks_df[day_new_teks_df.shared_teks > 0]\n",
    "    return day_new_teks_df\n",
    "\n",
    "shared_teks_generation_to_upload_df = pd.DataFrame()\n",
    "for upload_date in daily_extracted_teks_df.extraction_date.unique():\n",
    "    shared_teks_generation_to_upload_df = \\\n",
    "        shared_teks_generation_to_upload_df.append(\n",
    "            compute_teks_by_generation_and_upload_date(date=upload_date))\n",
    "shared_teks_generation_to_upload_df \\\n",
    "    .sort_values([\"upload_date\", \"generation_date\"], ascending=False, inplace=True)\n",
    "shared_teks_generation_to_upload_df.tail()"
   ]
  },
  {
   "cell_type": "code",
   "execution_count": 33,
   "metadata": {
    "collapsed": false,
    "execution": {
     "iopub.execute_input": "2020-11-16T23:22:30.288787Z",
     "iopub.status.busy": "2020-11-16T23:22:30.288189Z",
     "iopub.status.idle": "2020-11-16T23:22:30.291277Z",
     "shell.execute_reply": "2020-11-16T23:22:30.290679Z"
    },
    "papermill": {
     "duration": 0.067574,
     "end_time": "2020-11-16T23:22:30.291409",
     "exception": false,
     "start_time": "2020-11-16T23:22:30.223835",
     "status": "completed"
    },
    "pycharm": {
     "name": "#%%\n"
    },
    "tags": []
   },
   "outputs": [
    {
     "data": {
      "text/html": [
       "<div>\n",
       "<style scoped>\n",
       "    .dataframe tbody tr th:only-of-type {\n",
       "        vertical-align: middle;\n",
       "    }\n",
       "\n",
       "    .dataframe tbody tr th {\n",
       "        vertical-align: top;\n",
       "    }\n",
       "\n",
       "    .dataframe thead th {\n",
       "        text-align: right;\n",
       "    }\n",
       "</style>\n",
       "<table border=\"1\" class=\"dataframe\">\n",
       "  <thead>\n",
       "    <tr style=\"text-align: right;\">\n",
       "      <th></th>\n",
       "      <th>upload_date</th>\n",
       "      <th>generation_date</th>\n",
       "      <th>shared_teks</th>\n",
       "      <th>generation_to_upload_days</th>\n",
       "    </tr>\n",
       "  </thead>\n",
       "  <tbody>\n",
       "    <tr>\n",
       "      <th>50</th>\n",
       "      <td>2020-11-16</td>\n",
       "      <td>2020-11-07</td>\n",
       "      <td>1210</td>\n",
       "      <td>9</td>\n",
       "    </tr>\n",
       "    <tr>\n",
       "      <th>39</th>\n",
       "      <td>2020-11-16</td>\n",
       "      <td>2020-11-06</td>\n",
       "      <td>1189</td>\n",
       "      <td>10</td>\n",
       "    </tr>\n",
       "    <tr>\n",
       "      <th>28</th>\n",
       "      <td>2020-11-16</td>\n",
       "      <td>2020-11-05</td>\n",
       "      <td>1156</td>\n",
       "      <td>11</td>\n",
       "    </tr>\n",
       "    <tr>\n",
       "      <th>17</th>\n",
       "      <td>2020-11-16</td>\n",
       "      <td>2020-11-04</td>\n",
       "      <td>1129</td>\n",
       "      <td>12</td>\n",
       "    </tr>\n",
       "    <tr>\n",
       "      <th>6</th>\n",
       "      <td>2020-11-16</td>\n",
       "      <td>2020-11-03</td>\n",
       "      <td>1096</td>\n",
       "      <td>13</td>\n",
       "    </tr>\n",
       "  </tbody>\n",
       "</table>\n",
       "</div>"
      ],
      "text/plain": [
       "   upload_date generation_date  shared_teks  generation_to_upload_days\n",
       "50  2020-11-16      2020-11-07         1210                          9\n",
       "39  2020-11-16      2020-11-06         1189                         10\n",
       "28  2020-11-16      2020-11-05         1156                         11\n",
       "17  2020-11-16      2020-11-04         1129                         12\n",
       "6   2020-11-16      2020-11-03         1096                         13"
      ]
     },
     "execution_count": 33,
     "metadata": {},
     "output_type": "execute_result"
    }
   ],
   "source": [
    "today_new_teks_df = \\\n",
    "    shared_teks_generation_to_upload_df[\n",
    "        shared_teks_generation_to_upload_df.upload_date == extraction_date].copy()\n",
    "today_new_teks_df.tail()"
   ]
  },
  {
   "cell_type": "code",
   "execution_count": 34,
   "metadata": {
    "collapsed": false,
    "execution": {
     "iopub.execute_input": "2020-11-16T23:22:30.407001Z",
     "iopub.status.busy": "2020-11-16T23:22:30.406433Z",
     "iopub.status.idle": "2020-11-16T23:22:30.800378Z",
     "shell.execute_reply": "2020-11-16T23:22:30.799834Z"
    },
    "papermill": {
     "duration": 0.454099,
     "end_time": "2020-11-16T23:22:30.800531",
     "exception": false,
     "start_time": "2020-11-16T23:22:30.346432",
     "status": "completed"
    },
    "pycharm": {
     "name": "#%%\n"
    },
    "tags": []
   },
   "outputs": [
    {
     "data": {
      "image/png": "[encoded data removed]",
      "text/plain": [
       "<Figure size 1080x432 with 1 Axes>"
      ]
     },
     "metadata": {},
     "output_type": "display_data"
    }
   ],
   "source": [
    "if not today_new_teks_df.empty:\n",
    "    today_new_teks_df.set_index(\"generation_to_upload_days\") \\\n",
    "        .sort_index().shared_teks.plot.bar()"
   ]
  },
  {
   "cell_type": "code",
   "execution_count": 35,
   "metadata": {
    "collapsed": false,
    "execution": {
     "iopub.execute_input": "2020-11-16T23:22:30.916077Z",
     "iopub.status.busy": "2020-11-16T23:22:30.915530Z",
     "iopub.status.idle": "2020-11-16T23:22:30.930662Z",
     "shell.execute_reply": "2020-11-16T23:22:30.931179Z"
    },
    "papermill": {
     "duration": 0.072866,
     "end_time": "2020-11-16T23:22:30.931315",
     "exception": false,
     "start_time": "2020-11-16T23:22:30.858449",
     "status": "completed"
    },
    "pycharm": {
     "name": "#%%\n"
    },
    "tags": []
   },
   "outputs": [
    {
     "data": {
      "text/html": [
       "<div>\n",
       "<style scoped>\n",
       "    .dataframe tbody tr th:only-of-type {\n",
       "        vertical-align: middle;\n",
       "    }\n",
       "\n",
       "    .dataframe tbody tr th {\n",
       "        vertical-align: top;\n",
       "    }\n",
       "\n",
       "    .dataframe thead th {\n",
       "        text-align: right;\n",
       "    }\n",
       "</style>\n",
       "<table border=\"1\" class=\"dataframe\">\n",
       "  <thead>\n",
       "    <tr style=\"text-align: right;\">\n",
       "      <th>generation_to_upload_days</th>\n",
       "      <th>0</th>\n",
       "      <th>1</th>\n",
       "      <th>2</th>\n",
       "      <th>3</th>\n",
       "      <th>4</th>\n",
       "      <th>5</th>\n",
       "      <th>6</th>\n",
       "      <th>7</th>\n",
       "      <th>8</th>\n",
       "      <th>9</th>\n",
       "      <th>10</th>\n",
       "      <th>11</th>\n",
       "      <th>12</th>\n",
       "      <th>13</th>\n",
       "    </tr>\n",
       "    <tr>\n",
       "      <th>upload_date</th>\n",
       "      <th></th>\n",
       "      <th></th>\n",
       "      <th></th>\n",
       "      <th></th>\n",
       "      <th></th>\n",
       "      <th></th>\n",
       "      <th></th>\n",
       "      <th></th>\n",
       "      <th></th>\n",
       "      <th></th>\n",
       "      <th></th>\n",
       "      <th></th>\n",
       "      <th></th>\n",
       "      <th></th>\n",
       "    </tr>\n",
       "  </thead>\n",
       "  <tbody>\n",
       "    <tr>\n",
       "      <th>2020-11-16</th>\n",
       "      <td>194</td>\n",
       "      <td>1375</td>\n",
       "      <td>1741</td>\n",
       "      <td>1666</td>\n",
       "      <td>1545</td>\n",
       "      <td>1422</td>\n",
       "      <td>1336</td>\n",
       "      <td>1284</td>\n",
       "      <td>1236</td>\n",
       "      <td>1210</td>\n",
       "      <td>1189</td>\n",
       "      <td>1156</td>\n",
       "      <td>1129</td>\n",
       "      <td>1096</td>\n",
       "    </tr>\n",
       "    <tr>\n",
       "      <th>2020-11-15</th>\n",
       "      <td>224</td>\n",
       "      <td>1092</td>\n",
       "      <td>1611</td>\n",
       "      <td>1468</td>\n",
       "      <td>1368</td>\n",
       "      <td>1256</td>\n",
       "      <td>1181</td>\n",
       "      <td>1114</td>\n",
       "      <td>1080</td>\n",
       "      <td>1038</td>\n",
       "      <td>1001</td>\n",
       "      <td>974</td>\n",
       "      <td>950</td>\n",
       "      <td>930</td>\n",
       "    </tr>\n",
       "    <tr>\n",
       "      <th>2020-11-14</th>\n",
       "      <td>211</td>\n",
       "      <td>1616</td>\n",
       "      <td>2281</td>\n",
       "      <td>2074</td>\n",
       "      <td>1947</td>\n",
       "      <td>1842</td>\n",
       "      <td>1765</td>\n",
       "      <td>1710</td>\n",
       "      <td>1655</td>\n",
       "      <td>1613</td>\n",
       "      <td>1573</td>\n",
       "      <td>1534</td>\n",
       "      <td>1502</td>\n",
       "      <td>1475</td>\n",
       "    </tr>\n",
       "    <tr>\n",
       "      <th>2020-11-13</th>\n",
       "      <td>306</td>\n",
       "      <td>2178</td>\n",
       "      <td>2890</td>\n",
       "      <td>2669</td>\n",
       "      <td>2521</td>\n",
       "      <td>2378</td>\n",
       "      <td>2281</td>\n",
       "      <td>2224</td>\n",
       "      <td>2163</td>\n",
       "      <td>2110</td>\n",
       "      <td>2066</td>\n",
       "      <td>2025</td>\n",
       "      <td>1970</td>\n",
       "      <td>1948</td>\n",
       "    </tr>\n",
       "    <tr>\n",
       "      <th>2020-11-12</th>\n",
       "      <td>317</td>\n",
       "      <td>2184</td>\n",
       "      <td>3205</td>\n",
       "      <td>2915</td>\n",
       "      <td>2701</td>\n",
       "      <td>2606</td>\n",
       "      <td>2490</td>\n",
       "      <td>2410</td>\n",
       "      <td>2319</td>\n",
       "      <td>2236</td>\n",
       "      <td>2183</td>\n",
       "      <td>2113</td>\n",
       "      <td>2074</td>\n",
       "      <td>2039</td>\n",
       "    </tr>\n",
       "  </tbody>\n",
       "</table>\n",
       "</div>"
      ],
      "text/plain": [
       "generation_to_upload_days   0     1     2     3     4     5     6     7   \\\n",
       "upload_date                                                                \n",
       "2020-11-16                 194  1375  1741  1666  1545  1422  1336  1284   \n",
       "2020-11-15                 224  1092  1611  1468  1368  1256  1181  1114   \n",
       "2020-11-14                 211  1616  2281  2074  1947  1842  1765  1710   \n",
       "2020-11-13                 306  2178  2890  2669  2521  2378  2281  2224   \n",
       "2020-11-12                 317  2184  3205  2915  2701  2606  2490  2410   \n",
       "\n",
       "generation_to_upload_days    8     9     10    11    12    13  \n",
       "upload_date                                                    \n",
       "2020-11-16                 1236  1210  1189  1156  1129  1096  \n",
       "2020-11-15                 1080  1038  1001   974   950   930  \n",
       "2020-11-14                 1655  1613  1573  1534  1502  1475  \n",
       "2020-11-13                 2163  2110  2066  2025  1970  1948  \n",
       "2020-11-12                 2319  2236  2183  2113  2074  2039  "
      ]
     },
     "execution_count": 35,
     "metadata": {},
     "output_type": "execute_result"
    }
   ],
   "source": [
    "generation_to_upload_period_pivot_df = \\\n",
    "    shared_teks_generation_to_upload_df[\n",
    "        [\"upload_date\", \"generation_to_upload_days\", \"shared_teks\"]] \\\n",
    "        .pivot(index=\"upload_date\", columns=\"generation_to_upload_days\") \\\n",
    "        .sort_index(ascending=False).fillna(0).astype(int) \\\n",
    "        .droplevel(level=0, axis=1)\n",
    "generation_to_upload_period_pivot_df.head()"
   ]
  },
  {
   "cell_type": "code",
   "execution_count": 36,
   "metadata": {
    "collapsed": false,
    "execution": {
     "iopub.execute_input": "2020-11-16T23:22:31.380540Z",
     "iopub.status.busy": "2020-11-16T23:22:31.379979Z",
     "iopub.status.idle": "2020-11-16T23:22:31.384854Z",
     "shell.execute_reply": "2020-11-16T23:22:31.384406Z"
    },
    "papermill": {
     "duration": 0.401738,
     "end_time": "2020-11-16T23:22:31.384984",
     "exception": false,
     "start_time": "2020-11-16T23:22:30.983246",
     "status": "completed"
    },
    "pycharm": {
     "name": "#%%\n"
    },
    "tags": []
   },
   "outputs": [
    {
     "data": {
      "text/html": [
       "<div>\n",
       "<style scoped>\n",
       "    .dataframe tbody tr th:only-of-type {\n",
       "        vertical-align: middle;\n",
       "    }\n",
       "\n",
       "    .dataframe tbody tr th {\n",
       "        vertical-align: top;\n",
       "    }\n",
       "\n",
       "    .dataframe thead th {\n",
       "        text-align: right;\n",
       "    }\n",
       "</style>\n",
       "<table border=\"1\" class=\"dataframe\">\n",
       "  <thead>\n",
       "    <tr style=\"text-align: right;\">\n",
       "      <th></th>\n",
       "      <th>sample_date_string</th>\n",
       "      <th>shared_teks_by_upload_date</th>\n",
       "    </tr>\n",
       "  </thead>\n",
       "  <tbody>\n",
       "    <tr>\n",
       "      <th>75</th>\n",
       "      <td>2020-11-12</td>\n",
       "      <td>31792.0</td>\n",
       "    </tr>\n",
       "    <tr>\n",
       "      <th>76</th>\n",
       "      <td>2020-11-13</td>\n",
       "      <td>29729.0</td>\n",
       "    </tr>\n",
       "    <tr>\n",
       "      <th>77</th>\n",
       "      <td>2020-11-14</td>\n",
       "      <td>22798.0</td>\n",
       "    </tr>\n",
       "    <tr>\n",
       "      <th>78</th>\n",
       "      <td>2020-11-15</td>\n",
       "      <td>15287.0</td>\n",
       "    </tr>\n",
       "    <tr>\n",
       "      <th>79</th>\n",
       "      <td>2020-11-16</td>\n",
       "      <td>17579.0</td>\n",
       "    </tr>\n",
       "  </tbody>\n",
       "</table>\n",
       "</div>"
      ],
      "text/plain": [
       "   sample_date_string  shared_teks_by_upload_date\n",
       "75         2020-11-12                     31792.0\n",
       "76         2020-11-13                     29729.0\n",
       "77         2020-11-14                     22798.0\n",
       "78         2020-11-15                     15287.0\n",
       "79         2020-11-16                     17579.0"
      ]
     },
     "execution_count": 36,
     "metadata": {},
     "output_type": "execute_result"
    }
   ],
   "source": [
    "new_tek_df = tek_list_df.diff().tek_list.apply(\n",
    "    lambda x: len(x) if not pd.isna(x) else None).to_frame().reset_index()\n",
    "new_tek_df.rename(columns={\n",
    "    \"tek_list\": \"shared_teks_by_upload_date\",\n",
    "    \"extraction_date\": \"sample_date_string\",}, inplace=True)\n",
    "new_tek_df.tail()"
   ]
  },
  {
   "cell_type": "code",
   "execution_count": 37,
   "metadata": {
    "collapsed": false,
    "execution": {
     "iopub.execute_input": "2020-11-16T23:22:31.504954Z",
     "iopub.status.busy": "2020-11-16T23:22:31.504301Z",
     "iopub.status.idle": "2020-11-16T23:22:31.507537Z",
     "shell.execute_reply": "2020-11-16T23:22:31.508018Z"
    },
    "papermill": {
     "duration": 0.068746,
     "end_time": "2020-11-16T23:22:31.508173",
     "exception": false,
     "start_time": "2020-11-16T23:22:31.439427",
     "status": "completed"
    },
    "pycharm": {
     "name": "#%%\n"
    },
    "tags": []
   },
   "outputs": [
    {
     "data": {
      "text/html": [
       "<div>\n",
       "<style scoped>\n",
       "    .dataframe tbody tr th:only-of-type {\n",
       "        vertical-align: middle;\n",
       "    }\n",
       "\n",
       "    .dataframe tbody tr th {\n",
       "        vertical-align: top;\n",
       "    }\n",
       "\n",
       "    .dataframe thead th {\n",
       "        text-align: right;\n",
       "    }\n",
       "</style>\n",
       "<table border=\"1\" class=\"dataframe\">\n",
       "  <thead>\n",
       "    <tr style=\"text-align: right;\">\n",
       "      <th></th>\n",
       "      <th>sample_date_string</th>\n",
       "      <th>shared_teks_uploaded_on_generation_date</th>\n",
       "    </tr>\n",
       "  </thead>\n",
       "  <tbody>\n",
       "    <tr>\n",
       "      <th>141</th>\n",
       "      <td>2020-11-16</td>\n",
       "      <td>194</td>\n",
       "    </tr>\n",
       "    <tr>\n",
       "      <th>141</th>\n",
       "      <td>2020-11-15</td>\n",
       "      <td>224</td>\n",
       "    </tr>\n",
       "    <tr>\n",
       "      <th>141</th>\n",
       "      <td>2020-11-14</td>\n",
       "      <td>211</td>\n",
       "    </tr>\n",
       "    <tr>\n",
       "      <th>141</th>\n",
       "      <td>2020-11-13</td>\n",
       "      <td>306</td>\n",
       "    </tr>\n",
       "    <tr>\n",
       "      <th>142</th>\n",
       "      <td>2020-11-12</td>\n",
       "      <td>317</td>\n",
       "    </tr>\n",
       "  </tbody>\n",
       "</table>\n",
       "</div>"
      ],
      "text/plain": [
       "    sample_date_string  shared_teks_uploaded_on_generation_date\n",
       "141         2020-11-16                                      194\n",
       "141         2020-11-15                                      224\n",
       "141         2020-11-14                                      211\n",
       "141         2020-11-13                                      306\n",
       "142         2020-11-12                                      317"
      ]
     },
     "execution_count": 37,
     "metadata": {},
     "output_type": "execute_result"
    }
   ],
   "source": [
    "shared_teks_uploaded_on_generation_date_df = shared_teks_generation_to_upload_df[\n",
    "    shared_teks_generation_to_upload_df.generation_to_upload_days == 0] \\\n",
    "    [[\"upload_date\", \"shared_teks\"]].rename(\n",
    "    columns={\n",
    "        \"upload_date\": \"sample_date_string\",\n",
    "        \"shared_teks\": \"shared_teks_uploaded_on_generation_date\",\n",
    "    })\n",
    "shared_teks_uploaded_on_generation_date_df.head()"
   ]
  },
  {
   "cell_type": "code",
   "execution_count": 38,
   "metadata": {
    "collapsed": false,
    "execution": {
     "iopub.execute_input": "2020-11-16T23:22:31.631002Z",
     "iopub.status.busy": "2020-11-16T23:22:31.630391Z",
     "iopub.status.idle": "2020-11-16T23:22:31.643133Z",
     "shell.execute_reply": "2020-11-16T23:22:31.642605Z"
    },
    "papermill": {
     "duration": 0.074901,
     "end_time": "2020-11-16T23:22:31.643271",
     "exception": false,
     "start_time": "2020-11-16T23:22:31.568370",
     "status": "completed"
    },
    "pycharm": {
     "name": "#%%\n"
    },
    "tags": []
   },
   "outputs": [
    {
     "data": {
      "text/html": [
       "<div>\n",
       "<style scoped>\n",
       "    .dataframe tbody tr th:only-of-type {\n",
       "        vertical-align: middle;\n",
       "    }\n",
       "\n",
       "    .dataframe tbody tr th {\n",
       "        vertical-align: top;\n",
       "    }\n",
       "\n",
       "    .dataframe thead th {\n",
       "        text-align: right;\n",
       "    }\n",
       "</style>\n",
       "<table border=\"1\" class=\"dataframe\">\n",
       "  <thead>\n",
       "    <tr style=\"text-align: right;\">\n",
       "      <th></th>\n",
       "      <th>sample_date_string</th>\n",
       "      <th>shared_diagnoses</th>\n",
       "    </tr>\n",
       "  </thead>\n",
       "  <tbody>\n",
       "    <tr>\n",
       "      <th>78</th>\n",
       "      <td>2020-11-16</td>\n",
       "      <td>1741</td>\n",
       "    </tr>\n",
       "    <tr>\n",
       "      <th>77</th>\n",
       "      <td>2020-11-15</td>\n",
       "      <td>1611</td>\n",
       "    </tr>\n",
       "    <tr>\n",
       "      <th>76</th>\n",
       "      <td>2020-11-14</td>\n",
       "      <td>2281</td>\n",
       "    </tr>\n",
       "    <tr>\n",
       "      <th>75</th>\n",
       "      <td>2020-11-13</td>\n",
       "      <td>2890</td>\n",
       "    </tr>\n",
       "    <tr>\n",
       "      <th>74</th>\n",
       "      <td>2020-11-12</td>\n",
       "      <td>3205</td>\n",
       "    </tr>\n",
       "  </tbody>\n",
       "</table>\n",
       "</div>"
      ],
      "text/plain": [
       "   sample_date_string  shared_diagnoses\n",
       "78         2020-11-16              1741\n",
       "77         2020-11-15              1611\n",
       "76         2020-11-14              2281\n",
       "75         2020-11-13              2890\n",
       "74         2020-11-12              3205"
      ]
     },
     "execution_count": 38,
     "metadata": {},
     "output_type": "execute_result"
    }
   ],
   "source": [
    "estimated_shared_diagnoses_df = shared_teks_generation_to_upload_df \\\n",
    "    .groupby([\"upload_date\"]).shared_teks.max().reset_index() \\\n",
    "    .sort_values([\"upload_date\"], ascending=False) \\\n",
    "    .rename(columns={\n",
    "        \"upload_date\": \"sample_date_string\",\n",
    "        \"shared_teks\": \"shared_diagnoses\",\n",
    "    })\n",
    "invalid_shared_diagnoses_dates_mask = \\\n",
    "    estimated_shared_diagnoses_df.sample_date_string.isin(invalid_shared_diagnoses_dates)\n",
    "estimated_shared_diagnoses_df[invalid_shared_diagnoses_dates_mask] = 0\n",
    "estimated_shared_diagnoses_df.head()"
   ]
  },
  {
   "cell_type": "markdown",
   "metadata": {
    "papermill": {
     "duration": 0.059898,
     "end_time": "2020-11-16T23:22:31.759872",
     "exception": false,
     "start_time": "2020-11-16T23:22:31.699974",
     "status": "completed"
    },
    "pycharm": {
     "name": "#%% md\n"
    },
    "tags": []
   },
   "source": [
    "### Hourly New TEKs"
   ]
  },
  {
   "cell_type": "code",
   "execution_count": 39,
   "metadata": {
    "execution": {
     "iopub.execute_input": "2020-11-16T23:22:31.871836Z",
     "iopub.status.busy": "2020-11-16T23:22:31.871299Z",
     "iopub.status.idle": "2020-11-16T23:22:36.149431Z",
     "shell.execute_reply": "2020-11-16T23:22:36.148976Z"
    },
    "papermill": {
     "duration": 4.336689,
     "end_time": "2020-11-16T23:22:36.149597",
     "exception": false,
     "start_time": "2020-11-16T23:22:31.812908",
     "status": "completed"
    },
    "pycharm": {
     "name": "#%%\n"
    },
    "tags": []
   },
   "outputs": [
    {
     "data": {
      "text/html": [
       "<div>\n",
       "<style scoped>\n",
       "    .dataframe tbody tr th:only-of-type {\n",
       "        vertical-align: middle;\n",
       "    }\n",
       "\n",
       "    .dataframe tbody tr th {\n",
       "        vertical-align: top;\n",
       "    }\n",
       "\n",
       "    .dataframe thead th {\n",
       "        text-align: right;\n",
       "    }\n",
       "</style>\n",
       "<table border=\"1\" class=\"dataframe\">\n",
       "  <thead>\n",
       "    <tr style=\"text-align: right;\">\n",
       "      <th></th>\n",
       "      <th>region</th>\n",
       "      <th>sample_date</th>\n",
       "      <th>tek_list</th>\n",
       "      <th>extraction_date</th>\n",
       "      <th>extraction_date_with_hour</th>\n",
       "    </tr>\n",
       "  </thead>\n",
       "  <tbody>\n",
       "    <tr>\n",
       "      <th>6</th>\n",
       "      <td>ES</td>\n",
       "      <td>2020-11-03</td>\n",
       "      <td>[caadf9d4-280f-8e36-778a-eab3fc6cf07a, c657e91...</td>\n",
       "      <td>2020-11-16</td>\n",
       "      <td>2020-11-16@23</td>\n",
       "    </tr>\n",
       "    <tr>\n",
       "      <th>17</th>\n",
       "      <td>ES</td>\n",
       "      <td>2020-11-04</td>\n",
       "      <td>[65c23c36-ecdc-2234-f8f2-3ce5c4f030f9, c5aba17...</td>\n",
       "      <td>2020-11-16</td>\n",
       "      <td>2020-11-16@23</td>\n",
       "    </tr>\n",
       "    <tr>\n",
       "      <th>28</th>\n",
       "      <td>ES</td>\n",
       "      <td>2020-11-05</td>\n",
       "      <td>[88574032-b157-bf1a-f08c-fb25497e0a20, bfa23df...</td>\n",
       "      <td>2020-11-16</td>\n",
       "      <td>2020-11-16@23</td>\n",
       "    </tr>\n",
       "    <tr>\n",
       "      <th>39</th>\n",
       "      <td>ES</td>\n",
       "      <td>2020-11-06</td>\n",
       "      <td>[61e9991c-c054-8053-a4db-675a5a7de61c, d7a8f7a...</td>\n",
       "      <td>2020-11-16</td>\n",
       "      <td>2020-11-16@23</td>\n",
       "    </tr>\n",
       "    <tr>\n",
       "      <th>50</th>\n",
       "      <td>ES</td>\n",
       "      <td>2020-11-07</td>\n",
       "      <td>[2b0876ef-c181-83e7-a022-99f78e00d5c1, d404b60...</td>\n",
       "      <td>2020-11-16</td>\n",
       "      <td>2020-11-16@23</td>\n",
       "    </tr>\n",
       "  </tbody>\n",
       "</table>\n",
       "</div>"
      ],
      "text/plain": [
       "   region sample_date                                           tek_list  \\\n",
       "6      ES  2020-11-03  [caadf9d4-280f-8e36-778a-eab3fc6cf07a, c657e91...   \n",
       "17     ES  2020-11-04  [65c23c36-ecdc-2234-f8f2-3ce5c4f030f9, c5aba17...   \n",
       "28     ES  2020-11-05  [88574032-b157-bf1a-f08c-fb25497e0a20, bfa23df...   \n",
       "39     ES  2020-11-06  [61e9991c-c054-8053-a4db-675a5a7de61c, d7a8f7a...   \n",
       "50     ES  2020-11-07  [2b0876ef-c181-83e7-a022-99f78e00d5c1, d404b60...   \n",
       "\n",
       "   extraction_date extraction_date_with_hour  \n",
       "6       2020-11-16             2020-11-16@23  \n",
       "17      2020-11-16             2020-11-16@23  \n",
       "28      2020-11-16             2020-11-16@23  \n",
       "39      2020-11-16             2020-11-16@23  \n",
       "50      2020-11-16             2020-11-16@23  "
      ]
     },
     "execution_count": 39,
     "metadata": {},
     "output_type": "execute_result"
    }
   ],
   "source": [
    "hourly_extracted_teks_df = load_extracted_teks(\n",
    "    mode=\"Hourly\", region=report_backend_identifier, limit=25)\n",
    "hourly_extracted_teks_df.head()"
   ]
  },
  {
   "cell_type": "code",
   "execution_count": 40,
   "metadata": {
    "collapsed": false,
    "execution": {
     "iopub.execute_input": "2020-11-16T23:22:36.452082Z",
     "iopub.status.busy": "2020-11-16T23:22:36.355469Z",
     "iopub.status.idle": "2020-11-16T23:22:37.648572Z",
     "shell.execute_reply": "2020-11-16T23:22:37.649033Z"
    },
    "papermill": {
     "duration": 1.445059,
     "end_time": "2020-11-16T23:22:37.649196",
     "exception": false,
     "start_time": "2020-11-16T23:22:36.204137",
     "status": "completed"
    },
    "pycharm": {
     "name": "#%%\n"
    },
    "tags": []
   },
   "outputs": [
    {
     "data": {
      "text/html": [
       "<div>\n",
       "<style scoped>\n",
       "    .dataframe tbody tr th:only-of-type {\n",
       "        vertical-align: middle;\n",
       "    }\n",
       "\n",
       "    .dataframe tbody tr th {\n",
       "        vertical-align: top;\n",
       "    }\n",
       "\n",
       "    .dataframe thead th {\n",
       "        text-align: right;\n",
       "    }\n",
       "</style>\n",
       "<table border=\"1\" class=\"dataframe\">\n",
       "  <thead>\n",
       "    <tr style=\"text-align: right;\">\n",
       "      <th></th>\n",
       "      <th>extraction_date_with_hour</th>\n",
       "      <th>shared_teks_by_upload_date</th>\n",
       "    </tr>\n",
       "  </thead>\n",
       "  <tbody>\n",
       "    <tr>\n",
       "      <th>0</th>\n",
       "      <td>2020-11-15@23</td>\n",
       "      <td>0</td>\n",
       "    </tr>\n",
       "    <tr>\n",
       "      <th>1</th>\n",
       "      <td>2020-11-16@00</td>\n",
       "      <td>52</td>\n",
       "    </tr>\n",
       "    <tr>\n",
       "      <th>2</th>\n",
       "      <td>2020-11-16@01</td>\n",
       "      <td>0</td>\n",
       "    </tr>\n",
       "    <tr>\n",
       "      <th>3</th>\n",
       "      <td>2020-11-16@02</td>\n",
       "      <td>20</td>\n",
       "    </tr>\n",
       "    <tr>\n",
       "      <th>4</th>\n",
       "      <td>2020-11-16@03</td>\n",
       "      <td>0</td>\n",
       "    </tr>\n",
       "  </tbody>\n",
       "</table>\n",
       "</div>"
      ],
      "text/plain": [
       "  extraction_date_with_hour  shared_teks_by_upload_date\n",
       "0             2020-11-15@23                           0\n",
       "1             2020-11-16@00                          52\n",
       "2             2020-11-16@01                           0\n",
       "3             2020-11-16@02                          20\n",
       "4             2020-11-16@03                           0"
      ]
     },
     "execution_count": 40,
     "metadata": {},
     "output_type": "execute_result"
    }
   ],
   "source": [
    "hourly_new_tek_count_df = hourly_extracted_teks_df \\\n",
    "    .groupby(\"extraction_date_with_hour\").tek_list. \\\n",
    "    apply(lambda x: set(sum(x, []))).reset_index().copy()\n",
    "hourly_new_tek_count_df = hourly_new_tek_count_df.set_index(\"extraction_date_with_hour\") \\\n",
    "    .sort_index(ascending=True)\n",
    "\n",
    "hourly_new_tek_count_df[\"new_tek_list\"] = hourly_new_tek_count_df.tek_list.diff()\n",
    "hourly_new_tek_count_df[\"new_tek_count\"] = hourly_new_tek_count_df.new_tek_list.apply(\n",
    "    lambda x: len(x) if not pd.isna(x) else 0)\n",
    "hourly_new_tek_count_df.rename(columns={\n",
    "    \"new_tek_count\": \"shared_teks_by_upload_date\"}, inplace=True)\n",
    "hourly_new_tek_count_df = hourly_new_tek_count_df.reset_index()[[\n",
    "    \"extraction_date_with_hour\", \"shared_teks_by_upload_date\"]]\n",
    "hourly_new_tek_count_df.head()"
   ]
  },
  {
   "cell_type": "code",
   "execution_count": 41,
   "metadata": {
    "collapsed": false,
    "execution": {
     "iopub.execute_input": "2020-11-16T23:22:37.776263Z",
     "iopub.status.busy": "2020-11-16T23:22:37.772532Z",
     "iopub.status.idle": "2020-11-16T23:22:37.779249Z",
     "shell.execute_reply": "2020-11-16T23:22:37.779761Z"
    },
    "papermill": {
     "duration": 0.071714,
     "end_time": "2020-11-16T23:22:37.779903",
     "exception": false,
     "start_time": "2020-11-16T23:22:37.708189",
     "status": "completed"
    },
    "pycharm": {
     "name": "#%%\n"
    },
    "tags": []
   },
   "outputs": [
    {
     "data": {
      "text/html": [
       "<div>\n",
       "<style scoped>\n",
       "    .dataframe tbody tr th:only-of-type {\n",
       "        vertical-align: middle;\n",
       "    }\n",
       "\n",
       "    .dataframe tbody tr th {\n",
       "        vertical-align: top;\n",
       "    }\n",
       "\n",
       "    .dataframe thead th {\n",
       "        text-align: right;\n",
       "    }\n",
       "</style>\n",
       "<table border=\"1\" class=\"dataframe\">\n",
       "  <thead>\n",
       "    <tr style=\"text-align: right;\">\n",
       "      <th></th>\n",
       "      <th>extraction_date_with_hour</th>\n",
       "      <th>shared_teks_by_upload_date</th>\n",
       "    </tr>\n",
       "    <tr>\n",
       "      <th>datetime_utc</th>\n",
       "      <th></th>\n",
       "      <th></th>\n",
       "    </tr>\n",
       "  </thead>\n",
       "  <tbody>\n",
       "    <tr>\n",
       "      <th>2020-11-16 00:00:00</th>\n",
       "      <td>2020-11-16@00</td>\n",
       "      <td>52</td>\n",
       "    </tr>\n",
       "    <tr>\n",
       "      <th>2020-11-16 01:00:00</th>\n",
       "      <td>2020-11-16@01</td>\n",
       "      <td>0</td>\n",
       "    </tr>\n",
       "    <tr>\n",
       "      <th>2020-11-16 02:00:00</th>\n",
       "      <td>2020-11-16@02</td>\n",
       "      <td>20</td>\n",
       "    </tr>\n",
       "    <tr>\n",
       "      <th>2020-11-16 03:00:00</th>\n",
       "      <td>2020-11-16@03</td>\n",
       "      <td>0</td>\n",
       "    </tr>\n",
       "    <tr>\n",
       "      <th>2020-11-16 04:00:00</th>\n",
       "      <td>2020-11-16@04</td>\n",
       "      <td>13</td>\n",
       "    </tr>\n",
       "  </tbody>\n",
       "</table>\n",
       "</div>"
      ],
      "text/plain": [
       "                    extraction_date_with_hour  shared_teks_by_upload_date\n",
       "datetime_utc                                                             \n",
       "2020-11-16 00:00:00             2020-11-16@00                          52\n",
       "2020-11-16 01:00:00             2020-11-16@01                           0\n",
       "2020-11-16 02:00:00             2020-11-16@02                          20\n",
       "2020-11-16 03:00:00             2020-11-16@03                           0\n",
       "2020-11-16 04:00:00             2020-11-16@04                          13"
      ]
     },
     "execution_count": 41,
     "metadata": {},
     "output_type": "execute_result"
    }
   ],
   "source": [
    "hourly_summary_df = hourly_new_tek_count_df.copy()\n",
    "hourly_summary_df.set_index(\"extraction_date_with_hour\", inplace=True)\n",
    "hourly_summary_df = hourly_summary_df.fillna(0).astype(int).reset_index()\n",
    "hourly_summary_df[\"datetime_utc\"] = pd.to_datetime(\n",
    "    hourly_summary_df.extraction_date_with_hour, format=\"%Y-%m-%d@%H\")\n",
    "hourly_summary_df.set_index(\"datetime_utc\", inplace=True)\n",
    "hourly_summary_df = hourly_summary_df.tail(-1)\n",
    "hourly_summary_df.head()"
   ]
  },
  {
   "cell_type": "markdown",
   "metadata": {
    "collapsed": false,
    "papermill": {
     "duration": 0.063905,
     "end_time": "2020-11-16T23:22:37.907325",
     "exception": false,
     "start_time": "2020-11-16T23:22:37.843420",
     "status": "completed"
    },
    "tags": []
   },
   "source": [
    "### Data Merge"
   ]
  },
  {
   "cell_type": "code",
   "execution_count": 42,
   "metadata": {
    "collapsed": false,
    "execution": {
     "iopub.execute_input": "2020-11-16T23:22:38.035022Z",
     "iopub.status.busy": "2020-11-16T23:22:38.034492Z",
     "iopub.status.idle": "2020-11-16T23:22:38.037152Z",
     "shell.execute_reply": "2020-11-16T23:22:38.037660Z"
    },
    "papermill": {
     "duration": 0.071613,
     "end_time": "2020-11-16T23:22:38.037796",
     "exception": false,
     "start_time": "2020-11-16T23:22:37.966183",
     "status": "completed"
    },
    "pycharm": {
     "name": "#%%\n"
    },
    "tags": []
   },
   "outputs": [
    {
     "data": {
      "text/html": [
       "<div>\n",
       "<style scoped>\n",
       "    .dataframe tbody tr th:only-of-type {\n",
       "        vertical-align: middle;\n",
       "    }\n",
       "\n",
       "    .dataframe tbody tr th {\n",
       "        vertical-align: top;\n",
       "    }\n",
       "\n",
       "    .dataframe thead th {\n",
       "        text-align: right;\n",
       "    }\n",
       "</style>\n",
       "<table border=\"1\" class=\"dataframe\">\n",
       "  <thead>\n",
       "    <tr style=\"text-align: right;\">\n",
       "      <th></th>\n",
       "      <th>sample_date_string</th>\n",
       "      <th>shared_teks_by_generation_date</th>\n",
       "      <th>shared_teks_by_upload_date</th>\n",
       "    </tr>\n",
       "  </thead>\n",
       "  <tbody>\n",
       "    <tr>\n",
       "      <th>0</th>\n",
       "      <td>2020-11-16</td>\n",
       "      <td>194</td>\n",
       "      <td>17579.0</td>\n",
       "    </tr>\n",
       "    <tr>\n",
       "      <th>1</th>\n",
       "      <td>2020-11-15</td>\n",
       "      <td>1599</td>\n",
       "      <td>15287.0</td>\n",
       "    </tr>\n",
       "    <tr>\n",
       "      <th>2</th>\n",
       "      <td>2020-11-14</td>\n",
       "      <td>3044</td>\n",
       "      <td>22798.0</td>\n",
       "    </tr>\n",
       "    <tr>\n",
       "      <th>3</th>\n",
       "      <td>2020-11-13</td>\n",
       "      <td>5199</td>\n",
       "      <td>29729.0</td>\n",
       "    </tr>\n",
       "    <tr>\n",
       "      <th>4</th>\n",
       "      <td>2020-11-12</td>\n",
       "      <td>7789</td>\n",
       "      <td>31792.0</td>\n",
       "    </tr>\n",
       "  </tbody>\n",
       "</table>\n",
       "</div>"
      ],
      "text/plain": [
       "  sample_date_string  shared_teks_by_generation_date  \\\n",
       "0         2020-11-16                             194   \n",
       "1         2020-11-15                            1599   \n",
       "2         2020-11-14                            3044   \n",
       "3         2020-11-13                            5199   \n",
       "4         2020-11-12                            7789   \n",
       "\n",
       "   shared_teks_by_upload_date  \n",
       "0                     17579.0  \n",
       "1                     15287.0  \n",
       "2                     22798.0  \n",
       "3                     29729.0  \n",
       "4                     31792.0  "
      ]
     },
     "execution_count": 42,
     "metadata": {},
     "output_type": "execute_result"
    }
   ],
   "source": [
    "result_summary_df = exposure_keys_summary_df.merge(\n",
    "    new_tek_df, on=[\"sample_date_string\"], how=\"outer\")\n",
    "result_summary_df.head()"
   ]
  },
  {
   "cell_type": "code",
   "execution_count": 43,
   "metadata": {
    "collapsed": false,
    "execution": {
     "iopub.execute_input": "2020-11-16T23:22:38.166645Z",
     "iopub.status.busy": "2020-11-16T23:22:38.166074Z",
     "iopub.status.idle": "2020-11-16T23:22:38.169084Z",
     "shell.execute_reply": "2020-11-16T23:22:38.169648Z"
    },
    "papermill": {
     "duration": 0.073711,
     "end_time": "2020-11-16T23:22:38.169788",
     "exception": false,
     "start_time": "2020-11-16T23:22:38.096077",
     "status": "completed"
    },
    "pycharm": {
     "name": "#%%\n"
    },
    "tags": []
   },
   "outputs": [
    {
     "data": {
      "text/html": [
       "<div>\n",
       "<style scoped>\n",
       "    .dataframe tbody tr th:only-of-type {\n",
       "        vertical-align: middle;\n",
       "    }\n",
       "\n",
       "    .dataframe tbody tr th {\n",
       "        vertical-align: top;\n",
       "    }\n",
       "\n",
       "    .dataframe thead th {\n",
       "        text-align: right;\n",
       "    }\n",
       "</style>\n",
       "<table border=\"1\" class=\"dataframe\">\n",
       "  <thead>\n",
       "    <tr style=\"text-align: right;\">\n",
       "      <th></th>\n",
       "      <th>sample_date_string</th>\n",
       "      <th>shared_teks_by_generation_date</th>\n",
       "      <th>shared_teks_by_upload_date</th>\n",
       "      <th>shared_teks_uploaded_on_generation_date</th>\n",
       "    </tr>\n",
       "  </thead>\n",
       "  <tbody>\n",
       "    <tr>\n",
       "      <th>0</th>\n",
       "      <td>2020-11-16</td>\n",
       "      <td>194</td>\n",
       "      <td>17579.0</td>\n",
       "      <td>194.0</td>\n",
       "    </tr>\n",
       "    <tr>\n",
       "      <th>1</th>\n",
       "      <td>2020-11-15</td>\n",
       "      <td>1599</td>\n",
       "      <td>15287.0</td>\n",
       "      <td>224.0</td>\n",
       "    </tr>\n",
       "    <tr>\n",
       "      <th>2</th>\n",
       "      <td>2020-11-14</td>\n",
       "      <td>3044</td>\n",
       "      <td>22798.0</td>\n",
       "      <td>211.0</td>\n",
       "    </tr>\n",
       "    <tr>\n",
       "      <th>3</th>\n",
       "      <td>2020-11-13</td>\n",
       "      <td>5199</td>\n",
       "      <td>29729.0</td>\n",
       "      <td>306.0</td>\n",
       "    </tr>\n",
       "    <tr>\n",
       "      <th>4</th>\n",
       "      <td>2020-11-12</td>\n",
       "      <td>7789</td>\n",
       "      <td>31792.0</td>\n",
       "      <td>317.0</td>\n",
       "    </tr>\n",
       "  </tbody>\n",
       "</table>\n",
       "</div>"
      ],
      "text/plain": [
       "  sample_date_string  shared_teks_by_generation_date  \\\n",
       "0         2020-11-16                             194   \n",
       "1         2020-11-15                            1599   \n",
       "2         2020-11-14                            3044   \n",
       "3         2020-11-13                            5199   \n",
       "4         2020-11-12                            7789   \n",
       "\n",
       "   shared_teks_by_upload_date  shared_teks_uploaded_on_generation_date  \n",
       "0                     17579.0                                    194.0  \n",
       "1                     15287.0                                    224.0  \n",
       "2                     22798.0                                    211.0  \n",
       "3                     29729.0                                    306.0  \n",
       "4                     31792.0                                    317.0  "
      ]
     },
     "execution_count": 43,
     "metadata": {},
     "output_type": "execute_result"
    }
   ],
   "source": [
    "result_summary_df = result_summary_df.merge(\n",
    "    shared_teks_uploaded_on_generation_date_df, on=[\"sample_date_string\"], how=\"outer\")\n",
    "result_summary_df.head()"
   ]
  },
  {
   "cell_type": "code",
   "execution_count": 44,
   "metadata": {
    "collapsed": false,
    "execution": {
     "iopub.execute_input": "2020-11-16T23:22:38.298268Z",
     "iopub.status.busy": "2020-11-16T23:22:38.297607Z",
     "iopub.status.idle": "2020-11-16T23:22:38.300635Z",
     "shell.execute_reply": "2020-11-16T23:22:38.300071Z"
    },
    "papermill": {
     "duration": 0.072641,
     "end_time": "2020-11-16T23:22:38.300761",
     "exception": false,
     "start_time": "2020-11-16T23:22:38.228120",
     "status": "completed"
    },
    "pycharm": {
     "name": "#%%\n"
    },
    "tags": []
   },
   "outputs": [
    {
     "data": {
      "text/html": [
       "<div>\n",
       "<style scoped>\n",
       "    .dataframe tbody tr th:only-of-type {\n",
       "        vertical-align: middle;\n",
       "    }\n",
       "\n",
       "    .dataframe tbody tr th {\n",
       "        vertical-align: top;\n",
       "    }\n",
       "\n",
       "    .dataframe thead th {\n",
       "        text-align: right;\n",
       "    }\n",
       "</style>\n",
       "<table border=\"1\" class=\"dataframe\">\n",
       "  <thead>\n",
       "    <tr style=\"text-align: right;\">\n",
       "      <th></th>\n",
       "      <th>sample_date_string</th>\n",
       "      <th>shared_teks_by_generation_date</th>\n",
       "      <th>shared_teks_by_upload_date</th>\n",
       "      <th>shared_teks_uploaded_on_generation_date</th>\n",
       "      <th>shared_diagnoses</th>\n",
       "    </tr>\n",
       "  </thead>\n",
       "  <tbody>\n",
       "    <tr>\n",
       "      <th>0</th>\n",
       "      <td>2020-11-16</td>\n",
       "      <td>194.0</td>\n",
       "      <td>17579.0</td>\n",
       "      <td>194.0</td>\n",
       "      <td>1741.0</td>\n",
       "    </tr>\n",
       "    <tr>\n",
       "      <th>1</th>\n",
       "      <td>2020-11-15</td>\n",
       "      <td>1599.0</td>\n",
       "      <td>15287.0</td>\n",
       "      <td>224.0</td>\n",
       "      <td>1611.0</td>\n",
       "    </tr>\n",
       "    <tr>\n",
       "      <th>2</th>\n",
       "      <td>2020-11-14</td>\n",
       "      <td>3044.0</td>\n",
       "      <td>22798.0</td>\n",
       "      <td>211.0</td>\n",
       "      <td>2281.0</td>\n",
       "    </tr>\n",
       "    <tr>\n",
       "      <th>3</th>\n",
       "      <td>2020-11-13</td>\n",
       "      <td>5199.0</td>\n",
       "      <td>29729.0</td>\n",
       "      <td>306.0</td>\n",
       "      <td>2890.0</td>\n",
       "    </tr>\n",
       "    <tr>\n",
       "      <th>4</th>\n",
       "      <td>2020-11-12</td>\n",
       "      <td>7789.0</td>\n",
       "      <td>31792.0</td>\n",
       "      <td>317.0</td>\n",
       "      <td>3205.0</td>\n",
       "    </tr>\n",
       "  </tbody>\n",
       "</table>\n",
       "</div>"
      ],
      "text/plain": [
       "  sample_date_string  shared_teks_by_generation_date  \\\n",
       "0         2020-11-16                           194.0   \n",
       "1         2020-11-15                          1599.0   \n",
       "2         2020-11-14                          3044.0   \n",
       "3         2020-11-13                          5199.0   \n",
       "4         2020-11-12                          7789.0   \n",
       "\n",
       "   shared_teks_by_upload_date  shared_teks_uploaded_on_generation_date  \\\n",
       "0                     17579.0                                    194.0   \n",
       "1                     15287.0                                    224.0   \n",
       "2                     22798.0                                    211.0   \n",
       "3                     29729.0                                    306.0   \n",
       "4                     31792.0                                    317.0   \n",
       "\n",
       "   shared_diagnoses  \n",
       "0            1741.0  \n",
       "1            1611.0  \n",
       "2            2281.0  \n",
       "3            2890.0  \n",
       "4            3205.0  "
      ]
     },
     "execution_count": 44,
     "metadata": {},
     "output_type": "execute_result"
    }
   ],
   "source": [
    "result_summary_df = result_summary_df.merge(\n",
    "    estimated_shared_diagnoses_df, on=[\"sample_date_string\"], how=\"outer\")\n",
    "result_summary_df.head()"
   ]
  },
  {
   "cell_type": "code",
   "execution_count": 45,
   "metadata": {
    "collapsed": false,
    "execution": {
     "iopub.execute_input": "2020-11-16T23:22:38.435978Z",
     "iopub.status.busy": "2020-11-16T23:22:38.435439Z",
     "iopub.status.idle": "2020-11-16T23:22:38.438040Z",
     "shell.execute_reply": "2020-11-16T23:22:38.438476Z"
    },
    "papermill": {
     "duration": 0.074615,
     "end_time": "2020-11-16T23:22:38.438618",
     "exception": false,
     "start_time": "2020-11-16T23:22:38.364003",
     "status": "completed"
    },
    "pycharm": {
     "name": "#%%\n"
    },
    "tags": []
   },
   "outputs": [
    {
     "data": {
      "text/html": [
       "<div>\n",
       "<style scoped>\n",
       "    .dataframe tbody tr th:only-of-type {\n",
       "        vertical-align: middle;\n",
       "    }\n",
       "\n",
       "    .dataframe tbody tr th {\n",
       "        vertical-align: top;\n",
       "    }\n",
       "\n",
       "    .dataframe thead th {\n",
       "        text-align: right;\n",
       "    }\n",
       "</style>\n",
       "<table border=\"1\" class=\"dataframe\">\n",
       "  <thead>\n",
       "    <tr style=\"text-align: right;\">\n",
       "      <th></th>\n",
       "      <th>sample_date_string</th>\n",
       "      <th>new_cases</th>\n",
       "      <th>covid_cases</th>\n",
       "      <th>shared_teks_by_generation_date</th>\n",
       "      <th>shared_teks_by_upload_date</th>\n",
       "      <th>shared_teks_uploaded_on_generation_date</th>\n",
       "      <th>shared_diagnoses</th>\n",
       "    </tr>\n",
       "  </thead>\n",
       "  <tbody>\n",
       "    <tr>\n",
       "      <th>0</th>\n",
       "      <td>2020-08-25</td>\n",
       "      <td>7117</td>\n",
       "      <td>6908.0</td>\n",
       "      <td>58.0</td>\n",
       "      <td>NaN</td>\n",
       "      <td>NaN</td>\n",
       "      <td>NaN</td>\n",
       "    </tr>\n",
       "    <tr>\n",
       "      <th>1</th>\n",
       "      <td>2020-08-26</td>\n",
       "      <td>7296</td>\n",
       "      <td>6997.0</td>\n",
       "      <td>75.0</td>\n",
       "      <td>NaN</td>\n",
       "      <td>NaN</td>\n",
       "      <td>NaN</td>\n",
       "    </tr>\n",
       "    <tr>\n",
       "      <th>2</th>\n",
       "      <td>2020-08-27</td>\n",
       "      <td>9658</td>\n",
       "      <td>7372.0</td>\n",
       "      <td>72.0</td>\n",
       "      <td>NaN</td>\n",
       "      <td>NaN</td>\n",
       "      <td>NaN</td>\n",
       "    </tr>\n",
       "    <tr>\n",
       "      <th>3</th>\n",
       "      <td>2020-08-28</td>\n",
       "      <td>9779</td>\n",
       "      <td>7605.0</td>\n",
       "      <td>59.0</td>\n",
       "      <td>NaN</td>\n",
       "      <td>NaN</td>\n",
       "      <td>NaN</td>\n",
       "    </tr>\n",
       "    <tr>\n",
       "      <th>4</th>\n",
       "      <td>2020-08-29</td>\n",
       "      <td>0</td>\n",
       "      <td>7605.0</td>\n",
       "      <td>49.0</td>\n",
       "      <td>NaN</td>\n",
       "      <td>NaN</td>\n",
       "      <td>NaN</td>\n",
       "    </tr>\n",
       "  </tbody>\n",
       "</table>\n",
       "</div>"
      ],
      "text/plain": [
       "  sample_date_string  new_cases  covid_cases  shared_teks_by_generation_date  \\\n",
       "0         2020-08-25       7117       6908.0                            58.0   \n",
       "1         2020-08-26       7296       6997.0                            75.0   \n",
       "2         2020-08-27       9658       7372.0                            72.0   \n",
       "3         2020-08-28       9779       7605.0                            59.0   \n",
       "4         2020-08-29          0       7605.0                            49.0   \n",
       "\n",
       "   shared_teks_by_upload_date  shared_teks_uploaded_on_generation_date  \\\n",
       "0                         NaN                                      NaN   \n",
       "1                         NaN                                      NaN   \n",
       "2                         NaN                                      NaN   \n",
       "3                         NaN                                      NaN   \n",
       "4                         NaN                                      NaN   \n",
       "\n",
       "   shared_diagnoses  \n",
       "0               NaN  \n",
       "1               NaN  \n",
       "2               NaN  \n",
       "3               NaN  \n",
       "4               NaN  "
      ]
     },
     "execution_count": 45,
     "metadata": {},
     "output_type": "execute_result"
    }
   ],
   "source": [
    "result_summary_df = confirmed_df.tail(daily_summary_days).merge(\n",
    "    result_summary_df, on=[\"sample_date_string\"], how=\"left\")\n",
    "result_summary_df.head()"
   ]
  },
  {
   "cell_type": "code",
   "execution_count": 46,
   "metadata": {
    "collapsed": false,
    "execution": {
     "iopub.execute_input": "2020-11-16T23:22:38.574147Z",
     "iopub.status.busy": "2020-11-16T23:22:38.560686Z",
     "iopub.status.idle": "2020-11-16T23:22:38.577285Z",
     "shell.execute_reply": "2020-11-16T23:22:38.576828Z"
    },
    "papermill": {
     "duration": 0.082804,
     "end_time": "2020-11-16T23:22:38.577399",
     "exception": false,
     "start_time": "2020-11-16T23:22:38.494595",
     "status": "completed"
    },
    "pycharm": {
     "name": "#%%\n"
    },
    "tags": []
   },
   "outputs": [
    {
     "data": {
      "text/html": [
       "<div>\n",
       "<style scoped>\n",
       "    .dataframe tbody tr th:only-of-type {\n",
       "        vertical-align: middle;\n",
       "    }\n",
       "\n",
       "    .dataframe tbody tr th {\n",
       "        vertical-align: top;\n",
       "    }\n",
       "\n",
       "    .dataframe thead th {\n",
       "        text-align: right;\n",
       "    }\n",
       "</style>\n",
       "<table border=\"1\" class=\"dataframe\">\n",
       "  <thead>\n",
       "    <tr style=\"text-align: right;\">\n",
       "      <th></th>\n",
       "      <th></th>\n",
       "      <th>new_cases</th>\n",
       "      <th>covid_cases</th>\n",
       "      <th>shared_teks_by_generation_date</th>\n",
       "      <th>shared_teks_by_upload_date</th>\n",
       "      <th>shared_teks_uploaded_on_generation_date</th>\n",
       "      <th>shared_diagnoses</th>\n",
       "    </tr>\n",
       "    <tr>\n",
       "      <th>sample_date</th>\n",
       "      <th>source_regions</th>\n",
       "      <th></th>\n",
       "      <th></th>\n",
       "      <th></th>\n",
       "      <th></th>\n",
       "      <th></th>\n",
       "      <th></th>\n",
       "    </tr>\n",
       "  </thead>\n",
       "  <tbody>\n",
       "    <tr>\n",
       "      <th>2020-11-16</th>\n",
       "      <th>ES,DE,DK,IE,IT,LV</th>\n",
       "      <td>46552</td>\n",
       "      <td>66033.0</td>\n",
       "      <td>194.0</td>\n",
       "      <td>17579.0</td>\n",
       "      <td>194.0</td>\n",
       "      <td>1741.0</td>\n",
       "    </tr>\n",
       "    <tr>\n",
       "      <th>2020-11-15</th>\n",
       "      <th>ES,DE,DK,IE,IT,LV</th>\n",
       "      <td>56096</td>\n",
       "      <td>73670.0</td>\n",
       "      <td>1599.0</td>\n",
       "      <td>15287.0</td>\n",
       "      <td>224.0</td>\n",
       "      <td>1611.0</td>\n",
       "    </tr>\n",
       "    <tr>\n",
       "      <th>2020-11-14</th>\n",
       "      <th>ES,DE,DK,IE,IT,LV</th>\n",
       "      <td>65322</td>\n",
       "      <td>73884.0</td>\n",
       "      <td>3044.0</td>\n",
       "      <td>22798.0</td>\n",
       "      <td>211.0</td>\n",
       "      <td>2281.0</td>\n",
       "    </tr>\n",
       "    <tr>\n",
       "      <th>2020-11-13</th>\n",
       "      <th>ES,DE,DK,IE,IT,LV</th>\n",
       "      <td>84819</td>\n",
       "      <td>73621.0</td>\n",
       "      <td>5199.0</td>\n",
       "      <td>29729.0</td>\n",
       "      <td>306.0</td>\n",
       "      <td>2890.0</td>\n",
       "    </tr>\n",
       "    <tr>\n",
       "      <th>2020-11-12</th>\n",
       "      <th>ES,DE,DK,IE,IT,LV</th>\n",
       "      <td>76143</td>\n",
       "      <td>73029.0</td>\n",
       "      <td>7789.0</td>\n",
       "      <td>31792.0</td>\n",
       "      <td>317.0</td>\n",
       "      <td>3205.0</td>\n",
       "    </tr>\n",
       "  </tbody>\n",
       "</table>\n",
       "</div>"
      ],
      "text/plain": [
       "                               new_cases  covid_cases  \\\n",
       "sample_date source_regions                              \n",
       "2020-11-16  ES,DE,DK,IE,IT,LV      46552      66033.0   \n",
       "2020-11-15  ES,DE,DK,IE,IT,LV      56096      73670.0   \n",
       "2020-11-14  ES,DE,DK,IE,IT,LV      65322      73884.0   \n",
       "2020-11-13  ES,DE,DK,IE,IT,LV      84819      73621.0   \n",
       "2020-11-12  ES,DE,DK,IE,IT,LV      76143      73029.0   \n",
       "\n",
       "                               shared_teks_by_generation_date  \\\n",
       "sample_date source_regions                                      \n",
       "2020-11-16  ES,DE,DK,IE,IT,LV                           194.0   \n",
       "2020-11-15  ES,DE,DK,IE,IT,LV                          1599.0   \n",
       "2020-11-14  ES,DE,DK,IE,IT,LV                          3044.0   \n",
       "2020-11-13  ES,DE,DK,IE,IT,LV                          5199.0   \n",
       "2020-11-12  ES,DE,DK,IE,IT,LV                          7789.0   \n",
       "\n",
       "                               shared_teks_by_upload_date  \\\n",
       "sample_date source_regions                                  \n",
       "2020-11-16  ES,DE,DK,IE,IT,LV                     17579.0   \n",
       "2020-11-15  ES,DE,DK,IE,IT,LV                     15287.0   \n",
       "2020-11-14  ES,DE,DK,IE,IT,LV                     22798.0   \n",
       "2020-11-13  ES,DE,DK,IE,IT,LV                     29729.0   \n",
       "2020-11-12  ES,DE,DK,IE,IT,LV                     31792.0   \n",
       "\n",
       "                               shared_teks_uploaded_on_generation_date  \\\n",
       "sample_date source_regions                                               \n",
       "2020-11-16  ES,DE,DK,IE,IT,LV                                    194.0   \n",
       "2020-11-15  ES,DE,DK,IE,IT,LV                                    224.0   \n",
       "2020-11-14  ES,DE,DK,IE,IT,LV                                    211.0   \n",
       "2020-11-13  ES,DE,DK,IE,IT,LV                                    306.0   \n",
       "2020-11-12  ES,DE,DK,IE,IT,LV                                    317.0   \n",
       "\n",
       "                               shared_diagnoses  \n",
       "sample_date source_regions                       \n",
       "2020-11-16  ES,DE,DK,IE,IT,LV            1741.0  \n",
       "2020-11-15  ES,DE,DK,IE,IT,LV            1611.0  \n",
       "2020-11-14  ES,DE,DK,IE,IT,LV            2281.0  \n",
       "2020-11-13  ES,DE,DK,IE,IT,LV            2890.0  \n",
       "2020-11-12  ES,DE,DK,IE,IT,LV            3205.0  "
      ]
     },
     "execution_count": 46,
     "metadata": {},
     "output_type": "execute_result"
    }
   ],
   "source": [
    "result_summary_df[\"sample_date\"] = pd.to_datetime(result_summary_df.sample_date_string)\n",
    "result_summary_df = result_summary_df.merge(source_regions_for_summary_df, how=\"left\")\n",
    "result_summary_df.set_index([\"sample_date\", \"source_regions\"], inplace=True)\n",
    "result_summary_df.drop(columns=[\"sample_date_string\"], inplace=True)\n",
    "result_summary_df.sort_index(ascending=False, inplace=True)\n",
    "result_summary_df.head()"
   ]
  },
  {
   "cell_type": "code",
   "execution_count": 47,
   "metadata": {
    "execution": {
     "iopub.execute_input": "2020-11-16T23:22:38.716509Z",
     "iopub.status.busy": "2020-11-16T23:22:38.715789Z",
     "iopub.status.idle": "2020-11-16T23:22:38.719292Z",
     "shell.execute_reply": "2020-11-16T23:22:38.718826Z"
    },
    "papermill": {
     "duration": 0.085114,
     "end_time": "2020-11-16T23:22:38.719410",
     "exception": false,
     "start_time": "2020-11-16T23:22:38.634296",
     "status": "completed"
    },
    "tags": []
   },
   "outputs": [
    {
     "data": {
      "text/html": [
       "<div>\n",
       "<style scoped>\n",
       "    .dataframe tbody tr th:only-of-type {\n",
       "        vertical-align: middle;\n",
       "    }\n",
       "\n",
       "    .dataframe tbody tr th {\n",
       "        vertical-align: top;\n",
       "    }\n",
       "\n",
       "    .dataframe thead th {\n",
       "        text-align: right;\n",
       "    }\n",
       "</style>\n",
       "<table border=\"1\" class=\"dataframe\">\n",
       "  <thead>\n",
       "    <tr style=\"text-align: right;\">\n",
       "      <th></th>\n",
       "      <th></th>\n",
       "      <th>new_cases</th>\n",
       "      <th>covid_cases</th>\n",
       "      <th>shared_teks_by_generation_date</th>\n",
       "      <th>shared_teks_by_upload_date</th>\n",
       "      <th>shared_teks_uploaded_on_generation_date</th>\n",
       "      <th>shared_diagnoses</th>\n",
       "      <th>teks_per_shared_diagnosis</th>\n",
       "      <th>shared_diagnoses_per_covid_case</th>\n",
       "    </tr>\n",
       "    <tr>\n",
       "      <th>sample_date</th>\n",
       "      <th>source_regions</th>\n",
       "      <th></th>\n",
       "      <th></th>\n",
       "      <th></th>\n",
       "      <th></th>\n",
       "      <th></th>\n",
       "      <th></th>\n",
       "      <th></th>\n",
       "      <th></th>\n",
       "    </tr>\n",
       "  </thead>\n",
       "  <tbody>\n",
       "    <tr>\n",
       "      <th>2020-11-16</th>\n",
       "      <th>ES,DE,DK,IE,IT,LV</th>\n",
       "      <td>46552</td>\n",
       "      <td>66033</td>\n",
       "      <td>194</td>\n",
       "      <td>17579</td>\n",
       "      <td>194</td>\n",
       "      <td>1741</td>\n",
       "      <td>10.097071</td>\n",
       "      <td>0.026366</td>\n",
       "    </tr>\n",
       "    <tr>\n",
       "      <th>2020-11-15</th>\n",
       "      <th>ES,DE,DK,IE,IT,LV</th>\n",
       "      <td>56096</td>\n",
       "      <td>73670</td>\n",
       "      <td>1599</td>\n",
       "      <td>15287</td>\n",
       "      <td>224</td>\n",
       "      <td>1611</td>\n",
       "      <td>9.489137</td>\n",
       "      <td>0.021868</td>\n",
       "    </tr>\n",
       "    <tr>\n",
       "      <th>2020-11-14</th>\n",
       "      <th>ES,DE,DK,IE,IT,LV</th>\n",
       "      <td>65322</td>\n",
       "      <td>73884</td>\n",
       "      <td>3044</td>\n",
       "      <td>22798</td>\n",
       "      <td>211</td>\n",
       "      <td>2281</td>\n",
       "      <td>9.994739</td>\n",
       "      <td>0.030873</td>\n",
       "    </tr>\n",
       "    <tr>\n",
       "      <th>2020-11-13</th>\n",
       "      <th>ES,DE,DK,IE,IT,LV</th>\n",
       "      <td>84819</td>\n",
       "      <td>73621</td>\n",
       "      <td>5199</td>\n",
       "      <td>29729</td>\n",
       "      <td>306</td>\n",
       "      <td>2890</td>\n",
       "      <td>10.286851</td>\n",
       "      <td>0.039255</td>\n",
       "    </tr>\n",
       "    <tr>\n",
       "      <th>2020-11-12</th>\n",
       "      <th>ES,DE,DK,IE,IT,LV</th>\n",
       "      <td>76143</td>\n",
       "      <td>73029</td>\n",
       "      <td>7789</td>\n",
       "      <td>31792</td>\n",
       "      <td>317</td>\n",
       "      <td>3205</td>\n",
       "      <td>9.919501</td>\n",
       "      <td>0.043887</td>\n",
       "    </tr>\n",
       "    <tr>\n",
       "      <th>2020-11-11</th>\n",
       "      <th>ES,DE,DK,IE,IT,LV</th>\n",
       "      <td>74177</td>\n",
       "      <td>72741</td>\n",
       "      <td>10238</td>\n",
       "      <td>30445</td>\n",
       "      <td>300</td>\n",
       "      <td>3029</td>\n",
       "      <td>10.051172</td>\n",
       "      <td>0.041641</td>\n",
       "    </tr>\n",
       "    <tr>\n",
       "      <th>2020-11-10</th>\n",
       "      <th>ES,DE,DK,IE,IT,LV</th>\n",
       "      <td>59124</td>\n",
       "      <td>72476</td>\n",
       "      <td>12589</td>\n",
       "      <td>21163</td>\n",
       "      <td>292</td>\n",
       "      <td>2086</td>\n",
       "      <td>10.145254</td>\n",
       "      <td>0.028782</td>\n",
       "    </tr>\n",
       "    <tr>\n",
       "      <th>2020-11-09</th>\n",
       "      <th>ES,DE,DK,IE,IT,LV</th>\n",
       "      <td>100008</td>\n",
       "      <td>72329</td>\n",
       "      <td>14474</td>\n",
       "      <td>16517</td>\n",
       "      <td>236</td>\n",
       "      <td>1683</td>\n",
       "      <td>9.814023</td>\n",
       "      <td>0.023269</td>\n",
       "    </tr>\n",
       "    <tr>\n",
       "      <th>2020-11-08</th>\n",
       "      <th>ES,DE,IE,IT,LV</th>\n",
       "      <td>56547</td>\n",
       "      <td>71025</td>\n",
       "      <td>15341</td>\n",
       "      <td>16816</td>\n",
       "      <td>209</td>\n",
       "      <td>1809</td>\n",
       "      <td>9.295744</td>\n",
       "      <td>0.025470</td>\n",
       "    </tr>\n",
       "    <tr>\n",
       "      <th>2020-11-07</th>\n",
       "      <th>ES,DE,IE,IT,LV</th>\n",
       "      <td>62050</td>\n",
       "      <td>69596</td>\n",
       "      <td>16443</td>\n",
       "      <td>23688</td>\n",
       "      <td>313</td>\n",
       "      <td>2490</td>\n",
       "      <td>9.513253</td>\n",
       "      <td>0.035778</td>\n",
       "    </tr>\n",
       "    <tr>\n",
       "      <th>2020-11-06</th>\n",
       "      <th>ES,DE,IE,IT,LV</th>\n",
       "      <td>79454</td>\n",
       "      <td>68044</td>\n",
       "      <td>18049</td>\n",
       "      <td>28583</td>\n",
       "      <td>263</td>\n",
       "      <td>2909</td>\n",
       "      <td>9.825713</td>\n",
       "      <td>0.042752</td>\n",
       "    </tr>\n",
       "    <tr>\n",
       "      <th>2020-11-05</th>\n",
       "      <th>ES,DE,IE,IT,LV</th>\n",
       "      <td>73194</td>\n",
       "      <td>67010</td>\n",
       "      <td>20128</td>\n",
       "      <td>26573</td>\n",
       "      <td>267</td>\n",
       "      <td>2696</td>\n",
       "      <td>9.856454</td>\n",
       "      <td>0.040233</td>\n",
       "    </tr>\n",
       "    <tr>\n",
       "      <th>2020-11-04</th>\n",
       "      <th>ES,DE,IE,IT,LV</th>\n",
       "      <td>70966</td>\n",
       "      <td>66020</td>\n",
       "      <td>22117</td>\n",
       "      <td>28247</td>\n",
       "      <td>344</td>\n",
       "      <td>2851</td>\n",
       "      <td>9.907752</td>\n",
       "      <td>0.043184</td>\n",
       "    </tr>\n",
       "    <tr>\n",
       "      <th>2020-11-03</th>\n",
       "      <th>ES,DE,IE,IT,LV</th>\n",
       "      <td>57154</td>\n",
       "      <td>64104</td>\n",
       "      <td>23958</td>\n",
       "      <td>20613</td>\n",
       "      <td>280</td>\n",
       "      <td>1961</td>\n",
       "      <td>10.511474</td>\n",
       "      <td>0.030591</td>\n",
       "    </tr>\n",
       "    <tr>\n",
       "      <th>2020-11-02</th>\n",
       "      <th>ES,DE,IE,IT,LV</th>\n",
       "      <td>97809</td>\n",
       "      <td>62775</td>\n",
       "      <td>24206</td>\n",
       "      <td>16927</td>\n",
       "      <td>264</td>\n",
       "      <td>1711</td>\n",
       "      <td>9.893045</td>\n",
       "      <td>0.027256</td>\n",
       "    </tr>\n",
       "    <tr>\n",
       "      <th>2020-11-01</th>\n",
       "      <th>ES,DE,IE,IT,LV</th>\n",
       "      <td>46545</td>\n",
       "      <td>60713</td>\n",
       "      <td>23893</td>\n",
       "      <td>16848</td>\n",
       "      <td>277</td>\n",
       "      <td>1842</td>\n",
       "      <td>9.146580</td>\n",
       "      <td>0.030339</td>\n",
       "    </tr>\n",
       "    <tr>\n",
       "      <th>2020-10-31</th>\n",
       "      <th>ES,DE,IE,IT,LV</th>\n",
       "      <td>51184</td>\n",
       "      <td>58624</td>\n",
       "      <td>23407</td>\n",
       "      <td>20328</td>\n",
       "      <td>305</td>\n",
       "      <td>2163</td>\n",
       "      <td>9.398058</td>\n",
       "      <td>0.036896</td>\n",
       "    </tr>\n",
       "    <tr>\n",
       "      <th>2020-10-30</th>\n",
       "      <th>ES,DE,IE,IT,LV</th>\n",
       "      <td>72219</td>\n",
       "      <td>56297</td>\n",
       "      <td>22997</td>\n",
       "      <td>100215</td>\n",
       "      <td>382</td>\n",
       "      <td>0</td>\n",
       "      <td>0.000000</td>\n",
       "      <td>0.000000</td>\n",
       "    </tr>\n",
       "    <tr>\n",
       "      <th>2020-10-29</th>\n",
       "      <th>ES</th>\n",
       "      <td>23580</td>\n",
       "      <td>19115</td>\n",
       "      <td>22747</td>\n",
       "      <td>1847</td>\n",
       "      <td>397</td>\n",
       "      <td>397</td>\n",
       "      <td>4.652393</td>\n",
       "      <td>0.020769</td>\n",
       "    </tr>\n",
       "    <tr>\n",
       "      <th>2020-10-28</th>\n",
       "      <th>ES</th>\n",
       "      <td>19765</td>\n",
       "      <td>18744</td>\n",
       "      <td>22541</td>\n",
       "      <td>1933</td>\n",
       "      <td>406</td>\n",
       "      <td>406</td>\n",
       "      <td>4.761084</td>\n",
       "      <td>0.021660</td>\n",
       "    </tr>\n",
       "    <tr>\n",
       "      <th>2020-10-27</th>\n",
       "      <th>ES</th>\n",
       "      <td>18418</td>\n",
       "      <td>18345</td>\n",
       "      <td>22580</td>\n",
       "      <td>988</td>\n",
       "      <td>231</td>\n",
       "      <td>231</td>\n",
       "      <td>4.277056</td>\n",
       "      <td>0.012592</td>\n",
       "    </tr>\n",
       "    <tr>\n",
       "      <th>2020-10-26</th>\n",
       "      <th>ES</th>\n",
       "      <td>52188</td>\n",
       "      <td>17696</td>\n",
       "      <td>22617</td>\n",
       "      <td>994</td>\n",
       "      <td>215</td>\n",
       "      <td>215</td>\n",
       "      <td>4.623256</td>\n",
       "      <td>0.012150</td>\n",
       "    </tr>\n",
       "    <tr>\n",
       "      <th>2020-10-25</th>\n",
       "      <th>ES</th>\n",
       "      <td>0</td>\n",
       "      <td>15653</td>\n",
       "      <td>21944</td>\n",
       "      <td>679</td>\n",
       "      <td>179</td>\n",
       "      <td>179</td>\n",
       "      <td>3.793296</td>\n",
       "      <td>0.011436</td>\n",
       "    </tr>\n",
       "    <tr>\n",
       "      <th>2020-10-24</th>\n",
       "      <th>ES</th>\n",
       "      <td>0</td>\n",
       "      <td>15653</td>\n",
       "      <td>20758</td>\n",
       "      <td>703</td>\n",
       "      <td>177</td>\n",
       "      <td>177</td>\n",
       "      <td>3.971751</td>\n",
       "      <td>0.011308</td>\n",
       "    </tr>\n",
       "    <tr>\n",
       "      <th>2020-10-23</th>\n",
       "      <th>ES</th>\n",
       "      <td>19851</td>\n",
       "      <td>15653</td>\n",
       "      <td>19712</td>\n",
       "      <td>769</td>\n",
       "      <td>167</td>\n",
       "      <td>167</td>\n",
       "      <td>4.604790</td>\n",
       "      <td>0.010669</td>\n",
       "    </tr>\n",
       "    <tr>\n",
       "      <th>2020-10-22</th>\n",
       "      <th>ES</th>\n",
       "      <td>20986</td>\n",
       "      <td>14987</td>\n",
       "      <td>17299</td>\n",
       "      <td>726</td>\n",
       "      <td>180</td>\n",
       "      <td>180</td>\n",
       "      <td>4.033333</td>\n",
       "      <td>0.012010</td>\n",
       "    </tr>\n",
       "    <tr>\n",
       "      <th>2020-10-21</th>\n",
       "      <th>ES</th>\n",
       "      <td>16973</td>\n",
       "      <td>13891</td>\n",
       "      <td>14775</td>\n",
       "      <td>841</td>\n",
       "      <td>157</td>\n",
       "      <td>157</td>\n",
       "      <td>5.356688</td>\n",
       "      <td>0.011302</td>\n",
       "    </tr>\n",
       "    <tr>\n",
       "      <th>2020-10-20</th>\n",
       "      <th>ES</th>\n",
       "      <td>13873</td>\n",
       "      <td>13177</td>\n",
       "      <td>13006</td>\n",
       "      <td>772</td>\n",
       "      <td>149</td>\n",
       "      <td>149</td>\n",
       "      <td>5.181208</td>\n",
       "      <td>0.011308</td>\n",
       "    </tr>\n",
       "  </tbody>\n",
       "</table>\n",
       "</div>"
      ],
      "text/plain": [
       "                               new_cases  covid_cases  \\\n",
       "sample_date source_regions                              \n",
       "2020-11-16  ES,DE,DK,IE,IT,LV      46552        66033   \n",
       "2020-11-15  ES,DE,DK,IE,IT,LV      56096        73670   \n",
       "2020-11-14  ES,DE,DK,IE,IT,LV      65322        73884   \n",
       "2020-11-13  ES,DE,DK,IE,IT,LV      84819        73621   \n",
       "2020-11-12  ES,DE,DK,IE,IT,LV      76143        73029   \n",
       "2020-11-11  ES,DE,DK,IE,IT,LV      74177        72741   \n",
       "2020-11-10  ES,DE,DK,IE,IT,LV      59124        72476   \n",
       "2020-11-09  ES,DE,DK,IE,IT,LV     100008        72329   \n",
       "2020-11-08  ES,DE,IE,IT,LV         56547        71025   \n",
       "2020-11-07  ES,DE,IE,IT,LV         62050        69596   \n",
       "2020-11-06  ES,DE,IE,IT,LV         79454        68044   \n",
       "2020-11-05  ES,DE,IE,IT,LV         73194        67010   \n",
       "2020-11-04  ES,DE,IE,IT,LV         70966        66020   \n",
       "2020-11-03  ES,DE,IE,IT,LV         57154        64104   \n",
       "2020-11-02  ES,DE,IE,IT,LV         97809        62775   \n",
       "2020-11-01  ES,DE,IE,IT,LV         46545        60713   \n",
       "2020-10-31  ES,DE,IE,IT,LV         51184        58624   \n",
       "2020-10-30  ES,DE,IE,IT,LV         72219        56297   \n",
       "2020-10-29  ES                     23580        19115   \n",
       "2020-10-28  ES                     19765        18744   \n",
       "2020-10-27  ES                     18418        18345   \n",
       "2020-10-26  ES                     52188        17696   \n",
       "2020-10-25  ES                         0        15653   \n",
       "2020-10-24  ES                         0        15653   \n",
       "2020-10-23  ES                     19851        15653   \n",
       "2020-10-22  ES                     20986        14987   \n",
       "2020-10-21  ES                     16973        13891   \n",
       "2020-10-20  ES                     13873        13177   \n",
       "\n",
       "                               shared_teks_by_generation_date  \\\n",
       "sample_date source_regions                                      \n",
       "2020-11-16  ES,DE,DK,IE,IT,LV                             194   \n",
       "2020-11-15  ES,DE,DK,IE,IT,LV                            1599   \n",
       "2020-11-14  ES,DE,DK,IE,IT,LV                            3044   \n",
       "2020-11-13  ES,DE,DK,IE,IT,LV                            5199   \n",
       "2020-11-12  ES,DE,DK,IE,IT,LV                            7789   \n",
       "2020-11-11  ES,DE,DK,IE,IT,LV                           10238   \n",
       "2020-11-10  ES,DE,DK,IE,IT,LV                           12589   \n",
       "2020-11-09  ES,DE,DK,IE,IT,LV                           14474   \n",
       "2020-11-08  ES,DE,IE,IT,LV                              15341   \n",
       "2020-11-07  ES,DE,IE,IT,LV                              16443   \n",
       "2020-11-06  ES,DE,IE,IT,LV                              18049   \n",
       "2020-11-05  ES,DE,IE,IT,LV                              20128   \n",
       "2020-11-04  ES,DE,IE,IT,LV                              22117   \n",
       "2020-11-03  ES,DE,IE,IT,LV                              23958   \n",
       "2020-11-02  ES,DE,IE,IT,LV                              24206   \n",
       "2020-11-01  ES,DE,IE,IT,LV                              23893   \n",
       "2020-10-31  ES,DE,IE,IT,LV                              23407   \n",
       "2020-10-30  ES,DE,IE,IT,LV                              22997   \n",
       "2020-10-29  ES                                          22747   \n",
       "2020-10-28  ES                                          22541   \n",
       "2020-10-27  ES                                          22580   \n",
       "2020-10-26  ES                                          22617   \n",
       "2020-10-25  ES                                          21944   \n",
       "2020-10-24  ES                                          20758   \n",
       "2020-10-23  ES                                          19712   \n",
       "2020-10-22  ES                                          17299   \n",
       "2020-10-21  ES                                          14775   \n",
       "2020-10-20  ES                                          13006   \n",
       "\n",
       "                               shared_teks_by_upload_date  \\\n",
       "sample_date source_regions                                  \n",
       "2020-11-16  ES,DE,DK,IE,IT,LV                       17579   \n",
       "2020-11-15  ES,DE,DK,IE,IT,LV                       15287   \n",
       "2020-11-14  ES,DE,DK,IE,IT,LV                       22798   \n",
       "2020-11-13  ES,DE,DK,IE,IT,LV                       29729   \n",
       "2020-11-12  ES,DE,DK,IE,IT,LV                       31792   \n",
       "2020-11-11  ES,DE,DK,IE,IT,LV                       30445   \n",
       "2020-11-10  ES,DE,DK,IE,IT,LV                       21163   \n",
       "2020-11-09  ES,DE,DK,IE,IT,LV                       16517   \n",
       "2020-11-08  ES,DE,IE,IT,LV                          16816   \n",
       "2020-11-07  ES,DE,IE,IT,LV                          23688   \n",
       "2020-11-06  ES,DE,IE,IT,LV                          28583   \n",
       "2020-11-05  ES,DE,IE,IT,LV                          26573   \n",
       "2020-11-04  ES,DE,IE,IT,LV                          28247   \n",
       "2020-11-03  ES,DE,IE,IT,LV                          20613   \n",
       "2020-11-02  ES,DE,IE,IT,LV                          16927   \n",
       "2020-11-01  ES,DE,IE,IT,LV                          16848   \n",
       "2020-10-31  ES,DE,IE,IT,LV                          20328   \n",
       "2020-10-30  ES,DE,IE,IT,LV                         100215   \n",
       "2020-10-29  ES                                       1847   \n",
       "2020-10-28  ES                                       1933   \n",
       "2020-10-27  ES                                        988   \n",
       "2020-10-26  ES                                        994   \n",
       "2020-10-25  ES                                        679   \n",
       "2020-10-24  ES                                        703   \n",
       "2020-10-23  ES                                        769   \n",
       "2020-10-22  ES                                        726   \n",
       "2020-10-21  ES                                        841   \n",
       "2020-10-20  ES                                        772   \n",
       "\n",
       "                               shared_teks_uploaded_on_generation_date  \\\n",
       "sample_date source_regions                                               \n",
       "2020-11-16  ES,DE,DK,IE,IT,LV                                      194   \n",
       "2020-11-15  ES,DE,DK,IE,IT,LV                                      224   \n",
       "2020-11-14  ES,DE,DK,IE,IT,LV                                      211   \n",
       "2020-11-13  ES,DE,DK,IE,IT,LV                                      306   \n",
       "2020-11-12  ES,DE,DK,IE,IT,LV                                      317   \n",
       "2020-11-11  ES,DE,DK,IE,IT,LV                                      300   \n",
       "2020-11-10  ES,DE,DK,IE,IT,LV                                      292   \n",
       "2020-11-09  ES,DE,DK,IE,IT,LV                                      236   \n",
       "2020-11-08  ES,DE,IE,IT,LV                                         209   \n",
       "2020-11-07  ES,DE,IE,IT,LV                                         313   \n",
       "2020-11-06  ES,DE,IE,IT,LV                                         263   \n",
       "2020-11-05  ES,DE,IE,IT,LV                                         267   \n",
       "2020-11-04  ES,DE,IE,IT,LV                                         344   \n",
       "2020-11-03  ES,DE,IE,IT,LV                                         280   \n",
       "2020-11-02  ES,DE,IE,IT,LV                                         264   \n",
       "2020-11-01  ES,DE,IE,IT,LV                                         277   \n",
       "2020-10-31  ES,DE,IE,IT,LV                                         305   \n",
       "2020-10-30  ES,DE,IE,IT,LV                                         382   \n",
       "2020-10-29  ES                                                     397   \n",
       "2020-10-28  ES                                                     406   \n",
       "2020-10-27  ES                                                     231   \n",
       "2020-10-26  ES                                                     215   \n",
       "2020-10-25  ES                                                     179   \n",
       "2020-10-24  ES                                                     177   \n",
       "2020-10-23  ES                                                     167   \n",
       "2020-10-22  ES                                                     180   \n",
       "2020-10-21  ES                                                     157   \n",
       "2020-10-20  ES                                                     149   \n",
       "\n",
       "                               shared_diagnoses  teks_per_shared_diagnosis  \\\n",
       "sample_date source_regions                                                   \n",
       "2020-11-16  ES,DE,DK,IE,IT,LV              1741                  10.097071   \n",
       "2020-11-15  ES,DE,DK,IE,IT,LV              1611                   9.489137   \n",
       "2020-11-14  ES,DE,DK,IE,IT,LV              2281                   9.994739   \n",
       "2020-11-13  ES,DE,DK,IE,IT,LV              2890                  10.286851   \n",
       "2020-11-12  ES,DE,DK,IE,IT,LV              3205                   9.919501   \n",
       "2020-11-11  ES,DE,DK,IE,IT,LV              3029                  10.051172   \n",
       "2020-11-10  ES,DE,DK,IE,IT,LV              2086                  10.145254   \n",
       "2020-11-09  ES,DE,DK,IE,IT,LV              1683                   9.814023   \n",
       "2020-11-08  ES,DE,IE,IT,LV                 1809                   9.295744   \n",
       "2020-11-07  ES,DE,IE,IT,LV                 2490                   9.513253   \n",
       "2020-11-06  ES,DE,IE,IT,LV                 2909                   9.825713   \n",
       "2020-11-05  ES,DE,IE,IT,LV                 2696                   9.856454   \n",
       "2020-11-04  ES,DE,IE,IT,LV                 2851                   9.907752   \n",
       "2020-11-03  ES,DE,IE,IT,LV                 1961                  10.511474   \n",
       "2020-11-02  ES,DE,IE,IT,LV                 1711                   9.893045   \n",
       "2020-11-01  ES,DE,IE,IT,LV                 1842                   9.146580   \n",
       "2020-10-31  ES,DE,IE,IT,LV                 2163                   9.398058   \n",
       "2020-10-30  ES,DE,IE,IT,LV                    0                   0.000000   \n",
       "2020-10-29  ES                              397                   4.652393   \n",
       "2020-10-28  ES                              406                   4.761084   \n",
       "2020-10-27  ES                              231                   4.277056   \n",
       "2020-10-26  ES                              215                   4.623256   \n",
       "2020-10-25  ES                              179                   3.793296   \n",
       "2020-10-24  ES                              177                   3.971751   \n",
       "2020-10-23  ES                              167                   4.604790   \n",
       "2020-10-22  ES                              180                   4.033333   \n",
       "2020-10-21  ES                              157                   5.356688   \n",
       "2020-10-20  ES                              149                   5.181208   \n",
       "\n",
       "                               shared_diagnoses_per_covid_case  \n",
       "sample_date source_regions                                      \n",
       "2020-11-16  ES,DE,DK,IE,IT,LV                         0.026366  \n",
       "2020-11-15  ES,DE,DK,IE,IT,LV                         0.021868  \n",
       "2020-11-14  ES,DE,DK,IE,IT,LV                         0.030873  \n",
       "2020-11-13  ES,DE,DK,IE,IT,LV                         0.039255  \n",
       "2020-11-12  ES,DE,DK,IE,IT,LV                         0.043887  \n",
       "2020-11-11  ES,DE,DK,IE,IT,LV                         0.041641  \n",
       "2020-11-10  ES,DE,DK,IE,IT,LV                         0.028782  \n",
       "2020-11-09  ES,DE,DK,IE,IT,LV                         0.023269  \n",
       "2020-11-08  ES,DE,IE,IT,LV                            0.025470  \n",
       "2020-11-07  ES,DE,IE,IT,LV                            0.035778  \n",
       "2020-11-06  ES,DE,IE,IT,LV                            0.042752  \n",
       "2020-11-05  ES,DE,IE,IT,LV                            0.040233  \n",
       "2020-11-04  ES,DE,IE,IT,LV                            0.043184  \n",
       "2020-11-03  ES,DE,IE,IT,LV                            0.030591  \n",
       "2020-11-02  ES,DE,IE,IT,LV                            0.027256  \n",
       "2020-11-01  ES,DE,IE,IT,LV                            0.030339  \n",
       "2020-10-31  ES,DE,IE,IT,LV                            0.036896  \n",
       "2020-10-30  ES,DE,IE,IT,LV                            0.000000  \n",
       "2020-10-29  ES                                        0.020769  \n",
       "2020-10-28  ES                                        0.021660  \n",
       "2020-10-27  ES                                        0.012592  \n",
       "2020-10-26  ES                                        0.012150  \n",
       "2020-10-25  ES                                        0.011436  \n",
       "2020-10-24  ES                                        0.011308  \n",
       "2020-10-23  ES                                        0.010669  \n",
       "2020-10-22  ES                                        0.012010  \n",
       "2020-10-21  ES                                        0.011302  \n",
       "2020-10-20  ES                                        0.011308  "
      ]
     },
     "execution_count": 47,
     "metadata": {},
     "output_type": "execute_result"
    }
   ],
   "source": [
    "with pd.option_context(\"mode.use_inf_as_na\", True):\n",
    "    result_summary_df = result_summary_df.fillna(0).astype(int)\n",
    "    result_summary_df[\"teks_per_shared_diagnosis\"] = \\\n",
    "        (result_summary_df.shared_teks_by_upload_date / result_summary_df.shared_diagnoses).fillna(0)\n",
    "    result_summary_df[\"shared_diagnoses_per_covid_case\"] = \\\n",
    "        (result_summary_df.shared_diagnoses / result_summary_df.covid_cases).fillna(0)\n",
    "\n",
    "result_summary_df.head(daily_plot_days)"
   ]
  },
  {
   "cell_type": "code",
   "execution_count": 48,
   "metadata": {
    "collapsed": false,
    "execution": {
     "iopub.execute_input": "2020-11-16T23:22:38.839892Z",
     "iopub.status.busy": "2020-11-16T23:22:38.839302Z",
     "iopub.status.idle": "2020-11-16T23:22:38.861022Z",
     "shell.execute_reply": "2020-11-16T23:22:38.861779Z"
    },
    "papermill": {
     "duration": 0.084545,
     "end_time": "2020-11-16T23:22:38.861969",
     "exception": false,
     "start_time": "2020-11-16T23:22:38.777424",
     "status": "completed"
    },
    "pycharm": {
     "name": "#%%\n"
    },
    "tags": []
   },
   "outputs": [
    {
     "data": {
      "text/html": [
       "<div>\n",
       "<style scoped>\n",
       "    .dataframe tbody tr th:only-of-type {\n",
       "        vertical-align: middle;\n",
       "    }\n",
       "\n",
       "    .dataframe tbody tr th {\n",
       "        vertical-align: top;\n",
       "    }\n",
       "\n",
       "    .dataframe thead th {\n",
       "        text-align: right;\n",
       "    }\n",
       "</style>\n",
       "<table border=\"1\" class=\"dataframe\">\n",
       "  <thead>\n",
       "    <tr style=\"text-align: right;\">\n",
       "      <th></th>\n",
       "      <th></th>\n",
       "      <th>covid_cases</th>\n",
       "      <th>shared_teks_by_generation_date</th>\n",
       "      <th>shared_teks_by_upload_date</th>\n",
       "      <th>shared_diagnoses</th>\n",
       "      <th>teks_per_shared_diagnosis</th>\n",
       "      <th>shared_diagnoses_per_covid_case</th>\n",
       "    </tr>\n",
       "    <tr>\n",
       "      <th>sample_date</th>\n",
       "      <th>source_regions</th>\n",
       "      <th></th>\n",
       "      <th></th>\n",
       "      <th></th>\n",
       "      <th></th>\n",
       "      <th></th>\n",
       "      <th></th>\n",
       "    </tr>\n",
       "  </thead>\n",
       "  <tbody>\n",
       "    <tr>\n",
       "      <th>2020-11-16</th>\n",
       "      <th>ES,DE,DK,IE,IT,LV</th>\n",
       "      <td>505454</td>\n",
       "      <td>40652</td>\n",
       "      <td>168793</td>\n",
       "      <td>16843</td>\n",
       "      <td>10.021552</td>\n",
       "      <td>0.033323</td>\n",
       "    </tr>\n",
       "    <tr>\n",
       "      <th>2020-11-15</th>\n",
       "      <th>ES,DE,DK,IE,IT,LV</th>\n",
       "      <td>511750</td>\n",
       "      <td>54932</td>\n",
       "      <td>167731</td>\n",
       "      <td>16785</td>\n",
       "      <td>9.992910</td>\n",
       "      <td>0.032799</td>\n",
       "    </tr>\n",
       "    <tr>\n",
       "      <th>2020-11-14</th>\n",
       "      <th>ES,DE,DK,IE,IT,LV</th>\n",
       "      <td>509105</td>\n",
       "      <td>68674</td>\n",
       "      <td>169260</td>\n",
       "      <td>16983</td>\n",
       "      <td>9.966437</td>\n",
       "      <td>0.033359</td>\n",
       "    </tr>\n",
       "    <tr>\n",
       "      <th>2020-11-13</th>\n",
       "      <th>ES,DE,DK,IE,IT,LV</th>\n",
       "      <td>504817</td>\n",
       "      <td>82073</td>\n",
       "      <td>170150</td>\n",
       "      <td>17192</td>\n",
       "      <td>9.897045</td>\n",
       "      <td>0.034056</td>\n",
       "    </tr>\n",
       "    <tr>\n",
       "      <th>2020-11-12</th>\n",
       "      <th>ES,DE,DK,IE,IT,LV</th>\n",
       "      <td>499240</td>\n",
       "      <td>94923</td>\n",
       "      <td>169004</td>\n",
       "      <td>17211</td>\n",
       "      <td>9.819534</td>\n",
       "      <td>0.034474</td>\n",
       "    </tr>\n",
       "  </tbody>\n",
       "</table>\n",
       "</div>"
      ],
      "text/plain": [
       "                               covid_cases  shared_teks_by_generation_date  \\\n",
       "sample_date source_regions                                                   \n",
       "2020-11-16  ES,DE,DK,IE,IT,LV       505454                           40652   \n",
       "2020-11-15  ES,DE,DK,IE,IT,LV       511750                           54932   \n",
       "2020-11-14  ES,DE,DK,IE,IT,LV       509105                           68674   \n",
       "2020-11-13  ES,DE,DK,IE,IT,LV       504817                           82073   \n",
       "2020-11-12  ES,DE,DK,IE,IT,LV       499240                           94923   \n",
       "\n",
       "                               shared_teks_by_upload_date  shared_diagnoses  \\\n",
       "sample_date source_regions                                                    \n",
       "2020-11-16  ES,DE,DK,IE,IT,LV                      168793             16843   \n",
       "2020-11-15  ES,DE,DK,IE,IT,LV                      167731             16785   \n",
       "2020-11-14  ES,DE,DK,IE,IT,LV                      169260             16983   \n",
       "2020-11-13  ES,DE,DK,IE,IT,LV                      170150             17192   \n",
       "2020-11-12  ES,DE,DK,IE,IT,LV                      169004             17211   \n",
       "\n",
       "                               teks_per_shared_diagnosis  \\\n",
       "sample_date source_regions                                 \n",
       "2020-11-16  ES,DE,DK,IE,IT,LV                  10.021552   \n",
       "2020-11-15  ES,DE,DK,IE,IT,LV                   9.992910   \n",
       "2020-11-14  ES,DE,DK,IE,IT,LV                   9.966437   \n",
       "2020-11-13  ES,DE,DK,IE,IT,LV                   9.897045   \n",
       "2020-11-12  ES,DE,DK,IE,IT,LV                   9.819534   \n",
       "\n",
       "                               shared_diagnoses_per_covid_case  \n",
       "sample_date source_regions                                      \n",
       "2020-11-16  ES,DE,DK,IE,IT,LV                         0.033323  \n",
       "2020-11-15  ES,DE,DK,IE,IT,LV                         0.032799  \n",
       "2020-11-14  ES,DE,DK,IE,IT,LV                         0.033359  \n",
       "2020-11-13  ES,DE,DK,IE,IT,LV                         0.034056  \n",
       "2020-11-12  ES,DE,DK,IE,IT,LV                         0.034474  "
      ]
     },
     "execution_count": 48,
     "metadata": {},
     "output_type": "execute_result"
    }
   ],
   "source": [
    "weekly_result_summary_df = result_summary_df \\\n",
    "    .sort_index(ascending=True).fillna(0).rolling(7).agg({\n",
    "    \"covid_cases\": \"sum\",\n",
    "    \"shared_teks_by_generation_date\": \"sum\",\n",
    "    \"shared_teks_by_upload_date\": \"sum\",\n",
    "    \"shared_diagnoses\": \"sum\"\n",
    "}).sort_index(ascending=False)\n",
    "\n",
    "with pd.option_context(\"mode.use_inf_as_na\", True):\n",
    "    weekly_result_summary_df = weekly_result_summary_df.fillna(0).astype(int)\n",
    "    weekly_result_summary_df[\"teks_per_shared_diagnosis\"] = \\\n",
    "        (weekly_result_summary_df.shared_teks_by_upload_date / weekly_result_summary_df.shared_diagnoses).fillna(0)\n",
    "    weekly_result_summary_df[\"shared_diagnoses_per_covid_case\"] = \\\n",
    "        (weekly_result_summary_df.shared_diagnoses / weekly_result_summary_df.covid_cases).fillna(0)\n",
    "\n",
    "weekly_result_summary_df.head()"
   ]
  },
  {
   "cell_type": "code",
   "execution_count": 49,
   "metadata": {
    "collapsed": false,
    "execution": {
     "iopub.execute_input": "2020-11-16T23:22:38.985794Z",
     "iopub.status.busy": "2020-11-16T23:22:38.985208Z",
     "iopub.status.idle": "2020-11-16T23:22:38.988349Z",
     "shell.execute_reply": "2020-11-16T23:22:38.987903Z"
    },
    "papermill": {
     "duration": 0.066249,
     "end_time": "2020-11-16T23:22:38.988462",
     "exception": false,
     "start_time": "2020-11-16T23:22:38.922213",
     "status": "completed"
    },
    "pycharm": {
     "name": "#%%\n"
    },
    "tags": []
   },
   "outputs": [
    {
     "data": {
      "text/plain": [
       "{'covid_cases': 511750,\n",
       " 'shared_teks_by_generation_date': 54932,\n",
       " 'shared_teks_by_upload_date': 167731,\n",
       " 'shared_diagnoses': 16785,\n",
       " 'teks_per_shared_diagnosis': 9.992910336610068,\n",
       " 'shared_diagnoses_per_covid_case': 0.032799218368343916}"
      ]
     },
     "execution_count": 49,
     "metadata": {},
     "output_type": "execute_result"
    }
   ],
   "source": [
    "last_7_days_summary = weekly_result_summary_df.to_dict(orient=\"records\")[1]\n",
    "last_7_days_summary"
   ]
  },
  {
   "cell_type": "markdown",
   "metadata": {
    "collapsed": false,
    "papermill": {
     "duration": 0.058944,
     "end_time": "2020-11-16T23:22:39.107525",
     "exception": false,
     "start_time": "2020-11-16T23:22:39.048581",
     "status": "completed"
    },
    "tags": []
   },
   "source": [
    "## Report Results"
   ]
  },
  {
   "cell_type": "code",
   "execution_count": 50,
   "metadata": {
    "collapsed": false,
    "execution": {
     "iopub.execute_input": "2020-11-16T23:22:39.233168Z",
     "iopub.status.busy": "2020-11-16T23:22:39.232630Z",
     "iopub.status.idle": "2020-11-16T23:22:39.234575Z",
     "shell.execute_reply": "2020-11-16T23:22:39.235117Z"
    },
    "papermill": {
     "duration": 0.069261,
     "end_time": "2020-11-16T23:22:39.235251",
     "exception": false,
     "start_time": "2020-11-16T23:22:39.165990",
     "status": "completed"
    },
    "pycharm": {
     "name": "#%%\n"
    },
    "tags": []
   },
   "outputs": [],
   "source": [
    "display_column_name_mapping = {\n",
    "    \"sample_date\": \"Sample\\u00A0Date\\u00A0(UTC)\",\n",
    "    \"source_regions\": \"Source Countries\",\n",
    "    \"datetime_utc\": \"Timestamp (UTC)\",\n",
    "    \"upload_date\": \"Upload Date (UTC)\",\n",
    "    \"generation_to_upload_days\": \"Generation to Upload Period in Days\",\n",
    "    \"region\": \"Backend\",\n",
    "    \"region_x\": \"Backend\\u00A0(A)\",\n",
    "    \"region_y\": \"Backend\\u00A0(B)\",\n",
    "    \"common_teks\": \"Common TEKs Shared Between Backends\",\n",
    "    \"common_teks_fraction\": \"Fraction of TEKs in Backend (A) Available in Backend (B)\",\n",
    "    \"covid_cases\": \"COVID-19 Cases in Source Countries (7-day Rolling Average)\",\n",
    "    \"shared_teks_by_generation_date\": \"Shared TEKs by Generation Date\",\n",
    "    \"shared_teks_by_upload_date\": \"Shared TEKs by Upload Date\",\n",
    "    \"shared_diagnoses\": \"Shared Diagnoses (Estimation)\",\n",
    "    \"teks_per_shared_diagnosis\": \"TEKs Uploaded per Shared Diagnosis\",\n",
    "    \"shared_diagnoses_per_covid_case\": \"Usage Ratio (Fraction of Cases in Source Countries Which Shared Diagnosis)\",\n",
    "    \"shared_teks_uploaded_on_generation_date\": \"Shared TEKs Uploaded on Generation Date\",\n",
    "}"
   ]
  },
  {
   "cell_type": "code",
   "execution_count": 51,
   "metadata": {
    "collapsed": false,
    "execution": {
     "iopub.execute_input": "2020-11-16T23:22:39.359306Z",
     "iopub.status.busy": "2020-11-16T23:22:39.358649Z",
     "iopub.status.idle": "2020-11-16T23:22:39.362415Z",
     "shell.execute_reply": "2020-11-16T23:22:39.362863Z"
    },
    "papermill": {
     "duration": 0.069207,
     "end_time": "2020-11-16T23:22:39.363015",
     "exception": false,
     "start_time": "2020-11-16T23:22:39.293808",
     "status": "completed"
    },
    "pycharm": {
     "name": "#%%\n"
    },
    "tags": []
   },
   "outputs": [],
   "source": [
    "summary_columns = [\n",
    "    \"covid_cases\",\n",
    "    \"shared_teks_by_generation_date\",\n",
    "    \"shared_teks_by_upload_date\",\n",
    "    \"shared_teks_uploaded_on_generation_date\",\n",
    "    \"shared_diagnoses\",\n",
    "    \"teks_per_shared_diagnosis\",\n",
    "    \"shared_diagnoses_per_covid_case\",\n",
    "]"
   ]
  },
  {
   "cell_type": "markdown",
   "metadata": {
    "collapsed": false,
    "papermill": {
     "duration": 0.059371,
     "end_time": "2020-11-16T23:22:39.482033",
     "exception": false,
     "start_time": "2020-11-16T23:22:39.422662",
     "status": "completed"
    },
    "tags": []
   },
   "source": [
    "### Daily Summary Table"
   ]
  },
  {
   "cell_type": "code",
   "execution_count": 52,
   "metadata": {
    "collapsed": false,
    "execution": {
     "iopub.execute_input": "2020-11-16T23:22:39.622360Z",
     "iopub.status.busy": "2020-11-16T23:22:39.621761Z",
     "iopub.status.idle": "2020-11-16T23:22:39.624704Z",
     "shell.execute_reply": "2020-11-16T23:22:39.624169Z"
    },
    "papermill": {
     "duration": 0.083517,
     "end_time": "2020-11-16T23:22:39.626285",
     "exception": false,
     "start_time": "2020-11-16T23:22:39.542768",
     "status": "completed"
    },
    "pycharm": {
     "name": "#%%\n"
    },
    "tags": []
   },
   "outputs": [
    {
     "data": {
      "text/html": [
       "<div>\n",
       "<style scoped>\n",
       "    .dataframe tbody tr th:only-of-type {\n",
       "        vertical-align: middle;\n",
       "    }\n",
       "\n",
       "    .dataframe tbody tr th {\n",
       "        vertical-align: top;\n",
       "    }\n",
       "\n",
       "    .dataframe thead th {\n",
       "        text-align: right;\n",
       "    }\n",
       "</style>\n",
       "<table border=\"1\" class=\"dataframe\">\n",
       "  <thead>\n",
       "    <tr style=\"text-align: right;\">\n",
       "      <th></th>\n",
       "      <th></th>\n",
       "      <th>COVID-19 Cases in Source Countries (7-day Rolling Average)</th>\n",
       "      <th>Shared TEKs by Generation Date</th>\n",
       "      <th>Shared TEKs by Upload Date</th>\n",
       "      <th>Shared TEKs Uploaded on Generation Date</th>\n",
       "      <th>Shared Diagnoses (Estimation)</th>\n",
       "      <th>TEKs Uploaded per Shared Diagnosis</th>\n",
       "      <th>Usage Ratio (Fraction of Cases in Source Countries Which Shared Diagnosis)</th>\n",
       "    </tr>\n",
       "    <tr>\n",
       "      <th>Sample Date (UTC)</th>\n",
       "      <th>Source Countries</th>\n",
       "      <th></th>\n",
       "      <th></th>\n",
       "      <th></th>\n",
       "      <th></th>\n",
       "      <th></th>\n",
       "      <th></th>\n",
       "      <th></th>\n",
       "    </tr>\n",
       "  </thead>\n",
       "  <tbody>\n",
       "    <tr>\n",
       "      <th>2020-11-16</th>\n",
       "      <th>ES,DE,DK,IE,IT,LV</th>\n",
       "      <td>66033</td>\n",
       "      <td>194</td>\n",
       "      <td>17579</td>\n",
       "      <td>194</td>\n",
       "      <td>1741</td>\n",
       "      <td>10.097071</td>\n",
       "      <td>0.026366</td>\n",
       "    </tr>\n",
       "    <tr>\n",
       "      <th>2020-11-15</th>\n",
       "      <th>ES,DE,DK,IE,IT,LV</th>\n",
       "      <td>73670</td>\n",
       "      <td>1599</td>\n",
       "      <td>15287</td>\n",
       "      <td>224</td>\n",
       "      <td>1611</td>\n",
       "      <td>9.489137</td>\n",
       "      <td>0.021868</td>\n",
       "    </tr>\n",
       "    <tr>\n",
       "      <th>2020-11-14</th>\n",
       "      <th>ES,DE,DK,IE,IT,LV</th>\n",
       "      <td>73884</td>\n",
       "      <td>3044</td>\n",
       "      <td>22798</td>\n",
       "      <td>211</td>\n",
       "      <td>2281</td>\n",
       "      <td>9.994739</td>\n",
       "      <td>0.030873</td>\n",
       "    </tr>\n",
       "    <tr>\n",
       "      <th>2020-11-13</th>\n",
       "      <th>ES,DE,DK,IE,IT,LV</th>\n",
       "      <td>73621</td>\n",
       "      <td>5199</td>\n",
       "      <td>29729</td>\n",
       "      <td>306</td>\n",
       "      <td>2890</td>\n",
       "      <td>10.286851</td>\n",
       "      <td>0.039255</td>\n",
       "    </tr>\n",
       "    <tr>\n",
       "      <th>2020-11-12</th>\n",
       "      <th>ES,DE,DK,IE,IT,LV</th>\n",
       "      <td>73029</td>\n",
       "      <td>7789</td>\n",
       "      <td>31792</td>\n",
       "      <td>317</td>\n",
       "      <td>3205</td>\n",
       "      <td>9.919501</td>\n",
       "      <td>0.043887</td>\n",
       "    </tr>\n",
       "    <tr>\n",
       "      <th>...</th>\n",
       "      <th>...</th>\n",
       "      <td>...</td>\n",
       "      <td>...</td>\n",
       "      <td>...</td>\n",
       "      <td>...</td>\n",
       "      <td>...</td>\n",
       "      <td>...</td>\n",
       "      <td>...</td>\n",
       "    </tr>\n",
       "    <tr>\n",
       "      <th>2020-08-29</th>\n",
       "      <th>ES</th>\n",
       "      <td>7605</td>\n",
       "      <td>49</td>\n",
       "      <td>0</td>\n",
       "      <td>0</td>\n",
       "      <td>0</td>\n",
       "      <td>0.000000</td>\n",
       "      <td>0.000000</td>\n",
       "    </tr>\n",
       "    <tr>\n",
       "      <th>2020-08-28</th>\n",
       "      <th>ES</th>\n",
       "      <td>7605</td>\n",
       "      <td>59</td>\n",
       "      <td>0</td>\n",
       "      <td>0</td>\n",
       "      <td>0</td>\n",
       "      <td>0.000000</td>\n",
       "      <td>0.000000</td>\n",
       "    </tr>\n",
       "    <tr>\n",
       "      <th>2020-08-27</th>\n",
       "      <th>ES</th>\n",
       "      <td>7372</td>\n",
       "      <td>72</td>\n",
       "      <td>0</td>\n",
       "      <td>0</td>\n",
       "      <td>0</td>\n",
       "      <td>0.000000</td>\n",
       "      <td>0.000000</td>\n",
       "    </tr>\n",
       "    <tr>\n",
       "      <th>2020-08-26</th>\n",
       "      <th>ES</th>\n",
       "      <td>6997</td>\n",
       "      <td>75</td>\n",
       "      <td>0</td>\n",
       "      <td>0</td>\n",
       "      <td>0</td>\n",
       "      <td>0.000000</td>\n",
       "      <td>0.000000</td>\n",
       "    </tr>\n",
       "    <tr>\n",
       "      <th>2020-08-25</th>\n",
       "      <th>ES</th>\n",
       "      <td>6908</td>\n",
       "      <td>58</td>\n",
       "      <td>0</td>\n",
       "      <td>0</td>\n",
       "      <td>0</td>\n",
       "      <td>0.000000</td>\n",
       "      <td>0.000000</td>\n",
       "    </tr>\n",
       "  </tbody>\n",
       "</table>\n",
       "<p>84 rows × 7 columns</p>\n",
       "</div>"
      ],
      "text/plain": [
       "                                     COVID-19 Cases in Source Countries (7-day Rolling Average)  \\\n",
       "Sample Date (UTC) Source Countries                                                                \n",
       "2020-11-16        ES,DE,DK,IE,IT,LV                                              66033            \n",
       "2020-11-15        ES,DE,DK,IE,IT,LV                                              73670            \n",
       "2020-11-14        ES,DE,DK,IE,IT,LV                                              73884            \n",
       "2020-11-13        ES,DE,DK,IE,IT,LV                                              73621            \n",
       "2020-11-12        ES,DE,DK,IE,IT,LV                                              73029            \n",
       "...                                                                                ...            \n",
       "2020-08-29        ES                                                              7605            \n",
       "2020-08-28        ES                                                              7605            \n",
       "2020-08-27        ES                                                              7372            \n",
       "2020-08-26        ES                                                              6997            \n",
       "2020-08-25        ES                                                              6908            \n",
       "\n",
       "                                     Shared TEKs by Generation Date  \\\n",
       "Sample Date (UTC) Source Countries                                    \n",
       "2020-11-16        ES,DE,DK,IE,IT,LV                             194   \n",
       "2020-11-15        ES,DE,DK,IE,IT,LV                            1599   \n",
       "2020-11-14        ES,DE,DK,IE,IT,LV                            3044   \n",
       "2020-11-13        ES,DE,DK,IE,IT,LV                            5199   \n",
       "2020-11-12        ES,DE,DK,IE,IT,LV                            7789   \n",
       "...                                                             ...   \n",
       "2020-08-29        ES                                             49   \n",
       "2020-08-28        ES                                             59   \n",
       "2020-08-27        ES                                             72   \n",
       "2020-08-26        ES                                             75   \n",
       "2020-08-25        ES                                             58   \n",
       "\n",
       "                                     Shared TEKs by Upload Date  \\\n",
       "Sample Date (UTC) Source Countries                                \n",
       "2020-11-16        ES,DE,DK,IE,IT,LV                       17579   \n",
       "2020-11-15        ES,DE,DK,IE,IT,LV                       15287   \n",
       "2020-11-14        ES,DE,DK,IE,IT,LV                       22798   \n",
       "2020-11-13        ES,DE,DK,IE,IT,LV                       29729   \n",
       "2020-11-12        ES,DE,DK,IE,IT,LV                       31792   \n",
       "...                                                         ...   \n",
       "2020-08-29        ES                                          0   \n",
       "2020-08-28        ES                                          0   \n",
       "2020-08-27        ES                                          0   \n",
       "2020-08-26        ES                                          0   \n",
       "2020-08-25        ES                                          0   \n",
       "\n",
       "                                     Shared TEKs Uploaded on Generation Date  \\\n",
       "Sample Date (UTC) Source Countries                                             \n",
       "2020-11-16        ES,DE,DK,IE,IT,LV                                      194   \n",
       "2020-11-15        ES,DE,DK,IE,IT,LV                                      224   \n",
       "2020-11-14        ES,DE,DK,IE,IT,LV                                      211   \n",
       "2020-11-13        ES,DE,DK,IE,IT,LV                                      306   \n",
       "2020-11-12        ES,DE,DK,IE,IT,LV                                      317   \n",
       "...                                                                      ...   \n",
       "2020-08-29        ES                                                       0   \n",
       "2020-08-28        ES                                                       0   \n",
       "2020-08-27        ES                                                       0   \n",
       "2020-08-26        ES                                                       0   \n",
       "2020-08-25        ES                                                       0   \n",
       "\n",
       "                                     Shared Diagnoses (Estimation)  \\\n",
       "Sample Date (UTC) Source Countries                                   \n",
       "2020-11-16        ES,DE,DK,IE,IT,LV                           1741   \n",
       "2020-11-15        ES,DE,DK,IE,IT,LV                           1611   \n",
       "2020-11-14        ES,DE,DK,IE,IT,LV                           2281   \n",
       "2020-11-13        ES,DE,DK,IE,IT,LV                           2890   \n",
       "2020-11-12        ES,DE,DK,IE,IT,LV                           3205   \n",
       "...                                                            ...   \n",
       "2020-08-29        ES                                             0   \n",
       "2020-08-28        ES                                             0   \n",
       "2020-08-27        ES                                             0   \n",
       "2020-08-26        ES                                             0   \n",
       "2020-08-25        ES                                             0   \n",
       "\n",
       "                                     TEKs Uploaded per Shared Diagnosis  \\\n",
       "Sample Date (UTC) Source Countries                                        \n",
       "2020-11-16        ES,DE,DK,IE,IT,LV                           10.097071   \n",
       "2020-11-15        ES,DE,DK,IE,IT,LV                            9.489137   \n",
       "2020-11-14        ES,DE,DK,IE,IT,LV                            9.994739   \n",
       "2020-11-13        ES,DE,DK,IE,IT,LV                           10.286851   \n",
       "2020-11-12        ES,DE,DK,IE,IT,LV                            9.919501   \n",
       "...                                                                 ...   \n",
       "2020-08-29        ES                                           0.000000   \n",
       "2020-08-28        ES                                           0.000000   \n",
       "2020-08-27        ES                                           0.000000   \n",
       "2020-08-26        ES                                           0.000000   \n",
       "2020-08-25        ES                                           0.000000   \n",
       "\n",
       "                                     Usage Ratio (Fraction of Cases in Source Countries Which Shared Diagnosis)  \n",
       "Sample Date (UTC) Source Countries                                                                               \n",
       "2020-11-16        ES,DE,DK,IE,IT,LV                                           0.026366                           \n",
       "2020-11-15        ES,DE,DK,IE,IT,LV                                           0.021868                           \n",
       "2020-11-14        ES,DE,DK,IE,IT,LV                                           0.030873                           \n",
       "2020-11-13        ES,DE,DK,IE,IT,LV                                           0.039255                           \n",
       "2020-11-12        ES,DE,DK,IE,IT,LV                                           0.043887                           \n",
       "...                                                                                ...                           \n",
       "2020-08-29        ES                                                          0.000000                           \n",
       "2020-08-28        ES                                                          0.000000                           \n",
       "2020-08-27        ES                                                          0.000000                           \n",
       "2020-08-26        ES                                                          0.000000                           \n",
       "2020-08-25        ES                                                          0.000000                           \n",
       "\n",
       "[84 rows x 7 columns]"
      ]
     },
     "execution_count": 52,
     "metadata": {},
     "output_type": "execute_result"
    }
   ],
   "source": [
    "result_summary_df_ = result_summary_df.copy()\n",
    "result_summary_df = result_summary_df[summary_columns]\n",
    "result_summary_with_display_names_df = result_summary_df \\\n",
    "    .rename_axis(index=display_column_name_mapping) \\\n",
    "    .rename(columns=display_column_name_mapping)\n",
    "result_summary_with_display_names_df"
   ]
  },
  {
   "cell_type": "markdown",
   "metadata": {
    "collapsed": false,
    "papermill": {
     "duration": 0.0598,
     "end_time": "2020-11-16T23:22:39.747292",
     "exception": false,
     "start_time": "2020-11-16T23:22:39.687492",
     "status": "completed"
    },
    "tags": []
   },
   "source": [
    "### Daily Summary Plots"
   ]
  },
  {
   "cell_type": "code",
   "execution_count": 53,
   "metadata": {
    "collapsed": false,
    "execution": {
     "iopub.execute_input": "2020-11-16T23:22:39.884095Z",
     "iopub.status.busy": "2020-11-16T23:22:39.883428Z",
     "iopub.status.idle": "2020-11-16T23:22:41.836420Z",
     "shell.execute_reply": "2020-11-16T23:22:41.836905Z"
    },
    "papermill": {
     "duration": 2.031069,
     "end_time": "2020-11-16T23:22:41.837060",
     "exception": false,
     "start_time": "2020-11-16T23:22:39.805991",
     "status": "completed"
    },
    "pycharm": {
     "name": "#%%\n"
    },
    "tags": []
   },
   "outputs": [
    {
     "data": {
      "image/png": "[encoded data removed]",
      "text/plain": [
       "<Figure size 1080x1584 with 7 Axes>"
      ]
     },
     "metadata": {},
     "output_type": "display_data"
    }
   ],
   "source": [
    "result_plot_summary_df = result_summary_df.head(daily_plot_days)[summary_columns] \\\n",
    "    .droplevel(level=[\"source_regions\"]) \\\n",
    "    .rename_axis(index=display_column_name_mapping) \\\n",
    "    .rename(columns=display_column_name_mapping)\n",
    "summary_ax_list = result_plot_summary_df.sort_index(ascending=True).plot.bar(\n",
    "    title=f\"Daily Summary\",\n",
    "    rot=45, subplots=True, figsize=(15, 22), legend=False)\n",
    "ax_ = summary_ax_list[-1]\n",
    "ax_.get_figure().tight_layout()\n",
    "ax_.get_figure().subplots_adjust(top=0.95)\n",
    "ax_.yaxis.set_major_formatter(matplotlib.ticker.PercentFormatter(1.0))\n",
    "_ = ax_.set_xticklabels(sorted(result_plot_summary_df.index.strftime(\"%Y-%m-%d\").tolist()))"
   ]
  },
  {
   "cell_type": "markdown",
   "metadata": {
    "execution": {
     "iopub.execute_input": "2020-09-02T08:20:14.568088Z",
     "iopub.status.busy": "2020-09-02T08:20:14.567425Z",
     "iopub.status.idle": "2020-09-02T08:20:14.571422Z",
     "shell.execute_reply": "2020-09-02T08:20:14.571952Z"
    },
    "papermill": {
     "duration": 0.062713,
     "end_time": "2020-11-16T23:22:41.964422",
     "exception": false,
     "start_time": "2020-11-16T23:22:41.901709",
     "status": "completed"
    },
    "pycharm": {
     "name": "#%% md\n"
    },
    "tags": []
   },
   "source": [
    "### Daily Generation to Upload Period Table"
   ]
  },
  {
   "cell_type": "code",
   "execution_count": 54,
   "metadata": {
    "execution": {
     "iopub.execute_input": "2020-11-16T23:22:42.103786Z",
     "iopub.status.busy": "2020-11-16T23:22:42.103243Z",
     "iopub.status.idle": "2020-11-16T23:22:42.106172Z",
     "shell.execute_reply": "2020-11-16T23:22:42.105693Z"
    },
    "papermill": {
     "duration": 0.078843,
     "end_time": "2020-11-16T23:22:42.106289",
     "exception": false,
     "start_time": "2020-11-16T23:22:42.027446",
     "status": "completed"
    },
    "pycharm": {
     "name": "#%%\n"
    },
    "tags": []
   },
   "outputs": [
    {
     "data": {
      "text/html": [
       "<div>\n",
       "<style scoped>\n",
       "    .dataframe tbody tr th:only-of-type {\n",
       "        vertical-align: middle;\n",
       "    }\n",
       "\n",
       "    .dataframe tbody tr th {\n",
       "        vertical-align: top;\n",
       "    }\n",
       "\n",
       "    .dataframe thead th {\n",
       "        text-align: right;\n",
       "    }\n",
       "</style>\n",
       "<table border=\"1\" class=\"dataframe\">\n",
       "  <thead>\n",
       "    <tr style=\"text-align: right;\">\n",
       "      <th>Generation to Upload Period in Days</th>\n",
       "      <th>0</th>\n",
       "      <th>1</th>\n",
       "      <th>2</th>\n",
       "      <th>3</th>\n",
       "      <th>4</th>\n",
       "      <th>5</th>\n",
       "      <th>6</th>\n",
       "      <th>7</th>\n",
       "      <th>8</th>\n",
       "      <th>9</th>\n",
       "      <th>10</th>\n",
       "      <th>11</th>\n",
       "      <th>12</th>\n",
       "      <th>13</th>\n",
       "    </tr>\n",
       "    <tr>\n",
       "      <th>Upload Date (UTC)</th>\n",
       "      <th></th>\n",
       "      <th></th>\n",
       "      <th></th>\n",
       "      <th></th>\n",
       "      <th></th>\n",
       "      <th></th>\n",
       "      <th></th>\n",
       "      <th></th>\n",
       "      <th></th>\n",
       "      <th></th>\n",
       "      <th></th>\n",
       "      <th></th>\n",
       "      <th></th>\n",
       "      <th></th>\n",
       "    </tr>\n",
       "  </thead>\n",
       "  <tbody>\n",
       "    <tr>\n",
       "      <th>2020-11-16</th>\n",
       "      <td>194</td>\n",
       "      <td>1375</td>\n",
       "      <td>1741</td>\n",
       "      <td>1666</td>\n",
       "      <td>1545</td>\n",
       "      <td>1422</td>\n",
       "      <td>1336</td>\n",
       "      <td>1284</td>\n",
       "      <td>1236</td>\n",
       "      <td>1210</td>\n",
       "      <td>1189</td>\n",
       "      <td>1156</td>\n",
       "      <td>1129</td>\n",
       "      <td>1096</td>\n",
       "    </tr>\n",
       "    <tr>\n",
       "      <th>2020-11-15</th>\n",
       "      <td>224</td>\n",
       "      <td>1092</td>\n",
       "      <td>1611</td>\n",
       "      <td>1468</td>\n",
       "      <td>1368</td>\n",
       "      <td>1256</td>\n",
       "      <td>1181</td>\n",
       "      <td>1114</td>\n",
       "      <td>1080</td>\n",
       "      <td>1038</td>\n",
       "      <td>1001</td>\n",
       "      <td>974</td>\n",
       "      <td>950</td>\n",
       "      <td>930</td>\n",
       "    </tr>\n",
       "    <tr>\n",
       "      <th>2020-11-14</th>\n",
       "      <td>211</td>\n",
       "      <td>1616</td>\n",
       "      <td>2281</td>\n",
       "      <td>2074</td>\n",
       "      <td>1947</td>\n",
       "      <td>1842</td>\n",
       "      <td>1765</td>\n",
       "      <td>1710</td>\n",
       "      <td>1655</td>\n",
       "      <td>1613</td>\n",
       "      <td>1573</td>\n",
       "      <td>1534</td>\n",
       "      <td>1502</td>\n",
       "      <td>1475</td>\n",
       "    </tr>\n",
       "    <tr>\n",
       "      <th>2020-11-13</th>\n",
       "      <td>306</td>\n",
       "      <td>2178</td>\n",
       "      <td>2890</td>\n",
       "      <td>2669</td>\n",
       "      <td>2521</td>\n",
       "      <td>2378</td>\n",
       "      <td>2281</td>\n",
       "      <td>2224</td>\n",
       "      <td>2163</td>\n",
       "      <td>2110</td>\n",
       "      <td>2066</td>\n",
       "      <td>2025</td>\n",
       "      <td>1970</td>\n",
       "      <td>1948</td>\n",
       "    </tr>\n",
       "    <tr>\n",
       "      <th>2020-11-12</th>\n",
       "      <td>317</td>\n",
       "      <td>2184</td>\n",
       "      <td>3205</td>\n",
       "      <td>2915</td>\n",
       "      <td>2701</td>\n",
       "      <td>2606</td>\n",
       "      <td>2490</td>\n",
       "      <td>2410</td>\n",
       "      <td>2319</td>\n",
       "      <td>2236</td>\n",
       "      <td>2183</td>\n",
       "      <td>2113</td>\n",
       "      <td>2074</td>\n",
       "      <td>2039</td>\n",
       "    </tr>\n",
       "    <tr>\n",
       "      <th>2020-11-11</th>\n",
       "      <td>300</td>\n",
       "      <td>1884</td>\n",
       "      <td>3029</td>\n",
       "      <td>2726</td>\n",
       "      <td>2628</td>\n",
       "      <td>2523</td>\n",
       "      <td>2420</td>\n",
       "      <td>2318</td>\n",
       "      <td>2240</td>\n",
       "      <td>2172</td>\n",
       "      <td>2116</td>\n",
       "      <td>2072</td>\n",
       "      <td>2027</td>\n",
       "      <td>1990</td>\n",
       "    </tr>\n",
       "    <tr>\n",
       "      <th>2020-11-10</th>\n",
       "      <td>292</td>\n",
       "      <td>1466</td>\n",
       "      <td>2086</td>\n",
       "      <td>2003</td>\n",
       "      <td>1908</td>\n",
       "      <td>1781</td>\n",
       "      <td>1667</td>\n",
       "      <td>1569</td>\n",
       "      <td>1505</td>\n",
       "      <td>1455</td>\n",
       "      <td>1409</td>\n",
       "      <td>1374</td>\n",
       "      <td>1350</td>\n",
       "      <td>1298</td>\n",
       "    </tr>\n",
       "    <tr>\n",
       "      <th>2020-11-09</th>\n",
       "      <td>236</td>\n",
       "      <td>1126</td>\n",
       "      <td>1683</td>\n",
       "      <td>1602</td>\n",
       "      <td>1480</td>\n",
       "      <td>1384</td>\n",
       "      <td>1285</td>\n",
       "      <td>1215</td>\n",
       "      <td>1168</td>\n",
       "      <td>1127</td>\n",
       "      <td>1108</td>\n",
       "      <td>1059</td>\n",
       "      <td>1034</td>\n",
       "      <td>1010</td>\n",
       "    </tr>\n",
       "    <tr>\n",
       "      <th>2020-11-08</th>\n",
       "      <td>209</td>\n",
       "      <td>929</td>\n",
       "      <td>1809</td>\n",
       "      <td>1640</td>\n",
       "      <td>1502</td>\n",
       "      <td>1394</td>\n",
       "      <td>1315</td>\n",
       "      <td>1247</td>\n",
       "      <td>1202</td>\n",
       "      <td>1167</td>\n",
       "      <td>1141</td>\n",
       "      <td>1119</td>\n",
       "      <td>1081</td>\n",
       "      <td>1061</td>\n",
       "    </tr>\n",
       "    <tr>\n",
       "      <th>2020-11-07</th>\n",
       "      <td>313</td>\n",
       "      <td>1348</td>\n",
       "      <td>2490</td>\n",
       "      <td>2247</td>\n",
       "      <td>2086</td>\n",
       "      <td>1959</td>\n",
       "      <td>1838</td>\n",
       "      <td>1775</td>\n",
       "      <td>1724</td>\n",
       "      <td>1670</td>\n",
       "      <td>1624</td>\n",
       "      <td>1581</td>\n",
       "      <td>1532</td>\n",
       "      <td>1501</td>\n",
       "    </tr>\n",
       "    <tr>\n",
       "      <th>2020-11-06</th>\n",
       "      <td>263</td>\n",
       "      <td>1707</td>\n",
       "      <td>2909</td>\n",
       "      <td>2688</td>\n",
       "      <td>2509</td>\n",
       "      <td>2343</td>\n",
       "      <td>2255</td>\n",
       "      <td>2182</td>\n",
       "      <td>2116</td>\n",
       "      <td>2049</td>\n",
       "      <td>1967</td>\n",
       "      <td>1912</td>\n",
       "      <td>1857</td>\n",
       "      <td>1826</td>\n",
       "    </tr>\n",
       "    <tr>\n",
       "      <th>2020-11-05</th>\n",
       "      <td>267</td>\n",
       "      <td>1641</td>\n",
       "      <td>2696</td>\n",
       "      <td>2451</td>\n",
       "      <td>2252</td>\n",
       "      <td>2174</td>\n",
       "      <td>2105</td>\n",
       "      <td>2027</td>\n",
       "      <td>1946</td>\n",
       "      <td>1885</td>\n",
       "      <td>1844</td>\n",
       "      <td>1793</td>\n",
       "      <td>1766</td>\n",
       "      <td>1726</td>\n",
       "    </tr>\n",
       "    <tr>\n",
       "      <th>2020-11-04</th>\n",
       "      <td>344</td>\n",
       "      <td>1838</td>\n",
       "      <td>2851</td>\n",
       "      <td>2522</td>\n",
       "      <td>2429</td>\n",
       "      <td>2336</td>\n",
       "      <td>2226</td>\n",
       "      <td>2120</td>\n",
       "      <td>2055</td>\n",
       "      <td>1992</td>\n",
       "      <td>1936</td>\n",
       "      <td>1890</td>\n",
       "      <td>1873</td>\n",
       "      <td>1835</td>\n",
       "    </tr>\n",
       "    <tr>\n",
       "      <th>2020-11-03</th>\n",
       "      <td>280</td>\n",
       "      <td>1325</td>\n",
       "      <td>1961</td>\n",
       "      <td>1888</td>\n",
       "      <td>1809</td>\n",
       "      <td>1711</td>\n",
       "      <td>1642</td>\n",
       "      <td>1564</td>\n",
       "      <td>1519</td>\n",
       "      <td>1448</td>\n",
       "      <td>1414</td>\n",
       "      <td>1388</td>\n",
       "      <td>1354</td>\n",
       "      <td>1310</td>\n",
       "    </tr>\n",
       "  </tbody>\n",
       "</table>\n",
       "</div>"
      ],
      "text/plain": [
       "Generation to Upload Period in Days   0     1     2     3     4     5     6   \\\n",
       "Upload Date (UTC)                                                              \n",
       "2020-11-16                           194  1375  1741  1666  1545  1422  1336   \n",
       "2020-11-15                           224  1092  1611  1468  1368  1256  1181   \n",
       "2020-11-14                           211  1616  2281  2074  1947  1842  1765   \n",
       "2020-11-13                           306  2178  2890  2669  2521  2378  2281   \n",
       "2020-11-12                           317  2184  3205  2915  2701  2606  2490   \n",
       "2020-11-11                           300  1884  3029  2726  2628  2523  2420   \n",
       "2020-11-10                           292  1466  2086  2003  1908  1781  1667   \n",
       "2020-11-09                           236  1126  1683  1602  1480  1384  1285   \n",
       "2020-11-08                           209   929  1809  1640  1502  1394  1315   \n",
       "2020-11-07                           313  1348  2490  2247  2086  1959  1838   \n",
       "2020-11-06                           263  1707  2909  2688  2509  2343  2255   \n",
       "2020-11-05                           267  1641  2696  2451  2252  2174  2105   \n",
       "2020-11-04                           344  1838  2851  2522  2429  2336  2226   \n",
       "2020-11-03                           280  1325  1961  1888  1809  1711  1642   \n",
       "\n",
       "Generation to Upload Period in Days    7     8     9     10    11    12    13  \n",
       "Upload Date (UTC)                                                              \n",
       "2020-11-16                           1284  1236  1210  1189  1156  1129  1096  \n",
       "2020-11-15                           1114  1080  1038  1001   974   950   930  \n",
       "2020-11-14                           1710  1655  1613  1573  1534  1502  1475  \n",
       "2020-11-13                           2224  2163  2110  2066  2025  1970  1948  \n",
       "2020-11-12                           2410  2319  2236  2183  2113  2074  2039  \n",
       "2020-11-11                           2318  2240  2172  2116  2072  2027  1990  \n",
       "2020-11-10                           1569  1505  1455  1409  1374  1350  1298  \n",
       "2020-11-09                           1215  1168  1127  1108  1059  1034  1010  \n",
       "2020-11-08                           1247  1202  1167  1141  1119  1081  1061  \n",
       "2020-11-07                           1775  1724  1670  1624  1581  1532  1501  \n",
       "2020-11-06                           2182  2116  2049  1967  1912  1857  1826  \n",
       "2020-11-05                           2027  1946  1885  1844  1793  1766  1726  \n",
       "2020-11-04                           2120  2055  1992  1936  1890  1873  1835  \n",
       "2020-11-03                           1564  1519  1448  1414  1388  1354  1310  "
      ]
     },
     "execution_count": 54,
     "metadata": {},
     "output_type": "execute_result"
    }
   ],
   "source": [
    "display_generation_to_upload_period_pivot_df = \\\n",
    "    generation_to_upload_period_pivot_df \\\n",
    "        .head(backend_generation_days)\n",
    "display_generation_to_upload_period_pivot_df \\\n",
    "    .head(backend_generation_days) \\\n",
    "    .rename_axis(columns=display_column_name_mapping) \\\n",
    "    .rename_axis(index=display_column_name_mapping)"
   ]
  },
  {
   "cell_type": "code",
   "execution_count": 55,
   "metadata": {
    "collapsed": false,
    "execution": {
     "iopub.execute_input": "2020-11-16T23:22:42.235304Z",
     "iopub.status.busy": "2020-11-16T23:22:42.234657Z",
     "iopub.status.idle": "2020-11-16T23:22:43.289943Z",
     "shell.execute_reply": "2020-11-16T23:22:43.290768Z"
    },
    "papermill": {
     "duration": 1.122419,
     "end_time": "2020-11-16T23:22:43.290922",
     "exception": false,
     "start_time": "2020-11-16T23:22:42.168503",
     "status": "completed"
    },
    "pycharm": {
     "name": "#%%\n"
    },
    "tags": []
   },
   "outputs": [
    {
     "data": {
      "image/png": "[encoded data removed]",
      "text/plain": [
       "<Figure size 864x676.8 with 2 Axes>"
      ]
     },
     "metadata": {},
     "output_type": "display_data"
    }
   ],
   "source": [
    "fig, generation_to_upload_period_pivot_table_ax = plt.subplots(\n",
    "    figsize=(12, 1 + 0.6 * len(display_generation_to_upload_period_pivot_df)))\n",
    "generation_to_upload_period_pivot_table_ax.set_title(\n",
    "    \"Shared TEKs Generation to Upload Period Table\")\n",
    "sns.heatmap(\n",
    "    data=display_generation_to_upload_period_pivot_df\n",
    "        .rename_axis(columns=display_column_name_mapping)\n",
    "        .rename_axis(index=display_column_name_mapping),\n",
    "    fmt=\".0f\",\n",
    "    annot=True,\n",
    "    ax=generation_to_upload_period_pivot_table_ax)\n",
    "generation_to_upload_period_pivot_table_ax.get_figure().tight_layout()"
   ]
  },
  {
   "cell_type": "markdown",
   "metadata": {
    "collapsed": false,
    "papermill": {
     "duration": 0.074122,
     "end_time": "2020-11-16T23:22:43.433179",
     "exception": false,
     "start_time": "2020-11-16T23:22:43.359057",
     "status": "completed"
    },
    "tags": []
   },
   "source": [
    "### Hourly Summary Plots "
   ]
  },
  {
   "cell_type": "code",
   "execution_count": 56,
   "metadata": {
    "collapsed": false,
    "execution": {
     "iopub.execute_input": "2020-11-16T23:22:43.590069Z",
     "iopub.status.busy": "2020-11-16T23:22:43.586239Z",
     "iopub.status.idle": "2020-11-16T23:22:43.930530Z",
     "shell.execute_reply": "2020-11-16T23:22:43.931251Z"
    },
    "papermill": {
     "duration": 0.42638,
     "end_time": "2020-11-16T23:22:43.931419",
     "exception": false,
     "start_time": "2020-11-16T23:22:43.505039",
     "status": "completed"
    },
    "pycharm": {
     "name": "#%%\n"
    },
    "tags": []
   },
   "outputs": [
    {
     "data": {
      "image/png": "[encoded data removed]",
      "text/plain": [
       "<Figure size 1080x432 with 1 Axes>"
      ]
     },
     "metadata": {},
     "output_type": "display_data"
    }
   ],
   "source": [
    "hourly_summary_ax_list = hourly_summary_df \\\n",
    "    .rename_axis(index=display_column_name_mapping) \\\n",
    "    .rename(columns=display_column_name_mapping) \\\n",
    "    .plot.bar(\n",
    "        title=f\"Last 24h Summary\",\n",
    "        rot=45, subplots=True, legend=False)\n",
    "ax_ = hourly_summary_ax_list[-1]\n",
    "ax_.get_figure().tight_layout()\n",
    "ax_.get_figure().subplots_adjust(top=0.9)\n",
    "_ = ax_.set_xticklabels(sorted(hourly_summary_df.index.strftime(\"%Y-%m-%d@%H\").tolist()))"
   ]
  },
  {
   "cell_type": "markdown",
   "metadata": {
    "collapsed": false,
    "papermill": {
     "duration": 0.068483,
     "end_time": "2020-11-16T23:22:44.069859",
     "exception": false,
     "start_time": "2020-11-16T23:22:44.001376",
     "status": "completed"
    },
    "tags": []
   },
   "source": [
    "### Publish Results"
   ]
  },
  {
   "cell_type": "code",
   "execution_count": 57,
   "metadata": {
    "collapsed": false,
    "execution": {
     "iopub.execute_input": "2020-11-16T23:22:44.208377Z",
     "iopub.status.busy": "2020-11-16T23:22:44.207796Z",
     "iopub.status.idle": "2020-11-16T23:22:44.209507Z",
     "shell.execute_reply": "2020-11-16T23:22:44.210051Z"
    },
    "papermill": {
     "duration": 0.073529,
     "end_time": "2020-11-16T23:22:44.210191",
     "exception": false,
     "start_time": "2020-11-16T23:22:44.136662",
     "status": "completed"
    },
    "pycharm": {
     "name": "#%%\n"
    },
    "tags": []
   },
   "outputs": [],
   "source": [
    "def get_temporary_image_path() -> str:\n",
    "    return os.path.join(tempfile.gettempdir(), str(uuid.uuid4()) + \".png\")\n",
    "\n",
    "def save_temporary_plot_image(ax):\n",
    "    if isinstance(ax, np.ndarray):\n",
    "        ax = ax[0]\n",
    "    media_path = get_temporary_image_path()\n",
    "    ax.get_figure().savefig(media_path)\n",
    "    return media_path\n",
    "\n",
    "def save_temporary_dataframe_image(df):\n",
    "    import dataframe_image as dfi\n",
    "    media_path = get_temporary_image_path()\n",
    "    dfi.export(df, media_path)\n",
    "    return media_path"
   ]
  },
  {
   "cell_type": "code",
   "execution_count": 58,
   "metadata": {
    "collapsed": false,
    "execution": {
     "iopub.execute_input": "2020-11-16T23:22:44.384867Z",
     "iopub.status.busy": "2020-11-16T23:22:44.354738Z",
     "iopub.status.idle": "2020-11-16T23:22:44.386628Z",
     "shell.execute_reply": "2020-11-16T23:22:44.387036Z"
    },
    "papermill": {
     "duration": 0.109193,
     "end_time": "2020-11-16T23:22:44.387182",
     "exception": false,
     "start_time": "2020-11-16T23:22:44.277989",
     "status": "completed"
    },
    "pycharm": {
     "name": "#%%\n"
    },
    "tags": []
   },
   "outputs": [
    {
     "name": "stderr",
     "output_type": "stream",
     "text": [
      "<ipython-input-58-bd16b454de40>:49: FutureWarning: `item` has been deprecated and will be removed in a future version\n",
      "  extraction_date_result_summary_df.covid_cases.item()\n",
      "<ipython-input-58-bd16b454de40>:51: FutureWarning: `item` has been deprecated and will be removed in a future version\n",
      "  extraction_date_result_summary_df.shared_teks_by_generation_date.item()\n",
      "<ipython-input-58-bd16b454de40>:53: FutureWarning: `item` has been deprecated and will be removed in a future version\n",
      "  extraction_date_result_summary_df.shared_teks_by_upload_date.item()\n",
      "<ipython-input-58-bd16b454de40>:55: FutureWarning: `item` has been deprecated and will be removed in a future version\n",
      "  extraction_date_result_summary_df.shared_diagnoses.item()\n",
      "<ipython-input-58-bd16b454de40>:57: FutureWarning: `item` has been deprecated and will be removed in a future version\n",
      "  extraction_date_result_summary_df.teks_per_shared_diagnosis.item()\n",
      "<ipython-input-58-bd16b454de40>:59: FutureWarning: `item` has been deprecated and will be removed in a future version\n",
      "  extraction_date_result_summary_df.shared_diagnoses_per_covid_case.item()\n"
     ]
    }
   ],
   "source": [
    "github_repository = os.environ.get(\"GITHUB_REPOSITORY\")\n",
    "if github_repository is None:\n",
    "    github_repository = \"pvieito/Radar-STATS\"\n",
    "\n",
    "github_project_base_url = \"https://github.com/\" + github_repository\n",
    "\n",
    "display_formatters = {\n",
    "    display_column_name_mapping[\"teks_per_shared_diagnosis\"]: lambda x: f\"{x:.2f}\",\n",
    "    display_column_name_mapping[\"shared_diagnoses_per_covid_case\"]: lambda x: f\"{x:.2%}\",\n",
    "}\n",
    "daily_summary_table_html = result_summary_with_display_names_df \\\n",
    "    .head(daily_plot_days) \\\n",
    "    .rename_axis(index=display_column_name_mapping) \\\n",
    "    .rename(columns=display_column_name_mapping) \\\n",
    "    .to_html(formatters=display_formatters)\n",
    "multi_backend_summary_table_html = multi_backend_summary_df \\\n",
    "    .head(daily_plot_days) \\\n",
    "    .rename_axis(columns=display_column_name_mapping) \\\n",
    "    .rename(columns=display_column_name_mapping) \\\n",
    "    .rename_axis(index=display_column_name_mapping) \\\n",
    "    .to_html(formatters=display_formatters)\n",
    "\n",
    "def format_multi_backend_cross_sharing_fraction(x):\n",
    "    if pd.isna(x):\n",
    "        return \"-\"\n",
    "    elif round(x * 100, 1) == 0:\n",
    "        return \"\"\n",
    "    else:\n",
    "        return f\"{x:.1%}\"\n",
    "\n",
    "multi_backend_cross_sharing_summary_table_html = multi_backend_cross_sharing_summary_df \\\n",
    "    .rename_axis(columns=display_column_name_mapping) \\\n",
    "    .rename(columns=display_column_name_mapping) \\\n",
    "    .rename_axis(index=display_column_name_mapping) \\\n",
    "    .to_html(\n",
    "        classes=\"table-center\",\n",
    "        formatters=display_formatters,\n",
    "        float_format=format_multi_backend_cross_sharing_fraction)\n",
    "multi_backend_cross_sharing_summary_table_html = \\\n",
    "    multi_backend_cross_sharing_summary_table_html \\\n",
    "        .replace(\"<tr>\",\"<tr style=\\\"text-align: center;\\\">\")\n",
    "\n",
    "extraction_date_result_summary_df = \\\n",
    "    result_summary_df[result_summary_df.index.get_level_values(\"sample_date\") == extraction_date]\n",
    "extraction_date_result_hourly_summary_df = \\\n",
    "    hourly_summary_df[hourly_summary_df.extraction_date_with_hour == extraction_date_with_hour]\n",
    "\n",
    "covid_cases = \\\n",
    "    extraction_date_result_summary_df.covid_cases.item()\n",
    "shared_teks_by_generation_date = \\\n",
    "    extraction_date_result_summary_df.shared_teks_by_generation_date.item()\n",
    "shared_teks_by_upload_date = \\\n",
    "    extraction_date_result_summary_df.shared_teks_by_upload_date.item()\n",
    "shared_diagnoses = \\\n",
    "    extraction_date_result_summary_df.shared_diagnoses.item()\n",
    "teks_per_shared_diagnosis = \\\n",
    "    extraction_date_result_summary_df.teks_per_shared_diagnosis.item()\n",
    "shared_diagnoses_per_covid_case = \\\n",
    "    extraction_date_result_summary_df.shared_diagnoses_per_covid_case.item()\n",
    "\n",
    "shared_teks_by_upload_date_last_hour = \\\n",
    "    extraction_date_result_hourly_summary_df.shared_teks_by_upload_date.sum().astype(int)\n",
    "\n",
    "display_source_regions = \", \".join(report_source_regions)\n",
    "if len(report_source_regions) == 1:\n",
    "    display_brief_source_regions = report_source_regions[0]\n",
    "else:\n",
    "    display_brief_source_regions = f\"{len(report_source_regions)} 🇪🇺\""
   ]
  },
  {
   "cell_type": "code",
   "execution_count": 59,
   "metadata": {
    "execution": {
     "iopub.execute_input": "2020-11-16T23:22:44.540970Z",
     "iopub.status.busy": "2020-11-16T23:22:44.540395Z",
     "iopub.status.idle": "2020-11-16T23:22:52.437728Z",
     "shell.execute_reply": "2020-11-16T23:22:52.438194Z"
    },
    "papermill": {
     "duration": 7.978352,
     "end_time": "2020-11-16T23:22:52.438353",
     "exception": false,
     "start_time": "2020-11-16T23:22:44.460001",
     "status": "completed"
    },
    "pycharm": {
     "name": "#%%\n"
    },
    "tags": []
   },
   "outputs": [],
   "source": [
    "summary_plots_image_path = save_temporary_plot_image(\n",
    "    ax=summary_ax_list)\n",
    "summary_table_image_path = save_temporary_dataframe_image(\n",
    "    df=result_summary_with_display_names_df)\n",
    "hourly_summary_plots_image_path = save_temporary_plot_image(\n",
    "    ax=hourly_summary_ax_list)\n",
    "multi_backend_summary_table_image_path = save_temporary_dataframe_image(\n",
    "    df=multi_backend_summary_df)\n",
    "generation_to_upload_period_pivot_table_image_path = save_temporary_plot_image(\n",
    "    ax=generation_to_upload_period_pivot_table_ax)"
   ]
  },
  {
   "cell_type": "markdown",
   "metadata": {
    "execution": {
     "iopub.execute_input": "2020-09-02T08:20:16.981187Z",
     "iopub.status.busy": "2020-09-02T08:20:16.980584Z",
     "iopub.status.idle": "2020-09-02T08:20:20.068070Z",
     "shell.execute_reply": "2020-09-02T08:20:20.068598Z"
    },
    "papermill": {
     "duration": 0.071461,
     "end_time": "2020-11-16T23:22:52.580540",
     "exception": false,
     "start_time": "2020-11-16T23:22:52.509079",
     "status": "completed"
    },
    "pycharm": {
     "name": "#%% md\n"
    },
    "tags": []
   },
   "source": [
    "### Save Results"
   ]
  },
  {
   "cell_type": "code",
   "execution_count": 60,
   "metadata": {
    "collapsed": false,
    "execution": {
     "iopub.execute_input": "2020-11-16T23:22:52.717162Z",
     "iopub.status.busy": "2020-11-16T23:22:52.716498Z",
     "iopub.status.idle": "2020-11-16T23:22:52.744705Z",
     "shell.execute_reply": "2020-11-16T23:22:52.744198Z"
    },
    "papermill": {
     "duration": 0.099027,
     "end_time": "2020-11-16T23:22:52.744841",
     "exception": false,
     "start_time": "2020-11-16T23:22:52.645814",
     "status": "completed"
    },
    "pycharm": {
     "name": "#%%\n"
    },
    "tags": []
   },
   "outputs": [],
   "source": [
    "report_resources_path_prefix = \"Data/Resources/Current/RadarCOVID-Report-\"\n",
    "result_summary_df.to_csv(\n",
    "    report_resources_path_prefix + \"Summary-Table.csv\")\n",
    "result_summary_df.to_html(\n",
    "    report_resources_path_prefix + \"Summary-Table.html\")\n",
    "hourly_summary_df.to_csv(\n",
    "    report_resources_path_prefix + \"Hourly-Summary-Table.csv\")\n",
    "multi_backend_summary_df.to_csv(\n",
    "    report_resources_path_prefix + \"Multi-Backend-Summary-Table.csv\")\n",
    "multi_backend_cross_sharing_summary_df.to_csv(\n",
    "    report_resources_path_prefix + \"Multi-Backend-Cross-Sharing-Summary-Table.csv\")\n",
    "generation_to_upload_period_pivot_df.to_csv(\n",
    "    report_resources_path_prefix + \"Generation-Upload-Period-Table.csv\")\n",
    "_ = shutil.copyfile(\n",
    "    summary_plots_image_path,\n",
    "    report_resources_path_prefix + \"Summary-Plots.png\")\n",
    "_ = shutil.copyfile(\n",
    "    summary_table_image_path,\n",
    "    report_resources_path_prefix + \"Summary-Table.png\")\n",
    "_ = shutil.copyfile(\n",
    "    hourly_summary_plots_image_path,\n",
    "    report_resources_path_prefix + \"Hourly-Summary-Plots.png\")\n",
    "_ = shutil.copyfile(\n",
    "    multi_backend_summary_table_image_path,\n",
    "    report_resources_path_prefix + \"Multi-Backend-Summary-Table.png\")\n",
    "_ = shutil.copyfile(\n",
    "    generation_to_upload_period_pivot_table_image_path,\n",
    "    report_resources_path_prefix + \"Generation-Upload-Period-Table.png\")"
   ]
  },
  {
   "cell_type": "markdown",
   "metadata": {
    "collapsed": false,
    "papermill": {
     "duration": 0.067998,
     "end_time": "2020-11-16T23:22:52.880731",
     "exception": false,
     "start_time": "2020-11-16T23:22:52.812733",
     "status": "completed"
    },
    "pycharm": {
     "name": "#%% md\n"
    },
    "tags": []
   },
   "source": [
    "### Publish Results as JSON"
   ]
  },
  {
   "cell_type": "code",
   "execution_count": 61,
   "metadata": {
    "execution": {
     "iopub.execute_input": "2020-11-16T23:22:53.025589Z",
     "iopub.status.busy": "2020-11-16T23:22:53.019593Z",
     "iopub.status.idle": "2020-11-16T23:22:53.034393Z",
     "shell.execute_reply": "2020-11-16T23:22:53.034819Z"
    },
    "papermill": {
     "duration": 0.089291,
     "end_time": "2020-11-16T23:22:53.034953",
     "exception": false,
     "start_time": "2020-11-16T23:22:52.945662",
     "status": "completed"
    },
    "pycharm": {
     "name": "#%%\n"
    },
    "tags": []
   },
   "outputs": [],
   "source": [
    "def generate_summary_api_results(df: pd.DataFrame) -> list:\n",
    "    api_df = df.reset_index().copy()\n",
    "    api_df[\"sample_date_string\"] = \\\n",
    "        api_df[\"sample_date\"].dt.strftime(\"%Y-%m-%d\")\n",
    "    api_df[\"source_regions\"] = \\\n",
    "        api_df[\"source_regions\"].apply(lambda x: x.split(\",\"))\n",
    "    return api_df.to_dict(orient=\"records\")\n",
    "\n",
    "summary_api_results = \\\n",
    "    generate_summary_api_results(df=result_summary_df)\n",
    "today_summary_api_results = \\\n",
    "    generate_summary_api_results(df=extraction_date_result_summary_df)[0]\n",
    "\n",
    "summary_results = dict(\n",
    "    backend_identifier=report_backend_identifier,\n",
    "    source_regions=report_source_regions,\n",
    "    extraction_datetime=extraction_datetime,\n",
    "    extraction_date=extraction_date,\n",
    "    extraction_date_with_hour=extraction_date_with_hour,\n",
    "    last_hour=dict(\n",
    "        shared_teks_by_upload_date=shared_teks_by_upload_date_last_hour,\n",
    "        shared_diagnoses=0,\n",
    "    ),\n",
    "    today=today_summary_api_results,\n",
    "    last_7_days=last_7_days_summary,\n",
    "    daily_results=summary_api_results)\n",
    "\n",
    "summary_results = \\\n",
    "    json.loads(pd.Series([summary_results]).to_json(orient=\"records\"))[0]\n",
    "\n",
    "with open(report_resources_path_prefix + \"Summary-Results.json\", \"w\") as f:\n",
    "    json.dump(summary_results, f, indent=4)"
   ]
  },
  {
   "cell_type": "markdown",
   "metadata": {
    "execution": {
     "iopub.execute_input": "2020-09-02T08:20:20.895901Z",
     "iopub.status.busy": "2020-09-02T08:20:20.895301Z",
     "iopub.status.idle": "2020-09-02T08:20:20.942286Z",
     "shell.execute_reply": "2020-09-02T08:20:20.942834Z"
    },
    "papermill": {
     "duration": 0.065892,
     "end_time": "2020-11-16T23:22:53.173174",
     "exception": false,
     "start_time": "2020-11-16T23:22:53.107282",
     "status": "completed"
    },
    "pycharm": {
     "name": "#%% md\n"
    },
    "tags": []
   },
   "source": [
    "### Publish on README"
   ]
  },
  {
   "cell_type": "code",
   "execution_count": 62,
   "metadata": {
    "collapsed": false,
    "execution": {
     "iopub.execute_input": "2020-11-16T23:22:53.311252Z",
     "iopub.status.busy": "2020-11-16T23:22:53.310648Z",
     "iopub.status.idle": "2020-11-16T23:22:53.313679Z",
     "shell.execute_reply": "2020-11-16T23:22:53.314307Z"
    },
    "papermill": {
     "duration": 0.075599,
     "end_time": "2020-11-16T23:22:53.314463",
     "exception": false,
     "start_time": "2020-11-16T23:22:53.238864",
     "status": "completed"
    },
    "pycharm": {
     "name": "#%%\n"
    },
    "tags": []
   },
   "outputs": [],
   "source": [
    "with open(\"Data/Templates/README.md\", \"r\") as f:\n",
    "    readme_contents = f.read()\n",
    "\n",
    "readme_contents = readme_contents.format(\n",
    "    extraction_date_with_hour=extraction_date_with_hour,\n",
    "    github_project_base_url=github_project_base_url,\n",
    "    daily_summary_table_html=daily_summary_table_html,\n",
    "    multi_backend_summary_table_html=multi_backend_summary_table_html,\n",
    "    multi_backend_cross_sharing_summary_table_html=multi_backend_cross_sharing_summary_table_html,\n",
    "    display_source_regions=display_source_regions)\n",
    "\n",
    "with open(\"README.md\", \"w\") as f:\n",
    "    f.write(readme_contents)"
   ]
  },
  {
   "cell_type": "markdown",
   "metadata": {
    "collapsed": false,
    "papermill": {
     "duration": 0.069993,
     "end_time": "2020-11-16T23:22:53.455205",
     "exception": false,
     "start_time": "2020-11-16T23:22:53.385212",
     "status": "completed"
    },
    "pycharm": {
     "name": "#%% md\n"
    },
    "tags": []
   },
   "source": [
    "### Publish on Twitter"
   ]
  },
  {
   "cell_type": "code",
   "execution_count": 63,
   "metadata": {
    "collapsed": false,
    "execution": {
     "iopub.execute_input": "2020-11-16T23:22:53.607391Z",
     "iopub.status.busy": "2020-11-16T23:22:53.602633Z",
     "iopub.status.idle": "2020-11-16T23:23:02.793797Z",
     "shell.execute_reply": "2020-11-16T23:23:02.794328Z"
    },
    "papermill": {
     "duration": 9.269604,
     "end_time": "2020-11-16T23:23:02.794513",
     "exception": false,
     "start_time": "2020-11-16T23:22:53.524909",
     "status": "completed"
    },
    "pycharm": {
     "name": "#%%\n"
    },
    "tags": []
   },
   "outputs": [],
   "source": [
    "enable_share_to_twitter = os.environ.get(\"RADARCOVID_REPORT__ENABLE_PUBLISH_ON_TWITTER\")\n",
    "github_event_name = os.environ.get(\"GITHUB_EVENT_NAME\")\n",
    "\n",
    "if enable_share_to_twitter and github_event_name == \"schedule\" and \\\n",
    "        (shared_teks_by_upload_date_last_hour or not are_today_results_partial):\n",
    "    import tweepy\n",
    "\n",
    "    twitter_api_auth_keys = os.environ[\"RADARCOVID_REPORT__TWITTER_API_AUTH_KEYS\"]\n",
    "    twitter_api_auth_keys = twitter_api_auth_keys.split(\":\")\n",
    "    auth = tweepy.OAuthHandler(twitter_api_auth_keys[0], twitter_api_auth_keys[1])\n",
    "    auth.set_access_token(twitter_api_auth_keys[2], twitter_api_auth_keys[3])\n",
    "\n",
    "    api = tweepy.API(auth)\n",
    "\n",
    "    summary_plots_media = api.media_upload(summary_plots_image_path)\n",
    "    summary_table_media = api.media_upload(summary_table_image_path)\n",
    "    generation_to_upload_period_pivot_table_image_media = api.media_upload(generation_to_upload_period_pivot_table_image_path)\n",
    "    media_ids = [\n",
    "        summary_plots_media.media_id,\n",
    "        summary_table_media.media_id,\n",
    "        generation_to_upload_period_pivot_table_image_media.media_id,\n",
    "    ]\n",
    "\n",
    "    if are_today_results_partial:\n",
    "        today_addendum = \" (Partial)\"\n",
    "    else:\n",
    "        today_addendum = \"\"\n",
    "\n",
    "    status = textwrap.dedent(f\"\"\"\n",
    "        #RadarCOVID – {extraction_date_with_hour}\n",
    "\n",
    "        Source Countries: {display_brief_source_regions}\n",
    "\n",
    "        Today{today_addendum}:\n",
    "        - Uploaded TEKs: {shared_teks_by_upload_date:.0f} ({shared_teks_by_upload_date_last_hour:+d} last hour)\n",
    "        - Shared Diagnoses: ≤{shared_diagnoses:.0f}\n",
    "        - Usage Ratio: ≤{shared_diagnoses_per_covid_case:.2%}\n",
    "\n",
    "        Last 7 Days:\n",
    "        - Shared Diagnoses: ≤{last_7_days_summary[\"shared_diagnoses\"]:.0f}\n",
    "        - Usage Ratio: ≤{last_7_days_summary[\"shared_diagnoses_per_covid_case\"]:.2%}\n",
    "\n",
    "        Info: {github_project_base_url}#documentation\n",
    "        \"\"\")\n",
    "    status = status.encode(encoding=\"utf-8\")\n",
    "    api.update_status(status=status, media_ids=media_ids)"
   ]
  }
 ],
 "metadata": {
  "kernelspec": {
   "display_name": "Python 3",
   "language": "python",
   "name": "python3"
  },
  "language_info": {
   "codemirror_mode": {
    "name": "ipython",
    "version": 3
   },
   "file_extension": ".py",
   "mimetype": "text/x-python",
   "name": "python",
   "nbconvert_exporter": "python",
   "pygments_lexer": "ipython3",
   "version": "3.8.6"
  },
  "papermill": {
   "duration": 408.35664,
   "end_time": "2020-11-16T23:23:04.880723",
   "environment_variables": {},
   "exception": null,
   "input_path": "Notebooks/RadarCOVID-Report/Source/RadarCOVID-Report.ipynb",
   "output_path": "RadarCOVID-Report.ipynb",
   "parameters": {},
   "start_time": "2020-11-16T23:16:16.524083",
   "version": "2.1.3"
  }
 },
 "nbformat": 4,
 "nbformat_minor": 1
}