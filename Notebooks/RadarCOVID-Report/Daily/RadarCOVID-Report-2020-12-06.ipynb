{
 "cells": [
  {
   "cell_type": "markdown",
   "metadata": {
    "papermill": {
     "duration": 0.044985,
     "end_time": "2020-12-06T23:28:03.837082",
     "exception": false,
     "start_time": "2020-12-06T23:28:03.792097",
     "status": "completed"
    },
    "pycharm": {
     "name": "#%% md\n"
    },
    "tags": []
   },
   "source": [
    "# RadarCOVID-Report"
   ]
  },
  {
   "cell_type": "markdown",
   "metadata": {
    "collapsed": true,
    "papermill": {
     "duration": 0.042281,
     "end_time": "2020-12-06T23:28:03.924660",
     "exception": false,
     "start_time": "2020-12-06T23:28:03.882379",
     "status": "completed"
    },
    "pycharm": {
     "name": "#%% md\n"
    },
    "tags": []
   },
   "source": [
    "## Data Extraction"
   ]
  },
  {
   "cell_type": "code",
   "execution_count": 1,
   "metadata": {
    "execution": {
     "iopub.execute_input": "2020-12-06T23:28:04.022257Z",
     "iopub.status.busy": "2020-12-06T23:28:04.021619Z",
     "iopub.status.idle": "2020-12-06T23:28:06.334468Z",
     "shell.execute_reply": "2020-12-06T23:28:06.334986Z"
    },
    "papermill": {
     "duration": 2.366614,
     "end_time": "2020-12-06T23:28:06.335296",
     "exception": false,
     "start_time": "2020-12-06T23:28:03.968682",
     "status": "completed"
    },
    "pycharm": {
     "name": "#%%\n"
    },
    "tags": []
   },
   "outputs": [],
   "source": [
    "import datetime\n",
    "import json\n",
    "import logging\n",
    "import os\n",
    "import shutil\n",
    "import tempfile\n",
    "import textwrap\n",
    "import uuid\n",
    "\n",
    "import matplotlib.pyplot as plt\n",
    "import matplotlib.ticker\n",
    "import numpy as np\n",
    "import pandas as pd\n",
    "import retry\n",
    "import seaborn as sns\n",
    "\n",
    "%matplotlib inline"
   ]
  },
  {
   "cell_type": "code",
   "execution_count": 2,
   "metadata": {
    "collapsed": false,
    "execution": {
     "iopub.execute_input": "2020-12-06T23:28:06.432320Z",
     "iopub.status.busy": "2020-12-06T23:28:06.431715Z",
     "iopub.status.idle": "2020-12-06T23:28:06.433692Z",
     "shell.execute_reply": "2020-12-06T23:28:06.434163Z"
    },
    "papermill": {
     "duration": 0.053417,
     "end_time": "2020-12-06T23:28:06.434313",
     "exception": false,
     "start_time": "2020-12-06T23:28:06.380896",
     "status": "completed"
    },
    "pycharm": {
     "name": "#%%\n"
    },
    "tags": []
   },
   "outputs": [],
   "source": [
    "current_working_directory = os.environ.get(\"PWD\")\n",
    "if current_working_directory:\n",
    "    os.chdir(current_working_directory)\n",
    "\n",
    "sns.set()\n",
    "matplotlib.rcParams[\"figure.figsize\"] = (15, 6)\n",
    "\n",
    "extraction_datetime = datetime.datetime.utcnow()\n",
    "extraction_date = extraction_datetime.strftime(\"%Y-%m-%d\")\n",
    "extraction_previous_datetime = extraction_datetime - datetime.timedelta(days=1)\n",
    "extraction_previous_date = extraction_previous_datetime.strftime(\"%Y-%m-%d\")\n",
    "extraction_date_with_hour = datetime.datetime.utcnow().strftime(\"%Y-%m-%d@%H\")\n",
    "current_hour = datetime.datetime.utcnow().hour\n",
    "are_today_results_partial = current_hour != 23"
   ]
  },
  {
   "cell_type": "markdown",
   "metadata": {
    "collapsed": false,
    "papermill": {
     "duration": 0.043353,
     "end_time": "2020-12-06T23:28:06.521934",
     "exception": false,
     "start_time": "2020-12-06T23:28:06.478581",
     "status": "completed"
    },
    "tags": []
   },
   "source": [
    "### Constants"
   ]
  },
  {
   "cell_type": "code",
   "execution_count": 3,
   "metadata": {
    "execution": {
     "iopub.execute_input": "2020-12-06T23:28:06.612595Z",
     "iopub.status.busy": "2020-12-06T23:28:06.611987Z",
     "iopub.status.idle": "2020-12-06T23:28:06.765774Z",
     "shell.execute_reply": "2020-12-06T23:28:06.765165Z"
    },
    "papermill": {
     "duration": 0.200824,
     "end_time": "2020-12-06T23:28:06.765916",
     "exception": false,
     "start_time": "2020-12-06T23:28:06.565092",
     "status": "completed"
    },
    "pycharm": {
     "name": "#%%\n"
    },
    "tags": []
   },
   "outputs": [],
   "source": [
    "from Modules.ExposureNotification import exposure_notification_io\n",
    "\n",
    "spain_region_country_code = \"ES\"\n",
    "germany_region_country_code = \"DE\"\n",
    "\n",
    "default_backend_identifier = spain_region_country_code\n",
    "\n",
    "backend_generation_days = 7 * 2\n",
    "daily_summary_days = 7 * 4 * 3\n",
    "daily_plot_days = 7 * 4\n",
    "tek_dumps_load_limit = daily_summary_days + 1"
   ]
  },
  {
   "cell_type": "markdown",
   "metadata": {
    "collapsed": false,
    "papermill": {
     "duration": 0.043788,
     "end_time": "2020-12-06T23:28:06.860317",
     "exception": false,
     "start_time": "2020-12-06T23:28:06.816529",
     "status": "completed"
    },
    "tags": []
   },
   "source": [
    "### Parameters"
   ]
  },
  {
   "cell_type": "code",
   "execution_count": 4,
   "metadata": {
    "collapsed": false,
    "execution": {
     "iopub.execute_input": "2020-12-06T23:28:06.953023Z",
     "iopub.status.busy": "2020-12-06T23:28:06.952411Z",
     "iopub.status.idle": "2020-12-06T23:28:06.955592Z",
     "shell.execute_reply": "2020-12-06T23:28:06.956084Z"
    },
    "papermill": {
     "duration": 0.052616,
     "end_time": "2020-12-06T23:28:06.956250",
     "exception": false,
     "start_time": "2020-12-06T23:28:06.903634",
     "status": "completed"
    },
    "pycharm": {
     "name": "#%%\n"
    },
    "tags": []
   },
   "outputs": [
    {
     "data": {
      "text/plain": [
       "'ES'"
      ]
     },
     "execution_count": 4,
     "metadata": {},
     "output_type": "execute_result"
    }
   ],
   "source": [
    "environment_backend_identifier = os.environ.get(\"RADARCOVID_REPORT__BACKEND_IDENTIFIER\")\n",
    "if environment_backend_identifier:\n",
    "    report_backend_identifier = environment_backend_identifier\n",
    "else:\n",
    "    report_backend_identifier = default_backend_identifier\n",
    "report_backend_identifier"
   ]
  },
  {
   "cell_type": "code",
   "execution_count": 5,
   "metadata": {
    "collapsed": false,
    "execution": {
     "iopub.execute_input": "2020-12-06T23:28:07.048541Z",
     "iopub.status.busy": "2020-12-06T23:28:07.047943Z",
     "iopub.status.idle": "2020-12-06T23:28:07.050406Z",
     "shell.execute_reply": "2020-12-06T23:28:07.049892Z"
    },
    "papermill": {
     "duration": 0.050426,
     "end_time": "2020-12-06T23:28:07.050545",
     "exception": false,
     "start_time": "2020-12-06T23:28:07.000119",
     "status": "completed"
    },
    "pycharm": {
     "name": "#%%\n"
    },
    "tags": []
   },
   "outputs": [],
   "source": [
    "environment_enable_multi_backend_download = \\\n",
    "    os.environ.get(\"RADARCOVID_REPORT__ENABLE_MULTI_BACKEND_DOWNLOAD\")\n",
    "if environment_enable_multi_backend_download:\n",
    "    report_backend_identifiers = None\n",
    "else:\n",
    "    report_backend_identifiers = [report_backend_identifier]\n",
    "\n",
    "report_backend_identifiers"
   ]
  },
  {
   "cell_type": "code",
   "execution_count": 6,
   "metadata": {
    "collapsed": false,
    "execution": {
     "iopub.execute_input": "2020-12-06T23:28:07.142763Z",
     "iopub.status.busy": "2020-12-06T23:28:07.142152Z",
     "iopub.status.idle": "2020-12-06T23:28:07.145575Z",
     "shell.execute_reply": "2020-12-06T23:28:07.145004Z"
    },
    "papermill": {
     "duration": 0.051906,
     "end_time": "2020-12-06T23:28:07.145710",
     "exception": false,
     "start_time": "2020-12-06T23:28:07.093804",
     "status": "completed"
    },
    "pycharm": {
     "name": "#%%\n"
    },
    "tags": []
   },
   "outputs": [
    {
     "data": {
      "text/plain": [
       "['2020-10-30', '2020-12-02', '2020-12-05']"
      ]
     },
     "execution_count": 6,
     "metadata": {},
     "output_type": "execute_result"
    }
   ],
   "source": [
    "environment_invalid_shared_diagnoses_dates = \\\n",
    "    os.environ.get(\"RADARCOVID_REPORT__INVALID_SHARED_DIAGNOSES_DATES\")\n",
    "if environment_invalid_shared_diagnoses_dates:\n",
    "    invalid_shared_diagnoses_dates = environment_invalid_shared_diagnoses_dates.split(\",\")\n",
    "else:\n",
    "    invalid_shared_diagnoses_dates = []\n",
    "\n",
    "invalid_shared_diagnoses_dates"
   ]
  },
  {
   "cell_type": "markdown",
   "metadata": {
    "collapsed": false,
    "papermill": {
     "duration": 0.043265,
     "end_time": "2020-12-06T23:28:07.234540",
     "exception": false,
     "start_time": "2020-12-06T23:28:07.191275",
     "status": "completed"
    },
    "pycharm": {
     "name": "#%% md\n"
    },
    "tags": []
   },
   "source": [
    "### COVID-19 Cases"
   ]
  },
  {
   "cell_type": "code",
   "execution_count": 7,
   "metadata": {
    "collapsed": false,
    "execution": {
     "iopub.execute_input": "2020-12-06T23:28:07.327832Z",
     "iopub.status.busy": "2020-12-06T23:28:07.327188Z",
     "iopub.status.idle": "2020-12-06T23:28:07.329159Z",
     "shell.execute_reply": "2020-12-06T23:28:07.329690Z"
    },
    "papermill": {
     "duration": 0.050373,
     "end_time": "2020-12-06T23:28:07.329879",
     "exception": false,
     "start_time": "2020-12-06T23:28:07.279506",
     "status": "completed"
    },
    "pycharm": {
     "name": "#%%\n"
    },
    "tags": []
   },
   "outputs": [],
   "source": [
    "report_backend_client = \\\n",
    "    exposure_notification_io.get_backend_client_with_identifier(\n",
    "        backend_identifier=report_backend_identifier)"
   ]
  },
  {
   "cell_type": "code",
   "execution_count": 8,
   "metadata": {
    "collapsed": false,
    "execution": {
     "iopub.execute_input": "2020-12-06T23:28:07.425492Z",
     "iopub.status.busy": "2020-12-06T23:28:07.424848Z",
     "iopub.status.idle": "2020-12-06T23:28:15.573293Z",
     "shell.execute_reply": "2020-12-06T23:28:15.572758Z"
    },
    "papermill": {
     "duration": 8.199321,
     "end_time": "2020-12-06T23:28:15.573444",
     "exception": false,
     "start_time": "2020-12-06T23:28:07.374123",
     "status": "completed"
    },
    "pycharm": {
     "name": "#%%\n"
    },
    "tags": []
   },
   "outputs": [],
   "source": [
    "@retry.retry(tries=10, delay=10, backoff=1.1, jitter=(0, 10))\n",
    "def download_cases_dataframe_from_ecdc():\n",
    "    return pd.read_csv(\n",
    "        \"https://opendata.ecdc.europa.eu/covid19/casedistribution/csv/data.csv\")\n",
    "\n",
    "confirmed_df_ = download_cases_dataframe_from_ecdc()"
   ]
  },
  {
   "cell_type": "code",
   "execution_count": 9,
   "metadata": {
    "collapsed": false,
    "execution": {
     "iopub.execute_input": "2020-12-06T23:28:15.698485Z",
     "iopub.status.busy": "2020-12-06T23:28:15.697852Z",
     "iopub.status.idle": "2020-12-06T23:28:16.155165Z",
     "shell.execute_reply": "2020-12-06T23:28:16.155702Z"
    },
    "papermill": {
     "duration": 0.525953,
     "end_time": "2020-12-06T23:28:16.155888",
     "exception": false,
     "start_time": "2020-12-06T23:28:15.629935",
     "status": "completed"
    },
    "pycharm": {
     "name": "#%%\n"
    },
    "tags": []
   },
   "outputs": [
    {
     "data": {
      "text/html": [
       "<div>\n",
       "<style scoped>\n",
       "    .dataframe tbody tr th:only-of-type {\n",
       "        vertical-align: middle;\n",
       "    }\n",
       "\n",
       "    .dataframe tbody tr th {\n",
       "        vertical-align: top;\n",
       "    }\n",
       "\n",
       "    .dataframe thead th {\n",
       "        text-align: right;\n",
       "    }\n",
       "</style>\n",
       "<table border=\"1\" class=\"dataframe\">\n",
       "  <thead>\n",
       "    <tr style=\"text-align: right;\">\n",
       "      <th></th>\n",
       "      <th>sample_date</th>\n",
       "      <th>new_cases</th>\n",
       "      <th>country_code</th>\n",
       "    </tr>\n",
       "  </thead>\n",
       "  <tbody>\n",
       "    <tr>\n",
       "      <th>28657</th>\n",
       "      <td>2020-12-06</td>\n",
       "      <td>76</td>\n",
       "      <td>JM</td>\n",
       "    </tr>\n",
       "    <tr>\n",
       "      <th>52487</th>\n",
       "      <td>2020-12-06</td>\n",
       "      <td>0</td>\n",
       "      <td>SE</td>\n",
       "    </tr>\n",
       "    <tr>\n",
       "      <th>23813</th>\n",
       "      <td>2020-12-06</td>\n",
       "      <td>47</td>\n",
       "      <td>GN</td>\n",
       "    </tr>\n",
       "    <tr>\n",
       "      <th>43548</th>\n",
       "      <td>2020-12-06</td>\n",
       "      <td>1828</td>\n",
       "      <td>PE</td>\n",
       "    </tr>\n",
       "    <tr>\n",
       "      <th>0</th>\n",
       "      <td>2020-12-06</td>\n",
       "      <td>234</td>\n",
       "      <td>AF</td>\n",
       "    </tr>\n",
       "  </tbody>\n",
       "</table>\n",
       "</div>"
      ],
      "text/plain": [
       "      sample_date  new_cases country_code\n",
       "28657  2020-12-06         76           JM\n",
       "52487  2020-12-06          0           SE\n",
       "23813  2020-12-06         47           GN\n",
       "43548  2020-12-06       1828           PE\n",
       "0      2020-12-06        234           AF"
      ]
     },
     "execution_count": 9,
     "metadata": {},
     "output_type": "execute_result"
    }
   ],
   "source": [
    "confirmed_df = confirmed_df_.copy()\n",
    "confirmed_df = confirmed_df[[\"dateRep\", \"cases\", \"geoId\"]]\n",
    "confirmed_df.rename(\n",
    "    columns={\n",
    "        \"dateRep\":\"sample_date\",\n",
    "        \"cases\": \"new_cases\",\n",
    "        \"geoId\": \"country_code\",\n",
    "    },\n",
    "    inplace=True)\n",
    "confirmed_df[\"sample_date\"] = pd.to_datetime(confirmed_df.sample_date, dayfirst=True)\n",
    "confirmed_df[\"sample_date\"] = confirmed_df.sample_date.dt.strftime(\"%Y-%m-%d\")\n",
    "confirmed_df.sort_values(\"sample_date\", inplace=True)\n",
    "confirmed_df.tail()"
   ]
  },
  {
   "cell_type": "code",
   "execution_count": 10,
   "metadata": {
    "collapsed": false,
    "execution": {
     "iopub.execute_input": "2020-12-06T23:28:16.389528Z",
     "iopub.status.busy": "2020-12-06T23:28:16.388802Z",
     "iopub.status.idle": "2020-12-06T23:28:16.390662Z",
     "shell.execute_reply": "2020-12-06T23:28:16.390110Z"
    },
    "papermill": {
     "duration": 0.104453,
     "end_time": "2020-12-06T23:28:16.390808",
     "exception": false,
     "start_time": "2020-12-06T23:28:16.286355",
     "status": "completed"
    },
    "pycharm": {
     "name": "#%%\n"
    },
    "tags": []
   },
   "outputs": [],
   "source": [
    "def sort_source_regions_for_display(source_regions: list) -> list:\n",
    "    if report_backend_identifier in source_regions:\n",
    "        source_regions = [report_backend_identifier] + \\\n",
    "            list(sorted(set(source_regions).difference([report_backend_identifier])))\n",
    "    else:\n",
    "        source_regions = list(sorted(source_regions))\n",
    "    return source_regions"
   ]
  },
  {
   "cell_type": "code",
   "execution_count": 11,
   "metadata": {
    "collapsed": false,
    "execution": {
     "iopub.execute_input": "2020-12-06T23:28:16.589098Z",
     "iopub.status.busy": "2020-12-06T23:28:16.588456Z",
     "iopub.status.idle": "2020-12-06T23:28:16.593486Z",
     "shell.execute_reply": "2020-12-06T23:28:16.592851Z"
    },
    "papermill": {
     "duration": 0.146914,
     "end_time": "2020-12-06T23:28:16.593621",
     "exception": false,
     "start_time": "2020-12-06T23:28:16.446707",
     "status": "completed"
    },
    "pycharm": {
     "name": "#%%\n"
    },
    "tags": []
   },
   "outputs": [
    {
     "data": {
      "text/plain": [
       "['ES', 'DE', 'DK', 'HR', 'IE', 'IT', 'LV', 'NL', 'PL']"
      ]
     },
     "execution_count": 11,
     "metadata": {},
     "output_type": "execute_result"
    }
   ],
   "source": [
    "report_source_regions = report_backend_client.source_regions_for_date(\n",
    "    date=extraction_datetime.date())\n",
    "report_source_regions = sort_source_regions_for_display(\n",
    "    source_regions=report_source_regions)\n",
    "report_source_regions"
   ]
  },
  {
   "cell_type": "code",
   "execution_count": 12,
   "metadata": {
    "collapsed": false,
    "execution": {
     "iopub.execute_input": "2020-12-06T23:28:16.700453Z",
     "iopub.status.busy": "2020-12-06T23:28:16.699823Z",
     "iopub.status.idle": "2020-12-06T23:28:16.703150Z",
     "shell.execute_reply": "2020-12-06T23:28:16.702636Z"
    },
    "papermill": {
     "duration": 0.06314,
     "end_time": "2020-12-06T23:28:16.703285",
     "exception": false,
     "start_time": "2020-12-06T23:28:16.640145",
     "status": "completed"
    },
    "pycharm": {
     "name": "#%%\n"
    },
    "tags": []
   },
   "outputs": [
    {
     "data": {
      "text/html": [
       "<div>\n",
       "<style scoped>\n",
       "    .dataframe tbody tr th:only-of-type {\n",
       "        vertical-align: middle;\n",
       "    }\n",
       "\n",
       "    .dataframe tbody tr th {\n",
       "        vertical-align: top;\n",
       "    }\n",
       "\n",
       "    .dataframe thead th {\n",
       "        text-align: right;\n",
       "    }\n",
       "</style>\n",
       "<table border=\"1\" class=\"dataframe\">\n",
       "  <thead>\n",
       "    <tr style=\"text-align: right;\">\n",
       "      <th></th>\n",
       "      <th>sample_date</th>\n",
       "      <th>sample_date_string</th>\n",
       "    </tr>\n",
       "  </thead>\n",
       "  <tbody>\n",
       "    <tr>\n",
       "      <th>337</th>\n",
       "      <td>2020-12-02</td>\n",
       "      <td>2020-12-02</td>\n",
       "    </tr>\n",
       "    <tr>\n",
       "      <th>338</th>\n",
       "      <td>2020-12-03</td>\n",
       "      <td>2020-12-03</td>\n",
       "    </tr>\n",
       "    <tr>\n",
       "      <th>339</th>\n",
       "      <td>2020-12-04</td>\n",
       "      <td>2020-12-04</td>\n",
       "    </tr>\n",
       "    <tr>\n",
       "      <th>340</th>\n",
       "      <td>2020-12-05</td>\n",
       "      <td>2020-12-05</td>\n",
       "    </tr>\n",
       "    <tr>\n",
       "      <th>341</th>\n",
       "      <td>2020-12-06</td>\n",
       "      <td>2020-12-06</td>\n",
       "    </tr>\n",
       "  </tbody>\n",
       "</table>\n",
       "</div>"
      ],
      "text/plain": [
       "    sample_date sample_date_string\n",
       "337  2020-12-02         2020-12-02\n",
       "338  2020-12-03         2020-12-03\n",
       "339  2020-12-04         2020-12-04\n",
       "340  2020-12-05         2020-12-05\n",
       "341  2020-12-06         2020-12-06"
      ]
     },
     "execution_count": 12,
     "metadata": {},
     "output_type": "execute_result"
    }
   ],
   "source": [
    "confirmed_days = pd.date_range(\n",
    "    start=confirmed_df.iloc[0].sample_date,\n",
    "    end=extraction_datetime)\n",
    "confirmed_days_df = pd.DataFrame(data=confirmed_days, columns=[\"sample_date\"])\n",
    "confirmed_days_df[\"sample_date_string\"] = \\\n",
    "    confirmed_days_df.sample_date.dt.strftime(\"%Y-%m-%d\")\n",
    "confirmed_days_df.tail()"
   ]
  },
  {
   "cell_type": "code",
   "execution_count": 13,
   "metadata": {
    "collapsed": false,
    "execution": {
     "iopub.execute_input": "2020-12-06T23:28:16.815317Z",
     "iopub.status.busy": "2020-12-06T23:28:16.807541Z",
     "iopub.status.idle": "2020-12-06T23:28:16.819054Z",
     "shell.execute_reply": "2020-12-06T23:28:16.818476Z"
    },
    "papermill": {
     "duration": 0.07003,
     "end_time": "2020-12-06T23:28:16.819202",
     "exception": false,
     "start_time": "2020-12-06T23:28:16.749172",
     "status": "completed"
    },
    "pycharm": {
     "name": "#%%\n"
    },
    "tags": []
   },
   "outputs": [
    {
     "data": {
      "text/html": [
       "<div>\n",
       "<style scoped>\n",
       "    .dataframe tbody tr th:only-of-type {\n",
       "        vertical-align: middle;\n",
       "    }\n",
       "\n",
       "    .dataframe tbody tr th {\n",
       "        vertical-align: top;\n",
       "    }\n",
       "\n",
       "    .dataframe thead th {\n",
       "        text-align: right;\n",
       "    }\n",
       "</style>\n",
       "<table border=\"1\" class=\"dataframe\">\n",
       "  <thead>\n",
       "    <tr style=\"text-align: right;\">\n",
       "      <th></th>\n",
       "      <th>sample_date</th>\n",
       "      <th>sample_date_string</th>\n",
       "      <th>source_regions_at_date</th>\n",
       "      <th>_source_regions_group</th>\n",
       "    </tr>\n",
       "  </thead>\n",
       "  <tbody>\n",
       "    <tr>\n",
       "      <th>337</th>\n",
       "      <td>2020-12-02</td>\n",
       "      <td>2020-12-02</td>\n",
       "      <td>{NL, IT, IE, DK, LV, ES, HR, PL, DE}</td>\n",
       "      <td>ES,DE,DK,HR,IE,IT,LV,NL,PL</td>\n",
       "    </tr>\n",
       "    <tr>\n",
       "      <th>338</th>\n",
       "      <td>2020-12-03</td>\n",
       "      <td>2020-12-03</td>\n",
       "      <td>{ES}</td>\n",
       "      <td>ES</td>\n",
       "    </tr>\n",
       "    <tr>\n",
       "      <th>339</th>\n",
       "      <td>2020-12-04</td>\n",
       "      <td>2020-12-04</td>\n",
       "      <td>{ES}</td>\n",
       "      <td>ES</td>\n",
       "    </tr>\n",
       "    <tr>\n",
       "      <th>340</th>\n",
       "      <td>2020-12-05</td>\n",
       "      <td>2020-12-05</td>\n",
       "      <td>{NL, IT, IE, DK, LV, ES, HR, PL, DE}</td>\n",
       "      <td>ES,DE,DK,HR,IE,IT,LV,NL,PL</td>\n",
       "    </tr>\n",
       "    <tr>\n",
       "      <th>341</th>\n",
       "      <td>2020-12-06</td>\n",
       "      <td>2020-12-06</td>\n",
       "      <td>{NL, IT, IE, DK, LV, ES, HR, PL, DE}</td>\n",
       "      <td>ES,DE,DK,HR,IE,IT,LV,NL,PL</td>\n",
       "    </tr>\n",
       "  </tbody>\n",
       "</table>\n",
       "</div>"
      ],
      "text/plain": [
       "    sample_date sample_date_string                source_regions_at_date  \\\n",
       "337  2020-12-02         2020-12-02  {NL, IT, IE, DK, LV, ES, HR, PL, DE}   \n",
       "338  2020-12-03         2020-12-03                                  {ES}   \n",
       "339  2020-12-04         2020-12-04                                  {ES}   \n",
       "340  2020-12-05         2020-12-05  {NL, IT, IE, DK, LV, ES, HR, PL, DE}   \n",
       "341  2020-12-06         2020-12-06  {NL, IT, IE, DK, LV, ES, HR, PL, DE}   \n",
       "\n",
       "          _source_regions_group  \n",
       "337  ES,DE,DK,HR,IE,IT,LV,NL,PL  \n",
       "338                          ES  \n",
       "339                          ES  \n",
       "340  ES,DE,DK,HR,IE,IT,LV,NL,PL  \n",
       "341  ES,DE,DK,HR,IE,IT,LV,NL,PL  "
      ]
     },
     "execution_count": 13,
     "metadata": {},
     "output_type": "execute_result"
    }
   ],
   "source": [
    "source_regions_at_date_df = confirmed_days_df.copy()\n",
    "source_regions_at_date_df[\"source_regions_at_date\"] = \\\n",
    "    source_regions_at_date_df.sample_date.apply(\n",
    "        lambda x: report_backend_client.source_regions_for_date(date=x))\n",
    "source_regions_at_date_df.sort_values(\"sample_date\", inplace=True)\n",
    "source_regions_at_date_df[\"_source_regions_group\"] = source_regions_at_date_df. \\\n",
    "    source_regions_at_date.apply(lambda x: \",\".join(sort_source_regions_for_display(x)))\n",
    "source_regions_at_date_df.tail()"
   ]
  },
  {
   "cell_type": "code",
   "execution_count": 14,
   "metadata": {
    "collapsed": false,
    "execution": {
     "iopub.execute_input": "2020-12-06T23:28:16.923173Z",
     "iopub.status.busy": "2020-12-06T23:28:16.922496Z",
     "iopub.status.idle": "2020-12-06T23:28:16.925830Z",
     "shell.execute_reply": "2020-12-06T23:28:16.926491Z"
    },
    "papermill": {
     "duration": 0.062625,
     "end_time": "2020-12-06T23:28:16.926704",
     "exception": false,
     "start_time": "2020-12-06T23:28:16.864079",
     "status": "completed"
    },
    "pycharm": {
     "name": "#%%\n"
    },
    "tags": []
   },
   "outputs": [
    {
     "data": {
      "text/html": [
       "<div>\n",
       "<style scoped>\n",
       "    .dataframe tbody tr th:only-of-type {\n",
       "        vertical-align: middle;\n",
       "    }\n",
       "\n",
       "    .dataframe tbody tr th {\n",
       "        vertical-align: top;\n",
       "    }\n",
       "\n",
       "    .dataframe thead th {\n",
       "        text-align: right;\n",
       "    }\n",
       "</style>\n",
       "<table border=\"1\" class=\"dataframe\">\n",
       "  <thead>\n",
       "    <tr style=\"text-align: right;\">\n",
       "      <th></th>\n",
       "      <th>sample_date</th>\n",
       "      <th>source_regions</th>\n",
       "    </tr>\n",
       "  </thead>\n",
       "  <tbody>\n",
       "    <tr>\n",
       "      <th>337</th>\n",
       "      <td>2020-12-02</td>\n",
       "      <td>ES,DE,DK,HR,IE,IT,LV,NL,PL</td>\n",
       "    </tr>\n",
       "    <tr>\n",
       "      <th>338</th>\n",
       "      <td>2020-12-03</td>\n",
       "      <td>ES</td>\n",
       "    </tr>\n",
       "    <tr>\n",
       "      <th>339</th>\n",
       "      <td>2020-12-04</td>\n",
       "      <td>ES</td>\n",
       "    </tr>\n",
       "    <tr>\n",
       "      <th>340</th>\n",
       "      <td>2020-12-05</td>\n",
       "      <td>ES,DE,DK,HR,IE,IT,LV,NL,PL</td>\n",
       "    </tr>\n",
       "    <tr>\n",
       "      <th>341</th>\n",
       "      <td>2020-12-06</td>\n",
       "      <td>ES,DE,DK,HR,IE,IT,LV,NL,PL</td>\n",
       "    </tr>\n",
       "  </tbody>\n",
       "</table>\n",
       "</div>"
      ],
      "text/plain": [
       "    sample_date              source_regions\n",
       "337  2020-12-02  ES,DE,DK,HR,IE,IT,LV,NL,PL\n",
       "338  2020-12-03                          ES\n",
       "339  2020-12-04                          ES\n",
       "340  2020-12-05  ES,DE,DK,HR,IE,IT,LV,NL,PL\n",
       "341  2020-12-06  ES,DE,DK,HR,IE,IT,LV,NL,PL"
      ]
     },
     "execution_count": 14,
     "metadata": {},
     "output_type": "execute_result"
    }
   ],
   "source": [
    "source_regions_for_summary_df = \\\n",
    "    source_regions_at_date_df[[\"sample_date\", \"_source_regions_group\"]].copy()\n",
    "source_regions_for_summary_df.rename(columns={\"_source_regions_group\": \"source_regions\"}, inplace=True)\n",
    "source_regions_for_summary_df.tail()"
   ]
  },
  {
   "cell_type": "code",
   "execution_count": 15,
   "metadata": {
    "collapsed": false,
    "execution": {
     "iopub.execute_input": "2020-12-06T23:28:17.035362Z",
     "iopub.status.busy": "2020-12-06T23:28:17.034731Z",
     "iopub.status.idle": "2020-12-06T23:28:17.118704Z",
     "shell.execute_reply": "2020-12-06T23:28:17.119229Z"
    },
    "papermill": {
     "duration": 0.145763,
     "end_time": "2020-12-06T23:28:17.119397",
     "exception": false,
     "start_time": "2020-12-06T23:28:16.973634",
     "status": "completed"
    },
    "pycharm": {
     "name": "#%%\n"
    },
    "tags": []
   },
   "outputs": [
    {
     "data": {
      "text/html": [
       "<div>\n",
       "<style scoped>\n",
       "    .dataframe tbody tr th:only-of-type {\n",
       "        vertical-align: middle;\n",
       "    }\n",
       "\n",
       "    .dataframe tbody tr th {\n",
       "        vertical-align: top;\n",
       "    }\n",
       "\n",
       "    .dataframe thead th {\n",
       "        text-align: right;\n",
       "    }\n",
       "</style>\n",
       "<table border=\"1\" class=\"dataframe\">\n",
       "  <thead>\n",
       "    <tr style=\"text-align: right;\">\n",
       "      <th></th>\n",
       "      <th>sample_date</th>\n",
       "      <th>new_cases</th>\n",
       "      <th>covid_cases</th>\n",
       "    </tr>\n",
       "  </thead>\n",
       "  <tbody>\n",
       "    <tr>\n",
       "      <th>309</th>\n",
       "      <td>2020-11-04</td>\n",
       "      <td>70966</td>\n",
       "      <td>66020.0</td>\n",
       "    </tr>\n",
       "    <tr>\n",
       "      <th>310</th>\n",
       "      <td>2020-11-05</td>\n",
       "      <td>73194</td>\n",
       "      <td>67010.0</td>\n",
       "    </tr>\n",
       "    <tr>\n",
       "      <th>311</th>\n",
       "      <td>2020-11-06</td>\n",
       "      <td>79454</td>\n",
       "      <td>68044.0</td>\n",
       "    </tr>\n",
       "    <tr>\n",
       "      <th>312</th>\n",
       "      <td>2020-11-07</td>\n",
       "      <td>62050</td>\n",
       "      <td>69596.0</td>\n",
       "    </tr>\n",
       "    <tr>\n",
       "      <th>313</th>\n",
       "      <td>2020-11-08</td>\n",
       "      <td>56547</td>\n",
       "      <td>71025.0</td>\n",
       "    </tr>\n",
       "  </tbody>\n",
       "</table>\n",
       "</div>"
      ],
      "text/plain": [
       "    sample_date new_cases  covid_cases\n",
       "309  2020-11-04     70966      66020.0\n",
       "310  2020-11-05     73194      67010.0\n",
       "311  2020-11-06     79454      68044.0\n",
       "312  2020-11-07     62050      69596.0\n",
       "313  2020-11-08     56547      71025.0"
      ]
     },
     "execution_count": 15,
     "metadata": {},
     "output_type": "execute_result"
    }
   ],
   "source": [
    "confirmed_output_columns = [\"sample_date\", \"new_cases\", \"covid_cases\"]\n",
    "confirmed_output_df = pd.DataFrame(columns=confirmed_output_columns)\n",
    "\n",
    "for source_regions_group, source_regions_group_series in \\\n",
    "        source_regions_at_date_df.groupby(\"_source_regions_group\"):\n",
    "    source_regions_set = set(source_regions_group.split(\",\"))\n",
    "    confirmed_source_regions_set_df = \\\n",
    "        confirmed_df[confirmed_df.country_code.isin(source_regions_set)].copy()\n",
    "    confirmed_source_regions_group_df = \\\n",
    "        confirmed_source_regions_set_df.groupby(\"sample_date\").new_cases.sum() \\\n",
    "            .reset_index().sort_values(\"sample_date\")\n",
    "    confirmed_source_regions_group_df[\"covid_cases\"] = \\\n",
    "        confirmed_source_regions_group_df.new_cases.rolling(7, min_periods=0).mean().round()\n",
    "    confirmed_source_regions_group_df = \\\n",
    "        confirmed_source_regions_group_df[confirmed_output_columns]\n",
    "    confirmed_source_regions_group_df.fillna(method=\"ffill\", inplace=True)\n",
    "    confirmed_source_regions_group_df = \\\n",
    "        confirmed_source_regions_group_df[\n",
    "            confirmed_source_regions_group_df.sample_date.isin(\n",
    "                source_regions_group_series.sample_date_string)]\n",
    "    confirmed_output_df = confirmed_output_df.append(confirmed_source_regions_group_df)\n",
    "\n",
    "confirmed_df = confirmed_output_df.copy()\n",
    "confirmed_df.tail()"
   ]
  },
  {
   "cell_type": "code",
   "execution_count": 16,
   "metadata": {
    "collapsed": false,
    "execution": {
     "iopub.execute_input": "2020-12-06T23:28:17.223985Z",
     "iopub.status.busy": "2020-12-06T23:28:17.223244Z",
     "iopub.status.idle": "2020-12-06T23:28:17.235506Z",
     "shell.execute_reply": "2020-12-06T23:28:17.236038Z"
    },
    "papermill": {
     "duration": 0.067912,
     "end_time": "2020-12-06T23:28:17.236193",
     "exception": false,
     "start_time": "2020-12-06T23:28:17.168281",
     "status": "completed"
    },
    "pycharm": {
     "name": "#%%\n"
    },
    "tags": []
   },
   "outputs": [
    {
     "data": {
      "text/html": [
       "<div>\n",
       "<style scoped>\n",
       "    .dataframe tbody tr th:only-of-type {\n",
       "        vertical-align: middle;\n",
       "    }\n",
       "\n",
       "    .dataframe tbody tr th {\n",
       "        vertical-align: top;\n",
       "    }\n",
       "\n",
       "    .dataframe thead th {\n",
       "        text-align: right;\n",
       "    }\n",
       "</style>\n",
       "<table border=\"1\" class=\"dataframe\">\n",
       "  <thead>\n",
       "    <tr style=\"text-align: right;\">\n",
       "      <th></th>\n",
       "      <th>sample_date_string</th>\n",
       "      <th>new_cases</th>\n",
       "      <th>covid_cases</th>\n",
       "    </tr>\n",
       "  </thead>\n",
       "  <tbody>\n",
       "    <tr>\n",
       "      <th>337</th>\n",
       "      <td>2020-12-02</td>\n",
       "      <td>64337</td>\n",
       "      <td>73246.0</td>\n",
       "    </tr>\n",
       "    <tr>\n",
       "      <th>338</th>\n",
       "      <td>2020-12-03</td>\n",
       "      <td>10127</td>\n",
       "      <td>8364.0</td>\n",
       "    </tr>\n",
       "    <tr>\n",
       "      <th>339</th>\n",
       "      <td>2020-12-04</td>\n",
       "      <td>8745</td>\n",
       "      <td>8063.0</td>\n",
       "    </tr>\n",
       "    <tr>\n",
       "      <th>340</th>\n",
       "      <td>2020-12-05</td>\n",
       "      <td>73038</td>\n",
       "      <td>70106.0</td>\n",
       "    </tr>\n",
       "    <tr>\n",
       "      <th>341</th>\n",
       "      <td>2020-12-06</td>\n",
       "      <td>65216</td>\n",
       "      <td>69827.0</td>\n",
       "    </tr>\n",
       "  </tbody>\n",
       "</table>\n",
       "</div>"
      ],
      "text/plain": [
       "    sample_date_string  new_cases  covid_cases\n",
       "337         2020-12-02      64337      73246.0\n",
       "338         2020-12-03      10127       8364.0\n",
       "339         2020-12-04       8745       8063.0\n",
       "340         2020-12-05      73038      70106.0\n",
       "341         2020-12-06      65216      69827.0"
      ]
     },
     "execution_count": 16,
     "metadata": {},
     "output_type": "execute_result"
    }
   ],
   "source": [
    "confirmed_df.rename(columns={\"sample_date\": \"sample_date_string\"}, inplace=True)\n",
    "confirmed_df = confirmed_days_df[[\"sample_date_string\"]].merge(confirmed_df, how=\"left\")\n",
    "confirmed_df.sort_values(\"sample_date_string\", inplace=True)\n",
    "confirmed_df.fillna(method=\"ffill\", inplace=True)\n",
    "confirmed_df.tail()"
   ]
  },
  {
   "cell_type": "code",
   "execution_count": 17,
   "metadata": {
    "collapsed": false,
    "execution": {
     "iopub.execute_input": "2020-12-06T23:28:17.337503Z",
     "iopub.status.busy": "2020-12-06T23:28:17.336775Z",
     "iopub.status.idle": "2020-12-06T23:28:17.561046Z",
     "shell.execute_reply": "2020-12-06T23:28:17.561659Z"
    },
    "papermill": {
     "duration": 0.278885,
     "end_time": "2020-12-06T23:28:17.561835",
     "exception": false,
     "start_time": "2020-12-06T23:28:17.282950",
     "status": "completed"
    },
    "pycharm": {
     "name": "#%%\n"
    },
    "tags": []
   },
   "outputs": [
    {
     "data": {
      "text/plain": [
       "<matplotlib.axes._subplots.AxesSubplot at 0x7fc02a9ef5e0>"
      ]
     },
     "execution_count": 17,
     "metadata": {},
     "output_type": "execute_result"
    },
    {
     "data": {
      "image/png": "[encoded data removed]",
      "text/plain": [
       "<Figure size 1080x432 with 1 Axes>"
      ]
     },
     "metadata": {},
     "output_type": "display_data"
    }
   ],
   "source": [
    "confirmed_df[[\"new_cases\", \"covid_cases\"]].plot()"
   ]
  },
  {
   "cell_type": "markdown",
   "metadata": {
    "execution": {
     "iopub.execute_input": "2020-08-30T22:30:16.351238Z",
     "iopub.status.busy": "2020-08-30T22:30:16.344579Z",
     "iopub.status.idle": "2020-08-30T22:30:16.354285Z",
     "shell.execute_reply": "2020-08-30T22:30:16.353641Z"
    },
    "papermill": {
     "duration": 0.050341,
     "end_time": "2020-12-06T23:28:17.662507",
     "exception": false,
     "start_time": "2020-12-06T23:28:17.612166",
     "status": "completed"
    },
    "pycharm": {
     "name": "#%% md\n"
    },
    "tags": []
   },
   "source": [
    "### Extract API TEKs"
   ]
  },
  {
   "cell_type": "code",
   "execution_count": 18,
   "metadata": {
    "execution": {
     "iopub.execute_input": "2020-12-06T23:28:17.774100Z",
     "iopub.status.busy": "2020-12-06T23:28:17.773442Z",
     "iopub.status.idle": "2020-12-06T23:30:45.054802Z",
     "shell.execute_reply": "2020-12-06T23:30:45.055395Z"
    },
    "papermill": {
     "duration": 147.340341,
     "end_time": "2020-12-06T23:30:45.055668",
     "exception": false,
     "start_time": "2020-12-06T23:28:17.715327",
     "status": "completed"
    },
    "pycharm": {
     "name": "#%%\n"
    },
    "tags": []
   },
   "outputs": [
    {
     "name": "stderr",
     "output_type": "stream",
     "text": [
      "WARNING:root:NoKeysFoundException(\"No exposure keys found on endpoint 'https://radarcovidpre.covid19.gob.es/dp3t/v1/gaen/exposed/1607212800000' (parameters: {'generation_date': '2020-12-06', 'endpoint_identifier_components': ['2020-12-06'], 'backend_identifier': 'ES@PRE', 'server_endpoint_url': 'https://radarcovidpre.covid19.gob.es/dp3t'}).\")\n"
     ]
    },
    {
     "name": "stderr",
     "output_type": "stream",
     "text": [
      "WARNING:root:NoKeysFoundException(\"No exposure keys found on endpoint 'https://stayaway.incm.pt/v1/gaen/exposed/1607212800000' (parameters: {'generation_date': '2020-12-06', 'endpoint_identifier_components': ['2020-12-06'], 'backend_identifier': 'PT', 'server_endpoint_url': 'https://stayaway.incm.pt'}).\")\n"
     ]
    },
    {
     "name": "stderr",
     "output_type": "stream",
     "text": [
      "WARNING:root:NoKeysFoundException(\"No exposure keys found on endpoint 'https://enapi.sm.ee/authorization/v1/gaen/exposed/1607212800000' (parameters: {'generation_date': '2020-12-06', 'endpoint_identifier_components': ['2020-12-06'], 'backend_identifier': 'EE', 'server_endpoint_url': 'https://enapi.sm.ee/authorization'}).\")\n"
     ]
    },
    {
     "name": "stderr",
     "output_type": "stream",
     "text": [
      "WARNING:root:NoKeysFoundException(\"No exposure keys found on endpoint 'https://mt-dpppt-ws.azurewebsites.net/v1/gaen/exposed/1607212800000' (parameters: {'generation_date': '2020-12-06', 'endpoint_identifier_components': ['2020-12-06'], 'backend_identifier': 'MT', 'server_endpoint_url': 'https://mt-dpppt-ws.azurewebsites.net'}).\")\n"
     ]
    },
    {
     "data": {
      "text/html": [
       "<div>\n",
       "<style scoped>\n",
       "    .dataframe tbody tr th:only-of-type {\n",
       "        vertical-align: middle;\n",
       "    }\n",
       "\n",
       "    .dataframe tbody tr th {\n",
       "        vertical-align: top;\n",
       "    }\n",
       "\n",
       "    .dataframe thead th {\n",
       "        text-align: right;\n",
       "    }\n",
       "</style>\n",
       "<table border=\"1\" class=\"dataframe\">\n",
       "  <thead>\n",
       "    <tr style=\"text-align: right;\">\n",
       "      <th></th>\n",
       "      <th>sample_datetime</th>\n",
       "      <th>sample_date_string</th>\n",
       "      <th>region</th>\n",
       "      <th>verification_key_version</th>\n",
       "      <th>verification_key_id</th>\n",
       "      <th>signature_algorithm</th>\n",
       "      <th>key_data</th>\n",
       "      <th>rolling_start_interval_number</th>\n",
       "      <th>rolling_period</th>\n",
       "      <th>transmission_risk_level</th>\n",
       "      <th>backend_identifier</th>\n",
       "    </tr>\n",
       "  </thead>\n",
       "  <tbody>\n",
       "    <tr>\n",
       "      <th>0</th>\n",
       "      <td>2020-12-06</td>\n",
       "      <td>2020-12-06</td>\n",
       "      <td>ES</td>\n",
       "      <td>V1</td>\n",
       "      <td>214</td>\n",
       "      <td>1.2.840.10045.4.3.2</td>\n",
       "      <td>fb4339af-7ef4-3125-c778-6a20676316c8</td>\n",
       "      <td>2678688</td>\n",
       "      <td>131</td>\n",
       "      <td>0</td>\n",
       "      <td>ES</td>\n",
       "    </tr>\n",
       "    <tr>\n",
       "      <th>1</th>\n",
       "      <td>2020-12-06</td>\n",
       "      <td>2020-12-06</td>\n",
       "      <td>ES</td>\n",
       "      <td>V1</td>\n",
       "      <td>214</td>\n",
       "      <td>1.2.840.10045.4.3.2</td>\n",
       "      <td>88079a79-e9cd-d101-678e-68f34e80a382</td>\n",
       "      <td>2678688</td>\n",
       "      <td>128</td>\n",
       "      <td>0</td>\n",
       "      <td>ES</td>\n",
       "    </tr>\n",
       "    <tr>\n",
       "      <th>2</th>\n",
       "      <td>2020-12-06</td>\n",
       "      <td>2020-12-06</td>\n",
       "      <td>ES</td>\n",
       "      <td>V1</td>\n",
       "      <td>214</td>\n",
       "      <td>1.2.840.10045.4.3.2</td>\n",
       "      <td>c0d68ebd-0587-3d28-daa3-7ff56b66d553</td>\n",
       "      <td>2678688</td>\n",
       "      <td>126</td>\n",
       "      <td>0</td>\n",
       "      <td>ES</td>\n",
       "    </tr>\n",
       "    <tr>\n",
       "      <th>3</th>\n",
       "      <td>2020-12-06</td>\n",
       "      <td>2020-12-06</td>\n",
       "      <td>ES</td>\n",
       "      <td>V1</td>\n",
       "      <td>214</td>\n",
       "      <td>1.2.840.10045.4.3.2</td>\n",
       "      <td>eeb384be-e498-a05a-6fa5-eca8deba4c29</td>\n",
       "      <td>2678688</td>\n",
       "      <td>124</td>\n",
       "      <td>0</td>\n",
       "      <td>ES</td>\n",
       "    </tr>\n",
       "    <tr>\n",
       "      <th>4</th>\n",
       "      <td>2020-12-06</td>\n",
       "      <td>2020-12-06</td>\n",
       "      <td>ES</td>\n",
       "      <td>V1</td>\n",
       "      <td>214</td>\n",
       "      <td>1.2.840.10045.4.3.2</td>\n",
       "      <td>3e8111d1-8d12-524f-e5d6-ecc711b5a9aa</td>\n",
       "      <td>2678688</td>\n",
       "      <td>124</td>\n",
       "      <td>0</td>\n",
       "      <td>ES</td>\n",
       "    </tr>\n",
       "  </tbody>\n",
       "</table>\n",
       "</div>"
      ],
      "text/plain": [
       "  sample_datetime sample_date_string region verification_key_version  \\\n",
       "0      2020-12-06         2020-12-06     ES                       V1   \n",
       "1      2020-12-06         2020-12-06     ES                       V1   \n",
       "2      2020-12-06         2020-12-06     ES                       V1   \n",
       "3      2020-12-06         2020-12-06     ES                       V1   \n",
       "4      2020-12-06         2020-12-06     ES                       V1   \n",
       "\n",
       "  verification_key_id  signature_algorithm  \\\n",
       "0                 214  1.2.840.10045.4.3.2   \n",
       "1                 214  1.2.840.10045.4.3.2   \n",
       "2                 214  1.2.840.10045.4.3.2   \n",
       "3                 214  1.2.840.10045.4.3.2   \n",
       "4                 214  1.2.840.10045.4.3.2   \n",
       "\n",
       "                               key_data  rolling_start_interval_number  \\\n",
       "0  fb4339af-7ef4-3125-c778-6a20676316c8                        2678688   \n",
       "1  88079a79-e9cd-d101-678e-68f34e80a382                        2678688   \n",
       "2  c0d68ebd-0587-3d28-daa3-7ff56b66d553                        2678688   \n",
       "3  eeb384be-e498-a05a-6fa5-eca8deba4c29                        2678688   \n",
       "4  3e8111d1-8d12-524f-e5d6-ecc711b5a9aa                        2678688   \n",
       "\n",
       "   rolling_period  transmission_risk_level backend_identifier  \n",
       "0             131                        0                 ES  \n",
       "1             128                        0                 ES  \n",
       "2             126                        0                 ES  \n",
       "3             124                        0                 ES  \n",
       "4             124                        0                 ES  "
      ]
     },
     "execution_count": 18,
     "metadata": {},
     "output_type": "execute_result"
    }
   ],
   "source": [
    "raw_zip_path_prefix = \"Data/TEKs/Raw/\"\n",
    "fail_on_error_backend_identifiers = [report_backend_identifier]\n",
    "multi_backend_exposure_keys_df = \\\n",
    "    exposure_notification_io.download_exposure_keys_from_backends(\n",
    "        backend_identifiers=report_backend_identifiers,\n",
    "        generation_days=backend_generation_days,\n",
    "        fail_on_error_backend_identifiers=fail_on_error_backend_identifiers,\n",
    "        save_raw_zip_path_prefix=raw_zip_path_prefix)\n",
    "multi_backend_exposure_keys_df[\"region\"] = multi_backend_exposure_keys_df[\"backend_identifier\"]\n",
    "multi_backend_exposure_keys_df.rename(\n",
    "    columns={\n",
    "        \"generation_datetime\": \"sample_datetime\",\n",
    "        \"generation_date_string\": \"sample_date_string\",\n",
    "    },\n",
    "    inplace=True)\n",
    "multi_backend_exposure_keys_df.head()"
   ]
  },
  {
   "cell_type": "code",
   "execution_count": 19,
   "metadata": {
    "collapsed": false,
    "execution": {
     "iopub.execute_input": "2020-12-06T23:30:45.162064Z",
     "iopub.status.busy": "2020-12-06T23:30:45.161456Z",
     "iopub.status.idle": "2020-12-06T23:30:45.442630Z",
     "shell.execute_reply": "2020-12-06T23:30:45.443895Z"
    },
    "papermill": {
     "duration": 0.336952,
     "end_time": "2020-12-06T23:30:45.444100",
     "exception": false,
     "start_time": "2020-12-06T23:30:45.107148",
     "status": "completed"
    },
    "pycharm": {
     "name": "#%%\n"
    },
    "tags": []
   },
   "outputs": [
    {
     "data": {
      "text/plain": [
       "<matplotlib.axes._subplots.AxesSubplot at 0x7fbfef980c70>"
      ]
     },
     "execution_count": 19,
     "metadata": {},
     "output_type": "execute_result"
    },
    {
     "data": {
      "image/png": "[encoded data removed]",
      "text/plain": [
       "<Figure size 1080x432 with 1 Axes>"
      ]
     },
     "metadata": {},
     "output_type": "display_data"
    }
   ],
   "source": [
    "early_teks_df = multi_backend_exposure_keys_df[\n",
    "    multi_backend_exposure_keys_df.rolling_period < 144].copy()\n",
    "early_teks_df[\"rolling_period_in_hours\"] = early_teks_df.rolling_period / 6\n",
    "early_teks_df[early_teks_df.sample_date_string != extraction_date] \\\n",
    "    .rolling_period_in_hours.hist(bins=list(range(24)))"
   ]
  },
  {
   "cell_type": "code",
   "execution_count": 20,
   "metadata": {
    "collapsed": false,
    "execution": {
     "iopub.execute_input": "2020-12-06T23:30:45.575985Z",
     "iopub.status.busy": "2020-12-06T23:30:45.574699Z",
     "iopub.status.idle": "2020-12-06T23:30:45.794456Z",
     "shell.execute_reply": "2020-12-06T23:30:45.795951Z"
    },
    "papermill": {
     "duration": 0.299056,
     "end_time": "2020-12-06T23:30:45.796125",
     "exception": false,
     "start_time": "2020-12-06T23:30:45.497069",
     "status": "completed"
    },
    "pycharm": {
     "name": "#%%\n"
    },
    "tags": []
   },
   "outputs": [
    {
     "data": {
      "text/plain": [
       "<matplotlib.axes._subplots.AxesSubplot at 0x7fbfed573700>"
      ]
     },
     "execution_count": 20,
     "metadata": {},
     "output_type": "execute_result"
    },
    {
     "data": {
      "image/png": "[encoded data removed]",
      "text/plain": [
       "<Figure size 1080x432 with 1 Axes>"
      ]
     },
     "metadata": {},
     "output_type": "display_data"
    }
   ],
   "source": [
    "early_teks_df[early_teks_df.sample_date_string == extraction_date] \\\n",
    "    .rolling_period_in_hours.hist(bins=list(range(24)))"
   ]
  },
  {
   "cell_type": "code",
   "execution_count": 21,
   "metadata": {
    "collapsed": false,
    "execution": {
     "iopub.execute_input": "2020-12-06T23:30:46.038449Z",
     "iopub.status.busy": "2020-12-06T23:30:46.037840Z",
     "iopub.status.idle": "2020-12-06T23:30:46.043911Z",
     "shell.execute_reply": "2020-12-06T23:30:46.043299Z"
    },
    "papermill": {
     "duration": 0.194364,
     "end_time": "2020-12-06T23:30:46.044047",
     "exception": false,
     "start_time": "2020-12-06T23:30:45.849683",
     "status": "completed"
    },
    "pycharm": {
     "name": "#%%\n"
    },
    "tags": []
   },
   "outputs": [
    {
     "data": {
      "text/html": [
       "<div>\n",
       "<style scoped>\n",
       "    .dataframe tbody tr th:only-of-type {\n",
       "        vertical-align: middle;\n",
       "    }\n",
       "\n",
       "    .dataframe tbody tr th {\n",
       "        vertical-align: top;\n",
       "    }\n",
       "\n",
       "    .dataframe thead th {\n",
       "        text-align: right;\n",
       "    }\n",
       "</style>\n",
       "<table border=\"1\" class=\"dataframe\">\n",
       "  <thead>\n",
       "    <tr style=\"text-align: right;\">\n",
       "      <th></th>\n",
       "      <th>sample_date_string</th>\n",
       "      <th>region</th>\n",
       "      <th>key_data</th>\n",
       "    </tr>\n",
       "  </thead>\n",
       "  <tbody>\n",
       "    <tr>\n",
       "      <th>0</th>\n",
       "      <td>2020-12-06</td>\n",
       "      <td>ES</td>\n",
       "      <td>fb4339af-7ef4-3125-c778-6a20676316c8</td>\n",
       "    </tr>\n",
       "    <tr>\n",
       "      <th>1</th>\n",
       "      <td>2020-12-06</td>\n",
       "      <td>ES</td>\n",
       "      <td>88079a79-e9cd-d101-678e-68f34e80a382</td>\n",
       "    </tr>\n",
       "    <tr>\n",
       "      <th>2</th>\n",
       "      <td>2020-12-06</td>\n",
       "      <td>ES</td>\n",
       "      <td>c0d68ebd-0587-3d28-daa3-7ff56b66d553</td>\n",
       "    </tr>\n",
       "    <tr>\n",
       "      <th>3</th>\n",
       "      <td>2020-12-06</td>\n",
       "      <td>ES</td>\n",
       "      <td>eeb384be-e498-a05a-6fa5-eca8deba4c29</td>\n",
       "    </tr>\n",
       "    <tr>\n",
       "      <th>4</th>\n",
       "      <td>2020-12-06</td>\n",
       "      <td>ES</td>\n",
       "      <td>3e8111d1-8d12-524f-e5d6-ecc711b5a9aa</td>\n",
       "    </tr>\n",
       "  </tbody>\n",
       "</table>\n",
       "</div>"
      ],
      "text/plain": [
       "  sample_date_string region                              key_data\n",
       "0         2020-12-06     ES  fb4339af-7ef4-3125-c778-6a20676316c8\n",
       "1         2020-12-06     ES  88079a79-e9cd-d101-678e-68f34e80a382\n",
       "2         2020-12-06     ES  c0d68ebd-0587-3d28-daa3-7ff56b66d553\n",
       "3         2020-12-06     ES  eeb384be-e498-a05a-6fa5-eca8deba4c29\n",
       "4         2020-12-06     ES  3e8111d1-8d12-524f-e5d6-ecc711b5a9aa"
      ]
     },
     "execution_count": 21,
     "metadata": {},
     "output_type": "execute_result"
    }
   ],
   "source": [
    "multi_backend_exposure_keys_df = multi_backend_exposure_keys_df[[\n",
    "    \"sample_date_string\", \"region\", \"key_data\"]]\n",
    "multi_backend_exposure_keys_df.head()"
   ]
  },
  {
   "cell_type": "code",
   "execution_count": 22,
   "metadata": {
    "collapsed": false,
    "execution": {
     "iopub.execute_input": "2020-12-06T23:30:46.183688Z",
     "iopub.status.busy": "2020-12-06T23:30:46.183050Z",
     "iopub.status.idle": "2020-12-06T23:31:09.256461Z",
     "shell.execute_reply": "2020-12-06T23:31:09.257024Z"
    },
    "papermill": {
     "duration": 23.160355,
     "end_time": "2020-12-06T23:31:09.257205",
     "exception": false,
     "start_time": "2020-12-06T23:30:46.096850",
     "status": "completed"
    },
    "pycharm": {
     "name": "#%%\n"
    },
    "tags": []
   },
   "outputs": [
    {
     "data": {
      "text/plain": [
       "['MT', 'PT', 'EE', 'CH', 'DE', 'ES', 'ES@PRE']"
      ]
     },
     "execution_count": 22,
     "metadata": {},
     "output_type": "execute_result"
    }
   ],
   "source": [
    "active_regions = \\\n",
    "    multi_backend_exposure_keys_df.groupby(\"region\").key_data.nunique().sort_values().index.unique().tolist()\n",
    "active_regions"
   ]
  },
  {
   "cell_type": "code",
   "execution_count": 23,
   "metadata": {
    "collapsed": false,
    "execution": {
     "iopub.execute_input": "2020-12-06T23:31:09.482410Z",
     "iopub.status.busy": "2020-12-06T23:31:09.481795Z",
     "iopub.status.idle": "2020-12-06T23:31:31.939239Z",
     "shell.execute_reply": "2020-12-06T23:31:31.938339Z"
    },
    "papermill": {
     "duration": 22.626561,
     "end_time": "2020-12-06T23:31:31.939355",
     "exception": false,
     "start_time": "2020-12-06T23:31:09.312794",
     "status": "completed"
    },
    "pycharm": {
     "name": "#%%\n"
    },
    "tags": []
   },
   "outputs": [
    {
     "data": {
      "text/html": [
       "<div>\n",
       "<style scoped>\n",
       "    .dataframe tbody tr th:only-of-type {\n",
       "        vertical-align: middle;\n",
       "    }\n",
       "\n",
       "    .dataframe tbody tr th {\n",
       "        vertical-align: top;\n",
       "    }\n",
       "\n",
       "    .dataframe thead tr th {\n",
       "        text-align: left;\n",
       "    }\n",
       "\n",
       "    .dataframe thead tr:last-of-type th {\n",
       "        text-align: right;\n",
       "    }\n",
       "</style>\n",
       "<table border=\"1\" class=\"dataframe\">\n",
       "  <thead>\n",
       "    <tr>\n",
       "      <th></th>\n",
       "      <th colspan=\"7\" halign=\"left\">shared_teks_by_generation_date</th>\n",
       "    </tr>\n",
       "    <tr>\n",
       "      <th>region</th>\n",
       "      <th>CH</th>\n",
       "      <th>DE</th>\n",
       "      <th>EE</th>\n",
       "      <th>ES</th>\n",
       "      <th>ES@PRE</th>\n",
       "      <th>MT</th>\n",
       "      <th>PT</th>\n",
       "    </tr>\n",
       "    <tr>\n",
       "      <th>sample_date</th>\n",
       "      <th></th>\n",
       "      <th></th>\n",
       "      <th></th>\n",
       "      <th></th>\n",
       "      <th></th>\n",
       "      <th></th>\n",
       "      <th></th>\n",
       "    </tr>\n",
       "  </thead>\n",
       "  <tbody>\n",
       "    <tr>\n",
       "      <th>2020-12-06</th>\n",
       "      <td>331</td>\n",
       "      <td>0</td>\n",
       "      <td>0</td>\n",
       "      <td>152</td>\n",
       "      <td>0</td>\n",
       "      <td>0</td>\n",
       "      <td>0</td>\n",
       "    </tr>\n",
       "    <tr>\n",
       "      <th>2020-12-05</th>\n",
       "      <td>785</td>\n",
       "      <td>13</td>\n",
       "      <td>49</td>\n",
       "      <td>1337</td>\n",
       "      <td>483</td>\n",
       "      <td>100</td>\n",
       "      <td>32</td>\n",
       "    </tr>\n",
       "    <tr>\n",
       "      <th>2020-12-04</th>\n",
       "      <td>1339</td>\n",
       "      <td>1987</td>\n",
       "      <td>75</td>\n",
       "      <td>4048</td>\n",
       "      <td>18312</td>\n",
       "      <td>100</td>\n",
       "      <td>54</td>\n",
       "    </tr>\n",
       "    <tr>\n",
       "      <th>2020-12-03</th>\n",
       "      <td>1817</td>\n",
       "      <td>4172</td>\n",
       "      <td>112</td>\n",
       "      <td>6925</td>\n",
       "      <td>50487</td>\n",
       "      <td>103</td>\n",
       "      <td>74</td>\n",
       "    </tr>\n",
       "    <tr>\n",
       "      <th>2020-12-02</th>\n",
       "      <td>2296</td>\n",
       "      <td>6119</td>\n",
       "      <td>141</td>\n",
       "      <td>9497</td>\n",
       "      <td>98053</td>\n",
       "      <td>104</td>\n",
       "      <td>91</td>\n",
       "    </tr>\n",
       "  </tbody>\n",
       "</table>\n",
       "</div>"
      ],
      "text/plain": [
       "            shared_teks_by_generation_date                                 \n",
       "region                                  CH    DE   EE    ES ES@PRE   MT  PT\n",
       "sample_date                                                                \n",
       "2020-12-06                             331     0    0   152      0    0   0\n",
       "2020-12-05                             785    13   49  1337    483  100  32\n",
       "2020-12-04                            1339  1987   75  4048  18312  100  54\n",
       "2020-12-03                            1817  4172  112  6925  50487  103  74\n",
       "2020-12-02                            2296  6119  141  9497  98053  104  91"
      ]
     },
     "execution_count": 23,
     "metadata": {},
     "output_type": "execute_result"
    }
   ],
   "source": [
    "multi_backend_summary_df = multi_backend_exposure_keys_df.groupby(\n",
    "    [\"sample_date_string\", \"region\"]).key_data.nunique().reset_index() \\\n",
    "    .pivot(index=\"sample_date_string\", columns=\"region\") \\\n",
    "    .sort_index(ascending=False)\n",
    "multi_backend_summary_df.rename(\n",
    "    columns={\"key_data\": \"shared_teks_by_generation_date\"},\n",
    "    inplace=True)\n",
    "multi_backend_summary_df.rename_axis(\"sample_date\", inplace=True)\n",
    "multi_backend_summary_df = multi_backend_summary_df.fillna(0).astype(int)\n",
    "multi_backend_summary_df = multi_backend_summary_df.head(backend_generation_days)\n",
    "multi_backend_summary_df.head()"
   ]
  },
  {
   "cell_type": "code",
   "execution_count": 24,
   "metadata": {
    "collapsed": false,
    "execution": {
     "iopub.execute_input": "2020-12-06T23:31:32.048782Z",
     "iopub.status.busy": "2020-12-06T23:31:32.048229Z",
     "iopub.status.idle": "2020-12-06T23:31:47.277206Z",
     "shell.execute_reply": "2020-12-06T23:31:47.277608Z"
    },
    "papermill": {
     "duration": 15.286664,
     "end_time": "2020-12-06T23:31:47.277796",
     "exception": false,
     "start_time": "2020-12-06T23:31:31.991132",
     "status": "completed"
    },
    "pycharm": {
     "name": "#%%\n"
    },
    "tags": []
   },
   "outputs": [
    {
     "name": "stderr",
     "output_type": "stream",
     "text": [
      "<ipython-input-24-4e21708c19d8>:2: FutureWarning: `item` has been deprecated and will be removed in a future version\n",
      "  teks_x = x.key_data_x.item()\n",
      "<ipython-input-24-4e21708c19d8>:3: FutureWarning: `item` has been deprecated and will be removed in a future version\n",
      "  common_teks = set(teks_x).intersection(x.key_data_y.item())\n"
     ]
    },
    {
     "name": "stderr",
     "output_type": "stream",
     "text": [
      "<ipython-input-24-4e21708c19d8>:33: FutureWarning: `item` has been deprecated and will be removed in a future version\n",
      "  aggfunc=lambda x: x.item())\n"
     ]
    },
    {
     "data": {
      "text/html": [
       "<div>\n",
       "<style scoped>\n",
       "    .dataframe tbody tr th:only-of-type {\n",
       "        vertical-align: middle;\n",
       "    }\n",
       "\n",
       "    .dataframe tbody tr th {\n",
       "        vertical-align: top;\n",
       "    }\n",
       "\n",
       "    .dataframe thead tr th {\n",
       "        text-align: left;\n",
       "    }\n",
       "\n",
       "    .dataframe thead tr:last-of-type th {\n",
       "        text-align: right;\n",
       "    }\n",
       "</style>\n",
       "<table border=\"1\" class=\"dataframe\">\n",
       "  <thead>\n",
       "    <tr>\n",
       "      <th></th>\n",
       "      <th colspan=\"7\" halign=\"left\">common_teks_fraction</th>\n",
       "    </tr>\n",
       "    <tr>\n",
       "      <th>region_x</th>\n",
       "      <th>CH</th>\n",
       "      <th>DE</th>\n",
       "      <th>EE</th>\n",
       "      <th>ES</th>\n",
       "      <th>ES@PRE</th>\n",
       "      <th>MT</th>\n",
       "      <th>PT</th>\n",
       "    </tr>\n",
       "    <tr>\n",
       "      <th>region_y</th>\n",
       "      <th></th>\n",
       "      <th></th>\n",
       "      <th></th>\n",
       "      <th></th>\n",
       "      <th></th>\n",
       "      <th></th>\n",
       "      <th></th>\n",
       "    </tr>\n",
       "  </thead>\n",
       "  <tbody>\n",
       "    <tr>\n",
       "      <th>CH</th>\n",
       "      <td>NaN</td>\n",
       "      <td>0.000053</td>\n",
       "      <td>0.0</td>\n",
       "      <td>0.000037</td>\n",
       "      <td>0.0</td>\n",
       "      <td>0.0</td>\n",
       "      <td>0.0</td>\n",
       "    </tr>\n",
       "    <tr>\n",
       "      <th>DE</th>\n",
       "      <td>0.000284</td>\n",
       "      <td>NaN</td>\n",
       "      <td>0.0</td>\n",
       "      <td>0.674818</td>\n",
       "      <td>0.0</td>\n",
       "      <td>0.0</td>\n",
       "      <td>0.0</td>\n",
       "    </tr>\n",
       "    <tr>\n",
       "      <th>EE</th>\n",
       "      <td>0.000000</td>\n",
       "      <td>0.000000</td>\n",
       "      <td>NaN</td>\n",
       "      <td>0.000000</td>\n",
       "      <td>0.0</td>\n",
       "      <td>0.0</td>\n",
       "      <td>0.0</td>\n",
       "    </tr>\n",
       "    <tr>\n",
       "      <th>ES</th>\n",
       "      <td>0.000284</td>\n",
       "      <td>0.973694</td>\n",
       "      <td>0.0</td>\n",
       "      <td>NaN</td>\n",
       "      <td>0.0</td>\n",
       "      <td>0.0</td>\n",
       "      <td>0.0</td>\n",
       "    </tr>\n",
       "    <tr>\n",
       "      <th>ES@PRE</th>\n",
       "      <td>0.000000</td>\n",
       "      <td>0.000000</td>\n",
       "      <td>0.0</td>\n",
       "      <td>0.000000</td>\n",
       "      <td>NaN</td>\n",
       "      <td>0.0</td>\n",
       "      <td>0.0</td>\n",
       "    </tr>\n",
       "    <tr>\n",
       "      <th>MT</th>\n",
       "      <td>0.000000</td>\n",
       "      <td>0.000000</td>\n",
       "      <td>0.0</td>\n",
       "      <td>0.000000</td>\n",
       "      <td>0.0</td>\n",
       "      <td>NaN</td>\n",
       "      <td>0.0</td>\n",
       "    </tr>\n",
       "    <tr>\n",
       "      <th>PT</th>\n",
       "      <td>0.000000</td>\n",
       "      <td>0.000000</td>\n",
       "      <td>0.0</td>\n",
       "      <td>0.000000</td>\n",
       "      <td>0.0</td>\n",
       "      <td>0.0</td>\n",
       "      <td>NaN</td>\n",
       "    </tr>\n",
       "  </tbody>\n",
       "</table>\n",
       "</div>"
      ],
      "text/plain": [
       "         common_teks_fraction                                          \n",
       "region_x                   CH        DE   EE        ES ES@PRE   MT   PT\n",
       "region_y                                                               \n",
       "CH                        NaN  0.000053  0.0  0.000037    0.0  0.0  0.0\n",
       "DE                   0.000284       NaN  0.0  0.674818    0.0  0.0  0.0\n",
       "EE                   0.000000  0.000000  NaN  0.000000    0.0  0.0  0.0\n",
       "ES                   0.000284  0.973694  0.0       NaN    0.0  0.0  0.0\n",
       "ES@PRE               0.000000  0.000000  0.0  0.000000    NaN  0.0  0.0\n",
       "MT                   0.000000  0.000000  0.0  0.000000    0.0  NaN  0.0\n",
       "PT                   0.000000  0.000000  0.0  0.000000    0.0  0.0  NaN"
      ]
     },
     "execution_count": 24,
     "metadata": {},
     "output_type": "execute_result"
    }
   ],
   "source": [
    "def compute_keys_cross_sharing(x):\n",
    "    teks_x = x.key_data_x.item()\n",
    "    common_teks = set(teks_x).intersection(x.key_data_y.item())\n",
    "    common_teks_fraction = len(common_teks) / len(teks_x)\n",
    "    return pd.Series(dict(\n",
    "        common_teks=common_teks,\n",
    "        common_teks_fraction=common_teks_fraction,\n",
    "    ))\n",
    "\n",
    "multi_backend_exposure_keys_by_region_df = \\\n",
    "    multi_backend_exposure_keys_df.groupby(\"region\").key_data.unique().reset_index()\n",
    "multi_backend_exposure_keys_by_region_df[\"_merge\"] = True\n",
    "multi_backend_exposure_keys_by_region_combination_df = \\\n",
    "    multi_backend_exposure_keys_by_region_df.merge(\n",
    "        multi_backend_exposure_keys_by_region_df, on=\"_merge\")\n",
    "multi_backend_exposure_keys_by_region_combination_df.drop(\n",
    "    columns=[\"_merge\"], inplace=True)\n",
    "if multi_backend_exposure_keys_by_region_combination_df.region_x.nunique() > 1:\n",
    "    multi_backend_exposure_keys_by_region_combination_df = \\\n",
    "        multi_backend_exposure_keys_by_region_combination_df[\n",
    "            multi_backend_exposure_keys_by_region_combination_df.region_x !=\n",
    "            multi_backend_exposure_keys_by_region_combination_df.region_y]\n",
    "multi_backend_exposure_keys_cross_sharing_df = \\\n",
    "    multi_backend_exposure_keys_by_region_combination_df \\\n",
    "        .groupby([\"region_x\", \"region_y\"]) \\\n",
    "        .apply(compute_keys_cross_sharing) \\\n",
    "        .reset_index()\n",
    "multi_backend_cross_sharing_summary_df = \\\n",
    "    multi_backend_exposure_keys_cross_sharing_df.pivot_table(\n",
    "        values=[\"common_teks_fraction\"],\n",
    "        columns=\"region_x\",\n",
    "        index=\"region_y\",\n",
    "        aggfunc=lambda x: x.item())\n",
    "multi_backend_cross_sharing_summary_df"
   ]
  },
  {
   "cell_type": "code",
   "execution_count": 25,
   "metadata": {
    "collapsed": false,
    "execution": {
     "iopub.execute_input": "2020-12-06T23:31:47.514177Z",
     "iopub.status.busy": "2020-12-06T23:31:47.513503Z",
     "iopub.status.idle": "2020-12-06T23:32:07.811171Z",
     "shell.execute_reply": "2020-12-06T23:32:07.810591Z"
    },
    "papermill": {
     "duration": 20.478858,
     "end_time": "2020-12-06T23:32:07.811295",
     "exception": false,
     "start_time": "2020-12-06T23:31:47.332437",
     "status": "completed"
    },
    "pycharm": {
     "name": "#%%\n"
    },
    "tags": []
   },
   "outputs": [
    {
     "data": {
      "text/plain": [
       "['MT', 'PT', 'EE', 'CH', 'DE', 'ES@PRE']"
      ]
     },
     "execution_count": 25,
     "metadata": {},
     "output_type": "execute_result"
    }
   ],
   "source": [
    "multi_backend_without_active_region_exposure_keys_df = \\\n",
    "    multi_backend_exposure_keys_df[multi_backend_exposure_keys_df.region != report_backend_identifier]\n",
    "multi_backend_without_active_region = \\\n",
    "    multi_backend_without_active_region_exposure_keys_df.groupby(\"region\").key_data.nunique().sort_values().index.unique().tolist()\n",
    "multi_backend_without_active_region"
   ]
  },
  {
   "cell_type": "code",
   "execution_count": 26,
   "metadata": {
    "execution": {
     "iopub.execute_input": "2020-12-06T23:32:08.042290Z",
     "iopub.status.busy": "2020-12-06T23:32:08.041633Z",
     "iopub.status.idle": "2020-12-06T23:32:09.587551Z",
     "shell.execute_reply": "2020-12-06T23:32:09.588112Z"
    },
    "papermill": {
     "duration": 1.723881,
     "end_time": "2020-12-06T23:32:09.588273",
     "exception": false,
     "start_time": "2020-12-06T23:32:07.864392",
     "status": "completed"
    },
    "scrolled": false,
    "tags": []
   },
   "outputs": [
    {
     "name": "stderr",
     "output_type": "stream",
     "text": [
      "/opt/hostedtoolcache/Python/3.8.6/x64/lib/python3.8/site-packages/pandas/core/frame.py:4110: SettingWithCopyWarning: \n",
      "A value is trying to be set on a copy of a slice from a DataFrame\n",
      "\n",
      "See the caveats in the documentation: http://pandas.pydata.org/pandas-docs/stable/user_guide/indexing.html#returning-a-view-versus-a-copy\n",
      "  return super().drop(\n"
     ]
    },
    {
     "data": {
      "text/html": [
       "<div>\n",
       "<style scoped>\n",
       "    .dataframe tbody tr th:only-of-type {\n",
       "        vertical-align: middle;\n",
       "    }\n",
       "\n",
       "    .dataframe tbody tr th {\n",
       "        vertical-align: top;\n",
       "    }\n",
       "\n",
       "    .dataframe thead th {\n",
       "        text-align: right;\n",
       "    }\n",
       "</style>\n",
       "<table border=\"1\" class=\"dataframe\">\n",
       "  <thead>\n",
       "    <tr style=\"text-align: right;\">\n",
       "      <th></th>\n",
       "      <th>shared_teks_by_generation_date</th>\n",
       "    </tr>\n",
       "    <tr>\n",
       "      <th>sample_date_string</th>\n",
       "      <th></th>\n",
       "    </tr>\n",
       "  </thead>\n",
       "  <tbody>\n",
       "    <tr>\n",
       "      <th>2020-12-06</th>\n",
       "      <td>152</td>\n",
       "    </tr>\n",
       "    <tr>\n",
       "      <th>2020-12-05</th>\n",
       "      <td>1337</td>\n",
       "    </tr>\n",
       "    <tr>\n",
       "      <th>2020-12-04</th>\n",
       "      <td>4048</td>\n",
       "    </tr>\n",
       "    <tr>\n",
       "      <th>2020-12-03</th>\n",
       "      <td>6925</td>\n",
       "    </tr>\n",
       "    <tr>\n",
       "      <th>2020-12-02</th>\n",
       "      <td>9497</td>\n",
       "    </tr>\n",
       "  </tbody>\n",
       "</table>\n",
       "</div>"
      ],
      "text/plain": [
       "                    shared_teks_by_generation_date\n",
       "sample_date_string                                \n",
       "2020-12-06                                     152\n",
       "2020-12-05                                    1337\n",
       "2020-12-04                                    4048\n",
       "2020-12-03                                    6925\n",
       "2020-12-02                                    9497"
      ]
     },
     "execution_count": 26,
     "metadata": {},
     "output_type": "execute_result"
    }
   ],
   "source": [
    "exposure_keys_summary_df = multi_backend_exposure_keys_df[\n",
    "    multi_backend_exposure_keys_df.region == report_backend_identifier]\n",
    "exposure_keys_summary_df.drop(columns=[\"region\"], inplace=True)\n",
    "exposure_keys_summary_df = \\\n",
    "    exposure_keys_summary_df.groupby([\"sample_date_string\"]).key_data.nunique().to_frame()\n",
    "exposure_keys_summary_df = \\\n",
    "    exposure_keys_summary_df.reset_index().set_index(\"sample_date_string\")\n",
    "exposure_keys_summary_df.sort_index(ascending=False, inplace=True)\n",
    "exposure_keys_summary_df.rename(columns={\"key_data\": \"shared_teks_by_generation_date\"}, inplace=True)\n",
    "exposure_keys_summary_df.head()"
   ]
  },
  {
   "cell_type": "markdown",
   "metadata": {
    "papermill": {
     "duration": 0.057287,
     "end_time": "2020-12-06T23:32:09.714236",
     "exception": false,
     "start_time": "2020-12-06T23:32:09.656949",
     "status": "completed"
    },
    "tags": []
   },
   "source": [
    "### Dump API TEKs"
   ]
  },
  {
   "cell_type": "code",
   "execution_count": 27,
   "metadata": {
    "execution": {
     "iopub.execute_input": "2020-12-06T23:32:09.836872Z",
     "iopub.status.busy": "2020-12-06T23:32:09.836252Z",
     "iopub.status.idle": "2020-12-06T23:32:19.000303Z",
     "shell.execute_reply": "2020-12-06T23:32:19.001032Z"
    },
    "papermill": {
     "duration": 9.229185,
     "end_time": "2020-12-06T23:32:19.001237",
     "exception": false,
     "start_time": "2020-12-06T23:32:09.772052",
     "status": "completed"
    },
    "tags": []
   },
   "outputs": [
    {
     "data": {
      "text/html": [
       "<div>\n",
       "<style scoped>\n",
       "    .dataframe tbody tr th:only-of-type {\n",
       "        vertical-align: middle;\n",
       "    }\n",
       "\n",
       "    .dataframe tbody tr th {\n",
       "        vertical-align: top;\n",
       "    }\n",
       "\n",
       "    .dataframe thead th {\n",
       "        text-align: right;\n",
       "    }\n",
       "</style>\n",
       "<table border=\"1\" class=\"dataframe\">\n",
       "  <thead>\n",
       "    <tr style=\"text-align: right;\">\n",
       "      <th></th>\n",
       "      <th>sample_date</th>\n",
       "      <th>region</th>\n",
       "      <th>tek_list</th>\n",
       "      <th>extraction_date</th>\n",
       "      <th>extraction_date_with_hour</th>\n",
       "    </tr>\n",
       "  </thead>\n",
       "  <tbody>\n",
       "    <tr>\n",
       "      <th>0</th>\n",
       "      <td>2020-11-23</td>\n",
       "      <td>CH</td>\n",
       "      <td>[2c17f70f-e904-3b69-a06b-b28013a8815a, a648a57...</td>\n",
       "      <td>2020-12-06</td>\n",
       "      <td>2020-12-06@23</td>\n",
       "    </tr>\n",
       "    <tr>\n",
       "      <th>1</th>\n",
       "      <td>2020-11-23</td>\n",
       "      <td>DE</td>\n",
       "      <td>[001db318-7ac7-1830-661d-191b166bae8f, 002aafd...</td>\n",
       "      <td>2020-12-06</td>\n",
       "      <td>2020-12-06@23</td>\n",
       "    </tr>\n",
       "    <tr>\n",
       "      <th>2</th>\n",
       "      <td>2020-11-23</td>\n",
       "      <td>EE</td>\n",
       "      <td>[3598cc88-3c6f-e8b6-a486-f3bb8811229d, 54f3180...</td>\n",
       "      <td>2020-12-06</td>\n",
       "      <td>2020-12-06@23</td>\n",
       "    </tr>\n",
       "    <tr>\n",
       "      <th>3</th>\n",
       "      <td>2020-11-23</td>\n",
       "      <td>ES</td>\n",
       "      <td>[c562e2ef-a02e-826d-8492-759c91669aae, 8ad5be5...</td>\n",
       "      <td>2020-12-06</td>\n",
       "      <td>2020-12-06@23</td>\n",
       "    </tr>\n",
       "    <tr>\n",
       "      <th>4</th>\n",
       "      <td>2020-11-23</td>\n",
       "      <td>ES@PRE</td>\n",
       "      <td>[62a2c94b-3a23-7100-bc33-18b01a96c8e4, 3e4cf33...</td>\n",
       "      <td>2020-12-06</td>\n",
       "      <td>2020-12-06@23</td>\n",
       "    </tr>\n",
       "  </tbody>\n",
       "</table>\n",
       "</div>"
      ],
      "text/plain": [
       "  sample_date  region                                           tek_list  \\\n",
       "0  2020-11-23      CH  [2c17f70f-e904-3b69-a06b-b28013a8815a, a648a57...   \n",
       "1  2020-11-23      DE  [001db318-7ac7-1830-661d-191b166bae8f, 002aafd...   \n",
       "2  2020-11-23      EE  [3598cc88-3c6f-e8b6-a486-f3bb8811229d, 54f3180...   \n",
       "3  2020-11-23      ES  [c562e2ef-a02e-826d-8492-759c91669aae, 8ad5be5...   \n",
       "4  2020-11-23  ES@PRE  [62a2c94b-3a23-7100-bc33-18b01a96c8e4, 3e4cf33...   \n",
       "\n",
       "  extraction_date extraction_date_with_hour  \n",
       "0      2020-12-06             2020-12-06@23  \n",
       "1      2020-12-06             2020-12-06@23  \n",
       "2      2020-12-06             2020-12-06@23  \n",
       "3      2020-12-06             2020-12-06@23  \n",
       "4      2020-12-06             2020-12-06@23  "
      ]
     },
     "execution_count": 27,
     "metadata": {},
     "output_type": "execute_result"
    }
   ],
   "source": [
    "tek_list_df = multi_backend_exposure_keys_df[\n",
    "    [\"sample_date_string\", \"region\", \"key_data\"]].copy()\n",
    "tek_list_df[\"key_data\"] = tek_list_df[\"key_data\"].apply(str)\n",
    "tek_list_df.rename(columns={\n",
    "    \"sample_date_string\": \"sample_date\",\n",
    "    \"key_data\": \"tek_list\"}, inplace=True)\n",
    "tek_list_df = tek_list_df.groupby(\n",
    "    [\"sample_date\", \"region\"]).tek_list.unique().reset_index()\n",
    "tek_list_df[\"extraction_date\"] = extraction_date\n",
    "tek_list_df[\"extraction_date_with_hour\"] = extraction_date_with_hour\n",
    "\n",
    "tek_list_path_prefix = \"Data/TEKs/\"\n",
    "tek_list_current_path = tek_list_path_prefix + f\"/Current/RadarCOVID-TEKs.json\"\n",
    "tek_list_daily_path = tek_list_path_prefix + f\"Daily/RadarCOVID-TEKs-{extraction_date}.json\"\n",
    "tek_list_hourly_path = tek_list_path_prefix + f\"Hourly/RadarCOVID-TEKs-{extraction_date_with_hour}.json\"\n",
    "\n",
    "for path in [tek_list_current_path, tek_list_daily_path, tek_list_hourly_path]:\n",
    "    os.makedirs(os.path.dirname(path), exist_ok=True)\n",
    "\n",
    "tek_list_df.drop(columns=[\"extraction_date\", \"extraction_date_with_hour\"]).to_json(\n",
    "    tek_list_current_path,\n",
    "    lines=True, orient=\"records\")\n",
    "tek_list_df.drop(columns=[\"extraction_date_with_hour\"]).to_json(\n",
    "    tek_list_daily_path,\n",
    "    lines=True, orient=\"records\")\n",
    "tek_list_df.to_json(\n",
    "    tek_list_hourly_path,\n",
    "    lines=True, orient=\"records\")\n",
    "tek_list_df.head()"
   ]
  },
  {
   "cell_type": "markdown",
   "metadata": {
    "papermill": {
     "duration": 0.199276,
     "end_time": "2020-12-06T23:32:19.257638",
     "exception": false,
     "start_time": "2020-12-06T23:32:19.058362",
     "status": "completed"
    },
    "tags": []
   },
   "source": [
    "### Load TEK Dumps"
   ]
  },
  {
   "cell_type": "code",
   "execution_count": 28,
   "metadata": {
    "execution": {
     "iopub.execute_input": "2020-12-06T23:32:19.377284Z",
     "iopub.status.busy": "2020-12-06T23:32:19.376607Z",
     "iopub.status.idle": "2020-12-06T23:32:19.378541Z",
     "shell.execute_reply": "2020-12-06T23:32:19.379098Z"
    },
    "papermill": {
     "duration": 0.064291,
     "end_time": "2020-12-06T23:32:19.379277",
     "exception": false,
     "start_time": "2020-12-06T23:32:19.314986",
     "status": "completed"
    },
    "tags": []
   },
   "outputs": [],
   "source": [
    "import glob\n",
    "\n",
    "def load_extracted_teks(mode, region=None, limit=None) -> pd.DataFrame:\n",
    "    extracted_teks_df = pd.DataFrame(columns=[\"region\"])\n",
    "    file_paths = list(reversed(sorted(glob.glob(tek_list_path_prefix + mode + \"/RadarCOVID-TEKs-*.json\"))))\n",
    "    if limit:\n",
    "        file_paths = file_paths[:limit]\n",
    "    for file_path in file_paths:\n",
    "        logging.info(f\"Loading TEKs from '{file_path}'...\")\n",
    "        iteration_extracted_teks_df = pd.read_json(file_path, lines=True)\n",
    "        extracted_teks_df = extracted_teks_df.append(\n",
    "            iteration_extracted_teks_df, sort=False)\n",
    "    extracted_teks_df[\"region\"] = \\\n",
    "        extracted_teks_df.region.fillna(spain_region_country_code).copy()\n",
    "    if region:\n",
    "        extracted_teks_df = \\\n",
    "            extracted_teks_df[extracted_teks_df.region == region]\n",
    "    return extracted_teks_df"
   ]
  },
  {
   "cell_type": "code",
   "execution_count": 29,
   "metadata": {
    "collapsed": false,
    "execution": {
     "iopub.execute_input": "2020-12-06T23:32:19.501005Z",
     "iopub.status.busy": "2020-12-06T23:32:19.500418Z",
     "iopub.status.idle": "2020-12-06T23:32:43.713877Z",
     "shell.execute_reply": "2020-12-06T23:32:43.713342Z"
    },
    "papermill": {
     "duration": 24.276827,
     "end_time": "2020-12-06T23:32:43.714037",
     "exception": false,
     "start_time": "2020-12-06T23:32:19.437210",
     "status": "completed"
    },
    "pycharm": {
     "name": "#%%\n"
    },
    "tags": []
   },
   "outputs": [
    {
     "data": {
      "text/html": [
       "<div>\n",
       "<style scoped>\n",
       "    .dataframe tbody tr th:only-of-type {\n",
       "        vertical-align: middle;\n",
       "    }\n",
       "\n",
       "    .dataframe tbody tr th {\n",
       "        vertical-align: top;\n",
       "    }\n",
       "\n",
       "    .dataframe thead th {\n",
       "        text-align: right;\n",
       "    }\n",
       "</style>\n",
       "<table border=\"1\" class=\"dataframe\">\n",
       "  <thead>\n",
       "    <tr style=\"text-align: right;\">\n",
       "      <th></th>\n",
       "      <th>region</th>\n",
       "      <th>sample_date</th>\n",
       "      <th>tek_list</th>\n",
       "      <th>extraction_date</th>\n",
       "    </tr>\n",
       "  </thead>\n",
       "  <tbody>\n",
       "    <tr>\n",
       "      <th>3</th>\n",
       "      <td>ES</td>\n",
       "      <td>2020-11-23</td>\n",
       "      <td>[c562e2ef-a02e-826d-8492-759c91669aae, 8ad5be5...</td>\n",
       "      <td>2020-12-06</td>\n",
       "    </tr>\n",
       "    <tr>\n",
       "      <th>10</th>\n",
       "      <td>ES</td>\n",
       "      <td>2020-11-24</td>\n",
       "      <td>[27108582-6d6f-585b-8681-668259cfa468, 0858dbf...</td>\n",
       "      <td>2020-12-06</td>\n",
       "    </tr>\n",
       "    <tr>\n",
       "      <th>17</th>\n",
       "      <td>ES</td>\n",
       "      <td>2020-11-25</td>\n",
       "      <td>[348b8922-4b5f-4ee6-f5ab-76a0813a05fc, 940751c...</td>\n",
       "      <td>2020-12-06</td>\n",
       "    </tr>\n",
       "    <tr>\n",
       "      <th>24</th>\n",
       "      <td>ES</td>\n",
       "      <td>2020-11-26</td>\n",
       "      <td>[36922faf-bb5f-adc4-7e20-b9398a8e7e57, 983d06e...</td>\n",
       "      <td>2020-12-06</td>\n",
       "    </tr>\n",
       "    <tr>\n",
       "      <th>31</th>\n",
       "      <td>ES</td>\n",
       "      <td>2020-11-27</td>\n",
       "      <td>[5ac8f5bd-024d-25ef-25ee-2f91f0cf8299, 11730a6...</td>\n",
       "      <td>2020-12-06</td>\n",
       "    </tr>\n",
       "  </tbody>\n",
       "</table>\n",
       "</div>"
      ],
      "text/plain": [
       "   region sample_date                                           tek_list  \\\n",
       "3      ES  2020-11-23  [c562e2ef-a02e-826d-8492-759c91669aae, 8ad5be5...   \n",
       "10     ES  2020-11-24  [27108582-6d6f-585b-8681-668259cfa468, 0858dbf...   \n",
       "17     ES  2020-11-25  [348b8922-4b5f-4ee6-f5ab-76a0813a05fc, 940751c...   \n",
       "24     ES  2020-11-26  [36922faf-bb5f-adc4-7e20-b9398a8e7e57, 983d06e...   \n",
       "31     ES  2020-11-27  [5ac8f5bd-024d-25ef-25ee-2f91f0cf8299, 11730a6...   \n",
       "\n",
       "   extraction_date  \n",
       "3       2020-12-06  \n",
       "10      2020-12-06  \n",
       "17      2020-12-06  \n",
       "24      2020-12-06  \n",
       "31      2020-12-06  "
      ]
     },
     "execution_count": 29,
     "metadata": {},
     "output_type": "execute_result"
    }
   ],
   "source": [
    "daily_extracted_teks_df = load_extracted_teks(\n",
    "    mode=\"Daily\",\n",
    "    region=report_backend_identifier,\n",
    "    limit=tek_dumps_load_limit)\n",
    "daily_extracted_teks_df.head()"
   ]
  },
  {
   "cell_type": "code",
   "execution_count": 30,
   "metadata": {
    "collapsed": false,
    "execution": {
     "iopub.execute_input": "2020-12-06T23:32:43.837210Z",
     "iopub.status.busy": "2020-12-06T23:32:43.836601Z",
     "iopub.status.idle": "2020-12-06T23:32:43.859073Z",
     "shell.execute_reply": "2020-12-06T23:32:43.859584Z"
    },
    "papermill": {
     "duration": 0.086119,
     "end_time": "2020-12-06T23:32:43.859741",
     "exception": false,
     "start_time": "2020-12-06T23:32:43.773622",
     "status": "completed"
    },
    "pycharm": {
     "name": "#%%\n"
    },
    "tags": []
   },
   "outputs": [
    {
     "data": {
      "text/html": [
       "<div>\n",
       "<style scoped>\n",
       "    .dataframe tbody tr th:only-of-type {\n",
       "        vertical-align: middle;\n",
       "    }\n",
       "\n",
       "    .dataframe tbody tr th {\n",
       "        vertical-align: top;\n",
       "    }\n",
       "\n",
       "    .dataframe thead th {\n",
       "        text-align: right;\n",
       "    }\n",
       "</style>\n",
       "<table border=\"1\" class=\"dataframe\">\n",
       "  <thead>\n",
       "    <tr style=\"text-align: right;\">\n",
       "      <th></th>\n",
       "      <th>shared_teks_by_generation_date</th>\n",
       "    </tr>\n",
       "    <tr>\n",
       "      <th>sample_date_string</th>\n",
       "      <th></th>\n",
       "    </tr>\n",
       "  </thead>\n",
       "  <tbody>\n",
       "    <tr>\n",
       "      <th>2020-12-06</th>\n",
       "      <td>152</td>\n",
       "    </tr>\n",
       "    <tr>\n",
       "      <th>2020-12-05</th>\n",
       "      <td>1337</td>\n",
       "    </tr>\n",
       "    <tr>\n",
       "      <th>2020-12-04</th>\n",
       "      <td>4048</td>\n",
       "    </tr>\n",
       "    <tr>\n",
       "      <th>2020-12-03</th>\n",
       "      <td>6925</td>\n",
       "    </tr>\n",
       "    <tr>\n",
       "      <th>2020-12-02</th>\n",
       "      <td>9497</td>\n",
       "    </tr>\n",
       "  </tbody>\n",
       "</table>\n",
       "</div>"
      ],
      "text/plain": [
       "                    shared_teks_by_generation_date\n",
       "sample_date_string                                \n",
       "2020-12-06                                     152\n",
       "2020-12-05                                    1337\n",
       "2020-12-04                                    4048\n",
       "2020-12-03                                    6925\n",
       "2020-12-02                                    9497"
      ]
     },
     "execution_count": 30,
     "metadata": {},
     "output_type": "execute_result"
    }
   ],
   "source": [
    "exposure_keys_summary_df_ = daily_extracted_teks_df \\\n",
    "    .sort_values(\"extraction_date\", ascending=False) \\\n",
    "    .groupby(\"sample_date\").tek_list.first() \\\n",
    "    .to_frame()\n",
    "exposure_keys_summary_df_.index.name = \"sample_date_string\"\n",
    "exposure_keys_summary_df_[\"tek_list\"] = \\\n",
    "    exposure_keys_summary_df_.tek_list.apply(len)\n",
    "exposure_keys_summary_df_ = exposure_keys_summary_df_ \\\n",
    "    .rename(columns={\"tek_list\": \"shared_teks_by_generation_date\"}) \\\n",
    "    .sort_index(ascending=False)\n",
    "exposure_keys_summary_df = exposure_keys_summary_df_\n",
    "exposure_keys_summary_df.head()"
   ]
  },
  {
   "cell_type": "markdown",
   "metadata": {
    "execution": {
     "iopub.execute_input": "2020-08-30T22:30:16.632967Z",
     "iopub.status.busy": "2020-08-30T22:30:16.632308Z",
     "iopub.status.idle": "2020-08-30T22:30:16.634945Z",
     "shell.execute_reply": "2020-08-30T22:30:16.635575Z"
    },
    "papermill": {
     "duration": 0.057017,
     "end_time": "2020-12-06T23:32:43.973544",
     "exception": false,
     "start_time": "2020-12-06T23:32:43.916527",
     "status": "completed"
    },
    "pycharm": {
     "name": "#%% md\n"
    },
    "tags": []
   },
   "source": [
    "### Daily New TEKs"
   ]
  },
  {
   "cell_type": "code",
   "execution_count": 31,
   "metadata": {
    "execution": {
     "iopub.execute_input": "2020-12-06T23:32:44.096070Z",
     "iopub.status.busy": "2020-12-06T23:32:44.095472Z",
     "iopub.status.idle": "2020-12-06T23:32:45.750501Z",
     "shell.execute_reply": "2020-12-06T23:32:45.751046Z"
    },
    "papermill": {
     "duration": 1.720392,
     "end_time": "2020-12-06T23:32:45.751236",
     "exception": false,
     "start_time": "2020-12-06T23:32:44.030844",
     "status": "completed"
    },
    "tags": []
   },
   "outputs": [
    {
     "data": {
      "text/html": [
       "<div>\n",
       "<style scoped>\n",
       "    .dataframe tbody tr th:only-of-type {\n",
       "        vertical-align: middle;\n",
       "    }\n",
       "\n",
       "    .dataframe tbody tr th {\n",
       "        vertical-align: top;\n",
       "    }\n",
       "\n",
       "    .dataframe thead th {\n",
       "        text-align: right;\n",
       "    }\n",
       "</style>\n",
       "<table border=\"1\" class=\"dataframe\">\n",
       "  <thead>\n",
       "    <tr style=\"text-align: right;\">\n",
       "      <th></th>\n",
       "      <th>tek_list</th>\n",
       "    </tr>\n",
       "    <tr>\n",
       "      <th>extraction_date</th>\n",
       "      <th></th>\n",
       "    </tr>\n",
       "  </thead>\n",
       "  <tbody>\n",
       "    <tr>\n",
       "      <th>2020-09-13</th>\n",
       "      <td>{9c0d6e8b-9834-bef9-f4ad-f5305661e03b, 5e67274...</td>\n",
       "    </tr>\n",
       "    <tr>\n",
       "      <th>2020-09-14</th>\n",
       "      <td>{9c0d6e8b-9834-bef9-f4ad-f5305661e03b, 5e67274...</td>\n",
       "    </tr>\n",
       "    <tr>\n",
       "      <th>2020-09-15</th>\n",
       "      <td>{9c0d6e8b-9834-bef9-f4ad-f5305661e03b, 5e67274...</td>\n",
       "    </tr>\n",
       "    <tr>\n",
       "      <th>2020-09-16</th>\n",
       "      <td>{5e67274b-c58d-4676-b6da-abcb3f897a99, d34c0ed...</td>\n",
       "    </tr>\n",
       "    <tr>\n",
       "      <th>2020-09-17</th>\n",
       "      <td>{5e67274b-c58d-4676-b6da-abcb3f897a99, d34c0ed...</td>\n",
       "    </tr>\n",
       "  </tbody>\n",
       "</table>\n",
       "</div>"
      ],
      "text/plain": [
       "                                                          tek_list\n",
       "extraction_date                                                   \n",
       "2020-09-13       {9c0d6e8b-9834-bef9-f4ad-f5305661e03b, 5e67274...\n",
       "2020-09-14       {9c0d6e8b-9834-bef9-f4ad-f5305661e03b, 5e67274...\n",
       "2020-09-15       {9c0d6e8b-9834-bef9-f4ad-f5305661e03b, 5e67274...\n",
       "2020-09-16       {5e67274b-c58d-4676-b6da-abcb3f897a99, d34c0ed...\n",
       "2020-09-17       {5e67274b-c58d-4676-b6da-abcb3f897a99, d34c0ed..."
      ]
     },
     "execution_count": 31,
     "metadata": {},
     "output_type": "execute_result"
    }
   ],
   "source": [
    "tek_list_df = daily_extracted_teks_df.groupby(\"extraction_date\").tek_list.apply(\n",
    "    lambda x: set(sum(x, []))).reset_index()\n",
    "tek_list_df = tek_list_df.set_index(\"extraction_date\").sort_index(ascending=True)\n",
    "tek_list_df.head()"
   ]
  },
  {
   "cell_type": "code",
   "execution_count": 32,
   "metadata": {
    "collapsed": false,
    "execution": {
     "iopub.execute_input": "2020-12-06T23:32:45.881647Z",
     "iopub.status.busy": "2020-12-06T23:32:45.881031Z",
     "iopub.status.idle": "2020-12-06T23:33:55.030209Z",
     "shell.execute_reply": "2020-12-06T23:33:55.030746Z"
    },
    "papermill": {
     "duration": 69.216867,
     "end_time": "2020-12-06T23:33:55.030916",
     "exception": false,
     "start_time": "2020-12-06T23:32:45.814049",
     "status": "completed"
    },
    "pycharm": {
     "name": "#%%\n"
    },
    "tags": []
   },
   "outputs": [
    {
     "name": "stderr",
     "output_type": "stream",
     "text": [
      "<ipython-input-32-827222b35590>:4: FutureWarning: `item` has been deprecated and will be removed in a future version\n",
      "  day_new_teks_set = day_new_teks_set_df[\n"
     ]
    },
    {
     "data": {
      "text/html": [
       "<div>\n",
       "<style scoped>\n",
       "    .dataframe tbody tr th:only-of-type {\n",
       "        vertical-align: middle;\n",
       "    }\n",
       "\n",
       "    .dataframe tbody tr th {\n",
       "        vertical-align: top;\n",
       "    }\n",
       "\n",
       "    .dataframe thead th {\n",
       "        text-align: right;\n",
       "    }\n",
       "</style>\n",
       "<table border=\"1\" class=\"dataframe\">\n",
       "  <thead>\n",
       "    <tr style=\"text-align: right;\">\n",
       "      <th></th>\n",
       "      <th>upload_date</th>\n",
       "      <th>generation_date</th>\n",
       "      <th>shared_teks</th>\n",
       "      <th>generation_to_upload_days</th>\n",
       "    </tr>\n",
       "  </thead>\n",
       "  <tbody>\n",
       "    <tr>\n",
       "      <th>12</th>\n",
       "      <td>2020-09-14</td>\n",
       "      <td>2020-09-13</td>\n",
       "      <td>28</td>\n",
       "      <td>1</td>\n",
       "    </tr>\n",
       "    <tr>\n",
       "      <th>11</th>\n",
       "      <td>2020-09-14</td>\n",
       "      <td>2020-09-12</td>\n",
       "      <td>9</td>\n",
       "      <td>2</td>\n",
       "    </tr>\n",
       "    <tr>\n",
       "      <th>10</th>\n",
       "      <td>2020-09-14</td>\n",
       "      <td>2020-09-11</td>\n",
       "      <td>8</td>\n",
       "      <td>3</td>\n",
       "    </tr>\n",
       "    <tr>\n",
       "      <th>9</th>\n",
       "      <td>2020-09-14</td>\n",
       "      <td>2020-09-10</td>\n",
       "      <td>8</td>\n",
       "      <td>4</td>\n",
       "    </tr>\n",
       "    <tr>\n",
       "      <th>8</th>\n",
       "      <td>2020-09-14</td>\n",
       "      <td>2020-09-09</td>\n",
       "      <td>8</td>\n",
       "      <td>5</td>\n",
       "    </tr>\n",
       "  </tbody>\n",
       "</table>\n",
       "</div>"
      ],
      "text/plain": [
       "   upload_date generation_date  shared_teks  generation_to_upload_days\n",
       "12  2020-09-14      2020-09-13           28                          1\n",
       "11  2020-09-14      2020-09-12            9                          2\n",
       "10  2020-09-14      2020-09-11            8                          3\n",
       "9   2020-09-14      2020-09-10            8                          4\n",
       "8   2020-09-14      2020-09-09            8                          5"
      ]
     },
     "execution_count": 32,
     "metadata": {},
     "output_type": "execute_result"
    }
   ],
   "source": [
    "def compute_teks_by_generation_and_upload_date(date):\n",
    "    day_new_teks_set_df = tek_list_df.copy().diff()\n",
    "    try:\n",
    "        day_new_teks_set = day_new_teks_set_df[\n",
    "            day_new_teks_set_df.index == date].tek_list.item()\n",
    "    except ValueError:\n",
    "        day_new_teks_set = None\n",
    "    if pd.isna(day_new_teks_set):\n",
    "        day_new_teks_set = set()\n",
    "    day_new_teks_df = daily_extracted_teks_df[\n",
    "        daily_extracted_teks_df.extraction_date == date].copy()\n",
    "    day_new_teks_df[\"shared_teks\"] = \\\n",
    "        day_new_teks_df.tek_list.apply(lambda x: set(x).intersection(day_new_teks_set))\n",
    "    day_new_teks_df[\"shared_teks\"] = \\\n",
    "        day_new_teks_df.shared_teks.apply(len)\n",
    "    day_new_teks_df[\"upload_date\"] = date\n",
    "    day_new_teks_df.rename(columns={\"sample_date\": \"generation_date\"}, inplace=True)\n",
    "    day_new_teks_df = day_new_teks_df[\n",
    "        [\"upload_date\", \"generation_date\", \"shared_teks\"]]\n",
    "    day_new_teks_df[\"generation_to_upload_days\"] = \\\n",
    "        (pd.to_datetime(day_new_teks_df.upload_date) -\n",
    "         pd.to_datetime(day_new_teks_df.generation_date)).dt.days\n",
    "    day_new_teks_df = day_new_teks_df[day_new_teks_df.shared_teks > 0]\n",
    "    return day_new_teks_df\n",
    "\n",
    "shared_teks_generation_to_upload_df = pd.DataFrame()\n",
    "for upload_date in daily_extracted_teks_df.extraction_date.unique():\n",
    "    shared_teks_generation_to_upload_df = \\\n",
    "        shared_teks_generation_to_upload_df.append(\n",
    "            compute_teks_by_generation_and_upload_date(date=upload_date))\n",
    "shared_teks_generation_to_upload_df \\\n",
    "    .sort_values([\"upload_date\", \"generation_date\"], ascending=False, inplace=True)\n",
    "shared_teks_generation_to_upload_df.tail()"
   ]
  },
  {
   "cell_type": "code",
   "execution_count": 33,
   "metadata": {
    "collapsed": false,
    "execution": {
     "iopub.execute_input": "2020-12-06T23:33:55.160152Z",
     "iopub.status.busy": "2020-12-06T23:33:55.159526Z",
     "iopub.status.idle": "2020-12-06T23:33:55.162987Z",
     "shell.execute_reply": "2020-12-06T23:33:55.162441Z"
    },
    "papermill": {
     "duration": 0.072725,
     "end_time": "2020-12-06T23:33:55.163122",
     "exception": false,
     "start_time": "2020-12-06T23:33:55.090397",
     "status": "completed"
    },
    "pycharm": {
     "name": "#%%\n"
    },
    "tags": []
   },
   "outputs": [
    {
     "data": {
      "text/html": [
       "<div>\n",
       "<style scoped>\n",
       "    .dataframe tbody tr th:only-of-type {\n",
       "        vertical-align: middle;\n",
       "    }\n",
       "\n",
       "    .dataframe tbody tr th {\n",
       "        vertical-align: top;\n",
       "    }\n",
       "\n",
       "    .dataframe thead th {\n",
       "        text-align: right;\n",
       "    }\n",
       "</style>\n",
       "<table border=\"1\" class=\"dataframe\">\n",
       "  <thead>\n",
       "    <tr style=\"text-align: right;\">\n",
       "      <th></th>\n",
       "      <th>upload_date</th>\n",
       "      <th>generation_date</th>\n",
       "      <th>shared_teks</th>\n",
       "      <th>generation_to_upload_days</th>\n",
       "    </tr>\n",
       "  </thead>\n",
       "  <tbody>\n",
       "    <tr>\n",
       "      <th>31</th>\n",
       "      <td>2020-12-06</td>\n",
       "      <td>2020-11-27</td>\n",
       "      <td>1247</td>\n",
       "      <td>9</td>\n",
       "    </tr>\n",
       "    <tr>\n",
       "      <th>24</th>\n",
       "      <td>2020-12-06</td>\n",
       "      <td>2020-11-26</td>\n",
       "      <td>1238</td>\n",
       "      <td>10</td>\n",
       "    </tr>\n",
       "    <tr>\n",
       "      <th>17</th>\n",
       "      <td>2020-12-06</td>\n",
       "      <td>2020-11-25</td>\n",
       "      <td>1188</td>\n",
       "      <td>11</td>\n",
       "    </tr>\n",
       "    <tr>\n",
       "      <th>10</th>\n",
       "      <td>2020-12-06</td>\n",
       "      <td>2020-11-24</td>\n",
       "      <td>1190</td>\n",
       "      <td>12</td>\n",
       "    </tr>\n",
       "    <tr>\n",
       "      <th>3</th>\n",
       "      <td>2020-12-06</td>\n",
       "      <td>2020-11-23</td>\n",
       "      <td>1173</td>\n",
       "      <td>13</td>\n",
       "    </tr>\n",
       "  </tbody>\n",
       "</table>\n",
       "</div>"
      ],
      "text/plain": [
       "   upload_date generation_date  shared_teks  generation_to_upload_days\n",
       "31  2020-12-06      2020-11-27         1247                          9\n",
       "24  2020-12-06      2020-11-26         1238                         10\n",
       "17  2020-12-06      2020-11-25         1188                         11\n",
       "10  2020-12-06      2020-11-24         1190                         12\n",
       "3   2020-12-06      2020-11-23         1173                         13"
      ]
     },
     "execution_count": 33,
     "metadata": {},
     "output_type": "execute_result"
    }
   ],
   "source": [
    "today_new_teks_df = \\\n",
    "    shared_teks_generation_to_upload_df[\n",
    "        shared_teks_generation_to_upload_df.upload_date == extraction_date].copy()\n",
    "today_new_teks_df.tail()"
   ]
  },
  {
   "cell_type": "code",
   "execution_count": 34,
   "metadata": {
    "collapsed": false,
    "execution": {
     "iopub.execute_input": "2020-12-06T23:33:55.305164Z",
     "iopub.status.busy": "2020-12-06T23:33:55.304557Z",
     "iopub.status.idle": "2020-12-06T23:33:56.024687Z",
     "shell.execute_reply": "2020-12-06T23:33:56.025409Z"
    },
    "papermill": {
     "duration": 0.802219,
     "end_time": "2020-12-06T23:33:56.025587",
     "exception": false,
     "start_time": "2020-12-06T23:33:55.223368",
     "status": "completed"
    },
    "pycharm": {
     "name": "#%%\n"
    },
    "tags": []
   },
   "outputs": [
    {
     "data": {
      "image/png": "[encoded data removed]",
      "text/plain": [
       "<Figure size 1080x432 with 1 Axes>"
      ]
     },
     "metadata": {},
     "output_type": "display_data"
    }
   ],
   "source": [
    "if not today_new_teks_df.empty:\n",
    "    today_new_teks_df.set_index(\"generation_to_upload_days\") \\\n",
    "        .sort_index().shared_teks.plot.bar()"
   ]
  },
  {
   "cell_type": "code",
   "execution_count": 35,
   "metadata": {
    "collapsed": false,
    "execution": {
     "iopub.execute_input": "2020-12-06T23:33:56.155712Z",
     "iopub.status.busy": "2020-12-06T23:33:56.154757Z",
     "iopub.status.idle": "2020-12-06T23:33:56.172382Z",
     "shell.execute_reply": "2020-12-06T23:33:56.172994Z"
    },
    "papermill": {
     "duration": 0.085678,
     "end_time": "2020-12-06T23:33:56.173145",
     "exception": false,
     "start_time": "2020-12-06T23:33:56.087467",
     "status": "completed"
    },
    "pycharm": {
     "name": "#%%\n"
    },
    "tags": []
   },
   "outputs": [
    {
     "data": {
      "text/html": [
       "<div>\n",
       "<style scoped>\n",
       "    .dataframe tbody tr th:only-of-type {\n",
       "        vertical-align: middle;\n",
       "    }\n",
       "\n",
       "    .dataframe tbody tr th {\n",
       "        vertical-align: top;\n",
       "    }\n",
       "\n",
       "    .dataframe thead th {\n",
       "        text-align: right;\n",
       "    }\n",
       "</style>\n",
       "<table border=\"1\" class=\"dataframe\">\n",
       "  <thead>\n",
       "    <tr style=\"text-align: right;\">\n",
       "      <th>generation_to_upload_days</th>\n",
       "      <th>0</th>\n",
       "      <th>1</th>\n",
       "      <th>2</th>\n",
       "      <th>3</th>\n",
       "      <th>4</th>\n",
       "      <th>5</th>\n",
       "      <th>6</th>\n",
       "      <th>7</th>\n",
       "      <th>8</th>\n",
       "      <th>9</th>\n",
       "      <th>10</th>\n",
       "      <th>11</th>\n",
       "      <th>12</th>\n",
       "      <th>13</th>\n",
       "    </tr>\n",
       "    <tr>\n",
       "      <th>upload_date</th>\n",
       "      <th></th>\n",
       "      <th></th>\n",
       "      <th></th>\n",
       "      <th></th>\n",
       "      <th></th>\n",
       "      <th></th>\n",
       "      <th></th>\n",
       "      <th></th>\n",
       "      <th></th>\n",
       "      <th></th>\n",
       "      <th></th>\n",
       "      <th></th>\n",
       "      <th></th>\n",
       "      <th></th>\n",
       "    </tr>\n",
       "  </thead>\n",
       "  <tbody>\n",
       "    <tr>\n",
       "      <th>2020-12-06</th>\n",
       "      <td>152</td>\n",
       "      <td>1170</td>\n",
       "      <td>1707</td>\n",
       "      <td>1523</td>\n",
       "      <td>1398</td>\n",
       "      <td>1355</td>\n",
       "      <td>1310</td>\n",
       "      <td>1280</td>\n",
       "      <td>1275</td>\n",
       "      <td>1247</td>\n",
       "      <td>1238</td>\n",
       "      <td>1188</td>\n",
       "      <td>1190</td>\n",
       "      <td>1173</td>\n",
       "    </tr>\n",
       "    <tr>\n",
       "      <th>2020-12-05</th>\n",
       "      <td>167</td>\n",
       "      <td>2183</td>\n",
       "      <td>5053</td>\n",
       "      <td>7593</td>\n",
       "      <td>10092</td>\n",
       "      <td>9910</td>\n",
       "      <td>9487</td>\n",
       "      <td>9267</td>\n",
       "      <td>9190</td>\n",
       "      <td>8930</td>\n",
       "      <td>8743</td>\n",
       "      <td>8672</td>\n",
       "      <td>8546</td>\n",
       "      <td>8386</td>\n",
       "    </tr>\n",
       "    <tr>\n",
       "      <th>2020-12-04</th>\n",
       "      <td>158</td>\n",
       "      <td>188</td>\n",
       "      <td>120</td>\n",
       "      <td>103</td>\n",
       "      <td>77</td>\n",
       "      <td>55</td>\n",
       "      <td>28</td>\n",
       "      <td>18</td>\n",
       "      <td>11</td>\n",
       "      <td>10</td>\n",
       "      <td>10</td>\n",
       "      <td>8</td>\n",
       "      <td>5</td>\n",
       "      <td>3</td>\n",
       "    </tr>\n",
       "    <tr>\n",
       "      <th>2020-12-03</th>\n",
       "      <td>161</td>\n",
       "      <td>189</td>\n",
       "      <td>129</td>\n",
       "      <td>116</td>\n",
       "      <td>91</td>\n",
       "      <td>57</td>\n",
       "      <td>36</td>\n",
       "      <td>27</td>\n",
       "      <td>12</td>\n",
       "      <td>5</td>\n",
       "      <td>3</td>\n",
       "      <td>1</td>\n",
       "      <td>1</td>\n",
       "      <td>0</td>\n",
       "    </tr>\n",
       "    <tr>\n",
       "      <th>2020-12-02</th>\n",
       "      <td>197</td>\n",
       "      <td>214</td>\n",
       "      <td>615</td>\n",
       "      <td>540</td>\n",
       "      <td>499</td>\n",
       "      <td>454</td>\n",
       "      <td>421</td>\n",
       "      <td>390</td>\n",
       "      <td>369</td>\n",
       "      <td>354</td>\n",
       "      <td>339</td>\n",
       "      <td>332</td>\n",
       "      <td>325</td>\n",
       "      <td>322</td>\n",
       "    </tr>\n",
       "  </tbody>\n",
       "</table>\n",
       "</div>"
      ],
      "text/plain": [
       "generation_to_upload_days   0     1     2     3      4     5     6     7   \\\n",
       "upload_date                                                                 \n",
       "2020-12-06                 152  1170  1707  1523   1398  1355  1310  1280   \n",
       "2020-12-05                 167  2183  5053  7593  10092  9910  9487  9267   \n",
       "2020-12-04                 158   188   120   103     77    55    28    18   \n",
       "2020-12-03                 161   189   129   116     91    57    36    27   \n",
       "2020-12-02                 197   214   615   540    499   454   421   390   \n",
       "\n",
       "generation_to_upload_days    8     9     10    11    12    13  \n",
       "upload_date                                                    \n",
       "2020-12-06                 1275  1247  1238  1188  1190  1173  \n",
       "2020-12-05                 9190  8930  8743  8672  8546  8386  \n",
       "2020-12-04                   11    10    10     8     5     3  \n",
       "2020-12-03                   12     5     3     1     1     0  \n",
       "2020-12-02                  369   354   339   332   325   322  "
      ]
     },
     "execution_count": 35,
     "metadata": {},
     "output_type": "execute_result"
    }
   ],
   "source": [
    "generation_to_upload_period_pivot_df = \\\n",
    "    shared_teks_generation_to_upload_df[\n",
    "        [\"upload_date\", \"generation_to_upload_days\", \"shared_teks\"]] \\\n",
    "        .pivot(index=\"upload_date\", columns=\"generation_to_upload_days\") \\\n",
    "        .sort_index(ascending=False).fillna(0).astype(int) \\\n",
    "        .droplevel(level=0, axis=1)\n",
    "generation_to_upload_period_pivot_df.head()"
   ]
  },
  {
   "cell_type": "code",
   "execution_count": 36,
   "metadata": {
    "collapsed": false,
    "execution": {
     "iopub.execute_input": "2020-12-06T23:33:57.122640Z",
     "iopub.status.busy": "2020-12-06T23:33:57.117119Z",
     "iopub.status.idle": "2020-12-06T23:33:57.128213Z",
     "shell.execute_reply": "2020-12-06T23:33:57.129141Z"
    },
    "papermill": {
     "duration": 0.894586,
     "end_time": "2020-12-06T23:33:57.129322",
     "exception": false,
     "start_time": "2020-12-06T23:33:56.234736",
     "status": "completed"
    },
    "pycharm": {
     "name": "#%%\n"
    },
    "tags": []
   },
   "outputs": [
    {
     "data": {
      "text/html": [
       "<div>\n",
       "<style scoped>\n",
       "    .dataframe tbody tr th:only-of-type {\n",
       "        vertical-align: middle;\n",
       "    }\n",
       "\n",
       "    .dataframe tbody tr th {\n",
       "        vertical-align: top;\n",
       "    }\n",
       "\n",
       "    .dataframe thead th {\n",
       "        text-align: right;\n",
       "    }\n",
       "</style>\n",
       "<table border=\"1\" class=\"dataframe\">\n",
       "  <thead>\n",
       "    <tr style=\"text-align: right;\">\n",
       "      <th></th>\n",
       "      <th>sample_date_string</th>\n",
       "      <th>shared_teks_by_upload_date</th>\n",
       "    </tr>\n",
       "  </thead>\n",
       "  <tbody>\n",
       "    <tr>\n",
       "      <th>80</th>\n",
       "      <td>2020-12-02</td>\n",
       "      <td>5371.0</td>\n",
       "    </tr>\n",
       "    <tr>\n",
       "      <th>81</th>\n",
       "      <td>2020-12-03</td>\n",
       "      <td>828.0</td>\n",
       "    </tr>\n",
       "    <tr>\n",
       "      <th>82</th>\n",
       "      <td>2020-12-04</td>\n",
       "      <td>794.0</td>\n",
       "    </tr>\n",
       "    <tr>\n",
       "      <th>83</th>\n",
       "      <td>2020-12-05</td>\n",
       "      <td>106219.0</td>\n",
       "    </tr>\n",
       "    <tr>\n",
       "      <th>84</th>\n",
       "      <td>2020-12-06</td>\n",
       "      <td>17206.0</td>\n",
       "    </tr>\n",
       "  </tbody>\n",
       "</table>\n",
       "</div>"
      ],
      "text/plain": [
       "   sample_date_string  shared_teks_by_upload_date\n",
       "80         2020-12-02                      5371.0\n",
       "81         2020-12-03                       828.0\n",
       "82         2020-12-04                       794.0\n",
       "83         2020-12-05                    106219.0\n",
       "84         2020-12-06                     17206.0"
      ]
     },
     "execution_count": 36,
     "metadata": {},
     "output_type": "execute_result"
    }
   ],
   "source": [
    "new_tek_df = tek_list_df.diff().tek_list.apply(\n",
    "    lambda x: len(x) if not pd.isna(x) else None).to_frame().reset_index()\n",
    "new_tek_df.rename(columns={\n",
    "    \"tek_list\": \"shared_teks_by_upload_date\",\n",
    "    \"extraction_date\": \"sample_date_string\",}, inplace=True)\n",
    "new_tek_df.tail()"
   ]
  },
  {
   "cell_type": "code",
   "execution_count": 37,
   "metadata": {
    "collapsed": false,
    "execution": {
     "iopub.execute_input": "2020-12-06T23:33:57.270021Z",
     "iopub.status.busy": "2020-12-06T23:33:57.269363Z",
     "iopub.status.idle": "2020-12-06T23:33:57.275188Z",
     "shell.execute_reply": "2020-12-06T23:33:57.275695Z"
    },
    "papermill": {
     "duration": 0.080444,
     "end_time": "2020-12-06T23:33:57.275872",
     "exception": false,
     "start_time": "2020-12-06T23:33:57.195428",
     "status": "completed"
    },
    "pycharm": {
     "name": "#%%\n"
    },
    "tags": []
   },
   "outputs": [
    {
     "data": {
      "text/html": [
       "<div>\n",
       "<style scoped>\n",
       "    .dataframe tbody tr th:only-of-type {\n",
       "        vertical-align: middle;\n",
       "    }\n",
       "\n",
       "    .dataframe tbody tr th {\n",
       "        vertical-align: top;\n",
       "    }\n",
       "\n",
       "    .dataframe thead th {\n",
       "        text-align: right;\n",
       "    }\n",
       "</style>\n",
       "<table border=\"1\" class=\"dataframe\">\n",
       "  <thead>\n",
       "    <tr style=\"text-align: right;\">\n",
       "      <th></th>\n",
       "      <th>sample_date_string</th>\n",
       "      <th>shared_teks_uploaded_on_generation_date</th>\n",
       "    </tr>\n",
       "  </thead>\n",
       "  <tbody>\n",
       "    <tr>\n",
       "      <th>92</th>\n",
       "      <td>2020-12-06</td>\n",
       "      <td>152</td>\n",
       "    </tr>\n",
       "    <tr>\n",
       "      <th>142</th>\n",
       "      <td>2020-12-05</td>\n",
       "      <td>167</td>\n",
       "    </tr>\n",
       "    <tr>\n",
       "      <th>142</th>\n",
       "      <td>2020-12-04</td>\n",
       "      <td>158</td>\n",
       "    </tr>\n",
       "    <tr>\n",
       "      <th>142</th>\n",
       "      <td>2020-12-03</td>\n",
       "      <td>161</td>\n",
       "    </tr>\n",
       "    <tr>\n",
       "      <th>142</th>\n",
       "      <td>2020-12-02</td>\n",
       "      <td>197</td>\n",
       "    </tr>\n",
       "  </tbody>\n",
       "</table>\n",
       "</div>"
      ],
      "text/plain": [
       "    sample_date_string  shared_teks_uploaded_on_generation_date\n",
       "92          2020-12-06                                      152\n",
       "142         2020-12-05                                      167\n",
       "142         2020-12-04                                      158\n",
       "142         2020-12-03                                      161\n",
       "142         2020-12-02                                      197"
      ]
     },
     "execution_count": 37,
     "metadata": {},
     "output_type": "execute_result"
    }
   ],
   "source": [
    "shared_teks_uploaded_on_generation_date_df = shared_teks_generation_to_upload_df[\n",
    "    shared_teks_generation_to_upload_df.generation_to_upload_days == 0] \\\n",
    "    [[\"upload_date\", \"shared_teks\"]].rename(\n",
    "    columns={\n",
    "        \"upload_date\": \"sample_date_string\",\n",
    "        \"shared_teks\": \"shared_teks_uploaded_on_generation_date\",\n",
    "    })\n",
    "shared_teks_uploaded_on_generation_date_df.head()"
   ]
  },
  {
   "cell_type": "code",
   "execution_count": 38,
   "metadata": {
    "collapsed": false,
    "execution": {
     "iopub.execute_input": "2020-12-06T23:33:57.416807Z",
     "iopub.status.busy": "2020-12-06T23:33:57.412471Z",
     "iopub.status.idle": "2020-12-06T23:33:57.422075Z",
     "shell.execute_reply": "2020-12-06T23:33:57.421567Z"
    },
    "papermill": {
     "duration": 0.082605,
     "end_time": "2020-12-06T23:33:57.422196",
     "exception": false,
     "start_time": "2020-12-06T23:33:57.339591",
     "status": "completed"
    },
    "pycharm": {
     "name": "#%%\n"
    },
    "tags": []
   },
   "outputs": [
    {
     "data": {
      "text/html": [
       "<div>\n",
       "<style scoped>\n",
       "    .dataframe tbody tr th:only-of-type {\n",
       "        vertical-align: middle;\n",
       "    }\n",
       "\n",
       "    .dataframe tbody tr th {\n",
       "        vertical-align: top;\n",
       "    }\n",
       "\n",
       "    .dataframe thead th {\n",
       "        text-align: right;\n",
       "    }\n",
       "</style>\n",
       "<table border=\"1\" class=\"dataframe\">\n",
       "  <thead>\n",
       "    <tr style=\"text-align: right;\">\n",
       "      <th></th>\n",
       "      <th>sample_date_string</th>\n",
       "      <th>shared_diagnoses</th>\n",
       "    </tr>\n",
       "  </thead>\n",
       "  <tbody>\n",
       "    <tr>\n",
       "      <th>83</th>\n",
       "      <td>2020-12-06</td>\n",
       "      <td>1707</td>\n",
       "    </tr>\n",
       "    <tr>\n",
       "      <th>82</th>\n",
       "      <td>0</td>\n",
       "      <td>0</td>\n",
       "    </tr>\n",
       "    <tr>\n",
       "      <th>81</th>\n",
       "      <td>2020-12-04</td>\n",
       "      <td>188</td>\n",
       "    </tr>\n",
       "    <tr>\n",
       "      <th>80</th>\n",
       "      <td>2020-12-03</td>\n",
       "      <td>189</td>\n",
       "    </tr>\n",
       "    <tr>\n",
       "      <th>79</th>\n",
       "      <td>0</td>\n",
       "      <td>0</td>\n",
       "    </tr>\n",
       "  </tbody>\n",
       "</table>\n",
       "</div>"
      ],
      "text/plain": [
       "   sample_date_string  shared_diagnoses\n",
       "83         2020-12-06              1707\n",
       "82                  0                 0\n",
       "81         2020-12-04               188\n",
       "80         2020-12-03               189\n",
       "79                  0                 0"
      ]
     },
     "execution_count": 38,
     "metadata": {},
     "output_type": "execute_result"
    }
   ],
   "source": [
    "estimated_shared_diagnoses_df = shared_teks_generation_to_upload_df \\\n",
    "    .groupby([\"upload_date\"]).shared_teks.max().reset_index() \\\n",
    "    .sort_values([\"upload_date\"], ascending=False) \\\n",
    "    .rename(columns={\n",
    "        \"upload_date\": \"sample_date_string\",\n",
    "        \"shared_teks\": \"shared_diagnoses\",\n",
    "    })\n",
    "invalid_shared_diagnoses_dates_mask = \\\n",
    "    estimated_shared_diagnoses_df.sample_date_string.isin(invalid_shared_diagnoses_dates)\n",
    "estimated_shared_diagnoses_df[invalid_shared_diagnoses_dates_mask] = 0\n",
    "estimated_shared_diagnoses_df.head()"
   ]
  },
  {
   "cell_type": "markdown",
   "metadata": {
    "papermill": {
     "duration": 0.063192,
     "end_time": "2020-12-06T23:33:57.548179",
     "exception": false,
     "start_time": "2020-12-06T23:33:57.484987",
     "status": "completed"
    },
    "pycharm": {
     "name": "#%% md\n"
    },
    "tags": []
   },
   "source": [
    "### Hourly New TEKs"
   ]
  },
  {
   "cell_type": "code",
   "execution_count": 39,
   "metadata": {
    "execution": {
     "iopub.execute_input": "2020-12-06T23:33:57.688608Z",
     "iopub.status.busy": "2020-12-06T23:33:57.687911Z",
     "iopub.status.idle": "2020-12-06T23:35:16.839242Z",
     "shell.execute_reply": "2020-12-06T23:35:16.837166Z"
    },
    "papermill": {
     "duration": 79.228094,
     "end_time": "2020-12-06T23:35:16.839396",
     "exception": false,
     "start_time": "2020-12-06T23:33:57.611302",
     "status": "completed"
    },
    "pycharm": {
     "name": "#%%\n"
    },
    "tags": []
   },
   "outputs": [
    {
     "data": {
      "text/html": [
       "<div>\n",
       "<style scoped>\n",
       "    .dataframe tbody tr th:only-of-type {\n",
       "        vertical-align: middle;\n",
       "    }\n",
       "\n",
       "    .dataframe tbody tr th {\n",
       "        vertical-align: top;\n",
       "    }\n",
       "\n",
       "    .dataframe thead th {\n",
       "        text-align: right;\n",
       "    }\n",
       "</style>\n",
       "<table border=\"1\" class=\"dataframe\">\n",
       "  <thead>\n",
       "    <tr style=\"text-align: right;\">\n",
       "      <th></th>\n",
       "      <th>region</th>\n",
       "      <th>sample_date</th>\n",
       "      <th>tek_list</th>\n",
       "      <th>extraction_date</th>\n",
       "      <th>extraction_date_with_hour</th>\n",
       "    </tr>\n",
       "  </thead>\n",
       "  <tbody>\n",
       "    <tr>\n",
       "      <th>3</th>\n",
       "      <td>ES</td>\n",
       "      <td>2020-11-23</td>\n",
       "      <td>[c562e2ef-a02e-826d-8492-759c91669aae, 8ad5be5...</td>\n",
       "      <td>2020-12-06</td>\n",
       "      <td>2020-12-06@23</td>\n",
       "    </tr>\n",
       "    <tr>\n",
       "      <th>10</th>\n",
       "      <td>ES</td>\n",
       "      <td>2020-11-24</td>\n",
       "      <td>[27108582-6d6f-585b-8681-668259cfa468, 0858dbf...</td>\n",
       "      <td>2020-12-06</td>\n",
       "      <td>2020-12-06@23</td>\n",
       "    </tr>\n",
       "    <tr>\n",
       "      <th>17</th>\n",
       "      <td>ES</td>\n",
       "      <td>2020-11-25</td>\n",
       "      <td>[348b8922-4b5f-4ee6-f5ab-76a0813a05fc, 940751c...</td>\n",
       "      <td>2020-12-06</td>\n",
       "      <td>2020-12-06@23</td>\n",
       "    </tr>\n",
       "    <tr>\n",
       "      <th>24</th>\n",
       "      <td>ES</td>\n",
       "      <td>2020-11-26</td>\n",
       "      <td>[36922faf-bb5f-adc4-7e20-b9398a8e7e57, 983d06e...</td>\n",
       "      <td>2020-12-06</td>\n",
       "      <td>2020-12-06@23</td>\n",
       "    </tr>\n",
       "    <tr>\n",
       "      <th>31</th>\n",
       "      <td>ES</td>\n",
       "      <td>2020-11-27</td>\n",
       "      <td>[5ac8f5bd-024d-25ef-25ee-2f91f0cf8299, 11730a6...</td>\n",
       "      <td>2020-12-06</td>\n",
       "      <td>2020-12-06@23</td>\n",
       "    </tr>\n",
       "  </tbody>\n",
       "</table>\n",
       "</div>"
      ],
      "text/plain": [
       "   region sample_date                                           tek_list  \\\n",
       "3      ES  2020-11-23  [c562e2ef-a02e-826d-8492-759c91669aae, 8ad5be5...   \n",
       "10     ES  2020-11-24  [27108582-6d6f-585b-8681-668259cfa468, 0858dbf...   \n",
       "17     ES  2020-11-25  [348b8922-4b5f-4ee6-f5ab-76a0813a05fc, 940751c...   \n",
       "24     ES  2020-11-26  [36922faf-bb5f-adc4-7e20-b9398a8e7e57, 983d06e...   \n",
       "31     ES  2020-11-27  [5ac8f5bd-024d-25ef-25ee-2f91f0cf8299, 11730a6...   \n",
       "\n",
       "   extraction_date extraction_date_with_hour  \n",
       "3       2020-12-06             2020-12-06@23  \n",
       "10      2020-12-06             2020-12-06@23  \n",
       "17      2020-12-06             2020-12-06@23  \n",
       "24      2020-12-06             2020-12-06@23  \n",
       "31      2020-12-06             2020-12-06@23  "
      ]
     },
     "execution_count": 39,
     "metadata": {},
     "output_type": "execute_result"
    }
   ],
   "source": [
    "hourly_extracted_teks_df = load_extracted_teks(\n",
    "    mode=\"Hourly\", region=report_backend_identifier, limit=25)\n",
    "hourly_extracted_teks_df.head()"
   ]
  },
  {
   "cell_type": "code",
   "execution_count": 40,
   "metadata": {
    "collapsed": false,
    "execution": {
     "iopub.execute_input": "2020-12-06T23:35:16.993484Z",
     "iopub.status.busy": "2020-12-06T23:35:16.992800Z",
     "iopub.status.idle": "2020-12-06T23:35:19.062711Z",
     "shell.execute_reply": "2020-12-06T23:35:19.062165Z"
    },
    "papermill": {
     "duration": 2.162081,
     "end_time": "2020-12-06T23:35:19.062856",
     "exception": false,
     "start_time": "2020-12-06T23:35:16.900775",
     "status": "completed"
    },
    "pycharm": {
     "name": "#%%\n"
    },
    "tags": []
   },
   "outputs": [
    {
     "data": {
      "text/html": [
       "<div>\n",
       "<style scoped>\n",
       "    .dataframe tbody tr th:only-of-type {\n",
       "        vertical-align: middle;\n",
       "    }\n",
       "\n",
       "    .dataframe tbody tr th {\n",
       "        vertical-align: top;\n",
       "    }\n",
       "\n",
       "    .dataframe thead th {\n",
       "        text-align: right;\n",
       "    }\n",
       "</style>\n",
       "<table border=\"1\" class=\"dataframe\">\n",
       "  <thead>\n",
       "    <tr style=\"text-align: right;\">\n",
       "      <th></th>\n",
       "      <th>extraction_date_with_hour</th>\n",
       "      <th>shared_teks_by_upload_date</th>\n",
       "    </tr>\n",
       "  </thead>\n",
       "  <tbody>\n",
       "    <tr>\n",
       "      <th>0</th>\n",
       "      <td>2020-12-05@22</td>\n",
       "      <td>0</td>\n",
       "    </tr>\n",
       "    <tr>\n",
       "      <th>1</th>\n",
       "      <td>2020-12-05@23</td>\n",
       "      <td>0</td>\n",
       "    </tr>\n",
       "    <tr>\n",
       "      <th>2</th>\n",
       "      <td>2020-12-06@01</td>\n",
       "      <td>13</td>\n",
       "    </tr>\n",
       "    <tr>\n",
       "      <th>3</th>\n",
       "      <td>2020-12-06@02</td>\n",
       "      <td>23</td>\n",
       "    </tr>\n",
       "    <tr>\n",
       "      <th>4</th>\n",
       "      <td>2020-12-06@03</td>\n",
       "      <td>0</td>\n",
       "    </tr>\n",
       "  </tbody>\n",
       "</table>\n",
       "</div>"
      ],
      "text/plain": [
       "  extraction_date_with_hour  shared_teks_by_upload_date\n",
       "0             2020-12-05@22                           0\n",
       "1             2020-12-05@23                           0\n",
       "2             2020-12-06@01                          13\n",
       "3             2020-12-06@02                          23\n",
       "4             2020-12-06@03                           0"
      ]
     },
     "execution_count": 40,
     "metadata": {},
     "output_type": "execute_result"
    }
   ],
   "source": [
    "hourly_new_tek_count_df = hourly_extracted_teks_df \\\n",
    "    .groupby(\"extraction_date_with_hour\").tek_list. \\\n",
    "    apply(lambda x: set(sum(x, []))).reset_index().copy()\n",
    "hourly_new_tek_count_df = hourly_new_tek_count_df.set_index(\"extraction_date_with_hour\") \\\n",
    "    .sort_index(ascending=True)\n",
    "\n",
    "hourly_new_tek_count_df[\"new_tek_list\"] = hourly_new_tek_count_df.tek_list.diff()\n",
    "hourly_new_tek_count_df[\"new_tek_count\"] = hourly_new_tek_count_df.new_tek_list.apply(\n",
    "    lambda x: len(x) if not pd.isna(x) else 0)\n",
    "hourly_new_tek_count_df.rename(columns={\n",
    "    \"new_tek_count\": \"shared_teks_by_upload_date\"}, inplace=True)\n",
    "hourly_new_tek_count_df = hourly_new_tek_count_df.reset_index()[[\n",
    "    \"extraction_date_with_hour\", \"shared_teks_by_upload_date\"]]\n",
    "hourly_new_tek_count_df.head()"
   ]
  },
  {
   "cell_type": "code",
   "execution_count": 41,
   "metadata": {
    "collapsed": false,
    "execution": {
     "iopub.execute_input": "2020-12-06T23:35:19.225201Z",
     "iopub.status.busy": "2020-12-06T23:35:19.224437Z",
     "iopub.status.idle": "2020-12-06T23:35:19.229551Z",
     "shell.execute_reply": "2020-12-06T23:35:19.230085Z"
    },
    "papermill": {
     "duration": 0.099169,
     "end_time": "2020-12-06T23:35:19.230251",
     "exception": false,
     "start_time": "2020-12-06T23:35:19.131082",
     "status": "completed"
    },
    "pycharm": {
     "name": "#%%\n"
    },
    "tags": []
   },
   "outputs": [
    {
     "data": {
      "text/html": [
       "<div>\n",
       "<style scoped>\n",
       "    .dataframe tbody tr th:only-of-type {\n",
       "        vertical-align: middle;\n",
       "    }\n",
       "\n",
       "    .dataframe tbody tr th {\n",
       "        vertical-align: top;\n",
       "    }\n",
       "\n",
       "    .dataframe thead th {\n",
       "        text-align: right;\n",
       "    }\n",
       "</style>\n",
       "<table border=\"1\" class=\"dataframe\">\n",
       "  <thead>\n",
       "    <tr style=\"text-align: right;\">\n",
       "      <th></th>\n",
       "      <th>extraction_date_with_hour</th>\n",
       "      <th>shared_teks_by_upload_date</th>\n",
       "    </tr>\n",
       "    <tr>\n",
       "      <th>datetime_utc</th>\n",
       "      <th></th>\n",
       "      <th></th>\n",
       "    </tr>\n",
       "  </thead>\n",
       "  <tbody>\n",
       "    <tr>\n",
       "      <th>2020-12-05 23:00:00</th>\n",
       "      <td>2020-12-05@23</td>\n",
       "      <td>0</td>\n",
       "    </tr>\n",
       "    <tr>\n",
       "      <th>2020-12-06 01:00:00</th>\n",
       "      <td>2020-12-06@01</td>\n",
       "      <td>13</td>\n",
       "    </tr>\n",
       "    <tr>\n",
       "      <th>2020-12-06 02:00:00</th>\n",
       "      <td>2020-12-06@02</td>\n",
       "      <td>23</td>\n",
       "    </tr>\n",
       "    <tr>\n",
       "      <th>2020-12-06 03:00:00</th>\n",
       "      <td>2020-12-06@03</td>\n",
       "      <td>0</td>\n",
       "    </tr>\n",
       "    <tr>\n",
       "      <th>2020-12-06 04:00:00</th>\n",
       "      <td>2020-12-06@04</td>\n",
       "      <td>23</td>\n",
       "    </tr>\n",
       "  </tbody>\n",
       "</table>\n",
       "</div>"
      ],
      "text/plain": [
       "                    extraction_date_with_hour  shared_teks_by_upload_date\n",
       "datetime_utc                                                             \n",
       "2020-12-05 23:00:00             2020-12-05@23                           0\n",
       "2020-12-06 01:00:00             2020-12-06@01                          13\n",
       "2020-12-06 02:00:00             2020-12-06@02                          23\n",
       "2020-12-06 03:00:00             2020-12-06@03                           0\n",
       "2020-12-06 04:00:00             2020-12-06@04                          23"
      ]
     },
     "execution_count": 41,
     "metadata": {},
     "output_type": "execute_result"
    }
   ],
   "source": [
    "hourly_summary_df = hourly_new_tek_count_df.copy()\n",
    "hourly_summary_df.set_index(\"extraction_date_with_hour\", inplace=True)\n",
    "hourly_summary_df = hourly_summary_df.fillna(0).astype(int).reset_index()\n",
    "hourly_summary_df[\"datetime_utc\"] = pd.to_datetime(\n",
    "    hourly_summary_df.extraction_date_with_hour, format=\"%Y-%m-%d@%H\")\n",
    "hourly_summary_df.set_index(\"datetime_utc\", inplace=True)\n",
    "hourly_summary_df = hourly_summary_df.tail(-1)\n",
    "hourly_summary_df.head()"
   ]
  },
  {
   "cell_type": "markdown",
   "metadata": {
    "collapsed": false,
    "papermill": {
     "duration": 0.068918,
     "end_time": "2020-12-06T23:35:19.365927",
     "exception": false,
     "start_time": "2020-12-06T23:35:19.297009",
     "status": "completed"
    },
    "tags": []
   },
   "source": [
    "### Data Merge"
   ]
  },
  {
   "cell_type": "code",
   "execution_count": 42,
   "metadata": {
    "collapsed": false,
    "execution": {
     "iopub.execute_input": "2020-12-06T23:35:19.533669Z",
     "iopub.status.busy": "2020-12-06T23:35:19.509061Z",
     "iopub.status.idle": "2020-12-06T23:35:19.539288Z",
     "shell.execute_reply": "2020-12-06T23:35:19.540175Z"
    },
    "papermill": {
     "duration": 0.109759,
     "end_time": "2020-12-06T23:35:19.540339",
     "exception": false,
     "start_time": "2020-12-06T23:35:19.430580",
     "status": "completed"
    },
    "pycharm": {
     "name": "#%%\n"
    },
    "tags": []
   },
   "outputs": [
    {
     "data": {
      "text/html": [
       "<div>\n",
       "<style scoped>\n",
       "    .dataframe tbody tr th:only-of-type {\n",
       "        vertical-align: middle;\n",
       "    }\n",
       "\n",
       "    .dataframe tbody tr th {\n",
       "        vertical-align: top;\n",
       "    }\n",
       "\n",
       "    .dataframe thead th {\n",
       "        text-align: right;\n",
       "    }\n",
       "</style>\n",
       "<table border=\"1\" class=\"dataframe\">\n",
       "  <thead>\n",
       "    <tr style=\"text-align: right;\">\n",
       "      <th></th>\n",
       "      <th>sample_date_string</th>\n",
       "      <th>shared_teks_by_generation_date</th>\n",
       "      <th>shared_teks_by_upload_date</th>\n",
       "    </tr>\n",
       "  </thead>\n",
       "  <tbody>\n",
       "    <tr>\n",
       "      <th>0</th>\n",
       "      <td>2020-12-06</td>\n",
       "      <td>152</td>\n",
       "      <td>17206.0</td>\n",
       "    </tr>\n",
       "    <tr>\n",
       "      <th>1</th>\n",
       "      <td>2020-12-05</td>\n",
       "      <td>1337</td>\n",
       "      <td>106219.0</td>\n",
       "    </tr>\n",
       "    <tr>\n",
       "      <th>2</th>\n",
       "      <td>2020-12-04</td>\n",
       "      <td>4048</td>\n",
       "      <td>794.0</td>\n",
       "    </tr>\n",
       "    <tr>\n",
       "      <th>3</th>\n",
       "      <td>2020-12-03</td>\n",
       "      <td>6925</td>\n",
       "      <td>828.0</td>\n",
       "    </tr>\n",
       "    <tr>\n",
       "      <th>4</th>\n",
       "      <td>2020-12-02</td>\n",
       "      <td>9497</td>\n",
       "      <td>5371.0</td>\n",
       "    </tr>\n",
       "  </tbody>\n",
       "</table>\n",
       "</div>"
      ],
      "text/plain": [
       "  sample_date_string  shared_teks_by_generation_date  \\\n",
       "0         2020-12-06                             152   \n",
       "1         2020-12-05                            1337   \n",
       "2         2020-12-04                            4048   \n",
       "3         2020-12-03                            6925   \n",
       "4         2020-12-02                            9497   \n",
       "\n",
       "   shared_teks_by_upload_date  \n",
       "0                     17206.0  \n",
       "1                    106219.0  \n",
       "2                       794.0  \n",
       "3                       828.0  \n",
       "4                      5371.0  "
      ]
     },
     "execution_count": 42,
     "metadata": {},
     "output_type": "execute_result"
    }
   ],
   "source": [
    "result_summary_df = exposure_keys_summary_df.merge(\n",
    "    new_tek_df, on=[\"sample_date_string\"], how=\"outer\")\n",
    "result_summary_df.head()"
   ]
  },
  {
   "cell_type": "code",
   "execution_count": 43,
   "metadata": {
    "collapsed": false,
    "execution": {
     "iopub.execute_input": "2020-12-06T23:35:19.686994Z",
     "iopub.status.busy": "2020-12-06T23:35:19.686354Z",
     "iopub.status.idle": "2020-12-06T23:35:19.695583Z",
     "shell.execute_reply": "2020-12-06T23:35:19.696083Z"
    },
    "papermill": {
     "duration": 0.085276,
     "end_time": "2020-12-06T23:35:19.696232",
     "exception": false,
     "start_time": "2020-12-06T23:35:19.610956",
     "status": "completed"
    },
    "pycharm": {
     "name": "#%%\n"
    },
    "tags": []
   },
   "outputs": [
    {
     "data": {
      "text/html": [
       "<div>\n",
       "<style scoped>\n",
       "    .dataframe tbody tr th:only-of-type {\n",
       "        vertical-align: middle;\n",
       "    }\n",
       "\n",
       "    .dataframe tbody tr th {\n",
       "        vertical-align: top;\n",
       "    }\n",
       "\n",
       "    .dataframe thead th {\n",
       "        text-align: right;\n",
       "    }\n",
       "</style>\n",
       "<table border=\"1\" class=\"dataframe\">\n",
       "  <thead>\n",
       "    <tr style=\"text-align: right;\">\n",
       "      <th></th>\n",
       "      <th>sample_date_string</th>\n",
       "      <th>shared_teks_by_generation_date</th>\n",
       "      <th>shared_teks_by_upload_date</th>\n",
       "      <th>shared_teks_uploaded_on_generation_date</th>\n",
       "    </tr>\n",
       "  </thead>\n",
       "  <tbody>\n",
       "    <tr>\n",
       "      <th>0</th>\n",
       "      <td>2020-12-06</td>\n",
       "      <td>152</td>\n",
       "      <td>17206.0</td>\n",
       "      <td>152.0</td>\n",
       "    </tr>\n",
       "    <tr>\n",
       "      <th>1</th>\n",
       "      <td>2020-12-05</td>\n",
       "      <td>1337</td>\n",
       "      <td>106219.0</td>\n",
       "      <td>167.0</td>\n",
       "    </tr>\n",
       "    <tr>\n",
       "      <th>2</th>\n",
       "      <td>2020-12-04</td>\n",
       "      <td>4048</td>\n",
       "      <td>794.0</td>\n",
       "      <td>158.0</td>\n",
       "    </tr>\n",
       "    <tr>\n",
       "      <th>3</th>\n",
       "      <td>2020-12-03</td>\n",
       "      <td>6925</td>\n",
       "      <td>828.0</td>\n",
       "      <td>161.0</td>\n",
       "    </tr>\n",
       "    <tr>\n",
       "      <th>4</th>\n",
       "      <td>2020-12-02</td>\n",
       "      <td>9497</td>\n",
       "      <td>5371.0</td>\n",
       "      <td>197.0</td>\n",
       "    </tr>\n",
       "  </tbody>\n",
       "</table>\n",
       "</div>"
      ],
      "text/plain": [
       "  sample_date_string  shared_teks_by_generation_date  \\\n",
       "0         2020-12-06                             152   \n",
       "1         2020-12-05                            1337   \n",
       "2         2020-12-04                            4048   \n",
       "3         2020-12-03                            6925   \n",
       "4         2020-12-02                            9497   \n",
       "\n",
       "   shared_teks_by_upload_date  shared_teks_uploaded_on_generation_date  \n",
       "0                     17206.0                                    152.0  \n",
       "1                    106219.0                                    167.0  \n",
       "2                       794.0                                    158.0  \n",
       "3                       828.0                                    161.0  \n",
       "4                      5371.0                                    197.0  "
      ]
     },
     "execution_count": 43,
     "metadata": {},
     "output_type": "execute_result"
    }
   ],
   "source": [
    "result_summary_df = result_summary_df.merge(\n",
    "    shared_teks_uploaded_on_generation_date_df, on=[\"sample_date_string\"], how=\"outer\")\n",
    "result_summary_df.head()"
   ]
  },
  {
   "cell_type": "code",
   "execution_count": 44,
   "metadata": {
    "collapsed": false,
    "execution": {
     "iopub.execute_input": "2020-12-06T23:35:19.844674Z",
     "iopub.status.busy": "2020-12-06T23:35:19.844022Z",
     "iopub.status.idle": "2020-12-06T23:35:19.847186Z",
     "shell.execute_reply": "2020-12-06T23:35:19.847755Z"
    },
    "papermill": {
     "duration": 0.086701,
     "end_time": "2020-12-06T23:35:19.847933",
     "exception": false,
     "start_time": "2020-12-06T23:35:19.761232",
     "status": "completed"
    },
    "pycharm": {
     "name": "#%%\n"
    },
    "tags": []
   },
   "outputs": [
    {
     "data": {
      "text/html": [
       "<div>\n",
       "<style scoped>\n",
       "    .dataframe tbody tr th:only-of-type {\n",
       "        vertical-align: middle;\n",
       "    }\n",
       "\n",
       "    .dataframe tbody tr th {\n",
       "        vertical-align: top;\n",
       "    }\n",
       "\n",
       "    .dataframe thead th {\n",
       "        text-align: right;\n",
       "    }\n",
       "</style>\n",
       "<table border=\"1\" class=\"dataframe\">\n",
       "  <thead>\n",
       "    <tr style=\"text-align: right;\">\n",
       "      <th></th>\n",
       "      <th>sample_date_string</th>\n",
       "      <th>shared_teks_by_generation_date</th>\n",
       "      <th>shared_teks_by_upload_date</th>\n",
       "      <th>shared_teks_uploaded_on_generation_date</th>\n",
       "      <th>shared_diagnoses</th>\n",
       "    </tr>\n",
       "  </thead>\n",
       "  <tbody>\n",
       "    <tr>\n",
       "      <th>0</th>\n",
       "      <td>2020-12-06</td>\n",
       "      <td>152.0</td>\n",
       "      <td>17206.0</td>\n",
       "      <td>152.0</td>\n",
       "      <td>1707.0</td>\n",
       "    </tr>\n",
       "    <tr>\n",
       "      <th>1</th>\n",
       "      <td>2020-12-05</td>\n",
       "      <td>1337.0</td>\n",
       "      <td>106219.0</td>\n",
       "      <td>167.0</td>\n",
       "      <td>NaN</td>\n",
       "    </tr>\n",
       "    <tr>\n",
       "      <th>2</th>\n",
       "      <td>2020-12-04</td>\n",
       "      <td>4048.0</td>\n",
       "      <td>794.0</td>\n",
       "      <td>158.0</td>\n",
       "      <td>188.0</td>\n",
       "    </tr>\n",
       "    <tr>\n",
       "      <th>3</th>\n",
       "      <td>2020-12-03</td>\n",
       "      <td>6925.0</td>\n",
       "      <td>828.0</td>\n",
       "      <td>161.0</td>\n",
       "      <td>189.0</td>\n",
       "    </tr>\n",
       "    <tr>\n",
       "      <th>4</th>\n",
       "      <td>2020-12-02</td>\n",
       "      <td>9497.0</td>\n",
       "      <td>5371.0</td>\n",
       "      <td>197.0</td>\n",
       "      <td>NaN</td>\n",
       "    </tr>\n",
       "  </tbody>\n",
       "</table>\n",
       "</div>"
      ],
      "text/plain": [
       "  sample_date_string  shared_teks_by_generation_date  \\\n",
       "0         2020-12-06                           152.0   \n",
       "1         2020-12-05                          1337.0   \n",
       "2         2020-12-04                          4048.0   \n",
       "3         2020-12-03                          6925.0   \n",
       "4         2020-12-02                          9497.0   \n",
       "\n",
       "   shared_teks_by_upload_date  shared_teks_uploaded_on_generation_date  \\\n",
       "0                     17206.0                                    152.0   \n",
       "1                    106219.0                                    167.0   \n",
       "2                       794.0                                    158.0   \n",
       "3                       828.0                                    161.0   \n",
       "4                      5371.0                                    197.0   \n",
       "\n",
       "   shared_diagnoses  \n",
       "0            1707.0  \n",
       "1               NaN  \n",
       "2             188.0  \n",
       "3             189.0  \n",
       "4               NaN  "
      ]
     },
     "execution_count": 44,
     "metadata": {},
     "output_type": "execute_result"
    }
   ],
   "source": [
    "result_summary_df = result_summary_df.merge(\n",
    "    estimated_shared_diagnoses_df, on=[\"sample_date_string\"], how=\"outer\")\n",
    "result_summary_df.head()"
   ]
  },
  {
   "cell_type": "code",
   "execution_count": 45,
   "metadata": {
    "collapsed": false,
    "execution": {
     "iopub.execute_input": "2020-12-06T23:35:19.989641Z",
     "iopub.status.busy": "2020-12-06T23:35:19.988813Z",
     "iopub.status.idle": "2020-12-06T23:35:20.004859Z",
     "shell.execute_reply": "2020-12-06T23:35:20.005491Z"
    },
    "papermill": {
     "duration": 0.087358,
     "end_time": "2020-12-06T23:35:20.005651",
     "exception": false,
     "start_time": "2020-12-06T23:35:19.918293",
     "status": "completed"
    },
    "pycharm": {
     "name": "#%%\n"
    },
    "tags": []
   },
   "outputs": [
    {
     "data": {
      "text/html": [
       "<div>\n",
       "<style scoped>\n",
       "    .dataframe tbody tr th:only-of-type {\n",
       "        vertical-align: middle;\n",
       "    }\n",
       "\n",
       "    .dataframe tbody tr th {\n",
       "        vertical-align: top;\n",
       "    }\n",
       "\n",
       "    .dataframe thead th {\n",
       "        text-align: right;\n",
       "    }\n",
       "</style>\n",
       "<table border=\"1\" class=\"dataframe\">\n",
       "  <thead>\n",
       "    <tr style=\"text-align: right;\">\n",
       "      <th></th>\n",
       "      <th>sample_date_string</th>\n",
       "      <th>new_cases</th>\n",
       "      <th>covid_cases</th>\n",
       "      <th>shared_teks_by_generation_date</th>\n",
       "      <th>shared_teks_by_upload_date</th>\n",
       "      <th>shared_teks_uploaded_on_generation_date</th>\n",
       "      <th>shared_diagnoses</th>\n",
       "    </tr>\n",
       "  </thead>\n",
       "  <tbody>\n",
       "    <tr>\n",
       "      <th>0</th>\n",
       "      <td>2020-09-14</td>\n",
       "      <td>27404</td>\n",
       "      <td>9740.0</td>\n",
       "      <td>73.0</td>\n",
       "      <td>61.0</td>\n",
       "      <td>NaN</td>\n",
       "      <td>28.0</td>\n",
       "    </tr>\n",
       "    <tr>\n",
       "      <th>1</th>\n",
       "      <td>2020-09-15</td>\n",
       "      <td>9437</td>\n",
       "      <td>9808.0</td>\n",
       "      <td>82.0</td>\n",
       "      <td>58.0</td>\n",
       "      <td>NaN</td>\n",
       "      <td>23.0</td>\n",
       "    </tr>\n",
       "    <tr>\n",
       "      <th>2</th>\n",
       "      <td>2020-09-16</td>\n",
       "      <td>11193</td>\n",
       "      <td>10140.0</td>\n",
       "      <td>119.0</td>\n",
       "      <td>62.0</td>\n",
       "      <td>NaN</td>\n",
       "      <td>23.0</td>\n",
       "    </tr>\n",
       "    <tr>\n",
       "      <th>3</th>\n",
       "      <td>2020-09-17</td>\n",
       "      <td>11291</td>\n",
       "      <td>10215.0</td>\n",
       "      <td>139.0</td>\n",
       "      <td>63.0</td>\n",
       "      <td>NaN</td>\n",
       "      <td>29.0</td>\n",
       "    </tr>\n",
       "    <tr>\n",
       "      <th>4</th>\n",
       "      <td>2020-09-18</td>\n",
       "      <td>14389</td>\n",
       "      <td>10531.0</td>\n",
       "      <td>165.0</td>\n",
       "      <td>138.0</td>\n",
       "      <td>1.0</td>\n",
       "      <td>52.0</td>\n",
       "    </tr>\n",
       "  </tbody>\n",
       "</table>\n",
       "</div>"
      ],
      "text/plain": [
       "  sample_date_string  new_cases  covid_cases  shared_teks_by_generation_date  \\\n",
       "0         2020-09-14      27404       9740.0                            73.0   \n",
       "1         2020-09-15       9437       9808.0                            82.0   \n",
       "2         2020-09-16      11193      10140.0                           119.0   \n",
       "3         2020-09-17      11291      10215.0                           139.0   \n",
       "4         2020-09-18      14389      10531.0                           165.0   \n",
       "\n",
       "   shared_teks_by_upload_date  shared_teks_uploaded_on_generation_date  \\\n",
       "0                        61.0                                      NaN   \n",
       "1                        58.0                                      NaN   \n",
       "2                        62.0                                      NaN   \n",
       "3                        63.0                                      NaN   \n",
       "4                       138.0                                      1.0   \n",
       "\n",
       "   shared_diagnoses  \n",
       "0              28.0  \n",
       "1              23.0  \n",
       "2              23.0  \n",
       "3              29.0  \n",
       "4              52.0  "
      ]
     },
     "execution_count": 45,
     "metadata": {},
     "output_type": "execute_result"
    }
   ],
   "source": [
    "result_summary_df = confirmed_df.tail(daily_summary_days).merge(\n",
    "    result_summary_df, on=[\"sample_date_string\"], how=\"left\")\n",
    "result_summary_df.head()"
   ]
  },
  {
   "cell_type": "code",
   "execution_count": 46,
   "metadata": {
    "collapsed": false,
    "execution": {
     "iopub.execute_input": "2020-12-06T23:35:20.164439Z",
     "iopub.status.busy": "2020-12-06T23:35:20.163309Z",
     "iopub.status.idle": "2020-12-06T23:35:20.187071Z",
     "shell.execute_reply": "2020-12-06T23:35:20.187694Z"
    },
    "papermill": {
     "duration": 0.115201,
     "end_time": "2020-12-06T23:35:20.187878",
     "exception": false,
     "start_time": "2020-12-06T23:35:20.072677",
     "status": "completed"
    },
    "pycharm": {
     "name": "#%%\n"
    },
    "tags": []
   },
   "outputs": [
    {
     "data": {
      "text/html": [
       "<div>\n",
       "<style scoped>\n",
       "    .dataframe tbody tr th:only-of-type {\n",
       "        vertical-align: middle;\n",
       "    }\n",
       "\n",
       "    .dataframe tbody tr th {\n",
       "        vertical-align: top;\n",
       "    }\n",
       "\n",
       "    .dataframe thead th {\n",
       "        text-align: right;\n",
       "    }\n",
       "</style>\n",
       "<table border=\"1\" class=\"dataframe\">\n",
       "  <thead>\n",
       "    <tr style=\"text-align: right;\">\n",
       "      <th></th>\n",
       "      <th></th>\n",
       "      <th>new_cases</th>\n",
       "      <th>covid_cases</th>\n",
       "      <th>shared_teks_by_generation_date</th>\n",
       "      <th>shared_teks_by_upload_date</th>\n",
       "      <th>shared_teks_uploaded_on_generation_date</th>\n",
       "      <th>shared_diagnoses</th>\n",
       "    </tr>\n",
       "    <tr>\n",
       "      <th>sample_date</th>\n",
       "      <th>source_regions</th>\n",
       "      <th></th>\n",
       "      <th></th>\n",
       "      <th></th>\n",
       "      <th></th>\n",
       "      <th></th>\n",
       "      <th></th>\n",
       "    </tr>\n",
       "  </thead>\n",
       "  <tbody>\n",
       "    <tr>\n",
       "      <th>2020-12-06</th>\n",
       "      <th>ES,DE,DK,HR,IE,IT,LV,NL,PL</th>\n",
       "      <td>65216</td>\n",
       "      <td>69827.0</td>\n",
       "      <td>152.0</td>\n",
       "      <td>17206.0</td>\n",
       "      <td>152.0</td>\n",
       "      <td>1707.0</td>\n",
       "    </tr>\n",
       "    <tr>\n",
       "      <th>2020-12-05</th>\n",
       "      <th>ES,DE,DK,HR,IE,IT,LV,NL,PL</th>\n",
       "      <td>73038</td>\n",
       "      <td>70106.0</td>\n",
       "      <td>1337.0</td>\n",
       "      <td>106219.0</td>\n",
       "      <td>167.0</td>\n",
       "      <td>NaN</td>\n",
       "    </tr>\n",
       "    <tr>\n",
       "      <th>2020-12-04</th>\n",
       "      <th>ES</th>\n",
       "      <td>8745</td>\n",
       "      <td>8063.0</td>\n",
       "      <td>4048.0</td>\n",
       "      <td>794.0</td>\n",
       "      <td>158.0</td>\n",
       "      <td>188.0</td>\n",
       "    </tr>\n",
       "    <tr>\n",
       "      <th>2020-12-03</th>\n",
       "      <th>ES</th>\n",
       "      <td>10127</td>\n",
       "      <td>8364.0</td>\n",
       "      <td>6925.0</td>\n",
       "      <td>828.0</td>\n",
       "      <td>161.0</td>\n",
       "      <td>189.0</td>\n",
       "    </tr>\n",
       "    <tr>\n",
       "      <th>2020-12-02</th>\n",
       "      <th>ES,DE,DK,HR,IE,IT,LV,NL,PL</th>\n",
       "      <td>64337</td>\n",
       "      <td>73246.0</td>\n",
       "      <td>9497.0</td>\n",
       "      <td>5371.0</td>\n",
       "      <td>197.0</td>\n",
       "      <td>NaN</td>\n",
       "    </tr>\n",
       "  </tbody>\n",
       "</table>\n",
       "</div>"
      ],
      "text/plain": [
       "                                        new_cases  covid_cases  \\\n",
       "sample_date source_regions                                       \n",
       "2020-12-06  ES,DE,DK,HR,IE,IT,LV,NL,PL      65216      69827.0   \n",
       "2020-12-05  ES,DE,DK,HR,IE,IT,LV,NL,PL      73038      70106.0   \n",
       "2020-12-04  ES                               8745       8063.0   \n",
       "2020-12-03  ES                              10127       8364.0   \n",
       "2020-12-02  ES,DE,DK,HR,IE,IT,LV,NL,PL      64337      73246.0   \n",
       "\n",
       "                                        shared_teks_by_generation_date  \\\n",
       "sample_date source_regions                                               \n",
       "2020-12-06  ES,DE,DK,HR,IE,IT,LV,NL,PL                           152.0   \n",
       "2020-12-05  ES,DE,DK,HR,IE,IT,LV,NL,PL                          1337.0   \n",
       "2020-12-04  ES                                                  4048.0   \n",
       "2020-12-03  ES                                                  6925.0   \n",
       "2020-12-02  ES,DE,DK,HR,IE,IT,LV,NL,PL                          9497.0   \n",
       "\n",
       "                                        shared_teks_by_upload_date  \\\n",
       "sample_date source_regions                                           \n",
       "2020-12-06  ES,DE,DK,HR,IE,IT,LV,NL,PL                     17206.0   \n",
       "2020-12-05  ES,DE,DK,HR,IE,IT,LV,NL,PL                    106219.0   \n",
       "2020-12-04  ES                                               794.0   \n",
       "2020-12-03  ES                                               828.0   \n",
       "2020-12-02  ES,DE,DK,HR,IE,IT,LV,NL,PL                      5371.0   \n",
       "\n",
       "                                        shared_teks_uploaded_on_generation_date  \\\n",
       "sample_date source_regions                                                        \n",
       "2020-12-06  ES,DE,DK,HR,IE,IT,LV,NL,PL                                    152.0   \n",
       "2020-12-05  ES,DE,DK,HR,IE,IT,LV,NL,PL                                    167.0   \n",
       "2020-12-04  ES                                                            158.0   \n",
       "2020-12-03  ES                                                            161.0   \n",
       "2020-12-02  ES,DE,DK,HR,IE,IT,LV,NL,PL                                    197.0   \n",
       "\n",
       "                                        shared_diagnoses  \n",
       "sample_date source_regions                                \n",
       "2020-12-06  ES,DE,DK,HR,IE,IT,LV,NL,PL            1707.0  \n",
       "2020-12-05  ES,DE,DK,HR,IE,IT,LV,NL,PL               NaN  \n",
       "2020-12-04  ES                                     188.0  \n",
       "2020-12-03  ES                                     189.0  \n",
       "2020-12-02  ES,DE,DK,HR,IE,IT,LV,NL,PL               NaN  "
      ]
     },
     "execution_count": 46,
     "metadata": {},
     "output_type": "execute_result"
    }
   ],
   "source": [
    "result_summary_df[\"sample_date\"] = pd.to_datetime(result_summary_df.sample_date_string)\n",
    "result_summary_df = result_summary_df.merge(source_regions_for_summary_df, how=\"left\")\n",
    "result_summary_df.set_index([\"sample_date\", \"source_regions\"], inplace=True)\n",
    "result_summary_df.drop(columns=[\"sample_date_string\"], inplace=True)\n",
    "result_summary_df.sort_index(ascending=False, inplace=True)\n",
    "result_summary_df.head()"
   ]
  },
  {
   "cell_type": "code",
   "execution_count": 47,
   "metadata": {
    "execution": {
     "iopub.execute_input": "2020-12-06T23:35:20.372871Z",
     "iopub.status.busy": "2020-12-06T23:35:20.335640Z",
     "iopub.status.idle": "2020-12-06T23:35:20.383000Z",
     "shell.execute_reply": "2020-12-06T23:35:20.383851Z"
    },
    "papermill": {
     "duration": 0.129547,
     "end_time": "2020-12-06T23:35:20.384111",
     "exception": false,
     "start_time": "2020-12-06T23:35:20.254564",
     "status": "completed"
    },
    "tags": []
   },
   "outputs": [
    {
     "data": {
      "text/html": [
       "<div>\n",
       "<style scoped>\n",
       "    .dataframe tbody tr th:only-of-type {\n",
       "        vertical-align: middle;\n",
       "    }\n",
       "\n",
       "    .dataframe tbody tr th {\n",
       "        vertical-align: top;\n",
       "    }\n",
       "\n",
       "    .dataframe thead th {\n",
       "        text-align: right;\n",
       "    }\n",
       "</style>\n",
       "<table border=\"1\" class=\"dataframe\">\n",
       "  <thead>\n",
       "    <tr style=\"text-align: right;\">\n",
       "      <th></th>\n",
       "      <th></th>\n",
       "      <th>new_cases</th>\n",
       "      <th>covid_cases</th>\n",
       "      <th>shared_teks_by_generation_date</th>\n",
       "      <th>shared_teks_by_upload_date</th>\n",
       "      <th>shared_teks_uploaded_on_generation_date</th>\n",
       "      <th>shared_diagnoses</th>\n",
       "      <th>teks_per_shared_diagnosis</th>\n",
       "      <th>shared_diagnoses_per_covid_case</th>\n",
       "    </tr>\n",
       "    <tr>\n",
       "      <th>sample_date</th>\n",
       "      <th>source_regions</th>\n",
       "      <th></th>\n",
       "      <th></th>\n",
       "      <th></th>\n",
       "      <th></th>\n",
       "      <th></th>\n",
       "      <th></th>\n",
       "      <th></th>\n",
       "      <th></th>\n",
       "    </tr>\n",
       "  </thead>\n",
       "  <tbody>\n",
       "    <tr>\n",
       "      <th>2020-12-06</th>\n",
       "      <th>ES,DE,DK,HR,IE,IT,LV,NL,PL</th>\n",
       "      <td>65216</td>\n",
       "      <td>69827</td>\n",
       "      <td>152</td>\n",
       "      <td>17206</td>\n",
       "      <td>152</td>\n",
       "      <td>1707</td>\n",
       "      <td>10.079672</td>\n",
       "      <td>0.024446</td>\n",
       "    </tr>\n",
       "    <tr>\n",
       "      <th>2020-12-05</th>\n",
       "      <th>ES,DE,DK,HR,IE,IT,LV,NL,PL</th>\n",
       "      <td>73038</td>\n",
       "      <td>70106</td>\n",
       "      <td>1337</td>\n",
       "      <td>106219</td>\n",
       "      <td>167</td>\n",
       "      <td>0</td>\n",
       "      <td>0.000000</td>\n",
       "      <td>0.000000</td>\n",
       "    </tr>\n",
       "    <tr>\n",
       "      <th>2020-12-04</th>\n",
       "      <th>ES</th>\n",
       "      <td>8745</td>\n",
       "      <td>8063</td>\n",
       "      <td>4048</td>\n",
       "      <td>794</td>\n",
       "      <td>158</td>\n",
       "      <td>188</td>\n",
       "      <td>4.223404</td>\n",
       "      <td>0.023316</td>\n",
       "    </tr>\n",
       "    <tr>\n",
       "      <th>2020-12-03</th>\n",
       "      <th>ES</th>\n",
       "      <td>10127</td>\n",
       "      <td>8364</td>\n",
       "      <td>6925</td>\n",
       "      <td>828</td>\n",
       "      <td>161</td>\n",
       "      <td>189</td>\n",
       "      <td>4.380952</td>\n",
       "      <td>0.022597</td>\n",
       "    </tr>\n",
       "    <tr>\n",
       "      <th>2020-12-02</th>\n",
       "      <th>ES,DE,DK,HR,IE,IT,LV,NL,PL</th>\n",
       "      <td>64337</td>\n",
       "      <td>73246</td>\n",
       "      <td>9497</td>\n",
       "      <td>5371</td>\n",
       "      <td>197</td>\n",
       "      <td>0</td>\n",
       "      <td>0.000000</td>\n",
       "      <td>0.000000</td>\n",
       "    </tr>\n",
       "    <tr>\n",
       "      <th>2020-12-01</th>\n",
       "      <th>ES,DE,DK,HR,IE,IT,LV,PL</th>\n",
       "      <td>47335</td>\n",
       "      <td>72553</td>\n",
       "      <td>12082</td>\n",
       "      <td>24674</td>\n",
       "      <td>189</td>\n",
       "      <td>2238</td>\n",
       "      <td>11.025022</td>\n",
       "      <td>0.030846</td>\n",
       "    </tr>\n",
       "    <tr>\n",
       "      <th>2020-11-30</th>\n",
       "      <th>ES,DE,DK,HR,IE,IT,LV,PL</th>\n",
       "      <td>67906</td>\n",
       "      <td>75394</td>\n",
       "      <td>14081</td>\n",
       "      <td>15031</td>\n",
       "      <td>126</td>\n",
       "      <td>1430</td>\n",
       "      <td>10.511189</td>\n",
       "      <td>0.018967</td>\n",
       "    </tr>\n",
       "    <tr>\n",
       "      <th>2020-11-29</th>\n",
       "      <th>ES,DE,DK,HR,IE,IT,LV,PL</th>\n",
       "      <td>62722</td>\n",
       "      <td>78235</td>\n",
       "      <td>14882</td>\n",
       "      <td>17305</td>\n",
       "      <td>128</td>\n",
       "      <td>1684</td>\n",
       "      <td>10.276128</td>\n",
       "      <td>0.021525</td>\n",
       "    </tr>\n",
       "    <tr>\n",
       "      <th>2020-11-28</th>\n",
       "      <th>ES,DE,DK,HR,IE,IT,LV,PL</th>\n",
       "      <td>73586</td>\n",
       "      <td>80782</td>\n",
       "      <td>15929</td>\n",
       "      <td>25028</td>\n",
       "      <td>159</td>\n",
       "      <td>2398</td>\n",
       "      <td>10.437031</td>\n",
       "      <td>0.029685</td>\n",
       "    </tr>\n",
       "    <tr>\n",
       "      <th>2020-11-27</th>\n",
       "      <th>ES,DE,DK,HR,IE,IT,LV,PL</th>\n",
       "      <td>85755</td>\n",
       "      <td>82782</td>\n",
       "      <td>18127</td>\n",
       "      <td>27522</td>\n",
       "      <td>254</td>\n",
       "      <td>2555</td>\n",
       "      <td>10.771820</td>\n",
       "      <td>0.030864</td>\n",
       "    </tr>\n",
       "    <tr>\n",
       "      <th>2020-11-26</th>\n",
       "      <th>ES,DE,DK,HR,IE,IT,LV,PL</th>\n",
       "      <td>81388</td>\n",
       "      <td>85417</td>\n",
       "      <td>20017</td>\n",
       "      <td>31914</td>\n",
       "      <td>216</td>\n",
       "      <td>3037</td>\n",
       "      <td>10.508396</td>\n",
       "      <td>0.035555</td>\n",
       "    </tr>\n",
       "    <tr>\n",
       "      <th>2020-11-25</th>\n",
       "      <th>ES,DE,DK,HR,IE,IT,LV</th>\n",
       "      <td>56448</td>\n",
       "      <td>65533</td>\n",
       "      <td>22007</td>\n",
       "      <td>30693</td>\n",
       "      <td>227</td>\n",
       "      <td>2822</td>\n",
       "      <td>10.876329</td>\n",
       "      <td>0.043062</td>\n",
       "    </tr>\n",
       "    <tr>\n",
       "      <th>2020-11-24</th>\n",
       "      <th>ES,DE,DK,HR,IE,IT,LV</th>\n",
       "      <td>52217</td>\n",
       "      <td>67304</td>\n",
       "      <td>24152</td>\n",
       "      <td>17800</td>\n",
       "      <td>164</td>\n",
       "      <td>1667</td>\n",
       "      <td>10.677864</td>\n",
       "      <td>0.024768</td>\n",
       "    </tr>\n",
       "    <tr>\n",
       "      <th>2020-11-23</th>\n",
       "      <th>ES,DE,DK,HR,IE,IT,LV</th>\n",
       "      <td>69939</td>\n",
       "      <td>68127</td>\n",
       "      <td>25612</td>\n",
       "      <td>13061</td>\n",
       "      <td>147</td>\n",
       "      <td>1332</td>\n",
       "      <td>9.805556</td>\n",
       "      <td>0.019552</td>\n",
       "    </tr>\n",
       "    <tr>\n",
       "      <th>2020-11-22</th>\n",
       "      <th>ES,DE,DK,HR,IE,IT,LV</th>\n",
       "      <td>56334</td>\n",
       "      <td>70591</td>\n",
       "      <td>25108</td>\n",
       "      <td>14568</td>\n",
       "      <td>132</td>\n",
       "      <td>1524</td>\n",
       "      <td>9.559055</td>\n",
       "      <td>0.021589</td>\n",
       "    </tr>\n",
       "    <tr>\n",
       "      <th>2020-11-21</th>\n",
       "      <th>ES,DE,DK,HR,IE,IT,LV</th>\n",
       "      <td>65127</td>\n",
       "      <td>70966</td>\n",
       "      <td>17633</td>\n",
       "      <td>22605</td>\n",
       "      <td>153</td>\n",
       "      <td>2275</td>\n",
       "      <td>9.936264</td>\n",
       "      <td>0.032058</td>\n",
       "    </tr>\n",
       "    <tr>\n",
       "      <th>2020-11-20</th>\n",
       "      <th>ES,DE,DK,IE,IT,LV</th>\n",
       "      <td>77058</td>\n",
       "      <td>68866</td>\n",
       "      <td>19235</td>\n",
       "      <td>26712</td>\n",
       "      <td>212</td>\n",
       "      <td>2617</td>\n",
       "      <td>10.207107</td>\n",
       "      <td>0.038001</td>\n",
       "    </tr>\n",
       "    <tr>\n",
       "      <th>2020-11-19</th>\n",
       "      <th>ES,DE,DK,IE,IT,LV</th>\n",
       "      <td>75193</td>\n",
       "      <td>69974</td>\n",
       "      <td>21159</td>\n",
       "      <td>25678</td>\n",
       "      <td>211</td>\n",
       "      <td>2492</td>\n",
       "      <td>10.304173</td>\n",
       "      <td>0.035613</td>\n",
       "    </tr>\n",
       "    <tr>\n",
       "      <th>2020-11-18</th>\n",
       "      <th>ES,DE,DK,IE,IT,LV</th>\n",
       "      <td>66898</td>\n",
       "      <td>70110</td>\n",
       "      <td>22780</td>\n",
       "      <td>29832</td>\n",
       "      <td>290</td>\n",
       "      <td>2915</td>\n",
       "      <td>10.233962</td>\n",
       "      <td>0.041578</td>\n",
       "    </tr>\n",
       "    <tr>\n",
       "      <th>2020-11-17</th>\n",
       "      <th>ES,DE,DK,IE,IT,LV</th>\n",
       "      <td>56667</td>\n",
       "      <td>71150</td>\n",
       "      <td>23287</td>\n",
       "      <td>22734</td>\n",
       "      <td>222</td>\n",
       "      <td>2099</td>\n",
       "      <td>10.830872</td>\n",
       "      <td>0.029501</td>\n",
       "    </tr>\n",
       "    <tr>\n",
       "      <th>2020-11-16</th>\n",
       "      <th>ES,DE,DK,IE,IT,LV</th>\n",
       "      <td>84825</td>\n",
       "      <td>71501</td>\n",
       "      <td>23983</td>\n",
       "      <td>17579</td>\n",
       "      <td>194</td>\n",
       "      <td>1741</td>\n",
       "      <td>10.097071</td>\n",
       "      <td>0.024349</td>\n",
       "    </tr>\n",
       "    <tr>\n",
       "      <th>2020-11-15</th>\n",
       "      <th>ES,DE,DK,IE,IT,LV</th>\n",
       "      <td>56096</td>\n",
       "      <td>73670</td>\n",
       "      <td>23554</td>\n",
       "      <td>15287</td>\n",
       "      <td>224</td>\n",
       "      <td>1611</td>\n",
       "      <td>9.489137</td>\n",
       "      <td>0.021868</td>\n",
       "    </tr>\n",
       "    <tr>\n",
       "      <th>2020-11-14</th>\n",
       "      <th>ES,DE,DK,IE,IT,LV</th>\n",
       "      <td>65322</td>\n",
       "      <td>73884</td>\n",
       "      <td>22860</td>\n",
       "      <td>22798</td>\n",
       "      <td>211</td>\n",
       "      <td>2281</td>\n",
       "      <td>9.994739</td>\n",
       "      <td>0.030873</td>\n",
       "    </tr>\n",
       "    <tr>\n",
       "      <th>2020-11-13</th>\n",
       "      <th>ES,DE,DK,IE,IT,LV</th>\n",
       "      <td>84819</td>\n",
       "      <td>73621</td>\n",
       "      <td>22818</td>\n",
       "      <td>29729</td>\n",
       "      <td>306</td>\n",
       "      <td>2890</td>\n",
       "      <td>10.286851</td>\n",
       "      <td>0.039255</td>\n",
       "    </tr>\n",
       "    <tr>\n",
       "      <th>2020-11-12</th>\n",
       "      <th>ES,DE,DK,IE,IT,LV</th>\n",
       "      <td>76143</td>\n",
       "      <td>73029</td>\n",
       "      <td>22699</td>\n",
       "      <td>31792</td>\n",
       "      <td>317</td>\n",
       "      <td>3205</td>\n",
       "      <td>9.919501</td>\n",
       "      <td>0.043887</td>\n",
       "    </tr>\n",
       "    <tr>\n",
       "      <th>2020-11-11</th>\n",
       "      <th>ES,DE,DK,IE,IT,LV</th>\n",
       "      <td>74177</td>\n",
       "      <td>72741</td>\n",
       "      <td>22652</td>\n",
       "      <td>30445</td>\n",
       "      <td>300</td>\n",
       "      <td>3029</td>\n",
       "      <td>10.051172</td>\n",
       "      <td>0.041641</td>\n",
       "    </tr>\n",
       "    <tr>\n",
       "      <th>2020-11-10</th>\n",
       "      <th>ES,DE,DK,IE,IT,LV</th>\n",
       "      <td>59124</td>\n",
       "      <td>72476</td>\n",
       "      <td>23535</td>\n",
       "      <td>21163</td>\n",
       "      <td>292</td>\n",
       "      <td>2086</td>\n",
       "      <td>10.145254</td>\n",
       "      <td>0.028782</td>\n",
       "    </tr>\n",
       "    <tr>\n",
       "      <th>2020-11-09</th>\n",
       "      <th>ES,DE,DK,IE,IT,LV</th>\n",
       "      <td>100008</td>\n",
       "      <td>72329</td>\n",
       "      <td>24379</td>\n",
       "      <td>16517</td>\n",
       "      <td>236</td>\n",
       "      <td>1683</td>\n",
       "      <td>9.814023</td>\n",
       "      <td>0.023269</td>\n",
       "    </tr>\n",
       "  </tbody>\n",
       "</table>\n",
       "</div>"
      ],
      "text/plain": [
       "                                        new_cases  covid_cases  \\\n",
       "sample_date source_regions                                       \n",
       "2020-12-06  ES,DE,DK,HR,IE,IT,LV,NL,PL      65216        69827   \n",
       "2020-12-05  ES,DE,DK,HR,IE,IT,LV,NL,PL      73038        70106   \n",
       "2020-12-04  ES                               8745         8063   \n",
       "2020-12-03  ES                              10127         8364   \n",
       "2020-12-02  ES,DE,DK,HR,IE,IT,LV,NL,PL      64337        73246   \n",
       "2020-12-01  ES,DE,DK,HR,IE,IT,LV,PL         47335        72553   \n",
       "2020-11-30  ES,DE,DK,HR,IE,IT,LV,PL         67906        75394   \n",
       "2020-11-29  ES,DE,DK,HR,IE,IT,LV,PL         62722        78235   \n",
       "2020-11-28  ES,DE,DK,HR,IE,IT,LV,PL         73586        80782   \n",
       "2020-11-27  ES,DE,DK,HR,IE,IT,LV,PL         85755        82782   \n",
       "2020-11-26  ES,DE,DK,HR,IE,IT,LV,PL         81388        85417   \n",
       "2020-11-25  ES,DE,DK,HR,IE,IT,LV            56448        65533   \n",
       "2020-11-24  ES,DE,DK,HR,IE,IT,LV            52217        67304   \n",
       "2020-11-23  ES,DE,DK,HR,IE,IT,LV            69939        68127   \n",
       "2020-11-22  ES,DE,DK,HR,IE,IT,LV            56334        70591   \n",
       "2020-11-21  ES,DE,DK,HR,IE,IT,LV            65127        70966   \n",
       "2020-11-20  ES,DE,DK,IE,IT,LV               77058        68866   \n",
       "2020-11-19  ES,DE,DK,IE,IT,LV               75193        69974   \n",
       "2020-11-18  ES,DE,DK,IE,IT,LV               66898        70110   \n",
       "2020-11-17  ES,DE,DK,IE,IT,LV               56667        71150   \n",
       "2020-11-16  ES,DE,DK,IE,IT,LV               84825        71501   \n",
       "2020-11-15  ES,DE,DK,IE,IT,LV               56096        73670   \n",
       "2020-11-14  ES,DE,DK,IE,IT,LV               65322        73884   \n",
       "2020-11-13  ES,DE,DK,IE,IT,LV               84819        73621   \n",
       "2020-11-12  ES,DE,DK,IE,IT,LV               76143        73029   \n",
       "2020-11-11  ES,DE,DK,IE,IT,LV               74177        72741   \n",
       "2020-11-10  ES,DE,DK,IE,IT,LV               59124        72476   \n",
       "2020-11-09  ES,DE,DK,IE,IT,LV              100008        72329   \n",
       "\n",
       "                                        shared_teks_by_generation_date  \\\n",
       "sample_date source_regions                                               \n",
       "2020-12-06  ES,DE,DK,HR,IE,IT,LV,NL,PL                             152   \n",
       "2020-12-05  ES,DE,DK,HR,IE,IT,LV,NL,PL                            1337   \n",
       "2020-12-04  ES                                                    4048   \n",
       "2020-12-03  ES                                                    6925   \n",
       "2020-12-02  ES,DE,DK,HR,IE,IT,LV,NL,PL                            9497   \n",
       "2020-12-01  ES,DE,DK,HR,IE,IT,LV,PL                              12082   \n",
       "2020-11-30  ES,DE,DK,HR,IE,IT,LV,PL                              14081   \n",
       "2020-11-29  ES,DE,DK,HR,IE,IT,LV,PL                              14882   \n",
       "2020-11-28  ES,DE,DK,HR,IE,IT,LV,PL                              15929   \n",
       "2020-11-27  ES,DE,DK,HR,IE,IT,LV,PL                              18127   \n",
       "2020-11-26  ES,DE,DK,HR,IE,IT,LV,PL                              20017   \n",
       "2020-11-25  ES,DE,DK,HR,IE,IT,LV                                 22007   \n",
       "2020-11-24  ES,DE,DK,HR,IE,IT,LV                                 24152   \n",
       "2020-11-23  ES,DE,DK,HR,IE,IT,LV                                 25612   \n",
       "2020-11-22  ES,DE,DK,HR,IE,IT,LV                                 25108   \n",
       "2020-11-21  ES,DE,DK,HR,IE,IT,LV                                 17633   \n",
       "2020-11-20  ES,DE,DK,IE,IT,LV                                    19235   \n",
       "2020-11-19  ES,DE,DK,IE,IT,LV                                    21159   \n",
       "2020-11-18  ES,DE,DK,IE,IT,LV                                    22780   \n",
       "2020-11-17  ES,DE,DK,IE,IT,LV                                    23287   \n",
       "2020-11-16  ES,DE,DK,IE,IT,LV                                    23983   \n",
       "2020-11-15  ES,DE,DK,IE,IT,LV                                    23554   \n",
       "2020-11-14  ES,DE,DK,IE,IT,LV                                    22860   \n",
       "2020-11-13  ES,DE,DK,IE,IT,LV                                    22818   \n",
       "2020-11-12  ES,DE,DK,IE,IT,LV                                    22699   \n",
       "2020-11-11  ES,DE,DK,IE,IT,LV                                    22652   \n",
       "2020-11-10  ES,DE,DK,IE,IT,LV                                    23535   \n",
       "2020-11-09  ES,DE,DK,IE,IT,LV                                    24379   \n",
       "\n",
       "                                        shared_teks_by_upload_date  \\\n",
       "sample_date source_regions                                           \n",
       "2020-12-06  ES,DE,DK,HR,IE,IT,LV,NL,PL                       17206   \n",
       "2020-12-05  ES,DE,DK,HR,IE,IT,LV,NL,PL                      106219   \n",
       "2020-12-04  ES                                                 794   \n",
       "2020-12-03  ES                                                 828   \n",
       "2020-12-02  ES,DE,DK,HR,IE,IT,LV,NL,PL                        5371   \n",
       "2020-12-01  ES,DE,DK,HR,IE,IT,LV,PL                          24674   \n",
       "2020-11-30  ES,DE,DK,HR,IE,IT,LV,PL                          15031   \n",
       "2020-11-29  ES,DE,DK,HR,IE,IT,LV,PL                          17305   \n",
       "2020-11-28  ES,DE,DK,HR,IE,IT,LV,PL                          25028   \n",
       "2020-11-27  ES,DE,DK,HR,IE,IT,LV,PL                          27522   \n",
       "2020-11-26  ES,DE,DK,HR,IE,IT,LV,PL                          31914   \n",
       "2020-11-25  ES,DE,DK,HR,IE,IT,LV                             30693   \n",
       "2020-11-24  ES,DE,DK,HR,IE,IT,LV                             17800   \n",
       "2020-11-23  ES,DE,DK,HR,IE,IT,LV                             13061   \n",
       "2020-11-22  ES,DE,DK,HR,IE,IT,LV                             14568   \n",
       "2020-11-21  ES,DE,DK,HR,IE,IT,LV                             22605   \n",
       "2020-11-20  ES,DE,DK,IE,IT,LV                                26712   \n",
       "2020-11-19  ES,DE,DK,IE,IT,LV                                25678   \n",
       "2020-11-18  ES,DE,DK,IE,IT,LV                                29832   \n",
       "2020-11-17  ES,DE,DK,IE,IT,LV                                22734   \n",
       "2020-11-16  ES,DE,DK,IE,IT,LV                                17579   \n",
       "2020-11-15  ES,DE,DK,IE,IT,LV                                15287   \n",
       "2020-11-14  ES,DE,DK,IE,IT,LV                                22798   \n",
       "2020-11-13  ES,DE,DK,IE,IT,LV                                29729   \n",
       "2020-11-12  ES,DE,DK,IE,IT,LV                                31792   \n",
       "2020-11-11  ES,DE,DK,IE,IT,LV                                30445   \n",
       "2020-11-10  ES,DE,DK,IE,IT,LV                                21163   \n",
       "2020-11-09  ES,DE,DK,IE,IT,LV                                16517   \n",
       "\n",
       "                                        shared_teks_uploaded_on_generation_date  \\\n",
       "sample_date source_regions                                                        \n",
       "2020-12-06  ES,DE,DK,HR,IE,IT,LV,NL,PL                                      152   \n",
       "2020-12-05  ES,DE,DK,HR,IE,IT,LV,NL,PL                                      167   \n",
       "2020-12-04  ES                                                              158   \n",
       "2020-12-03  ES                                                              161   \n",
       "2020-12-02  ES,DE,DK,HR,IE,IT,LV,NL,PL                                      197   \n",
       "2020-12-01  ES,DE,DK,HR,IE,IT,LV,PL                                         189   \n",
       "2020-11-30  ES,DE,DK,HR,IE,IT,LV,PL                                         126   \n",
       "2020-11-29  ES,DE,DK,HR,IE,IT,LV,PL                                         128   \n",
       "2020-11-28  ES,DE,DK,HR,IE,IT,LV,PL                                         159   \n",
       "2020-11-27  ES,DE,DK,HR,IE,IT,LV,PL                                         254   \n",
       "2020-11-26  ES,DE,DK,HR,IE,IT,LV,PL                                         216   \n",
       "2020-11-25  ES,DE,DK,HR,IE,IT,LV                                            227   \n",
       "2020-11-24  ES,DE,DK,HR,IE,IT,LV                                            164   \n",
       "2020-11-23  ES,DE,DK,HR,IE,IT,LV                                            147   \n",
       "2020-11-22  ES,DE,DK,HR,IE,IT,LV                                            132   \n",
       "2020-11-21  ES,DE,DK,HR,IE,IT,LV                                            153   \n",
       "2020-11-20  ES,DE,DK,IE,IT,LV                                               212   \n",
       "2020-11-19  ES,DE,DK,IE,IT,LV                                               211   \n",
       "2020-11-18  ES,DE,DK,IE,IT,LV                                               290   \n",
       "2020-11-17  ES,DE,DK,IE,IT,LV                                               222   \n",
       "2020-11-16  ES,DE,DK,IE,IT,LV                                               194   \n",
       "2020-11-15  ES,DE,DK,IE,IT,LV                                               224   \n",
       "2020-11-14  ES,DE,DK,IE,IT,LV                                               211   \n",
       "2020-11-13  ES,DE,DK,IE,IT,LV                                               306   \n",
       "2020-11-12  ES,DE,DK,IE,IT,LV                                               317   \n",
       "2020-11-11  ES,DE,DK,IE,IT,LV                                               300   \n",
       "2020-11-10  ES,DE,DK,IE,IT,LV                                               292   \n",
       "2020-11-09  ES,DE,DK,IE,IT,LV                                               236   \n",
       "\n",
       "                                        shared_diagnoses  \\\n",
       "sample_date source_regions                                 \n",
       "2020-12-06  ES,DE,DK,HR,IE,IT,LV,NL,PL              1707   \n",
       "2020-12-05  ES,DE,DK,HR,IE,IT,LV,NL,PL                 0   \n",
       "2020-12-04  ES                                       188   \n",
       "2020-12-03  ES                                       189   \n",
       "2020-12-02  ES,DE,DK,HR,IE,IT,LV,NL,PL                 0   \n",
       "2020-12-01  ES,DE,DK,HR,IE,IT,LV,PL                 2238   \n",
       "2020-11-30  ES,DE,DK,HR,IE,IT,LV,PL                 1430   \n",
       "2020-11-29  ES,DE,DK,HR,IE,IT,LV,PL                 1684   \n",
       "2020-11-28  ES,DE,DK,HR,IE,IT,LV,PL                 2398   \n",
       "2020-11-27  ES,DE,DK,HR,IE,IT,LV,PL                 2555   \n",
       "2020-11-26  ES,DE,DK,HR,IE,IT,LV,PL                 3037   \n",
       "2020-11-25  ES,DE,DK,HR,IE,IT,LV                    2822   \n",
       "2020-11-24  ES,DE,DK,HR,IE,IT,LV                    1667   \n",
       "2020-11-23  ES,DE,DK,HR,IE,IT,LV                    1332   \n",
       "2020-11-22  ES,DE,DK,HR,IE,IT,LV                    1524   \n",
       "2020-11-21  ES,DE,DK,HR,IE,IT,LV                    2275   \n",
       "2020-11-20  ES,DE,DK,IE,IT,LV                       2617   \n",
       "2020-11-19  ES,DE,DK,IE,IT,LV                       2492   \n",
       "2020-11-18  ES,DE,DK,IE,IT,LV                       2915   \n",
       "2020-11-17  ES,DE,DK,IE,IT,LV                       2099   \n",
       "2020-11-16  ES,DE,DK,IE,IT,LV                       1741   \n",
       "2020-11-15  ES,DE,DK,IE,IT,LV                       1611   \n",
       "2020-11-14  ES,DE,DK,IE,IT,LV                       2281   \n",
       "2020-11-13  ES,DE,DK,IE,IT,LV                       2890   \n",
       "2020-11-12  ES,DE,DK,IE,IT,LV                       3205   \n",
       "2020-11-11  ES,DE,DK,IE,IT,LV                       3029   \n",
       "2020-11-10  ES,DE,DK,IE,IT,LV                       2086   \n",
       "2020-11-09  ES,DE,DK,IE,IT,LV                       1683   \n",
       "\n",
       "                                        teks_per_shared_diagnosis  \\\n",
       "sample_date source_regions                                          \n",
       "2020-12-06  ES,DE,DK,HR,IE,IT,LV,NL,PL                  10.079672   \n",
       "2020-12-05  ES,DE,DK,HR,IE,IT,LV,NL,PL                   0.000000   \n",
       "2020-12-04  ES                                           4.223404   \n",
       "2020-12-03  ES                                           4.380952   \n",
       "2020-12-02  ES,DE,DK,HR,IE,IT,LV,NL,PL                   0.000000   \n",
       "2020-12-01  ES,DE,DK,HR,IE,IT,LV,PL                     11.025022   \n",
       "2020-11-30  ES,DE,DK,HR,IE,IT,LV,PL                     10.511189   \n",
       "2020-11-29  ES,DE,DK,HR,IE,IT,LV,PL                     10.276128   \n",
       "2020-11-28  ES,DE,DK,HR,IE,IT,LV,PL                     10.437031   \n",
       "2020-11-27  ES,DE,DK,HR,IE,IT,LV,PL                     10.771820   \n",
       "2020-11-26  ES,DE,DK,HR,IE,IT,LV,PL                     10.508396   \n",
       "2020-11-25  ES,DE,DK,HR,IE,IT,LV                        10.876329   \n",
       "2020-11-24  ES,DE,DK,HR,IE,IT,LV                        10.677864   \n",
       "2020-11-23  ES,DE,DK,HR,IE,IT,LV                         9.805556   \n",
       "2020-11-22  ES,DE,DK,HR,IE,IT,LV                         9.559055   \n",
       "2020-11-21  ES,DE,DK,HR,IE,IT,LV                         9.936264   \n",
       "2020-11-20  ES,DE,DK,IE,IT,LV                           10.207107   \n",
       "2020-11-19  ES,DE,DK,IE,IT,LV                           10.304173   \n",
       "2020-11-18  ES,DE,DK,IE,IT,LV                           10.233962   \n",
       "2020-11-17  ES,DE,DK,IE,IT,LV                           10.830872   \n",
       "2020-11-16  ES,DE,DK,IE,IT,LV                           10.097071   \n",
       "2020-11-15  ES,DE,DK,IE,IT,LV                            9.489137   \n",
       "2020-11-14  ES,DE,DK,IE,IT,LV                            9.994739   \n",
       "2020-11-13  ES,DE,DK,IE,IT,LV                           10.286851   \n",
       "2020-11-12  ES,DE,DK,IE,IT,LV                            9.919501   \n",
       "2020-11-11  ES,DE,DK,IE,IT,LV                           10.051172   \n",
       "2020-11-10  ES,DE,DK,IE,IT,LV                           10.145254   \n",
       "2020-11-09  ES,DE,DK,IE,IT,LV                            9.814023   \n",
       "\n",
       "                                        shared_diagnoses_per_covid_case  \n",
       "sample_date source_regions                                               \n",
       "2020-12-06  ES,DE,DK,HR,IE,IT,LV,NL,PL                         0.024446  \n",
       "2020-12-05  ES,DE,DK,HR,IE,IT,LV,NL,PL                         0.000000  \n",
       "2020-12-04  ES                                                 0.023316  \n",
       "2020-12-03  ES                                                 0.022597  \n",
       "2020-12-02  ES,DE,DK,HR,IE,IT,LV,NL,PL                         0.000000  \n",
       "2020-12-01  ES,DE,DK,HR,IE,IT,LV,PL                            0.030846  \n",
       "2020-11-30  ES,DE,DK,HR,IE,IT,LV,PL                            0.018967  \n",
       "2020-11-29  ES,DE,DK,HR,IE,IT,LV,PL                            0.021525  \n",
       "2020-11-28  ES,DE,DK,HR,IE,IT,LV,PL                            0.029685  \n",
       "2020-11-27  ES,DE,DK,HR,IE,IT,LV,PL                            0.030864  \n",
       "2020-11-26  ES,DE,DK,HR,IE,IT,LV,PL                            0.035555  \n",
       "2020-11-25  ES,DE,DK,HR,IE,IT,LV                               0.043062  \n",
       "2020-11-24  ES,DE,DK,HR,IE,IT,LV                               0.024768  \n",
       "2020-11-23  ES,DE,DK,HR,IE,IT,LV                               0.019552  \n",
       "2020-11-22  ES,DE,DK,HR,IE,IT,LV                               0.021589  \n",
       "2020-11-21  ES,DE,DK,HR,IE,IT,LV                               0.032058  \n",
       "2020-11-20  ES,DE,DK,IE,IT,LV                                  0.038001  \n",
       "2020-11-19  ES,DE,DK,IE,IT,LV                                  0.035613  \n",
       "2020-11-18  ES,DE,DK,IE,IT,LV                                  0.041578  \n",
       "2020-11-17  ES,DE,DK,IE,IT,LV                                  0.029501  \n",
       "2020-11-16  ES,DE,DK,IE,IT,LV                                  0.024349  \n",
       "2020-11-15  ES,DE,DK,IE,IT,LV                                  0.021868  \n",
       "2020-11-14  ES,DE,DK,IE,IT,LV                                  0.030873  \n",
       "2020-11-13  ES,DE,DK,IE,IT,LV                                  0.039255  \n",
       "2020-11-12  ES,DE,DK,IE,IT,LV                                  0.043887  \n",
       "2020-11-11  ES,DE,DK,IE,IT,LV                                  0.041641  \n",
       "2020-11-10  ES,DE,DK,IE,IT,LV                                  0.028782  \n",
       "2020-11-09  ES,DE,DK,IE,IT,LV                                  0.023269  "
      ]
     },
     "execution_count": 47,
     "metadata": {},
     "output_type": "execute_result"
    }
   ],
   "source": [
    "with pd.option_context(\"mode.use_inf_as_na\", True):\n",
    "    result_summary_df = result_summary_df.fillna(0).astype(int)\n",
    "    result_summary_df[\"teks_per_shared_diagnosis\"] = \\\n",
    "        (result_summary_df.shared_teks_by_upload_date / result_summary_df.shared_diagnoses).fillna(0)\n",
    "    result_summary_df[\"shared_diagnoses_per_covid_case\"] = \\\n",
    "        (result_summary_df.shared_diagnoses / result_summary_df.covid_cases).fillna(0)\n",
    "\n",
    "result_summary_df.head(daily_plot_days)"
   ]
  },
  {
   "cell_type": "code",
   "execution_count": 48,
   "metadata": {
    "collapsed": false,
    "execution": {
     "iopub.execute_input": "2020-12-06T23:35:20.540128Z",
     "iopub.status.busy": "2020-12-06T23:35:20.539483Z",
     "iopub.status.idle": "2020-12-06T23:35:20.574768Z",
     "shell.execute_reply": "2020-12-06T23:35:20.575607Z"
    },
    "papermill": {
     "duration": 0.112598,
     "end_time": "2020-12-06T23:35:20.575781",
     "exception": false,
     "start_time": "2020-12-06T23:35:20.463183",
     "status": "completed"
    },
    "pycharm": {
     "name": "#%%\n"
    },
    "tags": []
   },
   "outputs": [
    {
     "data": {
      "text/html": [
       "<div>\n",
       "<style scoped>\n",
       "    .dataframe tbody tr th:only-of-type {\n",
       "        vertical-align: middle;\n",
       "    }\n",
       "\n",
       "    .dataframe tbody tr th {\n",
       "        vertical-align: top;\n",
       "    }\n",
       "\n",
       "    .dataframe thead th {\n",
       "        text-align: right;\n",
       "    }\n",
       "</style>\n",
       "<table border=\"1\" class=\"dataframe\">\n",
       "  <thead>\n",
       "    <tr style=\"text-align: right;\">\n",
       "      <th></th>\n",
       "      <th></th>\n",
       "      <th>covid_cases</th>\n",
       "      <th>shared_teks_by_generation_date</th>\n",
       "      <th>shared_teks_by_upload_date</th>\n",
       "      <th>shared_diagnoses</th>\n",
       "      <th>teks_per_shared_diagnosis</th>\n",
       "      <th>shared_diagnoses_per_covid_case</th>\n",
       "    </tr>\n",
       "    <tr>\n",
       "      <th>sample_date</th>\n",
       "      <th>source_regions</th>\n",
       "      <th></th>\n",
       "      <th></th>\n",
       "      <th></th>\n",
       "      <th></th>\n",
       "      <th></th>\n",
       "      <th></th>\n",
       "    </tr>\n",
       "  </thead>\n",
       "  <tbody>\n",
       "    <tr>\n",
       "      <th>2020-12-06</th>\n",
       "      <th>ES,DE,DK,HR,IE,IT,LV,NL,PL</th>\n",
       "      <td>377553</td>\n",
       "      <td>48122</td>\n",
       "      <td>170123</td>\n",
       "      <td>5752</td>\n",
       "      <td>29.576321</td>\n",
       "      <td>0.015235</td>\n",
       "    </tr>\n",
       "    <tr>\n",
       "      <th>2020-12-05</th>\n",
       "      <th>ES,DE,DK,HR,IE,IT,LV,NL,PL</th>\n",
       "      <td>385961</td>\n",
       "      <td>62852</td>\n",
       "      <td>170222</td>\n",
       "      <td>5729</td>\n",
       "      <td>29.712341</td>\n",
       "      <td>0.014843</td>\n",
       "    </tr>\n",
       "    <tr>\n",
       "      <th>2020-12-04</th>\n",
       "      <th>ES</th>\n",
       "      <td>396637</td>\n",
       "      <td>77444</td>\n",
       "      <td>89031</td>\n",
       "      <td>8127</td>\n",
       "      <td>10.954965</td>\n",
       "      <td>0.020490</td>\n",
       "    </tr>\n",
       "    <tr>\n",
       "      <th>2020-12-03</th>\n",
       "      <th>ES</th>\n",
       "      <td>471356</td>\n",
       "      <td>91523</td>\n",
       "      <td>115759</td>\n",
       "      <td>10494</td>\n",
       "      <td>11.030970</td>\n",
       "      <td>0.022263</td>\n",
       "    </tr>\n",
       "    <tr>\n",
       "      <th>2020-12-02</th>\n",
       "      <th>ES,DE,DK,HR,IE,IT,LV,NL,PL</th>\n",
       "      <td>548409</td>\n",
       "      <td>104615</td>\n",
       "      <td>146845</td>\n",
       "      <td>13342</td>\n",
       "      <td>11.006221</td>\n",
       "      <td>0.024329</td>\n",
       "    </tr>\n",
       "  </tbody>\n",
       "</table>\n",
       "</div>"
      ],
      "text/plain": [
       "                                        covid_cases  \\\n",
       "sample_date source_regions                            \n",
       "2020-12-06  ES,DE,DK,HR,IE,IT,LV,NL,PL       377553   \n",
       "2020-12-05  ES,DE,DK,HR,IE,IT,LV,NL,PL       385961   \n",
       "2020-12-04  ES                               396637   \n",
       "2020-12-03  ES                               471356   \n",
       "2020-12-02  ES,DE,DK,HR,IE,IT,LV,NL,PL       548409   \n",
       "\n",
       "                                        shared_teks_by_generation_date  \\\n",
       "sample_date source_regions                                               \n",
       "2020-12-06  ES,DE,DK,HR,IE,IT,LV,NL,PL                           48122   \n",
       "2020-12-05  ES,DE,DK,HR,IE,IT,LV,NL,PL                           62852   \n",
       "2020-12-04  ES                                                   77444   \n",
       "2020-12-03  ES                                                   91523   \n",
       "2020-12-02  ES,DE,DK,HR,IE,IT,LV,NL,PL                          104615   \n",
       "\n",
       "                                        shared_teks_by_upload_date  \\\n",
       "sample_date source_regions                                           \n",
       "2020-12-06  ES,DE,DK,HR,IE,IT,LV,NL,PL                      170123   \n",
       "2020-12-05  ES,DE,DK,HR,IE,IT,LV,NL,PL                      170222   \n",
       "2020-12-04  ES                                               89031   \n",
       "2020-12-03  ES                                              115759   \n",
       "2020-12-02  ES,DE,DK,HR,IE,IT,LV,NL,PL                      146845   \n",
       "\n",
       "                                        shared_diagnoses  \\\n",
       "sample_date source_regions                                 \n",
       "2020-12-06  ES,DE,DK,HR,IE,IT,LV,NL,PL              5752   \n",
       "2020-12-05  ES,DE,DK,HR,IE,IT,LV,NL,PL              5729   \n",
       "2020-12-04  ES                                      8127   \n",
       "2020-12-03  ES                                     10494   \n",
       "2020-12-02  ES,DE,DK,HR,IE,IT,LV,NL,PL             13342   \n",
       "\n",
       "                                        teks_per_shared_diagnosis  \\\n",
       "sample_date source_regions                                          \n",
       "2020-12-06  ES,DE,DK,HR,IE,IT,LV,NL,PL                  29.576321   \n",
       "2020-12-05  ES,DE,DK,HR,IE,IT,LV,NL,PL                  29.712341   \n",
       "2020-12-04  ES                                          10.954965   \n",
       "2020-12-03  ES                                          11.030970   \n",
       "2020-12-02  ES,DE,DK,HR,IE,IT,LV,NL,PL                  11.006221   \n",
       "\n",
       "                                        shared_diagnoses_per_covid_case  \n",
       "sample_date source_regions                                               \n",
       "2020-12-06  ES,DE,DK,HR,IE,IT,LV,NL,PL                         0.015235  \n",
       "2020-12-05  ES,DE,DK,HR,IE,IT,LV,NL,PL                         0.014843  \n",
       "2020-12-04  ES                                                 0.020490  \n",
       "2020-12-03  ES                                                 0.022263  \n",
       "2020-12-02  ES,DE,DK,HR,IE,IT,LV,NL,PL                         0.024329  "
      ]
     },
     "execution_count": 48,
     "metadata": {},
     "output_type": "execute_result"
    }
   ],
   "source": [
    "weekly_result_summary_df = result_summary_df \\\n",
    "    .sort_index(ascending=True).fillna(0).rolling(7).agg({\n",
    "    \"covid_cases\": \"sum\",\n",
    "    \"shared_teks_by_generation_date\": \"sum\",\n",
    "    \"shared_teks_by_upload_date\": \"sum\",\n",
    "    \"shared_diagnoses\": \"sum\"\n",
    "}).sort_index(ascending=False)\n",
    "\n",
    "with pd.option_context(\"mode.use_inf_as_na\", True):\n",
    "    weekly_result_summary_df = weekly_result_summary_df.fillna(0).astype(int)\n",
    "    weekly_result_summary_df[\"teks_per_shared_diagnosis\"] = \\\n",
    "        (weekly_result_summary_df.shared_teks_by_upload_date / weekly_result_summary_df.shared_diagnoses).fillna(0)\n",
    "    weekly_result_summary_df[\"shared_diagnoses_per_covid_case\"] = \\\n",
    "        (weekly_result_summary_df.shared_diagnoses / weekly_result_summary_df.covid_cases).fillna(0)\n",
    "\n",
    "weekly_result_summary_df.head()"
   ]
  },
  {
   "cell_type": "code",
   "execution_count": 49,
   "metadata": {
    "collapsed": false,
    "execution": {
     "iopub.execute_input": "2020-12-06T23:35:20.725629Z",
     "iopub.status.busy": "2020-12-06T23:35:20.724975Z",
     "iopub.status.idle": "2020-12-06T23:35:20.727816Z",
     "shell.execute_reply": "2020-12-06T23:35:20.728305Z"
    },
    "papermill": {
     "duration": 0.082784,
     "end_time": "2020-12-06T23:35:20.728473",
     "exception": false,
     "start_time": "2020-12-06T23:35:20.645689",
     "status": "completed"
    },
    "pycharm": {
     "name": "#%%\n"
    },
    "tags": []
   },
   "outputs": [
    {
     "data": {
      "text/plain": [
       "{'covid_cases': 385961,\n",
       " 'shared_teks_by_generation_date': 62852,\n",
       " 'shared_teks_by_upload_date': 170222,\n",
       " 'shared_diagnoses': 5729,\n",
       " 'teks_per_shared_diagnosis': 29.712340722639205,\n",
       " 'shared_diagnoses_per_covid_case': 0.014843468640613948}"
      ]
     },
     "execution_count": 49,
     "metadata": {},
     "output_type": "execute_result"
    }
   ],
   "source": [
    "last_7_days_summary = weekly_result_summary_df.to_dict(orient=\"records\")[1]\n",
    "last_7_days_summary"
   ]
  },
  {
   "cell_type": "markdown",
   "metadata": {
    "collapsed": false,
    "papermill": {
     "duration": 0.067499,
     "end_time": "2020-12-06T23:35:20.864751",
     "exception": false,
     "start_time": "2020-12-06T23:35:20.797252",
     "status": "completed"
    },
    "tags": []
   },
   "source": [
    "## Report Results"
   ]
  },
  {
   "cell_type": "code",
   "execution_count": 50,
   "metadata": {
    "collapsed": false,
    "execution": {
     "iopub.execute_input": "2020-12-06T23:35:21.010480Z",
     "iopub.status.busy": "2020-12-06T23:35:21.009803Z",
     "iopub.status.idle": "2020-12-06T23:35:21.011882Z",
     "shell.execute_reply": "2020-12-06T23:35:21.012471Z"
    },
    "papermill": {
     "duration": 0.07612,
     "end_time": "2020-12-06T23:35:21.012659",
     "exception": false,
     "start_time": "2020-12-06T23:35:20.936539",
     "status": "completed"
    },
    "pycharm": {
     "name": "#%%\n"
    },
    "tags": []
   },
   "outputs": [],
   "source": [
    "display_column_name_mapping = {\n",
    "    \"sample_date\": \"Sample\\u00A0Date\\u00A0(UTC)\",\n",
    "    \"source_regions\": \"Source Countries\",\n",
    "    \"datetime_utc\": \"Timestamp (UTC)\",\n",
    "    \"upload_date\": \"Upload Date (UTC)\",\n",
    "    \"generation_to_upload_days\": \"Generation to Upload Period in Days\",\n",
    "    \"region\": \"Backend\",\n",
    "    \"region_x\": \"Backend\\u00A0(A)\",\n",
    "    \"region_y\": \"Backend\\u00A0(B)\",\n",
    "    \"common_teks\": \"Common TEKs Shared Between Backends\",\n",
    "    \"common_teks_fraction\": \"Fraction of TEKs in Backend (A) Available in Backend (B)\",\n",
    "    \"covid_cases\": \"COVID-19 Cases in Source Countries (7-day Rolling Average)\",\n",
    "    \"shared_teks_by_generation_date\": \"Shared TEKs by Generation Date\",\n",
    "    \"shared_teks_by_upload_date\": \"Shared TEKs by Upload Date\",\n",
    "    \"shared_diagnoses\": \"Shared Diagnoses (Estimation)\",\n",
    "    \"teks_per_shared_diagnosis\": \"TEKs Uploaded per Shared Diagnosis\",\n",
    "    \"shared_diagnoses_per_covid_case\": \"Usage Ratio (Fraction of Cases in Source Countries Which Shared Diagnosis)\",\n",
    "    \"shared_teks_uploaded_on_generation_date\": \"Shared TEKs Uploaded on Generation Date\",\n",
    "}"
   ]
  },
  {
   "cell_type": "code",
   "execution_count": 51,
   "metadata": {
    "collapsed": false,
    "execution": {
     "iopub.execute_input": "2020-12-06T23:35:21.158577Z",
     "iopub.status.busy": "2020-12-06T23:35:21.157214Z",
     "iopub.status.idle": "2020-12-06T23:35:21.159239Z",
     "shell.execute_reply": "2020-12-06T23:35:21.159796Z"
    },
    "papermill": {
     "duration": 0.076768,
     "end_time": "2020-12-06T23:35:21.159966",
     "exception": false,
     "start_time": "2020-12-06T23:35:21.083198",
     "status": "completed"
    },
    "pycharm": {
     "name": "#%%\n"
    },
    "tags": []
   },
   "outputs": [],
   "source": [
    "summary_columns = [\n",
    "    \"covid_cases\",\n",
    "    \"shared_teks_by_generation_date\",\n",
    "    \"shared_teks_by_upload_date\",\n",
    "    \"shared_teks_uploaded_on_generation_date\",\n",
    "    \"shared_diagnoses\",\n",
    "    \"teks_per_shared_diagnosis\",\n",
    "    \"shared_diagnoses_per_covid_case\",\n",
    "]"
   ]
  },
  {
   "cell_type": "markdown",
   "metadata": {
    "collapsed": false,
    "papermill": {
     "duration": 0.066533,
     "end_time": "2020-12-06T23:35:21.293675",
     "exception": false,
     "start_time": "2020-12-06T23:35:21.227142",
     "status": "completed"
    },
    "tags": []
   },
   "source": [
    "### Daily Summary Table"
   ]
  },
  {
   "cell_type": "code",
   "execution_count": 52,
   "metadata": {
    "collapsed": false,
    "execution": {
     "iopub.execute_input": "2020-12-06T23:35:21.442044Z",
     "iopub.status.busy": "2020-12-06T23:35:21.441393Z",
     "iopub.status.idle": "2020-12-06T23:35:21.463749Z",
     "shell.execute_reply": "2020-12-06T23:35:21.464237Z"
    },
    "papermill": {
     "duration": 0.101477,
     "end_time": "2020-12-06T23:35:21.464387",
     "exception": false,
     "start_time": "2020-12-06T23:35:21.362910",
     "status": "completed"
    },
    "pycharm": {
     "name": "#%%\n"
    },
    "tags": []
   },
   "outputs": [
    {
     "data": {
      "text/html": [
       "<div>\n",
       "<style scoped>\n",
       "    .dataframe tbody tr th:only-of-type {\n",
       "        vertical-align: middle;\n",
       "    }\n",
       "\n",
       "    .dataframe tbody tr th {\n",
       "        vertical-align: top;\n",
       "    }\n",
       "\n",
       "    .dataframe thead th {\n",
       "        text-align: right;\n",
       "    }\n",
       "</style>\n",
       "<table border=\"1\" class=\"dataframe\">\n",
       "  <thead>\n",
       "    <tr style=\"text-align: right;\">\n",
       "      <th></th>\n",
       "      <th></th>\n",
       "      <th>COVID-19 Cases in Source Countries (7-day Rolling Average)</th>\n",
       "      <th>Shared TEKs by Generation Date</th>\n",
       "      <th>Shared TEKs by Upload Date</th>\n",
       "      <th>Shared TEKs Uploaded on Generation Date</th>\n",
       "      <th>Shared Diagnoses (Estimation)</th>\n",
       "      <th>TEKs Uploaded per Shared Diagnosis</th>\n",
       "      <th>Usage Ratio (Fraction of Cases in Source Countries Which Shared Diagnosis)</th>\n",
       "    </tr>\n",
       "    <tr>\n",
       "      <th>Sample Date (UTC)</th>\n",
       "      <th>Source Countries</th>\n",
       "      <th></th>\n",
       "      <th></th>\n",
       "      <th></th>\n",
       "      <th></th>\n",
       "      <th></th>\n",
       "      <th></th>\n",
       "      <th></th>\n",
       "    </tr>\n",
       "  </thead>\n",
       "  <tbody>\n",
       "    <tr>\n",
       "      <th>2020-12-06</th>\n",
       "      <th>ES,DE,DK,HR,IE,IT,LV,NL,PL</th>\n",
       "      <td>69827</td>\n",
       "      <td>152</td>\n",
       "      <td>17206</td>\n",
       "      <td>152</td>\n",
       "      <td>1707</td>\n",
       "      <td>10.079672</td>\n",
       "      <td>0.024446</td>\n",
       "    </tr>\n",
       "    <tr>\n",
       "      <th>2020-12-05</th>\n",
       "      <th>ES,DE,DK,HR,IE,IT,LV,NL,PL</th>\n",
       "      <td>70106</td>\n",
       "      <td>1337</td>\n",
       "      <td>106219</td>\n",
       "      <td>167</td>\n",
       "      <td>0</td>\n",
       "      <td>0.000000</td>\n",
       "      <td>0.000000</td>\n",
       "    </tr>\n",
       "    <tr>\n",
       "      <th>2020-12-04</th>\n",
       "      <th>ES</th>\n",
       "      <td>8063</td>\n",
       "      <td>4048</td>\n",
       "      <td>794</td>\n",
       "      <td>158</td>\n",
       "      <td>188</td>\n",
       "      <td>4.223404</td>\n",
       "      <td>0.023316</td>\n",
       "    </tr>\n",
       "    <tr>\n",
       "      <th>2020-12-03</th>\n",
       "      <th>ES</th>\n",
       "      <td>8364</td>\n",
       "      <td>6925</td>\n",
       "      <td>828</td>\n",
       "      <td>161</td>\n",
       "      <td>189</td>\n",
       "      <td>4.380952</td>\n",
       "      <td>0.022597</td>\n",
       "    </tr>\n",
       "    <tr>\n",
       "      <th>2020-12-02</th>\n",
       "      <th>ES,DE,DK,HR,IE,IT,LV,NL,PL</th>\n",
       "      <td>73246</td>\n",
       "      <td>9497</td>\n",
       "      <td>5371</td>\n",
       "      <td>197</td>\n",
       "      <td>0</td>\n",
       "      <td>0.000000</td>\n",
       "      <td>0.000000</td>\n",
       "    </tr>\n",
       "    <tr>\n",
       "      <th>...</th>\n",
       "      <th>...</th>\n",
       "      <td>...</td>\n",
       "      <td>...</td>\n",
       "      <td>...</td>\n",
       "      <td>...</td>\n",
       "      <td>...</td>\n",
       "      <td>...</td>\n",
       "      <td>...</td>\n",
       "    </tr>\n",
       "    <tr>\n",
       "      <th>2020-09-18</th>\n",
       "      <th>ES</th>\n",
       "      <td>10531</td>\n",
       "      <td>165</td>\n",
       "      <td>138</td>\n",
       "      <td>1</td>\n",
       "      <td>52</td>\n",
       "      <td>2.653846</td>\n",
       "      <td>0.004938</td>\n",
       "    </tr>\n",
       "    <tr>\n",
       "      <th>2020-09-17</th>\n",
       "      <th>ES</th>\n",
       "      <td>10215</td>\n",
       "      <td>139</td>\n",
       "      <td>63</td>\n",
       "      <td>0</td>\n",
       "      <td>29</td>\n",
       "      <td>2.172414</td>\n",
       "      <td>0.002839</td>\n",
       "    </tr>\n",
       "    <tr>\n",
       "      <th>2020-09-16</th>\n",
       "      <th>ES</th>\n",
       "      <td>10140</td>\n",
       "      <td>119</td>\n",
       "      <td>62</td>\n",
       "      <td>0</td>\n",
       "      <td>23</td>\n",
       "      <td>2.695652</td>\n",
       "      <td>0.002268</td>\n",
       "    </tr>\n",
       "    <tr>\n",
       "      <th>2020-09-15</th>\n",
       "      <th>ES</th>\n",
       "      <td>9808</td>\n",
       "      <td>82</td>\n",
       "      <td>58</td>\n",
       "      <td>0</td>\n",
       "      <td>23</td>\n",
       "      <td>2.521739</td>\n",
       "      <td>0.002345</td>\n",
       "    </tr>\n",
       "    <tr>\n",
       "      <th>2020-09-14</th>\n",
       "      <th>ES</th>\n",
       "      <td>9740</td>\n",
       "      <td>73</td>\n",
       "      <td>61</td>\n",
       "      <td>0</td>\n",
       "      <td>28</td>\n",
       "      <td>2.178571</td>\n",
       "      <td>0.002875</td>\n",
       "    </tr>\n",
       "  </tbody>\n",
       "</table>\n",
       "<p>84 rows × 7 columns</p>\n",
       "</div>"
      ],
      "text/plain": [
       "                                              COVID-19 Cases in Source Countries (7-day Rolling Average)  \\\n",
       "Sample Date (UTC) Source Countries                                                                         \n",
       "2020-12-06        ES,DE,DK,HR,IE,IT,LV,NL,PL                                              69827            \n",
       "2020-12-05        ES,DE,DK,HR,IE,IT,LV,NL,PL                                              70106            \n",
       "2020-12-04        ES                                                                       8063            \n",
       "2020-12-03        ES                                                                       8364            \n",
       "2020-12-02        ES,DE,DK,HR,IE,IT,LV,NL,PL                                              73246            \n",
       "...                                                                                         ...            \n",
       "2020-09-18        ES                                                                      10531            \n",
       "2020-09-17        ES                                                                      10215            \n",
       "2020-09-16        ES                                                                      10140            \n",
       "2020-09-15        ES                                                                       9808            \n",
       "2020-09-14        ES                                                                       9740            \n",
       "\n",
       "                                              Shared TEKs by Generation Date  \\\n",
       "Sample Date (UTC) Source Countries                                             \n",
       "2020-12-06        ES,DE,DK,HR,IE,IT,LV,NL,PL                             152   \n",
       "2020-12-05        ES,DE,DK,HR,IE,IT,LV,NL,PL                            1337   \n",
       "2020-12-04        ES                                                    4048   \n",
       "2020-12-03        ES                                                    6925   \n",
       "2020-12-02        ES,DE,DK,HR,IE,IT,LV,NL,PL                            9497   \n",
       "...                                                                      ...   \n",
       "2020-09-18        ES                                                     165   \n",
       "2020-09-17        ES                                                     139   \n",
       "2020-09-16        ES                                                     119   \n",
       "2020-09-15        ES                                                      82   \n",
       "2020-09-14        ES                                                      73   \n",
       "\n",
       "                                              Shared TEKs by Upload Date  \\\n",
       "Sample Date (UTC) Source Countries                                         \n",
       "2020-12-06        ES,DE,DK,HR,IE,IT,LV,NL,PL                       17206   \n",
       "2020-12-05        ES,DE,DK,HR,IE,IT,LV,NL,PL                      106219   \n",
       "2020-12-04        ES                                                 794   \n",
       "2020-12-03        ES                                                 828   \n",
       "2020-12-02        ES,DE,DK,HR,IE,IT,LV,NL,PL                        5371   \n",
       "...                                                                  ...   \n",
       "2020-09-18        ES                                                 138   \n",
       "2020-09-17        ES                                                  63   \n",
       "2020-09-16        ES                                                  62   \n",
       "2020-09-15        ES                                                  58   \n",
       "2020-09-14        ES                                                  61   \n",
       "\n",
       "                                              Shared TEKs Uploaded on Generation Date  \\\n",
       "Sample Date (UTC) Source Countries                                                      \n",
       "2020-12-06        ES,DE,DK,HR,IE,IT,LV,NL,PL                                      152   \n",
       "2020-12-05        ES,DE,DK,HR,IE,IT,LV,NL,PL                                      167   \n",
       "2020-12-04        ES                                                              158   \n",
       "2020-12-03        ES                                                              161   \n",
       "2020-12-02        ES,DE,DK,HR,IE,IT,LV,NL,PL                                      197   \n",
       "...                                                                               ...   \n",
       "2020-09-18        ES                                                                1   \n",
       "2020-09-17        ES                                                                0   \n",
       "2020-09-16        ES                                                                0   \n",
       "2020-09-15        ES                                                                0   \n",
       "2020-09-14        ES                                                                0   \n",
       "\n",
       "                                              Shared Diagnoses (Estimation)  \\\n",
       "Sample Date (UTC) Source Countries                                            \n",
       "2020-12-06        ES,DE,DK,HR,IE,IT,LV,NL,PL                           1707   \n",
       "2020-12-05        ES,DE,DK,HR,IE,IT,LV,NL,PL                              0   \n",
       "2020-12-04        ES                                                    188   \n",
       "2020-12-03        ES                                                    189   \n",
       "2020-12-02        ES,DE,DK,HR,IE,IT,LV,NL,PL                              0   \n",
       "...                                                                     ...   \n",
       "2020-09-18        ES                                                     52   \n",
       "2020-09-17        ES                                                     29   \n",
       "2020-09-16        ES                                                     23   \n",
       "2020-09-15        ES                                                     23   \n",
       "2020-09-14        ES                                                     28   \n",
       "\n",
       "                                              TEKs Uploaded per Shared Diagnosis  \\\n",
       "Sample Date (UTC) Source Countries                                                 \n",
       "2020-12-06        ES,DE,DK,HR,IE,IT,LV,NL,PL                           10.079672   \n",
       "2020-12-05        ES,DE,DK,HR,IE,IT,LV,NL,PL                            0.000000   \n",
       "2020-12-04        ES                                                    4.223404   \n",
       "2020-12-03        ES                                                    4.380952   \n",
       "2020-12-02        ES,DE,DK,HR,IE,IT,LV,NL,PL                            0.000000   \n",
       "...                                                                          ...   \n",
       "2020-09-18        ES                                                    2.653846   \n",
       "2020-09-17        ES                                                    2.172414   \n",
       "2020-09-16        ES                                                    2.695652   \n",
       "2020-09-15        ES                                                    2.521739   \n",
       "2020-09-14        ES                                                    2.178571   \n",
       "\n",
       "                                              Usage Ratio (Fraction of Cases in Source Countries Which Shared Diagnosis)  \n",
       "Sample Date (UTC) Source Countries                                                                                        \n",
       "2020-12-06        ES,DE,DK,HR,IE,IT,LV,NL,PL                                           0.024446                           \n",
       "2020-12-05        ES,DE,DK,HR,IE,IT,LV,NL,PL                                           0.000000                           \n",
       "2020-12-04        ES                                                                   0.023316                           \n",
       "2020-12-03        ES                                                                   0.022597                           \n",
       "2020-12-02        ES,DE,DK,HR,IE,IT,LV,NL,PL                                           0.000000                           \n",
       "...                                                                                         ...                           \n",
       "2020-09-18        ES                                                                   0.004938                           \n",
       "2020-09-17        ES                                                                   0.002839                           \n",
       "2020-09-16        ES                                                                   0.002268                           \n",
       "2020-09-15        ES                                                                   0.002345                           \n",
       "2020-09-14        ES                                                                   0.002875                           \n",
       "\n",
       "[84 rows x 7 columns]"
      ]
     },
     "execution_count": 52,
     "metadata": {},
     "output_type": "execute_result"
    }
   ],
   "source": [
    "result_summary_df_ = result_summary_df.copy()\n",
    "result_summary_df = result_summary_df[summary_columns]\n",
    "result_summary_with_display_names_df = result_summary_df \\\n",
    "    .rename_axis(index=display_column_name_mapping) \\\n",
    "    .rename(columns=display_column_name_mapping)\n",
    "result_summary_with_display_names_df"
   ]
  },
  {
   "cell_type": "markdown",
   "metadata": {
    "collapsed": false,
    "papermill": {
     "duration": 0.06946,
     "end_time": "2020-12-06T23:35:21.600735",
     "exception": false,
     "start_time": "2020-12-06T23:35:21.531275",
     "status": "completed"
    },
    "tags": []
   },
   "source": [
    "### Daily Summary Plots"
   ]
  },
  {
   "cell_type": "code",
   "execution_count": 53,
   "metadata": {
    "collapsed": false,
    "execution": {
     "iopub.execute_input": "2020-12-06T23:35:21.745722Z",
     "iopub.status.busy": "2020-12-06T23:35:21.745134Z",
     "iopub.status.idle": "2020-12-06T23:35:24.511581Z",
     "shell.execute_reply": "2020-12-06T23:35:24.512056Z"
    },
    "papermill": {
     "duration": 2.846011,
     "end_time": "2020-12-06T23:35:24.512235",
     "exception": false,
     "start_time": "2020-12-06T23:35:21.666224",
     "status": "completed"
    },
    "pycharm": {
     "name": "#%%\n"
    },
    "tags": []
   },
   "outputs": [
    {
     "data": {
      "image/png": "[encoded data removed]",
      "text/plain": [
       "<Figure size 1080x1584 with 7 Axes>"
      ]
     },
     "metadata": {},
     "output_type": "display_data"
    }
   ],
   "source": [
    "result_plot_summary_df = result_summary_df.head(daily_plot_days)[summary_columns] \\\n",
    "    .droplevel(level=[\"source_regions\"]) \\\n",
    "    .rename_axis(index=display_column_name_mapping) \\\n",
    "    .rename(columns=display_column_name_mapping)\n",
    "summary_ax_list = result_plot_summary_df.sort_index(ascending=True).plot.bar(\n",
    "    title=f\"Daily Summary\",\n",
    "    rot=45, subplots=True, figsize=(15, 22), legend=False)\n",
    "ax_ = summary_ax_list[-1]\n",
    "ax_.get_figure().tight_layout()\n",
    "ax_.get_figure().subplots_adjust(top=0.95)\n",
    "ax_.yaxis.set_major_formatter(matplotlib.ticker.PercentFormatter(1.0))\n",
    "_ = ax_.set_xticklabels(sorted(result_plot_summary_df.index.strftime(\"%Y-%m-%d\").tolist()))"
   ]
  },
  {
   "cell_type": "markdown",
   "metadata": {
    "execution": {
     "iopub.execute_input": "2020-09-02T08:20:14.568088Z",
     "iopub.status.busy": "2020-09-02T08:20:14.567425Z",
     "iopub.status.idle": "2020-09-02T08:20:14.571422Z",
     "shell.execute_reply": "2020-09-02T08:20:14.571952Z"
    },
    "papermill": {
     "duration": 0.072414,
     "end_time": "2020-12-06T23:35:24.656590",
     "exception": false,
     "start_time": "2020-12-06T23:35:24.584176",
     "status": "completed"
    },
    "pycharm": {
     "name": "#%% md\n"
    },
    "tags": []
   },
   "source": [
    "### Daily Generation to Upload Period Table"
   ]
  },
  {
   "cell_type": "code",
   "execution_count": 54,
   "metadata": {
    "execution": {
     "iopub.execute_input": "2020-12-06T23:35:24.815415Z",
     "iopub.status.busy": "2020-12-06T23:35:24.814658Z",
     "iopub.status.idle": "2020-12-06T23:35:24.817478Z",
     "shell.execute_reply": "2020-12-06T23:35:24.818032Z"
    },
    "papermill": {
     "duration": 0.091019,
     "end_time": "2020-12-06T23:35:24.818177",
     "exception": false,
     "start_time": "2020-12-06T23:35:24.727158",
     "status": "completed"
    },
    "pycharm": {
     "name": "#%%\n"
    },
    "tags": []
   },
   "outputs": [
    {
     "data": {
      "text/html": [
       "<div>\n",
       "<style scoped>\n",
       "    .dataframe tbody tr th:only-of-type {\n",
       "        vertical-align: middle;\n",
       "    }\n",
       "\n",
       "    .dataframe tbody tr th {\n",
       "        vertical-align: top;\n",
       "    }\n",
       "\n",
       "    .dataframe thead th {\n",
       "        text-align: right;\n",
       "    }\n",
       "</style>\n",
       "<table border=\"1\" class=\"dataframe\">\n",
       "  <thead>\n",
       "    <tr style=\"text-align: right;\">\n",
       "      <th>Generation to Upload Period in Days</th>\n",
       "      <th>0</th>\n",
       "      <th>1</th>\n",
       "      <th>2</th>\n",
       "      <th>3</th>\n",
       "      <th>4</th>\n",
       "      <th>5</th>\n",
       "      <th>6</th>\n",
       "      <th>7</th>\n",
       "      <th>8</th>\n",
       "      <th>9</th>\n",
       "      <th>10</th>\n",
       "      <th>11</th>\n",
       "      <th>12</th>\n",
       "      <th>13</th>\n",
       "    </tr>\n",
       "    <tr>\n",
       "      <th>Upload Date (UTC)</th>\n",
       "      <th></th>\n",
       "      <th></th>\n",
       "      <th></th>\n",
       "      <th></th>\n",
       "      <th></th>\n",
       "      <th></th>\n",
       "      <th></th>\n",
       "      <th></th>\n",
       "      <th></th>\n",
       "      <th></th>\n",
       "      <th></th>\n",
       "      <th></th>\n",
       "      <th></th>\n",
       "      <th></th>\n",
       "    </tr>\n",
       "  </thead>\n",
       "  <tbody>\n",
       "    <tr>\n",
       "      <th>2020-12-06</th>\n",
       "      <td>152</td>\n",
       "      <td>1170</td>\n",
       "      <td>1707</td>\n",
       "      <td>1523</td>\n",
       "      <td>1398</td>\n",
       "      <td>1355</td>\n",
       "      <td>1310</td>\n",
       "      <td>1280</td>\n",
       "      <td>1275</td>\n",
       "      <td>1247</td>\n",
       "      <td>1238</td>\n",
       "      <td>1188</td>\n",
       "      <td>1190</td>\n",
       "      <td>1173</td>\n",
       "    </tr>\n",
       "    <tr>\n",
       "      <th>2020-12-05</th>\n",
       "      <td>167</td>\n",
       "      <td>2183</td>\n",
       "      <td>5053</td>\n",
       "      <td>7593</td>\n",
       "      <td>10092</td>\n",
       "      <td>9910</td>\n",
       "      <td>9487</td>\n",
       "      <td>9267</td>\n",
       "      <td>9190</td>\n",
       "      <td>8930</td>\n",
       "      <td>8743</td>\n",
       "      <td>8672</td>\n",
       "      <td>8546</td>\n",
       "      <td>8386</td>\n",
       "    </tr>\n",
       "    <tr>\n",
       "      <th>2020-12-04</th>\n",
       "      <td>158</td>\n",
       "      <td>188</td>\n",
       "      <td>120</td>\n",
       "      <td>103</td>\n",
       "      <td>77</td>\n",
       "      <td>55</td>\n",
       "      <td>28</td>\n",
       "      <td>18</td>\n",
       "      <td>11</td>\n",
       "      <td>10</td>\n",
       "      <td>10</td>\n",
       "      <td>8</td>\n",
       "      <td>5</td>\n",
       "      <td>3</td>\n",
       "    </tr>\n",
       "    <tr>\n",
       "      <th>2020-12-03</th>\n",
       "      <td>161</td>\n",
       "      <td>189</td>\n",
       "      <td>129</td>\n",
       "      <td>116</td>\n",
       "      <td>91</td>\n",
       "      <td>57</td>\n",
       "      <td>36</td>\n",
       "      <td>27</td>\n",
       "      <td>12</td>\n",
       "      <td>5</td>\n",
       "      <td>3</td>\n",
       "      <td>1</td>\n",
       "      <td>1</td>\n",
       "      <td>0</td>\n",
       "    </tr>\n",
       "    <tr>\n",
       "      <th>2020-12-02</th>\n",
       "      <td>197</td>\n",
       "      <td>214</td>\n",
       "      <td>615</td>\n",
       "      <td>540</td>\n",
       "      <td>499</td>\n",
       "      <td>454</td>\n",
       "      <td>421</td>\n",
       "      <td>390</td>\n",
       "      <td>369</td>\n",
       "      <td>354</td>\n",
       "      <td>339</td>\n",
       "      <td>332</td>\n",
       "      <td>325</td>\n",
       "      <td>322</td>\n",
       "    </tr>\n",
       "    <tr>\n",
       "      <th>2020-12-01</th>\n",
       "      <td>189</td>\n",
       "      <td>1927</td>\n",
       "      <td>2238</td>\n",
       "      <td>2172</td>\n",
       "      <td>2093</td>\n",
       "      <td>1974</td>\n",
       "      <td>1911</td>\n",
       "      <td>1846</td>\n",
       "      <td>1770</td>\n",
       "      <td>1754</td>\n",
       "      <td>1737</td>\n",
       "      <td>1712</td>\n",
       "      <td>1690</td>\n",
       "      <td>1661</td>\n",
       "    </tr>\n",
       "    <tr>\n",
       "      <th>2020-11-30</th>\n",
       "      <td>126</td>\n",
       "      <td>1063</td>\n",
       "      <td>1430</td>\n",
       "      <td>1367</td>\n",
       "      <td>1274</td>\n",
       "      <td>1200</td>\n",
       "      <td>1155</td>\n",
       "      <td>1107</td>\n",
       "      <td>1100</td>\n",
       "      <td>1089</td>\n",
       "      <td>1056</td>\n",
       "      <td>1043</td>\n",
       "      <td>1028</td>\n",
       "      <td>993</td>\n",
       "    </tr>\n",
       "    <tr>\n",
       "      <th>2020-11-29</th>\n",
       "      <td>128</td>\n",
       "      <td>1042</td>\n",
       "      <td>1684</td>\n",
       "      <td>1546</td>\n",
       "      <td>1430</td>\n",
       "      <td>1404</td>\n",
       "      <td>1349</td>\n",
       "      <td>1320</td>\n",
       "      <td>1291</td>\n",
       "      <td>1262</td>\n",
       "      <td>1227</td>\n",
       "      <td>1217</td>\n",
       "      <td>1215</td>\n",
       "      <td>1190</td>\n",
       "    </tr>\n",
       "    <tr>\n",
       "      <th>2020-11-28</th>\n",
       "      <td>159</td>\n",
       "      <td>1784</td>\n",
       "      <td>2398</td>\n",
       "      <td>2183</td>\n",
       "      <td>2098</td>\n",
       "      <td>2006</td>\n",
       "      <td>1978</td>\n",
       "      <td>1883</td>\n",
       "      <td>1817</td>\n",
       "      <td>1810</td>\n",
       "      <td>1771</td>\n",
       "      <td>1736</td>\n",
       "      <td>1711</td>\n",
       "      <td>1694</td>\n",
       "    </tr>\n",
       "    <tr>\n",
       "      <th>2020-11-27</th>\n",
       "      <td>254</td>\n",
       "      <td>1982</td>\n",
       "      <td>2555</td>\n",
       "      <td>2355</td>\n",
       "      <td>2279</td>\n",
       "      <td>2169</td>\n",
       "      <td>2144</td>\n",
       "      <td>2101</td>\n",
       "      <td>2008</td>\n",
       "      <td>2004</td>\n",
       "      <td>1966</td>\n",
       "      <td>1955</td>\n",
       "      <td>1871</td>\n",
       "      <td>1879</td>\n",
       "    </tr>\n",
       "    <tr>\n",
       "      <th>2020-11-26</th>\n",
       "      <td>216</td>\n",
       "      <td>2158</td>\n",
       "      <td>3037</td>\n",
       "      <td>2811</td>\n",
       "      <td>2643</td>\n",
       "      <td>2534</td>\n",
       "      <td>2479</td>\n",
       "      <td>2416</td>\n",
       "      <td>2358</td>\n",
       "      <td>2350</td>\n",
       "      <td>2301</td>\n",
       "      <td>2214</td>\n",
       "      <td>2178</td>\n",
       "      <td>2219</td>\n",
       "    </tr>\n",
       "    <tr>\n",
       "      <th>2020-11-25</th>\n",
       "      <td>227</td>\n",
       "      <td>1847</td>\n",
       "      <td>2822</td>\n",
       "      <td>2722</td>\n",
       "      <td>2613</td>\n",
       "      <td>2523</td>\n",
       "      <td>2448</td>\n",
       "      <td>2336</td>\n",
       "      <td>2289</td>\n",
       "      <td>2242</td>\n",
       "      <td>2185</td>\n",
       "      <td>2160</td>\n",
       "      <td>2171</td>\n",
       "      <td>2108</td>\n",
       "    </tr>\n",
       "    <tr>\n",
       "      <th>2020-11-24</th>\n",
       "      <td>164</td>\n",
       "      <td>1237</td>\n",
       "      <td>1667</td>\n",
       "      <td>1624</td>\n",
       "      <td>1537</td>\n",
       "      <td>1472</td>\n",
       "      <td>1391</td>\n",
       "      <td>1348</td>\n",
       "      <td>1308</td>\n",
       "      <td>1265</td>\n",
       "      <td>1235</td>\n",
       "      <td>1210</td>\n",
       "      <td>1184</td>\n",
       "      <td>1158</td>\n",
       "    </tr>\n",
       "    <tr>\n",
       "      <th>2020-11-23</th>\n",
       "      <td>147</td>\n",
       "      <td>892</td>\n",
       "      <td>1332</td>\n",
       "      <td>1264</td>\n",
       "      <td>1167</td>\n",
       "      <td>1080</td>\n",
       "      <td>1011</td>\n",
       "      <td>964</td>\n",
       "      <td>915</td>\n",
       "      <td>897</td>\n",
       "      <td>880</td>\n",
       "      <td>854</td>\n",
       "      <td>835</td>\n",
       "      <td>823</td>\n",
       "    </tr>\n",
       "  </tbody>\n",
       "</table>\n",
       "</div>"
      ],
      "text/plain": [
       "Generation to Upload Period in Days   0     1     2     3      4     5     6   \\\n",
       "Upload Date (UTC)                                                               \n",
       "2020-12-06                           152  1170  1707  1523   1398  1355  1310   \n",
       "2020-12-05                           167  2183  5053  7593  10092  9910  9487   \n",
       "2020-12-04                           158   188   120   103     77    55    28   \n",
       "2020-12-03                           161   189   129   116     91    57    36   \n",
       "2020-12-02                           197   214   615   540    499   454   421   \n",
       "2020-12-01                           189  1927  2238  2172   2093  1974  1911   \n",
       "2020-11-30                           126  1063  1430  1367   1274  1200  1155   \n",
       "2020-11-29                           128  1042  1684  1546   1430  1404  1349   \n",
       "2020-11-28                           159  1784  2398  2183   2098  2006  1978   \n",
       "2020-11-27                           254  1982  2555  2355   2279  2169  2144   \n",
       "2020-11-26                           216  2158  3037  2811   2643  2534  2479   \n",
       "2020-11-25                           227  1847  2822  2722   2613  2523  2448   \n",
       "2020-11-24                           164  1237  1667  1624   1537  1472  1391   \n",
       "2020-11-23                           147   892  1332  1264   1167  1080  1011   \n",
       "\n",
       "Generation to Upload Period in Days    7     8     9     10    11    12    13  \n",
       "Upload Date (UTC)                                                              \n",
       "2020-12-06                           1280  1275  1247  1238  1188  1190  1173  \n",
       "2020-12-05                           9267  9190  8930  8743  8672  8546  8386  \n",
       "2020-12-04                             18    11    10    10     8     5     3  \n",
       "2020-12-03                             27    12     5     3     1     1     0  \n",
       "2020-12-02                            390   369   354   339   332   325   322  \n",
       "2020-12-01                           1846  1770  1754  1737  1712  1690  1661  \n",
       "2020-11-30                           1107  1100  1089  1056  1043  1028   993  \n",
       "2020-11-29                           1320  1291  1262  1227  1217  1215  1190  \n",
       "2020-11-28                           1883  1817  1810  1771  1736  1711  1694  \n",
       "2020-11-27                           2101  2008  2004  1966  1955  1871  1879  \n",
       "2020-11-26                           2416  2358  2350  2301  2214  2178  2219  \n",
       "2020-11-25                           2336  2289  2242  2185  2160  2171  2108  \n",
       "2020-11-24                           1348  1308  1265  1235  1210  1184  1158  \n",
       "2020-11-23                            964   915   897   880   854   835   823  "
      ]
     },
     "execution_count": 54,
     "metadata": {},
     "output_type": "execute_result"
    }
   ],
   "source": [
    "display_generation_to_upload_period_pivot_df = \\\n",
    "    generation_to_upload_period_pivot_df \\\n",
    "        .head(backend_generation_days)\n",
    "display_generation_to_upload_period_pivot_df \\\n",
    "    .head(backend_generation_days) \\\n",
    "    .rename_axis(columns=display_column_name_mapping) \\\n",
    "    .rename_axis(index=display_column_name_mapping)"
   ]
  },
  {
   "cell_type": "code",
   "execution_count": 55,
   "metadata": {
    "collapsed": false,
    "execution": {
     "iopub.execute_input": "2020-12-06T23:35:24.985155Z",
     "iopub.status.busy": "2020-12-06T23:35:24.984489Z",
     "iopub.status.idle": "2020-12-06T23:35:26.385718Z",
     "shell.execute_reply": "2020-12-06T23:35:26.386453Z"
    },
    "papermill": {
     "duration": 1.495347,
     "end_time": "2020-12-06T23:35:26.386640",
     "exception": false,
     "start_time": "2020-12-06T23:35:24.891293",
     "status": "completed"
    },
    "pycharm": {
     "name": "#%%\n"
    },
    "tags": []
   },
   "outputs": [
    {
     "data": {
      "image/png": "[encoded data removed]",
      "text/plain": [
       "<Figure size 864x676.8 with 2 Axes>"
      ]
     },
     "metadata": {},
     "output_type": "display_data"
    }
   ],
   "source": [
    "fig, generation_to_upload_period_pivot_table_ax = plt.subplots(\n",
    "    figsize=(12, 1 + 0.6 * len(display_generation_to_upload_period_pivot_df)))\n",
    "generation_to_upload_period_pivot_table_ax.set_title(\n",
    "    \"Shared TEKs Generation to Upload Period Table\")\n",
    "sns.heatmap(\n",
    "    data=display_generation_to_upload_period_pivot_df\n",
    "        .rename_axis(columns=display_column_name_mapping)\n",
    "        .rename_axis(index=display_column_name_mapping),\n",
    "    fmt=\".0f\",\n",
    "    annot=True,\n",
    "    ax=generation_to_upload_period_pivot_table_ax)\n",
    "generation_to_upload_period_pivot_table_ax.get_figure().tight_layout()"
   ]
  },
  {
   "cell_type": "markdown",
   "metadata": {
    "collapsed": false,
    "papermill": {
     "duration": 0.073735,
     "end_time": "2020-12-06T23:35:26.532798",
     "exception": false,
     "start_time": "2020-12-06T23:35:26.459063",
     "status": "completed"
    },
    "tags": []
   },
   "source": [
    "### Hourly Summary Plots "
   ]
  },
  {
   "cell_type": "code",
   "execution_count": 56,
   "metadata": {
    "collapsed": false,
    "execution": {
     "iopub.execute_input": "2020-12-06T23:35:26.713781Z",
     "iopub.status.busy": "2020-12-06T23:35:26.706324Z",
     "iopub.status.idle": "2020-12-06T23:35:27.133190Z",
     "shell.execute_reply": "2020-12-06T23:35:27.133942Z"
    },
    "papermill": {
     "duration": 0.527782,
     "end_time": "2020-12-06T23:35:27.134100",
     "exception": false,
     "start_time": "2020-12-06T23:35:26.606318",
     "status": "completed"
    },
    "pycharm": {
     "name": "#%%\n"
    },
    "tags": []
   },
   "outputs": [
    {
     "data": {
      "image/png": "[encoded data removed]",
      "text/plain": [
       "<Figure size 1080x432 with 1 Axes>"
      ]
     },
     "metadata": {},
     "output_type": "display_data"
    }
   ],
   "source": [
    "hourly_summary_ax_list = hourly_summary_df \\\n",
    "    .rename_axis(index=display_column_name_mapping) \\\n",
    "    .rename(columns=display_column_name_mapping) \\\n",
    "    .plot.bar(\n",
    "        title=f\"Last 24h Summary\",\n",
    "        rot=45, subplots=True, legend=False)\n",
    "ax_ = hourly_summary_ax_list[-1]\n",
    "ax_.get_figure().tight_layout()\n",
    "ax_.get_figure().subplots_adjust(top=0.9)\n",
    "_ = ax_.set_xticklabels(sorted(hourly_summary_df.index.strftime(\"%Y-%m-%d@%H\").tolist()))"
   ]
  },
  {
   "cell_type": "markdown",
   "metadata": {
    "collapsed": false,
    "papermill": {
     "duration": 0.074712,
     "end_time": "2020-12-06T23:35:27.284677",
     "exception": false,
     "start_time": "2020-12-06T23:35:27.209965",
     "status": "completed"
    },
    "tags": []
   },
   "source": [
    "### Publish Results"
   ]
  },
  {
   "cell_type": "code",
   "execution_count": 57,
   "metadata": {
    "collapsed": false,
    "execution": {
     "iopub.execute_input": "2020-12-06T23:35:27.440036Z",
     "iopub.status.busy": "2020-12-06T23:35:27.438587Z",
     "iopub.status.idle": "2020-12-06T23:35:27.440649Z",
     "shell.execute_reply": "2020-12-06T23:35:27.441164Z"
    },
    "papermill": {
     "duration": 0.08382,
     "end_time": "2020-12-06T23:35:27.441302",
     "exception": false,
     "start_time": "2020-12-06T23:35:27.357482",
     "status": "completed"
    },
    "pycharm": {
     "name": "#%%\n"
    },
    "tags": []
   },
   "outputs": [],
   "source": [
    "def get_temporary_image_path() -> str:\n",
    "    return os.path.join(tempfile.gettempdir(), str(uuid.uuid4()) + \".png\")\n",
    "\n",
    "def save_temporary_plot_image(ax):\n",
    "    if isinstance(ax, np.ndarray):\n",
    "        ax = ax[0]\n",
    "    media_path = get_temporary_image_path()\n",
    "    ax.get_figure().savefig(media_path)\n",
    "    return media_path\n",
    "\n",
    "def save_temporary_dataframe_image(df):\n",
    "    import dataframe_image as dfi\n",
    "    media_path = get_temporary_image_path()\n",
    "    dfi.export(df, media_path)\n",
    "    return media_path"
   ]
  },
  {
   "cell_type": "code",
   "execution_count": 58,
   "metadata": {
    "collapsed": false,
    "execution": {
     "iopub.execute_input": "2020-12-06T23:35:27.613913Z",
     "iopub.status.busy": "2020-12-06T23:35:27.613243Z",
     "iopub.status.idle": "2020-12-06T23:35:27.672822Z",
     "shell.execute_reply": "2020-12-06T23:35:27.673340Z"
    },
    "papermill": {
     "duration": 0.151133,
     "end_time": "2020-12-06T23:35:27.673520",
     "exception": false,
     "start_time": "2020-12-06T23:35:27.522387",
     "status": "completed"
    },
    "pycharm": {
     "name": "#%%\n"
    },
    "tags": []
   },
   "outputs": [
    {
     "name": "stderr",
     "output_type": "stream",
     "text": [
      "<ipython-input-58-bd16b454de40>:49: FutureWarning: `item` has been deprecated and will be removed in a future version\n",
      "  extraction_date_result_summary_df.covid_cases.item()\n",
      "<ipython-input-58-bd16b454de40>:51: FutureWarning: `item` has been deprecated and will be removed in a future version\n",
      "  extraction_date_result_summary_df.shared_teks_by_generation_date.item()\n",
      "<ipython-input-58-bd16b454de40>:53: FutureWarning: `item` has been deprecated and will be removed in a future version\n",
      "  extraction_date_result_summary_df.shared_teks_by_upload_date.item()\n",
      "<ipython-input-58-bd16b454de40>:55: FutureWarning: `item` has been deprecated and will be removed in a future version\n",
      "  extraction_date_result_summary_df.shared_diagnoses.item()\n",
      "<ipython-input-58-bd16b454de40>:57: FutureWarning: `item` has been deprecated and will be removed in a future version\n",
      "  extraction_date_result_summary_df.teks_per_shared_diagnosis.item()\n",
      "<ipython-input-58-bd16b454de40>:59: FutureWarning: `item` has been deprecated and will be removed in a future version\n",
      "  extraction_date_result_summary_df.shared_diagnoses_per_covid_case.item()\n"
     ]
    }
   ],
   "source": [
    "github_repository = os.environ.get(\"GITHUB_REPOSITORY\")\n",
    "if github_repository is None:\n",
    "    github_repository = \"pvieito/Radar-STATS\"\n",
    "\n",
    "github_project_base_url = \"https://github.com/\" + github_repository\n",
    "\n",
    "display_formatters = {\n",
    "    display_column_name_mapping[\"teks_per_shared_diagnosis\"]: lambda x: f\"{x:.2f}\",\n",
    "    display_column_name_mapping[\"shared_diagnoses_per_covid_case\"]: lambda x: f\"{x:.2%}\",\n",
    "}\n",
    "daily_summary_table_html = result_summary_with_display_names_df \\\n",
    "    .head(daily_plot_days) \\\n",
    "    .rename_axis(index=display_column_name_mapping) \\\n",
    "    .rename(columns=display_column_name_mapping) \\\n",
    "    .to_html(formatters=display_formatters)\n",
    "multi_backend_summary_table_html = multi_backend_summary_df \\\n",
    "    .head(daily_plot_days) \\\n",
    "    .rename_axis(columns=display_column_name_mapping) \\\n",
    "    .rename(columns=display_column_name_mapping) \\\n",
    "    .rename_axis(index=display_column_name_mapping) \\\n",
    "    .to_html(formatters=display_formatters)\n",
    "\n",
    "def format_multi_backend_cross_sharing_fraction(x):\n",
    "    if pd.isna(x):\n",
    "        return \"-\"\n",
    "    elif round(x * 100, 1) == 0:\n",
    "        return \"\"\n",
    "    else:\n",
    "        return f\"{x:.1%}\"\n",
    "\n",
    "multi_backend_cross_sharing_summary_table_html = multi_backend_cross_sharing_summary_df \\\n",
    "    .rename_axis(columns=display_column_name_mapping) \\\n",
    "    .rename(columns=display_column_name_mapping) \\\n",
    "    .rename_axis(index=display_column_name_mapping) \\\n",
    "    .to_html(\n",
    "        classes=\"table-center\",\n",
    "        formatters=display_formatters,\n",
    "        float_format=format_multi_backend_cross_sharing_fraction)\n",
    "multi_backend_cross_sharing_summary_table_html = \\\n",
    "    multi_backend_cross_sharing_summary_table_html \\\n",
    "        .replace(\"<tr>\",\"<tr style=\\\"text-align: center;\\\">\")\n",
    "\n",
    "extraction_date_result_summary_df = \\\n",
    "    result_summary_df[result_summary_df.index.get_level_values(\"sample_date\") == extraction_date]\n",
    "extraction_date_result_hourly_summary_df = \\\n",
    "    hourly_summary_df[hourly_summary_df.extraction_date_with_hour == extraction_date_with_hour]\n",
    "\n",
    "covid_cases = \\\n",
    "    extraction_date_result_summary_df.covid_cases.item()\n",
    "shared_teks_by_generation_date = \\\n",
    "    extraction_date_result_summary_df.shared_teks_by_generation_date.item()\n",
    "shared_teks_by_upload_date = \\\n",
    "    extraction_date_result_summary_df.shared_teks_by_upload_date.item()\n",
    "shared_diagnoses = \\\n",
    "    extraction_date_result_summary_df.shared_diagnoses.item()\n",
    "teks_per_shared_diagnosis = \\\n",
    "    extraction_date_result_summary_df.teks_per_shared_diagnosis.item()\n",
    "shared_diagnoses_per_covid_case = \\\n",
    "    extraction_date_result_summary_df.shared_diagnoses_per_covid_case.item()\n",
    "\n",
    "shared_teks_by_upload_date_last_hour = \\\n",
    "    extraction_date_result_hourly_summary_df.shared_teks_by_upload_date.sum().astype(int)\n",
    "\n",
    "display_source_regions = \", \".join(report_source_regions)\n",
    "if len(report_source_regions) == 1:\n",
    "    display_brief_source_regions = report_source_regions[0]\n",
    "else:\n",
    "    display_brief_source_regions = f\"{len(report_source_regions)} 🇪🇺\""
   ]
  },
  {
   "cell_type": "code",
   "execution_count": 59,
   "metadata": {
    "execution": {
     "iopub.execute_input": "2020-12-06T23:35:27.850182Z",
     "iopub.status.busy": "2020-12-06T23:35:27.849592Z",
     "iopub.status.idle": "2020-12-06T23:35:37.185063Z",
     "shell.execute_reply": "2020-12-06T23:35:37.185897Z"
    },
    "papermill": {
     "duration": 9.434096,
     "end_time": "2020-12-06T23:35:37.186080",
     "exception": false,
     "start_time": "2020-12-06T23:35:27.751984",
     "status": "completed"
    },
    "pycharm": {
     "name": "#%%\n"
    },
    "tags": []
   },
   "outputs": [],
   "source": [
    "summary_plots_image_path = save_temporary_plot_image(\n",
    "    ax=summary_ax_list)\n",
    "summary_table_image_path = save_temporary_dataframe_image(\n",
    "    df=result_summary_with_display_names_df)\n",
    "hourly_summary_plots_image_path = save_temporary_plot_image(\n",
    "    ax=hourly_summary_ax_list)\n",
    "multi_backend_summary_table_image_path = save_temporary_dataframe_image(\n",
    "    df=multi_backend_summary_df)\n",
    "generation_to_upload_period_pivot_table_image_path = save_temporary_plot_image(\n",
    "    ax=generation_to_upload_period_pivot_table_ax)"
   ]
  },
  {
   "cell_type": "markdown",
   "metadata": {
    "execution": {
     "iopub.execute_input": "2020-09-02T08:20:16.981187Z",
     "iopub.status.busy": "2020-09-02T08:20:16.980584Z",
     "iopub.status.idle": "2020-09-02T08:20:20.068070Z",
     "shell.execute_reply": "2020-09-02T08:20:20.068598Z"
    },
    "papermill": {
     "duration": 0.080137,
     "end_time": "2020-12-06T23:35:37.346789",
     "exception": false,
     "start_time": "2020-12-06T23:35:37.266652",
     "status": "completed"
    },
    "pycharm": {
     "name": "#%% md\n"
    },
    "tags": []
   },
   "source": [
    "### Save Results"
   ]
  },
  {
   "cell_type": "code",
   "execution_count": 60,
   "metadata": {
    "collapsed": false,
    "execution": {
     "iopub.execute_input": "2020-12-06T23:35:37.509445Z",
     "iopub.status.busy": "2020-12-06T23:35:37.508791Z",
     "iopub.status.idle": "2020-12-06T23:35:37.570857Z",
     "shell.execute_reply": "2020-12-06T23:35:37.571373Z"
    },
    "papermill": {
     "duration": 0.147049,
     "end_time": "2020-12-06T23:35:37.571584",
     "exception": false,
     "start_time": "2020-12-06T23:35:37.424535",
     "status": "completed"
    },
    "pycharm": {
     "name": "#%%\n"
    },
    "tags": []
   },
   "outputs": [],
   "source": [
    "report_resources_path_prefix = \"Data/Resources/Current/RadarCOVID-Report-\"\n",
    "result_summary_df.to_csv(\n",
    "    report_resources_path_prefix + \"Summary-Table.csv\")\n",
    "result_summary_df.to_html(\n",
    "    report_resources_path_prefix + \"Summary-Table.html\")\n",
    "hourly_summary_df.to_csv(\n",
    "    report_resources_path_prefix + \"Hourly-Summary-Table.csv\")\n",
    "multi_backend_summary_df.to_csv(\n",
    "    report_resources_path_prefix + \"Multi-Backend-Summary-Table.csv\")\n",
    "multi_backend_cross_sharing_summary_df.to_csv(\n",
    "    report_resources_path_prefix + \"Multi-Backend-Cross-Sharing-Summary-Table.csv\")\n",
    "generation_to_upload_period_pivot_df.to_csv(\n",
    "    report_resources_path_prefix + \"Generation-Upload-Period-Table.csv\")\n",
    "_ = shutil.copyfile(\n",
    "    summary_plots_image_path,\n",
    "    report_resources_path_prefix + \"Summary-Plots.png\")\n",
    "_ = shutil.copyfile(\n",
    "    summary_table_image_path,\n",
    "    report_resources_path_prefix + \"Summary-Table.png\")\n",
    "_ = shutil.copyfile(\n",
    "    hourly_summary_plots_image_path,\n",
    "    report_resources_path_prefix + \"Hourly-Summary-Plots.png\")\n",
    "_ = shutil.copyfile(\n",
    "    multi_backend_summary_table_image_path,\n",
    "    report_resources_path_prefix + \"Multi-Backend-Summary-Table.png\")\n",
    "_ = shutil.copyfile(\n",
    "    generation_to_upload_period_pivot_table_image_path,\n",
    "    report_resources_path_prefix + \"Generation-Upload-Period-Table.png\")"
   ]
  },
  {
   "cell_type": "markdown",
   "metadata": {
    "collapsed": false,
    "papermill": {
     "duration": 0.07497,
     "end_time": "2020-12-06T23:35:37.724222",
     "exception": false,
     "start_time": "2020-12-06T23:35:37.649252",
     "status": "completed"
    },
    "pycharm": {
     "name": "#%% md\n"
    },
    "tags": []
   },
   "source": [
    "### Publish Results as JSON"
   ]
  },
  {
   "cell_type": "code",
   "execution_count": 61,
   "metadata": {
    "execution": {
     "iopub.execute_input": "2020-12-06T23:35:37.908296Z",
     "iopub.status.busy": "2020-12-06T23:35:37.907499Z",
     "iopub.status.idle": "2020-12-06T23:35:37.914188Z",
     "shell.execute_reply": "2020-12-06T23:35:37.914758Z"
    },
    "papermill": {
     "duration": 0.110535,
     "end_time": "2020-12-06T23:35:37.914932",
     "exception": false,
     "start_time": "2020-12-06T23:35:37.804397",
     "status": "completed"
    },
    "pycharm": {
     "name": "#%%\n"
    },
    "tags": []
   },
   "outputs": [],
   "source": [
    "def generate_summary_api_results(df: pd.DataFrame) -> list:\n",
    "    api_df = df.reset_index().copy()\n",
    "    api_df[\"sample_date_string\"] = \\\n",
    "        api_df[\"sample_date\"].dt.strftime(\"%Y-%m-%d\")\n",
    "    api_df[\"source_regions\"] = \\\n",
    "        api_df[\"source_regions\"].apply(lambda x: x.split(\",\"))\n",
    "    return api_df.to_dict(orient=\"records\")\n",
    "\n",
    "summary_api_results = \\\n",
    "    generate_summary_api_results(df=result_summary_df)\n",
    "today_summary_api_results = \\\n",
    "    generate_summary_api_results(df=extraction_date_result_summary_df)[0]\n",
    "\n",
    "summary_results = dict(\n",
    "    backend_identifier=report_backend_identifier,\n",
    "    source_regions=report_source_regions,\n",
    "    extraction_datetime=extraction_datetime,\n",
    "    extraction_date=extraction_date,\n",
    "    extraction_date_with_hour=extraction_date_with_hour,\n",
    "    last_hour=dict(\n",
    "        shared_teks_by_upload_date=shared_teks_by_upload_date_last_hour,\n",
    "        shared_diagnoses=0,\n",
    "    ),\n",
    "    today=today_summary_api_results,\n",
    "    last_7_days=last_7_days_summary,\n",
    "    daily_results=summary_api_results)\n",
    "\n",
    "summary_results = \\\n",
    "    json.loads(pd.Series([summary_results]).to_json(orient=\"records\"))[0]\n",
    "\n",
    "with open(report_resources_path_prefix + \"Summary-Results.json\", \"w\") as f:\n",
    "    json.dump(summary_results, f, indent=4)"
   ]
  },
  {
   "cell_type": "markdown",
   "metadata": {
    "execution": {
     "iopub.execute_input": "2020-09-02T08:20:20.895901Z",
     "iopub.status.busy": "2020-09-02T08:20:20.895301Z",
     "iopub.status.idle": "2020-09-02T08:20:20.942286Z",
     "shell.execute_reply": "2020-09-02T08:20:20.942834Z"
    },
    "papermill": {
     "duration": 0.077194,
     "end_time": "2020-12-06T23:35:38.071229",
     "exception": false,
     "start_time": "2020-12-06T23:35:37.994035",
     "status": "completed"
    },
    "pycharm": {
     "name": "#%% md\n"
    },
    "tags": []
   },
   "source": [
    "### Publish on README"
   ]
  },
  {
   "cell_type": "code",
   "execution_count": 62,
   "metadata": {
    "collapsed": false,
    "execution": {
     "iopub.execute_input": "2020-12-06T23:35:38.234270Z",
     "iopub.status.busy": "2020-12-06T23:35:38.233457Z",
     "iopub.status.idle": "2020-12-06T23:35:38.238141Z",
     "shell.execute_reply": "2020-12-06T23:35:38.238935Z"
    },
    "papermill": {
     "duration": 0.087813,
     "end_time": "2020-12-06T23:35:38.239104",
     "exception": false,
     "start_time": "2020-12-06T23:35:38.151291",
     "status": "completed"
    },
    "pycharm": {
     "name": "#%%\n"
    },
    "tags": []
   },
   "outputs": [],
   "source": [
    "with open(\"Data/Templates/README.md\", \"r\") as f:\n",
    "    readme_contents = f.read()\n",
    "\n",
    "readme_contents = readme_contents.format(\n",
    "    extraction_date_with_hour=extraction_date_with_hour,\n",
    "    github_project_base_url=github_project_base_url,\n",
    "    daily_summary_table_html=daily_summary_table_html,\n",
    "    multi_backend_summary_table_html=multi_backend_summary_table_html,\n",
    "    multi_backend_cross_sharing_summary_table_html=multi_backend_cross_sharing_summary_table_html,\n",
    "    display_source_regions=display_source_regions)\n",
    "\n",
    "with open(\"README.md\", \"w\") as f:\n",
    "    f.write(readme_contents)"
   ]
  },
  {
   "cell_type": "markdown",
   "metadata": {
    "collapsed": false,
    "papermill": {
     "duration": 0.074261,
     "end_time": "2020-12-06T23:35:38.397790",
     "exception": false,
     "start_time": "2020-12-06T23:35:38.323529",
     "status": "completed"
    },
    "pycharm": {
     "name": "#%% md\n"
    },
    "tags": []
   },
   "source": [
    "### Publish on Twitter"
   ]
  },
  {
   "cell_type": "code",
   "execution_count": 63,
   "metadata": {
    "collapsed": false,
    "execution": {
     "iopub.execute_input": "2020-12-06T23:35:38.552188Z",
     "iopub.status.busy": "2020-12-06T23:35:38.551546Z",
     "iopub.status.idle": "2020-12-06T23:35:43.970454Z",
     "shell.execute_reply": "2020-12-06T23:35:43.969964Z"
    },
    "papermill": {
     "duration": 5.496964,
     "end_time": "2020-12-06T23:35:43.970583",
     "exception": false,
     "start_time": "2020-12-06T23:35:38.473619",
     "status": "completed"
    },
    "pycharm": {
     "name": "#%%\n"
    },
    "tags": []
   },
   "outputs": [],
   "source": [
    "enable_share_to_twitter = os.environ.get(\"RADARCOVID_REPORT__ENABLE_PUBLISH_ON_TWITTER\")\n",
    "github_event_name = os.environ.get(\"GITHUB_EVENT_NAME\")\n",
    "\n",
    "if enable_share_to_twitter and github_event_name == \"schedule\" and \\\n",
    "        (shared_teks_by_upload_date_last_hour or not are_today_results_partial):\n",
    "    import tweepy\n",
    "\n",
    "    twitter_api_auth_keys = os.environ[\"RADARCOVID_REPORT__TWITTER_API_AUTH_KEYS\"]\n",
    "    twitter_api_auth_keys = twitter_api_auth_keys.split(\":\")\n",
    "    auth = tweepy.OAuthHandler(twitter_api_auth_keys[0], twitter_api_auth_keys[1])\n",
    "    auth.set_access_token(twitter_api_auth_keys[2], twitter_api_auth_keys[3])\n",
    "\n",
    "    api = tweepy.API(auth)\n",
    "\n",
    "    summary_plots_media = api.media_upload(summary_plots_image_path)\n",
    "    summary_table_media = api.media_upload(summary_table_image_path)\n",
    "    generation_to_upload_period_pivot_table_image_media = api.media_upload(generation_to_upload_period_pivot_table_image_path)\n",
    "    media_ids = [\n",
    "        summary_plots_media.media_id,\n",
    "        summary_table_media.media_id,\n",
    "        generation_to_upload_period_pivot_table_image_media.media_id,\n",
    "    ]\n",
    "\n",
    "    if are_today_results_partial:\n",
    "        today_addendum = \" (Partial)\"\n",
    "    else:\n",
    "        today_addendum = \"\"\n",
    "\n",
    "    status = textwrap.dedent(f\"\"\"\n",
    "        #RadarCOVID – {extraction_date_with_hour}\n",
    "\n",
    "        Source Countries: {display_brief_source_regions}\n",
    "\n",
    "        Today{today_addendum}:\n",
    "        - Uploaded TEKs: {shared_teks_by_upload_date:.0f} ({shared_teks_by_upload_date_last_hour:+d} last hour)\n",
    "        - Shared Diagnoses: ≤{shared_diagnoses:.0f}\n",
    "        - Usage Ratio: ≤{shared_diagnoses_per_covid_case:.2%}\n",
    "\n",
    "        Last 7 Days:\n",
    "        - Shared Diagnoses: ≤{last_7_days_summary[\"shared_diagnoses\"]:.0f}\n",
    "        - Usage Ratio: ≤{last_7_days_summary[\"shared_diagnoses_per_covid_case\"]:.2%}\n",
    "\n",
    "        Info: {github_project_base_url}#documentation\n",
    "        \"\"\")\n",
    "    status = status.encode(encoding=\"utf-8\")\n",
    "    api.update_status(status=status, media_ids=media_ids)"
   ]
  }
 ],
 "metadata": {
  "kernelspec": {
   "display_name": "Python 3",
   "language": "python",
   "name": "python3"
  },
  "language_info": {
   "codemirror_mode": {
    "name": "ipython",
    "version": 3
   },
   "file_extension": ".py",
   "mimetype": "text/x-python",
   "name": "python",
   "nbconvert_exporter": "python",
   "pygments_lexer": "ipython3",
   "version": "3.8.6"
  },
  "papermill": {
   "duration": 467.433418,
   "end_time": "2020-12-06T23:35:50.139466",
   "environment_variables": {},
   "exception": null,
   "input_path": "Notebooks/RadarCOVID-Report/Source/RadarCOVID-Report.ipynb",
   "output_path": "RadarCOVID-Report.ipynb",
   "parameters": {},
   "start_time": "2020-12-06T23:28:02.706048",
   "version": "2.1.3"
  }
 },
 "nbformat": 4,
 "nbformat_minor": 1
}