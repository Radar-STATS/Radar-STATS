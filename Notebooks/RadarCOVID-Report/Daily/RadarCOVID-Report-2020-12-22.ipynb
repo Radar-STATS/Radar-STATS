{
 "cells": [
  {
   "cell_type": "markdown",
   "metadata": {
    "papermill": {
     "duration": 0.041502,
     "end_time": "2020-12-22T23:32:49.482180",
     "exception": false,
     "start_time": "2020-12-22T23:32:49.440678",
     "status": "completed"
    },
    "pycharm": {
     "name": "#%% md\n"
    },
    "tags": []
   },
   "source": [
    "# RadarCOVID-Report"
   ]
  },
  {
   "cell_type": "markdown",
   "metadata": {
    "collapsed": true,
    "papermill": {
     "duration": 0.038897,
     "end_time": "2020-12-22T23:32:49.562686",
     "exception": false,
     "start_time": "2020-12-22T23:32:49.523789",
     "status": "completed"
    },
    "pycharm": {
     "name": "#%% md\n"
    },
    "tags": []
   },
   "source": [
    "## Data Extraction"
   ]
  },
  {
   "cell_type": "code",
   "execution_count": 1,
   "metadata": {
    "execution": {
     "iopub.execute_input": "2020-12-22T23:32:49.663199Z",
     "iopub.status.busy": "2020-12-22T23:32:49.662190Z",
     "iopub.status.idle": "2020-12-22T23:32:52.563066Z",
     "shell.execute_reply": "2020-12-22T23:32:52.562442Z"
    },
    "papermill": {
     "duration": 2.959576,
     "end_time": "2020-12-22T23:32:52.563250",
     "exception": false,
     "start_time": "2020-12-22T23:32:49.603674",
     "status": "completed"
    },
    "pycharm": {
     "name": "#%%\n"
    },
    "tags": []
   },
   "outputs": [],
   "source": [
    "import datetime\n",
    "import json\n",
    "import logging\n",
    "import os\n",
    "import shutil\n",
    "import tempfile\n",
    "import textwrap\n",
    "import uuid\n",
    "\n",
    "import matplotlib.pyplot as plt\n",
    "import matplotlib.ticker\n",
    "import numpy as np\n",
    "import pandas as pd\n",
    "import pycountry\n",
    "import retry\n",
    "import seaborn as sns\n",
    "\n",
    "%matplotlib inline"
   ]
  },
  {
   "cell_type": "code",
   "execution_count": 2,
   "metadata": {
    "collapsed": false,
    "execution": {
     "iopub.execute_input": "2020-12-22T23:32:52.661056Z",
     "iopub.status.busy": "2020-12-22T23:32:52.660021Z",
     "iopub.status.idle": "2020-12-22T23:32:52.661571Z",
     "shell.execute_reply": "2020-12-22T23:32:52.660509Z"
    },
    "papermill": {
     "duration": 0.051216,
     "end_time": "2020-12-22T23:32:52.661719",
     "exception": false,
     "start_time": "2020-12-22T23:32:52.610503",
     "status": "completed"
    },
    "pycharm": {
     "name": "#%%\n"
    },
    "tags": []
   },
   "outputs": [],
   "source": [
    "current_working_directory = os.environ.get(\"PWD\")\n",
    "if current_working_directory:\n",
    "    os.chdir(current_working_directory)\n",
    "\n",
    "sns.set()\n",
    "matplotlib.rcParams[\"figure.figsize\"] = (15, 6)\n",
    "\n",
    "extraction_datetime = datetime.datetime.utcnow()\n",
    "extraction_date = extraction_datetime.strftime(\"%Y-%m-%d\")\n",
    "extraction_previous_datetime = extraction_datetime - datetime.timedelta(days=1)\n",
    "extraction_previous_date = extraction_previous_datetime.strftime(\"%Y-%m-%d\")\n",
    "extraction_date_with_hour = datetime.datetime.utcnow().strftime(\"%Y-%m-%d@%H\")\n",
    "current_hour = datetime.datetime.utcnow().hour\n",
    "are_today_results_partial = current_hour != 23"
   ]
  },
  {
   "cell_type": "markdown",
   "metadata": {
    "collapsed": false,
    "papermill": {
     "duration": 0.041296,
     "end_time": "2020-12-22T23:32:52.743476",
     "exception": false,
     "start_time": "2020-12-22T23:32:52.702180",
     "status": "completed"
    },
    "tags": []
   },
   "source": [
    "### Constants"
   ]
  },
  {
   "cell_type": "code",
   "execution_count": 3,
   "metadata": {
    "execution": {
     "iopub.execute_input": "2020-12-22T23:32:52.827888Z",
     "iopub.status.busy": "2020-12-22T23:32:52.827238Z",
     "iopub.status.idle": "2020-12-22T23:32:52.902929Z",
     "shell.execute_reply": "2020-12-22T23:32:52.903678Z"
    },
    "papermill": {
     "duration": 0.12146,
     "end_time": "2020-12-22T23:32:52.904093",
     "exception": false,
     "start_time": "2020-12-22T23:32:52.782633",
     "status": "completed"
    },
    "pycharm": {
     "name": "#%%\n"
    },
    "tags": []
   },
   "outputs": [],
   "source": [
    "from Modules.ExposureNotification import exposure_notification_io\n",
    "\n",
    "spain_region_country_code = \"ES\"\n",
    "germany_region_country_code = \"DE\"\n",
    "\n",
    "default_backend_identifier = spain_region_country_code\n",
    "\n",
    "backend_generation_days = 7 * 2\n",
    "daily_summary_days = 7 * 4 * 3\n",
    "daily_plot_days = 7 * 4\n",
    "tek_dumps_load_limit = daily_summary_days + 1"
   ]
  },
  {
   "cell_type": "markdown",
   "metadata": {
    "collapsed": false,
    "papermill": {
     "duration": 0.039048,
     "end_time": "2020-12-22T23:32:52.986210",
     "exception": false,
     "start_time": "2020-12-22T23:32:52.947162",
     "status": "completed"
    },
    "tags": []
   },
   "source": [
    "### Parameters"
   ]
  },
  {
   "cell_type": "code",
   "execution_count": 4,
   "metadata": {
    "collapsed": false,
    "execution": {
     "iopub.execute_input": "2020-12-22T23:32:53.075655Z",
     "iopub.status.busy": "2020-12-22T23:32:53.075095Z",
     "iopub.status.idle": "2020-12-22T23:32:53.078332Z",
     "shell.execute_reply": "2020-12-22T23:32:53.078779Z"
    },
    "papermill": {
     "duration": 0.051204,
     "end_time": "2020-12-22T23:32:53.078936",
     "exception": false,
     "start_time": "2020-12-22T23:32:53.027732",
     "status": "completed"
    },
    "pycharm": {
     "name": "#%%\n"
    },
    "tags": []
   },
   "outputs": [
    {
     "data": {
      "text/plain": [
       "'ES'"
      ]
     },
     "execution_count": 4,
     "metadata": {},
     "output_type": "execute_result"
    }
   ],
   "source": [
    "environment_backend_identifier = os.environ.get(\"RADARCOVID_REPORT__BACKEND_IDENTIFIER\")\n",
    "if environment_backend_identifier:\n",
    "    report_backend_identifier = environment_backend_identifier\n",
    "else:\n",
    "    report_backend_identifier = default_backend_identifier\n",
    "report_backend_identifier"
   ]
  },
  {
   "cell_type": "code",
   "execution_count": 5,
   "metadata": {
    "collapsed": false,
    "execution": {
     "iopub.execute_input": "2020-12-22T23:32:53.163028Z",
     "iopub.status.busy": "2020-12-22T23:32:53.162471Z",
     "iopub.status.idle": "2020-12-22T23:32:53.164880Z",
     "shell.execute_reply": "2020-12-22T23:32:53.164407Z"
    },
    "papermill": {
     "duration": 0.046515,
     "end_time": "2020-12-22T23:32:53.165005",
     "exception": false,
     "start_time": "2020-12-22T23:32:53.118490",
     "status": "completed"
    },
    "pycharm": {
     "name": "#%%\n"
    },
    "tags": []
   },
   "outputs": [],
   "source": [
    "environment_enable_multi_backend_download = \\\n",
    "    os.environ.get(\"RADARCOVID_REPORT__ENABLE_MULTI_BACKEND_DOWNLOAD\")\n",
    "if environment_enable_multi_backend_download:\n",
    "    report_backend_identifiers = None\n",
    "else:\n",
    "    report_backend_identifiers = [report_backend_identifier]\n",
    "\n",
    "report_backend_identifiers"
   ]
  },
  {
   "cell_type": "code",
   "execution_count": 6,
   "metadata": {
    "collapsed": false,
    "execution": {
     "iopub.execute_input": "2020-12-22T23:32:53.247883Z",
     "iopub.status.busy": "2020-12-22T23:32:53.247265Z",
     "iopub.status.idle": "2020-12-22T23:32:53.250725Z",
     "shell.execute_reply": "2020-12-22T23:32:53.251210Z"
    },
    "papermill": {
     "duration": 0.047541,
     "end_time": "2020-12-22T23:32:53.251347",
     "exception": false,
     "start_time": "2020-12-22T23:32:53.203806",
     "status": "completed"
    },
    "pycharm": {
     "name": "#%%\n"
    },
    "tags": []
   },
   "outputs": [
    {
     "data": {
      "text/plain": [
       "['2020-10-30', '2020-12-02', '2020-12-05', '2020-12-19', '2020-12-20']"
      ]
     },
     "execution_count": 6,
     "metadata": {},
     "output_type": "execute_result"
    }
   ],
   "source": [
    "environment_invalid_shared_diagnoses_dates = \\\n",
    "    os.environ.get(\"RADARCOVID_REPORT__INVALID_SHARED_DIAGNOSES_DATES\")\n",
    "if environment_invalid_shared_diagnoses_dates:\n",
    "    invalid_shared_diagnoses_dates = environment_invalid_shared_diagnoses_dates.split(\",\")\n",
    "else:\n",
    "    invalid_shared_diagnoses_dates = []\n",
    "\n",
    "invalid_shared_diagnoses_dates"
   ]
  },
  {
   "cell_type": "markdown",
   "metadata": {
    "collapsed": false,
    "papermill": {
     "duration": 0.038984,
     "end_time": "2020-12-22T23:32:53.331019",
     "exception": false,
     "start_time": "2020-12-22T23:32:53.292035",
     "status": "completed"
    },
    "pycharm": {
     "name": "#%% md\n"
    },
    "tags": []
   },
   "source": [
    "### COVID-19 Cases"
   ]
  },
  {
   "cell_type": "code",
   "execution_count": 7,
   "metadata": {
    "collapsed": false,
    "execution": {
     "iopub.execute_input": "2020-12-22T23:32:53.421819Z",
     "iopub.status.busy": "2020-12-22T23:32:53.421241Z",
     "iopub.status.idle": "2020-12-22T23:32:53.423640Z",
     "shell.execute_reply": "2020-12-22T23:32:53.424073Z"
    },
    "papermill": {
     "duration": 0.054038,
     "end_time": "2020-12-22T23:32:53.424224",
     "exception": false,
     "start_time": "2020-12-22T23:32:53.370186",
     "status": "completed"
    },
    "pycharm": {
     "name": "#%%\n"
    },
    "tags": []
   },
   "outputs": [],
   "source": [
    "report_backend_client = \\\n",
    "    exposure_notification_io.get_backend_client_with_identifier(\n",
    "        backend_identifier=report_backend_identifier)"
   ]
  },
  {
   "cell_type": "code",
   "execution_count": 8,
   "metadata": {
    "collapsed": false,
    "execution": {
     "iopub.execute_input": "2020-12-22T23:32:53.522725Z",
     "iopub.status.busy": "2020-12-22T23:32:53.522144Z",
     "iopub.status.idle": "2020-12-22T23:32:53.918186Z",
     "shell.execute_reply": "2020-12-22T23:32:53.917078Z"
    },
    "papermill": {
     "duration": 0.453888,
     "end_time": "2020-12-22T23:32:53.918326",
     "exception": false,
     "start_time": "2020-12-22T23:32:53.464438",
     "status": "completed"
    },
    "pycharm": {
     "name": "#%%\n"
    },
    "tags": []
   },
   "outputs": [],
   "source": [
    "@retry.retry(tries=10, delay=10, backoff=1.1, jitter=(0, 10))\n",
    "def download_cases_dataframe():\n",
    "    return pd.read_csv(\n",
    "        \"https://raw.githubusercontent.com/owid/covid-19-data/master/public/data/owid-covid-data.csv\")\n",
    "\n",
    "confirmed_df_ = download_cases_dataframe()"
   ]
  },
  {
   "cell_type": "code",
   "execution_count": 9,
   "metadata": {
    "collapsed": false,
    "execution": {
     "iopub.execute_input": "2020-12-22T23:32:54.004701Z",
     "iopub.status.busy": "2020-12-22T23:32:54.004128Z",
     "iopub.status.idle": "2020-12-22T23:32:54.533941Z",
     "shell.execute_reply": "2020-12-22T23:32:54.534365Z"
    },
    "papermill": {
     "duration": 0.574836,
     "end_time": "2020-12-22T23:32:54.534534",
     "exception": false,
     "start_time": "2020-12-22T23:32:53.959698",
     "status": "completed"
    },
    "pycharm": {
     "name": "#%%\n"
    },
    "tags": []
   },
   "outputs": [
    {
     "data": {
      "text/html": [
       "<div>\n",
       "<style scoped>\n",
       "    .dataframe tbody tr th:only-of-type {\n",
       "        vertical-align: middle;\n",
       "    }\n",
       "\n",
       "    .dataframe tbody tr th {\n",
       "        vertical-align: top;\n",
       "    }\n",
       "\n",
       "    .dataframe thead th {\n",
       "        text-align: right;\n",
       "    }\n",
       "</style>\n",
       "<table border=\"1\" class=\"dataframe\">\n",
       "  <thead>\n",
       "    <tr style=\"text-align: right;\">\n",
       "      <th></th>\n",
       "      <th>sample_date</th>\n",
       "      <th>new_cases</th>\n",
       "      <th>country_code</th>\n",
       "    </tr>\n",
       "  </thead>\n",
       "  <tbody>\n",
       "    <tr>\n",
       "      <th>33166</th>\n",
       "      <td>2020-12-21</td>\n",
       "      <td>14.0</td>\n",
       "      <td>MC</td>\n",
       "    </tr>\n",
       "    <tr>\n",
       "      <th>33453</th>\n",
       "      <td>2020-12-21</td>\n",
       "      <td>13.0</td>\n",
       "      <td>MN</td>\n",
       "    </tr>\n",
       "    <tr>\n",
       "      <th>33733</th>\n",
       "      <td>2020-12-21</td>\n",
       "      <td>329.0</td>\n",
       "      <td>ME</td>\n",
       "    </tr>\n",
       "    <tr>\n",
       "      <th>28662</th>\n",
       "      <td>2020-12-21</td>\n",
       "      <td>0.0</td>\n",
       "      <td>LR</td>\n",
       "    </tr>\n",
       "    <tr>\n",
       "      <th>55511</th>\n",
       "      <td>2020-12-21</td>\n",
       "      <td>97.0</td>\n",
       "      <td>ZW</td>\n",
       "    </tr>\n",
       "  </tbody>\n",
       "</table>\n",
       "</div>"
      ],
      "text/plain": [
       "      sample_date  new_cases country_code\n",
       "33166  2020-12-21       14.0           MC\n",
       "33453  2020-12-21       13.0           MN\n",
       "33733  2020-12-21      329.0           ME\n",
       "28662  2020-12-21        0.0           LR\n",
       "55511  2020-12-21       97.0           ZW"
      ]
     },
     "execution_count": 9,
     "metadata": {},
     "output_type": "execute_result"
    }
   ],
   "source": [
    "confirmed_df = confirmed_df_.copy()\n",
    "confirmed_df = confirmed_df[[\"date\", \"new_cases\", \"iso_code\"]]\n",
    "confirmed_df.rename(\n",
    "    columns={\n",
    "        \"date\": \"sample_date\",\n",
    "        \"iso_code\": \"country_code\",\n",
    "    },\n",
    "    inplace=True)\n",
    "\n",
    "def convert_iso_alpha_3_to_alpha_2(x):\n",
    "    try:\n",
    "        return pycountry.countries.get(alpha_3=x).alpha_2\n",
    "    except Exception as e:\n",
    "        logging.info(f\"Error converting country ISO Alpha 3 code '{x}': {repr(e)}\")\n",
    "        return None\n",
    "\n",
    "confirmed_df[\"country_code\"] = confirmed_df.country_code.apply(convert_iso_alpha_3_to_alpha_2)\n",
    "confirmed_df.dropna(inplace=True)\n",
    "confirmed_df[\"sample_date\"] = pd.to_datetime(confirmed_df.sample_date, dayfirst=True)\n",
    "confirmed_df[\"sample_date\"] = confirmed_df.sample_date.dt.strftime(\"%Y-%m-%d\")\n",
    "confirmed_df.sort_values(\"sample_date\", inplace=True)\n",
    "confirmed_df.tail()"
   ]
  },
  {
   "cell_type": "code",
   "execution_count": 10,
   "metadata": {
    "collapsed": false,
    "execution": {
     "iopub.execute_input": "2020-12-22T23:32:54.622623Z",
     "iopub.status.busy": "2020-12-22T23:32:54.622065Z",
     "iopub.status.idle": "2020-12-22T23:32:54.624269Z",
     "shell.execute_reply": "2020-12-22T23:32:54.623720Z"
    },
    "papermill": {
     "duration": 0.04886,
     "end_time": "2020-12-22T23:32:54.624395",
     "exception": false,
     "start_time": "2020-12-22T23:32:54.575535",
     "status": "completed"
    },
    "pycharm": {
     "name": "#%%\n"
    },
    "tags": []
   },
   "outputs": [],
   "source": [
    "def sort_source_regions_for_display(source_regions: list) -> list:\n",
    "    if report_backend_identifier in source_regions:\n",
    "        source_regions = [report_backend_identifier] + \\\n",
    "            list(sorted(set(source_regions).difference([report_backend_identifier])))\n",
    "    else:\n",
    "        source_regions = list(sorted(source_regions))\n",
    "    return source_regions"
   ]
  },
  {
   "cell_type": "code",
   "execution_count": 11,
   "metadata": {
    "collapsed": false,
    "execution": {
     "iopub.execute_input": "2020-12-22T23:32:54.715671Z",
     "iopub.status.busy": "2020-12-22T23:32:54.715121Z",
     "iopub.status.idle": "2020-12-22T23:32:54.718183Z",
     "shell.execute_reply": "2020-12-22T23:32:54.717702Z"
    },
    "papermill": {
     "duration": 0.050345,
     "end_time": "2020-12-22T23:32:54.718303",
     "exception": false,
     "start_time": "2020-12-22T23:32:54.667958",
     "status": "completed"
    },
    "pycharm": {
     "name": "#%%\n"
    },
    "tags": []
   },
   "outputs": [
    {
     "data": {
      "text/plain": [
       "['ES', 'DE', 'DK', 'HR', 'IE', 'IT', 'LV', 'NL', 'PL']"
      ]
     },
     "execution_count": 11,
     "metadata": {},
     "output_type": "execute_result"
    }
   ],
   "source": [
    "report_source_regions = report_backend_client.source_regions_for_date(\n",
    "    date=extraction_datetime.date())\n",
    "report_source_regions = sort_source_regions_for_display(\n",
    "    source_regions=report_source_regions)\n",
    "report_source_regions"
   ]
  },
  {
   "cell_type": "code",
   "execution_count": 12,
   "metadata": {
    "collapsed": false,
    "execution": {
     "iopub.execute_input": "2020-12-22T23:32:54.813455Z",
     "iopub.status.busy": "2020-12-22T23:32:54.812887Z",
     "iopub.status.idle": "2020-12-22T23:32:54.816855Z",
     "shell.execute_reply": "2020-12-22T23:32:54.817321Z"
    },
    "papermill": {
     "duration": 0.058488,
     "end_time": "2020-12-22T23:32:54.817476",
     "exception": false,
     "start_time": "2020-12-22T23:32:54.758988",
     "status": "completed"
    },
    "pycharm": {
     "name": "#%%\n"
    },
    "tags": []
   },
   "outputs": [
    {
     "data": {
      "text/html": [
       "<div>\n",
       "<style scoped>\n",
       "    .dataframe tbody tr th:only-of-type {\n",
       "        vertical-align: middle;\n",
       "    }\n",
       "\n",
       "    .dataframe tbody tr th {\n",
       "        vertical-align: top;\n",
       "    }\n",
       "\n",
       "    .dataframe thead th {\n",
       "        text-align: right;\n",
       "    }\n",
       "</style>\n",
       "<table border=\"1\" class=\"dataframe\">\n",
       "  <thead>\n",
       "    <tr style=\"text-align: right;\">\n",
       "      <th></th>\n",
       "      <th>sample_date</th>\n",
       "      <th>sample_date_string</th>\n",
       "    </tr>\n",
       "  </thead>\n",
       "  <tbody>\n",
       "    <tr>\n",
       "      <th>330</th>\n",
       "      <td>2020-12-18</td>\n",
       "      <td>2020-12-18</td>\n",
       "    </tr>\n",
       "    <tr>\n",
       "      <th>331</th>\n",
       "      <td>2020-12-19</td>\n",
       "      <td>2020-12-19</td>\n",
       "    </tr>\n",
       "    <tr>\n",
       "      <th>332</th>\n",
       "      <td>2020-12-20</td>\n",
       "      <td>2020-12-20</td>\n",
       "    </tr>\n",
       "    <tr>\n",
       "      <th>333</th>\n",
       "      <td>2020-12-21</td>\n",
       "      <td>2020-12-21</td>\n",
       "    </tr>\n",
       "    <tr>\n",
       "      <th>334</th>\n",
       "      <td>2020-12-22</td>\n",
       "      <td>2020-12-22</td>\n",
       "    </tr>\n",
       "  </tbody>\n",
       "</table>\n",
       "</div>"
      ],
      "text/plain": [
       "    sample_date sample_date_string\n",
       "330  2020-12-18         2020-12-18\n",
       "331  2020-12-19         2020-12-19\n",
       "332  2020-12-20         2020-12-20\n",
       "333  2020-12-21         2020-12-21\n",
       "334  2020-12-22         2020-12-22"
      ]
     },
     "execution_count": 12,
     "metadata": {},
     "output_type": "execute_result"
    }
   ],
   "source": [
    "confirmed_days = pd.date_range(\n",
    "    start=confirmed_df.iloc[0].sample_date,\n",
    "    end=extraction_datetime)\n",
    "confirmed_days_df = pd.DataFrame(data=confirmed_days, columns=[\"sample_date\"])\n",
    "confirmed_days_df[\"sample_date_string\"] = \\\n",
    "    confirmed_days_df.sample_date.dt.strftime(\"%Y-%m-%d\")\n",
    "confirmed_days_df.tail()"
   ]
  },
  {
   "cell_type": "code",
   "execution_count": 13,
   "metadata": {
    "collapsed": false,
    "execution": {
     "iopub.execute_input": "2020-12-22T23:32:54.918715Z",
     "iopub.status.busy": "2020-12-22T23:32:54.918175Z",
     "iopub.status.idle": "2020-12-22T23:32:54.920706Z",
     "shell.execute_reply": "2020-12-22T23:32:54.921144Z"
    },
    "papermill": {
     "duration": 0.06352,
     "end_time": "2020-12-22T23:32:54.921297",
     "exception": false,
     "start_time": "2020-12-22T23:32:54.857777",
     "status": "completed"
    },
    "pycharm": {
     "name": "#%%\n"
    },
    "tags": []
   },
   "outputs": [
    {
     "data": {
      "text/html": [
       "<div>\n",
       "<style scoped>\n",
       "    .dataframe tbody tr th:only-of-type {\n",
       "        vertical-align: middle;\n",
       "    }\n",
       "\n",
       "    .dataframe tbody tr th {\n",
       "        vertical-align: top;\n",
       "    }\n",
       "\n",
       "    .dataframe thead th {\n",
       "        text-align: right;\n",
       "    }\n",
       "</style>\n",
       "<table border=\"1\" class=\"dataframe\">\n",
       "  <thead>\n",
       "    <tr style=\"text-align: right;\">\n",
       "      <th></th>\n",
       "      <th>sample_date</th>\n",
       "      <th>sample_date_string</th>\n",
       "      <th>source_regions_at_date</th>\n",
       "      <th>_source_regions_group</th>\n",
       "    </tr>\n",
       "  </thead>\n",
       "  <tbody>\n",
       "    <tr>\n",
       "      <th>330</th>\n",
       "      <td>2020-12-18</td>\n",
       "      <td>2020-12-18</td>\n",
       "      <td>{PL, DE, IE, HR, LV, NL, ES, IT, DK}</td>\n",
       "      <td>ES,DE,DK,HR,IE,IT,LV,NL,PL</td>\n",
       "    </tr>\n",
       "    <tr>\n",
       "      <th>331</th>\n",
       "      <td>2020-12-19</td>\n",
       "      <td>2020-12-19</td>\n",
       "      <td>{PL, DE, IE, HR, LV, NL, ES, IT, DK}</td>\n",
       "      <td>ES,DE,DK,HR,IE,IT,LV,NL,PL</td>\n",
       "    </tr>\n",
       "    <tr>\n",
       "      <th>332</th>\n",
       "      <td>2020-12-20</td>\n",
       "      <td>2020-12-20</td>\n",
       "      <td>{PL, DE, IE, HR, LV, NL, ES, IT, DK}</td>\n",
       "      <td>ES,DE,DK,HR,IE,IT,LV,NL,PL</td>\n",
       "    </tr>\n",
       "    <tr>\n",
       "      <th>333</th>\n",
       "      <td>2020-12-21</td>\n",
       "      <td>2020-12-21</td>\n",
       "      <td>{PL, DE, IE, HR, LV, NL, ES, IT, DK}</td>\n",
       "      <td>ES,DE,DK,HR,IE,IT,LV,NL,PL</td>\n",
       "    </tr>\n",
       "    <tr>\n",
       "      <th>334</th>\n",
       "      <td>2020-12-22</td>\n",
       "      <td>2020-12-22</td>\n",
       "      <td>{PL, DE, IE, HR, LV, NL, ES, IT, DK}</td>\n",
       "      <td>ES,DE,DK,HR,IE,IT,LV,NL,PL</td>\n",
       "    </tr>\n",
       "  </tbody>\n",
       "</table>\n",
       "</div>"
      ],
      "text/plain": [
       "    sample_date sample_date_string                source_regions_at_date  \\\n",
       "330  2020-12-18         2020-12-18  {PL, DE, IE, HR, LV, NL, ES, IT, DK}   \n",
       "331  2020-12-19         2020-12-19  {PL, DE, IE, HR, LV, NL, ES, IT, DK}   \n",
       "332  2020-12-20         2020-12-20  {PL, DE, IE, HR, LV, NL, ES, IT, DK}   \n",
       "333  2020-12-21         2020-12-21  {PL, DE, IE, HR, LV, NL, ES, IT, DK}   \n",
       "334  2020-12-22         2020-12-22  {PL, DE, IE, HR, LV, NL, ES, IT, DK}   \n",
       "\n",
       "          _source_regions_group  \n",
       "330  ES,DE,DK,HR,IE,IT,LV,NL,PL  \n",
       "331  ES,DE,DK,HR,IE,IT,LV,NL,PL  \n",
       "332  ES,DE,DK,HR,IE,IT,LV,NL,PL  \n",
       "333  ES,DE,DK,HR,IE,IT,LV,NL,PL  \n",
       "334  ES,DE,DK,HR,IE,IT,LV,NL,PL  "
      ]
     },
     "execution_count": 13,
     "metadata": {},
     "output_type": "execute_result"
    }
   ],
   "source": [
    "source_regions_at_date_df = confirmed_days_df.copy()\n",
    "source_regions_at_date_df[\"source_regions_at_date\"] = \\\n",
    "    source_regions_at_date_df.sample_date.apply(\n",
    "        lambda x: report_backend_client.source_regions_for_date(date=x))\n",
    "source_regions_at_date_df.sort_values(\"sample_date\", inplace=True)\n",
    "source_regions_at_date_df[\"_source_regions_group\"] = source_regions_at_date_df. \\\n",
    "    source_regions_at_date.apply(lambda x: \",\".join(sort_source_regions_for_display(x)))\n",
    "source_regions_at_date_df.tail()"
   ]
  },
  {
   "cell_type": "code",
   "execution_count": 14,
   "metadata": {
    "collapsed": false,
    "execution": {
     "iopub.execute_input": "2020-12-22T23:32:55.024703Z",
     "iopub.status.busy": "2020-12-22T23:32:55.024107Z",
     "iopub.status.idle": "2020-12-22T23:32:55.028666Z",
     "shell.execute_reply": "2020-12-22T23:32:55.029145Z"
    },
    "papermill": {
     "duration": 0.064017,
     "end_time": "2020-12-22T23:32:55.029313",
     "exception": false,
     "start_time": "2020-12-22T23:32:54.965296",
     "status": "completed"
    },
    "pycharm": {
     "name": "#%%\n"
    },
    "tags": []
   },
   "outputs": [
    {
     "data": {
      "text/html": [
       "<div>\n",
       "<style scoped>\n",
       "    .dataframe tbody tr th:only-of-type {\n",
       "        vertical-align: middle;\n",
       "    }\n",
       "\n",
       "    .dataframe tbody tr th {\n",
       "        vertical-align: top;\n",
       "    }\n",
       "\n",
       "    .dataframe thead th {\n",
       "        text-align: right;\n",
       "    }\n",
       "</style>\n",
       "<table border=\"1\" class=\"dataframe\">\n",
       "  <thead>\n",
       "    <tr style=\"text-align: right;\">\n",
       "      <th></th>\n",
       "      <th>sample_date</th>\n",
       "      <th>source_regions</th>\n",
       "    </tr>\n",
       "  </thead>\n",
       "  <tbody>\n",
       "    <tr>\n",
       "      <th>330</th>\n",
       "      <td>2020-12-18</td>\n",
       "      <td>ES,DE,DK,HR,IE,IT,LV,NL,PL</td>\n",
       "    </tr>\n",
       "    <tr>\n",
       "      <th>331</th>\n",
       "      <td>2020-12-19</td>\n",
       "      <td>ES,DE,DK,HR,IE,IT,LV,NL,PL</td>\n",
       "    </tr>\n",
       "    <tr>\n",
       "      <th>332</th>\n",
       "      <td>2020-12-20</td>\n",
       "      <td>ES,DE,DK,HR,IE,IT,LV,NL,PL</td>\n",
       "    </tr>\n",
       "    <tr>\n",
       "      <th>333</th>\n",
       "      <td>2020-12-21</td>\n",
       "      <td>ES,DE,DK,HR,IE,IT,LV,NL,PL</td>\n",
       "    </tr>\n",
       "    <tr>\n",
       "      <th>334</th>\n",
       "      <td>2020-12-22</td>\n",
       "      <td>ES,DE,DK,HR,IE,IT,LV,NL,PL</td>\n",
       "    </tr>\n",
       "  </tbody>\n",
       "</table>\n",
       "</div>"
      ],
      "text/plain": [
       "    sample_date              source_regions\n",
       "330  2020-12-18  ES,DE,DK,HR,IE,IT,LV,NL,PL\n",
       "331  2020-12-19  ES,DE,DK,HR,IE,IT,LV,NL,PL\n",
       "332  2020-12-20  ES,DE,DK,HR,IE,IT,LV,NL,PL\n",
       "333  2020-12-21  ES,DE,DK,HR,IE,IT,LV,NL,PL\n",
       "334  2020-12-22  ES,DE,DK,HR,IE,IT,LV,NL,PL"
      ]
     },
     "execution_count": 14,
     "metadata": {},
     "output_type": "execute_result"
    }
   ],
   "source": [
    "source_regions_for_summary_df = \\\n",
    "    source_regions_at_date_df[[\"sample_date\", \"_source_regions_group\"]].copy()\n",
    "source_regions_for_summary_df.rename(columns={\"_source_regions_group\": \"source_regions\"}, inplace=True)\n",
    "source_regions_for_summary_df.tail()"
   ]
  },
  {
   "cell_type": "code",
   "execution_count": 15,
   "metadata": {
    "collapsed": false,
    "execution": {
     "iopub.execute_input": "2020-12-22T23:32:55.141281Z",
     "iopub.status.busy": "2020-12-22T23:32:55.129532Z",
     "iopub.status.idle": "2020-12-22T23:32:55.220027Z",
     "shell.execute_reply": "2020-12-22T23:32:55.220771Z"
    },
    "papermill": {
     "duration": 0.148799,
     "end_time": "2020-12-22T23:32:55.221031",
     "exception": false,
     "start_time": "2020-12-22T23:32:55.072232",
     "status": "completed"
    },
    "pycharm": {
     "name": "#%%\n"
    },
    "tags": []
   },
   "outputs": [
    {
     "data": {
      "text/html": [
       "<div>\n",
       "<style scoped>\n",
       "    .dataframe tbody tr th:only-of-type {\n",
       "        vertical-align: middle;\n",
       "    }\n",
       "\n",
       "    .dataframe tbody tr th {\n",
       "        vertical-align: top;\n",
       "    }\n",
       "\n",
       "    .dataframe thead th {\n",
       "        text-align: right;\n",
       "    }\n",
       "</style>\n",
       "<table border=\"1\" class=\"dataframe\">\n",
       "  <thead>\n",
       "    <tr style=\"text-align: right;\">\n",
       "      <th></th>\n",
       "      <th>sample_date</th>\n",
       "      <th>new_cases</th>\n",
       "      <th>covid_cases</th>\n",
       "    </tr>\n",
       "  </thead>\n",
       "  <tbody>\n",
       "    <tr>\n",
       "      <th>282</th>\n",
       "      <td>2020-11-04</td>\n",
       "      <td>87818.0</td>\n",
       "      <td>69023.0</td>\n",
       "    </tr>\n",
       "    <tr>\n",
       "      <th>283</th>\n",
       "      <td>2020-11-05</td>\n",
       "      <td>79901.0</td>\n",
       "      <td>70401.0</td>\n",
       "    </tr>\n",
       "    <tr>\n",
       "      <th>284</th>\n",
       "      <td>2020-11-06</td>\n",
       "      <td>83987.0</td>\n",
       "      <td>71385.0</td>\n",
       "    </tr>\n",
       "    <tr>\n",
       "      <th>285</th>\n",
       "      <td>2020-11-07</td>\n",
       "      <td>54652.0</td>\n",
       "      <td>72560.0</td>\n",
       "    </tr>\n",
       "    <tr>\n",
       "      <th>286</th>\n",
       "      <td>2020-11-08</td>\n",
       "      <td>47878.0</td>\n",
       "      <td>73222.0</td>\n",
       "    </tr>\n",
       "  </tbody>\n",
       "</table>\n",
       "</div>"
      ],
      "text/plain": [
       "    sample_date  new_cases  covid_cases\n",
       "282  2020-11-04    87818.0      69023.0\n",
       "283  2020-11-05    79901.0      70401.0\n",
       "284  2020-11-06    83987.0      71385.0\n",
       "285  2020-11-07    54652.0      72560.0\n",
       "286  2020-11-08    47878.0      73222.0"
      ]
     },
     "execution_count": 15,
     "metadata": {},
     "output_type": "execute_result"
    }
   ],
   "source": [
    "confirmed_output_columns = [\"sample_date\", \"new_cases\", \"covid_cases\"]\n",
    "confirmed_output_df = pd.DataFrame(columns=confirmed_output_columns)\n",
    "\n",
    "for source_regions_group, source_regions_group_series in \\\n",
    "        source_regions_at_date_df.groupby(\"_source_regions_group\"):\n",
    "    source_regions_set = set(source_regions_group.split(\",\"))\n",
    "    confirmed_source_regions_set_df = \\\n",
    "        confirmed_df[confirmed_df.country_code.isin(source_regions_set)].copy()\n",
    "    confirmed_source_regions_group_df = \\\n",
    "        confirmed_source_regions_set_df.groupby(\"sample_date\").new_cases.sum() \\\n",
    "            .reset_index().sort_values(\"sample_date\")\n",
    "    confirmed_source_regions_group_df[\"covid_cases\"] = \\\n",
    "        confirmed_source_regions_group_df.new_cases.rolling(7, min_periods=0).mean().round()\n",
    "    confirmed_source_regions_group_df = \\\n",
    "        confirmed_source_regions_group_df[confirmed_output_columns]\n",
    "    confirmed_source_regions_group_df.fillna(method=\"ffill\", inplace=True)\n",
    "    confirmed_source_regions_group_df = \\\n",
    "        confirmed_source_regions_group_df[\n",
    "            confirmed_source_regions_group_df.sample_date.isin(\n",
    "                source_regions_group_series.sample_date_string)]\n",
    "    confirmed_output_df = confirmed_output_df.append(confirmed_source_regions_group_df)\n",
    "\n",
    "confirmed_df = confirmed_output_df.copy()\n",
    "confirmed_df.tail()"
   ]
  },
  {
   "cell_type": "code",
   "execution_count": 16,
   "metadata": {
    "collapsed": false,
    "execution": {
     "iopub.execute_input": "2020-12-22T23:32:55.801072Z",
     "iopub.status.busy": "2020-12-22T23:32:55.793429Z",
     "iopub.status.idle": "2020-12-22T23:32:55.803534Z",
     "shell.execute_reply": "2020-12-22T23:32:55.803942Z"
    },
    "papermill": {
     "duration": 0.317945,
     "end_time": "2020-12-22T23:32:55.804127",
     "exception": false,
     "start_time": "2020-12-22T23:32:55.486182",
     "status": "completed"
    },
    "pycharm": {
     "name": "#%%\n"
    },
    "tags": []
   },
   "outputs": [
    {
     "data": {
      "text/html": [
       "<div>\n",
       "<style scoped>\n",
       "    .dataframe tbody tr th:only-of-type {\n",
       "        vertical-align: middle;\n",
       "    }\n",
       "\n",
       "    .dataframe tbody tr th {\n",
       "        vertical-align: top;\n",
       "    }\n",
       "\n",
       "    .dataframe thead th {\n",
       "        text-align: right;\n",
       "    }\n",
       "</style>\n",
       "<table border=\"1\" class=\"dataframe\">\n",
       "  <thead>\n",
       "    <tr style=\"text-align: right;\">\n",
       "      <th></th>\n",
       "      <th>sample_date_string</th>\n",
       "      <th>new_cases</th>\n",
       "      <th>covid_cases</th>\n",
       "    </tr>\n",
       "  </thead>\n",
       "  <tbody>\n",
       "    <tr>\n",
       "      <th>330</th>\n",
       "      <td>2020-12-18</td>\n",
       "      <td>92328.0</td>\n",
       "      <td>78240.0</td>\n",
       "    </tr>\n",
       "    <tr>\n",
       "      <th>331</th>\n",
       "      <td>2020-12-19</td>\n",
       "      <td>68947.0</td>\n",
       "      <td>77951.0</td>\n",
       "    </tr>\n",
       "    <tr>\n",
       "      <th>332</th>\n",
       "      <td>2020-12-20</td>\n",
       "      <td>49427.0</td>\n",
       "      <td>76637.0</td>\n",
       "    </tr>\n",
       "    <tr>\n",
       "      <th>333</th>\n",
       "      <td>2020-12-21</td>\n",
       "      <td>73080.0</td>\n",
       "      <td>78722.0</td>\n",
       "    </tr>\n",
       "    <tr>\n",
       "      <th>334</th>\n",
       "      <td>2020-12-22</td>\n",
       "      <td>73080.0</td>\n",
       "      <td>78722.0</td>\n",
       "    </tr>\n",
       "  </tbody>\n",
       "</table>\n",
       "</div>"
      ],
      "text/plain": [
       "    sample_date_string  new_cases  covid_cases\n",
       "330         2020-12-18    92328.0      78240.0\n",
       "331         2020-12-19    68947.0      77951.0\n",
       "332         2020-12-20    49427.0      76637.0\n",
       "333         2020-12-21    73080.0      78722.0\n",
       "334         2020-12-22    73080.0      78722.0"
      ]
     },
     "execution_count": 16,
     "metadata": {},
     "output_type": "execute_result"
    }
   ],
   "source": [
    "confirmed_df.rename(columns={\"sample_date\": \"sample_date_string\"}, inplace=True)\n",
    "confirmed_df = confirmed_days_df[[\"sample_date_string\"]].merge(confirmed_df, how=\"left\")\n",
    "confirmed_df.sort_values(\"sample_date_string\", inplace=True)\n",
    "confirmed_df.fillna(method=\"ffill\", inplace=True)\n",
    "confirmed_df.tail()"
   ]
  },
  {
   "cell_type": "code",
   "execution_count": 17,
   "metadata": {
    "collapsed": false,
    "execution": {
     "iopub.execute_input": "2020-12-22T23:32:56.667212Z",
     "iopub.status.busy": "2020-12-22T23:32:56.666665Z",
     "iopub.status.idle": "2020-12-22T23:32:56.880742Z",
     "shell.execute_reply": "2020-12-22T23:32:56.880279Z"
    },
    "papermill": {
     "duration": 0.438099,
     "end_time": "2020-12-22T23:32:56.880887",
     "exception": false,
     "start_time": "2020-12-22T23:32:56.442788",
     "status": "completed"
    },
    "pycharm": {
     "name": "#%%\n"
    },
    "tags": []
   },
   "outputs": [
    {
     "data": {
      "text/plain": [
       "<AxesSubplot:>"
      ]
     },
     "execution_count": 17,
     "metadata": {},
     "output_type": "execute_result"
    },
    {
     "data": {
      "image/png": "[encoded data removed]",
      "text/plain": [
       "<Figure size 1080x432 with 1 Axes>"
      ]
     },
     "metadata": {},
     "output_type": "display_data"
    }
   ],
   "source": [
    "confirmed_df[[\"new_cases\", \"covid_cases\"]].plot()"
   ]
  },
  {
   "cell_type": "markdown",
   "metadata": {
    "execution": {
     "iopub.execute_input": "2020-08-30T22:30:16.351238Z",
     "iopub.status.busy": "2020-08-30T22:30:16.344579Z",
     "iopub.status.idle": "2020-08-30T22:30:16.354285Z",
     "shell.execute_reply": "2020-08-30T22:30:16.353641Z"
    },
    "papermill": {
     "duration": 0.342288,
     "end_time": "2020-12-22T23:32:57.738630",
     "exception": false,
     "start_time": "2020-12-22T23:32:57.396342",
     "status": "completed"
    },
    "pycharm": {
     "name": "#%% md\n"
    },
    "tags": []
   },
   "source": [
    "### Extract API TEKs"
   ]
  },
  {
   "cell_type": "code",
   "execution_count": 18,
   "metadata": {
    "execution": {
     "iopub.execute_input": "2020-12-22T23:32:58.036740Z",
     "iopub.status.busy": "2020-12-22T23:32:58.036155Z",
     "iopub.status.idle": "2020-12-22T23:34:05.203038Z",
     "shell.execute_reply": "2020-12-22T23:34:05.206695Z"
    },
    "papermill": {
     "duration": 67.222865,
     "end_time": "2020-12-22T23:34:05.206965",
     "exception": false,
     "start_time": "2020-12-22T23:32:57.984100",
     "status": "completed"
    },
    "pycharm": {
     "name": "#%%\n"
    },
    "tags": []
   },
   "outputs": [
    {
     "name": "stderr",
     "output_type": "stream",
     "text": [
      "WARNING:root:NoKeysFoundException(\"No exposure keys found on endpoint 'https://stayaway.incm.pt/v1/gaen/exposed/1608595200000' (parameters: {'generation_date': '2020-12-22', 'endpoint_identifier_components': ['2020-12-22'], 'backend_identifier': 'PT', 'server_endpoint_url': 'https://stayaway.incm.pt'}).\")\n"
     ]
    },
    {
     "name": "stderr",
     "output_type": "stream",
     "text": [
      "WARNING:root:NoKeysFoundException(\"No exposure keys found on endpoint 'https://enapi.sm.ee/authorization/v1/gaen/exposed/1608595200000' (parameters: {'generation_date': '2020-12-22', 'endpoint_identifier_components': ['2020-12-22'], 'backend_identifier': 'EE', 'server_endpoint_url': 'https://enapi.sm.ee/authorization'}).\")\n"
     ]
    },
    {
     "name": "stderr",
     "output_type": "stream",
     "text": [
      "WARNING:root:NoKeysFoundException(\"No exposure keys found on endpoint 'https://mt-dpppt-ws.azurewebsites.net/v1/gaen/exposed/1608595200000' (parameters: {'generation_date': '2020-12-22', 'endpoint_identifier_components': ['2020-12-22'], 'backend_identifier': 'MT', 'server_endpoint_url': 'https://mt-dpppt-ws.azurewebsites.net'}).\")\n"
     ]
    },
    {
     "data": {
      "text/html": [
       "<div>\n",
       "<style scoped>\n",
       "    .dataframe tbody tr th:only-of-type {\n",
       "        vertical-align: middle;\n",
       "    }\n",
       "\n",
       "    .dataframe tbody tr th {\n",
       "        vertical-align: top;\n",
       "    }\n",
       "\n",
       "    .dataframe thead th {\n",
       "        text-align: right;\n",
       "    }\n",
       "</style>\n",
       "<table border=\"1\" class=\"dataframe\">\n",
       "  <thead>\n",
       "    <tr style=\"text-align: right;\">\n",
       "      <th></th>\n",
       "      <th>sample_datetime</th>\n",
       "      <th>sample_date_string</th>\n",
       "      <th>region</th>\n",
       "      <th>verification_key_version</th>\n",
       "      <th>verification_key_id</th>\n",
       "      <th>signature_algorithm</th>\n",
       "      <th>key_data</th>\n",
       "      <th>rolling_start_interval_number</th>\n",
       "      <th>rolling_period</th>\n",
       "      <th>transmission_risk_level</th>\n",
       "      <th>backend_identifier</th>\n",
       "    </tr>\n",
       "  </thead>\n",
       "  <tbody>\n",
       "    <tr>\n",
       "      <th>0</th>\n",
       "      <td>2020-12-22</td>\n",
       "      <td>2020-12-22</td>\n",
       "      <td>ES</td>\n",
       "      <td>V1</td>\n",
       "      <td>214</td>\n",
       "      <td>1.2.840.10045.4.3.2</td>\n",
       "      <td>f474b208-5ccf-a9b6-404b-fbf3266901dd</td>\n",
       "      <td>2680992</td>\n",
       "      <td>60</td>\n",
       "      <td>5</td>\n",
       "      <td>ES</td>\n",
       "    </tr>\n",
       "    <tr>\n",
       "      <th>1</th>\n",
       "      <td>2020-12-22</td>\n",
       "      <td>2020-12-22</td>\n",
       "      <td>ES</td>\n",
       "      <td>V1</td>\n",
       "      <td>214</td>\n",
       "      <td>1.2.840.10045.4.3.2</td>\n",
       "      <td>c4a4eb48-0a0a-cf1d-6902-7e276a292ee8</td>\n",
       "      <td>2680992</td>\n",
       "      <td>72</td>\n",
       "      <td>5</td>\n",
       "      <td>ES</td>\n",
       "    </tr>\n",
       "    <tr>\n",
       "      <th>2</th>\n",
       "      <td>2020-12-22</td>\n",
       "      <td>2020-12-22</td>\n",
       "      <td>ES</td>\n",
       "      <td>V1</td>\n",
       "      <td>214</td>\n",
       "      <td>1.2.840.10045.4.3.2</td>\n",
       "      <td>26814d78-9621-3a3b-c70d-69eebd5c04b0</td>\n",
       "      <td>2680992</td>\n",
       "      <td>64</td>\n",
       "      <td>5</td>\n",
       "      <td>ES</td>\n",
       "    </tr>\n",
       "    <tr>\n",
       "      <th>3</th>\n",
       "      <td>2020-12-22</td>\n",
       "      <td>2020-12-22</td>\n",
       "      <td>ES</td>\n",
       "      <td>V1</td>\n",
       "      <td>214</td>\n",
       "      <td>1.2.840.10045.4.3.2</td>\n",
       "      <td>0a3f63e7-b66e-e57e-6ef4-13394faaa9fc</td>\n",
       "      <td>2680992</td>\n",
       "      <td>50</td>\n",
       "      <td>3</td>\n",
       "      <td>ES</td>\n",
       "    </tr>\n",
       "    <tr>\n",
       "      <th>4</th>\n",
       "      <td>2020-12-22</td>\n",
       "      <td>2020-12-22</td>\n",
       "      <td>ES</td>\n",
       "      <td>V1</td>\n",
       "      <td>214</td>\n",
       "      <td>1.2.840.10045.4.3.2</td>\n",
       "      <td>97d1d667-0baa-cd7f-9984-5d0d9ce3a5a6</td>\n",
       "      <td>2680992</td>\n",
       "      <td>69</td>\n",
       "      <td>5</td>\n",
       "      <td>ES</td>\n",
       "    </tr>\n",
       "  </tbody>\n",
       "</table>\n",
       "</div>"
      ],
      "text/plain": [
       "  sample_datetime sample_date_string region verification_key_version  \\\n",
       "0      2020-12-22         2020-12-22     ES                       V1   \n",
       "1      2020-12-22         2020-12-22     ES                       V1   \n",
       "2      2020-12-22         2020-12-22     ES                       V1   \n",
       "3      2020-12-22         2020-12-22     ES                       V1   \n",
       "4      2020-12-22         2020-12-22     ES                       V1   \n",
       "\n",
       "  verification_key_id  signature_algorithm  \\\n",
       "0                 214  1.2.840.10045.4.3.2   \n",
       "1                 214  1.2.840.10045.4.3.2   \n",
       "2                 214  1.2.840.10045.4.3.2   \n",
       "3                 214  1.2.840.10045.4.3.2   \n",
       "4                 214  1.2.840.10045.4.3.2   \n",
       "\n",
       "                               key_data  rolling_start_interval_number  \\\n",
       "0  f474b208-5ccf-a9b6-404b-fbf3266901dd                        2680992   \n",
       "1  c4a4eb48-0a0a-cf1d-6902-7e276a292ee8                        2680992   \n",
       "2  26814d78-9621-3a3b-c70d-69eebd5c04b0                        2680992   \n",
       "3  0a3f63e7-b66e-e57e-6ef4-13394faaa9fc                        2680992   \n",
       "4  97d1d667-0baa-cd7f-9984-5d0d9ce3a5a6                        2680992   \n",
       "\n",
       "   rolling_period  transmission_risk_level backend_identifier  \n",
       "0              60                        5                 ES  \n",
       "1              72                        5                 ES  \n",
       "2              64                        5                 ES  \n",
       "3              50                        3                 ES  \n",
       "4              69                        5                 ES  "
      ]
     },
     "execution_count": 18,
     "metadata": {},
     "output_type": "execute_result"
    }
   ],
   "source": [
    "raw_zip_path_prefix = \"Data/TEKs/Raw/\"\n",
    "fail_on_error_backend_identifiers = [report_backend_identifier]\n",
    "multi_backend_exposure_keys_df = \\\n",
    "    exposure_notification_io.download_exposure_keys_from_backends(\n",
    "        backend_identifiers=report_backend_identifiers,\n",
    "        generation_days=backend_generation_days,\n",
    "        fail_on_error_backend_identifiers=fail_on_error_backend_identifiers,\n",
    "        save_raw_zip_path_prefix=raw_zip_path_prefix)\n",
    "multi_backend_exposure_keys_df[\"region\"] = multi_backend_exposure_keys_df[\"backend_identifier\"]\n",
    "multi_backend_exposure_keys_df.rename(\n",
    "    columns={\n",
    "        \"generation_datetime\": \"sample_datetime\",\n",
    "        \"generation_date_string\": \"sample_date_string\",\n",
    "    },\n",
    "    inplace=True)\n",
    "multi_backend_exposure_keys_df.head()"
   ]
  },
  {
   "cell_type": "code",
   "execution_count": 19,
   "metadata": {
    "collapsed": false,
    "execution": {
     "iopub.execute_input": "2020-12-22T23:34:05.306328Z",
     "iopub.status.busy": "2020-12-22T23:34:05.305592Z",
     "iopub.status.idle": "2020-12-22T23:34:05.607694Z",
     "shell.execute_reply": "2020-12-22T23:34:05.607205Z"
    },
    "papermill": {
     "duration": 0.353777,
     "end_time": "2020-12-22T23:34:05.607827",
     "exception": false,
     "start_time": "2020-12-22T23:34:05.254050",
     "status": "completed"
    },
    "pycharm": {
     "name": "#%%\n"
    },
    "tags": []
   },
   "outputs": [
    {
     "data": {
      "text/plain": [
       "<AxesSubplot:>"
      ]
     },
     "execution_count": 19,
     "metadata": {},
     "output_type": "execute_result"
    },
    {
     "data": {
      "image/png": "[encoded data removed]",
      "text/plain": [
       "<Figure size 1080x432 with 1 Axes>"
      ]
     },
     "metadata": {},
     "output_type": "display_data"
    }
   ],
   "source": [
    "early_teks_df = multi_backend_exposure_keys_df[\n",
    "    multi_backend_exposure_keys_df.rolling_period < 144].copy()\n",
    "early_teks_df[\"rolling_period_in_hours\"] = early_teks_df.rolling_period / 6\n",
    "early_teks_df[early_teks_df.sample_date_string != extraction_date] \\\n",
    "    .rolling_period_in_hours.hist(bins=list(range(24)))"
   ]
  },
  {
   "cell_type": "code",
   "execution_count": 20,
   "metadata": {
    "collapsed": false,
    "execution": {
     "iopub.execute_input": "2020-12-22T23:34:05.715956Z",
     "iopub.status.busy": "2020-12-22T23:34:05.715364Z",
     "iopub.status.idle": "2020-12-22T23:34:05.928812Z",
     "shell.execute_reply": "2020-12-22T23:34:05.928335Z"
    },
    "papermill": {
     "duration": 0.270487,
     "end_time": "2020-12-22T23:34:05.928951",
     "exception": false,
     "start_time": "2020-12-22T23:34:05.658464",
     "status": "completed"
    },
    "pycharm": {
     "name": "#%%\n"
    },
    "tags": []
   },
   "outputs": [
    {
     "data": {
      "text/plain": [
       "<AxesSubplot:>"
      ]
     },
     "execution_count": 20,
     "metadata": {},
     "output_type": "execute_result"
    },
    {
     "data": {
      "image/png": "[encoded data removed]",
      "text/plain": [
       "<Figure size 1080x432 with 1 Axes>"
      ]
     },
     "metadata": {},
     "output_type": "display_data"
    }
   ],
   "source": [
    "early_teks_df[early_teks_df.sample_date_string == extraction_date] \\\n",
    "    .rolling_period_in_hours.hist(bins=list(range(24)))"
   ]
  },
  {
   "cell_type": "code",
   "execution_count": 21,
   "metadata": {
    "collapsed": false,
    "execution": {
     "iopub.execute_input": "2020-12-22T23:34:06.034249Z",
     "iopub.status.busy": "2020-12-22T23:34:06.033595Z",
     "iopub.status.idle": "2020-12-22T23:34:06.074866Z",
     "shell.execute_reply": "2020-12-22T23:34:06.075308Z"
    },
    "papermill": {
     "duration": 0.097758,
     "end_time": "2020-12-22T23:34:06.075458",
     "exception": false,
     "start_time": "2020-12-22T23:34:05.977700",
     "status": "completed"
    },
    "pycharm": {
     "name": "#%%\n"
    },
    "tags": []
   },
   "outputs": [
    {
     "data": {
      "text/html": [
       "<div>\n",
       "<style scoped>\n",
       "    .dataframe tbody tr th:only-of-type {\n",
       "        vertical-align: middle;\n",
       "    }\n",
       "\n",
       "    .dataframe tbody tr th {\n",
       "        vertical-align: top;\n",
       "    }\n",
       "\n",
       "    .dataframe thead th {\n",
       "        text-align: right;\n",
       "    }\n",
       "</style>\n",
       "<table border=\"1\" class=\"dataframe\">\n",
       "  <thead>\n",
       "    <tr style=\"text-align: right;\">\n",
       "      <th></th>\n",
       "      <th>sample_date_string</th>\n",
       "      <th>region</th>\n",
       "      <th>key_data</th>\n",
       "    </tr>\n",
       "  </thead>\n",
       "  <tbody>\n",
       "    <tr>\n",
       "      <th>0</th>\n",
       "      <td>2020-12-22</td>\n",
       "      <td>ES</td>\n",
       "      <td>f474b208-5ccf-a9b6-404b-fbf3266901dd</td>\n",
       "    </tr>\n",
       "    <tr>\n",
       "      <th>1</th>\n",
       "      <td>2020-12-22</td>\n",
       "      <td>ES</td>\n",
       "      <td>c4a4eb48-0a0a-cf1d-6902-7e276a292ee8</td>\n",
       "    </tr>\n",
       "    <tr>\n",
       "      <th>2</th>\n",
       "      <td>2020-12-22</td>\n",
       "      <td>ES</td>\n",
       "      <td>26814d78-9621-3a3b-c70d-69eebd5c04b0</td>\n",
       "    </tr>\n",
       "    <tr>\n",
       "      <th>3</th>\n",
       "      <td>2020-12-22</td>\n",
       "      <td>ES</td>\n",
       "      <td>0a3f63e7-b66e-e57e-6ef4-13394faaa9fc</td>\n",
       "    </tr>\n",
       "    <tr>\n",
       "      <th>4</th>\n",
       "      <td>2020-12-22</td>\n",
       "      <td>ES</td>\n",
       "      <td>97d1d667-0baa-cd7f-9984-5d0d9ce3a5a6</td>\n",
       "    </tr>\n",
       "  </tbody>\n",
       "</table>\n",
       "</div>"
      ],
      "text/plain": [
       "  sample_date_string region                              key_data\n",
       "0         2020-12-22     ES  f474b208-5ccf-a9b6-404b-fbf3266901dd\n",
       "1         2020-12-22     ES  c4a4eb48-0a0a-cf1d-6902-7e276a292ee8\n",
       "2         2020-12-22     ES  26814d78-9621-3a3b-c70d-69eebd5c04b0\n",
       "3         2020-12-22     ES  0a3f63e7-b66e-e57e-6ef4-13394faaa9fc\n",
       "4         2020-12-22     ES  97d1d667-0baa-cd7f-9984-5d0d9ce3a5a6"
      ]
     },
     "execution_count": 21,
     "metadata": {},
     "output_type": "execute_result"
    }
   ],
   "source": [
    "multi_backend_exposure_keys_df = multi_backend_exposure_keys_df[[\n",
    "    \"sample_date_string\", \"region\", \"key_data\"]]\n",
    "multi_backend_exposure_keys_df.head()"
   ]
  },
  {
   "cell_type": "code",
   "execution_count": 22,
   "metadata": {
    "collapsed": false,
    "execution": {
     "iopub.execute_input": "2020-12-22T23:34:06.193560Z",
     "iopub.status.busy": "2020-12-22T23:34:06.192951Z",
     "iopub.status.idle": "2020-12-22T23:34:10.790526Z",
     "shell.execute_reply": "2020-12-22T23:34:10.789591Z"
    },
    "papermill": {
     "duration": 4.664645,
     "end_time": "2020-12-22T23:34:10.790678",
     "exception": false,
     "start_time": "2020-12-22T23:34:06.126033",
     "status": "completed"
    },
    "pycharm": {
     "name": "#%%\n"
    },
    "tags": []
   },
   "outputs": [
    {
     "data": {
      "text/plain": [
       "['PT', 'MT', 'EE', 'CH', 'ES@PRE', 'DE', 'ES']"
      ]
     },
     "execution_count": 22,
     "metadata": {},
     "output_type": "execute_result"
    }
   ],
   "source": [
    "active_regions = \\\n",
    "    multi_backend_exposure_keys_df.groupby(\"region\").key_data.nunique().sort_values().index.unique().tolist()\n",
    "active_regions"
   ]
  },
  {
   "cell_type": "code",
   "execution_count": 23,
   "metadata": {
    "collapsed": false,
    "execution": {
     "iopub.execute_input": "2020-12-22T23:34:10.933413Z",
     "iopub.status.busy": "2020-12-22T23:34:10.932405Z",
     "iopub.status.idle": "2020-12-22T23:34:15.692031Z",
     "shell.execute_reply": "2020-12-22T23:34:15.691559Z"
    },
    "papermill": {
     "duration": 4.854998,
     "end_time": "2020-12-22T23:34:15.692171",
     "exception": false,
     "start_time": "2020-12-22T23:34:10.837173",
     "status": "completed"
    },
    "pycharm": {
     "name": "#%%\n"
    },
    "tags": []
   },
   "outputs": [
    {
     "data": {
      "text/html": [
       "<div>\n",
       "<style scoped>\n",
       "    .dataframe tbody tr th:only-of-type {\n",
       "        vertical-align: middle;\n",
       "    }\n",
       "\n",
       "    .dataframe tbody tr th {\n",
       "        vertical-align: top;\n",
       "    }\n",
       "\n",
       "    .dataframe thead tr th {\n",
       "        text-align: left;\n",
       "    }\n",
       "\n",
       "    .dataframe thead tr:last-of-type th {\n",
       "        text-align: right;\n",
       "    }\n",
       "</style>\n",
       "<table border=\"1\" class=\"dataframe\">\n",
       "  <thead>\n",
       "    <tr>\n",
       "      <th></th>\n",
       "      <th colspan=\"7\" halign=\"left\">shared_teks_by_generation_date</th>\n",
       "    </tr>\n",
       "    <tr>\n",
       "      <th>region</th>\n",
       "      <th>CH</th>\n",
       "      <th>DE</th>\n",
       "      <th>EE</th>\n",
       "      <th>ES</th>\n",
       "      <th>ES@PRE</th>\n",
       "      <th>MT</th>\n",
       "      <th>PT</th>\n",
       "    </tr>\n",
       "    <tr>\n",
       "      <th>sample_date</th>\n",
       "      <th></th>\n",
       "      <th></th>\n",
       "      <th></th>\n",
       "      <th></th>\n",
       "      <th></th>\n",
       "      <th></th>\n",
       "      <th></th>\n",
       "    </tr>\n",
       "  </thead>\n",
       "  <tbody>\n",
       "    <tr>\n",
       "      <th>2020-12-22</th>\n",
       "      <td>568</td>\n",
       "      <td>0</td>\n",
       "      <td>0</td>\n",
       "      <td>1886</td>\n",
       "      <td>100</td>\n",
       "      <td>0</td>\n",
       "      <td>0</td>\n",
       "    </tr>\n",
       "    <tr>\n",
       "      <th>2020-12-21</th>\n",
       "      <td>1103</td>\n",
       "      <td>1801</td>\n",
       "      <td>84</td>\n",
       "      <td>6798</td>\n",
       "      <td>1018</td>\n",
       "      <td>103</td>\n",
       "      <td>23</td>\n",
       "    </tr>\n",
       "    <tr>\n",
       "      <th>2020-12-20</th>\n",
       "      <td>1515</td>\n",
       "      <td>5569</td>\n",
       "      <td>124</td>\n",
       "      <td>9989</td>\n",
       "      <td>1908</td>\n",
       "      <td>102</td>\n",
       "      <td>25</td>\n",
       "    </tr>\n",
       "    <tr>\n",
       "      <th>2020-12-19</th>\n",
       "      <td>1989</td>\n",
       "      <td>8977</td>\n",
       "      <td>153</td>\n",
       "      <td>14128</td>\n",
       "      <td>2794</td>\n",
       "      <td>104</td>\n",
       "      <td>29</td>\n",
       "    </tr>\n",
       "    <tr>\n",
       "      <th>2020-12-18</th>\n",
       "      <td>2330</td>\n",
       "      <td>12290</td>\n",
       "      <td>176</td>\n",
       "      <td>18163</td>\n",
       "      <td>3536</td>\n",
       "      <td>104</td>\n",
       "      <td>34</td>\n",
       "    </tr>\n",
       "  </tbody>\n",
       "</table>\n",
       "</div>"
      ],
      "text/plain": [
       "            shared_teks_by_generation_date                                   \n",
       "region                                  CH     DE   EE     ES ES@PRE   MT  PT\n",
       "sample_date                                                                  \n",
       "2020-12-22                             568      0    0   1886    100    0   0\n",
       "2020-12-21                            1103   1801   84   6798   1018  103  23\n",
       "2020-12-20                            1515   5569  124   9989   1908  102  25\n",
       "2020-12-19                            1989   8977  153  14128   2794  104  29\n",
       "2020-12-18                            2330  12290  176  18163   3536  104  34"
      ]
     },
     "execution_count": 23,
     "metadata": {},
     "output_type": "execute_result"
    }
   ],
   "source": [
    "multi_backend_summary_df = multi_backend_exposure_keys_df.groupby(\n",
    "    [\"sample_date_string\", \"region\"]).key_data.nunique().reset_index() \\\n",
    "    .pivot(index=\"sample_date_string\", columns=\"region\") \\\n",
    "    .sort_index(ascending=False)\n",
    "multi_backend_summary_df.rename(\n",
    "    columns={\"key_data\": \"shared_teks_by_generation_date\"},\n",
    "    inplace=True)\n",
    "multi_backend_summary_df.rename_axis(\"sample_date\", inplace=True)\n",
    "multi_backend_summary_df = multi_backend_summary_df.fillna(0).astype(int)\n",
    "multi_backend_summary_df = multi_backend_summary_df.head(backend_generation_days)\n",
    "multi_backend_summary_df.head()"
   ]
  },
  {
   "cell_type": "code",
   "execution_count": 24,
   "metadata": {
    "collapsed": false,
    "execution": {
     "iopub.execute_input": "2020-12-22T23:34:15.804696Z",
     "iopub.status.busy": "2020-12-22T23:34:15.804108Z",
     "iopub.status.idle": "2020-12-22T23:34:20.209455Z",
     "shell.execute_reply": "2020-12-22T23:34:20.208517Z"
    },
    "papermill": {
     "duration": 4.465366,
     "end_time": "2020-12-22T23:34:20.209597",
     "exception": false,
     "start_time": "2020-12-22T23:34:15.744231",
     "status": "completed"
    },
    "pycharm": {
     "name": "#%%\n"
    },
    "tags": []
   },
   "outputs": [
    {
     "name": "stderr",
     "output_type": "stream",
     "text": [
      "<ipython-input-24-4e21708c19d8>:2: FutureWarning: `item` has been deprecated and will be removed in a future version\n",
      "  teks_x = x.key_data_x.item()\n",
      "<ipython-input-24-4e21708c19d8>:3: FutureWarning: `item` has been deprecated and will be removed in a future version\n",
      "  common_teks = set(teks_x).intersection(x.key_data_y.item())\n"
     ]
    },
    {
     "name": "stderr",
     "output_type": "stream",
     "text": [
      "<ipython-input-24-4e21708c19d8>:33: FutureWarning: `item` has been deprecated and will be removed in a future version\n",
      "  aggfunc=lambda x: x.item())\n"
     ]
    },
    {
     "data": {
      "text/html": [
       "<div>\n",
       "<style scoped>\n",
       "    .dataframe tbody tr th:only-of-type {\n",
       "        vertical-align: middle;\n",
       "    }\n",
       "\n",
       "    .dataframe tbody tr th {\n",
       "        vertical-align: top;\n",
       "    }\n",
       "\n",
       "    .dataframe thead tr th {\n",
       "        text-align: left;\n",
       "    }\n",
       "\n",
       "    .dataframe thead tr:last-of-type th {\n",
       "        text-align: right;\n",
       "    }\n",
       "</style>\n",
       "<table border=\"1\" class=\"dataframe\">\n",
       "  <thead>\n",
       "    <tr>\n",
       "      <th></th>\n",
       "      <th colspan=\"7\" halign=\"left\">common_teks_fraction</th>\n",
       "    </tr>\n",
       "    <tr>\n",
       "      <th>region_x</th>\n",
       "      <th>CH</th>\n",
       "      <th>DE</th>\n",
       "      <th>EE</th>\n",
       "      <th>ES</th>\n",
       "      <th>ES@PRE</th>\n",
       "      <th>MT</th>\n",
       "      <th>PT</th>\n",
       "    </tr>\n",
       "    <tr>\n",
       "      <th>region_y</th>\n",
       "      <th></th>\n",
       "      <th></th>\n",
       "      <th></th>\n",
       "      <th></th>\n",
       "      <th></th>\n",
       "      <th></th>\n",
       "      <th></th>\n",
       "    </tr>\n",
       "  </thead>\n",
       "  <tbody>\n",
       "    <tr>\n",
       "      <th>CH</th>\n",
       "      <td>NaN</td>\n",
       "      <td>0.000035</td>\n",
       "      <td>0.0</td>\n",
       "      <td>0.000025</td>\n",
       "      <td>0.000000</td>\n",
       "      <td>0.0</td>\n",
       "      <td>0.0</td>\n",
       "    </tr>\n",
       "    <tr>\n",
       "      <th>DE</th>\n",
       "      <td>0.000269</td>\n",
       "      <td>NaN</td>\n",
       "      <td>0.0</td>\n",
       "      <td>0.671850</td>\n",
       "      <td>0.000247</td>\n",
       "      <td>0.0</td>\n",
       "      <td>0.0</td>\n",
       "    </tr>\n",
       "    <tr>\n",
       "      <th>EE</th>\n",
       "      <td>0.000000</td>\n",
       "      <td>0.000000</td>\n",
       "      <td>NaN</td>\n",
       "      <td>0.000000</td>\n",
       "      <td>0.000000</td>\n",
       "      <td>0.0</td>\n",
       "      <td>0.0</td>\n",
       "    </tr>\n",
       "    <tr>\n",
       "      <th>ES</th>\n",
       "      <td>0.000269</td>\n",
       "      <td>0.922183</td>\n",
       "      <td>0.0</td>\n",
       "      <td>NaN</td>\n",
       "      <td>0.000247</td>\n",
       "      <td>0.0</td>\n",
       "      <td>0.0</td>\n",
       "    </tr>\n",
       "    <tr>\n",
       "      <th>ES@PRE</th>\n",
       "      <td>0.000000</td>\n",
       "      <td>0.000087</td>\n",
       "      <td>0.0</td>\n",
       "      <td>0.000063</td>\n",
       "      <td>NaN</td>\n",
       "      <td>0.0</td>\n",
       "      <td>0.0</td>\n",
       "    </tr>\n",
       "    <tr>\n",
       "      <th>MT</th>\n",
       "      <td>0.000000</td>\n",
       "      <td>0.000000</td>\n",
       "      <td>0.0</td>\n",
       "      <td>0.000000</td>\n",
       "      <td>0.000000</td>\n",
       "      <td>NaN</td>\n",
       "      <td>0.0</td>\n",
       "    </tr>\n",
       "    <tr>\n",
       "      <th>PT</th>\n",
       "      <td>0.000000</td>\n",
       "      <td>0.000000</td>\n",
       "      <td>0.0</td>\n",
       "      <td>0.000000</td>\n",
       "      <td>0.000000</td>\n",
       "      <td>0.0</td>\n",
       "      <td>NaN</td>\n",
       "    </tr>\n",
       "  </tbody>\n",
       "</table>\n",
       "</div>"
      ],
      "text/plain": [
       "         common_teks_fraction                                             \n",
       "region_x                   CH        DE   EE        ES    ES@PRE   MT   PT\n",
       "region_y                                                                  \n",
       "CH                        NaN  0.000035  0.0  0.000025  0.000000  0.0  0.0\n",
       "DE                   0.000269       NaN  0.0  0.671850  0.000247  0.0  0.0\n",
       "EE                   0.000000  0.000000  NaN  0.000000  0.000000  0.0  0.0\n",
       "ES                   0.000269  0.922183  0.0       NaN  0.000247  0.0  0.0\n",
       "ES@PRE               0.000000  0.000087  0.0  0.000063       NaN  0.0  0.0\n",
       "MT                   0.000000  0.000000  0.0  0.000000  0.000000  NaN  0.0\n",
       "PT                   0.000000  0.000000  0.0  0.000000  0.000000  0.0  NaN"
      ]
     },
     "execution_count": 24,
     "metadata": {},
     "output_type": "execute_result"
    }
   ],
   "source": [
    "def compute_keys_cross_sharing(x):\n",
    "    teks_x = x.key_data_x.item()\n",
    "    common_teks = set(teks_x).intersection(x.key_data_y.item())\n",
    "    common_teks_fraction = len(common_teks) / len(teks_x)\n",
    "    return pd.Series(dict(\n",
    "        common_teks=common_teks,\n",
    "        common_teks_fraction=common_teks_fraction,\n",
    "    ))\n",
    "\n",
    "multi_backend_exposure_keys_by_region_df = \\\n",
    "    multi_backend_exposure_keys_df.groupby(\"region\").key_data.unique().reset_index()\n",
    "multi_backend_exposure_keys_by_region_df[\"_merge\"] = True\n",
    "multi_backend_exposure_keys_by_region_combination_df = \\\n",
    "    multi_backend_exposure_keys_by_region_df.merge(\n",
    "        multi_backend_exposure_keys_by_region_df, on=\"_merge\")\n",
    "multi_backend_exposure_keys_by_region_combination_df.drop(\n",
    "    columns=[\"_merge\"], inplace=True)\n",
    "if multi_backend_exposure_keys_by_region_combination_df.region_x.nunique() > 1:\n",
    "    multi_backend_exposure_keys_by_region_combination_df = \\\n",
    "        multi_backend_exposure_keys_by_region_combination_df[\n",
    "            multi_backend_exposure_keys_by_region_combination_df.region_x !=\n",
    "            multi_backend_exposure_keys_by_region_combination_df.region_y]\n",
    "multi_backend_exposure_keys_cross_sharing_df = \\\n",
    "    multi_backend_exposure_keys_by_region_combination_df \\\n",
    "        .groupby([\"region_x\", \"region_y\"]) \\\n",
    "        .apply(compute_keys_cross_sharing) \\\n",
    "        .reset_index()\n",
    "multi_backend_cross_sharing_summary_df = \\\n",
    "    multi_backend_exposure_keys_cross_sharing_df.pivot_table(\n",
    "        values=[\"common_teks_fraction\"],\n",
    "        columns=\"region_x\",\n",
    "        index=\"region_y\",\n",
    "        aggfunc=lambda x: x.item())\n",
    "multi_backend_cross_sharing_summary_df"
   ]
  },
  {
   "cell_type": "code",
   "execution_count": 25,
   "metadata": {
    "collapsed": false,
    "execution": {
     "iopub.execute_input": "2020-12-22T23:34:20.352896Z",
     "iopub.status.busy": "2020-12-22T23:34:20.351916Z",
     "iopub.status.idle": "2020-12-22T23:34:21.997598Z",
     "shell.execute_reply": "2020-12-22T23:34:21.997091Z"
    },
    "papermill": {
     "duration": 1.739043,
     "end_time": "2020-12-22T23:34:21.997746",
     "exception": false,
     "start_time": "2020-12-22T23:34:20.258703",
     "status": "completed"
    },
    "pycharm": {
     "name": "#%%\n"
    },
    "tags": []
   },
   "outputs": [
    {
     "data": {
      "text/plain": [
       "['PT', 'MT', 'EE', 'CH', 'ES@PRE', 'DE']"
      ]
     },
     "execution_count": 25,
     "metadata": {},
     "output_type": "execute_result"
    }
   ],
   "source": [
    "multi_backend_without_active_region_exposure_keys_df = \\\n",
    "    multi_backend_exposure_keys_df[multi_backend_exposure_keys_df.region != report_backend_identifier]\n",
    "multi_backend_without_active_region = \\\n",
    "    multi_backend_without_active_region_exposure_keys_df.groupby(\"region\").key_data.nunique().sort_values().index.unique().tolist()\n",
    "multi_backend_without_active_region"
   ]
  },
  {
   "cell_type": "code",
   "execution_count": 26,
   "metadata": {
    "execution": {
     "iopub.execute_input": "2020-12-22T23:34:22.146908Z",
     "iopub.status.busy": "2020-12-22T23:34:22.146319Z",
     "iopub.status.idle": "2020-12-22T23:34:24.822803Z",
     "shell.execute_reply": "2020-12-22T23:34:24.823217Z"
    },
    "papermill": {
     "duration": 2.774389,
     "end_time": "2020-12-22T23:34:24.823389",
     "exception": false,
     "start_time": "2020-12-22T23:34:22.049000",
     "status": "completed"
    },
    "scrolled": false,
    "tags": []
   },
   "outputs": [
    {
     "name": "stderr",
     "output_type": "stream",
     "text": [
      "/opt/hostedtoolcache/Python/3.8.6/x64/lib/python3.8/site-packages/pandas/core/frame.py:4110: SettingWithCopyWarning: \n",
      "A value is trying to be set on a copy of a slice from a DataFrame\n",
      "\n",
      "See the caveats in the documentation: http://pandas.pydata.org/pandas-docs/stable/user_guide/indexing.html#returning-a-view-versus-a-copy\n",
      "  return super().drop(\n"
     ]
    },
    {
     "data": {
      "text/html": [
       "<div>\n",
       "<style scoped>\n",
       "    .dataframe tbody tr th:only-of-type {\n",
       "        vertical-align: middle;\n",
       "    }\n",
       "\n",
       "    .dataframe tbody tr th {\n",
       "        vertical-align: top;\n",
       "    }\n",
       "\n",
       "    .dataframe thead th {\n",
       "        text-align: right;\n",
       "    }\n",
       "</style>\n",
       "<table border=\"1\" class=\"dataframe\">\n",
       "  <thead>\n",
       "    <tr style=\"text-align: right;\">\n",
       "      <th></th>\n",
       "      <th>shared_teks_by_generation_date</th>\n",
       "    </tr>\n",
       "    <tr>\n",
       "      <th>sample_date_string</th>\n",
       "      <th></th>\n",
       "    </tr>\n",
       "  </thead>\n",
       "  <tbody>\n",
       "    <tr>\n",
       "      <th>2020-12-22</th>\n",
       "      <td>1886</td>\n",
       "    </tr>\n",
       "    <tr>\n",
       "      <th>2020-12-21</th>\n",
       "      <td>6798</td>\n",
       "    </tr>\n",
       "    <tr>\n",
       "      <th>2020-12-20</th>\n",
       "      <td>9989</td>\n",
       "    </tr>\n",
       "    <tr>\n",
       "      <th>2020-12-19</th>\n",
       "      <td>14128</td>\n",
       "    </tr>\n",
       "    <tr>\n",
       "      <th>2020-12-18</th>\n",
       "      <td>18163</td>\n",
       "    </tr>\n",
       "  </tbody>\n",
       "</table>\n",
       "</div>"
      ],
      "text/plain": [
       "                    shared_teks_by_generation_date\n",
       "sample_date_string                                \n",
       "2020-12-22                                    1886\n",
       "2020-12-21                                    6798\n",
       "2020-12-20                                    9989\n",
       "2020-12-19                                   14128\n",
       "2020-12-18                                   18163"
      ]
     },
     "execution_count": 26,
     "metadata": {},
     "output_type": "execute_result"
    }
   ],
   "source": [
    "exposure_keys_summary_df = multi_backend_exposure_keys_df[\n",
    "    multi_backend_exposure_keys_df.region == report_backend_identifier]\n",
    "exposure_keys_summary_df.drop(columns=[\"region\"], inplace=True)\n",
    "exposure_keys_summary_df = \\\n",
    "    exposure_keys_summary_df.groupby([\"sample_date_string\"]).key_data.nunique().to_frame()\n",
    "exposure_keys_summary_df = \\\n",
    "    exposure_keys_summary_df.reset_index().set_index(\"sample_date_string\")\n",
    "exposure_keys_summary_df.sort_index(ascending=False, inplace=True)\n",
    "exposure_keys_summary_df.rename(columns={\"key_data\": \"shared_teks_by_generation_date\"}, inplace=True)\n",
    "exposure_keys_summary_df.head()"
   ]
  },
  {
   "cell_type": "markdown",
   "metadata": {
    "papermill": {
     "duration": 0.050511,
     "end_time": "2020-12-22T23:34:24.929278",
     "exception": false,
     "start_time": "2020-12-22T23:34:24.878767",
     "status": "completed"
    },
    "tags": []
   },
   "source": [
    "### Dump API TEKs"
   ]
  },
  {
   "cell_type": "code",
   "execution_count": 27,
   "metadata": {
    "execution": {
     "iopub.execute_input": "2020-12-22T23:34:25.038113Z",
     "iopub.status.busy": "2020-12-22T23:34:25.037544Z",
     "iopub.status.idle": "2020-12-22T23:34:27.969339Z",
     "shell.execute_reply": "2020-12-22T23:34:27.968776Z"
    },
    "papermill": {
     "duration": 2.992391,
     "end_time": "2020-12-22T23:34:27.970177",
     "exception": false,
     "start_time": "2020-12-22T23:34:24.977786",
     "status": "completed"
    },
    "tags": []
   },
   "outputs": [
    {
     "data": {
      "text/html": [
       "<div>\n",
       "<style scoped>\n",
       "    .dataframe tbody tr th:only-of-type {\n",
       "        vertical-align: middle;\n",
       "    }\n",
       "\n",
       "    .dataframe tbody tr th {\n",
       "        vertical-align: top;\n",
       "    }\n",
       "\n",
       "    .dataframe thead th {\n",
       "        text-align: right;\n",
       "    }\n",
       "</style>\n",
       "<table border=\"1\" class=\"dataframe\">\n",
       "  <thead>\n",
       "    <tr style=\"text-align: right;\">\n",
       "      <th></th>\n",
       "      <th>sample_date</th>\n",
       "      <th>region</th>\n",
       "      <th>tek_list</th>\n",
       "      <th>extraction_date</th>\n",
       "      <th>extraction_date_with_hour</th>\n",
       "    </tr>\n",
       "  </thead>\n",
       "  <tbody>\n",
       "    <tr>\n",
       "      <th>0</th>\n",
       "      <td>2020-12-09</td>\n",
       "      <td>CH</td>\n",
       "      <td>[1fa67d4f-cc92-4ec1-f2ac-33bcb4d9b719, b9ae819...</td>\n",
       "      <td>2020-12-22</td>\n",
       "      <td>2020-12-22@23</td>\n",
       "    </tr>\n",
       "    <tr>\n",
       "      <th>1</th>\n",
       "      <td>2020-12-09</td>\n",
       "      <td>DE</td>\n",
       "      <td>[025584a7-ad8c-65b6-8fee-b853a48eb516, 2057cce...</td>\n",
       "      <td>2020-12-22</td>\n",
       "      <td>2020-12-22@23</td>\n",
       "    </tr>\n",
       "    <tr>\n",
       "      <th>2</th>\n",
       "      <td>2020-12-09</td>\n",
       "      <td>EE</td>\n",
       "      <td>[c50d69a3-4802-2f78-e4de-d969e3a34c1e, 6353fc3...</td>\n",
       "      <td>2020-12-22</td>\n",
       "      <td>2020-12-22@23</td>\n",
       "    </tr>\n",
       "    <tr>\n",
       "      <th>3</th>\n",
       "      <td>2020-12-09</td>\n",
       "      <td>ES</td>\n",
       "      <td>[10500887-9a96-ad14-be83-deb1c37088be, 11cad6a...</td>\n",
       "      <td>2020-12-22</td>\n",
       "      <td>2020-12-22@23</td>\n",
       "    </tr>\n",
       "    <tr>\n",
       "      <th>4</th>\n",
       "      <td>2020-12-09</td>\n",
       "      <td>ES@PRE</td>\n",
       "      <td>[99ad9252-d00a-0a26-5333-058409ea3226, b800c0a...</td>\n",
       "      <td>2020-12-22</td>\n",
       "      <td>2020-12-22@23</td>\n",
       "    </tr>\n",
       "  </tbody>\n",
       "</table>\n",
       "</div>"
      ],
      "text/plain": [
       "  sample_date  region                                           tek_list  \\\n",
       "0  2020-12-09      CH  [1fa67d4f-cc92-4ec1-f2ac-33bcb4d9b719, b9ae819...   \n",
       "1  2020-12-09      DE  [025584a7-ad8c-65b6-8fee-b853a48eb516, 2057cce...   \n",
       "2  2020-12-09      EE  [c50d69a3-4802-2f78-e4de-d969e3a34c1e, 6353fc3...   \n",
       "3  2020-12-09      ES  [10500887-9a96-ad14-be83-deb1c37088be, 11cad6a...   \n",
       "4  2020-12-09  ES@PRE  [99ad9252-d00a-0a26-5333-058409ea3226, b800c0a...   \n",
       "\n",
       "  extraction_date extraction_date_with_hour  \n",
       "0      2020-12-22             2020-12-22@23  \n",
       "1      2020-12-22             2020-12-22@23  \n",
       "2      2020-12-22             2020-12-22@23  \n",
       "3      2020-12-22             2020-12-22@23  \n",
       "4      2020-12-22             2020-12-22@23  "
      ]
     },
     "execution_count": 27,
     "metadata": {},
     "output_type": "execute_result"
    }
   ],
   "source": [
    "tek_list_df = multi_backend_exposure_keys_df[\n",
    "    [\"sample_date_string\", \"region\", \"key_data\"]].copy()\n",
    "tek_list_df[\"key_data\"] = tek_list_df[\"key_data\"].apply(str)\n",
    "tek_list_df.rename(columns={\n",
    "    \"sample_date_string\": \"sample_date\",\n",
    "    \"key_data\": \"tek_list\"}, inplace=True)\n",
    "tek_list_df = tek_list_df.groupby(\n",
    "    [\"sample_date\", \"region\"]).tek_list.unique().reset_index()\n",
    "tek_list_df[\"extraction_date\"] = extraction_date\n",
    "tek_list_df[\"extraction_date_with_hour\"] = extraction_date_with_hour\n",
    "\n",
    "tek_list_path_prefix = \"Data/TEKs/\"\n",
    "tek_list_current_path = tek_list_path_prefix + f\"/Current/RadarCOVID-TEKs.json\"\n",
    "tek_list_daily_path = tek_list_path_prefix + f\"Daily/RadarCOVID-TEKs-{extraction_date}.json\"\n",
    "tek_list_hourly_path = tek_list_path_prefix + f\"Hourly/RadarCOVID-TEKs-{extraction_date_with_hour}.json\"\n",
    "\n",
    "for path in [tek_list_current_path, tek_list_daily_path, tek_list_hourly_path]:\n",
    "    os.makedirs(os.path.dirname(path), exist_ok=True)\n",
    "\n",
    "tek_list_df.drop(columns=[\"extraction_date\", \"extraction_date_with_hour\"]).to_json(\n",
    "    tek_list_current_path,\n",
    "    lines=True, orient=\"records\")\n",
    "tek_list_df.drop(columns=[\"extraction_date_with_hour\"]).to_json(\n",
    "    tek_list_daily_path,\n",
    "    lines=True, orient=\"records\")\n",
    "tek_list_df.to_json(\n",
    "    tek_list_hourly_path,\n",
    "    lines=True, orient=\"records\")\n",
    "tek_list_df.head()"
   ]
  },
  {
   "cell_type": "markdown",
   "metadata": {
    "papermill": {
     "duration": 0.05196,
     "end_time": "2020-12-22T23:34:28.074472",
     "exception": false,
     "start_time": "2020-12-22T23:34:28.022512",
     "status": "completed"
    },
    "tags": []
   },
   "source": [
    "### Load TEK Dumps"
   ]
  },
  {
   "cell_type": "code",
   "execution_count": 28,
   "metadata": {
    "execution": {
     "iopub.execute_input": "2020-12-22T23:34:28.189471Z",
     "iopub.status.busy": "2020-12-22T23:34:28.187892Z",
     "iopub.status.idle": "2020-12-22T23:34:28.192659Z",
     "shell.execute_reply": "2020-12-22T23:34:28.193073Z"
    },
    "papermill": {
     "duration": 0.064611,
     "end_time": "2020-12-22T23:34:28.193235",
     "exception": false,
     "start_time": "2020-12-22T23:34:28.128624",
     "status": "completed"
    },
    "tags": []
   },
   "outputs": [],
   "source": [
    "import glob\n",
    "\n",
    "def load_extracted_teks(mode, region=None, limit=None) -> pd.DataFrame:\n",
    "    extracted_teks_df = pd.DataFrame(columns=[\"region\"])\n",
    "    file_paths = list(reversed(sorted(glob.glob(tek_list_path_prefix + mode + \"/RadarCOVID-TEKs-*.json\"))))\n",
    "    if limit:\n",
    "        file_paths = file_paths[:limit]\n",
    "    for file_path in file_paths:\n",
    "        logging.info(f\"Loading TEKs from '{file_path}'...\")\n",
    "        iteration_extracted_teks_df = pd.read_json(file_path, lines=True)\n",
    "        extracted_teks_df = extracted_teks_df.append(\n",
    "            iteration_extracted_teks_df, sort=False)\n",
    "    extracted_teks_df[\"region\"] = \\\n",
    "        extracted_teks_df.region.fillna(spain_region_country_code).copy()\n",
    "    if region:\n",
    "        extracted_teks_df = \\\n",
    "            extracted_teks_df[extracted_teks_df.region == region]\n",
    "    return extracted_teks_df"
   ]
  },
  {
   "cell_type": "code",
   "execution_count": 29,
   "metadata": {
    "collapsed": false,
    "execution": {
     "iopub.execute_input": "2020-12-22T23:34:28.310662Z",
     "iopub.status.busy": "2020-12-22T23:34:28.305184Z",
     "iopub.status.idle": "2020-12-22T23:34:54.835351Z",
     "shell.execute_reply": "2020-12-22T23:34:54.834869Z"
    },
    "papermill": {
     "duration": 26.590295,
     "end_time": "2020-12-22T23:34:54.835495",
     "exception": false,
     "start_time": "2020-12-22T23:34:28.245200",
     "status": "completed"
    },
    "pycharm": {
     "name": "#%%\n"
    },
    "tags": []
   },
   "outputs": [
    {
     "data": {
      "text/html": [
       "<div>\n",
       "<style scoped>\n",
       "    .dataframe tbody tr th:only-of-type {\n",
       "        vertical-align: middle;\n",
       "    }\n",
       "\n",
       "    .dataframe tbody tr th {\n",
       "        vertical-align: top;\n",
       "    }\n",
       "\n",
       "    .dataframe thead th {\n",
       "        text-align: right;\n",
       "    }\n",
       "</style>\n",
       "<table border=\"1\" class=\"dataframe\">\n",
       "  <thead>\n",
       "    <tr style=\"text-align: right;\">\n",
       "      <th></th>\n",
       "      <th>region</th>\n",
       "      <th>sample_date</th>\n",
       "      <th>tek_list</th>\n",
       "      <th>extraction_date</th>\n",
       "    </tr>\n",
       "  </thead>\n",
       "  <tbody>\n",
       "    <tr>\n",
       "      <th>3</th>\n",
       "      <td>ES</td>\n",
       "      <td>2020-12-09</td>\n",
       "      <td>[10500887-9a96-ad14-be83-deb1c37088be, 11cad6a...</td>\n",
       "      <td>2020-12-22</td>\n",
       "    </tr>\n",
       "    <tr>\n",
       "      <th>10</th>\n",
       "      <td>ES</td>\n",
       "      <td>2020-12-10</td>\n",
       "      <td>[b0ca829d-8fb9-18f4-0752-8c578fe8582f, 8cd2d20...</td>\n",
       "      <td>2020-12-22</td>\n",
       "    </tr>\n",
       "    <tr>\n",
       "      <th>17</th>\n",
       "      <td>ES</td>\n",
       "      <td>2020-12-11</td>\n",
       "      <td>[d07dc68f-8d3a-3ea9-84b8-ee176f64e086, 98f52ac...</td>\n",
       "      <td>2020-12-22</td>\n",
       "    </tr>\n",
       "    <tr>\n",
       "      <th>24</th>\n",
       "      <td>ES</td>\n",
       "      <td>2020-12-12</td>\n",
       "      <td>[281b1e8c-d910-169c-c22a-009592e3ea9d, f75609a...</td>\n",
       "      <td>2020-12-22</td>\n",
       "    </tr>\n",
       "    <tr>\n",
       "      <th>31</th>\n",
       "      <td>ES</td>\n",
       "      <td>2020-12-13</td>\n",
       "      <td>[8a77c02d-c728-9398-ed76-60d71cc89f1c, a556051...</td>\n",
       "      <td>2020-12-22</td>\n",
       "    </tr>\n",
       "  </tbody>\n",
       "</table>\n",
       "</div>"
      ],
      "text/plain": [
       "   region sample_date                                           tek_list  \\\n",
       "3      ES  2020-12-09  [10500887-9a96-ad14-be83-deb1c37088be, 11cad6a...   \n",
       "10     ES  2020-12-10  [b0ca829d-8fb9-18f4-0752-8c578fe8582f, 8cd2d20...   \n",
       "17     ES  2020-12-11  [d07dc68f-8d3a-3ea9-84b8-ee176f64e086, 98f52ac...   \n",
       "24     ES  2020-12-12  [281b1e8c-d910-169c-c22a-009592e3ea9d, f75609a...   \n",
       "31     ES  2020-12-13  [8a77c02d-c728-9398-ed76-60d71cc89f1c, a556051...   \n",
       "\n",
       "   extraction_date  \n",
       "3       2020-12-22  \n",
       "10      2020-12-22  \n",
       "17      2020-12-22  \n",
       "24      2020-12-22  \n",
       "31      2020-12-22  "
      ]
     },
     "execution_count": 29,
     "metadata": {},
     "output_type": "execute_result"
    }
   ],
   "source": [
    "daily_extracted_teks_df = load_extracted_teks(\n",
    "    mode=\"Daily\",\n",
    "    region=report_backend_identifier,\n",
    "    limit=tek_dumps_load_limit)\n",
    "daily_extracted_teks_df.head()"
   ]
  },
  {
   "cell_type": "code",
   "execution_count": 30,
   "metadata": {
    "collapsed": false,
    "execution": {
     "iopub.execute_input": "2020-12-22T23:34:54.973264Z",
     "iopub.status.busy": "2020-12-22T23:34:54.972484Z",
     "iopub.status.idle": "2020-12-22T23:34:55.000654Z",
     "shell.execute_reply": "2020-12-22T23:34:55.001263Z"
    },
    "papermill": {
     "duration": 0.085429,
     "end_time": "2020-12-22T23:34:55.001455",
     "exception": false,
     "start_time": "2020-12-22T23:34:54.916026",
     "status": "completed"
    },
    "pycharm": {
     "name": "#%%\n"
    },
    "tags": []
   },
   "outputs": [
    {
     "data": {
      "text/html": [
       "<div>\n",
       "<style scoped>\n",
       "    .dataframe tbody tr th:only-of-type {\n",
       "        vertical-align: middle;\n",
       "    }\n",
       "\n",
       "    .dataframe tbody tr th {\n",
       "        vertical-align: top;\n",
       "    }\n",
       "\n",
       "    .dataframe thead th {\n",
       "        text-align: right;\n",
       "    }\n",
       "</style>\n",
       "<table border=\"1\" class=\"dataframe\">\n",
       "  <thead>\n",
       "    <tr style=\"text-align: right;\">\n",
       "      <th></th>\n",
       "      <th>shared_teks_by_generation_date</th>\n",
       "    </tr>\n",
       "    <tr>\n",
       "      <th>sample_date_string</th>\n",
       "      <th></th>\n",
       "    </tr>\n",
       "  </thead>\n",
       "  <tbody>\n",
       "    <tr>\n",
       "      <th>2020-12-22</th>\n",
       "      <td>1886</td>\n",
       "    </tr>\n",
       "    <tr>\n",
       "      <th>2020-12-21</th>\n",
       "      <td>6798</td>\n",
       "    </tr>\n",
       "    <tr>\n",
       "      <th>2020-12-20</th>\n",
       "      <td>9989</td>\n",
       "    </tr>\n",
       "    <tr>\n",
       "      <th>2020-12-19</th>\n",
       "      <td>14128</td>\n",
       "    </tr>\n",
       "    <tr>\n",
       "      <th>2020-12-18</th>\n",
       "      <td>18163</td>\n",
       "    </tr>\n",
       "  </tbody>\n",
       "</table>\n",
       "</div>"
      ],
      "text/plain": [
       "                    shared_teks_by_generation_date\n",
       "sample_date_string                                \n",
       "2020-12-22                                    1886\n",
       "2020-12-21                                    6798\n",
       "2020-12-20                                    9989\n",
       "2020-12-19                                   14128\n",
       "2020-12-18                                   18163"
      ]
     },
     "execution_count": 30,
     "metadata": {},
     "output_type": "execute_result"
    }
   ],
   "source": [
    "exposure_keys_summary_df_ = daily_extracted_teks_df \\\n",
    "    .sort_values(\"extraction_date\", ascending=False) \\\n",
    "    .groupby(\"sample_date\").tek_list.first() \\\n",
    "    .to_frame()\n",
    "exposure_keys_summary_df_.index.name = \"sample_date_string\"\n",
    "exposure_keys_summary_df_[\"tek_list\"] = \\\n",
    "    exposure_keys_summary_df_.tek_list.apply(len)\n",
    "exposure_keys_summary_df_ = exposure_keys_summary_df_ \\\n",
    "    .rename(columns={\"tek_list\": \"shared_teks_by_generation_date\"}) \\\n",
    "    .sort_index(ascending=False)\n",
    "exposure_keys_summary_df = exposure_keys_summary_df_\n",
    "exposure_keys_summary_df.head()"
   ]
  },
  {
   "cell_type": "markdown",
   "metadata": {
    "execution": {
     "iopub.execute_input": "2020-08-30T22:30:16.632967Z",
     "iopub.status.busy": "2020-08-30T22:30:16.632308Z",
     "iopub.status.idle": "2020-08-30T22:30:16.634945Z",
     "shell.execute_reply": "2020-08-30T22:30:16.635575Z"
    },
    "papermill": {
     "duration": 0.053254,
     "end_time": "2020-12-22T23:34:55.105830",
     "exception": false,
     "start_time": "2020-12-22T23:34:55.052576",
     "status": "completed"
    },
    "pycharm": {
     "name": "#%% md\n"
    },
    "tags": []
   },
   "source": [
    "### Daily New TEKs"
   ]
  },
  {
   "cell_type": "code",
   "execution_count": 31,
   "metadata": {
    "execution": {
     "iopub.execute_input": "2020-12-22T23:34:55.224437Z",
     "iopub.status.busy": "2020-12-22T23:34:55.223866Z",
     "iopub.status.idle": "2020-12-22T23:34:57.693141Z",
     "shell.execute_reply": "2020-12-22T23:34:57.692658Z"
    },
    "papermill": {
     "duration": 2.535297,
     "end_time": "2020-12-22T23:34:57.693267",
     "exception": false,
     "start_time": "2020-12-22T23:34:55.157970",
     "status": "completed"
    },
    "tags": []
   },
   "outputs": [
    {
     "data": {
      "text/html": [
       "<div>\n",
       "<style scoped>\n",
       "    .dataframe tbody tr th:only-of-type {\n",
       "        vertical-align: middle;\n",
       "    }\n",
       "\n",
       "    .dataframe tbody tr th {\n",
       "        vertical-align: top;\n",
       "    }\n",
       "\n",
       "    .dataframe thead th {\n",
       "        text-align: right;\n",
       "    }\n",
       "</style>\n",
       "<table border=\"1\" class=\"dataframe\">\n",
       "  <thead>\n",
       "    <tr style=\"text-align: right;\">\n",
       "      <th></th>\n",
       "      <th>tek_list</th>\n",
       "    </tr>\n",
       "    <tr>\n",
       "      <th>extraction_date</th>\n",
       "      <th></th>\n",
       "    </tr>\n",
       "  </thead>\n",
       "  <tbody>\n",
       "    <tr>\n",
       "      <th>2020-09-29</th>\n",
       "      <td>{447e4075-b7c8-508f-f310-8323dc5c9e8a, 81b70d0...</td>\n",
       "    </tr>\n",
       "    <tr>\n",
       "      <th>2020-09-30</th>\n",
       "      <td>{a572d0df-6d4c-af34-21f7-e7f15e405471, 447e407...</td>\n",
       "    </tr>\n",
       "    <tr>\n",
       "      <th>2020-10-01</th>\n",
       "      <td>{a572d0df-6d4c-af34-21f7-e7f15e405471, 447e407...</td>\n",
       "    </tr>\n",
       "    <tr>\n",
       "      <th>2020-10-02</th>\n",
       "      <td>{a572d0df-6d4c-af34-21f7-e7f15e405471, 447e407...</td>\n",
       "    </tr>\n",
       "    <tr>\n",
       "      <th>2020-10-03</th>\n",
       "      <td>{a572d0df-6d4c-af34-21f7-e7f15e405471, 447e407...</td>\n",
       "    </tr>\n",
       "  </tbody>\n",
       "</table>\n",
       "</div>"
      ],
      "text/plain": [
       "                                                          tek_list\n",
       "extraction_date                                                   \n",
       "2020-09-29       {447e4075-b7c8-508f-f310-8323dc5c9e8a, 81b70d0...\n",
       "2020-09-30       {a572d0df-6d4c-af34-21f7-e7f15e405471, 447e407...\n",
       "2020-10-01       {a572d0df-6d4c-af34-21f7-e7f15e405471, 447e407...\n",
       "2020-10-02       {a572d0df-6d4c-af34-21f7-e7f15e405471, 447e407...\n",
       "2020-10-03       {a572d0df-6d4c-af34-21f7-e7f15e405471, 447e407..."
      ]
     },
     "execution_count": 31,
     "metadata": {},
     "output_type": "execute_result"
    }
   ],
   "source": [
    "tek_list_df = daily_extracted_teks_df.groupby(\"extraction_date\").tek_list.apply(\n",
    "    lambda x: set(sum(x, []))).reset_index()\n",
    "tek_list_df = tek_list_df.set_index(\"extraction_date\").sort_index(ascending=True)\n",
    "tek_list_df.head()"
   ]
  },
  {
   "cell_type": "code",
   "execution_count": 32,
   "metadata": {
    "collapsed": false,
    "execution": {
     "iopub.execute_input": "2020-12-22T23:34:59.634827Z",
     "iopub.status.busy": "2020-12-22T23:34:57.811208Z",
     "iopub.status.idle": "2020-12-22T23:36:40.335517Z",
     "shell.execute_reply": "2020-12-22T23:36:40.335987Z"
    },
    "papermill": {
     "duration": 102.586391,
     "end_time": "2020-12-22T23:36:40.336153",
     "exception": false,
     "start_time": "2020-12-22T23:34:57.749762",
     "status": "completed"
    },
    "pycharm": {
     "name": "#%%\n"
    },
    "tags": []
   },
   "outputs": [
    {
     "name": "stderr",
     "output_type": "stream",
     "text": [
      "<ipython-input-32-827222b35590>:4: FutureWarning: `item` has been deprecated and will be removed in a future version\n",
      "  day_new_teks_set = day_new_teks_set_df[\n"
     ]
    },
    {
     "data": {
      "text/html": [
       "<div>\n",
       "<style scoped>\n",
       "    .dataframe tbody tr th:only-of-type {\n",
       "        vertical-align: middle;\n",
       "    }\n",
       "\n",
       "    .dataframe tbody tr th {\n",
       "        vertical-align: top;\n",
       "    }\n",
       "\n",
       "    .dataframe thead th {\n",
       "        text-align: right;\n",
       "    }\n",
       "</style>\n",
       "<table border=\"1\" class=\"dataframe\">\n",
       "  <thead>\n",
       "    <tr style=\"text-align: right;\">\n",
       "      <th></th>\n",
       "      <th>upload_date</th>\n",
       "      <th>generation_date</th>\n",
       "      <th>shared_teks</th>\n",
       "      <th>generation_to_upload_days</th>\n",
       "    </tr>\n",
       "  </thead>\n",
       "  <tbody>\n",
       "    <tr>\n",
       "      <th>11</th>\n",
       "      <td>2020-09-30</td>\n",
       "      <td>2020-09-28</td>\n",
       "      <td>42</td>\n",
       "      <td>2</td>\n",
       "    </tr>\n",
       "    <tr>\n",
       "      <th>10</th>\n",
       "      <td>2020-09-30</td>\n",
       "      <td>2020-09-27</td>\n",
       "      <td>42</td>\n",
       "      <td>3</td>\n",
       "    </tr>\n",
       "    <tr>\n",
       "      <th>9</th>\n",
       "      <td>2020-09-30</td>\n",
       "      <td>2020-09-26</td>\n",
       "      <td>41</td>\n",
       "      <td>4</td>\n",
       "    </tr>\n",
       "    <tr>\n",
       "      <th>8</th>\n",
       "      <td>2020-09-30</td>\n",
       "      <td>2020-09-25</td>\n",
       "      <td>38</td>\n",
       "      <td>5</td>\n",
       "    </tr>\n",
       "    <tr>\n",
       "      <th>7</th>\n",
       "      <td>2020-09-30</td>\n",
       "      <td>2020-09-24</td>\n",
       "      <td>2</td>\n",
       "      <td>6</td>\n",
       "    </tr>\n",
       "  </tbody>\n",
       "</table>\n",
       "</div>"
      ],
      "text/plain": [
       "   upload_date generation_date  shared_teks  generation_to_upload_days\n",
       "11  2020-09-30      2020-09-28           42                          2\n",
       "10  2020-09-30      2020-09-27           42                          3\n",
       "9   2020-09-30      2020-09-26           41                          4\n",
       "8   2020-09-30      2020-09-25           38                          5\n",
       "7   2020-09-30      2020-09-24            2                          6"
      ]
     },
     "execution_count": 32,
     "metadata": {},
     "output_type": "execute_result"
    }
   ],
   "source": [
    "def compute_teks_by_generation_and_upload_date(date):\n",
    "    day_new_teks_set_df = tek_list_df.copy().diff()\n",
    "    try:\n",
    "        day_new_teks_set = day_new_teks_set_df[\n",
    "            day_new_teks_set_df.index == date].tek_list.item()\n",
    "    except ValueError:\n",
    "        day_new_teks_set = None\n",
    "    if pd.isna(day_new_teks_set):\n",
    "        day_new_teks_set = set()\n",
    "    day_new_teks_df = daily_extracted_teks_df[\n",
    "        daily_extracted_teks_df.extraction_date == date].copy()\n",
    "    day_new_teks_df[\"shared_teks\"] = \\\n",
    "        day_new_teks_df.tek_list.apply(lambda x: set(x).intersection(day_new_teks_set))\n",
    "    day_new_teks_df[\"shared_teks\"] = \\\n",
    "        day_new_teks_df.shared_teks.apply(len)\n",
    "    day_new_teks_df[\"upload_date\"] = date\n",
    "    day_new_teks_df.rename(columns={\"sample_date\": \"generation_date\"}, inplace=True)\n",
    "    day_new_teks_df = day_new_teks_df[\n",
    "        [\"upload_date\", \"generation_date\", \"shared_teks\"]]\n",
    "    day_new_teks_df[\"generation_to_upload_days\"] = \\\n",
    "        (pd.to_datetime(day_new_teks_df.upload_date) -\n",
    "         pd.to_datetime(day_new_teks_df.generation_date)).dt.days\n",
    "    day_new_teks_df = day_new_teks_df[day_new_teks_df.shared_teks > 0]\n",
    "    return day_new_teks_df\n",
    "\n",
    "shared_teks_generation_to_upload_df = pd.DataFrame()\n",
    "for upload_date in daily_extracted_teks_df.extraction_date.unique():\n",
    "    shared_teks_generation_to_upload_df = \\\n",
    "        shared_teks_generation_to_upload_df.append(\n",
    "            compute_teks_by_generation_and_upload_date(date=upload_date))\n",
    "shared_teks_generation_to_upload_df \\\n",
    "    .sort_values([\"upload_date\", \"generation_date\"], ascending=False, inplace=True)\n",
    "shared_teks_generation_to_upload_df.tail()"
   ]
  },
  {
   "cell_type": "code",
   "execution_count": 33,
   "metadata": {
    "collapsed": false,
    "execution": {
     "iopub.execute_input": "2020-12-22T23:36:40.455395Z",
     "iopub.status.busy": "2020-12-22T23:36:40.454918Z",
     "iopub.status.idle": "2020-12-22T23:36:40.460576Z",
     "shell.execute_reply": "2020-12-22T23:36:40.460161Z"
    },
    "papermill": {
     "duration": 0.072034,
     "end_time": "2020-12-22T23:36:40.460692",
     "exception": false,
     "start_time": "2020-12-22T23:36:40.388658",
     "status": "completed"
    },
    "pycharm": {
     "name": "#%%\n"
    },
    "tags": []
   },
   "outputs": [
    {
     "data": {
      "text/html": [
       "<div>\n",
       "<style scoped>\n",
       "    .dataframe tbody tr th:only-of-type {\n",
       "        vertical-align: middle;\n",
       "    }\n",
       "\n",
       "    .dataframe tbody tr th {\n",
       "        vertical-align: top;\n",
       "    }\n",
       "\n",
       "    .dataframe thead th {\n",
       "        text-align: right;\n",
       "    }\n",
       "</style>\n",
       "<table border=\"1\" class=\"dataframe\">\n",
       "  <thead>\n",
       "    <tr style=\"text-align: right;\">\n",
       "      <th></th>\n",
       "      <th>upload_date</th>\n",
       "      <th>generation_date</th>\n",
       "      <th>shared_teks</th>\n",
       "      <th>generation_to_upload_days</th>\n",
       "    </tr>\n",
       "  </thead>\n",
       "  <tbody>\n",
       "    <tr>\n",
       "      <th>31</th>\n",
       "      <td>2020-12-22</td>\n",
       "      <td>2020-12-13</td>\n",
       "      <td>2784</td>\n",
       "      <td>9</td>\n",
       "    </tr>\n",
       "    <tr>\n",
       "      <th>24</th>\n",
       "      <td>2020-12-22</td>\n",
       "      <td>2020-12-12</td>\n",
       "      <td>2722</td>\n",
       "      <td>10</td>\n",
       "    </tr>\n",
       "    <tr>\n",
       "      <th>17</th>\n",
       "      <td>2020-12-22</td>\n",
       "      <td>2020-12-11</td>\n",
       "      <td>2646</td>\n",
       "      <td>11</td>\n",
       "    </tr>\n",
       "    <tr>\n",
       "      <th>10</th>\n",
       "      <td>2020-12-22</td>\n",
       "      <td>2020-12-10</td>\n",
       "      <td>2603</td>\n",
       "      <td>12</td>\n",
       "    </tr>\n",
       "    <tr>\n",
       "      <th>3</th>\n",
       "      <td>2020-12-22</td>\n",
       "      <td>2020-12-09</td>\n",
       "      <td>2548</td>\n",
       "      <td>13</td>\n",
       "    </tr>\n",
       "  </tbody>\n",
       "</table>\n",
       "</div>"
      ],
      "text/plain": [
       "   upload_date generation_date  shared_teks  generation_to_upload_days\n",
       "31  2020-12-22      2020-12-13         2784                          9\n",
       "24  2020-12-22      2020-12-12         2722                         10\n",
       "17  2020-12-22      2020-12-11         2646                         11\n",
       "10  2020-12-22      2020-12-10         2603                         12\n",
       "3   2020-12-22      2020-12-09         2548                         13"
      ]
     },
     "execution_count": 33,
     "metadata": {},
     "output_type": "execute_result"
    }
   ],
   "source": [
    "today_new_teks_df = \\\n",
    "    shared_teks_generation_to_upload_df[\n",
    "        shared_teks_generation_to_upload_df.upload_date == extraction_date].copy()\n",
    "today_new_teks_df.tail()"
   ]
  },
  {
   "cell_type": "code",
   "execution_count": 34,
   "metadata": {
    "collapsed": false,
    "execution": {
     "iopub.execute_input": "2020-12-22T23:36:41.250161Z",
     "iopub.status.busy": "2020-12-22T23:36:41.243341Z",
     "iopub.status.idle": "2020-12-22T23:36:41.463908Z",
     "shell.execute_reply": "2020-12-22T23:36:41.463177Z"
    },
    "papermill": {
     "duration": 0.951874,
     "end_time": "2020-12-22T23:36:41.464043",
     "exception": false,
     "start_time": "2020-12-22T23:36:40.512169",
     "status": "completed"
    },
    "pycharm": {
     "name": "#%%\n"
    },
    "tags": []
   },
   "outputs": [
    {
     "data": {
      "image/png": "[encoded data removed]",
      "text/plain": [
       "<Figure size 1080x432 with 1 Axes>"
      ]
     },
     "metadata": {},
     "output_type": "display_data"
    }
   ],
   "source": [
    "if not today_new_teks_df.empty:\n",
    "    today_new_teks_df.set_index(\"generation_to_upload_days\") \\\n",
    "        .sort_index().shared_teks.plot.bar()"
   ]
  },
  {
   "cell_type": "code",
   "execution_count": 35,
   "metadata": {
    "collapsed": false,
    "execution": {
     "iopub.execute_input": "2020-12-22T23:36:41.585971Z",
     "iopub.status.busy": "2020-12-22T23:36:41.584460Z",
     "iopub.status.idle": "2020-12-22T23:36:41.600150Z",
     "shell.execute_reply": "2020-12-22T23:36:41.600527Z"
    },
    "papermill": {
     "duration": 0.080299,
     "end_time": "2020-12-22T23:36:41.600675",
     "exception": false,
     "start_time": "2020-12-22T23:36:41.520376",
     "status": "completed"
    },
    "pycharm": {
     "name": "#%%\n"
    },
    "tags": []
   },
   "outputs": [
    {
     "data": {
      "text/html": [
       "<div>\n",
       "<style scoped>\n",
       "    .dataframe tbody tr th:only-of-type {\n",
       "        vertical-align: middle;\n",
       "    }\n",
       "\n",
       "    .dataframe tbody tr th {\n",
       "        vertical-align: top;\n",
       "    }\n",
       "\n",
       "    .dataframe thead th {\n",
       "        text-align: right;\n",
       "    }\n",
       "</style>\n",
       "<table border=\"1\" class=\"dataframe\">\n",
       "  <thead>\n",
       "    <tr style=\"text-align: right;\">\n",
       "      <th>generation_to_upload_days</th>\n",
       "      <th>0</th>\n",
       "      <th>1</th>\n",
       "      <th>2</th>\n",
       "      <th>3</th>\n",
       "      <th>4</th>\n",
       "      <th>5</th>\n",
       "      <th>6</th>\n",
       "      <th>7</th>\n",
       "      <th>8</th>\n",
       "      <th>9</th>\n",
       "      <th>10</th>\n",
       "      <th>11</th>\n",
       "      <th>12</th>\n",
       "      <th>13</th>\n",
       "    </tr>\n",
       "    <tr>\n",
       "      <th>upload_date</th>\n",
       "      <th></th>\n",
       "      <th></th>\n",
       "      <th></th>\n",
       "      <th></th>\n",
       "      <th></th>\n",
       "      <th></th>\n",
       "      <th></th>\n",
       "      <th></th>\n",
       "      <th></th>\n",
       "      <th></th>\n",
       "      <th></th>\n",
       "      <th></th>\n",
       "      <th></th>\n",
       "      <th></th>\n",
       "    </tr>\n",
       "  </thead>\n",
       "  <tbody>\n",
       "    <tr>\n",
       "      <th>2020-12-22</th>\n",
       "      <td>1886</td>\n",
       "      <td>5820</td>\n",
       "      <td>4738</td>\n",
       "      <td>4548</td>\n",
       "      <td>4329</td>\n",
       "      <td>3852</td>\n",
       "      <td>3420</td>\n",
       "      <td>3105</td>\n",
       "      <td>2922</td>\n",
       "      <td>2784</td>\n",
       "      <td>2722</td>\n",
       "      <td>2646</td>\n",
       "      <td>2603</td>\n",
       "      <td>2548</td>\n",
       "    </tr>\n",
       "    <tr>\n",
       "      <th>2020-12-21</th>\n",
       "      <td>978</td>\n",
       "      <td>4586</td>\n",
       "      <td>3995</td>\n",
       "      <td>3804</td>\n",
       "      <td>3565</td>\n",
       "      <td>3165</td>\n",
       "      <td>2715</td>\n",
       "      <td>2415</td>\n",
       "      <td>2197</td>\n",
       "      <td>2070</td>\n",
       "      <td>2006</td>\n",
       "      <td>1963</td>\n",
       "      <td>1921</td>\n",
       "      <td>1860</td>\n",
       "    </tr>\n",
       "    <tr>\n",
       "      <th>2020-12-20</th>\n",
       "      <td>665</td>\n",
       "      <td>5436</td>\n",
       "      <td>9188</td>\n",
       "      <td>9881</td>\n",
       "      <td>9211</td>\n",
       "      <td>8556</td>\n",
       "      <td>7707</td>\n",
       "      <td>6795</td>\n",
       "      <td>6168</td>\n",
       "      <td>5806</td>\n",
       "      <td>5584</td>\n",
       "      <td>5429</td>\n",
       "      <td>5309</td>\n",
       "      <td>5290</td>\n",
       "    </tr>\n",
       "    <tr>\n",
       "      <th>2020-12-19</th>\n",
       "      <td>149</td>\n",
       "      <td>487</td>\n",
       "      <td>135</td>\n",
       "      <td>125</td>\n",
       "      <td>93</td>\n",
       "      <td>69</td>\n",
       "      <td>37</td>\n",
       "      <td>23</td>\n",
       "      <td>15</td>\n",
       "      <td>14</td>\n",
       "      <td>10</td>\n",
       "      <td>0</td>\n",
       "      <td>0</td>\n",
       "      <td>0</td>\n",
       "    </tr>\n",
       "    <tr>\n",
       "      <th>2020-12-18</th>\n",
       "      <td>355</td>\n",
       "      <td>4865</td>\n",
       "      <td>7467</td>\n",
       "      <td>7802</td>\n",
       "      <td>7851</td>\n",
       "      <td>7396</td>\n",
       "      <td>6649</td>\n",
       "      <td>5827</td>\n",
       "      <td>5174</td>\n",
       "      <td>4561</td>\n",
       "      <td>4162</td>\n",
       "      <td>3943</td>\n",
       "      <td>3812</td>\n",
       "      <td>3745</td>\n",
       "    </tr>\n",
       "  </tbody>\n",
       "</table>\n",
       "</div>"
      ],
      "text/plain": [
       "generation_to_upload_days    0     1     2     3     4     5     6     7   \\\n",
       "upload_date                                                                 \n",
       "2020-12-22                 1886  5820  4738  4548  4329  3852  3420  3105   \n",
       "2020-12-21                  978  4586  3995  3804  3565  3165  2715  2415   \n",
       "2020-12-20                  665  5436  9188  9881  9211  8556  7707  6795   \n",
       "2020-12-19                  149   487   135   125    93    69    37    23   \n",
       "2020-12-18                  355  4865  7467  7802  7851  7396  6649  5827   \n",
       "\n",
       "generation_to_upload_days    8     9     10    11    12    13  \n",
       "upload_date                                                    \n",
       "2020-12-22                 2922  2784  2722  2646  2603  2548  \n",
       "2020-12-21                 2197  2070  2006  1963  1921  1860  \n",
       "2020-12-20                 6168  5806  5584  5429  5309  5290  \n",
       "2020-12-19                   15    14    10     0     0     0  \n",
       "2020-12-18                 5174  4561  4162  3943  3812  3745  "
      ]
     },
     "execution_count": 35,
     "metadata": {},
     "output_type": "execute_result"
    }
   ],
   "source": [
    "generation_to_upload_period_pivot_df = \\\n",
    "    shared_teks_generation_to_upload_df[\n",
    "        [\"upload_date\", \"generation_to_upload_days\", \"shared_teks\"]] \\\n",
    "        .pivot(index=\"upload_date\", columns=\"generation_to_upload_days\") \\\n",
    "        .sort_index(ascending=False).fillna(0).astype(int) \\\n",
    "        .droplevel(level=0, axis=1)\n",
    "generation_to_upload_period_pivot_df.head()"
   ]
  },
  {
   "cell_type": "code",
   "execution_count": 36,
   "metadata": {
    "collapsed": false,
    "execution": {
     "iopub.execute_input": "2020-12-22T23:36:42.891701Z",
     "iopub.status.busy": "2020-12-22T23:36:42.891125Z",
     "iopub.status.idle": "2020-12-22T23:36:42.902543Z",
     "shell.execute_reply": "2020-12-22T23:36:42.902087Z"
    },
    "papermill": {
     "duration": 1.246052,
     "end_time": "2020-12-22T23:36:42.902674",
     "exception": false,
     "start_time": "2020-12-22T23:36:41.656622",
     "status": "completed"
    },
    "pycharm": {
     "name": "#%%\n"
    },
    "tags": []
   },
   "outputs": [
    {
     "data": {
      "text/html": [
       "<div>\n",
       "<style scoped>\n",
       "    .dataframe tbody tr th:only-of-type {\n",
       "        vertical-align: middle;\n",
       "    }\n",
       "\n",
       "    .dataframe tbody tr th {\n",
       "        vertical-align: top;\n",
       "    }\n",
       "\n",
       "    .dataframe thead th {\n",
       "        text-align: right;\n",
       "    }\n",
       "</style>\n",
       "<table border=\"1\" class=\"dataframe\">\n",
       "  <thead>\n",
       "    <tr style=\"text-align: right;\">\n",
       "      <th></th>\n",
       "      <th>sample_date_string</th>\n",
       "      <th>shared_teks_by_upload_date</th>\n",
       "    </tr>\n",
       "  </thead>\n",
       "  <tbody>\n",
       "    <tr>\n",
       "      <th>80</th>\n",
       "      <td>2020-12-18</td>\n",
       "      <td>73609.0</td>\n",
       "    </tr>\n",
       "    <tr>\n",
       "      <th>81</th>\n",
       "      <td>2020-12-19</td>\n",
       "      <td>1157.0</td>\n",
       "    </tr>\n",
       "    <tr>\n",
       "      <th>82</th>\n",
       "      <td>2020-12-20</td>\n",
       "      <td>91025.0</td>\n",
       "    </tr>\n",
       "    <tr>\n",
       "      <th>83</th>\n",
       "      <td>2020-12-21</td>\n",
       "      <td>37240.0</td>\n",
       "    </tr>\n",
       "    <tr>\n",
       "      <th>84</th>\n",
       "      <td>2020-12-22</td>\n",
       "      <td>47923.0</td>\n",
       "    </tr>\n",
       "  </tbody>\n",
       "</table>\n",
       "</div>"
      ],
      "text/plain": [
       "   sample_date_string  shared_teks_by_upload_date\n",
       "80         2020-12-18                     73609.0\n",
       "81         2020-12-19                      1157.0\n",
       "82         2020-12-20                     91025.0\n",
       "83         2020-12-21                     37240.0\n",
       "84         2020-12-22                     47923.0"
      ]
     },
     "execution_count": 36,
     "metadata": {},
     "output_type": "execute_result"
    }
   ],
   "source": [
    "new_tek_df = tek_list_df.diff().tek_list.apply(\n",
    "    lambda x: len(x) if not pd.isna(x) else None).to_frame().reset_index()\n",
    "new_tek_df.rename(columns={\n",
    "    \"tek_list\": \"shared_teks_by_upload_date\",\n",
    "    \"extraction_date\": \"sample_date_string\",}, inplace=True)\n",
    "new_tek_df.tail()"
   ]
  },
  {
   "cell_type": "code",
   "execution_count": 37,
   "metadata": {
    "collapsed": false,
    "execution": {
     "iopub.execute_input": "2020-12-22T23:36:43.028632Z",
     "iopub.status.busy": "2020-12-22T23:36:43.028053Z",
     "iopub.status.idle": "2020-12-22T23:36:43.030155Z",
     "shell.execute_reply": "2020-12-22T23:36:43.030550Z"
    },
    "papermill": {
     "duration": 0.070554,
     "end_time": "2020-12-22T23:36:43.030691",
     "exception": false,
     "start_time": "2020-12-22T23:36:42.960137",
     "status": "completed"
    },
    "pycharm": {
     "name": "#%%\n"
    },
    "tags": []
   },
   "outputs": [
    {
     "data": {
      "text/html": [
       "<div>\n",
       "<style scoped>\n",
       "    .dataframe tbody tr th:only-of-type {\n",
       "        vertical-align: middle;\n",
       "    }\n",
       "\n",
       "    .dataframe tbody tr th {\n",
       "        vertical-align: top;\n",
       "    }\n",
       "\n",
       "    .dataframe thead th {\n",
       "        text-align: right;\n",
       "    }\n",
       "</style>\n",
       "<table border=\"1\" class=\"dataframe\">\n",
       "  <thead>\n",
       "    <tr style=\"text-align: right;\">\n",
       "      <th></th>\n",
       "      <th>sample_date_string</th>\n",
       "      <th>shared_teks_uploaded_on_generation_date</th>\n",
       "    </tr>\n",
       "  </thead>\n",
       "  <tbody>\n",
       "    <tr>\n",
       "      <th>92</th>\n",
       "      <td>2020-12-22</td>\n",
       "      <td>1886</td>\n",
       "    </tr>\n",
       "    <tr>\n",
       "      <th>92</th>\n",
       "      <td>2020-12-21</td>\n",
       "      <td>978</td>\n",
       "    </tr>\n",
       "    <tr>\n",
       "      <th>92</th>\n",
       "      <td>2020-12-20</td>\n",
       "      <td>665</td>\n",
       "    </tr>\n",
       "    <tr>\n",
       "      <th>92</th>\n",
       "      <td>2020-12-19</td>\n",
       "      <td>149</td>\n",
       "    </tr>\n",
       "    <tr>\n",
       "      <th>92</th>\n",
       "      <td>2020-12-18</td>\n",
       "      <td>355</td>\n",
       "    </tr>\n",
       "  </tbody>\n",
       "</table>\n",
       "</div>"
      ],
      "text/plain": [
       "   sample_date_string  shared_teks_uploaded_on_generation_date\n",
       "92         2020-12-22                                     1886\n",
       "92         2020-12-21                                      978\n",
       "92         2020-12-20                                      665\n",
       "92         2020-12-19                                      149\n",
       "92         2020-12-18                                      355"
      ]
     },
     "execution_count": 37,
     "metadata": {},
     "output_type": "execute_result"
    }
   ],
   "source": [
    "shared_teks_uploaded_on_generation_date_df = shared_teks_generation_to_upload_df[\n",
    "    shared_teks_generation_to_upload_df.generation_to_upload_days == 0] \\\n",
    "    [[\"upload_date\", \"shared_teks\"]].rename(\n",
    "    columns={\n",
    "        \"upload_date\": \"sample_date_string\",\n",
    "        \"shared_teks\": \"shared_teks_uploaded_on_generation_date\",\n",
    "    })\n",
    "shared_teks_uploaded_on_generation_date_df.head()"
   ]
  },
  {
   "cell_type": "code",
   "execution_count": 38,
   "metadata": {
    "collapsed": false,
    "execution": {
     "iopub.execute_input": "2020-12-22T23:36:43.157744Z",
     "iopub.status.busy": "2020-12-22T23:36:43.157136Z",
     "iopub.status.idle": "2020-12-22T23:36:43.160290Z",
     "shell.execute_reply": "2020-12-22T23:36:43.160719Z"
    },
    "papermill": {
     "duration": 0.073885,
     "end_time": "2020-12-22T23:36:43.160871",
     "exception": false,
     "start_time": "2020-12-22T23:36:43.086986",
     "status": "completed"
    },
    "pycharm": {
     "name": "#%%\n"
    },
    "tags": []
   },
   "outputs": [
    {
     "data": {
      "text/html": [
       "<div>\n",
       "<style scoped>\n",
       "    .dataframe tbody tr th:only-of-type {\n",
       "        vertical-align: middle;\n",
       "    }\n",
       "\n",
       "    .dataframe tbody tr th {\n",
       "        vertical-align: top;\n",
       "    }\n",
       "\n",
       "    .dataframe thead th {\n",
       "        text-align: right;\n",
       "    }\n",
       "</style>\n",
       "<table border=\"1\" class=\"dataframe\">\n",
       "  <thead>\n",
       "    <tr style=\"text-align: right;\">\n",
       "      <th></th>\n",
       "      <th>sample_date_string</th>\n",
       "      <th>shared_diagnoses</th>\n",
       "    </tr>\n",
       "  </thead>\n",
       "  <tbody>\n",
       "    <tr>\n",
       "      <th>83</th>\n",
       "      <td>2020-12-22</td>\n",
       "      <td>5820</td>\n",
       "    </tr>\n",
       "    <tr>\n",
       "      <th>82</th>\n",
       "      <td>2020-12-21</td>\n",
       "      <td>4586</td>\n",
       "    </tr>\n",
       "    <tr>\n",
       "      <th>81</th>\n",
       "      <td>0</td>\n",
       "      <td>0</td>\n",
       "    </tr>\n",
       "    <tr>\n",
       "      <th>80</th>\n",
       "      <td>0</td>\n",
       "      <td>0</td>\n",
       "    </tr>\n",
       "    <tr>\n",
       "      <th>79</th>\n",
       "      <td>2020-12-18</td>\n",
       "      <td>7851</td>\n",
       "    </tr>\n",
       "  </tbody>\n",
       "</table>\n",
       "</div>"
      ],
      "text/plain": [
       "   sample_date_string  shared_diagnoses\n",
       "83         2020-12-22              5820\n",
       "82         2020-12-21              4586\n",
       "81                  0                 0\n",
       "80                  0                 0\n",
       "79         2020-12-18              7851"
      ]
     },
     "execution_count": 38,
     "metadata": {},
     "output_type": "execute_result"
    }
   ],
   "source": [
    "estimated_shared_diagnoses_df = shared_teks_generation_to_upload_df \\\n",
    "    .groupby([\"upload_date\"]).shared_teks.max().reset_index() \\\n",
    "    .sort_values([\"upload_date\"], ascending=False) \\\n",
    "    .rename(columns={\n",
    "        \"upload_date\": \"sample_date_string\",\n",
    "        \"shared_teks\": \"shared_diagnoses\",\n",
    "    })\n",
    "invalid_shared_diagnoses_dates_mask = \\\n",
    "    estimated_shared_diagnoses_df.sample_date_string.isin(invalid_shared_diagnoses_dates)\n",
    "estimated_shared_diagnoses_df[invalid_shared_diagnoses_dates_mask] = 0\n",
    "estimated_shared_diagnoses_df.head()"
   ]
  },
  {
   "cell_type": "markdown",
   "metadata": {
    "papermill": {
     "duration": 0.056902,
     "end_time": "2020-12-22T23:36:43.275832",
     "exception": false,
     "start_time": "2020-12-22T23:36:43.218930",
     "status": "completed"
    },
    "pycharm": {
     "name": "#%% md\n"
    },
    "tags": []
   },
   "source": [
    "### Hourly New TEKs"
   ]
  },
  {
   "cell_type": "code",
   "execution_count": 39,
   "metadata": {
    "execution": {
     "iopub.execute_input": "2020-12-22T23:36:43.395227Z",
     "iopub.status.busy": "2020-12-22T23:36:43.394683Z",
     "iopub.status.idle": "2020-12-22T23:36:56.874526Z",
     "shell.execute_reply": "2020-12-22T23:36:56.873776Z"
    },
    "papermill": {
     "duration": 13.541552,
     "end_time": "2020-12-22T23:36:56.874650",
     "exception": false,
     "start_time": "2020-12-22T23:36:43.333098",
     "status": "completed"
    },
    "pycharm": {
     "name": "#%%\n"
    },
    "tags": []
   },
   "outputs": [
    {
     "data": {
      "text/html": [
       "<div>\n",
       "<style scoped>\n",
       "    .dataframe tbody tr th:only-of-type {\n",
       "        vertical-align: middle;\n",
       "    }\n",
       "\n",
       "    .dataframe tbody tr th {\n",
       "        vertical-align: top;\n",
       "    }\n",
       "\n",
       "    .dataframe thead th {\n",
       "        text-align: right;\n",
       "    }\n",
       "</style>\n",
       "<table border=\"1\" class=\"dataframe\">\n",
       "  <thead>\n",
       "    <tr style=\"text-align: right;\">\n",
       "      <th></th>\n",
       "      <th>region</th>\n",
       "      <th>sample_date</th>\n",
       "      <th>tek_list</th>\n",
       "      <th>extraction_date</th>\n",
       "      <th>extraction_date_with_hour</th>\n",
       "    </tr>\n",
       "  </thead>\n",
       "  <tbody>\n",
       "    <tr>\n",
       "      <th>3</th>\n",
       "      <td>ES</td>\n",
       "      <td>2020-12-09</td>\n",
       "      <td>[10500887-9a96-ad14-be83-deb1c37088be, 11cad6a...</td>\n",
       "      <td>2020-12-22</td>\n",
       "      <td>2020-12-22@23</td>\n",
       "    </tr>\n",
       "    <tr>\n",
       "      <th>10</th>\n",
       "      <td>ES</td>\n",
       "      <td>2020-12-10</td>\n",
       "      <td>[b0ca829d-8fb9-18f4-0752-8c578fe8582f, 8cd2d20...</td>\n",
       "      <td>2020-12-22</td>\n",
       "      <td>2020-12-22@23</td>\n",
       "    </tr>\n",
       "    <tr>\n",
       "      <th>17</th>\n",
       "      <td>ES</td>\n",
       "      <td>2020-12-11</td>\n",
       "      <td>[d07dc68f-8d3a-3ea9-84b8-ee176f64e086, 98f52ac...</td>\n",
       "      <td>2020-12-22</td>\n",
       "      <td>2020-12-22@23</td>\n",
       "    </tr>\n",
       "    <tr>\n",
       "      <th>24</th>\n",
       "      <td>ES</td>\n",
       "      <td>2020-12-12</td>\n",
       "      <td>[281b1e8c-d910-169c-c22a-009592e3ea9d, f75609a...</td>\n",
       "      <td>2020-12-22</td>\n",
       "      <td>2020-12-22@23</td>\n",
       "    </tr>\n",
       "    <tr>\n",
       "      <th>31</th>\n",
       "      <td>ES</td>\n",
       "      <td>2020-12-13</td>\n",
       "      <td>[8a77c02d-c728-9398-ed76-60d71cc89f1c, a556051...</td>\n",
       "      <td>2020-12-22</td>\n",
       "      <td>2020-12-22@23</td>\n",
       "    </tr>\n",
       "  </tbody>\n",
       "</table>\n",
       "</div>"
      ],
      "text/plain": [
       "   region sample_date                                           tek_list  \\\n",
       "3      ES  2020-12-09  [10500887-9a96-ad14-be83-deb1c37088be, 11cad6a...   \n",
       "10     ES  2020-12-10  [b0ca829d-8fb9-18f4-0752-8c578fe8582f, 8cd2d20...   \n",
       "17     ES  2020-12-11  [d07dc68f-8d3a-3ea9-84b8-ee176f64e086, 98f52ac...   \n",
       "24     ES  2020-12-12  [281b1e8c-d910-169c-c22a-009592e3ea9d, f75609a...   \n",
       "31     ES  2020-12-13  [8a77c02d-c728-9398-ed76-60d71cc89f1c, a556051...   \n",
       "\n",
       "   extraction_date extraction_date_with_hour  \n",
       "3       2020-12-22             2020-12-22@23  \n",
       "10      2020-12-22             2020-12-22@23  \n",
       "17      2020-12-22             2020-12-22@23  \n",
       "24      2020-12-22             2020-12-22@23  \n",
       "31      2020-12-22             2020-12-22@23  "
      ]
     },
     "execution_count": 39,
     "metadata": {},
     "output_type": "execute_result"
    }
   ],
   "source": [
    "hourly_extracted_teks_df = load_extracted_teks(\n",
    "    mode=\"Hourly\", region=report_backend_identifier, limit=25)\n",
    "hourly_extracted_teks_df.head()"
   ]
  },
  {
   "cell_type": "code",
   "execution_count": 40,
   "metadata": {
    "collapsed": false,
    "execution": {
     "iopub.execute_input": "2020-12-22T23:36:56.996621Z",
     "iopub.status.busy": "2020-12-22T23:36:56.996070Z",
     "iopub.status.idle": "2020-12-22T23:36:59.842733Z",
     "shell.execute_reply": "2020-12-22T23:36:59.843147Z"
    },
    "papermill": {
     "duration": 2.912304,
     "end_time": "2020-12-22T23:36:59.843309",
     "exception": false,
     "start_time": "2020-12-22T23:36:56.931005",
     "status": "completed"
    },
    "pycharm": {
     "name": "#%%\n"
    },
    "tags": []
   },
   "outputs": [
    {
     "data": {
      "text/html": [
       "<div>\n",
       "<style scoped>\n",
       "    .dataframe tbody tr th:only-of-type {\n",
       "        vertical-align: middle;\n",
       "    }\n",
       "\n",
       "    .dataframe tbody tr th {\n",
       "        vertical-align: top;\n",
       "    }\n",
       "\n",
       "    .dataframe thead th {\n",
       "        text-align: right;\n",
       "    }\n",
       "</style>\n",
       "<table border=\"1\" class=\"dataframe\">\n",
       "  <thead>\n",
       "    <tr style=\"text-align: right;\">\n",
       "      <th></th>\n",
       "      <th>extraction_date_with_hour</th>\n",
       "      <th>shared_teks_by_upload_date</th>\n",
       "    </tr>\n",
       "  </thead>\n",
       "  <tbody>\n",
       "    <tr>\n",
       "      <th>0</th>\n",
       "      <td>2020-12-21@22</td>\n",
       "      <td>0</td>\n",
       "    </tr>\n",
       "    <tr>\n",
       "      <th>1</th>\n",
       "      <td>2020-12-21@23</td>\n",
       "      <td>0</td>\n",
       "    </tr>\n",
       "    <tr>\n",
       "      <th>2</th>\n",
       "      <td>2020-12-22@01</td>\n",
       "      <td>60</td>\n",
       "    </tr>\n",
       "    <tr>\n",
       "      <th>3</th>\n",
       "      <td>2020-12-22@02</td>\n",
       "      <td>20</td>\n",
       "    </tr>\n",
       "    <tr>\n",
       "      <th>4</th>\n",
       "      <td>2020-12-22@03</td>\n",
       "      <td>0</td>\n",
       "    </tr>\n",
       "  </tbody>\n",
       "</table>\n",
       "</div>"
      ],
      "text/plain": [
       "  extraction_date_with_hour  shared_teks_by_upload_date\n",
       "0             2020-12-21@22                           0\n",
       "1             2020-12-21@23                           0\n",
       "2             2020-12-22@01                          60\n",
       "3             2020-12-22@02                          20\n",
       "4             2020-12-22@03                           0"
      ]
     },
     "execution_count": 40,
     "metadata": {},
     "output_type": "execute_result"
    }
   ],
   "source": [
    "hourly_new_tek_count_df = hourly_extracted_teks_df \\\n",
    "    .groupby(\"extraction_date_with_hour\").tek_list. \\\n",
    "    apply(lambda x: set(sum(x, []))).reset_index().copy()\n",
    "hourly_new_tek_count_df = hourly_new_tek_count_df.set_index(\"extraction_date_with_hour\") \\\n",
    "    .sort_index(ascending=True)\n",
    "\n",
    "hourly_new_tek_count_df[\"new_tek_list\"] = hourly_new_tek_count_df.tek_list.diff()\n",
    "hourly_new_tek_count_df[\"new_tek_count\"] = hourly_new_tek_count_df.new_tek_list.apply(\n",
    "    lambda x: len(x) if not pd.isna(x) else 0)\n",
    "hourly_new_tek_count_df.rename(columns={\n",
    "    \"new_tek_count\": \"shared_teks_by_upload_date\"}, inplace=True)\n",
    "hourly_new_tek_count_df = hourly_new_tek_count_df.reset_index()[[\n",
    "    \"extraction_date_with_hour\", \"shared_teks_by_upload_date\"]]\n",
    "hourly_new_tek_count_df.head()"
   ]
  },
  {
   "cell_type": "code",
   "execution_count": 41,
   "metadata": {
    "collapsed": false,
    "execution": {
     "iopub.execute_input": "2020-12-22T23:36:59.979440Z",
     "iopub.status.busy": "2020-12-22T23:36:59.978673Z",
     "iopub.status.idle": "2020-12-22T23:36:59.981054Z",
     "shell.execute_reply": "2020-12-22T23:36:59.981474Z"
    },
    "papermill": {
     "duration": 0.078841,
     "end_time": "2020-12-22T23:36:59.981615",
     "exception": false,
     "start_time": "2020-12-22T23:36:59.902774",
     "status": "completed"
    },
    "pycharm": {
     "name": "#%%\n"
    },
    "tags": []
   },
   "outputs": [
    {
     "data": {
      "text/html": [
       "<div>\n",
       "<style scoped>\n",
       "    .dataframe tbody tr th:only-of-type {\n",
       "        vertical-align: middle;\n",
       "    }\n",
       "\n",
       "    .dataframe tbody tr th {\n",
       "        vertical-align: top;\n",
       "    }\n",
       "\n",
       "    .dataframe thead th {\n",
       "        text-align: right;\n",
       "    }\n",
       "</style>\n",
       "<table border=\"1\" class=\"dataframe\">\n",
       "  <thead>\n",
       "    <tr style=\"text-align: right;\">\n",
       "      <th></th>\n",
       "      <th>extraction_date_with_hour</th>\n",
       "      <th>shared_teks_by_upload_date</th>\n",
       "    </tr>\n",
       "    <tr>\n",
       "      <th>datetime_utc</th>\n",
       "      <th></th>\n",
       "      <th></th>\n",
       "    </tr>\n",
       "  </thead>\n",
       "  <tbody>\n",
       "    <tr>\n",
       "      <th>2020-12-21 23:00:00</th>\n",
       "      <td>2020-12-21@23</td>\n",
       "      <td>0</td>\n",
       "    </tr>\n",
       "    <tr>\n",
       "      <th>2020-12-22 01:00:00</th>\n",
       "      <td>2020-12-22@01</td>\n",
       "      <td>60</td>\n",
       "    </tr>\n",
       "    <tr>\n",
       "      <th>2020-12-22 02:00:00</th>\n",
       "      <td>2020-12-22@02</td>\n",
       "      <td>20</td>\n",
       "    </tr>\n",
       "    <tr>\n",
       "      <th>2020-12-22 03:00:00</th>\n",
       "      <td>2020-12-22@03</td>\n",
       "      <td>0</td>\n",
       "    </tr>\n",
       "    <tr>\n",
       "      <th>2020-12-22 04:00:00</th>\n",
       "      <td>2020-12-22@04</td>\n",
       "      <td>448</td>\n",
       "    </tr>\n",
       "  </tbody>\n",
       "</table>\n",
       "</div>"
      ],
      "text/plain": [
       "                    extraction_date_with_hour  shared_teks_by_upload_date\n",
       "datetime_utc                                                             \n",
       "2020-12-21 23:00:00             2020-12-21@23                           0\n",
       "2020-12-22 01:00:00             2020-12-22@01                          60\n",
       "2020-12-22 02:00:00             2020-12-22@02                          20\n",
       "2020-12-22 03:00:00             2020-12-22@03                           0\n",
       "2020-12-22 04:00:00             2020-12-22@04                         448"
      ]
     },
     "execution_count": 41,
     "metadata": {},
     "output_type": "execute_result"
    }
   ],
   "source": [
    "hourly_summary_df = hourly_new_tek_count_df.copy()\n",
    "hourly_summary_df.set_index(\"extraction_date_with_hour\", inplace=True)\n",
    "hourly_summary_df = hourly_summary_df.fillna(0).astype(int).reset_index()\n",
    "hourly_summary_df[\"datetime_utc\"] = pd.to_datetime(\n",
    "    hourly_summary_df.extraction_date_with_hour, format=\"%Y-%m-%d@%H\")\n",
    "hourly_summary_df.set_index(\"datetime_utc\", inplace=True)\n",
    "hourly_summary_df = hourly_summary_df.tail(-1)\n",
    "hourly_summary_df.head()"
   ]
  },
  {
   "cell_type": "markdown",
   "metadata": {
    "collapsed": false,
    "papermill": {
     "duration": 0.057102,
     "end_time": "2020-12-22T23:37:00.103237",
     "exception": false,
     "start_time": "2020-12-22T23:37:00.046135",
     "status": "completed"
    },
    "tags": []
   },
   "source": [
    "### Data Merge"
   ]
  },
  {
   "cell_type": "code",
   "execution_count": 42,
   "metadata": {
    "collapsed": false,
    "execution": {
     "iopub.execute_input": "2020-12-22T23:37:00.246622Z",
     "iopub.status.busy": "2020-12-22T23:37:00.246033Z",
     "iopub.status.idle": "2020-12-22T23:37:00.248240Z",
     "shell.execute_reply": "2020-12-22T23:37:00.248669Z"
    },
    "papermill": {
     "duration": 0.082593,
     "end_time": "2020-12-22T23:37:00.248825",
     "exception": false,
     "start_time": "2020-12-22T23:37:00.166232",
     "status": "completed"
    },
    "pycharm": {
     "name": "#%%\n"
    },
    "tags": []
   },
   "outputs": [
    {
     "data": {
      "text/html": [
       "<div>\n",
       "<style scoped>\n",
       "    .dataframe tbody tr th:only-of-type {\n",
       "        vertical-align: middle;\n",
       "    }\n",
       "\n",
       "    .dataframe tbody tr th {\n",
       "        vertical-align: top;\n",
       "    }\n",
       "\n",
       "    .dataframe thead th {\n",
       "        text-align: right;\n",
       "    }\n",
       "</style>\n",
       "<table border=\"1\" class=\"dataframe\">\n",
       "  <thead>\n",
       "    <tr style=\"text-align: right;\">\n",
       "      <th></th>\n",
       "      <th>sample_date_string</th>\n",
       "      <th>shared_teks_by_generation_date</th>\n",
       "      <th>shared_teks_by_upload_date</th>\n",
       "    </tr>\n",
       "  </thead>\n",
       "  <tbody>\n",
       "    <tr>\n",
       "      <th>0</th>\n",
       "      <td>2020-12-22</td>\n",
       "      <td>1886</td>\n",
       "      <td>47923.0</td>\n",
       "    </tr>\n",
       "    <tr>\n",
       "      <th>1</th>\n",
       "      <td>2020-12-21</td>\n",
       "      <td>6798</td>\n",
       "      <td>37240.0</td>\n",
       "    </tr>\n",
       "    <tr>\n",
       "      <th>2</th>\n",
       "      <td>2020-12-20</td>\n",
       "      <td>9989</td>\n",
       "      <td>91025.0</td>\n",
       "    </tr>\n",
       "    <tr>\n",
       "      <th>3</th>\n",
       "      <td>2020-12-19</td>\n",
       "      <td>14128</td>\n",
       "      <td>1157.0</td>\n",
       "    </tr>\n",
       "    <tr>\n",
       "      <th>4</th>\n",
       "      <td>2020-12-18</td>\n",
       "      <td>18163</td>\n",
       "      <td>73609.0</td>\n",
       "    </tr>\n",
       "  </tbody>\n",
       "</table>\n",
       "</div>"
      ],
      "text/plain": [
       "  sample_date_string  shared_teks_by_generation_date  \\\n",
       "0         2020-12-22                            1886   \n",
       "1         2020-12-21                            6798   \n",
       "2         2020-12-20                            9989   \n",
       "3         2020-12-19                           14128   \n",
       "4         2020-12-18                           18163   \n",
       "\n",
       "   shared_teks_by_upload_date  \n",
       "0                     47923.0  \n",
       "1                     37240.0  \n",
       "2                     91025.0  \n",
       "3                      1157.0  \n",
       "4                     73609.0  "
      ]
     },
     "execution_count": 42,
     "metadata": {},
     "output_type": "execute_result"
    }
   ],
   "source": [
    "result_summary_df = exposure_keys_summary_df.merge(\n",
    "    new_tek_df, on=[\"sample_date_string\"], how=\"outer\")\n",
    "result_summary_df.head()"
   ]
  },
  {
   "cell_type": "code",
   "execution_count": 43,
   "metadata": {
    "collapsed": false,
    "execution": {
     "iopub.execute_input": "2020-12-22T23:37:00.384090Z",
     "iopub.status.busy": "2020-12-22T23:37:00.383512Z",
     "iopub.status.idle": "2020-12-22T23:37:00.386371Z",
     "shell.execute_reply": "2020-12-22T23:37:00.385922Z"
    },
    "papermill": {
     "duration": 0.078991,
     "end_time": "2020-12-22T23:37:00.386499",
     "exception": false,
     "start_time": "2020-12-22T23:37:00.307508",
     "status": "completed"
    },
    "pycharm": {
     "name": "#%%\n"
    },
    "tags": []
   },
   "outputs": [
    {
     "data": {
      "text/html": [
       "<div>\n",
       "<style scoped>\n",
       "    .dataframe tbody tr th:only-of-type {\n",
       "        vertical-align: middle;\n",
       "    }\n",
       "\n",
       "    .dataframe tbody tr th {\n",
       "        vertical-align: top;\n",
       "    }\n",
       "\n",
       "    .dataframe thead th {\n",
       "        text-align: right;\n",
       "    }\n",
       "</style>\n",
       "<table border=\"1\" class=\"dataframe\">\n",
       "  <thead>\n",
       "    <tr style=\"text-align: right;\">\n",
       "      <th></th>\n",
       "      <th>sample_date_string</th>\n",
       "      <th>shared_teks_by_generation_date</th>\n",
       "      <th>shared_teks_by_upload_date</th>\n",
       "      <th>shared_teks_uploaded_on_generation_date</th>\n",
       "    </tr>\n",
       "  </thead>\n",
       "  <tbody>\n",
       "    <tr>\n",
       "      <th>0</th>\n",
       "      <td>2020-12-22</td>\n",
       "      <td>1886</td>\n",
       "      <td>47923.0</td>\n",
       "      <td>1886.0</td>\n",
       "    </tr>\n",
       "    <tr>\n",
       "      <th>1</th>\n",
       "      <td>2020-12-21</td>\n",
       "      <td>6798</td>\n",
       "      <td>37240.0</td>\n",
       "      <td>978.0</td>\n",
       "    </tr>\n",
       "    <tr>\n",
       "      <th>2</th>\n",
       "      <td>2020-12-20</td>\n",
       "      <td>9989</td>\n",
       "      <td>91025.0</td>\n",
       "      <td>665.0</td>\n",
       "    </tr>\n",
       "    <tr>\n",
       "      <th>3</th>\n",
       "      <td>2020-12-19</td>\n",
       "      <td>14128</td>\n",
       "      <td>1157.0</td>\n",
       "      <td>149.0</td>\n",
       "    </tr>\n",
       "    <tr>\n",
       "      <th>4</th>\n",
       "      <td>2020-12-18</td>\n",
       "      <td>18163</td>\n",
       "      <td>73609.0</td>\n",
       "      <td>355.0</td>\n",
       "    </tr>\n",
       "  </tbody>\n",
       "</table>\n",
       "</div>"
      ],
      "text/plain": [
       "  sample_date_string  shared_teks_by_generation_date  \\\n",
       "0         2020-12-22                            1886   \n",
       "1         2020-12-21                            6798   \n",
       "2         2020-12-20                            9989   \n",
       "3         2020-12-19                           14128   \n",
       "4         2020-12-18                           18163   \n",
       "\n",
       "   shared_teks_by_upload_date  shared_teks_uploaded_on_generation_date  \n",
       "0                     47923.0                                   1886.0  \n",
       "1                     37240.0                                    978.0  \n",
       "2                     91025.0                                    665.0  \n",
       "3                      1157.0                                    149.0  \n",
       "4                     73609.0                                    355.0  "
      ]
     },
     "execution_count": 43,
     "metadata": {},
     "output_type": "execute_result"
    }
   ],
   "source": [
    "result_summary_df = result_summary_df.merge(\n",
    "    shared_teks_uploaded_on_generation_date_df, on=[\"sample_date_string\"], how=\"outer\")\n",
    "result_summary_df.head()"
   ]
  },
  {
   "cell_type": "code",
   "execution_count": 44,
   "metadata": {
    "collapsed": false,
    "execution": {
     "iopub.execute_input": "2020-12-22T23:37:00.519751Z",
     "iopub.status.busy": "2020-12-22T23:37:00.519177Z",
     "iopub.status.idle": "2020-12-22T23:37:00.521382Z",
     "shell.execute_reply": "2020-12-22T23:37:00.521835Z"
    },
    "papermill": {
     "duration": 0.076825,
     "end_time": "2020-12-22T23:37:00.521979",
     "exception": false,
     "start_time": "2020-12-22T23:37:00.445154",
     "status": "completed"
    },
    "pycharm": {
     "name": "#%%\n"
    },
    "tags": []
   },
   "outputs": [
    {
     "data": {
      "text/html": [
       "<div>\n",
       "<style scoped>\n",
       "    .dataframe tbody tr th:only-of-type {\n",
       "        vertical-align: middle;\n",
       "    }\n",
       "\n",
       "    .dataframe tbody tr th {\n",
       "        vertical-align: top;\n",
       "    }\n",
       "\n",
       "    .dataframe thead th {\n",
       "        text-align: right;\n",
       "    }\n",
       "</style>\n",
       "<table border=\"1\" class=\"dataframe\">\n",
       "  <thead>\n",
       "    <tr style=\"text-align: right;\">\n",
       "      <th></th>\n",
       "      <th>sample_date_string</th>\n",
       "      <th>shared_teks_by_generation_date</th>\n",
       "      <th>shared_teks_by_upload_date</th>\n",
       "      <th>shared_teks_uploaded_on_generation_date</th>\n",
       "      <th>shared_diagnoses</th>\n",
       "    </tr>\n",
       "  </thead>\n",
       "  <tbody>\n",
       "    <tr>\n",
       "      <th>0</th>\n",
       "      <td>2020-12-22</td>\n",
       "      <td>1886.0</td>\n",
       "      <td>47923.0</td>\n",
       "      <td>1886.0</td>\n",
       "      <td>5820.0</td>\n",
       "    </tr>\n",
       "    <tr>\n",
       "      <th>1</th>\n",
       "      <td>2020-12-21</td>\n",
       "      <td>6798.0</td>\n",
       "      <td>37240.0</td>\n",
       "      <td>978.0</td>\n",
       "      <td>4586.0</td>\n",
       "    </tr>\n",
       "    <tr>\n",
       "      <th>2</th>\n",
       "      <td>2020-12-20</td>\n",
       "      <td>9989.0</td>\n",
       "      <td>91025.0</td>\n",
       "      <td>665.0</td>\n",
       "      <td>NaN</td>\n",
       "    </tr>\n",
       "    <tr>\n",
       "      <th>3</th>\n",
       "      <td>2020-12-19</td>\n",
       "      <td>14128.0</td>\n",
       "      <td>1157.0</td>\n",
       "      <td>149.0</td>\n",
       "      <td>NaN</td>\n",
       "    </tr>\n",
       "    <tr>\n",
       "      <th>4</th>\n",
       "      <td>2020-12-18</td>\n",
       "      <td>18163.0</td>\n",
       "      <td>73609.0</td>\n",
       "      <td>355.0</td>\n",
       "      <td>7851.0</td>\n",
       "    </tr>\n",
       "  </tbody>\n",
       "</table>\n",
       "</div>"
      ],
      "text/plain": [
       "  sample_date_string  shared_teks_by_generation_date  \\\n",
       "0         2020-12-22                          1886.0   \n",
       "1         2020-12-21                          6798.0   \n",
       "2         2020-12-20                          9989.0   \n",
       "3         2020-12-19                         14128.0   \n",
       "4         2020-12-18                         18163.0   \n",
       "\n",
       "   shared_teks_by_upload_date  shared_teks_uploaded_on_generation_date  \\\n",
       "0                     47923.0                                   1886.0   \n",
       "1                     37240.0                                    978.0   \n",
       "2                     91025.0                                    665.0   \n",
       "3                      1157.0                                    149.0   \n",
       "4                     73609.0                                    355.0   \n",
       "\n",
       "   shared_diagnoses  \n",
       "0            5820.0  \n",
       "1            4586.0  \n",
       "2               NaN  \n",
       "3               NaN  \n",
       "4            7851.0  "
      ]
     },
     "execution_count": 44,
     "metadata": {},
     "output_type": "execute_result"
    }
   ],
   "source": [
    "result_summary_df = result_summary_df.merge(\n",
    "    estimated_shared_diagnoses_df, on=[\"sample_date_string\"], how=\"outer\")\n",
    "result_summary_df.head()"
   ]
  },
  {
   "cell_type": "code",
   "execution_count": 45,
   "metadata": {
    "collapsed": false,
    "execution": {
     "iopub.execute_input": "2020-12-22T23:37:00.665024Z",
     "iopub.status.busy": "2020-12-22T23:37:00.656805Z",
     "iopub.status.idle": "2020-12-22T23:37:00.669802Z",
     "shell.execute_reply": "2020-12-22T23:37:00.670217Z"
    },
    "papermill": {
     "duration": 0.082624,
     "end_time": "2020-12-22T23:37:00.670383",
     "exception": false,
     "start_time": "2020-12-22T23:37:00.587759",
     "status": "completed"
    },
    "pycharm": {
     "name": "#%%\n"
    },
    "tags": []
   },
   "outputs": [
    {
     "data": {
      "text/html": [
       "<div>\n",
       "<style scoped>\n",
       "    .dataframe tbody tr th:only-of-type {\n",
       "        vertical-align: middle;\n",
       "    }\n",
       "\n",
       "    .dataframe tbody tr th {\n",
       "        vertical-align: top;\n",
       "    }\n",
       "\n",
       "    .dataframe thead th {\n",
       "        text-align: right;\n",
       "    }\n",
       "</style>\n",
       "<table border=\"1\" class=\"dataframe\">\n",
       "  <thead>\n",
       "    <tr style=\"text-align: right;\">\n",
       "      <th></th>\n",
       "      <th>sample_date_string</th>\n",
       "      <th>new_cases</th>\n",
       "      <th>covid_cases</th>\n",
       "      <th>shared_teks_by_generation_date</th>\n",
       "      <th>shared_teks_by_upload_date</th>\n",
       "      <th>shared_teks_uploaded_on_generation_date</th>\n",
       "      <th>shared_diagnoses</th>\n",
       "    </tr>\n",
       "  </thead>\n",
       "  <tbody>\n",
       "    <tr>\n",
       "      <th>0</th>\n",
       "      <td>2020-09-30</td>\n",
       "      <td>20922.0</td>\n",
       "      <td>10805.0</td>\n",
       "      <td>294.0</td>\n",
       "      <td>271.0</td>\n",
       "      <td>55.0</td>\n",
       "      <td>55.0</td>\n",
       "    </tr>\n",
       "    <tr>\n",
       "      <th>1</th>\n",
       "      <td>2020-10-01</td>\n",
       "      <td>9419.0</td>\n",
       "      <td>10628.0</td>\n",
       "      <td>317.0</td>\n",
       "      <td>367.0</td>\n",
       "      <td>75.0</td>\n",
       "      <td>75.0</td>\n",
       "    </tr>\n",
       "    <tr>\n",
       "      <th>2</th>\n",
       "      <td>2020-10-02</td>\n",
       "      <td>11325.0</td>\n",
       "      <td>10493.0</td>\n",
       "      <td>312.0</td>\n",
       "      <td>299.0</td>\n",
       "      <td>72.0</td>\n",
       "      <td>72.0</td>\n",
       "    </tr>\n",
       "    <tr>\n",
       "      <th>3</th>\n",
       "      <td>2020-10-03</td>\n",
       "      <td>0.0</td>\n",
       "      <td>10493.0</td>\n",
       "      <td>312.0</td>\n",
       "      <td>324.0</td>\n",
       "      <td>69.0</td>\n",
       "      <td>76.0</td>\n",
       "    </tr>\n",
       "    <tr>\n",
       "      <th>4</th>\n",
       "      <td>2020-10-04</td>\n",
       "      <td>0.0</td>\n",
       "      <td>10493.0</td>\n",
       "      <td>353.0</td>\n",
       "      <td>331.0</td>\n",
       "      <td>76.0</td>\n",
       "      <td>78.0</td>\n",
       "    </tr>\n",
       "  </tbody>\n",
       "</table>\n",
       "</div>"
      ],
      "text/plain": [
       "  sample_date_string  new_cases  covid_cases  shared_teks_by_generation_date  \\\n",
       "0         2020-09-30    20922.0      10805.0                           294.0   \n",
       "1         2020-10-01     9419.0      10628.0                           317.0   \n",
       "2         2020-10-02    11325.0      10493.0                           312.0   \n",
       "3         2020-10-03        0.0      10493.0                           312.0   \n",
       "4         2020-10-04        0.0      10493.0                           353.0   \n",
       "\n",
       "   shared_teks_by_upload_date  shared_teks_uploaded_on_generation_date  \\\n",
       "0                       271.0                                     55.0   \n",
       "1                       367.0                                     75.0   \n",
       "2                       299.0                                     72.0   \n",
       "3                       324.0                                     69.0   \n",
       "4                       331.0                                     76.0   \n",
       "\n",
       "   shared_diagnoses  \n",
       "0              55.0  \n",
       "1              75.0  \n",
       "2              72.0  \n",
       "3              76.0  \n",
       "4              78.0  "
      ]
     },
     "execution_count": 45,
     "metadata": {},
     "output_type": "execute_result"
    }
   ],
   "source": [
    "result_summary_df = confirmed_df.tail(daily_summary_days).merge(\n",
    "    result_summary_df, on=[\"sample_date_string\"], how=\"left\")\n",
    "result_summary_df.head()"
   ]
  },
  {
   "cell_type": "code",
   "execution_count": 46,
   "metadata": {
    "collapsed": false,
    "execution": {
     "iopub.execute_input": "2020-12-22T23:37:00.800106Z",
     "iopub.status.busy": "2020-12-22T23:37:00.799193Z",
     "iopub.status.idle": "2020-12-22T23:37:00.840720Z",
     "shell.execute_reply": "2020-12-22T23:37:00.841604Z"
    },
    "papermill": {
     "duration": 0.112426,
     "end_time": "2020-12-22T23:37:00.841900",
     "exception": false,
     "start_time": "2020-12-22T23:37:00.729474",
     "status": "completed"
    },
    "pycharm": {
     "name": "#%%\n"
    },
    "tags": []
   },
   "outputs": [
    {
     "data": {
      "text/html": [
       "<div>\n",
       "<style scoped>\n",
       "    .dataframe tbody tr th:only-of-type {\n",
       "        vertical-align: middle;\n",
       "    }\n",
       "\n",
       "    .dataframe tbody tr th {\n",
       "        vertical-align: top;\n",
       "    }\n",
       "\n",
       "    .dataframe thead th {\n",
       "        text-align: right;\n",
       "    }\n",
       "</style>\n",
       "<table border=\"1\" class=\"dataframe\">\n",
       "  <thead>\n",
       "    <tr style=\"text-align: right;\">\n",
       "      <th></th>\n",
       "      <th></th>\n",
       "      <th>new_cases</th>\n",
       "      <th>covid_cases</th>\n",
       "      <th>shared_teks_by_generation_date</th>\n",
       "      <th>shared_teks_by_upload_date</th>\n",
       "      <th>shared_teks_uploaded_on_generation_date</th>\n",
       "      <th>shared_diagnoses</th>\n",
       "    </tr>\n",
       "    <tr>\n",
       "      <th>sample_date</th>\n",
       "      <th>source_regions</th>\n",
       "      <th></th>\n",
       "      <th></th>\n",
       "      <th></th>\n",
       "      <th></th>\n",
       "      <th></th>\n",
       "      <th></th>\n",
       "    </tr>\n",
       "  </thead>\n",
       "  <tbody>\n",
       "    <tr>\n",
       "      <th>2020-12-22</th>\n",
       "      <th>ES,DE,DK,HR,IE,IT,LV,NL,PL</th>\n",
       "      <td>73080.0</td>\n",
       "      <td>78722.0</td>\n",
       "      <td>1886.0</td>\n",
       "      <td>47923.0</td>\n",
       "      <td>1886.0</td>\n",
       "      <td>5820.0</td>\n",
       "    </tr>\n",
       "    <tr>\n",
       "      <th>2020-12-21</th>\n",
       "      <th>ES,DE,DK,HR,IE,IT,LV,NL,PL</th>\n",
       "      <td>73080.0</td>\n",
       "      <td>78722.0</td>\n",
       "      <td>6798.0</td>\n",
       "      <td>37240.0</td>\n",
       "      <td>978.0</td>\n",
       "      <td>4586.0</td>\n",
       "    </tr>\n",
       "    <tr>\n",
       "      <th>2020-12-20</th>\n",
       "      <th>ES,DE,DK,HR,IE,IT,LV,NL,PL</th>\n",
       "      <td>49427.0</td>\n",
       "      <td>76637.0</td>\n",
       "      <td>9989.0</td>\n",
       "      <td>91025.0</td>\n",
       "      <td>665.0</td>\n",
       "      <td>NaN</td>\n",
       "    </tr>\n",
       "    <tr>\n",
       "      <th>2020-12-19</th>\n",
       "      <th>ES,DE,DK,HR,IE,IT,LV,NL,PL</th>\n",
       "      <td>68947.0</td>\n",
       "      <td>77951.0</td>\n",
       "      <td>14128.0</td>\n",
       "      <td>1157.0</td>\n",
       "      <td>149.0</td>\n",
       "      <td>NaN</td>\n",
       "    </tr>\n",
       "    <tr>\n",
       "      <th>2020-12-18</th>\n",
       "      <th>ES,DE,DK,HR,IE,IT,LV,NL,PL</th>\n",
       "      <td>92328.0</td>\n",
       "      <td>78240.0</td>\n",
       "      <td>18163.0</td>\n",
       "      <td>73609.0</td>\n",
       "      <td>355.0</td>\n",
       "      <td>7851.0</td>\n",
       "    </tr>\n",
       "  </tbody>\n",
       "</table>\n",
       "</div>"
      ],
      "text/plain": [
       "                                        new_cases  covid_cases  \\\n",
       "sample_date source_regions                                       \n",
       "2020-12-22  ES,DE,DK,HR,IE,IT,LV,NL,PL    73080.0      78722.0   \n",
       "2020-12-21  ES,DE,DK,HR,IE,IT,LV,NL,PL    73080.0      78722.0   \n",
       "2020-12-20  ES,DE,DK,HR,IE,IT,LV,NL,PL    49427.0      76637.0   \n",
       "2020-12-19  ES,DE,DK,HR,IE,IT,LV,NL,PL    68947.0      77951.0   \n",
       "2020-12-18  ES,DE,DK,HR,IE,IT,LV,NL,PL    92328.0      78240.0   \n",
       "\n",
       "                                        shared_teks_by_generation_date  \\\n",
       "sample_date source_regions                                               \n",
       "2020-12-22  ES,DE,DK,HR,IE,IT,LV,NL,PL                          1886.0   \n",
       "2020-12-21  ES,DE,DK,HR,IE,IT,LV,NL,PL                          6798.0   \n",
       "2020-12-20  ES,DE,DK,HR,IE,IT,LV,NL,PL                          9989.0   \n",
       "2020-12-19  ES,DE,DK,HR,IE,IT,LV,NL,PL                         14128.0   \n",
       "2020-12-18  ES,DE,DK,HR,IE,IT,LV,NL,PL                         18163.0   \n",
       "\n",
       "                                        shared_teks_by_upload_date  \\\n",
       "sample_date source_regions                                           \n",
       "2020-12-22  ES,DE,DK,HR,IE,IT,LV,NL,PL                     47923.0   \n",
       "2020-12-21  ES,DE,DK,HR,IE,IT,LV,NL,PL                     37240.0   \n",
       "2020-12-20  ES,DE,DK,HR,IE,IT,LV,NL,PL                     91025.0   \n",
       "2020-12-19  ES,DE,DK,HR,IE,IT,LV,NL,PL                      1157.0   \n",
       "2020-12-18  ES,DE,DK,HR,IE,IT,LV,NL,PL                     73609.0   \n",
       "\n",
       "                                        shared_teks_uploaded_on_generation_date  \\\n",
       "sample_date source_regions                                                        \n",
       "2020-12-22  ES,DE,DK,HR,IE,IT,LV,NL,PL                                   1886.0   \n",
       "2020-12-21  ES,DE,DK,HR,IE,IT,LV,NL,PL                                    978.0   \n",
       "2020-12-20  ES,DE,DK,HR,IE,IT,LV,NL,PL                                    665.0   \n",
       "2020-12-19  ES,DE,DK,HR,IE,IT,LV,NL,PL                                    149.0   \n",
       "2020-12-18  ES,DE,DK,HR,IE,IT,LV,NL,PL                                    355.0   \n",
       "\n",
       "                                        shared_diagnoses  \n",
       "sample_date source_regions                                \n",
       "2020-12-22  ES,DE,DK,HR,IE,IT,LV,NL,PL            5820.0  \n",
       "2020-12-21  ES,DE,DK,HR,IE,IT,LV,NL,PL            4586.0  \n",
       "2020-12-20  ES,DE,DK,HR,IE,IT,LV,NL,PL               NaN  \n",
       "2020-12-19  ES,DE,DK,HR,IE,IT,LV,NL,PL               NaN  \n",
       "2020-12-18  ES,DE,DK,HR,IE,IT,LV,NL,PL            7851.0  "
      ]
     },
     "execution_count": 46,
     "metadata": {},
     "output_type": "execute_result"
    }
   ],
   "source": [
    "result_summary_df[\"sample_date\"] = pd.to_datetime(result_summary_df.sample_date_string)\n",
    "result_summary_df = result_summary_df.merge(source_regions_for_summary_df, how=\"left\")\n",
    "result_summary_df.set_index([\"sample_date\", \"source_regions\"], inplace=True)\n",
    "result_summary_df.drop(columns=[\"sample_date_string\"], inplace=True)\n",
    "result_summary_df.sort_index(ascending=False, inplace=True)\n",
    "result_summary_df.head()"
   ]
  },
  {
   "cell_type": "code",
   "execution_count": 47,
   "metadata": {
    "execution": {
     "iopub.execute_input": "2020-12-22T23:37:00.983250Z",
     "iopub.status.busy": "2020-12-22T23:37:00.982543Z",
     "iopub.status.idle": "2020-12-22T23:37:00.985107Z",
     "shell.execute_reply": "2020-12-22T23:37:00.985548Z"
    },
    "papermill": {
     "duration": 0.082124,
     "end_time": "2020-12-22T23:37:00.985706",
     "exception": false,
     "start_time": "2020-12-22T23:37:00.903582",
     "status": "completed"
    },
    "tags": []
   },
   "outputs": [
    {
     "data": {
      "text/html": [
       "<div>\n",
       "<style scoped>\n",
       "    .dataframe tbody tr th:only-of-type {\n",
       "        vertical-align: middle;\n",
       "    }\n",
       "\n",
       "    .dataframe tbody tr th {\n",
       "        vertical-align: top;\n",
       "    }\n",
       "\n",
       "    .dataframe thead th {\n",
       "        text-align: right;\n",
       "    }\n",
       "</style>\n",
       "<table border=\"1\" class=\"dataframe\">\n",
       "  <thead>\n",
       "    <tr style=\"text-align: right;\">\n",
       "      <th></th>\n",
       "      <th></th>\n",
       "      <th>new_cases</th>\n",
       "      <th>covid_cases</th>\n",
       "      <th>shared_teks_by_generation_date</th>\n",
       "      <th>shared_teks_by_upload_date</th>\n",
       "      <th>shared_teks_uploaded_on_generation_date</th>\n",
       "      <th>shared_diagnoses</th>\n",
       "      <th>teks_per_shared_diagnosis</th>\n",
       "      <th>shared_diagnoses_per_covid_case</th>\n",
       "    </tr>\n",
       "    <tr>\n",
       "      <th>sample_date</th>\n",
       "      <th>source_regions</th>\n",
       "      <th></th>\n",
       "      <th></th>\n",
       "      <th></th>\n",
       "      <th></th>\n",
       "      <th></th>\n",
       "      <th></th>\n",
       "      <th></th>\n",
       "      <th></th>\n",
       "    </tr>\n",
       "  </thead>\n",
       "  <tbody>\n",
       "    <tr>\n",
       "      <th>2020-12-22</th>\n",
       "      <th>ES,DE,DK,HR,IE,IT,LV,NL,PL</th>\n",
       "      <td>73080</td>\n",
       "      <td>78722</td>\n",
       "      <td>1886</td>\n",
       "      <td>47923</td>\n",
       "      <td>1886</td>\n",
       "      <td>5820</td>\n",
       "      <td>8.234192</td>\n",
       "      <td>0.073931</td>\n",
       "    </tr>\n",
       "    <tr>\n",
       "      <th>2020-12-21</th>\n",
       "      <th>ES,DE,DK,HR,IE,IT,LV,NL,PL</th>\n",
       "      <td>73080</td>\n",
       "      <td>78722</td>\n",
       "      <td>6798</td>\n",
       "      <td>37240</td>\n",
       "      <td>978</td>\n",
       "      <td>4586</td>\n",
       "      <td>8.120366</td>\n",
       "      <td>0.058256</td>\n",
       "    </tr>\n",
       "    <tr>\n",
       "      <th>2020-12-20</th>\n",
       "      <th>ES,DE,DK,HR,IE,IT,LV,NL,PL</th>\n",
       "      <td>49427</td>\n",
       "      <td>76637</td>\n",
       "      <td>9989</td>\n",
       "      <td>91025</td>\n",
       "      <td>665</td>\n",
       "      <td>0</td>\n",
       "      <td>0.000000</td>\n",
       "      <td>0.000000</td>\n",
       "    </tr>\n",
       "    <tr>\n",
       "      <th>2020-12-19</th>\n",
       "      <th>ES,DE,DK,HR,IE,IT,LV,NL,PL</th>\n",
       "      <td>68947</td>\n",
       "      <td>77951</td>\n",
       "      <td>14128</td>\n",
       "      <td>1157</td>\n",
       "      <td>149</td>\n",
       "      <td>0</td>\n",
       "      <td>0.000000</td>\n",
       "      <td>0.000000</td>\n",
       "    </tr>\n",
       "    <tr>\n",
       "      <th>2020-12-18</th>\n",
       "      <th>ES,DE,DK,HR,IE,IT,LV,NL,PL</th>\n",
       "      <td>92328</td>\n",
       "      <td>78240</td>\n",
       "      <td>18163</td>\n",
       "      <td>73609</td>\n",
       "      <td>355</td>\n",
       "      <td>7851</td>\n",
       "      <td>9.375748</td>\n",
       "      <td>0.100345</td>\n",
       "    </tr>\n",
       "    <tr>\n",
       "      <th>2020-12-17</th>\n",
       "      <th>ES,DE,DK,HR,IE,IT,LV,NL,PL</th>\n",
       "      <td>94842</td>\n",
       "      <td>77479</td>\n",
       "      <td>22593</td>\n",
       "      <td>50571</td>\n",
       "      <td>295</td>\n",
       "      <td>4690</td>\n",
       "      <td>10.782729</td>\n",
       "      <td>0.060533</td>\n",
       "    </tr>\n",
       "    <tr>\n",
       "      <th>2020-12-16</th>\n",
       "      <th>ES,DE,DK,HR,IE,IT,LV,NL,PL</th>\n",
       "      <td>93581</td>\n",
       "      <td>76675</td>\n",
       "      <td>26838</td>\n",
       "      <td>59480</td>\n",
       "      <td>299</td>\n",
       "      <td>5725</td>\n",
       "      <td>10.389520</td>\n",
       "      <td>0.074666</td>\n",
       "    </tr>\n",
       "    <tr>\n",
       "      <th>2020-12-15</th>\n",
       "      <th>ES,DE,DK,HR,IE,IT,LV,NL,PL</th>\n",
       "      <td>78850</td>\n",
       "      <td>73941</td>\n",
       "      <td>30019</td>\n",
       "      <td>18196</td>\n",
       "      <td>168</td>\n",
       "      <td>1752</td>\n",
       "      <td>10.385845</td>\n",
       "      <td>0.023695</td>\n",
       "    </tr>\n",
       "    <tr>\n",
       "      <th>2020-12-14</th>\n",
       "      <th>ES,DE,DK,HR,IE,IT,LV,NL,PL</th>\n",
       "      <td>58482</td>\n",
       "      <td>71851</td>\n",
       "      <td>32026</td>\n",
       "      <td>24378</td>\n",
       "      <td>181</td>\n",
       "      <td>2282</td>\n",
       "      <td>10.682734</td>\n",
       "      <td>0.031760</td>\n",
       "    </tr>\n",
       "    <tr>\n",
       "      <th>2020-12-13</th>\n",
       "      <th>ES,DE,DK,HR,IE,IT,LV,NL,PL</th>\n",
       "      <td>58625</td>\n",
       "      <td>71028</td>\n",
       "      <td>31873</td>\n",
       "      <td>27102</td>\n",
       "      <td>96</td>\n",
       "      <td>2712</td>\n",
       "      <td>9.993363</td>\n",
       "      <td>0.038182</td>\n",
       "    </tr>\n",
       "    <tr>\n",
       "      <th>2020-12-12</th>\n",
       "      <th>ES,DE,DK,HR,IE,IT,LV,NL,PL</th>\n",
       "      <td>70972</td>\n",
       "      <td>69990</td>\n",
       "      <td>32064</td>\n",
       "      <td>38739</td>\n",
       "      <td>208</td>\n",
       "      <td>3729</td>\n",
       "      <td>10.388576</td>\n",
       "      <td>0.053279</td>\n",
       "    </tr>\n",
       "    <tr>\n",
       "      <th>2020-12-11</th>\n",
       "      <th>ES,DE,DK,HR,IE,IT,LV,NL,PL</th>\n",
       "      <td>87002</td>\n",
       "      <td>70384</td>\n",
       "      <td>31654</td>\n",
       "      <td>44911</td>\n",
       "      <td>258</td>\n",
       "      <td>4215</td>\n",
       "      <td>10.655042</td>\n",
       "      <td>0.059886</td>\n",
       "    </tr>\n",
       "    <tr>\n",
       "      <th>2020-12-10</th>\n",
       "      <th>ES,DE,DK,HR,IE,IT,LV,NL,PL</th>\n",
       "      <td>89212</td>\n",
       "      <td>68616</td>\n",
       "      <td>29915</td>\n",
       "      <td>40322</td>\n",
       "      <td>207</td>\n",
       "      <td>3754</td>\n",
       "      <td>10.741076</td>\n",
       "      <td>0.054710</td>\n",
       "    </tr>\n",
       "    <tr>\n",
       "      <th>2020-12-09</th>\n",
       "      <th>ES,DE,DK,HR,IE,IT,LV,NL,PL</th>\n",
       "      <td>74442</td>\n",
       "      <td>67982</td>\n",
       "      <td>28565</td>\n",
       "      <td>43004</td>\n",
       "      <td>117</td>\n",
       "      <td>4014</td>\n",
       "      <td>10.713503</td>\n",
       "      <td>0.059045</td>\n",
       "    </tr>\n",
       "    <tr>\n",
       "      <th>2020-12-08</th>\n",
       "      <th>ES,DE,DK,HR,IE,IT,LV,NL,PL</th>\n",
       "      <td>64223</td>\n",
       "      <td>68538</td>\n",
       "      <td>28319</td>\n",
       "      <td>30102</td>\n",
       "      <td>121</td>\n",
       "      <td>2641</td>\n",
       "      <td>11.397955</td>\n",
       "      <td>0.038533</td>\n",
       "    </tr>\n",
       "    <tr>\n",
       "      <th>2020-12-07</th>\n",
       "      <th>ES,DE,DK,HR,IE,IT,LV,NL,PL</th>\n",
       "      <td>52720</td>\n",
       "      <td>69494</td>\n",
       "      <td>29410</td>\n",
       "      <td>20104</td>\n",
       "      <td>116</td>\n",
       "      <td>1823</td>\n",
       "      <td>11.027976</td>\n",
       "      <td>0.026232</td>\n",
       "    </tr>\n",
       "    <tr>\n",
       "      <th>2020-12-06</th>\n",
       "      <th>ES,DE,DK,HR,IE,IT,LV,NL,PL</th>\n",
       "      <td>51357</td>\n",
       "      <td>71144</td>\n",
       "      <td>26784</td>\n",
       "      <td>17206</td>\n",
       "      <td>152</td>\n",
       "      <td>1707</td>\n",
       "      <td>10.079672</td>\n",
       "      <td>0.023994</td>\n",
       "    </tr>\n",
       "    <tr>\n",
       "      <th>2020-12-05</th>\n",
       "      <th>ES,DE,DK,HR,IE,IT,LV,NL,PL</th>\n",
       "      <td>73732</td>\n",
       "      <td>70329</td>\n",
       "      <td>29973</td>\n",
       "      <td>106219</td>\n",
       "      <td>167</td>\n",
       "      <td>0</td>\n",
       "      <td>0.000000</td>\n",
       "      <td>0.000000</td>\n",
       "    </tr>\n",
       "    <tr>\n",
       "      <th>2020-12-04</th>\n",
       "      <th>ES</th>\n",
       "      <td>8745</td>\n",
       "      <td>8063</td>\n",
       "      <td>34098</td>\n",
       "      <td>794</td>\n",
       "      <td>158</td>\n",
       "      <td>188</td>\n",
       "      <td>4.223404</td>\n",
       "      <td>0.023316</td>\n",
       "    </tr>\n",
       "    <tr>\n",
       "      <th>2020-12-03</th>\n",
       "      <th>ES</th>\n",
       "      <td>10127</td>\n",
       "      <td>8364</td>\n",
       "      <td>32848</td>\n",
       "      <td>828</td>\n",
       "      <td>161</td>\n",
       "      <td>189</td>\n",
       "      <td>4.380952</td>\n",
       "      <td>0.022597</td>\n",
       "    </tr>\n",
       "    <tr>\n",
       "      <th>2020-12-02</th>\n",
       "      <th>ES,DE,DK,HR,IE,IT,LV,NL,PL</th>\n",
       "      <td>78330</td>\n",
       "      <td>72301</td>\n",
       "      <td>30802</td>\n",
       "      <td>5371</td>\n",
       "      <td>197</td>\n",
       "      <td>0</td>\n",
       "      <td>0.000000</td>\n",
       "      <td>0.000000</td>\n",
       "    </tr>\n",
       "    <tr>\n",
       "      <th>2020-12-01</th>\n",
       "      <th>ES,DE,DK,HR,IE,IT,LV,PL</th>\n",
       "      <td>66717</td>\n",
       "      <td>69706</td>\n",
       "      <td>31815</td>\n",
       "      <td>24674</td>\n",
       "      <td>189</td>\n",
       "      <td>2238</td>\n",
       "      <td>11.025022</td>\n",
       "      <td>0.032106</td>\n",
       "    </tr>\n",
       "    <tr>\n",
       "      <th>2020-11-30</th>\n",
       "      <th>ES,DE,DK,HR,IE,IT,LV,PL</th>\n",
       "      <td>59675</td>\n",
       "      <td>72879</td>\n",
       "      <td>31854</td>\n",
       "      <td>15031</td>\n",
       "      <td>126</td>\n",
       "      <td>1430</td>\n",
       "      <td>10.511189</td>\n",
       "      <td>0.019622</td>\n",
       "    </tr>\n",
       "    <tr>\n",
       "      <th>2020-11-29</th>\n",
       "      <th>ES,DE,DK,HR,IE,IT,LV,PL</th>\n",
       "      <td>39955</td>\n",
       "      <td>76036</td>\n",
       "      <td>30585</td>\n",
       "      <td>17305</td>\n",
       "      <td>128</td>\n",
       "      <td>1684</td>\n",
       "      <td>10.276128</td>\n",
       "      <td>0.022147</td>\n",
       "    </tr>\n",
       "    <tr>\n",
       "      <th>2020-11-28</th>\n",
       "      <th>ES,DE,DK,HR,IE,IT,LV,PL</th>\n",
       "      <td>61958</td>\n",
       "      <td>78246</td>\n",
       "      <td>28682</td>\n",
       "      <td>25028</td>\n",
       "      <td>159</td>\n",
       "      <td>2398</td>\n",
       "      <td>10.437031</td>\n",
       "      <td>0.030647</td>\n",
       "    </tr>\n",
       "    <tr>\n",
       "      <th>2020-11-27</th>\n",
       "      <th>ES,DE,DK,HR,IE,IT,LV,PL</th>\n",
       "      <td>83563</td>\n",
       "      <td>80635</td>\n",
       "      <td>27709</td>\n",
       "      <td>27522</td>\n",
       "      <td>254</td>\n",
       "      <td>2555</td>\n",
       "      <td>10.771820</td>\n",
       "      <td>0.031686</td>\n",
       "    </tr>\n",
       "    <tr>\n",
       "      <th>2020-11-26</th>\n",
       "      <th>ES,DE,DK,HR,IE,IT,LV,PL</th>\n",
       "      <td>86336</td>\n",
       "      <td>83322</td>\n",
       "      <td>26652</td>\n",
       "      <td>31914</td>\n",
       "      <td>216</td>\n",
       "      <td>3037</td>\n",
       "      <td>10.508396</td>\n",
       "      <td>0.036449</td>\n",
       "    </tr>\n",
       "    <tr>\n",
       "      <th>2020-11-25</th>\n",
       "      <th>ES,DE,DK,HR,IE,IT,LV</th>\n",
       "      <td>74384</td>\n",
       "      <td>64427</td>\n",
       "      <td>25505</td>\n",
       "      <td>30693</td>\n",
       "      <td>227</td>\n",
       "      <td>2822</td>\n",
       "      <td>10.876329</td>\n",
       "      <td>0.043802</td>\n",
       "    </tr>\n",
       "  </tbody>\n",
       "</table>\n",
       "</div>"
      ],
      "text/plain": [
       "                                        new_cases  covid_cases  \\\n",
       "sample_date source_regions                                       \n",
       "2020-12-22  ES,DE,DK,HR,IE,IT,LV,NL,PL      73080        78722   \n",
       "2020-12-21  ES,DE,DK,HR,IE,IT,LV,NL,PL      73080        78722   \n",
       "2020-12-20  ES,DE,DK,HR,IE,IT,LV,NL,PL      49427        76637   \n",
       "2020-12-19  ES,DE,DK,HR,IE,IT,LV,NL,PL      68947        77951   \n",
       "2020-12-18  ES,DE,DK,HR,IE,IT,LV,NL,PL      92328        78240   \n",
       "2020-12-17  ES,DE,DK,HR,IE,IT,LV,NL,PL      94842        77479   \n",
       "2020-12-16  ES,DE,DK,HR,IE,IT,LV,NL,PL      93581        76675   \n",
       "2020-12-15  ES,DE,DK,HR,IE,IT,LV,NL,PL      78850        73941   \n",
       "2020-12-14  ES,DE,DK,HR,IE,IT,LV,NL,PL      58482        71851   \n",
       "2020-12-13  ES,DE,DK,HR,IE,IT,LV,NL,PL      58625        71028   \n",
       "2020-12-12  ES,DE,DK,HR,IE,IT,LV,NL,PL      70972        69990   \n",
       "2020-12-11  ES,DE,DK,HR,IE,IT,LV,NL,PL      87002        70384   \n",
       "2020-12-10  ES,DE,DK,HR,IE,IT,LV,NL,PL      89212        68616   \n",
       "2020-12-09  ES,DE,DK,HR,IE,IT,LV,NL,PL      74442        67982   \n",
       "2020-12-08  ES,DE,DK,HR,IE,IT,LV,NL,PL      64223        68538   \n",
       "2020-12-07  ES,DE,DK,HR,IE,IT,LV,NL,PL      52720        69494   \n",
       "2020-12-06  ES,DE,DK,HR,IE,IT,LV,NL,PL      51357        71144   \n",
       "2020-12-05  ES,DE,DK,HR,IE,IT,LV,NL,PL      73732        70329   \n",
       "2020-12-04  ES                               8745         8063   \n",
       "2020-12-03  ES                              10127         8364   \n",
       "2020-12-02  ES,DE,DK,HR,IE,IT,LV,NL,PL      78330        72301   \n",
       "2020-12-01  ES,DE,DK,HR,IE,IT,LV,PL         66717        69706   \n",
       "2020-11-30  ES,DE,DK,HR,IE,IT,LV,PL         59675        72879   \n",
       "2020-11-29  ES,DE,DK,HR,IE,IT,LV,PL         39955        76036   \n",
       "2020-11-28  ES,DE,DK,HR,IE,IT,LV,PL         61958        78246   \n",
       "2020-11-27  ES,DE,DK,HR,IE,IT,LV,PL         83563        80635   \n",
       "2020-11-26  ES,DE,DK,HR,IE,IT,LV,PL         86336        83322   \n",
       "2020-11-25  ES,DE,DK,HR,IE,IT,LV            74384        64427   \n",
       "\n",
       "                                        shared_teks_by_generation_date  \\\n",
       "sample_date source_regions                                               \n",
       "2020-12-22  ES,DE,DK,HR,IE,IT,LV,NL,PL                            1886   \n",
       "2020-12-21  ES,DE,DK,HR,IE,IT,LV,NL,PL                            6798   \n",
       "2020-12-20  ES,DE,DK,HR,IE,IT,LV,NL,PL                            9989   \n",
       "2020-12-19  ES,DE,DK,HR,IE,IT,LV,NL,PL                           14128   \n",
       "2020-12-18  ES,DE,DK,HR,IE,IT,LV,NL,PL                           18163   \n",
       "2020-12-17  ES,DE,DK,HR,IE,IT,LV,NL,PL                           22593   \n",
       "2020-12-16  ES,DE,DK,HR,IE,IT,LV,NL,PL                           26838   \n",
       "2020-12-15  ES,DE,DK,HR,IE,IT,LV,NL,PL                           30019   \n",
       "2020-12-14  ES,DE,DK,HR,IE,IT,LV,NL,PL                           32026   \n",
       "2020-12-13  ES,DE,DK,HR,IE,IT,LV,NL,PL                           31873   \n",
       "2020-12-12  ES,DE,DK,HR,IE,IT,LV,NL,PL                           32064   \n",
       "2020-12-11  ES,DE,DK,HR,IE,IT,LV,NL,PL                           31654   \n",
       "2020-12-10  ES,DE,DK,HR,IE,IT,LV,NL,PL                           29915   \n",
       "2020-12-09  ES,DE,DK,HR,IE,IT,LV,NL,PL                           28565   \n",
       "2020-12-08  ES,DE,DK,HR,IE,IT,LV,NL,PL                           28319   \n",
       "2020-12-07  ES,DE,DK,HR,IE,IT,LV,NL,PL                           29410   \n",
       "2020-12-06  ES,DE,DK,HR,IE,IT,LV,NL,PL                           26784   \n",
       "2020-12-05  ES,DE,DK,HR,IE,IT,LV,NL,PL                           29973   \n",
       "2020-12-04  ES                                                   34098   \n",
       "2020-12-03  ES                                                   32848   \n",
       "2020-12-02  ES,DE,DK,HR,IE,IT,LV,NL,PL                           30802   \n",
       "2020-12-01  ES,DE,DK,HR,IE,IT,LV,PL                              31815   \n",
       "2020-11-30  ES,DE,DK,HR,IE,IT,LV,PL                              31854   \n",
       "2020-11-29  ES,DE,DK,HR,IE,IT,LV,PL                              30585   \n",
       "2020-11-28  ES,DE,DK,HR,IE,IT,LV,PL                              28682   \n",
       "2020-11-27  ES,DE,DK,HR,IE,IT,LV,PL                              27709   \n",
       "2020-11-26  ES,DE,DK,HR,IE,IT,LV,PL                              26652   \n",
       "2020-11-25  ES,DE,DK,HR,IE,IT,LV                                 25505   \n",
       "\n",
       "                                        shared_teks_by_upload_date  \\\n",
       "sample_date source_regions                                           \n",
       "2020-12-22  ES,DE,DK,HR,IE,IT,LV,NL,PL                       47923   \n",
       "2020-12-21  ES,DE,DK,HR,IE,IT,LV,NL,PL                       37240   \n",
       "2020-12-20  ES,DE,DK,HR,IE,IT,LV,NL,PL                       91025   \n",
       "2020-12-19  ES,DE,DK,HR,IE,IT,LV,NL,PL                        1157   \n",
       "2020-12-18  ES,DE,DK,HR,IE,IT,LV,NL,PL                       73609   \n",
       "2020-12-17  ES,DE,DK,HR,IE,IT,LV,NL,PL                       50571   \n",
       "2020-12-16  ES,DE,DK,HR,IE,IT,LV,NL,PL                       59480   \n",
       "2020-12-15  ES,DE,DK,HR,IE,IT,LV,NL,PL                       18196   \n",
       "2020-12-14  ES,DE,DK,HR,IE,IT,LV,NL,PL                       24378   \n",
       "2020-12-13  ES,DE,DK,HR,IE,IT,LV,NL,PL                       27102   \n",
       "2020-12-12  ES,DE,DK,HR,IE,IT,LV,NL,PL                       38739   \n",
       "2020-12-11  ES,DE,DK,HR,IE,IT,LV,NL,PL                       44911   \n",
       "2020-12-10  ES,DE,DK,HR,IE,IT,LV,NL,PL                       40322   \n",
       "2020-12-09  ES,DE,DK,HR,IE,IT,LV,NL,PL                       43004   \n",
       "2020-12-08  ES,DE,DK,HR,IE,IT,LV,NL,PL                       30102   \n",
       "2020-12-07  ES,DE,DK,HR,IE,IT,LV,NL,PL                       20104   \n",
       "2020-12-06  ES,DE,DK,HR,IE,IT,LV,NL,PL                       17206   \n",
       "2020-12-05  ES,DE,DK,HR,IE,IT,LV,NL,PL                      106219   \n",
       "2020-12-04  ES                                                 794   \n",
       "2020-12-03  ES                                                 828   \n",
       "2020-12-02  ES,DE,DK,HR,IE,IT,LV,NL,PL                        5371   \n",
       "2020-12-01  ES,DE,DK,HR,IE,IT,LV,PL                          24674   \n",
       "2020-11-30  ES,DE,DK,HR,IE,IT,LV,PL                          15031   \n",
       "2020-11-29  ES,DE,DK,HR,IE,IT,LV,PL                          17305   \n",
       "2020-11-28  ES,DE,DK,HR,IE,IT,LV,PL                          25028   \n",
       "2020-11-27  ES,DE,DK,HR,IE,IT,LV,PL                          27522   \n",
       "2020-11-26  ES,DE,DK,HR,IE,IT,LV,PL                          31914   \n",
       "2020-11-25  ES,DE,DK,HR,IE,IT,LV                             30693   \n",
       "\n",
       "                                        shared_teks_uploaded_on_generation_date  \\\n",
       "sample_date source_regions                                                        \n",
       "2020-12-22  ES,DE,DK,HR,IE,IT,LV,NL,PL                                     1886   \n",
       "2020-12-21  ES,DE,DK,HR,IE,IT,LV,NL,PL                                      978   \n",
       "2020-12-20  ES,DE,DK,HR,IE,IT,LV,NL,PL                                      665   \n",
       "2020-12-19  ES,DE,DK,HR,IE,IT,LV,NL,PL                                      149   \n",
       "2020-12-18  ES,DE,DK,HR,IE,IT,LV,NL,PL                                      355   \n",
       "2020-12-17  ES,DE,DK,HR,IE,IT,LV,NL,PL                                      295   \n",
       "2020-12-16  ES,DE,DK,HR,IE,IT,LV,NL,PL                                      299   \n",
       "2020-12-15  ES,DE,DK,HR,IE,IT,LV,NL,PL                                      168   \n",
       "2020-12-14  ES,DE,DK,HR,IE,IT,LV,NL,PL                                      181   \n",
       "2020-12-13  ES,DE,DK,HR,IE,IT,LV,NL,PL                                       96   \n",
       "2020-12-12  ES,DE,DK,HR,IE,IT,LV,NL,PL                                      208   \n",
       "2020-12-11  ES,DE,DK,HR,IE,IT,LV,NL,PL                                      258   \n",
       "2020-12-10  ES,DE,DK,HR,IE,IT,LV,NL,PL                                      207   \n",
       "2020-12-09  ES,DE,DK,HR,IE,IT,LV,NL,PL                                      117   \n",
       "2020-12-08  ES,DE,DK,HR,IE,IT,LV,NL,PL                                      121   \n",
       "2020-12-07  ES,DE,DK,HR,IE,IT,LV,NL,PL                                      116   \n",
       "2020-12-06  ES,DE,DK,HR,IE,IT,LV,NL,PL                                      152   \n",
       "2020-12-05  ES,DE,DK,HR,IE,IT,LV,NL,PL                                      167   \n",
       "2020-12-04  ES                                                              158   \n",
       "2020-12-03  ES                                                              161   \n",
       "2020-12-02  ES,DE,DK,HR,IE,IT,LV,NL,PL                                      197   \n",
       "2020-12-01  ES,DE,DK,HR,IE,IT,LV,PL                                         189   \n",
       "2020-11-30  ES,DE,DK,HR,IE,IT,LV,PL                                         126   \n",
       "2020-11-29  ES,DE,DK,HR,IE,IT,LV,PL                                         128   \n",
       "2020-11-28  ES,DE,DK,HR,IE,IT,LV,PL                                         159   \n",
       "2020-11-27  ES,DE,DK,HR,IE,IT,LV,PL                                         254   \n",
       "2020-11-26  ES,DE,DK,HR,IE,IT,LV,PL                                         216   \n",
       "2020-11-25  ES,DE,DK,HR,IE,IT,LV                                            227   \n",
       "\n",
       "                                        shared_diagnoses  \\\n",
       "sample_date source_regions                                 \n",
       "2020-12-22  ES,DE,DK,HR,IE,IT,LV,NL,PL              5820   \n",
       "2020-12-21  ES,DE,DK,HR,IE,IT,LV,NL,PL              4586   \n",
       "2020-12-20  ES,DE,DK,HR,IE,IT,LV,NL,PL                 0   \n",
       "2020-12-19  ES,DE,DK,HR,IE,IT,LV,NL,PL                 0   \n",
       "2020-12-18  ES,DE,DK,HR,IE,IT,LV,NL,PL              7851   \n",
       "2020-12-17  ES,DE,DK,HR,IE,IT,LV,NL,PL              4690   \n",
       "2020-12-16  ES,DE,DK,HR,IE,IT,LV,NL,PL              5725   \n",
       "2020-12-15  ES,DE,DK,HR,IE,IT,LV,NL,PL              1752   \n",
       "2020-12-14  ES,DE,DK,HR,IE,IT,LV,NL,PL              2282   \n",
       "2020-12-13  ES,DE,DK,HR,IE,IT,LV,NL,PL              2712   \n",
       "2020-12-12  ES,DE,DK,HR,IE,IT,LV,NL,PL              3729   \n",
       "2020-12-11  ES,DE,DK,HR,IE,IT,LV,NL,PL              4215   \n",
       "2020-12-10  ES,DE,DK,HR,IE,IT,LV,NL,PL              3754   \n",
       "2020-12-09  ES,DE,DK,HR,IE,IT,LV,NL,PL              4014   \n",
       "2020-12-08  ES,DE,DK,HR,IE,IT,LV,NL,PL              2641   \n",
       "2020-12-07  ES,DE,DK,HR,IE,IT,LV,NL,PL              1823   \n",
       "2020-12-06  ES,DE,DK,HR,IE,IT,LV,NL,PL              1707   \n",
       "2020-12-05  ES,DE,DK,HR,IE,IT,LV,NL,PL                 0   \n",
       "2020-12-04  ES                                       188   \n",
       "2020-12-03  ES                                       189   \n",
       "2020-12-02  ES,DE,DK,HR,IE,IT,LV,NL,PL                 0   \n",
       "2020-12-01  ES,DE,DK,HR,IE,IT,LV,PL                 2238   \n",
       "2020-11-30  ES,DE,DK,HR,IE,IT,LV,PL                 1430   \n",
       "2020-11-29  ES,DE,DK,HR,IE,IT,LV,PL                 1684   \n",
       "2020-11-28  ES,DE,DK,HR,IE,IT,LV,PL                 2398   \n",
       "2020-11-27  ES,DE,DK,HR,IE,IT,LV,PL                 2555   \n",
       "2020-11-26  ES,DE,DK,HR,IE,IT,LV,PL                 3037   \n",
       "2020-11-25  ES,DE,DK,HR,IE,IT,LV                    2822   \n",
       "\n",
       "                                        teks_per_shared_diagnosis  \\\n",
       "sample_date source_regions                                          \n",
       "2020-12-22  ES,DE,DK,HR,IE,IT,LV,NL,PL                   8.234192   \n",
       "2020-12-21  ES,DE,DK,HR,IE,IT,LV,NL,PL                   8.120366   \n",
       "2020-12-20  ES,DE,DK,HR,IE,IT,LV,NL,PL                   0.000000   \n",
       "2020-12-19  ES,DE,DK,HR,IE,IT,LV,NL,PL                   0.000000   \n",
       "2020-12-18  ES,DE,DK,HR,IE,IT,LV,NL,PL                   9.375748   \n",
       "2020-12-17  ES,DE,DK,HR,IE,IT,LV,NL,PL                  10.782729   \n",
       "2020-12-16  ES,DE,DK,HR,IE,IT,LV,NL,PL                  10.389520   \n",
       "2020-12-15  ES,DE,DK,HR,IE,IT,LV,NL,PL                  10.385845   \n",
       "2020-12-14  ES,DE,DK,HR,IE,IT,LV,NL,PL                  10.682734   \n",
       "2020-12-13  ES,DE,DK,HR,IE,IT,LV,NL,PL                   9.993363   \n",
       "2020-12-12  ES,DE,DK,HR,IE,IT,LV,NL,PL                  10.388576   \n",
       "2020-12-11  ES,DE,DK,HR,IE,IT,LV,NL,PL                  10.655042   \n",
       "2020-12-10  ES,DE,DK,HR,IE,IT,LV,NL,PL                  10.741076   \n",
       "2020-12-09  ES,DE,DK,HR,IE,IT,LV,NL,PL                  10.713503   \n",
       "2020-12-08  ES,DE,DK,HR,IE,IT,LV,NL,PL                  11.397955   \n",
       "2020-12-07  ES,DE,DK,HR,IE,IT,LV,NL,PL                  11.027976   \n",
       "2020-12-06  ES,DE,DK,HR,IE,IT,LV,NL,PL                  10.079672   \n",
       "2020-12-05  ES,DE,DK,HR,IE,IT,LV,NL,PL                   0.000000   \n",
       "2020-12-04  ES                                           4.223404   \n",
       "2020-12-03  ES                                           4.380952   \n",
       "2020-12-02  ES,DE,DK,HR,IE,IT,LV,NL,PL                   0.000000   \n",
       "2020-12-01  ES,DE,DK,HR,IE,IT,LV,PL                     11.025022   \n",
       "2020-11-30  ES,DE,DK,HR,IE,IT,LV,PL                     10.511189   \n",
       "2020-11-29  ES,DE,DK,HR,IE,IT,LV,PL                     10.276128   \n",
       "2020-11-28  ES,DE,DK,HR,IE,IT,LV,PL                     10.437031   \n",
       "2020-11-27  ES,DE,DK,HR,IE,IT,LV,PL                     10.771820   \n",
       "2020-11-26  ES,DE,DK,HR,IE,IT,LV,PL                     10.508396   \n",
       "2020-11-25  ES,DE,DK,HR,IE,IT,LV                        10.876329   \n",
       "\n",
       "                                        shared_diagnoses_per_covid_case  \n",
       "sample_date source_regions                                               \n",
       "2020-12-22  ES,DE,DK,HR,IE,IT,LV,NL,PL                         0.073931  \n",
       "2020-12-21  ES,DE,DK,HR,IE,IT,LV,NL,PL                         0.058256  \n",
       "2020-12-20  ES,DE,DK,HR,IE,IT,LV,NL,PL                         0.000000  \n",
       "2020-12-19  ES,DE,DK,HR,IE,IT,LV,NL,PL                         0.000000  \n",
       "2020-12-18  ES,DE,DK,HR,IE,IT,LV,NL,PL                         0.100345  \n",
       "2020-12-17  ES,DE,DK,HR,IE,IT,LV,NL,PL                         0.060533  \n",
       "2020-12-16  ES,DE,DK,HR,IE,IT,LV,NL,PL                         0.074666  \n",
       "2020-12-15  ES,DE,DK,HR,IE,IT,LV,NL,PL                         0.023695  \n",
       "2020-12-14  ES,DE,DK,HR,IE,IT,LV,NL,PL                         0.031760  \n",
       "2020-12-13  ES,DE,DK,HR,IE,IT,LV,NL,PL                         0.038182  \n",
       "2020-12-12  ES,DE,DK,HR,IE,IT,LV,NL,PL                         0.053279  \n",
       "2020-12-11  ES,DE,DK,HR,IE,IT,LV,NL,PL                         0.059886  \n",
       "2020-12-10  ES,DE,DK,HR,IE,IT,LV,NL,PL                         0.054710  \n",
       "2020-12-09  ES,DE,DK,HR,IE,IT,LV,NL,PL                         0.059045  \n",
       "2020-12-08  ES,DE,DK,HR,IE,IT,LV,NL,PL                         0.038533  \n",
       "2020-12-07  ES,DE,DK,HR,IE,IT,LV,NL,PL                         0.026232  \n",
       "2020-12-06  ES,DE,DK,HR,IE,IT,LV,NL,PL                         0.023994  \n",
       "2020-12-05  ES,DE,DK,HR,IE,IT,LV,NL,PL                         0.000000  \n",
       "2020-12-04  ES                                                 0.023316  \n",
       "2020-12-03  ES                                                 0.022597  \n",
       "2020-12-02  ES,DE,DK,HR,IE,IT,LV,NL,PL                         0.000000  \n",
       "2020-12-01  ES,DE,DK,HR,IE,IT,LV,PL                            0.032106  \n",
       "2020-11-30  ES,DE,DK,HR,IE,IT,LV,PL                            0.019622  \n",
       "2020-11-29  ES,DE,DK,HR,IE,IT,LV,PL                            0.022147  \n",
       "2020-11-28  ES,DE,DK,HR,IE,IT,LV,PL                            0.030647  \n",
       "2020-11-27  ES,DE,DK,HR,IE,IT,LV,PL                            0.031686  \n",
       "2020-11-26  ES,DE,DK,HR,IE,IT,LV,PL                            0.036449  \n",
       "2020-11-25  ES,DE,DK,HR,IE,IT,LV                               0.043802  "
      ]
     },
     "execution_count": 47,
     "metadata": {},
     "output_type": "execute_result"
    }
   ],
   "source": [
    "with pd.option_context(\"mode.use_inf_as_na\", True):\n",
    "    result_summary_df = result_summary_df.fillna(0).astype(int)\n",
    "    result_summary_df[\"teks_per_shared_diagnosis\"] = \\\n",
    "        (result_summary_df.shared_teks_by_upload_date / result_summary_df.shared_diagnoses).fillna(0)\n",
    "    result_summary_df[\"shared_diagnoses_per_covid_case\"] = \\\n",
    "        (result_summary_df.shared_diagnoses / result_summary_df.covid_cases).fillna(0)\n",
    "\n",
    "result_summary_df.head(daily_plot_days)"
   ]
  },
  {
   "cell_type": "code",
   "execution_count": 48,
   "metadata": {
    "collapsed": false,
    "execution": {
     "iopub.execute_input": "2020-12-22T23:37:01.124495Z",
     "iopub.status.busy": "2020-12-22T23:37:01.123939Z",
     "iopub.status.idle": "2020-12-22T23:37:01.142127Z",
     "shell.execute_reply": "2020-12-22T23:37:01.142561Z"
    },
    "papermill": {
     "duration": 0.090094,
     "end_time": "2020-12-22T23:37:01.142719",
     "exception": false,
     "start_time": "2020-12-22T23:37:01.052625",
     "status": "completed"
    },
    "pycharm": {
     "name": "#%%\n"
    },
    "tags": []
   },
   "outputs": [
    {
     "data": {
      "text/html": [
       "<div>\n",
       "<style scoped>\n",
       "    .dataframe tbody tr th:only-of-type {\n",
       "        vertical-align: middle;\n",
       "    }\n",
       "\n",
       "    .dataframe tbody tr th {\n",
       "        vertical-align: top;\n",
       "    }\n",
       "\n",
       "    .dataframe thead th {\n",
       "        text-align: right;\n",
       "    }\n",
       "</style>\n",
       "<table border=\"1\" class=\"dataframe\">\n",
       "  <thead>\n",
       "    <tr style=\"text-align: right;\">\n",
       "      <th></th>\n",
       "      <th></th>\n",
       "      <th>covid_cases</th>\n",
       "      <th>shared_teks_by_generation_date</th>\n",
       "      <th>shared_teks_by_upload_date</th>\n",
       "      <th>shared_diagnoses</th>\n",
       "      <th>teks_per_shared_diagnosis</th>\n",
       "      <th>shared_diagnoses_per_covid_case</th>\n",
       "    </tr>\n",
       "    <tr>\n",
       "      <th>sample_date</th>\n",
       "      <th>source_regions</th>\n",
       "      <th></th>\n",
       "      <th></th>\n",
       "      <th></th>\n",
       "      <th></th>\n",
       "      <th></th>\n",
       "      <th></th>\n",
       "    </tr>\n",
       "  </thead>\n",
       "  <tbody>\n",
       "    <tr>\n",
       "      <th>2020-12-22</th>\n",
       "      <th>ES,DE,DK,HR,IE,IT,LV,NL,PL</th>\n",
       "      <td>544426</td>\n",
       "      <td>100395</td>\n",
       "      <td>361005</td>\n",
       "      <td>28672</td>\n",
       "      <td>12.590855</td>\n",
       "      <td>0.052665</td>\n",
       "    </tr>\n",
       "    <tr>\n",
       "      <th>2020-12-21</th>\n",
       "      <th>ES,DE,DK,HR,IE,IT,LV,NL,PL</th>\n",
       "      <td>539645</td>\n",
       "      <td>128528</td>\n",
       "      <td>331278</td>\n",
       "      <td>24604</td>\n",
       "      <td>13.464396</td>\n",
       "      <td>0.045593</td>\n",
       "    </tr>\n",
       "    <tr>\n",
       "      <th>2020-12-20</th>\n",
       "      <th>ES,DE,DK,HR,IE,IT,LV,NL,PL</th>\n",
       "      <td>532774</td>\n",
       "      <td>153756</td>\n",
       "      <td>318416</td>\n",
       "      <td>22300</td>\n",
       "      <td>14.278744</td>\n",
       "      <td>0.041856</td>\n",
       "    </tr>\n",
       "    <tr>\n",
       "      <th>2020-12-19</th>\n",
       "      <th>ES,DE,DK,HR,IE,IT,LV,NL,PL</th>\n",
       "      <td>527165</td>\n",
       "      <td>175640</td>\n",
       "      <td>254493</td>\n",
       "      <td>25012</td>\n",
       "      <td>10.174836</td>\n",
       "      <td>0.047446</td>\n",
       "    </tr>\n",
       "    <tr>\n",
       "      <th>2020-12-18</th>\n",
       "      <th>ES,DE,DK,HR,IE,IT,LV,NL,PL</th>\n",
       "      <td>519204</td>\n",
       "      <td>193576</td>\n",
       "      <td>292075</td>\n",
       "      <td>28741</td>\n",
       "      <td>10.162312</td>\n",
       "      <td>0.055356</td>\n",
       "    </tr>\n",
       "  </tbody>\n",
       "</table>\n",
       "</div>"
      ],
      "text/plain": [
       "                                        covid_cases  \\\n",
       "sample_date source_regions                            \n",
       "2020-12-22  ES,DE,DK,HR,IE,IT,LV,NL,PL       544426   \n",
       "2020-12-21  ES,DE,DK,HR,IE,IT,LV,NL,PL       539645   \n",
       "2020-12-20  ES,DE,DK,HR,IE,IT,LV,NL,PL       532774   \n",
       "2020-12-19  ES,DE,DK,HR,IE,IT,LV,NL,PL       527165   \n",
       "2020-12-18  ES,DE,DK,HR,IE,IT,LV,NL,PL       519204   \n",
       "\n",
       "                                        shared_teks_by_generation_date  \\\n",
       "sample_date source_regions                                               \n",
       "2020-12-22  ES,DE,DK,HR,IE,IT,LV,NL,PL                          100395   \n",
       "2020-12-21  ES,DE,DK,HR,IE,IT,LV,NL,PL                          128528   \n",
       "2020-12-20  ES,DE,DK,HR,IE,IT,LV,NL,PL                          153756   \n",
       "2020-12-19  ES,DE,DK,HR,IE,IT,LV,NL,PL                          175640   \n",
       "2020-12-18  ES,DE,DK,HR,IE,IT,LV,NL,PL                          193576   \n",
       "\n",
       "                                        shared_teks_by_upload_date  \\\n",
       "sample_date source_regions                                           \n",
       "2020-12-22  ES,DE,DK,HR,IE,IT,LV,NL,PL                      361005   \n",
       "2020-12-21  ES,DE,DK,HR,IE,IT,LV,NL,PL                      331278   \n",
       "2020-12-20  ES,DE,DK,HR,IE,IT,LV,NL,PL                      318416   \n",
       "2020-12-19  ES,DE,DK,HR,IE,IT,LV,NL,PL                      254493   \n",
       "2020-12-18  ES,DE,DK,HR,IE,IT,LV,NL,PL                      292075   \n",
       "\n",
       "                                        shared_diagnoses  \\\n",
       "sample_date source_regions                                 \n",
       "2020-12-22  ES,DE,DK,HR,IE,IT,LV,NL,PL             28672   \n",
       "2020-12-21  ES,DE,DK,HR,IE,IT,LV,NL,PL             24604   \n",
       "2020-12-20  ES,DE,DK,HR,IE,IT,LV,NL,PL             22300   \n",
       "2020-12-19  ES,DE,DK,HR,IE,IT,LV,NL,PL             25012   \n",
       "2020-12-18  ES,DE,DK,HR,IE,IT,LV,NL,PL             28741   \n",
       "\n",
       "                                        teks_per_shared_diagnosis  \\\n",
       "sample_date source_regions                                          \n",
       "2020-12-22  ES,DE,DK,HR,IE,IT,LV,NL,PL                  12.590855   \n",
       "2020-12-21  ES,DE,DK,HR,IE,IT,LV,NL,PL                  13.464396   \n",
       "2020-12-20  ES,DE,DK,HR,IE,IT,LV,NL,PL                  14.278744   \n",
       "2020-12-19  ES,DE,DK,HR,IE,IT,LV,NL,PL                  10.174836   \n",
       "2020-12-18  ES,DE,DK,HR,IE,IT,LV,NL,PL                  10.162312   \n",
       "\n",
       "                                        shared_diagnoses_per_covid_case  \n",
       "sample_date source_regions                                               \n",
       "2020-12-22  ES,DE,DK,HR,IE,IT,LV,NL,PL                         0.052665  \n",
       "2020-12-21  ES,DE,DK,HR,IE,IT,LV,NL,PL                         0.045593  \n",
       "2020-12-20  ES,DE,DK,HR,IE,IT,LV,NL,PL                         0.041856  \n",
       "2020-12-19  ES,DE,DK,HR,IE,IT,LV,NL,PL                         0.047446  \n",
       "2020-12-18  ES,DE,DK,HR,IE,IT,LV,NL,PL                         0.055356  "
      ]
     },
     "execution_count": 48,
     "metadata": {},
     "output_type": "execute_result"
    }
   ],
   "source": [
    "weekly_result_summary_df = result_summary_df \\\n",
    "    .sort_index(ascending=True).fillna(0).rolling(7).agg({\n",
    "    \"covid_cases\": \"sum\",\n",
    "    \"shared_teks_by_generation_date\": \"sum\",\n",
    "    \"shared_teks_by_upload_date\": \"sum\",\n",
    "    \"shared_diagnoses\": \"sum\"\n",
    "}).sort_index(ascending=False)\n",
    "\n",
    "with pd.option_context(\"mode.use_inf_as_na\", True):\n",
    "    weekly_result_summary_df = weekly_result_summary_df.fillna(0).astype(int)\n",
    "    weekly_result_summary_df[\"teks_per_shared_diagnosis\"] = \\\n",
    "        (weekly_result_summary_df.shared_teks_by_upload_date / weekly_result_summary_df.shared_diagnoses).fillna(0)\n",
    "    weekly_result_summary_df[\"shared_diagnoses_per_covid_case\"] = \\\n",
    "        (weekly_result_summary_df.shared_diagnoses / weekly_result_summary_df.covid_cases).fillna(0)\n",
    "\n",
    "weekly_result_summary_df.head()"
   ]
  },
  {
   "cell_type": "code",
   "execution_count": 49,
   "metadata": {
    "collapsed": false,
    "execution": {
     "iopub.execute_input": "2020-12-22T23:37:01.274380Z",
     "iopub.status.busy": "2020-12-22T23:37:01.273788Z",
     "iopub.status.idle": "2020-12-22T23:37:01.276138Z",
     "shell.execute_reply": "2020-12-22T23:37:01.276591Z"
    },
    "papermill": {
     "duration": 0.071186,
     "end_time": "2020-12-22T23:37:01.276742",
     "exception": false,
     "start_time": "2020-12-22T23:37:01.205556",
     "status": "completed"
    },
    "pycharm": {
     "name": "#%%\n"
    },
    "tags": []
   },
   "outputs": [
    {
     "data": {
      "text/plain": [
       "{'covid_cases': 539645,\n",
       " 'shared_teks_by_generation_date': 128528,\n",
       " 'shared_teks_by_upload_date': 331278,\n",
       " 'shared_diagnoses': 24604,\n",
       " 'teks_per_shared_diagnosis': 13.46439603316534,\n",
       " 'shared_diagnoses_per_covid_case': 0.045592936096878506}"
      ]
     },
     "execution_count": 49,
     "metadata": {},
     "output_type": "execute_result"
    }
   ],
   "source": [
    "last_7_days_summary = weekly_result_summary_df.to_dict(orient=\"records\")[1]\n",
    "last_7_days_summary"
   ]
  },
  {
   "cell_type": "markdown",
   "metadata": {
    "collapsed": false,
    "papermill": {
     "duration": 0.062478,
     "end_time": "2020-12-22T23:37:01.402944",
     "exception": false,
     "start_time": "2020-12-22T23:37:01.340466",
     "status": "completed"
    },
    "tags": []
   },
   "source": [
    "## Report Results"
   ]
  },
  {
   "cell_type": "code",
   "execution_count": 50,
   "metadata": {
    "collapsed": false,
    "execution": {
     "iopub.execute_input": "2020-12-22T23:37:01.533199Z",
     "iopub.status.busy": "2020-12-22T23:37:01.532639Z",
     "iopub.status.idle": "2020-12-22T23:37:01.534938Z",
     "shell.execute_reply": "2020-12-22T23:37:01.535420Z"
    },
    "papermill": {
     "duration": 0.069189,
     "end_time": "2020-12-22T23:37:01.535559",
     "exception": false,
     "start_time": "2020-12-22T23:37:01.466370",
     "status": "completed"
    },
    "pycharm": {
     "name": "#%%\n"
    },
    "tags": []
   },
   "outputs": [],
   "source": [
    "display_column_name_mapping = {\n",
    "    \"sample_date\": \"Sample\\u00A0Date\\u00A0(UTC)\",\n",
    "    \"source_regions\": \"Source Countries\",\n",
    "    \"datetime_utc\": \"Timestamp (UTC)\",\n",
    "    \"upload_date\": \"Upload Date (UTC)\",\n",
    "    \"generation_to_upload_days\": \"Generation to Upload Period in Days\",\n",
    "    \"region\": \"Backend\",\n",
    "    \"region_x\": \"Backend\\u00A0(A)\",\n",
    "    \"region_y\": \"Backend\\u00A0(B)\",\n",
    "    \"common_teks\": \"Common TEKs Shared Between Backends\",\n",
    "    \"common_teks_fraction\": \"Fraction of TEKs in Backend (A) Available in Backend (B)\",\n",
    "    \"covid_cases\": \"COVID-19 Cases in Source Countries (7-day Rolling Average)\",\n",
    "    \"shared_teks_by_generation_date\": \"Shared TEKs by Generation Date\",\n",
    "    \"shared_teks_by_upload_date\": \"Shared TEKs by Upload Date\",\n",
    "    \"shared_diagnoses\": \"Shared Diagnoses (Estimation)\",\n",
    "    \"teks_per_shared_diagnosis\": \"TEKs Uploaded per Shared Diagnosis\",\n",
    "    \"shared_diagnoses_per_covid_case\": \"Usage Ratio (Fraction of Cases in Source Countries Which Shared Diagnosis)\",\n",
    "    \"shared_teks_uploaded_on_generation_date\": \"Shared TEKs Uploaded on Generation Date\",\n",
    "}"
   ]
  },
  {
   "cell_type": "code",
   "execution_count": 51,
   "metadata": {
    "collapsed": false,
    "execution": {
     "iopub.execute_input": "2020-12-22T23:37:01.659085Z",
     "iopub.status.busy": "2020-12-22T23:37:01.658551Z",
     "iopub.status.idle": "2020-12-22T23:37:01.660296Z",
     "shell.execute_reply": "2020-12-22T23:37:01.660725Z"
    },
    "papermill": {
     "duration": 0.066573,
     "end_time": "2020-12-22T23:37:01.660873",
     "exception": false,
     "start_time": "2020-12-22T23:37:01.594300",
     "status": "completed"
    },
    "pycharm": {
     "name": "#%%\n"
    },
    "tags": []
   },
   "outputs": [],
   "source": [
    "summary_columns = [\n",
    "    \"covid_cases\",\n",
    "    \"shared_teks_by_generation_date\",\n",
    "    \"shared_teks_by_upload_date\",\n",
    "    \"shared_teks_uploaded_on_generation_date\",\n",
    "    \"shared_diagnoses\",\n",
    "    \"teks_per_shared_diagnosis\",\n",
    "    \"shared_diagnoses_per_covid_case\",\n",
    "]"
   ]
  },
  {
   "cell_type": "markdown",
   "metadata": {
    "collapsed": false,
    "papermill": {
     "duration": 0.060739,
     "end_time": "2020-12-22T23:37:01.781020",
     "exception": false,
     "start_time": "2020-12-22T23:37:01.720281",
     "status": "completed"
    },
    "tags": []
   },
   "source": [
    "### Daily Summary Table"
   ]
  },
  {
   "cell_type": "code",
   "execution_count": 52,
   "metadata": {
    "collapsed": false,
    "execution": {
     "iopub.execute_input": "2020-12-22T23:37:01.916276Z",
     "iopub.status.busy": "2020-12-22T23:37:01.915719Z",
     "iopub.status.idle": "2020-12-22T23:37:01.931187Z",
     "shell.execute_reply": "2020-12-22T23:37:01.931691Z"
    },
    "papermill": {
     "duration": 0.089251,
     "end_time": "2020-12-22T23:37:01.931844",
     "exception": false,
     "start_time": "2020-12-22T23:37:01.842593",
     "status": "completed"
    },
    "pycharm": {
     "name": "#%%\n"
    },
    "tags": []
   },
   "outputs": [
    {
     "data": {
      "text/html": [
       "<div>\n",
       "<style scoped>\n",
       "    .dataframe tbody tr th:only-of-type {\n",
       "        vertical-align: middle;\n",
       "    }\n",
       "\n",
       "    .dataframe tbody tr th {\n",
       "        vertical-align: top;\n",
       "    }\n",
       "\n",
       "    .dataframe thead th {\n",
       "        text-align: right;\n",
       "    }\n",
       "</style>\n",
       "<table border=\"1\" class=\"dataframe\">\n",
       "  <thead>\n",
       "    <tr style=\"text-align: right;\">\n",
       "      <th></th>\n",
       "      <th></th>\n",
       "      <th>COVID-19 Cases in Source Countries (7-day Rolling Average)</th>\n",
       "      <th>Shared TEKs by Generation Date</th>\n",
       "      <th>Shared TEKs by Upload Date</th>\n",
       "      <th>Shared TEKs Uploaded on Generation Date</th>\n",
       "      <th>Shared Diagnoses (Estimation)</th>\n",
       "      <th>TEKs Uploaded per Shared Diagnosis</th>\n",
       "      <th>Usage Ratio (Fraction of Cases in Source Countries Which Shared Diagnosis)</th>\n",
       "    </tr>\n",
       "    <tr>\n",
       "      <th>Sample Date (UTC)</th>\n",
       "      <th>Source Countries</th>\n",
       "      <th></th>\n",
       "      <th></th>\n",
       "      <th></th>\n",
       "      <th></th>\n",
       "      <th></th>\n",
       "      <th></th>\n",
       "      <th></th>\n",
       "    </tr>\n",
       "  </thead>\n",
       "  <tbody>\n",
       "    <tr>\n",
       "      <th>2020-12-22</th>\n",
       "      <th>ES,DE,DK,HR,IE,IT,LV,NL,PL</th>\n",
       "      <td>78722</td>\n",
       "      <td>1886</td>\n",
       "      <td>47923</td>\n",
       "      <td>1886</td>\n",
       "      <td>5820</td>\n",
       "      <td>8.234192</td>\n",
       "      <td>0.073931</td>\n",
       "    </tr>\n",
       "    <tr>\n",
       "      <th>2020-12-21</th>\n",
       "      <th>ES,DE,DK,HR,IE,IT,LV,NL,PL</th>\n",
       "      <td>78722</td>\n",
       "      <td>6798</td>\n",
       "      <td>37240</td>\n",
       "      <td>978</td>\n",
       "      <td>4586</td>\n",
       "      <td>8.120366</td>\n",
       "      <td>0.058256</td>\n",
       "    </tr>\n",
       "    <tr>\n",
       "      <th>2020-12-20</th>\n",
       "      <th>ES,DE,DK,HR,IE,IT,LV,NL,PL</th>\n",
       "      <td>76637</td>\n",
       "      <td>9989</td>\n",
       "      <td>91025</td>\n",
       "      <td>665</td>\n",
       "      <td>0</td>\n",
       "      <td>0.000000</td>\n",
       "      <td>0.000000</td>\n",
       "    </tr>\n",
       "    <tr>\n",
       "      <th>2020-12-19</th>\n",
       "      <th>ES,DE,DK,HR,IE,IT,LV,NL,PL</th>\n",
       "      <td>77951</td>\n",
       "      <td>14128</td>\n",
       "      <td>1157</td>\n",
       "      <td>149</td>\n",
       "      <td>0</td>\n",
       "      <td>0.000000</td>\n",
       "      <td>0.000000</td>\n",
       "    </tr>\n",
       "    <tr>\n",
       "      <th>2020-12-18</th>\n",
       "      <th>ES,DE,DK,HR,IE,IT,LV,NL,PL</th>\n",
       "      <td>78240</td>\n",
       "      <td>18163</td>\n",
       "      <td>73609</td>\n",
       "      <td>355</td>\n",
       "      <td>7851</td>\n",
       "      <td>9.375748</td>\n",
       "      <td>0.100345</td>\n",
       "    </tr>\n",
       "    <tr>\n",
       "      <th>...</th>\n",
       "      <th>...</th>\n",
       "      <td>...</td>\n",
       "      <td>...</td>\n",
       "      <td>...</td>\n",
       "      <td>...</td>\n",
       "      <td>...</td>\n",
       "      <td>...</td>\n",
       "      <td>...</td>\n",
       "    </tr>\n",
       "    <tr>\n",
       "      <th>2020-10-04</th>\n",
       "      <th>ES</th>\n",
       "      <td>10493</td>\n",
       "      <td>353</td>\n",
       "      <td>331</td>\n",
       "      <td>76</td>\n",
       "      <td>78</td>\n",
       "      <td>4.243590</td>\n",
       "      <td>0.007434</td>\n",
       "    </tr>\n",
       "    <tr>\n",
       "      <th>2020-10-03</th>\n",
       "      <th>ES</th>\n",
       "      <td>10493</td>\n",
       "      <td>312</td>\n",
       "      <td>324</td>\n",
       "      <td>69</td>\n",
       "      <td>76</td>\n",
       "      <td>4.263158</td>\n",
       "      <td>0.007243</td>\n",
       "    </tr>\n",
       "    <tr>\n",
       "      <th>2020-10-02</th>\n",
       "      <th>ES</th>\n",
       "      <td>10493</td>\n",
       "      <td>312</td>\n",
       "      <td>299</td>\n",
       "      <td>72</td>\n",
       "      <td>72</td>\n",
       "      <td>4.152778</td>\n",
       "      <td>0.006862</td>\n",
       "    </tr>\n",
       "    <tr>\n",
       "      <th>2020-10-01</th>\n",
       "      <th>ES</th>\n",
       "      <td>10628</td>\n",
       "      <td>317</td>\n",
       "      <td>367</td>\n",
       "      <td>75</td>\n",
       "      <td>75</td>\n",
       "      <td>4.893333</td>\n",
       "      <td>0.007057</td>\n",
       "    </tr>\n",
       "    <tr>\n",
       "      <th>2020-09-30</th>\n",
       "      <th>ES</th>\n",
       "      <td>10805</td>\n",
       "      <td>294</td>\n",
       "      <td>271</td>\n",
       "      <td>55</td>\n",
       "      <td>55</td>\n",
       "      <td>4.927273</td>\n",
       "      <td>0.005090</td>\n",
       "    </tr>\n",
       "  </tbody>\n",
       "</table>\n",
       "<p>84 rows × 7 columns</p>\n",
       "</div>"
      ],
      "text/plain": [
       "                                              COVID-19 Cases in Source Countries (7-day Rolling Average)  \\\n",
       "Sample Date (UTC) Source Countries                                                                         \n",
       "2020-12-22        ES,DE,DK,HR,IE,IT,LV,NL,PL                                              78722            \n",
       "2020-12-21        ES,DE,DK,HR,IE,IT,LV,NL,PL                                              78722            \n",
       "2020-12-20        ES,DE,DK,HR,IE,IT,LV,NL,PL                                              76637            \n",
       "2020-12-19        ES,DE,DK,HR,IE,IT,LV,NL,PL                                              77951            \n",
       "2020-12-18        ES,DE,DK,HR,IE,IT,LV,NL,PL                                              78240            \n",
       "...                                                                                         ...            \n",
       "2020-10-04        ES                                                                      10493            \n",
       "2020-10-03        ES                                                                      10493            \n",
       "2020-10-02        ES                                                                      10493            \n",
       "2020-10-01        ES                                                                      10628            \n",
       "2020-09-30        ES                                                                      10805            \n",
       "\n",
       "                                              Shared TEKs by Generation Date  \\\n",
       "Sample Date (UTC) Source Countries                                             \n",
       "2020-12-22        ES,DE,DK,HR,IE,IT,LV,NL,PL                            1886   \n",
       "2020-12-21        ES,DE,DK,HR,IE,IT,LV,NL,PL                            6798   \n",
       "2020-12-20        ES,DE,DK,HR,IE,IT,LV,NL,PL                            9989   \n",
       "2020-12-19        ES,DE,DK,HR,IE,IT,LV,NL,PL                           14128   \n",
       "2020-12-18        ES,DE,DK,HR,IE,IT,LV,NL,PL                           18163   \n",
       "...                                                                      ...   \n",
       "2020-10-04        ES                                                     353   \n",
       "2020-10-03        ES                                                     312   \n",
       "2020-10-02        ES                                                     312   \n",
       "2020-10-01        ES                                                     317   \n",
       "2020-09-30        ES                                                     294   \n",
       "\n",
       "                                              Shared TEKs by Upload Date  \\\n",
       "Sample Date (UTC) Source Countries                                         \n",
       "2020-12-22        ES,DE,DK,HR,IE,IT,LV,NL,PL                       47923   \n",
       "2020-12-21        ES,DE,DK,HR,IE,IT,LV,NL,PL                       37240   \n",
       "2020-12-20        ES,DE,DK,HR,IE,IT,LV,NL,PL                       91025   \n",
       "2020-12-19        ES,DE,DK,HR,IE,IT,LV,NL,PL                        1157   \n",
       "2020-12-18        ES,DE,DK,HR,IE,IT,LV,NL,PL                       73609   \n",
       "...                                                                  ...   \n",
       "2020-10-04        ES                                                 331   \n",
       "2020-10-03        ES                                                 324   \n",
       "2020-10-02        ES                                                 299   \n",
       "2020-10-01        ES                                                 367   \n",
       "2020-09-30        ES                                                 271   \n",
       "\n",
       "                                              Shared TEKs Uploaded on Generation Date  \\\n",
       "Sample Date (UTC) Source Countries                                                      \n",
       "2020-12-22        ES,DE,DK,HR,IE,IT,LV,NL,PL                                     1886   \n",
       "2020-12-21        ES,DE,DK,HR,IE,IT,LV,NL,PL                                      978   \n",
       "2020-12-20        ES,DE,DK,HR,IE,IT,LV,NL,PL                                      665   \n",
       "2020-12-19        ES,DE,DK,HR,IE,IT,LV,NL,PL                                      149   \n",
       "2020-12-18        ES,DE,DK,HR,IE,IT,LV,NL,PL                                      355   \n",
       "...                                                                               ...   \n",
       "2020-10-04        ES                                                               76   \n",
       "2020-10-03        ES                                                               69   \n",
       "2020-10-02        ES                                                               72   \n",
       "2020-10-01        ES                                                               75   \n",
       "2020-09-30        ES                                                               55   \n",
       "\n",
       "                                              Shared Diagnoses (Estimation)  \\\n",
       "Sample Date (UTC) Source Countries                                            \n",
       "2020-12-22        ES,DE,DK,HR,IE,IT,LV,NL,PL                           5820   \n",
       "2020-12-21        ES,DE,DK,HR,IE,IT,LV,NL,PL                           4586   \n",
       "2020-12-20        ES,DE,DK,HR,IE,IT,LV,NL,PL                              0   \n",
       "2020-12-19        ES,DE,DK,HR,IE,IT,LV,NL,PL                              0   \n",
       "2020-12-18        ES,DE,DK,HR,IE,IT,LV,NL,PL                           7851   \n",
       "...                                                                     ...   \n",
       "2020-10-04        ES                                                     78   \n",
       "2020-10-03        ES                                                     76   \n",
       "2020-10-02        ES                                                     72   \n",
       "2020-10-01        ES                                                     75   \n",
       "2020-09-30        ES                                                     55   \n",
       "\n",
       "                                              TEKs Uploaded per Shared Diagnosis  \\\n",
       "Sample Date (UTC) Source Countries                                                 \n",
       "2020-12-22        ES,DE,DK,HR,IE,IT,LV,NL,PL                            8.234192   \n",
       "2020-12-21        ES,DE,DK,HR,IE,IT,LV,NL,PL                            8.120366   \n",
       "2020-12-20        ES,DE,DK,HR,IE,IT,LV,NL,PL                            0.000000   \n",
       "2020-12-19        ES,DE,DK,HR,IE,IT,LV,NL,PL                            0.000000   \n",
       "2020-12-18        ES,DE,DK,HR,IE,IT,LV,NL,PL                            9.375748   \n",
       "...                                                                          ...   \n",
       "2020-10-04        ES                                                    4.243590   \n",
       "2020-10-03        ES                                                    4.263158   \n",
       "2020-10-02        ES                                                    4.152778   \n",
       "2020-10-01        ES                                                    4.893333   \n",
       "2020-09-30        ES                                                    4.927273   \n",
       "\n",
       "                                              Usage Ratio (Fraction of Cases in Source Countries Which Shared Diagnosis)  \n",
       "Sample Date (UTC) Source Countries                                                                                        \n",
       "2020-12-22        ES,DE,DK,HR,IE,IT,LV,NL,PL                                           0.073931                           \n",
       "2020-12-21        ES,DE,DK,HR,IE,IT,LV,NL,PL                                           0.058256                           \n",
       "2020-12-20        ES,DE,DK,HR,IE,IT,LV,NL,PL                                           0.000000                           \n",
       "2020-12-19        ES,DE,DK,HR,IE,IT,LV,NL,PL                                           0.000000                           \n",
       "2020-12-18        ES,DE,DK,HR,IE,IT,LV,NL,PL                                           0.100345                           \n",
       "...                                                                                         ...                           \n",
       "2020-10-04        ES                                                                   0.007434                           \n",
       "2020-10-03        ES                                                                   0.007243                           \n",
       "2020-10-02        ES                                                                   0.006862                           \n",
       "2020-10-01        ES                                                                   0.007057                           \n",
       "2020-09-30        ES                                                                   0.005090                           \n",
       "\n",
       "[84 rows x 7 columns]"
      ]
     },
     "execution_count": 52,
     "metadata": {},
     "output_type": "execute_result"
    }
   ],
   "source": [
    "result_summary_df_ = result_summary_df.copy()\n",
    "result_summary_df = result_summary_df[summary_columns]\n",
    "result_summary_with_display_names_df = result_summary_df \\\n",
    "    .rename_axis(index=display_column_name_mapping) \\\n",
    "    .rename(columns=display_column_name_mapping)\n",
    "result_summary_with_display_names_df"
   ]
  },
  {
   "cell_type": "markdown",
   "metadata": {
    "collapsed": false,
    "papermill": {
     "duration": 0.062823,
     "end_time": "2020-12-22T23:37:02.059670",
     "exception": false,
     "start_time": "2020-12-22T23:37:01.996847",
     "status": "completed"
    },
    "tags": []
   },
   "source": [
    "### Daily Summary Plots"
   ]
  },
  {
   "cell_type": "code",
   "execution_count": 53,
   "metadata": {
    "collapsed": false,
    "execution": {
     "iopub.execute_input": "2020-12-22T23:37:02.195185Z",
     "iopub.status.busy": "2020-12-22T23:37:02.194631Z",
     "iopub.status.idle": "2020-12-22T23:37:04.310839Z",
     "shell.execute_reply": "2020-12-22T23:37:04.310383Z"
    },
    "papermill": {
     "duration": 2.187123,
     "end_time": "2020-12-22T23:37:04.310986",
     "exception": false,
     "start_time": "2020-12-22T23:37:02.123863",
     "status": "completed"
    },
    "pycharm": {
     "name": "#%%\n"
    },
    "tags": []
   },
   "outputs": [
    {
     "name": "stderr",
     "output_type": "stream",
     "text": [
      "/opt/hostedtoolcache/Python/3.8.6/x64/lib/python3.8/site-packages/pandas/plotting/_matplotlib/tools.py:307: MatplotlibDeprecationWarning: \n",
      "The rowNum attribute was deprecated in Matplotlib 3.2 and will be removed two minor releases later. Use ax.get_subplotspec().rowspan.start instead.\n",
      "  layout[ax.rowNum, ax.colNum] = ax.get_visible()\n",
      "/opt/hostedtoolcache/Python/3.8.6/x64/lib/python3.8/site-packages/pandas/plotting/_matplotlib/tools.py:307: MatplotlibDeprecationWarning: \n",
      "The colNum attribute was deprecated in Matplotlib 3.2 and will be removed two minor releases later. Use ax.get_subplotspec().colspan.start instead.\n",
      "  layout[ax.rowNum, ax.colNum] = ax.get_visible()\n",
      "/opt/hostedtoolcache/Python/3.8.6/x64/lib/python3.8/site-packages/pandas/plotting/_matplotlib/tools.py:313: MatplotlibDeprecationWarning: \n",
      "The rowNum attribute was deprecated in Matplotlib 3.2 and will be removed two minor releases later. Use ax.get_subplotspec().rowspan.start instead.\n",
      "  if not layout[ax.rowNum + 1, ax.colNum]:\n",
      "/opt/hostedtoolcache/Python/3.8.6/x64/lib/python3.8/site-packages/pandas/plotting/_matplotlib/tools.py:313: MatplotlibDeprecationWarning: \n",
      "The colNum attribute was deprecated in Matplotlib 3.2 and will be removed two minor releases later. Use ax.get_subplotspec().colspan.start instead.\n",
      "  if not layout[ax.rowNum + 1, ax.colNum]:\n"
     ]
    },
    {
     "data": {
      "image/png": "[encoded data removed]",
      "text/plain": [
       "<Figure size 1080x1584 with 7 Axes>"
      ]
     },
     "metadata": {},
     "output_type": "display_data"
    }
   ],
   "source": [
    "result_plot_summary_df = result_summary_df.head(daily_plot_days)[summary_columns] \\\n",
    "    .droplevel(level=[\"source_regions\"]) \\\n",
    "    .rename_axis(index=display_column_name_mapping) \\\n",
    "    .rename(columns=display_column_name_mapping)\n",
    "summary_ax_list = result_plot_summary_df.sort_index(ascending=True).plot.bar(\n",
    "    title=f\"Daily Summary\",\n",
    "    rot=45, subplots=True, figsize=(15, 22), legend=False)\n",
    "ax_ = summary_ax_list[-1]\n",
    "ax_.get_figure().tight_layout()\n",
    "ax_.get_figure().subplots_adjust(top=0.95)\n",
    "ax_.yaxis.set_major_formatter(matplotlib.ticker.PercentFormatter(1.0))\n",
    "_ = ax_.set_xticklabels(sorted(result_plot_summary_df.index.strftime(\"%Y-%m-%d\").tolist()))"
   ]
  },
  {
   "cell_type": "markdown",
   "metadata": {
    "execution": {
     "iopub.execute_input": "2020-09-02T08:20:14.568088Z",
     "iopub.status.busy": "2020-09-02T08:20:14.567425Z",
     "iopub.status.idle": "2020-09-02T08:20:14.571422Z",
     "shell.execute_reply": "2020-09-02T08:20:14.571952Z"
    },
    "papermill": {
     "duration": 0.067085,
     "end_time": "2020-12-22T23:37:04.443802",
     "exception": false,
     "start_time": "2020-12-22T23:37:04.376717",
     "status": "completed"
    },
    "pycharm": {
     "name": "#%% md\n"
    },
    "tags": []
   },
   "source": [
    "### Daily Generation to Upload Period Table"
   ]
  },
  {
   "cell_type": "code",
   "execution_count": 54,
   "metadata": {
    "execution": {
     "iopub.execute_input": "2020-12-22T23:37:04.598045Z",
     "iopub.status.busy": "2020-12-22T23:37:04.597439Z",
     "iopub.status.idle": "2020-12-22T23:37:04.601517Z",
     "shell.execute_reply": "2020-12-22T23:37:04.601080Z"
    },
    "papermill": {
     "duration": 0.085581,
     "end_time": "2020-12-22T23:37:04.601632",
     "exception": false,
     "start_time": "2020-12-22T23:37:04.516051",
     "status": "completed"
    },
    "pycharm": {
     "name": "#%%\n"
    },
    "tags": []
   },
   "outputs": [
    {
     "data": {
      "text/html": [
       "<div>\n",
       "<style scoped>\n",
       "    .dataframe tbody tr th:only-of-type {\n",
       "        vertical-align: middle;\n",
       "    }\n",
       "\n",
       "    .dataframe tbody tr th {\n",
       "        vertical-align: top;\n",
       "    }\n",
       "\n",
       "    .dataframe thead th {\n",
       "        text-align: right;\n",
       "    }\n",
       "</style>\n",
       "<table border=\"1\" class=\"dataframe\">\n",
       "  <thead>\n",
       "    <tr style=\"text-align: right;\">\n",
       "      <th>Generation to Upload Period in Days</th>\n",
       "      <th>0</th>\n",
       "      <th>1</th>\n",
       "      <th>2</th>\n",
       "      <th>3</th>\n",
       "      <th>4</th>\n",
       "      <th>5</th>\n",
       "      <th>6</th>\n",
       "      <th>7</th>\n",
       "      <th>8</th>\n",
       "      <th>9</th>\n",
       "      <th>10</th>\n",
       "      <th>11</th>\n",
       "      <th>12</th>\n",
       "      <th>13</th>\n",
       "    </tr>\n",
       "    <tr>\n",
       "      <th>Upload Date (UTC)</th>\n",
       "      <th></th>\n",
       "      <th></th>\n",
       "      <th></th>\n",
       "      <th></th>\n",
       "      <th></th>\n",
       "      <th></th>\n",
       "      <th></th>\n",
       "      <th></th>\n",
       "      <th></th>\n",
       "      <th></th>\n",
       "      <th></th>\n",
       "      <th></th>\n",
       "      <th></th>\n",
       "      <th></th>\n",
       "    </tr>\n",
       "  </thead>\n",
       "  <tbody>\n",
       "    <tr>\n",
       "      <th>2020-12-22</th>\n",
       "      <td>1886</td>\n",
       "      <td>5820</td>\n",
       "      <td>4738</td>\n",
       "      <td>4548</td>\n",
       "      <td>4329</td>\n",
       "      <td>3852</td>\n",
       "      <td>3420</td>\n",
       "      <td>3105</td>\n",
       "      <td>2922</td>\n",
       "      <td>2784</td>\n",
       "      <td>2722</td>\n",
       "      <td>2646</td>\n",
       "      <td>2603</td>\n",
       "      <td>2548</td>\n",
       "    </tr>\n",
       "    <tr>\n",
       "      <th>2020-12-21</th>\n",
       "      <td>978</td>\n",
       "      <td>4586</td>\n",
       "      <td>3995</td>\n",
       "      <td>3804</td>\n",
       "      <td>3565</td>\n",
       "      <td>3165</td>\n",
       "      <td>2715</td>\n",
       "      <td>2415</td>\n",
       "      <td>2197</td>\n",
       "      <td>2070</td>\n",
       "      <td>2006</td>\n",
       "      <td>1963</td>\n",
       "      <td>1921</td>\n",
       "      <td>1860</td>\n",
       "    </tr>\n",
       "    <tr>\n",
       "      <th>2020-12-20</th>\n",
       "      <td>665</td>\n",
       "      <td>5436</td>\n",
       "      <td>9188</td>\n",
       "      <td>9881</td>\n",
       "      <td>9211</td>\n",
       "      <td>8556</td>\n",
       "      <td>7707</td>\n",
       "      <td>6795</td>\n",
       "      <td>6168</td>\n",
       "      <td>5806</td>\n",
       "      <td>5584</td>\n",
       "      <td>5429</td>\n",
       "      <td>5309</td>\n",
       "      <td>5290</td>\n",
       "    </tr>\n",
       "    <tr>\n",
       "      <th>2020-12-19</th>\n",
       "      <td>149</td>\n",
       "      <td>487</td>\n",
       "      <td>135</td>\n",
       "      <td>125</td>\n",
       "      <td>93</td>\n",
       "      <td>69</td>\n",
       "      <td>37</td>\n",
       "      <td>23</td>\n",
       "      <td>15</td>\n",
       "      <td>14</td>\n",
       "      <td>10</td>\n",
       "      <td>0</td>\n",
       "      <td>0</td>\n",
       "      <td>0</td>\n",
       "    </tr>\n",
       "    <tr>\n",
       "      <th>2020-12-18</th>\n",
       "      <td>355</td>\n",
       "      <td>4865</td>\n",
       "      <td>7467</td>\n",
       "      <td>7802</td>\n",
       "      <td>7851</td>\n",
       "      <td>7396</td>\n",
       "      <td>6649</td>\n",
       "      <td>5827</td>\n",
       "      <td>5174</td>\n",
       "      <td>4561</td>\n",
       "      <td>4162</td>\n",
       "      <td>3943</td>\n",
       "      <td>3812</td>\n",
       "      <td>3745</td>\n",
       "    </tr>\n",
       "    <tr>\n",
       "      <th>2020-12-17</th>\n",
       "      <td>295</td>\n",
       "      <td>3151</td>\n",
       "      <td>4690</td>\n",
       "      <td>4367</td>\n",
       "      <td>4188</td>\n",
       "      <td>4019</td>\n",
       "      <td>3937</td>\n",
       "      <td>3852</td>\n",
       "      <td>3771</td>\n",
       "      <td>3739</td>\n",
       "      <td>3697</td>\n",
       "      <td>3654</td>\n",
       "      <td>3626</td>\n",
       "      <td>3585</td>\n",
       "    </tr>\n",
       "    <tr>\n",
       "      <th>2020-12-16</th>\n",
       "      <td>299</td>\n",
       "      <td>2890</td>\n",
       "      <td>5725</td>\n",
       "      <td>5143</td>\n",
       "      <td>5009</td>\n",
       "      <td>4906</td>\n",
       "      <td>4708</td>\n",
       "      <td>4637</td>\n",
       "      <td>4542</td>\n",
       "      <td>4432</td>\n",
       "      <td>4349</td>\n",
       "      <td>4345</td>\n",
       "      <td>4259</td>\n",
       "      <td>4236</td>\n",
       "    </tr>\n",
       "    <tr>\n",
       "      <th>2020-12-15</th>\n",
       "      <td>168</td>\n",
       "      <td>789</td>\n",
       "      <td>1752</td>\n",
       "      <td>1701</td>\n",
       "      <td>1596</td>\n",
       "      <td>1534</td>\n",
       "      <td>1470</td>\n",
       "      <td>1401</td>\n",
       "      <td>1346</td>\n",
       "      <td>1306</td>\n",
       "      <td>1330</td>\n",
       "      <td>1283</td>\n",
       "      <td>1277</td>\n",
       "      <td>1243</td>\n",
       "    </tr>\n",
       "    <tr>\n",
       "      <th>2020-12-14</th>\n",
       "      <td>181</td>\n",
       "      <td>1485</td>\n",
       "      <td>2282</td>\n",
       "      <td>2203</td>\n",
       "      <td>2075</td>\n",
       "      <td>1972</td>\n",
       "      <td>1912</td>\n",
       "      <td>1875</td>\n",
       "      <td>1794</td>\n",
       "      <td>1742</td>\n",
       "      <td>1754</td>\n",
       "      <td>1716</td>\n",
       "      <td>1698</td>\n",
       "      <td>1689</td>\n",
       "    </tr>\n",
       "    <tr>\n",
       "      <th>2020-12-13</th>\n",
       "      <td>96</td>\n",
       "      <td>1421</td>\n",
       "      <td>2712</td>\n",
       "      <td>2408</td>\n",
       "      <td>2246</td>\n",
       "      <td>2177</td>\n",
       "      <td>2122</td>\n",
       "      <td>2062</td>\n",
       "      <td>2044</td>\n",
       "      <td>2014</td>\n",
       "      <td>1976</td>\n",
       "      <td>1971</td>\n",
       "      <td>1931</td>\n",
       "      <td>1922</td>\n",
       "    </tr>\n",
       "    <tr>\n",
       "      <th>2020-12-12</th>\n",
       "      <td>208</td>\n",
       "      <td>2402</td>\n",
       "      <td>3729</td>\n",
       "      <td>3385</td>\n",
       "      <td>3217</td>\n",
       "      <td>3041</td>\n",
       "      <td>2974</td>\n",
       "      <td>2924</td>\n",
       "      <td>2899</td>\n",
       "      <td>2858</td>\n",
       "      <td>2833</td>\n",
       "      <td>2791</td>\n",
       "      <td>2734</td>\n",
       "      <td>2744</td>\n",
       "    </tr>\n",
       "    <tr>\n",
       "      <th>2020-12-11</th>\n",
       "      <td>258</td>\n",
       "      <td>2908</td>\n",
       "      <td>4215</td>\n",
       "      <td>3893</td>\n",
       "      <td>3664</td>\n",
       "      <td>3580</td>\n",
       "      <td>3500</td>\n",
       "      <td>3427</td>\n",
       "      <td>3349</td>\n",
       "      <td>3309</td>\n",
       "      <td>3270</td>\n",
       "      <td>3205</td>\n",
       "      <td>3193</td>\n",
       "      <td>3140</td>\n",
       "    </tr>\n",
       "    <tr>\n",
       "      <th>2020-12-10</th>\n",
       "      <td>207</td>\n",
       "      <td>2665</td>\n",
       "      <td>3754</td>\n",
       "      <td>3416</td>\n",
       "      <td>3244</td>\n",
       "      <td>3191</td>\n",
       "      <td>3132</td>\n",
       "      <td>3069</td>\n",
       "      <td>3036</td>\n",
       "      <td>2979</td>\n",
       "      <td>2955</td>\n",
       "      <td>2914</td>\n",
       "      <td>2871</td>\n",
       "      <td>2889</td>\n",
       "    </tr>\n",
       "    <tr>\n",
       "      <th>2020-12-09</th>\n",
       "      <td>117</td>\n",
       "      <td>2841</td>\n",
       "      <td>4014</td>\n",
       "      <td>3601</td>\n",
       "      <td>3519</td>\n",
       "      <td>3436</td>\n",
       "      <td>3342</td>\n",
       "      <td>3276</td>\n",
       "      <td>3238</td>\n",
       "      <td>3192</td>\n",
       "      <td>3134</td>\n",
       "      <td>3115</td>\n",
       "      <td>3107</td>\n",
       "      <td>3072</td>\n",
       "    </tr>\n",
       "  </tbody>\n",
       "</table>\n",
       "</div>"
      ],
      "text/plain": [
       "Generation to Upload Period in Days    0     1     2     3     4     5     6   \\\n",
       "Upload Date (UTC)                                                               \n",
       "2020-12-22                           1886  5820  4738  4548  4329  3852  3420   \n",
       "2020-12-21                            978  4586  3995  3804  3565  3165  2715   \n",
       "2020-12-20                            665  5436  9188  9881  9211  8556  7707   \n",
       "2020-12-19                            149   487   135   125    93    69    37   \n",
       "2020-12-18                            355  4865  7467  7802  7851  7396  6649   \n",
       "2020-12-17                            295  3151  4690  4367  4188  4019  3937   \n",
       "2020-12-16                            299  2890  5725  5143  5009  4906  4708   \n",
       "2020-12-15                            168   789  1752  1701  1596  1534  1470   \n",
       "2020-12-14                            181  1485  2282  2203  2075  1972  1912   \n",
       "2020-12-13                             96  1421  2712  2408  2246  2177  2122   \n",
       "2020-12-12                            208  2402  3729  3385  3217  3041  2974   \n",
       "2020-12-11                            258  2908  4215  3893  3664  3580  3500   \n",
       "2020-12-10                            207  2665  3754  3416  3244  3191  3132   \n",
       "2020-12-09                            117  2841  4014  3601  3519  3436  3342   \n",
       "\n",
       "Generation to Upload Period in Days    7     8     9     10    11    12    13  \n",
       "Upload Date (UTC)                                                              \n",
       "2020-12-22                           3105  2922  2784  2722  2646  2603  2548  \n",
       "2020-12-21                           2415  2197  2070  2006  1963  1921  1860  \n",
       "2020-12-20                           6795  6168  5806  5584  5429  5309  5290  \n",
       "2020-12-19                             23    15    14    10     0     0     0  \n",
       "2020-12-18                           5827  5174  4561  4162  3943  3812  3745  \n",
       "2020-12-17                           3852  3771  3739  3697  3654  3626  3585  \n",
       "2020-12-16                           4637  4542  4432  4349  4345  4259  4236  \n",
       "2020-12-15                           1401  1346  1306  1330  1283  1277  1243  \n",
       "2020-12-14                           1875  1794  1742  1754  1716  1698  1689  \n",
       "2020-12-13                           2062  2044  2014  1976  1971  1931  1922  \n",
       "2020-12-12                           2924  2899  2858  2833  2791  2734  2744  \n",
       "2020-12-11                           3427  3349  3309  3270  3205  3193  3140  \n",
       "2020-12-10                           3069  3036  2979  2955  2914  2871  2889  \n",
       "2020-12-09                           3276  3238  3192  3134  3115  3107  3072  "
      ]
     },
     "execution_count": 54,
     "metadata": {},
     "output_type": "execute_result"
    }
   ],
   "source": [
    "display_generation_to_upload_period_pivot_df = \\\n",
    "    generation_to_upload_period_pivot_df \\\n",
    "        .head(backend_generation_days)\n",
    "display_generation_to_upload_period_pivot_df \\\n",
    "    .head(backend_generation_days) \\\n",
    "    .rename_axis(columns=display_column_name_mapping) \\\n",
    "    .rename_axis(index=display_column_name_mapping)"
   ]
  },
  {
   "cell_type": "code",
   "execution_count": 55,
   "metadata": {
    "collapsed": false,
    "execution": {
     "iopub.execute_input": "2020-12-22T23:37:04.764193Z",
     "iopub.status.busy": "2020-12-22T23:37:04.761010Z",
     "iopub.status.idle": "2020-12-22T23:37:06.413064Z",
     "shell.execute_reply": "2020-12-22T23:37:06.413511Z"
    },
    "papermill": {
     "duration": 1.74473,
     "end_time": "2020-12-22T23:37:06.413663",
     "exception": false,
     "start_time": "2020-12-22T23:37:04.668933",
     "status": "completed"
    },
    "pycharm": {
     "name": "#%%\n"
    },
    "tags": []
   },
   "outputs": [
    {
     "data": {
      "image/png": "[encoded data removed]",
      "text/plain": [
       "<Figure size 864x676.8 with 2 Axes>"
      ]
     },
     "metadata": {},
     "output_type": "display_data"
    }
   ],
   "source": [
    "fig, generation_to_upload_period_pivot_table_ax = plt.subplots(\n",
    "    figsize=(12, 1 + 0.6 * len(display_generation_to_upload_period_pivot_df)))\n",
    "generation_to_upload_period_pivot_table_ax.set_title(\n",
    "    \"Shared TEKs Generation to Upload Period Table\")\n",
    "sns.heatmap(\n",
    "    data=display_generation_to_upload_period_pivot_df\n",
    "        .rename_axis(columns=display_column_name_mapping)\n",
    "        .rename_axis(index=display_column_name_mapping),\n",
    "    fmt=\".0f\",\n",
    "    annot=True,\n",
    "    ax=generation_to_upload_period_pivot_table_ax)\n",
    "generation_to_upload_period_pivot_table_ax.get_figure().tight_layout()"
   ]
  },
  {
   "cell_type": "markdown",
   "metadata": {
    "collapsed": false,
    "papermill": {
     "duration": 0.077137,
     "end_time": "2020-12-22T23:37:06.563318",
     "exception": false,
     "start_time": "2020-12-22T23:37:06.486181",
     "status": "completed"
    },
    "tags": []
   },
   "source": [
    "### Hourly Summary Plots "
   ]
  },
  {
   "cell_type": "code",
   "execution_count": 56,
   "metadata": {
    "collapsed": false,
    "execution": {
     "iopub.execute_input": "2020-12-22T23:37:06.719229Z",
     "iopub.status.busy": "2020-12-22T23:37:06.718354Z",
     "iopub.status.idle": "2020-12-22T23:37:07.199080Z",
     "shell.execute_reply": "2020-12-22T23:37:07.198617Z"
    },
    "papermill": {
     "duration": 0.561979,
     "end_time": "2020-12-22T23:37:07.199211",
     "exception": false,
     "start_time": "2020-12-22T23:37:06.637232",
     "status": "completed"
    },
    "pycharm": {
     "name": "#%%\n"
    },
    "tags": []
   },
   "outputs": [
    {
     "data": {
      "image/png": "[encoded data removed]",
      "text/plain": [
       "<Figure size 1080x432 with 1 Axes>"
      ]
     },
     "metadata": {},
     "output_type": "display_data"
    }
   ],
   "source": [
    "hourly_summary_ax_list = hourly_summary_df \\\n",
    "    .rename_axis(index=display_column_name_mapping) \\\n",
    "    .rename(columns=display_column_name_mapping) \\\n",
    "    .plot.bar(\n",
    "        title=f\"Last 24h Summary\",\n",
    "        rot=45, subplots=True, legend=False)\n",
    "ax_ = hourly_summary_ax_list[-1]\n",
    "ax_.get_figure().tight_layout()\n",
    "ax_.get_figure().subplots_adjust(top=0.9)\n",
    "_ = ax_.set_xticklabels(sorted(hourly_summary_df.index.strftime(\"%Y-%m-%d@%H\").tolist()))"
   ]
  },
  {
   "cell_type": "markdown",
   "metadata": {
    "collapsed": false,
    "papermill": {
     "duration": 0.073422,
     "end_time": "2020-12-22T23:37:07.347741",
     "exception": false,
     "start_time": "2020-12-22T23:37:07.274319",
     "status": "completed"
    },
    "tags": []
   },
   "source": [
    "### Publish Results"
   ]
  },
  {
   "cell_type": "code",
   "execution_count": 57,
   "metadata": {
    "collapsed": false,
    "execution": {
     "iopub.execute_input": "2020-12-22T23:37:07.504011Z",
     "iopub.status.busy": "2020-12-22T23:37:07.502791Z",
     "iopub.status.idle": "2020-12-22T23:37:07.504563Z",
     "shell.execute_reply": "2020-12-22T23:37:07.504980Z"
    },
    "papermill": {
     "duration": 0.082521,
     "end_time": "2020-12-22T23:37:07.505136",
     "exception": false,
     "start_time": "2020-12-22T23:37:07.422615",
     "status": "completed"
    },
    "pycharm": {
     "name": "#%%\n"
    },
    "tags": []
   },
   "outputs": [],
   "source": [
    "def get_temporary_image_path() -> str:\n",
    "    return os.path.join(tempfile.gettempdir(), str(uuid.uuid4()) + \".png\")\n",
    "\n",
    "def save_temporary_plot_image(ax):\n",
    "    if isinstance(ax, np.ndarray):\n",
    "        ax = ax[0]\n",
    "    media_path = get_temporary_image_path()\n",
    "    ax.get_figure().savefig(media_path)\n",
    "    return media_path\n",
    "\n",
    "def save_temporary_dataframe_image(df):\n",
    "    import dataframe_image as dfi\n",
    "    media_path = get_temporary_image_path()\n",
    "    dfi.export(df, media_path)\n",
    "    return media_path"
   ]
  },
  {
   "cell_type": "code",
   "execution_count": 58,
   "metadata": {
    "collapsed": false,
    "execution": {
     "iopub.execute_input": "2020-12-22T23:37:07.668066Z",
     "iopub.status.busy": "2020-12-22T23:37:07.660056Z",
     "iopub.status.idle": "2020-12-22T23:37:07.687777Z",
     "shell.execute_reply": "2020-12-22T23:37:07.687308Z"
    },
    "papermill": {
     "duration": 0.110586,
     "end_time": "2020-12-22T23:37:07.687902",
     "exception": false,
     "start_time": "2020-12-22T23:37:07.577316",
     "status": "completed"
    },
    "pycharm": {
     "name": "#%%\n"
    },
    "tags": []
   },
   "outputs": [
    {
     "name": "stderr",
     "output_type": "stream",
     "text": [
      "<ipython-input-58-bd16b454de40>:49: FutureWarning: `item` has been deprecated and will be removed in a future version\n",
      "  extraction_date_result_summary_df.covid_cases.item()\n",
      "<ipython-input-58-bd16b454de40>:51: FutureWarning: `item` has been deprecated and will be removed in a future version\n",
      "  extraction_date_result_summary_df.shared_teks_by_generation_date.item()\n",
      "<ipython-input-58-bd16b454de40>:53: FutureWarning: `item` has been deprecated and will be removed in a future version\n",
      "  extraction_date_result_summary_df.shared_teks_by_upload_date.item()\n",
      "<ipython-input-58-bd16b454de40>:55: FutureWarning: `item` has been deprecated and will be removed in a future version\n",
      "  extraction_date_result_summary_df.shared_diagnoses.item()\n",
      "<ipython-input-58-bd16b454de40>:57: FutureWarning: `item` has been deprecated and will be removed in a future version\n",
      "  extraction_date_result_summary_df.teks_per_shared_diagnosis.item()\n",
      "<ipython-input-58-bd16b454de40>:59: FutureWarning: `item` has been deprecated and will be removed in a future version\n",
      "  extraction_date_result_summary_df.shared_diagnoses_per_covid_case.item()\n"
     ]
    }
   ],
   "source": [
    "github_repository = os.environ.get(\"GITHUB_REPOSITORY\")\n",
    "if github_repository is None:\n",
    "    github_repository = \"pvieito/Radar-STATS\"\n",
    "\n",
    "github_project_base_url = \"https://github.com/\" + github_repository\n",
    "\n",
    "display_formatters = {\n",
    "    display_column_name_mapping[\"teks_per_shared_diagnosis\"]: lambda x: f\"{x:.2f}\",\n",
    "    display_column_name_mapping[\"shared_diagnoses_per_covid_case\"]: lambda x: f\"{x:.2%}\",\n",
    "}\n",
    "daily_summary_table_html = result_summary_with_display_names_df \\\n",
    "    .head(daily_plot_days) \\\n",
    "    .rename_axis(index=display_column_name_mapping) \\\n",
    "    .rename(columns=display_column_name_mapping) \\\n",
    "    .to_html(formatters=display_formatters)\n",
    "multi_backend_summary_table_html = multi_backend_summary_df \\\n",
    "    .head(daily_plot_days) \\\n",
    "    .rename_axis(columns=display_column_name_mapping) \\\n",
    "    .rename(columns=display_column_name_mapping) \\\n",
    "    .rename_axis(index=display_column_name_mapping) \\\n",
    "    .to_html(formatters=display_formatters)\n",
    "\n",
    "def format_multi_backend_cross_sharing_fraction(x):\n",
    "    if pd.isna(x):\n",
    "        return \"-\"\n",
    "    elif round(x * 100, 1) == 0:\n",
    "        return \"\"\n",
    "    else:\n",
    "        return f\"{x:.1%}\"\n",
    "\n",
    "multi_backend_cross_sharing_summary_table_html = multi_backend_cross_sharing_summary_df \\\n",
    "    .rename_axis(columns=display_column_name_mapping) \\\n",
    "    .rename(columns=display_column_name_mapping) \\\n",
    "    .rename_axis(index=display_column_name_mapping) \\\n",
    "    .to_html(\n",
    "        classes=\"table-center\",\n",
    "        formatters=display_formatters,\n",
    "        float_format=format_multi_backend_cross_sharing_fraction)\n",
    "multi_backend_cross_sharing_summary_table_html = \\\n",
    "    multi_backend_cross_sharing_summary_table_html \\\n",
    "        .replace(\"<tr>\",\"<tr style=\\\"text-align: center;\\\">\")\n",
    "\n",
    "extraction_date_result_summary_df = \\\n",
    "    result_summary_df[result_summary_df.index.get_level_values(\"sample_date\") == extraction_date]\n",
    "extraction_date_result_hourly_summary_df = \\\n",
    "    hourly_summary_df[hourly_summary_df.extraction_date_with_hour == extraction_date_with_hour]\n",
    "\n",
    "covid_cases = \\\n",
    "    extraction_date_result_summary_df.covid_cases.item()\n",
    "shared_teks_by_generation_date = \\\n",
    "    extraction_date_result_summary_df.shared_teks_by_generation_date.item()\n",
    "shared_teks_by_upload_date = \\\n",
    "    extraction_date_result_summary_df.shared_teks_by_upload_date.item()\n",
    "shared_diagnoses = \\\n",
    "    extraction_date_result_summary_df.shared_diagnoses.item()\n",
    "teks_per_shared_diagnosis = \\\n",
    "    extraction_date_result_summary_df.teks_per_shared_diagnosis.item()\n",
    "shared_diagnoses_per_covid_case = \\\n",
    "    extraction_date_result_summary_df.shared_diagnoses_per_covid_case.item()\n",
    "\n",
    "shared_teks_by_upload_date_last_hour = \\\n",
    "    extraction_date_result_hourly_summary_df.shared_teks_by_upload_date.sum().astype(int)\n",
    "\n",
    "display_source_regions = \", \".join(report_source_regions)\n",
    "if len(report_source_regions) == 1:\n",
    "    display_brief_source_regions = report_source_regions[0]\n",
    "else:\n",
    "    display_brief_source_regions = f\"{len(report_source_regions)} 🇪🇺\""
   ]
  },
  {
   "cell_type": "code",
   "execution_count": 59,
   "metadata": {
    "execution": {
     "iopub.execute_input": "2020-12-22T23:37:07.863861Z",
     "iopub.status.busy": "2020-12-22T23:37:07.854282Z",
     "iopub.status.idle": "2020-12-22T23:37:20.456157Z",
     "shell.execute_reply": "2020-12-22T23:37:20.455617Z"
    },
    "papermill": {
     "duration": 12.693101,
     "end_time": "2020-12-22T23:37:20.456305",
     "exception": false,
     "start_time": "2020-12-22T23:37:07.763204",
     "status": "completed"
    },
    "pycharm": {
     "name": "#%%\n"
    },
    "tags": []
   },
   "outputs": [],
   "source": [
    "summary_plots_image_path = save_temporary_plot_image(\n",
    "    ax=summary_ax_list)\n",
    "summary_table_image_path = save_temporary_dataframe_image(\n",
    "    df=result_summary_with_display_names_df)\n",
    "hourly_summary_plots_image_path = save_temporary_plot_image(\n",
    "    ax=hourly_summary_ax_list)\n",
    "multi_backend_summary_table_image_path = save_temporary_dataframe_image(\n",
    "    df=multi_backend_summary_df)\n",
    "generation_to_upload_period_pivot_table_image_path = save_temporary_plot_image(\n",
    "    ax=generation_to_upload_period_pivot_table_ax)"
   ]
  },
  {
   "cell_type": "markdown",
   "metadata": {
    "execution": {
     "iopub.execute_input": "2020-09-02T08:20:16.981187Z",
     "iopub.status.busy": "2020-09-02T08:20:16.980584Z",
     "iopub.status.idle": "2020-09-02T08:20:20.068070Z",
     "shell.execute_reply": "2020-09-02T08:20:20.068598Z"
    },
    "papermill": {
     "duration": 0.08104,
     "end_time": "2020-12-22T23:37:20.612594",
     "exception": false,
     "start_time": "2020-12-22T23:37:20.531554",
     "status": "completed"
    },
    "pycharm": {
     "name": "#%% md\n"
    },
    "tags": []
   },
   "source": [
    "### Save Results"
   ]
  },
  {
   "cell_type": "code",
   "execution_count": 60,
   "metadata": {
    "collapsed": false,
    "execution": {
     "iopub.execute_input": "2020-12-22T23:37:20.771628Z",
     "iopub.status.busy": "2020-12-22T23:37:20.771030Z",
     "iopub.status.idle": "2020-12-22T23:37:20.803726Z",
     "shell.execute_reply": "2020-12-22T23:37:20.802929Z"
    },
    "papermill": {
     "duration": 0.114615,
     "end_time": "2020-12-22T23:37:20.803949",
     "exception": false,
     "start_time": "2020-12-22T23:37:20.689334",
     "status": "completed"
    },
    "pycharm": {
     "name": "#%%\n"
    },
    "tags": []
   },
   "outputs": [],
   "source": [
    "report_resources_path_prefix = \"Data/Resources/Current/RadarCOVID-Report-\"\n",
    "result_summary_df.to_csv(\n",
    "    report_resources_path_prefix + \"Summary-Table.csv\")\n",
    "result_summary_df.to_html(\n",
    "    report_resources_path_prefix + \"Summary-Table.html\")\n",
    "hourly_summary_df.to_csv(\n",
    "    report_resources_path_prefix + \"Hourly-Summary-Table.csv\")\n",
    "multi_backend_summary_df.to_csv(\n",
    "    report_resources_path_prefix + \"Multi-Backend-Summary-Table.csv\")\n",
    "multi_backend_cross_sharing_summary_df.to_csv(\n",
    "    report_resources_path_prefix + \"Multi-Backend-Cross-Sharing-Summary-Table.csv\")\n",
    "generation_to_upload_period_pivot_df.to_csv(\n",
    "    report_resources_path_prefix + \"Generation-Upload-Period-Table.csv\")\n",
    "_ = shutil.copyfile(\n",
    "    summary_plots_image_path,\n",
    "    report_resources_path_prefix + \"Summary-Plots.png\")\n",
    "_ = shutil.copyfile(\n",
    "    summary_table_image_path,\n",
    "    report_resources_path_prefix + \"Summary-Table.png\")\n",
    "_ = shutil.copyfile(\n",
    "    hourly_summary_plots_image_path,\n",
    "    report_resources_path_prefix + \"Hourly-Summary-Plots.png\")\n",
    "_ = shutil.copyfile(\n",
    "    multi_backend_summary_table_image_path,\n",
    "    report_resources_path_prefix + \"Multi-Backend-Summary-Table.png\")\n",
    "_ = shutil.copyfile(\n",
    "    generation_to_upload_period_pivot_table_image_path,\n",
    "    report_resources_path_prefix + \"Generation-Upload-Period-Table.png\")"
   ]
  },
  {
   "cell_type": "markdown",
   "metadata": {
    "collapsed": false,
    "papermill": {
     "duration": 0.070597,
     "end_time": "2020-12-22T23:37:20.951519",
     "exception": false,
     "start_time": "2020-12-22T23:37:20.880922",
     "status": "completed"
    },
    "pycharm": {
     "name": "#%% md\n"
    },
    "tags": []
   },
   "source": [
    "### Publish Results as JSON"
   ]
  },
  {
   "cell_type": "code",
   "execution_count": 61,
   "metadata": {
    "execution": {
     "iopub.execute_input": "2020-12-22T23:37:21.119230Z",
     "iopub.status.busy": "2020-12-22T23:37:21.118687Z",
     "iopub.status.idle": "2020-12-22T23:37:21.125555Z",
     "shell.execute_reply": "2020-12-22T23:37:21.125895Z"
    },
    "papermill": {
     "duration": 0.103272,
     "end_time": "2020-12-22T23:37:21.126018",
     "exception": false,
     "start_time": "2020-12-22T23:37:21.022746",
     "status": "completed"
    },
    "pycharm": {
     "name": "#%%\n"
    },
    "tags": []
   },
   "outputs": [],
   "source": [
    "def generate_summary_api_results(df: pd.DataFrame) -> list:\n",
    "    api_df = df.reset_index().copy()\n",
    "    api_df[\"sample_date_string\"] = \\\n",
    "        api_df[\"sample_date\"].dt.strftime(\"%Y-%m-%d\")\n",
    "    api_df[\"source_regions\"] = \\\n",
    "        api_df[\"source_regions\"].apply(lambda x: x.split(\",\"))\n",
    "    return api_df.to_dict(orient=\"records\")\n",
    "\n",
    "summary_api_results = \\\n",
    "    generate_summary_api_results(df=result_summary_df)\n",
    "today_summary_api_results = \\\n",
    "    generate_summary_api_results(df=extraction_date_result_summary_df)[0]\n",
    "\n",
    "summary_results = dict(\n",
    "    backend_identifier=report_backend_identifier,\n",
    "    source_regions=report_source_regions,\n",
    "    extraction_datetime=extraction_datetime,\n",
    "    extraction_date=extraction_date,\n",
    "    extraction_date_with_hour=extraction_date_with_hour,\n",
    "    last_hour=dict(\n",
    "        shared_teks_by_upload_date=shared_teks_by_upload_date_last_hour,\n",
    "        shared_diagnoses=0,\n",
    "    ),\n",
    "    today=today_summary_api_results,\n",
    "    last_7_days=last_7_days_summary,\n",
    "    daily_results=summary_api_results)\n",
    "\n",
    "summary_results = \\\n",
    "    json.loads(pd.Series([summary_results]).to_json(orient=\"records\"))[0]\n",
    "\n",
    "with open(report_resources_path_prefix + \"Summary-Results.json\", \"w\") as f:\n",
    "    json.dump(summary_results, f, indent=4)"
   ]
  },
  {
   "cell_type": "markdown",
   "metadata": {
    "execution": {
     "iopub.execute_input": "2020-09-02T08:20:20.895901Z",
     "iopub.status.busy": "2020-09-02T08:20:20.895301Z",
     "iopub.status.idle": "2020-09-02T08:20:20.942286Z",
     "shell.execute_reply": "2020-09-02T08:20:20.942834Z"
    },
    "papermill": {
     "duration": 0.071062,
     "end_time": "2020-12-22T23:37:21.273268",
     "exception": false,
     "start_time": "2020-12-22T23:37:21.202206",
     "status": "completed"
    },
    "pycharm": {
     "name": "#%% md\n"
    },
    "tags": []
   },
   "source": [
    "### Publish on README"
   ]
  },
  {
   "cell_type": "code",
   "execution_count": 62,
   "metadata": {
    "collapsed": false,
    "execution": {
     "iopub.execute_input": "2020-12-22T23:37:21.418587Z",
     "iopub.status.busy": "2020-12-22T23:37:21.418014Z",
     "iopub.status.idle": "2020-12-22T23:37:21.421376Z",
     "shell.execute_reply": "2020-12-22T23:37:21.421797Z"
    },
    "papermill": {
     "duration": 0.07958,
     "end_time": "2020-12-22T23:37:21.421941",
     "exception": false,
     "start_time": "2020-12-22T23:37:21.342361",
     "status": "completed"
    },
    "pycharm": {
     "name": "#%%\n"
    },
    "tags": []
   },
   "outputs": [],
   "source": [
    "with open(\"Data/Templates/README.md\", \"r\") as f:\n",
    "    readme_contents = f.read()\n",
    "\n",
    "readme_contents = readme_contents.format(\n",
    "    extraction_date_with_hour=extraction_date_with_hour,\n",
    "    github_project_base_url=github_project_base_url,\n",
    "    daily_summary_table_html=daily_summary_table_html,\n",
    "    multi_backend_summary_table_html=multi_backend_summary_table_html,\n",
    "    multi_backend_cross_sharing_summary_table_html=multi_backend_cross_sharing_summary_table_html,\n",
    "    display_source_regions=display_source_regions)\n",
    "\n",
    "with open(\"README.md\", \"w\") as f:\n",
    "    f.write(readme_contents)"
   ]
  },
  {
   "cell_type": "markdown",
   "metadata": {
    "collapsed": false,
    "papermill": {
     "duration": 0.077605,
     "end_time": "2020-12-22T23:37:21.570882",
     "exception": false,
     "start_time": "2020-12-22T23:37:21.493277",
     "status": "completed"
    },
    "pycharm": {
     "name": "#%% md\n"
    },
    "tags": []
   },
   "source": [
    "### Publish on Twitter"
   ]
  },
  {
   "cell_type": "code",
   "execution_count": 63,
   "metadata": {
    "collapsed": false,
    "execution": {
     "iopub.execute_input": "2020-12-22T23:37:21.735789Z",
     "iopub.status.busy": "2020-12-22T23:37:21.735238Z",
     "iopub.status.idle": "2020-12-22T23:37:26.491304Z",
     "shell.execute_reply": "2020-12-22T23:37:26.490581Z"
    },
    "papermill": {
     "duration": 4.84225,
     "end_time": "2020-12-22T23:37:26.491469",
     "exception": false,
     "start_time": "2020-12-22T23:37:21.649219",
     "status": "completed"
    },
    "pycharm": {
     "name": "#%%\n"
    },
    "tags": []
   },
   "outputs": [],
   "source": [
    "enable_share_to_twitter = os.environ.get(\"RADARCOVID_REPORT__ENABLE_PUBLISH_ON_TWITTER\")\n",
    "github_event_name = os.environ.get(\"GITHUB_EVENT_NAME\")\n",
    "\n",
    "if enable_share_to_twitter and github_event_name == \"schedule\" and \\\n",
    "        (shared_teks_by_upload_date_last_hour or not are_today_results_partial):\n",
    "    import tweepy\n",
    "\n",
    "    twitter_api_auth_keys = os.environ[\"RADARCOVID_REPORT__TWITTER_API_AUTH_KEYS\"]\n",
    "    twitter_api_auth_keys = twitter_api_auth_keys.split(\":\")\n",
    "    auth = tweepy.OAuthHandler(twitter_api_auth_keys[0], twitter_api_auth_keys[1])\n",
    "    auth.set_access_token(twitter_api_auth_keys[2], twitter_api_auth_keys[3])\n",
    "\n",
    "    api = tweepy.API(auth)\n",
    "\n",
    "    summary_plots_media = api.media_upload(summary_plots_image_path)\n",
    "    summary_table_media = api.media_upload(summary_table_image_path)\n",
    "    generation_to_upload_period_pivot_table_image_media = api.media_upload(generation_to_upload_period_pivot_table_image_path)\n",
    "    media_ids = [\n",
    "        summary_plots_media.media_id,\n",
    "        summary_table_media.media_id,\n",
    "        generation_to_upload_period_pivot_table_image_media.media_id,\n",
    "    ]\n",
    "\n",
    "    if are_today_results_partial:\n",
    "        today_addendum = \" (Partial)\"\n",
    "    else:\n",
    "        today_addendum = \"\"\n",
    "\n",
    "    status = textwrap.dedent(f\"\"\"\n",
    "        #RadarCOVID – {extraction_date_with_hour}\n",
    "\n",
    "        Source Countries: {display_brief_source_regions}\n",
    "\n",
    "        Today{today_addendum}:\n",
    "        - Uploaded TEKs: {shared_teks_by_upload_date:.0f} ({shared_teks_by_upload_date_last_hour:+d} last hour)\n",
    "        - Shared Diagnoses: ≤{shared_diagnoses:.0f}\n",
    "        - Usage Ratio: ≤{shared_diagnoses_per_covid_case:.2%}\n",
    "\n",
    "        Last 7 Days:\n",
    "        - Shared Diagnoses: ≤{last_7_days_summary[\"shared_diagnoses\"]:.0f}\n",
    "        - Usage Ratio: ≤{last_7_days_summary[\"shared_diagnoses_per_covid_case\"]:.2%}\n",
    "\n",
    "        Info: {github_project_base_url}#documentation\n",
    "        \"\"\")\n",
    "    status = status.encode(encoding=\"utf-8\")\n",
    "    api.update_status(status=status, media_ids=media_ids)"
   ]
  }
 ],
 "metadata": {
  "kernelspec": {
   "display_name": "Python 3",
   "language": "python",
   "name": "python3"
  },
  "language_info": {
   "codemirror_mode": {
    "name": "ipython",
    "version": 3
   },
   "file_extension": ".py",
   "mimetype": "text/x-python",
   "name": "python",
   "nbconvert_exporter": "python",
   "pygments_lexer": "ipython3",
   "version": "3.8.6"
  },
  "papermill": {
   "duration": 282.016378,
   "end_time": "2020-12-22T23:37:30.388289",
   "environment_variables": {},
   "exception": null,
   "input_path": "Notebooks/RadarCOVID-Report/Source/RadarCOVID-Report.ipynb",
   "output_path": "RadarCOVID-Report.ipynb",
   "parameters": {},
   "start_time": "2020-12-22T23:32:48.371911",
   "version": "2.1.3"
  }
 },
 "nbformat": 4,
 "nbformat_minor": 1
}