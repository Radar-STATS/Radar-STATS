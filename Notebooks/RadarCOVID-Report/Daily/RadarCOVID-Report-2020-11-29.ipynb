{
 "cells": [
  {
   "cell_type": "markdown",
   "metadata": {
    "papermill": {
     "duration": 0.049443,
     "end_time": "2020-11-29T23:20:17.385392",
     "exception": false,
     "start_time": "2020-11-29T23:20:17.335949",
     "status": "completed"
    },
    "pycharm": {
     "name": "#%% md\n"
    },
    "tags": []
   },
   "source": [
    "# RadarCOVID-Report"
   ]
  },
  {
   "cell_type": "markdown",
   "metadata": {
    "collapsed": true,
    "papermill": {
     "duration": 0.041701,
     "end_time": "2020-11-29T23:20:17.472628",
     "exception": false,
     "start_time": "2020-11-29T23:20:17.430927",
     "status": "completed"
    },
    "pycharm": {
     "name": "#%% md\n"
    },
    "tags": []
   },
   "source": [
    "## Data Extraction"
   ]
  },
  {
   "cell_type": "code",
   "execution_count": 1,
   "metadata": {
    "execution": {
     "iopub.execute_input": "2020-11-29T23:20:17.559799Z",
     "iopub.status.busy": "2020-11-29T23:20:17.559199Z",
     "iopub.status.idle": "2020-11-29T23:20:19.911879Z",
     "shell.execute_reply": "2020-11-29T23:20:19.911233Z"
    },
    "papermill": {
     "duration": 2.399624,
     "end_time": "2020-11-29T23:20:19.912083",
     "exception": false,
     "start_time": "2020-11-29T23:20:17.512459",
     "status": "completed"
    },
    "pycharm": {
     "name": "#%%\n"
    },
    "tags": []
   },
   "outputs": [],
   "source": [
    "import datetime\n",
    "import json\n",
    "import logging\n",
    "import os\n",
    "import shutil\n",
    "import tempfile\n",
    "import textwrap\n",
    "import uuid\n",
    "\n",
    "import matplotlib.pyplot as plt\n",
    "import matplotlib.ticker\n",
    "import numpy as np\n",
    "import pandas as pd\n",
    "import retry\n",
    "import seaborn as sns\n",
    "\n",
    "%matplotlib inline"
   ]
  },
  {
   "cell_type": "code",
   "execution_count": 2,
   "metadata": {
    "collapsed": false,
    "execution": {
     "iopub.execute_input": "2020-11-29T23:20:20.009849Z",
     "iopub.status.busy": "2020-11-29T23:20:20.009241Z",
     "iopub.status.idle": "2020-11-29T23:20:20.012123Z",
     "shell.execute_reply": "2020-11-29T23:20:20.011624Z"
    },
    "papermill": {
     "duration": 0.056191,
     "end_time": "2020-11-29T23:20:20.012255",
     "exception": false,
     "start_time": "2020-11-29T23:20:19.956064",
     "status": "completed"
    },
    "pycharm": {
     "name": "#%%\n"
    },
    "tags": []
   },
   "outputs": [],
   "source": [
    "current_working_directory = os.environ.get(\"PWD\")\n",
    "if current_working_directory:\n",
    "    os.chdir(current_working_directory)\n",
    "\n",
    "sns.set()\n",
    "matplotlib.rcParams[\"figure.figsize\"] = (15, 6)\n",
    "\n",
    "extraction_datetime = datetime.datetime.utcnow()\n",
    "extraction_date = extraction_datetime.strftime(\"%Y-%m-%d\")\n",
    "extraction_previous_datetime = extraction_datetime - datetime.timedelta(days=1)\n",
    "extraction_previous_date = extraction_previous_datetime.strftime(\"%Y-%m-%d\")\n",
    "extraction_date_with_hour = datetime.datetime.utcnow().strftime(\"%Y-%m-%d@%H\")\n",
    "current_hour = datetime.datetime.utcnow().hour\n",
    "are_today_results_partial = current_hour != 23"
   ]
  },
  {
   "cell_type": "markdown",
   "metadata": {
    "collapsed": false,
    "papermill": {
     "duration": 0.056008,
     "end_time": "2020-11-29T23:20:20.115868",
     "exception": false,
     "start_time": "2020-11-29T23:20:20.059860",
     "status": "completed"
    },
    "tags": []
   },
   "source": [
    "### Constants"
   ]
  },
  {
   "cell_type": "code",
   "execution_count": 3,
   "metadata": {
    "execution": {
     "iopub.execute_input": "2020-11-29T23:20:20.214224Z",
     "iopub.status.busy": "2020-11-29T23:20:20.213613Z",
     "iopub.status.idle": "2020-11-29T23:20:20.364181Z",
     "shell.execute_reply": "2020-11-29T23:20:20.363672Z"
    },
    "papermill": {
     "duration": 0.198847,
     "end_time": "2020-11-29T23:20:20.364324",
     "exception": false,
     "start_time": "2020-11-29T23:20:20.165477",
     "status": "completed"
    },
    "pycharm": {
     "name": "#%%\n"
    },
    "tags": []
   },
   "outputs": [],
   "source": [
    "from Modules.ExposureNotification import exposure_notification_io\n",
    "\n",
    "spain_region_country_code = \"ES\"\n",
    "germany_region_country_code = \"DE\"\n",
    "\n",
    "default_backend_identifier = spain_region_country_code\n",
    "\n",
    "backend_generation_days = 7 * 2\n",
    "daily_summary_days = 7 * 4 * 3\n",
    "daily_plot_days = 7 * 4\n",
    "tek_dumps_load_limit = daily_summary_days + 1"
   ]
  },
  {
   "cell_type": "markdown",
   "metadata": {
    "collapsed": false,
    "papermill": {
     "duration": 0.047072,
     "end_time": "2020-11-29T23:20:20.455645",
     "exception": false,
     "start_time": "2020-11-29T23:20:20.408573",
     "status": "completed"
    },
    "tags": []
   },
   "source": [
    "### Parameters"
   ]
  },
  {
   "cell_type": "code",
   "execution_count": 4,
   "metadata": {
    "collapsed": false,
    "execution": {
     "iopub.execute_input": "2020-11-29T23:20:20.553580Z",
     "iopub.status.busy": "2020-11-29T23:20:20.552948Z",
     "iopub.status.idle": "2020-11-29T23:20:20.556498Z",
     "shell.execute_reply": "2020-11-29T23:20:20.557332Z"
    },
    "papermill": {
     "duration": 0.057461,
     "end_time": "2020-11-29T23:20:20.557513",
     "exception": false,
     "start_time": "2020-11-29T23:20:20.500052",
     "status": "completed"
    },
    "pycharm": {
     "name": "#%%\n"
    },
    "tags": []
   },
   "outputs": [
    {
     "data": {
      "text/plain": [
       "'ES'"
      ]
     },
     "execution_count": 4,
     "metadata": {},
     "output_type": "execute_result"
    }
   ],
   "source": [
    "environment_backend_identifier = os.environ.get(\"RADARCOVID_REPORT__BACKEND_IDENTIFIER\")\n",
    "if environment_backend_identifier:\n",
    "    report_backend_identifier = environment_backend_identifier\n",
    "else:\n",
    "    report_backend_identifier = default_backend_identifier\n",
    "report_backend_identifier"
   ]
  },
  {
   "cell_type": "code",
   "execution_count": 5,
   "metadata": {
    "collapsed": false,
    "execution": {
     "iopub.execute_input": "2020-11-29T23:20:20.653654Z",
     "iopub.status.busy": "2020-11-29T23:20:20.652914Z",
     "iopub.status.idle": "2020-11-29T23:20:20.654437Z",
     "shell.execute_reply": "2020-11-29T23:20:20.655144Z"
    },
    "papermill": {
     "duration": 0.051078,
     "end_time": "2020-11-29T23:20:20.655341",
     "exception": false,
     "start_time": "2020-11-29T23:20:20.604263",
     "status": "completed"
    },
    "pycharm": {
     "name": "#%%\n"
    },
    "tags": []
   },
   "outputs": [],
   "source": [
    "environment_enable_multi_backend_download = \\\n",
    "    os.environ.get(\"RADARCOVID_REPORT__ENABLE_MULTI_BACKEND_DOWNLOAD\")\n",
    "if environment_enable_multi_backend_download:\n",
    "    report_backend_identifiers = None\n",
    "else:\n",
    "    report_backend_identifiers = [report_backend_identifier]\n",
    "\n",
    "report_backend_identifiers"
   ]
  },
  {
   "cell_type": "code",
   "execution_count": 6,
   "metadata": {
    "collapsed": false,
    "execution": {
     "iopub.execute_input": "2020-11-29T23:20:20.743309Z",
     "iopub.status.busy": "2020-11-29T23:20:20.742697Z",
     "iopub.status.idle": "2020-11-29T23:20:20.746204Z",
     "shell.execute_reply": "2020-11-29T23:20:20.745738Z"
    },
    "papermill": {
     "duration": 0.049461,
     "end_time": "2020-11-29T23:20:20.746340",
     "exception": false,
     "start_time": "2020-11-29T23:20:20.696879",
     "status": "completed"
    },
    "pycharm": {
     "name": "#%%\n"
    },
    "tags": []
   },
   "outputs": [
    {
     "data": {
      "text/plain": [
       "['2020-10-30']"
      ]
     },
     "execution_count": 6,
     "metadata": {},
     "output_type": "execute_result"
    }
   ],
   "source": [
    "environment_invalid_shared_diagnoses_dates = \\\n",
    "    os.environ.get(\"RADARCOVID_REPORT__INVALID_SHARED_DIAGNOSES_DATES\")\n",
    "if environment_invalid_shared_diagnoses_dates:\n",
    "    invalid_shared_diagnoses_dates = environment_invalid_shared_diagnoses_dates.split(\",\")\n",
    "else:\n",
    "    invalid_shared_diagnoses_dates = []\n",
    "\n",
    "invalid_shared_diagnoses_dates"
   ]
  },
  {
   "cell_type": "markdown",
   "metadata": {
    "collapsed": false,
    "papermill": {
     "duration": 0.04146,
     "end_time": "2020-11-29T23:20:20.828862",
     "exception": false,
     "start_time": "2020-11-29T23:20:20.787402",
     "status": "completed"
    },
    "pycharm": {
     "name": "#%% md\n"
    },
    "tags": []
   },
   "source": [
    "### COVID-19 Cases"
   ]
  },
  {
   "cell_type": "code",
   "execution_count": 7,
   "metadata": {
    "collapsed": false,
    "execution": {
     "iopub.execute_input": "2020-11-29T23:20:20.915373Z",
     "iopub.status.busy": "2020-11-29T23:20:20.914761Z",
     "iopub.status.idle": "2020-11-29T23:20:20.917017Z",
     "shell.execute_reply": "2020-11-29T23:20:20.917451Z"
    },
    "papermill": {
     "duration": 0.047846,
     "end_time": "2020-11-29T23:20:20.917619",
     "exception": false,
     "start_time": "2020-11-29T23:20:20.869773",
     "status": "completed"
    },
    "pycharm": {
     "name": "#%%\n"
    },
    "tags": []
   },
   "outputs": [],
   "source": [
    "report_backend_client = \\\n",
    "    exposure_notification_io.get_backend_client_with_identifier(\n",
    "        backend_identifier=report_backend_identifier)"
   ]
  },
  {
   "cell_type": "code",
   "execution_count": 8,
   "metadata": {
    "collapsed": false,
    "execution": {
     "iopub.execute_input": "2020-11-29T23:20:21.006914Z",
     "iopub.status.busy": "2020-11-29T23:20:21.006302Z",
     "iopub.status.idle": "2020-11-29T23:20:33.762075Z",
     "shell.execute_reply": "2020-11-29T23:20:33.762795Z"
    },
    "papermill": {
     "duration": 12.804036,
     "end_time": "2020-11-29T23:20:33.763032",
     "exception": false,
     "start_time": "2020-11-29T23:20:20.958996",
     "status": "completed"
    },
    "pycharm": {
     "name": "#%%\n"
    },
    "tags": []
   },
   "outputs": [],
   "source": [
    "@retry.retry(tries=10, delay=10, backoff=1.1, jitter=(0, 10))\n",
    "def download_cases_dataframe_from_ecdc():\n",
    "    return pd.read_csv(\n",
    "        \"https://opendata.ecdc.europa.eu/covid19/casedistribution/csv/data.csv\")\n",
    "\n",
    "confirmed_df_ = download_cases_dataframe_from_ecdc()"
   ]
  },
  {
   "cell_type": "code",
   "execution_count": 9,
   "metadata": {
    "collapsed": false,
    "execution": {
     "iopub.execute_input": "2020-11-29T23:20:33.858423Z",
     "iopub.status.busy": "2020-11-29T23:20:33.857821Z",
     "iopub.status.idle": "2020-11-29T23:20:34.264865Z",
     "shell.execute_reply": "2020-11-29T23:20:34.265446Z"
    },
    "papermill": {
     "duration": 0.457101,
     "end_time": "2020-11-29T23:20:34.265647",
     "exception": false,
     "start_time": "2020-11-29T23:20:33.808546",
     "status": "completed"
    },
    "pycharm": {
     "name": "#%%\n"
    },
    "tags": []
   },
   "outputs": [
    {
     "data": {
      "text/html": [
       "<div>\n",
       "<style scoped>\n",
       "    .dataframe tbody tr th:only-of-type {\n",
       "        vertical-align: middle;\n",
       "    }\n",
       "\n",
       "    .dataframe tbody tr th {\n",
       "        vertical-align: top;\n",
       "    }\n",
       "\n",
       "    .dataframe thead th {\n",
       "        text-align: right;\n",
       "    }\n",
       "</style>\n",
       "<table border=\"1\" class=\"dataframe\">\n",
       "  <thead>\n",
       "    <tr style=\"text-align: right;\">\n",
       "      <th></th>\n",
       "      <th>sample_date</th>\n",
       "      <th>new_cases</th>\n",
       "      <th>country_code</th>\n",
       "    </tr>\n",
       "  </thead>\n",
       "  <tbody>\n",
       "    <tr>\n",
       "      <th>56306</th>\n",
       "      <td>2020-11-29</td>\n",
       "      <td>17</td>\n",
       "      <td>VI</td>\n",
       "    </tr>\n",
       "    <tr>\n",
       "      <th>32907</th>\n",
       "      <td>2020-11-29</td>\n",
       "      <td>0</td>\n",
       "      <td>MG</td>\n",
       "    </tr>\n",
       "    <tr>\n",
       "      <th>38697</th>\n",
       "      <td>2020-11-29</td>\n",
       "      <td>0</td>\n",
       "      <td>NZ</td>\n",
       "    </tr>\n",
       "    <tr>\n",
       "      <th>39279</th>\n",
       "      <td>2020-11-29</td>\n",
       "      <td>12</td>\n",
       "      <td>NE</td>\n",
       "    </tr>\n",
       "    <tr>\n",
       "      <th>0</th>\n",
       "      <td>2020-11-29</td>\n",
       "      <td>228</td>\n",
       "      <td>AF</td>\n",
       "    </tr>\n",
       "  </tbody>\n",
       "</table>\n",
       "</div>"
      ],
      "text/plain": [
       "      sample_date  new_cases country_code\n",
       "56306  2020-11-29         17           VI\n",
       "32907  2020-11-29          0           MG\n",
       "38697  2020-11-29          0           NZ\n",
       "39279  2020-11-29         12           NE\n",
       "0      2020-11-29        228           AF"
      ]
     },
     "execution_count": 9,
     "metadata": {},
     "output_type": "execute_result"
    }
   ],
   "source": [
    "confirmed_df = confirmed_df_.copy()\n",
    "confirmed_df = confirmed_df[[\"dateRep\", \"cases\", \"geoId\"]]\n",
    "confirmed_df.rename(\n",
    "    columns={\n",
    "        \"dateRep\":\"sample_date\",\n",
    "        \"cases\": \"new_cases\",\n",
    "        \"geoId\": \"country_code\",\n",
    "    },\n",
    "    inplace=True)\n",
    "confirmed_df[\"sample_date\"] = pd.to_datetime(confirmed_df.sample_date, dayfirst=True)\n",
    "confirmed_df[\"sample_date\"] = confirmed_df.sample_date.dt.strftime(\"%Y-%m-%d\")\n",
    "confirmed_df.sort_values(\"sample_date\", inplace=True)\n",
    "confirmed_df.tail()"
   ]
  },
  {
   "cell_type": "code",
   "execution_count": 10,
   "metadata": {
    "collapsed": false,
    "execution": {
     "iopub.execute_input": "2020-11-29T23:20:34.362311Z",
     "iopub.status.busy": "2020-11-29T23:20:34.361716Z",
     "iopub.status.idle": "2020-11-29T23:20:34.363498Z",
     "shell.execute_reply": "2020-11-29T23:20:34.364034Z"
    },
    "papermill": {
     "duration": 0.05131,
     "end_time": "2020-11-29T23:20:34.364196",
     "exception": false,
     "start_time": "2020-11-29T23:20:34.312886",
     "status": "completed"
    },
    "pycharm": {
     "name": "#%%\n"
    },
    "tags": []
   },
   "outputs": [],
   "source": [
    "def sort_source_regions_for_display(source_regions: list) -> list:\n",
    "    if report_backend_identifier in source_regions:\n",
    "        source_regions = [report_backend_identifier] + \\\n",
    "            list(sorted(set(source_regions).difference([report_backend_identifier])))\n",
    "    else:\n",
    "        source_regions = list(sorted(source_regions))\n",
    "    return source_regions"
   ]
  },
  {
   "cell_type": "code",
   "execution_count": 11,
   "metadata": {
    "collapsed": false,
    "execution": {
     "iopub.execute_input": "2020-11-29T23:20:34.453847Z",
     "iopub.status.busy": "2020-11-29T23:20:34.453240Z",
     "iopub.status.idle": "2020-11-29T23:20:34.457852Z",
     "shell.execute_reply": "2020-11-29T23:20:34.457383Z"
    },
    "papermill": {
     "duration": 0.052198,
     "end_time": "2020-11-29T23:20:34.457986",
     "exception": false,
     "start_time": "2020-11-29T23:20:34.405788",
     "status": "completed"
    },
    "pycharm": {
     "name": "#%%\n"
    },
    "tags": []
   },
   "outputs": [
    {
     "data": {
      "text/plain": [
       "['ES', 'DE', 'DK', 'HR', 'IE', 'IT', 'LV', 'PL']"
      ]
     },
     "execution_count": 11,
     "metadata": {},
     "output_type": "execute_result"
    }
   ],
   "source": [
    "report_source_regions = report_backend_client.source_regions_for_date(\n",
    "    date=extraction_datetime.date())\n",
    "report_source_regions = sort_source_regions_for_display(\n",
    "    source_regions=report_source_regions)\n",
    "report_source_regions"
   ]
  },
  {
   "cell_type": "code",
   "execution_count": 12,
   "metadata": {
    "collapsed": false,
    "execution": {
     "iopub.execute_input": "2020-11-29T23:20:34.564384Z",
     "iopub.status.busy": "2020-11-29T23:20:34.563777Z",
     "iopub.status.idle": "2020-11-29T23:20:34.566137Z",
     "shell.execute_reply": "2020-11-29T23:20:34.566666Z"
    },
    "papermill": {
     "duration": 0.062465,
     "end_time": "2020-11-29T23:20:34.566827",
     "exception": false,
     "start_time": "2020-11-29T23:20:34.504362",
     "status": "completed"
    },
    "pycharm": {
     "name": "#%%\n"
    },
    "tags": []
   },
   "outputs": [
    {
     "data": {
      "text/html": [
       "<div>\n",
       "<style scoped>\n",
       "    .dataframe tbody tr th:only-of-type {\n",
       "        vertical-align: middle;\n",
       "    }\n",
       "\n",
       "    .dataframe tbody tr th {\n",
       "        vertical-align: top;\n",
       "    }\n",
       "\n",
       "    .dataframe thead th {\n",
       "        text-align: right;\n",
       "    }\n",
       "</style>\n",
       "<table border=\"1\" class=\"dataframe\">\n",
       "  <thead>\n",
       "    <tr style=\"text-align: right;\">\n",
       "      <th></th>\n",
       "      <th>sample_date</th>\n",
       "      <th>sample_date_string</th>\n",
       "    </tr>\n",
       "  </thead>\n",
       "  <tbody>\n",
       "    <tr>\n",
       "      <th>330</th>\n",
       "      <td>2020-11-25</td>\n",
       "      <td>2020-11-25</td>\n",
       "    </tr>\n",
       "    <tr>\n",
       "      <th>331</th>\n",
       "      <td>2020-11-26</td>\n",
       "      <td>2020-11-26</td>\n",
       "    </tr>\n",
       "    <tr>\n",
       "      <th>332</th>\n",
       "      <td>2020-11-27</td>\n",
       "      <td>2020-11-27</td>\n",
       "    </tr>\n",
       "    <tr>\n",
       "      <th>333</th>\n",
       "      <td>2020-11-28</td>\n",
       "      <td>2020-11-28</td>\n",
       "    </tr>\n",
       "    <tr>\n",
       "      <th>334</th>\n",
       "      <td>2020-11-29</td>\n",
       "      <td>2020-11-29</td>\n",
       "    </tr>\n",
       "  </tbody>\n",
       "</table>\n",
       "</div>"
      ],
      "text/plain": [
       "    sample_date sample_date_string\n",
       "330  2020-11-25         2020-11-25\n",
       "331  2020-11-26         2020-11-26\n",
       "332  2020-11-27         2020-11-27\n",
       "333  2020-11-28         2020-11-28\n",
       "334  2020-11-29         2020-11-29"
      ]
     },
     "execution_count": 12,
     "metadata": {},
     "output_type": "execute_result"
    }
   ],
   "source": [
    "confirmed_days = pd.date_range(\n",
    "    start=confirmed_df.iloc[0].sample_date,\n",
    "    end=extraction_datetime)\n",
    "confirmed_days_df = pd.DataFrame(data=confirmed_days, columns=[\"sample_date\"])\n",
    "confirmed_days_df[\"sample_date_string\"] = \\\n",
    "    confirmed_days_df.sample_date.dt.strftime(\"%Y-%m-%d\")\n",
    "confirmed_days_df.tail()"
   ]
  },
  {
   "cell_type": "code",
   "execution_count": 13,
   "metadata": {
    "collapsed": false,
    "execution": {
     "iopub.execute_input": "2020-11-29T23:20:34.671615Z",
     "iopub.status.busy": "2020-11-29T23:20:34.670994Z",
     "iopub.status.idle": "2020-11-29T23:20:34.674960Z",
     "shell.execute_reply": "2020-11-29T23:20:34.674466Z"
    },
    "papermill": {
     "duration": 0.065177,
     "end_time": "2020-11-29T23:20:34.675101",
     "exception": false,
     "start_time": "2020-11-29T23:20:34.609924",
     "status": "completed"
    },
    "pycharm": {
     "name": "#%%\n"
    },
    "tags": []
   },
   "outputs": [
    {
     "data": {
      "text/html": [
       "<div>\n",
       "<style scoped>\n",
       "    .dataframe tbody tr th:only-of-type {\n",
       "        vertical-align: middle;\n",
       "    }\n",
       "\n",
       "    .dataframe tbody tr th {\n",
       "        vertical-align: top;\n",
       "    }\n",
       "\n",
       "    .dataframe thead th {\n",
       "        text-align: right;\n",
       "    }\n",
       "</style>\n",
       "<table border=\"1\" class=\"dataframe\">\n",
       "  <thead>\n",
       "    <tr style=\"text-align: right;\">\n",
       "      <th></th>\n",
       "      <th>sample_date</th>\n",
       "      <th>sample_date_string</th>\n",
       "      <th>source_regions_at_date</th>\n",
       "      <th>_source_regions_group</th>\n",
       "    </tr>\n",
       "  </thead>\n",
       "  <tbody>\n",
       "    <tr>\n",
       "      <th>330</th>\n",
       "      <td>2020-11-25</td>\n",
       "      <td>2020-11-25</td>\n",
       "      <td>{LV, IE, ES, IT, DE, HR, DK}</td>\n",
       "      <td>ES,DE,DK,HR,IE,IT,LV</td>\n",
       "    </tr>\n",
       "    <tr>\n",
       "      <th>331</th>\n",
       "      <td>2020-11-26</td>\n",
       "      <td>2020-11-26</td>\n",
       "      <td>{LV, IE, ES, IT, DE, PL, HR, DK}</td>\n",
       "      <td>ES,DE,DK,HR,IE,IT,LV,PL</td>\n",
       "    </tr>\n",
       "    <tr>\n",
       "      <th>332</th>\n",
       "      <td>2020-11-27</td>\n",
       "      <td>2020-11-27</td>\n",
       "      <td>{LV, IE, ES, IT, DE, PL, HR, DK}</td>\n",
       "      <td>ES,DE,DK,HR,IE,IT,LV,PL</td>\n",
       "    </tr>\n",
       "    <tr>\n",
       "      <th>333</th>\n",
       "      <td>2020-11-28</td>\n",
       "      <td>2020-11-28</td>\n",
       "      <td>{LV, IE, ES, IT, DE, PL, HR, DK}</td>\n",
       "      <td>ES,DE,DK,HR,IE,IT,LV,PL</td>\n",
       "    </tr>\n",
       "    <tr>\n",
       "      <th>334</th>\n",
       "      <td>2020-11-29</td>\n",
       "      <td>2020-11-29</td>\n",
       "      <td>{LV, IE, ES, IT, DE, PL, HR, DK}</td>\n",
       "      <td>ES,DE,DK,HR,IE,IT,LV,PL</td>\n",
       "    </tr>\n",
       "  </tbody>\n",
       "</table>\n",
       "</div>"
      ],
      "text/plain": [
       "    sample_date sample_date_string            source_regions_at_date  \\\n",
       "330  2020-11-25         2020-11-25      {LV, IE, ES, IT, DE, HR, DK}   \n",
       "331  2020-11-26         2020-11-26  {LV, IE, ES, IT, DE, PL, HR, DK}   \n",
       "332  2020-11-27         2020-11-27  {LV, IE, ES, IT, DE, PL, HR, DK}   \n",
       "333  2020-11-28         2020-11-28  {LV, IE, ES, IT, DE, PL, HR, DK}   \n",
       "334  2020-11-29         2020-11-29  {LV, IE, ES, IT, DE, PL, HR, DK}   \n",
       "\n",
       "       _source_regions_group  \n",
       "330     ES,DE,DK,HR,IE,IT,LV  \n",
       "331  ES,DE,DK,HR,IE,IT,LV,PL  \n",
       "332  ES,DE,DK,HR,IE,IT,LV,PL  \n",
       "333  ES,DE,DK,HR,IE,IT,LV,PL  \n",
       "334  ES,DE,DK,HR,IE,IT,LV,PL  "
      ]
     },
     "execution_count": 13,
     "metadata": {},
     "output_type": "execute_result"
    }
   ],
   "source": [
    "source_regions_at_date_df = confirmed_days_df.copy()\n",
    "source_regions_at_date_df[\"source_regions_at_date\"] = \\\n",
    "    source_regions_at_date_df.sample_date.apply(\n",
    "        lambda x: report_backend_client.source_regions_for_date(date=x))\n",
    "source_regions_at_date_df.sort_values(\"sample_date\", inplace=True)\n",
    "source_regions_at_date_df[\"_source_regions_group\"] = source_regions_at_date_df. \\\n",
    "    source_regions_at_date.apply(lambda x: \",\".join(sort_source_regions_for_display(x)))\n",
    "source_regions_at_date_df.tail()"
   ]
  },
  {
   "cell_type": "code",
   "execution_count": 14,
   "metadata": {
    "collapsed": false,
    "execution": {
     "iopub.execute_input": "2020-11-29T23:20:34.780696Z",
     "iopub.status.busy": "2020-11-29T23:20:34.779983Z",
     "iopub.status.idle": "2020-11-29T23:20:34.782378Z",
     "shell.execute_reply": "2020-11-29T23:20:34.782830Z"
    },
    "papermill": {
     "duration": 0.064745,
     "end_time": "2020-11-29T23:20:34.783073",
     "exception": false,
     "start_time": "2020-11-29T23:20:34.718328",
     "status": "completed"
    },
    "pycharm": {
     "name": "#%%\n"
    },
    "tags": []
   },
   "outputs": [
    {
     "data": {
      "text/html": [
       "<div>\n",
       "<style scoped>\n",
       "    .dataframe tbody tr th:only-of-type {\n",
       "        vertical-align: middle;\n",
       "    }\n",
       "\n",
       "    .dataframe tbody tr th {\n",
       "        vertical-align: top;\n",
       "    }\n",
       "\n",
       "    .dataframe thead th {\n",
       "        text-align: right;\n",
       "    }\n",
       "</style>\n",
       "<table border=\"1\" class=\"dataframe\">\n",
       "  <thead>\n",
       "    <tr style=\"text-align: right;\">\n",
       "      <th></th>\n",
       "      <th>sample_date</th>\n",
       "      <th>source_regions</th>\n",
       "    </tr>\n",
       "  </thead>\n",
       "  <tbody>\n",
       "    <tr>\n",
       "      <th>330</th>\n",
       "      <td>2020-11-25</td>\n",
       "      <td>ES,DE,DK,HR,IE,IT,LV</td>\n",
       "    </tr>\n",
       "    <tr>\n",
       "      <th>331</th>\n",
       "      <td>2020-11-26</td>\n",
       "      <td>ES,DE,DK,HR,IE,IT,LV,PL</td>\n",
       "    </tr>\n",
       "    <tr>\n",
       "      <th>332</th>\n",
       "      <td>2020-11-27</td>\n",
       "      <td>ES,DE,DK,HR,IE,IT,LV,PL</td>\n",
       "    </tr>\n",
       "    <tr>\n",
       "      <th>333</th>\n",
       "      <td>2020-11-28</td>\n",
       "      <td>ES,DE,DK,HR,IE,IT,LV,PL</td>\n",
       "    </tr>\n",
       "    <tr>\n",
       "      <th>334</th>\n",
       "      <td>2020-11-29</td>\n",
       "      <td>ES,DE,DK,HR,IE,IT,LV,PL</td>\n",
       "    </tr>\n",
       "  </tbody>\n",
       "</table>\n",
       "</div>"
      ],
      "text/plain": [
       "    sample_date           source_regions\n",
       "330  2020-11-25     ES,DE,DK,HR,IE,IT,LV\n",
       "331  2020-11-26  ES,DE,DK,HR,IE,IT,LV,PL\n",
       "332  2020-11-27  ES,DE,DK,HR,IE,IT,LV,PL\n",
       "333  2020-11-28  ES,DE,DK,HR,IE,IT,LV,PL\n",
       "334  2020-11-29  ES,DE,DK,HR,IE,IT,LV,PL"
      ]
     },
     "execution_count": 14,
     "metadata": {},
     "output_type": "execute_result"
    }
   ],
   "source": [
    "source_regions_for_summary_df = \\\n",
    "    source_regions_at_date_df[[\"sample_date\", \"_source_regions_group\"]].copy()\n",
    "source_regions_for_summary_df.rename(columns={\"_source_regions_group\": \"source_regions\"}, inplace=True)\n",
    "source_regions_for_summary_df.tail()"
   ]
  },
  {
   "cell_type": "code",
   "execution_count": 15,
   "metadata": {
    "collapsed": false,
    "execution": {
     "iopub.execute_input": "2020-11-29T23:20:34.886575Z",
     "iopub.status.busy": "2020-11-29T23:20:34.885982Z",
     "iopub.status.idle": "2020-11-29T23:20:34.960829Z",
     "shell.execute_reply": "2020-11-29T23:20:34.961291Z"
    },
    "papermill": {
     "duration": 0.128033,
     "end_time": "2020-11-29T23:20:34.961458",
     "exception": false,
     "start_time": "2020-11-29T23:20:34.833425",
     "status": "completed"
    },
    "pycharm": {
     "name": "#%%\n"
    },
    "tags": []
   },
   "outputs": [
    {
     "data": {
      "text/html": [
       "<div>\n",
       "<style scoped>\n",
       "    .dataframe tbody tr th:only-of-type {\n",
       "        vertical-align: middle;\n",
       "    }\n",
       "\n",
       "    .dataframe tbody tr th {\n",
       "        vertical-align: top;\n",
       "    }\n",
       "\n",
       "    .dataframe thead th {\n",
       "        text-align: right;\n",
       "    }\n",
       "</style>\n",
       "<table border=\"1\" class=\"dataframe\">\n",
       "  <thead>\n",
       "    <tr style=\"text-align: right;\">\n",
       "      <th></th>\n",
       "      <th>sample_date</th>\n",
       "      <th>new_cases</th>\n",
       "      <th>covid_cases</th>\n",
       "    </tr>\n",
       "  </thead>\n",
       "  <tbody>\n",
       "    <tr>\n",
       "      <th>309</th>\n",
       "      <td>2020-11-04</td>\n",
       "      <td>70966</td>\n",
       "      <td>66020.0</td>\n",
       "    </tr>\n",
       "    <tr>\n",
       "      <th>310</th>\n",
       "      <td>2020-11-05</td>\n",
       "      <td>73194</td>\n",
       "      <td>67010.0</td>\n",
       "    </tr>\n",
       "    <tr>\n",
       "      <th>311</th>\n",
       "      <td>2020-11-06</td>\n",
       "      <td>79454</td>\n",
       "      <td>68044.0</td>\n",
       "    </tr>\n",
       "    <tr>\n",
       "      <th>312</th>\n",
       "      <td>2020-11-07</td>\n",
       "      <td>62050</td>\n",
       "      <td>69596.0</td>\n",
       "    </tr>\n",
       "    <tr>\n",
       "      <th>313</th>\n",
       "      <td>2020-11-08</td>\n",
       "      <td>56547</td>\n",
       "      <td>71025.0</td>\n",
       "    </tr>\n",
       "  </tbody>\n",
       "</table>\n",
       "</div>"
      ],
      "text/plain": [
       "    sample_date new_cases  covid_cases\n",
       "309  2020-11-04     70966      66020.0\n",
       "310  2020-11-05     73194      67010.0\n",
       "311  2020-11-06     79454      68044.0\n",
       "312  2020-11-07     62050      69596.0\n",
       "313  2020-11-08     56547      71025.0"
      ]
     },
     "execution_count": 15,
     "metadata": {},
     "output_type": "execute_result"
    }
   ],
   "source": [
    "confirmed_output_columns = [\"sample_date\", \"new_cases\", \"covid_cases\"]\n",
    "confirmed_output_df = pd.DataFrame(columns=confirmed_output_columns)\n",
    "\n",
    "for source_regions_group, source_regions_group_series in \\\n",
    "        source_regions_at_date_df.groupby(\"_source_regions_group\"):\n",
    "    source_regions_set = set(source_regions_group.split(\",\"))\n",
    "    confirmed_source_regions_set_df = \\\n",
    "        confirmed_df[confirmed_df.country_code.isin(source_regions_set)].copy()\n",
    "    confirmed_source_regions_group_df = \\\n",
    "        confirmed_source_regions_set_df.groupby(\"sample_date\").new_cases.sum() \\\n",
    "            .reset_index().sort_values(\"sample_date\")\n",
    "    confirmed_source_regions_group_df[\"covid_cases\"] = \\\n",
    "        confirmed_source_regions_group_df.new_cases.rolling(7, min_periods=0).mean().round()\n",
    "    confirmed_source_regions_group_df = \\\n",
    "        confirmed_source_regions_group_df[confirmed_output_columns]\n",
    "    confirmed_source_regions_group_df.fillna(method=\"ffill\", inplace=True)\n",
    "    confirmed_source_regions_group_df = \\\n",
    "        confirmed_source_regions_group_df[\n",
    "            confirmed_source_regions_group_df.sample_date.isin(\n",
    "                source_regions_group_series.sample_date_string)]\n",
    "    confirmed_output_df = confirmed_output_df.append(confirmed_source_regions_group_df)\n",
    "\n",
    "confirmed_df = confirmed_output_df.copy()\n",
    "confirmed_df.tail()"
   ]
  },
  {
   "cell_type": "code",
   "execution_count": 16,
   "metadata": {
    "collapsed": false,
    "execution": {
     "iopub.execute_input": "2020-11-29T23:20:35.072889Z",
     "iopub.status.busy": "2020-11-29T23:20:35.072202Z",
     "iopub.status.idle": "2020-11-29T23:20:35.083843Z",
     "shell.execute_reply": "2020-11-29T23:20:35.083336Z"
    },
    "papermill": {
     "duration": 0.069793,
     "end_time": "2020-11-29T23:20:35.083977",
     "exception": false,
     "start_time": "2020-11-29T23:20:35.014184",
     "status": "completed"
    },
    "pycharm": {
     "name": "#%%\n"
    },
    "tags": []
   },
   "outputs": [
    {
     "data": {
      "text/html": [
       "<div>\n",
       "<style scoped>\n",
       "    .dataframe tbody tr th:only-of-type {\n",
       "        vertical-align: middle;\n",
       "    }\n",
       "\n",
       "    .dataframe tbody tr th {\n",
       "        vertical-align: top;\n",
       "    }\n",
       "\n",
       "    .dataframe thead th {\n",
       "        text-align: right;\n",
       "    }\n",
       "</style>\n",
       "<table border=\"1\" class=\"dataframe\">\n",
       "  <thead>\n",
       "    <tr style=\"text-align: right;\">\n",
       "      <th></th>\n",
       "      <th>sample_date_string</th>\n",
       "      <th>new_cases</th>\n",
       "      <th>covid_cases</th>\n",
       "    </tr>\n",
       "  </thead>\n",
       "  <tbody>\n",
       "    <tr>\n",
       "      <th>330</th>\n",
       "      <td>2020-11-25</td>\n",
       "      <td>56448</td>\n",
       "      <td>65533.0</td>\n",
       "    </tr>\n",
       "    <tr>\n",
       "      <th>331</th>\n",
       "      <td>2020-11-26</td>\n",
       "      <td>81388</td>\n",
       "      <td>85417.0</td>\n",
       "    </tr>\n",
       "    <tr>\n",
       "      <th>332</th>\n",
       "      <td>2020-11-27</td>\n",
       "      <td>85755</td>\n",
       "      <td>82782.0</td>\n",
       "    </tr>\n",
       "    <tr>\n",
       "      <th>333</th>\n",
       "      <td>2020-11-28</td>\n",
       "      <td>73586</td>\n",
       "      <td>80782.0</td>\n",
       "    </tr>\n",
       "    <tr>\n",
       "      <th>334</th>\n",
       "      <td>2020-11-29</td>\n",
       "      <td>62722</td>\n",
       "      <td>78235.0</td>\n",
       "    </tr>\n",
       "  </tbody>\n",
       "</table>\n",
       "</div>"
      ],
      "text/plain": [
       "    sample_date_string  new_cases  covid_cases\n",
       "330         2020-11-25      56448      65533.0\n",
       "331         2020-11-26      81388      85417.0\n",
       "332         2020-11-27      85755      82782.0\n",
       "333         2020-11-28      73586      80782.0\n",
       "334         2020-11-29      62722      78235.0"
      ]
     },
     "execution_count": 16,
     "metadata": {},
     "output_type": "execute_result"
    }
   ],
   "source": [
    "confirmed_df.rename(columns={\"sample_date\": \"sample_date_string\"}, inplace=True)\n",
    "confirmed_df = confirmed_days_df[[\"sample_date_string\"]].merge(confirmed_df, how=\"left\")\n",
    "confirmed_df.sort_values(\"sample_date_string\", inplace=True)\n",
    "confirmed_df.fillna(method=\"ffill\", inplace=True)\n",
    "confirmed_df.tail()"
   ]
  },
  {
   "cell_type": "code",
   "execution_count": 17,
   "metadata": {
    "collapsed": false,
    "execution": {
     "iopub.execute_input": "2020-11-29T23:20:35.193256Z",
     "iopub.status.busy": "2020-11-29T23:20:35.192675Z",
     "iopub.status.idle": "2020-11-29T23:20:35.383921Z",
     "shell.execute_reply": "2020-11-29T23:20:35.384441Z"
    },
    "papermill": {
     "duration": 0.251459,
     "end_time": "2020-11-29T23:20:35.384655",
     "exception": false,
     "start_time": "2020-11-29T23:20:35.133196",
     "status": "completed"
    },
    "pycharm": {
     "name": "#%%\n"
    },
    "tags": []
   },
   "outputs": [
    {
     "data": {
      "text/plain": [
       "<matplotlib.axes._subplots.AxesSubplot at 0x7fd8c5956a60>"
      ]
     },
     "execution_count": 17,
     "metadata": {},
     "output_type": "execute_result"
    },
    {
     "data": {
      "image/png": "[encoded data removed]",
      "text/plain": [
       "<Figure size 1080x432 with 1 Axes>"
      ]
     },
     "metadata": {},
     "output_type": "display_data"
    }
   ],
   "source": [
    "confirmed_df[[\"new_cases\", \"covid_cases\"]].plot()"
   ]
  },
  {
   "cell_type": "markdown",
   "metadata": {
    "execution": {
     "iopub.execute_input": "2020-08-30T22:30:16.351238Z",
     "iopub.status.busy": "2020-08-30T22:30:16.344579Z",
     "iopub.status.idle": "2020-08-30T22:30:16.354285Z",
     "shell.execute_reply": "2020-08-30T22:30:16.353641Z"
    },
    "papermill": {
     "duration": 0.051103,
     "end_time": "2020-11-29T23:20:35.488609",
     "exception": false,
     "start_time": "2020-11-29T23:20:35.437506",
     "status": "completed"
    },
    "pycharm": {
     "name": "#%% md\n"
    },
    "tags": []
   },
   "source": [
    "### Extract API TEKs"
   ]
  },
  {
   "cell_type": "code",
   "execution_count": 18,
   "metadata": {
    "execution": {
     "iopub.execute_input": "2020-11-29T23:20:35.601411Z",
     "iopub.status.busy": "2020-11-29T23:20:35.600526Z",
     "iopub.status.idle": "2020-11-29T23:25:38.616354Z",
     "shell.execute_reply": "2020-11-29T23:25:38.616833Z"
    },
    "papermill": {
     "duration": 303.076642,
     "end_time": "2020-11-29T23:25:38.617004",
     "exception": false,
     "start_time": "2020-11-29T23:20:35.540362",
     "status": "completed"
    },
    "pycharm": {
     "name": "#%%\n"
    },
    "tags": []
   },
   "outputs": [
    {
     "name": "stderr",
     "output_type": "stream",
     "text": [
      "WARNING:root:NoKeysFoundException(\"No exposure keys found on endpoint 'https://radarcovidpre.covid19.gob.es/dp3t/v1/gaen/exposed/1606608000000' (parameters: {'generation_date': '2020-11-29', 'endpoint_identifier_components': ['2020-11-29'], 'backend_identifier': 'ES@PRE', 'server_endpoint_url': 'https://radarcovidpre.covid19.gob.es/dp3t'}).\")\n"
     ]
    },
    {
     "name": "stderr",
     "output_type": "stream",
     "text": [
      "WARNING:root:NoKeysFoundException(\"No exposure keys found on endpoint 'https://stayaway.incm.pt/v1/gaen/exposed/1606608000000' (parameters: {'generation_date': '2020-11-29', 'endpoint_identifier_components': ['2020-11-29'], 'backend_identifier': 'PT', 'server_endpoint_url': 'https://stayaway.incm.pt'}).\")\n"
     ]
    },
    {
     "name": "stderr",
     "output_type": "stream",
     "text": [
      "WARNING:root:NoKeysFoundException(\"No exposure keys found on endpoint 'https://enapi.sm.ee/authorization/v1/gaen/exposed/1606608000000' (parameters: {'generation_date': '2020-11-29', 'endpoint_identifier_components': ['2020-11-29'], 'backend_identifier': 'EE', 'server_endpoint_url': 'https://enapi.sm.ee/authorization'}).\")\n"
     ]
    },
    {
     "name": "stderr",
     "output_type": "stream",
     "text": [
      "WARNING:root:NoKeysFoundException(\"No exposure keys found on endpoint 'https://mt-dpppt-ws.azurewebsites.net/v1/gaen/exposed/1606608000000' (parameters: {'generation_date': '2020-11-29', 'endpoint_identifier_components': ['2020-11-29'], 'backend_identifier': 'MT', 'server_endpoint_url': 'https://mt-dpppt-ws.azurewebsites.net'}).\")\n"
     ]
    },
    {
     "data": {
      "text/html": [
       "<div>\n",
       "<style scoped>\n",
       "    .dataframe tbody tr th:only-of-type {\n",
       "        vertical-align: middle;\n",
       "    }\n",
       "\n",
       "    .dataframe tbody tr th {\n",
       "        vertical-align: top;\n",
       "    }\n",
       "\n",
       "    .dataframe thead th {\n",
       "        text-align: right;\n",
       "    }\n",
       "</style>\n",
       "<table border=\"1\" class=\"dataframe\">\n",
       "  <thead>\n",
       "    <tr style=\"text-align: right;\">\n",
       "      <th></th>\n",
       "      <th>sample_datetime</th>\n",
       "      <th>sample_date_string</th>\n",
       "      <th>region</th>\n",
       "      <th>verification_key_version</th>\n",
       "      <th>verification_key_id</th>\n",
       "      <th>signature_algorithm</th>\n",
       "      <th>key_data</th>\n",
       "      <th>rolling_start_interval_number</th>\n",
       "      <th>rolling_period</th>\n",
       "      <th>transmission_risk_level</th>\n",
       "      <th>backend_identifier</th>\n",
       "    </tr>\n",
       "  </thead>\n",
       "  <tbody>\n",
       "    <tr>\n",
       "      <th>0</th>\n",
       "      <td>2020-11-29 00:40:00</td>\n",
       "      <td>2020-11-29</td>\n",
       "      <td>ES</td>\n",
       "      <td>V1</td>\n",
       "      <td>214</td>\n",
       "      <td>1.2.840.10045.4.3.2</td>\n",
       "      <td>1a585d88-700a-a19b-3ef7-a09bdb421a4f</td>\n",
       "      <td>2677684</td>\n",
       "      <td>97</td>\n",
       "      <td>3</td>\n",
       "      <td>ES</td>\n",
       "    </tr>\n",
       "    <tr>\n",
       "      <th>1</th>\n",
       "      <td>2020-11-29 06:50:00</td>\n",
       "      <td>2020-11-29</td>\n",
       "      <td>ES</td>\n",
       "      <td>V1</td>\n",
       "      <td>214</td>\n",
       "      <td>1.2.840.10045.4.3.2</td>\n",
       "      <td>4fa8200a-9d61-de5a-84c8-8a708611c926</td>\n",
       "      <td>2677721</td>\n",
       "      <td>10</td>\n",
       "      <td>4</td>\n",
       "      <td>ES</td>\n",
       "    </tr>\n",
       "    <tr>\n",
       "      <th>2</th>\n",
       "      <td>2020-11-29 11:20:00</td>\n",
       "      <td>2020-11-29</td>\n",
       "      <td>ES</td>\n",
       "      <td>V1</td>\n",
       "      <td>214</td>\n",
       "      <td>1.2.840.10045.4.3.2</td>\n",
       "      <td>77c6cf4b-15a4-5e9d-e36d-7082b1507f07</td>\n",
       "      <td>2677748</td>\n",
       "      <td>31</td>\n",
       "      <td>6</td>\n",
       "      <td>ES</td>\n",
       "    </tr>\n",
       "    <tr>\n",
       "      <th>3</th>\n",
       "      <td>2020-11-29 15:10:00</td>\n",
       "      <td>2020-11-29</td>\n",
       "      <td>ES</td>\n",
       "      <td>V1</td>\n",
       "      <td>214</td>\n",
       "      <td>1.2.840.10045.4.3.2</td>\n",
       "      <td>db8296e3-cc48-c6a0-5709-e2e1b03b34b6</td>\n",
       "      <td>2677771</td>\n",
       "      <td>140</td>\n",
       "      <td>5</td>\n",
       "      <td>ES</td>\n",
       "    </tr>\n",
       "    <tr>\n",
       "      <th>4</th>\n",
       "      <td>2020-11-29 01:50:00</td>\n",
       "      <td>2020-11-29</td>\n",
       "      <td>ES</td>\n",
       "      <td>V1</td>\n",
       "      <td>214</td>\n",
       "      <td>1.2.840.10045.4.3.2</td>\n",
       "      <td>c309ea13-790f-41cf-9d74-885d860c1c71</td>\n",
       "      <td>2677691</td>\n",
       "      <td>43</td>\n",
       "      <td>7</td>\n",
       "      <td>ES</td>\n",
       "    </tr>\n",
       "  </tbody>\n",
       "</table>\n",
       "</div>"
      ],
      "text/plain": [
       "      sample_datetime sample_date_string region verification_key_version  \\\n",
       "0 2020-11-29 00:40:00         2020-11-29     ES                       V1   \n",
       "1 2020-11-29 06:50:00         2020-11-29     ES                       V1   \n",
       "2 2020-11-29 11:20:00         2020-11-29     ES                       V1   \n",
       "3 2020-11-29 15:10:00         2020-11-29     ES                       V1   \n",
       "4 2020-11-29 01:50:00         2020-11-29     ES                       V1   \n",
       "\n",
       "  verification_key_id  signature_algorithm  \\\n",
       "0                 214  1.2.840.10045.4.3.2   \n",
       "1                 214  1.2.840.10045.4.3.2   \n",
       "2                 214  1.2.840.10045.4.3.2   \n",
       "3                 214  1.2.840.10045.4.3.2   \n",
       "4                 214  1.2.840.10045.4.3.2   \n",
       "\n",
       "                               key_data  rolling_start_interval_number  \\\n",
       "0  1a585d88-700a-a19b-3ef7-a09bdb421a4f                        2677684   \n",
       "1  4fa8200a-9d61-de5a-84c8-8a708611c926                        2677721   \n",
       "2  77c6cf4b-15a4-5e9d-e36d-7082b1507f07                        2677748   \n",
       "3  db8296e3-cc48-c6a0-5709-e2e1b03b34b6                        2677771   \n",
       "4  c309ea13-790f-41cf-9d74-885d860c1c71                        2677691   \n",
       "\n",
       "   rolling_period  transmission_risk_level backend_identifier  \n",
       "0              97                        3                 ES  \n",
       "1              10                        4                 ES  \n",
       "2              31                        6                 ES  \n",
       "3             140                        5                 ES  \n",
       "4              43                        7                 ES  "
      ]
     },
     "execution_count": 18,
     "metadata": {},
     "output_type": "execute_result"
    }
   ],
   "source": [
    "raw_zip_path_prefix = \"Data/TEKs/Raw/\"\n",
    "fail_on_error_backend_identifiers = [report_backend_identifier]\n",
    "multi_backend_exposure_keys_df = \\\n",
    "    exposure_notification_io.download_exposure_keys_from_backends(\n",
    "        backend_identifiers=report_backend_identifiers,\n",
    "        generation_days=backend_generation_days,\n",
    "        fail_on_error_backend_identifiers=fail_on_error_backend_identifiers,\n",
    "        save_raw_zip_path_prefix=raw_zip_path_prefix)\n",
    "multi_backend_exposure_keys_df[\"region\"] = multi_backend_exposure_keys_df[\"backend_identifier\"]\n",
    "multi_backend_exposure_keys_df.rename(\n",
    "    columns={\n",
    "        \"generation_datetime\": \"sample_datetime\",\n",
    "        \"generation_date_string\": \"sample_date_string\",\n",
    "    },\n",
    "    inplace=True)\n",
    "multi_backend_exposure_keys_df.head()"
   ]
  },
  {
   "cell_type": "code",
   "execution_count": 19,
   "metadata": {
    "collapsed": false,
    "execution": {
     "iopub.execute_input": "2020-11-29T23:25:38.718738Z",
     "iopub.status.busy": "2020-11-29T23:25:38.718174Z",
     "iopub.status.idle": "2020-11-29T23:25:38.957740Z",
     "shell.execute_reply": "2020-11-29T23:25:38.958499Z"
    },
    "papermill": {
     "duration": 0.293863,
     "end_time": "2020-11-29T23:25:38.958673",
     "exception": false,
     "start_time": "2020-11-29T23:25:38.664810",
     "status": "completed"
    },
    "pycharm": {
     "name": "#%%\n"
    },
    "tags": []
   },
   "outputs": [
    {
     "data": {
      "text/plain": [
       "<matplotlib.axes._subplots.AxesSubplot at 0x7fd8b477b640>"
      ]
     },
     "execution_count": 19,
     "metadata": {},
     "output_type": "execute_result"
    },
    {
     "data": {
      "image/png": "[encoded data removed]",
      "text/plain": [
       "<Figure size 1080x432 with 1 Axes>"
      ]
     },
     "metadata": {},
     "output_type": "display_data"
    }
   ],
   "source": [
    "early_teks_df = multi_backend_exposure_keys_df[\n",
    "    multi_backend_exposure_keys_df.rolling_period < 144].copy()\n",
    "early_teks_df[\"rolling_period_in_hours\"] = early_teks_df.rolling_period / 6\n",
    "early_teks_df[early_teks_df.sample_date_string != extraction_date] \\\n",
    "    .rolling_period_in_hours.hist(bins=list(range(24)))"
   ]
  },
  {
   "cell_type": "code",
   "execution_count": 20,
   "metadata": {
    "collapsed": false,
    "execution": {
     "iopub.execute_input": "2020-11-29T23:25:39.066926Z",
     "iopub.status.busy": "2020-11-29T23:25:39.066310Z",
     "iopub.status.idle": "2020-11-29T23:25:39.269146Z",
     "shell.execute_reply": "2020-11-29T23:25:39.269684Z"
    },
    "papermill": {
     "duration": 0.261521,
     "end_time": "2020-11-29T23:25:39.269847",
     "exception": false,
     "start_time": "2020-11-29T23:25:39.008326",
     "status": "completed"
    },
    "pycharm": {
     "name": "#%%\n"
    },
    "tags": []
   },
   "outputs": [
    {
     "data": {
      "text/plain": [
       "<matplotlib.axes._subplots.AxesSubplot at 0x7fd8bc6de5e0>"
      ]
     },
     "execution_count": 20,
     "metadata": {},
     "output_type": "execute_result"
    },
    {
     "data": {
      "image/png": "[encoded data removed]",
      "text/plain": [
       "<Figure size 1080x432 with 1 Axes>"
      ]
     },
     "metadata": {},
     "output_type": "display_data"
    }
   ],
   "source": [
    "early_teks_df[early_teks_df.sample_date_string == extraction_date] \\\n",
    "    .rolling_period_in_hours.hist(bins=list(range(24)))"
   ]
  },
  {
   "cell_type": "code",
   "execution_count": 21,
   "metadata": {
    "collapsed": false,
    "execution": {
     "iopub.execute_input": "2020-11-29T23:25:39.381494Z",
     "iopub.status.busy": "2020-11-29T23:25:39.380924Z",
     "iopub.status.idle": "2020-11-29T23:25:39.417498Z",
     "shell.execute_reply": "2020-11-29T23:25:39.418248Z"
    },
    "papermill": {
     "duration": 0.092492,
     "end_time": "2020-11-29T23:25:39.418493",
     "exception": false,
     "start_time": "2020-11-29T23:25:39.326001",
     "status": "completed"
    },
    "pycharm": {
     "name": "#%%\n"
    },
    "tags": []
   },
   "outputs": [
    {
     "data": {
      "text/html": [
       "<div>\n",
       "<style scoped>\n",
       "    .dataframe tbody tr th:only-of-type {\n",
       "        vertical-align: middle;\n",
       "    }\n",
       "\n",
       "    .dataframe tbody tr th {\n",
       "        vertical-align: top;\n",
       "    }\n",
       "\n",
       "    .dataframe thead th {\n",
       "        text-align: right;\n",
       "    }\n",
       "</style>\n",
       "<table border=\"1\" class=\"dataframe\">\n",
       "  <thead>\n",
       "    <tr style=\"text-align: right;\">\n",
       "      <th></th>\n",
       "      <th>sample_date_string</th>\n",
       "      <th>region</th>\n",
       "      <th>key_data</th>\n",
       "    </tr>\n",
       "  </thead>\n",
       "  <tbody>\n",
       "    <tr>\n",
       "      <th>0</th>\n",
       "      <td>2020-11-29</td>\n",
       "      <td>ES</td>\n",
       "      <td>1a585d88-700a-a19b-3ef7-a09bdb421a4f</td>\n",
       "    </tr>\n",
       "    <tr>\n",
       "      <th>1</th>\n",
       "      <td>2020-11-29</td>\n",
       "      <td>ES</td>\n",
       "      <td>4fa8200a-9d61-de5a-84c8-8a708611c926</td>\n",
       "    </tr>\n",
       "    <tr>\n",
       "      <th>2</th>\n",
       "      <td>2020-11-29</td>\n",
       "      <td>ES</td>\n",
       "      <td>77c6cf4b-15a4-5e9d-e36d-7082b1507f07</td>\n",
       "    </tr>\n",
       "    <tr>\n",
       "      <th>3</th>\n",
       "      <td>2020-11-29</td>\n",
       "      <td>ES</td>\n",
       "      <td>db8296e3-cc48-c6a0-5709-e2e1b03b34b6</td>\n",
       "    </tr>\n",
       "    <tr>\n",
       "      <th>4</th>\n",
       "      <td>2020-11-29</td>\n",
       "      <td>ES</td>\n",
       "      <td>c309ea13-790f-41cf-9d74-885d860c1c71</td>\n",
       "    </tr>\n",
       "  </tbody>\n",
       "</table>\n",
       "</div>"
      ],
      "text/plain": [
       "  sample_date_string region                              key_data\n",
       "0         2020-11-29     ES  1a585d88-700a-a19b-3ef7-a09bdb421a4f\n",
       "1         2020-11-29     ES  4fa8200a-9d61-de5a-84c8-8a708611c926\n",
       "2         2020-11-29     ES  77c6cf4b-15a4-5e9d-e36d-7082b1507f07\n",
       "3         2020-11-29     ES  db8296e3-cc48-c6a0-5709-e2e1b03b34b6\n",
       "4         2020-11-29     ES  c309ea13-790f-41cf-9d74-885d860c1c71"
      ]
     },
     "execution_count": 21,
     "metadata": {},
     "output_type": "execute_result"
    }
   ],
   "source": [
    "multi_backend_exposure_keys_df = multi_backend_exposure_keys_df[[\n",
    "    \"sample_date_string\", \"region\", \"key_data\"]]\n",
    "multi_backend_exposure_keys_df.head()"
   ]
  },
  {
   "cell_type": "code",
   "execution_count": 22,
   "metadata": {
    "collapsed": false,
    "execution": {
     "iopub.execute_input": "2020-11-29T23:25:39.543288Z",
     "iopub.status.busy": "2020-11-29T23:25:39.542656Z",
     "iopub.status.idle": "2020-11-29T23:25:43.359208Z",
     "shell.execute_reply": "2020-11-29T23:25:43.358573Z"
    },
    "papermill": {
     "duration": 3.882496,
     "end_time": "2020-11-29T23:25:43.359381",
     "exception": false,
     "start_time": "2020-11-29T23:25:39.476885",
     "status": "completed"
    },
    "pycharm": {
     "name": "#%%\n"
    },
    "tags": []
   },
   "outputs": [
    {
     "data": {
      "text/plain": [
       "['BE@TST', 'MT', 'EE', 'PT', 'BE', 'DK', 'CH', 'ES@PRE', 'DE', 'IT', 'ES']"
      ]
     },
     "execution_count": 22,
     "metadata": {},
     "output_type": "execute_result"
    }
   ],
   "source": [
    "active_regions = \\\n",
    "    multi_backend_exposure_keys_df.groupby(\"region\").key_data.nunique().sort_values().index.unique().tolist()\n",
    "active_regions"
   ]
  },
  {
   "cell_type": "code",
   "execution_count": 23,
   "metadata": {
    "collapsed": false,
    "execution": {
     "iopub.execute_input": "2020-11-29T23:25:43.506607Z",
     "iopub.status.busy": "2020-11-29T23:25:43.505603Z",
     "iopub.status.idle": "2020-11-29T23:25:47.414163Z",
     "shell.execute_reply": "2020-11-29T23:25:47.414695Z"
    },
    "papermill": {
     "duration": 4.001252,
     "end_time": "2020-11-29T23:25:47.414877",
     "exception": false,
     "start_time": "2020-11-29T23:25:43.413625",
     "status": "completed"
    },
    "pycharm": {
     "name": "#%%\n"
    },
    "tags": []
   },
   "outputs": [
    {
     "data": {
      "text/html": [
       "<div>\n",
       "<style scoped>\n",
       "    .dataframe tbody tr th:only-of-type {\n",
       "        vertical-align: middle;\n",
       "    }\n",
       "\n",
       "    .dataframe tbody tr th {\n",
       "        vertical-align: top;\n",
       "    }\n",
       "\n",
       "    .dataframe thead tr th {\n",
       "        text-align: left;\n",
       "    }\n",
       "\n",
       "    .dataframe thead tr:last-of-type th {\n",
       "        text-align: right;\n",
       "    }\n",
       "</style>\n",
       "<table border=\"1\" class=\"dataframe\">\n",
       "  <thead>\n",
       "    <tr>\n",
       "      <th></th>\n",
       "      <th colspan=\"11\" halign=\"left\">shared_teks_by_generation_date</th>\n",
       "    </tr>\n",
       "    <tr>\n",
       "      <th>region</th>\n",
       "      <th>BE</th>\n",
       "      <th>BE@TST</th>\n",
       "      <th>CH</th>\n",
       "      <th>DE</th>\n",
       "      <th>DK</th>\n",
       "      <th>EE</th>\n",
       "      <th>ES</th>\n",
       "      <th>ES@PRE</th>\n",
       "      <th>IT</th>\n",
       "      <th>MT</th>\n",
       "      <th>PT</th>\n",
       "    </tr>\n",
       "    <tr>\n",
       "      <th>sample_date</th>\n",
       "      <th></th>\n",
       "      <th></th>\n",
       "      <th></th>\n",
       "      <th></th>\n",
       "      <th></th>\n",
       "      <th></th>\n",
       "      <th></th>\n",
       "      <th></th>\n",
       "      <th></th>\n",
       "      <th></th>\n",
       "      <th></th>\n",
       "    </tr>\n",
       "  </thead>\n",
       "  <tbody>\n",
       "    <tr>\n",
       "      <th>2020-11-29</th>\n",
       "      <td>0</td>\n",
       "      <td>0</td>\n",
       "      <td>272</td>\n",
       "      <td>0</td>\n",
       "      <td>0</td>\n",
       "      <td>0</td>\n",
       "      <td>128</td>\n",
       "      <td>0</td>\n",
       "      <td>49</td>\n",
       "      <td>0</td>\n",
       "      <td>0</td>\n",
       "    </tr>\n",
       "    <tr>\n",
       "      <th>2020-11-28</th>\n",
       "      <td>0</td>\n",
       "      <td>0</td>\n",
       "      <td>689</td>\n",
       "      <td>0</td>\n",
       "      <td>223</td>\n",
       "      <td>31</td>\n",
       "      <td>1201</td>\n",
       "      <td>225</td>\n",
       "      <td>889</td>\n",
       "      <td>104</td>\n",
       "      <td>33</td>\n",
       "    </tr>\n",
       "    <tr>\n",
       "      <th>2020-11-27</th>\n",
       "      <td>174</td>\n",
       "      <td>35</td>\n",
       "      <td>1164</td>\n",
       "      <td>1884</td>\n",
       "      <td>452</td>\n",
       "      <td>57</td>\n",
       "      <td>3722</td>\n",
       "      <td>580</td>\n",
       "      <td>2932</td>\n",
       "      <td>107</td>\n",
       "      <td>62</td>\n",
       "    </tr>\n",
       "    <tr>\n",
       "      <th>2020-11-26</th>\n",
       "      <td>240</td>\n",
       "      <td>45</td>\n",
       "      <td>1650</td>\n",
       "      <td>3659</td>\n",
       "      <td>653</td>\n",
       "      <td>90</td>\n",
       "      <td>6142</td>\n",
       "      <td>1059</td>\n",
       "      <td>4831</td>\n",
       "      <td>110</td>\n",
       "      <td>92</td>\n",
       "    </tr>\n",
       "    <tr>\n",
       "      <th>2020-11-25</th>\n",
       "      <td>319</td>\n",
       "      <td>53</td>\n",
       "      <td>2132</td>\n",
       "      <td>5391</td>\n",
       "      <td>865</td>\n",
       "      <td>116</td>\n",
       "      <td>8553</td>\n",
       "      <td>2031</td>\n",
       "      <td>6751</td>\n",
       "      <td>110</td>\n",
       "      <td>122</td>\n",
       "    </tr>\n",
       "  </tbody>\n",
       "</table>\n",
       "</div>"
      ],
      "text/plain": [
       "            shared_teks_by_generation_date                                     \\\n",
       "region                                  BE BE@TST    CH    DE   DK   EE    ES   \n",
       "sample_date                                                                     \n",
       "2020-11-29                               0      0   272     0    0    0   128   \n",
       "2020-11-28                               0      0   689     0  223   31  1201   \n",
       "2020-11-27                             174     35  1164  1884  452   57  3722   \n",
       "2020-11-26                             240     45  1650  3659  653   90  6142   \n",
       "2020-11-25                             319     53  2132  5391  865  116  8553   \n",
       "\n",
       "                                    \n",
       "region      ES@PRE    IT   MT   PT  \n",
       "sample_date                         \n",
       "2020-11-29       0    49    0    0  \n",
       "2020-11-28     225   889  104   33  \n",
       "2020-11-27     580  2932  107   62  \n",
       "2020-11-26    1059  4831  110   92  \n",
       "2020-11-25    2031  6751  110  122  "
      ]
     },
     "execution_count": 23,
     "metadata": {},
     "output_type": "execute_result"
    }
   ],
   "source": [
    "multi_backend_summary_df = multi_backend_exposure_keys_df.groupby(\n",
    "    [\"sample_date_string\", \"region\"]).key_data.nunique().reset_index() \\\n",
    "    .pivot(index=\"sample_date_string\", columns=\"region\") \\\n",
    "    .sort_index(ascending=False)\n",
    "multi_backend_summary_df.rename(\n",
    "    columns={\"key_data\": \"shared_teks_by_generation_date\"},\n",
    "    inplace=True)\n",
    "multi_backend_summary_df.rename_axis(\"sample_date\", inplace=True)\n",
    "multi_backend_summary_df = multi_backend_summary_df.fillna(0).astype(int)\n",
    "multi_backend_summary_df = multi_backend_summary_df.head(backend_generation_days)\n",
    "multi_backend_summary_df.head()"
   ]
  },
  {
   "cell_type": "code",
   "execution_count": 24,
   "metadata": {
    "collapsed": false,
    "execution": {
     "iopub.execute_input": "2020-11-29T23:25:47.867705Z",
     "iopub.status.busy": "2020-11-29T23:25:47.867068Z",
     "iopub.status.idle": "2020-11-29T23:25:53.286138Z",
     "shell.execute_reply": "2020-11-29T23:25:53.286562Z"
    },
    "papermill": {
     "duration": 5.81664,
     "end_time": "2020-11-29T23:25:53.286729",
     "exception": false,
     "start_time": "2020-11-29T23:25:47.470089",
     "status": "completed"
    },
    "pycharm": {
     "name": "#%%\n"
    },
    "tags": []
   },
   "outputs": [
    {
     "name": "stderr",
     "output_type": "stream",
     "text": [
      "<ipython-input-24-4e21708c19d8>:2: FutureWarning: `item` has been deprecated and will be removed in a future version\n",
      "  teks_x = x.key_data_x.item()\n",
      "<ipython-input-24-4e21708c19d8>:3: FutureWarning: `item` has been deprecated and will be removed in a future version\n",
      "  common_teks = set(teks_x).intersection(x.key_data_y.item())\n"
     ]
    },
    {
     "name": "stderr",
     "output_type": "stream",
     "text": [
      "<ipython-input-24-4e21708c19d8>:33: FutureWarning: `item` has been deprecated and will be removed in a future version\n",
      "  aggfunc=lambda x: x.item())\n"
     ]
    },
    {
     "data": {
      "text/html": [
       "<div>\n",
       "<style scoped>\n",
       "    .dataframe tbody tr th:only-of-type {\n",
       "        vertical-align: middle;\n",
       "    }\n",
       "\n",
       "    .dataframe tbody tr th {\n",
       "        vertical-align: top;\n",
       "    }\n",
       "\n",
       "    .dataframe thead tr th {\n",
       "        text-align: left;\n",
       "    }\n",
       "\n",
       "    .dataframe thead tr:last-of-type th {\n",
       "        text-align: right;\n",
       "    }\n",
       "</style>\n",
       "<table border=\"1\" class=\"dataframe\">\n",
       "  <thead>\n",
       "    <tr>\n",
       "      <th></th>\n",
       "      <th colspan=\"11\" halign=\"left\">common_teks_fraction</th>\n",
       "    </tr>\n",
       "    <tr>\n",
       "      <th>region_x</th>\n",
       "      <th>BE</th>\n",
       "      <th>BE@TST</th>\n",
       "      <th>CH</th>\n",
       "      <th>DE</th>\n",
       "      <th>DK</th>\n",
       "      <th>EE</th>\n",
       "      <th>ES</th>\n",
       "      <th>ES@PRE</th>\n",
       "      <th>IT</th>\n",
       "      <th>MT</th>\n",
       "      <th>PT</th>\n",
       "    </tr>\n",
       "    <tr>\n",
       "      <th>region_y</th>\n",
       "      <th></th>\n",
       "      <th></th>\n",
       "      <th></th>\n",
       "      <th></th>\n",
       "      <th></th>\n",
       "      <th></th>\n",
       "      <th></th>\n",
       "      <th></th>\n",
       "      <th></th>\n",
       "      <th></th>\n",
       "      <th></th>\n",
       "    </tr>\n",
       "  </thead>\n",
       "  <tbody>\n",
       "    <tr>\n",
       "      <th>BE</th>\n",
       "      <td>NaN</td>\n",
       "      <td>0.0</td>\n",
       "      <td>0.0</td>\n",
       "      <td>0.000000</td>\n",
       "      <td>0.000000</td>\n",
       "      <td>0.0</td>\n",
       "      <td>0.000000</td>\n",
       "      <td>0.000000</td>\n",
       "      <td>0.000000</td>\n",
       "      <td>0.0</td>\n",
       "      <td>0.0</td>\n",
       "    </tr>\n",
       "    <tr>\n",
       "      <th>BE@TST</th>\n",
       "      <td>0.0</td>\n",
       "      <td>NaN</td>\n",
       "      <td>0.0</td>\n",
       "      <td>0.000000</td>\n",
       "      <td>0.000000</td>\n",
       "      <td>0.0</td>\n",
       "      <td>0.000000</td>\n",
       "      <td>0.000000</td>\n",
       "      <td>0.000000</td>\n",
       "      <td>0.0</td>\n",
       "      <td>0.0</td>\n",
       "    </tr>\n",
       "    <tr>\n",
       "      <th>CH</th>\n",
       "      <td>0.0</td>\n",
       "      <td>0.0</td>\n",
       "      <td>NaN</td>\n",
       "      <td>0.000000</td>\n",
       "      <td>0.000000</td>\n",
       "      <td>0.0</td>\n",
       "      <td>0.000000</td>\n",
       "      <td>0.000000</td>\n",
       "      <td>0.000000</td>\n",
       "      <td>0.0</td>\n",
       "      <td>0.0</td>\n",
       "    </tr>\n",
       "    <tr>\n",
       "      <th>DE</th>\n",
       "      <td>0.0</td>\n",
       "      <td>0.0</td>\n",
       "      <td>0.0</td>\n",
       "      <td>NaN</td>\n",
       "      <td>0.000000</td>\n",
       "      <td>0.0</td>\n",
       "      <td>0.699983</td>\n",
       "      <td>0.000097</td>\n",
       "      <td>0.850034</td>\n",
       "      <td>0.0</td>\n",
       "      <td>0.0</td>\n",
       "    </tr>\n",
       "    <tr>\n",
       "      <th>DK</th>\n",
       "      <td>0.0</td>\n",
       "      <td>0.0</td>\n",
       "      <td>0.0</td>\n",
       "      <td>0.000000</td>\n",
       "      <td>NaN</td>\n",
       "      <td>0.0</td>\n",
       "      <td>0.085795</td>\n",
       "      <td>0.000000</td>\n",
       "      <td>0.000000</td>\n",
       "      <td>0.0</td>\n",
       "      <td>0.0</td>\n",
       "    </tr>\n",
       "    <tr>\n",
       "      <th>EE</th>\n",
       "      <td>0.0</td>\n",
       "      <td>0.0</td>\n",
       "      <td>0.0</td>\n",
       "      <td>0.000000</td>\n",
       "      <td>0.000000</td>\n",
       "      <td>NaN</td>\n",
       "      <td>0.000000</td>\n",
       "      <td>0.000000</td>\n",
       "      <td>0.000000</td>\n",
       "      <td>0.0</td>\n",
       "      <td>0.0</td>\n",
       "    </tr>\n",
       "    <tr>\n",
       "      <th>ES</th>\n",
       "      <td>0.0</td>\n",
       "      <td>0.0</td>\n",
       "      <td>0.0</td>\n",
       "      <td>0.968678</td>\n",
       "      <td>0.838011</td>\n",
       "      <td>0.0</td>\n",
       "      <td>NaN</td>\n",
       "      <td>0.000097</td>\n",
       "      <td>0.991791</td>\n",
       "      <td>0.0</td>\n",
       "      <td>0.0</td>\n",
       "    </tr>\n",
       "    <tr>\n",
       "      <th>ES@PRE</th>\n",
       "      <td>0.0</td>\n",
       "      <td>0.0</td>\n",
       "      <td>0.0</td>\n",
       "      <td>0.000032</td>\n",
       "      <td>0.000000</td>\n",
       "      <td>0.0</td>\n",
       "      <td>0.000023</td>\n",
       "      <td>NaN</td>\n",
       "      <td>0.000028</td>\n",
       "      <td>0.0</td>\n",
       "      <td>0.0</td>\n",
       "    </tr>\n",
       "    <tr>\n",
       "      <th>IT</th>\n",
       "      <td>0.0</td>\n",
       "      <td>0.0</td>\n",
       "      <td>0.0</td>\n",
       "      <td>0.968646</td>\n",
       "      <td>0.000000</td>\n",
       "      <td>0.0</td>\n",
       "      <td>0.816689</td>\n",
       "      <td>0.000097</td>\n",
       "      <td>NaN</td>\n",
       "      <td>0.0</td>\n",
       "      <td>0.0</td>\n",
       "    </tr>\n",
       "    <tr>\n",
       "      <th>MT</th>\n",
       "      <td>0.0</td>\n",
       "      <td>0.0</td>\n",
       "      <td>0.0</td>\n",
       "      <td>0.000000</td>\n",
       "      <td>0.000000</td>\n",
       "      <td>0.0</td>\n",
       "      <td>0.000000</td>\n",
       "      <td>0.000000</td>\n",
       "      <td>0.000000</td>\n",
       "      <td>NaN</td>\n",
       "      <td>0.0</td>\n",
       "    </tr>\n",
       "    <tr>\n",
       "      <th>PT</th>\n",
       "      <td>0.0</td>\n",
       "      <td>0.0</td>\n",
       "      <td>0.0</td>\n",
       "      <td>0.000000</td>\n",
       "      <td>0.000000</td>\n",
       "      <td>0.0</td>\n",
       "      <td>0.000000</td>\n",
       "      <td>0.000000</td>\n",
       "      <td>0.000000</td>\n",
       "      <td>0.0</td>\n",
       "      <td>NaN</td>\n",
       "    </tr>\n",
       "  </tbody>\n",
       "</table>\n",
       "</div>"
      ],
      "text/plain": [
       "         common_teks_fraction                                                 \\\n",
       "region_x                   BE BE@TST   CH        DE        DK   EE        ES   \n",
       "region_y                                                                       \n",
       "BE                        NaN    0.0  0.0  0.000000  0.000000  0.0  0.000000   \n",
       "BE@TST                    0.0    NaN  0.0  0.000000  0.000000  0.0  0.000000   \n",
       "CH                        0.0    0.0  NaN  0.000000  0.000000  0.0  0.000000   \n",
       "DE                        0.0    0.0  0.0       NaN  0.000000  0.0  0.699983   \n",
       "DK                        0.0    0.0  0.0  0.000000       NaN  0.0  0.085795   \n",
       "EE                        0.0    0.0  0.0  0.000000  0.000000  NaN  0.000000   \n",
       "ES                        0.0    0.0  0.0  0.968678  0.838011  0.0       NaN   \n",
       "ES@PRE                    0.0    0.0  0.0  0.000032  0.000000  0.0  0.000023   \n",
       "IT                        0.0    0.0  0.0  0.968646  0.000000  0.0  0.816689   \n",
       "MT                        0.0    0.0  0.0  0.000000  0.000000  0.0  0.000000   \n",
       "PT                        0.0    0.0  0.0  0.000000  0.000000  0.0  0.000000   \n",
       "\n",
       "                                        \n",
       "region_x    ES@PRE        IT   MT   PT  \n",
       "region_y                                \n",
       "BE        0.000000  0.000000  0.0  0.0  \n",
       "BE@TST    0.000000  0.000000  0.0  0.0  \n",
       "CH        0.000000  0.000000  0.0  0.0  \n",
       "DE        0.000097  0.850034  0.0  0.0  \n",
       "DK        0.000000  0.000000  0.0  0.0  \n",
       "EE        0.000000  0.000000  0.0  0.0  \n",
       "ES        0.000097  0.991791  0.0  0.0  \n",
       "ES@PRE         NaN  0.000028  0.0  0.0  \n",
       "IT        0.000097       NaN  0.0  0.0  \n",
       "MT        0.000000  0.000000  NaN  0.0  \n",
       "PT        0.000000  0.000000  0.0  NaN  "
      ]
     },
     "execution_count": 24,
     "metadata": {},
     "output_type": "execute_result"
    }
   ],
   "source": [
    "def compute_keys_cross_sharing(x):\n",
    "    teks_x = x.key_data_x.item()\n",
    "    common_teks = set(teks_x).intersection(x.key_data_y.item())\n",
    "    common_teks_fraction = len(common_teks) / len(teks_x)\n",
    "    return pd.Series(dict(\n",
    "        common_teks=common_teks,\n",
    "        common_teks_fraction=common_teks_fraction,\n",
    "    ))\n",
    "\n",
    "multi_backend_exposure_keys_by_region_df = \\\n",
    "    multi_backend_exposure_keys_df.groupby(\"region\").key_data.unique().reset_index()\n",
    "multi_backend_exposure_keys_by_region_df[\"_merge\"] = True\n",
    "multi_backend_exposure_keys_by_region_combination_df = \\\n",
    "    multi_backend_exposure_keys_by_region_df.merge(\n",
    "        multi_backend_exposure_keys_by_region_df, on=\"_merge\")\n",
    "multi_backend_exposure_keys_by_region_combination_df.drop(\n",
    "    columns=[\"_merge\"], inplace=True)\n",
    "if multi_backend_exposure_keys_by_region_combination_df.region_x.nunique() > 1:\n",
    "    multi_backend_exposure_keys_by_region_combination_df = \\\n",
    "        multi_backend_exposure_keys_by_region_combination_df[\n",
    "            multi_backend_exposure_keys_by_region_combination_df.region_x !=\n",
    "            multi_backend_exposure_keys_by_region_combination_df.region_y]\n",
    "multi_backend_exposure_keys_cross_sharing_df = \\\n",
    "    multi_backend_exposure_keys_by_region_combination_df \\\n",
    "        .groupby([\"region_x\", \"region_y\"]) \\\n",
    "        .apply(compute_keys_cross_sharing) \\\n",
    "        .reset_index()\n",
    "multi_backend_cross_sharing_summary_df = \\\n",
    "    multi_backend_exposure_keys_cross_sharing_df.pivot_table(\n",
    "        values=[\"common_teks_fraction\"],\n",
    "        columns=\"region_x\",\n",
    "        index=\"region_y\",\n",
    "        aggfunc=lambda x: x.item())\n",
    "multi_backend_cross_sharing_summary_df"
   ]
  },
  {
   "cell_type": "code",
   "execution_count": 25,
   "metadata": {
    "collapsed": false,
    "execution": {
     "iopub.execute_input": "2020-11-29T23:25:53.431474Z",
     "iopub.status.busy": "2020-11-29T23:25:53.430846Z",
     "iopub.status.idle": "2020-11-29T23:25:55.593350Z",
     "shell.execute_reply": "2020-11-29T23:25:55.592484Z"
    },
    "papermill": {
     "duration": 2.254039,
     "end_time": "2020-11-29T23:25:55.593494",
     "exception": false,
     "start_time": "2020-11-29T23:25:53.339455",
     "status": "completed"
    },
    "pycharm": {
     "name": "#%%\n"
    },
    "tags": []
   },
   "outputs": [
    {
     "data": {
      "text/plain": [
       "['BE@TST', 'MT', 'EE', 'PT', 'BE', 'DK', 'CH', 'ES@PRE', 'DE', 'IT']"
      ]
     },
     "execution_count": 25,
     "metadata": {},
     "output_type": "execute_result"
    }
   ],
   "source": [
    "multi_backend_without_active_region_exposure_keys_df = \\\n",
    "    multi_backend_exposure_keys_df[multi_backend_exposure_keys_df.region != report_backend_identifier]\n",
    "multi_backend_without_active_region = \\\n",
    "    multi_backend_without_active_region_exposure_keys_df.groupby(\"region\").key_data.nunique().sort_values().index.unique().tolist()\n",
    "multi_backend_without_active_region"
   ]
  },
  {
   "cell_type": "code",
   "execution_count": 26,
   "metadata": {
    "execution": {
     "iopub.execute_input": "2020-11-29T23:25:55.738649Z",
     "iopub.status.busy": "2020-11-29T23:25:55.737812Z",
     "iopub.status.idle": "2020-11-29T23:25:57.281007Z",
     "shell.execute_reply": "2020-11-29T23:25:57.279969Z"
    },
    "papermill": {
     "duration": 1.634779,
     "end_time": "2020-11-29T23:25:57.281148",
     "exception": false,
     "start_time": "2020-11-29T23:25:55.646369",
     "status": "completed"
    },
    "scrolled": false,
    "tags": []
   },
   "outputs": [
    {
     "name": "stderr",
     "output_type": "stream",
     "text": [
      "/opt/hostedtoolcache/Python/3.8.6/x64/lib/python3.8/site-packages/pandas/core/frame.py:4110: SettingWithCopyWarning: \n",
      "A value is trying to be set on a copy of a slice from a DataFrame\n",
      "\n",
      "See the caveats in the documentation: http://pandas.pydata.org/pandas-docs/stable/user_guide/indexing.html#returning-a-view-versus-a-copy\n",
      "  return super().drop(\n"
     ]
    },
    {
     "data": {
      "text/html": [
       "<div>\n",
       "<style scoped>\n",
       "    .dataframe tbody tr th:only-of-type {\n",
       "        vertical-align: middle;\n",
       "    }\n",
       "\n",
       "    .dataframe tbody tr th {\n",
       "        vertical-align: top;\n",
       "    }\n",
       "\n",
       "    .dataframe thead th {\n",
       "        text-align: right;\n",
       "    }\n",
       "</style>\n",
       "<table border=\"1\" class=\"dataframe\">\n",
       "  <thead>\n",
       "    <tr style=\"text-align: right;\">\n",
       "      <th></th>\n",
       "      <th>shared_teks_by_generation_date</th>\n",
       "    </tr>\n",
       "    <tr>\n",
       "      <th>sample_date_string</th>\n",
       "      <th></th>\n",
       "    </tr>\n",
       "  </thead>\n",
       "  <tbody>\n",
       "    <tr>\n",
       "      <th>2020-11-29</th>\n",
       "      <td>128</td>\n",
       "    </tr>\n",
       "    <tr>\n",
       "      <th>2020-11-28</th>\n",
       "      <td>1201</td>\n",
       "    </tr>\n",
       "    <tr>\n",
       "      <th>2020-11-27</th>\n",
       "      <td>3722</td>\n",
       "    </tr>\n",
       "    <tr>\n",
       "      <th>2020-11-26</th>\n",
       "      <td>6142</td>\n",
       "    </tr>\n",
       "    <tr>\n",
       "      <th>2020-11-25</th>\n",
       "      <td>8553</td>\n",
       "    </tr>\n",
       "  </tbody>\n",
       "</table>\n",
       "</div>"
      ],
      "text/plain": [
       "                    shared_teks_by_generation_date\n",
       "sample_date_string                                \n",
       "2020-11-29                                     128\n",
       "2020-11-28                                    1201\n",
       "2020-11-27                                    3722\n",
       "2020-11-26                                    6142\n",
       "2020-11-25                                    8553"
      ]
     },
     "execution_count": 26,
     "metadata": {},
     "output_type": "execute_result"
    }
   ],
   "source": [
    "exposure_keys_summary_df = multi_backend_exposure_keys_df[\n",
    "    multi_backend_exposure_keys_df.region == report_backend_identifier]\n",
    "exposure_keys_summary_df.drop(columns=[\"region\"], inplace=True)\n",
    "exposure_keys_summary_df = \\\n",
    "    exposure_keys_summary_df.groupby([\"sample_date_string\"]).key_data.nunique().to_frame()\n",
    "exposure_keys_summary_df = \\\n",
    "    exposure_keys_summary_df.reset_index().set_index(\"sample_date_string\")\n",
    "exposure_keys_summary_df.sort_index(ascending=False, inplace=True)\n",
    "exposure_keys_summary_df.rename(columns={\"key_data\": \"shared_teks_by_generation_date\"}, inplace=True)\n",
    "exposure_keys_summary_df.head()"
   ]
  },
  {
   "cell_type": "markdown",
   "metadata": {
    "papermill": {
     "duration": 0.058191,
     "end_time": "2020-11-29T23:25:57.400658",
     "exception": false,
     "start_time": "2020-11-29T23:25:57.342467",
     "status": "completed"
    },
    "tags": []
   },
   "source": [
    "### Dump API TEKs"
   ]
  },
  {
   "cell_type": "code",
   "execution_count": 27,
   "metadata": {
    "execution": {
     "iopub.execute_input": "2020-11-29T23:25:57.528617Z",
     "iopub.status.busy": "2020-11-29T23:25:57.528009Z",
     "iopub.status.idle": "2020-11-29T23:26:00.066049Z",
     "shell.execute_reply": "2020-11-29T23:26:00.066472Z"
    },
    "papermill": {
     "duration": 2.604614,
     "end_time": "2020-11-29T23:26:00.066642",
     "exception": false,
     "start_time": "2020-11-29T23:25:57.462028",
     "status": "completed"
    },
    "tags": []
   },
   "outputs": [
    {
     "data": {
      "text/html": [
       "<div>\n",
       "<style scoped>\n",
       "    .dataframe tbody tr th:only-of-type {\n",
       "        vertical-align: middle;\n",
       "    }\n",
       "\n",
       "    .dataframe tbody tr th {\n",
       "        vertical-align: top;\n",
       "    }\n",
       "\n",
       "    .dataframe thead th {\n",
       "        text-align: right;\n",
       "    }\n",
       "</style>\n",
       "<table border=\"1\" class=\"dataframe\">\n",
       "  <thead>\n",
       "    <tr style=\"text-align: right;\">\n",
       "      <th></th>\n",
       "      <th>sample_date</th>\n",
       "      <th>region</th>\n",
       "      <th>tek_list</th>\n",
       "      <th>extraction_date</th>\n",
       "      <th>extraction_date_with_hour</th>\n",
       "    </tr>\n",
       "  </thead>\n",
       "  <tbody>\n",
       "    <tr>\n",
       "      <th>0</th>\n",
       "      <td>2020-11-16</td>\n",
       "      <td>BE</td>\n",
       "      <td>[010e603c-cc3a-cc88-0402-e187d7515ba5, 022b473...</td>\n",
       "      <td>2020-11-29</td>\n",
       "      <td>2020-11-29@23</td>\n",
       "    </tr>\n",
       "    <tr>\n",
       "      <th>1</th>\n",
       "      <td>2020-11-16</td>\n",
       "      <td>BE@TST</td>\n",
       "      <td>[027df5fb-9589-a2ca-4dd7-6d03f1732717, 0d60b40...</td>\n",
       "      <td>2020-11-29</td>\n",
       "      <td>2020-11-29@23</td>\n",
       "    </tr>\n",
       "    <tr>\n",
       "      <th>2</th>\n",
       "      <td>2020-11-16</td>\n",
       "      <td>CH</td>\n",
       "      <td>[20e086c4-4a75-54dc-5c25-c9f2541ba942, 6261e41...</td>\n",
       "      <td>2020-11-29</td>\n",
       "      <td>2020-11-29@23</td>\n",
       "    </tr>\n",
       "    <tr>\n",
       "      <th>3</th>\n",
       "      <td>2020-11-16</td>\n",
       "      <td>DE</td>\n",
       "      <td>[001edeb0-c191-6187-605a-fb3e824c39b1, 003652c...</td>\n",
       "      <td>2020-11-29</td>\n",
       "      <td>2020-11-29@23</td>\n",
       "    </tr>\n",
       "    <tr>\n",
       "      <th>4</th>\n",
       "      <td>2020-11-16</td>\n",
       "      <td>DK</td>\n",
       "      <td>[67e73730-887b-a326-c7a1-0803f9ea3b69, a8ff333...</td>\n",
       "      <td>2020-11-29</td>\n",
       "      <td>2020-11-29@23</td>\n",
       "    </tr>\n",
       "  </tbody>\n",
       "</table>\n",
       "</div>"
      ],
      "text/plain": [
       "  sample_date  region                                           tek_list  \\\n",
       "0  2020-11-16      BE  [010e603c-cc3a-cc88-0402-e187d7515ba5, 022b473...   \n",
       "1  2020-11-16  BE@TST  [027df5fb-9589-a2ca-4dd7-6d03f1732717, 0d60b40...   \n",
       "2  2020-11-16      CH  [20e086c4-4a75-54dc-5c25-c9f2541ba942, 6261e41...   \n",
       "3  2020-11-16      DE  [001edeb0-c191-6187-605a-fb3e824c39b1, 003652c...   \n",
       "4  2020-11-16      DK  [67e73730-887b-a326-c7a1-0803f9ea3b69, a8ff333...   \n",
       "\n",
       "  extraction_date extraction_date_with_hour  \n",
       "0      2020-11-29             2020-11-29@23  \n",
       "1      2020-11-29             2020-11-29@23  \n",
       "2      2020-11-29             2020-11-29@23  \n",
       "3      2020-11-29             2020-11-29@23  \n",
       "4      2020-11-29             2020-11-29@23  "
      ]
     },
     "execution_count": 27,
     "metadata": {},
     "output_type": "execute_result"
    }
   ],
   "source": [
    "tek_list_df = multi_backend_exposure_keys_df[\n",
    "    [\"sample_date_string\", \"region\", \"key_data\"]].copy()\n",
    "tek_list_df[\"key_data\"] = tek_list_df[\"key_data\"].apply(str)\n",
    "tek_list_df.rename(columns={\n",
    "    \"sample_date_string\": \"sample_date\",\n",
    "    \"key_data\": \"tek_list\"}, inplace=True)\n",
    "tek_list_df = tek_list_df.groupby(\n",
    "    [\"sample_date\", \"region\"]).tek_list.unique().reset_index()\n",
    "tek_list_df[\"extraction_date\"] = extraction_date\n",
    "tek_list_df[\"extraction_date_with_hour\"] = extraction_date_with_hour\n",
    "\n",
    "tek_list_path_prefix = \"Data/TEKs/\"\n",
    "tek_list_current_path = tek_list_path_prefix + f\"/Current/RadarCOVID-TEKs.json\"\n",
    "tek_list_daily_path = tek_list_path_prefix + f\"Daily/RadarCOVID-TEKs-{extraction_date}.json\"\n",
    "tek_list_hourly_path = tek_list_path_prefix + f\"Hourly/RadarCOVID-TEKs-{extraction_date_with_hour}.json\"\n",
    "\n",
    "for path in [tek_list_current_path, tek_list_daily_path, tek_list_hourly_path]:\n",
    "    os.makedirs(os.path.dirname(path), exist_ok=True)\n",
    "\n",
    "tek_list_df.drop(columns=[\"extraction_date\", \"extraction_date_with_hour\"]).to_json(\n",
    "    tek_list_current_path,\n",
    "    lines=True, orient=\"records\")\n",
    "tek_list_df.drop(columns=[\"extraction_date_with_hour\"]).to_json(\n",
    "    tek_list_daily_path,\n",
    "    lines=True, orient=\"records\")\n",
    "tek_list_df.to_json(\n",
    "    tek_list_hourly_path,\n",
    "    lines=True, orient=\"records\")\n",
    "tek_list_df.head()"
   ]
  },
  {
   "cell_type": "markdown",
   "metadata": {
    "papermill": {
     "duration": 0.053637,
     "end_time": "2020-11-29T23:26:00.174522",
     "exception": false,
     "start_time": "2020-11-29T23:26:00.120885",
     "status": "completed"
    },
    "tags": []
   },
   "source": [
    "### Load TEK Dumps"
   ]
  },
  {
   "cell_type": "code",
   "execution_count": 28,
   "metadata": {
    "execution": {
     "iopub.execute_input": "2020-11-29T23:26:00.289456Z",
     "iopub.status.busy": "2020-11-29T23:26:00.288767Z",
     "iopub.status.idle": "2020-11-29T23:26:00.292511Z",
     "shell.execute_reply": "2020-11-29T23:26:00.291947Z"
    },
    "papermill": {
     "duration": 0.064371,
     "end_time": "2020-11-29T23:26:00.292635",
     "exception": false,
     "start_time": "2020-11-29T23:26:00.228264",
     "status": "completed"
    },
    "tags": []
   },
   "outputs": [],
   "source": [
    "import glob\n",
    "\n",
    "def load_extracted_teks(mode, region=None, limit=None) -> pd.DataFrame:\n",
    "    extracted_teks_df = pd.DataFrame(columns=[\"region\"])\n",
    "    file_paths = list(reversed(sorted(glob.glob(tek_list_path_prefix + mode + \"/RadarCOVID-TEKs-*.json\"))))\n",
    "    if limit:\n",
    "        file_paths = file_paths[:limit]\n",
    "    for file_path in file_paths:\n",
    "        logging.info(f\"Loading TEKs from '{file_path}'...\")\n",
    "        iteration_extracted_teks_df = pd.read_json(file_path, lines=True)\n",
    "        extracted_teks_df = extracted_teks_df.append(\n",
    "            iteration_extracted_teks_df, sort=False)\n",
    "    extracted_teks_df[\"region\"] = \\\n",
    "        extracted_teks_df.region.fillna(spain_region_country_code).copy()\n",
    "    if region:\n",
    "        extracted_teks_df = \\\n",
    "            extracted_teks_df[extracted_teks_df.region == region]\n",
    "    return extracted_teks_df"
   ]
  },
  {
   "cell_type": "code",
   "execution_count": 29,
   "metadata": {
    "collapsed": false,
    "execution": {
     "iopub.execute_input": "2020-11-29T23:26:00.430502Z",
     "iopub.status.busy": "2020-11-29T23:26:00.429375Z",
     "iopub.status.idle": "2020-11-29T23:26:08.979396Z",
     "shell.execute_reply": "2020-11-29T23:26:08.978847Z"
    },
    "papermill": {
     "duration": 8.610772,
     "end_time": "2020-11-29T23:26:08.979528",
     "exception": false,
     "start_time": "2020-11-29T23:26:00.368756",
     "status": "completed"
    },
    "pycharm": {
     "name": "#%%\n"
    },
    "tags": []
   },
   "outputs": [
    {
     "data": {
      "text/html": [
       "<div>\n",
       "<style scoped>\n",
       "    .dataframe tbody tr th:only-of-type {\n",
       "        vertical-align: middle;\n",
       "    }\n",
       "\n",
       "    .dataframe tbody tr th {\n",
       "        vertical-align: top;\n",
       "    }\n",
       "\n",
       "    .dataframe thead th {\n",
       "        text-align: right;\n",
       "    }\n",
       "</style>\n",
       "<table border=\"1\" class=\"dataframe\">\n",
       "  <thead>\n",
       "    <tr style=\"text-align: right;\">\n",
       "      <th></th>\n",
       "      <th>region</th>\n",
       "      <th>sample_date</th>\n",
       "      <th>tek_list</th>\n",
       "      <th>extraction_date</th>\n",
       "    </tr>\n",
       "  </thead>\n",
       "  <tbody>\n",
       "    <tr>\n",
       "      <th>6</th>\n",
       "      <td>ES</td>\n",
       "      <td>2020-11-16</td>\n",
       "      <td>[dca7c901-6d11-9273-9039-feffa13309f6, 4f9b437...</td>\n",
       "      <td>2020-11-29</td>\n",
       "    </tr>\n",
       "    <tr>\n",
       "      <th>17</th>\n",
       "      <td>ES</td>\n",
       "      <td>2020-11-17</td>\n",
       "      <td>[63d4b578-3e49-6f49-bf86-f72746b9f702, 56ce9bc...</td>\n",
       "      <td>2020-11-29</td>\n",
       "    </tr>\n",
       "    <tr>\n",
       "      <th>28</th>\n",
       "      <td>ES</td>\n",
       "      <td>2020-11-18</td>\n",
       "      <td>[b2be8561-fe4d-8c44-0355-d5681bfb712e, 36a67c0...</td>\n",
       "      <td>2020-11-29</td>\n",
       "    </tr>\n",
       "    <tr>\n",
       "      <th>39</th>\n",
       "      <td>ES</td>\n",
       "      <td>2020-11-19</td>\n",
       "      <td>[d9e7d364-bf60-5c11-d1af-393143f1c641, 1d0dd10...</td>\n",
       "      <td>2020-11-29</td>\n",
       "    </tr>\n",
       "    <tr>\n",
       "      <th>50</th>\n",
       "      <td>ES</td>\n",
       "      <td>2020-11-20</td>\n",
       "      <td>[e47bb103-0689-fde8-8cb6-ddf236608479, 4f5fc19...</td>\n",
       "      <td>2020-11-29</td>\n",
       "    </tr>\n",
       "  </tbody>\n",
       "</table>\n",
       "</div>"
      ],
      "text/plain": [
       "   region sample_date                                           tek_list  \\\n",
       "6      ES  2020-11-16  [dca7c901-6d11-9273-9039-feffa13309f6, 4f9b437...   \n",
       "17     ES  2020-11-17  [63d4b578-3e49-6f49-bf86-f72746b9f702, 56ce9bc...   \n",
       "28     ES  2020-11-18  [b2be8561-fe4d-8c44-0355-d5681bfb712e, 36a67c0...   \n",
       "39     ES  2020-11-19  [d9e7d364-bf60-5c11-d1af-393143f1c641, 1d0dd10...   \n",
       "50     ES  2020-11-20  [e47bb103-0689-fde8-8cb6-ddf236608479, 4f5fc19...   \n",
       "\n",
       "   extraction_date  \n",
       "6       2020-11-29  \n",
       "17      2020-11-29  \n",
       "28      2020-11-29  \n",
       "39      2020-11-29  \n",
       "50      2020-11-29  "
      ]
     },
     "execution_count": 29,
     "metadata": {},
     "output_type": "execute_result"
    }
   ],
   "source": [
    "daily_extracted_teks_df = load_extracted_teks(\n",
    "    mode=\"Daily\",\n",
    "    region=report_backend_identifier,\n",
    "    limit=tek_dumps_load_limit)\n",
    "daily_extracted_teks_df.head()"
   ]
  },
  {
   "cell_type": "code",
   "execution_count": 30,
   "metadata": {
    "collapsed": false,
    "execution": {
     "iopub.execute_input": "2020-11-29T23:26:09.095567Z",
     "iopub.status.busy": "2020-11-29T23:26:09.094721Z",
     "iopub.status.idle": "2020-11-29T23:26:09.112823Z",
     "shell.execute_reply": "2020-11-29T23:26:09.113270Z"
    },
    "papermill": {
     "duration": 0.079071,
     "end_time": "2020-11-29T23:26:09.113429",
     "exception": false,
     "start_time": "2020-11-29T23:26:09.034358",
     "status": "completed"
    },
    "pycharm": {
     "name": "#%%\n"
    },
    "tags": []
   },
   "outputs": [
    {
     "data": {
      "text/html": [
       "<div>\n",
       "<style scoped>\n",
       "    .dataframe tbody tr th:only-of-type {\n",
       "        vertical-align: middle;\n",
       "    }\n",
       "\n",
       "    .dataframe tbody tr th {\n",
       "        vertical-align: top;\n",
       "    }\n",
       "\n",
       "    .dataframe thead th {\n",
       "        text-align: right;\n",
       "    }\n",
       "</style>\n",
       "<table border=\"1\" class=\"dataframe\">\n",
       "  <thead>\n",
       "    <tr style=\"text-align: right;\">\n",
       "      <th></th>\n",
       "      <th>shared_teks_by_generation_date</th>\n",
       "    </tr>\n",
       "    <tr>\n",
       "      <th>sample_date_string</th>\n",
       "      <th></th>\n",
       "    </tr>\n",
       "  </thead>\n",
       "  <tbody>\n",
       "    <tr>\n",
       "      <th>2020-11-29</th>\n",
       "      <td>128</td>\n",
       "    </tr>\n",
       "    <tr>\n",
       "      <th>2020-11-28</th>\n",
       "      <td>1201</td>\n",
       "    </tr>\n",
       "    <tr>\n",
       "      <th>2020-11-27</th>\n",
       "      <td>3722</td>\n",
       "    </tr>\n",
       "    <tr>\n",
       "      <th>2020-11-26</th>\n",
       "      <td>6142</td>\n",
       "    </tr>\n",
       "    <tr>\n",
       "      <th>2020-11-25</th>\n",
       "      <td>8553</td>\n",
       "    </tr>\n",
       "  </tbody>\n",
       "</table>\n",
       "</div>"
      ],
      "text/plain": [
       "                    shared_teks_by_generation_date\n",
       "sample_date_string                                \n",
       "2020-11-29                                     128\n",
       "2020-11-28                                    1201\n",
       "2020-11-27                                    3722\n",
       "2020-11-26                                    6142\n",
       "2020-11-25                                    8553"
      ]
     },
     "execution_count": 30,
     "metadata": {},
     "output_type": "execute_result"
    }
   ],
   "source": [
    "exposure_keys_summary_df_ = daily_extracted_teks_df \\\n",
    "    .sort_values(\"extraction_date\", ascending=False) \\\n",
    "    .groupby(\"sample_date\").tek_list.first() \\\n",
    "    .to_frame()\n",
    "exposure_keys_summary_df_.index.name = \"sample_date_string\"\n",
    "exposure_keys_summary_df_[\"tek_list\"] = \\\n",
    "    exposure_keys_summary_df_.tek_list.apply(len)\n",
    "exposure_keys_summary_df_ = exposure_keys_summary_df_ \\\n",
    "    .rename(columns={\"tek_list\": \"shared_teks_by_generation_date\"}) \\\n",
    "    .sort_index(ascending=False)\n",
    "exposure_keys_summary_df = exposure_keys_summary_df_\n",
    "exposure_keys_summary_df.head()"
   ]
  },
  {
   "cell_type": "markdown",
   "metadata": {
    "execution": {
     "iopub.execute_input": "2020-08-30T22:30:16.632967Z",
     "iopub.status.busy": "2020-08-30T22:30:16.632308Z",
     "iopub.status.idle": "2020-08-30T22:30:16.634945Z",
     "shell.execute_reply": "2020-08-30T22:30:16.635575Z"
    },
    "papermill": {
     "duration": 0.055032,
     "end_time": "2020-11-29T23:26:09.223448",
     "exception": false,
     "start_time": "2020-11-29T23:26:09.168416",
     "status": "completed"
    },
    "pycharm": {
     "name": "#%% md\n"
    },
    "tags": []
   },
   "source": [
    "### Daily New TEKs"
   ]
  },
  {
   "cell_type": "code",
   "execution_count": 31,
   "metadata": {
    "execution": {
     "iopub.execute_input": "2020-11-29T23:26:09.340287Z",
     "iopub.status.busy": "2020-11-29T23:26:09.339715Z",
     "iopub.status.idle": "2020-11-29T23:26:10.567840Z",
     "shell.execute_reply": "2020-11-29T23:26:10.567318Z"
    },
    "papermill": {
     "duration": 1.288945,
     "end_time": "2020-11-29T23:26:10.567982",
     "exception": false,
     "start_time": "2020-11-29T23:26:09.279037",
     "status": "completed"
    },
    "tags": []
   },
   "outputs": [
    {
     "data": {
      "text/html": [
       "<div>\n",
       "<style scoped>\n",
       "    .dataframe tbody tr th:only-of-type {\n",
       "        vertical-align: middle;\n",
       "    }\n",
       "\n",
       "    .dataframe tbody tr th {\n",
       "        vertical-align: top;\n",
       "    }\n",
       "\n",
       "    .dataframe thead th {\n",
       "        text-align: right;\n",
       "    }\n",
       "</style>\n",
       "<table border=\"1\" class=\"dataframe\">\n",
       "  <thead>\n",
       "    <tr style=\"text-align: right;\">\n",
       "      <th></th>\n",
       "      <th>tek_list</th>\n",
       "    </tr>\n",
       "    <tr>\n",
       "      <th>extraction_date</th>\n",
       "      <th></th>\n",
       "    </tr>\n",
       "  </thead>\n",
       "  <tbody>\n",
       "    <tr>\n",
       "      <th>2020-09-06</th>\n",
       "      <td>{bf813426-3fd0-5f0a-dd99-e818574004d4, e0315b5...</td>\n",
       "    </tr>\n",
       "    <tr>\n",
       "      <th>2020-09-07</th>\n",
       "      <td>{bf813426-3fd0-5f0a-dd99-e818574004d4, e0315b5...</td>\n",
       "    </tr>\n",
       "    <tr>\n",
       "      <th>2020-09-08</th>\n",
       "      <td>{bf813426-3fd0-5f0a-dd99-e818574004d4, 15e9008...</td>\n",
       "    </tr>\n",
       "    <tr>\n",
       "      <th>2020-09-09</th>\n",
       "      <td>{bf813426-3fd0-5f0a-dd99-e818574004d4, 15e9008...</td>\n",
       "    </tr>\n",
       "    <tr>\n",
       "      <th>2020-09-10</th>\n",
       "      <td>{6634443e-127c-3dd2-aa2f-6c89d1370e7d, 8f1322d...</td>\n",
       "    </tr>\n",
       "  </tbody>\n",
       "</table>\n",
       "</div>"
      ],
      "text/plain": [
       "                                                          tek_list\n",
       "extraction_date                                                   \n",
       "2020-09-06       {bf813426-3fd0-5f0a-dd99-e818574004d4, e0315b5...\n",
       "2020-09-07       {bf813426-3fd0-5f0a-dd99-e818574004d4, e0315b5...\n",
       "2020-09-08       {bf813426-3fd0-5f0a-dd99-e818574004d4, 15e9008...\n",
       "2020-09-09       {bf813426-3fd0-5f0a-dd99-e818574004d4, 15e9008...\n",
       "2020-09-10       {6634443e-127c-3dd2-aa2f-6c89d1370e7d, 8f1322d..."
      ]
     },
     "execution_count": 31,
     "metadata": {},
     "output_type": "execute_result"
    }
   ],
   "source": [
    "tek_list_df = daily_extracted_teks_df.groupby(\"extraction_date\").tek_list.apply(\n",
    "    lambda x: set(sum(x, []))).reset_index()\n",
    "tek_list_df = tek_list_df.set_index(\"extraction_date\").sort_index(ascending=True)\n",
    "tek_list_df.head()"
   ]
  },
  {
   "cell_type": "code",
   "execution_count": 32,
   "metadata": {
    "collapsed": false,
    "execution": {
     "iopub.execute_input": "2020-11-29T23:26:11.617269Z",
     "iopub.status.busy": "2020-11-29T23:26:10.687441Z",
     "iopub.status.idle": "2020-11-29T23:27:04.627090Z",
     "shell.execute_reply": "2020-11-29T23:27:04.627617Z"
    },
    "papermill": {
     "duration": 54.004289,
     "end_time": "2020-11-29T23:27:04.627783",
     "exception": false,
     "start_time": "2020-11-29T23:26:10.623494",
     "status": "completed"
    },
    "pycharm": {
     "name": "#%%\n"
    },
    "tags": []
   },
   "outputs": [
    {
     "name": "stderr",
     "output_type": "stream",
     "text": [
      "<ipython-input-32-827222b35590>:4: FutureWarning: `item` has been deprecated and will be removed in a future version\n",
      "  day_new_teks_set = day_new_teks_set_df[\n"
     ]
    },
    {
     "data": {
      "text/html": [
       "<div>\n",
       "<style scoped>\n",
       "    .dataframe tbody tr th:only-of-type {\n",
       "        vertical-align: middle;\n",
       "    }\n",
       "\n",
       "    .dataframe tbody tr th {\n",
       "        vertical-align: top;\n",
       "    }\n",
       "\n",
       "    .dataframe thead th {\n",
       "        text-align: right;\n",
       "    }\n",
       "</style>\n",
       "<table border=\"1\" class=\"dataframe\">\n",
       "  <thead>\n",
       "    <tr style=\"text-align: right;\">\n",
       "      <th></th>\n",
       "      <th>upload_date</th>\n",
       "      <th>generation_date</th>\n",
       "      <th>shared_teks</th>\n",
       "      <th>generation_to_upload_days</th>\n",
       "    </tr>\n",
       "  </thead>\n",
       "  <tbody>\n",
       "    <tr>\n",
       "      <th>12</th>\n",
       "      <td>2020-09-07</td>\n",
       "      <td>2020-09-06</td>\n",
       "      <td>22</td>\n",
       "      <td>1</td>\n",
       "    </tr>\n",
       "    <tr>\n",
       "      <th>11</th>\n",
       "      <td>2020-09-07</td>\n",
       "      <td>2020-09-05</td>\n",
       "      <td>6</td>\n",
       "      <td>2</td>\n",
       "    </tr>\n",
       "    <tr>\n",
       "      <th>10</th>\n",
       "      <td>2020-09-07</td>\n",
       "      <td>2020-09-04</td>\n",
       "      <td>8</td>\n",
       "      <td>3</td>\n",
       "    </tr>\n",
       "    <tr>\n",
       "      <th>9</th>\n",
       "      <td>2020-09-07</td>\n",
       "      <td>2020-09-03</td>\n",
       "      <td>8</td>\n",
       "      <td>4</td>\n",
       "    </tr>\n",
       "    <tr>\n",
       "      <th>8</th>\n",
       "      <td>2020-09-07</td>\n",
       "      <td>2020-09-02</td>\n",
       "      <td>8</td>\n",
       "      <td>5</td>\n",
       "    </tr>\n",
       "  </tbody>\n",
       "</table>\n",
       "</div>"
      ],
      "text/plain": [
       "   upload_date generation_date  shared_teks  generation_to_upload_days\n",
       "12  2020-09-07      2020-09-06           22                          1\n",
       "11  2020-09-07      2020-09-05            6                          2\n",
       "10  2020-09-07      2020-09-04            8                          3\n",
       "9   2020-09-07      2020-09-03            8                          4\n",
       "8   2020-09-07      2020-09-02            8                          5"
      ]
     },
     "execution_count": 32,
     "metadata": {},
     "output_type": "execute_result"
    }
   ],
   "source": [
    "def compute_teks_by_generation_and_upload_date(date):\n",
    "    day_new_teks_set_df = tek_list_df.copy().diff()\n",
    "    try:\n",
    "        day_new_teks_set = day_new_teks_set_df[\n",
    "            day_new_teks_set_df.index == date].tek_list.item()\n",
    "    except ValueError:\n",
    "        day_new_teks_set = None\n",
    "    if pd.isna(day_new_teks_set):\n",
    "        day_new_teks_set = set()\n",
    "    day_new_teks_df = daily_extracted_teks_df[\n",
    "        daily_extracted_teks_df.extraction_date == date].copy()\n",
    "    day_new_teks_df[\"shared_teks\"] = \\\n",
    "        day_new_teks_df.tek_list.apply(lambda x: set(x).intersection(day_new_teks_set))\n",
    "    day_new_teks_df[\"shared_teks\"] = \\\n",
    "        day_new_teks_df.shared_teks.apply(len)\n",
    "    day_new_teks_df[\"upload_date\"] = date\n",
    "    day_new_teks_df.rename(columns={\"sample_date\": \"generation_date\"}, inplace=True)\n",
    "    day_new_teks_df = day_new_teks_df[\n",
    "        [\"upload_date\", \"generation_date\", \"shared_teks\"]]\n",
    "    day_new_teks_df[\"generation_to_upload_days\"] = \\\n",
    "        (pd.to_datetime(day_new_teks_df.upload_date) -\n",
    "         pd.to_datetime(day_new_teks_df.generation_date)).dt.days\n",
    "    day_new_teks_df = day_new_teks_df[day_new_teks_df.shared_teks > 0]\n",
    "    return day_new_teks_df\n",
    "\n",
    "shared_teks_generation_to_upload_df = pd.DataFrame()\n",
    "for upload_date in daily_extracted_teks_df.extraction_date.unique():\n",
    "    shared_teks_generation_to_upload_df = \\\n",
    "        shared_teks_generation_to_upload_df.append(\n",
    "            compute_teks_by_generation_and_upload_date(date=upload_date))\n",
    "shared_teks_generation_to_upload_df \\\n",
    "    .sort_values([\"upload_date\", \"generation_date\"], ascending=False, inplace=True)\n",
    "shared_teks_generation_to_upload_df.tail()"
   ]
  },
  {
   "cell_type": "code",
   "execution_count": 33,
   "metadata": {
    "collapsed": false,
    "execution": {
     "iopub.execute_input": "2020-11-29T23:27:04.761113Z",
     "iopub.status.busy": "2020-11-29T23:27:04.760542Z",
     "iopub.status.idle": "2020-11-29T23:27:04.763622Z",
     "shell.execute_reply": "2020-11-29T23:27:04.763130Z"
    },
    "papermill": {
     "duration": 0.072677,
     "end_time": "2020-11-29T23:27:04.763748",
     "exception": false,
     "start_time": "2020-11-29T23:27:04.691071",
     "status": "completed"
    },
    "pycharm": {
     "name": "#%%\n"
    },
    "tags": []
   },
   "outputs": [
    {
     "data": {
      "text/html": [
       "<div>\n",
       "<style scoped>\n",
       "    .dataframe tbody tr th:only-of-type {\n",
       "        vertical-align: middle;\n",
       "    }\n",
       "\n",
       "    .dataframe tbody tr th {\n",
       "        vertical-align: top;\n",
       "    }\n",
       "\n",
       "    .dataframe thead th {\n",
       "        text-align: right;\n",
       "    }\n",
       "</style>\n",
       "<table border=\"1\" class=\"dataframe\">\n",
       "  <thead>\n",
       "    <tr style=\"text-align: right;\">\n",
       "      <th></th>\n",
       "      <th>upload_date</th>\n",
       "      <th>generation_date</th>\n",
       "      <th>shared_teks</th>\n",
       "      <th>generation_to_upload_days</th>\n",
       "    </tr>\n",
       "  </thead>\n",
       "  <tbody>\n",
       "    <tr>\n",
       "      <th>50</th>\n",
       "      <td>2020-11-29</td>\n",
       "      <td>2020-11-20</td>\n",
       "      <td>1262</td>\n",
       "      <td>9</td>\n",
       "    </tr>\n",
       "    <tr>\n",
       "      <th>39</th>\n",
       "      <td>2020-11-29</td>\n",
       "      <td>2020-11-19</td>\n",
       "      <td>1227</td>\n",
       "      <td>10</td>\n",
       "    </tr>\n",
       "    <tr>\n",
       "      <th>28</th>\n",
       "      <td>2020-11-29</td>\n",
       "      <td>2020-11-18</td>\n",
       "      <td>1217</td>\n",
       "      <td>11</td>\n",
       "    </tr>\n",
       "    <tr>\n",
       "      <th>17</th>\n",
       "      <td>2020-11-29</td>\n",
       "      <td>2020-11-17</td>\n",
       "      <td>1215</td>\n",
       "      <td>12</td>\n",
       "    </tr>\n",
       "    <tr>\n",
       "      <th>6</th>\n",
       "      <td>2020-11-29</td>\n",
       "      <td>2020-11-16</td>\n",
       "      <td>1190</td>\n",
       "      <td>13</td>\n",
       "    </tr>\n",
       "  </tbody>\n",
       "</table>\n",
       "</div>"
      ],
      "text/plain": [
       "   upload_date generation_date  shared_teks  generation_to_upload_days\n",
       "50  2020-11-29      2020-11-20         1262                          9\n",
       "39  2020-11-29      2020-11-19         1227                         10\n",
       "28  2020-11-29      2020-11-18         1217                         11\n",
       "17  2020-11-29      2020-11-17         1215                         12\n",
       "6   2020-11-29      2020-11-16         1190                         13"
      ]
     },
     "execution_count": 33,
     "metadata": {},
     "output_type": "execute_result"
    }
   ],
   "source": [
    "today_new_teks_df = \\\n",
    "    shared_teks_generation_to_upload_df[\n",
    "        shared_teks_generation_to_upload_df.upload_date == extraction_date].copy()\n",
    "today_new_teks_df.tail()"
   ]
  },
  {
   "cell_type": "code",
   "execution_count": 34,
   "metadata": {
    "collapsed": false,
    "execution": {
     "iopub.execute_input": "2020-11-29T23:27:04.907368Z",
     "iopub.status.busy": "2020-11-29T23:27:04.906741Z",
     "iopub.status.idle": "2020-11-29T23:27:05.428097Z",
     "shell.execute_reply": "2020-11-29T23:27:05.428658Z"
    },
    "papermill": {
     "duration": 0.601679,
     "end_time": "2020-11-29T23:27:05.428825",
     "exception": false,
     "start_time": "2020-11-29T23:27:04.827146",
     "status": "completed"
    },
    "pycharm": {
     "name": "#%%\n"
    },
    "tags": []
   },
   "outputs": [
    {
     "data": {
      "image/png": "[encoded data removed]",
      "text/plain": [
       "<Figure size 1080x432 with 1 Axes>"
      ]
     },
     "metadata": {},
     "output_type": "display_data"
    }
   ],
   "source": [
    "if not today_new_teks_df.empty:\n",
    "    today_new_teks_df.set_index(\"generation_to_upload_days\") \\\n",
    "        .sort_index().shared_teks.plot.bar()"
   ]
  },
  {
   "cell_type": "code",
   "execution_count": 35,
   "metadata": {
    "collapsed": false,
    "execution": {
     "iopub.execute_input": "2020-11-29T23:27:05.567047Z",
     "iopub.status.busy": "2020-11-29T23:27:05.566432Z",
     "iopub.status.idle": "2020-11-29T23:27:05.583436Z",
     "shell.execute_reply": "2020-11-29T23:27:05.582814Z"
    },
    "papermill": {
     "duration": 0.084632,
     "end_time": "2020-11-29T23:27:05.583568",
     "exception": false,
     "start_time": "2020-11-29T23:27:05.498936",
     "status": "completed"
    },
    "pycharm": {
     "name": "#%%\n"
    },
    "tags": []
   },
   "outputs": [
    {
     "data": {
      "text/html": [
       "<div>\n",
       "<style scoped>\n",
       "    .dataframe tbody tr th:only-of-type {\n",
       "        vertical-align: middle;\n",
       "    }\n",
       "\n",
       "    .dataframe tbody tr th {\n",
       "        vertical-align: top;\n",
       "    }\n",
       "\n",
       "    .dataframe thead th {\n",
       "        text-align: right;\n",
       "    }\n",
       "</style>\n",
       "<table border=\"1\" class=\"dataframe\">\n",
       "  <thead>\n",
       "    <tr style=\"text-align: right;\">\n",
       "      <th>generation_to_upload_days</th>\n",
       "      <th>0</th>\n",
       "      <th>1</th>\n",
       "      <th>2</th>\n",
       "      <th>3</th>\n",
       "      <th>4</th>\n",
       "      <th>5</th>\n",
       "      <th>6</th>\n",
       "      <th>7</th>\n",
       "      <th>8</th>\n",
       "      <th>9</th>\n",
       "      <th>10</th>\n",
       "      <th>11</th>\n",
       "      <th>12</th>\n",
       "      <th>13</th>\n",
       "    </tr>\n",
       "    <tr>\n",
       "      <th>upload_date</th>\n",
       "      <th></th>\n",
       "      <th></th>\n",
       "      <th></th>\n",
       "      <th></th>\n",
       "      <th></th>\n",
       "      <th></th>\n",
       "      <th></th>\n",
       "      <th></th>\n",
       "      <th></th>\n",
       "      <th></th>\n",
       "      <th></th>\n",
       "      <th></th>\n",
       "      <th></th>\n",
       "      <th></th>\n",
       "    </tr>\n",
       "  </thead>\n",
       "  <tbody>\n",
       "    <tr>\n",
       "      <th>2020-11-29</th>\n",
       "      <td>128</td>\n",
       "      <td>1042</td>\n",
       "      <td>1684</td>\n",
       "      <td>1546</td>\n",
       "      <td>1430</td>\n",
       "      <td>1404</td>\n",
       "      <td>1349</td>\n",
       "      <td>1320</td>\n",
       "      <td>1291</td>\n",
       "      <td>1262</td>\n",
       "      <td>1227</td>\n",
       "      <td>1217</td>\n",
       "      <td>1215</td>\n",
       "      <td>1190</td>\n",
       "    </tr>\n",
       "    <tr>\n",
       "      <th>2020-11-28</th>\n",
       "      <td>159</td>\n",
       "      <td>1784</td>\n",
       "      <td>2398</td>\n",
       "      <td>2183</td>\n",
       "      <td>2098</td>\n",
       "      <td>2006</td>\n",
       "      <td>1978</td>\n",
       "      <td>1883</td>\n",
       "      <td>1817</td>\n",
       "      <td>1810</td>\n",
       "      <td>1771</td>\n",
       "      <td>1736</td>\n",
       "      <td>1711</td>\n",
       "      <td>1694</td>\n",
       "    </tr>\n",
       "    <tr>\n",
       "      <th>2020-11-27</th>\n",
       "      <td>254</td>\n",
       "      <td>1982</td>\n",
       "      <td>2555</td>\n",
       "      <td>2355</td>\n",
       "      <td>2279</td>\n",
       "      <td>2169</td>\n",
       "      <td>2144</td>\n",
       "      <td>2101</td>\n",
       "      <td>2008</td>\n",
       "      <td>2004</td>\n",
       "      <td>1966</td>\n",
       "      <td>1955</td>\n",
       "      <td>1871</td>\n",
       "      <td>1879</td>\n",
       "    </tr>\n",
       "    <tr>\n",
       "      <th>2020-11-26</th>\n",
       "      <td>216</td>\n",
       "      <td>2158</td>\n",
       "      <td>3037</td>\n",
       "      <td>2811</td>\n",
       "      <td>2643</td>\n",
       "      <td>2534</td>\n",
       "      <td>2479</td>\n",
       "      <td>2416</td>\n",
       "      <td>2358</td>\n",
       "      <td>2350</td>\n",
       "      <td>2301</td>\n",
       "      <td>2214</td>\n",
       "      <td>2178</td>\n",
       "      <td>2219</td>\n",
       "    </tr>\n",
       "    <tr>\n",
       "      <th>2020-11-25</th>\n",
       "      <td>227</td>\n",
       "      <td>1847</td>\n",
       "      <td>2822</td>\n",
       "      <td>2722</td>\n",
       "      <td>2613</td>\n",
       "      <td>2523</td>\n",
       "      <td>2448</td>\n",
       "      <td>2336</td>\n",
       "      <td>2289</td>\n",
       "      <td>2242</td>\n",
       "      <td>2185</td>\n",
       "      <td>2160</td>\n",
       "      <td>2171</td>\n",
       "      <td>2108</td>\n",
       "    </tr>\n",
       "  </tbody>\n",
       "</table>\n",
       "</div>"
      ],
      "text/plain": [
       "generation_to_upload_days   0     1     2     3     4     5     6     7   \\\n",
       "upload_date                                                                \n",
       "2020-11-29                 128  1042  1684  1546  1430  1404  1349  1320   \n",
       "2020-11-28                 159  1784  2398  2183  2098  2006  1978  1883   \n",
       "2020-11-27                 254  1982  2555  2355  2279  2169  2144  2101   \n",
       "2020-11-26                 216  2158  3037  2811  2643  2534  2479  2416   \n",
       "2020-11-25                 227  1847  2822  2722  2613  2523  2448  2336   \n",
       "\n",
       "generation_to_upload_days    8     9     10    11    12    13  \n",
       "upload_date                                                    \n",
       "2020-11-29                 1291  1262  1227  1217  1215  1190  \n",
       "2020-11-28                 1817  1810  1771  1736  1711  1694  \n",
       "2020-11-27                 2008  2004  1966  1955  1871  1879  \n",
       "2020-11-26                 2358  2350  2301  2214  2178  2219  \n",
       "2020-11-25                 2289  2242  2185  2160  2171  2108  "
      ]
     },
     "execution_count": 35,
     "metadata": {},
     "output_type": "execute_result"
    }
   ],
   "source": [
    "generation_to_upload_period_pivot_df = \\\n",
    "    shared_teks_generation_to_upload_df[\n",
    "        [\"upload_date\", \"generation_to_upload_days\", \"shared_teks\"]] \\\n",
    "        .pivot(index=\"upload_date\", columns=\"generation_to_upload_days\") \\\n",
    "        .sort_index(ascending=False).fillna(0).astype(int) \\\n",
    "        .droplevel(level=0, axis=1)\n",
    "generation_to_upload_period_pivot_df.head()"
   ]
  },
  {
   "cell_type": "code",
   "execution_count": 36,
   "metadata": {
    "collapsed": false,
    "execution": {
     "iopub.execute_input": "2020-11-29T23:27:06.322703Z",
     "iopub.status.busy": "2020-11-29T23:27:06.322092Z",
     "iopub.status.idle": "2020-11-29T23:27:06.327863Z",
     "shell.execute_reply": "2020-11-29T23:27:06.327367Z"
    },
    "papermill": {
     "duration": 0.677347,
     "end_time": "2020-11-29T23:27:06.327994",
     "exception": false,
     "start_time": "2020-11-29T23:27:05.650647",
     "status": "completed"
    },
    "pycharm": {
     "name": "#%%\n"
    },
    "tags": []
   },
   "outputs": [
    {
     "data": {
      "text/html": [
       "<div>\n",
       "<style scoped>\n",
       "    .dataframe tbody tr th:only-of-type {\n",
       "        vertical-align: middle;\n",
       "    }\n",
       "\n",
       "    .dataframe tbody tr th {\n",
       "        vertical-align: top;\n",
       "    }\n",
       "\n",
       "    .dataframe thead th {\n",
       "        text-align: right;\n",
       "    }\n",
       "</style>\n",
       "<table border=\"1\" class=\"dataframe\">\n",
       "  <thead>\n",
       "    <tr style=\"text-align: right;\">\n",
       "      <th></th>\n",
       "      <th>sample_date_string</th>\n",
       "      <th>shared_teks_by_upload_date</th>\n",
       "    </tr>\n",
       "  </thead>\n",
       "  <tbody>\n",
       "    <tr>\n",
       "      <th>80</th>\n",
       "      <td>2020-11-25</td>\n",
       "      <td>30693.0</td>\n",
       "    </tr>\n",
       "    <tr>\n",
       "      <th>81</th>\n",
       "      <td>2020-11-26</td>\n",
       "      <td>31914.0</td>\n",
       "    </tr>\n",
       "    <tr>\n",
       "      <th>82</th>\n",
       "      <td>2020-11-27</td>\n",
       "      <td>27522.0</td>\n",
       "    </tr>\n",
       "    <tr>\n",
       "      <th>83</th>\n",
       "      <td>2020-11-28</td>\n",
       "      <td>25028.0</td>\n",
       "    </tr>\n",
       "    <tr>\n",
       "      <th>84</th>\n",
       "      <td>2020-11-29</td>\n",
       "      <td>17305.0</td>\n",
       "    </tr>\n",
       "  </tbody>\n",
       "</table>\n",
       "</div>"
      ],
      "text/plain": [
       "   sample_date_string  shared_teks_by_upload_date\n",
       "80         2020-11-25                     30693.0\n",
       "81         2020-11-26                     31914.0\n",
       "82         2020-11-27                     27522.0\n",
       "83         2020-11-28                     25028.0\n",
       "84         2020-11-29                     17305.0"
      ]
     },
     "execution_count": 36,
     "metadata": {},
     "output_type": "execute_result"
    }
   ],
   "source": [
    "new_tek_df = tek_list_df.diff().tek_list.apply(\n",
    "    lambda x: len(x) if not pd.isna(x) else None).to_frame().reset_index()\n",
    "new_tek_df.rename(columns={\n",
    "    \"tek_list\": \"shared_teks_by_upload_date\",\n",
    "    \"extraction_date\": \"sample_date_string\",}, inplace=True)\n",
    "new_tek_df.tail()"
   ]
  },
  {
   "cell_type": "code",
   "execution_count": 37,
   "metadata": {
    "collapsed": false,
    "execution": {
     "iopub.execute_input": "2020-11-29T23:27:06.456243Z",
     "iopub.status.busy": "2020-11-29T23:27:06.455658Z",
     "iopub.status.idle": "2020-11-29T23:27:06.458267Z",
     "shell.execute_reply": "2020-11-29T23:27:06.458743Z"
    },
    "papermill": {
     "duration": 0.072255,
     "end_time": "2020-11-29T23:27:06.458920",
     "exception": false,
     "start_time": "2020-11-29T23:27:06.386665",
     "status": "completed"
    },
    "pycharm": {
     "name": "#%%\n"
    },
    "tags": []
   },
   "outputs": [
    {
     "data": {
      "text/html": [
       "<div>\n",
       "<style scoped>\n",
       "    .dataframe tbody tr th:only-of-type {\n",
       "        vertical-align: middle;\n",
       "    }\n",
       "\n",
       "    .dataframe tbody tr th {\n",
       "        vertical-align: top;\n",
       "    }\n",
       "\n",
       "    .dataframe thead th {\n",
       "        text-align: right;\n",
       "    }\n",
       "</style>\n",
       "<table border=\"1\" class=\"dataframe\">\n",
       "  <thead>\n",
       "    <tr style=\"text-align: right;\">\n",
       "      <th></th>\n",
       "      <th>sample_date_string</th>\n",
       "      <th>shared_teks_uploaded_on_generation_date</th>\n",
       "    </tr>\n",
       "  </thead>\n",
       "  <tbody>\n",
       "    <tr>\n",
       "      <th>141</th>\n",
       "      <td>2020-11-29</td>\n",
       "      <td>128</td>\n",
       "    </tr>\n",
       "    <tr>\n",
       "      <th>141</th>\n",
       "      <td>2020-11-28</td>\n",
       "      <td>159</td>\n",
       "    </tr>\n",
       "    <tr>\n",
       "      <th>141</th>\n",
       "      <td>2020-11-27</td>\n",
       "      <td>254</td>\n",
       "    </tr>\n",
       "    <tr>\n",
       "      <th>141</th>\n",
       "      <td>2020-11-26</td>\n",
       "      <td>216</td>\n",
       "    </tr>\n",
       "    <tr>\n",
       "      <th>141</th>\n",
       "      <td>2020-11-25</td>\n",
       "      <td>227</td>\n",
       "    </tr>\n",
       "  </tbody>\n",
       "</table>\n",
       "</div>"
      ],
      "text/plain": [
       "    sample_date_string  shared_teks_uploaded_on_generation_date\n",
       "141         2020-11-29                                      128\n",
       "141         2020-11-28                                      159\n",
       "141         2020-11-27                                      254\n",
       "141         2020-11-26                                      216\n",
       "141         2020-11-25                                      227"
      ]
     },
     "execution_count": 37,
     "metadata": {},
     "output_type": "execute_result"
    }
   ],
   "source": [
    "shared_teks_uploaded_on_generation_date_df = shared_teks_generation_to_upload_df[\n",
    "    shared_teks_generation_to_upload_df.generation_to_upload_days == 0] \\\n",
    "    [[\"upload_date\", \"shared_teks\"]].rename(\n",
    "    columns={\n",
    "        \"upload_date\": \"sample_date_string\",\n",
    "        \"shared_teks\": \"shared_teks_uploaded_on_generation_date\",\n",
    "    })\n",
    "shared_teks_uploaded_on_generation_date_df.head()"
   ]
  },
  {
   "cell_type": "code",
   "execution_count": 38,
   "metadata": {
    "collapsed": false,
    "execution": {
     "iopub.execute_input": "2020-11-29T23:27:06.581386Z",
     "iopub.status.busy": "2020-11-29T23:27:06.580811Z",
     "iopub.status.idle": "2020-11-29T23:27:06.592589Z",
     "shell.execute_reply": "2020-11-29T23:27:06.593066Z"
    },
    "papermill": {
     "duration": 0.075735,
     "end_time": "2020-11-29T23:27:06.593222",
     "exception": false,
     "start_time": "2020-11-29T23:27:06.517487",
     "status": "completed"
    },
    "pycharm": {
     "name": "#%%\n"
    },
    "tags": []
   },
   "outputs": [
    {
     "data": {
      "text/html": [
       "<div>\n",
       "<style scoped>\n",
       "    .dataframe tbody tr th:only-of-type {\n",
       "        vertical-align: middle;\n",
       "    }\n",
       "\n",
       "    .dataframe tbody tr th {\n",
       "        vertical-align: top;\n",
       "    }\n",
       "\n",
       "    .dataframe thead th {\n",
       "        text-align: right;\n",
       "    }\n",
       "</style>\n",
       "<table border=\"1\" class=\"dataframe\">\n",
       "  <thead>\n",
       "    <tr style=\"text-align: right;\">\n",
       "      <th></th>\n",
       "      <th>sample_date_string</th>\n",
       "      <th>shared_diagnoses</th>\n",
       "    </tr>\n",
       "  </thead>\n",
       "  <tbody>\n",
       "    <tr>\n",
       "      <th>83</th>\n",
       "      <td>2020-11-29</td>\n",
       "      <td>1684</td>\n",
       "    </tr>\n",
       "    <tr>\n",
       "      <th>82</th>\n",
       "      <td>2020-11-28</td>\n",
       "      <td>2398</td>\n",
       "    </tr>\n",
       "    <tr>\n",
       "      <th>81</th>\n",
       "      <td>2020-11-27</td>\n",
       "      <td>2555</td>\n",
       "    </tr>\n",
       "    <tr>\n",
       "      <th>80</th>\n",
       "      <td>2020-11-26</td>\n",
       "      <td>3037</td>\n",
       "    </tr>\n",
       "    <tr>\n",
       "      <th>79</th>\n",
       "      <td>2020-11-25</td>\n",
       "      <td>2822</td>\n",
       "    </tr>\n",
       "  </tbody>\n",
       "</table>\n",
       "</div>"
      ],
      "text/plain": [
       "   sample_date_string  shared_diagnoses\n",
       "83         2020-11-29              1684\n",
       "82         2020-11-28              2398\n",
       "81         2020-11-27              2555\n",
       "80         2020-11-26              3037\n",
       "79         2020-11-25              2822"
      ]
     },
     "execution_count": 38,
     "metadata": {},
     "output_type": "execute_result"
    }
   ],
   "source": [
    "estimated_shared_diagnoses_df = shared_teks_generation_to_upload_df \\\n",
    "    .groupby([\"upload_date\"]).shared_teks.max().reset_index() \\\n",
    "    .sort_values([\"upload_date\"], ascending=False) \\\n",
    "    .rename(columns={\n",
    "        \"upload_date\": \"sample_date_string\",\n",
    "        \"shared_teks\": \"shared_diagnoses\",\n",
    "    })\n",
    "invalid_shared_diagnoses_dates_mask = \\\n",
    "    estimated_shared_diagnoses_df.sample_date_string.isin(invalid_shared_diagnoses_dates)\n",
    "estimated_shared_diagnoses_df[invalid_shared_diagnoses_dates_mask] = 0\n",
    "estimated_shared_diagnoses_df.head()"
   ]
  },
  {
   "cell_type": "markdown",
   "metadata": {
    "papermill": {
     "duration": 0.058935,
     "end_time": "2020-11-29T23:27:06.711370",
     "exception": false,
     "start_time": "2020-11-29T23:27:06.652435",
     "status": "completed"
    },
    "pycharm": {
     "name": "#%% md\n"
    },
    "tags": []
   },
   "source": [
    "### Hourly New TEKs"
   ]
  },
  {
   "cell_type": "code",
   "execution_count": 39,
   "metadata": {
    "execution": {
     "iopub.execute_input": "2020-11-29T23:27:06.837334Z",
     "iopub.status.busy": "2020-11-29T23:27:06.836770Z",
     "iopub.status.idle": "2020-11-29T23:27:12.220356Z",
     "shell.execute_reply": "2020-11-29T23:27:12.219766Z"
    },
    "papermill": {
     "duration": 5.449302,
     "end_time": "2020-11-29T23:27:12.220558",
     "exception": false,
     "start_time": "2020-11-29T23:27:06.771256",
     "status": "completed"
    },
    "pycharm": {
     "name": "#%%\n"
    },
    "tags": []
   },
   "outputs": [
    {
     "data": {
      "text/html": [
       "<div>\n",
       "<style scoped>\n",
       "    .dataframe tbody tr th:only-of-type {\n",
       "        vertical-align: middle;\n",
       "    }\n",
       "\n",
       "    .dataframe tbody tr th {\n",
       "        vertical-align: top;\n",
       "    }\n",
       "\n",
       "    .dataframe thead th {\n",
       "        text-align: right;\n",
       "    }\n",
       "</style>\n",
       "<table border=\"1\" class=\"dataframe\">\n",
       "  <thead>\n",
       "    <tr style=\"text-align: right;\">\n",
       "      <th></th>\n",
       "      <th>region</th>\n",
       "      <th>sample_date</th>\n",
       "      <th>tek_list</th>\n",
       "      <th>extraction_date</th>\n",
       "      <th>extraction_date_with_hour</th>\n",
       "    </tr>\n",
       "  </thead>\n",
       "  <tbody>\n",
       "    <tr>\n",
       "      <th>6</th>\n",
       "      <td>ES</td>\n",
       "      <td>2020-11-16</td>\n",
       "      <td>[dca7c901-6d11-9273-9039-feffa13309f6, 4f9b437...</td>\n",
       "      <td>2020-11-29</td>\n",
       "      <td>2020-11-29@23</td>\n",
       "    </tr>\n",
       "    <tr>\n",
       "      <th>17</th>\n",
       "      <td>ES</td>\n",
       "      <td>2020-11-17</td>\n",
       "      <td>[63d4b578-3e49-6f49-bf86-f72746b9f702, 56ce9bc...</td>\n",
       "      <td>2020-11-29</td>\n",
       "      <td>2020-11-29@23</td>\n",
       "    </tr>\n",
       "    <tr>\n",
       "      <th>28</th>\n",
       "      <td>ES</td>\n",
       "      <td>2020-11-18</td>\n",
       "      <td>[b2be8561-fe4d-8c44-0355-d5681bfb712e, 36a67c0...</td>\n",
       "      <td>2020-11-29</td>\n",
       "      <td>2020-11-29@23</td>\n",
       "    </tr>\n",
       "    <tr>\n",
       "      <th>39</th>\n",
       "      <td>ES</td>\n",
       "      <td>2020-11-19</td>\n",
       "      <td>[d9e7d364-bf60-5c11-d1af-393143f1c641, 1d0dd10...</td>\n",
       "      <td>2020-11-29</td>\n",
       "      <td>2020-11-29@23</td>\n",
       "    </tr>\n",
       "    <tr>\n",
       "      <th>50</th>\n",
       "      <td>ES</td>\n",
       "      <td>2020-11-20</td>\n",
       "      <td>[e47bb103-0689-fde8-8cb6-ddf236608479, 4f5fc19...</td>\n",
       "      <td>2020-11-29</td>\n",
       "      <td>2020-11-29@23</td>\n",
       "    </tr>\n",
       "  </tbody>\n",
       "</table>\n",
       "</div>"
      ],
      "text/plain": [
       "   region sample_date                                           tek_list  \\\n",
       "6      ES  2020-11-16  [dca7c901-6d11-9273-9039-feffa13309f6, 4f9b437...   \n",
       "17     ES  2020-11-17  [63d4b578-3e49-6f49-bf86-f72746b9f702, 56ce9bc...   \n",
       "28     ES  2020-11-18  [b2be8561-fe4d-8c44-0355-d5681bfb712e, 36a67c0...   \n",
       "39     ES  2020-11-19  [d9e7d364-bf60-5c11-d1af-393143f1c641, 1d0dd10...   \n",
       "50     ES  2020-11-20  [e47bb103-0689-fde8-8cb6-ddf236608479, 4f5fc19...   \n",
       "\n",
       "   extraction_date extraction_date_with_hour  \n",
       "6       2020-11-29             2020-11-29@23  \n",
       "17      2020-11-29             2020-11-29@23  \n",
       "28      2020-11-29             2020-11-29@23  \n",
       "39      2020-11-29             2020-11-29@23  \n",
       "50      2020-11-29             2020-11-29@23  "
      ]
     },
     "execution_count": 39,
     "metadata": {},
     "output_type": "execute_result"
    }
   ],
   "source": [
    "hourly_extracted_teks_df = load_extracted_teks(\n",
    "    mode=\"Hourly\", region=report_backend_identifier, limit=25)\n",
    "hourly_extracted_teks_df.head()"
   ]
  },
  {
   "cell_type": "code",
   "execution_count": 40,
   "metadata": {
    "collapsed": false,
    "execution": {
     "iopub.execute_input": "2020-11-29T23:27:12.500154Z",
     "iopub.status.busy": "2020-11-29T23:27:12.377211Z",
     "iopub.status.idle": "2020-11-29T23:27:13.933200Z",
     "shell.execute_reply": "2020-11-29T23:27:13.932337Z"
    },
    "papermill": {
     "duration": 1.647948,
     "end_time": "2020-11-29T23:27:13.933347",
     "exception": false,
     "start_time": "2020-11-29T23:27:12.285399",
     "status": "completed"
    },
    "pycharm": {
     "name": "#%%\n"
    },
    "tags": []
   },
   "outputs": [
    {
     "data": {
      "text/html": [
       "<div>\n",
       "<style scoped>\n",
       "    .dataframe tbody tr th:only-of-type {\n",
       "        vertical-align: middle;\n",
       "    }\n",
       "\n",
       "    .dataframe tbody tr th {\n",
       "        vertical-align: top;\n",
       "    }\n",
       "\n",
       "    .dataframe thead th {\n",
       "        text-align: right;\n",
       "    }\n",
       "</style>\n",
       "<table border=\"1\" class=\"dataframe\">\n",
       "  <thead>\n",
       "    <tr style=\"text-align: right;\">\n",
       "      <th></th>\n",
       "      <th>extraction_date_with_hour</th>\n",
       "      <th>shared_teks_by_upload_date</th>\n",
       "    </tr>\n",
       "  </thead>\n",
       "  <tbody>\n",
       "    <tr>\n",
       "      <th>0</th>\n",
       "      <td>2020-11-28@23</td>\n",
       "      <td>0</td>\n",
       "    </tr>\n",
       "    <tr>\n",
       "      <th>1</th>\n",
       "      <td>2020-11-29@00</td>\n",
       "      <td>10</td>\n",
       "    </tr>\n",
       "    <tr>\n",
       "      <th>2</th>\n",
       "      <td>2020-11-29@01</td>\n",
       "      <td>0</td>\n",
       "    </tr>\n",
       "    <tr>\n",
       "      <th>3</th>\n",
       "      <td>2020-11-29@02</td>\n",
       "      <td>26</td>\n",
       "    </tr>\n",
       "    <tr>\n",
       "      <th>4</th>\n",
       "      <td>2020-11-29@03</td>\n",
       "      <td>0</td>\n",
       "    </tr>\n",
       "  </tbody>\n",
       "</table>\n",
       "</div>"
      ],
      "text/plain": [
       "  extraction_date_with_hour  shared_teks_by_upload_date\n",
       "0             2020-11-28@23                           0\n",
       "1             2020-11-29@00                          10\n",
       "2             2020-11-29@01                           0\n",
       "3             2020-11-29@02                          26\n",
       "4             2020-11-29@03                           0"
      ]
     },
     "execution_count": 40,
     "metadata": {},
     "output_type": "execute_result"
    }
   ],
   "source": [
    "hourly_new_tek_count_df = hourly_extracted_teks_df \\\n",
    "    .groupby(\"extraction_date_with_hour\").tek_list. \\\n",
    "    apply(lambda x: set(sum(x, []))).reset_index().copy()\n",
    "hourly_new_tek_count_df = hourly_new_tek_count_df.set_index(\"extraction_date_with_hour\") \\\n",
    "    .sort_index(ascending=True)\n",
    "\n",
    "hourly_new_tek_count_df[\"new_tek_list\"] = hourly_new_tek_count_df.tek_list.diff()\n",
    "hourly_new_tek_count_df[\"new_tek_count\"] = hourly_new_tek_count_df.new_tek_list.apply(\n",
    "    lambda x: len(x) if not pd.isna(x) else 0)\n",
    "hourly_new_tek_count_df.rename(columns={\n",
    "    \"new_tek_count\": \"shared_teks_by_upload_date\"}, inplace=True)\n",
    "hourly_new_tek_count_df = hourly_new_tek_count_df.reset_index()[[\n",
    "    \"extraction_date_with_hour\", \"shared_teks_by_upload_date\"]]\n",
    "hourly_new_tek_count_df.head()"
   ]
  },
  {
   "cell_type": "code",
   "execution_count": 41,
   "metadata": {
    "collapsed": false,
    "execution": {
     "iopub.execute_input": "2020-11-29T23:27:14.077507Z",
     "iopub.status.busy": "2020-11-29T23:27:14.076857Z",
     "iopub.status.idle": "2020-11-29T23:27:14.079305Z",
     "shell.execute_reply": "2020-11-29T23:27:14.079752Z"
    },
    "papermill": {
     "duration": 0.080151,
     "end_time": "2020-11-29T23:27:14.079911",
     "exception": false,
     "start_time": "2020-11-29T23:27:13.999760",
     "status": "completed"
    },
    "pycharm": {
     "name": "#%%\n"
    },
    "tags": []
   },
   "outputs": [
    {
     "data": {
      "text/html": [
       "<div>\n",
       "<style scoped>\n",
       "    .dataframe tbody tr th:only-of-type {\n",
       "        vertical-align: middle;\n",
       "    }\n",
       "\n",
       "    .dataframe tbody tr th {\n",
       "        vertical-align: top;\n",
       "    }\n",
       "\n",
       "    .dataframe thead th {\n",
       "        text-align: right;\n",
       "    }\n",
       "</style>\n",
       "<table border=\"1\" class=\"dataframe\">\n",
       "  <thead>\n",
       "    <tr style=\"text-align: right;\">\n",
       "      <th></th>\n",
       "      <th>extraction_date_with_hour</th>\n",
       "      <th>shared_teks_by_upload_date</th>\n",
       "    </tr>\n",
       "    <tr>\n",
       "      <th>datetime_utc</th>\n",
       "      <th></th>\n",
       "      <th></th>\n",
       "    </tr>\n",
       "  </thead>\n",
       "  <tbody>\n",
       "    <tr>\n",
       "      <th>2020-11-29 00:00:00</th>\n",
       "      <td>2020-11-29@00</td>\n",
       "      <td>10</td>\n",
       "    </tr>\n",
       "    <tr>\n",
       "      <th>2020-11-29 01:00:00</th>\n",
       "      <td>2020-11-29@01</td>\n",
       "      <td>0</td>\n",
       "    </tr>\n",
       "    <tr>\n",
       "      <th>2020-11-29 02:00:00</th>\n",
       "      <td>2020-11-29@02</td>\n",
       "      <td>26</td>\n",
       "    </tr>\n",
       "    <tr>\n",
       "      <th>2020-11-29 03:00:00</th>\n",
       "      <td>2020-11-29@03</td>\n",
       "      <td>0</td>\n",
       "    </tr>\n",
       "    <tr>\n",
       "      <th>2020-11-29 04:00:00</th>\n",
       "      <td>2020-11-29@04</td>\n",
       "      <td>14</td>\n",
       "    </tr>\n",
       "  </tbody>\n",
       "</table>\n",
       "</div>"
      ],
      "text/plain": [
       "                    extraction_date_with_hour  shared_teks_by_upload_date\n",
       "datetime_utc                                                             \n",
       "2020-11-29 00:00:00             2020-11-29@00                          10\n",
       "2020-11-29 01:00:00             2020-11-29@01                           0\n",
       "2020-11-29 02:00:00             2020-11-29@02                          26\n",
       "2020-11-29 03:00:00             2020-11-29@03                           0\n",
       "2020-11-29 04:00:00             2020-11-29@04                          14"
      ]
     },
     "execution_count": 41,
     "metadata": {},
     "output_type": "execute_result"
    }
   ],
   "source": [
    "hourly_summary_df = hourly_new_tek_count_df.copy()\n",
    "hourly_summary_df.set_index(\"extraction_date_with_hour\", inplace=True)\n",
    "hourly_summary_df = hourly_summary_df.fillna(0).astype(int).reset_index()\n",
    "hourly_summary_df[\"datetime_utc\"] = pd.to_datetime(\n",
    "    hourly_summary_df.extraction_date_with_hour, format=\"%Y-%m-%d@%H\")\n",
    "hourly_summary_df.set_index(\"datetime_utc\", inplace=True)\n",
    "hourly_summary_df = hourly_summary_df.tail(-1)\n",
    "hourly_summary_df.head()"
   ]
  },
  {
   "cell_type": "markdown",
   "metadata": {
    "collapsed": false,
    "papermill": {
     "duration": 0.064186,
     "end_time": "2020-11-29T23:27:14.222386",
     "exception": false,
     "start_time": "2020-11-29T23:27:14.158200",
     "status": "completed"
    },
    "tags": []
   },
   "source": [
    "### Data Merge"
   ]
  },
  {
   "cell_type": "code",
   "execution_count": 42,
   "metadata": {
    "collapsed": false,
    "execution": {
     "iopub.execute_input": "2020-11-29T23:27:14.365506Z",
     "iopub.status.busy": "2020-11-29T23:27:14.364924Z",
     "iopub.status.idle": "2020-11-29T23:27:14.370387Z",
     "shell.execute_reply": "2020-11-29T23:27:14.370811Z"
    },
    "papermill": {
     "duration": 0.083954,
     "end_time": "2020-11-29T23:27:14.370997",
     "exception": false,
     "start_time": "2020-11-29T23:27:14.287043",
     "status": "completed"
    },
    "pycharm": {
     "name": "#%%\n"
    },
    "tags": []
   },
   "outputs": [
    {
     "data": {
      "text/html": [
       "<div>\n",
       "<style scoped>\n",
       "    .dataframe tbody tr th:only-of-type {\n",
       "        vertical-align: middle;\n",
       "    }\n",
       "\n",
       "    .dataframe tbody tr th {\n",
       "        vertical-align: top;\n",
       "    }\n",
       "\n",
       "    .dataframe thead th {\n",
       "        text-align: right;\n",
       "    }\n",
       "</style>\n",
       "<table border=\"1\" class=\"dataframe\">\n",
       "  <thead>\n",
       "    <tr style=\"text-align: right;\">\n",
       "      <th></th>\n",
       "      <th>sample_date_string</th>\n",
       "      <th>shared_teks_by_generation_date</th>\n",
       "      <th>shared_teks_by_upload_date</th>\n",
       "    </tr>\n",
       "  </thead>\n",
       "  <tbody>\n",
       "    <tr>\n",
       "      <th>0</th>\n",
       "      <td>2020-11-29</td>\n",
       "      <td>128</td>\n",
       "      <td>17305.0</td>\n",
       "    </tr>\n",
       "    <tr>\n",
       "      <th>1</th>\n",
       "      <td>2020-11-28</td>\n",
       "      <td>1201</td>\n",
       "      <td>25028.0</td>\n",
       "    </tr>\n",
       "    <tr>\n",
       "      <th>2</th>\n",
       "      <td>2020-11-27</td>\n",
       "      <td>3722</td>\n",
       "      <td>27522.0</td>\n",
       "    </tr>\n",
       "    <tr>\n",
       "      <th>3</th>\n",
       "      <td>2020-11-26</td>\n",
       "      <td>6142</td>\n",
       "      <td>31914.0</td>\n",
       "    </tr>\n",
       "    <tr>\n",
       "      <th>4</th>\n",
       "      <td>2020-11-25</td>\n",
       "      <td>8553</td>\n",
       "      <td>30693.0</td>\n",
       "    </tr>\n",
       "  </tbody>\n",
       "</table>\n",
       "</div>"
      ],
      "text/plain": [
       "  sample_date_string  shared_teks_by_generation_date  \\\n",
       "0         2020-11-29                             128   \n",
       "1         2020-11-28                            1201   \n",
       "2         2020-11-27                            3722   \n",
       "3         2020-11-26                            6142   \n",
       "4         2020-11-25                            8553   \n",
       "\n",
       "   shared_teks_by_upload_date  \n",
       "0                     17305.0  \n",
       "1                     25028.0  \n",
       "2                     27522.0  \n",
       "3                     31914.0  \n",
       "4                     30693.0  "
      ]
     },
     "execution_count": 42,
     "metadata": {},
     "output_type": "execute_result"
    }
   ],
   "source": [
    "result_summary_df = exposure_keys_summary_df.merge(\n",
    "    new_tek_df, on=[\"sample_date_string\"], how=\"outer\")\n",
    "result_summary_df.head()"
   ]
  },
  {
   "cell_type": "code",
   "execution_count": 43,
   "metadata": {
    "collapsed": false,
    "execution": {
     "iopub.execute_input": "2020-11-29T23:27:14.506612Z",
     "iopub.status.busy": "2020-11-29T23:27:14.505654Z",
     "iopub.status.idle": "2020-11-29T23:27:14.509152Z",
     "shell.execute_reply": "2020-11-29T23:27:14.509893Z"
    },
    "papermill": {
     "duration": 0.078094,
     "end_time": "2020-11-29T23:27:14.510149",
     "exception": false,
     "start_time": "2020-11-29T23:27:14.432055",
     "status": "completed"
    },
    "pycharm": {
     "name": "#%%\n"
    },
    "tags": []
   },
   "outputs": [
    {
     "data": {
      "text/html": [
       "<div>\n",
       "<style scoped>\n",
       "    .dataframe tbody tr th:only-of-type {\n",
       "        vertical-align: middle;\n",
       "    }\n",
       "\n",
       "    .dataframe tbody tr th {\n",
       "        vertical-align: top;\n",
       "    }\n",
       "\n",
       "    .dataframe thead th {\n",
       "        text-align: right;\n",
       "    }\n",
       "</style>\n",
       "<table border=\"1\" class=\"dataframe\">\n",
       "  <thead>\n",
       "    <tr style=\"text-align: right;\">\n",
       "      <th></th>\n",
       "      <th>sample_date_string</th>\n",
       "      <th>shared_teks_by_generation_date</th>\n",
       "      <th>shared_teks_by_upload_date</th>\n",
       "      <th>shared_teks_uploaded_on_generation_date</th>\n",
       "    </tr>\n",
       "  </thead>\n",
       "  <tbody>\n",
       "    <tr>\n",
       "      <th>0</th>\n",
       "      <td>2020-11-29</td>\n",
       "      <td>128</td>\n",
       "      <td>17305.0</td>\n",
       "      <td>128.0</td>\n",
       "    </tr>\n",
       "    <tr>\n",
       "      <th>1</th>\n",
       "      <td>2020-11-28</td>\n",
       "      <td>1201</td>\n",
       "      <td>25028.0</td>\n",
       "      <td>159.0</td>\n",
       "    </tr>\n",
       "    <tr>\n",
       "      <th>2</th>\n",
       "      <td>2020-11-27</td>\n",
       "      <td>3722</td>\n",
       "      <td>27522.0</td>\n",
       "      <td>254.0</td>\n",
       "    </tr>\n",
       "    <tr>\n",
       "      <th>3</th>\n",
       "      <td>2020-11-26</td>\n",
       "      <td>6142</td>\n",
       "      <td>31914.0</td>\n",
       "      <td>216.0</td>\n",
       "    </tr>\n",
       "    <tr>\n",
       "      <th>4</th>\n",
       "      <td>2020-11-25</td>\n",
       "      <td>8553</td>\n",
       "      <td>30693.0</td>\n",
       "      <td>227.0</td>\n",
       "    </tr>\n",
       "  </tbody>\n",
       "</table>\n",
       "</div>"
      ],
      "text/plain": [
       "  sample_date_string  shared_teks_by_generation_date  \\\n",
       "0         2020-11-29                             128   \n",
       "1         2020-11-28                            1201   \n",
       "2         2020-11-27                            3722   \n",
       "3         2020-11-26                            6142   \n",
       "4         2020-11-25                            8553   \n",
       "\n",
       "   shared_teks_by_upload_date  shared_teks_uploaded_on_generation_date  \n",
       "0                     17305.0                                    128.0  \n",
       "1                     25028.0                                    159.0  \n",
       "2                     27522.0                                    254.0  \n",
       "3                     31914.0                                    216.0  \n",
       "4                     30693.0                                    227.0  "
      ]
     },
     "execution_count": 43,
     "metadata": {},
     "output_type": "execute_result"
    }
   ],
   "source": [
    "result_summary_df = result_summary_df.merge(\n",
    "    shared_teks_uploaded_on_generation_date_df, on=[\"sample_date_string\"], how=\"outer\")\n",
    "result_summary_df.head()"
   ]
  },
  {
   "cell_type": "code",
   "execution_count": 44,
   "metadata": {
    "collapsed": false,
    "execution": {
     "iopub.execute_input": "2020-11-29T23:27:14.657423Z",
     "iopub.status.busy": "2020-11-29T23:27:14.656801Z",
     "iopub.status.idle": "2020-11-29T23:27:14.659131Z",
     "shell.execute_reply": "2020-11-29T23:27:14.659616Z"
    },
    "papermill": {
     "duration": 0.085077,
     "end_time": "2020-11-29T23:27:14.659774",
     "exception": false,
     "start_time": "2020-11-29T23:27:14.574697",
     "status": "completed"
    },
    "pycharm": {
     "name": "#%%\n"
    },
    "tags": []
   },
   "outputs": [
    {
     "data": {
      "text/html": [
       "<div>\n",
       "<style scoped>\n",
       "    .dataframe tbody tr th:only-of-type {\n",
       "        vertical-align: middle;\n",
       "    }\n",
       "\n",
       "    .dataframe tbody tr th {\n",
       "        vertical-align: top;\n",
       "    }\n",
       "\n",
       "    .dataframe thead th {\n",
       "        text-align: right;\n",
       "    }\n",
       "</style>\n",
       "<table border=\"1\" class=\"dataframe\">\n",
       "  <thead>\n",
       "    <tr style=\"text-align: right;\">\n",
       "      <th></th>\n",
       "      <th>sample_date_string</th>\n",
       "      <th>shared_teks_by_generation_date</th>\n",
       "      <th>shared_teks_by_upload_date</th>\n",
       "      <th>shared_teks_uploaded_on_generation_date</th>\n",
       "      <th>shared_diagnoses</th>\n",
       "    </tr>\n",
       "  </thead>\n",
       "  <tbody>\n",
       "    <tr>\n",
       "      <th>0</th>\n",
       "      <td>2020-11-29</td>\n",
       "      <td>128.0</td>\n",
       "      <td>17305.0</td>\n",
       "      <td>128.0</td>\n",
       "      <td>1684.0</td>\n",
       "    </tr>\n",
       "    <tr>\n",
       "      <th>1</th>\n",
       "      <td>2020-11-28</td>\n",
       "      <td>1201.0</td>\n",
       "      <td>25028.0</td>\n",
       "      <td>159.0</td>\n",
       "      <td>2398.0</td>\n",
       "    </tr>\n",
       "    <tr>\n",
       "      <th>2</th>\n",
       "      <td>2020-11-27</td>\n",
       "      <td>3722.0</td>\n",
       "      <td>27522.0</td>\n",
       "      <td>254.0</td>\n",
       "      <td>2555.0</td>\n",
       "    </tr>\n",
       "    <tr>\n",
       "      <th>3</th>\n",
       "      <td>2020-11-26</td>\n",
       "      <td>6142.0</td>\n",
       "      <td>31914.0</td>\n",
       "      <td>216.0</td>\n",
       "      <td>3037.0</td>\n",
       "    </tr>\n",
       "    <tr>\n",
       "      <th>4</th>\n",
       "      <td>2020-11-25</td>\n",
       "      <td>8553.0</td>\n",
       "      <td>30693.0</td>\n",
       "      <td>227.0</td>\n",
       "      <td>2822.0</td>\n",
       "    </tr>\n",
       "  </tbody>\n",
       "</table>\n",
       "</div>"
      ],
      "text/plain": [
       "  sample_date_string  shared_teks_by_generation_date  \\\n",
       "0         2020-11-29                           128.0   \n",
       "1         2020-11-28                          1201.0   \n",
       "2         2020-11-27                          3722.0   \n",
       "3         2020-11-26                          6142.0   \n",
       "4         2020-11-25                          8553.0   \n",
       "\n",
       "   shared_teks_by_upload_date  shared_teks_uploaded_on_generation_date  \\\n",
       "0                     17305.0                                    128.0   \n",
       "1                     25028.0                                    159.0   \n",
       "2                     27522.0                                    254.0   \n",
       "3                     31914.0                                    216.0   \n",
       "4                     30693.0                                    227.0   \n",
       "\n",
       "   shared_diagnoses  \n",
       "0            1684.0  \n",
       "1            2398.0  \n",
       "2            2555.0  \n",
       "3            3037.0  \n",
       "4            2822.0  "
      ]
     },
     "execution_count": 44,
     "metadata": {},
     "output_type": "execute_result"
    }
   ],
   "source": [
    "result_summary_df = result_summary_df.merge(\n",
    "    estimated_shared_diagnoses_df, on=[\"sample_date_string\"], how=\"outer\")\n",
    "result_summary_df.head()"
   ]
  },
  {
   "cell_type": "code",
   "execution_count": 45,
   "metadata": {
    "collapsed": false,
    "execution": {
     "iopub.execute_input": "2020-11-29T23:27:14.810251Z",
     "iopub.status.busy": "2020-11-29T23:27:14.809620Z",
     "iopub.status.idle": "2020-11-29T23:27:14.812357Z",
     "shell.execute_reply": "2020-11-29T23:27:14.812820Z"
    },
    "papermill": {
     "duration": 0.084634,
     "end_time": "2020-11-29T23:27:14.812982",
     "exception": false,
     "start_time": "2020-11-29T23:27:14.728348",
     "status": "completed"
    },
    "pycharm": {
     "name": "#%%\n"
    },
    "tags": []
   },
   "outputs": [
    {
     "data": {
      "text/html": [
       "<div>\n",
       "<style scoped>\n",
       "    .dataframe tbody tr th:only-of-type {\n",
       "        vertical-align: middle;\n",
       "    }\n",
       "\n",
       "    .dataframe tbody tr th {\n",
       "        vertical-align: top;\n",
       "    }\n",
       "\n",
       "    .dataframe thead th {\n",
       "        text-align: right;\n",
       "    }\n",
       "</style>\n",
       "<table border=\"1\" class=\"dataframe\">\n",
       "  <thead>\n",
       "    <tr style=\"text-align: right;\">\n",
       "      <th></th>\n",
       "      <th>sample_date_string</th>\n",
       "      <th>new_cases</th>\n",
       "      <th>covid_cases</th>\n",
       "      <th>shared_teks_by_generation_date</th>\n",
       "      <th>shared_teks_by_upload_date</th>\n",
       "      <th>shared_teks_uploaded_on_generation_date</th>\n",
       "      <th>shared_diagnoses</th>\n",
       "    </tr>\n",
       "  </thead>\n",
       "  <tbody>\n",
       "    <tr>\n",
       "      <th>0</th>\n",
       "      <td>2020-09-07</td>\n",
       "      <td>26560</td>\n",
       "      <td>8956.0</td>\n",
       "      <td>58.0</td>\n",
       "      <td>52.0</td>\n",
       "      <td>NaN</td>\n",
       "      <td>22.0</td>\n",
       "    </tr>\n",
       "    <tr>\n",
       "      <th>1</th>\n",
       "      <td>2020-09-08</td>\n",
       "      <td>8964</td>\n",
       "      <td>9077.0</td>\n",
       "      <td>61.0</td>\n",
       "      <td>44.0</td>\n",
       "      <td>NaN</td>\n",
       "      <td>18.0</td>\n",
       "    </tr>\n",
       "    <tr>\n",
       "      <th>2</th>\n",
       "      <td>2020-09-09</td>\n",
       "      <td>8866</td>\n",
       "      <td>9118.0</td>\n",
       "      <td>60.0</td>\n",
       "      <td>67.0</td>\n",
       "      <td>NaN</td>\n",
       "      <td>21.0</td>\n",
       "    </tr>\n",
       "    <tr>\n",
       "      <th>3</th>\n",
       "      <td>2020-09-10</td>\n",
       "      <td>10764</td>\n",
       "      <td>9376.0</td>\n",
       "      <td>68.0</td>\n",
       "      <td>45.0</td>\n",
       "      <td>NaN</td>\n",
       "      <td>15.0</td>\n",
       "    </tr>\n",
       "    <tr>\n",
       "      <th>4</th>\n",
       "      <td>2020-09-11</td>\n",
       "      <td>12183</td>\n",
       "      <td>9620.0</td>\n",
       "      <td>75.0</td>\n",
       "      <td>46.0</td>\n",
       "      <td>NaN</td>\n",
       "      <td>19.0</td>\n",
       "    </tr>\n",
       "  </tbody>\n",
       "</table>\n",
       "</div>"
      ],
      "text/plain": [
       "  sample_date_string  new_cases  covid_cases  shared_teks_by_generation_date  \\\n",
       "0         2020-09-07      26560       8956.0                            58.0   \n",
       "1         2020-09-08       8964       9077.0                            61.0   \n",
       "2         2020-09-09       8866       9118.0                            60.0   \n",
       "3         2020-09-10      10764       9376.0                            68.0   \n",
       "4         2020-09-11      12183       9620.0                            75.0   \n",
       "\n",
       "   shared_teks_by_upload_date  shared_teks_uploaded_on_generation_date  \\\n",
       "0                        52.0                                      NaN   \n",
       "1                        44.0                                      NaN   \n",
       "2                        67.0                                      NaN   \n",
       "3                        45.0                                      NaN   \n",
       "4                        46.0                                      NaN   \n",
       "\n",
       "   shared_diagnoses  \n",
       "0              22.0  \n",
       "1              18.0  \n",
       "2              21.0  \n",
       "3              15.0  \n",
       "4              19.0  "
      ]
     },
     "execution_count": 45,
     "metadata": {},
     "output_type": "execute_result"
    }
   ],
   "source": [
    "result_summary_df = confirmed_df.tail(daily_summary_days).merge(\n",
    "    result_summary_df, on=[\"sample_date_string\"], how=\"left\")\n",
    "result_summary_df.head()"
   ]
  },
  {
   "cell_type": "code",
   "execution_count": 46,
   "metadata": {
    "collapsed": false,
    "execution": {
     "iopub.execute_input": "2020-11-29T23:27:14.961944Z",
     "iopub.status.busy": "2020-11-29T23:27:14.961351Z",
     "iopub.status.idle": "2020-11-29T23:27:14.980833Z",
     "shell.execute_reply": "2020-11-29T23:27:14.981260Z"
    },
    "papermill": {
     "duration": 0.097371,
     "end_time": "2020-11-29T23:27:14.981488",
     "exception": false,
     "start_time": "2020-11-29T23:27:14.884117",
     "status": "completed"
    },
    "pycharm": {
     "name": "#%%\n"
    },
    "tags": []
   },
   "outputs": [
    {
     "data": {
      "text/html": [
       "<div>\n",
       "<style scoped>\n",
       "    .dataframe tbody tr th:only-of-type {\n",
       "        vertical-align: middle;\n",
       "    }\n",
       "\n",
       "    .dataframe tbody tr th {\n",
       "        vertical-align: top;\n",
       "    }\n",
       "\n",
       "    .dataframe thead th {\n",
       "        text-align: right;\n",
       "    }\n",
       "</style>\n",
       "<table border=\"1\" class=\"dataframe\">\n",
       "  <thead>\n",
       "    <tr style=\"text-align: right;\">\n",
       "      <th></th>\n",
       "      <th></th>\n",
       "      <th>new_cases</th>\n",
       "      <th>covid_cases</th>\n",
       "      <th>shared_teks_by_generation_date</th>\n",
       "      <th>shared_teks_by_upload_date</th>\n",
       "      <th>shared_teks_uploaded_on_generation_date</th>\n",
       "      <th>shared_diagnoses</th>\n",
       "    </tr>\n",
       "    <tr>\n",
       "      <th>sample_date</th>\n",
       "      <th>source_regions</th>\n",
       "      <th></th>\n",
       "      <th></th>\n",
       "      <th></th>\n",
       "      <th></th>\n",
       "      <th></th>\n",
       "      <th></th>\n",
       "    </tr>\n",
       "  </thead>\n",
       "  <tbody>\n",
       "    <tr>\n",
       "      <th>2020-11-29</th>\n",
       "      <th>ES,DE,DK,HR,IE,IT,LV,PL</th>\n",
       "      <td>62722</td>\n",
       "      <td>78235.0</td>\n",
       "      <td>128.0</td>\n",
       "      <td>17305.0</td>\n",
       "      <td>128.0</td>\n",
       "      <td>1684.0</td>\n",
       "    </tr>\n",
       "    <tr>\n",
       "      <th>2020-11-28</th>\n",
       "      <th>ES,DE,DK,HR,IE,IT,LV,PL</th>\n",
       "      <td>73586</td>\n",
       "      <td>80782.0</td>\n",
       "      <td>1201.0</td>\n",
       "      <td>25028.0</td>\n",
       "      <td>159.0</td>\n",
       "      <td>2398.0</td>\n",
       "    </tr>\n",
       "    <tr>\n",
       "      <th>2020-11-27</th>\n",
       "      <th>ES,DE,DK,HR,IE,IT,LV,PL</th>\n",
       "      <td>85755</td>\n",
       "      <td>82782.0</td>\n",
       "      <td>3722.0</td>\n",
       "      <td>27522.0</td>\n",
       "      <td>254.0</td>\n",
       "      <td>2555.0</td>\n",
       "    </tr>\n",
       "    <tr>\n",
       "      <th>2020-11-26</th>\n",
       "      <th>ES,DE,DK,HR,IE,IT,LV,PL</th>\n",
       "      <td>81388</td>\n",
       "      <td>85417.0</td>\n",
       "      <td>6142.0</td>\n",
       "      <td>31914.0</td>\n",
       "      <td>216.0</td>\n",
       "      <td>3037.0</td>\n",
       "    </tr>\n",
       "    <tr>\n",
       "      <th>2020-11-25</th>\n",
       "      <th>ES,DE,DK,HR,IE,IT,LV</th>\n",
       "      <td>56448</td>\n",
       "      <td>65533.0</td>\n",
       "      <td>8553.0</td>\n",
       "      <td>30693.0</td>\n",
       "      <td>227.0</td>\n",
       "      <td>2822.0</td>\n",
       "    </tr>\n",
       "  </tbody>\n",
       "</table>\n",
       "</div>"
      ],
      "text/plain": [
       "                                     new_cases  covid_cases  \\\n",
       "sample_date source_regions                                    \n",
       "2020-11-29  ES,DE,DK,HR,IE,IT,LV,PL      62722      78235.0   \n",
       "2020-11-28  ES,DE,DK,HR,IE,IT,LV,PL      73586      80782.0   \n",
       "2020-11-27  ES,DE,DK,HR,IE,IT,LV,PL      85755      82782.0   \n",
       "2020-11-26  ES,DE,DK,HR,IE,IT,LV,PL      81388      85417.0   \n",
       "2020-11-25  ES,DE,DK,HR,IE,IT,LV         56448      65533.0   \n",
       "\n",
       "                                     shared_teks_by_generation_date  \\\n",
       "sample_date source_regions                                            \n",
       "2020-11-29  ES,DE,DK,HR,IE,IT,LV,PL                           128.0   \n",
       "2020-11-28  ES,DE,DK,HR,IE,IT,LV,PL                          1201.0   \n",
       "2020-11-27  ES,DE,DK,HR,IE,IT,LV,PL                          3722.0   \n",
       "2020-11-26  ES,DE,DK,HR,IE,IT,LV,PL                          6142.0   \n",
       "2020-11-25  ES,DE,DK,HR,IE,IT,LV                             8553.0   \n",
       "\n",
       "                                     shared_teks_by_upload_date  \\\n",
       "sample_date source_regions                                        \n",
       "2020-11-29  ES,DE,DK,HR,IE,IT,LV,PL                     17305.0   \n",
       "2020-11-28  ES,DE,DK,HR,IE,IT,LV,PL                     25028.0   \n",
       "2020-11-27  ES,DE,DK,HR,IE,IT,LV,PL                     27522.0   \n",
       "2020-11-26  ES,DE,DK,HR,IE,IT,LV,PL                     31914.0   \n",
       "2020-11-25  ES,DE,DK,HR,IE,IT,LV                        30693.0   \n",
       "\n",
       "                                     shared_teks_uploaded_on_generation_date  \\\n",
       "sample_date source_regions                                                     \n",
       "2020-11-29  ES,DE,DK,HR,IE,IT,LV,PL                                    128.0   \n",
       "2020-11-28  ES,DE,DK,HR,IE,IT,LV,PL                                    159.0   \n",
       "2020-11-27  ES,DE,DK,HR,IE,IT,LV,PL                                    254.0   \n",
       "2020-11-26  ES,DE,DK,HR,IE,IT,LV,PL                                    216.0   \n",
       "2020-11-25  ES,DE,DK,HR,IE,IT,LV                                       227.0   \n",
       "\n",
       "                                     shared_diagnoses  \n",
       "sample_date source_regions                             \n",
       "2020-11-29  ES,DE,DK,HR,IE,IT,LV,PL            1684.0  \n",
       "2020-11-28  ES,DE,DK,HR,IE,IT,LV,PL            2398.0  \n",
       "2020-11-27  ES,DE,DK,HR,IE,IT,LV,PL            2555.0  \n",
       "2020-11-26  ES,DE,DK,HR,IE,IT,LV,PL            3037.0  \n",
       "2020-11-25  ES,DE,DK,HR,IE,IT,LV               2822.0  "
      ]
     },
     "execution_count": 46,
     "metadata": {},
     "output_type": "execute_result"
    }
   ],
   "source": [
    "result_summary_df[\"sample_date\"] = pd.to_datetime(result_summary_df.sample_date_string)\n",
    "result_summary_df = result_summary_df.merge(source_regions_for_summary_df, how=\"left\")\n",
    "result_summary_df.set_index([\"sample_date\", \"source_regions\"], inplace=True)\n",
    "result_summary_df.drop(columns=[\"sample_date_string\"], inplace=True)\n",
    "result_summary_df.sort_index(ascending=False, inplace=True)\n",
    "result_summary_df.head()"
   ]
  },
  {
   "cell_type": "code",
   "execution_count": 47,
   "metadata": {
    "execution": {
     "iopub.execute_input": "2020-11-29T23:27:15.146169Z",
     "iopub.status.busy": "2020-11-29T23:27:15.145364Z",
     "iopub.status.idle": "2020-11-29T23:27:15.148686Z",
     "shell.execute_reply": "2020-11-29T23:27:15.149252Z"
    },
    "papermill": {
     "duration": 0.099953,
     "end_time": "2020-11-29T23:27:15.149421",
     "exception": false,
     "start_time": "2020-11-29T23:27:15.049468",
     "status": "completed"
    },
    "tags": []
   },
   "outputs": [
    {
     "data": {
      "text/html": [
       "<div>\n",
       "<style scoped>\n",
       "    .dataframe tbody tr th:only-of-type {\n",
       "        vertical-align: middle;\n",
       "    }\n",
       "\n",
       "    .dataframe tbody tr th {\n",
       "        vertical-align: top;\n",
       "    }\n",
       "\n",
       "    .dataframe thead th {\n",
       "        text-align: right;\n",
       "    }\n",
       "</style>\n",
       "<table border=\"1\" class=\"dataframe\">\n",
       "  <thead>\n",
       "    <tr style=\"text-align: right;\">\n",
       "      <th></th>\n",
       "      <th></th>\n",
       "      <th>new_cases</th>\n",
       "      <th>covid_cases</th>\n",
       "      <th>shared_teks_by_generation_date</th>\n",
       "      <th>shared_teks_by_upload_date</th>\n",
       "      <th>shared_teks_uploaded_on_generation_date</th>\n",
       "      <th>shared_diagnoses</th>\n",
       "      <th>teks_per_shared_diagnosis</th>\n",
       "      <th>shared_diagnoses_per_covid_case</th>\n",
       "    </tr>\n",
       "    <tr>\n",
       "      <th>sample_date</th>\n",
       "      <th>source_regions</th>\n",
       "      <th></th>\n",
       "      <th></th>\n",
       "      <th></th>\n",
       "      <th></th>\n",
       "      <th></th>\n",
       "      <th></th>\n",
       "      <th></th>\n",
       "      <th></th>\n",
       "    </tr>\n",
       "  </thead>\n",
       "  <tbody>\n",
       "    <tr>\n",
       "      <th>2020-11-29</th>\n",
       "      <th>ES,DE,DK,HR,IE,IT,LV,PL</th>\n",
       "      <td>62722</td>\n",
       "      <td>78235</td>\n",
       "      <td>128</td>\n",
       "      <td>17305</td>\n",
       "      <td>128</td>\n",
       "      <td>1684</td>\n",
       "      <td>10.276128</td>\n",
       "      <td>0.021525</td>\n",
       "    </tr>\n",
       "    <tr>\n",
       "      <th>2020-11-28</th>\n",
       "      <th>ES,DE,DK,HR,IE,IT,LV,PL</th>\n",
       "      <td>73586</td>\n",
       "      <td>80782</td>\n",
       "      <td>1201</td>\n",
       "      <td>25028</td>\n",
       "      <td>159</td>\n",
       "      <td>2398</td>\n",
       "      <td>10.437031</td>\n",
       "      <td>0.029685</td>\n",
       "    </tr>\n",
       "    <tr>\n",
       "      <th>2020-11-27</th>\n",
       "      <th>ES,DE,DK,HR,IE,IT,LV,PL</th>\n",
       "      <td>85755</td>\n",
       "      <td>82782</td>\n",
       "      <td>3722</td>\n",
       "      <td>27522</td>\n",
       "      <td>254</td>\n",
       "      <td>2555</td>\n",
       "      <td>10.771820</td>\n",
       "      <td>0.030864</td>\n",
       "    </tr>\n",
       "    <tr>\n",
       "      <th>2020-11-26</th>\n",
       "      <th>ES,DE,DK,HR,IE,IT,LV,PL</th>\n",
       "      <td>81388</td>\n",
       "      <td>85417</td>\n",
       "      <td>6142</td>\n",
       "      <td>31914</td>\n",
       "      <td>216</td>\n",
       "      <td>3037</td>\n",
       "      <td>10.508396</td>\n",
       "      <td>0.035555</td>\n",
       "    </tr>\n",
       "    <tr>\n",
       "      <th>2020-11-25</th>\n",
       "      <th>ES,DE,DK,HR,IE,IT,LV</th>\n",
       "      <td>56448</td>\n",
       "      <td>65533</td>\n",
       "      <td>8553</td>\n",
       "      <td>30693</td>\n",
       "      <td>227</td>\n",
       "      <td>2822</td>\n",
       "      <td>10.876329</td>\n",
       "      <td>0.043062</td>\n",
       "    </tr>\n",
       "    <tr>\n",
       "      <th>2020-11-24</th>\n",
       "      <th>ES,DE,DK,HR,IE,IT,LV</th>\n",
       "      <td>52217</td>\n",
       "      <td>67304</td>\n",
       "      <td>10905</td>\n",
       "      <td>17800</td>\n",
       "      <td>164</td>\n",
       "      <td>1667</td>\n",
       "      <td>10.677864</td>\n",
       "      <td>0.024768</td>\n",
       "    </tr>\n",
       "    <tr>\n",
       "      <th>2020-11-23</th>\n",
       "      <th>ES,DE,DK,HR,IE,IT,LV</th>\n",
       "      <td>69939</td>\n",
       "      <td>68127</td>\n",
       "      <td>12651</td>\n",
       "      <td>13061</td>\n",
       "      <td>147</td>\n",
       "      <td>1332</td>\n",
       "      <td>9.805556</td>\n",
       "      <td>0.019552</td>\n",
       "    </tr>\n",
       "    <tr>\n",
       "      <th>2020-11-22</th>\n",
       "      <th>ES,DE,DK,HR,IE,IT,LV</th>\n",
       "      <td>56334</td>\n",
       "      <td>70591</td>\n",
       "      <td>13523</td>\n",
       "      <td>14568</td>\n",
       "      <td>132</td>\n",
       "      <td>1524</td>\n",
       "      <td>9.559055</td>\n",
       "      <td>0.021589</td>\n",
       "    </tr>\n",
       "    <tr>\n",
       "      <th>2020-11-21</th>\n",
       "      <th>ES,DE,DK,HR,IE,IT,LV</th>\n",
       "      <td>65127</td>\n",
       "      <td>70966</td>\n",
       "      <td>14471</td>\n",
       "      <td>22605</td>\n",
       "      <td>153</td>\n",
       "      <td>2275</td>\n",
       "      <td>9.936264</td>\n",
       "      <td>0.032058</td>\n",
       "    </tr>\n",
       "    <tr>\n",
       "      <th>2020-11-20</th>\n",
       "      <th>ES,DE,DK,IE,IT,LV</th>\n",
       "      <td>77058</td>\n",
       "      <td>68866</td>\n",
       "      <td>16142</td>\n",
       "      <td>26712</td>\n",
       "      <td>212</td>\n",
       "      <td>2617</td>\n",
       "      <td>10.207107</td>\n",
       "      <td>0.038001</td>\n",
       "    </tr>\n",
       "    <tr>\n",
       "      <th>2020-11-19</th>\n",
       "      <th>ES,DE,DK,IE,IT,LV</th>\n",
       "      <td>75193</td>\n",
       "      <td>69974</td>\n",
       "      <td>18104</td>\n",
       "      <td>25678</td>\n",
       "      <td>211</td>\n",
       "      <td>2492</td>\n",
       "      <td>10.304173</td>\n",
       "      <td>0.035613</td>\n",
       "    </tr>\n",
       "    <tr>\n",
       "      <th>2020-11-18</th>\n",
       "      <th>ES,DE,DK,IE,IT,LV</th>\n",
       "      <td>66898</td>\n",
       "      <td>70110</td>\n",
       "      <td>20091</td>\n",
       "      <td>29832</td>\n",
       "      <td>290</td>\n",
       "      <td>2915</td>\n",
       "      <td>10.233962</td>\n",
       "      <td>0.041578</td>\n",
       "    </tr>\n",
       "    <tr>\n",
       "      <th>2020-11-17</th>\n",
       "      <th>ES,DE,DK,IE,IT,LV</th>\n",
       "      <td>56667</td>\n",
       "      <td>71150</td>\n",
       "      <td>22294</td>\n",
       "      <td>22734</td>\n",
       "      <td>222</td>\n",
       "      <td>2099</td>\n",
       "      <td>10.830872</td>\n",
       "      <td>0.029501</td>\n",
       "    </tr>\n",
       "    <tr>\n",
       "      <th>2020-11-16</th>\n",
       "      <th>ES,DE,DK,IE,IT,LV</th>\n",
       "      <td>84825</td>\n",
       "      <td>71501</td>\n",
       "      <td>23983</td>\n",
       "      <td>17579</td>\n",
       "      <td>194</td>\n",
       "      <td>1741</td>\n",
       "      <td>10.097071</td>\n",
       "      <td>0.024349</td>\n",
       "    </tr>\n",
       "    <tr>\n",
       "      <th>2020-11-15</th>\n",
       "      <th>ES,DE,DK,IE,IT,LV</th>\n",
       "      <td>56096</td>\n",
       "      <td>73670</td>\n",
       "      <td>23554</td>\n",
       "      <td>15287</td>\n",
       "      <td>224</td>\n",
       "      <td>1611</td>\n",
       "      <td>9.489137</td>\n",
       "      <td>0.021868</td>\n",
       "    </tr>\n",
       "    <tr>\n",
       "      <th>2020-11-14</th>\n",
       "      <th>ES,DE,DK,IE,IT,LV</th>\n",
       "      <td>65322</td>\n",
       "      <td>73884</td>\n",
       "      <td>22860</td>\n",
       "      <td>22798</td>\n",
       "      <td>211</td>\n",
       "      <td>2281</td>\n",
       "      <td>9.994739</td>\n",
       "      <td>0.030873</td>\n",
       "    </tr>\n",
       "    <tr>\n",
       "      <th>2020-11-13</th>\n",
       "      <th>ES,DE,DK,IE,IT,LV</th>\n",
       "      <td>84819</td>\n",
       "      <td>73621</td>\n",
       "      <td>22818</td>\n",
       "      <td>29729</td>\n",
       "      <td>306</td>\n",
       "      <td>2890</td>\n",
       "      <td>10.286851</td>\n",
       "      <td>0.039255</td>\n",
       "    </tr>\n",
       "    <tr>\n",
       "      <th>2020-11-12</th>\n",
       "      <th>ES,DE,DK,IE,IT,LV</th>\n",
       "      <td>76143</td>\n",
       "      <td>73029</td>\n",
       "      <td>22699</td>\n",
       "      <td>31792</td>\n",
       "      <td>317</td>\n",
       "      <td>3205</td>\n",
       "      <td>9.919501</td>\n",
       "      <td>0.043887</td>\n",
       "    </tr>\n",
       "    <tr>\n",
       "      <th>2020-11-11</th>\n",
       "      <th>ES,DE,DK,IE,IT,LV</th>\n",
       "      <td>74177</td>\n",
       "      <td>72741</td>\n",
       "      <td>22652</td>\n",
       "      <td>30445</td>\n",
       "      <td>300</td>\n",
       "      <td>3029</td>\n",
       "      <td>10.051172</td>\n",
       "      <td>0.041641</td>\n",
       "    </tr>\n",
       "    <tr>\n",
       "      <th>2020-11-10</th>\n",
       "      <th>ES,DE,DK,IE,IT,LV</th>\n",
       "      <td>59124</td>\n",
       "      <td>72476</td>\n",
       "      <td>23535</td>\n",
       "      <td>21163</td>\n",
       "      <td>292</td>\n",
       "      <td>2086</td>\n",
       "      <td>10.145254</td>\n",
       "      <td>0.028782</td>\n",
       "    </tr>\n",
       "    <tr>\n",
       "      <th>2020-11-09</th>\n",
       "      <th>ES,DE,DK,IE,IT,LV</th>\n",
       "      <td>100008</td>\n",
       "      <td>72329</td>\n",
       "      <td>24379</td>\n",
       "      <td>16517</td>\n",
       "      <td>236</td>\n",
       "      <td>1683</td>\n",
       "      <td>9.814023</td>\n",
       "      <td>0.023269</td>\n",
       "    </tr>\n",
       "    <tr>\n",
       "      <th>2020-11-08</th>\n",
       "      <th>ES,DE,IE,IT,LV</th>\n",
       "      <td>56547</td>\n",
       "      <td>71025</td>\n",
       "      <td>24098</td>\n",
       "      <td>16816</td>\n",
       "      <td>209</td>\n",
       "      <td>1809</td>\n",
       "      <td>9.295744</td>\n",
       "      <td>0.025470</td>\n",
       "    </tr>\n",
       "    <tr>\n",
       "      <th>2020-11-07</th>\n",
       "      <th>ES,DE,IE,IT,LV</th>\n",
       "      <td>62050</td>\n",
       "      <td>69596</td>\n",
       "      <td>23590</td>\n",
       "      <td>23688</td>\n",
       "      <td>313</td>\n",
       "      <td>2490</td>\n",
       "      <td>9.513253</td>\n",
       "      <td>0.035778</td>\n",
       "    </tr>\n",
       "    <tr>\n",
       "      <th>2020-11-06</th>\n",
       "      <th>ES,DE,IE,IT,LV</th>\n",
       "      <td>79454</td>\n",
       "      <td>68044</td>\n",
       "      <td>23325</td>\n",
       "      <td>28583</td>\n",
       "      <td>263</td>\n",
       "      <td>2909</td>\n",
       "      <td>9.825713</td>\n",
       "      <td>0.042752</td>\n",
       "    </tr>\n",
       "    <tr>\n",
       "      <th>2020-11-05</th>\n",
       "      <th>ES,DE,IE,IT,LV</th>\n",
       "      <td>73194</td>\n",
       "      <td>67010</td>\n",
       "      <td>23626</td>\n",
       "      <td>26573</td>\n",
       "      <td>267</td>\n",
       "      <td>2696</td>\n",
       "      <td>9.856454</td>\n",
       "      <td>0.040233</td>\n",
       "    </tr>\n",
       "    <tr>\n",
       "      <th>2020-11-04</th>\n",
       "      <th>ES,DE,IE,IT,LV</th>\n",
       "      <td>70966</td>\n",
       "      <td>66020</td>\n",
       "      <td>23610</td>\n",
       "      <td>28247</td>\n",
       "      <td>344</td>\n",
       "      <td>2851</td>\n",
       "      <td>9.907752</td>\n",
       "      <td>0.043184</td>\n",
       "    </tr>\n",
       "    <tr>\n",
       "      <th>2020-11-03</th>\n",
       "      <th>ES,DE,IE,IT,LV</th>\n",
       "      <td>57154</td>\n",
       "      <td>64104</td>\n",
       "      <td>23958</td>\n",
       "      <td>20613</td>\n",
       "      <td>280</td>\n",
       "      <td>1961</td>\n",
       "      <td>10.511474</td>\n",
       "      <td>0.030591</td>\n",
       "    </tr>\n",
       "    <tr>\n",
       "      <th>2020-11-02</th>\n",
       "      <th>ES,DE,IE,IT,LV</th>\n",
       "      <td>97809</td>\n",
       "      <td>62775</td>\n",
       "      <td>24206</td>\n",
       "      <td>16927</td>\n",
       "      <td>264</td>\n",
       "      <td>1711</td>\n",
       "      <td>9.893045</td>\n",
       "      <td>0.027256</td>\n",
       "    </tr>\n",
       "  </tbody>\n",
       "</table>\n",
       "</div>"
      ],
      "text/plain": [
       "                                     new_cases  covid_cases  \\\n",
       "sample_date source_regions                                    \n",
       "2020-11-29  ES,DE,DK,HR,IE,IT,LV,PL      62722        78235   \n",
       "2020-11-28  ES,DE,DK,HR,IE,IT,LV,PL      73586        80782   \n",
       "2020-11-27  ES,DE,DK,HR,IE,IT,LV,PL      85755        82782   \n",
       "2020-11-26  ES,DE,DK,HR,IE,IT,LV,PL      81388        85417   \n",
       "2020-11-25  ES,DE,DK,HR,IE,IT,LV         56448        65533   \n",
       "2020-11-24  ES,DE,DK,HR,IE,IT,LV         52217        67304   \n",
       "2020-11-23  ES,DE,DK,HR,IE,IT,LV         69939        68127   \n",
       "2020-11-22  ES,DE,DK,HR,IE,IT,LV         56334        70591   \n",
       "2020-11-21  ES,DE,DK,HR,IE,IT,LV         65127        70966   \n",
       "2020-11-20  ES,DE,DK,IE,IT,LV            77058        68866   \n",
       "2020-11-19  ES,DE,DK,IE,IT,LV            75193        69974   \n",
       "2020-11-18  ES,DE,DK,IE,IT,LV            66898        70110   \n",
       "2020-11-17  ES,DE,DK,IE,IT,LV            56667        71150   \n",
       "2020-11-16  ES,DE,DK,IE,IT,LV            84825        71501   \n",
       "2020-11-15  ES,DE,DK,IE,IT,LV            56096        73670   \n",
       "2020-11-14  ES,DE,DK,IE,IT,LV            65322        73884   \n",
       "2020-11-13  ES,DE,DK,IE,IT,LV            84819        73621   \n",
       "2020-11-12  ES,DE,DK,IE,IT,LV            76143        73029   \n",
       "2020-11-11  ES,DE,DK,IE,IT,LV            74177        72741   \n",
       "2020-11-10  ES,DE,DK,IE,IT,LV            59124        72476   \n",
       "2020-11-09  ES,DE,DK,IE,IT,LV           100008        72329   \n",
       "2020-11-08  ES,DE,IE,IT,LV               56547        71025   \n",
       "2020-11-07  ES,DE,IE,IT,LV               62050        69596   \n",
       "2020-11-06  ES,DE,IE,IT,LV               79454        68044   \n",
       "2020-11-05  ES,DE,IE,IT,LV               73194        67010   \n",
       "2020-11-04  ES,DE,IE,IT,LV               70966        66020   \n",
       "2020-11-03  ES,DE,IE,IT,LV               57154        64104   \n",
       "2020-11-02  ES,DE,IE,IT,LV               97809        62775   \n",
       "\n",
       "                                     shared_teks_by_generation_date  \\\n",
       "sample_date source_regions                                            \n",
       "2020-11-29  ES,DE,DK,HR,IE,IT,LV,PL                             128   \n",
       "2020-11-28  ES,DE,DK,HR,IE,IT,LV,PL                            1201   \n",
       "2020-11-27  ES,DE,DK,HR,IE,IT,LV,PL                            3722   \n",
       "2020-11-26  ES,DE,DK,HR,IE,IT,LV,PL                            6142   \n",
       "2020-11-25  ES,DE,DK,HR,IE,IT,LV                               8553   \n",
       "2020-11-24  ES,DE,DK,HR,IE,IT,LV                              10905   \n",
       "2020-11-23  ES,DE,DK,HR,IE,IT,LV                              12651   \n",
       "2020-11-22  ES,DE,DK,HR,IE,IT,LV                              13523   \n",
       "2020-11-21  ES,DE,DK,HR,IE,IT,LV                              14471   \n",
       "2020-11-20  ES,DE,DK,IE,IT,LV                                 16142   \n",
       "2020-11-19  ES,DE,DK,IE,IT,LV                                 18104   \n",
       "2020-11-18  ES,DE,DK,IE,IT,LV                                 20091   \n",
       "2020-11-17  ES,DE,DK,IE,IT,LV                                 22294   \n",
       "2020-11-16  ES,DE,DK,IE,IT,LV                                 23983   \n",
       "2020-11-15  ES,DE,DK,IE,IT,LV                                 23554   \n",
       "2020-11-14  ES,DE,DK,IE,IT,LV                                 22860   \n",
       "2020-11-13  ES,DE,DK,IE,IT,LV                                 22818   \n",
       "2020-11-12  ES,DE,DK,IE,IT,LV                                 22699   \n",
       "2020-11-11  ES,DE,DK,IE,IT,LV                                 22652   \n",
       "2020-11-10  ES,DE,DK,IE,IT,LV                                 23535   \n",
       "2020-11-09  ES,DE,DK,IE,IT,LV                                 24379   \n",
       "2020-11-08  ES,DE,IE,IT,LV                                    24098   \n",
       "2020-11-07  ES,DE,IE,IT,LV                                    23590   \n",
       "2020-11-06  ES,DE,IE,IT,LV                                    23325   \n",
       "2020-11-05  ES,DE,IE,IT,LV                                    23626   \n",
       "2020-11-04  ES,DE,IE,IT,LV                                    23610   \n",
       "2020-11-03  ES,DE,IE,IT,LV                                    23958   \n",
       "2020-11-02  ES,DE,IE,IT,LV                                    24206   \n",
       "\n",
       "                                     shared_teks_by_upload_date  \\\n",
       "sample_date source_regions                                        \n",
       "2020-11-29  ES,DE,DK,HR,IE,IT,LV,PL                       17305   \n",
       "2020-11-28  ES,DE,DK,HR,IE,IT,LV,PL                       25028   \n",
       "2020-11-27  ES,DE,DK,HR,IE,IT,LV,PL                       27522   \n",
       "2020-11-26  ES,DE,DK,HR,IE,IT,LV,PL                       31914   \n",
       "2020-11-25  ES,DE,DK,HR,IE,IT,LV                          30693   \n",
       "2020-11-24  ES,DE,DK,HR,IE,IT,LV                          17800   \n",
       "2020-11-23  ES,DE,DK,HR,IE,IT,LV                          13061   \n",
       "2020-11-22  ES,DE,DK,HR,IE,IT,LV                          14568   \n",
       "2020-11-21  ES,DE,DK,HR,IE,IT,LV                          22605   \n",
       "2020-11-20  ES,DE,DK,IE,IT,LV                             26712   \n",
       "2020-11-19  ES,DE,DK,IE,IT,LV                             25678   \n",
       "2020-11-18  ES,DE,DK,IE,IT,LV                             29832   \n",
       "2020-11-17  ES,DE,DK,IE,IT,LV                             22734   \n",
       "2020-11-16  ES,DE,DK,IE,IT,LV                             17579   \n",
       "2020-11-15  ES,DE,DK,IE,IT,LV                             15287   \n",
       "2020-11-14  ES,DE,DK,IE,IT,LV                             22798   \n",
       "2020-11-13  ES,DE,DK,IE,IT,LV                             29729   \n",
       "2020-11-12  ES,DE,DK,IE,IT,LV                             31792   \n",
       "2020-11-11  ES,DE,DK,IE,IT,LV                             30445   \n",
       "2020-11-10  ES,DE,DK,IE,IT,LV                             21163   \n",
       "2020-11-09  ES,DE,DK,IE,IT,LV                             16517   \n",
       "2020-11-08  ES,DE,IE,IT,LV                                16816   \n",
       "2020-11-07  ES,DE,IE,IT,LV                                23688   \n",
       "2020-11-06  ES,DE,IE,IT,LV                                28583   \n",
       "2020-11-05  ES,DE,IE,IT,LV                                26573   \n",
       "2020-11-04  ES,DE,IE,IT,LV                                28247   \n",
       "2020-11-03  ES,DE,IE,IT,LV                                20613   \n",
       "2020-11-02  ES,DE,IE,IT,LV                                16927   \n",
       "\n",
       "                                     shared_teks_uploaded_on_generation_date  \\\n",
       "sample_date source_regions                                                     \n",
       "2020-11-29  ES,DE,DK,HR,IE,IT,LV,PL                                      128   \n",
       "2020-11-28  ES,DE,DK,HR,IE,IT,LV,PL                                      159   \n",
       "2020-11-27  ES,DE,DK,HR,IE,IT,LV,PL                                      254   \n",
       "2020-11-26  ES,DE,DK,HR,IE,IT,LV,PL                                      216   \n",
       "2020-11-25  ES,DE,DK,HR,IE,IT,LV                                         227   \n",
       "2020-11-24  ES,DE,DK,HR,IE,IT,LV                                         164   \n",
       "2020-11-23  ES,DE,DK,HR,IE,IT,LV                                         147   \n",
       "2020-11-22  ES,DE,DK,HR,IE,IT,LV                                         132   \n",
       "2020-11-21  ES,DE,DK,HR,IE,IT,LV                                         153   \n",
       "2020-11-20  ES,DE,DK,IE,IT,LV                                            212   \n",
       "2020-11-19  ES,DE,DK,IE,IT,LV                                            211   \n",
       "2020-11-18  ES,DE,DK,IE,IT,LV                                            290   \n",
       "2020-11-17  ES,DE,DK,IE,IT,LV                                            222   \n",
       "2020-11-16  ES,DE,DK,IE,IT,LV                                            194   \n",
       "2020-11-15  ES,DE,DK,IE,IT,LV                                            224   \n",
       "2020-11-14  ES,DE,DK,IE,IT,LV                                            211   \n",
       "2020-11-13  ES,DE,DK,IE,IT,LV                                            306   \n",
       "2020-11-12  ES,DE,DK,IE,IT,LV                                            317   \n",
       "2020-11-11  ES,DE,DK,IE,IT,LV                                            300   \n",
       "2020-11-10  ES,DE,DK,IE,IT,LV                                            292   \n",
       "2020-11-09  ES,DE,DK,IE,IT,LV                                            236   \n",
       "2020-11-08  ES,DE,IE,IT,LV                                               209   \n",
       "2020-11-07  ES,DE,IE,IT,LV                                               313   \n",
       "2020-11-06  ES,DE,IE,IT,LV                                               263   \n",
       "2020-11-05  ES,DE,IE,IT,LV                                               267   \n",
       "2020-11-04  ES,DE,IE,IT,LV                                               344   \n",
       "2020-11-03  ES,DE,IE,IT,LV                                               280   \n",
       "2020-11-02  ES,DE,IE,IT,LV                                               264   \n",
       "\n",
       "                                     shared_diagnoses  \\\n",
       "sample_date source_regions                              \n",
       "2020-11-29  ES,DE,DK,HR,IE,IT,LV,PL              1684   \n",
       "2020-11-28  ES,DE,DK,HR,IE,IT,LV,PL              2398   \n",
       "2020-11-27  ES,DE,DK,HR,IE,IT,LV,PL              2555   \n",
       "2020-11-26  ES,DE,DK,HR,IE,IT,LV,PL              3037   \n",
       "2020-11-25  ES,DE,DK,HR,IE,IT,LV                 2822   \n",
       "2020-11-24  ES,DE,DK,HR,IE,IT,LV                 1667   \n",
       "2020-11-23  ES,DE,DK,HR,IE,IT,LV                 1332   \n",
       "2020-11-22  ES,DE,DK,HR,IE,IT,LV                 1524   \n",
       "2020-11-21  ES,DE,DK,HR,IE,IT,LV                 2275   \n",
       "2020-11-20  ES,DE,DK,IE,IT,LV                    2617   \n",
       "2020-11-19  ES,DE,DK,IE,IT,LV                    2492   \n",
       "2020-11-18  ES,DE,DK,IE,IT,LV                    2915   \n",
       "2020-11-17  ES,DE,DK,IE,IT,LV                    2099   \n",
       "2020-11-16  ES,DE,DK,IE,IT,LV                    1741   \n",
       "2020-11-15  ES,DE,DK,IE,IT,LV                    1611   \n",
       "2020-11-14  ES,DE,DK,IE,IT,LV                    2281   \n",
       "2020-11-13  ES,DE,DK,IE,IT,LV                    2890   \n",
       "2020-11-12  ES,DE,DK,IE,IT,LV                    3205   \n",
       "2020-11-11  ES,DE,DK,IE,IT,LV                    3029   \n",
       "2020-11-10  ES,DE,DK,IE,IT,LV                    2086   \n",
       "2020-11-09  ES,DE,DK,IE,IT,LV                    1683   \n",
       "2020-11-08  ES,DE,IE,IT,LV                       1809   \n",
       "2020-11-07  ES,DE,IE,IT,LV                       2490   \n",
       "2020-11-06  ES,DE,IE,IT,LV                       2909   \n",
       "2020-11-05  ES,DE,IE,IT,LV                       2696   \n",
       "2020-11-04  ES,DE,IE,IT,LV                       2851   \n",
       "2020-11-03  ES,DE,IE,IT,LV                       1961   \n",
       "2020-11-02  ES,DE,IE,IT,LV                       1711   \n",
       "\n",
       "                                     teks_per_shared_diagnosis  \\\n",
       "sample_date source_regions                                       \n",
       "2020-11-29  ES,DE,DK,HR,IE,IT,LV,PL                  10.276128   \n",
       "2020-11-28  ES,DE,DK,HR,IE,IT,LV,PL                  10.437031   \n",
       "2020-11-27  ES,DE,DK,HR,IE,IT,LV,PL                  10.771820   \n",
       "2020-11-26  ES,DE,DK,HR,IE,IT,LV,PL                  10.508396   \n",
       "2020-11-25  ES,DE,DK,HR,IE,IT,LV                     10.876329   \n",
       "2020-11-24  ES,DE,DK,HR,IE,IT,LV                     10.677864   \n",
       "2020-11-23  ES,DE,DK,HR,IE,IT,LV                      9.805556   \n",
       "2020-11-22  ES,DE,DK,HR,IE,IT,LV                      9.559055   \n",
       "2020-11-21  ES,DE,DK,HR,IE,IT,LV                      9.936264   \n",
       "2020-11-20  ES,DE,DK,IE,IT,LV                        10.207107   \n",
       "2020-11-19  ES,DE,DK,IE,IT,LV                        10.304173   \n",
       "2020-11-18  ES,DE,DK,IE,IT,LV                        10.233962   \n",
       "2020-11-17  ES,DE,DK,IE,IT,LV                        10.830872   \n",
       "2020-11-16  ES,DE,DK,IE,IT,LV                        10.097071   \n",
       "2020-11-15  ES,DE,DK,IE,IT,LV                         9.489137   \n",
       "2020-11-14  ES,DE,DK,IE,IT,LV                         9.994739   \n",
       "2020-11-13  ES,DE,DK,IE,IT,LV                        10.286851   \n",
       "2020-11-12  ES,DE,DK,IE,IT,LV                         9.919501   \n",
       "2020-11-11  ES,DE,DK,IE,IT,LV                        10.051172   \n",
       "2020-11-10  ES,DE,DK,IE,IT,LV                        10.145254   \n",
       "2020-11-09  ES,DE,DK,IE,IT,LV                         9.814023   \n",
       "2020-11-08  ES,DE,IE,IT,LV                            9.295744   \n",
       "2020-11-07  ES,DE,IE,IT,LV                            9.513253   \n",
       "2020-11-06  ES,DE,IE,IT,LV                            9.825713   \n",
       "2020-11-05  ES,DE,IE,IT,LV                            9.856454   \n",
       "2020-11-04  ES,DE,IE,IT,LV                            9.907752   \n",
       "2020-11-03  ES,DE,IE,IT,LV                           10.511474   \n",
       "2020-11-02  ES,DE,IE,IT,LV                            9.893045   \n",
       "\n",
       "                                     shared_diagnoses_per_covid_case  \n",
       "sample_date source_regions                                            \n",
       "2020-11-29  ES,DE,DK,HR,IE,IT,LV,PL                         0.021525  \n",
       "2020-11-28  ES,DE,DK,HR,IE,IT,LV,PL                         0.029685  \n",
       "2020-11-27  ES,DE,DK,HR,IE,IT,LV,PL                         0.030864  \n",
       "2020-11-26  ES,DE,DK,HR,IE,IT,LV,PL                         0.035555  \n",
       "2020-11-25  ES,DE,DK,HR,IE,IT,LV                            0.043062  \n",
       "2020-11-24  ES,DE,DK,HR,IE,IT,LV                            0.024768  \n",
       "2020-11-23  ES,DE,DK,HR,IE,IT,LV                            0.019552  \n",
       "2020-11-22  ES,DE,DK,HR,IE,IT,LV                            0.021589  \n",
       "2020-11-21  ES,DE,DK,HR,IE,IT,LV                            0.032058  \n",
       "2020-11-20  ES,DE,DK,IE,IT,LV                               0.038001  \n",
       "2020-11-19  ES,DE,DK,IE,IT,LV                               0.035613  \n",
       "2020-11-18  ES,DE,DK,IE,IT,LV                               0.041578  \n",
       "2020-11-17  ES,DE,DK,IE,IT,LV                               0.029501  \n",
       "2020-11-16  ES,DE,DK,IE,IT,LV                               0.024349  \n",
       "2020-11-15  ES,DE,DK,IE,IT,LV                               0.021868  \n",
       "2020-11-14  ES,DE,DK,IE,IT,LV                               0.030873  \n",
       "2020-11-13  ES,DE,DK,IE,IT,LV                               0.039255  \n",
       "2020-11-12  ES,DE,DK,IE,IT,LV                               0.043887  \n",
       "2020-11-11  ES,DE,DK,IE,IT,LV                               0.041641  \n",
       "2020-11-10  ES,DE,DK,IE,IT,LV                               0.028782  \n",
       "2020-11-09  ES,DE,DK,IE,IT,LV                               0.023269  \n",
       "2020-11-08  ES,DE,IE,IT,LV                                  0.025470  \n",
       "2020-11-07  ES,DE,IE,IT,LV                                  0.035778  \n",
       "2020-11-06  ES,DE,IE,IT,LV                                  0.042752  \n",
       "2020-11-05  ES,DE,IE,IT,LV                                  0.040233  \n",
       "2020-11-04  ES,DE,IE,IT,LV                                  0.043184  \n",
       "2020-11-03  ES,DE,IE,IT,LV                                  0.030591  \n",
       "2020-11-02  ES,DE,IE,IT,LV                                  0.027256  "
      ]
     },
     "execution_count": 47,
     "metadata": {},
     "output_type": "execute_result"
    }
   ],
   "source": [
    "with pd.option_context(\"mode.use_inf_as_na\", True):\n",
    "    result_summary_df = result_summary_df.fillna(0).astype(int)\n",
    "    result_summary_df[\"teks_per_shared_diagnosis\"] = \\\n",
    "        (result_summary_df.shared_teks_by_upload_date / result_summary_df.shared_diagnoses).fillna(0)\n",
    "    result_summary_df[\"shared_diagnoses_per_covid_case\"] = \\\n",
    "        (result_summary_df.shared_diagnoses / result_summary_df.covid_cases).fillna(0)\n",
    "\n",
    "result_summary_df.head(daily_plot_days)"
   ]
  },
  {
   "cell_type": "code",
   "execution_count": 48,
   "metadata": {
    "collapsed": false,
    "execution": {
     "iopub.execute_input": "2020-11-29T23:27:15.294233Z",
     "iopub.status.busy": "2020-11-29T23:27:15.291402Z",
     "iopub.status.idle": "2020-11-29T23:27:15.313029Z",
     "shell.execute_reply": "2020-11-29T23:27:15.312288Z"
    },
    "papermill": {
     "duration": 0.096876,
     "end_time": "2020-11-29T23:27:15.313165",
     "exception": false,
     "start_time": "2020-11-29T23:27:15.216289",
     "status": "completed"
    },
    "pycharm": {
     "name": "#%%\n"
    },
    "tags": []
   },
   "outputs": [
    {
     "data": {
      "text/html": [
       "<div>\n",
       "<style scoped>\n",
       "    .dataframe tbody tr th:only-of-type {\n",
       "        vertical-align: middle;\n",
       "    }\n",
       "\n",
       "    .dataframe tbody tr th {\n",
       "        vertical-align: top;\n",
       "    }\n",
       "\n",
       "    .dataframe thead th {\n",
       "        text-align: right;\n",
       "    }\n",
       "</style>\n",
       "<table border=\"1\" class=\"dataframe\">\n",
       "  <thead>\n",
       "    <tr style=\"text-align: right;\">\n",
       "      <th></th>\n",
       "      <th></th>\n",
       "      <th>covid_cases</th>\n",
       "      <th>shared_teks_by_generation_date</th>\n",
       "      <th>shared_teks_by_upload_date</th>\n",
       "      <th>shared_diagnoses</th>\n",
       "      <th>teks_per_shared_diagnosis</th>\n",
       "      <th>shared_diagnoses_per_covid_case</th>\n",
       "    </tr>\n",
       "    <tr>\n",
       "      <th>sample_date</th>\n",
       "      <th>source_regions</th>\n",
       "      <th></th>\n",
       "      <th></th>\n",
       "      <th></th>\n",
       "      <th></th>\n",
       "      <th></th>\n",
       "      <th></th>\n",
       "    </tr>\n",
       "  </thead>\n",
       "  <tbody>\n",
       "    <tr>\n",
       "      <th>2020-11-29</th>\n",
       "      <th>ES,DE,DK,HR,IE,IT,LV,PL</th>\n",
       "      <td>528180</td>\n",
       "      <td>43302</td>\n",
       "      <td>163323</td>\n",
       "      <td>15495</td>\n",
       "      <td>10.540368</td>\n",
       "      <td>0.029337</td>\n",
       "    </tr>\n",
       "    <tr>\n",
       "      <th>2020-11-28</th>\n",
       "      <th>ES,DE,DK,HR,IE,IT,LV,PL</th>\n",
       "      <td>520536</td>\n",
       "      <td>56697</td>\n",
       "      <td>160586</td>\n",
       "      <td>15335</td>\n",
       "      <td>10.471862</td>\n",
       "      <td>0.029460</td>\n",
       "    </tr>\n",
       "    <tr>\n",
       "      <th>2020-11-27</th>\n",
       "      <th>ES,DE,DK,HR,IE,IT,LV,PL</th>\n",
       "      <td>510720</td>\n",
       "      <td>69967</td>\n",
       "      <td>158163</td>\n",
       "      <td>15212</td>\n",
       "      <td>10.397252</td>\n",
       "      <td>0.029785</td>\n",
       "    </tr>\n",
       "    <tr>\n",
       "      <th>2020-11-26</th>\n",
       "      <th>ES,DE,DK,HR,IE,IT,LV,PL</th>\n",
       "      <td>496804</td>\n",
       "      <td>82387</td>\n",
       "      <td>157353</td>\n",
       "      <td>15274</td>\n",
       "      <td>10.302016</td>\n",
       "      <td>0.030745</td>\n",
       "    </tr>\n",
       "    <tr>\n",
       "      <th>2020-11-25</th>\n",
       "      <th>ES,DE,DK,HR,IE,IT,LV</th>\n",
       "      <td>481361</td>\n",
       "      <td>94349</td>\n",
       "      <td>151117</td>\n",
       "      <td>14729</td>\n",
       "      <td>10.259828</td>\n",
       "      <td>0.030599</td>\n",
       "    </tr>\n",
       "  </tbody>\n",
       "</table>\n",
       "</div>"
      ],
      "text/plain": [
       "                                     covid_cases  \\\n",
       "sample_date source_regions                         \n",
       "2020-11-29  ES,DE,DK,HR,IE,IT,LV,PL       528180   \n",
       "2020-11-28  ES,DE,DK,HR,IE,IT,LV,PL       520536   \n",
       "2020-11-27  ES,DE,DK,HR,IE,IT,LV,PL       510720   \n",
       "2020-11-26  ES,DE,DK,HR,IE,IT,LV,PL       496804   \n",
       "2020-11-25  ES,DE,DK,HR,IE,IT,LV          481361   \n",
       "\n",
       "                                     shared_teks_by_generation_date  \\\n",
       "sample_date source_regions                                            \n",
       "2020-11-29  ES,DE,DK,HR,IE,IT,LV,PL                           43302   \n",
       "2020-11-28  ES,DE,DK,HR,IE,IT,LV,PL                           56697   \n",
       "2020-11-27  ES,DE,DK,HR,IE,IT,LV,PL                           69967   \n",
       "2020-11-26  ES,DE,DK,HR,IE,IT,LV,PL                           82387   \n",
       "2020-11-25  ES,DE,DK,HR,IE,IT,LV                              94349   \n",
       "\n",
       "                                     shared_teks_by_upload_date  \\\n",
       "sample_date source_regions                                        \n",
       "2020-11-29  ES,DE,DK,HR,IE,IT,LV,PL                      163323   \n",
       "2020-11-28  ES,DE,DK,HR,IE,IT,LV,PL                      160586   \n",
       "2020-11-27  ES,DE,DK,HR,IE,IT,LV,PL                      158163   \n",
       "2020-11-26  ES,DE,DK,HR,IE,IT,LV,PL                      157353   \n",
       "2020-11-25  ES,DE,DK,HR,IE,IT,LV                         151117   \n",
       "\n",
       "                                     shared_diagnoses  \\\n",
       "sample_date source_regions                              \n",
       "2020-11-29  ES,DE,DK,HR,IE,IT,LV,PL             15495   \n",
       "2020-11-28  ES,DE,DK,HR,IE,IT,LV,PL             15335   \n",
       "2020-11-27  ES,DE,DK,HR,IE,IT,LV,PL             15212   \n",
       "2020-11-26  ES,DE,DK,HR,IE,IT,LV,PL             15274   \n",
       "2020-11-25  ES,DE,DK,HR,IE,IT,LV                14729   \n",
       "\n",
       "                                     teks_per_shared_diagnosis  \\\n",
       "sample_date source_regions                                       \n",
       "2020-11-29  ES,DE,DK,HR,IE,IT,LV,PL                  10.540368   \n",
       "2020-11-28  ES,DE,DK,HR,IE,IT,LV,PL                  10.471862   \n",
       "2020-11-27  ES,DE,DK,HR,IE,IT,LV,PL                  10.397252   \n",
       "2020-11-26  ES,DE,DK,HR,IE,IT,LV,PL                  10.302016   \n",
       "2020-11-25  ES,DE,DK,HR,IE,IT,LV                     10.259828   \n",
       "\n",
       "                                     shared_diagnoses_per_covid_case  \n",
       "sample_date source_regions                                            \n",
       "2020-11-29  ES,DE,DK,HR,IE,IT,LV,PL                         0.029337  \n",
       "2020-11-28  ES,DE,DK,HR,IE,IT,LV,PL                         0.029460  \n",
       "2020-11-27  ES,DE,DK,HR,IE,IT,LV,PL                         0.029785  \n",
       "2020-11-26  ES,DE,DK,HR,IE,IT,LV,PL                         0.030745  \n",
       "2020-11-25  ES,DE,DK,HR,IE,IT,LV                            0.030599  "
      ]
     },
     "execution_count": 48,
     "metadata": {},
     "output_type": "execute_result"
    }
   ],
   "source": [
    "weekly_result_summary_df = result_summary_df \\\n",
    "    .sort_index(ascending=True).fillna(0).rolling(7).agg({\n",
    "    \"covid_cases\": \"sum\",\n",
    "    \"shared_teks_by_generation_date\": \"sum\",\n",
    "    \"shared_teks_by_upload_date\": \"sum\",\n",
    "    \"shared_diagnoses\": \"sum\"\n",
    "}).sort_index(ascending=False)\n",
    "\n",
    "with pd.option_context(\"mode.use_inf_as_na\", True):\n",
    "    weekly_result_summary_df = weekly_result_summary_df.fillna(0).astype(int)\n",
    "    weekly_result_summary_df[\"teks_per_shared_diagnosis\"] = \\\n",
    "        (weekly_result_summary_df.shared_teks_by_upload_date / weekly_result_summary_df.shared_diagnoses).fillna(0)\n",
    "    weekly_result_summary_df[\"shared_diagnoses_per_covid_case\"] = \\\n",
    "        (weekly_result_summary_df.shared_diagnoses / weekly_result_summary_df.covid_cases).fillna(0)\n",
    "\n",
    "weekly_result_summary_df.head()"
   ]
  },
  {
   "cell_type": "code",
   "execution_count": 49,
   "metadata": {
    "collapsed": false,
    "execution": {
     "iopub.execute_input": "2020-11-29T23:27:15.459558Z",
     "iopub.status.busy": "2020-11-29T23:27:15.458838Z",
     "iopub.status.idle": "2020-11-29T23:27:15.462324Z",
     "shell.execute_reply": "2020-11-29T23:27:15.462773Z"
    },
    "papermill": {
     "duration": 0.081036,
     "end_time": "2020-11-29T23:27:15.462961",
     "exception": false,
     "start_time": "2020-11-29T23:27:15.381925",
     "status": "completed"
    },
    "pycharm": {
     "name": "#%%\n"
    },
    "tags": []
   },
   "outputs": [
    {
     "data": {
      "text/plain": [
       "{'covid_cases': 520536,\n",
       " 'shared_teks_by_generation_date': 56697,\n",
       " 'shared_teks_by_upload_date': 160586,\n",
       " 'shared_diagnoses': 15335,\n",
       " 'teks_per_shared_diagnosis': 10.471861754157157,\n",
       " 'shared_diagnoses_per_covid_case': 0.029460018135152997}"
      ]
     },
     "execution_count": 49,
     "metadata": {},
     "output_type": "execute_result"
    }
   ],
   "source": [
    "last_7_days_summary = weekly_result_summary_df.to_dict(orient=\"records\")[1]\n",
    "last_7_days_summary"
   ]
  },
  {
   "cell_type": "markdown",
   "metadata": {
    "collapsed": false,
    "papermill": {
     "duration": 0.064524,
     "end_time": "2020-11-29T23:27:15.592449",
     "exception": false,
     "start_time": "2020-11-29T23:27:15.527925",
     "status": "completed"
    },
    "tags": []
   },
   "source": [
    "## Report Results"
   ]
  },
  {
   "cell_type": "code",
   "execution_count": 50,
   "metadata": {
    "collapsed": false,
    "execution": {
     "iopub.execute_input": "2020-11-29T23:27:15.730630Z",
     "iopub.status.busy": "2020-11-29T23:27:15.729987Z",
     "iopub.status.idle": "2020-11-29T23:27:15.732399Z",
     "shell.execute_reply": "2020-11-29T23:27:15.731937Z"
    },
    "papermill": {
     "duration": 0.075083,
     "end_time": "2020-11-29T23:27:15.732668",
     "exception": false,
     "start_time": "2020-11-29T23:27:15.657585",
     "status": "completed"
    },
    "pycharm": {
     "name": "#%%\n"
    },
    "tags": []
   },
   "outputs": [],
   "source": [
    "display_column_name_mapping = {\n",
    "    \"sample_date\": \"Sample\\u00A0Date\\u00A0(UTC)\",\n",
    "    \"source_regions\": \"Source Countries\",\n",
    "    \"datetime_utc\": \"Timestamp (UTC)\",\n",
    "    \"upload_date\": \"Upload Date (UTC)\",\n",
    "    \"generation_to_upload_days\": \"Generation to Upload Period in Days\",\n",
    "    \"region\": \"Backend\",\n",
    "    \"region_x\": \"Backend\\u00A0(A)\",\n",
    "    \"region_y\": \"Backend\\u00A0(B)\",\n",
    "    \"common_teks\": \"Common TEKs Shared Between Backends\",\n",
    "    \"common_teks_fraction\": \"Fraction of TEKs in Backend (A) Available in Backend (B)\",\n",
    "    \"covid_cases\": \"COVID-19 Cases in Source Countries (7-day Rolling Average)\",\n",
    "    \"shared_teks_by_generation_date\": \"Shared TEKs by Generation Date\",\n",
    "    \"shared_teks_by_upload_date\": \"Shared TEKs by Upload Date\",\n",
    "    \"shared_diagnoses\": \"Shared Diagnoses (Estimation)\",\n",
    "    \"teks_per_shared_diagnosis\": \"TEKs Uploaded per Shared Diagnosis\",\n",
    "    \"shared_diagnoses_per_covid_case\": \"Usage Ratio (Fraction of Cases in Source Countries Which Shared Diagnosis)\",\n",
    "    \"shared_teks_uploaded_on_generation_date\": \"Shared TEKs Uploaded on Generation Date\",\n",
    "}"
   ]
  },
  {
   "cell_type": "code",
   "execution_count": 51,
   "metadata": {
    "collapsed": false,
    "execution": {
     "iopub.execute_input": "2020-11-29T23:27:15.876024Z",
     "iopub.status.busy": "2020-11-29T23:27:15.875448Z",
     "iopub.status.idle": "2020-11-29T23:27:15.877455Z",
     "shell.execute_reply": "2020-11-29T23:27:15.877902Z"
    },
    "papermill": {
     "duration": 0.073987,
     "end_time": "2020-11-29T23:27:15.878055",
     "exception": false,
     "start_time": "2020-11-29T23:27:15.804068",
     "status": "completed"
    },
    "pycharm": {
     "name": "#%%\n"
    },
    "tags": []
   },
   "outputs": [],
   "source": [
    "summary_columns = [\n",
    "    \"covid_cases\",\n",
    "    \"shared_teks_by_generation_date\",\n",
    "    \"shared_teks_by_upload_date\",\n",
    "    \"shared_teks_uploaded_on_generation_date\",\n",
    "    \"shared_diagnoses\",\n",
    "    \"teks_per_shared_diagnosis\",\n",
    "    \"shared_diagnoses_per_covid_case\",\n",
    "]"
   ]
  },
  {
   "cell_type": "markdown",
   "metadata": {
    "collapsed": false,
    "papermill": {
     "duration": 0.067109,
     "end_time": "2020-11-29T23:27:16.015659",
     "exception": false,
     "start_time": "2020-11-29T23:27:15.948550",
     "status": "completed"
    },
    "tags": []
   },
   "source": [
    "### Daily Summary Table"
   ]
  },
  {
   "cell_type": "code",
   "execution_count": 52,
   "metadata": {
    "collapsed": false,
    "execution": {
     "iopub.execute_input": "2020-11-29T23:27:16.175007Z",
     "iopub.status.busy": "2020-11-29T23:27:16.174306Z",
     "iopub.status.idle": "2020-11-29T23:27:16.177167Z",
     "shell.execute_reply": "2020-11-29T23:27:16.177612Z"
    },
    "papermill": {
     "duration": 0.094059,
     "end_time": "2020-11-29T23:27:16.177829",
     "exception": false,
     "start_time": "2020-11-29T23:27:16.083770",
     "status": "completed"
    },
    "pycharm": {
     "name": "#%%\n"
    },
    "tags": []
   },
   "outputs": [
    {
     "data": {
      "text/html": [
       "<div>\n",
       "<style scoped>\n",
       "    .dataframe tbody tr th:only-of-type {\n",
       "        vertical-align: middle;\n",
       "    }\n",
       "\n",
       "    .dataframe tbody tr th {\n",
       "        vertical-align: top;\n",
       "    }\n",
       "\n",
       "    .dataframe thead th {\n",
       "        text-align: right;\n",
       "    }\n",
       "</style>\n",
       "<table border=\"1\" class=\"dataframe\">\n",
       "  <thead>\n",
       "    <tr style=\"text-align: right;\">\n",
       "      <th></th>\n",
       "      <th></th>\n",
       "      <th>COVID-19 Cases in Source Countries (7-day Rolling Average)</th>\n",
       "      <th>Shared TEKs by Generation Date</th>\n",
       "      <th>Shared TEKs by Upload Date</th>\n",
       "      <th>Shared TEKs Uploaded on Generation Date</th>\n",
       "      <th>Shared Diagnoses (Estimation)</th>\n",
       "      <th>TEKs Uploaded per Shared Diagnosis</th>\n",
       "      <th>Usage Ratio (Fraction of Cases in Source Countries Which Shared Diagnosis)</th>\n",
       "    </tr>\n",
       "    <tr>\n",
       "      <th>Sample Date (UTC)</th>\n",
       "      <th>Source Countries</th>\n",
       "      <th></th>\n",
       "      <th></th>\n",
       "      <th></th>\n",
       "      <th></th>\n",
       "      <th></th>\n",
       "      <th></th>\n",
       "      <th></th>\n",
       "    </tr>\n",
       "  </thead>\n",
       "  <tbody>\n",
       "    <tr>\n",
       "      <th>2020-11-29</th>\n",
       "      <th>ES,DE,DK,HR,IE,IT,LV,PL</th>\n",
       "      <td>78235</td>\n",
       "      <td>128</td>\n",
       "      <td>17305</td>\n",
       "      <td>128</td>\n",
       "      <td>1684</td>\n",
       "      <td>10.276128</td>\n",
       "      <td>0.021525</td>\n",
       "    </tr>\n",
       "    <tr>\n",
       "      <th>2020-11-28</th>\n",
       "      <th>ES,DE,DK,HR,IE,IT,LV,PL</th>\n",
       "      <td>80782</td>\n",
       "      <td>1201</td>\n",
       "      <td>25028</td>\n",
       "      <td>159</td>\n",
       "      <td>2398</td>\n",
       "      <td>10.437031</td>\n",
       "      <td>0.029685</td>\n",
       "    </tr>\n",
       "    <tr>\n",
       "      <th>2020-11-27</th>\n",
       "      <th>ES,DE,DK,HR,IE,IT,LV,PL</th>\n",
       "      <td>82782</td>\n",
       "      <td>3722</td>\n",
       "      <td>27522</td>\n",
       "      <td>254</td>\n",
       "      <td>2555</td>\n",
       "      <td>10.771820</td>\n",
       "      <td>0.030864</td>\n",
       "    </tr>\n",
       "    <tr>\n",
       "      <th>2020-11-26</th>\n",
       "      <th>ES,DE,DK,HR,IE,IT,LV,PL</th>\n",
       "      <td>85417</td>\n",
       "      <td>6142</td>\n",
       "      <td>31914</td>\n",
       "      <td>216</td>\n",
       "      <td>3037</td>\n",
       "      <td>10.508396</td>\n",
       "      <td>0.035555</td>\n",
       "    </tr>\n",
       "    <tr>\n",
       "      <th>2020-11-25</th>\n",
       "      <th>ES,DE,DK,HR,IE,IT,LV</th>\n",
       "      <td>65533</td>\n",
       "      <td>8553</td>\n",
       "      <td>30693</td>\n",
       "      <td>227</td>\n",
       "      <td>2822</td>\n",
       "      <td>10.876329</td>\n",
       "      <td>0.043062</td>\n",
       "    </tr>\n",
       "    <tr>\n",
       "      <th>...</th>\n",
       "      <th>...</th>\n",
       "      <td>...</td>\n",
       "      <td>...</td>\n",
       "      <td>...</td>\n",
       "      <td>...</td>\n",
       "      <td>...</td>\n",
       "      <td>...</td>\n",
       "      <td>...</td>\n",
       "    </tr>\n",
       "    <tr>\n",
       "      <th>2020-09-11</th>\n",
       "      <th>ES</th>\n",
       "      <td>9620</td>\n",
       "      <td>75</td>\n",
       "      <td>46</td>\n",
       "      <td>0</td>\n",
       "      <td>19</td>\n",
       "      <td>2.421053</td>\n",
       "      <td>0.001975</td>\n",
       "    </tr>\n",
       "    <tr>\n",
       "      <th>2020-09-10</th>\n",
       "      <th>ES</th>\n",
       "      <td>9376</td>\n",
       "      <td>68</td>\n",
       "      <td>45</td>\n",
       "      <td>0</td>\n",
       "      <td>15</td>\n",
       "      <td>3.000000</td>\n",
       "      <td>0.001600</td>\n",
       "    </tr>\n",
       "    <tr>\n",
       "      <th>2020-09-09</th>\n",
       "      <th>ES</th>\n",
       "      <td>9118</td>\n",
       "      <td>60</td>\n",
       "      <td>67</td>\n",
       "      <td>0</td>\n",
       "      <td>21</td>\n",
       "      <td>3.190476</td>\n",
       "      <td>0.002303</td>\n",
       "    </tr>\n",
       "    <tr>\n",
       "      <th>2020-09-08</th>\n",
       "      <th>ES</th>\n",
       "      <td>9077</td>\n",
       "      <td>61</td>\n",
       "      <td>44</td>\n",
       "      <td>0</td>\n",
       "      <td>18</td>\n",
       "      <td>2.444444</td>\n",
       "      <td>0.001983</td>\n",
       "    </tr>\n",
       "    <tr>\n",
       "      <th>2020-09-07</th>\n",
       "      <th>ES</th>\n",
       "      <td>8956</td>\n",
       "      <td>58</td>\n",
       "      <td>52</td>\n",
       "      <td>0</td>\n",
       "      <td>22</td>\n",
       "      <td>2.363636</td>\n",
       "      <td>0.002456</td>\n",
       "    </tr>\n",
       "  </tbody>\n",
       "</table>\n",
       "<p>84 rows × 7 columns</p>\n",
       "</div>"
      ],
      "text/plain": [
       "                                           COVID-19 Cases in Source Countries (7-day Rolling Average)  \\\n",
       "Sample Date (UTC) Source Countries                                                                      \n",
       "2020-11-29        ES,DE,DK,HR,IE,IT,LV,PL                                              78235            \n",
       "2020-11-28        ES,DE,DK,HR,IE,IT,LV,PL                                              80782            \n",
       "2020-11-27        ES,DE,DK,HR,IE,IT,LV,PL                                              82782            \n",
       "2020-11-26        ES,DE,DK,HR,IE,IT,LV,PL                                              85417            \n",
       "2020-11-25        ES,DE,DK,HR,IE,IT,LV                                                 65533            \n",
       "...                                                                                      ...            \n",
       "2020-09-11        ES                                                                    9620            \n",
       "2020-09-10        ES                                                                    9376            \n",
       "2020-09-09        ES                                                                    9118            \n",
       "2020-09-08        ES                                                                    9077            \n",
       "2020-09-07        ES                                                                    8956            \n",
       "\n",
       "                                           Shared TEKs by Generation Date  \\\n",
       "Sample Date (UTC) Source Countries                                          \n",
       "2020-11-29        ES,DE,DK,HR,IE,IT,LV,PL                             128   \n",
       "2020-11-28        ES,DE,DK,HR,IE,IT,LV,PL                            1201   \n",
       "2020-11-27        ES,DE,DK,HR,IE,IT,LV,PL                            3722   \n",
       "2020-11-26        ES,DE,DK,HR,IE,IT,LV,PL                            6142   \n",
       "2020-11-25        ES,DE,DK,HR,IE,IT,LV                               8553   \n",
       "...                                                                   ...   \n",
       "2020-09-11        ES                                                   75   \n",
       "2020-09-10        ES                                                   68   \n",
       "2020-09-09        ES                                                   60   \n",
       "2020-09-08        ES                                                   61   \n",
       "2020-09-07        ES                                                   58   \n",
       "\n",
       "                                           Shared TEKs by Upload Date  \\\n",
       "Sample Date (UTC) Source Countries                                      \n",
       "2020-11-29        ES,DE,DK,HR,IE,IT,LV,PL                       17305   \n",
       "2020-11-28        ES,DE,DK,HR,IE,IT,LV,PL                       25028   \n",
       "2020-11-27        ES,DE,DK,HR,IE,IT,LV,PL                       27522   \n",
       "2020-11-26        ES,DE,DK,HR,IE,IT,LV,PL                       31914   \n",
       "2020-11-25        ES,DE,DK,HR,IE,IT,LV                          30693   \n",
       "...                                                               ...   \n",
       "2020-09-11        ES                                               46   \n",
       "2020-09-10        ES                                               45   \n",
       "2020-09-09        ES                                               67   \n",
       "2020-09-08        ES                                               44   \n",
       "2020-09-07        ES                                               52   \n",
       "\n",
       "                                           Shared TEKs Uploaded on Generation Date  \\\n",
       "Sample Date (UTC) Source Countries                                                   \n",
       "2020-11-29        ES,DE,DK,HR,IE,IT,LV,PL                                      128   \n",
       "2020-11-28        ES,DE,DK,HR,IE,IT,LV,PL                                      159   \n",
       "2020-11-27        ES,DE,DK,HR,IE,IT,LV,PL                                      254   \n",
       "2020-11-26        ES,DE,DK,HR,IE,IT,LV,PL                                      216   \n",
       "2020-11-25        ES,DE,DK,HR,IE,IT,LV                                         227   \n",
       "...                                                                            ...   \n",
       "2020-09-11        ES                                                             0   \n",
       "2020-09-10        ES                                                             0   \n",
       "2020-09-09        ES                                                             0   \n",
       "2020-09-08        ES                                                             0   \n",
       "2020-09-07        ES                                                             0   \n",
       "\n",
       "                                           Shared Diagnoses (Estimation)  \\\n",
       "Sample Date (UTC) Source Countries                                         \n",
       "2020-11-29        ES,DE,DK,HR,IE,IT,LV,PL                           1684   \n",
       "2020-11-28        ES,DE,DK,HR,IE,IT,LV,PL                           2398   \n",
       "2020-11-27        ES,DE,DK,HR,IE,IT,LV,PL                           2555   \n",
       "2020-11-26        ES,DE,DK,HR,IE,IT,LV,PL                           3037   \n",
       "2020-11-25        ES,DE,DK,HR,IE,IT,LV                              2822   \n",
       "...                                                                  ...   \n",
       "2020-09-11        ES                                                  19   \n",
       "2020-09-10        ES                                                  15   \n",
       "2020-09-09        ES                                                  21   \n",
       "2020-09-08        ES                                                  18   \n",
       "2020-09-07        ES                                                  22   \n",
       "\n",
       "                                           TEKs Uploaded per Shared Diagnosis  \\\n",
       "Sample Date (UTC) Source Countries                                              \n",
       "2020-11-29        ES,DE,DK,HR,IE,IT,LV,PL                           10.276128   \n",
       "2020-11-28        ES,DE,DK,HR,IE,IT,LV,PL                           10.437031   \n",
       "2020-11-27        ES,DE,DK,HR,IE,IT,LV,PL                           10.771820   \n",
       "2020-11-26        ES,DE,DK,HR,IE,IT,LV,PL                           10.508396   \n",
       "2020-11-25        ES,DE,DK,HR,IE,IT,LV                              10.876329   \n",
       "...                                                                       ...   \n",
       "2020-09-11        ES                                                 2.421053   \n",
       "2020-09-10        ES                                                 3.000000   \n",
       "2020-09-09        ES                                                 3.190476   \n",
       "2020-09-08        ES                                                 2.444444   \n",
       "2020-09-07        ES                                                 2.363636   \n",
       "\n",
       "                                           Usage Ratio (Fraction of Cases in Source Countries Which Shared Diagnosis)  \n",
       "Sample Date (UTC) Source Countries                                                                                     \n",
       "2020-11-29        ES,DE,DK,HR,IE,IT,LV,PL                                           0.021525                           \n",
       "2020-11-28        ES,DE,DK,HR,IE,IT,LV,PL                                           0.029685                           \n",
       "2020-11-27        ES,DE,DK,HR,IE,IT,LV,PL                                           0.030864                           \n",
       "2020-11-26        ES,DE,DK,HR,IE,IT,LV,PL                                           0.035555                           \n",
       "2020-11-25        ES,DE,DK,HR,IE,IT,LV                                              0.043062                           \n",
       "...                                                                                      ...                           \n",
       "2020-09-11        ES                                                                0.001975                           \n",
       "2020-09-10        ES                                                                0.001600                           \n",
       "2020-09-09        ES                                                                0.002303                           \n",
       "2020-09-08        ES                                                                0.001983                           \n",
       "2020-09-07        ES                                                                0.002456                           \n",
       "\n",
       "[84 rows x 7 columns]"
      ]
     },
     "execution_count": 52,
     "metadata": {},
     "output_type": "execute_result"
    }
   ],
   "source": [
    "result_summary_df_ = result_summary_df.copy()\n",
    "result_summary_df = result_summary_df[summary_columns]\n",
    "result_summary_with_display_names_df = result_summary_df \\\n",
    "    .rename_axis(index=display_column_name_mapping) \\\n",
    "    .rename(columns=display_column_name_mapping)\n",
    "result_summary_with_display_names_df"
   ]
  },
  {
   "cell_type": "markdown",
   "metadata": {
    "collapsed": false,
    "papermill": {
     "duration": 0.071528,
     "end_time": "2020-11-29T23:27:16.319766",
     "exception": false,
     "start_time": "2020-11-29T23:27:16.248238",
     "status": "completed"
    },
    "tags": []
   },
   "source": [
    "### Daily Summary Plots"
   ]
  },
  {
   "cell_type": "code",
   "execution_count": 53,
   "metadata": {
    "collapsed": false,
    "execution": {
     "iopub.execute_input": "2020-11-29T23:27:16.472940Z",
     "iopub.status.busy": "2020-11-29T23:27:16.472344Z",
     "iopub.status.idle": "2020-11-29T23:27:18.398384Z",
     "shell.execute_reply": "2020-11-29T23:27:18.397818Z"
    },
    "papermill": {
     "duration": 2.007327,
     "end_time": "2020-11-29T23:27:18.398604",
     "exception": false,
     "start_time": "2020-11-29T23:27:16.391277",
     "status": "completed"
    },
    "pycharm": {
     "name": "#%%\n"
    },
    "tags": []
   },
   "outputs": [
    {
     "data": {
      "image/png": "[encoded data removed]",
      "text/plain": [
       "<Figure size 1080x1584 with 7 Axes>"
      ]
     },
     "metadata": {},
     "output_type": "display_data"
    }
   ],
   "source": [
    "result_plot_summary_df = result_summary_df.head(daily_plot_days)[summary_columns] \\\n",
    "    .droplevel(level=[\"source_regions\"]) \\\n",
    "    .rename_axis(index=display_column_name_mapping) \\\n",
    "    .rename(columns=display_column_name_mapping)\n",
    "summary_ax_list = result_plot_summary_df.sort_index(ascending=True).plot.bar(\n",
    "    title=f\"Daily Summary\",\n",
    "    rot=45, subplots=True, figsize=(15, 22), legend=False)\n",
    "ax_ = summary_ax_list[-1]\n",
    "ax_.get_figure().tight_layout()\n",
    "ax_.get_figure().subplots_adjust(top=0.95)\n",
    "ax_.yaxis.set_major_formatter(matplotlib.ticker.PercentFormatter(1.0))\n",
    "_ = ax_.set_xticklabels(sorted(result_plot_summary_df.index.strftime(\"%Y-%m-%d\").tolist()))"
   ]
  },
  {
   "cell_type": "markdown",
   "metadata": {
    "execution": {
     "iopub.execute_input": "2020-09-02T08:20:14.568088Z",
     "iopub.status.busy": "2020-09-02T08:20:14.567425Z",
     "iopub.status.idle": "2020-09-02T08:20:14.571422Z",
     "shell.execute_reply": "2020-09-02T08:20:14.571952Z"
    },
    "papermill": {
     "duration": 0.073136,
     "end_time": "2020-11-29T23:27:18.547590",
     "exception": false,
     "start_time": "2020-11-29T23:27:18.474454",
     "status": "completed"
    },
    "pycharm": {
     "name": "#%% md\n"
    },
    "tags": []
   },
   "source": [
    "### Daily Generation to Upload Period Table"
   ]
  },
  {
   "cell_type": "code",
   "execution_count": 54,
   "metadata": {
    "execution": {
     "iopub.execute_input": "2020-11-29T23:27:18.720788Z",
     "iopub.status.busy": "2020-11-29T23:27:18.719835Z",
     "iopub.status.idle": "2020-11-29T23:27:18.723433Z",
     "shell.execute_reply": "2020-11-29T23:27:18.723878Z"
    },
    "papermill": {
     "duration": 0.094714,
     "end_time": "2020-11-29T23:27:18.724035",
     "exception": false,
     "start_time": "2020-11-29T23:27:18.629321",
     "status": "completed"
    },
    "pycharm": {
     "name": "#%%\n"
    },
    "tags": []
   },
   "outputs": [
    {
     "data": {
      "text/html": [
       "<div>\n",
       "<style scoped>\n",
       "    .dataframe tbody tr th:only-of-type {\n",
       "        vertical-align: middle;\n",
       "    }\n",
       "\n",
       "    .dataframe tbody tr th {\n",
       "        vertical-align: top;\n",
       "    }\n",
       "\n",
       "    .dataframe thead th {\n",
       "        text-align: right;\n",
       "    }\n",
       "</style>\n",
       "<table border=\"1\" class=\"dataframe\">\n",
       "  <thead>\n",
       "    <tr style=\"text-align: right;\">\n",
       "      <th>Generation to Upload Period in Days</th>\n",
       "      <th>0</th>\n",
       "      <th>1</th>\n",
       "      <th>2</th>\n",
       "      <th>3</th>\n",
       "      <th>4</th>\n",
       "      <th>5</th>\n",
       "      <th>6</th>\n",
       "      <th>7</th>\n",
       "      <th>8</th>\n",
       "      <th>9</th>\n",
       "      <th>10</th>\n",
       "      <th>11</th>\n",
       "      <th>12</th>\n",
       "      <th>13</th>\n",
       "    </tr>\n",
       "    <tr>\n",
       "      <th>Upload Date (UTC)</th>\n",
       "      <th></th>\n",
       "      <th></th>\n",
       "      <th></th>\n",
       "      <th></th>\n",
       "      <th></th>\n",
       "      <th></th>\n",
       "      <th></th>\n",
       "      <th></th>\n",
       "      <th></th>\n",
       "      <th></th>\n",
       "      <th></th>\n",
       "      <th></th>\n",
       "      <th></th>\n",
       "      <th></th>\n",
       "    </tr>\n",
       "  </thead>\n",
       "  <tbody>\n",
       "    <tr>\n",
       "      <th>2020-11-29</th>\n",
       "      <td>128</td>\n",
       "      <td>1042</td>\n",
       "      <td>1684</td>\n",
       "      <td>1546</td>\n",
       "      <td>1430</td>\n",
       "      <td>1404</td>\n",
       "      <td>1349</td>\n",
       "      <td>1320</td>\n",
       "      <td>1291</td>\n",
       "      <td>1262</td>\n",
       "      <td>1227</td>\n",
       "      <td>1217</td>\n",
       "      <td>1215</td>\n",
       "      <td>1190</td>\n",
       "    </tr>\n",
       "    <tr>\n",
       "      <th>2020-11-28</th>\n",
       "      <td>159</td>\n",
       "      <td>1784</td>\n",
       "      <td>2398</td>\n",
       "      <td>2183</td>\n",
       "      <td>2098</td>\n",
       "      <td>2006</td>\n",
       "      <td>1978</td>\n",
       "      <td>1883</td>\n",
       "      <td>1817</td>\n",
       "      <td>1810</td>\n",
       "      <td>1771</td>\n",
       "      <td>1736</td>\n",
       "      <td>1711</td>\n",
       "      <td>1694</td>\n",
       "    </tr>\n",
       "    <tr>\n",
       "      <th>2020-11-27</th>\n",
       "      <td>254</td>\n",
       "      <td>1982</td>\n",
       "      <td>2555</td>\n",
       "      <td>2355</td>\n",
       "      <td>2279</td>\n",
       "      <td>2169</td>\n",
       "      <td>2144</td>\n",
       "      <td>2101</td>\n",
       "      <td>2008</td>\n",
       "      <td>2004</td>\n",
       "      <td>1966</td>\n",
       "      <td>1955</td>\n",
       "      <td>1871</td>\n",
       "      <td>1879</td>\n",
       "    </tr>\n",
       "    <tr>\n",
       "      <th>2020-11-26</th>\n",
       "      <td>216</td>\n",
       "      <td>2158</td>\n",
       "      <td>3037</td>\n",
       "      <td>2811</td>\n",
       "      <td>2643</td>\n",
       "      <td>2534</td>\n",
       "      <td>2479</td>\n",
       "      <td>2416</td>\n",
       "      <td>2358</td>\n",
       "      <td>2350</td>\n",
       "      <td>2301</td>\n",
       "      <td>2214</td>\n",
       "      <td>2178</td>\n",
       "      <td>2219</td>\n",
       "    </tr>\n",
       "    <tr>\n",
       "      <th>2020-11-25</th>\n",
       "      <td>227</td>\n",
       "      <td>1847</td>\n",
       "      <td>2822</td>\n",
       "      <td>2722</td>\n",
       "      <td>2613</td>\n",
       "      <td>2523</td>\n",
       "      <td>2448</td>\n",
       "      <td>2336</td>\n",
       "      <td>2289</td>\n",
       "      <td>2242</td>\n",
       "      <td>2185</td>\n",
       "      <td>2160</td>\n",
       "      <td>2171</td>\n",
       "      <td>2108</td>\n",
       "    </tr>\n",
       "    <tr>\n",
       "      <th>2020-11-24</th>\n",
       "      <td>164</td>\n",
       "      <td>1237</td>\n",
       "      <td>1667</td>\n",
       "      <td>1624</td>\n",
       "      <td>1537</td>\n",
       "      <td>1472</td>\n",
       "      <td>1391</td>\n",
       "      <td>1348</td>\n",
       "      <td>1308</td>\n",
       "      <td>1265</td>\n",
       "      <td>1235</td>\n",
       "      <td>1210</td>\n",
       "      <td>1184</td>\n",
       "      <td>1158</td>\n",
       "    </tr>\n",
       "    <tr>\n",
       "      <th>2020-11-23</th>\n",
       "      <td>147</td>\n",
       "      <td>892</td>\n",
       "      <td>1332</td>\n",
       "      <td>1264</td>\n",
       "      <td>1167</td>\n",
       "      <td>1080</td>\n",
       "      <td>1011</td>\n",
       "      <td>964</td>\n",
       "      <td>915</td>\n",
       "      <td>897</td>\n",
       "      <td>880</td>\n",
       "      <td>854</td>\n",
       "      <td>835</td>\n",
       "      <td>823</td>\n",
       "    </tr>\n",
       "    <tr>\n",
       "      <th>2020-11-22</th>\n",
       "      <td>132</td>\n",
       "      <td>897</td>\n",
       "      <td>1524</td>\n",
       "      <td>1359</td>\n",
       "      <td>1256</td>\n",
       "      <td>1189</td>\n",
       "      <td>1133</td>\n",
       "      <td>1091</td>\n",
       "      <td>1055</td>\n",
       "      <td>1038</td>\n",
       "      <td>1008</td>\n",
       "      <td>982</td>\n",
       "      <td>962</td>\n",
       "      <td>942</td>\n",
       "    </tr>\n",
       "    <tr>\n",
       "      <th>2020-11-21</th>\n",
       "      <td>153</td>\n",
       "      <td>1423</td>\n",
       "      <td>2275</td>\n",
       "      <td>2012</td>\n",
       "      <td>1903</td>\n",
       "      <td>1834</td>\n",
       "      <td>1749</td>\n",
       "      <td>1707</td>\n",
       "      <td>1676</td>\n",
       "      <td>1655</td>\n",
       "      <td>1607</td>\n",
       "      <td>1562</td>\n",
       "      <td>1539</td>\n",
       "      <td>1510</td>\n",
       "    </tr>\n",
       "    <tr>\n",
       "      <th>2020-11-20</th>\n",
       "      <td>212</td>\n",
       "      <td>1711</td>\n",
       "      <td>2617</td>\n",
       "      <td>2383</td>\n",
       "      <td>2249</td>\n",
       "      <td>2174</td>\n",
       "      <td>2111</td>\n",
       "      <td>2045</td>\n",
       "      <td>1979</td>\n",
       "      <td>1930</td>\n",
       "      <td>1878</td>\n",
       "      <td>1844</td>\n",
       "      <td>1799</td>\n",
       "      <td>1780</td>\n",
       "    </tr>\n",
       "    <tr>\n",
       "      <th>2020-11-19</th>\n",
       "      <td>211</td>\n",
       "      <td>1759</td>\n",
       "      <td>2492</td>\n",
       "      <td>2260</td>\n",
       "      <td>2112</td>\n",
       "      <td>2064</td>\n",
       "      <td>2010</td>\n",
       "      <td>1954</td>\n",
       "      <td>1893</td>\n",
       "      <td>1850</td>\n",
       "      <td>1818</td>\n",
       "      <td>1778</td>\n",
       "      <td>1756</td>\n",
       "      <td>1721</td>\n",
       "    </tr>\n",
       "    <tr>\n",
       "      <th>2020-11-18</th>\n",
       "      <td>290</td>\n",
       "      <td>2190</td>\n",
       "      <td>2915</td>\n",
       "      <td>2586</td>\n",
       "      <td>2490</td>\n",
       "      <td>2415</td>\n",
       "      <td>2323</td>\n",
       "      <td>2250</td>\n",
       "      <td>2177</td>\n",
       "      <td>2117</td>\n",
       "      <td>2071</td>\n",
       "      <td>2033</td>\n",
       "      <td>2006</td>\n",
       "      <td>1969</td>\n",
       "    </tr>\n",
       "    <tr>\n",
       "      <th>2020-11-17</th>\n",
       "      <td>222</td>\n",
       "      <td>1727</td>\n",
       "      <td>2099</td>\n",
       "      <td>2040</td>\n",
       "      <td>1955</td>\n",
       "      <td>1845</td>\n",
       "      <td>1759</td>\n",
       "      <td>1694</td>\n",
       "      <td>1645</td>\n",
       "      <td>1599</td>\n",
       "      <td>1578</td>\n",
       "      <td>1549</td>\n",
       "      <td>1529</td>\n",
       "      <td>1493</td>\n",
       "    </tr>\n",
       "    <tr>\n",
       "      <th>2020-11-16</th>\n",
       "      <td>194</td>\n",
       "      <td>1375</td>\n",
       "      <td>1741</td>\n",
       "      <td>1666</td>\n",
       "      <td>1545</td>\n",
       "      <td>1422</td>\n",
       "      <td>1336</td>\n",
       "      <td>1284</td>\n",
       "      <td>1236</td>\n",
       "      <td>1210</td>\n",
       "      <td>1189</td>\n",
       "      <td>1156</td>\n",
       "      <td>1129</td>\n",
       "      <td>1096</td>\n",
       "    </tr>\n",
       "  </tbody>\n",
       "</table>\n",
       "</div>"
      ],
      "text/plain": [
       "Generation to Upload Period in Days   0     1     2     3     4     5     6   \\\n",
       "Upload Date (UTC)                                                              \n",
       "2020-11-29                           128  1042  1684  1546  1430  1404  1349   \n",
       "2020-11-28                           159  1784  2398  2183  2098  2006  1978   \n",
       "2020-11-27                           254  1982  2555  2355  2279  2169  2144   \n",
       "2020-11-26                           216  2158  3037  2811  2643  2534  2479   \n",
       "2020-11-25                           227  1847  2822  2722  2613  2523  2448   \n",
       "2020-11-24                           164  1237  1667  1624  1537  1472  1391   \n",
       "2020-11-23                           147   892  1332  1264  1167  1080  1011   \n",
       "2020-11-22                           132   897  1524  1359  1256  1189  1133   \n",
       "2020-11-21                           153  1423  2275  2012  1903  1834  1749   \n",
       "2020-11-20                           212  1711  2617  2383  2249  2174  2111   \n",
       "2020-11-19                           211  1759  2492  2260  2112  2064  2010   \n",
       "2020-11-18                           290  2190  2915  2586  2490  2415  2323   \n",
       "2020-11-17                           222  1727  2099  2040  1955  1845  1759   \n",
       "2020-11-16                           194  1375  1741  1666  1545  1422  1336   \n",
       "\n",
       "Generation to Upload Period in Days    7     8     9     10    11    12    13  \n",
       "Upload Date (UTC)                                                              \n",
       "2020-11-29                           1320  1291  1262  1227  1217  1215  1190  \n",
       "2020-11-28                           1883  1817  1810  1771  1736  1711  1694  \n",
       "2020-11-27                           2101  2008  2004  1966  1955  1871  1879  \n",
       "2020-11-26                           2416  2358  2350  2301  2214  2178  2219  \n",
       "2020-11-25                           2336  2289  2242  2185  2160  2171  2108  \n",
       "2020-11-24                           1348  1308  1265  1235  1210  1184  1158  \n",
       "2020-11-23                            964   915   897   880   854   835   823  \n",
       "2020-11-22                           1091  1055  1038  1008   982   962   942  \n",
       "2020-11-21                           1707  1676  1655  1607  1562  1539  1510  \n",
       "2020-11-20                           2045  1979  1930  1878  1844  1799  1780  \n",
       "2020-11-19                           1954  1893  1850  1818  1778  1756  1721  \n",
       "2020-11-18                           2250  2177  2117  2071  2033  2006  1969  \n",
       "2020-11-17                           1694  1645  1599  1578  1549  1529  1493  \n",
       "2020-11-16                           1284  1236  1210  1189  1156  1129  1096  "
      ]
     },
     "execution_count": 54,
     "metadata": {},
     "output_type": "execute_result"
    }
   ],
   "source": [
    "display_generation_to_upload_period_pivot_df = \\\n",
    "    generation_to_upload_period_pivot_df \\\n",
    "        .head(backend_generation_days)\n",
    "display_generation_to_upload_period_pivot_df \\\n",
    "    .head(backend_generation_days) \\\n",
    "    .rename_axis(columns=display_column_name_mapping) \\\n",
    "    .rename_axis(index=display_column_name_mapping)"
   ]
  },
  {
   "cell_type": "code",
   "execution_count": 55,
   "metadata": {
    "collapsed": false,
    "execution": {
     "iopub.execute_input": "2020-11-29T23:27:18.875523Z",
     "iopub.status.busy": "2020-11-29T23:27:18.874934Z",
     "iopub.status.idle": "2020-11-29T23:27:19.867320Z",
     "shell.execute_reply": "2020-11-29T23:27:19.867778Z"
    },
    "papermill": {
     "duration": 1.073223,
     "end_time": "2020-11-29T23:27:19.867932",
     "exception": false,
     "start_time": "2020-11-29T23:27:18.794709",
     "status": "completed"
    },
    "pycharm": {
     "name": "#%%\n"
    },
    "tags": []
   },
   "outputs": [
    {
     "data": {
      "image/png": "[encoded data removed]",
      "text/plain": [
       "<Figure size 864x676.8 with 2 Axes>"
      ]
     },
     "metadata": {},
     "output_type": "display_data"
    }
   ],
   "source": [
    "fig, generation_to_upload_period_pivot_table_ax = plt.subplots(\n",
    "    figsize=(12, 1 + 0.6 * len(display_generation_to_upload_period_pivot_df)))\n",
    "generation_to_upload_period_pivot_table_ax.set_title(\n",
    "    \"Shared TEKs Generation to Upload Period Table\")\n",
    "sns.heatmap(\n",
    "    data=display_generation_to_upload_period_pivot_df\n",
    "        .rename_axis(columns=display_column_name_mapping)\n",
    "        .rename_axis(index=display_column_name_mapping),\n",
    "    fmt=\".0f\",\n",
    "    annot=True,\n",
    "    ax=generation_to_upload_period_pivot_table_ax)\n",
    "generation_to_upload_period_pivot_table_ax.get_figure().tight_layout()"
   ]
  },
  {
   "cell_type": "markdown",
   "metadata": {
    "collapsed": false,
    "papermill": {
     "duration": 0.080649,
     "end_time": "2020-11-29T23:27:20.031158",
     "exception": false,
     "start_time": "2020-11-29T23:27:19.950509",
     "status": "completed"
    },
    "tags": []
   },
   "source": [
    "### Hourly Summary Plots "
   ]
  },
  {
   "cell_type": "code",
   "execution_count": 56,
   "metadata": {
    "collapsed": false,
    "execution": {
     "iopub.execute_input": "2020-11-29T23:27:20.223686Z",
     "iopub.status.busy": "2020-11-29T23:27:20.222115Z",
     "iopub.status.idle": "2020-11-29T23:27:20.530541Z",
     "shell.execute_reply": "2020-11-29T23:27:20.531338Z"
    },
    "papermill": {
     "duration": 0.413444,
     "end_time": "2020-11-29T23:27:20.531515",
     "exception": false,
     "start_time": "2020-11-29T23:27:20.118071",
     "status": "completed"
    },
    "pycharm": {
     "name": "#%%\n"
    },
    "tags": []
   },
   "outputs": [
    {
     "data": {
      "image/png": "[encoded data removed]",
      "text/plain": [
       "<Figure size 1080x432 with 1 Axes>"
      ]
     },
     "metadata": {},
     "output_type": "display_data"
    }
   ],
   "source": [
    "hourly_summary_ax_list = hourly_summary_df \\\n",
    "    .rename_axis(index=display_column_name_mapping) \\\n",
    "    .rename(columns=display_column_name_mapping) \\\n",
    "    .plot.bar(\n",
    "        title=f\"Last 24h Summary\",\n",
    "        rot=45, subplots=True, legend=False)\n",
    "ax_ = hourly_summary_ax_list[-1]\n",
    "ax_.get_figure().tight_layout()\n",
    "ax_.get_figure().subplots_adjust(top=0.9)\n",
    "_ = ax_.set_xticklabels(sorted(hourly_summary_df.index.strftime(\"%Y-%m-%d@%H\").tolist()))"
   ]
  },
  {
   "cell_type": "markdown",
   "metadata": {
    "collapsed": false,
    "papermill": {
     "duration": 0.076537,
     "end_time": "2020-11-29T23:27:20.685030",
     "exception": false,
     "start_time": "2020-11-29T23:27:20.608493",
     "status": "completed"
    },
    "tags": []
   },
   "source": [
    "### Publish Results"
   ]
  },
  {
   "cell_type": "code",
   "execution_count": 57,
   "metadata": {
    "collapsed": false,
    "execution": {
     "iopub.execute_input": "2020-11-29T23:27:20.846403Z",
     "iopub.status.busy": "2020-11-29T23:27:20.845642Z",
     "iopub.status.idle": "2020-11-29T23:27:20.848630Z",
     "shell.execute_reply": "2020-11-29T23:27:20.849175Z"
    },
    "papermill": {
     "duration": 0.087339,
     "end_time": "2020-11-29T23:27:20.849475",
     "exception": false,
     "start_time": "2020-11-29T23:27:20.762136",
     "status": "completed"
    },
    "pycharm": {
     "name": "#%%\n"
    },
    "tags": []
   },
   "outputs": [],
   "source": [
    "def get_temporary_image_path() -> str:\n",
    "    return os.path.join(tempfile.gettempdir(), str(uuid.uuid4()) + \".png\")\n",
    "\n",
    "def save_temporary_plot_image(ax):\n",
    "    if isinstance(ax, np.ndarray):\n",
    "        ax = ax[0]\n",
    "    media_path = get_temporary_image_path()\n",
    "    ax.get_figure().savefig(media_path)\n",
    "    return media_path\n",
    "\n",
    "def save_temporary_dataframe_image(df):\n",
    "    import dataframe_image as dfi\n",
    "    media_path = get_temporary_image_path()\n",
    "    dfi.export(df, media_path)\n",
    "    return media_path"
   ]
  },
  {
   "cell_type": "code",
   "execution_count": 58,
   "metadata": {
    "collapsed": false,
    "execution": {
     "iopub.execute_input": "2020-11-29T23:27:21.060012Z",
     "iopub.status.busy": "2020-11-29T23:27:21.048867Z",
     "iopub.status.idle": "2020-11-29T23:27:21.062197Z",
     "shell.execute_reply": "2020-11-29T23:27:21.062641Z"
    },
    "papermill": {
     "duration": 0.124659,
     "end_time": "2020-11-29T23:27:21.062802",
     "exception": false,
     "start_time": "2020-11-29T23:27:20.938143",
     "status": "completed"
    },
    "pycharm": {
     "name": "#%%\n"
    },
    "tags": []
   },
   "outputs": [
    {
     "name": "stderr",
     "output_type": "stream",
     "text": [
      "<ipython-input-58-bd16b454de40>:49: FutureWarning: `item` has been deprecated and will be removed in a future version\n",
      "  extraction_date_result_summary_df.covid_cases.item()\n",
      "<ipython-input-58-bd16b454de40>:51: FutureWarning: `item` has been deprecated and will be removed in a future version\n",
      "  extraction_date_result_summary_df.shared_teks_by_generation_date.item()\n",
      "<ipython-input-58-bd16b454de40>:53: FutureWarning: `item` has been deprecated and will be removed in a future version\n",
      "  extraction_date_result_summary_df.shared_teks_by_upload_date.item()\n",
      "<ipython-input-58-bd16b454de40>:55: FutureWarning: `item` has been deprecated and will be removed in a future version\n",
      "  extraction_date_result_summary_df.shared_diagnoses.item()\n",
      "<ipython-input-58-bd16b454de40>:57: FutureWarning: `item` has been deprecated and will be removed in a future version\n",
      "  extraction_date_result_summary_df.teks_per_shared_diagnosis.item()\n",
      "<ipython-input-58-bd16b454de40>:59: FutureWarning: `item` has been deprecated and will be removed in a future version\n",
      "  extraction_date_result_summary_df.shared_diagnoses_per_covid_case.item()\n"
     ]
    }
   ],
   "source": [
    "github_repository = os.environ.get(\"GITHUB_REPOSITORY\")\n",
    "if github_repository is None:\n",
    "    github_repository = \"pvieito/Radar-STATS\"\n",
    "\n",
    "github_project_base_url = \"https://github.com/\" + github_repository\n",
    "\n",
    "display_formatters = {\n",
    "    display_column_name_mapping[\"teks_per_shared_diagnosis\"]: lambda x: f\"{x:.2f}\",\n",
    "    display_column_name_mapping[\"shared_diagnoses_per_covid_case\"]: lambda x: f\"{x:.2%}\",\n",
    "}\n",
    "daily_summary_table_html = result_summary_with_display_names_df \\\n",
    "    .head(daily_plot_days) \\\n",
    "    .rename_axis(index=display_column_name_mapping) \\\n",
    "    .rename(columns=display_column_name_mapping) \\\n",
    "    .to_html(formatters=display_formatters)\n",
    "multi_backend_summary_table_html = multi_backend_summary_df \\\n",
    "    .head(daily_plot_days) \\\n",
    "    .rename_axis(columns=display_column_name_mapping) \\\n",
    "    .rename(columns=display_column_name_mapping) \\\n",
    "    .rename_axis(index=display_column_name_mapping) \\\n",
    "    .to_html(formatters=display_formatters)\n",
    "\n",
    "def format_multi_backend_cross_sharing_fraction(x):\n",
    "    if pd.isna(x):\n",
    "        return \"-\"\n",
    "    elif round(x * 100, 1) == 0:\n",
    "        return \"\"\n",
    "    else:\n",
    "        return f\"{x:.1%}\"\n",
    "\n",
    "multi_backend_cross_sharing_summary_table_html = multi_backend_cross_sharing_summary_df \\\n",
    "    .rename_axis(columns=display_column_name_mapping) \\\n",
    "    .rename(columns=display_column_name_mapping) \\\n",
    "    .rename_axis(index=display_column_name_mapping) \\\n",
    "    .to_html(\n",
    "        classes=\"table-center\",\n",
    "        formatters=display_formatters,\n",
    "        float_format=format_multi_backend_cross_sharing_fraction)\n",
    "multi_backend_cross_sharing_summary_table_html = \\\n",
    "    multi_backend_cross_sharing_summary_table_html \\\n",
    "        .replace(\"<tr>\",\"<tr style=\\\"text-align: center;\\\">\")\n",
    "\n",
    "extraction_date_result_summary_df = \\\n",
    "    result_summary_df[result_summary_df.index.get_level_values(\"sample_date\") == extraction_date]\n",
    "extraction_date_result_hourly_summary_df = \\\n",
    "    hourly_summary_df[hourly_summary_df.extraction_date_with_hour == extraction_date_with_hour]\n",
    "\n",
    "covid_cases = \\\n",
    "    extraction_date_result_summary_df.covid_cases.item()\n",
    "shared_teks_by_generation_date = \\\n",
    "    extraction_date_result_summary_df.shared_teks_by_generation_date.item()\n",
    "shared_teks_by_upload_date = \\\n",
    "    extraction_date_result_summary_df.shared_teks_by_upload_date.item()\n",
    "shared_diagnoses = \\\n",
    "    extraction_date_result_summary_df.shared_diagnoses.item()\n",
    "teks_per_shared_diagnosis = \\\n",
    "    extraction_date_result_summary_df.teks_per_shared_diagnosis.item()\n",
    "shared_diagnoses_per_covid_case = \\\n",
    "    extraction_date_result_summary_df.shared_diagnoses_per_covid_case.item()\n",
    "\n",
    "shared_teks_by_upload_date_last_hour = \\\n",
    "    extraction_date_result_hourly_summary_df.shared_teks_by_upload_date.sum().astype(int)\n",
    "\n",
    "display_source_regions = \", \".join(report_source_regions)\n",
    "if len(report_source_regions) == 1:\n",
    "    display_brief_source_regions = report_source_regions[0]\n",
    "else:\n",
    "    display_brief_source_regions = f\"{len(report_source_regions)} 🇪🇺\""
   ]
  },
  {
   "cell_type": "code",
   "execution_count": 59,
   "metadata": {
    "execution": {
     "iopub.execute_input": "2020-11-29T23:27:21.222184Z",
     "iopub.status.busy": "2020-11-29T23:27:21.221621Z",
     "iopub.status.idle": "2020-11-29T23:27:33.694787Z",
     "shell.execute_reply": "2020-11-29T23:27:33.695719Z"
    },
    "papermill": {
     "duration": 12.555746,
     "end_time": "2020-11-29T23:27:33.695894",
     "exception": false,
     "start_time": "2020-11-29T23:27:21.140148",
     "status": "completed"
    },
    "pycharm": {
     "name": "#%%\n"
    },
    "tags": []
   },
   "outputs": [],
   "source": [
    "summary_plots_image_path = save_temporary_plot_image(\n",
    "    ax=summary_ax_list)\n",
    "summary_table_image_path = save_temporary_dataframe_image(\n",
    "    df=result_summary_with_display_names_df)\n",
    "hourly_summary_plots_image_path = save_temporary_plot_image(\n",
    "    ax=hourly_summary_ax_list)\n",
    "multi_backend_summary_table_image_path = save_temporary_dataframe_image(\n",
    "    df=multi_backend_summary_df)\n",
    "generation_to_upload_period_pivot_table_image_path = save_temporary_plot_image(\n",
    "    ax=generation_to_upload_period_pivot_table_ax)"
   ]
  },
  {
   "cell_type": "markdown",
   "metadata": {
    "execution": {
     "iopub.execute_input": "2020-09-02T08:20:16.981187Z",
     "iopub.status.busy": "2020-09-02T08:20:16.980584Z",
     "iopub.status.idle": "2020-09-02T08:20:20.068070Z",
     "shell.execute_reply": "2020-09-02T08:20:20.068598Z"
    },
    "papermill": {
     "duration": 0.077195,
     "end_time": "2020-11-29T23:27:33.851245",
     "exception": false,
     "start_time": "2020-11-29T23:27:33.774050",
     "status": "completed"
    },
    "pycharm": {
     "name": "#%% md\n"
    },
    "tags": []
   },
   "source": [
    "### Save Results"
   ]
  },
  {
   "cell_type": "code",
   "execution_count": 60,
   "metadata": {
    "collapsed": false,
    "execution": {
     "iopub.execute_input": "2020-11-29T23:27:34.013836Z",
     "iopub.status.busy": "2020-11-29T23:27:34.013230Z",
     "iopub.status.idle": "2020-11-29T23:27:34.041730Z",
     "shell.execute_reply": "2020-11-29T23:27:34.041202Z"
    },
    "papermill": {
     "duration": 0.113502,
     "end_time": "2020-11-29T23:27:34.041875",
     "exception": false,
     "start_time": "2020-11-29T23:27:33.928373",
     "status": "completed"
    },
    "pycharm": {
     "name": "#%%\n"
    },
    "tags": []
   },
   "outputs": [],
   "source": [
    "report_resources_path_prefix = \"Data/Resources/Current/RadarCOVID-Report-\"\n",
    "result_summary_df.to_csv(\n",
    "    report_resources_path_prefix + \"Summary-Table.csv\")\n",
    "result_summary_df.to_html(\n",
    "    report_resources_path_prefix + \"Summary-Table.html\")\n",
    "hourly_summary_df.to_csv(\n",
    "    report_resources_path_prefix + \"Hourly-Summary-Table.csv\")\n",
    "multi_backend_summary_df.to_csv(\n",
    "    report_resources_path_prefix + \"Multi-Backend-Summary-Table.csv\")\n",
    "multi_backend_cross_sharing_summary_df.to_csv(\n",
    "    report_resources_path_prefix + \"Multi-Backend-Cross-Sharing-Summary-Table.csv\")\n",
    "generation_to_upload_period_pivot_df.to_csv(\n",
    "    report_resources_path_prefix + \"Generation-Upload-Period-Table.csv\")\n",
    "_ = shutil.copyfile(\n",
    "    summary_plots_image_path,\n",
    "    report_resources_path_prefix + \"Summary-Plots.png\")\n",
    "_ = shutil.copyfile(\n",
    "    summary_table_image_path,\n",
    "    report_resources_path_prefix + \"Summary-Table.png\")\n",
    "_ = shutil.copyfile(\n",
    "    hourly_summary_plots_image_path,\n",
    "    report_resources_path_prefix + \"Hourly-Summary-Plots.png\")\n",
    "_ = shutil.copyfile(\n",
    "    multi_backend_summary_table_image_path,\n",
    "    report_resources_path_prefix + \"Multi-Backend-Summary-Table.png\")\n",
    "_ = shutil.copyfile(\n",
    "    generation_to_upload_period_pivot_table_image_path,\n",
    "    report_resources_path_prefix + \"Generation-Upload-Period-Table.png\")"
   ]
  },
  {
   "cell_type": "markdown",
   "metadata": {
    "collapsed": false,
    "papermill": {
     "duration": 0.07756,
     "end_time": "2020-11-29T23:27:34.209178",
     "exception": false,
     "start_time": "2020-11-29T23:27:34.131618",
     "status": "completed"
    },
    "pycharm": {
     "name": "#%% md\n"
    },
    "tags": []
   },
   "source": [
    "### Publish Results as JSON"
   ]
  },
  {
   "cell_type": "code",
   "execution_count": 61,
   "metadata": {
    "execution": {
     "iopub.execute_input": "2020-11-29T23:27:34.385129Z",
     "iopub.status.busy": "2020-11-29T23:27:34.384106Z",
     "iopub.status.idle": "2020-11-29T23:27:34.389640Z",
     "shell.execute_reply": "2020-11-29T23:27:34.389061Z"
    },
    "papermill": {
     "duration": 0.10269,
     "end_time": "2020-11-29T23:27:34.389772",
     "exception": false,
     "start_time": "2020-11-29T23:27:34.287082",
     "status": "completed"
    },
    "pycharm": {
     "name": "#%%\n"
    },
    "tags": []
   },
   "outputs": [],
   "source": [
    "def generate_summary_api_results(df: pd.DataFrame) -> list:\n",
    "    api_df = df.reset_index().copy()\n",
    "    api_df[\"sample_date_string\"] = \\\n",
    "        api_df[\"sample_date\"].dt.strftime(\"%Y-%m-%d\")\n",
    "    api_df[\"source_regions\"] = \\\n",
    "        api_df[\"source_regions\"].apply(lambda x: x.split(\",\"))\n",
    "    return api_df.to_dict(orient=\"records\")\n",
    "\n",
    "summary_api_results = \\\n",
    "    generate_summary_api_results(df=result_summary_df)\n",
    "today_summary_api_results = \\\n",
    "    generate_summary_api_results(df=extraction_date_result_summary_df)[0]\n",
    "\n",
    "summary_results = dict(\n",
    "    backend_identifier=report_backend_identifier,\n",
    "    source_regions=report_source_regions,\n",
    "    extraction_datetime=extraction_datetime,\n",
    "    extraction_date=extraction_date,\n",
    "    extraction_date_with_hour=extraction_date_with_hour,\n",
    "    last_hour=dict(\n",
    "        shared_teks_by_upload_date=shared_teks_by_upload_date_last_hour,\n",
    "        shared_diagnoses=0,\n",
    "    ),\n",
    "    today=today_summary_api_results,\n",
    "    last_7_days=last_7_days_summary,\n",
    "    daily_results=summary_api_results)\n",
    "\n",
    "summary_results = \\\n",
    "    json.loads(pd.Series([summary_results]).to_json(orient=\"records\"))[0]\n",
    "\n",
    "with open(report_resources_path_prefix + \"Summary-Results.json\", \"w\") as f:\n",
    "    json.dump(summary_results, f, indent=4)"
   ]
  },
  {
   "cell_type": "markdown",
   "metadata": {
    "execution": {
     "iopub.execute_input": "2020-09-02T08:20:20.895901Z",
     "iopub.status.busy": "2020-09-02T08:20:20.895301Z",
     "iopub.status.idle": "2020-09-02T08:20:20.942286Z",
     "shell.execute_reply": "2020-09-02T08:20:20.942834Z"
    },
    "papermill": {
     "duration": 0.077028,
     "end_time": "2020-11-29T23:27:34.544014",
     "exception": false,
     "start_time": "2020-11-29T23:27:34.466986",
     "status": "completed"
    },
    "pycharm": {
     "name": "#%% md\n"
    },
    "tags": []
   },
   "source": [
    "### Publish on README"
   ]
  },
  {
   "cell_type": "code",
   "execution_count": 62,
   "metadata": {
    "collapsed": false,
    "execution": {
     "iopub.execute_input": "2020-11-29T23:27:34.706369Z",
     "iopub.status.busy": "2020-11-29T23:27:34.704949Z",
     "iopub.status.idle": "2020-11-29T23:27:34.707022Z",
     "shell.execute_reply": "2020-11-29T23:27:34.707465Z"
    },
    "papermill": {
     "duration": 0.086362,
     "end_time": "2020-11-29T23:27:34.707623",
     "exception": false,
     "start_time": "2020-11-29T23:27:34.621261",
     "status": "completed"
    },
    "pycharm": {
     "name": "#%%\n"
    },
    "tags": []
   },
   "outputs": [],
   "source": [
    "with open(\"Data/Templates/README.md\", \"r\") as f:\n",
    "    readme_contents = f.read()\n",
    "\n",
    "readme_contents = readme_contents.format(\n",
    "    extraction_date_with_hour=extraction_date_with_hour,\n",
    "    github_project_base_url=github_project_base_url,\n",
    "    daily_summary_table_html=daily_summary_table_html,\n",
    "    multi_backend_summary_table_html=multi_backend_summary_table_html,\n",
    "    multi_backend_cross_sharing_summary_table_html=multi_backend_cross_sharing_summary_table_html,\n",
    "    display_source_regions=display_source_regions)\n",
    "\n",
    "with open(\"README.md\", \"w\") as f:\n",
    "    f.write(readme_contents)"
   ]
  },
  {
   "cell_type": "markdown",
   "metadata": {
    "collapsed": false,
    "papermill": {
     "duration": 0.087125,
     "end_time": "2020-11-29T23:27:34.879093",
     "exception": false,
     "start_time": "2020-11-29T23:27:34.791968",
     "status": "completed"
    },
    "pycharm": {
     "name": "#%% md\n"
    },
    "tags": []
   },
   "source": [
    "### Publish on Twitter"
   ]
  },
  {
   "cell_type": "code",
   "execution_count": 63,
   "metadata": {
    "collapsed": false,
    "execution": {
     "iopub.execute_input": "2020-11-29T23:27:35.063029Z",
     "iopub.status.busy": "2020-11-29T23:27:35.062381Z",
     "iopub.status.idle": "2020-11-29T23:27:44.463174Z",
     "shell.execute_reply": "2020-11-29T23:27:44.463630Z"
    },
    "papermill": {
     "duration": 9.494411,
     "end_time": "2020-11-29T23:27:44.463813",
     "exception": false,
     "start_time": "2020-11-29T23:27:34.969402",
     "status": "completed"
    },
    "pycharm": {
     "name": "#%%\n"
    },
    "tags": []
   },
   "outputs": [],
   "source": [
    "enable_share_to_twitter = os.environ.get(\"RADARCOVID_REPORT__ENABLE_PUBLISH_ON_TWITTER\")\n",
    "github_event_name = os.environ.get(\"GITHUB_EVENT_NAME\")\n",
    "\n",
    "if enable_share_to_twitter and github_event_name == \"schedule\" and \\\n",
    "        (shared_teks_by_upload_date_last_hour or not are_today_results_partial):\n",
    "    import tweepy\n",
    "\n",
    "    twitter_api_auth_keys = os.environ[\"RADARCOVID_REPORT__TWITTER_API_AUTH_KEYS\"]\n",
    "    twitter_api_auth_keys = twitter_api_auth_keys.split(\":\")\n",
    "    auth = tweepy.OAuthHandler(twitter_api_auth_keys[0], twitter_api_auth_keys[1])\n",
    "    auth.set_access_token(twitter_api_auth_keys[2], twitter_api_auth_keys[3])\n",
    "\n",
    "    api = tweepy.API(auth)\n",
    "\n",
    "    summary_plots_media = api.media_upload(summary_plots_image_path)\n",
    "    summary_table_media = api.media_upload(summary_table_image_path)\n",
    "    generation_to_upload_period_pivot_table_image_media = api.media_upload(generation_to_upload_period_pivot_table_image_path)\n",
    "    media_ids = [\n",
    "        summary_plots_media.media_id,\n",
    "        summary_table_media.media_id,\n",
    "        generation_to_upload_period_pivot_table_image_media.media_id,\n",
    "    ]\n",
    "\n",
    "    if are_today_results_partial:\n",
    "        today_addendum = \" (Partial)\"\n",
    "    else:\n",
    "        today_addendum = \"\"\n",
    "\n",
    "    status = textwrap.dedent(f\"\"\"\n",
    "        #RadarCOVID – {extraction_date_with_hour}\n",
    "\n",
    "        Source Countries: {display_brief_source_regions}\n",
    "\n",
    "        Today{today_addendum}:\n",
    "        - Uploaded TEKs: {shared_teks_by_upload_date:.0f} ({shared_teks_by_upload_date_last_hour:+d} last hour)\n",
    "        - Shared Diagnoses: ≤{shared_diagnoses:.0f}\n",
    "        - Usage Ratio: ≤{shared_diagnoses_per_covid_case:.2%}\n",
    "\n",
    "        Last 7 Days:\n",
    "        - Shared Diagnoses: ≤{last_7_days_summary[\"shared_diagnoses\"]:.0f}\n",
    "        - Usage Ratio: ≤{last_7_days_summary[\"shared_diagnoses_per_covid_case\"]:.2%}\n",
    "\n",
    "        Info: {github_project_base_url}#documentation\n",
    "        \"\"\")\n",
    "    status = status.encode(encoding=\"utf-8\")\n",
    "    api.update_status(status=status, media_ids=media_ids)"
   ]
  }
 ],
 "metadata": {
  "kernelspec": {
   "display_name": "Python 3",
   "language": "python",
   "name": "python3"
  },
  "language_info": {
   "codemirror_mode": {
    "name": "ipython",
    "version": 3
   },
   "file_extension": ".py",
   "mimetype": "text/x-python",
   "name": "python",
   "nbconvert_exporter": "python",
   "pygments_lexer": "ipython3",
   "version": "3.8.6"
  },
  "papermill": {
   "duration": 451.585895,
   "end_time": "2020-11-29T23:27:47.818512",
   "environment_variables": {},
   "exception": null,
   "input_path": "Notebooks/RadarCOVID-Report/Source/RadarCOVID-Report.ipynb",
   "output_path": "RadarCOVID-Report.ipynb",
   "parameters": {},
   "start_time": "2020-11-29T23:20:16.232617",
   "version": "2.1.3"
  }
 },
 "nbformat": 4,
 "nbformat_minor": 1
}